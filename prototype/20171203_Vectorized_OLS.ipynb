{
 "cells": [
  {
   "cell_type": "markdown",
   "metadata": {},
   "source": [
    "# Computing vectorized OLS\n",
    "Implementing univariate, simple OLS for multiple Y and multiple X without using loop. But uses Einstein summation in Python.\n",
    "\n",
    "The idea is to vectorize the calculation as much as possible. For OLS of $N$ samples looping over $J$ effects and $R$ conditions:\n",
    "\n",
    "$$\\hat{\\beta}_{jr} = (x_j^Tx_j)^{-1}x_j^Ty_r$$\n",
    "$$s(\\hat{\\beta}_{jr}) = \\frac{(x_j^Tx_j)^{-1} (y_r - x_j\\beta_r)^T(y_r - x_j\\beta_r)}{N-2}$$"
   ]
  },
  {
   "cell_type": "markdown",
   "metadata": {},
   "source": [
    "The computation can be vectorized, because:\n",
    "\n",
    "- $x_j^Ty_r$ is in fact each element of matrix $X^TY_{J\\times R}$, which can be computed up-front\n",
    "- The loop over $j$ for $x_j^Tx_j$ can be replaced by Einstein summation notation in `numpy`\n",
    "- $(y_r - x_j\\beta_r)$ is a $N$ vector; the loop over $r$ can again be replaced by Einstein summation. \n",
    "- The above calculation will have to be looped over $j$, which, via Einstein summation will be expanded to a 3D array without the need to loop."
   ]
  },
  {
   "cell_type": "markdown",
   "metadata": {},
   "source": [
    "## Implementation"
   ]
  },
  {
   "cell_type": "code",
   "execution_count": 13,
   "metadata": {},
   "outputs": [],
   "source": [
    "import numpy as np\n",
    "N = 10\n",
    "R = 2\n",
    "J = 3\n",
    "X = np.random.rand(N, J)\n",
    "Y = np.random.rand(N, R)"
   ]
  },
  {
   "cell_type": "markdown",
   "metadata": {},
   "source": [
    "### Expected results"
   ]
  },
  {
   "cell_type": "code",
   "execution_count": 14,
   "metadata": {},
   "outputs": [],
   "source": [
    "from scipy.stats import linregress\n",
    "from sklearn.linear_model import LinearRegression\n",
    "\n",
    "def univariate_simple_regression(X, y, Z=None):\n",
    "    if Z is not None:\n",
    "        model = LinearRegression()\n",
    "        model.fit(Z, y)\n",
    "        y = y - model.predict(Z)\n",
    "    return np.vstack([linregress(x, y) for x in X.T])[:,[0,1,4]]\n",
    "\n",
    "def get_summary_stats(X,Y):\n",
    "    B = np.zeros((X.shape[1], Y.shape[1]))\n",
    "    S = np.zeros((X.shape[1], Y.shape[1]))\n",
    "    for r, y in enumerate(Y.T):\n",
    "        B[:,r], S[:,r] = univariate_simple_regression(X, y)[:,[0,2]].T\n",
    "    return B, S\n",
    "\n",
    "res = get_summary_stats(X, Y)"
   ]
  },
  {
   "cell_type": "markdown",
   "metadata": {},
   "source": [
    "### Compute $\\hat{\\beta}$"
   ]
  },
  {
   "cell_type": "code",
   "execution_count": 3,
   "metadata": {},
   "outputs": [],
   "source": [
    "X -= np.mean(X, axis=0, keepdims=True)\n",
    "Y -= np.mean(Y, axis=0, keepdims=True)\n",
    "XtY = X.T @ Y\n",
    "XtX_vec = np.einsum('ji,ji->i', X, X)\n",
    "Bhat = XtY / XtX_vec[:,np.newaxis]"
   ]
  },
  {
   "cell_type": "code",
   "execution_count": 4,
   "metadata": {},
   "outputs": [
    {
     "data": {
      "text/plain": [
       "array([[ 0.26552071, -0.46715414],\n",
       "       [-0.24884064, -0.10294156],\n",
       "       [ 0.0422749 , -0.05770318]])"
      ]
     },
     "execution_count": 4,
     "metadata": {},
     "output_type": "execute_result"
    }
   ],
   "source": [
    "Bhat"
   ]
  },
  {
   "cell_type": "code",
   "execution_count": 5,
   "metadata": {},
   "outputs": [
    {
     "data": {
      "text/plain": [
       "array([[ 0.26552071, -0.46715414],\n",
       "       [-0.24884064, -0.10294156],\n",
       "       [ 0.0422749 , -0.05770318]])"
      ]
     },
     "execution_count": 5,
     "metadata": {},
     "output_type": "execute_result"
    }
   ],
   "source": [
    "res[0]"
   ]
  },
  {
   "cell_type": "markdown",
   "metadata": {},
   "source": [
    "### Compute $s(\\hat{\\beta})$"
   ]
  },
  {
   "cell_type": "code",
   "execution_count": 9,
   "metadata": {},
   "outputs": [],
   "source": [
    "Xr = Y - np.einsum('ij,jk->jik', X, Bhat)\n",
    "Re = np.einsum('ijk,ijk->ik', Xr, Xr)\n",
    "S = np.sqrt(Re / XtX_vec[:,np.newaxis] / (X.shape[0] - 2))"
   ]
  },
  {
   "cell_type": "code",
   "execution_count": 10,
   "metadata": {},
   "outputs": [
    {
     "data": {
      "text/plain": [
       "array([[ 0.48999972,  0.41774897],\n",
       "       [ 0.29072673,  0.27105792],\n",
       "       [ 0.39868505,  0.35864399]])"
      ]
     },
     "execution_count": 10,
     "metadata": {},
     "output_type": "execute_result"
    }
   ],
   "source": [
    "S"
   ]
  },
  {
   "cell_type": "code",
   "execution_count": 11,
   "metadata": {},
   "outputs": [
    {
     "data": {
      "text/plain": [
       "array([[ 0.48999972,  0.41774897],\n",
       "       [ 0.29072673,  0.27105792],\n",
       "       [ 0.39868505,  0.35864399]])"
      ]
     },
     "execution_count": 11,
     "metadata": {},
     "output_type": "execute_result"
    }
   ],
   "source": [
    "res[1]"
   ]
  },
  {
   "cell_type": "markdown",
   "metadata": {},
   "source": [
    "## Putting all together\n"
   ]
  },
  {
   "cell_type": "code",
   "execution_count": 17,
   "metadata": {},
   "outputs": [],
   "source": [
    "from sklearn.linear_model import LinearRegression\n",
    "\n",
    "def get_summary_stats(X, Y, Z=None):\n",
    "    if Z is not None:\n",
    "        model = LinearRegression()\n",
    "        for j in Y.shape[1]:\n",
    "            model.fit(Z, Y[:,j])\n",
    "            Y[:,j] = Y[:,j] - model.predict(Z)\n",
    "    # Compute Bhat\n",
    "    X -= np.mean(X, axis=0, keepdims=True)\n",
    "    Y -= np.mean(Y, axis=0, keepdims=True)\n",
    "    XtY = X.T @ Y\n",
    "    XtX_vec = np.einsum('ji,ji->i', X, X)\n",
    "    Bhat = XtY / XtX_vec[:,np.newaxis]\n",
    "    Xr = Y - np.einsum('ij,jk->jik', X, Bhat)\n",
    "    Re = np.einsum('ijk,ijk->ik', Xr, Xr)\n",
    "    S = np.sqrt(Re / XtX_vec[:,np.newaxis] / (X.shape[0] - 2))\n",
    "    return Bhat, S"
   ]
  },
  {
   "cell_type": "markdown",
   "metadata": {},
   "source": [
    "## Remove covariate"
   ]
  },
  {
   "cell_type": "code",
   "execution_count": 23,
   "metadata": {},
   "outputs": [],
   "source": [
    "N = 10\n",
    "R = 2\n",
    "J = 3\n",
    "Z = np.random.rand(N, J)\n",
    "Y = np.random.rand(N, R)"
   ]
  },
  {
   "cell_type": "code",
   "execution_count": 24,
   "metadata": {},
   "outputs": [],
   "source": [
    "from sklearn.linear_model import LinearRegression\n",
    "model = LinearRegression()\n",
    "res = np.zeros(Y.shape)\n",
    "for j in range(Y.shape[1]):\n",
    "    model.fit(Z, Y[:,j])\n",
    "    res[:,j] = Y[:,j] - model.predict(Z)\n"
   ]
  },
  {
   "cell_type": "code",
   "execution_count": 25,
   "metadata": {},
   "outputs": [
    {
     "data": {
      "text/plain": [
       "array([[ 0.33024609,  0.28229446],\n",
       "       [ 0.1279729 , -0.01895704],\n",
       "       [-0.29096583, -0.41889803],\n",
       "       [ 0.14170275,  0.08245545],\n",
       "       [ 0.02337857, -0.37046396],\n",
       "       [-0.25297135,  0.01756612],\n",
       "       [-0.17662396,  0.19416819],\n",
       "       [ 0.04944676,  0.34255115],\n",
       "       [ 0.21680997, -0.18438358],\n",
       "       [-0.16899589,  0.07366723]])"
      ]
     },
     "execution_count": 25,
     "metadata": {},
     "output_type": "execute_result"
    }
   ],
   "source": [
    "res"
   ]
  },
  {
   "cell_type": "code",
   "execution_count": 29,
   "metadata": {},
   "outputs": [
    {
     "data": {
      "text/plain": [
       "array([[ 0.33024609,  0.28229446],\n",
       "       [ 0.1279729 , -0.01895704],\n",
       "       [-0.29096583, -0.41889803],\n",
       "       [ 0.14170275,  0.08245545],\n",
       "       [ 0.02337857, -0.37046396],\n",
       "       [-0.25297135,  0.01756612],\n",
       "       [-0.17662396,  0.19416819],\n",
       "       [ 0.04944676,  0.34255115],\n",
       "       [ 0.21680997, -0.18438358],\n",
       "       [-0.16899589,  0.07366723]])"
      ]
     },
     "execution_count": 29,
     "metadata": {},
     "output_type": "execute_result"
    }
   ],
   "source": [
    "Y -= np.mean(Y, axis=0, keepdims=True)\n",
    "Z -= np.mean(Z, axis=0, keepdims=True)\n",
    "Y - Z @ (np.linalg.inv(Z.T @ Z) @ Z.T @ Y)"
   ]
  },
  {
   "cell_type": "code",
   "execution_count": 27,
   "metadata": {},
   "outputs": [
    {
     "data": {
      "text/plain": [
       "array([[-0.18256478, -0.26087364,  0.39878093],\n",
       "       [-0.1790025 ,  0.30161771, -0.50320066],\n",
       "       [ 0.06599051, -0.20726922,  0.37074187],\n",
       "       [ 0.11979348,  0.19780406, -0.52429572],\n",
       "       [ 0.00290959,  0.23833352,  0.11410838],\n",
       "       [-0.07929431, -0.33833572, -0.46023757],\n",
       "       [ 0.23755258,  0.14376681, -0.0072283 ],\n",
       "       [ 0.2278818 , -0.07632593,  0.35800175],\n",
       "       [ 0.15537815, -0.26583764,  0.05081791],\n",
       "       [-0.36864452,  0.26712006,  0.2025114 ]])"
      ]
     },
     "execution_count": 27,
     "metadata": {},
     "output_type": "execute_result"
    }
   ],
   "source": [
    "Z"
   ]
  },
  {
   "cell_type": "code",
   "execution_count": 28,
   "metadata": {},
   "outputs": [
    {
     "data": {
      "text/plain": [
       "array([[ 0.44137823,  0.27394396],\n",
       "       [ 0.11838591, -0.11779373],\n",
       "       [-0.28199186, -0.36668192],\n",
       "       [ 0.16912463,  0.08251116],\n",
       "       [-0.26735562, -0.4059477 ],\n",
       "       [ 0.32251763,  0.04559095],\n",
       "       [-0.37493192,  0.23784026],\n",
       "       [-0.10546356,  0.41939242],\n",
       "       [ 0.41515563, -0.09988743],\n",
       "       [-0.43681908, -0.06896796]])"
      ]
     },
     "execution_count": 28,
     "metadata": {},
     "output_type": "execute_result"
    }
   ],
   "source": [
    "Y"
   ]
  }
 ],
 "metadata": {
  "kernelspec": {
   "display_name": "Python 3",
   "language": "python",
   "name": "python3"
  },
  "language_info": {
   "codemirror_mode": {
    "name": "ipython",
    "version": 3
   },
   "file_extension": ".py",
   "mimetype": "text/x-python",
   "name": "python",
   "nbconvert_exporter": "python",
   "pygments_lexer": "ipython3",
   "version": "3.6.1"
  }
 },
 "nbformat": 4,
 "nbformat_minor": 2
}
