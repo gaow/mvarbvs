{
 "cells": [
  {
   "cell_type": "markdown",
   "metadata": {},
   "source": [
    "# Computing vectorized OLS\n",
    "Implementing univariate, simple OLS for multiple Y and multiple X without using loop. But uses Einstein summation in Python.\n",
    "\n",
    "The idea is to vectorize the calculation as much as possible. For OLS of $N$ samples looping over $J$ effects and $R$ conditions:\n",
    "\n",
    "$$\\hat{\\beta}_{jr} = (x_j^Tx_j)^{-1}x_j^Ty_r$$\n",
    "$$s(\\hat{\\beta}_{jr}) = \\frac{(x_j^Tx_j)^{-1} (y_r - x_j\\beta_r)^T(y_r - x_j\\beta_r)}{N-2}$$"
   ]
  },
  {
   "cell_type": "markdown",
   "metadata": {},
   "source": [
    "The computation can be vectorized, because:\n",
    "\n",
    "- $x_j^Ty_r$ is in fact each element of matrix $X^TY_{J\\times R}$, which can be computed up-front\n",
    "- The loop over $j$ for $x_j^Tx_j$ can be replaced by Einstein summation notation in `numpy`\n",
    "- $(y_r - x_j\\beta_r)$ is a $N$ vector; the loop over $r$ can again be replaced by Einstein summation. \n",
    "- The above calculation will have to be looped over $j$, which, via Einstein summation will be expanded to a 3D array without the need to loop."
   ]
  },
  {
   "cell_type": "markdown",
   "metadata": {},
   "source": [
    "## Implementation"
   ]
  },
  {
   "cell_type": "code",
   "execution_count": 13,
   "metadata": {},
   "outputs": [],
   "source": [
    "import numpy as np\n",
    "N = 10\n",
    "R = 2\n",
    "J = 3\n",
    "X = np.random.rand(N, J)\n",
    "Y = np.random.rand(N, R)"
   ]
  },
  {
   "cell_type": "markdown",
   "metadata": {},
   "source": [
    "### Expected results"
   ]
  },
  {
   "cell_type": "code",
   "execution_count": 14,
   "metadata": {},
   "outputs": [],
   "source": [
    "from scipy.stats import linregress\n",
    "from sklearn.linear_model import LinearRegression\n",
    "\n",
    "def univariate_simple_regression(X, y, Z=None):\n",
    "    if Z is not None:\n",
    "        model = LinearRegression()\n",
    "        model.fit(Z, y)\n",
    "        y = y - model.predict(Z)\n",
    "    return np.vstack([linregress(x, y) for x in X.T])[:,[0,1,4]]\n",
    "\n",
    "def get_summary_stats(X,Y):\n",
    "    B = np.zeros((X.shape[1], Y.shape[1]))\n",
    "    S = np.zeros((X.shape[1], Y.shape[1]))\n",
    "    for r, y in enumerate(Y.T):\n",
    "        B[:,r], S[:,r] = univariate_simple_regression(X, y)[:,[0,2]].T\n",
    "    return B, S\n",
    "\n",
    "res = get_summary_stats(X, Y)"
   ]
  },
  {
   "cell_type": "markdown",
   "metadata": {},
   "source": [
    "### Compute $\\hat{\\beta}$"
   ]
  },
  {
   "cell_type": "code",
   "execution_count": 3,
   "metadata": {},
   "outputs": [],
   "source": [
    "X -= np.mean(X, axis=0, keepdims=True)\n",
    "Y -= np.mean(Y, axis=0, keepdims=True)\n",
    "XtY = X.T @ Y\n",
    "XtX_vec = np.einsum('ji,ji->i', X, X)\n",
    "Bhat = XtY / XtX_vec[:,np.newaxis]"
   ]
  },
  {
   "cell_type": "code",
   "execution_count": 4,
   "metadata": {},
   "outputs": [
    {
     "data": {
      "text/plain": [
       "array([[ 0.26552071, -0.46715414],\n",
       "       [-0.24884064, -0.10294156],\n",
       "       [ 0.0422749 , -0.05770318]])"
      ]
     },
     "execution_count": 4,
     "metadata": {},
     "output_type": "execute_result"
    }
   ],
   "source": [
    "Bhat"
   ]
  },
  {
   "cell_type": "code",
   "execution_count": 5,
   "metadata": {},
   "outputs": [
    {
     "data": {
      "text/plain": [
       "array([[ 0.26552071, -0.46715414],\n",
       "       [-0.24884064, -0.10294156],\n",
       "       [ 0.0422749 , -0.05770318]])"
      ]
     },
     "execution_count": 5,
     "metadata": {},
     "output_type": "execute_result"
    }
   ],
   "source": [
    "res[0]"
   ]
  },
  {
   "cell_type": "markdown",
   "metadata": {},
   "source": [
    "### Compute $s(\\hat{\\beta})$"
   ]
  },
  {
   "cell_type": "code",
   "execution_count": 9,
   "metadata": {},
   "outputs": [],
   "source": [
    "Xr = Y - np.einsum('ij,jk->jik', X, Bhat)\n",
    "Re = np.einsum('ijk,ijk->ik', Xr, Xr)\n",
    "S = np.sqrt(Re / XtX_vec[:,np.newaxis] / (X.shape[0] - 2))"
   ]
  },
  {
   "cell_type": "code",
   "execution_count": 10,
   "metadata": {},
   "outputs": [
    {
     "data": {
      "text/plain": [
       "array([[ 0.48999972,  0.41774897],\n",
       "       [ 0.29072673,  0.27105792],\n",
       "       [ 0.39868505,  0.35864399]])"
      ]
     },
     "execution_count": 10,
     "metadata": {},
     "output_type": "execute_result"
    }
   ],
   "source": [
    "S"
   ]
  },
  {
   "cell_type": "code",
   "execution_count": 11,
   "metadata": {},
   "outputs": [
    {
     "data": {
      "text/plain": [
       "array([[ 0.48999972,  0.41774897],\n",
       "       [ 0.29072673,  0.27105792],\n",
       "       [ 0.39868505,  0.35864399]])"
      ]
     },
     "execution_count": 11,
     "metadata": {},
     "output_type": "execute_result"
    }
   ],
   "source": [
    "res[1]"
   ]
  },
  {
   "cell_type": "markdown",
   "metadata": {},
   "source": [
    "## Putting all together\n"
   ]
  },
  {
   "cell_type": "code",
   "execution_count": 17,
   "metadata": {},
   "outputs": [],
   "source": [
    "from sklearn.linear_model import LinearRegression\n",
    "\n",
    "def get_summary_stats(X, Y, Z=None):\n",
    "    if Z is not None:\n",
    "        model = LinearRegression()\n",
    "        for j in Y.shape[1]:\n",
    "            model.fit(Z, Y[:,j])\n",
    "            Y[:,j] = Y[:,j] - model.predict(Z)\n",
    "    # Compute Bhat\n",
    "    X -= np.mean(X, axis=0, keepdims=True)\n",
    "    Y -= np.mean(Y, axis=0, keepdims=True)\n",
    "    XtY = X.T @ Y\n",
    "    XtX_vec = np.einsum('ji,ji->i', X, X)\n",
    "    Bhat = XtY / XtX_vec[:,np.newaxis]\n",
    "    Xr = Y - np.einsum('ij,jk->jik', X, Bhat)\n",
    "    Re = np.einsum('ijk,ijk->ik', Xr, Xr)\n",
    "    S = np.sqrt(Re / XtX_vec[:,np.newaxis] / (X.shape[0] - 2))\n",
    "    return Bhat, S"
   ]
  }
 ],
 "metadata": {
  "kernelspec": {
   "display_name": "Python 3",
   "language": "python",
   "name": "python3"
  },
  "language_info": {
   "codemirror_mode": {
    "name": "ipython",
    "version": 3
   },
   "file_extension": ".py",
   "mimetype": "text/x-python",
   "name": "python",
   "nbconvert_exporter": "python",
   "pygments_lexer": "ipython3",
   "version": "3.6.1"
  }
 },
 "nbformat": 4,
 "nbformat_minor": 2
}
