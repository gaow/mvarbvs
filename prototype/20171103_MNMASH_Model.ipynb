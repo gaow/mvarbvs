{
 "cells": [
  {
   "cell_type": "markdown",
   "metadata": {},
   "source": [
    "# Prototype of VEM in M&M ASH model\n",
    "This is the VEM part of M&M ASH model."
   ]
  },
  {
   "cell_type": "code",
   "execution_count": 1,
   "metadata": {
    "kernel": "R",
    "scrolled": true
   },
   "outputs": [
    {
     "name": "stdout",
     "output_type": "stream",
     "text": [
      "List of 2\n",
      " $ Y:'data.frame':\t698 obs. of  2 variables:\n",
      "  ..$ Thyroid: num [1:698] 0.163 0.436 -0.212 0.327 -0.698 ...\n",
      "  ..$ Lung   : num [1:698] 0.77011 0.77799 -0.65361 0.00672 -0.36792 ...\n",
      " $ X: num [1:698, 1:7492] 1 0 0 0 0 1 1 0 1 1 ...\n",
      "  ..- attr(*, \"dimnames\")=List of 2\n",
      "  .. ..$ : chr [1:698] \"GTEX-111CU\" \"GTEX-111FC\" \"GTEX-111VG\" \"GTEX-111YS\" ...\n",
      "  .. ..$ : chr [1:7492] \"chr1_170185243_G_A_b38\" \"chr1_170185272_T_C_b38\" \"chr1_170185405_C_A_b38\" \"chr1_170185417_G_A_b38\" ...\n"
     ]
    }
   ],
   "source": [
    "dat = readRDS('/home/gaow/Documents/GTExV8/Thyroid.Lung.FMO2.filled.rds')\n",
    "str(dat)\n",
    "attach(dat)"
   ]
  },
  {
   "cell_type": "code",
   "execution_count": 2,
   "metadata": {
    "kernel": "Python3"
   },
   "outputs": [
    {
     "name": "stderr",
     "output_type": "stream",
     "text": [
      "Loading required package: feather\n"
     ]
    }
   ],
   "source": [
    "%get X Y --from R\n",
    "import numpy as np\n",
    "from scipy.stats import multivariate_normal"
   ]
  },
  {
   "cell_type": "markdown",
   "metadata": {},
   "source": [
    "## Data preview"
   ]
  },
  {
   "cell_type": "code",
   "execution_count": 4,
   "metadata": {
    "kernel": "Python3"
   },
   "outputs": [
    {
     "data": {
      "text/plain": [
       "array([[ 1.,  0.,  0., ...,  0.,  1.,  0.],\n",
       "       [ 0.,  0.,  0., ...,  0.,  1.,  0.],\n",
       "       [ 0.,  1.,  0., ...,  0.,  1.,  0.],\n",
       "       ..., \n",
       "       [ 0.,  0.,  0., ...,  0.,  0.,  0.],\n",
       "       [ 0.,  0.,  0., ...,  0.,  1.,  0.],\n",
       "       [ 0.,  0.,  0., ...,  0.,  1.,  0.]])"
      ]
     },
     "execution_count": 4,
     "metadata": {},
     "output_type": "execute_result"
    }
   ],
   "source": [
    "X"
   ]
  },
  {
   "cell_type": "code",
   "execution_count": 5,
   "metadata": {
    "kernel": "Python3"
   },
   "outputs": [
    {
     "data": {
      "text/html": [
       "<div>\n",
       "<style>\n",
       "    .dataframe thead tr:only-child th {\n",
       "        text-align: right;\n",
       "    }\n",
       "\n",
       "    .dataframe thead th {\n",
       "        text-align: left;\n",
       "    }\n",
       "\n",
       "    .dataframe tbody tr th {\n",
       "        vertical-align: top;\n",
       "    }\n",
       "</style>\n",
       "<table border=\"1\" class=\"dataframe\">\n",
       "  <thead>\n",
       "    <tr style=\"text-align: right;\">\n",
       "      <th></th>\n",
       "      <th>Thyroid</th>\n",
       "      <th>Lung</th>\n",
       "    </tr>\n",
       "  </thead>\n",
       "  <tbody>\n",
       "    <tr>\n",
       "      <th>GTEX-111CU</th>\n",
       "      <td>0.163481</td>\n",
       "      <td>0.770109</td>\n",
       "    </tr>\n",
       "    <tr>\n",
       "      <th>GTEX-111FC</th>\n",
       "      <td>0.435890</td>\n",
       "      <td>0.777987</td>\n",
       "    </tr>\n",
       "    <tr>\n",
       "      <th>GTEX-111VG</th>\n",
       "      <td>-0.212373</td>\n",
       "      <td>-0.653612</td>\n",
       "    </tr>\n",
       "    <tr>\n",
       "      <th>GTEX-111YS</th>\n",
       "      <td>0.326649</td>\n",
       "      <td>0.006720</td>\n",
       "    </tr>\n",
       "    <tr>\n",
       "      <th>GTEX-1122O</th>\n",
       "      <td>-0.697831</td>\n",
       "      <td>-0.367918</td>\n",
       "    </tr>\n",
       "    <tr>\n",
       "      <th>GTEX-1128S</th>\n",
       "      <td>0.840123</td>\n",
       "      <td>-0.097376</td>\n",
       "    </tr>\n",
       "    <tr>\n",
       "      <th>GTEX-113JC</th>\n",
       "      <td>1.286902</td>\n",
       "      <td>-0.003500</td>\n",
       "    </tr>\n",
       "    <tr>\n",
       "      <th>GTEX-117XS</th>\n",
       "      <td>0.115426</td>\n",
       "      <td>-0.003500</td>\n",
       "    </tr>\n",
       "    <tr>\n",
       "      <th>GTEX-117YW</th>\n",
       "      <td>0.763787</td>\n",
       "      <td>-0.300018</td>\n",
       "    </tr>\n",
       "    <tr>\n",
       "      <th>GTEX-117YX</th>\n",
       "      <td>-0.329763</td>\n",
       "      <td>-0.379263</td>\n",
       "    </tr>\n",
       "    <tr>\n",
       "      <th>GTEX-1192W</th>\n",
       "      <td>-1.261713</td>\n",
       "      <td>-0.003500</td>\n",
       "    </tr>\n",
       "    <tr>\n",
       "      <th>GTEX-1192X</th>\n",
       "      <td>0.367501</td>\n",
       "      <td>-0.003500</td>\n",
       "    </tr>\n",
       "    <tr>\n",
       "      <th>GTEX-11DXX</th>\n",
       "      <td>-0.230624</td>\n",
       "      <td>-0.615810</td>\n",
       "    </tr>\n",
       "    <tr>\n",
       "      <th>GTEX-11DXZ</th>\n",
       "      <td>-0.347773</td>\n",
       "      <td>0.279286</td>\n",
       "    </tr>\n",
       "    <tr>\n",
       "      <th>GTEX-11DYG</th>\n",
       "      <td>-0.784153</td>\n",
       "      <td>-0.003500</td>\n",
       "    </tr>\n",
       "    <tr>\n",
       "      <th>GTEX-11DZ1</th>\n",
       "      <td>-0.971088</td>\n",
       "      <td>0.482885</td>\n",
       "    </tr>\n",
       "    <tr>\n",
       "      <th>GTEX-11EI6</th>\n",
       "      <td>0.794758</td>\n",
       "      <td>0.034519</td>\n",
       "    </tr>\n",
       "    <tr>\n",
       "      <th>GTEX-11EM3</th>\n",
       "      <td>0.794064</td>\n",
       "      <td>-0.003500</td>\n",
       "    </tr>\n",
       "    <tr>\n",
       "      <th>GTEX-11EMC</th>\n",
       "      <td>-0.293276</td>\n",
       "      <td>-0.216013</td>\n",
       "    </tr>\n",
       "    <tr>\n",
       "      <th>GTEX-11EQ8</th>\n",
       "      <td>0.274776</td>\n",
       "      <td>-0.003500</td>\n",
       "    </tr>\n",
       "    <tr>\n",
       "      <th>GTEX-11EQ9</th>\n",
       "      <td>0.612856</td>\n",
       "      <td>0.396178</td>\n",
       "    </tr>\n",
       "    <tr>\n",
       "      <th>GTEX-11GS4</th>\n",
       "      <td>0.211817</td>\n",
       "      <td>-0.003500</td>\n",
       "    </tr>\n",
       "    <tr>\n",
       "      <th>GTEX-11GSO</th>\n",
       "      <td>-0.863585</td>\n",
       "      <td>-0.003500</td>\n",
       "    </tr>\n",
       "    <tr>\n",
       "      <th>GTEX-11GSP</th>\n",
       "      <td>0.638634</td>\n",
       "      <td>0.298381</td>\n",
       "    </tr>\n",
       "    <tr>\n",
       "      <th>GTEX-11I78</th>\n",
       "      <td>-0.458265</td>\n",
       "      <td>-0.091678</td>\n",
       "    </tr>\n",
       "    <tr>\n",
       "      <th>GTEX-11LCK</th>\n",
       "      <td>-0.283036</td>\n",
       "      <td>0.262716</td>\n",
       "    </tr>\n",
       "    <tr>\n",
       "      <th>GTEX-11NSD</th>\n",
       "      <td>-0.278449</td>\n",
       "      <td>0.398215</td>\n",
       "    </tr>\n",
       "    <tr>\n",
       "      <th>GTEX-11NUK</th>\n",
       "      <td>0.623526</td>\n",
       "      <td>0.299985</td>\n",
       "    </tr>\n",
       "    <tr>\n",
       "      <th>GTEX-11NV4</th>\n",
       "      <td>0.749063</td>\n",
       "      <td>0.289763</td>\n",
       "    </tr>\n",
       "    <tr>\n",
       "      <th>GTEX-11O72</th>\n",
       "      <td>-0.259990</td>\n",
       "      <td>0.986339</td>\n",
       "    </tr>\n",
       "    <tr>\n",
       "      <th>...</th>\n",
       "      <td>...</td>\n",
       "      <td>...</td>\n",
       "    </tr>\n",
       "    <tr>\n",
       "      <th>GTEX-ZPCL</th>\n",
       "      <td>-0.319525</td>\n",
       "      <td>-0.488463</td>\n",
       "    </tr>\n",
       "    <tr>\n",
       "      <th>GTEX-ZPIC</th>\n",
       "      <td>-0.223450</td>\n",
       "      <td>0.128881</td>\n",
       "    </tr>\n",
       "    <tr>\n",
       "      <th>GTEX-ZPU1</th>\n",
       "      <td>0.853461</td>\n",
       "      <td>0.386288</td>\n",
       "    </tr>\n",
       "    <tr>\n",
       "      <th>GTEX-ZQG8</th>\n",
       "      <td>0.105565</td>\n",
       "      <td>0.267393</td>\n",
       "    </tr>\n",
       "    <tr>\n",
       "      <th>GTEX-ZQUD</th>\n",
       "      <td>1.321537</td>\n",
       "      <td>-0.003500</td>\n",
       "    </tr>\n",
       "    <tr>\n",
       "      <th>GTEX-ZT9W</th>\n",
       "      <td>0.340604</td>\n",
       "      <td>-0.280163</td>\n",
       "    </tr>\n",
       "    <tr>\n",
       "      <th>GTEX-ZT9X</th>\n",
       "      <td>-0.808763</td>\n",
       "      <td>-0.246655</td>\n",
       "    </tr>\n",
       "    <tr>\n",
       "      <th>GTEX-ZTPG</th>\n",
       "      <td>0.759146</td>\n",
       "      <td>-0.055855</td>\n",
       "    </tr>\n",
       "    <tr>\n",
       "      <th>GTEX-ZTSS</th>\n",
       "      <td>-0.501666</td>\n",
       "      <td>-0.003500</td>\n",
       "    </tr>\n",
       "    <tr>\n",
       "      <th>GTEX-ZTTD</th>\n",
       "      <td>0.002792</td>\n",
       "      <td>0.341654</td>\n",
       "    </tr>\n",
       "    <tr>\n",
       "      <th>GTEX-ZTX8</th>\n",
       "      <td>-0.583205</td>\n",
       "      <td>-0.003500</td>\n",
       "    </tr>\n",
       "    <tr>\n",
       "      <th>GTEX-ZUA1</th>\n",
       "      <td>0.379717</td>\n",
       "      <td>-0.086149</td>\n",
       "    </tr>\n",
       "    <tr>\n",
       "      <th>GTEX-ZV6S</th>\n",
       "      <td>-0.217496</td>\n",
       "      <td>-0.003500</td>\n",
       "    </tr>\n",
       "    <tr>\n",
       "      <th>GTEX-ZV7C</th>\n",
       "      <td>-1.032073</td>\n",
       "      <td>-0.003500</td>\n",
       "    </tr>\n",
       "    <tr>\n",
       "      <th>GTEX-ZVP2</th>\n",
       "      <td>0.445676</td>\n",
       "      <td>-0.003500</td>\n",
       "    </tr>\n",
       "    <tr>\n",
       "      <th>GTEX-ZVT3</th>\n",
       "      <td>-0.512887</td>\n",
       "      <td>-0.996713</td>\n",
       "    </tr>\n",
       "    <tr>\n",
       "      <th>GTEX-ZVZP</th>\n",
       "      <td>0.442974</td>\n",
       "      <td>-0.003500</td>\n",
       "    </tr>\n",
       "    <tr>\n",
       "      <th>GTEX-ZVZQ</th>\n",
       "      <td>-0.351389</td>\n",
       "      <td>-0.310656</td>\n",
       "    </tr>\n",
       "    <tr>\n",
       "      <th>GTEX-ZXG5</th>\n",
       "      <td>-0.045835</td>\n",
       "      <td>-0.288240</td>\n",
       "    </tr>\n",
       "    <tr>\n",
       "      <th>GTEX-ZY6K</th>\n",
       "      <td>-0.511296</td>\n",
       "      <td>-0.254282</td>\n",
       "    </tr>\n",
       "    <tr>\n",
       "      <th>GTEX-ZYFC</th>\n",
       "      <td>0.063971</td>\n",
       "      <td>-0.003500</td>\n",
       "    </tr>\n",
       "    <tr>\n",
       "      <th>GTEX-ZYFD</th>\n",
       "      <td>0.238558</td>\n",
       "      <td>-0.003500</td>\n",
       "    </tr>\n",
       "    <tr>\n",
       "      <th>GTEX-ZYFG</th>\n",
       "      <td>-1.175301</td>\n",
       "      <td>-0.094523</td>\n",
       "    </tr>\n",
       "    <tr>\n",
       "      <th>GTEX-ZYT6</th>\n",
       "      <td>0.237067</td>\n",
       "      <td>0.209993</td>\n",
       "    </tr>\n",
       "    <tr>\n",
       "      <th>GTEX-ZYVF</th>\n",
       "      <td>0.988154</td>\n",
       "      <td>0.304596</td>\n",
       "    </tr>\n",
       "    <tr>\n",
       "      <th>GTEX-ZYW4</th>\n",
       "      <td>0.827534</td>\n",
       "      <td>0.562713</td>\n",
       "    </tr>\n",
       "    <tr>\n",
       "      <th>GTEX-ZYY3</th>\n",
       "      <td>0.494182</td>\n",
       "      <td>-0.083043</td>\n",
       "    </tr>\n",
       "    <tr>\n",
       "      <th>GTEX-ZZ64</th>\n",
       "      <td>0.620366</td>\n",
       "      <td>-0.003500</td>\n",
       "    </tr>\n",
       "    <tr>\n",
       "      <th>GTEX-ZZPT</th>\n",
       "      <td>0.002792</td>\n",
       "      <td>-0.054391</td>\n",
       "    </tr>\n",
       "    <tr>\n",
       "      <th>GTEX-ZZPU</th>\n",
       "      <td>-0.146508</td>\n",
       "      <td>0.299353</td>\n",
       "    </tr>\n",
       "  </tbody>\n",
       "</table>\n",
       "<p>698 rows × 2 columns</p>\n",
       "</div>"
      ],
      "text/plain": [
       "             Thyroid      Lung\n",
       "GTEX-111CU  0.163481  0.770109\n",
       "GTEX-111FC  0.435890  0.777987\n",
       "GTEX-111VG -0.212373 -0.653612\n",
       "GTEX-111YS  0.326649  0.006720\n",
       "GTEX-1122O -0.697831 -0.367918\n",
       "GTEX-1128S  0.840123 -0.097376\n",
       "GTEX-113JC  1.286902 -0.003500\n",
       "GTEX-117XS  0.115426 -0.003500\n",
       "GTEX-117YW  0.763787 -0.300018\n",
       "GTEX-117YX -0.329763 -0.379263\n",
       "GTEX-1192W -1.261713 -0.003500\n",
       "GTEX-1192X  0.367501 -0.003500\n",
       "GTEX-11DXX -0.230624 -0.615810\n",
       "GTEX-11DXZ -0.347773  0.279286\n",
       "GTEX-11DYG -0.784153 -0.003500\n",
       "GTEX-11DZ1 -0.971088  0.482885\n",
       "GTEX-11EI6  0.794758  0.034519\n",
       "GTEX-11EM3  0.794064 -0.003500\n",
       "GTEX-11EMC -0.293276 -0.216013\n",
       "GTEX-11EQ8  0.274776 -0.003500\n",
       "GTEX-11EQ9  0.612856  0.396178\n",
       "GTEX-11GS4  0.211817 -0.003500\n",
       "GTEX-11GSO -0.863585 -0.003500\n",
       "GTEX-11GSP  0.638634  0.298381\n",
       "GTEX-11I78 -0.458265 -0.091678\n",
       "GTEX-11LCK -0.283036  0.262716\n",
       "GTEX-11NSD -0.278449  0.398215\n",
       "GTEX-11NUK  0.623526  0.299985\n",
       "GTEX-11NV4  0.749063  0.289763\n",
       "GTEX-11O72 -0.259990  0.986339\n",
       "...              ...       ...\n",
       "GTEX-ZPCL  -0.319525 -0.488463\n",
       "GTEX-ZPIC  -0.223450  0.128881\n",
       "GTEX-ZPU1   0.853461  0.386288\n",
       "GTEX-ZQG8   0.105565  0.267393\n",
       "GTEX-ZQUD   1.321537 -0.003500\n",
       "GTEX-ZT9W   0.340604 -0.280163\n",
       "GTEX-ZT9X  -0.808763 -0.246655\n",
       "GTEX-ZTPG   0.759146 -0.055855\n",
       "GTEX-ZTSS  -0.501666 -0.003500\n",
       "GTEX-ZTTD   0.002792  0.341654\n",
       "GTEX-ZTX8  -0.583205 -0.003500\n",
       "GTEX-ZUA1   0.379717 -0.086149\n",
       "GTEX-ZV6S  -0.217496 -0.003500\n",
       "GTEX-ZV7C  -1.032073 -0.003500\n",
       "GTEX-ZVP2   0.445676 -0.003500\n",
       "GTEX-ZVT3  -0.512887 -0.996713\n",
       "GTEX-ZVZP   0.442974 -0.003500\n",
       "GTEX-ZVZQ  -0.351389 -0.310656\n",
       "GTEX-ZXG5  -0.045835 -0.288240\n",
       "GTEX-ZY6K  -0.511296 -0.254282\n",
       "GTEX-ZYFC   0.063971 -0.003500\n",
       "GTEX-ZYFD   0.238558 -0.003500\n",
       "GTEX-ZYFG  -1.175301 -0.094523\n",
       "GTEX-ZYT6   0.237067  0.209993\n",
       "GTEX-ZYVF   0.988154  0.304596\n",
       "GTEX-ZYW4   0.827534  0.562713\n",
       "GTEX-ZYY3   0.494182 -0.083043\n",
       "GTEX-ZZ64   0.620366 -0.003500\n",
       "GTEX-ZZPT   0.002792 -0.054391\n",
       "GTEX-ZZPU  -0.146508  0.299353\n",
       "\n",
       "[698 rows x 2 columns]"
      ]
     },
     "execution_count": 5,
     "metadata": {},
     "output_type": "execute_result"
    }
   ],
   "source": [
    "Y"
   ]
  },
  {
   "cell_type": "markdown",
   "metadata": {},
   "source": [
    "## Initial values\n",
    "\n",
    "We need to initialize M&M model with effect size estimates and a version of MASH results. We can use:\n",
    "\n",
    "1. LD-convoluted effect estimate for mash model, to learn $\\pi_t$ corresponding to $V_t$\n",
    "2. Use multivariate LASSO to get the ordering of initialization of $X$, and initial $X$ values"
   ]
  },
  {
   "cell_type": "markdown",
   "metadata": {},
   "source": [
    "### Multivariate LASSO \n",
    "For initialization of effects.\n",
    "FIXME: not working yet."
   ]
  },
  {
   "cell_type": "code",
   "execution_count": null,
   "metadata": {
    "kernel": "Python3"
   },
   "outputs": [
    {
     "name": "stderr",
     "output_type": "stream",
     "text": [
      "Keyboard Interrupt\n"
     ]
    }
   ],
   "source": [
    "from sklearn import linear_model\n",
    "import numpy as np\n",
    "model = linear_model.lasso_path(X, Y, 0.1, fit_intercept = False)"
   ]
  },
  {
   "cell_type": "code",
   "execution_count": null,
   "metadata": {
    "kernel": "Python3"
   },
   "outputs": [],
   "source": [
    "import seaborn as sns\n",
    "import matplotlib.pyplot as plt\n",
    "plt.scatter(model.coef_[0], model.coef_[1], cmap=\"viridis\")\n",
    "ax = plt.gca()\n",
    "plt.show()"
   ]
  },
  {
   "cell_type": "code",
   "execution_count": null,
   "metadata": {
    "kernel": "Python3"
   },
   "outputs": [],
   "source": [
    "max(model.coef_[1])"
   ]
  },
  {
   "cell_type": "markdown",
   "metadata": {},
   "source": [
    "### MASH priors and weights\n",
    "FIXME: not working yet"
   ]
  },
  {
   "cell_type": "markdown",
   "metadata": {},
   "source": [
    "## Core updates"
   ]
  },
  {
   "cell_type": "code",
   "execution_count": 11,
   "metadata": {
    "kernel": "Python3"
   },
   "outputs": [
    {
     "ename": "SyntaxError",
     "evalue": "invalid syntax (<ipython-input-10-d3e5ad819989>, line 25)",
     "output_type": "error",
     "traceback": [
      "\u001b[0;36m  File \u001b[0;32m\"<ipython-input-10-d3e5ad819989>\"\u001b[0;36m, line \u001b[0;32m25\u001b[0m\n\u001b[0;31m    mu[tt,,kk] = Sigma[tt][kk] @ Lambda @ Rx[kk]\u001b[0m\n\u001b[0m          ^\u001b[0m\n\u001b[0;31mSyntaxError\u001b[0m\u001b[0;31m:\u001b[0m invalid syntax\n"
     ]
    }
   ],
   "source": [
    "# X is N by K matrix, X_norm is 1 by K vector of L2 norm of column k's\n",
    "X_norm = np.linalg.norm(X, ord = 2, axis = 0)\n",
    "X_std = X / X_norm\n",
    "if test:\n",
    "    np.testing.assert_array_almost_equal(np.sum(np.square(X_std), axis = 0), np.ones((1, X.shape[1])))\n",
    "# B is M by K matrix\n",
    "R_all = Y - X @ B\n",
    "R = np.ones((X.shape[1], Y.shape[0], Y.shape[1])) * np.nan\n",
    "E = np.ones((Y.shape[1], X.shape[1])) * np.nan\n",
    "Rx = np.ones((Y.shape[1], X.shape[1])) * np.nan\n",
    "wdE = np.ones((len(pi), X.shape[1])) * np.nan\n",
    "# K is number of effects\n",
    "for kk in range(X.shape[1]):\n",
    "    # R[kk] is N x M, where M is number of conditions\n",
    "    R[kk,:,:] = R_all + np.outer(X[:,kk], (B[kk,:].T))\n",
    "    # E[kk] is M x 1\n",
    "    E[:,kk] = (R[kk,:,:].T @ X_std[:,kk]).ravel()\n",
    "    # Rx[kk] is M x 1\n",
    "    Rx[:,kk] = (R[kk,:,:].T @ X[:,kk]).ravel()\n",
    "    for tt in range(len(pi)):\n",
    "        wdE[tt, kk] = multivariate_normal.pdf(E[:,kk], V[tt] + (Lambda * -1) @ (1 / X_norm[kk])) * pi[tt]\n",
    "    wdE_sum = sum(wdE[tt][kk])\n",
    "    for tt in range(t):\n",
    "        # Can be made faster via low-rank approximation\n",
    "        Sigma[tt][kk] = np.linalg.inv(np.diag(V[tt].shape[0]) + V[tt] @ X_norm[kk] @ Lambda) @ V[tt]\n",
    "        mu[tt,,kk] = Sigma[tt][kk] @ Lambda @ Rx[kk]\n",
    "        gamma[kk][tt] = wdE[tt][kk] / wdE_sum\n",
    "    # dot product for weighted sums\n",
    "    B[kk, ] = np.inner(mu[, , kk], gamma[kk])\n",
    "# Recalculate h, a M by M matrix\n",
    "H = np.diag(np.sum([np.sum([gamma[kk][tt] * ((mu[tt,,kk] - B[kk,]) ** 2 + np.diag(Sigma[tt][kk])) for tt in t]) for kk in k]))\n",
    "# Update Lambda\n",
    "Delta = np.diag(R_all.T @ R_all) + H\n",
    "Lambda = X.shape[0] / np.diag(Delta)"
   ]
  },
  {
   "cell_type": "code",
   "execution_count": 6,
   "metadata": {
    "kernel": "Python3"
   },
   "outputs": [],
   "source": [
    "B = np.zeros((X.shape[1], Y.shape[1]))\n",
    "test = 1\n",
    "kk  = 0\n",
    "tt = 0\n",
    "pi = np.array([0.2,0.8])\n",
    "V = np.ones((2, Y.shape[1], Y.shape[1]))\n",
    "Lambda = np.diag(np.ones(Y.shape[1]))"
   ]
  },
  {
   "cell_type": "code",
   "execution_count": 9,
   "metadata": {
    "kernel": "Python3"
   },
   "outputs": [
    {
     "data": {
      "text/plain": [
       "array([-0.33549387, -0.34026178])"
      ]
     },
     "execution_count": 9,
     "metadata": {},
     "output_type": "execute_result"
    }
   ],
   "source": [
    "E[:,kk]"
   ]
  },
  {
   "cell_type": "code",
   "execution_count": 7,
   "metadata": {
    "kernel": "Python3"
   },
   "outputs": [
    {
     "data": {
      "text/plain": [
       "array([[ 0.,  1.],\n",
       "       [ 1.,  0.]])"
      ]
     },
     "execution_count": 7,
     "metadata": {},
     "output_type": "execute_result"
    }
   ],
   "source": [
    "V[tt] + Lambda * -1"
   ]
  },
  {
   "cell_type": "code",
   "execution_count": 10,
   "metadata": {
    "kernel": "Python3"
   },
   "outputs": [
    {
     "ename": "ValueError",
     "evalue": "Array 'mean' must be a vector of length 4.",
     "output_type": "error",
     "traceback": [
      "\u001b[0;31m---------------------------------------------------------------------------\u001b[0m",
      "\u001b[0;31mValueError\u001b[0m                                Traceback (most recent call last)",
      "\u001b[0;32m<ipython-input-9-72fd390654cc>\u001b[0m in \u001b[0;36m<module>\u001b[0;34m()\u001b[0m\n\u001b[0;32m----> 1\u001b[0;31m \u001b[0mmultivariate_normal\u001b[0m\u001b[0;34m.\u001b[0m\u001b[0mpdf\u001b[0m\u001b[0;34m(\u001b[0m\u001b[0mE\u001b[0m\u001b[0;34m[\u001b[0m\u001b[0;34m:\u001b[0m\u001b[0;34m,\u001b[0m\u001b[0mkk\u001b[0m\u001b[0;34m]\u001b[0m\u001b[0;34m,\u001b[0m \u001b[0mV\u001b[0m\u001b[0;34m[\u001b[0m\u001b[0mtt\u001b[0m\u001b[0;34m]\u001b[0m \u001b[0;34m+\u001b[0m \u001b[0mLambda\u001b[0m \u001b[0;34m*\u001b[0m \u001b[0;34m-\u001b[0m\u001b[0;36m1\u001b[0m\u001b[0;34m)\u001b[0m\u001b[0;34m\u001b[0m\u001b[0m\n\u001b[0m",
      "\u001b[0;32m~/Public/miniconda3/lib/python3.6/site-packages/scipy/stats/_multivariate.py\u001b[0m in \u001b[0;36mpdf\u001b[0;34m(self, x, mean, cov, allow_singular)\u001b[0m\n\u001b[1;32m    502\u001b[0m \u001b[0;34m\u001b[0m\u001b[0m\n\u001b[1;32m    503\u001b[0m         \"\"\"\n\u001b[0;32m--> 504\u001b[0;31m         \u001b[0mdim\u001b[0m\u001b[0;34m,\u001b[0m \u001b[0mmean\u001b[0m\u001b[0;34m,\u001b[0m \u001b[0mcov\u001b[0m \u001b[0;34m=\u001b[0m \u001b[0mself\u001b[0m\u001b[0;34m.\u001b[0m\u001b[0m_process_parameters\u001b[0m\u001b[0;34m(\u001b[0m\u001b[0;32mNone\u001b[0m\u001b[0;34m,\u001b[0m \u001b[0mmean\u001b[0m\u001b[0;34m,\u001b[0m \u001b[0mcov\u001b[0m\u001b[0;34m)\u001b[0m\u001b[0;34m\u001b[0m\u001b[0m\n\u001b[0m\u001b[1;32m    505\u001b[0m         \u001b[0mx\u001b[0m \u001b[0;34m=\u001b[0m \u001b[0mself\u001b[0m\u001b[0;34m.\u001b[0m\u001b[0m_process_quantiles\u001b[0m\u001b[0;34m(\u001b[0m\u001b[0mx\u001b[0m\u001b[0;34m,\u001b[0m \u001b[0mdim\u001b[0m\u001b[0;34m)\u001b[0m\u001b[0;34m\u001b[0m\u001b[0m\n\u001b[1;32m    506\u001b[0m         \u001b[0mpsd\u001b[0m \u001b[0;34m=\u001b[0m \u001b[0m_PSD\u001b[0m\u001b[0;34m(\u001b[0m\u001b[0mcov\u001b[0m\u001b[0;34m,\u001b[0m \u001b[0mallow_singular\u001b[0m\u001b[0;34m=\u001b[0m\u001b[0mallow_singular\u001b[0m\u001b[0;34m)\u001b[0m\u001b[0;34m\u001b[0m\u001b[0m\n",
      "\u001b[0;32m~/Public/miniconda3/lib/python3.6/site-packages/scipy/stats/_multivariate.py\u001b[0m in \u001b[0;36m_process_parameters\u001b[0;34m(self, dim, mean, cov)\u001b[0m\n\u001b[1;32m    390\u001b[0m \u001b[0;34m\u001b[0m\u001b[0m\n\u001b[1;32m    391\u001b[0m         \u001b[0;32mif\u001b[0m \u001b[0mmean\u001b[0m\u001b[0;34m.\u001b[0m\u001b[0mndim\u001b[0m \u001b[0;34m!=\u001b[0m \u001b[0;36m1\u001b[0m \u001b[0;32mor\u001b[0m \u001b[0mmean\u001b[0m\u001b[0;34m.\u001b[0m\u001b[0mshape\u001b[0m\u001b[0;34m[\u001b[0m\u001b[0;36m0\u001b[0m\u001b[0;34m]\u001b[0m \u001b[0;34m!=\u001b[0m \u001b[0mdim\u001b[0m\u001b[0;34m:\u001b[0m\u001b[0;34m\u001b[0m\u001b[0m\n\u001b[0;32m--> 392\u001b[0;31m             \u001b[0;32mraise\u001b[0m \u001b[0mValueError\u001b[0m\u001b[0;34m(\u001b[0m\u001b[0;34m\"Array 'mean' must be a vector of length %d.\"\u001b[0m \u001b[0;34m%\u001b[0m \u001b[0mdim\u001b[0m\u001b[0;34m)\u001b[0m\u001b[0;34m\u001b[0m\u001b[0m\n\u001b[0m\u001b[1;32m    393\u001b[0m         \u001b[0;32mif\u001b[0m \u001b[0mcov\u001b[0m\u001b[0;34m.\u001b[0m\u001b[0mndim\u001b[0m \u001b[0;34m==\u001b[0m \u001b[0;36m0\u001b[0m\u001b[0;34m:\u001b[0m\u001b[0;34m\u001b[0m\u001b[0m\n\u001b[1;32m    394\u001b[0m             \u001b[0mcov\u001b[0m \u001b[0;34m=\u001b[0m \u001b[0mcov\u001b[0m \u001b[0;34m*\u001b[0m \u001b[0mnp\u001b[0m\u001b[0;34m.\u001b[0m\u001b[0meye\u001b[0m\u001b[0;34m(\u001b[0m\u001b[0mdim\u001b[0m\u001b[0;34m)\u001b[0m\u001b[0;34m\u001b[0m\u001b[0m\n",
      "\u001b[0;31mValueError\u001b[0m: Array 'mean' must be a vector of length 4."
     ]
    }
   ],
   "source": [
    "multivariate_normal.pdf(E[:,kk], V[tt] + Lambda * -1)"
   ]
  },
  {
   "cell_type": "code",
   "execution_count": null,
   "metadata": {},
   "outputs": [],
   "source": []
  }
 ],
 "metadata": {
  "kernelspec": {
   "display_name": "SoS",
   "language": "sos",
   "name": "sos"
  },
  "language_info": {
   "codemirror_mode": "sos",
   "file_extension": ".sos",
   "mimetype": "text/x-sos",
   "name": "sos",
   "nbconvert_exporter": "sos_notebook.converter.SoS_Exporter",
   "pygments_lexer": "sos"
  },
  "sos": {
   "default_kernel": "Python3",
   "kernels": [
    [
     "Python3",
     "python3",
     "Python3",
     "#FFE771"
    ],
    [
     "R",
     "ir",
     "R",
     "#DCDCDA"
    ],
    [
     "SoS",
     "sos",
     "",
     ""
    ]
   ],
   "panel": {
    "displayed": true,
    "height": "655px",
    "style": "side"
   }
  }
 },
 "nbformat": 4,
 "nbformat_minor": 2
}
