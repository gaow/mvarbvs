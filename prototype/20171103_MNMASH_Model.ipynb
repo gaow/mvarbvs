{
 "cells": [
  {
   "cell_type": "markdown",
   "metadata": {},
   "source": [
    "# Prototype of VEM in M&M ASH model\n",
    "This is the VEM step of M&M ASH model."
   ]
  },
  {
   "cell_type": "markdown",
   "metadata": {},
   "source": [
    "$\\newcommand{\\bs}[1]{\\boldsymbol{#1}}$\n",
    "$\\DeclareMathOperator*{\\diag}{diag}$\n",
    "$\\DeclareMathOperator*{\\cov}{cov}$\n",
    "$\\DeclareMathOperator*{\\rank}{rank}$\n",
    "$\\DeclareMathOperator*{\\var}{var}$\n",
    "$\\DeclareMathOperator*{\\tr}{tr}$\n",
    "$\\DeclareMathOperator*{\\veco}{vec}$\n",
    "$\\DeclareMathOperator*{\\uniform}{\\mathcal{U}niform}$\n",
    "$\\DeclareMathOperator*{\\argmin}{arg\\ min}$\n",
    "$\\DeclareMathOperator*{\\argmax}{arg\\ max}$\n",
    "$\\DeclareMathOperator*{\\N}{N}$\n",
    "$\\DeclareMathOperator*{\\gm}{Gamma}$\n",
    "$\\DeclareMathOperator*{\\dif}{d}$"
   ]
  },
  {
   "cell_type": "markdown",
   "metadata": {},
   "source": [
    "## M&M ASH model\n",
    "\n",
    "We assume the following multivariate, multiple regression model with $N$ samples, $J$ effects and $R$ conditions (and **without covariates, for the time being**)\n",
    "\\begin{align}\n",
    "\\bs{Y}_{N\\times R} = \\bs{X}_{N \\times J}\\bs{B}_{J \\times R} + \\bs{E}_{N \\times R},\n",
    "\\end{align}\n",
    "where\n",
    "\\begin{align}\n",
    "\\bs{E} &\\sim \\N_{N \\times R}(\\bs{0}, \\bs{I}_N, \\bs{\\Lambda}^{-1}),\\\\\n",
    "\\bs{\\Lambda} &= \\diag(\\lambda_1,\\ldots,\\lambda_R).\n",
    "\\end{align}\n",
    "\n",
    "We assume true effects $\\bs{b}_j$ (rows of $\\bs{B}$) are iid with prior distribution of mixtures of multivariate normals\n",
    "\n",
    "$$p(\\bs{b}_j) = \\sum_{t = 0}^T\\pi_t\\N_R(\\bs{b}_j | \\bs{0}, \\bs{V}_t),$$\n",
    "\n",
    "Where the $\\bs{V}_t$'s are $R \\times R$ covariance matrices and the $\\pi_t$'s are their weights.\n",
    "\n",
    "We place Gamma prior on $\\bs{\\Lambda}$\n",
    "\n",
    "$$\\lambda_r \\overset{iid}{\\sim} \\gm(\\alpha, \\beta),$$\n",
    "\n",
    "and set $\\alpha = \\beta = 0$ so that it is equivalent to estimating $\\bs{\\Lambda}$ via maximum likelihood.\n",
    "\n",
    "We can augment the prior of $\\bs{b}_j$ by indicator vector $\\bs{w}_j \\in \\mathbb{R}^T$ for membership of $\\bs{b}_j$ into one of the $T$ mixture groups. The densities involved are\n",
    "\n",
    "\\begin{align}\n",
    "p(\\bs{Y},\\bs{B},\\bs{W},\\bs{\\Lambda}) &= p(\\bs{Y}|\\bs{B}, \\bs{\\Lambda})p(\\bs{B}|\\bs{W})p(\\bs{W})p(\\bs{\\Lambda}), \\\\\n",
    "p(\\bs{Y}|\\bs{B}, \\bs{\\Lambda}) &= N_{N \\times R}(\\bs{X}\\bs{B}, \\bs{I}_N, \\bs{\\Lambda}^{-1}), \\\\\n",
    "p(\\lambda_r|\\alpha,\\beta) &= \\frac{\\beta^{\\alpha}}{\\Gamma(\\alpha)}\\lambda_r^{\\alpha - 1}\\exp\\{-\\beta\\lambda_r\\}, \\\\\n",
    "p(\\bs{b}_j|\\bs{w}_j) &= \\prod_{t = 0}^T\\left[\\N(\\bs{b}_j|\\bs{0},\\bs{V}_t)\\right]^{w_{jt}},\\\\\n",
    "p(\\bs{w}_j) &= \\prod_{t = 0}^{T} \\pi_t^{w_{jt}}.\n",
    "\\end{align}\n",
    "\n",
    "**We assume $V_t$'s and their corresponding $\\pi_t$'s are known. In practice we use `mashr` to estimate these quantities and provide them to M&M.**\n",
    "\n",
    "### Variational approximation to densities\n",
    "\n",
    "We seek a variational approximation based on\n",
    "\n",
    "\\begin{align}\n",
    "q(\\bs{B}, \\bs{W}, \\bs{\\Lambda}) = q(\\bs{\\Lambda})\\prod_{j = 1}^{J}q(\\bs{b}_j,\\bs{w}_j),\n",
    "\\end{align}\n",
    "\n",
    "so that we can maximize over $q$ the following lower bound of the marginal log-likelihood\n",
    "\n",
    "\\begin{align}\n",
    "\\log p(\\bs{Y}) \\geq \\mathcal{L}(q) = \\int q(\\bs{B}, \\bs{W}, \\bs{\\Lambda}) \\log\\left\\{\\frac{p(\\bs{Y},\\bs{B},\\bs{W},\\bs{\\Lambda})}{q(\\bs{B}, \\bs{W}, \\bs{\\Lambda})}\\right\\}\\dif\\bs{B}\\dif\\bs{W}\\dif\\bs{\\Lambda},\n",
    "\\end{align}\n",
    "\n",
    "Gao & Wei have previously developed [a version that assumes $\\Lambda = I_R$](https://github.com/gaow/mvarbvs/blob/master/writeup/identity_cov/mnmash.pdf). This version generalized it to a diagonal matrix with Gamma priors. [David has developed a version](https://www.overleaf.com/11985539jvwgjhrqnrry#/45465793/) that assumes a diagonal plus low rank structure -- the model of that version is a bit different from shown here, and will be prototyped later after this version works.\n",
    "\n",
    "### Core updates\n",
    "\n",
    "The complete derivation of updates are documented elsewhere (in the two PDF write-ups whose links are shown above). Here I document core updates to guide implementation of the algorithm.\n",
    "\n",
    "Let $E[\\bs{R}_{-j}] := \\bs{Y} - \\bs{X}\\bs{\\mu}_{\\bs{B}} + \\bs{x}_j\\bs{\\mu}_{\\bs{B}[j, ]}^{\\intercal}$, then\n",
    "\n",
    "\n",
    "\\begin{align}\n",
    "\\bs{\\xi}_j &= E\\left[\\bs{R}_{-j}\\right]^{\\intercal}\\bs{x}_j\\|\\bs{x}_j\\|^{-2}, \\\\\n",
    "\\bs{\\Sigma}_{jt} &= \\left(\\bs{V}_t^{-1} + \\|\\bs{x}_j\\|^2\\bs{\\Lambda}\\right)^{-1}, \\\\\n",
    "\\bs{\\mu}_{jt} &= \\bs{\\Sigma}_{jt}\\bs{\\Lambda}E\\left[\\bs{R}_{-k}\\right]^{\\intercal}\\bs{x}_j, \\\\\n",
    "\\gamma_{jt} &= \\frac{\\pi_t\\N(\\bs{\\xi}_j|\\bs{0}, \\bs{V}_t + \\bs{\\Lambda}^{-1}\\|\\bs{x}_j\\|^{-2})}{\\sum_{t = 0}^T\\pi_t\\N(\\bs{\\xi}_j|\\bs{0}, \\bs{V}_t + \\bs{\\Lambda}^{-1}\\|\\bs{x}_j\\|^{-2})},\\\\\n",
    "\\bs{\\mu}_{\\bs{B}[j, ]}  &= \\sum_{t = 0}^T \\gamma_{jt}\\bs{\\mu}_{jt}\n",
    "\\end{align}"
   ]
  },
  {
   "cell_type": "code",
   "execution_count": 1,
   "metadata": {
    "kernel": "R",
    "scrolled": true
   },
   "outputs": [
    {
     "name": "stdout",
     "output_type": "stream",
     "text": [
      "List of 2\n",
      " $ Y:'data.frame':\t698 obs. of  2 variables:\n",
      "  ..$ Thyroid: num [1:698] 0.163 0.436 -0.212 0.327 -0.698 ...\n",
      "  ..$ Lung   : num [1:698] 0.77011 0.77799 -0.65361 0.00672 -0.36792 ...\n",
      " $ X: num [1:698, 1:7492] 1 0 0 0 0 1 1 0 1 1 ...\n",
      "  ..- attr(*, \"dimnames\")=List of 2\n",
      "  .. ..$ : chr [1:698] \"GTEX-111CU\" \"GTEX-111FC\" \"GTEX-111VG\" \"GTEX-111YS\" ...\n",
      "  .. ..$ : chr [1:7492] \"chr1_170185243_G_A_b38\" \"chr1_170185272_T_C_b38\" \"chr1_170185405_C_A_b38\" \"chr1_170185417_G_A_b38\" ...\n"
     ]
    }
   ],
   "source": [
    "dat = readRDS('/home/gaow/Documents/GTExV8/Thyroid.Lung.FMO2.filled.rds')\n",
    "str(dat)\n",
    "attach(dat)"
   ]
  },
  {
   "cell_type": "code",
   "execution_count": 2,
   "metadata": {
    "kernel": "Python3"
   },
   "outputs": [
    {
     "name": "stderr",
     "output_type": "stream",
     "text": [
      "Loading required package: feather\n"
     ]
    }
   ],
   "source": [
    "%get X Y --from R\n",
    "import numpy as np\n",
    "from scipy.stats import multivariate_normal"
   ]
  },
  {
   "cell_type": "markdown",
   "metadata": {},
   "source": [
    "## Data preview"
   ]
  },
  {
   "cell_type": "code",
   "execution_count": 4,
   "metadata": {
    "kernel": "Python3"
   },
   "outputs": [
    {
     "data": {
      "text/plain": [
       "array([[ 1.,  0.,  0., ...,  0.,  1.,  0.],\n",
       "       [ 0.,  0.,  0., ...,  0.,  1.,  0.],\n",
       "       [ 0.,  1.,  0., ...,  0.,  1.,  0.],\n",
       "       ..., \n",
       "       [ 0.,  0.,  0., ...,  0.,  0.,  0.],\n",
       "       [ 0.,  0.,  0., ...,  0.,  1.,  0.],\n",
       "       [ 0.,  0.,  0., ...,  0.,  1.,  0.]])"
      ]
     },
     "execution_count": 4,
     "metadata": {},
     "output_type": "execute_result"
    }
   ],
   "source": [
    "X"
   ]
  },
  {
   "cell_type": "code",
   "execution_count": 5,
   "metadata": {
    "kernel": "Python3"
   },
   "outputs": [
    {
     "data": {
      "text/html": [
       "<div>\n",
       "<style>\n",
       "    .dataframe thead tr:only-child th {\n",
       "        text-align: right;\n",
       "    }\n",
       "\n",
       "    .dataframe thead th {\n",
       "        text-align: left;\n",
       "    }\n",
       "\n",
       "    .dataframe tbody tr th {\n",
       "        vertical-align: top;\n",
       "    }\n",
       "</style>\n",
       "<table border=\"1\" class=\"dataframe\">\n",
       "  <thead>\n",
       "    <tr style=\"text-align: right;\">\n",
       "      <th></th>\n",
       "      <th>Thyroid</th>\n",
       "      <th>Lung</th>\n",
       "    </tr>\n",
       "  </thead>\n",
       "  <tbody>\n",
       "    <tr>\n",
       "      <th>GTEX-111CU</th>\n",
       "      <td>0.163481</td>\n",
       "      <td>0.770109</td>\n",
       "    </tr>\n",
       "    <tr>\n",
       "      <th>GTEX-111FC</th>\n",
       "      <td>0.435890</td>\n",
       "      <td>0.777987</td>\n",
       "    </tr>\n",
       "    <tr>\n",
       "      <th>GTEX-111VG</th>\n",
       "      <td>-0.212373</td>\n",
       "      <td>-0.653612</td>\n",
       "    </tr>\n",
       "    <tr>\n",
       "      <th>GTEX-111YS</th>\n",
       "      <td>0.326649</td>\n",
       "      <td>0.006720</td>\n",
       "    </tr>\n",
       "    <tr>\n",
       "      <th>GTEX-1122O</th>\n",
       "      <td>-0.697831</td>\n",
       "      <td>-0.367918</td>\n",
       "    </tr>\n",
       "    <tr>\n",
       "      <th>GTEX-1128S</th>\n",
       "      <td>0.840123</td>\n",
       "      <td>-0.097376</td>\n",
       "    </tr>\n",
       "    <tr>\n",
       "      <th>GTEX-113JC</th>\n",
       "      <td>1.286902</td>\n",
       "      <td>-0.003500</td>\n",
       "    </tr>\n",
       "    <tr>\n",
       "      <th>GTEX-117XS</th>\n",
       "      <td>0.115426</td>\n",
       "      <td>-0.003500</td>\n",
       "    </tr>\n",
       "    <tr>\n",
       "      <th>GTEX-117YW</th>\n",
       "      <td>0.763787</td>\n",
       "      <td>-0.300018</td>\n",
       "    </tr>\n",
       "    <tr>\n",
       "      <th>GTEX-117YX</th>\n",
       "      <td>-0.329763</td>\n",
       "      <td>-0.379263</td>\n",
       "    </tr>\n",
       "    <tr>\n",
       "      <th>GTEX-1192W</th>\n",
       "      <td>-1.261713</td>\n",
       "      <td>-0.003500</td>\n",
       "    </tr>\n",
       "    <tr>\n",
       "      <th>GTEX-1192X</th>\n",
       "      <td>0.367501</td>\n",
       "      <td>-0.003500</td>\n",
       "    </tr>\n",
       "    <tr>\n",
       "      <th>GTEX-11DXX</th>\n",
       "      <td>-0.230624</td>\n",
       "      <td>-0.615810</td>\n",
       "    </tr>\n",
       "    <tr>\n",
       "      <th>GTEX-11DXZ</th>\n",
       "      <td>-0.347773</td>\n",
       "      <td>0.279286</td>\n",
       "    </tr>\n",
       "    <tr>\n",
       "      <th>GTEX-11DYG</th>\n",
       "      <td>-0.784153</td>\n",
       "      <td>-0.003500</td>\n",
       "    </tr>\n",
       "    <tr>\n",
       "      <th>GTEX-11DZ1</th>\n",
       "      <td>-0.971088</td>\n",
       "      <td>0.482885</td>\n",
       "    </tr>\n",
       "    <tr>\n",
       "      <th>GTEX-11EI6</th>\n",
       "      <td>0.794758</td>\n",
       "      <td>0.034519</td>\n",
       "    </tr>\n",
       "    <tr>\n",
       "      <th>GTEX-11EM3</th>\n",
       "      <td>0.794064</td>\n",
       "      <td>-0.003500</td>\n",
       "    </tr>\n",
       "    <tr>\n",
       "      <th>GTEX-11EMC</th>\n",
       "      <td>-0.293276</td>\n",
       "      <td>-0.216013</td>\n",
       "    </tr>\n",
       "    <tr>\n",
       "      <th>GTEX-11EQ8</th>\n",
       "      <td>0.274776</td>\n",
       "      <td>-0.003500</td>\n",
       "    </tr>\n",
       "    <tr>\n",
       "      <th>GTEX-11EQ9</th>\n",
       "      <td>0.612856</td>\n",
       "      <td>0.396178</td>\n",
       "    </tr>\n",
       "    <tr>\n",
       "      <th>GTEX-11GS4</th>\n",
       "      <td>0.211817</td>\n",
       "      <td>-0.003500</td>\n",
       "    </tr>\n",
       "    <tr>\n",
       "      <th>GTEX-11GSO</th>\n",
       "      <td>-0.863585</td>\n",
       "      <td>-0.003500</td>\n",
       "    </tr>\n",
       "    <tr>\n",
       "      <th>GTEX-11GSP</th>\n",
       "      <td>0.638634</td>\n",
       "      <td>0.298381</td>\n",
       "    </tr>\n",
       "    <tr>\n",
       "      <th>GTEX-11I78</th>\n",
       "      <td>-0.458265</td>\n",
       "      <td>-0.091678</td>\n",
       "    </tr>\n",
       "    <tr>\n",
       "      <th>GTEX-11LCK</th>\n",
       "      <td>-0.283036</td>\n",
       "      <td>0.262716</td>\n",
       "    </tr>\n",
       "    <tr>\n",
       "      <th>GTEX-11NSD</th>\n",
       "      <td>-0.278449</td>\n",
       "      <td>0.398215</td>\n",
       "    </tr>\n",
       "    <tr>\n",
       "      <th>GTEX-11NUK</th>\n",
       "      <td>0.623526</td>\n",
       "      <td>0.299985</td>\n",
       "    </tr>\n",
       "    <tr>\n",
       "      <th>GTEX-11NV4</th>\n",
       "      <td>0.749063</td>\n",
       "      <td>0.289763</td>\n",
       "    </tr>\n",
       "    <tr>\n",
       "      <th>GTEX-11O72</th>\n",
       "      <td>-0.259990</td>\n",
       "      <td>0.986339</td>\n",
       "    </tr>\n",
       "    <tr>\n",
       "      <th>...</th>\n",
       "      <td>...</td>\n",
       "      <td>...</td>\n",
       "    </tr>\n",
       "    <tr>\n",
       "      <th>GTEX-ZPCL</th>\n",
       "      <td>-0.319525</td>\n",
       "      <td>-0.488463</td>\n",
       "    </tr>\n",
       "    <tr>\n",
       "      <th>GTEX-ZPIC</th>\n",
       "      <td>-0.223450</td>\n",
       "      <td>0.128881</td>\n",
       "    </tr>\n",
       "    <tr>\n",
       "      <th>GTEX-ZPU1</th>\n",
       "      <td>0.853461</td>\n",
       "      <td>0.386288</td>\n",
       "    </tr>\n",
       "    <tr>\n",
       "      <th>GTEX-ZQG8</th>\n",
       "      <td>0.105565</td>\n",
       "      <td>0.267393</td>\n",
       "    </tr>\n",
       "    <tr>\n",
       "      <th>GTEX-ZQUD</th>\n",
       "      <td>1.321537</td>\n",
       "      <td>-0.003500</td>\n",
       "    </tr>\n",
       "    <tr>\n",
       "      <th>GTEX-ZT9W</th>\n",
       "      <td>0.340604</td>\n",
       "      <td>-0.280163</td>\n",
       "    </tr>\n",
       "    <tr>\n",
       "      <th>GTEX-ZT9X</th>\n",
       "      <td>-0.808763</td>\n",
       "      <td>-0.246655</td>\n",
       "    </tr>\n",
       "    <tr>\n",
       "      <th>GTEX-ZTPG</th>\n",
       "      <td>0.759146</td>\n",
       "      <td>-0.055855</td>\n",
       "    </tr>\n",
       "    <tr>\n",
       "      <th>GTEX-ZTSS</th>\n",
       "      <td>-0.501666</td>\n",
       "      <td>-0.003500</td>\n",
       "    </tr>\n",
       "    <tr>\n",
       "      <th>GTEX-ZTTD</th>\n",
       "      <td>0.002792</td>\n",
       "      <td>0.341654</td>\n",
       "    </tr>\n",
       "    <tr>\n",
       "      <th>GTEX-ZTX8</th>\n",
       "      <td>-0.583205</td>\n",
       "      <td>-0.003500</td>\n",
       "    </tr>\n",
       "    <tr>\n",
       "      <th>GTEX-ZUA1</th>\n",
       "      <td>0.379717</td>\n",
       "      <td>-0.086149</td>\n",
       "    </tr>\n",
       "    <tr>\n",
       "      <th>GTEX-ZV6S</th>\n",
       "      <td>-0.217496</td>\n",
       "      <td>-0.003500</td>\n",
       "    </tr>\n",
       "    <tr>\n",
       "      <th>GTEX-ZV7C</th>\n",
       "      <td>-1.032073</td>\n",
       "      <td>-0.003500</td>\n",
       "    </tr>\n",
       "    <tr>\n",
       "      <th>GTEX-ZVP2</th>\n",
       "      <td>0.445676</td>\n",
       "      <td>-0.003500</td>\n",
       "    </tr>\n",
       "    <tr>\n",
       "      <th>GTEX-ZVT3</th>\n",
       "      <td>-0.512887</td>\n",
       "      <td>-0.996713</td>\n",
       "    </tr>\n",
       "    <tr>\n",
       "      <th>GTEX-ZVZP</th>\n",
       "      <td>0.442974</td>\n",
       "      <td>-0.003500</td>\n",
       "    </tr>\n",
       "    <tr>\n",
       "      <th>GTEX-ZVZQ</th>\n",
       "      <td>-0.351389</td>\n",
       "      <td>-0.310656</td>\n",
       "    </tr>\n",
       "    <tr>\n",
       "      <th>GTEX-ZXG5</th>\n",
       "      <td>-0.045835</td>\n",
       "      <td>-0.288240</td>\n",
       "    </tr>\n",
       "    <tr>\n",
       "      <th>GTEX-ZY6K</th>\n",
       "      <td>-0.511296</td>\n",
       "      <td>-0.254282</td>\n",
       "    </tr>\n",
       "    <tr>\n",
       "      <th>GTEX-ZYFC</th>\n",
       "      <td>0.063971</td>\n",
       "      <td>-0.003500</td>\n",
       "    </tr>\n",
       "    <tr>\n",
       "      <th>GTEX-ZYFD</th>\n",
       "      <td>0.238558</td>\n",
       "      <td>-0.003500</td>\n",
       "    </tr>\n",
       "    <tr>\n",
       "      <th>GTEX-ZYFG</th>\n",
       "      <td>-1.175301</td>\n",
       "      <td>-0.094523</td>\n",
       "    </tr>\n",
       "    <tr>\n",
       "      <th>GTEX-ZYT6</th>\n",
       "      <td>0.237067</td>\n",
       "      <td>0.209993</td>\n",
       "    </tr>\n",
       "    <tr>\n",
       "      <th>GTEX-ZYVF</th>\n",
       "      <td>0.988154</td>\n",
       "      <td>0.304596</td>\n",
       "    </tr>\n",
       "    <tr>\n",
       "      <th>GTEX-ZYW4</th>\n",
       "      <td>0.827534</td>\n",
       "      <td>0.562713</td>\n",
       "    </tr>\n",
       "    <tr>\n",
       "      <th>GTEX-ZYY3</th>\n",
       "      <td>0.494182</td>\n",
       "      <td>-0.083043</td>\n",
       "    </tr>\n",
       "    <tr>\n",
       "      <th>GTEX-ZZ64</th>\n",
       "      <td>0.620366</td>\n",
       "      <td>-0.003500</td>\n",
       "    </tr>\n",
       "    <tr>\n",
       "      <th>GTEX-ZZPT</th>\n",
       "      <td>0.002792</td>\n",
       "      <td>-0.054391</td>\n",
       "    </tr>\n",
       "    <tr>\n",
       "      <th>GTEX-ZZPU</th>\n",
       "      <td>-0.146508</td>\n",
       "      <td>0.299353</td>\n",
       "    </tr>\n",
       "  </tbody>\n",
       "</table>\n",
       "<p>698 rows × 2 columns</p>\n",
       "</div>"
      ],
      "text/plain": [
       "             Thyroid      Lung\n",
       "GTEX-111CU  0.163481  0.770109\n",
       "GTEX-111FC  0.435890  0.777987\n",
       "GTEX-111VG -0.212373 -0.653612\n",
       "GTEX-111YS  0.326649  0.006720\n",
       "GTEX-1122O -0.697831 -0.367918\n",
       "GTEX-1128S  0.840123 -0.097376\n",
       "GTEX-113JC  1.286902 -0.003500\n",
       "GTEX-117XS  0.115426 -0.003500\n",
       "GTEX-117YW  0.763787 -0.300018\n",
       "GTEX-117YX -0.329763 -0.379263\n",
       "GTEX-1192W -1.261713 -0.003500\n",
       "GTEX-1192X  0.367501 -0.003500\n",
       "GTEX-11DXX -0.230624 -0.615810\n",
       "GTEX-11DXZ -0.347773  0.279286\n",
       "GTEX-11DYG -0.784153 -0.003500\n",
       "GTEX-11DZ1 -0.971088  0.482885\n",
       "GTEX-11EI6  0.794758  0.034519\n",
       "GTEX-11EM3  0.794064 -0.003500\n",
       "GTEX-11EMC -0.293276 -0.216013\n",
       "GTEX-11EQ8  0.274776 -0.003500\n",
       "GTEX-11EQ9  0.612856  0.396178\n",
       "GTEX-11GS4  0.211817 -0.003500\n",
       "GTEX-11GSO -0.863585 -0.003500\n",
       "GTEX-11GSP  0.638634  0.298381\n",
       "GTEX-11I78 -0.458265 -0.091678\n",
       "GTEX-11LCK -0.283036  0.262716\n",
       "GTEX-11NSD -0.278449  0.398215\n",
       "GTEX-11NUK  0.623526  0.299985\n",
       "GTEX-11NV4  0.749063  0.289763\n",
       "GTEX-11O72 -0.259990  0.986339\n",
       "...              ...       ...\n",
       "GTEX-ZPCL  -0.319525 -0.488463\n",
       "GTEX-ZPIC  -0.223450  0.128881\n",
       "GTEX-ZPU1   0.853461  0.386288\n",
       "GTEX-ZQG8   0.105565  0.267393\n",
       "GTEX-ZQUD   1.321537 -0.003500\n",
       "GTEX-ZT9W   0.340604 -0.280163\n",
       "GTEX-ZT9X  -0.808763 -0.246655\n",
       "GTEX-ZTPG   0.759146 -0.055855\n",
       "GTEX-ZTSS  -0.501666 -0.003500\n",
       "GTEX-ZTTD   0.002792  0.341654\n",
       "GTEX-ZTX8  -0.583205 -0.003500\n",
       "GTEX-ZUA1   0.379717 -0.086149\n",
       "GTEX-ZV6S  -0.217496 -0.003500\n",
       "GTEX-ZV7C  -1.032073 -0.003500\n",
       "GTEX-ZVP2   0.445676 -0.003500\n",
       "GTEX-ZVT3  -0.512887 -0.996713\n",
       "GTEX-ZVZP   0.442974 -0.003500\n",
       "GTEX-ZVZQ  -0.351389 -0.310656\n",
       "GTEX-ZXG5  -0.045835 -0.288240\n",
       "GTEX-ZY6K  -0.511296 -0.254282\n",
       "GTEX-ZYFC   0.063971 -0.003500\n",
       "GTEX-ZYFD   0.238558 -0.003500\n",
       "GTEX-ZYFG  -1.175301 -0.094523\n",
       "GTEX-ZYT6   0.237067  0.209993\n",
       "GTEX-ZYVF   0.988154  0.304596\n",
       "GTEX-ZYW4   0.827534  0.562713\n",
       "GTEX-ZYY3   0.494182 -0.083043\n",
       "GTEX-ZZ64   0.620366 -0.003500\n",
       "GTEX-ZZPT   0.002792 -0.054391\n",
       "GTEX-ZZPU  -0.146508  0.299353\n",
       "\n",
       "[698 rows x 2 columns]"
      ]
     },
     "execution_count": 5,
     "metadata": {},
     "output_type": "execute_result"
    }
   ],
   "source": [
    "Y"
   ]
  },
  {
   "cell_type": "code",
   "execution_count": 3,
   "metadata": {
    "kernel": "Python3"
   },
   "outputs": [],
   "source": [
    "Y = Y.as_matrix()"
   ]
  },
  {
   "cell_type": "markdown",
   "metadata": {},
   "source": [
    "## Initial values\n",
    "\n",
    "We need to initialize M&M model with effect size estimates and a version of MASH results. We can use:\n",
    "\n",
    "1. LD-convoluted effect estimate for mash model, to learn $\\pi_t$ corresponding to $V_t$\n",
    "2. Use multivariate LASSO to get the ordering of initialization of $X$, and initial $X$ values"
   ]
  },
  {
   "cell_type": "markdown",
   "metadata": {},
   "source": [
    "### Multivariate LASSO \n",
    "For initialization of effects.\n",
    "FIXME: not working yet."
   ]
  },
  {
   "cell_type": "code",
   "execution_count": null,
   "metadata": {
    "kernel": "Python3"
   },
   "outputs": [],
   "source": [
    "from sklearn import linear_model\n",
    "import numpy as np\n",
    "model = linear_model.lasso_path(X, Y, 0.1, fit_intercept = False)"
   ]
  },
  {
   "cell_type": "code",
   "execution_count": null,
   "metadata": {
    "kernel": "Python3"
   },
   "outputs": [],
   "source": [
    "import seaborn as sns\n",
    "import matplotlib.pyplot as plt\n",
    "plt.scatter(model.coef_[0], model.coef_[1], cmap=\"viridis\")\n",
    "ax = plt.gca()\n",
    "plt.show()"
   ]
  },
  {
   "cell_type": "code",
   "execution_count": null,
   "metadata": {
    "kernel": "Python3"
   },
   "outputs": [],
   "source": [
    "max(model.coef_[1])"
   ]
  },
  {
   "cell_type": "markdown",
   "metadata": {},
   "source": [
    "### MASH priors and weights\n",
    "FIXME: not working yet"
   ]
  },
  {
   "cell_type": "markdown",
   "metadata": {},
   "source": [
    "## Initialization"
   ]
  },
  {
   "cell_type": "code",
   "execution_count": 4,
   "metadata": {
    "kernel": "Python3"
   },
   "outputs": [],
   "source": []
  },
  {
   "cell_type": "markdown",
   "metadata": {},
   "source": [
    "## Core updates"
   ]
  },
  {
   "cell_type": "code",
   "execution_count": 128,
   "metadata": {
    "kernel": "Python3"
   },
   "outputs": [],
   "source": [
    "class MNMASH:\n",
    "    def __init__(self, X, Y):\n",
    "        self.X = X\n",
    "        self.Y = Y        \n",
    "        self.B = np.zeros((X.shape[1], Y.shape[1]))\n",
    "        # self.V = np.ones((2, Y.shape[1], Y.shape[1]))\n",
    "        self.V = np.array([np.identity(2)])\n",
    "        self.pi = np.random.uniform(0,1,self.V.shape[0])\n",
    "        self.pi = self.pi / sum(self.pi)\n",
    "        self.Lambda = np.identity(Y.shape[1]))\n",
    "        self.tol = 1E-4\n",
    "        self.debug = 1\n",
    "        self.maxiter = 1\n",
    "        # initialize intermediate variables\n",
    "        self.R = np.ones((self.X.shape[1], self.Y.shape[0], self.Y.shape[1])) * np.nan\n",
    "        self.E = np.ones((self.Y.shape[1], self.X.shape[1])) * np.nan\n",
    "        self.Rx = np.ones((self.Y.shape[1], self.X.shape[1])) * np.nan\n",
    "        self.wdE = np.ones((self.X.shape[1], self.V.shape[0])) * np.nan\n",
    "        self.Sigma = {tt: np.ones((self.X.shape[1], self.Y.shape[1], self.Y.shape[1])) * np.nan for tt in range(self.V.shape[0])}\n",
    "        self.Mu = np.ones((self.X.shape[1], self.Y.shape[1], self.V.shape[0])) * np.nan\n",
    "        self.gamma = np.ones((self.X.shape[1], self.V.shape[0])) * np.nan\n",
    "        # X is N by K matrix, X_norm is 1 by K vector of L2 norm of column k's\n",
    "        self.X_norm = np.linalg.norm(self.X, ord = 2, axis = 0)\n",
    "        if self.debug:\n",
    "            self.X_std = self.X / self.X_norm\n",
    "            np.testing.assert_array_almost_equal(np.sum(np.square(self.X_std), axis = 0), np.ones(self.X.shape[1]))\n",
    "        self.X_norm = np.square(self.X_norm)\n",
    "        self.X_std = self.X / self.X_norm\n",
    "        self.R_all = None\n",
    "        self.H = None\n",
    "        self.Delta = None\n",
    "\n",
    "    def update(self):\n",
    "        '''\n",
    "        core update\n",
    "        '''\n",
    "        iLambda = np.linalg.inv(self.Lambda)\n",
    "        # B is M by K matrix\n",
    "        self.R_all = self.Y - self.X @ self.B\n",
    "        # K is number of effects\n",
    "        for kk in range(self.X.shape[1]):\n",
    "            # R[kk] is N x M, where M is number of conditions\n",
    "            self.R[kk,:,:] = self.R_all + np.outer(self.X[:,kk], (self.B[kk,:].T))\n",
    "            # E[kk] is M x 1\n",
    "            self.E[:,kk] = (self.R[kk,:,:].T @ self.X_std[:,kk]).ravel()\n",
    "            # Rx[kk] is M x 1\n",
    "            self.Rx[:,kk] = (self.R[kk,:,:].T @ self.X[:,kk]).ravel()\n",
    "            for tt in range(self.V.shape[0]):\n",
    "                self.wdE[kk,tt] = multivariate_normal.pdf(self.E[:,kk], np.zeros(self.Y.shape[1]), \\\n",
    "                                                          self.V[tt] + iLambda / self.X_norm[kk]) * self.pi[tt]\n",
    "            wdE_sum = sum(self.wdE[kk,:])\n",
    "            for tt in range(self.V.shape[0]):\n",
    "                # Can be made faster via low-rank approximation\n",
    "                self.Sigma[tt][kk,:,:] = np.linalg.inv(np.identity(self.Y.shape[1]) + self.V[tt] * self.X_norm[kk] @ self.Lambda) @ self.V[tt]\n",
    "                self.Mu[kk,:,tt] = self.Sigma[tt][kk,:,:] @ self.Lambda @ self.Rx[:,kk]\n",
    "                self.gamma[kk,tt] = self.wdE[kk,tt] / wdE_sum\n",
    "            # dot product for weighted sums\n",
    "            self.B[kk,:] = self.Mu[kk,:,:] @ self.gamma[kk,:]\n",
    "        # Recalculate h, a M by M matrix\n",
    "        self.H = np.diag(np.sum([np.sum([self.gamma[kk,tt] * ((self.Mu[kk,:,tt] - self.B[kk,:]) ** 2 + np.diag(self.Sigma[tt][kk,:,:])) for tt in range(self.V.shape[0])], axis = 0) for kk in range(self.X.shape[1])], axis = 0))\n",
    "        # Update Lambda\n",
    "        self.Delta = np.diag(self.R_all.T @ self.R_all) + self.H\n",
    "        self.Lambda = np.diag(self.X.shape[0] / np.diag(self.Delta))\n",
    "\n",
    "    def vem(self):\n",
    "        cnt = 0\n",
    "        while cnt < self.maxiter:\n",
    "            self.update()\n",
    "            cnt += 1"
   ]
  },
  {
   "cell_type": "code",
   "execution_count": 172,
   "metadata": {
    "kernel": "Python3"
   },
   "outputs": [],
   "source": [
    "res = MNMASH(X,Y)"
   ]
  },
  {
   "cell_type": "code",
   "execution_count": 174,
   "metadata": {
    "kernel": "Python3"
   },
   "outputs": [
    {
     "name": "stderr",
     "output_type": "stream",
     "text": [
      "/home/gaow/Public/miniconda3/lib/python3.6/site-packages/ipykernel_launcher.py:55: RuntimeWarning: invalid value encountered in double_scalars\n"
     ]
    }
   ],
   "source": [
    "res.update()"
   ]
  },
  {
   "cell_type": "code",
   "execution_count": 175,
   "metadata": {
    "kernel": "Python3"
   },
   "outputs": [
    {
     "data": {
      "text/plain": [
       "array([[ -105.68247929,    17.97861755,   204.49481699, ...,\n",
       "         -150.96948701,  -616.95091084,  -182.08212114],\n",
       "       [ 5599.28482416,  1402.5326597 ,  2071.44767636, ...,\n",
       "         2153.99886232,  7952.26995702,  2152.01292885]])"
      ]
     },
     "execution_count": 175,
     "metadata": {},
     "output_type": "execute_result"
    }
   ],
   "source": [
    "res.Rx"
   ]
  },
  {
   "cell_type": "code",
   "execution_count": 176,
   "metadata": {
    "kernel": "Python3"
   },
   "outputs": [
    {
     "data": {
      "text/plain": [
       "array([[ 0.16348104,  0.77010917],\n",
       "       [ 0.43588995,  0.77798736],\n",
       "       [-0.21237311, -0.65361193],\n",
       "       ..., \n",
       "       [ 0.62036618, -0.0035004 ],\n",
       "       [ 0.00279156, -0.05439095],\n",
       "       [-0.14650835,  0.29935286]])"
      ]
     },
     "execution_count": 176,
     "metadata": {},
     "output_type": "execute_result"
    }
   ],
   "source": [
    "res.Y"
   ]
  },
  {
   "cell_type": "code",
   "execution_count": 177,
   "metadata": {
    "kernel": "Python3"
   },
   "outputs": [
    {
     "data": {
      "text/plain": [
       "array([[ -0.41189173,   0.29964363,   2.06530046, ...,  -1.55582062,\n",
       "         -1.22096704,  -1.85730112],\n",
       "       [ 21.82290883,  23.37554433,  20.920637  , ...,  22.19810052,\n",
       "         15.73781539,  21.95128224]])"
      ]
     },
     "execution_count": 177,
     "metadata": {},
     "output_type": "execute_result"
    }
   ],
   "source": [
    "res.E"
   ]
  },
  {
   "cell_type": "code",
   "execution_count": 178,
   "metadata": {
    "kernel": "Python3"
   },
   "outputs": [
    {
     "data": {
      "text/plain": [
       "array([[[ -4.8891728 ,  17.50965015],\n",
       "        [-12.53027764,   5.74081502],\n",
       "        [ 35.10013698,  30.31447758],\n",
       "        ..., \n",
       "        [ -7.41623605,  33.55498201],\n",
       "        [-15.46802748,  16.12465266],\n",
       "        [ 13.34749681,  23.83955985]],\n",
       "\n",
       "       [[ -4.86830939,  17.53081006],\n",
       "        [-12.53027764,   5.74081502],\n",
       "        [ 35.03991555,  30.26511094],\n",
       "        ..., \n",
       "        [ -7.41623605,  33.55498201],\n",
       "        [-15.46802748,  16.12465266],\n",
       "        [ 13.34749681,  23.83955985]],\n",
       "\n",
       "       [[ -4.86830939,  17.53081006],\n",
       "        [-12.53027764,   5.74081502],\n",
       "        [ 35.10013698,  30.31447758],\n",
       "        ..., \n",
       "        [ -7.41623605,  33.55498201],\n",
       "        [-15.46802748,  16.12465266],\n",
       "        [ 13.34749681,  23.83955985]],\n",
       "\n",
       "       ..., \n",
       "       [[ -4.86830939,  17.53081006],\n",
       "        [-12.53027764,   5.74081502],\n",
       "        [ 35.10013698,  30.31447758],\n",
       "        ..., \n",
       "        [ -7.41623605,  33.55498201],\n",
       "        [-15.46802748,  16.12465266],\n",
       "        [ 13.34749681,  23.83955985]],\n",
       "\n",
       "       [[ -4.87499065,  17.54718882],\n",
       "        [-12.5369589 ,   5.75719377],\n",
       "        [ 35.09345572,  30.33085633],\n",
       "        ..., \n",
       "        [ -7.41623605,  33.55498201],\n",
       "        [-15.47470874,  16.14103142],\n",
       "        [ 13.34081555,  23.85593861]],\n",
       "\n",
       "       [[ -4.86830939,  17.53081006],\n",
       "        [-12.53027764,   5.74081502],\n",
       "        [ 35.10013698,  30.31447758],\n",
       "        ..., \n",
       "        [ -7.41623605,  33.55498201],\n",
       "        [-15.46802748,  16.12465266],\n",
       "        [ 13.34749681,  23.83955985]]])"
      ]
     },
     "execution_count": 178,
     "metadata": {},
     "output_type": "execute_result"
    }
   ],
   "source": [
    "res.R"
   ]
  },
  {
   "cell_type": "code",
   "execution_count": 179,
   "metadata": {
    "kernel": "Python3"
   },
   "outputs": [
    {
     "data": {
      "text/plain": [
       "array([-0.17460838,  5.72910948])"
      ]
     },
     "execution_count": 179,
     "metadata": {},
     "output_type": "execute_result"
    }
   ],
   "source": [
    "res.Sigma[0][0] @ res.R[0].T @ res.X[:,0]"
   ]
  },
  {
   "cell_type": "code",
   "execution_count": 182,
   "metadata": {
    "kernel": "Python3"
   },
   "outputs": [
    {
     "data": {
      "text/plain": [
       "array([[[ -0.4112112 ],\n",
       "        [ 21.80057994]],\n",
       "\n",
       "       [[  0.29753795],\n",
       "        [ 23.2736074 ]],\n",
       "\n",
       "       [[  2.05648133],\n",
       "        [ 20.86525817]],\n",
       "\n",
       "       ..., \n",
       "       [[ -1.54904212],\n",
       "        [ 22.1381448 ]],\n",
       "\n",
       "       [[ -1.21994188],\n",
       "        [ 15.72963468]],\n",
       "\n",
       "       [[ -1.84929135],\n",
       "        [ 21.89259667]]])"
      ]
     },
     "execution_count": 182,
     "metadata": {},
     "output_type": "execute_result"
    }
   ],
   "source": [
    "res.Mu"
   ]
  },
  {
   "cell_type": "code",
   "execution_count": 136,
   "metadata": {
    "kernel": "Python3"
   },
   "outputs": [
    {
     "data": {
      "text/plain": [
       "array([[ 1.],\n",
       "       [ 1.],\n",
       "       [ 1.],\n",
       "       ..., \n",
       "       [ 1.],\n",
       "       [ 1.],\n",
       "       [ 1.]])"
      ]
     },
     "execution_count": 136,
     "metadata": {},
     "output_type": "execute_result"
    }
   ],
   "source": [
    "res.gamma"
   ]
  },
  {
   "cell_type": "code",
   "execution_count": 137,
   "metadata": {
    "kernel": "Python3"
   },
   "outputs": [
    {
     "data": {
      "text/plain": [
       "array([[ 2.35504843,  0.        ],\n",
       "       [ 0.        ,  3.80523012]])"
      ]
     },
     "execution_count": 137,
     "metadata": {},
     "output_type": "execute_result"
    }
   ],
   "source": [
    "res.Lambda"
   ]
  },
  {
   "cell_type": "code",
   "execution_count": 138,
   "metadata": {
    "kernel": "Python3"
   },
   "outputs": [
    {
     "data": {
      "text/plain": [
       "array([[[-0.02086341],\n",
       "        [-0.02115991]],\n",
       "\n",
       "       [[-0.06022143],\n",
       "        [-0.04936664]],\n",
       "\n",
       "       [[-0.04123255],\n",
       "        [-0.06044189]],\n",
       "\n",
       "       ..., \n",
       "       [[ 0.03684816],\n",
       "        [-0.00270303]],\n",
       "\n",
       "       [[-0.00668126],\n",
       "        [ 0.01637876]],\n",
       "\n",
       "       [[ 0.04042619],\n",
       "        [ 0.00057867]]])"
      ]
     },
     "execution_count": 138,
     "metadata": {},
     "output_type": "execute_result"
    }
   ],
   "source": [
    "res.Mu"
   ]
  },
  {
   "cell_type": "code",
   "execution_count": 139,
   "metadata": {
    "kernel": "Python3",
    "scrolled": true
   },
   "outputs": [
    {
     "data": {
      "text/plain": [
       "array([[-0.02086341, -0.02115991],\n",
       "       [-0.06022143, -0.04936664],\n",
       "       [-0.04123255, -0.06044189],\n",
       "       ..., \n",
       "       [ 0.03684816, -0.00270303],\n",
       "       [-0.00668126,  0.01637876],\n",
       "       [ 0.04042619,  0.00057867]])"
      ]
     },
     "execution_count": 139,
     "metadata": {},
     "output_type": "execute_result"
    }
   ],
   "source": [
    "res.B"
   ]
  },
  {
   "cell_type": "code",
   "execution_count": 140,
   "metadata": {
    "kernel": "Python3"
   },
   "outputs": [
    {
     "data": {
      "text/plain": [
       "array([[ 106.11214038,    0.        ],\n",
       "       [   0.        ,  106.11214038]])"
      ]
     },
     "execution_count": 140,
     "metadata": {},
     "output_type": "execute_result"
    }
   ],
   "source": [
    "res.H"
   ]
  },
  {
   "cell_type": "code",
   "execution_count": 141,
   "metadata": {
    "kernel": "Python3"
   },
   "outputs": [
    {
     "data": {
      "text/plain": [
       "array([[-0.02086341, -0.02115991],\n",
       "       [-0.06022143, -0.04936664],\n",
       "       [-0.04123255, -0.06044189],\n",
       "       ..., \n",
       "       [ 0.03684816, -0.00270303],\n",
       "       [-0.00668126,  0.01637876],\n",
       "       [ 0.04042619,  0.00057867]])"
      ]
     },
     "execution_count": 141,
     "metadata": {},
     "output_type": "execute_result"
    }
   ],
   "source": [
    "res.B"
   ]
  },
  {
   "cell_type": "code",
   "execution_count": 142,
   "metadata": {
    "kernel": "Python3"
   },
   "outputs": [
    {
     "data": {
      "text/plain": [
       "array([[  5.03179042, -16.76070089],\n",
       "       [ 12.96616759,  -4.96282766],\n",
       "       [-35.31251009, -30.96808951],\n",
       "       ..., \n",
       "       [  8.03660223, -33.55848241],\n",
       "       [ 15.47081903, -16.17904361],\n",
       "       [-13.49400516, -23.54020699]])"
      ]
     },
     "execution_count": 142,
     "metadata": {},
     "output_type": "execute_result"
    }
   ],
   "source": [
    "res.X @ res.B"
   ]
  },
  {
   "cell_type": "code",
   "execution_count": 143,
   "metadata": {
    "kernel": "Python3"
   },
   "outputs": [
    {
     "data": {
      "text/plain": [
       "array([[[-0.02086341],\n",
       "        [-0.02115991]],\n",
       "\n",
       "       [[-0.06022143],\n",
       "        [-0.04936664]],\n",
       "\n",
       "       [[-0.04123255],\n",
       "        [-0.06044189]],\n",
       "\n",
       "       ..., \n",
       "       [[ 0.03684816],\n",
       "        [-0.00270303]],\n",
       "\n",
       "       [[-0.00668126],\n",
       "        [ 0.01637876]],\n",
       "\n",
       "       [[ 0.04042619],\n",
       "        [ 0.00057867]]])"
      ]
     },
     "execution_count": 143,
     "metadata": {},
     "output_type": "execute_result"
    }
   ],
   "source": [
    "res.Mu"
   ]
  },
  {
   "cell_type": "code",
   "execution_count": 144,
   "metadata": {
    "kernel": "Python3"
   },
   "outputs": [
    {
     "data": {
      "text/plain": [
       "array([[ -4.86830939,  17.53081006],\n",
       "       [-12.53027764,   5.74081502],\n",
       "       [ 35.10013698,  30.31447758],\n",
       "       ..., \n",
       "       [ -7.41623605,  33.55498201],\n",
       "       [-15.46802748,  16.12465266],\n",
       "       [ 13.34749681,  23.83955985]])"
      ]
     },
     "execution_count": 144,
     "metadata": {},
     "output_type": "execute_result"
    }
   ],
   "source": [
    "res.Y - res.X @ res.B"
   ]
  },
  {
   "cell_type": "code",
   "execution_count": 145,
   "metadata": {
    "kernel": "Python3"
   },
   "outputs": [
    {
     "data": {
      "text/plain": [
       "array([ 1.])"
      ]
     },
     "execution_count": 145,
     "metadata": {},
     "output_type": "execute_result"
    }
   ],
   "source": [
    "res.pi"
   ]
  },
  {
   "cell_type": "code",
   "execution_count": 146,
   "metadata": {
    "kernel": "Python3"
   },
   "outputs": [
    {
     "data": {
      "text/plain": [
       "(698, 7492)"
      ]
     },
     "execution_count": 146,
     "metadata": {},
     "output_type": "execute_result"
    }
   ],
   "source": [
    "res.X.shape"
   ]
  },
  {
   "cell_type": "code",
   "execution_count": 148,
   "metadata": {
    "kernel": "Python3"
   },
   "outputs": [
    {
     "data": {
      "text/plain": [
       "(7492, 2)"
      ]
     },
     "execution_count": 148,
     "metadata": {},
     "output_type": "execute_result"
    }
   ],
   "source": [
    "res.B.shape"
   ]
  },
  {
   "cell_type": "code",
   "execution_count": 149,
   "metadata": {
    "kernel": "Python3"
   },
   "outputs": [
    {
     "data": {
      "text/plain": [
       "array([[ 2.35504843,  0.        ],\n",
       "       [ 0.        ,  3.80523012]])"
      ]
     },
     "execution_count": 149,
     "metadata": {},
     "output_type": "execute_result"
    }
   ],
   "source": [
    "res.Lambda"
   ]
  },
  {
   "cell_type": "code",
   "execution_count": 158,
   "metadata": {
    "kernel": "Python3"
   },
   "outputs": [
    {
     "data": {
      "text/plain": [
       "array([ 256.57829887,   60.        ,   99.01456041, ...,   97.03527832,\n",
       "        505.29693985,   98.03586438])"
      ]
     },
     "execution_count": 158,
     "metadata": {},
     "output_type": "execute_result"
    }
   ],
   "source": [
    "res.X_norm"
   ]
  },
  {
   "cell_type": "code",
   "execution_count": 171,
   "metadata": {
    "kernel": "Python3"
   },
   "outputs": [
    {
     "data": {
      "text/plain": [
       "256.57829886674881"
      ]
     },
     "execution_count": 171,
     "metadata": {},
     "output_type": "execute_result"
    }
   ],
   "source": [
    "np.sum(np.square(res.X[:,0]))"
   ]
  },
  {
   "cell_type": "code",
   "execution_count": 183,
   "metadata": {
    "kernel": "Python3"
   },
   "outputs": [
    {
     "data": {
      "text/plain": [
       "-26.731661026046595"
      ]
     },
     "execution_count": 183,
     "metadata": {},
     "output_type": "execute_result"
    }
   ],
   "source": [
    "np.min(res.Mu)"
   ]
  },
  {
   "cell_type": "code",
   "execution_count": 186,
   "metadata": {
    "kernel": "Python3"
   },
   "outputs": [
    {
     "data": {
      "text/plain": [
       "array([[ -0.4112112 ,  21.80057994],\n",
       "       [  0.29753795,  23.2736074 ],\n",
       "       [  2.05648133,  20.86525817],\n",
       "       ..., \n",
       "       [ -1.54904212,  22.1381448 ],\n",
       "       [ -1.21994188,  15.72963468],\n",
       "       [ -1.84929135,  21.89259667]])"
      ]
     },
     "execution_count": 186,
     "metadata": {},
     "output_type": "execute_result"
    }
   ],
   "source": [
    "res.B"
   ]
  },
  {
   "cell_type": "code",
   "execution_count": 187,
   "metadata": {
    "kernel": "Python3"
   },
   "outputs": [
    {
     "data": {
      "text/plain": [
       "array([[[ -0.4112112 ],\n",
       "        [ 21.80057994]],\n",
       "\n",
       "       [[  0.29753795],\n",
       "        [ 23.2736074 ]],\n",
       "\n",
       "       [[  2.05648133],\n",
       "        [ 20.86525817]],\n",
       "\n",
       "       ..., \n",
       "       [[ -1.54904212],\n",
       "        [ 22.1381448 ]],\n",
       "\n",
       "       [[ -1.21994188],\n",
       "        [ 15.72963468]],\n",
       "\n",
       "       [[ -1.84929135],\n",
       "        [ 21.89259667]]])"
      ]
     },
     "execution_count": 187,
     "metadata": {},
     "output_type": "execute_result"
    }
   ],
   "source": [
    "res.Mu"
   ]
  },
  {
   "cell_type": "code",
   "execution_count": 188,
   "metadata": {
    "kernel": "Python3"
   },
   "outputs": [
    {
     "data": {
      "text/plain": [
       "nan"
      ]
     },
     "execution_count": 188,
     "metadata": {},
     "output_type": "execute_result"
    }
   ],
   "source": [
    "np.min(res.gamma)"
   ]
  },
  {
   "cell_type": "code",
   "execution_count": 190,
   "metadata": {
    "kernel": "Python3"
   },
   "outputs": [
    {
     "data": {
      "text/plain": [
       "-5915.7879239429385"
      ]
     },
     "execution_count": 190,
     "metadata": {},
     "output_type": "execute_result"
    }
   ],
   "source": [
    "np.min(res.Rx)"
   ]
  },
  {
   "cell_type": "code",
   "execution_count": 191,
   "metadata": {
    "kernel": "Python3"
   },
   "outputs": [
    {
     "data": {
      "text/plain": [
       "array([[ nan,   0.],\n",
       "       [  0.,  nan]])"
      ]
     },
     "execution_count": 191,
     "metadata": {},
     "output_type": "execute_result"
    }
   ],
   "source": [
    "res.Lambda"
   ]
  },
  {
   "cell_type": "code",
   "execution_count": 192,
   "metadata": {
    "kernel": "Python3"
   },
   "outputs": [
    {
     "data": {
      "text/plain": [
       "array([[             nan,  468225.13784254],\n",
       "       [ 249377.18134286,              nan]])"
      ]
     },
     "execution_count": 192,
     "metadata": {},
     "output_type": "execute_result"
    }
   ],
   "source": [
    "res.Delta"
   ]
  },
  {
   "cell_type": "code",
   "execution_count": 193,
   "metadata": {
    "kernel": "Python3"
   },
   "outputs": [
    {
     "data": {
      "text/plain": [
       "array([[ nan,   0.],\n",
       "       [  0.,  nan]])"
      ]
     },
     "execution_count": 193,
     "metadata": {},
     "output_type": "execute_result"
    }
   ],
   "source": [
    "res.H"
   ]
  },
  {
   "cell_type": "code",
   "execution_count": 195,
   "metadata": {
    "kernel": "Python3"
   },
   "outputs": [
    {
     "data": {
      "text/plain": [
       "0.0"
      ]
     },
     "execution_count": 195,
     "metadata": {},
     "output_type": "execute_result"
    }
   ],
   "source": [
    "np.min(res.Sigma[0])"
   ]
  }
 ],
 "metadata": {
  "kernelspec": {
   "display_name": "SoS",
   "language": "sos",
   "name": "sos"
  },
  "language_info": {
   "codemirror_mode": "sos",
   "file_extension": ".sos",
   "mimetype": "text/x-sos",
   "name": "sos",
   "nbconvert_exporter": "sos_notebook.converter.SoS_Exporter",
   "pygments_lexer": "sos"
  },
  "sos": {
   "default_kernel": "Python3",
   "kernels": [
    [
     "Python3",
     "python3",
     "Python3",
     "#FFE771"
    ],
    [
     "R",
     "ir",
     "R",
     "#DCDCDA"
    ],
    [
     "SoS",
     "sos",
     "",
     ""
    ]
   ],
   "panel": {
    "displayed": false,
    "height": "655px",
    "style": "side"
   }
  }
 },
 "nbformat": 4,
 "nbformat_minor": 2
}
