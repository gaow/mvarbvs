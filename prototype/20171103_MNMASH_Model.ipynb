{
 "cells": [
  {
   "cell_type": "markdown",
   "metadata": {},
   "source": [
    "# Prototype of VEM in M&M ASH model\n",
    "This is the VEM part of M&M ASH model."
   ]
  },
  {
   "cell_type": "code",
   "execution_count": null,
   "metadata": {
    "kernel": "R",
    "scrolled": true
   },
   "outputs": [],
   "source": [
    "dat = readRDS('/home/gaow/Documents/GTExV8/Thyroid.Lung.FMO2.filled.rds')\n",
    "str(dat)\n",
    "attach(dat)"
   ]
  },
  {
   "cell_type": "code",
   "execution_count": null,
   "metadata": {
    "kernel": "Python3"
   },
   "outputs": [],
   "source": [
    "%get X Y --from R\n",
    "import numpy as np\n",
    "from scipy.stats import multivariate_normal"
   ]
  },
  {
   "cell_type": "markdown",
   "metadata": {},
   "source": [
    "## Data preview"
   ]
  },
  {
   "cell_type": "code",
   "execution_count": null,
   "metadata": {
    "kernel": "Python3"
   },
   "outputs": [],
   "source": [
    "X"
   ]
  },
  {
   "cell_type": "code",
   "execution_count": null,
   "metadata": {
    "kernel": "Python3"
   },
   "outputs": [],
   "source": [
    "Y"
   ]
  },
  {
   "cell_type": "markdown",
   "metadata": {},
   "source": [
    "## Initial values\n",
    "\n",
    "We need to initialize M&M model with effect size estimates and a version of MASH results. We can use:\n",
    "\n",
    "1. LD-convoluted effect estimate for mash model, to learn $\\pi_t$ corresponding to $V_t$\n",
    "2. Use multivariate LASSO to get the ordering of initialization of $X$, and initial $X$ values"
   ]
  },
  {
   "cell_type": "markdown",
   "metadata": {},
   "source": [
    "### Multivariate LASSO \n",
    "For initialization of effects.\n",
    "FIXME: not working yet."
   ]
  },
  {
   "cell_type": "code",
   "execution_count": null,
   "metadata": {
    "kernel": "Python3"
   },
   "outputs": [],
   "source": [
    "from sklearn import linear_model\n",
    "import numpy as np\n",
    "model = linear_model.lasso_path(X, Y, 0.1, fit_intercept = False)"
   ]
  },
  {
   "cell_type": "code",
   "execution_count": null,
   "metadata": {
    "kernel": "Python3"
   },
   "outputs": [],
   "source": [
    "import seaborn as sns\n",
    "import matplotlib.pyplot as plt\n",
    "plt.scatter(model.coef_[0], model.coef_[1], cmap=\"viridis\")\n",
    "ax = plt.gca()\n",
    "plt.show()"
   ]
  },
  {
   "cell_type": "code",
   "execution_count": null,
   "metadata": {
    "kernel": "Python3"
   },
   "outputs": [],
   "source": [
    "max(model.coef_[1])"
   ]
  },
  {
   "cell_type": "markdown",
   "metadata": {},
   "source": [
    "### MASH priors and weights\n",
    "FIXME: not working yet"
   ]
  },
  {
   "cell_type": "markdown",
   "metadata": {},
   "source": [
    "## Initialization"
   ]
  },
  {
   "cell_type": "code",
   "execution_count": null,
   "metadata": {},
   "outputs": [],
   "source": [
    "Y = Y.as_matrix()\n",
    "B = np.zeros((X.shape[1], Y.shape[1])) * np.nan\n",
    "test = 1\n",
    "kk  = 0\n",
    "tt = 0\n",
    "t = 100\n",
    "pi = np.array([0.2,0.8])\n",
    "V = np.ones((2, Y.shape[1], Y.shape[1]))\n",
    "Lambda = np.diag(np.ones(Y.shape[1]))\n",
    "iLambda = np.linalg.inv(Lambda)"
   ]
  },
  {
   "cell_type": "markdown",
   "metadata": {},
   "source": [
    "## Core updates"
   ]
  },
  {
   "cell_type": "code",
   "execution_count": null,
   "metadata": {
    "kernel": "Python3"
   },
   "outputs": [],
   "source": [
    "# X is N by K matrix, X_norm is 1 by K vector of L2 norm of column k's\n",
    "X_norm = np.linalg.norm(X, ord = 2, axis = 0)\n",
    "X_std = X / X_norm\n",
    "if test:\n",
    "    np.testing.assert_array_almost_equal(np.sum(np.square(X_std), axis = 0), np.ones(X.shape[1]))\n",
    "# B is M by K matrix\n",
    "R_all = Y - X @ B\n",
    "R = np.ones((X.shape[1], Y.shape[0], Y.shape[1])) * np.nan\n",
    "E = np.ones((Y.shape[1], X.shape[1])) * np.nan\n",
    "Rx = np.ones((Y.shape[1], X.shape[1])) * np.nan\n",
    "wdE = np.ones((X.shape[1], len(pi))) * np.nan\n",
    "Sigma = {tt: np.ones((X.shape[1], Y.shape[1], Y.shape[1])) * np.nan for tt in range(t)}\n",
    "Mu = np.ones((X.shape[1], Y.shape[1], t)) * np.nan\n",
    "gamma = np.ones((X.shape[1], t)) * np.nan\n",
    "# K is number of effects\n",
    "for kk in range(X.shape[1]):\n",
    "    # R[kk] is N x M, where M is number of conditions\n",
    "    R[kk,:,:] = R_all + np.outer(X[:,kk], (B[kk,:].T))\n",
    "    # E[kk] is M x 1\n",
    "    E[:,kk] = (R[kk,:,:].T @ X_std[:,kk]).ravel()\n",
    "    # Rx[kk] is M x 1\n",
    "    Rx[:,kk] = (R[kk,:,:].T @ X[:,kk]).ravel()\n",
    "    for tt in range(len(pi)):\n",
    "        wdE[kk,tt] = multivariate_normal.pdf(E[:,kk], np.zeros(Y.shape[1]), V[tt] + iLambda / X_norm[kk]) * pi[tt]\n",
    "    wdE_sum = sum(wdE[kk,:])\n",
    "    for tt in range(t):\n",
    "        # Can be made faster via low-rank approximation\n",
    "        Sigma[tt][kk,:,:] = np.linalg.inv(np.identity(Y.shape[1]) + V[tt] * X_norm[kk] @ Lambda) @ V[tt]\n",
    "        Mu[kk,:,tt] = Sigma[tt][kk,:,:] @ Lambda @ Rx[:,kk]\n",
    "        gamma[kk,tt] = wdE[kk,tt] / wdE_sum\n",
    "    # dot product for weighted sums\n",
    "    B[kk,:] = Mu[kk,:,:] @ gamma[kk,:]\n",
    "# Recalculate h, a M by M matrix\n",
    "H = np.diag(np.sum([np.sum([gamma[kk,tt] * ((Mu[kk,:,tt] - B[kk,:]) ** 2 + np.diag(Sigma[tt][kk,:,:])) for tt in range(t)], axis = 0) for kk in range(X.shape[1])], axis = 0))\n",
    "# Update Lambda\n",
    "Delta = np.diag(R_all.T @ R_all) + H\n",
    "Lambda = X.shape[0] / np.diag(Delta)"
   ]
  }
 ],
 "metadata": {
  "kernelspec": {
   "display_name": "SoS",
   "language": "sos",
   "name": "sos"
  },
  "language_info": {
   "codemirror_mode": "sos",
   "file_extension": ".sos",
   "mimetype": "text/x-sos",
   "name": "sos",
   "nbconvert_exporter": "sos_notebook.converter.SoS_Exporter",
   "pygments_lexer": "sos"
  },
  "sos": {
   "default_kernel": "Python3",
   "kernels": [
    [
     "Python3",
     "python3",
     "Python3",
     "#FFE771"
    ],
    [
     "R",
     "ir",
     "R",
     "#DCDCDA"
    ],
    [
     "SoS",
     "sos",
     "",
     ""
    ]
   ],
   "panel": {
    "displayed": true,
    "height": "655px",
    "style": "side"
   }
  }
 },
 "nbformat": 4,
 "nbformat_minor": 2
}
