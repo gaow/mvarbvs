{
 "cells": [
  {
   "cell_type": "markdown",
   "metadata": {},
   "source": [
    "# Prototype of VEM in M&M ASH model\n",
    "This is the VEM step of M&M ASH model."
   ]
  },
  {
   "cell_type": "markdown",
   "metadata": {},
   "source": [
    "$\\newcommand{\\bs}[1]{\\boldsymbol{#1}}$\n",
    "$\\DeclareMathOperator*{\\diag}{diag}$\n",
    "$\\DeclareMathOperator*{\\cov}{cov}$\n",
    "$\\DeclareMathOperator*{\\rank}{rank}$\n",
    "$\\DeclareMathOperator*{\\var}{var}$\n",
    "$\\DeclareMathOperator*{\\tr}{tr}$\n",
    "$\\DeclareMathOperator*{\\veco}{vec}$\n",
    "$\\DeclareMathOperator*{\\uniform}{\\mathcal{U}niform}$\n",
    "$\\DeclareMathOperator*{\\argmin}{arg\\ min}$\n",
    "$\\DeclareMathOperator*{\\argmax}{arg\\ max}$\n",
    "$\\DeclareMathOperator*{\\N}{N}$\n",
    "$\\DeclareMathOperator*{\\gm}{Gamma}$\n",
    "$\\DeclareMathOperator*{\\dif}{d}$"
   ]
  },
  {
   "cell_type": "markdown",
   "metadata": {},
   "source": [
    "## M&M ASH model\n",
    "\n",
    "We assume the following multivariate, multiple regression model with $N$ samples, $J$ effects and $R$ conditions (and **without covariates, for the time being**)\n",
    "\\begin{align}\n",
    "\\bs{Y}_{N\\times R} = \\bs{X}_{N \\times J}\\bs{B}_{J \\times R} + \\bs{E}_{N \\times R},\n",
    "\\end{align}\n",
    "where\n",
    "\\begin{align}\n",
    "\\bs{E} &\\sim \\N_{N \\times R}(\\bs{0}, \\bs{I}_N, \\bs{\\Lambda}^{-1}),\\\\\n",
    "\\bs{\\Lambda} &= \\diag(\\lambda_1,\\ldots,\\lambda_R).\n",
    "\\end{align}\n",
    "\n",
    "We assume true effects $\\bs{b}_j$ (rows of $\\bs{B}$) are iid with prior distribution of mixtures of multivariate normals\n",
    "\n",
    "$$p(\\bs{b}_j) = \\sum_{t = 0}^T\\pi_t\\N_R(\\bs{b}_j | \\bs{0}, \\bs{V}_t),$$\n",
    "\n",
    "Where the $\\bs{V}_t$'s are $R \\times R$ covariance matrices and the $\\pi_t$'s are their weights.\n",
    "\n",
    "We place Gamma prior on $\\bs{\\Lambda}$\n",
    "\n",
    "$$\\lambda_r \\overset{iid}{\\sim} \\gm(\\alpha, \\beta),$$\n",
    "\n",
    "and set $\\alpha = \\beta = 0$ so that it is equivalent to estimating $\\bs{\\Lambda}$ via maximum likelihood.\n",
    "\n",
    "We can augment the prior of $\\bs{b}_j$ by indicator vector $\\bs{\\gamma}_j \\in \\mathbb{R}^T$ for membership of $\\bs{b}_j$ into one of the $T$ mixture groups. The densities involved are\n",
    "\n",
    "\\begin{align}\n",
    "p(\\bs{Y},\\bs{B},\\bs{\\Gamma},\\bs{\\Lambda}) &= p(\\bs{Y}|\\bs{B}, \\bs{\\Lambda})p(\\bs{B}|\\bs{\\Gamma})p(\\bs{\\Gamma})p(\\bs{\\Lambda}), \\\\\n",
    "p(\\bs{Y}|\\bs{B}, \\bs{\\Lambda}) &= N_{N \\times R}(\\bs{X}\\bs{B}, \\bs{I}_N, \\bs{\\Lambda}^{-1}), \\\\\n",
    "p(\\lambda_r|\\alpha,\\beta) &= \\frac{\\beta^{\\alpha}}{\\Gamma(\\alpha)}\\lambda_r^{\\alpha - 1}\\exp\\{-\\beta\\lambda_r\\}, \\\\\n",
    "p(\\bs{b}_j|\\bs{\\gamma}_j) &= \\prod_{t = 0}^T\\left[\\N(\\bs{b}_j|\\bs{0},\\bs{V}_t)\\right]^{\\gamma_{jt}},\\\\\n",
    "p(\\bs{\\gamma}_j) &= \\prod_{t = 0}^{T} \\pi_t^{\\gamma_{jt}}.\n",
    "\\end{align}\n",
    "\n",
    "**We assume $V_t$'s and their corresponding $\\pi_t$'s are known. In practice we use `mashr` to estimate these quantities and provide them to M&M.**\n",
    "\n",
    "### Variational approximation to densities\n",
    "\n",
    "For the posterior of $\\bs{B}$ we seek an independent variational approximation based on\n",
    "\n",
    "\\begin{align}\n",
    "q(\\bs{B}, \\bs{\\Gamma}, \\bs{\\Lambda}) = q(\\bs{\\Lambda})\\prod_{j = 1}^{J}q(\\bs{b}_j,\\bs{\\gamma}_j),\n",
    "\\end{align}\n",
    "\n",
    "so that we can maximize over $q$ the following lower bound of the marginal log-likelihood\n",
    "\n",
    "\\begin{align}\n",
    "\\log p(\\bs{Y}) \\geq \\mathcal{L}(q) = \\int q(\\bs{B}, \\bs{\\Gamma}, \\bs{\\Lambda}) \\log\\left\\{\\frac{p(\\bs{Y},\\bs{B},\\bs{\\Gamma},\\bs{\\Lambda})}{q(\\bs{B}, \\bs{\\Gamma}, \\bs{\\Lambda})}\\right\\}\\dif\\bs{B}\\dif\\bs{\\Gamma}\\dif\\bs{\\Lambda},\n",
    "\\end{align}\n",
    "\n",
    "Gao & Wei have previously developed [a version that assumes $\\Lambda = I_R$](https://github.com/gaow/mvarbvs/blob/master/writeup/identity_cov/mnmash.pdf). This version generalized it to a diagonal matrix with Gamma priors. [David has developed a version](https://www.overleaf.com/11985539jvwgjhrqnrry#/45465793/) that assumes a diagonal plus low rank structure -- the model of that version is a bit different from shown here, and will be prototyped later after this version works.\n",
    "\n",
    "### Core updates\n",
    "\n",
    "The complete derivation of updates are documented elsewhere (in the two PDF write-ups whose links are shown above). Here I document core updates to guide implementation of the algorithm.\n",
    "\n",
    "Let $E[\\bs{R}_{-j}] := \\bs{Y} - \\bs{X}\\bs{\\mu}_{\\bs{B}} + \\bs{x}_j\\bs{\\mu}_{\\bs{B}[j, ]}^{\\intercal}$, then\n",
    "\n",
    "\n",
    "\\begin{align}\n",
    "\\bs{\\xi}_j &= E\\left[\\bs{R}_{-j}\\right]^{\\intercal}\\bs{x}_j\\|\\bs{x}_j\\|^{-2}, \\\\\n",
    "\\bs{\\Sigma}_{jt} &= \\left(\\bs{V}_t^{-1} + \\|\\bs{x}_j\\|^2\\bs{\\Lambda}\\right)^{-1}, \\\\\n",
    "\\bs{\\mu}_{jt} &= \\bs{\\Sigma}_{jt}\\bs{\\Lambda}E\\left[\\bs{R}_{-k}\\right]^{\\intercal}\\bs{x}_j, \\\\\n",
    "w_{jt} &= \\frac{\\pi_t\\N(\\bs{\\xi}_j|\\bs{0}, \\bs{V}_t + \\bs{\\Lambda}^{-1}\\|\\bs{x}_j\\|^{-2})}{\\sum_{t = 0}^T\\pi_t\\N(\\bs{\\xi}_j|\\bs{0}, \\bs{V}_t + \\bs{\\Lambda}^{-1}\\|\\bs{x}_j\\|^{-2})},\\\\\n",
    "\\bs{\\mu}_{\\bs{B}[j, ]}  &= \\sum_{t = 0}^T w_{jt}\\bs{\\mu}_{jt}\n",
    "\\end{align}\n",
    "\n",
    "We update until the lower bound $\\mathcal{L}(q)$ converges.\n",
    "\n",
    "## Initialization\n",
    "\n",
    "* We fit `mashr` with effects learned from univariate analysis to obtain $\\pi_t$ and $V_t$\n",
    "  * For the first round the effects are \"LD-polluted\"\n",
    "* Use multivariate LASSO to get the ordering of $X$ for input. Similar approach has been previousely used with `varbvs`.\n",
    "* We \"stack\" expression data under multiple conditions and impute missing data with mean imputation or `softImpute` for a completed $Y$ matrix.\n",
    "  * This version of the model does not impute missing data in $Y$ in its variational updates although this will be added in next version.\n",
    "* We regress out covariates beforehand\n",
    "  * Same approach taken by Guan & Stephens 2011 yet not Carbonetto & Stephens 2012\n",
    "  * In next version we will preprocess covariates by \"stacking\" them together and perform a low-rank decomposition / imputation. For example for 50 tissues there will be a blocked matrix with a total of over 1000 PEER factors when stacked together, with non-random missing data. We will perform a low rank approximation to hopefully only keep < 50 PEER. We will then control for covariates in the M&M model.\n",
    "  \n",
    "**In this notebook we use a test data set of 2 tissues: Thyroid and Lung. As a first pass we also fix $\\bs{V}$ as a null matrix plus an identity matrix, with weights and $\\pi_0=0.9$.**"
   ]
  },
  {
   "cell_type": "code",
   "execution_count": 1,
   "metadata": {
    "kernel": "R",
    "scrolled": true,
    "tags": [
     "report_output"
    ]
   },
   "outputs": [
    {
     "name": "stdout",
     "output_type": "stream",
     "text": [
      "List of 2\n",
      " $ Y:'data.frame':\t698 obs. of  2 variables:\n",
      "  ..$ Thyroid: num [1:698] 0.163 0.436 -0.212 0.327 -0.698 ...\n",
      "  ..$ Lung   : num [1:698] 0.77011 0.77799 -0.65361 0.00672 -0.36792 ...\n",
      " $ X: num [1:698, 1:7492] 1 0 0 0 0 1 1 0 1 1 ...\n",
      "  ..- attr(*, \"dimnames\")=List of 2\n",
      "  .. ..$ : chr [1:698] \"GTEX-111CU\" \"GTEX-111FC\" \"GTEX-111VG\" \"GTEX-111YS\" ...\n",
      "  .. ..$ : chr [1:7492] \"chr1_170185243_G_A_b38\" \"chr1_170185272_T_C_b38\" \"chr1_170185405_C_A_b38\" \"chr1_170185417_G_A_b38\" ...\n"
     ]
    }
   ],
   "source": [
    "dat = readRDS('/home/gaow/Documents/GTExV8/Thyroid.Lung.FMO2.filled.rds')\n",
    "str(dat)\n",
    "attach(dat)"
   ]
  },
  {
   "cell_type": "code",
   "execution_count": 2,
   "metadata": {
    "kernel": "Python3"
   },
   "outputs": [
    {
     "name": "stderr",
     "output_type": "stream",
     "text": [
      "Loading required package: feather\n"
     ]
    }
   ],
   "source": [
    "%get X Y --from R\n",
    "import numpy as np\n",
    "from scipy.stats import multivariate_normal"
   ]
  },
  {
   "cell_type": "markdown",
   "metadata": {},
   "source": [
    "## Data preview"
   ]
  },
  {
   "cell_type": "code",
   "execution_count": 3,
   "metadata": {
    "kernel": "Python3",
    "tags": [
     "report_output"
    ]
   },
   "outputs": [
    {
     "data": {
      "text/plain": [
       "array([[ 1.,  0.,  0., ...,  0.,  1.,  0.],\n",
       "       [ 0.,  0.,  0., ...,  0.,  1.,  0.],\n",
       "       [ 0.,  1.,  0., ...,  0.,  1.,  0.],\n",
       "       ..., \n",
       "       [ 0.,  0.,  0., ...,  0.,  0.,  0.],\n",
       "       [ 0.,  0.,  0., ...,  0.,  1.,  0.],\n",
       "       [ 0.,  0.,  0., ...,  0.,  1.,  0.]])"
      ]
     },
     "execution_count": 3,
     "metadata": {},
     "output_type": "execute_result"
    }
   ],
   "source": [
    "X"
   ]
  },
  {
   "cell_type": "code",
   "execution_count": 4,
   "metadata": {
    "kernel": "Python3"
   },
   "outputs": [],
   "source": [
    "Y = Y.as_matrix()"
   ]
  },
  {
   "cell_type": "code",
   "execution_count": 5,
   "metadata": {
    "kernel": "Python3",
    "tags": [
     "report_output"
    ]
   },
   "outputs": [
    {
     "data": {
      "text/plain": [
       "array([[ 0.16348104,  0.77010917],\n",
       "       [ 0.43588995,  0.77798736],\n",
       "       [-0.21237311, -0.65361193],\n",
       "       ..., \n",
       "       [ 0.62036618, -0.0035004 ],\n",
       "       [ 0.00279156, -0.05439095],\n",
       "       [-0.14650835,  0.29935286]])"
      ]
     },
     "execution_count": 5,
     "metadata": {},
     "output_type": "execute_result"
    }
   ],
   "source": [
    "Y"
   ]
  },
  {
   "cell_type": "markdown",
   "metadata": {},
   "source": [
    "## Multivariate LASSO \n",
    "For initialization of effects. Here I use implementation via `sklearn`, as documented [here](http://scikit-learn.org/stable/modules/linear_model.html#multi-task-lasso). It is quite slow to compute a proper CV version of LASSO, though."
   ]
  },
  {
   "cell_type": "code",
   "execution_count": 6,
   "metadata": {
    "kernel": "Python3"
   },
   "outputs": [
    {
     "data": {
      "text/plain": [
       "MultiTaskLasso(alpha=0.04, copy_X=True, fit_intercept=False, max_iter=1000,\n",
       "        normalize=False, random_state=None, selection='cyclic', tol=0.0001,\n",
       "        warm_start=False)"
      ]
     },
     "execution_count": 6,
     "metadata": {},
     "output_type": "execute_result"
    }
   ],
   "source": [
    "from sklearn import linear_model\n",
    "import numpy as np\n",
    "# model = linear_model.MultiTaskLassoCV(alphas = [(x+1)/100 for x in range(10)], fit_intercept = False)\n",
    "model = linear_model.MultiTaskLasso(alpha = 0.04, fit_intercept = False)\n",
    "model.fit(X, Y)"
   ]
  },
  {
   "cell_type": "markdown",
   "metadata": {},
   "source": [
    "First feature:"
   ]
  },
  {
   "cell_type": "code",
   "execution_count": 7,
   "metadata": {
    "kernel": "Python3",
    "tags": [
     "report_output"
    ]
   },
   "outputs": [
    {
     "data": {
      "image/png": "[encoded data removed]",
      "text/plain": [
       "<matplotlib.figure.Figure at 0x7f8757000da0>"
      ]
     },
     "metadata": {},
     "output_type": "display_data"
    }
   ],
   "source": [
    "import seaborn as sns\n",
    "import matplotlib.pyplot as plt\n",
    "plt.scatter([x+1 for x in range(len(model.coef_[0]))], model.coef_[0], cmap=\"viridis\")\n",
    "ax = plt.gca()\n",
    "plt.show()"
   ]
  },
  {
   "cell_type": "markdown",
   "metadata": {},
   "source": [
    "Second feature:"
   ]
  },
  {
   "cell_type": "code",
   "execution_count": 8,
   "metadata": {
    "kernel": "Python3",
    "tags": [
     "report_output"
    ]
   },
   "outputs": [
    {
     "data": {
      "image/png": "[encoded data removed]",
      "text/plain": [
       "<matplotlib.figure.Figure at 0x7f876085abe0>"
      ]
     },
     "metadata": {},
     "output_type": "display_data"
    }
   ],
   "source": [
    "plt.scatter([x+1 for x in range(len(model.coef_[1]))], model.coef_[1], cmap=\"viridis\")\n",
    "ax = plt.gca()\n",
    "plt.show()"
   ]
  },
  {
   "cell_type": "markdown",
   "metadata": {},
   "source": [
    "First vs. 2nd feature:"
   ]
  },
  {
   "cell_type": "code",
   "execution_count": 9,
   "metadata": {
    "kernel": "Python3",
    "tags": [
     "report_output"
    ]
   },
   "outputs": [
    {
     "data": {
      "image/png": "[encoded data removed]",
      "text/plain": [
       "<matplotlib.figure.Figure at 0x7f876085a9e8>"
      ]
     },
     "metadata": {},
     "output_type": "display_data"
    }
   ],
   "source": [
    "plt.scatter(model.coef_[0], model.coef_[1], cmap=\"viridis\")\n",
    "ax = plt.gca()\n",
    "plt.show()"
   ]
  },
  {
   "cell_type": "markdown",
   "metadata": {},
   "source": [
    "Compare with univariate LASSO, first and 2nd features:"
   ]
  },
  {
   "cell_type": "code",
   "execution_count": 10,
   "metadata": {
    "kernel": "Python3"
   },
   "outputs": [
    {
     "data": {
      "text/plain": [
       "Lasso(alpha=0.05, copy_X=True, fit_intercept=False, max_iter=1000,\n",
       "   normalize=False, positive=False, precompute=False, random_state=None,\n",
       "   selection='cyclic', tol=0.0001, warm_start=False)"
      ]
     },
     "execution_count": 10,
     "metadata": {},
     "output_type": "execute_result"
    }
   ],
   "source": [
    "# model = linear_model.LassoCV(alphas = [(x+1)/100 for x in range(10)], fit_intercept = False)\n",
    "model = linear_model.Lasso(alpha = 0.05, fit_intercept = False)\n",
    "model.fit(X,Y[:,0])"
   ]
  },
  {
   "cell_type": "code",
   "execution_count": 11,
   "metadata": {
    "kernel": "Python3",
    "tags": [
     "report_output"
    ]
   },
   "outputs": [
    {
     "data": {
      "image/png": "[encoded data removed]",
      "text/plain": [
       "<matplotlib.figure.Figure at 0x7f8763bec748>"
      ]
     },
     "metadata": {},
     "output_type": "display_data"
    }
   ],
   "source": [
    "plt.scatter([x+1 for x in range(len(model.coef_))], model.coef_, cmap=\"viridis\")\n",
    "ax = plt.gca()\n",
    "plt.show()"
   ]
  },
  {
   "cell_type": "code",
   "execution_count": 12,
   "metadata": {
    "kernel": "Python3",
    "tags": [
     "report_output"
    ]
   },
   "outputs": [
    {
     "data": {
      "image/png": "[encoded data removed]",
      "text/plain": [
       "<matplotlib.figure.Figure at 0x7f87550d53c8>"
      ]
     },
     "metadata": {},
     "output_type": "display_data"
    }
   ],
   "source": [
    "model.fit(X,Y[:,1])\n",
    "plt.scatter([x+1 for x in range(len(model.coef_))], model.coef_, cmap=\"viridis\")\n",
    "ax = plt.gca()\n",
    "plt.show()"
   ]
  },
  {
   "cell_type": "markdown",
   "metadata": {},
   "source": [
    "## MASH priors and weights\n",
    "As initialization we take univariate analysis summary statistics $\\hat{\\bs{B}}$ and $\\bs{S}$ for fitting with `mashr`."
   ]
  },
  {
   "cell_type": "markdown",
   "metadata": {},
   "source": [
    "## VEM implementation\n",
    "It is not working yet. Still trying to figure out what's going on."
   ]
  },
  {
   "cell_type": "code",
   "execution_count": 13,
   "metadata": {
    "kernel": "Python3",
    "tags": [
     "report_cell",
     "report_output"
    ]
   },
   "outputs": [],
   "source": [
    "class MNMASH:\n",
    "    def __init__(self, X, Y):\n",
    "        self.X = X\n",
    "        self.Y = Y        \n",
    "        self.B = np.zeros((X.shape[1], Y.shape[1]))\n",
    "        # self.V = np.ones((2, Y.shape[1], Y.shape[1]))\n",
    "        self.V = np.array((np.zeros((2,2)), np.identity(2)))\n",
    "        # self.pi = np.random.uniform(0,1,self.V.shape[0])\n",
    "        # self.pi = self.pi / sum(self.pi)\n",
    "        self.pi = np.array([0.9, 0.1])\n",
    "        self.Lambda = np.identity(Y.shape[1])\n",
    "        self.tol = 1E-4\n",
    "        self.debug = 1\n",
    "        self.maxiter = 1\n",
    "        # initialize intermediate variables\n",
    "        self.R = np.ones((self.X.shape[1], self.Y.shape[0], self.Y.shape[1])) * np.nan\n",
    "        self.E = np.ones((self.Y.shape[1], self.X.shape[1])) * np.nan\n",
    "        self.Rx = np.ones((self.Y.shape[1], self.X.shape[1])) * np.nan\n",
    "        self.wdE = np.ones((self.X.shape[1], self.V.shape[0])) * np.nan\n",
    "        self.Sigma = {tt: np.ones((self.X.shape[1], self.Y.shape[1], self.Y.shape[1])) * np.nan for tt in range(self.V.shape[0])}\n",
    "        self.Mu = np.ones((self.X.shape[1], self.Y.shape[1], self.V.shape[0])) * np.nan\n",
    "        self.gamma = np.ones((self.X.shape[1], self.V.shape[0])) * np.nan\n",
    "        # X is N by K matrix, X_norm is 1 by K vector of L2 norm of column k's\n",
    "        self.X_norm = np.linalg.norm(self.X, ord = 2, axis = 0)\n",
    "        if self.debug:\n",
    "            self.X_std = self.X / self.X_norm\n",
    "            np.testing.assert_array_almost_equal(np.sum(np.square(self.X_std), axis = 0), np.ones(self.X.shape[1]))\n",
    "        self.X_norm = np.square(self.X_norm)\n",
    "        self.X_std = self.X / self.X_norm\n",
    "        self.R_all = None\n",
    "        self.H = None\n",
    "        self.Delta = None\n",
    "        self.update_lambda = True\n",
    "\n",
    "    def update(self):\n",
    "        '''\n",
    "        Core update\n",
    "        '''\n",
    "        iLambda = np.linalg.inv(self.Lambda)\n",
    "        # B is M by K matrix\n",
    "        self.R_all = self.Y - self.X @ self.B\n",
    "        # K is number of effects\n",
    "        for kk in range(self.X.shape[1]):\n",
    "            # R[kk] is N x M, where M is number of conditions\n",
    "            self.R[kk,:,:] = self.R_all + np.outer(self.X[:,kk], (self.B[kk,:].T))\n",
    "            # E[kk] is M x 1\n",
    "            self.E[:,kk] = (self.R[kk,:,:].T @ self.X_std[:,kk]).ravel()\n",
    "            # Rx[kk] is M x 1\n",
    "            self.Rx[:,kk] = (self.R[kk,:,:].T @ self.X[:,kk]).ravel()\n",
    "            for tt in range(self.V.shape[0]):\n",
    "                self.wdE[kk,tt] = multivariate_normal.pdf(self.E[:,kk], np.zeros(self.Y.shape[1]), \\\n",
    "                                                          self.V[tt] + iLambda / self.X_norm[kk]) * self.pi[tt]\n",
    "            wdE_sum = sum(self.wdE[kk,:])\n",
    "            for tt in range(self.V.shape[0]):\n",
    "                # Can be made faster via low-rank approximation\n",
    "                self.Sigma[tt][kk,:,:] = np.linalg.inv(np.identity(self.Y.shape[1]) + self.V[tt] * self.X_norm[kk] @ self.Lambda) @ self.V[tt]\n",
    "                self.Mu[kk,:,tt] = self.Sigma[tt][kk,:,:] @ self.Lambda @ self.Rx[:,kk]\n",
    "                self.gamma[kk,tt] = self.wdE[kk,tt] / wdE_sum\n",
    "                #if self.gamma[kk,tt] != self.gamma[kk,tt]:\n",
    "                #    self.gamma[kk,tt] = 0\n",
    "            # dot product for weighted sums\n",
    "            self.B[kk,:] = self.Mu[kk,:,:] @ self.gamma[kk,:]\n",
    "        if self.update_lambda:\n",
    "            # Recalculate h, a M by M matrix\n",
    "            self.H = np.diag(np.sum([self.X_norm[kk] * np.sum([self.gamma[kk,tt] * (np.square(self.Mu[kk,:,tt] - self.B[kk,:]) + np.diag(self.Sigma[tt][kk,:,:])) for tt in range(self.V.shape[0])], axis = 0) for kk in range(self.X.shape[1])], axis = 0))\n",
    "            # Update Lambda\n",
    "            self.Delta = np.diag(self.R_all.T @ self.R_all) + self.H\n",
    "            self.Lambda = np.diag(self.X.shape[0] / np.diag(self.Delta))\n",
    "\n",
    "    def vem(self):\n",
    "        '''\n",
    "        Variational EM\n",
    "        '''\n",
    "        cnt = 0\n",
    "        while cnt < self.maxiter:\n",
    "            self.update()\n",
    "            cnt += 1\n",
    "\n",
    "    def summary(self):\n",
    "        self.prt('R')\n",
    "        self.prt('E')\n",
    "        self.prt('Rx')\n",
    "        self.prt('wdE')\n",
    "        self.prt('Sigma')\n",
    "        self.prt('Mu')\n",
    "        self.prt('gamma')\n",
    "        self.prt('B')\n",
    "        self.prt('H')\n",
    "        self.prt('Delta')\n",
    "        self.prt('Lambda')\n",
    "        print('X @ B = \\n{}\\n'.format(self.X @ self.B))\n",
    "        print('Y - X @ B = \\n{}\\n'.format(self.Y - self.X @ self.B))\n",
    "\n",
    "    def prt(self, variable):\n",
    "        print(variable, '=', repr(eval(f'self.{variable}')))\n",
    "        print('\\n')"
   ]
  },
  {
   "cell_type": "code",
   "execution_count": 57,
   "metadata": {
    "kernel": "Python3"
   },
   "outputs": [],
   "source": [
    "res = MNMASH(X,Y)"
   ]
  },
  {
   "cell_type": "markdown",
   "metadata": {},
   "source": [
    "## Checking core updates"
   ]
  },
  {
   "cell_type": "markdown",
   "metadata": {
    "kernel": "Python3"
   },
   "source": [
    "First iteration."
   ]
  },
  {
   "cell_type": "code",
   "execution_count": 58,
   "metadata": {
    "kernel": "Python3"
   },
   "outputs": [],
   "source": [
    "res.update()"
   ]
  },
  {
   "cell_type": "code",
   "execution_count": 59,
   "metadata": {
    "kernel": "Python3",
    "scrolled": false,
    "tags": [
     "report_output"
    ]
   },
   "outputs": [
    {
     "name": "stdout",
     "output_type": "stream",
     "text": [
      "R = array([[[ 0.16348104,  0.77010917],\n",
      "        [ 0.43588995,  0.77798736],\n",
      "        [-0.21237311, -0.65361193],\n",
      "        ..., \n",
      "        [ 0.62036618, -0.0035004 ],\n",
      "        [ 0.00279156, -0.05439095],\n",
      "        [-0.14650835,  0.29935286]],\n",
      "\n",
      "       [[ 0.16348104,  0.77010917],\n",
      "        [ 0.43588995,  0.77798736],\n",
      "        [-0.21237311, -0.65361193],\n",
      "        ..., \n",
      "        [ 0.62036618, -0.0035004 ],\n",
      "        [ 0.00279156, -0.05439095],\n",
      "        [-0.14650835,  0.29935286]],\n",
      "\n",
      "       [[ 0.16348104,  0.77010917],\n",
      "        [ 0.43588995,  0.77798736],\n",
      "        [-0.21237311, -0.65361193],\n",
      "        ..., \n",
      "        [ 0.62036618, -0.0035004 ],\n",
      "        [ 0.00279156, -0.05439095],\n",
      "        [-0.14650835,  0.29935286]],\n",
      "\n",
      "       ..., \n",
      "       [[ 0.16348104,  0.77010917],\n",
      "        [ 0.43588995,  0.77798736],\n",
      "        [-0.21237311, -0.65361193],\n",
      "        ..., \n",
      "        [ 0.62036618, -0.0035004 ],\n",
      "        [ 0.00279156, -0.05439095],\n",
      "        [-0.14650835,  0.29935286]],\n",
      "\n",
      "       [[ 0.16348104,  0.77010917],\n",
      "        [ 0.43588995,  0.77798736],\n",
      "        [-0.21237311, -0.65361193],\n",
      "        ..., \n",
      "        [ 0.62036618, -0.0035004 ],\n",
      "        [ 0.00279156, -0.05439095],\n",
      "        [-0.14650835,  0.29935286]],\n",
      "\n",
      "       [[ 0.16348104,  0.77010917],\n",
      "        [ 0.43588995,  0.77798736],\n",
      "        [-0.21237311, -0.65361193],\n",
      "        ..., \n",
      "        [ 0.62036618, -0.0035004 ],\n",
      "        [ 0.00279156, -0.05439095],\n",
      "        [-0.14650835,  0.29935286]]])\n",
      "\n",
      "\n",
      "E = array([[-0.02094472, -0.06122512, -0.04164898, ...,  0.0372279 ,\n",
      "        -0.00669449,  0.04083855],\n",
      "       [-0.02124238, -0.05018941, -0.06105233, ..., -0.00273088,\n",
      "         0.01641117,  0.00058457]])\n",
      "\n",
      "\n",
      "Rx = array([[-5.37396148, -3.67350731, -4.12385519, ...,  3.61241949,\n",
      "        -3.382703  ,  4.00364293],\n",
      "       [-5.45033424, -3.01136475, -6.04506932, ..., -0.26499216,\n",
      "         8.29251397,  0.05730889]])\n",
      "\n",
      "\n",
      "wdE = array([[  3.27869046e+01,   1.58466800e-02],\n",
      "       [  7.12124237e+00,   1.56064056e-02],\n",
      "       [  1.08224143e+01,   1.57138195e-02],\n",
      "       ..., \n",
      "       [  1.29907011e+01,   1.57422904e-02],\n",
      "       [  6.68559977e+01,   1.58815694e-02],\n",
      "       [  1.29400551e+01,   1.57417875e-02]])\n",
      "\n",
      "\n",
      "Sigma = {0: array([[[ 0.,  0.],\n",
      "        [ 0.,  0.]],\n",
      "\n",
      "       [[ 0.,  0.],\n",
      "        [ 0.,  0.]],\n",
      "\n",
      "       [[ 0.,  0.],\n",
      "        [ 0.,  0.]],\n",
      "\n",
      "       ..., \n",
      "       [[ 0.,  0.],\n",
      "        [ 0.,  0.]],\n",
      "\n",
      "       [[ 0.,  0.],\n",
      "        [ 0.,  0.]],\n",
      "\n",
      "       [[ 0.,  0.],\n",
      "        [ 0.,  0.]]]), 1: array([[[ 0.00388231,  0.        ],\n",
      "        [ 0.        ,  0.00388231]],\n",
      "\n",
      "       [[ 0.01639344,  0.        ],\n",
      "        [ 0.        ,  0.01639344]],\n",
      "\n",
      "       [[ 0.00999854,  0.        ],\n",
      "        [ 0.        ,  0.00999854]],\n",
      "\n",
      "       ..., \n",
      "       [[ 0.01020041,  0.        ],\n",
      "        [ 0.        ,  0.01020041]],\n",
      "\n",
      "       [[ 0.00197513,  0.        ],\n",
      "        [ 0.        ,  0.00197513]],\n",
      "\n",
      "       [[ 0.01009735,  0.        ],\n",
      "        [ 0.        ,  0.01009735]]])}\n",
      "\n",
      "\n",
      "Mu = array([[[ 0.        , -0.02086341],\n",
      "        [ 0.        , -0.02115991]],\n",
      "\n",
      "       [[ 0.        , -0.06022143],\n",
      "        [ 0.        , -0.04936664]],\n",
      "\n",
      "       [[ 0.        , -0.04123255],\n",
      "        [ 0.        , -0.06044189]],\n",
      "\n",
      "       ..., \n",
      "       [[ 0.        ,  0.03684816],\n",
      "        [ 0.        , -0.00270303]],\n",
      "\n",
      "       [[ 0.        , -0.00668126],\n",
      "        [ 0.        ,  0.01637876]],\n",
      "\n",
      "       [[ 0.        ,  0.04042619],\n",
      "        [ 0.        ,  0.00057867]]])\n",
      "\n",
      "\n",
      "gamma = array([[  9.99516910e-01,   4.83089967e-04],\n",
      "       [  9.97813264e-01,   2.18673620e-03],\n",
      "       [  9.98550135e-01,   1.44986471e-03],\n",
      "       ..., \n",
      "       [  9.98789654e-01,   1.21034552e-03],\n",
      "       [  9.99762508e-01,   2.37492494e-04],\n",
      "       [  9.98784962e-01,   1.21503815e-03]])\n",
      "\n",
      "\n",
      "B = array([[ -1.00789037e-05,  -1.02221414e-05],\n",
      "       [ -1.31688384e-04,  -1.07951809e-04],\n",
      "       [ -5.97816168e-05,  -8.76325673e-05],\n",
      "       ..., \n",
      "       [  4.45990036e-05,  -3.27159859e-06],\n",
      "       [ -1.58674981e-06,   3.88983158e-06],\n",
      "       [  4.91193663e-05,   7.03103794e-07]])\n",
      "\n",
      "\n",
      "H = array([[ 87.01054504,   0.        ],\n",
      "       [  0.        ,  36.30742391]])\n",
      "\n",
      "\n",
      "Delta = array([[ 277.28296782,   77.31960452],\n",
      "       [ 190.27242279,  113.62702843]])\n",
      "\n",
      "\n",
      "Lambda = array([[ 2.51728408,  0.        ],\n",
      "       [ 0.        ,  6.14290464]])\n",
      "\n",
      "\n",
      "X @ B = \n",
      "[[ 0.03294618  0.01109255]\n",
      " [ 0.25732661  0.06390661]\n",
      " [-1.93134788 -0.82240281]\n",
      " ..., \n",
      " [-0.03603904 -0.03764358]\n",
      " [ 0.05910854  0.01078694]\n",
      " [-0.01833198 -0.02217391]]\n",
      "\n",
      "Y - X @ B = \n",
      "[[ 0.13053486  0.75901662]\n",
      " [ 0.17856335  0.71408075]\n",
      " [ 1.71897477  0.16879088]\n",
      " ..., \n",
      " [ 0.65640522  0.03414318]\n",
      " [-0.05631698 -0.06517789]\n",
      " [-0.12817637  0.32152677]]\n",
      "\n"
     ]
    }
   ],
   "source": [
    "res.summary()"
   ]
  },
  {
   "cell_type": "markdown",
   "metadata": {
    "kernel": "Python3"
   },
   "source": [
    "Second iteration."
   ]
  },
  {
   "cell_type": "code",
   "execution_count": 60,
   "metadata": {
    "kernel": "Python3"
   },
   "outputs": [],
   "source": [
    "res.update()"
   ]
  },
  {
   "cell_type": "code",
   "execution_count": 61,
   "metadata": {
    "kernel": "Python3",
    "scrolled": false,
    "tags": [
     "report_output"
    ]
   },
   "outputs": [
    {
     "name": "stdout",
     "output_type": "stream",
     "text": [
      "R = array([[[ 0.13052478,  0.7590064 ],\n",
      "        [ 0.17856335,  0.71408075],\n",
      "        [ 1.71897477,  0.16879088],\n",
      "        ..., \n",
      "        [ 0.65640522,  0.03414318],\n",
      "        [-0.05631698, -0.06517789],\n",
      "        [-0.12817637,  0.32152677]],\n",
      "\n",
      "       [[ 0.13053486,  0.75901662],\n",
      "        [ 0.17856335,  0.71408075],\n",
      "        [ 1.71884308,  0.16868293],\n",
      "        ..., \n",
      "        [ 0.65640522,  0.03414318],\n",
      "        [-0.05631698, -0.06517789],\n",
      "        [-0.12817637,  0.32152677]],\n",
      "\n",
      "       [[ 0.13053486,  0.75901662],\n",
      "        [ 0.17856335,  0.71408075],\n",
      "        [ 1.71897477,  0.16879088],\n",
      "        ..., \n",
      "        [ 0.65640522,  0.03414318],\n",
      "        [-0.05631698, -0.06517789],\n",
      "        [-0.12817637,  0.32152677]],\n",
      "\n",
      "       ..., \n",
      "       [[ 0.13053486,  0.75901662],\n",
      "        [ 0.17856335,  0.71408075],\n",
      "        [ 1.71897477,  0.16879088],\n",
      "        ..., \n",
      "        [ 0.65640522,  0.03414318],\n",
      "        [-0.05631698, -0.06517789],\n",
      "        [-0.12817637,  0.32152677]],\n",
      "\n",
      "       [[ 0.13053327,  0.75902051],\n",
      "        [ 0.17856176,  0.71408464],\n",
      "        [ 1.71897318,  0.16879477],\n",
      "        ..., \n",
      "        [ 0.65640522,  0.03414318],\n",
      "        [-0.05631857, -0.065174  ],\n",
      "        [-0.12817796,  0.32153066]],\n",
      "\n",
      "       [[ 0.13053486,  0.75901662],\n",
      "        [ 0.17856335,  0.71408075],\n",
      "        [ 1.71897477,  0.16879088],\n",
      "        ..., \n",
      "        [ 0.65640522,  0.03414318],\n",
      "        [-0.05631698, -0.06517789],\n",
      "        [-0.12817637,  0.32152677]]])\n",
      "\n",
      "\n",
      "E = array([[ 0.21079379,  0.2094001 ,  0.24239461, ...,  0.27463481,\n",
      "         0.10669409,  0.27295689],\n",
      "       [ 0.11529282,  0.10257626,  0.09074612, ...,  0.1319643 ,\n",
      "         0.09273926,  0.1332    ]])\n",
      "\n",
      "\n",
      "Rx = array([[ 54.08511282,  12.56400617,  24.00059538, ...,  26.64926535,\n",
      "         53.91219941,  26.75956506],\n",
      "       [ 29.58163476,   6.15457558,   8.98518717, ...,  12.80519295,\n",
      "         46.86086273,  13.05837673]])\n",
      "\n",
      "\n",
      "wdE = array([[  2.39127280e-09,   1.54464280e-02],\n",
      "       [  1.77272121e-01,   1.54191792e-02],\n",
      "       [  3.01125325e-03,   1.53497452e-02],\n",
      "       ..., \n",
      "       [  3.04044809e-05,   1.51524335e-02],\n",
      "       [  3.25875959e-07,   1.57486222e-02],\n",
      "       [  2.68711417e-05,   1.51573079e-02]])\n",
      "\n",
      "\n",
      "Sigma = {0: array([[[ 0.,  0.],\n",
      "        [ 0.,  0.]],\n",
      "\n",
      "       [[ 0.,  0.],\n",
      "        [ 0.,  0.]],\n",
      "\n",
      "       [[ 0.,  0.],\n",
      "        [ 0.,  0.]],\n",
      "\n",
      "       ..., \n",
      "       [[ 0.,  0.],\n",
      "        [ 0.,  0.]],\n",
      "\n",
      "       [[ 0.,  0.],\n",
      "        [ 0.,  0.]],\n",
      "\n",
      "       [[ 0.,  0.],\n",
      "        [ 0.,  0.]]]), 1: array([[[ 0.00154588,  0.        ],\n",
      "        [ 0.        ,  0.00063406]],\n",
      "\n",
      "       [[ 0.00657734,  0.        ],\n",
      "        [ 0.        ,  0.00270582]],\n",
      "\n",
      "       [[ 0.00399604,  0.        ],\n",
      "        [ 0.        ,  0.0016414 ]],\n",
      "\n",
      "       ..., \n",
      "       [[ 0.00407722,  0.        ],\n",
      "        [ 0.        ,  0.00167482]],\n",
      "\n",
      "       [[ 0.00078556,  0.        ],\n",
      "        [ 0.        ,  0.00032206]],\n",
      "\n",
      "       [[ 0.00403577,  0.        ],\n",
      "        [ 0.        ,  0.00165776]]])}\n",
      "\n",
      "\n",
      "Mu = array([[[ 0.        ,  0.21046793],\n",
      "        [ 0.        ,  0.11521971]],\n",
      "\n",
      "       [[ 0.        ,  0.20802281],\n",
      "        [ 0.        ,  0.10229871]],\n",
      "\n",
      "       [[ 0.        ,  0.24142599],\n",
      "        [ 0.        ,  0.09059717]],\n",
      "\n",
      "       ..., \n",
      "       [[ 0.        ,  0.27351507],\n",
      "        [ 0.        ,  0.13174329]],\n",
      "\n",
      "       [[ 0.        ,  0.10661028],\n",
      "        [ 0.        ,  0.09270939]],\n",
      "\n",
      "       [[ 0.        ,  0.2718553 ],\n",
      "        [ 0.        ,  0.13297918]]])\n",
      "\n",
      "\n",
      "gamma = array([[  1.54810706e-07,   9.99999845e-01],\n",
      "       [  9.19979889e-01,   8.00201108e-02],\n",
      "       [  1.64002696e-01,   8.35997304e-01],\n",
      "       ..., \n",
      "       [  2.00255584e-03,   9.97997444e-01],\n",
      "       [  2.06919190e-05,   9.99979308e-01],\n",
      "       [  1.76968025e-03,   9.98230320e-01]])\n",
      "\n",
      "\n",
      "B = array([[ 0.2104679 ,  0.1152197 ],\n",
      "       [ 0.01664601,  0.00818595],\n",
      "       [ 0.20183147,  0.07573899],\n",
      "       ..., \n",
      "       [ 0.27296734,  0.13147946],\n",
      "       [ 0.10660807,  0.09270747],\n",
      "       [ 0.27137421,  0.13274385]])\n",
      "\n",
      "\n",
      "H = array([[ 2626.32773972,     0.        ],\n",
      "       [    0.        ,  1021.8405499 ]])\n",
      "\n",
      "\n",
      "Delta = array([[ 3013.93890421,   113.73784609],\n",
      "       [  387.61116449,  1135.57839598]])\n",
      "\n",
      "\n",
      "Lambda = array([[ 0.23159063,  0.        ],\n",
      "       [ 0.        ,  0.61466474]])\n",
      "\n",
      "\n",
      "X @ B = \n",
      "[[ 453.05425944  261.73600459]\n",
      " [ 330.33889386  198.94931778]\n",
      " [ 529.65337082  299.34095052]\n",
      " ..., \n",
      " [ 554.50230877  309.23940148]\n",
      " [ 432.80909626  252.75380296]\n",
      " [ 350.69635873  204.41429518]]\n",
      "\n",
      "Y - X @ B = \n",
      "[[-452.89077841 -260.96589542]\n",
      " [-329.9030039  -198.17133042]\n",
      " [-529.86574394 -299.99456245]\n",
      " ..., \n",
      " [-553.88194259 -309.24290189]\n",
      " [-432.8063047  -252.80819391]\n",
      " [-350.84286708 -204.11494232]]\n",
      "\n"
     ]
    }
   ],
   "source": [
    "res.summary()"
   ]
  },
  {
   "cell_type": "code",
   "execution_count": 62,
   "metadata": {
    "kernel": "Python3"
   },
   "outputs": [
    {
     "data": {
      "text/plain": [
       "5.604973192572156e-166"
      ]
     },
     "execution_count": 62,
     "metadata": {},
     "output_type": "execute_result"
    }
   ],
   "source": [
    "np.min(res.wdE)"
   ]
  },
  {
   "cell_type": "code",
   "execution_count": 63,
   "metadata": {
    "kernel": "Python3"
   },
   "outputs": [
    {
     "data": {
      "text/plain": [
       "1.0062197120752165e-163"
      ]
     },
     "execution_count": 63,
     "metadata": {},
     "output_type": "execute_result"
    }
   ],
   "source": [
    "np.min(res.gamma)"
   ]
  },
  {
   "cell_type": "markdown",
   "metadata": {},
   "source": [
    "3rd iteration."
   ]
  },
  {
   "cell_type": "code",
   "execution_count": 64,
   "metadata": {
    "kernel": "Python3",
    "scrolled": false,
    "tags": [
     "report_output"
    ]
   },
   "outputs": [
    {
     "name": "stderr",
     "output_type": "stream",
     "text": [
      "/home/gaow/Public/miniconda3/lib/python3.6/site-packages/ipykernel_launcher.py:57: RuntimeWarning: invalid value encountered in double_scalars\n"
     ]
    },
    {
     "name": "stdout",
     "output_type": "stream",
     "text": [
      "R = array([[[-452.68031051, -260.85067572],\n",
      "        [-329.9030039 , -198.17133042],\n",
      "        [-529.86574394, -299.99456245],\n",
      "        ..., \n",
      "        [-553.88194259, -309.24290189],\n",
      "        [-432.8063047 , -252.80819391],\n",
      "        [-350.84286708, -204.11494232]],\n",
      "\n",
      "       [[-452.89077841, -260.96589542],\n",
      "        [-329.9030039 , -198.17133042],\n",
      "        [-529.84909793, -299.98637649],\n",
      "        ..., \n",
      "        [-553.88194259, -309.24290189],\n",
      "        [-432.8063047 , -252.80819391],\n",
      "        [-350.84286708, -204.11494232]],\n",
      "\n",
      "       [[-452.89077841, -260.96589542],\n",
      "        [-329.9030039 , -198.17133042],\n",
      "        [-529.86574394, -299.99456245],\n",
      "        ..., \n",
      "        [-553.88194259, -309.24290189],\n",
      "        [-432.8063047 , -252.80819391],\n",
      "        [-350.84286708, -204.11494232]],\n",
      "\n",
      "       ..., \n",
      "       [[-452.89077841, -260.96589542],\n",
      "        [-329.9030039 , -198.17133042],\n",
      "        [-529.86574394, -299.99456245],\n",
      "        ..., \n",
      "        [-553.88194259, -309.24290189],\n",
      "        [-432.8063047 , -252.80819391],\n",
      "        [-350.84286708, -204.11494232]],\n",
      "\n",
      "       [[-452.78417034, -260.87318795],\n",
      "        [-329.79639583, -198.07862295],\n",
      "        [-529.75913586, -299.90185498],\n",
      "        ..., \n",
      "        [-553.88194259, -309.24290189],\n",
      "        [-432.69969663, -252.71548644],\n",
      "        [-350.736259  , -204.02223485]],\n",
      "\n",
      "       [[-452.89077841, -260.96589542],\n",
      "        [-329.9030039 , -198.17133042],\n",
      "        [-529.86574394, -299.99456245],\n",
      "        ..., \n",
      "        [-553.88194259, -309.24290189],\n",
      "        [-432.8063047 , -252.80819391],\n",
      "        [-350.84286708, -204.11494232]]])\n",
      "\n",
      "\n",
      "E = array([[-425.79454062, -444.76539542, -399.88346397, ..., -463.49901197,\n",
      "        -341.54679507, -461.87222838],\n",
      "       [-242.91414995, -254.79852845, -228.25162772, ..., -265.39549983,\n",
      "        -197.10317605, -264.50948834]])\n",
      "\n",
      "\n",
      "Rx = array([[-109249.63889953,  -26685.92372545,  -39594.28539861, ...,\n",
      "         -44975.7556278 , -172582.55036628,  -45280.04314355],\n",
      "       [ -62326.49936591,  -15287.91170723,  -22600.23458034, ...,\n",
      "         -25752.72619077,  -99595.63169368,  -25931.41632691]])\n",
      "\n",
      "\n",
      "wdE = array([[ 0.,  0.],\n",
      "       [ 0.,  0.],\n",
      "       [ 0.,  0.],\n",
      "       ..., \n",
      "       [ 0.,  0.],\n",
      "       [ 0.,  0.],\n",
      "       [ 0.,  0.]])\n",
      "\n",
      "\n",
      "Sigma = {0: array([[[ 0.,  0.],\n",
      "        [ 0.,  0.]],\n",
      "\n",
      "       [[ 0.,  0.],\n",
      "        [ 0.,  0.]],\n",
      "\n",
      "       [[ 0.,  0.],\n",
      "        [ 0.,  0.]],\n",
      "\n",
      "       ..., \n",
      "       [[ 0.,  0.],\n",
      "        [ 0.,  0.]],\n",
      "\n",
      "       [[ 0.,  0.],\n",
      "        [ 0.,  0.]],\n",
      "\n",
      "       [[ 0.,  0.],\n",
      "        [ 0.,  0.]]]), 1: array([[[ 0.0165505 ,  0.        ],\n",
      "        [ 0.        ,  0.00630081]],\n",
      "\n",
      "       [[ 0.06713465,  0.        ],\n",
      "        [ 0.        ,  0.02639924]],\n",
      "\n",
      "       [[ 0.04178708,  0.        ],\n",
      "        [ 0.        ,  0.01616534]],\n",
      "\n",
      "       ..., \n",
      "       [[ 0.04260312,  0.        ],\n",
      "        [ 0.        ,  0.01648963]],\n",
      "\n",
      "       [[ 0.00847299,  0.        ],\n",
      "        [ 0.        ,  0.00320936]],\n",
      "\n",
      "       [[ 0.04218664,  0.        ],\n",
      "        [ 0.        ,  0.01632408]]])}\n",
      "\n",
      "\n",
      "Mu = array([[[   0.        , -418.74742735],\n",
      "        [   0.        , -241.38359289]],\n",
      "\n",
      "       [[   0.        , -414.90622599],\n",
      "        [   0.        , -248.07204203]],\n",
      "\n",
      "       [[   0.        , -383.1735033 ],\n",
      "        [   0.        , -224.5618633 ]],\n",
      "\n",
      "       ..., \n",
      "       [[   0.        , -443.75250932],\n",
      "        [   0.        , -261.01922548]],\n",
      "\n",
      "       [[   0.        , -338.65287111],\n",
      "        [   0.        , -196.47060021]],\n",
      "\n",
      "       [[   0.        , -442.38739125],\n",
      "        [   0.        , -260.19161388]]])\n",
      "\n",
      "\n",
      "gamma = array([[ nan,  nan],\n",
      "       [ nan,  nan],\n",
      "       [ nan,  nan],\n",
      "       ..., \n",
      "       [ nan,  nan],\n",
      "       [ nan,  nan],\n",
      "       [ nan,  nan]])\n",
      "\n",
      "\n",
      "B = array([[ nan,  nan],\n",
      "       [ nan,  nan],\n",
      "       [ nan,  nan],\n",
      "       ..., \n",
      "       [ nan,  nan],\n",
      "       [ nan,  nan],\n",
      "       [ nan,  nan]])\n",
      "\n",
      "\n",
      "H = array([[ nan,   0.],\n",
      "       [  0.,  nan]])\n",
      "\n",
      "\n",
      "Delta = array([[             nan,   4.88287921e+07],\n",
      "       [  1.50030292e+08,              nan]])\n",
      "\n",
      "\n",
      "Lambda = array([[ nan,   0.],\n",
      "       [  0.,  nan]])\n",
      "\n",
      "\n",
      "X @ B = \n",
      "[[ nan  nan]\n",
      " [ nan  nan]\n",
      " [ nan  nan]\n",
      " ..., \n",
      " [ nan  nan]\n",
      " [ nan  nan]\n",
      " [ nan  nan]]\n",
      "\n",
      "Y - X @ B = \n",
      "[[ nan  nan]\n",
      " [ nan  nan]\n",
      " [ nan  nan]\n",
      " ..., \n",
      " [ nan  nan]\n",
      " [ nan  nan]\n",
      " [ nan  nan]]\n",
      "\n"
     ]
    }
   ],
   "source": [
    "res.update()\n",
    "res.summary()"
   ]
  }
 ],
 "metadata": {
  "celltoolbar": "Tags",
  "kernelspec": {
   "display_name": "SoS",
   "language": "sos",
   "name": "sos"
  },
  "language_info": {
   "codemirror_mode": "sos",
   "file_extension": ".sos",
   "mimetype": "text/x-sos",
   "name": "sos",
   "nbconvert_exporter": "sos_notebook.converter.SoS_Exporter",
   "pygments_lexer": "sos"
  },
  "sos": {
   "default_kernel": "Python3",
   "kernels": [
    [
     "Python3",
     "python3",
     "Python3",
     "#FFE771"
    ],
    [
     "R",
     "ir",
     "R",
     "#DCDCDA"
    ],
    [
     "SoS",
     "sos",
     "",
     ""
    ]
   ],
   "panel": {
    "displayed": true,
    "height": "655px",
    "style": "side"
   }
  }
 },
 "nbformat": 4,
 "nbformat_minor": 2
}
