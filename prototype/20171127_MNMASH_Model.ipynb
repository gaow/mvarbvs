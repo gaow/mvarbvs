{
 "cells": [
  {
   "cell_type": "markdown",
   "metadata": {},
   "source": [
    "# Prototype of core update in M&M ASH model\n",
    "This is the core update for VEM step of M&M ASH model, version 2, single SNP calculation under MASH model.\n",
    "\n",
    "The notebook prototypes the codes in `libgaow` repo."
   ]
  },
  {
   "cell_type": "markdown",
   "metadata": {},
   "source": [
    "$\\newcommand{\\bs}[1]{\\boldsymbol{#1}}$\n",
    "$\\DeclareMathOperator*{\\diag}{diag}$\n",
    "$\\DeclareMathOperator*{\\cov}{cov}$\n",
    "$\\DeclareMathOperator*{\\rank}{rank}$\n",
    "$\\DeclareMathOperator*{\\var}{var}$\n",
    "$\\DeclareMathOperator*{\\tr}{tr}$\n",
    "$\\DeclareMathOperator*{\\veco}{vec}$\n",
    "$\\DeclareMathOperator*{\\uniform}{\\mathcal{U}niform}$\n",
    "$\\DeclareMathOperator*{\\argmin}{arg\\ min}$\n",
    "$\\DeclareMathOperator*{\\argmax}{arg\\ max}$\n",
    "$\\DeclareMathOperator*{\\N}{N}$\n",
    "$\\DeclareMathOperator*{\\gm}{Gamma}$\n",
    "$\\DeclareMathOperator*{\\dif}{d}$"
   ]
  },
  {
   "cell_type": "code",
   "execution_count": 1,
   "metadata": {
    "kernel": "R",
    "scrolled": true,
    "tags": [
     "report_output"
    ]
   },
   "outputs": [
    {
     "name": "stdout",
     "output_type": "stream",
     "text": [
      "List of 2\n",
      " $ Y:'data.frame':\t698 obs. of  2 variables:\n",
      "  ..$ Thyroid: num [1:698] 0.163 0.436 -0.212 0.327 -0.698 ...\n",
      "  ..$ Lung   : num [1:698] 0.77011 0.77799 -0.65361 0.00672 -0.36792 ...\n",
      " $ X: num [1:698, 1:7492] 1 0 0 0 0 1 1 0 1 1 ...\n",
      "  ..- attr(*, \"dimnames\")=List of 2\n",
      "  .. ..$ : chr [1:698] \"GTEX-111CU\" \"GTEX-111FC\" \"GTEX-111VG\" \"GTEX-111YS\" ...\n",
      "  .. ..$ : chr [1:7492] \"chr1_170185243_G_A_b38\" \"chr1_170185272_T_C_b38\" \"chr1_170185405_C_A_b38\" \"chr1_170185417_G_A_b38\" ...\n"
     ]
    }
   ],
   "source": [
    "dat = readRDS('/home/gaow/Documents/GTExV8/Thyroid.Lung.FMO2.filled.rds')\n",
    "str(dat)\n",
    "attach(dat)"
   ]
  },
  {
   "cell_type": "code",
   "execution_count": 2,
   "metadata": {
    "kernel": "SoS"
   },
   "outputs": [
    {
     "name": "stderr",
     "output_type": "stream",
     "text": [
      "Loading required package: feather\n"
     ]
    }
   ],
   "source": [
    "%get X Y --from R\n",
    "import numpy as np"
   ]
  },
  {
   "cell_type": "markdown",
   "metadata": {},
   "source": [
    "## Data preview"
   ]
  },
  {
   "cell_type": "code",
   "execution_count": 3,
   "metadata": {
    "kernel": "SoS",
    "tags": [
     "report_output"
    ]
   },
   "outputs": [
    {
     "data": {
      "text/plain": [
       "array([[ 1.,  0.,  0., ...,  0.,  1.,  0.],\n",
       "       [ 0.,  0.,  0., ...,  0.,  1.,  0.],\n",
       "       [ 0.,  1.,  0., ...,  0.,  1.,  0.],\n",
       "       ..., \n",
       "       [ 0.,  0.,  0., ...,  0.,  0.,  0.],\n",
       "       [ 0.,  0.,  0., ...,  0.,  1.,  0.],\n",
       "       [ 0.,  0.,  0., ...,  0.,  1.,  0.]])"
      ]
     },
     "execution_count": 3,
     "metadata": {},
     "output_type": "execute_result"
    }
   ],
   "source": [
    "X"
   ]
  },
  {
   "cell_type": "code",
   "execution_count": 4,
   "metadata": {
    "kernel": "SoS"
   },
   "outputs": [],
   "source": [
    "Y = Y.as_matrix()"
   ]
  },
  {
   "cell_type": "code",
   "execution_count": 5,
   "metadata": {
    "kernel": "SoS",
    "tags": [
     "report_output"
    ]
   },
   "outputs": [
    {
     "data": {
      "text/plain": [
       "array([[ 0.16348104,  0.77010917],\n",
       "       [ 0.43588995,  0.77798736],\n",
       "       [-0.21237311, -0.65361193],\n",
       "       ..., \n",
       "       [ 0.62036618, -0.0035004 ],\n",
       "       [ 0.00279156, -0.05439095],\n",
       "       [-0.14650835,  0.29935286]])"
      ]
     },
     "execution_count": 5,
     "metadata": {},
     "output_type": "execute_result"
    }
   ],
   "source": [
    "Y"
   ]
  },
  {
   "cell_type": "markdown",
   "metadata": {},
   "source": [
    "## Utility: mash model"
   ]
  },
  {
   "cell_type": "code",
   "execution_count": 6,
   "metadata": {
    "kernel": "SoS"
   },
   "outputs": [
    {
     "data": {
      "text/html": [
       "<div class=\"sos_hint\">Cell content saved to <a href=\"/home/gaow/GIT/software/libgaow/py/src/model_mash.py\" target=\"_blank\">/home/gaow/GIT/software/libgaow/py/src/model_mash.py</a></div>"
      ],
      "text/plain": [
       "Cell content saved to /home/gaow/GIT/software/libgaow/py/src/model_mash.py\n"
      ]
     },
     "metadata": {},
     "output_type": "display_data"
    }
   ],
   "source": [
    "%save /home/gaow/GIT/software/libgaow/py/src/model_mash.py -f\n",
    "#!/usr/bin/env python3\n",
    "__author__ = \"Gao Wang\"\n",
    "__copyright__ = \"Copyright 2016, Stephens lab\"\n",
    "__email__ = \"gaow@uchicago.edu\"\n",
    "__license__ = \"MIT\"\n",
    "__version__ = \"0.1.0\"\n",
    "\n",
    "import numpy as np, scipy as sp\n",
    "from scipy.stats import norm, multivariate_normal as mvnorm\n",
    "from collections import OrderedDict\n",
    "\n",
    "def inv_sympd(m):\n",
    "    '''\n",
    "    Inverse of symmetric positive definite\n",
    "    https://stackoverflow.com/questions/40703042/more-efficient-way-to-invert-a-matrix-knowing-it-is-symmetric-and-positive-semi\n",
    "    '''\n",
    "    zz , _ = sp.linalg.lapack.dpotrf(m, False, False)\n",
    "    inv_m , info = sp.linalg.lapack.dpotri(zz)\n",
    "    # lapack only returns the upper or lower triangular part\n",
    "    return np.triu(inv_m) + np.triu(inv_m, k=1).T\n",
    "\n",
    "def get_svs(s, V):\n",
    "    '''\n",
    "    diag(s) @ V @ diag(s)\n",
    "    '''\n",
    "    return (s * V.T).T * s\n",
    "\n",
    "def safe_mvnorm_logpdf(val, cov):\n",
    "    try:\n",
    "        return mvnorm.logpdf(val, cov=cov)\n",
    "    except np.linalg.linalg.LinAlgError:\n",
    "        if len(val.shape) == 1:\n",
    "            return np.inf if np.sum(val) < 1E-6 else -np.inf\n",
    "        else:\n",
    "            return np.array([np.inf if np.sum(x) < 1E-6 else -np.inf for x in val.T])\n",
    "\n",
    "class LikelihoodMASH:\n",
    "    def __init__(self, data):\n",
    "        self.J = data.B.shape[0]\n",
    "        self.R = data.B.shape[1]\n",
    "        self.P = len(data.U)\n",
    "        self.data = data\n",
    "        self.data.lik = {'relative_likelihood' : None,\n",
    "                         'lfactor': None,\n",
    "                         'marginal_loglik': None,\n",
    "                         'loglik': None,\n",
    "                         'null_loglik': None,\n",
    "                         'alt_loglik': None}\n",
    "        self.debug = None\n",
    "\n",
    "    def compute_log10bf(self):\n",
    "        self.data.log10bf = (self.data.lik['alt_loglik'] -  self.data.lik['null_loglik']) / np.log(10)\n",
    "\n",
    "    def compute_relative_likelihood_matrix(self):\n",
    "        matrix_llik = self._calc_likelihood_matrix_comcov() if self.data.is_common_cov() \\\n",
    "                      else self._calc_likelihood_matrix()\n",
    "        lfactors = np.vstack(np.amax(matrix_llik, axis = 1))\n",
    "        self.data.lik['relative_likelihood'] = np.exp(matrix_llik - lfactors)\n",
    "        self.data.lik['lfactor'] = lfactors\n",
    "\n",
    "    def _calc_likelihood_matrix(self):\n",
    "        loglik = np.zeros((self.J, self.P))\n",
    "        for j in range(self.J):\n",
    "            sigma_mat = get_svs(self.data.S[j,:], self.data.V)\n",
    "            loglik[j,:] = np.array([safe_mvnorm_logpdf(self.data.B[j,:], sigma_mat + self.data.U[p]) for p in self.data.U])\n",
    "        return loglik\n",
    "\n",
    "    def _calc_likelihood_matrix_comcov(self):\n",
    "        sigma_mat = get_svs(self.data.S[0,:], self.data.V)\n",
    "        return np.array([safe_mvnorm_logpdf(self.data.B, sigma_mat + self.data.U[p]) for p in self.data.U])\n",
    "\n",
    "    def compute_loglik_from_matrix(self, options = ['all', 'alt', 'null']):\n",
    "        '''\n",
    "        data.lik.relative_likelihood first column is null, the rest are alt\n",
    "        '''\n",
    "        if 'marginal' in options:\n",
    "            self.data.lik['marginal_loglik'] = np.log(self.data.lik['relative_likelihood'] @ self.data.pi) + self.data.lik['lfactor'] - np.sum(np.log(self.data.S), axis = 0)\n",
    "            self.data.lik['loglik'] = np.sum(self.data.lik['marginal_loglik'])\n",
    "        if 'alt' in options:\n",
    "            self.data.lik['alt_loglik'] = np.log(self.data.lik['relative_likelihood'][:,1:] @ (self.data.pi[1:] / (1 - self.data.pi[0]))) + self.data.lik['lfactor'] - np.sum(np.log(self.data.S), axis = 1)\n",
    "        if 'null' in options:\n",
    "            self.data.lik['null_loglik'] = np.log(self.data.lik['relative_likelihood'][:,0]) + self.data.lik['lfactor'] - np.sum(np.log(self.data.S), axis = 1)\n",
    "\n",
    "class PosteriorMASH:\n",
    "    def __init__(self, data):\n",
    "        '''\n",
    "        // @param b_mat J by R\n",
    "        // @param s_mat J by R\n",
    "        // @param v_mat R by R\n",
    "        // @param U_cube list of prior covariance matrices, for each mixture component P by R by R\n",
    "        '''\n",
    "        self.J = data.B.shape[0]\n",
    "        self.R = data.B.shape[1]\n",
    "        self.P = len(data.U)\n",
    "        self.data = data\n",
    "        self.data.post_mean_mat = np.zeros((self.R, self.J))\n",
    "        self.data.post_mean2_mat = np.zeros((self.R, self.J))\n",
    "        self.data.neg_prob_mat = np.zeros((self.R, self.J))\n",
    "        self.data.zero_prob_mat = np.zeros((self.R, self.J))\n",
    "\n",
    "    def compute_posterior_weights(self):\n",
    "        d = (self.data.pi * self.data.lik['relative_likelihood'])\n",
    "        self.data.posterior_weights = (d.T / np.sum(d, axis = 1))\n",
    "\n",
    "    def compute_posterior(self):\n",
    "        for j in range(self.J):\n",
    "            Vinv_mat = inv_sympd(get_svs(self.data.S[j,:], self.data.V))\n",
    "            mu1_mat = np.zeros((self.R, self.P))\n",
    "            mu2_mat = np.zeros((self.R, self.P))\n",
    "            zero_mat = np.zeros((self.R, self.P))\n",
    "            neg_mat = np.zeros((self.R, self.P))\n",
    "            for p, name in enumerate(self.data.U.keys()):\n",
    "                U1_mat = self.get_posterior_cov(Vinv_mat, self.data.U[name])\n",
    "                mu1_mat[:,p] = self.get_posterior_mean_vec(self.data.B[j,:], Vinv_mat, U1_mat)\n",
    "                sigma_vec = np.sqrt(np.diag(U1_mat))\n",
    "                null_cond = (sigma_vec == 0)\n",
    "                mu2_mat[:,p] = np.square(mu1_mat[:,p]) + np.diag(U1_mat)\n",
    "                if not null_cond.all():\n",
    "                    neg_mat[np.invert(null_cond),p] = norm.cdf(mu1_mat[np.invert(null_cond),p], scale=sigma_vec[np.invert(null_cond)])\n",
    "                zero_mat[null_cond,p] = 1.0\n",
    "            self.data.post_mean_mat[:,j] = mu1_mat @ self.data.posterior_weights[:,j]\n",
    "            self.data.post_mean2_mat[:,j] = mu2_mat @ self.data.posterior_weights[:,j]\n",
    "            self.data.neg_prob_mat[:,j] = neg_mat @ self.data.posterior_weights[:,j]\n",
    "            self.data.zero_prob_mat[:,j] = zero_mat @ self.data.posterior_weights[:,j]\n",
    "\n",
    "    def compute_posterior_comcov(self):\n",
    "        Vinv_mat = inv_sympd(get_svs(self.data.S[0,:], self.data.V))\n",
    "        for p, name in enumerate(self.data.U.keys()):\n",
    "            zero_mat = np.zeros((self.R, self.P))\n",
    "            U1_mat = self.get_posterior_cov(Vinv_mat, self.data.U[name])\n",
    "            mu1_mat = self.get_posterior_mean_mat(self.data.B, Vinv_mat, U1_mat)\n",
    "            sigma_vec = np.sqrt(np.diag(U1_mat))\n",
    "            null_cond = (sigma_vec == 0)\n",
    "            sigma_mat = np.repeat(sigma_vec, self.J, axis = 1)\n",
    "            neg_mat = np.zeros((self.R, self.J))\n",
    "            if not null_cond.all():\n",
    "                neg_mat[np.invert(null_cond),:] = norm.cdf(mu1_mat[np.invert(null_cond),:], scale = sigma_mat[np.invert(null_cond),:])\n",
    "            m2_mat = np.square(mu1_mat) + np.diag(U1_mat)\n",
    "            zero_mat[null_cond,:] = 1.0\n",
    "            self.data.post_mean_mat += posterior_weights[p,:] * mu1_mat\n",
    "            self.data.post_mean2_mat += posterior_weights[p,:] * mu2_mat\n",
    "            self.data.neg_prob_mat += posterior_weights[p,:] * neg_mat\n",
    "            self.data.zero_prob_mat += posterior_weights[p,:] * zero_mat\n",
    "\n",
    "    @staticmethod\n",
    "    def get_posterior_mean_vec(B, V_inv, U):\n",
    "        return U @ (V_inv @ B)\n",
    "\n",
    "    @staticmethod\n",
    "    def get_posterior_mean_mat(B, V_inv, U):\n",
    "        return B @ V_inv @ U\n",
    "\n",
    "    @staticmethod\n",
    "    def get_posterior_cov(V_inv, U):\n",
    "        return U @ inv_sympd(V_inv @ U + np.identity(U.shape[0]))\n",
    "\n",
    "    @classmethod\n",
    "    def apply(cls, data):\n",
    "        obj = cls(data)\n",
    "        obj.compute_posterior_weights()\n",
    "        if data.is_common_cov():\n",
    "            obj.compute_posterior_comcov()\n",
    "        else:\n",
    "            obj.compute_posterior()\n",
    "\n",
    "class PriorMASH:\n",
    "    def __init__(self, data):\n",
    "        self.data = data\n",
    "        self.R = data.B.shape[1]\n",
    "\n",
    "    def expand_cov(self, use_pointmass = True):\n",
    "        def product(x,y):\n",
    "            for item in y:\n",
    "                yield x*item\n",
    "        res = OrderedDict()\n",
    "        if use_pointmass:\n",
    "            res['null'] = np.zeros((self.R, self.R))\n",
    "        res.update(OrderedDict(sum([[(f\"{p}.{i+1}\", g) for i, g in enumerate(product(self.data.U[p], np.square(self.data.grid)))] for p in self.data.U], [])))\n",
    "        self.data.U = res"
   ]
  },
  {
   "cell_type": "markdown",
   "metadata": {},
   "source": [
    "## Utility: regression data"
   ]
  },
  {
   "cell_type": "code",
   "execution_count": 7,
   "metadata": {
    "kernel": "Python3"
   },
   "outputs": [],
   "source": [
    "%save /home/gaow/GIT/software/libgaow/py/src/regression_data.py -f\n",
    "#!/usr/bin/env python3\n",
    "__author__ = \"Gao Wang\"\n",
    "__copyright__ = \"Copyright 2016, Stephens lab\"\n",
    "__email__ = \"gaow@uchicago.edu\"\n",
    "__license__ = \"MIT\"\n",
    "__version__ = \"0.1.0\"\n",
    "\n",
    "from model_mash import PriorMASH, LikelihoodMASH, PosteriorMASH\n",
    "from scipy.stats import linregress\n",
    "from sklearn.linear_model import LinearRegression\n",
    "\n",
    "class RegressionData:\n",
    "    def __init__(self, X = None, Y = None, Z = None, B = None, S = None):\n",
    "        self.X = X\n",
    "        self.Y = Y\n",
    "        self.Z = Z\n",
    "        self.B = B\n",
    "        self.S = S\n",
    "        self.lik = None\n",
    "        self.l10bf = None\n",
    "        if (self.X is not None and self.Y is not None) and (self.B is None and self.S is None):\n",
    "            self.get_summary_stats()\n",
    "\n",
    "    def get_summary_stats(self):\n",
    "        '''\n",
    "        perform univariate regression\n",
    "        FIXME: it is slower than lapply + .lm.fit in R\n",
    "        FIXME: this faster implementation is on my watch list:\n",
    "        https://github.com/ajferraro/fastreg\n",
    "        '''\n",
    "        self.B = np.zeros((self.X.shape[1], self.Y.shape[1]))\n",
    "        self.S = np.zeros((self.X.shape[1], self.Y.shape[1]))\n",
    "        for r, y in enumerate(self.Y.T):\n",
    "            self.B[:,r], self.S[:,r] = univariate_simple_regression(self.X, y)[:,[0,2]].T\n",
    "        \n",
    "    def set_prior(self):\n",
    "        pass\n",
    "\n",
    "    def calc_likelihood(self):\n",
    "        pass\n",
    "\n",
    "    def calc_posterior(self):\n",
    "        pass\n",
    "\n",
    "    def calc_bf(self):\n",
    "        pass\n",
    "\n",
    "    @staticmethod\n",
    "    def univariate_simple_regression(X, y, Z=None):\n",
    "        if Z is not None:\n",
    "            model = LinearRegression()\n",
    "            model.fit(Z, y)\n",
    "            y = y - model.predict(Z)\n",
    "        return np.vstack([linregress(x, y) for x in X.T])[:,[0,1,4]]\n",
    "\n",
    "\n",
    "class MASHData(RegressionData):\n",
    "    def __init__(self, X = None, Y = None, Z = None, B = None, S = None):\n",
    "        RegressionData.__init__(self, X, Y, Z, B, S)\n",
    "        self.post_mean_mat = None\n",
    "        self.post_mean2_mat = None\n",
    "        self.neg_prob_mat = None\n",
    "        self.zero_prob_mat = None\n",
    "        self._is_common_cov = None\n",
    "        self.V = None\n",
    "        self.U = None\n",
    "        self.pi = None\n",
    "        self.posterior_weights = None\n",
    "        self.grid = None\n",
    "\n",
    "    def is_common_cov(self):\n",
    "        if self._is_common_cov is None and self.S is not None:\n",
    "            self._is_common_cov = (self.S.T == self.S.T[0,:]).all()\n",
    "        return self._is_common_cov\n",
    "\n",
    "    def calc_posterior(self):\n",
    "        PosteriorMASH.apply(self)\n",
    "\n",
    "    def calc_likelihood(self):\n",
    "        LikelihoodMASH.apply(self)"
   ]
  },
  {
   "cell_type": "markdown",
   "metadata": {},
   "source": [
    "## Main function calls"
   ]
  },
  {
   "cell_type": "code",
   "execution_count": null,
   "metadata": {
    "kernel": "SoS"
   },
   "outputs": [],
   "source": [
    "data = MASHData(X = X, Y = Y)\n",
    "data.U = {'identity': np.identity(2)}\n",
    "data.V = np.identity(2)\n",
    "data.pi = np.array([0.9, 0.05, 0.05])\n",
    "data.grid = [0.5, 1]\n",
    "prior = PriorMASH(data)\n",
    "prior.expand_cov()"
   ]
  },
  {
   "cell_type": "code",
   "execution_count": null,
   "metadata": {
    "kernel": "SoS"
   },
   "outputs": [],
   "source": [
    "lik = LikelihoodMASH(data)\n",
    "lik.compute_relative_likelihood_matrix()"
   ]
  },
  {
   "cell_type": "code",
   "execution_count": null,
   "metadata": {
    "kernel": "SoS"
   },
   "outputs": [],
   "source": [
    "lik.compute_loglik_from_matrix(options = ['alt', 'null'])\n",
    "lik.compute_log10bf()"
   ]
  },
  {
   "cell_type": "code",
   "execution_count": null,
   "metadata": {
    "kernel": "SoS"
   },
   "outputs": [],
   "source": [
    "import warnings\n",
    "warnings.filterwarnings(\"error\")\n",
    "PosteriorMASH.apply(data)"
   ]
  },
  {
   "cell_type": "markdown",
   "metadata": {},
   "source": [
    "## VEM updates\n",
    "The Core function:"
   ]
  },
  {
   "cell_type": "code",
   "execution_count": null,
   "metadata": {
    "kernel": "SoS"
   },
   "outputs": [],
   "source": [
    "def singe_snp_multivariate(data, Y):\n",
    "    '''\n",
    "    single snp bayes regression of Y on each column of X\n",
    "    under MASH model\n",
    "    Y is N by R matrix\n",
    "    X is N by J matrix\n",
    "    Assume residual variance is identity for now\n",
    "    '''\n",
    "    data.reset(Y=Y)\n",
    "    lik = LikelihoodMASH(data)\n",
    "    lik.compute_relative_likelihood_matrix()\n",
    "    lik.compute_loglik_from_matrix(options = ['alt', 'null'])\n",
    "    lik.compute_log10bf()\n",
    "    PosteriorMASH.apply(data)\n",
    "    return {'alpha': data.log10bf / np.sum(data.log10bf), 'mu': data.post_mean_mat, 's2': data.post_mean2_mat - np.square(data.post_mean_mat)}"
   ]
  },
  {
   "cell_type": "code",
   "execution_count": null,
   "metadata": {
    "kernel": "R"
   },
   "outputs": [],
   "source": [
    "res = .lm.fit(cbind(1, X[,1:2]), Y[,1])\n",
    "head(res$residuals)\n",
    "head(Y[,1])"
   ]
  },
  {
   "cell_type": "code",
   "execution_count": null,
   "metadata": {
    "kernel": "R"
   },
   "outputs": [],
   "source": [
    "head(Y[,1] - cbind(1, X[,1:2]) %*% coef(res))"
   ]
  },
  {
   "cell_type": "code",
   "execution_count": null,
   "metadata": {
    "kernel": "R"
   },
   "outputs": [],
   "source": [
    "res = lm(Y[,1] ~ X[,1:10])\n",
    "head(res$residuals)"
   ]
  },
  {
   "cell_type": "code",
   "execution_count": null,
   "metadata": {
    "kernel": "R"
   },
   "outputs": [],
   "source": [
    "head(Y[,1] - cbind(1, X[,1:10]) %*% coef(res))"
   ]
  },
  {
   "cell_type": "code",
   "execution_count": null,
   "metadata": {
    "kernel": "R"
   },
   "outputs": [],
   "source": [
    "coef(res)"
   ]
  },
  {
   "cell_type": "code",
   "execution_count": null,
   "metadata": {
    "kernel": "SoS"
   },
   "outputs": [],
   "source": [
    "from sklearn.linear_model import LinearRegression\n",
    "model = LinearRegression()\n",
    "model.fit(X[:,0:2], Y[:,0])\n",
    "res = Y[:,0] - model.predict(X[:,0:2])"
   ]
  },
  {
   "cell_type": "code",
   "execution_count": null,
   "metadata": {
    "kernel": "SoS"
   },
   "outputs": [],
   "source": [
    "res[:,(0,10)]"
   ]
  },
  {
   "cell_type": "code",
   "execution_count": null,
   "metadata": {
    "kernel": "SoS"
   },
   "outputs": [],
   "source": [
    "from scipy.stats import linregress\n",
    "def univariate_simple_regression(X, y, Z=None):\n",
    "        if Z is not None:\n",
    "            model = LinearRegression()\n",
    "            model.fit(Z, y)\n",
    "            y = y - model.predict(Z)\n",
    "        return np.vstack([linregress(x, y) for x in X.T])[:,[0,1,4]]"
   ]
  },
  {
   "cell_type": "code",
   "execution_count": null,
   "metadata": {
    "kernel": "SoS"
   },
   "outputs": [],
   "source": [
    "res = univariate_simple_regression(X,Y[:,0])"
   ]
  },
  {
   "cell_type": "code",
   "execution_count": null,
   "metadata": {
    "kernel": "SoS"
   },
   "outputs": [],
   "source": [
    "res[:,2]"
   ]
  },
  {
   "cell_type": "code",
   "execution_count": null,
   "metadata": {
    "kernel": "SoS"
   },
   "outputs": [],
   "source": [
    "sebetahat[:,0]"
   ]
  },
  {
   "cell_type": "code",
   "execution_count": null,
   "metadata": {
    "kernel": "SoS"
   },
   "outputs": [],
   "source": [
    "betahat"
   ]
  },
  {
   "cell_type": "code",
   "execution_count": null,
   "metadata": {
    "kernel": "SoS"
   },
   "outputs": [],
   "source": [
    "data.B"
   ]
  },
  {
   "cell_type": "code",
   "execution_count": null,
   "metadata": {
    "kernel": "SoS"
   },
   "outputs": [],
   "source": [
    "data = MASHData(X = X, Y = Y)"
   ]
  },
  {
   "cell_type": "code",
   "execution_count": null,
   "metadata": {},
   "outputs": [],
   "source": []
  }
 ],
 "metadata": {
  "celltoolbar": "Tags",
  "kernelspec": {
   "display_name": "SoS",
   "language": "sos",
   "name": "sos"
  },
  "language_info": {
   "codemirror_mode": "sos",
   "file_extension": ".sos",
   "mimetype": "text/x-sos",
   "name": "sos",
   "nbconvert_exporter": "sos_notebook.converter.SoS_Exporter",
   "pygments_lexer": "sos"
  },
  "sos": {
   "default_kernel": "Python3",
   "kernels": [
    [
     "Python3",
     "python3",
     "Python3",
     "#FFE771"
    ],
    [
     "R",
     "ir",
     "R",
     "#DCDCDA"
    ],
    [
     "SoS",
     "sos",
     "",
     ""
    ]
   ],
   "panel": {
    "displayed": true,
    "height": "655px",
    "style": "side"
   }
  }
 },
 "nbformat": 4,
 "nbformat_minor": 2
}
