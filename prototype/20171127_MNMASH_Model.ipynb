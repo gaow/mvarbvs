{
 "cells": [
  {
   "cell_type": "markdown",
   "metadata": {},
   "source": [
    "# Prototype of core update in M&M ASH model\n",
    "This is the core update for VEM step of M&M ASH model, version 2, single SNP calculation under MASH model.\n",
    "\n",
    "The notebook prototypes the codes in `libgaow` repo."
   ]
  },
  {
   "cell_type": "markdown",
   "metadata": {},
   "source": [
    "$\\newcommand{\\bs}[1]{\\boldsymbol{#1}}$\n",
    "$\\DeclareMathOperator*{\\diag}{diag}$\n",
    "$\\DeclareMathOperator*{\\cov}{cov}$\n",
    "$\\DeclareMathOperator*{\\rank}{rank}$\n",
    "$\\DeclareMathOperator*{\\var}{var}$\n",
    "$\\DeclareMathOperator*{\\tr}{tr}$\n",
    "$\\DeclareMathOperator*{\\veco}{vec}$\n",
    "$\\DeclareMathOperator*{\\uniform}{\\mathcal{U}niform}$\n",
    "$\\DeclareMathOperator*{\\argmin}{arg\\ min}$\n",
    "$\\DeclareMathOperator*{\\argmax}{arg\\ max}$\n",
    "$\\DeclareMathOperator*{\\N}{N}$\n",
    "$\\DeclareMathOperator*{\\gm}{Gamma}$\n",
    "$\\DeclareMathOperator*{\\dif}{d}$"
   ]
  },
  {
   "cell_type": "code",
   "execution_count": 1,
   "metadata": {
    "kernel": "Python3"
   },
   "outputs": [
    {
     "name": "stdout",
     "output_type": "stream",
     "text": [
      "/home/gaow/GIT/software/libgaow/py/src"
     ]
    }
   ],
   "source": [
    "%cd /home/gaow/GIT/software/libgaow/py/src/"
   ]
  },
  {
   "cell_type": "code",
   "execution_count": 2,
   "metadata": {
    "kernel": "R",
    "scrolled": true,
    "tags": [
     "report_output"
    ]
   },
   "outputs": [
    {
     "name": "stdout",
     "output_type": "stream",
     "text": [
      "List of 2\n",
      " $ Y:'data.frame':\t698 obs. of  2 variables:\n",
      "  ..$ Thyroid: num [1:698] 0.163 0.436 -0.212 0.327 -0.698 ...\n",
      "  ..$ Lung   : num [1:698] 0.77011 0.77799 -0.65361 0.00672 -0.36792 ...\n",
      " $ X: num [1:698, 1:7492] 1 0 0 0 0 1 1 0 1 1 ...\n",
      "  ..- attr(*, \"dimnames\")=List of 2\n",
      "  .. ..$ : chr [1:698] \"GTEX-111CU\" \"GTEX-111FC\" \"GTEX-111VG\" \"GTEX-111YS\" ...\n",
      "  .. ..$ : chr [1:7492] \"chr1_170185243_G_A_b38\" \"chr1_170185272_T_C_b38\" \"chr1_170185405_C_A_b38\" \"chr1_170185417_G_A_b38\" ...\n"
     ]
    }
   ],
   "source": [
    "dat = readRDS('/home/gaow/Documents/GTExV8/Thyroid.Lung.FMO2.filled.rds')\n",
    "str(dat)\n",
    "attach(dat)"
   ]
  },
  {
   "cell_type": "code",
   "execution_count": 3,
   "metadata": {
    "kernel": "SoS"
   },
   "outputs": [
    {
     "name": "stderr",
     "output_type": "stream",
     "text": [
      "Loading required package: feather\n"
     ]
    }
   ],
   "source": [
    "%get X Y --from R\n",
    "import numpy as np"
   ]
  },
  {
   "cell_type": "markdown",
   "metadata": {},
   "source": [
    "## Data preview"
   ]
  },
  {
   "cell_type": "code",
   "execution_count": 4,
   "metadata": {
    "kernel": "SoS",
    "tags": [
     "report_output"
    ]
   },
   "outputs": [
    {
     "data": {
      "text/plain": [
       "array([[ 1.,  0.,  0., ...,  0.,  1.,  0.],\n",
       "       [ 0.,  0.,  0., ...,  0.,  1.,  0.],\n",
       "       [ 0.,  1.,  0., ...,  0.,  1.,  0.],\n",
       "       ..., \n",
       "       [ 0.,  0.,  0., ...,  0.,  0.,  0.],\n",
       "       [ 0.,  0.,  0., ...,  0.,  1.,  0.],\n",
       "       [ 0.,  0.,  0., ...,  0.,  1.,  0.]])"
      ]
     },
     "execution_count": 4,
     "metadata": {},
     "output_type": "execute_result"
    }
   ],
   "source": [
    "X"
   ]
  },
  {
   "cell_type": "code",
   "execution_count": 5,
   "metadata": {
    "kernel": "SoS"
   },
   "outputs": [],
   "source": [
    "Y = Y.as_matrix()"
   ]
  },
  {
   "cell_type": "code",
   "execution_count": 6,
   "metadata": {
    "kernel": "SoS",
    "tags": [
     "report_output"
    ]
   },
   "outputs": [
    {
     "data": {
      "text/plain": [
       "array([[ 0.16348104,  0.77010917],\n",
       "       [ 0.43588995,  0.77798736],\n",
       "       [-0.21237311, -0.65361193],\n",
       "       ..., \n",
       "       [ 0.62036618, -0.0035004 ],\n",
       "       [ 0.00279156, -0.05439095],\n",
       "       [-0.14650835,  0.29935286]])"
      ]
     },
     "execution_count": 6,
     "metadata": {},
     "output_type": "execute_result"
    }
   ],
   "source": [
    "Y"
   ]
  },
  {
   "cell_type": "markdown",
   "metadata": {},
   "source": [
    "## Utility: mash model"
   ]
  },
  {
   "cell_type": "code",
   "execution_count": 155,
   "metadata": {
    "kernel": "SoS"
   },
   "outputs": [
    {
     "data": {
      "text/html": [
       "<div class=\"sos_hint\">Cell content saved to <a href=\"/home/gaow/GIT/software/libgaow/py/src/model_mash.py\" target=\"_blank\">/home/gaow/GIT/software/libgaow/py/src/model_mash.py</a></div>"
      ],
      "text/plain": [
       "Cell content saved to /home/gaow/GIT/software/libgaow/py/src/model_mash.py\n"
      ]
     },
     "metadata": {},
     "output_type": "display_data"
    }
   ],
   "source": [
    "%save /home/gaow/GIT/software/libgaow/py/src/model_mash.py -f\n",
    "#!/usr/bin/env python3\n",
    "__author__ = \"Gao Wang\"\n",
    "__copyright__ = \"Copyright 2016, Stephens lab\"\n",
    "__email__ = \"gaow@uchicago.edu\"\n",
    "__license__ = \"MIT\"\n",
    "__version__ = \"0.1.0\"\n",
    "\n",
    "import numpy as np, scipy as sp\n",
    "from scipy.stats import norm, multivariate_normal as mvnorm\n",
    "from collections import OrderedDict\n",
    "\n",
    "def inv_sympd(m):\n",
    "    '''\n",
    "    Inverse of symmetric positive definite\n",
    "    https://stackoverflow.com/questions/40703042/more-efficient-way-to-invert-a-matrix-knowing-it-is-symmetric-and-positive-semi\n",
    "    '''\n",
    "    zz , _ = sp.linalg.lapack.dpotrf(m, False, False)\n",
    "    inv_m , info = sp.linalg.lapack.dpotri(zz)\n",
    "    # lapack only returns the upper or lower triangular part\n",
    "    return np.triu(inv_m) + np.triu(inv_m, k=1).T\n",
    "\n",
    "def get_svs(s, V):\n",
    "    '''\n",
    "    diag(s) @ V @ diag(s)\n",
    "    '''\n",
    "    return (s * V.T).T * s\n",
    "\n",
    "def safe_mvnorm_logpdf(val, cov):\n",
    "    try:\n",
    "        return mvnorm.logpdf(val, cov=cov)\n",
    "    except np.linalg.linalg.LinAlgError:\n",
    "        if len(val.shape) == 1:\n",
    "            return np.inf if np.sum(val) < 1E-6 else -np.inf\n",
    "        else:\n",
    "            return np.array([np.inf if np.sum(x) < 1E-6 else -np.inf for x in val.T])\n",
    "\n",
    "class LikelihoodMASH:\n",
    "    def __init__(self, data):\n",
    "        self.J = data.B.shape[0]\n",
    "        self.R = data.B.shape[1]\n",
    "        self.P = len(data.U)\n",
    "        self.data = data\n",
    "        self.data.lik = {'relative_likelihood' : None,\n",
    "                         'lfactor': None,\n",
    "                         'marginal_loglik': None,\n",
    "                         'loglik': None,\n",
    "                         'null_loglik': None,\n",
    "                         'alt_loglik': None}\n",
    "        self.debug = None\n",
    "\n",
    "    def compute_log10bf(self):\n",
    "        self.data.l10bf = (self.data.lik['alt_loglik'] -  self.data.lik['null_loglik']) / np.log(10)\n",
    "\n",
    "    def compute_relative_likelihood_matrix(self):\n",
    "        matrix_llik = self._calc_likelihood_matrix_comcov() if self.data.is_common_cov() \\\n",
    "                      else self._calc_likelihood_matrix()\n",
    "        lfactors = np.amax(matrix_llik, axis = 1)\n",
    "        self.data.lik['relative_likelihood'] = np.exp(matrix_llik - np.vstack(lfactors))\n",
    "        self.data.lik['lfactor'] = lfactors\n",
    "\n",
    "    def _calc_likelihood_matrix(self):\n",
    "        loglik = np.zeros((self.J, self.P))\n",
    "        for j in range(self.J):\n",
    "            sigma_mat = get_svs(self.data.S[j,:], self.data.V)\n",
    "            loglik[j,:] = np.array([safe_mvnorm_logpdf(self.data.B[j,:], sigma_mat + self.data.U[p]) for p in self.data.U])\n",
    "        return loglik\n",
    "\n",
    "    def _calc_likelihood_matrix_comcov(self):\n",
    "        sigma_mat = get_svs(self.data.S[0,:], self.data.V)\n",
    "        return np.array([safe_mvnorm_logpdf(self.data.B, sigma_mat + self.data.U[p]) for p in self.data.U]).T\n",
    "\n",
    "    def compute_loglik_from_matrix(self, options = ['marginal', 'alt', 'null']):\n",
    "        '''\n",
    "        data.lik.relative_likelihood first column is null, the rest are alt\n",
    "        '''\n",
    "        if 'marginal' in options:\n",
    "            self.data.lik['marginal_loglik'] = np.log(self.data.lik['relative_likelihood'] @ self.data.pi) + self.data.lik['lfactor']\n",
    "            self.data.lik['loglik'] = np.sum(self.data.lik['marginal_loglik'])\n",
    "        if 'alt' in options:\n",
    "            self.data.lik['alt_loglik'] = np.log(self.data.lik['relative_likelihood'][:,1:] @ (self.data.pi[1:] / (1 - self.data.pi[0]))) + self.data.lik['lfactor']\n",
    "        if 'null' in options:\n",
    "            self.data.lik['null_loglik'] = np.log(self.data.lik['relative_likelihood'][:,0]) + self.data.lik['lfactor']\n",
    "\n",
    "class PosteriorMASH:\n",
    "    def __init__(self, data):\n",
    "        '''\n",
    "        // @param b_mat J by R\n",
    "        // @param s_mat J by R\n",
    "        // @param v_mat R by R\n",
    "        // @param U_cube list of prior covariance matrices, for each mixture component P by R by R\n",
    "        '''\n",
    "        self.J = data.B.shape[0]\n",
    "        self.R = data.B.shape[1]\n",
    "        self.P = len(data.U)\n",
    "        self.data = data\n",
    "        self.data.post_mean_mat = np.zeros((self.R, self.J))\n",
    "        self.data.post_mean2_mat = np.zeros((self.R, self.J))\n",
    "        self.data.neg_prob_mat = np.zeros((self.R, self.J))\n",
    "        self.data.zero_prob_mat = np.zeros((self.R, self.J))\n",
    "\n",
    "    def compute_posterior_weights(self):\n",
    "        d = (self.data.pi * self.data.lik['relative_likelihood'])\n",
    "        self.data.posterior_weights = (d.T / np.sum(d, axis = 1))\n",
    "\n",
    "    def compute_posterior(self):\n",
    "        for j in range(self.J):\n",
    "            Vinv_mat = inv_sympd(get_svs(self.data.S[j,:], self.data.V))\n",
    "            mu1_mat = np.zeros((self.R, self.P))\n",
    "            mu2_mat = np.zeros((self.R, self.P))\n",
    "            zero_mat = np.zeros((self.R, self.P))\n",
    "            neg_mat = np.zeros((self.R, self.P))\n",
    "            for p, name in enumerate(self.data.U.keys()):\n",
    "                U1_mat = self.get_posterior_cov(Vinv_mat, self.data.U[name])\n",
    "                mu1_mat[:,p] = self.get_posterior_mean_vec(self.data.B[j,:], Vinv_mat, U1_mat)\n",
    "                sigma_vec = np.sqrt(np.diag(U1_mat))\n",
    "                null_cond = (sigma_vec == 0)\n",
    "                mu2_mat[:,p] = np.square(mu1_mat[:,p]) + np.diag(U1_mat)\n",
    "                if not null_cond.all():\n",
    "                    neg_mat[np.invert(null_cond),p] = norm.sf(mu1_mat[np.invert(null_cond),p], scale=sigma_vec[np.invert(null_cond)])\n",
    "                zero_mat[null_cond,p] = 1.0\n",
    "            self.data.post_mean_mat[:,j] = mu1_mat @ self.data.posterior_weights[:,j]\n",
    "            self.data.post_mean2_mat[:,j] = mu2_mat @ self.data.posterior_weights[:,j]\n",
    "            self.data.neg_prob_mat[:,j] = neg_mat @ self.data.posterior_weights[:,j]\n",
    "            self.data.zero_prob_mat[:,j] = zero_mat @ self.data.posterior_weights[:,j]\n",
    "\n",
    "    def compute_posterior_comcov(self):\n",
    "        Vinv_mat = inv_sympd(get_svs(self.data.S[0,:], self.data.V))\n",
    "        for p, name in enumerate(self.data.U.keys()):\n",
    "            zero_mat = np.zeros((self.R, self.J))\n",
    "            U1_mat = self.get_posterior_cov(Vinv_mat, self.data.U[name])\n",
    "            mu1_mat = self.get_posterior_mean_mat(self.data.B, Vinv_mat, U1_mat)\n",
    "            sigma_vec = np.sqrt(np.diag(U1_mat))\n",
    "            null_cond = (sigma_vec == 0)\n",
    "            sigma_mat = np.tile(sigma_vec, (self.J, 1)).T\n",
    "            neg_mat = np.zeros((self.R, self.J))\n",
    "            if not null_cond.all():\n",
    "                neg_mat[np.invert(null_cond),:] = norm.sf(mu1_mat[np.invert(null_cond),:], scale = sigma_mat[np.invert(null_cond),:])\n",
    "            mu2_mat = np.square(mu1_mat) + np.vstack(np.diag(U1_mat))\n",
    "            zero_mat[null_cond,:] = 1.0\n",
    "            self.data.post_mean_mat += self.data.posterior_weights[p,:] * mu1_mat\n",
    "            self.data.post_mean2_mat += self.data.posterior_weights[p,:] * mu2_mat\n",
    "            self.data.neg_prob_mat += self.data.posterior_weights[p,:] * neg_mat\n",
    "            self.data.zero_prob_mat += self.data.posterior_weights[p,:] * zero_mat\n",
    "\n",
    "    @staticmethod\n",
    "    def get_posterior_mean_vec(B, V_inv, U):\n",
    "        return U @ (V_inv @ B)\n",
    "\n",
    "    @staticmethod\n",
    "    def get_posterior_mean_mat(B, V_inv, U):\n",
    "        return (B @ V_inv @ U).T\n",
    "\n",
    "    @staticmethod\n",
    "    def get_posterior_cov(V_inv, U):\n",
    "        return U @ inv_sympd(V_inv @ U + np.identity(U.shape[0]))\n",
    "\n",
    "    @classmethod\n",
    "    def apply(cls, data):\n",
    "        obj = cls(data)\n",
    "        obj.compute_posterior_weights()\n",
    "        if data.is_common_cov():\n",
    "            obj.compute_posterior_comcov()\n",
    "        else:\n",
    "            obj.compute_posterior()\n",
    "\n",
    "class PriorMASH:\n",
    "    def __init__(self, data):\n",
    "        self.data = data\n",
    "        self.R = data.B.shape[1]\n",
    "\n",
    "    def expand_cov(self, use_pointmass = True):\n",
    "        def product(x,y):\n",
    "            for item in y:\n",
    "                yield x*item\n",
    "        res = OrderedDict()\n",
    "        if use_pointmass:\n",
    "            res['null'] = np.zeros((self.R, self.R))\n",
    "        res.update(OrderedDict(sum([[(f\"{p}.{i+1}\", g) for i, g in enumerate(product(self.data.U[p], np.square(self.data.grid)))] for p in self.data.U], [])))\n",
    "        self.data.U = res"
   ]
  },
  {
   "cell_type": "markdown",
   "metadata": {},
   "source": [
    "## Utility: regression data"
   ]
  },
  {
   "cell_type": "code",
   "execution_count": 156,
   "metadata": {
    "kernel": "Python3"
   },
   "outputs": [],
   "source": [
    "%save /home/gaow/GIT/software/libgaow/py/src/regression_data.py -f\n",
    "#!/usr/bin/env python3\n",
    "__author__ = \"Gao Wang\"\n",
    "__copyright__ = \"Copyright 2016, Stephens lab\"\n",
    "__email__ = \"gaow@uchicago.edu\"\n",
    "__license__ = \"MIT\"\n",
    "__version__ = \"0.1.0\"\n",
    "\n",
    "#from .model_mash import PriorMASH, LikelihoodMASH, PosteriorMASH\n",
    "from scipy.stats import linregress\n",
    "from sklearn.linear_model import LinearRegression\n",
    "\n",
    "class RegressionData:\n",
    "    def __init__(self, X = None, Y = None, Z = None, B = None, S = None):\n",
    "        self.X = X\n",
    "        self.Y = Y\n",
    "        self.Z = Z\n",
    "        self.B = B\n",
    "        self.S = S\n",
    "        self.lik = None\n",
    "        if (self.X is not None and self.Y is not None) and (self.B is None and self.S is None):\n",
    "            self.get_summary_stats()\n",
    "\n",
    "    def get_summary_stats(self):\n",
    "        '''\n",
    "        perform univariate regression\n",
    "        FIXME: it is slower than lapply + .lm.fit in R\n",
    "        FIXME: this faster implementation is on my watch list:\n",
    "        https://github.com/ajferraro/fastreg\n",
    "        '''\n",
    "        self.B = np.zeros((self.X.shape[1], self.Y.shape[1]))\n",
    "        self.S = np.zeros((self.X.shape[1], self.Y.shape[1]))\n",
    "        for r, y in enumerate(self.Y.T):\n",
    "            self.B[:,r], self.S[:,r] = self.univariate_simple_regression(self.X, y)[:,[0,2]].T\n",
    "        \n",
    "    @staticmethod\n",
    "    def univariate_simple_regression(X, y, Z=None):\n",
    "        if Z is not None:\n",
    "            model = LinearRegression()\n",
    "            model.fit(Z, y)\n",
    "            y = y - model.predict(Z)\n",
    "        return np.vstack([linregress(x, y) for x in X.T])[:,[0,1,4]]\n",
    "\n",
    "    def __str__(self):\n",
    "        l = dir(self)\n",
    "        d = self.__dict__\n",
    "        from pprint import pformat\n",
    "        return pformat(d, indent = 4)\n",
    "\n",
    "class MASHData(RegressionData):\n",
    "    def __init__(self, X = None, Y = None, Z = None, B = None, S = None):\n",
    "        RegressionData.__init__(self, X, Y, Z, B, S)\n",
    "        self.post_mean_mat = None\n",
    "        self.post_mean2_mat = None\n",
    "        self.neg_prob_mat = None\n",
    "        self.zero_prob_mat = None\n",
    "        self._is_common_cov = None\n",
    "        self.V = None\n",
    "        self.U = None\n",
    "        self.pi = None\n",
    "        self.posterior_weights = None\n",
    "        self.grid = None\n",
    "        self.l10bf = None\n",
    "\n",
    "    def is_common_cov(self):\n",
    "        if self._is_common_cov is None and self.S is not None:\n",
    "            self._is_common_cov = (self.S.T == self.S.T[0,:]).all()\n",
    "        return self._is_common_cov\n",
    "\n",
    "    def compute_posterior(self):\n",
    "        PosteriorMASH.apply(self)\n",
    "\n",
    "    def set_prior(self):\n",
    "        prior = PriorMASH(self)\n",
    "        prior.expand_cov()"
   ]
  },
  {
   "cell_type": "markdown",
   "metadata": {},
   "source": [
    "## Test univariate regression routine"
   ]
  },
  {
   "cell_type": "code",
   "execution_count": 9,
   "metadata": {
    "kernel": "R"
   },
   "outputs": [
    {
     "data": {
      "text/html": [
       "<ol class=list-inline>\n",
       "\t<li>0.178541744725261</li>\n",
       "\t<li>0.414394499518509</li>\n",
       "\t<li>-0.15988496576394</li>\n",
       "\t<li>0.305153574791564</li>\n",
       "\t<li>-0.71932663295116</li>\n",
       "\t<li>0.855183342987</li>\n",
       "</ol>\n"
      ],
      "text/latex": [
       "\\begin{enumerate*}\n",
       "\\item 0.178541744725261\n",
       "\\item 0.414394499518509\n",
       "\\item -0.15988496576394\n",
       "\\item 0.305153574791564\n",
       "\\item -0.71932663295116\n",
       "\\item 0.855183342987\n",
       "\\end{enumerate*}\n"
      ],
      "text/markdown": [
       "1. 0.178541744725261\n",
       "2. 0.414394499518509\n",
       "3. -0.15988496576394\n",
       "4. 0.305153574791564\n",
       "5. -0.71932663295116\n",
       "6. 0.855183342987\n",
       "\n",
       "\n"
      ],
      "text/plain": [
       "[1]  0.1785417  0.4143945 -0.1598850  0.3051536 -0.7193266  0.8551833"
      ]
     },
     "metadata": {},
     "output_type": "display_data"
    }
   ],
   "source": [
    "res = .lm.fit(cbind(1, X[,1:2]), Y[,1])\n",
    "head(res$residuals)"
   ]
  },
  {
   "cell_type": "code",
   "execution_count": 10,
   "metadata": {
    "kernel": "R"
   },
   "outputs": [
    {
     "data": {
      "text/html": [
       "<table>\n",
       "<tbody>\n",
       "\t<tr><th scope=row>GTEX-111CU</th><td> 0.1785417</td></tr>\n",
       "\t<tr><th scope=row>GTEX-111FC</th><td> 0.4143945</td></tr>\n",
       "\t<tr><th scope=row>GTEX-111VG</th><td>-0.1598850</td></tr>\n",
       "\t<tr><th scope=row>GTEX-111YS</th><td> 0.3051536</td></tr>\n",
       "\t<tr><th scope=row>GTEX-1122O</th><td>-0.7193266</td></tr>\n",
       "\t<tr><th scope=row>GTEX-1128S</th><td> 0.8551833</td></tr>\n",
       "</tbody>\n",
       "</table>\n"
      ],
      "text/latex": [
       "\\begin{tabular}{r|l}\n",
       "\tGTEX-111CU &  0.1785417\\\\\n",
       "\tGTEX-111FC &  0.4143945\\\\\n",
       "\tGTEX-111VG & -0.1598850\\\\\n",
       "\tGTEX-111YS &  0.3051536\\\\\n",
       "\tGTEX-1122O & -0.7193266\\\\\n",
       "\tGTEX-1128S &  0.8551833\\\\\n",
       "\\end{tabular}\n"
      ],
      "text/markdown": [
       "\n",
       "| GTEX-111CU |  0.1785417 | \n",
       "| GTEX-111FC |  0.4143945 | \n",
       "| GTEX-111VG | -0.1598850 | \n",
       "| GTEX-111YS |  0.3051536 | \n",
       "| GTEX-1122O | -0.7193266 | \n",
       "| GTEX-1128S |  0.8551833 | \n",
       "\n",
       "\n"
      ],
      "text/plain": [
       "           [,1]      \n",
       "GTEX-111CU  0.1785417\n",
       "GTEX-111FC  0.4143945\n",
       "GTEX-111VG -0.1598850\n",
       "GTEX-111YS  0.3051536\n",
       "GTEX-1122O -0.7193266\n",
       "GTEX-1128S  0.8551833"
      ]
     },
     "metadata": {},
     "output_type": "display_data"
    }
   ],
   "source": [
    "head(Y[,1] - cbind(1, X[,1:2]) %*% coef(res))"
   ]
  },
  {
   "cell_type": "code",
   "execution_count": 11,
   "metadata": {
    "kernel": "R"
   },
   "outputs": [
    {
     "data": {
      "text/html": [
       "<dl class=dl-horizontal>\n",
       "\t<dt>1</dt>\n",
       "\t\t<dd>0.178541744725261</dd>\n",
       "\t<dt>2</dt>\n",
       "\t\t<dd>0.414394499518509</dd>\n",
       "\t<dt>3</dt>\n",
       "\t\t<dd>-0.15988496576394</dd>\n",
       "\t<dt>4</dt>\n",
       "\t\t<dd>0.305153574791564</dd>\n",
       "\t<dt>5</dt>\n",
       "\t\t<dd>-0.71932663295116</dd>\n",
       "\t<dt>6</dt>\n",
       "\t\t<dd>0.855183342987</dd>\n",
       "</dl>\n"
      ],
      "text/latex": [
       "\\begin{description*}\n",
       "\\item[1] 0.178541744725261\n",
       "\\item[2] 0.414394499518509\n",
       "\\item[3] -0.15988496576394\n",
       "\\item[4] 0.305153574791564\n",
       "\\item[5] -0.71932663295116\n",
       "\\item[6] 0.855183342987\n",
       "\\end{description*}\n"
      ],
      "text/markdown": [
       "1\n",
       ":   0.1785417447252612\n",
       ":   0.4143944995185093\n",
       ":   -0.159884965763944\n",
       ":   0.3051535747915645\n",
       ":   -0.719326632951166\n",
       ":   0.855183342987\n",
       "\n"
      ],
      "text/plain": [
       "         1          2          3          4          5          6 \n",
       " 0.1785417  0.4143945 -0.1598850  0.3051536 -0.7193266  0.8551833 "
      ]
     },
     "metadata": {},
     "output_type": "display_data"
    }
   ],
   "source": [
    "res = lm(Y[,1] ~ X[,1:2])\n",
    "head(res$residuals)"
   ]
  },
  {
   "cell_type": "code",
   "execution_count": 12,
   "metadata": {
    "kernel": "R"
   },
   "outputs": [
    {
     "data": {
      "text/html": [
       "<table>\n",
       "<tbody>\n",
       "\t<tr><th scope=row>GTEX-111CU</th><td> 0.1785417</td></tr>\n",
       "\t<tr><th scope=row>GTEX-111FC</th><td> 0.4143945</td></tr>\n",
       "\t<tr><th scope=row>GTEX-111VG</th><td>-0.1598850</td></tr>\n",
       "\t<tr><th scope=row>GTEX-111YS</th><td> 0.3051536</td></tr>\n",
       "\t<tr><th scope=row>GTEX-1122O</th><td>-0.7193266</td></tr>\n",
       "\t<tr><th scope=row>GTEX-1128S</th><td> 0.8551833</td></tr>\n",
       "</tbody>\n",
       "</table>\n"
      ],
      "text/latex": [
       "\\begin{tabular}{r|l}\n",
       "\tGTEX-111CU &  0.1785417\\\\\n",
       "\tGTEX-111FC &  0.4143945\\\\\n",
       "\tGTEX-111VG & -0.1598850\\\\\n",
       "\tGTEX-111YS &  0.3051536\\\\\n",
       "\tGTEX-1122O & -0.7193266\\\\\n",
       "\tGTEX-1128S &  0.8551833\\\\\n",
       "\\end{tabular}\n"
      ],
      "text/markdown": [
       "\n",
       "| GTEX-111CU |  0.1785417 | \n",
       "| GTEX-111FC |  0.4143945 | \n",
       "| GTEX-111VG | -0.1598850 | \n",
       "| GTEX-111YS |  0.3051536 | \n",
       "| GTEX-1122O | -0.7193266 | \n",
       "| GTEX-1128S |  0.8551833 | \n",
       "\n",
       "\n"
      ],
      "text/plain": [
       "           [,1]      \n",
       "GTEX-111CU  0.1785417\n",
       "GTEX-111FC  0.4143945\n",
       "GTEX-111VG -0.1598850\n",
       "GTEX-111YS  0.3051536\n",
       "GTEX-1122O -0.7193266\n",
       "GTEX-1128S  0.8551833"
      ]
     },
     "metadata": {},
     "output_type": "display_data"
    }
   ],
   "source": [
    "head(Y[,1] - cbind(1, X[,1:2]) %*% coef(res))"
   ]
  },
  {
   "cell_type": "code",
   "execution_count": 13,
   "metadata": {
    "kernel": "SoS"
   },
   "outputs": [
    {
     "data": {
      "text/plain": [
       "array([ 0.17854174,  0.4143945 , -0.15988497,  0.30515357, -0.71932663,\n",
       "        0.85518334,  1.30196229,  0.09393039,  0.77884804, -0.31470184])"
      ]
     },
     "execution_count": 13,
     "metadata": {},
     "output_type": "execute_result"
    }
   ],
   "source": [
    "from sklearn.linear_model import LinearRegression\n",
    "model = LinearRegression()\n",
    "model.fit(X[:,0:2], Y[:,0])\n",
    "res = Y[:,0] - model.predict(X[:,0:2])\n",
    "res[:10]"
   ]
  },
  {
   "cell_type": "markdown",
   "metadata": {},
   "source": [
    "## Test MASH posterior\n",
    "### Python version"
   ]
  },
  {
   "cell_type": "code",
   "execution_count": 84,
   "metadata": {
    "kernel": "SoS"
   },
   "outputs": [],
   "source": [
    "def mash_compute_this_and_that(X, Y):\n",
    "    data = MASHData(X = X, Y = Y)\n",
    "    data.U = {'identity': np.identity(2)}\n",
    "    data.V = np.identity(2)\n",
    "    data.pi = np.array([0.9, 0.05, 0.05])\n",
    "    data.grid = [0.5, 1]\n",
    "    data.set_prior()\n",
    "    lik = LikelihoodMASH(data)\n",
    "    lik.compute_relative_likelihood_matrix()\n",
    "    lik.compute_loglik_from_matrix()\n",
    "    lik.compute_log10bf()\n",
    "    data.compute_posterior()\n",
    "    return data"
   ]
  },
  {
   "cell_type": "code",
   "execution_count": 85,
   "metadata": {
    "kernel": "SoS"
   },
   "outputs": [],
   "source": [
    "res = mash_compute_this_and_that(X, Y)"
   ]
  },
  {
   "cell_type": "code",
   "execution_count": 16,
   "metadata": {
    "kernel": "SoS",
    "scrolled": false
   },
   "outputs": [
    {
     "name": "stdout",
     "output_type": "stream",
     "text": [
      "{   'B': array([[-0.03408121, -0.02613348],\n",
      "       [-0.07003705, -0.05107982],\n",
      "       [-0.04920761, -0.06484084],\n",
      "       ..., \n",
      "       [ 0.03982337,  0.00081487],\n",
      "       [-0.01525277,  0.03298256],\n",
      "       [ 0.04406519,  0.00465186]]),\n",
      "    'S': array([[ 0.03928001,  0.02503258],\n",
      "       [ 0.07055237,  0.04496304],\n",
      "       [ 0.05550492,  0.03531559],\n",
      "       ..., \n",
      "       [ 0.0570164 ,  0.03635724],\n",
      "       [ 0.03057429,  0.01945261],\n",
      "       [ 0.05676716,  0.03620087]]),\n",
      "    'U': OrderedDict([   ('null', array([[ 0.,  0.],\n",
      "       [ 0.,  0.]])),\n",
      "                         (   'identity.1',\n",
      "                             array([[ 0.25,  0.  ],\n",
      "       [ 0.  ,  0.25]])),\n",
      "                         (   'identity.2',\n",
      "                             array([[ 1.,  0.],\n",
      "       [ 0.,  1.]]))]),\n",
      "    'V': array([[ 1.,  0.],\n",
      "       [ 0.,  1.]]),\n",
      "    'X': array([[ 1.,  0.,  0., ...,  0.,  1.,  0.],\n",
      "       [ 0.,  0.,  0., ...,  0.,  1.,  0.],\n",
      "       [ 0.,  1.,  0., ...,  0.,  1.,  0.],\n",
      "       ..., \n",
      "       [ 0.,  0.,  0., ...,  0.,  0.,  0.],\n",
      "       [ 0.,  0.,  0., ...,  0.,  1.,  0.],\n",
      "       [ 0.,  0.,  0., ...,  0.,  1.,  0.]]),\n",
      "    'Y': array([[ 0.16348104,  0.77010917],\n",
      "       [ 0.43588995,  0.77798736],\n",
      "       [-0.21237311, -0.65361193],\n",
      "       ..., \n",
      "       [ 0.62036618, -0.0035004 ],\n",
      "       [ 0.00279156, -0.05439095],\n",
      "       [-0.14650835,  0.29935286]]),\n",
      "    'Z': None,\n",
      "    '_is_common_cov': False,\n",
      "    'grid': [0.5, 1],\n",
      "    'l10bf': array([[-2.21219688, -1.61703523, -1.41510661, ..., -2.1839402 ,\n",
      "        -2.15136117, -2.15957352],\n",
      "       [-2.21219688, -1.61703523, -1.41510661, ..., -2.1839402 ,\n",
      "        -2.15136117, -2.15957352],\n",
      "       [-2.21219688, -1.61703523, -1.41510661, ..., -2.1839402 ,\n",
      "        -2.15136117, -2.15957352],\n",
      "       ..., \n",
      "       [-2.21219688, -1.61703523, -1.41510661, ..., -2.1839402 ,\n",
      "        -2.15136117, -2.15957352],\n",
      "       [-2.21219688, -1.61703523, -1.41510661, ..., -2.1839402 ,\n",
      "        -2.15136117, -2.15957352],\n",
      "       [-2.21219688, -1.61703523, -1.41510661, ..., -2.1839402 ,\n",
      "        -2.15136117, -2.15957352]]),\n",
      "    'lik': {   'alt_loglik': array([[ 5.99623248,  6.1953409 ,  7.14169864, ...,  5.31545763,\n",
      "         6.63906512,  5.38025522],\n",
      "       [ 4.60826588,  4.8073743 ,  5.75373205, ...,  3.92749104,\n",
      "         5.25109853,  3.99228863],\n",
      "       [ 4.14917942,  4.34828784,  5.29464559, ...,  3.46840458,\n",
      "         4.79201207,  3.53320217],\n",
      "       ..., \n",
      "       [ 5.92757547,  6.12668388,  7.07304163, ...,  5.24680062,\n",
      "         6.57040811,  5.31159821],\n",
      "       [ 5.85848209,  6.05759051,  7.00394826, ...,  5.17770724,\n",
      "         6.50131474,  5.24250483],\n",
      "       [ 5.87090335,  6.07001177,  7.01636951, ...,  5.1901285 ,\n",
      "         6.51373599,  5.25492609]]),\n",
      "               'lfactor': array([[ 4.16538757],\n",
      "       [ 2.77742097],\n",
      "       [ 2.31833452],\n",
      "       ..., \n",
      "       [ 4.09673056],\n",
      "       [ 4.02763718],\n",
      "       [ 4.04005844]]),\n",
      "               'loglik': None,\n",
      "               'marginal_loglik': None,\n",
      "               'null_loglik': array([[ 11.09000404,   9.9187021 ,  10.40010203, ...,  10.34416578,\n",
      "         11.59275729,  10.35285703],\n",
      "       [  9.70203744,   8.53073551,   9.01213543, ...,   8.95619919,\n",
      "         10.20479069,   8.96489043],\n",
      "       [  9.24295098,   8.07164905,   8.55304898, ...,   8.49711273,\n",
      "          9.74570423,   8.50580397],\n",
      "       ..., \n",
      "       [ 11.02134702,   9.85004509,  10.33144502, ...,  10.27550877,\n",
      "         11.52410027,  10.28420001],\n",
      "       [ 10.95225365,   9.78095172,  10.26235164, ...,  10.2064154 ,\n",
      "         11.4550069 ,  10.21510664],\n",
      "       [ 10.96467491,   9.79337297,  10.2747729 , ...,  10.21883665,\n",
      "         11.46742816,  10.22752789]]),\n",
      "               'relative_likelihood': array([[ 1.        ,  0.00980395,  0.00246572],\n",
      "       [ 1.        ,  0.03847743,  0.00982787],\n",
      "       [ 1.        ,  0.06131811,  0.01558137],\n",
      "       ..., \n",
      "       [ 1.        ,  0.01045639,  0.00263814],\n",
      "       [ 1.        ,  0.01128277,  0.00283183],\n",
      "       [ 1.        ,  0.01105872,  0.0027915 ]])},\n",
      "    'neg_prob_mat': array([[  5.49433658e-04,   2.24165414e-03,   3.45042889e-03, ...,\n",
      "          1.77114432e-04,   5.41253512e-04,   1.69186104e-04],\n",
      "       [  5.80025487e-04,   2.33176806e-03,   4.11166625e-03, ...,\n",
      "          3.56987564e-04,   3.53297220e-05,   3.45211672e-04]]),\n",
      "    'pi': array([ 0.9 ,  0.05,  0.05]),\n",
      "    'post_mean2_mat': array([[  1.82852978e-06,   2.57995469e-05,   2.30594775e-05, ...,\n",
      "          3.46531369e-06,   9.11249902e-07,   3.91175385e-06],\n",
      "       [  8.89191509e-07,   1.22627365e-05,   2.30182948e-05, ...,\n",
      "          9.57098254e-07,   1.14628632e-06,   1.01962945e-06]]),\n",
      "    'post_mean_mat': array([[ -2.30946163e-05,  -1.84346572e-04,  -2.07167939e-04, ...,\n",
      "          2.86337525e-05,  -1.19131803e-05,   3.35139738e-05],\n",
      "       [ -1.77639138e-05,  -1.35782667e-04,  -2.74672751e-04, ...,\n",
      "          5.89720227e-07,   2.58096594e-05,   3.56081381e-06]]),\n",
      "    'posterior_weights': array([[  9.99318816e-01,   9.97323555e-01,   9.95745981e-01, ...,\n",
      "          9.99273055e-01,   9.99216470e-01,   9.99231135e-01],\n",
      "       [  5.44293024e-04,   2.13191356e-03,   3.39206994e-03, ...,\n",
      "          5.80488132e-04,   6.26329619e-04,   6.13900820e-04],\n",
      "       [  1.36891348e-04,   5.44531546e-04,   8.61949224e-04, ...,\n",
      "          1.46456721e-04,   1.57200874e-04,   1.54963885e-04]]),\n",
      "    'zero_prob_mat': array([[ 0.99931882,  0.99732355,  0.99574598, ...,  0.99927306,\n",
      "         0.99921647,  0.99923114],\n",
      "       [ 0.99931882,  0.99732355,  0.99574598, ...,  0.99927306,\n",
      "         0.99921647,  0.99923114]])}\n"
     ]
    }
   ],
   "source": [
    "print(res)"
   ]
  },
  {
   "cell_type": "code",
   "execution_count": 17,
   "metadata": {
    "kernel": "SoS"
   },
   "outputs": [],
   "source": [
    "betahat = res.B\n",
    "sebetahat = res.S"
   ]
  },
  {
   "cell_type": "code",
   "execution_count": 18,
   "metadata": {
    "kernel": "SoS"
   },
   "outputs": [
    {
     "data": {
      "text/plain": [
       "(7492, 2)"
      ]
     },
     "execution_count": 18,
     "metadata": {},
     "output_type": "execute_result"
    }
   ],
   "source": [
    "res.B.shape"
   ]
  },
  {
   "cell_type": "markdown",
   "metadata": {},
   "source": [
    "### R version"
   ]
  },
  {
   "cell_type": "code",
   "execution_count": 19,
   "metadata": {
    "kernel": "R"
   },
   "outputs": [],
   "source": [
    "%get betahat sebetahat"
   ]
  },
  {
   "cell_type": "code",
   "execution_count": 20,
   "metadata": {
    "kernel": "R"
   },
   "outputs": [],
   "source": [
    "# SoS bug\n",
    "betahat = matrix(betahat, ncol = 2, byrow = T)\n",
    "sebetahat = matrix(sebetahat, ncol = 2, byrow = T)"
   ]
  },
  {
   "cell_type": "code",
   "execution_count": 21,
   "metadata": {
    "kernel": "R"
   },
   "outputs": [],
   "source": [
    "data = mashr::set_mash_data(betahat, sebetahat)\n",
    "g = list(Ulist = list(identity = diag(2)), grid = c(0.5,1), pi = c(0.9,0.05,0.05), usepointmass = T)"
   ]
  },
  {
   "cell_type": "code",
   "execution_count": 50,
   "metadata": {
    "kernel": "R"
   },
   "outputs": [
    {
     "name": "stdout",
     "output_type": "stream",
     "text": [
      " - Computing 7492 x 3 likelihood matrix.\n",
      " - Likelihood calculations took 0.03 seconds.\n",
      " - Computing posterior matrices.\n",
      " - Computation allocated took 0.02 seconds.\n"
     ]
    }
   ],
   "source": [
    "output = mashr::mash(data, g = g, fixg = TRUE, outputlevel = 2)"
   ]
  },
  {
   "cell_type": "markdown",
   "metadata": {},
   "source": [
    "### Posterior agreement"
   ]
  },
  {
   "cell_type": "code",
   "execution_count": 51,
   "metadata": {
    "kernel": "R"
   },
   "outputs": [
    {
     "name": "stdout",
     "output_type": "stream",
     "text": [
      "List of 5\n",
      " $ PosteriorMean: num [1:7492, 1:2] -2.31e-05 -1.84e-04 -2.07e-04 -1.84e-04 -1.84e-04 ...\n",
      " $ PosteriorSD  : num [1:7492, 1:2] 0.00135 0.00508 0.0048 0.00508 0.00508 ...\n",
      " $ lfdr         : num [1:7492, 1:2] 0.999 0.997 0.996 0.997 0.997 ...\n",
      " $ NegativeProb : num [1:7492, 1:2] 0.000549 0.002242 0.00345 0.002242 0.002242 ...\n",
      " $ lfsr         : num [1:7492, 1:2] 0.999 0.998 0.997 0.998 0.998 ...\n"
     ]
    }
   ],
   "source": [
    "res = output$result\n",
    "str(res)"
   ]
  },
  {
   "cell_type": "code",
   "execution_count": 52,
   "metadata": {
    "kernel": "R"
   },
   "outputs": [
    {
     "data": {
      "text/html": [
       "<table>\n",
       "<tbody>\n",
       "\t<tr><td>-2.309462e-05</td><td>-1.776391e-05</td></tr>\n",
       "\t<tr><td>-1.843466e-04</td><td>-1.357827e-04</td></tr>\n",
       "\t<tr><td>-2.071679e-04</td><td>-2.746728e-04</td></tr>\n",
       "\t<tr><td>-1.843466e-04</td><td>-1.357827e-04</td></tr>\n",
       "\t<tr><td>-1.843466e-04</td><td>-1.357827e-04</td></tr>\n",
       "\t<tr><td>-2.373037e-07</td><td>-4.073059e-07</td></tr>\n",
       "\t<tr><td>-6.903817e-05</td><td>-1.042731e-05</td></tr>\n",
       "\t<tr><td> 3.273801e-04</td><td> 5.317394e-06</td></tr>\n",
       "\t<tr><td>-8.864880e-05</td><td>-1.199251e-04</td></tr>\n",
       "\t<tr><td>-1.959964e-04</td><td>-2.629151e-04</td></tr>\n",
       "</tbody>\n",
       "</table>\n"
      ],
      "text/latex": [
       "\\begin{tabular}{ll}\n",
       "\t -2.309462e-05 & -1.776391e-05\\\\\n",
       "\t -1.843466e-04 & -1.357827e-04\\\\\n",
       "\t -2.071679e-04 & -2.746728e-04\\\\\n",
       "\t -1.843466e-04 & -1.357827e-04\\\\\n",
       "\t -1.843466e-04 & -1.357827e-04\\\\\n",
       "\t -2.373037e-07 & -4.073059e-07\\\\\n",
       "\t -6.903817e-05 & -1.042731e-05\\\\\n",
       "\t  3.273801e-04 &  5.317394e-06\\\\\n",
       "\t -8.864880e-05 & -1.199251e-04\\\\\n",
       "\t -1.959964e-04 & -2.629151e-04\\\\\n",
       "\\end{tabular}\n"
      ],
      "text/markdown": [
       "\n",
       "| -2.309462e-05 | -1.776391e-05 | \n",
       "| -1.843466e-04 | -1.357827e-04 | \n",
       "| -2.071679e-04 | -2.746728e-04 | \n",
       "| -1.843466e-04 | -1.357827e-04 | \n",
       "| -1.843466e-04 | -1.357827e-04 | \n",
       "| -2.373037e-07 | -4.073059e-07 | \n",
       "| -6.903817e-05 | -1.042731e-05 | \n",
       "|  3.273801e-04 |  5.317394e-06 | \n",
       "| -8.864880e-05 | -1.199251e-04 | \n",
       "| -1.959964e-04 | -2.629151e-04 | \n",
       "\n",
       "\n"
      ],
      "text/plain": [
       "      [,1]          [,2]         \n",
       " [1,] -2.309462e-05 -1.776391e-05\n",
       " [2,] -1.843466e-04 -1.357827e-04\n",
       " [3,] -2.071679e-04 -2.746728e-04\n",
       " [4,] -1.843466e-04 -1.357827e-04\n",
       " [5,] -1.843466e-04 -1.357827e-04\n",
       " [6,] -2.373037e-07 -4.073059e-07\n",
       " [7,] -6.903817e-05 -1.042731e-05\n",
       " [8,]  3.273801e-04  5.317394e-06\n",
       " [9,] -8.864880e-05 -1.199251e-04\n",
       "[10,] -1.959964e-04 -2.629151e-04"
      ]
     },
     "metadata": {},
     "output_type": "display_data"
    }
   ],
   "source": [
    "head(res$PosteriorMean, n = 10)"
   ]
  },
  {
   "cell_type": "code",
   "execution_count": 53,
   "metadata": {
    "kernel": "SoS"
   },
   "outputs": [
    {
     "name": "stdout",
     "output_type": "stream",
     "text": [
      "[[ -2.30946163e-05  -1.77639138e-05]\n",
      " [ -1.84346572e-04  -1.35782667e-04]\n",
      " [ -2.07167939e-04  -2.74672751e-04]\n",
      " [ -1.84346572e-04  -1.35782667e-04]\n",
      " [ -1.84346572e-04  -1.35782667e-04]\n",
      " [ -2.37303667e-07  -4.07305942e-07]\n",
      " [ -6.90381717e-05  -1.04273146e-05]\n",
      " [  3.27380081e-04   5.31739393e-06]\n",
      " [ -8.86487991e-05  -1.19925076e-04]\n",
      " [ -1.95996399e-04  -2.62915146e-04]]\n"
     ]
    }
   ],
   "source": [
    "print(res.post_mean_mat.T[:10,:])"
   ]
  },
  {
   "cell_type": "code",
   "execution_count": 54,
   "metadata": {
    "kernel": "R"
   },
   "outputs": [
    {
     "data": {
      "text/html": [
       "<table>\n",
       "<tbody>\n",
       "\t<tr><td>0.0013520342</td><td>0.0009428022</td></tr>\n",
       "\t<tr><td>0.0050759790</td><td>0.0034991856</td></tr>\n",
       "\t<tr><td>0.0047975576</td><td>0.0047898695</td></tr>\n",
       "\t<tr><td>0.0050759790</td><td>0.0034991856</td></tr>\n",
       "\t<tr><td>0.0050759790</td><td>0.0034991856</td></tr>\n",
       "\t<tr><td>0.0003934879</td><td>0.0002527649</td></tr>\n",
       "\t<tr><td>0.0068022947</td><td>0.0043295445</td></tr>\n",
       "\t<tr><td>0.0054846100</td><td>0.0013089059</td></tr>\n",
       "\t<tr><td>0.0034916941</td><td>0.0031746901</td></tr>\n",
       "\t<tr><td>0.0046616635</td><td>0.0046710262</td></tr>\n",
       "</tbody>\n",
       "</table>\n"
      ],
      "text/latex": [
       "\\begin{tabular}{ll}\n",
       "\t 0.0013520342 & 0.0009428022\\\\\n",
       "\t 0.0050759790 & 0.0034991856\\\\\n",
       "\t 0.0047975576 & 0.0047898695\\\\\n",
       "\t 0.0050759790 & 0.0034991856\\\\\n",
       "\t 0.0050759790 & 0.0034991856\\\\\n",
       "\t 0.0003934879 & 0.0002527649\\\\\n",
       "\t 0.0068022947 & 0.0043295445\\\\\n",
       "\t 0.0054846100 & 0.0013089059\\\\\n",
       "\t 0.0034916941 & 0.0031746901\\\\\n",
       "\t 0.0046616635 & 0.0046710262\\\\\n",
       "\\end{tabular}\n"
      ],
      "text/markdown": [
       "\n",
       "| 0.0013520342 | 0.0009428022 | \n",
       "| 0.0050759790 | 0.0034991856 | \n",
       "| 0.0047975576 | 0.0047898695 | \n",
       "| 0.0050759790 | 0.0034991856 | \n",
       "| 0.0050759790 | 0.0034991856 | \n",
       "| 0.0003934879 | 0.0002527649 | \n",
       "| 0.0068022947 | 0.0043295445 | \n",
       "| 0.0054846100 | 0.0013089059 | \n",
       "| 0.0034916941 | 0.0031746901 | \n",
       "| 0.0046616635 | 0.0046710262 | \n",
       "\n",
       "\n"
      ],
      "text/plain": [
       "      [,1]         [,2]        \n",
       " [1,] 0.0013520342 0.0009428022\n",
       " [2,] 0.0050759790 0.0034991856\n",
       " [3,] 0.0047975576 0.0047898695\n",
       " [4,] 0.0050759790 0.0034991856\n",
       " [5,] 0.0050759790 0.0034991856\n",
       " [6,] 0.0003934879 0.0002527649\n",
       " [7,] 0.0068022947 0.0043295445\n",
       " [8,] 0.0054846100 0.0013089059\n",
       " [9,] 0.0034916941 0.0031746901\n",
       "[10,] 0.0046616635 0.0046710262"
      ]
     },
     "metadata": {},
     "output_type": "display_data"
    }
   ],
   "source": [
    "head(res$PosteriorSD, n = 10)"
   ]
  },
  {
   "cell_type": "code",
   "execution_count": 55,
   "metadata": {
    "kernel": "SoS"
   },
   "outputs": [
    {
     "name": "stdout",
     "output_type": "stream",
     "text": [
      "[[ 0.00135203  0.0009428 ]\n",
      " [ 0.00507598  0.00349919]\n",
      " [ 0.00479756  0.00478987]\n",
      " [ 0.00507598  0.00349919]\n",
      " [ 0.00507598  0.00349919]\n",
      " [ 0.00039349  0.00025276]\n",
      " [ 0.00680229  0.00432954]\n",
      " [ 0.00548461  0.00130891]\n",
      " [ 0.00349169  0.00317469]\n",
      " [ 0.00466166  0.00467103]]\n"
     ]
    }
   ],
   "source": [
    "print(np.sqrt(res.post_mean2_mat - np.square(res.post_mean_mat)).T[:10,:])"
   ]
  },
  {
   "cell_type": "code",
   "execution_count": 56,
   "metadata": {
    "kernel": "R"
   },
   "outputs": [
    {
     "data": {
      "text/html": [
       "<table>\n",
       "<tbody>\n",
       "\t<tr><td>5.494337e-04</td><td>5.800255e-04</td></tr>\n",
       "\t<tr><td>2.241654e-03</td><td>2.331768e-03</td></tr>\n",
       "\t<tr><td>3.450429e-03</td><td>4.111666e-03</td></tr>\n",
       "\t<tr><td>2.241654e-03</td><td>2.331768e-03</td></tr>\n",
       "\t<tr><td>2.241654e-03</td><td>2.331768e-03</td></tr>\n",
       "\t<tr><td>8.620779e-05</td><td>9.143502e-05</td></tr>\n",
       "\t<tr><td>1.647212e-03</td><td>1.479577e-03</td></tr>\n",
       "\t<tr><td>2.530507e-05</td><td>1.954250e-03</td></tr>\n",
       "\t<tr><td>1.620550e-03</td><td>1.999660e-03</td></tr>\n",
       "\t<tr><td>3.315622e-03</td><td>3.967268e-03</td></tr>\n",
       "</tbody>\n",
       "</table>\n"
      ],
      "text/latex": [
       "\\begin{tabular}{ll}\n",
       "\t 5.494337e-04 & 5.800255e-04\\\\\n",
       "\t 2.241654e-03 & 2.331768e-03\\\\\n",
       "\t 3.450429e-03 & 4.111666e-03\\\\\n",
       "\t 2.241654e-03 & 2.331768e-03\\\\\n",
       "\t 2.241654e-03 & 2.331768e-03\\\\\n",
       "\t 8.620779e-05 & 9.143502e-05\\\\\n",
       "\t 1.647212e-03 & 1.479577e-03\\\\\n",
       "\t 2.530507e-05 & 1.954250e-03\\\\\n",
       "\t 1.620550e-03 & 1.999660e-03\\\\\n",
       "\t 3.315622e-03 & 3.967268e-03\\\\\n",
       "\\end{tabular}\n"
      ],
      "text/markdown": [
       "\n",
       "| 5.494337e-04 | 5.800255e-04 | \n",
       "| 2.241654e-03 | 2.331768e-03 | \n",
       "| 3.450429e-03 | 4.111666e-03 | \n",
       "| 2.241654e-03 | 2.331768e-03 | \n",
       "| 2.241654e-03 | 2.331768e-03 | \n",
       "| 8.620779e-05 | 9.143502e-05 | \n",
       "| 1.647212e-03 | 1.479577e-03 | \n",
       "| 2.530507e-05 | 1.954250e-03 | \n",
       "| 1.620550e-03 | 1.999660e-03 | \n",
       "| 3.315622e-03 | 3.967268e-03 | \n",
       "\n",
       "\n"
      ],
      "text/plain": [
       "      [,1]         [,2]        \n",
       " [1,] 5.494337e-04 5.800255e-04\n",
       " [2,] 2.241654e-03 2.331768e-03\n",
       " [3,] 3.450429e-03 4.111666e-03\n",
       " [4,] 2.241654e-03 2.331768e-03\n",
       " [5,] 2.241654e-03 2.331768e-03\n",
       " [6,] 8.620779e-05 9.143502e-05\n",
       " [7,] 1.647212e-03 1.479577e-03\n",
       " [8,] 2.530507e-05 1.954250e-03\n",
       " [9,] 1.620550e-03 1.999660e-03\n",
       "[10,] 3.315622e-03 3.967268e-03"
      ]
     },
     "metadata": {},
     "output_type": "display_data"
    }
   ],
   "source": [
    "head(res$NegativeProb, n = 10)"
   ]
  },
  {
   "cell_type": "code",
   "execution_count": 57,
   "metadata": {
    "kernel": "SoS"
   },
   "outputs": [
    {
     "name": "stdout",
     "output_type": "stream",
     "text": [
      "[[  5.49433658e-04   5.80025487e-04]\n",
      " [  2.24165414e-03   2.33176806e-03]\n",
      " [  3.45042889e-03   4.11166625e-03]\n",
      " [  2.24165414e-03   2.33176806e-03]\n",
      " [  2.24165414e-03   2.33176806e-03]\n",
      " [  8.62077869e-05   9.14350185e-05]\n",
      " [  1.64721241e-03   1.47957660e-03]\n",
      " [  2.53050679e-05   1.95425042e-03]\n",
      " [  1.62054984e-03   1.99965984e-03]\n",
      " [  3.31562154e-03   3.96726780e-03]]\n"
     ]
    }
   ],
   "source": [
    "print(res.neg_prob_mat.T[:10,:])"
   ]
  },
  {
   "cell_type": "markdown",
   "metadata": {},
   "source": [
    "### Likelihood and Bayes factors"
   ]
  },
  {
   "cell_type": "code",
   "execution_count": 86,
   "metadata": {
    "kernel": "SoS"
   },
   "outputs": [
    {
     "name": "stdout",
     "output_type": "stream",
     "text": [
      "21092.1811206\n"
     ]
    }
   ],
   "source": [
    "print(res.lik['loglik'])"
   ]
  },
  {
   "cell_type": "code",
   "execution_count": 71,
   "metadata": {
    "kernel": "R"
   },
   "outputs": [
    {
     "data": {
      "text/html": [
       "21092.1811206117"
      ],
      "text/latex": [
       "21092.1811206117"
      ],
      "text/markdown": [
       "21092.1811206117"
      ],
      "text/plain": [
       "[1] 21092.18"
      ]
     },
     "metadata": {},
     "output_type": "display_data"
    }
   ],
   "source": [
    "output$loglik"
   ]
  },
  {
   "cell_type": "code",
   "execution_count": 62,
   "metadata": {
    "kernel": "R"
   },
   "outputs": [
    {
     "data": {
      "text/html": [
       "<ol class=list-inline>\n",
       "\t<li>4.16538757076441</li>\n",
       "\t<li>2.77742097387796</li>\n",
       "\t<li>2.31833451527425</li>\n",
       "\t<li>2.77742097387796</li>\n",
       "\t<li>2.77742097387796</li>\n",
       "\t<li>5.58105688238237</li>\n",
       "\t<li>2.6971464676332</li>\n",
       "\t<li>2.35655692730795</li>\n",
       "\t<li>2.98667569323665</li>\n",
       "\t<li>2.35396411918973</li>\n",
       "</ol>\n"
      ],
      "text/latex": [
       "\\begin{enumerate*}\n",
       "\\item 4.16538757076441\n",
       "\\item 2.77742097387796\n",
       "\\item 2.31833451527425\n",
       "\\item 2.77742097387796\n",
       "\\item 2.77742097387796\n",
       "\\item 5.58105688238237\n",
       "\\item 2.6971464676332\n",
       "\\item 2.35655692730795\n",
       "\\item 2.98667569323665\n",
       "\\item 2.35396411918973\n",
       "\\end{enumerate*}\n"
      ],
      "text/markdown": [
       "1. 4.16538757076441\n",
       "2. 2.77742097387796\n",
       "3. 2.31833451527425\n",
       "4. 2.77742097387796\n",
       "5. 2.77742097387796\n",
       "6. 5.58105688238237\n",
       "7. 2.6971464676332\n",
       "8. 2.35655692730795\n",
       "9. 2.98667569323665\n",
       "10. 2.35396411918973\n",
       "\n",
       "\n"
      ],
      "text/plain": [
       " [1] 4.165388 2.777421 2.318335 2.777421 2.777421 5.581057 2.697146 2.356557\n",
       " [9] 2.986676 2.353964"
      ]
     },
     "metadata": {},
     "output_type": "display_data"
    }
   ],
   "source": [
    "head(output$null_loglik, 10)"
   ]
  },
  {
   "cell_type": "code",
   "execution_count": 65,
   "metadata": {
    "kernel": "R"
   },
   "outputs": [
    {
     "data": {
      "text/html": [
       "<table>\n",
       "<tbody>\n",
       "\t<tr><td>-0.9283840</td></tr>\n",
       "\t<tr><td>-0.9459402</td></tr>\n",
       "\t<tr><td>-0.9400689</td></tr>\n",
       "\t<tr><td>-0.9459402</td></tr>\n",
       "\t<tr><td>-0.9459402</td></tr>\n",
       "\t<tr><td>-0.9238257</td></tr>\n",
       "\t<tr><td>-0.9609677</td></tr>\n",
       "\t<tr><td>-0.9347843</td></tr>\n",
       "\t<tr><td>-0.9389967</td></tr>\n",
       "\t<tr><td>-0.9397233</td></tr>\n",
       "</tbody>\n",
       "</table>\n"
      ],
      "text/latex": [
       "\\begin{tabular}{l}\n",
       "\t -0.9283840\\\\\n",
       "\t -0.9459402\\\\\n",
       "\t -0.9400689\\\\\n",
       "\t -0.9459402\\\\\n",
       "\t -0.9459402\\\\\n",
       "\t -0.9238257\\\\\n",
       "\t -0.9609677\\\\\n",
       "\t -0.9347843\\\\\n",
       "\t -0.9389967\\\\\n",
       "\t -0.9397233\\\\\n",
       "\\end{tabular}\n"
      ],
      "text/markdown": [
       "\n",
       "| -0.9283840 | \n",
       "| -0.9459402 | \n",
       "| -0.9400689 | \n",
       "| -0.9459402 | \n",
       "| -0.9459402 | \n",
       "| -0.9238257 | \n",
       "| -0.9609677 | \n",
       "| -0.9347843 | \n",
       "| -0.9389967 | \n",
       "| -0.9397233 | \n",
       "\n",
       "\n"
      ],
      "text/plain": [
       "      [,1]      \n",
       " [1,] -0.9283840\n",
       " [2,] -0.9459402\n",
       " [3,] -0.9400689\n",
       " [4,] -0.9459402\n",
       " [5,] -0.9459402\n",
       " [6,] -0.9238257\n",
       " [7,] -0.9609677\n",
       " [8,] -0.9347843\n",
       " [9,] -0.9389967\n",
       "[10,] -0.9397233"
      ]
     },
     "metadata": {},
     "output_type": "display_data"
    },
    {
     "name": "stdout",
     "output_type": "stream",
     "text": [
      "NULL\n"
     ]
    }
   ],
   "source": [
    "head(output$alt_loglik, 10)\n",
    "print(dim(output$null_loglik))"
   ]
  },
  {
   "cell_type": "code",
   "execution_count": 63,
   "metadata": {
    "kernel": "R"
   },
   "outputs": [
    {
     "data": {
      "text/html": [
       "<table>\n",
       "<tbody>\n",
       "\t<tr><td>4.060708</td></tr>\n",
       "\t<tr><td>2.674740</td></tr>\n",
       "\t<tr><td>2.217237</td></tr>\n",
       "\t<tr><td>2.674740</td></tr>\n",
       "\t<tr><td>2.674740</td></tr>\n",
       "\t<tr><td>5.475863</td></tr>\n",
       "</tbody>\n",
       "</table>\n"
      ],
      "text/latex": [
       "\\begin{tabular}{l}\n",
       "\t 4.060708\\\\\n",
       "\t 2.674740\\\\\n",
       "\t 2.217237\\\\\n",
       "\t 2.674740\\\\\n",
       "\t 2.674740\\\\\n",
       "\t 5.475863\\\\\n",
       "\\end{tabular}\n"
      ],
      "text/markdown": [
       "\n",
       "| 4.060708 | \n",
       "| 2.674740 | \n",
       "| 2.217237 | \n",
       "| 2.674740 | \n",
       "| 2.674740 | \n",
       "| 5.475863 | \n",
       "\n",
       "\n"
      ],
      "text/plain": [
       "     [,1]    \n",
       "[1,] 4.060708\n",
       "[2,] 2.674740\n",
       "[3,] 2.217237\n",
       "[4,] 2.674740\n",
       "[5,] 2.674740\n",
       "[6,] 5.475863"
      ]
     },
     "metadata": {},
     "output_type": "display_data"
    }
   ],
   "source": [
    "head(output$vloglik)"
   ]
  },
  {
   "cell_type": "code",
   "execution_count": 87,
   "metadata": {
    "kernel": "SoS"
   },
   "outputs": [
    {
     "data": {
      "text/plain": [
       "array([ 4.16538757,  2.77742097,  2.31833452,  2.77742097,  2.77742097,\n",
       "        5.58105688,  2.69714647,  2.35655693,  2.98667569,  2.35396412])"
      ]
     },
     "execution_count": 87,
     "metadata": {},
     "output_type": "execute_result"
    }
   ],
   "source": [
    "res.lik['null_loglik'][:10]"
   ]
  },
  {
   "cell_type": "code",
   "execution_count": 88,
   "metadata": {
    "kernel": "SoS"
   },
   "outputs": [
    {
     "data": {
      "text/plain": [
       "array([-0.92838399, -0.94594023, -0.94006887, -0.94594023, -0.94594023,\n",
       "       -0.92382573, -0.96096769, -0.93478429, -0.9389967 , -0.93972334])"
      ]
     },
     "execution_count": 88,
     "metadata": {},
     "output_type": "execute_result"
    }
   ],
   "source": [
    "res.lik['alt_loglik'][:10]"
   ]
  },
  {
   "cell_type": "code",
   "execution_count": 91,
   "metadata": {
    "kernel": "SoS"
   },
   "outputs": [
    {
     "data": {
      "text/plain": [
       "array([ 4.06070847,  2.67474049,  2.21723709,  2.67474049,  2.67474049,\n",
       "        5.47586259,  2.59464642,  2.25532166,  2.88350487,  2.2527192 ])"
      ]
     },
     "execution_count": 91,
     "metadata": {},
     "output_type": "execute_result"
    }
   ],
   "source": [
    "res.lik['marginal_loglik'][:10]"
   ]
  },
  {
   "cell_type": "code",
   "execution_count": 93,
   "metadata": {
    "kernel": "R"
   },
   "outputs": [
    {
     "data": {
      "text/html": [
       "<table>\n",
       "<tbody>\n",
       "\t<tr><td>-2.212197</td></tr>\n",
       "\t<tr><td>-1.617035</td></tr>\n",
       "\t<tr><td>-1.415107</td></tr>\n",
       "\t<tr><td>-1.617035</td></tr>\n",
       "\t<tr><td>-1.617035</td></tr>\n",
       "\t<tr><td>-2.825035</td></tr>\n",
       "\t<tr><td>-1.588699</td></tr>\n",
       "\t<tr><td>-1.429411</td></tr>\n",
       "\t<tr><td>-1.704898</td></tr>\n",
       "\t<tr><td>-1.430430</td></tr>\n",
       "</tbody>\n",
       "</table>\n"
      ],
      "text/latex": [
       "\\begin{tabular}{l}\n",
       "\t -2.212197\\\\\n",
       "\t -1.617035\\\\\n",
       "\t -1.415107\\\\\n",
       "\t -1.617035\\\\\n",
       "\t -1.617035\\\\\n",
       "\t -2.825035\\\\\n",
       "\t -1.588699\\\\\n",
       "\t -1.429411\\\\\n",
       "\t -1.704898\\\\\n",
       "\t -1.430430\\\\\n",
       "\\end{tabular}\n"
      ],
      "text/markdown": [
       "\n",
       "| -2.212197 | \n",
       "| -1.617035 | \n",
       "| -1.415107 | \n",
       "| -1.617035 | \n",
       "| -1.617035 | \n",
       "| -2.825035 | \n",
       "| -1.588699 | \n",
       "| -1.429411 | \n",
       "| -1.704898 | \n",
       "| -1.430430 | \n",
       "\n",
       "\n"
      ],
      "text/plain": [
       "      [,1]     \n",
       " [1,] -2.212197\n",
       " [2,] -1.617035\n",
       " [3,] -1.415107\n",
       " [4,] -1.617035\n",
       " [5,] -1.617035\n",
       " [6,] -2.825035\n",
       " [7,] -1.588699\n",
       " [8,] -1.429411\n",
       " [9,] -1.704898\n",
       "[10,] -1.430430"
      ]
     },
     "metadata": {},
     "output_type": "display_data"
    }
   ],
   "source": [
    "head(mashr::get_log10bf(output), 10)"
   ]
  },
  {
   "cell_type": "code",
   "execution_count": 95,
   "metadata": {
    "kernel": "SoS"
   },
   "outputs": [
    {
     "data": {
      "text/plain": [
       "array([-2.21219688, -1.61703523, -1.41510661, -1.61703523, -1.61703523,\n",
       "       -2.82503462, -1.58869879, -1.42941133, -1.70489786, -1.43043029])"
      ]
     },
     "execution_count": 95,
     "metadata": {},
     "output_type": "execute_result"
    }
   ],
   "source": [
    "res.l10bf[:10]"
   ]
  },
  {
   "cell_type": "markdown",
   "metadata": {},
   "source": [
    "### Check calculation for common cov routine"
   ]
  },
  {
   "cell_type": "code",
   "execution_count": 157,
   "metadata": {
    "kernel": "SoS"
   },
   "outputs": [],
   "source": [
    "res.S = res.S ** 0\n",
    "def mash_compute_this_and_that(B, S):\n",
    "    data = MASHData(B = B, S = S)\n",
    "    data.U = {'identity': np.identity(2)}\n",
    "    data.V = np.identity(2)\n",
    "    data.pi = np.array([0.9, 0.05, 0.05])\n",
    "    data.grid = [0.5, 1]\n",
    "    data.set_prior()\n",
    "    lik = LikelihoodMASH(data)\n",
    "    lik.compute_relative_likelihood_matrix()\n",
    "    lik.compute_loglik_from_matrix()\n",
    "    lik.compute_log10bf()\n",
    "    data.compute_posterior()\n",
    "    return data"
   ]
  },
  {
   "cell_type": "code",
   "execution_count": 158,
   "metadata": {
    "kernel": "SoS"
   },
   "outputs": [],
   "source": [
    "res0 = mash_compute_this_and_that(res.B, res.S)"
   ]
  },
  {
   "cell_type": "code",
   "execution_count": 167,
   "metadata": {
    "kernel": "SoS"
   },
   "outputs": [
    {
     "name": "stdout",
     "output_type": "stream",
     "text": [
      "[-1.87440689 -1.87718154 -1.87674669 -1.87718154 -1.87718154 -1.87350819\n",
      " -1.87382948 -1.87662117 -1.87581722 -1.87666407]\n",
      "-14071.5357133\n"
     ]
    }
   ],
   "source": [
    "print(res0.lik['marginal_loglik'][:10])\n",
    "print(res0.lik['loglik'])"
   ]
  },
  {
   "cell_type": "code",
   "execution_count": 169,
   "metadata": {
    "kernel": "SoS"
   },
   "outputs": [
    {
     "data": {
      "text/plain": [
       "array([-0.18696032, -0.18657196, -0.18663283, -0.18657196, -0.18657196,\n",
       "       -0.18708609, -0.18704113, -0.1866504 , -0.18676293, -0.1866444 ])"
      ]
     },
     "execution_count": 169,
     "metadata": {},
     "output_type": "execute_result"
    }
   ],
   "source": [
    "res0.l10bf[:10]"
   ]
  },
  {
   "cell_type": "code",
   "execution_count": 162,
   "metadata": {
    "kernel": "R"
   },
   "outputs": [
    {
     "name": "stdout",
     "output_type": "stream",
     "text": [
      " - Computing 7492 x 3 likelihood matrix.\n",
      " - Likelihood calculations took 0.02 seconds.\n",
      " - Computing posterior matrices.\n",
      " - Computation allocated took 0.01 seconds.\n"
     ]
    }
   ],
   "source": [
    "data0 = mashr::set_mash_data(betahat, sebetahat ^ 0)\n",
    "output0 = mashr::mash(data0, g = g, fixg = TRUE, outputlevel = 2)"
   ]
  },
  {
   "cell_type": "code",
   "execution_count": 168,
   "metadata": {
    "kernel": "R"
   },
   "outputs": [
    {
     "name": "stdout",
     "output_type": "stream",
     "text": [
      "          [,1]\n",
      "[1,] -1.874407\n",
      "[2,] -1.877182\n",
      "[3,] -1.876747\n",
      "[4,] -1.877182\n",
      "[5,] -1.877182\n",
      "[6,] -1.873508\n",
      "[1] -14071.54\n"
     ]
    }
   ],
   "source": [
    "print(head(output0$vloglik))\n",
    "print(output0$loglik)"
   ]
  },
  {
   "cell_type": "code",
   "execution_count": 174,
   "metadata": {
    "kernel": "SoS"
   },
   "outputs": [
    {
     "name": "stdout",
     "output_type": "stream",
     "text": [
      "[[ 0.14580651  0.1457939 ]\n",
      " [ 0.14597999  0.14591946]\n",
      " [ 0.14590279  0.14594979]\n",
      " [ 0.14597999  0.14591946]\n",
      " [ 0.14597999  0.14591946]\n",
      " [ 0.14575174  0.14575185]\n",
      " [ 0.14577749  0.14576071]\n",
      " [ 0.14600341  0.14583559]\n",
      " [ 0.14585838  0.14589401]\n",
      " [ 0.14589801  0.14594566]]\n"
     ]
    }
   ],
   "source": [
    "print(np.sqrt(res0.post_mean2_mat - np.square(res0.post_mean_mat)).T[:10,:])"
   ]
  },
  {
   "cell_type": "code",
   "execution_count": 175,
   "metadata": {
    "kernel": "SoS"
   },
   "outputs": [
    {
     "name": "stdout",
     "output_type": "stream",
     "text": [
      "[[ 0.03418912  0.03407225]\n",
      " [ 0.03474676  0.03446786]\n",
      " [ 0.0344358   0.03466578]\n",
      " [ 0.03474676  0.03446786]\n",
      " [ 0.03474676  0.03446786]\n",
      " [ 0.03369986  0.03371488]\n",
      " [ 0.03405713  0.03373694]\n",
      " [ 0.03253624  0.03369128]\n",
      " [ 0.03430655  0.03451324]\n",
      " [ 0.03442033  0.03465671]]\n",
      "[[ 0.93262421  0.93262421]\n",
      " [ 0.932568    0.932568  ]\n",
      " [ 0.93257681  0.93257681]\n",
      " [ 0.932568    0.932568  ]\n",
      " [ 0.932568    0.932568  ]\n",
      " [ 0.93264241  0.93264241]\n",
      " [ 0.9326359   0.9326359 ]\n",
      " [ 0.93257936  0.93257936]\n",
      " [ 0.93259565  0.93259565]\n",
      " [ 0.93257849  0.93257849]]\n"
     ]
    }
   ],
   "source": [
    "print(res0.neg_prob_mat.T[:10,:])\n",
    "print(res0.zero_prob_mat.T[:10,:])"
   ]
  },
  {
   "cell_type": "code",
   "execution_count": 170,
   "metadata": {
    "kernel": "R"
   },
   "outputs": [
    {
     "data": {
      "text/html": [
       "<table>\n",
       "<tbody>\n",
       "\t<tr><td>-0.1869603</td></tr>\n",
       "\t<tr><td>-0.1865720</td></tr>\n",
       "\t<tr><td>-0.1866328</td></tr>\n",
       "\t<tr><td>-0.1865720</td></tr>\n",
       "\t<tr><td>-0.1865720</td></tr>\n",
       "\t<tr><td>-0.1870861</td></tr>\n",
       "\t<tr><td>-0.1870411</td></tr>\n",
       "\t<tr><td>-0.1866504</td></tr>\n",
       "\t<tr><td>-0.1867629</td></tr>\n",
       "\t<tr><td>-0.1866444</td></tr>\n",
       "</tbody>\n",
       "</table>\n"
      ],
      "text/latex": [
       "\\begin{tabular}{l}\n",
       "\t -0.1869603\\\\\n",
       "\t -0.1865720\\\\\n",
       "\t -0.1866328\\\\\n",
       "\t -0.1865720\\\\\n",
       "\t -0.1865720\\\\\n",
       "\t -0.1870861\\\\\n",
       "\t -0.1870411\\\\\n",
       "\t -0.1866504\\\\\n",
       "\t -0.1867629\\\\\n",
       "\t -0.1866444\\\\\n",
       "\\end{tabular}\n"
      ],
      "text/markdown": [
       "\n",
       "| -0.1869603 | \n",
       "| -0.1865720 | \n",
       "| -0.1866328 | \n",
       "| -0.1865720 | \n",
       "| -0.1865720 | \n",
       "| -0.1870861 | \n",
       "| -0.1870411 | \n",
       "| -0.1866504 | \n",
       "| -0.1867629 | \n",
       "| -0.1866444 | \n",
       "\n",
       "\n"
      ],
      "text/plain": [
       "      [,1]      \n",
       " [1,] -0.1869603\n",
       " [2,] -0.1865720\n",
       " [3,] -0.1866328\n",
       " [4,] -0.1865720\n",
       " [5,] -0.1865720\n",
       " [6,] -0.1870861\n",
       " [7,] -0.1870411\n",
       " [8,] -0.1866504\n",
       " [9,] -0.1867629\n",
       "[10,] -0.1866444"
      ]
     },
     "metadata": {},
     "output_type": "display_data"
    }
   ],
   "source": [
    "head(mashr::get_log10bf(output0), 10)"
   ]
  },
  {
   "cell_type": "code",
   "execution_count": 173,
   "metadata": {
    "kernel": "R"
   },
   "outputs": [
    {
     "data": {
      "text/html": [
       "<table>\n",
       "<tbody>\n",
       "\t<tr><td>0.1458065</td><td>0.1457939</td></tr>\n",
       "\t<tr><td>0.1459800</td><td>0.1459195</td></tr>\n",
       "\t<tr><td>0.1459028</td><td>0.1459498</td></tr>\n",
       "\t<tr><td>0.1459800</td><td>0.1459195</td></tr>\n",
       "\t<tr><td>0.1459800</td><td>0.1459195</td></tr>\n",
       "\t<tr><td>0.1457517</td><td>0.1457518</td></tr>\n",
       "\t<tr><td>0.1457775</td><td>0.1457607</td></tr>\n",
       "\t<tr><td>0.1460034</td><td>0.1458356</td></tr>\n",
       "\t<tr><td>0.1458584</td><td>0.1458940</td></tr>\n",
       "\t<tr><td>0.1458980</td><td>0.1459457</td></tr>\n",
       "</tbody>\n",
       "</table>\n"
      ],
      "text/latex": [
       "\\begin{tabular}{ll}\n",
       "\t 0.1458065 & 0.1457939\\\\\n",
       "\t 0.1459800 & 0.1459195\\\\\n",
       "\t 0.1459028 & 0.1459498\\\\\n",
       "\t 0.1459800 & 0.1459195\\\\\n",
       "\t 0.1459800 & 0.1459195\\\\\n",
       "\t 0.1457517 & 0.1457518\\\\\n",
       "\t 0.1457775 & 0.1457607\\\\\n",
       "\t 0.1460034 & 0.1458356\\\\\n",
       "\t 0.1458584 & 0.1458940\\\\\n",
       "\t 0.1458980 & 0.1459457\\\\\n",
       "\\end{tabular}\n"
      ],
      "text/markdown": [
       "\n",
       "| 0.1458065 | 0.1457939 | \n",
       "| 0.1459800 | 0.1459195 | \n",
       "| 0.1459028 | 0.1459498 | \n",
       "| 0.1459800 | 0.1459195 | \n",
       "| 0.1459800 | 0.1459195 | \n",
       "| 0.1457517 | 0.1457518 | \n",
       "| 0.1457775 | 0.1457607 | \n",
       "| 0.1460034 | 0.1458356 | \n",
       "| 0.1458584 | 0.1458940 | \n",
       "| 0.1458980 | 0.1459457 | \n",
       "\n",
       "\n"
      ],
      "text/plain": [
       "      [,1]      [,2]     \n",
       " [1,] 0.1458065 0.1457939\n",
       " [2,] 0.1459800 0.1459195\n",
       " [3,] 0.1459028 0.1459498\n",
       " [4,] 0.1459800 0.1459195\n",
       " [5,] 0.1459800 0.1459195\n",
       " [6,] 0.1457517 0.1457518\n",
       " [7,] 0.1457775 0.1457607\n",
       " [8,] 0.1460034 0.1458356\n",
       " [9,] 0.1458584 0.1458940\n",
       "[10,] 0.1458980 0.1459457"
      ]
     },
     "metadata": {},
     "output_type": "display_data"
    }
   ],
   "source": [
    "head(output0$result$PosteriorSD, n = 10)"
   ]
  },
  {
   "cell_type": "code",
   "execution_count": 176,
   "metadata": {
    "kernel": "R"
   },
   "outputs": [
    {
     "data": {
      "text/html": [
       "<table>\n",
       "<tbody>\n",
       "\t<tr><td>0.03418912</td><td>0.03407225</td></tr>\n",
       "\t<tr><td>0.03474676</td><td>0.03446786</td></tr>\n",
       "\t<tr><td>0.03443580</td><td>0.03466578</td></tr>\n",
       "\t<tr><td>0.03474676</td><td>0.03446786</td></tr>\n",
       "\t<tr><td>0.03474676</td><td>0.03446786</td></tr>\n",
       "\t<tr><td>0.03369986</td><td>0.03371488</td></tr>\n",
       "\t<tr><td>0.03405713</td><td>0.03373694</td></tr>\n",
       "\t<tr><td>0.03253624</td><td>0.03369128</td></tr>\n",
       "\t<tr><td>0.03430655</td><td>0.03451324</td></tr>\n",
       "\t<tr><td>0.03442033</td><td>0.03465671</td></tr>\n",
       "</tbody>\n",
       "</table>\n"
      ],
      "text/latex": [
       "\\begin{tabular}{ll}\n",
       "\t 0.03418912 & 0.03407225\\\\\n",
       "\t 0.03474676 & 0.03446786\\\\\n",
       "\t 0.03443580 & 0.03466578\\\\\n",
       "\t 0.03474676 & 0.03446786\\\\\n",
       "\t 0.03474676 & 0.03446786\\\\\n",
       "\t 0.03369986 & 0.03371488\\\\\n",
       "\t 0.03405713 & 0.03373694\\\\\n",
       "\t 0.03253624 & 0.03369128\\\\\n",
       "\t 0.03430655 & 0.03451324\\\\\n",
       "\t 0.03442033 & 0.03465671\\\\\n",
       "\\end{tabular}\n"
      ],
      "text/markdown": [
       "\n",
       "| 0.03418912 | 0.03407225 | \n",
       "| 0.03474676 | 0.03446786 | \n",
       "| 0.03443580 | 0.03466578 | \n",
       "| 0.03474676 | 0.03446786 | \n",
       "| 0.03474676 | 0.03446786 | \n",
       "| 0.03369986 | 0.03371488 | \n",
       "| 0.03405713 | 0.03373694 | \n",
       "| 0.03253624 | 0.03369128 | \n",
       "| 0.03430655 | 0.03451324 | \n",
       "| 0.03442033 | 0.03465671 | \n",
       "\n",
       "\n"
      ],
      "text/plain": [
       "      [,1]       [,2]      \n",
       " [1,] 0.03418912 0.03407225\n",
       " [2,] 0.03474676 0.03446786\n",
       " [3,] 0.03443580 0.03466578\n",
       " [4,] 0.03474676 0.03446786\n",
       " [5,] 0.03474676 0.03446786\n",
       " [6,] 0.03369986 0.03371488\n",
       " [7,] 0.03405713 0.03373694\n",
       " [8,] 0.03253624 0.03369128\n",
       " [9,] 0.03430655 0.03451324\n",
       "[10,] 0.03442033 0.03465671"
      ]
     },
     "metadata": {},
     "output_type": "display_data"
    }
   ],
   "source": [
    "head(output0$result$NegativeProb, n = 10)"
   ]
  }
 ],
 "metadata": {
  "celltoolbar": "Tags",
  "kernelspec": {
   "display_name": "SoS",
   "language": "sos",
   "name": "sos"
  },
  "language_info": {
   "codemirror_mode": "sos",
   "file_extension": ".sos",
   "mimetype": "text/x-sos",
   "name": "sos",
   "nbconvert_exporter": "sos_notebook.converter.SoS_Exporter",
   "pygments_lexer": "sos"
  },
  "sos": {
   "default_kernel": "SoS",
   "kernels": [
    [
     "Python3",
     "python3",
     "Python3",
     "#FFE771"
    ],
    [
     "R",
     "ir",
     "R",
     "#DCDCDA"
    ],
    [
     "SoS",
     "sos",
     "",
     ""
    ]
   ],
   "panel": {
    "displayed": true,
    "height": "655px",
    "style": "side"
   }
  }
 },
 "nbformat": 4,
 "nbformat_minor": 2
}
