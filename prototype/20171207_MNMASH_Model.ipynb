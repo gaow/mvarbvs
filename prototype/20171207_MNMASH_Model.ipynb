{
 "cells": [
  {
   "cell_type": "markdown",
   "metadata": {},
   "source": [
    "# M&M model VEM updates"
   ]
  },
  {
   "cell_type": "code",
   "execution_count": 1,
   "metadata": {
    "kernel": "R"
   },
   "outputs": [],
   "source": [
    "dat = readRDS('/home/gaow/Documents/GTExV8/Thyroid.Lung.FMO2.filled.rds')\n",
    "attach(dat)"
   ]
  },
  {
   "cell_type": "code",
   "execution_count": 27,
   "metadata": {
    "kernel": "Python3"
   },
   "outputs": [],
   "source": [
    "%get X Y --from R\n",
    "Y = Y.as_matrix()"
   ]
  },
  {
   "cell_type": "code",
   "execution_count": 28,
   "metadata": {
    "kernel": "Python3"
   },
   "outputs": [],
   "source": [
    "from libgaow.regression_data import MNMASH\n",
    "import numpy as np"
   ]
  },
  {
   "cell_type": "code",
   "execution_count": 29,
   "metadata": {
    "kernel": "Python3"
   },
   "outputs": [],
   "source": [
    "model = MNMASH(X=X,Y=Y)"
   ]
  },
  {
   "cell_type": "code",
   "execution_count": 30,
   "metadata": {
    "kernel": "Python3"
   },
   "outputs": [],
   "source": [
    "model.set_prior({'identity': np.identity(2), \n",
    "                 'single_1': np.array([[1,0],[0,0]]), \n",
    "                 'single_2': np.array([[0,0], [0,1]]), \n",
    "                 'all_in': np.ones((2,2))}, \n",
    "                [0.5,1], \n",
    "                [0.9,0.01,0.01,0.01,0.01,0.01,0.01,0.02,0.02])"
   ]
  },
  {
   "cell_type": "code",
   "execution_count": 31,
   "metadata": {
    "kernel": "Python3",
    "scrolled": false
   },
   "outputs": [
    {
     "name": "stderr",
     "output_type": "stream",
     "text": [
      "/opt/miniconda3/lib/python3.6/site-packages/libgaow-0.1-py3.6.egg/libgaow/model_mash.py:81: RuntimeWarning: divide by zero encountered in log\n",
      "  self.data.lik['null_loglik'] = np.log(self.data.lik['relative_likelihood'][:,0]) + self.data.lik['lfactor']\n",
      "/opt/miniconda3/lib/python3.6/site-packages/libgaow-0.1-py3.6.egg/libgaow/model_mash.py:114: RuntimeWarning: invalid value encountered in sqrt\n",
      "  sigma_vec = np.sqrt(np.diag(U1_mat))\n",
      "/opt/miniconda3/lib/python3.6/site-packages/scipy/stats/_distn_infrastructure.py:1819: RuntimeWarning: invalid value encountered in greater\n",
      "  cond0 = self._argcheck(*args) & (scale > 0)\n",
      "/opt/miniconda3/lib/python3.6/site-packages/scipy/stats/_distn_infrastructure.py:879: RuntimeWarning: invalid value encountered in greater\n",
      "  return (self.a < x) & (x < self.b)\n",
      "/opt/miniconda3/lib/python3.6/site-packages/scipy/stats/_distn_infrastructure.py:879: RuntimeWarning: invalid value encountered in less\n",
      "  return (self.a < x) & (x < self.b)\n",
      "/opt/miniconda3/lib/python3.6/site-packages/scipy/stats/_distn_infrastructure.py:1820: RuntimeWarning: invalid value encountered in greater\n",
      "  cond1 = self._open_support_mask(x) & (scale > 0)\n",
      "/opt/miniconda3/lib/python3.6/site-packages/scipy/stats/_distn_infrastructure.py:1821: RuntimeWarning: invalid value encountered in less_equal\n",
      "  cond2 = cond0 & (x <= self.a)\n",
      "/opt/miniconda3/lib/python3.6/site-packages/libgaow-0.1-py3.6.egg/libgaow/regression_data.py:149: RuntimeWarning: invalid value encountered in true_divide\n",
      "  return bf/np.sum(bf), self.mash.post_mean_mat.T\n"
     ]
    },
    {
     "ename": "ValueError",
     "evalue": "array must not contain infs or NaNs",
     "output_type": "error",
     "traceback": [
      "\u001b[0;31m---------------------------------------------------------------------------\u001b[0m",
      "\u001b[0;31mValueError\u001b[0m                                Traceback (most recent call last)",
      "\u001b[0;32m<ipython-input-25-f781fe65eb00>\u001b[0m in \u001b[0;36m<module>\u001b[0;34m()\u001b[0m\n\u001b[0;32m----> 1\u001b[0;31m \u001b[0mmodel\u001b[0m\u001b[0;34m.\u001b[0m\u001b[0mfit\u001b[0m\u001b[0;34m(\u001b[0m\u001b[0;34m)\u001b[0m\u001b[0;34m\u001b[0m\u001b[0m\n\u001b[0m",
      "\u001b[0;32m/opt/miniconda3/lib/python3.6/site-packages/libgaow-0.1-py3.6.egg/libgaow/regression_data.py\u001b[0m in \u001b[0;36mfit\u001b[0;34m(self, niter, L, bool_elbo)\u001b[0m\n\u001b[1;32m    131\u001b[0m         \u001b[0mself\u001b[0m\u001b[0;34m.\u001b[0m\u001b[0mmu0\u001b[0m \u001b[0;34m=\u001b[0m \u001b[0mnp\u001b[0m\u001b[0;34m.\u001b[0m\u001b[0mzeros\u001b[0m\u001b[0;34m(\u001b[0m\u001b[0;34m(\u001b[0m\u001b[0mL\u001b[0m\u001b[0;34m,\u001b[0m \u001b[0mself\u001b[0m\u001b[0;34m.\u001b[0m\u001b[0mmash\u001b[0m\u001b[0;34m.\u001b[0m\u001b[0mX\u001b[0m\u001b[0;34m.\u001b[0m\u001b[0mshape\u001b[0m\u001b[0;34m[\u001b[0m\u001b[0;36m1\u001b[0m\u001b[0;34m]\u001b[0m\u001b[0;34m,\u001b[0m \u001b[0mself\u001b[0m\u001b[0;34m.\u001b[0m\u001b[0mY\u001b[0m\u001b[0;34m.\u001b[0m\u001b[0mshape\u001b[0m\u001b[0;34m[\u001b[0m\u001b[0;36m1\u001b[0m\u001b[0;34m]\u001b[0m\u001b[0;34m)\u001b[0m\u001b[0;34m)\u001b[0m\u001b[0;34m\u001b[0m\u001b[0m\n\u001b[1;32m    132\u001b[0m         \u001b[0;32mfor\u001b[0m \u001b[0mi\u001b[0m \u001b[0;32min\u001b[0m \u001b[0mrange\u001b[0m\u001b[0;34m(\u001b[0m\u001b[0mniter\u001b[0m\u001b[0;34m)\u001b[0m\u001b[0;34m:\u001b[0m\u001b[0;34m\u001b[0m\u001b[0m\n\u001b[0;32m--> 133\u001b[0;31m             \u001b[0mself\u001b[0m\u001b[0;34m.\u001b[0m\u001b[0m_calc_update\u001b[0m\u001b[0;34m(\u001b[0m\u001b[0;34m)\u001b[0m\u001b[0;34m\u001b[0m\u001b[0m\n\u001b[0m\u001b[1;32m    134\u001b[0m             \u001b[0;32mif\u001b[0m \u001b[0mbool_elbo\u001b[0m\u001b[0;34m:\u001b[0m\u001b[0;34m\u001b[0m\u001b[0m\n\u001b[1;32m    135\u001b[0m                 \u001b[0mself\u001b[0m\u001b[0;34m.\u001b[0m\u001b[0m_calc_elbo\u001b[0m\u001b[0;34m(\u001b[0m\u001b[0;34m)\u001b[0m\u001b[0;34m\u001b[0m\u001b[0m\n",
      "\u001b[0;32m/opt/miniconda3/lib/python3.6/site-packages/libgaow-0.1-py3.6.egg/libgaow/regression_data.py\u001b[0m in \u001b[0;36m_calc_update\u001b[0;34m(self)\u001b[0m\n\u001b[1;32m    139\u001b[0m         \u001b[0;32mfor\u001b[0m \u001b[0ml\u001b[0m \u001b[0;32min\u001b[0m \u001b[0mrange\u001b[0m\u001b[0;34m(\u001b[0m\u001b[0mself\u001b[0m\u001b[0;34m.\u001b[0m\u001b[0malpha0\u001b[0m\u001b[0;34m.\u001b[0m\u001b[0mshape\u001b[0m\u001b[0;34m[\u001b[0m\u001b[0;36m0\u001b[0m\u001b[0;34m]\u001b[0m\u001b[0;34m)\u001b[0m\u001b[0;34m:\u001b[0m\u001b[0;34m\u001b[0m\u001b[0m\n\u001b[1;32m    140\u001b[0m             \u001b[0mself\u001b[0m\u001b[0;34m.\u001b[0m\u001b[0mXr0\u001b[0m \u001b[0;34m-=\u001b[0m \u001b[0mself\u001b[0m\u001b[0;34m.\u001b[0m\u001b[0mmash\u001b[0m\u001b[0;34m.\u001b[0m\u001b[0mX\u001b[0m \u001b[0;34m@\u001b[0m \u001b[0;34m(\u001b[0m\u001b[0mnp\u001b[0m\u001b[0;34m.\u001b[0m\u001b[0mvstack\u001b[0m\u001b[0;34m(\u001b[0m\u001b[0mself\u001b[0m\u001b[0;34m.\u001b[0m\u001b[0malpha0\u001b[0m\u001b[0;34m[\u001b[0m\u001b[0ml\u001b[0m\u001b[0;34m,\u001b[0m\u001b[0;34m:\u001b[0m\u001b[0;34m]\u001b[0m\u001b[0;34m)\u001b[0m \u001b[0;34m*\u001b[0m \u001b[0mself\u001b[0m\u001b[0;34m.\u001b[0m\u001b[0mmu0\u001b[0m\u001b[0;34m[\u001b[0m\u001b[0ml\u001b[0m\u001b[0;34m,\u001b[0m\u001b[0;34m:\u001b[0m\u001b[0;34m,\u001b[0m\u001b[0;34m:\u001b[0m\u001b[0;34m]\u001b[0m\u001b[0;34m)\u001b[0m\u001b[0;34m\u001b[0m\u001b[0m\n\u001b[0;32m--> 141\u001b[0;31m             \u001b[0mself\u001b[0m\u001b[0;34m.\u001b[0m\u001b[0malpha0\u001b[0m\u001b[0;34m[\u001b[0m\u001b[0ml\u001b[0m\u001b[0;34m,\u001b[0m\u001b[0;34m:\u001b[0m\u001b[0;34m]\u001b[0m\u001b[0;34m,\u001b[0m \u001b[0mself\u001b[0m\u001b[0;34m.\u001b[0m\u001b[0mmu0\u001b[0m\u001b[0;34m[\u001b[0m\u001b[0ml\u001b[0m\u001b[0;34m,\u001b[0m\u001b[0;34m:\u001b[0m\u001b[0;34m,\u001b[0m\u001b[0;34m:\u001b[0m\u001b[0;34m]\u001b[0m \u001b[0;34m=\u001b[0m \u001b[0mself\u001b[0m\u001b[0;34m.\u001b[0m\u001b[0m_calc_single_snp\u001b[0m\u001b[0;34m(\u001b[0m\u001b[0mself\u001b[0m\u001b[0;34m.\u001b[0m\u001b[0mY\u001b[0m \u001b[0;34m-\u001b[0m \u001b[0mself\u001b[0m\u001b[0;34m.\u001b[0m\u001b[0mXr0\u001b[0m\u001b[0;34m)\u001b[0m\u001b[0;34m\u001b[0m\u001b[0m\n\u001b[0m\u001b[1;32m    142\u001b[0m             \u001b[0mself\u001b[0m\u001b[0;34m.\u001b[0m\u001b[0mXr0\u001b[0m \u001b[0;34m+=\u001b[0m \u001b[0mself\u001b[0m\u001b[0;34m.\u001b[0m\u001b[0mmash\u001b[0m\u001b[0;34m.\u001b[0m\u001b[0mX\u001b[0m \u001b[0;34m@\u001b[0m \u001b[0;34m(\u001b[0m\u001b[0mnp\u001b[0m\u001b[0;34m.\u001b[0m\u001b[0mvstack\u001b[0m\u001b[0;34m(\u001b[0m\u001b[0mself\u001b[0m\u001b[0;34m.\u001b[0m\u001b[0malpha0\u001b[0m\u001b[0;34m[\u001b[0m\u001b[0ml\u001b[0m\u001b[0;34m,\u001b[0m\u001b[0;34m:\u001b[0m\u001b[0;34m]\u001b[0m\u001b[0;34m)\u001b[0m \u001b[0;34m*\u001b[0m \u001b[0mself\u001b[0m\u001b[0;34m.\u001b[0m\u001b[0mmu0\u001b[0m\u001b[0;34m[\u001b[0m\u001b[0ml\u001b[0m\u001b[0;34m,\u001b[0m\u001b[0;34m:\u001b[0m\u001b[0;34m,\u001b[0m\u001b[0;34m:\u001b[0m\u001b[0;34m]\u001b[0m\u001b[0;34m)\u001b[0m\u001b[0;34m\u001b[0m\u001b[0m\n\u001b[1;32m    143\u001b[0m \u001b[0;34m\u001b[0m\u001b[0m\n",
      "\u001b[0;32m/opt/miniconda3/lib/python3.6/site-packages/libgaow-0.1-py3.6.egg/libgaow/regression_data.py\u001b[0m in \u001b[0;36m_calc_single_snp\u001b[0;34m(self, R)\u001b[0m\n\u001b[1;32m    145\u001b[0m         \u001b[0mself\u001b[0m\u001b[0;34m.\u001b[0m\u001b[0mmash\u001b[0m\u001b[0;34m.\u001b[0m\u001b[0mreset\u001b[0m\u001b[0;34m(\u001b[0m\u001b[0;34m{\u001b[0m\u001b[0;34m'Y'\u001b[0m\u001b[0;34m:\u001b[0m \u001b[0mR\u001b[0m\u001b[0;34m}\u001b[0m\u001b[0;34m)\u001b[0m\u001b[0;34m\u001b[0m\u001b[0m\n\u001b[1;32m    146\u001b[0m         \u001b[0mself\u001b[0m\u001b[0;34m.\u001b[0m\u001b[0mmash\u001b[0m\u001b[0;34m.\u001b[0m\u001b[0mget_summary_stats\u001b[0m\u001b[0;34m(\u001b[0m\u001b[0;34m)\u001b[0m\u001b[0;34m\u001b[0m\u001b[0m\n\u001b[0;32m--> 147\u001b[0;31m         \u001b[0mself\u001b[0m\u001b[0;34m.\u001b[0m\u001b[0mmash\u001b[0m\u001b[0;34m.\u001b[0m\u001b[0mfit\u001b[0m\u001b[0;34m(\u001b[0m\u001b[0;34m)\u001b[0m\u001b[0;34m\u001b[0m\u001b[0m\n\u001b[0m\u001b[1;32m    148\u001b[0m         \u001b[0mbf\u001b[0m \u001b[0;34m=\u001b[0m \u001b[0mnp\u001b[0m\u001b[0;34m.\u001b[0m\u001b[0mexp\u001b[0m\u001b[0;34m(\u001b[0m\u001b[0mself\u001b[0m\u001b[0;34m.\u001b[0m\u001b[0mmash\u001b[0m\u001b[0;34m.\u001b[0m\u001b[0ml10bf\u001b[0m\u001b[0;34m)\u001b[0m\u001b[0;34m\u001b[0m\u001b[0m\n\u001b[1;32m    149\u001b[0m         \u001b[0;32mreturn\u001b[0m \u001b[0mbf\u001b[0m\u001b[0;34m/\u001b[0m\u001b[0mnp\u001b[0m\u001b[0;34m.\u001b[0m\u001b[0msum\u001b[0m\u001b[0;34m(\u001b[0m\u001b[0mbf\u001b[0m\u001b[0;34m)\u001b[0m\u001b[0;34m,\u001b[0m \u001b[0mself\u001b[0m\u001b[0;34m.\u001b[0m\u001b[0mmash\u001b[0m\u001b[0;34m.\u001b[0m\u001b[0mpost_mean_mat\u001b[0m\u001b[0;34m.\u001b[0m\u001b[0mT\u001b[0m\u001b[0;34m\u001b[0m\u001b[0m\n",
      "\u001b[0;32m/opt/miniconda3/lib/python3.6/site-packages/libgaow-0.1-py3.6.egg/libgaow/regression_data.py\u001b[0m in \u001b[0;36mfit\u001b[0;34m(self)\u001b[0m\n\u001b[1;32m     92\u001b[0m             \u001b[0mself\u001b[0m\u001b[0;34m.\u001b[0m\u001b[0mV\u001b[0m \u001b[0;34m=\u001b[0m \u001b[0mnp\u001b[0m\u001b[0;34m.\u001b[0m\u001b[0mcorrcoef\u001b[0m\u001b[0;34m(\u001b[0m\u001b[0mself\u001b[0m\u001b[0;34m.\u001b[0m\u001b[0mY\u001b[0m\u001b[0;34m,\u001b[0m \u001b[0mrowvar\u001b[0m \u001b[0;34m=\u001b[0m \u001b[0;32mFalse\u001b[0m\u001b[0;34m)\u001b[0m\u001b[0;34m\u001b[0m\u001b[0m\n\u001b[1;32m     93\u001b[0m         \u001b[0mlik\u001b[0m \u001b[0;34m=\u001b[0m \u001b[0mLikelihoodMASH\u001b[0m\u001b[0;34m(\u001b[0m\u001b[0mself\u001b[0m\u001b[0;34m)\u001b[0m\u001b[0;34m\u001b[0m\u001b[0m\n\u001b[0;32m---> 94\u001b[0;31m         \u001b[0mlik\u001b[0m\u001b[0;34m.\u001b[0m\u001b[0mcompute_relative_likelihood_matrix\u001b[0m\u001b[0;34m(\u001b[0m\u001b[0;34m)\u001b[0m\u001b[0;34m\u001b[0m\u001b[0m\n\u001b[0m\u001b[1;32m     95\u001b[0m         \u001b[0mlik\u001b[0m\u001b[0;34m.\u001b[0m\u001b[0mcompute_loglik_from_matrix\u001b[0m\u001b[0;34m(\u001b[0m\u001b[0;34m)\u001b[0m\u001b[0;34m\u001b[0m\u001b[0m\n\u001b[1;32m     96\u001b[0m         \u001b[0mlik\u001b[0m\u001b[0;34m.\u001b[0m\u001b[0mcompute_log10bf\u001b[0m\u001b[0;34m(\u001b[0m\u001b[0;34m)\u001b[0m\u001b[0;34m\u001b[0m\u001b[0m\n",
      "\u001b[0;32m/opt/miniconda3/lib/python3.6/site-packages/libgaow-0.1-py3.6.egg/libgaow/model_mash.py\u001b[0m in \u001b[0;36mcompute_relative_likelihood_matrix\u001b[0;34m(self)\u001b[0m\n\u001b[1;32m     53\u001b[0m     \u001b[0;32mdef\u001b[0m \u001b[0mcompute_relative_likelihood_matrix\u001b[0m\u001b[0;34m(\u001b[0m\u001b[0mself\u001b[0m\u001b[0;34m)\u001b[0m\u001b[0;34m:\u001b[0m\u001b[0;34m\u001b[0m\u001b[0m\n\u001b[1;32m     54\u001b[0m         \u001b[0mmatrix_llik\u001b[0m \u001b[0;34m=\u001b[0m \u001b[0mself\u001b[0m\u001b[0;34m.\u001b[0m\u001b[0m_calc_likelihood_matrix_comcov\u001b[0m\u001b[0;34m(\u001b[0m\u001b[0;34m)\u001b[0m \u001b[0;32mif\u001b[0m \u001b[0mself\u001b[0m\u001b[0;34m.\u001b[0m\u001b[0mdata\u001b[0m\u001b[0;34m.\u001b[0m\u001b[0mis_common_cov\u001b[0m\u001b[0;34m(\u001b[0m\u001b[0;34m)\u001b[0m\u001b[0;31m \u001b[0m\u001b[0;31m\\\u001b[0m\u001b[0;34m\u001b[0m\u001b[0m\n\u001b[0;32m---> 55\u001b[0;31m                       \u001b[0;32melse\u001b[0m \u001b[0mself\u001b[0m\u001b[0;34m.\u001b[0m\u001b[0m_calc_likelihood_matrix\u001b[0m\u001b[0;34m(\u001b[0m\u001b[0;34m)\u001b[0m\u001b[0;34m\u001b[0m\u001b[0m\n\u001b[0m\u001b[1;32m     56\u001b[0m         \u001b[0mlfactors\u001b[0m \u001b[0;34m=\u001b[0m \u001b[0mnp\u001b[0m\u001b[0;34m.\u001b[0m\u001b[0mamax\u001b[0m\u001b[0;34m(\u001b[0m\u001b[0mmatrix_llik\u001b[0m\u001b[0;34m,\u001b[0m \u001b[0maxis\u001b[0m \u001b[0;34m=\u001b[0m \u001b[0;36m1\u001b[0m\u001b[0;34m)\u001b[0m\u001b[0;34m\u001b[0m\u001b[0m\n\u001b[1;32m     57\u001b[0m         \u001b[0mself\u001b[0m\u001b[0;34m.\u001b[0m\u001b[0mdata\u001b[0m\u001b[0;34m.\u001b[0m\u001b[0mlik\u001b[0m\u001b[0;34m[\u001b[0m\u001b[0;34m'relative_likelihood'\u001b[0m\u001b[0;34m]\u001b[0m \u001b[0;34m=\u001b[0m \u001b[0mnp\u001b[0m\u001b[0;34m.\u001b[0m\u001b[0mexp\u001b[0m\u001b[0;34m(\u001b[0m\u001b[0mmatrix_llik\u001b[0m \u001b[0;34m-\u001b[0m \u001b[0mnp\u001b[0m\u001b[0;34m.\u001b[0m\u001b[0mvstack\u001b[0m\u001b[0;34m(\u001b[0m\u001b[0mlfactors\u001b[0m\u001b[0;34m)\u001b[0m\u001b[0;34m)\u001b[0m\u001b[0;34m\u001b[0m\u001b[0m\n",
      "\u001b[0;32m/opt/miniconda3/lib/python3.6/site-packages/libgaow-0.1-py3.6.egg/libgaow/model_mash.py\u001b[0m in \u001b[0;36m_calc_likelihood_matrix\u001b[0;34m(self)\u001b[0m\n\u001b[1;32m     62\u001b[0m         \u001b[0;32mfor\u001b[0m \u001b[0mj\u001b[0m \u001b[0;32min\u001b[0m \u001b[0mrange\u001b[0m\u001b[0;34m(\u001b[0m\u001b[0mself\u001b[0m\u001b[0;34m.\u001b[0m\u001b[0mJ\u001b[0m\u001b[0;34m)\u001b[0m\u001b[0;34m:\u001b[0m\u001b[0;34m\u001b[0m\u001b[0m\n\u001b[1;32m     63\u001b[0m             \u001b[0msigma_mat\u001b[0m \u001b[0;34m=\u001b[0m \u001b[0mget_svs\u001b[0m\u001b[0;34m(\u001b[0m\u001b[0mself\u001b[0m\u001b[0;34m.\u001b[0m\u001b[0mdata\u001b[0m\u001b[0;34m.\u001b[0m\u001b[0mS\u001b[0m\u001b[0;34m[\u001b[0m\u001b[0mj\u001b[0m\u001b[0;34m,\u001b[0m\u001b[0;34m:\u001b[0m\u001b[0;34m]\u001b[0m\u001b[0;34m,\u001b[0m \u001b[0mself\u001b[0m\u001b[0;34m.\u001b[0m\u001b[0mdata\u001b[0m\u001b[0;34m.\u001b[0m\u001b[0mV\u001b[0m\u001b[0;34m)\u001b[0m\u001b[0;34m\u001b[0m\u001b[0m\n\u001b[0;32m---> 64\u001b[0;31m             \u001b[0mloglik\u001b[0m\u001b[0;34m[\u001b[0m\u001b[0mj\u001b[0m\u001b[0;34m,\u001b[0m\u001b[0;34m:\u001b[0m\u001b[0;34m]\u001b[0m \u001b[0;34m=\u001b[0m \u001b[0mnp\u001b[0m\u001b[0;34m.\u001b[0m\u001b[0marray\u001b[0m\u001b[0;34m(\u001b[0m\u001b[0;34m[\u001b[0m\u001b[0msafe_mvnorm_logpdf\u001b[0m\u001b[0;34m(\u001b[0m\u001b[0mself\u001b[0m\u001b[0;34m.\u001b[0m\u001b[0mdata\u001b[0m\u001b[0;34m.\u001b[0m\u001b[0mB\u001b[0m\u001b[0;34m[\u001b[0m\u001b[0mj\u001b[0m\u001b[0;34m,\u001b[0m\u001b[0;34m:\u001b[0m\u001b[0;34m]\u001b[0m\u001b[0;34m,\u001b[0m \u001b[0msigma_mat\u001b[0m \u001b[0;34m+\u001b[0m \u001b[0mself\u001b[0m\u001b[0;34m.\u001b[0m\u001b[0mdata\u001b[0m\u001b[0;34m.\u001b[0m\u001b[0mU\u001b[0m\u001b[0;34m[\u001b[0m\u001b[0mp\u001b[0m\u001b[0;34m]\u001b[0m\u001b[0;34m)\u001b[0m \u001b[0;32mfor\u001b[0m \u001b[0mp\u001b[0m \u001b[0;32min\u001b[0m \u001b[0mself\u001b[0m\u001b[0;34m.\u001b[0m\u001b[0mdata\u001b[0m\u001b[0;34m.\u001b[0m\u001b[0mU\u001b[0m\u001b[0;34m]\u001b[0m\u001b[0;34m)\u001b[0m\u001b[0;34m\u001b[0m\u001b[0m\n\u001b[0m\u001b[1;32m     65\u001b[0m         \u001b[0;32mreturn\u001b[0m \u001b[0mloglik\u001b[0m\u001b[0;34m\u001b[0m\u001b[0m\n\u001b[1;32m     66\u001b[0m \u001b[0;34m\u001b[0m\u001b[0m\n",
      "\u001b[0;32m/opt/miniconda3/lib/python3.6/site-packages/libgaow-0.1-py3.6.egg/libgaow/model_mash.py\u001b[0m in \u001b[0;36m<listcomp>\u001b[0;34m(.0)\u001b[0m\n\u001b[1;32m     62\u001b[0m         \u001b[0;32mfor\u001b[0m \u001b[0mj\u001b[0m \u001b[0;32min\u001b[0m \u001b[0mrange\u001b[0m\u001b[0;34m(\u001b[0m\u001b[0mself\u001b[0m\u001b[0;34m.\u001b[0m\u001b[0mJ\u001b[0m\u001b[0;34m)\u001b[0m\u001b[0;34m:\u001b[0m\u001b[0;34m\u001b[0m\u001b[0m\n\u001b[1;32m     63\u001b[0m             \u001b[0msigma_mat\u001b[0m \u001b[0;34m=\u001b[0m \u001b[0mget_svs\u001b[0m\u001b[0;34m(\u001b[0m\u001b[0mself\u001b[0m\u001b[0;34m.\u001b[0m\u001b[0mdata\u001b[0m\u001b[0;34m.\u001b[0m\u001b[0mS\u001b[0m\u001b[0;34m[\u001b[0m\u001b[0mj\u001b[0m\u001b[0;34m,\u001b[0m\u001b[0;34m:\u001b[0m\u001b[0;34m]\u001b[0m\u001b[0;34m,\u001b[0m \u001b[0mself\u001b[0m\u001b[0;34m.\u001b[0m\u001b[0mdata\u001b[0m\u001b[0;34m.\u001b[0m\u001b[0mV\u001b[0m\u001b[0;34m)\u001b[0m\u001b[0;34m\u001b[0m\u001b[0m\n\u001b[0;32m---> 64\u001b[0;31m             \u001b[0mloglik\u001b[0m\u001b[0;34m[\u001b[0m\u001b[0mj\u001b[0m\u001b[0;34m,\u001b[0m\u001b[0;34m:\u001b[0m\u001b[0;34m]\u001b[0m \u001b[0;34m=\u001b[0m \u001b[0mnp\u001b[0m\u001b[0;34m.\u001b[0m\u001b[0marray\u001b[0m\u001b[0;34m(\u001b[0m\u001b[0;34m[\u001b[0m\u001b[0msafe_mvnorm_logpdf\u001b[0m\u001b[0;34m(\u001b[0m\u001b[0mself\u001b[0m\u001b[0;34m.\u001b[0m\u001b[0mdata\u001b[0m\u001b[0;34m.\u001b[0m\u001b[0mB\u001b[0m\u001b[0;34m[\u001b[0m\u001b[0mj\u001b[0m\u001b[0;34m,\u001b[0m\u001b[0;34m:\u001b[0m\u001b[0;34m]\u001b[0m\u001b[0;34m,\u001b[0m \u001b[0msigma_mat\u001b[0m \u001b[0;34m+\u001b[0m \u001b[0mself\u001b[0m\u001b[0;34m.\u001b[0m\u001b[0mdata\u001b[0m\u001b[0;34m.\u001b[0m\u001b[0mU\u001b[0m\u001b[0;34m[\u001b[0m\u001b[0mp\u001b[0m\u001b[0;34m]\u001b[0m\u001b[0;34m)\u001b[0m \u001b[0;32mfor\u001b[0m \u001b[0mp\u001b[0m \u001b[0;32min\u001b[0m \u001b[0mself\u001b[0m\u001b[0;34m.\u001b[0m\u001b[0mdata\u001b[0m\u001b[0;34m.\u001b[0m\u001b[0mU\u001b[0m\u001b[0;34m]\u001b[0m\u001b[0;34m)\u001b[0m\u001b[0;34m\u001b[0m\u001b[0m\n\u001b[0m\u001b[1;32m     65\u001b[0m         \u001b[0;32mreturn\u001b[0m \u001b[0mloglik\u001b[0m\u001b[0;34m\u001b[0m\u001b[0m\n\u001b[1;32m     66\u001b[0m \u001b[0;34m\u001b[0m\u001b[0m\n",
      "\u001b[0;32m/opt/miniconda3/lib/python3.6/site-packages/libgaow-0.1-py3.6.egg/libgaow/model_mash.py\u001b[0m in \u001b[0;36msafe_mvnorm_logpdf\u001b[0;34m(val, cov)\u001b[0m\n\u001b[1;32m     27\u001b[0m \u001b[0;32mdef\u001b[0m \u001b[0msafe_mvnorm_logpdf\u001b[0m\u001b[0;34m(\u001b[0m\u001b[0mval\u001b[0m\u001b[0;34m,\u001b[0m \u001b[0mcov\u001b[0m\u001b[0;34m)\u001b[0m\u001b[0;34m:\u001b[0m\u001b[0;34m\u001b[0m\u001b[0m\n\u001b[1;32m     28\u001b[0m     \u001b[0;32mtry\u001b[0m\u001b[0;34m:\u001b[0m\u001b[0;34m\u001b[0m\u001b[0m\n\u001b[0;32m---> 29\u001b[0;31m         \u001b[0;32mreturn\u001b[0m \u001b[0mmvnorm\u001b[0m\u001b[0;34m.\u001b[0m\u001b[0mlogpdf\u001b[0m\u001b[0;34m(\u001b[0m\u001b[0mval\u001b[0m\u001b[0;34m,\u001b[0m \u001b[0mcov\u001b[0m\u001b[0;34m=\u001b[0m\u001b[0mcov\u001b[0m\u001b[0;34m)\u001b[0m\u001b[0;34m\u001b[0m\u001b[0m\n\u001b[0m\u001b[1;32m     30\u001b[0m     \u001b[0;32mexcept\u001b[0m \u001b[0mnp\u001b[0m\u001b[0;34m.\u001b[0m\u001b[0mlinalg\u001b[0m\u001b[0;34m.\u001b[0m\u001b[0mlinalg\u001b[0m\u001b[0;34m.\u001b[0m\u001b[0mLinAlgError\u001b[0m\u001b[0;34m:\u001b[0m\u001b[0;34m\u001b[0m\u001b[0m\n\u001b[1;32m     31\u001b[0m         \u001b[0;32mif\u001b[0m \u001b[0mlen\u001b[0m\u001b[0;34m(\u001b[0m\u001b[0mval\u001b[0m\u001b[0;34m.\u001b[0m\u001b[0mshape\u001b[0m\u001b[0;34m)\u001b[0m \u001b[0;34m==\u001b[0m \u001b[0;36m1\u001b[0m\u001b[0;34m:\u001b[0m\u001b[0;34m\u001b[0m\u001b[0m\n",
      "\u001b[0;32m/opt/miniconda3/lib/python3.6/site-packages/scipy/stats/_multivariate.py\u001b[0m in \u001b[0;36mlogpdf\u001b[0;34m(self, x, mean, cov, allow_singular)\u001b[0m\n\u001b[1;32m    484\u001b[0m         \u001b[0mdim\u001b[0m\u001b[0;34m,\u001b[0m \u001b[0mmean\u001b[0m\u001b[0;34m,\u001b[0m \u001b[0mcov\u001b[0m \u001b[0;34m=\u001b[0m \u001b[0mself\u001b[0m\u001b[0;34m.\u001b[0m\u001b[0m_process_parameters\u001b[0m\u001b[0;34m(\u001b[0m\u001b[0;32mNone\u001b[0m\u001b[0;34m,\u001b[0m \u001b[0mmean\u001b[0m\u001b[0;34m,\u001b[0m \u001b[0mcov\u001b[0m\u001b[0;34m)\u001b[0m\u001b[0;34m\u001b[0m\u001b[0m\n\u001b[1;32m    485\u001b[0m         \u001b[0mx\u001b[0m \u001b[0;34m=\u001b[0m \u001b[0mself\u001b[0m\u001b[0;34m.\u001b[0m\u001b[0m_process_quantiles\u001b[0m\u001b[0;34m(\u001b[0m\u001b[0mx\u001b[0m\u001b[0;34m,\u001b[0m \u001b[0mdim\u001b[0m\u001b[0;34m)\u001b[0m\u001b[0;34m\u001b[0m\u001b[0m\n\u001b[0;32m--> 486\u001b[0;31m         \u001b[0mpsd\u001b[0m \u001b[0;34m=\u001b[0m \u001b[0m_PSD\u001b[0m\u001b[0;34m(\u001b[0m\u001b[0mcov\u001b[0m\u001b[0;34m,\u001b[0m \u001b[0mallow_singular\u001b[0m\u001b[0;34m=\u001b[0m\u001b[0mallow_singular\u001b[0m\u001b[0;34m)\u001b[0m\u001b[0;34m\u001b[0m\u001b[0m\n\u001b[0m\u001b[1;32m    487\u001b[0m         \u001b[0mout\u001b[0m \u001b[0;34m=\u001b[0m \u001b[0mself\u001b[0m\u001b[0;34m.\u001b[0m\u001b[0m_logpdf\u001b[0m\u001b[0;34m(\u001b[0m\u001b[0mx\u001b[0m\u001b[0;34m,\u001b[0m \u001b[0mmean\u001b[0m\u001b[0;34m,\u001b[0m \u001b[0mpsd\u001b[0m\u001b[0;34m.\u001b[0m\u001b[0mU\u001b[0m\u001b[0;34m,\u001b[0m \u001b[0mpsd\u001b[0m\u001b[0;34m.\u001b[0m\u001b[0mlog_pdet\u001b[0m\u001b[0;34m,\u001b[0m \u001b[0mpsd\u001b[0m\u001b[0;34m.\u001b[0m\u001b[0mrank\u001b[0m\u001b[0;34m)\u001b[0m\u001b[0;34m\u001b[0m\u001b[0m\n\u001b[1;32m    488\u001b[0m         \u001b[0;32mreturn\u001b[0m \u001b[0m_squeeze_output\u001b[0m\u001b[0;34m(\u001b[0m\u001b[0mout\u001b[0m\u001b[0;34m)\u001b[0m\u001b[0;34m\u001b[0m\u001b[0m\n",
      "\u001b[0;32m/opt/miniconda3/lib/python3.6/site-packages/scipy/stats/_multivariate.py\u001b[0m in \u001b[0;36m__init__\u001b[0;34m(self, M, cond, rcond, lower, check_finite, allow_singular)\u001b[0m\n\u001b[1;32m    150\u001b[0m         \u001b[0;31m# Note that eigh takes care of array conversion, chkfinite,\u001b[0m\u001b[0;34m\u001b[0m\u001b[0;34m\u001b[0m\u001b[0m\n\u001b[1;32m    151\u001b[0m         \u001b[0;31m# and assertion that the matrix is square.\u001b[0m\u001b[0;34m\u001b[0m\u001b[0;34m\u001b[0m\u001b[0m\n\u001b[0;32m--> 152\u001b[0;31m         \u001b[0ms\u001b[0m\u001b[0;34m,\u001b[0m \u001b[0mu\u001b[0m \u001b[0;34m=\u001b[0m \u001b[0mscipy\u001b[0m\u001b[0;34m.\u001b[0m\u001b[0mlinalg\u001b[0m\u001b[0;34m.\u001b[0m\u001b[0meigh\u001b[0m\u001b[0;34m(\u001b[0m\u001b[0mM\u001b[0m\u001b[0;34m,\u001b[0m \u001b[0mlower\u001b[0m\u001b[0;34m=\u001b[0m\u001b[0mlower\u001b[0m\u001b[0;34m,\u001b[0m \u001b[0mcheck_finite\u001b[0m\u001b[0;34m=\u001b[0m\u001b[0mcheck_finite\u001b[0m\u001b[0;34m)\u001b[0m\u001b[0;34m\u001b[0m\u001b[0m\n\u001b[0m\u001b[1;32m    153\u001b[0m \u001b[0;34m\u001b[0m\u001b[0m\n\u001b[1;32m    154\u001b[0m         \u001b[0meps\u001b[0m \u001b[0;34m=\u001b[0m \u001b[0m_eigvalsh_to_eps\u001b[0m\u001b[0;34m(\u001b[0m\u001b[0ms\u001b[0m\u001b[0;34m,\u001b[0m \u001b[0mcond\u001b[0m\u001b[0;34m,\u001b[0m \u001b[0mrcond\u001b[0m\u001b[0;34m)\u001b[0m\u001b[0;34m\u001b[0m\u001b[0m\n",
      "\u001b[0;32m/opt/miniconda3/lib/python3.6/site-packages/scipy/linalg/decomp.py\u001b[0m in \u001b[0;36meigh\u001b[0;34m(a, b, lower, eigvals_only, overwrite_a, overwrite_b, turbo, eigvals, type, check_finite)\u001b[0m\n\u001b[1;32m    327\u001b[0m         \u001b[0msymmetric\u001b[0m\u001b[0;34m/\u001b[0m\u001b[0mHermitian\u001b[0m \u001b[0mtridiagonal\u001b[0m \u001b[0mmatrices\u001b[0m\u001b[0;34m\u001b[0m\u001b[0m\n\u001b[1;32m    328\u001b[0m     \"\"\"\n\u001b[0;32m--> 329\u001b[0;31m     \u001b[0ma1\u001b[0m \u001b[0;34m=\u001b[0m \u001b[0m_asarray_validated\u001b[0m\u001b[0;34m(\u001b[0m\u001b[0ma\u001b[0m\u001b[0;34m,\u001b[0m \u001b[0mcheck_finite\u001b[0m\u001b[0;34m=\u001b[0m\u001b[0mcheck_finite\u001b[0m\u001b[0;34m)\u001b[0m\u001b[0;34m\u001b[0m\u001b[0m\n\u001b[0m\u001b[1;32m    330\u001b[0m     \u001b[0;32mif\u001b[0m \u001b[0mlen\u001b[0m\u001b[0;34m(\u001b[0m\u001b[0ma1\u001b[0m\u001b[0;34m.\u001b[0m\u001b[0mshape\u001b[0m\u001b[0;34m)\u001b[0m \u001b[0;34m!=\u001b[0m \u001b[0;36m2\u001b[0m \u001b[0;32mor\u001b[0m \u001b[0ma1\u001b[0m\u001b[0;34m.\u001b[0m\u001b[0mshape\u001b[0m\u001b[0;34m[\u001b[0m\u001b[0;36m0\u001b[0m\u001b[0;34m]\u001b[0m \u001b[0;34m!=\u001b[0m \u001b[0ma1\u001b[0m\u001b[0;34m.\u001b[0m\u001b[0mshape\u001b[0m\u001b[0;34m[\u001b[0m\u001b[0;36m1\u001b[0m\u001b[0;34m]\u001b[0m\u001b[0;34m:\u001b[0m\u001b[0;34m\u001b[0m\u001b[0m\n\u001b[1;32m    331\u001b[0m         \u001b[0;32mraise\u001b[0m \u001b[0mValueError\u001b[0m\u001b[0;34m(\u001b[0m\u001b[0;34m'expected square matrix'\u001b[0m\u001b[0;34m)\u001b[0m\u001b[0;34m\u001b[0m\u001b[0m\n",
      "\u001b[0;32m/opt/miniconda3/lib/python3.6/site-packages/scipy/_lib/_util.py\u001b[0m in \u001b[0;36m_asarray_validated\u001b[0;34m(a, check_finite, sparse_ok, objects_ok, mask_ok, as_inexact)\u001b[0m\n\u001b[1;32m    236\u001b[0m             \u001b[0;32mraise\u001b[0m \u001b[0mValueError\u001b[0m\u001b[0;34m(\u001b[0m\u001b[0;34m'masked arrays are not supported'\u001b[0m\u001b[0;34m)\u001b[0m\u001b[0;34m\u001b[0m\u001b[0m\n\u001b[1;32m    237\u001b[0m     \u001b[0mtoarray\u001b[0m \u001b[0;34m=\u001b[0m \u001b[0mnp\u001b[0m\u001b[0;34m.\u001b[0m\u001b[0masarray_chkfinite\u001b[0m \u001b[0;32mif\u001b[0m \u001b[0mcheck_finite\u001b[0m \u001b[0;32melse\u001b[0m \u001b[0mnp\u001b[0m\u001b[0;34m.\u001b[0m\u001b[0masarray\u001b[0m\u001b[0;34m\u001b[0m\u001b[0m\n\u001b[0;32m--> 238\u001b[0;31m     \u001b[0ma\u001b[0m \u001b[0;34m=\u001b[0m \u001b[0mtoarray\u001b[0m\u001b[0;34m(\u001b[0m\u001b[0ma\u001b[0m\u001b[0;34m)\u001b[0m\u001b[0;34m\u001b[0m\u001b[0m\n\u001b[0m\u001b[1;32m    239\u001b[0m     \u001b[0;32mif\u001b[0m \u001b[0;32mnot\u001b[0m \u001b[0mobjects_ok\u001b[0m\u001b[0;34m:\u001b[0m\u001b[0;34m\u001b[0m\u001b[0m\n\u001b[1;32m    240\u001b[0m         \u001b[0;32mif\u001b[0m \u001b[0ma\u001b[0m\u001b[0;34m.\u001b[0m\u001b[0mdtype\u001b[0m \u001b[0;32mis\u001b[0m \u001b[0mnp\u001b[0m\u001b[0;34m.\u001b[0m\u001b[0mdtype\u001b[0m\u001b[0;34m(\u001b[0m\u001b[0;34m'O'\u001b[0m\u001b[0;34m)\u001b[0m\u001b[0;34m:\u001b[0m\u001b[0;34m\u001b[0m\u001b[0m\n",
      "\u001b[0;32m/opt/miniconda3/lib/python3.6/site-packages/numpy/lib/function_base.py\u001b[0m in \u001b[0;36masarray_chkfinite\u001b[0;34m(a, dtype, order)\u001b[0m\n\u001b[1;32m   1213\u001b[0m     \u001b[0;32mif\u001b[0m \u001b[0ma\u001b[0m\u001b[0;34m.\u001b[0m\u001b[0mdtype\u001b[0m\u001b[0;34m.\u001b[0m\u001b[0mchar\u001b[0m \u001b[0;32min\u001b[0m \u001b[0mtypecodes\u001b[0m\u001b[0;34m[\u001b[0m\u001b[0;34m'AllFloat'\u001b[0m\u001b[0;34m]\u001b[0m \u001b[0;32mand\u001b[0m \u001b[0;32mnot\u001b[0m \u001b[0mnp\u001b[0m\u001b[0;34m.\u001b[0m\u001b[0misfinite\u001b[0m\u001b[0;34m(\u001b[0m\u001b[0ma\u001b[0m\u001b[0;34m)\u001b[0m\u001b[0;34m.\u001b[0m\u001b[0mall\u001b[0m\u001b[0;34m(\u001b[0m\u001b[0;34m)\u001b[0m\u001b[0;34m:\u001b[0m\u001b[0;34m\u001b[0m\u001b[0m\n\u001b[1;32m   1214\u001b[0m         raise ValueError(\n\u001b[0;32m-> 1215\u001b[0;31m             \"array must not contain infs or NaNs\")\n\u001b[0m\u001b[1;32m   1216\u001b[0m     \u001b[0;32mreturn\u001b[0m \u001b[0ma\u001b[0m\u001b[0;34m\u001b[0m\u001b[0m\n\u001b[1;32m   1217\u001b[0m \u001b[0;34m\u001b[0m\u001b[0m\n",
      "\u001b[0;31mValueError\u001b[0m: array must not contain infs or NaNs"
     ]
    }
   ],
   "source": [
    "model.fit()"
   ]
  },
  {
   "cell_type": "code",
   "execution_count": 10,
   "metadata": {
    "kernel": "Python3"
   },
   "outputs": [
    {
     "data": {
      "text/plain": [
       "array([[ -1.04291072e-21,  -5.58051289e-22],\n",
       "       [ -1.77377302e-15,  -1.76887967e-15],\n",
       "       [ -1.15121535e-18,  -1.15039931e-18],\n",
       "       ..., \n",
       "       [  6.76559354e-21,   2.61296975e-21],\n",
       "       [ -1.08939477e-19,  -5.34275355e-20],\n",
       "       [  8.73588121e-21,   3.50093772e-21]])"
      ]
     },
     "execution_count": 10,
     "metadata": {},
     "output_type": "execute_result"
    }
   ],
   "source": [
    "model.post_mean_mat"
   ]
  },
  {
   "cell_type": "code",
   "execution_count": 11,
   "metadata": {
    "kernel": "Python3",
    "tags": [
     "report_output"
    ]
   },
   "outputs": [
    {
     "data": {
      "image/png": "[encoded data removed]",
      "text/plain": [
       "<matplotlib.figure.Figure at 0x7f7a8af675f8>"
      ]
     },
     "metadata": {},
     "output_type": "display_data"
    }
   ],
   "source": [
    "import seaborn as sns\n",
    "import matplotlib.pyplot as plt\n",
    "plt.scatter([x+1 for x in range(len(model.post_mean_mat[:,0]))], model.post_mean_mat[:,0], cmap=\"viridis\")\n",
    "ax = plt.gca()\n",
    "plt.show()"
   ]
  },
  {
   "cell_type": "code",
   "execution_count": 12,
   "metadata": {
    "kernel": "Python3",
    "tags": [
     "report_output"
    ]
   },
   "outputs": [
    {
     "data": {
      "image/png": "[encoded data removed]",
      "text/plain": [
       "<matplotlib.figure.Figure at 0x7f7a8022aa20>"
      ]
     },
     "metadata": {},
     "output_type": "display_data"
    }
   ],
   "source": [
    "import seaborn as sns\n",
    "import matplotlib.pyplot as plt\n",
    "plt.scatter([x+1 for x in range(len(model.post_mean_mat[:,1]))], model.post_mean_mat[:,1], cmap=\"viridis\")\n",
    "ax = plt.gca()\n",
    "plt.show()"
   ]
  },
  {
   "cell_type": "markdown",
   "metadata": {},
   "source": [
    "## Debug previews"
   ]
  },
  {
   "cell_type": "code",
   "execution_count": 33,
   "metadata": {
    "kernel": "Python3"
   },
   "outputs": [
    {
     "data": {
      "text/plain": [
       "array([[ nan,  nan],\n",
       "       [ nan,  nan],\n",
       "       [ nan,  nan],\n",
       "       ..., \n",
       "       [ nan,  nan],\n",
       "       [ nan,  nan],\n",
       "       [ nan,  nan]])"
      ]
     },
     "execution_count": 33,
     "metadata": {},
     "output_type": "execute_result"
    }
   ],
   "source": [
    "model.mash.B"
   ]
  },
  {
   "cell_type": "code",
   "execution_count": 34,
   "metadata": {
    "kernel": "Python3"
   },
   "outputs": [
    {
     "data": {
      "text/plain": [
       "array([[ nan,  nan],\n",
       "       [ nan,  nan],\n",
       "       [ nan,  nan],\n",
       "       ..., \n",
       "       [ nan,  nan],\n",
       "       [ nan,  nan],\n",
       "       [ nan,  nan]])"
      ]
     },
     "execution_count": 34,
     "metadata": {},
     "output_type": "execute_result"
    }
   ],
   "source": [
    "model.mash.S"
   ]
  },
  {
   "cell_type": "code",
   "execution_count": 32,
   "metadata": {
    "kernel": "Python3",
    "scrolled": false
   },
   "outputs": [
    {
     "name": "stdout",
     "output_type": "stream",
     "text": [
      "{   'Xr0': array([[ nan,  nan],\n",
      "       [ nan,  nan],\n",
      "       [ nan,  nan],\n",
      "       ..., \n",
      "       [ nan,  nan],\n",
      "       [ nan,  nan],\n",
      "       [ nan,  nan]]),\n",
      "    'Y': array([[  1.60689480e-01,   7.73609574e-01],\n",
      "       [  4.33098395e-01,   7.81487761e-01],\n",
      "       [ -2.15164667e-01,  -6.50111523e-01],\n",
      "       ..., \n",
      "       [  6.17574628e-01,   2.16840434e-18],\n",
      "       [  3.03576608e-18,  -5.08905465e-02],\n",
      "       [ -1.49299907e-01,   3.02853264e-01]]),\n",
      "    'alpha0': array([[  2.98153710e-07,   4.15231470e-07,   5.16027052e-07, ...,\n",
      "          2.95486232e-07,   3.00081368e-07,   2.99693337e-07],\n",
      "       [  4.41186673e-06,   7.36713611e-06,   7.16004811e-06, ...,\n",
      "          4.73572754e-06,   4.32323980e-06,   4.75517059e-06],\n",
      "       [  8.23553510e-06,   1.40161300e-05,   1.35992148e-05, ...,\n",
      "          9.11091344e-06,   7.35916489e-06,   9.15446122e-06],\n",
      "       [  0.00000000e+00,   0.00000000e+00,   0.00000000e+00, ...,\n",
      "          0.00000000e+00,   0.00000000e+00,   0.00000000e+00],\n",
      "       [  7.69188143e-05,   1.26397099e-04,   1.20620605e-04, ...,\n",
      "          8.04033866e-05,   6.99132064e-05,   8.03886795e-05]]),\n",
      "    'elbo': [],\n",
      "    'mash': {   'B': array([[ nan,  nan],\n",
      "       [ nan,  nan],\n",
      "       [ nan,  nan],\n",
      "       ..., \n",
      "       [ nan,  nan],\n",
      "       [ nan,  nan],\n",
      "       [ nan,  nan]]),\n",
      "                'S': array([[ nan,  nan],\n",
      "       [ nan,  nan],\n",
      "       [ nan,  nan],\n",
      "       ..., \n",
      "       [ nan,  nan],\n",
      "       [ nan,  nan],\n",
      "       [ nan,  nan]]),\n",
      "                'U': {   'all_in.1': array([[ 0.25,  0.25],\n",
      "       [ 0.25,  0.25]]),\n",
      "                         'all_in.2': array([[ 1.,  1.],\n",
      "       [ 1.,  1.]]),\n",
      "                         'identity.1': array([[ 0.25,  0.  ],\n",
      "       [ 0.  ,  0.25]]),\n",
      "                         'identity.2': array([[ 1.,  0.],\n",
      "       [ 0.,  1.]]),\n",
      "                         'null': array([[ 0.,  0.],\n",
      "       [ 0.,  0.]]),\n",
      "                         'single_1.1': array([[ 0.25,  0.  ],\n",
      "       [ 0.  ,  0.  ]]),\n",
      "                         'single_1.2': array([[ 1.,  0.],\n",
      "       [ 0.,  0.]]),\n",
      "                         'single_2.1': array([[ 0.  ,  0.  ],\n",
      "       [ 0.  ,  0.25]]),\n",
      "                         'single_2.2': array([[ 0.,  0.],\n",
      "       [ 0.,  1.]])},\n",
      "                'V': array([[ 1.        ,  0.09728834],\n",
      "       [ 0.09728834,  1.        ]]),\n",
      "                'X': array([[ 0.66232029, -0.08595989, -0.12194938, ..., -0.1364837 ,\n",
      "         0.44764338, -0.13791952],\n",
      "       [-0.33767971, -0.08595989, -0.12194938, ..., -0.1364837 ,\n",
      "         0.44764338, -0.13791952],\n",
      "       [-0.33767971,  0.91404011, -0.12194938, ..., -0.1364837 ,\n",
      "         0.44764338, -0.13791952],\n",
      "       ..., \n",
      "       [-0.33767971, -0.08595989, -0.12194938, ..., -0.1364837 ,\n",
      "        -0.55235662, -0.13791952],\n",
      "       [-0.33767971, -0.08595989, -0.12194938, ..., -0.1364837 ,\n",
      "         0.44764338, -0.13791952],\n",
      "       [-0.33767971, -0.08595989, -0.12194938, ..., -0.1364837 ,\n",
      "         0.44764338, -0.13791952]]),\n",
      "                'Y': array([[ nan,  nan],\n",
      "       [ nan,  nan],\n",
      "       [ nan,  nan],\n",
      "       ..., \n",
      "       [ nan,  nan],\n",
      "       [ nan,  nan],\n",
      "       [ nan,  nan]]),\n",
      "                'Z': None,\n",
      "                '_is_common_cov': False,\n",
      "                'grid': [0.5, 1],\n",
      "                'l10bf': array([-1.0907158 , -0.59996968, -0.8668167 , ..., -0.97111263,\n",
      "       -0.81055472, -0.9540239 ]),\n",
      "                'lik': {   'alt_loglik': None,\n",
      "                           'lfactor': None,\n",
      "                           'loglik': None,\n",
      "                           'marginal_loglik': None,\n",
      "                           'null_loglik': None,\n",
      "                           'relative_likelihood': None},\n",
      "                'neg_prob_mat': array([[ 0.00340287,  0.0117976 ,  0.00483466, ...,  0.00134369,\n",
      "         0.00395353,  0.00127199],\n",
      "       [ 0.00653226,  0.02417237,  0.01229406, ...,  0.00075546,\n",
      "         0.01293778,  0.00079223]]),\n",
      "                'pi': array([ 0.9 ,  0.01,  0.01,  0.01,  0.01,  0.01,  0.01,  0.02,  0.02]),\n",
      "                'post_mean2_mat': array([[  9.65137854e-06,   1.04183761e-04,   2.29442388e-05, ...,\n",
      "          2.82867341e-05,   5.83242402e-06,   3.05014128e-05],\n",
      "       [  9.38000862e-06,   1.66191083e-02,   6.02939906e-02, ...,\n",
      "          3.96784039e-02,   9.79502028e-06,   5.38623893e-02]]),\n",
      "                'post_mean_mat': array([[ -1.29366474e-04,  -7.65094246e-04,  -1.47506534e-04, ...,\n",
      "          2.59089652e-04,  -7.81634346e-05,   2.84773675e-04],\n",
      "       [ -1.36237240e-04,  -1.22507630e-02,  -1.73021729e-02, ...,\n",
      "          1.20771859e-02,  -1.40048519e-04,   1.44351883e-02]]),\n",
      "                'posterior_weights': array([[  9.91063995e-01,   9.72846116e-01,   9.85125838e-01, ...,\n",
      "          9.88264060e-01,   9.83103299e-01,   9.87798813e-01],\n",
      "       [  2.88325869e-04,   1.48495516e-03,   5.62175404e-04, ...,\n",
      "          4.84251146e-04,   5.04965562e-04,   5.28275450e-04],\n",
      "       [  7.34837859e-05,   4.06109916e-04,   1.46990553e-04, ...,\n",
      "          1.25341457e-04,   1.29179235e-04,   1.36935578e-04],\n",
      "       ..., \n",
      "       [  1.57085227e-03,   4.19704490e-03,   2.53714211e-03, ...,\n",
      "          1.87651256e-03,   3.74579792e-03,   1.97964926e-03],\n",
      "       [  1.49334606e-03,   6.97085027e-03,   3.29775667e-03, ...,\n",
      "          2.17570394e-03,   2.77106241e-03,   2.18033175e-03],\n",
      "       [  7.47963042e-04,   3.54189375e-03,   1.65958668e-03, ...,\n",
      "          1.09187288e-03,   1.38944615e-03,   1.09421330e-03]]),\n",
      "                'trace_XXt': array([ 1285.74755823,  1645.74964547,  1474.99961843,  2431.86362943,\n",
      "        1573.93731825,  1985.63229086,  1722.71676782,  1196.84535627,\n",
      "        1559.24047364,  1812.54137461,  1500.25358956,  1529.93503045,\n",
      "        1641.61359624,  2421.81707409,  2502.98070591,  1466.36477889,\n",
      "        1311.17800224,  1837.40058792,  1280.98808451,  2296.5313088 ,\n",
      "        1823.03440129,  1445.79597251,  1276.6574532 ,  2569.52069451,\n",
      "        1801.6875249 ,  1918.92567644,  1119.48568772,  1474.59360472,\n",
      "        3182.36441038,  1408.49110789,  1633.08604459,  2947.11992813,\n",
      "        1780.1795657 ,  1302.39633762,  2558.04266555,  2003.74278014,\n",
      "        1271.42831883,  1673.44238122,  1837.38071938,  1431.0667699 ,\n",
      "        2339.45352904,  1165.52710149,  1406.25637819,  1868.34089425,\n",
      "        1404.48221363,  1751.18786087,  2792.14230641,  1807.84155469,\n",
      "        2041.3750185 ,  1994.74518213,  1107.19345517,  1695.42506499,\n",
      "        1164.7488248 ,  1282.14399214,  2047.79815298,  1663.86864624,\n",
      "        1750.3086855 ,  1816.51723114,  2170.27397904,  1232.73886654,\n",
      "        1929.79120324,  1880.64275364,  1600.76903406,  1314.8514994 ,\n",
      "        1632.18177111,  1778.8608687 ,  1616.97077214,  2360.83005899,\n",
      "        1141.70381475,  2271.79282434,  1090.42953396,  1880.75447003,\n",
      "        2577.19383685,  1224.56201251,  2598.37454117,  1721.93015083,\n",
      "        2054.48789652,  2235.24321359,  1680.05146321,  1976.93371624,\n",
      "        1199.14600521,  1194.28547062,  1587.27532756,  1984.10486544,\n",
      "        1222.58017461,  1820.50865992,  1547.92961685,  1479.869659  ,\n",
      "        1579.77919589,  1244.69126434,  2102.29297498,  1446.81480073,\n",
      "        1575.27606396,  1471.53731059,  2077.5616407 ,  1876.14991829,\n",
      "        1354.7084005 ,  3180.6329562 ,  2168.20829481,  1577.53896897,\n",
      "        1882.14825524,  1543.68836035,  2520.48587556,  2048.56379258,\n",
      "        1827.51752575,  2329.135439  ,  2120.98914721,  2010.35685292,\n",
      "        1505.68978621,  1832.84672355,  2472.16332511,  1251.68095142,\n",
      "        1876.3534272 ,  1488.53413204,  1894.88258687,  1523.21255155,\n",
      "        1780.98148671,  2049.15798936,  1074.5042261 ,  2860.31880214,\n",
      "        1108.15890472,  1621.11428101,  1867.24206569,  1351.29065262,\n",
      "         980.16687775,  1736.09243627,  2028.68498729,  1717.28924331,\n",
      "        1753.61364016,  1287.96865884,  1854.74781003,  1666.40548762,\n",
      "        1772.65125925,  2046.64984723,  1551.85241594,  1495.22523802,\n",
      "        1856.67669612,  1679.03499347,  1784.42829523,  1165.74943211,\n",
      "        1335.89073313,  2030.78624698,  1449.63182155,  1797.26083305,\n",
      "        1870.59500025,  1659.29782134,  1336.86171951,  1880.54451749,\n",
      "        1489.69862907,  1687.88816593,  1778.22288543,  2979.13384148,\n",
      "        2219.60290816,  1542.66566184,  1849.72757782,  1354.08709788,\n",
      "        2425.79175125,  1809.26903606,  1917.89524961,  2582.26759531,\n",
      "        1490.52294777,  2259.98591129,  1710.86798463,  1397.69194794,\n",
      "        2126.20256525,  1798.07416528,  1228.0244146 ,  1905.99427739,\n",
      "        1830.89934154,  1971.81605122,  1600.53784614,  1901.06211847,\n",
      "        2401.94992547,  1692.5492925 ,  1536.97089501,  1950.93857886,\n",
      "        1771.6805314 ,  1851.75209132,  1673.21627294,  1599.00456835,\n",
      "        2086.64891509,  2226.90433371,  1726.1777312 ,  1429.99201969,\n",
      "        1908.82334272,  1667.57200967,  1702.6385838 ,  1581.50122461,\n",
      "        2222.89076898,  1961.02175227,  1503.74992144,  1618.93206865,\n",
      "        1935.34352829,  1852.37492737,  1228.83133337,  1986.04026193,\n",
      "        1624.10064149,  2166.02944942,  2215.22786373,  2589.35496902,\n",
      "        1548.29904467,  2263.3811615 ,  1652.95356814,  1480.98945128,\n",
      "        1955.42271738,  1760.44219279,  1383.8748652 ,  1516.14480627,\n",
      "        1757.98039188,  1894.58291006,  1716.44178485,  1461.71367391,\n",
      "        1262.59870108,  1709.54977117,  1450.98949016,  1618.65626898,\n",
      "        2259.0100011 ,  2139.12764895,  2451.27137701,  1287.91714163,\n",
      "        2071.45640174,  1721.90445093,  1257.27131608,  1434.54156191,\n",
      "        2134.77702028,  1698.03396031,  2687.41501611,  1582.43774926,\n",
      "        1421.3214198 ,  2253.2854731 ,  2953.40175672,  1888.40775033,\n",
      "        1402.75303916,  2170.40856114,  1288.41248976,  1792.24535534,\n",
      "        1619.2213481 ,  1165.29208635,  1961.2511168 ,  2576.69992737,\n",
      "        2383.62252091,  1586.27950291,  1288.62594599,  1651.12593724,\n",
      "        1865.91343249,  2632.74903021,  1466.92435296,  1661.76311691,\n",
      "        1614.29350153,  1247.95394424,  1499.80288593,  1818.90200185,\n",
      "        1616.17424872,  1872.49310273,  2029.87896568,  2218.82876974,\n",
      "        1090.56365103,  2131.75165388,  1981.89858884,  2337.28027807,\n",
      "        1708.39361387,  1710.2821638 ,  1891.70007959,  1712.11355999,\n",
      "        1868.93488502,  1246.53354702,  1457.25226147,  2175.55219982,\n",
      "        1940.68228718,  1530.17149549,  1800.3476233 ,  1815.01461078,\n",
      "        1319.9532181 ,  1455.00614774,  1780.135671  ,  2222.69679251,\n",
      "        2310.16023406,  1581.92564572,  1127.96808531,  1446.59031784,\n",
      "        1750.48757584,  1267.12427304,  1365.74965487,  1576.72264069,\n",
      "        2037.00051009,  1741.00179606,  2089.34171006,  1221.35096033,\n",
      "        3007.68112368,  2174.50319163,  1421.38332119,  1471.84749033,\n",
      "        2270.88298121,  2105.95088206,  1222.01742853,  1297.67548758,\n",
      "         996.47853645,  1803.19306973,  1428.9528776 ,  2051.2396076 ,\n",
      "        1500.33635009,  2367.34069654,  1261.72969904,  1631.88117872,\n",
      "        2153.35033111,  1061.44667036,  1278.55436911,  2222.98977316,\n",
      "        1656.56439865,  1138.87174109,  2749.99265946,  1282.23922794,\n",
      "        2089.0355149 ,  2137.17633761,  1340.68909187,  1786.81207285,\n",
      "        1337.70993155,  1427.52148213,  1476.73860896,  1449.50748773,\n",
      "        2170.02782887,  1795.70239075,  2021.10542433,  1895.34146167,\n",
      "        1275.08074997,  1392.34628739,  1668.01708356,  1695.83133968,\n",
      "        1547.01733046,  1779.83853728,  1881.51380317,  1432.97144617,\n",
      "        1083.84896859,  2042.70842077,  1586.96708022,  1724.01518957,\n",
      "        2393.66448239,  2139.16015292,  1919.46022539,  1692.96477627,\n",
      "        1568.84406209,  1170.97478071,  2231.14919726,  1607.58877398,\n",
      "        1976.50408074,  1329.54698861,  1165.24089492,  1719.27936168,\n",
      "        1870.65543025,  2082.54956485,  1767.28140209,  2027.79550976,\n",
      "        1581.95668379,  1576.22729322,  1912.12977045,  1727.14181351,\n",
      "        1906.29896751,  1460.25776999,  1968.33739437,  1479.79013701,\n",
      "        1723.85799538,  1878.84347833,  1823.93810996,  1964.67051034,\n",
      "        1577.16042339,  2027.21205143,  1960.49829546,  1745.82275172,\n",
      "        2273.94379945,  1308.35760164,  2704.607246  ,  1999.26006729,\n",
      "        2060.21937435,  1573.34086242,  2130.9254276 ,  1688.98635608,\n",
      "        1280.25528863,  1552.37643851,  1509.65780429,  1756.43548393,\n",
      "        1680.75004299,  2089.32546131,  1808.86458918,  2221.90486917,\n",
      "        1284.85037995,  1326.08884812,  2104.63675071,  1623.78935009,\n",
      "        1383.69761097,  1662.24233841,  2319.37917338,  2051.823454  ,\n",
      "        1763.78030232,  1062.82273609,  1139.07298837,  2264.87750034,\n",
      "        1651.56673381,  2133.39398325,  1659.35256755,  1453.10988452,\n",
      "        1316.05963324,  1895.11444276,  1655.37104284,  2175.32235811,\n",
      "        1515.22606298,  2757.8617471 ,  1781.83697221,  1502.61395545,\n",
      "        2213.59209845,  1602.10979231,  2546.42552565,  2110.9557598 ,\n",
      "        2046.0810098 ,  1702.66509563,  1934.18421471,  1715.99037373,\n",
      "        1262.6850038 ,  1724.67395604,  1498.5637194 ,  1510.37342723,\n",
      "        1641.14021919,  3077.64927317,  1279.61084888,  1820.26179225,\n",
      "        1792.42239711,  1925.99235023,  1363.1074914 ,  1608.75135895,\n",
      "        2219.79118552,  1933.26759567,  1379.44146001,  2125.13115317,\n",
      "        1735.40373488,  1466.06994584,  1937.00462103,  1517.00077582,\n",
      "        1753.47643184,  1271.33010334,  2087.11467041,  1783.02891271,\n",
      "        1847.1938205 ,  1853.36220511,  1708.66793599,  1628.52849681,\n",
      "        1813.06977372,  1925.78442635,  1582.76486923,  1768.01516728,\n",
      "        1227.24964394,  1285.43945145,  2008.04997476,  1913.79687334,\n",
      "        1716.83565044,  1385.33903232,  1294.80934815,  1692.15155153,\n",
      "        1937.85777001,  1893.67208591,  1873.16586457,  2438.94654087,\n",
      "        1778.47693373,  2283.05938635,  1780.14912259,  2092.53721615,\n",
      "        2022.44759638,  1607.02846195,  2136.85996526,  2228.82487455,\n",
      "        1490.3321924 ,  1231.41771403,  1060.08760193,  2505.80933758,\n",
      "        2174.95580707,  1711.78849927,  2959.46689646,  1878.14831438,\n",
      "        2272.88900263,  2137.5432506 ,  1409.98548167,  2819.0300547 ,\n",
      "        1673.89422018,  1542.50156279,  1653.33924711,  1698.1670182 ,\n",
      "        1668.88503967,  1761.69523583,  1498.27940222,  1349.33674986,\n",
      "        1893.27703749,  1827.21332248,  1126.03308085,  2093.59587377,\n",
      "        1336.20438621,  1600.90097887,  1265.8223054 ,  1685.78861116,\n",
      "        1684.23437005,  1433.34944604,  1545.17620487,  1824.62130741,\n",
      "        1901.70624434,  1577.77314478,  1277.63595909,  2083.278325  ,\n",
      "        2040.30254126,  1060.43430105,  1488.48889656,  1453.48652563,\n",
      "        1144.7684432 ,  1740.4405586 ,  1917.61920168,  2077.70171515,\n",
      "        1359.67055475,  1640.13714215,  1451.73565304,  1360.74353502,\n",
      "        1391.6637903 ,  1365.67859571,  1443.16902443,  2092.09429581,\n",
      "        1462.63779656,  2182.3830016 ,  1584.4420074 ,  1979.1612867 ,\n",
      "        1860.44440846,  1921.84302764,  2155.05430968,  1659.24191012,\n",
      "        1269.24115874,  2060.73424094,  2574.83795033,  2548.06939391,\n",
      "        1226.25746284,  1724.11828114,  1596.88899576,  1844.00553416,\n",
      "        2078.49144423,  1765.99744996,  2264.02407678,  1419.35515037,\n",
      "        1776.88373638,  1628.97284853,  1614.14839518,  1986.83732036,\n",
      "        1437.93798741,  1343.98164477,  1889.81143605,  1394.20297264,\n",
      "        1167.89362759,  1556.88361156,  1770.54756355,  1995.42516744,\n",
      "        1809.01616904,  1315.38453508,  2578.85084327,  1889.25872354,\n",
      "        1306.22177432,  2380.48915491,  1365.85761828,  2149.95563042,\n",
      "        1653.91441811,  1733.2956507 ,  1459.78753131,  1486.84586102,\n",
      "        2003.37293015,  2084.77564708,  2638.89469655,  1585.24054182,\n",
      "        1624.85227054,  1569.23770603,  1360.57351921,  1365.24837917,\n",
      "        3175.51805951,  1710.51581824,  1600.45591997,  1337.66271675,\n",
      "        1474.16344088,  1560.7587983 ,  1830.15966399,  1483.36454525,\n",
      "        1151.40304048,  1852.80650561,  1447.11177489,  2142.37680734,\n",
      "        1876.53387498,  1921.82739841,  1597.32795465,  1807.79066839,\n",
      "        1807.44686878,  1560.47093778,  1655.77326384,  1688.12285863,\n",
      "        1571.04021997,  2481.97460006,  1464.86960377,  1666.86310585,\n",
      "        1749.0044958 ,  1509.74895576,  1676.93305953,  1442.89021285,\n",
      "        1360.04116783,  1715.31858826,  1312.80658248,  1475.06186649,\n",
      "        1344.95992985,  1430.20770055,  1104.8839583 ,  2734.27226154,\n",
      "        1573.66317959,  1277.71758345,  1335.83007779,  1388.9561474 ,\n",
      "        1300.21639275,  2051.70360448,  2030.46555767,  1552.73702999,\n",
      "        1904.32138669,  2086.02641062,  1390.44217529,  1848.11667207,\n",
      "        1948.53071236,  1722.30306049,  1665.22319103,  1839.24052821,\n",
      "        3506.50015831,  2499.587074  ,  2004.30138752,  2593.24765943,\n",
      "        1555.62340477,  3127.05792883,  2078.43826105,  1521.86226946,\n",
      "        1884.20897122,  1985.42702119,  1858.6670123 ,  1489.39470748,\n",
      "        2012.23146471,  1752.293432  ,  1931.76795821,  1207.12045482,\n",
      "        2050.21345444,  1903.98738195,  2017.90770096,  1592.90254654,\n",
      "        1135.37919832,  1751.99801803,  1891.66212847,  1581.44965142,\n",
      "        1758.30413559,  2013.54473369,  2644.57459095,  1501.71620824,\n",
      "        1435.28018764,  1397.56391215,  1507.66198833,  1345.80092816,\n",
      "        2106.59321081,  1457.03221165,  1719.15477915,  1197.31458789,\n",
      "        1830.48941053,  1594.11199994,  1431.08603553,  1621.10001645,\n",
      "        2063.26021581,  3146.42859182,  2578.17393432,  2218.42350389,\n",
      "        1494.07773519,  2429.83431774,  2069.09548515,  1829.38368409,\n",
      "        2160.14143159,  2056.7431172 ,  1578.48562599,  2152.37262937,\n",
      "        2046.87922352,  2214.33113537,  2247.61466536,  1573.46427022,\n",
      "        1297.56212325,  2202.69071816,  3384.09956651,  1787.83456528,\n",
      "        1818.90310555,  1195.18379937,  1894.51793372,  2555.79038553,\n",
      "        2297.52516797,  1447.54704907,  2031.94968376,  1125.15426718,\n",
      "        1592.83454948,  1652.03605506,  1937.06272432,  1579.71531201,\n",
      "        1397.32763121,  1674.12473403]),\n",
      "                'x_centered': True,\n",
      "                'y_centered': True,\n",
      "                'z_centered': False,\n",
      "                'zero_prob_mat': array([[ 0.99572244,  0.98485013,  0.99254771, ...,  0.99378108,\n",
      "         0.99419045,  0.99361356],\n",
      "       [ 0.99273844,  0.97559217,  0.98691162, ...,  0.99060581,\n",
      "         0.9841182 ,  0.9902455 ]])},\n",
      "    'mu0': array([[[ -1.64118041e-04,  -1.12210602e-04],\n",
      "        [ -5.96920525e-04,  -1.24437327e-03],\n",
      "        [ -5.99843214e-04,  -5.59732121e-03],\n",
      "        ..., \n",
      "        [  2.10331814e-04,   8.61079493e-04],\n",
      "        [ -4.23830937e-05,  -2.65736209e-05],\n",
      "        [  2.37591080e-04,   9.72798189e-04]],\n",
      "\n",
      "       [[ -8.63411575e-05,  -5.62505594e-05],\n",
      "        [ -8.53837858e-04,  -1.68961268e-03],\n",
      "        [ -2.82442803e-04,  -3.45164444e-03],\n",
      "        ..., \n",
      "        [  1.55072764e-04,   7.52386415e-04],\n",
      "        [ -1.05764142e-04,  -4.41223875e-05],\n",
      "        [  1.72464721e-04,   8.49325527e-04]],\n",
      "\n",
      "       [[ -9.37291011e-05,  -5.81898225e-05],\n",
      "        [ -6.56417468e-04,  -1.76546294e-03],\n",
      "        [ -1.88863249e-04,  -5.16318369e-03],\n",
      "        ..., \n",
      "        [  1.79781106e-04,   1.33554953e-03],\n",
      "        [ -5.28208365e-05,  -2.70010209e-05],\n",
      "        [  1.95049317e-04,   1.48768159e-03]],\n",
      "\n",
      "       [[ -1.29366474e-04,  -1.36237240e-04],\n",
      "        [ -7.65094246e-04,  -1.22507630e-02],\n",
      "        [ -1.47506534e-04,  -1.73021729e-02],\n",
      "        ..., \n",
      "        [  2.59089652e-04,   1.20771859e-02],\n",
      "        [ -7.81634346e-05,  -1.40048519e-04],\n",
      "        [  2.84773675e-04,   1.44351883e-02]],\n",
      "\n",
      "       [[ -1.02700984e-04,  -6.76079381e-05],\n",
      "        [ -7.63596270e-04,  -1.80447469e-03],\n",
      "        [ -2.38764530e-04,  -4.97850893e-03],\n",
      "        ..., \n",
      "        [  1.38740994e-04,   9.93083964e-04],\n",
      "        [ -6.13492658e-05,  -3.16176392e-05],\n",
      "        [  1.51919549e-04,   1.12230474e-03]]]),\n",
      "    'post_mean_mat': None}\n"
     ]
    }
   ],
   "source": [
    "print(model)"
   ]
  },
  {
   "cell_type": "code",
   "execution_count": null,
   "metadata": {},
   "outputs": [],
   "source": []
  }
 ],
 "metadata": {
  "kernelspec": {
   "display_name": "SoS",
   "language": "sos",
   "name": "sos"
  },
  "language_info": {
   "codemirror_mode": "sos",
   "file_extension": ".sos",
   "mimetype": "text/x-sos",
   "name": "sos",
   "nbconvert_exporter": "sos_notebook.converter.SoS_Exporter",
   "pygments_lexer": "sos"
  },
  "sos": {
   "default_kernel": "SoS",
   "kernels": [
    [
     "Python3",
     "python3",
     "Python3",
     "#FFE771"
    ],
    [
     "R",
     "ir",
     "R",
     "#DCDCDA"
    ],
    [
     "SoS",
     "sos",
     "",
     ""
    ]
   ],
   "panel": {
    "displayed": false,
    "height": 0,
    "style": "side"
   }
  }
 },
 "nbformat": 4,
 "nbformat_minor": 2
}
