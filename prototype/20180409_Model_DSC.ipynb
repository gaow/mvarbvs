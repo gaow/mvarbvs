{
 "cells": [
  {
   "cell_type": "markdown",
   "metadata": {},
   "source": [
    "# Breaking M&M prototyping to using DSC\n",
    "\n",
    "This is an attempt to use DSC in a novel way.\n",
    "\n",
    "Specifically I've got various components of the model written in R and Python. Some part of it is already implemented elsewhere (`mashr` package for some core updates). To debug all intermediate steps it might be interesting to attempt breaking M&M iterations to DSC modules, thus keeping track of all intermediate outputs, comparing versions of implementations etc."
   ]
  },
  {
   "cell_type": "markdown",
   "metadata": {},
   "source": [
    "There are roughly 4 steps in the DSC:\n",
    "\n",
    "1. Generate some data\n",
    "2. Set some initializing parameter\n",
    "3. Run M&M updates -- exploit existing `mashr` functions in R\n",
    "4. Diagnose the run, including but not limited to computing ELBO -- implemented in Python for my own comfort\n",
    "\n",
    "Steps 3 and 4 will iterate. In DSC's terms it is like:\n",
    "\n",
    "```\n",
    "run: set_data * set_params * (fit * diagnose) ^ 5\n",
    "```\n",
    "\n",
    "if we want to do 5 iterations. I implement the benchmark under `src/model_dsc`."
   ]
  },
  {
   "cell_type": "code",
   "execution_count": null,
   "metadata": {},
   "outputs": [],
   "source": []
  }
 ],
 "metadata": {
  "kernelspec": {
   "display_name": "SoS",
   "language": "sos",
   "name": "sos"
  },
  "language_info": {
   "codemirror_mode": "sos",
   "file_extension": ".sos",
   "mimetype": "text/x-sos",
   "name": "sos",
   "nbconvert_exporter": "sos_notebook.converter.SoS_Exporter",
   "pygments_lexer": "sos"
  },
  "sos": {
   "default_kernel": "SoS",
   "kernels": [],
   "panel": {
    "displayed": true,
    "height": 0,
    "style": "side"
   },
   "version": "0.9.12.9"
  }
 },
 "nbformat": 4,
 "nbformat_minor": 2
}
