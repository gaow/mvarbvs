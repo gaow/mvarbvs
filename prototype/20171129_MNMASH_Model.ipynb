{
 "cells": [
  {
   "cell_type": "markdown",
   "metadata": {},
   "source": [
    "# M&M model VEM updates"
   ]
  },
  {
   "cell_type": "code",
   "execution_count": 3,
   "metadata": {
    "kernel": "R"
   },
   "outputs": [],
   "source": [
    "dat = readRDS('/home/gaow/Documents/GTExV8/Thyroid.Lung.FMO2.filled.rds')\n",
    "attach(dat)"
   ]
  },
  {
   "cell_type": "code",
   "execution_count": 4,
   "metadata": {
    "kernel": "Python3"
   },
   "outputs": [
    {
     "name": "stderr",
     "output_type": "stream",
     "text": [
      "Loading required package: feather\n"
     ]
    }
   ],
   "source": [
    "%get X Y --from R"
   ]
  },
  {
   "cell_type": "code",
   "execution_count": 10,
   "metadata": {
    "kernel": "Python3"
   },
   "outputs": [],
   "source": [
    "from libgaow.regression_data import RegressionData\n",
    "import numpy as np"
   ]
  },
  {
   "cell_type": "code",
   "execution_count": 11,
   "metadata": {
    "kernel": "Python3"
   },
   "outputs": [],
   "source": [
    "class MNMASH(RegressionData):\n",
    "    def __init__(self, X=None, Y=None, Z=None, B=None, S=None, V=None):\n",
    "        RegressionData.__init__(self, X, Y, Z, B, S)\n",
    "        self.V = V\n",
    "        self.alpha0 = None\n",
    "        self.mu0 = None\n",
    "        self.elbo = None\n",
    "    \n",
    "    def set_prior(self):\n",
    "        pass\n",
    "\n",
    "    def fit(self, niter=100, L=5, calc_elbo=False):\n",
    "        if self.V is None:\n",
    "            self.V = np.cov(self.Y, rowvar=False)\n",
    "        pass\n",
    "\n",
    "    def _calc_update(self):\n",
    "        pass\n",
    "\n",
    "    def _calc_single_snp(self):\n",
    "        pass\n",
    "\n",
    "    def _calc_elbo(self):\n",
    "        pass"
   ]
  },
  {
   "cell_type": "code",
   "execution_count": 12,
   "metadata": {
    "kernel": "Python3"
   },
   "outputs": [],
   "source": [
    "class ELBOMNM:\n",
    "    def __init__(self, data):\n",
    "        self.data = data"
   ]
  },
  {
   "cell_type": "code",
   "execution_count": 18,
   "metadata": {
    "kernel": "Python3"
   },
   "outputs": [
    {
     "data": {
      "text/plain": [
       "array([[ 0.27297989,  0.01692897],\n",
       "       [ 0.01692897,  0.11091973]])"
      ]
     },
     "execution_count": 18,
     "metadata": {},
     "output_type": "execute_result"
    }
   ],
   "source": [
    "np.cov(Y, rowvar = False)"
   ]
  },
  {
   "cell_type": "code",
   "execution_count": 15,
   "metadata": {},
   "outputs": [
    {
     "name": "stderr",
     "output_type": "stream",
     "text": [
      "NameError at line 1 of \n",
      ">>> Y.shape\n",
      "name 'Y' is not defined\n"
     ]
    }
   ],
   "source": [
    "Y.shape"
   ]
  },
  {
   "cell_type": "code",
   "execution_count": null,
   "metadata": {},
   "outputs": [],
   "source": []
  }
 ],
 "metadata": {
  "kernelspec": {
   "display_name": "SoS",
   "language": "sos",
   "name": "sos"
  },
  "language_info": {
   "codemirror_mode": "sos",
   "file_extension": ".sos",
   "mimetype": "text/x-sos",
   "name": "sos",
   "nbconvert_exporter": "sos_notebook.converter.SoS_Exporter",
   "pygments_lexer": "sos"
  },
  "sos": {
   "default_kernel": "SoS",
   "kernels": [
    [
     "Python3",
     "python3",
     "Python3",
     "#FFE771"
    ],
    [
     "R",
     "ir",
     "R",
     "#DCDCDA"
    ],
    [
     "SoS",
     "sos",
     "",
     ""
    ]
   ],
   "panel": {
    "displayed": true,
    "height": 0,
    "style": "side"
   }
  }
 },
 "nbformat": 4,
 "nbformat_minor": 2
}
