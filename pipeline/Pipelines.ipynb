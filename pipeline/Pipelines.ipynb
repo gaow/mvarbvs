{
 "cells": [
  {
   "cell_type": "markdown",
   "metadata": {},
   "source": [
    "# GTEx pipeline execution interface"
   ]
  },
  {
   "cell_type": "markdown",
   "metadata": {},
   "source": [
    "## Preprocessing\n",
    "See [this page](https://gaow.github.io/mvarbvs/doc/writeup/GTEx7_Analysis_Plan.html#Preprocessing) and [this meeting note](https://gaow.github.io/mvarbvs/doc/writeup/Meetings.html#Project-meeting-20170518) for details. "
   ]
  },
  {
   "cell_type": "code",
   "execution_count": 5,
   "metadata": {
    "kernel": "SoS"
   },
   "outputs": [
    {
     "name": "stdout",
     "output_type": "stream",
     "text": [
      "Workflow saved to prep.sos\n"
     ]
    }
   ],
   "source": [
    "%sossave prep.sos -f -x\n",
    "#!/usr/bin/env sos-runner\n",
    "#fileformat=SOS1.0\n",
    "\n",
    "# Usage:\n",
    "# ./prep.sos download\n",
    "# ./prep.sos \n",
    "\n",
    "%include ResourceManagement as RM\n",
    "%include Misc as MC\n",
    "%include DataWrestling as DW\n",
    "\n",
    "[global]\n",
    "\n",
    "#\n",
    "# Auxiliary steps\n",
    "#\n",
    "\n",
    "[download]\n",
    "# Resource preparation\n",
    "sos_run('RM.plink', workdir = CONFIG['wd'])\n",
    "sos_run('RM.minimac3', workdir = CONFIG['wd'])\n",
    "sos_run('RM.vcftools', workdir = CONFIG['wd'])\n",
    "sos_run('RM.peer', workdir = CONFIG['wd'])\n",
    "sos_run('RM.king', workdir = CONFIG['wd'])\n",
    "\n",
    "\n",
    "#\n",
    "# Workhorse\n",
    "#\n",
    "\n",
    "[data_summary]\n",
    "input: CONFIG['genotype']\n",
    "sos_run(\"MC.genotype_stats\", workdir = CONFIG['wd'])\n",
    "\n",
    "[genotype_preprocessing]\n",
    "input: CONFIG['genotype']\n",
    "sos_run(\"DW.vcf_by_chrom\", workdir = CONFIG['wd'])\n",
    "\n",
    "[rna_preprocessing]\n",
    "input: CONFIG['rna_rpkm'], CONFIG['rna_cnts'], CONFIG['genotype'], CONFIG['sample_attr'] \n",
    "sos_run(\"MC.rnaseq\", workdir =  CONFIG['wd'])\n",
    "\n",
    "[pca_plot_broad]\n",
    "input: '/tmp/GTExPCA.ped'\n",
    "sos_run(\"MC.global_ancestry:2\", workdir = '/tmp')\n",
    "\n",
    "[genotype_pca_broad]\n",
    "parameter: project_name = \"GTEx7.dbGaP\"\n",
    "input: CONFIG['genotype']\n",
    "sos_run(\"DW.vcf_by_chrom+DW.broad_to_plink+MC.LD_pruning+MC.global_ancestry\", \n",
    "        workdir = CONFIG['wd'],\n",
    "        project_name = project_name)\n",
    "\n",
    "[genotype_pca_umich]\n",
    "parameter: project_name = \"GTEx7.Imputed\"\n",
    "input: CONFIG['imputed_genotype']\n",
    "sos_run(\"DW.umich_to_plink+MC.LD_pruning+MC.global_ancestry\", \n",
    "        workdir = CONFIG['wd'],\n",
    "        project_name = project_name)\n",
    "\n",
    "[genotype_pca_umich_filtered]\n",
    "# Filtered imputation data removing imputed sites\n",
    "input: \"{}/GTEx7.Imputed.genotyped.filtered.bed\".format(CONFIG['wd'])\n",
    "sos_run(\"MC.LD_pruning+MC.global_ancestry\", \n",
    "        workdir = CONFIG['wd'])\n",
    "\n",
    "[gene_annotation: provides = \"${CONFIG['rna_cnts']!n}.annotation\"]\n",
    "input: \"${CONFIG['rna_cnts']}\"\n",
    "output: \"${CONFIG['rna_cnts']!n}.annotation\"\n",
    "sos_run(\"MC.ensembl_annotation\", workdir = CONFIG['wd'])\n",
    "\n",
    "[genotype_formatting]\n",
    "parameter: original_variants = \"{}/GTEx7.dbGaP.bed\".format(CONFIG['wd'])\n",
    "parameter: gene_annotation = \"${CONFIG['rna_cnts']!n}.annotation\"\n",
    "depends: original_variants\n",
    "input: \"{}/GTEx7.Imputed.bed\".format(CONFIG['wd'])\n",
    "sos_run(\"DW.variants_filter+DW.plink_to_hdf5_batch\", \n",
    "        workdir = CONFIG['wd'], \n",
    "        include = original_variants,\n",
    "        ann = gene_annotation)"
   ]
  },
  {
   "cell_type": "markdown",
   "metadata": {},
   "source": [
    "### Prepare computational resource"
   ]
  },
  {
   "cell_type": "code",
   "execution_count": null,
   "metadata": {
    "collapsed": true
   },
   "outputs": [],
   "source": [
    "!./prep.sos download -c conf/20170507.conf -b ~/Documents/GTEx/bin -J 8 -j 1"
   ]
  },
  {
   "cell_type": "markdown",
   "metadata": {},
   "source": [
    "### Data summary"
   ]
  },
  {
   "cell_type": "code",
   "execution_count": null,
   "metadata": {
    "collapsed": true
   },
   "outputs": [],
   "source": [
    "!./prep.sos data_summary -c conf/20170507.conf -b ~/Documents/GTEx/bin -J 8 -j 1"
   ]
  },
  {
   "cell_type": "markdown",
   "metadata": {},
   "source": [
    "### Genotype imputation"
   ]
  },
  {
   "cell_type": "code",
   "execution_count": null,
   "metadata": {
    "collapsed": true
   },
   "outputs": [],
   "source": [
    "!./prep.sos genotype_preprocessing -c conf/20170507.conf -b ~/Documents/GTEx/bin -J 8 -j 1"
   ]
  },
  {
   "cell_type": "markdown",
   "metadata": {},
   "source": [
    "The imputation step was done with [Michigan Imputation Server](https://imputationserver.sph.umich.edu) because it uses Haplotype Reference Consortium (32,914 samples) reference panel which is not publicly available otherwise. So the genotype input would be genotype after imputation. [Here is how to prepare data](https://imputationserver.sph.umich.edu/start.html#!pages/help) for this service. The prepared files are uploaded to [Michigan imputation server](https://imputationserver.sph.umich.edu). [Here is configuration](https://gaow.github.io/mvarbvs/img/UMichImputation.png) of imputation job on UMich server, and [here](https://gaow.github.io/mvarbvs/img/UMichImputationResult.pdf) is summary of the outcome."
   ]
  },
  {
   "cell_type": "markdown",
   "metadata": {
    "collapsed": true
   },
   "source": [
    "### RNA-seq preprocessing"
   ]
  },
  {
   "cell_type": "code",
   "execution_count": null,
   "metadata": {
    "collapsed": true
   },
   "outputs": [],
   "source": [
    "!./prep.sos rna_preprocessing -c conf/20170507.conf -b ~/Documents/GTEx/bin -J 8 -j 1"
   ]
  },
  {
   "cell_type": "markdown",
   "metadata": {},
   "source": [
    "### Genotype file converstion and global ancestry analysis\n",
    "`genotype_pca_umich_filtered` has to be executed after both `genotype_pca_umich` and `genotype_pca_broad` are executed."
   ]
  },
  {
   "cell_type": "code",
   "execution_count": null,
   "metadata": {
    "collapsed": true
   },
   "outputs": [],
   "source": [
    "!./prep.sos genotype_pca_umich -c conf/20170507.conf -b ~/Documents/GTEx/bin/ -J 4\n",
    "!./prep.sos genotype_pca_broad -c conf/20170507.conf -b ~/Documents/GTEx/bin/ -J 4\n",
    "!./prep.sos pca_plot_broad\n",
    "!./prep.sos genotype_pca_umich_filtered -c conf/20170507.conf -b ~/Documents/GTEx/bin/ -J 6"
   ]
  },
  {
   "cell_type": "markdown",
   "metadata": {},
   "source": [
    "### Genotype QC, filtering / formatting"
   ]
  },
  {
   "cell_type": "code",
   "execution_count": null,
   "metadata": {
    "collapsed": true
   },
   "outputs": [],
   "source": [
    "!./prep.sos gene_annotation -c conf/20170507.conf -b ~/Documents/GTEx/bin -J 6 -j 1\n",
    "!./prep.sos genotype_formatting -c conf/20170507.conf -b ~/Documents/GTEx/bin -J 6 -j 1"
   ]
  }
 ],
 "metadata": {
  "kernelspec": {
   "display_name": "SoS",
   "language": "sos",
   "name": "sos"
  },
  "language_info": {
   "codemirror_mode": "sos",
   "file_extension": ".sos",
   "mimetype": "text/x-sos",
   "name": "sos",
   "nbconvert_exporter": "sos.jupyter.converter.SoS_Exporter",
   "pygments_lexer": "sos"
  },
  "sos": {
   "celltoolbar": true,
   "kernels": [
    [
     "SoS",
     "sos",
     "",
     ""
    ],
    [
     "Python3",
     "python3",
     "Python3",
     "#EAFAF1"
    ],
    [
     "ir",
     "ir",
     "",
     ""
    ]
   ],
   "panel": {
    "displayed": false,
    "height": 0,
    "style": "side"
   }
  }
 },
 "nbformat": 4,
 "nbformat_minor": 2
}
