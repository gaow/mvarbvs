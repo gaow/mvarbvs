{
 "cells": [
  {
   "cell_type": "markdown",
   "metadata": {},
   "source": [
    "# GTEx pipeline execution interface"
   ]
  },
  {
   "cell_type": "markdown",
   "metadata": {},
   "source": [
    "## Preprocessing"
   ]
  },
  {
   "cell_type": "code",
   "execution_count": 1,
   "metadata": {
    "kernel": "sos"
   },
   "outputs": [
    {
     "name": "stdout",
     "output_type": "stream",
     "text": [
      "Workflow saved to Pipelines.sos\n"
     ]
    }
   ],
   "source": [
    "%sossave prep.sos -f -x\n",
    "#!/usr/bin/env sos-runner\n",
    "#fileformat=SOS1.0\n",
    "\n",
    "# Usage:\n",
    "# ./prep.sos download\n",
    "# ./prep.sos \n",
    "\n",
    "%include ResourceManagement as RM\n",
    "%include Misc as MC\n",
    "%include DataWrestling as DW\n",
    "\n",
    "[global]\n",
    "\n",
    "#\n",
    "# Auxiliary steps\n",
    "#\n",
    "\n",
    "[download]\n",
    "# Resource preparation\n",
    "sos_run('RM.plink', workdir = CONFIG['wd'])\n",
    "sos_run('RM.impute2', workdir = CONFIG['wd'])\n",
    "sos_run('RM.peer', workdir = CONFIG['wd'])\n",
    "sos_run('RM.impute_reference', workdir = CONFIG['wd'])\n",
    "\n",
    "\n"
   ]
  },
  {
   "cell_type": "code",
   "execution_count": null,
   "metadata": {
    "collapsed": true
   },
   "outputs": [],
   "source": []
  }
 ],
 "metadata": {
  "kernelspec": {
   "display_name": "SoS",
   "language": "sos",
   "name": "sos"
  },
  "language_info": {
   "codemirror_mode": "sos",
   "file_extension": ".sos",
   "mimetype": "text/x-sos",
   "name": "sos",
   "nbconvert_exporter": "sos.jupyter.converter.SoS_Exporter",
   "pygments_lexer": "sos"
  },
  "sos": {
   "celltoolbar": true,
   "kernels": [
    [
     "sos",
     "SoS",
     ""
    ],
    [
     "python3",
     "Python3",
     "#EAFAF1"
    ],
    [
     "ir",
     "ir",
     ""
    ]
   ],
   "panel": {
    "displayed": false,
    "height": 0,
    "style": "side"
   }
  }
 },
 "nbformat": 4,
 "nbformat_minor": 2
}
