{
 "cells": [
  {
   "cell_type": "markdown",
   "metadata": {},
   "source": [
    "# m&m ash pipeline execution interface"
   ]
  },
  {
   "cell_type": "markdown",
   "metadata": {},
   "source": [
    "## Preparation & preprocessing GTEx data\n",
    "See [this page](../writeup/GTEx7_Analysis_Plan.html#Preprocessing) and [this meeting note](../writeup/Meetings.html#Project-meeting-20170518) for details. "
   ]
  },
  {
   "cell_type": "markdown",
   "metadata": {},
   "source": [
    "## Simulations\n",
    "Please see [this notebook](../analysis/MR-ASH-Simulation.html) for interactive codes simulating expression data for given genotypes, and this [notebook](../analysis/MR-ASH-Example.html) for a toy analysis. This pipeline is a more formal version of those exploratory analysis."
   ]
  },
  {
   "cell_type": "code",
   "execution_count": 20,
   "metadata": {
    "kernel": "SoS"
   },
   "outputs": [
    {
     "data": {
      "text/html": [
       "<div class=\"sos_hint\">Cell content saved to <a href=\"simulation.sos\" target=\"_blank\">simulation.sos</a></div>"
      ],
      "text/plain": [
       "Cell content saved to simulation.sos\n"
      ]
     },
     "metadata": {},
     "output_type": "display_data"
    }
   ],
   "source": [
    "%save simulation.sos -f -x\n",
    "#!/usr/bin/env sos-runner\n",
    "#fileformat=SOS1.0\n",
    "\n",
    "#%include Misc as MC\n",
    "\n",
    "[phenotype_original_genotype]\n",
    "sos_run('MC.genotype_LD', \n",
    "        genotype_data = CONFIG['genotype'],\n",
    "        workdir = \"${CONFIG['wd']!a}\",\n",
    "        src = \"${CONFIG['src']!a}\")\n",
    "\n",
    "sos_run('MC.simulation',\n",
    "        genotype_data = CONFIG['genotype'],\n",
    "        workdir = \"${CONFIG['wd']!a}\",\n",
    "        src = \"${CONFIG['src']!a}\",\n",
    "        pi0 = CONFIG['pi0'],\n",
    "        shape = CONFIG['shape'],\n",
    "        n_rep = CONFIG['n_rep'])\n",
    "\n",
    "[phenotype_permuted_genotype]\n",
    "sos_run('MC.genotype_LD',\n",
    "        genotype_data = CONFIG['genotype'],\n",
    "        workdir = \"${CONFIG['wd']!a}\",\n",
    "        src = \"${CONFIG['src']!a}\",\n",
    "        permute_genotype = \"True\")\n",
    "\n",
    "sos_run('MC.simulation',\n",
    "        genotype_data = CONFIG['genotype'],\n",
    "        workdir = \"${CONFIG['wd']!a}\",\n",
    "        src = \"${CONFIG['src']!a}\",\n",
    "        permuted_genotype = \"True\",\n",
    "        pi0 = CONFIG['pi0'],\n",
    "        shape = CONFIG['shape'],\n",
    "        n_rep = CONFIG['n_rep'])"
   ]
  },
  {
   "cell_type": "markdown",
   "metadata": {},
   "source": [
    "### Generate phenotype from original genotype\n",
    "\n",
    "One replicate multiple scenarios\n",
    "```bash\n",
    "./simulation.sos phenotype_original_genotype -J 38 -c conf/simulate-20170630.conf\n",
    "./simulation.sos phenotype_permuted_genotype -J 38 -c conf/simulate-20170630.conf\n",
    "```\n",
    "One scenario multiple replicates\n",
    "```bash\n",
    "./simulation.sos phenotype_original_genotype -J 38 -c conf/simulate-20170630-reps.conf\n",
    "./simulation.sos phenotype_permuted_genotype -J 38 -c conf/simulate-20170630-reps.conf\n",
    "```"
   ]
  }
 ],
 "metadata": {
  "kernelspec": {
   "display_name": "SoS",
   "language": "sos",
   "name": "sos"
  },
  "language_info": {
   "codemirror_mode": "sos",
   "file_extension": ".sos",
   "mimetype": "text/x-sos",
   "name": "sos",
   "nbconvert_exporter": "sos.jupyter.converter.SoS_Exporter",
   "pygments_lexer": "sos"
  },
  "sos": {
   "celltoolbar": true,
   "default_kernel": "SoS",
   "kernels": [
    [
     "SoS",
     "sos",
     "",
     ""
    ],
    [
     "Python3",
     "python3",
     "Python3",
     "#FFE771"
    ],
    [
     "R",
     "ir",
     "R",
     "#DCDCDA"
    ]
   ],
   "panel": {
    "displayed": false,
    "height": 0,
    "style": "side"
   }
  }
 },
 "nbformat": 4,
 "nbformat_minor": 2
}
