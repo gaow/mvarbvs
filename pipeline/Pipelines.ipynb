{
 "cells": [
  {
   "cell_type": "markdown",
   "metadata": {},
   "source": [
    "# m&m ash pipeline execution interface"
   ]
  },
  {
   "cell_type": "markdown",
   "metadata": {},
   "source": [
    "## Preparation & preprocessing GTEx data\n",
    "See [this page](../writeup/GTEx7_Analysis_Plan.html#Preprocessing) and [this meeting note](../writeup/Meetings.html#Project-meeting-20170518) for details. "
   ]
  },
  {
   "cell_type": "code",
   "execution_count": 2,
   "metadata": {
    "kernel": "SoS"
   },
   "outputs": [
    {
     "data": {
      "text/html": [
       "<div class=\"sos_hint\">Cell content saved to <a href=\"prep.sos\" target=\"_blank\">prep.sos</a></div>"
      ],
      "text/plain": [
       "Cell content saved to prep.sos\n"
      ]
     },
     "metadata": {},
     "output_type": "display_data"
    }
   ],
   "source": [
    "%save prep.sos -f -x\n",
    "\n",
    "\n",
    "[gene_annotation: provides = \"${CONFIG['rna_cnts']!n}.annotation\"]\n",
    "input: \"${CONFIG['rna_cnts']}\"\n",
    "output: \"${CONFIG['rna_cnts']!n}.annotation\"\n",
    "sos_run(\"MC.ensembl_annotation\", workdir = CONFIG['wd'])\n",
    "\n",
    "[genotype_formatting]\n",
    "parameter: original_variants = \"{}/GTEx7.dbGaP.bed\".format(CONFIG['wd'])\n",
    "parameter: gene_annotation = \"${CONFIG['rna_cnts']!n}.annotation\"\n",
    "depends: original_variants\n",
    "input: \"{}/GTEx7.Imputed.bed\".format(CONFIG['wd'])\n",
    "sos_run(\"DW.variants_filter+DW.plink_to_hdf5_batch\", \n",
    "        workdir = CONFIG['wd'], \n",
    "        include = original_variants,\n",
    "        ann = gene_annotation)\n",
    "\n",
    "[covariate_preparation]\n",
    "# Covariates are: sex, platform, 3 PC and PEER factors\n",
    "parameter: peer_factors = glob.glob(\"{}/*_PEER_covariates.txt\".format(\"${CONFIG['wd']!a}\"))\n",
    "parameter: pc_file = \"{}/GTEx7.Imputed.prune.pc.ped\".format(CONFIG['wd'])\n",
    "parameter: attr_file = CONFIG['sample_attr']\n",
    "parameter: covar_file = CONFIG['phenotype']\n",
    "parameter: expression_file = CONFIG['expression_db']\n",
    "sos_run(\"DW.recode_platform + DW.covariates_to_HDF5\",\n",
    "        workdir = CONFIG['wd'],\n",
    "        peer_factors = peer_factors,\n",
    "        pc_file = pc_file,\n",
    "        attr_file = attr_file,\n",
    "        covar_file = covar_file,\n",
    "        output_file = \"{}/GTEx7.Imputed.covariates.h5\".format(CONFIG['wd']))\n",
    "\n",
    "[make_toy]\n",
    "# Create a toy example\n",
    "sos_run(\"DW.subset_HDF5_data\",\n",
    "        workdir = CONFIG['wd'],\n",
    "        ann_file = \"${CONFIG['rna_cnts']!n}.annotation\",\n",
    "        geno_file = \"{}/GTEx7.Imputed.genotyped.filtered.cis.h5\".format(CONFIG['wd']),\n",
    "        expr_file = \"{}/${CONFIG['rna_rpkm']!bnn}.qnorm.std.h5\".format(CONFIG['wd']),\n",
    "        toy_file = CONFIG['toy_prefix'],\n",
    "        gene_list = CONFIG['toy_gene_list'])"
   ]
  },
  {
   "cell_type": "code",
   "execution_count": null,
   "metadata": {
    "collapsed": true
   },
   "outputs": [],
   "source": [
    "!./prep.sos gene_annotation -c conf/20170507.conf -b ~/Documents/GTEx/bin -J 6 -j 1\n",
    "!./prep.sos genotype_formatting -c conf/20170507.conf -b ~/Documents/GTEx/bin -J 6 -j 1\n",
    "!./prep.sos genotype_pca_umich_filtered -c conf/20170507.conf -b ~/Documents/GTEx/bin/ -J 6"
   ]
  },
  {
   "cell_type": "markdown",
   "metadata": {},
   "source": [
    "### Variants annotation, cis-SNP selection and genotype formatting\n",
    "Genes are annotated to chromosomal positions, and annotate variants to genes. Then for each gene, variants are selected 2MB of a gene's TSS. It results a **single analysis ready file** in HDF5 format containing ~50K groups of genotype data (gene-names)."
   ]
  },
  {
   "cell_type": "code",
   "execution_count": null,
   "metadata": {
    "collapsed": true
   },
   "outputs": [],
   "source": [
    "!./prep.sos gene_annotation -c conf/20170507.conf -b ~/Documents/GTEx/bin -J 6 -j 1\n",
    "!./prep.sos genotype_formatting -c conf/20170507.conf -b ~/Documents/GTEx/bin -J 6 -j 1"
   ]
  },
  {
   "cell_type": "markdown",
   "metadata": {
    "collapsed": true
   },
   "source": [
    "### Merge covariates info\n",
    "Covariates for analysis we've got so far include sample phenotypes (sex), sample attributes (genotyping platform), first principle components for population structure, and PEER factors. All saved in various files.\n",
    "\n",
    "This workflow consolidates these files and generates a **single analysis ready covariate file** in HDF5 format."
   ]
  },
  {
   "cell_type": "code",
   "execution_count": null,
   "metadata": {
    "collapsed": true
   },
   "outputs": [],
   "source": [
    "!./prep.sos covariate_preparation -c conf/20170507.conf -b ~/Documents/GTEx/bin/ "
   ]
  },
  {
   "cell_type": "markdown",
   "metadata": {},
   "source": [
    "### Generate a toy data-set\n",
    "Finally, a toy data-set is created from the data bundle. This toy can be used for methods / pipeline development. Genes selected for the toy are the same as the [LD show-case in the mash paper](https://stephenslab.github.io/gtexresults_mash/TwoSNP/2SNP.sos) (although the workflow itself takes an arbitary list of genes). See [this table](https://stephenslab.github.io/gtexresults_mash/TwoSNP/) for motivation that these genes get selected."
   ]
  },
  {
   "cell_type": "code",
   "execution_count": null,
   "metadata": {
    "collapsed": true
   },
   "outputs": [],
   "source": [
    "!./prep.sos make_toy -c conf/20170507.conf -b ~/Documents/GTEx/bin -J 6 -j 1"
   ]
  },
  {
   "cell_type": "markdown",
   "metadata": {},
   "source": [
    "## Simulations\n",
    "Please see [this notebook](../analysis/MR-ASH-Simulation.html) for interactive codes simulating expression data for given genotypes, and this [notebook](../analysis/MR-ASH-Example.html) for a toy analysis. This pipeline is a more formal version of those exploratory analysis."
   ]
  },
  {
   "cell_type": "code",
   "execution_count": 20,
   "metadata": {
    "kernel": "SoS"
   },
   "outputs": [
    {
     "data": {
      "text/html": [
       "<div class=\"sos_hint\">Cell content saved to <a href=\"simulation.sos\" target=\"_blank\">simulation.sos</a></div>"
      ],
      "text/plain": [
       "Cell content saved to simulation.sos\n"
      ]
     },
     "metadata": {},
     "output_type": "display_data"
    }
   ],
   "source": [
    "%save simulation.sos -f -x\n",
    "#!/usr/bin/env sos-runner\n",
    "#fileformat=SOS1.0\n",
    "\n",
    "#%include Misc as MC\n",
    "\n",
    "[phenotype_original_genotype]\n",
    "sos_run('MC.genotype_LD', \n",
    "        genotype_data = CONFIG['genotype'],\n",
    "        workdir = \"${CONFIG['wd']!a}\",\n",
    "        src = \"${CONFIG['src']!a}\")\n",
    "\n",
    "sos_run('MC.simulation',\n",
    "        genotype_data = CONFIG['genotype'],\n",
    "        workdir = \"${CONFIG['wd']!a}\",\n",
    "        src = \"${CONFIG['src']!a}\",\n",
    "        pi0 = CONFIG['pi0'],\n",
    "        shape = CONFIG['shape'],\n",
    "        n_rep = CONFIG['n_rep'])\n",
    "\n",
    "[phenotype_permuted_genotype]\n",
    "sos_run('MC.genotype_LD',\n",
    "        genotype_data = CONFIG['genotype'],\n",
    "        workdir = \"${CONFIG['wd']!a}\",\n",
    "        src = \"${CONFIG['src']!a}\",\n",
    "        permute_genotype = \"True\")\n",
    "\n",
    "sos_run('MC.simulation',\n",
    "        genotype_data = CONFIG['genotype'],\n",
    "        workdir = \"${CONFIG['wd']!a}\",\n",
    "        src = \"${CONFIG['src']!a}\",\n",
    "        permuted_genotype = \"True\",\n",
    "        pi0 = CONFIG['pi0'],\n",
    "        shape = CONFIG['shape'],\n",
    "        n_rep = CONFIG['n_rep'])"
   ]
  },
  {
   "cell_type": "markdown",
   "metadata": {},
   "source": [
    "### Generate phenotype from original genotype\n",
    "\n",
    "One replicate multiple scenarios\n",
    "```bash\n",
    "./simulation.sos phenotype_original_genotype -J 38 -c conf/simulate-20170630.conf\n",
    "./simulation.sos phenotype_permuted_genotype -J 38 -c conf/simulate-20170630.conf\n",
    "```\n",
    "One scenario multiple replicates\n",
    "```bash\n",
    "./simulation.sos phenotype_original_genotype -J 38 -c conf/simulate-20170630-reps.conf\n",
    "./simulation.sos phenotype_permuted_genotype -J 38 -c conf/simulate-20170630-reps.conf\n",
    "```"
   ]
  },
  {
   "cell_type": "markdown",
   "metadata": {},
   "source": [
    "## Univariate eQTL analysis\n",
    "### Single SNP\n",
    "A [fastEQTL](http://www.bios.unc.edu/research/genomic_software/Matrix_eQTL/) based pipeline."
   ]
  },
  {
   "cell_type": "markdown",
   "metadata": {},
   "source": [
    "### Multi-SNP"
   ]
  },
  {
   "cell_type": "code",
   "execution_count": null,
   "metadata": {
    "collapsed": true
   },
   "outputs": [],
   "source": [
    "[mr_ash]\n",
    "parameter: cwd = \"./\"\n",
    "parameter: genotype_file = ''\n",
    "parameter: expr_file = ''\n",
    "parameter: covar_file = ''\n",
    "parameter: genes = []\n",
    "parameter: tissues = []\n",
    "depends: R_library('rhdf5'), R_library('tools')\n",
    "input: for_each = ['genes', 'tissues']\n",
    "output: \"${cwd!a}/${_tissues}_${_genes!b}.rds\"\n",
    "task:\n",
    "R:\n",
    "load_data = function(genotype_file, expr_file, cov_file, geno_table, expr_table,cov_table) {\n",
    "  geno = h5read(genotype_file, geno_table)\n",
    "  gdata = geno$block0_values\n",
    "  colnames(gdata) = geno$axis1\n",
    "  rownames(gdata) = geno$axis0\n",
    "  \n",
    "  expr = h5read(expr_file, expr_table)\n",
    "  edata = expr$block0_values\n",
    "  # colnames(edata) = expr$axis1\n",
    "  colnames(edata) = tools::file_path_sans_ext(expr$axis1)\n",
    "  # rownames(edata) = expr$axis0\n",
    "  rownames(edata) = apply(sapply(strsplit(expr$axis0,\"-\"), `[`, c(1,2)), 2, function(x) paste(x, collapse = '-'))\n",
    "  \n",
    "  index = which(duplicated(row.names(edata)))\n",
    "  edata = edata[-index,]\n",
    "  # edata = data.frame(edata)\n",
    "  covariate <- h5read(cov_file, cov_table)\n",
    "  cdata = covariate$block0_values\n",
    "  colnames(cdata) = apply(sapply(strsplit(covariate$axis1,\"-\"), `[`, c(1,2)), 2, function(x) paste(x, collapse = '-'))\n",
    "  # rownames(edata) = expr$axis0\n",
    "  rownames(cdata) = covariate$axis0 \n",
    "  cdata = t(cdata)[-index,]\n",
    "  gdata = data.frame(gdata)\n",
    "  # I want to use merge but later\n",
    "  # index_overlap = which(row.names(gdata) %in% row.names(edata))\n",
    "  edata = edata[, basename(geno_table)]\n",
    "  edata = data.frame(edata)\n",
    "  edata$ID = rownames(edata)\n",
    "  gdata$ID = rownames(gdata)\n",
    "  output = merge(x = edata, y = gdata, by = \"ID\", all.x = TRUE)\n",
    "  # gdata = gdata[index_overlap,]\n",
    "  return(list(X=as.matrix(output[,-c(1,2)]), y = as.vector(output$edata), Z = as.matrix(cdata)))\n",
    "}\n",
    "\n",
    "autoselect.mixsd = function(betahat,sebetahat,mult = sqrt(2)){\n",
    "  sebetahat=sebetahat[sebetahat!=0] #To avoid exact measure causing (usually by mistake)\n",
    "  sigmaamin = min(sebetahat)/10 #so that the minimum is small compared with measurement precision\n",
    "  if(all(betahat^2<=sebetahat^2)){\n",
    "    sigmaamax = 8*sigmaamin #to deal with the occassional odd case where this could happen; 8 is arbitrary\n",
    "  }else{\n",
    "    sigmaamax = 2*sqrt(max(betahat^2-sebetahat^2)) #this computes a rough largest value you'd want to use, based on idea that sigmaamax^2 + sebetahat^2 should be at least betahat^2   \n",
    "  }\n",
    "  if(mult==0){\n",
    "    return(c(0,sigmaamax/2))\n",
    "  }else{\n",
    "    npoint = ceiling(log2(sigmaamax/sigmaamin)/log2(mult))\n",
    "    return(mult^((-npoint):0) * sigmaamax)\n",
    "  }\n",
    "}\n",
    "\n",
    "initial_step = function(X,y,Z = NULL){\n",
    "  P = dim(X)[2]\n",
    "  output = matrix(0,nrow = P,ncol = 2)\n",
    "  for(i in 1:P){\n",
    "    if(is.null(Z)){\n",
    "      g = summary(lm(y~X[,i]))\n",
    "    } else{\n",
    "      g = summary(lm(y~X[,i]+Z))\n",
    "    }\n",
    "    \n",
    "    output[i,] = g$coefficients[2,1:2]\n",
    "  }\n",
    "  return(list(betahat = output[,1],sebetahat = output[,2]))\n",
    "}\n",
    "                                                                  \n",
    "analyze = function(genename = '/chr4/ENSG00000145214', tissue = '/Lung', out = 'test.rds'){\n",
    "  library(rhdf5)\n",
    "  genotype_file = ${genotype_file!ar}\n",
    "  expr_file = ${expr_file!ar}\n",
    "  geno_table = genename\n",
    "  expr_table = tissue \n",
    "  gene = basename(geno_table)\n",
    "  cov_file = ${covar_file!ar}\n",
    "  cov_table = expr_table\n",
    "  dat = load_data(genotype_file = genotype_file,\n",
    "                  expr_file = expr_file,\n",
    "                  cov_file = cov_file,\n",
    "                  geno_table = geno_table,\n",
    "                  expr_table = expr_table,\n",
    "                  cov_table = cov_table)\n",
    "  X = as.matrix(dat$X)\n",
    "  X = X[,which(colSums(X)!=0)]\n",
    "  if ((nrow(X) == 0) || (ncol(X) == 0)) {\n",
    "  \tsaveRDS(list(), out)\n",
    "  } else {\n",
    "  storage.mode(X) <- \"double\"\n",
    "  y = as.vector(dat$y)\n",
    "  Z = as.matrix(dat$Z)\n",
    "  initial = initial_step(X,y,Z)\n",
    "  mixsd = autoselect.mixsd(initial$betahat,initial$sebetahat)\n",
    "  logdata = capture.output({res = varbvs::varbvsmix(X, Z, y, sa = c(0,mixsd^2)) })\n",
    "  betahat = rowSums(res$alpha * res$mu)\n",
    "  names(betahat) = colnames(X)\n",
    "  mrash_out = list(betahat = betahat, lfsr = res$lfsr)\n",
    "  ash_out = ashr::ash(initial$betahat,initial$sebetahat,mixcompdist = \"normal\")\n",
    "  saveRDS(list(ash = ash_out, uni = initial, mr_ash = mrash_out, logdata = logdata), out)\n",
    "}\n",
    "}\n",
    "\n",
    "analyze(genename = \"/${_genes}\", tissue = \"/${_tissues}\", out = ${_output!r})"
   ]
  }
 ],
 "metadata": {
  "kernelspec": {
   "display_name": "SoS",
   "language": "sos",
   "name": "sos"
  },
  "language_info": {
   "codemirror_mode": "sos",
   "file_extension": ".sos",
   "mimetype": "text/x-sos",
   "name": "sos",
   "nbconvert_exporter": "sos.jupyter.converter.SoS_Exporter",
   "pygments_lexer": "sos"
  },
  "sos": {
   "celltoolbar": true,
   "default_kernel": "SoS",
   "kernels": [
    [
     "SoS",
     "sos",
     "",
     ""
    ],
    [
     "Python3",
     "python3",
     "Python3",
     "#FFE771"
    ],
    [
     "R",
     "ir",
     "R",
     "#DCDCDA"
    ]
   ],
   "panel": {
    "displayed": true,
    "height": 0,
    "style": "side"
   }
  }
 },
 "nbformat": 4,
 "nbformat_minor": 2
}
