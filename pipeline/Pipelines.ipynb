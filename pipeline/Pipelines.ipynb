{
 "cells": [
  {
   "cell_type": "markdown",
   "metadata": {},
   "source": [
    "# m&m ash pipeline execution interface"
   ]
  },
  {
   "cell_type": "markdown",
   "metadata": {},
   "source": [
    "## Preparation & preprocessing GTEx data\n",
    "See [this page](https://gaow.github.io/mvarbvs/doc/writeup/GTEx7_Analysis_Plan.html#Preprocessing) and [this meeting note](https://gaow.github.io/mvarbvs/doc/writeup/Meetings.html#Project-meeting-20170518) for details. "
   ]
  },
  {
   "cell_type": "code",
   "execution_count": 2,
   "metadata": {
    "kernel": "SoS"
   },
   "outputs": [
    {
     "data": {
      "text/html": [
       "<div class=\"sos_hint\">Cell content saved to <a href=\"prep.sos\" target=\"_blank\">prep.sos</a></div>"
      ],
      "text/plain": [
       "Cell content saved to prep.sos\n"
      ]
     },
     "metadata": {},
     "output_type": "display_data"
    }
   ],
   "source": [
    "%save prep.sos -f -x\n",
    "#!/usr/bin/env sos-runner\n",
    "#fileformat=SOS1.0\n",
    "\n",
    "# Usage:\n",
    "# ./prep.sos download\n",
    "# ./prep.sos \n",
    "\n",
    "%include ResourceManagement as RM\n",
    "%include Misc as MC\n",
    "%include DataWrestling as DW\n",
    "\n",
    "[global]\n",
    "\n",
    "#\n",
    "# Auxiliary steps\n",
    "#\n",
    "\n",
    "[download]\n",
    "# Resource preparation\n",
    "sos_run('RM.plink', workdir = CONFIG['wd'])\n",
    "sos_run('RM.minimac3', workdir = CONFIG['wd'])\n",
    "sos_run('RM.vcftools', workdir = CONFIG['wd'])\n",
    "sos_run('RM.peer', workdir = CONFIG['wd'])\n",
    "sos_run('RM.king', workdir = CONFIG['wd'])\n",
    "\n",
    "\n",
    "#\n",
    "# Workhorse\n",
    "#\n",
    "\n",
    "[data_summary]\n",
    "input: CONFIG['genotype']\n",
    "sos_run(\"MC.genotype_stats\", workdir = CONFIG['wd'])\n",
    "\n",
    "[genotype_preprocessing]\n",
    "input: CONFIG['genotype']\n",
    "sos_run(\"DW.vcf_by_chrom\", workdir = CONFIG['wd'])\n",
    "\n",
    "[rna_preprocessing]\n",
    "input: CONFIG['rna_rpkm'], CONFIG['rna_cnts'], CONFIG['genotype'], CONFIG['sample_attr'] \n",
    "sos_run(\"MC.rnaseq\", workdir =  CONFIG['wd'])\n",
    "\n",
    "[pca_plot_broad]\n",
    "input: '/tmp/GTExPCA.ped'\n",
    "sos_run(\"MC.global_ancestry:2\", workdir = '/tmp')\n",
    "\n",
    "[genotype_pca_broad]\n",
    "parameter: project_name = \"GTEx7.dbGaP\"\n",
    "input: CONFIG['genotype']\n",
    "sos_run(\"DW.vcf_by_chrom+DW.broad_to_plink+MC.LD_pruning+MC.global_ancestry\", \n",
    "        workdir = CONFIG['wd'],\n",
    "        project_name = project_name)\n",
    "\n",
    "[genotype_pca_umich]\n",
    "parameter: project_name = \"GTEx7.Imputed\"\n",
    "input: CONFIG['imputed_genotype']\n",
    "sos_run(\"DW.umich_to_plink+MC.LD_pruning+MC.global_ancestry\", \n",
    "        workdir = CONFIG['wd'],\n",
    "        project_name = project_name)\n",
    "\n",
    "[genotype_pca_umich_filtered]\n",
    "# Filtered imputation data removing imputed sites\n",
    "input: \"{}/GTEx7.Imputed.genotyped.filtered.bed\".format(CONFIG['wd'])\n",
    "sos_run(\"MC.LD_pruning+MC.global_ancestry\", \n",
    "        workdir = CONFIG['wd'])\n",
    "\n",
    "[gene_annotation: provides = \"${CONFIG['rna_cnts']!n}.annotation\"]\n",
    "input: \"${CONFIG['rna_cnts']}\"\n",
    "output: \"${CONFIG['rna_cnts']!n}.annotation\"\n",
    "sos_run(\"MC.ensembl_annotation\", workdir = CONFIG['wd'])\n",
    "\n",
    "[genotype_formatting]\n",
    "parameter: original_variants = \"{}/GTEx7.dbGaP.bed\".format(CONFIG['wd'])\n",
    "parameter: gene_annotation = \"${CONFIG['rna_cnts']!n}.annotation\"\n",
    "depends: original_variants\n",
    "input: \"{}/GTEx7.Imputed.bed\".format(CONFIG['wd'])\n",
    "sos_run(\"DW.variants_filter+DW.plink_to_hdf5_batch\", \n",
    "        workdir = CONFIG['wd'], \n",
    "        include = original_variants,\n",
    "        ann = gene_annotation)\n",
    "\n",
    "[covariate_preparation]\n",
    "# Covariates are: sex, platform, 3 PC and PEER factors\n",
    "parameter: peer_factors = glob.glob(\"{}/*_PEER_covariates.txt\".format(\"${CONFIG['wd']!a}\"))\n",
    "parameter: pc_file = \"{}/GTEx7.Imputed.prune.pc.ped\".format(CONFIG['wd'])\n",
    "parameter: attr_file = CONFIG['sample_attr']\n",
    "parameter: covar_file = CONFIG['phenotype']\n",
    "parameter: expression_file = CONFIG['expression_db']\n",
    "sos_run(\"DW.recode_platform + DW.covariates_to_HDF5\",\n",
    "        workdir = CONFIG['wd'],\n",
    "        peer_factors = peer_factors,\n",
    "        pc_file = pc_file,\n",
    "        attr_file = attr_file,\n",
    "        covar_file = covar_file,\n",
    "        output_file = \"{}/GTEx7.Imputed.covariates.h5\".format(CONFIG['wd']))\n",
    "\n",
    "[make_toy]\n",
    "# Create a toy example\n",
    "sos_run(\"DW.subset_HDF5_data\",\n",
    "        workdir = CONFIG['wd'],\n",
    "        ann_file = \"${CONFIG['rna_cnts']!n}.annotation\",\n",
    "        geno_file = \"{}/GTEx7.Imputed.genotyped.filtered.cis.h5\".format(CONFIG['wd']),\n",
    "        expr_file = \"{}/${CONFIG['rna_rpkm']!bnn}.qnorm.std.h5\".format(CONFIG['wd']),\n",
    "        toy_file = CONFIG['toy_prefix'],\n",
    "        gene_list = CONFIG['toy_gene_list'])"
   ]
  },
  {
   "cell_type": "markdown",
   "metadata": {},
   "source": [
    "### Prepare computational resource\n",
    "This will download / install (most) software necessary for the analysis pipeline"
   ]
  },
  {
   "cell_type": "code",
   "execution_count": null,
   "metadata": {
    "collapsed": true
   },
   "outputs": [],
   "source": [
    "!./prep.sos download -c conf/20170507.conf -b ~/Documents/GTEx/bin -J 8 -j 1"
   ]
  },
  {
   "cell_type": "markdown",
   "metadata": {},
   "source": [
    "### Data summary\n",
    "Summary statistics on data, such as missingness statistics on genotypes. It also includes various diagnostic plots. More features will be added to this workflow as analysis develops."
   ]
  },
  {
   "cell_type": "code",
   "execution_count": null,
   "metadata": {
    "collapsed": true
   },
   "outputs": [],
   "source": [
    "!./prep.sos data_summary -c conf/20170507.conf -b ~/Documents/GTEx/bin -J 8 -j 1"
   ]
  },
  {
   "cell_type": "markdown",
   "metadata": {},
   "source": [
    "### Genotype imputation"
   ]
  },
  {
   "cell_type": "code",
   "execution_count": null,
   "metadata": {
    "collapsed": true
   },
   "outputs": [],
   "source": [
    "!./prep.sos genotype_preprocessing -c conf/20170507.conf -b ~/Documents/GTEx/bin -J 8 -j 1"
   ]
  },
  {
   "cell_type": "markdown",
   "metadata": {},
   "source": [
    "The imputation step was done with [Michigan Imputation Server](https://imputationserver.sph.umich.edu) because it uses Haplotype Reference Consortium (32,914 samples) reference panel which is not publicly available otherwise. [Here is how to prepare data](https://imputationserver.sph.umich.edu/start.html#!pages/help) for this service. The prepared files are uploaded to [Michigan imputation server](https://imputationserver.sph.umich.edu). [Here is configuration](https://gaow.github.io/mvarbvs/img/UMichImputation.png) of imputation job on UMich server, and [here](https://gaow.github.io/mvarbvs/img/UMichImputationResult.pdf) is summary of the outcome."
   ]
  },
  {
   "cell_type": "markdown",
   "metadata": {
    "collapsed": true
   },
   "source": [
    "### RNA-seq preprocessing\n",
    "This workflow includes data normalization and PEER factor analysis. It results in 4 **analysis ready expression data files** in HDF5 format of different versions / organizations of the same information: emperical quantile normalized and standard normal quantile normalized, saved as a flat file or grouped by tissues. This is so far the most computational intensive step"
   ]
  },
  {
   "cell_type": "code",
   "execution_count": null,
   "metadata": {
    "collapsed": true
   },
   "outputs": [],
   "source": [
    "!./prep.sos rna_preprocessing -c conf/20170507.conf -b ~/Documents/GTEx/bin -J 38 -j 1"
   ]
  },
  {
   "cell_type": "markdown",
   "metadata": {},
   "source": [
    "### Genotype filtering and formatting, followed by global ancestry analysis \n",
    "`genotype_pca_umich_filtered` has to be executed after both `genotype_pca_umich` and `genotype_pca_broad` are executed.\n",
    "\n",
    "Genotypes are converted to PLINK binary format. During the conversion, imputed sites are removed and variant ID for tri-allelic sites are fixed. Also both the original and imputed data are converted for PCA analysis. The [results are compared](https://github.com/gaow/mvarbvs/issues/15#issuecomment-303814249). "
   ]
  },
  {
   "cell_type": "code",
   "execution_count": null,
   "metadata": {
    "collapsed": true
   },
   "outputs": [],
   "source": [
    "!./prep.sos genotype_pca_umich -c conf/20170507.conf -b ~/Documents/GTEx/bin/ -J 4\n",
    "!./prep.sos genotype_pca_broad -c conf/20170507.conf -b ~/Documents/GTEx/bin/ -J 4\n",
    "!./prep.sos pca_plot_broad\n",
    "!./prep.sos gene_annotation -c conf/20170507.conf -b ~/Documents/GTEx/bin -J 6 -j 1\n",
    "!./prep.sos genotype_formatting -c conf/20170507.conf -b ~/Documents/GTEx/bin -J 6 -j 1\n",
    "!./prep.sos genotype_pca_umich_filtered -c conf/20170507.conf -b ~/Documents/GTEx/bin/ -J 6"
   ]
  },
  {
   "cell_type": "markdown",
   "metadata": {},
   "source": [
    "### Variants annotation, cis-SNP selection and genotype formatting\n",
    "Genes are annotated to chromosomal positions, and annotate variants to genes. Then for each gene, variants are selected 2MB of a gene's TSS. It results a **single analysis ready file** in HDF5 format containing ~50K groups of genotype data (gene-names)."
   ]
  },
  {
   "cell_type": "code",
   "execution_count": null,
   "metadata": {
    "collapsed": true
   },
   "outputs": [],
   "source": [
    "!./prep.sos gene_annotation -c conf/20170507.conf -b ~/Documents/GTEx/bin -J 6 -j 1\n",
    "!./prep.sos genotype_formatting -c conf/20170507.conf -b ~/Documents/GTEx/bin -J 6 -j 1"
   ]
  },
  {
   "cell_type": "markdown",
   "metadata": {
    "collapsed": true
   },
   "source": [
    "### Merge covariates info\n",
    "Covariates for analysis we've got so far include sample phenotypes (sex), sample attributes (genotyping platform), first principle components for population structure, and PEER factors. All saved in various files.\n",
    "\n",
    "This workflow consolidates these files and generates a **single analysis ready covariate file** in HDF5 format."
   ]
  },
  {
   "cell_type": "code",
   "execution_count": null,
   "metadata": {
    "collapsed": true
   },
   "outputs": [],
   "source": [
    "!./prep.sos covariate_preparation -c conf/20170507.conf -b ~/Documents/GTEx/bin/ "
   ]
  },
  {
   "cell_type": "markdown",
   "metadata": {},
   "source": [
    "### Generate a toy data-set\n",
    "Finally, a toy data-set is created from the data bundle. This toy can be used for methods / pipeline development. Genes selected for the toy are the same as the [LD show-case in the mash paper](https://stephenslab.github.io/gtexresults_mash/TwoSNP/2SNP.sos) (although the workflow itself takes an arbitary list of genes). See [this table](https://stephenslab.github.io/gtexresults_mash/TwoSNP/) for motivation that these genes get selected."
   ]
  },
  {
   "cell_type": "code",
   "execution_count": null,
   "metadata": {
    "collapsed": true
   },
   "outputs": [],
   "source": [
    "!./prep.sos make_toy -c conf/20170507.conf -b ~/Documents/GTEx/bin -J 6 -j 1"
   ]
  },
  {
   "cell_type": "markdown",
   "metadata": {},
   "source": [
    "## Simulations\n",
    "Please see [this notebook](../documentation/MR-ASH-Simulation.html) for interactive codes simulating expression data for given genotypes, and this [notebook](../documentation/MR-ASH-Example.html) for a toy analysis. This pipeline is a more formal version of those exploratory analysis."
   ]
  },
  {
   "cell_type": "code",
   "execution_count": 10,
   "metadata": {
    "kernel": "SoS"
   },
   "outputs": [
    {
     "data": {
      "text/html": [
       "<div class=\"sos_hint\">Cell content saved to <a href=\"simulation.sos\" target=\"_blank\">simulation.sos</a></div>"
      ],
      "text/plain": [
       "Cell content saved to simulation.sos\n"
      ]
     },
     "metadata": {},
     "output_type": "display_data"
    }
   ],
   "source": [
    "%save simulation.sos -f -x\n",
    "#!/usr/bin/env sos-runner\n",
    "#fileformat=SOS1.0\n",
    "\n",
    "%include Misc as MC\n",
    "\n",
    "[phenotype_original_genotype]\n",
    "sos_run('MC.genotype_LD', \n",
    "        genotype_data = \"${CONFIG['genotype']!a}\",\n",
    "        workdir = \"${CONFIG['wd']!a}\",\n",
    "        src = \"${CONFIG['src']!a}\")\n",
    "\n",
    "sos_run('MC.phenotype_simulator',\n",
    "        genotype_data = \"${CONFIG['genotype']!a}\",\n",
    "        workdir = \"${CONFIG['wd']!a}\",\n",
    "        src = \"${CONFIG['src']!a}\")\n",
    "\n",
    "[phenotype_permuted_genotype]\n",
    "sos_run('MC.genotype_LD', \n",
    "        genotype_data = \"${CONFIG['genotype']!a}\",\n",
    "        workdir = \"${CONFIG['wd']!a}\",\n",
    "        src = \"${CONFIG['src']!a}\",\n",
    "        permuted_genotype = \"True\")\n",
    "\n",
    "sos_run('MC.phenotype_simulator',\n",
    "        genotype_data = \"${CONFIG['genotype']!a}\",\n",
    "        workdir = \"${CONFIG['wd']!a}\",\n",
    "        src = \"${CONFIG['src']!a}\",\n",
    "        permuted_genotype = \"True\")"
   ]
  },
  {
   "cell_type": "markdown",
   "metadata": {},
   "source": [
    "### Generate phenotype from original genotype\n",
    "\n",
    "```bash\n",
    "./simulation.sos phenotype_original_genotype -J 20 -c conf/simulate-20170630.conf\n",
    "./simulation.sos phenotype_permuted_genotype -J 20 -c conf/simulate-20170630.conf\n",
    "```"
   ]
  },
  {
   "cell_type": "markdown",
   "metadata": {},
   "source": [
    "## Univariate eQTL analysis\n",
    "A [MatrixEQTL](http://www.bios.unc.edu/research/genomic_software/Matrix_eQTL/) based pipeline:"
   ]
  },
  {
   "cell_type": "code",
   "execution_count": null,
   "metadata": {
    "kernel": "SoS"
   },
   "outputs": [],
   "source": [
    "%sossave eqtl.sos -f -x\n",
    "#!/usr/bin/env sos-runner\n",
    "#fileformat=SOS1.0\n",
    "\n",
    "%include ResourceManagement as RM\n",
    "%include Misc as MC\n",
    "%include MatrixEQTL as ME\n",
    "\n",
    "[default]\n",
    "sos_run('ME.matrix_eqtl', geno_file = \"${CONFIG['genotype']!a}\", \n",
    "        expr_file = \"${CONFIG['expression']!a}\", \n",
    "        covar_file = \"${CONFIG['covariates']!a}\", \n",
    "        ann_file = \"${CONFIG['gene_annotation']!a}\", \n",
    "        workdir = CONFIG['wd'])"
   ]
  },
  {
   "cell_type": "code",
   "execution_count": null,
   "metadata": {
    "collapsed": true
   },
   "outputs": [],
   "source": [
    "!./eqtl.sos -c conf/eqtl-test-20170609.conf "
   ]
  },
  {
   "cell_type": "code",
   "execution_count": null,
   "metadata": {
    "collapsed": true
   },
   "outputs": [],
   "source": [
    "[matrix_eqtxl_2]\n",
    "input: group_by = n_per_batch\n",
    "parameter: geno = None\n",
    "parameter: expr = None \n",
    "parameter: covar = None\n",
    "parameter: jobs = \n",
    "geno_table = '/chr4/ENSG00000145214'\n",
    "expr_table = '/simulated'\n",
    "\n",
    "[matrix_eqtxl_3]\n",
    "# merge batches\n",
    "task:\n",
    "R:\n",
    "# source(\"http://bioconductor.org/biocLite.R\")\n",
    "# biocLite(\"rhdf5\")\n",
    "library(rhdf5)\n",
    "# Good to load all expression data and covariates\n",
    "load_table = function(h_file, h_table) {\n",
    "    hdata <- h5read(h_file, h_table)\n",
    "    res = hdata$block0_values\n",
    "    colnames(res) = hdata$axis1\n",
    "    rownames(res) = hdata$axis0\n",
    "    return(res)\n",
    "}\n",
    "\n",
    "# Load specific genotype and expression data\n",
    "load_xy = function(genotype_file, geno_table, expr_data) {\n",
    "    gdata = load_table(genotype_file, geno_table)\n",
    "    edata = expr_data[, basename(geno_table)]\n",
    "    return(list(X=gdata,y=edata))\n",
    "}\n",
    "\n",
    "dat = load_xy(${geno!r}, ${expr!r}, ${covar!r})"
   ]
  }
 ],
 "metadata": {
  "kernelspec": {
   "display_name": "SoS",
   "language": "sos",
   "name": "sos"
  },
  "language_info": {
   "codemirror_mode": "sos",
   "file_extension": ".sos",
   "mimetype": "text/x-sos",
   "name": "sos",
   "nbconvert_exporter": "sos.jupyter.converter.SoS_Exporter",
   "pygments_lexer": "sos"
  },
  "sos": {
   "celltoolbar": true,
   "kernels": [
    [
     "SoS",
     "sos",
     "",
     ""
    ],
    [
     "ir",
     "ir",
     "",
     ""
    ],
    [
     "Python3",
     "python3",
     "Python3",
     "#EAFAF1"
    ]
   ],
   "panel": {
    "displayed": false,
    "height": 0,
    "style": "side"
   }
  }
 },
 "nbformat": 4,
 "nbformat_minor": 2
}
