{
 "cells": [
  {
   "cell_type": "markdown",
   "metadata": {},
   "source": [
    "# Create prior mixture\n",
    "\n",
    "This notebook contains scripts to create mixture prior for use with simulations in DSC."
   ]
  },
  {
   "cell_type": "markdown",
   "metadata": {},
   "source": [
    "## Artificial structure\n",
    "\n",
    "Here I'm going to make for 50 conditions patterns of covariate with \n",
    "1. canonical\n",
    "2. paired sharing eg a pair of tissues\n",
    "3. block sharing eg brain"
   ]
  },
  {
   "cell_type": "markdown",
   "metadata": {},
   "source": [
    "Canonical patterns of sharing:"
   ]
  },
  {
   "cell_type": "code",
   "execution_count": 1,
   "metadata": {},
   "outputs": [],
   "source": [
    "R=50\n",
    "prior = mmbr:::create_cov_canonical(R)"
   ]
  },
  {
   "cell_type": "markdown",
   "metadata": {},
   "source": [
    "Paired sharing:"
   ]
  },
  {
   "cell_type": "code",
   "execution_count": 3,
   "metadata": {},
   "outputs": [],
   "source": [
    "paired = matrix(0,R,R)\n",
    "paired[1:2,1:2] = 1\n",
    "prior[['paired_1']] = paired"
   ]
  },
  {
   "cell_type": "markdown",
   "metadata": {},
   "source": [
    "Block sharing:"
   ]
  },
  {
   "cell_type": "code",
   "execution_count": 4,
   "metadata": {},
   "outputs": [],
   "source": [
    "block = matrix(0,R,R)\n",
    "block[1:R/2, 1:R/2] = 1\n",
    "block[(R/2+1):R, (R/2+1):R] = 1\n",
    "prior[['blocked_1']] = block"
   ]
  },
  {
   "cell_type": "code",
   "execution_count": 5,
   "metadata": {},
   "outputs": [
    {
     "data": {
      "text/html": [
       "<style>\n",
       ".list-inline {list-style: none; margin:0; padding: 0}\n",
       ".list-inline>li {display: inline-block}\n",
       ".list-inline>li:not(:last-child)::after {content: \"\\00b7\"; padding: 0 .5ex}\n",
       "</style>\n",
       "<ol class=list-inline><li>'singleton_1'</li><li>'singleton_2'</li><li>'singleton_3'</li><li>'singleton_4'</li><li>'singleton_5'</li><li>'singleton_6'</li><li>'singleton_7'</li><li>'singleton_8'</li><li>'singleton_9'</li><li>'singleton_10'</li><li>'singleton_11'</li><li>'singleton_12'</li><li>'singleton_13'</li><li>'singleton_14'</li><li>'singleton_15'</li><li>'singleton_16'</li><li>'singleton_17'</li><li>'singleton_18'</li><li>'singleton_19'</li><li>'singleton_20'</li><li>'singleton_21'</li><li>'singleton_22'</li><li>'singleton_23'</li><li>'singleton_24'</li><li>'singleton_25'</li><li>'singleton_26'</li><li>'singleton_27'</li><li>'singleton_28'</li><li>'singleton_29'</li><li>'singleton_30'</li><li>'singleton_31'</li><li>'singleton_32'</li><li>'singleton_33'</li><li>'singleton_34'</li><li>'singleton_35'</li><li>'singleton_36'</li><li>'singleton_37'</li><li>'singleton_38'</li><li>'singleton_39'</li><li>'singleton_40'</li><li>'singleton_41'</li><li>'singleton_42'</li><li>'singleton_43'</li><li>'singleton_44'</li><li>'singleton_45'</li><li>'singleton_46'</li><li>'singleton_47'</li><li>'singleton_48'</li><li>'singleton_49'</li><li>'singleton_50'</li><li>'shared_1'</li><li>'shared_2'</li><li>'shared_3'</li><li>'shared_4'</li><li>'shared_5'</li><li>'paired_1'</li><li>'blocked_1'</li></ol>\n"
      ],
      "text/latex": [
       "\\begin{enumerate*}\n",
       "\\item 'singleton\\_1'\n",
       "\\item 'singleton\\_2'\n",
       "\\item 'singleton\\_3'\n",
       "\\item 'singleton\\_4'\n",
       "\\item 'singleton\\_5'\n",
       "\\item 'singleton\\_6'\n",
       "\\item 'singleton\\_7'\n",
       "\\item 'singleton\\_8'\n",
       "\\item 'singleton\\_9'\n",
       "\\item 'singleton\\_10'\n",
       "\\item 'singleton\\_11'\n",
       "\\item 'singleton\\_12'\n",
       "\\item 'singleton\\_13'\n",
       "\\item 'singleton\\_14'\n",
       "\\item 'singleton\\_15'\n",
       "\\item 'singleton\\_16'\n",
       "\\item 'singleton\\_17'\n",
       "\\item 'singleton\\_18'\n",
       "\\item 'singleton\\_19'\n",
       "\\item 'singleton\\_20'\n",
       "\\item 'singleton\\_21'\n",
       "\\item 'singleton\\_22'\n",
       "\\item 'singleton\\_23'\n",
       "\\item 'singleton\\_24'\n",
       "\\item 'singleton\\_25'\n",
       "\\item 'singleton\\_26'\n",
       "\\item 'singleton\\_27'\n",
       "\\item 'singleton\\_28'\n",
       "\\item 'singleton\\_29'\n",
       "\\item 'singleton\\_30'\n",
       "\\item 'singleton\\_31'\n",
       "\\item 'singleton\\_32'\n",
       "\\item 'singleton\\_33'\n",
       "\\item 'singleton\\_34'\n",
       "\\item 'singleton\\_35'\n",
       "\\item 'singleton\\_36'\n",
       "\\item 'singleton\\_37'\n",
       "\\item 'singleton\\_38'\n",
       "\\item 'singleton\\_39'\n",
       "\\item 'singleton\\_40'\n",
       "\\item 'singleton\\_41'\n",
       "\\item 'singleton\\_42'\n",
       "\\item 'singleton\\_43'\n",
       "\\item 'singleton\\_44'\n",
       "\\item 'singleton\\_45'\n",
       "\\item 'singleton\\_46'\n",
       "\\item 'singleton\\_47'\n",
       "\\item 'singleton\\_48'\n",
       "\\item 'singleton\\_49'\n",
       "\\item 'singleton\\_50'\n",
       "\\item 'shared\\_1'\n",
       "\\item 'shared\\_2'\n",
       "\\item 'shared\\_3'\n",
       "\\item 'shared\\_4'\n",
       "\\item 'shared\\_5'\n",
       "\\item 'paired\\_1'\n",
       "\\item 'blocked\\_1'\n",
       "\\end{enumerate*}\n"
      ],
      "text/markdown": [
       "1. 'singleton_1'\n",
       "2. 'singleton_2'\n",
       "3. 'singleton_3'\n",
       "4. 'singleton_4'\n",
       "5. 'singleton_5'\n",
       "6. 'singleton_6'\n",
       "7. 'singleton_7'\n",
       "8. 'singleton_8'\n",
       "9. 'singleton_9'\n",
       "10. 'singleton_10'\n",
       "11. 'singleton_11'\n",
       "12. 'singleton_12'\n",
       "13. 'singleton_13'\n",
       "14. 'singleton_14'\n",
       "15. 'singleton_15'\n",
       "16. 'singleton_16'\n",
       "17. 'singleton_17'\n",
       "18. 'singleton_18'\n",
       "19. 'singleton_19'\n",
       "20. 'singleton_20'\n",
       "21. 'singleton_21'\n",
       "22. 'singleton_22'\n",
       "23. 'singleton_23'\n",
       "24. 'singleton_24'\n",
       "25. 'singleton_25'\n",
       "26. 'singleton_26'\n",
       "27. 'singleton_27'\n",
       "28. 'singleton_28'\n",
       "29. 'singleton_29'\n",
       "30. 'singleton_30'\n",
       "31. 'singleton_31'\n",
       "32. 'singleton_32'\n",
       "33. 'singleton_33'\n",
       "34. 'singleton_34'\n",
       "35. 'singleton_35'\n",
       "36. 'singleton_36'\n",
       "37. 'singleton_37'\n",
       "38. 'singleton_38'\n",
       "39. 'singleton_39'\n",
       "40. 'singleton_40'\n",
       "41. 'singleton_41'\n",
       "42. 'singleton_42'\n",
       "43. 'singleton_43'\n",
       "44. 'singleton_44'\n",
       "45. 'singleton_45'\n",
       "46. 'singleton_46'\n",
       "47. 'singleton_47'\n",
       "48. 'singleton_48'\n",
       "49. 'singleton_49'\n",
       "50. 'singleton_50'\n",
       "51. 'shared_1'\n",
       "52. 'shared_2'\n",
       "53. 'shared_3'\n",
       "54. 'shared_4'\n",
       "55. 'shared_5'\n",
       "56. 'paired_1'\n",
       "57. 'blocked_1'\n",
       "\n",
       "\n"
      ],
      "text/plain": [
       " [1] \"singleton_1\"  \"singleton_2\"  \"singleton_3\"  \"singleton_4\"  \"singleton_5\" \n",
       " [6] \"singleton_6\"  \"singleton_7\"  \"singleton_8\"  \"singleton_9\"  \"singleton_10\"\n",
       "[11] \"singleton_11\" \"singleton_12\" \"singleton_13\" \"singleton_14\" \"singleton_15\"\n",
       "[16] \"singleton_16\" \"singleton_17\" \"singleton_18\" \"singleton_19\" \"singleton_20\"\n",
       "[21] \"singleton_21\" \"singleton_22\" \"singleton_23\" \"singleton_24\" \"singleton_25\"\n",
       "[26] \"singleton_26\" \"singleton_27\" \"singleton_28\" \"singleton_29\" \"singleton_30\"\n",
       "[31] \"singleton_31\" \"singleton_32\" \"singleton_33\" \"singleton_34\" \"singleton_35\"\n",
       "[36] \"singleton_36\" \"singleton_37\" \"singleton_38\" \"singleton_39\" \"singleton_40\"\n",
       "[41] \"singleton_41\" \"singleton_42\" \"singleton_43\" \"singleton_44\" \"singleton_45\"\n",
       "[46] \"singleton_46\" \"singleton_47\" \"singleton_48\" \"singleton_49\" \"singleton_50\"\n",
       "[51] \"shared_1\"     \"shared_2\"     \"shared_3\"     \"shared_4\"     \"shared_5\"    \n",
       "[56] \"paired_1\"     \"blocked_1\"   "
      ]
     },
     "metadata": {},
     "output_type": "display_data"
    }
   ],
   "source": [
    "names(prior)"
   ]
  },
  {
   "cell_type": "markdown",
   "metadata": {},
   "source": [
    "Now assign some weights:\n",
    "\n",
    "1. singleton total 30%\n",
    "2. shared total 30%\n",
    "3. paired 20%\n",
    "4. blocked 20%"
   ]
  },
  {
   "cell_type": "code",
   "execution_count": 6,
   "metadata": {},
   "outputs": [],
   "source": [
    "w = c(rep(0.3/50,50), rep(0.3/5,5),0.2,0.2)"
   ]
  },
  {
   "cell_type": "code",
   "execution_count": 10,
   "metadata": {},
   "outputs": [],
   "source": [
    "saveRDS(list(artificial_mixture_50 = prior), '../../data/prior_simulation.rds')"
   ]
  },
  {
   "cell_type": "code",
   "execution_count": null,
   "metadata": {},
   "outputs": [],
   "source": []
  }
 ],
 "metadata": {
  "kernelspec": {
   "display_name": "R",
   "language": "R",
   "name": "ir"
  },
  "language_info": {
   "codemirror_mode": "r",
   "file_extension": ".r",
   "mimetype": "text/x-r-source",
   "name": "R",
   "pygments_lexer": "r",
   "version": "3.6.3"
  }
 },
 "nbformat": 4,
 "nbformat_minor": 4
}
