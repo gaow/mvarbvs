{
 "cells": [
  {
   "cell_type": "markdown",
   "metadata": {
    "kernel": "SoS"
   },
   "source": [
    "# Multivariate EBNM based prior for M&M\n",
    "\n",
    "Here for the simulation benchmark we prepare mixture prior based on a mulrivariate Emperical Bayes Normal Mean model (previously we use Extreme Deconvolution for the task)."
   ]
  },
  {
   "cell_type": "markdown",
   "metadata": {
    "kernel": "SoS"
   },
   "source": [
    "## Approach"
   ]
  },
  {
   "cell_type": "markdown",
   "metadata": {
    "kernel": "SoS"
   },
   "source": [
    "Here is the analysis plan:\n",
    "\n",
    "1. Identify up to 20K genes where there is complete phenotype data to make a good / realistic residual variance estimate via FLASH\n",
    "2. Simulate 20K data under my phenotypic models (the latest DSC benchmark setting) and generate sumstats for them ; bhat and sbhat\n",
    "3. For each data-set, take the strongest gene-snp pair as the strong set\n",
    "4. Also select from each data-set perhaps 4 \"random\" gene-snp pair.\n",
    "5. then try to run your estimate of Vhat to get Vhat first, and run Yunqi / Peter's ED\n",
    "\n",
    "In GTEx we have >35K genes. The reason we want to try using 20K is that 20K seems to have enough information learning about the pattern of sharing between conditions for mixtures I simulated [in this notebook](20200402_create_prior_mixture.html).\n",
    "\n",
    "But we \"cheat\" a bit by simulating under identity residual variance for all genes, and fit EBNM assuming residual variance is identity, too; or just estimating a global residual variance. This makes the problem easier. Because in practice residual can be different (though maybe similar!) for different genes.\n",
    "\n",
    "So the simplified plan is to only do 2~5 with 2 using just identity matrix for residual variance."
   ]
  },
  {
   "cell_type": "markdown",
   "metadata": {
    "kernel": "SoS"
   },
   "source": [
    "## Workflow"
   ]
  },
  {
   "cell_type": "code",
   "execution_count": null,
   "metadata": {
    "kernel": "SoS"
   },
   "outputs": [],
   "source": [
    "[global]\n",
    "parameter: cwd = path('/project2/mstephens/gaow/mvarbvs/dsc/mnm_prototype/mnm_sumstats')\n",
    "parameter: model = 'artificial_mixture_identity' # 'gtex_mixture_identity'\n",
    "# handle N = per_chunk data-set in one job\n",
    "parameter: per_chunk = 1000\n",
    "import glob"
   ]
  },
  {
   "cell_type": "code",
   "execution_count": 1,
   "metadata": {
    "kernel": "SoS"
   },
   "outputs": [
    {
     "name": "stdout",
     "output_type": "stream",
     "text": [
      "/project2/mstephens/gaow/mvarbvs/dsc/mnm_prototype/mnm_sumstats"
     ]
    }
   ],
   "source": [
    "%cd /project2/mstephens/gaow/mvarbvs/dsc/mnm_prototype/mnm_sumstats"
   ]
  },
  {
   "cell_type": "markdown",
   "metadata": {
    "kernel": "SoS"
   },
   "source": [
    "### Get top gene-SNP and random gene-SNP pairs per gene"
   ]
  },
  {
   "cell_type": "code",
   "execution_count": 31,
   "metadata": {
    "kernel": "SoS"
   },
   "outputs": [],
   "source": [
    "# extract data for MAHS from summary stats\n",
    "[extract_1]\n",
    "parameter: seed = 999\n",
    "parameter: n_random = 4\n",
    "input: glob.glob(f'{cwd}/{model}/*.rds'), group_by = per_chunk\n",
    "output: f\"{cwd}/{model}/cache/{model}_{_index+1}.rds\"\n",
    "task: trunk_workers = 1, walltime = '1h', trunk_size = 1, mem = '4G', cores = 1, tags = f'{_output:bn}'\n",
    "R: expand = \"${ }\"\n",
    "    set.seed(${seed})\n",
    "    matxMax <- function(mtx) {\n",
    "        max_idx <- which.max(mtx)\n",
    "        colmn <- max_idx %/% nrow(mtx) + 1\n",
    "        row <- max_idx %% nrow(mtx)\n",
    "        return( matrix(c(row, colmn), 1))\n",
    "    }\n",
    "    remove_rownames = function(x) {\n",
    "        for (name in names(x)) rownames(x[[name]]) = NULL\n",
    "        return(x)\n",
    "    }\n",
    "    extract_one_data = function(infile, n_random) {\n",
    "        # If cannot read the input for some reason then let it go. I dont care losing one.\n",
    "        dat = tryCatch(readRDS(infile)$sumstats, error = function(e) return(NULL))\n",
    "        if (is.null(dat)) return(NULL)\n",
    "        z = abs(dat$bhat/dat$sbhat)\n",
    "        max_idx = matxMax(z)\n",
    "        strong = list(bhat = dat$bhat[max_idx[1],,drop=F], sbhat = dat$sbhat[max_idx[1],,drop=F])\n",
    "        if (max_idx[1] == 1) {\n",
    "            sample_idx = 2:nrow(z)\n",
    "        } else if (max_idx[1] == nrow(z)) {\n",
    "            sample_idx = 1:(max_idx[1]-1)\n",
    "        } else {\n",
    "            sample_idx = c(1:(max_idx[1]-1), (max_idx[1]+1):nrow(z))\n",
    "        }\n",
    "        random_idx = sample(sample_idx, n_random, replace = T)\n",
    "        random = list(bhat = dat$bhat[random_idx,,drop=F], sbhat = dat$sbhat[random_idx,,drop=F])\n",
    "        return(list(random = remove_rownames(random),  strong = remove_rownames(strong)))\n",
    "    }\n",
    "    merge_data = function(res, one_data) {\n",
    "      if (length(res) == 0) {\n",
    "          return(one_data)\n",
    "      } else if (is.null(one_data)) {\n",
    "          return(res)\n",
    "      } else {\n",
    "          for (d in names(one_data)) {\n",
    "              for (s in names(one_data[[d]])) {\n",
    "                  res[[d]][[s]] = rbind(res[[d]][[s]], one_data[[d]][[s]])\n",
    "              }\n",
    "          }\n",
    "          return(res)\n",
    "      }\n",
    "    }\n",
    "    res = list()\n",
    "    for (f in c(${_input:r,})) {\n",
    "      res = merge_data(res, extract_one_data(f, ${n_random}))\n",
    "    }\n",
    "    saveRDS(res, ${_output:r})\n",
    "  \n",
    "[extract_2]\n",
    "input: group_by = \"all\"\n",
    "output: f\"{cwd}/{model}.rds\"\n",
    "task: trunk_workers = 1, walltime = '1h', trunk_size = 1, mem = '4G', cores = 1, tags = f'{_output:bn}'\n",
    "R: expand = \"${ }\"\n",
    "    merge_data = function(res, one_data) {\n",
    "      if (length(res) == 0) {\n",
    "          return(one_data)\n",
    "      } else {\n",
    "          for (d in names(one_data)) {\n",
    "              for (s in names(one_data[[d]])) {\n",
    "                  res[[d]][[s]] = rbind(res[[d]][[s]], one_data[[d]][[s]])\n",
    "              }\n",
    "          }\n",
    "          return(res)\n",
    "      }\n",
    "    }\n",
    "    dat = list()\n",
    "    for (f in c(${_input:r,})) {\n",
    "      dat = merge_data(dat, readRDS(f))\n",
    "    }\n",
    "    # make output consistent in format with \n",
    "    # https://github.com/stephenslab/gtexresults/blob/master/workflows/mashr_flashr_workflow.ipynb\n",
    "    saveRDS(\n",
    "          list(random.z = dat$random$bhat/dat$random$sbhat,\n",
    "           strong.z = dat$strong$bhat/dat$strong$sbhat, \n",
    "           random.b = dat$random$bhat,\n",
    "           strong.b = dat$strong$bhat,\n",
    "           random.s = dat$random$sbhat,\n",
    "           strong.s = dat$strong$sbhat),\n",
    "          ${_output:r})"
   ]
  },
  {
   "cell_type": "markdown",
   "metadata": {
    "kernel": "SoS"
   },
   "source": [
    "To run it:\n",
    "\n",
    "```\n",
    "for m in artificial_mixture_identity gtex_mixture_identity; do \n",
    "    sos run analysis/20200502_Prepare_ED_prior.ipynb extract --model $m -c midway2.yml -q midway2\n",
    "done\n",
    "```"
   ]
  },
  {
   "cell_type": "markdown",
   "metadata": {
    "kernel": "SoS"
   },
   "source": [
    "## Run extreme deconvolution using `mashr`"
   ]
  },
  {
   "cell_type": "markdown",
   "metadata": {
    "kernel": "R"
   },
   "source": [
    "Before this, we need to run the following to generate FLASH mixture,\n",
    "\n",
    "```\n",
    "for m in artificial_mixture_identity gtex_mixture_identity; do\n",
    "sos run ~/GIT/gtexresults/workflows/mashr_flashr_workflow.ipynb flash \\\n",
    "    --cwd /project2/mstephens/gaow/mvarbvs/dsc/mnm_prototype/mnm_sumstats/ \\\n",
    "    --data /project2/mstephens/gaow/mvarbvs/dsc/mnm_prototype/mnm_sumstats/$m.rds \\\n",
    "    --effect-model EE -c midway2.yml -q midway2\n",
    "done\n",
    "```\n",
    "\n",
    "We will use `simple` method to compute the residual variance, as implemented in the pipeline below."
   ]
  },
  {
   "cell_type": "code",
   "execution_count": null,
   "metadata": {
    "kernel": "SoS"
   },
   "outputs": [],
   "source": [
    "[ed_1, teem_1]\n",
    "depends: R_library(\"mashr\")\n",
    "parameter: npc = 3\n",
    "input: f\"{cwd}/{model}.rds\", f\"{cwd}/{model}.EE.flash.rds\"\n",
    "output: f\"{cwd}/{model}.FL_PC{npc}.rds\"\n",
    "R: expand = \"${ }\", workdir = cwd, stderr = f\"{_output:n}.stderr\", stdout = f\"{_output:n}.stdout\"\n",
    "    library(mashr)\n",
    "    dat = readRDS(${_input[0]:r})\n",
    "    vhat = estimate_null_correlation_simple(mash_set_data(dat$random.b, Shat=dat$random.s, zero_Bhat_Shat_reset = 1E3))\n",
    "    mash_data = mash_set_data(dat$strong.b, Shat=dat$strong.s, alpha=0, V=vhat, zero_Bhat_Shat_reset = 1E3)\n",
    "    # FLASH matrices\n",
    "    U.flash = readRDS(${_input[1]:r})\n",
    "    # SVD matrices\n",
    "    U.pca = ${\"cov_pca(mash_data, %s)\" % npc if npc > 0 else \"list()\"}\n",
    "    # Emperical cov matrix\n",
    "    X.center = apply(mash_data$Bhat, 2, function(x) x - mean(x))\n",
    "    Ulist = c(U.flash, U.pca, list(\"XX\" = t(X.center) %*% X.center / nrow(X.center)))\n",
    "    saveRDS(list(mash_data = mash_data, Ulist = Ulist), ${_output:r})"
   ]
  },
  {
   "cell_type": "code",
   "execution_count": null,
   "metadata": {
    "kernel": "SoS"
   },
   "outputs": [],
   "source": [
    "[ed_2]\n",
    "output: f\"{_input:n}.ED.rds\"\n",
    "task: trunk_workers = 1, walltime = '36h', trunk_size = 1, mem = '4G', cores = 14, tags = f'{_output:bn}'\n",
    "R: expand = \"${ }\", workdir = cwd, stderr = f\"{_output:n}.stderr\", stdout = f\"{_output:n}.stdout\"\n",
    "    library(mashr)\n",
    "    dat = readRDS(${_input:r})\n",
    "    # Denoised data-driven matrices\n",
    "    res = bovy_wrapper(dat$mash_data, dat$Ulist, logfile=${_output:nr}, tol = 2e-06)\n",
    "    # format to input for simulation with DSC (current pipeline)\n",
    "    saveRDS(list(U=res$Ulist, w=res$pi, loglik=scan(\"${_output:nn}.ED_loglike.log\")), ${_output:r}) "
   ]
  },
  {
   "cell_type": "code",
   "execution_count": null,
   "metadata": {
    "kernel": "SoS"
   },
   "outputs": [],
   "source": [
    "[teem_2]\n",
    "output: f\"{_input:n}.TEEM.rds\"\n",
    "task: trunk_workers = 1, walltime = '1h', trunk_size = 1, mem = '4G', cores = 1, tags = f'{_output:bn}'\n",
    "R: expand = \"${ }\", workdir = cwd, stderr = f\"{_output:n}.stderr\", stdout = f\"{_output:n}.stdout\"\n",
    "    library(mashr)\n",
    "    dat = readRDS(${_input:r})\n",
    "    # Denoised data-driven matrices\n",
    "    res = teem_wrapper(dat$mash_data, dat$Ulist)\n",
    "    saveRDS(res, ${_output:r})   "
   ]
  },
  {
   "cell_type": "markdown",
   "metadata": {
    "kernel": "SoS"
   },
   "source": [
    "```\n",
    "sos run analysis/20200502_Prepare_ED_prior.ipynb ed --model artificial_mixture_identity -c midway2.yml -q midway2\n",
    "sos run analysis/20200502_Prepare_ED_prior.ipynb ed --model gtex_mixture_identity -c midway2.yml -q midway2\n",
    "sos run analysis/20200502_Prepare_ED_prior.ipynb teem --model artificial_mixture_identity -c midway2.yml -q midway2\n",
    "sos run analysis/20200502_Prepare_ED_prior.ipynb teem --model gtex_mixture_identity -c midway2.yml -q midway2\n",
    "```\n",
    "\n",
    "It takes many hours to run ED (can be a day depending on number of threads used) but only a few minutes to run TEEM. In fact TEEM on `gtex_mixture` based data converged in a second."
   ]
  },
  {
   "cell_type": "code",
   "execution_count": 1,
   "metadata": {
    "kernel": "SoS"
   },
   "outputs": [
    {
     "name": "stdout",
     "output_type": "stream",
     "text": [
      "/home/gw/tmp/19-May-2020"
     ]
    }
   ],
   "source": [
    "%cd ~/tmp/19-May-2020"
   ]
  },
  {
   "cell_type": "markdown",
   "metadata": {
    "kernel": "SoS"
   },
   "source": [
    "## Data-driven prior via ED\n",
    "\n",
    "For the [artifically simulated mixture](20200402_create_prior_mixture.html#Artificial-structure),"
   ]
  },
  {
   "cell_type": "code",
   "execution_count": 33,
   "metadata": {
    "kernel": "R"
   },
   "outputs": [],
   "source": [
    "a1 = readRDS('artificial_mixture_identity.FL_PC3.ED.rds')"
   ]
  },
  {
   "cell_type": "code",
   "execution_count": 34,
   "metadata": {
    "kernel": "R"
   },
   "outputs": [
    {
     "data": {
      "text/html": [
       "<style>\n",
       ".list-inline {list-style: none; margin:0; padding: 0}\n",
       ".list-inline>li {display: inline-block}\n",
       ".list-inline>li:not(:last-child)::after {content: \"\\00b7\"; padding: 0 .5ex}\n",
       "</style>\n",
       "<ol class=list-inline><li>'U'</li><li>'w'</li><li>'loglik'</li></ol>\n"
      ],
      "text/latex": [
       "\\begin{enumerate*}\n",
       "\\item 'U'\n",
       "\\item 'w'\n",
       "\\item 'loglik'\n",
       "\\end{enumerate*}\n"
      ],
      "text/markdown": [
       "1. 'U'\n",
       "2. 'w'\n",
       "3. 'loglik'\n",
       "\n",
       "\n"
      ],
      "text/plain": [
       "[1] \"U\"      \"w\"      \"loglik\""
      ]
     },
     "metadata": {},
     "output_type": "display_data"
    }
   ],
   "source": [
    "names(a1)"
   ]
  },
  {
   "cell_type": "code",
   "execution_count": 6,
   "metadata": {
    "kernel": "R"
   },
   "outputs": [
    {
     "data": {
      "text/html": [
       "96.272428"
      ],
      "text/latex": [
       "96.272428"
      ],
      "text/markdown": [
       "96.272428"
      ],
      "text/plain": [
       "[1] 96.27243"
      ]
     },
     "metadata": {},
     "output_type": "display_data"
    }
   ],
   "source": [
    "a1$loglik[length(a1$loglik)]"
   ]
  },
  {
   "cell_type": "code",
   "execution_count": 7,
   "metadata": {
    "kernel": "R"
   },
   "outputs": [
    {
     "data": {
      "text/html": [
       "<style>\n",
       ".list-inline {list-style: none; margin:0; padding: 0}\n",
       ".list-inline>li {display: inline-block}\n",
       ".list-inline>li:not(:last-child)::after {content: \"\\00b7\"; padding: 0 .5ex}\n",
       "</style>\n",
       "<ol class=list-inline><li>0</li><li>0</li><li>0</li><li>0</li><li>0</li><li>0</li><li>0</li><li>0</li><li>0</li><li>4.31744384080165e-06</li><li>3.02306174722007e-05</li><li>0</li><li>0</li><li>0.989816261946727</li><li>0.0101491899919994</li></ol>\n"
      ],
      "text/latex": [
       "\\begin{enumerate*}\n",
       "\\item 0\n",
       "\\item 0\n",
       "\\item 0\n",
       "\\item 0\n",
       "\\item 0\n",
       "\\item 0\n",
       "\\item 0\n",
       "\\item 0\n",
       "\\item 0\n",
       "\\item 4.31744384080165e-06\n",
       "\\item 3.02306174722007e-05\n",
       "\\item 0\n",
       "\\item 0\n",
       "\\item 0.989816261946727\n",
       "\\item 0.0101491899919994\n",
       "\\end{enumerate*}\n"
      ],
      "text/markdown": [
       "1. 0\n",
       "2. 0\n",
       "3. 0\n",
       "4. 0\n",
       "5. 0\n",
       "6. 0\n",
       "7. 0\n",
       "8. 0\n",
       "9. 0\n",
       "10. 4.31744384080165e-06\n",
       "11. 3.02306174722007e-05\n",
       "12. 0\n",
       "13. 0\n",
       "14. 0.989816261946727\n",
       "15. 0.0101491899919994\n",
       "\n",
       "\n"
      ],
      "text/plain": [
       " [1] 0.000000e+00 0.000000e+00 0.000000e+00 0.000000e+00 0.000000e+00\n",
       " [6] 0.000000e+00 0.000000e+00 0.000000e+00 0.000000e+00 4.317444e-06\n",
       "[11] 3.023062e-05 0.000000e+00 0.000000e+00 9.898163e-01 1.014919e-02"
      ]
     },
     "metadata": {},
     "output_type": "display_data"
    }
   ],
   "source": [
    "a1$w"
   ]
  },
  {
   "cell_type": "code",
   "execution_count": 8,
   "metadata": {
    "kernel": "R"
   },
   "outputs": [],
   "source": [
    "tol = 1E-15"
   ]
  },
  {
   "cell_type": "code",
   "execution_count": 9,
   "metadata": {
    "kernel": "R"
   },
   "outputs": [
    {
     "data": {
      "text/html": [
       "<style>\n",
       ".list-inline {list-style: none; margin:0; padding: 0}\n",
       ".list-inline>li {display: inline-block}\n",
       ".list-inline>li:not(:last-child)::after {content: \"\\00b7\"; padding: 0 .5ex}\n",
       "</style>\n",
       "<ol class=list-inline><li>'tFLASH'</li><li>'PCA_1'</li><li>'tPCA'</li><li>'XX'</li></ol>\n"
      ],
      "text/latex": [
       "\\begin{enumerate*}\n",
       "\\item 'tFLASH'\n",
       "\\item 'PCA\\_1'\n",
       "\\item 'tPCA'\n",
       "\\item 'XX'\n",
       "\\end{enumerate*}\n"
      ],
      "text/markdown": [
       "1. 'tFLASH'\n",
       "2. 'PCA_1'\n",
       "3. 'tPCA'\n",
       "4. 'XX'\n",
       "\n",
       "\n"
      ],
      "text/plain": [
       "[1] \"tFLASH\" \"PCA_1\"  \"tPCA\"   \"XX\"    "
      ]
     },
     "metadata": {},
     "output_type": "display_data"
    }
   ],
   "source": [
    "names(a1$U)[which(a1$w>tol)]"
   ]
  },
  {
   "cell_type": "markdown",
   "metadata": {
    "kernel": "R"
   },
   "source": [
    "The component with strongest weight is `tPCA`."
   ]
  },
  {
   "cell_type": "code",
   "execution_count": 19,
   "metadata": {
    "kernel": "R"
   },
   "outputs": [],
   "source": [
    "plot_sharing = function(X) {\n",
    "clrs <- colorRampPalette(rev(c(\"#D73027\",\"#FC8D59\",\"#FEE090\",\"#FFFFBF\",\n",
    "                               \"#E0F3F8\",\"#91BFDB\",\"#4575B4\")))(64)\n",
    "lat <- cov2cor(X)\n",
    "lat[lower.tri(lat)] <- NA\n",
    "n <- nrow(lat)\n",
    "print(lattice::levelplot(lat[n:1,],col.regions = clrs,xlab = \"\",ylab = \"\",\n",
    "                colorkey = TRUE,at = seq(0,1,length.out = 64),\n",
    "                scales = list(cex = 0.6,x = list(rot = 45))))\n",
    "}"
   ]
  },
  {
   "cell_type": "code",
   "execution_count": 20,
   "metadata": {
    "kernel": "R"
   },
   "outputs": [
    {
     "data": {
      "image/png": "[encoded data removed]",
      "text/plain": [
       "plot without title"
      ]
     },
     "metadata": {
      "image/png": {
       "height": 420,
       "width": 420
      },
      "text/plain": {
       "height": 420,
       "width": 420
      }
     },
     "output_type": "display_data"
    }
   ],
   "source": [
    "plot_sharing(a1$U$tPCA)"
   ]
  },
  {
   "cell_type": "code",
   "execution_count": 21,
   "metadata": {
    "kernel": "R"
   },
   "outputs": [
    {
     "data": {
      "image/png": "[encoded data removed]",
      "text/plain": [
       "plot without title"
      ]
     },
     "metadata": {
      "image/png": {
       "height": 420,
       "width": 420
      },
      "text/plain": {
       "height": 420,
       "width": 420
      }
     },
     "output_type": "display_data"
    }
   ],
   "source": [
    "plot_sharing(a1$U$tFLASH)"
   ]
  },
  {
   "cell_type": "code",
   "execution_count": 22,
   "metadata": {
    "kernel": "R"
   },
   "outputs": [
    {
     "data": {
      "image/png": "[encoded data removed]",
      "text/plain": [
       "plot without title"
      ]
     },
     "metadata": {
      "image/png": {
       "height": 420,
       "width": 420
      },
      "text/plain": {
       "height": 420,
       "width": 420
      }
     },
     "output_type": "display_data"
    }
   ],
   "source": [
    "plot_sharing(a1$U$XX)"
   ]
  },
  {
   "cell_type": "code",
   "execution_count": 23,
   "metadata": {
    "kernel": "R"
   },
   "outputs": [
    {
     "data": {
      "image/png": "[encoded data removed]",
      "text/plain": [
       "plot without title"
      ]
     },
     "metadata": {
      "image/png": {
       "height": 420,
       "width": 420
      },
      "text/plain": {
       "height": 420,
       "width": 420
      }
     },
     "output_type": "display_data"
    }
   ],
   "source": [
    "plot_sharing(a1$U$PCA_1)"
   ]
  },
  {
   "cell_type": "markdown",
   "metadata": {
    "kernel": "R"
   },
   "source": [
    "For mixture simulated based on GTEx V8 ED matrices,"
   ]
  },
  {
   "cell_type": "code",
   "execution_count": 24,
   "metadata": {
    "kernel": "R"
   },
   "outputs": [],
   "source": [
    "g1 = readRDS('gtex_mixture_identity.FL_PC3.ED.rds')"
   ]
  },
  {
   "cell_type": "code",
   "execution_count": 25,
   "metadata": {
    "kernel": "R"
   },
   "outputs": [
    {
     "data": {
      "text/html": [
       "96.849458"
      ],
      "text/latex": [
       "96.849458"
      ],
      "text/markdown": [
       "96.849458"
      ],
      "text/plain": [
       "[1] 96.84946"
      ]
     },
     "metadata": {},
     "output_type": "display_data"
    }
   ],
   "source": [
    "g1$loglik[length(g1$loglik)]"
   ]
  },
  {
   "cell_type": "code",
   "execution_count": 26,
   "metadata": {
    "kernel": "R"
   },
   "outputs": [
    {
     "data": {
      "text/html": [
       "<style>\n",
       ".list-inline {list-style: none; margin:0; padding: 0}\n",
       ".list-inline>li {display: inline-block}\n",
       ".list-inline>li:not(:last-child)::after {content: \"\\00b7\"; padding: 0 .5ex}\n",
       "</style>\n",
       "<ol class=list-inline><li>0</li><li>0</li><li>0</li><li>0</li><li>0</li><li>0</li><li>0</li><li>0</li><li>0</li><li>0</li><li>0</li><li>0</li><li>0</li><li>0</li><li>0</li><li>0.199279999999847</li><li>1.15961905202279e-189</li><li>0</li><li>0</li><li>0.735617110811586</li><li>0.0651028891885703</li></ol>\n"
      ],
      "text/latex": [
       "\\begin{enumerate*}\n",
       "\\item 0\n",
       "\\item 0\n",
       "\\item 0\n",
       "\\item 0\n",
       "\\item 0\n",
       "\\item 0\n",
       "\\item 0\n",
       "\\item 0\n",
       "\\item 0\n",
       "\\item 0\n",
       "\\item 0\n",
       "\\item 0\n",
       "\\item 0\n",
       "\\item 0\n",
       "\\item 0\n",
       "\\item 0.199279999999847\n",
       "\\item 1.15961905202279e-189\n",
       "\\item 0\n",
       "\\item 0\n",
       "\\item 0.735617110811586\n",
       "\\item 0.0651028891885703\n",
       "\\end{enumerate*}\n"
      ],
      "text/markdown": [
       "1. 0\n",
       "2. 0\n",
       "3. 0\n",
       "4. 0\n",
       "5. 0\n",
       "6. 0\n",
       "7. 0\n",
       "8. 0\n",
       "9. 0\n",
       "10. 0\n",
       "11. 0\n",
       "12. 0\n",
       "13. 0\n",
       "14. 0\n",
       "15. 0\n",
       "16. 0.199279999999847\n",
       "17. 1.15961905202279e-189\n",
       "18. 0\n",
       "19. 0\n",
       "20. 0.735617110811586\n",
       "21. 0.0651028891885703\n",
       "\n",
       "\n"
      ],
      "text/plain": [
       " [1]  0.000000e+00  0.000000e+00  0.000000e+00  0.000000e+00  0.000000e+00\n",
       " [6]  0.000000e+00  0.000000e+00  0.000000e+00  0.000000e+00  0.000000e+00\n",
       "[11]  0.000000e+00  0.000000e+00  0.000000e+00  0.000000e+00  0.000000e+00\n",
       "[16]  1.992800e-01 1.159619e-189  0.000000e+00  0.000000e+00  7.356171e-01\n",
       "[21]  6.510289e-02"
      ]
     },
     "metadata": {},
     "output_type": "display_data"
    }
   ],
   "source": [
    "g1$w"
   ]
  },
  {
   "cell_type": "code",
   "execution_count": 27,
   "metadata": {
    "kernel": "R"
   },
   "outputs": [
    {
     "data": {
      "text/html": [
       "<style>\n",
       ".list-inline {list-style: none; margin:0; padding: 0}\n",
       ".list-inline>li {display: inline-block}\n",
       ".list-inline>li:not(:last-child)::after {content: \"\\00b7\"; padding: 0 .5ex}\n",
       "</style>\n",
       "<ol class=list-inline><li>'tFLASH'</li><li>'tPCA'</li><li>'XX'</li></ol>\n"
      ],
      "text/latex": [
       "\\begin{enumerate*}\n",
       "\\item 'tFLASH'\n",
       "\\item 'tPCA'\n",
       "\\item 'XX'\n",
       "\\end{enumerate*}\n"
      ],
      "text/markdown": [
       "1. 'tFLASH'\n",
       "2. 'tPCA'\n",
       "3. 'XX'\n",
       "\n",
       "\n"
      ],
      "text/plain": [
       "[1] \"tFLASH\" \"tPCA\"   \"XX\"    "
      ]
     },
     "metadata": {},
     "output_type": "display_data"
    }
   ],
   "source": [
    "names(g1$U)[which(g1$w>tol)]"
   ]
  },
  {
   "cell_type": "markdown",
   "metadata": {
    "kernel": "R"
   },
   "source": [
    "Again, most weights are on `tFLASH` and `tPCA`."
   ]
  },
  {
   "cell_type": "code",
   "execution_count": 30,
   "metadata": {
    "kernel": "R"
   },
   "outputs": [
    {
     "data": {
      "image/png": "[encoded data removed]",
      "text/plain": [
       "plot without title"
      ]
     },
     "metadata": {
      "image/png": {
       "height": 420,
       "width": 420
      },
      "text/plain": {
       "height": 420,
       "width": 420
      }
     },
     "output_type": "display_data"
    }
   ],
   "source": [
    "plot_sharing(g1$U$tFLASH)"
   ]
  },
  {
   "cell_type": "code",
   "execution_count": 31,
   "metadata": {
    "kernel": "R"
   },
   "outputs": [
    {
     "data": {
      "image/png": "[encoded data removed]",
      "text/plain": [
       "plot without title"
      ]
     },
     "metadata": {
      "image/png": {
       "height": 420,
       "width": 420
      },
      "text/plain": {
       "height": 420,
       "width": 420
      }
     },
     "output_type": "display_data"
    }
   ],
   "source": [
    "plot_sharing(g1$U$tPCA)"
   ]
  },
  {
   "cell_type": "code",
   "execution_count": 32,
   "metadata": {
    "kernel": "R"
   },
   "outputs": [
    {
     "data": {
      "image/png": "[encoded data removed]",
      "text/plain": [
       "plot without title"
      ]
     },
     "metadata": {
      "image/png": {
       "height": 420,
       "width": 420
      },
      "text/plain": {
       "height": 420,
       "width": 420
      }
     },
     "output_type": "display_data"
    }
   ],
   "source": [
    "plot_sharing(g1$U$XX)"
   ]
  },
  {
   "cell_type": "markdown",
   "metadata": {
    "kernel": "R"
   },
   "source": [
    "## Data-driven prior via TEEM\n",
    "\n",
    "Currently two caveats: \n",
    "\n",
    "1. we don't have interface for bhat/sbhat so the result is based on z-score without transforming back to original scale bhat.\n",
    "2. we don't have interface for non-identity residual covariance so the result is based on assuming identity covariance, although identity covariance is indeed the oracle covariance for the residual."
   ]
  },
  {
   "cell_type": "code",
   "execution_count": 36,
   "metadata": {
    "kernel": "R"
   },
   "outputs": [],
   "source": [
    "a2 = readRDS('artificial_mixture_identity.FLASH_PC3.TEEM.rds')"
   ]
  },
  {
   "cell_type": "code",
   "execution_count": 37,
   "metadata": {
    "kernel": "R"
   },
   "outputs": [
    {
     "data": {
      "text/html": [
       "<style>\n",
       ".list-inline {list-style: none; margin:0; padding: 0}\n",
       ".list-inline>li {display: inline-block}\n",
       ".list-inline>li:not(:last-child)::after {content: \"\\00b7\"; padding: 0 .5ex}\n",
       "</style>\n",
       "<ol class=list-inline><li>'w'</li><li>'U'</li><li>'objective'</li><li>'maxd'</li></ol>\n"
      ],
      "text/latex": [
       "\\begin{enumerate*}\n",
       "\\item 'w'\n",
       "\\item 'U'\n",
       "\\item 'objective'\n",
       "\\item 'maxd'\n",
       "\\end{enumerate*}\n"
      ],
      "text/markdown": [
       "1. 'w'\n",
       "2. 'U'\n",
       "3. 'objective'\n",
       "4. 'maxd'\n",
       "\n",
       "\n"
      ],
      "text/plain": [
       "[1] \"w\"         \"U\"         \"objective\" \"maxd\"     "
      ]
     },
     "metadata": {},
     "output_type": "display_data"
    }
   ],
   "source": [
    "names(a2)"
   ]
  },
  {
   "cell_type": "code",
   "execution_count": 38,
   "metadata": {
    "kernel": "R"
   },
   "outputs": [
    {
     "data": {
      "text/html": [
       "-1514460.34911569"
      ],
      "text/latex": [
       "-1514460.34911569"
      ],
      "text/markdown": [
       "-1514460.34911569"
      ],
      "text/plain": [
       "[1] -1514460"
      ]
     },
     "metadata": {},
     "output_type": "display_data"
    }
   ],
   "source": [
    "a2$objective[length(a2$objective)]"
   ]
  },
  {
   "cell_type": "code",
   "execution_count": 39,
   "metadata": {
    "kernel": "R"
   },
   "outputs": [
    {
     "data": {
      "text/html": [
       "<style>\n",
       ".list-inline {list-style: none; margin:0; padding: 0}\n",
       ".list-inline>li {display: inline-block}\n",
       ".list-inline>li:not(:last-child)::after {content: \"\\00b7\"; padding: 0 .5ex}\n",
       "</style>\n",
       "<ol class=list-inline><li>0.000150168583502527</li><li>0.063706313615437</li><li>0.00173940219644464</li><li>2.25625779570696e-05</li><li>2.7441573335457e-05</li><li>0.0004013500687758</li><li>0.000100004694516837</li><li>0.0176210839689777</li><li>0.59431789907055</li><li>0.321461600239074</li><li>0.000452173411430355</li></ol>\n"
      ],
      "text/latex": [
       "\\begin{enumerate*}\n",
       "\\item 0.000150168583502527\n",
       "\\item 0.063706313615437\n",
       "\\item 0.00173940219644464\n",
       "\\item 2.25625779570696e-05\n",
       "\\item 2.7441573335457e-05\n",
       "\\item 0.0004013500687758\n",
       "\\item 0.000100004694516837\n",
       "\\item 0.0176210839689777\n",
       "\\item 0.59431789907055\n",
       "\\item 0.321461600239074\n",
       "\\item 0.000452173411430355\n",
       "\\end{enumerate*}\n"
      ],
      "text/markdown": [
       "1. 0.000150168583502527\n",
       "2. 0.063706313615437\n",
       "3. 0.00173940219644464\n",
       "4. 2.25625779570696e-05\n",
       "5. 2.7441573335457e-05\n",
       "6. 0.0004013500687758\n",
       "7. 0.000100004694516837\n",
       "8. 0.0176210839689777\n",
       "9. 0.59431789907055\n",
       "10. 0.321461600239074\n",
       "11. 0.000452173411430355\n",
       "\n",
       "\n"
      ],
      "text/plain": [
       " [1] 1.501686e-04 6.370631e-02 1.739402e-03 2.256258e-05 2.744157e-05\n",
       " [6] 4.013501e-04 1.000047e-04 1.762108e-02 5.943179e-01 3.214616e-01\n",
       "[11] 4.521734e-04"
      ]
     },
     "metadata": {},
     "output_type": "display_data"
    }
   ],
   "source": [
    "a2$w"
   ]
  },
  {
   "cell_type": "code",
   "execution_count": 40,
   "metadata": {
    "kernel": "R"
   },
   "outputs": [
    {
     "data": {
      "text/html": [
       "<style>\n",
       ".list-inline {list-style: none; margin:0; padding: 0}\n",
       ".list-inline>li {display: inline-block}\n",
       ".list-inline>li:not(:last-child)::after {content: \"\\00b7\"; padding: 0 .5ex}\n",
       "</style>\n",
       "<ol class=list-inline><li>'FLASH_1'</li><li>'FLASH_2'</li><li>'FLASH_3'</li><li>'FLASH_4'</li><li>'FLASH_5'</li><li>'tFLASH'</li><li>'PCA_1'</li><li>'PCA_2'</li><li>'PCA_3'</li><li>'tPCA'</li><li>'XX'</li></ol>\n"
      ],
      "text/latex": [
       "\\begin{enumerate*}\n",
       "\\item 'FLASH\\_1'\n",
       "\\item 'FLASH\\_2'\n",
       "\\item 'FLASH\\_3'\n",
       "\\item 'FLASH\\_4'\n",
       "\\item 'FLASH\\_5'\n",
       "\\item 'tFLASH'\n",
       "\\item 'PCA\\_1'\n",
       "\\item 'PCA\\_2'\n",
       "\\item 'PCA\\_3'\n",
       "\\item 'tPCA'\n",
       "\\item 'XX'\n",
       "\\end{enumerate*}\n"
      ],
      "text/markdown": [
       "1. 'FLASH_1'\n",
       "2. 'FLASH_2'\n",
       "3. 'FLASH_3'\n",
       "4. 'FLASH_4'\n",
       "5. 'FLASH_5'\n",
       "6. 'tFLASH'\n",
       "7. 'PCA_1'\n",
       "8. 'PCA_2'\n",
       "9. 'PCA_3'\n",
       "10. 'tPCA'\n",
       "11. 'XX'\n",
       "\n",
       "\n"
      ],
      "text/plain": [
       " [1] \"FLASH_1\" \"FLASH_2\" \"FLASH_3\" \"FLASH_4\" \"FLASH_5\" \"tFLASH\"  \"PCA_1\"  \n",
       " [8] \"PCA_2\"   \"PCA_3\"   \"tPCA\"    \"XX\"     "
      ]
     },
     "metadata": {},
     "output_type": "display_data"
    }
   ],
   "source": [
    "names(a2$U)[which(a2$w>tol)]"
   ]
  },
  {
   "cell_type": "markdown",
   "metadata": {
    "kernel": "R"
   },
   "source": [
    "**In TEEM since it does not preserve the rank of input, these names are not informative. Just showing how many are there compared to before.**"
   ]
  },
  {
   "cell_type": "code",
   "execution_count": 41,
   "metadata": {
    "kernel": "R"
   },
   "outputs": [],
   "source": [
    "g2 = readRDS('gtex_mixture_identity.FLASH_PC3.TEEM.rds')"
   ]
  },
  {
   "cell_type": "code",
   "execution_count": 42,
   "metadata": {
    "kernel": "R"
   },
   "outputs": [
    {
     "data": {
      "text/html": [
       "-1525155.70712717"
      ],
      "text/latex": [
       "-1525155.70712717"
      ],
      "text/markdown": [
       "-1525155.70712717"
      ],
      "text/plain": [
       "[1] -1525156"
      ]
     },
     "metadata": {},
     "output_type": "display_data"
    }
   ],
   "source": [
    "g2$objective[length(g2$objective)]"
   ]
  },
  {
   "cell_type": "code",
   "execution_count": 43,
   "metadata": {
    "kernel": "R"
   },
   "outputs": [
    {
     "data": {
      "text/html": [
       "<style>\n",
       ".list-inline {list-style: none; margin:0; padding: 0}\n",
       ".list-inline>li {display: inline-block}\n",
       ".list-inline>li:not(:last-child)::after {content: \"\\00b7\"; padding: 0 .5ex}\n",
       "</style>\n",
       "<ol class=list-inline><li>1.71955676871705e-63</li><li>1.39777288788456e-143</li><li>1.68845728397329e-142</li><li>7.84691317226551e-93</li><li>3.24486241601681e-107</li><li>1.31455241438438e-135</li><li>1.33653510640492e-138</li><li>5.87864927988118e-88</li><li>1.57715878286267e-134</li><li>2.62148379045725e-134</li><li>1.98384163132785e-132</li><li>1.19591756153686e-134</li><li>1.09691032521019e-133</li><li>2.11605318408162e-141</li><li>6.15309550806711e-125</li><li>2.0494773131503e-139</li><li>1.67913095261693e-114</li><li>5.63191011607809e-123</li><li>5.66285674684209e-139</li><li>8.03469169954033e-87</li><li>1.6871925107188e-63</li><li>1.7426880628207e-146</li><li>1.64210838312768e-146</li><li>1</li><li>9.35210690850578e-87</li></ol>\n"
      ],
      "text/latex": [
       "\\begin{enumerate*}\n",
       "\\item 1.71955676871705e-63\n",
       "\\item 1.39777288788456e-143\n",
       "\\item 1.68845728397329e-142\n",
       "\\item 7.84691317226551e-93\n",
       "\\item 3.24486241601681e-107\n",
       "\\item 1.31455241438438e-135\n",
       "\\item 1.33653510640492e-138\n",
       "\\item 5.87864927988118e-88\n",
       "\\item 1.57715878286267e-134\n",
       "\\item 2.62148379045725e-134\n",
       "\\item 1.98384163132785e-132\n",
       "\\item 1.19591756153686e-134\n",
       "\\item 1.09691032521019e-133\n",
       "\\item 2.11605318408162e-141\n",
       "\\item 6.15309550806711e-125\n",
       "\\item 2.0494773131503e-139\n",
       "\\item 1.67913095261693e-114\n",
       "\\item 5.63191011607809e-123\n",
       "\\item 5.66285674684209e-139\n",
       "\\item 8.03469169954033e-87\n",
       "\\item 1.6871925107188e-63\n",
       "\\item 1.7426880628207e-146\n",
       "\\item 1.64210838312768e-146\n",
       "\\item 1\n",
       "\\item 9.35210690850578e-87\n",
       "\\end{enumerate*}\n"
      ],
      "text/markdown": [
       "1. 1.71955676871705e-63\n",
       "2. 1.39777288788456e-143\n",
       "3. 1.68845728397329e-142\n",
       "4. 7.84691317226551e-93\n",
       "5. 3.24486241601681e-107\n",
       "6. 1.31455241438438e-135\n",
       "7. 1.33653510640492e-138\n",
       "8. 5.87864927988118e-88\n",
       "9. 1.57715878286267e-134\n",
       "10. 2.62148379045725e-134\n",
       "11. 1.98384163132785e-132\n",
       "12. 1.19591756153686e-134\n",
       "13. 1.09691032521019e-133\n",
       "14. 2.11605318408162e-141\n",
       "15. 6.15309550806711e-125\n",
       "16. 2.0494773131503e-139\n",
       "17. 1.67913095261693e-114\n",
       "18. 5.63191011607809e-123\n",
       "19. 5.66285674684209e-139\n",
       "20. 8.03469169954033e-87\n",
       "21. 1.6871925107188e-63\n",
       "22. 1.7426880628207e-146\n",
       "23. 1.64210838312768e-146\n",
       "24. 1\n",
       "25. 9.35210690850578e-87\n",
       "\n",
       "\n"
      ],
      "text/plain": [
       " [1]  1.719557e-63 1.397773e-143 1.688457e-142  7.846913e-93 3.244862e-107\n",
       " [6] 1.314552e-135 1.336535e-138  5.878649e-88 1.577159e-134 2.621484e-134\n",
       "[11] 1.983842e-132 1.195918e-134 1.096910e-133 2.116053e-141 6.153096e-125\n",
       "[16] 2.049477e-139 1.679131e-114 5.631910e-123 5.662857e-139  8.034692e-87\n",
       "[21]  1.687193e-63 1.742688e-146 1.642108e-146  1.000000e+00  9.352107e-87"
      ]
     },
     "metadata": {},
     "output_type": "display_data"
    }
   ],
   "source": [
    "g2$w"
   ]
  },
  {
   "cell_type": "code",
   "execution_count": 45,
   "metadata": {
    "kernel": "R"
   },
   "outputs": [
    {
     "data": {
      "text/html": [
       "'tPCA'"
      ],
      "text/latex": [
       "'tPCA'"
      ],
      "text/markdown": [
       "'tPCA'"
      ],
      "text/plain": [
       "[1] \"tPCA\""
      ]
     },
     "metadata": {},
     "output_type": "display_data"
    }
   ],
   "source": [
    "names(g2$U)[which(g2$w>tol)]"
   ]
  },
  {
   "cell_type": "markdown",
   "metadata": {
    "kernel": "R"
   },
   "source": [
    "** with 100% weights making it a single component.**"
   ]
  },
  {
   "cell_type": "markdown",
   "metadata": {
    "kernel": "R"
   },
   "source": [
    "## TEEM with oracle initialization\n",
    "\n",
    "Here I initialize TEEM with the true mixture prior and weights under which the true `b` (effect size) was simulated from,"
   ]
  },
  {
   "cell_type": "code",
   "execution_count": 3,
   "metadata": {
    "kernel": "R"
   },
   "outputs": [],
   "source": [
    "prior = readRDS(\"../data/prior_simulation.rds\")"
   ]
  },
  {
   "cell_type": "code",
   "execution_count": 17,
   "metadata": {
    "kernel": "R"
   },
   "outputs": [],
   "source": [
    "setwd('~/tmp/07-May-2020/')"
   ]
  },
  {
   "cell_type": "code",
   "execution_count": 10,
   "metadata": {
    "kernel": "R"
   },
   "outputs": [],
   "source": [
    "a_data = readRDS('artificial_mixture_identity.FLASH_PC3.rds')\n",
    "g_data = readRDS('gtex_mixture_identity.FLASH_PC3.rds')"
   ]
  },
  {
   "cell_type": "code",
   "execution_count": 5,
   "metadata": {
    "kernel": "R"
   },
   "outputs": [
    {
     "data": {
      "text/html": [
       "<style>\n",
       ".list-inline {list-style: none; margin:0; padding: 0}\n",
       ".list-inline>li {display: inline-block}\n",
       ".list-inline>li:not(:last-child)::after {content: \"\\00b7\"; padding: 0 .5ex}\n",
       "</style>\n",
       "<ol class=list-inline><li>'gtex_mixture'</li><li>'artificial_mixture_50'</li></ol>\n"
      ],
      "text/latex": [
       "\\begin{enumerate*}\n",
       "\\item 'gtex\\_mixture'\n",
       "\\item 'artificial\\_mixture\\_50'\n",
       "\\end{enumerate*}\n"
      ],
      "text/markdown": [
       "1. 'gtex_mixture'\n",
       "2. 'artificial_mixture_50'\n",
       "\n",
       "\n"
      ],
      "text/plain": [
       "[1] \"gtex_mixture\"          \"artificial_mixture_50\""
      ]
     },
     "metadata": {},
     "output_type": "display_data"
    }
   ],
   "source": [
    "names(prior)"
   ]
  },
  {
   "cell_type": "code",
   "execution_count": 6,
   "metadata": {
    "kernel": "R"
   },
   "outputs": [
    {
     "data": {
      "text/html": [
       "34"
      ],
      "text/latex": [
       "34"
      ],
      "text/markdown": [
       "34"
      ],
      "text/plain": [
       "[1] 34"
      ]
     },
     "metadata": {},
     "output_type": "display_data"
    }
   ],
   "source": [
    "length(prior$gtex_mixture$U)"
   ]
  },
  {
   "cell_type": "code",
   "execution_count": 7,
   "metadata": {
    "kernel": "R"
   },
   "outputs": [
    {
     "data": {
      "text/html": [
       "34"
      ],
      "text/latex": [
       "34"
      ],
      "text/markdown": [
       "34"
      ],
      "text/plain": [
       "[1] 34"
      ]
     },
     "metadata": {},
     "output_type": "display_data"
    }
   ],
   "source": [
    "length(prior$gtex_mixture$w)"
   ]
  },
  {
   "cell_type": "code",
   "execution_count": 13,
   "metadata": {
    "kernel": "R"
   },
   "outputs": [],
   "source": [
    "a_fit = mashr::teem_wrapper(a_data$mash_data, prior$artificial_mixture_50$U, w_init = prior$artificial_mixture_50$w)"
   ]
  },
  {
   "cell_type": "code",
   "execution_count": 14,
   "metadata": {
    "kernel": "R"
   },
   "outputs": [],
   "source": [
    "g_fit = mashr::teem_wrapper(g_data$mash_data, prior$gtex_mixture$U, w_init = prior$gtex_mixture$w)"
   ]
  },
  {
   "cell_type": "markdown",
   "metadata": {
    "kernel": "R"
   },
   "source": [
    "Compare the objectives with previous run using data driven initialization, loglik is higher for oracle init with GTEx based simulation, but not with the artificial simulation."
   ]
  },
  {
   "cell_type": "code",
   "execution_count": 23,
   "metadata": {
    "kernel": "R"
   },
   "outputs": [
    {
     "name": "stdout",
     "output_type": "stream",
     "text": [
      "[1] -1.514531e+06 -1.514460e+06 -7.093301e+01\n"
     ]
    }
   ],
   "source": [
    "print(c(a_fit$objective[length(a_fit$objective)], a2$objective[length(a2$objective)], a_fit$objective[length(a_fit$objective)] - a2$objective[length(a2$objective)]))"
   ]
  },
  {
   "cell_type": "code",
   "execution_count": 24,
   "metadata": {
    "kernel": "R"
   },
   "outputs": [
    {
     "name": "stdout",
     "output_type": "stream",
     "text": [
      "[1] -1521579.038 -1525155.707     3576.669\n"
     ]
    }
   ],
   "source": [
    "print(c(g_fit$objective[length(g_fit$objective)], g2$objective[length(g2$objective)], g_fit$objective[length(g_fit$objective)] - g2$objective[length(g2$objective)]))"
   ]
  },
  {
   "cell_type": "code",
   "execution_count": 46,
   "metadata": {
    "kernel": "R"
   },
   "outputs": [
    {
     "data": {
      "text/html": [
       "<style>\n",
       ".list-inline {list-style: none; margin:0; padding: 0}\n",
       ".list-inline>li {display: inline-block}\n",
       ".list-inline>li:not(:last-child)::after {content: \"\\00b7\"; padding: 0 .5ex}\n",
       "</style>\n",
       "<ol class=list-inline><li>'singleton_1'</li><li>'singleton_2'</li><li>'singleton_3'</li><li>'singleton_4'</li><li>'singleton_6'</li><li>'singleton_7'</li><li>'singleton_8'</li><li>'singleton_9'</li><li>'singleton_10'</li><li>'singleton_12'</li><li>'singleton_13'</li><li>'singleton_14'</li><li>'singleton_15'</li><li>'singleton_16'</li><li>'singleton_17'</li><li>'singleton_18'</li><li>'singleton_20'</li><li>'singleton_21'</li><li>'singleton_22'</li><li>'singleton_23'</li><li>'singleton_24'</li><li>'singleton_25'</li><li>'singleton_26'</li><li>'singleton_27'</li><li>'singleton_28'</li><li>'singleton_29'</li><li>'singleton_30'</li><li>'singleton_31'</li><li>'singleton_32'</li><li>'singleton_33'</li><li>'singleton_35'</li><li>'singleton_36'</li><li>'singleton_37'</li><li>'singleton_38'</li><li>'singleton_39'</li><li>'singleton_41'</li><li>'singleton_43'</li><li>'singleton_44'</li><li>'singleton_45'</li><li>'singleton_46'</li><li>'singleton_47'</li><li>'singleton_49'</li><li>'singleton_50'</li><li>'shared_1'</li><li>'shared_2'</li><li>'shared_3'</li><li>'shared_4'</li><li>'shared_5'</li><li>'paired_1'</li><li>'blocked_1'</li></ol>\n"
      ],
      "text/latex": [
       "\\begin{enumerate*}\n",
       "\\item 'singleton\\_1'\n",
       "\\item 'singleton\\_2'\n",
       "\\item 'singleton\\_3'\n",
       "\\item 'singleton\\_4'\n",
       "\\item 'singleton\\_6'\n",
       "\\item 'singleton\\_7'\n",
       "\\item 'singleton\\_8'\n",
       "\\item 'singleton\\_9'\n",
       "\\item 'singleton\\_10'\n",
       "\\item 'singleton\\_12'\n",
       "\\item 'singleton\\_13'\n",
       "\\item 'singleton\\_14'\n",
       "\\item 'singleton\\_15'\n",
       "\\item 'singleton\\_16'\n",
       "\\item 'singleton\\_17'\n",
       "\\item 'singleton\\_18'\n",
       "\\item 'singleton\\_20'\n",
       "\\item 'singleton\\_21'\n",
       "\\item 'singleton\\_22'\n",
       "\\item 'singleton\\_23'\n",
       "\\item 'singleton\\_24'\n",
       "\\item 'singleton\\_25'\n",
       "\\item 'singleton\\_26'\n",
       "\\item 'singleton\\_27'\n",
       "\\item 'singleton\\_28'\n",
       "\\item 'singleton\\_29'\n",
       "\\item 'singleton\\_30'\n",
       "\\item 'singleton\\_31'\n",
       "\\item 'singleton\\_32'\n",
       "\\item 'singleton\\_33'\n",
       "\\item 'singleton\\_35'\n",
       "\\item 'singleton\\_36'\n",
       "\\item 'singleton\\_37'\n",
       "\\item 'singleton\\_38'\n",
       "\\item 'singleton\\_39'\n",
       "\\item 'singleton\\_41'\n",
       "\\item 'singleton\\_43'\n",
       "\\item 'singleton\\_44'\n",
       "\\item 'singleton\\_45'\n",
       "\\item 'singleton\\_46'\n",
       "\\item 'singleton\\_47'\n",
       "\\item 'singleton\\_49'\n",
       "\\item 'singleton\\_50'\n",
       "\\item 'shared\\_1'\n",
       "\\item 'shared\\_2'\n",
       "\\item 'shared\\_3'\n",
       "\\item 'shared\\_4'\n",
       "\\item 'shared\\_5'\n",
       "\\item 'paired\\_1'\n",
       "\\item 'blocked\\_1'\n",
       "\\end{enumerate*}\n"
      ],
      "text/markdown": [
       "1. 'singleton_1'\n",
       "2. 'singleton_2'\n",
       "3. 'singleton_3'\n",
       "4. 'singleton_4'\n",
       "5. 'singleton_6'\n",
       "6. 'singleton_7'\n",
       "7. 'singleton_8'\n",
       "8. 'singleton_9'\n",
       "9. 'singleton_10'\n",
       "10. 'singleton_12'\n",
       "11. 'singleton_13'\n",
       "12. 'singleton_14'\n",
       "13. 'singleton_15'\n",
       "14. 'singleton_16'\n",
       "15. 'singleton_17'\n",
       "16. 'singleton_18'\n",
       "17. 'singleton_20'\n",
       "18. 'singleton_21'\n",
       "19. 'singleton_22'\n",
       "20. 'singleton_23'\n",
       "21. 'singleton_24'\n",
       "22. 'singleton_25'\n",
       "23. 'singleton_26'\n",
       "24. 'singleton_27'\n",
       "25. 'singleton_28'\n",
       "26. 'singleton_29'\n",
       "27. 'singleton_30'\n",
       "28. 'singleton_31'\n",
       "29. 'singleton_32'\n",
       "30. 'singleton_33'\n",
       "31. 'singleton_35'\n",
       "32. 'singleton_36'\n",
       "33. 'singleton_37'\n",
       "34. 'singleton_38'\n",
       "35. 'singleton_39'\n",
       "36. 'singleton_41'\n",
       "37. 'singleton_43'\n",
       "38. 'singleton_44'\n",
       "39. 'singleton_45'\n",
       "40. 'singleton_46'\n",
       "41. 'singleton_47'\n",
       "42. 'singleton_49'\n",
       "43. 'singleton_50'\n",
       "44. 'shared_1'\n",
       "45. 'shared_2'\n",
       "46. 'shared_3'\n",
       "47. 'shared_4'\n",
       "48. 'shared_5'\n",
       "49. 'paired_1'\n",
       "50. 'blocked_1'\n",
       "\n",
       "\n"
      ],
      "text/plain": [
       " [1] \"singleton_1\"  \"singleton_2\"  \"singleton_3\"  \"singleton_4\"  \"singleton_6\" \n",
       " [6] \"singleton_7\"  \"singleton_8\"  \"singleton_9\"  \"singleton_10\" \"singleton_12\"\n",
       "[11] \"singleton_13\" \"singleton_14\" \"singleton_15\" \"singleton_16\" \"singleton_17\"\n",
       "[16] \"singleton_18\" \"singleton_20\" \"singleton_21\" \"singleton_22\" \"singleton_23\"\n",
       "[21] \"singleton_24\" \"singleton_25\" \"singleton_26\" \"singleton_27\" \"singleton_28\"\n",
       "[26] \"singleton_29\" \"singleton_30\" \"singleton_31\" \"singleton_32\" \"singleton_33\"\n",
       "[31] \"singleton_35\" \"singleton_36\" \"singleton_37\" \"singleton_38\" \"singleton_39\"\n",
       "[36] \"singleton_41\" \"singleton_43\" \"singleton_44\" \"singleton_45\" \"singleton_46\"\n",
       "[41] \"singleton_47\" \"singleton_49\" \"singleton_50\" \"shared_1\"     \"shared_2\"    \n",
       "[46] \"shared_3\"     \"shared_4\"     \"shared_5\"     \"paired_1\"     \"blocked_1\"   "
      ]
     },
     "metadata": {},
     "output_type": "display_data"
    }
   ],
   "source": [
    "names(a_fit$U)[which(a_fit$w>tol)]"
   ]
  },
  {
   "cell_type": "code",
   "execution_count": 48,
   "metadata": {
    "kernel": "R"
   },
   "outputs": [
    {
     "data": {
      "text/html": [
       "<style>\n",
       ".list-inline {list-style: none; margin:0; padding: 0}\n",
       ".list-inline>li {display: inline-block}\n",
       ".list-inline>li:not(:last-child)::after {content: \"\\00b7\"; padding: 0 .5ex}\n",
       "</style>\n",
       "<ol class=list-inline><li>1.65374168726002e-06</li><li>2.03559896229902e-07</li><li>1.11779321992023e-07</li><li>2.34047454138079e-06</li><li>6.92496577578445e-07</li><li>6.22950539875304e-07</li><li>1.56719300468396e-07</li><li>4.79182667110522e-07</li><li>0.00250280781301374</li><li>7.51691953161936e-07</li><li>2.86284456790016e-07</li><li>1.31793245769535e-07</li><li>6.93431949172888e-08</li><li>1.85319263627321e-07</li><li>1.91405587513994e-05</li><li>6.70707865618999e-07</li><li>9.33734979340282e-08</li><li>2.65747044601569e-08</li><li>7.46126840819198e-06</li><li>1.30459137385524e-07</li><li>2.73099141544342e-07</li><li>6.81166633073959e-08</li><li>4.23663783949518e-07</li><li>1.92089497708736e-06</li><li>2.20906018233115e-06</li><li>3.57875446050413e-06</li><li>1.64351790281843e-07</li><li>1.30213206966351e-08</li><li>3.83980373693296e-07</li><li>3.89337813917774e-08</li><li>1.8882814891134e-07</li><li>4.86584240983071e-08</li><li>1.72399744096178e-07</li><li>3.27747177064877e-07</li><li>3.8521549692085e-07</li><li>4.68448756350232e-07</li><li>1.03717164960131e-07</li><li>7.58256680442448e-08</li><li>5.46292495883693e-07</li><li>6.6679370149707e-08</li><li>6.29069697539576e-06</li><li>2.95853328949598e-06</li><li>2.30045387090013e-06</li><li>0.182002182445188</li><li>0.0637563754903778</li><li>0.716203376739764</li><li>0.0348349357099656</li><li>0.000500050067876397</li><li>4.17738799640564e-05</li><li>0.000100264189718715</li></ol>\n"
      ],
      "text/latex": [
       "\\begin{enumerate*}\n",
       "\\item 1.65374168726002e-06\n",
       "\\item 2.03559896229902e-07\n",
       "\\item 1.11779321992023e-07\n",
       "\\item 2.34047454138079e-06\n",
       "\\item 6.92496577578445e-07\n",
       "\\item 6.22950539875304e-07\n",
       "\\item 1.56719300468396e-07\n",
       "\\item 4.79182667110522e-07\n",
       "\\item 0.00250280781301374\n",
       "\\item 7.51691953161936e-07\n",
       "\\item 2.86284456790016e-07\n",
       "\\item 1.31793245769535e-07\n",
       "\\item 6.93431949172888e-08\n",
       "\\item 1.85319263627321e-07\n",
       "\\item 1.91405587513994e-05\n",
       "\\item 6.70707865618999e-07\n",
       "\\item 9.33734979340282e-08\n",
       "\\item 2.65747044601569e-08\n",
       "\\item 7.46126840819198e-06\n",
       "\\item 1.30459137385524e-07\n",
       "\\item 2.73099141544342e-07\n",
       "\\item 6.81166633073959e-08\n",
       "\\item 4.23663783949518e-07\n",
       "\\item 1.92089497708736e-06\n",
       "\\item 2.20906018233115e-06\n",
       "\\item 3.57875446050413e-06\n",
       "\\item 1.64351790281843e-07\n",
       "\\item 1.30213206966351e-08\n",
       "\\item 3.83980373693296e-07\n",
       "\\item 3.89337813917774e-08\n",
       "\\item 1.8882814891134e-07\n",
       "\\item 4.86584240983071e-08\n",
       "\\item 1.72399744096178e-07\n",
       "\\item 3.27747177064877e-07\n",
       "\\item 3.8521549692085e-07\n",
       "\\item 4.68448756350232e-07\n",
       "\\item 1.03717164960131e-07\n",
       "\\item 7.58256680442448e-08\n",
       "\\item 5.46292495883693e-07\n",
       "\\item 6.6679370149707e-08\n",
       "\\item 6.29069697539576e-06\n",
       "\\item 2.95853328949598e-06\n",
       "\\item 2.30045387090013e-06\n",
       "\\item 0.182002182445188\n",
       "\\item 0.0637563754903778\n",
       "\\item 0.716203376739764\n",
       "\\item 0.0348349357099656\n",
       "\\item 0.000500050067876397\n",
       "\\item 4.17738799640564e-05\n",
       "\\item 0.000100264189718715\n",
       "\\end{enumerate*}\n"
      ],
      "text/markdown": [
       "1. 1.65374168726002e-06\n",
       "2. 2.03559896229902e-07\n",
       "3. 1.11779321992023e-07\n",
       "4. 2.34047454138079e-06\n",
       "5. 6.92496577578445e-07\n",
       "6. 6.22950539875304e-07\n",
       "7. 1.56719300468396e-07\n",
       "8. 4.79182667110522e-07\n",
       "9. 0.00250280781301374\n",
       "10. 7.51691953161936e-07\n",
       "11. 2.86284456790016e-07\n",
       "12. 1.31793245769535e-07\n",
       "13. 6.93431949172888e-08\n",
       "14. 1.85319263627321e-07\n",
       "15. 1.91405587513994e-05\n",
       "16. 6.70707865618999e-07\n",
       "17. 9.33734979340282e-08\n",
       "18. 2.65747044601569e-08\n",
       "19. 7.46126840819198e-06\n",
       "20. 1.30459137385524e-07\n",
       "21. 2.73099141544342e-07\n",
       "22. 6.81166633073959e-08\n",
       "23. 4.23663783949518e-07\n",
       "24. 1.92089497708736e-06\n",
       "25. 2.20906018233115e-06\n",
       "26. 3.57875446050413e-06\n",
       "27. 1.64351790281843e-07\n",
       "28. 1.30213206966351e-08\n",
       "29. 3.83980373693296e-07\n",
       "30. 3.89337813917774e-08\n",
       "31. 1.8882814891134e-07\n",
       "32. 4.86584240983071e-08\n",
       "33. 1.72399744096178e-07\n",
       "34. 3.27747177064877e-07\n",
       "35. 3.8521549692085e-07\n",
       "36. 4.68448756350232e-07\n",
       "37. 1.03717164960131e-07\n",
       "38. 7.58256680442448e-08\n",
       "39. 5.46292495883693e-07\n",
       "40. 6.6679370149707e-08\n",
       "41. 6.29069697539576e-06\n",
       "42. 2.95853328949598e-06\n",
       "43. 2.30045387090013e-06\n",
       "44. 0.182002182445188\n",
       "45. 0.0637563754903778\n",
       "46. 0.716203376739764\n",
       "47. 0.0348349357099656\n",
       "48. 0.000500050067876397\n",
       "49. 4.17738799640564e-05\n",
       "50. 0.000100264189718715\n",
       "\n",
       "\n"
      ],
      "text/plain": [
       " [1] 1.653742e-06 2.035599e-07 1.117793e-07 2.340475e-06 6.924966e-07\n",
       " [6] 6.229505e-07 1.567193e-07 4.791827e-07 2.502808e-03 7.516920e-07\n",
       "[11] 2.862845e-07 1.317932e-07 6.934319e-08 1.853193e-07 1.914056e-05\n",
       "[16] 6.707079e-07 9.337350e-08 2.657470e-08 7.461268e-06 1.304591e-07\n",
       "[21] 2.730991e-07 6.811666e-08 4.236638e-07 1.920895e-06 2.209060e-06\n",
       "[26] 3.578754e-06 1.643518e-07 1.302132e-08 3.839804e-07 3.893378e-08\n",
       "[31] 1.888281e-07 4.865842e-08 1.723997e-07 3.277472e-07 3.852155e-07\n",
       "[36] 4.684488e-07 1.037172e-07 7.582567e-08 5.462925e-07 6.667937e-08\n",
       "[41] 6.290697e-06 2.958533e-06 2.300454e-06 1.820022e-01 6.375638e-02\n",
       "[46] 7.162034e-01 3.483494e-02 5.000501e-04 4.177388e-05 1.002642e-04"
      ]
     },
     "metadata": {},
     "output_type": "display_data"
    }
   ],
   "source": [
    "a_fit$w[which(a_fit$w>tol)]"
   ]
  },
  {
   "cell_type": "code",
   "execution_count": 47,
   "metadata": {
    "kernel": "R"
   },
   "outputs": [
    {
     "data": {
      "text/html": [
       "<style>\n",
       ".list-inline {list-style: none; margin:0; padding: 0}\n",
       ".list-inline>li {display: inline-block}\n",
       ".list-inline>li:not(:last-child)::after {content: \"\\00b7\"; padding: 0 .5ex}\n",
       "</style>\n",
       "<ol class=list-inline><li>'ED_tFLASH'</li><li>'ED_tPCA'</li><li>'ED_XX'</li><li>'equal_effects'</li><li>'simple_het_2'</li><li>'simple_het_3'</li></ol>\n"
      ],
      "text/latex": [
       "\\begin{enumerate*}\n",
       "\\item 'ED\\_tFLASH'\n",
       "\\item 'ED\\_tPCA'\n",
       "\\item 'ED\\_XX'\n",
       "\\item 'equal\\_effects'\n",
       "\\item 'simple\\_het\\_2'\n",
       "\\item 'simple\\_het\\_3'\n",
       "\\end{enumerate*}\n"
      ],
      "text/markdown": [
       "1. 'ED_tFLASH'\n",
       "2. 'ED_tPCA'\n",
       "3. 'ED_XX'\n",
       "4. 'equal_effects'\n",
       "5. 'simple_het_2'\n",
       "6. 'simple_het_3'\n",
       "\n",
       "\n"
      ],
      "text/plain": [
       "[1] \"ED_tFLASH\"     \"ED_tPCA\"       \"ED_XX\"         \"equal_effects\"\n",
       "[5] \"simple_het_2\"  \"simple_het_3\" "
      ]
     },
     "metadata": {},
     "output_type": "display_data"
    }
   ],
   "source": [
    "names(g_fit$U)[which(g_fit$w>tol)]"
   ]
  },
  {
   "cell_type": "code",
   "execution_count": 49,
   "metadata": {
    "kernel": "R"
   },
   "outputs": [
    {
     "data": {
      "text/html": [
       "<style>\n",
       ".list-inline {list-style: none; margin:0; padding: 0}\n",
       ".list-inline>li {display: inline-block}\n",
       ".list-inline>li:not(:last-child)::after {content: \"\\00b7\"; padding: 0 .5ex}\n",
       "</style>\n",
       "<ol class=list-inline><li>5.00032351801603e-05</li><li>5.00025001249668e-05</li><li>0.895430427201832</li><li>0.104369562062606</li><li>5.00022492857371e-05</li><li>5.00025001290434e-05</li></ol>\n"
      ],
      "text/latex": [
       "\\begin{enumerate*}\n",
       "\\item 5.00032351801603e-05\n",
       "\\item 5.00025001249668e-05\n",
       "\\item 0.895430427201832\n",
       "\\item 0.104369562062606\n",
       "\\item 5.00022492857371e-05\n",
       "\\item 5.00025001290434e-05\n",
       "\\end{enumerate*}\n"
      ],
      "text/markdown": [
       "1. 5.00032351801603e-05\n",
       "2. 5.00025001249668e-05\n",
       "3. 0.895430427201832\n",
       "4. 0.104369562062606\n",
       "5. 5.00022492857371e-05\n",
       "6. 5.00025001290434e-05\n",
       "\n",
       "\n"
      ],
      "text/plain": [
       "[1] 5.000324e-05 5.000250e-05 8.954304e-01 1.043696e-01 5.000225e-05\n",
       "[6] 5.000250e-05"
      ]
     },
     "metadata": {},
     "output_type": "display_data"
    }
   ],
   "source": [
    "g_fit$w[which(g_fit$w>tol)]"
   ]
  }
 ],
 "metadata": {
  "kernelspec": {
   "display_name": "SoS",
   "language": "sos",
   "name": "sos"
  },
  "language_info": {
   "codemirror_mode": "sos",
   "file_extension": ".sos",
   "mimetype": "text/x-sos",
   "name": "sos",
   "nbconvert_exporter": "sos_notebook.converter.SoS_Exporter",
   "pygments_lexer": "sos"
  },
  "sos": {
   "kernels": [
    [
     "R",
     "ir",
     "R",
     "#DCDCDA",
     "r"
    ],
    [
     "SoS",
     "sos",
     "",
     "",
     "sos"
    ]
   ],
   "version": "0.21.7"
  }
 },
 "nbformat": 4,
 "nbformat_minor": 4
}
