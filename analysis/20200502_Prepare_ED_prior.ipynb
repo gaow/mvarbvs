{
 "cells": [
  {
   "cell_type": "markdown",
   "metadata": {
    "kernel": "SoS"
   },
   "source": [
    "# Multivariate EBNM based prior for M&M\n",
    "\n",
    "Here for the simulation benchmark we prepare mixture prior based on a mulrivariate Emperical Bayes Normal Mean model (previously we use Extreme Deconvolution for the task)."
   ]
  },
  {
   "cell_type": "markdown",
   "metadata": {
    "kernel": "SoS"
   },
   "source": [
    "## Approach"
   ]
  },
  {
   "cell_type": "markdown",
   "metadata": {
    "kernel": "SoS"
   },
   "source": [
    "Here is the analysis plan:\n",
    "\n",
    "1. Identify up to 20K genes where there is complete phenotype data to make a good / realistic residual variance estimate via FLASH\n",
    "2. Simulate 20K data under my phenotypic models (the latest DSC benchmark setting) and generate sumstats for them ; bhat and sbhat\n",
    "3. For each data-set, take the strongest gene-snp pair as the strong set\n",
    "4. Also select from each data-set perhaps 4 \"random\" gene-snp pair.\n",
    "5. then try to run your estimate of Vhat to get Vhat first, and run Yunqi / Peter's ED\n",
    "\n",
    "In GTEx we have >35K genes. The reason we want to try using 20K is that 20K seems to have enough information learning about the pattern of sharing between conditions. \n",
    "\n",
    "But we \"cheat\" a bit by simulating under identity residual variance for all genes, and fit EBNM assuming residual variance is identity, too; or just estimating a global residual variance. This makes the problem easier. Because in practice residual can be different (though maybe similar!) for different genes.\n",
    "\n",
    "So the simplified plan is to only do 2~5 with 2 using just identity matrix for residual variance."
   ]
  },
  {
   "cell_type": "markdown",
   "metadata": {
    "kernel": "SoS"
   },
   "source": [
    "## Workflow"
   ]
  },
  {
   "cell_type": "code",
   "execution_count": null,
   "metadata": {
    "kernel": "SoS"
   },
   "outputs": [],
   "source": [
    "[global]\n",
    "parameter: cwd = path('/project2/mstephens/gaow/mvarbvs/dsc/mnm_prototype/mnm_sumstats')\n",
    "parameter: model = 'artificial_mixture_identity' # 'gtex_mixture_identity'\n",
    "parameter: per_chunk = 200\n",
    "import glob"
   ]
  },
  {
   "cell_type": "code",
   "execution_count": 1,
   "metadata": {
    "kernel": "SoS"
   },
   "outputs": [
    {
     "name": "stdout",
     "output_type": "stream",
     "text": [
      "/project2/mstephens/gaow/mvarbvs/dsc/mnm_prototype/mnm_sumstats"
     ]
    }
   ],
   "source": [
    "%cd /project2/mstephens/gaow/mvarbvs/dsc/mnm_prototype/mnm_sumstats"
   ]
  },
  {
   "cell_type": "markdown",
   "metadata": {
    "kernel": "SoS"
   },
   "source": [
    "### Get top gene-SNP and random gene-SNP pairs per gene"
   ]
  },
  {
   "cell_type": "code",
   "execution_count": 31,
   "metadata": {
    "kernel": "SoS"
   },
   "outputs": [],
   "source": [
    "# extract data for MAHS from summary stats\n",
    "[extract_1]\n",
    "parameter: seed = 999\n",
    "parameter: n_random = 4\n",
    "input: glob.glob(f'{cwd}/{model}/*.rds'), group_by = per_chunk\n",
    "output: f\"{cwd}/{model}/cache/{model}_{_index+1}.rds\"\n",
    "task: trunk_workers = 1, walltime = '1h', trunk_size = 1, mem = '4G', cores = 1, tags = f'{_output:bn}'\n",
    "R: expand = \"${ }\"\n",
    "    set.seed(${seed})\n",
    "    matxMax <- function(mtx) {\n",
    "        max_idx <- which.max(mtx)\n",
    "        colmn <- max_idx %/% nrow(mtx) + 1\n",
    "        row <- max_idx %% nrow(mtx)\n",
    "        return( matrix(c(row, colmn), 1))\n",
    "    }\n",
    "    remove_rownames = function(x) {\n",
    "        for (name in names(x)) rownames(x[[name]]) = NULL\n",
    "        return(x)\n",
    "    }\n",
    "    extract_one_data = function(infile, n_random) {\n",
    "        # If cannot read the input for some reason then let it go. I dont care losing one.\n",
    "        dat = tryCatch(readRDS(infile)$sumstats, error = function(e) return(NULL))\n",
    "        if (is.null(dat)) return(NULL)\n",
    "        z = abs(dat$bhat/dat$sbhat)\n",
    "        max_idx = matxMax(z)\n",
    "        strong = list(bhat = dat$bhat[max_idx[1],,drop=F], sbhat = dat$sbhat[max_idx[1],,drop=F])\n",
    "        if (max_idx[1] == 1) {\n",
    "            sample_idx = 2:nrow(z)\n",
    "        } else if (max_idx[1] == nrow(z)) {\n",
    "            sample_idx = 1:(max_idx[1]-1)\n",
    "        } else {\n",
    "            sample_idx = c(1:(max_idx[1]-1), (max_idx[1]+1):nrow(z))\n",
    "        }\n",
    "        random_idx = sample(sample_idx, n_random, replace = T)\n",
    "        random = list(bhat = dat$bhat[random_idx,,drop=F], sbhat = dat$sbhat[random_idx,,drop=F])\n",
    "        return(list(random = remove_rownames(random),  strong = remove_rownames(strong)))\n",
    "    }\n",
    "    merge_data = function(res, one_data) {\n",
    "      if (length(res) == 0) {\n",
    "          return(one_data)\n",
    "      } else if (is.null(one_data)) {\n",
    "          return(res)\n",
    "      } else {\n",
    "          for (d in names(one_data)) {\n",
    "              for (s in names(one_data[[d]])) {\n",
    "                  res[[d]][[s]] = rbind(res[[d]][[s]], one_data[[d]][[s]])\n",
    "              }\n",
    "          }\n",
    "          return(res)\n",
    "      }\n",
    "    }\n",
    "    res = list()\n",
    "    for (f in c(${_input:r,})) {\n",
    "      res = merge_data(res, extract_one_data(f, ${n_random}))\n",
    "    }\n",
    "    saveRDS(res, ${_output:r})\n",
    "  \n",
    "[extract_2]\n",
    "input: group_by = \"all\"\n",
    "output: f\"{cwd}/{model}.rds\"\n",
    "task: trunk_workers = 1, walltime = '1h', trunk_size = 1, mem = '4G', cores = 1, tags = f'{_output:bn}'\n",
    "R: expand = \"${ }\"\n",
    "    merge_data = function(res, one_data) {\n",
    "      if (length(res) == 0) {\n",
    "          return(one_data)\n",
    "      } else {\n",
    "          for (d in names(one_data)) {\n",
    "              for (s in names(one_data[[d]])) {\n",
    "                  res[[d]][[s]] = rbind(res[[d]][[s]], one_data[[d]][[s]])\n",
    "              }\n",
    "          }\n",
    "          return(res)\n",
    "      }\n",
    "    }\n",
    "    dat = list()\n",
    "    for (f in c(${_input:r,})) {\n",
    "      dat = merge_data(dat, readRDS(f))\n",
    "    }\n",
    "    # make output consistent in format with \n",
    "    # https://github.com/stephenslab/gtexresults/blob/master/workflows/mashr_flashr_workflow.ipynb\n",
    "    saveRDS(\n",
    "          list(random.z = dat$random$bhat/dat$random$sbhat,\n",
    "           strong.z = dat$strong$bhat/dat$strong$sbhat, \n",
    "           random.b = dat$random$bhat,\n",
    "           strong.b = dat$strong$bhat,\n",
    "           random.s = dat$random$sbhat,\n",
    "           strong.s = dat$strong$sbhat),\n",
    "          ${_output:r})"
   ]
  },
  {
   "cell_type": "markdown",
   "metadata": {
    "kernel": "SoS"
   },
   "source": [
    "To run it:\n",
    "\n",
    "```\n",
    "for m in artificial_mixture_identity gtex_mixture_identity; do \n",
    "    sos run analysis/20200502_Prepare_ED_prior.ipynb extract --model $m -c midway2.yml -q midway2\n",
    "done\n",
    "```"
   ]
  },
  {
   "cell_type": "markdown",
   "metadata": {
    "kernel": "SoS"
   },
   "source": [
    "## Run extreme deconvolution using `mashr`"
   ]
  },
  {
   "cell_type": "markdown",
   "metadata": {
    "kernel": "R"
   },
   "source": [
    "Before this, we need to run the following to generate FLASH mixture,\n",
    "\n",
    "```\n",
    "for m in artificial_mixture_identity gtex_mixture_identity; do\n",
    "sos run ~/GIT/gtexresults/workflows/mashr_flashr_workflow.ipynb flash \\\n",
    "    --cwd /project2/mstephens/gaow/mvarbvs/dsc/mnm_prototype/mnm_sumstats/ \\\n",
    "    --data /project2/mstephens/gaow/mvarbvs/dsc/mnm_prototype/mnm_sumstats/$m.rds \\\n",
    "    --effect-model EE\n",
    "done\n",
    "```\n",
    "\n",
    "We will use `simple` method to compute the residual variance, as implemented in the pipeline below."
   ]
  },
  {
   "cell_type": "code",
   "execution_count": null,
   "metadata": {
    "kernel": "SoS"
   },
   "outputs": [],
   "source": [
    "[ed_1, teem_1]\n",
    "depends: R_library(\"mashr\")\n",
    "parameter: npc = 3\n",
    "input: f\"{cwd}/{model}.rds\", f\"{cwd}/{model}.EE.flash.rds\"\n",
    "output: f\"{cwd}/{model}.FLASH_PC{npc}.rds\"\n",
    "R: expand = \"${ }\", workdir = cwd, stderr = f\"{_output:n}.stderr\", stdout = f\"{_output:n}.stdout\"\n",
    "    library(mashr)\n",
    "    dat = readRDS(${_input[0]:r})\n",
    "    dat$random.s[which(dat$random.b == 0 & dat$random.s == 0)] = 1E3\n",
    "    vhat = estimate_null_correlation_simple(mash_set_data(dat$random.b, Shat=dat$random.s))\n",
    "    mash_data = mash_set_data(dat$strong.b, Shat=dat$strong.s, alpha=0, V=vhat)\n",
    "    # FLASH matrices\n",
    "    U.flash = readRDS(${_input[1]:r})\n",
    "    # SVD matrices\n",
    "    U.pca = ${\"cov_pca(mash_data, %s)\" % npc if npc > 0 else \"list()\"}\n",
    "    # Emperical cov matrix\n",
    "    X.center = apply(mash_data$Bhat, 2, function(x) x - mean(x))\n",
    "    Ulist = c(U.flash, U.pca, list(\"XX\" = t(X.center) %*% X.center / nrow(X.center)))\n",
    "    saveRDS(list(mash_data = mash_data, Ulist = Ulist), ${_output:r})"
   ]
  },
  {
   "cell_type": "code",
   "execution_count": null,
   "metadata": {
    "kernel": "SoS"
   },
   "outputs": [],
   "source": [
    "[ed_2]\n",
    "output: f\"{_input:n}.ED.rds\"\n",
    "task: trunk_workers = 1, walltime = '36h', trunk_size = 1, mem = '4G', cores = 4, tags = f'{_output:bn}'\n",
    "R: expand = \"${ }\", workdir = cwd, stderr = f\"{_output:n}.stderr\", stdout = f\"{_output:n}.stdout\"\n",
    "    library(mashr)\n",
    "    dat = readRDS(${_input:r})\n",
    "    # Denoised data-driven matrices\n",
    "    res = bovy_wrapper(dat$mash_data, dat$Ulist, logfile=${_output:nr}, tol = 5e-06)\n",
    "    # format to input for simulation with DSC (current pipeline)\n",
    "    saveRDS(list(U=res$Ulist, w=res$pi, loglik=scan(\"${_output:n}.ED_loglike.log\")), ${_output:r}) "
   ]
  },
  {
   "cell_type": "code",
   "execution_count": null,
   "metadata": {
    "kernel": "SoS"
   },
   "outputs": [],
   "source": [
    "[teem_2]\n",
    "output: f\"{_input:n}.TEEM.rds\"\n",
    "task: trunk_workers = 1, walltime = '1h', trunk_size = 1, mem = '4G', cores = 1, tags = f'{_output:bn}'\n",
    "R: expand = \"${ }\", workdir = cwd, stderr = f\"{_output:n}.stderr\", stdout = f\"{_output:n}.stdout\"\n",
    "    library(mashr)\n",
    "    dat = readRDS(${_input:r})\n",
    "    # Denoised data-driven matrices\n",
    "    res = teem_wrapper(dat$mash_data, dat$Ulist)\n",
    "    saveRDS(res, ${_output:r})   "
   ]
  },
  {
   "cell_type": "markdown",
   "metadata": {
    "kernel": "SoS"
   },
   "source": [
    "```\n",
    "sos run analysis/20200502_Prepare_ED_prior.ipynb ed --model artificial_mixture_identity -c midway2.yml -q midway2\n",
    "sos run analysis/20200502_Prepare_ED_prior.ipynb ed --model gtex_mixture_identity -c midway2.yml -q midway2\n",
    "sos run analysis/20200502_Prepare_ED_prior.ipynb teem --model artificial_mixture_identity -c midway2.yml -q midway2\n",
    "sos run analysis/20200502_Prepare_ED_prior.ipynb teem --model gtex_mixture_identity -c midway2.yml -q midway2\n",
    "```\n",
    "\n",
    "It takes many hours to run ED (almost a day) but only a few minutes to run TEEM. In fact TEEM on `gtex_mixture` based data converged in a second."
   ]
  },
  {
   "cell_type": "code",
   "execution_count": 1,
   "metadata": {
    "kernel": "SoS"
   },
   "outputs": [
    {
     "name": "stdout",
     "output_type": "stream",
     "text": [
      "/home/gw/tmp/07-May-2020"
     ]
    }
   ],
   "source": [
    "%cd ~/tmp/07-May-2020"
   ]
  },
  {
   "cell_type": "markdown",
   "metadata": {
    "kernel": "SoS"
   },
   "source": [
    "## Data-driven prior via ED\n",
    "\n",
    "For the artifically simulated mixture,"
   ]
  },
  {
   "cell_type": "code",
   "execution_count": 2,
   "metadata": {
    "kernel": "R"
   },
   "outputs": [],
   "source": [
    "a1 = readRDS('artificial_mixture_identity.FLASH_PC3.ED.rds')"
   ]
  },
  {
   "cell_type": "code",
   "execution_count": 3,
   "metadata": {
    "kernel": "R"
   },
   "outputs": [
    {
     "data": {
      "text/html": [
       "<style>\n",
       ".list-inline {list-style: none; margin:0; padding: 0}\n",
       ".list-inline>li {display: inline-block}\n",
       ".list-inline>li:not(:last-child)::after {content: \"\\00b7\"; padding: 0 .5ex}\n",
       "</style>\n",
       "<ol class=list-inline><li>'U'</li><li>'w'</li><li>'loglik'</li></ol>\n"
      ],
      "text/latex": [
       "\\begin{enumerate*}\n",
       "\\item 'U'\n",
       "\\item 'w'\n",
       "\\item 'loglik'\n",
       "\\end{enumerate*}\n"
      ],
      "text/markdown": [
       "1. 'U'\n",
       "2. 'w'\n",
       "3. 'loglik'\n",
       "\n",
       "\n"
      ],
      "text/plain": [
       "[1] \"U\"      \"w\"      \"loglik\""
      ]
     },
     "metadata": {},
     "output_type": "display_data"
    }
   ],
   "source": [
    "names(a1)"
   ]
  },
  {
   "cell_type": "code",
   "execution_count": 4,
   "metadata": {
    "kernel": "R"
   },
   "outputs": [
    {
     "data": {
      "text/html": [
       "95.40111"
      ],
      "text/latex": [
       "95.40111"
      ],
      "text/markdown": [
       "95.40111"
      ],
      "text/plain": [
       "[1] 95.40111"
      ]
     },
     "metadata": {},
     "output_type": "display_data"
    }
   ],
   "source": [
    "a1$loglik[length(a1$loglik)]"
   ]
  },
  {
   "cell_type": "code",
   "execution_count": 5,
   "metadata": {
    "kernel": "R"
   },
   "outputs": [
    {
     "data": {
      "text/html": [
       "<style>\n",
       ".list-inline {list-style: none; margin:0; padding: 0}\n",
       ".list-inline>li {display: inline-block}\n",
       ".list-inline>li:not(:last-child)::after {content: \"\\00b7\"; padding: 0 .5ex}\n",
       "</style>\n",
       "<ol class=list-inline><li>0</li><li>0</li><li>0</li><li>0</li><li>0</li><li>0.898314146466091</li><li>0</li><li>0</li><li>0.000648316043920725</li><li>0.0637063706095047</li><li>0.0373311668804688</li></ol>\n"
      ],
      "text/latex": [
       "\\begin{enumerate*}\n",
       "\\item 0\n",
       "\\item 0\n",
       "\\item 0\n",
       "\\item 0\n",
       "\\item 0\n",
       "\\item 0.898314146466091\n",
       "\\item 0\n",
       "\\item 0\n",
       "\\item 0.000648316043920725\n",
       "\\item 0.0637063706095047\n",
       "\\item 0.0373311668804688\n",
       "\\end{enumerate*}\n"
      ],
      "text/markdown": [
       "1. 0\n",
       "2. 0\n",
       "3. 0\n",
       "4. 0\n",
       "5. 0\n",
       "6. 0.898314146466091\n",
       "7. 0\n",
       "8. 0\n",
       "9. 0.000648316043920725\n",
       "10. 0.0637063706095047\n",
       "11. 0.0373311668804688\n",
       "\n",
       "\n"
      ],
      "text/plain": [
       " [1] 0.000000000 0.000000000 0.000000000 0.000000000 0.000000000 0.898314146\n",
       " [7] 0.000000000 0.000000000 0.000648316 0.063706371 0.037331167"
      ]
     },
     "metadata": {},
     "output_type": "display_data"
    }
   ],
   "source": [
    "a1$w"
   ]
  },
  {
   "cell_type": "code",
   "execution_count": 6,
   "metadata": {
    "kernel": "R"
   },
   "outputs": [
    {
     "data": {
      "text/html": [
       "<style>\n",
       ".list-inline {list-style: none; margin:0; padding: 0}\n",
       ".list-inline>li {display: inline-block}\n",
       ".list-inline>li:not(:last-child)::after {content: \"\\00b7\"; padding: 0 .5ex}\n",
       "</style>\n",
       "<ol class=list-inline><li>'tFLASH'</li><li>'PCA_3'</li><li>'tPCA'</li><li>'XX'</li></ol>\n"
      ],
      "text/latex": [
       "\\begin{enumerate*}\n",
       "\\item 'tFLASH'\n",
       "\\item 'PCA\\_3'\n",
       "\\item 'tPCA'\n",
       "\\item 'XX'\n",
       "\\end{enumerate*}\n"
      ],
      "text/markdown": [
       "1. 'tFLASH'\n",
       "2. 'PCA_3'\n",
       "3. 'tPCA'\n",
       "4. 'XX'\n",
       "\n",
       "\n"
      ],
      "text/plain": [
       "[1] \"tFLASH\" \"PCA_3\"  \"tPCA\"   \"XX\"    "
      ]
     },
     "metadata": {},
     "output_type": "display_data"
    }
   ],
   "source": [
    "names(a1$U)[which(a1$w>0.0001)]"
   ]
  },
  {
   "cell_type": "markdown",
   "metadata": {
    "kernel": "R"
   },
   "source": [
    "The component with strongest weight is `tFLASH`. `tPCA` and the empirical covariance (`XX`) also have some weights."
   ]
  },
  {
   "cell_type": "markdown",
   "metadata": {
    "kernel": "R"
   },
   "source": [
    "For mixture simulated based on GTEx V8 ED matrices,"
   ]
  },
  {
   "cell_type": "code",
   "execution_count": 7,
   "metadata": {
    "kernel": "R"
   },
   "outputs": [],
   "source": [
    "g1 = readRDS('gtex_mixture_identity.FLASH_PC3.ED.rds')"
   ]
  },
  {
   "cell_type": "code",
   "execution_count": 8,
   "metadata": {
    "kernel": "R"
   },
   "outputs": [
    {
     "data": {
      "text/html": [
       "109.608395"
      ],
      "text/latex": [
       "109.608395"
      ],
      "text/markdown": [
       "109.608395"
      ],
      "text/plain": [
       "[1] 109.6084"
      ]
     },
     "metadata": {},
     "output_type": "display_data"
    }
   ],
   "source": [
    "g1$loglik[length(g1$loglik)]"
   ]
  },
  {
   "cell_type": "code",
   "execution_count": 9,
   "metadata": {
    "kernel": "R"
   },
   "outputs": [
    {
     "data": {
      "text/html": [
       "<style>\n",
       ".list-inline {list-style: none; margin:0; padding: 0}\n",
       ".list-inline>li {display: inline-block}\n",
       ".list-inline>li:not(:last-child)::after {content: \"\\00b7\"; padding: 0 .5ex}\n",
       "</style>\n",
       "<ol class=list-inline><li>4.20166971058565e-10</li><li>0</li><li>0</li><li>0</li><li>0</li><li>0</li><li>0</li><li>0</li><li>0</li><li>0</li><li>0</li><li>0</li><li>0</li><li>0</li><li>0</li><li>0</li><li>0</li><li>0</li><li>0</li><li>0.032953661814357</li><li>9.41047531858211e-06</li><li>0</li><li>0</li><li>0.966986560055189</li><li>5.03672349327372e-05</li></ol>\n"
      ],
      "text/latex": [
       "\\begin{enumerate*}\n",
       "\\item 4.20166971058565e-10\n",
       "\\item 0\n",
       "\\item 0\n",
       "\\item 0\n",
       "\\item 0\n",
       "\\item 0\n",
       "\\item 0\n",
       "\\item 0\n",
       "\\item 0\n",
       "\\item 0\n",
       "\\item 0\n",
       "\\item 0\n",
       "\\item 0\n",
       "\\item 0\n",
       "\\item 0\n",
       "\\item 0\n",
       "\\item 0\n",
       "\\item 0\n",
       "\\item 0\n",
       "\\item 0.032953661814357\n",
       "\\item 9.41047531858211e-06\n",
       "\\item 0\n",
       "\\item 0\n",
       "\\item 0.966986560055189\n",
       "\\item 5.03672349327372e-05\n",
       "\\end{enumerate*}\n"
      ],
      "text/markdown": [
       "1. 4.20166971058565e-10\n",
       "2. 0\n",
       "3. 0\n",
       "4. 0\n",
       "5. 0\n",
       "6. 0\n",
       "7. 0\n",
       "8. 0\n",
       "9. 0\n",
       "10. 0\n",
       "11. 0\n",
       "12. 0\n",
       "13. 0\n",
       "14. 0\n",
       "15. 0\n",
       "16. 0\n",
       "17. 0\n",
       "18. 0\n",
       "19. 0\n",
       "20. 0.032953661814357\n",
       "21. 9.41047531858211e-06\n",
       "22. 0\n",
       "23. 0\n",
       "24. 0.966986560055189\n",
       "25. 5.03672349327372e-05\n",
       "\n",
       "\n"
      ],
      "text/plain": [
       " [1] 4.201670e-10 0.000000e+00 0.000000e+00 0.000000e+00 0.000000e+00\n",
       " [6] 0.000000e+00 0.000000e+00 0.000000e+00 0.000000e+00 0.000000e+00\n",
       "[11] 0.000000e+00 0.000000e+00 0.000000e+00 0.000000e+00 0.000000e+00\n",
       "[16] 0.000000e+00 0.000000e+00 0.000000e+00 0.000000e+00 3.295366e-02\n",
       "[21] 9.410475e-06 0.000000e+00 0.000000e+00 9.669866e-01 5.036723e-05"
      ]
     },
     "metadata": {},
     "output_type": "display_data"
    }
   ],
   "source": [
    "g1$w"
   ]
  },
  {
   "cell_type": "code",
   "execution_count": 10,
   "metadata": {
    "kernel": "R"
   },
   "outputs": [
    {
     "data": {
      "text/html": [
       "<style>\n",
       ".list-inline {list-style: none; margin:0; padding: 0}\n",
       ".list-inline>li {display: inline-block}\n",
       ".list-inline>li:not(:last-child)::after {content: \"\\00b7\"; padding: 0 .5ex}\n",
       "</style>\n",
       "<ol class=list-inline><li>'tFLASH'</li><li>'tPCA'</li></ol>\n"
      ],
      "text/latex": [
       "\\begin{enumerate*}\n",
       "\\item 'tFLASH'\n",
       "\\item 'tPCA'\n",
       "\\end{enumerate*}\n"
      ],
      "text/markdown": [
       "1. 'tFLASH'\n",
       "2. 'tPCA'\n",
       "\n",
       "\n"
      ],
      "text/plain": [
       "[1] \"tFLASH\" \"tPCA\"  "
      ]
     },
     "metadata": {},
     "output_type": "display_data"
    }
   ],
   "source": [
    "names(g1$U)[which(g1$w>0.0001)]"
   ]
  },
  {
   "cell_type": "markdown",
   "metadata": {
    "kernel": "R"
   },
   "source": [
    "Again, most weights are on `tFLASH` and `tPCA`. Only this time `tPCA` seems to have more weights than `tFLASH`."
   ]
  },
  {
   "cell_type": "markdown",
   "metadata": {
    "kernel": "R"
   },
   "source": [
    "## Data-driven prior via TEEM\n",
    "\n",
    "Currently two caveats: \n",
    "\n",
    "1. we don't have interface for bhat/sbhat so the result is based on z-score without transforming back to original scale bhat.\n",
    "2. we don't have interface for non-identity residual covariance so the result is based on assuming identity covariance, although identity covariance is indeed the oracle covariance for the residual."
   ]
  },
  {
   "cell_type": "code",
   "execution_count": 11,
   "metadata": {
    "kernel": "R"
   },
   "outputs": [],
   "source": [
    "a2 = readRDS('artificial_mixture_identity.FLASH_PC3.TEEM.rds')"
   ]
  },
  {
   "cell_type": "code",
   "execution_count": 12,
   "metadata": {
    "kernel": "R"
   },
   "outputs": [
    {
     "data": {
      "text/html": [
       "<style>\n",
       ".list-inline {list-style: none; margin:0; padding: 0}\n",
       ".list-inline>li {display: inline-block}\n",
       ".list-inline>li:not(:last-child)::after {content: \"\\00b7\"; padding: 0 .5ex}\n",
       "</style>\n",
       "<ol class=list-inline><li>'w'</li><li>'U'</li><li>'objective'</li><li>'maxd'</li></ol>\n"
      ],
      "text/latex": [
       "\\begin{enumerate*}\n",
       "\\item 'w'\n",
       "\\item 'U'\n",
       "\\item 'objective'\n",
       "\\item 'maxd'\n",
       "\\end{enumerate*}\n"
      ],
      "text/markdown": [
       "1. 'w'\n",
       "2. 'U'\n",
       "3. 'objective'\n",
       "4. 'maxd'\n",
       "\n",
       "\n"
      ],
      "text/plain": [
       "[1] \"w\"         \"U\"         \"objective\" \"maxd\"     "
      ]
     },
     "metadata": {},
     "output_type": "display_data"
    }
   ],
   "source": [
    "names(a2)"
   ]
  },
  {
   "cell_type": "code",
   "execution_count": 13,
   "metadata": {
    "kernel": "R"
   },
   "outputs": [
    {
     "data": {
      "text/html": [
       "-1514460.34911569"
      ],
      "text/latex": [
       "-1514460.34911569"
      ],
      "text/markdown": [
       "-1514460.34911569"
      ],
      "text/plain": [
       "[1] -1514460"
      ]
     },
     "metadata": {},
     "output_type": "display_data"
    }
   ],
   "source": [
    "a2$objective[length(a2$objective)]"
   ]
  },
  {
   "cell_type": "code",
   "execution_count": 14,
   "metadata": {
    "kernel": "R"
   },
   "outputs": [
    {
     "data": {
      "text/html": [
       "<style>\n",
       ".list-inline {list-style: none; margin:0; padding: 0}\n",
       ".list-inline>li {display: inline-block}\n",
       ".list-inline>li:not(:last-child)::after {content: \"\\00b7\"; padding: 0 .5ex}\n",
       "</style>\n",
       "<ol class=list-inline><li>0.000150168583502527</li><li>0.063706313615437</li><li>0.00173940219644464</li><li>2.25625779570696e-05</li><li>2.7441573335457e-05</li><li>0.0004013500687758</li><li>0.000100004694516837</li><li>0.0176210839689777</li><li>0.59431789907055</li><li>0.321461600239074</li><li>0.000452173411430355</li></ol>\n"
      ],
      "text/latex": [
       "\\begin{enumerate*}\n",
       "\\item 0.000150168583502527\n",
       "\\item 0.063706313615437\n",
       "\\item 0.00173940219644464\n",
       "\\item 2.25625779570696e-05\n",
       "\\item 2.7441573335457e-05\n",
       "\\item 0.0004013500687758\n",
       "\\item 0.000100004694516837\n",
       "\\item 0.0176210839689777\n",
       "\\item 0.59431789907055\n",
       "\\item 0.321461600239074\n",
       "\\item 0.000452173411430355\n",
       "\\end{enumerate*}\n"
      ],
      "text/markdown": [
       "1. 0.000150168583502527\n",
       "2. 0.063706313615437\n",
       "3. 0.00173940219644464\n",
       "4. 2.25625779570696e-05\n",
       "5. 2.7441573335457e-05\n",
       "6. 0.0004013500687758\n",
       "7. 0.000100004694516837\n",
       "8. 0.0176210839689777\n",
       "9. 0.59431789907055\n",
       "10. 0.321461600239074\n",
       "11. 0.000452173411430355\n",
       "\n",
       "\n"
      ],
      "text/plain": [
       " [1] 1.501686e-04 6.370631e-02 1.739402e-03 2.256258e-05 2.744157e-05\n",
       " [6] 4.013501e-04 1.000047e-04 1.762108e-02 5.943179e-01 3.214616e-01\n",
       "[11] 4.521734e-04"
      ]
     },
     "metadata": {},
     "output_type": "display_data"
    }
   ],
   "source": [
    "a2$w"
   ]
  },
  {
   "cell_type": "code",
   "execution_count": 15,
   "metadata": {
    "kernel": "R"
   },
   "outputs": [
    {
     "data": {
      "text/html": [
       "<style>\n",
       ".list-inline {list-style: none; margin:0; padding: 0}\n",
       ".list-inline>li {display: inline-block}\n",
       ".list-inline>li:not(:last-child)::after {content: \"\\00b7\"; padding: 0 .5ex}\n",
       "</style>\n",
       "<ol class=list-inline><li>'FLASH_1'</li><li>'FLASH_2'</li><li>'FLASH_3'</li><li>'tFLASH'</li><li>'PCA_1'</li><li>'PCA_2'</li><li>'PCA_3'</li><li>'tPCA'</li><li>'XX'</li></ol>\n"
      ],
      "text/latex": [
       "\\begin{enumerate*}\n",
       "\\item 'FLASH\\_1'\n",
       "\\item 'FLASH\\_2'\n",
       "\\item 'FLASH\\_3'\n",
       "\\item 'tFLASH'\n",
       "\\item 'PCA\\_1'\n",
       "\\item 'PCA\\_2'\n",
       "\\item 'PCA\\_3'\n",
       "\\item 'tPCA'\n",
       "\\item 'XX'\n",
       "\\end{enumerate*}\n"
      ],
      "text/markdown": [
       "1. 'FLASH_1'\n",
       "2. 'FLASH_2'\n",
       "3. 'FLASH_3'\n",
       "4. 'tFLASH'\n",
       "5. 'PCA_1'\n",
       "6. 'PCA_2'\n",
       "7. 'PCA_3'\n",
       "8. 'tPCA'\n",
       "9. 'XX'\n",
       "\n",
       "\n"
      ],
      "text/plain": [
       "[1] \"FLASH_1\" \"FLASH_2\" \"FLASH_3\" \"tFLASH\"  \"PCA_1\"   \"PCA_2\"   \"PCA_3\"  \n",
       "[8] \"tPCA\"    \"XX\"     "
      ]
     },
     "metadata": {},
     "output_type": "display_data"
    }
   ],
   "source": [
    "names(a2$U)[which(a2$w>0.0001)]"
   ]
  },
  {
   "cell_type": "markdown",
   "metadata": {
    "kernel": "R"
   },
   "source": [
    "**Different from ED results, most weights here are on `PCA_3` and `tPCA`, and not `tFLASH` and `XX`.**"
   ]
  },
  {
   "cell_type": "code",
   "execution_count": 16,
   "metadata": {
    "kernel": "R"
   },
   "outputs": [],
   "source": [
    "g2 = readRDS('gtex_mixture_identity.FLASH_PC3.TEEM.rds')"
   ]
  },
  {
   "cell_type": "code",
   "execution_count": 17,
   "metadata": {
    "kernel": "R"
   },
   "outputs": [
    {
     "data": {
      "text/html": [
       "-1525155.70712717"
      ],
      "text/latex": [
       "-1525155.70712717"
      ],
      "text/markdown": [
       "-1525155.70712717"
      ],
      "text/plain": [
       "[1] -1525156"
      ]
     },
     "metadata": {},
     "output_type": "display_data"
    }
   ],
   "source": [
    "g2$objective[length(g2$objective)]"
   ]
  },
  {
   "cell_type": "code",
   "execution_count": 18,
   "metadata": {
    "kernel": "R"
   },
   "outputs": [
    {
     "data": {
      "text/html": [
       "<style>\n",
       ".list-inline {list-style: none; margin:0; padding: 0}\n",
       ".list-inline>li {display: inline-block}\n",
       ".list-inline>li:not(:last-child)::after {content: \"\\00b7\"; padding: 0 .5ex}\n",
       "</style>\n",
       "<ol class=list-inline><li>1.71955676871705e-63</li><li>1.39777288788456e-143</li><li>1.68845728397329e-142</li><li>7.84691317226551e-93</li><li>3.24486241601681e-107</li><li>1.31455241438438e-135</li><li>1.33653510640492e-138</li><li>5.87864927988118e-88</li><li>1.57715878286267e-134</li><li>2.62148379045725e-134</li><li>1.98384163132785e-132</li><li>1.19591756153686e-134</li><li>1.09691032521019e-133</li><li>2.11605318408162e-141</li><li>6.15309550806711e-125</li><li>2.0494773131503e-139</li><li>1.67913095261693e-114</li><li>5.63191011607809e-123</li><li>5.66285674684209e-139</li><li>8.03469169954033e-87</li><li>1.6871925107188e-63</li><li>1.7426880628207e-146</li><li>1.64210838312768e-146</li><li>1</li><li>9.35210690850578e-87</li></ol>\n"
      ],
      "text/latex": [
       "\\begin{enumerate*}\n",
       "\\item 1.71955676871705e-63\n",
       "\\item 1.39777288788456e-143\n",
       "\\item 1.68845728397329e-142\n",
       "\\item 7.84691317226551e-93\n",
       "\\item 3.24486241601681e-107\n",
       "\\item 1.31455241438438e-135\n",
       "\\item 1.33653510640492e-138\n",
       "\\item 5.87864927988118e-88\n",
       "\\item 1.57715878286267e-134\n",
       "\\item 2.62148379045725e-134\n",
       "\\item 1.98384163132785e-132\n",
       "\\item 1.19591756153686e-134\n",
       "\\item 1.09691032521019e-133\n",
       "\\item 2.11605318408162e-141\n",
       "\\item 6.15309550806711e-125\n",
       "\\item 2.0494773131503e-139\n",
       "\\item 1.67913095261693e-114\n",
       "\\item 5.63191011607809e-123\n",
       "\\item 5.66285674684209e-139\n",
       "\\item 8.03469169954033e-87\n",
       "\\item 1.6871925107188e-63\n",
       "\\item 1.7426880628207e-146\n",
       "\\item 1.64210838312768e-146\n",
       "\\item 1\n",
       "\\item 9.35210690850578e-87\n",
       "\\end{enumerate*}\n"
      ],
      "text/markdown": [
       "1. 1.71955676871705e-63\n",
       "2. 1.39777288788456e-143\n",
       "3. 1.68845728397329e-142\n",
       "4. 7.84691317226551e-93\n",
       "5. 3.24486241601681e-107\n",
       "6. 1.31455241438438e-135\n",
       "7. 1.33653510640492e-138\n",
       "8. 5.87864927988118e-88\n",
       "9. 1.57715878286267e-134\n",
       "10. 2.62148379045725e-134\n",
       "11. 1.98384163132785e-132\n",
       "12. 1.19591756153686e-134\n",
       "13. 1.09691032521019e-133\n",
       "14. 2.11605318408162e-141\n",
       "15. 6.15309550806711e-125\n",
       "16. 2.0494773131503e-139\n",
       "17. 1.67913095261693e-114\n",
       "18. 5.63191011607809e-123\n",
       "19. 5.66285674684209e-139\n",
       "20. 8.03469169954033e-87\n",
       "21. 1.6871925107188e-63\n",
       "22. 1.7426880628207e-146\n",
       "23. 1.64210838312768e-146\n",
       "24. 1\n",
       "25. 9.35210690850578e-87\n",
       "\n",
       "\n"
      ],
      "text/plain": [
       " [1]  1.719557e-63 1.397773e-143 1.688457e-142  7.846913e-93 3.244862e-107\n",
       " [6] 1.314552e-135 1.336535e-138  5.878649e-88 1.577159e-134 2.621484e-134\n",
       "[11] 1.983842e-132 1.195918e-134 1.096910e-133 2.116053e-141 6.153096e-125\n",
       "[16] 2.049477e-139 1.679131e-114 5.631910e-123 5.662857e-139  8.034692e-87\n",
       "[21]  1.687193e-63 1.742688e-146 1.642108e-146  1.000000e+00  9.352107e-87"
      ]
     },
     "metadata": {},
     "output_type": "display_data"
    }
   ],
   "source": [
    "g2$w"
   ]
  },
  {
   "cell_type": "code",
   "execution_count": 19,
   "metadata": {
    "kernel": "R"
   },
   "outputs": [
    {
     "data": {
      "text/html": [
       "'tPCA'"
      ],
      "text/latex": [
       "'tPCA'"
      ],
      "text/markdown": [
       "'tPCA'"
      ],
      "text/plain": [
       "[1] \"tPCA\""
      ]
     },
     "metadata": {},
     "output_type": "display_data"
    }
   ],
   "source": [
    "names(g2$U)[which(g2$w>0.0001)]"
   ]
  },
  {
   "cell_type": "markdown",
   "metadata": {
    "kernel": "R"
   },
   "source": [
    "**In ED result, `tPCA` gets 96% weights and `tFLASH` 3%. Here `tPCA` gets 100% weights.**"
   ]
  }
 ],
 "metadata": {
  "kernelspec": {
   "display_name": "SoS",
   "language": "sos",
   "name": "sos"
  },
  "language_info": {
   "codemirror_mode": "sos",
   "file_extension": ".sos",
   "mimetype": "text/x-sos",
   "name": "sos",
   "nbconvert_exporter": "sos_notebook.converter.SoS_Exporter",
   "pygments_lexer": "sos"
  },
  "sos": {
   "kernels": [
    [
     "R",
     "ir",
     "R",
     "#DCDCDA",
     "r"
    ],
    [
     "SoS",
     "sos",
     "",
     "",
     "sos"
    ]
   ],
   "version": "0.21.7"
  }
 },
 "nbformat": 4,
 "nbformat_minor": 4
}
