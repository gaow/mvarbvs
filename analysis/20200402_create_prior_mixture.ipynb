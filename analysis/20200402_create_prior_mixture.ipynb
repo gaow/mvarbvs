{
 "cells": [
  {
   "cell_type": "markdown",
   "metadata": {},
   "source": [
    "# Create prior mixture for simulation studies\n",
    "\n",
    "This notebook contains scripts to create mixture prior for use with simulations in DSC."
   ]
  },
  {
   "cell_type": "markdown",
   "metadata": {},
   "source": [
    "## Artificial structure\n",
    "\n",
    "Here I'm going to make for 50 conditions patterns of covariate with \n",
    "1. canonical\n",
    "2. paired sharing eg a pair of tissues\n",
    "3. block sharing eg brain"
   ]
  },
  {
   "cell_type": "markdown",
   "metadata": {},
   "source": [
    "Canonical patterns of sharing:"
   ]
  },
  {
   "cell_type": "code",
   "execution_count": 1,
   "metadata": {},
   "outputs": [],
   "source": [
    "R=50\n",
    "prior = mmbr:::create_cov_canonical(R)"
   ]
  },
  {
   "cell_type": "markdown",
   "metadata": {},
   "source": [
    "Paired sharing:"
   ]
  },
  {
   "cell_type": "code",
   "execution_count": 2,
   "metadata": {},
   "outputs": [],
   "source": [
    "paired = matrix(0,R,R)\n",
    "paired[1:2,1:2] = 1\n",
    "prior[['paired_1']] = paired"
   ]
  },
  {
   "cell_type": "markdown",
   "metadata": {},
   "source": [
    "Block sharing:"
   ]
  },
  {
   "cell_type": "code",
   "execution_count": 3,
   "metadata": {},
   "outputs": [],
   "source": [
    "block = matrix(0,R,R)\n",
    "block[1:R/2, 1:R/2] = 1\n",
    "block[(R/2+1):R, (R/2+1):R] = 1\n",
    "prior[['blocked_1']] = block"
   ]
  },
  {
   "cell_type": "code",
   "execution_count": 4,
   "metadata": {},
   "outputs": [
    {
     "data": {
      "text/html": [
       "<style>\n",
       ".list-inline {list-style: none; margin:0; padding: 0}\n",
       ".list-inline>li {display: inline-block}\n",
       ".list-inline>li:not(:last-child)::after {content: \"\\00b7\"; padding: 0 .5ex}\n",
       "</style>\n",
       "<ol class=list-inline><li>'singleton_1'</li><li>'singleton_2'</li><li>'singleton_3'</li><li>'singleton_4'</li><li>'singleton_5'</li><li>'singleton_6'</li><li>'singleton_7'</li><li>'singleton_8'</li><li>'singleton_9'</li><li>'singleton_10'</li><li>'singleton_11'</li><li>'singleton_12'</li><li>'singleton_13'</li><li>'singleton_14'</li><li>'singleton_15'</li><li>'singleton_16'</li><li>'singleton_17'</li><li>'singleton_18'</li><li>'singleton_19'</li><li>'singleton_20'</li><li>'singleton_21'</li><li>'singleton_22'</li><li>'singleton_23'</li><li>'singleton_24'</li><li>'singleton_25'</li><li>'singleton_26'</li><li>'singleton_27'</li><li>'singleton_28'</li><li>'singleton_29'</li><li>'singleton_30'</li><li>'singleton_31'</li><li>'singleton_32'</li><li>'singleton_33'</li><li>'singleton_34'</li><li>'singleton_35'</li><li>'singleton_36'</li><li>'singleton_37'</li><li>'singleton_38'</li><li>'singleton_39'</li><li>'singleton_40'</li><li>'singleton_41'</li><li>'singleton_42'</li><li>'singleton_43'</li><li>'singleton_44'</li><li>'singleton_45'</li><li>'singleton_46'</li><li>'singleton_47'</li><li>'singleton_48'</li><li>'singleton_49'</li><li>'singleton_50'</li><li>'shared_1'</li><li>'shared_2'</li><li>'shared_3'</li><li>'shared_4'</li><li>'shared_5'</li><li>'paired_1'</li><li>'blocked_1'</li></ol>\n"
      ],
      "text/latex": [
       "\\begin{enumerate*}\n",
       "\\item 'singleton\\_1'\n",
       "\\item 'singleton\\_2'\n",
       "\\item 'singleton\\_3'\n",
       "\\item 'singleton\\_4'\n",
       "\\item 'singleton\\_5'\n",
       "\\item 'singleton\\_6'\n",
       "\\item 'singleton\\_7'\n",
       "\\item 'singleton\\_8'\n",
       "\\item 'singleton\\_9'\n",
       "\\item 'singleton\\_10'\n",
       "\\item 'singleton\\_11'\n",
       "\\item 'singleton\\_12'\n",
       "\\item 'singleton\\_13'\n",
       "\\item 'singleton\\_14'\n",
       "\\item 'singleton\\_15'\n",
       "\\item 'singleton\\_16'\n",
       "\\item 'singleton\\_17'\n",
       "\\item 'singleton\\_18'\n",
       "\\item 'singleton\\_19'\n",
       "\\item 'singleton\\_20'\n",
       "\\item 'singleton\\_21'\n",
       "\\item 'singleton\\_22'\n",
       "\\item 'singleton\\_23'\n",
       "\\item 'singleton\\_24'\n",
       "\\item 'singleton\\_25'\n",
       "\\item 'singleton\\_26'\n",
       "\\item 'singleton\\_27'\n",
       "\\item 'singleton\\_28'\n",
       "\\item 'singleton\\_29'\n",
       "\\item 'singleton\\_30'\n",
       "\\item 'singleton\\_31'\n",
       "\\item 'singleton\\_32'\n",
       "\\item 'singleton\\_33'\n",
       "\\item 'singleton\\_34'\n",
       "\\item 'singleton\\_35'\n",
       "\\item 'singleton\\_36'\n",
       "\\item 'singleton\\_37'\n",
       "\\item 'singleton\\_38'\n",
       "\\item 'singleton\\_39'\n",
       "\\item 'singleton\\_40'\n",
       "\\item 'singleton\\_41'\n",
       "\\item 'singleton\\_42'\n",
       "\\item 'singleton\\_43'\n",
       "\\item 'singleton\\_44'\n",
       "\\item 'singleton\\_45'\n",
       "\\item 'singleton\\_46'\n",
       "\\item 'singleton\\_47'\n",
       "\\item 'singleton\\_48'\n",
       "\\item 'singleton\\_49'\n",
       "\\item 'singleton\\_50'\n",
       "\\item 'shared\\_1'\n",
       "\\item 'shared\\_2'\n",
       "\\item 'shared\\_3'\n",
       "\\item 'shared\\_4'\n",
       "\\item 'shared\\_5'\n",
       "\\item 'paired\\_1'\n",
       "\\item 'blocked\\_1'\n",
       "\\end{enumerate*}\n"
      ],
      "text/markdown": [
       "1. 'singleton_1'\n",
       "2. 'singleton_2'\n",
       "3. 'singleton_3'\n",
       "4. 'singleton_4'\n",
       "5. 'singleton_5'\n",
       "6. 'singleton_6'\n",
       "7. 'singleton_7'\n",
       "8. 'singleton_8'\n",
       "9. 'singleton_9'\n",
       "10. 'singleton_10'\n",
       "11. 'singleton_11'\n",
       "12. 'singleton_12'\n",
       "13. 'singleton_13'\n",
       "14. 'singleton_14'\n",
       "15. 'singleton_15'\n",
       "16. 'singleton_16'\n",
       "17. 'singleton_17'\n",
       "18. 'singleton_18'\n",
       "19. 'singleton_19'\n",
       "20. 'singleton_20'\n",
       "21. 'singleton_21'\n",
       "22. 'singleton_22'\n",
       "23. 'singleton_23'\n",
       "24. 'singleton_24'\n",
       "25. 'singleton_25'\n",
       "26. 'singleton_26'\n",
       "27. 'singleton_27'\n",
       "28. 'singleton_28'\n",
       "29. 'singleton_29'\n",
       "30. 'singleton_30'\n",
       "31. 'singleton_31'\n",
       "32. 'singleton_32'\n",
       "33. 'singleton_33'\n",
       "34. 'singleton_34'\n",
       "35. 'singleton_35'\n",
       "36. 'singleton_36'\n",
       "37. 'singleton_37'\n",
       "38. 'singleton_38'\n",
       "39. 'singleton_39'\n",
       "40. 'singleton_40'\n",
       "41. 'singleton_41'\n",
       "42. 'singleton_42'\n",
       "43. 'singleton_43'\n",
       "44. 'singleton_44'\n",
       "45. 'singleton_45'\n",
       "46. 'singleton_46'\n",
       "47. 'singleton_47'\n",
       "48. 'singleton_48'\n",
       "49. 'singleton_49'\n",
       "50. 'singleton_50'\n",
       "51. 'shared_1'\n",
       "52. 'shared_2'\n",
       "53. 'shared_3'\n",
       "54. 'shared_4'\n",
       "55. 'shared_5'\n",
       "56. 'paired_1'\n",
       "57. 'blocked_1'\n",
       "\n",
       "\n"
      ],
      "text/plain": [
       " [1] \"singleton_1\"  \"singleton_2\"  \"singleton_3\"  \"singleton_4\"  \"singleton_5\" \n",
       " [6] \"singleton_6\"  \"singleton_7\"  \"singleton_8\"  \"singleton_9\"  \"singleton_10\"\n",
       "[11] \"singleton_11\" \"singleton_12\" \"singleton_13\" \"singleton_14\" \"singleton_15\"\n",
       "[16] \"singleton_16\" \"singleton_17\" \"singleton_18\" \"singleton_19\" \"singleton_20\"\n",
       "[21] \"singleton_21\" \"singleton_22\" \"singleton_23\" \"singleton_24\" \"singleton_25\"\n",
       "[26] \"singleton_26\" \"singleton_27\" \"singleton_28\" \"singleton_29\" \"singleton_30\"\n",
       "[31] \"singleton_31\" \"singleton_32\" \"singleton_33\" \"singleton_34\" \"singleton_35\"\n",
       "[36] \"singleton_36\" \"singleton_37\" \"singleton_38\" \"singleton_39\" \"singleton_40\"\n",
       "[41] \"singleton_41\" \"singleton_42\" \"singleton_43\" \"singleton_44\" \"singleton_45\"\n",
       "[46] \"singleton_46\" \"singleton_47\" \"singleton_48\" \"singleton_49\" \"singleton_50\"\n",
       "[51] \"shared_1\"     \"shared_2\"     \"shared_3\"     \"shared_4\"     \"shared_5\"    \n",
       "[56] \"paired_1\"     \"blocked_1\"   "
      ]
     },
     "metadata": {},
     "output_type": "display_data"
    }
   ],
   "source": [
    "names(prior)"
   ]
  },
  {
   "cell_type": "markdown",
   "metadata": {},
   "source": [
    "Now assign some weights:\n",
    "\n",
    "1. singleton total 35%\n",
    "    - singleton_1 has 10% (to be picked up later by ED methods)\n",
    "    - singleton_2 to singleton_26 has 25% (1% each )\n",
    "2. shared total 25%\n",
    "3. paired 20% (hopefully picked up by ED methods)\n",
    "4. blocked 20% (hopefully picked up by ED methods)"
   ]
  },
  {
   "cell_type": "code",
   "execution_count": 5,
   "metadata": {},
   "outputs": [],
   "source": [
    "w = c(0.1, rep(0.01,25), rep(0, 24), rep(0.25/5,5), 0.2, 0.2)"
   ]
  },
  {
   "cell_type": "code",
   "execution_count": 6,
   "metadata": {},
   "outputs": [
    {
     "data": {
      "text/html": [
       "1"
      ],
      "text/latex": [
       "1"
      ],
      "text/markdown": [
       "1"
      ],
      "text/plain": [
       "[1] 1"
      ]
     },
     "metadata": {},
     "output_type": "display_data"
    }
   ],
   "source": [
    "sum(w)"
   ]
  },
  {
   "cell_type": "code",
   "execution_count": 7,
   "metadata": {},
   "outputs": [],
   "source": [
    "prior = prior[which(w>0)]"
   ]
  },
  {
   "cell_type": "code",
   "execution_count": 8,
   "metadata": {},
   "outputs": [
    {
     "data": {
      "text/html": [
       "<style>\n",
       ".list-inline {list-style: none; margin:0; padding: 0}\n",
       ".list-inline>li {display: inline-block}\n",
       ".list-inline>li:not(:last-child)::after {content: \"\\00b7\"; padding: 0 .5ex}\n",
       "</style>\n",
       "<ol class=list-inline><li>'singleton_1'</li><li>'singleton_2'</li><li>'singleton_3'</li><li>'singleton_4'</li><li>'singleton_5'</li><li>'singleton_6'</li><li>'singleton_7'</li><li>'singleton_8'</li><li>'singleton_9'</li><li>'singleton_10'</li><li>'singleton_11'</li><li>'singleton_12'</li><li>'singleton_13'</li><li>'singleton_14'</li><li>'singleton_15'</li><li>'singleton_16'</li><li>'singleton_17'</li><li>'singleton_18'</li><li>'singleton_19'</li><li>'singleton_20'</li><li>'singleton_21'</li><li>'singleton_22'</li><li>'singleton_23'</li><li>'singleton_24'</li><li>'singleton_25'</li><li>'singleton_26'</li><li>'shared_1'</li><li>'shared_2'</li><li>'shared_3'</li><li>'shared_4'</li><li>'shared_5'</li><li>'paired_1'</li><li>'blocked_1'</li></ol>\n"
      ],
      "text/latex": [
       "\\begin{enumerate*}\n",
       "\\item 'singleton\\_1'\n",
       "\\item 'singleton\\_2'\n",
       "\\item 'singleton\\_3'\n",
       "\\item 'singleton\\_4'\n",
       "\\item 'singleton\\_5'\n",
       "\\item 'singleton\\_6'\n",
       "\\item 'singleton\\_7'\n",
       "\\item 'singleton\\_8'\n",
       "\\item 'singleton\\_9'\n",
       "\\item 'singleton\\_10'\n",
       "\\item 'singleton\\_11'\n",
       "\\item 'singleton\\_12'\n",
       "\\item 'singleton\\_13'\n",
       "\\item 'singleton\\_14'\n",
       "\\item 'singleton\\_15'\n",
       "\\item 'singleton\\_16'\n",
       "\\item 'singleton\\_17'\n",
       "\\item 'singleton\\_18'\n",
       "\\item 'singleton\\_19'\n",
       "\\item 'singleton\\_20'\n",
       "\\item 'singleton\\_21'\n",
       "\\item 'singleton\\_22'\n",
       "\\item 'singleton\\_23'\n",
       "\\item 'singleton\\_24'\n",
       "\\item 'singleton\\_25'\n",
       "\\item 'singleton\\_26'\n",
       "\\item 'shared\\_1'\n",
       "\\item 'shared\\_2'\n",
       "\\item 'shared\\_3'\n",
       "\\item 'shared\\_4'\n",
       "\\item 'shared\\_5'\n",
       "\\item 'paired\\_1'\n",
       "\\item 'blocked\\_1'\n",
       "\\end{enumerate*}\n"
      ],
      "text/markdown": [
       "1. 'singleton_1'\n",
       "2. 'singleton_2'\n",
       "3. 'singleton_3'\n",
       "4. 'singleton_4'\n",
       "5. 'singleton_5'\n",
       "6. 'singleton_6'\n",
       "7. 'singleton_7'\n",
       "8. 'singleton_8'\n",
       "9. 'singleton_9'\n",
       "10. 'singleton_10'\n",
       "11. 'singleton_11'\n",
       "12. 'singleton_12'\n",
       "13. 'singleton_13'\n",
       "14. 'singleton_14'\n",
       "15. 'singleton_15'\n",
       "16. 'singleton_16'\n",
       "17. 'singleton_17'\n",
       "18. 'singleton_18'\n",
       "19. 'singleton_19'\n",
       "20. 'singleton_20'\n",
       "21. 'singleton_21'\n",
       "22. 'singleton_22'\n",
       "23. 'singleton_23'\n",
       "24. 'singleton_24'\n",
       "25. 'singleton_25'\n",
       "26. 'singleton_26'\n",
       "27. 'shared_1'\n",
       "28. 'shared_2'\n",
       "29. 'shared_3'\n",
       "30. 'shared_4'\n",
       "31. 'shared_5'\n",
       "32. 'paired_1'\n",
       "33. 'blocked_1'\n",
       "\n",
       "\n"
      ],
      "text/plain": [
       " [1] \"singleton_1\"  \"singleton_2\"  \"singleton_3\"  \"singleton_4\"  \"singleton_5\" \n",
       " [6] \"singleton_6\"  \"singleton_7\"  \"singleton_8\"  \"singleton_9\"  \"singleton_10\"\n",
       "[11] \"singleton_11\" \"singleton_12\" \"singleton_13\" \"singleton_14\" \"singleton_15\"\n",
       "[16] \"singleton_16\" \"singleton_17\" \"singleton_18\" \"singleton_19\" \"singleton_20\"\n",
       "[21] \"singleton_21\" \"singleton_22\" \"singleton_23\" \"singleton_24\" \"singleton_25\"\n",
       "[26] \"singleton_26\" \"shared_1\"     \"shared_2\"     \"shared_3\"     \"shared_4\"    \n",
       "[31] \"shared_5\"     \"paired_1\"     \"blocked_1\"   "
      ]
     },
     "metadata": {},
     "output_type": "display_data"
    }
   ],
   "source": [
    "names(prior)"
   ]
  },
  {
   "cell_type": "code",
   "execution_count": 9,
   "metadata": {},
   "outputs": [],
   "source": [
    "artificial_mixture_50 = list(U=prior,w=w)"
   ]
  },
  {
   "cell_type": "markdown",
   "metadata": {},
   "source": [
    "## Mixture from GTEx\n",
    "\n",
    "Using [this workflow](https://github.com/stephenslab/gtexresults/blob/master/workflows/gtex6_mash_analysis.ipynb),"
   ]
  },
  {
   "cell_type": "code",
   "execution_count": 10,
   "metadata": {},
   "outputs": [],
   "source": [
    "prior = readRDS('../data/FastQTLSumStats.mash.FL_PC3.rds')"
   ]
  },
  {
   "cell_type": "code",
   "execution_count": 11,
   "metadata": {},
   "outputs": [
    {
     "data": {
      "text/html": [
       "<style>\n",
       ".list-inline {list-style: none; margin:0; padding: 0}\n",
       ".list-inline>li {display: inline-block}\n",
       ".list-inline>li:not(:last-child)::after {content: \"\\00b7\"; padding: 0 .5ex}\n",
       "</style>\n",
       "<ol class=list-inline><li>'ED_FLASH_1'</li><li>'ED_FLASH_2'</li><li>'ED_FLASH_3'</li><li>'ED_FLASH_4'</li><li>'ED_FLASH_5'</li><li>'ED_FLASH_6'</li><li>'ED_FLASH_7'</li><li>'ED_FLASH_8'</li><li>'ED_FLASH_9'</li><li>'ED_FLASH_10'</li><li>'ED_FLASH_11'</li><li>'ED_FLASH_12'</li><li>'ED_FLASH_13'</li><li>'ED_FLASH_14'</li><li>'ED_FLASH_15'</li><li>'ED_FLASH_16'</li><li>'ED_FLASH_17'</li><li>'ED_FLASH_18'</li><li>'ED_FLASH_19'</li><li>'ED_FLASH_20'</li><li>'ED_FLASH_21'</li><li>'ED_FLASH_22'</li><li>'ED_FLASH_23'</li><li>'ED_tFLASH'</li><li>'ED_PCA_1'</li><li>'ED_PCA_2'</li><li>'ED_PCA_3'</li><li>'ED_tPCA'</li><li>'ED_XX'</li><li>'identity'</li></ol>\n"
      ],
      "text/latex": [
       "\\begin{enumerate*}\n",
       "\\item 'ED\\_FLASH\\_1'\n",
       "\\item 'ED\\_FLASH\\_2'\n",
       "\\item 'ED\\_FLASH\\_3'\n",
       "\\item 'ED\\_FLASH\\_4'\n",
       "\\item 'ED\\_FLASH\\_5'\n",
       "\\item 'ED\\_FLASH\\_6'\n",
       "\\item 'ED\\_FLASH\\_7'\n",
       "\\item 'ED\\_FLASH\\_8'\n",
       "\\item 'ED\\_FLASH\\_9'\n",
       "\\item 'ED\\_FLASH\\_10'\n",
       "\\item 'ED\\_FLASH\\_11'\n",
       "\\item 'ED\\_FLASH\\_12'\n",
       "\\item 'ED\\_FLASH\\_13'\n",
       "\\item 'ED\\_FLASH\\_14'\n",
       "\\item 'ED\\_FLASH\\_15'\n",
       "\\item 'ED\\_FLASH\\_16'\n",
       "\\item 'ED\\_FLASH\\_17'\n",
       "\\item 'ED\\_FLASH\\_18'\n",
       "\\item 'ED\\_FLASH\\_19'\n",
       "\\item 'ED\\_FLASH\\_20'\n",
       "\\item 'ED\\_FLASH\\_21'\n",
       "\\item 'ED\\_FLASH\\_22'\n",
       "\\item 'ED\\_FLASH\\_23'\n",
       "\\item 'ED\\_tFLASH'\n",
       "\\item 'ED\\_PCA\\_1'\n",
       "\\item 'ED\\_PCA\\_2'\n",
       "\\item 'ED\\_PCA\\_3'\n",
       "\\item 'ED\\_tPCA'\n",
       "\\item 'ED\\_XX'\n",
       "\\item 'identity'\n",
       "\\end{enumerate*}\n"
      ],
      "text/markdown": [
       "1. 'ED_FLASH_1'\n",
       "2. 'ED_FLASH_2'\n",
       "3. 'ED_FLASH_3'\n",
       "4. 'ED_FLASH_4'\n",
       "5. 'ED_FLASH_5'\n",
       "6. 'ED_FLASH_6'\n",
       "7. 'ED_FLASH_7'\n",
       "8. 'ED_FLASH_8'\n",
       "9. 'ED_FLASH_9'\n",
       "10. 'ED_FLASH_10'\n",
       "11. 'ED_FLASH_11'\n",
       "12. 'ED_FLASH_12'\n",
       "13. 'ED_FLASH_13'\n",
       "14. 'ED_FLASH_14'\n",
       "15. 'ED_FLASH_15'\n",
       "16. 'ED_FLASH_16'\n",
       "17. 'ED_FLASH_17'\n",
       "18. 'ED_FLASH_18'\n",
       "19. 'ED_FLASH_19'\n",
       "20. 'ED_FLASH_20'\n",
       "21. 'ED_FLASH_21'\n",
       "22. 'ED_FLASH_22'\n",
       "23. 'ED_FLASH_23'\n",
       "24. 'ED_tFLASH'\n",
       "25. 'ED_PCA_1'\n",
       "26. 'ED_PCA_2'\n",
       "27. 'ED_PCA_3'\n",
       "28. 'ED_tPCA'\n",
       "29. 'ED_XX'\n",
       "30. 'identity'\n",
       "\n",
       "\n"
      ],
      "text/plain": [
       " [1] \"ED_FLASH_1\"  \"ED_FLASH_2\"  \"ED_FLASH_3\"  \"ED_FLASH_4\"  \"ED_FLASH_5\" \n",
       " [6] \"ED_FLASH_6\"  \"ED_FLASH_7\"  \"ED_FLASH_8\"  \"ED_FLASH_9\"  \"ED_FLASH_10\"\n",
       "[11] \"ED_FLASH_11\" \"ED_FLASH_12\" \"ED_FLASH_13\" \"ED_FLASH_14\" \"ED_FLASH_15\"\n",
       "[16] \"ED_FLASH_16\" \"ED_FLASH_17\" \"ED_FLASH_18\" \"ED_FLASH_19\" \"ED_FLASH_20\"\n",
       "[21] \"ED_FLASH_21\" \"ED_FLASH_22\" \"ED_FLASH_23\" \"ED_tFLASH\"   \"ED_PCA_1\"   \n",
       "[26] \"ED_PCA_2\"    \"ED_PCA_3\"    \"ED_tPCA\"     \"ED_XX\"       \"identity\"   "
      ]
     },
     "metadata": {},
     "output_type": "display_data"
    }
   ],
   "source": [
    "names(prior)[1:30]"
   ]
  },
  {
   "cell_type": "code",
   "execution_count": 12,
   "metadata": {},
   "outputs": [
    {
     "data": {
      "text/html": [
       "<style>\n",
       ".list-inline {list-style: none; margin:0; padding: 0}\n",
       ".list-inline>li {display: inline-block}\n",
       ".list-inline>li:not(:last-child)::after {content: \"\\00b7\"; padding: 0 .5ex}\n",
       "</style>\n",
       "<ol class=list-inline><li>'Adipose_Subcutaneous'</li><li>'Adipose_Visceral_Omentum'</li><li>'Adrenal_Gland'</li><li>'Artery_Aorta'</li><li>'Artery_Coronary'</li><li>'Artery_Tibial'</li><li>'Brain_Amygdala'</li><li>'Brain_Anterior_cingulate_cortex_BA24'</li><li>'Brain_Caudate_basal_ganglia'</li><li>'Brain_Cerebellar_Hemisphere'</li><li>'Brain_Cerebellum'</li><li>'Brain_Cortex'</li><li>'Brain_Frontal_Cortex_BA9'</li><li>'Brain_Hippocampus'</li><li>'Brain_Hypothalamus'</li><li>'Brain_Nucleus_accumbens_basal_ganglia'</li><li>'Brain_Putamen_basal_ganglia'</li><li>'Brain_Spinal_cord_cervical_c-1'</li><li>'Brain_Substantia_nigra'</li><li>'Breast_Mammary_Tissue'</li><li>'Cells_Cultured_fibroblasts'</li><li>'Cells_EBV-transformed_lymphocytes'</li><li>'Colon_Sigmoid'</li><li>'Colon_Transverse'</li><li>'Esophagus_Gastroesophageal_Junction'</li><li>'Esophagus_Mucosa'</li><li>'Esophagus_Muscularis'</li><li>'Heart_Atrial_Appendage'</li><li>'Heart_Left_Ventricle'</li><li>'Kidney_Cortex'</li><li>'Liver'</li><li>'Lung'</li><li>'Minor_Salivary_Gland'</li><li>'Muscle_Skeletal'</li><li>'Nerve_Tibial'</li><li>'Ovary'</li><li>'Pancreas'</li><li>'Pituitary'</li><li>'Prostate'</li><li>'Skin_Not_Sun_Exposed_Suprapubic'</li><li>'Skin_Sun_Exposed_Lower_leg'</li><li>'Small_Intestine_Terminal_Ileum'</li><li>'Spleen'</li><li>'Stomach'</li><li>'Testis'</li><li>'Thyroid'</li><li>'Uterus'</li><li>'Vagina'</li><li>'Whole_Blood'</li></ol>\n"
      ],
      "text/latex": [
       "\\begin{enumerate*}\n",
       "\\item 'Adipose\\_Subcutaneous'\n",
       "\\item 'Adipose\\_Visceral\\_Omentum'\n",
       "\\item 'Adrenal\\_Gland'\n",
       "\\item 'Artery\\_Aorta'\n",
       "\\item 'Artery\\_Coronary'\n",
       "\\item 'Artery\\_Tibial'\n",
       "\\item 'Brain\\_Amygdala'\n",
       "\\item 'Brain\\_Anterior\\_cingulate\\_cortex\\_BA24'\n",
       "\\item 'Brain\\_Caudate\\_basal\\_ganglia'\n",
       "\\item 'Brain\\_Cerebellar\\_Hemisphere'\n",
       "\\item 'Brain\\_Cerebellum'\n",
       "\\item 'Brain\\_Cortex'\n",
       "\\item 'Brain\\_Frontal\\_Cortex\\_BA9'\n",
       "\\item 'Brain\\_Hippocampus'\n",
       "\\item 'Brain\\_Hypothalamus'\n",
       "\\item 'Brain\\_Nucleus\\_accumbens\\_basal\\_ganglia'\n",
       "\\item 'Brain\\_Putamen\\_basal\\_ganglia'\n",
       "\\item 'Brain\\_Spinal\\_cord\\_cervical\\_c-1'\n",
       "\\item 'Brain\\_Substantia\\_nigra'\n",
       "\\item 'Breast\\_Mammary\\_Tissue'\n",
       "\\item 'Cells\\_Cultured\\_fibroblasts'\n",
       "\\item 'Cells\\_EBV-transformed\\_lymphocytes'\n",
       "\\item 'Colon\\_Sigmoid'\n",
       "\\item 'Colon\\_Transverse'\n",
       "\\item 'Esophagus\\_Gastroesophageal\\_Junction'\n",
       "\\item 'Esophagus\\_Mucosa'\n",
       "\\item 'Esophagus\\_Muscularis'\n",
       "\\item 'Heart\\_Atrial\\_Appendage'\n",
       "\\item 'Heart\\_Left\\_Ventricle'\n",
       "\\item 'Kidney\\_Cortex'\n",
       "\\item 'Liver'\n",
       "\\item 'Lung'\n",
       "\\item 'Minor\\_Salivary\\_Gland'\n",
       "\\item 'Muscle\\_Skeletal'\n",
       "\\item 'Nerve\\_Tibial'\n",
       "\\item 'Ovary'\n",
       "\\item 'Pancreas'\n",
       "\\item 'Pituitary'\n",
       "\\item 'Prostate'\n",
       "\\item 'Skin\\_Not\\_Sun\\_Exposed\\_Suprapubic'\n",
       "\\item 'Skin\\_Sun\\_Exposed\\_Lower\\_leg'\n",
       "\\item 'Small\\_Intestine\\_Terminal\\_Ileum'\n",
       "\\item 'Spleen'\n",
       "\\item 'Stomach'\n",
       "\\item 'Testis'\n",
       "\\item 'Thyroid'\n",
       "\\item 'Uterus'\n",
       "\\item 'Vagina'\n",
       "\\item 'Whole\\_Blood'\n",
       "\\end{enumerate*}\n"
      ],
      "text/markdown": [
       "1. 'Adipose_Subcutaneous'\n",
       "2. 'Adipose_Visceral_Omentum'\n",
       "3. 'Adrenal_Gland'\n",
       "4. 'Artery_Aorta'\n",
       "5. 'Artery_Coronary'\n",
       "6. 'Artery_Tibial'\n",
       "7. 'Brain_Amygdala'\n",
       "8. 'Brain_Anterior_cingulate_cortex_BA24'\n",
       "9. 'Brain_Caudate_basal_ganglia'\n",
       "10. 'Brain_Cerebellar_Hemisphere'\n",
       "11. 'Brain_Cerebellum'\n",
       "12. 'Brain_Cortex'\n",
       "13. 'Brain_Frontal_Cortex_BA9'\n",
       "14. 'Brain_Hippocampus'\n",
       "15. 'Brain_Hypothalamus'\n",
       "16. 'Brain_Nucleus_accumbens_basal_ganglia'\n",
       "17. 'Brain_Putamen_basal_ganglia'\n",
       "18. 'Brain_Spinal_cord_cervical_c-1'\n",
       "19. 'Brain_Substantia_nigra'\n",
       "20. 'Breast_Mammary_Tissue'\n",
       "21. 'Cells_Cultured_fibroblasts'\n",
       "22. 'Cells_EBV-transformed_lymphocytes'\n",
       "23. 'Colon_Sigmoid'\n",
       "24. 'Colon_Transverse'\n",
       "25. 'Esophagus_Gastroesophageal_Junction'\n",
       "26. 'Esophagus_Mucosa'\n",
       "27. 'Esophagus_Muscularis'\n",
       "28. 'Heart_Atrial_Appendage'\n",
       "29. 'Heart_Left_Ventricle'\n",
       "30. 'Kidney_Cortex'\n",
       "31. 'Liver'\n",
       "32. 'Lung'\n",
       "33. 'Minor_Salivary_Gland'\n",
       "34. 'Muscle_Skeletal'\n",
       "35. 'Nerve_Tibial'\n",
       "36. 'Ovary'\n",
       "37. 'Pancreas'\n",
       "38. 'Pituitary'\n",
       "39. 'Prostate'\n",
       "40. 'Skin_Not_Sun_Exposed_Suprapubic'\n",
       "41. 'Skin_Sun_Exposed_Lower_leg'\n",
       "42. 'Small_Intestine_Terminal_Ileum'\n",
       "43. 'Spleen'\n",
       "44. 'Stomach'\n",
       "45. 'Testis'\n",
       "46. 'Thyroid'\n",
       "47. 'Uterus'\n",
       "48. 'Vagina'\n",
       "49. 'Whole_Blood'\n",
       "\n",
       "\n"
      ],
      "text/plain": [
       " [1] \"Adipose_Subcutaneous\"                 \n",
       " [2] \"Adipose_Visceral_Omentum\"             \n",
       " [3] \"Adrenal_Gland\"                        \n",
       " [4] \"Artery_Aorta\"                         \n",
       " [5] \"Artery_Coronary\"                      \n",
       " [6] \"Artery_Tibial\"                        \n",
       " [7] \"Brain_Amygdala\"                       \n",
       " [8] \"Brain_Anterior_cingulate_cortex_BA24\" \n",
       " [9] \"Brain_Caudate_basal_ganglia\"          \n",
       "[10] \"Brain_Cerebellar_Hemisphere\"          \n",
       "[11] \"Brain_Cerebellum\"                     \n",
       "[12] \"Brain_Cortex\"                         \n",
       "[13] \"Brain_Frontal_Cortex_BA9\"             \n",
       "[14] \"Brain_Hippocampus\"                    \n",
       "[15] \"Brain_Hypothalamus\"                   \n",
       "[16] \"Brain_Nucleus_accumbens_basal_ganglia\"\n",
       "[17] \"Brain_Putamen_basal_ganglia\"          \n",
       "[18] \"Brain_Spinal_cord_cervical_c-1\"       \n",
       "[19] \"Brain_Substantia_nigra\"               \n",
       "[20] \"Breast_Mammary_Tissue\"                \n",
       "[21] \"Cells_Cultured_fibroblasts\"           \n",
       "[22] \"Cells_EBV-transformed_lymphocytes\"    \n",
       "[23] \"Colon_Sigmoid\"                        \n",
       "[24] \"Colon_Transverse\"                     \n",
       "[25] \"Esophagus_Gastroesophageal_Junction\"  \n",
       "[26] \"Esophagus_Mucosa\"                     \n",
       "[27] \"Esophagus_Muscularis\"                 \n",
       "[28] \"Heart_Atrial_Appendage\"               \n",
       "[29] \"Heart_Left_Ventricle\"                 \n",
       "[30] \"Kidney_Cortex\"                        \n",
       "[31] \"Liver\"                                \n",
       "[32] \"Lung\"                                 \n",
       "[33] \"Minor_Salivary_Gland\"                 \n",
       "[34] \"Muscle_Skeletal\"                      \n",
       "[35] \"Nerve_Tibial\"                         \n",
       "[36] \"Ovary\"                                \n",
       "[37] \"Pancreas\"                             \n",
       "[38] \"Pituitary\"                            \n",
       "[39] \"Prostate\"                             \n",
       "[40] \"Skin_Not_Sun_Exposed_Suprapubic\"      \n",
       "[41] \"Skin_Sun_Exposed_Lower_leg\"           \n",
       "[42] \"Small_Intestine_Terminal_Ileum\"       \n",
       "[43] \"Spleen\"                               \n",
       "[44] \"Stomach\"                              \n",
       "[45] \"Testis\"                               \n",
       "[46] \"Thyroid\"                              \n",
       "[47] \"Uterus\"                               \n",
       "[48] \"Vagina\"                               \n",
       "[49] \"Whole_Blood\"                          "
      ]
     },
     "metadata": {},
     "output_type": "display_data"
    }
   ],
   "source": [
    "names(prior)[31:79]"
   ]
  },
  {
   "cell_type": "code",
   "execution_count": 13,
   "metadata": {},
   "outputs": [
    {
     "data": {
      "text/html": [
       "<style>\n",
       ".list-inline {list-style: none; margin:0; padding: 0}\n",
       ".list-inline>li {display: inline-block}\n",
       ".list-inline>li:not(:last-child)::after {content: \"\\00b7\"; padding: 0 .5ex}\n",
       "</style>\n",
       "<ol class=list-inline><li>'equal_effects'</li><li>'simple_het_1'</li><li>'simple_het_2'</li><li>'simple_het_3'</li></ol>\n"
      ],
      "text/latex": [
       "\\begin{enumerate*}\n",
       "\\item 'equal\\_effects'\n",
       "\\item 'simple\\_het\\_1'\n",
       "\\item 'simple\\_het\\_2'\n",
       "\\item 'simple\\_het\\_3'\n",
       "\\end{enumerate*}\n"
      ],
      "text/markdown": [
       "1. 'equal_effects'\n",
       "2. 'simple_het_1'\n",
       "3. 'simple_het_2'\n",
       "4. 'simple_het_3'\n",
       "\n",
       "\n"
      ],
      "text/plain": [
       "[1] \"equal_effects\" \"simple_het_1\"  \"simple_het_2\"  \"simple_het_3\" "
      ]
     },
     "metadata": {},
     "output_type": "display_data"
    }
   ],
   "source": [
    "names(prior)[80:length(names(prior))]"
   ]
  },
  {
   "cell_type": "markdown",
   "metadata": {},
   "source": [
    "Here I will remove the singleton components because in MASH paper we don't see weights on those components anyways after we include others."
   ]
  },
  {
   "cell_type": "code",
   "execution_count": 14,
   "metadata": {},
   "outputs": [],
   "source": [
    "prior = prior[-c(31:79)]"
   ]
  },
  {
   "cell_type": "code",
   "execution_count": 15,
   "metadata": {},
   "outputs": [
    {
     "data": {
      "text/html": [
       "<style>\n",
       ".list-inline {list-style: none; margin:0; padding: 0}\n",
       ".list-inline>li {display: inline-block}\n",
       ".list-inline>li:not(:last-child)::after {content: \"\\00b7\"; padding: 0 .5ex}\n",
       "</style>\n",
       "<ol class=list-inline><li>'ED_FLASH_1'</li><li>'ED_FLASH_2'</li><li>'ED_FLASH_3'</li><li>'ED_FLASH_4'</li><li>'ED_FLASH_5'</li><li>'ED_FLASH_6'</li><li>'ED_FLASH_7'</li><li>'ED_FLASH_8'</li><li>'ED_FLASH_9'</li><li>'ED_FLASH_10'</li><li>'ED_FLASH_11'</li><li>'ED_FLASH_12'</li><li>'ED_FLASH_13'</li><li>'ED_FLASH_14'</li><li>'ED_FLASH_15'</li><li>'ED_FLASH_16'</li><li>'ED_FLASH_17'</li><li>'ED_FLASH_18'</li><li>'ED_FLASH_19'</li><li>'ED_FLASH_20'</li><li>'ED_FLASH_21'</li><li>'ED_FLASH_22'</li><li>'ED_FLASH_23'</li><li>'ED_tFLASH'</li><li>'ED_PCA_1'</li><li>'ED_PCA_2'</li><li>'ED_PCA_3'</li><li>'ED_tPCA'</li><li>'ED_XX'</li><li>'identity'</li><li>'equal_effects'</li><li>'simple_het_1'</li><li>'simple_het_2'</li><li>'simple_het_3'</li></ol>\n"
      ],
      "text/latex": [
       "\\begin{enumerate*}\n",
       "\\item 'ED\\_FLASH\\_1'\n",
       "\\item 'ED\\_FLASH\\_2'\n",
       "\\item 'ED\\_FLASH\\_3'\n",
       "\\item 'ED\\_FLASH\\_4'\n",
       "\\item 'ED\\_FLASH\\_5'\n",
       "\\item 'ED\\_FLASH\\_6'\n",
       "\\item 'ED\\_FLASH\\_7'\n",
       "\\item 'ED\\_FLASH\\_8'\n",
       "\\item 'ED\\_FLASH\\_9'\n",
       "\\item 'ED\\_FLASH\\_10'\n",
       "\\item 'ED\\_FLASH\\_11'\n",
       "\\item 'ED\\_FLASH\\_12'\n",
       "\\item 'ED\\_FLASH\\_13'\n",
       "\\item 'ED\\_FLASH\\_14'\n",
       "\\item 'ED\\_FLASH\\_15'\n",
       "\\item 'ED\\_FLASH\\_16'\n",
       "\\item 'ED\\_FLASH\\_17'\n",
       "\\item 'ED\\_FLASH\\_18'\n",
       "\\item 'ED\\_FLASH\\_19'\n",
       "\\item 'ED\\_FLASH\\_20'\n",
       "\\item 'ED\\_FLASH\\_21'\n",
       "\\item 'ED\\_FLASH\\_22'\n",
       "\\item 'ED\\_FLASH\\_23'\n",
       "\\item 'ED\\_tFLASH'\n",
       "\\item 'ED\\_PCA\\_1'\n",
       "\\item 'ED\\_PCA\\_2'\n",
       "\\item 'ED\\_PCA\\_3'\n",
       "\\item 'ED\\_tPCA'\n",
       "\\item 'ED\\_XX'\n",
       "\\item 'identity'\n",
       "\\item 'equal\\_effects'\n",
       "\\item 'simple\\_het\\_1'\n",
       "\\item 'simple\\_het\\_2'\n",
       "\\item 'simple\\_het\\_3'\n",
       "\\end{enumerate*}\n"
      ],
      "text/markdown": [
       "1. 'ED_FLASH_1'\n",
       "2. 'ED_FLASH_2'\n",
       "3. 'ED_FLASH_3'\n",
       "4. 'ED_FLASH_4'\n",
       "5. 'ED_FLASH_5'\n",
       "6. 'ED_FLASH_6'\n",
       "7. 'ED_FLASH_7'\n",
       "8. 'ED_FLASH_8'\n",
       "9. 'ED_FLASH_9'\n",
       "10. 'ED_FLASH_10'\n",
       "11. 'ED_FLASH_11'\n",
       "12. 'ED_FLASH_12'\n",
       "13. 'ED_FLASH_13'\n",
       "14. 'ED_FLASH_14'\n",
       "15. 'ED_FLASH_15'\n",
       "16. 'ED_FLASH_16'\n",
       "17. 'ED_FLASH_17'\n",
       "18. 'ED_FLASH_18'\n",
       "19. 'ED_FLASH_19'\n",
       "20. 'ED_FLASH_20'\n",
       "21. 'ED_FLASH_21'\n",
       "22. 'ED_FLASH_22'\n",
       "23. 'ED_FLASH_23'\n",
       "24. 'ED_tFLASH'\n",
       "25. 'ED_PCA_1'\n",
       "26. 'ED_PCA_2'\n",
       "27. 'ED_PCA_3'\n",
       "28. 'ED_tPCA'\n",
       "29. 'ED_XX'\n",
       "30. 'identity'\n",
       "31. 'equal_effects'\n",
       "32. 'simple_het_1'\n",
       "33. 'simple_het_2'\n",
       "34. 'simple_het_3'\n",
       "\n",
       "\n"
      ],
      "text/plain": [
       " [1] \"ED_FLASH_1\"    \"ED_FLASH_2\"    \"ED_FLASH_3\"    \"ED_FLASH_4\"   \n",
       " [5] \"ED_FLASH_5\"    \"ED_FLASH_6\"    \"ED_FLASH_7\"    \"ED_FLASH_8\"   \n",
       " [9] \"ED_FLASH_9\"    \"ED_FLASH_10\"   \"ED_FLASH_11\"   \"ED_FLASH_12\"  \n",
       "[13] \"ED_FLASH_13\"   \"ED_FLASH_14\"   \"ED_FLASH_15\"   \"ED_FLASH_16\"  \n",
       "[17] \"ED_FLASH_17\"   \"ED_FLASH_18\"   \"ED_FLASH_19\"   \"ED_FLASH_20\"  \n",
       "[21] \"ED_FLASH_21\"   \"ED_FLASH_22\"   \"ED_FLASH_23\"   \"ED_tFLASH\"    \n",
       "[25] \"ED_PCA_1\"      \"ED_PCA_2\"      \"ED_PCA_3\"      \"ED_tPCA\"      \n",
       "[29] \"ED_XX\"         \"identity\"      \"equal_effects\" \"simple_het_1\" \n",
       "[33] \"simple_het_2\"  \"simple_het_3\" "
      ]
     },
     "metadata": {},
     "output_type": "display_data"
    }
   ],
   "source": [
    "names(prior)"
   ]
  },
  {
   "cell_type": "code",
   "execution_count": 16,
   "metadata": {},
   "outputs": [
    {
     "data": {
      "text/html": [
       "34"
      ],
      "text/latex": [
       "34"
      ],
      "text/markdown": [
       "34"
      ],
      "text/plain": [
       "[1] 34"
      ]
     },
     "metadata": {},
     "output_type": "display_data"
    }
   ],
   "source": [
    "length(prior)"
   ]
  },
  {
   "cell_type": "markdown",
   "metadata": {},
   "source": [
    "I'll assign them equal weights so each component has about 3%. "
   ]
  },
  {
   "cell_type": "code",
   "execution_count": 17,
   "metadata": {},
   "outputs": [],
   "source": [
    "w = rep(1/length(prior), length(prior))\n",
    "gtex_mixture = list(U=prior,w=w)"
   ]
  },
  {
   "cell_type": "code",
   "execution_count": 18,
   "metadata": {},
   "outputs": [
    {
     "data": {
      "text/html": [
       "1"
      ],
      "text/latex": [
       "1"
      ],
      "text/markdown": [
       "1"
      ],
      "text/plain": [
       "[1] 1"
      ]
     },
     "metadata": {},
     "output_type": "display_data"
    }
   ],
   "source": [
    "sum(w)"
   ]
  },
  {
   "cell_type": "code",
   "execution_count": 19,
   "metadata": {},
   "outputs": [],
   "source": [
    "saveRDS(list(gtex_mixture=gtex_mixture, artificial_mixture_50=artificial_mixture_50), '../data/prior_simulation.rds')"
   ]
  },
  {
   "cell_type": "markdown",
   "metadata": {},
   "source": [
    "## Using weights learned from simulated data\n",
    "\n",
    "Workflow see [this notebook](https://gaow.github.io/mvarbvs/analysis/20200502_Prepare_ED_prior.html). "
   ]
  },
  {
   "cell_type": "code",
   "execution_count": 17,
   "metadata": {},
   "outputs": [],
   "source": [
    "dat = readRDS('../data/prior_simulation.rds')"
   ]
  },
  {
   "cell_type": "code",
   "execution_count": 18,
   "metadata": {},
   "outputs": [
    {
     "data": {
      "text/html": [
       "<style>\n",
       ".list-inline {list-style: none; margin:0; padding: 0}\n",
       ".list-inline>li {display: inline-block}\n",
       ".list-inline>li:not(:last-child)::after {content: \"\\00b7\"; padding: 0 .5ex}\n",
       "</style>\n",
       "<ol class=list-inline><li>'U'</li><li>'w'</li></ol>\n"
      ],
      "text/latex": [
       "\\begin{enumerate*}\n",
       "\\item 'U'\n",
       "\\item 'w'\n",
       "\\end{enumerate*}\n"
      ],
      "text/markdown": [
       "1. 'U'\n",
       "2. 'w'\n",
       "\n",
       "\n"
      ],
      "text/plain": [
       "[1] \"U\" \"w\""
      ]
     },
     "metadata": {},
     "output_type": "display_data"
    }
   ],
   "source": [
    "names(dat$gtex_mixture)"
   ]
  },
  {
   "cell_type": "markdown",
   "metadata": {},
   "source": [
    "Load ED mixture,"
   ]
  },
  {
   "cell_type": "code",
   "execution_count": 30,
   "metadata": {},
   "outputs": [],
   "source": [
    "gtex_ed_mixture = readRDS('~/tmp/07-May-2020/gtex_mixture_identity.FLASH_PC3.ED.rds')"
   ]
  },
  {
   "cell_type": "code",
   "execution_count": 31,
   "metadata": {},
   "outputs": [
    {
     "data": {
      "text/html": [
       "<style>\n",
       ".list-inline {list-style: none; margin:0; padding: 0}\n",
       ".list-inline>li {display: inline-block}\n",
       ".list-inline>li:not(:last-child)::after {content: \"\\00b7\"; padding: 0 .5ex}\n",
       "</style>\n",
       "<ol class=list-inline><li>'U'</li><li>'w'</li><li>'loglik'</li></ol>\n"
      ],
      "text/latex": [
       "\\begin{enumerate*}\n",
       "\\item 'U'\n",
       "\\item 'w'\n",
       "\\item 'loglik'\n",
       "\\end{enumerate*}\n"
      ],
      "text/markdown": [
       "1. 'U'\n",
       "2. 'w'\n",
       "3. 'loglik'\n",
       "\n",
       "\n"
      ],
      "text/plain": [
       "[1] \"U\"      \"w\"      \"loglik\""
      ]
     },
     "metadata": {},
     "output_type": "display_data"
    }
   ],
   "source": [
    "names(gtex_ed_mixture)"
   ]
  },
  {
   "cell_type": "code",
   "execution_count": 32,
   "metadata": {},
   "outputs": [],
   "source": [
    "artificial_ed_mixture_50 = readRDS('~/tmp/07-May-2020/artificial_mixture_identity.FLASH_PC3.ED.rds')"
   ]
  },
  {
   "cell_type": "code",
   "execution_count": 33,
   "metadata": {},
   "outputs": [
    {
     "data": {
      "text/html": [
       "<style>\n",
       ".list-inline {list-style: none; margin:0; padding: 0}\n",
       ".list-inline>li {display: inline-block}\n",
       ".list-inline>li:not(:last-child)::after {content: \"\\00b7\"; padding: 0 .5ex}\n",
       "</style>\n",
       "<ol class=list-inline><li>'U'</li><li>'w'</li><li>'loglik'</li></ol>\n"
      ],
      "text/latex": [
       "\\begin{enumerate*}\n",
       "\\item 'U'\n",
       "\\item 'w'\n",
       "\\item 'loglik'\n",
       "\\end{enumerate*}\n"
      ],
      "text/markdown": [
       "1. 'U'\n",
       "2. 'w'\n",
       "3. 'loglik'\n",
       "\n",
       "\n"
      ],
      "text/plain": [
       "[1] \"U\"      \"w\"      \"loglik\""
      ]
     },
     "metadata": {},
     "output_type": "display_data"
    }
   ],
   "source": [
    "names(artificial_ed_mixture_50)"
   ]
  },
  {
   "cell_type": "markdown",
   "metadata": {},
   "source": [
    "Filter the components by weight cutoff `0.00001`,"
   ]
  },
  {
   "cell_type": "code",
   "execution_count": 34,
   "metadata": {},
   "outputs": [],
   "source": [
    "tol = 0.00001\n",
    "artificial_ed_mixture_50$U = artificial_ed_mixture_50$U[which(artificial_ed_mixture_50$w > tol)]\n",
    "artificial_ed_mixture_50$w = artificial_ed_mixture_50$w[which(artificial_ed_mixture_50$w > tol)]\n",
    "gtex_ed_mixture$U = gtex_ed_mixture$U[which(gtex_ed_mixture$w > tol)]\n",
    "gtex_ed_mixture$w = gtex_ed_mixture$w[which(gtex_ed_mixture$w > tol)]"
   ]
  },
  {
   "cell_type": "code",
   "execution_count": 35,
   "metadata": {},
   "outputs": [
    {
     "data": {
      "text/html": [
       "<style>\n",
       ".list-inline {list-style: none; margin:0; padding: 0}\n",
       ".list-inline>li {display: inline-block}\n",
       ".list-inline>li:not(:last-child)::after {content: \"\\00b7\"; padding: 0 .5ex}\n",
       "</style>\n",
       "<ol class=list-inline><li>'tFLASH'</li><li>'PCA_3'</li><li>'tPCA'</li><li>'XX'</li></ol>\n"
      ],
      "text/latex": [
       "\\begin{enumerate*}\n",
       "\\item 'tFLASH'\n",
       "\\item 'PCA\\_3'\n",
       "\\item 'tPCA'\n",
       "\\item 'XX'\n",
       "\\end{enumerate*}\n"
      ],
      "text/markdown": [
       "1. 'tFLASH'\n",
       "2. 'PCA_3'\n",
       "3. 'tPCA'\n",
       "4. 'XX'\n",
       "\n",
       "\n"
      ],
      "text/plain": [
       "[1] \"tFLASH\" \"PCA_3\"  \"tPCA\"   \"XX\"    "
      ]
     },
     "metadata": {},
     "output_type": "display_data"
    }
   ],
   "source": [
    "names(artificial_ed_mixture_50$U)"
   ]
  },
  {
   "cell_type": "code",
   "execution_count": 36,
   "metadata": {},
   "outputs": [
    {
     "data": {
      "text/html": [
       "<style>\n",
       ".list-inline {list-style: none; margin:0; padding: 0}\n",
       ".list-inline>li {display: inline-block}\n",
       ".list-inline>li:not(:last-child)::after {content: \"\\00b7\"; padding: 0 .5ex}\n",
       "</style>\n",
       "<ol class=list-inline><li>0.898314146466091</li><li>0.000648316043920725</li><li>0.0637063706095047</li><li>0.0373311668804688</li></ol>\n"
      ],
      "text/latex": [
       "\\begin{enumerate*}\n",
       "\\item 0.898314146466091\n",
       "\\item 0.000648316043920725\n",
       "\\item 0.0637063706095047\n",
       "\\item 0.0373311668804688\n",
       "\\end{enumerate*}\n"
      ],
      "text/markdown": [
       "1. 0.898314146466091\n",
       "2. 0.000648316043920725\n",
       "3. 0.0637063706095047\n",
       "4. 0.0373311668804688\n",
       "\n",
       "\n"
      ],
      "text/plain": [
       "[1] 0.898314146 0.000648316 0.063706371 0.037331167"
      ]
     },
     "metadata": {},
     "output_type": "display_data"
    }
   ],
   "source": [
    "artificial_ed_mixture_50$w"
   ]
  },
  {
   "cell_type": "code",
   "execution_count": 37,
   "metadata": {},
   "outputs": [
    {
     "data": {
      "text/html": [
       "<style>\n",
       ".list-inline {list-style: none; margin:0; padding: 0}\n",
       ".list-inline>li {display: inline-block}\n",
       ".list-inline>li:not(:last-child)::after {content: \"\\00b7\"; padding: 0 .5ex}\n",
       "</style>\n",
       "<ol class=list-inline><li>'tFLASH'</li><li>'tPCA'</li><li>'XX'</li></ol>\n"
      ],
      "text/latex": [
       "\\begin{enumerate*}\n",
       "\\item 'tFLASH'\n",
       "\\item 'tPCA'\n",
       "\\item 'XX'\n",
       "\\end{enumerate*}\n"
      ],
      "text/markdown": [
       "1. 'tFLASH'\n",
       "2. 'tPCA'\n",
       "3. 'XX'\n",
       "\n",
       "\n"
      ],
      "text/plain": [
       "[1] \"tFLASH\" \"tPCA\"   \"XX\"    "
      ]
     },
     "metadata": {},
     "output_type": "display_data"
    }
   ],
   "source": [
    "names(gtex_ed_mixture$U)"
   ]
  },
  {
   "cell_type": "code",
   "execution_count": 38,
   "metadata": {},
   "outputs": [
    {
     "data": {
      "text/html": [
       "<style>\n",
       ".list-inline {list-style: none; margin:0; padding: 0}\n",
       ".list-inline>li {display: inline-block}\n",
       ".list-inline>li:not(:last-child)::after {content: \"\\00b7\"; padding: 0 .5ex}\n",
       "</style>\n",
       "<ol class=list-inline><li>0.032953661814357</li><li>0.966986560055189</li><li>5.03672349327372e-05</li></ol>\n"
      ],
      "text/latex": [
       "\\begin{enumerate*}\n",
       "\\item 0.032953661814357\n",
       "\\item 0.966986560055189\n",
       "\\item 5.03672349327372e-05\n",
       "\\end{enumerate*}\n"
      ],
      "text/markdown": [
       "1. 0.032953661814357\n",
       "2. 0.966986560055189\n",
       "3. 5.03672349327372e-05\n",
       "\n",
       "\n"
      ],
      "text/plain": [
       "[1] 3.295366e-02 9.669866e-01 5.036723e-05"
      ]
     },
     "metadata": {},
     "output_type": "display_data"
    }
   ],
   "source": [
    "gtex_ed_mixture$w"
   ]
  },
  {
   "cell_type": "code",
   "execution_count": 39,
   "metadata": {},
   "outputs": [],
   "source": [
    "dat$artificial_mixture_50$ED = artificial_ed_mixture_50\n",
    "dat$gtex_mixture$ED = gtex_ed_mixture"
   ]
  },
  {
   "cell_type": "code",
   "execution_count": 40,
   "metadata": {},
   "outputs": [],
   "source": [
    "saveRDS(dat, '../data/prior_simulation.rds')"
   ]
  }
 ],
 "metadata": {
  "kernelspec": {
   "display_name": "R",
   "language": "R",
   "name": "ir"
  },
  "language_info": {
   "codemirror_mode": "r",
   "file_extension": ".r",
   "mimetype": "text/x-r-source",
   "name": "R",
   "pygments_lexer": "r",
   "version": "3.6.3"
  }
 },
 "nbformat": 4,
 "nbformat_minor": 4
}
