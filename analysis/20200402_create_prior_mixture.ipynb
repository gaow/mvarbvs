{
 "cells": [
  {
   "cell_type": "markdown",
   "metadata": {},
   "source": [
    "# Create prior mixture for simulation studies\n",
    "\n",
    "This notebook contains scripts to create mixture prior for use with simulations in DSC."
   ]
  },
  {
   "cell_type": "markdown",
   "metadata": {},
   "source": [
    "## Artificial structure\n",
    "\n",
    "Here I'm going to make for 50 conditions patterns of covariate with \n",
    "1. canonical\n",
    "2. paired sharing eg a pair of tissues\n",
    "3. block sharing eg brain\n",
    "\n",
    "### With 50 conditions"
   ]
  },
  {
   "cell_type": "markdown",
   "metadata": {},
   "source": [
    "Canonical patterns of sharing:"
   ]
  },
  {
   "cell_type": "code",
   "execution_count": 1,
   "metadata": {},
   "outputs": [],
   "source": [
    "R=50\n",
    "prior = mmbr:::create_cov_canonical(R)"
   ]
  },
  {
   "cell_type": "markdown",
   "metadata": {},
   "source": [
    "Paired sharing:"
   ]
  },
  {
   "cell_type": "code",
   "execution_count": 2,
   "metadata": {},
   "outputs": [],
   "source": [
    "paired = matrix(0,R,R)\n",
    "paired[1:2,1:2] = 1\n",
    "prior[['paired_1']] = paired"
   ]
  },
  {
   "cell_type": "markdown",
   "metadata": {},
   "source": [
    "Block sharing:"
   ]
  },
  {
   "cell_type": "code",
   "execution_count": 3,
   "metadata": {},
   "outputs": [],
   "source": [
    "block = matrix(0,R,R)\n",
    "block[1:R/2, 1:R/2] = 1\n",
    "block[(R/2+1):R, (R/2+1):R] = 1\n",
    "prior[['blocked_1']] = block"
   ]
  },
  {
   "cell_type": "code",
   "execution_count": 4,
   "metadata": {},
   "outputs": [
    {
     "data": {
      "text/html": [
       "<ol class=list-inline>\n",
       "\t<li>'singleton_1'</li>\n",
       "\t<li>'singleton_2'</li>\n",
       "\t<li>'singleton_3'</li>\n",
       "\t<li>'singleton_4'</li>\n",
       "\t<li>'singleton_5'</li>\n",
       "\t<li>'singleton_6'</li>\n",
       "\t<li>'singleton_7'</li>\n",
       "\t<li>'singleton_8'</li>\n",
       "\t<li>'singleton_9'</li>\n",
       "\t<li>'singleton_10'</li>\n",
       "\t<li>'singleton_11'</li>\n",
       "\t<li>'singleton_12'</li>\n",
       "\t<li>'singleton_13'</li>\n",
       "\t<li>'singleton_14'</li>\n",
       "\t<li>'singleton_15'</li>\n",
       "\t<li>'singleton_16'</li>\n",
       "\t<li>'singleton_17'</li>\n",
       "\t<li>'singleton_18'</li>\n",
       "\t<li>'singleton_19'</li>\n",
       "\t<li>'singleton_20'</li>\n",
       "\t<li>'singleton_21'</li>\n",
       "\t<li>'singleton_22'</li>\n",
       "\t<li>'singleton_23'</li>\n",
       "\t<li>'singleton_24'</li>\n",
       "\t<li>'singleton_25'</li>\n",
       "\t<li>'singleton_26'</li>\n",
       "\t<li>'singleton_27'</li>\n",
       "\t<li>'singleton_28'</li>\n",
       "\t<li>'singleton_29'</li>\n",
       "\t<li>'singleton_30'</li>\n",
       "\t<li>'singleton_31'</li>\n",
       "\t<li>'singleton_32'</li>\n",
       "\t<li>'singleton_33'</li>\n",
       "\t<li>'singleton_34'</li>\n",
       "\t<li>'singleton_35'</li>\n",
       "\t<li>'singleton_36'</li>\n",
       "\t<li>'singleton_37'</li>\n",
       "\t<li>'singleton_38'</li>\n",
       "\t<li>'singleton_39'</li>\n",
       "\t<li>'singleton_40'</li>\n",
       "\t<li>'singleton_41'</li>\n",
       "\t<li>'singleton_42'</li>\n",
       "\t<li>'singleton_43'</li>\n",
       "\t<li>'singleton_44'</li>\n",
       "\t<li>'singleton_45'</li>\n",
       "\t<li>'singleton_46'</li>\n",
       "\t<li>'singleton_47'</li>\n",
       "\t<li>'singleton_48'</li>\n",
       "\t<li>'singleton_49'</li>\n",
       "\t<li>'singleton_50'</li>\n",
       "\t<li>'shared_1'</li>\n",
       "\t<li>'shared_2'</li>\n",
       "\t<li>'shared_3'</li>\n",
       "\t<li>'shared_4'</li>\n",
       "\t<li>'shared_5'</li>\n",
       "\t<li>'paired_1'</li>\n",
       "\t<li>'blocked_1'</li>\n",
       "</ol>\n"
      ],
      "text/latex": [
       "\\begin{enumerate*}\n",
       "\\item 'singleton\\_1'\n",
       "\\item 'singleton\\_2'\n",
       "\\item 'singleton\\_3'\n",
       "\\item 'singleton\\_4'\n",
       "\\item 'singleton\\_5'\n",
       "\\item 'singleton\\_6'\n",
       "\\item 'singleton\\_7'\n",
       "\\item 'singleton\\_8'\n",
       "\\item 'singleton\\_9'\n",
       "\\item 'singleton\\_10'\n",
       "\\item 'singleton\\_11'\n",
       "\\item 'singleton\\_12'\n",
       "\\item 'singleton\\_13'\n",
       "\\item 'singleton\\_14'\n",
       "\\item 'singleton\\_15'\n",
       "\\item 'singleton\\_16'\n",
       "\\item 'singleton\\_17'\n",
       "\\item 'singleton\\_18'\n",
       "\\item 'singleton\\_19'\n",
       "\\item 'singleton\\_20'\n",
       "\\item 'singleton\\_21'\n",
       "\\item 'singleton\\_22'\n",
       "\\item 'singleton\\_23'\n",
       "\\item 'singleton\\_24'\n",
       "\\item 'singleton\\_25'\n",
       "\\item 'singleton\\_26'\n",
       "\\item 'singleton\\_27'\n",
       "\\item 'singleton\\_28'\n",
       "\\item 'singleton\\_29'\n",
       "\\item 'singleton\\_30'\n",
       "\\item 'singleton\\_31'\n",
       "\\item 'singleton\\_32'\n",
       "\\item 'singleton\\_33'\n",
       "\\item 'singleton\\_34'\n",
       "\\item 'singleton\\_35'\n",
       "\\item 'singleton\\_36'\n",
       "\\item 'singleton\\_37'\n",
       "\\item 'singleton\\_38'\n",
       "\\item 'singleton\\_39'\n",
       "\\item 'singleton\\_40'\n",
       "\\item 'singleton\\_41'\n",
       "\\item 'singleton\\_42'\n",
       "\\item 'singleton\\_43'\n",
       "\\item 'singleton\\_44'\n",
       "\\item 'singleton\\_45'\n",
       "\\item 'singleton\\_46'\n",
       "\\item 'singleton\\_47'\n",
       "\\item 'singleton\\_48'\n",
       "\\item 'singleton\\_49'\n",
       "\\item 'singleton\\_50'\n",
       "\\item 'shared\\_1'\n",
       "\\item 'shared\\_2'\n",
       "\\item 'shared\\_3'\n",
       "\\item 'shared\\_4'\n",
       "\\item 'shared\\_5'\n",
       "\\item 'paired\\_1'\n",
       "\\item 'blocked\\_1'\n",
       "\\end{enumerate*}\n"
      ],
      "text/markdown": [
       "1. 'singleton_1'\n",
       "2. 'singleton_2'\n",
       "3. 'singleton_3'\n",
       "4. 'singleton_4'\n",
       "5. 'singleton_5'\n",
       "6. 'singleton_6'\n",
       "7. 'singleton_7'\n",
       "8. 'singleton_8'\n",
       "9. 'singleton_9'\n",
       "10. 'singleton_10'\n",
       "11. 'singleton_11'\n",
       "12. 'singleton_12'\n",
       "13. 'singleton_13'\n",
       "14. 'singleton_14'\n",
       "15. 'singleton_15'\n",
       "16. 'singleton_16'\n",
       "17. 'singleton_17'\n",
       "18. 'singleton_18'\n",
       "19. 'singleton_19'\n",
       "20. 'singleton_20'\n",
       "21. 'singleton_21'\n",
       "22. 'singleton_22'\n",
       "23. 'singleton_23'\n",
       "24. 'singleton_24'\n",
       "25. 'singleton_25'\n",
       "26. 'singleton_26'\n",
       "27. 'singleton_27'\n",
       "28. 'singleton_28'\n",
       "29. 'singleton_29'\n",
       "30. 'singleton_30'\n",
       "31. 'singleton_31'\n",
       "32. 'singleton_32'\n",
       "33. 'singleton_33'\n",
       "34. 'singleton_34'\n",
       "35. 'singleton_35'\n",
       "36. 'singleton_36'\n",
       "37. 'singleton_37'\n",
       "38. 'singleton_38'\n",
       "39. 'singleton_39'\n",
       "40. 'singleton_40'\n",
       "41. 'singleton_41'\n",
       "42. 'singleton_42'\n",
       "43. 'singleton_43'\n",
       "44. 'singleton_44'\n",
       "45. 'singleton_45'\n",
       "46. 'singleton_46'\n",
       "47. 'singleton_47'\n",
       "48. 'singleton_48'\n",
       "49. 'singleton_49'\n",
       "50. 'singleton_50'\n",
       "51. 'shared_1'\n",
       "52. 'shared_2'\n",
       "53. 'shared_3'\n",
       "54. 'shared_4'\n",
       "55. 'shared_5'\n",
       "56. 'paired_1'\n",
       "57. 'blocked_1'\n",
       "\n",
       "\n"
      ],
      "text/plain": [
       " [1] \"singleton_1\"  \"singleton_2\"  \"singleton_3\"  \"singleton_4\"  \"singleton_5\" \n",
       " [6] \"singleton_6\"  \"singleton_7\"  \"singleton_8\"  \"singleton_9\"  \"singleton_10\"\n",
       "[11] \"singleton_11\" \"singleton_12\" \"singleton_13\" \"singleton_14\" \"singleton_15\"\n",
       "[16] \"singleton_16\" \"singleton_17\" \"singleton_18\" \"singleton_19\" \"singleton_20\"\n",
       "[21] \"singleton_21\" \"singleton_22\" \"singleton_23\" \"singleton_24\" \"singleton_25\"\n",
       "[26] \"singleton_26\" \"singleton_27\" \"singleton_28\" \"singleton_29\" \"singleton_30\"\n",
       "[31] \"singleton_31\" \"singleton_32\" \"singleton_33\" \"singleton_34\" \"singleton_35\"\n",
       "[36] \"singleton_36\" \"singleton_37\" \"singleton_38\" \"singleton_39\" \"singleton_40\"\n",
       "[41] \"singleton_41\" \"singleton_42\" \"singleton_43\" \"singleton_44\" \"singleton_45\"\n",
       "[46] \"singleton_46\" \"singleton_47\" \"singleton_48\" \"singleton_49\" \"singleton_50\"\n",
       "[51] \"shared_1\"     \"shared_2\"     \"shared_3\"     \"shared_4\"     \"shared_5\"    \n",
       "[56] \"paired_1\"     \"blocked_1\"   "
      ]
     },
     "metadata": {},
     "output_type": "display_data"
    }
   ],
   "source": [
    "names(prior)"
   ]
  },
  {
   "cell_type": "markdown",
   "metadata": {},
   "source": [
    "Now assign some weights:\n",
    "\n",
    "1. singleton total 35%\n",
    "    - singleton_1 has 10% (to be picked up later by ED methods)\n",
    "    - singleton_2 to singleton_26 has 25% (1% each )\n",
    "2. shared total 25%\n",
    "3. paired 20% (hopefully picked up by ED methods)\n",
    "4. blocked 20% (hopefully picked up by ED methods)"
   ]
  },
  {
   "cell_type": "code",
   "execution_count": 5,
   "metadata": {},
   "outputs": [],
   "source": [
    "w = c(0.1, rep(0.01,25), rep(0, 24), rep(0.25/5,5), 0.2, 0.2)"
   ]
  },
  {
   "cell_type": "code",
   "execution_count": 6,
   "metadata": {},
   "outputs": [],
   "source": [
    "prior = prior[which(w>0)]"
   ]
  },
  {
   "cell_type": "code",
   "execution_count": 7,
   "metadata": {},
   "outputs": [
    {
     "data": {
      "text/html": [
       "<ol class=list-inline>\n",
       "\t<li>'singleton_1'</li>\n",
       "\t<li>'singleton_2'</li>\n",
       "\t<li>'singleton_3'</li>\n",
       "\t<li>'singleton_4'</li>\n",
       "\t<li>'singleton_5'</li>\n",
       "\t<li>'singleton_6'</li>\n",
       "\t<li>'singleton_7'</li>\n",
       "\t<li>'singleton_8'</li>\n",
       "\t<li>'singleton_9'</li>\n",
       "\t<li>'singleton_10'</li>\n",
       "\t<li>'singleton_11'</li>\n",
       "\t<li>'singleton_12'</li>\n",
       "\t<li>'singleton_13'</li>\n",
       "\t<li>'singleton_14'</li>\n",
       "\t<li>'singleton_15'</li>\n",
       "\t<li>'singleton_16'</li>\n",
       "\t<li>'singleton_17'</li>\n",
       "\t<li>'singleton_18'</li>\n",
       "\t<li>'singleton_19'</li>\n",
       "\t<li>'singleton_20'</li>\n",
       "\t<li>'singleton_21'</li>\n",
       "\t<li>'singleton_22'</li>\n",
       "\t<li>'singleton_23'</li>\n",
       "\t<li>'singleton_24'</li>\n",
       "\t<li>'singleton_25'</li>\n",
       "\t<li>'singleton_26'</li>\n",
       "\t<li>'shared_1'</li>\n",
       "\t<li>'shared_2'</li>\n",
       "\t<li>'shared_3'</li>\n",
       "\t<li>'shared_4'</li>\n",
       "\t<li>'shared_5'</li>\n",
       "\t<li>'paired_1'</li>\n",
       "\t<li>'blocked_1'</li>\n",
       "</ol>\n"
      ],
      "text/latex": [
       "\\begin{enumerate*}\n",
       "\\item 'singleton\\_1'\n",
       "\\item 'singleton\\_2'\n",
       "\\item 'singleton\\_3'\n",
       "\\item 'singleton\\_4'\n",
       "\\item 'singleton\\_5'\n",
       "\\item 'singleton\\_6'\n",
       "\\item 'singleton\\_7'\n",
       "\\item 'singleton\\_8'\n",
       "\\item 'singleton\\_9'\n",
       "\\item 'singleton\\_10'\n",
       "\\item 'singleton\\_11'\n",
       "\\item 'singleton\\_12'\n",
       "\\item 'singleton\\_13'\n",
       "\\item 'singleton\\_14'\n",
       "\\item 'singleton\\_15'\n",
       "\\item 'singleton\\_16'\n",
       "\\item 'singleton\\_17'\n",
       "\\item 'singleton\\_18'\n",
       "\\item 'singleton\\_19'\n",
       "\\item 'singleton\\_20'\n",
       "\\item 'singleton\\_21'\n",
       "\\item 'singleton\\_22'\n",
       "\\item 'singleton\\_23'\n",
       "\\item 'singleton\\_24'\n",
       "\\item 'singleton\\_25'\n",
       "\\item 'singleton\\_26'\n",
       "\\item 'shared\\_1'\n",
       "\\item 'shared\\_2'\n",
       "\\item 'shared\\_3'\n",
       "\\item 'shared\\_4'\n",
       "\\item 'shared\\_5'\n",
       "\\item 'paired\\_1'\n",
       "\\item 'blocked\\_1'\n",
       "\\end{enumerate*}\n"
      ],
      "text/markdown": [
       "1. 'singleton_1'\n",
       "2. 'singleton_2'\n",
       "3. 'singleton_3'\n",
       "4. 'singleton_4'\n",
       "5. 'singleton_5'\n",
       "6. 'singleton_6'\n",
       "7. 'singleton_7'\n",
       "8. 'singleton_8'\n",
       "9. 'singleton_9'\n",
       "10. 'singleton_10'\n",
       "11. 'singleton_11'\n",
       "12. 'singleton_12'\n",
       "13. 'singleton_13'\n",
       "14. 'singleton_14'\n",
       "15. 'singleton_15'\n",
       "16. 'singleton_16'\n",
       "17. 'singleton_17'\n",
       "18. 'singleton_18'\n",
       "19. 'singleton_19'\n",
       "20. 'singleton_20'\n",
       "21. 'singleton_21'\n",
       "22. 'singleton_22'\n",
       "23. 'singleton_23'\n",
       "24. 'singleton_24'\n",
       "25. 'singleton_25'\n",
       "26. 'singleton_26'\n",
       "27. 'shared_1'\n",
       "28. 'shared_2'\n",
       "29. 'shared_3'\n",
       "30. 'shared_4'\n",
       "31. 'shared_5'\n",
       "32. 'paired_1'\n",
       "33. 'blocked_1'\n",
       "\n",
       "\n"
      ],
      "text/plain": [
       " [1] \"singleton_1\"  \"singleton_2\"  \"singleton_3\"  \"singleton_4\"  \"singleton_5\" \n",
       " [6] \"singleton_6\"  \"singleton_7\"  \"singleton_8\"  \"singleton_9\"  \"singleton_10\"\n",
       "[11] \"singleton_11\" \"singleton_12\" \"singleton_13\" \"singleton_14\" \"singleton_15\"\n",
       "[16] \"singleton_16\" \"singleton_17\" \"singleton_18\" \"singleton_19\" \"singleton_20\"\n",
       "[21] \"singleton_21\" \"singleton_22\" \"singleton_23\" \"singleton_24\" \"singleton_25\"\n",
       "[26] \"singleton_26\" \"shared_1\"     \"shared_2\"     \"shared_3\"     \"shared_4\"    \n",
       "[31] \"shared_5\"     \"paired_1\"     \"blocked_1\"   "
      ]
     },
     "metadata": {},
     "output_type": "display_data"
    }
   ],
   "source": [
    "names(prior)"
   ]
  },
  {
   "cell_type": "code",
   "execution_count": 8,
   "metadata": {},
   "outputs": [
    {
     "data": {
      "text/html": [
       "1"
      ],
      "text/latex": [
       "1"
      ],
      "text/markdown": [
       "1"
      ],
      "text/plain": [
       "[1] 1"
      ]
     },
     "metadata": {},
     "output_type": "display_data"
    }
   ],
   "source": [
    "w = w[which(w>0)]\n",
    "sum(w)"
   ]
  },
  {
   "cell_type": "code",
   "execution_count": 9,
   "metadata": {},
   "outputs": [
    {
     "data": {
      "text/html": [
       "33"
      ],
      "text/latex": [
       "33"
      ],
      "text/markdown": [
       "33"
      ],
      "text/plain": [
       "[1] 33"
      ]
     },
     "metadata": {},
     "output_type": "display_data"
    }
   ],
   "source": [
    "length(w)"
   ]
  },
  {
   "cell_type": "code",
   "execution_count": 10,
   "metadata": {},
   "outputs": [],
   "source": [
    "artificial_mixture_50 = list(U=prior,w=w)"
   ]
  },
  {
   "cell_type": "markdown",
   "metadata": {},
   "source": [
    "### With 6 conditions"
   ]
  },
  {
   "cell_type": "code",
   "execution_count": 11,
   "metadata": {},
   "outputs": [],
   "source": [
    "R=6\n",
    "prior = mmbr:::create_cov_canonical(R)\n",
    "paired = matrix(0,R,R)\n",
    "paired[1:2,1:2] = 1\n",
    "prior[['paired_1']] = paired\n",
    "block = matrix(0,R,R)\n",
    "block[1:R/2, 1:R/2] = 1\n",
    "block[(R/2+1):R, (R/2+1):R] = 1\n",
    "prior[['blocked_1']] = block"
   ]
  },
  {
   "cell_type": "code",
   "execution_count": 12,
   "metadata": {},
   "outputs": [
    {
     "data": {
      "text/html": [
       "<ol class=list-inline>\n",
       "\t<li>'singleton_1'</li>\n",
       "\t<li>'singleton_2'</li>\n",
       "\t<li>'singleton_3'</li>\n",
       "\t<li>'singleton_4'</li>\n",
       "\t<li>'singleton_5'</li>\n",
       "\t<li>'singleton_6'</li>\n",
       "\t<li>'shared_1'</li>\n",
       "\t<li>'shared_2'</li>\n",
       "\t<li>'shared_3'</li>\n",
       "\t<li>'shared_4'</li>\n",
       "\t<li>'shared_5'</li>\n",
       "\t<li>'paired_1'</li>\n",
       "\t<li>'blocked_1'</li>\n",
       "</ol>\n"
      ],
      "text/latex": [
       "\\begin{enumerate*}\n",
       "\\item 'singleton\\_1'\n",
       "\\item 'singleton\\_2'\n",
       "\\item 'singleton\\_3'\n",
       "\\item 'singleton\\_4'\n",
       "\\item 'singleton\\_5'\n",
       "\\item 'singleton\\_6'\n",
       "\\item 'shared\\_1'\n",
       "\\item 'shared\\_2'\n",
       "\\item 'shared\\_3'\n",
       "\\item 'shared\\_4'\n",
       "\\item 'shared\\_5'\n",
       "\\item 'paired\\_1'\n",
       "\\item 'blocked\\_1'\n",
       "\\end{enumerate*}\n"
      ],
      "text/markdown": [
       "1. 'singleton_1'\n",
       "2. 'singleton_2'\n",
       "3. 'singleton_3'\n",
       "4. 'singleton_4'\n",
       "5. 'singleton_5'\n",
       "6. 'singleton_6'\n",
       "7. 'shared_1'\n",
       "8. 'shared_2'\n",
       "9. 'shared_3'\n",
       "10. 'shared_4'\n",
       "11. 'shared_5'\n",
       "12. 'paired_1'\n",
       "13. 'blocked_1'\n",
       "\n",
       "\n"
      ],
      "text/plain": [
       " [1] \"singleton_1\" \"singleton_2\" \"singleton_3\" \"singleton_4\" \"singleton_5\"\n",
       " [6] \"singleton_6\" \"shared_1\"    \"shared_2\"    \"shared_3\"    \"shared_4\"   \n",
       "[11] \"shared_5\"    \"paired_1\"    \"blocked_1\"  "
      ]
     },
     "metadata": {},
     "output_type": "display_data"
    }
   ],
   "source": [
    "names(prior)"
   ]
  },
  {
   "cell_type": "markdown",
   "metadata": {},
   "source": [
    "Now assign some weights:\n",
    "\n",
    "1. singleton total 30%\n",
    "    - singleton_1, singleton_3, singleton_5 each has 10%\n",
    "2. shared total 30%\n",
    "3. paired 20%\n",
    "4. blocked 20%"
   ]
  },
  {
   "cell_type": "code",
   "execution_count": 13,
   "metadata": {},
   "outputs": [],
   "source": [
    "w = c(0.1, 0, 0.1, 0, 0.1, 0, rep(0.3/5, 5), 0.2, 0.2)"
   ]
  },
  {
   "cell_type": "code",
   "execution_count": 14,
   "metadata": {},
   "outputs": [
    {
     "data": {
      "text/html": [
       "<ol class=list-inline>\n",
       "\t<li>'singleton_1'</li>\n",
       "\t<li>'singleton_3'</li>\n",
       "\t<li>'singleton_5'</li>\n",
       "\t<li>'shared_1'</li>\n",
       "\t<li>'shared_2'</li>\n",
       "\t<li>'shared_3'</li>\n",
       "\t<li>'shared_4'</li>\n",
       "\t<li>'shared_5'</li>\n",
       "\t<li>'paired_1'</li>\n",
       "\t<li>'blocked_1'</li>\n",
       "</ol>\n"
      ],
      "text/latex": [
       "\\begin{enumerate*}\n",
       "\\item 'singleton\\_1'\n",
       "\\item 'singleton\\_3'\n",
       "\\item 'singleton\\_5'\n",
       "\\item 'shared\\_1'\n",
       "\\item 'shared\\_2'\n",
       "\\item 'shared\\_3'\n",
       "\\item 'shared\\_4'\n",
       "\\item 'shared\\_5'\n",
       "\\item 'paired\\_1'\n",
       "\\item 'blocked\\_1'\n",
       "\\end{enumerate*}\n"
      ],
      "text/markdown": [
       "1. 'singleton_1'\n",
       "2. 'singleton_3'\n",
       "3. 'singleton_5'\n",
       "4. 'shared_1'\n",
       "5. 'shared_2'\n",
       "6. 'shared_3'\n",
       "7. 'shared_4'\n",
       "8. 'shared_5'\n",
       "9. 'paired_1'\n",
       "10. 'blocked_1'\n",
       "\n",
       "\n"
      ],
      "text/plain": [
       " [1] \"singleton_1\" \"singleton_3\" \"singleton_5\" \"shared_1\"    \"shared_2\"   \n",
       " [6] \"shared_3\"    \"shared_4\"    \"shared_5\"    \"paired_1\"    \"blocked_1\"  "
      ]
     },
     "metadata": {},
     "output_type": "display_data"
    }
   ],
   "source": [
    "prior = prior[which(w>0)]\n",
    "names(prior)"
   ]
  },
  {
   "cell_type": "code",
   "execution_count": 15,
   "metadata": {},
   "outputs": [
    {
     "data": {
      "text/html": [
       "1"
      ],
      "text/latex": [
       "1"
      ],
      "text/markdown": [
       "1"
      ],
      "text/plain": [
       "[1] 1"
      ]
     },
     "metadata": {},
     "output_type": "display_data"
    }
   ],
   "source": [
    "w = w[which(w>0)]\n",
    "sum(w)"
   ]
  },
  {
   "cell_type": "code",
   "execution_count": 16,
   "metadata": {},
   "outputs": [
    {
     "data": {
      "text/html": [
       "10"
      ],
      "text/latex": [
       "10"
      ],
      "text/markdown": [
       "10"
      ],
      "text/plain": [
       "[1] 10"
      ]
     },
     "metadata": {},
     "output_type": "display_data"
    }
   ],
   "source": [
    "length(w)"
   ]
  },
  {
   "cell_type": "code",
   "execution_count": 17,
   "metadata": {},
   "outputs": [],
   "source": [
    "artificial_mixture_6 = list(U=prior,w=w)"
   ]
  },
  {
   "cell_type": "markdown",
   "metadata": {},
   "source": [
    "## Mixture from GTEx\n",
    "\n",
    "Using [this workflow](20200502_Prepare_ED_prior.html),\n",
    "\n",
    "```\n",
    "sos run ~/GIT/gtexresults/workflows/mashr_flashr_workflow.ipynb flash \\\n",
    "    --cwd /project2/compbio/GTEx_eQTL/mashr_flashr_workflow_output \\\n",
    "    --data /project2/compbio/GTEx_eQTL/mashr_flashr_workflow_output/FastQTLSumStats.mash.rds \\\n",
    "    --effect-model EE -c midway2.yml -q midway2\n",
    "sos run analysis/20200502_Prepare_ED_prior.ipynb ed \\\n",
    "    --cwd /project2/compbio/GTEx_eQTL/mashr_flashr_workflow_output \\\n",
    "    --model FastQTLSumStats.mash -c midway2.yml -q midway2\n",
    "```"
   ]
  },
  {
   "cell_type": "code",
   "execution_count": 18,
   "metadata": {},
   "outputs": [],
   "source": [
    "prior = readRDS('../data/FastQTLSumStats.mash.FL_PC3.ED.rds')"
   ]
  },
  {
   "cell_type": "code",
   "execution_count": 19,
   "metadata": {},
   "outputs": [
    {
     "data": {
      "text/html": [
       "<ol class=list-inline>\n",
       "\t<li>'FLASH_1'</li>\n",
       "\t<li>'FLASH_2'</li>\n",
       "\t<li>'FLASH_3'</li>\n",
       "\t<li>'FLASH_4'</li>\n",
       "\t<li>'FLASH_5'</li>\n",
       "\t<li>'FLASH_6'</li>\n",
       "\t<li>'FLASH_7'</li>\n",
       "\t<li>'FLASH_8'</li>\n",
       "\t<li>'FLASH_9'</li>\n",
       "\t<li>'FLASH_10'</li>\n",
       "\t<li>'FLASH_11'</li>\n",
       "\t<li>'FLASH_12'</li>\n",
       "\t<li>'FLASH_13'</li>\n",
       "\t<li>'FLASH_14'</li>\n",
       "\t<li>'FLASH_15'</li>\n",
       "\t<li>'FLASH_16'</li>\n",
       "\t<li>'FLASH_17'</li>\n",
       "\t<li>'FLASH_18'</li>\n",
       "\t<li>'FLASH_19'</li>\n",
       "\t<li>'FLASH_20'</li>\n",
       "\t<li>'tFLASH'</li>\n",
       "\t<li>'PCA_1'</li>\n",
       "\t<li>'PCA_2'</li>\n",
       "\t<li>'PCA_3'</li>\n",
       "\t<li>'tPCA'</li>\n",
       "\t<li>'XX'</li>\n",
       "</ol>\n"
      ],
      "text/latex": [
       "\\begin{enumerate*}\n",
       "\\item 'FLASH\\_1'\n",
       "\\item 'FLASH\\_2'\n",
       "\\item 'FLASH\\_3'\n",
       "\\item 'FLASH\\_4'\n",
       "\\item 'FLASH\\_5'\n",
       "\\item 'FLASH\\_6'\n",
       "\\item 'FLASH\\_7'\n",
       "\\item 'FLASH\\_8'\n",
       "\\item 'FLASH\\_9'\n",
       "\\item 'FLASH\\_10'\n",
       "\\item 'FLASH\\_11'\n",
       "\\item 'FLASH\\_12'\n",
       "\\item 'FLASH\\_13'\n",
       "\\item 'FLASH\\_14'\n",
       "\\item 'FLASH\\_15'\n",
       "\\item 'FLASH\\_16'\n",
       "\\item 'FLASH\\_17'\n",
       "\\item 'FLASH\\_18'\n",
       "\\item 'FLASH\\_19'\n",
       "\\item 'FLASH\\_20'\n",
       "\\item 'tFLASH'\n",
       "\\item 'PCA\\_1'\n",
       "\\item 'PCA\\_2'\n",
       "\\item 'PCA\\_3'\n",
       "\\item 'tPCA'\n",
       "\\item 'XX'\n",
       "\\end{enumerate*}\n"
      ],
      "text/markdown": [
       "1. 'FLASH_1'\n",
       "2. 'FLASH_2'\n",
       "3. 'FLASH_3'\n",
       "4. 'FLASH_4'\n",
       "5. 'FLASH_5'\n",
       "6. 'FLASH_6'\n",
       "7. 'FLASH_7'\n",
       "8. 'FLASH_8'\n",
       "9. 'FLASH_9'\n",
       "10. 'FLASH_10'\n",
       "11. 'FLASH_11'\n",
       "12. 'FLASH_12'\n",
       "13. 'FLASH_13'\n",
       "14. 'FLASH_14'\n",
       "15. 'FLASH_15'\n",
       "16. 'FLASH_16'\n",
       "17. 'FLASH_17'\n",
       "18. 'FLASH_18'\n",
       "19. 'FLASH_19'\n",
       "20. 'FLASH_20'\n",
       "21. 'tFLASH'\n",
       "22. 'PCA_1'\n",
       "23. 'PCA_2'\n",
       "24. 'PCA_3'\n",
       "25. 'tPCA'\n",
       "26. 'XX'\n",
       "\n",
       "\n"
      ],
      "text/plain": [
       " [1] \"FLASH_1\"  \"FLASH_2\"  \"FLASH_3\"  \"FLASH_4\"  \"FLASH_5\"  \"FLASH_6\" \n",
       " [7] \"FLASH_7\"  \"FLASH_8\"  \"FLASH_9\"  \"FLASH_10\" \"FLASH_11\" \"FLASH_12\"\n",
       "[13] \"FLASH_13\" \"FLASH_14\" \"FLASH_15\" \"FLASH_16\" \"FLASH_17\" \"FLASH_18\"\n",
       "[19] \"FLASH_19\" \"FLASH_20\" \"tFLASH\"   \"PCA_1\"    \"PCA_2\"    \"PCA_3\"   \n",
       "[25] \"tPCA\"     \"XX\"      "
      ]
     },
     "metadata": {},
     "output_type": "display_data"
    }
   ],
   "source": [
    "names(prior$U)"
   ]
  },
  {
   "cell_type": "code",
   "execution_count": 20,
   "metadata": {},
   "outputs": [
    {
     "data": {
      "text/html": [
       "26"
      ],
      "text/latex": [
       "26"
      ],
      "text/markdown": [
       "26"
      ],
      "text/plain": [
       "[1] 26"
      ]
     },
     "metadata": {},
     "output_type": "display_data"
    }
   ],
   "source": [
    "length(prior$U)"
   ]
  },
  {
   "cell_type": "markdown",
   "metadata": {},
   "source": [
    "Most weighths are in `tFLASH` and `XX`,"
   ]
  },
  {
   "cell_type": "code",
   "execution_count": 21,
   "metadata": {},
   "outputs": [
    {
     "data": {
      "text/html": [
       "<ol class=list-inline>\n",
       "\t<li>'tFLASH'</li>\n",
       "\t<li>'XX'</li>\n",
       "</ol>\n"
      ],
      "text/latex": [
       "\\begin{enumerate*}\n",
       "\\item 'tFLASH'\n",
       "\\item 'XX'\n",
       "\\end{enumerate*}\n"
      ],
      "text/markdown": [
       "1. 'tFLASH'\n",
       "2. 'XX'\n",
       "\n",
       "\n"
      ],
      "text/plain": [
       "[1] \"tFLASH\" \"XX\"    "
      ]
     },
     "metadata": {},
     "output_type": "display_data"
    }
   ],
   "source": [
    "names(prior$U)[prior$w>0.1]"
   ]
  },
  {
   "cell_type": "markdown",
   "metadata": {},
   "source": [
    "But many other weights are also non-trivial"
   ]
  },
  {
   "cell_type": "code",
   "execution_count": 22,
   "metadata": {},
   "outputs": [
    {
     "data": {
      "text/html": [
       "<ol class=list-inline>\n",
       "\t<li>'FLASH_1'</li>\n",
       "\t<li>'FLASH_3'</li>\n",
       "\t<li>'FLASH_5'</li>\n",
       "\t<li>'FLASH_6'</li>\n",
       "\t<li>'FLASH_7'</li>\n",
       "\t<li>'FLASH_8'</li>\n",
       "\t<li>'FLASH_9'</li>\n",
       "\t<li>'FLASH_10'</li>\n",
       "\t<li>'FLASH_11'</li>\n",
       "\t<li>'FLASH_12'</li>\n",
       "\t<li>'FLASH_13'</li>\n",
       "\t<li>'FLASH_14'</li>\n",
       "\t<li>'FLASH_16'</li>\n",
       "\t<li>'FLASH_17'</li>\n",
       "\t<li>'FLASH_18'</li>\n",
       "\t<li>'FLASH_19'</li>\n",
       "\t<li>'FLASH_20'</li>\n",
       "\t<li>'tFLASH'</li>\n",
       "\t<li>'tPCA'</li>\n",
       "\t<li>'XX'</li>\n",
       "</ol>\n"
      ],
      "text/latex": [
       "\\begin{enumerate*}\n",
       "\\item 'FLASH\\_1'\n",
       "\\item 'FLASH\\_3'\n",
       "\\item 'FLASH\\_5'\n",
       "\\item 'FLASH\\_6'\n",
       "\\item 'FLASH\\_7'\n",
       "\\item 'FLASH\\_8'\n",
       "\\item 'FLASH\\_9'\n",
       "\\item 'FLASH\\_10'\n",
       "\\item 'FLASH\\_11'\n",
       "\\item 'FLASH\\_12'\n",
       "\\item 'FLASH\\_13'\n",
       "\\item 'FLASH\\_14'\n",
       "\\item 'FLASH\\_16'\n",
       "\\item 'FLASH\\_17'\n",
       "\\item 'FLASH\\_18'\n",
       "\\item 'FLASH\\_19'\n",
       "\\item 'FLASH\\_20'\n",
       "\\item 'tFLASH'\n",
       "\\item 'tPCA'\n",
       "\\item 'XX'\n",
       "\\end{enumerate*}\n"
      ],
      "text/markdown": [
       "1. 'FLASH_1'\n",
       "2. 'FLASH_3'\n",
       "3. 'FLASH_5'\n",
       "4. 'FLASH_6'\n",
       "5. 'FLASH_7'\n",
       "6. 'FLASH_8'\n",
       "7. 'FLASH_9'\n",
       "8. 'FLASH_10'\n",
       "9. 'FLASH_11'\n",
       "10. 'FLASH_12'\n",
       "11. 'FLASH_13'\n",
       "12. 'FLASH_14'\n",
       "13. 'FLASH_16'\n",
       "14. 'FLASH_17'\n",
       "15. 'FLASH_18'\n",
       "16. 'FLASH_19'\n",
       "17. 'FLASH_20'\n",
       "18. 'tFLASH'\n",
       "19. 'tPCA'\n",
       "20. 'XX'\n",
       "\n",
       "\n"
      ],
      "text/plain": [
       " [1] \"FLASH_1\"  \"FLASH_3\"  \"FLASH_5\"  \"FLASH_6\"  \"FLASH_7\"  \"FLASH_8\" \n",
       " [7] \"FLASH_9\"  \"FLASH_10\" \"FLASH_11\" \"FLASH_12\" \"FLASH_13\" \"FLASH_14\"\n",
       "[13] \"FLASH_16\" \"FLASH_17\" \"FLASH_18\" \"FLASH_19\" \"FLASH_20\" \"tFLASH\"  \n",
       "[19] \"tPCA\"     \"XX\"      "
      ]
     },
     "metadata": {},
     "output_type": "display_data"
    }
   ],
   "source": [
    "names(prior$U)[prior$w>0.001]"
   ]
  },
  {
   "cell_type": "code",
   "execution_count": 23,
   "metadata": {},
   "outputs": [
    {
     "data": {
      "text/html": [
       "<ol class=list-inline>\n",
       "\t<li>'FLASH_1'</li>\n",
       "\t<li>'FLASH_2'</li>\n",
       "\t<li>'FLASH_3'</li>\n",
       "\t<li>'FLASH_4'</li>\n",
       "\t<li>'FLASH_5'</li>\n",
       "\t<li>'FLASH_6'</li>\n",
       "\t<li>'FLASH_7'</li>\n",
       "\t<li>'FLASH_8'</li>\n",
       "\t<li>'FLASH_9'</li>\n",
       "\t<li>'FLASH_10'</li>\n",
       "\t<li>'FLASH_11'</li>\n",
       "\t<li>'FLASH_12'</li>\n",
       "\t<li>'FLASH_13'</li>\n",
       "\t<li>'FLASH_14'</li>\n",
       "\t<li>'FLASH_15'</li>\n",
       "\t<li>'FLASH_16'</li>\n",
       "\t<li>'FLASH_17'</li>\n",
       "\t<li>'FLASH_18'</li>\n",
       "\t<li>'FLASH_19'</li>\n",
       "\t<li>'FLASH_20'</li>\n",
       "\t<li>'tFLASH'</li>\n",
       "\t<li>'PCA_1'</li>\n",
       "\t<li>'PCA_3'</li>\n",
       "\t<li>'tPCA'</li>\n",
       "\t<li>'XX'</li>\n",
       "</ol>\n"
      ],
      "text/latex": [
       "\\begin{enumerate*}\n",
       "\\item 'FLASH\\_1'\n",
       "\\item 'FLASH\\_2'\n",
       "\\item 'FLASH\\_3'\n",
       "\\item 'FLASH\\_4'\n",
       "\\item 'FLASH\\_5'\n",
       "\\item 'FLASH\\_6'\n",
       "\\item 'FLASH\\_7'\n",
       "\\item 'FLASH\\_8'\n",
       "\\item 'FLASH\\_9'\n",
       "\\item 'FLASH\\_10'\n",
       "\\item 'FLASH\\_11'\n",
       "\\item 'FLASH\\_12'\n",
       "\\item 'FLASH\\_13'\n",
       "\\item 'FLASH\\_14'\n",
       "\\item 'FLASH\\_15'\n",
       "\\item 'FLASH\\_16'\n",
       "\\item 'FLASH\\_17'\n",
       "\\item 'FLASH\\_18'\n",
       "\\item 'FLASH\\_19'\n",
       "\\item 'FLASH\\_20'\n",
       "\\item 'tFLASH'\n",
       "\\item 'PCA\\_1'\n",
       "\\item 'PCA\\_3'\n",
       "\\item 'tPCA'\n",
       "\\item 'XX'\n",
       "\\end{enumerate*}\n"
      ],
      "text/markdown": [
       "1. 'FLASH_1'\n",
       "2. 'FLASH_2'\n",
       "3. 'FLASH_3'\n",
       "4. 'FLASH_4'\n",
       "5. 'FLASH_5'\n",
       "6. 'FLASH_6'\n",
       "7. 'FLASH_7'\n",
       "8. 'FLASH_8'\n",
       "9. 'FLASH_9'\n",
       "10. 'FLASH_10'\n",
       "11. 'FLASH_11'\n",
       "12. 'FLASH_12'\n",
       "13. 'FLASH_13'\n",
       "14. 'FLASH_14'\n",
       "15. 'FLASH_15'\n",
       "16. 'FLASH_16'\n",
       "17. 'FLASH_17'\n",
       "18. 'FLASH_18'\n",
       "19. 'FLASH_19'\n",
       "20. 'FLASH_20'\n",
       "21. 'tFLASH'\n",
       "22. 'PCA_1'\n",
       "23. 'PCA_3'\n",
       "24. 'tPCA'\n",
       "25. 'XX'\n",
       "\n",
       "\n"
      ],
      "text/plain": [
       " [1] \"FLASH_1\"  \"FLASH_2\"  \"FLASH_3\"  \"FLASH_4\"  \"FLASH_5\"  \"FLASH_6\" \n",
       " [7] \"FLASH_7\"  \"FLASH_8\"  \"FLASH_9\"  \"FLASH_10\" \"FLASH_11\" \"FLASH_12\"\n",
       "[13] \"FLASH_13\" \"FLASH_14\" \"FLASH_15\" \"FLASH_16\" \"FLASH_17\" \"FLASH_18\"\n",
       "[19] \"FLASH_19\" \"FLASH_20\" \"tFLASH\"   \"PCA_1\"    \"PCA_3\"    \"tPCA\"    \n",
       "[25] \"XX\"      "
      ]
     },
     "metadata": {},
     "output_type": "display_data"
    }
   ],
   "source": [
    "tol = 1E-12\n",
    "U = prior$U[which(prior$w>tol)]\n",
    "w = prior$w[which(prior$w>tol)]\n",
    "names(U)\n",
    "gtex_mixture = list(U=U,w=w)"
   ]
  },
  {
   "cell_type": "code",
   "execution_count": 24,
   "metadata": {},
   "outputs": [],
   "source": [
    "saveRDS(list(gtex_mixture=gtex_mixture, artificial_mixture_50=artificial_mixture_50, artificial_mixture_6=artificial_mixture_6), '../data/prior_simulation.rds')"
   ]
  },
  {
   "cell_type": "markdown",
   "metadata": {},
   "source": [
    "## Using weights learned from simulated data\n",
    "\n",
    "Workflow see [this notebook](https://gaow.github.io/mvarbvs/analysis/20200502_Prepare_ED_prior.html). "
   ]
  },
  {
   "cell_type": "code",
   "execution_count": 25,
   "metadata": {},
   "outputs": [],
   "source": [
    "dat = readRDS('../data/prior_simulation.rds')"
   ]
  },
  {
   "cell_type": "code",
   "execution_count": 26,
   "metadata": {},
   "outputs": [
    {
     "data": {
      "text/html": [
       "<ol class=list-inline>\n",
       "\t<li>'U'</li>\n",
       "\t<li>'w'</li>\n",
       "</ol>\n"
      ],
      "text/latex": [
       "\\begin{enumerate*}\n",
       "\\item 'U'\n",
       "\\item 'w'\n",
       "\\end{enumerate*}\n"
      ],
      "text/markdown": [
       "1. 'U'\n",
       "2. 'w'\n",
       "\n",
       "\n"
      ],
      "text/plain": [
       "[1] \"U\" \"w\""
      ]
     },
     "metadata": {},
     "output_type": "display_data"
    }
   ],
   "source": [
    "names(dat$gtex_mixture)"
   ]
  },
  {
   "cell_type": "markdown",
   "metadata": {},
   "source": [
    "Load ED mixture,"
   ]
  },
  {
   "cell_type": "code",
   "execution_count": 27,
   "metadata": {},
   "outputs": [],
   "source": [
    "gtex_ed_mixture = readRDS('~/GIT/mvarbvs/dsc/mnm_prototype/mnm_sumstats/gtex_mixture_identity.FL_PC3.ED.rds')"
   ]
  },
  {
   "cell_type": "code",
   "execution_count": 28,
   "metadata": {},
   "outputs": [
    {
     "data": {
      "text/html": [
       "<ol class=list-inline>\n",
       "\t<li>'U'</li>\n",
       "\t<li>'w'</li>\n",
       "\t<li>'loglik'</li>\n",
       "</ol>\n"
      ],
      "text/latex": [
       "\\begin{enumerate*}\n",
       "\\item 'U'\n",
       "\\item 'w'\n",
       "\\item 'loglik'\n",
       "\\end{enumerate*}\n"
      ],
      "text/markdown": [
       "1. 'U'\n",
       "2. 'w'\n",
       "3. 'loglik'\n",
       "\n",
       "\n"
      ],
      "text/plain": [
       "[1] \"U\"      \"w\"      \"loglik\""
      ]
     },
     "metadata": {},
     "output_type": "display_data"
    }
   ],
   "source": [
    "names(gtex_ed_mixture)"
   ]
  },
  {
   "cell_type": "code",
   "execution_count": 29,
   "metadata": {},
   "outputs": [],
   "source": [
    "artificial_ed_mixture_50 = readRDS('~/GIT/mvarbvs/dsc/mnm_prototype/mnm_sumstats/artificial_mixture_identity.FL_PC3.ED.rds')"
   ]
  },
  {
   "cell_type": "code",
   "execution_count": 30,
   "metadata": {},
   "outputs": [
    {
     "data": {
      "text/html": [
       "<ol class=list-inline>\n",
       "\t<li>'U'</li>\n",
       "\t<li>'w'</li>\n",
       "\t<li>'loglik'</li>\n",
       "</ol>\n"
      ],
      "text/latex": [
       "\\begin{enumerate*}\n",
       "\\item 'U'\n",
       "\\item 'w'\n",
       "\\item 'loglik'\n",
       "\\end{enumerate*}\n"
      ],
      "text/markdown": [
       "1. 'U'\n",
       "2. 'w'\n",
       "3. 'loglik'\n",
       "\n",
       "\n"
      ],
      "text/plain": [
       "[1] \"U\"      \"w\"      \"loglik\""
      ]
     },
     "metadata": {},
     "output_type": "display_data"
    }
   ],
   "source": [
    "names(artificial_ed_mixture_50)"
   ]
  },
  {
   "cell_type": "markdown",
   "metadata": {},
   "source": [
    "Filter the components by weight cutoff `1E-15`,"
   ]
  },
  {
   "cell_type": "code",
   "execution_count": 31,
   "metadata": {},
   "outputs": [],
   "source": [
    "tol = 1E-15\n",
    "artificial_ed_mixture_50$U = artificial_ed_mixture_50$U[which(artificial_ed_mixture_50$w > tol)]\n",
    "artificial_ed_mixture_50$w = artificial_ed_mixture_50$w[which(artificial_ed_mixture_50$w > tol)]\n",
    "gtex_ed_mixture$U = gtex_ed_mixture$U[which(gtex_ed_mixture$w > tol)]\n",
    "gtex_ed_mixture$w = gtex_ed_mixture$w[which(gtex_ed_mixture$w > tol)]"
   ]
  },
  {
   "cell_type": "code",
   "execution_count": 32,
   "metadata": {},
   "outputs": [
    {
     "data": {
      "text/html": [
       "<ol class=list-inline>\n",
       "\t<li>'FLASH_1'</li>\n",
       "\t<li>'FLASH_4'</li>\n",
       "\t<li>'FLASH_5'</li>\n",
       "\t<li>'FLASH_6'</li>\n",
       "\t<li>'FLASH_7'</li>\n",
       "\t<li>'FLASH_8'</li>\n",
       "\t<li>'FLASH_9'</li>\n",
       "\t<li>'FLASH_10'</li>\n",
       "\t<li>'FLASH_11'</li>\n",
       "\t<li>'FLASH_12'</li>\n",
       "\t<li>'FLASH_14'</li>\n",
       "\t<li>'FLASH_15'</li>\n",
       "\t<li>'FLASH_16'</li>\n",
       "\t<li>'FLASH_17'</li>\n",
       "\t<li>'FLASH_18'</li>\n",
       "\t<li>'FLASH_20'</li>\n",
       "\t<li>'FLASH_22'</li>\n",
       "\t<li>'FLASH_24'</li>\n",
       "\t<li>'FLASH_25'</li>\n",
       "\t<li>'FLASH_27'</li>\n",
       "\t<li>'FLASH_29'</li>\n",
       "\t<li>'FLASH_57'</li>\n",
       "\t<li>'tFLASH'</li>\n",
       "\t<li>'PCA_1'</li>\n",
       "\t<li>'PCA_2'</li>\n",
       "\t<li>'PCA_3'</li>\n",
       "\t<li>'tPCA'</li>\n",
       "\t<li>'XX'</li>\n",
       "</ol>\n"
      ],
      "text/latex": [
       "\\begin{enumerate*}\n",
       "\\item 'FLASH\\_1'\n",
       "\\item 'FLASH\\_4'\n",
       "\\item 'FLASH\\_5'\n",
       "\\item 'FLASH\\_6'\n",
       "\\item 'FLASH\\_7'\n",
       "\\item 'FLASH\\_8'\n",
       "\\item 'FLASH\\_9'\n",
       "\\item 'FLASH\\_10'\n",
       "\\item 'FLASH\\_11'\n",
       "\\item 'FLASH\\_12'\n",
       "\\item 'FLASH\\_14'\n",
       "\\item 'FLASH\\_15'\n",
       "\\item 'FLASH\\_16'\n",
       "\\item 'FLASH\\_17'\n",
       "\\item 'FLASH\\_18'\n",
       "\\item 'FLASH\\_20'\n",
       "\\item 'FLASH\\_22'\n",
       "\\item 'FLASH\\_24'\n",
       "\\item 'FLASH\\_25'\n",
       "\\item 'FLASH\\_27'\n",
       "\\item 'FLASH\\_29'\n",
       "\\item 'FLASH\\_57'\n",
       "\\item 'tFLASH'\n",
       "\\item 'PCA\\_1'\n",
       "\\item 'PCA\\_2'\n",
       "\\item 'PCA\\_3'\n",
       "\\item 'tPCA'\n",
       "\\item 'XX'\n",
       "\\end{enumerate*}\n"
      ],
      "text/markdown": [
       "1. 'FLASH_1'\n",
       "2. 'FLASH_4'\n",
       "3. 'FLASH_5'\n",
       "4. 'FLASH_6'\n",
       "5. 'FLASH_7'\n",
       "6. 'FLASH_8'\n",
       "7. 'FLASH_9'\n",
       "8. 'FLASH_10'\n",
       "9. 'FLASH_11'\n",
       "10. 'FLASH_12'\n",
       "11. 'FLASH_14'\n",
       "12. 'FLASH_15'\n",
       "13. 'FLASH_16'\n",
       "14. 'FLASH_17'\n",
       "15. 'FLASH_18'\n",
       "16. 'FLASH_20'\n",
       "17. 'FLASH_22'\n",
       "18. 'FLASH_24'\n",
       "19. 'FLASH_25'\n",
       "20. 'FLASH_27'\n",
       "21. 'FLASH_29'\n",
       "22. 'FLASH_57'\n",
       "23. 'tFLASH'\n",
       "24. 'PCA_1'\n",
       "25. 'PCA_2'\n",
       "26. 'PCA_3'\n",
       "27. 'tPCA'\n",
       "28. 'XX'\n",
       "\n",
       "\n"
      ],
      "text/plain": [
       " [1] \"FLASH_1\"  \"FLASH_4\"  \"FLASH_5\"  \"FLASH_6\"  \"FLASH_7\"  \"FLASH_8\" \n",
       " [7] \"FLASH_9\"  \"FLASH_10\" \"FLASH_11\" \"FLASH_12\" \"FLASH_14\" \"FLASH_15\"\n",
       "[13] \"FLASH_16\" \"FLASH_17\" \"FLASH_18\" \"FLASH_20\" \"FLASH_22\" \"FLASH_24\"\n",
       "[19] \"FLASH_25\" \"FLASH_27\" \"FLASH_29\" \"FLASH_57\" \"tFLASH\"   \"PCA_1\"   \n",
       "[25] \"PCA_2\"    \"PCA_3\"    \"tPCA\"     \"XX\"      "
      ]
     },
     "metadata": {},
     "output_type": "display_data"
    }
   ],
   "source": [
    "names(artificial_ed_mixture_50$U)"
   ]
  },
  {
   "cell_type": "code",
   "execution_count": 33,
   "metadata": {},
   "outputs": [
    {
     "data": {
      "text/html": [
       "<ol class=list-inline>\n",
       "\t<li>0.0928199835385606</li>\n",
       "\t<li>0.170916160597565</li>\n",
       "\t<li>3.3348060289056e-13</li>\n",
       "\t<li>0.00103070787447895</li>\n",
       "\t<li>0.00355415988483168</li>\n",
       "\t<li>3.49373257500002e-08</li>\n",
       "\t<li>0.00123344516969065</li>\n",
       "\t<li>4.05310561664215e-05</li>\n",
       "\t<li>1.58651158359917e-05</li>\n",
       "\t<li>6.96387520012721e-14</li>\n",
       "\t<li>0.000303771798467122</li>\n",
       "\t<li>0.00771806711741353</li>\n",
       "\t<li>2.82609862930679e-05</li>\n",
       "\t<li>0.000673891478132913</li>\n",
       "\t<li>0.00743608012106805</li>\n",
       "\t<li>7.04580345327831e-05</li>\n",
       "\t<li>0.00713627997477638</li>\n",
       "\t<li>0.000653767355009305</li>\n",
       "\t<li>0.00643943152051095</li>\n",
       "\t<li>0.00673856900028108</li>\n",
       "\t<li>0.00713532869510493</li>\n",
       "\t<li>3.6453881263049e-05</li>\n",
       "\t<li>0.287018132738336</li>\n",
       "\t<li>0.00381418677387528</li>\n",
       "\t<li>0.0154803817130112</li>\n",
       "\t<li>0.00113763435850343</li>\n",
       "\t<li>0.139767896365797</li>\n",
       "\t<li>0.238800519912781</li>\n",
       "</ol>\n"
      ],
      "text/latex": [
       "\\begin{enumerate*}\n",
       "\\item 0.0928199835385606\n",
       "\\item 0.170916160597565\n",
       "\\item 3.3348060289056e-13\n",
       "\\item 0.00103070787447895\n",
       "\\item 0.00355415988483168\n",
       "\\item 3.49373257500002e-08\n",
       "\\item 0.00123344516969065\n",
       "\\item 4.05310561664215e-05\n",
       "\\item 1.58651158359917e-05\n",
       "\\item 6.96387520012721e-14\n",
       "\\item 0.000303771798467122\n",
       "\\item 0.00771806711741353\n",
       "\\item 2.82609862930679e-05\n",
       "\\item 0.000673891478132913\n",
       "\\item 0.00743608012106805\n",
       "\\item 7.04580345327831e-05\n",
       "\\item 0.00713627997477638\n",
       "\\item 0.000653767355009305\n",
       "\\item 0.00643943152051095\n",
       "\\item 0.00673856900028108\n",
       "\\item 0.00713532869510493\n",
       "\\item 3.6453881263049e-05\n",
       "\\item 0.287018132738336\n",
       "\\item 0.00381418677387528\n",
       "\\item 0.0154803817130112\n",
       "\\item 0.00113763435850343\n",
       "\\item 0.139767896365797\n",
       "\\item 0.238800519912781\n",
       "\\end{enumerate*}\n"
      ],
      "text/markdown": [
       "1. 0.0928199835385606\n",
       "2. 0.170916160597565\n",
       "3. 3.3348060289056e-13\n",
       "4. 0.00103070787447895\n",
       "5. 0.00355415988483168\n",
       "6. 3.49373257500002e-08\n",
       "7. 0.00123344516969065\n",
       "8. 4.05310561664215e-05\n",
       "9. 1.58651158359917e-05\n",
       "10. 6.96387520012721e-14\n",
       "11. 0.000303771798467122\n",
       "12. 0.00771806711741353\n",
       "13. 2.82609862930679e-05\n",
       "14. 0.000673891478132913\n",
       "15. 0.00743608012106805\n",
       "16. 7.04580345327831e-05\n",
       "17. 0.00713627997477638\n",
       "18. 0.000653767355009305\n",
       "19. 0.00643943152051095\n",
       "20. 0.00673856900028108\n",
       "21. 0.00713532869510493\n",
       "22. 3.6453881263049e-05\n",
       "23. 0.287018132738336\n",
       "24. 0.00381418677387528\n",
       "25. 0.0154803817130112\n",
       "26. 0.00113763435850343\n",
       "27. 0.139767896365797\n",
       "28. 0.238800519912781\n",
       "\n",
       "\n"
      ],
      "text/plain": [
       " [1] 9.281998e-02 1.709162e-01 3.334806e-13 1.030708e-03 3.554160e-03\n",
       " [6] 3.493733e-08 1.233445e-03 4.053106e-05 1.586512e-05 6.963875e-14\n",
       "[11] 3.037718e-04 7.718067e-03 2.826099e-05 6.738915e-04 7.436080e-03\n",
       "[16] 7.045803e-05 7.136280e-03 6.537674e-04 6.439432e-03 6.738569e-03\n",
       "[21] 7.135329e-03 3.645388e-05 2.870181e-01 3.814187e-03 1.548038e-02\n",
       "[26] 1.137634e-03 1.397679e-01 2.388005e-01"
      ]
     },
     "metadata": {},
     "output_type": "display_data"
    }
   ],
   "source": [
    "artificial_ed_mixture_50$w"
   ]
  },
  {
   "cell_type": "code",
   "execution_count": 34,
   "metadata": {},
   "outputs": [
    {
     "data": {
      "text/html": [
       "<ol class=list-inline>\n",
       "\t<li>'FLASH_1'</li>\n",
       "\t<li>'FLASH_9'</li>\n",
       "\t<li>'FLASH_13'</li>\n",
       "\t<li>'tFLASH'</li>\n",
       "\t<li>'PCA_1'</li>\n",
       "\t<li>'tPCA'</li>\n",
       "\t<li>'XX'</li>\n",
       "</ol>\n"
      ],
      "text/latex": [
       "\\begin{enumerate*}\n",
       "\\item 'FLASH\\_1'\n",
       "\\item 'FLASH\\_9'\n",
       "\\item 'FLASH\\_13'\n",
       "\\item 'tFLASH'\n",
       "\\item 'PCA\\_1'\n",
       "\\item 'tPCA'\n",
       "\\item 'XX'\n",
       "\\end{enumerate*}\n"
      ],
      "text/markdown": [
       "1. 'FLASH_1'\n",
       "2. 'FLASH_9'\n",
       "3. 'FLASH_13'\n",
       "4. 'tFLASH'\n",
       "5. 'PCA_1'\n",
       "6. 'tPCA'\n",
       "7. 'XX'\n",
       "\n",
       "\n"
      ],
      "text/plain": [
       "[1] \"FLASH_1\"  \"FLASH_9\"  \"FLASH_13\" \"tFLASH\"   \"PCA_1\"    \"tPCA\"     \"XX\"      "
      ]
     },
     "metadata": {},
     "output_type": "display_data"
    }
   ],
   "source": [
    "names(gtex_ed_mixture$U)"
   ]
  },
  {
   "cell_type": "code",
   "execution_count": 35,
   "metadata": {},
   "outputs": [
    {
     "data": {
      "text/html": [
       "<ol class=list-inline>\n",
       "\t<li>0.164536632815805</li>\n",
       "\t<li>4.01300227957019e-05</li>\n",
       "\t<li>4.01303516159582e-05</li>\n",
       "\t<li>0.393424772106715</li>\n",
       "\t<li>6.97386166989233e-07</li>\n",
       "\t<li>0.00164345872118286</li>\n",
       "\t<li>0.440314178595684</li>\n",
       "</ol>\n"
      ],
      "text/latex": [
       "\\begin{enumerate*}\n",
       "\\item 0.164536632815805\n",
       "\\item 4.01300227957019e-05\n",
       "\\item 4.01303516159582e-05\n",
       "\\item 0.393424772106715\n",
       "\\item 6.97386166989233e-07\n",
       "\\item 0.00164345872118286\n",
       "\\item 0.440314178595684\n",
       "\\end{enumerate*}\n"
      ],
      "text/markdown": [
       "1. 0.164536632815805\n",
       "2. 4.01300227957019e-05\n",
       "3. 4.01303516159582e-05\n",
       "4. 0.393424772106715\n",
       "5. 6.97386166989233e-07\n",
       "6. 0.00164345872118286\n",
       "7. 0.440314178595684\n",
       "\n",
       "\n"
      ],
      "text/plain": [
       "[1] 1.645366e-01 4.013002e-05 4.013035e-05 3.934248e-01 6.973862e-07\n",
       "[6] 1.643459e-03 4.403142e-01"
      ]
     },
     "metadata": {},
     "output_type": "display_data"
    }
   ],
   "source": [
    "gtex_ed_mixture$w"
   ]
  },
  {
   "cell_type": "code",
   "execution_count": 36,
   "metadata": {},
   "outputs": [],
   "source": [
    "dat$artificial_mixture_50$ED = artificial_ed_mixture_50\n",
    "dat$gtex_mixture$ED = gtex_ed_mixture"
   ]
  },
  {
   "cell_type": "code",
   "execution_count": 37,
   "metadata": {},
   "outputs": [],
   "source": [
    "saveRDS(dat, '../data/prior_simulation.rds')"
   ]
  }
 ],
 "metadata": {
  "kernelspec": {
   "display_name": "R",
   "language": "R",
   "name": "ir"
  },
  "language_info": {
   "codemirror_mode": "r",
   "file_extension": ".r",
   "mimetype": "text/x-r-source",
   "name": "R",
   "pygments_lexer": "r",
   "version": "3.6.3"
  }
 },
 "nbformat": 4,
 "nbformat_minor": 4
}
