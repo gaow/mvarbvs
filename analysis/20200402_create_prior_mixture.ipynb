{
 "cells": [
  {
   "cell_type": "markdown",
   "metadata": {},
   "source": [
    "# Create prior mixture for simulation studies\n",
    "\n",
    "This notebook contains scripts to create mixture prior for use with simulations in DSC."
   ]
  },
  {
   "cell_type": "markdown",
   "metadata": {},
   "source": [
    "## Artificial structure\n",
    "\n",
    "Here I'm going to make for 50 conditions patterns of covariate with \n",
    "1. canonical\n",
    "2. paired sharing eg a pair of tissues\n",
    "3. block sharing eg brain\n",
    "\n",
    "### With 50 conditions"
   ]
  },
  {
   "cell_type": "markdown",
   "metadata": {},
   "source": [
    "Canonical patterns of sharing:"
   ]
  },
  {
   "cell_type": "code",
   "execution_count": 1,
   "metadata": {},
   "outputs": [],
   "source": [
    "R=50\n",
    "prior = mmbr:::create_cov_canonical(R)"
   ]
  },
  {
   "cell_type": "markdown",
   "metadata": {},
   "source": [
    "Paired sharing:"
   ]
  },
  {
   "cell_type": "code",
   "execution_count": 2,
   "metadata": {},
   "outputs": [],
   "source": [
    "paired = matrix(0,R,R)\n",
    "paired[1:2,1:2] = 1\n",
    "prior[['paired_1']] = paired"
   ]
  },
  {
   "cell_type": "markdown",
   "metadata": {},
   "source": [
    "Block sharing:"
   ]
  },
  {
   "cell_type": "code",
   "execution_count": 3,
   "metadata": {},
   "outputs": [],
   "source": [
    "block = matrix(0,R,R)\n",
    "block[1:R/2, 1:R/2] = 1\n",
    "block[(R/2+1):R, (R/2+1):R] = 1\n",
    "prior[['blocked_1']] = block"
   ]
  },
  {
   "cell_type": "code",
   "execution_count": 4,
   "metadata": {},
   "outputs": [
    {
     "data": {
      "text/html": [
       "<style>\n",
       ".list-inline {list-style: none; margin:0; padding: 0}\n",
       ".list-inline>li {display: inline-block}\n",
       ".list-inline>li:not(:last-child)::after {content: \"\\00b7\"; padding: 0 .5ex}\n",
       "</style>\n",
       "<ol class=list-inline><li>'singleton_1'</li><li>'singleton_2'</li><li>'singleton_3'</li><li>'singleton_4'</li><li>'singleton_5'</li><li>'singleton_6'</li><li>'singleton_7'</li><li>'singleton_8'</li><li>'singleton_9'</li><li>'singleton_10'</li><li>'singleton_11'</li><li>'singleton_12'</li><li>'singleton_13'</li><li>'singleton_14'</li><li>'singleton_15'</li><li>'singleton_16'</li><li>'singleton_17'</li><li>'singleton_18'</li><li>'singleton_19'</li><li>'singleton_20'</li><li>'singleton_21'</li><li>'singleton_22'</li><li>'singleton_23'</li><li>'singleton_24'</li><li>'singleton_25'</li><li>'singleton_26'</li><li>'singleton_27'</li><li>'singleton_28'</li><li>'singleton_29'</li><li>'singleton_30'</li><li>'singleton_31'</li><li>'singleton_32'</li><li>'singleton_33'</li><li>'singleton_34'</li><li>'singleton_35'</li><li>'singleton_36'</li><li>'singleton_37'</li><li>'singleton_38'</li><li>'singleton_39'</li><li>'singleton_40'</li><li>'singleton_41'</li><li>'singleton_42'</li><li>'singleton_43'</li><li>'singleton_44'</li><li>'singleton_45'</li><li>'singleton_46'</li><li>'singleton_47'</li><li>'singleton_48'</li><li>'singleton_49'</li><li>'singleton_50'</li><li>'shared_1'</li><li>'shared_2'</li><li>'shared_3'</li><li>'shared_4'</li><li>'shared_5'</li><li>'paired_1'</li><li>'blocked_1'</li></ol>\n"
      ],
      "text/latex": [
       "\\begin{enumerate*}\n",
       "\\item 'singleton\\_1'\n",
       "\\item 'singleton\\_2'\n",
       "\\item 'singleton\\_3'\n",
       "\\item 'singleton\\_4'\n",
       "\\item 'singleton\\_5'\n",
       "\\item 'singleton\\_6'\n",
       "\\item 'singleton\\_7'\n",
       "\\item 'singleton\\_8'\n",
       "\\item 'singleton\\_9'\n",
       "\\item 'singleton\\_10'\n",
       "\\item 'singleton\\_11'\n",
       "\\item 'singleton\\_12'\n",
       "\\item 'singleton\\_13'\n",
       "\\item 'singleton\\_14'\n",
       "\\item 'singleton\\_15'\n",
       "\\item 'singleton\\_16'\n",
       "\\item 'singleton\\_17'\n",
       "\\item 'singleton\\_18'\n",
       "\\item 'singleton\\_19'\n",
       "\\item 'singleton\\_20'\n",
       "\\item 'singleton\\_21'\n",
       "\\item 'singleton\\_22'\n",
       "\\item 'singleton\\_23'\n",
       "\\item 'singleton\\_24'\n",
       "\\item 'singleton\\_25'\n",
       "\\item 'singleton\\_26'\n",
       "\\item 'singleton\\_27'\n",
       "\\item 'singleton\\_28'\n",
       "\\item 'singleton\\_29'\n",
       "\\item 'singleton\\_30'\n",
       "\\item 'singleton\\_31'\n",
       "\\item 'singleton\\_32'\n",
       "\\item 'singleton\\_33'\n",
       "\\item 'singleton\\_34'\n",
       "\\item 'singleton\\_35'\n",
       "\\item 'singleton\\_36'\n",
       "\\item 'singleton\\_37'\n",
       "\\item 'singleton\\_38'\n",
       "\\item 'singleton\\_39'\n",
       "\\item 'singleton\\_40'\n",
       "\\item 'singleton\\_41'\n",
       "\\item 'singleton\\_42'\n",
       "\\item 'singleton\\_43'\n",
       "\\item 'singleton\\_44'\n",
       "\\item 'singleton\\_45'\n",
       "\\item 'singleton\\_46'\n",
       "\\item 'singleton\\_47'\n",
       "\\item 'singleton\\_48'\n",
       "\\item 'singleton\\_49'\n",
       "\\item 'singleton\\_50'\n",
       "\\item 'shared\\_1'\n",
       "\\item 'shared\\_2'\n",
       "\\item 'shared\\_3'\n",
       "\\item 'shared\\_4'\n",
       "\\item 'shared\\_5'\n",
       "\\item 'paired\\_1'\n",
       "\\item 'blocked\\_1'\n",
       "\\end{enumerate*}\n"
      ],
      "text/markdown": [
       "1. 'singleton_1'\n",
       "2. 'singleton_2'\n",
       "3. 'singleton_3'\n",
       "4. 'singleton_4'\n",
       "5. 'singleton_5'\n",
       "6. 'singleton_6'\n",
       "7. 'singleton_7'\n",
       "8. 'singleton_8'\n",
       "9. 'singleton_9'\n",
       "10. 'singleton_10'\n",
       "11. 'singleton_11'\n",
       "12. 'singleton_12'\n",
       "13. 'singleton_13'\n",
       "14. 'singleton_14'\n",
       "15. 'singleton_15'\n",
       "16. 'singleton_16'\n",
       "17. 'singleton_17'\n",
       "18. 'singleton_18'\n",
       "19. 'singleton_19'\n",
       "20. 'singleton_20'\n",
       "21. 'singleton_21'\n",
       "22. 'singleton_22'\n",
       "23. 'singleton_23'\n",
       "24. 'singleton_24'\n",
       "25. 'singleton_25'\n",
       "26. 'singleton_26'\n",
       "27. 'singleton_27'\n",
       "28. 'singleton_28'\n",
       "29. 'singleton_29'\n",
       "30. 'singleton_30'\n",
       "31. 'singleton_31'\n",
       "32. 'singleton_32'\n",
       "33. 'singleton_33'\n",
       "34. 'singleton_34'\n",
       "35. 'singleton_35'\n",
       "36. 'singleton_36'\n",
       "37. 'singleton_37'\n",
       "38. 'singleton_38'\n",
       "39. 'singleton_39'\n",
       "40. 'singleton_40'\n",
       "41. 'singleton_41'\n",
       "42. 'singleton_42'\n",
       "43. 'singleton_43'\n",
       "44. 'singleton_44'\n",
       "45. 'singleton_45'\n",
       "46. 'singleton_46'\n",
       "47. 'singleton_47'\n",
       "48. 'singleton_48'\n",
       "49. 'singleton_49'\n",
       "50. 'singleton_50'\n",
       "51. 'shared_1'\n",
       "52. 'shared_2'\n",
       "53. 'shared_3'\n",
       "54. 'shared_4'\n",
       "55. 'shared_5'\n",
       "56. 'paired_1'\n",
       "57. 'blocked_1'\n",
       "\n",
       "\n"
      ],
      "text/plain": [
       " [1] \"singleton_1\"  \"singleton_2\"  \"singleton_3\"  \"singleton_4\"  \"singleton_5\" \n",
       " [6] \"singleton_6\"  \"singleton_7\"  \"singleton_8\"  \"singleton_9\"  \"singleton_10\"\n",
       "[11] \"singleton_11\" \"singleton_12\" \"singleton_13\" \"singleton_14\" \"singleton_15\"\n",
       "[16] \"singleton_16\" \"singleton_17\" \"singleton_18\" \"singleton_19\" \"singleton_20\"\n",
       "[21] \"singleton_21\" \"singleton_22\" \"singleton_23\" \"singleton_24\" \"singleton_25\"\n",
       "[26] \"singleton_26\" \"singleton_27\" \"singleton_28\" \"singleton_29\" \"singleton_30\"\n",
       "[31] \"singleton_31\" \"singleton_32\" \"singleton_33\" \"singleton_34\" \"singleton_35\"\n",
       "[36] \"singleton_36\" \"singleton_37\" \"singleton_38\" \"singleton_39\" \"singleton_40\"\n",
       "[41] \"singleton_41\" \"singleton_42\" \"singleton_43\" \"singleton_44\" \"singleton_45\"\n",
       "[46] \"singleton_46\" \"singleton_47\" \"singleton_48\" \"singleton_49\" \"singleton_50\"\n",
       "[51] \"shared_1\"     \"shared_2\"     \"shared_3\"     \"shared_4\"     \"shared_5\"    \n",
       "[56] \"paired_1\"     \"blocked_1\"   "
      ]
     },
     "metadata": {},
     "output_type": "display_data"
    }
   ],
   "source": [
    "names(prior)"
   ]
  },
  {
   "cell_type": "markdown",
   "metadata": {},
   "source": [
    "Now assign some weights:\n",
    "\n",
    "1. singleton total 35%\n",
    "    - singleton_1 has 10% (to be picked up later by ED methods)\n",
    "    - singleton_2 to singleton_26 has 25% (1% each )\n",
    "2. shared total 25%\n",
    "3. paired 20% (hopefully picked up by ED methods)\n",
    "4. blocked 20% (hopefully picked up by ED methods)"
   ]
  },
  {
   "cell_type": "code",
   "execution_count": 5,
   "metadata": {},
   "outputs": [],
   "source": [
    "w = c(0.1, rep(0.01,25), rep(0, 24), rep(0.25/5,5), 0.2, 0.2)"
   ]
  },
  {
   "cell_type": "code",
   "execution_count": 6,
   "metadata": {},
   "outputs": [
    {
     "data": {
      "text/html": [
       "1"
      ],
      "text/latex": [
       "1"
      ],
      "text/markdown": [
       "1"
      ],
      "text/plain": [
       "[1] 1"
      ]
     },
     "metadata": {},
     "output_type": "display_data"
    }
   ],
   "source": [
    "sum(w)"
   ]
  },
  {
   "cell_type": "code",
   "execution_count": 7,
   "metadata": {},
   "outputs": [],
   "source": [
    "prior = prior[which(w>0)]"
   ]
  },
  {
   "cell_type": "code",
   "execution_count": 8,
   "metadata": {},
   "outputs": [
    {
     "data": {
      "text/html": [
       "<style>\n",
       ".list-inline {list-style: none; margin:0; padding: 0}\n",
       ".list-inline>li {display: inline-block}\n",
       ".list-inline>li:not(:last-child)::after {content: \"\\00b7\"; padding: 0 .5ex}\n",
       "</style>\n",
       "<ol class=list-inline><li>'singleton_1'</li><li>'singleton_2'</li><li>'singleton_3'</li><li>'singleton_4'</li><li>'singleton_5'</li><li>'singleton_6'</li><li>'singleton_7'</li><li>'singleton_8'</li><li>'singleton_9'</li><li>'singleton_10'</li><li>'singleton_11'</li><li>'singleton_12'</li><li>'singleton_13'</li><li>'singleton_14'</li><li>'singleton_15'</li><li>'singleton_16'</li><li>'singleton_17'</li><li>'singleton_18'</li><li>'singleton_19'</li><li>'singleton_20'</li><li>'singleton_21'</li><li>'singleton_22'</li><li>'singleton_23'</li><li>'singleton_24'</li><li>'singleton_25'</li><li>'singleton_26'</li><li>'shared_1'</li><li>'shared_2'</li><li>'shared_3'</li><li>'shared_4'</li><li>'shared_5'</li><li>'paired_1'</li><li>'blocked_1'</li></ol>\n"
      ],
      "text/latex": [
       "\\begin{enumerate*}\n",
       "\\item 'singleton\\_1'\n",
       "\\item 'singleton\\_2'\n",
       "\\item 'singleton\\_3'\n",
       "\\item 'singleton\\_4'\n",
       "\\item 'singleton\\_5'\n",
       "\\item 'singleton\\_6'\n",
       "\\item 'singleton\\_7'\n",
       "\\item 'singleton\\_8'\n",
       "\\item 'singleton\\_9'\n",
       "\\item 'singleton\\_10'\n",
       "\\item 'singleton\\_11'\n",
       "\\item 'singleton\\_12'\n",
       "\\item 'singleton\\_13'\n",
       "\\item 'singleton\\_14'\n",
       "\\item 'singleton\\_15'\n",
       "\\item 'singleton\\_16'\n",
       "\\item 'singleton\\_17'\n",
       "\\item 'singleton\\_18'\n",
       "\\item 'singleton\\_19'\n",
       "\\item 'singleton\\_20'\n",
       "\\item 'singleton\\_21'\n",
       "\\item 'singleton\\_22'\n",
       "\\item 'singleton\\_23'\n",
       "\\item 'singleton\\_24'\n",
       "\\item 'singleton\\_25'\n",
       "\\item 'singleton\\_26'\n",
       "\\item 'shared\\_1'\n",
       "\\item 'shared\\_2'\n",
       "\\item 'shared\\_3'\n",
       "\\item 'shared\\_4'\n",
       "\\item 'shared\\_5'\n",
       "\\item 'paired\\_1'\n",
       "\\item 'blocked\\_1'\n",
       "\\end{enumerate*}\n"
      ],
      "text/markdown": [
       "1. 'singleton_1'\n",
       "2. 'singleton_2'\n",
       "3. 'singleton_3'\n",
       "4. 'singleton_4'\n",
       "5. 'singleton_5'\n",
       "6. 'singleton_6'\n",
       "7. 'singleton_7'\n",
       "8. 'singleton_8'\n",
       "9. 'singleton_9'\n",
       "10. 'singleton_10'\n",
       "11. 'singleton_11'\n",
       "12. 'singleton_12'\n",
       "13. 'singleton_13'\n",
       "14. 'singleton_14'\n",
       "15. 'singleton_15'\n",
       "16. 'singleton_16'\n",
       "17. 'singleton_17'\n",
       "18. 'singleton_18'\n",
       "19. 'singleton_19'\n",
       "20. 'singleton_20'\n",
       "21. 'singleton_21'\n",
       "22. 'singleton_22'\n",
       "23. 'singleton_23'\n",
       "24. 'singleton_24'\n",
       "25. 'singleton_25'\n",
       "26. 'singleton_26'\n",
       "27. 'shared_1'\n",
       "28. 'shared_2'\n",
       "29. 'shared_3'\n",
       "30. 'shared_4'\n",
       "31. 'shared_5'\n",
       "32. 'paired_1'\n",
       "33. 'blocked_1'\n",
       "\n",
       "\n"
      ],
      "text/plain": [
       " [1] \"singleton_1\"  \"singleton_2\"  \"singleton_3\"  \"singleton_4\"  \"singleton_5\" \n",
       " [6] \"singleton_6\"  \"singleton_7\"  \"singleton_8\"  \"singleton_9\"  \"singleton_10\"\n",
       "[11] \"singleton_11\" \"singleton_12\" \"singleton_13\" \"singleton_14\" \"singleton_15\"\n",
       "[16] \"singleton_16\" \"singleton_17\" \"singleton_18\" \"singleton_19\" \"singleton_20\"\n",
       "[21] \"singleton_21\" \"singleton_22\" \"singleton_23\" \"singleton_24\" \"singleton_25\"\n",
       "[26] \"singleton_26\" \"shared_1\"     \"shared_2\"     \"shared_3\"     \"shared_4\"    \n",
       "[31] \"shared_5\"     \"paired_1\"     \"blocked_1\"   "
      ]
     },
     "metadata": {},
     "output_type": "display_data"
    }
   ],
   "source": [
    "names(prior)"
   ]
  },
  {
   "cell_type": "code",
   "execution_count": 9,
   "metadata": {},
   "outputs": [],
   "source": [
    "artificial_mixture_50 = list(U=prior,w=w)"
   ]
  },
  {
   "cell_type": "markdown",
   "metadata": {},
   "source": [
    "### With 6 conditions"
   ]
  },
  {
   "cell_type": "code",
   "execution_count": 10,
   "metadata": {},
   "outputs": [],
   "source": [
    "R=6\n",
    "prior = mmbr:::create_cov_canonical(R)\n",
    "paired = matrix(0,R,R)\n",
    "paired[1:2,1:2] = 1\n",
    "prior[['paired_1']] = paired\n",
    "block = matrix(0,R,R)\n",
    "block[1:R/2, 1:R/2] = 1\n",
    "block[(R/2+1):R, (R/2+1):R] = 1\n",
    "prior[['blocked_1']] = block"
   ]
  },
  {
   "cell_type": "code",
   "execution_count": 11,
   "metadata": {},
   "outputs": [
    {
     "data": {
      "text/html": [
       "<style>\n",
       ".list-inline {list-style: none; margin:0; padding: 0}\n",
       ".list-inline>li {display: inline-block}\n",
       ".list-inline>li:not(:last-child)::after {content: \"\\00b7\"; padding: 0 .5ex}\n",
       "</style>\n",
       "<ol class=list-inline><li>'singleton_1'</li><li>'singleton_2'</li><li>'singleton_3'</li><li>'singleton_4'</li><li>'singleton_5'</li><li>'singleton_6'</li><li>'shared_1'</li><li>'shared_2'</li><li>'shared_3'</li><li>'shared_4'</li><li>'shared_5'</li><li>'paired_1'</li><li>'blocked_1'</li></ol>\n"
      ],
      "text/latex": [
       "\\begin{enumerate*}\n",
       "\\item 'singleton\\_1'\n",
       "\\item 'singleton\\_2'\n",
       "\\item 'singleton\\_3'\n",
       "\\item 'singleton\\_4'\n",
       "\\item 'singleton\\_5'\n",
       "\\item 'singleton\\_6'\n",
       "\\item 'shared\\_1'\n",
       "\\item 'shared\\_2'\n",
       "\\item 'shared\\_3'\n",
       "\\item 'shared\\_4'\n",
       "\\item 'shared\\_5'\n",
       "\\item 'paired\\_1'\n",
       "\\item 'blocked\\_1'\n",
       "\\end{enumerate*}\n"
      ],
      "text/markdown": [
       "1. 'singleton_1'\n",
       "2. 'singleton_2'\n",
       "3. 'singleton_3'\n",
       "4. 'singleton_4'\n",
       "5. 'singleton_5'\n",
       "6. 'singleton_6'\n",
       "7. 'shared_1'\n",
       "8. 'shared_2'\n",
       "9. 'shared_3'\n",
       "10. 'shared_4'\n",
       "11. 'shared_5'\n",
       "12. 'paired_1'\n",
       "13. 'blocked_1'\n",
       "\n",
       "\n"
      ],
      "text/plain": [
       " [1] \"singleton_1\" \"singleton_2\" \"singleton_3\" \"singleton_4\" \"singleton_5\"\n",
       " [6] \"singleton_6\" \"shared_1\"    \"shared_2\"    \"shared_3\"    \"shared_4\"   \n",
       "[11] \"shared_5\"    \"paired_1\"    \"blocked_1\"  "
      ]
     },
     "metadata": {},
     "output_type": "display_data"
    }
   ],
   "source": [
    "names(prior)"
   ]
  },
  {
   "cell_type": "markdown",
   "metadata": {},
   "source": [
    "Now assign some weights:\n",
    "\n",
    "1. singleton total 30%\n",
    "    - singleton_1, singleton_3, singleton_5 each has 10%\n",
    "2. shared total 30%\n",
    "3. paired 20%\n",
    "4. blocked 20%"
   ]
  },
  {
   "cell_type": "code",
   "execution_count": 12,
   "metadata": {},
   "outputs": [],
   "source": [
    "w = c(0.1, 0, 0.1, 0, 0.1, 0, rep(0.3/5, 5), 0.2, 0.2)"
   ]
  },
  {
   "cell_type": "code",
   "execution_count": 13,
   "metadata": {},
   "outputs": [
    {
     "data": {
      "text/html": [
       "1"
      ],
      "text/latex": [
       "1"
      ],
      "text/markdown": [
       "1"
      ],
      "text/plain": [
       "[1] 1"
      ]
     },
     "metadata": {},
     "output_type": "display_data"
    }
   ],
   "source": [
    "sum(w)"
   ]
  },
  {
   "cell_type": "code",
   "execution_count": 14,
   "metadata": {},
   "outputs": [
    {
     "data": {
      "text/html": [
       "<style>\n",
       ".list-inline {list-style: none; margin:0; padding: 0}\n",
       ".list-inline>li {display: inline-block}\n",
       ".list-inline>li:not(:last-child)::after {content: \"\\00b7\"; padding: 0 .5ex}\n",
       "</style>\n",
       "<ol class=list-inline><li>'singleton_1'</li><li>'singleton_3'</li><li>'singleton_5'</li><li>'shared_1'</li><li>'shared_2'</li><li>'shared_3'</li><li>'shared_4'</li><li>'shared_5'</li><li>'paired_1'</li><li>'blocked_1'</li></ol>\n"
      ],
      "text/latex": [
       "\\begin{enumerate*}\n",
       "\\item 'singleton\\_1'\n",
       "\\item 'singleton\\_3'\n",
       "\\item 'singleton\\_5'\n",
       "\\item 'shared\\_1'\n",
       "\\item 'shared\\_2'\n",
       "\\item 'shared\\_3'\n",
       "\\item 'shared\\_4'\n",
       "\\item 'shared\\_5'\n",
       "\\item 'paired\\_1'\n",
       "\\item 'blocked\\_1'\n",
       "\\end{enumerate*}\n"
      ],
      "text/markdown": [
       "1. 'singleton_1'\n",
       "2. 'singleton_3'\n",
       "3. 'singleton_5'\n",
       "4. 'shared_1'\n",
       "5. 'shared_2'\n",
       "6. 'shared_3'\n",
       "7. 'shared_4'\n",
       "8. 'shared_5'\n",
       "9. 'paired_1'\n",
       "10. 'blocked_1'\n",
       "\n",
       "\n"
      ],
      "text/plain": [
       " [1] \"singleton_1\" \"singleton_3\" \"singleton_5\" \"shared_1\"    \"shared_2\"   \n",
       " [6] \"shared_3\"    \"shared_4\"    \"shared_5\"    \"paired_1\"    \"blocked_1\"  "
      ]
     },
     "metadata": {},
     "output_type": "display_data"
    }
   ],
   "source": [
    "prior = prior[which(w>0)]\n",
    "names(prior)\n",
    "artificial_mixture_6 = list(U=prior,w=w)"
   ]
  },
  {
   "cell_type": "markdown",
   "metadata": {},
   "source": [
    "## Mixture from GTEx\n",
    "\n",
    "Using [this workflow](20200502_Prepare_ED_prior.html),\n",
    "\n",
    "```\n",
    "sos run ~/GIT/gtexresults/workflows/mashr_flashr_workflow.ipynb flash \\\n",
    "    --cwd /project2/compbio/GTEx_eQTL/mashr_flashr_workflow_output \\\n",
    "    --data /project2/compbio/GTEx_eQTL/mashr_flashr_workflow_output/FastQTLSumStats.mash.rds \\\n",
    "    --effect-model EE -c midway2.yml -q midway2\n",
    "sos run analysis/20200502_Prepare_ED_prior.ipynb ed \\\n",
    "    --cwd /project2/compbio/GTEx_eQTL/mashr_flashr_workflow_output \\\n",
    "    --model FastQTLSumStats.mash -c midway2.yml -q midway2\n",
    "```"
   ]
  },
  {
   "cell_type": "code",
   "execution_count": 15,
   "metadata": {},
   "outputs": [],
   "source": [
    "prior = readRDS('../data/FastQTLSumStats.mash.FL_PC3.ED.rds')"
   ]
  },
  {
   "cell_type": "code",
   "execution_count": 16,
   "metadata": {},
   "outputs": [
    {
     "data": {
      "text/html": [
       "<style>\n",
       ".list-inline {list-style: none; margin:0; padding: 0}\n",
       ".list-inline>li {display: inline-block}\n",
       ".list-inline>li:not(:last-child)::after {content: \"\\00b7\"; padding: 0 .5ex}\n",
       "</style>\n",
       "<ol class=list-inline><li>'FLASH_1'</li><li>'FLASH_2'</li><li>'FLASH_3'</li><li>'FLASH_4'</li><li>'FLASH_5'</li><li>'FLASH_6'</li><li>'FLASH_7'</li><li>'FLASH_8'</li><li>'FLASH_9'</li><li>'FLASH_10'</li><li>'FLASH_11'</li><li>'FLASH_12'</li><li>'FLASH_13'</li><li>'FLASH_14'</li><li>'FLASH_15'</li><li>'FLASH_16'</li><li>'FLASH_17'</li><li>'FLASH_18'</li><li>'FLASH_19'</li><li>'FLASH_20'</li><li>'tFLASH'</li><li>'PCA_1'</li><li>'PCA_2'</li><li>'PCA_3'</li><li>'tPCA'</li><li>'XX'</li></ol>\n"
      ],
      "text/latex": [
       "\\begin{enumerate*}\n",
       "\\item 'FLASH\\_1'\n",
       "\\item 'FLASH\\_2'\n",
       "\\item 'FLASH\\_3'\n",
       "\\item 'FLASH\\_4'\n",
       "\\item 'FLASH\\_5'\n",
       "\\item 'FLASH\\_6'\n",
       "\\item 'FLASH\\_7'\n",
       "\\item 'FLASH\\_8'\n",
       "\\item 'FLASH\\_9'\n",
       "\\item 'FLASH\\_10'\n",
       "\\item 'FLASH\\_11'\n",
       "\\item 'FLASH\\_12'\n",
       "\\item 'FLASH\\_13'\n",
       "\\item 'FLASH\\_14'\n",
       "\\item 'FLASH\\_15'\n",
       "\\item 'FLASH\\_16'\n",
       "\\item 'FLASH\\_17'\n",
       "\\item 'FLASH\\_18'\n",
       "\\item 'FLASH\\_19'\n",
       "\\item 'FLASH\\_20'\n",
       "\\item 'tFLASH'\n",
       "\\item 'PCA\\_1'\n",
       "\\item 'PCA\\_2'\n",
       "\\item 'PCA\\_3'\n",
       "\\item 'tPCA'\n",
       "\\item 'XX'\n",
       "\\end{enumerate*}\n"
      ],
      "text/markdown": [
       "1. 'FLASH_1'\n",
       "2. 'FLASH_2'\n",
       "3. 'FLASH_3'\n",
       "4. 'FLASH_4'\n",
       "5. 'FLASH_5'\n",
       "6. 'FLASH_6'\n",
       "7. 'FLASH_7'\n",
       "8. 'FLASH_8'\n",
       "9. 'FLASH_9'\n",
       "10. 'FLASH_10'\n",
       "11. 'FLASH_11'\n",
       "12. 'FLASH_12'\n",
       "13. 'FLASH_13'\n",
       "14. 'FLASH_14'\n",
       "15. 'FLASH_15'\n",
       "16. 'FLASH_16'\n",
       "17. 'FLASH_17'\n",
       "18. 'FLASH_18'\n",
       "19. 'FLASH_19'\n",
       "20. 'FLASH_20'\n",
       "21. 'tFLASH'\n",
       "22. 'PCA_1'\n",
       "23. 'PCA_2'\n",
       "24. 'PCA_3'\n",
       "25. 'tPCA'\n",
       "26. 'XX'\n",
       "\n",
       "\n"
      ],
      "text/plain": [
       " [1] \"FLASH_1\"  \"FLASH_2\"  \"FLASH_3\"  \"FLASH_4\"  \"FLASH_5\"  \"FLASH_6\" \n",
       " [7] \"FLASH_7\"  \"FLASH_8\"  \"FLASH_9\"  \"FLASH_10\" \"FLASH_11\" \"FLASH_12\"\n",
       "[13] \"FLASH_13\" \"FLASH_14\" \"FLASH_15\" \"FLASH_16\" \"FLASH_17\" \"FLASH_18\"\n",
       "[19] \"FLASH_19\" \"FLASH_20\" \"tFLASH\"   \"PCA_1\"    \"PCA_2\"    \"PCA_3\"   \n",
       "[25] \"tPCA\"     \"XX\"      "
      ]
     },
     "metadata": {},
     "output_type": "display_data"
    }
   ],
   "source": [
    "names(prior$U)"
   ]
  },
  {
   "cell_type": "code",
   "execution_count": 17,
   "metadata": {},
   "outputs": [
    {
     "data": {
      "text/html": [
       "26"
      ],
      "text/latex": [
       "26"
      ],
      "text/markdown": [
       "26"
      ],
      "text/plain": [
       "[1] 26"
      ]
     },
     "metadata": {},
     "output_type": "display_data"
    }
   ],
   "source": [
    "length(prior$U)"
   ]
  },
  {
   "cell_type": "markdown",
   "metadata": {},
   "source": [
    "Most weighths are in `tFLASH` and `XX`,"
   ]
  },
  {
   "cell_type": "code",
   "execution_count": 18,
   "metadata": {},
   "outputs": [
    {
     "data": {
      "text/html": [
       "<style>\n",
       ".list-inline {list-style: none; margin:0; padding: 0}\n",
       ".list-inline>li {display: inline-block}\n",
       ".list-inline>li:not(:last-child)::after {content: \"\\00b7\"; padding: 0 .5ex}\n",
       "</style>\n",
       "<ol class=list-inline><li>'tFLASH'</li><li>'XX'</li></ol>\n"
      ],
      "text/latex": [
       "\\begin{enumerate*}\n",
       "\\item 'tFLASH'\n",
       "\\item 'XX'\n",
       "\\end{enumerate*}\n"
      ],
      "text/markdown": [
       "1. 'tFLASH'\n",
       "2. 'XX'\n",
       "\n",
       "\n"
      ],
      "text/plain": [
       "[1] \"tFLASH\" \"XX\"    "
      ]
     },
     "metadata": {},
     "output_type": "display_data"
    }
   ],
   "source": [
    "names(prior$U)[prior$w>0.1]"
   ]
  },
  {
   "cell_type": "markdown",
   "metadata": {},
   "source": [
    "But many other weights are also non-trivial"
   ]
  },
  {
   "cell_type": "code",
   "execution_count": 19,
   "metadata": {},
   "outputs": [
    {
     "data": {
      "text/html": [
       "<style>\n",
       ".list-inline {list-style: none; margin:0; padding: 0}\n",
       ".list-inline>li {display: inline-block}\n",
       ".list-inline>li:not(:last-child)::after {content: \"\\00b7\"; padding: 0 .5ex}\n",
       "</style>\n",
       "<ol class=list-inline><li>'FLASH_1'</li><li>'FLASH_3'</li><li>'FLASH_5'</li><li>'FLASH_6'</li><li>'FLASH_7'</li><li>'FLASH_8'</li><li>'FLASH_9'</li><li>'FLASH_10'</li><li>'FLASH_11'</li><li>'FLASH_12'</li><li>'FLASH_13'</li><li>'FLASH_14'</li><li>'FLASH_16'</li><li>'FLASH_17'</li><li>'FLASH_18'</li><li>'FLASH_19'</li><li>'FLASH_20'</li><li>'tFLASH'</li><li>'tPCA'</li><li>'XX'</li></ol>\n"
      ],
      "text/latex": [
       "\\begin{enumerate*}\n",
       "\\item 'FLASH\\_1'\n",
       "\\item 'FLASH\\_3'\n",
       "\\item 'FLASH\\_5'\n",
       "\\item 'FLASH\\_6'\n",
       "\\item 'FLASH\\_7'\n",
       "\\item 'FLASH\\_8'\n",
       "\\item 'FLASH\\_9'\n",
       "\\item 'FLASH\\_10'\n",
       "\\item 'FLASH\\_11'\n",
       "\\item 'FLASH\\_12'\n",
       "\\item 'FLASH\\_13'\n",
       "\\item 'FLASH\\_14'\n",
       "\\item 'FLASH\\_16'\n",
       "\\item 'FLASH\\_17'\n",
       "\\item 'FLASH\\_18'\n",
       "\\item 'FLASH\\_19'\n",
       "\\item 'FLASH\\_20'\n",
       "\\item 'tFLASH'\n",
       "\\item 'tPCA'\n",
       "\\item 'XX'\n",
       "\\end{enumerate*}\n"
      ],
      "text/markdown": [
       "1. 'FLASH_1'\n",
       "2. 'FLASH_3'\n",
       "3. 'FLASH_5'\n",
       "4. 'FLASH_6'\n",
       "5. 'FLASH_7'\n",
       "6. 'FLASH_8'\n",
       "7. 'FLASH_9'\n",
       "8. 'FLASH_10'\n",
       "9. 'FLASH_11'\n",
       "10. 'FLASH_12'\n",
       "11. 'FLASH_13'\n",
       "12. 'FLASH_14'\n",
       "13. 'FLASH_16'\n",
       "14. 'FLASH_17'\n",
       "15. 'FLASH_18'\n",
       "16. 'FLASH_19'\n",
       "17. 'FLASH_20'\n",
       "18. 'tFLASH'\n",
       "19. 'tPCA'\n",
       "20. 'XX'\n",
       "\n",
       "\n"
      ],
      "text/plain": [
       " [1] \"FLASH_1\"  \"FLASH_3\"  \"FLASH_5\"  \"FLASH_6\"  \"FLASH_7\"  \"FLASH_8\" \n",
       " [7] \"FLASH_9\"  \"FLASH_10\" \"FLASH_11\" \"FLASH_12\" \"FLASH_13\" \"FLASH_14\"\n",
       "[13] \"FLASH_16\" \"FLASH_17\" \"FLASH_18\" \"FLASH_19\" \"FLASH_20\" \"tFLASH\"  \n",
       "[19] \"tPCA\"     \"XX\"      "
      ]
     },
     "metadata": {},
     "output_type": "display_data"
    }
   ],
   "source": [
    "names(prior$U)[prior$w>0.001]"
   ]
  },
  {
   "cell_type": "code",
   "execution_count": 20,
   "metadata": {},
   "outputs": [
    {
     "data": {
      "text/html": [
       "<style>\n",
       ".list-inline {list-style: none; margin:0; padding: 0}\n",
       ".list-inline>li {display: inline-block}\n",
       ".list-inline>li:not(:last-child)::after {content: \"\\00b7\"; padding: 0 .5ex}\n",
       "</style>\n",
       "<ol class=list-inline><li>'FLASH_1'</li><li>'FLASH_2'</li><li>'FLASH_3'</li><li>'FLASH_4'</li><li>'FLASH_5'</li><li>'FLASH_6'</li><li>'FLASH_7'</li><li>'FLASH_8'</li><li>'FLASH_9'</li><li>'FLASH_10'</li><li>'FLASH_11'</li><li>'FLASH_12'</li><li>'FLASH_13'</li><li>'FLASH_14'</li><li>'FLASH_15'</li><li>'FLASH_16'</li><li>'FLASH_17'</li><li>'FLASH_18'</li><li>'FLASH_19'</li><li>'FLASH_20'</li><li>'tFLASH'</li><li>'PCA_1'</li><li>'PCA_3'</li><li>'tPCA'</li><li>'XX'</li></ol>\n"
      ],
      "text/latex": [
       "\\begin{enumerate*}\n",
       "\\item 'FLASH\\_1'\n",
       "\\item 'FLASH\\_2'\n",
       "\\item 'FLASH\\_3'\n",
       "\\item 'FLASH\\_4'\n",
       "\\item 'FLASH\\_5'\n",
       "\\item 'FLASH\\_6'\n",
       "\\item 'FLASH\\_7'\n",
       "\\item 'FLASH\\_8'\n",
       "\\item 'FLASH\\_9'\n",
       "\\item 'FLASH\\_10'\n",
       "\\item 'FLASH\\_11'\n",
       "\\item 'FLASH\\_12'\n",
       "\\item 'FLASH\\_13'\n",
       "\\item 'FLASH\\_14'\n",
       "\\item 'FLASH\\_15'\n",
       "\\item 'FLASH\\_16'\n",
       "\\item 'FLASH\\_17'\n",
       "\\item 'FLASH\\_18'\n",
       "\\item 'FLASH\\_19'\n",
       "\\item 'FLASH\\_20'\n",
       "\\item 'tFLASH'\n",
       "\\item 'PCA\\_1'\n",
       "\\item 'PCA\\_3'\n",
       "\\item 'tPCA'\n",
       "\\item 'XX'\n",
       "\\end{enumerate*}\n"
      ],
      "text/markdown": [
       "1. 'FLASH_1'\n",
       "2. 'FLASH_2'\n",
       "3. 'FLASH_3'\n",
       "4. 'FLASH_4'\n",
       "5. 'FLASH_5'\n",
       "6. 'FLASH_6'\n",
       "7. 'FLASH_7'\n",
       "8. 'FLASH_8'\n",
       "9. 'FLASH_9'\n",
       "10. 'FLASH_10'\n",
       "11. 'FLASH_11'\n",
       "12. 'FLASH_12'\n",
       "13. 'FLASH_13'\n",
       "14. 'FLASH_14'\n",
       "15. 'FLASH_15'\n",
       "16. 'FLASH_16'\n",
       "17. 'FLASH_17'\n",
       "18. 'FLASH_18'\n",
       "19. 'FLASH_19'\n",
       "20. 'FLASH_20'\n",
       "21. 'tFLASH'\n",
       "22. 'PCA_1'\n",
       "23. 'PCA_3'\n",
       "24. 'tPCA'\n",
       "25. 'XX'\n",
       "\n",
       "\n"
      ],
      "text/plain": [
       " [1] \"FLASH_1\"  \"FLASH_2\"  \"FLASH_3\"  \"FLASH_4\"  \"FLASH_5\"  \"FLASH_6\" \n",
       " [7] \"FLASH_7\"  \"FLASH_8\"  \"FLASH_9\"  \"FLASH_10\" \"FLASH_11\" \"FLASH_12\"\n",
       "[13] \"FLASH_13\" \"FLASH_14\" \"FLASH_15\" \"FLASH_16\" \"FLASH_17\" \"FLASH_18\"\n",
       "[19] \"FLASH_19\" \"FLASH_20\" \"tFLASH\"   \"PCA_1\"    \"PCA_3\"    \"tPCA\"    \n",
       "[25] \"XX\"      "
      ]
     },
     "metadata": {},
     "output_type": "display_data"
    }
   ],
   "source": [
    "tol = 1E-12\n",
    "U = prior$U[which(prior$w>tol)]\n",
    "w = prior$w[which(prior$w>tol)]\n",
    "names(U)\n",
    "gtex_mixture = list(U=U,w=w)"
   ]
  },
  {
   "cell_type": "code",
   "execution_count": 21,
   "metadata": {},
   "outputs": [],
   "source": [
    "saveRDS(list(gtex_mixture=gtex_mixture, artificial_mixture_50=artificial_mixture_50, artificial_mixture_6=artificial_mixture_6), '../data/prior_simulation.rds')"
   ]
  },
  {
   "cell_type": "markdown",
   "metadata": {},
   "source": [
    "## Using weights learned from simulated data\n",
    "\n",
    "Workflow see [this notebook](https://gaow.github.io/mvarbvs/analysis/20200502_Prepare_ED_prior.html). "
   ]
  },
  {
   "cell_type": "code",
   "execution_count": 40,
   "metadata": {},
   "outputs": [],
   "source": [
    "dat = readRDS('../data/prior_simulation.rds')"
   ]
  },
  {
   "cell_type": "code",
   "execution_count": 41,
   "metadata": {},
   "outputs": [
    {
     "data": {
      "text/html": [
       "<style>\n",
       ".list-inline {list-style: none; margin:0; padding: 0}\n",
       ".list-inline>li {display: inline-block}\n",
       ".list-inline>li:not(:last-child)::after {content: \"\\00b7\"; padding: 0 .5ex}\n",
       "</style>\n",
       "<ol class=list-inline><li>'U'</li><li>'w'</li><li>'ED'</li></ol>\n"
      ],
      "text/latex": [
       "\\begin{enumerate*}\n",
       "\\item 'U'\n",
       "\\item 'w'\n",
       "\\item 'ED'\n",
       "\\end{enumerate*}\n"
      ],
      "text/markdown": [
       "1. 'U'\n",
       "2. 'w'\n",
       "3. 'ED'\n",
       "\n",
       "\n"
      ],
      "text/plain": [
       "[1] \"U\"  \"w\"  \"ED\""
      ]
     },
     "metadata": {},
     "output_type": "display_data"
    }
   ],
   "source": [
    "names(dat$gtex_mixture)"
   ]
  },
  {
   "cell_type": "markdown",
   "metadata": {},
   "source": [
    "Load ED mixture,"
   ]
  },
  {
   "cell_type": "code",
   "execution_count": 42,
   "metadata": {},
   "outputs": [],
   "source": [
    "gtex_ed_mixture = readRDS('~/tmp/07-May-2020/gtex_mixture_identity.FLASH_PC3.ED.rds')"
   ]
  },
  {
   "cell_type": "code",
   "execution_count": 43,
   "metadata": {},
   "outputs": [
    {
     "data": {
      "text/html": [
       "<style>\n",
       ".list-inline {list-style: none; margin:0; padding: 0}\n",
       ".list-inline>li {display: inline-block}\n",
       ".list-inline>li:not(:last-child)::after {content: \"\\00b7\"; padding: 0 .5ex}\n",
       "</style>\n",
       "<ol class=list-inline><li>'U'</li><li>'w'</li><li>'loglik'</li></ol>\n"
      ],
      "text/latex": [
       "\\begin{enumerate*}\n",
       "\\item 'U'\n",
       "\\item 'w'\n",
       "\\item 'loglik'\n",
       "\\end{enumerate*}\n"
      ],
      "text/markdown": [
       "1. 'U'\n",
       "2. 'w'\n",
       "3. 'loglik'\n",
       "\n",
       "\n"
      ],
      "text/plain": [
       "[1] \"U\"      \"w\"      \"loglik\""
      ]
     },
     "metadata": {},
     "output_type": "display_data"
    }
   ],
   "source": [
    "names(gtex_ed_mixture)"
   ]
  },
  {
   "cell_type": "code",
   "execution_count": 44,
   "metadata": {},
   "outputs": [],
   "source": [
    "artificial_ed_mixture_50 = readRDS('~/tmp/07-May-2020/artificial_mixture_identity.FLASH_PC3.ED.rds')"
   ]
  },
  {
   "cell_type": "code",
   "execution_count": 45,
   "metadata": {},
   "outputs": [
    {
     "data": {
      "text/html": [
       "<style>\n",
       ".list-inline {list-style: none; margin:0; padding: 0}\n",
       ".list-inline>li {display: inline-block}\n",
       ".list-inline>li:not(:last-child)::after {content: \"\\00b7\"; padding: 0 .5ex}\n",
       "</style>\n",
       "<ol class=list-inline><li>'U'</li><li>'w'</li><li>'loglik'</li></ol>\n"
      ],
      "text/latex": [
       "\\begin{enumerate*}\n",
       "\\item 'U'\n",
       "\\item 'w'\n",
       "\\item 'loglik'\n",
       "\\end{enumerate*}\n"
      ],
      "text/markdown": [
       "1. 'U'\n",
       "2. 'w'\n",
       "3. 'loglik'\n",
       "\n",
       "\n"
      ],
      "text/plain": [
       "[1] \"U\"      \"w\"      \"loglik\""
      ]
     },
     "metadata": {},
     "output_type": "display_data"
    }
   ],
   "source": [
    "names(artificial_ed_mixture_50)"
   ]
  },
  {
   "cell_type": "markdown",
   "metadata": {},
   "source": [
    "Filter the components by weight cutoff `1E-12`,"
   ]
  },
  {
   "cell_type": "code",
   "execution_count": 46,
   "metadata": {},
   "outputs": [],
   "source": [
    "tol = 1E-12\n",
    "artificial_ed_mixture_50$U = artificial_ed_mixture_50$U[which(artificial_ed_mixture_50$w > tol)]\n",
    "artificial_ed_mixture_50$w = artificial_ed_mixture_50$w[which(artificial_ed_mixture_50$w > tol)]\n",
    "gtex_ed_mixture$U = gtex_ed_mixture$U[which(gtex_ed_mixture$w > tol)]\n",
    "gtex_ed_mixture$w = gtex_ed_mixture$w[which(gtex_ed_mixture$w > tol)]"
   ]
  },
  {
   "cell_type": "code",
   "execution_count": 47,
   "metadata": {},
   "outputs": [
    {
     "data": {
      "text/html": [
       "<style>\n",
       ".list-inline {list-style: none; margin:0; padding: 0}\n",
       ".list-inline>li {display: inline-block}\n",
       ".list-inline>li:not(:last-child)::after {content: \"\\00b7\"; padding: 0 .5ex}\n",
       "</style>\n",
       "<ol class=list-inline><li>'tFLASH'</li><li>'PCA_3'</li><li>'tPCA'</li><li>'XX'</li></ol>\n"
      ],
      "text/latex": [
       "\\begin{enumerate*}\n",
       "\\item 'tFLASH'\n",
       "\\item 'PCA\\_3'\n",
       "\\item 'tPCA'\n",
       "\\item 'XX'\n",
       "\\end{enumerate*}\n"
      ],
      "text/markdown": [
       "1. 'tFLASH'\n",
       "2. 'PCA_3'\n",
       "3. 'tPCA'\n",
       "4. 'XX'\n",
       "\n",
       "\n"
      ],
      "text/plain": [
       "[1] \"tFLASH\" \"PCA_3\"  \"tPCA\"   \"XX\"    "
      ]
     },
     "metadata": {},
     "output_type": "display_data"
    }
   ],
   "source": [
    "names(artificial_ed_mixture_50$U)"
   ]
  },
  {
   "cell_type": "code",
   "execution_count": 48,
   "metadata": {},
   "outputs": [
    {
     "data": {
      "text/html": [
       "<style>\n",
       ".list-inline {list-style: none; margin:0; padding: 0}\n",
       ".list-inline>li {display: inline-block}\n",
       ".list-inline>li:not(:last-child)::after {content: \"\\00b7\"; padding: 0 .5ex}\n",
       "</style>\n",
       "<ol class=list-inline><li>0.898314146466091</li><li>0.000648316043920725</li><li>0.0637063706095047</li><li>0.0373311668804688</li></ol>\n"
      ],
      "text/latex": [
       "\\begin{enumerate*}\n",
       "\\item 0.898314146466091\n",
       "\\item 0.000648316043920725\n",
       "\\item 0.0637063706095047\n",
       "\\item 0.0373311668804688\n",
       "\\end{enumerate*}\n"
      ],
      "text/markdown": [
       "1. 0.898314146466091\n",
       "2. 0.000648316043920725\n",
       "3. 0.0637063706095047\n",
       "4. 0.0373311668804688\n",
       "\n",
       "\n"
      ],
      "text/plain": [
       "[1] 0.898314146 0.000648316 0.063706371 0.037331167"
      ]
     },
     "metadata": {},
     "output_type": "display_data"
    }
   ],
   "source": [
    "artificial_ed_mixture_50$w"
   ]
  },
  {
   "cell_type": "code",
   "execution_count": 49,
   "metadata": {},
   "outputs": [
    {
     "data": {
      "text/html": [
       "<style>\n",
       ".list-inline {list-style: none; margin:0; padding: 0}\n",
       ".list-inline>li {display: inline-block}\n",
       ".list-inline>li:not(:last-child)::after {content: \"\\00b7\"; padding: 0 .5ex}\n",
       "</style>\n",
       "<ol class=list-inline><li>'FLASH_1'</li><li>'tFLASH'</li><li>'PCA_1'</li><li>'tPCA'</li><li>'XX'</li></ol>\n"
      ],
      "text/latex": [
       "\\begin{enumerate*}\n",
       "\\item 'FLASH\\_1'\n",
       "\\item 'tFLASH'\n",
       "\\item 'PCA\\_1'\n",
       "\\item 'tPCA'\n",
       "\\item 'XX'\n",
       "\\end{enumerate*}\n"
      ],
      "text/markdown": [
       "1. 'FLASH_1'\n",
       "2. 'tFLASH'\n",
       "3. 'PCA_1'\n",
       "4. 'tPCA'\n",
       "5. 'XX'\n",
       "\n",
       "\n"
      ],
      "text/plain": [
       "[1] \"FLASH_1\" \"tFLASH\"  \"PCA_1\"   \"tPCA\"    \"XX\"     "
      ]
     },
     "metadata": {},
     "output_type": "display_data"
    }
   ],
   "source": [
    "names(gtex_ed_mixture$U)"
   ]
  },
  {
   "cell_type": "code",
   "execution_count": 50,
   "metadata": {},
   "outputs": [
    {
     "data": {
      "text/html": [
       "<style>\n",
       ".list-inline {list-style: none; margin:0; padding: 0}\n",
       ".list-inline>li {display: inline-block}\n",
       ".list-inline>li:not(:last-child)::after {content: \"\\00b7\"; padding: 0 .5ex}\n",
       "</style>\n",
       "<ol class=list-inline><li>4.20166971058565e-10</li><li>0.032953661814357</li><li>9.41047531858211e-06</li><li>0.966986560055189</li><li>5.03672349327372e-05</li></ol>\n"
      ],
      "text/latex": [
       "\\begin{enumerate*}\n",
       "\\item 4.20166971058565e-10\n",
       "\\item 0.032953661814357\n",
       "\\item 9.41047531858211e-06\n",
       "\\item 0.966986560055189\n",
       "\\item 5.03672349327372e-05\n",
       "\\end{enumerate*}\n"
      ],
      "text/markdown": [
       "1. 4.20166971058565e-10\n",
       "2. 0.032953661814357\n",
       "3. 9.41047531858211e-06\n",
       "4. 0.966986560055189\n",
       "5. 5.03672349327372e-05\n",
       "\n",
       "\n"
      ],
      "text/plain": [
       "[1] 4.201670e-10 3.295366e-02 9.410475e-06 9.669866e-01 5.036723e-05"
      ]
     },
     "metadata": {},
     "output_type": "display_data"
    }
   ],
   "source": [
    "gtex_ed_mixture$w"
   ]
  },
  {
   "cell_type": "code",
   "execution_count": 51,
   "metadata": {},
   "outputs": [],
   "source": [
    "dat$artificial_mixture_50$ED = artificial_ed_mixture_50\n",
    "dat$gtex_mixture$ED = gtex_ed_mixture"
   ]
  },
  {
   "cell_type": "code",
   "execution_count": 52,
   "metadata": {},
   "outputs": [],
   "source": [
    "saveRDS(dat, '../data/prior_simulation.rds')"
   ]
  }
 ],
 "metadata": {
  "kernelspec": {
   "display_name": "R",
   "language": "R",
   "name": "ir"
  },
  "language_info": {
   "codemirror_mode": "r",
   "file_extension": ".r",
   "mimetype": "text/x-r-source",
   "name": "R",
   "pygments_lexer": "r",
   "version": "3.6.3"
  }
 },
 "nbformat": 4,
 "nbformat_minor": 4
}
