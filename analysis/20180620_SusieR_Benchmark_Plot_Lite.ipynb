{
 "cells": [
  {
   "cell_type": "markdown",
   "metadata": {},
   "source": [
    "# SusieR benchmark plot\n"
   ]
  },
  {
   "cell_type": "markdown",
   "metadata": {},
   "source": [
    "This is mostly the same as `20180516_SusieR_Benchmark_Plot.ipynb` but using `lm_less` simulation model instead of `simple_lm`. The difference is that now PVE is confined to 0.2. "
   ]
  },
  {
   "cell_type": "code",
   "execution_count": 7,
   "metadata": {
    "kernel": "SoS"
   },
   "outputs": [],
   "source": [
    "%revisions -n 10 --source"
   ]
  },
  {
   "cell_type": "markdown",
   "metadata": {},
   "source": [
    "Other differences include:\n",
    "\n",
    "1. Increase number of genes to 100 and use 2 replicates per analysis\n",
    "2. Fix a minor bug in residual variance simulation\n",
    "3. Use $|r|$ for LD filtering, not $r^2$\n",
    "4. **Add histogram of purity**\n",
    "\n",
    "Therefore I chose an LD cutoff of 0.5 for now (comparable to 0.25 when squared). But we argue that in practice it does not matter."
   ]
  },
  {
   "cell_type": "markdown",
   "metadata": {},
   "source": [
    "## Conclusions\n",
    "\n",
    "- Purity plots updated to [here](http://shiny.stephenslab.uchicago.edu/gaow/purity_20180620)."
   ]
  },
  {
   "cell_type": "code",
   "execution_count": 2,
   "metadata": {},
   "outputs": [
    {
     "name": "stdout",
     "output_type": "stream",
     "text": [
      "/home/gaow/GIT/github/mvarbvs/dsc"
     ]
    }
   ],
   "source": [
    "%cd ~/GIT/github/mvarbvs/dsc"
   ]
  },
  {
   "cell_type": "markdown",
   "metadata": {},
   "source": [
    "## Run benchmark"
   ]
  },
  {
   "cell_type": "code",
   "execution_count": null,
   "metadata": {
    "kernel": "Bash"
   },
   "outputs": [],
   "source": [
    "dsc susie.dsc --target susie_comparison"
   ]
  },
  {
   "cell_type": "code",
   "execution_count": null,
   "metadata": {},
   "outputs": [],
   "source": [
    "[global]\n",
    "parameter: outdir = path('./susie_comparison')\n",
    "parameter: name = '20180620'\n",
    "ld_cutoff = 0.2\n",
    "lfsr_cutoff = 0.05"
   ]
  },
  {
   "cell_type": "markdown",
   "metadata": {},
   "source": [
    "## Plot by purity"
   ]
  },
  {
   "cell_type": "code",
   "execution_count": null,
   "metadata": {},
   "outputs": [],
   "source": [
    "[purity_1, ld_1]\n",
    "target = \"liter_data.dataset lm_less.pve lm_less.n_signal fit_susie.maxL fit_susie.estimate_residual_variance fit_susie.prior_var fit_susie plot_susie\"\n",
    "output: f'{outdir}/purity_{name}/result.RDS'\n",
    "R: expand = '${ }'\n",
    "    out = dscrutils::dscquery(${outdir:br}, target = \"${target}\", load.pkl = TRUE)\n",
    "    saveRDS(out, ${_output:r})"
   ]
  },
  {
   "cell_type": "code",
   "execution_count": null,
   "metadata": {},
   "outputs": [],
   "source": [
    "[purity_2, ld_2]\n",
    "pve = [0.2]\n",
    "n = [1,2,3,4,5]\n",
    "est_res = ['TRUE', 'FALSE']\n",
    "prior = [0.05, 0.1, 0.2, 0.4]\n",
    "ld_col = 1 # LD_Min\n",
    "combos = len(pve) * len(n) * len(est_res) * len(prior)\n",
    "output_files = [f'{_input:d}/{x+1}.rds' for x in range(combos)]\n",
    "input: for_each = ['pve', 'n', 'est_res', 'prior'], concurrent = True\n",
    "output: output_files[_index]\n",
    "R: expand = '${ }'\n",
    "\n",
    "    get_combined = function(sub, dirname, ld_col) {\n",
    "        out_files = sub[,c(\"fit_susie.output.file\", \"plot_susie.output.file\")]\n",
    "        combined = list(purity = NULL, lfsr = NULL, size = NULL, \n",
    "                        captures = NULL, total_captures = NULL, pip = NULL)\n",
    "        for (i in 1:nrow(out_files)) {\n",
    "            fit = readRDS(paste0(dirname, out_files[i,1], '.rds'))$posterior\n",
    "            purity = readRDS(paste0(dirname, out_files[i,2], '.rds'))\n",
    "            L = sub[i,\"lm_less.n_signal\"]\n",
    "            for (r in 1:2) {\n",
    "                #\n",
    "                if (is.null(combined$purity)) combined$purity = purity$purity[[paste0('V',r)]][,ld_col]\n",
    "                else combined$purity = cbind(combined$purity, purity$purity[[paste0('V',r)]][,ld_col])\n",
    "                #\n",
    "                if (is.null(combined$size)) combined$size = fit$n_in_CI[,r]\n",
    "                else combined$size = cbind(combined$size, fit$n_in_CI[,r])\n",
    "                #\n",
    "                if (is.null(combined$lfsr)) combined$lfsr = fit$lfsr[,r]\n",
    "                else combined$lfsr = cbind(combined$lfsr, fit$lfsr[,r])\n",
    "                #\n",
    "                if (is.null(combined$captures)) combined$captures = rowSums(purity$signal$V1)\n",
    "                else combined$captures = cbind(combined$captures, rowSums(purity$signal$V1))\n",
    "                #\n",
    "                is_pure = which(purity$purity[[paste0('V',r)]][,ld_col] > ${ld_cutoff})\n",
    "                alpha = fit$alpha[[r]][is_pure,,drop=FALSE]\n",
    "                if (dim(alpha)[1] == 0) {\n",
    "                  pip = t(rep(0, dim(alpha)[2]))\n",
    "                } else {\n",
    "                  pip = t(1 - apply(1 - alpha, 2, prod))\n",
    "                }\n",
    "                if (is.null(combined$pip)) combined$pip = pip\n",
    "                else combined$pip = cbind(combined$pip, pip)            \n",
    "                #\n",
    "                detected = apply(t(purity$signal[[paste0('V',r)]][is_pure,,drop=FALSE]), 1, sum)\n",
    "                if (length(detected) < L) {\n",
    "                  detected = c(detected, rep(0, L - length(detected)))\n",
    "                }\n",
    "                if (is.null(combined$total_captures)) combined$total_captures = detected\n",
    "                else combined$total_captures = combined$total_captures + detected\n",
    "            }\n",
    "        }\n",
    "        return(combined)\n",
    "    }\n",
    "    out = readRDS(${_input:r})\n",
    "    sub = out[which(out$lm_less.pve == ${_pve} & out$lm_less.n_signal == ${_n} & out$fit_susie.estimate_residual_variance == ${_est_res} & out$fit_susie.prior_var == ${_prior}),]\n",
    "    combined = get_combined(sub, \"${outdir}/\", ${ld_col})\n",
    "    write(paste(${_pve}, ${_n}, ${_prior}, ${_est_res}, \"${_output:n}.png\", sep=','), file='${_output:n}.log')\n",
    "    saveRDS(combined, ${_output:r})"
   ]
  },
  {
   "cell_type": "code",
   "execution_count": null,
   "metadata": {},
   "outputs": [],
   "source": [
    "[purity_3, ld_3]\n",
    "input: group_by = 1, concurrent = True\n",
    "output: f\"{_input:n}.pkl\"\n",
    "bash: expand = True\n",
    "  dsc-io {_input} {_output}"
   ]
  },
  {
   "cell_type": "code",
   "execution_count": null,
   "metadata": {},
   "outputs": [],
   "source": [
    "[purity_4]\n",
    "input: group_by = 1, concurrent = True\n",
    "output: f\"{_input:n}.png\"\n",
    "python: expand = '${ }'\n",
    "    import numpy as np\n",
    "    import matplotlib.pyplot as plt\n",
    "    COLORS = ['#348ABD', '#7A68A6', '#A60628', '#467821', '#FF0000', '#188487', '#E2A233',\n",
    "                  '#A9A9A9', '#000000', '#FF00FF', '#FFD700', '#ADFF2F', '#00FFFF']\n",
    "    color_mapper = np.vectorize(lambda x: dict([(i,j) for i,j in enumerate(COLORS)]).get(x))\n",
    "\n",
    "    def plot_purity(data, output, lfsr_cutoff = 0.05, verbose = False):\n",
    "        purity = np.array(data['purity'])\n",
    "        lfsr = np.array(data['lfsr'])\n",
    "        size = np.array(data['size'])\n",
    "        capture = np.array(data['captures'])\n",
    "        capture_summary = [f\"Signal {idx+1} captured {int(item)}/{purity.shape[1]}\" for idx, item in enumerate([data['total_captures']] if isinstance(data['total_captures'], np.int64) else data['total_captures'])]\n",
    "        idx = 0\n",
    "        plt.figure(figsize=(12, 8))\n",
    "        L = purity.shape[0]\n",
    "        cols = 3\n",
    "        rows = L // cols + L % cols\n",
    "        position = range(1,L + 1)\n",
    "        insig = []\n",
    "        for x, y, z, c in zip(size, purity, lfsr, capture):\n",
    "            # exclude previously marked insignificant positions\n",
    "            exclude = [i for i, item in enumerate(x) if (x[i], y[i]) in insig]\n",
    "            z_sig = [i for i, zz in enumerate(z) if zz <= lfsr_cutoff and i not in exclude]\n",
    "            z_nsig = [i for i, zz in enumerate(z) if zz > lfsr_cutoff and i not in exclude]\n",
    "            colors = [4 if i == 0 else 0 for i in c]\n",
    "            plt.subplot(rows,cols,position[idx])\n",
    "            idx += 1\n",
    "            if len(z_sig):\n",
    "                label = f'L{idx}: lfsr<={lfsr_cutoff}'\n",
    "                plt.scatter(np.take(x, z_sig),\n",
    "                            np.take(y, z_sig),\n",
    "                            c = color_mapper(np.take(colors, z_sig)), \n",
    "                            label = label, marker = '*')\n",
    "            if len(z_nsig):\n",
    "                label = f'L{idx}: lfsr>{lfsr_cutoff}'\n",
    "                plt.scatter(np.take(x, z_nsig),\n",
    "                            np.take(y, z_nsig),\n",
    "                            c = color_mapper(np.take(colors, z_nsig)), \n",
    "                            label = label, marker = 'x')\n",
    "            # mask colored (insig) sets\n",
    "            insig.extend([(x[i], y[i]) for i, item in enumerate(colors) if item > 0 and i not in exclude])\n",
    "            insig = list(set(insig))\n",
    "            plt.legend(bbox_to_anchor=(0,1.02,1,0.2), loc=\"lower left\",\n",
    "                    mode=\"expand\", borderaxespad=0, ncol=2, handletextpad=0.1)\n",
    "            plt.axhline(y=${ld_cutoff}, color = '#FF0000', alpha=0.5)\n",
    "        plt.subplots_adjust(hspace=0.3, wspace = 0.3)\n",
    "        if verbose:\n",
    "            plt.suptitle(f\"95% CI set sizes vs min(abs(LD)) | LD filter ${ld_cutoff}\\n{'; '.join(capture_summary)}\")\n",
    "        plt.savefig(output, dpi=500, bbox_inches='tight') \n",
    "        plt.gca()\n",
    "\n",
    "    import pickle\n",
    "    data = pickle.load(open('${_input}', 'rb'))\n",
    "    plot_purity(data, '${_output}', lfsr_cutoff = ${lfsr_cutoff})\n",
    "\n",
    "[purity_5]\n",
    "header = 'PVE,N_Causal,susie_prior,est_residual,output'\n",
    "output:  f'{outdir}/purity_{name}/index.html'\n",
    "bash: expand = True\n",
    "    echo {header} > {_output:n}.csv\n",
    "    cat {str(_input).replace('.png', '.log')} >> {_output:n}.csv\n",
    "    cd {_output:d}\n",
    "    dsc-io {_output:an}.csv {_output:a}"
   ]
  },
  {
   "cell_type": "markdown",
   "metadata": {},
   "source": [
    "## Plot by LD"
   ]
  },
  {
   "cell_type": "code",
   "execution_count": null,
   "metadata": {},
   "outputs": [],
   "source": [
    "[ld_4]\n",
    "output: f'{outdir}/ld_{name}.pkl'\n",
    "python: expand = '${ }'\n",
    "    import numpy as np\n",
    "    import pickle\n",
    "    lds = dict([(x, []) for x in np.linspace(0, 1, num=21) if x < 1])\n",
    "    for f in [${_input:r,}]:\n",
    "        data = pickle.load(open(f, 'rb'))\n",
    "        for k in lds:\n",
    "            cs_capture_status = np.array(data['captures'][np.where(data['purity'] > k)]).ravel()\n",
    "            if len(cs_capture_status):\n",
    "                lds[k].append((f, sum(cs_capture_status > 0) / len(cs_capture_status)))\n",
    "    with open(${_output:r}, 'wb') as f:\n",
    "        pickle.dump(lds, f)"
   ]
  },
  {
   "cell_type": "code",
   "execution_count": null,
   "metadata": {},
   "outputs": [],
   "source": [
    "[ld_5]\n",
    "output: f'{_input:n}.png'\n",
    "python: expand = '${ }'\n",
    "    import pickle\n",
    "    import seaborn as sns\n",
    "    import pandas as pd\n",
    "    import matplotlib.pyplot as plt\n",
    "    sns.set(rc={'figure.figsize':(12,6)}, style = \"whitegrid\")\n",
    "    fig, ax = plt.subplots(figsize=(12, 6))\n",
    "\n",
    "    data = pickle.load(open('${outdir}/ld_${name}.pkl', 'rb'))\n",
    "    plot_data = dict([('LD cutoff', []), ('CS capture rate', [])])\n",
    "    idx = 0\n",
    "    for k in sorted(data.keys()):\n",
    "        idx += 1\n",
    "        if idx % 2:\n",
    "            continue\n",
    "        for item in data[k]:\n",
    "            plot_data['LD cutoff'].append(f'{k:.2f}')\n",
    "            plot_data['CS capture rate'].append(item[1])\n",
    "    plot_data = pd.DataFrame(plot_data)\n",
    "    sns.violinplot(ax=ax, x=\"LD cutoff\", y=\"CS capture rate\", data=plot_data, inner=\"points\")\n",
    "    sns.despine()\n",
    "    plt.axhline(0.95, color='red')\n",
    "    ax.get_figure().savefig(${_output:r})"
   ]
  },
  {
   "cell_type": "code",
   "execution_count": 3,
   "metadata": {
    "kernel": "R"
   },
   "outputs": [
    {
     "data": {
      "text/html": [
       "<ol class=list-inline>\n",
       "\t<li>8000</li>\n",
       "\t<li>9</li>\n",
       "</ol>\n"
      ],
      "text/latex": [
       "\\begin{enumerate*}\n",
       "\\item 8000\n",
       "\\item 9\n",
       "\\end{enumerate*}\n"
      ],
      "text/markdown": [
       "1. 8000\n",
       "2. 9\n",
       "\n",
       "\n"
      ],
      "text/plain": [
       "[1] 8000    9"
      ]
     },
     "metadata": {},
     "output_type": "display_data"
    }
   ],
   "source": [
    "dat = readRDS('susie_comparison/purity_20180620/result.RDS')\n",
    "dim(dat)"
   ]
  },
  {
   "cell_type": "code",
   "execution_count": 5,
   "metadata": {
    "kernel": "R"
   },
   "outputs": [
    {
     "data": {
      "text/html": [
       "<table>\n",
       "<thead><tr><th scope=col>DSC</th><th scope=col>liter_data.dataset</th><th scope=col>lm_less.n_signal</th><th scope=col>lm_less.pve</th><th scope=col>fit_susie.estimate_residual_variance</th><th scope=col>fit_susie.maxL</th><th scope=col>fit_susie.output.file</th><th scope=col>fit_susie.prior_var</th><th scope=col>plot_susie.output.file</th></tr></thead>\n",
       "<tbody>\n",
       "\t<tr><td>1                                                                        </td><td>~/Documents/GTExV8/Thyroid.Lung.FMO2.filled.rds                          </td><td>1                                                                        </td><td>0.2                                                                      </td><td>FALSE                                                                    </td><td>5.0                                                                      </td><td>fit_susie/liter_data_1_summarize_ld_1_lm_less_1_fit_susie_1              </td><td>0.05                                                                     </td><td>plot_susie/liter_data_1_summarize_ld_1_lm_less_1_fit_susie_1_plot_susie_1</td></tr>\n",
       "\t<tr><td>1                                                                        </td><td>~/Documents/GTExV8/Toys/Thyroid.ENSG00000031823.RDS                      </td><td>1                                                                        </td><td>0.2                                                                      </td><td>FALSE                                                                    </td><td>5.0                                                                      </td><td>fit_susie/liter_data_2_summarize_ld_1_lm_less_1_fit_susie_1              </td><td>0.05                                                                     </td><td>plot_susie/liter_data_2_summarize_ld_1_lm_less_1_fit_susie_1_plot_susie_1</td></tr>\n",
       "\t<tr><td>1                                                                        </td><td>~/Documents/GTExV8/Toys/Thyroid.ENSG00000062194.RDS                      </td><td>1                                                                        </td><td>0.2                                                                      </td><td>FALSE                                                                    </td><td>5.0                                                                      </td><td>fit_susie/liter_data_3_summarize_ld_1_lm_less_1_fit_susie_1              </td><td>0.05                                                                     </td><td>plot_susie/liter_data_3_summarize_ld_1_lm_less_1_fit_susie_1_plot_susie_1</td></tr>\n",
       "\t<tr><td>1                                                                        </td><td>~/Documents/GTExV8/Toys/Thyroid.ENSG00000073150.RDS                      </td><td>1                                                                        </td><td>0.2                                                                      </td><td>FALSE                                                                    </td><td>5.0                                                                      </td><td>fit_susie/liter_data_4_summarize_ld_1_lm_less_1_fit_susie_1              </td><td>0.05                                                                     </td><td>plot_susie/liter_data_4_summarize_ld_1_lm_less_1_fit_susie_1_plot_susie_1</td></tr>\n",
       "\t<tr><td>1                                                                        </td><td>~/Documents/GTExV8/Toys/Thyroid.ENSG00000078319.RDS                      </td><td>1                                                                        </td><td>0.2                                                                      </td><td>FALSE                                                                    </td><td>5.0                                                                      </td><td>fit_susie/liter_data_5_summarize_ld_1_lm_less_1_fit_susie_1              </td><td>0.05                                                                     </td><td>plot_susie/liter_data_5_summarize_ld_1_lm_less_1_fit_susie_1_plot_susie_1</td></tr>\n",
       "\t<tr><td>1                                                                        </td><td>~/Documents/GTExV8/Toys/Thyroid.ENSG00000081277.RDS                      </td><td>1                                                                        </td><td>0.2                                                                      </td><td>FALSE                                                                    </td><td>5.0                                                                      </td><td>fit_susie/liter_data_6_summarize_ld_1_lm_less_1_fit_susie_1              </td><td>0.05                                                                     </td><td>plot_susie/liter_data_6_summarize_ld_1_lm_less_1_fit_susie_1_plot_susie_1</td></tr>\n",
       "</tbody>\n",
       "</table>\n"
      ],
      "text/latex": [
       "\\begin{tabular}{r|lllllllll}\n",
       " DSC & liter\\_data.dataset & lm\\_less.n\\_signal & lm\\_less.pve & fit\\_susie.estimate\\_residual\\_variance & fit\\_susie.maxL & fit\\_susie.output.file & fit\\_susie.prior\\_var & plot\\_susie.output.file\\\\\n",
       "\\hline\n",
       "\t 1                                                                                                       & \\textasciitilde{}/Documents/GTExV8/Thyroid.Lung.FMO2.filled.rds                                        & 1                                                                                                       & 0.2                                                                                                     & FALSE                                                                                                   & 5.0                                                                                                     & fit\\_susie/liter\\_data\\_1\\_summarize\\_ld\\_1\\_lm\\_less\\_1\\_fit\\_susie\\_1                     & 0.05                                                                                                    & plot\\_susie/liter\\_data\\_1\\_summarize\\_ld\\_1\\_lm\\_less\\_1\\_fit\\_susie\\_1\\_plot\\_susie\\_1\\\\\n",
       "\t 1                                                                                                       & \\textasciitilde{}/Documents/GTExV8/Toys/Thyroid.ENSG00000031823.RDS                                    & 1                                                                                                       & 0.2                                                                                                     & FALSE                                                                                                   & 5.0                                                                                                     & fit\\_susie/liter\\_data\\_2\\_summarize\\_ld\\_1\\_lm\\_less\\_1\\_fit\\_susie\\_1                     & 0.05                                                                                                    & plot\\_susie/liter\\_data\\_2\\_summarize\\_ld\\_1\\_lm\\_less\\_1\\_fit\\_susie\\_1\\_plot\\_susie\\_1\\\\\n",
       "\t 1                                                                                                       & \\textasciitilde{}/Documents/GTExV8/Toys/Thyroid.ENSG00000062194.RDS                                    & 1                                                                                                       & 0.2                                                                                                     & FALSE                                                                                                   & 5.0                                                                                                     & fit\\_susie/liter\\_data\\_3\\_summarize\\_ld\\_1\\_lm\\_less\\_1\\_fit\\_susie\\_1                     & 0.05                                                                                                    & plot\\_susie/liter\\_data\\_3\\_summarize\\_ld\\_1\\_lm\\_less\\_1\\_fit\\_susie\\_1\\_plot\\_susie\\_1\\\\\n",
       "\t 1                                                                                                       & \\textasciitilde{}/Documents/GTExV8/Toys/Thyroid.ENSG00000073150.RDS                                    & 1                                                                                                       & 0.2                                                                                                     & FALSE                                                                                                   & 5.0                                                                                                     & fit\\_susie/liter\\_data\\_4\\_summarize\\_ld\\_1\\_lm\\_less\\_1\\_fit\\_susie\\_1                     & 0.05                                                                                                    & plot\\_susie/liter\\_data\\_4\\_summarize\\_ld\\_1\\_lm\\_less\\_1\\_fit\\_susie\\_1\\_plot\\_susie\\_1\\\\\n",
       "\t 1                                                                                                       & \\textasciitilde{}/Documents/GTExV8/Toys/Thyroid.ENSG00000078319.RDS                                    & 1                                                                                                       & 0.2                                                                                                     & FALSE                                                                                                   & 5.0                                                                                                     & fit\\_susie/liter\\_data\\_5\\_summarize\\_ld\\_1\\_lm\\_less\\_1\\_fit\\_susie\\_1                     & 0.05                                                                                                    & plot\\_susie/liter\\_data\\_5\\_summarize\\_ld\\_1\\_lm\\_less\\_1\\_fit\\_susie\\_1\\_plot\\_susie\\_1\\\\\n",
       "\t 1                                                                                                       & \\textasciitilde{}/Documents/GTExV8/Toys/Thyroid.ENSG00000081277.RDS                                    & 1                                                                                                       & 0.2                                                                                                     & FALSE                                                                                                   & 5.0                                                                                                     & fit\\_susie/liter\\_data\\_6\\_summarize\\_ld\\_1\\_lm\\_less\\_1\\_fit\\_susie\\_1                     & 0.05                                                                                                    & plot\\_susie/liter\\_data\\_6\\_summarize\\_ld\\_1\\_lm\\_less\\_1\\_fit\\_susie\\_1\\_plot\\_susie\\_1\\\\\n",
       "\\end{tabular}\n"
      ],
      "text/markdown": [
       "\n",
       "DSC | liter_data.dataset | lm_less.n_signal | lm_less.pve | fit_susie.estimate_residual_variance | fit_susie.maxL | fit_susie.output.file | fit_susie.prior_var | plot_susie.output.file | \n",
       "|---|---|---|---|---|---|\n",
       "| 1                                                                         | ~/Documents/GTExV8/Thyroid.Lung.FMO2.filled.rds                           | 1                                                                         | 0.2                                                                       | FALSE                                                                     | 5.0                                                                       | fit_susie/liter_data_1_summarize_ld_1_lm_less_1_fit_susie_1               | 0.05                                                                      | plot_susie/liter_data_1_summarize_ld_1_lm_less_1_fit_susie_1_plot_susie_1 | \n",
       "| 1                                                                         | ~/Documents/GTExV8/Toys/Thyroid.ENSG00000031823.RDS                       | 1                                                                         | 0.2                                                                       | FALSE                                                                     | 5.0                                                                       | fit_susie/liter_data_2_summarize_ld_1_lm_less_1_fit_susie_1               | 0.05                                                                      | plot_susie/liter_data_2_summarize_ld_1_lm_less_1_fit_susie_1_plot_susie_1 | \n",
       "| 1                                                                         | ~/Documents/GTExV8/Toys/Thyroid.ENSG00000062194.RDS                       | 1                                                                         | 0.2                                                                       | FALSE                                                                     | 5.0                                                                       | fit_susie/liter_data_3_summarize_ld_1_lm_less_1_fit_susie_1               | 0.05                                                                      | plot_susie/liter_data_3_summarize_ld_1_lm_less_1_fit_susie_1_plot_susie_1 | \n",
       "| 1                                                                         | ~/Documents/GTExV8/Toys/Thyroid.ENSG00000073150.RDS                       | 1                                                                         | 0.2                                                                       | FALSE                                                                     | 5.0                                                                       | fit_susie/liter_data_4_summarize_ld_1_lm_less_1_fit_susie_1               | 0.05                                                                      | plot_susie/liter_data_4_summarize_ld_1_lm_less_1_fit_susie_1_plot_susie_1 | \n",
       "| 1                                                                         | ~/Documents/GTExV8/Toys/Thyroid.ENSG00000078319.RDS                       | 1                                                                         | 0.2                                                                       | FALSE                                                                     | 5.0                                                                       | fit_susie/liter_data_5_summarize_ld_1_lm_less_1_fit_susie_1               | 0.05                                                                      | plot_susie/liter_data_5_summarize_ld_1_lm_less_1_fit_susie_1_plot_susie_1 | \n",
       "| 1                                                                         | ~/Documents/GTExV8/Toys/Thyroid.ENSG00000081277.RDS                       | 1                                                                         | 0.2                                                                       | FALSE                                                                     | 5.0                                                                       | fit_susie/liter_data_6_summarize_ld_1_lm_less_1_fit_susie_1               | 0.05                                                                      | plot_susie/liter_data_6_summarize_ld_1_lm_less_1_fit_susie_1_plot_susie_1 | \n",
       "\n",
       "\n"
      ],
      "text/plain": [
       "  DSC liter_data.dataset                                  lm_less.n_signal\n",
       "1 1   ~/Documents/GTExV8/Thyroid.Lung.FMO2.filled.rds     1               \n",
       "2 1   ~/Documents/GTExV8/Toys/Thyroid.ENSG00000031823.RDS 1               \n",
       "3 1   ~/Documents/GTExV8/Toys/Thyroid.ENSG00000062194.RDS 1               \n",
       "4 1   ~/Documents/GTExV8/Toys/Thyroid.ENSG00000073150.RDS 1               \n",
       "5 1   ~/Documents/GTExV8/Toys/Thyroid.ENSG00000078319.RDS 1               \n",
       "6 1   ~/Documents/GTExV8/Toys/Thyroid.ENSG00000081277.RDS 1               \n",
       "  lm_less.pve fit_susie.estimate_residual_variance fit_susie.maxL\n",
       "1 0.2         FALSE                                5.0           \n",
       "2 0.2         FALSE                                5.0           \n",
       "3 0.2         FALSE                                5.0           \n",
       "4 0.2         FALSE                                5.0           \n",
       "5 0.2         FALSE                                5.0           \n",
       "6 0.2         FALSE                                5.0           \n",
       "  fit_susie.output.file                                      \n",
       "1 fit_susie/liter_data_1_summarize_ld_1_lm_less_1_fit_susie_1\n",
       "2 fit_susie/liter_data_2_summarize_ld_1_lm_less_1_fit_susie_1\n",
       "3 fit_susie/liter_data_3_summarize_ld_1_lm_less_1_fit_susie_1\n",
       "4 fit_susie/liter_data_4_summarize_ld_1_lm_less_1_fit_susie_1\n",
       "5 fit_susie/liter_data_5_summarize_ld_1_lm_less_1_fit_susie_1\n",
       "6 fit_susie/liter_data_6_summarize_ld_1_lm_less_1_fit_susie_1\n",
       "  fit_susie.prior_var\n",
       "1 0.05               \n",
       "2 0.05               \n",
       "3 0.05               \n",
       "4 0.05               \n",
       "5 0.05               \n",
       "6 0.05               \n",
       "  plot_susie.output.file                                                   \n",
       "1 plot_susie/liter_data_1_summarize_ld_1_lm_less_1_fit_susie_1_plot_susie_1\n",
       "2 plot_susie/liter_data_2_summarize_ld_1_lm_less_1_fit_susie_1_plot_susie_1\n",
       "3 plot_susie/liter_data_3_summarize_ld_1_lm_less_1_fit_susie_1_plot_susie_1\n",
       "4 plot_susie/liter_data_4_summarize_ld_1_lm_less_1_fit_susie_1_plot_susie_1\n",
       "5 plot_susie/liter_data_5_summarize_ld_1_lm_less_1_fit_susie_1_plot_susie_1\n",
       "6 plot_susie/liter_data_6_summarize_ld_1_lm_less_1_fit_susie_1_plot_susie_1"
      ]
     },
     "metadata": {},
     "output_type": "display_data"
    }
   ],
   "source": [
    "head(dat)"
   ]
  },
  {
   "cell_type": "code",
   "execution_count": null,
   "metadata": {},
   "outputs": [],
   "source": []
  }
 ],
 "metadata": {
  "kernelspec": {
   "display_name": "SoS",
   "language": "sos",
   "name": "sos"
  },
  "language_info": {
   "codemirror_mode": "sos",
   "file_extension": ".sos",
   "mimetype": "text/x-sos",
   "name": "sos",
   "nbconvert_exporter": "sos_notebook.converter.SoS_Exporter",
   "pygments_lexer": "sos"
  },
  "sos": {
   "default_kernel": "SoS",
   "kernels": [
    [
     "Bash",
     "bash",
     "Bash",
     "#E6EEFF"
    ],
    [
     "R",
     "ir",
     "R",
     "#DCDCDA"
    ],
    [
     "SoS",
     "sos",
     "",
     ""
    ]
   ],
   "panel": {
    "displayed": true,
    "height": 0,
    "style": "side"
   },
   "version": "0.9.14.1"
  }
 },
 "nbformat": 4,
 "nbformat_minor": 2
}
