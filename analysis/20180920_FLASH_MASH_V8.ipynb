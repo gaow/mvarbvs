{
 "cells": [
  {
   "cell_type": "markdown",
   "metadata": {
    "kernel": "SoS"
   },
   "source": [
    "# Mashing GTEx V8 release\n",
    "\n",
    "Here I run the latest `flashr + mashr` pipeline on the latest GTEx release. "
   ]
  },
  {
   "cell_type": "code",
   "execution_count": 1,
   "metadata": {
    "kernel": "SoS"
   },
   "outputs": [],
   "source": [
    "%revisions -s"
   ]
  },
  {
   "cell_type": "markdown",
   "metadata": {
    "kernel": "SoS"
   },
   "source": [
    "## Data overview"
   ]
  },
  {
   "cell_type": "markdown",
   "metadata": {
    "kernel": "SoS"
   },
   "source": [
    "`fastqtl` summary statistics data were obtained from dbGaP (via UChicago Genetic Medicine). It has 49 tissues. [more description to come]"
   ]
  },
  {
   "cell_type": "markdown",
   "metadata": {
    "kernel": "SoS"
   },
   "source": [
    "### Some `bash` variables\n",
    "\n",
    "```\n",
    "input_dir=/project/compbio/GTEx_dbGaP/GTEx_Analysis_2017-06-05_v8/eqtl/GTEx_Analysis_v8_eQTL_all_associations\n",
    "```"
   ]
  },
  {
   "cell_type": "markdown",
   "metadata": {
    "kernel": "SoS"
   },
   "source": [
    "## Preparing MASH input"
   ]
  },
  {
   "cell_type": "markdown",
   "metadata": {
    "kernel": "SoS"
   },
   "source": [
    "Using an established workflow (which takes overnight to run on a cluster system as configured by `data/fe961153.localhost.yml`),"
   ]
  },
  {
   "cell_type": "markdown",
   "metadata": {
    "kernel": "SoS"
   },
   "source": [
    "```\n",
    "sos run analysis/fastqtl_to_mash.ipynb --data-list $input_dir/FastQTLSumStats.list -c data/fe961153.localhost.yml\n",
    "```"
   ]
  },
  {
   "cell_type": "markdown",
   "metadata": {
    "kernel": "SoS"
   },
   "source": [
    "I obtained the \"mashable\" data-set in the same format [as described here](https://stephenslab.github.io/gtexresults/gtexdata.html)."
   ]
  },
  {
   "cell_type": "markdown",
   "metadata": {
    "kernel": "SoS"
   },
   "source": [
    "### Some data integrity check\n",
    "\n",
    "1. Check if I get the same number of groups (genes) at the end of HDF5 data conversion:\n",
    "\n",
    "```\n",
    "$ zcat Whole_Blood.allpairs.txt.gz | cut -f1 | sort -u | wc -l\n",
    "20316\n",
    "$ h5ls Whole_Blood.allpairs.txt.h5 | wc -l\n",
    "20315\n",
    "```\n",
    "\n",
    "The results agreed on Whole Blood sample (the original data has a header thus one line more than the H5 version). We should be good (since the pipeline reported success for all other files)."
   ]
  },
  {
   "cell_type": "markdown",
   "metadata": {
    "kernel": "SoS"
   },
   "source": [
    "## Running the `flashr+mashr` pipeline to train MASH model\n",
    "\n",
    "I added [an Rmarkdown vignette here]() using a toy / GTEx V6 example to demonstrate the workflow. Here I run it as a pipeline,\n",
    "\n",
    "```\n",
    "sos run analysis/20180920_FLASH_MASH_V8.ipynb\n",
    "```\n",
    "\n",
    "Pipeline codes see below:"
   ]
  },
  {
   "cell_type": "code",
   "execution_count": 2,
   "metadata": {
    "kernel": "SoS"
   },
   "outputs": [],
   "source": [
    "[global]\n",
    "parameter: fixme = \"FIXME\""
   ]
  },
  {
   "cell_type": "code",
   "execution_count": null,
   "metadata": {
    "kernel": "SoS"
   },
   "outputs": [],
   "source": []
  }
 ],
 "metadata": {
  "kernelspec": {
   "display_name": "SoS",
   "language": "sos",
   "name": "sos"
  },
  "language_info": {
   "codemirror_mode": "sos",
   "file_extension": ".sos",
   "mimetype": "text/x-sos",
   "name": "sos",
   "nbconvert_exporter": "sos_notebook.converter.SoS_Exporter",
   "pygments_lexer": "sos"
  },
  "sos": {
   "kernels": [
    [
     "SoS",
     "sos",
     "",
     ""
    ]
   ],
   "version": "0.16.11"
  }
 },
 "nbformat": 4,
 "nbformat_minor": 2
}
