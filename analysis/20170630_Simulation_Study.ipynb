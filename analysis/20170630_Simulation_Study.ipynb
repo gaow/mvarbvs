{
 "cells": [
  {
   "cell_type": "markdown",
   "metadata": {
    "kernel": "SoS"
   },
   "source": [
    "# mr-ash simulation ash paper scenarios"
   ]
  },
  {
   "cell_type": "markdown",
   "metadata": {
    "kernel": "SoS"
   },
   "source": [
    "I look at various types of underlying mixture distribution of effect size, including those explored in Figure 2 of [ash paper](https://academic.oup.com/biostatistics/article/18/2/275/2557030/False-discovery-rates-a-new-deal), with different proportions of $\\pi_0 \\in \\{0.5, 0.9, 0.995, 0.999\\}$, and different genotype structure"
   ]
  },
  {
   "cell_type": "markdown",
   "metadata": {
    "kernel": "SoS"
   },
   "source": [
    "## Effect size\n",
    "\n",
    "![](img/mixtures.png)\n",
    "\n",
    "## Two types of genotypes\n",
    "In addition to using the original genotype data we also created a genotype data without any LD -- we permute for each variant the sample genotypes to break any potential inter-variant correlations. Here is what we get for the LD structure, compared with [the original](MR_ASH_Simulation.html#View-and-select-LD-structure):\n",
    "\n",
    "![](img/ENSG00000264247.permuted.ld.png)\n",
    "\n",
    "## Simulation runs\n",
    "One replicate multiple scenarios\n",
    "\n",
    "```\n",
    "sos run 20170624_Simulation_Procedures.ipynb --pi0 0.5 0.9 0.995 0.999 \\\n",
    "    --shape spiky near_normal flat_top skew big_normal 'bimodal' \\\n",
    "    --n_rep 1\n",
    "    \n",
    "sos run 20170624_Simulation_Procedures.ipynb --pi0 0.5 0.9 0.995 0.999 \\\n",
    "    --shape spiky near_normal flat_top skew big_normal 'bimodal' \\\n",
    "    --n_rep 1 --permute_genotype True\n",
    "```\n",
    "One scenario multiple replicates\n",
    "\n",
    "\n",
    "```\n",
    "sos run 20170624_Simulation_Procedures.ipynb --pi0 0.999 \\\n",
    "    --shape near_normal \\\n",
    "    --n_rep 20\n",
    "    \n",
    "sos run 20170624_Simulation_Procedures.ipynb --pi0 0.999 \\\n",
    "    --shape near_normal \\\n",
    "    --n_rep 20 --permute_genotype True\n",
    "```\n",
    "\n",
    "## Data analysis\n",
    "\n",
    "For simulated data we perform 3 analysis:\n",
    "1. Univariate analysis (R's `lm()`)\n",
    "2. `mr-ash` analysis \n",
    "3. `ash` analysis using results from 1\n",
    "\n",
    "Results are stored at: `/project/compbio/GTEx_eQTL/MRASH_results/Simulation`. \n",
    "\n",
    "## Highlights\n",
    "### For genotype without LD convolution\n",
    "These are results with `permuted` in the file name.\n",
    "1. When signal is dense and slap `mr-ash` will generate a quite sparse solution with much over estimated $\\hat{\\sigma}$. In the case of 50% signal `mr-ash` estimates $\\hat{\\sigma} > 4000$ whereas the truth is 1. (see file `0p5_big_normal_1.expr.analyzed.pdf`). There is a big difference between `mr-ash` and `ash` results, too. Effect size estimate of `mr-ash` is very problematic.\n",
    "2. There is less over estimate of $\\hat{\\sigma}$ when signal is more spiky. (see file `0p5_near_normal_1.expr.analyzed.pdf` and `0p5_spiky_1.expr.analyzed.pdf`)\n",
    "3. In a somewhat more realistic scenario both `ash` and `mr-ash` can do quite good job. There does not seem to have a particular harm using `mr-ash`. (see file `0p999_big_normal_1.expr.analyzed.pdf`)\n",
    "4. The difference between `mr-ash` and `ash` in the more realistic scenario above is even less obvious when signal is more spiky. (see file `0p999_near_normal_1.expr.analyzed.pdf` and `0p999_spiky_1.expr.analyzed.pdf`). In fact both `mr-ash` and `ash` recovers the true signal less well than the more slap situation (but maybe slap situation is more realistic?).\n",
    "\n",
    "### For genotype with LD convolution\n",
    "These are results without `permuted` in the file name.\n",
    "1. When signal is dense and slap, `mr-ash` suffers the same problem as before though the estimate of effect size is much better. But in this scenario `ash` result over estimates effect size even more than plain univariate analysis. (see file `0p5_big_normal_1.expr.analyzed.pdf`)\n",
    "2. In a somewhat more realistic scenario (see file `0p999_big_normal_1.expr.analyzed.pdf`) the advantage of `mr-ash` is obvious. However there is still a slight over-estimate of $\\hat{\\sigma}$.\n",
    "3. When signal gets more spiky, there seems a slight under-estimate of $\\hat{\\sigma}$. Still `mr-ash` does better than `ash`. (see file `0p999_near_normal_1.expr.analyzed.pdf` and `0p999_spiky_1.expr.analyzed.pdf`)"
   ]
  },
  {
   "cell_type": "markdown",
   "metadata": {
    "kernel": "SoS"
   },
   "source": [
    "### Average  results over replicates\n",
    "Here we [compare CDF of estimates with the truth](http://stephenslab.github.io/ash/analysis/plot_cdf_eg.html) for multiple replicates. Here I only looked what we think the most \"realistic\" situation: $\\pi_0 = 99.9%$ and near-normal mixture. The good result below is consistent with the observation that the signals `mr-ash` identifies agree with the truth, in this setup."
   ]
  },
  {
   "cell_type": "code",
   "execution_count": 2,
   "metadata": {
    "collapsed": true,
    "kernel": "SoS"
   },
   "outputs": [],
   "source": [
    "parameter: fns = glob.glob('/home/gaow/Documents/GTEx/Simulation/TY.genotype.permuted.0p999_near_normal_*.expr.analyzed.rds')\n",
    "output: '/home/gaow/Documents/GTEx/Simulation/cdf_compare.rds'\n",
    "R:\n",
    "  x = seq(-6,6,length = 500)\n",
    "  cdf_dat_all = list()\n",
    "  idx = 0\n",
    "  for (d in c(${fns!r,})) {\n",
    "      idx = idx + 1\n",
    "      dat = readRDS(d)\n",
    "      cdf_dat = NULL\n",
    "      for (table in names(dat)) {\n",
    "          res = dat[[table]]\n",
    "          g0 = ashr::normalmix(c(res$meta$pi0, (1 - res$meta$pi0) * res$meta$pi), rep(0, length(res$meta$sigma)+1), c(0, res$meta$sigma))\n",
    "          g1 = ashr::normalmix(res$mr.ash$w, rep(0, length(res$mr.ash$sa)), sqrt(res$mr.ash$sa))\n",
    "          d0 = data.frame(x = x,y = as.numeric(ashr::mixcdf(g0,x)), method=\"truth\", scenario = table)\n",
    "          d1 = data.frame(x = x,y = as.numeric(ashr::mixcdf(g1,x)), method=\"mr-ash\", scenario = table)\n",
    "          if (is.null(cdf_dat)) cdf_dat = rbind(d0, d1)\n",
    "          else cdf_dat = rbind(cdf_dat, d0, d1)\n",
    "      }\n",
    "      cdf_dat_all[[idx]] = cdf_dat\n",
    "  }\n",
    "  saveRDS(cdf_dat_all, file = ${output!r})"
   ]
  },
  {
   "cell_type": "markdown",
   "metadata": {
    "kernel": "SoS"
   },
   "source": [
    "For even just one replicate:"
   ]
  },
  {
   "cell_type": "code",
   "execution_count": 4,
   "metadata": {
    "kernel": "R",
    "tags": [
     "report_output"
    ]
   },
   "outputs": [
    {
     "data": {},
     "metadata": {},
     "output_type": "display_data"
    },
    {
     "data": {
      "image/png": "[encoded data removed]",
      "text/plain": [
       "plot without title"
      ]
     },
     "metadata": {},
     "output_type": "display_data"
    }
   ],
   "source": [
    "dat = readRDS('/home/gaow/Documents/GTEx/Simulation/cdf_compare.rds')\n",
    "library(ggplot2)\n",
    "ggplot(dat[[1]], aes(x = x,y = y,color = method)) + \n",
    "    geom_line(lwd = 1.5,alpha = 0.7) + facet_grid(.~scenario) + \n",
    "    theme(legend.position = \"bottom\")"
   ]
  }
 ],
 "metadata": {
  "celltoolbar": "Tags",
  "kernelspec": {
   "display_name": "SoS",
   "language": "sos",
   "name": "sos"
  },
  "language_info": {
   "codemirror_mode": "sos",
   "file_extension": ".sos",
   "mimetype": "text/x-sos",
   "name": "sos",
   "nbconvert_exporter": "sos_notebook.converter.SoS_Exporter",
   "pygments_lexer": "sos"
  },
  "sos": {
   "default_kernel": "SoS",
   "kernels": [
    [
     "R",
     "ir",
     "R",
     "#FDEDEC"
    ],
    [
     "SoS",
     "sos",
     "",
     ""
    ],
    [
     "Python3",
     "python3",
     "Python3",
     "#FFE771"
    ]
   ],
   "panel": {
    "displayed": true,
    "height": 0,
    "style": "side"
   }
  }
 },
 "nbformat": 4,
 "nbformat_minor": 2
}
