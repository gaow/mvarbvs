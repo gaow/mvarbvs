{
 "cells": [
  {
   "cell_type": "markdown",
   "metadata": {
    "kernel": "SoS"
   },
   "source": [
    "# Looking into the 3 CAVIAR outliers\n",
    "\n",
    "Here we want to understand the examples that CAVIAR `-c 1` and susie `L 1` do not agree for `n = 1` causal variable.\n",
    "\n",
    "The plan is to pin-point the data in question and get the corresponding data-set, then use interactive analysis to explore in detail."
   ]
  },
  {
   "cell_type": "code",
   "execution_count": 1,
   "metadata": {
    "kernel": "SoS"
   },
   "outputs": [
    {
     "data": {
      "text/html": [
       "\n",
       "        <table class=\"revision_table\">\n",
       "        <tr>\n",
       "        <th>Revision</th>\n",
       "        <th>Author</th>\n",
       "        <th>Date</th>\n",
       "        <th>Message</th>\n",
       "        <tr>\n",
       "        <tr><td><a target=\"_blank\" href=\"https://github.com/gaow/mvarbvs/blob/e4990eac4deb3f67531b3a465933d2eeca8d48a6/20180601_One_Causal_CAVIAR_Exam.ipynb\"><span class=\"revision_id\">e4990ea<span></a></td>\n",
       "<td>Gao Wang</td>\n",
       "<td>2018-06-01</td>\n",
       "<td>Add a comment on -c 1 case for CAVIAR</td></tr><tr><td><a target=\"_blank\" href=\"https://github.com/gaow/mvarbvs/blob/ecefc0f79462ac45e79f78adcea51c9625f4b203/20180601_One_Causal_CAVIAR_Exam.ipynb\"><span class=\"revision_id\">ecefc0f<span></a></td>\n",
       "<td>Gao Wang</td>\n",
       "<td>2018-06-01</td>\n",
       "<td>Update CAVIAR table</td></tr><tr><td><a target=\"_blank\" href=\"https://github.com/gaow/mvarbvs/blob/9894dcf20f15ab92df194b5b2e15248e05e3665f/20180601_One_Causal_CAVIAR_Exam.ipynb\"><span class=\"revision_id\">9894dcf<span></a></td>\n",
       "<td>Gao Wang</td>\n",
       "<td>2018-06-01</td>\n",
       "<td>Update documentation</td></tr><tr><td><a target=\"_blank\" href=\"https://github.com/gaow/mvarbvs/blob/e6fce6fda8f55fe7b48ffc69248d92434edf746d/20180601_One_Causal_CAVIAR_Exam.ipynb\"><span class=\"revision_id\">e6fce6f<span></a></td>\n",
       "<td>Gao Wang</td>\n",
       "<td>2018-06-01</td>\n",
       "<td>Finish up one CAVIAR example</td></tr><tr><td><a target=\"_blank\" href=\"https://github.com/gaow/mvarbvs/blob/770577414392b9e2b6aedc61d7d31280216fdcdb/20180601_One_Causal_CAVIAR_Exam.ipynb\"><span class=\"revision_id\">7705774<span></a></td>\n",
       "<td>Gao Wang</td>\n",
       "<td>2018-06-01</td>\n",
       "<td>Add interactive notebook for CAVIAR issues</td></tr></table>"
      ]
     },
     "metadata": {},
     "output_type": "display_data"
    }
   ],
   "source": [
    "%revisions -s"
   ]
  },
  {
   "cell_type": "markdown",
   "metadata": {
    "kernel": "SoS"
   },
   "source": [
    "## Extract simulated dataset"
   ]
  },
  {
   "cell_type": "code",
   "execution_count": 1,
   "metadata": {
    "kernel": "SoS"
   },
   "outputs": [
    {
     "name": "stdout",
     "output_type": "stream",
     "text": [
      "/home/gaow/Documents/GIT/github/mvarbvs/dsc"
     ]
    }
   ],
   "source": [
    "%cd ~/GIT/github/mvarbvs/dsc"
   ]
  },
  {
   "cell_type": "code",
   "execution_count": null,
   "metadata": {
    "kernel": "R"
   },
   "outputs": [],
   "source": [
    "dataset = c('~/Documents/GTExV8/Toys/Thyroid.ENSG00000144445.RDS', '~/Documents/GTExV8/Toys/Thyroid.ENSG00000155324.RDS', '~/Documents/GTExV8/Toys/Thyroid.ENSG00000156738.RDS')\n",
    "out = dscrutils::dscquery('susie_comparison', \n",
    "                          targets = \"liter_data.dataset lm_less.n_signal lm_less\", \n",
    "                          conditions = \"lm_less.n_signal = 1\")"
   ]
  },
  {
   "cell_type": "code",
   "execution_count": 9,
   "metadata": {
    "kernel": "R"
   },
   "outputs": [
    {
     "data": {
      "text/html": [
       "<table>\n",
       "<thead><tr><th></th><th scope=col>DSC</th><th scope=col>liter_data.dataset</th><th scope=col>lm_less.n_signal</th><th scope=col>lm_less.output.file</th></tr></thead>\n",
       "<tbody>\n",
       "\t<tr><th scope=row>39</th><td>1                                                  </td><td>~/Documents/GTExV8/Toys/Thyroid.ENSG00000144445.RDS</td><td>1                                                  </td><td>lm_less/liter_data_39_summarize_ld_1_lm_less_1     </td></tr>\n",
       "\t<tr><th scope=row>48</th><td>1                                                  </td><td>~/Documents/GTExV8/Toys/Thyroid.ENSG00000155324.RDS</td><td>1                                                  </td><td>lm_less/liter_data_48_summarize_ld_1_lm_less_1     </td></tr>\n",
       "\t<tr><th scope=row>49</th><td>1                                                  </td><td>~/Documents/GTExV8/Toys/Thyroid.ENSG00000156738.RDS</td><td>1                                                  </td><td>lm_less/liter_data_49_summarize_ld_1_lm_less_1     </td></tr>\n",
       "</tbody>\n",
       "</table>\n"
      ],
      "text/latex": [
       "\\begin{tabular}{r|llll}\n",
       "  & DSC & liter\\_data.dataset & lm\\_less.n\\_signal & lm\\_less.output.file\\\\\n",
       "\\hline\n",
       "\t39 & 1                                                                    & \\textasciitilde{}/Documents/GTExV8/Toys/Thyroid.ENSG00000144445.RDS & 1                                                                    & lm\\_less/liter\\_data\\_39\\_summarize\\_ld\\_1\\_lm\\_less\\_1    \\\\\n",
       "\t48 & 1                                                                    & \\textasciitilde{}/Documents/GTExV8/Toys/Thyroid.ENSG00000155324.RDS & 1                                                                    & lm\\_less/liter\\_data\\_48\\_summarize\\_ld\\_1\\_lm\\_less\\_1    \\\\\n",
       "\t49 & 1                                                                    & \\textasciitilde{}/Documents/GTExV8/Toys/Thyroid.ENSG00000156738.RDS & 1                                                                    & lm\\_less/liter\\_data\\_49\\_summarize\\_ld\\_1\\_lm\\_less\\_1    \\\\\n",
       "\\end{tabular}\n"
      ],
      "text/markdown": [
       "\n",
       "| <!--/--> | DSC | liter_data.dataset | lm_less.n_signal | lm_less.output.file | \n",
       "|---|---|---|\n",
       "| 39 | 1                                                   | ~/Documents/GTExV8/Toys/Thyroid.ENSG00000144445.RDS | 1                                                   | lm_less/liter_data_39_summarize_ld_1_lm_less_1      | \n",
       "| 48 | 1                                                   | ~/Documents/GTExV8/Toys/Thyroid.ENSG00000155324.RDS | 1                                                   | lm_less/liter_data_48_summarize_ld_1_lm_less_1      | \n",
       "| 49 | 1                                                   | ~/Documents/GTExV8/Toys/Thyroid.ENSG00000156738.RDS | 1                                                   | lm_less/liter_data_49_summarize_ld_1_lm_less_1      | \n",
       "\n",
       "\n"
      ],
      "text/plain": [
       "   DSC liter_data.dataset                                  lm_less.n_signal\n",
       "39 1   ~/Documents/GTExV8/Toys/Thyroid.ENSG00000144445.RDS 1               \n",
       "48 1   ~/Documents/GTExV8/Toys/Thyroid.ENSG00000155324.RDS 1               \n",
       "49 1   ~/Documents/GTExV8/Toys/Thyroid.ENSG00000156738.RDS 1               \n",
       "   lm_less.output.file                           \n",
       "39 lm_less/liter_data_39_summarize_ld_1_lm_less_1\n",
       "48 lm_less/liter_data_48_summarize_ld_1_lm_less_1\n",
       "49 lm_less/liter_data_49_summarize_ld_1_lm_less_1"
      ]
     },
     "metadata": {},
     "output_type": "display_data"
    }
   ],
   "source": [
    "out[which(out$liter_data.dataset %in% dataset),]"
   ]
  },
  {
   "cell_type": "code",
   "execution_count": 11,
   "metadata": {
    "kernel": "SoS"
   },
   "outputs": [],
   "source": [
    "bash:\n",
    "    cp susie_comparison/lm_less/liter_data_{39,48,49}_summarize_ld_1_lm_less_1.pkl ../data"
   ]
  },
  {
   "cell_type": "markdown",
   "metadata": {
    "kernel": "SoS"
   },
   "source": [
    "## The `ENSG00000156738` example\n",
    "\n",
    "Here I take one data-set and use narratives to work all the way to the point we get CAVIAR and susie results. Hopefully this transparent process will help us pin-pointing the problem.\n",
    "\n",
    "Load data first:"
   ]
  },
  {
   "cell_type": "code",
   "execution_count": 2,
   "metadata": {
    "kernel": "R"
   },
   "outputs": [],
   "source": [
    "name = 'ENSG00000156738'\n",
    "prefix = paste0(\"/tmp/\", name, '_CAVIAR')"
   ]
  },
  {
   "cell_type": "code",
   "execution_count": 3,
   "metadata": {
    "kernel": "R"
   },
   "outputs": [],
   "source": [
    "dat = dscrutils:::read_dsc('../data/liter_data_49_summarize_ld_1_lm_less_1.pkl')$data"
   ]
  },
  {
   "cell_type": "markdown",
   "metadata": {
    "kernel": "SoS"
   },
   "source": [
    "### Data preparation"
   ]
  },
  {
   "cell_type": "code",
   "execution_count": 5,
   "metadata": {
    "kernel": "R"
   },
   "outputs": [
    {
     "data": {
      "text/html": [
       "<ol class=list-inline>\n",
       "\t<li>'X'</li>\n",
       "\t<li>'y'</li>\n",
       "\t<li>'Z'</li>\n",
       "\t<li>'chrom'</li>\n",
       "\t<li>'pos'</li>\n",
       "\t<li>'true_coef'</li>\n",
       "\t<li>'residual_variance'</li>\n",
       "\t<li>'Y'</li>\n",
       "\t<li>'allele_freq'</li>\n",
       "\t<li>'V'</li>\n",
       "</ol>\n"
      ],
      "text/latex": [
       "\\begin{enumerate*}\n",
       "\\item 'X'\n",
       "\\item 'y'\n",
       "\\item 'Z'\n",
       "\\item 'chrom'\n",
       "\\item 'pos'\n",
       "\\item 'true\\_coef'\n",
       "\\item 'residual\\_variance'\n",
       "\\item 'Y'\n",
       "\\item 'allele\\_freq'\n",
       "\\item 'V'\n",
       "\\end{enumerate*}\n"
      ],
      "text/markdown": [
       "1. 'X'\n",
       "2. 'y'\n",
       "3. 'Z'\n",
       "4. 'chrom'\n",
       "5. 'pos'\n",
       "6. 'true_coef'\n",
       "7. 'residual_variance'\n",
       "8. 'Y'\n",
       "9. 'allele_freq'\n",
       "10. 'V'\n",
       "\n",
       "\n"
      ],
      "text/plain": [
       " [1] \"X\"                 \"y\"                 \"Z\"                \n",
       " [4] \"chrom\"             \"pos\"               \"true_coef\"        \n",
       " [7] \"residual_variance\" \"Y\"                 \"allele_freq\"      \n",
       "[10] \"V\"                "
      ]
     },
     "metadata": {},
     "output_type": "display_data"
    }
   ],
   "source": [
    "names(dat)"
   ]
  },
  {
   "cell_type": "code",
   "execution_count": 7,
   "metadata": {
    "kernel": "R"
   },
   "outputs": [
    {
     "data": {
      "text/html": [
       "<ol class=list-inline>\n",
       "\t<li>574</li>\n",
       "\t<li>1001</li>\n",
       "</ol>\n"
      ],
      "text/latex": [
       "\\begin{enumerate*}\n",
       "\\item 574\n",
       "\\item 1001\n",
       "\\end{enumerate*}\n"
      ],
      "text/markdown": [
       "1. 574\n",
       "2. 1001\n",
       "\n",
       "\n"
      ],
      "text/plain": [
       "[1]  574 1001"
      ]
     },
     "metadata": {},
     "output_type": "display_data"
    }
   ],
   "source": [
    "dim(dat$X)"
   ]
  },
  {
   "cell_type": "markdown",
   "metadata": {
    "kernel": "SoS"
   },
   "source": [
    "The data has two response variables. We will focus on `Y[,1]`:"
   ]
  },
  {
   "cell_type": "code",
   "execution_count": 8,
   "metadata": {
    "kernel": "R"
   },
   "outputs": [
    {
     "data": {
      "text/html": [
       "<ol class=list-inline>\n",
       "\t<li>574</li>\n",
       "\t<li>2</li>\n",
       "</ol>\n"
      ],
      "text/latex": [
       "\\begin{enumerate*}\n",
       "\\item 574\n",
       "\\item 2\n",
       "\\end{enumerate*}\n"
      ],
      "text/markdown": [
       "1. 574\n",
       "2. 2\n",
       "\n",
       "\n"
      ],
      "text/plain": [
       "[1] 574   2"
      ]
     },
     "metadata": {},
     "output_type": "display_data"
    }
   ],
   "source": [
    "dim(dat$Y)"
   ]
  },
  {
   "cell_type": "markdown",
   "metadata": {
    "kernel": "SoS"
   },
   "source": [
    "The true signal is `816`."
   ]
  },
  {
   "cell_type": "code",
   "execution_count": 9,
   "metadata": {
    "kernel": "R"
   },
   "outputs": [
    {
     "data": {
      "text/html": [
       "816"
      ],
      "text/latex": [
       "816"
      ],
      "text/markdown": [
       "816"
      ],
      "text/plain": [
       "[1] 816"
      ]
     },
     "metadata": {},
     "output_type": "display_data"
    }
   ],
   "source": [
    "which(dat$true_coef[,1] != 0)"
   ]
  },
  {
   "cell_type": "markdown",
   "metadata": {
    "kernel": "SoS"
   },
   "source": [
    "Now output LD and summary stats for CAVIAR"
   ]
  },
  {
   "cell_type": "code",
   "execution_count": 10,
   "metadata": {
    "kernel": "R"
   },
   "outputs": [],
   "source": [
    "r2 = cor(dat$X)\n",
    "r2 = r2 ^ 2 * sign(r2)\n",
    "write.table(r2,paste0(prefix, '.ld'),quote=F,col.names=F,row.names=F)"
   ]
  },
  {
   "cell_type": "code",
   "execution_count": 37,
   "metadata": {
    "kernel": "R"
   },
   "outputs": [],
   "source": [
    "source('modules/regression.R')\n",
    "source('modules/fit_caviar.R')\n",
    "res = mm_regression(as.matrix(dat$X), as.matrix(dat$Y))\n",
    "z_score = res[1,,]/res[2,,]\n",
    "cfg = write_caviar_sumstats(z_score, prefix)"
   ]
  },
  {
   "cell_type": "markdown",
   "metadata": {
    "kernel": "SoS"
   },
   "source": [
    "### CAVIAR\n",
    "\n",
    "Now run CAVIAR, with prior 0.001 for 1 effect in 1000."
   ]
  },
  {
   "cell_type": "code",
   "execution_count": 12,
   "metadata": {
    "kernel": "R"
   },
   "outputs": [
    {
     "data": {
      "text/html": [
       "0"
      ],
      "text/latex": [
       "0"
      ],
      "text/markdown": [
       "0"
      ],
      "text/plain": [
       "[1] 0"
      ]
     },
     "metadata": {},
     "output_type": "display_data"
    }
   ],
   "source": [
    "cmd = paste(\"CAVIAR\", \"-z\", cfg$z, \"-l\", paste0(prefix, \".ld\"), \"-o\", prefix, \"-r 0.001\")\n",
    "dscrutils:::run_cmd(cmd)"
   ]
  },
  {
   "cell_type": "code",
   "execution_count": 39,
   "metadata": {
    "kernel": "R"
   },
   "outputs": [],
   "source": [
    "log <- readLines(cfg$log)\n",
    "library(dplyr)\n",
    "library(magrittr)\n",
    "# read output tables\n",
    "snp <- read.delim(cfg$post)  \n",
    "stopifnot(ncol(snp) == 3)\n",
    "names(snp) <- c(\"snp\", \"snp_prob_set\", \"snp_prob\")\n",
    "snp$snp <- as.character(snp$snp)\n",
    "snp <- rank_snp(snp)\n",
    "\n",
    "# `set` of snps\n",
    "set <- readLines(cfg$set)\n",
    "set_ordered <- left_join(data_frame(snp = set), snp, by = \"snp\") %>% \n",
    "arrange(rank) %$% snp"
   ]
  },
  {
   "cell_type": "code",
   "execution_count": 40,
   "metadata": {
    "kernel": "R"
   },
   "outputs": [
    {
     "data": {
      "text/html": [
       "'816'"
      ],
      "text/latex": [
       "'816'"
      ],
      "text/markdown": [
       "'816'"
      ],
      "text/plain": [
       "[1] \"816\""
      ]
     },
     "metadata": {},
     "output_type": "display_data"
    }
   ],
   "source": [
    "set_ordered"
   ]
  },
  {
   "cell_type": "code",
   "execution_count": 42,
   "metadata": {
    "kernel": "R"
   },
   "outputs": [
    {
     "data": {
      "text/html": [
       "<table>\n",
       "<thead><tr><th scope=col>rank</th><th scope=col>snp</th><th scope=col>snp_prob</th><th scope=col>snp_prob_cumsum</th><th scope=col>snp_prob_set</th></tr></thead>\n",
       "<tbody>\n",
       "\t<tr><td> 1         </td><td>816        </td><td>1.00000e+00</td><td>0.5000     </td><td>5.00000e-01</td></tr>\n",
       "\t<tr><td> 2         </td><td>769        </td><td>1.25000e-01</td><td>0.5625     </td><td>6.25000e-02</td></tr>\n",
       "\t<tr><td> 3         </td><td>770        </td><td>1.25000e-01</td><td>0.6250     </td><td>6.25000e-02</td></tr>\n",
       "\t<tr><td> 4         </td><td>771        </td><td>1.25000e-01</td><td>0.6875     </td><td>6.25000e-02</td></tr>\n",
       "\t<tr><td> 5         </td><td>791        </td><td>1.25000e-01</td><td>0.7500     </td><td>6.25000e-02</td></tr>\n",
       "\t<tr><td> 6         </td><td>796        </td><td>1.25000e-01</td><td>0.8125     </td><td>6.25000e-02</td></tr>\n",
       "\t<tr><td> 7         </td><td>797        </td><td>1.25000e-01</td><td>0.8750     </td><td>6.25000e-02</td></tr>\n",
       "\t<tr><td> 8         </td><td>798        </td><td>1.25000e-01</td><td>0.9375     </td><td>6.25000e-02</td></tr>\n",
       "\t<tr><td> 9         </td><td>814        </td><td>1.25000e-01</td><td>1.0000     </td><td>6.25000e-02</td></tr>\n",
       "\t<tr><td>10         </td><td>954        </td><td>8.85469e-42</td><td>1.0000     </td><td>4.42735e-42</td></tr>\n",
       "\t<tr><td>11         </td><td>875        </td><td>1.77256e-48</td><td>1.0000     </td><td>8.86278e-49</td></tr>\n",
       "\t<tr><td>12         </td><td>837        </td><td>3.27424e-49</td><td>1.0000     </td><td>1.63712e-49</td></tr>\n",
       "\t<tr><td>13         </td><td>906        </td><td>2.81487e-51</td><td>1.0000     </td><td>1.40744e-51</td></tr>\n",
       "\t<tr><td>14         </td><td>818        </td><td>1.15577e-53</td><td>1.0000     </td><td>5.77885e-54</td></tr>\n",
       "\t<tr><td>15         </td><td>902        </td><td>6.17808e-54</td><td>1.0000     </td><td>3.08904e-54</td></tr>\n",
       "</tbody>\n",
       "</table>\n"
      ],
      "text/latex": [
       "\\begin{tabular}{r|lllll}\n",
       " rank & snp & snp\\_prob & snp\\_prob\\_cumsum & snp\\_prob\\_set\\\\\n",
       "\\hline\n",
       "\t  1          & 816         & 1.00000e+00 & 0.5000      & 5.00000e-01\\\\\n",
       "\t  2          & 769         & 1.25000e-01 & 0.5625      & 6.25000e-02\\\\\n",
       "\t  3          & 770         & 1.25000e-01 & 0.6250      & 6.25000e-02\\\\\n",
       "\t  4          & 771         & 1.25000e-01 & 0.6875      & 6.25000e-02\\\\\n",
       "\t  5          & 791         & 1.25000e-01 & 0.7500      & 6.25000e-02\\\\\n",
       "\t  6          & 796         & 1.25000e-01 & 0.8125      & 6.25000e-02\\\\\n",
       "\t  7          & 797         & 1.25000e-01 & 0.8750      & 6.25000e-02\\\\\n",
       "\t  8          & 798         & 1.25000e-01 & 0.9375      & 6.25000e-02\\\\\n",
       "\t  9          & 814         & 1.25000e-01 & 1.0000      & 6.25000e-02\\\\\n",
       "\t 10          & 954         & 8.85469e-42 & 1.0000      & 4.42735e-42\\\\\n",
       "\t 11          & 875         & 1.77256e-48 & 1.0000      & 8.86278e-49\\\\\n",
       "\t 12          & 837         & 3.27424e-49 & 1.0000      & 1.63712e-49\\\\\n",
       "\t 13          & 906         & 2.81487e-51 & 1.0000      & 1.40744e-51\\\\\n",
       "\t 14          & 818         & 1.15577e-53 & 1.0000      & 5.77885e-54\\\\\n",
       "\t 15          & 902         & 6.17808e-54 & 1.0000      & 3.08904e-54\\\\\n",
       "\\end{tabular}\n"
      ],
      "text/markdown": [
       "\n",
       "rank | snp | snp_prob | snp_prob_cumsum | snp_prob_set | \n",
       "|---|---|---|---|---|---|---|---|---|---|---|---|---|---|---|\n",
       "|  1          | 816         | 1.00000e+00 | 0.5000      | 5.00000e-01 | \n",
       "|  2          | 769         | 1.25000e-01 | 0.5625      | 6.25000e-02 | \n",
       "|  3          | 770         | 1.25000e-01 | 0.6250      | 6.25000e-02 | \n",
       "|  4          | 771         | 1.25000e-01 | 0.6875      | 6.25000e-02 | \n",
       "|  5          | 791         | 1.25000e-01 | 0.7500      | 6.25000e-02 | \n",
       "|  6          | 796         | 1.25000e-01 | 0.8125      | 6.25000e-02 | \n",
       "|  7          | 797         | 1.25000e-01 | 0.8750      | 6.25000e-02 | \n",
       "|  8          | 798         | 1.25000e-01 | 0.9375      | 6.25000e-02 | \n",
       "|  9          | 814         | 1.25000e-01 | 1.0000      | 6.25000e-02 | \n",
       "| 10          | 954         | 8.85469e-42 | 1.0000      | 4.42735e-42 | \n",
       "| 11          | 875         | 1.77256e-48 | 1.0000      | 8.86278e-49 | \n",
       "| 12          | 837         | 3.27424e-49 | 1.0000      | 1.63712e-49 | \n",
       "| 13          | 906         | 2.81487e-51 | 1.0000      | 1.40744e-51 | \n",
       "| 14          | 818         | 1.15577e-53 | 1.0000      | 5.77885e-54 | \n",
       "| 15          | 902         | 6.17808e-54 | 1.0000      | 3.08904e-54 | \n",
       "\n",
       "\n"
      ],
      "text/plain": [
       "   rank snp snp_prob    snp_prob_cumsum snp_prob_set\n",
       "1   1   816 1.00000e+00 0.5000          5.00000e-01 \n",
       "2   2   769 1.25000e-01 0.5625          6.25000e-02 \n",
       "3   3   770 1.25000e-01 0.6250          6.25000e-02 \n",
       "4   4   771 1.25000e-01 0.6875          6.25000e-02 \n",
       "5   5   791 1.25000e-01 0.7500          6.25000e-02 \n",
       "6   6   796 1.25000e-01 0.8125          6.25000e-02 \n",
       "7   7   797 1.25000e-01 0.8750          6.25000e-02 \n",
       "8   8   798 1.25000e-01 0.9375          6.25000e-02 \n",
       "9   9   814 1.25000e-01 1.0000          6.25000e-02 \n",
       "10 10   954 8.85469e-42 1.0000          4.42735e-42 \n",
       "11 11   875 1.77256e-48 1.0000          8.86278e-49 \n",
       "12 12   837 3.27424e-49 1.0000          1.63712e-49 \n",
       "13 13   906 2.81487e-51 1.0000          1.40744e-51 \n",
       "14 14   818 1.15577e-53 1.0000          5.77885e-54 \n",
       "15 15   902 6.17808e-54 1.0000          3.08904e-54 "
      ]
     },
     "metadata": {},
     "output_type": "display_data"
    }
   ],
   "source": [
    "head(snp, 15)"
   ]
  },
  {
   "cell_type": "markdown",
   "metadata": {
    "kernel": "SoS"
   },
   "source": [
    "So here CAVIAR reports one set that contains one causal variant `816`. Notice:\n",
    "\n",
    "- In the CAVIAR call I did not explicitly specify `-c 1` but I still get this one signal reported in their `*_set` file. When I do specify `-c 1`, **I will get `snp_prob_set` of 1 for 816 and 0 for others** (result not shown).\n",
    "- also in CAVIAR although `816` reports `snp_prob` 1.0, when `-c` is not set, the `snp_prob_set` it reports is 0.5 as shown in the table. The other high LD SNPs do share the rest 0.5.\n",
    "\n",
    "Also note that in CAVIAR original output file they use `Causal_Post._Prob.` for `snp_prob` and `Prob_in_pCausalSet` for `snp_prob_set`. Here I just unified it with FINEMAP headers."
   ]
  },
  {
   "cell_type": "markdown",
   "metadata": {
    "kernel": "SoS"
   },
   "source": [
    "### susie single effect\n",
    "\n",
    "Set `L=1` for the susie fit, which is just a single effect regression. In sum:\n",
    "\n",
    "- Susie still picks `816` the top one, as expected, but the PIP is 0.16\n",
    "- There are 14 other variables have PIP under 0.08"
   ]
  },
  {
   "cell_type": "code",
   "execution_count": 17,
   "metadata": {
    "kernel": "R"
   },
   "outputs": [],
   "source": [
    "# Here my X and Y are already centered\n",
    "\n",
    "X = scale(dat$X,center=FALSE, scale=TRUE)\n",
    "Y = dat$Y[,1]\n",
    "fit = susieR:::single_effect_regression(Y,X,sa2=0.2,s2=var(dat$Y[,1]))"
   ]
  },
  {
   "cell_type": "code",
   "execution_count": 18,
   "metadata": {
    "kernel": "R"
   },
   "outputs": [
    {
     "data": {
      "text/html": [
       "816"
      ],
      "text/latex": [
       "816"
      ],
      "text/markdown": [
       "816"
      ],
      "text/plain": [
       "[1] 816"
      ]
     },
     "metadata": {},
     "output_type": "display_data"
    }
   ],
   "source": [
    "which.max(fit$alpha)"
   ]
  },
  {
   "cell_type": "markdown",
   "metadata": {
    "kernel": "SoS"
   },
   "source": [
    "For L=1 the `alpha` is the PIP:"
   ]
  },
  {
   "cell_type": "code",
   "execution_count": 21,
   "metadata": {
    "kernel": "R"
   },
   "outputs": [
    {
     "data": {
      "image/png": "[encoded data removed]",
      "text/plain": [
       "plot without title"
      ]
     },
     "metadata": {},
     "output_type": "display_data"
    }
   ],
   "source": [
    "plot(fit$alpha, pch=20, xlab='variables', ylab = 'alpha')"
   ]
  },
  {
   "cell_type": "markdown",
   "metadata": {
    "kernel": "SoS"
   },
   "source": [
    "Notice that ordering of SNPs are largely consistent between CAVIAR and susie."
   ]
  },
  {
   "cell_type": "code",
   "execution_count": 44,
   "metadata": {
    "kernel": "R"
   },
   "outputs": [
    {
     "data": {
      "text/html": [
       "<ol class=list-inline>\n",
       "\t<li>816</li>\n",
       "\t<li>769</li>\n",
       "\t<li>770</li>\n",
       "\t<li>771</li>\n",
       "\t<li>791</li>\n",
       "\t<li>796</li>\n",
       "\t<li>797</li>\n",
       "\t<li>798</li>\n",
       "\t<li>814</li>\n",
       "\t<li>776</li>\n",
       "\t<li>768</li>\n",
       "\t<li>815</li>\n",
       "\t<li>775</li>\n",
       "\t<li>786</li>\n",
       "\t<li>751</li>\n",
       "</ol>\n"
      ],
      "text/latex": [
       "\\begin{enumerate*}\n",
       "\\item 816\n",
       "\\item 769\n",
       "\\item 770\n",
       "\\item 771\n",
       "\\item 791\n",
       "\\item 796\n",
       "\\item 797\n",
       "\\item 798\n",
       "\\item 814\n",
       "\\item 776\n",
       "\\item 768\n",
       "\\item 815\n",
       "\\item 775\n",
       "\\item 786\n",
       "\\item 751\n",
       "\\end{enumerate*}\n"
      ],
      "text/markdown": [
       "1. 816\n",
       "2. 769\n",
       "3. 770\n",
       "4. 771\n",
       "5. 791\n",
       "6. 796\n",
       "7. 797\n",
       "8. 798\n",
       "9. 814\n",
       "10. 776\n",
       "11. 768\n",
       "12. 815\n",
       "13. 775\n",
       "14. 786\n",
       "15. 751\n",
       "\n",
       "\n"
      ],
      "text/plain": [
       " [1] 816 769 770 771 791 796 797 798 814 776 768 815 775 786 751"
      ]
     },
     "metadata": {},
     "output_type": "display_data"
    }
   ],
   "source": [
    "order(fit$alpha, decreasing=T)[1:15]"
   ]
  },
  {
   "cell_type": "markdown",
   "metadata": {
    "kernel": "SoS"
   },
   "source": [
    "Purity of susie CS, defined by the min of abs(LD):"
   ]
  },
  {
   "cell_type": "code",
   "execution_count": 28,
   "metadata": {
    "kernel": "R"
   },
   "outputs": [
    {
     "data": {
      "text/html": [
       "<table>\n",
       "<tbody>\n",
       "\t<tr><td>1.0000000</td><td>0.9963420</td><td>0.9969772</td><td>0.9969772</td><td>0.9969772</td><td>0.9939427</td><td>0.9963460</td><td>0.9939427</td><td>0.9969772</td><td>0.9969772</td><td>0.9969772</td><td>0.9969772</td><td>0.9969772</td><td>0.9939341</td><td>0.9933067</td></tr>\n",
       "\t<tr><td>0.9963420</td><td>1.0000000</td><td>0.9993619</td><td>0.9993619</td><td>0.9993619</td><td>0.9963506</td><td>0.9987251</td><td>0.9963506</td><td>0.9993619</td><td>0.9993619</td><td>0.9993619</td><td>0.9993619</td><td>0.9993619</td><td>0.9963420</td><td>0.9957090</td></tr>\n",
       "\t<tr><td>0.9969772</td><td>0.9993619</td><td>1.0000000</td><td>1.0000000</td><td>1.0000000</td><td>0.9969858</td><td>0.9993658</td><td>0.9969858</td><td>1.0000000</td><td>1.0000000</td><td>1.0000000</td><td>1.0000000</td><td>1.0000000</td><td>0.9969772</td><td>0.9963467</td></tr>\n",
       "\t<tr><td>0.9969772</td><td>0.9993619</td><td>1.0000000</td><td>1.0000000</td><td>1.0000000</td><td>0.9969858</td><td>0.9993658</td><td>0.9969858</td><td>1.0000000</td><td>1.0000000</td><td>1.0000000</td><td>1.0000000</td><td>1.0000000</td><td>0.9969772</td><td>0.9963467</td></tr>\n",
       "\t<tr><td>0.9969772</td><td>0.9993619</td><td>1.0000000</td><td>1.0000000</td><td>1.0000000</td><td>0.9969858</td><td>0.9993658</td><td>0.9969858</td><td>1.0000000</td><td>1.0000000</td><td>1.0000000</td><td>1.0000000</td><td>1.0000000</td><td>0.9969772</td><td>0.9963467</td></tr>\n",
       "\t<tr><td>0.9939427</td><td>0.9963506</td><td>0.9969858</td><td>0.9969858</td><td>0.9969858</td><td>1.0000000</td><td>0.9963545</td><td>0.9939513</td><td>0.9969858</td><td>0.9969858</td><td>0.9969858</td><td>0.9969858</td><td>0.9969858</td><td>0.9939427</td><td>0.9933153</td></tr>\n",
       "\t<tr><td>0.9963460</td><td>0.9987251</td><td>0.9993658</td><td>0.9993658</td><td>0.9993658</td><td>0.9963545</td><td>1.0000000</td><td>0.9963545</td><td>0.9993658</td><td>0.9993658</td><td>0.9993658</td><td>0.9993658</td><td>0.9993658</td><td>0.9963460</td><td>0.9957130</td></tr>\n",
       "\t<tr><td>0.9939427</td><td>0.9963506</td><td>0.9969858</td><td>0.9969858</td><td>0.9969858</td><td>0.9939513</td><td>0.9963545</td><td>1.0000000</td><td>0.9969858</td><td>0.9969858</td><td>0.9969858</td><td>0.9969858</td><td>0.9969858</td><td>0.9939427</td><td>0.9933153</td></tr>\n",
       "\t<tr><td>0.9969772</td><td>0.9993619</td><td>1.0000000</td><td>1.0000000</td><td>1.0000000</td><td>0.9969858</td><td>0.9993658</td><td>0.9969858</td><td>1.0000000</td><td>1.0000000</td><td>1.0000000</td><td>1.0000000</td><td>1.0000000</td><td>0.9969772</td><td>0.9963467</td></tr>\n",
       "\t<tr><td>0.9969772</td><td>0.9993619</td><td>1.0000000</td><td>1.0000000</td><td>1.0000000</td><td>0.9969858</td><td>0.9993658</td><td>0.9969858</td><td>1.0000000</td><td>1.0000000</td><td>1.0000000</td><td>1.0000000</td><td>1.0000000</td><td>0.9969772</td><td>0.9963467</td></tr>\n",
       "\t<tr><td>0.9969772</td><td>0.9993619</td><td>1.0000000</td><td>1.0000000</td><td>1.0000000</td><td>0.9969858</td><td>0.9993658</td><td>0.9969858</td><td>1.0000000</td><td>1.0000000</td><td>1.0000000</td><td>1.0000000</td><td>1.0000000</td><td>0.9969772</td><td>0.9963467</td></tr>\n",
       "\t<tr><td>0.9969772</td><td>0.9993619</td><td>1.0000000</td><td>1.0000000</td><td>1.0000000</td><td>0.9969858</td><td>0.9993658</td><td>0.9969858</td><td>1.0000000</td><td>1.0000000</td><td>1.0000000</td><td>1.0000000</td><td>1.0000000</td><td>0.9969772</td><td>0.9963467</td></tr>\n",
       "\t<tr><td>0.9969772</td><td>0.9993619</td><td>1.0000000</td><td>1.0000000</td><td>1.0000000</td><td>0.9969858</td><td>0.9993658</td><td>0.9969858</td><td>1.0000000</td><td>1.0000000</td><td>1.0000000</td><td>1.0000000</td><td>1.0000000</td><td>0.9969772</td><td>0.9963467</td></tr>\n",
       "\t<tr><td>0.9939341</td><td>0.9963420</td><td>0.9969772</td><td>0.9969772</td><td>0.9969772</td><td>0.9939427</td><td>0.9963460</td><td>0.9939427</td><td>0.9969772</td><td>0.9969772</td><td>0.9969772</td><td>0.9969772</td><td>0.9969772</td><td>1.0000000</td><td>0.9933067</td></tr>\n",
       "\t<tr><td>0.9933067</td><td>0.9957090</td><td>0.9963467</td><td>0.9963467</td><td>0.9963467</td><td>0.9933153</td><td>0.9957130</td><td>0.9933153</td><td>0.9963467</td><td>0.9963467</td><td>0.9963467</td><td>0.9963467</td><td>0.9963467</td><td>0.9933067</td><td>1.0000000</td></tr>\n",
       "</tbody>\n",
       "</table>\n"
      ],
      "text/latex": [
       "\\begin{tabular}{lllllllllllllll}\n",
       "\t 1.0000000 & 0.9963420 & 0.9969772 & 0.9969772 & 0.9969772 & 0.9939427 & 0.9963460 & 0.9939427 & 0.9969772 & 0.9969772 & 0.9969772 & 0.9969772 & 0.9969772 & 0.9939341 & 0.9933067\\\\\n",
       "\t 0.9963420 & 1.0000000 & 0.9993619 & 0.9993619 & 0.9993619 & 0.9963506 & 0.9987251 & 0.9963506 & 0.9993619 & 0.9993619 & 0.9993619 & 0.9993619 & 0.9993619 & 0.9963420 & 0.9957090\\\\\n",
       "\t 0.9969772 & 0.9993619 & 1.0000000 & 1.0000000 & 1.0000000 & 0.9969858 & 0.9993658 & 0.9969858 & 1.0000000 & 1.0000000 & 1.0000000 & 1.0000000 & 1.0000000 & 0.9969772 & 0.9963467\\\\\n",
       "\t 0.9969772 & 0.9993619 & 1.0000000 & 1.0000000 & 1.0000000 & 0.9969858 & 0.9993658 & 0.9969858 & 1.0000000 & 1.0000000 & 1.0000000 & 1.0000000 & 1.0000000 & 0.9969772 & 0.9963467\\\\\n",
       "\t 0.9969772 & 0.9993619 & 1.0000000 & 1.0000000 & 1.0000000 & 0.9969858 & 0.9993658 & 0.9969858 & 1.0000000 & 1.0000000 & 1.0000000 & 1.0000000 & 1.0000000 & 0.9969772 & 0.9963467\\\\\n",
       "\t 0.9939427 & 0.9963506 & 0.9969858 & 0.9969858 & 0.9969858 & 1.0000000 & 0.9963545 & 0.9939513 & 0.9969858 & 0.9969858 & 0.9969858 & 0.9969858 & 0.9969858 & 0.9939427 & 0.9933153\\\\\n",
       "\t 0.9963460 & 0.9987251 & 0.9993658 & 0.9993658 & 0.9993658 & 0.9963545 & 1.0000000 & 0.9963545 & 0.9993658 & 0.9993658 & 0.9993658 & 0.9993658 & 0.9993658 & 0.9963460 & 0.9957130\\\\\n",
       "\t 0.9939427 & 0.9963506 & 0.9969858 & 0.9969858 & 0.9969858 & 0.9939513 & 0.9963545 & 1.0000000 & 0.9969858 & 0.9969858 & 0.9969858 & 0.9969858 & 0.9969858 & 0.9939427 & 0.9933153\\\\\n",
       "\t 0.9969772 & 0.9993619 & 1.0000000 & 1.0000000 & 1.0000000 & 0.9969858 & 0.9993658 & 0.9969858 & 1.0000000 & 1.0000000 & 1.0000000 & 1.0000000 & 1.0000000 & 0.9969772 & 0.9963467\\\\\n",
       "\t 0.9969772 & 0.9993619 & 1.0000000 & 1.0000000 & 1.0000000 & 0.9969858 & 0.9993658 & 0.9969858 & 1.0000000 & 1.0000000 & 1.0000000 & 1.0000000 & 1.0000000 & 0.9969772 & 0.9963467\\\\\n",
       "\t 0.9969772 & 0.9993619 & 1.0000000 & 1.0000000 & 1.0000000 & 0.9969858 & 0.9993658 & 0.9969858 & 1.0000000 & 1.0000000 & 1.0000000 & 1.0000000 & 1.0000000 & 0.9969772 & 0.9963467\\\\\n",
       "\t 0.9969772 & 0.9993619 & 1.0000000 & 1.0000000 & 1.0000000 & 0.9969858 & 0.9993658 & 0.9969858 & 1.0000000 & 1.0000000 & 1.0000000 & 1.0000000 & 1.0000000 & 0.9969772 & 0.9963467\\\\\n",
       "\t 0.9969772 & 0.9993619 & 1.0000000 & 1.0000000 & 1.0000000 & 0.9969858 & 0.9993658 & 0.9969858 & 1.0000000 & 1.0000000 & 1.0000000 & 1.0000000 & 1.0000000 & 0.9969772 & 0.9963467\\\\\n",
       "\t 0.9939341 & 0.9963420 & 0.9969772 & 0.9969772 & 0.9969772 & 0.9939427 & 0.9963460 & 0.9939427 & 0.9969772 & 0.9969772 & 0.9969772 & 0.9969772 & 0.9969772 & 1.0000000 & 0.9933067\\\\\n",
       "\t 0.9933067 & 0.9957090 & 0.9963467 & 0.9963467 & 0.9963467 & 0.9933153 & 0.9957130 & 0.9933153 & 0.9963467 & 0.9963467 & 0.9963467 & 0.9963467 & 0.9963467 & 0.9933067 & 1.0000000\\\\\n",
       "\\end{tabular}\n"
      ],
      "text/markdown": [
       "\n",
       "| 1.0000000 | 0.9963420 | 0.9969772 | 0.9969772 | 0.9969772 | 0.9939427 | 0.9963460 | 0.9939427 | 0.9969772 | 0.9969772 | 0.9969772 | 0.9969772 | 0.9969772 | 0.9939341 | 0.9933067 | \n",
       "| 0.9963420 | 1.0000000 | 0.9993619 | 0.9993619 | 0.9993619 | 0.9963506 | 0.9987251 | 0.9963506 | 0.9993619 | 0.9993619 | 0.9993619 | 0.9993619 | 0.9993619 | 0.9963420 | 0.9957090 | \n",
       "| 0.9969772 | 0.9993619 | 1.0000000 | 1.0000000 | 1.0000000 | 0.9969858 | 0.9993658 | 0.9969858 | 1.0000000 | 1.0000000 | 1.0000000 | 1.0000000 | 1.0000000 | 0.9969772 | 0.9963467 | \n",
       "| 0.9969772 | 0.9993619 | 1.0000000 | 1.0000000 | 1.0000000 | 0.9969858 | 0.9993658 | 0.9969858 | 1.0000000 | 1.0000000 | 1.0000000 | 1.0000000 | 1.0000000 | 0.9969772 | 0.9963467 | \n",
       "| 0.9969772 | 0.9993619 | 1.0000000 | 1.0000000 | 1.0000000 | 0.9969858 | 0.9993658 | 0.9969858 | 1.0000000 | 1.0000000 | 1.0000000 | 1.0000000 | 1.0000000 | 0.9969772 | 0.9963467 | \n",
       "| 0.9939427 | 0.9963506 | 0.9969858 | 0.9969858 | 0.9969858 | 1.0000000 | 0.9963545 | 0.9939513 | 0.9969858 | 0.9969858 | 0.9969858 | 0.9969858 | 0.9969858 | 0.9939427 | 0.9933153 | \n",
       "| 0.9963460 | 0.9987251 | 0.9993658 | 0.9993658 | 0.9993658 | 0.9963545 | 1.0000000 | 0.9963545 | 0.9993658 | 0.9993658 | 0.9993658 | 0.9993658 | 0.9993658 | 0.9963460 | 0.9957130 | \n",
       "| 0.9939427 | 0.9963506 | 0.9969858 | 0.9969858 | 0.9969858 | 0.9939513 | 0.9963545 | 1.0000000 | 0.9969858 | 0.9969858 | 0.9969858 | 0.9969858 | 0.9969858 | 0.9939427 | 0.9933153 | \n",
       "| 0.9969772 | 0.9993619 | 1.0000000 | 1.0000000 | 1.0000000 | 0.9969858 | 0.9993658 | 0.9969858 | 1.0000000 | 1.0000000 | 1.0000000 | 1.0000000 | 1.0000000 | 0.9969772 | 0.9963467 | \n",
       "| 0.9969772 | 0.9993619 | 1.0000000 | 1.0000000 | 1.0000000 | 0.9969858 | 0.9993658 | 0.9969858 | 1.0000000 | 1.0000000 | 1.0000000 | 1.0000000 | 1.0000000 | 0.9969772 | 0.9963467 | \n",
       "| 0.9969772 | 0.9993619 | 1.0000000 | 1.0000000 | 1.0000000 | 0.9969858 | 0.9993658 | 0.9969858 | 1.0000000 | 1.0000000 | 1.0000000 | 1.0000000 | 1.0000000 | 0.9969772 | 0.9963467 | \n",
       "| 0.9969772 | 0.9993619 | 1.0000000 | 1.0000000 | 1.0000000 | 0.9969858 | 0.9993658 | 0.9969858 | 1.0000000 | 1.0000000 | 1.0000000 | 1.0000000 | 1.0000000 | 0.9969772 | 0.9963467 | \n",
       "| 0.9969772 | 0.9993619 | 1.0000000 | 1.0000000 | 1.0000000 | 0.9969858 | 0.9993658 | 0.9969858 | 1.0000000 | 1.0000000 | 1.0000000 | 1.0000000 | 1.0000000 | 0.9969772 | 0.9963467 | \n",
       "| 0.9939341 | 0.9963420 | 0.9969772 | 0.9969772 | 0.9969772 | 0.9939427 | 0.9963460 | 0.9939427 | 0.9969772 | 0.9969772 | 0.9969772 | 0.9969772 | 0.9969772 | 1.0000000 | 0.9933067 | \n",
       "| 0.9933067 | 0.9957090 | 0.9963467 | 0.9963467 | 0.9963467 | 0.9933153 | 0.9957130 | 0.9933153 | 0.9963467 | 0.9963467 | 0.9963467 | 0.9963467 | 0.9963467 | 0.9933067 | 1.0000000 | \n",
       "\n",
       "\n"
      ],
      "text/plain": [
       "      [,1]      [,2]      [,3]      [,4]      [,5]      [,6]      [,7]     \n",
       " [1,] 1.0000000 0.9963420 0.9969772 0.9969772 0.9969772 0.9939427 0.9963460\n",
       " [2,] 0.9963420 1.0000000 0.9993619 0.9993619 0.9993619 0.9963506 0.9987251\n",
       " [3,] 0.9969772 0.9993619 1.0000000 1.0000000 1.0000000 0.9969858 0.9993658\n",
       " [4,] 0.9969772 0.9993619 1.0000000 1.0000000 1.0000000 0.9969858 0.9993658\n",
       " [5,] 0.9969772 0.9993619 1.0000000 1.0000000 1.0000000 0.9969858 0.9993658\n",
       " [6,] 0.9939427 0.9963506 0.9969858 0.9969858 0.9969858 1.0000000 0.9963545\n",
       " [7,] 0.9963460 0.9987251 0.9993658 0.9993658 0.9993658 0.9963545 1.0000000\n",
       " [8,] 0.9939427 0.9963506 0.9969858 0.9969858 0.9969858 0.9939513 0.9963545\n",
       " [9,] 0.9969772 0.9993619 1.0000000 1.0000000 1.0000000 0.9969858 0.9993658\n",
       "[10,] 0.9969772 0.9993619 1.0000000 1.0000000 1.0000000 0.9969858 0.9993658\n",
       "[11,] 0.9969772 0.9993619 1.0000000 1.0000000 1.0000000 0.9969858 0.9993658\n",
       "[12,] 0.9969772 0.9993619 1.0000000 1.0000000 1.0000000 0.9969858 0.9993658\n",
       "[13,] 0.9969772 0.9993619 1.0000000 1.0000000 1.0000000 0.9969858 0.9993658\n",
       "[14,] 0.9939341 0.9963420 0.9969772 0.9969772 0.9969772 0.9939427 0.9963460\n",
       "[15,] 0.9933067 0.9957090 0.9963467 0.9963467 0.9963467 0.9933153 0.9957130\n",
       "      [,8]      [,9]      [,10]     [,11]     [,12]     [,13]     [,14]    \n",
       " [1,] 0.9939427 0.9969772 0.9969772 0.9969772 0.9969772 0.9969772 0.9939341\n",
       " [2,] 0.9963506 0.9993619 0.9993619 0.9993619 0.9993619 0.9993619 0.9963420\n",
       " [3,] 0.9969858 1.0000000 1.0000000 1.0000000 1.0000000 1.0000000 0.9969772\n",
       " [4,] 0.9969858 1.0000000 1.0000000 1.0000000 1.0000000 1.0000000 0.9969772\n",
       " [5,] 0.9969858 1.0000000 1.0000000 1.0000000 1.0000000 1.0000000 0.9969772\n",
       " [6,] 0.9939513 0.9969858 0.9969858 0.9969858 0.9969858 0.9969858 0.9939427\n",
       " [7,] 0.9963545 0.9993658 0.9993658 0.9993658 0.9993658 0.9993658 0.9963460\n",
       " [8,] 1.0000000 0.9969858 0.9969858 0.9969858 0.9969858 0.9969858 0.9939427\n",
       " [9,] 0.9969858 1.0000000 1.0000000 1.0000000 1.0000000 1.0000000 0.9969772\n",
       "[10,] 0.9969858 1.0000000 1.0000000 1.0000000 1.0000000 1.0000000 0.9969772\n",
       "[11,] 0.9969858 1.0000000 1.0000000 1.0000000 1.0000000 1.0000000 0.9969772\n",
       "[12,] 0.9969858 1.0000000 1.0000000 1.0000000 1.0000000 1.0000000 0.9969772\n",
       "[13,] 0.9969858 1.0000000 1.0000000 1.0000000 1.0000000 1.0000000 0.9969772\n",
       "[14,] 0.9939427 0.9969772 0.9969772 0.9969772 0.9969772 0.9969772 1.0000000\n",
       "[15,] 0.9933153 0.9963467 0.9963467 0.9963467 0.9963467 0.9963467 0.9933067\n",
       "      [,15]    \n",
       " [1,] 0.9933067\n",
       " [2,] 0.9957090\n",
       " [3,] 0.9963467\n",
       " [4,] 0.9963467\n",
       " [5,] 0.9963467\n",
       " [6,] 0.9933153\n",
       " [7,] 0.9957130\n",
       " [8,] 0.9933153\n",
       " [9,] 0.9963467\n",
       "[10,] 0.9963467\n",
       "[11,] 0.9963467\n",
       "[12,] 0.9963467\n",
       "[13,] 0.9963467\n",
       "[14,] 0.9933067\n",
       "[15,] 1.0000000"
      ]
     },
     "metadata": {},
     "output_type": "display_data"
    }
   ],
   "source": [
    "cs = which(susieR:::in_CS_x(fit$alpha)>0)\n",
    "purity = r2[cs,cs]\n",
    "purity"
   ]
  },
  {
   "cell_type": "code",
   "execution_count": 29,
   "metadata": {
    "kernel": "R"
   },
   "outputs": [
    {
     "data": {
      "text/html": [
       "15"
      ],
      "text/latex": [
       "15"
      ],
      "text/markdown": [
       "15"
      ],
      "text/plain": [
       "[1] 15"
      ]
     },
     "metadata": {},
     "output_type": "display_data"
    }
   ],
   "source": [
    "length(cs)"
   ]
  },
  {
   "cell_type": "code",
   "execution_count": 31,
   "metadata": {
    "kernel": "R"
   },
   "outputs": [
    {
     "data": {
      "text/html": [
       "0.993306701118138"
      ],
      "text/latex": [
       "0.993306701118138"
      ],
      "text/markdown": [
       "0.993306701118138"
      ],
      "text/plain": [
       "[1] 0.9933067"
      ]
     },
     "metadata": {},
     "output_type": "display_data"
    }
   ],
   "source": [
    "min(abs(purity))"
   ]
  },
  {
   "cell_type": "markdown",
   "metadata": {
    "kernel": "SoS"
   },
   "source": [
    "### single effect BF's"
   ]
  },
  {
   "cell_type": "code",
   "execution_count": 35,
   "metadata": {
    "kernel": "R"
   },
   "outputs": [
    {
     "data": {
      "image/png": "[encoded data removed]",
      "text/plain": [
       "plot without title"
      ]
     },
     "metadata": {},
     "output_type": "display_data"
    }
   ],
   "source": [
    "plot(exp(fit$lbf), pch = 20, ylab = 'BF', xlab = 'variable')"
   ]
  },
  {
   "cell_type": "markdown",
   "metadata": {
    "kernel": "SoS"
   },
   "source": [
    "### susie L=5\n",
    "\n",
    "To fairly compare with not setting CAVIAR `-c` option here I set susie `L = 5` and fit a susie run:"
   ]
  },
  {
   "cell_type": "code",
   "execution_count": 5,
   "metadata": {
    "kernel": "R"
   },
   "outputs": [],
   "source": [
    "fit = susieR::susie(dat$X,dat$Y[,1],\n",
    "                               L=5,\n",
    "                               estimate_residual_variance = F, \n",
    "                               prior_variance=0.2, \n",
    "                               intercept=FALSE,\n",
    "                               tol=1e-3)\n"
   ]
  },
  {
   "cell_type": "code",
   "execution_count": 6,
   "metadata": {
    "kernel": "R"
   },
   "outputs": [
    {
     "data": {
      "text/html": [
       "4"
      ],
      "text/latex": [
       "4"
      ],
      "text/markdown": [
       "4"
      ],
      "text/plain": [
       "[1] 4"
      ]
     },
     "metadata": {},
     "output_type": "display_data"
    }
   ],
   "source": [
    "susieR:::susie_get_niter(fit)"
   ]
  },
  {
   "cell_type": "code",
   "execution_count": 14,
   "metadata": {
    "kernel": "R"
   },
   "outputs": [],
   "source": [
    "pip = 1 - apply(1 - fit$alpha, 2, prod)"
   ]
  },
  {
   "cell_type": "code",
   "execution_count": 15,
   "metadata": {
    "kernel": "R"
   },
   "outputs": [
    {
     "data": {
      "image/png": "[encoded data removed]",
      "text/plain": [
       "plot without title"
      ]
     },
     "metadata": {},
     "output_type": "display_data"
    }
   ],
   "source": [
    "plot(pip, pch=20, xlab='variables', ylab = 'pip')"
   ]
  },
  {
   "cell_type": "markdown",
   "metadata": {
    "kernel": "SoS"
   },
   "source": [
    "The PIP I get here are mostly identical to the single effect model `alpha`."
   ]
  }
 ],
 "metadata": {
  "kernelspec": {
   "display_name": "SoS",
   "language": "sos",
   "name": "sos"
  },
  "language_info": {
   "codemirror_mode": "sos",
   "file_extension": ".sos",
   "mimetype": "text/x-sos",
   "name": "sos",
   "nbconvert_exporter": "sos_notebook.converter.SoS_Exporter",
   "pygments_lexer": "sos"
  },
  "sos": {
   "default_kernel": "SoS",
   "kernels": [
    [
     "R",
     "ir",
     "R",
     "#DCDCDA"
    ],
    [
     "SoS",
     "sos",
     "",
     ""
    ]
   ],
   "panel": {
    "displayed": true,
    "height": 0,
    "style": "side"
   },
   "version": "0.9.14.6"
  }
 },
 "nbformat": 4,
 "nbformat_minor": 2
}
