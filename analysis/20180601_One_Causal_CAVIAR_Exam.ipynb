{
 "cells": [
  {
   "cell_type": "markdown",
   "metadata": {},
   "source": [
    "# Looking into the 3 CAVIAR \"outliers\"\n",
    "\n",
    "Here we want to understand the examples that CAVIAR `-c 1` and susie `L 1` do not agree for `n = 1` causal variable.\n",
    "\n",
    "The plan is to pin-point the data in question and get the corresponding data-set, then use interactive analysis to explore in detail."
   ]
  },
  {
   "cell_type": "markdown",
   "metadata": {},
   "source": [
    "## Extract simulated dataset"
   ]
  },
  {
   "cell_type": "code",
   "execution_count": 1,
   "metadata": {},
   "outputs": [
    {
     "name": "stdout",
     "output_type": "stream",
     "text": [
      "/home/gaow/GIT/github/mvarbvs/dsc"
     ]
    }
   ],
   "source": [
    "%cd ~/GIT/github/mvarbvs/dsc"
   ]
  },
  {
   "cell_type": "code",
   "execution_count": 5,
   "metadata": {
    "kernel": "R"
   },
   "outputs": [
    {
     "name": "stdout",
     "output_type": "stream",
     "text": [
      "Loading dsc-query output from CSV file.\n"
     ]
    }
   ],
   "source": [
    "dataset = c('~/Documents/GTExV8/Toys/Thyroid.ENSG00000144445.RDS', '~/Documents/GTExV8/Toys/Thyroid.ENSG00000155324.RDS', '~/Documents/GTExV8/Toys/Thyroid.ENSG00000156738.RDS')\n",
    "out = dscrutils::dscquery('susie_comparison', \n",
    "                          targets = \"liter_data.dataset lm_less.n_signal lm_less\", \n",
    "                          conditions = \"lm_less.n_signal = 1\")"
   ]
  },
  {
   "cell_type": "code",
   "execution_count": 9,
   "metadata": {
    "kernel": "R"
   },
   "outputs": [
    {
     "data": {
      "text/html": [
       "<table>\n",
       "<thead><tr><th></th><th scope=col>DSC</th><th scope=col>liter_data.dataset</th><th scope=col>lm_less.n_signal</th><th scope=col>lm_less.output.file</th></tr></thead>\n",
       "<tbody>\n",
       "\t<tr><th scope=row>39</th><td>1                                                  </td><td>~/Documents/GTExV8/Toys/Thyroid.ENSG00000144445.RDS</td><td>1                                                  </td><td>lm_less/liter_data_39_summarize_ld_1_lm_less_1     </td></tr>\n",
       "\t<tr><th scope=row>48</th><td>1                                                  </td><td>~/Documents/GTExV8/Toys/Thyroid.ENSG00000155324.RDS</td><td>1                                                  </td><td>lm_less/liter_data_48_summarize_ld_1_lm_less_1     </td></tr>\n",
       "\t<tr><th scope=row>49</th><td>1                                                  </td><td>~/Documents/GTExV8/Toys/Thyroid.ENSG00000156738.RDS</td><td>1                                                  </td><td>lm_less/liter_data_49_summarize_ld_1_lm_less_1     </td></tr>\n",
       "</tbody>\n",
       "</table>\n"
      ],
      "text/latex": [
       "\\begin{tabular}{r|llll}\n",
       "  & DSC & liter\\_data.dataset & lm\\_less.n\\_signal & lm\\_less.output.file\\\\\n",
       "\\hline\n",
       "\t39 & 1                                                                    & \\textasciitilde{}/Documents/GTExV8/Toys/Thyroid.ENSG00000144445.RDS & 1                                                                    & lm\\_less/liter\\_data\\_39\\_summarize\\_ld\\_1\\_lm\\_less\\_1    \\\\\n",
       "\t48 & 1                                                                    & \\textasciitilde{}/Documents/GTExV8/Toys/Thyroid.ENSG00000155324.RDS & 1                                                                    & lm\\_less/liter\\_data\\_48\\_summarize\\_ld\\_1\\_lm\\_less\\_1    \\\\\n",
       "\t49 & 1                                                                    & \\textasciitilde{}/Documents/GTExV8/Toys/Thyroid.ENSG00000156738.RDS & 1                                                                    & lm\\_less/liter\\_data\\_49\\_summarize\\_ld\\_1\\_lm\\_less\\_1    \\\\\n",
       "\\end{tabular}\n"
      ],
      "text/markdown": [
       "\n",
       "| <!--/--> | DSC | liter_data.dataset | lm_less.n_signal | lm_less.output.file | \n",
       "|---|---|---|\n",
       "| 39 | 1                                                   | ~/Documents/GTExV8/Toys/Thyroid.ENSG00000144445.RDS | 1                                                   | lm_less/liter_data_39_summarize_ld_1_lm_less_1      | \n",
       "| 48 | 1                                                   | ~/Documents/GTExV8/Toys/Thyroid.ENSG00000155324.RDS | 1                                                   | lm_less/liter_data_48_summarize_ld_1_lm_less_1      | \n",
       "| 49 | 1                                                   | ~/Documents/GTExV8/Toys/Thyroid.ENSG00000156738.RDS | 1                                                   | lm_less/liter_data_49_summarize_ld_1_lm_less_1      | \n",
       "\n",
       "\n"
      ],
      "text/plain": [
       "   DSC liter_data.dataset                                  lm_less.n_signal\n",
       "39 1   ~/Documents/GTExV8/Toys/Thyroid.ENSG00000144445.RDS 1               \n",
       "48 1   ~/Documents/GTExV8/Toys/Thyroid.ENSG00000155324.RDS 1               \n",
       "49 1   ~/Documents/GTExV8/Toys/Thyroid.ENSG00000156738.RDS 1               \n",
       "   lm_less.output.file                           \n",
       "39 lm_less/liter_data_39_summarize_ld_1_lm_less_1\n",
       "48 lm_less/liter_data_48_summarize_ld_1_lm_less_1\n",
       "49 lm_less/liter_data_49_summarize_ld_1_lm_less_1"
      ]
     },
     "metadata": {},
     "output_type": "display_data"
    }
   ],
   "source": [
    "out[which(out$liter_data.dataset %in% dataset),]"
   ]
  },
  {
   "cell_type": "code",
   "execution_count": 11,
   "metadata": {
    "kernel": "SoS"
   },
   "outputs": [],
   "source": [
    "bash:\n",
    "    cp susie_comparison/lm_less/liter_data_{39,48,49}_summarize_ld_1_lm_less_1.pkl ../data"
   ]
  },
  {
   "cell_type": "code",
   "execution_count": null,
   "metadata": {},
   "outputs": [],
   "source": []
  }
 ],
 "metadata": {
  "kernelspec": {
   "display_name": "SoS",
   "language": "sos",
   "name": "sos"
  },
  "language_info": {
   "codemirror_mode": "sos",
   "file_extension": ".sos",
   "mimetype": "text/x-sos",
   "name": "sos",
   "nbconvert_exporter": "sos_notebook.converter.SoS_Exporter",
   "pygments_lexer": "sos"
  },
  "sos": {
   "default_kernel": "SoS",
   "kernels": [
    [
     "R",
     "ir",
     "R",
     "#DCDCDA"
    ],
    [
     "SoS",
     "sos",
     "",
     ""
    ]
   ],
   "panel": {
    "displayed": true,
    "height": 0,
    "style": "side"
   },
   "version": "0.9.14.1"
  }
 },
 "nbformat": 4,
 "nbformat_minor": 2
}
