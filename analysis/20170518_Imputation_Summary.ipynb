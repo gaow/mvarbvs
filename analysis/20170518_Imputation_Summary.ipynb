{
 "cells": [
  {
   "cell_type": "markdown",
   "metadata": {},
   "source": [
    "# Summary of imputation outcome\n",
    "[Here](../pipeline/Pipelines.html#Genotype-imputation) is the imputation procedure. We want to compare the imputation result with the original data to address the following questions:\n",
    "\n",
    "1. Overlap between original and imputated, and focus on why some are filtered out\n",
    "2. Filter imputated data removing all imputed sites; also filter by MAF\n",
    "3. Filter out data having >5% missing in the original\n",
    "4. Are genotype prediction done for genotypes that are called?\n",
    "5. Summary of uncertainty in imputed SNPs\n",
    "\n",
    "Below are answers to these points. Implementations are detailed at the end of the document."
   ]
  },
  {
   "cell_type": "markdown",
   "metadata": {},
   "source": [
    "## Implementation"
   ]
  },
  {
   "cell_type": "markdown",
   "metadata": {
    "collapsed": true
   },
   "source": [
    "```bash\n",
    "zcat /home/gaow/Documents/GTEx/michigan_imputed/*.vcf.gz | awk '{print $1,$2,$4,$5}' | sort -g > /tmp/umich.txt\n",
    "zcat /home/gaow/Documents/GTEx/gtex7/variant_calls/GTEx_Analysis_2016-01-15_v7_WholeGenomeSeq_635Ind_PASS_AB02_GQ20_HETX_MISS15_PLINKQC.PIR.vcf.gz | awk '{print $1,$2,$4,$5}' | sort -g > /tmp/broad.txt\n",
    "```"
   ]
  }
 ],
 "metadata": {
  "kernelspec": {
   "display_name": "SoS",
   "language": "sos",
   "name": "sos"
  },
  "language_info": {
   "codemirror_mode": "sos",
   "file_extension": ".sos",
   "mimetype": "text/x-sos",
   "name": "sos",
   "nbconvert_exporter": "sos.jupyter.converter.SoS_Exporter",
   "pygments_lexer": "sos"
  },
  "sos": {
   "celltoolbar": true,
   "kernels": [
    [
     "ir",
     "ir",
     "",
     ""
    ],
    [
     "SoS",
     "sos",
     "",
     ""
    ],
    [
     "Python3",
     "python3",
     "Python3",
     "#EAFAF1"
    ]
   ],
   "panel": {
    "displayed": true,
    "height": 0,
    "style": "side"
   }
  }
 },
 "nbformat": 4,
 "nbformat_minor": 2
}
