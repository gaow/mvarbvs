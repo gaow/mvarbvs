{
 "cells": [
  {
   "cell_type": "markdown",
   "metadata": {
    "kernel": "SoS"
   },
   "source": [
    "# Diagnosis of possible issues with EE model\n",
    "\n",
    "From [this benchmark](https://gaow.github.io/mvarbvs/analysis/20191116_MNM_Benchmark.html) I see some runs with EE model has inflated FDR with no missing data. Here are some digging into it."
   ]
  },
  {
   "cell_type": "code",
   "execution_count": 1,
   "metadata": {
    "kernel": "SoS"
   },
   "outputs": [
    {
     "name": "stdout",
     "output_type": "stream",
     "text": [
      "/project2/mstephens/gaow/mvarbvs/dsc_mnm"
     ]
    }
   ],
   "source": [
    "%cd ~/GIT/mvarbvs/dsc_mnm"
   ]
  },
  {
   "cell_type": "markdown",
   "metadata": {
    "kernel": "R"
   },
   "source": [
    "Here I load previous benchmark results and identify some scenarios where there is a problem,"
   ]
  },
  {
   "cell_type": "code",
   "execution_count": 2,
   "metadata": {
    "kernel": "R"
   },
   "outputs": [],
   "source": [
    "out = readRDS('../data/finemap_output.20191116.rds')"
   ]
  },
  {
   "cell_type": "code",
   "execution_count": 3,
   "metadata": {
    "kernel": "R"
   },
   "outputs": [],
   "source": [
    "res = out[,-1]\n",
    "colnames(res) = c('n_traits', 'resid_method', 'missing', 'EZ_model', 'L', 'total', 'valid', 'size', 'purity', 'top_hit', 'total_true', 'total_true_included', 'overlap_var', 'overlap_cs', 'false_positive_cross_cond', 'false_negative_cross_cond', 'true_positive_cross_cond', 'elbo_converged', 'filename')"
   ]
  },
  {
   "cell_type": "code",
   "execution_count": 27,
   "metadata": {
    "kernel": "R"
   },
   "outputs": [],
   "source": [
    "bad = res[which(res$total-res$valid>0),]"
   ]
  },
  {
   "cell_type": "code",
   "execution_count": 28,
   "metadata": {
    "kernel": "R"
   },
   "outputs": [
    {
     "data": {
      "text/html": [
       "412"
      ],
      "text/latex": [
       "412"
      ],
      "text/markdown": [
       "412"
      ],
      "text/plain": [
       "[1] 412"
      ]
     },
     "metadata": {},
     "output_type": "display_data"
    }
   ],
   "source": [
    "bad = bad[which(bad$missing==FALSE & bad$EZ_model==0 & bad$n_traits==45 & bad$L<10),]\n",
    "nrow(bad)"
   ]
  },
  {
   "cell_type": "markdown",
   "metadata": {
    "kernel": "R"
   },
   "source": [
    "There are quite a few of them with 45 traits. But none seen for $R=5$ or $R=10$. Changing `EZ_model == 1` there is only one such instance as opposed to 412 here."
   ]
  },
  {
   "cell_type": "code",
   "execution_count": 29,
   "metadata": {
    "kernel": "R"
   },
   "outputs": [
    {
     "data": {
      "text/html": [
       "<table>\n",
       "<thead><tr><th></th><th scope=col>n_traits</th><th scope=col>resid_method</th><th scope=col>missing</th><th scope=col>EZ_model</th><th scope=col>L</th><th scope=col>total</th><th scope=col>valid</th><th scope=col>size</th><th scope=col>purity</th><th scope=col>top_hit</th><th scope=col>total_true</th><th scope=col>total_true_included</th><th scope=col>overlap_var</th><th scope=col>overlap_cs</th><th scope=col>false_positive_cross_cond</th><th scope=col>false_negative_cross_cond</th><th scope=col>true_positive_cross_cond</th><th scope=col>elbo_converged</th><th scope=col>filename</th></tr></thead>\n",
       "<tbody>\n",
       "\t<tr><th scope=row>6521</th><td>45                                                                                    </td><td>oracle                                                                                </td><td>FALSE                                                                                 </td><td>0                                                                                     </td><td>1                                                                                     </td><td>1                                                                                     </td><td>0                                                                                     </td><td>17.0                                                                                  </td><td>0.9975257                                                                             </td><td>0                                                                                     </td><td>1                                                                                     </td><td>0                                                                                     </td><td>0                                                                                     </td><td>0                                                                                     </td><td>45                                                                                    </td><td> 0                                                                                    </td><td> 0                                                                                    </td><td>TRUE                                                                                  </td><td>susie_scores/full_data_21_high_het_2_oracle_generator_1_mnm_high_het_7_susie_scores_1 </td></tr>\n",
       "\t<tr><th scope=row>6913</th><td>45                                                                                    </td><td>oracle                                                                                </td><td>FALSE                                                                                 </td><td>0                                                                                     </td><td>1                                                                                     </td><td>1                                                                                     </td><td>0                                                                                     </td><td>37.0                                                                                  </td><td>1.0000000                                                                             </td><td>0                                                                                     </td><td>1                                                                                     </td><td>0                                                                                     </td><td>0                                                                                     </td><td>0                                                                                     </td><td>45                                                                                    </td><td> 0                                                                                    </td><td> 0                                                                                    </td><td>TRUE                                                                                  </td><td>susie_scores/full_data_413_high_het_2_oracle_generator_1_mnm_high_het_7_susie_scores_1</td></tr>\n",
       "\t<tr><th scope=row>8508</th><td>45                                                                                    </td><td>oracle                                                                                </td><td>FALSE                                                                                 </td><td>0                                                                                     </td><td>2                                                                                     </td><td>2                                                                                     </td><td>1                                                                                     </td><td> 2.5                                                                                  </td><td>0.9960307                                                                             </td><td>1                                                                                     </td><td>1                                                                                     </td><td>1                                                                                     </td><td>0                                                                                     </td><td>0                                                                                     </td><td>11                                                                                    </td><td>34                                                                                    </td><td>45                                                                                    </td><td>TRUE                                                                                  </td><td>susie_scores/full_data_8_high_het_2_oracle_generator_1_mnm_high_het_9_susie_scores_1  </td></tr>\n",
       "\t<tr><th scope=row>8510</th><td>45                                                                                    </td><td>oracle                                                                                </td><td>FALSE                                                                                 </td><td>0                                                                                     </td><td>2                                                                                     </td><td>2                                                                                     </td><td>1                                                                                     </td><td> 1.5                                                                                  </td><td>1.0000000                                                                             </td><td>0                                                                                     </td><td>1                                                                                     </td><td>1                                                                                     </td><td>0                                                                                     </td><td>0                                                                                     </td><td> 0                                                                                    </td><td>45                                                                                    </td><td>45                                                                                    </td><td>TRUE                                                                                  </td><td>susie_scores/full_data_10_high_het_2_oracle_generator_1_mnm_high_het_9_susie_scores_1 </td></tr>\n",
       "\t<tr><th scope=row>8511</th><td>45                                                                                    </td><td>oracle                                                                                </td><td>FALSE                                                                                 </td><td>0                                                                                     </td><td>2                                                                                     </td><td>2                                                                                     </td><td>1                                                                                     </td><td>24.0                                                                                  </td><td>1.0000000                                                                             </td><td>0                                                                                     </td><td>1                                                                                     </td><td>1                                                                                     </td><td>0                                                                                     </td><td>0                                                                                     </td><td> 0                                                                                    </td><td>45                                                                                    </td><td>45                                                                                    </td><td>TRUE                                                                                  </td><td>susie_scores/full_data_11_high_het_2_oracle_generator_1_mnm_high_het_9_susie_scores_1 </td></tr>\n",
       "\t<tr><th scope=row>8512</th><td>45                                                                                    </td><td>oracle                                                                                </td><td>FALSE                                                                                 </td><td>0                                                                                     </td><td>2                                                                                     </td><td>2                                                                                     </td><td>1                                                                                     </td><td> 2.0                                                                                  </td><td>1.0000000                                                                             </td><td>0                                                                                     </td><td>1                                                                                     </td><td>1                                                                                     </td><td>0                                                                                     </td><td>0                                                                                     </td><td> 0                                                                                    </td><td>45                                                                                    </td><td>45                                                                                    </td><td>TRUE                                                                                  </td><td>susie_scores/full_data_12_high_het_2_oracle_generator_1_mnm_high_het_9_susie_scores_1 </td></tr>\n",
       "</tbody>\n",
       "</table>\n"
      ],
      "text/latex": [
       "\\begin{tabular}{r|lllllllllllllllllll}\n",
       "  & n\\_traits & resid\\_method & missing & EZ\\_model & L & total & valid & size & purity & top\\_hit & total\\_true & total\\_true\\_included & overlap\\_var & overlap\\_cs & false\\_positive\\_cross\\_cond & false\\_negative\\_cross\\_cond & true\\_positive\\_cross\\_cond & elbo\\_converged & filename\\\\\n",
       "\\hline\n",
       "\t6521 & 45                                                                                                                     & oracle                                                                                                                 & FALSE                                                                                                                  & 0                                                                                                                      & 1                                                                                                                      & 1                                                                                                                      & 0                                                                                                                      & 17.0                                                                                                                   & 0.9975257                                                                                                              & 0                                                                                                                      & 1                                                                                                                      & 0                                                                                                                      & 0                                                                                                                      & 0                                                                                                                      & 45                                                                                                                     &  0                                                                                                                     &  0                                                                                                                     & TRUE                                                                                                                   & susie\\_scores/full\\_data\\_21\\_high\\_het\\_2\\_oracle\\_generator\\_1\\_mnm\\_high\\_het\\_7\\_susie\\_scores\\_1 \\\\\n",
       "\t6913 & 45                                                                                                                     & oracle                                                                                                                 & FALSE                                                                                                                  & 0                                                                                                                      & 1                                                                                                                      & 1                                                                                                                      & 0                                                                                                                      & 37.0                                                                                                                   & 1.0000000                                                                                                              & 0                                                                                                                      & 1                                                                                                                      & 0                                                                                                                      & 0                                                                                                                      & 0                                                                                                                      & 45                                                                                                                     &  0                                                                                                                     &  0                                                                                                                     & TRUE                                                                                                                   & susie\\_scores/full\\_data\\_413\\_high\\_het\\_2\\_oracle\\_generator\\_1\\_mnm\\_high\\_het\\_7\\_susie\\_scores\\_1\\\\\n",
       "\t8508 & 45                                                                                                                     & oracle                                                                                                                 & FALSE                                                                                                                  & 0                                                                                                                      & 2                                                                                                                      & 2                                                                                                                      & 1                                                                                                                      &  2.5                                                                                                                   & 0.9960307                                                                                                              & 1                                                                                                                      & 1                                                                                                                      & 1                                                                                                                      & 0                                                                                                                      & 0                                                                                                                      & 11                                                                                                                     & 34                                                                                                                     & 45                                                                                                                     & TRUE                                                                                                                   & susie\\_scores/full\\_data\\_8\\_high\\_het\\_2\\_oracle\\_generator\\_1\\_mnm\\_high\\_het\\_9\\_susie\\_scores\\_1  \\\\\n",
       "\t8510 & 45                                                                                                                     & oracle                                                                                                                 & FALSE                                                                                                                  & 0                                                                                                                      & 2                                                                                                                      & 2                                                                                                                      & 1                                                                                                                      &  1.5                                                                                                                   & 1.0000000                                                                                                              & 0                                                                                                                      & 1                                                                                                                      & 1                                                                                                                      & 0                                                                                                                      & 0                                                                                                                      &  0                                                                                                                     & 45                                                                                                                     & 45                                                                                                                     & TRUE                                                                                                                   & susie\\_scores/full\\_data\\_10\\_high\\_het\\_2\\_oracle\\_generator\\_1\\_mnm\\_high\\_het\\_9\\_susie\\_scores\\_1 \\\\\n",
       "\t8511 & 45                                                                                                                     & oracle                                                                                                                 & FALSE                                                                                                                  & 0                                                                                                                      & 2                                                                                                                      & 2                                                                                                                      & 1                                                                                                                      & 24.0                                                                                                                   & 1.0000000                                                                                                              & 0                                                                                                                      & 1                                                                                                                      & 1                                                                                                                      & 0                                                                                                                      & 0                                                                                                                      &  0                                                                                                                     & 45                                                                                                                     & 45                                                                                                                     & TRUE                                                                                                                   & susie\\_scores/full\\_data\\_11\\_high\\_het\\_2\\_oracle\\_generator\\_1\\_mnm\\_high\\_het\\_9\\_susie\\_scores\\_1 \\\\\n",
       "\t8512 & 45                                                                                                                     & oracle                                                                                                                 & FALSE                                                                                                                  & 0                                                                                                                      & 2                                                                                                                      & 2                                                                                                                      & 1                                                                                                                      &  2.0                                                                                                                   & 1.0000000                                                                                                              & 0                                                                                                                      & 1                                                                                                                      & 1                                                                                                                      & 0                                                                                                                      & 0                                                                                                                      &  0                                                                                                                     & 45                                                                                                                     & 45                                                                                                                     & TRUE                                                                                                                   & susie\\_scores/full\\_data\\_12\\_high\\_het\\_2\\_oracle\\_generator\\_1\\_mnm\\_high\\_het\\_9\\_susie\\_scores\\_1 \\\\\n",
       "\\end{tabular}\n"
      ],
      "text/markdown": [
       "\n",
       "| <!--/--> | n_traits | resid_method | missing | EZ_model | L | total | valid | size | purity | top_hit | total_true | total_true_included | overlap_var | overlap_cs | false_positive_cross_cond | false_negative_cross_cond | true_positive_cross_cond | elbo_converged | filename | \n",
       "|---|---|---|---|---|---|\n",
       "| 6521 | 45                                                                                     | oracle                                                                                 | FALSE                                                                                  | 0                                                                                      | 1                                                                                      | 1                                                                                      | 0                                                                                      | 17.0                                                                                   | 0.9975257                                                                              | 0                                                                                      | 1                                                                                      | 0                                                                                      | 0                                                                                      | 0                                                                                      | 45                                                                                     |  0                                                                                     |  0                                                                                     | TRUE                                                                                   | susie_scores/full_data_21_high_het_2_oracle_generator_1_mnm_high_het_7_susie_scores_1  | \n",
       "| 6913 | 45                                                                                     | oracle                                                                                 | FALSE                                                                                  | 0                                                                                      | 1                                                                                      | 1                                                                                      | 0                                                                                      | 37.0                                                                                   | 1.0000000                                                                              | 0                                                                                      | 1                                                                                      | 0                                                                                      | 0                                                                                      | 0                                                                                      | 45                                                                                     |  0                                                                                     |  0                                                                                     | TRUE                                                                                   | susie_scores/full_data_413_high_het_2_oracle_generator_1_mnm_high_het_7_susie_scores_1 | \n",
       "| 8508 | 45                                                                                     | oracle                                                                                 | FALSE                                                                                  | 0                                                                                      | 2                                                                                      | 2                                                                                      | 1                                                                                      |  2.5                                                                                   | 0.9960307                                                                              | 1                                                                                      | 1                                                                                      | 1                                                                                      | 0                                                                                      | 0                                                                                      | 11                                                                                     | 34                                                                                     | 45                                                                                     | TRUE                                                                                   | susie_scores/full_data_8_high_het_2_oracle_generator_1_mnm_high_het_9_susie_scores_1   | \n",
       "| 8510 | 45                                                                                     | oracle                                                                                 | FALSE                                                                                  | 0                                                                                      | 2                                                                                      | 2                                                                                      | 1                                                                                      |  1.5                                                                                   | 1.0000000                                                                              | 0                                                                                      | 1                                                                                      | 1                                                                                      | 0                                                                                      | 0                                                                                      |  0                                                                                     | 45                                                                                     | 45                                                                                     | TRUE                                                                                   | susie_scores/full_data_10_high_het_2_oracle_generator_1_mnm_high_het_9_susie_scores_1  | \n",
       "| 8511 | 45                                                                                     | oracle                                                                                 | FALSE                                                                                  | 0                                                                                      | 2                                                                                      | 2                                                                                      | 1                                                                                      | 24.0                                                                                   | 1.0000000                                                                              | 0                                                                                      | 1                                                                                      | 1                                                                                      | 0                                                                                      | 0                                                                                      |  0                                                                                     | 45                                                                                     | 45                                                                                     | TRUE                                                                                   | susie_scores/full_data_11_high_het_2_oracle_generator_1_mnm_high_het_9_susie_scores_1  | \n",
       "| 8512 | 45                                                                                     | oracle                                                                                 | FALSE                                                                                  | 0                                                                                      | 2                                                                                      | 2                                                                                      | 1                                                                                      |  2.0                                                                                   | 1.0000000                                                                              | 0                                                                                      | 1                                                                                      | 1                                                                                      | 0                                                                                      | 0                                                                                      |  0                                                                                     | 45                                                                                     | 45                                                                                     | TRUE                                                                                   | susie_scores/full_data_12_high_het_2_oracle_generator_1_mnm_high_het_9_susie_scores_1  | \n",
       "\n",
       "\n"
      ],
      "text/plain": [
       "     n_traits resid_method missing EZ_model L total valid size purity   \n",
       "6521 45       oracle       FALSE   0        1 1     0     17.0 0.9975257\n",
       "6913 45       oracle       FALSE   0        1 1     0     37.0 1.0000000\n",
       "8508 45       oracle       FALSE   0        2 2     1      2.5 0.9960307\n",
       "8510 45       oracle       FALSE   0        2 2     1      1.5 1.0000000\n",
       "8511 45       oracle       FALSE   0        2 2     1     24.0 1.0000000\n",
       "8512 45       oracle       FALSE   0        2 2     1      2.0 1.0000000\n",
       "     top_hit total_true total_true_included overlap_var overlap_cs\n",
       "6521 0       1          0                   0           0         \n",
       "6913 0       1          0                   0           0         \n",
       "8508 1       1          1                   0           0         \n",
       "8510 0       1          1                   0           0         \n",
       "8511 0       1          1                   0           0         \n",
       "8512 0       1          1                   0           0         \n",
       "     false_positive_cross_cond false_negative_cross_cond\n",
       "6521 45                         0                       \n",
       "6913 45                         0                       \n",
       "8508 11                        34                       \n",
       "8510  0                        45                       \n",
       "8511  0                        45                       \n",
       "8512  0                        45                       \n",
       "     true_positive_cross_cond elbo_converged\n",
       "6521  0                       TRUE          \n",
       "6913  0                       TRUE          \n",
       "8508 45                       TRUE          \n",
       "8510 45                       TRUE          \n",
       "8511 45                       TRUE          \n",
       "8512 45                       TRUE          \n",
       "     filename                                                                              \n",
       "6521 susie_scores/full_data_21_high_het_2_oracle_generator_1_mnm_high_het_7_susie_scores_1 \n",
       "6913 susie_scores/full_data_413_high_het_2_oracle_generator_1_mnm_high_het_7_susie_scores_1\n",
       "8508 susie_scores/full_data_8_high_het_2_oracle_generator_1_mnm_high_het_9_susie_scores_1  \n",
       "8510 susie_scores/full_data_10_high_het_2_oracle_generator_1_mnm_high_het_9_susie_scores_1 \n",
       "8511 susie_scores/full_data_11_high_het_2_oracle_generator_1_mnm_high_het_9_susie_scores_1 \n",
       "8512 susie_scores/full_data_12_high_het_2_oracle_generator_1_mnm_high_het_9_susie_scores_1 "
      ]
     },
     "metadata": {},
     "output_type": "display_data"
    }
   ],
   "source": [
    "head(bad)"
   ]
  },
  {
   "cell_type": "markdown",
   "metadata": {
    "kernel": "R"
   },
   "source": [
    "Load the 3rd line of dataset identified -- that is, two CS identified but only one of them is valid:"
   ]
  },
  {
   "cell_type": "code",
   "execution_count": 30,
   "metadata": {
    "kernel": "R"
   },
   "outputs": [],
   "source": [
    "ex = readRDS('mnm_20191116/mnm_high_het/full_data_8_high_het_2_oracle_generator_1_mnm_high_het_9.rds')"
   ]
  },
  {
   "cell_type": "code",
   "execution_count": 33,
   "metadata": {
    "kernel": "R"
   },
   "outputs": [],
   "source": [
    "DSC_19D98699 <- dscrutils::load_inputs(c('mnm_20191116/oracle_generator/oracle_generator_1.pkl','mnm_20191116/full_data/full_data_8.rds','mnm_20191116/high_het/full_data_8_high_het_2.pkl'), dscrutils::read_dsc)\n",
    "meta <- DSC_19D98699$meta"
   ]
  },
  {
   "cell_type": "markdown",
   "metadata": {
    "kernel": "R"
   },
   "source": [
    "The original result from DSC is presented in a plot of PIP and CS, where true signal is in red:"
   ]
  },
  {
   "cell_type": "code",
   "execution_count": 35,
   "metadata": {
    "kernel": "R"
   },
   "outputs": [],
   "source": [
    "true_pos = as.integer(apply(meta$true_coef, 1, sum) != 0)"
   ]
  },
  {
   "cell_type": "code",
   "execution_count": 36,
   "metadata": {
    "kernel": "R"
   },
   "outputs": [
    {
     "data": {
      "image/png": "[encoded data removed]",
      "text/plain": [
       "Plot with title “EE model”"
      ]
     },
     "metadata": {},
     "output_type": "display_data"
    }
   ],
   "source": [
    "susieR::susie_plot(ex$result,y='PIP', main = 'EE model', xlab = 'SNP positions', add_legend = T, b=true_pos)"
   ]
  },
  {
   "cell_type": "markdown",
   "metadata": {
    "kernel": "R"
   },
   "source": [
    "## Reproducing the problem with diagnostic information\n",
    "\n",
    "Starting with analyzing with `L=1`:"
   ]
  },
  {
   "cell_type": "code",
   "execution_count": 37,
   "metadata": {
    "kernel": "R"
   },
   "outputs": [],
   "source": [
    "DSC_REPLICATE <- DSC_19D98699$DSC_DEBUG$replicate\n",
    "X <- DSC_19D98699$X\n",
    "Y <- DSC_19D98699$Y\n",
    "cfg <- DSC_19D98699$configurations\n",
    "prior = cfg[[as.character(ncol(Y))]][['high_het']]"
   ]
  },
  {
   "cell_type": "code",
   "execution_count": 38,
   "metadata": {
    "kernel": "R"
   },
   "outputs": [],
   "source": [
    "compute_cov_diag <- function(Y){\n",
    "    covar <- diag(apply(Y, 2, var, na.rm=T))\n",
    "    return(covar)\n",
    "}"
   ]
  },
  {
   "cell_type": "code",
   "execution_count": 39,
   "metadata": {
    "kernel": "R"
   },
   "outputs": [],
   "source": [
    "resid_Y <- compute_cov_diag(Y)"
   ]
  },
  {
   "cell_type": "code",
   "execution_count": 40,
   "metadata": {
    "kernel": "R"
   },
   "outputs": [],
   "source": [
    "#saveRDS(list(X=X,Y=Y,meta=meta,prior=prior,DSC_REPLICATE=DSC_REPLICATE), 'issue_9_EE.rds')"
   ]
  },
  {
   "cell_type": "markdown",
   "metadata": {
    "kernel": "R"
   },
   "source": [
    "This data-set has also been saved to [here](https://github.com/gaow/mmbr/issues/9#issue-531283569). If you want to reproduce my results you can download the data-set from the link above, use `attach(readRDS(...))` to attach the data to the R workspace and continue with commands below.\n",
    "\n",
    "Use EE model and set $L=1$,"
   ]
  },
  {
   "cell_type": "code",
   "execution_count": 11,
   "metadata": {
    "kernel": "R"
   },
   "outputs": [],
   "source": [
    "alpha = 0\n",
    "L = 1"
   ]
  },
  {
   "cell_type": "markdown",
   "metadata": {
    "kernel": "R"
   },
   "source": [
    "Then fit:"
   ]
  },
  {
   "cell_type": "code",
   "execution_count": null,
   "metadata": {
    "kernel": "R"
   },
   "outputs": [],
   "source": [
    "m_init = mmbr:::MashInitializer$new(NULL, NULL, xUlist=append(list(matrix(0,ncol(Y),ncol(Y))), prior$xUlist), prior_weights=prior$pi, null_weight=prior$null_weight, alpha=alpha, top_mixtures=-1)\n",
    "r1 = mmbr::msusie(X, Y, L=L, prior_variance=m_init, residual_variance=resid_Y, compute_objective=F, estimate_residual_variance=F, estimate_prior_variance=F, precompute_covariance = F, standardize=T, max_iter=1)"
   ]
  },
  {
   "cell_type": "markdown",
   "metadata": {
    "kernel": "R"
   },
   "source": [
    "To plot and compare results,"
   ]
  },
  {
   "cell_type": "code",
   "execution_count": null,
   "metadata": {
    "kernel": "R"
   },
   "outputs": [],
   "source": [
    "susieR::susie_plot(r1, y='PIP', main = 'EE L=1', xlab = 'SNP positions', add_legend = T, b=true_pos)"
   ]
  },
  {
   "cell_type": "markdown",
   "metadata": {
    "kernel": "R"
   },
   "source": [
    "## More diagnosis from single effect model"
   ]
  },
  {
   "cell_type": "code",
   "execution_count": null,
   "metadata": {
    "kernel": "R"
   },
   "outputs": [],
   "source": [
    "m_init = mmbr:::MashInitializer$new(NULL, NULL, xUlist=append(list(matrix(0,ncol(Y),ncol(Y))), prior$xUlist), prior_weights=prior$pi, null_weight=prior$null_weight, alpha=alpha, top_mixtures=-1)\n",
    "m1 = mmbr:::MashMultipleRegression$new(ncol(X), resid_Y, m_init)\n",
    "m1$fit(mmbr:::DenseData$new(X, Y), save_summary_stats=TRUE)"
   ]
  },
  {
   "cell_type": "code",
   "execution_count": 51,
   "metadata": {
    "kernel": "R"
   },
   "outputs": [
    {
     "data": {
      "text/html": [
       "9.7260960795359"
      ],
      "text/latex": [
       "9.7260960795359"
      ],
      "text/markdown": [
       "9.7260960795359"
      ],
      "text/plain": [
       "[1] 9.726096"
      ]
     },
     "metadata": {},
     "output_type": "display_data"
    }
   ],
   "source": [
    "max(abs(m1$bhat/m1$sbhat))"
   ]
  },
  {
   "cell_type": "code",
   "execution_count": 59,
   "metadata": {
    "kernel": "R"
   },
   "outputs": [
    {
     "data": {
      "text/html": [
       "<strong>chr12_12983795_G_T_b38:</strong> 2382"
      ],
      "text/latex": [
       "\\textbf{chr12\\textbackslash{}\\_12983795\\textbackslash{}\\_G\\textbackslash{}\\_T\\textbackslash{}\\_b38:} 2382"
      ],
      "text/markdown": [
       "**chr12_12983795_G_T_b38:** 2382"
      ],
      "text/plain": [
       "chr12_12983795_G_T_b38 \n",
       "                  2382 "
      ]
     },
     "metadata": {},
     "output_type": "display_data"
    }
   ],
   "source": [
    "which.max(apply(abs(m1$bhat/m1$sbhat), 1, max))"
   ]
  }
 ],
 "metadata": {
  "kernelspec": {
   "display_name": "SoS",
   "language": "sos",
   "name": "sos"
  },
  "language_info": {
   "codemirror_mode": "sos",
   "file_extension": ".sos",
   "mimetype": "text/x-sos",
   "name": "sos",
   "nbconvert_exporter": "sos_notebook.converter.SoS_Exporter",
   "pygments_lexer": "sos"
  },
  "sos": {
   "kernels": [
    [
     "Bash",
     "bash",
     "Bash",
     "#E6EEFF",
     ""
    ],
    [
     "R",
     "ir",
     "R",
     "#DCDCDA",
     "r"
    ],
    [
     "SoS",
     "sos",
     "",
     "",
     "sos"
    ]
   ],
   "version": "0.20.5"
  }
 },
 "nbformat": 4,
 "nbformat_minor": 4
}
