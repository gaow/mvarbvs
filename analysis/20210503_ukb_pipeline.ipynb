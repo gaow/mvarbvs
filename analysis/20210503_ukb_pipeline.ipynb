{
 "cells": [
  {
   "cell_type": "markdown",
   "metadata": {},
   "source": [
    "# UKB Bloodcells Multivariate fine-mapping"
   ]
  },
  {
   "cell_type": "markdown",
   "metadata": {},
   "source": [
    "## Analysis"
   ]
  },
  {
   "cell_type": "markdown",
   "metadata": {},
   "source": [
    "### Extract Data"
   ]
  },
  {
   "cell_type": "markdown",
   "metadata": {},
   "source": [
    "```\n",
    "m=/project2/mstephens/yuxin/ukb-bloodcells/zscores\n",
    "cd $m && ls *.rds | sed 's/\\.rds//g' > analysis_units.txt && cd -\n",
    "sos run /project2/mstephens/yuxin/mvarbvs/analysis/multivariate/20201221_ukb_ED_prior.ipynb extract_effects \\\n",
    "        --cwd /project2/mstephens/yuxin/ukb-bloodcells  --analysis-units $m/analysis_units.txt \\\n",
    "        --datadir $m &> extract_effects.log\n",
    "sos run /project2/mstephens/yuxin/mvarbvs/analysis/multivariate/20201221_ukb_ED_prior.ipynb Ycov \\\n",
    "        --cwd /project2/mstephens/yuxin/ukb-bloodcells\n",
    "```"
   ]
  },
  {
   "cell_type": "markdown",
   "metadata": {},
   "source": [
    "## Compute priors"
   ]
  },
  {
   "cell_type": "markdown",
   "metadata": {},
   "source": [
    "```\n",
    "sos run analysis/20210503_ukb_pipeline.ipynb factor_analysis\n",
    "sos run analysis/20210503_ukb_pipeline.ipynb mixture_model\n",
    "```"
   ]
  },
  {
   "cell_type": "code",
   "execution_count": null,
   "metadata": {},
   "outputs": [],
   "source": []
  },
  {
   "cell_type": "code",
   "execution_count": null,
   "metadata": {},
   "outputs": [],
   "source": [
    "[global]\n",
    "parameter: data_dir = path('/project2/mstephens/yuxin/ukb-bloodcells/zscores')\n",
    "parameter: wd = path('/project2/mstephens/yuxin/ukb-bloodcells/')\n",
    "parameter: name = \"ukbbloodcells_prepare\"\n",
    "regions = [x.strip() for x in open(analysis_units).readlines() if x.strip() and not x.strip().startswith('#')]\n",
    "genes = [f\"{data_dir:a}/{x}.{suffix}\" for x in regions if path(f\"{data_dir:a}/{x}.{suffix}\").exists()]"
   ]
  },
  {
   "cell_type": "code",
   "execution_count": null,
   "metadata": {},
   "outputs": [],
   "source": [
    "[factor_analysis]\n",
    "script: interpreter= 'qsub', expand = True\n",
    "    #!/bin/bash\n",
    "\n",
    "    #SBATCH --time=36:00:00\n",
    "    #SBATCH --partition=mstephens\n",
    "    #SBATCH --nodes=1\n",
    "    #SBATCH --ntasks-per-node=1\n",
    "    #SBATCH --cpus-per-task=1\n",
    "    #SBATCH --mem-per-cpu=2000\n",
    "    #SBATCH --job-name={step_name}\n",
    "    #SBATCH --mail-type=BEGIN,END,FAIL\n",
    "\n",
    "    module load R\n",
    "    sos run /project2/mstephens/yuxin/mvarbvs/analysis/multivariate/20201221_ukb_ED_prior.ipynb flash --name {name} --cwd {wd} -s build &> {wd}/{name}_factor_analysis.log\n",
    "    sos run /project2/mstephens/yuxin/mvarbvs/analysis/multivariate/20201221_ukb_ED_prior.ipynb pca --name {name} --cwd {wd} -s build &>> {wd}/{name}_factor_analysis.log\n",
    "    sos run /project2/mstephens/yuxin/mvarbvs/analysis/multivariate/20201221_ukb_ED_prior.ipynb canonical --name {name} --cwd {wd} -s build &>> {wd}/{name}_factor_analysis.log"
   ]
  },
  {
   "cell_type": "code",
   "execution_count": null,
   "metadata": {},
   "outputs": [],
   "source": [
    "[mixture_model]\n",
    "def get_cmd(m):\n",
    "    c1 = f'''\n",
    "    sos run /project2/mstephens/yuxin/mvarbvs/analysis/multivariate/20201221_ukb_ED_prior.ipynb ud --ud-method ed --residcor Y --name {m} --cwd {wd} \\\n",
    "        -c ~/GitHub/mvarbvs/midway2.yml -q midway2 -s build &> {wd}/ed_Y_{m}.log\n",
    "    '''\n",
    "    c2 = f'''\n",
    "    sos run /project2/mstephens/yuxin/mvarbvs/analysis/multivariate/20201221_ukb_ED_prior.ipynb ud --ud-method ed --residcor znull --name {m} --cwd {wd} \\\n",
    "        -c ~/GitHub/mvarbvs/midway2.yml -q midway2 -s build &> {wd}/ed_znull_{m}.log\n",
    "    '''\n",
    "    \n",
    "    c3 = f'''\n",
    "    sos run /project2/mstephens/yuxin/mvarbvs/analysis/multivariate/20201221_ukb_ED_prior.ipynb ud --ud-method teem --residcor Y --name {m} --cwd {wd} \\\n",
    "        -c ~/GitHub/mvarbvs/midway2.yml -q midway2 -s build &> {wd}/teem_Y_{m}.log\n",
    "    '''\n",
    "    c4 = f'''\n",
    "    sos run /project2/mstephens/yuxin/mvarbvs/analysis/multivariate/20201221_ukb_ED_prior.ipynb ud --ud-method teem --residcor znull --name {m} --cwd {wd} \\\n",
    "        -c ~/GitHub/mvarbvs/midway2.yml -q midway2 -s build &> {wd}/teem_znull_{m}.log\n",
    "    '''\n",
    "    \n",
    "    c5 = f'''\n",
    "    sos run /project2/mstephens/yuxin/mvarbvs/analysis/multivariate/20201221_ukb_ED_prior.ipynb ed --residcor Y --name {m} --cwd {wd} \\\n",
    "        -c ~/GitHub/mvarbvs/midway2.yml -q midway2 -s build &> {wd}/bovy_Y_{m}.log\n",
    "    '''\n",
    "    c6 = f'''\n",
    "    sos run /project2/mstephens/yuxin/mvarbvs/analysis/multivariate/20201221_ukb_ED_prior.ipynb ed --residcor znull --name {m} --cwd {wd} \\\n",
    "        -c ~/GitHub/mvarbvs/midway2.yml -q midway2 -s build &> {wd}/bovy_Y_{m}.log\n",
    "    '''\n",
    "    return [c1,c2,c3,c4,c5,c6]\n",
    "cmds = get_cmd(name)\n",
    "input: for_each = 'cmds'\n",
    "script: interpreter= 'qsub', expand = True\n",
    "#!/bin/bash\n",
    "  \n",
    "#SBATCH --time=36:00:00\n",
    "#SBATCH --partition=mstephens\n",
    "#SBATCH --nodes=1\n",
    "#SBATCH --ntasks-per-node=1\n",
    "#SBATCH --cpus-per-task=1\n",
    "#SBATCH --mem-per-cpu=2000\n",
    "#SBATCH --job-name={step_name}\n",
    "#SBATCH --mail-type=BEGIN,END,FAIL\n",
    "\n",
    "module load R\n",
    "{_cmds}"
   ]
  }
 ],
 "metadata": {
  "kernelspec": {
   "display_name": "Python 3",
   "language": "python",
   "name": "python3"
  },
  "language_info": {
   "codemirror_mode": {
    "name": "ipython",
    "version": 3
   },
   "file_extension": ".py",
   "mimetype": "text/x-python",
   "name": "python",
   "nbconvert_exporter": "python",
   "pygments_lexer": "ipython3",
   "version": "3.6.10"
  }
 },
 "nbformat": 4,
 "nbformat_minor": 4
}
