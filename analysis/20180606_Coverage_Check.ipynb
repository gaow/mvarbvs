{
 "cells": [
  {
   "cell_type": "markdown",
   "metadata": {},
   "source": [
    "# Check susie coverage"
   ]
  },
  {
   "cell_type": "markdown",
   "metadata": {},
   "source": [
    "Here I change coverage from default 95% to various other numbers for susie CS and check the proportion of \"false\" CS."
   ]
  },
  {
   "cell_type": "markdown",
   "metadata": {},
   "source": [
    "The computation is coded in the `coverage` workflow of [this notebook](20180527_PIP_Workflow.html)."
   ]
  },
  {
   "cell_type": "code",
   "execution_count": 1,
   "metadata": {},
   "outputs": [
    {
     "data": {
      "text/html": [
       "\n",
       "        <table class=\"revision_table\">\n",
       "        <tr>\n",
       "        <th>Revision</th>\n",
       "        <th>Author</th>\n",
       "        <th>Date</th>\n",
       "        <th>Message</th>\n",
       "        <tr>\n",
       "        <tr><td><a target=\"_blank\" href=\"http://github.com/gaow/mvarbvs/blob/431e3c8e967785da20f86441e20da3d1901d998a/analysis/20180606_Coverage_Check.ipynb\"><span class=\"revision_id\">431e3c8<span></a></td>\n",
       "<td>Gao Wang</td>\n",
       "<td>2018-06-07</td>\n",
       "<td>Add comparison table</td></tr><tr><td><a target=\"_blank\" href=\"http://github.com/gaow/mvarbvs/blob/507ab0e678489d2bd3d2a95db72b8a9490295955/analysis/20180606_Coverage_Check.ipynb\"><span class=\"revision_id\">507ab0e<span></a></td>\n",
       "<td>Gao Wang</td>\n",
       "<td>2018-06-06</td>\n",
       "<td>Add coverage check</td></tr></table>"
      ]
     },
     "metadata": {},
     "output_type": "display_data"
    }
   ],
   "source": [
    "%revisions -s"
   ]
  },
  {
   "cell_type": "code",
   "execution_count": 2,
   "metadata": {},
   "outputs": [
    {
     "name": "stdout",
     "output_type": "stream",
     "text": [
      "/home/gaow/GIT/github/mvarbvs/dsc"
     ]
    }
   ],
   "source": [
    "%cd ~/GIT/github/mvarbvs/dsc"
   ]
  },
  {
   "cell_type": "code",
   "execution_count": 3,
   "metadata": {
    "kernel": "R"
   },
   "outputs": [],
   "source": [
    "print_summary = function(dat) {\n",
    "    res = c(0,0)\n",
    "    for (level in c(0.01, 0.05, 0.1, 0.15, 0.2, 0.25)) {\n",
    "        s = as.character(level*100)\n",
    "        d = do.call(rbind, lapply(1:length(dat), function(i) dat[[as.character(i)]][[s]]))\n",
    "        d = colSums(d)\n",
    "        res = rbind(res, c(level, d[2]/(d[1]+d[2])))\n",
    "    }\n",
    "    res = data.frame(res[-1,])\n",
    "    colnames(res) = c ('1 - coverage', 'false discovery proportion')\n",
    "    res\n",
    "}"
   ]
  },
  {
   "cell_type": "markdown",
   "metadata": {},
   "source": [
    "## susie `var(Y)`"
   ]
  },
  {
   "cell_type": "code",
   "execution_count": 4,
   "metadata": {
    "kernel": "R"
   },
   "outputs": [
    {
     "data": {
      "text/html": [
       "<table>\n",
       "<thead><tr><th scope=col>1 - coverage</th><th scope=col>false discovery proportion</th></tr></thead>\n",
       "<tbody>\n",
       "\t<tr><td>0.01      </td><td>0.01971831</td></tr>\n",
       "\t<tr><td>0.05      </td><td>0.03490401</td></tr>\n",
       "\t<tr><td>0.10      </td><td>0.06068376</td></tr>\n",
       "\t<tr><td>0.15      </td><td>0.09037162</td></tr>\n",
       "\t<tr><td>0.20      </td><td>0.11083333</td></tr>\n",
       "\t<tr><td>0.25      </td><td>0.14107884</td></tr>\n",
       "</tbody>\n",
       "</table>\n"
      ],
      "text/latex": [
       "\\begin{tabular}{r|ll}\n",
       " 1 - coverage & false discovery proportion\\\\\n",
       "\\hline\n",
       "\t 0.01       & 0.01971831\\\\\n",
       "\t 0.05       & 0.03490401\\\\\n",
       "\t 0.10       & 0.06068376\\\\\n",
       "\t 0.15       & 0.09037162\\\\\n",
       "\t 0.20       & 0.11083333\\\\\n",
       "\t 0.25       & 0.14107884\\\\\n",
       "\\end{tabular}\n"
      ],
      "text/markdown": [
       "\n",
       "1 - coverage | false discovery proportion | \n",
       "|---|---|---|---|---|---|\n",
       "| 0.01       | 0.01971831 | \n",
       "| 0.05       | 0.03490401 | \n",
       "| 0.10       | 0.06068376 | \n",
       "| 0.15       | 0.09037162 | \n",
       "| 0.20       | 0.11083333 | \n",
       "| 0.25       | 0.14107884 | \n",
       "\n",
       "\n"
      ],
      "text/plain": [
       "  1 - coverage false discovery proportion\n",
       "1 0.01         0.01971831                \n",
       "2 0.05         0.03490401                \n",
       "3 0.10         0.06068376                \n",
       "4 0.15         0.09037162                \n",
       "5 0.20         0.11083333                \n",
       "6 0.25         0.14107884                "
      ]
     },
     "metadata": {},
     "output_type": "display_data"
    }
   ],
   "source": [
    "dat = readRDS('susie_comparison/Coverage_0623_estvar_false.rds')\n",
    "print_summary(dat)"
   ]
  },
  {
   "cell_type": "markdown",
   "metadata": {},
   "source": [
    "## susie `est_var`"
   ]
  },
  {
   "cell_type": "code",
   "execution_count": 5,
   "metadata": {
    "kernel": "R"
   },
   "outputs": [
    {
     "data": {
      "text/html": [
       "<table>\n",
       "<thead><tr><th scope=col>1 - coverage</th><th scope=col>false discovery proportion</th></tr></thead>\n",
       "<tbody>\n",
       "\t<tr><td>0.01      </td><td>0.02604167</td></tr>\n",
       "\t<tr><td>0.05      </td><td>0.06033058</td></tr>\n",
       "\t<tr><td>0.10      </td><td>0.09813463</td></tr>\n",
       "\t<tr><td>0.15      </td><td>0.12529928</td></tr>\n",
       "\t<tr><td>0.20      </td><td>0.16891356</td></tr>\n",
       "\t<tr><td>0.25      </td><td>0.20689655</td></tr>\n",
       "</tbody>\n",
       "</table>\n"
      ],
      "text/latex": [
       "\\begin{tabular}{r|ll}\n",
       " 1 - coverage & false discovery proportion\\\\\n",
       "\\hline\n",
       "\t 0.01       & 0.02604167\\\\\n",
       "\t 0.05       & 0.06033058\\\\\n",
       "\t 0.10       & 0.09813463\\\\\n",
       "\t 0.15       & 0.12529928\\\\\n",
       "\t 0.20       & 0.16891356\\\\\n",
       "\t 0.25       & 0.20689655\\\\\n",
       "\\end{tabular}\n"
      ],
      "text/markdown": [
       "\n",
       "1 - coverage | false discovery proportion | \n",
       "|---|---|---|---|---|---|\n",
       "| 0.01       | 0.02604167 | \n",
       "| 0.05       | 0.06033058 | \n",
       "| 0.10       | 0.09813463 | \n",
       "| 0.15       | 0.12529928 | \n",
       "| 0.20       | 0.16891356 | \n",
       "| 0.25       | 0.20689655 | \n",
       "\n",
       "\n"
      ],
      "text/plain": [
       "  1 - coverage false discovery proportion\n",
       "1 0.01         0.02604167                \n",
       "2 0.05         0.06033058                \n",
       "3 0.10         0.09813463                \n",
       "4 0.15         0.12529928                \n",
       "5 0.20         0.16891356                \n",
       "6 0.25         0.20689655                "
      ]
     },
     "metadata": {},
     "output_type": "display_data"
    }
   ],
   "source": [
    "dat = readRDS('susie_comparison/Coverage_0623_estvar_true.rds')\n",
    "print_summary(dat)"
   ]
  }
 ],
 "metadata": {
  "kernelspec": {
   "display_name": "SoS",
   "language": "sos",
   "name": "sos"
  },
  "language_info": {
   "codemirror_mode": "sos",
   "file_extension": ".sos",
   "mimetype": "text/x-sos",
   "name": "sos",
   "nbconvert_exporter": "sos_notebook.converter.SoS_Exporter",
   "pygments_lexer": "sos"
  },
  "sos": {
   "default_kernel": "SoS",
   "kernels": [
    [
     "R",
     "ir",
     "R",
     "#DCDCDA"
    ]
   ]
  }
 },
 "nbformat": 4,
 "nbformat_minor": 2
}
