{
 "cells": [
  {
   "cell_type": "markdown",
   "metadata": {},
   "source": [
    "# MR-ASH analysis on lung genes"
   ]
  },
  {
   "cell_type": "markdown",
   "metadata": {},
   "source": [
    "Here we want to analyze with mr-ash some potentially interesting genes for a single tissue. We pick up e-genes for Lung from [previous results](https://www.gtexportal.org/home/multiTissuePage) -- I sort results by posterior probability in Lung and pick up the top 200 (have to manually save tables for batches of 100), saved to `data/lung_genes_v4.txt`."
   ]
  },
  {
   "cell_type": "markdown",
   "metadata": {},
   "source": [
    "## Get toy example\n"
   ]
  },
  {
   "cell_type": "code",
   "execution_count": null,
   "metadata": {
    "collapsed": true,
    "kernel": "SoS"
   },
   "outputs": [],
   "source": [
    "!tail -n+2 data/lung_genes_v4.txt | cut -f 1 > /tmp/lung_genes.txt\n",
    " ./prep.sos make_toy -c conf/20170824.conf -b ~/Documents/GTEx/bin -J 8 -j 8"
   ]
  },
  {
   "cell_type": "code",
   "execution_count": 12,
   "metadata": {
    "kernel": "SoS"
   },
   "outputs": [
    {
     "data": {
      "text/html": [
       "<table id=\"table_localhost_28f5cf34366ec97e6024cf8124ddcdbd\" style=\"border: 0px\"><tr style=\"border: 0px\">\n",
       "                        <td style=\"border: 0px\">\n",
       "                        <i id=\"status_localhost_28f5cf34366ec97e6024cf8124ddcdbd\"\n",
       "                            class=\"fa fa-2x fa-fw fa-square-o\"\n",
       "                            onmouseover=\"$('#status_localhost_28f5cf34366ec97e6024cf8124ddcdbd').addClass('fa-stop').removeClass('fa-square-o')\"\n",
       "                            onmouseleave=\"$('#status_localhost_28f5cf34366ec97e6024cf8124ddcdbd').addClass('fa-square-o').removeClass('fa-stop')\"\n",
       "                            onclick=\"kill_task('28f5cf34366ec97e6024cf8124ddcdbd', 'localhost')\"\n",
       "                        ></i> </td>\n",
       "                        <td style=\"border:0px\"><a onclick=\"task_info('28f5cf34366ec97e6024cf8124ddcdbd', 'localhost')\"><pre>28f5cf34366ec97e6024cf8124ddcdbd</pre></a></td>\n",
       "                        <td style=\"border:0px\">&nbsp;</td>\n",
       "                        <td style=\"border:0px;text-align=right;\">\n",
       "                        <pre><time id=\"duration_localhost_28f5cf34366ec97e6024cf8124ddcdbd\" datetime=\"1503608541396.3147\">0 sec</time></pre></td>\n",
       "                        </tr>\n",
       "                        </table>"
      ]
     },
     "metadata": {},
     "output_type": "display_data"
    },
    {
     "data": {
      "text/html": [
       "<table id=\"table_localhost_7939d2a55150c94d929f62cd6ed24d93\" style=\"border: 0px\"><tr style=\"border: 0px\">\n",
       "                        <td style=\"border: 0px\">\n",
       "                        <i id=\"status_localhost_7939d2a55150c94d929f62cd6ed24d93\"\n",
       "                            class=\"fa fa-2x fa-fw fa-square-o\"\n",
       "                            onmouseover=\"$('#status_localhost_7939d2a55150c94d929f62cd6ed24d93').addClass('fa-stop').removeClass('fa-square-o')\"\n",
       "                            onmouseleave=\"$('#status_localhost_7939d2a55150c94d929f62cd6ed24d93').addClass('fa-square-o').removeClass('fa-stop')\"\n",
       "                            onclick=\"kill_task('7939d2a55150c94d929f62cd6ed24d93', 'localhost')\"\n",
       "                        ></i> </td>\n",
       "                        <td style=\"border:0px\"><a onclick=\"task_info('7939d2a55150c94d929f62cd6ed24d93', 'localhost')\"><pre>7939d2a55150c94d929f62cd6ed24d93</pre></a></td>\n",
       "                        <td style=\"border:0px\">&nbsp;</td>\n",
       "                        <td style=\"border:0px;text-align=right;\">\n",
       "                        <pre><time id=\"duration_localhost_7939d2a55150c94d929f62cd6ed24d93\" datetime=\"1503608541396.5886\">0 sec</time></pre></td>\n",
       "                        </tr>\n",
       "                        </table>"
      ]
     },
     "metadata": {},
     "output_type": "display_data"
    },
    {
     "data": {
      "text/html": [
       "<table id=\"table_localhost_ec47b49aad5ef909ec7e4093e840a961\" style=\"border: 0px\"><tr style=\"border: 0px\">\n",
       "                        <td style=\"border: 0px\">\n",
       "                        <i id=\"status_localhost_ec47b49aad5ef909ec7e4093e840a961\"\n",
       "                            class=\"fa fa-2x fa-fw fa-square-o\"\n",
       "                            onmouseover=\"$('#status_localhost_ec47b49aad5ef909ec7e4093e840a961').addClass('fa-stop').removeClass('fa-square-o')\"\n",
       "                            onmouseleave=\"$('#status_localhost_ec47b49aad5ef909ec7e4093e840a961').addClass('fa-square-o').removeClass('fa-stop')\"\n",
       "                            onclick=\"kill_task('ec47b49aad5ef909ec7e4093e840a961', 'localhost')\"\n",
       "                        ></i> </td>\n",
       "                        <td style=\"border:0px\"><a onclick=\"task_info('ec47b49aad5ef909ec7e4093e840a961', 'localhost')\"><pre>ec47b49aad5ef909ec7e4093e840a961</pre></a></td>\n",
       "                        <td style=\"border:0px\">&nbsp;</td>\n",
       "                        <td style=\"border:0px;text-align=right;\">\n",
       "                        <pre><time id=\"duration_localhost_ec47b49aad5ef909ec7e4093e840a961\" datetime=\"1503608541396.8972\">0 sec</time></pre></td>\n",
       "                        </tr>\n",
       "                        </table>"
      ]
     },
     "metadata": {},
     "output_type": "display_data"
    },
    {
     "data": {
      "text/html": [
       "<table id=\"table_localhost_0fd94996d624f3dc8ce47d0d6a089b35\" style=\"border: 0px\"><tr style=\"border: 0px\">\n",
       "                        <td style=\"border: 0px\">\n",
       "                        <i id=\"status_localhost_0fd94996d624f3dc8ce47d0d6a089b35\"\n",
       "                            class=\"fa fa-2x fa-fw fa-square-o\"\n",
       "                            onmouseover=\"$('#status_localhost_0fd94996d624f3dc8ce47d0d6a089b35').addClass('fa-stop').removeClass('fa-square-o')\"\n",
       "                            onmouseleave=\"$('#status_localhost_0fd94996d624f3dc8ce47d0d6a089b35').addClass('fa-square-o').removeClass('fa-stop')\"\n",
       "                            onclick=\"kill_task('0fd94996d624f3dc8ce47d0d6a089b35', 'localhost')\"\n",
       "                        ></i> </td>\n",
       "                        <td style=\"border:0px\"><a onclick=\"task_info('0fd94996d624f3dc8ce47d0d6a089b35', 'localhost')\"><pre>0fd94996d624f3dc8ce47d0d6a089b35</pre></a></td>\n",
       "                        <td style=\"border:0px\">&nbsp;</td>\n",
       "                        <td style=\"border:0px;text-align=right;\">\n",
       "                        <pre><time id=\"duration_localhost_0fd94996d624f3dc8ce47d0d6a089b35\" datetime=\"1503608541397.0571\">0 sec</time></pre></td>\n",
       "                        </tr>\n",
       "                        </table>"
      ]
     },
     "metadata": {},
     "output_type": "display_data"
    },
    {
     "data": {
      "text/html": [
       "<table id=\"table_localhost_79487c3a1ca42a3100388006610e3a9f\" style=\"border: 0px\"><tr style=\"border: 0px\">\n",
       "                        <td style=\"border: 0px\">\n",
       "                        <i id=\"status_localhost_79487c3a1ca42a3100388006610e3a9f\"\n",
       "                            class=\"fa fa-2x fa-fw fa-square-o\"\n",
       "                            onmouseover=\"$('#status_localhost_79487c3a1ca42a3100388006610e3a9f').addClass('fa-stop').removeClass('fa-square-o')\"\n",
       "                            onmouseleave=\"$('#status_localhost_79487c3a1ca42a3100388006610e3a9f').addClass('fa-square-o').removeClass('fa-stop')\"\n",
       "                            onclick=\"kill_task('79487c3a1ca42a3100388006610e3a9f', 'localhost')\"\n",
       "                        ></i> </td>\n",
       "                        <td style=\"border:0px\"><a onclick=\"task_info('79487c3a1ca42a3100388006610e3a9f', 'localhost')\"><pre>79487c3a1ca42a3100388006610e3a9f</pre></a></td>\n",
       "                        <td style=\"border:0px\">&nbsp;</td>\n",
       "                        <td style=\"border:0px;text-align=right;\">\n",
       "                        <pre><time id=\"duration_localhost_79487c3a1ca42a3100388006610e3a9f\" datetime=\"1503608541397.2014\">0 sec</time></pre></td>\n",
       "                        </tr>\n",
       "                        </table>"
      ]
     },
     "metadata": {},
     "output_type": "display_data"
    },
    {
     "data": {
      "text/html": [
       "<table id=\"table_localhost_4d1cc07cbaf0906747750e7ba1f95f85\" style=\"border: 0px\"><tr style=\"border: 0px\">\n",
       "                        <td style=\"border: 0px\">\n",
       "                        <i id=\"status_localhost_4d1cc07cbaf0906747750e7ba1f95f85\"\n",
       "                            class=\"fa fa-2x fa-fw fa-square-o\"\n",
       "                            onmouseover=\"$('#status_localhost_4d1cc07cbaf0906747750e7ba1f95f85').addClass('fa-stop').removeClass('fa-square-o')\"\n",
       "                            onmouseleave=\"$('#status_localhost_4d1cc07cbaf0906747750e7ba1f95f85').addClass('fa-square-o').removeClass('fa-stop')\"\n",
       "                            onclick=\"kill_task('4d1cc07cbaf0906747750e7ba1f95f85', 'localhost')\"\n",
       "                        ></i> </td>\n",
       "                        <td style=\"border:0px\"><a onclick=\"task_info('4d1cc07cbaf0906747750e7ba1f95f85', 'localhost')\"><pre>4d1cc07cbaf0906747750e7ba1f95f85</pre></a></td>\n",
       "                        <td style=\"border:0px\">&nbsp;</td>\n",
       "                        <td style=\"border:0px;text-align=right;\">\n",
       "                        <pre><time id=\"duration_localhost_4d1cc07cbaf0906747750e7ba1f95f85\" datetime=\"1503608541397.3425\">0 sec</time></pre></td>\n",
       "                        </tr>\n",
       "                        </table>"
      ]
     },
     "metadata": {},
     "output_type": "display_data"
    },
    {
     "data": {
      "text/html": [
       "<table id=\"table_localhost_bc22de365737557f7482f2206ad2a99c\" style=\"border: 0px\"><tr style=\"border: 0px\">\n",
       "                        <td style=\"border: 0px\">\n",
       "                        <i id=\"status_localhost_bc22de365737557f7482f2206ad2a99c\"\n",
       "                            class=\"fa fa-2x fa-fw fa-square-o\"\n",
       "                            onmouseover=\"$('#status_localhost_bc22de365737557f7482f2206ad2a99c').addClass('fa-stop').removeClass('fa-square-o')\"\n",
       "                            onmouseleave=\"$('#status_localhost_bc22de365737557f7482f2206ad2a99c').addClass('fa-square-o').removeClass('fa-stop')\"\n",
       "                            onclick=\"kill_task('bc22de365737557f7482f2206ad2a99c', 'localhost')\"\n",
       "                        ></i> </td>\n",
       "                        <td style=\"border:0px\"><a onclick=\"task_info('bc22de365737557f7482f2206ad2a99c', 'localhost')\"><pre>bc22de365737557f7482f2206ad2a99c</pre></a></td>\n",
       "                        <td style=\"border:0px\">&nbsp;</td>\n",
       "                        <td style=\"border:0px;text-align=right;\">\n",
       "                        <pre><time id=\"duration_localhost_bc22de365737557f7482f2206ad2a99c\" datetime=\"1503608541397.4707\">0 sec</time></pre></td>\n",
       "                        </tr>\n",
       "                        </table>"
      ]
     },
     "metadata": {},
     "output_type": "display_data"
    },
    {
     "data": {
      "text/html": [
       "<table id=\"table_localhost_94f19b2331b181d11fead4e4646107d0\" style=\"border: 0px\"><tr style=\"border: 0px\">\n",
       "                        <td style=\"border: 0px\">\n",
       "                        <i id=\"status_localhost_94f19b2331b181d11fead4e4646107d0\"\n",
       "                            class=\"fa fa-2x fa-fw fa-square-o\"\n",
       "                            onmouseover=\"$('#status_localhost_94f19b2331b181d11fead4e4646107d0').addClass('fa-stop').removeClass('fa-square-o')\"\n",
       "                            onmouseleave=\"$('#status_localhost_94f19b2331b181d11fead4e4646107d0').addClass('fa-square-o').removeClass('fa-stop')\"\n",
       "                            onclick=\"kill_task('94f19b2331b181d11fead4e4646107d0', 'localhost')\"\n",
       "                        ></i> </td>\n",
       "                        <td style=\"border:0px\"><a onclick=\"task_info('94f19b2331b181d11fead4e4646107d0', 'localhost')\"><pre>94f19b2331b181d11fead4e4646107d0</pre></a></td>\n",
       "                        <td style=\"border:0px\">&nbsp;</td>\n",
       "                        <td style=\"border:0px;text-align=right;\">\n",
       "                        <pre><time id=\"duration_localhost_94f19b2331b181d11fead4e4646107d0\" datetime=\"1503608541397.6128\">0 sec</time></pre></td>\n",
       "                        </tr>\n",
       "                        </table>"
      ]
     },
     "metadata": {},
     "output_type": "display_data"
    },
    {
     "data": {
      "text/html": [
       "<table id=\"table_localhost_d86b88afa0eaf598a1458af0c5772114\" style=\"border: 0px\"><tr style=\"border: 0px\">\n",
       "                        <td style=\"border: 0px\">\n",
       "                        <i id=\"status_localhost_d86b88afa0eaf598a1458af0c5772114\"\n",
       "                            class=\"fa fa-2x fa-fw fa-square-o\"\n",
       "                            onmouseover=\"$('#status_localhost_d86b88afa0eaf598a1458af0c5772114').addClass('fa-stop').removeClass('fa-square-o')\"\n",
       "                            onmouseleave=\"$('#status_localhost_d86b88afa0eaf598a1458af0c5772114').addClass('fa-square-o').removeClass('fa-stop')\"\n",
       "                            onclick=\"kill_task('d86b88afa0eaf598a1458af0c5772114', 'localhost')\"\n",
       "                        ></i> </td>\n",
       "                        <td style=\"border:0px\"><a onclick=\"task_info('d86b88afa0eaf598a1458af0c5772114', 'localhost')\"><pre>d86b88afa0eaf598a1458af0c5772114</pre></a></td>\n",
       "                        <td style=\"border:0px\">&nbsp;</td>\n",
       "                        <td style=\"border:0px;text-align=right;\">\n",
       "                        <pre><time id=\"duration_localhost_d86b88afa0eaf598a1458af0c5772114\" datetime=\"1503608541397.841\">0 sec</time></pre></td>\n",
       "                        </tr>\n",
       "                        </table>"
      ]
     },
     "metadata": {},
     "output_type": "display_data"
    },
    {
     "data": {
      "text/html": [
       "<table id=\"table_localhost_bcb386b1488790659f042a2b3f2f3489\" style=\"border: 0px\"><tr style=\"border: 0px\">\n",
       "                        <td style=\"border: 0px\">\n",
       "                        <i id=\"status_localhost_bcb386b1488790659f042a2b3f2f3489\"\n",
       "                            class=\"fa fa-2x fa-fw fa-square-o\"\n",
       "                            onmouseover=\"$('#status_localhost_bcb386b1488790659f042a2b3f2f3489').addClass('fa-stop').removeClass('fa-square-o')\"\n",
       "                            onmouseleave=\"$('#status_localhost_bcb386b1488790659f042a2b3f2f3489').addClass('fa-square-o').removeClass('fa-stop')\"\n",
       "                            onclick=\"kill_task('bcb386b1488790659f042a2b3f2f3489', 'localhost')\"\n",
       "                        ></i> </td>\n",
       "                        <td style=\"border:0px\"><a onclick=\"task_info('bcb386b1488790659f042a2b3f2f3489', 'localhost')\"><pre>bcb386b1488790659f042a2b3f2f3489</pre></a></td>\n",
       "                        <td style=\"border:0px\">&nbsp;</td>\n",
       "                        <td style=\"border:0px;text-align=right;\">\n",
       "                        <pre><time id=\"duration_localhost_bcb386b1488790659f042a2b3f2f3489\" datetime=\"1503608541398.0288\">0 sec</time></pre></td>\n",
       "                        </tr>\n",
       "                        </table>"
      ]
     },
     "metadata": {},
     "output_type": "display_data"
    },
    {
     "data": {
      "text/html": [
       "<table id=\"table_localhost_2e60ce18b2b935eb19f9e6b1668b4e95\" style=\"border: 0px\"><tr style=\"border: 0px\">\n",
       "                        <td style=\"border: 0px\">\n",
       "                        <i id=\"status_localhost_2e60ce18b2b935eb19f9e6b1668b4e95\"\n",
       "                            class=\"fa fa-2x fa-fw fa-square-o\"\n",
       "                            onmouseover=\"$('#status_localhost_2e60ce18b2b935eb19f9e6b1668b4e95').addClass('fa-stop').removeClass('fa-square-o')\"\n",
       "                            onmouseleave=\"$('#status_localhost_2e60ce18b2b935eb19f9e6b1668b4e95').addClass('fa-square-o').removeClass('fa-stop')\"\n",
       "                            onclick=\"kill_task('2e60ce18b2b935eb19f9e6b1668b4e95', 'localhost')\"\n",
       "                        ></i> </td>\n",
       "                        <td style=\"border:0px\"><a onclick=\"task_info('2e60ce18b2b935eb19f9e6b1668b4e95', 'localhost')\"><pre>2e60ce18b2b935eb19f9e6b1668b4e95</pre></a></td>\n",
       "                        <td style=\"border:0px\">&nbsp;</td>\n",
       "                        <td style=\"border:0px;text-align=right;\">\n",
       "                        <pre><time id=\"duration_localhost_2e60ce18b2b935eb19f9e6b1668b4e95\" datetime=\"1503608541398.2156\">0 sec</time></pre></td>\n",
       "                        </tr>\n",
       "                        </table>"
      ]
     },
     "metadata": {},
     "output_type": "display_data"
    },
    {
     "data": {
      "text/html": [
       "<table id=\"table_localhost_cfbd1cb72bc74c229e7bf22698f3870b\" style=\"border: 0px\"><tr style=\"border: 0px\">\n",
       "                        <td style=\"border: 0px\">\n",
       "                        <i id=\"status_localhost_cfbd1cb72bc74c229e7bf22698f3870b\"\n",
       "                            class=\"fa fa-2x fa-fw fa-square-o\"\n",
       "                            onmouseover=\"$('#status_localhost_cfbd1cb72bc74c229e7bf22698f3870b').addClass('fa-stop').removeClass('fa-square-o')\"\n",
       "                            onmouseleave=\"$('#status_localhost_cfbd1cb72bc74c229e7bf22698f3870b').addClass('fa-square-o').removeClass('fa-stop')\"\n",
       "                            onclick=\"kill_task('cfbd1cb72bc74c229e7bf22698f3870b', 'localhost')\"\n",
       "                        ></i> </td>\n",
       "                        <td style=\"border:0px\"><a onclick=\"task_info('cfbd1cb72bc74c229e7bf22698f3870b', 'localhost')\"><pre>cfbd1cb72bc74c229e7bf22698f3870b</pre></a></td>\n",
       "                        <td style=\"border:0px\">&nbsp;</td>\n",
       "                        <td style=\"border:0px;text-align=right;\">\n",
       "                        <pre><time id=\"duration_localhost_cfbd1cb72bc74c229e7bf22698f3870b\" datetime=\"1503608541398.3928\">0 sec</time></pre></td>\n",
       "                        </tr>\n",
       "                        </table>"
      ]
     },
     "metadata": {},
     "output_type": "display_data"
    },
    {
     "data": {
      "text/html": [
       "<table id=\"table_localhost_7483d1c184bace55c29cc6fbfc3c797b\" style=\"border: 0px\"><tr style=\"border: 0px\">\n",
       "                        <td style=\"border: 0px\">\n",
       "                        <i id=\"status_localhost_7483d1c184bace55c29cc6fbfc3c797b\"\n",
       "                            class=\"fa fa-2x fa-fw fa-square-o\"\n",
       "                            onmouseover=\"$('#status_localhost_7483d1c184bace55c29cc6fbfc3c797b').addClass('fa-stop').removeClass('fa-square-o')\"\n",
       "                            onmouseleave=\"$('#status_localhost_7483d1c184bace55c29cc6fbfc3c797b').addClass('fa-square-o').removeClass('fa-stop')\"\n",
       "                            onclick=\"kill_task('7483d1c184bace55c29cc6fbfc3c797b', 'localhost')\"\n",
       "                        ></i> </td>\n",
       "                        <td style=\"border:0px\"><a onclick=\"task_info('7483d1c184bace55c29cc6fbfc3c797b', 'localhost')\"><pre>7483d1c184bace55c29cc6fbfc3c797b</pre></a></td>\n",
       "                        <td style=\"border:0px\">&nbsp;</td>\n",
       "                        <td style=\"border:0px;text-align=right;\">\n",
       "                        <pre><time id=\"duration_localhost_7483d1c184bace55c29cc6fbfc3c797b\" datetime=\"1503608541398.6797\">0 sec</time></pre></td>\n",
       "                        </tr>\n",
       "                        </table>"
      ]
     },
     "metadata": {},
     "output_type": "display_data"
    },
    {
     "data": {
      "text/html": [
       "<table id=\"table_localhost_ff4a7f319f4400d5fcff5878acceb283\" style=\"border: 0px\"><tr style=\"border: 0px\">\n",
       "                        <td style=\"border: 0px\">\n",
       "                        <i id=\"status_localhost_ff4a7f319f4400d5fcff5878acceb283\"\n",
       "                            class=\"fa fa-2x fa-fw fa-square-o\"\n",
       "                            onmouseover=\"$('#status_localhost_ff4a7f319f4400d5fcff5878acceb283').addClass('fa-stop').removeClass('fa-square-o')\"\n",
       "                            onmouseleave=\"$('#status_localhost_ff4a7f319f4400d5fcff5878acceb283').addClass('fa-square-o').removeClass('fa-stop')\"\n",
       "                            onclick=\"kill_task('ff4a7f319f4400d5fcff5878acceb283', 'localhost')\"\n",
       "                        ></i> </td>\n",
       "                        <td style=\"border:0px\"><a onclick=\"task_info('ff4a7f319f4400d5fcff5878acceb283', 'localhost')\"><pre>ff4a7f319f4400d5fcff5878acceb283</pre></a></td>\n",
       "                        <td style=\"border:0px\">&nbsp;</td>\n",
       "                        <td style=\"border:0px;text-align=right;\">\n",
       "                        <pre><time id=\"duration_localhost_ff4a7f319f4400d5fcff5878acceb283\" datetime=\"1503608541398.9014\">0 sec</time></pre></td>\n",
       "                        </tr>\n",
       "                        </table>"
      ]
     },
     "metadata": {},
     "output_type": "display_data"
    },
    {
     "data": {
      "text/html": [
       "<table id=\"table_localhost_dc379756230e9c70551df2d52ac5e572\" style=\"border: 0px\"><tr style=\"border: 0px\">\n",
       "                        <td style=\"border: 0px\">\n",
       "                        <i id=\"status_localhost_dc379756230e9c70551df2d52ac5e572\"\n",
       "                            class=\"fa fa-2x fa-fw fa-square-o\"\n",
       "                            onmouseover=\"$('#status_localhost_dc379756230e9c70551df2d52ac5e572').addClass('fa-stop').removeClass('fa-square-o')\"\n",
       "                            onmouseleave=\"$('#status_localhost_dc379756230e9c70551df2d52ac5e572').addClass('fa-square-o').removeClass('fa-stop')\"\n",
       "                            onclick=\"kill_task('dc379756230e9c70551df2d52ac5e572', 'localhost')\"\n",
       "                        ></i> </td>\n",
       "                        <td style=\"border:0px\"><a onclick=\"task_info('dc379756230e9c70551df2d52ac5e572', 'localhost')\"><pre>dc379756230e9c70551df2d52ac5e572</pre></a></td>\n",
       "                        <td style=\"border:0px\">&nbsp;</td>\n",
       "                        <td style=\"border:0px;text-align=right;\">\n",
       "                        <pre><time id=\"duration_localhost_dc379756230e9c70551df2d52ac5e572\" datetime=\"1503608541399.2341\">0 sec</time></pre></td>\n",
       "                        </tr>\n",
       "                        </table>"
      ]
     },
     "metadata": {},
     "output_type": "display_data"
    },
    {
     "data": {
      "text/html": [
       "<table id=\"table_localhost_28bb49b73be18c0d9bc50f5c572372c7\" style=\"border: 0px\"><tr style=\"border: 0px\">\n",
       "                        <td style=\"border: 0px\">\n",
       "                        <i id=\"status_localhost_28bb49b73be18c0d9bc50f5c572372c7\"\n",
       "                            class=\"fa fa-2x fa-fw fa-square-o\"\n",
       "                            onmouseover=\"$('#status_localhost_28bb49b73be18c0d9bc50f5c572372c7').addClass('fa-stop').removeClass('fa-square-o')\"\n",
       "                            onmouseleave=\"$('#status_localhost_28bb49b73be18c0d9bc50f5c572372c7').addClass('fa-square-o').removeClass('fa-stop')\"\n",
       "                            onclick=\"kill_task('28bb49b73be18c0d9bc50f5c572372c7', 'localhost')\"\n",
       "                        ></i> </td>\n",
       "                        <td style=\"border:0px\"><a onclick=\"task_info('28bb49b73be18c0d9bc50f5c572372c7', 'localhost')\"><pre>28bb49b73be18c0d9bc50f5c572372c7</pre></a></td>\n",
       "                        <td style=\"border:0px\">&nbsp;</td>\n",
       "                        <td style=\"border:0px;text-align=right;\">\n",
       "                        <pre><time id=\"duration_localhost_28bb49b73be18c0d9bc50f5c572372c7\" datetime=\"1503608541399.5396\">0 sec</time></pre></td>\n",
       "                        </tr>\n",
       "                        </table>"
      ]
     },
     "metadata": {},
     "output_type": "display_data"
    },
    {
     "data": {
      "text/html": [
       "<table id=\"table_localhost_d1c3597add3b1b714768a9040be29be0\" style=\"border: 0px\"><tr style=\"border: 0px\">\n",
       "                        <td style=\"border: 0px\">\n",
       "                        <i id=\"status_localhost_d1c3597add3b1b714768a9040be29be0\"\n",
       "                            class=\"fa fa-2x fa-fw fa-square-o\"\n",
       "                            onmouseover=\"$('#status_localhost_d1c3597add3b1b714768a9040be29be0').addClass('fa-stop').removeClass('fa-square-o')\"\n",
       "                            onmouseleave=\"$('#status_localhost_d1c3597add3b1b714768a9040be29be0').addClass('fa-square-o').removeClass('fa-stop')\"\n",
       "                            onclick=\"kill_task('d1c3597add3b1b714768a9040be29be0', 'localhost')\"\n",
       "                        ></i> </td>\n",
       "                        <td style=\"border:0px\"><a onclick=\"task_info('d1c3597add3b1b714768a9040be29be0', 'localhost')\"><pre>d1c3597add3b1b714768a9040be29be0</pre></a></td>\n",
       "                        <td style=\"border:0px\">&nbsp;</td>\n",
       "                        <td style=\"border:0px;text-align=right;\">\n",
       "                        <pre><time id=\"duration_localhost_d1c3597add3b1b714768a9040be29be0\" datetime=\"1503608541399.8699\">0 sec</time></pre></td>\n",
       "                        </tr>\n",
       "                        </table>"
      ]
     },
     "metadata": {},
     "output_type": "display_data"
    },
    {
     "data": {
      "text/html": [
       "<table id=\"table_localhost_6ef217b5d84ff9dacba7d6e3ad4b6255\" style=\"border: 0px\"><tr style=\"border: 0px\">\n",
       "                        <td style=\"border: 0px\">\n",
       "                        <i id=\"status_localhost_6ef217b5d84ff9dacba7d6e3ad4b6255\"\n",
       "                            class=\"fa fa-2x fa-fw fa-square-o\"\n",
       "                            onmouseover=\"$('#status_localhost_6ef217b5d84ff9dacba7d6e3ad4b6255').addClass('fa-stop').removeClass('fa-square-o')\"\n",
       "                            onmouseleave=\"$('#status_localhost_6ef217b5d84ff9dacba7d6e3ad4b6255').addClass('fa-square-o').removeClass('fa-stop')\"\n",
       "                            onclick=\"kill_task('6ef217b5d84ff9dacba7d6e3ad4b6255', 'localhost')\"\n",
       "                        ></i> </td>\n",
       "                        <td style=\"border:0px\"><a onclick=\"task_info('6ef217b5d84ff9dacba7d6e3ad4b6255', 'localhost')\"><pre>6ef217b5d84ff9dacba7d6e3ad4b6255</pre></a></td>\n",
       "                        <td style=\"border:0px\">&nbsp;</td>\n",
       "                        <td style=\"border:0px;text-align=right;\">\n",
       "                        <pre><time id=\"duration_localhost_6ef217b5d84ff9dacba7d6e3ad4b6255\" datetime=\"1503608541400.1704\">0 sec</time></pre></td>\n",
       "                        </tr>\n",
       "                        </table>"
      ]
     },
     "metadata": {},
     "output_type": "display_data"
    },
    {
     "data": {
      "text/html": [
       "<table id=\"table_localhost_a0c161a3e836ce5c2a01c28e6c9910eb\" style=\"border: 0px\"><tr style=\"border: 0px\">\n",
       "                        <td style=\"border: 0px\">\n",
       "                        <i id=\"status_localhost_a0c161a3e836ce5c2a01c28e6c9910eb\"\n",
       "                            class=\"fa fa-2x fa-fw fa-square-o\"\n",
       "                            onmouseover=\"$('#status_localhost_a0c161a3e836ce5c2a01c28e6c9910eb').addClass('fa-stop').removeClass('fa-square-o')\"\n",
       "                            onmouseleave=\"$('#status_localhost_a0c161a3e836ce5c2a01c28e6c9910eb').addClass('fa-square-o').removeClass('fa-stop')\"\n",
       "                            onclick=\"kill_task('a0c161a3e836ce5c2a01c28e6c9910eb', 'localhost')\"\n",
       "                        ></i> </td>\n",
       "                        <td style=\"border:0px\"><a onclick=\"task_info('a0c161a3e836ce5c2a01c28e6c9910eb', 'localhost')\"><pre>a0c161a3e836ce5c2a01c28e6c9910eb</pre></a></td>\n",
       "                        <td style=\"border:0px\">&nbsp;</td>\n",
       "                        <td style=\"border:0px;text-align=right;\">\n",
       "                        <pre><time id=\"duration_localhost_a0c161a3e836ce5c2a01c28e6c9910eb\" datetime=\"1503608541400.473\">0 sec</time></pre></td>\n",
       "                        </tr>\n",
       "                        </table>"
      ]
     },
     "metadata": {},
     "output_type": "display_data"
    },
    {
     "data": {
      "text/html": [
       "<table id=\"table_localhost_9e5bb7932f13147144c6ee63f2e51c94\" style=\"border: 0px\"><tr style=\"border: 0px\">\n",
       "                        <td style=\"border: 0px\">\n",
       "                        <i id=\"status_localhost_9e5bb7932f13147144c6ee63f2e51c94\"\n",
       "                            class=\"fa fa-2x fa-fw fa-square-o\"\n",
       "                            onmouseover=\"$('#status_localhost_9e5bb7932f13147144c6ee63f2e51c94').addClass('fa-stop').removeClass('fa-square-o')\"\n",
       "                            onmouseleave=\"$('#status_localhost_9e5bb7932f13147144c6ee63f2e51c94').addClass('fa-square-o').removeClass('fa-stop')\"\n",
       "                            onclick=\"kill_task('9e5bb7932f13147144c6ee63f2e51c94', 'localhost')\"\n",
       "                        ></i> </td>\n",
       "                        <td style=\"border:0px\"><a onclick=\"task_info('9e5bb7932f13147144c6ee63f2e51c94', 'localhost')\"><pre>9e5bb7932f13147144c6ee63f2e51c94</pre></a></td>\n",
       "                        <td style=\"border:0px\">&nbsp;</td>\n",
       "                        <td style=\"border:0px;text-align=right;\">\n",
       "                        <pre><time id=\"duration_localhost_9e5bb7932f13147144c6ee63f2e51c94\" datetime=\"1503608541400.7776\">0 sec</time></pre></td>\n",
       "                        </tr>\n",
       "                        </table>"
      ]
     },
     "metadata": {},
     "output_type": "display_data"
    },
    {
     "data": {
      "text/html": [
       "<table id=\"table_localhost_0bb6d649c4b3ddf5eb2c6a99108c350b\" style=\"border: 0px\"><tr style=\"border: 0px\">\n",
       "                        <td style=\"border: 0px\">\n",
       "                        <i id=\"status_localhost_0bb6d649c4b3ddf5eb2c6a99108c350b\"\n",
       "                            class=\"fa fa-2x fa-fw fa-square-o\"\n",
       "                            onmouseover=\"$('#status_localhost_0bb6d649c4b3ddf5eb2c6a99108c350b').addClass('fa-stop').removeClass('fa-square-o')\"\n",
       "                            onmouseleave=\"$('#status_localhost_0bb6d649c4b3ddf5eb2c6a99108c350b').addClass('fa-square-o').removeClass('fa-stop')\"\n",
       "                            onclick=\"kill_task('0bb6d649c4b3ddf5eb2c6a99108c350b', 'localhost')\"\n",
       "                        ></i> </td>\n",
       "                        <td style=\"border:0px\"><a onclick=\"task_info('0bb6d649c4b3ddf5eb2c6a99108c350b', 'localhost')\"><pre>0bb6d649c4b3ddf5eb2c6a99108c350b</pre></a></td>\n",
       "                        <td style=\"border:0px\">&nbsp;</td>\n",
       "                        <td style=\"border:0px;text-align=right;\">\n",
       "                        <pre><time id=\"duration_localhost_0bb6d649c4b3ddf5eb2c6a99108c350b\" datetime=\"1503608541401.1055\">0 sec</time></pre></td>\n",
       "                        </tr>\n",
       "                        </table>"
      ]
     },
     "metadata": {},
     "output_type": "display_data"
    },
    {
     "data": {
      "text/html": [
       "<table id=\"table_localhost_4277f6c846b2a8efb01fa69fae29497e\" style=\"border: 0px\"><tr style=\"border: 0px\">\n",
       "                        <td style=\"border: 0px\">\n",
       "                        <i id=\"status_localhost_4277f6c846b2a8efb01fa69fae29497e\"\n",
       "                            class=\"fa fa-2x fa-fw fa-square-o\"\n",
       "                            onmouseover=\"$('#status_localhost_4277f6c846b2a8efb01fa69fae29497e').addClass('fa-stop').removeClass('fa-square-o')\"\n",
       "                            onmouseleave=\"$('#status_localhost_4277f6c846b2a8efb01fa69fae29497e').addClass('fa-square-o').removeClass('fa-stop')\"\n",
       "                            onclick=\"kill_task('4277f6c846b2a8efb01fa69fae29497e', 'localhost')\"\n",
       "                        ></i> </td>\n",
       "                        <td style=\"border:0px\"><a onclick=\"task_info('4277f6c846b2a8efb01fa69fae29497e', 'localhost')\"><pre>4277f6c846b2a8efb01fa69fae29497e</pre></a></td>\n",
       "                        <td style=\"border:0px\">&nbsp;</td>\n",
       "                        <td style=\"border:0px;text-align=right;\">\n",
       "                        <pre><time id=\"duration_localhost_4277f6c846b2a8efb01fa69fae29497e\" datetime=\"1503608541401.4163\">0 sec</time></pre></td>\n",
       "                        </tr>\n",
       "                        </table>"
      ]
     },
     "metadata": {},
     "output_type": "display_data"
    },
    {
     "data": {
      "text/html": [
       "<table id=\"table_localhost_d501f76448679da7016475b94d2b3060\" style=\"border: 0px\"><tr style=\"border: 0px\">\n",
       "                        <td style=\"border: 0px\">\n",
       "                        <i id=\"status_localhost_d501f76448679da7016475b94d2b3060\"\n",
       "                            class=\"fa fa-2x fa-fw fa-square-o\"\n",
       "                            onmouseover=\"$('#status_localhost_d501f76448679da7016475b94d2b3060').addClass('fa-stop').removeClass('fa-square-o')\"\n",
       "                            onmouseleave=\"$('#status_localhost_d501f76448679da7016475b94d2b3060').addClass('fa-square-o').removeClass('fa-stop')\"\n",
       "                            onclick=\"kill_task('d501f76448679da7016475b94d2b3060', 'localhost')\"\n",
       "                        ></i> </td>\n",
       "                        <td style=\"border:0px\"><a onclick=\"task_info('d501f76448679da7016475b94d2b3060', 'localhost')\"><pre>d501f76448679da7016475b94d2b3060</pre></a></td>\n",
       "                        <td style=\"border:0px\">&nbsp;</td>\n",
       "                        <td style=\"border:0px;text-align=right;\">\n",
       "                        <pre><time id=\"duration_localhost_d501f76448679da7016475b94d2b3060\" datetime=\"1503608541402.282\">0 sec</time></pre></td>\n",
       "                        </tr>\n",
       "                        </table>"
      ]
     },
     "metadata": {},
     "output_type": "display_data"
    },
    {
     "data": {
      "text/html": [
       "<table id=\"table_localhost_62f5b3783b3367e6ac1bcc62ea43eec4\" style=\"border: 0px\"><tr style=\"border: 0px\">\n",
       "                        <td style=\"border: 0px\">\n",
       "                        <i id=\"status_localhost_62f5b3783b3367e6ac1bcc62ea43eec4\"\n",
       "                            class=\"fa fa-2x fa-fw fa-square-o\"\n",
       "                            onmouseover=\"$('#status_localhost_62f5b3783b3367e6ac1bcc62ea43eec4').addClass('fa-stop').removeClass('fa-square-o')\"\n",
       "                            onmouseleave=\"$('#status_localhost_62f5b3783b3367e6ac1bcc62ea43eec4').addClass('fa-square-o').removeClass('fa-stop')\"\n",
       "                            onclick=\"kill_task('62f5b3783b3367e6ac1bcc62ea43eec4', 'localhost')\"\n",
       "                        ></i> </td>\n",
       "                        <td style=\"border:0px\"><a onclick=\"task_info('62f5b3783b3367e6ac1bcc62ea43eec4', 'localhost')\"><pre>62f5b3783b3367e6ac1bcc62ea43eec4</pre></a></td>\n",
       "                        <td style=\"border:0px\">&nbsp;</td>\n",
       "                        <td style=\"border:0px;text-align=right;\">\n",
       "                        <pre><time id=\"duration_localhost_62f5b3783b3367e6ac1bcc62ea43eec4\" datetime=\"1503608541402.8247\">0 sec</time></pre></td>\n",
       "                        </tr>\n",
       "                        </table>"
      ]
     },
     "metadata": {},
     "output_type": "display_data"
    },
    {
     "data": {
      "text/html": [
       "<table id=\"table_localhost_2b3a8dd2536ebd50679342abe78ec574\" style=\"border: 0px\"><tr style=\"border: 0px\">\n",
       "                        <td style=\"border: 0px\">\n",
       "                        <i id=\"status_localhost_2b3a8dd2536ebd50679342abe78ec574\"\n",
       "                            class=\"fa fa-2x fa-fw fa-square-o\"\n",
       "                            onmouseover=\"$('#status_localhost_2b3a8dd2536ebd50679342abe78ec574').addClass('fa-stop').removeClass('fa-square-o')\"\n",
       "                            onmouseleave=\"$('#status_localhost_2b3a8dd2536ebd50679342abe78ec574').addClass('fa-square-o').removeClass('fa-stop')\"\n",
       "                            onclick=\"kill_task('2b3a8dd2536ebd50679342abe78ec574', 'localhost')\"\n",
       "                        ></i> </td>\n",
       "                        <td style=\"border:0px\"><a onclick=\"task_info('2b3a8dd2536ebd50679342abe78ec574', 'localhost')\"><pre>2b3a8dd2536ebd50679342abe78ec574</pre></a></td>\n",
       "                        <td style=\"border:0px\">&nbsp;</td>\n",
       "                        <td style=\"border:0px;text-align=right;\">\n",
       "                        <pre><time id=\"duration_localhost_2b3a8dd2536ebd50679342abe78ec574\" datetime=\"1503608541403.1792\">0 sec</time></pre></td>\n",
       "                        </tr>\n",
       "                        </table>"
      ]
     },
     "metadata": {},
     "output_type": "display_data"
    },
    {
     "data": {
      "text/html": [
       "<table id=\"table_localhost_f5fa2c9207ef99b70f7b568c8e085166\" style=\"border: 0px\"><tr style=\"border: 0px\">\n",
       "                        <td style=\"border: 0px\">\n",
       "                        <i id=\"status_localhost_f5fa2c9207ef99b70f7b568c8e085166\"\n",
       "                            class=\"fa fa-2x fa-fw fa-square-o\"\n",
       "                            onmouseover=\"$('#status_localhost_f5fa2c9207ef99b70f7b568c8e085166').addClass('fa-stop').removeClass('fa-square-o')\"\n",
       "                            onmouseleave=\"$('#status_localhost_f5fa2c9207ef99b70f7b568c8e085166').addClass('fa-square-o').removeClass('fa-stop')\"\n",
       "                            onclick=\"kill_task('f5fa2c9207ef99b70f7b568c8e085166', 'localhost')\"\n",
       "                        ></i> </td>\n",
       "                        <td style=\"border:0px\"><a onclick=\"task_info('f5fa2c9207ef99b70f7b568c8e085166', 'localhost')\"><pre>f5fa2c9207ef99b70f7b568c8e085166</pre></a></td>\n",
       "                        <td style=\"border:0px\">&nbsp;</td>\n",
       "                        <td style=\"border:0px;text-align=right;\">\n",
       "                        <pre><time id=\"duration_localhost_f5fa2c9207ef99b70f7b568c8e085166\" datetime=\"1503608541403.602\">0 sec</time></pre></td>\n",
       "                        </tr>\n",
       "                        </table>"
      ]
     },
     "metadata": {},
     "output_type": "display_data"
    },
    {
     "data": {
      "text/html": [
       "<table id=\"table_localhost_2d6d3dda2b1a2a7ec88b0508240c251e\" style=\"border: 0px\"><tr style=\"border: 0px\">\n",
       "                        <td style=\"border: 0px\">\n",
       "                        <i id=\"status_localhost_2d6d3dda2b1a2a7ec88b0508240c251e\"\n",
       "                            class=\"fa fa-2x fa-fw fa-square-o\"\n",
       "                            onmouseover=\"$('#status_localhost_2d6d3dda2b1a2a7ec88b0508240c251e').addClass('fa-stop').removeClass('fa-square-o')\"\n",
       "                            onmouseleave=\"$('#status_localhost_2d6d3dda2b1a2a7ec88b0508240c251e').addClass('fa-square-o').removeClass('fa-stop')\"\n",
       "                            onclick=\"kill_task('2d6d3dda2b1a2a7ec88b0508240c251e', 'localhost')\"\n",
       "                        ></i> </td>\n",
       "                        <td style=\"border:0px\"><a onclick=\"task_info('2d6d3dda2b1a2a7ec88b0508240c251e', 'localhost')\"><pre>2d6d3dda2b1a2a7ec88b0508240c251e</pre></a></td>\n",
       "                        <td style=\"border:0px\">&nbsp;</td>\n",
       "                        <td style=\"border:0px;text-align=right;\">\n",
       "                        <pre><time id=\"duration_localhost_2d6d3dda2b1a2a7ec88b0508240c251e\" datetime=\"1503608541403.9695\">0 sec</time></pre></td>\n",
       "                        </tr>\n",
       "                        </table>"
      ]
     },
     "metadata": {},
     "output_type": "display_data"
    },
    {
     "data": {
      "text/html": [
       "<table id=\"table_localhost_9a16704328447d81410259ed94295661\" style=\"border: 0px\"><tr style=\"border: 0px\">\n",
       "                        <td style=\"border: 0px\">\n",
       "                        <i id=\"status_localhost_9a16704328447d81410259ed94295661\"\n",
       "                            class=\"fa fa-2x fa-fw fa-square-o\"\n",
       "                            onmouseover=\"$('#status_localhost_9a16704328447d81410259ed94295661').addClass('fa-stop').removeClass('fa-square-o')\"\n",
       "                            onmouseleave=\"$('#status_localhost_9a16704328447d81410259ed94295661').addClass('fa-square-o').removeClass('fa-stop')\"\n",
       "                            onclick=\"kill_task('9a16704328447d81410259ed94295661', 'localhost')\"\n",
       "                        ></i> </td>\n",
       "                        <td style=\"border:0px\"><a onclick=\"task_info('9a16704328447d81410259ed94295661', 'localhost')\"><pre>9a16704328447d81410259ed94295661</pre></a></td>\n",
       "                        <td style=\"border:0px\">&nbsp;</td>\n",
       "                        <td style=\"border:0px;text-align=right;\">\n",
       "                        <pre><time id=\"duration_localhost_9a16704328447d81410259ed94295661\" datetime=\"1503608541406.6753\">0 sec</time></pre></td>\n",
       "                        </tr>\n",
       "                        </table>"
      ]
     },
     "metadata": {},
     "output_type": "display_data"
    },
    {
     "data": {
      "text/html": [
       "<table id=\"table_localhost_819c30cce1683f6503fcf463c09b6e53\" style=\"border: 0px\"><tr style=\"border: 0px\">\n",
       "                        <td style=\"border: 0px\">\n",
       "                        <i id=\"status_localhost_819c30cce1683f6503fcf463c09b6e53\"\n",
       "                            class=\"fa fa-2x fa-fw fa-square-o\"\n",
       "                            onmouseover=\"$('#status_localhost_819c30cce1683f6503fcf463c09b6e53').addClass('fa-stop').removeClass('fa-square-o')\"\n",
       "                            onmouseleave=\"$('#status_localhost_819c30cce1683f6503fcf463c09b6e53').addClass('fa-square-o').removeClass('fa-stop')\"\n",
       "                            onclick=\"kill_task('819c30cce1683f6503fcf463c09b6e53', 'localhost')\"\n",
       "                        ></i> </td>\n",
       "                        <td style=\"border:0px\"><a onclick=\"task_info('819c30cce1683f6503fcf463c09b6e53', 'localhost')\"><pre>819c30cce1683f6503fcf463c09b6e53</pre></a></td>\n",
       "                        <td style=\"border:0px\">&nbsp;</td>\n",
       "                        <td style=\"border:0px;text-align=right;\">\n",
       "                        <pre><time id=\"duration_localhost_819c30cce1683f6503fcf463c09b6e53\" datetime=\"1503608541407.748\">0 sec</time></pre></td>\n",
       "                        </tr>\n",
       "                        </table>"
      ]
     },
     "metadata": {},
     "output_type": "display_data"
    },
    {
     "data": {
      "text/html": [
       "<table id=\"table_localhost_5ef87d1ed442936a7a172996829e6116\" style=\"border: 0px\"><tr style=\"border: 0px\">\n",
       "                        <td style=\"border: 0px\">\n",
       "                        <i id=\"status_localhost_5ef87d1ed442936a7a172996829e6116\"\n",
       "                            class=\"fa fa-2x fa-fw fa-square-o\"\n",
       "                            onmouseover=\"$('#status_localhost_5ef87d1ed442936a7a172996829e6116').addClass('fa-stop').removeClass('fa-square-o')\"\n",
       "                            onmouseleave=\"$('#status_localhost_5ef87d1ed442936a7a172996829e6116').addClass('fa-square-o').removeClass('fa-stop')\"\n",
       "                            onclick=\"kill_task('5ef87d1ed442936a7a172996829e6116', 'localhost')\"\n",
       "                        ></i> </td>\n",
       "                        <td style=\"border:0px\"><a onclick=\"task_info('5ef87d1ed442936a7a172996829e6116', 'localhost')\"><pre>5ef87d1ed442936a7a172996829e6116</pre></a></td>\n",
       "                        <td style=\"border:0px\">&nbsp;</td>\n",
       "                        <td style=\"border:0px;text-align=right;\">\n",
       "                        <pre><time id=\"duration_localhost_5ef87d1ed442936a7a172996829e6116\" datetime=\"1503608541408.1455\">0 sec</time></pre></td>\n",
       "                        </tr>\n",
       "                        </table>"
      ]
     },
     "metadata": {},
     "output_type": "display_data"
    },
    {
     "data": {
      "text/html": [
       "<table id=\"table_localhost_ec6995945c7df1980b8e945f4a6f578f\" style=\"border: 0px\"><tr style=\"border: 0px\">\n",
       "                        <td style=\"border: 0px\">\n",
       "                        <i id=\"status_localhost_ec6995945c7df1980b8e945f4a6f578f\"\n",
       "                            class=\"fa fa-2x fa-fw fa-square-o\"\n",
       "                            onmouseover=\"$('#status_localhost_ec6995945c7df1980b8e945f4a6f578f').addClass('fa-stop').removeClass('fa-square-o')\"\n",
       "                            onmouseleave=\"$('#status_localhost_ec6995945c7df1980b8e945f4a6f578f').addClass('fa-square-o').removeClass('fa-stop')\"\n",
       "                            onclick=\"kill_task('ec6995945c7df1980b8e945f4a6f578f', 'localhost')\"\n",
       "                        ></i> </td>\n",
       "                        <td style=\"border:0px\"><a onclick=\"task_info('ec6995945c7df1980b8e945f4a6f578f', 'localhost')\"><pre>ec6995945c7df1980b8e945f4a6f578f</pre></a></td>\n",
       "                        <td style=\"border:0px\">&nbsp;</td>\n",
       "                        <td style=\"border:0px;text-align=right;\">\n",
       "                        <pre><time id=\"duration_localhost_ec6995945c7df1980b8e945f4a6f578f\" datetime=\"1503608541408.4878\">0 sec</time></pre></td>\n",
       "                        </tr>\n",
       "                        </table>"
      ]
     },
     "metadata": {},
     "output_type": "display_data"
    },
    {
     "data": {
      "text/html": [
       "<table id=\"table_localhost_a59aea64ecbfb0c22876ee766c542b60\" style=\"border: 0px\"><tr style=\"border: 0px\">\n",
       "                        <td style=\"border: 0px\">\n",
       "                        <i id=\"status_localhost_a59aea64ecbfb0c22876ee766c542b60\"\n",
       "                            class=\"fa fa-2x fa-fw fa-square-o\"\n",
       "                            onmouseover=\"$('#status_localhost_a59aea64ecbfb0c22876ee766c542b60').addClass('fa-stop').removeClass('fa-square-o')\"\n",
       "                            onmouseleave=\"$('#status_localhost_a59aea64ecbfb0c22876ee766c542b60').addClass('fa-square-o').removeClass('fa-stop')\"\n",
       "                            onclick=\"kill_task('a59aea64ecbfb0c22876ee766c542b60', 'localhost')\"\n",
       "                        ></i> </td>\n",
       "                        <td style=\"border:0px\"><a onclick=\"task_info('a59aea64ecbfb0c22876ee766c542b60', 'localhost')\"><pre>a59aea64ecbfb0c22876ee766c542b60</pre></a></td>\n",
       "                        <td style=\"border:0px\">&nbsp;</td>\n",
       "                        <td style=\"border:0px;text-align=right;\">\n",
       "                        <pre><time id=\"duration_localhost_a59aea64ecbfb0c22876ee766c542b60\" datetime=\"1503608541408.936\">0 sec</time></pre></td>\n",
       "                        </tr>\n",
       "                        </table>"
      ]
     },
     "metadata": {},
     "output_type": "display_data"
    },
    {
     "data": {
      "text/html": [
       "<table id=\"table_localhost_752ff279beaea9ec996fdf1dc4b8a10d\" style=\"border: 0px\"><tr style=\"border: 0px\">\n",
       "                        <td style=\"border: 0px\">\n",
       "                        <i id=\"status_localhost_752ff279beaea9ec996fdf1dc4b8a10d\"\n",
       "                            class=\"fa fa-2x fa-fw fa-square-o\"\n",
       "                            onmouseover=\"$('#status_localhost_752ff279beaea9ec996fdf1dc4b8a10d').addClass('fa-stop').removeClass('fa-square-o')\"\n",
       "                            onmouseleave=\"$('#status_localhost_752ff279beaea9ec996fdf1dc4b8a10d').addClass('fa-square-o').removeClass('fa-stop')\"\n",
       "                            onclick=\"kill_task('752ff279beaea9ec996fdf1dc4b8a10d', 'localhost')\"\n",
       "                        ></i> </td>\n",
       "                        <td style=\"border:0px\"><a onclick=\"task_info('752ff279beaea9ec996fdf1dc4b8a10d', 'localhost')\"><pre>752ff279beaea9ec996fdf1dc4b8a10d</pre></a></td>\n",
       "                        <td style=\"border:0px\">&nbsp;</td>\n",
       "                        <td style=\"border:0px;text-align=right;\">\n",
       "                        <pre><time id=\"duration_localhost_752ff279beaea9ec996fdf1dc4b8a10d\" datetime=\"1503608541409.5908\">0 sec</time></pre></td>\n",
       "                        </tr>\n",
       "                        </table>"
      ]
     },
     "metadata": {},
     "output_type": "display_data"
    },
    {
     "data": {
      "text/html": [
       "<table id=\"table_localhost_7e85388b1f78d0f3ea962238ed42d958\" style=\"border: 0px\"><tr style=\"border: 0px\">\n",
       "                        <td style=\"border: 0px\">\n",
       "                        <i id=\"status_localhost_7e85388b1f78d0f3ea962238ed42d958\"\n",
       "                            class=\"fa fa-2x fa-fw fa-square-o\"\n",
       "                            onmouseover=\"$('#status_localhost_7e85388b1f78d0f3ea962238ed42d958').addClass('fa-stop').removeClass('fa-square-o')\"\n",
       "                            onmouseleave=\"$('#status_localhost_7e85388b1f78d0f3ea962238ed42d958').addClass('fa-square-o').removeClass('fa-stop')\"\n",
       "                            onclick=\"kill_task('7e85388b1f78d0f3ea962238ed42d958', 'localhost')\"\n",
       "                        ></i> </td>\n",
       "                        <td style=\"border:0px\"><a onclick=\"task_info('7e85388b1f78d0f3ea962238ed42d958', 'localhost')\"><pre>7e85388b1f78d0f3ea962238ed42d958</pre></a></td>\n",
       "                        <td style=\"border:0px\">&nbsp;</td>\n",
       "                        <td style=\"border:0px;text-align=right;\">\n",
       "                        <pre><time id=\"duration_localhost_7e85388b1f78d0f3ea962238ed42d958\" datetime=\"1503608541410.15\">0 sec</time></pre></td>\n",
       "                        </tr>\n",
       "                        </table>"
      ]
     },
     "metadata": {},
     "output_type": "display_data"
    },
    {
     "data": {
      "text/html": [
       "<table id=\"table_localhost_87e60714e15f8fde95d25d3c3842146a\" style=\"border: 0px\"><tr style=\"border: 0px\">\n",
       "                        <td style=\"border: 0px\">\n",
       "                        <i id=\"status_localhost_87e60714e15f8fde95d25d3c3842146a\"\n",
       "                            class=\"fa fa-2x fa-fw fa-square-o\"\n",
       "                            onmouseover=\"$('#status_localhost_87e60714e15f8fde95d25d3c3842146a').addClass('fa-stop').removeClass('fa-square-o')\"\n",
       "                            onmouseleave=\"$('#status_localhost_87e60714e15f8fde95d25d3c3842146a').addClass('fa-square-o').removeClass('fa-stop')\"\n",
       "                            onclick=\"kill_task('87e60714e15f8fde95d25d3c3842146a', 'localhost')\"\n",
       "                        ></i> </td>\n",
       "                        <td style=\"border:0px\"><a onclick=\"task_info('87e60714e15f8fde95d25d3c3842146a', 'localhost')\"><pre>87e60714e15f8fde95d25d3c3842146a</pre></a></td>\n",
       "                        <td style=\"border:0px\">&nbsp;</td>\n",
       "                        <td style=\"border:0px;text-align=right;\">\n",
       "                        <pre><time id=\"duration_localhost_87e60714e15f8fde95d25d3c3842146a\" datetime=\"1503608541410.563\">0 sec</time></pre></td>\n",
       "                        </tr>\n",
       "                        </table>"
      ]
     },
     "metadata": {},
     "output_type": "display_data"
    },
    {
     "data": {
      "text/html": [
       "<table id=\"table_localhost_6e56ef2498eb08af271ad342c866d71c\" style=\"border: 0px\"><tr style=\"border: 0px\">\n",
       "                        <td style=\"border: 0px\">\n",
       "                        <i id=\"status_localhost_6e56ef2498eb08af271ad342c866d71c\"\n",
       "                            class=\"fa fa-2x fa-fw fa-square-o\"\n",
       "                            onmouseover=\"$('#status_localhost_6e56ef2498eb08af271ad342c866d71c').addClass('fa-stop').removeClass('fa-square-o')\"\n",
       "                            onmouseleave=\"$('#status_localhost_6e56ef2498eb08af271ad342c866d71c').addClass('fa-square-o').removeClass('fa-stop')\"\n",
       "                            onclick=\"kill_task('6e56ef2498eb08af271ad342c866d71c', 'localhost')\"\n",
       "                        ></i> </td>\n",
       "                        <td style=\"border:0px\"><a onclick=\"task_info('6e56ef2498eb08af271ad342c866d71c', 'localhost')\"><pre>6e56ef2498eb08af271ad342c866d71c</pre></a></td>\n",
       "                        <td style=\"border:0px\">&nbsp;</td>\n",
       "                        <td style=\"border:0px;text-align=right;\">\n",
       "                        <pre><time id=\"duration_localhost_6e56ef2498eb08af271ad342c866d71c\" datetime=\"1503608541411.0007\">0 sec</time></pre></td>\n",
       "                        </tr>\n",
       "                        </table>"
      ]
     },
     "metadata": {},
     "output_type": "display_data"
    },
    {
     "data": {
      "text/html": [
       "<table id=\"table_localhost_64e80e2485f219ec83a1289c29d9f11c\" style=\"border: 0px\"><tr style=\"border: 0px\">\n",
       "                        <td style=\"border: 0px\">\n",
       "                        <i id=\"status_localhost_64e80e2485f219ec83a1289c29d9f11c\"\n",
       "                            class=\"fa fa-2x fa-fw fa-square-o\"\n",
       "                            onmouseover=\"$('#status_localhost_64e80e2485f219ec83a1289c29d9f11c').addClass('fa-stop').removeClass('fa-square-o')\"\n",
       "                            onmouseleave=\"$('#status_localhost_64e80e2485f219ec83a1289c29d9f11c').addClass('fa-square-o').removeClass('fa-stop')\"\n",
       "                            onclick=\"kill_task('64e80e2485f219ec83a1289c29d9f11c', 'localhost')\"\n",
       "                        ></i> </td>\n",
       "                        <td style=\"border:0px\"><a onclick=\"task_info('64e80e2485f219ec83a1289c29d9f11c', 'localhost')\"><pre>64e80e2485f219ec83a1289c29d9f11c</pre></a></td>\n",
       "                        <td style=\"border:0px\">&nbsp;</td>\n",
       "                        <td style=\"border:0px;text-align=right;\">\n",
       "                        <pre><time id=\"duration_localhost_64e80e2485f219ec83a1289c29d9f11c\" datetime=\"1503608541411.4006\">0 sec</time></pre></td>\n",
       "                        </tr>\n",
       "                        </table>"
      ]
     },
     "metadata": {},
     "output_type": "display_data"
    },
    {
     "data": {
      "text/html": [
       "<table id=\"table_localhost_79d637acd8b5c353297bb72764602dcb\" style=\"border: 0px\"><tr style=\"border: 0px\">\n",
       "                        <td style=\"border: 0px\">\n",
       "                        <i id=\"status_localhost_79d637acd8b5c353297bb72764602dcb\"\n",
       "                            class=\"fa fa-2x fa-fw fa-square-o\"\n",
       "                            onmouseover=\"$('#status_localhost_79d637acd8b5c353297bb72764602dcb').addClass('fa-stop').removeClass('fa-square-o')\"\n",
       "                            onmouseleave=\"$('#status_localhost_79d637acd8b5c353297bb72764602dcb').addClass('fa-square-o').removeClass('fa-stop')\"\n",
       "                            onclick=\"kill_task('79d637acd8b5c353297bb72764602dcb', 'localhost')\"\n",
       "                        ></i> </td>\n",
       "                        <td style=\"border:0px\"><a onclick=\"task_info('79d637acd8b5c353297bb72764602dcb', 'localhost')\"><pre>79d637acd8b5c353297bb72764602dcb</pre></a></td>\n",
       "                        <td style=\"border:0px\">&nbsp;</td>\n",
       "                        <td style=\"border:0px;text-align=right;\">\n",
       "                        <pre><time id=\"duration_localhost_79d637acd8b5c353297bb72764602dcb\" datetime=\"1503608541411.7234\">0 sec</time></pre></td>\n",
       "                        </tr>\n",
       "                        </table>"
      ]
     },
     "metadata": {},
     "output_type": "display_data"
    },
    {
     "data": {
      "text/html": [
       "<table id=\"table_localhost_41f10e8c7868aaec844ff42929035299\" style=\"border: 0px\"><tr style=\"border: 0px\">\n",
       "                        <td style=\"border: 0px\">\n",
       "                        <i id=\"status_localhost_41f10e8c7868aaec844ff42929035299\"\n",
       "                            class=\"fa fa-2x fa-fw fa-square-o\"\n",
       "                            onmouseover=\"$('#status_localhost_41f10e8c7868aaec844ff42929035299').addClass('fa-stop').removeClass('fa-square-o')\"\n",
       "                            onmouseleave=\"$('#status_localhost_41f10e8c7868aaec844ff42929035299').addClass('fa-square-o').removeClass('fa-stop')\"\n",
       "                            onclick=\"kill_task('41f10e8c7868aaec844ff42929035299', 'localhost')\"\n",
       "                        ></i> </td>\n",
       "                        <td style=\"border:0px\"><a onclick=\"task_info('41f10e8c7868aaec844ff42929035299', 'localhost')\"><pre>41f10e8c7868aaec844ff42929035299</pre></a></td>\n",
       "                        <td style=\"border:0px\">&nbsp;</td>\n",
       "                        <td style=\"border:0px;text-align=right;\">\n",
       "                        <pre><time id=\"duration_localhost_41f10e8c7868aaec844ff42929035299\" datetime=\"1503608541412.2407\">0 sec</time></pre></td>\n",
       "                        </tr>\n",
       "                        </table>"
      ]
     },
     "metadata": {},
     "output_type": "display_data"
    },
    {
     "data": {
      "text/html": [
       "<table id=\"table_localhost_d79424a4d1754c43d7c4fbf39e5047a9\" style=\"border: 0px\"><tr style=\"border: 0px\">\n",
       "                        <td style=\"border: 0px\">\n",
       "                        <i id=\"status_localhost_d79424a4d1754c43d7c4fbf39e5047a9\"\n",
       "                            class=\"fa fa-2x fa-fw fa-square-o\"\n",
       "                            onmouseover=\"$('#status_localhost_d79424a4d1754c43d7c4fbf39e5047a9').addClass('fa-stop').removeClass('fa-square-o')\"\n",
       "                            onmouseleave=\"$('#status_localhost_d79424a4d1754c43d7c4fbf39e5047a9').addClass('fa-square-o').removeClass('fa-stop')\"\n",
       "                            onclick=\"kill_task('d79424a4d1754c43d7c4fbf39e5047a9', 'localhost')\"\n",
       "                        ></i> </td>\n",
       "                        <td style=\"border:0px\"><a onclick=\"task_info('d79424a4d1754c43d7c4fbf39e5047a9', 'localhost')\"><pre>d79424a4d1754c43d7c4fbf39e5047a9</pre></a></td>\n",
       "                        <td style=\"border:0px\">&nbsp;</td>\n",
       "                        <td style=\"border:0px;text-align=right;\">\n",
       "                        <pre><time id=\"duration_localhost_d79424a4d1754c43d7c4fbf39e5047a9\" datetime=\"1503608541415.2498\">0 sec</time></pre></td>\n",
       "                        </tr>\n",
       "                        </table>"
      ]
     },
     "metadata": {},
     "output_type": "display_data"
    },
    {
     "data": {
      "text/html": [
       "<table id=\"table_localhost_19d32b60f38ae6ad2a679e540203b664\" style=\"border: 0px\"><tr style=\"border: 0px\">\n",
       "                        <td style=\"border: 0px\">\n",
       "                        <i id=\"status_localhost_19d32b60f38ae6ad2a679e540203b664\"\n",
       "                            class=\"fa fa-2x fa-fw fa-square-o\"\n",
       "                            onmouseover=\"$('#status_localhost_19d32b60f38ae6ad2a679e540203b664').addClass('fa-stop').removeClass('fa-square-o')\"\n",
       "                            onmouseleave=\"$('#status_localhost_19d32b60f38ae6ad2a679e540203b664').addClass('fa-square-o').removeClass('fa-stop')\"\n",
       "                            onclick=\"kill_task('19d32b60f38ae6ad2a679e540203b664', 'localhost')\"\n",
       "                        ></i> </td>\n",
       "                        <td style=\"border:0px\"><a onclick=\"task_info('19d32b60f38ae6ad2a679e540203b664', 'localhost')\"><pre>19d32b60f38ae6ad2a679e540203b664</pre></a></td>\n",
       "                        <td style=\"border:0px\">&nbsp;</td>\n",
       "                        <td style=\"border:0px;text-align=right;\">\n",
       "                        <pre><time id=\"duration_localhost_19d32b60f38ae6ad2a679e540203b664\" datetime=\"1503608541415.675\">0 sec</time></pre></td>\n",
       "                        </tr>\n",
       "                        </table>"
      ]
     },
     "metadata": {},
     "output_type": "display_data"
    },
    {
     "data": {
      "text/html": [
       "<table id=\"table_localhost_dd58470ff1d03180e72e8b4baf9478b1\" style=\"border: 0px\"><tr style=\"border: 0px\">\n",
       "                        <td style=\"border: 0px\">\n",
       "                        <i id=\"status_localhost_dd58470ff1d03180e72e8b4baf9478b1\"\n",
       "                            class=\"fa fa-2x fa-fw fa-square-o\"\n",
       "                            onmouseover=\"$('#status_localhost_dd58470ff1d03180e72e8b4baf9478b1').addClass('fa-stop').removeClass('fa-square-o')\"\n",
       "                            onmouseleave=\"$('#status_localhost_dd58470ff1d03180e72e8b4baf9478b1').addClass('fa-square-o').removeClass('fa-stop')\"\n",
       "                            onclick=\"kill_task('dd58470ff1d03180e72e8b4baf9478b1', 'localhost')\"\n",
       "                        ></i> </td>\n",
       "                        <td style=\"border:0px\"><a onclick=\"task_info('dd58470ff1d03180e72e8b4baf9478b1', 'localhost')\"><pre>dd58470ff1d03180e72e8b4baf9478b1</pre></a></td>\n",
       "                        <td style=\"border:0px\">&nbsp;</td>\n",
       "                        <td style=\"border:0px;text-align=right;\">\n",
       "                        <pre><time id=\"duration_localhost_dd58470ff1d03180e72e8b4baf9478b1\" datetime=\"1503608541416.023\">0 sec</time></pre></td>\n",
       "                        </tr>\n",
       "                        </table>"
      ]
     },
     "metadata": {},
     "output_type": "display_data"
    },
    {
     "data": {
      "text/html": [
       "<table id=\"table_localhost_25cf9cbc87356418680d9e8294c3b1a1\" style=\"border: 0px\"><tr style=\"border: 0px\">\n",
       "                        <td style=\"border: 0px\">\n",
       "                        <i id=\"status_localhost_25cf9cbc87356418680d9e8294c3b1a1\"\n",
       "                            class=\"fa fa-2x fa-fw fa-square-o\"\n",
       "                            onmouseover=\"$('#status_localhost_25cf9cbc87356418680d9e8294c3b1a1').addClass('fa-stop').removeClass('fa-square-o')\"\n",
       "                            onmouseleave=\"$('#status_localhost_25cf9cbc87356418680d9e8294c3b1a1').addClass('fa-square-o').removeClass('fa-stop')\"\n",
       "                            onclick=\"kill_task('25cf9cbc87356418680d9e8294c3b1a1', 'localhost')\"\n",
       "                        ></i> </td>\n",
       "                        <td style=\"border:0px\"><a onclick=\"task_info('25cf9cbc87356418680d9e8294c3b1a1', 'localhost')\"><pre>25cf9cbc87356418680d9e8294c3b1a1</pre></a></td>\n",
       "                        <td style=\"border:0px\">&nbsp;</td>\n",
       "                        <td style=\"border:0px;text-align=right;\">\n",
       "                        <pre><time id=\"duration_localhost_25cf9cbc87356418680d9e8294c3b1a1\" datetime=\"1503608541416.5212\">0 sec</time></pre></td>\n",
       "                        </tr>\n",
       "                        </table>"
      ]
     },
     "metadata": {},
     "output_type": "display_data"
    },
    {
     "data": {
      "text/html": [
       "<table id=\"table_localhost_84bc74877dccfad567901b5433a876cd\" style=\"border: 0px\"><tr style=\"border: 0px\">\n",
       "                        <td style=\"border: 0px\">\n",
       "                        <i id=\"status_localhost_84bc74877dccfad567901b5433a876cd\"\n",
       "                            class=\"fa fa-2x fa-fw fa-square-o\"\n",
       "                            onmouseover=\"$('#status_localhost_84bc74877dccfad567901b5433a876cd').addClass('fa-stop').removeClass('fa-square-o')\"\n",
       "                            onmouseleave=\"$('#status_localhost_84bc74877dccfad567901b5433a876cd').addClass('fa-square-o').removeClass('fa-stop')\"\n",
       "                            onclick=\"kill_task('84bc74877dccfad567901b5433a876cd', 'localhost')\"\n",
       "                        ></i> </td>\n",
       "                        <td style=\"border:0px\"><a onclick=\"task_info('84bc74877dccfad567901b5433a876cd', 'localhost')\"><pre>84bc74877dccfad567901b5433a876cd</pre></a></td>\n",
       "                        <td style=\"border:0px\">&nbsp;</td>\n",
       "                        <td style=\"border:0px;text-align=right;\">\n",
       "                        <pre><time id=\"duration_localhost_84bc74877dccfad567901b5433a876cd\" datetime=\"1503608541416.8594\">0 sec</time></pre></td>\n",
       "                        </tr>\n",
       "                        </table>"
      ]
     },
     "metadata": {},
     "output_type": "display_data"
    },
    {
     "data": {
      "text/html": [
       "<table id=\"table_localhost_bdf8bab76a73cb00ea303e1e0f0ce8c0\" style=\"border: 0px\"><tr style=\"border: 0px\">\n",
       "                        <td style=\"border: 0px\">\n",
       "                        <i id=\"status_localhost_bdf8bab76a73cb00ea303e1e0f0ce8c0\"\n",
       "                            class=\"fa fa-2x fa-fw fa-square-o\"\n",
       "                            onmouseover=\"$('#status_localhost_bdf8bab76a73cb00ea303e1e0f0ce8c0').addClass('fa-stop').removeClass('fa-square-o')\"\n",
       "                            onmouseleave=\"$('#status_localhost_bdf8bab76a73cb00ea303e1e0f0ce8c0').addClass('fa-square-o').removeClass('fa-stop')\"\n",
       "                            onclick=\"kill_task('bdf8bab76a73cb00ea303e1e0f0ce8c0', 'localhost')\"\n",
       "                        ></i> </td>\n",
       "                        <td style=\"border:0px\"><a onclick=\"task_info('bdf8bab76a73cb00ea303e1e0f0ce8c0', 'localhost')\"><pre>bdf8bab76a73cb00ea303e1e0f0ce8c0</pre></a></td>\n",
       "                        <td style=\"border:0px\">&nbsp;</td>\n",
       "                        <td style=\"border:0px;text-align=right;\">\n",
       "                        <pre><time id=\"duration_localhost_bdf8bab76a73cb00ea303e1e0f0ce8c0\" datetime=\"1503608541417.1985\">0 sec</time></pre></td>\n",
       "                        </tr>\n",
       "                        </table>"
      ]
     },
     "metadata": {},
     "output_type": "display_data"
    },
    {
     "data": {
      "text/html": [
       "<table id=\"table_localhost_dfdf2a58cb42650727586c8d0dcc200b\" style=\"border: 0px\"><tr style=\"border: 0px\">\n",
       "                        <td style=\"border: 0px\">\n",
       "                        <i id=\"status_localhost_dfdf2a58cb42650727586c8d0dcc200b\"\n",
       "                            class=\"fa fa-2x fa-fw fa-square-o\"\n",
       "                            onmouseover=\"$('#status_localhost_dfdf2a58cb42650727586c8d0dcc200b').addClass('fa-stop').removeClass('fa-square-o')\"\n",
       "                            onmouseleave=\"$('#status_localhost_dfdf2a58cb42650727586c8d0dcc200b').addClass('fa-square-o').removeClass('fa-stop')\"\n",
       "                            onclick=\"kill_task('dfdf2a58cb42650727586c8d0dcc200b', 'localhost')\"\n",
       "                        ></i> </td>\n",
       "                        <td style=\"border:0px\"><a onclick=\"task_info('dfdf2a58cb42650727586c8d0dcc200b', 'localhost')\"><pre>dfdf2a58cb42650727586c8d0dcc200b</pre></a></td>\n",
       "                        <td style=\"border:0px\">&nbsp;</td>\n",
       "                        <td style=\"border:0px;text-align=right;\">\n",
       "                        <pre><time id=\"duration_localhost_dfdf2a58cb42650727586c8d0dcc200b\" datetime=\"1503608541417.5264\">0 sec</time></pre></td>\n",
       "                        </tr>\n",
       "                        </table>"
      ]
     },
     "metadata": {},
     "output_type": "display_data"
    },
    {
     "data": {
      "text/html": [
       "<table id=\"table_localhost_292a5f0590905cacd9fc13cc1ada4564\" style=\"border: 0px\"><tr style=\"border: 0px\">\n",
       "                        <td style=\"border: 0px\">\n",
       "                        <i id=\"status_localhost_292a5f0590905cacd9fc13cc1ada4564\"\n",
       "                            class=\"fa fa-2x fa-fw fa-square-o\"\n",
       "                            onmouseover=\"$('#status_localhost_292a5f0590905cacd9fc13cc1ada4564').addClass('fa-stop').removeClass('fa-square-o')\"\n",
       "                            onmouseleave=\"$('#status_localhost_292a5f0590905cacd9fc13cc1ada4564').addClass('fa-square-o').removeClass('fa-stop')\"\n",
       "                            onclick=\"kill_task('292a5f0590905cacd9fc13cc1ada4564', 'localhost')\"\n",
       "                        ></i> </td>\n",
       "                        <td style=\"border:0px\"><a onclick=\"task_info('292a5f0590905cacd9fc13cc1ada4564', 'localhost')\"><pre>292a5f0590905cacd9fc13cc1ada4564</pre></a></td>\n",
       "                        <td style=\"border:0px\">&nbsp;</td>\n",
       "                        <td style=\"border:0px;text-align=right;\">\n",
       "                        <pre><time id=\"duration_localhost_292a5f0590905cacd9fc13cc1ada4564\" datetime=\"1503608541417.907\">0 sec</time></pre></td>\n",
       "                        </tr>\n",
       "                        </table>"
      ]
     },
     "metadata": {},
     "output_type": "display_data"
    },
    {
     "data": {
      "text/html": [
       "<table id=\"table_localhost_98fbd4a7d6d3b99e2c48314e15300726\" style=\"border: 0px\"><tr style=\"border: 0px\">\n",
       "                        <td style=\"border: 0px\">\n",
       "                        <i id=\"status_localhost_98fbd4a7d6d3b99e2c48314e15300726\"\n",
       "                            class=\"fa fa-2x fa-fw fa-square-o\"\n",
       "                            onmouseover=\"$('#status_localhost_98fbd4a7d6d3b99e2c48314e15300726').addClass('fa-stop').removeClass('fa-square-o')\"\n",
       "                            onmouseleave=\"$('#status_localhost_98fbd4a7d6d3b99e2c48314e15300726').addClass('fa-square-o').removeClass('fa-stop')\"\n",
       "                            onclick=\"kill_task('98fbd4a7d6d3b99e2c48314e15300726', 'localhost')\"\n",
       "                        ></i> </td>\n",
       "                        <td style=\"border:0px\"><a onclick=\"task_info('98fbd4a7d6d3b99e2c48314e15300726', 'localhost')\"><pre>98fbd4a7d6d3b99e2c48314e15300726</pre></a></td>\n",
       "                        <td style=\"border:0px\">&nbsp;</td>\n",
       "                        <td style=\"border:0px;text-align=right;\">\n",
       "                        <pre><time id=\"duration_localhost_98fbd4a7d6d3b99e2c48314e15300726\" datetime=\"1503608541418.4622\">0 sec</time></pre></td>\n",
       "                        </tr>\n",
       "                        </table>"
      ]
     },
     "metadata": {},
     "output_type": "display_data"
    },
    {
     "data": {
      "text/html": [
       "<table id=\"table_localhost_60e2fdb0a2303799ef2c92dab2419391\" style=\"border: 0px\"><tr style=\"border: 0px\">\n",
       "                        <td style=\"border: 0px\">\n",
       "                        <i id=\"status_localhost_60e2fdb0a2303799ef2c92dab2419391\"\n",
       "                            class=\"fa fa-2x fa-fw fa-square-o\"\n",
       "                            onmouseover=\"$('#status_localhost_60e2fdb0a2303799ef2c92dab2419391').addClass('fa-stop').removeClass('fa-square-o')\"\n",
       "                            onmouseleave=\"$('#status_localhost_60e2fdb0a2303799ef2c92dab2419391').addClass('fa-square-o').removeClass('fa-stop')\"\n",
       "                            onclick=\"kill_task('60e2fdb0a2303799ef2c92dab2419391', 'localhost')\"\n",
       "                        ></i> </td>\n",
       "                        <td style=\"border:0px\"><a onclick=\"task_info('60e2fdb0a2303799ef2c92dab2419391', 'localhost')\"><pre>60e2fdb0a2303799ef2c92dab2419391</pre></a></td>\n",
       "                        <td style=\"border:0px\">&nbsp;</td>\n",
       "                        <td style=\"border:0px;text-align=right;\">\n",
       "                        <pre><time id=\"duration_localhost_60e2fdb0a2303799ef2c92dab2419391\" datetime=\"1503608541419.146\">0 sec</time></pre></td>\n",
       "                        </tr>\n",
       "                        </table>"
      ]
     },
     "metadata": {},
     "output_type": "display_data"
    },
    {
     "data": {
      "text/html": [
       "<table id=\"table_localhost_09dab2c48ddbe44d1512e55693446753\" style=\"border: 0px\"><tr style=\"border: 0px\">\n",
       "                        <td style=\"border: 0px\">\n",
       "                        <i id=\"status_localhost_09dab2c48ddbe44d1512e55693446753\"\n",
       "                            class=\"fa fa-2x fa-fw fa-square-o\"\n",
       "                            onmouseover=\"$('#status_localhost_09dab2c48ddbe44d1512e55693446753').addClass('fa-stop').removeClass('fa-square-o')\"\n",
       "                            onmouseleave=\"$('#status_localhost_09dab2c48ddbe44d1512e55693446753').addClass('fa-square-o').removeClass('fa-stop')\"\n",
       "                            onclick=\"kill_task('09dab2c48ddbe44d1512e55693446753', 'localhost')\"\n",
       "                        ></i> </td>\n",
       "                        <td style=\"border:0px\"><a onclick=\"task_info('09dab2c48ddbe44d1512e55693446753', 'localhost')\"><pre>09dab2c48ddbe44d1512e55693446753</pre></a></td>\n",
       "                        <td style=\"border:0px\">&nbsp;</td>\n",
       "                        <td style=\"border:0px;text-align=right;\">\n",
       "                        <pre><time id=\"duration_localhost_09dab2c48ddbe44d1512e55693446753\" datetime=\"1503608541419.5369\">0 sec</time></pre></td>\n",
       "                        </tr>\n",
       "                        </table>"
      ]
     },
     "metadata": {},
     "output_type": "display_data"
    },
    {
     "data": {
      "text/html": [
       "<table id=\"table_localhost_28c5024db8a9fde4528acf792ceb51c0\" style=\"border: 0px\"><tr style=\"border: 0px\">\n",
       "                        <td style=\"border: 0px\">\n",
       "                        <i id=\"status_localhost_28c5024db8a9fde4528acf792ceb51c0\"\n",
       "                            class=\"fa fa-2x fa-fw fa-square-o\"\n",
       "                            onmouseover=\"$('#status_localhost_28c5024db8a9fde4528acf792ceb51c0').addClass('fa-stop').removeClass('fa-square-o')\"\n",
       "                            onmouseleave=\"$('#status_localhost_28c5024db8a9fde4528acf792ceb51c0').addClass('fa-square-o').removeClass('fa-stop')\"\n",
       "                            onclick=\"kill_task('28c5024db8a9fde4528acf792ceb51c0', 'localhost')\"\n",
       "                        ></i> </td>\n",
       "                        <td style=\"border:0px\"><a onclick=\"task_info('28c5024db8a9fde4528acf792ceb51c0', 'localhost')\"><pre>28c5024db8a9fde4528acf792ceb51c0</pre></a></td>\n",
       "                        <td style=\"border:0px\">&nbsp;</td>\n",
       "                        <td style=\"border:0px;text-align=right;\">\n",
       "                        <pre><time id=\"duration_localhost_28c5024db8a9fde4528acf792ceb51c0\" datetime=\"1503608541419.966\">0 sec</time></pre></td>\n",
       "                        </tr>\n",
       "                        </table>"
      ]
     },
     "metadata": {},
     "output_type": "display_data"
    },
    {
     "data": {
      "text/html": [
       "<table id=\"table_localhost_b496d09af1377782da9915c8f07153ac\" style=\"border: 0px\"><tr style=\"border: 0px\">\n",
       "                        <td style=\"border: 0px\">\n",
       "                        <i id=\"status_localhost_b496d09af1377782da9915c8f07153ac\"\n",
       "                            class=\"fa fa-2x fa-fw fa-square-o\"\n",
       "                            onmouseover=\"$('#status_localhost_b496d09af1377782da9915c8f07153ac').addClass('fa-stop').removeClass('fa-square-o')\"\n",
       "                            onmouseleave=\"$('#status_localhost_b496d09af1377782da9915c8f07153ac').addClass('fa-square-o').removeClass('fa-stop')\"\n",
       "                            onclick=\"kill_task('b496d09af1377782da9915c8f07153ac', 'localhost')\"\n",
       "                        ></i> </td>\n",
       "                        <td style=\"border:0px\"><a onclick=\"task_info('b496d09af1377782da9915c8f07153ac', 'localhost')\"><pre>b496d09af1377782da9915c8f07153ac</pre></a></td>\n",
       "                        <td style=\"border:0px\">&nbsp;</td>\n",
       "                        <td style=\"border:0px;text-align=right;\">\n",
       "                        <pre><time id=\"duration_localhost_b496d09af1377782da9915c8f07153ac\" datetime=\"1503608541420.3872\">0 sec</time></pre></td>\n",
       "                        </tr>\n",
       "                        </table>"
      ]
     },
     "metadata": {},
     "output_type": "display_data"
    },
    {
     "data": {
      "text/html": [
       "<table id=\"table_localhost_0af95092f7288aa26471a091d03e0da0\" style=\"border: 0px\"><tr style=\"border: 0px\">\n",
       "                        <td style=\"border: 0px\">\n",
       "                        <i id=\"status_localhost_0af95092f7288aa26471a091d03e0da0\"\n",
       "                            class=\"fa fa-2x fa-fw fa-square-o\"\n",
       "                            onmouseover=\"$('#status_localhost_0af95092f7288aa26471a091d03e0da0').addClass('fa-stop').removeClass('fa-square-o')\"\n",
       "                            onmouseleave=\"$('#status_localhost_0af95092f7288aa26471a091d03e0da0').addClass('fa-square-o').removeClass('fa-stop')\"\n",
       "                            onclick=\"kill_task('0af95092f7288aa26471a091d03e0da0', 'localhost')\"\n",
       "                        ></i> </td>\n",
       "                        <td style=\"border:0px\"><a onclick=\"task_info('0af95092f7288aa26471a091d03e0da0', 'localhost')\"><pre>0af95092f7288aa26471a091d03e0da0</pre></a></td>\n",
       "                        <td style=\"border:0px\">&nbsp;</td>\n",
       "                        <td style=\"border:0px;text-align=right;\">\n",
       "                        <pre><time id=\"duration_localhost_0af95092f7288aa26471a091d03e0da0\" datetime=\"1503608541420.7708\">0 sec</time></pre></td>\n",
       "                        </tr>\n",
       "                        </table>"
      ]
     },
     "metadata": {},
     "output_type": "display_data"
    },
    {
     "data": {
      "text/html": [
       "<table id=\"table_localhost_2c7b781b767b6461ca3ccefc88bced00\" style=\"border: 0px\"><tr style=\"border: 0px\">\n",
       "                        <td style=\"border: 0px\">\n",
       "                        <i id=\"status_localhost_2c7b781b767b6461ca3ccefc88bced00\"\n",
       "                            class=\"fa fa-2x fa-fw fa-square-o\"\n",
       "                            onmouseover=\"$('#status_localhost_2c7b781b767b6461ca3ccefc88bced00').addClass('fa-stop').removeClass('fa-square-o')\"\n",
       "                            onmouseleave=\"$('#status_localhost_2c7b781b767b6461ca3ccefc88bced00').addClass('fa-square-o').removeClass('fa-stop')\"\n",
       "                            onclick=\"kill_task('2c7b781b767b6461ca3ccefc88bced00', 'localhost')\"\n",
       "                        ></i> </td>\n",
       "                        <td style=\"border:0px\"><a onclick=\"task_info('2c7b781b767b6461ca3ccefc88bced00', 'localhost')\"><pre>2c7b781b767b6461ca3ccefc88bced00</pre></a></td>\n",
       "                        <td style=\"border:0px\">&nbsp;</td>\n",
       "                        <td style=\"border:0px;text-align=right;\">\n",
       "                        <pre><time id=\"duration_localhost_2c7b781b767b6461ca3ccefc88bced00\" datetime=\"1503608541421.2136\">0 sec</time></pre></td>\n",
       "                        </tr>\n",
       "                        </table>"
      ]
     },
     "metadata": {},
     "output_type": "display_data"
    },
    {
     "data": {
      "text/html": [
       "<table id=\"table_localhost_555cdc44dbda1d08e3536c69093ff613\" style=\"border: 0px\"><tr style=\"border: 0px\">\n",
       "                        <td style=\"border: 0px\">\n",
       "                        <i id=\"status_localhost_555cdc44dbda1d08e3536c69093ff613\"\n",
       "                            class=\"fa fa-2x fa-fw fa-square-o\"\n",
       "                            onmouseover=\"$('#status_localhost_555cdc44dbda1d08e3536c69093ff613').addClass('fa-stop').removeClass('fa-square-o')\"\n",
       "                            onmouseleave=\"$('#status_localhost_555cdc44dbda1d08e3536c69093ff613').addClass('fa-square-o').removeClass('fa-stop')\"\n",
       "                            onclick=\"kill_task('555cdc44dbda1d08e3536c69093ff613', 'localhost')\"\n",
       "                        ></i> </td>\n",
       "                        <td style=\"border:0px\"><a onclick=\"task_info('555cdc44dbda1d08e3536c69093ff613', 'localhost')\"><pre>555cdc44dbda1d08e3536c69093ff613</pre></a></td>\n",
       "                        <td style=\"border:0px\">&nbsp;</td>\n",
       "                        <td style=\"border:0px;text-align=right;\">\n",
       "                        <pre><time id=\"duration_localhost_555cdc44dbda1d08e3536c69093ff613\" datetime=\"1503608541421.594\">0 sec</time></pre></td>\n",
       "                        </tr>\n",
       "                        </table>"
      ]
     },
     "metadata": {},
     "output_type": "display_data"
    },
    {
     "data": {
      "text/html": [
       "<table id=\"table_localhost_7dd6962c11594ea3b27070903f3d5b5b\" style=\"border: 0px\"><tr style=\"border: 0px\">\n",
       "                        <td style=\"border: 0px\">\n",
       "                        <i id=\"status_localhost_7dd6962c11594ea3b27070903f3d5b5b\"\n",
       "                            class=\"fa fa-2x fa-fw fa-square-o\"\n",
       "                            onmouseover=\"$('#status_localhost_7dd6962c11594ea3b27070903f3d5b5b').addClass('fa-stop').removeClass('fa-square-o')\"\n",
       "                            onmouseleave=\"$('#status_localhost_7dd6962c11594ea3b27070903f3d5b5b').addClass('fa-square-o').removeClass('fa-stop')\"\n",
       "                            onclick=\"kill_task('7dd6962c11594ea3b27070903f3d5b5b', 'localhost')\"\n",
       "                        ></i> </td>\n",
       "                        <td style=\"border:0px\"><a onclick=\"task_info('7dd6962c11594ea3b27070903f3d5b5b', 'localhost')\"><pre>7dd6962c11594ea3b27070903f3d5b5b</pre></a></td>\n",
       "                        <td style=\"border:0px\">&nbsp;</td>\n",
       "                        <td style=\"border:0px;text-align=right;\">\n",
       "                        <pre><time id=\"duration_localhost_7dd6962c11594ea3b27070903f3d5b5b\" datetime=\"1503608541422.068\">0 sec</time></pre></td>\n",
       "                        </tr>\n",
       "                        </table>"
      ]
     },
     "metadata": {},
     "output_type": "display_data"
    },
    {
     "data": {
      "text/html": [
       "<table id=\"table_localhost_5e7822af3a6bb9f438d2af465f814db4\" style=\"border: 0px\"><tr style=\"border: 0px\">\n",
       "                        <td style=\"border: 0px\">\n",
       "                        <i id=\"status_localhost_5e7822af3a6bb9f438d2af465f814db4\"\n",
       "                            class=\"fa fa-2x fa-fw fa-square-o\"\n",
       "                            onmouseover=\"$('#status_localhost_5e7822af3a6bb9f438d2af465f814db4').addClass('fa-stop').removeClass('fa-square-o')\"\n",
       "                            onmouseleave=\"$('#status_localhost_5e7822af3a6bb9f438d2af465f814db4').addClass('fa-square-o').removeClass('fa-stop')\"\n",
       "                            onclick=\"kill_task('5e7822af3a6bb9f438d2af465f814db4', 'localhost')\"\n",
       "                        ></i> </td>\n",
       "                        <td style=\"border:0px\"><a onclick=\"task_info('5e7822af3a6bb9f438d2af465f814db4', 'localhost')\"><pre>5e7822af3a6bb9f438d2af465f814db4</pre></a></td>\n",
       "                        <td style=\"border:0px\">&nbsp;</td>\n",
       "                        <td style=\"border:0px;text-align=right;\">\n",
       "                        <pre><time id=\"duration_localhost_5e7822af3a6bb9f438d2af465f814db4\" datetime=\"1503608541422.5312\">0 sec</time></pre></td>\n",
       "                        </tr>\n",
       "                        </table>"
      ]
     },
     "metadata": {},
     "output_type": "display_data"
    },
    {
     "data": {
      "text/html": [
       "<table id=\"table_localhost_15a244ac1ad854e94e41dd1542f7e293\" style=\"border: 0px\"><tr style=\"border: 0px\">\n",
       "                        <td style=\"border: 0px\">\n",
       "                        <i id=\"status_localhost_15a244ac1ad854e94e41dd1542f7e293\"\n",
       "                            class=\"fa fa-2x fa-fw fa-square-o\"\n",
       "                            onmouseover=\"$('#status_localhost_15a244ac1ad854e94e41dd1542f7e293').addClass('fa-stop').removeClass('fa-square-o')\"\n",
       "                            onmouseleave=\"$('#status_localhost_15a244ac1ad854e94e41dd1542f7e293').addClass('fa-square-o').removeClass('fa-stop')\"\n",
       "                            onclick=\"kill_task('15a244ac1ad854e94e41dd1542f7e293', 'localhost')\"\n",
       "                        ></i> </td>\n",
       "                        <td style=\"border:0px\"><a onclick=\"task_info('15a244ac1ad854e94e41dd1542f7e293', 'localhost')\"><pre>15a244ac1ad854e94e41dd1542f7e293</pre></a></td>\n",
       "                        <td style=\"border:0px\">&nbsp;</td>\n",
       "                        <td style=\"border:0px;text-align=right;\">\n",
       "                        <pre><time id=\"duration_localhost_15a244ac1ad854e94e41dd1542f7e293\" datetime=\"1503608541422.9617\">0 sec</time></pre></td>\n",
       "                        </tr>\n",
       "                        </table>"
      ]
     },
     "metadata": {},
     "output_type": "display_data"
    },
    {
     "data": {
      "text/html": [
       "<table id=\"table_localhost_eadd67b1172443c3990a056f02c382fa\" style=\"border: 0px\"><tr style=\"border: 0px\">\n",
       "                        <td style=\"border: 0px\">\n",
       "                        <i id=\"status_localhost_eadd67b1172443c3990a056f02c382fa\"\n",
       "                            class=\"fa fa-2x fa-fw fa-square-o\"\n",
       "                            onmouseover=\"$('#status_localhost_eadd67b1172443c3990a056f02c382fa').addClass('fa-stop').removeClass('fa-square-o')\"\n",
       "                            onmouseleave=\"$('#status_localhost_eadd67b1172443c3990a056f02c382fa').addClass('fa-square-o').removeClass('fa-stop')\"\n",
       "                            onclick=\"kill_task('eadd67b1172443c3990a056f02c382fa', 'localhost')\"\n",
       "                        ></i> </td>\n",
       "                        <td style=\"border:0px\"><a onclick=\"task_info('eadd67b1172443c3990a056f02c382fa', 'localhost')\"><pre>eadd67b1172443c3990a056f02c382fa</pre></a></td>\n",
       "                        <td style=\"border:0px\">&nbsp;</td>\n",
       "                        <td style=\"border:0px;text-align=right;\">\n",
       "                        <pre><time id=\"duration_localhost_eadd67b1172443c3990a056f02c382fa\" datetime=\"1503608541423.3274\">0 sec</time></pre></td>\n",
       "                        </tr>\n",
       "                        </table>"
      ]
     },
     "metadata": {},
     "output_type": "display_data"
    },
    {
     "data": {
      "text/html": [
       "<table id=\"table_localhost_3bf4b1363e78b9c763a106bf2a8990b3\" style=\"border: 0px\"><tr style=\"border: 0px\">\n",
       "                        <td style=\"border: 0px\">\n",
       "                        <i id=\"status_localhost_3bf4b1363e78b9c763a106bf2a8990b3\"\n",
       "                            class=\"fa fa-2x fa-fw fa-square-o\"\n",
       "                            onmouseover=\"$('#status_localhost_3bf4b1363e78b9c763a106bf2a8990b3').addClass('fa-stop').removeClass('fa-square-o')\"\n",
       "                            onmouseleave=\"$('#status_localhost_3bf4b1363e78b9c763a106bf2a8990b3').addClass('fa-square-o').removeClass('fa-stop')\"\n",
       "                            onclick=\"kill_task('3bf4b1363e78b9c763a106bf2a8990b3', 'localhost')\"\n",
       "                        ></i> </td>\n",
       "                        <td style=\"border:0px\"><a onclick=\"task_info('3bf4b1363e78b9c763a106bf2a8990b3', 'localhost')\"><pre>3bf4b1363e78b9c763a106bf2a8990b3</pre></a></td>\n",
       "                        <td style=\"border:0px\">&nbsp;</td>\n",
       "                        <td style=\"border:0px;text-align=right;\">\n",
       "                        <pre><time id=\"duration_localhost_3bf4b1363e78b9c763a106bf2a8990b3\" datetime=\"1503608541423.6582\">0 sec</time></pre></td>\n",
       "                        </tr>\n",
       "                        </table>"
      ]
     },
     "metadata": {},
     "output_type": "display_data"
    },
    {
     "data": {
      "text/html": [
       "<table id=\"table_localhost_09df5deb34d42e6a94986e8657ac826c\" style=\"border: 0px\"><tr style=\"border: 0px\">\n",
       "                        <td style=\"border: 0px\">\n",
       "                        <i id=\"status_localhost_09df5deb34d42e6a94986e8657ac826c\"\n",
       "                            class=\"fa fa-2x fa-fw fa-square-o\"\n",
       "                            onmouseover=\"$('#status_localhost_09df5deb34d42e6a94986e8657ac826c').addClass('fa-stop').removeClass('fa-square-o')\"\n",
       "                            onmouseleave=\"$('#status_localhost_09df5deb34d42e6a94986e8657ac826c').addClass('fa-square-o').removeClass('fa-stop')\"\n",
       "                            onclick=\"kill_task('09df5deb34d42e6a94986e8657ac826c', 'localhost')\"\n",
       "                        ></i> </td>\n",
       "                        <td style=\"border:0px\"><a onclick=\"task_info('09df5deb34d42e6a94986e8657ac826c', 'localhost')\"><pre>09df5deb34d42e6a94986e8657ac826c</pre></a></td>\n",
       "                        <td style=\"border:0px\">&nbsp;</td>\n",
       "                        <td style=\"border:0px;text-align=right;\">\n",
       "                        <pre><time id=\"duration_localhost_09df5deb34d42e6a94986e8657ac826c\" datetime=\"1503608541424.0908\">0 sec</time></pre></td>\n",
       "                        </tr>\n",
       "                        </table>"
      ]
     },
     "metadata": {},
     "output_type": "display_data"
    },
    {
     "data": {
      "text/html": [
       "<table id=\"table_localhost_36d165c947c9cfde576dc5ed044a1d02\" style=\"border: 0px\"><tr style=\"border: 0px\">\n",
       "                        <td style=\"border: 0px\">\n",
       "                        <i id=\"status_localhost_36d165c947c9cfde576dc5ed044a1d02\"\n",
       "                            class=\"fa fa-2x fa-fw fa-square-o\"\n",
       "                            onmouseover=\"$('#status_localhost_36d165c947c9cfde576dc5ed044a1d02').addClass('fa-stop').removeClass('fa-square-o')\"\n",
       "                            onmouseleave=\"$('#status_localhost_36d165c947c9cfde576dc5ed044a1d02').addClass('fa-square-o').removeClass('fa-stop')\"\n",
       "                            onclick=\"kill_task('36d165c947c9cfde576dc5ed044a1d02', 'localhost')\"\n",
       "                        ></i> </td>\n",
       "                        <td style=\"border:0px\"><a onclick=\"task_info('36d165c947c9cfde576dc5ed044a1d02', 'localhost')\"><pre>36d165c947c9cfde576dc5ed044a1d02</pre></a></td>\n",
       "                        <td style=\"border:0px\">&nbsp;</td>\n",
       "                        <td style=\"border:0px;text-align=right;\">\n",
       "                        <pre><time id=\"duration_localhost_36d165c947c9cfde576dc5ed044a1d02\" datetime=\"1503608541424.5515\">0 sec</time></pre></td>\n",
       "                        </tr>\n",
       "                        </table>"
      ]
     },
     "metadata": {},
     "output_type": "display_data"
    },
    {
     "data": {
      "text/html": [
       "<table id=\"table_localhost_dfddee209c0e3b47466153ce6b7b7957\" style=\"border: 0px\"><tr style=\"border: 0px\">\n",
       "                        <td style=\"border: 0px\">\n",
       "                        <i id=\"status_localhost_dfddee209c0e3b47466153ce6b7b7957\"\n",
       "                            class=\"fa fa-2x fa-fw fa-square-o\"\n",
       "                            onmouseover=\"$('#status_localhost_dfddee209c0e3b47466153ce6b7b7957').addClass('fa-stop').removeClass('fa-square-o')\"\n",
       "                            onmouseleave=\"$('#status_localhost_dfddee209c0e3b47466153ce6b7b7957').addClass('fa-square-o').removeClass('fa-stop')\"\n",
       "                            onclick=\"kill_task('dfddee209c0e3b47466153ce6b7b7957', 'localhost')\"\n",
       "                        ></i> </td>\n",
       "                        <td style=\"border:0px\"><a onclick=\"task_info('dfddee209c0e3b47466153ce6b7b7957', 'localhost')\"><pre>dfddee209c0e3b47466153ce6b7b7957</pre></a></td>\n",
       "                        <td style=\"border:0px\">&nbsp;</td>\n",
       "                        <td style=\"border:0px;text-align=right;\">\n",
       "                        <pre><time id=\"duration_localhost_dfddee209c0e3b47466153ce6b7b7957\" datetime=\"1503608541424.98\">0 sec</time></pre></td>\n",
       "                        </tr>\n",
       "                        </table>"
      ]
     },
     "metadata": {},
     "output_type": "display_data"
    },
    {
     "data": {
      "text/html": [
       "<table id=\"table_localhost_a11f3b16a5d3f4d69600698d81bf9364\" style=\"border: 0px\"><tr style=\"border: 0px\">\n",
       "                        <td style=\"border: 0px\">\n",
       "                        <i id=\"status_localhost_a11f3b16a5d3f4d69600698d81bf9364\"\n",
       "                            class=\"fa fa-2x fa-fw fa-square-o\"\n",
       "                            onmouseover=\"$('#status_localhost_a11f3b16a5d3f4d69600698d81bf9364').addClass('fa-stop').removeClass('fa-square-o')\"\n",
       "                            onmouseleave=\"$('#status_localhost_a11f3b16a5d3f4d69600698d81bf9364').addClass('fa-square-o').removeClass('fa-stop')\"\n",
       "                            onclick=\"kill_task('a11f3b16a5d3f4d69600698d81bf9364', 'localhost')\"\n",
       "                        ></i> </td>\n",
       "                        <td style=\"border:0px\"><a onclick=\"task_info('a11f3b16a5d3f4d69600698d81bf9364', 'localhost')\"><pre>a11f3b16a5d3f4d69600698d81bf9364</pre></a></td>\n",
       "                        <td style=\"border:0px\">&nbsp;</td>\n",
       "                        <td style=\"border:0px;text-align=right;\">\n",
       "                        <pre><time id=\"duration_localhost_a11f3b16a5d3f4d69600698d81bf9364\" datetime=\"1503608541425.262\">0 sec</time></pre></td>\n",
       "                        </tr>\n",
       "                        </table>"
      ]
     },
     "metadata": {},
     "output_type": "display_data"
    },
    {
     "data": {
      "text/html": [
       "<table id=\"table_localhost_c121d1a935b35c331967af10b0dbba40\" style=\"border: 0px\"><tr style=\"border: 0px\">\n",
       "                        <td style=\"border: 0px\">\n",
       "                        <i id=\"status_localhost_c121d1a935b35c331967af10b0dbba40\"\n",
       "                            class=\"fa fa-2x fa-fw fa-square-o\"\n",
       "                            onmouseover=\"$('#status_localhost_c121d1a935b35c331967af10b0dbba40').addClass('fa-stop').removeClass('fa-square-o')\"\n",
       "                            onmouseleave=\"$('#status_localhost_c121d1a935b35c331967af10b0dbba40').addClass('fa-square-o').removeClass('fa-stop')\"\n",
       "                            onclick=\"kill_task('c121d1a935b35c331967af10b0dbba40', 'localhost')\"\n",
       "                        ></i> </td>\n",
       "                        <td style=\"border:0px\"><a onclick=\"task_info('c121d1a935b35c331967af10b0dbba40', 'localhost')\"><pre>c121d1a935b35c331967af10b0dbba40</pre></a></td>\n",
       "                        <td style=\"border:0px\">&nbsp;</td>\n",
       "                        <td style=\"border:0px;text-align=right;\">\n",
       "                        <pre><time id=\"duration_localhost_c121d1a935b35c331967af10b0dbba40\" datetime=\"1503608541425.6362\">0 sec</time></pre></td>\n",
       "                        </tr>\n",
       "                        </table>"
      ]
     },
     "metadata": {},
     "output_type": "display_data"
    },
    {
     "data": {
      "text/html": [
       "<table id=\"table_localhost_6addafeb4ef8ca8ad90f94fc9dfcaf2c\" style=\"border: 0px\"><tr style=\"border: 0px\">\n",
       "                        <td style=\"border: 0px\">\n",
       "                        <i id=\"status_localhost_6addafeb4ef8ca8ad90f94fc9dfcaf2c\"\n",
       "                            class=\"fa fa-2x fa-fw fa-square-o\"\n",
       "                            onmouseover=\"$('#status_localhost_6addafeb4ef8ca8ad90f94fc9dfcaf2c').addClass('fa-stop').removeClass('fa-square-o')\"\n",
       "                            onmouseleave=\"$('#status_localhost_6addafeb4ef8ca8ad90f94fc9dfcaf2c').addClass('fa-square-o').removeClass('fa-stop')\"\n",
       "                            onclick=\"kill_task('6addafeb4ef8ca8ad90f94fc9dfcaf2c', 'localhost')\"\n",
       "                        ></i> </td>\n",
       "                        <td style=\"border:0px\"><a onclick=\"task_info('6addafeb4ef8ca8ad90f94fc9dfcaf2c', 'localhost')\"><pre>6addafeb4ef8ca8ad90f94fc9dfcaf2c</pre></a></td>\n",
       "                        <td style=\"border:0px\">&nbsp;</td>\n",
       "                        <td style=\"border:0px;text-align=right;\">\n",
       "                        <pre><time id=\"duration_localhost_6addafeb4ef8ca8ad90f94fc9dfcaf2c\" datetime=\"1503608541426.0146\">0 sec</time></pre></td>\n",
       "                        </tr>\n",
       "                        </table>"
      ]
     },
     "metadata": {},
     "output_type": "display_data"
    },
    {
     "data": {
      "text/html": [
       "<table id=\"table_localhost_a3be685826ab7840786b4000169760a9\" style=\"border: 0px\"><tr style=\"border: 0px\">\n",
       "                        <td style=\"border: 0px\">\n",
       "                        <i id=\"status_localhost_a3be685826ab7840786b4000169760a9\"\n",
       "                            class=\"fa fa-2x fa-fw fa-square-o\"\n",
       "                            onmouseover=\"$('#status_localhost_a3be685826ab7840786b4000169760a9').addClass('fa-stop').removeClass('fa-square-o')\"\n",
       "                            onmouseleave=\"$('#status_localhost_a3be685826ab7840786b4000169760a9').addClass('fa-square-o').removeClass('fa-stop')\"\n",
       "                            onclick=\"kill_task('a3be685826ab7840786b4000169760a9', 'localhost')\"\n",
       "                        ></i> </td>\n",
       "                        <td style=\"border:0px\"><a onclick=\"task_info('a3be685826ab7840786b4000169760a9', 'localhost')\"><pre>a3be685826ab7840786b4000169760a9</pre></a></td>\n",
       "                        <td style=\"border:0px\">&nbsp;</td>\n",
       "                        <td style=\"border:0px;text-align=right;\">\n",
       "                        <pre><time id=\"duration_localhost_a3be685826ab7840786b4000169760a9\" datetime=\"1503608541426.3264\">0 sec</time></pre></td>\n",
       "                        </tr>\n",
       "                        </table>"
      ]
     },
     "metadata": {},
     "output_type": "display_data"
    },
    {
     "data": {
      "text/html": [
       "<table id=\"table_localhost_58c660199f40388b44d6ea20fd29ffa0\" style=\"border: 0px\"><tr style=\"border: 0px\">\n",
       "                        <td style=\"border: 0px\">\n",
       "                        <i id=\"status_localhost_58c660199f40388b44d6ea20fd29ffa0\"\n",
       "                            class=\"fa fa-2x fa-fw fa-square-o\"\n",
       "                            onmouseover=\"$('#status_localhost_58c660199f40388b44d6ea20fd29ffa0').addClass('fa-stop').removeClass('fa-square-o')\"\n",
       "                            onmouseleave=\"$('#status_localhost_58c660199f40388b44d6ea20fd29ffa0').addClass('fa-square-o').removeClass('fa-stop')\"\n",
       "                            onclick=\"kill_task('58c660199f40388b44d6ea20fd29ffa0', 'localhost')\"\n",
       "                        ></i> </td>\n",
       "                        <td style=\"border:0px\"><a onclick=\"task_info('58c660199f40388b44d6ea20fd29ffa0', 'localhost')\"><pre>58c660199f40388b44d6ea20fd29ffa0</pre></a></td>\n",
       "                        <td style=\"border:0px\">&nbsp;</td>\n",
       "                        <td style=\"border:0px;text-align=right;\">\n",
       "                        <pre><time id=\"duration_localhost_58c660199f40388b44d6ea20fd29ffa0\" datetime=\"1503608541426.7366\">0 sec</time></pre></td>\n",
       "                        </tr>\n",
       "                        </table>"
      ]
     },
     "metadata": {},
     "output_type": "display_data"
    },
    {
     "data": {
      "text/html": [
       "<table id=\"table_localhost_e41ccfada8f5299f1b318afc30c9648b\" style=\"border: 0px\"><tr style=\"border: 0px\">\n",
       "                        <td style=\"border: 0px\">\n",
       "                        <i id=\"status_localhost_e41ccfada8f5299f1b318afc30c9648b\"\n",
       "                            class=\"fa fa-2x fa-fw fa-square-o\"\n",
       "                            onmouseover=\"$('#status_localhost_e41ccfada8f5299f1b318afc30c9648b').addClass('fa-stop').removeClass('fa-square-o')\"\n",
       "                            onmouseleave=\"$('#status_localhost_e41ccfada8f5299f1b318afc30c9648b').addClass('fa-square-o').removeClass('fa-stop')\"\n",
       "                            onclick=\"kill_task('e41ccfada8f5299f1b318afc30c9648b', 'localhost')\"\n",
       "                        ></i> </td>\n",
       "                        <td style=\"border:0px\"><a onclick=\"task_info('e41ccfada8f5299f1b318afc30c9648b', 'localhost')\"><pre>e41ccfada8f5299f1b318afc30c9648b</pre></a></td>\n",
       "                        <td style=\"border:0px\">&nbsp;</td>\n",
       "                        <td style=\"border:0px;text-align=right;\">\n",
       "                        <pre><time id=\"duration_localhost_e41ccfada8f5299f1b318afc30c9648b\" datetime=\"1503608541427.16\">0 sec</time></pre></td>\n",
       "                        </tr>\n",
       "                        </table>"
      ]
     },
     "metadata": {},
     "output_type": "display_data"
    },
    {
     "data": {
      "text/html": [
       "<table id=\"table_localhost_d4b63c00ad393fda1b177148d709ec21\" style=\"border: 0px\"><tr style=\"border: 0px\">\n",
       "                        <td style=\"border: 0px\">\n",
       "                        <i id=\"status_localhost_d4b63c00ad393fda1b177148d709ec21\"\n",
       "                            class=\"fa fa-2x fa-fw fa-square-o\"\n",
       "                            onmouseover=\"$('#status_localhost_d4b63c00ad393fda1b177148d709ec21').addClass('fa-stop').removeClass('fa-square-o')\"\n",
       "                            onmouseleave=\"$('#status_localhost_d4b63c00ad393fda1b177148d709ec21').addClass('fa-square-o').removeClass('fa-stop')\"\n",
       "                            onclick=\"kill_task('d4b63c00ad393fda1b177148d709ec21', 'localhost')\"\n",
       "                        ></i> </td>\n",
       "                        <td style=\"border:0px\"><a onclick=\"task_info('d4b63c00ad393fda1b177148d709ec21', 'localhost')\"><pre>d4b63c00ad393fda1b177148d709ec21</pre></a></td>\n",
       "                        <td style=\"border:0px\">&nbsp;</td>\n",
       "                        <td style=\"border:0px;text-align=right;\">\n",
       "                        <pre><time id=\"duration_localhost_d4b63c00ad393fda1b177148d709ec21\" datetime=\"1503608541427.613\">0 sec</time></pre></td>\n",
       "                        </tr>\n",
       "                        </table>"
      ]
     },
     "metadata": {},
     "output_type": "display_data"
    },
    {
     "data": {
      "text/html": [
       "<table id=\"table_localhost_149279cfd3c862a7135374362be904b9\" style=\"border: 0px\"><tr style=\"border: 0px\">\n",
       "                        <td style=\"border: 0px\">\n",
       "                        <i id=\"status_localhost_149279cfd3c862a7135374362be904b9\"\n",
       "                            class=\"fa fa-2x fa-fw fa-square-o\"\n",
       "                            onmouseover=\"$('#status_localhost_149279cfd3c862a7135374362be904b9').addClass('fa-stop').removeClass('fa-square-o')\"\n",
       "                            onmouseleave=\"$('#status_localhost_149279cfd3c862a7135374362be904b9').addClass('fa-square-o').removeClass('fa-stop')\"\n",
       "                            onclick=\"kill_task('149279cfd3c862a7135374362be904b9', 'localhost')\"\n",
       "                        ></i> </td>\n",
       "                        <td style=\"border:0px\"><a onclick=\"task_info('149279cfd3c862a7135374362be904b9', 'localhost')\"><pre>149279cfd3c862a7135374362be904b9</pre></a></td>\n",
       "                        <td style=\"border:0px\">&nbsp;</td>\n",
       "                        <td style=\"border:0px;text-align=right;\">\n",
       "                        <pre><time id=\"duration_localhost_149279cfd3c862a7135374362be904b9\" datetime=\"1503608541427.9414\">0 sec</time></pre></td>\n",
       "                        </tr>\n",
       "                        </table>"
      ]
     },
     "metadata": {},
     "output_type": "display_data"
    },
    {
     "data": {
      "text/html": [
       "<table id=\"table_localhost_c48a6ba3351cc55cc10817af2f4a2261\" style=\"border: 0px\"><tr style=\"border: 0px\">\n",
       "                        <td style=\"border: 0px\">\n",
       "                        <i id=\"status_localhost_c48a6ba3351cc55cc10817af2f4a2261\"\n",
       "                            class=\"fa fa-2x fa-fw fa-square-o\"\n",
       "                            onmouseover=\"$('#status_localhost_c48a6ba3351cc55cc10817af2f4a2261').addClass('fa-stop').removeClass('fa-square-o')\"\n",
       "                            onmouseleave=\"$('#status_localhost_c48a6ba3351cc55cc10817af2f4a2261').addClass('fa-square-o').removeClass('fa-stop')\"\n",
       "                            onclick=\"kill_task('c48a6ba3351cc55cc10817af2f4a2261', 'localhost')\"\n",
       "                        ></i> </td>\n",
       "                        <td style=\"border:0px\"><a onclick=\"task_info('c48a6ba3351cc55cc10817af2f4a2261', 'localhost')\"><pre>c48a6ba3351cc55cc10817af2f4a2261</pre></a></td>\n",
       "                        <td style=\"border:0px\">&nbsp;</td>\n",
       "                        <td style=\"border:0px;text-align=right;\">\n",
       "                        <pre><time id=\"duration_localhost_c48a6ba3351cc55cc10817af2f4a2261\" datetime=\"1503608541428.5525\">0 sec</time></pre></td>\n",
       "                        </tr>\n",
       "                        </table>"
      ]
     },
     "metadata": {},
     "output_type": "display_data"
    },
    {
     "data": {
      "text/html": [
       "<table id=\"table_localhost_1b5571c3a9510b6e28606c64cf71d82b\" style=\"border: 0px\"><tr style=\"border: 0px\">\n",
       "                        <td style=\"border: 0px\">\n",
       "                        <i id=\"status_localhost_1b5571c3a9510b6e28606c64cf71d82b\"\n",
       "                            class=\"fa fa-2x fa-fw fa-square-o\"\n",
       "                            onmouseover=\"$('#status_localhost_1b5571c3a9510b6e28606c64cf71d82b').addClass('fa-stop').removeClass('fa-square-o')\"\n",
       "                            onmouseleave=\"$('#status_localhost_1b5571c3a9510b6e28606c64cf71d82b').addClass('fa-square-o').removeClass('fa-stop')\"\n",
       "                            onclick=\"kill_task('1b5571c3a9510b6e28606c64cf71d82b', 'localhost')\"\n",
       "                        ></i> </td>\n",
       "                        <td style=\"border:0px\"><a onclick=\"task_info('1b5571c3a9510b6e28606c64cf71d82b', 'localhost')\"><pre>1b5571c3a9510b6e28606c64cf71d82b</pre></a></td>\n",
       "                        <td style=\"border:0px\">&nbsp;</td>\n",
       "                        <td style=\"border:0px;text-align=right;\">\n",
       "                        <pre><time id=\"duration_localhost_1b5571c3a9510b6e28606c64cf71d82b\" datetime=\"1503608541428.9368\">0 sec</time></pre></td>\n",
       "                        </tr>\n",
       "                        </table>"
      ]
     },
     "metadata": {},
     "output_type": "display_data"
    },
    {
     "data": {
      "text/html": [
       "<table id=\"table_localhost_32cf876feeb7f03a9bd278cf01566426\" style=\"border: 0px\"><tr style=\"border: 0px\">\n",
       "                        <td style=\"border: 0px\">\n",
       "                        <i id=\"status_localhost_32cf876feeb7f03a9bd278cf01566426\"\n",
       "                            class=\"fa fa-2x fa-fw fa-square-o\"\n",
       "                            onmouseover=\"$('#status_localhost_32cf876feeb7f03a9bd278cf01566426').addClass('fa-stop').removeClass('fa-square-o')\"\n",
       "                            onmouseleave=\"$('#status_localhost_32cf876feeb7f03a9bd278cf01566426').addClass('fa-square-o').removeClass('fa-stop')\"\n",
       "                            onclick=\"kill_task('32cf876feeb7f03a9bd278cf01566426', 'localhost')\"\n",
       "                        ></i> </td>\n",
       "                        <td style=\"border:0px\"><a onclick=\"task_info('32cf876feeb7f03a9bd278cf01566426', 'localhost')\"><pre>32cf876feeb7f03a9bd278cf01566426</pre></a></td>\n",
       "                        <td style=\"border:0px\">&nbsp;</td>\n",
       "                        <td style=\"border:0px;text-align=right;\">\n",
       "                        <pre><time id=\"duration_localhost_32cf876feeb7f03a9bd278cf01566426\" datetime=\"1503608541429.3752\">0 sec</time></pre></td>\n",
       "                        </tr>\n",
       "                        </table>"
      ]
     },
     "metadata": {},
     "output_type": "display_data"
    },
    {
     "data": {
      "text/html": [
       "<table id=\"table_localhost_e4f04302886c3a4c2289ea75c4b0e849\" style=\"border: 0px\"><tr style=\"border: 0px\">\n",
       "                        <td style=\"border: 0px\">\n",
       "                        <i id=\"status_localhost_e4f04302886c3a4c2289ea75c4b0e849\"\n",
       "                            class=\"fa fa-2x fa-fw fa-square-o\"\n",
       "                            onmouseover=\"$('#status_localhost_e4f04302886c3a4c2289ea75c4b0e849').addClass('fa-stop').removeClass('fa-square-o')\"\n",
       "                            onmouseleave=\"$('#status_localhost_e4f04302886c3a4c2289ea75c4b0e849').addClass('fa-square-o').removeClass('fa-stop')\"\n",
       "                            onclick=\"kill_task('e4f04302886c3a4c2289ea75c4b0e849', 'localhost')\"\n",
       "                        ></i> </td>\n",
       "                        <td style=\"border:0px\"><a onclick=\"task_info('e4f04302886c3a4c2289ea75c4b0e849', 'localhost')\"><pre>e4f04302886c3a4c2289ea75c4b0e849</pre></a></td>\n",
       "                        <td style=\"border:0px\">&nbsp;</td>\n",
       "                        <td style=\"border:0px;text-align=right;\">\n",
       "                        <pre><time id=\"duration_localhost_e4f04302886c3a4c2289ea75c4b0e849\" datetime=\"1503608541429.7744\">0 sec</time></pre></td>\n",
       "                        </tr>\n",
       "                        </table>"
      ]
     },
     "metadata": {},
     "output_type": "display_data"
    },
    {
     "data": {
      "text/html": [
       "<table id=\"table_localhost_3f3551a4557fad66d7a24c1d48a49568\" style=\"border: 0px\"><tr style=\"border: 0px\">\n",
       "                        <td style=\"border: 0px\">\n",
       "                        <i id=\"status_localhost_3f3551a4557fad66d7a24c1d48a49568\"\n",
       "                            class=\"fa fa-2x fa-fw fa-square-o\"\n",
       "                            onmouseover=\"$('#status_localhost_3f3551a4557fad66d7a24c1d48a49568').addClass('fa-stop').removeClass('fa-square-o')\"\n",
       "                            onmouseleave=\"$('#status_localhost_3f3551a4557fad66d7a24c1d48a49568').addClass('fa-square-o').removeClass('fa-stop')\"\n",
       "                            onclick=\"kill_task('3f3551a4557fad66d7a24c1d48a49568', 'localhost')\"\n",
       "                        ></i> </td>\n",
       "                        <td style=\"border:0px\"><a onclick=\"task_info('3f3551a4557fad66d7a24c1d48a49568', 'localhost')\"><pre>3f3551a4557fad66d7a24c1d48a49568</pre></a></td>\n",
       "                        <td style=\"border:0px\">&nbsp;</td>\n",
       "                        <td style=\"border:0px;text-align=right;\">\n",
       "                        <pre><time id=\"duration_localhost_3f3551a4557fad66d7a24c1d48a49568\" datetime=\"1503608541434.321\">0 sec</time></pre></td>\n",
       "                        </tr>\n",
       "                        </table>"
      ]
     },
     "metadata": {},
     "output_type": "display_data"
    },
    {
     "data": {
      "text/html": [
       "<table id=\"table_localhost_982cb2e0010346aea46365db808b2d33\" style=\"border: 0px\"><tr style=\"border: 0px\">\n",
       "                        <td style=\"border: 0px\">\n",
       "                        <i id=\"status_localhost_982cb2e0010346aea46365db808b2d33\"\n",
       "                            class=\"fa fa-2x fa-fw fa-square-o\"\n",
       "                            onmouseover=\"$('#status_localhost_982cb2e0010346aea46365db808b2d33').addClass('fa-stop').removeClass('fa-square-o')\"\n",
       "                            onmouseleave=\"$('#status_localhost_982cb2e0010346aea46365db808b2d33').addClass('fa-square-o').removeClass('fa-stop')\"\n",
       "                            onclick=\"kill_task('982cb2e0010346aea46365db808b2d33', 'localhost')\"\n",
       "                        ></i> </td>\n",
       "                        <td style=\"border:0px\"><a onclick=\"task_info('982cb2e0010346aea46365db808b2d33', 'localhost')\"><pre>982cb2e0010346aea46365db808b2d33</pre></a></td>\n",
       "                        <td style=\"border:0px\">&nbsp;</td>\n",
       "                        <td style=\"border:0px;text-align=right;\">\n",
       "                        <pre><time id=\"duration_localhost_982cb2e0010346aea46365db808b2d33\" datetime=\"1503608541434.71\">0 sec</time></pre></td>\n",
       "                        </tr>\n",
       "                        </table>"
      ]
     },
     "metadata": {},
     "output_type": "display_data"
    },
    {
     "data": {
      "text/html": [
       "<table id=\"table_localhost_4a306997eff43d9c69a06cc405552f6e\" style=\"border: 0px\"><tr style=\"border: 0px\">\n",
       "                        <td style=\"border: 0px\">\n",
       "                        <i id=\"status_localhost_4a306997eff43d9c69a06cc405552f6e\"\n",
       "                            class=\"fa fa-2x fa-fw fa-square-o\"\n",
       "                            onmouseover=\"$('#status_localhost_4a306997eff43d9c69a06cc405552f6e').addClass('fa-stop').removeClass('fa-square-o')\"\n",
       "                            onmouseleave=\"$('#status_localhost_4a306997eff43d9c69a06cc405552f6e').addClass('fa-square-o').removeClass('fa-stop')\"\n",
       "                            onclick=\"kill_task('4a306997eff43d9c69a06cc405552f6e', 'localhost')\"\n",
       "                        ></i> </td>\n",
       "                        <td style=\"border:0px\"><a onclick=\"task_info('4a306997eff43d9c69a06cc405552f6e', 'localhost')\"><pre>4a306997eff43d9c69a06cc405552f6e</pre></a></td>\n",
       "                        <td style=\"border:0px\">&nbsp;</td>\n",
       "                        <td style=\"border:0px;text-align=right;\">\n",
       "                        <pre><time id=\"duration_localhost_4a306997eff43d9c69a06cc405552f6e\" datetime=\"1503608541434.9246\">0 sec</time></pre></td>\n",
       "                        </tr>\n",
       "                        </table>"
      ]
     },
     "metadata": {},
     "output_type": "display_data"
    },
    {
     "data": {
      "text/html": [
       "<table id=\"table_localhost_1784f2eb86606cdb3ab39656e96c9889\" style=\"border: 0px\"><tr style=\"border: 0px\">\n",
       "                        <td style=\"border: 0px\">\n",
       "                        <i id=\"status_localhost_1784f2eb86606cdb3ab39656e96c9889\"\n",
       "                            class=\"fa fa-2x fa-fw fa-square-o\"\n",
       "                            onmouseover=\"$('#status_localhost_1784f2eb86606cdb3ab39656e96c9889').addClass('fa-stop').removeClass('fa-square-o')\"\n",
       "                            onmouseleave=\"$('#status_localhost_1784f2eb86606cdb3ab39656e96c9889').addClass('fa-square-o').removeClass('fa-stop')\"\n",
       "                            onclick=\"kill_task('1784f2eb86606cdb3ab39656e96c9889', 'localhost')\"\n",
       "                        ></i> </td>\n",
       "                        <td style=\"border:0px\"><a onclick=\"task_info('1784f2eb86606cdb3ab39656e96c9889', 'localhost')\"><pre>1784f2eb86606cdb3ab39656e96c9889</pre></a></td>\n",
       "                        <td style=\"border:0px\">&nbsp;</td>\n",
       "                        <td style=\"border:0px;text-align=right;\">\n",
       "                        <pre><time id=\"duration_localhost_1784f2eb86606cdb3ab39656e96c9889\" datetime=\"1503608541435.1304\">0 sec</time></pre></td>\n",
       "                        </tr>\n",
       "                        </table>"
      ]
     },
     "metadata": {},
     "output_type": "display_data"
    },
    {
     "data": {
      "text/html": [
       "<table id=\"table_localhost_cd52c7b9a9263ee46051341730a03234\" style=\"border: 0px\"><tr style=\"border: 0px\">\n",
       "                        <td style=\"border: 0px\">\n",
       "                        <i id=\"status_localhost_cd52c7b9a9263ee46051341730a03234\"\n",
       "                            class=\"fa fa-2x fa-fw fa-square-o\"\n",
       "                            onmouseover=\"$('#status_localhost_cd52c7b9a9263ee46051341730a03234').addClass('fa-stop').removeClass('fa-square-o')\"\n",
       "                            onmouseleave=\"$('#status_localhost_cd52c7b9a9263ee46051341730a03234').addClass('fa-square-o').removeClass('fa-stop')\"\n",
       "                            onclick=\"kill_task('cd52c7b9a9263ee46051341730a03234', 'localhost')\"\n",
       "                        ></i> </td>\n",
       "                        <td style=\"border:0px\"><a onclick=\"task_info('cd52c7b9a9263ee46051341730a03234', 'localhost')\"><pre>cd52c7b9a9263ee46051341730a03234</pre></a></td>\n",
       "                        <td style=\"border:0px\">&nbsp;</td>\n",
       "                        <td style=\"border:0px;text-align=right;\">\n",
       "                        <pre><time id=\"duration_localhost_cd52c7b9a9263ee46051341730a03234\" datetime=\"1503608541435.3325\">0 sec</time></pre></td>\n",
       "                        </tr>\n",
       "                        </table>"
      ]
     },
     "metadata": {},
     "output_type": "display_data"
    },
    {
     "data": {
      "text/html": [
       "<table id=\"table_localhost_7db2c71a5793a3d3d0229b990605e1a2\" style=\"border: 0px\"><tr style=\"border: 0px\">\n",
       "                        <td style=\"border: 0px\">\n",
       "                        <i id=\"status_localhost_7db2c71a5793a3d3d0229b990605e1a2\"\n",
       "                            class=\"fa fa-2x fa-fw fa-square-o\"\n",
       "                            onmouseover=\"$('#status_localhost_7db2c71a5793a3d3d0229b990605e1a2').addClass('fa-stop').removeClass('fa-square-o')\"\n",
       "                            onmouseleave=\"$('#status_localhost_7db2c71a5793a3d3d0229b990605e1a2').addClass('fa-square-o').removeClass('fa-stop')\"\n",
       "                            onclick=\"kill_task('7db2c71a5793a3d3d0229b990605e1a2', 'localhost')\"\n",
       "                        ></i> </td>\n",
       "                        <td style=\"border:0px\"><a onclick=\"task_info('7db2c71a5793a3d3d0229b990605e1a2', 'localhost')\"><pre>7db2c71a5793a3d3d0229b990605e1a2</pre></a></td>\n",
       "                        <td style=\"border:0px\">&nbsp;</td>\n",
       "                        <td style=\"border:0px;text-align=right;\">\n",
       "                        <pre><time id=\"duration_localhost_7db2c71a5793a3d3d0229b990605e1a2\" datetime=\"1503608541435.5356\">0 sec</time></pre></td>\n",
       "                        </tr>\n",
       "                        </table>"
      ]
     },
     "metadata": {},
     "output_type": "display_data"
    },
    {
     "data": {
      "text/html": [
       "<table id=\"table_localhost_074959b8b3e0576d42c1e67e579bbe16\" style=\"border: 0px\"><tr style=\"border: 0px\">\n",
       "                        <td style=\"border: 0px\">\n",
       "                        <i id=\"status_localhost_074959b8b3e0576d42c1e67e579bbe16\"\n",
       "                            class=\"fa fa-2x fa-fw fa-square-o\"\n",
       "                            onmouseover=\"$('#status_localhost_074959b8b3e0576d42c1e67e579bbe16').addClass('fa-stop').removeClass('fa-square-o')\"\n",
       "                            onmouseleave=\"$('#status_localhost_074959b8b3e0576d42c1e67e579bbe16').addClass('fa-square-o').removeClass('fa-stop')\"\n",
       "                            onclick=\"kill_task('074959b8b3e0576d42c1e67e579bbe16', 'localhost')\"\n",
       "                        ></i> </td>\n",
       "                        <td style=\"border:0px\"><a onclick=\"task_info('074959b8b3e0576d42c1e67e579bbe16', 'localhost')\"><pre>074959b8b3e0576d42c1e67e579bbe16</pre></a></td>\n",
       "                        <td style=\"border:0px\">&nbsp;</td>\n",
       "                        <td style=\"border:0px;text-align=right;\">\n",
       "                        <pre><time id=\"duration_localhost_074959b8b3e0576d42c1e67e579bbe16\" datetime=\"1503608541435.791\">0 sec</time></pre></td>\n",
       "                        </tr>\n",
       "                        </table>"
      ]
     },
     "metadata": {},
     "output_type": "display_data"
    },
    {
     "data": {
      "text/html": [
       "<table id=\"table_localhost_5779b40cc284f1e327016e2d426aa19e\" style=\"border: 0px\"><tr style=\"border: 0px\">\n",
       "                        <td style=\"border: 0px\">\n",
       "                        <i id=\"status_localhost_5779b40cc284f1e327016e2d426aa19e\"\n",
       "                            class=\"fa fa-2x fa-fw fa-square-o\"\n",
       "                            onmouseover=\"$('#status_localhost_5779b40cc284f1e327016e2d426aa19e').addClass('fa-stop').removeClass('fa-square-o')\"\n",
       "                            onmouseleave=\"$('#status_localhost_5779b40cc284f1e327016e2d426aa19e').addClass('fa-square-o').removeClass('fa-stop')\"\n",
       "                            onclick=\"kill_task('5779b40cc284f1e327016e2d426aa19e', 'localhost')\"\n",
       "                        ></i> </td>\n",
       "                        <td style=\"border:0px\"><a onclick=\"task_info('5779b40cc284f1e327016e2d426aa19e', 'localhost')\"><pre>5779b40cc284f1e327016e2d426aa19e</pre></a></td>\n",
       "                        <td style=\"border:0px\">&nbsp;</td>\n",
       "                        <td style=\"border:0px;text-align=right;\">\n",
       "                        <pre><time id=\"duration_localhost_5779b40cc284f1e327016e2d426aa19e\" datetime=\"1503608541435.9968\">0 sec</time></pre></td>\n",
       "                        </tr>\n",
       "                        </table>"
      ]
     },
     "metadata": {},
     "output_type": "display_data"
    },
    {
     "data": {
      "text/html": [
       "<table id=\"table_localhost_ee12c0d803da795b0dac3aed90ee3a1a\" style=\"border: 0px\"><tr style=\"border: 0px\">\n",
       "                        <td style=\"border: 0px\">\n",
       "                        <i id=\"status_localhost_ee12c0d803da795b0dac3aed90ee3a1a\"\n",
       "                            class=\"fa fa-2x fa-fw fa-square-o\"\n",
       "                            onmouseover=\"$('#status_localhost_ee12c0d803da795b0dac3aed90ee3a1a').addClass('fa-stop').removeClass('fa-square-o')\"\n",
       "                            onmouseleave=\"$('#status_localhost_ee12c0d803da795b0dac3aed90ee3a1a').addClass('fa-square-o').removeClass('fa-stop')\"\n",
       "                            onclick=\"kill_task('ee12c0d803da795b0dac3aed90ee3a1a', 'localhost')\"\n",
       "                        ></i> </td>\n",
       "                        <td style=\"border:0px\"><a onclick=\"task_info('ee12c0d803da795b0dac3aed90ee3a1a', 'localhost')\"><pre>ee12c0d803da795b0dac3aed90ee3a1a</pre></a></td>\n",
       "                        <td style=\"border:0px\">&nbsp;</td>\n",
       "                        <td style=\"border:0px;text-align=right;\">\n",
       "                        <pre><time id=\"duration_localhost_ee12c0d803da795b0dac3aed90ee3a1a\" datetime=\"1503608541436.2288\">0 sec</time></pre></td>\n",
       "                        </tr>\n",
       "                        </table>"
      ]
     },
     "metadata": {},
     "output_type": "display_data"
    },
    {
     "data": {
      "text/html": [
       "<table id=\"table_localhost_dbb885fac52436bc39e54d9c61d39919\" style=\"border: 0px\"><tr style=\"border: 0px\">\n",
       "                        <td style=\"border: 0px\">\n",
       "                        <i id=\"status_localhost_dbb885fac52436bc39e54d9c61d39919\"\n",
       "                            class=\"fa fa-2x fa-fw fa-square-o\"\n",
       "                            onmouseover=\"$('#status_localhost_dbb885fac52436bc39e54d9c61d39919').addClass('fa-stop').removeClass('fa-square-o')\"\n",
       "                            onmouseleave=\"$('#status_localhost_dbb885fac52436bc39e54d9c61d39919').addClass('fa-square-o').removeClass('fa-stop')\"\n",
       "                            onclick=\"kill_task('dbb885fac52436bc39e54d9c61d39919', 'localhost')\"\n",
       "                        ></i> </td>\n",
       "                        <td style=\"border:0px\"><a onclick=\"task_info('dbb885fac52436bc39e54d9c61d39919', 'localhost')\"><pre>dbb885fac52436bc39e54d9c61d39919</pre></a></td>\n",
       "                        <td style=\"border:0px\">&nbsp;</td>\n",
       "                        <td style=\"border:0px;text-align=right;\">\n",
       "                        <pre><time id=\"duration_localhost_dbb885fac52436bc39e54d9c61d39919\" datetime=\"1503608541436.511\">0 sec</time></pre></td>\n",
       "                        </tr>\n",
       "                        </table>"
      ]
     },
     "metadata": {},
     "output_type": "display_data"
    },
    {
     "data": {
      "text/html": [
       "<table id=\"table_localhost_52372e800f11ec55da57154ed24e5df8\" style=\"border: 0px\"><tr style=\"border: 0px\">\n",
       "                        <td style=\"border: 0px\">\n",
       "                        <i id=\"status_localhost_52372e800f11ec55da57154ed24e5df8\"\n",
       "                            class=\"fa fa-2x fa-fw fa-square-o\"\n",
       "                            onmouseover=\"$('#status_localhost_52372e800f11ec55da57154ed24e5df8').addClass('fa-stop').removeClass('fa-square-o')\"\n",
       "                            onmouseleave=\"$('#status_localhost_52372e800f11ec55da57154ed24e5df8').addClass('fa-square-o').removeClass('fa-stop')\"\n",
       "                            onclick=\"kill_task('52372e800f11ec55da57154ed24e5df8', 'localhost')\"\n",
       "                        ></i> </td>\n",
       "                        <td style=\"border:0px\"><a onclick=\"task_info('52372e800f11ec55da57154ed24e5df8', 'localhost')\"><pre>52372e800f11ec55da57154ed24e5df8</pre></a></td>\n",
       "                        <td style=\"border:0px\">&nbsp;</td>\n",
       "                        <td style=\"border:0px;text-align=right;\">\n",
       "                        <pre><time id=\"duration_localhost_52372e800f11ec55da57154ed24e5df8\" datetime=\"1503608541436.8596\">0 sec</time></pre></td>\n",
       "                        </tr>\n",
       "                        </table>"
      ]
     },
     "metadata": {},
     "output_type": "display_data"
    },
    {
     "data": {
      "text/html": [
       "<table id=\"table_localhost_9c72f4d3e0daef94cca02c6cbe034c77\" style=\"border: 0px\"><tr style=\"border: 0px\">\n",
       "                        <td style=\"border: 0px\">\n",
       "                        <i id=\"status_localhost_9c72f4d3e0daef94cca02c6cbe034c77\"\n",
       "                            class=\"fa fa-2x fa-fw fa-square-o\"\n",
       "                            onmouseover=\"$('#status_localhost_9c72f4d3e0daef94cca02c6cbe034c77').addClass('fa-stop').removeClass('fa-square-o')\"\n",
       "                            onmouseleave=\"$('#status_localhost_9c72f4d3e0daef94cca02c6cbe034c77').addClass('fa-square-o').removeClass('fa-stop')\"\n",
       "                            onclick=\"kill_task('9c72f4d3e0daef94cca02c6cbe034c77', 'localhost')\"\n",
       "                        ></i> </td>\n",
       "                        <td style=\"border:0px\"><a onclick=\"task_info('9c72f4d3e0daef94cca02c6cbe034c77', 'localhost')\"><pre>9c72f4d3e0daef94cca02c6cbe034c77</pre></a></td>\n",
       "                        <td style=\"border:0px\">&nbsp;</td>\n",
       "                        <td style=\"border:0px;text-align=right;\">\n",
       "                        <pre><time id=\"duration_localhost_9c72f4d3e0daef94cca02c6cbe034c77\" datetime=\"1503608541437.1404\">0 sec</time></pre></td>\n",
       "                        </tr>\n",
       "                        </table>"
      ]
     },
     "metadata": {},
     "output_type": "display_data"
    },
    {
     "data": {
      "text/html": [
       "<table id=\"table_localhost_21ed717bd9789b298c9a363ee585dff7\" style=\"border: 0px\"><tr style=\"border: 0px\">\n",
       "                        <td style=\"border: 0px\">\n",
       "                        <i id=\"status_localhost_21ed717bd9789b298c9a363ee585dff7\"\n",
       "                            class=\"fa fa-2x fa-fw fa-square-o\"\n",
       "                            onmouseover=\"$('#status_localhost_21ed717bd9789b298c9a363ee585dff7').addClass('fa-stop').removeClass('fa-square-o')\"\n",
       "                            onmouseleave=\"$('#status_localhost_21ed717bd9789b298c9a363ee585dff7').addClass('fa-square-o').removeClass('fa-stop')\"\n",
       "                            onclick=\"kill_task('21ed717bd9789b298c9a363ee585dff7', 'localhost')\"\n",
       "                        ></i> </td>\n",
       "                        <td style=\"border:0px\"><a onclick=\"task_info('21ed717bd9789b298c9a363ee585dff7', 'localhost')\"><pre>21ed717bd9789b298c9a363ee585dff7</pre></a></td>\n",
       "                        <td style=\"border:0px\">&nbsp;</td>\n",
       "                        <td style=\"border:0px;text-align=right;\">\n",
       "                        <pre><time id=\"duration_localhost_21ed717bd9789b298c9a363ee585dff7\" datetime=\"1503608541437.6167\">0 sec</time></pre></td>\n",
       "                        </tr>\n",
       "                        </table>"
      ]
     },
     "metadata": {},
     "output_type": "display_data"
    },
    {
     "data": {
      "text/html": [
       "<table id=\"table_localhost_9d16c26fe9374de003ef782f02587a21\" style=\"border: 0px\"><tr style=\"border: 0px\">\n",
       "                        <td style=\"border: 0px\">\n",
       "                        <i id=\"status_localhost_9d16c26fe9374de003ef782f02587a21\"\n",
       "                            class=\"fa fa-2x fa-fw fa-square-o\"\n",
       "                            onmouseover=\"$('#status_localhost_9d16c26fe9374de003ef782f02587a21').addClass('fa-stop').removeClass('fa-square-o')\"\n",
       "                            onmouseleave=\"$('#status_localhost_9d16c26fe9374de003ef782f02587a21').addClass('fa-square-o').removeClass('fa-stop')\"\n",
       "                            onclick=\"kill_task('9d16c26fe9374de003ef782f02587a21', 'localhost')\"\n",
       "                        ></i> </td>\n",
       "                        <td style=\"border:0px\"><a onclick=\"task_info('9d16c26fe9374de003ef782f02587a21', 'localhost')\"><pre>9d16c26fe9374de003ef782f02587a21</pre></a></td>\n",
       "                        <td style=\"border:0px\">&nbsp;</td>\n",
       "                        <td style=\"border:0px;text-align=right;\">\n",
       "                        <pre><time id=\"duration_localhost_9d16c26fe9374de003ef782f02587a21\" datetime=\"1503608541438.0554\">0 sec</time></pre></td>\n",
       "                        </tr>\n",
       "                        </table>"
      ]
     },
     "metadata": {},
     "output_type": "display_data"
    },
    {
     "data": {
      "text/html": [
       "<table id=\"table_localhost_80fe83e218eefe292237925881c68c46\" style=\"border: 0px\"><tr style=\"border: 0px\">\n",
       "                        <td style=\"border: 0px\">\n",
       "                        <i id=\"status_localhost_80fe83e218eefe292237925881c68c46\"\n",
       "                            class=\"fa fa-2x fa-fw fa-square-o\"\n",
       "                            onmouseover=\"$('#status_localhost_80fe83e218eefe292237925881c68c46').addClass('fa-stop').removeClass('fa-square-o')\"\n",
       "                            onmouseleave=\"$('#status_localhost_80fe83e218eefe292237925881c68c46').addClass('fa-square-o').removeClass('fa-stop')\"\n",
       "                            onclick=\"kill_task('80fe83e218eefe292237925881c68c46', 'localhost')\"\n",
       "                        ></i> </td>\n",
       "                        <td style=\"border:0px\"><a onclick=\"task_info('80fe83e218eefe292237925881c68c46', 'localhost')\"><pre>80fe83e218eefe292237925881c68c46</pre></a></td>\n",
       "                        <td style=\"border:0px\">&nbsp;</td>\n",
       "                        <td style=\"border:0px;text-align=right;\">\n",
       "                        <pre><time id=\"duration_localhost_80fe83e218eefe292237925881c68c46\" datetime=\"1503608541438.3743\">0 sec</time></pre></td>\n",
       "                        </tr>\n",
       "                        </table>"
      ]
     },
     "metadata": {},
     "output_type": "display_data"
    },
    {
     "data": {
      "text/html": [
       "<table id=\"table_localhost_b9c202497198461729eafc12f5e9ba9d\" style=\"border: 0px\"><tr style=\"border: 0px\">\n",
       "                        <td style=\"border: 0px\">\n",
       "                        <i id=\"status_localhost_b9c202497198461729eafc12f5e9ba9d\"\n",
       "                            class=\"fa fa-2x fa-fw fa-square-o\"\n",
       "                            onmouseover=\"$('#status_localhost_b9c202497198461729eafc12f5e9ba9d').addClass('fa-stop').removeClass('fa-square-o')\"\n",
       "                            onmouseleave=\"$('#status_localhost_b9c202497198461729eafc12f5e9ba9d').addClass('fa-square-o').removeClass('fa-stop')\"\n",
       "                            onclick=\"kill_task('b9c202497198461729eafc12f5e9ba9d', 'localhost')\"\n",
       "                        ></i> </td>\n",
       "                        <td style=\"border:0px\"><a onclick=\"task_info('b9c202497198461729eafc12f5e9ba9d', 'localhost')\"><pre>b9c202497198461729eafc12f5e9ba9d</pre></a></td>\n",
       "                        <td style=\"border:0px\">&nbsp;</td>\n",
       "                        <td style=\"border:0px;text-align=right;\">\n",
       "                        <pre><time id=\"duration_localhost_b9c202497198461729eafc12f5e9ba9d\" datetime=\"1503608541438.721\">0 sec</time></pre></td>\n",
       "                        </tr>\n",
       "                        </table>"
      ]
     },
     "metadata": {},
     "output_type": "display_data"
    },
    {
     "data": {
      "text/html": [
       "<table id=\"table_localhost_0fa2cfe713db13c8995c47fb520697da\" style=\"border: 0px\"><tr style=\"border: 0px\">\n",
       "                        <td style=\"border: 0px\">\n",
       "                        <i id=\"status_localhost_0fa2cfe713db13c8995c47fb520697da\"\n",
       "                            class=\"fa fa-2x fa-fw fa-square-o\"\n",
       "                            onmouseover=\"$('#status_localhost_0fa2cfe713db13c8995c47fb520697da').addClass('fa-stop').removeClass('fa-square-o')\"\n",
       "                            onmouseleave=\"$('#status_localhost_0fa2cfe713db13c8995c47fb520697da').addClass('fa-square-o').removeClass('fa-stop')\"\n",
       "                            onclick=\"kill_task('0fa2cfe713db13c8995c47fb520697da', 'localhost')\"\n",
       "                        ></i> </td>\n",
       "                        <td style=\"border:0px\"><a onclick=\"task_info('0fa2cfe713db13c8995c47fb520697da', 'localhost')\"><pre>0fa2cfe713db13c8995c47fb520697da</pre></a></td>\n",
       "                        <td style=\"border:0px\">&nbsp;</td>\n",
       "                        <td style=\"border:0px;text-align=right;\">\n",
       "                        <pre><time id=\"duration_localhost_0fa2cfe713db13c8995c47fb520697da\" datetime=\"1503608541439.0327\">0 sec</time></pre></td>\n",
       "                        </tr>\n",
       "                        </table>"
      ]
     },
     "metadata": {},
     "output_type": "display_data"
    },
    {
     "data": {
      "text/html": [
       "<table id=\"table_localhost_66d4f990ba5fc29b7a8064035cda3b33\" style=\"border: 0px\"><tr style=\"border: 0px\">\n",
       "                        <td style=\"border: 0px\">\n",
       "                        <i id=\"status_localhost_66d4f990ba5fc29b7a8064035cda3b33\"\n",
       "                            class=\"fa fa-2x fa-fw fa-square-o\"\n",
       "                            onmouseover=\"$('#status_localhost_66d4f990ba5fc29b7a8064035cda3b33').addClass('fa-stop').removeClass('fa-square-o')\"\n",
       "                            onmouseleave=\"$('#status_localhost_66d4f990ba5fc29b7a8064035cda3b33').addClass('fa-square-o').removeClass('fa-stop')\"\n",
       "                            onclick=\"kill_task('66d4f990ba5fc29b7a8064035cda3b33', 'localhost')\"\n",
       "                        ></i> </td>\n",
       "                        <td style=\"border:0px\"><a onclick=\"task_info('66d4f990ba5fc29b7a8064035cda3b33', 'localhost')\"><pre>66d4f990ba5fc29b7a8064035cda3b33</pre></a></td>\n",
       "                        <td style=\"border:0px\">&nbsp;</td>\n",
       "                        <td style=\"border:0px;text-align=right;\">\n",
       "                        <pre><time id=\"duration_localhost_66d4f990ba5fc29b7a8064035cda3b33\" datetime=\"1503608541439.3423\">0 sec</time></pre></td>\n",
       "                        </tr>\n",
       "                        </table>"
      ]
     },
     "metadata": {},
     "output_type": "display_data"
    },
    {
     "data": {
      "text/html": [
       "<table id=\"table_localhost_93828a501829097d8ae3ba1aa278cbf7\" style=\"border: 0px\"><tr style=\"border: 0px\">\n",
       "                        <td style=\"border: 0px\">\n",
       "                        <i id=\"status_localhost_93828a501829097d8ae3ba1aa278cbf7\"\n",
       "                            class=\"fa fa-2x fa-fw fa-square-o\"\n",
       "                            onmouseover=\"$('#status_localhost_93828a501829097d8ae3ba1aa278cbf7').addClass('fa-stop').removeClass('fa-square-o')\"\n",
       "                            onmouseleave=\"$('#status_localhost_93828a501829097d8ae3ba1aa278cbf7').addClass('fa-square-o').removeClass('fa-stop')\"\n",
       "                            onclick=\"kill_task('93828a501829097d8ae3ba1aa278cbf7', 'localhost')\"\n",
       "                        ></i> </td>\n",
       "                        <td style=\"border:0px\"><a onclick=\"task_info('93828a501829097d8ae3ba1aa278cbf7', 'localhost')\"><pre>93828a501829097d8ae3ba1aa278cbf7</pre></a></td>\n",
       "                        <td style=\"border:0px\">&nbsp;</td>\n",
       "                        <td style=\"border:0px;text-align=right;\">\n",
       "                        <pre><time id=\"duration_localhost_93828a501829097d8ae3ba1aa278cbf7\" datetime=\"1503608541439.6423\">0 sec</time></pre></td>\n",
       "                        </tr>\n",
       "                        </table>"
      ]
     },
     "metadata": {},
     "output_type": "display_data"
    },
    {
     "data": {
      "text/html": [
       "<table id=\"table_localhost_b08745ae4db6fd29f69ee37b6f3d5551\" style=\"border: 0px\"><tr style=\"border: 0px\">\n",
       "                        <td style=\"border: 0px\">\n",
       "                        <i id=\"status_localhost_b08745ae4db6fd29f69ee37b6f3d5551\"\n",
       "                            class=\"fa fa-2x fa-fw fa-square-o\"\n",
       "                            onmouseover=\"$('#status_localhost_b08745ae4db6fd29f69ee37b6f3d5551').addClass('fa-stop').removeClass('fa-square-o')\"\n",
       "                            onmouseleave=\"$('#status_localhost_b08745ae4db6fd29f69ee37b6f3d5551').addClass('fa-square-o').removeClass('fa-stop')\"\n",
       "                            onclick=\"kill_task('b08745ae4db6fd29f69ee37b6f3d5551', 'localhost')\"\n",
       "                        ></i> </td>\n",
       "                        <td style=\"border:0px\"><a onclick=\"task_info('b08745ae4db6fd29f69ee37b6f3d5551', 'localhost')\"><pre>b08745ae4db6fd29f69ee37b6f3d5551</pre></a></td>\n",
       "                        <td style=\"border:0px\">&nbsp;</td>\n",
       "                        <td style=\"border:0px;text-align=right;\">\n",
       "                        <pre><time id=\"duration_localhost_b08745ae4db6fd29f69ee37b6f3d5551\" datetime=\"1503608541440.171\">0 sec</time></pre></td>\n",
       "                        </tr>\n",
       "                        </table>"
      ]
     },
     "metadata": {},
     "output_type": "display_data"
    },
    {
     "data": {
      "text/html": [
       "<table id=\"table_localhost_2408a8931fb5cae388caf3873e688486\" style=\"border: 0px\"><tr style=\"border: 0px\">\n",
       "                        <td style=\"border: 0px\">\n",
       "                        <i id=\"status_localhost_2408a8931fb5cae388caf3873e688486\"\n",
       "                            class=\"fa fa-2x fa-fw fa-square-o\"\n",
       "                            onmouseover=\"$('#status_localhost_2408a8931fb5cae388caf3873e688486').addClass('fa-stop').removeClass('fa-square-o')\"\n",
       "                            onmouseleave=\"$('#status_localhost_2408a8931fb5cae388caf3873e688486').addClass('fa-square-o').removeClass('fa-stop')\"\n",
       "                            onclick=\"kill_task('2408a8931fb5cae388caf3873e688486', 'localhost')\"\n",
       "                        ></i> </td>\n",
       "                        <td style=\"border:0px\"><a onclick=\"task_info('2408a8931fb5cae388caf3873e688486', 'localhost')\"><pre>2408a8931fb5cae388caf3873e688486</pre></a></td>\n",
       "                        <td style=\"border:0px\">&nbsp;</td>\n",
       "                        <td style=\"border:0px;text-align=right;\">\n",
       "                        <pre><time id=\"duration_localhost_2408a8931fb5cae388caf3873e688486\" datetime=\"1503608541440.487\">0 sec</time></pre></td>\n",
       "                        </tr>\n",
       "                        </table>"
      ]
     },
     "metadata": {},
     "output_type": "display_data"
    },
    {
     "data": {
      "text/html": [
       "<table id=\"table_localhost_d624247882824bebe0db7d8669cd82c5\" style=\"border: 0px\"><tr style=\"border: 0px\">\n",
       "                        <td style=\"border: 0px\">\n",
       "                        <i id=\"status_localhost_d624247882824bebe0db7d8669cd82c5\"\n",
       "                            class=\"fa fa-2x fa-fw fa-square-o\"\n",
       "                            onmouseover=\"$('#status_localhost_d624247882824bebe0db7d8669cd82c5').addClass('fa-stop').removeClass('fa-square-o')\"\n",
       "                            onmouseleave=\"$('#status_localhost_d624247882824bebe0db7d8669cd82c5').addClass('fa-square-o').removeClass('fa-stop')\"\n",
       "                            onclick=\"kill_task('d624247882824bebe0db7d8669cd82c5', 'localhost')\"\n",
       "                        ></i> </td>\n",
       "                        <td style=\"border:0px\"><a onclick=\"task_info('d624247882824bebe0db7d8669cd82c5', 'localhost')\"><pre>d624247882824bebe0db7d8669cd82c5</pre></a></td>\n",
       "                        <td style=\"border:0px\">&nbsp;</td>\n",
       "                        <td style=\"border:0px;text-align=right;\">\n",
       "                        <pre><time id=\"duration_localhost_d624247882824bebe0db7d8669cd82c5\" datetime=\"1503608541440.7993\">0 sec</time></pre></td>\n",
       "                        </tr>\n",
       "                        </table>"
      ]
     },
     "metadata": {},
     "output_type": "display_data"
    },
    {
     "data": {
      "text/html": [
       "<table id=\"table_localhost_16e8ed541e592b3ff3abef172cb0df1d\" style=\"border: 0px\"><tr style=\"border: 0px\">\n",
       "                        <td style=\"border: 0px\">\n",
       "                        <i id=\"status_localhost_16e8ed541e592b3ff3abef172cb0df1d\"\n",
       "                            class=\"fa fa-2x fa-fw fa-square-o\"\n",
       "                            onmouseover=\"$('#status_localhost_16e8ed541e592b3ff3abef172cb0df1d').addClass('fa-stop').removeClass('fa-square-o')\"\n",
       "                            onmouseleave=\"$('#status_localhost_16e8ed541e592b3ff3abef172cb0df1d').addClass('fa-square-o').removeClass('fa-stop')\"\n",
       "                            onclick=\"kill_task('16e8ed541e592b3ff3abef172cb0df1d', 'localhost')\"\n",
       "                        ></i> </td>\n",
       "                        <td style=\"border:0px\"><a onclick=\"task_info('16e8ed541e592b3ff3abef172cb0df1d', 'localhost')\"><pre>16e8ed541e592b3ff3abef172cb0df1d</pre></a></td>\n",
       "                        <td style=\"border:0px\">&nbsp;</td>\n",
       "                        <td style=\"border:0px;text-align=right;\">\n",
       "                        <pre><time id=\"duration_localhost_16e8ed541e592b3ff3abef172cb0df1d\" datetime=\"1503608541441.1846\">0 sec</time></pre></td>\n",
       "                        </tr>\n",
       "                        </table>"
      ]
     },
     "metadata": {},
     "output_type": "display_data"
    },
    {
     "data": {
      "text/html": [
       "<table id=\"table_localhost_c5bdd7da095148778acd1901714e470f\" style=\"border: 0px\"><tr style=\"border: 0px\">\n",
       "                        <td style=\"border: 0px\">\n",
       "                        <i id=\"status_localhost_c5bdd7da095148778acd1901714e470f\"\n",
       "                            class=\"fa fa-2x fa-fw fa-square-o\"\n",
       "                            onmouseover=\"$('#status_localhost_c5bdd7da095148778acd1901714e470f').addClass('fa-stop').removeClass('fa-square-o')\"\n",
       "                            onmouseleave=\"$('#status_localhost_c5bdd7da095148778acd1901714e470f').addClass('fa-square-o').removeClass('fa-stop')\"\n",
       "                            onclick=\"kill_task('c5bdd7da095148778acd1901714e470f', 'localhost')\"\n",
       "                        ></i> </td>\n",
       "                        <td style=\"border:0px\"><a onclick=\"task_info('c5bdd7da095148778acd1901714e470f', 'localhost')\"><pre>c5bdd7da095148778acd1901714e470f</pre></a></td>\n",
       "                        <td style=\"border:0px\">&nbsp;</td>\n",
       "                        <td style=\"border:0px;text-align=right;\">\n",
       "                        <pre><time id=\"duration_localhost_c5bdd7da095148778acd1901714e470f\" datetime=\"1503608541441.503\">0 sec</time></pre></td>\n",
       "                        </tr>\n",
       "                        </table>"
      ]
     },
     "metadata": {},
     "output_type": "display_data"
    },
    {
     "data": {
      "text/html": [
       "<table id=\"table_localhost_df3c96a2e37c261f32ff74594be0fe83\" style=\"border: 0px\"><tr style=\"border: 0px\">\n",
       "                        <td style=\"border: 0px\">\n",
       "                        <i id=\"status_localhost_df3c96a2e37c261f32ff74594be0fe83\"\n",
       "                            class=\"fa fa-2x fa-fw fa-square-o\"\n",
       "                            onmouseover=\"$('#status_localhost_df3c96a2e37c261f32ff74594be0fe83').addClass('fa-stop').removeClass('fa-square-o')\"\n",
       "                            onmouseleave=\"$('#status_localhost_df3c96a2e37c261f32ff74594be0fe83').addClass('fa-square-o').removeClass('fa-stop')\"\n",
       "                            onclick=\"kill_task('df3c96a2e37c261f32ff74594be0fe83', 'localhost')\"\n",
       "                        ></i> </td>\n",
       "                        <td style=\"border:0px\"><a onclick=\"task_info('df3c96a2e37c261f32ff74594be0fe83', 'localhost')\"><pre>df3c96a2e37c261f32ff74594be0fe83</pre></a></td>\n",
       "                        <td style=\"border:0px\">&nbsp;</td>\n",
       "                        <td style=\"border:0px;text-align=right;\">\n",
       "                        <pre><time id=\"duration_localhost_df3c96a2e37c261f32ff74594be0fe83\" datetime=\"1503608541441.8271\">0 sec</time></pre></td>\n",
       "                        </tr>\n",
       "                        </table>"
      ]
     },
     "metadata": {},
     "output_type": "display_data"
    },
    {
     "data": {
      "text/html": [
       "<table id=\"table_localhost_9c90f73ed81ff86e647a70126f7dc306\" style=\"border: 0px\"><tr style=\"border: 0px\">\n",
       "                        <td style=\"border: 0px\">\n",
       "                        <i id=\"status_localhost_9c90f73ed81ff86e647a70126f7dc306\"\n",
       "                            class=\"fa fa-2x fa-fw fa-square-o\"\n",
       "                            onmouseover=\"$('#status_localhost_9c90f73ed81ff86e647a70126f7dc306').addClass('fa-stop').removeClass('fa-square-o')\"\n",
       "                            onmouseleave=\"$('#status_localhost_9c90f73ed81ff86e647a70126f7dc306').addClass('fa-square-o').removeClass('fa-stop')\"\n",
       "                            onclick=\"kill_task('9c90f73ed81ff86e647a70126f7dc306', 'localhost')\"\n",
       "                        ></i> </td>\n",
       "                        <td style=\"border:0px\"><a onclick=\"task_info('9c90f73ed81ff86e647a70126f7dc306', 'localhost')\"><pre>9c90f73ed81ff86e647a70126f7dc306</pre></a></td>\n",
       "                        <td style=\"border:0px\">&nbsp;</td>\n",
       "                        <td style=\"border:0px;text-align=right;\">\n",
       "                        <pre><time id=\"duration_localhost_9c90f73ed81ff86e647a70126f7dc306\" datetime=\"1503608541442.3184\">0 sec</time></pre></td>\n",
       "                        </tr>\n",
       "                        </table>"
      ]
     },
     "metadata": {},
     "output_type": "display_data"
    },
    {
     "data": {
      "text/html": [
       "<table id=\"table_localhost_dda243a37120ef05c1ba0f36a4cb192d\" style=\"border: 0px\"><tr style=\"border: 0px\">\n",
       "                        <td style=\"border: 0px\">\n",
       "                        <i id=\"status_localhost_dda243a37120ef05c1ba0f36a4cb192d\"\n",
       "                            class=\"fa fa-2x fa-fw fa-square-o\"\n",
       "                            onmouseover=\"$('#status_localhost_dda243a37120ef05c1ba0f36a4cb192d').addClass('fa-stop').removeClass('fa-square-o')\"\n",
       "                            onmouseleave=\"$('#status_localhost_dda243a37120ef05c1ba0f36a4cb192d').addClass('fa-square-o').removeClass('fa-stop')\"\n",
       "                            onclick=\"kill_task('dda243a37120ef05c1ba0f36a4cb192d', 'localhost')\"\n",
       "                        ></i> </td>\n",
       "                        <td style=\"border:0px\"><a onclick=\"task_info('dda243a37120ef05c1ba0f36a4cb192d', 'localhost')\"><pre>dda243a37120ef05c1ba0f36a4cb192d</pre></a></td>\n",
       "                        <td style=\"border:0px\">&nbsp;</td>\n",
       "                        <td style=\"border:0px;text-align=right;\">\n",
       "                        <pre><time id=\"duration_localhost_dda243a37120ef05c1ba0f36a4cb192d\" datetime=\"1503608541442.776\">0 sec</time></pre></td>\n",
       "                        </tr>\n",
       "                        </table>"
      ]
     },
     "metadata": {},
     "output_type": "display_data"
    },
    {
     "data": {
      "text/html": [
       "<table id=\"table_localhost_43b073b89f56696bf8efa19664b1f47e\" style=\"border: 0px\"><tr style=\"border: 0px\">\n",
       "                        <td style=\"border: 0px\">\n",
       "                        <i id=\"status_localhost_43b073b89f56696bf8efa19664b1f47e\"\n",
       "                            class=\"fa fa-2x fa-fw fa-square-o\"\n",
       "                            onmouseover=\"$('#status_localhost_43b073b89f56696bf8efa19664b1f47e').addClass('fa-stop').removeClass('fa-square-o')\"\n",
       "                            onmouseleave=\"$('#status_localhost_43b073b89f56696bf8efa19664b1f47e').addClass('fa-square-o').removeClass('fa-stop')\"\n",
       "                            onclick=\"kill_task('43b073b89f56696bf8efa19664b1f47e', 'localhost')\"\n",
       "                        ></i> </td>\n",
       "                        <td style=\"border:0px\"><a onclick=\"task_info('43b073b89f56696bf8efa19664b1f47e', 'localhost')\"><pre>43b073b89f56696bf8efa19664b1f47e</pre></a></td>\n",
       "                        <td style=\"border:0px\">&nbsp;</td>\n",
       "                        <td style=\"border:0px;text-align=right;\">\n",
       "                        <pre><time id=\"duration_localhost_43b073b89f56696bf8efa19664b1f47e\" datetime=\"1503608541443.1707\">0 sec</time></pre></td>\n",
       "                        </tr>\n",
       "                        </table>"
      ]
     },
     "metadata": {},
     "output_type": "display_data"
    },
    {
     "data": {
      "text/html": [
       "<table id=\"table_localhost_ebfa4b55e8c63513ba3f734ad7b8e966\" style=\"border: 0px\"><tr style=\"border: 0px\">\n",
       "                        <td style=\"border: 0px\">\n",
       "                        <i id=\"status_localhost_ebfa4b55e8c63513ba3f734ad7b8e966\"\n",
       "                            class=\"fa fa-2x fa-fw fa-square-o\"\n",
       "                            onmouseover=\"$('#status_localhost_ebfa4b55e8c63513ba3f734ad7b8e966').addClass('fa-stop').removeClass('fa-square-o')\"\n",
       "                            onmouseleave=\"$('#status_localhost_ebfa4b55e8c63513ba3f734ad7b8e966').addClass('fa-square-o').removeClass('fa-stop')\"\n",
       "                            onclick=\"kill_task('ebfa4b55e8c63513ba3f734ad7b8e966', 'localhost')\"\n",
       "                        ></i> </td>\n",
       "                        <td style=\"border:0px\"><a onclick=\"task_info('ebfa4b55e8c63513ba3f734ad7b8e966', 'localhost')\"><pre>ebfa4b55e8c63513ba3f734ad7b8e966</pre></a></td>\n",
       "                        <td style=\"border:0px\">&nbsp;</td>\n",
       "                        <td style=\"border:0px;text-align=right;\">\n",
       "                        <pre><time id=\"duration_localhost_ebfa4b55e8c63513ba3f734ad7b8e966\" datetime=\"1503608541443.4922\">0 sec</time></pre></td>\n",
       "                        </tr>\n",
       "                        </table>"
      ]
     },
     "metadata": {},
     "output_type": "display_data"
    },
    {
     "data": {
      "text/html": [
       "<table id=\"table_localhost_fdf885204fb408b842abb30e7eb72c1b\" style=\"border: 0px\"><tr style=\"border: 0px\">\n",
       "                        <td style=\"border: 0px\">\n",
       "                        <i id=\"status_localhost_fdf885204fb408b842abb30e7eb72c1b\"\n",
       "                            class=\"fa fa-2x fa-fw fa-square-o\"\n",
       "                            onmouseover=\"$('#status_localhost_fdf885204fb408b842abb30e7eb72c1b').addClass('fa-stop').removeClass('fa-square-o')\"\n",
       "                            onmouseleave=\"$('#status_localhost_fdf885204fb408b842abb30e7eb72c1b').addClass('fa-square-o').removeClass('fa-stop')\"\n",
       "                            onclick=\"kill_task('fdf885204fb408b842abb30e7eb72c1b', 'localhost')\"\n",
       "                        ></i> </td>\n",
       "                        <td style=\"border:0px\"><a onclick=\"task_info('fdf885204fb408b842abb30e7eb72c1b', 'localhost')\"><pre>fdf885204fb408b842abb30e7eb72c1b</pre></a></td>\n",
       "                        <td style=\"border:0px\">&nbsp;</td>\n",
       "                        <td style=\"border:0px;text-align=right;\">\n",
       "                        <pre><time id=\"duration_localhost_fdf885204fb408b842abb30e7eb72c1b\" datetime=\"1503608541443.9138\">0 sec</time></pre></td>\n",
       "                        </tr>\n",
       "                        </table>"
      ]
     },
     "metadata": {},
     "output_type": "display_data"
    },
    {
     "data": {
      "text/html": [
       "<table id=\"table_localhost_1e878f65300b6dbd68dd32b1707176d0\" style=\"border: 0px\"><tr style=\"border: 0px\">\n",
       "                        <td style=\"border: 0px\">\n",
       "                        <i id=\"status_localhost_1e878f65300b6dbd68dd32b1707176d0\"\n",
       "                            class=\"fa fa-2x fa-fw fa-square-o\"\n",
       "                            onmouseover=\"$('#status_localhost_1e878f65300b6dbd68dd32b1707176d0').addClass('fa-stop').removeClass('fa-square-o')\"\n",
       "                            onmouseleave=\"$('#status_localhost_1e878f65300b6dbd68dd32b1707176d0').addClass('fa-square-o').removeClass('fa-stop')\"\n",
       "                            onclick=\"kill_task('1e878f65300b6dbd68dd32b1707176d0', 'localhost')\"\n",
       "                        ></i> </td>\n",
       "                        <td style=\"border:0px\"><a onclick=\"task_info('1e878f65300b6dbd68dd32b1707176d0', 'localhost')\"><pre>1e878f65300b6dbd68dd32b1707176d0</pre></a></td>\n",
       "                        <td style=\"border:0px\">&nbsp;</td>\n",
       "                        <td style=\"border:0px;text-align=right;\">\n",
       "                        <pre><time id=\"duration_localhost_1e878f65300b6dbd68dd32b1707176d0\" datetime=\"1503608541444.286\">0 sec</time></pre></td>\n",
       "                        </tr>\n",
       "                        </table>"
      ]
     },
     "metadata": {},
     "output_type": "display_data"
    },
    {
     "data": {
      "text/html": [
       "<table id=\"table_localhost_a8218f649e96ebad9554d4a4d3a230d0\" style=\"border: 0px\"><tr style=\"border: 0px\">\n",
       "                        <td style=\"border: 0px\">\n",
       "                        <i id=\"status_localhost_a8218f649e96ebad9554d4a4d3a230d0\"\n",
       "                            class=\"fa fa-2x fa-fw fa-square-o\"\n",
       "                            onmouseover=\"$('#status_localhost_a8218f649e96ebad9554d4a4d3a230d0').addClass('fa-stop').removeClass('fa-square-o')\"\n",
       "                            onmouseleave=\"$('#status_localhost_a8218f649e96ebad9554d4a4d3a230d0').addClass('fa-square-o').removeClass('fa-stop')\"\n",
       "                            onclick=\"kill_task('a8218f649e96ebad9554d4a4d3a230d0', 'localhost')\"\n",
       "                        ></i> </td>\n",
       "                        <td style=\"border:0px\"><a onclick=\"task_info('a8218f649e96ebad9554d4a4d3a230d0', 'localhost')\"><pre>a8218f649e96ebad9554d4a4d3a230d0</pre></a></td>\n",
       "                        <td style=\"border:0px\">&nbsp;</td>\n",
       "                        <td style=\"border:0px;text-align=right;\">\n",
       "                        <pre><time id=\"duration_localhost_a8218f649e96ebad9554d4a4d3a230d0\" datetime=\"1503608541444.6123\">0 sec</time></pre></td>\n",
       "                        </tr>\n",
       "                        </table>"
      ]
     },
     "metadata": {},
     "output_type": "display_data"
    },
    {
     "data": {
      "text/html": [
       "<table id=\"table_localhost_d13fd604d278d37bdc4f43746695bb1b\" style=\"border: 0px\"><tr style=\"border: 0px\">\n",
       "                        <td style=\"border: 0px\">\n",
       "                        <i id=\"status_localhost_d13fd604d278d37bdc4f43746695bb1b\"\n",
       "                            class=\"fa fa-2x fa-fw fa-square-o\"\n",
       "                            onmouseover=\"$('#status_localhost_d13fd604d278d37bdc4f43746695bb1b').addClass('fa-stop').removeClass('fa-square-o')\"\n",
       "                            onmouseleave=\"$('#status_localhost_d13fd604d278d37bdc4f43746695bb1b').addClass('fa-square-o').removeClass('fa-stop')\"\n",
       "                            onclick=\"kill_task('d13fd604d278d37bdc4f43746695bb1b', 'localhost')\"\n",
       "                        ></i> </td>\n",
       "                        <td style=\"border:0px\"><a onclick=\"task_info('d13fd604d278d37bdc4f43746695bb1b', 'localhost')\"><pre>d13fd604d278d37bdc4f43746695bb1b</pre></a></td>\n",
       "                        <td style=\"border:0px\">&nbsp;</td>\n",
       "                        <td style=\"border:0px;text-align=right;\">\n",
       "                        <pre><time id=\"duration_localhost_d13fd604d278d37bdc4f43746695bb1b\" datetime=\"1503608541444.9062\">0 sec</time></pre></td>\n",
       "                        </tr>\n",
       "                        </table>"
      ]
     },
     "metadata": {},
     "output_type": "display_data"
    },
    {
     "data": {
      "text/html": [
       "<table id=\"table_localhost_bbcd9e2cc5ac26621b5682542550381e\" style=\"border: 0px\"><tr style=\"border: 0px\">\n",
       "                        <td style=\"border: 0px\">\n",
       "                        <i id=\"status_localhost_bbcd9e2cc5ac26621b5682542550381e\"\n",
       "                            class=\"fa fa-2x fa-fw fa-square-o\"\n",
       "                            onmouseover=\"$('#status_localhost_bbcd9e2cc5ac26621b5682542550381e').addClass('fa-stop').removeClass('fa-square-o')\"\n",
       "                            onmouseleave=\"$('#status_localhost_bbcd9e2cc5ac26621b5682542550381e').addClass('fa-square-o').removeClass('fa-stop')\"\n",
       "                            onclick=\"kill_task('bbcd9e2cc5ac26621b5682542550381e', 'localhost')\"\n",
       "                        ></i> </td>\n",
       "                        <td style=\"border:0px\"><a onclick=\"task_info('bbcd9e2cc5ac26621b5682542550381e', 'localhost')\"><pre>bbcd9e2cc5ac26621b5682542550381e</pre></a></td>\n",
       "                        <td style=\"border:0px\">&nbsp;</td>\n",
       "                        <td style=\"border:0px;text-align=right;\">\n",
       "                        <pre><time id=\"duration_localhost_bbcd9e2cc5ac26621b5682542550381e\" datetime=\"1503608541445.4438\">0 sec</time></pre></td>\n",
       "                        </tr>\n",
       "                        </table>"
      ]
     },
     "metadata": {},
     "output_type": "display_data"
    },
    {
     "data": {
      "text/html": [
       "<table id=\"table_localhost_df5ee83fa51d34b2fc7487805bb833d0\" style=\"border: 0px\"><tr style=\"border: 0px\">\n",
       "                        <td style=\"border: 0px\">\n",
       "                        <i id=\"status_localhost_df5ee83fa51d34b2fc7487805bb833d0\"\n",
       "                            class=\"fa fa-2x fa-fw fa-square-o\"\n",
       "                            onmouseover=\"$('#status_localhost_df5ee83fa51d34b2fc7487805bb833d0').addClass('fa-stop').removeClass('fa-square-o')\"\n",
       "                            onmouseleave=\"$('#status_localhost_df5ee83fa51d34b2fc7487805bb833d0').addClass('fa-square-o').removeClass('fa-stop')\"\n",
       "                            onclick=\"kill_task('df5ee83fa51d34b2fc7487805bb833d0', 'localhost')\"\n",
       "                        ></i> </td>\n",
       "                        <td style=\"border:0px\"><a onclick=\"task_info('df5ee83fa51d34b2fc7487805bb833d0', 'localhost')\"><pre>df5ee83fa51d34b2fc7487805bb833d0</pre></a></td>\n",
       "                        <td style=\"border:0px\">&nbsp;</td>\n",
       "                        <td style=\"border:0px;text-align=right;\">\n",
       "                        <pre><time id=\"duration_localhost_df5ee83fa51d34b2fc7487805bb833d0\" datetime=\"1503608541445.8135\">0 sec</time></pre></td>\n",
       "                        </tr>\n",
       "                        </table>"
      ]
     },
     "metadata": {},
     "output_type": "display_data"
    },
    {
     "data": {
      "text/html": [
       "<table id=\"table_localhost_277aad69d43b4e467d94363c193cd5e7\" style=\"border: 0px\"><tr style=\"border: 0px\">\n",
       "                        <td style=\"border: 0px\">\n",
       "                        <i id=\"status_localhost_277aad69d43b4e467d94363c193cd5e7\"\n",
       "                            class=\"fa fa-2x fa-fw fa-square-o\"\n",
       "                            onmouseover=\"$('#status_localhost_277aad69d43b4e467d94363c193cd5e7').addClass('fa-stop').removeClass('fa-square-o')\"\n",
       "                            onmouseleave=\"$('#status_localhost_277aad69d43b4e467d94363c193cd5e7').addClass('fa-square-o').removeClass('fa-stop')\"\n",
       "                            onclick=\"kill_task('277aad69d43b4e467d94363c193cd5e7', 'localhost')\"\n",
       "                        ></i> </td>\n",
       "                        <td style=\"border:0px\"><a onclick=\"task_info('277aad69d43b4e467d94363c193cd5e7', 'localhost')\"><pre>277aad69d43b4e467d94363c193cd5e7</pre></a></td>\n",
       "                        <td style=\"border:0px\">&nbsp;</td>\n",
       "                        <td style=\"border:0px;text-align=right;\">\n",
       "                        <pre><time id=\"duration_localhost_277aad69d43b4e467d94363c193cd5e7\" datetime=\"1503608541446.115\">0 sec</time></pre></td>\n",
       "                        </tr>\n",
       "                        </table>"
      ]
     },
     "metadata": {},
     "output_type": "display_data"
    },
    {
     "data": {
      "text/html": [
       "<table id=\"table_localhost_d7f1f9f5d9c5af0918168fe4ba81d1c2\" style=\"border: 0px\"><tr style=\"border: 0px\">\n",
       "                        <td style=\"border: 0px\">\n",
       "                        <i id=\"status_localhost_d7f1f9f5d9c5af0918168fe4ba81d1c2\"\n",
       "                            class=\"fa fa-2x fa-fw fa-square-o\"\n",
       "                            onmouseover=\"$('#status_localhost_d7f1f9f5d9c5af0918168fe4ba81d1c2').addClass('fa-stop').removeClass('fa-square-o')\"\n",
       "                            onmouseleave=\"$('#status_localhost_d7f1f9f5d9c5af0918168fe4ba81d1c2').addClass('fa-square-o').removeClass('fa-stop')\"\n",
       "                            onclick=\"kill_task('d7f1f9f5d9c5af0918168fe4ba81d1c2', 'localhost')\"\n",
       "                        ></i> </td>\n",
       "                        <td style=\"border:0px\"><a onclick=\"task_info('d7f1f9f5d9c5af0918168fe4ba81d1c2', 'localhost')\"><pre>d7f1f9f5d9c5af0918168fe4ba81d1c2</pre></a></td>\n",
       "                        <td style=\"border:0px\">&nbsp;</td>\n",
       "                        <td style=\"border:0px;text-align=right;\">\n",
       "                        <pre><time id=\"duration_localhost_d7f1f9f5d9c5af0918168fe4ba81d1c2\" datetime=\"1503608541450.3394\">0 sec</time></pre></td>\n",
       "                        </tr>\n",
       "                        </table>"
      ]
     },
     "metadata": {},
     "output_type": "display_data"
    },
    {
     "data": {
      "text/html": [
       "<table id=\"table_localhost_63de6d9666a5da5a00f0d1bff8cf6bd3\" style=\"border: 0px\"><tr style=\"border: 0px\">\n",
       "                        <td style=\"border: 0px\">\n",
       "                        <i id=\"status_localhost_63de6d9666a5da5a00f0d1bff8cf6bd3\"\n",
       "                            class=\"fa fa-2x fa-fw fa-square-o\"\n",
       "                            onmouseover=\"$('#status_localhost_63de6d9666a5da5a00f0d1bff8cf6bd3').addClass('fa-stop').removeClass('fa-square-o')\"\n",
       "                            onmouseleave=\"$('#status_localhost_63de6d9666a5da5a00f0d1bff8cf6bd3').addClass('fa-square-o').removeClass('fa-stop')\"\n",
       "                            onclick=\"kill_task('63de6d9666a5da5a00f0d1bff8cf6bd3', 'localhost')\"\n",
       "                        ></i> </td>\n",
       "                        <td style=\"border:0px\"><a onclick=\"task_info('63de6d9666a5da5a00f0d1bff8cf6bd3', 'localhost')\"><pre>63de6d9666a5da5a00f0d1bff8cf6bd3</pre></a></td>\n",
       "                        <td style=\"border:0px\">&nbsp;</td>\n",
       "                        <td style=\"border:0px;text-align=right;\">\n",
       "                        <pre><time id=\"duration_localhost_63de6d9666a5da5a00f0d1bff8cf6bd3\" datetime=\"1503608541450.8726\">0 sec</time></pre></td>\n",
       "                        </tr>\n",
       "                        </table>"
      ]
     },
     "metadata": {},
     "output_type": "display_data"
    },
    {
     "data": {
      "text/html": [
       "<table id=\"table_localhost_48f318382e473a956a42bc615383706c\" style=\"border: 0px\"><tr style=\"border: 0px\">\n",
       "                        <td style=\"border: 0px\">\n",
       "                        <i id=\"status_localhost_48f318382e473a956a42bc615383706c\"\n",
       "                            class=\"fa fa-2x fa-fw fa-square-o\"\n",
       "                            onmouseover=\"$('#status_localhost_48f318382e473a956a42bc615383706c').addClass('fa-stop').removeClass('fa-square-o')\"\n",
       "                            onmouseleave=\"$('#status_localhost_48f318382e473a956a42bc615383706c').addClass('fa-square-o').removeClass('fa-stop')\"\n",
       "                            onclick=\"kill_task('48f318382e473a956a42bc615383706c', 'localhost')\"\n",
       "                        ></i> </td>\n",
       "                        <td style=\"border:0px\"><a onclick=\"task_info('48f318382e473a956a42bc615383706c', 'localhost')\"><pre>48f318382e473a956a42bc615383706c</pre></a></td>\n",
       "                        <td style=\"border:0px\">&nbsp;</td>\n",
       "                        <td style=\"border:0px;text-align=right;\">\n",
       "                        <pre><time id=\"duration_localhost_48f318382e473a956a42bc615383706c\" datetime=\"1503608541451.2961\">0 sec</time></pre></td>\n",
       "                        </tr>\n",
       "                        </table>"
      ]
     },
     "metadata": {},
     "output_type": "display_data"
    },
    {
     "data": {
      "text/html": [
       "<table id=\"table_localhost_07539deb9be52112bd2df513de428d92\" style=\"border: 0px\"><tr style=\"border: 0px\">\n",
       "                        <td style=\"border: 0px\">\n",
       "                        <i id=\"status_localhost_07539deb9be52112bd2df513de428d92\"\n",
       "                            class=\"fa fa-2x fa-fw fa-square-o\"\n",
       "                            onmouseover=\"$('#status_localhost_07539deb9be52112bd2df513de428d92').addClass('fa-stop').removeClass('fa-square-o')\"\n",
       "                            onmouseleave=\"$('#status_localhost_07539deb9be52112bd2df513de428d92').addClass('fa-square-o').removeClass('fa-stop')\"\n",
       "                            onclick=\"kill_task('07539deb9be52112bd2df513de428d92', 'localhost')\"\n",
       "                        ></i> </td>\n",
       "                        <td style=\"border:0px\"><a onclick=\"task_info('07539deb9be52112bd2df513de428d92', 'localhost')\"><pre>07539deb9be52112bd2df513de428d92</pre></a></td>\n",
       "                        <td style=\"border:0px\">&nbsp;</td>\n",
       "                        <td style=\"border:0px;text-align=right;\">\n",
       "                        <pre><time id=\"duration_localhost_07539deb9be52112bd2df513de428d92\" datetime=\"1503608541451.572\">0 sec</time></pre></td>\n",
       "                        </tr>\n",
       "                        </table>"
      ]
     },
     "metadata": {},
     "output_type": "display_data"
    },
    {
     "data": {
      "text/html": [
       "<table id=\"table_localhost_6e39db4e857cb1850d388e93334e790d\" style=\"border: 0px\"><tr style=\"border: 0px\">\n",
       "                        <td style=\"border: 0px\">\n",
       "                        <i id=\"status_localhost_6e39db4e857cb1850d388e93334e790d\"\n",
       "                            class=\"fa fa-2x fa-fw fa-square-o\"\n",
       "                            onmouseover=\"$('#status_localhost_6e39db4e857cb1850d388e93334e790d').addClass('fa-stop').removeClass('fa-square-o')\"\n",
       "                            onmouseleave=\"$('#status_localhost_6e39db4e857cb1850d388e93334e790d').addClass('fa-square-o').removeClass('fa-stop')\"\n",
       "                            onclick=\"kill_task('6e39db4e857cb1850d388e93334e790d', 'localhost')\"\n",
       "                        ></i> </td>\n",
       "                        <td style=\"border:0px\"><a onclick=\"task_info('6e39db4e857cb1850d388e93334e790d', 'localhost')\"><pre>6e39db4e857cb1850d388e93334e790d</pre></a></td>\n",
       "                        <td style=\"border:0px\">&nbsp;</td>\n",
       "                        <td style=\"border:0px;text-align=right;\">\n",
       "                        <pre><time id=\"duration_localhost_6e39db4e857cb1850d388e93334e790d\" datetime=\"1503608541451.8804\">0 sec</time></pre></td>\n",
       "                        </tr>\n",
       "                        </table>"
      ]
     },
     "metadata": {},
     "output_type": "display_data"
    },
    {
     "data": {
      "text/html": [
       "<table id=\"table_localhost_7d815f3a8f499dc92c032bd87eb8eea3\" style=\"border: 0px\"><tr style=\"border: 0px\">\n",
       "                        <td style=\"border: 0px\">\n",
       "                        <i id=\"status_localhost_7d815f3a8f499dc92c032bd87eb8eea3\"\n",
       "                            class=\"fa fa-2x fa-fw fa-square-o\"\n",
       "                            onmouseover=\"$('#status_localhost_7d815f3a8f499dc92c032bd87eb8eea3').addClass('fa-stop').removeClass('fa-square-o')\"\n",
       "                            onmouseleave=\"$('#status_localhost_7d815f3a8f499dc92c032bd87eb8eea3').addClass('fa-square-o').removeClass('fa-stop')\"\n",
       "                            onclick=\"kill_task('7d815f3a8f499dc92c032bd87eb8eea3', 'localhost')\"\n",
       "                        ></i> </td>\n",
       "                        <td style=\"border:0px\"><a onclick=\"task_info('7d815f3a8f499dc92c032bd87eb8eea3', 'localhost')\"><pre>7d815f3a8f499dc92c032bd87eb8eea3</pre></a></td>\n",
       "                        <td style=\"border:0px\">&nbsp;</td>\n",
       "                        <td style=\"border:0px;text-align=right;\">\n",
       "                        <pre><time id=\"duration_localhost_7d815f3a8f499dc92c032bd87eb8eea3\" datetime=\"1503608541452.1448\">0 sec</time></pre></td>\n",
       "                        </tr>\n",
       "                        </table>"
      ]
     },
     "metadata": {},
     "output_type": "display_data"
    },
    {
     "data": {
      "text/html": [
       "<table id=\"table_localhost_5d9984d0ad5d26a0946bcca25a9d9bb0\" style=\"border: 0px\"><tr style=\"border: 0px\">\n",
       "                        <td style=\"border: 0px\">\n",
       "                        <i id=\"status_localhost_5d9984d0ad5d26a0946bcca25a9d9bb0\"\n",
       "                            class=\"fa fa-2x fa-fw fa-square-o\"\n",
       "                            onmouseover=\"$('#status_localhost_5d9984d0ad5d26a0946bcca25a9d9bb0').addClass('fa-stop').removeClass('fa-square-o')\"\n",
       "                            onmouseleave=\"$('#status_localhost_5d9984d0ad5d26a0946bcca25a9d9bb0').addClass('fa-square-o').removeClass('fa-stop')\"\n",
       "                            onclick=\"kill_task('5d9984d0ad5d26a0946bcca25a9d9bb0', 'localhost')\"\n",
       "                        ></i> </td>\n",
       "                        <td style=\"border:0px\"><a onclick=\"task_info('5d9984d0ad5d26a0946bcca25a9d9bb0', 'localhost')\"><pre>5d9984d0ad5d26a0946bcca25a9d9bb0</pre></a></td>\n",
       "                        <td style=\"border:0px\">&nbsp;</td>\n",
       "                        <td style=\"border:0px;text-align=right;\">\n",
       "                        <pre><time id=\"duration_localhost_5d9984d0ad5d26a0946bcca25a9d9bb0\" datetime=\"1503608541452.4666\">0 sec</time></pre></td>\n",
       "                        </tr>\n",
       "                        </table>"
      ]
     },
     "metadata": {},
     "output_type": "display_data"
    },
    {
     "data": {
      "text/html": [
       "<table id=\"table_localhost_5113f60a46d033a43995e397b80e0ad8\" style=\"border: 0px\"><tr style=\"border: 0px\">\n",
       "                        <td style=\"border: 0px\">\n",
       "                        <i id=\"status_localhost_5113f60a46d033a43995e397b80e0ad8\"\n",
       "                            class=\"fa fa-2x fa-fw fa-square-o\"\n",
       "                            onmouseover=\"$('#status_localhost_5113f60a46d033a43995e397b80e0ad8').addClass('fa-stop').removeClass('fa-square-o')\"\n",
       "                            onmouseleave=\"$('#status_localhost_5113f60a46d033a43995e397b80e0ad8').addClass('fa-square-o').removeClass('fa-stop')\"\n",
       "                            onclick=\"kill_task('5113f60a46d033a43995e397b80e0ad8', 'localhost')\"\n",
       "                        ></i> </td>\n",
       "                        <td style=\"border:0px\"><a onclick=\"task_info('5113f60a46d033a43995e397b80e0ad8', 'localhost')\"><pre>5113f60a46d033a43995e397b80e0ad8</pre></a></td>\n",
       "                        <td style=\"border:0px\">&nbsp;</td>\n",
       "                        <td style=\"border:0px;text-align=right;\">\n",
       "                        <pre><time id=\"duration_localhost_5113f60a46d033a43995e397b80e0ad8\" datetime=\"1503608541452.8518\">0 sec</time></pre></td>\n",
       "                        </tr>\n",
       "                        </table>"
      ]
     },
     "metadata": {},
     "output_type": "display_data"
    },
    {
     "data": {
      "text/html": [
       "<table id=\"table_localhost_418959d01795073a108af4572556637c\" style=\"border: 0px\"><tr style=\"border: 0px\">\n",
       "                        <td style=\"border: 0px\">\n",
       "                        <i id=\"status_localhost_418959d01795073a108af4572556637c\"\n",
       "                            class=\"fa fa-2x fa-fw fa-square-o\"\n",
       "                            onmouseover=\"$('#status_localhost_418959d01795073a108af4572556637c').addClass('fa-stop').removeClass('fa-square-o')\"\n",
       "                            onmouseleave=\"$('#status_localhost_418959d01795073a108af4572556637c').addClass('fa-square-o').removeClass('fa-stop')\"\n",
       "                            onclick=\"kill_task('418959d01795073a108af4572556637c', 'localhost')\"\n",
       "                        ></i> </td>\n",
       "                        <td style=\"border:0px\"><a onclick=\"task_info('418959d01795073a108af4572556637c', 'localhost')\"><pre>418959d01795073a108af4572556637c</pre></a></td>\n",
       "                        <td style=\"border:0px\">&nbsp;</td>\n",
       "                        <td style=\"border:0px;text-align=right;\">\n",
       "                        <pre><time id=\"duration_localhost_418959d01795073a108af4572556637c\" datetime=\"1503608541453.2131\">0 sec</time></pre></td>\n",
       "                        </tr>\n",
       "                        </table>"
      ]
     },
     "metadata": {},
     "output_type": "display_data"
    },
    {
     "data": {
      "text/html": [
       "<table id=\"table_localhost_03963ac9f68df89a7a0c8f9a1daf2488\" style=\"border: 0px\"><tr style=\"border: 0px\">\n",
       "                        <td style=\"border: 0px\">\n",
       "                        <i id=\"status_localhost_03963ac9f68df89a7a0c8f9a1daf2488\"\n",
       "                            class=\"fa fa-2x fa-fw fa-square-o\"\n",
       "                            onmouseover=\"$('#status_localhost_03963ac9f68df89a7a0c8f9a1daf2488').addClass('fa-stop').removeClass('fa-square-o')\"\n",
       "                            onmouseleave=\"$('#status_localhost_03963ac9f68df89a7a0c8f9a1daf2488').addClass('fa-square-o').removeClass('fa-stop')\"\n",
       "                            onclick=\"kill_task('03963ac9f68df89a7a0c8f9a1daf2488', 'localhost')\"\n",
       "                        ></i> </td>\n",
       "                        <td style=\"border:0px\"><a onclick=\"task_info('03963ac9f68df89a7a0c8f9a1daf2488', 'localhost')\"><pre>03963ac9f68df89a7a0c8f9a1daf2488</pre></a></td>\n",
       "                        <td style=\"border:0px\">&nbsp;</td>\n",
       "                        <td style=\"border:0px;text-align=right;\">\n",
       "                        <pre><time id=\"duration_localhost_03963ac9f68df89a7a0c8f9a1daf2488\" datetime=\"1503608541453.5388\">0 sec</time></pre></td>\n",
       "                        </tr>\n",
       "                        </table>"
      ]
     },
     "metadata": {},
     "output_type": "display_data"
    },
    {
     "data": {
      "text/html": [
       "<table id=\"table_localhost_424e3d53867d5faac3f50ee5f05c39eb\" style=\"border: 0px\"><tr style=\"border: 0px\">\n",
       "                        <td style=\"border: 0px\">\n",
       "                        <i id=\"status_localhost_424e3d53867d5faac3f50ee5f05c39eb\"\n",
       "                            class=\"fa fa-2x fa-fw fa-square-o\"\n",
       "                            onmouseover=\"$('#status_localhost_424e3d53867d5faac3f50ee5f05c39eb').addClass('fa-stop').removeClass('fa-square-o')\"\n",
       "                            onmouseleave=\"$('#status_localhost_424e3d53867d5faac3f50ee5f05c39eb').addClass('fa-square-o').removeClass('fa-stop')\"\n",
       "                            onclick=\"kill_task('424e3d53867d5faac3f50ee5f05c39eb', 'localhost')\"\n",
       "                        ></i> </td>\n",
       "                        <td style=\"border:0px\"><a onclick=\"task_info('424e3d53867d5faac3f50ee5f05c39eb', 'localhost')\"><pre>424e3d53867d5faac3f50ee5f05c39eb</pre></a></td>\n",
       "                        <td style=\"border:0px\">&nbsp;</td>\n",
       "                        <td style=\"border:0px;text-align=right;\">\n",
       "                        <pre><time id=\"duration_localhost_424e3d53867d5faac3f50ee5f05c39eb\" datetime=\"1503608541454.0342\">0 sec</time></pre></td>\n",
       "                        </tr>\n",
       "                        </table>"
      ]
     },
     "metadata": {},
     "output_type": "display_data"
    },
    {
     "data": {
      "text/html": [
       "<table id=\"table_localhost_7b7919a8a2d01418da5263dc32360d54\" style=\"border: 0px\"><tr style=\"border: 0px\">\n",
       "                        <td style=\"border: 0px\">\n",
       "                        <i id=\"status_localhost_7b7919a8a2d01418da5263dc32360d54\"\n",
       "                            class=\"fa fa-2x fa-fw fa-square-o\"\n",
       "                            onmouseover=\"$('#status_localhost_7b7919a8a2d01418da5263dc32360d54').addClass('fa-stop').removeClass('fa-square-o')\"\n",
       "                            onmouseleave=\"$('#status_localhost_7b7919a8a2d01418da5263dc32360d54').addClass('fa-square-o').removeClass('fa-stop')\"\n",
       "                            onclick=\"kill_task('7b7919a8a2d01418da5263dc32360d54', 'localhost')\"\n",
       "                        ></i> </td>\n",
       "                        <td style=\"border:0px\"><a onclick=\"task_info('7b7919a8a2d01418da5263dc32360d54', 'localhost')\"><pre>7b7919a8a2d01418da5263dc32360d54</pre></a></td>\n",
       "                        <td style=\"border:0px\">&nbsp;</td>\n",
       "                        <td style=\"border:0px;text-align=right;\">\n",
       "                        <pre><time id=\"duration_localhost_7b7919a8a2d01418da5263dc32360d54\" datetime=\"1503608541454.415\">0 sec</time></pre></td>\n",
       "                        </tr>\n",
       "                        </table>"
      ]
     },
     "metadata": {},
     "output_type": "display_data"
    },
    {
     "data": {
      "text/html": [
       "<table id=\"table_localhost_f1eb32a10834774593588aef3dbb8c05\" style=\"border: 0px\"><tr style=\"border: 0px\">\n",
       "                        <td style=\"border: 0px\">\n",
       "                        <i id=\"status_localhost_f1eb32a10834774593588aef3dbb8c05\"\n",
       "                            class=\"fa fa-2x fa-fw fa-square-o\"\n",
       "                            onmouseover=\"$('#status_localhost_f1eb32a10834774593588aef3dbb8c05').addClass('fa-stop').removeClass('fa-square-o')\"\n",
       "                            onmouseleave=\"$('#status_localhost_f1eb32a10834774593588aef3dbb8c05').addClass('fa-square-o').removeClass('fa-stop')\"\n",
       "                            onclick=\"kill_task('f1eb32a10834774593588aef3dbb8c05', 'localhost')\"\n",
       "                        ></i> </td>\n",
       "                        <td style=\"border:0px\"><a onclick=\"task_info('f1eb32a10834774593588aef3dbb8c05', 'localhost')\"><pre>f1eb32a10834774593588aef3dbb8c05</pre></a></td>\n",
       "                        <td style=\"border:0px\">&nbsp;</td>\n",
       "                        <td style=\"border:0px;text-align=right;\">\n",
       "                        <pre><time id=\"duration_localhost_f1eb32a10834774593588aef3dbb8c05\" datetime=\"1503608541454.9065\">0 sec</time></pre></td>\n",
       "                        </tr>\n",
       "                        </table>"
      ]
     },
     "metadata": {},
     "output_type": "display_data"
    },
    {
     "data": {
      "text/html": [
       "<table id=\"table_localhost_1e366feae74c4a89506dcd5a758f00b3\" style=\"border: 0px\"><tr style=\"border: 0px\">\n",
       "                        <td style=\"border: 0px\">\n",
       "                        <i id=\"status_localhost_1e366feae74c4a89506dcd5a758f00b3\"\n",
       "                            class=\"fa fa-2x fa-fw fa-square-o\"\n",
       "                            onmouseover=\"$('#status_localhost_1e366feae74c4a89506dcd5a758f00b3').addClass('fa-stop').removeClass('fa-square-o')\"\n",
       "                            onmouseleave=\"$('#status_localhost_1e366feae74c4a89506dcd5a758f00b3').addClass('fa-square-o').removeClass('fa-stop')\"\n",
       "                            onclick=\"kill_task('1e366feae74c4a89506dcd5a758f00b3', 'localhost')\"\n",
       "                        ></i> </td>\n",
       "                        <td style=\"border:0px\"><a onclick=\"task_info('1e366feae74c4a89506dcd5a758f00b3', 'localhost')\"><pre>1e366feae74c4a89506dcd5a758f00b3</pre></a></td>\n",
       "                        <td style=\"border:0px\">&nbsp;</td>\n",
       "                        <td style=\"border:0px;text-align=right;\">\n",
       "                        <pre><time id=\"duration_localhost_1e366feae74c4a89506dcd5a758f00b3\" datetime=\"1503608541455.2783\">0 sec</time></pre></td>\n",
       "                        </tr>\n",
       "                        </table>"
      ]
     },
     "metadata": {},
     "output_type": "display_data"
    },
    {
     "data": {
      "text/html": [
       "<table id=\"table_localhost_eb48f115430285ab38b33c16aad18122\" style=\"border: 0px\"><tr style=\"border: 0px\">\n",
       "                        <td style=\"border: 0px\">\n",
       "                        <i id=\"status_localhost_eb48f115430285ab38b33c16aad18122\"\n",
       "                            class=\"fa fa-2x fa-fw fa-square-o\"\n",
       "                            onmouseover=\"$('#status_localhost_eb48f115430285ab38b33c16aad18122').addClass('fa-stop').removeClass('fa-square-o')\"\n",
       "                            onmouseleave=\"$('#status_localhost_eb48f115430285ab38b33c16aad18122').addClass('fa-square-o').removeClass('fa-stop')\"\n",
       "                            onclick=\"kill_task('eb48f115430285ab38b33c16aad18122', 'localhost')\"\n",
       "                        ></i> </td>\n",
       "                        <td style=\"border:0px\"><a onclick=\"task_info('eb48f115430285ab38b33c16aad18122', 'localhost')\"><pre>eb48f115430285ab38b33c16aad18122</pre></a></td>\n",
       "                        <td style=\"border:0px\">&nbsp;</td>\n",
       "                        <td style=\"border:0px;text-align=right;\">\n",
       "                        <pre><time id=\"duration_localhost_eb48f115430285ab38b33c16aad18122\" datetime=\"1503608541455.6812\">0 sec</time></pre></td>\n",
       "                        </tr>\n",
       "                        </table>"
      ]
     },
     "metadata": {},
     "output_type": "display_data"
    },
    {
     "data": {
      "text/html": [
       "<table id=\"table_localhost_8e562684f7ab093d1761a47d05bfeaf0\" style=\"border: 0px\"><tr style=\"border: 0px\">\n",
       "                        <td style=\"border: 0px\">\n",
       "                        <i id=\"status_localhost_8e562684f7ab093d1761a47d05bfeaf0\"\n",
       "                            class=\"fa fa-2x fa-fw fa-square-o\"\n",
       "                            onmouseover=\"$('#status_localhost_8e562684f7ab093d1761a47d05bfeaf0').addClass('fa-stop').removeClass('fa-square-o')\"\n",
       "                            onmouseleave=\"$('#status_localhost_8e562684f7ab093d1761a47d05bfeaf0').addClass('fa-square-o').removeClass('fa-stop')\"\n",
       "                            onclick=\"kill_task('8e562684f7ab093d1761a47d05bfeaf0', 'localhost')\"\n",
       "                        ></i> </td>\n",
       "                        <td style=\"border:0px\"><a onclick=\"task_info('8e562684f7ab093d1761a47d05bfeaf0', 'localhost')\"><pre>8e562684f7ab093d1761a47d05bfeaf0</pre></a></td>\n",
       "                        <td style=\"border:0px\">&nbsp;</td>\n",
       "                        <td style=\"border:0px;text-align=right;\">\n",
       "                        <pre><time id=\"duration_localhost_8e562684f7ab093d1761a47d05bfeaf0\" datetime=\"1503608541456.0579\">0 sec</time></pre></td>\n",
       "                        </tr>\n",
       "                        </table>"
      ]
     },
     "metadata": {},
     "output_type": "display_data"
    },
    {
     "data": {
      "text/html": [
       "<table id=\"table_localhost_1b08ea6b9968a5943a328c6b63164af5\" style=\"border: 0px\"><tr style=\"border: 0px\">\n",
       "                        <td style=\"border: 0px\">\n",
       "                        <i id=\"status_localhost_1b08ea6b9968a5943a328c6b63164af5\"\n",
       "                            class=\"fa fa-2x fa-fw fa-square-o\"\n",
       "                            onmouseover=\"$('#status_localhost_1b08ea6b9968a5943a328c6b63164af5').addClass('fa-stop').removeClass('fa-square-o')\"\n",
       "                            onmouseleave=\"$('#status_localhost_1b08ea6b9968a5943a328c6b63164af5').addClass('fa-square-o').removeClass('fa-stop')\"\n",
       "                            onclick=\"kill_task('1b08ea6b9968a5943a328c6b63164af5', 'localhost')\"\n",
       "                        ></i> </td>\n",
       "                        <td style=\"border:0px\"><a onclick=\"task_info('1b08ea6b9968a5943a328c6b63164af5', 'localhost')\"><pre>1b08ea6b9968a5943a328c6b63164af5</pre></a></td>\n",
       "                        <td style=\"border:0px\">&nbsp;</td>\n",
       "                        <td style=\"border:0px;text-align=right;\">\n",
       "                        <pre><time id=\"duration_localhost_1b08ea6b9968a5943a328c6b63164af5\" datetime=\"1503608541456.3967\">0 sec</time></pre></td>\n",
       "                        </tr>\n",
       "                        </table>"
      ]
     },
     "metadata": {},
     "output_type": "display_data"
    },
    {
     "data": {
      "text/html": [
       "<table id=\"table_localhost_0f4b12ca89c647c26652bb5ee14001e2\" style=\"border: 0px\"><tr style=\"border: 0px\">\n",
       "                        <td style=\"border: 0px\">\n",
       "                        <i id=\"status_localhost_0f4b12ca89c647c26652bb5ee14001e2\"\n",
       "                            class=\"fa fa-2x fa-fw fa-square-o\"\n",
       "                            onmouseover=\"$('#status_localhost_0f4b12ca89c647c26652bb5ee14001e2').addClass('fa-stop').removeClass('fa-square-o')\"\n",
       "                            onmouseleave=\"$('#status_localhost_0f4b12ca89c647c26652bb5ee14001e2').addClass('fa-square-o').removeClass('fa-stop')\"\n",
       "                            onclick=\"kill_task('0f4b12ca89c647c26652bb5ee14001e2', 'localhost')\"\n",
       "                        ></i> </td>\n",
       "                        <td style=\"border:0px\"><a onclick=\"task_info('0f4b12ca89c647c26652bb5ee14001e2', 'localhost')\"><pre>0f4b12ca89c647c26652bb5ee14001e2</pre></a></td>\n",
       "                        <td style=\"border:0px\">&nbsp;</td>\n",
       "                        <td style=\"border:0px;text-align=right;\">\n",
       "                        <pre><time id=\"duration_localhost_0f4b12ca89c647c26652bb5ee14001e2\" datetime=\"1503608541456.726\">0 sec</time></pre></td>\n",
       "                        </tr>\n",
       "                        </table>"
      ]
     },
     "metadata": {},
     "output_type": "display_data"
    },
    {
     "data": {
      "text/html": [
       "<table id=\"table_localhost_05b633bc1ec7fe4be58eaecb571aa669\" style=\"border: 0px\"><tr style=\"border: 0px\">\n",
       "                        <td style=\"border: 0px\">\n",
       "                        <i id=\"status_localhost_05b633bc1ec7fe4be58eaecb571aa669\"\n",
       "                            class=\"fa fa-2x fa-fw fa-square-o\"\n",
       "                            onmouseover=\"$('#status_localhost_05b633bc1ec7fe4be58eaecb571aa669').addClass('fa-stop').removeClass('fa-square-o')\"\n",
       "                            onmouseleave=\"$('#status_localhost_05b633bc1ec7fe4be58eaecb571aa669').addClass('fa-square-o').removeClass('fa-stop')\"\n",
       "                            onclick=\"kill_task('05b633bc1ec7fe4be58eaecb571aa669', 'localhost')\"\n",
       "                        ></i> </td>\n",
       "                        <td style=\"border:0px\"><a onclick=\"task_info('05b633bc1ec7fe4be58eaecb571aa669', 'localhost')\"><pre>05b633bc1ec7fe4be58eaecb571aa669</pre></a></td>\n",
       "                        <td style=\"border:0px\">&nbsp;</td>\n",
       "                        <td style=\"border:0px;text-align=right;\">\n",
       "                        <pre><time id=\"duration_localhost_05b633bc1ec7fe4be58eaecb571aa669\" datetime=\"1503608541457.0962\">0 sec</time></pre></td>\n",
       "                        </tr>\n",
       "                        </table>"
      ]
     },
     "metadata": {},
     "output_type": "display_data"
    },
    {
     "data": {
      "text/html": [
       "<table id=\"table_localhost_43f966db6c706293397b203d906b6d47\" style=\"border: 0px\"><tr style=\"border: 0px\">\n",
       "                        <td style=\"border: 0px\">\n",
       "                        <i id=\"status_localhost_43f966db6c706293397b203d906b6d47\"\n",
       "                            class=\"fa fa-2x fa-fw fa-square-o\"\n",
       "                            onmouseover=\"$('#status_localhost_43f966db6c706293397b203d906b6d47').addClass('fa-stop').removeClass('fa-square-o')\"\n",
       "                            onmouseleave=\"$('#status_localhost_43f966db6c706293397b203d906b6d47').addClass('fa-square-o').removeClass('fa-stop')\"\n",
       "                            onclick=\"kill_task('43f966db6c706293397b203d906b6d47', 'localhost')\"\n",
       "                        ></i> </td>\n",
       "                        <td style=\"border:0px\"><a onclick=\"task_info('43f966db6c706293397b203d906b6d47', 'localhost')\"><pre>43f966db6c706293397b203d906b6d47</pre></a></td>\n",
       "                        <td style=\"border:0px\">&nbsp;</td>\n",
       "                        <td style=\"border:0px;text-align=right;\">\n",
       "                        <pre><time id=\"duration_localhost_43f966db6c706293397b203d906b6d47\" datetime=\"1503608541457.3962\">0 sec</time></pre></td>\n",
       "                        </tr>\n",
       "                        </table>"
      ]
     },
     "metadata": {},
     "output_type": "display_data"
    },
    {
     "data": {
      "text/html": [
       "<table id=\"table_localhost_d4780ac723704e2a1aba8af32bc8f886\" style=\"border: 0px\"><tr style=\"border: 0px\">\n",
       "                        <td style=\"border: 0px\">\n",
       "                        <i id=\"status_localhost_d4780ac723704e2a1aba8af32bc8f886\"\n",
       "                            class=\"fa fa-2x fa-fw fa-square-o\"\n",
       "                            onmouseover=\"$('#status_localhost_d4780ac723704e2a1aba8af32bc8f886').addClass('fa-stop').removeClass('fa-square-o')\"\n",
       "                            onmouseleave=\"$('#status_localhost_d4780ac723704e2a1aba8af32bc8f886').addClass('fa-square-o').removeClass('fa-stop')\"\n",
       "                            onclick=\"kill_task('d4780ac723704e2a1aba8af32bc8f886', 'localhost')\"\n",
       "                        ></i> </td>\n",
       "                        <td style=\"border:0px\"><a onclick=\"task_info('d4780ac723704e2a1aba8af32bc8f886', 'localhost')\"><pre>d4780ac723704e2a1aba8af32bc8f886</pre></a></td>\n",
       "                        <td style=\"border:0px\">&nbsp;</td>\n",
       "                        <td style=\"border:0px;text-align=right;\">\n",
       "                        <pre><time id=\"duration_localhost_d4780ac723704e2a1aba8af32bc8f886\" datetime=\"1503608541457.7612\">0 sec</time></pre></td>\n",
       "                        </tr>\n",
       "                        </table>"
      ]
     },
     "metadata": {},
     "output_type": "display_data"
    },
    {
     "data": {
      "text/html": [
       "<table id=\"table_localhost_ac95e52764980f86f7f554f2369e3635\" style=\"border: 0px\"><tr style=\"border: 0px\">\n",
       "                        <td style=\"border: 0px\">\n",
       "                        <i id=\"status_localhost_ac95e52764980f86f7f554f2369e3635\"\n",
       "                            class=\"fa fa-2x fa-fw fa-square-o\"\n",
       "                            onmouseover=\"$('#status_localhost_ac95e52764980f86f7f554f2369e3635').addClass('fa-stop').removeClass('fa-square-o')\"\n",
       "                            onmouseleave=\"$('#status_localhost_ac95e52764980f86f7f554f2369e3635').addClass('fa-square-o').removeClass('fa-stop')\"\n",
       "                            onclick=\"kill_task('ac95e52764980f86f7f554f2369e3635', 'localhost')\"\n",
       "                        ></i> </td>\n",
       "                        <td style=\"border:0px\"><a onclick=\"task_info('ac95e52764980f86f7f554f2369e3635', 'localhost')\"><pre>ac95e52764980f86f7f554f2369e3635</pre></a></td>\n",
       "                        <td style=\"border:0px\">&nbsp;</td>\n",
       "                        <td style=\"border:0px;text-align=right;\">\n",
       "                        <pre><time id=\"duration_localhost_ac95e52764980f86f7f554f2369e3635\" datetime=\"1503608541458.0718\">0 sec</time></pre></td>\n",
       "                        </tr>\n",
       "                        </table>"
      ]
     },
     "metadata": {},
     "output_type": "display_data"
    },
    {
     "data": {
      "text/html": [
       "<table id=\"table_localhost_e793c3dc6bd67a68675efefac3f0b3af\" style=\"border: 0px\"><tr style=\"border: 0px\">\n",
       "                        <td style=\"border: 0px\">\n",
       "                        <i id=\"status_localhost_e793c3dc6bd67a68675efefac3f0b3af\"\n",
       "                            class=\"fa fa-2x fa-fw fa-square-o\"\n",
       "                            onmouseover=\"$('#status_localhost_e793c3dc6bd67a68675efefac3f0b3af').addClass('fa-stop').removeClass('fa-square-o')\"\n",
       "                            onmouseleave=\"$('#status_localhost_e793c3dc6bd67a68675efefac3f0b3af').addClass('fa-square-o').removeClass('fa-stop')\"\n",
       "                            onclick=\"kill_task('e793c3dc6bd67a68675efefac3f0b3af', 'localhost')\"\n",
       "                        ></i> </td>\n",
       "                        <td style=\"border:0px\"><a onclick=\"task_info('e793c3dc6bd67a68675efefac3f0b3af', 'localhost')\"><pre>e793c3dc6bd67a68675efefac3f0b3af</pre></a></td>\n",
       "                        <td style=\"border:0px\">&nbsp;</td>\n",
       "                        <td style=\"border:0px;text-align=right;\">\n",
       "                        <pre><time id=\"duration_localhost_e793c3dc6bd67a68675efefac3f0b3af\" datetime=\"1503608541458.7188\">0 sec</time></pre></td>\n",
       "                        </tr>\n",
       "                        </table>"
      ]
     },
     "metadata": {},
     "output_type": "display_data"
    },
    {
     "data": {
      "text/html": [
       "<table id=\"table_localhost_9c7fcde869b7a88788c02c2cee505545\" style=\"border: 0px\"><tr style=\"border: 0px\">\n",
       "                        <td style=\"border: 0px\">\n",
       "                        <i id=\"status_localhost_9c7fcde869b7a88788c02c2cee505545\"\n",
       "                            class=\"fa fa-2x fa-fw fa-square-o\"\n",
       "                            onmouseover=\"$('#status_localhost_9c7fcde869b7a88788c02c2cee505545').addClass('fa-stop').removeClass('fa-square-o')\"\n",
       "                            onmouseleave=\"$('#status_localhost_9c7fcde869b7a88788c02c2cee505545').addClass('fa-square-o').removeClass('fa-stop')\"\n",
       "                            onclick=\"kill_task('9c7fcde869b7a88788c02c2cee505545', 'localhost')\"\n",
       "                        ></i> </td>\n",
       "                        <td style=\"border:0px\"><a onclick=\"task_info('9c7fcde869b7a88788c02c2cee505545', 'localhost')\"><pre>9c7fcde869b7a88788c02c2cee505545</pre></a></td>\n",
       "                        <td style=\"border:0px\">&nbsp;</td>\n",
       "                        <td style=\"border:0px;text-align=right;\">\n",
       "                        <pre><time id=\"duration_localhost_9c7fcde869b7a88788c02c2cee505545\" datetime=\"1503608541459.0327\">0 sec</time></pre></td>\n",
       "                        </tr>\n",
       "                        </table>"
      ]
     },
     "metadata": {},
     "output_type": "display_data"
    },
    {
     "data": {
      "text/html": [
       "<table id=\"table_localhost_44d1db2151883bf943f4c6cccc9b77d9\" style=\"border: 0px\"><tr style=\"border: 0px\">\n",
       "                        <td style=\"border: 0px\">\n",
       "                        <i id=\"status_localhost_44d1db2151883bf943f4c6cccc9b77d9\"\n",
       "                            class=\"fa fa-2x fa-fw fa-square-o\"\n",
       "                            onmouseover=\"$('#status_localhost_44d1db2151883bf943f4c6cccc9b77d9').addClass('fa-stop').removeClass('fa-square-o')\"\n",
       "                            onmouseleave=\"$('#status_localhost_44d1db2151883bf943f4c6cccc9b77d9').addClass('fa-square-o').removeClass('fa-stop')\"\n",
       "                            onclick=\"kill_task('44d1db2151883bf943f4c6cccc9b77d9', 'localhost')\"\n",
       "                        ></i> </td>\n",
       "                        <td style=\"border:0px\"><a onclick=\"task_info('44d1db2151883bf943f4c6cccc9b77d9', 'localhost')\"><pre>44d1db2151883bf943f4c6cccc9b77d9</pre></a></td>\n",
       "                        <td style=\"border:0px\">&nbsp;</td>\n",
       "                        <td style=\"border:0px;text-align=right;\">\n",
       "                        <pre><time id=\"duration_localhost_44d1db2151883bf943f4c6cccc9b77d9\" datetime=\"1503608541459.3005\">0 sec</time></pre></td>\n",
       "                        </tr>\n",
       "                        </table>"
      ]
     },
     "metadata": {},
     "output_type": "display_data"
    },
    {
     "data": {
      "text/html": [
       "<table id=\"table_localhost_2f0a1f69874fa5309e2c03268804db60\" style=\"border: 0px\"><tr style=\"border: 0px\">\n",
       "                        <td style=\"border: 0px\">\n",
       "                        <i id=\"status_localhost_2f0a1f69874fa5309e2c03268804db60\"\n",
       "                            class=\"fa fa-2x fa-fw fa-square-o\"\n",
       "                            onmouseover=\"$('#status_localhost_2f0a1f69874fa5309e2c03268804db60').addClass('fa-stop').removeClass('fa-square-o')\"\n",
       "                            onmouseleave=\"$('#status_localhost_2f0a1f69874fa5309e2c03268804db60').addClass('fa-square-o').removeClass('fa-stop')\"\n",
       "                            onclick=\"kill_task('2f0a1f69874fa5309e2c03268804db60', 'localhost')\"\n",
       "                        ></i> </td>\n",
       "                        <td style=\"border:0px\"><a onclick=\"task_info('2f0a1f69874fa5309e2c03268804db60', 'localhost')\"><pre>2f0a1f69874fa5309e2c03268804db60</pre></a></td>\n",
       "                        <td style=\"border:0px\">&nbsp;</td>\n",
       "                        <td style=\"border:0px;text-align=right;\">\n",
       "                        <pre><time id=\"duration_localhost_2f0a1f69874fa5309e2c03268804db60\" datetime=\"1503608541459.5437\">0 sec</time></pre></td>\n",
       "                        </tr>\n",
       "                        </table>"
      ]
     },
     "metadata": {},
     "output_type": "display_data"
    },
    {
     "data": {
      "text/html": [
       "<table id=\"table_localhost_780c90eee0652f791e01baf6ca9d3daa\" style=\"border: 0px\"><tr style=\"border: 0px\">\n",
       "                        <td style=\"border: 0px\">\n",
       "                        <i id=\"status_localhost_780c90eee0652f791e01baf6ca9d3daa\"\n",
       "                            class=\"fa fa-2x fa-fw fa-square-o\"\n",
       "                            onmouseover=\"$('#status_localhost_780c90eee0652f791e01baf6ca9d3daa').addClass('fa-stop').removeClass('fa-square-o')\"\n",
       "                            onmouseleave=\"$('#status_localhost_780c90eee0652f791e01baf6ca9d3daa').addClass('fa-square-o').removeClass('fa-stop')\"\n",
       "                            onclick=\"kill_task('780c90eee0652f791e01baf6ca9d3daa', 'localhost')\"\n",
       "                        ></i> </td>\n",
       "                        <td style=\"border:0px\"><a onclick=\"task_info('780c90eee0652f791e01baf6ca9d3daa', 'localhost')\"><pre>780c90eee0652f791e01baf6ca9d3daa</pre></a></td>\n",
       "                        <td style=\"border:0px\">&nbsp;</td>\n",
       "                        <td style=\"border:0px;text-align=right;\">\n",
       "                        <pre><time id=\"duration_localhost_780c90eee0652f791e01baf6ca9d3daa\" datetime=\"1503608541459.835\">0 sec</time></pre></td>\n",
       "                        </tr>\n",
       "                        </table>"
      ]
     },
     "metadata": {},
     "output_type": "display_data"
    },
    {
     "data": {
      "text/html": [
       "<table id=\"table_localhost_1fb85c64d1d0c3f66667e6299743049f\" style=\"border: 0px\"><tr style=\"border: 0px\">\n",
       "                        <td style=\"border: 0px\">\n",
       "                        <i id=\"status_localhost_1fb85c64d1d0c3f66667e6299743049f\"\n",
       "                            class=\"fa fa-2x fa-fw fa-square-o\"\n",
       "                            onmouseover=\"$('#status_localhost_1fb85c64d1d0c3f66667e6299743049f').addClass('fa-stop').removeClass('fa-square-o')\"\n",
       "                            onmouseleave=\"$('#status_localhost_1fb85c64d1d0c3f66667e6299743049f').addClass('fa-square-o').removeClass('fa-stop')\"\n",
       "                            onclick=\"kill_task('1fb85c64d1d0c3f66667e6299743049f', 'localhost')\"\n",
       "                        ></i> </td>\n",
       "                        <td style=\"border:0px\"><a onclick=\"task_info('1fb85c64d1d0c3f66667e6299743049f', 'localhost')\"><pre>1fb85c64d1d0c3f66667e6299743049f</pre></a></td>\n",
       "                        <td style=\"border:0px\">&nbsp;</td>\n",
       "                        <td style=\"border:0px;text-align=right;\">\n",
       "                        <pre><time id=\"duration_localhost_1fb85c64d1d0c3f66667e6299743049f\" datetime=\"1503608541460.1636\">0 sec</time></pre></td>\n",
       "                        </tr>\n",
       "                        </table>"
      ]
     },
     "metadata": {},
     "output_type": "display_data"
    },
    {
     "data": {
      "text/html": [
       "<table id=\"table_localhost_84fbe107b2aa02d69c192fa97daf14a3\" style=\"border: 0px\"><tr style=\"border: 0px\">\n",
       "                        <td style=\"border: 0px\">\n",
       "                        <i id=\"status_localhost_84fbe107b2aa02d69c192fa97daf14a3\"\n",
       "                            class=\"fa fa-2x fa-fw fa-square-o\"\n",
       "                            onmouseover=\"$('#status_localhost_84fbe107b2aa02d69c192fa97daf14a3').addClass('fa-stop').removeClass('fa-square-o')\"\n",
       "                            onmouseleave=\"$('#status_localhost_84fbe107b2aa02d69c192fa97daf14a3').addClass('fa-square-o').removeClass('fa-stop')\"\n",
       "                            onclick=\"kill_task('84fbe107b2aa02d69c192fa97daf14a3', 'localhost')\"\n",
       "                        ></i> </td>\n",
       "                        <td style=\"border:0px\"><a onclick=\"task_info('84fbe107b2aa02d69c192fa97daf14a3', 'localhost')\"><pre>84fbe107b2aa02d69c192fa97daf14a3</pre></a></td>\n",
       "                        <td style=\"border:0px\">&nbsp;</td>\n",
       "                        <td style=\"border:0px;text-align=right;\">\n",
       "                        <pre><time id=\"duration_localhost_84fbe107b2aa02d69c192fa97daf14a3\" datetime=\"1503608541462.4573\">0 sec</time></pre></td>\n",
       "                        </tr>\n",
       "                        </table>"
      ]
     },
     "metadata": {},
     "output_type": "display_data"
    },
    {
     "data": {
      "text/html": [
       "<table id=\"table_localhost_e475b9d517cdf946167052834eb3ea06\" style=\"border: 0px\"><tr style=\"border: 0px\">\n",
       "                        <td style=\"border: 0px\">\n",
       "                        <i id=\"status_localhost_e475b9d517cdf946167052834eb3ea06\"\n",
       "                            class=\"fa fa-2x fa-fw fa-square-o\"\n",
       "                            onmouseover=\"$('#status_localhost_e475b9d517cdf946167052834eb3ea06').addClass('fa-stop').removeClass('fa-square-o')\"\n",
       "                            onmouseleave=\"$('#status_localhost_e475b9d517cdf946167052834eb3ea06').addClass('fa-square-o').removeClass('fa-stop')\"\n",
       "                            onclick=\"kill_task('e475b9d517cdf946167052834eb3ea06', 'localhost')\"\n",
       "                        ></i> </td>\n",
       "                        <td style=\"border:0px\"><a onclick=\"task_info('e475b9d517cdf946167052834eb3ea06', 'localhost')\"><pre>e475b9d517cdf946167052834eb3ea06</pre></a></td>\n",
       "                        <td style=\"border:0px\">&nbsp;</td>\n",
       "                        <td style=\"border:0px;text-align=right;\">\n",
       "                        <pre><time id=\"duration_localhost_e475b9d517cdf946167052834eb3ea06\" datetime=\"1503608541462.8215\">0 sec</time></pre></td>\n",
       "                        </tr>\n",
       "                        </table>"
      ]
     },
     "metadata": {},
     "output_type": "display_data"
    },
    {
     "data": {
      "text/html": [
       "<table id=\"table_localhost_09fa2005e06bc3d6232d184075226eff\" style=\"border: 0px\"><tr style=\"border: 0px\">\n",
       "                        <td style=\"border: 0px\">\n",
       "                        <i id=\"status_localhost_09fa2005e06bc3d6232d184075226eff\"\n",
       "                            class=\"fa fa-2x fa-fw fa-square-o\"\n",
       "                            onmouseover=\"$('#status_localhost_09fa2005e06bc3d6232d184075226eff').addClass('fa-stop').removeClass('fa-square-o')\"\n",
       "                            onmouseleave=\"$('#status_localhost_09fa2005e06bc3d6232d184075226eff').addClass('fa-square-o').removeClass('fa-stop')\"\n",
       "                            onclick=\"kill_task('09fa2005e06bc3d6232d184075226eff', 'localhost')\"\n",
       "                        ></i> </td>\n",
       "                        <td style=\"border:0px\"><a onclick=\"task_info('09fa2005e06bc3d6232d184075226eff', 'localhost')\"><pre>09fa2005e06bc3d6232d184075226eff</pre></a></td>\n",
       "                        <td style=\"border:0px\">&nbsp;</td>\n",
       "                        <td style=\"border:0px;text-align=right;\">\n",
       "                        <pre><time id=\"duration_localhost_09fa2005e06bc3d6232d184075226eff\" datetime=\"1503608541467.0781\">0 sec</time></pre></td>\n",
       "                        </tr>\n",
       "                        </table>"
      ]
     },
     "metadata": {},
     "output_type": "display_data"
    },
    {
     "data": {
      "text/html": [
       "<table id=\"table_localhost_8bb0ec52e754712c4bbd3897badf98f0\" style=\"border: 0px\"><tr style=\"border: 0px\">\n",
       "                        <td style=\"border: 0px\">\n",
       "                        <i id=\"status_localhost_8bb0ec52e754712c4bbd3897badf98f0\"\n",
       "                            class=\"fa fa-2x fa-fw fa-square-o\"\n",
       "                            onmouseover=\"$('#status_localhost_8bb0ec52e754712c4bbd3897badf98f0').addClass('fa-stop').removeClass('fa-square-o')\"\n",
       "                            onmouseleave=\"$('#status_localhost_8bb0ec52e754712c4bbd3897badf98f0').addClass('fa-square-o').removeClass('fa-stop')\"\n",
       "                            onclick=\"kill_task('8bb0ec52e754712c4bbd3897badf98f0', 'localhost')\"\n",
       "                        ></i> </td>\n",
       "                        <td style=\"border:0px\"><a onclick=\"task_info('8bb0ec52e754712c4bbd3897badf98f0', 'localhost')\"><pre>8bb0ec52e754712c4bbd3897badf98f0</pre></a></td>\n",
       "                        <td style=\"border:0px\">&nbsp;</td>\n",
       "                        <td style=\"border:0px;text-align=right;\">\n",
       "                        <pre><time id=\"duration_localhost_8bb0ec52e754712c4bbd3897badf98f0\" datetime=\"1503608541467.3252\">0 sec</time></pre></td>\n",
       "                        </tr>\n",
       "                        </table>"
      ]
     },
     "metadata": {},
     "output_type": "display_data"
    },
    {
     "data": {
      "text/html": [
       "<table id=\"table_localhost_bc5fade7956f65b09c13792f01e76ce2\" style=\"border: 0px\"><tr style=\"border: 0px\">\n",
       "                        <td style=\"border: 0px\">\n",
       "                        <i id=\"status_localhost_bc5fade7956f65b09c13792f01e76ce2\"\n",
       "                            class=\"fa fa-2x fa-fw fa-square-o\"\n",
       "                            onmouseover=\"$('#status_localhost_bc5fade7956f65b09c13792f01e76ce2').addClass('fa-stop').removeClass('fa-square-o')\"\n",
       "                            onmouseleave=\"$('#status_localhost_bc5fade7956f65b09c13792f01e76ce2').addClass('fa-square-o').removeClass('fa-stop')\"\n",
       "                            onclick=\"kill_task('bc5fade7956f65b09c13792f01e76ce2', 'localhost')\"\n",
       "                        ></i> </td>\n",
       "                        <td style=\"border:0px\"><a onclick=\"task_info('bc5fade7956f65b09c13792f01e76ce2', 'localhost')\"><pre>bc5fade7956f65b09c13792f01e76ce2</pre></a></td>\n",
       "                        <td style=\"border:0px\">&nbsp;</td>\n",
       "                        <td style=\"border:0px;text-align=right;\">\n",
       "                        <pre><time id=\"duration_localhost_bc5fade7956f65b09c13792f01e76ce2\" datetime=\"1503608541467.5425\">0 sec</time></pre></td>\n",
       "                        </tr>\n",
       "                        </table>"
      ]
     },
     "metadata": {},
     "output_type": "display_data"
    },
    {
     "data": {
      "text/html": [
       "<table id=\"table_localhost_ace3ad6a6f335df458cc6857cdd4234a\" style=\"border: 0px\"><tr style=\"border: 0px\">\n",
       "                        <td style=\"border: 0px\">\n",
       "                        <i id=\"status_localhost_ace3ad6a6f335df458cc6857cdd4234a\"\n",
       "                            class=\"fa fa-2x fa-fw fa-square-o\"\n",
       "                            onmouseover=\"$('#status_localhost_ace3ad6a6f335df458cc6857cdd4234a').addClass('fa-stop').removeClass('fa-square-o')\"\n",
       "                            onmouseleave=\"$('#status_localhost_ace3ad6a6f335df458cc6857cdd4234a').addClass('fa-square-o').removeClass('fa-stop')\"\n",
       "                            onclick=\"kill_task('ace3ad6a6f335df458cc6857cdd4234a', 'localhost')\"\n",
       "                        ></i> </td>\n",
       "                        <td style=\"border:0px\"><a onclick=\"task_info('ace3ad6a6f335df458cc6857cdd4234a', 'localhost')\"><pre>ace3ad6a6f335df458cc6857cdd4234a</pre></a></td>\n",
       "                        <td style=\"border:0px\">&nbsp;</td>\n",
       "                        <td style=\"border:0px;text-align=right;\">\n",
       "                        <pre><time id=\"duration_localhost_ace3ad6a6f335df458cc6857cdd4234a\" datetime=\"1503608541467.759\">0 sec</time></pre></td>\n",
       "                        </tr>\n",
       "                        </table>"
      ]
     },
     "metadata": {},
     "output_type": "display_data"
    },
    {
     "data": {
      "text/html": [
       "<table id=\"table_localhost_76e1370c8f42091aed8784ee08e15219\" style=\"border: 0px\"><tr style=\"border: 0px\">\n",
       "                        <td style=\"border: 0px\">\n",
       "                        <i id=\"status_localhost_76e1370c8f42091aed8784ee08e15219\"\n",
       "                            class=\"fa fa-2x fa-fw fa-square-o\"\n",
       "                            onmouseover=\"$('#status_localhost_76e1370c8f42091aed8784ee08e15219').addClass('fa-stop').removeClass('fa-square-o')\"\n",
       "                            onmouseleave=\"$('#status_localhost_76e1370c8f42091aed8784ee08e15219').addClass('fa-square-o').removeClass('fa-stop')\"\n",
       "                            onclick=\"kill_task('76e1370c8f42091aed8784ee08e15219', 'localhost')\"\n",
       "                        ></i> </td>\n",
       "                        <td style=\"border:0px\"><a onclick=\"task_info('76e1370c8f42091aed8784ee08e15219', 'localhost')\"><pre>76e1370c8f42091aed8784ee08e15219</pre></a></td>\n",
       "                        <td style=\"border:0px\">&nbsp;</td>\n",
       "                        <td style=\"border:0px;text-align=right;\">\n",
       "                        <pre><time id=\"duration_localhost_76e1370c8f42091aed8784ee08e15219\" datetime=\"1503608541468.379\">0 sec</time></pre></td>\n",
       "                        </tr>\n",
       "                        </table>"
      ]
     },
     "metadata": {},
     "output_type": "display_data"
    },
    {
     "data": {
      "text/html": [
       "<table id=\"table_localhost_2a0ca85c91ae2c50fef393e5df3efc59\" style=\"border: 0px\"><tr style=\"border: 0px\">\n",
       "                        <td style=\"border: 0px\">\n",
       "                        <i id=\"status_localhost_2a0ca85c91ae2c50fef393e5df3efc59\"\n",
       "                            class=\"fa fa-2x fa-fw fa-square-o\"\n",
       "                            onmouseover=\"$('#status_localhost_2a0ca85c91ae2c50fef393e5df3efc59').addClass('fa-stop').removeClass('fa-square-o')\"\n",
       "                            onmouseleave=\"$('#status_localhost_2a0ca85c91ae2c50fef393e5df3efc59').addClass('fa-square-o').removeClass('fa-stop')\"\n",
       "                            onclick=\"kill_task('2a0ca85c91ae2c50fef393e5df3efc59', 'localhost')\"\n",
       "                        ></i> </td>\n",
       "                        <td style=\"border:0px\"><a onclick=\"task_info('2a0ca85c91ae2c50fef393e5df3efc59', 'localhost')\"><pre>2a0ca85c91ae2c50fef393e5df3efc59</pre></a></td>\n",
       "                        <td style=\"border:0px\">&nbsp;</td>\n",
       "                        <td style=\"border:0px;text-align=right;\">\n",
       "                        <pre><time id=\"duration_localhost_2a0ca85c91ae2c50fef393e5df3efc59\" datetime=\"1503608541468.6487\">0 sec</time></pre></td>\n",
       "                        </tr>\n",
       "                        </table>"
      ]
     },
     "metadata": {},
     "output_type": "display_data"
    },
    {
     "data": {
      "text/html": [
       "<table id=\"table_localhost_fdd193d5b30cf300dc7f312c1a355476\" style=\"border: 0px\"><tr style=\"border: 0px\">\n",
       "                        <td style=\"border: 0px\">\n",
       "                        <i id=\"status_localhost_fdd193d5b30cf300dc7f312c1a355476\"\n",
       "                            class=\"fa fa-2x fa-fw fa-square-o\"\n",
       "                            onmouseover=\"$('#status_localhost_fdd193d5b30cf300dc7f312c1a355476').addClass('fa-stop').removeClass('fa-square-o')\"\n",
       "                            onmouseleave=\"$('#status_localhost_fdd193d5b30cf300dc7f312c1a355476').addClass('fa-square-o').removeClass('fa-stop')\"\n",
       "                            onclick=\"kill_task('fdd193d5b30cf300dc7f312c1a355476', 'localhost')\"\n",
       "                        ></i> </td>\n",
       "                        <td style=\"border:0px\"><a onclick=\"task_info('fdd193d5b30cf300dc7f312c1a355476', 'localhost')\"><pre>fdd193d5b30cf300dc7f312c1a355476</pre></a></td>\n",
       "                        <td style=\"border:0px\">&nbsp;</td>\n",
       "                        <td style=\"border:0px;text-align=right;\">\n",
       "                        <pre><time id=\"duration_localhost_fdd193d5b30cf300dc7f312c1a355476\" datetime=\"1503608541468.8818\">0 sec</time></pre></td>\n",
       "                        </tr>\n",
       "                        </table>"
      ]
     },
     "metadata": {},
     "output_type": "display_data"
    },
    {
     "data": {
      "text/html": [
       "<table id=\"table_localhost_93ec1db96e831d0498077838ad08728d\" style=\"border: 0px\"><tr style=\"border: 0px\">\n",
       "                        <td style=\"border: 0px\">\n",
       "                        <i id=\"status_localhost_93ec1db96e831d0498077838ad08728d\"\n",
       "                            class=\"fa fa-2x fa-fw fa-square-o\"\n",
       "                            onmouseover=\"$('#status_localhost_93ec1db96e831d0498077838ad08728d').addClass('fa-stop').removeClass('fa-square-o')\"\n",
       "                            onmouseleave=\"$('#status_localhost_93ec1db96e831d0498077838ad08728d').addClass('fa-square-o').removeClass('fa-stop')\"\n",
       "                            onclick=\"kill_task('93ec1db96e831d0498077838ad08728d', 'localhost')\"\n",
       "                        ></i> </td>\n",
       "                        <td style=\"border:0px\"><a onclick=\"task_info('93ec1db96e831d0498077838ad08728d', 'localhost')\"><pre>93ec1db96e831d0498077838ad08728d</pre></a></td>\n",
       "                        <td style=\"border:0px\">&nbsp;</td>\n",
       "                        <td style=\"border:0px;text-align=right;\">\n",
       "                        <pre><time id=\"duration_localhost_93ec1db96e831d0498077838ad08728d\" datetime=\"1503608541469.117\">0 sec</time></pre></td>\n",
       "                        </tr>\n",
       "                        </table>"
      ]
     },
     "metadata": {},
     "output_type": "display_data"
    },
    {
     "data": {
      "text/html": [
       "<table id=\"table_localhost_86ce902985b47de322283be7107220cc\" style=\"border: 0px\"><tr style=\"border: 0px\">\n",
       "                        <td style=\"border: 0px\">\n",
       "                        <i id=\"status_localhost_86ce902985b47de322283be7107220cc\"\n",
       "                            class=\"fa fa-2x fa-fw fa-square-o\"\n",
       "                            onmouseover=\"$('#status_localhost_86ce902985b47de322283be7107220cc').addClass('fa-stop').removeClass('fa-square-o')\"\n",
       "                            onmouseleave=\"$('#status_localhost_86ce902985b47de322283be7107220cc').addClass('fa-square-o').removeClass('fa-stop')\"\n",
       "                            onclick=\"kill_task('86ce902985b47de322283be7107220cc', 'localhost')\"\n",
       "                        ></i> </td>\n",
       "                        <td style=\"border:0px\"><a onclick=\"task_info('86ce902985b47de322283be7107220cc', 'localhost')\"><pre>86ce902985b47de322283be7107220cc</pre></a></td>\n",
       "                        <td style=\"border:0px\">&nbsp;</td>\n",
       "                        <td style=\"border:0px;text-align=right;\">\n",
       "                        <pre><time id=\"duration_localhost_86ce902985b47de322283be7107220cc\" datetime=\"1503608541469.3503\">0 sec</time></pre></td>\n",
       "                        </tr>\n",
       "                        </table>"
      ]
     },
     "metadata": {},
     "output_type": "display_data"
    },
    {
     "data": {
      "text/html": [
       "<table id=\"table_localhost_600d065c7cfa0f85595e746097b3ffb7\" style=\"border: 0px\"><tr style=\"border: 0px\">\n",
       "                        <td style=\"border: 0px\">\n",
       "                        <i id=\"status_localhost_600d065c7cfa0f85595e746097b3ffb7\"\n",
       "                            class=\"fa fa-2x fa-fw fa-square-o\"\n",
       "                            onmouseover=\"$('#status_localhost_600d065c7cfa0f85595e746097b3ffb7').addClass('fa-stop').removeClass('fa-square-o')\"\n",
       "                            onmouseleave=\"$('#status_localhost_600d065c7cfa0f85595e746097b3ffb7').addClass('fa-square-o').removeClass('fa-stop')\"\n",
       "                            onclick=\"kill_task('600d065c7cfa0f85595e746097b3ffb7', 'localhost')\"\n",
       "                        ></i> </td>\n",
       "                        <td style=\"border:0px\"><a onclick=\"task_info('600d065c7cfa0f85595e746097b3ffb7', 'localhost')\"><pre>600d065c7cfa0f85595e746097b3ffb7</pre></a></td>\n",
       "                        <td style=\"border:0px\">&nbsp;</td>\n",
       "                        <td style=\"border:0px;text-align=right;\">\n",
       "                        <pre><time id=\"duration_localhost_600d065c7cfa0f85595e746097b3ffb7\" datetime=\"1503608541470.0688\">0 sec</time></pre></td>\n",
       "                        </tr>\n",
       "                        </table>"
      ]
     },
     "metadata": {},
     "output_type": "display_data"
    },
    {
     "data": {
      "text/html": [
       "<table id=\"table_localhost_c74f9496b343b3a830ab9bdb5c603c9a\" style=\"border: 0px\"><tr style=\"border: 0px\">\n",
       "                        <td style=\"border: 0px\">\n",
       "                        <i id=\"status_localhost_c74f9496b343b3a830ab9bdb5c603c9a\"\n",
       "                            class=\"fa fa-2x fa-fw fa-square-o\"\n",
       "                            onmouseover=\"$('#status_localhost_c74f9496b343b3a830ab9bdb5c603c9a').addClass('fa-stop').removeClass('fa-square-o')\"\n",
       "                            onmouseleave=\"$('#status_localhost_c74f9496b343b3a830ab9bdb5c603c9a').addClass('fa-square-o').removeClass('fa-stop')\"\n",
       "                            onclick=\"kill_task('c74f9496b343b3a830ab9bdb5c603c9a', 'localhost')\"\n",
       "                        ></i> </td>\n",
       "                        <td style=\"border:0px\"><a onclick=\"task_info('c74f9496b343b3a830ab9bdb5c603c9a', 'localhost')\"><pre>c74f9496b343b3a830ab9bdb5c603c9a</pre></a></td>\n",
       "                        <td style=\"border:0px\">&nbsp;</td>\n",
       "                        <td style=\"border:0px;text-align=right;\">\n",
       "                        <pre><time id=\"duration_localhost_c74f9496b343b3a830ab9bdb5c603c9a\" datetime=\"1503608541470.439\">0 sec</time></pre></td>\n",
       "                        </tr>\n",
       "                        </table>"
      ]
     },
     "metadata": {},
     "output_type": "display_data"
    },
    {
     "data": {
      "text/html": [
       "<table id=\"table_localhost_d8090676f3735f7b8991340d0536434d\" style=\"border: 0px\"><tr style=\"border: 0px\">\n",
       "                        <td style=\"border: 0px\">\n",
       "                        <i id=\"status_localhost_d8090676f3735f7b8991340d0536434d\"\n",
       "                            class=\"fa fa-2x fa-fw fa-square-o\"\n",
       "                            onmouseover=\"$('#status_localhost_d8090676f3735f7b8991340d0536434d').addClass('fa-stop').removeClass('fa-square-o')\"\n",
       "                            onmouseleave=\"$('#status_localhost_d8090676f3735f7b8991340d0536434d').addClass('fa-square-o').removeClass('fa-stop')\"\n",
       "                            onclick=\"kill_task('d8090676f3735f7b8991340d0536434d', 'localhost')\"\n",
       "                        ></i> </td>\n",
       "                        <td style=\"border:0px\"><a onclick=\"task_info('d8090676f3735f7b8991340d0536434d', 'localhost')\"><pre>d8090676f3735f7b8991340d0536434d</pre></a></td>\n",
       "                        <td style=\"border:0px\">&nbsp;</td>\n",
       "                        <td style=\"border:0px;text-align=right;\">\n",
       "                        <pre><time id=\"duration_localhost_d8090676f3735f7b8991340d0536434d\" datetime=\"1503608541470.876\">0 sec</time></pre></td>\n",
       "                        </tr>\n",
       "                        </table>"
      ]
     },
     "metadata": {},
     "output_type": "display_data"
    },
    {
     "data": {
      "text/html": [
       "<table id=\"table_localhost_4862552f72aedfd5b0a271e82307d112\" style=\"border: 0px\"><tr style=\"border: 0px\">\n",
       "                        <td style=\"border: 0px\">\n",
       "                        <i id=\"status_localhost_4862552f72aedfd5b0a271e82307d112\"\n",
       "                            class=\"fa fa-2x fa-fw fa-square-o\"\n",
       "                            onmouseover=\"$('#status_localhost_4862552f72aedfd5b0a271e82307d112').addClass('fa-stop').removeClass('fa-square-o')\"\n",
       "                            onmouseleave=\"$('#status_localhost_4862552f72aedfd5b0a271e82307d112').addClass('fa-square-o').removeClass('fa-stop')\"\n",
       "                            onclick=\"kill_task('4862552f72aedfd5b0a271e82307d112', 'localhost')\"\n",
       "                        ></i> </td>\n",
       "                        <td style=\"border:0px\"><a onclick=\"task_info('4862552f72aedfd5b0a271e82307d112', 'localhost')\"><pre>4862552f72aedfd5b0a271e82307d112</pre></a></td>\n",
       "                        <td style=\"border:0px\">&nbsp;</td>\n",
       "                        <td style=\"border:0px;text-align=right;\">\n",
       "                        <pre><time id=\"duration_localhost_4862552f72aedfd5b0a271e82307d112\" datetime=\"1503608541471.3408\">0 sec</time></pre></td>\n",
       "                        </tr>\n",
       "                        </table>"
      ]
     },
     "metadata": {},
     "output_type": "display_data"
    },
    {
     "data": {
      "text/html": [
       "<table id=\"table_localhost_fa7b2a59a4536b78498eea14397a5a76\" style=\"border: 0px\"><tr style=\"border: 0px\">\n",
       "                        <td style=\"border: 0px\">\n",
       "                        <i id=\"status_localhost_fa7b2a59a4536b78498eea14397a5a76\"\n",
       "                            class=\"fa fa-2x fa-fw fa-square-o\"\n",
       "                            onmouseover=\"$('#status_localhost_fa7b2a59a4536b78498eea14397a5a76').addClass('fa-stop').removeClass('fa-square-o')\"\n",
       "                            onmouseleave=\"$('#status_localhost_fa7b2a59a4536b78498eea14397a5a76').addClass('fa-square-o').removeClass('fa-stop')\"\n",
       "                            onclick=\"kill_task('fa7b2a59a4536b78498eea14397a5a76', 'localhost')\"\n",
       "                        ></i> </td>\n",
       "                        <td style=\"border:0px\"><a onclick=\"task_info('fa7b2a59a4536b78498eea14397a5a76', 'localhost')\"><pre>fa7b2a59a4536b78498eea14397a5a76</pre></a></td>\n",
       "                        <td style=\"border:0px\">&nbsp;</td>\n",
       "                        <td style=\"border:0px;text-align=right;\">\n",
       "                        <pre><time id=\"duration_localhost_fa7b2a59a4536b78498eea14397a5a76\" datetime=\"1503608541471.6514\">0 sec</time></pre></td>\n",
       "                        </tr>\n",
       "                        </table>"
      ]
     },
     "metadata": {},
     "output_type": "display_data"
    },
    {
     "data": {
      "text/html": [
       "<table id=\"table_localhost_03f98ff387c0cbd1a0c38e0ecd04e735\" style=\"border: 0px\"><tr style=\"border: 0px\">\n",
       "                        <td style=\"border: 0px\">\n",
       "                        <i id=\"status_localhost_03f98ff387c0cbd1a0c38e0ecd04e735\"\n",
       "                            class=\"fa fa-2x fa-fw fa-square-o\"\n",
       "                            onmouseover=\"$('#status_localhost_03f98ff387c0cbd1a0c38e0ecd04e735').addClass('fa-stop').removeClass('fa-square-o')\"\n",
       "                            onmouseleave=\"$('#status_localhost_03f98ff387c0cbd1a0c38e0ecd04e735').addClass('fa-square-o').removeClass('fa-stop')\"\n",
       "                            onclick=\"kill_task('03f98ff387c0cbd1a0c38e0ecd04e735', 'localhost')\"\n",
       "                        ></i> </td>\n",
       "                        <td style=\"border:0px\"><a onclick=\"task_info('03f98ff387c0cbd1a0c38e0ecd04e735', 'localhost')\"><pre>03f98ff387c0cbd1a0c38e0ecd04e735</pre></a></td>\n",
       "                        <td style=\"border:0px\">&nbsp;</td>\n",
       "                        <td style=\"border:0px;text-align=right;\">\n",
       "                        <pre><time id=\"duration_localhost_03f98ff387c0cbd1a0c38e0ecd04e735\" datetime=\"1503608541471.9915\">0 sec</time></pre></td>\n",
       "                        </tr>\n",
       "                        </table>"
      ]
     },
     "metadata": {},
     "output_type": "display_data"
    },
    {
     "data": {
      "text/html": [
       "<table id=\"table_localhost_b3752efefb3f1e7de3f7d96f95f7aba4\" style=\"border: 0px\"><tr style=\"border: 0px\">\n",
       "                        <td style=\"border: 0px\">\n",
       "                        <i id=\"status_localhost_b3752efefb3f1e7de3f7d96f95f7aba4\"\n",
       "                            class=\"fa fa-2x fa-fw fa-square-o\"\n",
       "                            onmouseover=\"$('#status_localhost_b3752efefb3f1e7de3f7d96f95f7aba4').addClass('fa-stop').removeClass('fa-square-o')\"\n",
       "                            onmouseleave=\"$('#status_localhost_b3752efefb3f1e7de3f7d96f95f7aba4').addClass('fa-square-o').removeClass('fa-stop')\"\n",
       "                            onclick=\"kill_task('b3752efefb3f1e7de3f7d96f95f7aba4', 'localhost')\"\n",
       "                        ></i> </td>\n",
       "                        <td style=\"border:0px\"><a onclick=\"task_info('b3752efefb3f1e7de3f7d96f95f7aba4', 'localhost')\"><pre>b3752efefb3f1e7de3f7d96f95f7aba4</pre></a></td>\n",
       "                        <td style=\"border:0px\">&nbsp;</td>\n",
       "                        <td style=\"border:0px;text-align=right;\">\n",
       "                        <pre><time id=\"duration_localhost_b3752efefb3f1e7de3f7d96f95f7aba4\" datetime=\"1503608541472.253\">0 sec</time></pre></td>\n",
       "                        </tr>\n",
       "                        </table>"
      ]
     },
     "metadata": {},
     "output_type": "display_data"
    },
    {
     "data": {
      "text/html": [
       "<table id=\"table_localhost_ad9c09547c101affcc0d8cab988d6fb3\" style=\"border: 0px\"><tr style=\"border: 0px\">\n",
       "                        <td style=\"border: 0px\">\n",
       "                        <i id=\"status_localhost_ad9c09547c101affcc0d8cab988d6fb3\"\n",
       "                            class=\"fa fa-2x fa-fw fa-square-o\"\n",
       "                            onmouseover=\"$('#status_localhost_ad9c09547c101affcc0d8cab988d6fb3').addClass('fa-stop').removeClass('fa-square-o')\"\n",
       "                            onmouseleave=\"$('#status_localhost_ad9c09547c101affcc0d8cab988d6fb3').addClass('fa-square-o').removeClass('fa-stop')\"\n",
       "                            onclick=\"kill_task('ad9c09547c101affcc0d8cab988d6fb3', 'localhost')\"\n",
       "                        ></i> </td>\n",
       "                        <td style=\"border:0px\"><a onclick=\"task_info('ad9c09547c101affcc0d8cab988d6fb3', 'localhost')\"><pre>ad9c09547c101affcc0d8cab988d6fb3</pre></a></td>\n",
       "                        <td style=\"border:0px\">&nbsp;</td>\n",
       "                        <td style=\"border:0px;text-align=right;\">\n",
       "                        <pre><time id=\"duration_localhost_ad9c09547c101affcc0d8cab988d6fb3\" datetime=\"1503608541472.5137\">0 sec</time></pre></td>\n",
       "                        </tr>\n",
       "                        </table>"
      ]
     },
     "metadata": {},
     "output_type": "display_data"
    },
    {
     "data": {
      "text/html": [
       "<table id=\"table_localhost_c9d41695acc9c57737fc226c49d35a39\" style=\"border: 0px\"><tr style=\"border: 0px\">\n",
       "                        <td style=\"border: 0px\">\n",
       "                        <i id=\"status_localhost_c9d41695acc9c57737fc226c49d35a39\"\n",
       "                            class=\"fa fa-2x fa-fw fa-square-o\"\n",
       "                            onmouseover=\"$('#status_localhost_c9d41695acc9c57737fc226c49d35a39').addClass('fa-stop').removeClass('fa-square-o')\"\n",
       "                            onmouseleave=\"$('#status_localhost_c9d41695acc9c57737fc226c49d35a39').addClass('fa-square-o').removeClass('fa-stop')\"\n",
       "                            onclick=\"kill_task('c9d41695acc9c57737fc226c49d35a39', 'localhost')\"\n",
       "                        ></i> </td>\n",
       "                        <td style=\"border:0px\"><a onclick=\"task_info('c9d41695acc9c57737fc226c49d35a39', 'localhost')\"><pre>c9d41695acc9c57737fc226c49d35a39</pre></a></td>\n",
       "                        <td style=\"border:0px\">&nbsp;</td>\n",
       "                        <td style=\"border:0px;text-align=right;\">\n",
       "                        <pre><time id=\"duration_localhost_c9d41695acc9c57737fc226c49d35a39\" datetime=\"1503608541472.8728\">0 sec</time></pre></td>\n",
       "                        </tr>\n",
       "                        </table>"
      ]
     },
     "metadata": {},
     "output_type": "display_data"
    },
    {
     "data": {
      "text/html": [
       "<table id=\"table_localhost_2ea26b7f54ff3f5baa8ef1c0019c2839\" style=\"border: 0px\"><tr style=\"border: 0px\">\n",
       "                        <td style=\"border: 0px\">\n",
       "                        <i id=\"status_localhost_2ea26b7f54ff3f5baa8ef1c0019c2839\"\n",
       "                            class=\"fa fa-2x fa-fw fa-square-o\"\n",
       "                            onmouseover=\"$('#status_localhost_2ea26b7f54ff3f5baa8ef1c0019c2839').addClass('fa-stop').removeClass('fa-square-o')\"\n",
       "                            onmouseleave=\"$('#status_localhost_2ea26b7f54ff3f5baa8ef1c0019c2839').addClass('fa-square-o').removeClass('fa-stop')\"\n",
       "                            onclick=\"kill_task('2ea26b7f54ff3f5baa8ef1c0019c2839', 'localhost')\"\n",
       "                        ></i> </td>\n",
       "                        <td style=\"border:0px\"><a onclick=\"task_info('2ea26b7f54ff3f5baa8ef1c0019c2839', 'localhost')\"><pre>2ea26b7f54ff3f5baa8ef1c0019c2839</pre></a></td>\n",
       "                        <td style=\"border:0px\">&nbsp;</td>\n",
       "                        <td style=\"border:0px;text-align=right;\">\n",
       "                        <pre><time id=\"duration_localhost_2ea26b7f54ff3f5baa8ef1c0019c2839\" datetime=\"1503608541473.2253\">0 sec</time></pre></td>\n",
       "                        </tr>\n",
       "                        </table>"
      ]
     },
     "metadata": {},
     "output_type": "display_data"
    },
    {
     "data": {
      "text/html": [
       "<table id=\"table_localhost_3b8f4c8b9352f75c63f41823ca95124f\" style=\"border: 0px\"><tr style=\"border: 0px\">\n",
       "                        <td style=\"border: 0px\">\n",
       "                        <i id=\"status_localhost_3b8f4c8b9352f75c63f41823ca95124f\"\n",
       "                            class=\"fa fa-2x fa-fw fa-square-o\"\n",
       "                            onmouseover=\"$('#status_localhost_3b8f4c8b9352f75c63f41823ca95124f').addClass('fa-stop').removeClass('fa-square-o')\"\n",
       "                            onmouseleave=\"$('#status_localhost_3b8f4c8b9352f75c63f41823ca95124f').addClass('fa-square-o').removeClass('fa-stop')\"\n",
       "                            onclick=\"kill_task('3b8f4c8b9352f75c63f41823ca95124f', 'localhost')\"\n",
       "                        ></i> </td>\n",
       "                        <td style=\"border:0px\"><a onclick=\"task_info('3b8f4c8b9352f75c63f41823ca95124f', 'localhost')\"><pre>3b8f4c8b9352f75c63f41823ca95124f</pre></a></td>\n",
       "                        <td style=\"border:0px\">&nbsp;</td>\n",
       "                        <td style=\"border:0px;text-align=right;\">\n",
       "                        <pre><time id=\"duration_localhost_3b8f4c8b9352f75c63f41823ca95124f\" datetime=\"1503608541473.6772\">0 sec</time></pre></td>\n",
       "                        </tr>\n",
       "                        </table>"
      ]
     },
     "metadata": {},
     "output_type": "display_data"
    },
    {
     "data": {
      "text/html": [
       "<table id=\"table_localhost_eb9f219930136360c6c61531b787088f\" style=\"border: 0px\"><tr style=\"border: 0px\">\n",
       "                        <td style=\"border: 0px\">\n",
       "                        <i id=\"status_localhost_eb9f219930136360c6c61531b787088f\"\n",
       "                            class=\"fa fa-2x fa-fw fa-square-o\"\n",
       "                            onmouseover=\"$('#status_localhost_eb9f219930136360c6c61531b787088f').addClass('fa-stop').removeClass('fa-square-o')\"\n",
       "                            onmouseleave=\"$('#status_localhost_eb9f219930136360c6c61531b787088f').addClass('fa-square-o').removeClass('fa-stop')\"\n",
       "                            onclick=\"kill_task('eb9f219930136360c6c61531b787088f', 'localhost')\"\n",
       "                        ></i> </td>\n",
       "                        <td style=\"border:0px\"><a onclick=\"task_info('eb9f219930136360c6c61531b787088f', 'localhost')\"><pre>eb9f219930136360c6c61531b787088f</pre></a></td>\n",
       "                        <td style=\"border:0px\">&nbsp;</td>\n",
       "                        <td style=\"border:0px;text-align=right;\">\n",
       "                        <pre><time id=\"duration_localhost_eb9f219930136360c6c61531b787088f\" datetime=\"1503608541474.0269\">0 sec</time></pre></td>\n",
       "                        </tr>\n",
       "                        </table>"
      ]
     },
     "metadata": {},
     "output_type": "display_data"
    },
    {
     "data": {
      "text/html": [
       "<table id=\"table_localhost_224a932d5dd1f0b0b72e33f6ac7283ec\" style=\"border: 0px\"><tr style=\"border: 0px\">\n",
       "                        <td style=\"border: 0px\">\n",
       "                        <i id=\"status_localhost_224a932d5dd1f0b0b72e33f6ac7283ec\"\n",
       "                            class=\"fa fa-2x fa-fw fa-square-o\"\n",
       "                            onmouseover=\"$('#status_localhost_224a932d5dd1f0b0b72e33f6ac7283ec').addClass('fa-stop').removeClass('fa-square-o')\"\n",
       "                            onmouseleave=\"$('#status_localhost_224a932d5dd1f0b0b72e33f6ac7283ec').addClass('fa-square-o').removeClass('fa-stop')\"\n",
       "                            onclick=\"kill_task('224a932d5dd1f0b0b72e33f6ac7283ec', 'localhost')\"\n",
       "                        ></i> </td>\n",
       "                        <td style=\"border:0px\"><a onclick=\"task_info('224a932d5dd1f0b0b72e33f6ac7283ec', 'localhost')\"><pre>224a932d5dd1f0b0b72e33f6ac7283ec</pre></a></td>\n",
       "                        <td style=\"border:0px\">&nbsp;</td>\n",
       "                        <td style=\"border:0px;text-align=right;\">\n",
       "                        <pre><time id=\"duration_localhost_224a932d5dd1f0b0b72e33f6ac7283ec\" datetime=\"1503608541474.336\">0 sec</time></pre></td>\n",
       "                        </tr>\n",
       "                        </table>"
      ]
     },
     "metadata": {},
     "output_type": "display_data"
    },
    {
     "data": {
      "text/html": [
       "<table id=\"table_localhost_92eccb2effb1c4f59342d4f4cecb31d5\" style=\"border: 0px\"><tr style=\"border: 0px\">\n",
       "                        <td style=\"border: 0px\">\n",
       "                        <i id=\"status_localhost_92eccb2effb1c4f59342d4f4cecb31d5\"\n",
       "                            class=\"fa fa-2x fa-fw fa-square-o\"\n",
       "                            onmouseover=\"$('#status_localhost_92eccb2effb1c4f59342d4f4cecb31d5').addClass('fa-stop').removeClass('fa-square-o')\"\n",
       "                            onmouseleave=\"$('#status_localhost_92eccb2effb1c4f59342d4f4cecb31d5').addClass('fa-square-o').removeClass('fa-stop')\"\n",
       "                            onclick=\"kill_task('92eccb2effb1c4f59342d4f4cecb31d5', 'localhost')\"\n",
       "                        ></i> </td>\n",
       "                        <td style=\"border:0px\"><a onclick=\"task_info('92eccb2effb1c4f59342d4f4cecb31d5', 'localhost')\"><pre>92eccb2effb1c4f59342d4f4cecb31d5</pre></a></td>\n",
       "                        <td style=\"border:0px\">&nbsp;</td>\n",
       "                        <td style=\"border:0px;text-align=right;\">\n",
       "                        <pre><time id=\"duration_localhost_92eccb2effb1c4f59342d4f4cecb31d5\" datetime=\"1503608541474.8652\">0 sec</time></pre></td>\n",
       "                        </tr>\n",
       "                        </table>"
      ]
     },
     "metadata": {},
     "output_type": "display_data"
    },
    {
     "data": {
      "text/html": [
       "<table id=\"table_localhost_9507c06878c8eb305bec390dbfcbae99\" style=\"border: 0px\"><tr style=\"border: 0px\">\n",
       "                        <td style=\"border: 0px\">\n",
       "                        <i id=\"status_localhost_9507c06878c8eb305bec390dbfcbae99\"\n",
       "                            class=\"fa fa-2x fa-fw fa-square-o\"\n",
       "                            onmouseover=\"$('#status_localhost_9507c06878c8eb305bec390dbfcbae99').addClass('fa-stop').removeClass('fa-square-o')\"\n",
       "                            onmouseleave=\"$('#status_localhost_9507c06878c8eb305bec390dbfcbae99').addClass('fa-square-o').removeClass('fa-stop')\"\n",
       "                            onclick=\"kill_task('9507c06878c8eb305bec390dbfcbae99', 'localhost')\"\n",
       "                        ></i> </td>\n",
       "                        <td style=\"border:0px\"><a onclick=\"task_info('9507c06878c8eb305bec390dbfcbae99', 'localhost')\"><pre>9507c06878c8eb305bec390dbfcbae99</pre></a></td>\n",
       "                        <td style=\"border:0px\">&nbsp;</td>\n",
       "                        <td style=\"border:0px;text-align=right;\">\n",
       "                        <pre><time id=\"duration_localhost_9507c06878c8eb305bec390dbfcbae99\" datetime=\"1503608541479.5361\">0 sec</time></pre></td>\n",
       "                        </tr>\n",
       "                        </table>"
      ]
     },
     "metadata": {},
     "output_type": "display_data"
    },
    {
     "data": {
      "text/html": [
       "<table id=\"table_localhost_ea59e5c2c34cc788c6aeafa2b6c5fa06\" style=\"border: 0px\"><tr style=\"border: 0px\">\n",
       "                        <td style=\"border: 0px\">\n",
       "                        <i id=\"status_localhost_ea59e5c2c34cc788c6aeafa2b6c5fa06\"\n",
       "                            class=\"fa fa-2x fa-fw fa-square-o\"\n",
       "                            onmouseover=\"$('#status_localhost_ea59e5c2c34cc788c6aeafa2b6c5fa06').addClass('fa-stop').removeClass('fa-square-o')\"\n",
       "                            onmouseleave=\"$('#status_localhost_ea59e5c2c34cc788c6aeafa2b6c5fa06').addClass('fa-square-o').removeClass('fa-stop')\"\n",
       "                            onclick=\"kill_task('ea59e5c2c34cc788c6aeafa2b6c5fa06', 'localhost')\"\n",
       "                        ></i> </td>\n",
       "                        <td style=\"border:0px\"><a onclick=\"task_info('ea59e5c2c34cc788c6aeafa2b6c5fa06', 'localhost')\"><pre>ea59e5c2c34cc788c6aeafa2b6c5fa06</pre></a></td>\n",
       "                        <td style=\"border:0px\">&nbsp;</td>\n",
       "                        <td style=\"border:0px;text-align=right;\">\n",
       "                        <pre><time id=\"duration_localhost_ea59e5c2c34cc788c6aeafa2b6c5fa06\" datetime=\"1503608541480.0059\">0 sec</time></pre></td>\n",
       "                        </tr>\n",
       "                        </table>"
      ]
     },
     "metadata": {},
     "output_type": "display_data"
    },
    {
     "data": {
      "text/html": [
       "<table id=\"table_localhost_eeaea5fb44531a6d5a340569badf07f4\" style=\"border: 0px\"><tr style=\"border: 0px\">\n",
       "                        <td style=\"border: 0px\">\n",
       "                        <i id=\"status_localhost_eeaea5fb44531a6d5a340569badf07f4\"\n",
       "                            class=\"fa fa-2x fa-fw fa-square-o\"\n",
       "                            onmouseover=\"$('#status_localhost_eeaea5fb44531a6d5a340569badf07f4').addClass('fa-stop').removeClass('fa-square-o')\"\n",
       "                            onmouseleave=\"$('#status_localhost_eeaea5fb44531a6d5a340569badf07f4').addClass('fa-square-o').removeClass('fa-stop')\"\n",
       "                            onclick=\"kill_task('eeaea5fb44531a6d5a340569badf07f4', 'localhost')\"\n",
       "                        ></i> </td>\n",
       "                        <td style=\"border:0px\"><a onclick=\"task_info('eeaea5fb44531a6d5a340569badf07f4', 'localhost')\"><pre>eeaea5fb44531a6d5a340569badf07f4</pre></a></td>\n",
       "                        <td style=\"border:0px\">&nbsp;</td>\n",
       "                        <td style=\"border:0px;text-align=right;\">\n",
       "                        <pre><time id=\"duration_localhost_eeaea5fb44531a6d5a340569badf07f4\" datetime=\"1503608541480.248\">0 sec</time></pre></td>\n",
       "                        </tr>\n",
       "                        </table>"
      ]
     },
     "metadata": {},
     "output_type": "display_data"
    },
    {
     "data": {
      "text/html": [
       "<table id=\"table_localhost_b0754df3fe28cfa38af964d3d8b230c8\" style=\"border: 0px\"><tr style=\"border: 0px\">\n",
       "                        <td style=\"border: 0px\">\n",
       "                        <i id=\"status_localhost_b0754df3fe28cfa38af964d3d8b230c8\"\n",
       "                            class=\"fa fa-2x fa-fw fa-square-o\"\n",
       "                            onmouseover=\"$('#status_localhost_b0754df3fe28cfa38af964d3d8b230c8').addClass('fa-stop').removeClass('fa-square-o')\"\n",
       "                            onmouseleave=\"$('#status_localhost_b0754df3fe28cfa38af964d3d8b230c8').addClass('fa-square-o').removeClass('fa-stop')\"\n",
       "                            onclick=\"kill_task('b0754df3fe28cfa38af964d3d8b230c8', 'localhost')\"\n",
       "                        ></i> </td>\n",
       "                        <td style=\"border:0px\"><a onclick=\"task_info('b0754df3fe28cfa38af964d3d8b230c8', 'localhost')\"><pre>b0754df3fe28cfa38af964d3d8b230c8</pre></a></td>\n",
       "                        <td style=\"border:0px\">&nbsp;</td>\n",
       "                        <td style=\"border:0px;text-align=right;\">\n",
       "                        <pre><time id=\"duration_localhost_b0754df3fe28cfa38af964d3d8b230c8\" datetime=\"1503608541480.482\">0 sec</time></pre></td>\n",
       "                        </tr>\n",
       "                        </table>"
      ]
     },
     "metadata": {},
     "output_type": "display_data"
    },
    {
     "data": {
      "text/html": [
       "<table id=\"table_localhost_751cb5eb3efe55c4c44c014f054c0771\" style=\"border: 0px\"><tr style=\"border: 0px\">\n",
       "                        <td style=\"border: 0px\">\n",
       "                        <i id=\"status_localhost_751cb5eb3efe55c4c44c014f054c0771\"\n",
       "                            class=\"fa fa-2x fa-fw fa-square-o\"\n",
       "                            onmouseover=\"$('#status_localhost_751cb5eb3efe55c4c44c014f054c0771').addClass('fa-stop').removeClass('fa-square-o')\"\n",
       "                            onmouseleave=\"$('#status_localhost_751cb5eb3efe55c4c44c014f054c0771').addClass('fa-square-o').removeClass('fa-stop')\"\n",
       "                            onclick=\"kill_task('751cb5eb3efe55c4c44c014f054c0771', 'localhost')\"\n",
       "                        ></i> </td>\n",
       "                        <td style=\"border:0px\"><a onclick=\"task_info('751cb5eb3efe55c4c44c014f054c0771', 'localhost')\"><pre>751cb5eb3efe55c4c44c014f054c0771</pre></a></td>\n",
       "                        <td style=\"border:0px\">&nbsp;</td>\n",
       "                        <td style=\"border:0px;text-align=right;\">\n",
       "                        <pre><time id=\"duration_localhost_751cb5eb3efe55c4c44c014f054c0771\" datetime=\"1503608541480.7043\">0 sec</time></pre></td>\n",
       "                        </tr>\n",
       "                        </table>"
      ]
     },
     "metadata": {},
     "output_type": "display_data"
    },
    {
     "data": {
      "text/html": [
       "<table id=\"table_localhost_119fddcb2efec3ab92131db13a98c675\" style=\"border: 0px\"><tr style=\"border: 0px\">\n",
       "                        <td style=\"border: 0px\">\n",
       "                        <i id=\"status_localhost_119fddcb2efec3ab92131db13a98c675\"\n",
       "                            class=\"fa fa-2x fa-fw fa-square-o\"\n",
       "                            onmouseover=\"$('#status_localhost_119fddcb2efec3ab92131db13a98c675').addClass('fa-stop').removeClass('fa-square-o')\"\n",
       "                            onmouseleave=\"$('#status_localhost_119fddcb2efec3ab92131db13a98c675').addClass('fa-square-o').removeClass('fa-stop')\"\n",
       "                            onclick=\"kill_task('119fddcb2efec3ab92131db13a98c675', 'localhost')\"\n",
       "                        ></i> </td>\n",
       "                        <td style=\"border:0px\"><a onclick=\"task_info('119fddcb2efec3ab92131db13a98c675', 'localhost')\"><pre>119fddcb2efec3ab92131db13a98c675</pre></a></td>\n",
       "                        <td style=\"border:0px\">&nbsp;</td>\n",
       "                        <td style=\"border:0px;text-align=right;\">\n",
       "                        <pre><time id=\"duration_localhost_119fddcb2efec3ab92131db13a98c675\" datetime=\"1503608541480.9165\">0 sec</time></pre></td>\n",
       "                        </tr>\n",
       "                        </table>"
      ]
     },
     "metadata": {},
     "output_type": "display_data"
    },
    {
     "data": {
      "text/html": [
       "<table id=\"table_localhost_a2f95a58bcd34a45a89aaebc0fcaf912\" style=\"border: 0px\"><tr style=\"border: 0px\">\n",
       "                        <td style=\"border: 0px\">\n",
       "                        <i id=\"status_localhost_a2f95a58bcd34a45a89aaebc0fcaf912\"\n",
       "                            class=\"fa fa-2x fa-fw fa-square-o\"\n",
       "                            onmouseover=\"$('#status_localhost_a2f95a58bcd34a45a89aaebc0fcaf912').addClass('fa-stop').removeClass('fa-square-o')\"\n",
       "                            onmouseleave=\"$('#status_localhost_a2f95a58bcd34a45a89aaebc0fcaf912').addClass('fa-square-o').removeClass('fa-stop')\"\n",
       "                            onclick=\"kill_task('a2f95a58bcd34a45a89aaebc0fcaf912', 'localhost')\"\n",
       "                        ></i> </td>\n",
       "                        <td style=\"border:0px\"><a onclick=\"task_info('a2f95a58bcd34a45a89aaebc0fcaf912', 'localhost')\"><pre>a2f95a58bcd34a45a89aaebc0fcaf912</pre></a></td>\n",
       "                        <td style=\"border:0px\">&nbsp;</td>\n",
       "                        <td style=\"border:0px;text-align=right;\">\n",
       "                        <pre><time id=\"duration_localhost_a2f95a58bcd34a45a89aaebc0fcaf912\" datetime=\"1503608541481.1868\">0 sec</time></pre></td>\n",
       "                        </tr>\n",
       "                        </table>"
      ]
     },
     "metadata": {},
     "output_type": "display_data"
    },
    {
     "data": {
      "text/html": [
       "<table id=\"table_localhost_1e2e04d5e0c052a2961b99cff1765b36\" style=\"border: 0px\"><tr style=\"border: 0px\">\n",
       "                        <td style=\"border: 0px\">\n",
       "                        <i id=\"status_localhost_1e2e04d5e0c052a2961b99cff1765b36\"\n",
       "                            class=\"fa fa-2x fa-fw fa-square-o\"\n",
       "                            onmouseover=\"$('#status_localhost_1e2e04d5e0c052a2961b99cff1765b36').addClass('fa-stop').removeClass('fa-square-o')\"\n",
       "                            onmouseleave=\"$('#status_localhost_1e2e04d5e0c052a2961b99cff1765b36').addClass('fa-square-o').removeClass('fa-stop')\"\n",
       "                            onclick=\"kill_task('1e2e04d5e0c052a2961b99cff1765b36', 'localhost')\"\n",
       "                        ></i> </td>\n",
       "                        <td style=\"border:0px\"><a onclick=\"task_info('1e2e04d5e0c052a2961b99cff1765b36', 'localhost')\"><pre>1e2e04d5e0c052a2961b99cff1765b36</pre></a></td>\n",
       "                        <td style=\"border:0px\">&nbsp;</td>\n",
       "                        <td style=\"border:0px;text-align=right;\">\n",
       "                        <pre><time id=\"duration_localhost_1e2e04d5e0c052a2961b99cff1765b36\" datetime=\"1503608541481.4\">0 sec</time></pre></td>\n",
       "                        </tr>\n",
       "                        </table>"
      ]
     },
     "metadata": {},
     "output_type": "display_data"
    },
    {
     "data": {
      "text/html": [
       "<table id=\"table_localhost_860ce2bb2f156c29b92f84535e7ccf0d\" style=\"border: 0px\"><tr style=\"border: 0px\">\n",
       "                        <td style=\"border: 0px\">\n",
       "                        <i id=\"status_localhost_860ce2bb2f156c29b92f84535e7ccf0d\"\n",
       "                            class=\"fa fa-2x fa-fw fa-square-o\"\n",
       "                            onmouseover=\"$('#status_localhost_860ce2bb2f156c29b92f84535e7ccf0d').addClass('fa-stop').removeClass('fa-square-o')\"\n",
       "                            onmouseleave=\"$('#status_localhost_860ce2bb2f156c29b92f84535e7ccf0d').addClass('fa-square-o').removeClass('fa-stop')\"\n",
       "                            onclick=\"kill_task('860ce2bb2f156c29b92f84535e7ccf0d', 'localhost')\"\n",
       "                        ></i> </td>\n",
       "                        <td style=\"border:0px\"><a onclick=\"task_info('860ce2bb2f156c29b92f84535e7ccf0d', 'localhost')\"><pre>860ce2bb2f156c29b92f84535e7ccf0d</pre></a></td>\n",
       "                        <td style=\"border:0px\">&nbsp;</td>\n",
       "                        <td style=\"border:0px;text-align=right;\">\n",
       "                        <pre><time id=\"duration_localhost_860ce2bb2f156c29b92f84535e7ccf0d\" datetime=\"1503608541481.6335\">0 sec</time></pre></td>\n",
       "                        </tr>\n",
       "                        </table>"
      ]
     },
     "metadata": {},
     "output_type": "display_data"
    },
    {
     "data": {
      "text/html": [
       "<table id=\"table_localhost_fead895f0709f6778f763509198ebb04\" style=\"border: 0px\"><tr style=\"border: 0px\">\n",
       "                        <td style=\"border: 0px\">\n",
       "                        <i id=\"status_localhost_fead895f0709f6778f763509198ebb04\"\n",
       "                            class=\"fa fa-2x fa-fw fa-square-o\"\n",
       "                            onmouseover=\"$('#status_localhost_fead895f0709f6778f763509198ebb04').addClass('fa-stop').removeClass('fa-square-o')\"\n",
       "                            onmouseleave=\"$('#status_localhost_fead895f0709f6778f763509198ebb04').addClass('fa-square-o').removeClass('fa-stop')\"\n",
       "                            onclick=\"kill_task('fead895f0709f6778f763509198ebb04', 'localhost')\"\n",
       "                        ></i> </td>\n",
       "                        <td style=\"border:0px\"><a onclick=\"task_info('fead895f0709f6778f763509198ebb04', 'localhost')\"><pre>fead895f0709f6778f763509198ebb04</pre></a></td>\n",
       "                        <td style=\"border:0px\">&nbsp;</td>\n",
       "                        <td style=\"border:0px;text-align=right;\">\n",
       "                        <pre><time id=\"duration_localhost_fead895f0709f6778f763509198ebb04\" datetime=\"1503608541481.8604\">0 sec</time></pre></td>\n",
       "                        </tr>\n",
       "                        </table>"
      ]
     },
     "metadata": {},
     "output_type": "display_data"
    },
    {
     "data": {
      "text/html": [
       "<table id=\"table_localhost_fa9ef34bade5968b28b5d13bc537a9c4\" style=\"border: 0px\"><tr style=\"border: 0px\">\n",
       "                        <td style=\"border: 0px\">\n",
       "                        <i id=\"status_localhost_fa9ef34bade5968b28b5d13bc537a9c4\"\n",
       "                            class=\"fa fa-2x fa-fw fa-square-o\"\n",
       "                            onmouseover=\"$('#status_localhost_fa9ef34bade5968b28b5d13bc537a9c4').addClass('fa-stop').removeClass('fa-square-o')\"\n",
       "                            onmouseleave=\"$('#status_localhost_fa9ef34bade5968b28b5d13bc537a9c4').addClass('fa-square-o').removeClass('fa-stop')\"\n",
       "                            onclick=\"kill_task('fa9ef34bade5968b28b5d13bc537a9c4', 'localhost')\"\n",
       "                        ></i> </td>\n",
       "                        <td style=\"border:0px\"><a onclick=\"task_info('fa9ef34bade5968b28b5d13bc537a9c4', 'localhost')\"><pre>fa9ef34bade5968b28b5d13bc537a9c4</pre></a></td>\n",
       "                        <td style=\"border:0px\">&nbsp;</td>\n",
       "                        <td style=\"border:0px;text-align=right;\">\n",
       "                        <pre><time id=\"duration_localhost_fa9ef34bade5968b28b5d13bc537a9c4\" datetime=\"1503608541482.1204\">0 sec</time></pre></td>\n",
       "                        </tr>\n",
       "                        </table>"
      ]
     },
     "metadata": {},
     "output_type": "display_data"
    },
    {
     "data": {
      "text/html": [
       "<table id=\"table_localhost_26664653f6771ceae2bade4c531ea83e\" style=\"border: 0px\"><tr style=\"border: 0px\">\n",
       "                        <td style=\"border: 0px\">\n",
       "                        <i id=\"status_localhost_26664653f6771ceae2bade4c531ea83e\"\n",
       "                            class=\"fa fa-2x fa-fw fa-square-o\"\n",
       "                            onmouseover=\"$('#status_localhost_26664653f6771ceae2bade4c531ea83e').addClass('fa-stop').removeClass('fa-square-o')\"\n",
       "                            onmouseleave=\"$('#status_localhost_26664653f6771ceae2bade4c531ea83e').addClass('fa-square-o').removeClass('fa-stop')\"\n",
       "                            onclick=\"kill_task('26664653f6771ceae2bade4c531ea83e', 'localhost')\"\n",
       "                        ></i> </td>\n",
       "                        <td style=\"border:0px\"><a onclick=\"task_info('26664653f6771ceae2bade4c531ea83e', 'localhost')\"><pre>26664653f6771ceae2bade4c531ea83e</pre></a></td>\n",
       "                        <td style=\"border:0px\">&nbsp;</td>\n",
       "                        <td style=\"border:0px;text-align=right;\">\n",
       "                        <pre><time id=\"duration_localhost_26664653f6771ceae2bade4c531ea83e\" datetime=\"1503608541482.487\">0 sec</time></pre></td>\n",
       "                        </tr>\n",
       "                        </table>"
      ]
     },
     "metadata": {},
     "output_type": "display_data"
    },
    {
     "data": {
      "text/html": [
       "<table id=\"table_localhost_05cfc208da2e541342744e7ed2f52835\" style=\"border: 0px\"><tr style=\"border: 0px\">\n",
       "                        <td style=\"border: 0px\">\n",
       "                        <i id=\"status_localhost_05cfc208da2e541342744e7ed2f52835\"\n",
       "                            class=\"fa fa-2x fa-fw fa-square-o\"\n",
       "                            onmouseover=\"$('#status_localhost_05cfc208da2e541342744e7ed2f52835').addClass('fa-stop').removeClass('fa-square-o')\"\n",
       "                            onmouseleave=\"$('#status_localhost_05cfc208da2e541342744e7ed2f52835').addClass('fa-square-o').removeClass('fa-stop')\"\n",
       "                            onclick=\"kill_task('05cfc208da2e541342744e7ed2f52835', 'localhost')\"\n",
       "                        ></i> </td>\n",
       "                        <td style=\"border:0px\"><a onclick=\"task_info('05cfc208da2e541342744e7ed2f52835', 'localhost')\"><pre>05cfc208da2e541342744e7ed2f52835</pre></a></td>\n",
       "                        <td style=\"border:0px\">&nbsp;</td>\n",
       "                        <td style=\"border:0px;text-align=right;\">\n",
       "                        <pre><time id=\"duration_localhost_05cfc208da2e541342744e7ed2f52835\" datetime=\"1503608541482.7378\">0 sec</time></pre></td>\n",
       "                        </tr>\n",
       "                        </table>"
      ]
     },
     "metadata": {},
     "output_type": "display_data"
    },
    {
     "data": {
      "text/html": [
       "<table id=\"table_localhost_2c7a77fbdad509efdd3b3dd2de8574e7\" style=\"border: 0px\"><tr style=\"border: 0px\">\n",
       "                        <td style=\"border: 0px\">\n",
       "                        <i id=\"status_localhost_2c7a77fbdad509efdd3b3dd2de8574e7\"\n",
       "                            class=\"fa fa-2x fa-fw fa-square-o\"\n",
       "                            onmouseover=\"$('#status_localhost_2c7a77fbdad509efdd3b3dd2de8574e7').addClass('fa-stop').removeClass('fa-square-o')\"\n",
       "                            onmouseleave=\"$('#status_localhost_2c7a77fbdad509efdd3b3dd2de8574e7').addClass('fa-square-o').removeClass('fa-stop')\"\n",
       "                            onclick=\"kill_task('2c7a77fbdad509efdd3b3dd2de8574e7', 'localhost')\"\n",
       "                        ></i> </td>\n",
       "                        <td style=\"border:0px\"><a onclick=\"task_info('2c7a77fbdad509efdd3b3dd2de8574e7', 'localhost')\"><pre>2c7a77fbdad509efdd3b3dd2de8574e7</pre></a></td>\n",
       "                        <td style=\"border:0px\">&nbsp;</td>\n",
       "                        <td style=\"border:0px;text-align=right;\">\n",
       "                        <pre><time id=\"duration_localhost_2c7a77fbdad509efdd3b3dd2de8574e7\" datetime=\"1503608541483.0146\">0 sec</time></pre></td>\n",
       "                        </tr>\n",
       "                        </table>"
      ]
     },
     "metadata": {},
     "output_type": "display_data"
    },
    {
     "data": {
      "text/html": [
       "<table id=\"table_localhost_133c2d82b8a88520ebf1c55c389af2be\" style=\"border: 0px\"><tr style=\"border: 0px\">\n",
       "                        <td style=\"border: 0px\">\n",
       "                        <i id=\"status_localhost_133c2d82b8a88520ebf1c55c389af2be\"\n",
       "                            class=\"fa fa-2x fa-fw fa-square-o\"\n",
       "                            onmouseover=\"$('#status_localhost_133c2d82b8a88520ebf1c55c389af2be').addClass('fa-stop').removeClass('fa-square-o')\"\n",
       "                            onmouseleave=\"$('#status_localhost_133c2d82b8a88520ebf1c55c389af2be').addClass('fa-square-o').removeClass('fa-stop')\"\n",
       "                            onclick=\"kill_task('133c2d82b8a88520ebf1c55c389af2be', 'localhost')\"\n",
       "                        ></i> </td>\n",
       "                        <td style=\"border:0px\"><a onclick=\"task_info('133c2d82b8a88520ebf1c55c389af2be', 'localhost')\"><pre>133c2d82b8a88520ebf1c55c389af2be</pre></a></td>\n",
       "                        <td style=\"border:0px\">&nbsp;</td>\n",
       "                        <td style=\"border:0px;text-align=right;\">\n",
       "                        <pre><time id=\"duration_localhost_133c2d82b8a88520ebf1c55c389af2be\" datetime=\"1503608541483.3323\">0 sec</time></pre></td>\n",
       "                        </tr>\n",
       "                        </table>"
      ]
     },
     "metadata": {},
     "output_type": "display_data"
    },
    {
     "data": {
      "text/html": [
       "<table id=\"table_localhost_c157320e25c2e296da887cd4c0ab37ac\" style=\"border: 0px\"><tr style=\"border: 0px\">\n",
       "                        <td style=\"border: 0px\">\n",
       "                        <i id=\"status_localhost_c157320e25c2e296da887cd4c0ab37ac\"\n",
       "                            class=\"fa fa-2x fa-fw fa-square-o\"\n",
       "                            onmouseover=\"$('#status_localhost_c157320e25c2e296da887cd4c0ab37ac').addClass('fa-stop').removeClass('fa-square-o')\"\n",
       "                            onmouseleave=\"$('#status_localhost_c157320e25c2e296da887cd4c0ab37ac').addClass('fa-square-o').removeClass('fa-stop')\"\n",
       "                            onclick=\"kill_task('c157320e25c2e296da887cd4c0ab37ac', 'localhost')\"\n",
       "                        ></i> </td>\n",
       "                        <td style=\"border:0px\"><a onclick=\"task_info('c157320e25c2e296da887cd4c0ab37ac', 'localhost')\"><pre>c157320e25c2e296da887cd4c0ab37ac</pre></a></td>\n",
       "                        <td style=\"border:0px\">&nbsp;</td>\n",
       "                        <td style=\"border:0px;text-align=right;\">\n",
       "                        <pre><time id=\"duration_localhost_c157320e25c2e296da887cd4c0ab37ac\" datetime=\"1503608541483.5537\">0 sec</time></pre></td>\n",
       "                        </tr>\n",
       "                        </table>"
      ]
     },
     "metadata": {},
     "output_type": "display_data"
    },
    {
     "data": {
      "text/html": [
       "<table id=\"table_localhost_65d11779928cf49ed95c29443bd65f83\" style=\"border: 0px\"><tr style=\"border: 0px\">\n",
       "                        <td style=\"border: 0px\">\n",
       "                        <i id=\"status_localhost_65d11779928cf49ed95c29443bd65f83\"\n",
       "                            class=\"fa fa-2x fa-fw fa-square-o\"\n",
       "                            onmouseover=\"$('#status_localhost_65d11779928cf49ed95c29443bd65f83').addClass('fa-stop').removeClass('fa-square-o')\"\n",
       "                            onmouseleave=\"$('#status_localhost_65d11779928cf49ed95c29443bd65f83').addClass('fa-square-o').removeClass('fa-stop')\"\n",
       "                            onclick=\"kill_task('65d11779928cf49ed95c29443bd65f83', 'localhost')\"\n",
       "                        ></i> </td>\n",
       "                        <td style=\"border:0px\"><a onclick=\"task_info('65d11779928cf49ed95c29443bd65f83', 'localhost')\"><pre>65d11779928cf49ed95c29443bd65f83</pre></a></td>\n",
       "                        <td style=\"border:0px\">&nbsp;</td>\n",
       "                        <td style=\"border:0px;text-align=right;\">\n",
       "                        <pre><time id=\"duration_localhost_65d11779928cf49ed95c29443bd65f83\" datetime=\"1503608541483.8289\">0 sec</time></pre></td>\n",
       "                        </tr>\n",
       "                        </table>"
      ]
     },
     "metadata": {},
     "output_type": "display_data"
    },
    {
     "data": {
      "text/html": [
       "<table id=\"table_localhost_fae87d208e1f547585403c94772e4ad1\" style=\"border: 0px\"><tr style=\"border: 0px\">\n",
       "                        <td style=\"border: 0px\">\n",
       "                        <i id=\"status_localhost_fae87d208e1f547585403c94772e4ad1\"\n",
       "                            class=\"fa fa-2x fa-fw fa-square-o\"\n",
       "                            onmouseover=\"$('#status_localhost_fae87d208e1f547585403c94772e4ad1').addClass('fa-stop').removeClass('fa-square-o')\"\n",
       "                            onmouseleave=\"$('#status_localhost_fae87d208e1f547585403c94772e4ad1').addClass('fa-square-o').removeClass('fa-stop')\"\n",
       "                            onclick=\"kill_task('fae87d208e1f547585403c94772e4ad1', 'localhost')\"\n",
       "                        ></i> </td>\n",
       "                        <td style=\"border:0px\"><a onclick=\"task_info('fae87d208e1f547585403c94772e4ad1', 'localhost')\"><pre>fae87d208e1f547585403c94772e4ad1</pre></a></td>\n",
       "                        <td style=\"border:0px\">&nbsp;</td>\n",
       "                        <td style=\"border:0px;text-align=right;\">\n",
       "                        <pre><time id=\"duration_localhost_fae87d208e1f547585403c94772e4ad1\" datetime=\"1503608541484.1453\">0 sec</time></pre></td>\n",
       "                        </tr>\n",
       "                        </table>"
      ]
     },
     "metadata": {},
     "output_type": "display_data"
    },
    {
     "data": {
      "text/html": [
       "<table id=\"table_localhost_3b912f4c3db8aa2904976db730222736\" style=\"border: 0px\"><tr style=\"border: 0px\">\n",
       "                        <td style=\"border: 0px\">\n",
       "                        <i id=\"status_localhost_3b912f4c3db8aa2904976db730222736\"\n",
       "                            class=\"fa fa-2x fa-fw fa-square-o\"\n",
       "                            onmouseover=\"$('#status_localhost_3b912f4c3db8aa2904976db730222736').addClass('fa-stop').removeClass('fa-square-o')\"\n",
       "                            onmouseleave=\"$('#status_localhost_3b912f4c3db8aa2904976db730222736').addClass('fa-square-o').removeClass('fa-stop')\"\n",
       "                            onclick=\"kill_task('3b912f4c3db8aa2904976db730222736', 'localhost')\"\n",
       "                        ></i> </td>\n",
       "                        <td style=\"border:0px\"><a onclick=\"task_info('3b912f4c3db8aa2904976db730222736', 'localhost')\"><pre>3b912f4c3db8aa2904976db730222736</pre></a></td>\n",
       "                        <td style=\"border:0px\">&nbsp;</td>\n",
       "                        <td style=\"border:0px;text-align=right;\">\n",
       "                        <pre><time id=\"duration_localhost_3b912f4c3db8aa2904976db730222736\" datetime=\"1503608541484.3706\">0 sec</time></pre></td>\n",
       "                        </tr>\n",
       "                        </table>"
      ]
     },
     "metadata": {},
     "output_type": "display_data"
    },
    {
     "data": {
      "text/html": [
       "<table id=\"table_localhost_8da37e0e5918e74fbdaf8e0751fcaa66\" style=\"border: 0px\"><tr style=\"border: 0px\">\n",
       "                        <td style=\"border: 0px\">\n",
       "                        <i id=\"status_localhost_8da37e0e5918e74fbdaf8e0751fcaa66\"\n",
       "                            class=\"fa fa-2x fa-fw fa-square-o\"\n",
       "                            onmouseover=\"$('#status_localhost_8da37e0e5918e74fbdaf8e0751fcaa66').addClass('fa-stop').removeClass('fa-square-o')\"\n",
       "                            onmouseleave=\"$('#status_localhost_8da37e0e5918e74fbdaf8e0751fcaa66').addClass('fa-square-o').removeClass('fa-stop')\"\n",
       "                            onclick=\"kill_task('8da37e0e5918e74fbdaf8e0751fcaa66', 'localhost')\"\n",
       "                        ></i> </td>\n",
       "                        <td style=\"border:0px\"><a onclick=\"task_info('8da37e0e5918e74fbdaf8e0751fcaa66', 'localhost')\"><pre>8da37e0e5918e74fbdaf8e0751fcaa66</pre></a></td>\n",
       "                        <td style=\"border:0px\">&nbsp;</td>\n",
       "                        <td style=\"border:0px;text-align=right;\">\n",
       "                        <pre><time id=\"duration_localhost_8da37e0e5918e74fbdaf8e0751fcaa66\" datetime=\"1503608541484.7278\">0 sec</time></pre></td>\n",
       "                        </tr>\n",
       "                        </table>"
      ]
     },
     "metadata": {},
     "output_type": "display_data"
    },
    {
     "data": {
      "text/html": [
       "<table id=\"table_localhost_852e8270b9bf5cba795960291d63beb6\" style=\"border: 0px\"><tr style=\"border: 0px\">\n",
       "                        <td style=\"border: 0px\">\n",
       "                        <i id=\"status_localhost_852e8270b9bf5cba795960291d63beb6\"\n",
       "                            class=\"fa fa-2x fa-fw fa-square-o\"\n",
       "                            onmouseover=\"$('#status_localhost_852e8270b9bf5cba795960291d63beb6').addClass('fa-stop').removeClass('fa-square-o')\"\n",
       "                            onmouseleave=\"$('#status_localhost_852e8270b9bf5cba795960291d63beb6').addClass('fa-square-o').removeClass('fa-stop')\"\n",
       "                            onclick=\"kill_task('852e8270b9bf5cba795960291d63beb6', 'localhost')\"\n",
       "                        ></i> </td>\n",
       "                        <td style=\"border:0px\"><a onclick=\"task_info('852e8270b9bf5cba795960291d63beb6', 'localhost')\"><pre>852e8270b9bf5cba795960291d63beb6</pre></a></td>\n",
       "                        <td style=\"border:0px\">&nbsp;</td>\n",
       "                        <td style=\"border:0px;text-align=right;\">\n",
       "                        <pre><time id=\"duration_localhost_852e8270b9bf5cba795960291d63beb6\" datetime=\"1503608541484.9602\">0 sec</time></pre></td>\n",
       "                        </tr>\n",
       "                        </table>"
      ]
     },
     "metadata": {},
     "output_type": "display_data"
    },
    {
     "data": {
      "text/html": [
       "<table id=\"table_localhost_3e55aaa642034c044d7a8bd2eb7cf954\" style=\"border: 0px\"><tr style=\"border: 0px\">\n",
       "                        <td style=\"border: 0px\">\n",
       "                        <i id=\"status_localhost_3e55aaa642034c044d7a8bd2eb7cf954\"\n",
       "                            class=\"fa fa-2x fa-fw fa-square-o\"\n",
       "                            onmouseover=\"$('#status_localhost_3e55aaa642034c044d7a8bd2eb7cf954').addClass('fa-stop').removeClass('fa-square-o')\"\n",
       "                            onmouseleave=\"$('#status_localhost_3e55aaa642034c044d7a8bd2eb7cf954').addClass('fa-square-o').removeClass('fa-stop')\"\n",
       "                            onclick=\"kill_task('3e55aaa642034c044d7a8bd2eb7cf954', 'localhost')\"\n",
       "                        ></i> </td>\n",
       "                        <td style=\"border:0px\"><a onclick=\"task_info('3e55aaa642034c044d7a8bd2eb7cf954', 'localhost')\"><pre>3e55aaa642034c044d7a8bd2eb7cf954</pre></a></td>\n",
       "                        <td style=\"border:0px\">&nbsp;</td>\n",
       "                        <td style=\"border:0px;text-align=right;\">\n",
       "                        <pre><time id=\"duration_localhost_3e55aaa642034c044d7a8bd2eb7cf954\" datetime=\"1503608541485.3057\">0 sec</time></pre></td>\n",
       "                        </tr>\n",
       "                        </table>"
      ]
     },
     "metadata": {},
     "output_type": "display_data"
    },
    {
     "data": {
      "text/html": [
       "<table id=\"table_localhost_b9e9017716103cf759d016c5433ab7a9\" style=\"border: 0px\"><tr style=\"border: 0px\">\n",
       "                        <td style=\"border: 0px\">\n",
       "                        <i id=\"status_localhost_b9e9017716103cf759d016c5433ab7a9\"\n",
       "                            class=\"fa fa-2x fa-fw fa-square-o\"\n",
       "                            onmouseover=\"$('#status_localhost_b9e9017716103cf759d016c5433ab7a9').addClass('fa-stop').removeClass('fa-square-o')\"\n",
       "                            onmouseleave=\"$('#status_localhost_b9e9017716103cf759d016c5433ab7a9').addClass('fa-square-o').removeClass('fa-stop')\"\n",
       "                            onclick=\"kill_task('b9e9017716103cf759d016c5433ab7a9', 'localhost')\"\n",
       "                        ></i> </td>\n",
       "                        <td style=\"border:0px\"><a onclick=\"task_info('b9e9017716103cf759d016c5433ab7a9', 'localhost')\"><pre>b9e9017716103cf759d016c5433ab7a9</pre></a></td>\n",
       "                        <td style=\"border:0px\">&nbsp;</td>\n",
       "                        <td style=\"border:0px;text-align=right;\">\n",
       "                        <pre><time id=\"duration_localhost_b9e9017716103cf759d016c5433ab7a9\" datetime=\"1503608541485.5571\">0 sec</time></pre></td>\n",
       "                        </tr>\n",
       "                        </table>"
      ]
     },
     "metadata": {},
     "output_type": "display_data"
    }
   ],
   "source": [
    "%run default -J8 -j8\n",
    "import h5py\n",
    "cwd = \"~/Documents/GTEx/Lung\"\n",
    "genotype_file = '~/Documents/GTEx/Lung/Lung.genotype.h5'\n",
    "expr_file = '~/Documents/GTEx/Lung/Lung.expr.h5'\n",
    "covar_file = '~/Documents/GTEx/Lung/Lung.covariates.h5'\n",
    "tissues = list(h5py.File(\"${expr_file!a}\", libver='latest').keys())\n",
    "f = h5py.File(\"${genotype_file!a}\", libver='latest')\n",
    "genes = []\n",
    "for k in f:\n",
    "    genes.extend(['{}/{}'.format(k, x) for x in f[k]])\n",
    "\n",
    "[default]\n",
    "sos_run('mr_ash', tissues = ['Lung'], genes = genes,\n",
    "        genotype_file = genotype_file, \n",
    "        expr_file = expr_file, \n",
    "        covar_file = covar_file, \n",
    "        cwd = cwd)\n",
    "\n",
    "[mr_ash]\n",
    "parameter: cwd = \"./\"\n",
    "parameter: genotype_file = ''\n",
    "parameter: expr_file = ''\n",
    "parameter: covar_file = ''\n",
    "parameter: genes = []\n",
    "parameter: tissues = []\n",
    "depends: R_library('rhdf5'), R_library('tools')\n",
    "input: for_each = ['genes', 'tissues']\n",
    "output: \"${cwd!a}/${_tissues}_${_genes!b}.rds\"\n",
    "task:\n",
    "R:\n",
    "load_data = function(genotype_file, expr_file, cov_file, geno_table, expr_table,cov_table) {\n",
    "  geno = h5read(genotype_file, geno_table)\n",
    "  gdata = geno$block0_values\n",
    "  colnames(gdata) = geno$axis1\n",
    "  rownames(gdata) = geno$axis0\n",
    "  \n",
    "  expr = h5read(expr_file, expr_table)\n",
    "  edata = expr$block0_values\n",
    "  # colnames(edata) = expr$axis1\n",
    "  colnames(edata) = tools::file_path_sans_ext(expr$axis1)\n",
    "  # rownames(edata) = expr$axis0\n",
    "  rownames(edata) = apply(sapply(strsplit(expr$axis0,\"-\"), `[`, c(1,2)), 2, function(x) paste(x, collapse = '-'))\n",
    "  \n",
    "  index = which(duplicated(row.names(edata)))\n",
    "  edata = edata[-index,]\n",
    "  # edata = data.frame(edata)\n",
    "  covariate <- h5read(cov_file, cov_table)\n",
    "  cdata = covariate$block0_values\n",
    "  colnames(cdata) = apply(sapply(strsplit(covariate$axis1,\"-\"), `[`, c(1,2)), 2, function(x) paste(x, collapse = '-'))\n",
    "  # rownames(edata) = expr$axis0\n",
    "  rownames(cdata) = covariate$axis0 \n",
    "  cdata = t(cdata)[-index,]\n",
    "  gdata = data.frame(gdata)\n",
    "  # I want to use merge but later\n",
    "  # index_overlap = which(row.names(gdata) %in% row.names(edata))\n",
    "  edata = edata[, basename(geno_table)]\n",
    "  edata = data.frame(edata)\n",
    "  edata$ID = rownames(edata)\n",
    "  gdata$ID = rownames(gdata)\n",
    "  output = merge(x = edata, y = gdata, by = \"ID\", all.x = TRUE)\n",
    "  # gdata = gdata[index_overlap,]\n",
    "  return(list(X=as.matrix(output[,-c(1,2)]), y = as.vector(output$edata), Z = as.matrix(cdata)))\n",
    "}\n",
    "\n",
    "autoselect.mixsd = function(betahat,sebetahat,mult = sqrt(2)){\n",
    "  sebetahat=sebetahat[sebetahat!=0] #To avoid exact measure causing (usually by mistake)\n",
    "  sigmaamin = min(sebetahat)/10 #so that the minimum is small compared with measurement precision\n",
    "  if(all(betahat^2<=sebetahat^2)){\n",
    "    sigmaamax = 8*sigmaamin #to deal with the occassional odd case where this could happen; 8 is arbitrary\n",
    "  }else{\n",
    "    sigmaamax = 2*sqrt(max(betahat^2-sebetahat^2)) #this computes a rough largest value you'd want to use, based on idea that sigmaamax^2 + sebetahat^2 should be at least betahat^2   \n",
    "  }\n",
    "  if(mult==0){\n",
    "    return(c(0,sigmaamax/2))\n",
    "  }else{\n",
    "    npoint = ceiling(log2(sigmaamax/sigmaamin)/log2(mult))\n",
    "    return(mult^((-npoint):0) * sigmaamax)\n",
    "  }\n",
    "}\n",
    "\n",
    "initial_step = function(X,y,Z = NULL){\n",
    "  P = dim(X)[2]\n",
    "  output = matrix(0,nrow = P,ncol = 2)\n",
    "  for(i in 1:P){\n",
    "    if(is.null(Z)){\n",
    "      g = summary(lm(y~X[,i]))\n",
    "    } else{\n",
    "      g = summary(lm(y~X[,i]+Z))\n",
    "    }\n",
    "    \n",
    "    output[i,] = g$coefficients[2,1:2]\n",
    "  }\n",
    "  return(list(betahat = output[,1],sebetahat = output[,2]))\n",
    "}\n",
    "                                                                  \n",
    "analyze = function(genename = '/chr4/ENSG00000145214', tissue = '/Lung', out = 'test.rds'){\n",
    "  library(rhdf5)\n",
    "  genotype_file = ${genotype_file!ar}\n",
    "  expr_file = ${expr_file!ar}\n",
    "  geno_table = genename\n",
    "  expr_table = tissue \n",
    "  gene = basename(geno_table)\n",
    "  cov_file = ${covar_file!ar}\n",
    "  cov_table = expr_table\n",
    "  dat = load_data(genotype_file = genotype_file,\n",
    "                  expr_file = expr_file,\n",
    "                  cov_file = cov_file,\n",
    "                  geno_table = geno_table,\n",
    "                  expr_table = expr_table,\n",
    "                  cov_table = cov_table)\n",
    "  X = as.matrix(dat$X)\n",
    "  X = X[,which(colSums(X)!=0)]\n",
    "  if ((nrow(X) == 0) || (ncol(X) == 0)) {\n",
    "  \tsaveRDS(list(), out)\n",
    "  } else {\n",
    "  storage.mode(X) <- \"double\"\n",
    "  y = as.vector(dat$y)\n",
    "  Z = as.matrix(dat$Z)\n",
    "  initial = initial_step(X,y,Z)\n",
    "  mixsd = autoselect.mixsd(initial$betahat,initial$sebetahat)\n",
    "  logdata = capture.output({res = varbvs::varbvsmix(X, Z, y, sa = c(0,mixsd^2)) })\n",
    "  betahat = rowSums(res$alpha * res$mu)\n",
    "  names(betahat) = colnames(X)\n",
    "  mrash_out = list(betahat = betahat, lfsr = res$lfsr)\n",
    "  ash_out = ashr::ash(initial$betahat,initial$sebetahat,mixcompdist = \"normal\")\n",
    "  saveRDS(list(ash = ash_out, uni = initial, mr_ash = mrash_out, logdata = logdata), out)\n",
    "}\n",
    "}\n",
    "\n",
    "analyze(genename = \"/${_genes}\", tissue = \"/${_tissues}\", out = ${_output!r})"
   ]
  },
  {
   "cell_type": "code",
   "execution_count": null,
   "metadata": {
    "collapsed": true
   },
   "outputs": [],
   "source": []
  }
 ],
 "metadata": {
  "celltoolbar": "Tags",
  "kernelspec": {
   "display_name": "SoS",
   "language": "sos",
   "name": "sos"
  },
  "language_info": {
   "codemirror_mode": "sos",
   "file_extension": ".sos",
   "mimetype": "text/x-sos",
   "name": "sos",
   "nbconvert_exporter": "sos.jupyter.converter.SoS_Exporter",
   "pygments_lexer": "sos"
  },
  "sos": {
   "default_kernel": "SoS",
   "kernels": [
    [
     "Python3",
     "python3",
     "Python3",
     "#FFE771"
    ],
    [
     "R",
     "ir",
     "R",
     "#DCDCDA"
    ],
    [
     "SoS",
     "sos",
     "",
     ""
    ]
   ],
   "panel": {
    "displayed": true,
    "height": 0,
    "style": "side"
   }
  }
 },
 "nbformat": 4,
 "nbformat_minor": 2
}
