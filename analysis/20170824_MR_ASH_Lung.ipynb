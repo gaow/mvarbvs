{
 "cells": [
  {
   "cell_type": "markdown",
   "metadata": {},
   "source": [
    "# MR-ASH analysis on lung genes"
   ]
  },
  {
   "cell_type": "markdown",
   "metadata": {},
   "source": [
    "Here we want to analyze with mr-ash some potentially interesting genes for a single tissue. We pick up e-genes for Lung from [previous results](https://www.gtexportal.org/home/multiTissuePage) -- I sort results by posterior probability in Lung and pick up the top 200 (have to manually save tables for batches of 100), saved to `data/lung_genes_v4.txt`."
   ]
  },
  {
   "cell_type": "markdown",
   "metadata": {},
   "source": [
    "## Get toy example\n"
   ]
  },
  {
   "cell_type": "code",
   "execution_count": null,
   "metadata": {
    "collapsed": true,
    "kernel": "SoS"
   },
   "outputs": [],
   "source": [
    "!tail -n+2 data/lung_genes_v4.txt | cut -f 1 > /tmp/lung_genes.txt\n",
    " ./prep.sos make_toy -c conf/20170824.conf -b ~/Documents/GTEx/bin -J 8 -j 8"
   ]
  },
  {
   "cell_type": "code",
   "execution_count": 1,
   "metadata": {
    "kernel": "SoS"
   },
   "outputs": [
    {
     "data": {
      "text/html": [
       "<table id=\"table_localhost_80341bb31855f4538f8d926145818e6c\" style=\"border: 0px\"><tr style=\"border: 0px\">\n",
       "                        <td style=\"border: 0px\">\n",
       "                        <i id=\"status_localhost_80341bb31855f4538f8d926145818e6c\"\n",
       "                            class=\"fa fa-2x fa-fw fa-square-o\"\n",
       "                            onmouseover=\"$('#status_localhost_80341bb31855f4538f8d926145818e6c').addClass('fa-stop').removeClass('fa-square-o')\"\n",
       "                            onmouseleave=\"$('#status_localhost_80341bb31855f4538f8d926145818e6c').addClass('fa-square-o').removeClass('fa-stop')\"\n",
       "                            onclick=\"kill_task('80341bb31855f4538f8d926145818e6c', 'localhost')\"\n",
       "                        ></i> </td>\n",
       "                        <td style=\"border:0px\"><a onclick=\"task_info('80341bb31855f4538f8d926145818e6c', 'localhost')\"><pre>80341bb31855f4538f8d926145818e6c</pre></a></td>\n",
       "                        <td style=\"border:0px\">&nbsp;</td>\n",
       "                        <td style=\"border:0px;text-align=right;\">\n",
       "                        <pre><time id=\"duration_localhost_80341bb31855f4538f8d926145818e6c\" datetime=\"1503676288339.8738\">0 sec</time></pre></td>\n",
       "                        </tr>\n",
       "                        </table>"
      ]
     },
     "metadata": {},
     "output_type": "display_data"
    },
    {
     "data": {
      "text/html": [
       "<table id=\"table_localhost_0c1b5684a800c4501bdd1d20ce8c3798\" style=\"border: 0px\"><tr style=\"border: 0px\">\n",
       "                        <td style=\"border: 0px\">\n",
       "                        <i id=\"status_localhost_0c1b5684a800c4501bdd1d20ce8c3798\"\n",
       "                            class=\"fa fa-2x fa-fw fa-square-o\"\n",
       "                            onmouseover=\"$('#status_localhost_0c1b5684a800c4501bdd1d20ce8c3798').addClass('fa-stop').removeClass('fa-square-o')\"\n",
       "                            onmouseleave=\"$('#status_localhost_0c1b5684a800c4501bdd1d20ce8c3798').addClass('fa-square-o').removeClass('fa-stop')\"\n",
       "                            onclick=\"kill_task('0c1b5684a800c4501bdd1d20ce8c3798', 'localhost')\"\n",
       "                        ></i> </td>\n",
       "                        <td style=\"border:0px\"><a onclick=\"task_info('0c1b5684a800c4501bdd1d20ce8c3798', 'localhost')\"><pre>0c1b5684a800c4501bdd1d20ce8c3798</pre></a></td>\n",
       "                        <td style=\"border:0px\">&nbsp;</td>\n",
       "                        <td style=\"border:0px;text-align=right;\">\n",
       "                        <pre><time id=\"duration_localhost_0c1b5684a800c4501bdd1d20ce8c3798\" datetime=\"1503676288340.218\">0 sec</time></pre></td>\n",
       "                        </tr>\n",
       "                        </table>"
      ]
     },
     "metadata": {},
     "output_type": "display_data"
    },
    {
     "data": {
      "text/html": [
       "<table id=\"table_localhost_b04b7140556bf187c0c275efde8504bc\" style=\"border: 0px\"><tr style=\"border: 0px\">\n",
       "                        <td style=\"border: 0px\">\n",
       "                        <i id=\"status_localhost_b04b7140556bf187c0c275efde8504bc\"\n",
       "                            class=\"fa fa-2x fa-fw fa-square-o\"\n",
       "                            onmouseover=\"$('#status_localhost_b04b7140556bf187c0c275efde8504bc').addClass('fa-stop').removeClass('fa-square-o')\"\n",
       "                            onmouseleave=\"$('#status_localhost_b04b7140556bf187c0c275efde8504bc').addClass('fa-square-o').removeClass('fa-stop')\"\n",
       "                            onclick=\"kill_task('b04b7140556bf187c0c275efde8504bc', 'localhost')\"\n",
       "                        ></i> </td>\n",
       "                        <td style=\"border:0px\"><a onclick=\"task_info('b04b7140556bf187c0c275efde8504bc', 'localhost')\"><pre>b04b7140556bf187c0c275efde8504bc</pre></a></td>\n",
       "                        <td style=\"border:0px\">&nbsp;</td>\n",
       "                        <td style=\"border:0px;text-align=right;\">\n",
       "                        <pre><time id=\"duration_localhost_b04b7140556bf187c0c275efde8504bc\" datetime=\"1503676288340.4663\">0 sec</time></pre></td>\n",
       "                        </tr>\n",
       "                        </table>"
      ]
     },
     "metadata": {},
     "output_type": "display_data"
    },
    {
     "data": {
      "text/html": [
       "<table id=\"table_localhost_0044bdff4eabc8c3701bc54dcfea4d34\" style=\"border: 0px\"><tr style=\"border: 0px\">\n",
       "                        <td style=\"border: 0px\">\n",
       "                        <i id=\"status_localhost_0044bdff4eabc8c3701bc54dcfea4d34\"\n",
       "                            class=\"fa fa-2x fa-fw fa-square-o\"\n",
       "                            onmouseover=\"$('#status_localhost_0044bdff4eabc8c3701bc54dcfea4d34').addClass('fa-stop').removeClass('fa-square-o')\"\n",
       "                            onmouseleave=\"$('#status_localhost_0044bdff4eabc8c3701bc54dcfea4d34').addClass('fa-square-o').removeClass('fa-stop')\"\n",
       "                            onclick=\"kill_task('0044bdff4eabc8c3701bc54dcfea4d34', 'localhost')\"\n",
       "                        ></i> </td>\n",
       "                        <td style=\"border:0px\"><a onclick=\"task_info('0044bdff4eabc8c3701bc54dcfea4d34', 'localhost')\"><pre>0044bdff4eabc8c3701bc54dcfea4d34</pre></a></td>\n",
       "                        <td style=\"border:0px\">&nbsp;</td>\n",
       "                        <td style=\"border:0px;text-align=right;\">\n",
       "                        <pre><time id=\"duration_localhost_0044bdff4eabc8c3701bc54dcfea4d34\" datetime=\"1503676288340.6348\">0 sec</time></pre></td>\n",
       "                        </tr>\n",
       "                        </table>"
      ]
     },
     "metadata": {},
     "output_type": "display_data"
    },
    {
     "data": {
      "text/html": [
       "<table id=\"table_localhost_ff79a14268a6ce829599e50f2e35b09b\" style=\"border: 0px\"><tr style=\"border: 0px\">\n",
       "                        <td style=\"border: 0px\">\n",
       "                        <i id=\"status_localhost_ff79a14268a6ce829599e50f2e35b09b\"\n",
       "                            class=\"fa fa-2x fa-fw fa-square-o\"\n",
       "                            onmouseover=\"$('#status_localhost_ff79a14268a6ce829599e50f2e35b09b').addClass('fa-stop').removeClass('fa-square-o')\"\n",
       "                            onmouseleave=\"$('#status_localhost_ff79a14268a6ce829599e50f2e35b09b').addClass('fa-square-o').removeClass('fa-stop')\"\n",
       "                            onclick=\"kill_task('ff79a14268a6ce829599e50f2e35b09b', 'localhost')\"\n",
       "                        ></i> </td>\n",
       "                        <td style=\"border:0px\"><a onclick=\"task_info('ff79a14268a6ce829599e50f2e35b09b', 'localhost')\"><pre>ff79a14268a6ce829599e50f2e35b09b</pre></a></td>\n",
       "                        <td style=\"border:0px\">&nbsp;</td>\n",
       "                        <td style=\"border:0px;text-align=right;\">\n",
       "                        <pre><time id=\"duration_localhost_ff79a14268a6ce829599e50f2e35b09b\" datetime=\"1503676288340.873\">0 sec</time></pre></td>\n",
       "                        </tr>\n",
       "                        </table>"
      ]
     },
     "metadata": {},
     "output_type": "display_data"
    },
    {
     "data": {
      "text/html": [
       "<table id=\"table_localhost_742ca108b14fd0e23e7c6b99bfc804e6\" style=\"border: 0px\"><tr style=\"border: 0px\">\n",
       "                        <td style=\"border: 0px\">\n",
       "                        <i id=\"status_localhost_742ca108b14fd0e23e7c6b99bfc804e6\"\n",
       "                            class=\"fa fa-2x fa-fw fa-square-o\"\n",
       "                            onmouseover=\"$('#status_localhost_742ca108b14fd0e23e7c6b99bfc804e6').addClass('fa-stop').removeClass('fa-square-o')\"\n",
       "                            onmouseleave=\"$('#status_localhost_742ca108b14fd0e23e7c6b99bfc804e6').addClass('fa-square-o').removeClass('fa-stop')\"\n",
       "                            onclick=\"kill_task('742ca108b14fd0e23e7c6b99bfc804e6', 'localhost')\"\n",
       "                        ></i> </td>\n",
       "                        <td style=\"border:0px\"><a onclick=\"task_info('742ca108b14fd0e23e7c6b99bfc804e6', 'localhost')\"><pre>742ca108b14fd0e23e7c6b99bfc804e6</pre></a></td>\n",
       "                        <td style=\"border:0px\">&nbsp;</td>\n",
       "                        <td style=\"border:0px;text-align=right;\">\n",
       "                        <pre><time id=\"duration_localhost_742ca108b14fd0e23e7c6b99bfc804e6\" datetime=\"1503676288341.063\">0 sec</time></pre></td>\n",
       "                        </tr>\n",
       "                        </table>"
      ]
     },
     "metadata": {},
     "output_type": "display_data"
    },
    {
     "data": {
      "text/html": [
       "<table id=\"table_localhost_83a8b9970130138c4fd89cb28ee85b33\" style=\"border: 0px\"><tr style=\"border: 0px\">\n",
       "                        <td style=\"border: 0px\">\n",
       "                        <i id=\"status_localhost_83a8b9970130138c4fd89cb28ee85b33\"\n",
       "                            class=\"fa fa-2x fa-fw fa-square-o\"\n",
       "                            onmouseover=\"$('#status_localhost_83a8b9970130138c4fd89cb28ee85b33').addClass('fa-stop').removeClass('fa-square-o')\"\n",
       "                            onmouseleave=\"$('#status_localhost_83a8b9970130138c4fd89cb28ee85b33').addClass('fa-square-o').removeClass('fa-stop')\"\n",
       "                            onclick=\"kill_task('83a8b9970130138c4fd89cb28ee85b33', 'localhost')\"\n",
       "                        ></i> </td>\n",
       "                        <td style=\"border:0px\"><a onclick=\"task_info('83a8b9970130138c4fd89cb28ee85b33', 'localhost')\"><pre>83a8b9970130138c4fd89cb28ee85b33</pre></a></td>\n",
       "                        <td style=\"border:0px\">&nbsp;</td>\n",
       "                        <td style=\"border:0px;text-align=right;\">\n",
       "                        <pre><time id=\"duration_localhost_83a8b9970130138c4fd89cb28ee85b33\" datetime=\"1503676288341.2827\">0 sec</time></pre></td>\n",
       "                        </tr>\n",
       "                        </table>"
      ]
     },
     "metadata": {},
     "output_type": "display_data"
    },
    {
     "data": {
      "text/html": [
       "<table id=\"table_localhost_899bda2c42cf32f4aa1f0796865bd6ef\" style=\"border: 0px\"><tr style=\"border: 0px\">\n",
       "                        <td style=\"border: 0px\">\n",
       "                        <i id=\"status_localhost_899bda2c42cf32f4aa1f0796865bd6ef\"\n",
       "                            class=\"fa fa-2x fa-fw fa-square-o\"\n",
       "                            onmouseover=\"$('#status_localhost_899bda2c42cf32f4aa1f0796865bd6ef').addClass('fa-stop').removeClass('fa-square-o')\"\n",
       "                            onmouseleave=\"$('#status_localhost_899bda2c42cf32f4aa1f0796865bd6ef').addClass('fa-square-o').removeClass('fa-stop')\"\n",
       "                            onclick=\"kill_task('899bda2c42cf32f4aa1f0796865bd6ef', 'localhost')\"\n",
       "                        ></i> </td>\n",
       "                        <td style=\"border:0px\"><a onclick=\"task_info('899bda2c42cf32f4aa1f0796865bd6ef', 'localhost')\"><pre>899bda2c42cf32f4aa1f0796865bd6ef</pre></a></td>\n",
       "                        <td style=\"border:0px\">&nbsp;</td>\n",
       "                        <td style=\"border:0px;text-align=right;\">\n",
       "                        <pre><time id=\"duration_localhost_899bda2c42cf32f4aa1f0796865bd6ef\" datetime=\"1503676288341.4683\">0 sec</time></pre></td>\n",
       "                        </tr>\n",
       "                        </table>"
      ]
     },
     "metadata": {},
     "output_type": "display_data"
    },
    {
     "data": {
      "text/html": [
       "<table id=\"table_localhost_43827db66cb156e59c96444d00b9f66b\" style=\"border: 0px\"><tr style=\"border: 0px\">\n",
       "                        <td style=\"border: 0px\">\n",
       "                        <i id=\"status_localhost_43827db66cb156e59c96444d00b9f66b\"\n",
       "                            class=\"fa fa-2x fa-fw fa-square-o\"\n",
       "                            onmouseover=\"$('#status_localhost_43827db66cb156e59c96444d00b9f66b').addClass('fa-stop').removeClass('fa-square-o')\"\n",
       "                            onmouseleave=\"$('#status_localhost_43827db66cb156e59c96444d00b9f66b').addClass('fa-square-o').removeClass('fa-stop')\"\n",
       "                            onclick=\"kill_task('43827db66cb156e59c96444d00b9f66b', 'localhost')\"\n",
       "                        ></i> </td>\n",
       "                        <td style=\"border:0px\"><a onclick=\"task_info('43827db66cb156e59c96444d00b9f66b', 'localhost')\"><pre>43827db66cb156e59c96444d00b9f66b</pre></a></td>\n",
       "                        <td style=\"border:0px\">&nbsp;</td>\n",
       "                        <td style=\"border:0px;text-align=right;\">\n",
       "                        <pre><time id=\"duration_localhost_43827db66cb156e59c96444d00b9f66b\" datetime=\"1503676288341.6619\">0 sec</time></pre></td>\n",
       "                        </tr>\n",
       "                        </table>"
      ]
     },
     "metadata": {},
     "output_type": "display_data"
    },
    {
     "data": {
      "text/html": [
       "<table id=\"table_localhost_221908642651315967701696b69aca79\" style=\"border: 0px\"><tr style=\"border: 0px\">\n",
       "                        <td style=\"border: 0px\">\n",
       "                        <i id=\"status_localhost_221908642651315967701696b69aca79\"\n",
       "                            class=\"fa fa-2x fa-fw fa-square-o\"\n",
       "                            onmouseover=\"$('#status_localhost_221908642651315967701696b69aca79').addClass('fa-stop').removeClass('fa-square-o')\"\n",
       "                            onmouseleave=\"$('#status_localhost_221908642651315967701696b69aca79').addClass('fa-square-o').removeClass('fa-stop')\"\n",
       "                            onclick=\"kill_task('221908642651315967701696b69aca79', 'localhost')\"\n",
       "                        ></i> </td>\n",
       "                        <td style=\"border:0px\"><a onclick=\"task_info('221908642651315967701696b69aca79', 'localhost')\"><pre>221908642651315967701696b69aca79</pre></a></td>\n",
       "                        <td style=\"border:0px\">&nbsp;</td>\n",
       "                        <td style=\"border:0px;text-align=right;\">\n",
       "                        <pre><time id=\"duration_localhost_221908642651315967701696b69aca79\" datetime=\"1503676288341.8428\">0 sec</time></pre></td>\n",
       "                        </tr>\n",
       "                        </table>"
      ]
     },
     "metadata": {},
     "output_type": "display_data"
    },
    {
     "data": {
      "text/html": [
       "<table id=\"table_localhost_4afa7f64549384aa1c20d3811d9893cd\" style=\"border: 0px\"><tr style=\"border: 0px\">\n",
       "                        <td style=\"border: 0px\">\n",
       "                        <i id=\"status_localhost_4afa7f64549384aa1c20d3811d9893cd\"\n",
       "                            class=\"fa fa-2x fa-fw fa-square-o\"\n",
       "                            onmouseover=\"$('#status_localhost_4afa7f64549384aa1c20d3811d9893cd').addClass('fa-stop').removeClass('fa-square-o')\"\n",
       "                            onmouseleave=\"$('#status_localhost_4afa7f64549384aa1c20d3811d9893cd').addClass('fa-square-o').removeClass('fa-stop')\"\n",
       "                            onclick=\"kill_task('4afa7f64549384aa1c20d3811d9893cd', 'localhost')\"\n",
       "                        ></i> </td>\n",
       "                        <td style=\"border:0px\"><a onclick=\"task_info('4afa7f64549384aa1c20d3811d9893cd', 'localhost')\"><pre>4afa7f64549384aa1c20d3811d9893cd</pre></a></td>\n",
       "                        <td style=\"border:0px\">&nbsp;</td>\n",
       "                        <td style=\"border:0px;text-align=right;\">\n",
       "                        <pre><time id=\"duration_localhost_4afa7f64549384aa1c20d3811d9893cd\" datetime=\"1503676288342.0632\">0 sec</time></pre></td>\n",
       "                        </tr>\n",
       "                        </table>"
      ]
     },
     "metadata": {},
     "output_type": "display_data"
    },
    {
     "data": {
      "text/html": [
       "<table id=\"table_localhost_1a83fb9af35ece3da110ff2f6ebd1177\" style=\"border: 0px\"><tr style=\"border: 0px\">\n",
       "                        <td style=\"border: 0px\">\n",
       "                        <i id=\"status_localhost_1a83fb9af35ece3da110ff2f6ebd1177\"\n",
       "                            class=\"fa fa-2x fa-fw fa-square-o\"\n",
       "                            onmouseover=\"$('#status_localhost_1a83fb9af35ece3da110ff2f6ebd1177').addClass('fa-stop').removeClass('fa-square-o')\"\n",
       "                            onmouseleave=\"$('#status_localhost_1a83fb9af35ece3da110ff2f6ebd1177').addClass('fa-square-o').removeClass('fa-stop')\"\n",
       "                            onclick=\"kill_task('1a83fb9af35ece3da110ff2f6ebd1177', 'localhost')\"\n",
       "                        ></i> </td>\n",
       "                        <td style=\"border:0px\"><a onclick=\"task_info('1a83fb9af35ece3da110ff2f6ebd1177', 'localhost')\"><pre>1a83fb9af35ece3da110ff2f6ebd1177</pre></a></td>\n",
       "                        <td style=\"border:0px\">&nbsp;</td>\n",
       "                        <td style=\"border:0px;text-align=right;\">\n",
       "                        <pre><time id=\"duration_localhost_1a83fb9af35ece3da110ff2f6ebd1177\" datetime=\"1503676288342.2844\">0 sec</time></pre></td>\n",
       "                        </tr>\n",
       "                        </table>"
      ]
     },
     "metadata": {},
     "output_type": "display_data"
    },
    {
     "data": {
      "text/html": [
       "<table id=\"table_localhost_4d27d851b4a92517904f9dea557b7833\" style=\"border: 0px\"><tr style=\"border: 0px\">\n",
       "                        <td style=\"border: 0px\">\n",
       "                        <i id=\"status_localhost_4d27d851b4a92517904f9dea557b7833\"\n",
       "                            class=\"fa fa-2x fa-fw fa-square-o\"\n",
       "                            onmouseover=\"$('#status_localhost_4d27d851b4a92517904f9dea557b7833').addClass('fa-stop').removeClass('fa-square-o')\"\n",
       "                            onmouseleave=\"$('#status_localhost_4d27d851b4a92517904f9dea557b7833').addClass('fa-square-o').removeClass('fa-stop')\"\n",
       "                            onclick=\"kill_task('4d27d851b4a92517904f9dea557b7833', 'localhost')\"\n",
       "                        ></i> </td>\n",
       "                        <td style=\"border:0px\"><a onclick=\"task_info('4d27d851b4a92517904f9dea557b7833', 'localhost')\"><pre>4d27d851b4a92517904f9dea557b7833</pre></a></td>\n",
       "                        <td style=\"border:0px\">&nbsp;</td>\n",
       "                        <td style=\"border:0px;text-align=right;\">\n",
       "                        <pre><time id=\"duration_localhost_4d27d851b4a92517904f9dea557b7833\" datetime=\"1503676288342.468\">0 sec</time></pre></td>\n",
       "                        </tr>\n",
       "                        </table>"
      ]
     },
     "metadata": {},
     "output_type": "display_data"
    },
    {
     "data": {
      "text/html": [
       "<table id=\"table_localhost_a1272e0be1ea9bfd99756ed932b62a6b\" style=\"border: 0px\"><tr style=\"border: 0px\">\n",
       "                        <td style=\"border: 0px\">\n",
       "                        <i id=\"status_localhost_a1272e0be1ea9bfd99756ed932b62a6b\"\n",
       "                            class=\"fa fa-2x fa-fw fa-square-o\"\n",
       "                            onmouseover=\"$('#status_localhost_a1272e0be1ea9bfd99756ed932b62a6b').addClass('fa-stop').removeClass('fa-square-o')\"\n",
       "                            onmouseleave=\"$('#status_localhost_a1272e0be1ea9bfd99756ed932b62a6b').addClass('fa-square-o').removeClass('fa-stop')\"\n",
       "                            onclick=\"kill_task('a1272e0be1ea9bfd99756ed932b62a6b', 'localhost')\"\n",
       "                        ></i> </td>\n",
       "                        <td style=\"border:0px\"><a onclick=\"task_info('a1272e0be1ea9bfd99756ed932b62a6b', 'localhost')\"><pre>a1272e0be1ea9bfd99756ed932b62a6b</pre></a></td>\n",
       "                        <td style=\"border:0px\">&nbsp;</td>\n",
       "                        <td style=\"border:0px;text-align=right;\">\n",
       "                        <pre><time id=\"duration_localhost_a1272e0be1ea9bfd99756ed932b62a6b\" datetime=\"1503676288342.655\">0 sec</time></pre></td>\n",
       "                        </tr>\n",
       "                        </table>"
      ]
     },
     "metadata": {},
     "output_type": "display_data"
    },
    {
     "data": {
      "text/html": [
       "<table id=\"table_localhost_2fedf1b602b2accc7cc36eddd5445e44\" style=\"border: 0px\"><tr style=\"border: 0px\">\n",
       "                        <td style=\"border: 0px\">\n",
       "                        <i id=\"status_localhost_2fedf1b602b2accc7cc36eddd5445e44\"\n",
       "                            class=\"fa fa-2x fa-fw fa-square-o\"\n",
       "                            onmouseover=\"$('#status_localhost_2fedf1b602b2accc7cc36eddd5445e44').addClass('fa-stop').removeClass('fa-square-o')\"\n",
       "                            onmouseleave=\"$('#status_localhost_2fedf1b602b2accc7cc36eddd5445e44').addClass('fa-square-o').removeClass('fa-stop')\"\n",
       "                            onclick=\"kill_task('2fedf1b602b2accc7cc36eddd5445e44', 'localhost')\"\n",
       "                        ></i> </td>\n",
       "                        <td style=\"border:0px\"><a onclick=\"task_info('2fedf1b602b2accc7cc36eddd5445e44', 'localhost')\"><pre>2fedf1b602b2accc7cc36eddd5445e44</pre></a></td>\n",
       "                        <td style=\"border:0px\">&nbsp;</td>\n",
       "                        <td style=\"border:0px;text-align=right;\">\n",
       "                        <pre><time id=\"duration_localhost_2fedf1b602b2accc7cc36eddd5445e44\" datetime=\"1503676288342.836\">0 sec</time></pre></td>\n",
       "                        </tr>\n",
       "                        </table>"
      ]
     },
     "metadata": {},
     "output_type": "display_data"
    },
    {
     "data": {
      "text/html": [
       "<table id=\"table_localhost_652d03549f496725c5413a558837de17\" style=\"border: 0px\"><tr style=\"border: 0px\">\n",
       "                        <td style=\"border: 0px\">\n",
       "                        <i id=\"status_localhost_652d03549f496725c5413a558837de17\"\n",
       "                            class=\"fa fa-2x fa-fw fa-square-o\"\n",
       "                            onmouseover=\"$('#status_localhost_652d03549f496725c5413a558837de17').addClass('fa-stop').removeClass('fa-square-o')\"\n",
       "                            onmouseleave=\"$('#status_localhost_652d03549f496725c5413a558837de17').addClass('fa-square-o').removeClass('fa-stop')\"\n",
       "                            onclick=\"kill_task('652d03549f496725c5413a558837de17', 'localhost')\"\n",
       "                        ></i> </td>\n",
       "                        <td style=\"border:0px\"><a onclick=\"task_info('652d03549f496725c5413a558837de17', 'localhost')\"><pre>652d03549f496725c5413a558837de17</pre></a></td>\n",
       "                        <td style=\"border:0px\">&nbsp;</td>\n",
       "                        <td style=\"border:0px;text-align=right;\">\n",
       "                        <pre><time id=\"duration_localhost_652d03549f496725c5413a558837de17\" datetime=\"1503676288343.0305\">0 sec</time></pre></td>\n",
       "                        </tr>\n",
       "                        </table>"
      ]
     },
     "metadata": {},
     "output_type": "display_data"
    },
    {
     "data": {
      "text/html": [
       "<table id=\"table_localhost_0e01ff2b0d138e98857e73a3e53b0d0d\" style=\"border: 0px\"><tr style=\"border: 0px\">\n",
       "                        <td style=\"border: 0px\">\n",
       "                        <i id=\"status_localhost_0e01ff2b0d138e98857e73a3e53b0d0d\"\n",
       "                            class=\"fa fa-2x fa-fw fa-square-o\"\n",
       "                            onmouseover=\"$('#status_localhost_0e01ff2b0d138e98857e73a3e53b0d0d').addClass('fa-stop').removeClass('fa-square-o')\"\n",
       "                            onmouseleave=\"$('#status_localhost_0e01ff2b0d138e98857e73a3e53b0d0d').addClass('fa-square-o').removeClass('fa-stop')\"\n",
       "                            onclick=\"kill_task('0e01ff2b0d138e98857e73a3e53b0d0d', 'localhost')\"\n",
       "                        ></i> </td>\n",
       "                        <td style=\"border:0px\"><a onclick=\"task_info('0e01ff2b0d138e98857e73a3e53b0d0d', 'localhost')\"><pre>0e01ff2b0d138e98857e73a3e53b0d0d</pre></a></td>\n",
       "                        <td style=\"border:0px\">&nbsp;</td>\n",
       "                        <td style=\"border:0px;text-align=right;\">\n",
       "                        <pre><time id=\"duration_localhost_0e01ff2b0d138e98857e73a3e53b0d0d\" datetime=\"1503676288343.2175\">0 sec</time></pre></td>\n",
       "                        </tr>\n",
       "                        </table>"
      ]
     },
     "metadata": {},
     "output_type": "display_data"
    },
    {
     "data": {
      "text/html": [
       "<table id=\"table_localhost_d602dc50a45c0443af0afbb4e88993bd\" style=\"border: 0px\"><tr style=\"border: 0px\">\n",
       "                        <td style=\"border: 0px\">\n",
       "                        <i id=\"status_localhost_d602dc50a45c0443af0afbb4e88993bd\"\n",
       "                            class=\"fa fa-2x fa-fw fa-square-o\"\n",
       "                            onmouseover=\"$('#status_localhost_d602dc50a45c0443af0afbb4e88993bd').addClass('fa-stop').removeClass('fa-square-o')\"\n",
       "                            onmouseleave=\"$('#status_localhost_d602dc50a45c0443af0afbb4e88993bd').addClass('fa-square-o').removeClass('fa-stop')\"\n",
       "                            onclick=\"kill_task('d602dc50a45c0443af0afbb4e88993bd', 'localhost')\"\n",
       "                        ></i> </td>\n",
       "                        <td style=\"border:0px\"><a onclick=\"task_info('d602dc50a45c0443af0afbb4e88993bd', 'localhost')\"><pre>d602dc50a45c0443af0afbb4e88993bd</pre></a></td>\n",
       "                        <td style=\"border:0px\">&nbsp;</td>\n",
       "                        <td style=\"border:0px;text-align=right;\">\n",
       "                        <pre><time id=\"duration_localhost_d602dc50a45c0443af0afbb4e88993bd\" datetime=\"1503676288343.4011\">0 sec</time></pre></td>\n",
       "                        </tr>\n",
       "                        </table>"
      ]
     },
     "metadata": {},
     "output_type": "display_data"
    },
    {
     "data": {
      "text/html": [
       "<table id=\"table_localhost_76cdcd82b71448f84909aa3bfa228b63\" style=\"border: 0px\"><tr style=\"border: 0px\">\n",
       "                        <td style=\"border: 0px\">\n",
       "                        <i id=\"status_localhost_76cdcd82b71448f84909aa3bfa228b63\"\n",
       "                            class=\"fa fa-2x fa-fw fa-square-o\"\n",
       "                            onmouseover=\"$('#status_localhost_76cdcd82b71448f84909aa3bfa228b63').addClass('fa-stop').removeClass('fa-square-o')\"\n",
       "                            onmouseleave=\"$('#status_localhost_76cdcd82b71448f84909aa3bfa228b63').addClass('fa-square-o').removeClass('fa-stop')\"\n",
       "                            onclick=\"kill_task('76cdcd82b71448f84909aa3bfa228b63', 'localhost')\"\n",
       "                        ></i> </td>\n",
       "                        <td style=\"border:0px\"><a onclick=\"task_info('76cdcd82b71448f84909aa3bfa228b63', 'localhost')\"><pre>76cdcd82b71448f84909aa3bfa228b63</pre></a></td>\n",
       "                        <td style=\"border:0px\">&nbsp;</td>\n",
       "                        <td style=\"border:0px;text-align=right;\">\n",
       "                        <pre><time id=\"duration_localhost_76cdcd82b71448f84909aa3bfa228b63\" datetime=\"1503676288343.5876\">0 sec</time></pre></td>\n",
       "                        </tr>\n",
       "                        </table>"
      ]
     },
     "metadata": {},
     "output_type": "display_data"
    },
    {
     "data": {
      "text/html": [
       "<table id=\"table_localhost_1e1fb14da409d9320d110e3afd9895fa\" style=\"border: 0px\"><tr style=\"border: 0px\">\n",
       "                        <td style=\"border: 0px\">\n",
       "                        <i id=\"status_localhost_1e1fb14da409d9320d110e3afd9895fa\"\n",
       "                            class=\"fa fa-2x fa-fw fa-square-o\"\n",
       "                            onmouseover=\"$('#status_localhost_1e1fb14da409d9320d110e3afd9895fa').addClass('fa-stop').removeClass('fa-square-o')\"\n",
       "                            onmouseleave=\"$('#status_localhost_1e1fb14da409d9320d110e3afd9895fa').addClass('fa-square-o').removeClass('fa-stop')\"\n",
       "                            onclick=\"kill_task('1e1fb14da409d9320d110e3afd9895fa', 'localhost')\"\n",
       "                        ></i> </td>\n",
       "                        <td style=\"border:0px\"><a onclick=\"task_info('1e1fb14da409d9320d110e3afd9895fa', 'localhost')\"><pre>1e1fb14da409d9320d110e3afd9895fa</pre></a></td>\n",
       "                        <td style=\"border:0px\">&nbsp;</td>\n",
       "                        <td style=\"border:0px;text-align=right;\">\n",
       "                        <pre><time id=\"duration_localhost_1e1fb14da409d9320d110e3afd9895fa\" datetime=\"1503676288343.7766\">0 sec</time></pre></td>\n",
       "                        </tr>\n",
       "                        </table>"
      ]
     },
     "metadata": {},
     "output_type": "display_data"
    },
    {
     "data": {
      "text/html": [
       "<table id=\"table_localhost_6c434492f2fc376da6798d31351416a1\" style=\"border: 0px\"><tr style=\"border: 0px\">\n",
       "                        <td style=\"border: 0px\">\n",
       "                        <i id=\"status_localhost_6c434492f2fc376da6798d31351416a1\"\n",
       "                            class=\"fa fa-2x fa-fw fa-square-o\"\n",
       "                            onmouseover=\"$('#status_localhost_6c434492f2fc376da6798d31351416a1').addClass('fa-stop').removeClass('fa-square-o')\"\n",
       "                            onmouseleave=\"$('#status_localhost_6c434492f2fc376da6798d31351416a1').addClass('fa-square-o').removeClass('fa-stop')\"\n",
       "                            onclick=\"kill_task('6c434492f2fc376da6798d31351416a1', 'localhost')\"\n",
       "                        ></i> </td>\n",
       "                        <td style=\"border:0px\"><a onclick=\"task_info('6c434492f2fc376da6798d31351416a1', 'localhost')\"><pre>6c434492f2fc376da6798d31351416a1</pre></a></td>\n",
       "                        <td style=\"border:0px\">&nbsp;</td>\n",
       "                        <td style=\"border:0px;text-align=right;\">\n",
       "                        <pre><time id=\"duration_localhost_6c434492f2fc376da6798d31351416a1\" datetime=\"1503676288343.9531\">0 sec</time></pre></td>\n",
       "                        </tr>\n",
       "                        </table>"
      ]
     },
     "metadata": {},
     "output_type": "display_data"
    },
    {
     "data": {
      "text/html": [
       "<table id=\"table_localhost_09152d0de98f3df14b1d7f3ea6b0d3f3\" style=\"border: 0px\"><tr style=\"border: 0px\">\n",
       "                        <td style=\"border: 0px\">\n",
       "                        <i id=\"status_localhost_09152d0de98f3df14b1d7f3ea6b0d3f3\"\n",
       "                            class=\"fa fa-2x fa-fw fa-square-o\"\n",
       "                            onmouseover=\"$('#status_localhost_09152d0de98f3df14b1d7f3ea6b0d3f3').addClass('fa-stop').removeClass('fa-square-o')\"\n",
       "                            onmouseleave=\"$('#status_localhost_09152d0de98f3df14b1d7f3ea6b0d3f3').addClass('fa-square-o').removeClass('fa-stop')\"\n",
       "                            onclick=\"kill_task('09152d0de98f3df14b1d7f3ea6b0d3f3', 'localhost')\"\n",
       "                        ></i> </td>\n",
       "                        <td style=\"border:0px\"><a onclick=\"task_info('09152d0de98f3df14b1d7f3ea6b0d3f3', 'localhost')\"><pre>09152d0de98f3df14b1d7f3ea6b0d3f3</pre></a></td>\n",
       "                        <td style=\"border:0px\">&nbsp;</td>\n",
       "                        <td style=\"border:0px;text-align=right;\">\n",
       "                        <pre><time id=\"duration_localhost_09152d0de98f3df14b1d7f3ea6b0d3f3\" datetime=\"1503676288344.1938\">0 sec</time></pre></td>\n",
       "                        </tr>\n",
       "                        </table>"
      ]
     },
     "metadata": {},
     "output_type": "display_data"
    },
    {
     "data": {
      "text/html": [
       "<table id=\"table_localhost_b908b14d80a2edc59866be8806b07cc8\" style=\"border: 0px\"><tr style=\"border: 0px\">\n",
       "                        <td style=\"border: 0px\">\n",
       "                        <i id=\"status_localhost_b908b14d80a2edc59866be8806b07cc8\"\n",
       "                            class=\"fa fa-2x fa-fw fa-square-o\"\n",
       "                            onmouseover=\"$('#status_localhost_b908b14d80a2edc59866be8806b07cc8').addClass('fa-stop').removeClass('fa-square-o')\"\n",
       "                            onmouseleave=\"$('#status_localhost_b908b14d80a2edc59866be8806b07cc8').addClass('fa-square-o').removeClass('fa-stop')\"\n",
       "                            onclick=\"kill_task('b908b14d80a2edc59866be8806b07cc8', 'localhost')\"\n",
       "                        ></i> </td>\n",
       "                        <td style=\"border:0px\"><a onclick=\"task_info('b908b14d80a2edc59866be8806b07cc8', 'localhost')\"><pre>b908b14d80a2edc59866be8806b07cc8</pre></a></td>\n",
       "                        <td style=\"border:0px\">&nbsp;</td>\n",
       "                        <td style=\"border:0px;text-align=right;\">\n",
       "                        <pre><time id=\"duration_localhost_b908b14d80a2edc59866be8806b07cc8\" datetime=\"1503676288344.3945\">0 sec</time></pre></td>\n",
       "                        </tr>\n",
       "                        </table>"
      ]
     },
     "metadata": {},
     "output_type": "display_data"
    },
    {
     "data": {
      "text/html": [
       "<table id=\"table_localhost_bf9636eba0905d69c1feb0612ff1a4af\" style=\"border: 0px\"><tr style=\"border: 0px\">\n",
       "                        <td style=\"border: 0px\">\n",
       "                        <i id=\"status_localhost_bf9636eba0905d69c1feb0612ff1a4af\"\n",
       "                            class=\"fa fa-2x fa-fw fa-square-o\"\n",
       "                            onmouseover=\"$('#status_localhost_bf9636eba0905d69c1feb0612ff1a4af').addClass('fa-stop').removeClass('fa-square-o')\"\n",
       "                            onmouseleave=\"$('#status_localhost_bf9636eba0905d69c1feb0612ff1a4af').addClass('fa-square-o').removeClass('fa-stop')\"\n",
       "                            onclick=\"kill_task('bf9636eba0905d69c1feb0612ff1a4af', 'localhost')\"\n",
       "                        ></i> </td>\n",
       "                        <td style=\"border:0px\"><a onclick=\"task_info('bf9636eba0905d69c1feb0612ff1a4af', 'localhost')\"><pre>bf9636eba0905d69c1feb0612ff1a4af</pre></a></td>\n",
       "                        <td style=\"border:0px\">&nbsp;</td>\n",
       "                        <td style=\"border:0px;text-align=right;\">\n",
       "                        <pre><time id=\"duration_localhost_bf9636eba0905d69c1feb0612ff1a4af\" datetime=\"1503676288344.5635\">0 sec</time></pre></td>\n",
       "                        </tr>\n",
       "                        </table>"
      ]
     },
     "metadata": {},
     "output_type": "display_data"
    },
    {
     "data": {
      "text/html": [
       "<table id=\"table_localhost_1479da959719ac6f00da0b9d957386c4\" style=\"border: 0px\"><tr style=\"border: 0px\">\n",
       "                        <td style=\"border: 0px\">\n",
       "                        <i id=\"status_localhost_1479da959719ac6f00da0b9d957386c4\"\n",
       "                            class=\"fa fa-2x fa-fw fa-square-o\"\n",
       "                            onmouseover=\"$('#status_localhost_1479da959719ac6f00da0b9d957386c4').addClass('fa-stop').removeClass('fa-square-o')\"\n",
       "                            onmouseleave=\"$('#status_localhost_1479da959719ac6f00da0b9d957386c4').addClass('fa-square-o').removeClass('fa-stop')\"\n",
       "                            onclick=\"kill_task('1479da959719ac6f00da0b9d957386c4', 'localhost')\"\n",
       "                        ></i> </td>\n",
       "                        <td style=\"border:0px\"><a onclick=\"task_info('1479da959719ac6f00da0b9d957386c4', 'localhost')\"><pre>1479da959719ac6f00da0b9d957386c4</pre></a></td>\n",
       "                        <td style=\"border:0px\">&nbsp;</td>\n",
       "                        <td style=\"border:0px;text-align=right;\">\n",
       "                        <pre><time id=\"duration_localhost_1479da959719ac6f00da0b9d957386c4\" datetime=\"1503676288344.7285\">0 sec</time></pre></td>\n",
       "                        </tr>\n",
       "                        </table>"
      ]
     },
     "metadata": {},
     "output_type": "display_data"
    },
    {
     "data": {
      "text/html": [
       "<table id=\"table_localhost_ba873cd8214b05873ef943b2c6d72534\" style=\"border: 0px\"><tr style=\"border: 0px\">\n",
       "                        <td style=\"border: 0px\">\n",
       "                        <i id=\"status_localhost_ba873cd8214b05873ef943b2c6d72534\"\n",
       "                            class=\"fa fa-2x fa-fw fa-square-o\"\n",
       "                            onmouseover=\"$('#status_localhost_ba873cd8214b05873ef943b2c6d72534').addClass('fa-stop').removeClass('fa-square-o')\"\n",
       "                            onmouseleave=\"$('#status_localhost_ba873cd8214b05873ef943b2c6d72534').addClass('fa-square-o').removeClass('fa-stop')\"\n",
       "                            onclick=\"kill_task('ba873cd8214b05873ef943b2c6d72534', 'localhost')\"\n",
       "                        ></i> </td>\n",
       "                        <td style=\"border:0px\"><a onclick=\"task_info('ba873cd8214b05873ef943b2c6d72534', 'localhost')\"><pre>ba873cd8214b05873ef943b2c6d72534</pre></a></td>\n",
       "                        <td style=\"border:0px\">&nbsp;</td>\n",
       "                        <td style=\"border:0px;text-align=right;\">\n",
       "                        <pre><time id=\"duration_localhost_ba873cd8214b05873ef943b2c6d72534\" datetime=\"1503676288344.9084\">0 sec</time></pre></td>\n",
       "                        </tr>\n",
       "                        </table>"
      ]
     },
     "metadata": {},
     "output_type": "display_data"
    },
    {
     "data": {
      "text/html": [
       "<table id=\"table_localhost_4fdbb3a9e2cde277580394f9016ef279\" style=\"border: 0px\"><tr style=\"border: 0px\">\n",
       "                        <td style=\"border: 0px\">\n",
       "                        <i id=\"status_localhost_4fdbb3a9e2cde277580394f9016ef279\"\n",
       "                            class=\"fa fa-2x fa-fw fa-square-o\"\n",
       "                            onmouseover=\"$('#status_localhost_4fdbb3a9e2cde277580394f9016ef279').addClass('fa-stop').removeClass('fa-square-o')\"\n",
       "                            onmouseleave=\"$('#status_localhost_4fdbb3a9e2cde277580394f9016ef279').addClass('fa-square-o').removeClass('fa-stop')\"\n",
       "                            onclick=\"kill_task('4fdbb3a9e2cde277580394f9016ef279', 'localhost')\"\n",
       "                        ></i> </td>\n",
       "                        <td style=\"border:0px\"><a onclick=\"task_info('4fdbb3a9e2cde277580394f9016ef279', 'localhost')\"><pre>4fdbb3a9e2cde277580394f9016ef279</pre></a></td>\n",
       "                        <td style=\"border:0px\">&nbsp;</td>\n",
       "                        <td style=\"border:0px;text-align=right;\">\n",
       "                        <pre><time id=\"duration_localhost_4fdbb3a9e2cde277580394f9016ef279\" datetime=\"1503676288345.1416\">0 sec</time></pre></td>\n",
       "                        </tr>\n",
       "                        </table>"
      ]
     },
     "metadata": {},
     "output_type": "display_data"
    },
    {
     "data": {
      "text/html": [
       "<table id=\"table_localhost_d7e2ec491cf1f2ec9d1ed161a563d62f\" style=\"border: 0px\"><tr style=\"border: 0px\">\n",
       "                        <td style=\"border: 0px\">\n",
       "                        <i id=\"status_localhost_d7e2ec491cf1f2ec9d1ed161a563d62f\"\n",
       "                            class=\"fa fa-2x fa-fw fa-square-o\"\n",
       "                            onmouseover=\"$('#status_localhost_d7e2ec491cf1f2ec9d1ed161a563d62f').addClass('fa-stop').removeClass('fa-square-o')\"\n",
       "                            onmouseleave=\"$('#status_localhost_d7e2ec491cf1f2ec9d1ed161a563d62f').addClass('fa-square-o').removeClass('fa-stop')\"\n",
       "                            onclick=\"kill_task('d7e2ec491cf1f2ec9d1ed161a563d62f', 'localhost')\"\n",
       "                        ></i> </td>\n",
       "                        <td style=\"border:0px\"><a onclick=\"task_info('d7e2ec491cf1f2ec9d1ed161a563d62f', 'localhost')\"><pre>d7e2ec491cf1f2ec9d1ed161a563d62f</pre></a></td>\n",
       "                        <td style=\"border:0px\">&nbsp;</td>\n",
       "                        <td style=\"border:0px;text-align=right;\">\n",
       "                        <pre><time id=\"duration_localhost_d7e2ec491cf1f2ec9d1ed161a563d62f\" datetime=\"1503676288345.3533\">0 sec</time></pre></td>\n",
       "                        </tr>\n",
       "                        </table>"
      ]
     },
     "metadata": {},
     "output_type": "display_data"
    },
    {
     "data": {
      "text/html": [
       "<table id=\"table_localhost_c57dd9eb131b1090798fd5cab898e44d\" style=\"border: 0px\"><tr style=\"border: 0px\">\n",
       "                        <td style=\"border: 0px\">\n",
       "                        <i id=\"status_localhost_c57dd9eb131b1090798fd5cab898e44d\"\n",
       "                            class=\"fa fa-2x fa-fw fa-square-o\"\n",
       "                            onmouseover=\"$('#status_localhost_c57dd9eb131b1090798fd5cab898e44d').addClass('fa-stop').removeClass('fa-square-o')\"\n",
       "                            onmouseleave=\"$('#status_localhost_c57dd9eb131b1090798fd5cab898e44d').addClass('fa-square-o').removeClass('fa-stop')\"\n",
       "                            onclick=\"kill_task('c57dd9eb131b1090798fd5cab898e44d', 'localhost')\"\n",
       "                        ></i> </td>\n",
       "                        <td style=\"border:0px\"><a onclick=\"task_info('c57dd9eb131b1090798fd5cab898e44d', 'localhost')\"><pre>c57dd9eb131b1090798fd5cab898e44d</pre></a></td>\n",
       "                        <td style=\"border:0px\">&nbsp;</td>\n",
       "                        <td style=\"border:0px;text-align=right;\">\n",
       "                        <pre><time id=\"duration_localhost_c57dd9eb131b1090798fd5cab898e44d\" datetime=\"1503676288345.5366\">0 sec</time></pre></td>\n",
       "                        </tr>\n",
       "                        </table>"
      ]
     },
     "metadata": {},
     "output_type": "display_data"
    },
    {
     "data": {
      "text/html": [
       "<table id=\"table_localhost_aa5a30a007130d0e75c7228fe6b5a0dc\" style=\"border: 0px\"><tr style=\"border: 0px\">\n",
       "                        <td style=\"border: 0px\">\n",
       "                        <i id=\"status_localhost_aa5a30a007130d0e75c7228fe6b5a0dc\"\n",
       "                            class=\"fa fa-2x fa-fw fa-square-o\"\n",
       "                            onmouseover=\"$('#status_localhost_aa5a30a007130d0e75c7228fe6b5a0dc').addClass('fa-stop').removeClass('fa-square-o')\"\n",
       "                            onmouseleave=\"$('#status_localhost_aa5a30a007130d0e75c7228fe6b5a0dc').addClass('fa-square-o').removeClass('fa-stop')\"\n",
       "                            onclick=\"kill_task('aa5a30a007130d0e75c7228fe6b5a0dc', 'localhost')\"\n",
       "                        ></i> </td>\n",
       "                        <td style=\"border:0px\"><a onclick=\"task_info('aa5a30a007130d0e75c7228fe6b5a0dc', 'localhost')\"><pre>aa5a30a007130d0e75c7228fe6b5a0dc</pre></a></td>\n",
       "                        <td style=\"border:0px\">&nbsp;</td>\n",
       "                        <td style=\"border:0px;text-align=right;\">\n",
       "                        <pre><time id=\"duration_localhost_aa5a30a007130d0e75c7228fe6b5a0dc\" datetime=\"1503676288345.6992\">0 sec</time></pre></td>\n",
       "                        </tr>\n",
       "                        </table>"
      ]
     },
     "metadata": {},
     "output_type": "display_data"
    },
    {
     "data": {
      "text/html": [
       "<table id=\"table_localhost_d683ee4cfb1d498ae4478d6e139fc0c7\" style=\"border: 0px\"><tr style=\"border: 0px\">\n",
       "                        <td style=\"border: 0px\">\n",
       "                        <i id=\"status_localhost_d683ee4cfb1d498ae4478d6e139fc0c7\"\n",
       "                            class=\"fa fa-2x fa-fw fa-square-o\"\n",
       "                            onmouseover=\"$('#status_localhost_d683ee4cfb1d498ae4478d6e139fc0c7').addClass('fa-stop').removeClass('fa-square-o')\"\n",
       "                            onmouseleave=\"$('#status_localhost_d683ee4cfb1d498ae4478d6e139fc0c7').addClass('fa-square-o').removeClass('fa-stop')\"\n",
       "                            onclick=\"kill_task('d683ee4cfb1d498ae4478d6e139fc0c7', 'localhost')\"\n",
       "                        ></i> </td>\n",
       "                        <td style=\"border:0px\"><a onclick=\"task_info('d683ee4cfb1d498ae4478d6e139fc0c7', 'localhost')\"><pre>d683ee4cfb1d498ae4478d6e139fc0c7</pre></a></td>\n",
       "                        <td style=\"border:0px\">&nbsp;</td>\n",
       "                        <td style=\"border:0px;text-align=right;\">\n",
       "                        <pre><time id=\"duration_localhost_d683ee4cfb1d498ae4478d6e139fc0c7\" datetime=\"1503676288346.1472\">0 sec</time></pre></td>\n",
       "                        </tr>\n",
       "                        </table>"
      ]
     },
     "metadata": {},
     "output_type": "display_data"
    },
    {
     "data": {
      "text/html": [
       "<table id=\"table_localhost_723a4c6985a85c1bc9e5975b7be82dda\" style=\"border: 0px\"><tr style=\"border: 0px\">\n",
       "                        <td style=\"border: 0px\">\n",
       "                        <i id=\"status_localhost_723a4c6985a85c1bc9e5975b7be82dda\"\n",
       "                            class=\"fa fa-2x fa-fw fa-square-o\"\n",
       "                            onmouseover=\"$('#status_localhost_723a4c6985a85c1bc9e5975b7be82dda').addClass('fa-stop').removeClass('fa-square-o')\"\n",
       "                            onmouseleave=\"$('#status_localhost_723a4c6985a85c1bc9e5975b7be82dda').addClass('fa-square-o').removeClass('fa-stop')\"\n",
       "                            onclick=\"kill_task('723a4c6985a85c1bc9e5975b7be82dda', 'localhost')\"\n",
       "                        ></i> </td>\n",
       "                        <td style=\"border:0px\"><a onclick=\"task_info('723a4c6985a85c1bc9e5975b7be82dda', 'localhost')\"><pre>723a4c6985a85c1bc9e5975b7be82dda</pre></a></td>\n",
       "                        <td style=\"border:0px\">&nbsp;</td>\n",
       "                        <td style=\"border:0px;text-align=right;\">\n",
       "                        <pre><time id=\"duration_localhost_723a4c6985a85c1bc9e5975b7be82dda\" datetime=\"1503676288346.7434\">0 sec</time></pre></td>\n",
       "                        </tr>\n",
       "                        </table>"
      ]
     },
     "metadata": {},
     "output_type": "display_data"
    },
    {
     "data": {
      "text/html": [
       "<table id=\"table_localhost_f6c61ed5b9e970b085ea4ce69f41778e\" style=\"border: 0px\"><tr style=\"border: 0px\">\n",
       "                        <td style=\"border: 0px\">\n",
       "                        <i id=\"status_localhost_f6c61ed5b9e970b085ea4ce69f41778e\"\n",
       "                            class=\"fa fa-2x fa-fw fa-square-o\"\n",
       "                            onmouseover=\"$('#status_localhost_f6c61ed5b9e970b085ea4ce69f41778e').addClass('fa-stop').removeClass('fa-square-o')\"\n",
       "                            onmouseleave=\"$('#status_localhost_f6c61ed5b9e970b085ea4ce69f41778e').addClass('fa-square-o').removeClass('fa-stop')\"\n",
       "                            onclick=\"kill_task('f6c61ed5b9e970b085ea4ce69f41778e', 'localhost')\"\n",
       "                        ></i> </td>\n",
       "                        <td style=\"border:0px\"><a onclick=\"task_info('f6c61ed5b9e970b085ea4ce69f41778e', 'localhost')\"><pre>f6c61ed5b9e970b085ea4ce69f41778e</pre></a></td>\n",
       "                        <td style=\"border:0px\">&nbsp;</td>\n",
       "                        <td style=\"border:0px;text-align=right;\">\n",
       "                        <pre><time id=\"duration_localhost_f6c61ed5b9e970b085ea4ce69f41778e\" datetime=\"1503676288347.1018\">0 sec</time></pre></td>\n",
       "                        </tr>\n",
       "                        </table>"
      ]
     },
     "metadata": {},
     "output_type": "display_data"
    },
    {
     "data": {
      "text/html": [
       "<table id=\"table_localhost_13559e23a2a6989cabd20e6687b78441\" style=\"border: 0px\"><tr style=\"border: 0px\">\n",
       "                        <td style=\"border: 0px\">\n",
       "                        <i id=\"status_localhost_13559e23a2a6989cabd20e6687b78441\"\n",
       "                            class=\"fa fa-2x fa-fw fa-square-o\"\n",
       "                            onmouseover=\"$('#status_localhost_13559e23a2a6989cabd20e6687b78441').addClass('fa-stop').removeClass('fa-square-o')\"\n",
       "                            onmouseleave=\"$('#status_localhost_13559e23a2a6989cabd20e6687b78441').addClass('fa-square-o').removeClass('fa-stop')\"\n",
       "                            onclick=\"kill_task('13559e23a2a6989cabd20e6687b78441', 'localhost')\"\n",
       "                        ></i> </td>\n",
       "                        <td style=\"border:0px\"><a onclick=\"task_info('13559e23a2a6989cabd20e6687b78441', 'localhost')\"><pre>13559e23a2a6989cabd20e6687b78441</pre></a></td>\n",
       "                        <td style=\"border:0px\">&nbsp;</td>\n",
       "                        <td style=\"border:0px;text-align=right;\">\n",
       "                        <pre><time id=\"duration_localhost_13559e23a2a6989cabd20e6687b78441\" datetime=\"1503676288347.3667\">0 sec</time></pre></td>\n",
       "                        </tr>\n",
       "                        </table>"
      ]
     },
     "metadata": {},
     "output_type": "display_data"
    },
    {
     "data": {
      "text/html": [
       "<table id=\"table_localhost_bed579a5a84cce2a936a900b259561d5\" style=\"border: 0px\"><tr style=\"border: 0px\">\n",
       "                        <td style=\"border: 0px\">\n",
       "                        <i id=\"status_localhost_bed579a5a84cce2a936a900b259561d5\"\n",
       "                            class=\"fa fa-2x fa-fw fa-square-o\"\n",
       "                            onmouseover=\"$('#status_localhost_bed579a5a84cce2a936a900b259561d5').addClass('fa-stop').removeClass('fa-square-o')\"\n",
       "                            onmouseleave=\"$('#status_localhost_bed579a5a84cce2a936a900b259561d5').addClass('fa-square-o').removeClass('fa-stop')\"\n",
       "                            onclick=\"kill_task('bed579a5a84cce2a936a900b259561d5', 'localhost')\"\n",
       "                        ></i> </td>\n",
       "                        <td style=\"border:0px\"><a onclick=\"task_info('bed579a5a84cce2a936a900b259561d5', 'localhost')\"><pre>bed579a5a84cce2a936a900b259561d5</pre></a></td>\n",
       "                        <td style=\"border:0px\">&nbsp;</td>\n",
       "                        <td style=\"border:0px;text-align=right;\">\n",
       "                        <pre><time id=\"duration_localhost_bed579a5a84cce2a936a900b259561d5\" datetime=\"1503676288347.5674\">0 sec</time></pre></td>\n",
       "                        </tr>\n",
       "                        </table>"
      ]
     },
     "metadata": {},
     "output_type": "display_data"
    },
    {
     "data": {
      "text/html": [
       "<table id=\"table_localhost_5f609398d33269266f92277d0d068cb9\" style=\"border: 0px\"><tr style=\"border: 0px\">\n",
       "                        <td style=\"border: 0px\">\n",
       "                        <i id=\"status_localhost_5f609398d33269266f92277d0d068cb9\"\n",
       "                            class=\"fa fa-2x fa-fw fa-square-o\"\n",
       "                            onmouseover=\"$('#status_localhost_5f609398d33269266f92277d0d068cb9').addClass('fa-stop').removeClass('fa-square-o')\"\n",
       "                            onmouseleave=\"$('#status_localhost_5f609398d33269266f92277d0d068cb9').addClass('fa-square-o').removeClass('fa-stop')\"\n",
       "                            onclick=\"kill_task('5f609398d33269266f92277d0d068cb9', 'localhost')\"\n",
       "                        ></i> </td>\n",
       "                        <td style=\"border:0px\"><a onclick=\"task_info('5f609398d33269266f92277d0d068cb9', 'localhost')\"><pre>5f609398d33269266f92277d0d068cb9</pre></a></td>\n",
       "                        <td style=\"border:0px\">&nbsp;</td>\n",
       "                        <td style=\"border:0px;text-align=right;\">\n",
       "                        <pre><time id=\"duration_localhost_5f609398d33269266f92277d0d068cb9\" datetime=\"1503676288349.8704\">0 sec</time></pre></td>\n",
       "                        </tr>\n",
       "                        </table>"
      ]
     },
     "metadata": {},
     "output_type": "display_data"
    },
    {
     "data": {
      "text/html": [
       "<table id=\"table_localhost_ac63f5e735ebb81c2f6879e7be34ec3c\" style=\"border: 0px\"><tr style=\"border: 0px\">\n",
       "                        <td style=\"border: 0px\">\n",
       "                        <i id=\"status_localhost_ac63f5e735ebb81c2f6879e7be34ec3c\"\n",
       "                            class=\"fa fa-2x fa-fw fa-square-o\"\n",
       "                            onmouseover=\"$('#status_localhost_ac63f5e735ebb81c2f6879e7be34ec3c').addClass('fa-stop').removeClass('fa-square-o')\"\n",
       "                            onmouseleave=\"$('#status_localhost_ac63f5e735ebb81c2f6879e7be34ec3c').addClass('fa-square-o').removeClass('fa-stop')\"\n",
       "                            onclick=\"kill_task('ac63f5e735ebb81c2f6879e7be34ec3c', 'localhost')\"\n",
       "                        ></i> </td>\n",
       "                        <td style=\"border:0px\"><a onclick=\"task_info('ac63f5e735ebb81c2f6879e7be34ec3c', 'localhost')\"><pre>ac63f5e735ebb81c2f6879e7be34ec3c</pre></a></td>\n",
       "                        <td style=\"border:0px\">&nbsp;</td>\n",
       "                        <td style=\"border:0px;text-align=right;\">\n",
       "                        <pre><time id=\"duration_localhost_ac63f5e735ebb81c2f6879e7be34ec3c\" datetime=\"1503676288350.1995\">0 sec</time></pre></td>\n",
       "                        </tr>\n",
       "                        </table>"
      ]
     },
     "metadata": {},
     "output_type": "display_data"
    },
    {
     "data": {
      "text/html": [
       "<table id=\"table_localhost_15a42c242c9862e25df65d4f3e29949d\" style=\"border: 0px\"><tr style=\"border: 0px\">\n",
       "                        <td style=\"border: 0px\">\n",
       "                        <i id=\"status_localhost_15a42c242c9862e25df65d4f3e29949d\"\n",
       "                            class=\"fa fa-2x fa-fw fa-square-o\"\n",
       "                            onmouseover=\"$('#status_localhost_15a42c242c9862e25df65d4f3e29949d').addClass('fa-stop').removeClass('fa-square-o')\"\n",
       "                            onmouseleave=\"$('#status_localhost_15a42c242c9862e25df65d4f3e29949d').addClass('fa-square-o').removeClass('fa-stop')\"\n",
       "                            onclick=\"kill_task('15a42c242c9862e25df65d4f3e29949d', 'localhost')\"\n",
       "                        ></i> </td>\n",
       "                        <td style=\"border:0px\"><a onclick=\"task_info('15a42c242c9862e25df65d4f3e29949d', 'localhost')\"><pre>15a42c242c9862e25df65d4f3e29949d</pre></a></td>\n",
       "                        <td style=\"border:0px\">&nbsp;</td>\n",
       "                        <td style=\"border:0px;text-align=right;\">\n",
       "                        <pre><time id=\"duration_localhost_15a42c242c9862e25df65d4f3e29949d\" datetime=\"1503676288350.4219\">0 sec</time></pre></td>\n",
       "                        </tr>\n",
       "                        </table>"
      ]
     },
     "metadata": {},
     "output_type": "display_data"
    },
    {
     "data": {
      "text/html": [
       "<table id=\"table_localhost_986267c97adf8a87c8830e5aae0e1b75\" style=\"border: 0px\"><tr style=\"border: 0px\">\n",
       "                        <td style=\"border: 0px\">\n",
       "                        <i id=\"status_localhost_986267c97adf8a87c8830e5aae0e1b75\"\n",
       "                            class=\"fa fa-2x fa-fw fa-square-o\"\n",
       "                            onmouseover=\"$('#status_localhost_986267c97adf8a87c8830e5aae0e1b75').addClass('fa-stop').removeClass('fa-square-o')\"\n",
       "                            onmouseleave=\"$('#status_localhost_986267c97adf8a87c8830e5aae0e1b75').addClass('fa-square-o').removeClass('fa-stop')\"\n",
       "                            onclick=\"kill_task('986267c97adf8a87c8830e5aae0e1b75', 'localhost')\"\n",
       "                        ></i> </td>\n",
       "                        <td style=\"border:0px\"><a onclick=\"task_info('986267c97adf8a87c8830e5aae0e1b75', 'localhost')\"><pre>986267c97adf8a87c8830e5aae0e1b75</pre></a></td>\n",
       "                        <td style=\"border:0px\">&nbsp;</td>\n",
       "                        <td style=\"border:0px;text-align=right;\">\n",
       "                        <pre><time id=\"duration_localhost_986267c97adf8a87c8830e5aae0e1b75\" datetime=\"1503676288350.64\">0 sec</time></pre></td>\n",
       "                        </tr>\n",
       "                        </table>"
      ]
     },
     "metadata": {},
     "output_type": "display_data"
    },
    {
     "data": {
      "text/html": [
       "<table id=\"table_localhost_4538e8c843c47464eecb40aa4b6d56b0\" style=\"border: 0px\"><tr style=\"border: 0px\">\n",
       "                        <td style=\"border: 0px\">\n",
       "                        <i id=\"status_localhost_4538e8c843c47464eecb40aa4b6d56b0\"\n",
       "                            class=\"fa fa-2x fa-fw fa-square-o\"\n",
       "                            onmouseover=\"$('#status_localhost_4538e8c843c47464eecb40aa4b6d56b0').addClass('fa-stop').removeClass('fa-square-o')\"\n",
       "                            onmouseleave=\"$('#status_localhost_4538e8c843c47464eecb40aa4b6d56b0').addClass('fa-square-o').removeClass('fa-stop')\"\n",
       "                            onclick=\"kill_task('4538e8c843c47464eecb40aa4b6d56b0', 'localhost')\"\n",
       "                        ></i> </td>\n",
       "                        <td style=\"border:0px\"><a onclick=\"task_info('4538e8c843c47464eecb40aa4b6d56b0', 'localhost')\"><pre>4538e8c843c47464eecb40aa4b6d56b0</pre></a></td>\n",
       "                        <td style=\"border:0px\">&nbsp;</td>\n",
       "                        <td style=\"border:0px;text-align=right;\">\n",
       "                        <pre><time id=\"duration_localhost_4538e8c843c47464eecb40aa4b6d56b0\" datetime=\"1503676288350.8254\">0 sec</time></pre></td>\n",
       "                        </tr>\n",
       "                        </table>"
      ]
     },
     "metadata": {},
     "output_type": "display_data"
    },
    {
     "data": {
      "text/html": [
       "<table id=\"table_localhost_dcaa2cf03750778753e3908185a20333\" style=\"border: 0px\"><tr style=\"border: 0px\">\n",
       "                        <td style=\"border: 0px\">\n",
       "                        <i id=\"status_localhost_dcaa2cf03750778753e3908185a20333\"\n",
       "                            class=\"fa fa-2x fa-fw fa-square-o\"\n",
       "                            onmouseover=\"$('#status_localhost_dcaa2cf03750778753e3908185a20333').addClass('fa-stop').removeClass('fa-square-o')\"\n",
       "                            onmouseleave=\"$('#status_localhost_dcaa2cf03750778753e3908185a20333').addClass('fa-square-o').removeClass('fa-stop')\"\n",
       "                            onclick=\"kill_task('dcaa2cf03750778753e3908185a20333', 'localhost')\"\n",
       "                        ></i> </td>\n",
       "                        <td style=\"border:0px\"><a onclick=\"task_info('dcaa2cf03750778753e3908185a20333', 'localhost')\"><pre>dcaa2cf03750778753e3908185a20333</pre></a></td>\n",
       "                        <td style=\"border:0px\">&nbsp;</td>\n",
       "                        <td style=\"border:0px;text-align=right;\">\n",
       "                        <pre><time id=\"duration_localhost_dcaa2cf03750778753e3908185a20333\" datetime=\"1503676288351.0183\">0 sec</time></pre></td>\n",
       "                        </tr>\n",
       "                        </table>"
      ]
     },
     "metadata": {},
     "output_type": "display_data"
    },
    {
     "data": {
      "text/html": [
       "<table id=\"table_localhost_5b696ed83b9b2da2986dc0e85e0f5649\" style=\"border: 0px\"><tr style=\"border: 0px\">\n",
       "                        <td style=\"border: 0px\">\n",
       "                        <i id=\"status_localhost_5b696ed83b9b2da2986dc0e85e0f5649\"\n",
       "                            class=\"fa fa-2x fa-fw fa-square-o\"\n",
       "                            onmouseover=\"$('#status_localhost_5b696ed83b9b2da2986dc0e85e0f5649').addClass('fa-stop').removeClass('fa-square-o')\"\n",
       "                            onmouseleave=\"$('#status_localhost_5b696ed83b9b2da2986dc0e85e0f5649').addClass('fa-square-o').removeClass('fa-stop')\"\n",
       "                            onclick=\"kill_task('5b696ed83b9b2da2986dc0e85e0f5649', 'localhost')\"\n",
       "                        ></i> </td>\n",
       "                        <td style=\"border:0px\"><a onclick=\"task_info('5b696ed83b9b2da2986dc0e85e0f5649', 'localhost')\"><pre>5b696ed83b9b2da2986dc0e85e0f5649</pre></a></td>\n",
       "                        <td style=\"border:0px\">&nbsp;</td>\n",
       "                        <td style=\"border:0px;text-align=right;\">\n",
       "                        <pre><time id=\"duration_localhost_5b696ed83b9b2da2986dc0e85e0f5649\" datetime=\"1503676288351.247\">0 sec</time></pre></td>\n",
       "                        </tr>\n",
       "                        </table>"
      ]
     },
     "metadata": {},
     "output_type": "display_data"
    },
    {
     "data": {
      "text/html": [
       "<table id=\"table_localhost_708f726bb855be617e016e6bd979707a\" style=\"border: 0px\"><tr style=\"border: 0px\">\n",
       "                        <td style=\"border: 0px\">\n",
       "                        <i id=\"status_localhost_708f726bb855be617e016e6bd979707a\"\n",
       "                            class=\"fa fa-2x fa-fw fa-square-o\"\n",
       "                            onmouseover=\"$('#status_localhost_708f726bb855be617e016e6bd979707a').addClass('fa-stop').removeClass('fa-square-o')\"\n",
       "                            onmouseleave=\"$('#status_localhost_708f726bb855be617e016e6bd979707a').addClass('fa-square-o').removeClass('fa-stop')\"\n",
       "                            onclick=\"kill_task('708f726bb855be617e016e6bd979707a', 'localhost')\"\n",
       "                        ></i> </td>\n",
       "                        <td style=\"border:0px\"><a onclick=\"task_info('708f726bb855be617e016e6bd979707a', 'localhost')\"><pre>708f726bb855be617e016e6bd979707a</pre></a></td>\n",
       "                        <td style=\"border:0px\">&nbsp;</td>\n",
       "                        <td style=\"border:0px;text-align=right;\">\n",
       "                        <pre><time id=\"duration_localhost_708f726bb855be617e016e6bd979707a\" datetime=\"1503676288351.688\">0 sec</time></pre></td>\n",
       "                        </tr>\n",
       "                        </table>"
      ]
     },
     "metadata": {},
     "output_type": "display_data"
    },
    {
     "data": {
      "text/html": [
       "<table id=\"table_localhost_d442c78bf67b8ac5b362fa657b8cbf20\" style=\"border: 0px\"><tr style=\"border: 0px\">\n",
       "                        <td style=\"border: 0px\">\n",
       "                        <i id=\"status_localhost_d442c78bf67b8ac5b362fa657b8cbf20\"\n",
       "                            class=\"fa fa-2x fa-fw fa-square-o\"\n",
       "                            onmouseover=\"$('#status_localhost_d442c78bf67b8ac5b362fa657b8cbf20').addClass('fa-stop').removeClass('fa-square-o')\"\n",
       "                            onmouseleave=\"$('#status_localhost_d442c78bf67b8ac5b362fa657b8cbf20').addClass('fa-square-o').removeClass('fa-stop')\"\n",
       "                            onclick=\"kill_task('d442c78bf67b8ac5b362fa657b8cbf20', 'localhost')\"\n",
       "                        ></i> </td>\n",
       "                        <td style=\"border:0px\"><a onclick=\"task_info('d442c78bf67b8ac5b362fa657b8cbf20', 'localhost')\"><pre>d442c78bf67b8ac5b362fa657b8cbf20</pre></a></td>\n",
       "                        <td style=\"border:0px\">&nbsp;</td>\n",
       "                        <td style=\"border:0px;text-align=right;\">\n",
       "                        <pre><time id=\"duration_localhost_d442c78bf67b8ac5b362fa657b8cbf20\" datetime=\"1503676288352.064\">0 sec</time></pre></td>\n",
       "                        </tr>\n",
       "                        </table>"
      ]
     },
     "metadata": {},
     "output_type": "display_data"
    },
    {
     "data": {
      "text/html": [
       "<table id=\"table_localhost_a1165c78aeb5b81297a43f5dc039767b\" style=\"border: 0px\"><tr style=\"border: 0px\">\n",
       "                        <td style=\"border: 0px\">\n",
       "                        <i id=\"status_localhost_a1165c78aeb5b81297a43f5dc039767b\"\n",
       "                            class=\"fa fa-2x fa-fw fa-square-o\"\n",
       "                            onmouseover=\"$('#status_localhost_a1165c78aeb5b81297a43f5dc039767b').addClass('fa-stop').removeClass('fa-square-o')\"\n",
       "                            onmouseleave=\"$('#status_localhost_a1165c78aeb5b81297a43f5dc039767b').addClass('fa-square-o').removeClass('fa-stop')\"\n",
       "                            onclick=\"kill_task('a1165c78aeb5b81297a43f5dc039767b', 'localhost')\"\n",
       "                        ></i> </td>\n",
       "                        <td style=\"border:0px\"><a onclick=\"task_info('a1165c78aeb5b81297a43f5dc039767b', 'localhost')\"><pre>a1165c78aeb5b81297a43f5dc039767b</pre></a></td>\n",
       "                        <td style=\"border:0px\">&nbsp;</td>\n",
       "                        <td style=\"border:0px;text-align=right;\">\n",
       "                        <pre><time id=\"duration_localhost_a1165c78aeb5b81297a43f5dc039767b\" datetime=\"1503676288352.3088\">0 sec</time></pre></td>\n",
       "                        </tr>\n",
       "                        </table>"
      ]
     },
     "metadata": {},
     "output_type": "display_data"
    },
    {
     "data": {
      "text/html": [
       "<table id=\"table_localhost_13bc27aa216fc92377dae16970b8e0c4\" style=\"border: 0px\"><tr style=\"border: 0px\">\n",
       "                        <td style=\"border: 0px\">\n",
       "                        <i id=\"status_localhost_13bc27aa216fc92377dae16970b8e0c4\"\n",
       "                            class=\"fa fa-2x fa-fw fa-square-o\"\n",
       "                            onmouseover=\"$('#status_localhost_13bc27aa216fc92377dae16970b8e0c4').addClass('fa-stop').removeClass('fa-square-o')\"\n",
       "                            onmouseleave=\"$('#status_localhost_13bc27aa216fc92377dae16970b8e0c4').addClass('fa-square-o').removeClass('fa-stop')\"\n",
       "                            onclick=\"kill_task('13bc27aa216fc92377dae16970b8e0c4', 'localhost')\"\n",
       "                        ></i> </td>\n",
       "                        <td style=\"border:0px\"><a onclick=\"task_info('13bc27aa216fc92377dae16970b8e0c4', 'localhost')\"><pre>13bc27aa216fc92377dae16970b8e0c4</pre></a></td>\n",
       "                        <td style=\"border:0px\">&nbsp;</td>\n",
       "                        <td style=\"border:0px;text-align=right;\">\n",
       "                        <pre><time id=\"duration_localhost_13bc27aa216fc92377dae16970b8e0c4\" datetime=\"1503676288352.5312\">0 sec</time></pre></td>\n",
       "                        </tr>\n",
       "                        </table>"
      ]
     },
     "metadata": {},
     "output_type": "display_data"
    },
    {
     "data": {
      "text/html": [
       "<table id=\"table_localhost_2dfc1c4fbcf5f78770a8bb0f54becf72\" style=\"border: 0px\"><tr style=\"border: 0px\">\n",
       "                        <td style=\"border: 0px\">\n",
       "                        <i id=\"status_localhost_2dfc1c4fbcf5f78770a8bb0f54becf72\"\n",
       "                            class=\"fa fa-2x fa-fw fa-square-o\"\n",
       "                            onmouseover=\"$('#status_localhost_2dfc1c4fbcf5f78770a8bb0f54becf72').addClass('fa-stop').removeClass('fa-square-o')\"\n",
       "                            onmouseleave=\"$('#status_localhost_2dfc1c4fbcf5f78770a8bb0f54becf72').addClass('fa-square-o').removeClass('fa-stop')\"\n",
       "                            onclick=\"kill_task('2dfc1c4fbcf5f78770a8bb0f54becf72', 'localhost')\"\n",
       "                        ></i> </td>\n",
       "                        <td style=\"border:0px\"><a onclick=\"task_info('2dfc1c4fbcf5f78770a8bb0f54becf72', 'localhost')\"><pre>2dfc1c4fbcf5f78770a8bb0f54becf72</pre></a></td>\n",
       "                        <td style=\"border:0px\">&nbsp;</td>\n",
       "                        <td style=\"border:0px;text-align=right;\">\n",
       "                        <pre><time id=\"duration_localhost_2dfc1c4fbcf5f78770a8bb0f54becf72\" datetime=\"1503676288352.8018\">0 sec</time></pre></td>\n",
       "                        </tr>\n",
       "                        </table>"
      ]
     },
     "metadata": {},
     "output_type": "display_data"
    },
    {
     "data": {
      "text/html": [
       "<table id=\"table_localhost_34331c504b660e4d811d490c8822158d\" style=\"border: 0px\"><tr style=\"border: 0px\">\n",
       "                        <td style=\"border: 0px\">\n",
       "                        <i id=\"status_localhost_34331c504b660e4d811d490c8822158d\"\n",
       "                            class=\"fa fa-2x fa-fw fa-square-o\"\n",
       "                            onmouseover=\"$('#status_localhost_34331c504b660e4d811d490c8822158d').addClass('fa-stop').removeClass('fa-square-o')\"\n",
       "                            onmouseleave=\"$('#status_localhost_34331c504b660e4d811d490c8822158d').addClass('fa-square-o').removeClass('fa-stop')\"\n",
       "                            onclick=\"kill_task('34331c504b660e4d811d490c8822158d', 'localhost')\"\n",
       "                        ></i> </td>\n",
       "                        <td style=\"border:0px\"><a onclick=\"task_info('34331c504b660e4d811d490c8822158d', 'localhost')\"><pre>34331c504b660e4d811d490c8822158d</pre></a></td>\n",
       "                        <td style=\"border:0px\">&nbsp;</td>\n",
       "                        <td style=\"border:0px;text-align=right;\">\n",
       "                        <pre><time id=\"duration_localhost_34331c504b660e4d811d490c8822158d\" datetime=\"1503676288353.0586\">0 sec</time></pre></td>\n",
       "                        </tr>\n",
       "                        </table>"
      ]
     },
     "metadata": {},
     "output_type": "display_data"
    },
    {
     "data": {
      "text/html": [
       "<table id=\"table_localhost_755b7538271844e05bf9626a8f87c3e2\" style=\"border: 0px\"><tr style=\"border: 0px\">\n",
       "                        <td style=\"border: 0px\">\n",
       "                        <i id=\"status_localhost_755b7538271844e05bf9626a8f87c3e2\"\n",
       "                            class=\"fa fa-2x fa-fw fa-square-o\"\n",
       "                            onmouseover=\"$('#status_localhost_755b7538271844e05bf9626a8f87c3e2').addClass('fa-stop').removeClass('fa-square-o')\"\n",
       "                            onmouseleave=\"$('#status_localhost_755b7538271844e05bf9626a8f87c3e2').addClass('fa-square-o').removeClass('fa-stop')\"\n",
       "                            onclick=\"kill_task('755b7538271844e05bf9626a8f87c3e2', 'localhost')\"\n",
       "                        ></i> </td>\n",
       "                        <td style=\"border:0px\"><a onclick=\"task_info('755b7538271844e05bf9626a8f87c3e2', 'localhost')\"><pre>755b7538271844e05bf9626a8f87c3e2</pre></a></td>\n",
       "                        <td style=\"border:0px\">&nbsp;</td>\n",
       "                        <td style=\"border:0px;text-align=right;\">\n",
       "                        <pre><time id=\"duration_localhost_755b7538271844e05bf9626a8f87c3e2\" datetime=\"1503676288353.337\">0 sec</time></pre></td>\n",
       "                        </tr>\n",
       "                        </table>"
      ]
     },
     "metadata": {},
     "output_type": "display_data"
    },
    {
     "data": {
      "text/html": [
       "<table id=\"table_localhost_037eab568919915d3d67bc973ff0dfb4\" style=\"border: 0px\"><tr style=\"border: 0px\">\n",
       "                        <td style=\"border: 0px\">\n",
       "                        <i id=\"status_localhost_037eab568919915d3d67bc973ff0dfb4\"\n",
       "                            class=\"fa fa-2x fa-fw fa-square-o\"\n",
       "                            onmouseover=\"$('#status_localhost_037eab568919915d3d67bc973ff0dfb4').addClass('fa-stop').removeClass('fa-square-o')\"\n",
       "                            onmouseleave=\"$('#status_localhost_037eab568919915d3d67bc973ff0dfb4').addClass('fa-square-o').removeClass('fa-stop')\"\n",
       "                            onclick=\"kill_task('037eab568919915d3d67bc973ff0dfb4', 'localhost')\"\n",
       "                        ></i> </td>\n",
       "                        <td style=\"border:0px\"><a onclick=\"task_info('037eab568919915d3d67bc973ff0dfb4', 'localhost')\"><pre>037eab568919915d3d67bc973ff0dfb4</pre></a></td>\n",
       "                        <td style=\"border:0px\">&nbsp;</td>\n",
       "                        <td style=\"border:0px;text-align=right;\">\n",
       "                        <pre><time id=\"duration_localhost_037eab568919915d3d67bc973ff0dfb4\" datetime=\"1503676288353.6833\">0 sec</time></pre></td>\n",
       "                        </tr>\n",
       "                        </table>"
      ]
     },
     "metadata": {},
     "output_type": "display_data"
    },
    {
     "data": {
      "text/html": [
       "<table id=\"table_localhost_e43b9828769bf7a78a9a6041e5ad579d\" style=\"border: 0px\"><tr style=\"border: 0px\">\n",
       "                        <td style=\"border: 0px\">\n",
       "                        <i id=\"status_localhost_e43b9828769bf7a78a9a6041e5ad579d\"\n",
       "                            class=\"fa fa-2x fa-fw fa-square-o\"\n",
       "                            onmouseover=\"$('#status_localhost_e43b9828769bf7a78a9a6041e5ad579d').addClass('fa-stop').removeClass('fa-square-o')\"\n",
       "                            onmouseleave=\"$('#status_localhost_e43b9828769bf7a78a9a6041e5ad579d').addClass('fa-square-o').removeClass('fa-stop')\"\n",
       "                            onclick=\"kill_task('e43b9828769bf7a78a9a6041e5ad579d', 'localhost')\"\n",
       "                        ></i> </td>\n",
       "                        <td style=\"border:0px\"><a onclick=\"task_info('e43b9828769bf7a78a9a6041e5ad579d', 'localhost')\"><pre>e43b9828769bf7a78a9a6041e5ad579d</pre></a></td>\n",
       "                        <td style=\"border:0px\">&nbsp;</td>\n",
       "                        <td style=\"border:0px;text-align=right;\">\n",
       "                        <pre><time id=\"duration_localhost_e43b9828769bf7a78a9a6041e5ad579d\" datetime=\"1503676288355.8623\">0 sec</time></pre></td>\n",
       "                        </tr>\n",
       "                        </table>"
      ]
     },
     "metadata": {},
     "output_type": "display_data"
    },
    {
     "data": {
      "text/html": [
       "<table id=\"table_localhost_f3aedb5ea6f0f6b042884c8669743032\" style=\"border: 0px\"><tr style=\"border: 0px\">\n",
       "                        <td style=\"border: 0px\">\n",
       "                        <i id=\"status_localhost_f3aedb5ea6f0f6b042884c8669743032\"\n",
       "                            class=\"fa fa-2x fa-fw fa-square-o\"\n",
       "                            onmouseover=\"$('#status_localhost_f3aedb5ea6f0f6b042884c8669743032').addClass('fa-stop').removeClass('fa-square-o')\"\n",
       "                            onmouseleave=\"$('#status_localhost_f3aedb5ea6f0f6b042884c8669743032').addClass('fa-square-o').removeClass('fa-stop')\"\n",
       "                            onclick=\"kill_task('f3aedb5ea6f0f6b042884c8669743032', 'localhost')\"\n",
       "                        ></i> </td>\n",
       "                        <td style=\"border:0px\"><a onclick=\"task_info('f3aedb5ea6f0f6b042884c8669743032', 'localhost')\"><pre>f3aedb5ea6f0f6b042884c8669743032</pre></a></td>\n",
       "                        <td style=\"border:0px\">&nbsp;</td>\n",
       "                        <td style=\"border:0px;text-align=right;\">\n",
       "                        <pre><time id=\"duration_localhost_f3aedb5ea6f0f6b042884c8669743032\" datetime=\"1503676288356.1218\">0 sec</time></pre></td>\n",
       "                        </tr>\n",
       "                        </table>"
      ]
     },
     "metadata": {},
     "output_type": "display_data"
    },
    {
     "data": {
      "text/html": [
       "<table id=\"table_localhost_4d03ab401ba9a071122ab46e00ce7992\" style=\"border: 0px\"><tr style=\"border: 0px\">\n",
       "                        <td style=\"border: 0px\">\n",
       "                        <i id=\"status_localhost_4d03ab401ba9a071122ab46e00ce7992\"\n",
       "                            class=\"fa fa-2x fa-fw fa-square-o\"\n",
       "                            onmouseover=\"$('#status_localhost_4d03ab401ba9a071122ab46e00ce7992').addClass('fa-stop').removeClass('fa-square-o')\"\n",
       "                            onmouseleave=\"$('#status_localhost_4d03ab401ba9a071122ab46e00ce7992').addClass('fa-square-o').removeClass('fa-stop')\"\n",
       "                            onclick=\"kill_task('4d03ab401ba9a071122ab46e00ce7992', 'localhost')\"\n",
       "                        ></i> </td>\n",
       "                        <td style=\"border:0px\"><a onclick=\"task_info('4d03ab401ba9a071122ab46e00ce7992', 'localhost')\"><pre>4d03ab401ba9a071122ab46e00ce7992</pre></a></td>\n",
       "                        <td style=\"border:0px\">&nbsp;</td>\n",
       "                        <td style=\"border:0px;text-align=right;\">\n",
       "                        <pre><time id=\"duration_localhost_4d03ab401ba9a071122ab46e00ce7992\" datetime=\"1503676288356.3772\">0 sec</time></pre></td>\n",
       "                        </tr>\n",
       "                        </table>"
      ]
     },
     "metadata": {},
     "output_type": "display_data"
    },
    {
     "data": {
      "text/html": [
       "<table id=\"table_localhost_ebeb0c740632500adddb4e32da4d4757\" style=\"border: 0px\"><tr style=\"border: 0px\">\n",
       "                        <td style=\"border: 0px\">\n",
       "                        <i id=\"status_localhost_ebeb0c740632500adddb4e32da4d4757\"\n",
       "                            class=\"fa fa-2x fa-fw fa-square-o\"\n",
       "                            onmouseover=\"$('#status_localhost_ebeb0c740632500adddb4e32da4d4757').addClass('fa-stop').removeClass('fa-square-o')\"\n",
       "                            onmouseleave=\"$('#status_localhost_ebeb0c740632500adddb4e32da4d4757').addClass('fa-square-o').removeClass('fa-stop')\"\n",
       "                            onclick=\"kill_task('ebeb0c740632500adddb4e32da4d4757', 'localhost')\"\n",
       "                        ></i> </td>\n",
       "                        <td style=\"border:0px\"><a onclick=\"task_info('ebeb0c740632500adddb4e32da4d4757', 'localhost')\"><pre>ebeb0c740632500adddb4e32da4d4757</pre></a></td>\n",
       "                        <td style=\"border:0px\">&nbsp;</td>\n",
       "                        <td style=\"border:0px;text-align=right;\">\n",
       "                        <pre><time id=\"duration_localhost_ebeb0c740632500adddb4e32da4d4757\" datetime=\"1503676288356.9487\">0 sec</time></pre></td>\n",
       "                        </tr>\n",
       "                        </table>"
      ]
     },
     "metadata": {},
     "output_type": "display_data"
    },
    {
     "data": {
      "text/html": [
       "<table id=\"table_localhost_b217612c7709e7019e2f8410d865a2da\" style=\"border: 0px\"><tr style=\"border: 0px\">\n",
       "                        <td style=\"border: 0px\">\n",
       "                        <i id=\"status_localhost_b217612c7709e7019e2f8410d865a2da\"\n",
       "                            class=\"fa fa-2x fa-fw fa-square-o\"\n",
       "                            onmouseover=\"$('#status_localhost_b217612c7709e7019e2f8410d865a2da').addClass('fa-stop').removeClass('fa-square-o')\"\n",
       "                            onmouseleave=\"$('#status_localhost_b217612c7709e7019e2f8410d865a2da').addClass('fa-square-o').removeClass('fa-stop')\"\n",
       "                            onclick=\"kill_task('b217612c7709e7019e2f8410d865a2da', 'localhost')\"\n",
       "                        ></i> </td>\n",
       "                        <td style=\"border:0px\"><a onclick=\"task_info('b217612c7709e7019e2f8410d865a2da', 'localhost')\"><pre>b217612c7709e7019e2f8410d865a2da</pre></a></td>\n",
       "                        <td style=\"border:0px\">&nbsp;</td>\n",
       "                        <td style=\"border:0px;text-align=right;\">\n",
       "                        <pre><time id=\"duration_localhost_b217612c7709e7019e2f8410d865a2da\" datetime=\"1503676288357.6416\">0 sec</time></pre></td>\n",
       "                        </tr>\n",
       "                        </table>"
      ]
     },
     "metadata": {},
     "output_type": "display_data"
    },
    {
     "data": {
      "text/html": [
       "<table id=\"table_localhost_6487cf789dba5716efb73f142dcb9353\" style=\"border: 0px\"><tr style=\"border: 0px\">\n",
       "                        <td style=\"border: 0px\">\n",
       "                        <i id=\"status_localhost_6487cf789dba5716efb73f142dcb9353\"\n",
       "                            class=\"fa fa-2x fa-fw fa-square-o\"\n",
       "                            onmouseover=\"$('#status_localhost_6487cf789dba5716efb73f142dcb9353').addClass('fa-stop').removeClass('fa-square-o')\"\n",
       "                            onmouseleave=\"$('#status_localhost_6487cf789dba5716efb73f142dcb9353').addClass('fa-square-o').removeClass('fa-stop')\"\n",
       "                            onclick=\"kill_task('6487cf789dba5716efb73f142dcb9353', 'localhost')\"\n",
       "                        ></i> </td>\n",
       "                        <td style=\"border:0px\"><a onclick=\"task_info('6487cf789dba5716efb73f142dcb9353', 'localhost')\"><pre>6487cf789dba5716efb73f142dcb9353</pre></a></td>\n",
       "                        <td style=\"border:0px\">&nbsp;</td>\n",
       "                        <td style=\"border:0px;text-align=right;\">\n",
       "                        <pre><time id=\"duration_localhost_6487cf789dba5716efb73f142dcb9353\" datetime=\"1503676288358.0098\">0 sec</time></pre></td>\n",
       "                        </tr>\n",
       "                        </table>"
      ]
     },
     "metadata": {},
     "output_type": "display_data"
    },
    {
     "data": {
      "text/html": [
       "<table id=\"table_localhost_9d572f496874d7a9c68497b7c02b068d\" style=\"border: 0px\"><tr style=\"border: 0px\">\n",
       "                        <td style=\"border: 0px\">\n",
       "                        <i id=\"status_localhost_9d572f496874d7a9c68497b7c02b068d\"\n",
       "                            class=\"fa fa-2x fa-fw fa-square-o\"\n",
       "                            onmouseover=\"$('#status_localhost_9d572f496874d7a9c68497b7c02b068d').addClass('fa-stop').removeClass('fa-square-o')\"\n",
       "                            onmouseleave=\"$('#status_localhost_9d572f496874d7a9c68497b7c02b068d').addClass('fa-square-o').removeClass('fa-stop')\"\n",
       "                            onclick=\"kill_task('9d572f496874d7a9c68497b7c02b068d', 'localhost')\"\n",
       "                        ></i> </td>\n",
       "                        <td style=\"border:0px\"><a onclick=\"task_info('9d572f496874d7a9c68497b7c02b068d', 'localhost')\"><pre>9d572f496874d7a9c68497b7c02b068d</pre></a></td>\n",
       "                        <td style=\"border:0px\">&nbsp;</td>\n",
       "                        <td style=\"border:0px;text-align=right;\">\n",
       "                        <pre><time id=\"duration_localhost_9d572f496874d7a9c68497b7c02b068d\" datetime=\"1503676288358.2244\">0 sec</time></pre></td>\n",
       "                        </tr>\n",
       "                        </table>"
      ]
     },
     "metadata": {},
     "output_type": "display_data"
    },
    {
     "data": {
      "text/html": [
       "<table id=\"table_localhost_7b2ffe9ae131eecd9373e3a4bc9b9873\" style=\"border: 0px\"><tr style=\"border: 0px\">\n",
       "                        <td style=\"border: 0px\">\n",
       "                        <i id=\"status_localhost_7b2ffe9ae131eecd9373e3a4bc9b9873\"\n",
       "                            class=\"fa fa-2x fa-fw fa-square-o\"\n",
       "                            onmouseover=\"$('#status_localhost_7b2ffe9ae131eecd9373e3a4bc9b9873').addClass('fa-stop').removeClass('fa-square-o')\"\n",
       "                            onmouseleave=\"$('#status_localhost_7b2ffe9ae131eecd9373e3a4bc9b9873').addClass('fa-square-o').removeClass('fa-stop')\"\n",
       "                            onclick=\"kill_task('7b2ffe9ae131eecd9373e3a4bc9b9873', 'localhost')\"\n",
       "                        ></i> </td>\n",
       "                        <td style=\"border:0px\"><a onclick=\"task_info('7b2ffe9ae131eecd9373e3a4bc9b9873', 'localhost')\"><pre>7b2ffe9ae131eecd9373e3a4bc9b9873</pre></a></td>\n",
       "                        <td style=\"border:0px\">&nbsp;</td>\n",
       "                        <td style=\"border:0px;text-align=right;\">\n",
       "                        <pre><time id=\"duration_localhost_7b2ffe9ae131eecd9373e3a4bc9b9873\" datetime=\"1503676288358.4292\">0 sec</time></pre></td>\n",
       "                        </tr>\n",
       "                        </table>"
      ]
     },
     "metadata": {},
     "output_type": "display_data"
    },
    {
     "data": {
      "text/html": [
       "<table id=\"table_localhost_f412499f1c67e93cc68139a251e08f38\" style=\"border: 0px\"><tr style=\"border: 0px\">\n",
       "                        <td style=\"border: 0px\">\n",
       "                        <i id=\"status_localhost_f412499f1c67e93cc68139a251e08f38\"\n",
       "                            class=\"fa fa-2x fa-fw fa-square-o\"\n",
       "                            onmouseover=\"$('#status_localhost_f412499f1c67e93cc68139a251e08f38').addClass('fa-stop').removeClass('fa-square-o')\"\n",
       "                            onmouseleave=\"$('#status_localhost_f412499f1c67e93cc68139a251e08f38').addClass('fa-square-o').removeClass('fa-stop')\"\n",
       "                            onclick=\"kill_task('f412499f1c67e93cc68139a251e08f38', 'localhost')\"\n",
       "                        ></i> </td>\n",
       "                        <td style=\"border:0px\"><a onclick=\"task_info('f412499f1c67e93cc68139a251e08f38', 'localhost')\"><pre>f412499f1c67e93cc68139a251e08f38</pre></a></td>\n",
       "                        <td style=\"border:0px\">&nbsp;</td>\n",
       "                        <td style=\"border:0px;text-align=right;\">\n",
       "                        <pre><time id=\"duration_localhost_f412499f1c67e93cc68139a251e08f38\" datetime=\"1503676288358.6958\">0 sec</time></pre></td>\n",
       "                        </tr>\n",
       "                        </table>"
      ]
     },
     "metadata": {},
     "output_type": "display_data"
    },
    {
     "data": {
      "text/html": [
       "<table id=\"table_localhost_66913b1ecbd93706f296d36f47da7919\" style=\"border: 0px\"><tr style=\"border: 0px\">\n",
       "                        <td style=\"border: 0px\">\n",
       "                        <i id=\"status_localhost_66913b1ecbd93706f296d36f47da7919\"\n",
       "                            class=\"fa fa-2x fa-fw fa-square-o\"\n",
       "                            onmouseover=\"$('#status_localhost_66913b1ecbd93706f296d36f47da7919').addClass('fa-stop').removeClass('fa-square-o')\"\n",
       "                            onmouseleave=\"$('#status_localhost_66913b1ecbd93706f296d36f47da7919').addClass('fa-square-o').removeClass('fa-stop')\"\n",
       "                            onclick=\"kill_task('66913b1ecbd93706f296d36f47da7919', 'localhost')\"\n",
       "                        ></i> </td>\n",
       "                        <td style=\"border:0px\"><a onclick=\"task_info('66913b1ecbd93706f296d36f47da7919', 'localhost')\"><pre>66913b1ecbd93706f296d36f47da7919</pre></a></td>\n",
       "                        <td style=\"border:0px\">&nbsp;</td>\n",
       "                        <td style=\"border:0px;text-align=right;\">\n",
       "                        <pre><time id=\"duration_localhost_66913b1ecbd93706f296d36f47da7919\" datetime=\"1503676288358.8813\">0 sec</time></pre></td>\n",
       "                        </tr>\n",
       "                        </table>"
      ]
     },
     "metadata": {},
     "output_type": "display_data"
    },
    {
     "data": {
      "text/html": [
       "<table id=\"table_localhost_44202d3ef61632316ca9d2a8ae252d81\" style=\"border: 0px\"><tr style=\"border: 0px\">\n",
       "                        <td style=\"border: 0px\">\n",
       "                        <i id=\"status_localhost_44202d3ef61632316ca9d2a8ae252d81\"\n",
       "                            class=\"fa fa-2x fa-fw fa-square-o\"\n",
       "                            onmouseover=\"$('#status_localhost_44202d3ef61632316ca9d2a8ae252d81').addClass('fa-stop').removeClass('fa-square-o')\"\n",
       "                            onmouseleave=\"$('#status_localhost_44202d3ef61632316ca9d2a8ae252d81').addClass('fa-square-o').removeClass('fa-stop')\"\n",
       "                            onclick=\"kill_task('44202d3ef61632316ca9d2a8ae252d81', 'localhost')\"\n",
       "                        ></i> </td>\n",
       "                        <td style=\"border:0px\"><a onclick=\"task_info('44202d3ef61632316ca9d2a8ae252d81', 'localhost')\"><pre>44202d3ef61632316ca9d2a8ae252d81</pre></a></td>\n",
       "                        <td style=\"border:0px\">&nbsp;</td>\n",
       "                        <td style=\"border:0px;text-align=right;\">\n",
       "                        <pre><time id=\"duration_localhost_44202d3ef61632316ca9d2a8ae252d81\" datetime=\"1503676288359.0737\">0 sec</time></pre></td>\n",
       "                        </tr>\n",
       "                        </table>"
      ]
     },
     "metadata": {},
     "output_type": "display_data"
    },
    {
     "data": {
      "text/html": [
       "<table id=\"table_localhost_b596eb27d57f1a0237a2fc39589ccec5\" style=\"border: 0px\"><tr style=\"border: 0px\">\n",
       "                        <td style=\"border: 0px\">\n",
       "                        <i id=\"status_localhost_b596eb27d57f1a0237a2fc39589ccec5\"\n",
       "                            class=\"fa fa-2x fa-fw fa-square-o\"\n",
       "                            onmouseover=\"$('#status_localhost_b596eb27d57f1a0237a2fc39589ccec5').addClass('fa-stop').removeClass('fa-square-o')\"\n",
       "                            onmouseleave=\"$('#status_localhost_b596eb27d57f1a0237a2fc39589ccec5').addClass('fa-square-o').removeClass('fa-stop')\"\n",
       "                            onclick=\"kill_task('b596eb27d57f1a0237a2fc39589ccec5', 'localhost')\"\n",
       "                        ></i> </td>\n",
       "                        <td style=\"border:0px\"><a onclick=\"task_info('b596eb27d57f1a0237a2fc39589ccec5', 'localhost')\"><pre>b596eb27d57f1a0237a2fc39589ccec5</pre></a></td>\n",
       "                        <td style=\"border:0px\">&nbsp;</td>\n",
       "                        <td style=\"border:0px;text-align=right;\">\n",
       "                        <pre><time id=\"duration_localhost_b596eb27d57f1a0237a2fc39589ccec5\" datetime=\"1503676288359.3738\">0 sec</time></pre></td>\n",
       "                        </tr>\n",
       "                        </table>"
      ]
     },
     "metadata": {},
     "output_type": "display_data"
    },
    {
     "data": {
      "text/html": [
       "<table id=\"table_localhost_83a6e29ff01e9901fd1a88ed59bec5f0\" style=\"border: 0px\"><tr style=\"border: 0px\">\n",
       "                        <td style=\"border: 0px\">\n",
       "                        <i id=\"status_localhost_83a6e29ff01e9901fd1a88ed59bec5f0\"\n",
       "                            class=\"fa fa-2x fa-fw fa-square-o\"\n",
       "                            onmouseover=\"$('#status_localhost_83a6e29ff01e9901fd1a88ed59bec5f0').addClass('fa-stop').removeClass('fa-square-o')\"\n",
       "                            onmouseleave=\"$('#status_localhost_83a6e29ff01e9901fd1a88ed59bec5f0').addClass('fa-square-o').removeClass('fa-stop')\"\n",
       "                            onclick=\"kill_task('83a6e29ff01e9901fd1a88ed59bec5f0', 'localhost')\"\n",
       "                        ></i> </td>\n",
       "                        <td style=\"border:0px\"><a onclick=\"task_info('83a6e29ff01e9901fd1a88ed59bec5f0', 'localhost')\"><pre>83a6e29ff01e9901fd1a88ed59bec5f0</pre></a></td>\n",
       "                        <td style=\"border:0px\">&nbsp;</td>\n",
       "                        <td style=\"border:0px;text-align=right;\">\n",
       "                        <pre><time id=\"duration_localhost_83a6e29ff01e9901fd1a88ed59bec5f0\" datetime=\"1503676288361.526\">0 sec</time></pre></td>\n",
       "                        </tr>\n",
       "                        </table>"
      ]
     },
     "metadata": {},
     "output_type": "display_data"
    },
    {
     "data": {
      "text/html": [
       "<table id=\"table_localhost_6bcd6fe69ea2a7261fc61056838bf772\" style=\"border: 0px\"><tr style=\"border: 0px\">\n",
       "                        <td style=\"border: 0px\">\n",
       "                        <i id=\"status_localhost_6bcd6fe69ea2a7261fc61056838bf772\"\n",
       "                            class=\"fa fa-2x fa-fw fa-square-o\"\n",
       "                            onmouseover=\"$('#status_localhost_6bcd6fe69ea2a7261fc61056838bf772').addClass('fa-stop').removeClass('fa-square-o')\"\n",
       "                            onmouseleave=\"$('#status_localhost_6bcd6fe69ea2a7261fc61056838bf772').addClass('fa-square-o').removeClass('fa-stop')\"\n",
       "                            onclick=\"kill_task('6bcd6fe69ea2a7261fc61056838bf772', 'localhost')\"\n",
       "                        ></i> </td>\n",
       "                        <td style=\"border:0px\"><a onclick=\"task_info('6bcd6fe69ea2a7261fc61056838bf772', 'localhost')\"><pre>6bcd6fe69ea2a7261fc61056838bf772</pre></a></td>\n",
       "                        <td style=\"border:0px\">&nbsp;</td>\n",
       "                        <td style=\"border:0px;text-align=right;\">\n",
       "                        <pre><time id=\"duration_localhost_6bcd6fe69ea2a7261fc61056838bf772\" datetime=\"1503676288361.726\">0 sec</time></pre></td>\n",
       "                        </tr>\n",
       "                        </table>"
      ]
     },
     "metadata": {},
     "output_type": "display_data"
    },
    {
     "data": {
      "text/html": [
       "<table id=\"table_localhost_4e1bbeb3b4f822fa3328f50392799332\" style=\"border: 0px\"><tr style=\"border: 0px\">\n",
       "                        <td style=\"border: 0px\">\n",
       "                        <i id=\"status_localhost_4e1bbeb3b4f822fa3328f50392799332\"\n",
       "                            class=\"fa fa-2x fa-fw fa-square-o\"\n",
       "                            onmouseover=\"$('#status_localhost_4e1bbeb3b4f822fa3328f50392799332').addClass('fa-stop').removeClass('fa-square-o')\"\n",
       "                            onmouseleave=\"$('#status_localhost_4e1bbeb3b4f822fa3328f50392799332').addClass('fa-square-o').removeClass('fa-stop')\"\n",
       "                            onclick=\"kill_task('4e1bbeb3b4f822fa3328f50392799332', 'localhost')\"\n",
       "                        ></i> </td>\n",
       "                        <td style=\"border:0px\"><a onclick=\"task_info('4e1bbeb3b4f822fa3328f50392799332', 'localhost')\"><pre>4e1bbeb3b4f822fa3328f50392799332</pre></a></td>\n",
       "                        <td style=\"border:0px\">&nbsp;</td>\n",
       "                        <td style=\"border:0px;text-align=right;\">\n",
       "                        <pre><time id=\"duration_localhost_4e1bbeb3b4f822fa3328f50392799332\" datetime=\"1503676288362.0247\">0 sec</time></pre></td>\n",
       "                        </tr>\n",
       "                        </table>"
      ]
     },
     "metadata": {},
     "output_type": "display_data"
    },
    {
     "data": {
      "text/html": [
       "<table id=\"table_localhost_c33deda033feba6f2f037094248d2bda\" style=\"border: 0px\"><tr style=\"border: 0px\">\n",
       "                        <td style=\"border: 0px\">\n",
       "                        <i id=\"status_localhost_c33deda033feba6f2f037094248d2bda\"\n",
       "                            class=\"fa fa-2x fa-fw fa-square-o\"\n",
       "                            onmouseover=\"$('#status_localhost_c33deda033feba6f2f037094248d2bda').addClass('fa-stop').removeClass('fa-square-o')\"\n",
       "                            onmouseleave=\"$('#status_localhost_c33deda033feba6f2f037094248d2bda').addClass('fa-square-o').removeClass('fa-stop')\"\n",
       "                            onclick=\"kill_task('c33deda033feba6f2f037094248d2bda', 'localhost')\"\n",
       "                        ></i> </td>\n",
       "                        <td style=\"border:0px\"><a onclick=\"task_info('c33deda033feba6f2f037094248d2bda', 'localhost')\"><pre>c33deda033feba6f2f037094248d2bda</pre></a></td>\n",
       "                        <td style=\"border:0px\">&nbsp;</td>\n",
       "                        <td style=\"border:0px;text-align=right;\">\n",
       "                        <pre><time id=\"duration_localhost_c33deda033feba6f2f037094248d2bda\" datetime=\"1503676288362.2805\">0 sec</time></pre></td>\n",
       "                        </tr>\n",
       "                        </table>"
      ]
     },
     "metadata": {},
     "output_type": "display_data"
    },
    {
     "data": {
      "text/html": [
       "<table id=\"table_localhost_2fb36fa0cdf9b31d6f5594a27fff0789\" style=\"border: 0px\"><tr style=\"border: 0px\">\n",
       "                        <td style=\"border: 0px\">\n",
       "                        <i id=\"status_localhost_2fb36fa0cdf9b31d6f5594a27fff0789\"\n",
       "                            class=\"fa fa-2x fa-fw fa-square-o\"\n",
       "                            onmouseover=\"$('#status_localhost_2fb36fa0cdf9b31d6f5594a27fff0789').addClass('fa-stop').removeClass('fa-square-o')\"\n",
       "                            onmouseleave=\"$('#status_localhost_2fb36fa0cdf9b31d6f5594a27fff0789').addClass('fa-square-o').removeClass('fa-stop')\"\n",
       "                            onclick=\"kill_task('2fb36fa0cdf9b31d6f5594a27fff0789', 'localhost')\"\n",
       "                        ></i> </td>\n",
       "                        <td style=\"border:0px\"><a onclick=\"task_info('2fb36fa0cdf9b31d6f5594a27fff0789', 'localhost')\"><pre>2fb36fa0cdf9b31d6f5594a27fff0789</pre></a></td>\n",
       "                        <td style=\"border:0px\">&nbsp;</td>\n",
       "                        <td style=\"border:0px;text-align=right;\">\n",
       "                        <pre><time id=\"duration_localhost_2fb36fa0cdf9b31d6f5594a27fff0789\" datetime=\"1503676288362.4797\">0 sec</time></pre></td>\n",
       "                        </tr>\n",
       "                        </table>"
      ]
     },
     "metadata": {},
     "output_type": "display_data"
    },
    {
     "data": {
      "text/html": [
       "<table id=\"table_localhost_8664e19ffdfcf7b9461a213345fa0a37\" style=\"border: 0px\"><tr style=\"border: 0px\">\n",
       "                        <td style=\"border: 0px\">\n",
       "                        <i id=\"status_localhost_8664e19ffdfcf7b9461a213345fa0a37\"\n",
       "                            class=\"fa fa-2x fa-fw fa-square-o\"\n",
       "                            onmouseover=\"$('#status_localhost_8664e19ffdfcf7b9461a213345fa0a37').addClass('fa-stop').removeClass('fa-square-o')\"\n",
       "                            onmouseleave=\"$('#status_localhost_8664e19ffdfcf7b9461a213345fa0a37').addClass('fa-square-o').removeClass('fa-stop')\"\n",
       "                            onclick=\"kill_task('8664e19ffdfcf7b9461a213345fa0a37', 'localhost')\"\n",
       "                        ></i> </td>\n",
       "                        <td style=\"border:0px\"><a onclick=\"task_info('8664e19ffdfcf7b9461a213345fa0a37', 'localhost')\"><pre>8664e19ffdfcf7b9461a213345fa0a37</pre></a></td>\n",
       "                        <td style=\"border:0px\">&nbsp;</td>\n",
       "                        <td style=\"border:0px;text-align=right;\">\n",
       "                        <pre><time id=\"duration_localhost_8664e19ffdfcf7b9461a213345fa0a37\" datetime=\"1503676288362.7\">0 sec</time></pre></td>\n",
       "                        </tr>\n",
       "                        </table>"
      ]
     },
     "metadata": {},
     "output_type": "display_data"
    },
    {
     "data": {
      "text/html": [
       "<table id=\"table_localhost_6cea517aeb4080de58019e3e54a8797e\" style=\"border: 0px\"><tr style=\"border: 0px\">\n",
       "                        <td style=\"border: 0px\">\n",
       "                        <i id=\"status_localhost_6cea517aeb4080de58019e3e54a8797e\"\n",
       "                            class=\"fa fa-2x fa-fw fa-square-o\"\n",
       "                            onmouseover=\"$('#status_localhost_6cea517aeb4080de58019e3e54a8797e').addClass('fa-stop').removeClass('fa-square-o')\"\n",
       "                            onmouseleave=\"$('#status_localhost_6cea517aeb4080de58019e3e54a8797e').addClass('fa-square-o').removeClass('fa-stop')\"\n",
       "                            onclick=\"kill_task('6cea517aeb4080de58019e3e54a8797e', 'localhost')\"\n",
       "                        ></i> </td>\n",
       "                        <td style=\"border:0px\"><a onclick=\"task_info('6cea517aeb4080de58019e3e54a8797e', 'localhost')\"><pre>6cea517aeb4080de58019e3e54a8797e</pre></a></td>\n",
       "                        <td style=\"border:0px\">&nbsp;</td>\n",
       "                        <td style=\"border:0px;text-align=right;\">\n",
       "                        <pre><time id=\"duration_localhost_6cea517aeb4080de58019e3e54a8797e\" datetime=\"1503676288362.962\">0 sec</time></pre></td>\n",
       "                        </tr>\n",
       "                        </table>"
      ]
     },
     "metadata": {},
     "output_type": "display_data"
    },
    {
     "data": {
      "text/html": [
       "<table id=\"table_localhost_04e726688b5d10998b86c00c79e53e77\" style=\"border: 0px\"><tr style=\"border: 0px\">\n",
       "                        <td style=\"border: 0px\">\n",
       "                        <i id=\"status_localhost_04e726688b5d10998b86c00c79e53e77\"\n",
       "                            class=\"fa fa-2x fa-fw fa-square-o\"\n",
       "                            onmouseover=\"$('#status_localhost_04e726688b5d10998b86c00c79e53e77').addClass('fa-stop').removeClass('fa-square-o')\"\n",
       "                            onmouseleave=\"$('#status_localhost_04e726688b5d10998b86c00c79e53e77').addClass('fa-square-o').removeClass('fa-stop')\"\n",
       "                            onclick=\"kill_task('04e726688b5d10998b86c00c79e53e77', 'localhost')\"\n",
       "                        ></i> </td>\n",
       "                        <td style=\"border:0px\"><a onclick=\"task_info('04e726688b5d10998b86c00c79e53e77', 'localhost')\"><pre>04e726688b5d10998b86c00c79e53e77</pre></a></td>\n",
       "                        <td style=\"border:0px\">&nbsp;</td>\n",
       "                        <td style=\"border:0px;text-align=right;\">\n",
       "                        <pre><time id=\"duration_localhost_04e726688b5d10998b86c00c79e53e77\" datetime=\"1503676288363.456\">0 sec</time></pre></td>\n",
       "                        </tr>\n",
       "                        </table>"
      ]
     },
     "metadata": {},
     "output_type": "display_data"
    },
    {
     "data": {
      "text/html": [
       "<table id=\"table_localhost_5a81c130f4bde9524bbefc21f546c63d\" style=\"border: 0px\"><tr style=\"border: 0px\">\n",
       "                        <td style=\"border: 0px\">\n",
       "                        <i id=\"status_localhost_5a81c130f4bde9524bbefc21f546c63d\"\n",
       "                            class=\"fa fa-2x fa-fw fa-square-o\"\n",
       "                            onmouseover=\"$('#status_localhost_5a81c130f4bde9524bbefc21f546c63d').addClass('fa-stop').removeClass('fa-square-o')\"\n",
       "                            onmouseleave=\"$('#status_localhost_5a81c130f4bde9524bbefc21f546c63d').addClass('fa-square-o').removeClass('fa-stop')\"\n",
       "                            onclick=\"kill_task('5a81c130f4bde9524bbefc21f546c63d', 'localhost')\"\n",
       "                        ></i> </td>\n",
       "                        <td style=\"border:0px\"><a onclick=\"task_info('5a81c130f4bde9524bbefc21f546c63d', 'localhost')\"><pre>5a81c130f4bde9524bbefc21f546c63d</pre></a></td>\n",
       "                        <td style=\"border:0px\">&nbsp;</td>\n",
       "                        <td style=\"border:0px;text-align=right;\">\n",
       "                        <pre><time id=\"duration_localhost_5a81c130f4bde9524bbefc21f546c63d\" datetime=\"1503676288363.6277\">0 sec</time></pre></td>\n",
       "                        </tr>\n",
       "                        </table>"
      ]
     },
     "metadata": {},
     "output_type": "display_data"
    },
    {
     "data": {
      "text/html": [
       "<table id=\"table_localhost_43e78bd8f1e619155dd62ed5ab140cef\" style=\"border: 0px\"><tr style=\"border: 0px\">\n",
       "                        <td style=\"border: 0px\">\n",
       "                        <i id=\"status_localhost_43e78bd8f1e619155dd62ed5ab140cef\"\n",
       "                            class=\"fa fa-2x fa-fw fa-square-o\"\n",
       "                            onmouseover=\"$('#status_localhost_43e78bd8f1e619155dd62ed5ab140cef').addClass('fa-stop').removeClass('fa-square-o')\"\n",
       "                            onmouseleave=\"$('#status_localhost_43e78bd8f1e619155dd62ed5ab140cef').addClass('fa-square-o').removeClass('fa-stop')\"\n",
       "                            onclick=\"kill_task('43e78bd8f1e619155dd62ed5ab140cef', 'localhost')\"\n",
       "                        ></i> </td>\n",
       "                        <td style=\"border:0px\"><a onclick=\"task_info('43e78bd8f1e619155dd62ed5ab140cef', 'localhost')\"><pre>43e78bd8f1e619155dd62ed5ab140cef</pre></a></td>\n",
       "                        <td style=\"border:0px\">&nbsp;</td>\n",
       "                        <td style=\"border:0px;text-align=right;\">\n",
       "                        <pre><time id=\"duration_localhost_43e78bd8f1e619155dd62ed5ab140cef\" datetime=\"1503676288364.2454\">0 sec</time></pre></td>\n",
       "                        </tr>\n",
       "                        </table>"
      ]
     },
     "metadata": {},
     "output_type": "display_data"
    },
    {
     "data": {
      "text/html": [
       "<table id=\"table_localhost_85110b8d0067e879a03130f0433ec1f0\" style=\"border: 0px\"><tr style=\"border: 0px\">\n",
       "                        <td style=\"border: 0px\">\n",
       "                        <i id=\"status_localhost_85110b8d0067e879a03130f0433ec1f0\"\n",
       "                            class=\"fa fa-2x fa-fw fa-square-o\"\n",
       "                            onmouseover=\"$('#status_localhost_85110b8d0067e879a03130f0433ec1f0').addClass('fa-stop').removeClass('fa-square-o')\"\n",
       "                            onmouseleave=\"$('#status_localhost_85110b8d0067e879a03130f0433ec1f0').addClass('fa-square-o').removeClass('fa-stop')\"\n",
       "                            onclick=\"kill_task('85110b8d0067e879a03130f0433ec1f0', 'localhost')\"\n",
       "                        ></i> </td>\n",
       "                        <td style=\"border:0px\"><a onclick=\"task_info('85110b8d0067e879a03130f0433ec1f0', 'localhost')\"><pre>85110b8d0067e879a03130f0433ec1f0</pre></a></td>\n",
       "                        <td style=\"border:0px\">&nbsp;</td>\n",
       "                        <td style=\"border:0px;text-align=right;\">\n",
       "                        <pre><time id=\"duration_localhost_85110b8d0067e879a03130f0433ec1f0\" datetime=\"1503676288364.661\">0 sec</time></pre></td>\n",
       "                        </tr>\n",
       "                        </table>"
      ]
     },
     "metadata": {},
     "output_type": "display_data"
    },
    {
     "data": {
      "text/html": [
       "<table id=\"table_localhost_c09bc255d185bae8730bf0461e88a523\" style=\"border: 0px\"><tr style=\"border: 0px\">\n",
       "                        <td style=\"border: 0px\">\n",
       "                        <i id=\"status_localhost_c09bc255d185bae8730bf0461e88a523\"\n",
       "                            class=\"fa fa-2x fa-fw fa-square-o\"\n",
       "                            onmouseover=\"$('#status_localhost_c09bc255d185bae8730bf0461e88a523').addClass('fa-stop').removeClass('fa-square-o')\"\n",
       "                            onmouseleave=\"$('#status_localhost_c09bc255d185bae8730bf0461e88a523').addClass('fa-square-o').removeClass('fa-stop')\"\n",
       "                            onclick=\"kill_task('c09bc255d185bae8730bf0461e88a523', 'localhost')\"\n",
       "                        ></i> </td>\n",
       "                        <td style=\"border:0px\"><a onclick=\"task_info('c09bc255d185bae8730bf0461e88a523', 'localhost')\"><pre>c09bc255d185bae8730bf0461e88a523</pre></a></td>\n",
       "                        <td style=\"border:0px\">&nbsp;</td>\n",
       "                        <td style=\"border:0px;text-align=right;\">\n",
       "                        <pre><time id=\"duration_localhost_c09bc255d185bae8730bf0461e88a523\" datetime=\"1503676288364.9685\">0 sec</time></pre></td>\n",
       "                        </tr>\n",
       "                        </table>"
      ]
     },
     "metadata": {},
     "output_type": "display_data"
    },
    {
     "data": {
      "text/html": [
       "<table id=\"table_localhost_0185636b7d4d0b42c9af4157bec0cb1d\" style=\"border: 0px\"><tr style=\"border: 0px\">\n",
       "                        <td style=\"border: 0px\">\n",
       "                        <i id=\"status_localhost_0185636b7d4d0b42c9af4157bec0cb1d\"\n",
       "                            class=\"fa fa-2x fa-fw fa-square-o\"\n",
       "                            onmouseover=\"$('#status_localhost_0185636b7d4d0b42c9af4157bec0cb1d').addClass('fa-stop').removeClass('fa-square-o')\"\n",
       "                            onmouseleave=\"$('#status_localhost_0185636b7d4d0b42c9af4157bec0cb1d').addClass('fa-square-o').removeClass('fa-stop')\"\n",
       "                            onclick=\"kill_task('0185636b7d4d0b42c9af4157bec0cb1d', 'localhost')\"\n",
       "                        ></i> </td>\n",
       "                        <td style=\"border:0px\"><a onclick=\"task_info('0185636b7d4d0b42c9af4157bec0cb1d', 'localhost')\"><pre>0185636b7d4d0b42c9af4157bec0cb1d</pre></a></td>\n",
       "                        <td style=\"border:0px\">&nbsp;</td>\n",
       "                        <td style=\"border:0px;text-align=right;\">\n",
       "                        <pre><time id=\"duration_localhost_0185636b7d4d0b42c9af4157bec0cb1d\" datetime=\"1503676288365.2761\">0 sec</time></pre></td>\n",
       "                        </tr>\n",
       "                        </table>"
      ]
     },
     "metadata": {},
     "output_type": "display_data"
    },
    {
     "data": {
      "text/html": [
       "<table id=\"table_localhost_af44f7ada9cd936704afe51789a6c455\" style=\"border: 0px\"><tr style=\"border: 0px\">\n",
       "                        <td style=\"border: 0px\">\n",
       "                        <i id=\"status_localhost_af44f7ada9cd936704afe51789a6c455\"\n",
       "                            class=\"fa fa-2x fa-fw fa-square-o\"\n",
       "                            onmouseover=\"$('#status_localhost_af44f7ada9cd936704afe51789a6c455').addClass('fa-stop').removeClass('fa-square-o')\"\n",
       "                            onmouseleave=\"$('#status_localhost_af44f7ada9cd936704afe51789a6c455').addClass('fa-square-o').removeClass('fa-stop')\"\n",
       "                            onclick=\"kill_task('af44f7ada9cd936704afe51789a6c455', 'localhost')\"\n",
       "                        ></i> </td>\n",
       "                        <td style=\"border:0px\"><a onclick=\"task_info('af44f7ada9cd936704afe51789a6c455', 'localhost')\"><pre>af44f7ada9cd936704afe51789a6c455</pre></a></td>\n",
       "                        <td style=\"border:0px\">&nbsp;</td>\n",
       "                        <td style=\"border:0px;text-align=right;\">\n",
       "                        <pre><time id=\"duration_localhost_af44f7ada9cd936704afe51789a6c455\" datetime=\"1503676288365.665\">0 sec</time></pre></td>\n",
       "                        </tr>\n",
       "                        </table>"
      ]
     },
     "metadata": {},
     "output_type": "display_data"
    },
    {
     "data": {
      "text/html": [
       "<table id=\"table_localhost_02df5aa1915a6e71f21e2f4d353ba100\" style=\"border: 0px\"><tr style=\"border: 0px\">\n",
       "                        <td style=\"border: 0px\">\n",
       "                        <i id=\"status_localhost_02df5aa1915a6e71f21e2f4d353ba100\"\n",
       "                            class=\"fa fa-2x fa-fw fa-square-o\"\n",
       "                            onmouseover=\"$('#status_localhost_02df5aa1915a6e71f21e2f4d353ba100').addClass('fa-stop').removeClass('fa-square-o')\"\n",
       "                            onmouseleave=\"$('#status_localhost_02df5aa1915a6e71f21e2f4d353ba100').addClass('fa-square-o').removeClass('fa-stop')\"\n",
       "                            onclick=\"kill_task('02df5aa1915a6e71f21e2f4d353ba100', 'localhost')\"\n",
       "                        ></i> </td>\n",
       "                        <td style=\"border:0px\"><a onclick=\"task_info('02df5aa1915a6e71f21e2f4d353ba100', 'localhost')\"><pre>02df5aa1915a6e71f21e2f4d353ba100</pre></a></td>\n",
       "                        <td style=\"border:0px\">&nbsp;</td>\n",
       "                        <td style=\"border:0px;text-align=right;\">\n",
       "                        <pre><time id=\"duration_localhost_02df5aa1915a6e71f21e2f4d353ba100\" datetime=\"1503676288367.6409\">0 sec</time></pre></td>\n",
       "                        </tr>\n",
       "                        </table>"
      ]
     },
     "metadata": {},
     "output_type": "display_data"
    },
    {
     "data": {
      "text/html": [
       "<table id=\"table_localhost_561e29e8ca437dd268700fd77ba85a88\" style=\"border: 0px\"><tr style=\"border: 0px\">\n",
       "                        <td style=\"border: 0px\">\n",
       "                        <i id=\"status_localhost_561e29e8ca437dd268700fd77ba85a88\"\n",
       "                            class=\"fa fa-2x fa-fw fa-square-o\"\n",
       "                            onmouseover=\"$('#status_localhost_561e29e8ca437dd268700fd77ba85a88').addClass('fa-stop').removeClass('fa-square-o')\"\n",
       "                            onmouseleave=\"$('#status_localhost_561e29e8ca437dd268700fd77ba85a88').addClass('fa-square-o').removeClass('fa-stop')\"\n",
       "                            onclick=\"kill_task('561e29e8ca437dd268700fd77ba85a88', 'localhost')\"\n",
       "                        ></i> </td>\n",
       "                        <td style=\"border:0px\"><a onclick=\"task_info('561e29e8ca437dd268700fd77ba85a88', 'localhost')\"><pre>561e29e8ca437dd268700fd77ba85a88</pre></a></td>\n",
       "                        <td style=\"border:0px\">&nbsp;</td>\n",
       "                        <td style=\"border:0px;text-align=right;\">\n",
       "                        <pre><time id=\"duration_localhost_561e29e8ca437dd268700fd77ba85a88\" datetime=\"1503676288368.147\">0 sec</time></pre></td>\n",
       "                        </tr>\n",
       "                        </table>"
      ]
     },
     "metadata": {},
     "output_type": "display_data"
    },
    {
     "data": {
      "text/html": [
       "<table id=\"table_localhost_d07d82427fcf242cb8250bcffcb72b00\" style=\"border: 0px\"><tr style=\"border: 0px\">\n",
       "                        <td style=\"border: 0px\">\n",
       "                        <i id=\"status_localhost_d07d82427fcf242cb8250bcffcb72b00\"\n",
       "                            class=\"fa fa-2x fa-fw fa-square-o\"\n",
       "                            onmouseover=\"$('#status_localhost_d07d82427fcf242cb8250bcffcb72b00').addClass('fa-stop').removeClass('fa-square-o')\"\n",
       "                            onmouseleave=\"$('#status_localhost_d07d82427fcf242cb8250bcffcb72b00').addClass('fa-square-o').removeClass('fa-stop')\"\n",
       "                            onclick=\"kill_task('d07d82427fcf242cb8250bcffcb72b00', 'localhost')\"\n",
       "                        ></i> </td>\n",
       "                        <td style=\"border:0px\"><a onclick=\"task_info('d07d82427fcf242cb8250bcffcb72b00', 'localhost')\"><pre>d07d82427fcf242cb8250bcffcb72b00</pre></a></td>\n",
       "                        <td style=\"border:0px\">&nbsp;</td>\n",
       "                        <td style=\"border:0px;text-align=right;\">\n",
       "                        <pre><time id=\"duration_localhost_d07d82427fcf242cb8250bcffcb72b00\" datetime=\"1503676288368.7686\">0 sec</time></pre></td>\n",
       "                        </tr>\n",
       "                        </table>"
      ]
     },
     "metadata": {},
     "output_type": "display_data"
    },
    {
     "data": {
      "text/html": [
       "<table id=\"table_localhost_d54249c9ebeba77a6152734b72f6ae37\" style=\"border: 0px\"><tr style=\"border: 0px\">\n",
       "                        <td style=\"border: 0px\">\n",
       "                        <i id=\"status_localhost_d54249c9ebeba77a6152734b72f6ae37\"\n",
       "                            class=\"fa fa-2x fa-fw fa-square-o\"\n",
       "                            onmouseover=\"$('#status_localhost_d54249c9ebeba77a6152734b72f6ae37').addClass('fa-stop').removeClass('fa-square-o')\"\n",
       "                            onmouseleave=\"$('#status_localhost_d54249c9ebeba77a6152734b72f6ae37').addClass('fa-square-o').removeClass('fa-stop')\"\n",
       "                            onclick=\"kill_task('d54249c9ebeba77a6152734b72f6ae37', 'localhost')\"\n",
       "                        ></i> </td>\n",
       "                        <td style=\"border:0px\"><a onclick=\"task_info('d54249c9ebeba77a6152734b72f6ae37', 'localhost')\"><pre>d54249c9ebeba77a6152734b72f6ae37</pre></a></td>\n",
       "                        <td style=\"border:0px\">&nbsp;</td>\n",
       "                        <td style=\"border:0px;text-align=right;\">\n",
       "                        <pre><time id=\"duration_localhost_d54249c9ebeba77a6152734b72f6ae37\" datetime=\"1503676288369.0444\">0 sec</time></pre></td>\n",
       "                        </tr>\n",
       "                        </table>"
      ]
     },
     "metadata": {},
     "output_type": "display_data"
    },
    {
     "data": {
      "text/html": [
       "<table id=\"table_localhost_70ce315e7cbd4423a2603eb224a04f22\" style=\"border: 0px\"><tr style=\"border: 0px\">\n",
       "                        <td style=\"border: 0px\">\n",
       "                        <i id=\"status_localhost_70ce315e7cbd4423a2603eb224a04f22\"\n",
       "                            class=\"fa fa-2x fa-fw fa-square-o\"\n",
       "                            onmouseover=\"$('#status_localhost_70ce315e7cbd4423a2603eb224a04f22').addClass('fa-stop').removeClass('fa-square-o')\"\n",
       "                            onmouseleave=\"$('#status_localhost_70ce315e7cbd4423a2603eb224a04f22').addClass('fa-square-o').removeClass('fa-stop')\"\n",
       "                            onclick=\"kill_task('70ce315e7cbd4423a2603eb224a04f22', 'localhost')\"\n",
       "                        ></i> </td>\n",
       "                        <td style=\"border:0px\"><a onclick=\"task_info('70ce315e7cbd4423a2603eb224a04f22', 'localhost')\"><pre>70ce315e7cbd4423a2603eb224a04f22</pre></a></td>\n",
       "                        <td style=\"border:0px\">&nbsp;</td>\n",
       "                        <td style=\"border:0px;text-align=right;\">\n",
       "                        <pre><time id=\"duration_localhost_70ce315e7cbd4423a2603eb224a04f22\" datetime=\"1503676288369.2673\">0 sec</time></pre></td>\n",
       "                        </tr>\n",
       "                        </table>"
      ]
     },
     "metadata": {},
     "output_type": "display_data"
    },
    {
     "data": {
      "text/html": [
       "<table id=\"table_localhost_2d739d167d940ecb133dc127e1c88af1\" style=\"border: 0px\"><tr style=\"border: 0px\">\n",
       "                        <td style=\"border: 0px\">\n",
       "                        <i id=\"status_localhost_2d739d167d940ecb133dc127e1c88af1\"\n",
       "                            class=\"fa fa-2x fa-fw fa-square-o\"\n",
       "                            onmouseover=\"$('#status_localhost_2d739d167d940ecb133dc127e1c88af1').addClass('fa-stop').removeClass('fa-square-o')\"\n",
       "                            onmouseleave=\"$('#status_localhost_2d739d167d940ecb133dc127e1c88af1').addClass('fa-square-o').removeClass('fa-stop')\"\n",
       "                            onclick=\"kill_task('2d739d167d940ecb133dc127e1c88af1', 'localhost')\"\n",
       "                        ></i> </td>\n",
       "                        <td style=\"border:0px\"><a onclick=\"task_info('2d739d167d940ecb133dc127e1c88af1', 'localhost')\"><pre>2d739d167d940ecb133dc127e1c88af1</pre></a></td>\n",
       "                        <td style=\"border:0px\">&nbsp;</td>\n",
       "                        <td style=\"border:0px;text-align=right;\">\n",
       "                        <pre><time id=\"duration_localhost_2d739d167d940ecb133dc127e1c88af1\" datetime=\"1503676288369.5454\">0 sec</time></pre></td>\n",
       "                        </tr>\n",
       "                        </table>"
      ]
     },
     "metadata": {},
     "output_type": "display_data"
    },
    {
     "data": {
      "text/html": [
       "<table id=\"table_localhost_e341ba880c7a691405eb812a3d05729d\" style=\"border: 0px\"><tr style=\"border: 0px\">\n",
       "                        <td style=\"border: 0px\">\n",
       "                        <i id=\"status_localhost_e341ba880c7a691405eb812a3d05729d\"\n",
       "                            class=\"fa fa-2x fa-fw fa-square-o\"\n",
       "                            onmouseover=\"$('#status_localhost_e341ba880c7a691405eb812a3d05729d').addClass('fa-stop').removeClass('fa-square-o')\"\n",
       "                            onmouseleave=\"$('#status_localhost_e341ba880c7a691405eb812a3d05729d').addClass('fa-square-o').removeClass('fa-stop')\"\n",
       "                            onclick=\"kill_task('e341ba880c7a691405eb812a3d05729d', 'localhost')\"\n",
       "                        ></i> </td>\n",
       "                        <td style=\"border:0px\"><a onclick=\"task_info('e341ba880c7a691405eb812a3d05729d', 'localhost')\"><pre>e341ba880c7a691405eb812a3d05729d</pre></a></td>\n",
       "                        <td style=\"border:0px\">&nbsp;</td>\n",
       "                        <td style=\"border:0px;text-align=right;\">\n",
       "                        <pre><time id=\"duration_localhost_e341ba880c7a691405eb812a3d05729d\" datetime=\"1503676288369.7783\">0 sec</time></pre></td>\n",
       "                        </tr>\n",
       "                        </table>"
      ]
     },
     "metadata": {},
     "output_type": "display_data"
    },
    {
     "data": {
      "text/html": [
       "<table id=\"table_localhost_540097e6ace16c05b0b3818c0fcb9781\" style=\"border: 0px\"><tr style=\"border: 0px\">\n",
       "                        <td style=\"border: 0px\">\n",
       "                        <i id=\"status_localhost_540097e6ace16c05b0b3818c0fcb9781\"\n",
       "                            class=\"fa fa-2x fa-fw fa-square-o\"\n",
       "                            onmouseover=\"$('#status_localhost_540097e6ace16c05b0b3818c0fcb9781').addClass('fa-stop').removeClass('fa-square-o')\"\n",
       "                            onmouseleave=\"$('#status_localhost_540097e6ace16c05b0b3818c0fcb9781').addClass('fa-square-o').removeClass('fa-stop')\"\n",
       "                            onclick=\"kill_task('540097e6ace16c05b0b3818c0fcb9781', 'localhost')\"\n",
       "                        ></i> </td>\n",
       "                        <td style=\"border:0px\"><a onclick=\"task_info('540097e6ace16c05b0b3818c0fcb9781', 'localhost')\"><pre>540097e6ace16c05b0b3818c0fcb9781</pre></a></td>\n",
       "                        <td style=\"border:0px\">&nbsp;</td>\n",
       "                        <td style=\"border:0px;text-align=right;\">\n",
       "                        <pre><time id=\"duration_localhost_540097e6ace16c05b0b3818c0fcb9781\" datetime=\"1503676288369.9756\">0 sec</time></pre></td>\n",
       "                        </tr>\n",
       "                        </table>"
      ]
     },
     "metadata": {},
     "output_type": "display_data"
    },
    {
     "data": {
      "text/html": [
       "<table id=\"table_localhost_6a7676232e6626b7fe3d4c9969f23d52\" style=\"border: 0px\"><tr style=\"border: 0px\">\n",
       "                        <td style=\"border: 0px\">\n",
       "                        <i id=\"status_localhost_6a7676232e6626b7fe3d4c9969f23d52\"\n",
       "                            class=\"fa fa-2x fa-fw fa-square-o\"\n",
       "                            onmouseover=\"$('#status_localhost_6a7676232e6626b7fe3d4c9969f23d52').addClass('fa-stop').removeClass('fa-square-o')\"\n",
       "                            onmouseleave=\"$('#status_localhost_6a7676232e6626b7fe3d4c9969f23d52').addClass('fa-square-o').removeClass('fa-stop')\"\n",
       "                            onclick=\"kill_task('6a7676232e6626b7fe3d4c9969f23d52', 'localhost')\"\n",
       "                        ></i> </td>\n",
       "                        <td style=\"border:0px\"><a onclick=\"task_info('6a7676232e6626b7fe3d4c9969f23d52', 'localhost')\"><pre>6a7676232e6626b7fe3d4c9969f23d52</pre></a></td>\n",
       "                        <td style=\"border:0px\">&nbsp;</td>\n",
       "                        <td style=\"border:0px;text-align=right;\">\n",
       "                        <pre><time id=\"duration_localhost_6a7676232e6626b7fe3d4c9969f23d52\" datetime=\"1503676288370.228\">0 sec</time></pre></td>\n",
       "                        </tr>\n",
       "                        </table>"
      ]
     },
     "metadata": {},
     "output_type": "display_data"
    },
    {
     "data": {
      "text/html": [
       "<table id=\"table_localhost_00e449ff8162d10b3a44584dea9527f0\" style=\"border: 0px\"><tr style=\"border: 0px\">\n",
       "                        <td style=\"border: 0px\">\n",
       "                        <i id=\"status_localhost_00e449ff8162d10b3a44584dea9527f0\"\n",
       "                            class=\"fa fa-2x fa-fw fa-square-o\"\n",
       "                            onmouseover=\"$('#status_localhost_00e449ff8162d10b3a44584dea9527f0').addClass('fa-stop').removeClass('fa-square-o')\"\n",
       "                            onmouseleave=\"$('#status_localhost_00e449ff8162d10b3a44584dea9527f0').addClass('fa-square-o').removeClass('fa-stop')\"\n",
       "                            onclick=\"kill_task('00e449ff8162d10b3a44584dea9527f0', 'localhost')\"\n",
       "                        ></i> </td>\n",
       "                        <td style=\"border:0px\"><a onclick=\"task_info('00e449ff8162d10b3a44584dea9527f0', 'localhost')\"><pre>00e449ff8162d10b3a44584dea9527f0</pre></a></td>\n",
       "                        <td style=\"border:0px\">&nbsp;</td>\n",
       "                        <td style=\"border:0px;text-align=right;\">\n",
       "                        <pre><time id=\"duration_localhost_00e449ff8162d10b3a44584dea9527f0\" datetime=\"1503676288370.463\">0 sec</time></pre></td>\n",
       "                        </tr>\n",
       "                        </table>"
      ]
     },
     "metadata": {},
     "output_type": "display_data"
    },
    {
     "data": {
      "text/html": [
       "<table id=\"table_localhost_fc393eb90252f58ca0ca9eac9bf56422\" style=\"border: 0px\"><tr style=\"border: 0px\">\n",
       "                        <td style=\"border: 0px\">\n",
       "                        <i id=\"status_localhost_fc393eb90252f58ca0ca9eac9bf56422\"\n",
       "                            class=\"fa fa-2x fa-fw fa-square-o\"\n",
       "                            onmouseover=\"$('#status_localhost_fc393eb90252f58ca0ca9eac9bf56422').addClass('fa-stop').removeClass('fa-square-o')\"\n",
       "                            onmouseleave=\"$('#status_localhost_fc393eb90252f58ca0ca9eac9bf56422').addClass('fa-square-o').removeClass('fa-stop')\"\n",
       "                            onclick=\"kill_task('fc393eb90252f58ca0ca9eac9bf56422', 'localhost')\"\n",
       "                        ></i> </td>\n",
       "                        <td style=\"border:0px\"><a onclick=\"task_info('fc393eb90252f58ca0ca9eac9bf56422', 'localhost')\"><pre>fc393eb90252f58ca0ca9eac9bf56422</pre></a></td>\n",
       "                        <td style=\"border:0px\">&nbsp;</td>\n",
       "                        <td style=\"border:0px;text-align=right;\">\n",
       "                        <pre><time id=\"duration_localhost_fc393eb90252f58ca0ca9eac9bf56422\" datetime=\"1503676288370.659\">0 sec</time></pre></td>\n",
       "                        </tr>\n",
       "                        </table>"
      ]
     },
     "metadata": {},
     "output_type": "display_data"
    },
    {
     "data": {
      "text/html": [
       "<table id=\"table_localhost_a4de0c1c2849b69764eaa41c64aaf085\" style=\"border: 0px\"><tr style=\"border: 0px\">\n",
       "                        <td style=\"border: 0px\">\n",
       "                        <i id=\"status_localhost_a4de0c1c2849b69764eaa41c64aaf085\"\n",
       "                            class=\"fa fa-2x fa-fw fa-square-o\"\n",
       "                            onmouseover=\"$('#status_localhost_a4de0c1c2849b69764eaa41c64aaf085').addClass('fa-stop').removeClass('fa-square-o')\"\n",
       "                            onmouseleave=\"$('#status_localhost_a4de0c1c2849b69764eaa41c64aaf085').addClass('fa-square-o').removeClass('fa-stop')\"\n",
       "                            onclick=\"kill_task('a4de0c1c2849b69764eaa41c64aaf085', 'localhost')\"\n",
       "                        ></i> </td>\n",
       "                        <td style=\"border:0px\"><a onclick=\"task_info('a4de0c1c2849b69764eaa41c64aaf085', 'localhost')\"><pre>a4de0c1c2849b69764eaa41c64aaf085</pre></a></td>\n",
       "                        <td style=\"border:0px\">&nbsp;</td>\n",
       "                        <td style=\"border:0px;text-align=right;\">\n",
       "                        <pre><time id=\"duration_localhost_a4de0c1c2849b69764eaa41c64aaf085\" datetime=\"1503676288371.0999\">0 sec</time></pre></td>\n",
       "                        </tr>\n",
       "                        </table>"
      ]
     },
     "metadata": {},
     "output_type": "display_data"
    },
    {
     "data": {
      "text/html": [
       "<table id=\"table_localhost_b8f0d743a20affa833b0cb73acecf0db\" style=\"border: 0px\"><tr style=\"border: 0px\">\n",
       "                        <td style=\"border: 0px\">\n",
       "                        <i id=\"status_localhost_b8f0d743a20affa833b0cb73acecf0db\"\n",
       "                            class=\"fa fa-2x fa-fw fa-square-o\"\n",
       "                            onmouseover=\"$('#status_localhost_b8f0d743a20affa833b0cb73acecf0db').addClass('fa-stop').removeClass('fa-square-o')\"\n",
       "                            onmouseleave=\"$('#status_localhost_b8f0d743a20affa833b0cb73acecf0db').addClass('fa-square-o').removeClass('fa-stop')\"\n",
       "                            onclick=\"kill_task('b8f0d743a20affa833b0cb73acecf0db', 'localhost')\"\n",
       "                        ></i> </td>\n",
       "                        <td style=\"border:0px\"><a onclick=\"task_info('b8f0d743a20affa833b0cb73acecf0db', 'localhost')\"><pre>b8f0d743a20affa833b0cb73acecf0db</pre></a></td>\n",
       "                        <td style=\"border:0px\">&nbsp;</td>\n",
       "                        <td style=\"border:0px;text-align=right;\">\n",
       "                        <pre><time id=\"duration_localhost_b8f0d743a20affa833b0cb73acecf0db\" datetime=\"1503676288373.6978\">0 sec</time></pre></td>\n",
       "                        </tr>\n",
       "                        </table>"
      ]
     },
     "metadata": {},
     "output_type": "display_data"
    },
    {
     "data": {
      "text/html": [
       "<table id=\"table_localhost_39be56562aa9bc2178753ac302b86033\" style=\"border: 0px\"><tr style=\"border: 0px\">\n",
       "                        <td style=\"border: 0px\">\n",
       "                        <i id=\"status_localhost_39be56562aa9bc2178753ac302b86033\"\n",
       "                            class=\"fa fa-2x fa-fw fa-square-o\"\n",
       "                            onmouseover=\"$('#status_localhost_39be56562aa9bc2178753ac302b86033').addClass('fa-stop').removeClass('fa-square-o')\"\n",
       "                            onmouseleave=\"$('#status_localhost_39be56562aa9bc2178753ac302b86033').addClass('fa-square-o').removeClass('fa-stop')\"\n",
       "                            onclick=\"kill_task('39be56562aa9bc2178753ac302b86033', 'localhost')\"\n",
       "                        ></i> </td>\n",
       "                        <td style=\"border:0px\"><a onclick=\"task_info('39be56562aa9bc2178753ac302b86033', 'localhost')\"><pre>39be56562aa9bc2178753ac302b86033</pre></a></td>\n",
       "                        <td style=\"border:0px\">&nbsp;</td>\n",
       "                        <td style=\"border:0px;text-align=right;\">\n",
       "                        <pre><time id=\"duration_localhost_39be56562aa9bc2178753ac302b86033\" datetime=\"1503676288374.5588\">0 sec</time></pre></td>\n",
       "                        </tr>\n",
       "                        </table>"
      ]
     },
     "metadata": {},
     "output_type": "display_data"
    },
    {
     "data": {
      "text/html": [
       "<table id=\"table_localhost_733456ae0b146148ddc9ef5033d4c181\" style=\"border: 0px\"><tr style=\"border: 0px\">\n",
       "                        <td style=\"border: 0px\">\n",
       "                        <i id=\"status_localhost_733456ae0b146148ddc9ef5033d4c181\"\n",
       "                            class=\"fa fa-2x fa-fw fa-square-o\"\n",
       "                            onmouseover=\"$('#status_localhost_733456ae0b146148ddc9ef5033d4c181').addClass('fa-stop').removeClass('fa-square-o')\"\n",
       "                            onmouseleave=\"$('#status_localhost_733456ae0b146148ddc9ef5033d4c181').addClass('fa-square-o').removeClass('fa-stop')\"\n",
       "                            onclick=\"kill_task('733456ae0b146148ddc9ef5033d4c181', 'localhost')\"\n",
       "                        ></i> </td>\n",
       "                        <td style=\"border:0px\"><a onclick=\"task_info('733456ae0b146148ddc9ef5033d4c181', 'localhost')\"><pre>733456ae0b146148ddc9ef5033d4c181</pre></a></td>\n",
       "                        <td style=\"border:0px\">&nbsp;</td>\n",
       "                        <td style=\"border:0px;text-align=right;\">\n",
       "                        <pre><time id=\"duration_localhost_733456ae0b146148ddc9ef5033d4c181\" datetime=\"1503676288374.9795\">0 sec</time></pre></td>\n",
       "                        </tr>\n",
       "                        </table>"
      ]
     },
     "metadata": {},
     "output_type": "display_data"
    },
    {
     "data": {
      "text/html": [
       "<table id=\"table_localhost_17c0246abeea4c88d730aa1938d9494e\" style=\"border: 0px\"><tr style=\"border: 0px\">\n",
       "                        <td style=\"border: 0px\">\n",
       "                        <i id=\"status_localhost_17c0246abeea4c88d730aa1938d9494e\"\n",
       "                            class=\"fa fa-2x fa-fw fa-square-o\"\n",
       "                            onmouseover=\"$('#status_localhost_17c0246abeea4c88d730aa1938d9494e').addClass('fa-stop').removeClass('fa-square-o')\"\n",
       "                            onmouseleave=\"$('#status_localhost_17c0246abeea4c88d730aa1938d9494e').addClass('fa-square-o').removeClass('fa-stop')\"\n",
       "                            onclick=\"kill_task('17c0246abeea4c88d730aa1938d9494e', 'localhost')\"\n",
       "                        ></i> </td>\n",
       "                        <td style=\"border:0px\"><a onclick=\"task_info('17c0246abeea4c88d730aa1938d9494e', 'localhost')\"><pre>17c0246abeea4c88d730aa1938d9494e</pre></a></td>\n",
       "                        <td style=\"border:0px\">&nbsp;</td>\n",
       "                        <td style=\"border:0px;text-align=right;\">\n",
       "                        <pre><time id=\"duration_localhost_17c0246abeea4c88d730aa1938d9494e\" datetime=\"1503676288375.3745\">0 sec</time></pre></td>\n",
       "                        </tr>\n",
       "                        </table>"
      ]
     },
     "metadata": {},
     "output_type": "display_data"
    },
    {
     "data": {
      "text/html": [
       "<table id=\"table_localhost_2933b2e418816d8ad1ffad228a0d3392\" style=\"border: 0px\"><tr style=\"border: 0px\">\n",
       "                        <td style=\"border: 0px\">\n",
       "                        <i id=\"status_localhost_2933b2e418816d8ad1ffad228a0d3392\"\n",
       "                            class=\"fa fa-2x fa-fw fa-square-o\"\n",
       "                            onmouseover=\"$('#status_localhost_2933b2e418816d8ad1ffad228a0d3392').addClass('fa-stop').removeClass('fa-square-o')\"\n",
       "                            onmouseleave=\"$('#status_localhost_2933b2e418816d8ad1ffad228a0d3392').addClass('fa-square-o').removeClass('fa-stop')\"\n",
       "                            onclick=\"kill_task('2933b2e418816d8ad1ffad228a0d3392', 'localhost')\"\n",
       "                        ></i> </td>\n",
       "                        <td style=\"border:0px\"><a onclick=\"task_info('2933b2e418816d8ad1ffad228a0d3392', 'localhost')\"><pre>2933b2e418816d8ad1ffad228a0d3392</pre></a></td>\n",
       "                        <td style=\"border:0px\">&nbsp;</td>\n",
       "                        <td style=\"border:0px;text-align=right;\">\n",
       "                        <pre><time id=\"duration_localhost_2933b2e418816d8ad1ffad228a0d3392\" datetime=\"1503676288375.7803\">0 sec</time></pre></td>\n",
       "                        </tr>\n",
       "                        </table>"
      ]
     },
     "metadata": {},
     "output_type": "display_data"
    },
    {
     "data": {
      "text/html": [
       "<table id=\"table_localhost_ca1ad9382264af4046dbc5ed15cd535e\" style=\"border: 0px\"><tr style=\"border: 0px\">\n",
       "                        <td style=\"border: 0px\">\n",
       "                        <i id=\"status_localhost_ca1ad9382264af4046dbc5ed15cd535e\"\n",
       "                            class=\"fa fa-2x fa-fw fa-square-o\"\n",
       "                            onmouseover=\"$('#status_localhost_ca1ad9382264af4046dbc5ed15cd535e').addClass('fa-stop').removeClass('fa-square-o')\"\n",
       "                            onmouseleave=\"$('#status_localhost_ca1ad9382264af4046dbc5ed15cd535e').addClass('fa-square-o').removeClass('fa-stop')\"\n",
       "                            onclick=\"kill_task('ca1ad9382264af4046dbc5ed15cd535e', 'localhost')\"\n",
       "                        ></i> </td>\n",
       "                        <td style=\"border:0px\"><a onclick=\"task_info('ca1ad9382264af4046dbc5ed15cd535e', 'localhost')\"><pre>ca1ad9382264af4046dbc5ed15cd535e</pre></a></td>\n",
       "                        <td style=\"border:0px\">&nbsp;</td>\n",
       "                        <td style=\"border:0px;text-align=right;\">\n",
       "                        <pre><time id=\"duration_localhost_ca1ad9382264af4046dbc5ed15cd535e\" datetime=\"1503676288376.1228\">0 sec</time></pre></td>\n",
       "                        </tr>\n",
       "                        </table>"
      ]
     },
     "metadata": {},
     "output_type": "display_data"
    },
    {
     "data": {
      "text/html": [
       "<table id=\"table_localhost_ce9abd03e11aba76471f2b9c4160405f\" style=\"border: 0px\"><tr style=\"border: 0px\">\n",
       "                        <td style=\"border: 0px\">\n",
       "                        <i id=\"status_localhost_ce9abd03e11aba76471f2b9c4160405f\"\n",
       "                            class=\"fa fa-2x fa-fw fa-square-o\"\n",
       "                            onmouseover=\"$('#status_localhost_ce9abd03e11aba76471f2b9c4160405f').addClass('fa-stop').removeClass('fa-square-o')\"\n",
       "                            onmouseleave=\"$('#status_localhost_ce9abd03e11aba76471f2b9c4160405f').addClass('fa-square-o').removeClass('fa-stop')\"\n",
       "                            onclick=\"kill_task('ce9abd03e11aba76471f2b9c4160405f', 'localhost')\"\n",
       "                        ></i> </td>\n",
       "                        <td style=\"border:0px\"><a onclick=\"task_info('ce9abd03e11aba76471f2b9c4160405f', 'localhost')\"><pre>ce9abd03e11aba76471f2b9c4160405f</pre></a></td>\n",
       "                        <td style=\"border:0px\">&nbsp;</td>\n",
       "                        <td style=\"border:0px;text-align=right;\">\n",
       "                        <pre><time id=\"duration_localhost_ce9abd03e11aba76471f2b9c4160405f\" datetime=\"1503676288376.4514\">0 sec</time></pre></td>\n",
       "                        </tr>\n",
       "                        </table>"
      ]
     },
     "metadata": {},
     "output_type": "display_data"
    },
    {
     "data": {
      "text/html": [
       "<table id=\"table_localhost_f31b67b3c7915abc337fa06e8f81ad5e\" style=\"border: 0px\"><tr style=\"border: 0px\">\n",
       "                        <td style=\"border: 0px\">\n",
       "                        <i id=\"status_localhost_f31b67b3c7915abc337fa06e8f81ad5e\"\n",
       "                            class=\"fa fa-2x fa-fw fa-square-o\"\n",
       "                            onmouseover=\"$('#status_localhost_f31b67b3c7915abc337fa06e8f81ad5e').addClass('fa-stop').removeClass('fa-square-o')\"\n",
       "                            onmouseleave=\"$('#status_localhost_f31b67b3c7915abc337fa06e8f81ad5e').addClass('fa-square-o').removeClass('fa-stop')\"\n",
       "                            onclick=\"kill_task('f31b67b3c7915abc337fa06e8f81ad5e', 'localhost')\"\n",
       "                        ></i> </td>\n",
       "                        <td style=\"border:0px\"><a onclick=\"task_info('f31b67b3c7915abc337fa06e8f81ad5e', 'localhost')\"><pre>f31b67b3c7915abc337fa06e8f81ad5e</pre></a></td>\n",
       "                        <td style=\"border:0px\">&nbsp;</td>\n",
       "                        <td style=\"border:0px;text-align=right;\">\n",
       "                        <pre><time id=\"duration_localhost_f31b67b3c7915abc337fa06e8f81ad5e\" datetime=\"1503676288376.8262\">0 sec</time></pre></td>\n",
       "                        </tr>\n",
       "                        </table>"
      ]
     },
     "metadata": {},
     "output_type": "display_data"
    },
    {
     "data": {
      "text/html": [
       "<table id=\"table_localhost_01b5b3a6d5f2edf84568d210512bf684\" style=\"border: 0px\"><tr style=\"border: 0px\">\n",
       "                        <td style=\"border: 0px\">\n",
       "                        <i id=\"status_localhost_01b5b3a6d5f2edf84568d210512bf684\"\n",
       "                            class=\"fa fa-2x fa-fw fa-square-o\"\n",
       "                            onmouseover=\"$('#status_localhost_01b5b3a6d5f2edf84568d210512bf684').addClass('fa-stop').removeClass('fa-square-o')\"\n",
       "                            onmouseleave=\"$('#status_localhost_01b5b3a6d5f2edf84568d210512bf684').addClass('fa-square-o').removeClass('fa-stop')\"\n",
       "                            onclick=\"kill_task('01b5b3a6d5f2edf84568d210512bf684', 'localhost')\"\n",
       "                        ></i> </td>\n",
       "                        <td style=\"border:0px\"><a onclick=\"task_info('01b5b3a6d5f2edf84568d210512bf684', 'localhost')\"><pre>01b5b3a6d5f2edf84568d210512bf684</pre></a></td>\n",
       "                        <td style=\"border:0px\">&nbsp;</td>\n",
       "                        <td style=\"border:0px;text-align=right;\">\n",
       "                        <pre><time id=\"duration_localhost_01b5b3a6d5f2edf84568d210512bf684\" datetime=\"1503676288377.2424\">0 sec</time></pre></td>\n",
       "                        </tr>\n",
       "                        </table>"
      ]
     },
     "metadata": {},
     "output_type": "display_data"
    },
    {
     "data": {
      "text/html": [
       "<table id=\"table_localhost_3285ddd80593c6daa45a751f20b6f020\" style=\"border: 0px\"><tr style=\"border: 0px\">\n",
       "                        <td style=\"border: 0px\">\n",
       "                        <i id=\"status_localhost_3285ddd80593c6daa45a751f20b6f020\"\n",
       "                            class=\"fa fa-2x fa-fw fa-square-o\"\n",
       "                            onmouseover=\"$('#status_localhost_3285ddd80593c6daa45a751f20b6f020').addClass('fa-stop').removeClass('fa-square-o')\"\n",
       "                            onmouseleave=\"$('#status_localhost_3285ddd80593c6daa45a751f20b6f020').addClass('fa-square-o').removeClass('fa-stop')\"\n",
       "                            onclick=\"kill_task('3285ddd80593c6daa45a751f20b6f020', 'localhost')\"\n",
       "                        ></i> </td>\n",
       "                        <td style=\"border:0px\"><a onclick=\"task_info('3285ddd80593c6daa45a751f20b6f020', 'localhost')\"><pre>3285ddd80593c6daa45a751f20b6f020</pre></a></td>\n",
       "                        <td style=\"border:0px\">&nbsp;</td>\n",
       "                        <td style=\"border:0px;text-align=right;\">\n",
       "                        <pre><time id=\"duration_localhost_3285ddd80593c6daa45a751f20b6f020\" datetime=\"1503676288377.5964\">0 sec</time></pre></td>\n",
       "                        </tr>\n",
       "                        </table>"
      ]
     },
     "metadata": {},
     "output_type": "display_data"
    },
    {
     "data": {
      "text/html": [
       "<table id=\"table_localhost_3669098992364de4c5a69546f54572cb\" style=\"border: 0px\"><tr style=\"border: 0px\">\n",
       "                        <td style=\"border: 0px\">\n",
       "                        <i id=\"status_localhost_3669098992364de4c5a69546f54572cb\"\n",
       "                            class=\"fa fa-2x fa-fw fa-square-o\"\n",
       "                            onmouseover=\"$('#status_localhost_3669098992364de4c5a69546f54572cb').addClass('fa-stop').removeClass('fa-square-o')\"\n",
       "                            onmouseleave=\"$('#status_localhost_3669098992364de4c5a69546f54572cb').addClass('fa-square-o').removeClass('fa-stop')\"\n",
       "                            onclick=\"kill_task('3669098992364de4c5a69546f54572cb', 'localhost')\"\n",
       "                        ></i> </td>\n",
       "                        <td style=\"border:0px\"><a onclick=\"task_info('3669098992364de4c5a69546f54572cb', 'localhost')\"><pre>3669098992364de4c5a69546f54572cb</pre></a></td>\n",
       "                        <td style=\"border:0px\">&nbsp;</td>\n",
       "                        <td style=\"border:0px;text-align=right;\">\n",
       "                        <pre><time id=\"duration_localhost_3669098992364de4c5a69546f54572cb\" datetime=\"1503676288378.0554\">0 sec</time></pre></td>\n",
       "                        </tr>\n",
       "                        </table>"
      ]
     },
     "metadata": {},
     "output_type": "display_data"
    },
    {
     "data": {
      "text/html": [
       "<table id=\"table_localhost_9eb8b7f2490fe6d02774a1926596a6a4\" style=\"border: 0px\"><tr style=\"border: 0px\">\n",
       "                        <td style=\"border: 0px\">\n",
       "                        <i id=\"status_localhost_9eb8b7f2490fe6d02774a1926596a6a4\"\n",
       "                            class=\"fa fa-2x fa-fw fa-square-o\"\n",
       "                            onmouseover=\"$('#status_localhost_9eb8b7f2490fe6d02774a1926596a6a4').addClass('fa-stop').removeClass('fa-square-o')\"\n",
       "                            onmouseleave=\"$('#status_localhost_9eb8b7f2490fe6d02774a1926596a6a4').addClass('fa-square-o').removeClass('fa-stop')\"\n",
       "                            onclick=\"kill_task('9eb8b7f2490fe6d02774a1926596a6a4', 'localhost')\"\n",
       "                        ></i> </td>\n",
       "                        <td style=\"border:0px\"><a onclick=\"task_info('9eb8b7f2490fe6d02774a1926596a6a4', 'localhost')\"><pre>9eb8b7f2490fe6d02774a1926596a6a4</pre></a></td>\n",
       "                        <td style=\"border:0px\">&nbsp;</td>\n",
       "                        <td style=\"border:0px;text-align=right;\">\n",
       "                        <pre><time id=\"duration_localhost_9eb8b7f2490fe6d02774a1926596a6a4\" datetime=\"1503676288378.476\">0 sec</time></pre></td>\n",
       "                        </tr>\n",
       "                        </table>"
      ]
     },
     "metadata": {},
     "output_type": "display_data"
    },
    {
     "data": {
      "text/html": [
       "<table id=\"table_localhost_ecd797e96a1cf99ca78f2d92f21b9ee1\" style=\"border: 0px\"><tr style=\"border: 0px\">\n",
       "                        <td style=\"border: 0px\">\n",
       "                        <i id=\"status_localhost_ecd797e96a1cf99ca78f2d92f21b9ee1\"\n",
       "                            class=\"fa fa-2x fa-fw fa-square-o\"\n",
       "                            onmouseover=\"$('#status_localhost_ecd797e96a1cf99ca78f2d92f21b9ee1').addClass('fa-stop').removeClass('fa-square-o')\"\n",
       "                            onmouseleave=\"$('#status_localhost_ecd797e96a1cf99ca78f2d92f21b9ee1').addClass('fa-square-o').removeClass('fa-stop')\"\n",
       "                            onclick=\"kill_task('ecd797e96a1cf99ca78f2d92f21b9ee1', 'localhost')\"\n",
       "                        ></i> </td>\n",
       "                        <td style=\"border:0px\"><a onclick=\"task_info('ecd797e96a1cf99ca78f2d92f21b9ee1', 'localhost')\"><pre>ecd797e96a1cf99ca78f2d92f21b9ee1</pre></a></td>\n",
       "                        <td style=\"border:0px\">&nbsp;</td>\n",
       "                        <td style=\"border:0px;text-align=right;\">\n",
       "                        <pre><time id=\"duration_localhost_ecd797e96a1cf99ca78f2d92f21b9ee1\" datetime=\"1503676288378.786\">0 sec</time></pre></td>\n",
       "                        </tr>\n",
       "                        </table>"
      ]
     },
     "metadata": {},
     "output_type": "display_data"
    },
    {
     "data": {
      "text/html": [
       "<table id=\"table_localhost_1fdcb97afe12c4edd31f1b5648fdcb60\" style=\"border: 0px\"><tr style=\"border: 0px\">\n",
       "                        <td style=\"border: 0px\">\n",
       "                        <i id=\"status_localhost_1fdcb97afe12c4edd31f1b5648fdcb60\"\n",
       "                            class=\"fa fa-2x fa-fw fa-square-o\"\n",
       "                            onmouseover=\"$('#status_localhost_1fdcb97afe12c4edd31f1b5648fdcb60').addClass('fa-stop').removeClass('fa-square-o')\"\n",
       "                            onmouseleave=\"$('#status_localhost_1fdcb97afe12c4edd31f1b5648fdcb60').addClass('fa-square-o').removeClass('fa-stop')\"\n",
       "                            onclick=\"kill_task('1fdcb97afe12c4edd31f1b5648fdcb60', 'localhost')\"\n",
       "                        ></i> </td>\n",
       "                        <td style=\"border:0px\"><a onclick=\"task_info('1fdcb97afe12c4edd31f1b5648fdcb60', 'localhost')\"><pre>1fdcb97afe12c4edd31f1b5648fdcb60</pre></a></td>\n",
       "                        <td style=\"border:0px\">&nbsp;</td>\n",
       "                        <td style=\"border:0px;text-align=right;\">\n",
       "                        <pre><time id=\"duration_localhost_1fdcb97afe12c4edd31f1b5648fdcb60\" datetime=\"1503676288379.2214\">0 sec</time></pre></td>\n",
       "                        </tr>\n",
       "                        </table>"
      ]
     },
     "metadata": {},
     "output_type": "display_data"
    },
    {
     "data": {
      "text/html": [
       "<table id=\"table_localhost_a1ea87634e15dcaffe69779d1232e5aa\" style=\"border: 0px\"><tr style=\"border: 0px\">\n",
       "                        <td style=\"border: 0px\">\n",
       "                        <i id=\"status_localhost_a1ea87634e15dcaffe69779d1232e5aa\"\n",
       "                            class=\"fa fa-2x fa-fw fa-square-o\"\n",
       "                            onmouseover=\"$('#status_localhost_a1ea87634e15dcaffe69779d1232e5aa').addClass('fa-stop').removeClass('fa-square-o')\"\n",
       "                            onmouseleave=\"$('#status_localhost_a1ea87634e15dcaffe69779d1232e5aa').addClass('fa-square-o').removeClass('fa-stop')\"\n",
       "                            onclick=\"kill_task('a1ea87634e15dcaffe69779d1232e5aa', 'localhost')\"\n",
       "                        ></i> </td>\n",
       "                        <td style=\"border:0px\"><a onclick=\"task_info('a1ea87634e15dcaffe69779d1232e5aa', 'localhost')\"><pre>a1ea87634e15dcaffe69779d1232e5aa</pre></a></td>\n",
       "                        <td style=\"border:0px\">&nbsp;</td>\n",
       "                        <td style=\"border:0px;text-align=right;\">\n",
       "                        <pre><time id=\"duration_localhost_a1ea87634e15dcaffe69779d1232e5aa\" datetime=\"1503676288379.626\">0 sec</time></pre></td>\n",
       "                        </tr>\n",
       "                        </table>"
      ]
     },
     "metadata": {},
     "output_type": "display_data"
    },
    {
     "data": {
      "text/html": [
       "<table id=\"table_localhost_5d78b59905000afa850dfe3d7410b6a8\" style=\"border: 0px\"><tr style=\"border: 0px\">\n",
       "                        <td style=\"border: 0px\">\n",
       "                        <i id=\"status_localhost_5d78b59905000afa850dfe3d7410b6a8\"\n",
       "                            class=\"fa fa-2x fa-fw fa-square-o\"\n",
       "                            onmouseover=\"$('#status_localhost_5d78b59905000afa850dfe3d7410b6a8').addClass('fa-stop').removeClass('fa-square-o')\"\n",
       "                            onmouseleave=\"$('#status_localhost_5d78b59905000afa850dfe3d7410b6a8').addClass('fa-square-o').removeClass('fa-stop')\"\n",
       "                            onclick=\"kill_task('5d78b59905000afa850dfe3d7410b6a8', 'localhost')\"\n",
       "                        ></i> </td>\n",
       "                        <td style=\"border:0px\"><a onclick=\"task_info('5d78b59905000afa850dfe3d7410b6a8', 'localhost')\"><pre>5d78b59905000afa850dfe3d7410b6a8</pre></a></td>\n",
       "                        <td style=\"border:0px\">&nbsp;</td>\n",
       "                        <td style=\"border:0px;text-align=right;\">\n",
       "                        <pre><time id=\"duration_localhost_5d78b59905000afa850dfe3d7410b6a8\" datetime=\"1503676288379.9922\">0 sec</time></pre></td>\n",
       "                        </tr>\n",
       "                        </table>"
      ]
     },
     "metadata": {},
     "output_type": "display_data"
    },
    {
     "data": {
      "text/html": [
       "<table id=\"table_localhost_509b970746a872f8d40d2f0d2ef06a13\" style=\"border: 0px\"><tr style=\"border: 0px\">\n",
       "                        <td style=\"border: 0px\">\n",
       "                        <i id=\"status_localhost_509b970746a872f8d40d2f0d2ef06a13\"\n",
       "                            class=\"fa fa-2x fa-fw fa-square-o\"\n",
       "                            onmouseover=\"$('#status_localhost_509b970746a872f8d40d2f0d2ef06a13').addClass('fa-stop').removeClass('fa-square-o')\"\n",
       "                            onmouseleave=\"$('#status_localhost_509b970746a872f8d40d2f0d2ef06a13').addClass('fa-square-o').removeClass('fa-stop')\"\n",
       "                            onclick=\"kill_task('509b970746a872f8d40d2f0d2ef06a13', 'localhost')\"\n",
       "                        ></i> </td>\n",
       "                        <td style=\"border:0px\"><a onclick=\"task_info('509b970746a872f8d40d2f0d2ef06a13', 'localhost')\"><pre>509b970746a872f8d40d2f0d2ef06a13</pre></a></td>\n",
       "                        <td style=\"border:0px\">&nbsp;</td>\n",
       "                        <td style=\"border:0px;text-align=right;\">\n",
       "                        <pre><time id=\"duration_localhost_509b970746a872f8d40d2f0d2ef06a13\" datetime=\"1503676288380.3647\">0 sec</time></pre></td>\n",
       "                        </tr>\n",
       "                        </table>"
      ]
     },
     "metadata": {},
     "output_type": "display_data"
    },
    {
     "data": {
      "text/html": [
       "<table id=\"table_localhost_943b77c5425aff461fed9eea07233139\" style=\"border: 0px\"><tr style=\"border: 0px\">\n",
       "                        <td style=\"border: 0px\">\n",
       "                        <i id=\"status_localhost_943b77c5425aff461fed9eea07233139\"\n",
       "                            class=\"fa fa-2x fa-fw fa-square-o\"\n",
       "                            onmouseover=\"$('#status_localhost_943b77c5425aff461fed9eea07233139').addClass('fa-stop').removeClass('fa-square-o')\"\n",
       "                            onmouseleave=\"$('#status_localhost_943b77c5425aff461fed9eea07233139').addClass('fa-square-o').removeClass('fa-stop')\"\n",
       "                            onclick=\"kill_task('943b77c5425aff461fed9eea07233139', 'localhost')\"\n",
       "                        ></i> </td>\n",
       "                        <td style=\"border:0px\"><a onclick=\"task_info('943b77c5425aff461fed9eea07233139', 'localhost')\"><pre>943b77c5425aff461fed9eea07233139</pre></a></td>\n",
       "                        <td style=\"border:0px\">&nbsp;</td>\n",
       "                        <td style=\"border:0px;text-align=right;\">\n",
       "                        <pre><time id=\"duration_localhost_943b77c5425aff461fed9eea07233139\" datetime=\"1503676288380.8218\">0 sec</time></pre></td>\n",
       "                        </tr>\n",
       "                        </table>"
      ]
     },
     "metadata": {},
     "output_type": "display_data"
    },
    {
     "data": {
      "text/html": [
       "<table id=\"table_localhost_35a10ff3df84632b99925fb5f8a3086a\" style=\"border: 0px\"><tr style=\"border: 0px\">\n",
       "                        <td style=\"border: 0px\">\n",
       "                        <i id=\"status_localhost_35a10ff3df84632b99925fb5f8a3086a\"\n",
       "                            class=\"fa fa-2x fa-fw fa-square-o\"\n",
       "                            onmouseover=\"$('#status_localhost_35a10ff3df84632b99925fb5f8a3086a').addClass('fa-stop').removeClass('fa-square-o')\"\n",
       "                            onmouseleave=\"$('#status_localhost_35a10ff3df84632b99925fb5f8a3086a').addClass('fa-square-o').removeClass('fa-stop')\"\n",
       "                            onclick=\"kill_task('35a10ff3df84632b99925fb5f8a3086a', 'localhost')\"\n",
       "                        ></i> </td>\n",
       "                        <td style=\"border:0px\"><a onclick=\"task_info('35a10ff3df84632b99925fb5f8a3086a', 'localhost')\"><pre>35a10ff3df84632b99925fb5f8a3086a</pre></a></td>\n",
       "                        <td style=\"border:0px\">&nbsp;</td>\n",
       "                        <td style=\"border:0px;text-align=right;\">\n",
       "                        <pre><time id=\"duration_localhost_35a10ff3df84632b99925fb5f8a3086a\" datetime=\"1503676288381.2363\">0 sec</time></pre></td>\n",
       "                        </tr>\n",
       "                        </table>"
      ]
     },
     "metadata": {},
     "output_type": "display_data"
    },
    {
     "data": {
      "text/html": [
       "<table id=\"table_localhost_6ffaaf8775309c69d4772e4ce0c3f7c5\" style=\"border: 0px\"><tr style=\"border: 0px\">\n",
       "                        <td style=\"border: 0px\">\n",
       "                        <i id=\"status_localhost_6ffaaf8775309c69d4772e4ce0c3f7c5\"\n",
       "                            class=\"fa fa-2x fa-fw fa-square-o\"\n",
       "                            onmouseover=\"$('#status_localhost_6ffaaf8775309c69d4772e4ce0c3f7c5').addClass('fa-stop').removeClass('fa-square-o')\"\n",
       "                            onmouseleave=\"$('#status_localhost_6ffaaf8775309c69d4772e4ce0c3f7c5').addClass('fa-square-o').removeClass('fa-stop')\"\n",
       "                            onclick=\"kill_task('6ffaaf8775309c69d4772e4ce0c3f7c5', 'localhost')\"\n",
       "                        ></i> </td>\n",
       "                        <td style=\"border:0px\"><a onclick=\"task_info('6ffaaf8775309c69d4772e4ce0c3f7c5', 'localhost')\"><pre>6ffaaf8775309c69d4772e4ce0c3f7c5</pre></a></td>\n",
       "                        <td style=\"border:0px\">&nbsp;</td>\n",
       "                        <td style=\"border:0px;text-align=right;\">\n",
       "                        <pre><time id=\"duration_localhost_6ffaaf8775309c69d4772e4ce0c3f7c5\" datetime=\"1503676288381.6216\">0 sec</time></pre></td>\n",
       "                        </tr>\n",
       "                        </table>"
      ]
     },
     "metadata": {},
     "output_type": "display_data"
    },
    {
     "data": {
      "text/html": [
       "<table id=\"table_localhost_f7ce47427086a2cc37a0fc9b7a41df27\" style=\"border: 0px\"><tr style=\"border: 0px\">\n",
       "                        <td style=\"border: 0px\">\n",
       "                        <i id=\"status_localhost_f7ce47427086a2cc37a0fc9b7a41df27\"\n",
       "                            class=\"fa fa-2x fa-fw fa-square-o\"\n",
       "                            onmouseover=\"$('#status_localhost_f7ce47427086a2cc37a0fc9b7a41df27').addClass('fa-stop').removeClass('fa-square-o')\"\n",
       "                            onmouseleave=\"$('#status_localhost_f7ce47427086a2cc37a0fc9b7a41df27').addClass('fa-square-o').removeClass('fa-stop')\"\n",
       "                            onclick=\"kill_task('f7ce47427086a2cc37a0fc9b7a41df27', 'localhost')\"\n",
       "                        ></i> </td>\n",
       "                        <td style=\"border:0px\"><a onclick=\"task_info('f7ce47427086a2cc37a0fc9b7a41df27', 'localhost')\"><pre>f7ce47427086a2cc37a0fc9b7a41df27</pre></a></td>\n",
       "                        <td style=\"border:0px\">&nbsp;</td>\n",
       "                        <td style=\"border:0px;text-align=right;\">\n",
       "                        <pre><time id=\"duration_localhost_f7ce47427086a2cc37a0fc9b7a41df27\" datetime=\"1503676288382.0427\">0 sec</time></pre></td>\n",
       "                        </tr>\n",
       "                        </table>"
      ]
     },
     "metadata": {},
     "output_type": "display_data"
    },
    {
     "data": {
      "text/html": [
       "<table id=\"table_localhost_dd44a0ae3452b8c08bd1a4fa77f75236\" style=\"border: 0px\"><tr style=\"border: 0px\">\n",
       "                        <td style=\"border: 0px\">\n",
       "                        <i id=\"status_localhost_dd44a0ae3452b8c08bd1a4fa77f75236\"\n",
       "                            class=\"fa fa-2x fa-fw fa-square-o\"\n",
       "                            onmouseover=\"$('#status_localhost_dd44a0ae3452b8c08bd1a4fa77f75236').addClass('fa-stop').removeClass('fa-square-o')\"\n",
       "                            onmouseleave=\"$('#status_localhost_dd44a0ae3452b8c08bd1a4fa77f75236').addClass('fa-square-o').removeClass('fa-stop')\"\n",
       "                            onclick=\"kill_task('dd44a0ae3452b8c08bd1a4fa77f75236', 'localhost')\"\n",
       "                        ></i> </td>\n",
       "                        <td style=\"border:0px\"><a onclick=\"task_info('dd44a0ae3452b8c08bd1a4fa77f75236', 'localhost')\"><pre>dd44a0ae3452b8c08bd1a4fa77f75236</pre></a></td>\n",
       "                        <td style=\"border:0px\">&nbsp;</td>\n",
       "                        <td style=\"border:0px;text-align=right;\">\n",
       "                        <pre><time id=\"duration_localhost_dd44a0ae3452b8c08bd1a4fa77f75236\" datetime=\"1503676288382.4297\">0 sec</time></pre></td>\n",
       "                        </tr>\n",
       "                        </table>"
      ]
     },
     "metadata": {},
     "output_type": "display_data"
    },
    {
     "data": {
      "text/html": [
       "<table id=\"table_localhost_91ff95e971704a0555134024bb708be9\" style=\"border: 0px\"><tr style=\"border: 0px\">\n",
       "                        <td style=\"border: 0px\">\n",
       "                        <i id=\"status_localhost_91ff95e971704a0555134024bb708be9\"\n",
       "                            class=\"fa fa-2x fa-fw fa-square-o\"\n",
       "                            onmouseover=\"$('#status_localhost_91ff95e971704a0555134024bb708be9').addClass('fa-stop').removeClass('fa-square-o')\"\n",
       "                            onmouseleave=\"$('#status_localhost_91ff95e971704a0555134024bb708be9').addClass('fa-square-o').removeClass('fa-stop')\"\n",
       "                            onclick=\"kill_task('91ff95e971704a0555134024bb708be9', 'localhost')\"\n",
       "                        ></i> </td>\n",
       "                        <td style=\"border:0px\"><a onclick=\"task_info('91ff95e971704a0555134024bb708be9', 'localhost')\"><pre>91ff95e971704a0555134024bb708be9</pre></a></td>\n",
       "                        <td style=\"border:0px\">&nbsp;</td>\n",
       "                        <td style=\"border:0px;text-align=right;\">\n",
       "                        <pre><time id=\"duration_localhost_91ff95e971704a0555134024bb708be9\" datetime=\"1503676288382.8323\">0 sec</time></pre></td>\n",
       "                        </tr>\n",
       "                        </table>"
      ]
     },
     "metadata": {},
     "output_type": "display_data"
    },
    {
     "data": {
      "text/html": [
       "<table id=\"table_localhost_3044d48144d5170732469c8155708ecb\" style=\"border: 0px\"><tr style=\"border: 0px\">\n",
       "                        <td style=\"border: 0px\">\n",
       "                        <i id=\"status_localhost_3044d48144d5170732469c8155708ecb\"\n",
       "                            class=\"fa fa-2x fa-fw fa-square-o\"\n",
       "                            onmouseover=\"$('#status_localhost_3044d48144d5170732469c8155708ecb').addClass('fa-stop').removeClass('fa-square-o')\"\n",
       "                            onmouseleave=\"$('#status_localhost_3044d48144d5170732469c8155708ecb').addClass('fa-square-o').removeClass('fa-stop')\"\n",
       "                            onclick=\"kill_task('3044d48144d5170732469c8155708ecb', 'localhost')\"\n",
       "                        ></i> </td>\n",
       "                        <td style=\"border:0px\"><a onclick=\"task_info('3044d48144d5170732469c8155708ecb', 'localhost')\"><pre>3044d48144d5170732469c8155708ecb</pre></a></td>\n",
       "                        <td style=\"border:0px\">&nbsp;</td>\n",
       "                        <td style=\"border:0px;text-align=right;\">\n",
       "                        <pre><time id=\"duration_localhost_3044d48144d5170732469c8155708ecb\" datetime=\"1503676288383.1887\">0 sec</time></pre></td>\n",
       "                        </tr>\n",
       "                        </table>"
      ]
     },
     "metadata": {},
     "output_type": "display_data"
    },
    {
     "data": {
      "text/html": [
       "<table id=\"table_localhost_f3711502ba6c3390c0f8549e9c957f68\" style=\"border: 0px\"><tr style=\"border: 0px\">\n",
       "                        <td style=\"border: 0px\">\n",
       "                        <i id=\"status_localhost_f3711502ba6c3390c0f8549e9c957f68\"\n",
       "                            class=\"fa fa-2x fa-fw fa-square-o\"\n",
       "                            onmouseover=\"$('#status_localhost_f3711502ba6c3390c0f8549e9c957f68').addClass('fa-stop').removeClass('fa-square-o')\"\n",
       "                            onmouseleave=\"$('#status_localhost_f3711502ba6c3390c0f8549e9c957f68').addClass('fa-square-o').removeClass('fa-stop')\"\n",
       "                            onclick=\"kill_task('f3711502ba6c3390c0f8549e9c957f68', 'localhost')\"\n",
       "                        ></i> </td>\n",
       "                        <td style=\"border:0px\"><a onclick=\"task_info('f3711502ba6c3390c0f8549e9c957f68', 'localhost')\"><pre>f3711502ba6c3390c0f8549e9c957f68</pre></a></td>\n",
       "                        <td style=\"border:0px\">&nbsp;</td>\n",
       "                        <td style=\"border:0px;text-align=right;\">\n",
       "                        <pre><time id=\"duration_localhost_f3711502ba6c3390c0f8549e9c957f68\" datetime=\"1503676288383.5122\">0 sec</time></pre></td>\n",
       "                        </tr>\n",
       "                        </table>"
      ]
     },
     "metadata": {},
     "output_type": "display_data"
    },
    {
     "data": {
      "text/html": [
       "<table id=\"table_localhost_a0a6ecbe033c866f4a0ae593b5fcb957\" style=\"border: 0px\"><tr style=\"border: 0px\">\n",
       "                        <td style=\"border: 0px\">\n",
       "                        <i id=\"status_localhost_a0a6ecbe033c866f4a0ae593b5fcb957\"\n",
       "                            class=\"fa fa-2x fa-fw fa-square-o\"\n",
       "                            onmouseover=\"$('#status_localhost_a0a6ecbe033c866f4a0ae593b5fcb957').addClass('fa-stop').removeClass('fa-square-o')\"\n",
       "                            onmouseleave=\"$('#status_localhost_a0a6ecbe033c866f4a0ae593b5fcb957').addClass('fa-square-o').removeClass('fa-stop')\"\n",
       "                            onclick=\"kill_task('a0a6ecbe033c866f4a0ae593b5fcb957', 'localhost')\"\n",
       "                        ></i> </td>\n",
       "                        <td style=\"border:0px\"><a onclick=\"task_info('a0a6ecbe033c866f4a0ae593b5fcb957', 'localhost')\"><pre>a0a6ecbe033c866f4a0ae593b5fcb957</pre></a></td>\n",
       "                        <td style=\"border:0px\">&nbsp;</td>\n",
       "                        <td style=\"border:0px;text-align=right;\">\n",
       "                        <pre><time id=\"duration_localhost_a0a6ecbe033c866f4a0ae593b5fcb957\" datetime=\"1503676288383.8674\">0 sec</time></pre></td>\n",
       "                        </tr>\n",
       "                        </table>"
      ]
     },
     "metadata": {},
     "output_type": "display_data"
    },
    {
     "data": {
      "text/html": [
       "<table id=\"table_localhost_5fee95c7e90fcc6c83830c32f1f44d30\" style=\"border: 0px\"><tr style=\"border: 0px\">\n",
       "                        <td style=\"border: 0px\">\n",
       "                        <i id=\"status_localhost_5fee95c7e90fcc6c83830c32f1f44d30\"\n",
       "                            class=\"fa fa-2x fa-fw fa-square-o\"\n",
       "                            onmouseover=\"$('#status_localhost_5fee95c7e90fcc6c83830c32f1f44d30').addClass('fa-stop').removeClass('fa-square-o')\"\n",
       "                            onmouseleave=\"$('#status_localhost_5fee95c7e90fcc6c83830c32f1f44d30').addClass('fa-square-o').removeClass('fa-stop')\"\n",
       "                            onclick=\"kill_task('5fee95c7e90fcc6c83830c32f1f44d30', 'localhost')\"\n",
       "                        ></i> </td>\n",
       "                        <td style=\"border:0px\"><a onclick=\"task_info('5fee95c7e90fcc6c83830c32f1f44d30', 'localhost')\"><pre>5fee95c7e90fcc6c83830c32f1f44d30</pre></a></td>\n",
       "                        <td style=\"border:0px\">&nbsp;</td>\n",
       "                        <td style=\"border:0px;text-align=right;\">\n",
       "                        <pre><time id=\"duration_localhost_5fee95c7e90fcc6c83830c32f1f44d30\" datetime=\"1503676288384.2427\">0 sec</time></pre></td>\n",
       "                        </tr>\n",
       "                        </table>"
      ]
     },
     "metadata": {},
     "output_type": "display_data"
    },
    {
     "data": {
      "text/html": [
       "<table id=\"table_localhost_b92193678a42b2d0007a3de66a603b45\" style=\"border: 0px\"><tr style=\"border: 0px\">\n",
       "                        <td style=\"border: 0px\">\n",
       "                        <i id=\"status_localhost_b92193678a42b2d0007a3de66a603b45\"\n",
       "                            class=\"fa fa-2x fa-fw fa-square-o\"\n",
       "                            onmouseover=\"$('#status_localhost_b92193678a42b2d0007a3de66a603b45').addClass('fa-stop').removeClass('fa-square-o')\"\n",
       "                            onmouseleave=\"$('#status_localhost_b92193678a42b2d0007a3de66a603b45').addClass('fa-square-o').removeClass('fa-stop')\"\n",
       "                            onclick=\"kill_task('b92193678a42b2d0007a3de66a603b45', 'localhost')\"\n",
       "                        ></i> </td>\n",
       "                        <td style=\"border:0px\"><a onclick=\"task_info('b92193678a42b2d0007a3de66a603b45', 'localhost')\"><pre>b92193678a42b2d0007a3de66a603b45</pre></a></td>\n",
       "                        <td style=\"border:0px\">&nbsp;</td>\n",
       "                        <td style=\"border:0px;text-align=right;\">\n",
       "                        <pre><time id=\"duration_localhost_b92193678a42b2d0007a3de66a603b45\" datetime=\"1503676288384.591\">0 sec</time></pre></td>\n",
       "                        </tr>\n",
       "                        </table>"
      ]
     },
     "metadata": {},
     "output_type": "display_data"
    },
    {
     "data": {
      "text/html": [
       "<table id=\"table_localhost_0d36442951510307d30384c469d9b896\" style=\"border: 0px\"><tr style=\"border: 0px\">\n",
       "                        <td style=\"border: 0px\">\n",
       "                        <i id=\"status_localhost_0d36442951510307d30384c469d9b896\"\n",
       "                            class=\"fa fa-2x fa-fw fa-square-o\"\n",
       "                            onmouseover=\"$('#status_localhost_0d36442951510307d30384c469d9b896').addClass('fa-stop').removeClass('fa-square-o')\"\n",
       "                            onmouseleave=\"$('#status_localhost_0d36442951510307d30384c469d9b896').addClass('fa-square-o').removeClass('fa-stop')\"\n",
       "                            onclick=\"kill_task('0d36442951510307d30384c469d9b896', 'localhost')\"\n",
       "                        ></i> </td>\n",
       "                        <td style=\"border:0px\"><a onclick=\"task_info('0d36442951510307d30384c469d9b896', 'localhost')\"><pre>0d36442951510307d30384c469d9b896</pre></a></td>\n",
       "                        <td style=\"border:0px\">&nbsp;</td>\n",
       "                        <td style=\"border:0px;text-align=right;\">\n",
       "                        <pre><time id=\"duration_localhost_0d36442951510307d30384c469d9b896\" datetime=\"1503676288384.9905\">0 sec</time></pre></td>\n",
       "                        </tr>\n",
       "                        </table>"
      ]
     },
     "metadata": {},
     "output_type": "display_data"
    },
    {
     "data": {
      "text/html": [
       "<table id=\"table_localhost_12c253951f5ef4f56ca840bb2f0c7ced\" style=\"border: 0px\"><tr style=\"border: 0px\">\n",
       "                        <td style=\"border: 0px\">\n",
       "                        <i id=\"status_localhost_12c253951f5ef4f56ca840bb2f0c7ced\"\n",
       "                            class=\"fa fa-2x fa-fw fa-square-o\"\n",
       "                            onmouseover=\"$('#status_localhost_12c253951f5ef4f56ca840bb2f0c7ced').addClass('fa-stop').removeClass('fa-square-o')\"\n",
       "                            onmouseleave=\"$('#status_localhost_12c253951f5ef4f56ca840bb2f0c7ced').addClass('fa-square-o').removeClass('fa-stop')\"\n",
       "                            onclick=\"kill_task('12c253951f5ef4f56ca840bb2f0c7ced', 'localhost')\"\n",
       "                        ></i> </td>\n",
       "                        <td style=\"border:0px\"><a onclick=\"task_info('12c253951f5ef4f56ca840bb2f0c7ced', 'localhost')\"><pre>12c253951f5ef4f56ca840bb2f0c7ced</pre></a></td>\n",
       "                        <td style=\"border:0px\">&nbsp;</td>\n",
       "                        <td style=\"border:0px;text-align=right;\">\n",
       "                        <pre><time id=\"duration_localhost_12c253951f5ef4f56ca840bb2f0c7ced\" datetime=\"1503676288385.3286\">0 sec</time></pre></td>\n",
       "                        </tr>\n",
       "                        </table>"
      ]
     },
     "metadata": {},
     "output_type": "display_data"
    },
    {
     "data": {
      "text/html": [
       "<table id=\"table_localhost_cb2efbc3732dca4d370c6d5640192765\" style=\"border: 0px\"><tr style=\"border: 0px\">\n",
       "                        <td style=\"border: 0px\">\n",
       "                        <i id=\"status_localhost_cb2efbc3732dca4d370c6d5640192765\"\n",
       "                            class=\"fa fa-2x fa-fw fa-square-o\"\n",
       "                            onmouseover=\"$('#status_localhost_cb2efbc3732dca4d370c6d5640192765').addClass('fa-stop').removeClass('fa-square-o')\"\n",
       "                            onmouseleave=\"$('#status_localhost_cb2efbc3732dca4d370c6d5640192765').addClass('fa-square-o').removeClass('fa-stop')\"\n",
       "                            onclick=\"kill_task('cb2efbc3732dca4d370c6d5640192765', 'localhost')\"\n",
       "                        ></i> </td>\n",
       "                        <td style=\"border:0px\"><a onclick=\"task_info('cb2efbc3732dca4d370c6d5640192765', 'localhost')\"><pre>cb2efbc3732dca4d370c6d5640192765</pre></a></td>\n",
       "                        <td style=\"border:0px\">&nbsp;</td>\n",
       "                        <td style=\"border:0px;text-align=right;\">\n",
       "                        <pre><time id=\"duration_localhost_cb2efbc3732dca4d370c6d5640192765\" datetime=\"1503676288385.6558\">0 sec</time></pre></td>\n",
       "                        </tr>\n",
       "                        </table>"
      ]
     },
     "metadata": {},
     "output_type": "display_data"
    },
    {
     "data": {
      "text/html": [
       "<table id=\"table_localhost_6f24302668f8163dc299b7966f77ec4a\" style=\"border: 0px\"><tr style=\"border: 0px\">\n",
       "                        <td style=\"border: 0px\">\n",
       "                        <i id=\"status_localhost_6f24302668f8163dc299b7966f77ec4a\"\n",
       "                            class=\"fa fa-2x fa-fw fa-square-o\"\n",
       "                            onmouseover=\"$('#status_localhost_6f24302668f8163dc299b7966f77ec4a').addClass('fa-stop').removeClass('fa-square-o')\"\n",
       "                            onmouseleave=\"$('#status_localhost_6f24302668f8163dc299b7966f77ec4a').addClass('fa-square-o').removeClass('fa-stop')\"\n",
       "                            onclick=\"kill_task('6f24302668f8163dc299b7966f77ec4a', 'localhost')\"\n",
       "                        ></i> </td>\n",
       "                        <td style=\"border:0px\"><a onclick=\"task_info('6f24302668f8163dc299b7966f77ec4a', 'localhost')\"><pre>6f24302668f8163dc299b7966f77ec4a</pre></a></td>\n",
       "                        <td style=\"border:0px\">&nbsp;</td>\n",
       "                        <td style=\"border:0px;text-align=right;\">\n",
       "                        <pre><time id=\"duration_localhost_6f24302668f8163dc299b7966f77ec4a\" datetime=\"1503676288386.0564\">0 sec</time></pre></td>\n",
       "                        </tr>\n",
       "                        </table>"
      ]
     },
     "metadata": {},
     "output_type": "display_data"
    },
    {
     "data": {
      "text/html": [
       "<table id=\"table_localhost_2f848843b2db18f33ba773819e71c3fc\" style=\"border: 0px\"><tr style=\"border: 0px\">\n",
       "                        <td style=\"border: 0px\">\n",
       "                        <i id=\"status_localhost_2f848843b2db18f33ba773819e71c3fc\"\n",
       "                            class=\"fa fa-2x fa-fw fa-square-o\"\n",
       "                            onmouseover=\"$('#status_localhost_2f848843b2db18f33ba773819e71c3fc').addClass('fa-stop').removeClass('fa-square-o')\"\n",
       "                            onmouseleave=\"$('#status_localhost_2f848843b2db18f33ba773819e71c3fc').addClass('fa-square-o').removeClass('fa-stop')\"\n",
       "                            onclick=\"kill_task('2f848843b2db18f33ba773819e71c3fc', 'localhost')\"\n",
       "                        ></i> </td>\n",
       "                        <td style=\"border:0px\"><a onclick=\"task_info('2f848843b2db18f33ba773819e71c3fc', 'localhost')\"><pre>2f848843b2db18f33ba773819e71c3fc</pre></a></td>\n",
       "                        <td style=\"border:0px\">&nbsp;</td>\n",
       "                        <td style=\"border:0px;text-align=right;\">\n",
       "                        <pre><time id=\"duration_localhost_2f848843b2db18f33ba773819e71c3fc\" datetime=\"1503676288386.5723\">0 sec</time></pre></td>\n",
       "                        </tr>\n",
       "                        </table>"
      ]
     },
     "metadata": {},
     "output_type": "display_data"
    },
    {
     "data": {
      "text/html": [
       "<table id=\"table_localhost_84893ead04cbc18a77a3a6b219d43177\" style=\"border: 0px\"><tr style=\"border: 0px\">\n",
       "                        <td style=\"border: 0px\">\n",
       "                        <i id=\"status_localhost_84893ead04cbc18a77a3a6b219d43177\"\n",
       "                            class=\"fa fa-2x fa-fw fa-square-o\"\n",
       "                            onmouseover=\"$('#status_localhost_84893ead04cbc18a77a3a6b219d43177').addClass('fa-stop').removeClass('fa-square-o')\"\n",
       "                            onmouseleave=\"$('#status_localhost_84893ead04cbc18a77a3a6b219d43177').addClass('fa-square-o').removeClass('fa-stop')\"\n",
       "                            onclick=\"kill_task('84893ead04cbc18a77a3a6b219d43177', 'localhost')\"\n",
       "                        ></i> </td>\n",
       "                        <td style=\"border:0px\"><a onclick=\"task_info('84893ead04cbc18a77a3a6b219d43177', 'localhost')\"><pre>84893ead04cbc18a77a3a6b219d43177</pre></a></td>\n",
       "                        <td style=\"border:0px\">&nbsp;</td>\n",
       "                        <td style=\"border:0px;text-align=right;\">\n",
       "                        <pre><time id=\"duration_localhost_84893ead04cbc18a77a3a6b219d43177\" datetime=\"1503676288386.894\">0 sec</time></pre></td>\n",
       "                        </tr>\n",
       "                        </table>"
      ]
     },
     "metadata": {},
     "output_type": "display_data"
    },
    {
     "data": {
      "text/html": [
       "<table id=\"table_localhost_0422aeedf3357d13e328983f7b6a77b4\" style=\"border: 0px\"><tr style=\"border: 0px\">\n",
       "                        <td style=\"border: 0px\">\n",
       "                        <i id=\"status_localhost_0422aeedf3357d13e328983f7b6a77b4\"\n",
       "                            class=\"fa fa-2x fa-fw fa-square-o\"\n",
       "                            onmouseover=\"$('#status_localhost_0422aeedf3357d13e328983f7b6a77b4').addClass('fa-stop').removeClass('fa-square-o')\"\n",
       "                            onmouseleave=\"$('#status_localhost_0422aeedf3357d13e328983f7b6a77b4').addClass('fa-square-o').removeClass('fa-stop')\"\n",
       "                            onclick=\"kill_task('0422aeedf3357d13e328983f7b6a77b4', 'localhost')\"\n",
       "                        ></i> </td>\n",
       "                        <td style=\"border:0px\"><a onclick=\"task_info('0422aeedf3357d13e328983f7b6a77b4', 'localhost')\"><pre>0422aeedf3357d13e328983f7b6a77b4</pre></a></td>\n",
       "                        <td style=\"border:0px\">&nbsp;</td>\n",
       "                        <td style=\"border:0px;text-align=right;\">\n",
       "                        <pre><time id=\"duration_localhost_0422aeedf3357d13e328983f7b6a77b4\" datetime=\"1503676288387.2693\">0 sec</time></pre></td>\n",
       "                        </tr>\n",
       "                        </table>"
      ]
     },
     "metadata": {},
     "output_type": "display_data"
    },
    {
     "data": {
      "text/html": [
       "<table id=\"table_localhost_c4e30c18daa2437811af7e351c3f968c\" style=\"border: 0px\"><tr style=\"border: 0px\">\n",
       "                        <td style=\"border: 0px\">\n",
       "                        <i id=\"status_localhost_c4e30c18daa2437811af7e351c3f968c\"\n",
       "                            class=\"fa fa-2x fa-fw fa-square-o\"\n",
       "                            onmouseover=\"$('#status_localhost_c4e30c18daa2437811af7e351c3f968c').addClass('fa-stop').removeClass('fa-square-o')\"\n",
       "                            onmouseleave=\"$('#status_localhost_c4e30c18daa2437811af7e351c3f968c').addClass('fa-square-o').removeClass('fa-stop')\"\n",
       "                            onclick=\"kill_task('c4e30c18daa2437811af7e351c3f968c', 'localhost')\"\n",
       "                        ></i> </td>\n",
       "                        <td style=\"border:0px\"><a onclick=\"task_info('c4e30c18daa2437811af7e351c3f968c', 'localhost')\"><pre>c4e30c18daa2437811af7e351c3f968c</pre></a></td>\n",
       "                        <td style=\"border:0px\">&nbsp;</td>\n",
       "                        <td style=\"border:0px;text-align=right;\">\n",
       "                        <pre><time id=\"duration_localhost_c4e30c18daa2437811af7e351c3f968c\" datetime=\"1503676288387.651\">0 sec</time></pre></td>\n",
       "                        </tr>\n",
       "                        </table>"
      ]
     },
     "metadata": {},
     "output_type": "display_data"
    },
    {
     "data": {
      "text/html": [
       "<table id=\"table_localhost_723683b7c5c4ea114c48704f034ef94e\" style=\"border: 0px\"><tr style=\"border: 0px\">\n",
       "                        <td style=\"border: 0px\">\n",
       "                        <i id=\"status_localhost_723683b7c5c4ea114c48704f034ef94e\"\n",
       "                            class=\"fa fa-2x fa-fw fa-square-o\"\n",
       "                            onmouseover=\"$('#status_localhost_723683b7c5c4ea114c48704f034ef94e').addClass('fa-stop').removeClass('fa-square-o')\"\n",
       "                            onmouseleave=\"$('#status_localhost_723683b7c5c4ea114c48704f034ef94e').addClass('fa-square-o').removeClass('fa-stop')\"\n",
       "                            onclick=\"kill_task('723683b7c5c4ea114c48704f034ef94e', 'localhost')\"\n",
       "                        ></i> </td>\n",
       "                        <td style=\"border:0px\"><a onclick=\"task_info('723683b7c5c4ea114c48704f034ef94e', 'localhost')\"><pre>723683b7c5c4ea114c48704f034ef94e</pre></a></td>\n",
       "                        <td style=\"border:0px\">&nbsp;</td>\n",
       "                        <td style=\"border:0px;text-align=right;\">\n",
       "                        <pre><time id=\"duration_localhost_723683b7c5c4ea114c48704f034ef94e\" datetime=\"1503676288388.039\">0 sec</time></pre></td>\n",
       "                        </tr>\n",
       "                        </table>"
      ]
     },
     "metadata": {},
     "output_type": "display_data"
    },
    {
     "data": {
      "text/html": [
       "<table id=\"table_localhost_a2e7daf0e0cdb0c5c5ea6a8bc42f1485\" style=\"border: 0px\"><tr style=\"border: 0px\">\n",
       "                        <td style=\"border: 0px\">\n",
       "                        <i id=\"status_localhost_a2e7daf0e0cdb0c5c5ea6a8bc42f1485\"\n",
       "                            class=\"fa fa-2x fa-fw fa-square-o\"\n",
       "                            onmouseover=\"$('#status_localhost_a2e7daf0e0cdb0c5c5ea6a8bc42f1485').addClass('fa-stop').removeClass('fa-square-o')\"\n",
       "                            onmouseleave=\"$('#status_localhost_a2e7daf0e0cdb0c5c5ea6a8bc42f1485').addClass('fa-square-o').removeClass('fa-stop')\"\n",
       "                            onclick=\"kill_task('a2e7daf0e0cdb0c5c5ea6a8bc42f1485', 'localhost')\"\n",
       "                        ></i> </td>\n",
       "                        <td style=\"border:0px\"><a onclick=\"task_info('a2e7daf0e0cdb0c5c5ea6a8bc42f1485', 'localhost')\"><pre>a2e7daf0e0cdb0c5c5ea6a8bc42f1485</pre></a></td>\n",
       "                        <td style=\"border:0px\">&nbsp;</td>\n",
       "                        <td style=\"border:0px;text-align=right;\">\n",
       "                        <pre><time id=\"duration_localhost_a2e7daf0e0cdb0c5c5ea6a8bc42f1485\" datetime=\"1503676288388.4792\">0 sec</time></pre></td>\n",
       "                        </tr>\n",
       "                        </table>"
      ]
     },
     "metadata": {},
     "output_type": "display_data"
    },
    {
     "data": {
      "text/html": [
       "<table id=\"table_localhost_97b1296c34c14398c4b8108569565a7d\" style=\"border: 0px\"><tr style=\"border: 0px\">\n",
       "                        <td style=\"border: 0px\">\n",
       "                        <i id=\"status_localhost_97b1296c34c14398c4b8108569565a7d\"\n",
       "                            class=\"fa fa-2x fa-fw fa-square-o\"\n",
       "                            onmouseover=\"$('#status_localhost_97b1296c34c14398c4b8108569565a7d').addClass('fa-stop').removeClass('fa-square-o')\"\n",
       "                            onmouseleave=\"$('#status_localhost_97b1296c34c14398c4b8108569565a7d').addClass('fa-square-o').removeClass('fa-stop')\"\n",
       "                            onclick=\"kill_task('97b1296c34c14398c4b8108569565a7d', 'localhost')\"\n",
       "                        ></i> </td>\n",
       "                        <td style=\"border:0px\"><a onclick=\"task_info('97b1296c34c14398c4b8108569565a7d', 'localhost')\"><pre>97b1296c34c14398c4b8108569565a7d</pre></a></td>\n",
       "                        <td style=\"border:0px\">&nbsp;</td>\n",
       "                        <td style=\"border:0px;text-align=right;\">\n",
       "                        <pre><time id=\"duration_localhost_97b1296c34c14398c4b8108569565a7d\" datetime=\"1503676288388.8335\">0 sec</time></pre></td>\n",
       "                        </tr>\n",
       "                        </table>"
      ]
     },
     "metadata": {},
     "output_type": "display_data"
    },
    {
     "data": {
      "text/html": [
       "<table id=\"table_localhost_3cb87a4b15f91ada07434a0b9c2f4a47\" style=\"border: 0px\"><tr style=\"border: 0px\">\n",
       "                        <td style=\"border: 0px\">\n",
       "                        <i id=\"status_localhost_3cb87a4b15f91ada07434a0b9c2f4a47\"\n",
       "                            class=\"fa fa-2x fa-fw fa-square-o\"\n",
       "                            onmouseover=\"$('#status_localhost_3cb87a4b15f91ada07434a0b9c2f4a47').addClass('fa-stop').removeClass('fa-square-o')\"\n",
       "                            onmouseleave=\"$('#status_localhost_3cb87a4b15f91ada07434a0b9c2f4a47').addClass('fa-square-o').removeClass('fa-stop')\"\n",
       "                            onclick=\"kill_task('3cb87a4b15f91ada07434a0b9c2f4a47', 'localhost')\"\n",
       "                        ></i> </td>\n",
       "                        <td style=\"border:0px\"><a onclick=\"task_info('3cb87a4b15f91ada07434a0b9c2f4a47', 'localhost')\"><pre>3cb87a4b15f91ada07434a0b9c2f4a47</pre></a></td>\n",
       "                        <td style=\"border:0px\">&nbsp;</td>\n",
       "                        <td style=\"border:0px;text-align=right;\">\n",
       "                        <pre><time id=\"duration_localhost_3cb87a4b15f91ada07434a0b9c2f4a47\" datetime=\"1503676288389.1768\">0 sec</time></pre></td>\n",
       "                        </tr>\n",
       "                        </table>"
      ]
     },
     "metadata": {},
     "output_type": "display_data"
    },
    {
     "data": {
      "text/html": [
       "<table id=\"table_localhost_d64eb48f07daf9df43fda6e45edb1c86\" style=\"border: 0px\"><tr style=\"border: 0px\">\n",
       "                        <td style=\"border: 0px\">\n",
       "                        <i id=\"status_localhost_d64eb48f07daf9df43fda6e45edb1c86\"\n",
       "                            class=\"fa fa-2x fa-fw fa-square-o\"\n",
       "                            onmouseover=\"$('#status_localhost_d64eb48f07daf9df43fda6e45edb1c86').addClass('fa-stop').removeClass('fa-square-o')\"\n",
       "                            onmouseleave=\"$('#status_localhost_d64eb48f07daf9df43fda6e45edb1c86').addClass('fa-square-o').removeClass('fa-stop')\"\n",
       "                            onclick=\"kill_task('d64eb48f07daf9df43fda6e45edb1c86', 'localhost')\"\n",
       "                        ></i> </td>\n",
       "                        <td style=\"border:0px\"><a onclick=\"task_info('d64eb48f07daf9df43fda6e45edb1c86', 'localhost')\"><pre>d64eb48f07daf9df43fda6e45edb1c86</pre></a></td>\n",
       "                        <td style=\"border:0px\">&nbsp;</td>\n",
       "                        <td style=\"border:0px;text-align=right;\">\n",
       "                        <pre><time id=\"duration_localhost_d64eb48f07daf9df43fda6e45edb1c86\" datetime=\"1503676288389.5803\">0 sec</time></pre></td>\n",
       "                        </tr>\n",
       "                        </table>"
      ]
     },
     "metadata": {},
     "output_type": "display_data"
    },
    {
     "data": {
      "text/html": [
       "<table id=\"table_localhost_93ae104bd8718554606c36e1d7884474\" style=\"border: 0px\"><tr style=\"border: 0px\">\n",
       "                        <td style=\"border: 0px\">\n",
       "                        <i id=\"status_localhost_93ae104bd8718554606c36e1d7884474\"\n",
       "                            class=\"fa fa-2x fa-fw fa-square-o\"\n",
       "                            onmouseover=\"$('#status_localhost_93ae104bd8718554606c36e1d7884474').addClass('fa-stop').removeClass('fa-square-o')\"\n",
       "                            onmouseleave=\"$('#status_localhost_93ae104bd8718554606c36e1d7884474').addClass('fa-square-o').removeClass('fa-stop')\"\n",
       "                            onclick=\"kill_task('93ae104bd8718554606c36e1d7884474', 'localhost')\"\n",
       "                        ></i> </td>\n",
       "                        <td style=\"border:0px\"><a onclick=\"task_info('93ae104bd8718554606c36e1d7884474', 'localhost')\"><pre>93ae104bd8718554606c36e1d7884474</pre></a></td>\n",
       "                        <td style=\"border:0px\">&nbsp;</td>\n",
       "                        <td style=\"border:0px;text-align=right;\">\n",
       "                        <pre><time id=\"duration_localhost_93ae104bd8718554606c36e1d7884474\" datetime=\"1503676288389.9585\">0 sec</time></pre></td>\n",
       "                        </tr>\n",
       "                        </table>"
      ]
     },
     "metadata": {},
     "output_type": "display_data"
    },
    {
     "data": {
      "text/html": [
       "<table id=\"table_localhost_907da0d90d1d0e1d1359a81e0798fb9d\" style=\"border: 0px\"><tr style=\"border: 0px\">\n",
       "                        <td style=\"border: 0px\">\n",
       "                        <i id=\"status_localhost_907da0d90d1d0e1d1359a81e0798fb9d\"\n",
       "                            class=\"fa fa-2x fa-fw fa-square-o\"\n",
       "                            onmouseover=\"$('#status_localhost_907da0d90d1d0e1d1359a81e0798fb9d').addClass('fa-stop').removeClass('fa-square-o')\"\n",
       "                            onmouseleave=\"$('#status_localhost_907da0d90d1d0e1d1359a81e0798fb9d').addClass('fa-square-o').removeClass('fa-stop')\"\n",
       "                            onclick=\"kill_task('907da0d90d1d0e1d1359a81e0798fb9d', 'localhost')\"\n",
       "                        ></i> </td>\n",
       "                        <td style=\"border:0px\"><a onclick=\"task_info('907da0d90d1d0e1d1359a81e0798fb9d', 'localhost')\"><pre>907da0d90d1d0e1d1359a81e0798fb9d</pre></a></td>\n",
       "                        <td style=\"border:0px\">&nbsp;</td>\n",
       "                        <td style=\"border:0px;text-align=right;\">\n",
       "                        <pre><time id=\"duration_localhost_907da0d90d1d0e1d1359a81e0798fb9d\" datetime=\"1503676288390.3445\">0 sec</time></pre></td>\n",
       "                        </tr>\n",
       "                        </table>"
      ]
     },
     "metadata": {},
     "output_type": "display_data"
    },
    {
     "data": {
      "text/html": [
       "<table id=\"table_localhost_36497935cfb4374477489d167d78c4ce\" style=\"border: 0px\"><tr style=\"border: 0px\">\n",
       "                        <td style=\"border: 0px\">\n",
       "                        <i id=\"status_localhost_36497935cfb4374477489d167d78c4ce\"\n",
       "                            class=\"fa fa-2x fa-fw fa-square-o\"\n",
       "                            onmouseover=\"$('#status_localhost_36497935cfb4374477489d167d78c4ce').addClass('fa-stop').removeClass('fa-square-o')\"\n",
       "                            onmouseleave=\"$('#status_localhost_36497935cfb4374477489d167d78c4ce').addClass('fa-square-o').removeClass('fa-stop')\"\n",
       "                            onclick=\"kill_task('36497935cfb4374477489d167d78c4ce', 'localhost')\"\n",
       "                        ></i> </td>\n",
       "                        <td style=\"border:0px\"><a onclick=\"task_info('36497935cfb4374477489d167d78c4ce', 'localhost')\"><pre>36497935cfb4374477489d167d78c4ce</pre></a></td>\n",
       "                        <td style=\"border:0px\">&nbsp;</td>\n",
       "                        <td style=\"border:0px;text-align=right;\">\n",
       "                        <pre><time id=\"duration_localhost_36497935cfb4374477489d167d78c4ce\" datetime=\"1503676288390.7087\">0 sec</time></pre></td>\n",
       "                        </tr>\n",
       "                        </table>"
      ]
     },
     "metadata": {},
     "output_type": "display_data"
    },
    {
     "data": {
      "text/html": [
       "<table id=\"table_localhost_f8f411dd71addb4a0d65164d6ccac8d5\" style=\"border: 0px\"><tr style=\"border: 0px\">\n",
       "                        <td style=\"border: 0px\">\n",
       "                        <i id=\"status_localhost_f8f411dd71addb4a0d65164d6ccac8d5\"\n",
       "                            class=\"fa fa-2x fa-fw fa-square-o\"\n",
       "                            onmouseover=\"$('#status_localhost_f8f411dd71addb4a0d65164d6ccac8d5').addClass('fa-stop').removeClass('fa-square-o')\"\n",
       "                            onmouseleave=\"$('#status_localhost_f8f411dd71addb4a0d65164d6ccac8d5').addClass('fa-square-o').removeClass('fa-stop')\"\n",
       "                            onclick=\"kill_task('f8f411dd71addb4a0d65164d6ccac8d5', 'localhost')\"\n",
       "                        ></i> </td>\n",
       "                        <td style=\"border:0px\"><a onclick=\"task_info('f8f411dd71addb4a0d65164d6ccac8d5', 'localhost')\"><pre>f8f411dd71addb4a0d65164d6ccac8d5</pre></a></td>\n",
       "                        <td style=\"border:0px\">&nbsp;</td>\n",
       "                        <td style=\"border:0px;text-align=right;\">\n",
       "                        <pre><time id=\"duration_localhost_f8f411dd71addb4a0d65164d6ccac8d5\" datetime=\"1503676288391.0237\">0 sec</time></pre></td>\n",
       "                        </tr>\n",
       "                        </table>"
      ]
     },
     "metadata": {},
     "output_type": "display_data"
    },
    {
     "data": {
      "text/html": [
       "<table id=\"table_localhost_ce418591d43b22f0e5fd30b92306f384\" style=\"border: 0px\"><tr style=\"border: 0px\">\n",
       "                        <td style=\"border: 0px\">\n",
       "                        <i id=\"status_localhost_ce418591d43b22f0e5fd30b92306f384\"\n",
       "                            class=\"fa fa-2x fa-fw fa-square-o\"\n",
       "                            onmouseover=\"$('#status_localhost_ce418591d43b22f0e5fd30b92306f384').addClass('fa-stop').removeClass('fa-square-o')\"\n",
       "                            onmouseleave=\"$('#status_localhost_ce418591d43b22f0e5fd30b92306f384').addClass('fa-square-o').removeClass('fa-stop')\"\n",
       "                            onclick=\"kill_task('ce418591d43b22f0e5fd30b92306f384', 'localhost')\"\n",
       "                        ></i> </td>\n",
       "                        <td style=\"border:0px\"><a onclick=\"task_info('ce418591d43b22f0e5fd30b92306f384', 'localhost')\"><pre>ce418591d43b22f0e5fd30b92306f384</pre></a></td>\n",
       "                        <td style=\"border:0px\">&nbsp;</td>\n",
       "                        <td style=\"border:0px;text-align=right;\">\n",
       "                        <pre><time id=\"duration_localhost_ce418591d43b22f0e5fd30b92306f384\" datetime=\"1503676288391.4358\">0 sec</time></pre></td>\n",
       "                        </tr>\n",
       "                        </table>"
      ]
     },
     "metadata": {},
     "output_type": "display_data"
    },
    {
     "data": {
      "text/html": [
       "<table id=\"table_localhost_fadcd5b0e9ef358f7e35227933a2adfb\" style=\"border: 0px\"><tr style=\"border: 0px\">\n",
       "                        <td style=\"border: 0px\">\n",
       "                        <i id=\"status_localhost_fadcd5b0e9ef358f7e35227933a2adfb\"\n",
       "                            class=\"fa fa-2x fa-fw fa-square-o\"\n",
       "                            onmouseover=\"$('#status_localhost_fadcd5b0e9ef358f7e35227933a2adfb').addClass('fa-stop').removeClass('fa-square-o')\"\n",
       "                            onmouseleave=\"$('#status_localhost_fadcd5b0e9ef358f7e35227933a2adfb').addClass('fa-square-o').removeClass('fa-stop')\"\n",
       "                            onclick=\"kill_task('fadcd5b0e9ef358f7e35227933a2adfb', 'localhost')\"\n",
       "                        ></i> </td>\n",
       "                        <td style=\"border:0px\"><a onclick=\"task_info('fadcd5b0e9ef358f7e35227933a2adfb', 'localhost')\"><pre>fadcd5b0e9ef358f7e35227933a2adfb</pre></a></td>\n",
       "                        <td style=\"border:0px\">&nbsp;</td>\n",
       "                        <td style=\"border:0px;text-align=right;\">\n",
       "                        <pre><time id=\"duration_localhost_fadcd5b0e9ef358f7e35227933a2adfb\" datetime=\"1503676288391.789\">0 sec</time></pre></td>\n",
       "                        </tr>\n",
       "                        </table>"
      ]
     },
     "metadata": {},
     "output_type": "display_data"
    },
    {
     "data": {
      "text/html": [
       "<table id=\"table_localhost_02b2ebddb482610e45ec78bafdadb075\" style=\"border: 0px\"><tr style=\"border: 0px\">\n",
       "                        <td style=\"border: 0px\">\n",
       "                        <i id=\"status_localhost_02b2ebddb482610e45ec78bafdadb075\"\n",
       "                            class=\"fa fa-2x fa-fw fa-square-o\"\n",
       "                            onmouseover=\"$('#status_localhost_02b2ebddb482610e45ec78bafdadb075').addClass('fa-stop').removeClass('fa-square-o')\"\n",
       "                            onmouseleave=\"$('#status_localhost_02b2ebddb482610e45ec78bafdadb075').addClass('fa-square-o').removeClass('fa-stop')\"\n",
       "                            onclick=\"kill_task('02b2ebddb482610e45ec78bafdadb075', 'localhost')\"\n",
       "                        ></i> </td>\n",
       "                        <td style=\"border:0px\"><a onclick=\"task_info('02b2ebddb482610e45ec78bafdadb075', 'localhost')\"><pre>02b2ebddb482610e45ec78bafdadb075</pre></a></td>\n",
       "                        <td style=\"border:0px\">&nbsp;</td>\n",
       "                        <td style=\"border:0px;text-align=right;\">\n",
       "                        <pre><time id=\"duration_localhost_02b2ebddb482610e45ec78bafdadb075\" datetime=\"1503676288392.1143\">0 sec</time></pre></td>\n",
       "                        </tr>\n",
       "                        </table>"
      ]
     },
     "metadata": {},
     "output_type": "display_data"
    },
    {
     "data": {
      "text/html": [
       "<table id=\"table_localhost_30944718436822cada008ee392f7adc4\" style=\"border: 0px\"><tr style=\"border: 0px\">\n",
       "                        <td style=\"border: 0px\">\n",
       "                        <i id=\"status_localhost_30944718436822cada008ee392f7adc4\"\n",
       "                            class=\"fa fa-2x fa-fw fa-square-o\"\n",
       "                            onmouseover=\"$('#status_localhost_30944718436822cada008ee392f7adc4').addClass('fa-stop').removeClass('fa-square-o')\"\n",
       "                            onmouseleave=\"$('#status_localhost_30944718436822cada008ee392f7adc4').addClass('fa-square-o').removeClass('fa-stop')\"\n",
       "                            onclick=\"kill_task('30944718436822cada008ee392f7adc4', 'localhost')\"\n",
       "                        ></i> </td>\n",
       "                        <td style=\"border:0px\"><a onclick=\"task_info('30944718436822cada008ee392f7adc4', 'localhost')\"><pre>30944718436822cada008ee392f7adc4</pre></a></td>\n",
       "                        <td style=\"border:0px\">&nbsp;</td>\n",
       "                        <td style=\"border:0px;text-align=right;\">\n",
       "                        <pre><time id=\"duration_localhost_30944718436822cada008ee392f7adc4\" datetime=\"1503676288392.3997\">0 sec</time></pre></td>\n",
       "                        </tr>\n",
       "                        </table>"
      ]
     },
     "metadata": {},
     "output_type": "display_data"
    },
    {
     "data": {
      "text/html": [
       "<table id=\"table_localhost_de36bf709a8474f7e7343e8018462d8d\" style=\"border: 0px\"><tr style=\"border: 0px\">\n",
       "                        <td style=\"border: 0px\">\n",
       "                        <i id=\"status_localhost_de36bf709a8474f7e7343e8018462d8d\"\n",
       "                            class=\"fa fa-2x fa-fw fa-square-o\"\n",
       "                            onmouseover=\"$('#status_localhost_de36bf709a8474f7e7343e8018462d8d').addClass('fa-stop').removeClass('fa-square-o')\"\n",
       "                            onmouseleave=\"$('#status_localhost_de36bf709a8474f7e7343e8018462d8d').addClass('fa-square-o').removeClass('fa-stop')\"\n",
       "                            onclick=\"kill_task('de36bf709a8474f7e7343e8018462d8d', 'localhost')\"\n",
       "                        ></i> </td>\n",
       "                        <td style=\"border:0px\"><a onclick=\"task_info('de36bf709a8474f7e7343e8018462d8d', 'localhost')\"><pre>de36bf709a8474f7e7343e8018462d8d</pre></a></td>\n",
       "                        <td style=\"border:0px\">&nbsp;</td>\n",
       "                        <td style=\"border:0px;text-align=right;\">\n",
       "                        <pre><time id=\"duration_localhost_de36bf709a8474f7e7343e8018462d8d\" datetime=\"1503676288392.7263\">0 sec</time></pre></td>\n",
       "                        </tr>\n",
       "                        </table>"
      ]
     },
     "metadata": {},
     "output_type": "display_data"
    },
    {
     "data": {
      "text/html": [
       "<table id=\"table_localhost_23e0e55a7cea9ce04915d5e7ce67b1e9\" style=\"border: 0px\"><tr style=\"border: 0px\">\n",
       "                        <td style=\"border: 0px\">\n",
       "                        <i id=\"status_localhost_23e0e55a7cea9ce04915d5e7ce67b1e9\"\n",
       "                            class=\"fa fa-2x fa-fw fa-square-o\"\n",
       "                            onmouseover=\"$('#status_localhost_23e0e55a7cea9ce04915d5e7ce67b1e9').addClass('fa-stop').removeClass('fa-square-o')\"\n",
       "                            onmouseleave=\"$('#status_localhost_23e0e55a7cea9ce04915d5e7ce67b1e9').addClass('fa-square-o').removeClass('fa-stop')\"\n",
       "                            onclick=\"kill_task('23e0e55a7cea9ce04915d5e7ce67b1e9', 'localhost')\"\n",
       "                        ></i> </td>\n",
       "                        <td style=\"border:0px\"><a onclick=\"task_info('23e0e55a7cea9ce04915d5e7ce67b1e9', 'localhost')\"><pre>23e0e55a7cea9ce04915d5e7ce67b1e9</pre></a></td>\n",
       "                        <td style=\"border:0px\">&nbsp;</td>\n",
       "                        <td style=\"border:0px;text-align=right;\">\n",
       "                        <pre><time id=\"duration_localhost_23e0e55a7cea9ce04915d5e7ce67b1e9\" datetime=\"1503676288393.0752\">0 sec</time></pre></td>\n",
       "                        </tr>\n",
       "                        </table>"
      ]
     },
     "metadata": {},
     "output_type": "display_data"
    },
    {
     "data": {
      "text/html": [
       "<table id=\"table_localhost_1dcee4252bb51418e8f7c8ea26e898b8\" style=\"border: 0px\"><tr style=\"border: 0px\">\n",
       "                        <td style=\"border: 0px\">\n",
       "                        <i id=\"status_localhost_1dcee4252bb51418e8f7c8ea26e898b8\"\n",
       "                            class=\"fa fa-2x fa-fw fa-square-o\"\n",
       "                            onmouseover=\"$('#status_localhost_1dcee4252bb51418e8f7c8ea26e898b8').addClass('fa-stop').removeClass('fa-square-o')\"\n",
       "                            onmouseleave=\"$('#status_localhost_1dcee4252bb51418e8f7c8ea26e898b8').addClass('fa-square-o').removeClass('fa-stop')\"\n",
       "                            onclick=\"kill_task('1dcee4252bb51418e8f7c8ea26e898b8', 'localhost')\"\n",
       "                        ></i> </td>\n",
       "                        <td style=\"border:0px\"><a onclick=\"task_info('1dcee4252bb51418e8f7c8ea26e898b8', 'localhost')\"><pre>1dcee4252bb51418e8f7c8ea26e898b8</pre></a></td>\n",
       "                        <td style=\"border:0px\">&nbsp;</td>\n",
       "                        <td style=\"border:0px;text-align=right;\">\n",
       "                        <pre><time id=\"duration_localhost_1dcee4252bb51418e8f7c8ea26e898b8\" datetime=\"1503676288393.4055\">0 sec</time></pre></td>\n",
       "                        </tr>\n",
       "                        </table>"
      ]
     },
     "metadata": {},
     "output_type": "display_data"
    },
    {
     "data": {
      "text/html": [
       "<table id=\"table_localhost_d38f5d1e15f791a7fe4e0ca18225514d\" style=\"border: 0px\"><tr style=\"border: 0px\">\n",
       "                        <td style=\"border: 0px\">\n",
       "                        <i id=\"status_localhost_d38f5d1e15f791a7fe4e0ca18225514d\"\n",
       "                            class=\"fa fa-2x fa-fw fa-square-o\"\n",
       "                            onmouseover=\"$('#status_localhost_d38f5d1e15f791a7fe4e0ca18225514d').addClass('fa-stop').removeClass('fa-square-o')\"\n",
       "                            onmouseleave=\"$('#status_localhost_d38f5d1e15f791a7fe4e0ca18225514d').addClass('fa-square-o').removeClass('fa-stop')\"\n",
       "                            onclick=\"kill_task('d38f5d1e15f791a7fe4e0ca18225514d', 'localhost')\"\n",
       "                        ></i> </td>\n",
       "                        <td style=\"border:0px\"><a onclick=\"task_info('d38f5d1e15f791a7fe4e0ca18225514d', 'localhost')\"><pre>d38f5d1e15f791a7fe4e0ca18225514d</pre></a></td>\n",
       "                        <td style=\"border:0px\">&nbsp;</td>\n",
       "                        <td style=\"border:0px;text-align=right;\">\n",
       "                        <pre><time id=\"duration_localhost_d38f5d1e15f791a7fe4e0ca18225514d\" datetime=\"1503676288393.8433\">0 sec</time></pre></td>\n",
       "                        </tr>\n",
       "                        </table>"
      ]
     },
     "metadata": {},
     "output_type": "display_data"
    },
    {
     "data": {
      "text/html": [
       "<table id=\"table_localhost_a7b1bfb3b3687a71e7fb751f177681af\" style=\"border: 0px\"><tr style=\"border: 0px\">\n",
       "                        <td style=\"border: 0px\">\n",
       "                        <i id=\"status_localhost_a7b1bfb3b3687a71e7fb751f177681af\"\n",
       "                            class=\"fa fa-2x fa-fw fa-square-o\"\n",
       "                            onmouseover=\"$('#status_localhost_a7b1bfb3b3687a71e7fb751f177681af').addClass('fa-stop').removeClass('fa-square-o')\"\n",
       "                            onmouseleave=\"$('#status_localhost_a7b1bfb3b3687a71e7fb751f177681af').addClass('fa-square-o').removeClass('fa-stop')\"\n",
       "                            onclick=\"kill_task('a7b1bfb3b3687a71e7fb751f177681af', 'localhost')\"\n",
       "                        ></i> </td>\n",
       "                        <td style=\"border:0px\"><a onclick=\"task_info('a7b1bfb3b3687a71e7fb751f177681af', 'localhost')\"><pre>a7b1bfb3b3687a71e7fb751f177681af</pre></a></td>\n",
       "                        <td style=\"border:0px\">&nbsp;</td>\n",
       "                        <td style=\"border:0px;text-align=right;\">\n",
       "                        <pre><time id=\"duration_localhost_a7b1bfb3b3687a71e7fb751f177681af\" datetime=\"1503676288394.1875\">0 sec</time></pre></td>\n",
       "                        </tr>\n",
       "                        </table>"
      ]
     },
     "metadata": {},
     "output_type": "display_data"
    },
    {
     "data": {
      "text/html": [
       "<table id=\"table_localhost_94ea68881d5e76b2d46d19d4a162dc90\" style=\"border: 0px\"><tr style=\"border: 0px\">\n",
       "                        <td style=\"border: 0px\">\n",
       "                        <i id=\"status_localhost_94ea68881d5e76b2d46d19d4a162dc90\"\n",
       "                            class=\"fa fa-2x fa-fw fa-square-o\"\n",
       "                            onmouseover=\"$('#status_localhost_94ea68881d5e76b2d46d19d4a162dc90').addClass('fa-stop').removeClass('fa-square-o')\"\n",
       "                            onmouseleave=\"$('#status_localhost_94ea68881d5e76b2d46d19d4a162dc90').addClass('fa-square-o').removeClass('fa-stop')\"\n",
       "                            onclick=\"kill_task('94ea68881d5e76b2d46d19d4a162dc90', 'localhost')\"\n",
       "                        ></i> </td>\n",
       "                        <td style=\"border:0px\"><a onclick=\"task_info('94ea68881d5e76b2d46d19d4a162dc90', 'localhost')\"><pre>94ea68881d5e76b2d46d19d4a162dc90</pre></a></td>\n",
       "                        <td style=\"border:0px\">&nbsp;</td>\n",
       "                        <td style=\"border:0px;text-align=right;\">\n",
       "                        <pre><time id=\"duration_localhost_94ea68881d5e76b2d46d19d4a162dc90\" datetime=\"1503676288394.598\">0 sec</time></pre></td>\n",
       "                        </tr>\n",
       "                        </table>"
      ]
     },
     "metadata": {},
     "output_type": "display_data"
    },
    {
     "data": {
      "text/html": [
       "<table id=\"table_localhost_81f77fe06427a5503511f664b5f7d226\" style=\"border: 0px\"><tr style=\"border: 0px\">\n",
       "                        <td style=\"border: 0px\">\n",
       "                        <i id=\"status_localhost_81f77fe06427a5503511f664b5f7d226\"\n",
       "                            class=\"fa fa-2x fa-fw fa-square-o\"\n",
       "                            onmouseover=\"$('#status_localhost_81f77fe06427a5503511f664b5f7d226').addClass('fa-stop').removeClass('fa-square-o')\"\n",
       "                            onmouseleave=\"$('#status_localhost_81f77fe06427a5503511f664b5f7d226').addClass('fa-square-o').removeClass('fa-stop')\"\n",
       "                            onclick=\"kill_task('81f77fe06427a5503511f664b5f7d226', 'localhost')\"\n",
       "                        ></i> </td>\n",
       "                        <td style=\"border:0px\"><a onclick=\"task_info('81f77fe06427a5503511f664b5f7d226', 'localhost')\"><pre>81f77fe06427a5503511f664b5f7d226</pre></a></td>\n",
       "                        <td style=\"border:0px\">&nbsp;</td>\n",
       "                        <td style=\"border:0px;text-align=right;\">\n",
       "                        <pre><time id=\"duration_localhost_81f77fe06427a5503511f664b5f7d226\" datetime=\"1503676288394.946\">0 sec</time></pre></td>\n",
       "                        </tr>\n",
       "                        </table>"
      ]
     },
     "metadata": {},
     "output_type": "display_data"
    },
    {
     "data": {
      "text/html": [
       "<table id=\"table_localhost_e9bf851bbb609796971e5efdf61c15eb\" style=\"border: 0px\"><tr style=\"border: 0px\">\n",
       "                        <td style=\"border: 0px\">\n",
       "                        <i id=\"status_localhost_e9bf851bbb609796971e5efdf61c15eb\"\n",
       "                            class=\"fa fa-2x fa-fw fa-square-o\"\n",
       "                            onmouseover=\"$('#status_localhost_e9bf851bbb609796971e5efdf61c15eb').addClass('fa-stop').removeClass('fa-square-o')\"\n",
       "                            onmouseleave=\"$('#status_localhost_e9bf851bbb609796971e5efdf61c15eb').addClass('fa-square-o').removeClass('fa-stop')\"\n",
       "                            onclick=\"kill_task('e9bf851bbb609796971e5efdf61c15eb', 'localhost')\"\n",
       "                        ></i> </td>\n",
       "                        <td style=\"border:0px\"><a onclick=\"task_info('e9bf851bbb609796971e5efdf61c15eb', 'localhost')\"><pre>e9bf851bbb609796971e5efdf61c15eb</pre></a></td>\n",
       "                        <td style=\"border:0px\">&nbsp;</td>\n",
       "                        <td style=\"border:0px;text-align=right;\">\n",
       "                        <pre><time id=\"duration_localhost_e9bf851bbb609796971e5efdf61c15eb\" datetime=\"1503676288395.394\">0 sec</time></pre></td>\n",
       "                        </tr>\n",
       "                        </table>"
      ]
     },
     "metadata": {},
     "output_type": "display_data"
    },
    {
     "data": {
      "text/html": [
       "<table id=\"table_localhost_a3368fb29ad8ef027f7b7d34807ae6bf\" style=\"border: 0px\"><tr style=\"border: 0px\">\n",
       "                        <td style=\"border: 0px\">\n",
       "                        <i id=\"status_localhost_a3368fb29ad8ef027f7b7d34807ae6bf\"\n",
       "                            class=\"fa fa-2x fa-fw fa-square-o\"\n",
       "                            onmouseover=\"$('#status_localhost_a3368fb29ad8ef027f7b7d34807ae6bf').addClass('fa-stop').removeClass('fa-square-o')\"\n",
       "                            onmouseleave=\"$('#status_localhost_a3368fb29ad8ef027f7b7d34807ae6bf').addClass('fa-square-o').removeClass('fa-stop')\"\n",
       "                            onclick=\"kill_task('a3368fb29ad8ef027f7b7d34807ae6bf', 'localhost')\"\n",
       "                        ></i> </td>\n",
       "                        <td style=\"border:0px\"><a onclick=\"task_info('a3368fb29ad8ef027f7b7d34807ae6bf', 'localhost')\"><pre>a3368fb29ad8ef027f7b7d34807ae6bf</pre></a></td>\n",
       "                        <td style=\"border:0px\">&nbsp;</td>\n",
       "                        <td style=\"border:0px;text-align=right;\">\n",
       "                        <pre><time id=\"duration_localhost_a3368fb29ad8ef027f7b7d34807ae6bf\" datetime=\"1503676288395.7595\">0 sec</time></pre></td>\n",
       "                        </tr>\n",
       "                        </table>"
      ]
     },
     "metadata": {},
     "output_type": "display_data"
    },
    {
     "data": {
      "text/html": [
       "<table id=\"table_localhost_d966082a9ba0fd85fa9b6fe28c9bccb3\" style=\"border: 0px\"><tr style=\"border: 0px\">\n",
       "                        <td style=\"border: 0px\">\n",
       "                        <i id=\"status_localhost_d966082a9ba0fd85fa9b6fe28c9bccb3\"\n",
       "                            class=\"fa fa-2x fa-fw fa-square-o\"\n",
       "                            onmouseover=\"$('#status_localhost_d966082a9ba0fd85fa9b6fe28c9bccb3').addClass('fa-stop').removeClass('fa-square-o')\"\n",
       "                            onmouseleave=\"$('#status_localhost_d966082a9ba0fd85fa9b6fe28c9bccb3').addClass('fa-square-o').removeClass('fa-stop')\"\n",
       "                            onclick=\"kill_task('d966082a9ba0fd85fa9b6fe28c9bccb3', 'localhost')\"\n",
       "                        ></i> </td>\n",
       "                        <td style=\"border:0px\"><a onclick=\"task_info('d966082a9ba0fd85fa9b6fe28c9bccb3', 'localhost')\"><pre>d966082a9ba0fd85fa9b6fe28c9bccb3</pre></a></td>\n",
       "                        <td style=\"border:0px\">&nbsp;</td>\n",
       "                        <td style=\"border:0px;text-align=right;\">\n",
       "                        <pre><time id=\"duration_localhost_d966082a9ba0fd85fa9b6fe28c9bccb3\" datetime=\"1503676288396.1758\">0 sec</time></pre></td>\n",
       "                        </tr>\n",
       "                        </table>"
      ]
     },
     "metadata": {},
     "output_type": "display_data"
    },
    {
     "data": {
      "text/html": [
       "<table id=\"table_localhost_86417981cc6b9b6bb0d56a3bf2b60ca5\" style=\"border: 0px\"><tr style=\"border: 0px\">\n",
       "                        <td style=\"border: 0px\">\n",
       "                        <i id=\"status_localhost_86417981cc6b9b6bb0d56a3bf2b60ca5\"\n",
       "                            class=\"fa fa-2x fa-fw fa-square-o\"\n",
       "                            onmouseover=\"$('#status_localhost_86417981cc6b9b6bb0d56a3bf2b60ca5').addClass('fa-stop').removeClass('fa-square-o')\"\n",
       "                            onmouseleave=\"$('#status_localhost_86417981cc6b9b6bb0d56a3bf2b60ca5').addClass('fa-square-o').removeClass('fa-stop')\"\n",
       "                            onclick=\"kill_task('86417981cc6b9b6bb0d56a3bf2b60ca5', 'localhost')\"\n",
       "                        ></i> </td>\n",
       "                        <td style=\"border:0px\"><a onclick=\"task_info('86417981cc6b9b6bb0d56a3bf2b60ca5', 'localhost')\"><pre>86417981cc6b9b6bb0d56a3bf2b60ca5</pre></a></td>\n",
       "                        <td style=\"border:0px\">&nbsp;</td>\n",
       "                        <td style=\"border:0px;text-align=right;\">\n",
       "                        <pre><time id=\"duration_localhost_86417981cc6b9b6bb0d56a3bf2b60ca5\" datetime=\"1503676288396.5332\">0 sec</time></pre></td>\n",
       "                        </tr>\n",
       "                        </table>"
      ]
     },
     "metadata": {},
     "output_type": "display_data"
    },
    {
     "data": {
      "text/html": [
       "<table id=\"table_localhost_3d56b73263ab8efb6bbd176a885e7c56\" style=\"border: 0px\"><tr style=\"border: 0px\">\n",
       "                        <td style=\"border: 0px\">\n",
       "                        <i id=\"status_localhost_3d56b73263ab8efb6bbd176a885e7c56\"\n",
       "                            class=\"fa fa-2x fa-fw fa-square-o\"\n",
       "                            onmouseover=\"$('#status_localhost_3d56b73263ab8efb6bbd176a885e7c56').addClass('fa-stop').removeClass('fa-square-o')\"\n",
       "                            onmouseleave=\"$('#status_localhost_3d56b73263ab8efb6bbd176a885e7c56').addClass('fa-square-o').removeClass('fa-stop')\"\n",
       "                            onclick=\"kill_task('3d56b73263ab8efb6bbd176a885e7c56', 'localhost')\"\n",
       "                        ></i> </td>\n",
       "                        <td style=\"border:0px\"><a onclick=\"task_info('3d56b73263ab8efb6bbd176a885e7c56', 'localhost')\"><pre>3d56b73263ab8efb6bbd176a885e7c56</pre></a></td>\n",
       "                        <td style=\"border:0px\">&nbsp;</td>\n",
       "                        <td style=\"border:0px;text-align=right;\">\n",
       "                        <pre><time id=\"duration_localhost_3d56b73263ab8efb6bbd176a885e7c56\" datetime=\"1503676288396.9644\">0 sec</time></pre></td>\n",
       "                        </tr>\n",
       "                        </table>"
      ]
     },
     "metadata": {},
     "output_type": "display_data"
    },
    {
     "data": {
      "text/html": [
       "<table id=\"table_localhost_0b02d6a6bed8db4aea32579c4689e451\" style=\"border: 0px\"><tr style=\"border: 0px\">\n",
       "                        <td style=\"border: 0px\">\n",
       "                        <i id=\"status_localhost_0b02d6a6bed8db4aea32579c4689e451\"\n",
       "                            class=\"fa fa-2x fa-fw fa-square-o\"\n",
       "                            onmouseover=\"$('#status_localhost_0b02d6a6bed8db4aea32579c4689e451').addClass('fa-stop').removeClass('fa-square-o')\"\n",
       "                            onmouseleave=\"$('#status_localhost_0b02d6a6bed8db4aea32579c4689e451').addClass('fa-square-o').removeClass('fa-stop')\"\n",
       "                            onclick=\"kill_task('0b02d6a6bed8db4aea32579c4689e451', 'localhost')\"\n",
       "                        ></i> </td>\n",
       "                        <td style=\"border:0px\"><a onclick=\"task_info('0b02d6a6bed8db4aea32579c4689e451', 'localhost')\"><pre>0b02d6a6bed8db4aea32579c4689e451</pre></a></td>\n",
       "                        <td style=\"border:0px\">&nbsp;</td>\n",
       "                        <td style=\"border:0px;text-align=right;\">\n",
       "                        <pre><time id=\"duration_localhost_0b02d6a6bed8db4aea32579c4689e451\" datetime=\"1503676288397.3828\">0 sec</time></pre></td>\n",
       "                        </tr>\n",
       "                        </table>"
      ]
     },
     "metadata": {},
     "output_type": "display_data"
    },
    {
     "data": {
      "text/html": [
       "<table id=\"table_localhost_f550d350069b263b4eda8a125aea1e54\" style=\"border: 0px\"><tr style=\"border: 0px\">\n",
       "                        <td style=\"border: 0px\">\n",
       "                        <i id=\"status_localhost_f550d350069b263b4eda8a125aea1e54\"\n",
       "                            class=\"fa fa-2x fa-fw fa-square-o\"\n",
       "                            onmouseover=\"$('#status_localhost_f550d350069b263b4eda8a125aea1e54').addClass('fa-stop').removeClass('fa-square-o')\"\n",
       "                            onmouseleave=\"$('#status_localhost_f550d350069b263b4eda8a125aea1e54').addClass('fa-square-o').removeClass('fa-stop')\"\n",
       "                            onclick=\"kill_task('f550d350069b263b4eda8a125aea1e54', 'localhost')\"\n",
       "                        ></i> </td>\n",
       "                        <td style=\"border:0px\"><a onclick=\"task_info('f550d350069b263b4eda8a125aea1e54', 'localhost')\"><pre>f550d350069b263b4eda8a125aea1e54</pre></a></td>\n",
       "                        <td style=\"border:0px\">&nbsp;</td>\n",
       "                        <td style=\"border:0px;text-align=right;\">\n",
       "                        <pre><time id=\"duration_localhost_f550d350069b263b4eda8a125aea1e54\" datetime=\"1503676288397.7585\">0 sec</time></pre></td>\n",
       "                        </tr>\n",
       "                        </table>"
      ]
     },
     "metadata": {},
     "output_type": "display_data"
    },
    {
     "data": {
      "text/html": [
       "<table id=\"table_localhost_2f5f9bd9ff219dca870eff0dd856fa8a\" style=\"border: 0px\"><tr style=\"border: 0px\">\n",
       "                        <td style=\"border: 0px\">\n",
       "                        <i id=\"status_localhost_2f5f9bd9ff219dca870eff0dd856fa8a\"\n",
       "                            class=\"fa fa-2x fa-fw fa-square-o\"\n",
       "                            onmouseover=\"$('#status_localhost_2f5f9bd9ff219dca870eff0dd856fa8a').addClass('fa-stop').removeClass('fa-square-o')\"\n",
       "                            onmouseleave=\"$('#status_localhost_2f5f9bd9ff219dca870eff0dd856fa8a').addClass('fa-square-o').removeClass('fa-stop')\"\n",
       "                            onclick=\"kill_task('2f5f9bd9ff219dca870eff0dd856fa8a', 'localhost')\"\n",
       "                        ></i> </td>\n",
       "                        <td style=\"border:0px\"><a onclick=\"task_info('2f5f9bd9ff219dca870eff0dd856fa8a', 'localhost')\"><pre>2f5f9bd9ff219dca870eff0dd856fa8a</pre></a></td>\n",
       "                        <td style=\"border:0px\">&nbsp;</td>\n",
       "                        <td style=\"border:0px;text-align=right;\">\n",
       "                        <pre><time id=\"duration_localhost_2f5f9bd9ff219dca870eff0dd856fa8a\" datetime=\"1503676288398.0884\">0 sec</time></pre></td>\n",
       "                        </tr>\n",
       "                        </table>"
      ]
     },
     "metadata": {},
     "output_type": "display_data"
    },
    {
     "data": {
      "text/html": [
       "<table id=\"table_localhost_0abb984372716a1c62908912113dbb42\" style=\"border: 0px\"><tr style=\"border: 0px\">\n",
       "                        <td style=\"border: 0px\">\n",
       "                        <i id=\"status_localhost_0abb984372716a1c62908912113dbb42\"\n",
       "                            class=\"fa fa-2x fa-fw fa-square-o\"\n",
       "                            onmouseover=\"$('#status_localhost_0abb984372716a1c62908912113dbb42').addClass('fa-stop').removeClass('fa-square-o')\"\n",
       "                            onmouseleave=\"$('#status_localhost_0abb984372716a1c62908912113dbb42').addClass('fa-square-o').removeClass('fa-stop')\"\n",
       "                            onclick=\"kill_task('0abb984372716a1c62908912113dbb42', 'localhost')\"\n",
       "                        ></i> </td>\n",
       "                        <td style=\"border:0px\"><a onclick=\"task_info('0abb984372716a1c62908912113dbb42', 'localhost')\"><pre>0abb984372716a1c62908912113dbb42</pre></a></td>\n",
       "                        <td style=\"border:0px\">&nbsp;</td>\n",
       "                        <td style=\"border:0px;text-align=right;\">\n",
       "                        <pre><time id=\"duration_localhost_0abb984372716a1c62908912113dbb42\" datetime=\"1503676288398.4429\">0 sec</time></pre></td>\n",
       "                        </tr>\n",
       "                        </table>"
      ]
     },
     "metadata": {},
     "output_type": "display_data"
    },
    {
     "data": {
      "text/html": [
       "<table id=\"table_localhost_42d3f904ac610ae58e6f0eeefc44e13c\" style=\"border: 0px\"><tr style=\"border: 0px\">\n",
       "                        <td style=\"border: 0px\">\n",
       "                        <i id=\"status_localhost_42d3f904ac610ae58e6f0eeefc44e13c\"\n",
       "                            class=\"fa fa-2x fa-fw fa-square-o\"\n",
       "                            onmouseover=\"$('#status_localhost_42d3f904ac610ae58e6f0eeefc44e13c').addClass('fa-stop').removeClass('fa-square-o')\"\n",
       "                            onmouseleave=\"$('#status_localhost_42d3f904ac610ae58e6f0eeefc44e13c').addClass('fa-square-o').removeClass('fa-stop')\"\n",
       "                            onclick=\"kill_task('42d3f904ac610ae58e6f0eeefc44e13c', 'localhost')\"\n",
       "                        ></i> </td>\n",
       "                        <td style=\"border:0px\"><a onclick=\"task_info('42d3f904ac610ae58e6f0eeefc44e13c', 'localhost')\"><pre>42d3f904ac610ae58e6f0eeefc44e13c</pre></a></td>\n",
       "                        <td style=\"border:0px\">&nbsp;</td>\n",
       "                        <td style=\"border:0px;text-align=right;\">\n",
       "                        <pre><time id=\"duration_localhost_42d3f904ac610ae58e6f0eeefc44e13c\" datetime=\"1503676288398.7769\">0 sec</time></pre></td>\n",
       "                        </tr>\n",
       "                        </table>"
      ]
     },
     "metadata": {},
     "output_type": "display_data"
    },
    {
     "data": {
      "text/html": [
       "<table id=\"table_localhost_4e10dfa2ad5697fe1570b9b682ac3af8\" style=\"border: 0px\"><tr style=\"border: 0px\">\n",
       "                        <td style=\"border: 0px\">\n",
       "                        <i id=\"status_localhost_4e10dfa2ad5697fe1570b9b682ac3af8\"\n",
       "                            class=\"fa fa-2x fa-fw fa-square-o\"\n",
       "                            onmouseover=\"$('#status_localhost_4e10dfa2ad5697fe1570b9b682ac3af8').addClass('fa-stop').removeClass('fa-square-o')\"\n",
       "                            onmouseleave=\"$('#status_localhost_4e10dfa2ad5697fe1570b9b682ac3af8').addClass('fa-square-o').removeClass('fa-stop')\"\n",
       "                            onclick=\"kill_task('4e10dfa2ad5697fe1570b9b682ac3af8', 'localhost')\"\n",
       "                        ></i> </td>\n",
       "                        <td style=\"border:0px\"><a onclick=\"task_info('4e10dfa2ad5697fe1570b9b682ac3af8', 'localhost')\"><pre>4e10dfa2ad5697fe1570b9b682ac3af8</pre></a></td>\n",
       "                        <td style=\"border:0px\">&nbsp;</td>\n",
       "                        <td style=\"border:0px;text-align=right;\">\n",
       "                        <pre><time id=\"duration_localhost_4e10dfa2ad5697fe1570b9b682ac3af8\" datetime=\"1503676288399.1343\">0 sec</time></pre></td>\n",
       "                        </tr>\n",
       "                        </table>"
      ]
     },
     "metadata": {},
     "output_type": "display_data"
    },
    {
     "data": {
      "text/html": [
       "<table id=\"table_localhost_cb8a5282a5938e332a1df52bdfdea676\" style=\"border: 0px\"><tr style=\"border: 0px\">\n",
       "                        <td style=\"border: 0px\">\n",
       "                        <i id=\"status_localhost_cb8a5282a5938e332a1df52bdfdea676\"\n",
       "                            class=\"fa fa-2x fa-fw fa-square-o\"\n",
       "                            onmouseover=\"$('#status_localhost_cb8a5282a5938e332a1df52bdfdea676').addClass('fa-stop').removeClass('fa-square-o')\"\n",
       "                            onmouseleave=\"$('#status_localhost_cb8a5282a5938e332a1df52bdfdea676').addClass('fa-square-o').removeClass('fa-stop')\"\n",
       "                            onclick=\"kill_task('cb8a5282a5938e332a1df52bdfdea676', 'localhost')\"\n",
       "                        ></i> </td>\n",
       "                        <td style=\"border:0px\"><a onclick=\"task_info('cb8a5282a5938e332a1df52bdfdea676', 'localhost')\"><pre>cb8a5282a5938e332a1df52bdfdea676</pre></a></td>\n",
       "                        <td style=\"border:0px\">&nbsp;</td>\n",
       "                        <td style=\"border:0px;text-align=right;\">\n",
       "                        <pre><time id=\"duration_localhost_cb8a5282a5938e332a1df52bdfdea676\" datetime=\"1503676288399.47\">0 sec</time></pre></td>\n",
       "                        </tr>\n",
       "                        </table>"
      ]
     },
     "metadata": {},
     "output_type": "display_data"
    },
    {
     "data": {
      "text/html": [
       "<table id=\"table_localhost_5d5ac4a25607a16ea702e8a734bae307\" style=\"border: 0px\"><tr style=\"border: 0px\">\n",
       "                        <td style=\"border: 0px\">\n",
       "                        <i id=\"status_localhost_5d5ac4a25607a16ea702e8a734bae307\"\n",
       "                            class=\"fa fa-2x fa-fw fa-square-o\"\n",
       "                            onmouseover=\"$('#status_localhost_5d5ac4a25607a16ea702e8a734bae307').addClass('fa-stop').removeClass('fa-square-o')\"\n",
       "                            onmouseleave=\"$('#status_localhost_5d5ac4a25607a16ea702e8a734bae307').addClass('fa-square-o').removeClass('fa-stop')\"\n",
       "                            onclick=\"kill_task('5d5ac4a25607a16ea702e8a734bae307', 'localhost')\"\n",
       "                        ></i> </td>\n",
       "                        <td style=\"border:0px\"><a onclick=\"task_info('5d5ac4a25607a16ea702e8a734bae307', 'localhost')\"><pre>5d5ac4a25607a16ea702e8a734bae307</pre></a></td>\n",
       "                        <td style=\"border:0px\">&nbsp;</td>\n",
       "                        <td style=\"border:0px;text-align=right;\">\n",
       "                        <pre><time id=\"duration_localhost_5d5ac4a25607a16ea702e8a734bae307\" datetime=\"1503676288399.8037\">0 sec</time></pre></td>\n",
       "                        </tr>\n",
       "                        </table>"
      ]
     },
     "metadata": {},
     "output_type": "display_data"
    },
    {
     "data": {
      "text/html": [
       "<table id=\"table_localhost_a3e2c4c57f82b5dd9702a401479f5490\" style=\"border: 0px\"><tr style=\"border: 0px\">\n",
       "                        <td style=\"border: 0px\">\n",
       "                        <i id=\"status_localhost_a3e2c4c57f82b5dd9702a401479f5490\"\n",
       "                            class=\"fa fa-2x fa-fw fa-square-o\"\n",
       "                            onmouseover=\"$('#status_localhost_a3e2c4c57f82b5dd9702a401479f5490').addClass('fa-stop').removeClass('fa-square-o')\"\n",
       "                            onmouseleave=\"$('#status_localhost_a3e2c4c57f82b5dd9702a401479f5490').addClass('fa-square-o').removeClass('fa-stop')\"\n",
       "                            onclick=\"kill_task('a3e2c4c57f82b5dd9702a401479f5490', 'localhost')\"\n",
       "                        ></i> </td>\n",
       "                        <td style=\"border:0px\"><a onclick=\"task_info('a3e2c4c57f82b5dd9702a401479f5490', 'localhost')\"><pre>a3e2c4c57f82b5dd9702a401479f5490</pre></a></td>\n",
       "                        <td style=\"border:0px\">&nbsp;</td>\n",
       "                        <td style=\"border:0px;text-align=right;\">\n",
       "                        <pre><time id=\"duration_localhost_a3e2c4c57f82b5dd9702a401479f5490\" datetime=\"1503676288400.1438\">0 sec</time></pre></td>\n",
       "                        </tr>\n",
       "                        </table>"
      ]
     },
     "metadata": {},
     "output_type": "display_data"
    },
    {
     "data": {
      "text/html": [
       "<table id=\"table_localhost_0becd69a4765b91f84399f1d6685c3df\" style=\"border: 0px\"><tr style=\"border: 0px\">\n",
       "                        <td style=\"border: 0px\">\n",
       "                        <i id=\"status_localhost_0becd69a4765b91f84399f1d6685c3df\"\n",
       "                            class=\"fa fa-2x fa-fw fa-square-o\"\n",
       "                            onmouseover=\"$('#status_localhost_0becd69a4765b91f84399f1d6685c3df').addClass('fa-stop').removeClass('fa-square-o')\"\n",
       "                            onmouseleave=\"$('#status_localhost_0becd69a4765b91f84399f1d6685c3df').addClass('fa-square-o').removeClass('fa-stop')\"\n",
       "                            onclick=\"kill_task('0becd69a4765b91f84399f1d6685c3df', 'localhost')\"\n",
       "                        ></i> </td>\n",
       "                        <td style=\"border:0px\"><a onclick=\"task_info('0becd69a4765b91f84399f1d6685c3df', 'localhost')\"><pre>0becd69a4765b91f84399f1d6685c3df</pre></a></td>\n",
       "                        <td style=\"border:0px\">&nbsp;</td>\n",
       "                        <td style=\"border:0px;text-align=right;\">\n",
       "                        <pre><time id=\"duration_localhost_0becd69a4765b91f84399f1d6685c3df\" datetime=\"1503676288400.476\">0 sec</time></pre></td>\n",
       "                        </tr>\n",
       "                        </table>"
      ]
     },
     "metadata": {},
     "output_type": "display_data"
    },
    {
     "data": {
      "text/html": [
       "<table id=\"table_localhost_57de15c5ba7186cc38ebe719211e01c4\" style=\"border: 0px\"><tr style=\"border: 0px\">\n",
       "                        <td style=\"border: 0px\">\n",
       "                        <i id=\"status_localhost_57de15c5ba7186cc38ebe719211e01c4\"\n",
       "                            class=\"fa fa-2x fa-fw fa-square-o\"\n",
       "                            onmouseover=\"$('#status_localhost_57de15c5ba7186cc38ebe719211e01c4').addClass('fa-stop').removeClass('fa-square-o')\"\n",
       "                            onmouseleave=\"$('#status_localhost_57de15c5ba7186cc38ebe719211e01c4').addClass('fa-square-o').removeClass('fa-stop')\"\n",
       "                            onclick=\"kill_task('57de15c5ba7186cc38ebe719211e01c4', 'localhost')\"\n",
       "                        ></i> </td>\n",
       "                        <td style=\"border:0px\"><a onclick=\"task_info('57de15c5ba7186cc38ebe719211e01c4', 'localhost')\"><pre>57de15c5ba7186cc38ebe719211e01c4</pre></a></td>\n",
       "                        <td style=\"border:0px\">&nbsp;</td>\n",
       "                        <td style=\"border:0px;text-align=right;\">\n",
       "                        <pre><time id=\"duration_localhost_57de15c5ba7186cc38ebe719211e01c4\" datetime=\"1503676288400.8315\">0 sec</time></pre></td>\n",
       "                        </tr>\n",
       "                        </table>"
      ]
     },
     "metadata": {},
     "output_type": "display_data"
    },
    {
     "data": {
      "text/html": [
       "<table id=\"table_localhost_f7a052bdad90395af6e466ad2cc88f98\" style=\"border: 0px\"><tr style=\"border: 0px\">\n",
       "                        <td style=\"border: 0px\">\n",
       "                        <i id=\"status_localhost_f7a052bdad90395af6e466ad2cc88f98\"\n",
       "                            class=\"fa fa-2x fa-fw fa-square-o\"\n",
       "                            onmouseover=\"$('#status_localhost_f7a052bdad90395af6e466ad2cc88f98').addClass('fa-stop').removeClass('fa-square-o')\"\n",
       "                            onmouseleave=\"$('#status_localhost_f7a052bdad90395af6e466ad2cc88f98').addClass('fa-square-o').removeClass('fa-stop')\"\n",
       "                            onclick=\"kill_task('f7a052bdad90395af6e466ad2cc88f98', 'localhost')\"\n",
       "                        ></i> </td>\n",
       "                        <td style=\"border:0px\"><a onclick=\"task_info('f7a052bdad90395af6e466ad2cc88f98', 'localhost')\"><pre>f7a052bdad90395af6e466ad2cc88f98</pre></a></td>\n",
       "                        <td style=\"border:0px\">&nbsp;</td>\n",
       "                        <td style=\"border:0px;text-align=right;\">\n",
       "                        <pre><time id=\"duration_localhost_f7a052bdad90395af6e466ad2cc88f98\" datetime=\"1503676288401.184\">0 sec</time></pre></td>\n",
       "                        </tr>\n",
       "                        </table>"
      ]
     },
     "metadata": {},
     "output_type": "display_data"
    },
    {
     "data": {
      "text/html": [
       "<table id=\"table_localhost_6f5dc7d5ddc40bf293eb73ae9fa0244c\" style=\"border: 0px\"><tr style=\"border: 0px\">\n",
       "                        <td style=\"border: 0px\">\n",
       "                        <i id=\"status_localhost_6f5dc7d5ddc40bf293eb73ae9fa0244c\"\n",
       "                            class=\"fa fa-2x fa-fw fa-square-o\"\n",
       "                            onmouseover=\"$('#status_localhost_6f5dc7d5ddc40bf293eb73ae9fa0244c').addClass('fa-stop').removeClass('fa-square-o')\"\n",
       "                            onmouseleave=\"$('#status_localhost_6f5dc7d5ddc40bf293eb73ae9fa0244c').addClass('fa-square-o').removeClass('fa-stop')\"\n",
       "                            onclick=\"kill_task('6f5dc7d5ddc40bf293eb73ae9fa0244c', 'localhost')\"\n",
       "                        ></i> </td>\n",
       "                        <td style=\"border:0px\"><a onclick=\"task_info('6f5dc7d5ddc40bf293eb73ae9fa0244c', 'localhost')\"><pre>6f5dc7d5ddc40bf293eb73ae9fa0244c</pre></a></td>\n",
       "                        <td style=\"border:0px\">&nbsp;</td>\n",
       "                        <td style=\"border:0px;text-align=right;\">\n",
       "                        <pre><time id=\"duration_localhost_6f5dc7d5ddc40bf293eb73ae9fa0244c\" datetime=\"1503676288401.4988\">0 sec</time></pre></td>\n",
       "                        </tr>\n",
       "                        </table>"
      ]
     },
     "metadata": {},
     "output_type": "display_data"
    },
    {
     "data": {
      "text/html": [
       "<table id=\"table_localhost_4f884b7754129bc63f71dce78ca13ec5\" style=\"border: 0px\"><tr style=\"border: 0px\">\n",
       "                        <td style=\"border: 0px\">\n",
       "                        <i id=\"status_localhost_4f884b7754129bc63f71dce78ca13ec5\"\n",
       "                            class=\"fa fa-2x fa-fw fa-square-o\"\n",
       "                            onmouseover=\"$('#status_localhost_4f884b7754129bc63f71dce78ca13ec5').addClass('fa-stop').removeClass('fa-square-o')\"\n",
       "                            onmouseleave=\"$('#status_localhost_4f884b7754129bc63f71dce78ca13ec5').addClass('fa-square-o').removeClass('fa-stop')\"\n",
       "                            onclick=\"kill_task('4f884b7754129bc63f71dce78ca13ec5', 'localhost')\"\n",
       "                        ></i> </td>\n",
       "                        <td style=\"border:0px\"><a onclick=\"task_info('4f884b7754129bc63f71dce78ca13ec5', 'localhost')\"><pre>4f884b7754129bc63f71dce78ca13ec5</pre></a></td>\n",
       "                        <td style=\"border:0px\">&nbsp;</td>\n",
       "                        <td style=\"border:0px;text-align=right;\">\n",
       "                        <pre><time id=\"duration_localhost_4f884b7754129bc63f71dce78ca13ec5\" datetime=\"1503676288401.8296\">0 sec</time></pre></td>\n",
       "                        </tr>\n",
       "                        </table>"
      ]
     },
     "metadata": {},
     "output_type": "display_data"
    },
    {
     "data": {
      "text/html": [
       "<table id=\"table_localhost_1d3bffe36a12a8ff709aa9bb2f5b3c7e\" style=\"border: 0px\"><tr style=\"border: 0px\">\n",
       "                        <td style=\"border: 0px\">\n",
       "                        <i id=\"status_localhost_1d3bffe36a12a8ff709aa9bb2f5b3c7e\"\n",
       "                            class=\"fa fa-2x fa-fw fa-square-o\"\n",
       "                            onmouseover=\"$('#status_localhost_1d3bffe36a12a8ff709aa9bb2f5b3c7e').addClass('fa-stop').removeClass('fa-square-o')\"\n",
       "                            onmouseleave=\"$('#status_localhost_1d3bffe36a12a8ff709aa9bb2f5b3c7e').addClass('fa-square-o').removeClass('fa-stop')\"\n",
       "                            onclick=\"kill_task('1d3bffe36a12a8ff709aa9bb2f5b3c7e', 'localhost')\"\n",
       "                        ></i> </td>\n",
       "                        <td style=\"border:0px\"><a onclick=\"task_info('1d3bffe36a12a8ff709aa9bb2f5b3c7e', 'localhost')\"><pre>1d3bffe36a12a8ff709aa9bb2f5b3c7e</pre></a></td>\n",
       "                        <td style=\"border:0px\">&nbsp;</td>\n",
       "                        <td style=\"border:0px;text-align=right;\">\n",
       "                        <pre><time id=\"duration_localhost_1d3bffe36a12a8ff709aa9bb2f5b3c7e\" datetime=\"1503676288402.1455\">0 sec</time></pre></td>\n",
       "                        </tr>\n",
       "                        </table>"
      ]
     },
     "metadata": {},
     "output_type": "display_data"
    },
    {
     "data": {
      "text/html": [
       "<table id=\"table_localhost_349ae2733282ec3a794b211d809032fb\" style=\"border: 0px\"><tr style=\"border: 0px\">\n",
       "                        <td style=\"border: 0px\">\n",
       "                        <i id=\"status_localhost_349ae2733282ec3a794b211d809032fb\"\n",
       "                            class=\"fa fa-2x fa-fw fa-square-o\"\n",
       "                            onmouseover=\"$('#status_localhost_349ae2733282ec3a794b211d809032fb').addClass('fa-stop').removeClass('fa-square-o')\"\n",
       "                            onmouseleave=\"$('#status_localhost_349ae2733282ec3a794b211d809032fb').addClass('fa-square-o').removeClass('fa-stop')\"\n",
       "                            onclick=\"kill_task('349ae2733282ec3a794b211d809032fb', 'localhost')\"\n",
       "                        ></i> </td>\n",
       "                        <td style=\"border:0px\"><a onclick=\"task_info('349ae2733282ec3a794b211d809032fb', 'localhost')\"><pre>349ae2733282ec3a794b211d809032fb</pre></a></td>\n",
       "                        <td style=\"border:0px\">&nbsp;</td>\n",
       "                        <td style=\"border:0px;text-align=right;\">\n",
       "                        <pre><time id=\"duration_localhost_349ae2733282ec3a794b211d809032fb\" datetime=\"1503676288402.4565\">0 sec</time></pre></td>\n",
       "                        </tr>\n",
       "                        </table>"
      ]
     },
     "metadata": {},
     "output_type": "display_data"
    },
    {
     "data": {
      "text/html": [
       "<table id=\"table_localhost_bc3fa20d8e0ad033ea9d47b70712a719\" style=\"border: 0px\"><tr style=\"border: 0px\">\n",
       "                        <td style=\"border: 0px\">\n",
       "                        <i id=\"status_localhost_bc3fa20d8e0ad033ea9d47b70712a719\"\n",
       "                            class=\"fa fa-2x fa-fw fa-square-o\"\n",
       "                            onmouseover=\"$('#status_localhost_bc3fa20d8e0ad033ea9d47b70712a719').addClass('fa-stop').removeClass('fa-square-o')\"\n",
       "                            onmouseleave=\"$('#status_localhost_bc3fa20d8e0ad033ea9d47b70712a719').addClass('fa-square-o').removeClass('fa-stop')\"\n",
       "                            onclick=\"kill_task('bc3fa20d8e0ad033ea9d47b70712a719', 'localhost')\"\n",
       "                        ></i> </td>\n",
       "                        <td style=\"border:0px\"><a onclick=\"task_info('bc3fa20d8e0ad033ea9d47b70712a719', 'localhost')\"><pre>bc3fa20d8e0ad033ea9d47b70712a719</pre></a></td>\n",
       "                        <td style=\"border:0px\">&nbsp;</td>\n",
       "                        <td style=\"border:0px;text-align=right;\">\n",
       "                        <pre><time id=\"duration_localhost_bc3fa20d8e0ad033ea9d47b70712a719\" datetime=\"1503676288402.7644\">0 sec</time></pre></td>\n",
       "                        </tr>\n",
       "                        </table>"
      ]
     },
     "metadata": {},
     "output_type": "display_data"
    },
    {
     "data": {
      "text/html": [
       "<table id=\"table_localhost_3c8577456afbe2cd46fed4e66d427672\" style=\"border: 0px\"><tr style=\"border: 0px\">\n",
       "                        <td style=\"border: 0px\">\n",
       "                        <i id=\"status_localhost_3c8577456afbe2cd46fed4e66d427672\"\n",
       "                            class=\"fa fa-2x fa-fw fa-square-o\"\n",
       "                            onmouseover=\"$('#status_localhost_3c8577456afbe2cd46fed4e66d427672').addClass('fa-stop').removeClass('fa-square-o')\"\n",
       "                            onmouseleave=\"$('#status_localhost_3c8577456afbe2cd46fed4e66d427672').addClass('fa-square-o').removeClass('fa-stop')\"\n",
       "                            onclick=\"kill_task('3c8577456afbe2cd46fed4e66d427672', 'localhost')\"\n",
       "                        ></i> </td>\n",
       "                        <td style=\"border:0px\"><a onclick=\"task_info('3c8577456afbe2cd46fed4e66d427672', 'localhost')\"><pre>3c8577456afbe2cd46fed4e66d427672</pre></a></td>\n",
       "                        <td style=\"border:0px\">&nbsp;</td>\n",
       "                        <td style=\"border:0px;text-align=right;\">\n",
       "                        <pre><time id=\"duration_localhost_3c8577456afbe2cd46fed4e66d427672\" datetime=\"1503676288403.0945\">0 sec</time></pre></td>\n",
       "                        </tr>\n",
       "                        </table>"
      ]
     },
     "metadata": {},
     "output_type": "display_data"
    },
    {
     "data": {
      "text/html": [
       "<table id=\"table_localhost_fdd5fcf503f43f16acd5230e3048565d\" style=\"border: 0px\"><tr style=\"border: 0px\">\n",
       "                        <td style=\"border: 0px\">\n",
       "                        <i id=\"status_localhost_fdd5fcf503f43f16acd5230e3048565d\"\n",
       "                            class=\"fa fa-2x fa-fw fa-square-o\"\n",
       "                            onmouseover=\"$('#status_localhost_fdd5fcf503f43f16acd5230e3048565d').addClass('fa-stop').removeClass('fa-square-o')\"\n",
       "                            onmouseleave=\"$('#status_localhost_fdd5fcf503f43f16acd5230e3048565d').addClass('fa-square-o').removeClass('fa-stop')\"\n",
       "                            onclick=\"kill_task('fdd5fcf503f43f16acd5230e3048565d', 'localhost')\"\n",
       "                        ></i> </td>\n",
       "                        <td style=\"border:0px\"><a onclick=\"task_info('fdd5fcf503f43f16acd5230e3048565d', 'localhost')\"><pre>fdd5fcf503f43f16acd5230e3048565d</pre></a></td>\n",
       "                        <td style=\"border:0px\">&nbsp;</td>\n",
       "                        <td style=\"border:0px;text-align=right;\">\n",
       "                        <pre><time id=\"duration_localhost_fdd5fcf503f43f16acd5230e3048565d\" datetime=\"1503676288403.4138\">0 sec</time></pre></td>\n",
       "                        </tr>\n",
       "                        </table>"
      ]
     },
     "metadata": {},
     "output_type": "display_data"
    },
    {
     "data": {
      "text/html": [
       "<table id=\"table_localhost_284855e367476e1e412797f39394014d\" style=\"border: 0px\"><tr style=\"border: 0px\">\n",
       "                        <td style=\"border: 0px\">\n",
       "                        <i id=\"status_localhost_284855e367476e1e412797f39394014d\"\n",
       "                            class=\"fa fa-2x fa-fw fa-square-o\"\n",
       "                            onmouseover=\"$('#status_localhost_284855e367476e1e412797f39394014d').addClass('fa-stop').removeClass('fa-square-o')\"\n",
       "                            onmouseleave=\"$('#status_localhost_284855e367476e1e412797f39394014d').addClass('fa-square-o').removeClass('fa-stop')\"\n",
       "                            onclick=\"kill_task('284855e367476e1e412797f39394014d', 'localhost')\"\n",
       "                        ></i> </td>\n",
       "                        <td style=\"border:0px\"><a onclick=\"task_info('284855e367476e1e412797f39394014d', 'localhost')\"><pre>284855e367476e1e412797f39394014d</pre></a></td>\n",
       "                        <td style=\"border:0px\">&nbsp;</td>\n",
       "                        <td style=\"border:0px;text-align=right;\">\n",
       "                        <pre><time id=\"duration_localhost_284855e367476e1e412797f39394014d\" datetime=\"1503676288403.7393\">0 sec</time></pre></td>\n",
       "                        </tr>\n",
       "                        </table>"
      ]
     },
     "metadata": {},
     "output_type": "display_data"
    },
    {
     "data": {
      "text/html": [
       "<table id=\"table_localhost_4541d4279c79325ae0b355d26b5d64c0\" style=\"border: 0px\"><tr style=\"border: 0px\">\n",
       "                        <td style=\"border: 0px\">\n",
       "                        <i id=\"status_localhost_4541d4279c79325ae0b355d26b5d64c0\"\n",
       "                            class=\"fa fa-2x fa-fw fa-square-o\"\n",
       "                            onmouseover=\"$('#status_localhost_4541d4279c79325ae0b355d26b5d64c0').addClass('fa-stop').removeClass('fa-square-o')\"\n",
       "                            onmouseleave=\"$('#status_localhost_4541d4279c79325ae0b355d26b5d64c0').addClass('fa-square-o').removeClass('fa-stop')\"\n",
       "                            onclick=\"kill_task('4541d4279c79325ae0b355d26b5d64c0', 'localhost')\"\n",
       "                        ></i> </td>\n",
       "                        <td style=\"border:0px\"><a onclick=\"task_info('4541d4279c79325ae0b355d26b5d64c0', 'localhost')\"><pre>4541d4279c79325ae0b355d26b5d64c0</pre></a></td>\n",
       "                        <td style=\"border:0px\">&nbsp;</td>\n",
       "                        <td style=\"border:0px;text-align=right;\">\n",
       "                        <pre><time id=\"duration_localhost_4541d4279c79325ae0b355d26b5d64c0\" datetime=\"1503676288404.0474\">0 sec</time></pre></td>\n",
       "                        </tr>\n",
       "                        </table>"
      ]
     },
     "metadata": {},
     "output_type": "display_data"
    },
    {
     "data": {
      "text/html": [
       "<table id=\"table_localhost_a031cebd35dac3daa556e312e7e45b60\" style=\"border: 0px\"><tr style=\"border: 0px\">\n",
       "                        <td style=\"border: 0px\">\n",
       "                        <i id=\"status_localhost_a031cebd35dac3daa556e312e7e45b60\"\n",
       "                            class=\"fa fa-2x fa-fw fa-square-o\"\n",
       "                            onmouseover=\"$('#status_localhost_a031cebd35dac3daa556e312e7e45b60').addClass('fa-stop').removeClass('fa-square-o')\"\n",
       "                            onmouseleave=\"$('#status_localhost_a031cebd35dac3daa556e312e7e45b60').addClass('fa-square-o').removeClass('fa-stop')\"\n",
       "                            onclick=\"kill_task('a031cebd35dac3daa556e312e7e45b60', 'localhost')\"\n",
       "                        ></i> </td>\n",
       "                        <td style=\"border:0px\"><a onclick=\"task_info('a031cebd35dac3daa556e312e7e45b60', 'localhost')\"><pre>a031cebd35dac3daa556e312e7e45b60</pre></a></td>\n",
       "                        <td style=\"border:0px\">&nbsp;</td>\n",
       "                        <td style=\"border:0px;text-align=right;\">\n",
       "                        <pre><time id=\"duration_localhost_a031cebd35dac3daa556e312e7e45b60\" datetime=\"1503676288404.3777\">0 sec</time></pre></td>\n",
       "                        </tr>\n",
       "                        </table>"
      ]
     },
     "metadata": {},
     "output_type": "display_data"
    },
    {
     "data": {
      "text/html": [
       "<table id=\"table_localhost_7709e8df4435a40b46f203974274830e\" style=\"border: 0px\"><tr style=\"border: 0px\">\n",
       "                        <td style=\"border: 0px\">\n",
       "                        <i id=\"status_localhost_7709e8df4435a40b46f203974274830e\"\n",
       "                            class=\"fa fa-2x fa-fw fa-square-o\"\n",
       "                            onmouseover=\"$('#status_localhost_7709e8df4435a40b46f203974274830e').addClass('fa-stop').removeClass('fa-square-o')\"\n",
       "                            onmouseleave=\"$('#status_localhost_7709e8df4435a40b46f203974274830e').addClass('fa-square-o').removeClass('fa-stop')\"\n",
       "                            onclick=\"kill_task('7709e8df4435a40b46f203974274830e', 'localhost')\"\n",
       "                        ></i> </td>\n",
       "                        <td style=\"border:0px\"><a onclick=\"task_info('7709e8df4435a40b46f203974274830e', 'localhost')\"><pre>7709e8df4435a40b46f203974274830e</pre></a></td>\n",
       "                        <td style=\"border:0px\">&nbsp;</td>\n",
       "                        <td style=\"border:0px;text-align=right;\">\n",
       "                        <pre><time id=\"duration_localhost_7709e8df4435a40b46f203974274830e\" datetime=\"1503676288404.694\">0 sec</time></pre></td>\n",
       "                        </tr>\n",
       "                        </table>"
      ]
     },
     "metadata": {},
     "output_type": "display_data"
    },
    {
     "data": {
      "text/html": [
       "<table id=\"table_localhost_3f61422b8100de3b60752e9f541cdc20\" style=\"border: 0px\"><tr style=\"border: 0px\">\n",
       "                        <td style=\"border: 0px\">\n",
       "                        <i id=\"status_localhost_3f61422b8100de3b60752e9f541cdc20\"\n",
       "                            class=\"fa fa-2x fa-fw fa-square-o\"\n",
       "                            onmouseover=\"$('#status_localhost_3f61422b8100de3b60752e9f541cdc20').addClass('fa-stop').removeClass('fa-square-o')\"\n",
       "                            onmouseleave=\"$('#status_localhost_3f61422b8100de3b60752e9f541cdc20').addClass('fa-square-o').removeClass('fa-stop')\"\n",
       "                            onclick=\"kill_task('3f61422b8100de3b60752e9f541cdc20', 'localhost')\"\n",
       "                        ></i> </td>\n",
       "                        <td style=\"border:0px\"><a onclick=\"task_info('3f61422b8100de3b60752e9f541cdc20', 'localhost')\"><pre>3f61422b8100de3b60752e9f541cdc20</pre></a></td>\n",
       "                        <td style=\"border:0px\">&nbsp;</td>\n",
       "                        <td style=\"border:0px;text-align=right;\">\n",
       "                        <pre><time id=\"duration_localhost_3f61422b8100de3b60752e9f541cdc20\" datetime=\"1503676288405.0237\">0 sec</time></pre></td>\n",
       "                        </tr>\n",
       "                        </table>"
      ]
     },
     "metadata": {},
     "output_type": "display_data"
    },
    {
     "data": {
      "text/html": [
       "<table id=\"table_localhost_41be8535dfc2fb9a6f47097ada51f2ab\" style=\"border: 0px\"><tr style=\"border: 0px\">\n",
       "                        <td style=\"border: 0px\">\n",
       "                        <i id=\"status_localhost_41be8535dfc2fb9a6f47097ada51f2ab\"\n",
       "                            class=\"fa fa-2x fa-fw fa-square-o\"\n",
       "                            onmouseover=\"$('#status_localhost_41be8535dfc2fb9a6f47097ada51f2ab').addClass('fa-stop').removeClass('fa-square-o')\"\n",
       "                            onmouseleave=\"$('#status_localhost_41be8535dfc2fb9a6f47097ada51f2ab').addClass('fa-square-o').removeClass('fa-stop')\"\n",
       "                            onclick=\"kill_task('41be8535dfc2fb9a6f47097ada51f2ab', 'localhost')\"\n",
       "                        ></i> </td>\n",
       "                        <td style=\"border:0px\"><a onclick=\"task_info('41be8535dfc2fb9a6f47097ada51f2ab', 'localhost')\"><pre>41be8535dfc2fb9a6f47097ada51f2ab</pre></a></td>\n",
       "                        <td style=\"border:0px\">&nbsp;</td>\n",
       "                        <td style=\"border:0px;text-align=right;\">\n",
       "                        <pre><time id=\"duration_localhost_41be8535dfc2fb9a6f47097ada51f2ab\" datetime=\"1503676288405.3542\">0 sec</time></pre></td>\n",
       "                        </tr>\n",
       "                        </table>"
      ]
     },
     "metadata": {},
     "output_type": "display_data"
    },
    {
     "data": {
      "text/html": [
       "<table id=\"table_localhost_1daac651115880e75534c319292856e1\" style=\"border: 0px\"><tr style=\"border: 0px\">\n",
       "                        <td style=\"border: 0px\">\n",
       "                        <i id=\"status_localhost_1daac651115880e75534c319292856e1\"\n",
       "                            class=\"fa fa-2x fa-fw fa-square-o\"\n",
       "                            onmouseover=\"$('#status_localhost_1daac651115880e75534c319292856e1').addClass('fa-stop').removeClass('fa-square-o')\"\n",
       "                            onmouseleave=\"$('#status_localhost_1daac651115880e75534c319292856e1').addClass('fa-square-o').removeClass('fa-stop')\"\n",
       "                            onclick=\"kill_task('1daac651115880e75534c319292856e1', 'localhost')\"\n",
       "                        ></i> </td>\n",
       "                        <td style=\"border:0px\"><a onclick=\"task_info('1daac651115880e75534c319292856e1', 'localhost')\"><pre>1daac651115880e75534c319292856e1</pre></a></td>\n",
       "                        <td style=\"border:0px\">&nbsp;</td>\n",
       "                        <td style=\"border:0px;text-align=right;\">\n",
       "                        <pre><time id=\"duration_localhost_1daac651115880e75534c319292856e1\" datetime=\"1503676288405.668\">0 sec</time></pre></td>\n",
       "                        </tr>\n",
       "                        </table>"
      ]
     },
     "metadata": {},
     "output_type": "display_data"
    },
    {
     "data": {
      "text/html": [
       "<table id=\"table_localhost_53c7493f90fdded71f27e2eeaf92c0a7\" style=\"border: 0px\"><tr style=\"border: 0px\">\n",
       "                        <td style=\"border: 0px\">\n",
       "                        <i id=\"status_localhost_53c7493f90fdded71f27e2eeaf92c0a7\"\n",
       "                            class=\"fa fa-2x fa-fw fa-square-o\"\n",
       "                            onmouseover=\"$('#status_localhost_53c7493f90fdded71f27e2eeaf92c0a7').addClass('fa-stop').removeClass('fa-square-o')\"\n",
       "                            onmouseleave=\"$('#status_localhost_53c7493f90fdded71f27e2eeaf92c0a7').addClass('fa-square-o').removeClass('fa-stop')\"\n",
       "                            onclick=\"kill_task('53c7493f90fdded71f27e2eeaf92c0a7', 'localhost')\"\n",
       "                        ></i> </td>\n",
       "                        <td style=\"border:0px\"><a onclick=\"task_info('53c7493f90fdded71f27e2eeaf92c0a7', 'localhost')\"><pre>53c7493f90fdded71f27e2eeaf92c0a7</pre></a></td>\n",
       "                        <td style=\"border:0px\">&nbsp;</td>\n",
       "                        <td style=\"border:0px;text-align=right;\">\n",
       "                        <pre><time id=\"duration_localhost_53c7493f90fdded71f27e2eeaf92c0a7\" datetime=\"1503676288406.0183\">0 sec</time></pre></td>\n",
       "                        </tr>\n",
       "                        </table>"
      ]
     },
     "metadata": {},
     "output_type": "display_data"
    },
    {
     "data": {
      "text/html": [
       "<table id=\"table_localhost_5cf2a539ab80aed77e7b574cb00c392f\" style=\"border: 0px\"><tr style=\"border: 0px\">\n",
       "                        <td style=\"border: 0px\">\n",
       "                        <i id=\"status_localhost_5cf2a539ab80aed77e7b574cb00c392f\"\n",
       "                            class=\"fa fa-2x fa-fw fa-square-o\"\n",
       "                            onmouseover=\"$('#status_localhost_5cf2a539ab80aed77e7b574cb00c392f').addClass('fa-stop').removeClass('fa-square-o')\"\n",
       "                            onmouseleave=\"$('#status_localhost_5cf2a539ab80aed77e7b574cb00c392f').addClass('fa-square-o').removeClass('fa-stop')\"\n",
       "                            onclick=\"kill_task('5cf2a539ab80aed77e7b574cb00c392f', 'localhost')\"\n",
       "                        ></i> </td>\n",
       "                        <td style=\"border:0px\"><a onclick=\"task_info('5cf2a539ab80aed77e7b574cb00c392f', 'localhost')\"><pre>5cf2a539ab80aed77e7b574cb00c392f</pre></a></td>\n",
       "                        <td style=\"border:0px\">&nbsp;</td>\n",
       "                        <td style=\"border:0px;text-align=right;\">\n",
       "                        <pre><time id=\"duration_localhost_5cf2a539ab80aed77e7b574cb00c392f\" datetime=\"1503676288406.3274\">0 sec</time></pre></td>\n",
       "                        </tr>\n",
       "                        </table>"
      ]
     },
     "metadata": {},
     "output_type": "display_data"
    },
    {
     "data": {
      "text/html": [
       "<table id=\"table_localhost_39f12088da0b42d10043c9845afb84bc\" style=\"border: 0px\"><tr style=\"border: 0px\">\n",
       "                        <td style=\"border: 0px\">\n",
       "                        <i id=\"status_localhost_39f12088da0b42d10043c9845afb84bc\"\n",
       "                            class=\"fa fa-2x fa-fw fa-square-o\"\n",
       "                            onmouseover=\"$('#status_localhost_39f12088da0b42d10043c9845afb84bc').addClass('fa-stop').removeClass('fa-square-o')\"\n",
       "                            onmouseleave=\"$('#status_localhost_39f12088da0b42d10043c9845afb84bc').addClass('fa-square-o').removeClass('fa-stop')\"\n",
       "                            onclick=\"kill_task('39f12088da0b42d10043c9845afb84bc', 'localhost')\"\n",
       "                        ></i> </td>\n",
       "                        <td style=\"border:0px\"><a onclick=\"task_info('39f12088da0b42d10043c9845afb84bc', 'localhost')\"><pre>39f12088da0b42d10043c9845afb84bc</pre></a></td>\n",
       "                        <td style=\"border:0px\">&nbsp;</td>\n",
       "                        <td style=\"border:0px;text-align=right;\">\n",
       "                        <pre><time id=\"duration_localhost_39f12088da0b42d10043c9845afb84bc\" datetime=\"1503676288406.656\">0 sec</time></pre></td>\n",
       "                        </tr>\n",
       "                        </table>"
      ]
     },
     "metadata": {},
     "output_type": "display_data"
    },
    {
     "data": {
      "text/html": [
       "<table id=\"table_localhost_63a0cf577c7fe49ce905e8616278a12a\" style=\"border: 0px\"><tr style=\"border: 0px\">\n",
       "                        <td style=\"border: 0px\">\n",
       "                        <i id=\"status_localhost_63a0cf577c7fe49ce905e8616278a12a\"\n",
       "                            class=\"fa fa-2x fa-fw fa-square-o\"\n",
       "                            onmouseover=\"$('#status_localhost_63a0cf577c7fe49ce905e8616278a12a').addClass('fa-stop').removeClass('fa-square-o')\"\n",
       "                            onmouseleave=\"$('#status_localhost_63a0cf577c7fe49ce905e8616278a12a').addClass('fa-square-o').removeClass('fa-stop')\"\n",
       "                            onclick=\"kill_task('63a0cf577c7fe49ce905e8616278a12a', 'localhost')\"\n",
       "                        ></i> </td>\n",
       "                        <td style=\"border:0px\"><a onclick=\"task_info('63a0cf577c7fe49ce905e8616278a12a', 'localhost')\"><pre>63a0cf577c7fe49ce905e8616278a12a</pre></a></td>\n",
       "                        <td style=\"border:0px\">&nbsp;</td>\n",
       "                        <td style=\"border:0px;text-align=right;\">\n",
       "                        <pre><time id=\"duration_localhost_63a0cf577c7fe49ce905e8616278a12a\" datetime=\"1503676288407.418\">0 sec</time></pre></td>\n",
       "                        </tr>\n",
       "                        </table>"
      ]
     },
     "metadata": {},
     "output_type": "display_data"
    },
    {
     "data": {
      "text/html": [
       "<table id=\"table_localhost_6bebe2f72d054d054a6d8e4c6d609f9d\" style=\"border: 0px\"><tr style=\"border: 0px\">\n",
       "                        <td style=\"border: 0px\">\n",
       "                        <i id=\"status_localhost_6bebe2f72d054d054a6d8e4c6d609f9d\"\n",
       "                            class=\"fa fa-2x fa-fw fa-square-o\"\n",
       "                            onmouseover=\"$('#status_localhost_6bebe2f72d054d054a6d8e4c6d609f9d').addClass('fa-stop').removeClass('fa-square-o')\"\n",
       "                            onmouseleave=\"$('#status_localhost_6bebe2f72d054d054a6d8e4c6d609f9d').addClass('fa-square-o').removeClass('fa-stop')\"\n",
       "                            onclick=\"kill_task('6bebe2f72d054d054a6d8e4c6d609f9d', 'localhost')\"\n",
       "                        ></i> </td>\n",
       "                        <td style=\"border:0px\"><a onclick=\"task_info('6bebe2f72d054d054a6d8e4c6d609f9d', 'localhost')\"><pre>6bebe2f72d054d054a6d8e4c6d609f9d</pre></a></td>\n",
       "                        <td style=\"border:0px\">&nbsp;</td>\n",
       "                        <td style=\"border:0px;text-align=right;\">\n",
       "                        <pre><time id=\"duration_localhost_6bebe2f72d054d054a6d8e4c6d609f9d\" datetime=\"1503676288407.7478\">0 sec</time></pre></td>\n",
       "                        </tr>\n",
       "                        </table>"
      ]
     },
     "metadata": {},
     "output_type": "display_data"
    },
    {
     "data": {
      "text/html": [
       "<table id=\"table_localhost_cc3d0a639dcaecc6b003c96e69ba7be9\" style=\"border: 0px\"><tr style=\"border: 0px\">\n",
       "                        <td style=\"border: 0px\">\n",
       "                        <i id=\"status_localhost_cc3d0a639dcaecc6b003c96e69ba7be9\"\n",
       "                            class=\"fa fa-2x fa-fw fa-square-o\"\n",
       "                            onmouseover=\"$('#status_localhost_cc3d0a639dcaecc6b003c96e69ba7be9').addClass('fa-stop').removeClass('fa-square-o')\"\n",
       "                            onmouseleave=\"$('#status_localhost_cc3d0a639dcaecc6b003c96e69ba7be9').addClass('fa-square-o').removeClass('fa-stop')\"\n",
       "                            onclick=\"kill_task('cc3d0a639dcaecc6b003c96e69ba7be9', 'localhost')\"\n",
       "                        ></i> </td>\n",
       "                        <td style=\"border:0px\"><a onclick=\"task_info('cc3d0a639dcaecc6b003c96e69ba7be9', 'localhost')\"><pre>cc3d0a639dcaecc6b003c96e69ba7be9</pre></a></td>\n",
       "                        <td style=\"border:0px\">&nbsp;</td>\n",
       "                        <td style=\"border:0px;text-align=right;\">\n",
       "                        <pre><time id=\"duration_localhost_cc3d0a639dcaecc6b003c96e69ba7be9\" datetime=\"1503676288408.0618\">0 sec</time></pre></td>\n",
       "                        </tr>\n",
       "                        </table>"
      ]
     },
     "metadata": {},
     "output_type": "display_data"
    },
    {
     "data": {
      "text/html": [
       "<table id=\"table_localhost_50b2a434be3c05de63bb015f1480f4e1\" style=\"border: 0px\"><tr style=\"border: 0px\">\n",
       "                        <td style=\"border: 0px\">\n",
       "                        <i id=\"status_localhost_50b2a434be3c05de63bb015f1480f4e1\"\n",
       "                            class=\"fa fa-2x fa-fw fa-square-o\"\n",
       "                            onmouseover=\"$('#status_localhost_50b2a434be3c05de63bb015f1480f4e1').addClass('fa-stop').removeClass('fa-square-o')\"\n",
       "                            onmouseleave=\"$('#status_localhost_50b2a434be3c05de63bb015f1480f4e1').addClass('fa-square-o').removeClass('fa-stop')\"\n",
       "                            onclick=\"kill_task('50b2a434be3c05de63bb015f1480f4e1', 'localhost')\"\n",
       "                        ></i> </td>\n",
       "                        <td style=\"border:0px\"><a onclick=\"task_info('50b2a434be3c05de63bb015f1480f4e1', 'localhost')\"><pre>50b2a434be3c05de63bb015f1480f4e1</pre></a></td>\n",
       "                        <td style=\"border:0px\">&nbsp;</td>\n",
       "                        <td style=\"border:0px;text-align=right;\">\n",
       "                        <pre><time id=\"duration_localhost_50b2a434be3c05de63bb015f1480f4e1\" datetime=\"1503676288408.4036\">0 sec</time></pre></td>\n",
       "                        </tr>\n",
       "                        </table>"
      ]
     },
     "metadata": {},
     "output_type": "display_data"
    },
    {
     "data": {
      "text/html": [
       "<table id=\"table_localhost_6674700ba847ed82bb66dcf3e9cf037b\" style=\"border: 0px\"><tr style=\"border: 0px\">\n",
       "                        <td style=\"border: 0px\">\n",
       "                        <i id=\"status_localhost_6674700ba847ed82bb66dcf3e9cf037b\"\n",
       "                            class=\"fa fa-2x fa-fw fa-square-o\"\n",
       "                            onmouseover=\"$('#status_localhost_6674700ba847ed82bb66dcf3e9cf037b').addClass('fa-stop').removeClass('fa-square-o')\"\n",
       "                            onmouseleave=\"$('#status_localhost_6674700ba847ed82bb66dcf3e9cf037b').addClass('fa-square-o').removeClass('fa-stop')\"\n",
       "                            onclick=\"kill_task('6674700ba847ed82bb66dcf3e9cf037b', 'localhost')\"\n",
       "                        ></i> </td>\n",
       "                        <td style=\"border:0px\"><a onclick=\"task_info('6674700ba847ed82bb66dcf3e9cf037b', 'localhost')\"><pre>6674700ba847ed82bb66dcf3e9cf037b</pre></a></td>\n",
       "                        <td style=\"border:0px\">&nbsp;</td>\n",
       "                        <td style=\"border:0px;text-align=right;\">\n",
       "                        <pre><time id=\"duration_localhost_6674700ba847ed82bb66dcf3e9cf037b\" datetime=\"1503676288408.73\">0 sec</time></pre></td>\n",
       "                        </tr>\n",
       "                        </table>"
      ]
     },
     "metadata": {},
     "output_type": "display_data"
    },
    {
     "data": {
      "text/html": [
       "<table id=\"table_localhost_4506b359b850c721ede9ff64bbfea74a\" style=\"border: 0px\"><tr style=\"border: 0px\">\n",
       "                        <td style=\"border: 0px\">\n",
       "                        <i id=\"status_localhost_4506b359b850c721ede9ff64bbfea74a\"\n",
       "                            class=\"fa fa-2x fa-fw fa-square-o\"\n",
       "                            onmouseover=\"$('#status_localhost_4506b359b850c721ede9ff64bbfea74a').addClass('fa-stop').removeClass('fa-square-o')\"\n",
       "                            onmouseleave=\"$('#status_localhost_4506b359b850c721ede9ff64bbfea74a').addClass('fa-square-o').removeClass('fa-stop')\"\n",
       "                            onclick=\"kill_task('4506b359b850c721ede9ff64bbfea74a', 'localhost')\"\n",
       "                        ></i> </td>\n",
       "                        <td style=\"border:0px\"><a onclick=\"task_info('4506b359b850c721ede9ff64bbfea74a', 'localhost')\"><pre>4506b359b850c721ede9ff64bbfea74a</pre></a></td>\n",
       "                        <td style=\"border:0px\">&nbsp;</td>\n",
       "                        <td style=\"border:0px;text-align=right;\">\n",
       "                        <pre><time id=\"duration_localhost_4506b359b850c721ede9ff64bbfea74a\" datetime=\"1503676288409.0452\">0 sec</time></pre></td>\n",
       "                        </tr>\n",
       "                        </table>"
      ]
     },
     "metadata": {},
     "output_type": "display_data"
    },
    {
     "data": {
      "text/html": [
       "<table id=\"table_localhost_56af1627a19c7d641e38c9f66237b195\" style=\"border: 0px\"><tr style=\"border: 0px\">\n",
       "                        <td style=\"border: 0px\">\n",
       "                        <i id=\"status_localhost_56af1627a19c7d641e38c9f66237b195\"\n",
       "                            class=\"fa fa-2x fa-fw fa-square-o\"\n",
       "                            onmouseover=\"$('#status_localhost_56af1627a19c7d641e38c9f66237b195').addClass('fa-stop').removeClass('fa-square-o')\"\n",
       "                            onmouseleave=\"$('#status_localhost_56af1627a19c7d641e38c9f66237b195').addClass('fa-square-o').removeClass('fa-stop')\"\n",
       "                            onclick=\"kill_task('56af1627a19c7d641e38c9f66237b195', 'localhost')\"\n",
       "                        ></i> </td>\n",
       "                        <td style=\"border:0px\"><a onclick=\"task_info('56af1627a19c7d641e38c9f66237b195', 'localhost')\"><pre>56af1627a19c7d641e38c9f66237b195</pre></a></td>\n",
       "                        <td style=\"border:0px\">&nbsp;</td>\n",
       "                        <td style=\"border:0px;text-align=right;\">\n",
       "                        <pre><time id=\"duration_localhost_56af1627a19c7d641e38c9f66237b195\" datetime=\"1503676288409.3801\">0 sec</time></pre></td>\n",
       "                        </tr>\n",
       "                        </table>"
      ]
     },
     "metadata": {},
     "output_type": "display_data"
    },
    {
     "data": {
      "text/html": [
       "<table id=\"table_localhost_9a8e5818732daa7be73568b454cab29d\" style=\"border: 0px\"><tr style=\"border: 0px\">\n",
       "                        <td style=\"border: 0px\">\n",
       "                        <i id=\"status_localhost_9a8e5818732daa7be73568b454cab29d\"\n",
       "                            class=\"fa fa-2x fa-fw fa-square-o\"\n",
       "                            onmouseover=\"$('#status_localhost_9a8e5818732daa7be73568b454cab29d').addClass('fa-stop').removeClass('fa-square-o')\"\n",
       "                            onmouseleave=\"$('#status_localhost_9a8e5818732daa7be73568b454cab29d').addClass('fa-square-o').removeClass('fa-stop')\"\n",
       "                            onclick=\"kill_task('9a8e5818732daa7be73568b454cab29d', 'localhost')\"\n",
       "                        ></i> </td>\n",
       "                        <td style=\"border:0px\"><a onclick=\"task_info('9a8e5818732daa7be73568b454cab29d', 'localhost')\"><pre>9a8e5818732daa7be73568b454cab29d</pre></a></td>\n",
       "                        <td style=\"border:0px\">&nbsp;</td>\n",
       "                        <td style=\"border:0px;text-align=right;\">\n",
       "                        <pre><time id=\"duration_localhost_9a8e5818732daa7be73568b454cab29d\" datetime=\"1503676288409.6987\">0 sec</time></pre></td>\n",
       "                        </tr>\n",
       "                        </table>"
      ]
     },
     "metadata": {},
     "output_type": "display_data"
    },
    {
     "data": {
      "text/html": [
       "<table id=\"table_localhost_aad6997f879c6b72b1a6465d5d572ada\" style=\"border: 0px\"><tr style=\"border: 0px\">\n",
       "                        <td style=\"border: 0px\">\n",
       "                        <i id=\"status_localhost_aad6997f879c6b72b1a6465d5d572ada\"\n",
       "                            class=\"fa fa-2x fa-fw fa-square-o\"\n",
       "                            onmouseover=\"$('#status_localhost_aad6997f879c6b72b1a6465d5d572ada').addClass('fa-stop').removeClass('fa-square-o')\"\n",
       "                            onmouseleave=\"$('#status_localhost_aad6997f879c6b72b1a6465d5d572ada').addClass('fa-square-o').removeClass('fa-stop')\"\n",
       "                            onclick=\"kill_task('aad6997f879c6b72b1a6465d5d572ada', 'localhost')\"\n",
       "                        ></i> </td>\n",
       "                        <td style=\"border:0px\"><a onclick=\"task_info('aad6997f879c6b72b1a6465d5d572ada', 'localhost')\"><pre>aad6997f879c6b72b1a6465d5d572ada</pre></a></td>\n",
       "                        <td style=\"border:0px\">&nbsp;</td>\n",
       "                        <td style=\"border:0px;text-align=right;\">\n",
       "                        <pre><time id=\"duration_localhost_aad6997f879c6b72b1a6465d5d572ada\" datetime=\"1503676288410.0376\">0 sec</time></pre></td>\n",
       "                        </tr>\n",
       "                        </table>"
      ]
     },
     "metadata": {},
     "output_type": "display_data"
    },
    {
     "data": {
      "text/html": [
       "<table id=\"table_localhost_cb0ed7ea0c70f83216ac161b16057f8f\" style=\"border: 0px\"><tr style=\"border: 0px\">\n",
       "                        <td style=\"border: 0px\">\n",
       "                        <i id=\"status_localhost_cb0ed7ea0c70f83216ac161b16057f8f\"\n",
       "                            class=\"fa fa-2x fa-fw fa-square-o\"\n",
       "                            onmouseover=\"$('#status_localhost_cb0ed7ea0c70f83216ac161b16057f8f').addClass('fa-stop').removeClass('fa-square-o')\"\n",
       "                            onmouseleave=\"$('#status_localhost_cb0ed7ea0c70f83216ac161b16057f8f').addClass('fa-square-o').removeClass('fa-stop')\"\n",
       "                            onclick=\"kill_task('cb0ed7ea0c70f83216ac161b16057f8f', 'localhost')\"\n",
       "                        ></i> </td>\n",
       "                        <td style=\"border:0px\"><a onclick=\"task_info('cb0ed7ea0c70f83216ac161b16057f8f', 'localhost')\"><pre>cb0ed7ea0c70f83216ac161b16057f8f</pre></a></td>\n",
       "                        <td style=\"border:0px\">&nbsp;</td>\n",
       "                        <td style=\"border:0px;text-align=right;\">\n",
       "                        <pre><time id=\"duration_localhost_cb0ed7ea0c70f83216ac161b16057f8f\" datetime=\"1503676288410.366\">0 sec</time></pre></td>\n",
       "                        </tr>\n",
       "                        </table>"
      ]
     },
     "metadata": {},
     "output_type": "display_data"
    }
   ],
   "source": [
    "%run default -J8 -j8\n",
    "import h5py\n",
    "cwd = \"~/Documents/GTEx/Lung\"\n",
    "genotype_file = '~/Documents/GTEx/Lung/Lung.genotype.h5'\n",
    "expr_file = '~/Documents/GTEx/Lung/Lung.expr.h5'\n",
    "covar_file = '~/Documents/GTEx/Lung/Lung.covariates.h5'\n",
    "tissues = list(h5py.File(\"${expr_file!a}\", libver='latest').keys())\n",
    "f = h5py.File(\"${genotype_file!a}\", libver='latest')\n",
    "genes = []\n",
    "for k in f:\n",
    "    genes.extend(['{}/{}'.format(k, x) for x in f[k]])\n",
    "\n",
    "[default]\n",
    "sos_run('mr_ash', tissues = ['Lung'], genes = genes,\n",
    "        genotype_file = genotype_file, \n",
    "        expr_file = expr_file, \n",
    "        covar_file = covar_file, \n",
    "        cwd = cwd)\n",
    "\n",
    "[mr_ash]\n",
    "parameter: cwd = \"./\"\n",
    "parameter: genotype_file = ''\n",
    "parameter: expr_file = ''\n",
    "parameter: covar_file = ''\n",
    "parameter: seed = 999\n",
    "parameter: genes = []\n",
    "parameter: tissues = []\n",
    "depends: R_library('rhdf5'), R_library('tools')\n",
    "input: for_each = ['genes', 'tissues']\n",
    "output: \"${cwd!a}/${_tissues}_${_genes!b}.rds\"\n",
    "task:\n",
    "R:\n",
    "load_data = function(genotype_file, expr_file, cov_file, geno_table, expr_table,cov_table) {\n",
    "  geno = h5read(genotype_file, geno_table)\n",
    "  gdata = geno$block0_values\n",
    "  colnames(gdata) = geno$axis1\n",
    "  rownames(gdata) = geno$axis0\n",
    "  \n",
    "  expr = h5read(expr_file, expr_table)\n",
    "  edata = expr$block0_values\n",
    "  # colnames(edata) = expr$axis1\n",
    "  colnames(edata) = tools::file_path_sans_ext(expr$axis1)\n",
    "  # rownames(edata) = expr$axis0\n",
    "  rownames(edata) = apply(sapply(strsplit(expr$axis0,\"-\"), `[`, c(1,2)), 2, function(x) paste(x, collapse = '-'))\n",
    "  \n",
    "  index = which(duplicated(row.names(edata)))\n",
    "  edata = edata[-index,]\n",
    "  # edata = data.frame(edata)\n",
    "  covariate <- h5read(cov_file, cov_table)\n",
    "  cdata = covariate$block0_values\n",
    "  colnames(cdata) = apply(sapply(strsplit(covariate$axis1,\"-\"), `[`, c(1,2)), 2, function(x) paste(x, collapse = '-'))\n",
    "  # rownames(edata) = expr$axis0\n",
    "  rownames(cdata) = covariate$axis0 \n",
    "  cdata = t(cdata)[-index,]\n",
    "  gdata = data.frame(gdata)\n",
    "  # I want to use merge but later\n",
    "  # index_overlap = which(row.names(gdata) %in% row.names(edata))\n",
    "  edata = edata[, basename(geno_table)]\n",
    "  edata = data.frame(edata)\n",
    "  edata$ID = rownames(edata)\n",
    "  gdata$ID = rownames(gdata)\n",
    "  output = merge(x = edata, y = gdata, by = \"ID\", all.x = TRUE)\n",
    "  # gdata = gdata[index_overlap,]\n",
    "  return(list(X=as.matrix(output[,-c(1,2)]), y = as.vector(output$edata), Z = as.matrix(cdata)))\n",
    "}\n",
    "\n",
    "autoselect.mixsd = function(betahat,sebetahat,mult = sqrt(2)){\n",
    "  sebetahat=sebetahat[sebetahat!=0] #To avoid exact measure causing (usually by mistake)\n",
    "  sigmaamin = min(sebetahat)/10 #so that the minimum is small compared with measurement precision\n",
    "  if(all(betahat^2<=sebetahat^2)){\n",
    "    sigmaamax = 8*sigmaamin #to deal with the occassional odd case where this could happen; 8 is arbitrary\n",
    "  }else{\n",
    "    sigmaamax = 2*sqrt(max(betahat^2-sebetahat^2)) #this computes a rough largest value you'd want to use, based on idea that sigmaamax^2 + sebetahat^2 should be at least betahat^2   \n",
    "  }\n",
    "  if(mult==0){\n",
    "    return(c(0,sigmaamax/2))\n",
    "  }else{\n",
    "    npoint = ceiling(log2(sigmaamax/sigmaamin)/log2(mult))\n",
    "    return(mult^((-npoint):0) * sigmaamax)\n",
    "  }\n",
    "}\n",
    "\n",
    "initial_step = function(X,y,Z = NULL){\n",
    "  P = dim(X)[2]\n",
    "  output = matrix(0,nrow = P,ncol = 2)\n",
    "  for(i in 1:P){\n",
    "    if(is.null(Z)){\n",
    "      g = summary(lm(y~X[,i]))\n",
    "    } else{\n",
    "      g = summary(lm(y~X[,i]+Z))\n",
    "    }\n",
    "    \n",
    "    output[i,] = g$coefficients[2,1:2]\n",
    "  }\n",
    "  return(list(betahat = output[,1],sebetahat = output[,2]))\n",
    "}\n",
    "                                                                  \n",
    "analyze = function(genename = '/chr4/ENSG00000145214', tissue = '/Lung', out = 'test.rds'){\n",
    "  library(rhdf5)\n",
    "  genotype_file = ${genotype_file!ar}\n",
    "  expr_file = ${expr_file!ar}\n",
    "  geno_table = genename\n",
    "  expr_table = tissue \n",
    "  gene = basename(geno_table)\n",
    "  cov_file = ${covar_file!ar}\n",
    "  cov_table = expr_table\n",
    "  dat = load_data(genotype_file = genotype_file,\n",
    "                  expr_file = expr_file,\n",
    "                  cov_file = cov_file,\n",
    "                  geno_table = geno_table,\n",
    "                  expr_table = expr_table,\n",
    "                  cov_table = cov_table)\n",
    "  X = as.matrix(dat$X)\n",
    "  X = X[,which(colSums(X)!=0)]\n",
    "  if ((nrow(X) == 0) || (ncol(X) == 0)) {\n",
    "  \tsaveRDS(list(), out)\n",
    "  } else {\n",
    "  storage.mode(X) <- \"double\"\n",
    "  y = as.vector(dat$y)\n",
    "  Z = as.matrix(dat$Z)\n",
    "  initial = initial_step(X,y,Z)\n",
    "  mixsd = autoselect.mixsd(initial$betahat,initial$sebetahat)\n",
    "  logdata = capture.output({res = varbvs::varbvsmix(X, Z, y, sa = c(0,mixsd^2)) })\n",
    "  betahat = rowSums(res$alpha * res$mu)\n",
    "  names(betahat) = colnames(X)\n",
    "  mrash_out = list(betahat = betahat, lfsr = res$lfsr)\n",
    "  ash_out = ashr::ash(initial$betahat,initial$sebetahat,mixcompdist = \"normal\")\n",
    "  saveRDS(list(ash = ash_out, uni = initial, mr_ash = mrash_out, logdata = logdata), out)\n",
    "}\n",
    "}\n",
    "set.seed(999)\n",
    "analyze(genename = \"/${_genes}\", tissue = \"/${_tissues}\", out = ${_output!r})"
   ]
  },
  {
   "cell_type": "code",
   "execution_count": null,
   "metadata": {
    "collapsed": true
   },
   "outputs": [],
   "source": []
  }
 ],
 "metadata": {
  "celltoolbar": "Tags",
  "kernelspec": {
   "display_name": "SoS",
   "language": "sos",
   "name": "sos"
  },
  "language_info": {
   "codemirror_mode": "sos",
   "file_extension": ".sos",
   "mimetype": "text/x-sos",
   "name": "sos",
   "nbconvert_exporter": "sos.jupyter.converter.SoS_Exporter",
   "pygments_lexer": "sos"
  },
  "sos": {
   "default_kernel": "SoS",
   "kernels": [
    [
     "SoS",
     "sos",
     "",
     ""
    ],
    [
     "Python3",
     "python3",
     "Python3",
     "#FFE771"
    ],
    [
     "R",
     "ir",
     "R",
     "#DCDCDA"
    ]
   ],
   "panel": {
    "displayed": true,
    "height": 0,
    "style": "side"
   }
  }
 },
 "nbformat": 4,
 "nbformat_minor": 2
}
