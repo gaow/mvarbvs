{
 "cells": [
  {
   "cell_type": "markdown",
   "metadata": {},
   "source": [
    "## UKB Multivariate fine-mapping workflow"
   ]
  },
  {
   "cell_type": "markdown",
   "metadata": {},
   "source": [
    "1. Sufficient statistics input XtX, XtY, YtY and n. We assume covariates C have been removed from X and Y. We provide a procedure to implement this.\n",
    "2. GWAS summary statistics input z and R. We assume z scores have been computed after removal of covariates C."
   ]
  },
  {
   "cell_type": "code",
   "execution_count": null,
   "metadata": {},
   "outputs": [],
   "source": [
    "[global]\n",
    "# single column file each line is the data filename\n",
    "parameter: LD_folder = path('/project2/mstephens/yuxin/ukb-bloodcells/LD')\n",
    "parameter: name = 'bloodcells_chr'\n",
    "parameter: analysis_units = path('/project2/mstephens/yuxin/ukb-bloodcells/regions.csv')\n",
    "regions = [x.strip().split() for x in open(analysis_units).readlines() if x.strip() and not x.strip().startswith('#')]"
   ]
  },
  {
   "cell_type": "code",
   "execution_count": null,
   "metadata": {},
   "outputs": [],
   "source": [
    "[LDstore_rds]\n",
    "input: for_each = \"regions\"\n",
    "output: f\"{LD_folder:a}/{name}{_regions[0]}.{_regions[1]}.{_regions[2]}.ld.rds\"\n",
    "task: trunk_workers = 1, trunk_size = 1, walltime = '12h', mem = '20G', cores = 2, tags = f'{step_name}_{_output:bn}'\n",
    "R: expand = \"${ }\"\n",
    "    ld_file = '/project2/mstephens/yuxin/ukb-bloodcells/LD_ldstore/bloodcells_chr${_regions[0]}.${_regions[1]}.${_regions[2]}.matrix'\n",
    "    library(data.table)\n",
    "    ld = as.matrix(fread(ld_file))\n",
    "    saveRDS(ld, ${_output:r})"
   ]
  },
  {
   "cell_type": "code",
   "execution_count": null,
   "metadata": {},
   "outputs": [],
   "source": [
    "[sufficient_summary_stats_preprocessing]\n",
    "parameter: phenoFile = path('/project2/mstephens/yuxin/ukb-bloodcells/bloodcells.pheno.txt')\n",
    "parameter: covarFile = path('/project2/mstephens/yuxin/ukb-bloodcells/bloodcells.covar.txt')\n",
    "input: for_each = \"regions\"\n",
    "output: suffstats = f\"/project2/mstephens/yuxin/ukb-bloodcells/ukbbloodcells_suff_stats/bloodcells_chr{_regions[0]}.{_regions[1]}.{_regions[2]}.sufficient_stats.rds\", \n",
    "        sumstats =  f\"/project2/mstephens/yuxin/ukb-bloodcells/ukbbloodcells_summary_stats/bloodcells_chr{_regions[0]}.{_regions[1]}.{_regions[2]}.summary_stats.rds\"\n",
    "task: trunk_workers = 1, trunk_size = 1, walltime = '4h', mem = '50G', cores = 1, tags = f'{step_name}_{_output[0]:bn}'\n",
    "R: expand = '${ }', stdout = f\"{_output:n}.stdout\", stderr = f\"{_output:n}.stderr\"\n",
    "    geno_file = '/project2/mstephens/yuxin/ukb-bloodcells/genotypes/bloodcells_chr${_regions[0]}.${_regions[1]}.${_regions[2]}'\n",
    "    z.file = '/project2/mstephens/yuxin/ukb-bloodcells/zscores/bloodcells_chr${_regions[0]}.${_regions[1]}.${_regions[2]}.z.rds')\n",
    "    ld.file = '/project2/mstephens/yuxin/ukb-bloodcells/LD/bloodcells_chr${_regions[0]}.${_regions[1]}.${_regions[2]}.ld.rds'\n",
    "    library(data.table)\n",
    "    library(dplyr)\n",
    "    \n",
    "    X <- fread(paste0(geno_file, '.raw.gz'),sep = \"\\t\",header = TRUE,stringsAsFactors = FALSE)\n",
    "    map <- X[,1:6]\n",
    "    X = X[, c('FID','IID','PAT','MAT','SEX', 'PHENOTYPE') := NULL]\n",
    "    X <- as.matrix(X)\n",
    "  \n",
    "    # Read phenotype data\n",
    "    cat(\"Reading phenotype data.\\n\")\n",
    "    pheno <- suppressMessages(fread(phenoFile))\n",
    "\n",
    "    cat(\"Reading covariate file.\\n\")\n",
    "    Z = suppressMessages(fread(covarFile))\n",
    "\n",
    "    match.idx = match(map$IID, pheno$IID)\n",
    "    pheno = pheno[match.idx,]\n",
    "    match.idx = match(map$IID, Z$IID)\n",
    "    Z = Z[match.idx,]\n",
    "  \n",
    "    Y = pheno %>% select(-FID, -IID) %>% as.matrix\n",
    "    Z = Z %>% select(-FID, -IID) %>% as.matrix\n",
    "  \n",
    "    # centering\n",
    "    Y = sweep(Y, 2, colMeans(Y), '-')\n",
    "    Z = sweep(Z, 2, colMeans(Z), '-')\n",
    "  \n",
    "    A   <- crossprod(Z) # Z'Z\n",
    "    # chol decomposition for (Z'Z)^(-1)\n",
    "    R = chol(solve(A)) # R'R = (Z'Z)^(-1)\n",
    "    W = R %*% crossprod(Z, X) # RZ'X\n",
    "    S = R %*% crossprod(Z, Y) # RZ'Y\n",
    "\n",
    "    SNPnames = colnames(X)\n",
    "    rm(X)\n",
    "    rm(Z)\n",
    "\n",
    "    zscores = readRDS(z.file)\n",
    "\n",
    "    # Load LD matrix from raw genotype\n",
    "    ld = readRDS(ld.file)\n",
    "    XtX = sqrt(zscores$XtXD) * t(ld*sqrt(zscores$XtXD)) - crossprod(W) # W'W = X'ZR'RZ'X = X'Z(Z'Z)^{-1}Z'X\n",
    "    XtX = as.matrix(XtX)\n",
    "    rownames(XtX) = colnames(XtX) = SNPnames\n",
    "    R = cov2cor(XtX)\n",
    "\n",
    "    # X'Y\n",
    "    XtY = as.matrix(zscores$XtY - crossprod(W, S)) # W'S = X'ZR'RZ'y = X'Z(Z'Z)^{-1}Z'y\n",
    "\n",
    "    # YtY\n",
    "    YtY = as.matrix(crossprod(Y) - crossprod(S))\n",
    "\n",
    "    Z = -as.matrix(zscores$Z)\n",
    "    \n",
    "    saveRDS(list(XtX = XtX, XtY = XtY, YtY = YtY, N = nrow(Y), meta = zscores$pos), ${_output[\"suffstats\"]:r})\n",
    "    saveRDS(list(Z = Z, LD = R, meta = zscores$pos), ${_output[\"sumstats\"]:r})\n",
    "    "
   ]
  }
 ],
 "metadata": {
  "kernelspec": {
   "display_name": "Python 3",
   "language": "python",
   "name": "python3"
  },
  "language_info": {
   "codemirror_mode": {
    "name": "ipython",
    "version": 3
   },
   "file_extension": ".py",
   "mimetype": "text/x-python",
   "name": "python",
   "nbconvert_exporter": "python",
   "pygments_lexer": "ipython3",
   "version": "3.6.10"
  }
 },
 "nbformat": 4,
 "nbformat_minor": 4
}
