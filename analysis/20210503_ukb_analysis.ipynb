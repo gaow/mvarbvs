{
 "cells": [
  {
   "cell_type": "markdown",
   "metadata": {},
   "source": [
    "## UKB Multivariate fine-mapping workflow"
   ]
  },
  {
   "cell_type": "markdown",
   "metadata": {},
   "source": [
    "1. Sufficient statistics input XtX, XtY, YtY and n. We assume covariates C have been removed from X and Y. We provide a procedure to implement this.\n",
    "2. GWAS summary statistics input z and R. We assume z scores have been computed after removal of covariates C."
   ]
  },
  {
   "cell_type": "code",
   "execution_count": null,
   "metadata": {},
   "outputs": [],
   "source": [
    "[global]\n",
    "# single column file each line is the data filename\n",
    "parameter: LD_folder = path('/project2/mstephens/yuxin/ukb-bloodcells/LD')\n",
    "parameter: name = 'bloodcells_chr'\n",
    "parameter: analysis_units = path('/project2/mstephens/yuxin/ukb-bloodcells/regions.csv')\n",
    "regions = [x.strip() for x in open(analysis_units).readlines() if x.strip() and not x.strip().startswith('#')]"
   ]
  },
  {
   "cell_type": "code",
   "execution_count": null,
   "metadata": {},
   "outputs": [],
   "source": [
    "[LDstore_rds]\n",
    "input: for_each = \"regions\"\n",
    "output: f\"{LD_folder:a}/{name}{_regions[0]}.{_regions[1]}.{_regions[2]}.ld.rds\"\n",
    "task: trunk_workers = 1, trunk_size = 1, walltime = '12h', mem = '20G', cores = 2, tags = f'{step_name}_{_output:bn}'\n",
    "R: expand = \"${ }\"\n",
    "    ld_file = '/project2/mstephens/yuxin/ukb-bloodcells/LD_ldstore/bloodcells_chr${_regions[0]}.${_regions[1]}.${_regions[2]}.matrix'\n",
    "    library(data.table)\n",
    "    ld = as.matrix(fread(ld_file))\n",
    "    saveRDS(ld, ${_output:r})"
   ]
  },
  {
   "cell_type": "code",
   "execution_count": null,
   "metadata": {},
   "outputs": [],
   "source": [
    "[sufficient_stats_preprocessing]\n",
    "# Phenotype file, assuming a header\n",
    "parameter: LDfolder = path('')\n",
    "parameter: phenoFile = path('.')\n",
    "parameter: phenoCols = []\n",
    "parameter: covarFile = path('.')\n",
    "parameter: covarCols = []\n",
    "input: for_each = \"regions\"\n",
    "output: f\"{cwd:a}/chr{_regions[0]}_{_regions[1]}_{_regions[2]}.rds\"\n",
    "task: trunk_workers = 1, trunk_size = 1, walltime = '12h', mem = '12G', cores = 2, tags = f'{step_name}_{_output:bn}'\n",
    "R: expand = '${ }', stdout = f\"{_output:n}.stdout\", stderr = f\"{_output:n}.stderr\"\n",
    "    library(data.table)\n",
    "    "
   ]
  }
 ],
 "metadata": {
  "kernelspec": {
   "display_name": "Python 3",
   "language": "python",
   "name": "python3"
  },
  "language_info": {
   "codemirror_mode": {
    "name": "ipython",
    "version": 3
   },
   "file_extension": ".py",
   "mimetype": "text/x-python",
   "name": "python",
   "nbconvert_exporter": "python",
   "pygments_lexer": "ipython3",
   "version": "3.6.10"
  }
 },
 "nbformat": 4,
 "nbformat_minor": 4
}
