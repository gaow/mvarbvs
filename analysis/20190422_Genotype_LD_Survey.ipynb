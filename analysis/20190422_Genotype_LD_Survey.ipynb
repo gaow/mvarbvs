{
 "cells": [
  {
   "cell_type": "markdown",
   "metadata": {
    "kernel": "SoS"
   },
   "source": [
    "# A summary of genotype sample LD in GTEx data\n",
    "\n",
    "This is partially in response to the reviewer response for SuSiE paper."
   ]
  },
  {
   "cell_type": "markdown",
   "metadata": {
    "kernel": "SoS"
   },
   "source": [
    "Here I'd like to find out for a randomly chosen variant, how many others is it in LD >=0.8, 0.9,0.95 , 0.99 and 1."
   ]
  },
  {
   "cell_type": "markdown",
   "metadata": {
    "kernel": "SoS"
   },
   "source": [
    "To run the workflow on RCC:\n",
    "\n",
    "```\n",
    "sos run analysis/20190422_Genotype_LD_Survey.ipynb -c src/sos.config.yml -q midway2_head -J 150\n",
    "```"
   ]
  },
  {
   "cell_type": "code",
   "execution_count": null,
   "metadata": {
    "kernel": "SoS"
   },
   "outputs": [],
   "source": [
    "[global]\n",
    "parameter: datadir = path('~/Documents/GTExV8/Toys/')\n",
    "parameter: categories = [0.4,0.5,0.6,0.7,0.8,0.85,0.9,0.95,0.99,1]\n",
    "parameter: nvar = 10000\n",
    "# Just in case some regions has more than 10K variants let's ignore them because they are too big\n",
    "parameter: maxvar = 10000\n",
    "parameter: workdir = path('~/GIT/LargeFiles/SuSiE_Revision_1/LD_Summary')"
   ]
  },
  {
   "cell_type": "code",
   "execution_count": null,
   "metadata": {
    "kernel": "SoS"
   },
   "outputs": [],
   "source": [
    "[1]\n",
    "# load all genotypes and computer LD\n",
    "# For computational reasons let's not save them ... instead lets survey for each variant the different LD catagories\n",
    "import glob\n",
    "input: glob.glob(f\"{datadir:a}/*.RDS\"), group_by = 1, concurrent = True\n",
    "output: f\"{workdir:a}/{_input:bn}.LD.rds\"\n",
    "task: trunk_workers = 1, trunk_size = 10, walltime = '10m', mem = '4G', cores = 1, tags = f'{step_name}_{_output:bn}'\n",
    "R: workdir=workdir, expand = '${ }'\n",
    "  set.seed(999)\n",
    "  X = readRDS(${_input:r})$X\n",
    "  if (ncol(X) > ${maxvar}) X = X[,1:${maxvar}]\n",
    "  muffled_corr = function(x)\n",
    "  withCallingHandlers(cor(x),\n",
    "                    warning = function(w) {\n",
    "                      if (grepl(\"the standard deviation is zero\", w$message))\n",
    "                        invokeRestart(\"muffleWarning\")\n",
    "                    } )\n",
    "  R = abs(muffled_corr(X))\n",
    "  # mask self-correlation out to zero\n",
    "  diag(R) = 0\n",
    "  if (${nvar} > nrow(R)) { \n",
    "      nvar = row(R)\n",
    "  } else {\n",
    "      nvar = ${nvar}\n",
    "  }\n",
    "  var_id = sort(sample(1:nrow(R), size = nvar))\n",
    "  res = list()\n",
    "  i = 1\n",
    "  categories = c(${\",\".join(map(str,categories))})\n",
    "  for (item in categories) {\n",
    "      res[[i]] = rowSums(R[var_id, ] >= item)\n",
    "      i = i + 1\n",
    "  }\n",
    "  res = do.call(cbind, res)\n",
    "  colnames(res) = as.character(categories)\n",
    "  saveRDS(res, ${_output:r})"
   ]
  },
  {
   "cell_type": "code",
   "execution_count": null,
   "metadata": {
    "kernel": "SoS"
   },
   "outputs": [],
   "source": [
    "[2]\n",
    "input: group_by = 'all'\n",
    "output: f\"{workdir:a}/LD_Summary.rds\"\n",
    "R: workdir = workdir, expand = '${ }'\n",
    "  res = NULL\n",
    "  for (item in c(${_input:ar,})) {\n",
    "      if (is.null(res)) res = readRDS(item)\n",
    "      else res = rbind(res, readRDS(item))\n",
    "  }\n",
    "  saveRDS(res, ${_output:r})"
   ]
  },
  {
   "cell_type": "markdown",
   "metadata": {
    "kernel": "SoS"
   },
   "source": [
    "Here is what I got with `nvar=100`,\n",
    "\n",
    "\n",
    "```\n",
    "> dim(dat)\n",
    "[1] 110300     10\n",
    "```\n",
    "\n",
    "The result is:\n",
    "\n",
    "```\n",
    "> summary(dat)\n",
    "      0.4              0.5              0.6               0.7         \n",
    " Min.   :   0.0   Min.   :   0.0   Min.   :   0.00   Min.   :   0.00  \n",
    " 1st Qu.:  40.0   1st Qu.:  21.0   1st Qu.:  13.00   1st Qu.:   7.00  \n",
    " Median : 101.0   Median :  60.0   Median :  39.00   Median :  26.00  \n",
    " Mean   : 163.3   Mean   : 106.6   Mean   :  76.21   Mean   :  55.79  \n",
    " 3rd Qu.: 211.0   3rd Qu.: 136.0   3rd Qu.:  94.00   3rd Qu.:  66.00  \n",
    " Max.   :2940.0   Max.   :2876.0   Max.   :2841.00   Max.   :2815.00  \n",
    "      0.8               0.85              0.9               0.95        \n",
    " Min.   :   0.00   Min.   :   0.00   Min.   :   0.00   Min.   :   0.00  \n",
    " 1st Qu.:   4.00   1st Qu.:   3.00   1st Qu.:   2.00   1st Qu.:   1.00  \n",
    " Median :  16.00   Median :  12.00   Median :   8.00   Median :   4.00  \n",
    " Mean   :  40.26   Mean   :  33.03   Mean   :  25.62   Mean   :  17.69  \n",
    " 3rd Qu.:  45.00   3rd Qu.:  36.00   3rd Qu.:  27.00   3rd Qu.:  17.00  \n",
    " Max.   :2772.00   Max.   :2711.00   Max.   :2563.00   Max.   :2505.00  \n",
    "      0.99                1          \n",
    " Min.   :   0.000   Min.   :  0.000  \n",
    " 1st Qu.:   0.000   1st Qu.:  0.000  \n",
    " Median :   1.000   Median :  0.000  \n",
    " Mean   :   7.966   Mean   :  2.116  \n",
    " 3rd Qu.:   5.000   3rd Qu.:  0.000  \n",
    " Max.   :2226.000   Max.   :494.000 \n",
    "```"
   ]
  }
 ],
 "metadata": {
  "kernelspec": {
   "display_name": "SoS",
   "language": "sos",
   "name": "sos"
  },
  "language_info": {
   "codemirror_mode": "sos",
   "file_extension": ".sos",
   "mimetype": "text/x-sos",
   "name": "sos",
   "nbconvert_exporter": "sos_notebook.converter.SoS_Exporter",
   "pygments_lexer": "sos"
  },
  "sos": {
   "kernels": [
    [
     "R",
     "ir",
     "R",
     "#DCDCDA"
    ],
    [
     "SoS",
     "sos",
     "",
     ""
    ]
   ],
   "version": "0.19.1"
  }
 },
 "nbformat": 4,
 "nbformat_minor": 2
}
