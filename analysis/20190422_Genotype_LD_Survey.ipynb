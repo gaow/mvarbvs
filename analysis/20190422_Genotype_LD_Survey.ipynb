{
 "cells": [
  {
   "cell_type": "markdown",
   "metadata": {
    "kernel": "SoS"
   },
   "source": [
    "# A summary of genotype sample LD in GTEx data\n",
    "\n",
    "This is partially in response to the reviewer response for SuSiE paper."
   ]
  },
  {
   "cell_type": "markdown",
   "metadata": {
    "kernel": "SoS"
   },
   "source": [
    "Here I'd like to find out for a randomly chosen variant, how many others is it in LD >=0.8, 0.9,0.95 , 0.99 and 1."
   ]
  },
  {
   "cell_type": "code",
   "execution_count": null,
   "metadata": {
    "kernel": "SoS"
   },
   "outputs": [],
   "source": [
    "[global]\n",
    "parameter: datadir = path('~/Documents/GTExV8/Toys/')\n",
    "parameter: categories = [0.8,0.85,0.9,0.95,0.99, 1]\n",
    "parameter: nvar = 100\n",
    "parameter: workdir = path('~/GIT/LargeFiles/SuSiE_Revision_1/LD_Summary')"
   ]
  },
  {
   "cell_type": "code",
   "execution_count": null,
   "metadata": {
    "kernel": "SoS"
   },
   "outputs": [],
   "source": [
    "[1]\n",
    "# load all genotypes and computer LD\n",
    "# For computational reasons let's not save them ... instead lets survey for each variant the different LD catagories\n",
    "import glob\n",
    "input: glob.glob(f\"{datadir:a}/Thyroid.ENSG00000283440.RDS\"), group_by = 1, concurrent = True\n",
    "output: f\"{workdir:a}/{_input:bn}.LD.rds\"\n",
    "task: trunk_workers = 1, trunk_size = 10, walltime = '2m', mem = '2G', cores = 1, tags = f'{step_name}_{_output:bn}'\n",
    "R: workdir=workdir, expand = '${ }'\n",
    "  set.seed(999)\n",
    "  X = readRDS(${_input:r})$X\n",
    "  muffled_corr = function(x)\n",
    "  withCallingHandlers(cor(x),\n",
    "                    warning = function(w) {\n",
    "                      if (grepl(\"the standard deviation is zero\", w$message))\n",
    "                        invokeRestart(\"muffleWarning\")\n",
    "                    } )\n",
    "  R = muffled_corr(X)\n",
    "  # mask self-correlation out to zero\n",
    "  diag(R) = 0\n",
    "  var_id = sort(sample(1:nrow(R), size = min(${nvar}, nrow(R))))\n",
    "  res = list()\n",
    "  i = 1\n",
    "  categories = c(${\",\".join(map(str,categories))})\n",
    "  for (item in categories) {\n",
    "      res[[i]] = rowSums(R[var_id, ] >= item)\n",
    "      i = i + 1\n",
    "  }\n",
    "  res = do.call(cbind, res)\n",
    "  colnames(res) = as.character(categories)\n",
    "  saveRDS(res, ${_output:r})"
   ]
  },
  {
   "cell_type": "code",
   "execution_count": null,
   "metadata": {
    "kernel": "SoS"
   },
   "outputs": [],
   "source": [
    "[2]\n",
    "input: group_by = 'all'\n",
    "output: f\"{workdir:a}/LD_Summary.rds\")\n",
    "R: workdir = workdir, expand = '${ }'\n",
    "  for (item in c(${_input:a,})) {\n",
    "      if (is.null(res)) res = readRDS(item)\n",
    "      else res = rbind(res, readRDS(item))\n",
    "  }\n",
    "  saveRDS(res, ${_output:r})"
   ]
  }
 ],
 "metadata": {
  "kernelspec": {
   "display_name": "SoS",
   "language": "sos",
   "name": "sos"
  },
  "language_info": {
   "codemirror_mode": "sos",
   "file_extension": ".sos",
   "mimetype": "text/x-sos",
   "name": "sos",
   "nbconvert_exporter": "sos_notebook.converter.SoS_Exporter",
   "pygments_lexer": "sos"
  },
  "sos": {
   "kernels": [
    [
     "R",
     "ir",
     "R",
     "#DCDCDA"
    ],
    [
     "SoS",
     "sos",
     "",
     ""
    ]
   ],
   "version": "0.19.1"
  }
 },
 "nbformat": 4,
 "nbformat_minor": 2
}
