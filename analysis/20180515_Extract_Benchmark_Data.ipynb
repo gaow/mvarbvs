{
 "cells": [
  {
   "cell_type": "markdown",
   "metadata": {},
   "source": [
    "# Extract per gene toy dataset"
   ]
  },
  {
   "cell_type": "markdown",
   "metadata": {},
   "source": [
    "This generates per gene data-set and surveys how many SNPs in each generated dataset."
   ]
  },
  {
   "cell_type": "code",
   "execution_count": 1,
   "metadata": {},
   "outputs": [
    {
     "data": {
      "text/html": [
       "\n",
       "        <table class=\"revision_table\">\n",
       "        <tr>\n",
       "        <th>Revision</th>\n",
       "        <th>Author</th>\n",
       "        <th>Date</th>\n",
       "        <th>Message</th>\n",
       "        <tr>\n",
       "        <tr><td><a target=\"_blank\" href=\"http://github.com/gaow/mvarbvs/blob/d4e8a8cd3ad151e98bb6644d7fe5ddf721fd9e5b/analysis/20180515_Extract_Benchmark_Data.ipynb\"><span class=\"revision_id\">d4e8a8c<span></a></td>\n",
       "<td>Gao Wang</td>\n",
       "<td>2018-05-24</td>\n",
       "<td>Update documentation</td></tr></table>"
      ]
     },
     "metadata": {},
     "output_type": "display_data"
    }
   ],
   "source": [
    "%revisions -s -n 10"
   ]
  },
  {
   "cell_type": "code",
   "execution_count": null,
   "metadata": {},
   "outputs": [],
   "source": [
    "[global]\n",
    "parameter: n = 200\n",
    "outdir = path('~/Documents/GTExV8/Toys')\n",
    "tissue = 'Thyroid'\n",
    "\n",
    "[extract]\n",
    "genes = get_output(f'shuf {outdir:d}/all_genes.txt | head -{n}').strip().split('\\n')\n",
    "input: for_each = 'genes', concurrent = True\n",
    "output: f\"{outdir}/{tissue}.{path(_genes):b}.RDS\"\n",
    "R: expand = '${ }'\n",
    "\n",
    "    load_data = function(genotype_file, expr_file, cov_file, geno_table, expr_table, cov_table) {\n",
    "            library(rhdf5)\n",
    "            geno = h5read(genotype_file, geno_table)\n",
    "            gdata = data.frame(geno$block0_values)\n",
    "            colnames(gdata) = geno$axis1\n",
    "            rownames(gdata) = geno$axis0\n",
    "            #\n",
    "            expr = h5read(expr_file, expr_table)\n",
    "            edata = data.frame(expr$block0_values)\n",
    "            colnames(edata) = tools::file_path_sans_ext(expr$axis1)\n",
    "            edata = data.frame(edata[, basename(geno_table)])\n",
    "            rownames(edata) = expr$axis0\n",
    "            colnames(edata) = basename(geno_table)\n",
    "            #\n",
    "            covariate <- h5read(cov_file, cov_table)\n",
    "            cdata = data.frame(covariate$block0_values)\n",
    "            colnames(cdata) = covariate$axis1\n",
    "            rownames(cdata) = covariate$axis0\n",
    "            cdata = t(cdata)\n",
    "            # reorder\n",
    "            edata = edata[match(rownames(cdata), rownames(edata)),]\n",
    "            gdata = gdata[rownames(cdata),]\n",
    "            return(list(X = as.matrix(gdata), y = as.vector(edata), Z = as.matrix(cdata), chrom = strsplit(colnames(gdata)[1], '_')[[1]][1], \n",
    "                        pos = as.integer(do.call(rbind, strsplit(colnames(gdata), '_'))[,2])))\n",
    "        }\n",
    "    genotype_file = \"GTExV8.genotype.cis.h5\"\n",
    "    expr_file = \"GTExV8.expression.h5\"\n",
    "    cov_file = \"GTExV8.covariates.h5\"\n",
    "    ## \n",
    "    geno_table = \"${_genes}\"\n",
    "    expr_table = \"/${tissue}\"\n",
    "    cov_table = \"/${tissue}\"\n",
    "    dat = load_data(genotype_file, expr_file, cov_file, geno_table, expr_table, cov_table)\n",
    "    saveRDS(dat, ${_output:r})"
   ]
  },
  {
   "cell_type": "markdown",
   "metadata": {},
   "source": [
    "To get an idea how many variants are there:"
   ]
  },
  {
   "cell_type": "code",
   "execution_count": null,
   "metadata": {},
   "outputs": [],
   "source": [
    "[count_var]\n",
    "input: glob.glob('~/Documents/GTExV8/Toys/*.RDS'), group_by = 1\n",
    "output: '~/Documents/GTExV8/Toys/counts.txt'\n",
    "R: expand = True, stdout = _output\n",
    "  cat(paste0({_input:br}, ncol(readRDS({_input:r})$X),'\\n'))"
   ]
  },
  {
   "cell_type": "code",
   "execution_count": 1,
   "metadata": {},
   "outputs": [
    {
     "name": "stdout",
     "output_type": "stream",
     "text": [
      "/home/gaow/Documents/GTExV8/Toys"
     ]
    }
   ],
   "source": [
    "%cd ~/Documents/GTExV8/Toys"
   ]
  },
  {
   "cell_type": "code",
   "execution_count": 2,
   "metadata": {
    "kernel": "R"
   },
   "outputs": [
    {
     "data": {
      "text/plain": [
       "   Min. 1st Qu.  Median    Mean 3rd Qu.    Max. \n",
       "   3022    6450    7226    7217    8033   11999 "
      ]
     },
     "metadata": {},
     "output_type": "display_data"
    }
   ],
   "source": [
    "dat = scan('counts.txt')\n",
    "summary(dat)"
   ]
  }
 ],
 "metadata": {
  "kernelspec": {
   "display_name": "SoS",
   "language": "sos",
   "name": "sos"
  },
  "language_info": {
   "codemirror_mode": "sos",
   "file_extension": ".sos",
   "mimetype": "text/x-sos",
   "name": "sos",
   "nbconvert_exporter": "sos_notebook.converter.SoS_Exporter",
   "pygments_lexer": "sos"
  },
  "sos": {
   "default_kernel": "SoS",
   "kernels": [
    [
     "R",
     "ir",
     "R",
     "#DCDCDA"
    ]
   ]
  }
 },
 "nbformat": 4,
 "nbformat_minor": 2
}
