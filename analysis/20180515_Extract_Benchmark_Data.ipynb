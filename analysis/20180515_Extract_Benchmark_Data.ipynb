{
 "cells": [
  {
   "cell_type": "markdown",
   "metadata": {
    "kernel": "SoS"
   },
   "source": [
    "# Extract per gene dataset"
   ]
  },
  {
   "cell_type": "markdown",
   "metadata": {
    "kernel": "SoS"
   },
   "source": [
    "This generates per gene data-set and surveys how many SNPs in each generated dataset."
   ]
  },
  {
   "cell_type": "code",
   "execution_count": 1,
   "metadata": {
    "kernel": "SoS"
   },
   "outputs": [
    {
     "data": {
      "text/html": [
       "\n",
       "        <table class=\"revision_table\">\n",
       "        <tr>\n",
       "        <th>Revision</th>\n",
       "        <th>Author</th>\n",
       "        <th>Date</th>\n",
       "        <th>Message</th>\n",
       "        <tr>\n",
       "        <tr><td><a target=\"_blank\" href=\"http://github.com/gaow/mvarbvs/blob/d4e8a8cd3ad151e98bb6644d7fe5ddf721fd9e5b/analysis/20180515_Extract_Benchmark_Data.ipynb\"><span class=\"revision_id\">d4e8a8c<span></a></td>\n",
       "<td>Gao Wang</td>\n",
       "<td>2018-05-24</td>\n",
       "<td>Update documentation</td></tr></table>"
      ]
     },
     "metadata": {},
     "output_type": "display_data"
    }
   ],
   "source": [
    "%revisions -s -n 10"
   ]
  },
  {
   "cell_type": "code",
   "execution_count": null,
   "metadata": {
    "kernel": "SoS"
   },
   "outputs": [],
   "source": [
    "[global]\n",
    "parameter: cwd = path('~/Documents/GTExV8')\n",
    "parameter: genotype_file = f\"{cwd:a}/GTExV7.genotype.cis.h5\"\n",
    "parameter: expr_file = f\"{cwd:a}/GTExV7.expression.h5\"\n",
    "parameter: cov_file = f\"{cwd:a}/GTExV7.covariates.h5\"\n",
    "parameter: outdir = f'{cwd:a}/Toys'\n",
    "# we can extract single or multiple tissue data\n",
    "parameter: tissues = ['Thyroid']\n",
    "# list of genes to extract data for\n",
    "parameter: genes = []\n",
    "# if list of genes is not provided we'll get from a fixed file `n` genes\n",
    "parameter: n = 200\n",
    "\n",
    "[extract]\n",
    "if len(genes) == 0:\n",
    "    genes = get_output(f'shuf {cwd:a}/all_genes.txt | sort -u | head -{n} ').strip().split('\\n')\n",
    "tissue_tables = 'c(' + ','.join([f'\"/{item}\"' for item in tissues]) + ')'\n",
    "input: for_each = 'genes', concurrent = True\n",
    "output: f\"{outdir}/{tissues[0] if len(tissues) == 1 else 'Multi_Tissues'}.{path(_genes):b}.RDS\"\n",
    "R: expand = '${ }'\n",
    "    load_genotype = function(genotype_file, geno_table) {\n",
    "            geno = h5read(genotype_file, geno_table)\n",
    "            gdata = data.frame(geno$block0_values)\n",
    "            colnames(gdata) = geno$axis1\n",
    "            rownames(gdata) = geno$axis0\n",
    "            return(gdata)\n",
    "    }\n",
    "    load_expression = function(expr_file, expr_table, gene) {\n",
    "            expr = h5read(expr_file, expr_table)\n",
    "            edata = data.frame(expr$block0_values)\n",
    "            colnames(edata) = tools::file_path_sans_ext(expr$axis1)\n",
    "            edata = data.frame(edata[, gene])\n",
    "            rownames(edata) = expr$axis0\n",
    "            colnames(edata) = gene\n",
    "            return(edata)\n",
    "    }\n",
    "    load_covariates = funtion(cov_file, cov_table) {\n",
    "            covariate <- h5read(cov_file, cov_table)\n",
    "            cdata = data.frame(covariate$block0_values)\n",
    "            colnames(cdata) = covariate$axis1\n",
    "            rownames(cdata) = covariate$axis0\n",
    "            cdata = t(cdata)\n",
    "            return(cdata)\n",
    "    }\n",
    "    load_data_single = function(genotype_file, expr_file, cov_file, geno_table, expr_table, cov_table) {\n",
    "            library(rhdf5)\n",
    "            gdata = load_genotype(genotype_file, geno_table)\n",
    "            edata = load_expression(expr_file, expr_table, basename(geno_table))\n",
    "            cdata = load_covariates(cov_file, cov_table)\n",
    "            # reorder\n",
    "            edata = edata[match(rownames(cdata), rownames(edata)),]\n",
    "            gdata = gdata[rownames(cdata),]\n",
    "            return(list(X = as.matrix(gdata), y = as.vector(edata), Z = as.matrix(cdata), chrom = strsplit(colnames(gdata)[1], '_')[[1]][1], \n",
    "                        pos = as.integer(do.call(rbind, strsplit(colnames(gdata), '_'))[,2])))\n",
    "    }\n",
    "    load_data_multi = function(genotype_file, expr_file, cov_file, geno_table, expr_tables, cov_tables) {\n",
    "            library(rhdf5)\n",
    "            gdata = load_genotype(genotype_file, geno_table)\n",
    "            edata = lapply(1:length(expr_tables), function(i) load_expression(expr_file, expr_tables[[i]], basename(geno_table)))\n",
    "            cdata = lapply(1:length(cov_tables), function(i) load_covariates(cov_file, cov_tables[[i]]))\n",
    "            y_res = list()\n",
    "            # reorder and remove covariates\n",
    "            for (i in 1:length(edata)) {\n",
    "                edata[[i]] = edata[[i]][match(rownames(cdata[[i]]), rownames(edata[[i]])),]\n",
    "                Z = scale(cdata[[i]], center=TRUE, scale=FALSE)\n",
    "                y_res[[i]] = .lm.fit(Z, y_res[[i]])$residuals\n",
    "                rownames(y_res[[i]]) = rownames(edata[[i]])\n",
    "            }\n",
    "            # merge residuals into one matrix\n",
    "            # need to ensure same rows \n",
    "            # are matched and unmatched entries are filled with NA\n",
    "            y_res_mat = NULL\n",
    "            # and match its order with genotype data\n",
    "            gdata = gdata[rownames(y_res_mat),]\n",
    "            return(list(X = as.matrix(gdata), y = edata, Z = cdata, y_res = y_res_mat,\n",
    "                        chrom = strsplit(colnames(gdata)[1], '_')[[1]][1], \n",
    "                        pos = as.integer(do.call(rbind, strsplit(colnames(gdata), '_'))[,2])))\n",
    "    }\n",
    "    #\n",
    "    geno_table = \"${_genes}\"\n",
    "    expr_table = cov_table = ${tissue_tables}\n",
    "    if (length(expr_table) == 1) {\n",
    "        dat = load_data_single(genotype_file, expr_file, cov_file, geno_table, expr_table, cov_table)\n",
    "    } else {\n",
    "        dat = load_data_multi(genotype_file, expr_file, cov_file, geno_table, expr_table, cov_table)        \n",
    "    }\n",
    "    saveRDS(dat, ${_output:r})"
   ]
  },
  {
   "cell_type": "markdown",
   "metadata": {
    "kernel": "SoS"
   },
   "source": [
    "To get an idea how many variants are there:"
   ]
  },
  {
   "cell_type": "code",
   "execution_count": null,
   "metadata": {
    "kernel": "SoS"
   },
   "outputs": [],
   "source": [
    "[count_var]\n",
    "input: glob.glob('~/Documents/GTExV8/Toys/*.RDS'), group_by = 1\n",
    "output: '~/Documents/GTExV8/Toys/counts.txt'\n",
    "R: expand = True, stdout = _output\n",
    "  cat(paste0({_input:br}, ncol(readRDS({_input:r})$X),'\\n'))"
   ]
  },
  {
   "cell_type": "code",
   "execution_count": 1,
   "metadata": {
    "kernel": "SoS"
   },
   "outputs": [
    {
     "name": "stdout",
     "output_type": "stream",
     "text": [
      "/home/gaow/Documents/GTExV8/Toys"
     ]
    }
   ],
   "source": [
    "%cd ~/Documents/GTExV8/Toys"
   ]
  },
  {
   "cell_type": "code",
   "execution_count": 2,
   "metadata": {
    "kernel": "R"
   },
   "outputs": [
    {
     "data": {
      "text/plain": [
       "   Min. 1st Qu.  Median    Mean 3rd Qu.    Max. \n",
       "   3022    6450    7226    7217    8033   11999 "
      ]
     },
     "metadata": {},
     "output_type": "display_data"
    }
   ],
   "source": [
    "dat = scan('counts.txt')\n",
    "summary(dat)"
   ]
  }
 ],
 "metadata": {
  "kernelspec": {
   "display_name": "SoS",
   "language": "sos",
   "name": "sos"
  },
  "language_info": {
   "codemirror_mode": "sos",
   "file_extension": ".sos",
   "mimetype": "text/x-sos",
   "name": "sos",
   "nbconvert_exporter": "sos_notebook.converter.SoS_Exporter",
   "pygments_lexer": "sos"
  },
  "sos": {
   "default_kernel": "SoS",
   "kernels": [
    [
     "R",
     "ir",
     "R",
     "#DCDCDA",
     ""
    ],
    [
     null,
     null,
     "",
     "",
     ""
    ]
   ],
   "panel": {
    "displayed": true,
    "height": 0
   }
  }
 },
 "nbformat": 4,
 "nbformat_minor": 2
}
