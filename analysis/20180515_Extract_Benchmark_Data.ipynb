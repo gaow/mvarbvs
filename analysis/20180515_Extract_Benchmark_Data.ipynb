{
 "cells": [
  {
   "cell_type": "markdown",
   "metadata": {},
   "source": [
    "# Extract per gene toy dataset"
   ]
  },
  {
   "cell_type": "code",
   "execution_count": null,
   "metadata": {},
   "outputs": [],
   "source": [
    "[global]\n",
    "parameter: n = 200\n",
    "outdir = path('~/Documents/GTExV8/Toys')\n",
    "tissue = 'Thyroid'\n",
    "\n",
    "[1]\n",
    "genes = get_output(f'shuf {outdir:d}/all_genes.txt | head -{n}').strip().split('\\n')\n",
    "input: for_each = 'genes', concurrent = True\n",
    "output: f\"{outdir}/{tissue}.{path(_genes):b}.RDS\"\n",
    "R: expand = '${ }'\n",
    "\n",
    "    load_data = function(genotype_file, expr_file, cov_file, geno_table, expr_table, cov_table) {\n",
    "            library(rhdf5)\n",
    "            geno = h5read(genotype_file, geno_table)\n",
    "            gdata = data.frame(geno$block0_values)\n",
    "            colnames(gdata) = geno$axis1\n",
    "            rownames(gdata) = geno$axis0\n",
    "            #\n",
    "            expr = h5read(expr_file, expr_table)\n",
    "            edata = data.frame(expr$block0_values)\n",
    "            colnames(edata) = tools::file_path_sans_ext(expr$axis1)\n",
    "            edata = data.frame(edata[, basename(geno_table)])\n",
    "            rownames(edata) = expr$axis0\n",
    "            colnames(edata) = basename(geno_table)\n",
    "            #\n",
    "            covariate <- h5read(cov_file, cov_table)\n",
    "            cdata = data.frame(covariate$block0_values)\n",
    "            colnames(cdata) = covariate$axis1\n",
    "            rownames(cdata) = covariate$axis0\n",
    "            cdata = t(cdata)\n",
    "            # reorder\n",
    "            edata = edata[match(rownames(cdata), rownames(edata)),]\n",
    "            gdata = gdata[rownames(cdata),]\n",
    "            return(list(X = as.matrix(gdata), y = as.vector(edata), Z = as.matrix(cdata), chrom = strsplit(colnames(gdata)[1], '_')[[1]][1], \n",
    "                        pos = as.integer(do.call(rbind, strsplit(colnames(gdata), '_'))[,2])))\n",
    "        }\n",
    "    genotype_file = \"GTExV8.genotype.cis.h5\"\n",
    "    expr_file = \"GTExV8.expression.h5\"\n",
    "    cov_file = \"GTExV8.covariates.h5\"\n",
    "    ## \n",
    "    geno_table = \"${_genes}\"\n",
    "    expr_table = \"/${tissue}\"\n",
    "    cov_table = \"/${tissue}\"\n",
    "    dat = load_data(genotype_file, expr_file, cov_file, geno_table, expr_table, cov_table)\n",
    "    saveRDS(dat, ${_output:r})"
   ]
  },
  {
   "cell_type": "markdown",
   "metadata": {},
   "source": [
    "```\n",
    "sos run extract.ipynb -j 40\n",
    "```"
   ]
  }
 ],
 "metadata": {
  "kernelspec": {
   "display_name": "SoS",
   "language": "sos",
   "name": "sos"
  },
  "language_info": {
   "codemirror_mode": "sos",
   "file_extension": ".sos",
   "mimetype": "text/x-sos",
   "name": "sos",
   "nbconvert_exporter": "sos_notebook.converter.SoS_Exporter",
   "pygments_lexer": "sos"
  },
  "sos": {
   "default_kernel": "SoS",
   "kernels": [
    [
     "SoS",
     "sos",
     "",
     ""
    ]
   ]
  }
 },
 "nbformat": 4,
 "nbformat_minor": 2
}
