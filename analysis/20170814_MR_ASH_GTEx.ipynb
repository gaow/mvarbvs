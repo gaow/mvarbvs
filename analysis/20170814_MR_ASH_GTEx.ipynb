{
 "cells": [
  {
   "cell_type": "markdown",
   "metadata": {},
   "source": [
    "# MR ASH GTEx genes\n",
    "Here we analyze a few GTEx genes with `mr-ash`."
   ]
  },
  {
   "cell_type": "code",
   "execution_count": null,
   "metadata": {
    "collapsed": true,
    "kernel": "SoS"
   },
   "outputs": [],
   "source": [
    "%cd ~/Documents/GTEx/MRASH/TOY"
   ]
  },
  {
   "cell_type": "code",
   "execution_count": null,
   "metadata": {
    "collapsed": true,
    "kernel": "SoS"
   },
   "outputs": [],
   "source": [
    "[global]\n",
    "depends: Py_Module('h5py')\n",
    "import h5py\n",
    "parameter: genotype_file = 'TY.genotype.h5'\n",
    "parameter: expr_file = 'TY.expr.h5'\n",
    "parameter: covar_file = 'TY.covariates.h5'\n",
    "parameter: tissues = list(h5py.File(expr_file, libver='latest').keys())\n",
    "f = h5py.File(genotype_file, libver='latest')\n",
    "parameter: genes = []\n",
    "for k in f:\n",
    "    genes.extend(['{}/{}'.format(k, x) for x in f[k]])"
   ]
  },
  {
   "cell_type": "code",
   "execution_count": null,
   "metadata": {
    "collapsed": true,
    "kernel": "SoS"
   },
   "outputs": [],
   "source": [
    "[1]\n",
    "depends: R_library('rhdf5'), R_library('tools')\n",
    "input: for_each = ['genes', 'tissues']\n",
    "output: \"${_tissues}_${_genes!b}.rds\"\n",
    "task:\n",
    "R:\n",
    "load_data = function(genotype_file, expr_file,cov_file, geno_table, expr_table,cov_table) {\n",
    "  geno = h5read(genotype_file, geno_table)\n",
    "  gdata = geno$block0_values\n",
    "  colnames(gdata) = geno$axis1\n",
    "  rownames(gdata) = geno$axis0\n",
    "  \n",
    "  expr = h5read(expr_file, expr_table)\n",
    "  edata = expr$block0_values\n",
    "  # colnames(edata) = expr$axis1\n",
    "  colnames(edata) = tools::file_path_sans_ext(expr$axis1)\n",
    "  # rownames(edata) = expr$axis0\n",
    "  rownames(edata) = apply(sapply(strsplit(expr$axis0,\"-\"), `[`, c(1,2)), 2, function(x) paste(x, collapse = '-'))\n",
    "  \n",
    "  index = which(duplicated(row.names(edata)))\n",
    "  edata = edata[-index,]\n",
    "  # edata = data.frame(edata)\n",
    "  covariate <- h5read(cov_file, cov_table)\n",
    "  cdata = covariate$block0_values\n",
    "  colnames(cdata) = apply(sapply(strsplit(covariate$axis1,\"-\"), `[`, c(1,2)), 2, function(x) paste(x, collapse = '-'))\n",
    "  # rownames(edata) = expr$axis0\n",
    "  rownames(cdata) = covariate$axis0 \n",
    "  cdata = t(cdata)[-index,]\n",
    "  gdata = data.frame(gdata)\n",
    "  # I want to use merge but later\n",
    "  # index_overlap = which(row.names(gdata) %in% row.names(edata))\n",
    "  edata = edata[, basename(geno_table)]\n",
    "  edata = data.frame(edata)\n",
    "  edata$ID = rownames(edata)\n",
    "  gdata$ID = rownames(gdata)\n",
    "  output = merge(x = edata, y = gdata, by = \"ID\", all.x = TRUE)\n",
    "  # gdata = gdata[index_overlap,]\n",
    "  return(list(X=as.matrix(output[,-c(1,2)]), y = as.vector(output$edata), Z = as.matrix(cdata)))\n",
    "}\n",
    "\n",
    "autoselect.mixsd = function(betahat,sebetahat,mult = sqrt(2)){\n",
    "  sebetahat=sebetahat[sebetahat!=0] #To avoid exact measure causing (usually by mistake)\n",
    "  sigmaamin = min(sebetahat)/10 #so that the minimum is small compared with measurement precision\n",
    "  if(all(betahat^2<=sebetahat^2)){\n",
    "    sigmaamax = 8*sigmaamin #to deal with the occassional odd case where this could happen; 8 is arbitrary\n",
    "  }else{\n",
    "    sigmaamax = 2*sqrt(max(betahat^2-sebetahat^2)) #this computes a rough largest value you'd want to use, based on idea that sigmaamax^2 + sebetahat^2 should be at least betahat^2   \n",
    "  }\n",
    "  if(mult==0){\n",
    "    return(c(0,sigmaamax/2))\n",
    "  }else{\n",
    "    npoint = ceiling(log2(sigmaamax/sigmaamin)/log2(mult))\n",
    "    return(mult^((-npoint):0) * sigmaamax)\n",
    "  }\n",
    "}\n",
    "\n",
    "initial_step = function(X,y,Z = NULL){\n",
    "  P = dim(X)[2]\n",
    "  output = matrix(0,nrow = P,ncol = 2)\n",
    "  for(i in 1:P){\n",
    "    if(is.null(Z)){\n",
    "      g = summary(lm(y~X[,i]))\n",
    "    } else{\n",
    "      g = summary(lm(y~X[,i]+Z))\n",
    "    }\n",
    "    \n",
    "    output[i,] = g$coefficients[2,1:2]\n",
    "  }\n",
    "  return(list(betahat = output[,1],sebetahat = output[,2]))\n",
    "}\n",
    "                                                                  \n",
    "analyze = function(genename = '/chr4/ENSG00000145214', tissue = '/Lung', out = 'test.rds'){\n",
    "  library(rhdf5)\n",
    "  genotype_file = ${genotype_file!r}\n",
    "  expr_file = ${expr_file!r}\n",
    "  geno_table = genename\n",
    "  expr_table = tissue \n",
    "  gene = basename(geno_table)\n",
    "  cov_file = ${covar_file!r}\n",
    "  cov_table = expr_table\n",
    "  dat = load_data(genotype_file = genotype_file,\n",
    "                  expr_file = expr_file,\n",
    "                  cov_file = cov_file,\n",
    "                  geno_table = geno_table,\n",
    "                  expr_table = expr_table,\n",
    "                  cov_table = cov_table)\n",
    "  X = as.matrix(dat$X)\n",
    "  X = X[,which(colSums(X)!=0)]\n",
    "  if ((nrow(X) == 0) || (ncol(X) == 0)) {\n",
    "  \tsaveRDS(list(), out)\n",
    "  } else {\n",
    "  storage.mode(X) <- \"double\"\n",
    "  y = as.vector(dat$y)\n",
    "  Z = as.matrix(dat$Z)\n",
    "  initial = initial_step(X,y,Z)\n",
    "  mixsd = autoselect.mixsd(initial$betahat,initial$sebetahat)\n",
    "  logdata = capture.output({res = varbvs::varbvsmix(X, Z, y, sa = c(0,mixsd^2)) })\n",
    "  mrash_out = list(betahat = rowSums(res$alpha * res$mu))\n",
    "  ash_out = ashr::ash(initial$betahat,initial$sebetahat,mixcompdist = \"normal\")\n",
    "  saveRDS(list(ash = ash_out, uni = initial, mr_ash = mrash_out, logdata = logdata), out)\n",
    "}\n",
    "}\n",
    "analyze(genename = \"/${_genes}\", tissue = \"/${_tissues}\", out = ${_output!r})"
   ]
  },
  {
   "cell_type": "code",
   "execution_count": null,
   "metadata": {
    "collapsed": true,
    "kernel": "SoS",
    "scrolled": false
   },
   "outputs": [],
   "source": [
    "%sosrun -J 40"
   ]
  },
  {
   "cell_type": "code",
   "execution_count": null,
   "metadata": {
    "collapsed": true
   },
   "outputs": [],
   "source": []
  }
 ],
 "metadata": {
  "celltoolbar": "Tags",
  "kernelspec": {
   "display_name": "SoS",
   "language": "sos",
   "name": "sos"
  },
  "language_info": {
   "codemirror_mode": "sos",
   "file_extension": ".sos",
   "mimetype": "text/x-sos",
   "name": "sos",
   "nbconvert_exporter": "sos.jupyter.converter.SoS_Exporter",
   "pygments_lexer": "sos"
  },
  "sos": {
   "default_kernel": "SoS",
   "kernels": [
    [
     "SoS",
     "sos",
     "",
     ""
    ],
    [
     "Python3",
     "python3",
     "Python3",
     "#FFE771"
    ],
    [
     "R",
     "ir",
     "R",
     "#DCDCDA"
    ]
   ],
   "panel": {
    "displayed": true,
    "height": 0,
    "style": "side"
   }
  }
 },
 "nbformat": 4,
 "nbformat_minor": 2
}
