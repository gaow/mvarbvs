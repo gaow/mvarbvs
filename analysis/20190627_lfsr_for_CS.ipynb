{
 "cells": [
  {
   "cell_type": "markdown",
   "metadata": {},
   "source": [
    "# Investigating behavior of lfsr for condition specific CS"
   ]
  },
  {
   "cell_type": "markdown",
   "metadata": {},
   "source": [
    "Here I investigate behavior of lfsr of CS per condition, using singleton simulation setting."
   ]
  },
  {
   "cell_type": "markdown",
   "metadata": {},
   "source": [
    "## Load data"
   ]
  },
  {
   "cell_type": "code",
   "execution_count": 1,
   "metadata": {},
   "outputs": [],
   "source": [
    "Y = dscrutils::read_dsc('small_data_1_singleton_1.pkl')"
   ]
  },
  {
   "cell_type": "code",
   "execution_count": 2,
   "metadata": {},
   "outputs": [
    {
     "data": {
      "text/html": [
       "<ol class=list-inline>\n",
       "\t<li>'Y'</li>\n",
       "\t<li>'R'</li>\n",
       "\t<li>'J'</li>\n",
       "\t<li>'meta'</li>\n",
       "\t<li>'DSC_DEBUG'</li>\n",
       "</ol>\n"
      ],
      "text/latex": [
       "\\begin{enumerate*}\n",
       "\\item 'Y'\n",
       "\\item 'R'\n",
       "\\item 'J'\n",
       "\\item 'meta'\n",
       "\\item 'DSC\\_DEBUG'\n",
       "\\end{enumerate*}\n"
      ],
      "text/markdown": [
       "1. 'Y'\n",
       "2. 'R'\n",
       "3. 'J'\n",
       "4. 'meta'\n",
       "5. 'DSC_DEBUG'\n",
       "\n",
       "\n"
      ],
      "text/plain": [
       "[1] \"Y\"         \"R\"         \"J\"         \"meta\"      \"DSC_DEBUG\""
      ]
     },
     "metadata": {},
     "output_type": "display_data"
    }
   ],
   "source": [
    "names(Y)"
   ]
  },
  {
   "cell_type": "code",
   "execution_count": 3,
   "metadata": {},
   "outputs": [],
   "source": [
    "X = readRDS('small_data_1.rds')"
   ]
  },
  {
   "cell_type": "code",
   "execution_count": 4,
   "metadata": {},
   "outputs": [
    {
     "data": {
      "text/html": [
       "<ol class=list-inline>\n",
       "\t<li>'X'</li>\n",
       "\t<li>'Y'</li>\n",
       "\t<li>'N'</li>\n",
       "\t<li>'meta'</li>\n",
       "\t<li>'DSC_DEBUG'</li>\n",
       "</ol>\n"
      ],
      "text/latex": [
       "\\begin{enumerate*}\n",
       "\\item 'X'\n",
       "\\item 'Y'\n",
       "\\item 'N'\n",
       "\\item 'meta'\n",
       "\\item 'DSC\\_DEBUG'\n",
       "\\end{enumerate*}\n"
      ],
      "text/markdown": [
       "1. 'X'\n",
       "2. 'Y'\n",
       "3. 'N'\n",
       "4. 'meta'\n",
       "5. 'DSC_DEBUG'\n",
       "\n",
       "\n"
      ],
      "text/plain": [
       "[1] \"X\"         \"Y\"         \"N\"         \"meta\"      \"DSC_DEBUG\""
      ]
     },
     "metadata": {},
     "output_type": "display_data"
    }
   ],
   "source": [
    "names(X)"
   ]
  },
  {
   "cell_type": "code",
   "execution_count": 5,
   "metadata": {},
   "outputs": [
    {
     "data": {
      "text/html": [
       "<ol class=list-inline>\n",
       "\t<li>'xUlist'</li>\n",
       "\t<li>'pi'</li>\n",
       "\t<li>'null_weight'</li>\n",
       "</ol>\n"
      ],
      "text/latex": [
       "\\begin{enumerate*}\n",
       "\\item 'xUlist'\n",
       "\\item 'pi'\n",
       "\\item 'null\\_weight'\n",
       "\\end{enumerate*}\n"
      ],
      "text/markdown": [
       "1. 'xUlist'\n",
       "2. 'pi'\n",
       "3. 'null_weight'\n",
       "\n",
       "\n"
      ],
      "text/plain": [
       "[1] \"xUlist\"      \"pi\"          \"null_weight\""
      ]
     },
     "metadata": {},
     "output_type": "display_data"
    }
   ],
   "source": [
    "prior = dscrutils::read_dsc('oracle_generator_1.pkl')$configurations$mixture_1\n",
    "names(prior)"
   ]
  },
  {
   "cell_type": "markdown",
   "metadata": {},
   "source": [
    "## Setup M&M model"
   ]
  },
  {
   "cell_type": "code",
   "execution_count": 6,
   "metadata": {},
   "outputs": [],
   "source": [
    "m_init = mmbr:::MashInitializer$new(prior$xUlist, NULL, prior$pi, prior$null_weight, Y$meta$residual_correlation)\n",
    "result = mmbr::susie(X$X, Y$Y, L=10, V=m_init)"
   ]
  },
  {
   "cell_type": "code",
   "execution_count": 7,
   "metadata": {},
   "outputs": [
    {
     "data": {
      "text/html": [
       "<ol class=list-inline>\n",
       "\t<li>-0.452527792535091</li>\n",
       "\t<li>0</li>\n",
       "\t<li>0</li>\n",
       "\t<li>0</li>\n",
       "\t<li>0</li>\n",
       "</ol>\n"
      ],
      "text/latex": [
       "\\begin{enumerate*}\n",
       "\\item -0.452527792535091\n",
       "\\item 0\n",
       "\\item 0\n",
       "\\item 0\n",
       "\\item 0\n",
       "\\end{enumerate*}\n"
      ],
      "text/markdown": [
       "1. -0.452527792535091\n",
       "2. 0\n",
       "3. 0\n",
       "4. 0\n",
       "5. 0\n",
       "\n",
       "\n"
      ],
      "text/plain": [
       "[1] -0.4525278  0.0000000  0.0000000  0.0000000  0.0000000"
      ]
     },
     "metadata": {},
     "output_type": "display_data"
    }
   ],
   "source": [
    "true_idx = which(apply(Y$meta$true_coef, 1, sum) != 0)\n",
    "Y$meta$true_coef[true_idx,]"
   ]
  },
  {
   "cell_type": "code",
   "execution_count": 8,
   "metadata": {},
   "outputs": [
    {
     "data": {
      "text/html": [
       "136"
      ],
      "text/latex": [
       "136"
      ],
      "text/markdown": [
       "136"
      ],
      "text/plain": [
       "[1] 136"
      ]
     },
     "metadata": {},
     "output_type": "display_data"
    }
   ],
   "source": [
    "true_idx"
   ]
  },
  {
   "cell_type": "code",
   "execution_count": 9,
   "metadata": {},
   "outputs": [
    {
     "data": {
      "text/html": [
       "<ol class=list-inline>\n",
       "\t<li>'alpha'</li>\n",
       "\t<li>'mu'</li>\n",
       "\t<li>'mu2'</li>\n",
       "\t<li>'KL'</li>\n",
       "\t<li>'lbf'</li>\n",
       "\t<li>'sigma2'</li>\n",
       "\t<li>'V'</li>\n",
       "\t<li>'elbo'</li>\n",
       "\t<li>'niter'</li>\n",
       "\t<li>'fitted'</li>\n",
       "\t<li>'coef'</li>\n",
       "\t<li>'null_index'</li>\n",
       "\t<li>'mixture_weights'</li>\n",
       "\t<li>'intercept'</li>\n",
       "\t<li>'sets'</li>\n",
       "\t<li>'pip'</li>\n",
       "</ol>\n"
      ],
      "text/latex": [
       "\\begin{enumerate*}\n",
       "\\item 'alpha'\n",
       "\\item 'mu'\n",
       "\\item 'mu2'\n",
       "\\item 'KL'\n",
       "\\item 'lbf'\n",
       "\\item 'sigma2'\n",
       "\\item 'V'\n",
       "\\item 'elbo'\n",
       "\\item 'niter'\n",
       "\\item 'fitted'\n",
       "\\item 'coef'\n",
       "\\item 'null\\_index'\n",
       "\\item 'mixture\\_weights'\n",
       "\\item 'intercept'\n",
       "\\item 'sets'\n",
       "\\item 'pip'\n",
       "\\end{enumerate*}\n"
      ],
      "text/markdown": [
       "1. 'alpha'\n",
       "2. 'mu'\n",
       "3. 'mu2'\n",
       "4. 'KL'\n",
       "5. 'lbf'\n",
       "6. 'sigma2'\n",
       "7. 'V'\n",
       "8. 'elbo'\n",
       "9. 'niter'\n",
       "10. 'fitted'\n",
       "11. 'coef'\n",
       "12. 'null_index'\n",
       "13. 'mixture_weights'\n",
       "14. 'intercept'\n",
       "15. 'sets'\n",
       "16. 'pip'\n",
       "\n",
       "\n"
      ],
      "text/plain": [
       " [1] \"alpha\"           \"mu\"              \"mu2\"             \"KL\"             \n",
       " [5] \"lbf\"             \"sigma2\"          \"V\"               \"elbo\"           \n",
       " [9] \"niter\"           \"fitted\"          \"coef\"            \"null_index\"     \n",
       "[13] \"mixture_weights\" \"intercept\"       \"sets\"            \"pip\"            "
      ]
     },
     "metadata": {},
     "output_type": "display_data"
    }
   ],
   "source": [
    "names(result)"
   ]
  },
  {
   "cell_type": "code",
   "execution_count": 10,
   "metadata": {},
   "outputs": [
    {
     "data": {
      "text/html": [
       "<ol class=list-inline>\n",
       "\t<li>10</li>\n",
       "\t<li>1001</li>\n",
       "\t<li>41</li>\n",
       "</ol>\n"
      ],
      "text/latex": [
       "\\begin{enumerate*}\n",
       "\\item 10\n",
       "\\item 1001\n",
       "\\item 41\n",
       "\\end{enumerate*}\n"
      ],
      "text/markdown": [
       "1. 10\n",
       "2. 1001\n",
       "3. 41\n",
       "\n",
       "\n"
      ],
      "text/plain": [
       "[1]   10 1001   41"
      ]
     },
     "metadata": {},
     "output_type": "display_data"
    }
   ],
   "source": [
    "dim(result$mixture_weights)"
   ]
  },
  {
   "cell_type": "code",
   "execution_count": 11,
   "metadata": {},
   "outputs": [
    {
     "data": {
      "text/html": [
       "0.266990630555645"
      ],
      "text/latex": [
       "0.266990630555645"
      ],
      "text/markdown": [
       "0.266990630555645"
      ],
      "text/plain": [
       "[1] 0.2669906"
      ]
     },
     "metadata": {},
     "output_type": "display_data"
    }
   ],
   "source": [
    "result$pip[true_idx]"
   ]
  },
  {
   "cell_type": "code",
   "execution_count": 12,
   "metadata": {},
   "outputs": [
    {
     "data": {
      "text/html": [
       "<dl>\n",
       "\t<dt>$cs</dt>\n",
       "\t\t<dd><strong>$L1</strong> = <ol class=list-inline>\n",
       "\t<li>63</li>\n",
       "\t<li>119</li>\n",
       "\t<li>128</li>\n",
       "\t<li>130</li>\n",
       "\t<li>136</li>\n",
       "</ol>\n",
       "</dd>\n",
       "\t<dt>$purity</dt>\n",
       "\t\t<dd><table>\n",
       "<thead><tr><th></th><th scope=col>min.abs.corr</th><th scope=col>mean.abs.corr</th><th scope=col>median.abs.corr</th></tr></thead>\n",
       "<tbody>\n",
       "\t<tr><th scope=row>L1</th><td>0.9685025</td><td>0.9850541</td><td>0.9828454</td></tr>\n",
       "</tbody>\n",
       "</table>\n",
       "</dd>\n",
       "\t<dt>$cs_index</dt>\n",
       "\t\t<dd>1</dd>\n",
       "\t<dt>$coverage</dt>\n",
       "\t\t<dd>0.95</dd>\n",
       "</dl>\n"
      ],
      "text/latex": [
       "\\begin{description}\n",
       "\\item[\\$cs] \\textbf{\\$L1} = \\begin{enumerate*}\n",
       "\\item 63\n",
       "\\item 119\n",
       "\\item 128\n",
       "\\item 130\n",
       "\\item 136\n",
       "\\end{enumerate*}\n",
       "\n",
       "\\item[\\$purity] \\begin{tabular}{r|lll}\n",
       "  & min.abs.corr & mean.abs.corr & median.abs.corr\\\\\n",
       "\\hline\n",
       "\tL1 & 0.9685025 & 0.9850541 & 0.9828454\\\\\n",
       "\\end{tabular}\n",
       "\n",
       "\\item[\\$cs\\_index] 1\n",
       "\\item[\\$coverage] 0.95\n",
       "\\end{description}\n"
      ],
      "text/markdown": [
       "$cs\n",
       ":   **$L1** = 1. 63\n",
       "2. 119\n",
       "3. 128\n",
       "4. 130\n",
       "5. 136\n",
       "\n",
       "\n",
       "\n",
       "$purity\n",
       ":   \n",
       "| <!--/--> | min.abs.corr | mean.abs.corr | median.abs.corr | \n",
       "|---|\n",
       "| L1 | 0.9685025 | 0.9850541 | 0.9828454 | \n",
       "\n",
       "\n",
       "\n",
       "$cs_index\n",
       ":   1\n",
       "$coverage\n",
       ":   0.95\n",
       "\n",
       "\n"
      ],
      "text/plain": [
       "$cs\n",
       "$cs$L1\n",
       "[1]  63 119 128 130 136\n",
       "\n",
       "\n",
       "$purity\n",
       "   min.abs.corr mean.abs.corr median.abs.corr\n",
       "L1    0.9685025     0.9850541       0.9828454\n",
       "\n",
       "$cs_index\n",
       "[1] 1\n",
       "\n",
       "$coverage\n",
       "[1] 0.95\n"
      ]
     },
     "metadata": {},
     "output_type": "display_data"
    }
   ],
   "source": [
    "result$sets"
   ]
  },
  {
   "cell_type": "code",
   "execution_count": 13,
   "metadata": {},
   "outputs": [],
   "source": [
    "pip = mmbr::mmbr_get_pip_per_condition(result, m_init)"
   ]
  },
  {
   "cell_type": "code",
   "execution_count": 14,
   "metadata": {},
   "outputs": [
    {
     "data": {
      "text/html": [
       "<ol class=list-inline>\n",
       "\t<li>0.263549734245782</li>\n",
       "\t<li>0.0125849967978989</li>\n",
       "\t<li>0.0115212740782256</li>\n",
       "\t<li>0.0114882603162298</li>\n",
       "\t<li>0.0120969090373405</li>\n",
       "</ol>\n"
      ],
      "text/latex": [
       "\\begin{enumerate*}\n",
       "\\item 0.263549734245782\n",
       "\\item 0.0125849967978989\n",
       "\\item 0.0115212740782256\n",
       "\\item 0.0114882603162298\n",
       "\\item 0.0120969090373405\n",
       "\\end{enumerate*}\n"
      ],
      "text/markdown": [
       "1. 0.263549734245782\n",
       "2. 0.0125849967978989\n",
       "3. 0.0115212740782256\n",
       "4. 0.0114882603162298\n",
       "5. 0.0120969090373405\n",
       "\n",
       "\n"
      ],
      "text/plain": [
       "[1] 0.26354973 0.01258500 0.01152127 0.01148826 0.01209691"
      ]
     },
     "metadata": {},
     "output_type": "display_data"
    }
   ],
   "source": [
    "pip[true_idx,]"
   ]
  },
  {
   "cell_type": "markdown",
   "metadata": {},
   "source": [
    "This looks perfectly Okay."
   ]
  },
  {
   "cell_type": "code",
   "execution_count": 15,
   "metadata": {},
   "outputs": [
    {
     "data": {
      "text/html": [
       "<table>\n",
       "<tbody>\n",
       "\t<tr><td>0.0005888439</td><td>0.9846616   </td><td>0.9877158   </td><td>0.988432    </td><td>0.9859519   </td></tr>\n",
       "\t<tr><td>1.0000000000</td><td>1.0000000   </td><td>1.0000000   </td><td>1.000000    </td><td>1.0000000   </td></tr>\n",
       "\t<tr><td>1.0000000000</td><td>1.0000000   </td><td>1.0000000   </td><td>1.000000    </td><td>1.0000000   </td></tr>\n",
       "\t<tr><td>1.0000000000</td><td>1.0000000   </td><td>1.0000000   </td><td>1.000000    </td><td>1.0000000   </td></tr>\n",
       "\t<tr><td>1.0000000000</td><td>1.0000000   </td><td>1.0000000   </td><td>1.000000    </td><td>1.0000000   </td></tr>\n",
       "\t<tr><td>1.0000000000</td><td>1.0000000   </td><td>1.0000000   </td><td>1.000000    </td><td>1.0000000   </td></tr>\n",
       "\t<tr><td>1.0000000000</td><td>1.0000000   </td><td>1.0000000   </td><td>1.000000    </td><td>1.0000000   </td></tr>\n",
       "\t<tr><td>1.0000000000</td><td>1.0000000   </td><td>1.0000000   </td><td>1.000000    </td><td>1.0000000   </td></tr>\n",
       "\t<tr><td>1.0000000000</td><td>1.0000000   </td><td>1.0000000   </td><td>1.000000    </td><td>1.0000000   </td></tr>\n",
       "\t<tr><td>1.0000000000</td><td>1.0000000   </td><td>1.0000000   </td><td>1.000000    </td><td>1.0000000   </td></tr>\n",
       "</tbody>\n",
       "</table>\n"
      ],
      "text/latex": [
       "\\begin{tabular}{lllll}\n",
       "\t 0.0005888439 & 0.9846616    & 0.9877158    & 0.988432     & 0.9859519   \\\\\n",
       "\t 1.0000000000 & 1.0000000    & 1.0000000    & 1.000000     & 1.0000000   \\\\\n",
       "\t 1.0000000000 & 1.0000000    & 1.0000000    & 1.000000     & 1.0000000   \\\\\n",
       "\t 1.0000000000 & 1.0000000    & 1.0000000    & 1.000000     & 1.0000000   \\\\\n",
       "\t 1.0000000000 & 1.0000000    & 1.0000000    & 1.000000     & 1.0000000   \\\\\n",
       "\t 1.0000000000 & 1.0000000    & 1.0000000    & 1.000000     & 1.0000000   \\\\\n",
       "\t 1.0000000000 & 1.0000000    & 1.0000000    & 1.000000     & 1.0000000   \\\\\n",
       "\t 1.0000000000 & 1.0000000    & 1.0000000    & 1.000000     & 1.0000000   \\\\\n",
       "\t 1.0000000000 & 1.0000000    & 1.0000000    & 1.000000     & 1.0000000   \\\\\n",
       "\t 1.0000000000 & 1.0000000    & 1.0000000    & 1.000000     & 1.0000000   \\\\\n",
       "\\end{tabular}\n"
      ],
      "text/markdown": [
       "\n",
       "| 0.0005888439 | 0.9846616    | 0.9877158    | 0.988432     | 0.9859519    | \n",
       "| 1.0000000000 | 1.0000000    | 1.0000000    | 1.000000     | 1.0000000    | \n",
       "| 1.0000000000 | 1.0000000    | 1.0000000    | 1.000000     | 1.0000000    | \n",
       "| 1.0000000000 | 1.0000000    | 1.0000000    | 1.000000     | 1.0000000    | \n",
       "| 1.0000000000 | 1.0000000    | 1.0000000    | 1.000000     | 1.0000000    | \n",
       "| 1.0000000000 | 1.0000000    | 1.0000000    | 1.000000     | 1.0000000    | \n",
       "| 1.0000000000 | 1.0000000    | 1.0000000    | 1.000000     | 1.0000000    | \n",
       "| 1.0000000000 | 1.0000000    | 1.0000000    | 1.000000     | 1.0000000    | \n",
       "| 1.0000000000 | 1.0000000    | 1.0000000    | 1.000000     | 1.0000000    | \n",
       "| 1.0000000000 | 1.0000000    | 1.0000000    | 1.000000     | 1.0000000    | \n",
       "\n",
       "\n"
      ],
      "text/plain": [
       "      [,1]         [,2]      [,3]      [,4]     [,5]     \n",
       " [1,] 0.0005888439 0.9846616 0.9877158 0.988432 0.9859519\n",
       " [2,] 1.0000000000 1.0000000 1.0000000 1.000000 1.0000000\n",
       " [3,] 1.0000000000 1.0000000 1.0000000 1.000000 1.0000000\n",
       " [4,] 1.0000000000 1.0000000 1.0000000 1.000000 1.0000000\n",
       " [5,] 1.0000000000 1.0000000 1.0000000 1.000000 1.0000000\n",
       " [6,] 1.0000000000 1.0000000 1.0000000 1.000000 1.0000000\n",
       " [7,] 1.0000000000 1.0000000 1.0000000 1.000000 1.0000000\n",
       " [8,] 1.0000000000 1.0000000 1.0000000 1.000000 1.0000000\n",
       " [9,] 1.0000000000 1.0000000 1.0000000 1.000000 1.0000000\n",
       "[10,] 1.0000000000 1.0000000 1.0000000 1.000000 1.0000000"
      ]
     },
     "metadata": {},
     "output_type": "display_data"
    }
   ],
   "source": [
    "lfsr = mmbr::mmbr_get_lfsr(result, m_init)\n",
    "lfsr"
   ]
  },
  {
   "cell_type": "markdown",
   "metadata": {},
   "source": [
    "This also looks good."
   ]
  },
  {
   "cell_type": "markdown",
   "metadata": {},
   "source": [
    "## Another dataset"
   ]
  },
  {
   "cell_type": "markdown",
   "metadata": {},
   "source": [
    "Now let me try another data-set,"
   ]
  },
  {
   "cell_type": "code",
   "execution_count": 16,
   "metadata": {},
   "outputs": [
    {
     "data": {
      "text/html": [
       "<ol class=list-inline>\n",
       "\t<li>0</li>\n",
       "\t<li>0</li>\n",
       "\t<li>0</li>\n",
       "\t<li>0</li>\n",
       "\t<li>-0.200455126526174</li>\n",
       "</ol>\n"
      ],
      "text/latex": [
       "\\begin{enumerate*}\n",
       "\\item 0\n",
       "\\item 0\n",
       "\\item 0\n",
       "\\item 0\n",
       "\\item -0.200455126526174\n",
       "\\end{enumerate*}\n"
      ],
      "text/markdown": [
       "1. 0\n",
       "2. 0\n",
       "3. 0\n",
       "4. 0\n",
       "5. -0.200455126526174\n",
       "\n",
       "\n"
      ],
      "text/plain": [
       "[1]  0.0000000  0.0000000  0.0000000  0.0000000 -0.2004551"
      ]
     },
     "metadata": {},
     "output_type": "display_data"
    }
   ],
   "source": [
    "Y = dscrutils::read_dsc('small_data_100_singleton_1.pkl')\n",
    "X = readRDS('small_data_100.rds')\n",
    "prior = dscrutils::read_dsc('oracle_generator_1.pkl')$configurations$mixture_1\n",
    "m_init = mmbr:::MashInitializer$new(prior$xUlist, NULL, prior$pi, prior$null_weight, Y$meta$residual_correlation)\n",
    "result = mmbr::susie(X$X, Y$Y, L=10, V=m_init)\n",
    "true_idx = which(apply(Y$meta$true_coef, 1, sum) != 0)\n",
    "Y$meta$true_coef[true_idx,]"
   ]
  },
  {
   "cell_type": "code",
   "execution_count": 17,
   "metadata": {},
   "outputs": [
    {
     "data": {
      "text/html": [
       "<ol class=list-inline>\n",
       "\t<li>0.00388769469577288</li>\n",
       "\t<li>0.00397410849521607</li>\n",
       "\t<li>0.00389179779816473</li>\n",
       "\t<li>0.00389232580332377</li>\n",
       "\t<li>0.216374802538277</li>\n",
       "</ol>\n"
      ],
      "text/latex": [
       "\\begin{enumerate*}\n",
       "\\item 0.00388769469577288\n",
       "\\item 0.00397410849521607\n",
       "\\item 0.00389179779816473\n",
       "\\item 0.00389232580332377\n",
       "\\item 0.216374802538277\n",
       "\\end{enumerate*}\n"
      ],
      "text/markdown": [
       "1. 0.00388769469577288\n",
       "2. 0.00397410849521607\n",
       "3. 0.00389179779816473\n",
       "4. 0.00389232580332377\n",
       "5. 0.216374802538277\n",
       "\n",
       "\n"
      ],
      "text/plain": [
       "[1] 0.003887695 0.003974108 0.003891798 0.003892326 0.216374803"
      ]
     },
     "metadata": {},
     "output_type": "display_data"
    }
   ],
   "source": [
    "pip = mmbr::mmbr_get_pip_per_condition(result, m_init)\n",
    "pip[true_idx,]"
   ]
  },
  {
   "cell_type": "markdown",
   "metadata": {},
   "source": [
    "This looks good."
   ]
  },
  {
   "cell_type": "markdown",
   "metadata": {},
   "source": [
    "## lfsr extraction"
   ]
  },
  {
   "cell_type": "code",
   "execution_count": 18,
   "metadata": {},
   "outputs": [],
   "source": [
    "lfsr = mmbr::mmbr_get_lfsr(result, m_init)"
   ]
  },
  {
   "cell_type": "code",
   "execution_count": 19,
   "metadata": {},
   "outputs": [
    {
     "data": {
      "text/html": [
       "<table>\n",
       "<tbody>\n",
       "\t<tr><td>0.9947506 </td><td>0.9946973 </td><td>0.9947697 </td><td>0.9947516 </td><td>0.01336184</td></tr>\n",
       "\t<tr><td>1.0000000 </td><td>1.0000000 </td><td>1.0000000 </td><td>1.0000000 </td><td>1.00000000</td></tr>\n",
       "\t<tr><td>1.0000000 </td><td>1.0000000 </td><td>1.0000000 </td><td>1.0000000 </td><td>1.00000000</td></tr>\n",
       "\t<tr><td>1.0000000 </td><td>1.0000000 </td><td>1.0000000 </td><td>1.0000000 </td><td>1.00000000</td></tr>\n",
       "\t<tr><td>1.0000000 </td><td>1.0000000 </td><td>1.0000000 </td><td>1.0000000 </td><td>1.00000000</td></tr>\n",
       "\t<tr><td>1.0000000 </td><td>1.0000000 </td><td>1.0000000 </td><td>1.0000000 </td><td>1.00000000</td></tr>\n",
       "\t<tr><td>1.0000000 </td><td>1.0000000 </td><td>1.0000000 </td><td>1.0000000 </td><td>1.00000000</td></tr>\n",
       "\t<tr><td>1.0000000 </td><td>1.0000000 </td><td>1.0000000 </td><td>1.0000000 </td><td>1.00000000</td></tr>\n",
       "\t<tr><td>1.0000000 </td><td>1.0000000 </td><td>1.0000000 </td><td>1.0000000 </td><td>1.00000000</td></tr>\n",
       "\t<tr><td>1.0000000 </td><td>1.0000000 </td><td>1.0000000 </td><td>1.0000000 </td><td>1.00000000</td></tr>\n",
       "</tbody>\n",
       "</table>\n"
      ],
      "text/latex": [
       "\\begin{tabular}{lllll}\n",
       "\t 0.9947506  & 0.9946973  & 0.9947697  & 0.9947516  & 0.01336184\\\\\n",
       "\t 1.0000000  & 1.0000000  & 1.0000000  & 1.0000000  & 1.00000000\\\\\n",
       "\t 1.0000000  & 1.0000000  & 1.0000000  & 1.0000000  & 1.00000000\\\\\n",
       "\t 1.0000000  & 1.0000000  & 1.0000000  & 1.0000000  & 1.00000000\\\\\n",
       "\t 1.0000000  & 1.0000000  & 1.0000000  & 1.0000000  & 1.00000000\\\\\n",
       "\t 1.0000000  & 1.0000000  & 1.0000000  & 1.0000000  & 1.00000000\\\\\n",
       "\t 1.0000000  & 1.0000000  & 1.0000000  & 1.0000000  & 1.00000000\\\\\n",
       "\t 1.0000000  & 1.0000000  & 1.0000000  & 1.0000000  & 1.00000000\\\\\n",
       "\t 1.0000000  & 1.0000000  & 1.0000000  & 1.0000000  & 1.00000000\\\\\n",
       "\t 1.0000000  & 1.0000000  & 1.0000000  & 1.0000000  & 1.00000000\\\\\n",
       "\\end{tabular}\n"
      ],
      "text/markdown": [
       "\n",
       "| 0.9947506  | 0.9946973  | 0.9947697  | 0.9947516  | 0.01336184 | \n",
       "| 1.0000000  | 1.0000000  | 1.0000000  | 1.0000000  | 1.00000000 | \n",
       "| 1.0000000  | 1.0000000  | 1.0000000  | 1.0000000  | 1.00000000 | \n",
       "| 1.0000000  | 1.0000000  | 1.0000000  | 1.0000000  | 1.00000000 | \n",
       "| 1.0000000  | 1.0000000  | 1.0000000  | 1.0000000  | 1.00000000 | \n",
       "| 1.0000000  | 1.0000000  | 1.0000000  | 1.0000000  | 1.00000000 | \n",
       "| 1.0000000  | 1.0000000  | 1.0000000  | 1.0000000  | 1.00000000 | \n",
       "| 1.0000000  | 1.0000000  | 1.0000000  | 1.0000000  | 1.00000000 | \n",
       "| 1.0000000  | 1.0000000  | 1.0000000  | 1.0000000  | 1.00000000 | \n",
       "| 1.0000000  | 1.0000000  | 1.0000000  | 1.0000000  | 1.00000000 | \n",
       "\n",
       "\n"
      ],
      "text/plain": [
       "      [,1]      [,2]      [,3]      [,4]      [,5]      \n",
       " [1,] 0.9947506 0.9946973 0.9947697 0.9947516 0.01336184\n",
       " [2,] 1.0000000 1.0000000 1.0000000 1.0000000 1.00000000\n",
       " [3,] 1.0000000 1.0000000 1.0000000 1.0000000 1.00000000\n",
       " [4,] 1.0000000 1.0000000 1.0000000 1.0000000 1.00000000\n",
       " [5,] 1.0000000 1.0000000 1.0000000 1.0000000 1.00000000\n",
       " [6,] 1.0000000 1.0000000 1.0000000 1.0000000 1.00000000\n",
       " [7,] 1.0000000 1.0000000 1.0000000 1.0000000 1.00000000\n",
       " [8,] 1.0000000 1.0000000 1.0000000 1.0000000 1.00000000\n",
       " [9,] 1.0000000 1.0000000 1.0000000 1.0000000 1.00000000\n",
       "[10,] 1.0000000 1.0000000 1.0000000 1.0000000 1.00000000"
      ]
     },
     "metadata": {},
     "output_type": "display_data"
    }
   ],
   "source": [
    "lfsr"
   ]
  },
  {
   "cell_type": "markdown",
   "metadata": {},
   "source": [
    "This also looks good."
   ]
  }
 ],
 "metadata": {
  "kernelspec": {
   "display_name": "R",
   "language": "R",
   "name": "ir"
  },
  "language_info": {
   "codemirror_mode": "r",
   "file_extension": ".r",
   "mimetype": "text/x-r-source",
   "name": "R",
   "pygments_lexer": "r",
   "version": "3.5.3"
  }
 },
 "nbformat": 4,
 "nbformat_minor": 2
}
