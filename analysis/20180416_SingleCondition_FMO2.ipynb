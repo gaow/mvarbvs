{
 "cells": [
  {
   "cell_type": "markdown",
   "metadata": {},
   "source": [
    "# Univariate analysis on FMO2 data in GTEx\n",
    "\n",
    "To compare with [m&m results](20180415_MNMASH_FMO2.html) I analyze the same data-set using [varbvs (`varbvsnorm`)](https://github.com/pcarbo/varbvs/blob/master/varbvs-R/R/varbvsnorm.R) and [susieR](https://github.com/stephenslab/susieR)."
   ]
  },
  {
   "cell_type": "markdown",
   "metadata": {},
   "source": [
    "## Implementation \n",
    "\n",
    "I expanded my DSC in `src/model_dsc` to include these two new methods."
   ]
  },
  {
   "cell_type": "code",
   "execution_count": 1,
   "metadata": {},
   "outputs": [
    {
     "name": "stdout",
     "output_type": "stream",
     "text": [
      "/home/gaow/GIT/github/mvarbvs/src/model_dsc"
     ]
    }
   ],
   "source": [
    "%cd ../src/model_dsc"
   ]
  },
  {
   "cell_type": "code",
   "execution_count": 2,
   "metadata": {
    "kernel": "Bash"
   },
   "outputs": [
    {
     "name": "stdout",
     "output_type": "stream",
     "text": [
      "\n",
      "INFO: \u001b[32mMODULES\u001b[0m\n",
      "+------------+---------------------+--------------------------------+-------------------+------+\n",
      "|            |      parameters     |             input              |       output      | type |\n",
      "+------------+---------------------+--------------------------------+-------------------+------+\n",
      "|  get_data  |      data_file      |                                |        data       |  R   |\n",
      "| original_Y |                     |              data              |        data       |  PY  |\n",
      "|  init_mnm  | Sigma, (U, grid, p) |              data              |    data, model    |  R   |\n",
      "|  fit_mnm   |      maxL, maxI     |          data, model           | fitted, posterior |  R   |\n",
      "| fit_varbvs |    sa, maxL, maxI   |              data              | posterior, fitted |  R   |\n",
      "|  diagnose  |                     | data, model, fitted, posterior |     diagnosed     |  R   |\n",
      "| fit_susie  |    sa, maxL, maxI   |              data              | posterior, fitted |  R   |\n",
      "+------------+---------------------+--------------------------------+-------------------+------+\n",
      "\n",
      "INFO: \u001b[32mPIPELINES\u001b[0m\n",
      "first_pass: get_data -> get_Y -> init -> fit -> diagnose\n",
      "\n",
      "INFO: \u001b[32mPIPELINES EXPANDED\u001b[0m\n",
      "1: get_data -> original_Y -> init_mnm -> fit_mnm -> diagnose\n",
      "2: get_data -> original_Y -> init_mnm -> fit_susie -> diagnose\n",
      "3: get_data -> original_Y -> init_mnm -> fit_varbvs -> diagnose\n",
      "\n"
     ]
    }
   ],
   "source": [
    "./model.dsc -h"
   ]
  },
  {
   "cell_type": "markdown",
   "metadata": {},
   "source": [
    "See the [previous document on m&m](20180415_MNMASH_FMO2.html) for more details on the benchmark at this point."
   ]
  },
  {
   "cell_type": "code",
   "execution_count": 3,
   "metadata": {
    "kernel": "Bash"
   },
   "outputs": [
    {
     "name": "stdout",
     "output_type": "stream",
     "text": [
      "INFO: DSC script exported to \u001b[32mmnm_model.html\u001b[0m\n",
      "INFO: Constructing DSC from \u001b[32m./model.dsc\u001b[0m ...\n",
      "INFO: Building execution graph & running DSC ...\n",
      "DSC: 100%|██████████████████████████████████████| 10/10 [00:32<00:00,  3.71s/it]\n",
      "INFO: Building DSC database ...\n",
      "INFO: DSC complete!\n",
      "INFO: Elapsed time \u001b[32m34.734\u001b[0m seconds.\n"
     ]
    }
   ],
   "source": [
    "./model.dsc"
   ]
  },
  {
   "cell_type": "markdown",
   "metadata": {},
   "source": [
    "Scripts for the DSC can be found [here](20180416_mnm_model.html). **Specifically look at the `fit_varbvs` and `fit_susie` modules for the new routines added.**"
   ]
  },
  {
   "cell_type": "markdown",
   "metadata": {},
   "source": [
    "## Plot fine-mapping results for `varbvs`"
   ]
  },
  {
   "cell_type": "code",
   "execution_count": 2,
   "metadata": {
    "kernel": "R"
   },
   "outputs": [],
   "source": [
    "res = readRDS('mnm_model/fit_varbvs/get_data_1_original_Y_1_init_mnm_1_fit_varbvs_1.rds')"
   ]
  },
  {
   "cell_type": "code",
   "execution_count": 3,
   "metadata": {
    "kernel": "R"
   },
   "outputs": [],
   "source": [
    "dat = readRDS('mnm_model/init_mnm/get_data_1_original_Y_1_init_mnm_1.rds')\n",
    "r2 = dat$data$r2"
   ]
  },
  {
   "cell_type": "markdown",
   "metadata": {},
   "source": [
    "We focus on inferred posterior mean. We plot this quantity in both Thyroid and Lung tissues, annotated by PIP and LD structure."
   ]
  },
  {
   "cell_type": "code",
   "execution_count": 4,
   "metadata": {
    "kernel": "R"
   },
   "outputs": [],
   "source": [
    "post_mean = res$posterior$PosteriorMean\n",
    "pip = 1 - res$posterior$lfdr"
   ]
  },
  {
   "cell_type": "code",
   "execution_count": 5,
   "metadata": {
    "kernel": "Python3"
   },
   "outputs": [
    {
     "name": "stderr",
     "output_type": "stream",
     "text": [
      "Loading required package: feather\n"
     ]
    }
   ],
   "source": [
    "%get post_mean pip r2 --from R"
   ]
  },
  {
   "cell_type": "code",
   "execution_count": 6,
   "metadata": {
    "kernel": "Python3"
   },
   "outputs": [],
   "source": [
    "import seaborn as sns\n",
    "import matplotlib.pyplot as plt\n",
    "\n",
    "def plot_beta(yaxis, zaxis, ld, conf):\n",
    "    xaxis = [x+1 for x in range(len(yaxis))]\n",
    "    cmap = sns.cubehelix_palette(start=2.8, rot=.1, as_cmap=True)\n",
    "    f, ax = plt.subplots(figsize=(18,5))\n",
    "    points = ax.scatter(xaxis, yaxis, c=zaxis, cmap=cmap)\n",
    "    f.colorbar(points, label=conf['zlabel'])\n",
    "    if 'pip_cutoff' in conf:\n",
    "        for idx, item in enumerate(zaxis):\n",
    "            if item > conf['pip_cutoff']:\n",
    "                ax.scatter(xaxis[idx], yaxis[idx], s=80, \n",
    "                           facecolors='none', edgecolors='r')\n",
    "                for ii, xx in enumerate(ld[idx,:]):\n",
    "                    if xx > conf['ld_cutoff1'] and xx < 1.0:\n",
    "                        ax.scatter(xaxis[ii], yaxis[ii], \n",
    "                                   color='y', marker='+')\n",
    "                for ii, xx in enumerate(ld[idx,:]):\n",
    "                    if xx > conf['ld_cutoff2'] and xx < 1.0:\n",
    "                        ax.scatter(xaxis[ii], yaxis[ii], \n",
    "                                   color='g', marker='x') \n",
    "    ax.set_title(conf['title'])\n",
    "    ax.set_ylabel(conf['ylabel'])\n",
    "    plt.gca()\n",
    "    plt.show()"
   ]
  },
  {
   "cell_type": "markdown",
   "metadata": {},
   "source": [
    "### Thyroid results\n",
    "\n",
    "Top signals ($pip > 0.95$) are circled in red, with SNPs in LD with it ($r^2>0.1$) colored in yellow, ($r^2>0.6$) colored in green. "
   ]
  },
  {
   "cell_type": "code",
   "execution_count": 7,
   "metadata": {
    "kernel": "Python3"
   },
   "outputs": [
    {
     "data": {
      "image/png": "[encoded data removed]",
      "text/plain": [
       "<matplotlib.figure.Figure at 0x2b1e25a277b8>"
      ]
     },
     "metadata": {},
     "output_type": "display_data"
    }
   ],
   "source": [
    "conf = {'title': 'FMO2, Thyroid, varbvs', \n",
    "        'ylabel': 'betahat', \n",
    "        'zlabel': 'PIP (1 - lfdr)',\n",
    "        'pip_cutoff': 0.95,\n",
    "        'ld_cutoff1': 0.1,\n",
    "        'ld_cutoff2': 0.6}\n",
    "plot_beta(post_mean[:,0], pip[:,0], r2, conf)"
   ]
  },
  {
   "cell_type": "markdown",
   "metadata": {},
   "source": [
    "### Lung results"
   ]
  },
  {
   "cell_type": "code",
   "execution_count": 8,
   "metadata": {
    "kernel": "Python3"
   },
   "outputs": [
    {
     "data": {
      "image/png": "[encoded data removed]",
      "text/plain": [
       "<matplotlib.figure.Figure at 0x2b1e39c2d198>"
      ]
     },
     "metadata": {},
     "output_type": "display_data"
    }
   ],
   "source": [
    "conf = {'title': 'FMO2, Lung, varbvs', \n",
    "        'ylabel': 'betahat', \n",
    "        'zlabel': 'PIP (1 - lfdr)',\n",
    "        'pip_cutoff': 0.95,\n",
    "        'ld_cutoff1': 0.1,\n",
    "        'ld_cutoff2': 0.6}\n",
    "plot_beta(post_mean[:,1], pip[:,1], r2, conf)"
   ]
  },
  {
   "cell_type": "markdown",
   "metadata": {},
   "source": [
    "## Plot fine-mapping results for `susie`"
   ]
  },
  {
   "cell_type": "code",
   "execution_count": 9,
   "metadata": {
    "kernel": "R"
   },
   "outputs": [],
   "source": [
    "res = readRDS('mnm_model/fit_susie/get_data_1_original_Y_1_init_mnm_1_fit_susie_1.rds')\n",
    "post_mean = res$posterior$PosteriorMean\n",
    "lfsr = res$posterior$lfsr"
   ]
  },
  {
   "cell_type": "code",
   "execution_count": 10,
   "metadata": {
    "kernel": "Python3"
   },
   "outputs": [],
   "source": [
    "%get post_mean lfsr --from R"
   ]
  },
  {
   "cell_type": "markdown",
   "metadata": {},
   "source": [
    "### Thyroid results\n",
    "\n",
    "Top signals ($lfsr < 0.05$) are circled in red, with SNPs in LD with it ($r^2>0.1$) colored in yellow, ($r^2>0.6$) colored in green."
   ]
  },
  {
   "cell_type": "code",
   "execution_count": 11,
   "metadata": {
    "kernel": "Python3"
   },
   "outputs": [
    {
     "data": {
      "image/png": "[encoded data removed]",
      "text/plain": [
       "<matplotlib.figure.Figure at 0x2b1e39bf8898>"
      ]
     },
     "metadata": {},
     "output_type": "display_data"
    }
   ],
   "source": [
    "conf = {'title': 'FMO2, Thyroid, susie', \n",
    "        'ylabel': 'betahat', \n",
    "        'zlabel': 'PIP (1 - lfsr)',\n",
    "        'pip_cutoff': 0.95,\n",
    "        'ld_cutoff1': 0.1,\n",
    "        'ld_cutoff2': 0.6}\n",
    "plot_beta(post_mean[:,0], 1 - lfsr[:,0], r2, conf)"
   ]
  },
  {
   "cell_type": "markdown",
   "metadata": {},
   "source": [
    "### Lung results"
   ]
  },
  {
   "cell_type": "code",
   "execution_count": 12,
   "metadata": {
    "kernel": "Python3"
   },
   "outputs": [
    {
     "data": {
      "image/png": "[encoded data removed]",
      "text/plain": [
       "<matplotlib.figure.Figure at 0x2b1e39d7c908>"
      ]
     },
     "metadata": {},
     "output_type": "display_data"
    }
   ],
   "source": [
    "conf = {'title': 'FMO2, Lung, varbvs', \n",
    "        'ylabel': 'betahat', \n",
    "        'zlabel': 'PIP (1 - lfsr)',\n",
    "        'pip_cutoff': 0.95,\n",
    "        'ld_cutoff1': 0.1,\n",
    "        'ld_cutoff2': 0.6}\n",
    "plot_beta(post_mean[:,1], 1 - lfsr[:,1], r2, conf)"
   ]
  }
 ],
 "metadata": {
  "kernelspec": {
   "display_name": "SoS",
   "language": "sos",
   "name": "sos"
  },
  "language_info": {
   "codemirror_mode": "sos",
   "file_extension": ".sos",
   "mimetype": "text/x-sos",
   "name": "sos",
   "nbconvert_exporter": "sos_notebook.converter.SoS_Exporter",
   "pygments_lexer": "sos"
  },
  "sos": {
   "default_kernel": "SoS",
   "kernels": [
    [
     "Python3",
     "python3",
     "Python3",
     "#FFE771"
    ],
    [
     "R",
     "ir",
     "R",
     "#DCDCDA"
    ],
    [
     "SoS",
     "sos",
     "",
     ""
    ]
   ],
   "panel": {
    "displayed": false,
    "height": 0,
    "style": "side"
   },
   "version": "0.9.13.2"
  }
 },
 "nbformat": 4,
 "nbformat_minor": 2
}
