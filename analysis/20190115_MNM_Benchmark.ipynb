{
 "cells": [
  {
   "cell_type": "markdown",
   "metadata": {
    "kernel": "SoS"
   },
   "source": [
    "# M&M ASH benchmark Part I\n",
    "\n",
    "Moving on to multivariate analysis we start with some performance benchmarks."
   ]
  },
  {
   "cell_type": "markdown",
   "metadata": {
    "kernel": "SoS"
   },
   "source": [
    "- Perviously established benchmark [here](https://github.com/gaow/mvarbvs/tree/master/dsc) has roughly implemented the framework of multivariate simulations but was incomplete and never used. The benchmark is now moved to [here](https://github.com/stephenslab/mnm-twas/tree/master/dsc) to facilicate potential collaboration using M&M for prediction. Development of DSC benchmark in this repo is therefore discontinuted.\n",
    "- This website will continue to post benchmark results\n",
    "- Since the application are in the context of GTEx we will be using [this repository](https://github.com/stephenslab/gtex-eqtls) for the data application, whether it be eQTL or sQTL."
   ]
  },
  {
   "cell_type": "markdown",
   "metadata": {
    "kernel": "SoS"
   },
   "source": [
    "## Aim, data, methods and experimental design\n",
    "\n",
    "The relevant material are in a document on Overleaf shared with project collaborators and is being actively developed. I will not recap it in this note. However the narrative below will follow from the structure in that document.\n",
    "\n",
    "### Patterns of sharing evaluated\n",
    "\n",
    "It is however useful to recap the patterns of sharing we evaluate in benchmark. They include:\n",
    "\n",
    "1. Condition specific effects\n",
    "2. Low, moderate and high correlations across conditions\n",
    "    - including a case of 100% correlated\n",
    "3. Mixture settings:\n",
    "    - `dict(identity=0.1,equal_effects=0.2,singleton=0.2,simple_het_1=0.1,simple_het_2=0.1,simple_het_3=0.1,null=0.2)`"
   ]
  },
  {
   "cell_type": "markdown",
   "metadata": {
    "kernel": "SoS"
   },
   "source": [
    "## Benchmarks evaluated\n",
    "\n",
    "### An initial benchmark as a first pass\n",
    "\n",
    "As a first pass we use $R=5$ conditions on 100 toy data-sets. We put together evaluations of M&M CS for experiments under several patterns of sharing as documented in the section above. To fit M&M this time we simply input the underlying priors $U$ (and their weights in the context of mixture simlulation) and residual covariance $V$."
   ]
  },
  {
   "cell_type": "markdown",
   "metadata": {
    "kernel": "SoS"
   },
   "source": [
    "```\n",
    "./finemap.dsc --target first_pass\n",
    "```\n",
    "\n",
    "This benchmark takes roughly 10 minutes to complete using my 40 core desktop server."
   ]
  },
  {
   "cell_type": "code",
   "execution_count": 1,
   "metadata": {
    "kernel": "SoS"
   },
   "outputs": [
    {
     "name": "stdout",
     "output_type": "stream",
     "text": [
      "/home/gaow/GIT/github/mnm-twas/dsc"
     ]
    }
   ],
   "source": [
    "%cd ~/GIT/github/mnm-twas/dsc"
   ]
  },
  {
   "cell_type": "code",
   "execution_count": 10,
   "metadata": {
    "kernel": "R"
   },
   "outputs": [
    {
     "name": "stdout",
     "output_type": "stream",
     "text": [
      "Loading dsc-query output from CSV file.\n",
      "Reading DSC outputs:\n",
      " - sharing_pattern.n_signal: extracted atomic values\n",
      " - susie_scores.total: extracted atomic values\n",
      " - susie_scores.valid: extracted atomic values\n",
      " - susie_scores.size: extracted atomic values\n",
      " - susie_scores.purity: extracted atomic values\n",
      " - susie_scores.top: extracted atomic values\n"
     ]
    }
   ],
   "source": [
    "library('dscrutils')\n",
    "out = dscquery('finemap_output', \"hundred_data.dataset sharing_pattern.n_signal susie_scores.total susie_scores.valid susie_scores.size susie_scores.purity susie_scores.top\")"
   ]
  },
  {
   "cell_type": "code",
   "execution_count": 11,
   "metadata": {
    "kernel": "R"
   },
   "outputs": [
    {
     "data": {
      "text/html": [
       "<table>\n",
       "<thead><tr><th scope=col>DSC</th><th scope=col>hundred_data.dataset</th><th scope=col>sharing_pattern</th><th scope=col>sharing_pattern.n_signal</th><th scope=col>susie_scores.total</th><th scope=col>susie_scores.valid</th><th scope=col>susie_scores.size</th><th scope=col>susie_scores.purity</th><th scope=col>susie_scores.top</th></tr></thead>\n",
       "<tbody>\n",
       "\t<tr><td>1                                                  </td><td>~/Documents/GTExV8/Thyroid.Lung.FMO2.filled.rds    </td><td>identity                                           </td><td>2                                                  </td><td>2                                                  </td><td>2                                                  </td><td>8                                                  </td><td>0.9921241                                          </td><td>0                                                  </td></tr>\n",
       "\t<tr><td>1                                                  </td><td>~/Documents/GTExV8/Toys/Thyroid.ENSG00000031823.RDS</td><td>identity                                           </td><td>1                                                  </td><td>1                                                  </td><td>1                                                  </td><td>1                                                  </td><td>1.0000000                                          </td><td>1                                                  </td></tr>\n",
       "\t<tr><td>1                                                  </td><td>~/Documents/GTExV8/Toys/Thyroid.ENSG00000062194.RDS</td><td>identity                                           </td><td>1                                                  </td><td>1                                                  </td><td>1                                                  </td><td>1                                                  </td><td>1.0000000                                          </td><td>1                                                  </td></tr>\n",
       "\t<tr><td>1                                                  </td><td>~/Documents/GTExV8/Toys/Thyroid.ENSG00000073150.RDS</td><td>identity                                           </td><td>1                                                  </td><td>1                                                  </td><td>1                                                  </td><td>1                                                  </td><td>1.0000000                                          </td><td>1                                                  </td></tr>\n",
       "\t<tr><td>1                                                  </td><td>~/Documents/GTExV8/Toys/Thyroid.ENSG00000078319.RDS</td><td>identity                                           </td><td>1                                                  </td><td>1                                                  </td><td>1                                                  </td><td>1                                                  </td><td>1.0000000                                          </td><td>1                                                  </td></tr>\n",
       "\t<tr><td>1                                                  </td><td>~/Documents/GTExV8/Toys/Thyroid.ENSG00000081277.RDS</td><td>identity                                           </td><td>1                                                  </td><td>1                                                  </td><td>1                                                  </td><td>2                                                  </td><td>0.9953505                                          </td><td>1                                                  </td></tr>\n",
       "</tbody>\n",
       "</table>\n"
      ],
      "text/latex": [
       "\\begin{tabular}{r|lllllllll}\n",
       " DSC & hundred\\_data.dataset & sharing\\_pattern & sharing\\_pattern.n\\_signal & susie\\_scores.total & susie\\_scores.valid & susie\\_scores.size & susie\\_scores.purity & susie\\_scores.top\\\\\n",
       "\\hline\n",
       "\t 1                                                                    & \\textasciitilde{}/Documents/GTExV8/Thyroid.Lung.FMO2.filled.rds     & identity                                                             & 2                                                                    & 2                                                                    & 2                                                                    & 8                                                                    & 0.9921241                                                            & 0                                                                   \\\\\n",
       "\t 1                                                                    & \\textasciitilde{}/Documents/GTExV8/Toys/Thyroid.ENSG00000031823.RDS & identity                                                             & 1                                                                    & 1                                                                    & 1                                                                    & 1                                                                    & 1.0000000                                                            & 1                                                                   \\\\\n",
       "\t 1                                                                    & \\textasciitilde{}/Documents/GTExV8/Toys/Thyroid.ENSG00000062194.RDS & identity                                                             & 1                                                                    & 1                                                                    & 1                                                                    & 1                                                                    & 1.0000000                                                            & 1                                                                   \\\\\n",
       "\t 1                                                                    & \\textasciitilde{}/Documents/GTExV8/Toys/Thyroid.ENSG00000073150.RDS & identity                                                             & 1                                                                    & 1                                                                    & 1                                                                    & 1                                                                    & 1.0000000                                                            & 1                                                                   \\\\\n",
       "\t 1                                                                    & \\textasciitilde{}/Documents/GTExV8/Toys/Thyroid.ENSG00000078319.RDS & identity                                                             & 1                                                                    & 1                                                                    & 1                                                                    & 1                                                                    & 1.0000000                                                            & 1                                                                   \\\\\n",
       "\t 1                                                                    & \\textasciitilde{}/Documents/GTExV8/Toys/Thyroid.ENSG00000081277.RDS & identity                                                             & 1                                                                    & 1                                                                    & 1                                                                    & 2                                                                    & 0.9953505                                                            & 1                                                                   \\\\\n",
       "\\end{tabular}\n"
      ],
      "text/markdown": [
       "\n",
       "DSC | hundred_data.dataset | sharing_pattern | sharing_pattern.n_signal | susie_scores.total | susie_scores.valid | susie_scores.size | susie_scores.purity | susie_scores.top | \n",
       "|---|---|---|---|---|---|\n",
       "| 1                                                   | ~/Documents/GTExV8/Thyroid.Lung.FMO2.filled.rds     | identity                                            | 2                                                   | 2                                                   | 2                                                   | 8                                                   | 0.9921241                                           | 0                                                   | \n",
       "| 1                                                   | ~/Documents/GTExV8/Toys/Thyroid.ENSG00000031823.RDS | identity                                            | 1                                                   | 1                                                   | 1                                                   | 1                                                   | 1.0000000                                           | 1                                                   | \n",
       "| 1                                                   | ~/Documents/GTExV8/Toys/Thyroid.ENSG00000062194.RDS | identity                                            | 1                                                   | 1                                                   | 1                                                   | 1                                                   | 1.0000000                                           | 1                                                   | \n",
       "| 1                                                   | ~/Documents/GTExV8/Toys/Thyroid.ENSG00000073150.RDS | identity                                            | 1                                                   | 1                                                   | 1                                                   | 1                                                   | 1.0000000                                           | 1                                                   | \n",
       "| 1                                                   | ~/Documents/GTExV8/Toys/Thyroid.ENSG00000078319.RDS | identity                                            | 1                                                   | 1                                                   | 1                                                   | 1                                                   | 1.0000000                                           | 1                                                   | \n",
       "| 1                                                   | ~/Documents/GTExV8/Toys/Thyroid.ENSG00000081277.RDS | identity                                            | 1                                                   | 1                                                   | 1                                                   | 2                                                   | 0.9953505                                           | 1                                                   | \n",
       "\n",
       "\n"
      ],
      "text/plain": [
       "  DSC hundred_data.dataset                                sharing_pattern\n",
       "1 1   ~/Documents/GTExV8/Thyroid.Lung.FMO2.filled.rds     identity       \n",
       "2 1   ~/Documents/GTExV8/Toys/Thyroid.ENSG00000031823.RDS identity       \n",
       "3 1   ~/Documents/GTExV8/Toys/Thyroid.ENSG00000062194.RDS identity       \n",
       "4 1   ~/Documents/GTExV8/Toys/Thyroid.ENSG00000073150.RDS identity       \n",
       "5 1   ~/Documents/GTExV8/Toys/Thyroid.ENSG00000078319.RDS identity       \n",
       "6 1   ~/Documents/GTExV8/Toys/Thyroid.ENSG00000081277.RDS identity       \n",
       "  sharing_pattern.n_signal susie_scores.total susie_scores.valid\n",
       "1 2                        2                  2                 \n",
       "2 1                        1                  1                 \n",
       "3 1                        1                  1                 \n",
       "4 1                        1                  1                 \n",
       "5 1                        1                  1                 \n",
       "6 1                        1                  1                 \n",
       "  susie_scores.size susie_scores.purity susie_scores.top\n",
       "1 8                 0.9921241           0               \n",
       "2 1                 1.0000000           1               \n",
       "3 1                 1.0000000           1               \n",
       "4 1                 1.0000000           1               \n",
       "5 1                 1.0000000           1               \n",
       "6 2                 0.9953505           1               "
      ]
     },
     "metadata": {},
     "output_type": "display_data"
    }
   ],
   "source": [
    "head(out)"
   ]
  },
  {
   "cell_type": "code",
   "execution_count": 12,
   "metadata": {
    "kernel": "R"
   },
   "outputs": [],
   "source": [
    "res = out[,c(3,4,5,6,7,8,9)]\n",
    "colnames(res) = c('pattern', 'total_true', 'total', 'valid', 'size', 'purity', 'top_hit')"
   ]
  },
  {
   "cell_type": "markdown",
   "metadata": {
    "kernel": "R"
   },
   "source": [
    "### Purity of CS"
   ]
  },
  {
   "cell_type": "code",
   "execution_count": 13,
   "metadata": {
    "kernel": "R"
   },
   "outputs": [
    {
     "data": {
      "text/html": [
       "<table>\n",
       "<thead><tr><th scope=col>pattern</th><th scope=col>purity</th></tr></thead>\n",
       "<tbody>\n",
       "\t<tr><td>high_het </td><td>0.9950535</td></tr>\n",
       "\t<tr><td>identity </td><td>0.9952877</td></tr>\n",
       "\t<tr><td>low_het  </td><td>0.9939219</td></tr>\n",
       "\t<tr><td>mid_het  </td><td>0.9873239</td></tr>\n",
       "\t<tr><td>mixture01</td><td>0.8644837</td></tr>\n",
       "\t<tr><td>shared   </td><td>0.9954203</td></tr>\n",
       "\t<tr><td>singleton</td><td>0.9744209</td></tr>\n",
       "</tbody>\n",
       "</table>\n"
      ],
      "text/latex": [
       "\\begin{tabular}{r|ll}\n",
       " pattern & purity\\\\\n",
       "\\hline\n",
       "\t high\\_het  & 0.9950535  \\\\\n",
       "\t identity  & 0.9952877\\\\\n",
       "\t low\\_het   & 0.9939219  \\\\\n",
       "\t mid\\_het   & 0.9873239  \\\\\n",
       "\t mixture01 & 0.8644837\\\\\n",
       "\t shared    & 0.9954203\\\\\n",
       "\t singleton & 0.9744209\\\\\n",
       "\\end{tabular}\n"
      ],
      "text/markdown": [
       "\n",
       "pattern | purity | \n",
       "|---|---|---|---|---|---|---|\n",
       "| high_het  | 0.9950535 | \n",
       "| identity  | 0.9952877 | \n",
       "| low_het   | 0.9939219 | \n",
       "| mid_het   | 0.9873239 | \n",
       "| mixture01 | 0.8644837 | \n",
       "| shared    | 0.9954203 | \n",
       "| singleton | 0.9744209 | \n",
       "\n",
       "\n"
      ],
      "text/plain": [
       "  pattern   purity   \n",
       "1 high_het  0.9950535\n",
       "2 identity  0.9952877\n",
       "3 low_het   0.9939219\n",
       "4 mid_het   0.9873239\n",
       "5 mixture01 0.8644837\n",
       "6 shared    0.9954203\n",
       "7 singleton 0.9744209"
      ]
     },
     "metadata": {},
     "output_type": "display_data"
    }
   ],
   "source": [
    "aggregate(purity~pattern, res, mean)"
   ]
  },
  {
   "cell_type": "markdown",
   "metadata": {
    "kernel": "R"
   },
   "source": [
    "### Size of CS"
   ]
  },
  {
   "cell_type": "code",
   "execution_count": 7,
   "metadata": {
    "kernel": "R"
   },
   "outputs": [
    {
     "data": {
      "text/html": [
       "<table>\n",
       "<thead><tr><th scope=col>pattern</th><th scope=col>size</th></tr></thead>\n",
       "<tbody>\n",
       "\t<tr><td>high_het </td><td>2.00     </td></tr>\n",
       "\t<tr><td>identity </td><td>1.25     </td></tr>\n",
       "\t<tr><td>low_het  </td><td>2.00     </td></tr>\n",
       "\t<tr><td>mid_het  </td><td>2.00     </td></tr>\n",
       "\t<tr><td>mixture01</td><td>2.00     </td></tr>\n",
       "\t<tr><td>shared   </td><td>2.00     </td></tr>\n",
       "\t<tr><td>singleton</td><td>4.25     </td></tr>\n",
       "</tbody>\n",
       "</table>\n"
      ],
      "text/latex": [
       "\\begin{tabular}{r|ll}\n",
       " pattern & size\\\\\n",
       "\\hline\n",
       "\t high\\_het  & 2.00       \\\\\n",
       "\t identity  & 1.25     \\\\\n",
       "\t low\\_het   & 2.00       \\\\\n",
       "\t mid\\_het   & 2.00       \\\\\n",
       "\t mixture01 & 2.00     \\\\\n",
       "\t shared    & 2.00     \\\\\n",
       "\t singleton & 4.25     \\\\\n",
       "\\end{tabular}\n"
      ],
      "text/markdown": [
       "\n",
       "pattern | size | \n",
       "|---|---|---|---|---|---|---|\n",
       "| high_het  | 2.00      | \n",
       "| identity  | 1.25      | \n",
       "| low_het   | 2.00      | \n",
       "| mid_het   | 2.00      | \n",
       "| mixture01 | 2.00      | \n",
       "| shared    | 2.00      | \n",
       "| singleton | 4.25      | \n",
       "\n",
       "\n"
      ],
      "text/plain": [
       "  pattern   size\n",
       "1 high_het  2.00\n",
       "2 identity  1.25\n",
       "3 low_het   2.00\n",
       "4 mid_het   2.00\n",
       "5 mixture01 2.00\n",
       "6 shared    2.00\n",
       "7 singleton 4.25"
      ]
     },
     "metadata": {},
     "output_type": "display_data"
    }
   ],
   "source": [
    "aggregate(size~pattern, res, median)"
   ]
  },
  {
   "cell_type": "markdown",
   "metadata": {
    "kernel": "R"
   },
   "source": [
    "### Power"
   ]
  },
  {
   "cell_type": "code",
   "execution_count": 17,
   "metadata": {
    "kernel": "R"
   },
   "outputs": [
    {
     "data": {
      "text/html": [
       "<table>\n",
       "<thead><tr><th scope=col>pattern</th><th scope=col>valid</th><th scope=col>total_true</th><th scope=col>power</th></tr></thead>\n",
       "<tbody>\n",
       "\t<tr><td>high_het </td><td>120      </td><td>123      </td><td>0.9756098</td></tr>\n",
       "\t<tr><td>identity </td><td>117      </td><td>122      </td><td>0.9590164</td></tr>\n",
       "\t<tr><td>low_het  </td><td>115      </td><td>123      </td><td>0.9349593</td></tr>\n",
       "\t<tr><td>mid_het  </td><td>125      </td><td>130      </td><td>0.9615385</td></tr>\n",
       "\t<tr><td>mixture01</td><td> 95      </td><td>135      </td><td>0.7037037</td></tr>\n",
       "\t<tr><td>shared   </td><td>118      </td><td>136      </td><td>0.8676471</td></tr>\n",
       "\t<tr><td>singleton</td><td>126      </td><td>130      </td><td>0.9692308</td></tr>\n",
       "</tbody>\n",
       "</table>\n"
      ],
      "text/latex": [
       "\\begin{tabular}{r|llll}\n",
       " pattern & valid & total\\_true & power\\\\\n",
       "\\hline\n",
       "\t high\\_het  & 120         & 123         & 0.9756098  \\\\\n",
       "\t identity  & 117       & 122       & 0.9590164\\\\\n",
       "\t low\\_het   & 115         & 123         & 0.9349593  \\\\\n",
       "\t mid\\_het   & 125         & 130         & 0.9615385  \\\\\n",
       "\t mixture01 &  95       & 135       & 0.7037037\\\\\n",
       "\t shared    & 118       & 136       & 0.8676471\\\\\n",
       "\t singleton & 126       & 130       & 0.9692308\\\\\n",
       "\\end{tabular}\n"
      ],
      "text/markdown": [
       "\n",
       "pattern | valid | total_true | power | \n",
       "|---|---|---|---|---|---|---|\n",
       "| high_het  | 120       | 123       | 0.9756098 | \n",
       "| identity  | 117       | 122       | 0.9590164 | \n",
       "| low_het   | 115       | 123       | 0.9349593 | \n",
       "| mid_het   | 125       | 130       | 0.9615385 | \n",
       "| mixture01 |  95       | 135       | 0.7037037 | \n",
       "| shared    | 118       | 136       | 0.8676471 | \n",
       "| singleton | 126       | 130       | 0.9692308 | \n",
       "\n",
       "\n"
      ],
      "text/plain": [
       "  pattern   valid total_true power    \n",
       "1 high_het  120   123        0.9756098\n",
       "2 identity  117   122        0.9590164\n",
       "3 low_het   115   123        0.9349593\n",
       "4 mid_het   125   130        0.9615385\n",
       "5 mixture01  95   135        0.7037037\n",
       "6 shared    118   136        0.8676471\n",
       "7 singleton 126   130        0.9692308"
      ]
     },
     "metadata": {},
     "output_type": "display_data"
    }
   ],
   "source": [
    "valid = aggregate(valid ~ pattern, res, sum)\n",
    "total_true = aggregate(total_true ~ pattern, res, sum)\n",
    "power = merge(valid, total_true, by = \"pattern\")\n",
    "power$power = power$valid/power$total_true\n",
    "power"
   ]
  },
  {
   "cell_type": "markdown",
   "metadata": {
    "kernel": "R"
   },
   "source": [
    "### FDR"
   ]
  },
  {
   "cell_type": "code",
   "execution_count": 18,
   "metadata": {
    "kernel": "R"
   },
   "outputs": [
    {
     "data": {
      "text/html": [
       "<table>\n",
       "<thead><tr><th scope=col>pattern</th><th scope=col>valid</th><th scope=col>total</th><th scope=col>fdr</th></tr></thead>\n",
       "<tbody>\n",
       "\t<tr><td>high_het   </td><td>120        </td><td>123        </td><td>0.024390244</td></tr>\n",
       "\t<tr><td>identity   </td><td>117        </td><td>126        </td><td>0.071428571</td></tr>\n",
       "\t<tr><td>low_het    </td><td>115        </td><td>121        </td><td>0.049586777</td></tr>\n",
       "\t<tr><td>mid_het    </td><td>125        </td><td>128        </td><td>0.023437500</td></tr>\n",
       "\t<tr><td>mixture01  </td><td> 95        </td><td> 98        </td><td>0.030612245</td></tr>\n",
       "\t<tr><td>shared     </td><td>118        </td><td>119        </td><td>0.008403361</td></tr>\n",
       "\t<tr><td>singleton  </td><td>126        </td><td>127        </td><td>0.007874016</td></tr>\n",
       "</tbody>\n",
       "</table>\n"
      ],
      "text/latex": [
       "\\begin{tabular}{r|llll}\n",
       " pattern & valid & total & fdr\\\\\n",
       "\\hline\n",
       "\t high\\_het  & 120         & 123         & 0.024390244\\\\\n",
       "\t identity    & 117         & 126         & 0.071428571\\\\\n",
       "\t low\\_het   & 115         & 121         & 0.049586777\\\\\n",
       "\t mid\\_het   & 125         & 128         & 0.023437500\\\\\n",
       "\t mixture01   &  95         &  98         & 0.030612245\\\\\n",
       "\t shared      & 118         & 119         & 0.008403361\\\\\n",
       "\t singleton   & 126         & 127         & 0.007874016\\\\\n",
       "\\end{tabular}\n"
      ],
      "text/markdown": [
       "\n",
       "pattern | valid | total | fdr | \n",
       "|---|---|---|---|---|---|---|\n",
       "| high_het    | 120         | 123         | 0.024390244 | \n",
       "| identity    | 117         | 126         | 0.071428571 | \n",
       "| low_het     | 115         | 121         | 0.049586777 | \n",
       "| mid_het     | 125         | 128         | 0.023437500 | \n",
       "| mixture01   |  95         |  98         | 0.030612245 | \n",
       "| shared      | 118         | 119         | 0.008403361 | \n",
       "| singleton   | 126         | 127         | 0.007874016 | \n",
       "\n",
       "\n"
      ],
      "text/plain": [
       "  pattern   valid total fdr        \n",
       "1 high_het  120   123   0.024390244\n",
       "2 identity  117   126   0.071428571\n",
       "3 low_het   115   121   0.049586777\n",
       "4 mid_het   125   128   0.023437500\n",
       "5 mixture01  95    98   0.030612245\n",
       "6 shared    118   119   0.008403361\n",
       "7 singleton 126   127   0.007874016"
      ]
     },
     "metadata": {},
     "output_type": "display_data"
    }
   ],
   "source": [
    "valid = aggregate(valid ~ pattern, res, sum)\n",
    "total = aggregate(total ~ pattern, res, sum)\n",
    "fdr = merge(valid, total, by = \"pattern\")\n",
    "fdr$fdr = (fdr$total - fdr$valid)/fdr$total\n",
    "fdr"
   ]
  },
  {
   "cell_type": "markdown",
   "metadata": {
    "kernel": "R"
   },
   "source": [
    "### Top-hit rate (how often the strongest SNP is causal)"
   ]
  },
  {
   "cell_type": "code",
   "execution_count": 19,
   "metadata": {
    "kernel": "R"
   },
   "outputs": [
    {
     "data": {
      "text/html": [
       "<table>\n",
       "<thead><tr><th scope=col>pattern</th><th scope=col>top_hit</th><th scope=col>total_true</th><th scope=col>top_rate</th></tr></thead>\n",
       "<tbody>\n",
       "\t<tr><td>high_het </td><td>73       </td><td>123      </td><td>0.5934959</td></tr>\n",
       "\t<tr><td>identity </td><td>77       </td><td>122      </td><td>0.6311475</td></tr>\n",
       "\t<tr><td>low_het  </td><td>77       </td><td>123      </td><td>0.6260163</td></tr>\n",
       "\t<tr><td>mid_het  </td><td>92       </td><td>130      </td><td>0.7076923</td></tr>\n",
       "\t<tr><td>mixture01</td><td>63       </td><td>135      </td><td>0.4666667</td></tr>\n",
       "\t<tr><td>shared   </td><td>79       </td><td>136      </td><td>0.5808824</td></tr>\n",
       "\t<tr><td>singleton</td><td>69       </td><td>130      </td><td>0.5307692</td></tr>\n",
       "</tbody>\n",
       "</table>\n"
      ],
      "text/latex": [
       "\\begin{tabular}{r|llll}\n",
       " pattern & top\\_hit & total\\_true & top\\_rate\\\\\n",
       "\\hline\n",
       "\t high\\_het  & 73          & 123         & 0.5934959  \\\\\n",
       "\t identity  & 77        & 122       & 0.6311475\\\\\n",
       "\t low\\_het   & 77          & 123         & 0.6260163  \\\\\n",
       "\t mid\\_het   & 92          & 130         & 0.7076923  \\\\\n",
       "\t mixture01 & 63        & 135       & 0.4666667\\\\\n",
       "\t shared    & 79        & 136       & 0.5808824\\\\\n",
       "\t singleton & 69        & 130       & 0.5307692\\\\\n",
       "\\end{tabular}\n"
      ],
      "text/markdown": [
       "\n",
       "pattern | top_hit | total_true | top_rate | \n",
       "|---|---|---|---|---|---|---|\n",
       "| high_het  | 73        | 123       | 0.5934959 | \n",
       "| identity  | 77        | 122       | 0.6311475 | \n",
       "| low_het   | 77        | 123       | 0.6260163 | \n",
       "| mid_het   | 92        | 130       | 0.7076923 | \n",
       "| mixture01 | 63        | 135       | 0.4666667 | \n",
       "| shared    | 79        | 136       | 0.5808824 | \n",
       "| singleton | 69        | 130       | 0.5307692 | \n",
       "\n",
       "\n"
      ],
      "text/plain": [
       "  pattern   top_hit total_true top_rate \n",
       "1 high_het  73      123        0.5934959\n",
       "2 identity  77      122        0.6311475\n",
       "3 low_het   77      123        0.6260163\n",
       "4 mid_het   92      130        0.7076923\n",
       "5 mixture01 63      135        0.4666667\n",
       "6 shared    79      136        0.5808824\n",
       "7 singleton 69      130        0.5307692"
      ]
     },
     "metadata": {},
     "output_type": "display_data"
    }
   ],
   "source": [
    "top_hit = aggregate(top_hit ~ pattern, res, sum)\n",
    "total_true = aggregate(total_true ~ pattern, res, sum)\n",
    "top_rate = merge(top_hit, total_true, by = \"pattern\")\n",
    "top_rate$top_rate = top_rate$top_hit/top_rate$total_true\n",
    "top_rate"
   ]
  }
 ],
 "metadata": {
  "kernelspec": {
   "display_name": "SoS",
   "language": "sos",
   "name": "sos"
  },
  "language_info": {
   "codemirror_mode": "sos",
   "file_extension": ".sos",
   "mimetype": "text/x-sos",
   "name": "sos",
   "nbconvert_exporter": "sos_notebook.converter.SoS_Exporter",
   "pygments_lexer": "sos"
  },
  "sos": {
   "kernels": [
    [
     "R",
     "ir",
     "R",
     "#DCDCDA"
    ]
   ],
   "version": "0.17.2"
  }
 },
 "nbformat": 4,
 "nbformat_minor": 2
}
