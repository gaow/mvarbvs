{
 "cells": [
  {
   "cell_type": "markdown",
   "metadata": {
    "kernel": "SoS"
   },
   "source": [
    "# M&M benchmark VIII\n",
    "\n",
    "This benchmark uses the latest GTEx V8 genotype data and evaluated the pipeline in the presence of missing data."
   ]
  },
  {
   "cell_type": "markdown",
   "metadata": {
    "kernel": "SoS"
   },
   "source": [
    "1. the number of conditions are increased to $R=45$\n",
    "2. missing data in expression are simulated according to missingness pattern in the actual expression cross tissues; `flashier::flash` method was used to compute covariance of response to use as residual covariance."
   ]
  },
  {
   "cell_type": "markdown",
   "metadata": {
    "kernel": "SoS"
   },
   "source": [
    "## Conclusion\n",
    "\n",
    "Our pipeline with missing data has high false positive rates even though the simulated residual correlation is diagonal. This is not an issue with FLASH because FLASH in this case give almost identical covariance estimate as simply using diagonal (I have compared some results manually).\n",
    "\n",
    "## Next steps for this investigation\n",
    "\n",
    "1. Figure out the problem (hopefully bug) with missing data handling in `mmbr`.\n",
    "2. Add a diagnostic function to compute in between CS correlation."
   ]
  },
  {
   "cell_type": "markdown",
   "metadata": {
    "kernel": "SoS"
   },
   "source": [
    "The benchmark is now under `dsc_mnm`, running on UChicago RCC midway\n",
    "\n",
    "```\n",
    "./finemap.dsc --host mnm_dsc.yaml\n",
    "```\n",
    "\n",
    "This executes the `default` pipeline in `finemap.dsc` file, as of today (2019.11.08)."
   ]
  },
  {
   "cell_type": "code",
   "execution_count": 1,
   "metadata": {
    "kernel": "SoS"
   },
   "outputs": [
    {
     "name": "stdout",
     "output_type": "stream",
     "text": [
      "/home/gaow/GIT/github/mnm-gtex-v8/dsc"
     ]
    }
   ],
   "source": [
    "%cd ~/GIT/github/mnm-gtex-v8/dsc"
   ]
  },
  {
   "cell_type": "code",
   "execution_count": 9,
   "metadata": {
    "kernel": "R"
   },
   "outputs": [],
   "source": [
    "start_time <- Sys.time()\n",
    "out = dscrutils::dscquery('finemap_output', targets = c('simulate', 'mnm.missing_Y', 'susie_scores.total', 'susie_scores.valid', 'susie_scores.size', 'susie_scores.purity', 'susie_scores.top', 'susie_scores.n_causal', 'susie_scores.included_causal', 'susie_scores.overlap', 'susie_scores.false_pos_cond_discoveries', 'susie_scores.false_neg_cond_discoveries', 'susie_scores.true_cond_discoveries'), verbose = F)\n",
    "end_time <- Sys.time()"
   ]
  },
  {
   "cell_type": "code",
   "execution_count": 10,
   "metadata": {
    "kernel": "R"
   },
   "outputs": [
    {
     "data": {
      "text/plain": [
       "Time difference of 1.560561 secs"
      ]
     },
     "metadata": {},
     "output_type": "display_data"
    }
   ],
   "source": [
    "end_time - start_time"
   ]
  },
  {
   "cell_type": "code",
   "execution_count": 11,
   "metadata": {
    "kernel": "R"
   },
   "outputs": [
    {
     "data": {
      "text/html": [
       "<table>\n",
       "<caption>A data.frame: 6 × 14</caption>\n",
       "<thead>\n",
       "\t<tr><th scope=col>DSC</th><th scope=col>simulate</th><th scope=col>mnm.missing_Y</th><th scope=col>susie_scores.total</th><th scope=col>susie_scores.valid</th><th scope=col>susie_scores.size</th><th scope=col>susie_scores.purity</th><th scope=col>susie_scores.top</th><th scope=col>susie_scores.n_causal</th><th scope=col>susie_scores.included_causal</th><th scope=col>susie_scores.overlap</th><th scope=col>susie_scores.false_pos_cond_discoveries</th><th scope=col>susie_scores.false_neg_cond_discoveries</th><th scope=col>susie_scores.true_cond_discoveries</th></tr>\n",
       "\t<tr><th scope=col>&lt;int&gt;</th><th scope=col>&lt;chr&gt;</th><th scope=col>&lt;lgl&gt;</th><th scope=col>&lt;dbl&gt;</th><th scope=col>&lt;dbl&gt;</th><th scope=col>&lt;dbl&gt;</th><th scope=col>&lt;dbl&gt;</th><th scope=col>&lt;dbl&gt;</th><th scope=col>&lt;int&gt;</th><th scope=col>&lt;int&gt;</th><th scope=col>&lt;dbl&gt;</th><th scope=col>&lt;int&gt;</th><th scope=col>&lt;int&gt;</th><th scope=col>&lt;int&gt;</th></tr>\n",
       "</thead>\n",
       "<tbody>\n",
       "\t<tr><td>1</td><td>mid_het</td><td>TRUE</td><td>2</td><td>2</td><td> 12.5</td><td>0.8793637</td><td>1</td><td>2</td><td>2</td><td>   0</td><td>  0</td><td> 90</td><td> 0</td></tr>\n",
       "\t<tr><td>1</td><td>mid_het</td><td>TRUE</td><td>3</td><td>3</td><td> 15.0</td><td>0.9567131</td><td>1</td><td>3</td><td>2</td><td>  15</td><td>  0</td><td> 50</td><td>85</td></tr>\n",
       "\t<tr><td>1</td><td>mid_het</td><td>TRUE</td><td>5</td><td>5</td><td> 18.0</td><td>0.8402476</td><td>0</td><td>1</td><td>1</td><td> 171</td><td>  0</td><td>221</td><td> 4</td></tr>\n",
       "\t<tr><td>1</td><td>mid_het</td><td>TRUE</td><td>7</td><td>7</td><td>153.0</td><td>0.8152270</td><td>0</td><td>2</td><td>2</td><td>1506</td><td>  0</td><td>262</td><td>53</td></tr>\n",
       "\t<tr><td>1</td><td>mid_het</td><td>TRUE</td><td>3</td><td>1</td><td>  4.0</td><td>0.9407363</td><td>1</td><td>1</td><td>1</td><td>   0</td><td> 32</td><td> 87</td><td>16</td></tr>\n",
       "\t<tr><td>1</td><td>mid_het</td><td>TRUE</td><td>9</td><td>0</td><td>  1.0</td><td>1.0000000</td><td>0</td><td>1</td><td>0</td><td>   0</td><td>375</td><td> 30</td><td> 0</td></tr>\n",
       "</tbody>\n",
       "</table>\n"
      ],
      "text/latex": [
       "A data.frame: 6 × 14\n",
       "\\begin{tabular}{r|llllllllllllll}\n",
       " DSC & simulate & mnm.missing\\_Y & susie\\_scores.total & susie\\_scores.valid & susie\\_scores.size & susie\\_scores.purity & susie\\_scores.top & susie\\_scores.n\\_causal & susie\\_scores.included\\_causal & susie\\_scores.overlap & susie\\_scores.false\\_pos\\_cond\\_discoveries & susie\\_scores.false\\_neg\\_cond\\_discoveries & susie\\_scores.true\\_cond\\_discoveries\\\\\n",
       " <int> & <chr> & <lgl> & <dbl> & <dbl> & <dbl> & <dbl> & <dbl> & <int> & <int> & <dbl> & <int> & <int> & <int>\\\\\n",
       "\\hline\n",
       "\t 1 & mid\\_het & TRUE & 2 & 2 &  12.5 & 0.8793637 & 1 & 2 & 2 &    0 &   0 &  90 &  0\\\\\n",
       "\t 1 & mid\\_het & TRUE & 3 & 3 &  15.0 & 0.9567131 & 1 & 3 & 2 &   15 &   0 &  50 & 85\\\\\n",
       "\t 1 & mid\\_het & TRUE & 5 & 5 &  18.0 & 0.8402476 & 0 & 1 & 1 &  171 &   0 & 221 &  4\\\\\n",
       "\t 1 & mid\\_het & TRUE & 7 & 7 & 153.0 & 0.8152270 & 0 & 2 & 2 & 1506 &   0 & 262 & 53\\\\\n",
       "\t 1 & mid\\_het & TRUE & 3 & 1 &   4.0 & 0.9407363 & 1 & 1 & 1 &    0 &  32 &  87 & 16\\\\\n",
       "\t 1 & mid\\_het & TRUE & 9 & 0 &   1.0 & 1.0000000 & 0 & 1 & 0 &    0 & 375 &  30 &  0\\\\\n",
       "\\end{tabular}\n"
      ],
      "text/markdown": [
       "\n",
       "A data.frame: 6 × 14\n",
       "\n",
       "| DSC &lt;int&gt; | simulate &lt;chr&gt; | mnm.missing_Y &lt;lgl&gt; | susie_scores.total &lt;dbl&gt; | susie_scores.valid &lt;dbl&gt; | susie_scores.size &lt;dbl&gt; | susie_scores.purity &lt;dbl&gt; | susie_scores.top &lt;dbl&gt; | susie_scores.n_causal &lt;int&gt; | susie_scores.included_causal &lt;int&gt; | susie_scores.overlap &lt;dbl&gt; | susie_scores.false_pos_cond_discoveries &lt;int&gt; | susie_scores.false_neg_cond_discoveries &lt;int&gt; | susie_scores.true_cond_discoveries &lt;int&gt; |\n",
       "|---|---|---|---|---|---|---|---|---|---|---|---|---|---|\n",
       "| 1 | mid_het | TRUE | 2 | 2 |  12.5 | 0.8793637 | 1 | 2 | 2 |    0 |   0 |  90 |  0 |\n",
       "| 1 | mid_het | TRUE | 3 | 3 |  15.0 | 0.9567131 | 1 | 3 | 2 |   15 |   0 |  50 | 85 |\n",
       "| 1 | mid_het | TRUE | 5 | 5 |  18.0 | 0.8402476 | 0 | 1 | 1 |  171 |   0 | 221 |  4 |\n",
       "| 1 | mid_het | TRUE | 7 | 7 | 153.0 | 0.8152270 | 0 | 2 | 2 | 1506 |   0 | 262 | 53 |\n",
       "| 1 | mid_het | TRUE | 3 | 1 |   4.0 | 0.9407363 | 1 | 1 | 1 |    0 |  32 |  87 | 16 |\n",
       "| 1 | mid_het | TRUE | 9 | 0 |   1.0 | 1.0000000 | 0 | 1 | 0 |    0 | 375 |  30 |  0 |\n",
       "\n"
      ],
      "text/plain": [
       "  DSC simulate mnm.missing_Y susie_scores.total susie_scores.valid\n",
       "1 1   mid_het  TRUE          2                  2                 \n",
       "2 1   mid_het  TRUE          3                  3                 \n",
       "3 1   mid_het  TRUE          5                  5                 \n",
       "4 1   mid_het  TRUE          7                  7                 \n",
       "5 1   mid_het  TRUE          3                  1                 \n",
       "6 1   mid_het  TRUE          9                  0                 \n",
       "  susie_scores.size susie_scores.purity susie_scores.top susie_scores.n_causal\n",
       "1  12.5             0.8793637           1                2                    \n",
       "2  15.0             0.9567131           1                3                    \n",
       "3  18.0             0.8402476           0                1                    \n",
       "4 153.0             0.8152270           0                2                    \n",
       "5   4.0             0.9407363           1                1                    \n",
       "6   1.0             1.0000000           0                1                    \n",
       "  susie_scores.included_causal susie_scores.overlap\n",
       "1 2                               0                \n",
       "2 2                              15                \n",
       "3 1                             171                \n",
       "4 2                            1506                \n",
       "5 1                               0                \n",
       "6 0                               0                \n",
       "  susie_scores.false_pos_cond_discoveries\n",
       "1   0                                    \n",
       "2   0                                    \n",
       "3   0                                    \n",
       "4   0                                    \n",
       "5  32                                    \n",
       "6 375                                    \n",
       "  susie_scores.false_neg_cond_discoveries susie_scores.true_cond_discoveries\n",
       "1  90                                      0                                \n",
       "2  50                                     85                                \n",
       "3 221                                      4                                \n",
       "4 262                                     53                                \n",
       "5  87                                     16                                \n",
       "6  30                                      0                                "
      ]
     },
     "metadata": {},
     "output_type": "display_data"
    }
   ],
   "source": [
    "head(out)"
   ]
  },
  {
   "cell_type": "code",
   "execution_count": 12,
   "metadata": {
    "kernel": "R"
   },
   "outputs": [
    {
     "data": {
      "text/html": [
       "<ol class=list-inline>\n",
       "\t<li>200</li>\n",
       "\t<li>14</li>\n",
       "</ol>\n"
      ],
      "text/latex": [
       "\\begin{enumerate*}\n",
       "\\item 200\n",
       "\\item 14\n",
       "\\end{enumerate*}\n"
      ],
      "text/markdown": [
       "1. 200\n",
       "2. 14\n",
       "\n",
       "\n"
      ],
      "text/plain": [
       "[1] 200  14"
      ]
     },
     "metadata": {},
     "output_type": "display_data"
    }
   ],
   "source": [
    "dim(out)"
   ]
  },
  {
   "cell_type": "code",
   "execution_count": 13,
   "metadata": {
    "kernel": "R"
   },
   "outputs": [],
   "source": [
    "saveRDS(out, '../data/finemap_output.20191108.rds')"
   ]
  },
  {
   "cell_type": "code",
   "execution_count": 17,
   "metadata": {
    "kernel": "R"
   },
   "outputs": [],
   "source": [
    "res = out[,-1]\n",
    "colnames(res) = c('pattern', 'missing', 'total', 'valid', 'size', 'purity', 'top_hit', 'total_true', 'total_true_included', 'overlap', 'false_positive_cross_cond', 'false_negative_cross_cond', 'true_positive_cross_cond')"
   ]
  },
  {
   "cell_type": "markdown",
   "metadata": {
    "kernel": "R"
   },
   "source": [
    "### Purity of CS"
   ]
  },
  {
   "cell_type": "code",
   "execution_count": 18,
   "metadata": {
    "kernel": "R"
   },
   "outputs": [
    {
     "data": {
      "text/html": [
       "<table>\n",
       "<caption>A data.frame: 2 × 3</caption>\n",
       "<thead>\n",
       "\t<tr><th scope=col>pattern</th><th scope=col>missing</th><th scope=col>purity</th></tr>\n",
       "\t<tr><th scope=col>&lt;chr&gt;</th><th scope=col>&lt;lgl&gt;</th><th scope=col>&lt;dbl&gt;</th></tr>\n",
       "</thead>\n",
       "<tbody>\n",
       "\t<tr><td>mid_het</td><td>FALSE</td><td>0.7191187</td></tr>\n",
       "\t<tr><td>mid_het</td><td> TRUE</td><td>0.8773249</td></tr>\n",
       "</tbody>\n",
       "</table>\n"
      ],
      "text/latex": [
       "A data.frame: 2 × 3\n",
       "\\begin{tabular}{r|lll}\n",
       " pattern & missing & purity\\\\\n",
       " <chr> & <lgl> & <dbl>\\\\\n",
       "\\hline\n",
       "\t mid\\_het & FALSE & 0.7191187\\\\\n",
       "\t mid\\_het &  TRUE & 0.8773249\\\\\n",
       "\\end{tabular}\n"
      ],
      "text/markdown": [
       "\n",
       "A data.frame: 2 × 3\n",
       "\n",
       "| pattern &lt;chr&gt; | missing &lt;lgl&gt; | purity &lt;dbl&gt; |\n",
       "|---|---|---|\n",
       "| mid_het | FALSE | 0.7191187 |\n",
       "| mid_het |  TRUE | 0.8773249 |\n",
       "\n"
      ],
      "text/plain": [
       "  pattern missing purity   \n",
       "1 mid_het FALSE   0.7191187\n",
       "2 mid_het  TRUE   0.8773249"
      ]
     },
     "metadata": {},
     "output_type": "display_data"
    }
   ],
   "source": [
    "purity = aggregate(purity~pattern + missing, res, mean)\n",
    "purity"
   ]
  },
  {
   "cell_type": "markdown",
   "metadata": {
    "kernel": "R"
   },
   "source": [
    "### Size of CS"
   ]
  },
  {
   "cell_type": "code",
   "execution_count": 20,
   "metadata": {
    "kernel": "R"
   },
   "outputs": [
    {
     "data": {
      "text/html": [
       "<table>\n",
       "<caption>A data.frame: 2 × 3</caption>\n",
       "<thead>\n",
       "\t<tr><th scope=col>pattern</th><th scope=col>missing</th><th scope=col>size</th></tr>\n",
       "\t<tr><th scope=col>&lt;chr&gt;</th><th scope=col>&lt;lgl&gt;</th><th scope=col>&lt;dbl&gt;</th></tr>\n",
       "</thead>\n",
       "<tbody>\n",
       "\t<tr><td>mid_het</td><td>FALSE</td><td>9</td></tr>\n",
       "\t<tr><td>mid_het</td><td> TRUE</td><td>9</td></tr>\n",
       "</tbody>\n",
       "</table>\n"
      ],
      "text/latex": [
       "A data.frame: 2 × 3\n",
       "\\begin{tabular}{r|lll}\n",
       " pattern & missing & size\\\\\n",
       " <chr> & <lgl> & <dbl>\\\\\n",
       "\\hline\n",
       "\t mid\\_het & FALSE & 9\\\\\n",
       "\t mid\\_het &  TRUE & 9\\\\\n",
       "\\end{tabular}\n"
      ],
      "text/markdown": [
       "\n",
       "A data.frame: 2 × 3\n",
       "\n",
       "| pattern &lt;chr&gt; | missing &lt;lgl&gt; | size &lt;dbl&gt; |\n",
       "|---|---|---|\n",
       "| mid_het | FALSE | 9 |\n",
       "| mid_het |  TRUE | 9 |\n",
       "\n"
      ],
      "text/plain": [
       "  pattern missing size\n",
       "1 mid_het FALSE   9   \n",
       "2 mid_het  TRUE   9   "
      ]
     },
     "metadata": {},
     "output_type": "display_data"
    }
   ],
   "source": [
    "size = aggregate(size~pattern+missing, res, median)\n",
    "size"
   ]
  },
  {
   "cell_type": "markdown",
   "metadata": {
    "kernel": "R"
   },
   "source": [
    "### Power of CS\n",
    "\n",
    "**Notice here that many CS overlap -- this is not what was observed with $R=5$.**"
   ]
  },
  {
   "cell_type": "code",
   "execution_count": 24,
   "metadata": {
    "kernel": "R"
   },
   "outputs": [
    {
     "data": {
      "text/html": [
       "<table>\n",
       "<caption>A data.frame: 2 × 6</caption>\n",
       "<thead>\n",
       "\t<tr><th scope=col>pattern</th><th scope=col>missing</th><th scope=col>total_true_included</th><th scope=col>total_true</th><th scope=col>overlap</th><th scope=col>power</th></tr>\n",
       "\t<tr><th scope=col>&lt;chr&gt;</th><th scope=col>&lt;lgl&gt;</th><th scope=col>&lt;int&gt;</th><th scope=col>&lt;int&gt;</th><th scope=col>&lt;dbl&gt;</th><th scope=col>&lt;dbl&gt;</th></tr>\n",
       "</thead>\n",
       "<tbody>\n",
       "\t<tr><td>mid_het</td><td>FALSE</td><td>128</td><td>173</td><td> 67.25</td><td>0.7398844</td></tr>\n",
       "\t<tr><td>mid_het</td><td> TRUE</td><td>134</td><td>173</td><td>148.22</td><td>0.7745665</td></tr>\n",
       "</tbody>\n",
       "</table>\n"
      ],
      "text/latex": [
       "A data.frame: 2 × 6\n",
       "\\begin{tabular}{r|llllll}\n",
       " pattern & missing & total\\_true\\_included & total\\_true & overlap & power\\\\\n",
       " <chr> & <lgl> & <int> & <int> & <dbl> & <dbl>\\\\\n",
       "\\hline\n",
       "\t mid\\_het & FALSE & 128 & 173 &  67.25 & 0.7398844\\\\\n",
       "\t mid\\_het &  TRUE & 134 & 173 & 148.22 & 0.7745665\\\\\n",
       "\\end{tabular}\n"
      ],
      "text/markdown": [
       "\n",
       "A data.frame: 2 × 6\n",
       "\n",
       "| pattern &lt;chr&gt; | missing &lt;lgl&gt; | total_true_included &lt;int&gt; | total_true &lt;int&gt; | overlap &lt;dbl&gt; | power &lt;dbl&gt; |\n",
       "|---|---|---|---|---|---|\n",
       "| mid_het | FALSE | 128 | 173 |  67.25 | 0.7398844 |\n",
       "| mid_het |  TRUE | 134 | 173 | 148.22 | 0.7745665 |\n",
       "\n"
      ],
      "text/plain": [
       "  pattern missing total_true_included total_true overlap power    \n",
       "1 mid_het FALSE   128                 173         67.25  0.7398844\n",
       "2 mid_het  TRUE   134                 173        148.22  0.7745665"
      ]
     },
     "metadata": {},
     "output_type": "display_data"
    }
   ],
   "source": [
    "total_true_included = aggregate(total_true_included ~ pattern + missing, res, sum)\n",
    "total_true = aggregate(total_true ~ pattern + missing, res, sum)\n",
    "overlap = aggregate(overlap ~ pattern + missing, res, mean)\n",
    "power = merge(total_true_included, total_true, by = c(\"pattern\", \"missing\"))\n",
    "power = merge(power, overlap,  by = c(\"pattern\", \"missing\"))\n",
    "power$power = power$total_true_included/power$total_true\n",
    "power = power[order(power$missing),]\n",
    "power"
   ]
  },
  {
   "cell_type": "markdown",
   "metadata": {
    "kernel": "R"
   },
   "source": [
    "### FDR of CS\n",
    "\n",
    "**The high FDR explains the seemingly high power, and is consistent with the observations that CS are \"purer\".**"
   ]
  },
  {
   "cell_type": "code",
   "execution_count": 31,
   "metadata": {
    "kernel": "R"
   },
   "outputs": [
    {
     "data": {
      "text/html": [
       "<table>\n",
       "<caption>A data.frame: 2 × 5</caption>\n",
       "<thead>\n",
       "\t<tr><th scope=col>pattern</th><th scope=col>missing</th><th scope=col>valid</th><th scope=col>total</th><th scope=col>fdr</th></tr>\n",
       "\t<tr><th scope=col>&lt;chr&gt;</th><th scope=col>&lt;lgl&gt;</th><th scope=col>&lt;dbl&gt;</th><th scope=col>&lt;dbl&gt;</th><th scope=col>&lt;dbl&gt;</th></tr>\n",
       "</thead>\n",
       "<tbody>\n",
       "\t<tr><td>mid_het</td><td>FALSE</td><td>185</td><td>185</td><td>0.0000000</td></tr>\n",
       "\t<tr><td>mid_het</td><td> TRUE</td><td>224</td><td>298</td><td>0.2483221</td></tr>\n",
       "</tbody>\n",
       "</table>\n"
      ],
      "text/latex": [
       "A data.frame: 2 × 5\n",
       "\\begin{tabular}{r|lllll}\n",
       " pattern & missing & valid & total & fdr\\\\\n",
       " <chr> & <lgl> & <dbl> & <dbl> & <dbl>\\\\\n",
       "\\hline\n",
       "\t mid\\_het & FALSE & 185 & 185 & 0.0000000\\\\\n",
       "\t mid\\_het &  TRUE & 224 & 298 & 0.2483221\\\\\n",
       "\\end{tabular}\n"
      ],
      "text/markdown": [
       "\n",
       "A data.frame: 2 × 5\n",
       "\n",
       "| pattern &lt;chr&gt; | missing &lt;lgl&gt; | valid &lt;dbl&gt; | total &lt;dbl&gt; | fdr &lt;dbl&gt; |\n",
       "|---|---|---|---|---|\n",
       "| mid_het | FALSE | 185 | 185 | 0.0000000 |\n",
       "| mid_het |  TRUE | 224 | 298 | 0.2483221 |\n",
       "\n"
      ],
      "text/plain": [
       "  pattern missing valid total fdr      \n",
       "1 mid_het FALSE   185   185   0.0000000\n",
       "2 mid_het  TRUE   224   298   0.2483221"
      ]
     },
     "metadata": {},
     "output_type": "display_data"
    }
   ],
   "source": [
    "valid = aggregate(valid ~ pattern + missing, res, sum)\n",
    "total = aggregate(total ~ pattern + missing, res, sum)\n",
    "fdr = merge(valid, total, by = c(\"pattern\", \"missing\"))\n",
    "fdr$fdr = (fdr$total - fdr$valid)/fdr$total\n",
    "fdr = fdr[order(fdr$missing),]\n",
    "fdr"
   ]
  },
  {
   "cell_type": "markdown",
   "metadata": {
    "kernel": "R"
   },
   "source": [
    "### Power for per signal per condition estimates\n",
    "\n",
    "We compute lfsr on per signal per condition basis. We call it a signal in the condition if lfsr is smaller than 0.05."
   ]
  },
  {
   "cell_type": "code",
   "execution_count": 27,
   "metadata": {
    "kernel": "R"
   },
   "outputs": [],
   "source": [
    "tp = aggregate(true_positive_cross_cond ~ pattern + missing, res, sum)\n",
    "fn = aggregate(false_negative_cross_cond ~ pattern + missing, res, sum)\n",
    "power = merge(tp, fn, by = c(\"pattern\", \"missing\"))"
   ]
  },
  {
   "cell_type": "code",
   "execution_count": 29,
   "metadata": {
    "kernel": "R"
   },
   "outputs": [
    {
     "data": {
      "text/html": [
       "<table>\n",
       "<caption>A data.frame: 2 × 5</caption>\n",
       "<thead>\n",
       "\t<tr><th scope=col>pattern</th><th scope=col>missing</th><th scope=col>true_positive_cross_cond</th><th scope=col>false_negative_cross_cond</th><th scope=col>power</th></tr>\n",
       "\t<tr><th scope=col>&lt;chr&gt;</th><th scope=col>&lt;lgl&gt;</th><th scope=col>&lt;int&gt;</th><th scope=col>&lt;int&gt;</th><th scope=col>&lt;dbl&gt;</th></tr>\n",
       "</thead>\n",
       "<tbody>\n",
       "\t<tr><td>mid_het</td><td>FALSE</td><td>4811</td><td>3514</td><td>0.5778979</td></tr>\n",
       "\t<tr><td>mid_het</td><td> TRUE</td><td>3670</td><td>8138</td><td>0.3108062</td></tr>\n",
       "</tbody>\n",
       "</table>\n"
      ],
      "text/latex": [
       "A data.frame: 2 × 5\n",
       "\\begin{tabular}{r|lllll}\n",
       " pattern & missing & true\\_positive\\_cross\\_cond & false\\_negative\\_cross\\_cond & power\\\\\n",
       " <chr> & <lgl> & <int> & <int> & <dbl>\\\\\n",
       "\\hline\n",
       "\t mid\\_het & FALSE & 4811 & 3514 & 0.5778979\\\\\n",
       "\t mid\\_het &  TRUE & 3670 & 8138 & 0.3108062\\\\\n",
       "\\end{tabular}\n"
      ],
      "text/markdown": [
       "\n",
       "A data.frame: 2 × 5\n",
       "\n",
       "| pattern &lt;chr&gt; | missing &lt;lgl&gt; | true_positive_cross_cond &lt;int&gt; | false_negative_cross_cond &lt;int&gt; | power &lt;dbl&gt; |\n",
       "|---|---|---|---|---|\n",
       "| mid_het | FALSE | 4811 | 3514 | 0.5778979 |\n",
       "| mid_het |  TRUE | 3670 | 8138 | 0.3108062 |\n",
       "\n"
      ],
      "text/plain": [
       "  pattern missing true_positive_cross_cond false_negative_cross_cond power    \n",
       "1 mid_het FALSE   4811                     3514                      0.5778979\n",
       "2 mid_het  TRUE   3670                     8138                      0.3108062"
      ]
     },
     "metadata": {},
     "output_type": "display_data"
    }
   ],
   "source": [
    "power$power = power$true_positive_cross_cond/(power$true_positive_cross_cond + power$false_negative_cross_cond)\n",
    "power = power[order(power$missing),]\n",
    "power"
   ]
  },
  {
   "cell_type": "markdown",
   "metadata": {
    "kernel": "R"
   },
   "source": [
    "### FDR for per signal per condition estimates\n"
   ]
  },
  {
   "cell_type": "code",
   "execution_count": 30,
   "metadata": {
    "kernel": "R"
   },
   "outputs": [
    {
     "data": {
      "text/html": [
       "<table>\n",
       "<caption>A data.frame: 2 × 5</caption>\n",
       "<thead>\n",
       "\t<tr><th scope=col>pattern</th><th scope=col>missing</th><th scope=col>true_positive_cross_cond</th><th scope=col>false_positive_cross_cond</th><th scope=col>fdr</th></tr>\n",
       "\t<tr><th scope=col>&lt;chr&gt;</th><th scope=col>&lt;lgl&gt;</th><th scope=col>&lt;int&gt;</th><th scope=col>&lt;int&gt;</th><th scope=col>&lt;dbl&gt;</th></tr>\n",
       "</thead>\n",
       "<tbody>\n",
       "\t<tr><td>mid_het</td><td>FALSE</td><td>4811</td><td>   0</td><td>0.0000000</td></tr>\n",
       "\t<tr><td>mid_het</td><td> TRUE</td><td>3670</td><td>1602</td><td>0.3038695</td></tr>\n",
       "</tbody>\n",
       "</table>\n"
      ],
      "text/latex": [
       "A data.frame: 2 × 5\n",
       "\\begin{tabular}{r|lllll}\n",
       " pattern & missing & true\\_positive\\_cross\\_cond & false\\_positive\\_cross\\_cond & fdr\\\\\n",
       " <chr> & <lgl> & <int> & <int> & <dbl>\\\\\n",
       "\\hline\n",
       "\t mid\\_het & FALSE & 4811 &    0 & 0.0000000\\\\\n",
       "\t mid\\_het &  TRUE & 3670 & 1602 & 0.3038695\\\\\n",
       "\\end{tabular}\n"
      ],
      "text/markdown": [
       "\n",
       "A data.frame: 2 × 5\n",
       "\n",
       "| pattern &lt;chr&gt; | missing &lt;lgl&gt; | true_positive_cross_cond &lt;int&gt; | false_positive_cross_cond &lt;int&gt; | fdr &lt;dbl&gt; |\n",
       "|---|---|---|---|---|\n",
       "| mid_het | FALSE | 4811 |    0 | 0.0000000 |\n",
       "| mid_het |  TRUE | 3670 | 1602 | 0.3038695 |\n",
       "\n"
      ],
      "text/plain": [
       "  pattern missing true_positive_cross_cond false_positive_cross_cond fdr      \n",
       "1 mid_het FALSE   4811                        0                      0.0000000\n",
       "2 mid_het  TRUE   3670                     1602                      0.3038695"
      ]
     },
     "metadata": {},
     "output_type": "display_data"
    }
   ],
   "source": [
    "tp = aggregate(true_positive_cross_cond ~ pattern + missing, res, sum)\n",
    "fp = aggregate(false_positive_cross_cond ~ pattern + missing, res, sum)\n",
    "fdr = merge(tp, fp, by = c(\"pattern\", \"missing\"))\n",
    "fdr$fdr = fdr$false_positive_cross_cond/(fdr$true_positive_cross_cond + fdr$false_positive_cross_cond)\n",
    "fdr = fdr[order(fdr$missing),]\n",
    "fdr"
   ]
  }
 ],
 "metadata": {
  "kernelspec": {
   "display_name": "SoS",
   "language": "sos",
   "name": "sos"
  },
  "language_info": {
   "codemirror_mode": "sos",
   "file_extension": ".sos",
   "mimetype": "text/x-sos",
   "name": "sos",
   "nbconvert_exporter": "sos_notebook.converter.SoS_Exporter",
   "pygments_lexer": "sos"
  },
  "sos": {
   "kernels": [
    [
     "R",
     "ir",
     "R",
     "#DCDCDA"
    ]
   ],
   "version": "0.20.5"
  }
 },
 "nbformat": 4,
 "nbformat_minor": 4
}
