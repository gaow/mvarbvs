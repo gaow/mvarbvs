{
 "cells": [
  {
   "cell_type": "markdown",
   "metadata": {
    "kernel": "SoS"
   },
   "source": [
    "# M&M ASH benchmark Part III\n",
    "\n",
    "This is a continuation of Part II where instead of looking at 1 causal SNP of PVE = 0.05 I look at 2 causal SNPs with total PVE set to 0.15."
   ]
  },
  {
   "cell_type": "markdown",
   "metadata": {
    "kernel": "SoS"
   },
   "source": [
    "## Conclusion\n",
    "\n",
    "The expected increase trend in power of `singleton`, `identity` and `shared` is completely reversed!"
   ]
  },
  {
   "cell_type": "markdown",
   "metadata": {
    "kernel": "SoS"
   },
   "source": [
    "```\n",
    "./finemap.dsc --target sanity_check -o sanity_check3 -c 39\n",
    "```"
   ]
  },
  {
   "cell_type": "code",
   "execution_count": 10,
   "metadata": {
    "kernel": "SoS"
   },
   "outputs": [
    {
     "name": "stdout",
     "output_type": "stream",
     "text": [
      "/home/gaow/GIT/github/mnm-twas/dsc"
     ]
    }
   ],
   "source": [
    "%cd ~/GIT/github/mnm-twas/dsc"
   ]
  },
  {
   "cell_type": "code",
   "execution_count": 11,
   "metadata": {
    "kernel": "R"
   },
   "outputs": [
    {
     "name": "stdout",
     "output_type": "stream",
     "text": [
      "Loading dsc-query output from CSV file.\n",
      "Reading DSC outputs:\n",
      " - sharing_pattern.n_signal: extracted atomic values\n",
      " - susie_scores.total: extracted atomic values\n",
      " - susie_scores.valid: extracted atomic values\n",
      " - susie_scores.size: extracted atomic values\n",
      " - susie_scores.purity: extracted atomic values\n",
      " - susie_scores.top: extracted atomic values\n"
     ]
    }
   ],
   "source": [
    "library('dscrutils')\n",
    "out = dscquery('sanity_check3', \"hundred_data.dataset sharing_pattern.n_signal susie_scores.total susie_scores.valid susie_scores.size susie_scores.purity susie_scores.top\", groups=\"sharing_pattern: singleton, identity, shared\")"
   ]
  },
  {
   "cell_type": "code",
   "execution_count": 12,
   "metadata": {
    "kernel": "R"
   },
   "outputs": [
    {
     "data": {
      "text/html": [
       "<table>\n",
       "<thead><tr><th scope=col>DSC</th><th scope=col>hundred_data.dataset</th><th scope=col>sharing_pattern</th><th scope=col>sharing_pattern.n_signal</th><th scope=col>susie_scores.total</th><th scope=col>susie_scores.valid</th><th scope=col>susie_scores.size</th><th scope=col>susie_scores.purity</th><th scope=col>susie_scores.top</th></tr></thead>\n",
       "<tbody>\n",
       "\t<tr><td>1                                                  </td><td>~/Documents/GTExV8/Thyroid.Lung.FMO2.filled.rds    </td><td>singleton                                          </td><td>2                                                  </td><td>2                                                  </td><td>2                                                  </td><td>7.5                                                </td><td>0.997902685565869                                  </td><td>1                                                  </td></tr>\n",
       "\t<tr><td>1                                                  </td><td>~/Documents/GTExV8/Toys/Thyroid.ENSG00000031823.RDS</td><td>singleton                                          </td><td>2                                                  </td><td>1                                                  </td><td>1                                                  </td><td>1                                                  </td><td>1                                                  </td><td>1                                                  </td></tr>\n",
       "\t<tr><td>1                                                  </td><td>~/Documents/GTExV8/Toys/Thyroid.ENSG00000062194.RDS</td><td>singleton                                          </td><td>2                                                  </td><td>2                                                  </td><td>2                                                  </td><td>8.5                                                </td><td>0.980400377080065                                  </td><td>1                                                  </td></tr>\n",
       "\t<tr><td>1                                                  </td><td>~/Documents/GTExV8/Toys/Thyroid.ENSG00000073150.RDS</td><td>singleton                                          </td><td>2                                                  </td><td>1                                                  </td><td>1                                                  </td><td>7                                                  </td><td>0.984587614689054                                  </td><td>0                                                  </td></tr>\n",
       "\t<tr><td>1                                                  </td><td>~/Documents/GTExV8/Toys/Thyroid.ENSG00000078319.RDS</td><td>singleton                                          </td><td>2                                                  </td><td>1                                                  </td><td>1                                                  </td><td>2                                                  </td><td>0.999964909747404                                  </td><td>0                                                  </td></tr>\n",
       "\t<tr><td>1                                                  </td><td>~/Documents/GTExV8/Toys/Thyroid.ENSG00000081277.RDS</td><td>singleton                                          </td><td>2                                                  </td><td>1                                                  </td><td>1                                                  </td><td>25                                                 </td><td>0.966136167252649                                  </td><td>0                                                  </td></tr>\n",
       "</tbody>\n",
       "</table>\n"
      ],
      "text/latex": [
       "\\begin{tabular}{r|lllllllll}\n",
       " DSC & hundred\\_data.dataset & sharing\\_pattern & sharing\\_pattern.n\\_signal & susie\\_scores.total & susie\\_scores.valid & susie\\_scores.size & susie\\_scores.purity & susie\\_scores.top\\\\\n",
       "\\hline\n",
       "\t 1                                                                    & \\textasciitilde{}/Documents/GTExV8/Thyroid.Lung.FMO2.filled.rds     & singleton                                                            & 2                                                                    & 2                                                                    & 2                                                                    & 7.5                                                                  & 0.997902685565869                                                    & 1                                                                   \\\\\n",
       "\t 1                                                                    & \\textasciitilde{}/Documents/GTExV8/Toys/Thyroid.ENSG00000031823.RDS & singleton                                                            & 2                                                                    & 1                                                                    & 1                                                                    & 1                                                                    & 1                                                                    & 1                                                                   \\\\\n",
       "\t 1                                                                    & \\textasciitilde{}/Documents/GTExV8/Toys/Thyroid.ENSG00000062194.RDS & singleton                                                            & 2                                                                    & 2                                                                    & 2                                                                    & 8.5                                                                  & 0.980400377080065                                                    & 1                                                                   \\\\\n",
       "\t 1                                                                    & \\textasciitilde{}/Documents/GTExV8/Toys/Thyroid.ENSG00000073150.RDS & singleton                                                            & 2                                                                    & 1                                                                    & 1                                                                    & 7                                                                    & 0.984587614689054                                                    & 0                                                                   \\\\\n",
       "\t 1                                                                    & \\textasciitilde{}/Documents/GTExV8/Toys/Thyroid.ENSG00000078319.RDS & singleton                                                            & 2                                                                    & 1                                                                    & 1                                                                    & 2                                                                    & 0.999964909747404                                                    & 0                                                                   \\\\\n",
       "\t 1                                                                    & \\textasciitilde{}/Documents/GTExV8/Toys/Thyroid.ENSG00000081277.RDS & singleton                                                            & 2                                                                    & 1                                                                    & 1                                                                    & 25                                                                   & 0.966136167252649                                                    & 0                                                                   \\\\\n",
       "\\end{tabular}\n"
      ],
      "text/markdown": [
       "\n",
       "DSC | hundred_data.dataset | sharing_pattern | sharing_pattern.n_signal | susie_scores.total | susie_scores.valid | susie_scores.size | susie_scores.purity | susie_scores.top | \n",
       "|---|---|---|---|---|---|\n",
       "| 1                                                   | ~/Documents/GTExV8/Thyroid.Lung.FMO2.filled.rds     | singleton                                           | 2                                                   | 2                                                   | 2                                                   | 7.5                                                 | 0.997902685565869                                   | 1                                                   | \n",
       "| 1                                                   | ~/Documents/GTExV8/Toys/Thyroid.ENSG00000031823.RDS | singleton                                           | 2                                                   | 1                                                   | 1                                                   | 1                                                   | 1                                                   | 1                                                   | \n",
       "| 1                                                   | ~/Documents/GTExV8/Toys/Thyroid.ENSG00000062194.RDS | singleton                                           | 2                                                   | 2                                                   | 2                                                   | 8.5                                                 | 0.980400377080065                                   | 1                                                   | \n",
       "| 1                                                   | ~/Documents/GTExV8/Toys/Thyroid.ENSG00000073150.RDS | singleton                                           | 2                                                   | 1                                                   | 1                                                   | 7                                                   | 0.984587614689054                                   | 0                                                   | \n",
       "| 1                                                   | ~/Documents/GTExV8/Toys/Thyroid.ENSG00000078319.RDS | singleton                                           | 2                                                   | 1                                                   | 1                                                   | 2                                                   | 0.999964909747404                                   | 0                                                   | \n",
       "| 1                                                   | ~/Documents/GTExV8/Toys/Thyroid.ENSG00000081277.RDS | singleton                                           | 2                                                   | 1                                                   | 1                                                   | 25                                                  | 0.966136167252649                                   | 0                                                   | \n",
       "\n",
       "\n"
      ],
      "text/plain": [
       "  DSC hundred_data.dataset                                sharing_pattern\n",
       "1 1   ~/Documents/GTExV8/Thyroid.Lung.FMO2.filled.rds     singleton      \n",
       "2 1   ~/Documents/GTExV8/Toys/Thyroid.ENSG00000031823.RDS singleton      \n",
       "3 1   ~/Documents/GTExV8/Toys/Thyroid.ENSG00000062194.RDS singleton      \n",
       "4 1   ~/Documents/GTExV8/Toys/Thyroid.ENSG00000073150.RDS singleton      \n",
       "5 1   ~/Documents/GTExV8/Toys/Thyroid.ENSG00000078319.RDS singleton      \n",
       "6 1   ~/Documents/GTExV8/Toys/Thyroid.ENSG00000081277.RDS singleton      \n",
       "  sharing_pattern.n_signal susie_scores.total susie_scores.valid\n",
       "1 2                        2                  2                 \n",
       "2 2                        1                  1                 \n",
       "3 2                        2                  2                 \n",
       "4 2                        1                  1                 \n",
       "5 2                        1                  1                 \n",
       "6 2                        1                  1                 \n",
       "  susie_scores.size susie_scores.purity susie_scores.top\n",
       "1 7.5               0.997902685565869   1               \n",
       "2 1                 1                   1               \n",
       "3 8.5               0.980400377080065   1               \n",
       "4 7                 0.984587614689054   0               \n",
       "5 2                 0.999964909747404   0               \n",
       "6 25                0.966136167252649   0               "
      ]
     },
     "metadata": {},
     "output_type": "display_data"
    }
   ],
   "source": [
    "head(out)"
   ]
  },
  {
   "cell_type": "code",
   "execution_count": 13,
   "metadata": {
    "kernel": "R"
   },
   "outputs": [],
   "source": [
    "out[,c(4,5,6,7,8,9)] = as.numeric(as.matrix(out[,c(4,5,6,7,8,9)]))\n",
    "res = out[,c(3,4,5,6,7,8,9)]\n",
    "colnames(res) = c('pattern', 'total_true', 'total', 'valid', 'size', 'purity', 'top_hit')"
   ]
  },
  {
   "cell_type": "markdown",
   "metadata": {
    "kernel": "R"
   },
   "source": [
    "### Purity of CS"
   ]
  },
  {
   "cell_type": "code",
   "execution_count": 14,
   "metadata": {
    "kernel": "R"
   },
   "outputs": [
    {
     "data": {
      "text/html": [
       "<table>\n",
       "<thead><tr><th scope=col>pattern</th><th scope=col>purity</th></tr></thead>\n",
       "<tbody>\n",
       "\t<tr><td>identity </td><td>0.9652615</td></tr>\n",
       "\t<tr><td>shared   </td><td>0.9714742</td></tr>\n",
       "\t<tr><td>singleton</td><td>0.9612232</td></tr>\n",
       "</tbody>\n",
       "</table>\n"
      ],
      "text/latex": [
       "\\begin{tabular}{r|ll}\n",
       " pattern & purity\\\\\n",
       "\\hline\n",
       "\t identity  & 0.9652615\\\\\n",
       "\t shared    & 0.9714742\\\\\n",
       "\t singleton & 0.9612232\\\\\n",
       "\\end{tabular}\n"
      ],
      "text/markdown": [
       "\n",
       "pattern | purity | \n",
       "|---|---|---|\n",
       "| identity  | 0.9652615 | \n",
       "| shared    | 0.9714742 | \n",
       "| singleton | 0.9612232 | \n",
       "\n",
       "\n"
      ],
      "text/plain": [
       "  pattern   purity   \n",
       "1 identity  0.9652615\n",
       "2 shared    0.9714742\n",
       "3 singleton 0.9612232"
      ]
     },
     "metadata": {},
     "output_type": "display_data"
    }
   ],
   "source": [
    "aggregate(purity~pattern, res, mean)"
   ]
  },
  {
   "cell_type": "markdown",
   "metadata": {
    "kernel": "R"
   },
   "source": [
    "### Size of CS"
   ]
  },
  {
   "cell_type": "code",
   "execution_count": 15,
   "metadata": {
    "kernel": "R"
   },
   "outputs": [
    {
     "data": {
      "text/html": [
       "<table>\n",
       "<thead><tr><th scope=col>pattern</th><th scope=col>size</th></tr></thead>\n",
       "<tbody>\n",
       "\t<tr><td>identity </td><td>7.25     </td></tr>\n",
       "\t<tr><td>shared   </td><td>4.75     </td></tr>\n",
       "\t<tr><td>singleton</td><td>7.00     </td></tr>\n",
       "</tbody>\n",
       "</table>\n"
      ],
      "text/latex": [
       "\\begin{tabular}{r|ll}\n",
       " pattern & size\\\\\n",
       "\\hline\n",
       "\t identity  & 7.25     \\\\\n",
       "\t shared    & 4.75     \\\\\n",
       "\t singleton & 7.00     \\\\\n",
       "\\end{tabular}\n"
      ],
      "text/markdown": [
       "\n",
       "pattern | size | \n",
       "|---|---|---|\n",
       "| identity  | 7.25      | \n",
       "| shared    | 4.75      | \n",
       "| singleton | 7.00      | \n",
       "\n",
       "\n"
      ],
      "text/plain": [
       "  pattern   size\n",
       "1 identity  7.25\n",
       "2 shared    4.75\n",
       "3 singleton 7.00"
      ]
     },
     "metadata": {},
     "output_type": "display_data"
    }
   ],
   "source": [
    "aggregate(size~pattern, res, median)"
   ]
  },
  {
   "cell_type": "markdown",
   "metadata": {
    "kernel": "R"
   },
   "source": [
    "### Power"
   ]
  },
  {
   "cell_type": "code",
   "execution_count": 16,
   "metadata": {
    "kernel": "R"
   },
   "outputs": [
    {
     "data": {
      "text/html": [
       "<table>\n",
       "<thead><tr><th scope=col>pattern</th><th scope=col>valid</th><th scope=col>total_true</th><th scope=col>power</th></tr></thead>\n",
       "<tbody>\n",
       "\t<tr><td>identity </td><td>148      </td><td>200      </td><td>0.740    </td></tr>\n",
       "\t<tr><td>shared   </td><td>126      </td><td>200      </td><td>0.630    </td></tr>\n",
       "\t<tr><td>singleton</td><td>157      </td><td>200      </td><td>0.785    </td></tr>\n",
       "</tbody>\n",
       "</table>\n"
      ],
      "text/latex": [
       "\\begin{tabular}{r|llll}\n",
       " pattern & valid & total\\_true & power\\\\\n",
       "\\hline\n",
       "\t identity  & 148       & 200       & 0.740    \\\\\n",
       "\t shared    & 126       & 200       & 0.630    \\\\\n",
       "\t singleton & 157       & 200       & 0.785    \\\\\n",
       "\\end{tabular}\n"
      ],
      "text/markdown": [
       "\n",
       "pattern | valid | total_true | power | \n",
       "|---|---|---|\n",
       "| identity  | 148       | 200       | 0.740     | \n",
       "| shared    | 126       | 200       | 0.630     | \n",
       "| singleton | 157       | 200       | 0.785     | \n",
       "\n",
       "\n"
      ],
      "text/plain": [
       "  pattern   valid total_true power\n",
       "1 identity  148   200        0.740\n",
       "2 shared    126   200        0.630\n",
       "3 singleton 157   200        0.785"
      ]
     },
     "metadata": {},
     "output_type": "display_data"
    }
   ],
   "source": [
    "valid = aggregate(valid ~ pattern, res, sum)\n",
    "total_true = aggregate(total_true ~ pattern, res, sum)\n",
    "power = merge(valid, total_true, by = \"pattern\")\n",
    "power$power = power$valid/power$total_true\n",
    "power"
   ]
  },
  {
   "cell_type": "markdown",
   "metadata": {
    "kernel": "R"
   },
   "source": [
    "### FDR"
   ]
  },
  {
   "cell_type": "code",
   "execution_count": 17,
   "metadata": {
    "kernel": "R"
   },
   "outputs": [
    {
     "data": {
      "text/html": [
       "<table>\n",
       "<thead><tr><th scope=col>pattern</th><th scope=col>valid</th><th scope=col>total</th><th scope=col>fdr</th></tr></thead>\n",
       "<tbody>\n",
       "\t<tr><td>identity  </td><td>148       </td><td>157       </td><td>0.05732484</td></tr>\n",
       "\t<tr><td>shared    </td><td>126       </td><td>135       </td><td>0.06666667</td></tr>\n",
       "\t<tr><td>singleton </td><td>157       </td><td>159       </td><td>0.01257862</td></tr>\n",
       "</tbody>\n",
       "</table>\n"
      ],
      "text/latex": [
       "\\begin{tabular}{r|llll}\n",
       " pattern & valid & total & fdr\\\\\n",
       "\\hline\n",
       "\t identity   & 148        & 157        & 0.05732484\\\\\n",
       "\t shared     & 126        & 135        & 0.06666667\\\\\n",
       "\t singleton  & 157        & 159        & 0.01257862\\\\\n",
       "\\end{tabular}\n"
      ],
      "text/markdown": [
       "\n",
       "pattern | valid | total | fdr | \n",
       "|---|---|---|\n",
       "| identity   | 148        | 157        | 0.05732484 | \n",
       "| shared     | 126        | 135        | 0.06666667 | \n",
       "| singleton  | 157        | 159        | 0.01257862 | \n",
       "\n",
       "\n"
      ],
      "text/plain": [
       "  pattern   valid total fdr       \n",
       "1 identity  148   157   0.05732484\n",
       "2 shared    126   135   0.06666667\n",
       "3 singleton 157   159   0.01257862"
      ]
     },
     "metadata": {},
     "output_type": "display_data"
    }
   ],
   "source": [
    "valid = aggregate(valid ~ pattern, res, sum)\n",
    "total = aggregate(total ~ pattern, res, sum)\n",
    "fdr = merge(valid, total, by = \"pattern\")\n",
    "fdr$fdr = (fdr$total - fdr$valid)/fdr$total\n",
    "fdr"
   ]
  },
  {
   "cell_type": "markdown",
   "metadata": {
    "kernel": "R"
   },
   "source": [
    "### Top-hit rate (how often the strongest SNP is causal)"
   ]
  },
  {
   "cell_type": "code",
   "execution_count": 18,
   "metadata": {
    "kernel": "R"
   },
   "outputs": [
    {
     "data": {
      "text/html": [
       "<table>\n",
       "<thead><tr><th scope=col>pattern</th><th scope=col>top_hit</th><th scope=col>total_true</th><th scope=col>top_rate</th></tr></thead>\n",
       "<tbody>\n",
       "\t<tr><td>identity </td><td>79       </td><td>200      </td><td>0.395    </td></tr>\n",
       "\t<tr><td>shared   </td><td>75       </td><td>200      </td><td>0.375    </td></tr>\n",
       "\t<tr><td>singleton</td><td>77       </td><td>200      </td><td>0.385    </td></tr>\n",
       "</tbody>\n",
       "</table>\n"
      ],
      "text/latex": [
       "\\begin{tabular}{r|llll}\n",
       " pattern & top\\_hit & total\\_true & top\\_rate\\\\\n",
       "\\hline\n",
       "\t identity  & 79        & 200       & 0.395    \\\\\n",
       "\t shared    & 75        & 200       & 0.375    \\\\\n",
       "\t singleton & 77        & 200       & 0.385    \\\\\n",
       "\\end{tabular}\n"
      ],
      "text/markdown": [
       "\n",
       "pattern | top_hit | total_true | top_rate | \n",
       "|---|---|---|\n",
       "| identity  | 79        | 200       | 0.395     | \n",
       "| shared    | 75        | 200       | 0.375     | \n",
       "| singleton | 77        | 200       | 0.385     | \n",
       "\n",
       "\n"
      ],
      "text/plain": [
       "  pattern   top_hit total_true top_rate\n",
       "1 identity  79      200        0.395   \n",
       "2 shared    75      200        0.375   \n",
       "3 singleton 77      200        0.385   "
      ]
     },
     "metadata": {},
     "output_type": "display_data"
    }
   ],
   "source": [
    "top_hit = aggregate(top_hit ~ pattern, res, sum)\n",
    "total_true = aggregate(total_true ~ pattern, res, sum)\n",
    "top_rate = merge(top_hit, total_true, by = \"pattern\")\n",
    "top_rate$top_rate = top_rate$top_hit/top_rate$total_true\n",
    "top_rate"
   ]
  }
 ],
 "metadata": {
  "kernelspec": {
   "display_name": "SoS",
   "language": "sos",
   "name": "sos"
  },
  "language_info": {
   "codemirror_mode": "sos",
   "file_extension": ".sos",
   "mimetype": "text/x-sos",
   "name": "sos",
   "nbconvert_exporter": "sos_notebook.converter.SoS_Exporter",
   "pygments_lexer": "sos"
  },
  "sos": {
   "kernels": [
    [
     "R",
     "ir",
     "R",
     "#DCDCDA"
    ]
   ],
   "version": "0.18.3"
  }
 },
 "nbformat": 4,
 "nbformat_minor": 2
}
