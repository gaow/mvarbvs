{
 "cells": [
  {
   "cell_type": "markdown",
   "metadata": {
    "kernel": "SoS"
   },
   "source": [
    "# Comparing atlasqtl with M&M\n",
    "\n",
    "In addition to [MTHESS](https://www.ncbi.nlm.nih.gov/pubmed/26504141) when we first conceived the project in 2016, two other papers from the same group of authors have been published with software implementation [locus](https://github.com/hruffieux/locus) ([paper](https://academic.oup.com/biostatistics/article/18/4/618/3072965)) and building on top of it, an efficient approach called [atlasqtl](https://github.com/hruffieux/atlasqtl) ([paper](https://arxiv.org/pdf/1811.03334.pdf)). `atlasqtl` approach is designed specifically for detecting pleiotropic patterns (which the authors refer to as \"hotspots\"). Here we challenge ourselves with a simulated example from `altlasqtl` documentation. "
   ]
  },
  {
   "cell_type": "markdown",
   "metadata": {
    "kernel": "SoS"
   },
   "source": [
    "## Conclusion\n",
    "1. `atlasqtl` has no vignettes but has great documentation for function call `atlasqtl()`, the main function, with an example using simulated data.\n",
    "2. `atlasqtl` is very fast for the scale of the problem with 50 responses; `mmbr` with naive MASH mixture in this case is a lot slower but still acceptable.\n",
    "3. `mmbr` in this experiment uses naive MASH mixture that has uniform weight on >700 components. It can be made a lot faster (reducing number of components) and better (improving weights) when actual MASH approach is used.\n",
    "\n",
    "Apart from computing time, on this particular example `mmbr` should still win: the PIP it reports is cleaner; and additioally it has the potential to give CS which is a feature from SuSiE model. Also we now support summary statistics which is useful for application in large GWAS studies."
   ]
  },
  {
   "cell_type": "markdown",
   "metadata": {
    "kernel": "SoS"
   },
   "source": [
    "## Setup\n",
    "\n",
    "I copy the codes in [\"example\" section `atlasqtl` documentation](https://github.com/hruffieux/atlasqtl/blob/a7f76170d1c4a17bf743e22e16dc7631a76b7b17/man/atlasqtl.Rd#L141) to simulate N=500 samples, R=50 traits, P=2000 variables and L=10 causal variables (in their setting the setup was N=200, R=100, P=50 and L=10, but only 50 out of 100 traits have a genetic association)."
   ]
  },
  {
   "cell_type": "code",
   "execution_count": 1,
   "metadata": {
    "kernel": "R"
   },
   "outputs": [
    {
     "data": {
      "text/html": [
       "<ol class=list-inline>\n",
       "\t<li>500</li>\n",
       "\t<li>2000</li>\n",
       "</ol>\n"
      ],
      "text/latex": [
       "\\begin{enumerate*}\n",
       "\\item 500\n",
       "\\item 2000\n",
       "\\end{enumerate*}\n"
      ],
      "text/markdown": [
       "1. 500\n",
       "2. 2000\n",
       "\n",
       "\n"
      ],
      "text/plain": [
       "[1]  500 2000"
      ]
     },
     "metadata": {},
     "output_type": "display_data"
    }
   ],
   "source": [
    "seed = 1; set.seed(seed)\n",
    "n <- 500; q = 50; p = 2000; p_act <- 10; q_act <- 50\n",
    "X_act <- matrix(rbinom(n * p_act, size = 2, p = 0.25), nrow = n)\n",
    "X_inact <- matrix(rbinom(n * (p - p_act), size = 2, p = 0.25), nrow = n)\n",
    "shuff_x_ind <- sample(p)\n",
    "shuff_y_ind <- sample(q)\n",
    "X <- cbind(X_act, X_inact)[, shuff_x_ind]\n",
    "dim(X)"
   ]
  },
  {
   "cell_type": "code",
   "execution_count": 2,
   "metadata": {
    "kernel": "R"
   },
   "outputs": [
    {
     "data": {
      "text/html": [
       "<ol class=list-inline>\n",
       "\t<li>53</li>\n",
       "\t<li>102</li>\n",
       "\t<li>199</li>\n",
       "\t<li>839</li>\n",
       "\t<li>879</li>\n",
       "\t<li>1318</li>\n",
       "\t<li>1433</li>\n",
       "\t<li>1682</li>\n",
       "\t<li>1888</li>\n",
       "\t<li>1966</li>\n",
       "</ol>\n"
      ],
      "text/latex": [
       "\\begin{enumerate*}\n",
       "\\item 53\n",
       "\\item 102\n",
       "\\item 199\n",
       "\\item 839\n",
       "\\item 879\n",
       "\\item 1318\n",
       "\\item 1433\n",
       "\\item 1682\n",
       "\\item 1888\n",
       "\\item 1966\n",
       "\\end{enumerate*}\n"
      ],
      "text/markdown": [
       "1. 53\n",
       "2. 102\n",
       "3. 199\n",
       "4. 839\n",
       "5. 879\n",
       "6. 1318\n",
       "7. 1433\n",
       "8. 1682\n",
       "9. 1888\n",
       "10. 1966\n",
       "\n",
       "\n"
      ],
      "text/plain": [
       " [1]   53  102  199  839  879 1318 1433 1682 1888 1966"
      ]
     },
     "metadata": {},
     "output_type": "display_data"
    }
   ],
   "source": [
    "pat <- matrix(FALSE, ncol = q, nrow = p)\n",
    "bool_x <- shuff_x_ind <= p_act\n",
    "bool_y <- shuff_y_ind <= q_act\n",
    "pat_act <- beta_act <- matrix(0, nrow = p_act, ncol = q_act)\n",
    "pat_act[sample(p_act * q_act, floor(p_act * q_act / 5))] <- 1\n",
    "beta_act[as.logical(pat_act)] <-  rnorm(sum(pat_act))\n",
    "pat[bool_x, bool_y] <- pat_act\n",
    "true_signal = which(rowSums(pat)>0)\n",
    "true_signal"
   ]
  },
  {
   "cell_type": "code",
   "execution_count": 3,
   "metadata": {
    "kernel": "R"
   },
   "outputs": [
    {
     "data": {
      "text/html": [
       "<ol class=list-inline>\n",
       "\t<li>2000</li>\n",
       "\t<li>50</li>\n",
       "</ol>\n"
      ],
      "text/latex": [
       "\\begin{enumerate*}\n",
       "\\item 2000\n",
       "\\item 50\n",
       "\\end{enumerate*}\n"
      ],
      "text/markdown": [
       "1. 2000\n",
       "2. 50\n",
       "\n",
       "\n"
      ],
      "text/plain": [
       "[1] 2000   50"
      ]
     },
     "metadata": {},
     "output_type": "display_data"
    }
   ],
   "source": [
    "dim(pat)"
   ]
  },
  {
   "cell_type": "code",
   "execution_count": 4,
   "metadata": {
    "kernel": "R"
   },
   "outputs": [
    {
     "data": {
      "text/html": [
       "<ol class=list-inline>\n",
       "\t<li>500</li>\n",
       "\t<li>50</li>\n",
       "</ol>\n"
      ],
      "text/latex": [
       "\\begin{enumerate*}\n",
       "\\item 500\n",
       "\\item 50\n",
       "\\end{enumerate*}\n"
      ],
      "text/markdown": [
       "1. 500\n",
       "2. 50\n",
       "\n",
       "\n"
      ],
      "text/plain": [
       "[1] 500  50"
      ]
     },
     "metadata": {},
     "output_type": "display_data"
    }
   ],
   "source": [
    "Y_act <- matrix(rnorm(n * q_act, mean = X_act %*% beta_act), nrow = n)\n",
    "Y_inact <- matrix(rnorm(n * (q - q_act)), nrow = n)\n",
    "Y <- cbind(Y_act, Y_inact)[, shuff_y_ind]\n",
    "dim(Y)"
   ]
  },
  {
   "cell_type": "markdown",
   "metadata": {
    "kernel": "R"
   },
   "source": [
    "## Analysis with `atlasqtl`\n",
    "\n",
    "Here I use all default `atlasqtl` setting including the assumption on number of effects to capture -- mean is 2, variance is 10."
   ]
  },
  {
   "cell_type": "code",
   "execution_count": 5,
   "metadata": {
    "kernel": "R"
   },
   "outputs": [
    {
     "data": {
      "text/html": [
       "<ol class=list-inline>\n",
       "\t<li>2</li>\n",
       "\t<li>10</li>\n",
       "</ol>\n"
      ],
      "text/latex": [
       "\\begin{enumerate*}\n",
       "\\item 2\n",
       "\\item 10\n",
       "\\end{enumerate*}\n"
      ],
      "text/markdown": [
       "1. 2\n",
       "2. 10\n",
       "\n",
       "\n"
      ],
      "text/plain": [
       "[1]  2 10"
      ]
     },
     "metadata": {},
     "output_type": "display_data"
    }
   ],
   "source": [
    "# Number of effects to look for: mean is 2, variance is 10\n",
    "p0 <- c(mean(colSums(pat)), 10)\n",
    "p0"
   ]
  },
  {
   "cell_type": "code",
   "execution_count": 6,
   "metadata": {
    "kernel": "R"
   },
   "outputs": [
    {
     "name": "stdout",
     "output_type": "stream",
     "text": [
      "\n",
      "======================= \n",
      "== PREPROCESSING ... == \n",
      "======================= \n",
      "\n",
      "== Checking the annealing schedule ... \n",
      "\n",
      "... done. == \n",
      "\n",
      "== Preparing the data ... \n",
      "\n",
      "... done. == \n",
      "\n",
      "== Preparing the hyperparameters ... \n",
      "\n",
      "list_hyper set automatically. \n",
      "... done. == \n",
      "\n",
      "== Preparing the parameter initialization ... \n",
      "\n",
      "Seed set to user_seed 1. \n",
      "list_init set automatically. \n",
      "... done. == \n",
      "\n",
      "**************************************************** \n",
      "Number of samples: 500\n",
      "Number of (non-redundant) candidate predictors: 2000\n",
      "Number of responses: 50\n",
      "**************************************************** \n",
      "\n",
      "======================================================= \n",
      "== ATLASQTL: fast global-local hotspot QTL detection == \n",
      "======================================================= \n",
      "\n",
      "** Annealing with geometric spacing ** \n",
      "\n",
      "Iteration 1... \n",
      "Temperature = 2\n",
      "\n",
      "Iteration 5... \n",
      "Temperature = 1.47\n",
      "\n",
      "** Exiting annealing mode. **\n",
      "\n",
      "Iteration 10... \n",
      "ELBO = -38243.23\n",
      "\n",
      "Iteration 50... \n",
      "ELBO = -37916.66\n",
      "\n",
      "Iteration 55... \n",
      "ELBO = -37914.47\n",
      "\n",
      "Iteration 60... \n",
      "ELBO = -37912.53\n",
      "\n",
      "Iteration 65... \n",
      "ELBO = -37910.79\n",
      "\n",
      "Iteration 70... \n",
      "ELBO = -37909.23\n",
      "\n",
      "Iteration 75... \n",
      "ELBO = -37907.84\n",
      "\n",
      "Iteration 80... \n",
      "ELBO = -37906.58\n",
      "\n",
      "Iteration 85... \n",
      "ELBO = -37905.45\n",
      "\n",
      "Iteration 90... \n",
      "ELBO = -37904.43\n",
      "\n",
      "Iteration 95... \n",
      "ELBO = -37903.51\n",
      "\n",
      "Iteration 100... \n",
      "ELBO = -37902.68\n",
      "\n",
      "Iteration 105... \n",
      "ELBO = -37901.93\n",
      "\n",
      "Iteration 110... \n",
      "ELBO = -37901.25\n",
      "\n",
      "Iteration 115... \n",
      "ELBO = -37900.63\n",
      "\n",
      "Iteration 120... \n",
      "ELBO = -37900.07\n",
      "\n",
      "Convergence obtained after 124 iterations. \n",
      "Optimal marginal log-likelihood variational lower bound (ELBO) = -37899.66. \n",
      "\n",
      "... done. == \n",
      "\n"
     ]
    },
    {
     "data": {
      "text/plain": [
       "Time difference of 12.92161 secs"
      ]
     },
     "metadata": {},
     "output_type": "display_data"
    }
   ],
   "source": [
    "start_time <- Sys.time()\n",
    "res_atlas <- atlasqtl::atlasqtl(Y = Y, X = X, p0 = p0, user_seed = seed)\n",
    "end_time <- Sys.time()\n",
    "end_time - start_time"
   ]
  },
  {
   "cell_type": "markdown",
   "metadata": {
    "kernel": "R"
   },
   "source": [
    "It takes **13 seconds** for the job! Memory usage for this computation is minimal (about 0.3GB)."
   ]
  },
  {
   "cell_type": "markdown",
   "metadata": {
    "kernel": "R"
   },
   "source": [
    "# Analysis with `mmbr`\n",
    "\n",
    "Prior effect size in `mmbr` is a required input. Here I use a naive MASH mixture prior -- using canonical covariances with scaled learned from data, and uniform weights,"
   ]
  },
  {
   "cell_type": "code",
   "execution_count": 7,
   "metadata": {
    "kernel": "R"
   },
   "outputs": [],
   "source": [
    "X = X * 1.0\n",
    "mash_prior = mmbr::create_mash_prior(sample_data = list(X=X,Y=Y, residual_variance=var(Y)), max_mixture_len=-1)"
   ]
  },
  {
   "cell_type": "markdown",
   "metadata": {
    "kernel": "R"
   },
   "source": [
    "Now I fit M&M model. To be fair I allow for looking for up to 15 effects,"
   ]
  },
  {
   "cell_type": "code",
   "execution_count": 8,
   "metadata": {
    "kernel": "R"
   },
   "outputs": [],
   "source": [
    "res_mmbr = mmbr::msusie(X,Y,L=15,prior_variance=mash_prior, precompute_covariances=TRUE)"
   ]
  },
  {
   "cell_type": "code",
   "execution_count": 9,
   "metadata": {
    "kernel": "R"
   },
   "outputs": [
    {
     "data": {
      "text/plain": [
       "    user   system  elapsed \n",
       "1057.028    3.540 1061.214 "
      ]
     },
     "metadata": {},
     "output_type": "display_data"
    }
   ],
   "source": [
    "res_mmbr$walltime"
   ]
  },
  {
   "cell_type": "markdown",
   "metadata": {
    "kernel": "R"
   },
   "source": [
    "It takes **1061 seconds** to complete it. Memory usage for this case with `precompute_covariances` is about 1.5GB."
   ]
  },
  {
   "cell_type": "markdown",
   "metadata": {
    "kernel": "R"
   },
   "source": [
    "## Results"
   ]
  },
  {
   "cell_type": "markdown",
   "metadata": {
    "kernel": "R"
   },
   "source": [
    "Again, the true signals are:"
   ]
  },
  {
   "cell_type": "code",
   "execution_count": 10,
   "metadata": {
    "kernel": "R"
   },
   "outputs": [
    {
     "data": {
      "text/html": [
       "<ol class=list-inline>\n",
       "\t<li>53</li>\n",
       "\t<li>102</li>\n",
       "\t<li>199</li>\n",
       "\t<li>839</li>\n",
       "\t<li>879</li>\n",
       "\t<li>1318</li>\n",
       "\t<li>1433</li>\n",
       "\t<li>1682</li>\n",
       "\t<li>1888</li>\n",
       "\t<li>1966</li>\n",
       "</ol>\n"
      ],
      "text/latex": [
       "\\begin{enumerate*}\n",
       "\\item 53\n",
       "\\item 102\n",
       "\\item 199\n",
       "\\item 839\n",
       "\\item 879\n",
       "\\item 1318\n",
       "\\item 1433\n",
       "\\item 1682\n",
       "\\item 1888\n",
       "\\item 1966\n",
       "\\end{enumerate*}\n"
      ],
      "text/markdown": [
       "1. 53\n",
       "2. 102\n",
       "3. 199\n",
       "4. 839\n",
       "5. 879\n",
       "6. 1318\n",
       "7. 1433\n",
       "8. 1682\n",
       "9. 1888\n",
       "10. 1966\n",
       "\n",
       "\n"
      ],
      "text/plain": [
       " [1]   53  102  199  839  879 1318 1433 1682 1888 1966"
      ]
     },
     "metadata": {},
     "output_type": "display_data"
    }
   ],
   "source": [
    "true_signal"
   ]
  },
  {
   "cell_type": "markdown",
   "metadata": {
    "kernel": "R"
   },
   "source": [
    "Cross-condition PIP for `atlasqtl` are:"
   ]
  },
  {
   "cell_type": "code",
   "execution_count": 17,
   "metadata": {
    "kernel": "R"
   },
   "outputs": [],
   "source": [
    "atlpip = as.vector(1 - apply(1 - res_atlas$gam_vb, 1, prod))"
   ]
  },
  {
   "cell_type": "markdown",
   "metadata": {
    "kernel": "R"
   },
   "source": [
    "Let's plot it with M&M's PIP,"
   ]
  },
  {
   "cell_type": "code",
   "execution_count": 12,
   "metadata": {
    "kernel": "R"
   },
   "outputs": [
    {
     "data": {
      "image/png": "[encoded data removed]",
      "text/plain": [
       "plot without title"
      ]
     },
     "metadata": {},
     "output_type": "display_data"
    }
   ],
   "source": [
    "plot(atlpip, res_mmbr$pip)"
   ]
  },
  {
   "cell_type": "markdown",
   "metadata": {
    "kernel": "R"
   },
   "source": [
    "Let's see how well both methods recover the true signals at PIP cutoff 0.9,"
   ]
  },
  {
   "cell_type": "code",
   "execution_count": 13,
   "metadata": {
    "kernel": "R"
   },
   "outputs": [
    {
     "data": {
      "text/html": [
       "<ol class=list-inline>\n",
       "\t<li>53</li>\n",
       "\t<li>102</li>\n",
       "\t<li>199</li>\n",
       "\t<li>839</li>\n",
       "\t<li>879</li>\n",
       "\t<li>1318</li>\n",
       "\t<li>1433</li>\n",
       "\t<li>1682</li>\n",
       "\t<li>1888</li>\n",
       "\t<li>1966</li>\n",
       "</ol>\n"
      ],
      "text/latex": [
       "\\begin{enumerate*}\n",
       "\\item 53\n",
       "\\item 102\n",
       "\\item 199\n",
       "\\item 839\n",
       "\\item 879\n",
       "\\item 1318\n",
       "\\item 1433\n",
       "\\item 1682\n",
       "\\item 1888\n",
       "\\item 1966\n",
       "\\end{enumerate*}\n"
      ],
      "text/markdown": [
       "1. 53\n",
       "2. 102\n",
       "3. 199\n",
       "4. 839\n",
       "5. 879\n",
       "6. 1318\n",
       "7. 1433\n",
       "8. 1682\n",
       "9. 1888\n",
       "10. 1966\n",
       "\n",
       "\n"
      ],
      "text/plain": [
       " [1]   53  102  199  839  879 1318 1433 1682 1888 1966"
      ]
     },
     "metadata": {},
     "output_type": "display_data"
    }
   ],
   "source": [
    "which(atlpip>0.9)"
   ]
  },
  {
   "cell_type": "code",
   "execution_count": 14,
   "metadata": {
    "kernel": "R"
   },
   "outputs": [
    {
     "data": {
      "text/html": [
       "<ol class=list-inline>\n",
       "\t<li>53</li>\n",
       "\t<li>102</li>\n",
       "\t<li>199</li>\n",
       "\t<li>839</li>\n",
       "\t<li>879</li>\n",
       "\t<li>1318</li>\n",
       "\t<li>1433</li>\n",
       "\t<li>1682</li>\n",
       "\t<li>1888</li>\n",
       "\t<li>1966</li>\n",
       "</ol>\n"
      ],
      "text/latex": [
       "\\begin{enumerate*}\n",
       "\\item 53\n",
       "\\item 102\n",
       "\\item 199\n",
       "\\item 839\n",
       "\\item 879\n",
       "\\item 1318\n",
       "\\item 1433\n",
       "\\item 1682\n",
       "\\item 1888\n",
       "\\item 1966\n",
       "\\end{enumerate*}\n"
      ],
      "text/markdown": [
       "1. 53\n",
       "2. 102\n",
       "3. 199\n",
       "4. 839\n",
       "5. 879\n",
       "6. 1318\n",
       "7. 1433\n",
       "8. 1682\n",
       "9. 1888\n",
       "10. 1966\n",
       "\n",
       "\n"
      ],
      "text/plain": [
       " [1]   53  102  199  839  879 1318 1433 1682 1888 1966"
      ]
     },
     "metadata": {},
     "output_type": "display_data"
    }
   ],
   "source": [
    "which(res_mmbr$pip>0.9)"
   ]
  },
  {
   "cell_type": "markdown",
   "metadata": {
    "kernel": "R"
   },
   "source": [
    "It seems they both do good job in recovering all the simulated signals. But M&M's PIP are \"cleaner\". I have tried several different seeds and see this pattern consistently. I would expect in this setting we should do better in the precision recall curve. \n",
    "\n",
    "**Caveat: is my computation of atlasqtl's cross-condition PIP correct?** Here no filter is applied and different conditions are assumed independent ..."
   ]
  },
  {
   "cell_type": "markdown",
   "metadata": {
    "kernel": "R"
   },
   "source": [
    "## A less naive MASH mixture to make M&M faster\n",
    "Previously the naive MASH mixture contains many priors -- 771 of them,"
   ]
  },
  {
   "cell_type": "code",
   "execution_count": 10,
   "metadata": {
    "kernel": "R"
   },
   "outputs": [
    {
     "data": {
      "text/html": [
       "771"
      ],
      "text/latex": [
       "771"
      ],
      "text/markdown": [
       "771"
      ],
      "text/plain": [
       "[1] 771"
      ]
     },
     "metadata": {},
     "output_type": "display_data"
    }
   ],
   "source": [
    "length(mash_prior$prior_variance$xUlist)"
   ]
  },
  {
   "cell_type": "markdown",
   "metadata": {
    "kernel": "R"
   },
   "source": [
    "Now I'll focus on only using the non-singleton priors, reducing it to 71:"
   ]
  },
  {
   "cell_type": "code",
   "execution_count": 12,
   "metadata": {
    "kernel": "R"
   },
   "outputs": [],
   "source": [
    "mash_prior_shared = mmbr::create_mash_prior(sample_data = list(X=X,Y=Y, residual_variance=var(Y)), max_mixture_len=-1, singletons=F)"
   ]
  },
  {
   "cell_type": "code",
   "execution_count": 13,
   "metadata": {
    "kernel": "R"
   },
   "outputs": [
    {
     "data": {
      "text/html": [
       "71"
      ],
      "text/latex": [
       "71"
      ],
      "text/markdown": [
       "71"
      ],
      "text/plain": [
       "[1] 71"
      ]
     },
     "metadata": {},
     "output_type": "display_data"
    }
   ],
   "source": [
    "length(mash_prior_shared$prior_variance$xUlist)"
   ]
  },
  {
   "cell_type": "markdown",
   "metadata": {
    "kernel": "R"
   },
   "source": [
    "Let's time the run with this prior,"
   ]
  },
  {
   "cell_type": "code",
   "execution_count": 14,
   "metadata": {
    "kernel": "R"
   },
   "outputs": [],
   "source": [
    "res_mmbr_shared = mmbr::msusie(X,Y,L=15,prior_variance=mash_prior_shared, precompute_covariances=TRUE)"
   ]
  },
  {
   "cell_type": "code",
   "execution_count": 15,
   "metadata": {
    "kernel": "R"
   },
   "outputs": [
    {
     "data": {
      "text/plain": [
       "   user  system elapsed \n",
       "170.472   4.972 175.557 "
      ]
     },
     "metadata": {},
     "output_type": "display_data"
    }
   ],
   "source": [
    "res_mmbr_shared$walltime"
   ]
  },
  {
   "cell_type": "markdown",
   "metadata": {
    "kernel": "R"
   },
   "source": [
    "It is **now 175 seconds**. Results remains the same as expected because it is the more \"correct\" prior to use:"
   ]
  },
  {
   "cell_type": "code",
   "execution_count": 18,
   "metadata": {
    "kernel": "R"
   },
   "outputs": [
    {
     "data": {
      "image/png": "[encoded data removed]",
      "text/plain": [
       "plot without title"
      ]
     },
     "metadata": {},
     "output_type": "display_data"
    }
   ],
   "source": [
    "plot(atlpip, res_mmbr_shared$pip)"
   ]
  }
 ],
 "metadata": {
  "kernelspec": {
   "display_name": "SoS",
   "language": "sos",
   "name": "sos"
  },
  "language_info": {
   "codemirror_mode": "sos",
   "file_extension": ".sos",
   "mimetype": "text/x-sos",
   "name": "sos",
   "nbconvert_exporter": "sos_notebook.converter.SoS_Exporter",
   "pygments_lexer": "sos"
  },
  "sos": {
   "kernels": [
    [
     "R",
     "ir",
     "R",
     "#DCDCDA",
     ""
    ]
   ],
   "version": "0.21.0"
  }
 },
 "nbformat": 4,
 "nbformat_minor": 4
}
