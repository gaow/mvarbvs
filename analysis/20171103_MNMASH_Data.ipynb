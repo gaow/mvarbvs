{
 "cells": [
  {
   "cell_type": "markdown",
   "metadata": {},
   "source": [
    "# Prepare toy example data-set for M&M ASH model\n",
    "Here I take a gene from 2 tissues, with covariates. \n",
    "\n",
    "The genotypes matrix should have complete data after imputation. However not all samples overlap in both tissues, making expression matrix. For the time being I'll make 2 versions: one version with missing expression matrix as is, the other version fills in the missing data using mean imputation (use mean for expression in the tissue in question).\n",
    "\n",
    "The 2 tissues of choice are lung and thyroid (i do not trust whole blood).\n",
    "\n",
    "The gene I take is FMO2 (ENSG00000094963 on chr1). Separate data-sets for Lung and Thyroid are extracted using [this notebook](20171017_Extract_Full_Tissue_Data.html). The data are:\n",
    "\n",
    "```\n",
    "~/Documents/GTExV8/Thyroid.FMO2.pm1Mb.RDS\n",
    "~/Documents/GTExV8/Lung.FMO2.pm1Mb.RDS\n",
    "```\n",
    "\n",
    "Also I remove covariates beforhand -- it is difficult to consider covariates for multiple Y because each Y may have a different set of covariates. Removing them beforehand might be the only way to go."
   ]
  },
  {
   "cell_type": "markdown",
   "metadata": {},
   "source": [
    "## Data exploration"
   ]
  },
  {
   "cell_type": "code",
   "execution_count": 1,
   "metadata": {
    "kernel": "R"
   },
   "outputs": [],
   "source": [
    "dat1 = readRDS('~/Documents/GTExV8/Thyroid.FMO2.pm1Mb.RDS')\n",
    "dat2 = readRDS('~/Documents/GTExV8/Lung.FMO2.pm1Mb.RDS')"
   ]
  },
  {
   "cell_type": "code",
   "execution_count": 2,
   "metadata": {
    "kernel": "R"
   },
   "outputs": [
    {
     "name": "stdout",
     "output_type": "stream",
     "text": [
      " num [1:574, 1:7492] 1 0 0 0 0 1 1 0 1 1 ...\n",
      " - attr(*, \"dimnames\")=List of 2\n",
      "  ..$ : chr [1:574] \"GTEX-111CU\" \"GTEX-111FC\" \"GTEX-111VG\" \"GTEX-111YS\" ...\n",
      "  ..$ : chr [1:7492] \"chr1_170185243_G_A_b38\" \"chr1_170185272_T_C_b38\" \"chr1_170185405_C_A_b38\" \"chr1_170185417_G_A_b38\" ...\n"
     ]
    }
   ],
   "source": [
    "str(dat1$X)"
   ]
  },
  {
   "cell_type": "code",
   "execution_count": 3,
   "metadata": {
    "kernel": "R"
   },
   "outputs": [
    {
     "name": "stdout",
     "output_type": "stream",
     "text": [
      " num [1:515, 1:7492] 1 0 0 0 0 1 1 1 1 0 ...\n",
      " - attr(*, \"dimnames\")=List of 2\n",
      "  ..$ : chr [1:515] \"GTEX-111CU\" \"GTEX-111FC\" \"GTEX-111VG\" \"GTEX-111YS\" ...\n",
      "  ..$ : chr [1:7492] \"chr1_170185243_G_A_b38\" \"chr1_170185272_T_C_b38\" \"chr1_170185405_C_A_b38\" \"chr1_170185417_G_A_b38\" ...\n"
     ]
    }
   ],
   "source": [
    "str(dat2$X)"
   ]
  },
  {
   "cell_type": "code",
   "execution_count": 4,
   "metadata": {
    "kernel": "R"
   },
   "outputs": [
    {
     "name": "stdout",
     "output_type": "stream",
     "text": [
      " num [1:574] -0.177 -0.372 0.463 0.34 -0.829 ...\n",
      " num [1:515] -1.522 1.789 -0.394 0.999 -0.151 ...\n"
     ]
    }
   ],
   "source": [
    "str(dat1$y)\n",
    "str(dat2$y)"
   ]
  },
  {
   "cell_type": "code",
   "execution_count": 5,
   "metadata": {
    "kernel": "R"
   },
   "outputs": [
    {
     "name": "stdout",
     "output_type": "stream",
     "text": [
      " num [1:574, 1:68] 0.0107 0.0099 0.0144 0.0154 0.0139 0.0145 0.0106 0.0139 0.0109 -0.024 ...\n",
      " - attr(*, \"dimnames\")=List of 2\n",
      "  ..$ : chr [1:574] \"GTEX-111CU\" \"GTEX-111FC\" \"GTEX-111VG\" \"GTEX-111YS\" ...\n",
      "  ..$ : chr [1:68] \"PC1\" \"PC2\" \"PC3\" \"PC4\" ...\n",
      " num [1:515, 1:68] 0.0107 0.0099 0.0144 0.0154 0.0139 0.0145 0.0109 -0.024 0.0141 -0.0898 ...\n",
      " - attr(*, \"dimnames\")=List of 2\n",
      "  ..$ : chr [1:515] \"GTEX-111CU\" \"GTEX-111FC\" \"GTEX-111VG\" \"GTEX-111YS\" ...\n",
      "  ..$ : chr [1:68] \"PC1\" \"PC2\" \"PC3\" \"PC4\" ...\n"
     ]
    }
   ],
   "source": [
    "str(dat1$Z)\n",
    "str(dat2$Z)"
   ]
  },
  {
   "cell_type": "code",
   "execution_count": 6,
   "metadata": {
    "kernel": "R"
   },
   "outputs": [
    {
     "name": "stdout",
     "output_type": "stream",
     "text": [
      "[1] 698\n"
     ]
    }
   ],
   "source": [
    "all_samples = union(rownames(dat1$X), rownames(dat2$X))\n",
    "print(length(all_samples))"
   ]
  },
  {
   "cell_type": "markdown",
   "metadata": {},
   "source": [
    "## Removing covariates\n"
   ]
  },
  {
   "cell_type": "code",
   "execution_count": 7,
   "metadata": {
    "kernel": "R"
   },
   "outputs": [],
   "source": [
    "dat1$y = .lm.fit(dat1$Z, dat1$y)$residuals\n",
    "dat2$y = .lm.fit(dat2$Z, dat2$y)$residuals"
   ]
  },
  {
   "cell_type": "markdown",
   "metadata": {},
   "source": [
    "## Data merger\n",
    "### y"
   ]
  },
  {
   "cell_type": "code",
   "execution_count": 8,
   "metadata": {
    "kernel": "R"
   },
   "outputs": [],
   "source": [
    "y1 = data.frame(matrix(dat1$y, length(dat1$y), 1))\n",
    "y2 = data.frame(matrix(dat2$y, length(dat2$y), 1))\n",
    "rownames(y1) = rownames(dat1$X)\n",
    "rownames(y2) = rownames(dat2$X)\n",
    "colnames(y1) = 'Thyroid'\n",
    "colnames(y2) = 'Lung'\n",
    "y1$rows = rownames(y1)\n",
    "y2$rows = rownames(y2)"
   ]
  },
  {
   "cell_type": "code",
   "execution_count": 9,
   "metadata": {
    "kernel": "R"
   },
   "outputs": [],
   "source": [
    "y <-merge(y1,y2, by='rows', all=T)\n",
    "rownames(y) = y$rows\n",
    "y = y[order(rownames(y)),-1]"
   ]
  },
  {
   "cell_type": "code",
   "execution_count": 10,
   "metadata": {
    "kernel": "R"
   },
   "outputs": [
    {
     "data": {
      "text/html": [
       "<table>\n",
       "<thead><tr><th></th><th scope=col>Thyroid</th><th scope=col>Lung</th></tr></thead>\n",
       "<tbody>\n",
       "\t<tr><th scope=row>GTEX-111CU</th><td> 0.1634810  </td><td> 0.770109170</td></tr>\n",
       "\t<tr><th scope=row>GTEX-111FC</th><td> 0.4358900  </td><td> 0.777987356</td></tr>\n",
       "\t<tr><th scope=row>GTEX-111VG</th><td>-0.2123731  </td><td>-0.653611927</td></tr>\n",
       "\t<tr><th scope=row>GTEX-111YS</th><td> 0.3266490  </td><td> 0.006720028</td></tr>\n",
       "\t<tr><th scope=row>GTEX-1122O</th><td>-0.6978312  </td><td>-0.367917802</td></tr>\n",
       "\t<tr><th scope=row>GTEX-1128S</th><td> 0.8401226  </td><td>-0.097376461</td></tr>\n",
       "</tbody>\n",
       "</table>\n"
      ],
      "text/latex": [
       "\\begin{tabular}{r|ll}\n",
       "  & Thyroid & Lung\\\\\n",
       "\\hline\n",
       "\tGTEX-111CU &  0.1634810   &  0.770109170\\\\\n",
       "\tGTEX-111FC &  0.4358900   &  0.777987356\\\\\n",
       "\tGTEX-111VG & -0.2123731   & -0.653611927\\\\\n",
       "\tGTEX-111YS &  0.3266490   &  0.006720028\\\\\n",
       "\tGTEX-1122O & -0.6978312   & -0.367917802\\\\\n",
       "\tGTEX-1128S &  0.8401226   & -0.097376461\\\\\n",
       "\\end{tabular}\n"
      ],
      "text/markdown": [
       "\n",
       "| <!--/--> | Thyroid | Lung | \n",
       "|---|---|---|---|---|---|\n",
       "| GTEX-111CU |  0.1634810   |  0.770109170 | \n",
       "| GTEX-111FC |  0.4358900   |  0.777987356 | \n",
       "| GTEX-111VG | -0.2123731   | -0.653611927 | \n",
       "| GTEX-111YS |  0.3266490   |  0.006720028 | \n",
       "| GTEX-1122O | -0.6978312   | -0.367917802 | \n",
       "| GTEX-1128S |  0.8401226   | -0.097376461 | \n",
       "\n",
       "\n"
      ],
      "text/plain": [
       "           Thyroid    Lung        \n",
       "GTEX-111CU  0.1634810  0.770109170\n",
       "GTEX-111FC  0.4358900  0.777987356\n",
       "GTEX-111VG -0.2123731 -0.653611927\n",
       "GTEX-111YS  0.3266490  0.006720028\n",
       "GTEX-1122O -0.6978312 -0.367917802\n",
       "GTEX-1128S  0.8401226 -0.097376461"
      ]
     },
     "metadata": {},
     "output_type": "display_data"
    }
   ],
   "source": [
    "head(y)"
   ]
  },
  {
   "cell_type": "code",
   "execution_count": 11,
   "metadata": {
    "kernel": "R"
   },
   "outputs": [
    {
     "data": {
      "text/html": [
       "307"
      ],
      "text/latex": [
       "307"
      ],
      "text/markdown": [
       "307"
      ],
      "text/plain": [
       "[1] 307"
      ]
     },
     "metadata": {},
     "output_type": "display_data"
    }
   ],
   "source": [
    "sum(is.na(y))"
   ]
  },
  {
   "cell_type": "markdown",
   "metadata": {},
   "source": [
    "### X"
   ]
  },
  {
   "cell_type": "code",
   "execution_count": 12,
   "metadata": {
    "kernel": "R"
   },
   "outputs": [],
   "source": [
    "X2 = subset(dat2$X, !(rownames(dat2$X) %in% rownames(dat1$X)))\n",
    "X = rbind(dat1$X, X2)\n",
    "X = X[order(rownames(X)),]"
   ]
  },
  {
   "cell_type": "code",
   "execution_count": 13,
   "metadata": {
    "kernel": "R"
   },
   "outputs": [
    {
     "data": {
      "text/html": [
       "<ol class=list-inline>\n",
       "\t<li>698</li>\n",
       "\t<li>7492</li>\n",
       "</ol>\n"
      ],
      "text/latex": [
       "\\begin{enumerate*}\n",
       "\\item 698\n",
       "\\item 7492\n",
       "\\end{enumerate*}\n"
      ],
      "text/markdown": [
       "1. 698\n",
       "2. 7492\n",
       "\n",
       "\n"
      ],
      "text/plain": [
       "[1]  698 7492"
      ]
     },
     "metadata": {},
     "output_type": "display_data"
    }
   ],
   "source": [
    "dim(X)"
   ]
  },
  {
   "cell_type": "markdown",
   "metadata": {},
   "source": [
    "## Save data: with missing / without missing"
   ]
  },
  {
   "cell_type": "code",
   "execution_count": 17,
   "metadata": {
    "kernel": "R"
   },
   "outputs": [],
   "source": [
    "y_filled = y\n",
    "for(i in 1:ncol(y)){\n",
    "  y_filled[is.na(y[,i]), i] <- mean(y[,i], na.rm = TRUE)\n",
    "}\n",
    "saveRDS(list(Y=y_filled,X=X), '~/Documents/GTExV8/Thyroid.Lung.FMO2.filled.rds')\n",
    "saveRDS(list(Y=y,X=X), '~/Documents/GTExV8/Thyroid.Lung.FMO2.rds')"
   ]
  },
  {
   "cell_type": "markdown",
   "metadata": {},
   "source": [
    "## Analyze per-tissue data with mr-ash"
   ]
  },
  {
   "cell_type": "code",
   "execution_count": 26,
   "metadata": {
    "kernel": "R"
   },
   "outputs": [],
   "source": [
    "autoselect.mixsd = function(betahat,sebetahat,mult = sqrt(2)){\n",
    "    # To avoid exact measure causing (usually by mistake)\n",
    "    sebetahat = sebetahat[sebetahat!=0] \n",
    "    # so that the minimum is small compared with measurement precision\n",
    "    sigmaamin = min(sebetahat)/10 \n",
    "    if (all(betahat^2 <= sebetahat^2)) {\n",
    "        # to deal with the occassional odd case where this could happen; 8 is arbitrary\n",
    "        sigmaamax = 8*sigmaamin \n",
    "    } else {\n",
    "        # this computes a rough largest value you'd want to use, \n",
    "        # based on idea that sigmaamax^2 + sebetahat^2 should be at least betahat^2   \n",
    "        sigmaamax = 2*sqrt(max(betahat^2-sebetahat^2)) \n",
    "    }\n",
    "    if(mult==0){\n",
    "        return(c(0,sigmaamax/2))\n",
    "    } else {\n",
    "        npoint = ceiling(log2(sigmaamax/sigmaamin)/log2(mult))\n",
    "        return(mult^((-npoint):0) * sigmaamax)\n",
    "    }\n",
    "}\n",
    "\n",
    "univariate_regression = function(X, y, Z = NULL){\n",
    "    if (!is.null(Z)) {\n",
    "        y = .lm.fit(Z, y)$residuals\n",
    "    }\n",
    "    calc_stderr = function(X, residuals) { sqrt(diag(sum(residuals^2) / (nrow(X) - 2) * chol2inv(chol(t(X) %*% X)))) }\n",
    "    output = do.call(rbind, \n",
    "                  lapply(c(1:ncol(X)), function(i) { \n",
    "                      g = .lm.fit(cbind(1, X[,i]), y)\n",
    "                      return(c(coef(g)[2], calc_stderr(cbind(1, X[,i]), g$residuals)[2]))\n",
    "                  })\n",
    "                 )\n",
    "    return(list(betahat = output[,1], sebetahat = output[,2], \n",
    "                residuals = y))\n",
    "}\n",
    "\n",
    "lasso_reorder = function(X, y) {\n",
    "    # perform lasso regression and reorder regressors by \"importance\"\n",
    "    fit.glmnet <- glmnet::glmnet(X, y, intercept = F)\n",
    "    beta_path = coef(fit.glmnet)[-1,]\n",
    "    K = dim(beta_path)[2]\n",
    "    path_order = c()\n",
    "    for (k in 1:K) {\n",
    "        crt_path = which(beta_path[,k] != 0)\n",
    "        if (length(crt_path) != 0 & length(path_order) == 0) {\n",
    "            path_order = c(path_order, crt_path)\n",
    "        } else if(length(crt_path) != 0) {\n",
    "            path_order = c(path_order, crt_path[-which(crt_path %in% path_order)] )\n",
    "        }\n",
    "    }\n",
    "    path_order = unname(path_order)\n",
    "    index_order = c(path_order, seq(1,dim(beta_path)[1])[-path_order])\n",
    "    return(index_order)\n",
    "}\n",
    "\n",
    "X = X[,which(colSums(X)!=0)]\n",
    "# univariate results\n",
    "initial = univariate_regression(X, y_filled$Thyroid)\n",
    "mixsd = autoselect.mixsd(initial$betahat, initial$sebetahat)\n",
    "mu_zero = matrix(0, ncol = length(mixsd)+1, nrow = ncol(X))\n",
    "alpha_zero = matrix(1/ncol(X), ncol = length(mixsd)+1,nrow = ncol(X))\n",
    "alpha_zero[,1] = 1 - length(mixsd) / ncol(X)\n",
    "index_order = lasso_reorder(X, initial$residuals)\n",
    "logdata = capture.output({ fit = varbvs::varbvsmix(X[, index_order], NULL, y_filled$Thyroid, \n",
    "                                                  sa = c(0,mixsd^2), \n",
    "                                                  mu = mu_zero,\n",
    "                                                  alpha = alpha_zero,\n",
    "                                                  verbose = F) })\n",
    "betahat = rowSums(fit$alpha * fit$mu)\n",
    "names(betahat) = colnames(X)\n",
    "mr_ash_out = list(betahat = betahat, fit = fit)"
   ]
  },
  {
   "cell_type": "code",
   "execution_count": 28,
   "metadata": {
    "kernel": "R"
   },
   "outputs": [
    {
     "data": {
      "text/html": [
       "<dl class=dl-horizontal>\n",
       "\t<dt>chr1_171133158_A_G_b38</dt>\n",
       "\t\t<dd>1.74738705664812e-06</dd>\n",
       "\t<dt>chr1_171172098_C_T_b38</dt>\n",
       "\t\t<dd>1.96704784682922e-06</dd>\n",
       "\t<dt>chr1_171174538_G_C_b38</dt>\n",
       "\t\t<dd>0.610381254229447</dd>\n",
       "\t<dt>chr1_171178705_A_G_b38</dt>\n",
       "\t\t<dd>0.610751565062481</dd>\n",
       "\t<dt>chr1_171164750_C_A_b38</dt>\n",
       "\t\t<dd>0.610753910830056</dd>\n",
       "\t<dt>chr1_171252314_G_C_b38</dt>\n",
       "\t\t<dd>0.612165049903629</dd>\n",
       "\t<dt>chr1_171190872_G_A_b38</dt>\n",
       "\t\t<dd>0.617234233028604</dd>\n",
       "\t<dt>chr1_171251097_G_T_b38</dt>\n",
       "\t\t<dd>0.619123979089085</dd>\n",
       "\t<dt>chr1_171219393_T_A_b38</dt>\n",
       "\t\t<dd>0.619833334877304</dd>\n",
       "\t<dt>chr1_171241888_C_G_b38</dt>\n",
       "\t\t<dd>0.621315207954152</dd>\n",
       "</dl>\n"
      ],
      "text/latex": [
       "\\begin{description*}\n",
       "\\item[chr1\\textbackslash{}\\_171133158\\textbackslash{}\\_A\\textbackslash{}\\_G\\textbackslash{}\\_b38] 1.74738705664812e-06\n",
       "\\item[chr1\\textbackslash{}\\_171172098\\textbackslash{}\\_C\\textbackslash{}\\_T\\textbackslash{}\\_b38] 1.96704784682922e-06\n",
       "\\item[chr1\\textbackslash{}\\_171174538\\textbackslash{}\\_G\\textbackslash{}\\_C\\textbackslash{}\\_b38] 0.610381254229447\n",
       "\\item[chr1\\textbackslash{}\\_171178705\\textbackslash{}\\_A\\textbackslash{}\\_G\\textbackslash{}\\_b38] 0.610751565062481\n",
       "\\item[chr1\\textbackslash{}\\_171164750\\textbackslash{}\\_C\\textbackslash{}\\_A\\textbackslash{}\\_b38] 0.610753910830056\n",
       "\\item[chr1\\textbackslash{}\\_171252314\\textbackslash{}\\_G\\textbackslash{}\\_C\\textbackslash{}\\_b38] 0.612165049903629\n",
       "\\item[chr1\\textbackslash{}\\_171190872\\textbackslash{}\\_G\\textbackslash{}\\_A\\textbackslash{}\\_b38] 0.617234233028604\n",
       "\\item[chr1\\textbackslash{}\\_171251097\\textbackslash{}\\_G\\textbackslash{}\\_T\\textbackslash{}\\_b38] 0.619123979089085\n",
       "\\item[chr1\\textbackslash{}\\_171219393\\textbackslash{}\\_T\\textbackslash{}\\_A\\textbackslash{}\\_b38] 0.619833334877304\n",
       "\\item[chr1\\textbackslash{}\\_171241888\\textbackslash{}\\_C\\textbackslash{}\\_G\\textbackslash{}\\_b38] 0.621315207954152\n",
       "\\end{description*}\n"
      ],
      "text/markdown": [
       "chr1_171133158_A_G_b38\n",
       ":   1.74738705664812e-06chr1_171172098_C_T_b38\n",
       ":   1.96704784682922e-06chr1_171174538_G_C_b38\n",
       ":   0.610381254229447chr1_171178705_A_G_b38\n",
       ":   0.610751565062481chr1_171164750_C_A_b38\n",
       ":   0.610753910830056chr1_171252314_G_C_b38\n",
       ":   0.612165049903629chr1_171190872_G_A_b38\n",
       ":   0.617234233028604chr1_171251097_G_T_b38\n",
       ":   0.619123979089085chr1_171219393_T_A_b38\n",
       ":   0.619833334877304chr1_171241888_C_G_b38\n",
       ":   0.621315207954152\n",
       "\n"
      ],
      "text/plain": [
       "chr1_171133158_A_G_b38 chr1_171172098_C_T_b38 chr1_171174538_G_C_b38 \n",
       "          1.747387e-06           1.967048e-06           6.103813e-01 \n",
       "chr1_171178705_A_G_b38 chr1_171164750_C_A_b38 chr1_171252314_G_C_b38 \n",
       "          6.107516e-01           6.107539e-01           6.121650e-01 \n",
       "chr1_171190872_G_A_b38 chr1_171251097_G_T_b38 chr1_171219393_T_A_b38 \n",
       "          6.172342e-01           6.191240e-01           6.198333e-01 \n",
       "chr1_171241888_C_G_b38 \n",
       "          6.213152e-01 "
      ]
     },
     "metadata": {},
     "output_type": "display_data"
    }
   ],
   "source": [
    "sort(fit$lfsr)[1:10]"
   ]
  },
  {
   "cell_type": "code",
   "execution_count": 30,
   "metadata": {
    "kernel": "R"
   },
   "outputs": [
    {
     "data": {
      "text/html": [
       "<dl class=dl-horizontal>\n",
       "\t<dt>chr1_170185243_G_A_b38</dt>\n",
       "\t\t<dd>0.193936191089154</dd>\n",
       "\t<dt>chr1_170189678_C_G_b38</dt>\n",
       "\t\t<dd>0.0068248344057481</dd>\n",
       "\t<dt>chr1_170760676_C_CT_b38</dt>\n",
       "\t\t<dd>0.0044387053317578</dd>\n",
       "\t<dt>chr1_170189560_T_C_b38</dt>\n",
       "\t\t<dd>0.00420499914227927</dd>\n",
       "\t<dt>chr1_170236154_G_A_b38</dt>\n",
       "\t\t<dd>0.00315019778672335</dd>\n",
       "\t<dt>chr1_170188051_G_A_b38</dt>\n",
       "\t\t<dd>0.00311390015148256</dd>\n",
       "\t<dt>chr1_170187993_G_A_b38</dt>\n",
       "\t\t<dd>0.00311387541150147</dd>\n",
       "\t<dt>chr1_171374013_T_G_b38</dt>\n",
       "\t\t<dd>0.00296797306013462</dd>\n",
       "\t<dt>chr1_171351456_G_A_b38</dt>\n",
       "\t\t<dd>0.00230111121200152</dd>\n",
       "\t<dt>chr1_171348122_CT_C_b38</dt>\n",
       "\t\t<dd>0.00154286088653018</dd>\n",
       "</dl>\n"
      ],
      "text/latex": [
       "\\begin{description*}\n",
       "\\item[chr1\\textbackslash{}\\_170185243\\textbackslash{}\\_G\\textbackslash{}\\_A\\textbackslash{}\\_b38] 0.193936191089154\n",
       "\\item[chr1\\textbackslash{}\\_170189678\\textbackslash{}\\_C\\textbackslash{}\\_G\\textbackslash{}\\_b38] 0.0068248344057481\n",
       "\\item[chr1\\textbackslash{}\\_170760676\\textbackslash{}\\_C\\textbackslash{}\\_CT\\textbackslash{}\\_b38] 0.0044387053317578\n",
       "\\item[chr1\\textbackslash{}\\_170189560\\textbackslash{}\\_T\\textbackslash{}\\_C\\textbackslash{}\\_b38] 0.00420499914227927\n",
       "\\item[chr1\\textbackslash{}\\_170236154\\textbackslash{}\\_G\\textbackslash{}\\_A\\textbackslash{}\\_b38] 0.00315019778672335\n",
       "\\item[chr1\\textbackslash{}\\_170188051\\textbackslash{}\\_G\\textbackslash{}\\_A\\textbackslash{}\\_b38] 0.00311390015148256\n",
       "\\item[chr1\\textbackslash{}\\_170187993\\textbackslash{}\\_G\\textbackslash{}\\_A\\textbackslash{}\\_b38] 0.00311387541150147\n",
       "\\item[chr1\\textbackslash{}\\_171374013\\textbackslash{}\\_T\\textbackslash{}\\_G\\textbackslash{}\\_b38] 0.00296797306013462\n",
       "\\item[chr1\\textbackslash{}\\_171351456\\textbackslash{}\\_G\\textbackslash{}\\_A\\textbackslash{}\\_b38] 0.00230111121200152\n",
       "\\item[chr1\\textbackslash{}\\_171348122\\textbackslash{}\\_CT\\textbackslash{}\\_C\\textbackslash{}\\_b38] 0.00154286088653018\n",
       "\\end{description*}\n"
      ],
      "text/markdown": [
       "chr1_170185243_G_A_b38\n",
       ":   0.193936191089154chr1_170189678_C_G_b38\n",
       ":   0.0068248344057481chr1_170760676_C_CT_b38\n",
       ":   0.0044387053317578chr1_170189560_T_C_b38\n",
       ":   0.00420499914227927chr1_170236154_G_A_b38\n",
       ":   0.00315019778672335chr1_170188051_G_A_b38\n",
       ":   0.00311390015148256chr1_170187993_G_A_b38\n",
       ":   0.00311387541150147chr1_171374013_T_G_b38\n",
       ":   0.00296797306013462chr1_171351456_G_A_b38\n",
       ":   0.00230111121200152chr1_171348122_CT_C_b38\n",
       ":   0.00154286088653018\n",
       "\n"
      ],
      "text/plain": [
       " chr1_170185243_G_A_b38  chr1_170189678_C_G_b38 chr1_170760676_C_CT_b38 \n",
       "            0.193936191             0.006824834             0.004438705 \n",
       " chr1_170189560_T_C_b38  chr1_170236154_G_A_b38  chr1_170188051_G_A_b38 \n",
       "            0.004204999             0.003150198             0.003113900 \n",
       " chr1_170187993_G_A_b38  chr1_171374013_T_G_b38  chr1_171351456_G_A_b38 \n",
       "            0.003113875             0.002967973             0.002301111 \n",
       "chr1_171348122_CT_C_b38 \n",
       "            0.001542861 "
      ]
     },
     "metadata": {},
     "output_type": "display_data"
    }
   ],
   "source": [
    "sort(betahat, decreasing = T)[1:10]"
   ]
  },
  {
   "cell_type": "code",
   "execution_count": 47,
   "metadata": {
    "kernel": "R"
   },
   "outputs": [],
   "source": [
    "lasso_res = glmnet::glmnet(X, y_filled$Thyroid, intercept = F)"
   ]
  },
  {
   "cell_type": "code",
   "execution_count": 55,
   "metadata": {
    "kernel": "R"
   },
   "outputs": [
    {
     "data": {
      "image/png": "[encoded data removed]",
      "text/plain": [
       "plot without title"
      ]
     },
     "metadata": {},
     "output_type": "display_data"
    }
   ],
   "source": [
    "plot(coef(lasso_res, s = 0.1))"
   ]
  },
  {
   "cell_type": "code",
   "execution_count": null,
   "metadata": {},
   "outputs": [],
   "source": []
  }
 ],
 "metadata": {
  "kernelspec": {
   "display_name": "SoS",
   "language": "sos",
   "name": "sos"
  },
  "language_info": {
   "codemirror_mode": "sos",
   "file_extension": ".sos",
   "mimetype": "text/x-sos",
   "name": "sos",
   "nbconvert_exporter": "sos_notebook.converter.SoS_Exporter",
   "pygments_lexer": "sos"
  },
  "sos": {
   "default_kernel": "SoS",
   "kernels": [
    [
     "R",
     "ir",
     "R",
     "#DCDCDA"
    ],
    [
     "Python3",
     "python3",
     "Python3",
     "#FFE771"
    ],
    [
     "SoS",
     "sos",
     "",
     ""
    ]
   ],
   "panel": {
    "displayed": false,
    "height": 0,
    "style": "side"
   }
  }
 },
 "nbformat": 4,
 "nbformat_minor": 2
}
