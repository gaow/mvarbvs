{
 "cells": [
  {
   "cell_type": "markdown",
   "metadata": {},
   "source": [
    "# Power comparison susie vs DAP\n",
    "\n",
    "Here we compare power of susie and DAP under different number of simulation signals for fixed PVE.\n",
    "\n",
    "We set `n_causal` ranging from 1~5, each simulating 100 data-sets from 50 genes. For each simulated data, we compute both susie 95% CS and DAP 95% cluster, and we evaluate for the CS or clusters reported how many of them capture **at least a signal**.\n",
    "\n",
    "Power is defined by the proportion of signals captured by susie CS or DAP clusters; false discovery proportion (fdp) is defined by the proportion of susie CS or DAP clusters that do not contain any signal."
   ]
  },
  {
   "cell_type": "markdown",
   "metadata": {},
   "source": [
    "The `power` workflow in [this notebook](20180527_PIP_Workflow.html) does the computation."
   ]
  },
  {
   "cell_type": "code",
   "execution_count": 1,
   "metadata": {},
   "outputs": [
    {
     "name": "stdout",
     "output_type": "stream",
     "text": [
      "/home/gaow/GIT/github/mvarbvs/dsc"
     ]
    }
   ],
   "source": [
    "%cd ~/GIT/github/mvarbvs/dsc"
   ]
  },
  {
   "cell_type": "markdown",
   "metadata": {},
   "source": [
    "## susie `var(Y)` vs DAP"
   ]
  },
  {
   "cell_type": "code",
   "execution_count": 7,
   "metadata": {
    "kernel": "R"
   },
   "outputs": [
    {
     "data": {
      "text/html": [
       "<table>\n",
       "<thead><tr><th scope=col>n_signal</th><th scope=col>expected_discoveries</th><th scope=col>susie_discoveries</th><th scope=col>dap_discoveries</th><th scope=col>susie_power</th><th scope=col>dap_power</th><th scope=col>susie_fdp</th><th scope=col>dap_fdp</th></tr></thead>\n",
       "<tbody>\n",
       "\t<tr><td>1         </td><td>100       </td><td>100       </td><td>106       </td><td>0.9900000 </td><td>0.9500000 </td><td>0.01000000</td><td>0.10377358</td></tr>\n",
       "\t<tr><td>2         </td><td>200       </td><td>145       </td><td>147       </td><td>0.7000000 </td><td>0.7000000 </td><td>0.04137931</td><td>0.04761905</td></tr>\n",
       "\t<tr><td>3         </td><td>300       </td><td>157       </td><td>160       </td><td>0.5166667 </td><td>0.5066667 </td><td>0.02547771</td><td>0.06250000</td></tr>\n",
       "\t<tr><td>4         </td><td>400       </td><td>154       </td><td>148       </td><td>0.3600000 </td><td>0.3250000 </td><td>0.08441558</td><td>0.12837838</td></tr>\n",
       "\t<tr><td>5         </td><td>500       </td><td>151       </td><td>144       </td><td>0.3000000 </td><td>0.2620000 </td><td>0.03973510</td><td>0.12500000</td></tr>\n",
       "</tbody>\n",
       "</table>\n"
      ],
      "text/latex": [
       "\\begin{tabular}{r|llllllll}\n",
       " n\\_signal & expected\\_discoveries & susie\\_discoveries & dap\\_discoveries & susie\\_power & dap\\_power & susie\\_fdp & dap\\_fdp\\\\\n",
       "\\hline\n",
       "\t 1          & 100        & 100        & 106        & 0.9900000  & 0.9500000  & 0.01000000 & 0.10377358\\\\\n",
       "\t 2          & 200        & 145        & 147        & 0.7000000  & 0.7000000  & 0.04137931 & 0.04761905\\\\\n",
       "\t 3          & 300        & 157        & 160        & 0.5166667  & 0.5066667  & 0.02547771 & 0.06250000\\\\\n",
       "\t 4          & 400        & 154        & 148        & 0.3600000  & 0.3250000  & 0.08441558 & 0.12837838\\\\\n",
       "\t 5          & 500        & 151        & 144        & 0.3000000  & 0.2620000  & 0.03973510 & 0.12500000\\\\\n",
       "\\end{tabular}\n"
      ],
      "text/markdown": [
       "\n",
       "n_signal | expected_discoveries | susie_discoveries | dap_discoveries | susie_power | dap_power | susie_fdp | dap_fdp | \n",
       "|---|---|---|---|---|\n",
       "| 1          | 100        | 100        | 106        | 0.9900000  | 0.9500000  | 0.01000000 | 0.10377358 | \n",
       "| 2          | 200        | 145        | 147        | 0.7000000  | 0.7000000  | 0.04137931 | 0.04761905 | \n",
       "| 3          | 300        | 157        | 160        | 0.5166667  | 0.5066667  | 0.02547771 | 0.06250000 | \n",
       "| 4          | 400        | 154        | 148        | 0.3600000  | 0.3250000  | 0.08441558 | 0.12837838 | \n",
       "| 5          | 500        | 151        | 144        | 0.3000000  | 0.2620000  | 0.03973510 | 0.12500000 | \n",
       "\n",
       "\n"
      ],
      "text/plain": [
       "  n_signal expected_discoveries susie_discoveries dap_discoveries susie_power\n",
       "1 1        100                  100               106             0.9900000  \n",
       "2 2        200                  145               147             0.7000000  \n",
       "3 3        300                  157               160             0.5166667  \n",
       "4 4        400                  154               148             0.3600000  \n",
       "5 5        500                  151               144             0.3000000  \n",
       "  dap_power susie_fdp  dap_fdp   \n",
       "1 0.9500000 0.01000000 0.10377358\n",
       "2 0.7000000 0.04137931 0.04761905\n",
       "3 0.5066667 0.02547771 0.06250000\n",
       "4 0.3250000 0.08441558 0.12837838\n",
       "5 0.2620000 0.03973510 0.12500000"
      ]
     },
     "metadata": {},
     "output_type": "display_data"
    }
   ],
   "source": [
    "readRDS('susie_comparison/Power_comparison_0528_cluster_prob_estvar_false.rds')"
   ]
  },
  {
   "cell_type": "markdown",
   "metadata": {},
   "source": [
    "## susie `est_var` vs DAP"
   ]
  },
  {
   "cell_type": "code",
   "execution_count": 8,
   "metadata": {
    "kernel": "R"
   },
   "outputs": [
    {
     "data": {
      "text/html": [
       "<table>\n",
       "<thead><tr><th scope=col>n_signal</th><th scope=col>expected_discoveries</th><th scope=col>susie_discoveries</th><th scope=col>dap_discoveries</th><th scope=col>susie_power</th><th scope=col>dap_power</th><th scope=col>susie_fdp</th><th scope=col>dap_fdp</th></tr></thead>\n",
       "<tbody>\n",
       "\t<tr><td>1         </td><td>100       </td><td>100       </td><td>106       </td><td>0.9900000 </td><td>0.9500000 </td><td>0.01000000</td><td>0.10377358</td></tr>\n",
       "\t<tr><td>2         </td><td>200       </td><td>155       </td><td>147       </td><td>0.7250000 </td><td>0.7000000 </td><td>0.06451613</td><td>0.04761905</td></tr>\n",
       "\t<tr><td>3         </td><td>300       </td><td>170       </td><td>160       </td><td>0.5466667 </td><td>0.5066667 </td><td>0.03529412</td><td>0.06250000</td></tr>\n",
       "\t<tr><td>4         </td><td>400       </td><td>172       </td><td>148       </td><td>0.3925000 </td><td>0.3250000 </td><td>0.10465116</td><td>0.12837838</td></tr>\n",
       "\t<tr><td>5         </td><td>500       </td><td>169       </td><td>144       </td><td>0.3160000 </td><td>0.2620000 </td><td>0.08284024</td><td>0.12500000</td></tr>\n",
       "</tbody>\n",
       "</table>\n"
      ],
      "text/latex": [
       "\\begin{tabular}{r|llllllll}\n",
       " n\\_signal & expected\\_discoveries & susie\\_discoveries & dap\\_discoveries & susie\\_power & dap\\_power & susie\\_fdp & dap\\_fdp\\\\\n",
       "\\hline\n",
       "\t 1          & 100        & 100        & 106        & 0.9900000  & 0.9500000  & 0.01000000 & 0.10377358\\\\\n",
       "\t 2          & 200        & 155        & 147        & 0.7250000  & 0.7000000  & 0.06451613 & 0.04761905\\\\\n",
       "\t 3          & 300        & 170        & 160        & 0.5466667  & 0.5066667  & 0.03529412 & 0.06250000\\\\\n",
       "\t 4          & 400        & 172        & 148        & 0.3925000  & 0.3250000  & 0.10465116 & 0.12837838\\\\\n",
       "\t 5          & 500        & 169        & 144        & 0.3160000  & 0.2620000  & 0.08284024 & 0.12500000\\\\\n",
       "\\end{tabular}\n"
      ],
      "text/markdown": [
       "\n",
       "n_signal | expected_discoveries | susie_discoveries | dap_discoveries | susie_power | dap_power | susie_fdp | dap_fdp | \n",
       "|---|---|---|---|---|\n",
       "| 1          | 100        | 100        | 106        | 0.9900000  | 0.9500000  | 0.01000000 | 0.10377358 | \n",
       "| 2          | 200        | 155        | 147        | 0.7250000  | 0.7000000  | 0.06451613 | 0.04761905 | \n",
       "| 3          | 300        | 170        | 160        | 0.5466667  | 0.5066667  | 0.03529412 | 0.06250000 | \n",
       "| 4          | 400        | 172        | 148        | 0.3925000  | 0.3250000  | 0.10465116 | 0.12837838 | \n",
       "| 5          | 500        | 169        | 144        | 0.3160000  | 0.2620000  | 0.08284024 | 0.12500000 | \n",
       "\n",
       "\n"
      ],
      "text/plain": [
       "  n_signal expected_discoveries susie_discoveries dap_discoveries susie_power\n",
       "1 1        100                  100               106             0.9900000  \n",
       "2 2        200                  155               147             0.7250000  \n",
       "3 3        300                  170               160             0.5466667  \n",
       "4 4        400                  172               148             0.3925000  \n",
       "5 5        500                  169               144             0.3160000  \n",
       "  dap_power susie_fdp  dap_fdp   \n",
       "1 0.9500000 0.01000000 0.10377358\n",
       "2 0.7000000 0.06451613 0.04761905\n",
       "3 0.5066667 0.03529412 0.06250000\n",
       "4 0.3250000 0.10465116 0.12837838\n",
       "5 0.2620000 0.08284024 0.12500000"
      ]
     },
     "metadata": {},
     "output_type": "display_data"
    }
   ],
   "source": [
    "readRDS('susie_comparison/Power_comparison_0528_cluster_prob_estvar_true.rds')"
   ]
  },
  {
   "cell_type": "markdown",
   "metadata": {},
   "source": [
    "## Signals that susie captures but DAP misses, for n = 1 case"
   ]
  },
  {
   "cell_type": "markdown",
   "metadata": {},
   "source": [
    "This is result of running `power` of [this notebook](20180527_PIP_Workflow.html). A typical case is that the set is large yet highly correlated, eg:\n",
    "\n",
    "```\n",
    "susie:\n",
    "  [1] 335 531 532 533 536 538 539 540 541 542 543 544 546 547 548 549 550 551\n",
    " [19] 552 553 554 556 558 559 560 562 563 564 565 566 567 568 569 570 571 574\n",
    " [37] 575 576 577 578 579 581 585 586 587 588 591 592 593 594 597 598 601 602\n",
    " [55] 603 608 609 610 611 612 613 614 616 617 618 620 621 623 626 628 629 630\n",
    " [73] 633 634 635 639 641 642 645 646 647 648 650 651 652 653 654 655 656 657\n",
    " [91] 659 660 661 662 663 673 675 676 678 679 681 685 686 687 688 689 690 691\n",
    "[109] 692 696 698 699 700 701 702 703 704 705 706 707 708 709 710 714 715 719\n",
    "[127] 720 721 722 723 726 730 732 733 735 736 738 744 745 746\n",
    "\n",
    "DAP:\n",
    "list()\n",
    "  cluster cluster_prob cluster_avg_r2\n",
    "0       1     0.398200          0.992\n",
    "1       2     0.006435          0.749\n",
    "                                                                                                                                                                      snp\n",
    "0 700,648,646,543,673,581,721,738,560,586,714,701,662,735,618,696,736,621,702,623,587,733,679,732,726,710,708,678,692,691,690,689,688,652,635,639,641,633,629,617,616,620\n",
    "1                                                                                                                                                             152,361,515\n",
    "[1] \"~/Documents/GTExV8/Toys/Thyroid.ENSG00000083937.RDS\"\n",
    "```\n",
    "So susie's CS is quite large. For the first cluster DAP comes up with, the avg r2 is high, and overlaps with susie CS, but the `cluster_prob` it computes is low. But indeed that cluster does contain the causal variable."
   ]
  },
  {
   "cell_type": "markdown",
   "metadata": {},
   "source": [
    "## DAP false discovery, for n = 1 case"
   ]
  },
  {
   "cell_type": "markdown",
   "metadata": {},
   "source": [
    "Mostly I see are physically close signals falling in different DAP clusters, eg:\n",
    "\n",
    "```\n",
    "susie (and the truth)\n",
    "[1] 765\n",
    "\n",
    "DAP\n",
    "[[1]]\n",
    "[1] 765\n",
    "\n",
    "[[2]]\n",
    "[1] 786\n",
    "\n",
    "  cluster cluster_prob cluster_avg_r2\n",
    "0       1    0.9998000          1.000\n",
    "1       2    0.9995000          1.000\n",
    "...\n",
    "[1] \"~/Documents/GTExV8/Toys/Thyroid.ENSG00000031823.RDS\"\n",
    "```\n",
    "\n",
    "and a more extreme case:\n",
    "\n",
    "```\n",
    "susie (and the truth)\n",
    "[1] 669\n",
    "\n",
    "DAP\n",
    "[[1]]\n",
    "[1] 669\n",
    "\n",
    "[[2]]\n",
    " [1] 452 724 717 480 666 665 649 638 632 622 499 524 747 742 734 712 711 693 670\n",
    "[20] 671 643 584 514 495 504 520 516 517 511 507 501 498 485 486 490 530 453\n",
    "\n",
    "  cluster cluster_prob cluster_avg_r2\n",
    "0       1    1.0000000          1.000\n",
    "1       2    0.9973000          0.984\n",
    "...\n",
    "[1] \"~/Documents/GTExV8/Toys/Thyroid.ENSG00000083937.RDS\"\n",
    "```\n",
    "\n",
    "where the 2nd cluster has some variables (eg 665 and 666) very near the first cluster's only variable (669). But they ended up in a different cluster."
   ]
  }
 ],
 "metadata": {
  "kernelspec": {
   "display_name": "SoS",
   "language": "sos",
   "name": "sos"
  },
  "language_info": {
   "codemirror_mode": "sos",
   "file_extension": ".sos",
   "mimetype": "text/x-sos",
   "name": "sos",
   "nbconvert_exporter": "sos_notebook.converter.SoS_Exporter",
   "pygments_lexer": "sos"
  },
  "sos": {
   "default_kernel": "SoS",
   "kernels": [
    [
     "R",
     "ir",
     "R",
     "#DCDCDA"
    ]
   ]
  }
 },
 "nbformat": 4,
 "nbformat_minor": 2
}
