{
 "cells": [
  {
   "cell_type": "markdown",
   "metadata": {},
   "source": [
    "# Power comparison susie vs DAP\n",
    "\n",
    "Here we compare power of susie and DAP under different number of simulation signals for fixed PVE."
   ]
  },
  {
   "cell_type": "code",
   "execution_count": 1,
   "metadata": {},
   "outputs": [
    {
     "data": {
      "text/html": [
       "\n",
       "        <table class=\"revision_table\">\n",
       "        <tr>\n",
       "        <th>Revision</th>\n",
       "        <th>Author</th>\n",
       "        <th>Date</th>\n",
       "        <th>Message</th>\n",
       "        <tr>\n",
       "        <tr><td><a target=\"_blank\" href=\"http://github.com/gaow/mvarbvs/blob/4bbe27e8e540ffcd59113144006f5bd8b06aed66/20180528_Power_Comparison.ipynb\"><span class=\"revision_id\">4bbe27e<span></a></td>\n",
       "<td>Gao Wang</td>\n",
       "<td>2018-06-11</td>\n",
       "<td>Add median size to power comparison</td></tr><tr><td><a target=\"_blank\" href=\"http://github.com/gaow/mvarbvs/blob/24e1fbc755fcfdb106de7e1f5c80c03c650d1cdc/20180528_Power_Comparison.ipynb\"><span class=\"revision_id\">24e1fbc<span></a></td>\n",
       "<td>Gao Wang</td>\n",
       "<td>2018-06-07</td>\n",
       "<td>Update revision table</td></tr><tr><td><a target=\"_blank\" href=\"http://github.com/gaow/mvarbvs/blob/85bdece37199302897eb42e281e50fb62b4811eb/20180528_Power_Comparison.ipynb\"><span class=\"revision_id\">85bdece<span></a></td>\n",
       "<td>Gao Wang</td>\n",
       "<td>2018-06-06</td>\n",
       "<td>Add average size and LD for susie vs dap</td></tr><tr><td><a target=\"_blank\" href=\"http://github.com/gaow/mvarbvs/blob/1085909b9eae8fc260d0b202d5a60c27bfaef85c/20180528_Power_Comparison.ipynb\"><span class=\"revision_id\">1085909<span></a></td>\n",
       "<td>Gao Wang</td>\n",
       "<td>2018-06-06</td>\n",
       "<td>Update power comparisons to use both replicates per gene</td></tr></table>"
      ]
     },
     "metadata": {},
     "output_type": "display_data"
    }
   ],
   "source": [
    "%revisions -s -n 10"
   ]
  },
  {
   "cell_type": "markdown",
   "metadata": {},
   "source": [
    "We set `n_causal` ranging from 1~5, each simulating 100 data-sets from 50 genes. For each simulated data, we compute both susie 95% CS and DAP 95% cluster, and we evaluate for the CS or clusters reported how many of them capture **at least a signal**.\n",
    "\n",
    "We evaluate the following quantities:\n",
    "\n",
    "- **Power**: the proportion of signals captured by susie CS or DAP clusters\n",
    "- **False discovery proportion (fdp)**: the proportion of susie CS or DAP clusters that do not contain *any* signal\n",
    "- **Average size**: average number of variables in susice CS or DAP clusters that contains a signal\n",
    "- **Average LD**: average LD between variables in susice CS or DAP clusters that contains a signal"
   ]
  },
  {
   "cell_type": "markdown",
   "metadata": {},
   "source": [
    "The `power` workflow in [this notebook](20180527_PIP_Workflow.html) does the computation."
   ]
  },
  {
   "cell_type": "code",
   "execution_count": 2,
   "metadata": {},
   "outputs": [
    {
     "name": "stdout",
     "output_type": "stream",
     "text": [
      "/home/gaow/GIT/github/mvarbvs/dsc"
     ]
    }
   ],
   "source": [
    "%cd ~/GIT/github/mvarbvs/dsc"
   ]
  },
  {
   "cell_type": "markdown",
   "metadata": {},
   "source": [
    "## Conclusions\n",
    "\n",
    "- susie has slightly more power over DAP\n",
    "- FDP of susie is lower\n",
    "- Average size of susie CS is greater than DAP cluster, but the average LD within susie CS is smaller than DAP cluster\n",
    "    - in other words susie CS is more pure"
   ]
  },
  {
   "cell_type": "markdown",
   "metadata": {},
   "source": [
    "## susie `var(Y)` vs DAP"
   ]
  },
  {
   "cell_type": "code",
   "execution_count": 3,
   "metadata": {
    "kernel": "R"
   },
   "outputs": [
    {
     "data": {
      "text/html": [
       "<table>\n",
       "<thead><tr><th scope=col>n_signal</th><th scope=col>expected_discoveries</th><th scope=col>susie_discoveries</th><th scope=col>dap_discoveries</th><th scope=col>susie_power</th><th scope=col>dap_power</th><th scope=col>susie_fdp</th><th scope=col>dap_fdp</th><th scope=col>susie_avg_size</th><th scope=col>dap_avg_size</th><th scope=col>susie_median_size</th><th scope=col>dap_median_size</th><th scope=col>susie_avg_ld</th><th scope=col>dap_avg_ld</th></tr></thead>\n",
       "<tbody>\n",
       "\t<tr><td>1         </td><td> 200      </td><td>200       </td><td>177       </td><td>0.99000   </td><td>0.8850000 </td><td>0.01000000</td><td>0.0000000 </td><td>18.03535  </td><td> 7.570621 </td><td>4.5       </td><td> 4.0      </td><td>0.9783407 </td><td>0.9749153 </td></tr>\n",
       "\t<tr><td>2         </td><td> 400      </td><td>275       </td><td>265       </td><td>0.66750   </td><td>0.6350000 </td><td>0.03272727</td><td>0.0490566 </td><td>19.50376  </td><td>10.623016 </td><td>6.5       </td><td> 6.0      </td><td>0.9487225 </td><td>0.9363929 </td></tr>\n",
       "\t<tr><td>3         </td><td> 600      </td><td>326       </td><td>325       </td><td>0.52500   </td><td>0.4883333 </td><td>0.05214724</td><td>0.1107692 </td><td>19.65372  </td><td>11.000000 </td><td>6.0       </td><td> 7.0      </td><td>0.9431493 </td><td>0.9325156 </td></tr>\n",
       "\t<tr><td>4         </td><td> 800      </td><td>358       </td><td>342       </td><td>0.44875   </td><td>0.3912500 </td><td>0.03631285</td><td>0.1052632 </td><td>21.14493  </td><td>11.568627 </td><td>9.0       </td><td> 7.5      </td><td>0.9238565 </td><td>0.9118464 </td></tr>\n",
       "\t<tr><td>5         </td><td>1000      </td><td>375       </td><td>383       </td><td>0.36500   </td><td>0.3360000 </td><td>0.09066667</td><td>0.1488251 </td><td>20.53372  </td><td>12.303681 </td><td>9.0       </td><td>10.0      </td><td>0.9232786 </td><td>0.8895613 </td></tr>\n",
       "</tbody>\n",
       "</table>\n"
      ],
      "text/latex": [
       "\\begin{tabular}{r|llllllllllllll}\n",
       " n\\_signal & expected\\_discoveries & susie\\_discoveries & dap\\_discoveries & susie\\_power & dap\\_power & susie\\_fdp & dap\\_fdp & susie\\_avg\\_size & dap\\_avg\\_size & susie\\_median\\_size & dap\\_median\\_size & susie\\_avg\\_ld & dap\\_avg\\_ld\\\\\n",
       "\\hline\n",
       "\t 1          &  200       & 200        & 177        & 0.99000    & 0.8850000  & 0.01000000 & 0.0000000  & 18.03535   &  7.570621  & 4.5        &  4.0       & 0.9783407  & 0.9749153 \\\\\n",
       "\t 2          &  400       & 275        & 265        & 0.66750    & 0.6350000  & 0.03272727 & 0.0490566  & 19.50376   & 10.623016  & 6.5        &  6.0       & 0.9487225  & 0.9363929 \\\\\n",
       "\t 3          &  600       & 326        & 325        & 0.52500    & 0.4883333  & 0.05214724 & 0.1107692  & 19.65372   & 11.000000  & 6.0        &  7.0       & 0.9431493  & 0.9325156 \\\\\n",
       "\t 4          &  800       & 358        & 342        & 0.44875    & 0.3912500  & 0.03631285 & 0.1052632  & 21.14493   & 11.568627  & 9.0        &  7.5       & 0.9238565  & 0.9118464 \\\\\n",
       "\t 5          & 1000       & 375        & 383        & 0.36500    & 0.3360000  & 0.09066667 & 0.1488251  & 20.53372   & 12.303681  & 9.0        & 10.0       & 0.9232786  & 0.8895613 \\\\\n",
       "\\end{tabular}\n"
      ],
      "text/markdown": [
       "\n",
       "n_signal | expected_discoveries | susie_discoveries | dap_discoveries | susie_power | dap_power | susie_fdp | dap_fdp | susie_avg_size | dap_avg_size | susie_median_size | dap_median_size | susie_avg_ld | dap_avg_ld | \n",
       "|---|---|---|---|---|\n",
       "| 1          |  200       | 200        | 177        | 0.99000    | 0.8850000  | 0.01000000 | 0.0000000  | 18.03535   |  7.570621  | 4.5        |  4.0       | 0.9783407  | 0.9749153  | \n",
       "| 2          |  400       | 275        | 265        | 0.66750    | 0.6350000  | 0.03272727 | 0.0490566  | 19.50376   | 10.623016  | 6.5        |  6.0       | 0.9487225  | 0.9363929  | \n",
       "| 3          |  600       | 326        | 325        | 0.52500    | 0.4883333  | 0.05214724 | 0.1107692  | 19.65372   | 11.000000  | 6.0        |  7.0       | 0.9431493  | 0.9325156  | \n",
       "| 4          |  800       | 358        | 342        | 0.44875    | 0.3912500  | 0.03631285 | 0.1052632  | 21.14493   | 11.568627  | 9.0        |  7.5       | 0.9238565  | 0.9118464  | \n",
       "| 5          | 1000       | 375        | 383        | 0.36500    | 0.3360000  | 0.09066667 | 0.1488251  | 20.53372   | 12.303681  | 9.0        | 10.0       | 0.9232786  | 0.8895613  | \n",
       "\n",
       "\n"
      ],
      "text/plain": [
       "  n_signal expected_discoveries susie_discoveries dap_discoveries susie_power\n",
       "1 1         200                 200               177             0.99000    \n",
       "2 2         400                 275               265             0.66750    \n",
       "3 3         600                 326               325             0.52500    \n",
       "4 4         800                 358               342             0.44875    \n",
       "5 5        1000                 375               383             0.36500    \n",
       "  dap_power susie_fdp  dap_fdp   susie_avg_size dap_avg_size susie_median_size\n",
       "1 0.8850000 0.01000000 0.0000000 18.03535        7.570621    4.5              \n",
       "2 0.6350000 0.03272727 0.0490566 19.50376       10.623016    6.5              \n",
       "3 0.4883333 0.05214724 0.1107692 19.65372       11.000000    6.0              \n",
       "4 0.3912500 0.03631285 0.1052632 21.14493       11.568627    9.0              \n",
       "5 0.3360000 0.09066667 0.1488251 20.53372       12.303681    9.0              \n",
       "  dap_median_size susie_avg_ld dap_avg_ld\n",
       "1  4.0            0.9783407    0.9749153 \n",
       "2  6.0            0.9487225    0.9363929 \n",
       "3  7.0            0.9431493    0.9325156 \n",
       "4  7.5            0.9238565    0.9118464 \n",
       "5 10.0            0.9232786    0.8895613 "
      ]
     },
     "metadata": {},
     "output_type": "display_data"
    }
   ],
   "source": [
    "readRDS('susie_comparison/Power_comparison_0622_cluster_prob_estvar_false.rds')"
   ]
  },
  {
   "cell_type": "markdown",
   "metadata": {},
   "source": [
    "## susie `est_var` vs DAP"
   ]
  },
  {
   "cell_type": "code",
   "execution_count": 5,
   "metadata": {
    "kernel": "R"
   },
   "outputs": [
    {
     "data": {
      "text/html": [
       "<table>\n",
       "<thead><tr><th scope=col>n_signal</th><th scope=col>expected_discoveries</th><th scope=col>susie_discoveries</th><th scope=col>dap_discoveries</th><th scope=col>susie_power</th><th scope=col>dap_power</th><th scope=col>susie_fdp</th><th scope=col>dap_fdp</th><th scope=col>susie_avg_size</th><th scope=col>dap_avg_size</th><th scope=col>susie_median_size</th><th scope=col>dap_median_size</th><th scope=col>susie_avg_ld</th><th scope=col>dap_avg_ld</th></tr></thead>\n",
       "<tbody>\n",
       "\t<tr><td>1         </td><td> 200      </td><td>200       </td><td>177       </td><td>0.9700000 </td><td>0.8850000 </td><td>0.03000000</td><td>0.0000000 </td><td>16.25773  </td><td> 7.570621 </td><td>3         </td><td> 4.0      </td><td>0.9825322 </td><td>0.9749153 </td></tr>\n",
       "\t<tr><td>2         </td><td> 400      </td><td>289       </td><td>265       </td><td>0.6875000 </td><td>0.6350000 </td><td>0.05190311</td><td>0.0490566 </td><td>16.42701  </td><td>10.623016 </td><td>5         </td><td> 6.0      </td><td>0.9487389 </td><td>0.9363929 </td></tr>\n",
       "\t<tr><td>3         </td><td> 600      </td><td>345       </td><td>325       </td><td>0.5366667 </td><td>0.4883333 </td><td>0.07536232</td><td>0.1107692 </td><td>18.25078  </td><td>11.000000 </td><td>5         </td><td> 7.0      </td><td>0.9471269 </td><td>0.9325156 </td></tr>\n",
       "\t<tr><td>4         </td><td> 800      </td><td>389       </td><td>342       </td><td>0.4662500 </td><td>0.3912500 </td><td>0.06940874</td><td>0.1052632 </td><td>18.20718  </td><td>11.568627 </td><td>8         </td><td> 7.5      </td><td>0.9295411 </td><td>0.9118464 </td></tr>\n",
       "\t<tr><td>5         </td><td>1000      </td><td>413       </td><td>383       </td><td>0.3860000 </td><td>0.3360000 </td><td>0.11138015</td><td>0.1488251 </td><td>18.07357  </td><td>12.303681 </td><td>8         </td><td>10.0      </td><td>0.9268335 </td><td>0.8895613 </td></tr>\n",
       "</tbody>\n",
       "</table>\n"
      ],
      "text/latex": [
       "\\begin{tabular}{r|llllllllllllll}\n",
       " n\\_signal & expected\\_discoveries & susie\\_discoveries & dap\\_discoveries & susie\\_power & dap\\_power & susie\\_fdp & dap\\_fdp & susie\\_avg\\_size & dap\\_avg\\_size & susie\\_median\\_size & dap\\_median\\_size & susie\\_avg\\_ld & dap\\_avg\\_ld\\\\\n",
       "\\hline\n",
       "\t 1          &  200       & 200        & 177        & 0.9700000  & 0.8850000  & 0.03000000 & 0.0000000  & 16.25773   &  7.570621  & 3          &  4.0       & 0.9825322  & 0.9749153 \\\\\n",
       "\t 2          &  400       & 289        & 265        & 0.6875000  & 0.6350000  & 0.05190311 & 0.0490566  & 16.42701   & 10.623016  & 5          &  6.0       & 0.9487389  & 0.9363929 \\\\\n",
       "\t 3          &  600       & 345        & 325        & 0.5366667  & 0.4883333  & 0.07536232 & 0.1107692  & 18.25078   & 11.000000  & 5          &  7.0       & 0.9471269  & 0.9325156 \\\\\n",
       "\t 4          &  800       & 389        & 342        & 0.4662500  & 0.3912500  & 0.06940874 & 0.1052632  & 18.20718   & 11.568627  & 8          &  7.5       & 0.9295411  & 0.9118464 \\\\\n",
       "\t 5          & 1000       & 413        & 383        & 0.3860000  & 0.3360000  & 0.11138015 & 0.1488251  & 18.07357   & 12.303681  & 8          & 10.0       & 0.9268335  & 0.8895613 \\\\\n",
       "\\end{tabular}\n"
      ],
      "text/markdown": [
       "\n",
       "n_signal | expected_discoveries | susie_discoveries | dap_discoveries | susie_power | dap_power | susie_fdp | dap_fdp | susie_avg_size | dap_avg_size | susie_median_size | dap_median_size | susie_avg_ld | dap_avg_ld | \n",
       "|---|---|---|---|---|\n",
       "| 1          |  200       | 200        | 177        | 0.9700000  | 0.8850000  | 0.03000000 | 0.0000000  | 16.25773   |  7.570621  | 3          |  4.0       | 0.9825322  | 0.9749153  | \n",
       "| 2          |  400       | 289        | 265        | 0.6875000  | 0.6350000  | 0.05190311 | 0.0490566  | 16.42701   | 10.623016  | 5          |  6.0       | 0.9487389  | 0.9363929  | \n",
       "| 3          |  600       | 345        | 325        | 0.5366667  | 0.4883333  | 0.07536232 | 0.1107692  | 18.25078   | 11.000000  | 5          |  7.0       | 0.9471269  | 0.9325156  | \n",
       "| 4          |  800       | 389        | 342        | 0.4662500  | 0.3912500  | 0.06940874 | 0.1052632  | 18.20718   | 11.568627  | 8          |  7.5       | 0.9295411  | 0.9118464  | \n",
       "| 5          | 1000       | 413        | 383        | 0.3860000  | 0.3360000  | 0.11138015 | 0.1488251  | 18.07357   | 12.303681  | 8          | 10.0       | 0.9268335  | 0.8895613  | \n",
       "\n",
       "\n"
      ],
      "text/plain": [
       "  n_signal expected_discoveries susie_discoveries dap_discoveries susie_power\n",
       "1 1         200                 200               177             0.9700000  \n",
       "2 2         400                 289               265             0.6875000  \n",
       "3 3         600                 345               325             0.5366667  \n",
       "4 4         800                 389               342             0.4662500  \n",
       "5 5        1000                 413               383             0.3860000  \n",
       "  dap_power susie_fdp  dap_fdp   susie_avg_size dap_avg_size susie_median_size\n",
       "1 0.8850000 0.03000000 0.0000000 16.25773        7.570621    3                \n",
       "2 0.6350000 0.05190311 0.0490566 16.42701       10.623016    5                \n",
       "3 0.4883333 0.07536232 0.1107692 18.25078       11.000000    5                \n",
       "4 0.3912500 0.06940874 0.1052632 18.20718       11.568627    8                \n",
       "5 0.3360000 0.11138015 0.1488251 18.07357       12.303681    8                \n",
       "  dap_median_size susie_avg_ld dap_avg_ld\n",
       "1  4.0            0.9825322    0.9749153 \n",
       "2  6.0            0.9487389    0.9363929 \n",
       "3  7.0            0.9471269    0.9325156 \n",
       "4  7.5            0.9295411    0.9118464 \n",
       "5 10.0            0.9268335    0.8895613 "
      ]
     },
     "metadata": {},
     "output_type": "display_data"
    }
   ],
   "source": [
    "readRDS('susie_comparison/Power_comparison_0622_cluster_prob_estvar_true.rds')"
   ]
  }
 ],
 "metadata": {
  "kernelspec": {
   "display_name": "SoS",
   "language": "sos",
   "name": "sos"
  },
  "language_info": {
   "codemirror_mode": "sos",
   "file_extension": ".sos",
   "mimetype": "text/x-sos",
   "name": "sos",
   "nbconvert_exporter": "sos_notebook.converter.SoS_Exporter",
   "pygments_lexer": "sos"
  },
  "sos": {
   "default_kernel": "SoS",
   "kernels": [
    [
     "R",
     "ir",
     "R",
     "#DCDCDA"
    ]
   ]
  }
 },
 "nbformat": 4,
 "nbformat_minor": 2
}
