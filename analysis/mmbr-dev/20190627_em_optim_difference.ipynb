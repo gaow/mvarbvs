{
 "cells": [
  {
   "cell_type": "markdown",
   "metadata": {},
   "source": [
    "# A smaller example of prior variance scalar estimate\n",
    "\n",
    "This is continuation of [previous notebook](em_optim_est_prior.html) but using smaller example and more explicit code to show the problem. The data can be [downloaded here](https://github.com/stephenslab/mmbr/blob/master/inst/prototypes/em_optim_difference.rds)."
   ]
  },
  {
   "cell_type": "markdown",
   "metadata": {},
   "source": [
    "The problems from previous notebook are:\n",
    "\n",
    "1. EM converges slowly\n",
    "2. The estimated prior variane scalar seems smaller than what we expect based on the coefficient estimate itself.\n",
    "\n",
    "This notebook focuses on understanding 2. Therefore we use `optim` based result and manually check for a couple of iterations the inference for the 1st and 2nd moments, see if they are in agreement with the estimates."
   ]
  },
  {
   "cell_type": "code",
   "execution_count": 1,
   "metadata": {},
   "outputs": [],
   "source": [
    "attach(readRDS('em_optim_difference.rds'))"
   ]
  },
  {
   "cell_type": "markdown",
   "metadata": {},
   "source": [
    "Here I use 15 conditions (this is enough conditions to show EM slow convergence issue),"
   ]
  },
  {
   "cell_type": "code",
   "execution_count": 2,
   "metadata": {},
   "outputs": [],
   "source": [
    "R = 15\n",
    "Y1 = Y[, c(1:R)]\n",
    "resid_Y1 = resid_Y[c(1:R), c(1:R)]\n",
    "V1 = matrix(1,R,R)\n",
    "true_coef = meta$true_coef[,c(1:R)]"
   ]
  },
  {
   "cell_type": "markdown",
   "metadata": {},
   "source": [
    "To simplify, I use codes from [`BayesianMultivariateRegression` class from mmbr package](https://github.com/stephenslab/mmbr/blob/master/R/bayesian_multivariate_regression.R) which is a single component multivariate prior (not a mixture prior)."
   ]
  },
  {
   "cell_type": "markdown",
   "metadata": {},
   "source": [
    "## IBSS done manually\n",
    "\n",
    "Here I run single effect models manually for `L=2`, using `save_var` to save posterior covariance matrix"
   ]
  },
  {
   "cell_type": "code",
   "execution_count": 3,
   "metadata": {},
   "outputs": [
    {
     "name": "stderr",
     "output_type": "stream",
     "text": [
      "Loading mmbr\n",
      "\n",
      "Loading required package: mashr\n",
      "\n",
      "Loading required package: ashr\n",
      "\n"
     ]
    }
   ],
   "source": [
    "devtools::load_all('~/GIT/software/mmbr')\n",
    "d = DenseData$new(X,Y1)\n",
    "d$standardize(TRUE,TRUE)\n",
    "m1 = SingleEffectModel(BayesianMultivariateRegression)$new(ncol(X), resid_Y1, V1)\n",
    "m2 = SingleEffectModel(BayesianMultivariateRegression)$new(ncol(X), resid_Y1, V1)"
   ]
  },
  {
   "cell_type": "markdown",
   "metadata": {},
   "source": [
    "### The first iteration"
   ]
  },
  {
   "cell_type": "code",
   "execution_count": 4,
   "metadata": {},
   "outputs": [],
   "source": [
    "d$add_to_residual(m1$predict(d))\n",
    "m1$fit(d, estimate_prior_variance_method = 'optim', save_var = TRUE)\n",
    "d$remove_from_residual(m1$predict(d))\n",
    "d$add_to_residual(m2$predict(d))\n",
    "m2$fit(d, estimate_prior_variance_method = 'optim', save_var = TRUE)\n",
    "d$remove_from_residual(m2$predict(d))"
   ]
  },
  {
   "cell_type": "code",
   "execution_count": 5,
   "metadata": {},
   "outputs": [],
   "source": [
    "fitted = d$compute_Xb(m1$posterior_b1 + m2$posterior_b1)\n",
    "d$compute_residual(fitted)"
   ]
  },
  {
   "cell_type": "markdown",
   "metadata": {},
   "source": [
    "Now take a look at position 129, whose signal is captured by `L2` with PIP > 0.9, to check the 2nd moment estimate and prior variance scalar,"
   ]
  },
  {
   "cell_type": "code",
   "execution_count": 6,
   "metadata": {},
   "outputs": [
    {
     "data": {
      "text/html": [
       "0.989863645087472"
      ],
      "text/latex": [
       "0.989863645087472"
      ],
      "text/markdown": [
       "0.989863645087472"
      ],
      "text/plain": [
       "[1] 0.9898636"
      ]
     },
     "metadata": {},
     "output_type": "display_data"
    }
   ],
   "source": [
    "m2$pip[129]"
   ]
  },
  {
   "cell_type": "code",
   "execution_count": 7,
   "metadata": {},
   "outputs": [
    {
     "data": {
      "text/html": [
       "0.00166608931066299"
      ],
      "text/latex": [
       "0.00166608931066299"
      ],
      "text/markdown": [
       "0.00166608931066299"
      ],
      "text/plain": [
       "[1] 0.001666089"
      ]
     },
     "metadata": {},
     "output_type": "display_data"
    }
   ],
   "source": [
    "sum(diag(tcrossprod(m2$posterior_b1[129,])))/R"
   ]
  },
  {
   "cell_type": "code",
   "execution_count": 8,
   "metadata": {},
   "outputs": [
    {
     "data": {
      "text/html": [
       "0.00170466773300059"
      ],
      "text/latex": [
       "0.00170466773300059"
      ],
      "text/markdown": [
       "0.00170466773300059"
      ],
      "text/plain": [
       "[1] 0.001704668"
      ]
     },
     "metadata": {},
     "output_type": "display_data"
    }
   ],
   "source": [
    "m2$prior_variance"
   ]
  },
  {
   "cell_type": "markdown",
   "metadata": {},
   "source": [
    "### The 2nd iteration"
   ]
  },
  {
   "cell_type": "code",
   "execution_count": 9,
   "metadata": {},
   "outputs": [],
   "source": [
    "d$add_to_residual(m1$predict(d))\n",
    "m1$fit(d, estimate_prior_variance_method = 'optim', save_var = TRUE)\n",
    "d$remove_from_residual(m1$predict(d))\n",
    "d$add_to_residual(m2$predict(d))\n",
    "m2$fit(d, estimate_prior_variance_method = 'optim', save_var = TRUE)\n",
    "d$remove_from_residual(m2$predict(d))"
   ]
  },
  {
   "cell_type": "code",
   "execution_count": 10,
   "metadata": {},
   "outputs": [
    {
     "data": {
      "text/html": [
       "0.999912072785095"
      ],
      "text/latex": [
       "0.999912072785095"
      ],
      "text/markdown": [
       "0.999912072785095"
      ],
      "text/plain": [
       "[1] 0.9999121"
      ]
     },
     "metadata": {},
     "output_type": "display_data"
    }
   ],
   "source": [
    "m2$pip[129]"
   ]
  },
  {
   "cell_type": "code",
   "execution_count": 11,
   "metadata": {},
   "outputs": [
    {
     "data": {
      "text/html": [
       "0.00312592162254299"
      ],
      "text/latex": [
       "0.00312592162254299"
      ],
      "text/markdown": [
       "0.00312592162254299"
      ],
      "text/plain": [
       "[1] 0.003125922"
      ]
     },
     "metadata": {},
     "output_type": "display_data"
    }
   ],
   "source": [
    "sum(diag(tcrossprod(m2$posterior_b1[129,])))/R"
   ]
  },
  {
   "cell_type": "code",
   "execution_count": 12,
   "metadata": {},
   "outputs": [
    {
     "data": {
      "text/html": [
       "0.00313137637417771"
      ],
      "text/latex": [
       "0.00313137637417771"
      ],
      "text/markdown": [
       "0.00313137637417771"
      ],
      "text/plain": [
       "[1] 0.003131376"
      ]
     },
     "metadata": {},
     "output_type": "display_data"
    }
   ],
   "source": [
    "m2$prior_variance"
   ]
  },
  {
   "cell_type": "markdown",
   "metadata": {},
   "source": [
    "## The 3rd iteration"
   ]
  },
  {
   "cell_type": "code",
   "execution_count": 13,
   "metadata": {},
   "outputs": [],
   "source": [
    "d$add_to_residual(m1$predict(d))\n",
    "m1$fit(d, estimate_prior_variance_method = 'optim', save_var = TRUE)\n",
    "d$remove_from_residual(m1$predict(d))\n",
    "d$add_to_residual(m2$predict(d))\n",
    "m2$fit(d, estimate_prior_variance_method = 'optim', save_var = TRUE)\n",
    "d$remove_from_residual(m2$predict(d))"
   ]
  },
  {
   "cell_type": "code",
   "execution_count": 14,
   "metadata": {},
   "outputs": [
    {
     "data": {
      "text/html": [
       "0.0037375502970709"
      ],
      "text/latex": [
       "0.0037375502970709"
      ],
      "text/markdown": [
       "0.0037375502970709"
      ],
      "text/plain": [
       "[1] 0.00373755"
      ]
     },
     "metadata": {},
     "output_type": "display_data"
    }
   ],
   "source": [
    "sum(diag(tcrossprod(m2$posterior_b1[129,])))/R"
   ]
  },
  {
   "cell_type": "code",
   "execution_count": 15,
   "metadata": {},
   "outputs": [
    {
     "data": {
      "text/html": [
       "0.00374254134042344"
      ],
      "text/latex": [
       "0.00374254134042344"
      ],
      "text/markdown": [
       "0.00374254134042344"
      ],
      "text/plain": [
       "[1] 0.003742541"
      ]
     },
     "metadata": {},
     "output_type": "display_data"
    }
   ],
   "source": [
    "m2$prior_variance"
   ]
  },
  {
   "cell_type": "markdown",
   "metadata": {},
   "source": [
    "It seems to be close to convergence. The estimate from this model is different from the simulated truth,"
   ]
  },
  {
   "cell_type": "code",
   "execution_count": 16,
   "metadata": {},
   "outputs": [
    {
     "data": {
      "text/html": [
       "<style>\n",
       ".list-inline {list-style: none; margin:0; padding: 0}\n",
       ".list-inline>li {display: inline-block}\n",
       ".list-inline>li:not(:last-child)::after {content: \"\\00b7\"; padding: 0 .5ex}\n",
       "</style>\n",
       "<ol class=list-inline><li>0.06113550766184</li><li>0.06113550766184</li><li>0.06113550766184</li><li>0.06113550766184</li><li>0.06113550766184</li><li>0.06113550766184</li><li>0.06113550766184</li><li>0.06113550766184</li><li>0.06113550766184</li><li>0.06113550766184</li><li>0.06113550766184</li><li>0.06113550766184</li><li>0.06113550766184</li><li>0.06113550766184</li><li>0.06113550766184</li></ol>\n"
      ],
      "text/latex": [
       "\\begin{enumerate*}\n",
       "\\item 0.06113550766184\n",
       "\\item 0.06113550766184\n",
       "\\item 0.06113550766184\n",
       "\\item 0.06113550766184\n",
       "\\item 0.06113550766184\n",
       "\\item 0.06113550766184\n",
       "\\item 0.06113550766184\n",
       "\\item 0.06113550766184\n",
       "\\item 0.06113550766184\n",
       "\\item 0.06113550766184\n",
       "\\item 0.06113550766184\n",
       "\\item 0.06113550766184\n",
       "\\item 0.06113550766184\n",
       "\\item 0.06113550766184\n",
       "\\item 0.06113550766184\n",
       "\\end{enumerate*}\n"
      ],
      "text/markdown": [
       "1. 0.06113550766184\n",
       "2. 0.06113550766184\n",
       "3. 0.06113550766184\n",
       "4. 0.06113550766184\n",
       "5. 0.06113550766184\n",
       "6. 0.06113550766184\n",
       "7. 0.06113550766184\n",
       "8. 0.06113550766184\n",
       "9. 0.06113550766184\n",
       "10. 0.06113550766184\n",
       "11. 0.06113550766184\n",
       "12. 0.06113550766184\n",
       "13. 0.06113550766184\n",
       "14. 0.06113550766184\n",
       "15. 0.06113550766184\n",
       "\n",
       "\n"
      ],
      "text/plain": [
       " [1] 0.06113551 0.06113551 0.06113551 0.06113551 0.06113551 0.06113551\n",
       " [7] 0.06113551 0.06113551 0.06113551 0.06113551 0.06113551 0.06113551\n",
       "[13] 0.06113551 0.06113551 0.06113551"
      ]
     },
     "metadata": {},
     "output_type": "display_data"
    }
   ],
   "source": [
    "m2$posterior_b1[129,]"
   ]
  },
  {
   "cell_type": "code",
   "execution_count": 17,
   "metadata": {},
   "outputs": [
    {
     "data": {
      "text/html": [
       "<style>\n",
       ".list-inline {list-style: none; margin:0; padding: 0}\n",
       ".list-inline>li {display: inline-block}\n",
       ".list-inline>li:not(:last-child)::after {content: \"\\00b7\"; padding: 0 .5ex}\n",
       "</style>\n",
       "<ol class=list-inline><li>-0.451579520293967</li><li>0.212362419670355</li><li>-0.23139926245904</li><li>1.29082044865503</li><li>-0.139192877987568</li><li>0.45860797023633</li><li>1.19081004850437</li><li>0.519507177038623</li><li>-0.444040958330359</li><li>0.552882389431176</li><li>1.02044255171292</li><li>-0.671814615437313</li><li>0.648295380611219</li><li>0.904728920517463</li><li>0.56318766496157</li></ol>\n"
      ],
      "text/latex": [
       "\\begin{enumerate*}\n",
       "\\item -0.451579520293967\n",
       "\\item 0.212362419670355\n",
       "\\item -0.23139926245904\n",
       "\\item 1.29082044865503\n",
       "\\item -0.139192877987568\n",
       "\\item 0.45860797023633\n",
       "\\item 1.19081004850437\n",
       "\\item 0.519507177038623\n",
       "\\item -0.444040958330359\n",
       "\\item 0.552882389431176\n",
       "\\item 1.02044255171292\n",
       "\\item -0.671814615437313\n",
       "\\item 0.648295380611219\n",
       "\\item 0.904728920517463\n",
       "\\item 0.56318766496157\n",
       "\\end{enumerate*}\n"
      ],
      "text/markdown": [
       "1. -0.451579520293967\n",
       "2. 0.212362419670355\n",
       "3. -0.23139926245904\n",
       "4. 1.29082044865503\n",
       "5. -0.139192877987568\n",
       "6. 0.45860797023633\n",
       "7. 1.19081004850437\n",
       "8. 0.519507177038623\n",
       "9. -0.444040958330359\n",
       "10. 0.552882389431176\n",
       "11. 1.02044255171292\n",
       "12. -0.671814615437313\n",
       "13. 0.648295380611219\n",
       "14. 0.904728920517463\n",
       "15. 0.56318766496157\n",
       "\n",
       "\n"
      ],
      "text/plain": [
       " [1] -0.4515795  0.2123624 -0.2313993  1.2908204 -0.1391929  0.4586080\n",
       " [7]  1.1908100  0.5195072 -0.4440410  0.5528824  1.0204426 -0.6718146\n",
       "[13]  0.6482954  0.9047289  0.5631877"
      ]
     },
     "metadata": {},
     "output_type": "display_data"
    }
   ],
   "source": [
    "true_coef[129,]"
   ]
  },
  {
   "cell_type": "markdown",
   "metadata": {},
   "source": [
    "I think the disagreement is understandable because the \"all shared\" prior model is very much mis-specified for these true coefficients."
   ]
  },
  {
   "cell_type": "markdown",
   "metadata": {},
   "source": [
    "**Notice previous notebook I made a mistake using the coefficient based on rescaled data,**"
   ]
  },
  {
   "cell_type": "code",
   "execution_count": 22,
   "metadata": {},
   "outputs": [],
   "source": [
    "wrong_b1 = d$rescale_coef(m2$posterior_b1)[130,]"
   ]
  },
  {
   "cell_type": "code",
   "execution_count": 23,
   "metadata": {},
   "outputs": [
    {
     "data": {
      "text/html": [
       "0.0986839903507364"
      ],
      "text/latex": [
       "0.0986839903507364"
      ],
      "text/markdown": [
       "0.0986839903507364"
      ],
      "text/plain": [
       "[1] 0.09868399"
      ]
     },
     "metadata": {},
     "output_type": "display_data"
    }
   ],
   "source": [
    "sum(diag(tcrossprod(wrong_b1)))/R"
   ]
  },
  {
   "cell_type": "markdown",
   "metadata": {},
   "source": [
    "This is inconsistent with estimated prior scalar because of the scale issue."
   ]
  }
 ],
 "metadata": {
  "kernelspec": {
   "display_name": "R",
   "language": "R",
   "name": "ir"
  },
  "language_info": {
   "codemirror_mode": "r",
   "file_extension": ".r",
   "mimetype": "text/x-r-source",
   "name": "R",
   "pygments_lexer": "r",
   "version": "3.6.3"
  }
 },
 "nbformat": 4,
 "nbformat_minor": 4
}
