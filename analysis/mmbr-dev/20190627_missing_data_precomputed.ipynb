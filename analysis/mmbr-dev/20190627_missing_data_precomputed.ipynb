{
 "cells": [
  {
   "cell_type": "markdown",
   "metadata": {
    "kernel": "SoS"
   },
   "source": [
    "# Analysis with precomputed quantatities + missing data in Y\n",
    "\n",
    "Here we analyze [an example of GTEx V7 cis-gene data-set](http://shiny.stephenslab.uchicago.edu/gaow/GTExV7/Multi_Tissues.ENSG00000145214.RDS)."
   ]
  },
  {
   "cell_type": "code",
   "execution_count": 1,
   "metadata": {
    "kernel": "R"
   },
   "outputs": [],
   "source": [
    "raw_data = readRDS('Multi_Tissues.ENSG00000145214.RDS')"
   ]
  },
  {
   "cell_type": "code",
   "execution_count": 2,
   "metadata": {
    "kernel": "R"
   },
   "outputs": [
    {
     "data": {
      "text/html": [
       "<ol class=list-inline>\n",
       "\t<li>'X'</li>\n",
       "\t<li>'y'</li>\n",
       "\t<li>'Z'</li>\n",
       "\t<li>'y_res'</li>\n",
       "\t<li>'chrom'</li>\n",
       "\t<li>'pos'</li>\n",
       "</ol>\n"
      ],
      "text/latex": [
       "\\begin{enumerate*}\n",
       "\\item 'X'\n",
       "\\item 'y'\n",
       "\\item 'Z'\n",
       "\\item 'y\\_res'\n",
       "\\item 'chrom'\n",
       "\\item 'pos'\n",
       "\\end{enumerate*}\n"
      ],
      "text/markdown": [
       "1. 'X'\n",
       "2. 'y'\n",
       "3. 'Z'\n",
       "4. 'y_res'\n",
       "5. 'chrom'\n",
       "6. 'pos'\n",
       "\n",
       "\n"
      ],
      "text/plain": [
       "[1] \"X\"     \"y\"     \"Z\"     \"y_res\" \"chrom\" \"pos\"  "
      ]
     },
     "metadata": {},
     "output_type": "display_data"
    }
   ],
   "source": [
    "names(raw_data)"
   ]
  },
  {
   "cell_type": "code",
   "execution_count": 3,
   "metadata": {
    "kernel": "R"
   },
   "outputs": [
    {
     "data": {
      "text/html": [
       "<ol class=list-inline>\n",
       "\t<li>838</li>\n",
       "\t<li>7962</li>\n",
       "</ol>\n"
      ],
      "text/latex": [
       "\\begin{enumerate*}\n",
       "\\item 838\n",
       "\\item 7962\n",
       "\\end{enumerate*}\n"
      ],
      "text/markdown": [
       "1. 838\n",
       "2. 7962\n",
       "\n",
       "\n"
      ],
      "text/plain": [
       "[1]  838 7962"
      ]
     },
     "metadata": {},
     "output_type": "display_data"
    }
   ],
   "source": [
    "dim(raw_data$X)"
   ]
  },
  {
   "cell_type": "code",
   "execution_count": 4,
   "metadata": {
    "kernel": "R"
   },
   "outputs": [
    {
     "data": {
      "text/html": [
       "<ol class=list-inline>\n",
       "\t<li>838</li>\n",
       "\t<li>49</li>\n",
       "</ol>\n"
      ],
      "text/latex": [
       "\\begin{enumerate*}\n",
       "\\item 838\n",
       "\\item 49\n",
       "\\end{enumerate*}\n"
      ],
      "text/markdown": [
       "1. 838\n",
       "2. 49\n",
       "\n",
       "\n"
      ],
      "text/plain": [
       "[1] 838  49"
      ]
     },
     "metadata": {},
     "output_type": "display_data"
    }
   ],
   "source": [
    "dim(raw_data$y_res)"
   ]
  },
  {
   "cell_type": "code",
   "execution_count": 5,
   "metadata": {
    "kernel": "R"
   },
   "outputs": [
    {
     "data": {
      "text/html": [
       "<table>\n",
       "<caption>A matrix: 6 × 49 of type dbl[,49]</caption>\n",
       "<thead>\n",
       "\t<tr><th></th><th scope=col>Adipose_Subcutaneous</th><th scope=col>Adipose_Visceral_Omentum</th><th scope=col>Adrenal_Gland</th><th scope=col>Artery_Aorta</th><th scope=col>Artery_Coronary</th><th scope=col>Artery_Tibial</th><th scope=col>Brain_Amygdala</th><th scope=col>Brain_Anterior_cingulate_cortex_BA24</th><th scope=col>Brain_Caudate_basal_ganglia</th><th scope=col>Brain_Cerebellar_Hemisphere</th><th scope=col>⋯</th><th scope=col>Skin_Not_Sun_Exposed_Suprapubic</th><th scope=col>Skin_Sun_Exposed_Lower_leg</th><th scope=col>Small_Intestine_Terminal_Ileum</th><th scope=col>Spleen</th><th scope=col>Stomach</th><th scope=col>Testis</th><th scope=col>Thyroid</th><th scope=col>Uterus</th><th scope=col>Vagina</th><th scope=col>Whole_Blood</th></tr>\n",
       "</thead>\n",
       "<tbody>\n",
       "\t<tr><th scope=row>GTEX-1117F</th><td> 0.02125546</td><td> 0.31798809</td><td>          NA</td><td>         NA</td><td> 0.2393113</td><td>-1.04494665</td><td>NA</td><td>NA</td><td>NA</td><td>NA</td><td>⋯</td><td> 0.15067370</td><td>          NA</td><td>         NA</td><td>        NA</td><td>         NA</td><td>        NA</td><td>         NA</td><td>0.01039438</td><td>0.722842</td><td>         NA</td></tr>\n",
       "\t<tr><th scope=row>GTEX-111CU</th><td>-0.39699365</td><td>-0.64860112</td><td>-0.005019028</td><td>         NA</td><td>        NA</td><td>         NA</td><td>NA</td><td>NA</td><td>NA</td><td>NA</td><td>⋯</td><td> 0.63489211</td><td>          NA</td><td>0.001705089</td><td>-0.2423771</td><td>-0.23110084</td><td>-0.8254563</td><td>-0.72159107</td><td>        NA</td><td>      NA</td><td>         NA</td></tr>\n",
       "\t<tr><th scope=row>GTEX-111FC</th><td> 0.12702099</td><td>         NA</td><td>          NA</td><td>         NA</td><td>        NA</td><td>-0.11075103</td><td>NA</td><td>NA</td><td>NA</td><td>NA</td><td>⋯</td><td>-0.27617936</td><td> 0.003240822</td><td>         NA</td><td>-0.1753999</td><td>         NA</td><td> 0.3182093</td><td>-0.44989562</td><td>        NA</td><td>      NA</td><td>         NA</td></tr>\n",
       "\t<tr><th scope=row>GTEX-111VG</th><td>-0.56557561</td><td>         NA</td><td>          NA</td><td>         NA</td><td>        NA</td><td>         NA</td><td>NA</td><td>NA</td><td>NA</td><td>NA</td><td>⋯</td><td>-0.18524402</td><td>-0.370778712</td><td>         NA</td><td>        NA</td><td>         NA</td><td>-0.5285808</td><td>-0.47352474</td><td>        NA</td><td>      NA</td><td>         NA</td></tr>\n",
       "\t<tr><th scope=row>GTEX-111YS</th><td>-0.70396973</td><td>-0.19603980</td><td> 0.245463191</td><td> 0.04715705</td><td>        NA</td><td>-0.07033531</td><td>NA</td><td>NA</td><td>NA</td><td>NA</td><td>⋯</td><td>-0.30672580</td><td>          NA</td><td>0.492145996</td><td>        NA</td><td>-0.08577711</td><td>-0.4095227</td><td>-0.47541942</td><td>        NA</td><td>      NA</td><td>-1.06802847</td></tr>\n",
       "\t<tr><th scope=row>GTEX-1122O</th><td> 0.04918042</td><td>-0.08174026</td><td> 0.365081493</td><td>-0.07085276</td><td>-0.1343889</td><td> 0.40367406</td><td>NA</td><td>NA</td><td>NA</td><td>NA</td><td>⋯</td><td>-0.09075013</td><td> 0.394240061</td><td>0.404058046</td><td>-0.2285992</td><td> 0.14804767</td><td>        NA</td><td>-0.02374288</td><td>        NA</td><td>      NA</td><td> 0.08137622</td></tr>\n",
       "</tbody>\n",
       "</table>\n"
      ],
      "text/latex": [
       "A matrix: 6 × 49 of type dbl{[},49{]}\n",
       "\\begin{tabular}{r|lllllllllllllllllllllllllllllllllllllllllllllllll}\n",
       "  & Adipose\\_Subcutaneous & Adipose\\_Visceral\\_Omentum & Adrenal\\_Gland & Artery\\_Aorta & Artery\\_Coronary & Artery\\_Tibial & Brain\\_Amygdala & Brain\\_Anterior\\_cingulate\\_cortex\\_BA24 & Brain\\_Caudate\\_basal\\_ganglia & Brain\\_Cerebellar\\_Hemisphere & Brain\\_Cerebellum & Brain\\_Cortex & Brain\\_Frontal\\_Cortex\\_BA9 & Brain\\_Hippocampus & Brain\\_Hypothalamus & Brain\\_Nucleus\\_accumbens\\_basal\\_ganglia & Brain\\_Putamen\\_basal\\_ganglia & Brain\\_Spinal\\_cord\\_cervical\\_c-1 & Brain\\_Substantia\\_nigra & Breast\\_Mammary\\_Tissue & Cells\\_Cultured\\_fibroblasts & Cells\\_EBV-transformed\\_lymphocytes & Colon\\_Sigmoid & Colon\\_Transverse & Esophagus\\_Gastroesophageal\\_Junction & Esophagus\\_Mucosa & Esophagus\\_Muscularis & Heart\\_Atrial\\_Appendage & Heart\\_Left\\_Ventricle & Kidney\\_Cortex & Liver & Lung & Minor\\_Salivary\\_Gland & Muscle\\_Skeletal & Nerve\\_Tibial & Ovary & Pancreas & Pituitary & Prostate & Skin\\_Not\\_Sun\\_Exposed\\_Suprapubic & Skin\\_Sun\\_Exposed\\_Lower\\_leg & Small\\_Intestine\\_Terminal\\_Ileum & Spleen & Stomach & Testis & Thyroid & Uterus & Vagina & Whole\\_Blood\\\\\n",
       "\\hline\n",
       "\tGTEX-1117F &  0.02125546 &  0.31798809 &           NA &          NA &  0.2393113 & -1.04494665 & NA & NA & NA & NA &         NA &  0.7918744 & NA & NA & NA & NA & NA & NA & NA & -0.3934271 &         NA &         NA &         NA &          NA &         NA &          NA &          NA & -0.02453947 &          NA & NA & NA &           NA &  1.2421366 & -0.6738063 &         NA & NA &         NA & NA &         NA &  0.15067370 &           NA &          NA &         NA &          NA &         NA &          NA & 0.01039438 & 0.722842 &          NA\\\\\n",
       "\tGTEX-111CU & -0.39699365 & -0.64860112 & -0.005019028 &          NA &         NA &          NA & NA & NA & NA & NA &         NA &         NA & NA & NA & NA & NA & NA & NA & NA &         NA &         NA &         NA & -0.3155124 & -0.02109447 & 0.26019521 &  0.02712545 &  0.09807056 &          NA &          NA & NA & NA & -0.371947165 &         NA &  0.8655197 & -0.1020864 & NA &  0.2920283 & NA &  0.3176461 &  0.63489211 &           NA & 0.001705089 & -0.2423771 & -0.23110084 & -0.8254563 & -0.72159107 &         NA &       NA &          NA\\\\\n",
       "\tGTEX-111FC &  0.12702099 &          NA &           NA &          NA &         NA & -0.11075103 & NA & NA & NA & NA & -0.1021447 & -0.2440198 & NA & NA & NA & NA & NA & NA & NA &         NA &         NA &         NA &         NA &          NA &         NA &          NA &          NA & -0.22391485 & -0.03675696 & NA & NA & -0.025448277 & -0.1872312 &  0.2460561 &  0.1574532 & NA &         NA & NA &  0.1370401 & -0.27617936 &  0.003240822 &          NA & -0.1753999 &          NA &  0.3182093 & -0.44989562 &         NA &       NA &          NA\\\\\n",
       "\tGTEX-111VG & -0.56557561 &          NA &           NA &          NA &         NA &          NA & NA & NA & NA & NA &         NA &         NA & NA & NA & NA & NA & NA & NA & NA &         NA & 0.09961956 &         NA &         NA & -0.27089059 &         NA &          NA &          NA & -0.10707680 &          NA & NA & NA & -1.154605791 &         NA &  0.6104711 & -0.2858555 & NA &         NA & NA &         NA & -0.18524402 & -0.370778712 &          NA &         NA &          NA & -0.5285808 & -0.47352474 &         NA &       NA &          NA\\\\\n",
       "\tGTEX-111YS & -0.70396973 & -0.19603980 &  0.245463191 &  0.04715705 &         NA & -0.07033531 & NA & NA & NA & NA &         NA &         NA & NA & NA & NA & NA & NA & NA & NA & -0.3538216 & 0.24423667 &         NA &  0.5027920 &  0.69374840 & 0.10919220 & -0.78615321 & -0.02192047 & -0.22765783 & -0.07094712 & NA & NA & -0.102402526 &         NA &  0.2520191 & -0.4933931 & NA &  0.2893830 & NA & -0.2140023 & -0.30672580 &           NA & 0.492145996 &         NA & -0.08577711 & -0.4095227 & -0.47541942 &         NA &       NA & -1.06802847\\\\\n",
       "\tGTEX-1122O &  0.04918042 & -0.08174026 &  0.365081493 & -0.07085276 & -0.1343889 &  0.40367406 & NA & NA & NA & NA &         NA &         NA & NA & NA & NA & NA & NA & NA & NA & -0.4089214 & 0.69681141 & -0.1788466 &  0.3089849 &  0.76392325 & 0.03713152 &  0.25344636 &  0.09297361 & -0.20949632 &  0.31723787 & NA & NA &  0.005828658 &         NA &  0.4618318 &         NA & NA & -0.4631444 & NA &         NA & -0.09075013 &  0.394240061 & 0.404058046 & -0.2285992 &  0.14804767 &         NA & -0.02374288 &         NA &       NA &  0.08137622\\\\\n",
       "\\end{tabular}\n"
      ],
      "text/markdown": [
       "\n",
       "A matrix: 6 × 49 of type dbl[,49]\n",
       "\n",
       "| <!--/--> | Adipose_Subcutaneous | Adipose_Visceral_Omentum | Adrenal_Gland | Artery_Aorta | Artery_Coronary | Artery_Tibial | Brain_Amygdala | Brain_Anterior_cingulate_cortex_BA24 | Brain_Caudate_basal_ganglia | Brain_Cerebellar_Hemisphere | ⋯ | Skin_Not_Sun_Exposed_Suprapubic | Skin_Sun_Exposed_Lower_leg | Small_Intestine_Terminal_Ileum | Spleen | Stomach | Testis | Thyroid | Uterus | Vagina | Whole_Blood |\n",
       "|---|---|---|---|---|---|---|---|---|---|---|---|---|---|---|---|---|---|---|---|---|---|\n",
       "| GTEX-1117F |  0.02125546 |  0.31798809 |           NA |          NA |  0.2393113 | -1.04494665 | NA | NA | NA | NA | ⋯ |  0.15067370 |           NA |          NA |         NA |          NA |         NA |          NA | 0.01039438 | 0.722842 |          NA |\n",
       "| GTEX-111CU | -0.39699365 | -0.64860112 | -0.005019028 |          NA |         NA |          NA | NA | NA | NA | NA | ⋯ |  0.63489211 |           NA | 0.001705089 | -0.2423771 | -0.23110084 | -0.8254563 | -0.72159107 |         NA |       NA |          NA |\n",
       "| GTEX-111FC |  0.12702099 |          NA |           NA |          NA |         NA | -0.11075103 | NA | NA | NA | NA | ⋯ | -0.27617936 |  0.003240822 |          NA | -0.1753999 |          NA |  0.3182093 | -0.44989562 |         NA |       NA |          NA |\n",
       "| GTEX-111VG | -0.56557561 |          NA |           NA |          NA |         NA |          NA | NA | NA | NA | NA | ⋯ | -0.18524402 | -0.370778712 |          NA |         NA |          NA | -0.5285808 | -0.47352474 |         NA |       NA |          NA |\n",
       "| GTEX-111YS | -0.70396973 | -0.19603980 |  0.245463191 |  0.04715705 |         NA | -0.07033531 | NA | NA | NA | NA | ⋯ | -0.30672580 |           NA | 0.492145996 |         NA | -0.08577711 | -0.4095227 | -0.47541942 |         NA |       NA | -1.06802847 |\n",
       "| GTEX-1122O |  0.04918042 | -0.08174026 |  0.365081493 | -0.07085276 | -0.1343889 |  0.40367406 | NA | NA | NA | NA | ⋯ | -0.09075013 |  0.394240061 | 0.404058046 | -0.2285992 |  0.14804767 |         NA | -0.02374288 |         NA |       NA |  0.08137622 |\n",
       "\n"
      ],
      "text/plain": [
       "           Adipose_Subcutaneous Adipose_Visceral_Omentum Adrenal_Gland\n",
       "GTEX-1117F  0.02125546           0.31798809                        NA \n",
       "GTEX-111CU -0.39699365          -0.64860112              -0.005019028 \n",
       "GTEX-111FC  0.12702099                   NA                        NA \n",
       "GTEX-111VG -0.56557561                   NA                        NA \n",
       "GTEX-111YS -0.70396973          -0.19603980               0.245463191 \n",
       "GTEX-1122O  0.04918042          -0.08174026               0.365081493 \n",
       "           Artery_Aorta Artery_Coronary Artery_Tibial Brain_Amygdala\n",
       "GTEX-1117F          NA   0.2393113      -1.04494665   NA            \n",
       "GTEX-111CU          NA          NA               NA   NA            \n",
       "GTEX-111FC          NA          NA      -0.11075103   NA            \n",
       "GTEX-111VG          NA          NA               NA   NA            \n",
       "GTEX-111YS  0.04715705          NA      -0.07033531   NA            \n",
       "GTEX-1122O -0.07085276  -0.1343889       0.40367406   NA            \n",
       "           Brain_Anterior_cingulate_cortex_BA24 Brain_Caudate_basal_ganglia\n",
       "GTEX-1117F NA                                   NA                         \n",
       "GTEX-111CU NA                                   NA                         \n",
       "GTEX-111FC NA                                   NA                         \n",
       "GTEX-111VG NA                                   NA                         \n",
       "GTEX-111YS NA                                   NA                         \n",
       "GTEX-1122O NA                                   NA                         \n",
       "           Brain_Cerebellar_Hemisphere ⋯ Skin_Not_Sun_Exposed_Suprapubic\n",
       "GTEX-1117F NA                          ⋯  0.15067370                    \n",
       "GTEX-111CU NA                          ⋯  0.63489211                    \n",
       "GTEX-111FC NA                          ⋯ -0.27617936                    \n",
       "GTEX-111VG NA                          ⋯ -0.18524402                    \n",
       "GTEX-111YS NA                          ⋯ -0.30672580                    \n",
       "GTEX-1122O NA                          ⋯ -0.09075013                    \n",
       "           Skin_Sun_Exposed_Lower_leg Small_Intestine_Terminal_Ileum Spleen    \n",
       "GTEX-1117F           NA                        NA                            NA\n",
       "GTEX-111CU           NA               0.001705089                    -0.2423771\n",
       "GTEX-111FC  0.003240822                        NA                    -0.1753999\n",
       "GTEX-111VG -0.370778712                        NA                            NA\n",
       "GTEX-111YS           NA               0.492145996                            NA\n",
       "GTEX-1122O  0.394240061               0.404058046                    -0.2285992\n",
       "           Stomach     Testis     Thyroid     Uterus     Vagina   Whole_Blood\n",
       "GTEX-1117F          NA         NA          NA 0.01039438 0.722842          NA\n",
       "GTEX-111CU -0.23110084 -0.8254563 -0.72159107         NA       NA          NA\n",
       "GTEX-111FC          NA  0.3182093 -0.44989562         NA       NA          NA\n",
       "GTEX-111VG          NA -0.5285808 -0.47352474         NA       NA          NA\n",
       "GTEX-111YS -0.08577711 -0.4095227 -0.47541942         NA       NA -1.06802847\n",
       "GTEX-1122O  0.14804767         NA -0.02374288         NA       NA  0.08137622"
      ]
     },
     "metadata": {},
     "output_type": "display_data"
    }
   ],
   "source": [
    "head(raw_data$y_res)"
   ]
  },
  {
   "cell_type": "markdown",
   "metadata": {
    "kernel": "SoS"
   },
   "source": [
    "## Initialize data object"
   ]
  },
  {
   "cell_type": "code",
   "execution_count": 6,
   "metadata": {
    "kernel": "R"
   },
   "outputs": [],
   "source": [
    "data = mmbr:::DenseData$new(raw_data$X, raw_data$y_res)"
   ]
  },
  {
   "cell_type": "markdown",
   "metadata": {
    "kernel": "SoS"
   },
   "source": [
    "## Setting up MASH object"
   ]
  },
  {
   "cell_type": "code",
   "execution_count": 7,
   "metadata": {
    "kernel": "R"
   },
   "outputs": [],
   "source": [
    "residual_covar = diag(apply(raw_data$y_res, 2, function(x) var(x, na.rm=T)))"
   ]
  },
  {
   "cell_type": "code",
   "execution_count": 8,
   "metadata": {
    "kernel": "R"
   },
   "outputs": [],
   "source": [
    "prior_mats = mmbr:::create_cov_canonical(ncol(raw_data$y_res), singletons=F)"
   ]
  },
  {
   "cell_type": "code",
   "execution_count": 9,
   "metadata": {
    "kernel": "R"
   },
   "outputs": [],
   "source": [
    "scaling = c(0.05,0.15,0.25,0.4) # FIXME: use auto-grid"
   ]
  },
  {
   "cell_type": "code",
   "execution_count": 13,
   "metadata": {
    "kernel": "R"
   },
   "outputs": [
    {
     "name": "stdout",
     "output_type": "stream",
     "text": [
      "List of 5\n",
      " $ : num [1:49, 1:49] 1 0 0 0 0 0 0 0 0 0 ...\n",
      " $ : num [1:49, 1:49] 1 0.25 0.25 0.25 0.25 0.25 0.25 0.25 0.25 0.25 ...\n",
      " $ : num [1:49, 1:49] 1 0.5 0.5 0.5 0.5 0.5 0.5 0.5 0.5 0.5 ...\n",
      " $ : num [1:49, 1:49] 1 0.75 0.75 0.75 0.75 0.75 0.75 0.75 0.75 0.75 ...\n",
      " $ : num [1:49, 1:49] 1 1 1 1 1 1 1 1 1 1 ...\n"
     ]
    }
   ],
   "source": [
    "str(prior_mats)"
   ]
  },
  {
   "cell_type": "code",
   "execution_count": 15,
   "metadata": {
    "kernel": "R"
   },
   "outputs": [
    {
     "name": "stdout",
     "output_type": "stream",
     "text": [
      "Classes 'DenseData', 'R6' <DenseData>\n",
      "  Public:\n",
      "    add_to_residual: function (value) \n",
      "    clone: function (deep = FALSE) \n",
      "    compute_MXt: function (M) \n",
      "    compute_residual: function (fitted) \n",
      "    compute_Xb: function (b) \n",
      "    initialize: function (X, Y, center = TRUE, scale = TRUE) \n",
      "    n_condition: active binding\n",
      "    n_effect: active binding\n",
      "    n_sample: active binding\n",
      "    remove_from_residual: function (value) \n",
      "    rescale_coef: function (b) \n",
      "    X: active binding\n",
      "    X_has_missing: active binding\n",
      "    X2_sum: active binding\n",
      "    XtR: active binding\n",
      "    XtX: active binding\n",
      "    XtY: active binding\n",
      "    Y: active binding\n",
      "    Y_has_missing: active binding\n",
      "  Private:\n",
      "    .X: -0.156460235018997 -0.156460235018997 -0.156460235018997 ...\n",
      "    .Y: 0.0212554552618386 -0.396993654855127 0.127020987443375  ...\n",
      "    .Y_has_missing: TRUE\n",
      "    cm: 0.0238948630831407 0.03125 0.0323353769671092 0.21771036 ...\n",
      "    csd: 0.152721636141217 0.173472166622178 0.176677642549131 0. ...\n",
      "    d: 708.232129614059 672.955528846154 678.637996254244 598.7 ...\n",
      "    J: 7962\n",
      "    N: 838\n",
      "    R: 49\n",
      "    residual: 0.0212554552618386 -0.396993654855127 0.127020987443375  ...\n",
      "    standardize: function (center, scale) \n",
      "    Y_mean: 5.89111793866254e-17 4.89245652401156e-17 -1.23831709073 ...\n",
      "    Y_non_missing: TRUE TRUE TRUE TRUE TRUE TRUE TRUE TRUE TRUE TRUE TRUE T ... \n"
     ]
    }
   ],
   "source": [
    "str(data)"
   ]
  },
  {
   "cell_type": "markdown",
   "metadata": {
    "kernel": "R"
   },
   "source": [
    "Now using EE model,"
   ]
  },
  {
   "cell_type": "code",
   "execution_count": 16,
   "metadata": {
    "kernel": "R"
   },
   "outputs": [],
   "source": [
    "mash_init = mmbr:::MashInitializer$new(prior_mats, scaling, alpha = 0)"
   ]
  },
  {
   "cell_type": "code",
   "execution_count": 17,
   "metadata": {
    "kernel": "R"
   },
   "outputs": [],
   "source": [
    "mash_init$precompute_cov_matrices(data, residual_covar)"
   ]
  },
  {
   "cell_type": "markdown",
   "metadata": {
    "kernel": "SoS"
   },
   "source": [
    "The line above currently takes 3m40s. **It is 2.5GB on disk in RDS format**. This is to compute for $R = 49, J = 7962, P = 21$. **$P$ is 21 for null weight plus at most 20 other components**. I saved it to disk,"
   ]
  },
  {
   "cell_type": "code",
   "execution_count": 19,
   "metadata": {
    "kernel": "R"
   },
   "outputs": [],
   "source": [
    "saveRDS(mash_init, 'mash_init.rds')"
   ]
  },
  {
   "cell_type": "markdown",
   "metadata": {
    "kernel": "SoS"
   },
   "source": [
    "```\n",
    "-rw-r--r-- 1 gaow gaow  2.5G May 12 07:41 mash_init.rds\n",
    "```\n",
    "\n",
    "And test the memory it takes to keep it -- 7.42GB.\n",
    "\n",
    "```bash\n",
    "python ~/GIT/github/misc/monitor/monitor.py Rscript -e \"mash_init = readRDS('mash_init.rds')\"\n",
    "```\n",
    "\n",
    "```\n",
    "time elapsed: 25.18s\n",
    "peak first occurred: 15.40s\n",
    "peak last occurred: 24.65s\n",
    "max vms_memory: 7.42GB\n",
    "max rss_memory: 7.23GB\n",
    "memory check interval: 1s\n",
    "return code: 0\n",
    "```"
   ]
  },
  {
   "cell_type": "markdown",
   "metadata": {
    "kernel": "SoS"
   },
   "source": [
    " ## Fit one MASH regression model"
   ]
  },
  {
   "cell_type": "code",
   "execution_count": 20,
   "metadata": {
    "kernel": "R"
   },
   "outputs": [],
   "source": [
    "mmbr_obj = mmbr:::MashRegression$new(ncol(raw_data$X), residual_covar, mash_init)"
   ]
  },
  {
   "cell_type": "code",
   "execution_count": null,
   "metadata": {
    "kernel": "R"
   },
   "outputs": [],
   "source": [
    "mmbr_obj$fit(data)"
   ]
  },
  {
   "cell_type": "markdown",
   "metadata": {
    "kernel": "SoS"
   },
   "source": [
    "The step above now take 2 min. This is for one iteration. `MV-SuSiE` computation time will depend on how many iterations there are, as we will find out next. "
   ]
  },
  {
   "cell_type": "markdown",
   "metadata": {
    "kernel": "SoS"
   },
   "source": [
    "## Fit MV-SuSiE model"
   ]
  },
  {
   "cell_type": "code",
   "execution_count": null,
   "metadata": {
    "kernel": "R"
   },
   "outputs": [],
   "source": [
    "#mash_init = readRDS('mash_init.rds')"
   ]
  },
  {
   "cell_type": "code",
   "execution_count": null,
   "metadata": {
    "kernel": "R"
   },
   "outputs": [],
   "source": [
    "res = mmbr::susie(raw_data$X,raw_data$y_res,\n",
    "                  L=10,prior_variance=mash_init,\n",
    "                  compute_objective=FALSE)"
   ]
  },
  {
   "cell_type": "markdown",
   "metadata": {
    "kernel": "SoS"
   },
   "source": [
    "Code above takes 25 minutes to complete for L=5, >1hr for L=10."
   ]
  },
  {
   "cell_type": "code",
   "execution_count": null,
   "metadata": {
    "kernel": "R"
   },
   "outputs": [],
   "source": [
    "saveRDS(res, \"mmbr_res_10.rds\")"
   ]
  },
  {
   "cell_type": "markdown",
   "metadata": {
    "kernel": "SoS"
   },
   "source": [
    "## Visualize results"
   ]
  },
  {
   "cell_type": "code",
   "execution_count": null,
   "metadata": {
    "kernel": "R"
   },
   "outputs": [],
   "source": [
    "p = mmbr::mmbr_plot(res)"
   ]
  },
  {
   "cell_type": "code",
   "execution_count": null,
   "metadata": {
    "kernel": "R"
   },
   "outputs": [],
   "source": [
    "pdf('mmbr_plot_ENSG00000145214.pdf', width = 20, height = 20)\n",
    "print(p$plot)\n",
    "dev.off()"
   ]
  },
  {
   "cell_type": "code",
   "execution_count": null,
   "metadata": {
    "kernel": "R"
   },
   "outputs": [],
   "source": [
    "pdf('susie_plot_ENSG00000145214.pdf', width=9, height=5)\n",
    "susieR::susie_plot(res,y='PIP', main = 'Default SuSiE plot for cross-condition PIP', xlab = 'SNP positions', add_legend = T)\n",
    "dev.off()"
   ]
  },
  {
   "cell_type": "code",
   "execution_count": null,
   "metadata": {
    "kernel": "SoS"
   },
   "outputs": [],
   "source": [
    "%preview susie_plot_ENSG00000145214.pdf -s png --dpi 150"
   ]
  },
  {
   "cell_type": "code",
   "execution_count": null,
   "metadata": {
    "kernel": "SoS"
   },
   "outputs": [],
   "source": [
    "%preview mmbr_plot_ENSG00000145214.pdf -s png --dpi 150"
   ]
  }
 ],
 "metadata": {
  "kernelspec": {
   "display_name": "SoS",
   "language": "sos",
   "name": "sos"
  },
  "language_info": {
   "codemirror_mode": "sos",
   "file_extension": ".sos",
   "mimetype": "text/x-sos",
   "name": "sos",
   "nbconvert_exporter": "sos_notebook.converter.SoS_Exporter",
   "pygments_lexer": "sos"
  },
  "sos": {
   "kernels": [
    [
     "R",
     "ir",
     "R",
     "#DCDCDA"
    ],
    [
     "SoS",
     "sos",
     "",
     ""
    ]
   ],
   "version": "0.21.0"
  }
 },
 "nbformat": 4,
 "nbformat_minor": 4
}
