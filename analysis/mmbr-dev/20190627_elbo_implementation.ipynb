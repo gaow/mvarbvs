{
 "cells": [
  {
   "cell_type": "markdown",
   "metadata": {},
   "source": [
    "# ELBO implementation and comparisons\n",
    "\n",
    "I have implemented ELBO for M&M model based on write up in [this document](https://www.overleaf.com/project/5bd111aaa3ec8118d7b1cfa8). See Section 8 for derivation details; also Section B for an independent re-derivation from Yuxin Zou in checking my work.\n",
    "\n",
    "(the analytic form are not identical due to different simplifications but I coded both up and checked they agree)."
   ]
  },
  {
   "cell_type": "markdown",
   "metadata": {},
   "source": [
    "## `susieR` implementation in univariate case\n",
    "\n",
    "Here I simulate one trait and run with `susieR::susie` as well as `mmbr::susie` to check if the elbo agree."
   ]
  },
  {
   "cell_type": "code",
   "execution_count": 1,
   "metadata": {},
   "outputs": [
    {
     "name": "stderr",
     "output_type": "stream",
     "text": [
      "Loading required package: mashr\n",
      "Loading required package: ashr\n"
     ]
    }
   ],
   "source": [
    "library(mmbr)\n",
    "set.seed(2)"
   ]
  },
  {
   "cell_type": "markdown",
   "metadata": {},
   "source": [
    "I pick `L=5` and simulate a univariate trait,"
   ]
  },
  {
   "cell_type": "code",
   "execution_count": 2,
   "metadata": {},
   "outputs": [],
   "source": [
    "L = 5\n",
    "dat = mmbr_sim1(r=1)"
   ]
  },
  {
   "cell_type": "markdown",
   "metadata": {},
   "source": [
    "Then run SuSiE and get the ELBO,"
   ]
  },
  {
   "cell_type": "code",
   "execution_count": 3,
   "metadata": {},
   "outputs": [],
   "source": [
    "res = susieR::susie(dat$X,dat$y,L=L,scaled_prior_variance=0.2,estimate_residual_variance=F,estimate_prior_variance=F)"
   ]
  },
  {
   "cell_type": "code",
   "execution_count": 4,
   "metadata": {},
   "outputs": [
    {
     "data": {
      "text/html": [
       "<ol class=list-inline>\n",
       "\t<li>-429.40495176513</li>\n",
       "\t<li>-409.549300389438</li>\n",
       "\t<li>-407.707739710942</li>\n",
       "\t<li>-407.7058409462</li>\n",
       "\t<li>-407.70583907902</li>\n",
       "</ol>\n"
      ],
      "text/latex": [
       "\\begin{enumerate*}\n",
       "\\item -429.40495176513\n",
       "\\item -409.549300389438\n",
       "\\item -407.707739710942\n",
       "\\item -407.7058409462\n",
       "\\item -407.70583907902\n",
       "\\end{enumerate*}\n"
      ],
      "text/markdown": [
       "1. -429.40495176513\n",
       "2. -409.549300389438\n",
       "3. -407.707739710942\n",
       "4. -407.7058409462\n",
       "5. -407.70583907902\n",
       "\n",
       "\n"
      ],
      "text/plain": [
       "[1] -429.4050 -409.5493 -407.7077 -407.7058 -407.7058"
      ]
     },
     "metadata": {},
     "output_type": "display_data"
    }
   ],
   "source": [
    "res$elbo"
   ]
  },
  {
   "cell_type": "code",
   "execution_count": 5,
   "metadata": {},
   "outputs": [
    {
     "data": {
      "text/html": [
       "<ol class=list-inline>\n",
       "\t<li>-405.95129176068</li>\n",
       "\t<li>-305.537422264398</li>\n",
       "\t<li>-301.451620424532</li>\n",
       "\t<li>-301.435227591177</li>\n",
       "\t<li>-301.435194084957</li>\n",
       "</ol>\n"
      ],
      "text/latex": [
       "\\begin{enumerate*}\n",
       "\\item -405.95129176068\n",
       "\\item -305.537422264398\n",
       "\\item -301.451620424532\n",
       "\\item -301.435227591177\n",
       "\\item -301.435194084957\n",
       "\\end{enumerate*}\n"
      ],
      "text/markdown": [
       "1. -405.95129176068\n",
       "2. -305.537422264398\n",
       "3. -301.451620424532\n",
       "4. -301.435227591177\n",
       "5. -301.435194084957\n",
       "\n",
       "\n"
      ],
      "text/plain": [
       "[1] -405.9513 -305.5374 -301.4516 -301.4352 -301.4352"
      ]
     },
     "metadata": {},
     "output_type": "display_data"
    }
   ],
   "source": [
    "res = susieR::susie(dat$X,dat$y,L=L,scaled_prior_variance=0.2,estimate_residual_variance=T,estimate_prior_variance=F)\n",
    "res$elbo"
   ]
  },
  {
   "cell_type": "code",
   "execution_count": 6,
   "metadata": {},
   "outputs": [
    {
     "data": {
      "text/html": [
       "<ol class=list-inline>\n",
       "\t<li>-404.317496820361</li>\n",
       "\t<li>-355.288104606139</li>\n",
       "\t<li>-299.920961061546</li>\n",
       "\t<li>-299.335726585569</li>\n",
       "\t<li>-299.335132481419</li>\n",
       "</ol>\n"
      ],
      "text/latex": [
       "\\begin{enumerate*}\n",
       "\\item -404.317496820361\n",
       "\\item -355.288104606139\n",
       "\\item -299.920961061546\n",
       "\\item -299.335726585569\n",
       "\\item -299.335132481419\n",
       "\\end{enumerate*}\n"
      ],
      "text/markdown": [
       "1. -404.317496820361\n",
       "2. -355.288104606139\n",
       "3. -299.920961061546\n",
       "4. -299.335726585569\n",
       "5. -299.335132481419\n",
       "\n",
       "\n"
      ],
      "text/plain": [
       "[1] -404.3175 -355.2881 -299.9210 -299.3357 -299.3351"
      ]
     },
     "metadata": {},
     "output_type": "display_data"
    }
   ],
   "source": [
    "res = susieR::susie(dat$X,dat$y,L=L,scaled_prior_variance=0.2,estimate_residual_variance=T,estimate_prior_variance=T)\n",
    "res$elbo"
   ]
  },
  {
   "cell_type": "markdown",
   "metadata": {},
   "source": [
    "## Compare `mmbr`'s Bayesian multivariate regression module with SuSiE"
   ]
  },
  {
   "cell_type": "markdown",
   "metadata": {},
   "source": [
    "I have implemented the multiple regression [in this class in `mmbr` package](https://github.com/gaow/mmbr/blob/master/R/bayesian_multiple_regression.R). On the `mmbr` interface this is triggered by setting prior `V` as a scalar and make input `Y` a one column matrix,"
   ]
  },
  {
   "cell_type": "code",
   "execution_count": 7,
   "metadata": {},
   "outputs": [
    {
     "data": {
      "text/html": [
       "<ol class=list-inline>\n",
       "\t<li>-429.40495176513</li>\n",
       "\t<li>-409.549300389436</li>\n",
       "\t<li>-407.707739710942</li>\n",
       "\t<li>-407.7058409462</li>\n",
       "\t<li>-407.70583907902</li>\n",
       "</ol>\n"
      ],
      "text/latex": [
       "\\begin{enumerate*}\n",
       "\\item -429.40495176513\n",
       "\\item -409.549300389436\n",
       "\\item -407.707739710942\n",
       "\\item -407.7058409462\n",
       "\\item -407.70583907902\n",
       "\\end{enumerate*}\n"
      ],
      "text/markdown": [
       "1. -429.40495176513\n",
       "2. -409.549300389436\n",
       "3. -407.707739710942\n",
       "4. -407.7058409462\n",
       "5. -407.70583907902\n",
       "\n",
       "\n"
      ],
      "text/plain": [
       "[1] -429.4050 -409.5493 -407.7077 -407.7058 -407.7058"
      ]
     },
     "metadata": {},
     "output_type": "display_data"
    }
   ],
   "source": [
    "res = mmbr::msusie(dat$X,dat$y,L=L,prior_variance=0.2,compute_objective=T,estimate_residual_variance=F,estimate_prior_variance=F)\n",
    "res$elbo"
   ]
  },
  {
   "cell_type": "code",
   "execution_count": 8,
   "metadata": {},
   "outputs": [
    {
     "data": {
      "text/html": [
       "<ol class=list-inline>\n",
       "\t<li>-405.95129176068</li>\n",
       "\t<li>-305.537422264397</li>\n",
       "\t<li>-301.451620424532</li>\n",
       "\t<li>-301.435227591177</li>\n",
       "\t<li>-301.435194084957</li>\n",
       "</ol>\n"
      ],
      "text/latex": [
       "\\begin{enumerate*}\n",
       "\\item -405.95129176068\n",
       "\\item -305.537422264397\n",
       "\\item -301.451620424532\n",
       "\\item -301.435227591177\n",
       "\\item -301.435194084957\n",
       "\\end{enumerate*}\n"
      ],
      "text/markdown": [
       "1. -405.95129176068\n",
       "2. -305.537422264397\n",
       "3. -301.451620424532\n",
       "4. -301.435227591177\n",
       "5. -301.435194084957\n",
       "\n",
       "\n"
      ],
      "text/plain": [
       "[1] -405.9513 -305.5374 -301.4516 -301.4352 -301.4352"
      ]
     },
     "metadata": {},
     "output_type": "display_data"
    }
   ],
   "source": [
    "res = mmbr::msusie(dat$X,dat$y,L=L,prior_variance=0.2,compute_objective=T,estimate_residual_variance=T,estimate_prior_variance=F)\n",
    "res$elbo"
   ]
  },
  {
   "cell_type": "code",
   "execution_count": 9,
   "metadata": {},
   "outputs": [
    {
     "data": {
      "text/html": [
       "<ol class=list-inline>\n",
       "\t<li>-404.317496769782</li>\n",
       "\t<li>-355.288104764095</li>\n",
       "\t<li>-299.920961070197</li>\n",
       "\t<li>-299.33572658556</li>\n",
       "\t<li>-299.335132481417</li>\n",
       "</ol>\n"
      ],
      "text/latex": [
       "\\begin{enumerate*}\n",
       "\\item -404.317496769782\n",
       "\\item -355.288104764095\n",
       "\\item -299.920961070197\n",
       "\\item -299.33572658556\n",
       "\\item -299.335132481417\n",
       "\\end{enumerate*}\n"
      ],
      "text/markdown": [
       "1. -404.317496769782\n",
       "2. -355.288104764095\n",
       "3. -299.920961070197\n",
       "4. -299.33572658556\n",
       "5. -299.335132481417\n",
       "\n",
       "\n"
      ],
      "text/plain": [
       "[1] -404.3175 -355.2881 -299.9210 -299.3357 -299.3351"
      ]
     },
     "metadata": {},
     "output_type": "display_data"
    }
   ],
   "source": [
    "res = mmbr::msusie(dat$X,dat$y,L=L,prior_variance=0.2,compute_objective=T,estimate_residual_variance=T,estimate_prior_variance=T)\n",
    "res$elbo"
   ]
  },
  {
   "cell_type": "markdown",
   "metadata": {},
   "source": [
    "The output is identical to using `susieR`."
   ]
  },
  {
   "cell_type": "markdown",
   "metadata": {},
   "source": [
    "## Compare `mmbr`'s MASH regression module with SuSiE"
   ]
  },
  {
   "cell_type": "markdown",
   "metadata": {},
   "source": [
    "Here I create a degenerated [MASH regression module implemented in `mmbr`](https://github.com/gaow/mmbr/blob/master/R/mash_multiple_regression.R). \"Degenerated\" means it has only one phenotype, and the prior is also a trivial one-component 1 by 1 matrix of `0.2 * var(Y)`. Here we use `EE` model in MASH (`alpha = 0`)."
   ]
  },
  {
   "cell_type": "markdown",
   "metadata": {},
   "source": [
    "The difference in code between this and previous section in computing ELBO can be found in this function for computing the L-th KL: [compute_expected_loglik_partial()](https://github.com/gaow/mmbr/blob/7eead885b914efcb44e97acfb26a1b81bec6ab64/R/single_effect_regression.R#L37) and this function: [compute_objective()](https://github.com/gaow/mmbr/blob/7eead885b914efcb44e97acfb26a1b81bec6ab64/R/susie_regression.R#L111) for finalizing the ELBO. The univariate and multivariate cases are distinguished by `if ... else` statement."
   ]
  },
  {
   "cell_type": "code",
   "execution_count": 10,
   "metadata": {},
   "outputs": [
    {
     "data": {
      "text/html": [
       "<dl>\n",
       "\t<dt>$pi</dt>\n",
       "\t\t<dd><pre class=language-r><code>function (object, ...) \n",
       "UseMethod(\"weights\")</code></pre></dd>\n",
       "\t<dt>$Ulist</dt>\n",
       "\t\t<dd><ol>\n",
       "\t<li><table>\n",
       "<caption>A matrix: 1 × 1 of type dbl[,1]</caption>\n",
       "<tbody>\n",
       "\t<tr><td>1.138784</td></tr>\n",
       "</tbody>\n",
       "</table>\n",
       "</li>\n",
       "</ol>\n",
       "</dd>\n",
       "\t<dt>$grid</dt>\n",
       "\t\t<dd>1</dd>\n",
       "\t<dt>$usepointmass</dt>\n",
       "\t\t<dd>TRUE</dd>\n",
       "</dl>\n"
      ],
      "text/latex": [
       "\\begin{description}\n",
       "\\item[\\$pi] \\begin{minted}{r}\n",
       "function (object, ...) \n",
       "UseMethod(\"weights\")\n",
       "\\end{minted}\n",
       "\\item[\\$Ulist] \\begin{enumerate}\n",
       "\\item A matrix: 1 × 1 of type dbl{[},1{]}\n",
       "\\begin{tabular}{l}\n",
       "\t 1.138784\\\\\n",
       "\\end{tabular}\n",
       "\n",
       "\\end{enumerate}\n",
       "\n",
       "\\item[\\$grid] 1\n",
       "\\item[\\$usepointmass] TRUE\n",
       "\\end{description}\n"
      ],
      "text/markdown": [
       "$pi\n",
       ":   ```r\n",
       "function (object, ...) \n",
       "UseMethod(\"weights\")\n",
       "```\n",
       "$Ulist\n",
       ":   1. \n",
       "A matrix: 1 × 1 of type dbl[,1]\n",
       "\n",
       "| 1.138784 |\n",
       "\n",
       "\n",
       "\n",
       "\n",
       "\n",
       "$grid\n",
       ":   1\n",
       "$usepointmass\n",
       ":   TRUE\n",
       "\n",
       "\n"
      ],
      "text/plain": [
       "$pi\n",
       "function (object, ...) \n",
       "UseMethod(\"weights\")\n",
       "<bytecode: 0x337f9a0>\n",
       "<environment: namespace:stats>\n",
       "\n",
       "$Ulist\n",
       "$Ulist[[1]]\n",
       "         [,1]\n",
       "[1,] 1.138784\n",
       "\n",
       "\n",
       "$grid\n",
       "[1] 1\n",
       "\n",
       "$usepointmass\n",
       "[1] TRUE\n"
      ]
     },
     "metadata": {},
     "output_type": "display_data"
    }
   ],
   "source": [
    "m_init = mmbr:::MashInitializer$new(list(matrix(0.2*var(dat$y))), 1, alpha=0)\n",
    "m_init$mash_prior"
   ]
  },
  {
   "cell_type": "code",
   "execution_count": 12,
   "metadata": {},
   "outputs": [],
   "source": [
    "res = mmbr::msusie(dat$X,dat$y,L=L,prior_variance=m_init,compute_objective=T, estimate_residual_variance=F,estimate_prior_variance=F)"
   ]
  },
  {
   "cell_type": "code",
   "execution_count": 13,
   "metadata": {},
   "outputs": [
    {
     "data": {
      "text/html": [
       "<ol class=list-inline>\n",
       "\t<li>-429.40495176513</li>\n",
       "\t<li>-409.549300389436</li>\n",
       "\t<li>-407.707739710942</li>\n",
       "\t<li>-407.7058409462</li>\n",
       "\t<li>-407.70583907902</li>\n",
       "</ol>\n"
      ],
      "text/latex": [
       "\\begin{enumerate*}\n",
       "\\item -429.40495176513\n",
       "\\item -409.549300389436\n",
       "\\item -407.707739710942\n",
       "\\item -407.7058409462\n",
       "\\item -407.70583907902\n",
       "\\end{enumerate*}\n"
      ],
      "text/markdown": [
       "1. -429.40495176513\n",
       "2. -409.549300389436\n",
       "3. -407.707739710942\n",
       "4. -407.7058409462\n",
       "5. -407.70583907902\n",
       "\n",
       "\n"
      ],
      "text/plain": [
       "[1] -429.4050 -409.5493 -407.7077 -407.7058 -407.7058"
      ]
     },
     "metadata": {},
     "output_type": "display_data"
    }
   ],
   "source": [
    "res$elbo"
   ]
  },
  {
   "cell_type": "markdown",
   "metadata": {},
   "source": [
    "The output is also the same as previous calculations."
   ]
  },
  {
   "cell_type": "markdown",
   "metadata": {},
   "source": [
    "## ELBO for multivariate calculation"
   ]
  },
  {
   "cell_type": "markdown",
   "metadata": {},
   "source": [
    "Now using the same code, but more phenotypes, `R = 5`, and still using a very simple prior for the MASH part,"
   ]
  },
  {
   "cell_type": "code",
   "execution_count": 14,
   "metadata": {},
   "outputs": [
    {
     "data": {
      "text/html": [
       "<dl>\n",
       "\t<dt>$pi</dt>\n",
       "\t\t<dd><pre class=language-r><code>function (object, ...) \n",
       "UseMethod(\"weights\")</code></pre></dd>\n",
       "\t<dt>$Ulist</dt>\n",
       "\t\t<dd><ol>\n",
       "\t<li><table>\n",
       "<caption>A matrix: 5 × 5 of type dbl[,5]</caption>\n",
       "<tbody>\n",
       "\t<tr><td> 1.14068826</td><td>-0.02561830</td><td>-0.19275481</td><td>-0.040421229</td><td>-0.029376381</td></tr>\n",
       "\t<tr><td>-0.02561830</td><td> 1.01088663</td><td> 0.03491952</td><td> 0.018064842</td><td> 0.016833489</td></tr>\n",
       "\t<tr><td>-0.19275481</td><td> 0.03491952</td><td> 1.15215509</td><td>-0.112673234</td><td>-0.063194855</td></tr>\n",
       "\t<tr><td>-0.04042123</td><td> 0.01806484</td><td>-0.11267323</td><td> 0.836044978</td><td> 0.008248383</td></tr>\n",
       "\t<tr><td>-0.02937638</td><td> 0.01683349</td><td>-0.06319485</td><td> 0.008248383</td><td> 0.865937437</td></tr>\n",
       "</tbody>\n",
       "</table>\n",
       "</li>\n",
       "</ol>\n",
       "</dd>\n",
       "\t<dt>$grid</dt>\n",
       "\t\t<dd>1</dd>\n",
       "\t<dt>$usepointmass</dt>\n",
       "\t\t<dd>TRUE</dd>\n",
       "</dl>\n"
      ],
      "text/latex": [
       "\\begin{description}\n",
       "\\item[\\$pi] \\begin{minted}{r}\n",
       "function (object, ...) \n",
       "UseMethod(\"weights\")\n",
       "\\end{minted}\n",
       "\\item[\\$Ulist] \\begin{enumerate}\n",
       "\\item A matrix: 5 × 5 of type dbl{[},5{]}\n",
       "\\begin{tabular}{lllll}\n",
       "\t  1.14068826 & -0.02561830 & -0.19275481 & -0.040421229 & -0.029376381\\\\\n",
       "\t -0.02561830 &  1.01088663 &  0.03491952 &  0.018064842 &  0.016833489\\\\\n",
       "\t -0.19275481 &  0.03491952 &  1.15215509 & -0.112673234 & -0.063194855\\\\\n",
       "\t -0.04042123 &  0.01806484 & -0.11267323 &  0.836044978 &  0.008248383\\\\\n",
       "\t -0.02937638 &  0.01683349 & -0.06319485 &  0.008248383 &  0.865937437\\\\\n",
       "\\end{tabular}\n",
       "\n",
       "\\end{enumerate}\n",
       "\n",
       "\\item[\\$grid] 1\n",
       "\\item[\\$usepointmass] TRUE\n",
       "\\end{description}\n"
      ],
      "text/markdown": [
       "$pi\n",
       ":   ```r\n",
       "function (object, ...) \n",
       "UseMethod(\"weights\")\n",
       "```\n",
       "$Ulist\n",
       ":   1. \n",
       "A matrix: 5 × 5 of type dbl[,5]\n",
       "\n",
       "|  1.14068826 | -0.02561830 | -0.19275481 | -0.040421229 | -0.029376381 |\n",
       "| -0.02561830 |  1.01088663 |  0.03491952 |  0.018064842 |  0.016833489 |\n",
       "| -0.19275481 |  0.03491952 |  1.15215509 | -0.112673234 | -0.063194855 |\n",
       "| -0.04042123 |  0.01806484 | -0.11267323 |  0.836044978 |  0.008248383 |\n",
       "| -0.02937638 |  0.01683349 | -0.06319485 |  0.008248383 |  0.865937437 |\n",
       "\n",
       "\n",
       "\n",
       "\n",
       "\n",
       "$grid\n",
       ":   1\n",
       "$usepointmass\n",
       ":   TRUE\n",
       "\n",
       "\n"
      ],
      "text/plain": [
       "$pi\n",
       "function (object, ...) \n",
       "UseMethod(\"weights\")\n",
       "<bytecode: 0x337f9a0>\n",
       "<environment: namespace:stats>\n",
       "\n",
       "$Ulist\n",
       "$Ulist[[1]]\n",
       "            [,1]        [,2]        [,3]         [,4]         [,5]\n",
       "[1,]  1.14068826 -0.02561830 -0.19275481 -0.040421229 -0.029376381\n",
       "[2,] -0.02561830  1.01088663  0.03491952  0.018064842  0.016833489\n",
       "[3,] -0.19275481  0.03491952  1.15215509 -0.112673234 -0.063194855\n",
       "[4,] -0.04042123  0.01806484 -0.11267323  0.836044978  0.008248383\n",
       "[5,] -0.02937638  0.01683349 -0.06319485  0.008248383  0.865937437\n",
       "\n",
       "\n",
       "$grid\n",
       "[1] 1\n",
       "\n",
       "$usepointmass\n",
       "[1] TRUE\n"
      ]
     },
     "metadata": {},
     "output_type": "display_data"
    }
   ],
   "source": [
    "set.seed(2)\n",
    "dat = mmbr_sim1(r=5)\n",
    "m_init = mmbr:::MashInitializer$new(list(dat$V), 1, alpha=0)\n",
    "m_init$mash_prior"
   ]
  },
  {
   "cell_type": "code",
   "execution_count": 16,
   "metadata": {},
   "outputs": [],
   "source": [
    "res = mmbr::msusie(dat$X,dat$y,L=L,prior_variance=m_init,compute_objective=T,estimate_residual_variance=F,estimate_prior_variance=F)"
   ]
  },
  {
   "cell_type": "code",
   "execution_count": 17,
   "metadata": {},
   "outputs": [
    {
     "data": {
      "text/html": [
       "<ol class=list-inline>\n",
       "\t<li>-2184.07604753707</li>\n",
       "\t<li>-2173.19925417124</li>\n",
       "\t<li>-2169.55143832283</li>\n",
       "\t<li>-2167.74410199547</li>\n",
       "\t<li>-2167.26694357295</li>\n",
       "\t<li>-2167.08740604301</li>\n",
       "\t<li>-2166.51381866454</li>\n",
       "\t<li>-2166.01270008591</li>\n",
       "\t<li>-2164.89405592026</li>\n",
       "\t<li>-2163.63506437888</li>\n",
       "\t<li>-2163.57378303911</li>\n",
       "\t<li>-2163.57265177467</li>\n",
       "\t<li>-2163.57261683874</li>\n",
       "</ol>\n"
      ],
      "text/latex": [
       "\\begin{enumerate*}\n",
       "\\item -2184.07604753707\n",
       "\\item -2173.19925417124\n",
       "\\item -2169.55143832283\n",
       "\\item -2167.74410199547\n",
       "\\item -2167.26694357295\n",
       "\\item -2167.08740604301\n",
       "\\item -2166.51381866454\n",
       "\\item -2166.01270008591\n",
       "\\item -2164.89405592026\n",
       "\\item -2163.63506437888\n",
       "\\item -2163.57378303911\n",
       "\\item -2163.57265177467\n",
       "\\item -2163.57261683874\n",
       "\\end{enumerate*}\n"
      ],
      "text/markdown": [
       "1. -2184.07604753707\n",
       "2. -2173.19925417124\n",
       "3. -2169.55143832283\n",
       "4. -2167.74410199547\n",
       "5. -2167.26694357295\n",
       "6. -2167.08740604301\n",
       "7. -2166.51381866454\n",
       "8. -2166.01270008591\n",
       "9. -2164.89405592026\n",
       "10. -2163.63506437888\n",
       "11. -2163.57378303911\n",
       "12. -2163.57265177467\n",
       "13. -2163.57261683874\n",
       "\n",
       "\n"
      ],
      "text/plain": [
       " [1] -2184.076 -2173.199 -2169.551 -2167.744 -2167.267 -2167.087 -2166.514\n",
       " [8] -2166.013 -2164.894 -2163.635 -2163.574 -2163.573 -2163.573"
      ]
     },
     "metadata": {},
     "output_type": "display_data"
    }
   ],
   "source": [
    "res$elbo"
   ]
  },
  {
   "cell_type": "markdown",
   "metadata": {},
   "source": [
    "and with a different seed:"
   ]
  },
  {
   "cell_type": "code",
   "execution_count": 19,
   "metadata": {},
   "outputs": [
    {
     "data": {
      "text/html": [
       "<ol class=list-inline>\n",
       "\t<li>-2169.12300499713</li>\n",
       "\t<li>-2160.89504325175</li>\n",
       "\t<li>-2156.1789136104</li>\n",
       "\t<li>-2155.07970729671</li>\n",
       "\t<li>-2155.04514487993</li>\n",
       "\t<li>-2155.04301270126</li>\n",
       "\t<li>-2155.0428902174</li>\n",
       "</ol>\n"
      ],
      "text/latex": [
       "\\begin{enumerate*}\n",
       "\\item -2169.12300499713\n",
       "\\item -2160.89504325175\n",
       "\\item -2156.1789136104\n",
       "\\item -2155.07970729671\n",
       "\\item -2155.04514487993\n",
       "\\item -2155.04301270126\n",
       "\\item -2155.0428902174\n",
       "\\end{enumerate*}\n"
      ],
      "text/markdown": [
       "1. -2169.12300499713\n",
       "2. -2160.89504325175\n",
       "3. -2156.1789136104\n",
       "4. -2155.07970729671\n",
       "5. -2155.04514487993\n",
       "6. -2155.04301270126\n",
       "7. -2155.0428902174\n",
       "\n",
       "\n"
      ],
      "text/plain": [
       "[1] -2169.123 -2160.895 -2156.179 -2155.080 -2155.045 -2155.043 -2155.043"
      ]
     },
     "metadata": {},
     "output_type": "display_data"
    }
   ],
   "source": [
    "set.seed(1)\n",
    "dat = mmbr_sim1(r=5)\n",
    "m_init = mmbr:::MashInitializer$new(list(dat$V), 1, alpha=0)\n",
    "res = mmbr::msusie(dat$X,dat$y,L=L,prior_variance=m_init,compute_objective=T,estimate_residual_variance=F,estimate_prior_variance=F)\n",
    "res$elbo"
   ]
  }
 ],
 "metadata": {
  "kernelspec": {
   "display_name": "R",
   "language": "R",
   "name": "ir"
  },
  "language_info": {
   "codemirror_mode": "r",
   "file_extension": ".r",
   "mimetype": "text/x-r-source",
   "name": "R",
   "pygments_lexer": "r",
   "version": "3.5.3"
  }
 },
 "nbformat": 4,
 "nbformat_minor": 4
}
