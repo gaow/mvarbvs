{
 "cells": [
  {
   "cell_type": "markdown",
   "metadata": {},
   "source": [
    "# EM update for prior variance when prior cannot be directly inverted\n",
    "\n",
    "The [EM approach previously shown](elbo_prior_est.html) for estimating prior variance scalar has a problem: its current form does not work when input prior matrices has non-invertable component. I used generalized inverse in the code but it does not work."
   ]
  },
  {
   "cell_type": "markdown",
   "metadata": {},
   "source": [
    "## Illustration"
   ]
  },
  {
   "cell_type": "code",
   "execution_count": 1,
   "metadata": {},
   "outputs": [
    {
     "name": "stderr",
     "output_type": "stream",
     "text": [
      "Loading mmbr\n",
      "\n",
      "Loading required package: mashr\n",
      "\n",
      "Loading required package: ashr\n",
      "\n"
     ]
    }
   ],
   "source": [
    "devtools::load_all('~/GIT/software/mmbr')\n",
    "set.seed(1)\n",
    "dat = mmbr_sim1(n=50,p=50,r=2,s=2)\n",
    "L = 10"
   ]
  },
  {
   "cell_type": "code",
   "execution_count": 2,
   "metadata": {},
   "outputs": [],
   "source": [
    "V = matrix(1,2,2)"
   ]
  },
  {
   "cell_type": "code",
   "execution_count": 31,
   "metadata": {},
   "outputs": [
    {
     "name": "stderr",
     "output_type": "stream",
     "text": [
      "Loading mmbr\n",
      "\n",
      "Warning message in m$get_objective(dump = TRUE):\n",
      "“Objective is not non-decreasing”\n"
     ]
    }
   ],
   "source": [
    "fit = msusie(dat$X,dat$y,L=L,prior_variance=V, \n",
    "              compute_objective=T, estimate_residual_variance=F, \n",
    "              estimate_prior_variance=T, estimate_prior_method = 'EM',\n",
    "              track_fit=TRUE)"
   ]
  },
  {
   "cell_type": "code",
   "execution_count": 32,
   "metadata": {},
   "outputs": [
    {
     "data": {
      "text/html": [
       "<style>\n",
       ".list-inline {list-style: none; margin:0; padding: 0}\n",
       ".list-inline>li {display: inline-block}\n",
       ".list-inline>li:not(:last-child)::after {content: \"\\00b7\"; padding: 0 .5ex}\n",
       "</style>\n",
       "<ol class=list-inline><li>-198.184041078147</li><li>-185.479563171209</li><li>-184.742826646249</li><li>-184.733247523579</li><li>-184.818631124017</li></ol>\n"
      ],
      "text/latex": [
       "\\begin{enumerate*}\n",
       "\\item -198.184041078147\n",
       "\\item -185.479563171209\n",
       "\\item -184.742826646249\n",
       "\\item -184.733247523579\n",
       "\\item -184.818631124017\n",
       "\\end{enumerate*}\n"
      ],
      "text/markdown": [
       "1. -198.184041078147\n",
       "2. -185.479563171209\n",
       "3. -184.742826646249\n",
       "4. -184.733247523579\n",
       "5. -184.818631124017\n",
       "\n",
       "\n"
      ],
      "text/plain": [
       "[1] -198.1840 -185.4796 -184.7428 -184.7332 -184.8186"
      ]
     },
     "metadata": {},
     "output_type": "display_data"
    }
   ],
   "source": [
    "fit$elbo"
   ]
  },
  {
   "cell_type": "code",
   "execution_count": 33,
   "metadata": {},
   "outputs": [
    {
     "data": {
      "text/html": [
       "<ol>\n",
       "\t<li><style>\n",
       ".list-inline {list-style: none; margin:0; padding: 0}\n",
       ".list-inline>li {display: inline-block}\n",
       ".list-inline>li:not(:last-child)::after {content: \"\\00b7\"; padding: 0 .5ex}\n",
       "</style>\n",
       "<ol class=list-inline><li>0.141620258016417</li><li>0.0384484845390587</li><li>0.0297015819612639</li><li>0.0259265482236402</li><li>0.0236115241792811</li><li>0.0220150613190628</li><li>0.0208337899440703</li><li>0.0199177188521961</li><li>0.0191833192222777</li><li>0.0185799456061651</li></ol>\n",
       "</li>\n",
       "\t<li><style>\n",
       ".list-inline {list-style: none; margin:0; padding: 0}\n",
       ".list-inline>li {display: inline-block}\n",
       ".list-inline>li:not(:last-child)::after {content: \"\\00b7\"; padding: 0 .5ex}\n",
       "</style>\n",
       "<ol class=list-inline><li>0.0771121247820147</li><li>0.0108390444862534</li><li>0.00955512435505676</li><li>0.00892832819150582</li><li>0.0085078320591506</li><li>0.00819617701612607</li><li>0.00795044115497997</li><li>0.00774836359342628</li><li>0.00757715003223193</li><li>0.00742886307410774</li></ol>\n",
       "</li>\n",
       "\t<li><style>\n",
       ".list-inline {list-style: none; margin:0; padding: 0}\n",
       ".list-inline>li {display: inline-block}\n",
       ".list-inline>li:not(:last-child)::after {content: \"\\00b7\"; padding: 0 .5ex}\n",
       "</style>\n",
       "<ol class=list-inline><li>0.0447675232773647</li><li>0.00489783537940313</li><li>0.00437868815242494</li><li>0.00412612911362338</li><li>0.00395765345810459</li><li>0.00383377089008186</li><li>0.00373694167914759</li><li>0.00365801488941584</li><li>0.00359171063749159</li><li>0.00353474536542637</li></ol>\n",
       "</li>\n",
       "\t<li><style>\n",
       ".list-inline {list-style: none; margin:0; padding: 0}\n",
       ".list-inline>li {display: inline-block}\n",
       ".list-inline>li:not(:last-child)::after {content: \"\\00b7\"; padding: 0 .5ex}\n",
       "</style>\n",
       "<ol class=list-inline><li>0.0293488672433036</li><li>0.00239954434417339</li><li>0.00215132739221103</li><li>0.0020311936280246</li><li>0.00195138990593238</li><li>0.00189297774606851</li><li>0.00184754163082143</li><li>0.00181068980553826</li><li>0.00177988837793423</li><li>0.00175356185234544</li></ol>\n",
       "</li>\n",
       "\t<li><style>\n",
       ".list-inline {list-style: none; margin:0; padding: 0}\n",
       ".list-inline>li {display: inline-block}\n",
       ".list-inline>li:not(:last-child)::after {content: \"\\00b7\"; padding: 0 .5ex}\n",
       "</style>\n",
       "<ol class=list-inline><li>0.0203409831109546</li><li>0.00119783359927382</li><li>0.00107423521711347</li><li>0.00101456947462631</li><li>0.000975006523799342</li><li>0.000946100553396247</li><li>0.00092365629260936</li><li>0.00090548519134443</li><li>0.000890324964559441</li><li>0.000877391026596279</li></ol>\n",
       "</li>\n",
       "</ol>\n"
      ],
      "text/latex": [
       "\\begin{enumerate}\n",
       "\\item \\begin{enumerate*}\n",
       "\\item 0.141620258016417\n",
       "\\item 0.0384484845390587\n",
       "\\item 0.0297015819612639\n",
       "\\item 0.0259265482236402\n",
       "\\item 0.0236115241792811\n",
       "\\item 0.0220150613190628\n",
       "\\item 0.0208337899440703\n",
       "\\item 0.0199177188521961\n",
       "\\item 0.0191833192222777\n",
       "\\item 0.0185799456061651\n",
       "\\end{enumerate*}\n",
       "\n",
       "\\item \\begin{enumerate*}\n",
       "\\item 0.0771121247820147\n",
       "\\item 0.0108390444862534\n",
       "\\item 0.00955512435505676\n",
       "\\item 0.00892832819150582\n",
       "\\item 0.0085078320591506\n",
       "\\item 0.00819617701612607\n",
       "\\item 0.00795044115497997\n",
       "\\item 0.00774836359342628\n",
       "\\item 0.00757715003223193\n",
       "\\item 0.00742886307410774\n",
       "\\end{enumerate*}\n",
       "\n",
       "\\item \\begin{enumerate*}\n",
       "\\item 0.0447675232773647\n",
       "\\item 0.00489783537940313\n",
       "\\item 0.00437868815242494\n",
       "\\item 0.00412612911362338\n",
       "\\item 0.00395765345810459\n",
       "\\item 0.00383377089008186\n",
       "\\item 0.00373694167914759\n",
       "\\item 0.00365801488941584\n",
       "\\item 0.00359171063749159\n",
       "\\item 0.00353474536542637\n",
       "\\end{enumerate*}\n",
       "\n",
       "\\item \\begin{enumerate*}\n",
       "\\item 0.0293488672433036\n",
       "\\item 0.00239954434417339\n",
       "\\item 0.00215132739221103\n",
       "\\item 0.0020311936280246\n",
       "\\item 0.00195138990593238\n",
       "\\item 0.00189297774606851\n",
       "\\item 0.00184754163082143\n",
       "\\item 0.00181068980553826\n",
       "\\item 0.00177988837793423\n",
       "\\item 0.00175356185234544\n",
       "\\end{enumerate*}\n",
       "\n",
       "\\item \\begin{enumerate*}\n",
       "\\item 0.0203409831109546\n",
       "\\item 0.00119783359927382\n",
       "\\item 0.00107423521711347\n",
       "\\item 0.00101456947462631\n",
       "\\item 0.000975006523799342\n",
       "\\item 0.000946100553396247\n",
       "\\item 0.00092365629260936\n",
       "\\item 0.00090548519134443\n",
       "\\item 0.000890324964559441\n",
       "\\item 0.000877391026596279\n",
       "\\end{enumerate*}\n",
       "\n",
       "\\end{enumerate}\n"
      ],
      "text/markdown": [
       "1. 1. 0.141620258016417\n",
       "2. 0.0384484845390587\n",
       "3. 0.0297015819612639\n",
       "4. 0.0259265482236402\n",
       "5. 0.0236115241792811\n",
       "6. 0.0220150613190628\n",
       "7. 0.0208337899440703\n",
       "8. 0.0199177188521961\n",
       "9. 0.0191833192222777\n",
       "10. 0.0185799456061651\n",
       "\n",
       "\n",
       "\n",
       "2. 1. 0.0771121247820147\n",
       "2. 0.0108390444862534\n",
       "3. 0.00955512435505676\n",
       "4. 0.00892832819150582\n",
       "5. 0.0085078320591506\n",
       "6. 0.00819617701612607\n",
       "7. 0.00795044115497997\n",
       "8. 0.00774836359342628\n",
       "9. 0.00757715003223193\n",
       "10. 0.00742886307410774\n",
       "\n",
       "\n",
       "\n",
       "3. 1. 0.0447675232773647\n",
       "2. 0.00489783537940313\n",
       "3. 0.00437868815242494\n",
       "4. 0.00412612911362338\n",
       "5. 0.00395765345810459\n",
       "6. 0.00383377089008186\n",
       "7. 0.00373694167914759\n",
       "8. 0.00365801488941584\n",
       "9. 0.00359171063749159\n",
       "10. 0.00353474536542637\n",
       "\n",
       "\n",
       "\n",
       "4. 1. 0.0293488672433036\n",
       "2. 0.00239954434417339\n",
       "3. 0.00215132739221103\n",
       "4. 0.0020311936280246\n",
       "5. 0.00195138990593238\n",
       "6. 0.00189297774606851\n",
       "7. 0.00184754163082143\n",
       "8. 0.00181068980553826\n",
       "9. 0.00177988837793423\n",
       "10. 0.00175356185234544\n",
       "\n",
       "\n",
       "\n",
       "5. 1. 0.0203409831109546\n",
       "2. 0.00119783359927382\n",
       "3. 0.00107423521711347\n",
       "4. 0.00101456947462631\n",
       "5. 0.000975006523799342\n",
       "6. 0.000946100553396247\n",
       "7. 0.00092365629260936\n",
       "8. 0.00090548519134443\n",
       "9. 0.000890324964559441\n",
       "10. 0.000877391026596279\n",
       "\n",
       "\n",
       "\n",
       "\n",
       "\n"
      ],
      "text/plain": [
       "[[1]]\n",
       " [1] 0.14162026 0.03844848 0.02970158 0.02592655 0.02361152 0.02201506\n",
       " [7] 0.02083379 0.01991772 0.01918332 0.01857995\n",
       "\n",
       "[[2]]\n",
       " [1] 0.077112125 0.010839044 0.009555124 0.008928328 0.008507832 0.008196177\n",
       " [7] 0.007950441 0.007748364 0.007577150 0.007428863\n",
       "\n",
       "[[3]]\n",
       " [1] 0.044767523 0.004897835 0.004378688 0.004126129 0.003957653 0.003833771\n",
       " [7] 0.003736942 0.003658015 0.003591711 0.003534745\n",
       "\n",
       "[[4]]\n",
       " [1] 0.029348867 0.002399544 0.002151327 0.002031194 0.001951390 0.001892978\n",
       " [7] 0.001847542 0.001810690 0.001779888 0.001753562\n",
       "\n",
       "[[5]]\n",
       " [1] 0.0203409831 0.0011978336 0.0010742352 0.0010145695 0.0009750065\n",
       " [6] 0.0009461006 0.0009236563 0.0009054852 0.0008903250 0.0008773910\n"
      ]
     },
     "metadata": {},
     "output_type": "display_data"
    }
   ],
   "source": [
    "fit$prior_history"
   ]
  },
  {
   "cell_type": "markdown",
   "metadata": {},
   "source": [
    "It does not work at all -- in the end all esimates of `V` are very small and no signal is captured."
   ]
  },
  {
   "cell_type": "markdown",
   "metadata": {},
   "source": [
    "[A workaround implemented here](https://github.com/stephenslab/mmbr/blob/9e8701d4442c400909fd343fabb4d01f293f846d/R/bayesian_multivariate_regression.R#L101) avoids inverse on input prior when it is not invertable. The disadvantage here is that some quantities have to be recomputed which could otherwise be avoided using original direct inverse implementation."
   ]
  },
  {
   "cell_type": "markdown",
   "metadata": {},
   "source": [
    "### Verify the workaround agrees with direct method when prior is invertable\n",
    "\n",
    "But before using this approach we need to establish that the result is the same as the original implementation when prior is invertable. To achieve this I use a diagonal prior matrix which is invertable. But to trigger the workaround code, I manually mess up [this line](https://github.com/stephenslab/mmbr/blob/9e8701d4442c400909fd343fabb4d01f293f846d/R/bayesian_multivariate_regression.R#L120) to take a non-existing function for inverse, so I can run the workaround even when prior is invertable."
   ]
  },
  {
   "cell_type": "code",
   "execution_count": 12,
   "metadata": {},
   "outputs": [],
   "source": [
    "V = diag(2)"
   ]
  },
  {
   "cell_type": "code",
   "execution_count": null,
   "metadata": {},
   "outputs": [],
   "source": [
    "# This is the direct inverse version\n",
    "devtools::load_all('~/GIT/software/mmbr')\n",
    "fit1 = msusie(dat$X,dat$y,L=L,prior_variance=V, \n",
    "              compute_objective=T, estimate_residual_variance=F, \n",
    "              estimate_prior_variance=T, estimate_prior_method = 'EM',\n",
    "              track_fit=TRUE)"
   ]
  },
  {
   "cell_type": "code",
   "execution_count": 15,
   "metadata": {},
   "outputs": [
    {
     "data": {
      "text/html": [
       "<style>\n",
       ".list-inline {list-style: none; margin:0; padding: 0}\n",
       ".list-inline>li {display: inline-block}\n",
       ".list-inline>li:not(:last-child)::after {content: \"\\00b7\"; padding: 0 .5ex}\n",
       "</style>\n",
       "<ol class=list-inline><li>0.340567896558995</li><li>0</li><li>0</li><li>0</li><li>0</li><li>0</li><li>0</li><li>0.34528976531648</li><li>0</li><li>0</li></ol>\n"
      ],
      "text/latex": [
       "\\begin{enumerate*}\n",
       "\\item 0.340567896558995\n",
       "\\item 0\n",
       "\\item 0\n",
       "\\item 0\n",
       "\\item 0\n",
       "\\item 0\n",
       "\\item 0\n",
       "\\item 0.34528976531648\n",
       "\\item 0\n",
       "\\item 0\n",
       "\\end{enumerate*}\n"
      ],
      "text/markdown": [
       "1. 0.340567896558995\n",
       "2. 0\n",
       "3. 0\n",
       "4. 0\n",
       "5. 0\n",
       "6. 0\n",
       "7. 0\n",
       "8. 0.34528976531648\n",
       "9. 0\n",
       "10. 0\n",
       "\n",
       "\n"
      ],
      "text/plain": [
       " [1] 0.3405679 0.0000000 0.0000000 0.0000000 0.0000000 0.0000000 0.0000000\n",
       " [8] 0.3452898 0.0000000 0.0000000"
      ]
     },
     "metadata": {},
     "output_type": "display_data"
    }
   ],
   "source": [
    "fit1$V"
   ]
  },
  {
   "cell_type": "code",
   "execution_count": null,
   "metadata": {},
   "outputs": [],
   "source": [
    "# This is the indirect inverse version\n",
    "# after manually messed up the version for direct inverse\n",
    "devtools::load_all('~/GIT/software/mmbr')\n",
    "fit2 = msusie(dat$X,dat$y,L=L,prior_variance=V, \n",
    "              compute_objective=T, estimate_residual_variance=F, \n",
    "              estimate_prior_variance=T, estimate_prior_method = 'EM',\n",
    "              track_fit=TRUE)"
   ]
  },
  {
   "cell_type": "code",
   "execution_count": 18,
   "metadata": {},
   "outputs": [
    {
     "data": {
      "text/html": [
       "<style>\n",
       ".list-inline {list-style: none; margin:0; padding: 0}\n",
       ".list-inline>li {display: inline-block}\n",
       ".list-inline>li:not(:last-child)::after {content: \"\\00b7\"; padding: 0 .5ex}\n",
       "</style>\n",
       "<ol class=list-inline><li>0.340567896558995</li><li>0</li><li>0</li><li>0</li><li>0</li><li>0</li><li>0</li><li>0.34528976531648</li><li>0</li><li>0</li></ol>\n"
      ],
      "text/latex": [
       "\\begin{enumerate*}\n",
       "\\item 0.340567896558995\n",
       "\\item 0\n",
       "\\item 0\n",
       "\\item 0\n",
       "\\item 0\n",
       "\\item 0\n",
       "\\item 0\n",
       "\\item 0.34528976531648\n",
       "\\item 0\n",
       "\\item 0\n",
       "\\end{enumerate*}\n"
      ],
      "text/markdown": [
       "1. 0.340567896558995\n",
       "2. 0\n",
       "3. 0\n",
       "4. 0\n",
       "5. 0\n",
       "6. 0\n",
       "7. 0\n",
       "8. 0.34528976531648\n",
       "9. 0\n",
       "10. 0\n",
       "\n",
       "\n"
      ],
      "text/plain": [
       " [1] 0.3405679 0.0000000 0.0000000 0.0000000 0.0000000 0.0000000 0.0000000\n",
       " [8] 0.3452898 0.0000000 0.0000000"
      ]
     },
     "metadata": {},
     "output_type": "display_data"
    }
   ],
   "source": [
    "fit2$V"
   ]
  },
  {
   "cell_type": "markdown",
   "metadata": {},
   "source": [
    "Let's try one more with the original simulated prior,"
   ]
  },
  {
   "cell_type": "code",
   "execution_count": null,
   "metadata": {},
   "outputs": [],
   "source": [
    "# This is the direct inverse version\n",
    "devtools::load_all('~/GIT/software/mmbr')\n",
    "fit1 = msusie(dat$X,dat$y,L=L,prior_variance=dat$V, \n",
    "              compute_objective=T, estimate_residual_variance=F, \n",
    "              estimate_prior_variance=T, estimate_prior_method = 'EM',\n",
    "              track_fit=TRUE)"
   ]
  },
  {
   "cell_type": "code",
   "execution_count": 20,
   "metadata": {},
   "outputs": [
    {
     "data": {
      "text/html": [
       "<style>\n",
       ".list-inline {list-style: none; margin:0; padding: 0}\n",
       ".list-inline>li {display: inline-block}\n",
       ".list-inline>li:not(:last-child)::after {content: \"\\00b7\"; padding: 0 .5ex}\n",
       "</style>\n",
       "<ol class=list-inline><li>0.716272294674903</li><li>0</li><li>0</li><li>0</li><li>0</li><li>0</li><li>0</li><li>0</li><li>0.694622119578786</li><li>0</li></ol>\n"
      ],
      "text/latex": [
       "\\begin{enumerate*}\n",
       "\\item 0.716272294674903\n",
       "\\item 0\n",
       "\\item 0\n",
       "\\item 0\n",
       "\\item 0\n",
       "\\item 0\n",
       "\\item 0\n",
       "\\item 0\n",
       "\\item 0.694622119578786\n",
       "\\item 0\n",
       "\\end{enumerate*}\n"
      ],
      "text/markdown": [
       "1. 0.716272294674903\n",
       "2. 0\n",
       "3. 0\n",
       "4. 0\n",
       "5. 0\n",
       "6. 0\n",
       "7. 0\n",
       "8. 0\n",
       "9. 0.694622119578786\n",
       "10. 0\n",
       "\n",
       "\n"
      ],
      "text/plain": [
       " [1] 0.7162723 0.0000000 0.0000000 0.0000000 0.0000000 0.0000000 0.0000000\n",
       " [8] 0.0000000 0.6946221 0.0000000"
      ]
     },
     "metadata": {},
     "output_type": "display_data"
    }
   ],
   "source": [
    "fit1$V"
   ]
  },
  {
   "cell_type": "code",
   "execution_count": null,
   "metadata": {},
   "outputs": [],
   "source": [
    "# This is the indirect inverse version\n",
    "# after manually messed up the version for direct inverse\n",
    "devtools::load_all('~/GIT/software/mmbr')\n",
    "fit2 = msusie(dat$X,dat$y,L=L,prior_variance=dat$V, \n",
    "              compute_objective=T, estimate_residual_variance=F, \n",
    "              estimate_prior_variance=T, estimate_prior_method = 'EM',\n",
    "              track_fit=TRUE)"
   ]
  },
  {
   "cell_type": "code",
   "execution_count": 27,
   "metadata": {},
   "outputs": [
    {
     "data": {
      "text/html": [
       "<style>\n",
       ".list-inline {list-style: none; margin:0; padding: 0}\n",
       ".list-inline>li {display: inline-block}\n",
       ".list-inline>li:not(:last-child)::after {content: \"\\00b7\"; padding: 0 .5ex}\n",
       "</style>\n",
       "<ol class=list-inline><li>0.716272294674902</li><li>0</li><li>0</li><li>0</li><li>0</li><li>0</li><li>0</li><li>0</li><li>0.694622119578786</li><li>0</li></ol>\n"
      ],
      "text/latex": [
       "\\begin{enumerate*}\n",
       "\\item 0.716272294674902\n",
       "\\item 0\n",
       "\\item 0\n",
       "\\item 0\n",
       "\\item 0\n",
       "\\item 0\n",
       "\\item 0\n",
       "\\item 0\n",
       "\\item 0.694622119578786\n",
       "\\item 0\n",
       "\\end{enumerate*}\n"
      ],
      "text/markdown": [
       "1. 0.716272294674902\n",
       "2. 0\n",
       "3. 0\n",
       "4. 0\n",
       "5. 0\n",
       "6. 0\n",
       "7. 0\n",
       "8. 0\n",
       "9. 0.694622119578786\n",
       "10. 0\n",
       "\n",
       "\n"
      ],
      "text/plain": [
       " [1] 0.7162723 0.0000000 0.0000000 0.0000000 0.0000000 0.0000000 0.0000000\n",
       " [8] 0.0000000 0.6946221 0.0000000"
      ]
     },
     "metadata": {},
     "output_type": "display_data"
    }
   ],
   "source": [
    "fit2$V"
   ]
  },
  {
   "cell_type": "markdown",
   "metadata": {},
   "source": [
    "It seems to work fine."
   ]
  },
  {
   "cell_type": "markdown",
   "metadata": {},
   "source": [
    "## Comparing the new EM implementation with `optim`"
   ]
  },
  {
   "cell_type": "code",
   "execution_count": 29,
   "metadata": {},
   "outputs": [
    {
     "name": "stderr",
     "output_type": "stream",
     "text": [
      "Loading mmbr\n",
      "\n"
     ]
    }
   ],
   "source": [
    "V = matrix(1,2,2)\n",
    "devtools::load_all('~/GIT/software/mmbr')\n",
    "fit3 = msusie(dat$X,dat$y,L=L,prior_variance=V, \n",
    "              compute_objective=T, estimate_residual_variance=F, \n",
    "              estimate_prior_variance=T, estimate_prior_method = 'EM',\n",
    "              track_fit=TRUE)"
   ]
  },
  {
   "cell_type": "code",
   "execution_count": 31,
   "metadata": {},
   "outputs": [
    {
     "data": {
      "text/html": [
       "<style>\n",
       ".list-inline {list-style: none; margin:0; padding: 0}\n",
       ".list-inline>li {display: inline-block}\n",
       ".list-inline>li:not(:last-child)::after {content: \"\\00b7\"; padding: 0 .5ex}\n",
       "</style>\n",
       "<ol class=list-inline><li>-198.184041078147</li><li>-194.811837430279</li><li>-192.20503293868</li><li>-190.021708939355</li><li>-188.320238563406</li><li>-187.103638731872</li><li>-186.331632679386</li><li>-185.862226348472</li><li>-185.560691185511</li><li>-185.363248149642</li><li>-185.096023084764</li><li>-184.737041447362</li><li>-184.727271890713</li><li>-184.720012466739</li><li>-184.714149748068</li><li>-184.709469892352</li><li>-184.705776000582</li><li>-184.702865844814</li><li>-184.700544658945</li><li>-184.698631699655</li><li>-184.696959796368</li><li>-184.695369230784</li><li>-184.683090900474</li><li>-184.659037025738</li><li>-184.640788540617</li><li>-184.620039644917</li><li>-184.518216279398</li><li>-184.41845687288</li><li>-184.352540818326</li><li>-184.317001711188</li><li>-184.300056883766</li><li>-184.292464685719</li><li>-184.289158612395</li><li>-184.287736929165</li><li>-184.287128914951</li></ol>\n"
      ],
      "text/latex": [
       "\\begin{enumerate*}\n",
       "\\item -198.184041078147\n",
       "\\item -194.811837430279\n",
       "\\item -192.20503293868\n",
       "\\item -190.021708939355\n",
       "\\item -188.320238563406\n",
       "\\item -187.103638731872\n",
       "\\item -186.331632679386\n",
       "\\item -185.862226348472\n",
       "\\item -185.560691185511\n",
       "\\item -185.363248149642\n",
       "\\item -185.096023084764\n",
       "\\item -184.737041447362\n",
       "\\item -184.727271890713\n",
       "\\item -184.720012466739\n",
       "\\item -184.714149748068\n",
       "\\item -184.709469892352\n",
       "\\item -184.705776000582\n",
       "\\item -184.702865844814\n",
       "\\item -184.700544658945\n",
       "\\item -184.698631699655\n",
       "\\item -184.696959796368\n",
       "\\item -184.695369230784\n",
       "\\item -184.683090900474\n",
       "\\item -184.659037025738\n",
       "\\item -184.640788540617\n",
       "\\item -184.620039644917\n",
       "\\item -184.518216279398\n",
       "\\item -184.41845687288\n",
       "\\item -184.352540818326\n",
       "\\item -184.317001711188\n",
       "\\item -184.300056883766\n",
       "\\item -184.292464685719\n",
       "\\item -184.289158612395\n",
       "\\item -184.287736929165\n",
       "\\item -184.287128914951\n",
       "\\end{enumerate*}\n"
      ],
      "text/markdown": [
       "1. -198.184041078147\n",
       "2. -194.811837430279\n",
       "3. -192.20503293868\n",
       "4. -190.021708939355\n",
       "5. -188.320238563406\n",
       "6. -187.103638731872\n",
       "7. -186.331632679386\n",
       "8. -185.862226348472\n",
       "9. -185.560691185511\n",
       "10. -185.363248149642\n",
       "11. -185.096023084764\n",
       "12. -184.737041447362\n",
       "13. -184.727271890713\n",
       "14. -184.720012466739\n",
       "15. -184.714149748068\n",
       "16. -184.709469892352\n",
       "17. -184.705776000582\n",
       "18. -184.702865844814\n",
       "19. -184.700544658945\n",
       "20. -184.698631699655\n",
       "21. -184.696959796368\n",
       "22. -184.695369230784\n",
       "23. -184.683090900474\n",
       "24. -184.659037025738\n",
       "25. -184.640788540617\n",
       "26. -184.620039644917\n",
       "27. -184.518216279398\n",
       "28. -184.41845687288\n",
       "29. -184.352540818326\n",
       "30. -184.317001711188\n",
       "31. -184.300056883766\n",
       "32. -184.292464685719\n",
       "33. -184.289158612395\n",
       "34. -184.287736929165\n",
       "35. -184.287128914951\n",
       "\n",
       "\n"
      ],
      "text/plain": [
       " [1] -198.1840 -194.8118 -192.2050 -190.0217 -188.3202 -187.1036 -186.3316\n",
       " [8] -185.8622 -185.5607 -185.3632 -185.0960 -184.7370 -184.7273 -184.7200\n",
       "[15] -184.7141 -184.7095 -184.7058 -184.7029 -184.7005 -184.6986 -184.6970\n",
       "[22] -184.6954 -184.6831 -184.6590 -184.6408 -184.6200 -184.5182 -184.4185\n",
       "[29] -184.3525 -184.3170 -184.3001 -184.2925 -184.2892 -184.2877 -184.2871"
      ]
     },
     "metadata": {},
     "output_type": "display_data"
    }
   ],
   "source": [
    "fit3$elbo"
   ]
  },
  {
   "cell_type": "code",
   "execution_count": 32,
   "metadata": {},
   "outputs": [
    {
     "data": {
      "text/html": [
       "<style>\n",
       ".list-inline {list-style: none; margin:0; padding: 0}\n",
       ".list-inline>li {display: inline-block}\n",
       ".list-inline>li:not(:last-child)::after {content: \"\\00b7\"; padding: 0 .5ex}\n",
       "</style>\n",
       "<ol class=list-inline><li>0</li><li>0</li><li>0</li><li>0</li><li>0</li><li>0.215164026486418</li><li>0</li><li>0</li><li>0</li><li>0</li></ol>\n"
      ],
      "text/latex": [
       "\\begin{enumerate*}\n",
       "\\item 0\n",
       "\\item 0\n",
       "\\item 0\n",
       "\\item 0\n",
       "\\item 0\n",
       "\\item 0.215164026486418\n",
       "\\item 0\n",
       "\\item 0\n",
       "\\item 0\n",
       "\\item 0\n",
       "\\end{enumerate*}\n"
      ],
      "text/markdown": [
       "1. 0\n",
       "2. 0\n",
       "3. 0\n",
       "4. 0\n",
       "5. 0\n",
       "6. 0.215164026486418\n",
       "7. 0\n",
       "8. 0\n",
       "9. 0\n",
       "10. 0\n",
       "\n",
       "\n"
      ],
      "text/plain": [
       " [1] 0.000000 0.000000 0.000000 0.000000 0.000000 0.215164 0.000000 0.000000\n",
       " [9] 0.000000 0.000000"
      ]
     },
     "metadata": {},
     "output_type": "display_data"
    }
   ],
   "source": [
    "fit3$V"
   ]
  },
  {
   "cell_type": "markdown",
   "metadata": {},
   "source": [
    "It seems to be working, and detects a signal with the 6th effect. \n",
    "\n",
    "To compare I also run `optim` directly,"
   ]
  },
  {
   "cell_type": "code",
   "execution_count": 34,
   "metadata": {},
   "outputs": [],
   "source": [
    "fit4 = msusie(dat$X,dat$y,L=L,prior_variance=V,\n",
    "              compute_objective=T, estimate_residual_variance=F, \n",
    "              estimate_prior_variance=T, estimate_prior_method = 'optim',\n",
    "              track_fit=TRUE)"
   ]
  },
  {
   "cell_type": "code",
   "execution_count": 35,
   "metadata": {},
   "outputs": [
    {
     "data": {
      "text/html": [
       "<style>\n",
       ".list-inline {list-style: none; margin:0; padding: 0}\n",
       ".list-inline>li {display: inline-block}\n",
       ".list-inline>li:not(:last-child)::after {content: \"\\00b7\"; padding: 0 .5ex}\n",
       "</style>\n",
       "<ol class=list-inline><li>-184.286676928861</li><li>-184.286676928861</li></ol>\n"
      ],
      "text/latex": [
       "\\begin{enumerate*}\n",
       "\\item -184.286676928861\n",
       "\\item -184.286676928861\n",
       "\\end{enumerate*}\n"
      ],
      "text/markdown": [
       "1. -184.286676928861\n",
       "2. -184.286676928861\n",
       "\n",
       "\n"
      ],
      "text/plain": [
       "[1] -184.2867 -184.2867"
      ]
     },
     "metadata": {},
     "output_type": "display_data"
    }
   ],
   "source": [
    "fit4$elbo"
   ]
  },
  {
   "cell_type": "code",
   "execution_count": 36,
   "metadata": {},
   "outputs": [
    {
     "data": {
      "text/html": [
       "<style>\n",
       ".list-inline {list-style: none; margin:0; padding: 0}\n",
       ".list-inline>li {display: inline-block}\n",
       ".list-inline>li:not(:last-child)::after {content: \"\\00b7\"; padding: 0 .5ex}\n",
       "</style>\n",
       "<ol class=list-inline><li>0.222436918612558</li><li>0</li><li>0</li><li>0</li><li>0</li><li>0</li><li>0</li><li>0</li><li>0</li><li>0</li></ol>\n"
      ],
      "text/latex": [
       "\\begin{enumerate*}\n",
       "\\item 0.222436918612558\n",
       "\\item 0\n",
       "\\item 0\n",
       "\\item 0\n",
       "\\item 0\n",
       "\\item 0\n",
       "\\item 0\n",
       "\\item 0\n",
       "\\item 0\n",
       "\\item 0\n",
       "\\end{enumerate*}\n"
      ],
      "text/markdown": [
       "1. 0.222436918612558\n",
       "2. 0\n",
       "3. 0\n",
       "4. 0\n",
       "5. 0\n",
       "6. 0\n",
       "7. 0\n",
       "8. 0\n",
       "9. 0\n",
       "10. 0\n",
       "\n",
       "\n"
      ],
      "text/plain": [
       " [1] 0.2224369 0.0000000 0.0000000 0.0000000 0.0000000 0.0000000 0.0000000\n",
       " [8] 0.0000000 0.0000000 0.0000000"
      ]
     },
     "metadata": {},
     "output_type": "display_data"
    }
   ],
   "source": [
    "fit4$V"
   ]
  },
  {
   "cell_type": "markdown",
   "metadata": {},
   "source": [
    "It takes less iterations (though not much less computational time, if not more) and the ELBO achieved is slightly higher."
   ]
  },
  {
   "cell_type": "markdown",
   "metadata": {},
   "source": [
    "An additional comparison between `EM` and `optim` [can be found here](em_optim_est_prior.html). `optim` seems better in that scenario."
   ]
  },
  {
   "cell_type": "markdown",
   "metadata": {},
   "source": [
    "## Verify that MASH prior is also correctly implemented"
   ]
  },
  {
   "cell_type": "markdown",
   "metadata": {},
   "source": [
    "When `V` is not invertable,"
   ]
  },
  {
   "cell_type": "code",
   "execution_count": null,
   "metadata": {},
   "outputs": [],
   "source": [
    "m_init = MashInitializer$new(list(V), 1)\n",
    "fit5 = msusie(dat$X,dat$y,L=L,prior_variance=m_init, \n",
    "              compute_objective=T, estimate_residual_variance=F, precompute_covariances=T,\n",
    "              estimate_prior_variance=T, estimate_prior_method = 'EM',\n",
    "              track_fit=TRUE)"
   ]
  },
  {
   "cell_type": "code",
   "execution_count": 5,
   "metadata": {},
   "outputs": [
    {
     "data": {
      "text/html": [
       "<style>\n",
       ".list-inline {list-style: none; margin:0; padding: 0}\n",
       ".list-inline>li {display: inline-block}\n",
       ".list-inline>li:not(:last-child)::after {content: \"\\00b7\"; padding: 0 .5ex}\n",
       "</style>\n",
       "<ol class=list-inline><li>0</li><li>0</li><li>0</li><li>0</li><li>0</li><li>0.215164026486418</li><li>0</li><li>0</li><li>0</li><li>0</li></ol>\n"
      ],
      "text/latex": [
       "\\begin{enumerate*}\n",
       "\\item 0\n",
       "\\item 0\n",
       "\\item 0\n",
       "\\item 0\n",
       "\\item 0\n",
       "\\item 0.215164026486418\n",
       "\\item 0\n",
       "\\item 0\n",
       "\\item 0\n",
       "\\item 0\n",
       "\\end{enumerate*}\n"
      ],
      "text/markdown": [
       "1. 0\n",
       "2. 0\n",
       "3. 0\n",
       "4. 0\n",
       "5. 0\n",
       "6. 0.215164026486418\n",
       "7. 0\n",
       "8. 0\n",
       "9. 0\n",
       "10. 0\n",
       "\n",
       "\n"
      ],
      "text/plain": [
       " [1] 0.000000 0.000000 0.000000 0.000000 0.000000 0.215164 0.000000 0.000000\n",
       " [9] 0.000000 0.000000"
      ]
     },
     "metadata": {},
     "output_type": "display_data"
    }
   ],
   "source": [
    "fit5$V"
   ]
  },
  {
   "cell_type": "markdown",
   "metadata": {},
   "source": [
    "When `V` is invertable,"
   ]
  },
  {
   "cell_type": "code",
   "execution_count": 27,
   "metadata": {},
   "outputs": [],
   "source": [
    "m_init = MashInitializer$new(list(diag(2)), 1)\n",
    "fit6 = msusie(dat$X,dat$y,L=L,prior_variance=m_init, \n",
    "              compute_objective=T, estimate_residual_variance=F, precompute_covariances=T,\n",
    "              estimate_prior_variance=T, estimate_prior_method = 'EM',\n",
    "              track_fit=TRUE)"
   ]
  },
  {
   "cell_type": "code",
   "execution_count": 8,
   "metadata": {},
   "outputs": [
    {
     "data": {
      "text/html": [
       "<style>\n",
       ".list-inline {list-style: none; margin:0; padding: 0}\n",
       ".list-inline>li {display: inline-block}\n",
       ".list-inline>li:not(:last-child)::after {content: \"\\00b7\"; padding: 0 .5ex}\n",
       "</style>\n",
       "<ol class=list-inline><li>0.340567896558995</li><li>0</li><li>0</li><li>0</li><li>0</li><li>0</li><li>0</li><li>0.34528976531648</li><li>0</li><li>0</li></ol>\n"
      ],
      "text/latex": [
       "\\begin{enumerate*}\n",
       "\\item 0.340567896558995\n",
       "\\item 0\n",
       "\\item 0\n",
       "\\item 0\n",
       "\\item 0\n",
       "\\item 0\n",
       "\\item 0\n",
       "\\item 0.34528976531648\n",
       "\\item 0\n",
       "\\item 0\n",
       "\\end{enumerate*}\n"
      ],
      "text/markdown": [
       "1. 0.340567896558995\n",
       "2. 0\n",
       "3. 0\n",
       "4. 0\n",
       "5. 0\n",
       "6. 0\n",
       "7. 0\n",
       "8. 0.34528976531648\n",
       "9. 0\n",
       "10. 0\n",
       "\n",
       "\n"
      ],
      "text/plain": [
       " [1] 0.3405679 0.0000000 0.0000000 0.0000000 0.0000000 0.0000000 0.0000000\n",
       " [8] 0.3452898 0.0000000 0.0000000"
      ]
     },
     "metadata": {},
     "output_type": "display_data"
    }
   ],
   "source": [
    "fit6$V"
   ]
  },
  {
   "cell_type": "markdown",
   "metadata": {},
   "source": [
    "This result agrees with above from BMR. Now I comment out the line to precompute inverse so it will use the trick around inverse implemented for MASH,"
   ]
  },
  {
   "cell_type": "code",
   "execution_count": 28,
   "metadata": {},
   "outputs": [
    {
     "name": "stderr",
     "output_type": "stream",
     "text": [
      "Loading mmbr\n",
      "\n"
     ]
    },
    {
     "name": "stdout",
     "output_type": "stream",
     "text": [
      "NULL\n"
     ]
    }
   ],
   "source": [
    "devtools::load_all('~/GIT/software/mmbr')\n",
    "m_init = MashInitializer$new(list(diag(2)), 1)\n",
    "fit7 = msusie(dat$X,dat$y,L=L,prior_variance=m_init,\n",
    "              compute_objective=T, estimate_residual_variance=F, precompute_covariances=T,\n",
    "              estimate_prior_variance=T, estimate_prior_method = 'EM',\n",
    "              track_fit=TRUE)"
   ]
  },
  {
   "cell_type": "code",
   "execution_count": 29,
   "metadata": {},
   "outputs": [
    {
     "data": {
      "text/html": [
       "<style>\n",
       ".list-inline {list-style: none; margin:0; padding: 0}\n",
       ".list-inline>li {display: inline-block}\n",
       ".list-inline>li:not(:last-child)::after {content: \"\\00b7\"; padding: 0 .5ex}\n",
       "</style>\n",
       "<ol class=list-inline><li>0.340567896558995</li><li>0</li><li>0</li><li>0</li><li>0</li><li>0</li><li>0</li><li>0.34528976531648</li><li>0</li><li>0</li></ol>\n"
      ],
      "text/latex": [
       "\\begin{enumerate*}\n",
       "\\item 0.340567896558995\n",
       "\\item 0\n",
       "\\item 0\n",
       "\\item 0\n",
       "\\item 0\n",
       "\\item 0\n",
       "\\item 0\n",
       "\\item 0.34528976531648\n",
       "\\item 0\n",
       "\\item 0\n",
       "\\end{enumerate*}\n"
      ],
      "text/markdown": [
       "1. 0.340567896558995\n",
       "2. 0\n",
       "3. 0\n",
       "4. 0\n",
       "5. 0\n",
       "6. 0\n",
       "7. 0\n",
       "8. 0.34528976531648\n",
       "9. 0\n",
       "10. 0\n",
       "\n",
       "\n"
      ],
      "text/plain": [
       " [1] 0.3405679 0.0000000 0.0000000 0.0000000 0.0000000 0.0000000 0.0000000\n",
       " [8] 0.3452898 0.0000000 0.0000000"
      ]
     },
     "metadata": {},
     "output_type": "display_data"
    }
   ],
   "source": [
    "fit7$V"
   ]
  },
  {
   "cell_type": "code",
   "execution_count": null,
   "metadata": {},
   "outputs": [],
   "source": []
  }
 ],
 "metadata": {
  "kernelspec": {
   "display_name": "R",
   "language": "R",
   "name": "ir"
  },
  "language_info": {
   "codemirror_mode": "r",
   "file_extension": ".r",
   "mimetype": "text/x-r-source",
   "name": "R",
   "pygments_lexer": "r",
   "version": "3.6.3"
  }
 },
 "nbformat": 4,
 "nbformat_minor": 4
}
