{
 "cells": [
  {
   "cell_type": "markdown",
   "metadata": {
    "kernel": "SoS"
   },
   "source": [
    "# Numerical comparison plots\n",
    "\n",
    "Figure to summarize numerical comparison results. See [this notebook](https://gaow.github.io/mvarbvs/analysis/20190218_MNM_Benchmark.html) for its input data.\n",
    "\n",
    "I plan to make 3 types of comparisons: oracle, mismatched and default. In particular I'll put together results from all scenarios (averaged), singleton scenario and shared (with heterogenous effect size), in 3 panels, for 6 quantities:\n",
    "\n",
    "- size\n",
    "- purity\n",
    "- coverage\n",
    "- power\n",
    "- per condition FDR\n",
    "- per condition power"
   ]
  },
  {
   "cell_type": "code",
   "execution_count": 1,
   "metadata": {
    "kernel": "SoS"
   },
   "outputs": [
    {
     "name": "stdout",
     "output_type": "stream",
     "text": [
      "/home/gaow/GIT/github/mnm-twas/dsc"
     ]
    }
   ],
   "source": [
    "%cd ~/GIT/github/mnm-twas/dsc"
   ]
  },
  {
   "cell_type": "markdown",
   "metadata": {
    "kernel": "SoS"
   },
   "source": [
    "## Load and organize data"
   ]
  },
  {
   "cell_type": "code",
   "execution_count": 2,
   "metadata": {
    "kernel": "R"
   },
   "outputs": [],
   "source": [
    "res = readRDS('../data/finemap_output.query_result.rds')\n",
    "res = res[,c(2,4,5,6,7,8,9,10,11,12,13,14,15)]\n",
    "colnames(res) = c('pattern', 'method', 'total', 'valid', 'size', 'purity', 'top_hit', 'total_true', 'total_true_included', 'overlap', 'false_positive_cross_cond', 'false_negative_cross_cond', 'true_positive_cross_cond')"
   ]
  },
  {
   "cell_type": "code",
   "execution_count": 3,
   "metadata": {
    "kernel": "R"
   },
   "outputs": [],
   "source": [
    "oracle = \"M&M oracle\"\n",
    "mismatch = \"M&M mismatch\"\n",
    "default = \"M&M default mixture\""
   ]
  },
  {
   "cell_type": "markdown",
   "metadata": {
    "kernel": "R"
   },
   "source": [
    "## Purity"
   ]
  },
  {
   "cell_type": "code",
   "execution_count": 4,
   "metadata": {
    "kernel": "R"
   },
   "outputs": [
    {
     "data": {
      "text/html": [
       "<table>\n",
       "<thead><tr><th scope=col>scenario</th><th scope=col>purity</th></tr></thead>\n",
       "<tbody>\n",
       "\t<tr><td>M&amp;M default mixture</td><td>0.9847903              </td></tr>\n",
       "\t<tr><td><span style=white-space:pre-wrap>M&amp;M mismatch       </span></td><td>0.9360424                                                      </td></tr>\n",
       "\t<tr><td><span style=white-space:pre-wrap>M&amp;M oracle         </span></td><td>0.9837503                                                      </td></tr>\n",
       "</tbody>\n",
       "</table>\n"
      ],
      "text/latex": [
       "\\begin{tabular}{r|ll}\n",
       " scenario & purity\\\\\n",
       "\\hline\n",
       "\t M\\&M default mixture & 0.9847903            \\\\\n",
       "\t M\\&M mismatch        & 0.9360424            \\\\\n",
       "\t M\\&M oracle          & 0.9837503            \\\\\n",
       "\\end{tabular}\n"
      ],
      "text/markdown": [
       "\n",
       "scenario | purity | \n",
       "|---|---|---|\n",
       "| M&M default mixture | 0.9847903           | \n",
       "| M&M mismatch        | 0.9360424           | \n",
       "| M&M oracle          | 0.9837503           | \n",
       "\n",
       "\n"
      ],
      "text/plain": [
       "  scenario            purity   \n",
       "1 M&M default mixture 0.9847903\n",
       "2 M&M mismatch        0.9360424\n",
       "3 M&M oracle          0.9837503"
      ]
     },
     "metadata": {},
     "output_type": "display_data"
    }
   ],
   "source": [
    "purity = aggregate(purity~pattern + method, res, mean)\n",
    "purity$scenario = rep(NA, nrow(purity))\n",
    "purity$scenario[which(purity$method == purity$pattern & purity$method != 'mixture_1')] = oracle\n",
    "purity$scenario[which(purity$method != purity$pattern & purity$method != 'mixture_1')] = mismatch\n",
    "purity$scenario[which(purity$method == \"mixture_1\")] = default\n",
    "purity = purity[which(!is.na(purity$scenario)),]\n",
    "purity_median = aggregate(purity~scenario, purity, median)\n",
    "purity_median"
   ]
  },
  {
   "cell_type": "code",
   "execution_count": 5,
   "metadata": {
    "kernel": "R"
   },
   "outputs": [
    {
     "data": {
      "text/html": [
       "<table>\n",
       "<thead><tr><th scope=col>scenario</th><th scope=col>purity</th></tr></thead>\n",
       "<tbody>\n",
       "\t<tr><td>M&amp;M default mixture</td><td>0.8568686              </td></tr>\n",
       "\t<tr><td><span style=white-space:pre-wrap>M&amp;M mismatch       </span></td><td>0.8554835                                                      </td></tr>\n",
       "\t<tr><td><span style=white-space:pre-wrap>M&amp;M oracle         </span></td><td>0.8699070                                                      </td></tr>\n",
       "</tbody>\n",
       "</table>\n"
      ],
      "text/latex": [
       "\\begin{tabular}{r|ll}\n",
       " scenario & purity\\\\\n",
       "\\hline\n",
       "\t M\\&M default mixture & 0.8568686            \\\\\n",
       "\t M\\&M mismatch        & 0.8554835            \\\\\n",
       "\t M\\&M oracle          & 0.8699070            \\\\\n",
       "\\end{tabular}\n"
      ],
      "text/markdown": [
       "\n",
       "scenario | purity | \n",
       "|---|---|---|\n",
       "| M&M default mixture | 0.8568686           | \n",
       "| M&M mismatch        | 0.8554835           | \n",
       "| M&M oracle          | 0.8699070           | \n",
       "\n",
       "\n"
      ],
      "text/plain": [
       "  scenario            purity   \n",
       "1 M&M default mixture 0.8568686\n",
       "2 M&M mismatch        0.8554835\n",
       "3 M&M oracle          0.8699070"
      ]
     },
     "metadata": {},
     "output_type": "display_data"
    }
   ],
   "source": [
    "purity_singleton = purity[which(purity$pattern == 'singleton'),]\n",
    "purity_median_singleton = aggregate(purity~scenario, purity_singleton, median)\n",
    "purity_median_singleton"
   ]
  },
  {
   "cell_type": "code",
   "execution_count": 6,
   "metadata": {
    "kernel": "R"
   },
   "outputs": [
    {
     "data": {
      "text/html": [
       "<table>\n",
       "<thead><tr><th scope=col>scenario</th><th scope=col>purity</th></tr></thead>\n",
       "<tbody>\n",
       "\t<tr><td>M&amp;M default mixture</td><td>0.9851506              </td></tr>\n",
       "\t<tr><td><span style=white-space:pre-wrap>M&amp;M mismatch       </span></td><td>0.9835865                                                      </td></tr>\n",
       "\t<tr><td><span style=white-space:pre-wrap>M&amp;M oracle         </span></td><td>0.9854448                                                      </td></tr>\n",
       "</tbody>\n",
       "</table>\n"
      ],
      "text/latex": [
       "\\begin{tabular}{r|ll}\n",
       " scenario & purity\\\\\n",
       "\\hline\n",
       "\t M\\&M default mixture & 0.9851506            \\\\\n",
       "\t M\\&M mismatch        & 0.9835865            \\\\\n",
       "\t M\\&M oracle          & 0.9854448            \\\\\n",
       "\\end{tabular}\n"
      ],
      "text/markdown": [
       "\n",
       "scenario | purity | \n",
       "|---|---|---|\n",
       "| M&M default mixture | 0.9851506           | \n",
       "| M&M mismatch        | 0.9835865           | \n",
       "| M&M oracle          | 0.9854448           | \n",
       "\n",
       "\n"
      ],
      "text/plain": [
       "  scenario            purity   \n",
       "1 M&M default mixture 0.9851506\n",
       "2 M&M mismatch        0.9835865\n",
       "3 M&M oracle          0.9854448"
      ]
     },
     "metadata": {},
     "output_type": "display_data"
    }
   ],
   "source": [
    "purity_het = purity[which(purity$pattern == 'low_het'),]\n",
    "purity_median_het = aggregate(purity~scenario, purity_het, median)\n",
    "purity_median_het"
   ]
  },
  {
   "cell_type": "markdown",
   "metadata": {
    "kernel": "R"
   },
   "source": [
    "## Size"
   ]
  },
  {
   "cell_type": "code",
   "execution_count": 7,
   "metadata": {
    "kernel": "R"
   },
   "outputs": [],
   "source": [
    "size = aggregate(size~pattern + method, res, mean)\n",
    "size$scenario = rep(NA, nrow(size))\n",
    "size$scenario[which(size$method == size$pattern & size$method != 'mixture_1')] = oracle\n",
    "size$scenario[which(size$method != size$pattern & size$method != 'mixture_1')] = mismatch\n",
    "size$scenario[which(size$method == \"mixture_1\")] = default\n",
    "size = size[which(!is.na(size$scenario)),]\n",
    "size_median = aggregate(size~scenario, size, median)\n",
    "size_singleton = size[which(size$pattern == 'singleton'),]\n",
    "size_median_singleton = aggregate(size~scenario, size_singleton, median)\n",
    "size_het = size[which(size$pattern == 'low_het'),]\n",
    "size_median_het = aggregate(size~scenario, size_het, median)"
   ]
  },
  {
   "cell_type": "code",
   "execution_count": 8,
   "metadata": {
    "kernel": "R"
   },
   "outputs": [
    {
     "data": {
      "text/html": [
       "<table>\n",
       "<thead><tr><th scope=col>scenario</th><th scope=col>size</th></tr></thead>\n",
       "<tbody>\n",
       "\t<tr><td>M&amp;M default mixture</td><td> 9.771                 </td></tr>\n",
       "\t<tr><td><span style=white-space:pre-wrap>M&amp;M mismatch       </span></td><td>11.613                                                         </td></tr>\n",
       "\t<tr><td><span style=white-space:pre-wrap>M&amp;M oracle         </span></td><td> 9.782                                                         </td></tr>\n",
       "</tbody>\n",
       "</table>\n"
      ],
      "text/latex": [
       "\\begin{tabular}{r|ll}\n",
       " scenario & size\\\\\n",
       "\\hline\n",
       "\t M\\&M default mixture &  9.771               \\\\\n",
       "\t M\\&M mismatch        & 11.613               \\\\\n",
       "\t M\\&M oracle          &  9.782               \\\\\n",
       "\\end{tabular}\n"
      ],
      "text/markdown": [
       "\n",
       "scenario | size | \n",
       "|---|---|---|\n",
       "| M&M default mixture |  9.771              | \n",
       "| M&M mismatch        | 11.613              | \n",
       "| M&M oracle          |  9.782              | \n",
       "\n",
       "\n"
      ],
      "text/plain": [
       "  scenario            size  \n",
       "1 M&M default mixture  9.771\n",
       "2 M&M mismatch        11.613\n",
       "3 M&M oracle           9.782"
      ]
     },
     "metadata": {},
     "output_type": "display_data"
    }
   ],
   "source": [
    "size_median"
   ]
  },
  {
   "cell_type": "code",
   "execution_count": 9,
   "metadata": {
    "kernel": "R"
   },
   "outputs": [
    {
     "data": {
      "text/html": [
       "<table>\n",
       "<thead><tr><th scope=col>scenario</th><th scope=col>size</th></tr></thead>\n",
       "<tbody>\n",
       "\t<tr><td>M&amp;M default mixture</td><td>17.714                 </td></tr>\n",
       "\t<tr><td><span style=white-space:pre-wrap>M&amp;M mismatch       </span></td><td>17.291                                                         </td></tr>\n",
       "\t<tr><td><span style=white-space:pre-wrap>M&amp;M oracle         </span></td><td>18.366                                                         </td></tr>\n",
       "</tbody>\n",
       "</table>\n"
      ],
      "text/latex": [
       "\\begin{tabular}{r|ll}\n",
       " scenario & size\\\\\n",
       "\\hline\n",
       "\t M\\&M default mixture & 17.714               \\\\\n",
       "\t M\\&M mismatch        & 17.291               \\\\\n",
       "\t M\\&M oracle          & 18.366               \\\\\n",
       "\\end{tabular}\n"
      ],
      "text/markdown": [
       "\n",
       "scenario | size | \n",
       "|---|---|---|\n",
       "| M&M default mixture | 17.714              | \n",
       "| M&M mismatch        | 17.291              | \n",
       "| M&M oracle          | 18.366              | \n",
       "\n",
       "\n"
      ],
      "text/plain": [
       "  scenario            size  \n",
       "1 M&M default mixture 17.714\n",
       "2 M&M mismatch        17.291\n",
       "3 M&M oracle          18.366"
      ]
     },
     "metadata": {},
     "output_type": "display_data"
    }
   ],
   "source": [
    "size_median_singleton"
   ]
  },
  {
   "cell_type": "code",
   "execution_count": 10,
   "metadata": {
    "kernel": "R"
   },
   "outputs": [
    {
     "data": {
      "text/html": [
       "<table>\n",
       "<thead><tr><th scope=col>scenario</th><th scope=col>size</th></tr></thead>\n",
       "<tbody>\n",
       "\t<tr><td>M&amp;M default mixture</td><td>8.679                  </td></tr>\n",
       "\t<tr><td><span style=white-space:pre-wrap>M&amp;M mismatch       </span></td><td>8.797                                                          </td></tr>\n",
       "\t<tr><td><span style=white-space:pre-wrap>M&amp;M oracle         </span></td><td>8.624                                                          </td></tr>\n",
       "</tbody>\n",
       "</table>\n"
      ],
      "text/latex": [
       "\\begin{tabular}{r|ll}\n",
       " scenario & size\\\\\n",
       "\\hline\n",
       "\t M\\&M default mixture & 8.679                \\\\\n",
       "\t M\\&M mismatch        & 8.797                \\\\\n",
       "\t M\\&M oracle          & 8.624                \\\\\n",
       "\\end{tabular}\n"
      ],
      "text/markdown": [
       "\n",
       "scenario | size | \n",
       "|---|---|---|\n",
       "| M&M default mixture | 8.679               | \n",
       "| M&M mismatch        | 8.797               | \n",
       "| M&M oracle          | 8.624               | \n",
       "\n",
       "\n"
      ],
      "text/plain": [
       "  scenario            size \n",
       "1 M&M default mixture 8.679\n",
       "2 M&M mismatch        8.797\n",
       "3 M&M oracle          8.624"
      ]
     },
     "metadata": {},
     "output_type": "display_data"
    }
   ],
   "source": [
    "size_median_het"
   ]
  },
  {
   "cell_type": "markdown",
   "metadata": {
    "kernel": "R"
   },
   "source": [
    "## Coverage\n"
   ]
  },
  {
   "cell_type": "code",
   "execution_count": 11,
   "metadata": {
    "kernel": "R"
   },
   "outputs": [],
   "source": [
    "valid = aggregate(valid ~ pattern + method, res, sum)\n",
    "total = aggregate(total ~ pattern + method, res, sum)\n",
    "fdr = merge(valid, total, by = c(\"pattern\", \"method\"))\n",
    "fdr$fdr = (fdr$total - fdr$valid)/fdr$total"
   ]
  },
  {
   "cell_type": "code",
   "execution_count": 12,
   "metadata": {
    "kernel": "R"
   },
   "outputs": [],
   "source": [
    "fdr$scenario = rep(NA, nrow(fdr))\n",
    "fdr$scenario[which(fdr$method == fdr$pattern & fdr$method != 'mixture_1')] = oracle\n",
    "fdr$scenario[which(fdr$method != fdr$pattern & fdr$method != 'mixture_1')] = mismatch\n",
    "fdr$scenario[which(fdr$method == \"mixture_1\")] = default\n",
    "fdr = fdr[which(!is.na(fdr$scenario)),]\n",
    "fdr_mean = aggregate(fdr~scenario, fdr, mean)\n",
    "fdr_singleton = fdr[which(fdr$pattern == 'singleton'),]\n",
    "fdr_mean_singleton = aggregate(fdr~scenario, fdr_singleton, mean)\n",
    "fdr_het = fdr[which(fdr$pattern == 'low_het'),]\n",
    "fdr_mean_het = aggregate(fdr~scenario, fdr_het, mean)"
   ]
  },
  {
   "cell_type": "code",
   "execution_count": 13,
   "metadata": {
    "kernel": "R"
   },
   "outputs": [
    {
     "data": {
      "text/html": [
       "<table>\n",
       "<thead><tr><th scope=col>scenario</th><th scope=col>fdr</th></tr></thead>\n",
       "<tbody>\n",
       "\t<tr><td>M&amp;M default mixture</td><td>0.05729344             </td></tr>\n",
       "\t<tr><td><span style=white-space:pre-wrap>M&amp;M mismatch       </span></td><td>0.07227381                                                     </td></tr>\n",
       "\t<tr><td><span style=white-space:pre-wrap>M&amp;M oracle         </span></td><td>0.07222584                                                     </td></tr>\n",
       "</tbody>\n",
       "</table>\n"
      ],
      "text/latex": [
       "\\begin{tabular}{r|ll}\n",
       " scenario & fdr\\\\\n",
       "\\hline\n",
       "\t M\\&M default mixture & 0.05729344           \\\\\n",
       "\t M\\&M mismatch        & 0.07227381           \\\\\n",
       "\t M\\&M oracle          & 0.07222584           \\\\\n",
       "\\end{tabular}\n"
      ],
      "text/markdown": [
       "\n",
       "scenario | fdr | \n",
       "|---|---|---|\n",
       "| M&M default mixture | 0.05729344          | \n",
       "| M&M mismatch        | 0.07227381          | \n",
       "| M&M oracle          | 0.07222584          | \n",
       "\n",
       "\n"
      ],
      "text/plain": [
       "  scenario            fdr       \n",
       "1 M&M default mixture 0.05729344\n",
       "2 M&M mismatch        0.07227381\n",
       "3 M&M oracle          0.07222584"
      ]
     },
     "metadata": {},
     "output_type": "display_data"
    }
   ],
   "source": [
    "fdr_mean"
   ]
  },
  {
   "cell_type": "code",
   "execution_count": 14,
   "metadata": {
    "kernel": "R"
   },
   "outputs": [
    {
     "data": {
      "text/html": [
       "<table>\n",
       "<thead><tr><th scope=col>scenario</th><th scope=col>fdr</th></tr></thead>\n",
       "<tbody>\n",
       "\t<tr><td>M&amp;M default mixture</td><td>0.05464481             </td></tr>\n",
       "\t<tr><td><span style=white-space:pre-wrap>M&amp;M mismatch       </span></td><td>0.08773907                                                     </td></tr>\n",
       "\t<tr><td><span style=white-space:pre-wrap>M&amp;M oracle         </span></td><td>0.05663717                                                     </td></tr>\n",
       "</tbody>\n",
       "</table>\n"
      ],
      "text/latex": [
       "\\begin{tabular}{r|ll}\n",
       " scenario & fdr\\\\\n",
       "\\hline\n",
       "\t M\\&M default mixture & 0.05464481           \\\\\n",
       "\t M\\&M mismatch        & 0.08773907           \\\\\n",
       "\t M\\&M oracle          & 0.05663717           \\\\\n",
       "\\end{tabular}\n"
      ],
      "text/markdown": [
       "\n",
       "scenario | fdr | \n",
       "|---|---|---|\n",
       "| M&M default mixture | 0.05464481          | \n",
       "| M&M mismatch        | 0.08773907          | \n",
       "| M&M oracle          | 0.05663717          | \n",
       "\n",
       "\n"
      ],
      "text/plain": [
       "  scenario            fdr       \n",
       "1 M&M default mixture 0.05464481\n",
       "2 M&M mismatch        0.08773907\n",
       "3 M&M oracle          0.05663717"
      ]
     },
     "metadata": {},
     "output_type": "display_data"
    }
   ],
   "source": [
    "fdr_mean_singleton"
   ]
  },
  {
   "cell_type": "code",
   "execution_count": 15,
   "metadata": {
    "kernel": "R"
   },
   "outputs": [
    {
     "data": {
      "text/html": [
       "<table>\n",
       "<thead><tr><th scope=col>scenario</th><th scope=col>fdr</th></tr></thead>\n",
       "<tbody>\n",
       "\t<tr><td>M&amp;M default mixture</td><td>0.05804111             </td></tr>\n",
       "\t<tr><td><span style=white-space:pre-wrap>M&amp;M mismatch       </span></td><td>0.06680457                                                     </td></tr>\n",
       "\t<tr><td><span style=white-space:pre-wrap>M&amp;M oracle         </span></td><td>0.07048984                                                     </td></tr>\n",
       "</tbody>\n",
       "</table>\n"
      ],
      "text/latex": [
       "\\begin{tabular}{r|ll}\n",
       " scenario & fdr\\\\\n",
       "\\hline\n",
       "\t M\\&M default mixture & 0.05804111           \\\\\n",
       "\t M\\&M mismatch        & 0.06680457           \\\\\n",
       "\t M\\&M oracle          & 0.07048984           \\\\\n",
       "\\end{tabular}\n"
      ],
      "text/markdown": [
       "\n",
       "scenario | fdr | \n",
       "|---|---|---|\n",
       "| M&M default mixture | 0.05804111          | \n",
       "| M&M mismatch        | 0.06680457          | \n",
       "| M&M oracle          | 0.07048984          | \n",
       "\n",
       "\n"
      ],
      "text/plain": [
       "  scenario            fdr       \n",
       "1 M&M default mixture 0.05804111\n",
       "2 M&M mismatch        0.06680457\n",
       "3 M&M oracle          0.07048984"
      ]
     },
     "metadata": {},
     "output_type": "display_data"
    }
   ],
   "source": [
    "fdr_mean_het"
   ]
  },
  {
   "cell_type": "markdown",
   "metadata": {
    "kernel": "R"
   },
   "source": [
    "## Power"
   ]
  },
  {
   "cell_type": "code",
   "execution_count": 16,
   "metadata": {
    "kernel": "R"
   },
   "outputs": [],
   "source": [
    "total_true_included = aggregate(total_true_included ~ pattern + method, res, sum)\n",
    "total_true = aggregate(total_true ~ pattern + method, res, sum)\n",
    "overlap = aggregate(overlap ~ pattern + method, res, mean)\n",
    "power = merge(total_true_included, total_true, by = c(\"pattern\", \"method\"))\n",
    "power = merge(power, overlap,  by = c(\"pattern\", \"method\"))\n",
    "power$power = power$total_true_included/power$total_true"
   ]
  },
  {
   "cell_type": "code",
   "execution_count": 17,
   "metadata": {
    "kernel": "R"
   },
   "outputs": [],
   "source": [
    "power$scenario = rep(NA, nrow(power))\n",
    "power$scenario[which(power$method == power$pattern & power$method != 'mixture_1')] = oracle\n",
    "power$scenario[which(power$method != power$pattern & power$method != 'mixture_1')] = mismatch\n",
    "power$scenario[which(power$method == \"mixture_1\")] = default\n",
    "power = power[which(!is.na(power$scenario)),]\n",
    "power_mean = aggregate(power~scenario, power, mean)\n",
    "power_singleton = power[which(power$pattern == 'singleton'),]\n",
    "power_mean_singleton = aggregate(power~scenario, power_singleton, mean)\n",
    "power_het = power[which(power$pattern == 'low_het'),]\n",
    "power_mean_het = aggregate(power~scenario, power_het, mean)"
   ]
  },
  {
   "cell_type": "code",
   "execution_count": 18,
   "metadata": {
    "kernel": "R"
   },
   "outputs": [
    {
     "data": {
      "text/html": [
       "<table>\n",
       "<thead><tr><th scope=col>scenario</th><th scope=col>power</th></tr></thead>\n",
       "<tbody>\n",
       "\t<tr><td>M&amp;M default mixture</td><td>0.8623861              </td></tr>\n",
       "\t<tr><td><span style=white-space:pre-wrap>M&amp;M mismatch       </span></td><td>0.8328877                                                      </td></tr>\n",
       "\t<tr><td><span style=white-space:pre-wrap>M&amp;M oracle         </span></td><td>0.8769862                                                      </td></tr>\n",
       "</tbody>\n",
       "</table>\n"
      ],
      "text/latex": [
       "\\begin{tabular}{r|ll}\n",
       " scenario & power\\\\\n",
       "\\hline\n",
       "\t M\\&M default mixture & 0.8623861            \\\\\n",
       "\t M\\&M mismatch        & 0.8328877            \\\\\n",
       "\t M\\&M oracle          & 0.8769862            \\\\\n",
       "\\end{tabular}\n"
      ],
      "text/markdown": [
       "\n",
       "scenario | power | \n",
       "|---|---|---|\n",
       "| M&M default mixture | 0.8623861           | \n",
       "| M&M mismatch        | 0.8328877           | \n",
       "| M&M oracle          | 0.8769862           | \n",
       "\n",
       "\n"
      ],
      "text/plain": [
       "  scenario            power    \n",
       "1 M&M default mixture 0.8623861\n",
       "2 M&M mismatch        0.8328877\n",
       "3 M&M oracle          0.8769862"
      ]
     },
     "metadata": {},
     "output_type": "display_data"
    }
   ],
   "source": [
    "power_mean"
   ]
  },
  {
   "cell_type": "code",
   "execution_count": 19,
   "metadata": {
    "kernel": "R"
   },
   "outputs": [
    {
     "data": {
      "text/html": [
       "<table>\n",
       "<thead><tr><th scope=col>scenario</th><th scope=col>power</th></tr></thead>\n",
       "<tbody>\n",
       "\t<tr><td>M&amp;M default mixture</td><td>0.6433824              </td></tr>\n",
       "\t<tr><td><span style=white-space:pre-wrap>M&amp;M mismatch       </span></td><td>0.5791667                                                      </td></tr>\n",
       "\t<tr><td><span style=white-space:pre-wrap>M&amp;M oracle         </span></td><td>0.6629902                                                      </td></tr>\n",
       "</tbody>\n",
       "</table>\n"
      ],
      "text/latex": [
       "\\begin{tabular}{r|ll}\n",
       " scenario & power\\\\\n",
       "\\hline\n",
       "\t M\\&M default mixture & 0.6433824            \\\\\n",
       "\t M\\&M mismatch        & 0.5791667            \\\\\n",
       "\t M\\&M oracle          & 0.6629902            \\\\\n",
       "\\end{tabular}\n"
      ],
      "text/markdown": [
       "\n",
       "scenario | power | \n",
       "|---|---|---|\n",
       "| M&M default mixture | 0.6433824           | \n",
       "| M&M mismatch        | 0.5791667           | \n",
       "| M&M oracle          | 0.6629902           | \n",
       "\n",
       "\n"
      ],
      "text/plain": [
       "  scenario            power    \n",
       "1 M&M default mixture 0.6433824\n",
       "2 M&M mismatch        0.5791667\n",
       "3 M&M oracle          0.6629902"
      ]
     },
     "metadata": {},
     "output_type": "display_data"
    }
   ],
   "source": [
    "power_mean_singleton"
   ]
  },
  {
   "cell_type": "code",
   "execution_count": 20,
   "metadata": {
    "kernel": "R"
   },
   "outputs": [
    {
     "data": {
      "text/html": [
       "<table>\n",
       "<thead><tr><th scope=col>scenario</th><th scope=col>power</th></tr></thead>\n",
       "<tbody>\n",
       "\t<tr><td>M&amp;M default mixture</td><td>0.9183197              </td></tr>\n",
       "\t<tr><td><span style=white-space:pre-wrap>M&amp;M mismatch       </span></td><td>0.8991832                                                      </td></tr>\n",
       "\t<tr><td><span style=white-space:pre-wrap>M&amp;M oracle         </span></td><td>0.9148191                                                      </td></tr>\n",
       "</tbody>\n",
       "</table>\n"
      ],
      "text/latex": [
       "\\begin{tabular}{r|ll}\n",
       " scenario & power\\\\\n",
       "\\hline\n",
       "\t M\\&M default mixture & 0.9183197            \\\\\n",
       "\t M\\&M mismatch        & 0.8991832            \\\\\n",
       "\t M\\&M oracle          & 0.9148191            \\\\\n",
       "\\end{tabular}\n"
      ],
      "text/markdown": [
       "\n",
       "scenario | power | \n",
       "|---|---|---|\n",
       "| M&M default mixture | 0.9183197           | \n",
       "| M&M mismatch        | 0.8991832           | \n",
       "| M&M oracle          | 0.9148191           | \n",
       "\n",
       "\n"
      ],
      "text/plain": [
       "  scenario            power    \n",
       "1 M&M default mixture 0.9183197\n",
       "2 M&M mismatch        0.8991832\n",
       "3 M&M oracle          0.9148191"
      ]
     },
     "metadata": {},
     "output_type": "display_data"
    }
   ],
   "source": [
    "power_mean_het"
   ]
  },
  {
   "cell_type": "markdown",
   "metadata": {
    "kernel": "R"
   },
   "source": [
    "## FDR per condition"
   ]
  },
  {
   "cell_type": "code",
   "execution_count": 21,
   "metadata": {
    "kernel": "R"
   },
   "outputs": [],
   "source": [
    "tp = aggregate(true_positive_cross_cond ~ pattern + method, res, sum)\n",
    "fp = aggregate(false_positive_cross_cond ~ pattern + method, res, sum)\n",
    "fdr_cond = merge(tp, fp, by = c(\"pattern\", \"method\"))\n",
    "fdr_cond$fdr_cond = fdr_cond$false_positive_cross_cond/(fdr_cond$true_positive_cross_cond + fdr_cond$false_positive_cross_cond)\n",
    "fdr_cond = fdr_cond[order(fdr_cond$method),]"
   ]
  },
  {
   "cell_type": "code",
   "execution_count": 22,
   "metadata": {
    "kernel": "R"
   },
   "outputs": [],
   "source": [
    "fdr_cond$scenario = rep(NA, nrow(fdr_cond))\n",
    "fdr_cond$scenario[which(fdr_cond$method == fdr_cond$pattern & fdr_cond$method != 'mixture_1')] = oracle\n",
    "fdr_cond$scenario[which(fdr_cond$method != fdr_cond$pattern & fdr_cond$method != 'mixture_1')] = mismatch\n",
    "fdr_cond$scenario[which(fdr_cond$method == \"mixture_1\")] = default\n",
    "fdr_cond = fdr_cond[which(!is.na(fdr_cond$scenario)),]\n",
    "fdr_cond_mean = aggregate(fdr_cond~scenario, fdr_cond, mean)\n",
    "fdr_cond_singleton = fdr_cond[which(fdr_cond$pattern == 'singleton'),]\n",
    "fdr_cond_mean_singleton = aggregate(fdr_cond~scenario, fdr_cond_singleton, mean)\n",
    "fdr_cond_het = fdr_cond[which(fdr_cond$pattern == 'low_het'),]\n",
    "fdr_cond_mean_het = aggregate(fdr_cond~scenario, fdr_cond_het, mean)"
   ]
  },
  {
   "cell_type": "code",
   "execution_count": 23,
   "metadata": {
    "kernel": "R"
   },
   "outputs": [
    {
     "data": {
      "text/html": [
       "<table>\n",
       "<thead><tr><th scope=col>scenario</th><th scope=col>fdr_cond</th></tr></thead>\n",
       "<tbody>\n",
       "\t<tr><td>M&amp;M default mixture</td><td>0.05656631             </td></tr>\n",
       "\t<tr><td><span style=white-space:pre-wrap>M&amp;M mismatch       </span></td><td>0.16852276                                                     </td></tr>\n",
       "\t<tr><td><span style=white-space:pre-wrap>M&amp;M oracle         </span></td><td>0.06709568                                                     </td></tr>\n",
       "</tbody>\n",
       "</table>\n"
      ],
      "text/latex": [
       "\\begin{tabular}{r|ll}\n",
       " scenario & fdr\\_cond\\\\\n",
       "\\hline\n",
       "\t M\\&M default mixture & 0.05656631           \\\\\n",
       "\t M\\&M mismatch        & 0.16852276           \\\\\n",
       "\t M\\&M oracle          & 0.06709568           \\\\\n",
       "\\end{tabular}\n"
      ],
      "text/markdown": [
       "\n",
       "scenario | fdr_cond | \n",
       "|---|---|---|\n",
       "| M&M default mixture | 0.05656631          | \n",
       "| M&M mismatch        | 0.16852276          | \n",
       "| M&M oracle          | 0.06709568          | \n",
       "\n",
       "\n"
      ],
      "text/plain": [
       "  scenario            fdr_cond  \n",
       "1 M&M default mixture 0.05656631\n",
       "2 M&M mismatch        0.16852276\n",
       "3 M&M oracle          0.06709568"
      ]
     },
     "metadata": {},
     "output_type": "display_data"
    }
   ],
   "source": [
    "fdr_cond_mean"
   ]
  },
  {
   "cell_type": "code",
   "execution_count": 24,
   "metadata": {
    "kernel": "R"
   },
   "outputs": [
    {
     "data": {
      "text/html": [
       "<table>\n",
       "<thead><tr><th scope=col>scenario</th><th scope=col>fdr_cond</th></tr></thead>\n",
       "<tbody>\n",
       "\t<tr><td>M&amp;M default mixture</td><td>0.06099815             </td></tr>\n",
       "\t<tr><td><span style=white-space:pre-wrap>M&amp;M mismatch       </span></td><td>0.73187766                                                     </td></tr>\n",
       "\t<tr><td><span style=white-space:pre-wrap>M&amp;M oracle         </span></td><td>0.05605787                                                     </td></tr>\n",
       "</tbody>\n",
       "</table>\n"
      ],
      "text/latex": [
       "\\begin{tabular}{r|ll}\n",
       " scenario & fdr\\_cond\\\\\n",
       "\\hline\n",
       "\t M\\&M default mixture & 0.06099815           \\\\\n",
       "\t M\\&M mismatch        & 0.73187766           \\\\\n",
       "\t M\\&M oracle          & 0.05605787           \\\\\n",
       "\\end{tabular}\n"
      ],
      "text/markdown": [
       "\n",
       "scenario | fdr_cond | \n",
       "|---|---|---|\n",
       "| M&M default mixture | 0.06099815          | \n",
       "| M&M mismatch        | 0.73187766          | \n",
       "| M&M oracle          | 0.05605787          | \n",
       "\n",
       "\n"
      ],
      "text/plain": [
       "  scenario            fdr_cond  \n",
       "1 M&M default mixture 0.06099815\n",
       "2 M&M mismatch        0.73187766\n",
       "3 M&M oracle          0.05605787"
      ]
     },
     "metadata": {},
     "output_type": "display_data"
    }
   ],
   "source": [
    "fdr_cond_mean_singleton"
   ]
  },
  {
   "cell_type": "code",
   "execution_count": 25,
   "metadata": {
    "kernel": "R"
   },
   "outputs": [
    {
     "data": {
      "text/html": [
       "<table>\n",
       "<thead><tr><th scope=col>scenario</th><th scope=col>fdr_cond</th></tr></thead>\n",
       "<tbody>\n",
       "\t<tr><td>M&amp;M default mixture</td><td>0.05258009             </td></tr>\n",
       "\t<tr><td><span style=white-space:pre-wrap>M&amp;M mismatch       </span></td><td>0.06053400                                                     </td></tr>\n",
       "\t<tr><td><span style=white-space:pre-wrap>M&amp;M oracle         </span></td><td>0.06042074                                                     </td></tr>\n",
       "</tbody>\n",
       "</table>\n"
      ],
      "text/latex": [
       "\\begin{tabular}{r|ll}\n",
       " scenario & fdr\\_cond\\\\\n",
       "\\hline\n",
       "\t M\\&M default mixture & 0.05258009           \\\\\n",
       "\t M\\&M mismatch        & 0.06053400           \\\\\n",
       "\t M\\&M oracle          & 0.06042074           \\\\\n",
       "\\end{tabular}\n"
      ],
      "text/markdown": [
       "\n",
       "scenario | fdr_cond | \n",
       "|---|---|---|\n",
       "| M&M default mixture | 0.05258009          | \n",
       "| M&M mismatch        | 0.06053400          | \n",
       "| M&M oracle          | 0.06042074          | \n",
       "\n",
       "\n"
      ],
      "text/plain": [
       "  scenario            fdr_cond  \n",
       "1 M&M default mixture 0.05258009\n",
       "2 M&M mismatch        0.06053400\n",
       "3 M&M oracle          0.06042074"
      ]
     },
     "metadata": {},
     "output_type": "display_data"
    }
   ],
   "source": [
    "fdr_cond_mean_het"
   ]
  },
  {
   "cell_type": "markdown",
   "metadata": {
    "kernel": "R"
   },
   "source": [
    "## Power per condition"
   ]
  },
  {
   "cell_type": "code",
   "execution_count": 26,
   "metadata": {
    "kernel": "R"
   },
   "outputs": [],
   "source": [
    "tp = aggregate(true_positive_cross_cond ~ pattern + method, res, sum)\n",
    "fn = aggregate(false_negative_cross_cond ~ pattern + method, res, sum)\n",
    "power_cond = merge(tp, fn, by = c(\"pattern\", \"method\"))\n",
    "power_cond$power_cond = power_cond$true_positive_cross_cond/(power_cond$true_positive_cross_cond + power_cond$false_negative_cross_cond)"
   ]
  },
  {
   "cell_type": "code",
   "execution_count": 27,
   "metadata": {
    "kernel": "R"
   },
   "outputs": [],
   "source": [
    "power_cond$scenario = rep(NA, nrow(power_cond))\n",
    "power_cond$scenario[which(power_cond$method == power_cond$pattern & power_cond$method != 'mixture_1')] = oracle\n",
    "power_cond$scenario[which(power_cond$method != power_cond$pattern & power_cond$method != 'mixture_1')] = mismatch\n",
    "power_cond$scenario[which(power_cond$method == \"mixture_1\")] = default\n",
    "power_cond = power_cond[which(!is.na(power_cond$scenario)),]\n",
    "power_cond_mean = aggregate(power_cond~scenario, power_cond, mean)\n",
    "power_cond_singleton = power_cond[which(power_cond$pattern == 'singleton'),]\n",
    "power_cond_mean_singleton = aggregate(power_cond~scenario, power_cond_singleton, mean)\n",
    "power_cond_het = power_cond[which(power_cond$pattern == 'low_het'),]\n",
    "power_cond_mean_het = aggregate(power_cond~scenario, power_cond_het, mean)"
   ]
  },
  {
   "cell_type": "code",
   "execution_count": 28,
   "metadata": {
    "kernel": "R"
   },
   "outputs": [
    {
     "data": {
      "text/html": [
       "<table>\n",
       "<thead><tr><th scope=col>scenario</th><th scope=col>power_cond</th></tr></thead>\n",
       "<tbody>\n",
       "\t<tr><td>M&amp;M default mixture</td><td>0.9850758              </td></tr>\n",
       "\t<tr><td><span style=white-space:pre-wrap>M&amp;M mismatch       </span></td><td>0.8242107                                                      </td></tr>\n",
       "\t<tr><td><span style=white-space:pre-wrap>M&amp;M oracle         </span></td><td>0.9680900                                                      </td></tr>\n",
       "</tbody>\n",
       "</table>\n"
      ],
      "text/latex": [
       "\\begin{tabular}{r|ll}\n",
       " scenario & power\\_cond\\\\\n",
       "\\hline\n",
       "\t M\\&M default mixture & 0.9850758            \\\\\n",
       "\t M\\&M mismatch        & 0.8242107            \\\\\n",
       "\t M\\&M oracle          & 0.9680900            \\\\\n",
       "\\end{tabular}\n"
      ],
      "text/markdown": [
       "\n",
       "scenario | power_cond | \n",
       "|---|---|---|\n",
       "| M&M default mixture | 0.9850758           | \n",
       "| M&M mismatch        | 0.8242107           | \n",
       "| M&M oracle          | 0.9680900           | \n",
       "\n",
       "\n"
      ],
      "text/plain": [
       "  scenario            power_cond\n",
       "1 M&M default mixture 0.9850758 \n",
       "2 M&M mismatch        0.8242107 \n",
       "3 M&M oracle          0.9680900 "
      ]
     },
     "metadata": {},
     "output_type": "display_data"
    }
   ],
   "source": [
    "power_cond_mean"
   ]
  },
  {
   "cell_type": "code",
   "execution_count": 29,
   "metadata": {
    "kernel": "R"
   },
   "outputs": [
    {
     "data": {
      "text/html": [
       "<table>\n",
       "<thead><tr><th scope=col>scenario</th><th scope=col>power_cond</th></tr></thead>\n",
       "<tbody>\n",
       "\t<tr><td>M&amp;M default mixture</td><td>0.9769231              </td></tr>\n",
       "\t<tr><td><span style=white-space:pre-wrap>M&amp;M mismatch       </span></td><td>0.9368670                                                      </td></tr>\n",
       "\t<tr><td><span style=white-space:pre-wrap>M&amp;M oracle         </span></td><td>0.9775281                                                      </td></tr>\n",
       "</tbody>\n",
       "</table>\n"
      ],
      "text/latex": [
       "\\begin{tabular}{r|ll}\n",
       " scenario & power\\_cond\\\\\n",
       "\\hline\n",
       "\t M\\&M default mixture & 0.9769231            \\\\\n",
       "\t M\\&M mismatch        & 0.9368670            \\\\\n",
       "\t M\\&M oracle          & 0.9775281            \\\\\n",
       "\\end{tabular}\n"
      ],
      "text/markdown": [
       "\n",
       "scenario | power_cond | \n",
       "|---|---|---|\n",
       "| M&M default mixture | 0.9769231           | \n",
       "| M&M mismatch        | 0.9368670           | \n",
       "| M&M oracle          | 0.9775281           | \n",
       "\n",
       "\n"
      ],
      "text/plain": [
       "  scenario            power_cond\n",
       "1 M&M default mixture 0.9769231 \n",
       "2 M&M mismatch        0.9368670 \n",
       "3 M&M oracle          0.9775281 "
      ]
     },
     "metadata": {},
     "output_type": "display_data"
    }
   ],
   "source": [
    "power_cond_mean_singleton"
   ]
  },
  {
   "cell_type": "code",
   "execution_count": 30,
   "metadata": {
    "kernel": "R"
   },
   "outputs": [
    {
     "data": {
      "text/html": [
       "<table>\n",
       "<thead><tr><th scope=col>scenario</th><th scope=col>power_cond</th></tr></thead>\n",
       "<tbody>\n",
       "\t<tr><td>M&amp;M default mixture</td><td>0.9882653              </td></tr>\n",
       "\t<tr><td><span style=white-space:pre-wrap>M&amp;M mismatch       </span></td><td>0.8107187                                                      </td></tr>\n",
       "\t<tr><td><span style=white-space:pre-wrap>M&amp;M oracle         </span></td><td>0.9753682                                                      </td></tr>\n",
       "</tbody>\n",
       "</table>\n"
      ],
      "text/latex": [
       "\\begin{tabular}{r|ll}\n",
       " scenario & power\\_cond\\\\\n",
       "\\hline\n",
       "\t M\\&M default mixture & 0.9882653            \\\\\n",
       "\t M\\&M mismatch        & 0.8107187            \\\\\n",
       "\t M\\&M oracle          & 0.9753682            \\\\\n",
       "\\end{tabular}\n"
      ],
      "text/markdown": [
       "\n",
       "scenario | power_cond | \n",
       "|---|---|---|\n",
       "| M&M default mixture | 0.9882653           | \n",
       "| M&M mismatch        | 0.8107187           | \n",
       "| M&M oracle          | 0.9753682           | \n",
       "\n",
       "\n"
      ],
      "text/plain": [
       "  scenario            power_cond\n",
       "1 M&M default mixture 0.9882653 \n",
       "2 M&M mismatch        0.8107187 \n",
       "3 M&M oracle          0.9753682 "
      ]
     },
     "metadata": {},
     "output_type": "display_data"
    }
   ],
   "source": [
    "power_cond_mean_het"
   ]
  },
  {
   "cell_type": "markdown",
   "metadata": {
    "kernel": "R"
   },
   "source": [
    "Notice the per condition power looks a lot higher than the other analysis, because most powerful tests are for shared effects, which will get counted $R$ times for each signal in per condition analysis, but only are counted one time in overall assessment. Therefore singleton scenarios are relatively more abundant in overall assessment, leading to less powerful tests."
   ]
  },
  {
   "cell_type": "code",
   "execution_count": 31,
   "metadata": {
    "kernel": "R"
   },
   "outputs": [
    {
     "data": {
      "text/html": [
       "<ol class=list-inline>\n",
       "\t<li>'default'</li>\n",
       "\t<li>'fdr'</li>\n",
       "\t<li>'fdr_cond'</li>\n",
       "\t<li>'fdr_cond_het'</li>\n",
       "\t<li>'fdr_cond_mean'</li>\n",
       "\t<li>'fdr_cond_mean_het'</li>\n",
       "\t<li>'fdr_cond_mean_singleton'</li>\n",
       "\t<li>'fdr_cond_singleton'</li>\n",
       "\t<li>'fdr_het'</li>\n",
       "\t<li>'fdr_mean'</li>\n",
       "\t<li>'fdr_mean_het'</li>\n",
       "\t<li>'fdr_mean_singleton'</li>\n",
       "\t<li>'fdr_singleton'</li>\n",
       "\t<li>'fn'</li>\n",
       "\t<li>'fp'</li>\n",
       "\t<li>'mismatch'</li>\n",
       "\t<li>'oracle'</li>\n",
       "\t<li>'overlap'</li>\n",
       "\t<li>'power'</li>\n",
       "\t<li>'power_cond'</li>\n",
       "\t<li>'power_cond_het'</li>\n",
       "\t<li>'power_cond_mean'</li>\n",
       "\t<li>'power_cond_mean_het'</li>\n",
       "\t<li>'power_cond_mean_singleton'</li>\n",
       "\t<li>'power_cond_singleton'</li>\n",
       "\t<li>'power_het'</li>\n",
       "\t<li>'power_mean'</li>\n",
       "\t<li>'power_mean_het'</li>\n",
       "\t<li>'power_mean_singleton'</li>\n",
       "\t<li>'power_singleton'</li>\n",
       "\t<li>'purity'</li>\n",
       "\t<li>'purity_het'</li>\n",
       "\t<li>'purity_median'</li>\n",
       "\t<li>'purity_median_het'</li>\n",
       "\t<li>'purity_median_singleton'</li>\n",
       "\t<li>'purity_singleton'</li>\n",
       "\t<li>'res'</li>\n",
       "\t<li>'size'</li>\n",
       "\t<li>'size_het'</li>\n",
       "\t<li>'size_median'</li>\n",
       "\t<li>'size_median_het'</li>\n",
       "\t<li>'size_median_singleton'</li>\n",
       "\t<li>'size_singleton'</li>\n",
       "\t<li>'total'</li>\n",
       "\t<li>'total_true'</li>\n",
       "\t<li>'total_true_included'</li>\n",
       "\t<li>'tp'</li>\n",
       "\t<li>'valid'</li>\n",
       "</ol>\n"
      ],
      "text/latex": [
       "\\begin{enumerate*}\n",
       "\\item 'default'\n",
       "\\item 'fdr'\n",
       "\\item 'fdr\\_cond'\n",
       "\\item 'fdr\\_cond\\_het'\n",
       "\\item 'fdr\\_cond\\_mean'\n",
       "\\item 'fdr\\_cond\\_mean\\_het'\n",
       "\\item 'fdr\\_cond\\_mean\\_singleton'\n",
       "\\item 'fdr\\_cond\\_singleton'\n",
       "\\item 'fdr\\_het'\n",
       "\\item 'fdr\\_mean'\n",
       "\\item 'fdr\\_mean\\_het'\n",
       "\\item 'fdr\\_mean\\_singleton'\n",
       "\\item 'fdr\\_singleton'\n",
       "\\item 'fn'\n",
       "\\item 'fp'\n",
       "\\item 'mismatch'\n",
       "\\item 'oracle'\n",
       "\\item 'overlap'\n",
       "\\item 'power'\n",
       "\\item 'power\\_cond'\n",
       "\\item 'power\\_cond\\_het'\n",
       "\\item 'power\\_cond\\_mean'\n",
       "\\item 'power\\_cond\\_mean\\_het'\n",
       "\\item 'power\\_cond\\_mean\\_singleton'\n",
       "\\item 'power\\_cond\\_singleton'\n",
       "\\item 'power\\_het'\n",
       "\\item 'power\\_mean'\n",
       "\\item 'power\\_mean\\_het'\n",
       "\\item 'power\\_mean\\_singleton'\n",
       "\\item 'power\\_singleton'\n",
       "\\item 'purity'\n",
       "\\item 'purity\\_het'\n",
       "\\item 'purity\\_median'\n",
       "\\item 'purity\\_median\\_het'\n",
       "\\item 'purity\\_median\\_singleton'\n",
       "\\item 'purity\\_singleton'\n",
       "\\item 'res'\n",
       "\\item 'size'\n",
       "\\item 'size\\_het'\n",
       "\\item 'size\\_median'\n",
       "\\item 'size\\_median\\_het'\n",
       "\\item 'size\\_median\\_singleton'\n",
       "\\item 'size\\_singleton'\n",
       "\\item 'total'\n",
       "\\item 'total\\_true'\n",
       "\\item 'total\\_true\\_included'\n",
       "\\item 'tp'\n",
       "\\item 'valid'\n",
       "\\end{enumerate*}\n"
      ],
      "text/markdown": [
       "1. 'default'\n",
       "2. 'fdr'\n",
       "3. 'fdr_cond'\n",
       "4. 'fdr_cond_het'\n",
       "5. 'fdr_cond_mean'\n",
       "6. 'fdr_cond_mean_het'\n",
       "7. 'fdr_cond_mean_singleton'\n",
       "8. 'fdr_cond_singleton'\n",
       "9. 'fdr_het'\n",
       "10. 'fdr_mean'\n",
       "11. 'fdr_mean_het'\n",
       "12. 'fdr_mean_singleton'\n",
       "13. 'fdr_singleton'\n",
       "14. 'fn'\n",
       "15. 'fp'\n",
       "16. 'mismatch'\n",
       "17. 'oracle'\n",
       "18. 'overlap'\n",
       "19. 'power'\n",
       "20. 'power_cond'\n",
       "21. 'power_cond_het'\n",
       "22. 'power_cond_mean'\n",
       "23. 'power_cond_mean_het'\n",
       "24. 'power_cond_mean_singleton'\n",
       "25. 'power_cond_singleton'\n",
       "26. 'power_het'\n",
       "27. 'power_mean'\n",
       "28. 'power_mean_het'\n",
       "29. 'power_mean_singleton'\n",
       "30. 'power_singleton'\n",
       "31. 'purity'\n",
       "32. 'purity_het'\n",
       "33. 'purity_median'\n",
       "34. 'purity_median_het'\n",
       "35. 'purity_median_singleton'\n",
       "36. 'purity_singleton'\n",
       "37. 'res'\n",
       "38. 'size'\n",
       "39. 'size_het'\n",
       "40. 'size_median'\n",
       "41. 'size_median_het'\n",
       "42. 'size_median_singleton'\n",
       "43. 'size_singleton'\n",
       "44. 'total'\n",
       "45. 'total_true'\n",
       "46. 'total_true_included'\n",
       "47. 'tp'\n",
       "48. 'valid'\n",
       "\n",
       "\n"
      ],
      "text/plain": [
       " [1] \"default\"                   \"fdr\"                      \n",
       " [3] \"fdr_cond\"                  \"fdr_cond_het\"             \n",
       " [5] \"fdr_cond_mean\"             \"fdr_cond_mean_het\"        \n",
       " [7] \"fdr_cond_mean_singleton\"   \"fdr_cond_singleton\"       \n",
       " [9] \"fdr_het\"                   \"fdr_mean\"                 \n",
       "[11] \"fdr_mean_het\"              \"fdr_mean_singleton\"       \n",
       "[13] \"fdr_singleton\"             \"fn\"                       \n",
       "[15] \"fp\"                        \"mismatch\"                 \n",
       "[17] \"oracle\"                    \"overlap\"                  \n",
       "[19] \"power\"                     \"power_cond\"               \n",
       "[21] \"power_cond_het\"            \"power_cond_mean\"          \n",
       "[23] \"power_cond_mean_het\"       \"power_cond_mean_singleton\"\n",
       "[25] \"power_cond_singleton\"      \"power_het\"                \n",
       "[27] \"power_mean\"                \"power_mean_het\"           \n",
       "[29] \"power_mean_singleton\"      \"power_singleton\"          \n",
       "[31] \"purity\"                    \"purity_het\"               \n",
       "[33] \"purity_median\"             \"purity_median_het\"        \n",
       "[35] \"purity_median_singleton\"   \"purity_singleton\"         \n",
       "[37] \"res\"                       \"size\"                     \n",
       "[39] \"size_het\"                  \"size_median\"              \n",
       "[41] \"size_median_het\"           \"size_median_singleton\"    \n",
       "[43] \"size_singleton\"            \"total\"                    \n",
       "[45] \"total_true\"                \"total_true_included\"      \n",
       "[47] \"tp\"                        \"valid\"                    "
      ]
     },
     "metadata": {},
     "output_type": "display_data"
    }
   ],
   "source": [
    "ls()"
   ]
  },
  {
   "cell_type": "code",
   "execution_count": 32,
   "metadata": {
    "kernel": "R"
   },
   "outputs": [],
   "source": [
    "output = list(fdr_cond=fdr_cond_mean, fdr_cond_het=fdr_cond_mean_het, fdr_cond_singleton=fdr_cond_mean_singleton,\n",
    "             fdr=fdr_mean, fdr_het=fdr_mean_het, fdr_singleton=fdr_mean_singleton, \n",
    "             power_cond=power_cond_mean, power_cond_het=power_cond_mean_het, power_singleton=power_mean_singleton,\n",
    "             power=power_mean, power_het=power_mean_het, power_singleton=power_mean_singleton,\n",
    "             purity=purity_median, purity_het=purity_median_het, purity_singleton=purity_median_singleton,\n",
    "             size=size_median, size_het=size_median_het, size_singleton=size_median_singleton)\n",
    "saveRDS(output, '../data/finemap_output.summarized_result.rds')"
   ]
  },
  {
   "cell_type": "markdown",
   "metadata": {
    "kernel": "R"
   },
   "source": [
    "## Make plot"
   ]
  },
  {
   "cell_type": "code",
   "execution_count": 33,
   "metadata": {
    "kernel": "R"
   },
   "outputs": [],
   "source": [
    "res = readRDS('../data/finemap_output.summarized_result.rds')"
   ]
  },
  {
   "cell_type": "code",
   "execution_count": 98,
   "metadata": {
    "kernel": "R"
   },
   "outputs": [],
   "source": [
    "get_table = function(output, key) {\n",
    "    dat = Reduce(function(x, y) merge(x, y, all=TRUE), list(output[[key]], output[[paste0(key,'_het')]], output[[paste0(key,'_singleton')]]))\n",
    "    dat = cbind(dat, c('overall', 'shared', 'singleton'))\n",
    "    dat = cbind(dat, c(4,5,6,7,8,9,1,2,3))\n",
    "    dat = cbind(dat, c(1,2,3,1,2,3,1,2,3))\n",
    "    names(dat) = c('method', 'fdr', 'scenario', 'o1', 'o2')\n",
    "    return(dat)\n",
    "}"
   ]
  },
  {
   "cell_type": "code",
   "execution_count": 99,
   "metadata": {
    "kernel": "R"
   },
   "outputs": [
    {
     "data": {
      "text/html": [
       "<ol class=list-inline>\n",
       "\t<li>'#E41A1C'</li>\n",
       "\t<li>'#377EB8'</li>\n",
       "\t<li>'#4DAF4A'</li>\n",
       "\t<li>'#984EA3'</li>\n",
       "\t<li>'#FF7F00'</li>\n",
       "\t<li>'#FFFF33'</li>\n",
       "\t<li>'#A65628'</li>\n",
       "\t<li>'#F781BF'</li>\n",
       "</ol>\n"
      ],
      "text/latex": [
       "\\begin{enumerate*}\n",
       "\\item '\\#E41A1C'\n",
       "\\item '\\#377EB8'\n",
       "\\item '\\#4DAF4A'\n",
       "\\item '\\#984EA3'\n",
       "\\item '\\#FF7F00'\n",
       "\\item '\\#FFFF33'\n",
       "\\item '\\#A65628'\n",
       "\\item '\\#F781BF'\n",
       "\\end{enumerate*}\n"
      ],
      "text/markdown": [
       "1. '#E41A1C'\n",
       "2. '#377EB8'\n",
       "3. '#4DAF4A'\n",
       "4. '#984EA3'\n",
       "5. '#FF7F00'\n",
       "6. '#FFFF33'\n",
       "7. '#A65628'\n",
       "8. '#F781BF'\n",
       "\n",
       "\n"
      ],
      "text/plain": [
       "[1] \"#E41A1C\" \"#377EB8\" \"#4DAF4A\" \"#984EA3\" \"#FF7F00\" \"#FFFF33\" \"#A65628\"\n",
       "[8] \"#F781BF\""
      ]
     },
     "metadata": {},
     "output_type": "display_data"
    }
   ],
   "source": [
    "RColorBrewer::brewer.pal(n = 8, name = \"Set1\")"
   ]
  },
  {
   "cell_type": "markdown",
   "metadata": {
    "kernel": "R"
   },
   "source": [
    "## Size"
   ]
  },
  {
   "cell_type": "code",
   "execution_count": null,
   "metadata": {
    "kernel": "R"
   },
   "outputs": [],
   "source": []
  },
  {
   "cell_type": "code",
   "execution_count": 100,
   "metadata": {
    "kernel": "R"
   },
   "outputs": [],
   "source": [
    "fdr_cond = get_table(output, 'fdr_cond')"
   ]
  },
  {
   "cell_type": "code",
   "execution_count": 101,
   "metadata": {
    "kernel": "R"
   },
   "outputs": [
    {
     "data": {},
     "metadata": {},
     "output_type": "display_data"
    },
    {
     "data": {
      "text/html": [
       "<strong>png:</strong> 2"
      ],
      "text/latex": [
       "\\textbf{png:} 2"
      ],
      "text/markdown": [
       "**png:** 2"
      ],
      "text/plain": [
       "png \n",
       "  2 "
      ]
     },
     "metadata": {},
     "output_type": "display_data"
    }
   ],
   "source": [
    "pdf('test.pdf', width=3.5, height=5)\n",
    "lattice::dotplot(fdr ~ reorder(method, o1) | reorder(scenario, o2), data=fdr_cond,  \n",
    "        auto.key=list(columns=2), scale=list(alternating=1, x = list(rot = 45)), \n",
    "        layout = c(3,1), angle = 45, col='#E41A1C',\n",
    "        xlab=\"Method\", ylab = \"Condition specific FDR (lfsr<0.05)\")\n",
    "dev.off()"
   ]
  },
  {
   "cell_type": "code",
   "execution_count": 102,
   "metadata": {
    "kernel": "SoS"
   },
   "outputs": [
    {
     "data": {
      "text/html": [
       "<div class=\"sos_hint\">> test.pdf (4.8 KiB):</div>"
      ],
      "text/plain": [
       "\n",
       "> test.pdf (4.8 KiB):"
      ]
     },
     "metadata": {},
     "output_type": "display_data"
    },
    {
     "data": {
      "image/png": "[encoded data removed]"
     },
     "metadata": {},
     "output_type": "display_data"
    }
   ],
   "source": [
    "%preview test.pdf -s png --dpi 100"
   ]
  },
  {
   "cell_type": "code",
   "execution_count": null,
   "metadata": {
    "kernel": "SoS"
   },
   "outputs": [],
   "source": []
  },
  {
   "cell_type": "code",
   "execution_count": null,
   "metadata": {
    "kernel": "SoS"
   },
   "outputs": [],
   "source": []
  }
 ],
 "metadata": {
  "kernelspec": {
   "display_name": "SoS",
   "language": "sos",
   "name": "sos"
  },
  "language_info": {
   "codemirror_mode": "sos",
   "file_extension": ".sos",
   "mimetype": "text/x-sos",
   "name": "sos",
   "nbconvert_exporter": "sos_notebook.converter.SoS_Exporter",
   "pygments_lexer": "sos"
  },
  "sos": {
   "kernels": [
    [
     "R",
     "ir",
     "R",
     "#DCDCDA",
     "r"
    ],
    [
     "SoS",
     "sos",
     "",
     "",
     "sos"
    ]
   ],
   "panel": {
    "displayed": true,
    "height": 0
   },
   "version": "0.19.2"
  }
 },
 "nbformat": 4,
 "nbformat_minor": 2
}
