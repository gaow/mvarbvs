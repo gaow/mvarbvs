{
 "cells": [
  {
   "cell_type": "markdown",
   "metadata": {
    "kernel": "SoS"
   },
   "source": [
    "# Numerical comparison plots\n",
    "\n",
    "Figure to summarize numerical comparison results. See [this notebook](https://gaow.github.io/mvarbvs/analysis/20190218_MNM_Benchmark.html) for its input data.\n",
    "\n",
    "I plan to make 3 types of comparisons: oracle, mismatched and default. In particular I'll put together results from all scenarios (averaged), singleton scenario and shared (with heterogenous effect size), in 3 panels, for 6 quantities:\n",
    "\n",
    "- size\n",
    "- purity\n",
    "- coverage\n",
    "- power\n",
    "- per condition FDR\n",
    "- per condition power"
   ]
  },
  {
   "cell_type": "code",
   "execution_count": 1,
   "metadata": {
    "kernel": "SoS"
   },
   "outputs": [
    {
     "name": "stdout",
     "output_type": "stream",
     "text": [
      "/home/gaow/Documents/GIT/github/mnm-twas/dsc"
     ]
    }
   ],
   "source": [
    "%cd ~/GIT/github/mnm-twas/dsc"
   ]
  },
  {
   "cell_type": "markdown",
   "metadata": {
    "kernel": "SoS"
   },
   "source": [
    "## Load and organize data"
   ]
  },
  {
   "cell_type": "code",
   "execution_count": 2,
   "metadata": {
    "kernel": "R"
   },
   "outputs": [],
   "source": [
    "res = readRDS('../data/finemap_output.query_result.rds')\n",
    "res = res[,c(2,4,5,6,7,8,9,10,11,12,13,14,15)]\n",
    "colnames(res) = c('pattern', 'method', 'total', 'valid', 'size', 'purity', 'top_hit', 'total_true', 'total_true_included', 'overlap', 'false_positive_cross_cond', 'false_negative_cross_cond', 'true_positive_cross_cond')"
   ]
  },
  {
   "cell_type": "code",
   "execution_count": 3,
   "metadata": {
    "kernel": "R"
   },
   "outputs": [],
   "source": [
    "oracle = \"1) oracle\"\n",
    "mismatch = \"3) mismatch\"\n",
    "default = \"2) default\""
   ]
  },
  {
   "cell_type": "markdown",
   "metadata": {
    "kernel": "R"
   },
   "source": [
    "## Purity"
   ]
  },
  {
   "cell_type": "code",
   "execution_count": 4,
   "metadata": {
    "kernel": "R"
   },
   "outputs": [
    {
     "data": {
      "text/html": [
       "<table>\n",
       "<thead><tr><th scope=col>scenario</th><th scope=col>purity</th></tr></thead>\n",
       "<tbody>\n",
       "\t<tr><td>1) oracle  </td><td>0.9837503  </td></tr>\n",
       "\t<tr><td>2) default </td><td>0.9847903  </td></tr>\n",
       "\t<tr><td>3) mismatch</td><td>0.9360424  </td></tr>\n",
       "</tbody>\n",
       "</table>\n"
      ],
      "text/latex": [
       "\\begin{tabular}{r|ll}\n",
       " scenario & purity\\\\\n",
       "\\hline\n",
       "\t 1) oracle   & 0.9837503  \\\\\n",
       "\t 2) default  & 0.9847903  \\\\\n",
       "\t 3) mismatch & 0.9360424  \\\\\n",
       "\\end{tabular}\n"
      ],
      "text/markdown": [
       "\n",
       "scenario | purity | \n",
       "|---|---|---|\n",
       "| 1) oracle   | 0.9837503   | \n",
       "| 2) default  | 0.9847903   | \n",
       "| 3) mismatch | 0.9360424   | \n",
       "\n",
       "\n"
      ],
      "text/plain": [
       "  scenario    purity   \n",
       "1 1) oracle   0.9837503\n",
       "2 2) default  0.9847903\n",
       "3 3) mismatch 0.9360424"
      ]
     },
     "metadata": {},
     "output_type": "display_data"
    }
   ],
   "source": [
    "purity = aggregate(purity~pattern + method, res, mean)\n",
    "purity$scenario = rep(NA, nrow(purity))\n",
    "purity$scenario[which(purity$method == purity$pattern & purity$method != 'mixture_1')] = oracle\n",
    "purity$scenario[which(purity$method != purity$pattern & purity$method != 'mixture_1')] = mismatch\n",
    "purity$scenario[which(purity$method == \"mixture_1\")] = default\n",
    "purity = purity[which(!is.na(purity$scenario)),]\n",
    "purity_median = aggregate(purity~scenario, purity, median)\n",
    "purity_median"
   ]
  },
  {
   "cell_type": "code",
   "execution_count": 5,
   "metadata": {
    "kernel": "R"
   },
   "outputs": [
    {
     "data": {
      "text/html": [
       "<table>\n",
       "<thead><tr><th scope=col>scenario</th><th scope=col>purity</th></tr></thead>\n",
       "<tbody>\n",
       "\t<tr><td>1) oracle  </td><td>0.8699070  </td></tr>\n",
       "\t<tr><td>2) default </td><td>0.8568686  </td></tr>\n",
       "\t<tr><td>3) mismatch</td><td>0.8554835  </td></tr>\n",
       "</tbody>\n",
       "</table>\n"
      ],
      "text/latex": [
       "\\begin{tabular}{r|ll}\n",
       " scenario & purity\\\\\n",
       "\\hline\n",
       "\t 1) oracle   & 0.8699070  \\\\\n",
       "\t 2) default  & 0.8568686  \\\\\n",
       "\t 3) mismatch & 0.8554835  \\\\\n",
       "\\end{tabular}\n"
      ],
      "text/markdown": [
       "\n",
       "scenario | purity | \n",
       "|---|---|---|\n",
       "| 1) oracle   | 0.8699070   | \n",
       "| 2) default  | 0.8568686   | \n",
       "| 3) mismatch | 0.8554835   | \n",
       "\n",
       "\n"
      ],
      "text/plain": [
       "  scenario    purity   \n",
       "1 1) oracle   0.8699070\n",
       "2 2) default  0.8568686\n",
       "3 3) mismatch 0.8554835"
      ]
     },
     "metadata": {},
     "output_type": "display_data"
    }
   ],
   "source": [
    "purity_singleton = purity[which(purity$pattern == 'singleton'),]\n",
    "purity_median_singleton = aggregate(purity~scenario, purity_singleton, median)\n",
    "purity_median_singleton"
   ]
  },
  {
   "cell_type": "code",
   "execution_count": 6,
   "metadata": {
    "kernel": "R"
   },
   "outputs": [
    {
     "data": {
      "text/html": [
       "<table>\n",
       "<thead><tr><th scope=col>scenario</th><th scope=col>purity</th></tr></thead>\n",
       "<tbody>\n",
       "\t<tr><td>1) oracle  </td><td>0.9854448  </td></tr>\n",
       "\t<tr><td>2) default </td><td>0.9851506  </td></tr>\n",
       "\t<tr><td>3) mismatch</td><td>0.9835865  </td></tr>\n",
       "</tbody>\n",
       "</table>\n"
      ],
      "text/latex": [
       "\\begin{tabular}{r|ll}\n",
       " scenario & purity\\\\\n",
       "\\hline\n",
       "\t 1) oracle   & 0.9854448  \\\\\n",
       "\t 2) default  & 0.9851506  \\\\\n",
       "\t 3) mismatch & 0.9835865  \\\\\n",
       "\\end{tabular}\n"
      ],
      "text/markdown": [
       "\n",
       "scenario | purity | \n",
       "|---|---|---|\n",
       "| 1) oracle   | 0.9854448   | \n",
       "| 2) default  | 0.9851506   | \n",
       "| 3) mismatch | 0.9835865   | \n",
       "\n",
       "\n"
      ],
      "text/plain": [
       "  scenario    purity   \n",
       "1 1) oracle   0.9854448\n",
       "2 2) default  0.9851506\n",
       "3 3) mismatch 0.9835865"
      ]
     },
     "metadata": {},
     "output_type": "display_data"
    }
   ],
   "source": [
    "purity_het = purity[which(purity$pattern == 'low_het'),]\n",
    "purity_median_het = aggregate(purity~scenario, purity_het, median)\n",
    "purity_median_het"
   ]
  },
  {
   "cell_type": "markdown",
   "metadata": {
    "kernel": "R"
   },
   "source": [
    "## Size"
   ]
  },
  {
   "cell_type": "code",
   "execution_count": 7,
   "metadata": {
    "kernel": "R"
   },
   "outputs": [],
   "source": [
    "size = aggregate(size~pattern + method, res, mean)\n",
    "size$scenario = rep(NA, nrow(size))\n",
    "size$scenario[which(size$method == size$pattern & size$method != 'mixture_1')] = oracle\n",
    "size$scenario[which(size$method != size$pattern & size$method != 'mixture_1')] = mismatch\n",
    "size$scenario[which(size$method == \"mixture_1\")] = default\n",
    "size = size[which(!is.na(size$scenario)),]\n",
    "size_median = aggregate(size~scenario, size, median)\n",
    "size_singleton = size[which(size$pattern == 'singleton'),]\n",
    "size_median_singleton = aggregate(size~scenario, size_singleton, median)\n",
    "size_het = size[which(size$pattern == 'low_het'),]\n",
    "size_median_het = aggregate(size~scenario, size_het, median)"
   ]
  },
  {
   "cell_type": "code",
   "execution_count": 8,
   "metadata": {
    "kernel": "R"
   },
   "outputs": [
    {
     "data": {
      "text/html": [
       "<table>\n",
       "<thead><tr><th scope=col>scenario</th><th scope=col>size</th></tr></thead>\n",
       "<tbody>\n",
       "\t<tr><td>1) oracle  </td><td> 9.782     </td></tr>\n",
       "\t<tr><td>2) default </td><td> 9.771     </td></tr>\n",
       "\t<tr><td>3) mismatch</td><td>11.613     </td></tr>\n",
       "</tbody>\n",
       "</table>\n"
      ],
      "text/latex": [
       "\\begin{tabular}{r|ll}\n",
       " scenario & size\\\\\n",
       "\\hline\n",
       "\t 1) oracle   &  9.782     \\\\\n",
       "\t 2) default  &  9.771     \\\\\n",
       "\t 3) mismatch & 11.613     \\\\\n",
       "\\end{tabular}\n"
      ],
      "text/markdown": [
       "\n",
       "scenario | size | \n",
       "|---|---|---|\n",
       "| 1) oracle   |  9.782      | \n",
       "| 2) default  |  9.771      | \n",
       "| 3) mismatch | 11.613      | \n",
       "\n",
       "\n"
      ],
      "text/plain": [
       "  scenario    size  \n",
       "1 1) oracle    9.782\n",
       "2 2) default   9.771\n",
       "3 3) mismatch 11.613"
      ]
     },
     "metadata": {},
     "output_type": "display_data"
    }
   ],
   "source": [
    "size_median"
   ]
  },
  {
   "cell_type": "code",
   "execution_count": 9,
   "metadata": {
    "kernel": "R"
   },
   "outputs": [
    {
     "data": {
      "text/html": [
       "<table>\n",
       "<thead><tr><th scope=col>scenario</th><th scope=col>size</th></tr></thead>\n",
       "<tbody>\n",
       "\t<tr><td>1) oracle  </td><td>18.366     </td></tr>\n",
       "\t<tr><td>2) default </td><td>17.714     </td></tr>\n",
       "\t<tr><td>3) mismatch</td><td>17.291     </td></tr>\n",
       "</tbody>\n",
       "</table>\n"
      ],
      "text/latex": [
       "\\begin{tabular}{r|ll}\n",
       " scenario & size\\\\\n",
       "\\hline\n",
       "\t 1) oracle   & 18.366     \\\\\n",
       "\t 2) default  & 17.714     \\\\\n",
       "\t 3) mismatch & 17.291     \\\\\n",
       "\\end{tabular}\n"
      ],
      "text/markdown": [
       "\n",
       "scenario | size | \n",
       "|---|---|---|\n",
       "| 1) oracle   | 18.366      | \n",
       "| 2) default  | 17.714      | \n",
       "| 3) mismatch | 17.291      | \n",
       "\n",
       "\n"
      ],
      "text/plain": [
       "  scenario    size  \n",
       "1 1) oracle   18.366\n",
       "2 2) default  17.714\n",
       "3 3) mismatch 17.291"
      ]
     },
     "metadata": {},
     "output_type": "display_data"
    }
   ],
   "source": [
    "size_median_singleton"
   ]
  },
  {
   "cell_type": "code",
   "execution_count": 10,
   "metadata": {
    "kernel": "R"
   },
   "outputs": [
    {
     "data": {
      "text/html": [
       "<table>\n",
       "<thead><tr><th scope=col>scenario</th><th scope=col>size</th></tr></thead>\n",
       "<tbody>\n",
       "\t<tr><td>1) oracle  </td><td>8.624      </td></tr>\n",
       "\t<tr><td>2) default </td><td>8.679      </td></tr>\n",
       "\t<tr><td>3) mismatch</td><td>8.797      </td></tr>\n",
       "</tbody>\n",
       "</table>\n"
      ],
      "text/latex": [
       "\\begin{tabular}{r|ll}\n",
       " scenario & size\\\\\n",
       "\\hline\n",
       "\t 1) oracle   & 8.624      \\\\\n",
       "\t 2) default  & 8.679      \\\\\n",
       "\t 3) mismatch & 8.797      \\\\\n",
       "\\end{tabular}\n"
      ],
      "text/markdown": [
       "\n",
       "scenario | size | \n",
       "|---|---|---|\n",
       "| 1) oracle   | 8.624       | \n",
       "| 2) default  | 8.679       | \n",
       "| 3) mismatch | 8.797       | \n",
       "\n",
       "\n"
      ],
      "text/plain": [
       "  scenario    size \n",
       "1 1) oracle   8.624\n",
       "2 2) default  8.679\n",
       "3 3) mismatch 8.797"
      ]
     },
     "metadata": {},
     "output_type": "display_data"
    }
   ],
   "source": [
    "size_median_het"
   ]
  },
  {
   "cell_type": "markdown",
   "metadata": {
    "kernel": "R"
   },
   "source": [
    "## Coverage\n"
   ]
  },
  {
   "cell_type": "code",
   "execution_count": 11,
   "metadata": {
    "kernel": "R"
   },
   "outputs": [],
   "source": [
    "valid = aggregate(valid ~ pattern + method, res, sum)\n",
    "total = aggregate(total ~ pattern + method, res, sum)\n",
    "fdr = merge(valid, total, by = c(\"pattern\", \"method\"))\n",
    "fdr$fdr = (fdr$total - fdr$valid)/fdr$total"
   ]
  },
  {
   "cell_type": "code",
   "execution_count": 12,
   "metadata": {
    "kernel": "R"
   },
   "outputs": [],
   "source": [
    "fdr$scenario = rep(NA, nrow(fdr))\n",
    "fdr$scenario[which(fdr$method == fdr$pattern & fdr$method != 'mixture_1')] = oracle\n",
    "fdr$scenario[which(fdr$method != fdr$pattern & fdr$method != 'mixture_1')] = mismatch\n",
    "fdr$scenario[which(fdr$method == \"mixture_1\")] = default\n",
    "fdr = fdr[which(!is.na(fdr$scenario)),]\n",
    "fdr_mean = aggregate(fdr~scenario, fdr, mean)\n",
    "fdr_singleton = fdr[which(fdr$pattern == 'singleton'),]\n",
    "fdr_mean_singleton = aggregate(fdr~scenario, fdr_singleton, mean)\n",
    "fdr_het = fdr[which(fdr$pattern == 'low_het'),]\n",
    "fdr_mean_het = aggregate(fdr~scenario, fdr_het, mean)"
   ]
  },
  {
   "cell_type": "code",
   "execution_count": 13,
   "metadata": {
    "kernel": "R"
   },
   "outputs": [
    {
     "data": {
      "text/html": [
       "<table>\n",
       "<thead><tr><th scope=col>scenario</th><th scope=col>fdr</th></tr></thead>\n",
       "<tbody>\n",
       "\t<tr><td>1) oracle  </td><td>0.07222584 </td></tr>\n",
       "\t<tr><td>2) default </td><td>0.05729344 </td></tr>\n",
       "\t<tr><td>3) mismatch</td><td>0.07227381 </td></tr>\n",
       "</tbody>\n",
       "</table>\n"
      ],
      "text/latex": [
       "\\begin{tabular}{r|ll}\n",
       " scenario & fdr\\\\\n",
       "\\hline\n",
       "\t 1) oracle   & 0.07222584 \\\\\n",
       "\t 2) default  & 0.05729344 \\\\\n",
       "\t 3) mismatch & 0.07227381 \\\\\n",
       "\\end{tabular}\n"
      ],
      "text/markdown": [
       "\n",
       "scenario | fdr | \n",
       "|---|---|---|\n",
       "| 1) oracle   | 0.07222584  | \n",
       "| 2) default  | 0.05729344  | \n",
       "| 3) mismatch | 0.07227381  | \n",
       "\n",
       "\n"
      ],
      "text/plain": [
       "  scenario    fdr       \n",
       "1 1) oracle   0.07222584\n",
       "2 2) default  0.05729344\n",
       "3 3) mismatch 0.07227381"
      ]
     },
     "metadata": {},
     "output_type": "display_data"
    }
   ],
   "source": [
    "fdr_mean"
   ]
  },
  {
   "cell_type": "code",
   "execution_count": 14,
   "metadata": {
    "kernel": "R"
   },
   "outputs": [
    {
     "data": {
      "text/html": [
       "<table>\n",
       "<thead><tr><th scope=col>scenario</th><th scope=col>fdr</th></tr></thead>\n",
       "<tbody>\n",
       "\t<tr><td>1) oracle  </td><td>0.05663717 </td></tr>\n",
       "\t<tr><td>2) default </td><td>0.05464481 </td></tr>\n",
       "\t<tr><td>3) mismatch</td><td>0.08773907 </td></tr>\n",
       "</tbody>\n",
       "</table>\n"
      ],
      "text/latex": [
       "\\begin{tabular}{r|ll}\n",
       " scenario & fdr\\\\\n",
       "\\hline\n",
       "\t 1) oracle   & 0.05663717 \\\\\n",
       "\t 2) default  & 0.05464481 \\\\\n",
       "\t 3) mismatch & 0.08773907 \\\\\n",
       "\\end{tabular}\n"
      ],
      "text/markdown": [
       "\n",
       "scenario | fdr | \n",
       "|---|---|---|\n",
       "| 1) oracle   | 0.05663717  | \n",
       "| 2) default  | 0.05464481  | \n",
       "| 3) mismatch | 0.08773907  | \n",
       "\n",
       "\n"
      ],
      "text/plain": [
       "  scenario    fdr       \n",
       "1 1) oracle   0.05663717\n",
       "2 2) default  0.05464481\n",
       "3 3) mismatch 0.08773907"
      ]
     },
     "metadata": {},
     "output_type": "display_data"
    }
   ],
   "source": [
    "fdr_mean_singleton"
   ]
  },
  {
   "cell_type": "code",
   "execution_count": 15,
   "metadata": {
    "kernel": "R"
   },
   "outputs": [
    {
     "data": {
      "text/html": [
       "<table>\n",
       "<thead><tr><th scope=col>scenario</th><th scope=col>fdr</th></tr></thead>\n",
       "<tbody>\n",
       "\t<tr><td>1) oracle  </td><td>0.07048984 </td></tr>\n",
       "\t<tr><td>2) default </td><td>0.05804111 </td></tr>\n",
       "\t<tr><td>3) mismatch</td><td>0.06680457 </td></tr>\n",
       "</tbody>\n",
       "</table>\n"
      ],
      "text/latex": [
       "\\begin{tabular}{r|ll}\n",
       " scenario & fdr\\\\\n",
       "\\hline\n",
       "\t 1) oracle   & 0.07048984 \\\\\n",
       "\t 2) default  & 0.05804111 \\\\\n",
       "\t 3) mismatch & 0.06680457 \\\\\n",
       "\\end{tabular}\n"
      ],
      "text/markdown": [
       "\n",
       "scenario | fdr | \n",
       "|---|---|---|\n",
       "| 1) oracle   | 0.07048984  | \n",
       "| 2) default  | 0.05804111  | \n",
       "| 3) mismatch | 0.06680457  | \n",
       "\n",
       "\n"
      ],
      "text/plain": [
       "  scenario    fdr       \n",
       "1 1) oracle   0.07048984\n",
       "2 2) default  0.05804111\n",
       "3 3) mismatch 0.06680457"
      ]
     },
     "metadata": {},
     "output_type": "display_data"
    }
   ],
   "source": [
    "fdr_mean_het"
   ]
  },
  {
   "cell_type": "markdown",
   "metadata": {
    "kernel": "R"
   },
   "source": [
    "## Power"
   ]
  },
  {
   "cell_type": "code",
   "execution_count": 16,
   "metadata": {
    "kernel": "R"
   },
   "outputs": [],
   "source": [
    "total_true_included = aggregate(total_true_included ~ pattern + method, res, sum)\n",
    "total_true = aggregate(total_true ~ pattern + method, res, sum)\n",
    "overlap = aggregate(overlap ~ pattern + method, res, mean)\n",
    "power = merge(total_true_included, total_true, by = c(\"pattern\", \"method\"))\n",
    "power = merge(power, overlap,  by = c(\"pattern\", \"method\"))\n",
    "power$power = power$total_true_included/power$total_true"
   ]
  },
  {
   "cell_type": "code",
   "execution_count": 17,
   "metadata": {
    "kernel": "R"
   },
   "outputs": [],
   "source": [
    "power$scenario = rep(NA, nrow(power))\n",
    "power$scenario[which(power$method == power$pattern & power$method != 'mixture_1')] = oracle\n",
    "power$scenario[which(power$method != power$pattern & power$method != 'mixture_1')] = mismatch\n",
    "power$scenario[which(power$method == \"mixture_1\")] = default\n",
    "power = power[which(!is.na(power$scenario)),]\n",
    "power_mean = aggregate(power~scenario, power, mean)\n",
    "power_singleton = power[which(power$pattern == 'singleton'),]\n",
    "power_mean_singleton = aggregate(power~scenario, power_singleton, mean)\n",
    "power_het = power[which(power$pattern == 'low_het'),]\n",
    "power_mean_het = aggregate(power~scenario, power_het, mean)"
   ]
  },
  {
   "cell_type": "code",
   "execution_count": 18,
   "metadata": {
    "kernel": "R"
   },
   "outputs": [
    {
     "data": {
      "text/html": [
       "<table>\n",
       "<thead><tr><th scope=col>scenario</th><th scope=col>power</th></tr></thead>\n",
       "<tbody>\n",
       "\t<tr><td>1) oracle  </td><td>0.8769862  </td></tr>\n",
       "\t<tr><td>2) default </td><td>0.8623861  </td></tr>\n",
       "\t<tr><td>3) mismatch</td><td>0.8328877  </td></tr>\n",
       "</tbody>\n",
       "</table>\n"
      ],
      "text/latex": [
       "\\begin{tabular}{r|ll}\n",
       " scenario & power\\\\\n",
       "\\hline\n",
       "\t 1) oracle   & 0.8769862  \\\\\n",
       "\t 2) default  & 0.8623861  \\\\\n",
       "\t 3) mismatch & 0.8328877  \\\\\n",
       "\\end{tabular}\n"
      ],
      "text/markdown": [
       "\n",
       "scenario | power | \n",
       "|---|---|---|\n",
       "| 1) oracle   | 0.8769862   | \n",
       "| 2) default  | 0.8623861   | \n",
       "| 3) mismatch | 0.8328877   | \n",
       "\n",
       "\n"
      ],
      "text/plain": [
       "  scenario    power    \n",
       "1 1) oracle   0.8769862\n",
       "2 2) default  0.8623861\n",
       "3 3) mismatch 0.8328877"
      ]
     },
     "metadata": {},
     "output_type": "display_data"
    }
   ],
   "source": [
    "power_mean"
   ]
  },
  {
   "cell_type": "code",
   "execution_count": 19,
   "metadata": {
    "kernel": "R"
   },
   "outputs": [
    {
     "data": {
      "text/html": [
       "<table>\n",
       "<thead><tr><th scope=col>scenario</th><th scope=col>power</th></tr></thead>\n",
       "<tbody>\n",
       "\t<tr><td>1) oracle  </td><td>0.6629902  </td></tr>\n",
       "\t<tr><td>2) default </td><td>0.6433824  </td></tr>\n",
       "\t<tr><td>3) mismatch</td><td>0.5791667  </td></tr>\n",
       "</tbody>\n",
       "</table>\n"
      ],
      "text/latex": [
       "\\begin{tabular}{r|ll}\n",
       " scenario & power\\\\\n",
       "\\hline\n",
       "\t 1) oracle   & 0.6629902  \\\\\n",
       "\t 2) default  & 0.6433824  \\\\\n",
       "\t 3) mismatch & 0.5791667  \\\\\n",
       "\\end{tabular}\n"
      ],
      "text/markdown": [
       "\n",
       "scenario | power | \n",
       "|---|---|---|\n",
       "| 1) oracle   | 0.6629902   | \n",
       "| 2) default  | 0.6433824   | \n",
       "| 3) mismatch | 0.5791667   | \n",
       "\n",
       "\n"
      ],
      "text/plain": [
       "  scenario    power    \n",
       "1 1) oracle   0.6629902\n",
       "2 2) default  0.6433824\n",
       "3 3) mismatch 0.5791667"
      ]
     },
     "metadata": {},
     "output_type": "display_data"
    }
   ],
   "source": [
    "power_mean_singleton"
   ]
  },
  {
   "cell_type": "code",
   "execution_count": 20,
   "metadata": {
    "kernel": "R"
   },
   "outputs": [
    {
     "data": {
      "text/html": [
       "<table>\n",
       "<thead><tr><th scope=col>scenario</th><th scope=col>power</th></tr></thead>\n",
       "<tbody>\n",
       "\t<tr><td>1) oracle  </td><td>0.9148191  </td></tr>\n",
       "\t<tr><td>2) default </td><td>0.9183197  </td></tr>\n",
       "\t<tr><td>3) mismatch</td><td>0.8991832  </td></tr>\n",
       "</tbody>\n",
       "</table>\n"
      ],
      "text/latex": [
       "\\begin{tabular}{r|ll}\n",
       " scenario & power\\\\\n",
       "\\hline\n",
       "\t 1) oracle   & 0.9148191  \\\\\n",
       "\t 2) default  & 0.9183197  \\\\\n",
       "\t 3) mismatch & 0.8991832  \\\\\n",
       "\\end{tabular}\n"
      ],
      "text/markdown": [
       "\n",
       "scenario | power | \n",
       "|---|---|---|\n",
       "| 1) oracle   | 0.9148191   | \n",
       "| 2) default  | 0.9183197   | \n",
       "| 3) mismatch | 0.8991832   | \n",
       "\n",
       "\n"
      ],
      "text/plain": [
       "  scenario    power    \n",
       "1 1) oracle   0.9148191\n",
       "2 2) default  0.9183197\n",
       "3 3) mismatch 0.8991832"
      ]
     },
     "metadata": {},
     "output_type": "display_data"
    }
   ],
   "source": [
    "power_mean_het"
   ]
  },
  {
   "cell_type": "markdown",
   "metadata": {
    "kernel": "R"
   },
   "source": [
    "## FDR per condition"
   ]
  },
  {
   "cell_type": "code",
   "execution_count": 21,
   "metadata": {
    "kernel": "R"
   },
   "outputs": [],
   "source": [
    "tp = aggregate(true_positive_cross_cond ~ pattern + method, res, sum)\n",
    "fp = aggregate(false_positive_cross_cond ~ pattern + method, res, sum)\n",
    "fdr_cond = merge(tp, fp, by = c(\"pattern\", \"method\"))\n",
    "fdr_cond$fdr_cond = fdr_cond$false_positive_cross_cond/(fdr_cond$true_positive_cross_cond + fdr_cond$false_positive_cross_cond)\n",
    "fdr_cond = fdr_cond[order(fdr_cond$method),]"
   ]
  },
  {
   "cell_type": "code",
   "execution_count": 22,
   "metadata": {
    "kernel": "R"
   },
   "outputs": [],
   "source": [
    "fdr_cond$scenario = rep(NA, nrow(fdr_cond))\n",
    "fdr_cond$scenario[which(fdr_cond$method == fdr_cond$pattern & fdr_cond$method != 'mixture_1')] = oracle\n",
    "fdr_cond$scenario[which(fdr_cond$method != fdr_cond$pattern & fdr_cond$method != 'mixture_1')] = mismatch\n",
    "fdr_cond$scenario[which(fdr_cond$method == \"mixture_1\")] = default\n",
    "fdr_cond = fdr_cond[which(!is.na(fdr_cond$scenario)),]\n",
    "fdr_cond_mean = aggregate(fdr_cond~scenario, fdr_cond, mean)\n",
    "fdr_cond_singleton = fdr_cond[which(fdr_cond$pattern == 'singleton'),]\n",
    "fdr_cond_mean_singleton = aggregate(fdr_cond~scenario, fdr_cond_singleton, mean)\n",
    "fdr_cond_het = fdr_cond[which(fdr_cond$pattern == 'low_het'),]\n",
    "fdr_cond_mean_het = aggregate(fdr_cond~scenario, fdr_cond_het, mean)"
   ]
  },
  {
   "cell_type": "code",
   "execution_count": 23,
   "metadata": {
    "kernel": "R"
   },
   "outputs": [
    {
     "data": {
      "text/html": [
       "<table>\n",
       "<thead><tr><th scope=col>scenario</th><th scope=col>fdr_cond</th></tr></thead>\n",
       "<tbody>\n",
       "\t<tr><td>1) oracle  </td><td>0.06709568 </td></tr>\n",
       "\t<tr><td>2) default </td><td>0.05656631 </td></tr>\n",
       "\t<tr><td>3) mismatch</td><td>0.16852276 </td></tr>\n",
       "</tbody>\n",
       "</table>\n"
      ],
      "text/latex": [
       "\\begin{tabular}{r|ll}\n",
       " scenario & fdr\\_cond\\\\\n",
       "\\hline\n",
       "\t 1) oracle   & 0.06709568 \\\\\n",
       "\t 2) default  & 0.05656631 \\\\\n",
       "\t 3) mismatch & 0.16852276 \\\\\n",
       "\\end{tabular}\n"
      ],
      "text/markdown": [
       "\n",
       "scenario | fdr_cond | \n",
       "|---|---|---|\n",
       "| 1) oracle   | 0.06709568  | \n",
       "| 2) default  | 0.05656631  | \n",
       "| 3) mismatch | 0.16852276  | \n",
       "\n",
       "\n"
      ],
      "text/plain": [
       "  scenario    fdr_cond  \n",
       "1 1) oracle   0.06709568\n",
       "2 2) default  0.05656631\n",
       "3 3) mismatch 0.16852276"
      ]
     },
     "metadata": {},
     "output_type": "display_data"
    }
   ],
   "source": [
    "fdr_cond_mean"
   ]
  },
  {
   "cell_type": "code",
   "execution_count": 24,
   "metadata": {
    "kernel": "R"
   },
   "outputs": [
    {
     "data": {
      "text/html": [
       "<table>\n",
       "<thead><tr><th scope=col>scenario</th><th scope=col>fdr_cond</th></tr></thead>\n",
       "<tbody>\n",
       "\t<tr><td>1) oracle  </td><td>0.05605787 </td></tr>\n",
       "\t<tr><td>2) default </td><td>0.06099815 </td></tr>\n",
       "\t<tr><td>3) mismatch</td><td>0.73187766 </td></tr>\n",
       "</tbody>\n",
       "</table>\n"
      ],
      "text/latex": [
       "\\begin{tabular}{r|ll}\n",
       " scenario & fdr\\_cond\\\\\n",
       "\\hline\n",
       "\t 1) oracle   & 0.05605787 \\\\\n",
       "\t 2) default  & 0.06099815 \\\\\n",
       "\t 3) mismatch & 0.73187766 \\\\\n",
       "\\end{tabular}\n"
      ],
      "text/markdown": [
       "\n",
       "scenario | fdr_cond | \n",
       "|---|---|---|\n",
       "| 1) oracle   | 0.05605787  | \n",
       "| 2) default  | 0.06099815  | \n",
       "| 3) mismatch | 0.73187766  | \n",
       "\n",
       "\n"
      ],
      "text/plain": [
       "  scenario    fdr_cond  \n",
       "1 1) oracle   0.05605787\n",
       "2 2) default  0.06099815\n",
       "3 3) mismatch 0.73187766"
      ]
     },
     "metadata": {},
     "output_type": "display_data"
    }
   ],
   "source": [
    "fdr_cond_mean_singleton"
   ]
  },
  {
   "cell_type": "code",
   "execution_count": 25,
   "metadata": {
    "kernel": "R"
   },
   "outputs": [
    {
     "data": {
      "text/html": [
       "<table>\n",
       "<thead><tr><th scope=col>scenario</th><th scope=col>fdr_cond</th></tr></thead>\n",
       "<tbody>\n",
       "\t<tr><td>1) oracle  </td><td>0.06042074 </td></tr>\n",
       "\t<tr><td>2) default </td><td>0.05258009 </td></tr>\n",
       "\t<tr><td>3) mismatch</td><td>0.06053400 </td></tr>\n",
       "</tbody>\n",
       "</table>\n"
      ],
      "text/latex": [
       "\\begin{tabular}{r|ll}\n",
       " scenario & fdr\\_cond\\\\\n",
       "\\hline\n",
       "\t 1) oracle   & 0.06042074 \\\\\n",
       "\t 2) default  & 0.05258009 \\\\\n",
       "\t 3) mismatch & 0.06053400 \\\\\n",
       "\\end{tabular}\n"
      ],
      "text/markdown": [
       "\n",
       "scenario | fdr_cond | \n",
       "|---|---|---|\n",
       "| 1) oracle   | 0.06042074  | \n",
       "| 2) default  | 0.05258009  | \n",
       "| 3) mismatch | 0.06053400  | \n",
       "\n",
       "\n"
      ],
      "text/plain": [
       "  scenario    fdr_cond  \n",
       "1 1) oracle   0.06042074\n",
       "2 2) default  0.05258009\n",
       "3 3) mismatch 0.06053400"
      ]
     },
     "metadata": {},
     "output_type": "display_data"
    }
   ],
   "source": [
    "fdr_cond_mean_het"
   ]
  },
  {
   "cell_type": "markdown",
   "metadata": {
    "kernel": "R"
   },
   "source": [
    "## Power per condition"
   ]
  },
  {
   "cell_type": "code",
   "execution_count": 26,
   "metadata": {
    "kernel": "R"
   },
   "outputs": [],
   "source": [
    "tp = aggregate(true_positive_cross_cond ~ pattern + method, res, sum)\n",
    "fn = aggregate(false_negative_cross_cond ~ pattern + method, res, sum)\n",
    "power_cond = merge(tp, fn, by = c(\"pattern\", \"method\"))\n",
    "power_cond$power_cond = power_cond$true_positive_cross_cond/(power_cond$true_positive_cross_cond + power_cond$false_negative_cross_cond)"
   ]
  },
  {
   "cell_type": "code",
   "execution_count": 27,
   "metadata": {
    "kernel": "R"
   },
   "outputs": [],
   "source": [
    "power_cond$scenario = rep(NA, nrow(power_cond))\n",
    "power_cond$scenario[which(power_cond$method == power_cond$pattern & power_cond$method != 'mixture_1')] = oracle\n",
    "power_cond$scenario[which(power_cond$method != power_cond$pattern & power_cond$method != 'mixture_1')] = mismatch\n",
    "power_cond$scenario[which(power_cond$method == \"mixture_1\")] = default\n",
    "power_cond = power_cond[which(!is.na(power_cond$scenario)),]\n",
    "power_cond_mean = aggregate(power_cond~scenario, power_cond, mean)\n",
    "power_cond_singleton = power_cond[which(power_cond$pattern == 'singleton'),]\n",
    "power_cond_mean_singleton = aggregate(power_cond~scenario, power_cond_singleton, mean)\n",
    "power_cond_het = power_cond[which(power_cond$pattern == 'low_het'),]\n",
    "power_cond_mean_het = aggregate(power_cond~scenario, power_cond_het, mean)"
   ]
  },
  {
   "cell_type": "code",
   "execution_count": 28,
   "metadata": {
    "kernel": "R"
   },
   "outputs": [
    {
     "data": {
      "text/html": [
       "<table>\n",
       "<thead><tr><th scope=col>scenario</th><th scope=col>power_cond</th></tr></thead>\n",
       "<tbody>\n",
       "\t<tr><td>1) oracle  </td><td>0.9680900  </td></tr>\n",
       "\t<tr><td>2) default </td><td>0.9850758  </td></tr>\n",
       "\t<tr><td>3) mismatch</td><td>0.8242107  </td></tr>\n",
       "</tbody>\n",
       "</table>\n"
      ],
      "text/latex": [
       "\\begin{tabular}{r|ll}\n",
       " scenario & power\\_cond\\\\\n",
       "\\hline\n",
       "\t 1) oracle   & 0.9680900  \\\\\n",
       "\t 2) default  & 0.9850758  \\\\\n",
       "\t 3) mismatch & 0.8242107  \\\\\n",
       "\\end{tabular}\n"
      ],
      "text/markdown": [
       "\n",
       "scenario | power_cond | \n",
       "|---|---|---|\n",
       "| 1) oracle   | 0.9680900   | \n",
       "| 2) default  | 0.9850758   | \n",
       "| 3) mismatch | 0.8242107   | \n",
       "\n",
       "\n"
      ],
      "text/plain": [
       "  scenario    power_cond\n",
       "1 1) oracle   0.9680900 \n",
       "2 2) default  0.9850758 \n",
       "3 3) mismatch 0.8242107 "
      ]
     },
     "metadata": {},
     "output_type": "display_data"
    }
   ],
   "source": [
    "power_cond_mean"
   ]
  },
  {
   "cell_type": "code",
   "execution_count": 29,
   "metadata": {
    "kernel": "R"
   },
   "outputs": [
    {
     "data": {
      "text/html": [
       "<table>\n",
       "<thead><tr><th scope=col>scenario</th><th scope=col>power_cond</th></tr></thead>\n",
       "<tbody>\n",
       "\t<tr><td>1) oracle  </td><td>0.9775281  </td></tr>\n",
       "\t<tr><td>2) default </td><td>0.9769231  </td></tr>\n",
       "\t<tr><td>3) mismatch</td><td>0.9368670  </td></tr>\n",
       "</tbody>\n",
       "</table>\n"
      ],
      "text/latex": [
       "\\begin{tabular}{r|ll}\n",
       " scenario & power\\_cond\\\\\n",
       "\\hline\n",
       "\t 1) oracle   & 0.9775281  \\\\\n",
       "\t 2) default  & 0.9769231  \\\\\n",
       "\t 3) mismatch & 0.9368670  \\\\\n",
       "\\end{tabular}\n"
      ],
      "text/markdown": [
       "\n",
       "scenario | power_cond | \n",
       "|---|---|---|\n",
       "| 1) oracle   | 0.9775281   | \n",
       "| 2) default  | 0.9769231   | \n",
       "| 3) mismatch | 0.9368670   | \n",
       "\n",
       "\n"
      ],
      "text/plain": [
       "  scenario    power_cond\n",
       "1 1) oracle   0.9775281 \n",
       "2 2) default  0.9769231 \n",
       "3 3) mismatch 0.9368670 "
      ]
     },
     "metadata": {},
     "output_type": "display_data"
    }
   ],
   "source": [
    "power_cond_mean_singleton"
   ]
  },
  {
   "cell_type": "code",
   "execution_count": 30,
   "metadata": {
    "kernel": "R"
   },
   "outputs": [
    {
     "data": {
      "text/html": [
       "<table>\n",
       "<thead><tr><th scope=col>scenario</th><th scope=col>power_cond</th></tr></thead>\n",
       "<tbody>\n",
       "\t<tr><td>1) oracle  </td><td>0.9753682  </td></tr>\n",
       "\t<tr><td>2) default </td><td>0.9882653  </td></tr>\n",
       "\t<tr><td>3) mismatch</td><td>0.8107187  </td></tr>\n",
       "</tbody>\n",
       "</table>\n"
      ],
      "text/latex": [
       "\\begin{tabular}{r|ll}\n",
       " scenario & power\\_cond\\\\\n",
       "\\hline\n",
       "\t 1) oracle   & 0.9753682  \\\\\n",
       "\t 2) default  & 0.9882653  \\\\\n",
       "\t 3) mismatch & 0.8107187  \\\\\n",
       "\\end{tabular}\n"
      ],
      "text/markdown": [
       "\n",
       "scenario | power_cond | \n",
       "|---|---|---|\n",
       "| 1) oracle   | 0.9753682   | \n",
       "| 2) default  | 0.9882653   | \n",
       "| 3) mismatch | 0.8107187   | \n",
       "\n",
       "\n"
      ],
      "text/plain": [
       "  scenario    power_cond\n",
       "1 1) oracle   0.9753682 \n",
       "2 2) default  0.9882653 \n",
       "3 3) mismatch 0.8107187 "
      ]
     },
     "metadata": {},
     "output_type": "display_data"
    }
   ],
   "source": [
    "power_cond_mean_het"
   ]
  },
  {
   "cell_type": "markdown",
   "metadata": {
    "kernel": "R"
   },
   "source": [
    "Notice the per condition power looks a lot higher than the other analysis, because most powerful tests are for shared effects, which will get counted $R$ times for each signal in per condition analysis, but only are counted one time in overall assessment. Therefore singleton scenarios are relatively more abundant in overall assessment, leading to less powerful tests."
   ]
  },
  {
   "cell_type": "code",
   "execution_count": 31,
   "metadata": {
    "kernel": "R"
   },
   "outputs": [
    {
     "data": {
      "text/html": [
       "<ol class=list-inline>\n",
       "\t<li>'default'</li>\n",
       "\t<li>'fdr'</li>\n",
       "\t<li>'fdr_cond'</li>\n",
       "\t<li>'fdr_cond_het'</li>\n",
       "\t<li>'fdr_cond_mean'</li>\n",
       "\t<li>'fdr_cond_mean_het'</li>\n",
       "\t<li>'fdr_cond_mean_singleton'</li>\n",
       "\t<li>'fdr_cond_singleton'</li>\n",
       "\t<li>'fdr_het'</li>\n",
       "\t<li>'fdr_mean'</li>\n",
       "\t<li>'fdr_mean_het'</li>\n",
       "\t<li>'fdr_mean_singleton'</li>\n",
       "\t<li>'fdr_singleton'</li>\n",
       "\t<li>'fn'</li>\n",
       "\t<li>'fp'</li>\n",
       "\t<li>'mismatch'</li>\n",
       "\t<li>'oracle'</li>\n",
       "\t<li>'overlap'</li>\n",
       "\t<li>'power'</li>\n",
       "\t<li>'power_cond'</li>\n",
       "\t<li>'power_cond_het'</li>\n",
       "\t<li>'power_cond_mean'</li>\n",
       "\t<li>'power_cond_mean_het'</li>\n",
       "\t<li>'power_cond_mean_singleton'</li>\n",
       "\t<li>'power_cond_singleton'</li>\n",
       "\t<li>'power_het'</li>\n",
       "\t<li>'power_mean'</li>\n",
       "\t<li>'power_mean_het'</li>\n",
       "\t<li>'power_mean_singleton'</li>\n",
       "\t<li>'power_singleton'</li>\n",
       "\t<li>'purity'</li>\n",
       "\t<li>'purity_het'</li>\n",
       "\t<li>'purity_median'</li>\n",
       "\t<li>'purity_median_het'</li>\n",
       "\t<li>'purity_median_singleton'</li>\n",
       "\t<li>'purity_singleton'</li>\n",
       "\t<li>'res'</li>\n",
       "\t<li>'size'</li>\n",
       "\t<li>'size_het'</li>\n",
       "\t<li>'size_median'</li>\n",
       "\t<li>'size_median_het'</li>\n",
       "\t<li>'size_median_singleton'</li>\n",
       "\t<li>'size_singleton'</li>\n",
       "\t<li>'total'</li>\n",
       "\t<li>'total_true'</li>\n",
       "\t<li>'total_true_included'</li>\n",
       "\t<li>'tp'</li>\n",
       "\t<li>'valid'</li>\n",
       "</ol>\n"
      ],
      "text/latex": [
       "\\begin{enumerate*}\n",
       "\\item 'default'\n",
       "\\item 'fdr'\n",
       "\\item 'fdr\\_cond'\n",
       "\\item 'fdr\\_cond\\_het'\n",
       "\\item 'fdr\\_cond\\_mean'\n",
       "\\item 'fdr\\_cond\\_mean\\_het'\n",
       "\\item 'fdr\\_cond\\_mean\\_singleton'\n",
       "\\item 'fdr\\_cond\\_singleton'\n",
       "\\item 'fdr\\_het'\n",
       "\\item 'fdr\\_mean'\n",
       "\\item 'fdr\\_mean\\_het'\n",
       "\\item 'fdr\\_mean\\_singleton'\n",
       "\\item 'fdr\\_singleton'\n",
       "\\item 'fn'\n",
       "\\item 'fp'\n",
       "\\item 'mismatch'\n",
       "\\item 'oracle'\n",
       "\\item 'overlap'\n",
       "\\item 'power'\n",
       "\\item 'power\\_cond'\n",
       "\\item 'power\\_cond\\_het'\n",
       "\\item 'power\\_cond\\_mean'\n",
       "\\item 'power\\_cond\\_mean\\_het'\n",
       "\\item 'power\\_cond\\_mean\\_singleton'\n",
       "\\item 'power\\_cond\\_singleton'\n",
       "\\item 'power\\_het'\n",
       "\\item 'power\\_mean'\n",
       "\\item 'power\\_mean\\_het'\n",
       "\\item 'power\\_mean\\_singleton'\n",
       "\\item 'power\\_singleton'\n",
       "\\item 'purity'\n",
       "\\item 'purity\\_het'\n",
       "\\item 'purity\\_median'\n",
       "\\item 'purity\\_median\\_het'\n",
       "\\item 'purity\\_median\\_singleton'\n",
       "\\item 'purity\\_singleton'\n",
       "\\item 'res'\n",
       "\\item 'size'\n",
       "\\item 'size\\_het'\n",
       "\\item 'size\\_median'\n",
       "\\item 'size\\_median\\_het'\n",
       "\\item 'size\\_median\\_singleton'\n",
       "\\item 'size\\_singleton'\n",
       "\\item 'total'\n",
       "\\item 'total\\_true'\n",
       "\\item 'total\\_true\\_included'\n",
       "\\item 'tp'\n",
       "\\item 'valid'\n",
       "\\end{enumerate*}\n"
      ],
      "text/markdown": [
       "1. 'default'\n",
       "2. 'fdr'\n",
       "3. 'fdr_cond'\n",
       "4. 'fdr_cond_het'\n",
       "5. 'fdr_cond_mean'\n",
       "6. 'fdr_cond_mean_het'\n",
       "7. 'fdr_cond_mean_singleton'\n",
       "8. 'fdr_cond_singleton'\n",
       "9. 'fdr_het'\n",
       "10. 'fdr_mean'\n",
       "11. 'fdr_mean_het'\n",
       "12. 'fdr_mean_singleton'\n",
       "13. 'fdr_singleton'\n",
       "14. 'fn'\n",
       "15. 'fp'\n",
       "16. 'mismatch'\n",
       "17. 'oracle'\n",
       "18. 'overlap'\n",
       "19. 'power'\n",
       "20. 'power_cond'\n",
       "21. 'power_cond_het'\n",
       "22. 'power_cond_mean'\n",
       "23. 'power_cond_mean_het'\n",
       "24. 'power_cond_mean_singleton'\n",
       "25. 'power_cond_singleton'\n",
       "26. 'power_het'\n",
       "27. 'power_mean'\n",
       "28. 'power_mean_het'\n",
       "29. 'power_mean_singleton'\n",
       "30. 'power_singleton'\n",
       "31. 'purity'\n",
       "32. 'purity_het'\n",
       "33. 'purity_median'\n",
       "34. 'purity_median_het'\n",
       "35. 'purity_median_singleton'\n",
       "36. 'purity_singleton'\n",
       "37. 'res'\n",
       "38. 'size'\n",
       "39. 'size_het'\n",
       "40. 'size_median'\n",
       "41. 'size_median_het'\n",
       "42. 'size_median_singleton'\n",
       "43. 'size_singleton'\n",
       "44. 'total'\n",
       "45. 'total_true'\n",
       "46. 'total_true_included'\n",
       "47. 'tp'\n",
       "48. 'valid'\n",
       "\n",
       "\n"
      ],
      "text/plain": [
       " [1] \"default\"                   \"fdr\"                      \n",
       " [3] \"fdr_cond\"                  \"fdr_cond_het\"             \n",
       " [5] \"fdr_cond_mean\"             \"fdr_cond_mean_het\"        \n",
       " [7] \"fdr_cond_mean_singleton\"   \"fdr_cond_singleton\"       \n",
       " [9] \"fdr_het\"                   \"fdr_mean\"                 \n",
       "[11] \"fdr_mean_het\"              \"fdr_mean_singleton\"       \n",
       "[13] \"fdr_singleton\"             \"fn\"                       \n",
       "[15] \"fp\"                        \"mismatch\"                 \n",
       "[17] \"oracle\"                    \"overlap\"                  \n",
       "[19] \"power\"                     \"power_cond\"               \n",
       "[21] \"power_cond_het\"            \"power_cond_mean\"          \n",
       "[23] \"power_cond_mean_het\"       \"power_cond_mean_singleton\"\n",
       "[25] \"power_cond_singleton\"      \"power_het\"                \n",
       "[27] \"power_mean\"                \"power_mean_het\"           \n",
       "[29] \"power_mean_singleton\"      \"power_singleton\"          \n",
       "[31] \"purity\"                    \"purity_het\"               \n",
       "[33] \"purity_median\"             \"purity_median_het\"        \n",
       "[35] \"purity_median_singleton\"   \"purity_singleton\"         \n",
       "[37] \"res\"                       \"size\"                     \n",
       "[39] \"size_het\"                  \"size_median\"              \n",
       "[41] \"size_median_het\"           \"size_median_singleton\"    \n",
       "[43] \"size_singleton\"            \"total\"                    \n",
       "[45] \"total_true\"                \"total_true_included\"      \n",
       "[47] \"tp\"                        \"valid\"                    "
      ]
     },
     "metadata": {},
     "output_type": "display_data"
    }
   ],
   "source": [
    "ls()"
   ]
  },
  {
   "cell_type": "code",
   "execution_count": 32,
   "metadata": {
    "kernel": "R"
   },
   "outputs": [],
   "source": [
    "output = list(fdr_cond=fdr_cond_mean, fdr_cond_het=fdr_cond_mean_het, fdr_cond_singleton=fdr_cond_mean_singleton,\n",
    "             fdr=fdr_mean, fdr_het=fdr_mean_het, fdr_singleton=fdr_mean_singleton, \n",
    "             power_cond=power_cond_mean, power_cond_het=power_cond_mean_het, power_cond_singleton=power_cond_mean_singleton,\n",
    "             power=power_mean, power_het=power_mean_het, power_singleton=power_mean_singleton,\n",
    "             purity=purity_median, purity_het=purity_median_het, purity_singleton=purity_median_singleton,\n",
    "             size=size_median, size_het=size_median_het, size_singleton=size_median_singleton)\n",
    "saveRDS(output, '../data/finemap_output.summarized_result.rds')"
   ]
  },
  {
   "cell_type": "markdown",
   "metadata": {
    "kernel": "R"
   },
   "source": [
    "## Make plot"
   ]
  },
  {
   "cell_type": "code",
   "execution_count": 33,
   "metadata": {
    "kernel": "R"
   },
   "outputs": [],
   "source": [
    "output = readRDS('../data/finemap_output.summarized_result.rds')"
   ]
  },
  {
   "cell_type": "code",
   "execution_count": 34,
   "metadata": {
    "kernel": "R"
   },
   "outputs": [],
   "source": [
    "get_table = function(output, key) {\n",
    "    dat = Reduce(function(x, y) merge(x, y, by = 'scenario'), list(output[[key]], output[[paste0(key,'_het')]], output[[paste0(key,'_singleton')]]))\n",
    "    dat = reshape2::melt(dat, id.vars = c(\"scenario\"))\n",
    "    dat$variable = NULL\n",
    "    dat = cbind(dat, c(rep('overall',3), rep('shared',3), rep('singleton',3)))\n",
    "    #dat = cbind(dat, c(1,1,1,2,2,2,3,3,3))\n",
    "    #dat = cbind(dat, c(2,3,1,2,3,1,2,3,1))\n",
    "    #names(dat) = c('method', key, 'scenario', 'o1', 'o2')\n",
    "    names(dat) = c('method', key, 'scenario')\n",
    "    return(dat)\n",
    "}"
   ]
  },
  {
   "cell_type": "code",
   "execution_count": 35,
   "metadata": {
    "kernel": "R"
   },
   "outputs": [
    {
     "data": {
      "text/html": [
       "<ol class=list-inline>\n",
       "\t<li>'#E41A1C'</li>\n",
       "\t<li>'#377EB8'</li>\n",
       "\t<li>'#4DAF4A'</li>\n",
       "\t<li>'#984EA3'</li>\n",
       "\t<li>'#FF7F00'</li>\n",
       "\t<li>'#FFFF33'</li>\n",
       "\t<li>'#A65628'</li>\n",
       "\t<li>'#F781BF'</li>\n",
       "</ol>\n"
      ],
      "text/latex": [
       "\\begin{enumerate*}\n",
       "\\item '\\#E41A1C'\n",
       "\\item '\\#377EB8'\n",
       "\\item '\\#4DAF4A'\n",
       "\\item '\\#984EA3'\n",
       "\\item '\\#FF7F00'\n",
       "\\item '\\#FFFF33'\n",
       "\\item '\\#A65628'\n",
       "\\item '\\#F781BF'\n",
       "\\end{enumerate*}\n"
      ],
      "text/markdown": [
       "1. '#E41A1C'\n",
       "2. '#377EB8'\n",
       "3. '#4DAF4A'\n",
       "4. '#984EA3'\n",
       "5. '#FF7F00'\n",
       "6. '#FFFF33'\n",
       "7. '#A65628'\n",
       "8. '#F781BF'\n",
       "\n",
       "\n"
      ],
      "text/plain": [
       "[1] \"#E41A1C\" \"#377EB8\" \"#4DAF4A\" \"#984EA3\" \"#FF7F00\" \"#FFFF33\" \"#A65628\"\n",
       "[8] \"#F781BF\""
      ]
     },
     "metadata": {},
     "output_type": "display_data"
    }
   ],
   "source": [
    "colors = RColorBrewer::brewer.pal(n = 8, name = \"Set1\")\n",
    "colors"
   ]
  },
  {
   "cell_type": "code",
   "execution_count": 36,
   "metadata": {
    "kernel": "R"
   },
   "outputs": [],
   "source": [
    "library(lattice)\n",
    "default_panel = function(x, y, ...) {\n",
    "    panel.points(x, y, col=THE_COLOR, pch=16, cex=1.1)\n",
    "}\n",
    "W = 3.2\n",
    "H2 = 4\n",
    "H1 = 2.9"
   ]
  },
  {
   "cell_type": "markdown",
   "metadata": {
    "kernel": "R"
   },
   "source": [
    "## Size"
   ]
  },
  {
   "cell_type": "code",
   "execution_count": 37,
   "metadata": {
    "kernel": "R"
   },
   "outputs": [],
   "source": [
    "size = get_table(output, 'size')"
   ]
  },
  {
   "cell_type": "code",
   "execution_count": 38,
   "metadata": {
    "kernel": "R"
   },
   "outputs": [
    {
     "data": {
      "text/html": [
       "<strong>png:</strong> 2"
      ],
      "text/latex": [
       "\\textbf{png:} 2"
      ],
      "text/markdown": [
       "**png:** 2"
      ],
      "text/plain": [
       "png \n",
       "  2 "
      ]
     },
     "metadata": {},
     "output_type": "display_data"
    }
   ],
   "source": [
    "pdf('1.pdf', width=W, height=H1)\n",
    "THE_COLOR=colors[3]\n",
    "dotplot(size ~ method | scenario, data=size,  \n",
    "        auto.key=list(columns=2), scale=list(alternating=1, x = list(draw=F)), \n",
    "        layout = c(3,1), angle = 45, panel=default_panel,\n",
    "        xlab=\"\", ylab = \"Median number of variables\")\n",
    "dev.off()"
   ]
  },
  {
   "cell_type": "code",
   "execution_count": 39,
   "metadata": {
    "kernel": "R"
   },
   "outputs": [
    {
     "data": {
      "text/html": [
       "<table>\n",
       "<thead><tr><th scope=col>method</th><th scope=col>size</th><th scope=col>scenario</th></tr></thead>\n",
       "<tbody>\n",
       "\t<tr><td>1) oracle  </td><td> 9.782     </td><td>overall    </td></tr>\n",
       "\t<tr><td>2) default </td><td> 9.771     </td><td>overall    </td></tr>\n",
       "\t<tr><td>3) mismatch</td><td>11.613     </td><td>overall    </td></tr>\n",
       "\t<tr><td>1) oracle  </td><td> 8.624     </td><td>shared     </td></tr>\n",
       "\t<tr><td>2) default </td><td> 8.679     </td><td>shared     </td></tr>\n",
       "\t<tr><td>3) mismatch</td><td> 8.797     </td><td>shared     </td></tr>\n",
       "\t<tr><td>1) oracle  </td><td>18.366     </td><td>singleton  </td></tr>\n",
       "\t<tr><td>2) default </td><td>17.714     </td><td>singleton  </td></tr>\n",
       "\t<tr><td>3) mismatch</td><td>17.291     </td><td>singleton  </td></tr>\n",
       "</tbody>\n",
       "</table>\n"
      ],
      "text/latex": [
       "\\begin{tabular}{r|lll}\n",
       " method & size & scenario\\\\\n",
       "\\hline\n",
       "\t 1) oracle   &  9.782      & overall    \\\\\n",
       "\t 2) default  &  9.771      & overall    \\\\\n",
       "\t 3) mismatch & 11.613      & overall    \\\\\n",
       "\t 1) oracle   &  8.624      & shared     \\\\\n",
       "\t 2) default  &  8.679      & shared     \\\\\n",
       "\t 3) mismatch &  8.797      & shared     \\\\\n",
       "\t 1) oracle   & 18.366      & singleton  \\\\\n",
       "\t 2) default  & 17.714      & singleton  \\\\\n",
       "\t 3) mismatch & 17.291      & singleton  \\\\\n",
       "\\end{tabular}\n"
      ],
      "text/markdown": [
       "\n",
       "method | size | scenario | \n",
       "|---|---|---|---|---|---|---|---|---|\n",
       "| 1) oracle   |  9.782      | overall     | \n",
       "| 2) default  |  9.771      | overall     | \n",
       "| 3) mismatch | 11.613      | overall     | \n",
       "| 1) oracle   |  8.624      | shared      | \n",
       "| 2) default  |  8.679      | shared      | \n",
       "| 3) mismatch |  8.797      | shared      | \n",
       "| 1) oracle   | 18.366      | singleton   | \n",
       "| 2) default  | 17.714      | singleton   | \n",
       "| 3) mismatch | 17.291      | singleton   | \n",
       "\n",
       "\n"
      ],
      "text/plain": [
       "  method      size   scenario \n",
       "1 1) oracle    9.782 overall  \n",
       "2 2) default   9.771 overall  \n",
       "3 3) mismatch 11.613 overall  \n",
       "4 1) oracle    8.624 shared   \n",
       "5 2) default   8.679 shared   \n",
       "6 3) mismatch  8.797 shared   \n",
       "7 1) oracle   18.366 singleton\n",
       "8 2) default  17.714 singleton\n",
       "9 3) mismatch 17.291 singleton"
      ]
     },
     "metadata": {},
     "output_type": "display_data"
    }
   ],
   "source": [
    "size"
   ]
  },
  {
   "cell_type": "code",
   "execution_count": 40,
   "metadata": {
    "kernel": "R"
   },
   "outputs": [
    {
     "data": {
      "text/html": [
       "<table>\n",
       "<thead><tr><th scope=col>scenario</th><th scope=col>size</th></tr></thead>\n",
       "<tbody>\n",
       "\t<tr><td>1) oracle  </td><td> 9.782     </td></tr>\n",
       "\t<tr><td>2) default </td><td> 9.771     </td></tr>\n",
       "\t<tr><td>3) mismatch</td><td>11.613     </td></tr>\n",
       "</tbody>\n",
       "</table>\n"
      ],
      "text/latex": [
       "\\begin{tabular}{r|ll}\n",
       " scenario & size\\\\\n",
       "\\hline\n",
       "\t 1) oracle   &  9.782     \\\\\n",
       "\t 2) default  &  9.771     \\\\\n",
       "\t 3) mismatch & 11.613     \\\\\n",
       "\\end{tabular}\n"
      ],
      "text/markdown": [
       "\n",
       "scenario | size | \n",
       "|---|---|---|\n",
       "| 1) oracle   |  9.782      | \n",
       "| 2) default  |  9.771      | \n",
       "| 3) mismatch | 11.613      | \n",
       "\n",
       "\n"
      ],
      "text/plain": [
       "  scenario    size  \n",
       "1 1) oracle    9.782\n",
       "2 2) default   9.771\n",
       "3 3) mismatch 11.613"
      ]
     },
     "metadata": {},
     "output_type": "display_data"
    }
   ],
   "source": [
    "output$size"
   ]
  },
  {
   "cell_type": "code",
   "execution_count": 41,
   "metadata": {
    "kernel": "R"
   },
   "outputs": [
    {
     "data": {
      "text/html": [
       "<table>\n",
       "<thead><tr><th scope=col>scenario</th><th scope=col>size</th></tr></thead>\n",
       "<tbody>\n",
       "\t<tr><td>1) oracle  </td><td>18.366     </td></tr>\n",
       "\t<tr><td>2) default </td><td>17.714     </td></tr>\n",
       "\t<tr><td>3) mismatch</td><td>17.291     </td></tr>\n",
       "</tbody>\n",
       "</table>\n"
      ],
      "text/latex": [
       "\\begin{tabular}{r|ll}\n",
       " scenario & size\\\\\n",
       "\\hline\n",
       "\t 1) oracle   & 18.366     \\\\\n",
       "\t 2) default  & 17.714     \\\\\n",
       "\t 3) mismatch & 17.291     \\\\\n",
       "\\end{tabular}\n"
      ],
      "text/markdown": [
       "\n",
       "scenario | size | \n",
       "|---|---|---|\n",
       "| 1) oracle   | 18.366      | \n",
       "| 2) default  | 17.714      | \n",
       "| 3) mismatch | 17.291      | \n",
       "\n",
       "\n"
      ],
      "text/plain": [
       "  scenario    size  \n",
       "1 1) oracle   18.366\n",
       "2 2) default  17.714\n",
       "3 3) mismatch 17.291"
      ]
     },
     "metadata": {},
     "output_type": "display_data"
    }
   ],
   "source": [
    "output$size_singleton"
   ]
  },
  {
   "cell_type": "code",
   "execution_count": 42,
   "metadata": {
    "kernel": "R"
   },
   "outputs": [
    {
     "data": {
      "text/html": [
       "<table>\n",
       "<thead><tr><th scope=col>scenario</th><th scope=col>size</th></tr></thead>\n",
       "<tbody>\n",
       "\t<tr><td>1) oracle  </td><td>8.624      </td></tr>\n",
       "\t<tr><td>2) default </td><td>8.679      </td></tr>\n",
       "\t<tr><td>3) mismatch</td><td>8.797      </td></tr>\n",
       "</tbody>\n",
       "</table>\n"
      ],
      "text/latex": [
       "\\begin{tabular}{r|ll}\n",
       " scenario & size\\\\\n",
       "\\hline\n",
       "\t 1) oracle   & 8.624      \\\\\n",
       "\t 2) default  & 8.679      \\\\\n",
       "\t 3) mismatch & 8.797      \\\\\n",
       "\\end{tabular}\n"
      ],
      "text/markdown": [
       "\n",
       "scenario | size | \n",
       "|---|---|---|\n",
       "| 1) oracle   | 8.624       | \n",
       "| 2) default  | 8.679       | \n",
       "| 3) mismatch | 8.797       | \n",
       "\n",
       "\n"
      ],
      "text/plain": [
       "  scenario    size \n",
       "1 1) oracle   8.624\n",
       "2 2) default  8.679\n",
       "3 3) mismatch 8.797"
      ]
     },
     "metadata": {},
     "output_type": "display_data"
    }
   ],
   "source": [
    "output$size_het"
   ]
  },
  {
   "cell_type": "code",
   "execution_count": 43,
   "metadata": {
    "kernel": "SoS"
   },
   "outputs": [
    {
     "data": {
      "text/html": [
       "<div class=\"sos_hint\">> 1.pdf (4.6 KiB):</div>"
      ],
      "text/plain": [
       "\n",
       "> 1.pdf (4.6 KiB):"
      ]
     },
     "metadata": {},
     "output_type": "display_data"
    },
    {
     "data": {
      "image/png": "[encoded data removed]"
     },
     "metadata": {},
     "output_type": "display_data"
    }
   ],
   "source": [
    "%preview 1.pdf -s png --dpi 100"
   ]
  },
  {
   "cell_type": "markdown",
   "metadata": {
    "kernel": "SoS"
   },
   "source": [
    "## Purity"
   ]
  },
  {
   "cell_type": "code",
   "execution_count": 44,
   "metadata": {
    "kernel": "R"
   },
   "outputs": [],
   "source": [
    "purity = get_table(output, 'purity')"
   ]
  },
  {
   "cell_type": "code",
   "execution_count": 45,
   "metadata": {
    "kernel": "R"
   },
   "outputs": [
    {
     "data": {
      "text/html": [
       "<strong>png:</strong> 2"
      ],
      "text/latex": [
       "\\textbf{png:} 2"
      ],
      "text/markdown": [
       "**png:** 2"
      ],
      "text/plain": [
       "png \n",
       "  2 "
      ]
     },
     "metadata": {},
     "output_type": "display_data"
    }
   ],
   "source": [
    "pdf('2.pdf', width=W, height=H1)\n",
    "THE_COLOR=colors[2]\n",
    "dotplot(purity ~ method | scenario, data=purity,  \n",
    "        auto.key=list(columns=2), scale=list(alternating=1, x = list(draw = F)), \n",
    "        layout = c(3,1), angle = 45, panel=default_panel, ylim = c(0.8,1),\n",
    "        xlab=\"\", ylab = \"Minimum absolute correlation\")\n",
    "dev.off()"
   ]
  },
  {
   "cell_type": "code",
   "execution_count": 46,
   "metadata": {
    "kernel": "SoS"
   },
   "outputs": [
    {
     "data": {
      "text/html": [
       "<div class=\"sos_hint\">> 2.pdf (4.6 KiB):</div>"
      ],
      "text/plain": [
       "\n",
       "> 2.pdf (4.6 KiB):"
      ]
     },
     "metadata": {},
     "output_type": "display_data"
    },
    {
     "data": {
      "image/png": "[encoded data removed]"
     },
     "metadata": {},
     "output_type": "display_data"
    }
   ],
   "source": [
    "%preview 2.pdf -s png --dpi 100"
   ]
  },
  {
   "cell_type": "markdown",
   "metadata": {
    "kernel": "SoS"
   },
   "source": [
    "## Overall FDR of CS"
   ]
  },
  {
   "cell_type": "code",
   "execution_count": 47,
   "metadata": {
    "kernel": "R"
   },
   "outputs": [],
   "source": [
    "fdr = get_table(output, 'fdr')"
   ]
  },
  {
   "cell_type": "code",
   "execution_count": 48,
   "metadata": {
    "kernel": "R"
   },
   "outputs": [
    {
     "data": {
      "text/html": [
       "<strong>png:</strong> 2"
      ],
      "text/latex": [
       "\\textbf{png:} 2"
      ],
      "text/markdown": [
       "**png:** 2"
      ],
      "text/plain": [
       "png \n",
       "  2 "
      ]
     },
     "metadata": {},
     "output_type": "display_data"
    }
   ],
   "source": [
    "pdf('3.pdf', width=W, height=H1)\n",
    "THE_COLOR = colors[1]\n",
    "my_panel = function(x, y, subscripts, ...) {\n",
    "    panel.points(x, y, col=THE_COLOR, pch=16, cex=1.1)\n",
    "    panel.abline(h=0.05, col = \"#800000\", lty = 2)\n",
    "}\n",
    "dotplot(fdr ~ method | scenario, data=fdr,  \n",
    "        auto.key=list(columns=2), scales=list(alternating=1, x = list(draw = F)), \n",
    "        layout = c(3,1), angle = 45, panel = my_panel,\n",
    "        xlab=\"\", ylab = \"Cross-condition FDR\", ylim = c(0,0.5))\n",
    "dev.off()"
   ]
  },
  {
   "cell_type": "code",
   "execution_count": 49,
   "metadata": {
    "kernel": "SoS"
   },
   "outputs": [
    {
     "data": {
      "text/html": [
       "<div class=\"sos_hint\">> 3.pdf (4.6 KiB):</div>"
      ],
      "text/plain": [
       "\n",
       "> 3.pdf (4.6 KiB):"
      ]
     },
     "metadata": {},
     "output_type": "display_data"
    },
    {
     "data": {
      "image/png": "[encoded data removed]"
     },
     "metadata": {},
     "output_type": "display_data"
    }
   ],
   "source": [
    "%preview 3.pdf -s png --dpi 100"
   ]
  },
  {
   "cell_type": "markdown",
   "metadata": {
    "kernel": "SoS"
   },
   "source": [
    "## Overall power of CS"
   ]
  },
  {
   "cell_type": "code",
   "execution_count": 50,
   "metadata": {
    "kernel": "R"
   },
   "outputs": [
    {
     "data": {
      "text/html": [
       "<strong>png:</strong> 2"
      ],
      "text/latex": [
       "\\textbf{png:} 2"
      ],
      "text/markdown": [
       "**png:** 2"
      ],
      "text/plain": [
       "png \n",
       "  2 "
      ]
     },
     "metadata": {},
     "output_type": "display_data"
    }
   ],
   "source": [
    "power = get_table(output, 'power')\n",
    "pdf('4.pdf', width=W, height=H2)\n",
    "THE_COLOR = colors[4]\n",
    "dotplot(power ~ method | scenario, data=power,  \n",
    "        auto.key=list(columns=2), scales=list(alternating=1, x = list(rot = 45)),\n",
    "        layout = c(3,1), angle = 45, panel = default_panel,\n",
    "        xlab=\"Method\", ylab = \"Cross-condition power\", ylim = c(0.4,1))\n",
    "dev.off()"
   ]
  },
  {
   "cell_type": "code",
   "execution_count": 51,
   "metadata": {
    "kernel": "SoS"
   },
   "outputs": [
    {
     "data": {
      "text/html": [
       "<div class=\"sos_hint\">> 4.pdf (4.8 KiB):</div>"
      ],
      "text/plain": [
       "\n",
       "> 4.pdf (4.8 KiB):"
      ]
     },
     "metadata": {},
     "output_type": "display_data"
    },
    {
     "data": {
      "image/png": "[encoded data removed]"
     },
     "metadata": {},
     "output_type": "display_data"
    }
   ],
   "source": [
    "%preview 4.pdf -s png --dpi 100"
   ]
  },
  {
   "cell_type": "markdown",
   "metadata": {
    "kernel": "SoS"
   },
   "source": [
    "## Condition specific FDR of CS using lfsr filters"
   ]
  },
  {
   "cell_type": "code",
   "execution_count": 52,
   "metadata": {
    "kernel": "R"
   },
   "outputs": [
    {
     "data": {
      "text/html": [
       "<strong>png:</strong> 2"
      ],
      "text/latex": [
       "\\textbf{png:} 2"
      ],
      "text/markdown": [
       "**png:** 2"
      ],
      "text/plain": [
       "png \n",
       "  2 "
      ]
     },
     "metadata": {},
     "output_type": "display_data"
    }
   ],
   "source": [
    "fdr_cond = get_table(output, 'fdr_cond')\n",
    "pdf('5.pdf', width=W, height=H2)\n",
    "THE_COLOR = colors[5]\n",
    "dotplot(fdr_cond ~ method | scenario, data=fdr_cond,  \n",
    "        auto.key=list(columns=2), scales=list(alternating=1, x = list(rot = 45)),\n",
    "        layout = c(3,1), angle = 45, panel = my_panel, ylim = c(0,0.8),\n",
    "        xlab=\"Method\", ylab = \"Condition specific FDR (for lfsr<0.05)\")\n",
    "dev.off()"
   ]
  },
  {
   "cell_type": "code",
   "execution_count": 53,
   "metadata": {
    "kernel": "SoS"
   },
   "outputs": [
    {
     "data": {
      "text/html": [
       "<div class=\"sos_hint\">> 5.pdf (4.8 KiB):</div>"
      ],
      "text/plain": [
       "\n",
       "> 5.pdf (4.8 KiB):"
      ]
     },
     "metadata": {},
     "output_type": "display_data"
    },
    {
     "data": {
      "image/png": "[encoded data removed]"
     },
     "metadata": {},
     "output_type": "display_data"
    }
   ],
   "source": [
    "%preview 5.pdf -s png --dpi 100"
   ]
  },
  {
   "cell_type": "markdown",
   "metadata": {
    "kernel": "SoS"
   },
   "source": [
    "## Condition specific power for CS using lfsr filters"
   ]
  },
  {
   "cell_type": "code",
   "execution_count": 54,
   "metadata": {
    "kernel": "R"
   },
   "outputs": [
    {
     "data": {
      "text/html": [
       "<strong>png:</strong> 2"
      ],
      "text/latex": [
       "\\textbf{png:} 2"
      ],
      "text/markdown": [
       "**png:** 2"
      ],
      "text/plain": [
       "png \n",
       "  2 "
      ]
     },
     "metadata": {},
     "output_type": "display_data"
    }
   ],
   "source": [
    "power_cond = get_table(output, 'power_cond')\n",
    "pdf('6.pdf', width=W, height=H2)\n",
    "THE_COLOR = colors[8]\n",
    "dotplot(power_cond ~ method | scenario, data=power_cond,  \n",
    "        auto.key=list(columns=2), scales=list(alternating=1, x = list(rot = 45)),\n",
    "        layout = c(3,1), angle = 45, panel = default_panel, ylim = c(0.7,1),\n",
    "        xlab=\"Method\", ylab = \"Condition specific power (for lfsr<0.05)\")\n",
    "dev.off()"
   ]
  },
  {
   "cell_type": "code",
   "execution_count": 55,
   "metadata": {
    "kernel": "SoS"
   },
   "outputs": [
    {
     "data": {
      "text/html": [
       "<div class=\"sos_hint\">> 6.pdf (4.8 KiB):</div>"
      ],
      "text/plain": [
       "\n",
       "> 6.pdf (4.8 KiB):"
      ]
     },
     "metadata": {},
     "output_type": "display_data"
    },
    {
     "data": {
      "image/png": "[encoded data removed]"
     },
     "metadata": {},
     "output_type": "display_data"
    }
   ],
   "source": [
    "%preview 6.pdf -s png --dpi 100"
   ]
  },
  {
   "cell_type": "code",
   "execution_count": 56,
   "metadata": {
    "kernel": "Bash"
   },
   "outputs": [],
   "source": [
    "mkdir -p finemap_output\n",
    "convert -density 500 -quality 100 \\\n",
    "        \\( 1.pdf 2.pdf 3.pdf -density 500 -quality 100 +append \\) \\\n",
    "        \\( 4.pdf 5.pdf 6.pdf +append \\) \\\n",
    "        -append finemap_output/finemap_output_comparisons.png # add parameter -flatten to make it non-transparent"
   ]
  },
  {
   "cell_type": "code",
   "execution_count": 57,
   "metadata": {
    "kernel": "SoS"
   },
   "outputs": [
    {
     "data": {
      "text/html": [
       "<div class=\"sos_hint\">> finemap_output/finemap_output_comparisons.png (190.1 KiB):</div>"
      ],
      "text/plain": [
       "\n",
       "> finemap_output/finemap_output_comparisons.png (190.1 KiB):"
      ]
     },
     "metadata": {},
     "output_type": "display_data"
    },
    {
     "data": {
      "image/png": "[encoded data removed]"
     },
     "metadata": {
      "image/png": {
       "width": "50%"
      }
     },
     "output_type": "display_data"
    }
   ],
   "source": [
    "%preview finemap_output/finemap_output_comparisons.png --width 50%"
   ]
  }
 ],
 "metadata": {
  "kernelspec": {
   "display_name": "SoS",
   "language": "sos",
   "name": "sos"
  },
  "language_info": {
   "codemirror_mode": "sos",
   "file_extension": ".sos",
   "mimetype": "text/x-sos",
   "name": "sos",
   "nbconvert_exporter": "sos_notebook.converter.SoS_Exporter",
   "pygments_lexer": "sos"
  },
  "sos": {
   "kernels": [
    [
     "Bash",
     "bash",
     "Bash",
     "#E6EEFF"
    ],
    [
     "R",
     "ir",
     "R",
     "#DCDCDA"
    ],
    [
     "SoS",
     "sos",
     "",
     ""
    ]
   ],
   "panel": {
    "displayed": true,
    "height": 0
   },
   "version": "0.19.1"
  }
 },
 "nbformat": 4,
 "nbformat_minor": 2
}
