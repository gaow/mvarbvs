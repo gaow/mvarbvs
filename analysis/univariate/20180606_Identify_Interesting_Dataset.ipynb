{
 "cells": [
  {
   "cell_type": "markdown",
   "metadata": {
    "kernel": "SoS"
   },
   "source": [
    "# Identify and extract interesting data-set for vignettes"
   ]
  },
  {
   "cell_type": "code",
   "execution_count": 1,
   "metadata": {
    "kernel": "SoS"
   },
   "outputs": [
    {
     "data": {
      "text/html": [
       "\n",
       "        <table class=\"revision_table\">\n",
       "        <tr>\n",
       "        <th>Revision</th>\n",
       "        <th>Author</th>\n",
       "        <th>Date</th>\n",
       "        <th>Message</th>\n",
       "        <tr>\n",
       "        <tr><td><a target=\"_blank\" href=\"http://github.com/gaow/mvarbvs/blob/8f5b189ce63d1fccb2ddf544d79a93dae026ee56/analysis/20180606_Identify_Interesting_Dataset.ipynb\"><span class=\"revision_id\">8f5b189<span></a></td>\n",
       "<td>Gao Wang</td>\n",
       "<td>2018-07-10</td>\n",
       "<td>Update documentation</td></tr><tr><td><a target=\"_blank\" href=\"http://github.com/gaow/mvarbvs/blob/12fe3639ca1b2e6c50e20ef8a221f4f4de0a8cb9/analysis/20180606_Identify_Interesting_Dataset.ipynb\"><span class=\"revision_id\">12fe363<span></a></td>\n",
       "<td>Gao Wang</td>\n",
       "<td>2018-06-27</td>\n",
       "<td>Add finemap 95% config filter</td></tr><tr><td><a target=\"_blank\" href=\"http://github.com/gaow/mvarbvs/blob/d5574254873e939930b65994572c189e8ff5001b/analysis/20180606_Identify_Interesting_Dataset.ipynb\"><span class=\"revision_id\">d557425<span></a></td>\n",
       "<td>Gao Wang</td>\n",
       "<td>2018-06-27</td>\n",
       "<td>Update documentation</td></tr></table>"
      ]
     },
     "metadata": {},
     "output_type": "display_data"
    }
   ],
   "source": [
    "%revisions -s -n 10"
   ]
  },
  {
   "cell_type": "code",
   "execution_count": 3,
   "metadata": {
    "kernel": "SoS"
   },
   "outputs": [
    {
     "name": "stdout",
     "output_type": "stream",
     "text": [
      "/home/gaow/GIT/github/mvarbvs/dsc/susie_comparison/fit_susie"
     ]
    }
   ],
   "source": [
    "%cd ~/GIT/github/mvarbvs/dsc/susie_comparison/fit_susie"
   ]
  },
  {
   "cell_type": "code",
   "execution_count": null,
   "metadata": {
    "kernel": "SoS"
   },
   "outputs": [],
   "source": [
    "[global]\n",
    "cwd = path('~/GIT/github/mvarbvs/dsc')\n",
    "dirname = path(f'{cwd:a}/susie_comparison/')\n",
    "parameter: name = '20180710'"
   ]
  },
  {
   "cell_type": "markdown",
   "metadata": {
    "kernel": "SoS"
   },
   "source": [
    "## A non-trivial show case example for fine-mapping vignette\n",
    "Here I'd like to pick up ideally examples that has enough power for susie to detect 3 simulated signals, at non-trivial yet reasonable number of iterations, size of sets and purity levels, for illustrating how susie works. In other words this is meant to pick up good susie show cases, not edge cases."
   ]
  },
  {
   "cell_type": "code",
   "execution_count": null,
   "metadata": {
    "kernel": "SoS"
   },
   "outputs": [],
   "source": [
    "[A]\n",
    "num_causal = 3\n",
    "input: glob.glob(f'liter_data_*_summarize_ld_1_lm_less_{num_causal}_fit_susie_*.rds')[:200], group_by = 'single' \n",
    "R: expand = '${ }'\n",
    "  res = readRDS(${_input:r})\n",
    "  for (r in 1:2) {\n",
    "  \tcs = susieR::susie_get_CS(res$posterior$alpha[[r]])$cs[1:${num_causal}]\n",
    "  \tif (length(cs[[${num_causal}]]) < 20) {\n",
    "  \t\tprint(${_input:r})\n",
    "\t\tprint(r)\n",
    "  \t\tprint(res$posterior$niter[r])\n",
    "\t\tprint(cs)\n",
    "\t\tprint(\"========\")\n",
    "  \t}\n",
    "  }"
   ]
  },
  {
   "cell_type": "markdown",
   "metadata": {
    "kernel": "SoS"
   },
   "source": [
    "I ended up with `liter_data_65_summarize_ld_1_lm_less_3_fit_susie_7.rds` the first data-set, which seems interesting:\n",
    "\n",
    "```\n",
    "[[1]]\n",
    "[1] 773 777\n",
    "\n",
    "[[2]]\n",
    " [1] 360 361 362 365 368 372 373 374 379 381 383 384 386 387 388 389 391 392 396\n",
    "[20] 397 398 399 400 401 403 404 405 407 408 415\n",
    "\n",
    "[[3]]\n",
    "[1] 653\n",
    "```\n",
    "\n",
    "takes 6 iterations to complete."
   ]
  },
  {
   "cell_type": "code",
   "execution_count": 2,
   "metadata": {
    "kernel": "R"
   },
   "outputs": [
    {
     "data": {
      "text/html": [
       "<ol class=list-inline>\n",
       "\t<li>'posterior'</li>\n",
       "\t<li>'fitted'</li>\n",
       "\t<li>'DSC_DEBUG'</li>\n",
       "</ol>\n"
      ],
      "text/latex": [
       "\\begin{enumerate*}\n",
       "\\item 'posterior'\n",
       "\\item 'fitted'\n",
       "\\item 'DSC\\_DEBUG'\n",
       "\\end{enumerate*}\n"
      ],
      "text/markdown": [
       "1. 'posterior'\n",
       "2. 'fitted'\n",
       "3. 'DSC_DEBUG'\n",
       "\n",
       "\n"
      ],
      "text/plain": [
       "[1] \"posterior\" \"fitted\"    \"DSC_DEBUG\""
      ]
     },
     "metadata": {},
     "output_type": "display_data"
    }
   ],
   "source": [
    "dat = readRDS('liter_data_65_summarize_ld_1_lm_less_3_fit_susie_7.rds')\n",
    "names(dat)"
   ]
  },
  {
   "cell_type": "markdown",
   "metadata": {
    "kernel": "R"
   },
   "source": [
    "From `dat$DSC_DEBUG$script` I load the dataset of interest:"
   ]
  },
  {
   "cell_type": "code",
   "execution_count": 3,
   "metadata": {
    "kernel": "R"
   },
   "outputs": [],
   "source": [
    "input <- dscrutils::load_inputs(c('../lm_less/liter_data_65_summarize_ld_1_lm_less_3.pkl'), dscrutils::read_dsc)"
   ]
  },
  {
   "cell_type": "code",
   "execution_count": 4,
   "metadata": {
    "kernel": "R"
   },
   "outputs": [
    {
     "data": {
      "text/html": [
       "<ol class=list-inline>\n",
       "\t<li>'data'</li>\n",
       "\t<li>'V'</li>\n",
       "\t<li>'N'</li>\n",
       "\t<li>'DSC_DEBUG'</li>\n",
       "</ol>\n"
      ],
      "text/latex": [
       "\\begin{enumerate*}\n",
       "\\item 'data'\n",
       "\\item 'V'\n",
       "\\item 'N'\n",
       "\\item 'DSC\\_DEBUG'\n",
       "\\end{enumerate*}\n"
      ],
      "text/markdown": [
       "1. 'data'\n",
       "2. 'V'\n",
       "3. 'N'\n",
       "4. 'DSC_DEBUG'\n",
       "\n",
       "\n"
      ],
      "text/plain": [
       "[1] \"data\"      \"V\"         \"N\"         \"DSC_DEBUG\""
      ]
     },
     "metadata": {},
     "output_type": "display_data"
    }
   ],
   "source": [
    "names(input)"
   ]
  },
  {
   "cell_type": "markdown",
   "metadata": {
    "kernel": "SoS"
   },
   "source": [
    "Now I compute summary stats and save it."
   ]
  },
  {
   "cell_type": "code",
   "execution_count": 5,
   "metadata": {
    "kernel": "R"
   },
   "outputs": [],
   "source": [
    "library(abind)\n",
    "mm_regression = function(X, Y, Z=NULL) {\n",
    "  if (!is.null(Z)) {\n",
    "      Z = as.matrix(Z)\n",
    "  }\n",
    "  reg = lapply(seq_len(ncol(Y)), function (i) simplify2array(susieR:::univariate_regression(X, Y[,i], Z)))\n",
    "  reg = do.call(abind, c(reg, list(along=0)))\n",
    "  # return array: out[1,,] is betahat, out[2,,] is shat\n",
    "  return(aperm(reg, c(3,2,1)))\n",
    "}\n",
    "sumstats = mm_regression(as.matrix(input$data$X), as.matrix(input$data$Y))"
   ]
  },
  {
   "cell_type": "markdown",
   "metadata": {
    "kernel": "SoS"
   },
   "source": [
    "Since the data is private I may have to remove column and row names from data matrices:"
   ]
  },
  {
   "cell_type": "code",
   "execution_count": 13,
   "metadata": {
    "kernel": "R"
   },
   "outputs": [
    {
     "data": {
      "text/html": [
       "<ol class=list-inline>\n",
       "\t<li>'X'</li>\n",
       "\t<li>'chrom'</li>\n",
       "\t<li>'pos'</li>\n",
       "\t<li>'true_coef'</li>\n",
       "\t<li>'residual_variance'</li>\n",
       "\t<li>'Y'</li>\n",
       "\t<li>'allele_freq'</li>\n",
       "\t<li>'V'</li>\n",
       "</ol>\n"
      ],
      "text/latex": [
       "\\begin{enumerate*}\n",
       "\\item 'X'\n",
       "\\item 'chrom'\n",
       "\\item 'pos'\n",
       "\\item 'true\\_coef'\n",
       "\\item 'residual\\_variance'\n",
       "\\item 'Y'\n",
       "\\item 'allele\\_freq'\n",
       "\\item 'V'\n",
       "\\end{enumerate*}\n"
      ],
      "text/markdown": [
       "1. 'X'\n",
       "2. 'chrom'\n",
       "3. 'pos'\n",
       "4. 'true_coef'\n",
       "5. 'residual_variance'\n",
       "6. 'Y'\n",
       "7. 'allele_freq'\n",
       "8. 'V'\n",
       "\n",
       "\n"
      ],
      "text/plain": [
       "[1] \"X\"                 \"chrom\"             \"pos\"              \n",
       "[4] \"true_coef\"         \"residual_variance\" \"Y\"                \n",
       "[7] \"allele_freq\"       \"V\"                "
      ]
     },
     "metadata": {},
     "output_type": "display_data"
    }
   ],
   "source": [
    "names(input$data)"
   ]
  },
  {
   "cell_type": "markdown",
   "metadata": {
    "kernel": "SoS"
   },
   "source": [
    "Okay after checking the data details there is nothing confidential to hide. We should be good."
   ]
  },
  {
   "cell_type": "code",
   "execution_count": 11,
   "metadata": {
    "kernel": "R"
   },
   "outputs": [],
   "source": [
    "saveRDS(list(data=input$data, sumstats = sumstats), '~/GIT/software/susieR/inst/data/N3finemapping.rds')"
   ]
  },
  {
   "cell_type": "markdown",
   "metadata": {
    "kernel": "SoS"
   },
   "source": [
    "## A reasonably \"difficult\" case\n",
    "\n",
    "We hope to see and show that SuSiE can deal with this reasonably difficult case where in the 2 CS setting the top z-score is result of contribution from both CS -- that is, a SNP is in weak LD between both of 2 CS, thus showing strongest z-score in univariate analysis but weak PIP and not in any CS. Need information on:\n",
    "\n",
    "- top z-score (summary stats)\n",
    "- true effect 0 or 1\n",
    "- CS and PIP\n",
    "- CS best is 2; true effect in CS but z-score not in CS"
   ]
  },
  {
   "cell_type": "code",
   "execution_count": 3,
   "metadata": {
    "kernel": "SoS"
   },
   "outputs": [
    {
     "name": "stdout",
     "output_type": "stream",
     "text": [
      "Workflow can only be executed with magic %run or %sosrun."
     ]
    }
   ],
   "source": [
    "[B_1]\n",
    "target_susie = \"liter_data.dataset lm_less.pve lm_less.n_signal fit_susie.estimate_residual_variance fit_susie.prior_var fit_susie\"\n",
    "target_sumstats = \"liter_data.dataset lm_less.pve lm_less.n_signal get_sumstats lm_less\"\n",
    "output: f'{dirname}/tutorial_{name}/result.RDS'\n",
    "R: expand = '${ }'\n",
    "    susie_out = dscrutils::dscquery(${dirname:r}, target = \"${target_susie}\", load.pkl = TRUE)\n",
    "    sumstats_out = dscrutils::dscquery(${dirname:r}, target = \"${target_sumstats}\", load.pkl = FALSE)\n",
    "    saveRDS(list(susie_out=susie_out, sumstats_out=sumstats_out), ${_output:r})"
   ]
  },
  {
   "cell_type": "code",
   "execution_count": null,
   "metadata": {
    "kernel": "SoS"
   },
   "outputs": [],
   "source": [
    "[B_2]\n",
    "pve = [0.2]\n",
    "n = [2,3]\n",
    "est_res = ['TRUE']\n",
    "prior = [0.2] # 0.2 / (1-0.2)\n",
    "combos = len(pve) * len(n) * len(est_res) * len(prior)\n",
    "input: for_each = ['pve', 'n', 'est_res', 'prior'], concurrent = True\n",
    "output: dynamic(glob.glob(f'{_input:d}/*.rds'))\n",
    "R: expand = '${ }'\n",
    "    options(width=999)\n",
    "    out = readRDS(${_input:r})\n",
    "    susie_out = out$susie_out\n",
    "    sumstats_out = out$sumstats_out\n",
    "    # favorit susie flavor\n",
    "    susie_out = susie_out[which(susie_out$fit_susie.prior_var == ${_prior} & susie_out$fit_susie.estimate_residual_variance == ${_est_res} & susie_out$lm_less.n_signal == ${_n} & susie_out$lm_less.pve == ${_pve}), ]\n",
    "    sumstats_out = sumstats_out[which(sumstats_out$lm_less.n_signal == ${_n} & sumstats_out$lm_less.pve == ${_pve}), ]\n",
    "    data_sets = unique(susie_out$liter_data.dataset)\n",
    "    counter = 0\n",
    "    for (d in data_sets) {\n",
    "        susie_files = susie_out[susie_out$liter_data.dataset == d, c(\"fit_susie.output.file\"), drop=F]\n",
    "        fit = readRDS(paste0(${dirname:r}, '/', susie_files[1,1], '.rds'))$posterior\n",
    "        sumstats_files = sumstats_out[sumstats_out$liter_data.dataset == d, c(\"get_sumstats.output.file\", \"lm_less.output.file\")]\n",
    "        z_score = readRDS(paste0(${dirname:r}, '/', sumstats_files[1,1], '.rds'))$sumstats\n",
    "        z_score = z_score[1,,]/z_score[2,,]\n",
    "        dat = readRDS(paste0(${dirname:r}, '/', sumstats_files[1,2], '.rds'))$data\n",
    "        truth = dat$true_coef\n",
    "        X = dat$X\n",
    "  \n",
    "        for (r in c(1,2)) {\n",
    "            z = z_score[,r]\n",
    "            signals = which(truth[,r]!=0)\n",
    "            sets = susieR::susie_get_CS(fit$alpha[[r]], X=X)\n",
    "            pip = susieR::susie_get_PIP(fit$alpha[[r]], sets$cs_index)\n",
    "            cs = lapply(1:length(sets$cs), function(i) min(sets$cs[[i]]):max(sets$cs[[i]]))\n",
    "            top_z = which.max(abs(z))\n",
    "            if (! (top_z %in% unlist(cs)) && any(signals %in% unlist(sets$cs)) && pip[top_z] < 0.1 && length(sets$cs) == ${_n}) {\n",
    "              counter = counter + 1\n",
    "              print(c('=====', counter, '======='))\n",
    "              print(top_z)\n",
    "              print(sets)\n",
    "              print(signals)\n",
    "              print(fit$niter[[r]])\n",
    "              print(r)\n",
    "              saveRDS(dat, paste0(${_input:dr}, '/', counter, '_', r, '.rds'))\n",
    "            }\n",
    "        }\n",
    "    }"
   ]
  },
  {
   "cell_type": "code",
   "execution_count": 1,
   "metadata": {
    "kernel": "SoS"
   },
   "outputs": [
    {
     "name": "stdout",
     "output_type": "stream",
     "text": [
      "/home/gaow/GIT/github/mvarbvs/dsc/susie_comparison/tutorial_20180710"
     ]
    }
   ],
   "source": [
    "%cd /home/gaow/GIT/github/mvarbvs/dsc/susie_comparison/tutorial_20180710"
   ]
  },
  {
   "cell_type": "code",
   "execution_count": 35,
   "metadata": {
    "kernel": "Bash"
   },
   "outputs": [
    {
     "name": "stdout",
     "output_type": "stream",
     "text": [
      "1_2.rds  2_1.rds  3_2.rds\n"
     ]
    }
   ],
   "source": [
    "!ls *.rds "
   ]
  },
  {
   "cell_type": "markdown",
   "metadata": {
    "kernel": "Bash"
   },
   "source": [
    "I think this case below looks good. I'll make a separate notebook for it to demonstrate."
   ]
  },
  {
   "cell_type": "code",
   "execution_count": 36,
   "metadata": {
    "kernel": "R"
   },
   "outputs": [],
   "source": [
    "dat = readRDS('2_1.rds')\n",
    "r = 1\n",
    "#names(dat)"
   ]
  },
  {
   "cell_type": "code",
   "execution_count": null,
   "metadata": {
    "kernel": "R"
   },
   "outputs": [],
   "source": [
    "pve = 0.2 # we know from simulation parameters though not saved to this data object ...\n",
    "library(susieR)\n",
    "set.seed(1)\n",
    "b = dat$true_coef[,r]\n",
    "b[which(b!=0)] = 1\n",
    "z_score = susieR:::calc_z(dat$X, dat$Y[,r])\n",
    "susie_pplot(z_score, dtype='z', b=b)\n",
    "fitted = susie(dat$X, dat$Y[,r], L=5,\n",
    "               estimate_residual_variance=TRUE, \n",
    "               prior_variance=pve/(1-pve),\n",
    "               tol=1e-3, track_fit=TRUE)\n",
    "sets = susie_get_CS(fitted,\n",
    "            coverage = 0.95,\n",
    "            X = dat$X, \n",
    "            min_abs_corr = 0.4)\n",
    "pip = susie_get_PIP(fitted, sets$cs_index)\n",
    "susie_pplot(pip, fitted = fitted, CS = sets, max_cs = 0.4, dtype='PIP',b=b)"
   ]
  }
 ],
 "metadata": {
  "kernelspec": {
   "display_name": "SoS",
   "language": "sos",
   "name": "sos"
  },
  "language_info": {
   "codemirror_mode": "sos",
   "file_extension": ".sos",
   "mimetype": "text/x-sos",
   "name": "sos",
   "nbconvert_exporter": "sos_notebook.converter.SoS_Exporter",
   "pygments_lexer": "sos"
  },
  "sos": {
   "default_kernel": "SoS",
   "kernels": [
    [
     "Bash",
     "bash",
     "Bash",
     "#E6EEFF"
    ],
    [
     "R",
     "ir",
     "R",
     "#DCDCDA"
    ],
    [
     "SoS",
     "sos",
     "",
     ""
    ]
   ]
  }
 },
 "nbformat": 4,
 "nbformat_minor": 2
}
