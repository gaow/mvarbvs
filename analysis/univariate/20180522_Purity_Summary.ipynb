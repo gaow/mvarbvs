{
 "cells": [
  {
   "cell_type": "markdown",
   "metadata": {
    "kernel": "SoS"
   },
   "source": [
    "# Purity result summary\n",
    "\n",
    "Result of this notebook has been [uploaded here](http://shiny.stephenslab.uchicago.edu/gaow/purity_html_20180516/)."
   ]
  },
  {
   "cell_type": "code",
   "execution_count": 1,
   "metadata": {
    "kernel": "SoS"
   },
   "outputs": [
    {
     "name": "stdout",
     "output_type": "stream",
     "text": [
      "/home/gaow/GIT/github/mvarbvs/dsc"
     ]
    }
   ],
   "source": [
    "%cd ~/GIT/github/mvarbvs/dsc"
   ]
  },
  {
   "cell_type": "code",
   "execution_count": 2,
   "metadata": {
    "kernel": "R"
   },
   "outputs": [
    {
     "name": "stdout",
     "output_type": "stream",
     "text": [
      "Loading dsc-query output from CSV file.\n"
     ]
    }
   ],
   "source": [
    "plots = dscrutils::dscquery('benchmark', \n",
    "                    target = \"liter_data.dataset simple_lm.pve simple_lm.n_signal simple_lm fit_susie.estimate_residual_variance fit_susie.prior_var plot_sse plot_susie\")"
   ]
  },
  {
   "cell_type": "code",
   "execution_count": 4,
   "metadata": {
    "kernel": "R"
   },
   "outputs": [
    {
     "data": {
      "text/html": [
       "<table>\n",
       "<thead><tr><th scope=col>DSC</th><th scope=col>liter_data.dataset</th><th scope=col>simple_lm.n_signal</th><th scope=col>simple_lm.output.file</th><th scope=col>simple_lm.pve</th><th scope=col>fit_susie.estimate_residual_variance</th><th scope=col>fit_susie.prior_var</th><th scope=col>plot_sse.output.file</th><th scope=col>plot_susie.output.file</th></tr></thead>\n",
       "<tbody>\n",
       "\t<tr><td>1                                                                          </td><td>~/Documents/GTExV8/Thyroid.Lung.FMO2.filled.rds                            </td><td>1                                                                          </td><td>simple_lm/liter_data_1_summarize_ld_1_simple_lm_1                          </td><td>0.05                                                                       </td><td>FALSE                                                                      </td><td>0.05                                                                       </td><td>plot_sse/liter_data_1_summarize_ld_1_simple_lm_1_fit_susie_1_plot_sse_1    </td><td>plot_susie/liter_data_1_summarize_ld_1_simple_lm_1_fit_susie_1_plot_susie_1</td></tr>\n",
       "\t<tr><td>1                                                                          </td><td>~/Documents/GTExV8/Thyroid.Lung.FMO2.filled.rds                            </td><td>1                                                                          </td><td>simple_lm/liter_data_1_summarize_ld_1_simple_lm_1                          </td><td>0.05                                                                       </td><td>FALSE                                                                      </td><td>0.10                                                                       </td><td>plot_sse/liter_data_1_summarize_ld_1_simple_lm_1_fit_susie_3_plot_sse_1    </td><td>plot_susie/liter_data_1_summarize_ld_1_simple_lm_1_fit_susie_3_plot_susie_1</td></tr>\n",
       "\t<tr><td>1                                                                          </td><td>~/Documents/GTExV8/Thyroid.Lung.FMO2.filled.rds                            </td><td>1                                                                          </td><td>simple_lm/liter_data_1_summarize_ld_1_simple_lm_1                          </td><td>0.05                                                                       </td><td>FALSE                                                                      </td><td>0.20                                                                       </td><td>plot_sse/liter_data_1_summarize_ld_1_simple_lm_1_fit_susie_5_plot_sse_1    </td><td>plot_susie/liter_data_1_summarize_ld_1_simple_lm_1_fit_susie_5_plot_susie_1</td></tr>\n",
       "\t<tr><td>1                                                                          </td><td>~/Documents/GTExV8/Thyroid.Lung.FMO2.filled.rds                            </td><td>1                                                                          </td><td>simple_lm/liter_data_1_summarize_ld_1_simple_lm_1                          </td><td>0.05                                                                       </td><td>FALSE                                                                      </td><td>0.40                                                                       </td><td>plot_sse/liter_data_1_summarize_ld_1_simple_lm_1_fit_susie_7_plot_sse_1    </td><td>plot_susie/liter_data_1_summarize_ld_1_simple_lm_1_fit_susie_7_plot_susie_1</td></tr>\n",
       "\t<tr><td>1                                                                          </td><td>~/Documents/GTExV8/Thyroid.Lung.FMO2.filled.rds                            </td><td>1                                                                          </td><td>simple_lm/liter_data_1_summarize_ld_1_simple_lm_1                          </td><td>0.05                                                                       </td><td> TRUE                                                                      </td><td>0.05                                                                       </td><td>plot_sse/liter_data_1_summarize_ld_1_simple_lm_1_fit_susie_2_plot_sse_1    </td><td>plot_susie/liter_data_1_summarize_ld_1_simple_lm_1_fit_susie_2_plot_susie_1</td></tr>\n",
       "\t<tr><td>1                                                                          </td><td>~/Documents/GTExV8/Thyroid.Lung.FMO2.filled.rds                            </td><td>1                                                                          </td><td>simple_lm/liter_data_1_summarize_ld_1_simple_lm_1                          </td><td>0.05                                                                       </td><td> TRUE                                                                      </td><td>0.10                                                                       </td><td>plot_sse/liter_data_1_summarize_ld_1_simple_lm_1_fit_susie_4_plot_sse_1    </td><td>plot_susie/liter_data_1_summarize_ld_1_simple_lm_1_fit_susie_4_plot_susie_1</td></tr>\n",
       "</tbody>\n",
       "</table>\n"
      ],
      "text/latex": [
       "\\begin{tabular}{r|lllllllll}\n",
       " DSC & liter\\_data.dataset & simple\\_lm.n\\_signal & simple\\_lm.output.file & simple\\_lm.pve & fit\\_susie.estimate\\_residual\\_variance & fit\\_susie.prior\\_var & plot\\_sse.output.file & plot\\_susie.output.file\\\\\n",
       "\\hline\n",
       "\t 1                                                                                                         & \\textasciitilde{}/Documents/GTExV8/Thyroid.Lung.FMO2.filled.rds                                          & 1                                                                                                         & simple\\_lm/liter\\_data\\_1\\_summarize\\_ld\\_1\\_simple\\_lm\\_1                                       & 0.05                                                                                                      & FALSE                                                                                                     & 0.05                                                                                                      & plot\\_sse/liter\\_data\\_1\\_summarize\\_ld\\_1\\_simple\\_lm\\_1\\_fit\\_susie\\_1\\_plot\\_sse\\_1     & plot\\_susie/liter\\_data\\_1\\_summarize\\_ld\\_1\\_simple\\_lm\\_1\\_fit\\_susie\\_1\\_plot\\_susie\\_1\\\\\n",
       "\t 1                                                                                                         & \\textasciitilde{}/Documents/GTExV8/Thyroid.Lung.FMO2.filled.rds                                          & 1                                                                                                         & simple\\_lm/liter\\_data\\_1\\_summarize\\_ld\\_1\\_simple\\_lm\\_1                                       & 0.05                                                                                                      & FALSE                                                                                                     & 0.10                                                                                                      & plot\\_sse/liter\\_data\\_1\\_summarize\\_ld\\_1\\_simple\\_lm\\_1\\_fit\\_susie\\_3\\_plot\\_sse\\_1     & plot\\_susie/liter\\_data\\_1\\_summarize\\_ld\\_1\\_simple\\_lm\\_1\\_fit\\_susie\\_3\\_plot\\_susie\\_1\\\\\n",
       "\t 1                                                                                                         & \\textasciitilde{}/Documents/GTExV8/Thyroid.Lung.FMO2.filled.rds                                          & 1                                                                                                         & simple\\_lm/liter\\_data\\_1\\_summarize\\_ld\\_1\\_simple\\_lm\\_1                                       & 0.05                                                                                                      & FALSE                                                                                                     & 0.20                                                                                                      & plot\\_sse/liter\\_data\\_1\\_summarize\\_ld\\_1\\_simple\\_lm\\_1\\_fit\\_susie\\_5\\_plot\\_sse\\_1     & plot\\_susie/liter\\_data\\_1\\_summarize\\_ld\\_1\\_simple\\_lm\\_1\\_fit\\_susie\\_5\\_plot\\_susie\\_1\\\\\n",
       "\t 1                                                                                                         & \\textasciitilde{}/Documents/GTExV8/Thyroid.Lung.FMO2.filled.rds                                          & 1                                                                                                         & simple\\_lm/liter\\_data\\_1\\_summarize\\_ld\\_1\\_simple\\_lm\\_1                                       & 0.05                                                                                                      & FALSE                                                                                                     & 0.40                                                                                                      & plot\\_sse/liter\\_data\\_1\\_summarize\\_ld\\_1\\_simple\\_lm\\_1\\_fit\\_susie\\_7\\_plot\\_sse\\_1     & plot\\_susie/liter\\_data\\_1\\_summarize\\_ld\\_1\\_simple\\_lm\\_1\\_fit\\_susie\\_7\\_plot\\_susie\\_1\\\\\n",
       "\t 1                                                                                                         & \\textasciitilde{}/Documents/GTExV8/Thyroid.Lung.FMO2.filled.rds                                          & 1                                                                                                         & simple\\_lm/liter\\_data\\_1\\_summarize\\_ld\\_1\\_simple\\_lm\\_1                                       & 0.05                                                                                                      &  TRUE                                                                                                     & 0.05                                                                                                      & plot\\_sse/liter\\_data\\_1\\_summarize\\_ld\\_1\\_simple\\_lm\\_1\\_fit\\_susie\\_2\\_plot\\_sse\\_1     & plot\\_susie/liter\\_data\\_1\\_summarize\\_ld\\_1\\_simple\\_lm\\_1\\_fit\\_susie\\_2\\_plot\\_susie\\_1\\\\\n",
       "\t 1                                                                                                         & \\textasciitilde{}/Documents/GTExV8/Thyroid.Lung.FMO2.filled.rds                                          & 1                                                                                                         & simple\\_lm/liter\\_data\\_1\\_summarize\\_ld\\_1\\_simple\\_lm\\_1                                       & 0.05                                                                                                      &  TRUE                                                                                                     & 0.10                                                                                                      & plot\\_sse/liter\\_data\\_1\\_summarize\\_ld\\_1\\_simple\\_lm\\_1\\_fit\\_susie\\_4\\_plot\\_sse\\_1     & plot\\_susie/liter\\_data\\_1\\_summarize\\_ld\\_1\\_simple\\_lm\\_1\\_fit\\_susie\\_4\\_plot\\_susie\\_1\\\\\n",
       "\\end{tabular}\n"
      ],
      "text/markdown": [
       "\n",
       "DSC | liter_data.dataset | simple_lm.n_signal | simple_lm.output.file | simple_lm.pve | fit_susie.estimate_residual_variance | fit_susie.prior_var | plot_sse.output.file | plot_susie.output.file | \n",
       "|---|---|---|---|---|---|\n",
       "| 1                                                                           | ~/Documents/GTExV8/Thyroid.Lung.FMO2.filled.rds                             | 1                                                                           | simple_lm/liter_data_1_summarize_ld_1_simple_lm_1                           | 0.05                                                                        | FALSE                                                                       | 0.05                                                                        | plot_sse/liter_data_1_summarize_ld_1_simple_lm_1_fit_susie_1_plot_sse_1     | plot_susie/liter_data_1_summarize_ld_1_simple_lm_1_fit_susie_1_plot_susie_1 | \n",
       "| 1                                                                           | ~/Documents/GTExV8/Thyroid.Lung.FMO2.filled.rds                             | 1                                                                           | simple_lm/liter_data_1_summarize_ld_1_simple_lm_1                           | 0.05                                                                        | FALSE                                                                       | 0.10                                                                        | plot_sse/liter_data_1_summarize_ld_1_simple_lm_1_fit_susie_3_plot_sse_1     | plot_susie/liter_data_1_summarize_ld_1_simple_lm_1_fit_susie_3_plot_susie_1 | \n",
       "| 1                                                                           | ~/Documents/GTExV8/Thyroid.Lung.FMO2.filled.rds                             | 1                                                                           | simple_lm/liter_data_1_summarize_ld_1_simple_lm_1                           | 0.05                                                                        | FALSE                                                                       | 0.20                                                                        | plot_sse/liter_data_1_summarize_ld_1_simple_lm_1_fit_susie_5_plot_sse_1     | plot_susie/liter_data_1_summarize_ld_1_simple_lm_1_fit_susie_5_plot_susie_1 | \n",
       "| 1                                                                           | ~/Documents/GTExV8/Thyroid.Lung.FMO2.filled.rds                             | 1                                                                           | simple_lm/liter_data_1_summarize_ld_1_simple_lm_1                           | 0.05                                                                        | FALSE                                                                       | 0.40                                                                        | plot_sse/liter_data_1_summarize_ld_1_simple_lm_1_fit_susie_7_plot_sse_1     | plot_susie/liter_data_1_summarize_ld_1_simple_lm_1_fit_susie_7_plot_susie_1 | \n",
       "| 1                                                                           | ~/Documents/GTExV8/Thyroid.Lung.FMO2.filled.rds                             | 1                                                                           | simple_lm/liter_data_1_summarize_ld_1_simple_lm_1                           | 0.05                                                                        |  TRUE                                                                       | 0.05                                                                        | plot_sse/liter_data_1_summarize_ld_1_simple_lm_1_fit_susie_2_plot_sse_1     | plot_susie/liter_data_1_summarize_ld_1_simple_lm_1_fit_susie_2_plot_susie_1 | \n",
       "| 1                                                                           | ~/Documents/GTExV8/Thyroid.Lung.FMO2.filled.rds                             | 1                                                                           | simple_lm/liter_data_1_summarize_ld_1_simple_lm_1                           | 0.05                                                                        |  TRUE                                                                       | 0.10                                                                        | plot_sse/liter_data_1_summarize_ld_1_simple_lm_1_fit_susie_4_plot_sse_1     | plot_susie/liter_data_1_summarize_ld_1_simple_lm_1_fit_susie_4_plot_susie_1 | \n",
       "\n",
       "\n"
      ],
      "text/plain": [
       "  DSC liter_data.dataset                              simple_lm.n_signal\n",
       "1 1   ~/Documents/GTExV8/Thyroid.Lung.FMO2.filled.rds 1                 \n",
       "2 1   ~/Documents/GTExV8/Thyroid.Lung.FMO2.filled.rds 1                 \n",
       "3 1   ~/Documents/GTExV8/Thyroid.Lung.FMO2.filled.rds 1                 \n",
       "4 1   ~/Documents/GTExV8/Thyroid.Lung.FMO2.filled.rds 1                 \n",
       "5 1   ~/Documents/GTExV8/Thyroid.Lung.FMO2.filled.rds 1                 \n",
       "6 1   ~/Documents/GTExV8/Thyroid.Lung.FMO2.filled.rds 1                 \n",
       "  simple_lm.output.file                             simple_lm.pve\n",
       "1 simple_lm/liter_data_1_summarize_ld_1_simple_lm_1 0.05         \n",
       "2 simple_lm/liter_data_1_summarize_ld_1_simple_lm_1 0.05         \n",
       "3 simple_lm/liter_data_1_summarize_ld_1_simple_lm_1 0.05         \n",
       "4 simple_lm/liter_data_1_summarize_ld_1_simple_lm_1 0.05         \n",
       "5 simple_lm/liter_data_1_summarize_ld_1_simple_lm_1 0.05         \n",
       "6 simple_lm/liter_data_1_summarize_ld_1_simple_lm_1 0.05         \n",
       "  fit_susie.estimate_residual_variance fit_susie.prior_var\n",
       "1 FALSE                                0.05               \n",
       "2 FALSE                                0.10               \n",
       "3 FALSE                                0.20               \n",
       "4 FALSE                                0.40               \n",
       "5  TRUE                                0.05               \n",
       "6  TRUE                                0.10               \n",
       "  plot_sse.output.file                                                   \n",
       "1 plot_sse/liter_data_1_summarize_ld_1_simple_lm_1_fit_susie_1_plot_sse_1\n",
       "2 plot_sse/liter_data_1_summarize_ld_1_simple_lm_1_fit_susie_3_plot_sse_1\n",
       "3 plot_sse/liter_data_1_summarize_ld_1_simple_lm_1_fit_susie_5_plot_sse_1\n",
       "4 plot_sse/liter_data_1_summarize_ld_1_simple_lm_1_fit_susie_7_plot_sse_1\n",
       "5 plot_sse/liter_data_1_summarize_ld_1_simple_lm_1_fit_susie_2_plot_sse_1\n",
       "6 plot_sse/liter_data_1_summarize_ld_1_simple_lm_1_fit_susie_4_plot_sse_1\n",
       "  plot_susie.output.file                                                     \n",
       "1 plot_susie/liter_data_1_summarize_ld_1_simple_lm_1_fit_susie_1_plot_susie_1\n",
       "2 plot_susie/liter_data_1_summarize_ld_1_simple_lm_1_fit_susie_3_plot_susie_1\n",
       "3 plot_susie/liter_data_1_summarize_ld_1_simple_lm_1_fit_susie_5_plot_susie_1\n",
       "4 plot_susie/liter_data_1_summarize_ld_1_simple_lm_1_fit_susie_7_plot_susie_1\n",
       "5 plot_susie/liter_data_1_summarize_ld_1_simple_lm_1_fit_susie_2_plot_susie_1\n",
       "6 plot_susie/liter_data_1_summarize_ld_1_simple_lm_1_fit_susie_4_plot_susie_1"
      ]
     },
     "metadata": {},
     "output_type": "display_data"
    }
   ],
   "source": [
    "head(plots)"
   ]
  },
  {
   "cell_type": "code",
   "execution_count": 10,
   "metadata": {
    "kernel": "Python3"
   },
   "outputs": [],
   "source": [
    "%get plots --from R"
   ]
  },
  {
   "cell_type": "code",
   "execution_count": 7,
   "metadata": {
    "kernel": "Python3"
   },
   "outputs": [
    {
     "data": {
      "text/plain": [
       "Index(['DSC', 'liter_data.dataset', 'simple_lm.n_signal',\n",
       "       'simple_lm.output.file', 'simple_lm.pve',\n",
       "       'fit_susie.estimate_residual_variance', 'fit_susie.prior_var',\n",
       "       'plot_sse.output.file', 'plot_susie.output.file'],\n",
       "      dtype='object')"
      ]
     },
     "execution_count": 7,
     "metadata": {},
     "output_type": "execute_result"
    }
   ],
   "source": [
    "plots.columns"
   ]
  },
  {
   "cell_type": "code",
   "execution_count": 14,
   "metadata": {
    "kernel": "Python3"
   },
   "outputs": [],
   "source": [
    "plots['simple_lm.output.file'] = plots['simple_lm.output.file'].astype(str) + '.cache.sim.1.png'\n",
    "plots['plot_sse.output.file'] = plots['plot_sse.output.file'].astype(str) + '.plot_file.1.png'\n",
    "plots['plot_susie.output.file'] = plots['plot_susie.output.file'].astype(str) + '.seg.1.png'"
   ]
  },
  {
   "cell_type": "code",
   "execution_count": null,
   "metadata": {
    "kernel": "Python3"
   },
   "outputs": [],
   "source": [
    "rename = {}\n",
    "for k in plots.columns:\n",
    "    kk = k.split('.',1)\n",
    "    if len(kk) == 1:\n",
    "        continue\n",
    "    if kk[1] == 'output.file':\n",
    "        rename[k] = kk[0]\n",
    "    else:\n",
    "        rename[k] = kk[1]"
   ]
  },
  {
   "cell_type": "code",
   "execution_count": 30,
   "metadata": {
    "kernel": "Python3"
   },
   "outputs": [],
   "source": [
    "plots.rename(columns=rename).drop(columns=['DSC']).to_csv(\"benchmark/susie_dsc.csv\", index=False)"
   ]
  },
  {
   "cell_type": "markdown",
   "metadata": {
    "kernel": "SoS"
   },
   "source": [
    "## Pack for distribute"
   ]
  },
  {
   "cell_type": "code",
   "execution_count": 32,
   "metadata": {
    "kernel": "Bash"
   },
   "outputs": [],
   "source": [
    "cd benchmark && mkdir susie_dsc && cp simple_lm/*.png plot_sse/*.png plot_susie/*.png susie_dsc.csv susie_dsc && cd susie_dsc && dsc-io susie_dsc.csv index.html"
   ]
  }
 ],
 "metadata": {
  "kernelspec": {
   "display_name": "SoS",
   "language": "sos",
   "name": "sos"
  },
  "language_info": {
   "codemirror_mode": "sos",
   "file_extension": ".sos",
   "mimetype": "text/x-sos",
   "name": "sos",
   "nbconvert_exporter": "sos_notebook.converter.SoS_Exporter",
   "pygments_lexer": "sos"
  },
  "sos": {
   "default_kernel": "SoS",
   "kernels": [
    [
     "R",
     "ir",
     "R",
     "#DCDCDA"
    ]
   ],
   "panel": {
    "displayed": true,
    "height": 0,
    "style": "side"
   },
   "version": "0.9.14.1"
  }
 },
 "nbformat": 4,
 "nbformat_minor": 2
}
