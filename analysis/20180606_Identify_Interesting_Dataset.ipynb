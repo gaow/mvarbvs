{
 "cells": [
  {
   "cell_type": "markdown",
   "metadata": {
    "kernel": "SoS"
   },
   "source": [
    "# Identify and extract interesting data-set for vignettes"
   ]
  },
  {
   "cell_type": "code",
   "execution_count": 1,
   "metadata": {
    "kernel": "SoS"
   },
   "outputs": [
    {
     "data": {
      "text/html": [
       "\n",
       "        <table class=\"revision_table\">\n",
       "        <tr>\n",
       "        <th>Revision</th>\n",
       "        <th>Author</th>\n",
       "        <th>Date</th>\n",
       "        <th>Message</th>\n",
       "        <tr>\n",
       "        <tr><td><a target=\"_blank\" href=\"https://github.com/gaow/mvarbvs/blob/12fe3639ca1b2e6c50e20ef8a221f4f4de0a8cb9/analysis/20180606_Identify_Interesting_Dataset.ipynb\"><span class=\"revision_id\">12fe363<span></a></td>\n",
       "<td>Gao Wang</td>\n",
       "<td>2018-06-27</td>\n",
       "<td>Add finemap 95% config filter</td></tr><tr><td><a target=\"_blank\" href=\"https://github.com/gaow/mvarbvs/blob/d5574254873e939930b65994572c189e8ff5001b/analysis/20180606_Identify_Interesting_Dataset.ipynb\"><span class=\"revision_id\">d557425<span></a></td>\n",
       "<td>Gao Wang</td>\n",
       "<td>2018-06-27</td>\n",
       "<td>Update documentation</td></tr></table>"
      ]
     },
     "metadata": {},
     "output_type": "display_data"
    }
   ],
   "source": [
    "%revisions -s -n 10"
   ]
  },
  {
   "cell_type": "code",
   "execution_count": 2,
   "metadata": {
    "kernel": "SoS"
   },
   "outputs": [
    {
     "name": "stdout",
     "output_type": "stream",
     "text": [
      "/home/gaow/Documents/GIT/github/mvarbvs/dsc/susie_comparison/fit_susie"
     ]
    }
   ],
   "source": [
    "%cd ~/GIT/github/mvarbvs/dsc/susie_comparison/fit_susie"
   ]
  },
  {
   "cell_type": "code",
   "execution_count": null,
   "metadata": {
    "kernel": "SoS"
   },
   "outputs": [],
   "source": [
    "[global]\n",
    "parameter: outdir = path('./susie_comparison')\n",
    "parameter: name = '20180710'"
   ]
  },
  {
   "cell_type": "markdown",
   "metadata": {
    "kernel": "SoS"
   },
   "source": [
    "## A non-trivial show case example for fine-mapping vignette\n",
    "Here I'd like to pick up ideally examples that has enough power for susie to detect 3 simulated signals, at non-trivial yet reasonable number of iterations, size of sets and purity levels, for illustrating how susie works. In other words this is meant to pick up good susie show cases, not edge cases."
   ]
  },
  {
   "cell_type": "code",
   "execution_count": null,
   "metadata": {
    "kernel": "SoS"
   },
   "outputs": [],
   "source": [
    "[A]\n",
    "num_causal = 3\n",
    "input: glob.glob(f'liter_data_*_summarize_ld_1_lm_less_{num_causal}_fit_susie_*.rds')[:200], group_by = 'single' \n",
    "R: expand = '${ }'\n",
    "  res = readRDS(${_input:r})\n",
    "  for (r in 1:2) {\n",
    "  \tcs = susieR::susie_get_CS(res$posterior$alpha[[r]])$cs[1:${num_causal}]\n",
    "  \tif (length(cs[[${num_causal}]]) < 20) {\n",
    "  \t\tprint(${_input:r})\n",
    "\t\tprint(r)\n",
    "  \t\tprint(res$posterior$niter[r])\n",
    "\t\tprint(cs)\n",
    "\t\tprint(\"========\")\n",
    "  \t}\n",
    "  }"
   ]
  },
  {
   "cell_type": "markdown",
   "metadata": {
    "kernel": "SoS"
   },
   "source": [
    "I ended up with `liter_data_65_summarize_ld_1_lm_less_3_fit_susie_7.rds` the first data-set, which seems interesting:\n",
    "\n",
    "```\n",
    "[[1]]\n",
    "[1] 773 777\n",
    "\n",
    "[[2]]\n",
    " [1] 360 361 362 365 368 372 373 374 379 381 383 384 386 387 388 389 391 392 396\n",
    "[20] 397 398 399 400 401 403 404 405 407 408 415\n",
    "\n",
    "[[3]]\n",
    "[1] 653\n",
    "```\n",
    "\n",
    "takes 6 iterations to complete."
   ]
  },
  {
   "cell_type": "code",
   "execution_count": 2,
   "metadata": {
    "kernel": "R"
   },
   "outputs": [
    {
     "data": {
      "text/html": [
       "<ol class=list-inline>\n",
       "\t<li>'posterior'</li>\n",
       "\t<li>'fitted'</li>\n",
       "\t<li>'DSC_DEBUG'</li>\n",
       "</ol>\n"
      ],
      "text/latex": [
       "\\begin{enumerate*}\n",
       "\\item 'posterior'\n",
       "\\item 'fitted'\n",
       "\\item 'DSC\\_DEBUG'\n",
       "\\end{enumerate*}\n"
      ],
      "text/markdown": [
       "1. 'posterior'\n",
       "2. 'fitted'\n",
       "3. 'DSC_DEBUG'\n",
       "\n",
       "\n"
      ],
      "text/plain": [
       "[1] \"posterior\" \"fitted\"    \"DSC_DEBUG\""
      ]
     },
     "metadata": {},
     "output_type": "display_data"
    }
   ],
   "source": [
    "dat = readRDS('liter_data_65_summarize_ld_1_lm_less_3_fit_susie_7.rds')\n",
    "names(dat)"
   ]
  },
  {
   "cell_type": "markdown",
   "metadata": {
    "kernel": "R"
   },
   "source": [
    "From `dat$DSC_DEBUG$script` I load the dataset of interest:"
   ]
  },
  {
   "cell_type": "code",
   "execution_count": 3,
   "metadata": {
    "kernel": "R"
   },
   "outputs": [],
   "source": [
    "input <- dscrutils::load_inputs(c('../lm_less/liter_data_65_summarize_ld_1_lm_less_3.pkl'), dscrutils::read_dsc)"
   ]
  },
  {
   "cell_type": "code",
   "execution_count": 4,
   "metadata": {
    "kernel": "R"
   },
   "outputs": [
    {
     "data": {
      "text/html": [
       "<ol class=list-inline>\n",
       "\t<li>'data'</li>\n",
       "\t<li>'V'</li>\n",
       "\t<li>'N'</li>\n",
       "\t<li>'DSC_DEBUG'</li>\n",
       "</ol>\n"
      ],
      "text/latex": [
       "\\begin{enumerate*}\n",
       "\\item 'data'\n",
       "\\item 'V'\n",
       "\\item 'N'\n",
       "\\item 'DSC\\_DEBUG'\n",
       "\\end{enumerate*}\n"
      ],
      "text/markdown": [
       "1. 'data'\n",
       "2. 'V'\n",
       "3. 'N'\n",
       "4. 'DSC_DEBUG'\n",
       "\n",
       "\n"
      ],
      "text/plain": [
       "[1] \"data\"      \"V\"         \"N\"         \"DSC_DEBUG\""
      ]
     },
     "metadata": {},
     "output_type": "display_data"
    }
   ],
   "source": [
    "names(input)"
   ]
  },
  {
   "cell_type": "markdown",
   "metadata": {
    "kernel": "SoS"
   },
   "source": [
    "Now I compute summary stats and save it."
   ]
  },
  {
   "cell_type": "code",
   "execution_count": 5,
   "metadata": {
    "kernel": "R"
   },
   "outputs": [],
   "source": [
    "library(abind)\n",
    "mm_regression = function(X, Y, Z=NULL) {\n",
    "  if (!is.null(Z)) {\n",
    "      Z = as.matrix(Z)\n",
    "  }\n",
    "  reg = lapply(seq_len(ncol(Y)), function (i) simplify2array(susieR:::univariate_regression(X, Y[,i], Z)))\n",
    "  reg = do.call(abind, c(reg, list(along=0)))\n",
    "  # return array: out[1,,] is betahat, out[2,,] is shat\n",
    "  return(aperm(reg, c(3,2,1)))\n",
    "}\n",
    "sumstats = mm_regression(as.matrix(input$data$X), as.matrix(input$data$Y))"
   ]
  },
  {
   "cell_type": "markdown",
   "metadata": {
    "kernel": "SoS"
   },
   "source": [
    "Since the data is private I may have to remove column and row names from data matrices:"
   ]
  },
  {
   "cell_type": "code",
   "execution_count": 13,
   "metadata": {
    "kernel": "R"
   },
   "outputs": [
    {
     "data": {
      "text/html": [
       "<ol class=list-inline>\n",
       "\t<li>'X'</li>\n",
       "\t<li>'chrom'</li>\n",
       "\t<li>'pos'</li>\n",
       "\t<li>'true_coef'</li>\n",
       "\t<li>'residual_variance'</li>\n",
       "\t<li>'Y'</li>\n",
       "\t<li>'allele_freq'</li>\n",
       "\t<li>'V'</li>\n",
       "</ol>\n"
      ],
      "text/latex": [
       "\\begin{enumerate*}\n",
       "\\item 'X'\n",
       "\\item 'chrom'\n",
       "\\item 'pos'\n",
       "\\item 'true\\_coef'\n",
       "\\item 'residual\\_variance'\n",
       "\\item 'Y'\n",
       "\\item 'allele\\_freq'\n",
       "\\item 'V'\n",
       "\\end{enumerate*}\n"
      ],
      "text/markdown": [
       "1. 'X'\n",
       "2. 'chrom'\n",
       "3. 'pos'\n",
       "4. 'true_coef'\n",
       "5. 'residual_variance'\n",
       "6. 'Y'\n",
       "7. 'allele_freq'\n",
       "8. 'V'\n",
       "\n",
       "\n"
      ],
      "text/plain": [
       "[1] \"X\"                 \"chrom\"             \"pos\"              \n",
       "[4] \"true_coef\"         \"residual_variance\" \"Y\"                \n",
       "[7] \"allele_freq\"       \"V\"                "
      ]
     },
     "metadata": {},
     "output_type": "display_data"
    }
   ],
   "source": [
    "names(input$data)"
   ]
  },
  {
   "cell_type": "markdown",
   "metadata": {
    "kernel": "SoS"
   },
   "source": [
    "Okay after checking the data details there is nothing confidential to hide. We should be good."
   ]
  },
  {
   "cell_type": "code",
   "execution_count": 11,
   "metadata": {
    "kernel": "R"
   },
   "outputs": [],
   "source": [
    "saveRDS(list(data=input$data, sumstats = sumstats), '~/GIT/software/susieR/inst/data/N3finemapping.rds')"
   ]
  },
  {
   "cell_type": "markdown",
   "metadata": {
    "kernel": "SoS"
   },
   "source": [
    "## A reasonably \"difficult\" case\n",
    "\n",
    "We hope to see and show that SuSiE can deal with this reasonably difficult case where in the 2 CS setting the top z-score is result of contribution from both CS -- that is, a SNP is in weak LD between both of 2 CS, thus showing strongest z-score in univariate analysis but weak PIP and not in any CS. Need information on:\n",
    "\n",
    "- top z-score (summary stats)\n",
    "- true effect 0 or 1\n",
    "- CS and PIP\n",
    "- CS best is 2; true effect in CS but z-score not in CS"
   ]
  },
  {
   "cell_type": "code",
   "execution_count": 3,
   "metadata": {
    "kernel": "SoS"
   },
   "outputs": [
    {
     "name": "stdout",
     "output_type": "stream",
     "text": [
      "Workflow can only be executed with magic %run or %sosrun."
     ]
    }
   ],
   "source": [
    "[B_1]\n",
    "target = \"liter_data.dataset lm_less.pve lm_less.n_signal get_sumstats fit_susie.estimate_residual_variance fit_susie.prior_var fit_susie plot_susie\"\n",
    "output: f'{outdir}/tutorial_{name}/result.RDS'\n",
    "R: expand = '${ }'\n",
    "    out = dscrutils::dscquery(${outdir:br}, target = \"${target}\", load.pkl = TRUE)\n",
    "    saveRDS(out, ${_output:r})"
   ]
  },
  {
   "cell_type": "code",
   "execution_count": null,
   "metadata": {
    "kernel": "SoS"
   },
   "outputs": [],
   "source": [
    "[B_2]\n",
    "pve = [0.2]\n",
    "n = [3]\n",
    "est_res = ['TRUE']\n",
    "prior = [0.2]\n",
    "combos = len(pve) * len(n) * len(est_res) * len(prior)\n",
    "output_files = [f'{_input:d}/{x+1}.rds' for x in range(combos)]\n",
    "input: for_each = ['pve', 'n', 'est_res', 'prior'], concurrent = True\n",
    "output: output_files[_index]\n",
    "R: expand = '${ }'\n",
    "\n",
    "    get_combined = function(sub, dirname, ld_col) {\n",
    "        out_files = sub[,c(\"fit_susie.output.file\", \"plot_susie.output.file\")]\n",
    "        combined = list(purity = NULL, lfsr = NULL, size = NULL, \n",
    "                        captures = NULL, total_captures = NULL, pip = NULL)\n",
    "        for (i in 1:nrow(out_files)) {\n",
    "            fit = readRDS(paste0(dirname, out_files[i,1], '.rds'))$posterior\n",
    "            purity = readRDS(paste0(dirname, out_files[i,2], '.rds'))\n",
    "            L = sub[i,\"lm_less.n_signal\"]\n",
    "            for (r in 1:2) {\n",
    "                #\n",
    "                if (is.null(combined$purity)) combined$purity = purity$purity[[paste0('V',r)]][,ld_col]\n",
    "                else combined$purity = cbind(combined$purity, purity$purity[[paste0('V',r)]][,ld_col])\n",
    "                #\n",
    "                if (is.null(combined$size)) combined$size = fit$n_in_CI[,r]\n",
    "                else combined$size = cbind(combined$size, fit$n_in_CI[,r])\n",
    "                #\n",
    "                if (is.null(combined$lfsr)) combined$lfsr = fit$lfsr[,r]\n",
    "                else combined$lfsr = cbind(combined$lfsr, fit$lfsr[,r])\n",
    "                #\n",
    "                if (is.null(combined$captures)) combined$captures = rowSums(purity$signal$V1)\n",
    "                else combined$captures = cbind(combined$captures, rowSums(purity$signal$V1))\n",
    "                #\n",
    "                is_pure = which(purity$purity[[paste0('V',r)]][,ld_col] > ${ld_cutoff})\n",
    "                alpha = fit$alpha[[r]][is_pure,,drop=FALSE]\n",
    "                if (dim(alpha)[1] == 0) {\n",
    "                  pip = t(rep(0, dim(alpha)[2]))\n",
    "                } else {\n",
    "                  pip = t(1 - apply(1 - alpha, 2, prod))\n",
    "                }\n",
    "                if (is.null(combined$pip)) combined$pip = pip\n",
    "                else combined$pip = cbind(combined$pip, pip)            \n",
    "                #\n",
    "                detected = apply(t(purity$signal[[paste0('V',r)]][is_pure,,drop=FALSE]), 1, sum)\n",
    "                if (length(detected) < L) {\n",
    "                  detected = c(detected, rep(0, L - length(detected)))\n",
    "                }\n",
    "                if (is.null(combined$total_captures)) combined$total_captures = detected\n",
    "                else combined$total_captures = combined$total_captures + detected\n",
    "            }\n",
    "        }\n",
    "        return(combined)\n",
    "    }\n",
    "    out = readRDS(${_input:r})\n",
    "    sub = out[which(out$lm_less.pve == ${_pve} & out$lm_less.n_signal == ${_n} & out$fit_susie.estimate_residual_variance == ${_est_res} & out$fit_susie.prior_var == ${_prior}),]\n",
    "    combined = get_combined(sub, \"${outdir}/\", ${ld_col})\n",
    "    write(paste(${_pve}, ${_n}, ${_prior}, ${_est_res}, \"${_output:n}.png\", sep=','), file='${_output:n}.log')\n",
    "    saveRDS(combined, ${_output:r})"
   ]
  }
 ],
 "metadata": {
  "kernelspec": {
   "display_name": "SoS",
   "language": "sos",
   "name": "sos"
  },
  "language_info": {
   "codemirror_mode": "sos",
   "file_extension": ".sos",
   "mimetype": "text/x-sos",
   "name": "sos",
   "nbconvert_exporter": "sos_notebook.converter.SoS_Exporter",
   "pygments_lexer": "sos"
  },
  "sos": {
   "default_kernel": "SoS",
   "kernels": [
    [
     "R",
     "ir",
     "R",
     "#DCDCDA"
    ]
   ]
  }
 },
 "nbformat": 4,
 "nbformat_minor": 2
}
