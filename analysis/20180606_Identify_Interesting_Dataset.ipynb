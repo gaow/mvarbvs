{
 "cells": [
  {
   "cell_type": "markdown",
   "metadata": {},
   "source": [
    "# Identify and extract interesting data-set for vignettes"
   ]
  },
  {
   "cell_type": "markdown",
   "metadata": {},
   "source": [
    "Here I'd like to pick up ideally examples that has enough power for susie to detect 3 simulated signals, at non-trivial yet reasonable number of iterations, size of sets and purity levels, for illustrating how susie works. In other words this is meant to pick up good susie show cases, not edge cases."
   ]
  },
  {
   "cell_type": "code",
   "execution_count": 1,
   "metadata": {},
   "outputs": [
    {
     "name": "stdout",
     "output_type": "stream",
     "text": [
      "/home/gaow/GIT/github/mvarbvs/dsc/susie_comparison/fit_susie"
     ]
    }
   ],
   "source": [
    "%cd ~/GIT/github/mvarbvs/dsc/susie_comparison/fit_susie"
   ]
  },
  {
   "cell_type": "code",
   "execution_count": null,
   "metadata": {},
   "outputs": [],
   "source": [
    "[1]\n",
    "num_causal = 3\n",
    "input: glob.glob(f'liter_data_*_summarize_ld_1_lm_less_{num_causal}_fit_susie_*.rds')[:200], group_by = 'single' \n",
    "R: expand = '${ }'\n",
    "  res = readRDS(${_input:r})\n",
    "  for (r in 1:2) {\n",
    "  \tcs = susieR::susie_get_CS(res$posterior$alpha[[r]])$cs[1:${num_causal}]\n",
    "  \tif (length(cs[[${num_causal}]]) < 20) {\n",
    "  \t\tprint(${_input:r})\n",
    "\t\tprint(r)\n",
    "  \t\tprint(res$posterior$niter[r])\n",
    "\t\tprint(cs)\n",
    "\t\tprint(\"========\")\n",
    "  \t}\n",
    "  }"
   ]
  },
  {
   "cell_type": "markdown",
   "metadata": {},
   "source": [
    "I ended up with `liter_data_65_summarize_ld_1_lm_less_3_fit_susie_7.rds` the first data-set, which seems interesting:\n",
    "\n",
    "```\n",
    "[[1]]\n",
    "[1] 773 777\n",
    "\n",
    "[[2]]\n",
    " [1] 360 361 362 365 368 372 373 374 379 381 383 384 386 387 388 389 391 392 396\n",
    "[20] 397 398 399 400 401 403 404 405 407 408 415\n",
    "\n",
    "[[3]]\n",
    "[1] 653\n",
    "```\n",
    "\n",
    "takes 6 iterations to complete."
   ]
  },
  {
   "cell_type": "code",
   "execution_count": 2,
   "metadata": {
    "kernel": "R"
   },
   "outputs": [
    {
     "data": {
      "text/html": [
       "<ol class=list-inline>\n",
       "\t<li>'posterior'</li>\n",
       "\t<li>'fitted'</li>\n",
       "\t<li>'DSC_DEBUG'</li>\n",
       "</ol>\n"
      ],
      "text/latex": [
       "\\begin{enumerate*}\n",
       "\\item 'posterior'\n",
       "\\item 'fitted'\n",
       "\\item 'DSC\\_DEBUG'\n",
       "\\end{enumerate*}\n"
      ],
      "text/markdown": [
       "1. 'posterior'\n",
       "2. 'fitted'\n",
       "3. 'DSC_DEBUG'\n",
       "\n",
       "\n"
      ],
      "text/plain": [
       "[1] \"posterior\" \"fitted\"    \"DSC_DEBUG\""
      ]
     },
     "metadata": {},
     "output_type": "display_data"
    }
   ],
   "source": [
    "dat = readRDS('liter_data_65_summarize_ld_1_lm_less_3_fit_susie_7.rds')\n",
    "names(dat)"
   ]
  },
  {
   "cell_type": "markdown",
   "metadata": {
    "kernel": "R"
   },
   "source": [
    "From `dat$DSC_DEBUG$script` I load the dataset of interest:"
   ]
  },
  {
   "cell_type": "code",
   "execution_count": 6,
   "metadata": {
    "kernel": "R"
   },
   "outputs": [],
   "source": [
    "input <- dscrutils::load_inputs(c('../lm_less/liter_data_65_summarize_ld_1_lm_less_3.pkl'), dscrutils::read_dsc)"
   ]
  },
  {
   "cell_type": "code",
   "execution_count": 7,
   "metadata": {
    "kernel": "R"
   },
   "outputs": [
    {
     "data": {
      "text/html": [
       "<ol class=list-inline>\n",
       "\t<li>'data'</li>\n",
       "\t<li>'V'</li>\n",
       "\t<li>'N'</li>\n",
       "\t<li>'DSC_DEBUG'</li>\n",
       "</ol>\n"
      ],
      "text/latex": [
       "\\begin{enumerate*}\n",
       "\\item 'data'\n",
       "\\item 'V'\n",
       "\\item 'N'\n",
       "\\item 'DSC\\_DEBUG'\n",
       "\\end{enumerate*}\n"
      ],
      "text/markdown": [
       "1. 'data'\n",
       "2. 'V'\n",
       "3. 'N'\n",
       "4. 'DSC_DEBUG'\n",
       "\n",
       "\n"
      ],
      "text/plain": [
       "[1] \"data\"      \"V\"         \"N\"         \"DSC_DEBUG\""
      ]
     },
     "metadata": {},
     "output_type": "display_data"
    }
   ],
   "source": [
    "names(input)"
   ]
  },
  {
   "cell_type": "markdown",
   "metadata": {},
   "source": [
    "Now I compute summary stats and save it."
   ]
  },
  {
   "cell_type": "code",
   "execution_count": 9,
   "metadata": {
    "kernel": "R"
   },
   "outputs": [],
   "source": [
    "library(abind)\n",
    "mm_regression = function(X, Y, Z=NULL) {\n",
    "  if (!is.null(Z)) {\n",
    "      Z = as.matrix(Z)\n",
    "  }\n",
    "  reg = lapply(seq_len(ncol(Y)), function (i) simplify2array(susieR:::univariate_regression(X, Y[,i], Z)))\n",
    "  reg = do.call(abind, c(reg, list(along=0)))\n",
    "  # return array: out[1,,] is betahat, out[2,,] is shat\n",
    "  return(aperm(reg, c(3,2,1)))\n",
    "}\n",
    "sumstats = mm_regression(as.matrix(input$data$X), as.matrix(input$data$Y))"
   ]
  },
  {
   "cell_type": "code",
   "execution_count": 11,
   "metadata": {
    "kernel": "R"
   },
   "outputs": [],
   "source": [
    "saveRDS(list(data=input$data, sumstats = sumstats), '~/GIT/software/susieR/inst/data/N3finemapping.rds')"
   ]
  }
 ],
 "metadata": {
  "kernelspec": {
   "display_name": "SoS",
   "language": "sos",
   "name": "sos"
  },
  "language_info": {
   "codemirror_mode": "sos",
   "file_extension": ".sos",
   "mimetype": "text/x-sos",
   "name": "sos",
   "nbconvert_exporter": "sos_notebook.converter.SoS_Exporter",
   "pygments_lexer": "sos"
  },
  "sos": {
   "default_kernel": "SoS",
   "kernels": [
    [
     "R",
     "ir",
     "R",
     "#DCDCDA"
    ]
   ]
  }
 },
 "nbformat": 4,
 "nbformat_minor": 2
}
