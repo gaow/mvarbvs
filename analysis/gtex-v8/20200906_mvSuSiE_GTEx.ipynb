{
 "cells": [
  {
   "cell_type": "markdown",
   "metadata": {
    "kernel": "SoS"
   },
   "source": [
    "# Multivariate fine-mapping with missing data examples\n",
    "\n",
    "This notebook applies mvSuSiE on some GTEx genes using two approaches to handle missing data."
   ]
  },
  {
   "cell_type": "markdown",
   "metadata": {
    "kernel": "SoS"
   },
   "source": [
    "## Input\n",
    "\n",
    "We focus on the 27 genes identified in MASH paper that seems to have different direction of effects in brain vs non-brain tissues. It is of interesting to look at these examples with multivariate fine-mapping."
   ]
  },
  {
   "cell_type": "markdown",
   "metadata": {
    "kernel": "SoS"
   },
   "source": [
    "## Analysis\n",
    "\n",
    "### Compute prior\n",
    "\n",
    "```\n",
    "sos run analysis/gtex-v8/20200906_mvSuSiE_GTEx.ipynb factor_analysis\n",
    "sos run analysis/gtex-v8/20200906_mvSuSiE_GTEx.ipynb mixture_model\n",
    "```\n",
    "\n",
    "### Analyze the data\n",
    "\n",
    "```\n",
    "sos run analysis/gtex-v8/20200906_mvSuSiE_GTEx.ipynb submit \\\n",
    "    --data-dir /project2/compbio/GTEx_eQTL/cis_eqtl_analysis_ready \\\n",
    "    -c midway2.yml -q midway2\n",
    "```"
   ]
  },
  {
   "cell_type": "markdown",
   "metadata": {
    "kernel": "SoS"
   },
   "source": [
    "## Results\n",
    "\n",
    "### Mixture analysis results"
   ]
  },
  {
   "cell_type": "code",
   "execution_count": null,
   "metadata": {
    "kernel": "SoS"
   },
   "outputs": [],
   "source": [
    "%preview -s png /project2/compbio/GTEx_eQTL/mvSuSiE_prior/FastQTLSumstats.mvSuSiE_prior.ed_bovy.pdf"
   ]
  },
  {
   "cell_type": "code",
   "execution_count": null,
   "metadata": {
    "kernel": "SoS"
   },
   "outputs": [],
   "source": [
    "%preview -s png /project2/compbio/GTEx_eQTL/mvSuSiE_prior/FastQTLSumstats.mvSuSiE_prior.ed.pdf -s png"
   ]
  },
  {
   "cell_type": "code",
   "execution_count": null,
   "metadata": {
    "kernel": "SoS"
   },
   "outputs": [],
   "source": [
    "%preview -s png /project2/compbio/GTEx_eQTL/mvSuSiE_prior/FastQTLSumstats.mvSuSiE_prior.teem.pdf -s png"
   ]
  },
  {
   "cell_type": "code",
   "execution_count": null,
   "metadata": {
    "kernel": "SoS"
   },
   "outputs": [],
   "source": [
    "[global]\n",
    "parameter: data_dir = path('/project2/compbio/GTEx_eQTL/cis_eqtl_analysis_ready')\n",
    "parameter: wd = path('/project2/compbio/GTEx_eQTL/mvSuSiE_output')\n",
    "parameter: name = \"GTEx_V8_strong_z\"\n",
    "parameter: analysis_units = path('data/27_brain_non_brain_genes_v8.txt')\n",
    "parameter: suffix = 'GTEx_V8.rds'\n",
    "regions = [x.strip() for x in open(analysis_units).readlines() if x.strip() and not x.strip().startswith('#')]\n",
    "genes = [f\"{data_dir:a}/{x}.{suffix}\" for x in regions if path(f\"{data_dir:a}/{x}.{suffix}\").exists()]"
   ]
  },
  {
   "cell_type": "code",
   "execution_count": null,
   "metadata": {
    "kernel": "SoS"
   },
   "outputs": [],
   "source": [
    "[factor_analysis_1]\n",
    "parameter: sumstat = path(\"/project2/compbio/GTEx_eQTL/mashr_flashr_workflow_output/FastQTLSumStats.mash.rds\")\n",
    "input: sumstat\n",
    "output: f\"{wd:a}/{name}.rds\"\n",
    "R: expand = True\n",
    "    dat = readRDS({_input:r})\n",
    "    attach(dat)\n",
    "    random.tmp = rbind(random.b/random.s, random.test.b/random.test.s)\n",
    "    null.id =  which(apply(abs(random.tmp), 1, max) < 2)\n",
    "    null.z = random.tmp[null.id,,drop=F]\n",
    "    null.cor = cor(null.z)\n",
    "    z = strong.b/strong.s\n",
    "    XtX = t(as.matrix(z)) %*% as.matrix(z) / nrow(z)\n",
    "    res = list(null.cor = null.cor, strong.z = z, XtX = XtX)\n",
    "    saveRDS(res, {_output:r})"
   ]
  },
  {
   "cell_type": "code",
   "execution_count": null,
   "metadata": {
    "kernel": "SoS"
   },
   "outputs": [],
   "source": [
    "[factor_analysis_2]\n",
    "script: interpreter= 'qsub', expand = True\n",
    "    #!/bin/bash\n",
    "\n",
    "    #SBATCH --time=36:00:00\n",
    "    #SBATCH --partition=broadwl\n",
    "    #SBATCH --nodes=1\n",
    "    #SBATCH --ntasks-per-node=1\n",
    "    #SBATCH --cpus-per-task=1\n",
    "    #SBATCH --mem-per-cpu=2000\n",
    "    #SBATCH --job-name={step_name}\n",
    "    #SBATCH --mail-type=BEGIN,END,FAIL\n",
    "\n",
    "    module load R\n",
    "    sos run ~/GIT/bioworkflows/multivariate-fine-mapping/mixture_prior.ipynb flash --name {name} --cwd {wd} -s build &> {wd}/{name}_factor_analysis.log\n",
    "    sos run ~/GIT/bioworkflows/multivariate-fine-mapping/mixture_prior.ipynb flash_nonneg --name {name} --cwd {wd} -s build &>> {wd}/{name}_factor_analysis.log\n",
    "    sos run ~/GIT/bioworkflows/multivariate-fine-mapping/mixture_prior.ipynb pca --name {name} --cwd {wd} -s build &>> {wd}/{name}_factor_analysis.log\n",
    "    sos run ~/GIT/bioworkflows/multivariate-fine-mapping/mixture_prior.ipynb canonical --name {name} --cwd {wd} -s build &>> {wd}/{name}_factor_analysis.log"
   ]
  },
  {
   "cell_type": "code",
   "execution_count": null,
   "metadata": {
    "kernel": "SoS"
   },
   "outputs": [],
   "source": [
    "[mixture_model]\n",
    "def get_cmd(m):\n",
    "    c1 = f'''\n",
    "    sos run ~/GIT/bioworkflows/multivariate-fine-mapping/mixture_prior.ipynb ud --name {m} --cwd {wd} \\\n",
    "        -c ~/GIT/mvarbvs/midway2.yml -q midway2 -s build &> {wd}/ed_{m}.log\n",
    "    sos run ~/GIT/bioworkflows/multivariate-fine-mapping/mixture_prior.ipynb plot_U --name \"\" --cwd {wd} --model-data {wd}/{m}.ed.rds --remove-label \\\n",
    "        -c ~/GIT/mvarbvs/midway2.yml -q midway2 -s build\n",
    "    '''\n",
    "    c2 = f'''\n",
    "    sos run ~/GIT/bioworkflows/multivariate-fine-mapping/mixture_prior.ipynb ud --ud-method teem --name {m} --cwd {wd} \\\n",
    "        -c ~/GIT/mvarbvs/midway2.yml -q midway2 -s build &> {wd}/teem_{m}.log\n",
    "    sos run ~/GIT/bioworkflows/multivariate-fine-mapping/mixture_prior.ipynb plot_U --name \"\" --cwd {wd} --model-data {wd}/{m}.teem.rds --remove-label \\\n",
    "        -c ~/GIT/mvarbvs/midway2.yml -q midway2 -s build\n",
    "    '''\n",
    "    c3 = f'''\n",
    "    sos run ~/GIT/bioworkflows/multivariate-fine-mapping/mixture_prior.ipynb ed --name {m} --cwd {wd} \\\n",
    "        -c ~/GIT/mvarbvs/midway2.yml -q midway2 -s build &> {wd}/bovy_{m}.log\n",
    "    sos run ~/GIT/bioworkflows/multivariate-fine-mapping/mixture_prior.ipynb plot_U --name \"\" --cwd {wd} --model-data {wd}/{m}.ed_bovy.rds --remove-label \\\n",
    "        -c ~/GIT/mvarbvs/midway2.yml -q midway2 -s build\n",
    "    '''\n",
    "    return [c1,c2,c3]\n",
    "cmds = get_cmd(name)\n",
    "input: for_each = 'cmds'\n",
    "script: interpreter= 'qsub', expand = True\n",
    "#!/bin/bash\n",
    "  \n",
    "#SBATCH --time=36:00:00\n",
    "#SBATCH --partition=broadwl\n",
    "#SBATCH --nodes=1\n",
    "#SBATCH --ntasks-per-node=1\n",
    "#SBATCH --cpus-per-task=1\n",
    "#SBATCH --mem-per-cpu=2000\n",
    "#SBATCH --job-name={step_name}\n",
    "#SBATCH --mail-type=BEGIN,END,FAIL\n",
    "\n",
    "module load R\n",
    "{_cmds}"
   ]
  },
  {
   "cell_type": "code",
   "execution_count": null,
   "metadata": {
    "kernel": "SoS"
   },
   "outputs": [],
   "source": [
    "[default_1]\n",
    "# Only analyze `cis` variants -- cis = N means using N variants around the center column of X matrix  \n",
    "parameter: cis = 'NULL'\n",
    "parameter: approximate = 'F'\n",
    "parameter: prior = path('/project2/compbio/GTEx_eQTL/mvSuSiE_prior/FastQTLSumstats.mvSuSiE_prior.ed_bovy.rds')\n",
    "input: genes, group_by = 1\n",
    "output: f'{wd:a}/{_input:bn}_mvSuSiE_cis{(\"_%s\" % cis) if cis != \"NULL\" else \"\"}.rds'\n",
    "#task: trunk_workers = [4] * 10, trunk_size = 1, walltime = '12h', mem = '8G', cores = 1, tags = f'{step_name}_{_output:bn}'\n",
    "task: trunk_workers = 1, trunk_size = 1, walltime = '12h', mem = '12G', cores = 2, tags = f'{step_name}_{_output:bn}'\n",
    "R: expand = '${ }', stdout = f\"{_output:n}.stdout\", stderr = f\"{_output:n}.stderr\"\n",
    "    ###Functions to compute MAF and missing genotype rate\n",
    "    compute_maf <- function(geno){\n",
    "      f <- mean(geno,na.rm = TRUE)/2\n",
    "      return(min(f, 1-f))\n",
    "    }\n",
    "\n",
    "    compute_missing <- function(geno){\n",
    "      miss <- sum(is.na(geno))/length(geno)\n",
    "      return(miss)\n",
    "    }\n",
    "    \n",
    "    mean_impute <- function(geno){\n",
    "      f <- apply(geno, 2, function(x) mean(x,na.rm = TRUE))\n",
    "      for (i in 1:length(f)) geno[,i][which(is.na(geno[,i]))] <- f[i]\n",
    "      return(geno)\n",
    "    }\n",
    "\n",
    "    is_zero_variance <- function(x) {\n",
    "      if (length(unique(x))==1) return(T)\n",
    "      else return(F)\n",
    "    }\n",
    "  \n",
    "    filter_X <- function(X, missing_rate_thresh, maf_thresh) {\n",
    "        rm_col <- which(apply(X, 2, compute_missing) > missing_rate_thresh)\n",
    "        if (length(rm_col)) X <- X[, -rm_col]\n",
    "        rm_col <- which(apply(X, 2, compute_maf) < maf_thresh)\n",
    "        if (length(rm_col)) X <- X[, -rm_col]\n",
    "        rm_col <- which(apply(X, 2, is_zero_variance))\n",
    "        if (length(rm_col)) X <- X[, -rm_col]\n",
    "        return(mean_impute(X))\n",
    "    }\n",
    "\n",
    "    compute_cov_flash <- function(Y, error_cache = NULL){\n",
    "        covar <- diag(ncol(Y))\n",
    "        tryCatch({\n",
    "        fl <- flashier::flash(Y, var.type = 2, prior.family = c(flashier::prior.normal(), flashier::prior.normal.scale.mix()), backfit = TRUE, verbose.lvl=0)\n",
    "        if(fl$n.factors==0){\n",
    "          covar <- diag(fl$residuals.sd^2)\n",
    "        } else {\n",
    "          fsd <- sapply(fl$fitted.g[[1]], '[[', \"sd\")\n",
    "          covar <- diag(fl$residuals.sd^2) + crossprod(t(fl$flash.fit$EF[[2]]) * fsd)\n",
    "        }\n",
    "        if (nrow(covar) == 0) {\n",
    "          covar <- diag(ncol(Y))\n",
    "          stop(\"Computed covariance matrix has zero rows\")\n",
    "        }\n",
    "        }, error = function(e) {\n",
    "          if (!is.null(error_cache)) {\n",
    "            saveRDS(list(data=Y, message=warning(e)), error_cache)\n",
    "            warning(\"FLASH failed. Using Identity matrix instead.\")\n",
    "            warning(e)\n",
    "          } else {\n",
    "            stop(e)\n",
    "          }\n",
    "        })\n",
    "        s <- apply(Y, 2, sd, na.rm=T)\n",
    "        if (length(s)>1) s = diag(s)\n",
    "        else s = matrix(s,1,1)\n",
    "        covar <- s%*%cov2cor(covar)%*%s\n",
    "        return(covar)\n",
    "    }\n",
    "  \n",
    "    compute_cov_diag <- function(Y){\n",
    "        covar <- diag(apply(Y, 2, var, na.rm=T))\n",
    "        return(covar)\n",
    "    }\n",
    "\n",
    "    get_center <- function(k,n) {\n",
    "      ## For given number k, get the range k surrounding n/2\n",
    "      ## but have to make sure it does not go over the bounds\n",
    "      if (is.null(k)) {\n",
    "          return(1:n)\n",
    "      }\n",
    "      start = floor(n/2 - k/2)\n",
    "      end = floor(n/2 + k/2)\n",
    "      if (start<1) start = 1\n",
    "      if (end>n) end = n\n",
    "      return(start:end)\n",
    "    }\n",
    "    dat = readRDS(${_input:r})\n",
    "    prior = readRDS(${prior:r})\n",
    "    prior = mvsusieR::create_mash_prior(mixture_prior=list(weights=prior$w, matrices=prior$U))\n",
    "    resid_Y = compute_cov_flash(dat$y_res)\n",
    "    X = filter_X(dat$X, 0.1, 0.05)\n",
    "    X = X[,get_center(${cis}, ncol(X))]\n",
    "    st = proc.time()\n",
    "    res = mvsusieR::mvsusie(X, dat$y_res, prior_variance=prior, residual_variance=resid_Y, precompute_covariances=T, compute_univariate_zscore=T, max_iter = 500, n_thread=2, approximate=${approximate})\n",
    "    res$time = proc.time() - st\n",
    "    saveRDS(res,${_output:r})"
   ]
  },
  {
   "cell_type": "code",
   "execution_count": null,
   "metadata": {
    "kernel": "SoS"
   },
   "outputs": [],
   "source": [
    "[default_2]\n",
    "output: f\"{_input:n}.manhattan.png\", f\"{_input:n}.bubble_finemap.png\", f\"{_input:n}.bubble_original.png\"\n",
    "R: expand = '${ }'\n",
    "    res = readRDS(${_input:r})\n",
    "    pdf('${_output[0]:n}.pdf', width=8, height=4)\n",
    "    susieR::susie_plot(res,y='PIP', main = 'Cross-condition Posterior Inclusion Probability', xlab = 'SNP positions', add_legend = F)\n",
    "    dev.off()\n",
    "    p = mvsusieR::mvsusie_plot(res)\n",
    "    pdf('${_output[1]:n}.pdf', width = p$width, height = p$height)\n",
    "    print(p$plot)\n",
    "    dev.off()\n",
    "    p = mvsusieR::mvsusie_plot(res, plot_z=TRUE)\n",
    "    pdf('${_output[2]:n}.pdf', width = p$width, height = p$height)\n",
    "    print(p$plot)\n",
    "    dev.off()\n",
    "\n",
    "bash: expand = '${ }'\n",
    "    convert -density 150 ${_output[0]:n}.pdf ${_output[0]}\n",
    "    convert -density 150 ${_output[1]:n}.pdf ${_output[1]}\n",
    "    convert -density 150 ${_output[2]:n}.pdf ${_output[2]}"
   ]
  },
  {
   "cell_type": "code",
   "execution_count": null,
   "metadata": {
    "kernel": "SoS"
   },
   "outputs": [],
   "source": [
    "[submit]\n",
    "script: interpreter= 'qsub', expand = True\n",
    "#!/bin/bash\n",
    "  \n",
    "#SBATCH --time=36:00:00\n",
    "#SBATCH --partition=broadwl\n",
    "#SBATCH --nodes=1\n",
    "#SBATCH --ntasks-per-node=1\n",
    "#SBATCH --cpus-per-task=8\n",
    "#SBATCH --mem-per-cpu=2000\n",
    "#SBATCH --job-name={step_name}\n",
    "#SBATCH --mail-type=BEGIN,END,FAIL\n",
    "\n",
    "module load R\n",
    "sos run analysis/gtex-v8/20200906_mvSuSiE_GTEx.ipynb \\\n",
    "    --data-dir /project2/compbio/GTEx_eQTL/cis_eqtl_analysis_ready \\\n",
    "    --analysis_units data/27_brain_non_brain_genes_v8.txt\\\n",
    "    -c midway2.yml -q midway2 \\\n",
    "    -s build -e ignore &> gtex_v8.log"
   ]
  }
 ],
 "metadata": {
  "kernelspec": {
   "display_name": "SoS",
   "language": "sos",
   "name": "sos"
  },
  "language_info": {
   "codemirror_mode": "sos",
   "file_extension": ".sos",
   "mimetype": "text/x-sos",
   "name": "sos",
   "nbconvert_exporter": "sos_notebook.converter.SoS_Exporter",
   "pygments_lexer": "sos"
  },
  "sos": {
   "kernels": [
    [
     "SoS",
     "sos",
     "",
     ""
    ]
   ],
   "version": "0.22.4"
  }
 },
 "nbformat": 4,
 "nbformat_minor": 4
}
