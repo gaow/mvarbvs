{
 "cells": [
  {
   "cell_type": "markdown",
   "metadata": {
    "kernel": "SoS"
   },
   "source": [
    "# Multivariate fine-mapping with missing data examples\n",
    "\n",
    "This notebook applies mvSuSiE on some GTEx genes using two approaches to handle missing data."
   ]
  },
  {
   "cell_type": "markdown",
   "metadata": {
    "kernel": "SoS"
   },
   "source": [
    "## Input\n",
    "\n",
    "We focus on the 27 genes identified in MASH paper that seems to have different direction of effects in brain vs non-brain tissues. It is of interesting to look at these examples with multivariate fine-mapping."
   ]
  },
  {
   "cell_type": "markdown",
   "metadata": {
    "kernel": "SoS"
   },
   "source": [
    "## Analysis\n",
    "\n",
    "```\n",
    "sos run analysis/gtex-v8/20200906_mvSuSiE_GTEx.ipynb \\\n",
    "    --data-dir /project2/compbio/GTEx_eQTL/cis_eqtl_analysis_ready \\\n",
    "    -c midway2.yml -q midway2\n",
    "```"
   ]
  },
  {
   "cell_type": "code",
   "execution_count": null,
   "metadata": {
    "kernel": "SoS"
   },
   "outputs": [],
   "source": [
    "[global]\n",
    "parameter: data_dir = path('~/Documents/GTExV8/Multi_Tissue_Toys')\n",
    "parameter: wd = path('mvSuSiE_output')\n",
    "parameter: analysis_units = path('data/27_brain_non_brain_genes_v8.txt')\n",
    "parameter: prior = path('data/FastQTLSumStats.mash.FL_PC3.rds')\n",
    "parameter: suffix = 'Multi_Tissues.rds'\n",
    "regions = [x.strip().split() for x in open(analysis_units).readlines() if x.strip() and not x.strip().startswith('#')]"
   ]
  },
  {
   "cell_type": "code",
   "execution_count": null,
   "metadata": {
    "kernel": "SoS"
   },
   "outputs": [],
   "source": [
    "[default]\n",
    "# Only analyze `cis` variants -- cis = N means using N variants around the center column of X matrix  \n",
    "parameter: cis = 3000\n",
    "input: [f\"{data_dir:a}/{x}.{suffix}\" for x in regions if path(f\"{data_dir:a}/{x}.{suffix}\").exists()], group_by = 1\n",
    "output: f'{wd:a}/{_input:bn}_mvSuSiE_cis_{cis}.rds'\n",
    "task: trunk_workers = [4] * 10, trunk_size = 1, walltime = '12h', mem = '8G', cores = 1, tags = f'{step_name}_{_output:bn}'\n",
    "R: expand = '${ }', stdout = f\"{_output:n}.stdout\", stderr = f\"{_output:n}.stderr\"\n",
    "    ###Functions to compute MAF and missing genotype rate\n",
    "    compute_maf <- function(geno){\n",
    "      f <- mean(geno,na.rm = TRUE)/2\n",
    "      return(min(f, 1-f))\n",
    "    }\n",
    "\n",
    "    compute_missing <- function(geno){\n",
    "      miss <- sum(is.na(geno))/length(geno)\n",
    "      return(miss)\n",
    "    }\n",
    "    \n",
    "    mean_impute <- function(geno){\n",
    "      f <- apply(geno, 2, function(x) mean(x,na.rm = TRUE))\n",
    "      for (i in 1:length(f)) geno[,i][which(is.na(geno[,i]))] <- f[i]\n",
    "      return(geno)\n",
    "    }\n",
    "\n",
    "    is_zero_variance <- function(x) {\n",
    "      if (length(unique(x))==1) return(T)\n",
    "      else return(F)\n",
    "    }\n",
    "  \n",
    "    filter_X <- function(X, missing_rate_thresh, maf_thresh) {\n",
    "        rm_col <- which(apply(X, 2, compute_missing) > missing_rate_thresh)\n",
    "        if (length(rm_col)) X <- X[, -rm_col]\n",
    "        rm_col <- which(apply(X, 2, compute_maf) < maf_thresh)\n",
    "        if (length(rm_col)) X <- X[, -rm_col]\n",
    "        rm_col <- which(apply(X, 2, is_zero_variance))\n",
    "        if (length(rm_col)) X <- X[, -rm_col]\n",
    "        return(mean_impute(X))\n",
    "    }\n",
    "\n",
    "    compute_cov_flash <- function(Y, error_cache = NULL){\n",
    "        covar <- diag(ncol(Y))\n",
    "        tryCatch({\n",
    "        fl <- flashier::flash(Y, var.type = 2, prior.family = c(flashier::prior.normal(), flashier::prior.normal.scale.mix()), backfit = TRUE, verbose.lvl=0)\n",
    "        if(fl$n.factors==0){\n",
    "          covar <- diag(fl$residuals.sd^2)\n",
    "        } else {\n",
    "          fsd <- sapply(fl$fitted.g[[1]], '[[', \"sd\")\n",
    "          covar <- diag(fl$residuals.sd^2) + crossprod(t(fl$flash.fit$EF[[2]]) * fsd)\n",
    "        }\n",
    "        if (nrow(covar) == 0) {\n",
    "          covar <- diag(ncol(Y))\n",
    "          stop(\"Computed covariance matrix has zero rows\")\n",
    "        }\n",
    "        }, error = function(e) {\n",
    "          if (!is.null(error_cache)) {\n",
    "            saveRDS(list(data=Y, message=warning(e)), error_cache)\n",
    "            warning(\"FLASH failed. Using Identity matrix instead.\")\n",
    "            warning(e)\n",
    "          } else {\n",
    "            stop(e)\n",
    "          }\n",
    "        })\n",
    "        s <- apply(Y, 2, sd, na.rm=T)\n",
    "        if (length(s)>1) s = diag(s)\n",
    "        else s = matrix(s,1,1)\n",
    "        covar <- s%*%cov2cor(covar)%*%s\n",
    "        return(covar)\n",
    "    }\n",
    "  \n",
    "    compute_cov_diag <- function(Y){\n",
    "        covar <- diag(apply(Y, 2, var, na.rm=T))\n",
    "        return(covar)\n",
    "    }\n",
    "\n",
    "    get_center <- function(k,n) {\n",
    "      ## For given number k, get the range k surrounding n/2\n",
    "      ## but have to make sure it does not go over the bounds\n",
    "      if (is.null(k)) {\n",
    "          return(1:n)\n",
    "      }\n",
    "      start = floor(n/2 - k/2)\n",
    "      end = floor(n/2 + k/2)\n",
    "      if (start<1) start = 1\n",
    "      if (end>n) end = n\n",
    "      return(start:end)\n",
    "    }\n",
    "    dat = readRDS(${_input:r})\n",
    "    U = readRDS(${prior:r})$Ulist\n",
    "    weights = rep(1/length(U), length(U))\n",
    "    prior = mmbr::create_mash_prior(mixture_prior=list(weights=weights, matrices=U))\n",
    "    resid_Y = compute_cov_flash(dat$y_res)\n",
    "    X = filter_X(dat$X, 0.1, 0.05)\n",
    "    X = X[,get_center(${cis}, ncol(X))]\n",
    "    st = proc.time()\n",
    "    res = mmbr::msusie(X, dat$y_res, prior_variance=prior, residual_variance=resid_Y, precompute_covariances=T, max_iter = 500)\n",
    "    res$time = proc.time() - st\n",
    "    saveRDS(res,${_output:r})"
   ]
  }
 ],
 "metadata": {
  "kernelspec": {
   "display_name": "SoS",
   "language": "sos",
   "name": "sos"
  },
  "language_info": {
   "codemirror_mode": "sos",
   "file_extension": ".sos",
   "mimetype": "text/x-sos",
   "name": "sos",
   "nbconvert_exporter": "sos_notebook.converter.SoS_Exporter",
   "pygments_lexer": "sos"
  },
  "sos": {
   "kernels": [
    [
     "SoS",
     "sos",
     "",
     ""
    ]
   ],
   "version": "0.20.5"
  }
 },
 "nbformat": 4,
 "nbformat_minor": 4
}
