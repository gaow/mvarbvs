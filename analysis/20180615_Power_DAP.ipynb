{
 "cells": [
  {
   "cell_type": "markdown",
   "metadata": {
    "kernel": "SoS"
   },
   "source": [
    "# Workflow to extract info for power comparison with DAP for a hard case"
   ]
  },
  {
   "cell_type": "code",
   "execution_count": 1,
   "metadata": {
    "kernel": "SoS"
   },
   "outputs": [],
   "source": [
    "%revisions -s"
   ]
  },
  {
   "cell_type": "markdown",
   "metadata": {
    "kernel": "SoS"
   },
   "source": [
    "Previously I've ran this specific DSC using:\n",
    "\n",
    "```\n",
    "dsc susie.dsc --target hard_case -o hard_case\n",
    "```\n",
    "\n",
    "So here I query from that result for DAP power. Again the settings:\n",
    "\n",
    "- PVE 0.3\n",
    "- 10 causal\n",
    "- ~8K SNPs (all cis-SNPs of potential interest)\n",
    "\n",
    "susie parameters:\n",
    "\n",
    "- prior 0.1, which is an unfavorable overestimate\n",
    "- L = 10\n",
    "\n",
    "DAP parameters are default."
   ]
  },
  {
   "cell_type": "code",
   "execution_count": 2,
   "metadata": {
    "kernel": "SoS"
   },
   "outputs": [],
   "source": [
    "[global]\n",
    "parameter: cwd = path('~/GIT/github/mvarbvs/dsc')\n",
    "parameter: date = '1008'\n",
    "# set to 0 to use estimated prior, or another number to use specified prior\n",
    "# as configured in the DSC\n",
    "parameter: susie_prior = [0.1, 0]\n",
    "# null weight options to evaluate\n",
    "parameter: null_weight = [0.0, 0.5, 0.9, 0.95]\n",
    "dirname = path(f'{cwd:a}/hard_case/')\n",
    "\n",
    "def fmtP(x):\n",
    "    return str(x).replace(\".\", \"p\")"
   ]
  },
  {
   "cell_type": "markdown",
   "metadata": {
    "kernel": "SoS"
   },
   "source": [
    "## The workflow"
   ]
  },
  {
   "cell_type": "code",
   "execution_count": 3,
   "metadata": {
    "kernel": "SoS"
   },
   "outputs": [],
   "source": [
    "[power_1]\n",
    "output: f'{dirname}/Power_comparison_{date}.rds'\n",
    "R: expand = '${ }', workdir = cwd\n",
    "    dap_out = dscrutils::dscquery(${dirname:br},\n",
    "                        target = \"full_data.dataset full_data lm_less03 lm_less03.pve lm_less03.n_signal fit_dap\")\n",
    "    susie_out = dscrutils::dscquery(${dirname:br},\n",
    "                        target = \"full_data.dataset full_data lm_less03 lm_less03.pve lm_less03.n_signal fit_susie10.prior_var fit_susie10.null_weight fit_susie10\")\n",
    "    saveRDS(list(dap=dap_out, susie=susie_out), ${_output:r})"
   ]
  },
  {
   "cell_type": "code",
   "execution_count": 5,
   "metadata": {
    "kernel": "SoS"
   },
   "outputs": [],
   "source": [
    "[power_2]\n",
    "# Power analysis\n",
    "# to match with DAP -ld_control 0.25\n",
    "# to match with susie 95% mappable CS, we set dap cutoff to 0.95 also\n",
    "dap_cluster_cutoff = [('cluster_prob', 0.95), ('cluster_avg_r2', 0.25)]\n",
    "input: for_each = ['dap_cluster_cutoff', 'null_weight', 'susie_prior'], group_by = 1, concurrent = True\n",
    "output: f'{dirname}/Power_comparison_{date}_{_dap_cluster_cutoff[0]}_prior_{fmtP(_susie_prior)}_null_{fmtP(_null_weight)}.rds'\n",
    "R: stdout = f'{_output:n}.log', expand = '${ }', workdir = cwd\n",
    "    dat = readRDS(${_input:r})\n",
    "    dap_out = dat$dap\n",
    "    susie_out = dat$susie\n",
    "    # favorite susie flavor\n",
    "    susie_out = susie_out[which(susie_out$fit_susie10.prior_var == ${_susie_prior} & susie_out$fit_susie10.null_weight == ${_null_weight}), ]\n",
    "    susie_out = subset(susie_out, select =-c(lm_less03.pve, fit_susie10.prior_var, fit_susie10.null_weight))\n",
    "    data_sets = unique(susie_out$full_data.dataset)\n",
    "    n_signals = unique(susie_out$lm_less03.n_signal)\n",
    "    n_r = 2\n",
    "    n_experiments = n_r * length(data_sets)\n",
    "    result = NULL\n",
    "    overlap_cs = list()\n",
    "    for (s in n_signals) {\n",
    "        susie_signals = 0\n",
    "        dap_signals = 0\n",
    "        susie_size = 0\n",
    "        dap_size = 0\n",
    "        # I cannot find a good median tracker so do it stupid way: save all and take median later\n",
    "        susie_sizes = vector()\n",
    "        dap_sizes = vector()\n",
    "        # do the same for mean ...\n",
    "        susie_avg_ld = vector()\n",
    "        dap_avg_ld = vector()\n",
    "        susie_tdc = 0\n",
    "        dap_tdc = 0\n",
    "        susie_dc = 0\n",
    "        dap_dc = 0\n",
    "        susie_tc = 0\n",
    "        dap_tc = 0\n",
    "        overlap_cs[[as.character(s)]] = NULL\n",
    "        for (d in data_sets) {\n",
    "            out_files = susie_out[which(susie_out$lm_less03.n_signal == s & susie_out$full_data.dataset == d), c(\"lm_less03.output.file\"),drop=FALSE]\n",
    "            truth = dscrutils::read_dsc(paste0(${dirname:r}, '/', out_files[1,1]))$data$true_coef\n",
    "            dap_files = dap_out[which(dap_out$lm_less03.n_signal == s & dap_out$full_data.dataset == d),c(\"fit_dap.output.file\"),drop=FALSE]\n",
    "            dap = dscrutils::read_dsc(paste0(${dirname:r}, '/', dap_files[1,1]))$posterior\n",
    "            susie_files = susie_out[which(susie_out$lm_less03.n_signal == s & susie_out$full_data.dataset == d),c(\"fit_susie10.output.file\"),drop=FALSE]\n",
    "            susie = dscrutils::read_dsc(paste0(${dirname:r}, '/', susie_files[1,1]))$posterior\n",
    "            for (r in 1:n_r) {\n",
    "                signals = which(truth[,r]!=0)\n",
    "                # SuSiE in CS\n",
    "                susie_cs = list()\n",
    "                if (!is.null(susie[[r]]$cs)) {\n",
    "                  for (i in 1:nrow(susie[[r]]$cs)) {\n",
    "                      susie_cs[[i]] = as.integer(unlist(strsplit(susie[[r]]$cs$variable[i], \",\")))\n",
    "                      if (any(signals %in% susie_cs[[i]])) {\n",
    "                          susie_size = susie_size + length(susie_cs[[i]])\n",
    "                          susie_sizes = c(susie_sizes, length(susie_cs[[i]]))\n",
    "                          susie_avg_ld = c(susie_avg_ld, sqrt(susie[[r]]$cs$cs_avg_r2[i]))\n",
    "                          susie_tdc = susie_tdc + 1\n",
    "                          susie_dc = susie_dc + 1\n",
    "                      }\n",
    "                    }\n",
    "                    susie_signals = susie_signals + sum(signals %in% unique(unlist(susie_cs)))\n",
    "                }\n",
    "                # check susie CS overlapping status\n",
    "                if (length(susie_cs) > 0) {\n",
    "                for (i in 1:length(susie_cs)) {\n",
    "                  for (j in 1:i) {\n",
    "                      if (i == j) next\n",
    "                      status = intersect(susie_cs[[i]], susie_cs[[j]])\n",
    "                      if (length(status)>0) {\n",
    "                          if (is.null(overlap_cs[[as.character(s)]])) overlap_cs[[as.character(s)]] = c(d, r, length(susie_cs[[i]]), length(susie_cs[[j]]), length(status))\n",
    "                          else overlap_cs[[as.character(s)]] = rbind(overlap_cs[[as.character(s)]], c(d, r, length(susie_cs[[i]]), length(susie_cs[[j]]), length(status)))\n",
    "                      }\n",
    "                    }\n",
    "                  }\n",
    "                }\n",
    "                print(paste('==============', s, '=============='))\n",
    "                print(susie_cs)\n",
    "                susie_tc = susie_tc + length(susie_cs)\n",
    "                # DAP in cluster\n",
    "                dap_cluster_raw = dap[[as.character(r-1)]]$set[which(dap[[as.character(r-1)]]$set$${_dap_cluster_cutoff[0]} > ${_dap_cluster_cutoff[1]}), ]\n",
    "                dap_cluster_ld = dap_cluster_raw$cluster_avg_r2\n",
    "                dap_cluster_raw = dap_cluster_raw$snp\n",
    "                dap_cluster = list()\n",
    "                if (length(dap_cluster_raw) > 0) {\n",
    "                    for (i in 1:length(dap_cluster_raw)) {\n",
    "                      dap_cluster[[i]] = as.integer(unlist(strsplit(dap_cluster_raw[i], \",\")))\n",
    "                      if (any(signals %in% dap_cluster[[i]])) {\n",
    "                          dap_size = dap_size + length(dap_cluster[[i]])\n",
    "                          dap_sizes = c(dap_sizes, length(dap_cluster[[i]]))\n",
    "                          dap_avg_ld = c(dap_avg_ld, sqrt(dap_cluster_ld[i]))\n",
    "                          dap_tdc = dap_tdc + 1\n",
    "                          dap_dc = dap_dc + 1\n",
    "                      }\n",
    "                    }\n",
    "                    dap_signals = dap_signals + sum(signals %in% unique(unlist(dap_cluster)))\n",
    "                }\n",
    "                print(dap_cluster)\n",
    "                dap_tc = dap_tc + length(dap_cluster)\n",
    "                ## BEGIN debug\n",
    "                ## susie made more true discovery than DAP\n",
    "                if (susie_dc > dap_dc) {\n",
    "                  print('DAP miss')\n",
    "                  print(dap[[as.character(r-1)]]$set)\n",
    "                  print(d)\n",
    "                  print(r)\n",
    "                  print(dap_files)\n",
    "                }\n",
    "                ## DAP made false discovery, susie did not\n",
    "                ## under n = 1\n",
    "                if (length(dap_cluster) > dap_dc && s == 1) {\n",
    "                  print('DAP false discovery')\n",
    "                  print(dap[[as.character(r-1)]]$set)\n",
    "                  print(d)\n",
    "                  print(r)\n",
    "                  print(dap_files)\n",
    "                }\n",
    "                ## SuSiE made false discovery\n",
    "                ## under n = 3\n",
    "                if (length(susie_cs) > susie_dc && s == 3) {\n",
    "                  print('SuSiE false discovery in data ...')\n",
    "                  print(d)\n",
    "                  print(r)\n",
    "                  print(length(susie_cs))\n",
    "                  print(susie_dc)\n",
    "                  print(susie_files)\n",
    "                }  \n",
    "                ## END debug\n",
    "                susie_dc = 0\n",
    "                dap_dc = 0\n",
    "            }\n",
    "        }\n",
    "        rates = c(s, s*n_experiments, susie_tc, dap_tc, susie_signals/s/n_experiments, dap_signals/s/n_experiments, susie_tdc/susie_tc, dap_tdc/dap_tc, susie_size / susie_tdc, dap_size / dap_tdc, median(susie_sizes), median(dap_sizes), mean(susie_avg_ld,na.rm=T), mean(dap_avg_ld))\n",
    "        if (is.null(result)) {\n",
    "          result = rates\n",
    "        } else {\n",
    "          result = rbind(result, rates)\n",
    "        }\n",
    "    }\n",
    "    headers = c('n_signal', 'expected_discoveries', 'susie_discoveries', 'dap_discoveries', 'susie_power', 'dap_power', 'susie_coverage', 'dap_coverage', 'susie_avg_size', 'dap_avg_size', 'susie_median_size', 'dap_median_size', 'susie_avg_ld', 'dap_avg_ld')\n",
    "    result = matrix(result, length(n_signals), length(headers))\n",
    "    colnames(result) = headers\n",
    "    rownames(result) = as.character(result[,1])\n",
    "    saveRDS(data.frame(result), ${_output:r})\n",
    "    saveRDS(overlap_cs, \"${_output:n}.overlap_status.rds\")"
   ]
  },
  {
   "cell_type": "markdown",
   "metadata": {
    "kernel": "SoS"
   },
   "source": [
    "## Power comparison, susie VS DAP, for ~8K region"
   ]
  },
  {
   "cell_type": "code",
   "execution_count": 1,
   "metadata": {
    "kernel": "SoS"
   },
   "outputs": [
    {
     "name": "stdout",
     "output_type": "stream",
     "text": [
      "/project/mstephens/SuSiE/mvarbvs/dsc"
     ]
    }
   ],
   "source": [
    "%cd ~/GIT/github/mvarbvs/dsc"
   ]
  },
  {
   "cell_type": "code",
   "execution_count": 3,
   "metadata": {
    "kernel": "R"
   },
   "outputs": [
    {
     "data": {
      "text/html": [
       "<table>\n",
       "<thead><tr><th></th><th scope=col>n_signal</th><th scope=col>expected_discoveries</th><th scope=col>susie_discoveries</th><th scope=col>dap_discoveries</th><th scope=col>susie_power</th><th scope=col>dap_power</th><th scope=col>susie_coverage</th><th scope=col>dap_coverage</th><th scope=col>susie_avg_size</th><th scope=col>dap_avg_size</th><th scope=col>susie_median_size</th><th scope=col>dap_median_size</th><th scope=col>susie_avg_ld</th><th scope=col>dap_avg_ld</th></tr></thead>\n",
       "<tbody>\n",
       "\t<tr><th scope=row>10</th><td>10       </td><td>3000     </td><td>945      </td><td>848      </td><td>0.2796667</td><td>0.2406667</td><td>0.8740741</td><td>0.8419811</td><td>23.75908 </td><td>12.77871 </td><td>7        </td><td>10       </td><td>0.9390865</td><td>0.8983109</td></tr>\n",
       "</tbody>\n",
       "</table>\n"
      ],
      "text/latex": [
       "\\begin{tabular}{r|llllllllllllll}\n",
       "  & n\\_signal & expected\\_discoveries & susie\\_discoveries & dap\\_discoveries & susie\\_power & dap\\_power & susie\\_coverage & dap\\_coverage & susie\\_avg\\_size & dap\\_avg\\_size & susie\\_median\\_size & dap\\_median\\_size & susie\\_avg\\_ld & dap\\_avg\\_ld\\\\\n",
       "\\hline\n",
       "\t10 & 10        & 3000      & 945       & 848       & 0.2796667 & 0.2406667 & 0.8740741 & 0.8419811 & 23.75908  & 12.77871  & 7         & 10        & 0.9390865 & 0.8983109\\\\\n",
       "\\end{tabular}\n"
      ],
      "text/markdown": [
       "\n",
       "| <!--/--> | n_signal | expected_discoveries | susie_discoveries | dap_discoveries | susie_power | dap_power | susie_coverage | dap_coverage | susie_avg_size | dap_avg_size | susie_median_size | dap_median_size | susie_avg_ld | dap_avg_ld | \n",
       "|---|\n",
       "| 10 | 10        | 3000      | 945       | 848       | 0.2796667 | 0.2406667 | 0.8740741 | 0.8419811 | 23.75908  | 12.77871  | 7         | 10        | 0.9390865 | 0.8983109 | \n",
       "\n",
       "\n"
      ],
      "text/plain": [
       "   n_signal expected_discoveries susie_discoveries dap_discoveries susie_power\n",
       "10 10       3000                 945               848             0.2796667  \n",
       "   dap_power susie_coverage dap_coverage susie_avg_size dap_avg_size\n",
       "10 0.2406667 0.8740741      0.8419811    23.75908       12.77871    \n",
       "   susie_median_size dap_median_size susie_avg_ld dap_avg_ld\n",
       "10 7                 10              0.9390865    0.8983109 "
      ]
     },
     "metadata": {},
     "output_type": "display_data"
    }
   ],
   "source": [
    "readRDS('hard_case/DAP_comparison_0801_cluster_prob_estvar_true.rds')"
   ]
  },
  {
   "cell_type": "code",
   "execution_count": 4,
   "metadata": {
    "kernel": "R"
   },
   "outputs": [
    {
     "data": {
      "text/html": [
       "<table>\n",
       "<thead><tr><th></th><th scope=col>n_signal</th><th scope=col>expected_discoveries</th><th scope=col>susie_discoveries</th><th scope=col>dap_discoveries</th><th scope=col>susie_power</th><th scope=col>dap_power</th><th scope=col>susie_coverage</th><th scope=col>dap_coverage</th><th scope=col>susie_avg_size</th><th scope=col>dap_avg_size</th><th scope=col>susie_median_size</th><th scope=col>dap_median_size</th><th scope=col>susie_avg_ld</th><th scope=col>dap_avg_ld</th></tr></thead>\n",
       "<tbody>\n",
       "\t<tr><th scope=row>10</th><td>10       </td><td>3000     </td><td>779      </td><td>848      </td><td>0.2466667</td><td>0.2406667</td><td>0.9268293</td><td>0.8419811</td><td>27.34903 </td><td>12.77871 </td><td>9.5      </td><td>10       </td><td>0.9319639</td><td>0.8983109</td></tr>\n",
       "</tbody>\n",
       "</table>\n"
      ],
      "text/latex": [
       "\\begin{tabular}{r|llllllllllllll}\n",
       "  & n\\_signal & expected\\_discoveries & susie\\_discoveries & dap\\_discoveries & susie\\_power & dap\\_power & susie\\_coverage & dap\\_coverage & susie\\_avg\\_size & dap\\_avg\\_size & susie\\_median\\_size & dap\\_median\\_size & susie\\_avg\\_ld & dap\\_avg\\_ld\\\\\n",
       "\\hline\n",
       "\t10 & 10        & 3000      & 779       & 848       & 0.2466667 & 0.2406667 & 0.9268293 & 0.8419811 & 27.34903  & 12.77871  & 9.5       & 10        & 0.9319639 & 0.8983109\\\\\n",
       "\\end{tabular}\n"
      ],
      "text/markdown": [
       "\n",
       "| <!--/--> | n_signal | expected_discoveries | susie_discoveries | dap_discoveries | susie_power | dap_power | susie_coverage | dap_coverage | susie_avg_size | dap_avg_size | susie_median_size | dap_median_size | susie_avg_ld | dap_avg_ld | \n",
       "|---|\n",
       "| 10 | 10        | 3000      | 779       | 848       | 0.2466667 | 0.2406667 | 0.9268293 | 0.8419811 | 27.34903  | 12.77871  | 9.5       | 10        | 0.9319639 | 0.8983109 | \n",
       "\n",
       "\n"
      ],
      "text/plain": [
       "   n_signal expected_discoveries susie_discoveries dap_discoveries susie_power\n",
       "10 10       3000                 779               848             0.2466667  \n",
       "   dap_power susie_coverage dap_coverage susie_avg_size dap_avg_size\n",
       "10 0.2406667 0.9268293      0.8419811    27.34903       12.77871    \n",
       "   susie_median_size dap_median_size susie_avg_ld dap_avg_ld\n",
       "10 9.5               10              0.9319639    0.8983109 "
      ]
     },
     "metadata": {},
     "output_type": "display_data"
    }
   ],
   "source": [
    "readRDS('hard_case/DAP_comparison_0801_cluster_prob_estvar_false.rds')"
   ]
  }
 ],
 "metadata": {
  "kernelspec": {
   "display_name": "SoS",
   "language": "sos",
   "name": "sos"
  },
  "language_info": {
   "codemirror_mode": "sos",
   "file_extension": ".sos",
   "mimetype": "text/x-sos",
   "name": "sos",
   "nbconvert_exporter": "sos_notebook.converter.SoS_Exporter",
   "pygments_lexer": "sos"
  },
  "sos": {
   "default_kernel": "SoS",
   "kernels": [
    [
     "R",
     "ir",
     "R",
     "#DCDCDA"
    ],
    [
     "SoS",
     "sos",
     "",
     ""
    ]
   ],
   "panel": {
    "displayed": false,
    "height": 0,
    "style": "side"
   },
   "version": "0.17.2"
  }
 },
 "nbformat": 4,
 "nbformat_minor": 2
}
