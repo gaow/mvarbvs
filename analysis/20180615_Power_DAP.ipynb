{
 "cells": [
  {
   "cell_type": "markdown",
   "metadata": {
    "kernel": "SoS"
   },
   "source": [
    "# Workflow to extract info for power comparison with DAP for a hard case"
   ]
  },
  {
   "cell_type": "code",
   "execution_count": 1,
   "metadata": {
    "kernel": "SoS"
   },
   "outputs": [],
   "source": [
    "%revisions -s"
   ]
  },
  {
   "cell_type": "markdown",
   "metadata": {
    "kernel": "SoS"
   },
   "source": [
    "Previously I've ran this specific DSC using:\n",
    "\n",
    "```\n",
    "dsc susie.dsc --target hard_case -o hard_case\n",
    "```\n",
    "\n",
    "So here I query from that result for DAP power. Again the settings:\n",
    "\n",
    "- PVE 0.3\n",
    "- 10 causal\n",
    "- ~8K SNPs (all cis-SNPs of potential interest)\n",
    "\n",
    "susie parameters:\n",
    "\n",
    "- prior 0.1, which is an unfavorable overestimate\n",
    "- L = 10\n",
    "\n",
    "DAP parameters are default."
   ]
  },
  {
   "cell_type": "code",
   "execution_count": 2,
   "metadata": {
    "kernel": "SoS"
   },
   "outputs": [],
   "source": [
    "[global]\n",
    "cwd = path('~/GIT/github/mvarbvs/dsc')\n",
    "dirname = path(f'{cwd:a}/hard_case/')\n",
    "ld_col = 1\n",
    "\n",
    "susie_prior = 0.1\n",
    "date = '0801'"
   ]
  },
  {
   "cell_type": "markdown",
   "metadata": {
    "kernel": "SoS"
   },
   "source": [
    "## The workflow"
   ]
  },
  {
   "cell_type": "code",
   "execution_count": 3,
   "metadata": {
    "kernel": "SoS"
   },
   "outputs": [],
   "source": [
    "[power_1]\n",
    "output: f'{dirname}/DAP_comparison_{date}.rds'\n",
    "R: expand = '${ }', workdir = cwd\n",
    "    dap_out = dscrutils::dscquery(${dirname:br},\n",
    "                        target = \"full_data.dataset full_data lm_less03 lm_less03.pve lm_less03.n_signal fit_dap plot_dap\",\n",
    "                             load.pkl = TRUE)\n",
    "    susie_out = dscrutils::dscquery(${dirname:br},\n",
    "                        target = \"full_data.dataset full_data lm_less03 lm_less03.pve lm_less03.n_signal fit_susie10.prior_var fit_susie10.estimate_residual_variance fit_susie10 plot_susie\",\n",
    "                             load.pkl = TRUE)\n",
    "    saveRDS(list(dap=dap_out, susie=susie_out), ${_output:r})"
   ]
  },
  {
   "cell_type": "code",
   "execution_count": 5,
   "metadata": {
    "kernel": "SoS"
   },
   "outputs": [],
   "source": [
    "[power_2]\n",
    "# Power analysis\n",
    "ld_avg_col = 2\n",
    "ld_cutoff = 0.25\n",
    "est_var = ['FALSE', 'TRUE']\n",
    "# to match with susie 95% mappable CS, we set dap cutoff to 0.95 also\n",
    "dap_cluster_cutoff = [('cluster_prob', 0.95), ('cluster_avg_r2', 0.25)]\n",
    "input: for_each = ['dap_cluster_cutoff', 'est_var'], group_by = 1, concurrent = True\n",
    "output: f'{dirname}/{_input:bn}_{_dap_cluster_cutoff[0]}_estvar_{_est_var.lower()}.rds'\n",
    "R: stdout = f'{_output:n}.log', expand = '${ }', workdir = cwd\n",
    "    ld_col = ${ld_col}\n",
    "    ld_cutoff = ${ld_cutoff}\n",
    "    dat = readRDS(${_input:r})\n",
    "    dap_out = dat$dap\n",
    "    susie_out = dat$susie\n",
    "    # favorit susie flavor\n",
    "    susie_out = susie_out[which(susie_out$fit_susie10.prior_var == ${susie_prior} & susie_out$fit_susie10.estimate_residual_variance == ${_est_var}), ]\n",
    "    susie_out = subset(susie_out, select =-c(lm_less03.pve, fit_susie10.prior_var, fit_susie10.estimate_residual_variance))\n",
    "    data_sets = unique(susie_out$full_data.dataset)\n",
    "    n_signals = unique(susie_out$lm_less03.n_signal)\n",
    "    n_r = 2\n",
    "    n_experiments = n_r * length(data_sets)\n",
    "    result = NULL\n",
    "    for (s in n_signals) {\n",
    "        susie_signals = 0\n",
    "        dap_signals = 0\n",
    "        susie_avg_ld = 0\n",
    "        dap_avg_ld = 0\n",
    "        susie_size = 0\n",
    "        dap_size = 0\n",
    "        # fixme: I cannot find a good median tracker so do it stupid way\n",
    "        susie_sizes = vector()\n",
    "        dap_sizes = vector()\n",
    "        susie_tdc = 0\n",
    "        dap_tdc = 0\n",
    "        susie_dc = 0\n",
    "        dap_dc = 0\n",
    "        susie_tc = 0\n",
    "        dap_tc = 0\n",
    "        for (d in data_sets) {\n",
    "            out_files = susie_out[which(susie_out$lm_less03.n_signal == s & susie_out$full_data.dataset == d), c(\"fit_susie10.output.file\", \"plot_susie.output.file\", \"lm_less03.output.file\")]\n",
    "            fit = readRDS(paste0(${dirname:r}, '/', out_files[1,1], '.rds'))$posterior\n",
    "            purity = readRDS(paste0(${dirname:r}, '/', out_files[1,2], '.rds'))\n",
    "            truth = readRDS(paste0(${dirname:r}, '/', out_files[1,3], '.rds'))$data$true_coef\n",
    "            for (r in 1:n_r) {\n",
    "                signals = which(truth[,r]!=0)\n",
    "                # susie in CS\n",
    "                susie_cs = fit$in_CI[[r]]\n",
    "                susie_cs_raw = susie_cs[which(purity$purity[[paste0('V',r)]][,ld_col] > ld_cutoff),,drop=FALSE]\n",
    "                cs_purity = purity$purity[[paste0('V',r)]][which(purity$purity[[paste0('V',r)]][,ld_col] > ld_cutoff),,drop=FALSE]\n",
    "                susie_cs = list()\n",
    "                if (nrow(susie_cs_raw) > 0) {\n",
    "                    for (i in 1:nrow(susie_cs_raw)) {\n",
    "                      susie_cs[[i]] = which(susie_cs_raw[i,] > 0)\n",
    "                      if (length(susie_cs[[i]]) == 0) {\n",
    "                          susie_tc = susie_tc - 1\n",
    "                          next\n",
    "                      }\n",
    "                      if (any(signals %in% susie_cs[[i]])) {\n",
    "                          susie_tdc = susie_tdc + 1\n",
    "                          susie_size = susie_size + length(susie_cs[[i]])\n",
    "                          susie_sizes = c(susie_sizes, length(susie_cs[[i]]))\n",
    "                          susie_avg_ld = susie_avg_ld + cs_purity[i,${ld_avg_col}]^2\n",
    "                          susie_dc = susie_dc + 1\n",
    "                      }\n",
    "                    }\n",
    "                    susie_signals = susie_signals + sum(signals %in% unique(unlist(susie_cs)))\n",
    "                }\n",
    "                print(paste('==============', s, '=============='))\n",
    "                print(susie_cs)\n",
    "                susie_tc = susie_tc + length(susie_cs)\n",
    "                # DAP in cluster\n",
    "                out_files = dap_out[which(dap_out$lm_less03.n_signal == s & dap_out$full_data.dataset == d),c(\"fit_dap.output.file\"),drop=FALSE]\n",
    "                dap = readRDS(paste0(${dirname:r}, '/', out_files[1,1], '.rds'))$posterior\n",
    "                dap_cluster_raw = dap[[paste0('V', r-1)]]$set[which(dap[[paste0('V', r-1)]]$set$${_dap_cluster_cutoff[0]} > ${_dap_cluster_cutoff[1]}), ]\n",
    "                dap_cluster_ld = dap_cluster_raw$cluster_avg_r2\n",
    "                dap_cluster_raw = dap_cluster_raw$snp\n",
    "                dap_cluster = list()\n",
    "                if (length(dap_cluster_raw) > 0) {\n",
    "                    for (i in 1:length(dap_cluster_raw)) {\n",
    "                      dap_cluster[[i]] = as.integer(unlist(strsplit(dap_cluster_raw[i], \",\")))\n",
    "                      if (any(signals %in% dap_cluster[[i]])) {\n",
    "                          dap_size = dap_size + length(dap_cluster[[i]])\n",
    "                          dap_sizes = c(dap_sizes, length(dap_cluster[[i]]))\n",
    "                          dap_avg_ld = dap_avg_ld + dap_cluster_ld[i]\n",
    "                          dap_tdc = dap_tdc + 1\n",
    "                          dap_dc = dap_dc + 1\n",
    "                      }\n",
    "                    }\n",
    "                    dap_signals = dap_signals + sum(signals %in% unique(unlist(dap_cluster)))\n",
    "                }\n",
    "                print(dap_cluster)\n",
    "                dap_tc = dap_tc + length(dap_cluster)\n",
    "                ## BEGIN debug\n",
    "                ## susie made more true discovery than DAP\n",
    "                if (susie_dc > dap_dc) {\n",
    "                  print('DAP miss')\n",
    "                  print(dap[[paste0('V', r-1)]]$set)\n",
    "                  print(d)\n",
    "                }\n",
    "                ## DAP made some (false) discovery, susie did not\n",
    "                ## under n = 1\n",
    "                if (length(dap_cluster) > dap_dc && s == 1) {\n",
    "                  print('DAP false discovery')\n",
    "                  print(dap[[paste0('V', r-1)]]$set)\n",
    "                  print(d)  \n",
    "                }\n",
    "                ## END debug\n",
    "                susie_dc = 0\n",
    "                dap_dc = 0\n",
    "            }\n",
    "        }\n",
    "        rates = c(s, s*n_experiments, susie_tc, dap_tc, susie_signals/s/n_experiments, dap_signals/s/n_experiments, 1 - (susie_tdc/susie_tc), 1 - (dap_tdc/dap_tc), susie_size / susie_tdc, dap_size / dap_tdc, median(susie_sizes), median(dap_sizes), susie_avg_ld / susie_tdc, dap_avg_ld / dap_tdc)\n",
    "        if (is.null(result)) {\n",
    "          result = rates\n",
    "        } else {\n",
    "          result = rbind(result, rates)\n",
    "        }\n",
    "    }\n",
    "    result = matrix(result, byrow=T, nrow=1)\n",
    "    colnames(result) = c('n_signal', 'expected_discoveries', 'susie_discoveries', 'dap_discoveries', 'susie_power', 'dap_power', 'susie_fdp', 'dap_fdp', 'susie_avg_size', 'dap_avg_size', 'susie_median_size', 'dap_median_size', 'susie_avg_ld', 'dap_avg_ld')\n",
    "    rownames(result) = as.character(result[,1])\n",
    "    saveRDS(data.frame(result), ${_output:r})"
   ]
  },
  {
   "cell_type": "markdown",
   "metadata": {
    "kernel": "SoS"
   },
   "source": [
    "## Power comparison, susie VS DAP, for ~8K region"
   ]
  },
  {
   "cell_type": "code",
   "execution_count": 2,
   "metadata": {
    "kernel": "SoS"
   },
   "outputs": [
    {
     "name": "stdout",
     "output_type": "stream",
     "text": [
      "/home/gaow/GIT/github/mvarbvs/dsc"
     ]
    }
   ],
   "source": [
    "%cd ~/GIT/github/mvarbvs/dsc"
   ]
  },
  {
   "cell_type": "code",
   "execution_count": 4,
   "metadata": {
    "kernel": "R"
   },
   "outputs": [
    {
     "data": {
      "text/html": [
       "<table>\n",
       "<thead><tr><th></th><th scope=col>n_signal</th><th scope=col>expected_discoveries</th><th scope=col>susie_discoveries</th><th scope=col>dap_discoveries</th><th scope=col>susie_power</th><th scope=col>dap_power</th><th scope=col>susie_fdp</th><th scope=col>dap_fdp</th><th scope=col>susie_avg_size</th><th scope=col>dap_avg_size</th><th scope=col>susie_median_size</th><th scope=col>dap_median_size</th><th scope=col>susie_avg_ld</th><th scope=col>dap_avg_ld</th></tr></thead>\n",
       "<tbody>\n",
       "\t<tr><th scope=row>10</th><td>10        </td><td>2000      </td><td>602       </td><td>557       </td><td>0.2775    </td><td>0.248     </td><td>0.08803987</td><td>0.1202873 </td><td>21.09472  </td><td>13.09184  </td><td>9         </td><td>11        </td><td>0.9243739 </td><td>0.895302  </td></tr>\n",
       "</tbody>\n",
       "</table>\n"
      ],
      "text/latex": [
       "\\begin{tabular}{r|llllllllllllll}\n",
       "  & n\\_signal & expected\\_discoveries & susie\\_discoveries & dap\\_discoveries & susie\\_power & dap\\_power & susie\\_fdp & dap\\_fdp & susie\\_avg\\_size & dap\\_avg\\_size & susie\\_median\\_size & dap\\_median\\_size & susie\\_avg\\_ld & dap\\_avg\\_ld\\\\\n",
       "\\hline\n",
       "\t10 & 10         & 2000       & 602        & 557        & 0.2775     & 0.248      & 0.08803987 & 0.1202873  & 21.09472   & 13.09184   & 9          & 11         & 0.9243739  & 0.895302  \\\\\n",
       "\\end{tabular}\n"
      ],
      "text/markdown": [
       "\n",
       "| <!--/--> | n_signal | expected_discoveries | susie_discoveries | dap_discoveries | susie_power | dap_power | susie_fdp | dap_fdp | susie_avg_size | dap_avg_size | susie_median_size | dap_median_size | susie_avg_ld | dap_avg_ld | \n",
       "|---|\n",
       "| 10 | 10         | 2000       | 602        | 557        | 0.2775     | 0.248      | 0.08803987 | 0.1202873  | 21.09472   | 13.09184   | 9          | 11         | 0.9243739  | 0.895302   | \n",
       "\n",
       "\n"
      ],
      "text/plain": [
       "   n_signal expected_discoveries susie_discoveries dap_discoveries susie_power\n",
       "10 10       2000                 602               557             0.2775     \n",
       "   dap_power susie_fdp  dap_fdp   susie_avg_size dap_avg_size susie_median_size\n",
       "10 0.248     0.08803987 0.1202873 21.09472       13.09184     9                \n",
       "   dap_median_size susie_avg_ld dap_avg_ld\n",
       "10 11              0.9243739    0.895302  "
      ]
     },
     "metadata": {},
     "output_type": "display_data"
    }
   ],
   "source": [
    "readRDS('hard_case/DAP_comparison_0615_cluster_prob_estvar_true.rds')"
   ]
  },
  {
   "cell_type": "code",
   "execution_count": 5,
   "metadata": {
    "kernel": "R"
   },
   "outputs": [
    {
     "data": {
      "text/html": [
       "<table>\n",
       "<thead><tr><th></th><th scope=col>n_signal</th><th scope=col>expected_discoveries</th><th scope=col>susie_discoveries</th><th scope=col>dap_discoveries</th><th scope=col>susie_power</th><th scope=col>dap_power</th><th scope=col>susie_fdp</th><th scope=col>dap_fdp</th><th scope=col>susie_avg_size</th><th scope=col>dap_avg_size</th><th scope=col>susie_median_size</th><th scope=col>dap_median_size</th><th scope=col>susie_avg_ld</th><th scope=col>dap_avg_ld</th></tr></thead>\n",
       "<tbody>\n",
       "\t<tr><th scope=row>10</th><td>10        </td><td>2000      </td><td>484       </td><td>557       </td><td>0.238     </td><td>0.248     </td><td>0.03512397</td><td>0.1202873 </td><td>23.56959  </td><td>13.09184  </td><td>11        </td><td>11        </td><td>0.9163804 </td><td>0.895302  </td></tr>\n",
       "</tbody>\n",
       "</table>\n"
      ],
      "text/latex": [
       "\\begin{tabular}{r|llllllllllllll}\n",
       "  & n\\_signal & expected\\_discoveries & susie\\_discoveries & dap\\_discoveries & susie\\_power & dap\\_power & susie\\_fdp & dap\\_fdp & susie\\_avg\\_size & dap\\_avg\\_size & susie\\_median\\_size & dap\\_median\\_size & susie\\_avg\\_ld & dap\\_avg\\_ld\\\\\n",
       "\\hline\n",
       "\t10 & 10         & 2000       & 484        & 557        & 0.238      & 0.248      & 0.03512397 & 0.1202873  & 23.56959   & 13.09184   & 11         & 11         & 0.9163804  & 0.895302  \\\\\n",
       "\\end{tabular}\n"
      ],
      "text/markdown": [
       "\n",
       "| <!--/--> | n_signal | expected_discoveries | susie_discoveries | dap_discoveries | susie_power | dap_power | susie_fdp | dap_fdp | susie_avg_size | dap_avg_size | susie_median_size | dap_median_size | susie_avg_ld | dap_avg_ld | \n",
       "|---|\n",
       "| 10 | 10         | 2000       | 484        | 557        | 0.238      | 0.248      | 0.03512397 | 0.1202873  | 23.56959   | 13.09184   | 11         | 11         | 0.9163804  | 0.895302   | \n",
       "\n",
       "\n"
      ],
      "text/plain": [
       "   n_signal expected_discoveries susie_discoveries dap_discoveries susie_power\n",
       "10 10       2000                 484               557             0.238      \n",
       "   dap_power susie_fdp  dap_fdp   susie_avg_size dap_avg_size susie_median_size\n",
       "10 0.248     0.03512397 0.1202873 23.56959       13.09184     11               \n",
       "   dap_median_size susie_avg_ld dap_avg_ld\n",
       "10 11              0.9163804    0.895302  "
      ]
     },
     "metadata": {},
     "output_type": "display_data"
    }
   ],
   "source": [
    "readRDS('hard_case/DAP_comparison_0615_cluster_prob_estvar_false.rds')"
   ]
  }
 ],
 "metadata": {
  "kernelspec": {
   "display_name": "SoS",
   "language": "sos",
   "name": "sos"
  },
  "language_info": {
   "codemirror_mode": "sos",
   "file_extension": ".sos",
   "mimetype": "text/x-sos",
   "name": "sos",
   "nbconvert_exporter": "sos_notebook.converter.SoS_Exporter",
   "pygments_lexer": "sos"
  },
  "sos": {
   "default_kernel": "SoS",
   "kernels": [
    [
     "R",
     "ir",
     "R",
     "#DCDCDA"
    ],
    [
     "SoS",
     "sos",
     "",
     ""
    ]
   ],
   "panel": {
    "displayed": false,
    "height": 0,
    "style": "side"
   },
   "version": "0.9.14.1"
  }
 },
 "nbformat": 4,
 "nbformat_minor": 2
}
