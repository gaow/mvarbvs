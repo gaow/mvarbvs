{
 "cells": [
  {
   "cell_type": "markdown",
   "metadata": {},
   "source": [
    "# Fine mapping on FMO2 data in GTEx\n",
    "\n",
    "This is an update and combined version of [m&m](20180415_MNMASH_FMO2.html) and [susie](20180416_SingleCondition_FMO2.html) on multi-tissue fine mapping.\n",
    "\n",
    "Major updates:\n",
    "\n",
    "- Fixed lfsr computation: now lfsr is defined as how \"mappable\" are the SNP sets identified by the $l$-th fit.\n",
    "- In addition to a modified version of effect-level plots (posterior mean plot similar to the ones shown before), we summarize for each $l$:\n",
    "  - The size of 95% HPD interval\n",
    "  - The purity of it (defined by the smallest pair-wise LD)\n",
    "  - The minimum lfsr across conditions\n",
    "  \n",
    "  we expect to see high correlation between small size, high purity and low lfsr."
   ]
  },
  {
   "cell_type": "markdown",
   "metadata": {},
   "source": [
    "## The DSC prototype\n",
    "\n",
    "As previously explained we use DSC for prototyping of these methods"
   ]
  },
  {
   "cell_type": "code",
   "execution_count": 1,
   "metadata": {},
   "outputs": [
    {
     "name": "stdout",
     "output_type": "stream",
     "text": [
      "/home/gaow/Documents/GIT/github/mvarbvs/src/model_dsc"
     ]
    }
   ],
   "source": [
    "%cd ../src/model_dsc"
   ]
  },
  {
   "cell_type": "code",
   "execution_count": 2,
   "metadata": {
    "kernel": "Bash"
   },
   "outputs": [
    {
     "name": "stdout",
     "output_type": "stream",
     "text": [
      "\n",
      "INFO: \u001b[32mMODULES\u001b[0m\n",
      "+------------+---------------------+--------------------------------+-------------------+------+\n",
      "|            |      parameters     |             input              |       output      | type |\n",
      "+------------+---------------------+--------------------------------+-------------------+------+\n",
      "|  get_data  |      data_file      |                                |        data       |  R   |\n",
      "| original_Y |                     |              data              |        data       |  PY  |\n",
      "|  init_mnm  | Sigma, (U, grid, p) |              data              |    data, model    |  R   |\n",
      "|  fit_mnm   |      maxL, maxI     |          data, model           | fitted, posterior |  R   |\n",
      "| fit_varbvs |    sa, maxL, maxI   |              data              | posterior, fitted |  R   |\n",
      "|  diagnose  |                     | data, model, fitted, posterior |     diagnosed     |  R   |\n",
      "| fit_susie  |    sa, maxL, maxI   |              data              | posterior, fitted |  R   |\n",
      "+------------+---------------------+--------------------------------+-------------------+------+\n",
      "\n",
      "INFO: \u001b[32mPIPELINES\u001b[0m\n",
      "first_pass: get_data -> get_Y -> init -> fit -> diagnose\n",
      "\n",
      "INFO: \u001b[32mPIPELINES EXPANDED\u001b[0m\n",
      "1: get_data -> original_Y -> init_mnm -> fit_mnm -> diagnose\n",
      "2: get_data -> original_Y -> init_mnm -> fit_susie -> diagnose\n",
      "3: get_data -> original_Y -> init_mnm -> fit_varbvs -> diagnose\n",
      "\n"
     ]
    }
   ],
   "source": [
    "./model.dsc -h"
   ]
  },
  {
   "cell_type": "markdown",
   "metadata": {},
   "source": [
    "As a first pass I extracted data for FMO2 on Thyroid and Lung. I use a maximum of 5 effects and 10 iterations of variational updates:"
   ]
  },
  {
   "cell_type": "code",
   "execution_count": 3,
   "metadata": {
    "kernel": "Bash"
   },
   "outputs": [
    {
     "name": "stdout",
     "output_type": "stream",
     "text": [
      "\u001b[1;32mINFO: Checking R library mashr ...\u001b[0m\n",
      "\u001b[1;32mINFO: Checking R library abind ...\u001b[0m\n",
      "\u001b[1;32mINFO: Checking R library varbvs@pcarbo/varbvs/varbvs-R ...\u001b[0m\n",
      "\u001b[1;32mINFO: Checking R library susieR@stephenslab/susieR ...\u001b[0m\n",
      "\u001b[1;32mINFO: Checking R library dscrutils@stephenslab/dsc/dscrutils ...\u001b[0m\n",
      "Downloading GitHub repo stephenslab/dsc@master\n",
      "from URL https://api.github.com/repos/stephenslab/dsc/zipball/master\n",
      "Installing dscrutils\n",
      "'/usr/lib/R/bin/R' --no-site-file --no-environ --no-save --no-restore --quiet  \\\n",
      "  CMD INSTALL  \\\n",
      "  '/tmp/Rtmpcofya8/devtools2bee1e057a13/stephenslab-dsc-0564d6e/dscrutils'  \\\n",
      "  --library='/home/gaow/R/x86_64-pc-linux-gnu-library/3.4' --install-tests \n",
      "\n",
      "* installing *source* package ‘dscrutils’ ...\n",
      "** R\n",
      "** inst\n",
      "** tests\n",
      "** preparing package for lazy loading\n",
      "** help\n",
      "*** installing help indices\n",
      "** building package indices\n",
      "** testing if installed package can be loaded\n",
      "* DONE (dscrutils)\n",
      "Reloading installed dscrutils\n",
      "INFO: DSC script exported to \u001b[32mmnm_model.html\u001b[0m\n",
      "INFO: Constructing DSC from \u001b[32m./model.dsc\u001b[0m ...\n",
      "INFO: Building execution graph & running DSC ...\n",
      "DSC: 100%|██████████████████████████████████████| 10/10 [00:03<00:00,  3.74it/s]\n",
      "INFO: Building DSC database ...\n",
      "INFO: DSC complete!\n",
      "INFO: Elapsed time \u001b[32m13.670\u001b[0m seconds.\n"
     ]
    }
   ],
   "source": [
    "./model.dsc"
   ]
  },
  {
   "cell_type": "markdown",
   "metadata": {},
   "source": [
    "Scripts for the DSC can be found [here](20180424_mnm_model.html)."
   ]
  },
  {
   "cell_type": "markdown",
   "metadata": {},
   "source": [
    "## Plot utilities"
   ]
  },
  {
   "cell_type": "code",
   "execution_count": 4,
   "metadata": {
    "kernel": "Python3"
   },
   "outputs": [],
   "source": [
    "import seaborn as sns\n",
    "import matplotlib.pyplot as plt\n",
    "\n",
    "def plot_beta(yaxis, zaxis, ld, ci, conf):\n",
    "    xaxis = [x+1 for x in range(len(yaxis))]\n",
    "    cmap = sns.cubehelix_palette(start=2.8, rot=.1, as_cmap=True)\n",
    "    f, ax = plt.subplots(figsize=(18,5))\n",
    "    points = ax.scatter(xaxis, yaxis, c=zaxis, cmap=cmap)\n",
    "    f.colorbar(points, label=conf['zlabel'])\n",
    "    if 'CIMax' in conf:\n",
    "        for idx in range(ci[1].shape[0]):\n",
    "            if ci[0][idx] < conf['CIMax']:\n",
    "                for ii, xx in enumerate(yaxis):\n",
    "                    if ci[1][idx, ii] > 0:\n",
    "                        ax.scatter(xaxis[ii], yaxis[ii], s=80,\n",
    "                                   facecolors='none', edgecolors='#D3D3D3')\n",
    "    if 'pip_cutoff' in conf:\n",
    "        for idx, item in enumerate(zaxis):\n",
    "            if item > conf['pip_cutoff']:\n",
    "                ax.scatter(xaxis[idx], yaxis[idx], s=80, \n",
    "                           facecolors='none', edgecolors='r')\n",
    "                for ii, xx in enumerate(ld[idx,:]):\n",
    "                    if xx > conf['ld_cutoff1'] and xx < 1.0:\n",
    "                        ax.scatter(xaxis[ii], yaxis[ii], \n",
    "                                   color='y', marker='+')\n",
    "                for ii, xx in enumerate(ld[idx,:]):\n",
    "                    if xx > conf['ld_cutoff2'] and xx < 1.0:\n",
    "                        ax.scatter(xaxis[ii], yaxis[ii], \n",
    "                                   color='g', marker='x')\n",
    "    ax.set_title(conf['title'])\n",
    "    ax.set_ylabel(conf['ylabel'])\n",
    "    plt.gca()\n",
    "    plt.show()"
   ]
  },
  {
   "cell_type": "markdown",
   "metadata": {},
   "source": [
    "## Results from M&M"
   ]
  },
  {
   "cell_type": "code",
   "execution_count": 5,
   "metadata": {
    "kernel": "R"
   },
   "outputs": [],
   "source": [
    "res = readRDS('mnm_model/fit_mnm/get_data_1_original_Y_1_init_mnm_1_fit_mnm_1.rds')$posterior\n",
    "dat = readRDS('mnm_model/init_mnm/get_data_1_original_Y_1_init_mnm_1.rds')$data"
   ]
  },
  {
   "cell_type": "code",
   "execution_count": 15,
   "metadata": {
    "kernel": "R"
   },
   "outputs": [],
   "source": [
    "r2 = dat$r2"
   ]
  },
  {
   "cell_type": "code",
   "execution_count": 21,
   "metadata": {
    "kernel": "Python3"
   },
   "outputs": [],
   "source": [
    "%get r2 res --from R"
   ]
  },
  {
   "cell_type": "code",
   "execution_count": 23,
   "metadata": {
    "kernel": "Python3"
   },
   "outputs": [
    {
     "data": {
      "text/plain": [
       "array([[5.02270854e-16, 5.28579835e-13, 2.41333343e-06, 2.32107453e-10,\n",
       "        7.02121251e-05],\n",
       "       [7.10181301e-16, 1.63280769e-12, 4.89671641e-06, 4.74065873e-10,\n",
       "        1.53345627e-04],\n",
       "       [9.74334382e-16, 1.47910641e-12, 4.62195429e-06, 4.03392300e-10,\n",
       "        1.33824069e-04],\n",
       "       ...,\n",
       "       [5.23380415e-16, 5.16879272e-13, 1.94544887e-06, 2.30002450e-10,\n",
       "        6.79727553e-05],\n",
       "       [6.67798587e-16, 3.15949653e-13, 1.48179937e-06, 3.68383617e-10,\n",
       "        5.50379340e-05],\n",
       "       [5.62294006e-16, 5.23157669e-13, 1.96230912e-06, 2.30986910e-10,\n",
       "        6.93099179e-05]])"
      ]
     },
     "execution_count": 23,
     "metadata": {},
     "output_type": "execute_result"
    }
   ],
   "source": [
    "res['alpha']"
   ]
  },
  {
   "cell_type": "code",
   "execution_count": 24,
   "metadata": {
    "kernel": "Python3"
   },
   "outputs": [
    {
     "data": {
      "text/plain": [
       "[1, 4, 16, 12, 6248]"
      ]
     },
     "execution_count": 24,
     "metadata": {},
     "output_type": "execute_result"
    }
   ],
   "source": [
    "res['n_in_CI']"
   ]
  },
  {
   "cell_type": "code",
   "execution_count": 25,
   "metadata": {
    "kernel": "Python3"
   },
   "outputs": [
    {
     "data": {
      "text/plain": [
       "array([[0., 0., 0., ..., 0., 0., 0.],\n",
       "       [0., 0., 0., ..., 0., 0., 0.],\n",
       "       [0., 0., 0., ..., 0., 0., 0.],\n",
       "       [0., 0., 0., ..., 0., 0., 0.],\n",
       "       [1., 1., 1., ..., 1., 1., 1.]])"
      ]
     },
     "execution_count": 25,
     "metadata": {},
     "output_type": "execute_result"
    }
   ],
   "source": [
    "res['in_CI']"
   ]
  },
  {
   "cell_type": "code",
   "execution_count": 26,
   "metadata": {
    "kernel": "Python3"
   },
   "outputs": [
    {
     "data": {
      "text/plain": [
       "array([[7.69767063e-12, 1.53965009e-07],\n",
       "       [2.84015127e-08, 1.19111949e-07],\n",
       "       [2.28957405e-02, 2.37296034e-02],\n",
       "       [4.61633617e-03, 3.63572877e-06],\n",
       "       [7.28444095e-01, 7.45542232e-01]])"
      ]
     },
     "execution_count": 26,
     "metadata": {},
     "output_type": "execute_result"
    }
   ],
   "source": [
    "res['lfsr']"
   ]
  },
  {
   "cell_type": "markdown",
   "metadata": {
    "kernel": "R"
   },
   "source": [
    "### Purity plot\n",
    "\n",
    "See beginning of this document. Here I call this type of plot the \"purity plot\"."
   ]
  },
  {
   "cell_type": "code",
   "execution_count": null,
   "metadata": {},
   "outputs": [],
   "source": []
  },
  {
   "cell_type": "markdown",
   "metadata": {},
   "source": [
    "We focus on inferred posterior mean. We plot this quantity in both Thyroid and Lung tissues, annotated by local false sign rate (lfsr) and LD structure."
   ]
  },
  {
   "cell_type": "markdown",
   "metadata": {},
   "source": [
    "### Thyroid results\n",
    "\n",
    "Top signals ($lfsr < 0.05$) are circled in red, with SNPs in LD with it ($r^2>0.1$) colored in yellow, ($r^2>0.6$) colored in green. "
   ]
  },
  {
   "cell_type": "code",
   "execution_count": null,
   "metadata": {
    "kernel": "Python3"
   },
   "outputs": [],
   "source": [
    "conf = {'title': 'FMO2, Thyroid, M&M ASH', \n",
    "        'ylabel': 'betahat', \n",
    "        'zlabel': 'PIP (1 - lfsr)',\n",
    "        'pip_cutoff': 0.95,\n",
    "        'ld_cutoff1': 0.1,\n",
    "        'ld_cutoff2': 0.6,\n",
    "        'CIMax': 50}\n",
    "plot_beta(post_mean[:,0], 1 - lfsr[:,0], r2, (n_in_CI, in_CI), conf)"
   ]
  },
  {
   "cell_type": "markdown",
   "metadata": {},
   "source": [
    "### Lung results"
   ]
  },
  {
   "cell_type": "code",
   "execution_count": null,
   "metadata": {
    "kernel": "Python3"
   },
   "outputs": [],
   "source": [
    "conf = {'title': 'FMO2, Lung, M&M ASH', \n",
    "        'ylabel': 'betahat', \n",
    "        'zlabel': 'PIP (1 - lfsr)',\n",
    "        'pip_cutoff': 0.95,\n",
    "        'ld_cutoff1': 0.1,\n",
    "        'ld_cutoff2': 0.6, \n",
    "        'CIMax': 50}\n",
    "plot_beta(post_mean[:,1], 1 - lfsr[:,1], r2, (n_in_CI, in_CI), conf)"
   ]
  }
 ],
 "metadata": {
  "kernelspec": {
   "display_name": "SoS",
   "language": "sos",
   "name": "sos"
  },
  "language_info": {
   "codemirror_mode": "sos",
   "file_extension": ".sos",
   "mimetype": "text/x-sos",
   "name": "sos",
   "nbconvert_exporter": "sos_notebook.converter.SoS_Exporter",
   "pygments_lexer": "sos"
  },
  "sos": {
   "default_kernel": "Python3",
   "kernels": [
    [
     "Bash",
     "bash",
     "Bash",
     "#E6EEFF"
    ],
    [
     "Python3",
     "python3",
     "Python3",
     "#FFE771"
    ],
    [
     "R",
     "ir",
     "R",
     "#DCDCDA"
    ]
   ],
   "panel": {
    "displayed": true,
    "height": 0,
    "style": "side"
   },
   "version": "0.9.13.2"
  }
 },
 "nbformat": 4,
 "nbformat_minor": 2
}
