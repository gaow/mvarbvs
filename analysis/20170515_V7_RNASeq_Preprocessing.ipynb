{
 "cells": [
  {
   "cell_type": "markdown",
   "metadata": {},
   "source": [
    "# GTEx V7 RNA-Seq data processing\n",
    "This notebook converts RNA-Seq data to tissue specific tables and save to HDF5 format, which can be accessed from R via `rhdf5` library."
   ]
  },
  {
   "cell_type": "markdown",
   "metadata": {},
   "source": [
    "**update**: this will later become part of the GTEx eQTL pipeline."
   ]
  },
  {
   "cell_type": "markdown",
   "metadata": {},
   "source": [
    "## Data conversion"
   ]
  },
  {
   "cell_type": "code",
   "execution_count": 1,
   "metadata": {
    "collapsed": true,
    "kernel": "python3"
   },
   "outputs": [],
   "source": [
    "import pandas as pd\n",
    "import numpy as np\n",
    "import re, os\n",
    "def load_data(fdata, fsample, dtype = np.float32):\n",
    "    '''First col of expression data is ENCODE gene name, 2nd col is HUGO name'''\n",
    "    head = pd.read_csv(fdata, skiprows = 2, sep = '\\t', nrows = 1)\n",
    "    dt = {'Description': str, 'Name': str}\n",
    "    dt.update({x: dtype for x in head.columns if x not in dt})\n",
    "    data = pd.read_csv(fdata, compression='gzip', skiprows=2, \n",
    "                       index_col=0, header=0, dtype = dt, sep='\\t').drop('Description', 1)\n",
    "    samples = pd.read_csv(fsample, dtype=str, delimiter='\\t', header=0)\n",
    "    sample_dict = {}\n",
    "    for row in samples[['SAMPID', 'SMTSD']].values:\n",
    "        if row[1] not in sample_dict:\n",
    "            sample_dict[row[1]] = []\n",
    "        if row[0] in data.columns:\n",
    "            sample_dict[row[1]].append(row[0])\n",
    "    return data, dict((re.sub(\"[\\W\\d]+\", \"_\", k.strip()).strip('_'), v) for k, v in sample_dict.items() if len(v))"
   ]
  },
  {
   "cell_type": "code",
   "execution_count": 2,
   "metadata": {
    "collapsed": true,
    "kernel": "python3"
   },
   "outputs": [],
   "source": [
    "fdata = 'data1/rna-seq/GTEx_Data_2016-01-15_v7_RNA-seq_RNA-SeQCv1.1.8_gene_reads.gct.gz'\n",
    "fsample = 'data1/sample_annotations/GTEx_Analysis_2016-01-15_v7_SampleAttributesDS.txt'\n",
    "fout = 'data1/rna-seq/GTEx_v7_RNA-seq_RNA-SeQCv1.1.8_gene_rpkm.gct.hdf5'\n",
    "data, sample = load_data(fdata, fsample, dtype = np.uint32)\n",
    "data = {k: data.loc[:, sample[k]] for k in sample}"
   ]
  },
  {
   "cell_type": "code",
   "execution_count": 3,
   "metadata": {
    "collapsed": true,
    "kernel": "python3"
   },
   "outputs": [],
   "source": [
    "if os.path.isfile(fout):\n",
    "    os.remove(fout)\n",
    "for k in data:\n",
    "    data[k].to_hdf(fout, k, mode = 'a', complevel = 9, complib = 'zlib')"
   ]
  },
  {
   "cell_type": "markdown",
   "metadata": {},
   "source": [
    "## Load / use data in R"
   ]
  },
  {
   "cell_type": "code",
   "execution_count": 4,
   "metadata": {
    "kernel": "ir",
    "scrolled": false
   },
   "outputs": [
    {
     "data": {
      "text/html": [
       "<ol class=list-inline>\n",
       "\t<li>'/Adipose_Subcutaneous'</li>\n",
       "\t<li>'/Adipose_Visceral_Omentum'</li>\n",
       "\t<li>'/Adrenal_Gland'</li>\n",
       "\t<li>'/Artery_Aorta'</li>\n",
       "\t<li>'/Artery_Coronary'</li>\n",
       "\t<li>'/Artery_Tibial'</li>\n",
       "\t<li>'/Bladder'</li>\n",
       "\t<li>'/Brain_Amygdala'</li>\n",
       "\t<li>'/Brain_Anterior_cingulate_cortex_BA'</li>\n",
       "\t<li>'/Brain_Caudate_basal_ganglia'</li>\n",
       "\t<li>'/Brain_Cerebellar_Hemisphere'</li>\n",
       "\t<li>'/Brain_Cerebellum'</li>\n",
       "\t<li>'/Brain_Cortex'</li>\n",
       "\t<li>'/Brain_Frontal_Cortex_BA'</li>\n",
       "\t<li>'/Brain_Hippocampus'</li>\n",
       "\t<li>'/Brain_Hypothalamus'</li>\n",
       "\t<li>'/Brain_Nucleus_accumbens_basal_ganglia'</li>\n",
       "\t<li>'/Brain_Putamen_basal_ganglia'</li>\n",
       "\t<li>'/Brain_Spinal_cord_cervical_c'</li>\n",
       "\t<li>'/Brain_Substantia_nigra'</li>\n",
       "\t<li>'/Breast_Mammary_Tissue'</li>\n",
       "\t<li>'/Cells_EBV_transformed_lymphocytes'</li>\n",
       "\t<li>'/Cells_Leukemia_cell_line_CML'</li>\n",
       "\t<li>'/Cells_Transformed_fibroblasts'</li>\n",
       "\t<li>'/Cervix_Ectocervix'</li>\n",
       "\t<li>'/Cervix_Endocervix'</li>\n",
       "\t<li>'/Colon_Sigmoid'</li>\n",
       "\t<li>'/Colon_Transverse'</li>\n",
       "\t<li>'/Esophagus_Gastroesophageal_Junction'</li>\n",
       "\t<li>'/Esophagus_Mucosa'</li>\n",
       "\t<li>'/Esophagus_Muscularis'</li>\n",
       "\t<li>'/Fallopian_Tube'</li>\n",
       "\t<li>'/Heart_Atrial_Appendage'</li>\n",
       "\t<li>'/Heart_Left_Ventricle'</li>\n",
       "\t<li>'/Kidney_Cortex'</li>\n",
       "\t<li>'/Liver'</li>\n",
       "\t<li>'/Lung'</li>\n",
       "\t<li>'/Minor_Salivary_Gland'</li>\n",
       "\t<li>'/Muscle_Skeletal'</li>\n",
       "\t<li>'/Nerve_Tibial'</li>\n",
       "\t<li>'/Ovary'</li>\n",
       "\t<li>'/Pancreas'</li>\n",
       "\t<li>'/Pituitary'</li>\n",
       "\t<li>'/Prostate'</li>\n",
       "\t<li>'/Skin_Not_Sun_Exposed_Suprapubic'</li>\n",
       "\t<li>'/Skin_Sun_Exposed_Lower_leg'</li>\n",
       "\t<li>'/Small_Intestine_Terminal_Ileum'</li>\n",
       "\t<li>'/Spleen'</li>\n",
       "\t<li>'/Stomach'</li>\n",
       "\t<li>'/Testis'</li>\n",
       "\t<li>'/Thyroid'</li>\n",
       "\t<li>'/Uterus'</li>\n",
       "\t<li>'/Vagina'</li>\n",
       "\t<li>'/Whole_Blood'</li>\n",
       "</ol>\n"
      ],
      "text/latex": [
       "\\begin{enumerate*}\n",
       "\\item '/Adipose\\_Subcutaneous'\n",
       "\\item '/Adipose\\_Visceral\\_Omentum'\n",
       "\\item '/Adrenal\\_Gland'\n",
       "\\item '/Artery\\_Aorta'\n",
       "\\item '/Artery\\_Coronary'\n",
       "\\item '/Artery\\_Tibial'\n",
       "\\item '/Bladder'\n",
       "\\item '/Brain\\_Amygdala'\n",
       "\\item '/Brain\\_Anterior\\_cingulate\\_cortex\\_BA'\n",
       "\\item '/Brain\\_Caudate\\_basal\\_ganglia'\n",
       "\\item '/Brain\\_Cerebellar\\_Hemisphere'\n",
       "\\item '/Brain\\_Cerebellum'\n",
       "\\item '/Brain\\_Cortex'\n",
       "\\item '/Brain\\_Frontal\\_Cortex\\_BA'\n",
       "\\item '/Brain\\_Hippocampus'\n",
       "\\item '/Brain\\_Hypothalamus'\n",
       "\\item '/Brain\\_Nucleus\\_accumbens\\_basal\\_ganglia'\n",
       "\\item '/Brain\\_Putamen\\_basal\\_ganglia'\n",
       "\\item '/Brain\\_Spinal\\_cord\\_cervical\\_c'\n",
       "\\item '/Brain\\_Substantia\\_nigra'\n",
       "\\item '/Breast\\_Mammary\\_Tissue'\n",
       "\\item '/Cells\\_EBV\\_transformed\\_lymphocytes'\n",
       "\\item '/Cells\\_Leukemia\\_cell\\_line\\_CML'\n",
       "\\item '/Cells\\_Transformed\\_fibroblasts'\n",
       "\\item '/Cervix\\_Ectocervix'\n",
       "\\item '/Cervix\\_Endocervix'\n",
       "\\item '/Colon\\_Sigmoid'\n",
       "\\item '/Colon\\_Transverse'\n",
       "\\item '/Esophagus\\_Gastroesophageal\\_Junction'\n",
       "\\item '/Esophagus\\_Mucosa'\n",
       "\\item '/Esophagus\\_Muscularis'\n",
       "\\item '/Fallopian\\_Tube'\n",
       "\\item '/Heart\\_Atrial\\_Appendage'\n",
       "\\item '/Heart\\_Left\\_Ventricle'\n",
       "\\item '/Kidney\\_Cortex'\n",
       "\\item '/Liver'\n",
       "\\item '/Lung'\n",
       "\\item '/Minor\\_Salivary\\_Gland'\n",
       "\\item '/Muscle\\_Skeletal'\n",
       "\\item '/Nerve\\_Tibial'\n",
       "\\item '/Ovary'\n",
       "\\item '/Pancreas'\n",
       "\\item '/Pituitary'\n",
       "\\item '/Prostate'\n",
       "\\item '/Skin\\_Not\\_Sun\\_Exposed\\_Suprapubic'\n",
       "\\item '/Skin\\_Sun\\_Exposed\\_Lower\\_leg'\n",
       "\\item '/Small\\_Intestine\\_Terminal\\_Ileum'\n",
       "\\item '/Spleen'\n",
       "\\item '/Stomach'\n",
       "\\item '/Testis'\n",
       "\\item '/Thyroid'\n",
       "\\item '/Uterus'\n",
       "\\item '/Vagina'\n",
       "\\item '/Whole\\_Blood'\n",
       "\\end{enumerate*}\n"
      ],
      "text/markdown": [
       "1. '/Adipose_Subcutaneous'\n",
       "2. '/Adipose_Visceral_Omentum'\n",
       "3. '/Adrenal_Gland'\n",
       "4. '/Artery_Aorta'\n",
       "5. '/Artery_Coronary'\n",
       "6. '/Artery_Tibial'\n",
       "7. '/Bladder'\n",
       "8. '/Brain_Amygdala'\n",
       "9. '/Brain_Anterior_cingulate_cortex_BA'\n",
       "10. '/Brain_Caudate_basal_ganglia'\n",
       "11. '/Brain_Cerebellar_Hemisphere'\n",
       "12. '/Brain_Cerebellum'\n",
       "13. '/Brain_Cortex'\n",
       "14. '/Brain_Frontal_Cortex_BA'\n",
       "15. '/Brain_Hippocampus'\n",
       "16. '/Brain_Hypothalamus'\n",
       "17. '/Brain_Nucleus_accumbens_basal_ganglia'\n",
       "18. '/Brain_Putamen_basal_ganglia'\n",
       "19. '/Brain_Spinal_cord_cervical_c'\n",
       "20. '/Brain_Substantia_nigra'\n",
       "21. '/Breast_Mammary_Tissue'\n",
       "22. '/Cells_EBV_transformed_lymphocytes'\n",
       "23. '/Cells_Leukemia_cell_line_CML'\n",
       "24. '/Cells_Transformed_fibroblasts'\n",
       "25. '/Cervix_Ectocervix'\n",
       "26. '/Cervix_Endocervix'\n",
       "27. '/Colon_Sigmoid'\n",
       "28. '/Colon_Transverse'\n",
       "29. '/Esophagus_Gastroesophageal_Junction'\n",
       "30. '/Esophagus_Mucosa'\n",
       "31. '/Esophagus_Muscularis'\n",
       "32. '/Fallopian_Tube'\n",
       "33. '/Heart_Atrial_Appendage'\n",
       "34. '/Heart_Left_Ventricle'\n",
       "35. '/Kidney_Cortex'\n",
       "36. '/Liver'\n",
       "37. '/Lung'\n",
       "38. '/Minor_Salivary_Gland'\n",
       "39. '/Muscle_Skeletal'\n",
       "40. '/Nerve_Tibial'\n",
       "41. '/Ovary'\n",
       "42. '/Pancreas'\n",
       "43. '/Pituitary'\n",
       "44. '/Prostate'\n",
       "45. '/Skin_Not_Sun_Exposed_Suprapubic'\n",
       "46. '/Skin_Sun_Exposed_Lower_leg'\n",
       "47. '/Small_Intestine_Terminal_Ileum'\n",
       "48. '/Spleen'\n",
       "49. '/Stomach'\n",
       "50. '/Testis'\n",
       "51. '/Thyroid'\n",
       "52. '/Uterus'\n",
       "53. '/Vagina'\n",
       "54. '/Whole_Blood'\n",
       "\n",
       "\n"
      ],
      "text/plain": [
       " [1] \"/Adipose_Subcutaneous\"                 \n",
       " [2] \"/Adipose_Visceral_Omentum\"             \n",
       " [3] \"/Adrenal_Gland\"                        \n",
       " [4] \"/Artery_Aorta\"                         \n",
       " [5] \"/Artery_Coronary\"                      \n",
       " [6] \"/Artery_Tibial\"                        \n",
       " [7] \"/Bladder\"                              \n",
       " [8] \"/Brain_Amygdala\"                       \n",
       " [9] \"/Brain_Anterior_cingulate_cortex_BA\"   \n",
       "[10] \"/Brain_Caudate_basal_ganglia\"          \n",
       "[11] \"/Brain_Cerebellar_Hemisphere\"          \n",
       "[12] \"/Brain_Cerebellum\"                     \n",
       "[13] \"/Brain_Cortex\"                         \n",
       "[14] \"/Brain_Frontal_Cortex_BA\"              \n",
       "[15] \"/Brain_Hippocampus\"                    \n",
       "[16] \"/Brain_Hypothalamus\"                   \n",
       "[17] \"/Brain_Nucleus_accumbens_basal_ganglia\"\n",
       "[18] \"/Brain_Putamen_basal_ganglia\"          \n",
       "[19] \"/Brain_Spinal_cord_cervical_c\"         \n",
       "[20] \"/Brain_Substantia_nigra\"               \n",
       "[21] \"/Breast_Mammary_Tissue\"                \n",
       "[22] \"/Cells_EBV_transformed_lymphocytes\"    \n",
       "[23] \"/Cells_Leukemia_cell_line_CML\"         \n",
       "[24] \"/Cells_Transformed_fibroblasts\"        \n",
       "[25] \"/Cervix_Ectocervix\"                    \n",
       "[26] \"/Cervix_Endocervix\"                    \n",
       "[27] \"/Colon_Sigmoid\"                        \n",
       "[28] \"/Colon_Transverse\"                     \n",
       "[29] \"/Esophagus_Gastroesophageal_Junction\"  \n",
       "[30] \"/Esophagus_Mucosa\"                     \n",
       "[31] \"/Esophagus_Muscularis\"                 \n",
       "[32] \"/Fallopian_Tube\"                       \n",
       "[33] \"/Heart_Atrial_Appendage\"               \n",
       "[34] \"/Heart_Left_Ventricle\"                 \n",
       "[35] \"/Kidney_Cortex\"                        \n",
       "[36] \"/Liver\"                                \n",
       "[37] \"/Lung\"                                 \n",
       "[38] \"/Minor_Salivary_Gland\"                 \n",
       "[39] \"/Muscle_Skeletal\"                      \n",
       "[40] \"/Nerve_Tibial\"                         \n",
       "[41] \"/Ovary\"                                \n",
       "[42] \"/Pancreas\"                             \n",
       "[43] \"/Pituitary\"                            \n",
       "[44] \"/Prostate\"                             \n",
       "[45] \"/Skin_Not_Sun_Exposed_Suprapubic\"      \n",
       "[46] \"/Skin_Sun_Exposed_Lower_leg\"           \n",
       "[47] \"/Small_Intestine_Terminal_Ileum\"       \n",
       "[48] \"/Spleen\"                               \n",
       "[49] \"/Stomach\"                              \n",
       "[50] \"/Testis\"                               \n",
       "[51] \"/Thyroid\"                              \n",
       "[52] \"/Uterus\"                               \n",
       "[53] \"/Vagina\"                               \n",
       "[54] \"/Whole_Blood\"                          "
      ]
     },
     "metadata": {},
     "output_type": "display_data"
    }
   ],
   "source": [
    "# source(\"http://bioconductor.org/biocLite.R\")\n",
    "# biocLite(\"rhdf5\")\n",
    "library(rhdf5)\n",
    "fdata = 'data1/rna-seq/GTEx_v7_RNA-seq_RNA-SeQCv1.1.8_gene_rpkm.gct.hdf5'\n",
    "meta = h5ls(fdata)\n",
    "groups = unique(meta$group)\n",
    "groups = groups[which(groups != '/')]\n",
    "groups"
   ]
  },
  {
   "cell_type": "code",
   "execution_count": 6,
   "metadata": {
    "kernel": "ir"
   },
   "outputs": [
    {
     "name": "stdout",
     "output_type": "stream",
     "text": [
      "List of 4\n",
      " $ axis0        : chr [1:474(1d)] \"GTEX-111CU-0326-SM-5GZXO\" \"GTEX-111FC-1126-SM-5GZWU\" \"GTEX-111VG-0726-SM-5GIDC\" \"GTEX-111YS-0626-SM-5GZXV\" ...\n",
      " $ axis1        : chr [1:56202(1d)] \"ENSG00000223972.4\" \"ENSG00000227232.4\" \"ENSG00000243485.2\" \"ENSG00000237613.2\" ...\n",
      " $ block0_items : chr [1:474(1d)] \"GTEX-111CU-0326-SM-5GZXO\" \"GTEX-111FC-1126-SM-5GZWU\" \"GTEX-111VG-0726-SM-5GIDC\" \"GTEX-111YS-0626-SM-5GZXV\" ...\n",
      " $ block0_values: int [1:474, 1:56202] 4 5 4 1 5 5 1 3 0 1 ...\n"
     ]
    }
   ],
   "source": [
    "mydata <- h5read(fdata, \"/Lung\")\n",
    "str(mydata)"
   ]
  },
  {
   "cell_type": "markdown",
   "metadata": {},
   "source": [
    "So the group specific data object `mydata` has attribute `axis0` for sample names, `axis1` for gene names, and `block0_values` the 474 * 56202 data matrix. One can make `t(block0_values)` a separate matrix and set its rownames to `axis1` and colnames to `axis0`."
   ]
  }
 ],
 "metadata": {
  "kernelspec": {
   "display_name": "SoS",
   "language": "sos",
   "name": "sos"
  },
  "language_info": {
   "codemirror_mode": "sos",
   "file_extension": ".sos",
   "mimetype": "text/x-sos",
   "name": "sos",
   "nbconvert_exporter": "sos.jupyter.converter.SoS_Exporter",
   "pygments_lexer": "sos"
  },
  "sos": {
   "celltoolbar": true,
   "kernels": [
    [
     "sos",
     "SoS",
     ""
    ],
    [
     "python3",
     "Python3",
     "#EAFAF1"
    ],
    [
     "ir",
     "ir",
     ""
    ],
    [
     "r",
     "r",
     ""
    ]
   ],
   "panel": {
    "displayed": true,
    "height": 0,
    "style": "side"
   }
  }
 },
 "nbformat": 4,
 "nbformat_minor": 2
}
