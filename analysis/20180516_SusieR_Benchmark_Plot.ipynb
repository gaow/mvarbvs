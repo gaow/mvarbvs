{
 "cells": [
  {
   "cell_type": "markdown",
   "metadata": {},
   "source": [
    "# SusieR benchmark plot\n"
   ]
  },
  {
   "cell_type": "markdown",
   "metadata": {},
   "source": [
    "This is a continuation of `20180515_SusieR_Benchmark.ipynb`. Here I write a workflow to generate all plots from that benchmark, and make a table out of it to browser them easily."
   ]
  },
  {
   "cell_type": "code",
   "execution_count": 4,
   "metadata": {
    "kernel": "SoS"
   },
   "outputs": [
    {
     "data": {
      "text/html": [
       "\n",
       "        <table class=\"revision_table\">\n",
       "        <tr>\n",
       "        <th>Revision</th>\n",
       "        <th>Author</th>\n",
       "        <th>Date</th>\n",
       "        <th>Message</th>\n",
       "        <tr>\n",
       "        <tr><td><a target=\"_blank\" href=\"http://github.com/gaow/mvarbvs/blob/a5637a636677c489830fe2f38f7b3cbcb8e98692/analysis/20180516_SusieR_Benchmark_Plot.ipynb\"><span class=\"revision_id\">a5637a6<span></a></td>\n",
       "<td>Gao Wang</td>\n",
       "<td>2018-05-21</td>\n",
       "<td>Update susie benchmark</td></tr><tr><td><a target=\"_blank\" href=\"http://github.com/gaow/mvarbvs/blob/7d8e7a30dcd756d435022e51b4be8ecf3272c1a1/analysis/20180516_SusieR_Benchmark_Plot.ipynb\"><span class=\"revision_id\">7d8e7a3<span></a></td>\n",
       "<td>Gao Wang</td>\n",
       "<td>2018-05-21</td>\n",
       "<td>Use LD purity cutoff to evaluate CS quality</td></tr><tr><td><a target=\"_blank\" href=\"http://github.com/gaow/mvarbvs/blob/e188724415e4c46935317e4166d21d9c4b637eb1/analysis/20180516_SusieR_Benchmark_Plot.ipynb\"><span class=\"revision_id\">e188724<span></a></td>\n",
       "<td>Gao Wang</td>\n",
       "<td>2018-05-20</td>\n",
       "<td>Update HTML files</td></tr><tr><td><a target=\"_blank\" href=\"http://github.com/gaow/mvarbvs/blob/c2d5ca97bc4c402d8a704bd86f563db69144dbec/analysis/20180516_SusieR_Benchmark_Plot.ipynb\"><span class=\"revision_id\">c2d5ca9<span></a></td>\n",
       "<td>Gao Wang</td>\n",
       "<td>2018-05-18</td>\n",
       "<td>Increase number of genes evaluated</td></tr><tr><td><a target=\"_blank\" href=\"http://github.com/gaow/mvarbvs/blob/54e5338ef224311b62fbe5984f0528a22e4b3cfe/analysis/20180516_SusieR_Benchmark_Plot.ipynb\"><span class=\"revision_id\">54e5338<span></a></td>\n",
       "<td>Gao Wang</td>\n",
       "<td>2018-05-16</td>\n",
       "<td>Update batch plot workflow</td></tr></table>"
      ]
     },
     "metadata": {},
     "output_type": "display_data"
    }
   ],
   "source": [
    "%revisions -n 5 --source"
   ]
  },
  {
   "cell_type": "code",
   "execution_count": 1,
   "metadata": {},
   "outputs": [
    {
     "name": "stdout",
     "output_type": "stream",
     "text": [
      "/home/gaow/GIT/github/mvarbvs/dsc"
     ]
    }
   ],
   "source": [
    "%cd ~/GIT/github/mvarbvs/dsc"
   ]
  },
  {
   "cell_type": "markdown",
   "metadata": {},
   "source": [
    "## Run benchmark"
   ]
  },
  {
   "cell_type": "code",
   "execution_count": null,
   "metadata": {
    "kernel": "Bash"
   },
   "outputs": [],
   "source": [
    "dsc susie.dsc --target run_susie"
   ]
  },
  {
   "cell_type": "code",
   "execution_count": null,
   "metadata": {},
   "outputs": [],
   "source": [
    "[global]\n",
    "parameter: outdir = path('./benchmark')\n",
    "parameter: name = '20180516'\n",
    "ld_cutoff = 0.2\n",
    "lfsr_cutoff = 0.05"
   ]
  },
  {
   "cell_type": "markdown",
   "metadata": {},
   "source": [
    "## Plot by purity"
   ]
  },
  {
   "cell_type": "code",
   "execution_count": null,
   "metadata": {},
   "outputs": [],
   "source": [
    "[purity_1, ld_1]\n",
    "target = \"liter_data.dataset simple_lm.pve simple_lm.n_signal fit_susie.maxL fit_susie.estimate_residual_variance fit_susie.prior_var fit_susie plot_susie\"\n",
    "output: f'{outdir}/purity_{name}/result.RDS'\n",
    "R: expand = '${ }'\n",
    "    out = dscrutils::dscquery(${outdir:br}, target = \"${target}\")\n",
    "    saveRDS(out, ${_output:r})"
   ]
  },
  {
   "cell_type": "code",
   "execution_count": null,
   "metadata": {},
   "outputs": [],
   "source": [
    "[purity_2, ld_2]\n",
    "pve = [0.05, 0.1, 0.2, 0.4]\n",
    "n = [1,2,3,4,5]\n",
    "est_res = ['TRUE', 'FALSE']\n",
    "prior = [0.05, 0.1, 0.2, 0.4]\n",
    "ld_col = 1 # LD_Min\n",
    "combos = len(pve) * len(n) * len(est_res) * len(prior)\n",
    "output_files = [f'{_input:d}/{x+1}.rds' for x in range(combos)]\n",
    "input: for_each = ['pve', 'n', 'est_res', 'prior'], concurrent = True\n",
    "output: output_files[_index]\n",
    "R: expand = '${ }'\n",
    "\n",
    "    get_combined = function(sub, dirname, ld_col) {\n",
    "        out_files = sub[,c(\"fit_susie.output.file\", \"plot_susie.output.file\")]\n",
    "        combined = list(purity = NULL, lfsr = NULL, size = NULL, \n",
    "                        captures = NULL, total_captures = NULL, pip = NULL)\n",
    "        for (i in 1:nrow(out_files)) {\n",
    "            fit = readRDS(paste0(dirname, out_files[i,1], '.rds'))$posterior\n",
    "            purity = readRDS(paste0(dirname, out_files[i,2], '.rds'))\n",
    "            L = sub[i,\"simple_lm.n_signal\"]\n",
    "            #\n",
    "            if (is.null(combined$purity)) combined$purity = purity$purity$V1[,ld_col]\n",
    "            else combined$purity = cbind(combined$purity, purity$purity$V1[,ld_col])\n",
    "            #\n",
    "            if (is.null(combined$size)) combined$size = fit$n_in_CI[,1]\n",
    "            else combined$size = cbind(combined$size, fit$n_in_CI[,1])\n",
    "            #\n",
    "            if (is.null(combined$lfsr)) combined$lfsr = fit$lfsr[,1]\n",
    "            else combined$lfsr = cbind(combined$lfsr, fit$lfsr[,1])\n",
    "            #\n",
    "            if (is.null(combined$captures)) combined$captures = rowSums(purity$signal$V1)\n",
    "            else combined$captures = cbind(combined$captures, rowSums(purity$signal$V1))\n",
    "            #\n",
    "            is_pure = which(purity$purity$V1[,ld_col] > ${ld_cutoff})\n",
    "            alpha = fit$alpha[[1]][is_pure,,drop=FALSE]\n",
    "            if (dim(alpha)[1] == 0) {\n",
    "              pip = t(rep(0, dim(alpha)[2]))\n",
    "            } else {\n",
    "              pip = t(1 - apply(1 - alpha, 2, prod))\n",
    "            }\n",
    "            if (is.null(combined$pip)) combined$pip = pip\n",
    "            else combined$pip = cbind(combined$pip, pip)            \n",
    "            #\n",
    "            detected = apply(t(purity$signal$V1[is_pure,,drop=FALSE]), 1, sum)\n",
    "            if (length(detected) < L) {\n",
    "              detected = c(detected, rep(0, L - length(detected)))\n",
    "            }\n",
    "            if (is.null(combined$total_captures)) combined$total_captures = detected\n",
    "            else combined$total_captures = combined$total_captures + detected\n",
    "        }\n",
    "        return(combined)\n",
    "    }\n",
    "    out = readRDS(${_input:r})\n",
    "    sub = out[which(out$simple_lm.pve == ${_pve} & out$simple_lm.n_signal == ${_n} & out$fit_susie.estimate_residual_variance == ${_est_res} & out$fit_susie.prior_var == ${_prior}),]\n",
    "    combined = get_combined(sub, \"${outdir}/\", ${ld_col})\n",
    "    write(paste(${_pve}, ${_n}, ${_prior}, ${_est_res}, \"${_output:n}.png\", sep=','), file='${_output:n}.log')\n",
    "    saveRDS(combined, ${_output:r})"
   ]
  },
  {
   "cell_type": "code",
   "execution_count": null,
   "metadata": {},
   "outputs": [],
   "source": [
    "[purity_3, ld_3]\n",
    "input: group_by = 1, concurrent = True\n",
    "output: f\"{_input:n}.pkl\"\n",
    "bash: expand = True\n",
    "  dsc-io {_input} {_output}"
   ]
  },
  {
   "cell_type": "code",
   "execution_count": null,
   "metadata": {},
   "outputs": [],
   "source": [
    "[purity_4]\n",
    "input: group_by = 1, concurrent = True\n",
    "output: f\"{_input:n}.png\"\n",
    "python: expand = '${ }'\n",
    "    import numpy as np\n",
    "    import matplotlib.pyplot as plt\n",
    "    COLORS = ['#348ABD', '#7A68A6', '#A60628', '#467821', '#FF0000', '#188487', '#E2A233',\n",
    "                  '#A9A9A9', '#000000', '#FF00FF', '#FFD700', '#ADFF2F', '#00FFFF']\n",
    "    color_mapper = np.vectorize(lambda x: dict([(i,j) for i,j in enumerate(COLORS)]).get(x))\n",
    "\n",
    "    def plot_purity(data, output, lfsr_cutoff = 0.05):\n",
    "        purity = np.array(data['purity'])\n",
    "        lfsr = np.array(data['lfsr'])\n",
    "        size = np.array(data['size'])\n",
    "        capture = np.array(data['captures'])\n",
    "        capture_summary = [f\"Signal {idx+1} captured {int(item)}/{purity.shape[1]}\" for idx, item in enumerate([data['total_captures']] if isinstance(data['total_captures'], np.int64) else data['total_captures'])]\n",
    "        idx = 0\n",
    "        plt.figure(figsize=(12, 8))\n",
    "        L = purity.shape[0]\n",
    "        cols = 3\n",
    "        rows = L // cols + L % cols\n",
    "        position = range(1,L + 1)\n",
    "        insig = []\n",
    "        for x, y, z, c in zip(size, purity, lfsr, capture):\n",
    "            # exclude previously marked insignificant positions\n",
    "            exclude = [i for i, item in enumerate(x) if (x[i], y[i]) in insig]\n",
    "            z_sig = [i for i, zz in enumerate(z) if zz <= lfsr_cutoff and i not in exclude]\n",
    "            z_nsig = [i for i, zz in enumerate(z) if zz > lfsr_cutoff and i not in exclude]\n",
    "            colors = [4 if i == 0 else 0 for i in c]\n",
    "            plt.subplot(rows,cols,position[idx])\n",
    "            idx += 1\n",
    "            if len(z_sig):\n",
    "                label = f'L{idx}: lfsr<={lfsr_cutoff}'\n",
    "                plt.scatter(np.take(x, z_sig),\n",
    "                            np.take(y, z_sig),\n",
    "                            c = color_mapper(np.take(colors, z_sig)), \n",
    "                            label = label, marker = '*')\n",
    "            if len(z_nsig):\n",
    "                label = f'L{idx}: lfsr>{lfsr_cutoff}'\n",
    "                plt.scatter(np.take(x, z_nsig),\n",
    "                            np.take(y, z_nsig),\n",
    "                            c = color_mapper(np.take(colors, z_nsig)), \n",
    "                            label = label, marker = 'x')\n",
    "            # mask colored (insig) sets\n",
    "            insig.extend([(x[i], y[i]) for i, item in enumerate(colors) if item > 0 and i not in exclude])\n",
    "            insig = list(set(insig))\n",
    "            plt.legend(bbox_to_anchor=(0,1.02,1,0.2), loc=\"lower left\",\n",
    "                    mode=\"expand\", borderaxespad=0, ncol=2, handletextpad=0.1)\n",
    "\n",
    "        plt.subplots_adjust(hspace=0.3, wspace = 0.3)\n",
    "        plt.suptitle(f\"95% CI set sizes vs min(abs(LD)) | LD filter ${ld_cutoff}\\n{'; '.join(capture_summary)}\")\n",
    "        plt.savefig(output, dpi=500, bbox_inches='tight')                    \n",
    "        plt.gca()\n",
    "\n",
    "    import pickle\n",
    "    data = pickle.load(open('${_input}', 'rb'))\n",
    "    plot_purity(data, '${_output}', lfsr_cutoff = ${lfsr_cutoff})\n",
    "\n",
    "[purity_5]\n",
    "header = 'PVE,N_Causal,susie_prior,est_residual,output'\n",
    "output:  f'{outdir}/purity_{name}/index.html'\n",
    "bash: expand = True\n",
    "    echo {header} > {_output:n}.csv\n",
    "    cat {str(_input).replace('.png', '.log')} >> {_output:n}.csv\n",
    "    cd {_output:d}\n",
    "    dsc-io {_output:an}.csv {_output:a}"
   ]
  },
  {
   "cell_type": "markdown",
   "metadata": {},
   "source": [
    "## Plot by LD"
   ]
  },
  {
   "cell_type": "code",
   "execution_count": null,
   "metadata": {},
   "outputs": [],
   "source": [
    "[ld_4]\n",
    "output: f'{outdir}/ld_{name}.pkl'\n",
    "python: expand = '${ }'\n",
    "    import numpy as np\n",
    "    import pickle\n",
    "    lds = dict([(x, []) for x in np.linspace(0, 1, num=21) if x < 1])\n",
    "    for f in [${_input:r,}]:\n",
    "        data = pickle.load(open(f, 'rb'))\n",
    "        for k in lds:\n",
    "            cs_capture_status = np.array(data['captures'][np.where(data['purity'] > k)]).ravel()\n",
    "            if len(cs_capture_status):\n",
    "                lds[k].append((f, sum(cs_capture_status > 0) / len(cs_capture_status)))\n",
    "    with  open(${_output:r}, 'wb') as f:\n",
    "        pickle.dump(lds, f)"
   ]
  },
  {
   "cell_type": "code",
   "execution_count": null,
   "metadata": {},
   "outputs": [],
   "source": [
    "[ld_5]\n",
    "output: f'{_input:n}.png'\n",
    "python: expand = '${ }'\n",
    "    import pickle\n",
    "    import seaborn as sns\n",
    "    import pandas as pd\n",
    "    import matplotlib.pyplot as plt\n",
    "    sns.set(rc={'figure.figsize':(12,6)}, style = \"whitegrid\")\n",
    "    fig, ax = plt.subplots(figsize=(12, 6))\n",
    "\n",
    "    data = pickle.load(open('benchmark/ld_20180516.pkl', 'rb'))\n",
    "    plot_data = dict([('LD cutoff', []), ('CS capture rate', [])])\n",
    "    idx = 0\n",
    "    for k in sorted(data.keys()):\n",
    "        idx += 1\n",
    "        if idx % 2:\n",
    "            continue\n",
    "        for item in data[k]:\n",
    "            plot_data['LD cutoff'].append(f'{k:.2f}')\n",
    "            plot_data['CS capture rate'].append(item[1])\n",
    "    plot_data = pd.DataFrame(plot_data)\n",
    "    sns.violinplot(ax=ax, x=\"LD cutoff\", y=\"CS capture rate\", data=plot_data, inner=\"points\")\n",
    "    sns.despine()\n",
    "    plt.axhline(0.95, color='red')\n",
    "    ax.get_figure().savefig(${_output:r})"
   ]
  }
 ],
 "metadata": {
  "kernelspec": {
   "display_name": "SoS",
   "language": "sos",
   "name": "sos"
  },
  "language_info": {
   "codemirror_mode": "sos",
   "file_extension": ".sos",
   "mimetype": "text/x-sos",
   "name": "sos",
   "nbconvert_exporter": "sos_notebook.converter.SoS_Exporter",
   "pygments_lexer": "sos"
  },
  "sos": {
   "default_kernel": "SoS",
   "kernels": [
    [
     "Bash",
     "bash",
     "Bash",
     "#E6EEFF"
    ],
    [
     "SoS",
     "sos",
     "",
     ""
    ]
   ],
   "panel": {
    "displayed": true,
    "height": 0,
    "style": "side"
   },
   "version": "0.9.14.1"
  }
 },
 "nbformat": 4,
 "nbformat_minor": 2
}
