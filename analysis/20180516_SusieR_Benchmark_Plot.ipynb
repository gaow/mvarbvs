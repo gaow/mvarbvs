{
 "cells": [
  {
   "cell_type": "markdown",
   "metadata": {},
   "source": [
    "# SusieR benchmark plot\n"
   ]
  },
  {
   "cell_type": "markdown",
   "metadata": {},
   "source": [
    "This is a continuation of `20180515_SusieR_Benchmark.ipynb`. Here I write a workflow to generate all plots from that benchmark, and make a table out of it to browser them easily."
   ]
  },
  {
   "cell_type": "code",
   "execution_count": 1,
   "metadata": {},
   "outputs": [
    {
     "name": "stdout",
     "output_type": "stream",
     "text": [
      "/home/gaow/GIT/github/mvarbvs/dsc"
     ]
    }
   ],
   "source": [
    "%cd ~/GIT/github/mvarbvs/dsc"
   ]
  },
  {
   "cell_type": "code",
   "execution_count": null,
   "metadata": {},
   "outputs": [],
   "source": [
    "[global]\n",
    "parameter: outdir = path('./benchmark')\n",
    "[1]\n",
    "target = \"liter_data.dataset simple_lm.pve simple_lm.n_signal fit_susie.estimate_residual_variance fit_susie.prior_var fit_susie eval_susie\"\n",
    "output: f'{outdir}/result.RDS'\n",
    "R: expand = '${ }'\n",
    "    out = dscrutils::dscquery(${outdir:br}, target = \"${target}\")\n",
    "    saveRDS(out, ${_output:r})\n",
    "  \n",
    "[2]\n",
    "pve = [0.05, 0.1, 0.2, 0.4]\n",
    "n = [1,2,3,4,5]\n",
    "est_res = ['TRUE', 'FALSE']\n",
    "prior = [0.05, 0.1, 0.2, 0.4]\n",
    "ld_col = 1 # LD_Min\n",
    "lfsr_cutoff = 0.05\n",
    "combos = len(pve) * len(n) * len(est_res) * len(prior)\n",
    "output_files = [f'{outdir}/{x+1}.rds' for x in range(combos)]\n",
    "input: for_each = ['pve', 'n', 'est_res', 'prior'], concurrent = True\n",
    "output: output_files[_index]\n",
    "R: expand = '${ }', stdout = f'{_output:n}.log'\n",
    "\n",
    "    get_combined = function(sub, dirname, ld_col) {\n",
    "        out_files = sub[,c(\"fit_susie.output.file\", \"eval_susie.output.file\")]\n",
    "        combined = list(purity = NULL, lfsr = NULL, size = NULL, \n",
    "                        captures = NULL, total_captures = NULL)\n",
    "        for (i in 1:nrow(out_files)) {\n",
    "            fit = readRDS(paste0(dirname, out_files[i,1], '.rds'))$posterior\n",
    "            purity = readRDS(paste0(dirname, out_files[i,2], '.rds'))\n",
    "            #\n",
    "            if (is.null(combined$purity)) combined$purity = purity$purity$V1[,ld_col]\n",
    "            else combined$purity = cbind(combined$purity, purity$purity$V1[,ld_col])\n",
    "            #\n",
    "            if (is.null(combined$size)) combined$size = fit$n_in_CI[,1]\n",
    "            else combined$size = cbind(combined$size, fit$n_in_CI[,1])\n",
    "            #\n",
    "            if (is.null(combined$lfsr)) combined$lfsr = fit$set_lfsr[,1]\n",
    "            else combined$lfsr = cbind(combined$lfsr, fit$set_lfsr[,1])\n",
    "            #\n",
    "            if (is.null(combined$captures)) combined$captures = rowSums(purity$signal$V1)\n",
    "            else combined$captures = cbind(combined$captures, rowSums(purity$signal$V1))\n",
    "            #\n",
    "            detected = apply(t(purity$signal$V1[which(fit$set_lfsr[,1] < ${lfsr_cutoff}),,drop=FALSE]), 1, sum)\n",
    "            if (is.null(combined$total_captures)) combined$total_captures = detected\n",
    "            else combined$total_captures = combined$total_captures + detected\n",
    "        }\n",
    "        return(combined)\n",
    "    }\n",
    "    out = readRDS(${_input:r})\n",
    "    sub = out[which(out$simple_lm.pve == ${_pve} & out$simple_lm.n_signal == ${_n} & out$fit_susie.estimate_residual_variance == ${_est_res} & out$fit_susie.prior_var == ${_prior}),]\n",
    "    combined = get_combined(sub, \"${outdir}/\", ${ld_col})\n",
    "    write(paste(${_pve}, ${_n}, ${_prior}, ${_est_res}, \"${_output:n}.png\"), stdout())\n",
    "    saveRDS(combined, ${_output:r})\n",
    "  \n",
    "[3]\n",
    "input: group_by = 1, concurrent = True\n",
    "output: f\"{_input:n}.pkl\"\n",
    "python: expand = True\n",
    "  import os\n",
    "  os.system('dsc-io {_input} {_output}')\n",
    "  \n",
    "[4]\n",
    "input: group_by = 1, concurrent = True\n",
    "output: f\"{_input:n}.png\"\n",
    "python: expand = '${ }'\n",
    "    import numpy as np\n",
    "    import matplotlib.pyplot as plt\n",
    "    COLORS = ['#348ABD', '#7A68A6', '#A60628', '#467821', '#FF0000', '#188487', '#E2A233',\n",
    "                  '#A9A9A9', '#000000', '#FF00FF', '#FFD700', '#ADFF2F', '#00FFFF']\n",
    "    color_mapper = np.vectorize(lambda x: dict([(i,j) for i,j in enumerate(COLORS)]).get(x))\n",
    "\n",
    "    def plot_purity(data, output, lfsr_cutoff = 0.05):\n",
    "        purity = np.array(data['purity'])\n",
    "        lfsr = np.array(data['lfsr'])\n",
    "        size = np.array(data['size'])\n",
    "        capture = np.array(data['captures'])\n",
    "        capture_summary = [f\"Signal {idx+1} captured {item}/{purity.shape[1]} times\" for idx, item in enumerate([data['total_captures']] if isinstance(data['total_captures'], np.int64) else data['total_captures'])]\n",
    "        idx = 0\n",
    "        plt.figure(figsize=(12, 8))\n",
    "        L = purity.shape[0]\n",
    "        cols = 3\n",
    "        rows = L // cols + L % cols\n",
    "        position = range(1,L + 1)\n",
    "        for x, y, z, c in zip(size, purity, lfsr, capture):\n",
    "            z_sig = [i for i, zz in enumerate(z) if zz <= lfsr_cutoff]\n",
    "            z_nsig = [i for i, zz in enumerate(z) if zz > lfsr_cutoff]\n",
    "            colors = [4 if i == 0 else 0 for i in c]\n",
    "            plt.subplot(rows,cols,position[idx])\n",
    "            idx += 1\n",
    "            if len(z_sig):\n",
    "                label = f'{idx}: lfsr<={lfsr_cutoff}'\n",
    "                plt.scatter(np.take(x, z_sig),\n",
    "                            np.take(y, z_sig),\n",
    "                            c = color_mapper(np.take(colors, z_sig)), \n",
    "                            label = label, marker = '*')\n",
    "            if len(z_nsig):\n",
    "                label = f'{idx}: lfsr>{lfsr_cutoff}'\n",
    "                plt.scatter(np.take(x, z_nsig),\n",
    "                            np.take(y, z_nsig),\n",
    "                            c = color_mapper(np.take(colors, z_nsig)), \n",
    "                            label = label, marker = 'x')   \n",
    "            plt.legend(bbox_to_anchor=(0,1.02,1,0.2), loc=\"lower left\",\n",
    "                    mode=\"expand\", borderaxespad=0, ncol=2, handletextpad=0.1)\n",
    "        plt.subplots_adjust(hspace=0.3, wspace = 0.3)\n",
    "        plt.suptitle(f\"95% CI set sizes vs min(abs(LD))\\n{'; '.join(capture_summary)}\")\n",
    "        plt.savefig(output, dpi=500, bbox_inches='tight')                    \n",
    "        plt.gca()\n",
    "        \n",
    "    import pickle\n",
    "    data = pickle.load(open('${_input}', 'rb'))\n",
    "    plot_purity(data, '${_output}')"
   ]
  }
 ],
 "metadata": {
  "kernelspec": {
   "display_name": "SoS",
   "language": "sos",
   "name": "sos"
  },
  "language_info": {
   "codemirror_mode": "sos",
   "file_extension": ".sos",
   "mimetype": "text/x-sos",
   "name": "sos",
   "nbconvert_exporter": "sos_notebook.converter.SoS_Exporter",
   "pygments_lexer": "sos"
  },
  "sos": {
   "default_kernel": "SoS",
   "kernels": [
    [
     "SoS",
     "sos",
     "",
     ""
    ]
   ]
  }
 },
 "nbformat": 4,
 "nbformat_minor": 2
}
