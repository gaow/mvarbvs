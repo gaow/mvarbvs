{
 "cells": [
  {
   "cell_type": "markdown",
   "metadata": {
    "kernel": "SoS"
   },
   "source": [
    "# Multivariate EBNM based prior for M&M\n",
    "\n",
    "Here for the simulation benchmark we prepare mixture prior based on a mulrivariate Emperical Bayes Normal Mean model (previously we use Extreme Deconvolution for the task)."
   ]
  },
  {
   "cell_type": "markdown",
   "metadata": {
    "kernel": "SoS"
   },
   "source": [
    "## Approach"
   ]
  },
  {
   "cell_type": "markdown",
   "metadata": {
    "kernel": "SoS"
   },
   "source": [
    "Here is the analysis plan:\n",
    "\n",
    "1. Simulate data under my phenotypic models (the latest DSC benchmark setting) and generate sumstats for them ; bhat and sbhat\n",
    "3. For each data-set, take the strongest snp as the strong set\n",
    "4. Also select from each data-set 1 \"null\" snp.\n",
    "5. then try to run your estimate of Vhat to get Vhat first, and run Yunqi / Peter's ED\n",
    "\n",
    "In UKB bloodcells, we have about 600 regions with number of SNPs between 1000 and 5000. We simulate 600 dataset with priors in [this notebook](https://zouyuxin.github.io/mmbr-rss-dsc/create_simulation_priors.html).\n",
    "\n",
    "We simulate under identity residual variance for all regions with artificial_mixture_ukb prior. We simulate under varaince of bloodcells for all regions with ukb_bloodcells_mixture prior."
   ]
  },
  {
   "cell_type": "markdown",
   "metadata": {
    "kernel": "SoS"
   },
   "source": [
    "## Workflow"
   ]
  },
  {
   "cell_type": "code",
   "execution_count": null,
   "metadata": {
    "kernel": "SoS"
   },
   "outputs": [],
   "source": [
    "[global]\n",
    "parameter: cwd = path('/project2/mstephens/yuxin/mvarbvs/dsc/mnm_prototype/output/ukb_rss')\n",
    "parameter: model = 'artificial_mixture_ukb' # 'ukb_bloodcells_mixture'\n",
    "# handle N = per_chunk data-set in one job\n",
    "parameter: per_chunk = 1000\n",
    "import glob"
   ]
  },
  {
   "cell_type": "code",
   "execution_count": 1,
   "metadata": {
    "kernel": "SoS"
   },
   "outputs": [
    {
     "name": "stdout",
     "output_type": "stream",
     "text": [
      "/project2/mstephens/gaow/mvarbvs/dsc/mnm_prototype/mnm_sumstats"
     ]
    }
   ],
   "source": [
    "%cd /project2/mstephens/yuxin/mvarbvs/dsc/mnm_prototype/output/ukb_rss"
   ]
  },
  {
   "cell_type": "markdown",
   "metadata": {
    "kernel": "SoS"
   },
   "source": [
    "### Get top SNP and random close to null SNP per region"
   ]
  },
  {
   "cell_type": "code",
   "execution_count": 31,
   "metadata": {
    "kernel": "SoS"
   },
   "outputs": [],
   "source": [
    "# extract data from summary stats\n",
    "[extract_1]\n",
    "parameter: seed = 999\n",
    "parameter: n_null = 1\n",
    "input: glob.glob(f'{cwd}/{model}/*.rds'), group_by = per_chunk\n",
    "output: f\"{cwd}/{model}/cache/{model}_{_index+1}.rds\"\n",
    "task: trunk_workers = 1, walltime = '1h', trunk_size = 1, mem = '4G', cores = 1, tags = f'{_output:bn}'\n",
    "R: expand = \"${ }\"\n",
    "    set.seed(${seed})\n",
    "    matxMax <- function(mtx) {\n",
    "      return(arrayInd(which.max(mtx), dim(mtx)))\n",
    "    }\n",
    "    remove_rownames = function(x) {\n",
    "        for (name in names(x)) rownames(x[[name]]) = NULL\n",
    "        return(x)\n",
    "    }\n",
    "    extract_one_data = function(infile, n_null) {\n",
    "        dat = readRDS(infile)$sumstats\n",
    "        if (is.null(dat)) return(NULL)\n",
    "        z = abs(dat$bhat/dat$sbhat)\n",
    "        max_idx = matxMax(z)\n",
    "        strong = list(bhat = dat$bhat[max_idx[1],,drop=F], sbhat = dat$sbhat[max_idx[1],,drop=F])\n",
    "        \n",
    "        null.id = which(apply(abs(z), 1, max) < 2)\n",
    "        null_idx = sample(null.id, n_null, replace = F)\n",
    "        null = list(bhat = dat$bhat[null_idx,,drop=F], sbhat = dat$sbhat[null_idx,,drop=F])\n",
    "        return(list(null = remove_rownames(null),  strong = remove_rownames(strong)))\n",
    "    }\n",
    "    merge_data = function(res, one_data) {\n",
    "      if (length(res) == 0) {\n",
    "          return(one_data)\n",
    "      } else if (is.null(one_data)) {\n",
    "          return(res)\n",
    "      } else {\n",
    "          for (d in names(one_data)) {\n",
    "              for (s in names(one_data[[d]])) {\n",
    "                  res[[d]][[s]] = rbind(res[[d]][[s]], one_data[[d]][[s]])\n",
    "              }\n",
    "          }\n",
    "          return(res)\n",
    "      }\n",
    "    }\n",
    "    res = list()\n",
    "    for (f in c(${_input:r,})) {\n",
    "      res = merge_data(res, extract_one_data(f, ${n_null}))\n",
    "    }\n",
    "    saveRDS(res, ${_output:r})\n",
    "  \n",
    "[extract_2]\n",
    "input: group_by = \"all\"\n",
    "output: f\"{cwd}/{model}.rds\"\n",
    "task: trunk_workers = 1, walltime = '1h', trunk_size = 1, mem = '4G', cores = 1, tags = f'{_output:bn}'\n",
    "R: expand = \"${ }\"\n",
    "    merge_data = function(res, one_data) {\n",
    "      if (length(res) == 0) {\n",
    "          return(one_data)\n",
    "      } else {\n",
    "          for (d in names(one_data)) {\n",
    "              for (s in names(one_data[[d]])) {\n",
    "                  res[[d]][[s]] = rbind(res[[d]][[s]], one_data[[d]][[s]])\n",
    "              }\n",
    "          }\n",
    "          return(res)\n",
    "      }\n",
    "    }\n",
    "    dat = list()\n",
    "    for (f in c(${_input:r,})) {\n",
    "      dat = merge_data(dat, readRDS(f))\n",
    "    }\n",
    "    saveRDS(\n",
    "          list(null.z = dat$null$bhat/dat$null$sbhat,\n",
    "           strong.z = dat$strong$bhat/dat$strong$sbhat),\n",
    "          ${_output:r})"
   ]
  },
  {
   "cell_type": "markdown",
   "metadata": {
    "kernel": "SoS"
   },
   "source": [
    "To run it:\n",
    "\n",
    "```\n",
    "for m in artificial_mixture_ukb ukb_bloodcells_mixture; do \n",
    "    sos run analysis/20201221_ukb_Prepare_ED_prior.ipynb extract --model $m -c midway2.yml -q midway2\n",
    "done\n",
    "```"
   ]
  },
  {
   "cell_type": "markdown",
   "metadata": {},
   "source": [
    "## Null Correlation"
   ]
  },
  {
   "cell_type": "code",
   "execution_count": null,
   "metadata": {},
   "outputs": [],
   "source": [
    "[nullcor]\n",
    "input: f\"{cwd}/{model}.rds\"\n",
    "output: f\"{cwd}/{model}.nullzcor.rds\"\n",
    "R: expand = \"${ }\"\n",
    "    dat = readRDS(${_input:r})\n",
    "    nullzcor = cor(dat$null.z)\n",
    "    saveRDS(nullzcor, ${_output:r})"
   ]
  },
  {
   "cell_type": "markdown",
   "metadata": {},
   "source": [
    "To run it:\n",
    "```\n",
    "for m in artificial_mixture_ukb ukb_bloodcells_mixture; do \n",
    "    sos run analysis/20201221_ukb_Prepare_ED_prior.ipynb nullcor --model $m -c midway2.yml -q midway2\n",
    "done\n",
    "```"
   ]
  },
  {
   "cell_type": "markdown",
   "metadata": {},
   "source": [
    "## FLASH mixture"
   ]
  },
  {
   "cell_type": "code",
   "execution_count": null,
   "metadata": {},
   "outputs": [],
   "source": [
    "[flash]\n",
    "input: f\"{cwd}/{model}.rds\"\n",
    "output: f\"{cwd}/{model}.flash.rds\"\n",
    "R: expand = \"${ }\"\n",
    "    library(flashr)\n",
    "    dat = readRDS(${_input:r})\n",
    "    f.d = flash_set_data(as.matrix(dat$strong.z))\n",
    "    f = flashr::flash(f.d, greedy=TRUE, backfit = T)\n",
    "    U.flash = c(mashr:::cov_from_factors(t(as.matrix(f$ldf$f)), \"FLASH\"),\n",
    "                list(\"tFLASH\" = t(f$fitted_values) %*% f$fitted_values / nrow(f$fitted_values)))\n",
    "    saveRDS(U.flash, ${_output:r})"
   ]
  },
  {
   "cell_type": "markdown",
   "metadata": {},
   "source": [
    "To run it:\n",
    "\n",
    "```\n",
    "for m in artificial_mixture_ukb ukb_bloodcells_mixture; do \n",
    "    sos run analysis/20201221_ukb_Prepare_ED_prior.ipynb flash --model $m -c midway2.yml -q midway2\n",
    "done\n",
    "```"
   ]
  },
  {
   "cell_type": "markdown",
   "metadata": {},
   "source": [
    "## Run extreme deconvolution using `udr` or `mashr`"
   ]
  },
  {
   "cell_type": "code",
   "execution_count": null,
   "metadata": {
    "kernel": "SoS"
   },
   "outputs": [],
   "source": [
    "[edudr_1, edmash_1]\n",
    "depends: R_library(\"udr\")\n",
    "parameter: npc = 3\n",
    "input: f\"{cwd}/{model}.rds\", f\"{cwd}/{model}.flash.rds\"\n",
    "output: f\"{cwd}/{model}.FL_PC{npc}.rds\"\n",
    "R: expand = \"${ }\", workdir = cwd, stderr = f\"{_output:n}.stderr\", stdout = f\"{_output:n}.stdout\"\n",
    "    dat = readRDS(${_input[0]:r})\n",
    "    vhat = cor(dat$null.z)\n",
    "    # FLASH matrices\n",
    "    U.flash = readRDS(${_input[1]:r})\n",
    "    # SVD matrices\n",
    "    res.svd = svd(dat$strong.z,nv=3,nu=3)\n",
    "    f = res.svd$v\n",
    "    rownames(f) = colnames(dat$strong.z)\n",
    "    U.pca = mashr:::cov_from_factors(t(f), \"PCA\")\n",
    "    d = diag(res.svd$d[1:3])\n",
    "    U.pca = c(U.pca, list(\"tPCA\"= f %*% d^2 %*% t(f)/nrow(dat$strong.z)))\n",
    "    # Emperical cov matrix\n",
    "    Ulist = c(U.flash, U.pca, list(\"XX\" = t(as.matrix(dat$strong.z)) %*% as.matrix(dat$strong.z) / nrow(dat$strong.z)))\n",
    "    saveRDS(list(data = dat$strong.z, Ulist = Ulist, S = cor(dat$null.z)), ${_output:r})"
   ]
  },
  {
   "cell_type": "code",
   "execution_count": null,
   "metadata": {
    "kernel": "SoS"
   },
   "outputs": [],
   "source": [
    "[edudr_2]\n",
    "output: f\"{_input:n}.EDudr.rds\"\n",
    "task: trunk_workers = 1, walltime = '36h', trunk_size = 1, mem = '4G', cores = 14, tags = f'{_output:bn}'\n",
    "R: expand = \"${ }\", workdir = cwd, stderr = f\"{_output:n}.stderr\", stdout = f\"{_output:n}.stdout\"\n",
    "    library(udr) # udr commit 5265079 with changes to set lower bound on the eigenvalues\n",
    "    dat = readRDS(${_input:r})\n",
    "    # Denoised data-driven matrices\n",
    "    f0 = ud_init(X = as.matrix(dat$data), V = dat$S, U_scaled = list(), U_unconstrained = dat$Ulist, n_rank1=0)\n",
    "    res = ud_fit(f0, control = list(unconstrained.update = \"ed\", resid.update = 'none', maxiter=5000),\n",
    "    verbose=FALSE)\n",
    "    # format to input for simulation with DSC (current pipeline)\n",
    "    saveRDS(list(U=res$U, w=res$w, loglik=res$loglik), ${_output:r}) "
   ]
  },
  {
   "cell_type": "code",
   "execution_count": null,
   "metadata": {},
   "outputs": [],
   "source": [
    "[edmash_2]\n",
    "output: f\"{_input:n}.EDmash.rds\"\n",
    "task: trunk_workers = 1, walltime = '36h', trunk_size = 1, mem = '4G', cores = 14, tags = f'{_output:bn}'\n",
    "R: expand = \"${ }\", workdir = cwd, stderr = f\"{_output:n}.stderr\", stdout = f\"{_output:n}.stdout\"\n",
    "    dat = readRDS(${_input:r})\n",
    "    mashdata = mashr::mash_set_data(as.matrix(dat$data), Shat=1, V = dat$S)\n",
    "    # Denoised data-driven matrices\n",
    "    res = mashr:::bovy_wrapper(mashdata, dat$Ulist, logfile=${_output:nr}, tol = 1e-06)\n",
    "    # format to input for simulation with DSC (current pipeline)\n",
    "    saveRDS(list(U=res$Ulist, w=res$pi, loglik=scan(\"${_output:nn}.EDmash_loglike.log\")), ${_output:r})"
   ]
  },
  {
   "cell_type": "markdown",
   "metadata": {
    "kernel": "SoS"
   },
   "source": [
    "```\n",
    "sos run analysis/20201221_ukb_Prepare_ED_prior.ipynb edudr --model artificial_mixture_ukb -c midway2.yml -q midway2\n",
    "sos run analysis/20201221_ukb_Prepare_ED_prior.ipynb edudr --model ukb_bloodcells_mixture -c midway2.yml -q midway2\n",
    "sos run analysis/20201221_ukb_Prepare_ED_prior.ipynb edmash --model artificial_mixture_ukb -c midway2.yml -q midway2\n",
    "sos run analysis/20201221_ukb_Prepare_ED_prior.ipynb edmash --model ukb_bloodcells_mixture -c midway2.yml -q midway2\n",
    "```"
   ]
  }
 ],
 "metadata": {
  "kernelspec": {
   "display_name": "R",
   "language": "R",
   "name": "ir"
  },
  "language_info": {
   "codemirror_mode": "r",
   "file_extension": ".r",
   "mimetype": "text/x-r-source",
   "name": "R",
   "pygments_lexer": "r",
   "version": "3.6.3"
  },
  "sos": {
   "kernels": [
    [
     "R",
     "ir",
     "R",
     "#DCDCDA",
     "r"
    ],
    [
     "SoS",
     "sos",
     "",
     "",
     "sos"
    ]
   ],
   "version": "0.21.13"
  }
 },
 "nbformat": 4,
 "nbformat_minor": 4
}
