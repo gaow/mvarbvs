{
 "cells": [
  {
   "cell_type": "markdown",
   "metadata": {
    "kernel": "SoS"
   },
   "source": [
    "# Enrichment analysis workflow for molecular QTL results"
   ]
  },
  {
   "cell_type": "markdown",
   "metadata": {
    "kernel": "SoS"
   },
   "source": [
    "For molecular QTL analysis results we obtained we'd like to see if:\n",
    "\n",
    "1. PIP are higher on average in certain annotation groups than in the rest of genome\n",
    "2. Is there an enrichment for variables both in CS and in some annotation groups\n",
    "    - Specifically, whether or not there is an enrichment in the secondary CS that we capture\n",
    "    \n",
    "We focus only on the results that has 1 or more CS identified.\n",
    "\n",
    "## Annotations used\n",
    "\n",
    "We use the following types of annotations:\n",
    "\n",
    "1. All histone marks for LCLs from Epigenome Roadmap\n",
    "2. [CTCF binding sites](http://www.ebi.ac.uk/birney-srv/CTCF-QTL/)\n",
    "3. POL II ChIP-seq\n",
    "4. Intron and exon regions\n",
    "5. Extended splice site, defined as 5bp up/down intron start site and 15bp up/down intron end site\n",
    "\n",
    "I will first test for enrichment with the 1st CS, then the addional CS. The idea is to discover enrichment of annotations in the first CS, then also show that the 2nd CS has similar pattern of enrichment."
   ]
  },
  {
   "cell_type": "code",
   "execution_count": 10,
   "metadata": {
    "kernel": "SoS"
   },
   "outputs": [
    {
     "data": {
      "text/html": [
       "\n",
       "        <table class=\"revision_table\">\n",
       "        <tr>\n",
       "        <th>Revision</th>\n",
       "        <th>Author</th>\n",
       "        <th>Date</th>\n",
       "        <th>Message</th>\n",
       "        <tr>\n",
       "        <tr><td><a target=\"_blank\" href=\"https://github.com/gaow/mvarbvs/blob/7f148480375c188a1af4353a6fe227c985571ac7/analysis/20180712_Enrichment_Workflow.ipynb\"><span class=\"revision_id\">7f14848<span></a></td>\n",
       "<td>Gao Wang</td>\n",
       "<td>2018-07-24</td>\n",
       "<td>Add GREGOR for matched enrichment analysis</td></tr><tr><td><a target=\"_blank\" href=\"https://github.com/gaow/mvarbvs/blob/24b7bf304421316d1c70d0cab18fe420ea96e9ed/analysis/20180712_Enrichment_Workflow.ipynb\"><span class=\"revision_id\">24b7bf3<span></a></td>\n",
       "<td>Gao Wang</td>\n",
       "<td>2018-07-13</td>\n",
       "<td>Update documentation</td></tr><tr><td><a target=\"_blank\" href=\"https://github.com/gaow/mvarbvs/blob/9531187446835c456a7a6fca586c890d8203aad4/analysis/20180712_Enrichment_Workflow.ipynb\"><span class=\"revision_id\">9531187<span></a></td>\n",
       "<td>Gao Wang</td>\n",
       "<td>2018-07-12</td>\n",
       "<td>Add CS based enrichment</td></tr><tr><td><a target=\"_blank\" href=\"https://github.com/gaow/mvarbvs/blob/e7227739946a66d644df8999a32690f93106caba/analysis/20180712_Enrichment_Workflow.ipynb\"><span class=\"revision_id\">e722773<span></a></td>\n",
       "<td>Gao Wang</td>\n",
       "<td>2018-07-12</td>\n",
       "<td>Update enrichment results</td></tr><tr><td><a target=\"_blank\" href=\"https://github.com/gaow/mvarbvs/blob/305751a80925bf3b47f0af237b73856a6b0a25e2/analysis/20180712_Enrichment_Workflow.ipynb\"><span class=\"revision_id\">305751a<span></a></td>\n",
       "<td>Gao Wang</td>\n",
       "<td>2018-07-12</td>\n",
       "<td>Add enrichment results</td></tr></table>"
      ]
     },
     "metadata": {},
     "output_type": "display_data"
    }
   ],
   "source": [
    "%revisions -s -n 10"
   ]
  },
  {
   "cell_type": "code",
   "execution_count": 2,
   "metadata": {
    "kernel": "SoS"
   },
   "outputs": [
    {
     "name": "stdout",
     "output_type": "stream",
     "text": [
      "usage: sos run 20180712_Enrichment_Workflow.ipynb\n",
      "               [workflow_name | -t targets] [options] [workflow_options]\n",
      "  workflow_name:        Single or combined workflows defined in this script\n",
      "  targets:              One or more targets to generate\n",
      "  options:              Single-hyphen sos parameters (see \"sos run -h\" for details)\n",
      "  workflow_options:     Double-hyphen workflow-specific parameters\n",
      "\n",
      "Workflows:\n",
      "  extract_sumstats\n",
      "  zscore2bed\n",
      "  get_variants\n",
      "  range2var_annotation\n",
      "  pip_rank_test\n",
      "  cs_fisher_test\n",
      "\n",
      "Global Workflow Options:\n",
      "  --y-data . (as path)\n",
      "                        Y data, the phenotype file paths\n",
      "  --trait VAL (required)\n",
      "                        Trait name\n",
      "  --cwd  path(f'{y_data:d}/{trait}_output')\n",
      "\n",
      "                        Specify work / output directory\n",
      "  --annotation-dir /home/gaow/Documents/GIT/LargeFiles/he_lab_annotations_bed (as path)\n",
      "                        Path to directory of annotation\n",
      "                        files\n",
      "  --single-annot . (as path)\n",
      "                        Path to list of single annotations\n",
      "                        to use\n",
      "  --max-dist 100000 (as int)\n",
      "                        Maximum distance to site of\n",
      "                        interest, set to eg. 100Kb or 1Mb\n",
      "                        up/downstream to start site of\n",
      "                        analysis unit\n",
      "\n",
      "Sections\n",
      "  extract_sumstats_1:   Extract summary stats from RDS files\n",
      "                        to plain text\n",
      "  extract_sumstats_2:   Consolidate results to one file\n",
      "  zscore2bed_1:         Auxiliary step to get variant in bed\n",
      "                        format based on variant ID in\n",
      "                        z-score file\n",
      "    Workflow Options:\n",
      "      --in-file . (as path)\n",
      "      --chr-prefix ''\n",
      "  zscore2bed_2:\n",
      "  get_variants:\n",
      "  range2var_annotation_1: Get variants in data that falls in\n",
      "                        target region\n",
      "  range2var_annotation_2: Make binary annotation file\n",
      "  pip_rank_test_1:      Test if PIP is larger in annotations\n",
      "  pip_rank_test_2, cs_fisher_test_2: Consolidate results to\n",
      "                        one file\n",
      "  cs_fisher_test_1:     Test if CS is enriched with\n",
      "                        annotations\n"
     ]
    }
   ],
   "source": [
    "! sos run 20180712_Enrichment_Workflow.ipynb -h"
   ]
  },
  {
   "cell_type": "markdown",
   "metadata": {
    "kernel": "SoS"
   },
   "source": [
    "## Annotation input\n",
    "\n",
    "\n",
    "Annotation files are in bed format (for example: `Coding_UCSC.bed`).\n",
    "\n",
    "```\n",
    "chr1    69090   70008\n",
    "chr1    367658  368597\n",
    "chr1    621095  622034\n",
    "......\n",
    "chr9    141121357       141121553\n",
    "chr9    141124188       141124276\n",
    "chr9    141134069       141134172\n",
    "```\n",
    "\n",
    "There are many annotations one can use. For this workflow one should prepare a list of annotations for input, like this:\n",
    "\n",
    "```\n",
    "# my annotation\n",
    "Coding_UCSC\n",
    "CTCF_binding\n",
    "E116-DNase.macs2\n",
    "E116-H2A.Z\n",
    "E116-H3K27ac\n",
    "E116-H3K27me3\n",
    "E116-H3K36me3\n",
    "E116-H3K4me1\n",
    "E116-H3K4me2\n",
    "E116-H3K4me3\n",
    "E116-H3K79me2\n",
    "E116-H3K9ac\n",
    "E116-H3K9me3\n",
    "E116-H4K20me1\n",
    "E117-DNase.macs2\n",
    "Intron_UCSC\n",
    "PolII_binding\n",
    "```\n",
    "\n",
    "comment symbol `#` is allowed."
   ]
  },
  {
   "cell_type": "markdown",
   "metadata": {
    "kernel": "SoS"
   },
   "source": [
    "## Data input"
   ]
  },
  {
   "cell_type": "markdown",
   "metadata": {
    "kernel": "SoS"
   },
   "source": [
    "Need to format the data to:"
   ]
  },
  {
   "cell_type": "markdown",
   "metadata": {
    "kernel": "SoS"
   },
   "source": [
    "```\n",
    "Variant_ID PIP z_score CS_ID \n",
    "```\n",
    "\n",
    "Where `CS_ID` is 0 if variant is not in SuSiE CS, 1 if in CS 1, 2 in CS 2, etc. `Variant_ID` carries information of chrom and pos. eg, `rs10131831_chr14_20905250_G_A`"
   ]
  },
  {
   "cell_type": "code",
   "execution_count": null,
   "metadata": {
    "kernel": "SoS"
   },
   "outputs": [],
   "source": [
    "[global]\n",
    "# Y data, the phenotype file paths\n",
    "parameter: y_data = path()\n",
    "# Trait name\n",
    "parameter: trait = None\n",
    "# Specify work / output directory\n",
    "parameter: cwd = path(f'{y_data:d}/{trait}_output')\n",
    "# Path to directory of annotation files\n",
    "parameter: annotation_dir = path('~/Documents/GIT/LargeFiles/lcl_annotation')\n",
    "# Path to list of single annotations to use\n",
    "parameter: single_annot = path() #parameter: single_annot = path(\"data/all_annotations.txt\")\n",
    "# Maximum distance to site of interest, set to eg. 100Kb or 1Mb up/downstream to start site of analysis unit\n",
    "parameter: max_dist = 100000\n",
    "fail_if(not y_data.is_file(), msg = 'Please provide valid ``--y-data``!')\n",
    "parameter: z_score = path(f'{cwd}/{y_data:bnn}_{int(max_dist/1000)}Kb/enrichment/SuSiE_loci.sumstats.gz')\n",
    "out_dir = f'{cwd}/{y_data:bnn}_{int(max_dist/1000)}Kb/enrichment/{z_score:bn}'.replace('.', '_')\n",
    "try:\n",
    "    single_anno = [f\"{annotation_dir}/{x.split()[0]}.bed\" for x in open(single_annot).readlines() if not x.startswith('#')]\n",
    "except (FileNotFoundError, IsADirectoryError):\n",
    "    single_anno = []"
   ]
  },
  {
   "cell_type": "markdown",
   "metadata": {
    "kernel": "SoS"
   },
   "source": [
    "## Prepare annotations\n",
    "\n",
    "Histone marks\n",
    "\n",
    "```\n",
    "sos run analysis/20180712_Enrichment_Workflow.ipynb download_histone_annotation --trait AS \\\n",
    "    --y-data ~/Documents/GIT/LargeFiles/JointLCL/fastqtl_qqnorm_ASintron_RNAseqGeuvadis_YangVCF.txt.gz\n",
    "```"
   ]
  },
  {
   "cell_type": "code",
   "execution_count": null,
   "metadata": {
    "kernel": "SoS"
   },
   "outputs": [],
   "source": [
    "[download_histone_annotation]\n",
    "dataset = paths([\"E116-DNase.macs2.narrowPeak.gz\",\n",
    "\"E116-H2A.Z.narrowPeak.gz\",\n",
    "\"E116-H3K4me1.narrowPeak.gz\",\n",
    "\"E116-H3K4me2.narrowPeak.gz\",\n",
    "\"E116-H3K4me3.narrowPeak.gz\",\n",
    "\"E116-H3K9ac.narrowPeak.gz\",\n",
    "\"E116-H3K9me3.narrowPeak.gz\",\n",
    "\"E116-H3K27ac.narrowPeak.gz\",\n",
    "\"E116-H3K27me3.narrowPeak.gz\",\n",
    "\"E116-H3K36me3.narrowPeak.gz\",\n",
    "\"E116-H3K79me2.narrowPeak.gz\",\n",
    "\"E116-H4K20me1.narrowPeak.gz\"])\n",
    "input: for_each = 'dataset', concurrent = True\n",
    "output: f'{annotation_dir}/{_dataset:nn}.bed'\n",
    "download: dest_dir = annotation_dir, expand = True\n",
    "    https://egg2.wustl.edu/roadmap/data/byFileType/peaks/consolidated/narrowPeak/{_dataset}\n",
    "bash: expand = True, workdir = annotation_dir\n",
    "    zcat {_dataset} | cut -f1-3 | grep -v chrM > {_output}"
   ]
  },
  {
   "cell_type": "markdown",
   "metadata": {
    "kernel": "SoS"
   },
   "source": [
    "CTCF binding:\n",
    "\n",
    "```\n",
    "sos run analysis/20180712_Enrichment_Workflow.ipynb download_ctcf_annotation --trait AS \\\n",
    "    --y-data ~/Documents/GIT/LargeFiles/JointLCL/fastqtl_qqnorm_ASintron_RNAseqGeuvadis_YangVCF.txt.gz\n",
    "```"
   ]
  },
  {
   "cell_type": "code",
   "execution_count": null,
   "metadata": {
    "kernel": "SoS"
   },
   "outputs": [],
   "source": [
    "[download_ctcf_annotation]\n",
    "output: f'{annotation_dir}/CTCF_binding.bed'\n",
    "download: dest_dir = annotation_dir\n",
    "    https://www.ebi.ac.uk/birney-srv/CTCF-QTL/phenotypes/bindings.csv\n",
    "bash: expand = True, workdir = annotation_dir\n",
    "    cut -f1-3 -d \",\" bindings.csv | tail -n+2 | sed 's/,/\\t/g' | sed 's/^/chr/g' | grep -v chrM > {_output}"
   ]
  },
  {
   "cell_type": "markdown",
   "metadata": {
    "kernel": "SoS"
   },
   "source": [
    "PolyII binding:\n",
    "\n",
    "```\n",
    "sos run analysis/20180712_Enrichment_Workflow.ipynb download_polII_annotation --trait AS \\\n",
    "    --y-data ~/Documents/GIT/LargeFiles/JointLCL/fastqtl_qqnorm_ASintron_RNAseqGeuvadis_YangVCF.txt.gz\n",
    "```\n",
    "\n",
    "Need to `liftOver`:\n",
    "\n",
    "```\n",
    "conda config --add channels bioconda\n",
    "conda install ucsc-liftover\n",
    "```"
   ]
  },
  {
   "cell_type": "code",
   "execution_count": null,
   "metadata": {
    "kernel": "SoS"
   },
   "outputs": [],
   "source": [
    "[download_polII_annotation]\n",
    "dataset = \"GSM487431_GM12878_Pol2_narrowPeak.bed.gz\"\n",
    "output: f'{annotation_dir}/PolII_binding.bed'\n",
    "download: dest_dir = annotation_dir, expand=True\n",
    "    ftp://ftp.ncbi.nlm.nih.gov/geo/samples/GSM487nnn/GSM487431/suppl/{dataset}\n",
    "download: dest_dir = annotation_dir\n",
    "    http://hgdownload.cse.ucsc.edu/goldenpath/hg18/liftOver/hg18ToHg19.over.chain.gz\n",
    "bash: expand = True, workdir = annotation_dir\n",
    "    zcat {dataset} | cut -f1-3  | grep -v chrM > {_output:n}.hg18.bed\n",
    "    liftOver {_output:n}.hg18.bed hg18ToHg19.over.chain.gz {_output} unmapped"
   ]
  },
  {
   "cell_type": "markdown",
   "metadata": {
    "kernel": "SoS"
   },
   "source": [
    "Extended splice sites:\n",
    "\n",
    "```\n",
    "sos run analysis/20180712_Enrichment_Workflow.ipynb extended_splice_site --trait AS \\\n",
    "    --y-data ~/Documents/GIT/LargeFiles/JointLCL/fastqtl_qqnorm_ASintron_RNAseqGeuvadis_YangVCF.txt.gz\n",
    "```"
   ]
  },
  {
   "cell_type": "code",
   "execution_count": null,
   "metadata": {
    "kernel": "SoS"
   },
   "outputs": [],
   "source": [
    "[extended_splice_site]\n",
    "input: f\"{annotation_dir}/Intron_UCSC.bed\"\n",
    "output: f\"{annotation_dir}/Extended_splice_site.bed\"\n",
    "python: expand = \"${ }\", workdir = annotation_dir\n",
    "    lines = [x.strip().split() for x in open(${_input:r}).readlines()]\n",
    "    out = []\n",
    "    for line in lines:\n",
    "        out.append(f'{line[0]}\\t{int(line[1])-5}\\t{int(line[1])+5}')\n",
    "        out.append(f'{line[0]}\\t{int(line[2])-15}\\t{int(line[2])+15}')\n",
    "    with open(${_output:r}, 'w') as f:\n",
    "        f.write('\\n'.join(out))"
   ]
  },
  {
   "cell_type": "markdown",
   "metadata": {
    "kernel": "SoS"
   },
   "source": [
    "## Prepare summary statistics file\n",
    "\n",
    "```\n",
    "sos run analysis/20180712_Enrichment_Workflow.ipynb extract_sumstats \\\n",
    "    --y-data ~/Documents/GIT/LargeFiles/JointLCL/fastqtl_qqnorm_ASintron_RNAseqGeuvadis_YangVCF.txt.gz \\\n",
    "    --trait AS -j 16 \n",
    "```"
   ]
  },
  {
   "cell_type": "code",
   "execution_count": null,
   "metadata": {
    "kernel": "SoS"
   },
   "outputs": [],
   "source": [
    "# Extract summary stats from RDS files to plain text\n",
    "[extract_sumstats_1]\n",
    "input: glob.glob(f'{cwd}/{y_data:bnn}_{int(max_dist/1000)}Kb/SuSiE_CS_[1-9]/*.rds'), group_by = 1, concurrent = True\n",
    "output: f'{_input:dd}/enrichment/{_input:bn}.sumstats.gz'\n",
    "R: expand = '${ }'\n",
    "    dat = readRDS(${_input:r})\n",
    "    pip = dat$pip\n",
    "    names = names(readRDS(dat$input)[[dat$idx]]$z_score)\n",
    "    zscore = readRDS(dat$input)[[dat$idx]]$z_score\n",
    "    cs_id = rep(0, length(pip))\n",
    "    for (i in 1:length(dat$sets$cs)) {\n",
    "        cs_id[dat$sets$cs[[i]]] = dat$sets$cs_index[i]\n",
    "    }\n",
    "    write.table(cbind(names,pip,zscore,cs_id), gzfile(${_output:r}), quote=FALSE, col.names=FALSE, row.names=FALSE, sep=\"\\t\")\n",
    "\n",
    "# Consolidate results to one file\n",
    "[extract_sumstats_2]\n",
    "output: f'{cwd}/{y_data:bnn}_{int(max_dist/1000)}Kb/enrichment/SuSiE_loci.sumstats.gz'\n",
    "bash: expand = True\n",
    "    zcat {_input} | gzip --best > {_output}\n",
    "_input.zap()"
   ]
  },
  {
   "cell_type": "markdown",
   "metadata": {
    "kernel": "SoS"
   },
   "source": [
    "```\n",
    "[GW] zcat /home/gaow/GIT/LargeFiles/JointLCL/AS_output/fastqtl_qqnorm_ASintron_RNAseqGeuvadis_YangVCF_100Kb/SuSiE_loci.sumstats.gz | wc -l\n",
    "1667666\n",
    "[GW] zcat /home/gaow/GIT/LargeFiles/JointLCL/AS_output/fastqtl_qqnorm_ASintron_RNAseqGeuvadis_YangVCF_100Kb/SuSiE_loci.sumstats.gz | cut -f 4 | grep 1 | wc -l\n",
    "46659\n",
    "[GW] zcat /home/gaow/GIT/LargeFiles/JointLCL/AS_output/fastqtl_qqnorm_ASintron_RNAseqGeuvadis_YangVCF_100Kb/SuSiE_loci.sumstats.gz | cut -f 4 | grep 2 | wc -l\n",
    "2212\n",
    "[GW] zcat /home/gaow/GIT/LargeFiles/JointLCL/AS_output/fastqtl_qqnorm_ASintron_RNAseqGeuvadis_YangVCF_100Kb/SuSiE_loci.sumstats.gz | cut -f 4 | grep 3 | wc -l\n",
    "152\n",
    "```\n",
    "\n",
    "So we have total of 1667666 variants, 46659 in CS 1, 2212 in CS 2."
   ]
  },
  {
   "cell_type": "markdown",
   "metadata": {
    "kernel": "SoS"
   },
   "source": [
    "## Convert variants from summary statistics to bed format"
   ]
  },
  {
   "cell_type": "code",
   "execution_count": null,
   "metadata": {
    "kernel": "SoS"
   },
   "outputs": [],
   "source": [
    "# Auxiliary step to get variant in bed format based on variant ID in z-score file\n",
    "[zscore2bed_1]\n",
    "parameter: in_file = path()\n",
    "parameter: chr_prefix = \"\"\n",
    "input: in_file\n",
    "output: f'{_input:n}.bed.unsorted'\n",
    "R: expand = \"${ }\", docker_image = 'gaow/atac-gwas', workdir = cwd, stdout = f'{_output:n}.stdout'\n",
    "    library(readr)\n",
    "    library(stringr)\n",
    "    library(dplyr)\n",
    "    var_file <- ${_input:r}\n",
    "    out_file <- ${_output:r}\n",
    "\n",
    "    variants <- read_tsv(var_file)\n",
    "    colnames(variants) = c('variant', 'pip', 'zscore', 'cs')\n",
    "    var_info <- str_split(variants$variant, \"_\")\n",
    "    variants <- mutate(variants, chr = paste0(\"${chr_prefix}\", sapply(var_info, function(x){x[2]})), \n",
    "                                 pos = sapply(var_info, function(x){x[3]})) %>%\n",
    "                mutate(start = as.numeric(pos), stop=as.numeric(pos)  + 1) %>%\n",
    "                select(chr, start, stop, variant)\n",
    "    options(scipen=1000) # So that positions are always fully written out)\n",
    "    write.table(variants, file=out_file, quote=FALSE, col.names=FALSE, row.names=FALSE, sep=\"\\t\")\n",
    "\n",
    "[zscore2bed_2]\n",
    "output: f'{_input:n}'\n",
    "bash: expand = True, docker_image = 'gaow/atac-gwas', workdir = cwd\n",
    "     sort-bed {_input} > {_output}\n",
    "_input.zap()\n",
    "\n",
    "[get_variants: provides = '{data}.bed']\n",
    "output: f'{data}.bed'\n",
    "sos_run('zscore2bed', in_file = f'{_output:n}.gz')"
   ]
  },
  {
   "cell_type": "markdown",
   "metadata": {
    "kernel": "SoS"
   },
   "source": [
    "## Apply ranged based annotations\n",
    "\n",
    "```\n",
    "sos run analysis/20180712_Enrichment_Workflow.ipynb range2var_annotation \\\n",
    "    --y-data ~/Documents/GIT/LargeFiles/JointLCL/fastqtl_qqnorm_ASintron_RNAseqGeuvadis_YangVCF.txt.gz \\\n",
    "    --trait AS -j 16 \\\n",
    "    --single-annot data/annotation.list \n",
    "```"
   ]
  },
  {
   "cell_type": "code",
   "execution_count": null,
   "metadata": {
    "kernel": "SoS"
   },
   "outputs": [],
   "source": [
    "# Get variants in data that falls in target region\n",
    "[range2var_annotation_1]\n",
    "depends: f'{z_score:n}.bed'\n",
    "input: set(paths(single_anno)), group_by = 1, concurrent = True\n",
    "output: f'{out_dir}/{_input:bn}.{z_score:bn}.bed'\n",
    "bash: expand = True, docker_image = 'gaow/atac-gwas', workdir = cwd, volumes = f'{annotation_dir}:{annotation_dir}'\n",
    "    bedops -e {z_score:n}.bed {_input} > {_output}"
   ]
  },
  {
   "cell_type": "code",
   "execution_count": null,
   "metadata": {
    "kernel": "SoS"
   },
   "outputs": [],
   "source": [
    "# Make binary annotation file\n",
    "[range2var_annotation_2]\n",
    "depends: z_score\n",
    "input: group_by = 1, concurrent = True\n",
    "output: f'{_input:n}.gz'\n",
    "R: expand = \"${ }\", docker_image = 'gaow/atac-gwas', workdir = cwd, stdout = f'{_output:n}.stdout'\n",
    "    library(readr)\n",
    "    library(dplyr)\n",
    "    library(stringr)\n",
    "\n",
    "    variant_tsv <- ${z_score:r}\n",
    "    annotation_var_bed <- ${_input:r}\n",
    "    annot_name <- ${_input:bnr} %>% str_replace(paste0(\".\",${z_score:bnr}), \"\")\n",
    "    out_name <- ${_output:r}\n",
    "\n",
    "    vars <- read_tsv(variant_tsv)[,1]\n",
    "    annot_vars = read_tsv(annotation_var_bed, col_names=FALSE)\n",
    "    names(vars) <- \"SNP\"\n",
    "    vars <- vars %>%\n",
    "            mutate(annot_d = case_when(SNP %in% annot_vars$X4 ~ 1,\n",
    "                                                        TRUE ~ 0))\n",
    "    names(vars)[2] <- annot_name\n",
    "    write.table(vars, file=gzfile(out_name),\n",
    "                col.names=TRUE, row.names=FALSE, sep=\"\\t\", quote=FALSE)"
   ]
  },
  {
   "cell_type": "markdown",
   "metadata": {
    "kernel": "SoS"
   },
   "source": [
    "## Matched enrichment analysis via GREGOR\n",
    "\n",
    "To properly perform enrichment analysis we want to match the control SNPs with the SNPs of interest -- that is, SNPs inside CS -- in terms of LD, distance to nearest gene and MAF. The [GREGOR](http://csg.sph.umich.edu/GREGOR/index.php/site/download) software can generate list of matched SNPs. I will use SNPs inside CS as input and expect a list of output SNPs matching these inputs.\n",
    "\n",
    "GREGOR is release under University of Michigan license so I'll not make it into a docker image. So path to GREGOR directory is required. Also we need reference files, prepared by:\n",
    "\n",
    "```\n",
    "cat \\\n",
    "    GREGOR.AFR.ref.r2.greater.than.0.7.tar.gz.part.00 \\\n",
    "    GREGOR.AFR.ref.r2.greater.than.0.7.tar.gz.part.01 \\\n",
    "    > GREGOR.AFR.ref.r2.greater.than.0.7.tar.gz\n",
    "tar zxvf GREGOR.AFR.ref.r2.greater.than.0.7.tar.gz\n",
    "```\n",
    "\n",
    "MD5SUM check:\n",
    "\n",
    "```\n",
    "AFR.part.0\t( MD5: 9926904128dd58d6bf1ad4f1e90638af )\n",
    "AFR.part.1\t( MD5: c1d30aff89a584bfa8c1fa1bdc197f21 )\n",
    "```"
   ]
  },
  {
   "cell_type": "markdown",
   "metadata": {
    "kernel": "SoS"
   },
   "source": [
    "The input file can be a list of `rs` ID's. In `SuSiE_loci.sumstats.gz` we do have this information. "
   ]
  },
  {
   "cell_type": "markdown",
   "metadata": {
    "kernel": "SoS"
   },
   "source": [
    "```\n",
    "sos run analysis/20180712_Enrichment_Workflow.ipynb gregor \\\n",
    "    --y-data ~/Documents/GIT/LargeFiles/JointLCL/fastqtl_qqnorm_ASintron_RNAseqGeuvadis_YangVCF.txt.gz \\\n",
    "    --trait AS -j 16 \\\n",
    "    --single-annot data/annotation.list \n",
    "```"
   ]
  },
  {
   "cell_type": "code",
   "execution_count": null,
   "metadata": {
    "kernel": "SoS"
   },
   "outputs": [],
   "source": [
    "[gregor_1 (make SNP index)]\n",
    "input: z_score\n",
    "output: f'{_input:nn}.rsid.txt', f'{_input:nn}.annotations.list'\n",
    "bash: expand = '${ }'\n",
    "    zcat ${_input} | cut -f 2,3 -d \"_\" | sed 's/_/:/g' > ${_output[0]}\n",
    "\n",
    "with open(_output[1], 'w') as f:\n",
    "    f.write('\\n'.join(single_anno))\n",
    "\n",
    "[gregor_2 (make configuration file)]\n",
    "parameter: gregor_db = path('~/GIT/LargeFiles/GREGOR_DB')\n",
    "parameter: pop = 'AFR'\n",
    "parameter: ncpu = 10\n",
    "output: f'{_input[0]:nn}.gregor.conf'\n",
    "report: output = f'{_output}', expand = True\n",
    "    ##############################################################################\n",
    "    # CHIPSEQ ENRICHMENT CONFIGURATION FILE\n",
    "    # This configuration file contains run-time configuration of\n",
    "    # CHIP_SEQ ENRICHMENT\n",
    "    ###############################################################################\n",
    "    ## KEY ELEMENTS TO CONFIGURE : NEED TO MODIFY\n",
    "    ###############################################################################\n",
    "    INDEX_SNP_FILE = {_input[0]}\n",
    "    BED_FILE_INDEX = {_input[1]} \n",
    "    REF_DIR = {gregor_db}\n",
    "    R2THRESHOLD = 0.7 ## must be greater than 0.7\n",
    "    LDWINDOWSIZE = 10000 ## must be less than 1MB; these two values define LD buddies\n",
    "    OUT_DIR = {_output:nn}_gregor_output\n",
    "    MIN_NEIGHBOR_NUM = 10 ## define the size of neighborhood\n",
    "    BEDFILE_IS_SORTED = true  ## false, if the bed files are not sorted\n",
    "    POPULATION = {pop}  ## define the population, you can specify EUR, AFR, AMR or ASN\n",
    "    TOPNBEDFILES = 2 \n",
    "    JOBNUMBER = {ncpu}\n",
    "    ###############################################################################\n",
    "    #BATCHTYPE = mosix ##  submit jobs on MOSIX\n",
    "    #BATCHOPTS = -E/tmp -i -m2000 -j10,11,12,13,14,15,16,17,18,19,120,122,123,124,125 sh -c\n",
    "    ###############################################################################\n",
    "    #BATCHTYPE = slurm   ##  submit jobs on SLURM\n",
    "    #BATCHOPTS = --partition=broadwl --account=pi-mstephens --time=0:30:0\n",
    "    ###############################################################################\n",
    "    BATCHTYPE = local ##  run jobs on local machine\n",
    "\n",
    "bash: expand = True\n",
    "    sed -i '/^$/d' {_output}"
   ]
  },
  {
   "cell_type": "markdown",
   "metadata": {
    "kernel": "SoS"
   },
   "source": [
    "GREGOR is written in `perl`. Some libraries are required to run GREGOR:\n",
    "\n",
    "```\n",
    "sudo apt-get install libdbi-perl libswitch-perl libdbd-sqlite3-perl\n",
    "```"
   ]
  },
  {
   "cell_type": "code",
   "execution_count": null,
   "metadata": {
    "kernel": "SoS"
   },
   "outputs": [],
   "source": [
    "[gregor_3 (run gregor)]\n",
    "parameter: gregor_path = path('/opt/GREGOR')\n",
    "output: f'{_input:nn}_gregor_output/StatisticSummaryFile.txt'\n",
    "bash: expand = True\n",
    "    perl {gregor_path}/script/GREGOR.pl --conf {_input} && touch {_output}\n",
    "\n",
    "[gregor_4 (format output)]\n",
    "output: f'{_input:n}.csv'\n",
    "bash: expand = True\n",
    "    sed 's/\\t/,/g' {_input} > {_output}"
   ]
  },
  {
   "cell_type": "code",
   "execution_count": 7,
   "metadata": {
    "kernel": "R"
   },
   "outputs": [
    {
     "data": {
      "text/html": [
       "<table>\n",
       "<thead><tr><th></th><th scope=col>Bed_File</th><th scope=col>InBed_Index_SNP</th><th scope=col>ExpectNum_of_InBed_SNP</th><th scope=col>PValue</th></tr></thead>\n",
       "<tbody>\n",
       "\t<tr><th scope=row>2</th><td>POLII_DeMayo.bed                               </td><td>148424                                         </td><td> 66768.2288                                    </td><td> 0.000000e+00                                  </td></tr>\n",
       "\t<tr><th scope=row>4</th><td>TSS_Hoffman.bed                                </td><td>105040                                         </td><td> 51686.5347                                    </td><td> 0.000000e+00                                  </td></tr>\n",
       "\t<tr><th scope=row>7</th><td>DGF_ENCODE.bed                                 </td><td>352229                                         </td><td>304847.0034                                    </td><td> 0.000000e+00                                  </td></tr>\n",
       "\t<tr><th scope=row>9</th><td>h3k4me3-final-C-48h.bed                        </td><td> 95058                                         </td><td> 51763.8750                                    </td><td> 0.000000e+00                                  </td></tr>\n",
       "\t<tr><th scope=row>12</th><td>CN_range_anno.bed                              </td><td>120947                                         </td><td>108629.8275                                    </td><td> 0.000000e+00                                  </td></tr>\n",
       "\t<tr><th scope=row>13</th><td>h3k4me1-final-C-48h.bed                        </td><td>208171                                         </td><td>156068.2213                                    </td><td> 0.000000e+00                                  </td></tr>\n",
       "\t<tr><th scope=row>15</th><td>UTR_3_UCSC.bed                                 </td><td> 62993                                         </td><td> 38469.2608                                    </td><td> 0.000000e+00                                  </td></tr>\n",
       "\t<tr><th scope=row>16</th><td>NSC_range_anno.bed                             </td><td>112092                                         </td><td> 98634.1120                                    </td><td> 0.000000e+00                                  </td></tr>\n",
       "\t<tr><th scope=row>17</th><td>Enhancer_Andersson.bed                         </td><td> 23736                                         </td><td> 16741.3500                                    </td><td> 0.000000e+00                                  </td></tr>\n",
       "\t<tr><th scope=row>18</th><td>E8_TCM_D_48h.bed                               </td><td>159330                                         </td><td>118319.0294                                    </td><td> 0.000000e+00                                  </td></tr>\n",
       "\t<tr><th scope=row>19</th><td>h3k4me1-final-D-48h.bed                        </td><td>201232                                         </td><td>152916.2864                                    </td><td> 0.000000e+00                                  </td></tr>\n",
       "\t<tr><th scope=row>21</th><td>hic_human_gain_interacting_DT1_dTL4_D_48h.bed  </td><td>  7201                                         </td><td>  3406.4494                                    </td><td> 0.000000e+00                                  </td></tr>\n",
       "\t<tr><th scope=row>22</th><td>DHS_peaks_Trynka.bed                           </td><td>290817                                         </td><td>266604.2877                                    </td><td> 0.000000e+00                                  </td></tr>\n",
       "\t<tr><th scope=row>23</th><td>E8_TCM_T_48h.bed                               </td><td>146277                                         </td><td>106205.1566                                    </td><td> 0.000000e+00                                  </td></tr>\n",
       "\t<tr><th scope=row>24</th><td>Enhancer_Hoffman.bed                           </td><td>158045                                         </td><td>107265.6836                                    </td><td> 0.000000e+00                                  </td></tr>\n",
       "\t<tr><th scope=row>25</th><td>hic_all_interacting_DT1_dTL4_D_48h_expanded.bed</td><td>282194                                         </td><td>179417.3868                                    </td><td> 0.000000e+00                                  </td></tr>\n",
       "\t<tr><th scope=row>26</th><td>H3K4me3.bed                                    </td><td> 65160                                         </td><td> 33016.5929                                    </td><td> 0.000000e+00                                  </td></tr>\n",
       "\t<tr><th scope=row>27</th><td>DN_range_anno.bed                              </td><td>177616                                         </td><td>158188.9712                                    </td><td> 0.000000e+00                                  </td></tr>\n",
       "\t<tr><th scope=row>28</th><td>TFBS_ENCODE.bed                                </td><td>343409                                         </td><td>281616.0570                                    </td><td> 0.000000e+00                                  </td></tr>\n",
       "\t<tr><th scope=row>29</th><td>SuperEnhancer_Hnisz.bed                        </td><td>227836                                         </td><td>155177.3329                                    </td><td> 0.000000e+00                                  </td></tr>\n",
       "\t<tr><th scope=row>30</th><td>FetalDHS_Trynka.bed                            </td><td>241405                                         </td><td>215215.1876                                    </td><td> 0.000000e+00                                  </td></tr>\n",
       "\t<tr><th scope=row>31</th><td>H3K27ac_PGC2.bed                               </td><td>419715                                         </td><td>341032.7564                                    </td><td> 0.000000e+00                                  </td></tr>\n",
       "\t<tr><th scope=row>33</th><td>hic_all_interacting_DT1_dTL4_D_48h.bed         </td><td>156628                                         </td><td> 94286.0462                                    </td><td> 0.000000e+00                                  </td></tr>\n",
       "\t<tr><th scope=row>34</th><td>ips_range_anno.bed                             </td><td>225026                                         </td><td>199397.0582                                    </td><td> 0.000000e+00                                  </td></tr>\n",
       "\t<tr><th scope=row>36</th><td>Transcribed_Hoffman.bed                        </td><td>472250                                         </td><td>425468.7470                                    </td><td> 0.000000e+00                                  </td></tr>\n",
       "\t<tr><th scope=row>37</th><td>UTR_5_UCSC.bed                                 </td><td> 43607                                         </td><td> 24890.7079                                    </td><td> 0.000000e+00                                  </td></tr>\n",
       "\t<tr><th scope=row>41</th><td>Promoter_UCSC.bed                              </td><td>124896                                         </td><td> 72956.8647                                    </td><td> 0.000000e+00                                  </td></tr>\n",
       "\t<tr><th scope=row>42</th><td>H3K4me1_peaks_Trynka.bed                       </td><td>378846                                         </td><td>327010.4645                                    </td><td> 0.000000e+00                                  </td></tr>\n",
       "\t<tr><th scope=row>43</th><td>CTCF_Hoffman.bed                               </td><td> 96020                                         </td><td> 78533.4241                                    </td><td> 0.000000e+00                                  </td></tr>\n",
       "\t<tr><th scope=row>44</th><td>H3K27ac.bed                                    </td><td> 32067                                         </td><td> 17557.1494                                    </td><td> 0.000000e+00                                  </td></tr>\n",
       "\t<tr><th scope=row>46</th><td>PromoterFlanking_Hoffman.bed                   </td><td> 55782                                         </td><td> 33676.5310                                    </td><td> 0.000000e+00                                  </td></tr>\n",
       "\t<tr><th scope=row>47</th><td>h3k4me3-final-D-48h.bed                        </td><td> 97934                                         </td><td> 54390.0531                                    </td><td> 0.000000e+00                                  </td></tr>\n",
       "\t<tr><th scope=row>48</th><td>h3k27ac-final-C-48h.bed                        </td><td>138545                                         </td><td> 97309.2398                                    </td><td> 0.000000e+00                                  </td></tr>\n",
       "\t<tr><th scope=row>49</th><td>DNaseI.bed                                     </td><td>180607                                         </td><td>114976.6276                                    </td><td> 0.000000e+00                                  </td></tr>\n",
       "\t<tr><th scope=row>50</th><td>WeakEnhancer_Hoffman.bed                       </td><td> 91516                                         </td><td> 71120.7073                                    </td><td> 0.000000e+00                                  </td></tr>\n",
       "\t<tr><th scope=row>51</th><td>Coding_UCSC.bed                                </td><td> 90547                                         </td><td> 54338.7560                                    </td><td> 0.000000e+00                                  </td></tr>\n",
       "\t<tr><th scope=row>52</th><td>GA_range_anno.bed                              </td><td>164513                                         </td><td>144006.7218                                    </td><td> 0.000000e+00                                  </td></tr>\n",
       "\t<tr><th scope=row>53</th><td>H3K27ac_Hnisz.bed                              </td><td>461449                                         </td><td>376970.7602                                    </td><td> 0.000000e+00                                  </td></tr>\n",
       "\t<tr><th scope=row>54</th><td>hic_harmonizome_interacting_DT1_dTL4_D_48h.bed </td><td> 23990                                         </td><td> 13069.6623                                    </td><td> 0.000000e+00                                  </td></tr>\n",
       "\t<tr><th scope=row>55</th><td>H3K9ac_peaks_Trynka.bed                        </td><td>191165                                         </td><td>126158.2969                                    </td><td> 0.000000e+00                                  </td></tr>\n",
       "\t<tr><th scope=row>57</th><td>H3K4me3_peaks_Trynka.bed                       </td><td>180459                                         </td><td>133295.4966                                    </td><td> 0.000000e+00                                  </td></tr>\n",
       "\t<tr><th scope=row>58</th><td>h3k27ac-final-D-48h.bed                        </td><td>141034                                         </td><td>101569.3987                                    </td><td> 0.000000e+00                                  </td></tr>\n",
       "\t<tr><th scope=row>32</th><td>eQTL_0.1_FDR.bed                               </td><td>  2286                                         </td><td>  1053.1653                                    </td><td>2.483173e-304                                  </td></tr>\n",
       "\t<tr><th scope=row>14</th><td>eQTL_0.05_FDR.bed                              </td><td>  1652                                         </td><td>   731.2447                                    </td><td>3.292609e-243                                  </td></tr>\n",
       "\t<tr><th scope=row>11</th><td>FOSL2.bed                                      </td><td> 19949                                         </td><td> 16902.1539                                    </td><td>3.312756e-134                                  </td></tr>\n",
       "\t<tr><th scope=row>8</th><td>hESC-RegElements-hg19.bed                      </td><td> 17907                                         </td><td> 15011.6075                                    </td><td>7.171432e-132                                  </td></tr>\n",
       "\t<tr><th scope=row>45</th><td>PLZF.bed                                       </td><td>  1617                                         </td><td>   931.9039                                    </td><td> 4.260820e-98                                  </td></tr>\n",
       "\t<tr><th scope=row>6</th><td>PGR-B_Bagchi.bed                               </td><td> 18705                                         </td><td> 16222.1686                                    </td><td> 2.556596e-92                                  </td></tr>\n",
       "\t<tr><th scope=row>10</th><td>H3K27me3.bed                                   </td><td>  6150                                         </td><td>  5064.4085                                    </td><td> 3.989667e-55                                  </td></tr>\n",
       "\t<tr><th scope=row>5</th><td>NR2F2.bed                                      </td><td> 15691                                         </td><td> 13987.8574                                    </td><td> 4.911642e-52                                  </td></tr>\n",
       "\t<tr><th scope=row>3</th><td>PGR-A_Bagchi.bed                               </td><td> 10598                                         </td><td>  9415.0148                                    </td><td> 4.915404e-38                                  </td></tr>\n",
       "\t<tr><th scope=row>39</th><td>Conserved_LindbladToh.bed                      </td><td> 88432                                         </td><td> 86063.5185                                    </td><td> 1.639221e-23                                  </td></tr>\n",
       "\t<tr><th scope=row>1</th><td>1_GATA2-Interval-Track.bed                     </td><td> 48250                                         </td><td> 46682.3763                                    </td><td> 1.014878e-15                                  </td></tr>\n",
       "\t<tr><th scope=row>20</th><td>FOXO1_DeMayo.bed                               </td><td> 23060                                         </td><td> 22572.3426                                    </td><td> 2.802158e-04                                  </td></tr>\n",
       "\t<tr><th scope=row>35</th><td>PGR_Demayo.bed                                 </td><td>  6543                                         </td><td>  6550.6041                                    </td><td> 5.414172e-01                                  </td></tr>\n",
       "\t<tr><th scope=row>38</th><td>FAIRE.bed                                      </td><td> 36952                                         </td><td> 45491.3816                                    </td><td> 1.000000e+00                                  </td></tr>\n",
       "\t<tr><th scope=row>40</th><td>Repressed_Hoffman.bed                          </td><td>226858                                         </td><td>353001.2185                                    </td><td> 1.000000e+00                                  </td></tr>\n",
       "\t<tr><th scope=row>56</th><td>Intron_UCSC.bed                                </td><td>378875                                         </td><td>387183.3032                                    </td><td> 1.000000e+00                                  </td></tr>\n",
       "</tbody>\n",
       "</table>\n"
      ],
      "text/latex": [
       "\\begin{tabular}{r|llll}\n",
       "  & Bed\\_File & InBed\\_Index\\_SNP & ExpectNum\\_of\\_InBed\\_SNP & PValue\\\\\n",
       "\\hline\n",
       "\t2 & POLII\\_DeMayo.bed                                & 148424                                            &  66768.2288                                       &  0.000000e+00                                    \\\\\n",
       "\t4 & TSS\\_Hoffman.bed                                 & 105040                                            &  51686.5347                                       &  0.000000e+00                                    \\\\\n",
       "\t7 & DGF\\_ENCODE.bed                                  & 352229                                            & 304847.0034                                       &  0.000000e+00                                    \\\\\n",
       "\t9 & h3k4me3-final-C-48h.bed                         &  95058                                          &  51763.8750                                     &  0.000000e+00                                  \\\\\n",
       "\t12 & CN\\_range\\_anno.bed                               & 120947                                              & 108629.8275                                         &  0.000000e+00                                      \\\\\n",
       "\t13 & h3k4me1-final-C-48h.bed                         & 208171                                          & 156068.2213                                     &  0.000000e+00                                  \\\\\n",
       "\t15 & UTR\\_3\\_UCSC.bed                                  &  62993                                              &  38469.2608                                         &  0.000000e+00                                      \\\\\n",
       "\t16 & NSC\\_range\\_anno.bed                              & 112092                                              &  98634.1120                                         &  0.000000e+00                                      \\\\\n",
       "\t17 & Enhancer\\_Andersson.bed                          &  23736                                            &  16741.3500                                       &  0.000000e+00                                    \\\\\n",
       "\t18 & E8\\_TCM\\_D\\_48h.bed                                & 159330                                                & 118319.0294                                           &  0.000000e+00                                        \\\\\n",
       "\t19 & h3k4me1-final-D-48h.bed                         & 201232                                          & 152916.2864                                     &  0.000000e+00                                  \\\\\n",
       "\t21 & hic\\_human\\_gain\\_interacting\\_DT1\\_dTL4\\_D\\_48h.bed   &   7201                                                        &   3406.4494                                                   &  0.000000e+00                                                \\\\\n",
       "\t22 & DHS\\_peaks\\_Trynka.bed                            & 290817                                              & 266604.2877                                         &  0.000000e+00                                      \\\\\n",
       "\t23 & E8\\_TCM\\_T\\_48h.bed                                & 146277                                                & 106205.1566                                           &  0.000000e+00                                        \\\\\n",
       "\t24 & Enhancer\\_Hoffman.bed                            & 158045                                            & 107265.6836                                       &  0.000000e+00                                    \\\\\n",
       "\t25 & hic\\_all\\_interacting\\_DT1\\_dTL4\\_D\\_48h\\_expanded.bed & 282194                                                        & 179417.3868                                                   &  0.000000e+00                                                \\\\\n",
       "\t26 & H3K4me3.bed                                     &  65160                                          &  33016.5929                                     &  0.000000e+00                                  \\\\\n",
       "\t27 & DN\\_range\\_anno.bed                               & 177616                                              & 158188.9712                                         &  0.000000e+00                                      \\\\\n",
       "\t28 & TFBS\\_ENCODE.bed                                 & 343409                                            & 281616.0570                                       &  0.000000e+00                                    \\\\\n",
       "\t29 & SuperEnhancer\\_Hnisz.bed                         & 227836                                            & 155177.3329                                       &  0.000000e+00                                    \\\\\n",
       "\t30 & FetalDHS\\_Trynka.bed                             & 241405                                            & 215215.1876                                       &  0.000000e+00                                    \\\\\n",
       "\t31 & H3K27ac\\_PGC2.bed                                & 419715                                            & 341032.7564                                       &  0.000000e+00                                    \\\\\n",
       "\t33 & hic\\_all\\_interacting\\_DT1\\_dTL4\\_D\\_48h.bed          & 156628                                                      &  94286.0462                                                 &  0.000000e+00                                              \\\\\n",
       "\t34 & ips\\_range\\_anno.bed                              & 225026                                              & 199397.0582                                         &  0.000000e+00                                      \\\\\n",
       "\t36 & Transcribed\\_Hoffman.bed                         & 472250                                            & 425468.7470                                       &  0.000000e+00                                    \\\\\n",
       "\t37 & UTR\\_5\\_UCSC.bed                                  &  43607                                              &  24890.7079                                         &  0.000000e+00                                      \\\\\n",
       "\t41 & Promoter\\_UCSC.bed                               & 124896                                            &  72956.8647                                       &  0.000000e+00                                    \\\\\n",
       "\t42 & H3K4me1\\_peaks\\_Trynka.bed                        & 378846                                              & 327010.4645                                         &  0.000000e+00                                      \\\\\n",
       "\t43 & CTCF\\_Hoffman.bed                                &  96020                                            &  78533.4241                                       &  0.000000e+00                                    \\\\\n",
       "\t44 & H3K27ac.bed                                     &  32067                                          &  17557.1494                                     &  0.000000e+00                                  \\\\\n",
       "\t46 & PromoterFlanking\\_Hoffman.bed                    &  55782                                            &  33676.5310                                       &  0.000000e+00                                    \\\\\n",
       "\t47 & h3k4me3-final-D-48h.bed                         &  97934                                          &  54390.0531                                     &  0.000000e+00                                  \\\\\n",
       "\t48 & h3k27ac-final-C-48h.bed                         & 138545                                          &  97309.2398                                     &  0.000000e+00                                  \\\\\n",
       "\t49 & DNaseI.bed                                      & 180607                                          & 114976.6276                                     &  0.000000e+00                                  \\\\\n",
       "\t50 & WeakEnhancer\\_Hoffman.bed                        &  91516                                            &  71120.7073                                       &  0.000000e+00                                    \\\\\n",
       "\t51 & Coding\\_UCSC.bed                                 &  90547                                            &  54338.7560                                       &  0.000000e+00                                    \\\\\n",
       "\t52 & GA\\_range\\_anno.bed                               & 164513                                              & 144006.7218                                         &  0.000000e+00                                      \\\\\n",
       "\t53 & H3K27ac\\_Hnisz.bed                               & 461449                                            & 376970.7602                                       &  0.000000e+00                                    \\\\\n",
       "\t54 & hic\\_harmonizome\\_interacting\\_DT1\\_dTL4\\_D\\_48h.bed  &  23990                                                      &  13069.6623                                                 &  0.000000e+00                                              \\\\\n",
       "\t55 & H3K9ac\\_peaks\\_Trynka.bed                         & 191165                                              & 126158.2969                                         &  0.000000e+00                                      \\\\\n",
       "\t57 & H3K4me3\\_peaks\\_Trynka.bed                        & 180459                                              & 133295.4966                                         &  0.000000e+00                                      \\\\\n",
       "\t58 & h3k27ac-final-D-48h.bed                         & 141034                                          & 101569.3987                                     &  0.000000e+00                                  \\\\\n",
       "\t32 & eQTL\\_0.1\\_FDR.bed                                &   2286                                              &   1053.1653                                         & 2.483173e-304                                      \\\\\n",
       "\t14 & eQTL\\_0.05\\_FDR.bed                               &   1652                                              &    731.2447                                         & 3.292609e-243                                      \\\\\n",
       "\t11 & FOSL2.bed                                       &  19949                                          &  16902.1539                                     & 3.312756e-134                                  \\\\\n",
       "\t8 & hESC-RegElements-hg19.bed                       &  17907                                          &  15011.6075                                     & 7.171432e-132                                  \\\\\n",
       "\t45 & PLZF.bed                                        &   1617                                          &    931.9039                                     &  4.260820e-98                                  \\\\\n",
       "\t6 & PGR-B\\_Bagchi.bed                                &  18705                                            &  16222.1686                                       &  2.556596e-92                                    \\\\\n",
       "\t10 & H3K27me3.bed                                    &   6150                                          &   5064.4085                                     &  3.989667e-55                                  \\\\\n",
       "\t5 & NR2F2.bed                                       &  15691                                          &  13987.8574                                     &  4.911642e-52                                  \\\\\n",
       "\t3 & PGR-A\\_Bagchi.bed                                &  10598                                            &   9415.0148                                       &  4.915404e-38                                    \\\\\n",
       "\t39 & Conserved\\_LindbladToh.bed                       &  88432                                            &  86063.5185                                       &  1.639221e-23                                    \\\\\n",
       "\t1 & 1\\_GATA2-Interval-Track.bed                      &  48250                                            &  46682.3763                                       &  1.014878e-15                                    \\\\\n",
       "\t20 & FOXO1\\_DeMayo.bed                                &  23060                                            &  22572.3426                                       &  2.802158e-04                                    \\\\\n",
       "\t35 & PGR\\_Demayo.bed                                  &   6543                                            &   6550.6041                                       &  5.414172e-01                                    \\\\\n",
       "\t38 & FAIRE.bed                                       &  36952                                          &  45491.3816                                     &  1.000000e+00                                  \\\\\n",
       "\t40 & Repressed\\_Hoffman.bed                           & 226858                                            & 353001.2185                                       &  1.000000e+00                                    \\\\\n",
       "\t56 & Intron\\_UCSC.bed                                 & 378875                                            & 387183.3032                                       &  1.000000e+00                                    \\\\\n",
       "\\end{tabular}\n"
      ],
      "text/markdown": [
       "\n",
       "| <!--/--> | Bed_File | InBed_Index_SNP | ExpectNum_of_InBed_SNP | PValue | \n",
       "|---|---|---|---|---|---|---|---|---|---|---|---|---|---|---|---|---|---|---|---|---|---|---|---|---|---|---|---|---|---|---|---|---|---|---|---|---|---|---|---|---|---|---|---|---|---|---|---|---|---|---|---|---|---|---|---|---|---|\n",
       "| 2 | POLII_DeMayo.bed                                | 148424                                          |  66768.2288                                     |  0.000000e+00                                   | \n",
       "| 4 | TSS_Hoffman.bed                                 | 105040                                          |  51686.5347                                     |  0.000000e+00                                   | \n",
       "| 7 | DGF_ENCODE.bed                                  | 352229                                          | 304847.0034                                     |  0.000000e+00                                   | \n",
       "| 9 | h3k4me3-final-C-48h.bed                         |  95058                                          |  51763.8750                                     |  0.000000e+00                                   | \n",
       "| 12 | CN_range_anno.bed                               | 120947                                          | 108629.8275                                     |  0.000000e+00                                   | \n",
       "| 13 | h3k4me1-final-C-48h.bed                         | 208171                                          | 156068.2213                                     |  0.000000e+00                                   | \n",
       "| 15 | UTR_3_UCSC.bed                                  |  62993                                          |  38469.2608                                     |  0.000000e+00                                   | \n",
       "| 16 | NSC_range_anno.bed                              | 112092                                          |  98634.1120                                     |  0.000000e+00                                   | \n",
       "| 17 | Enhancer_Andersson.bed                          |  23736                                          |  16741.3500                                     |  0.000000e+00                                   | \n",
       "| 18 | E8_TCM_D_48h.bed                                | 159330                                          | 118319.0294                                     |  0.000000e+00                                   | \n",
       "| 19 | h3k4me1-final-D-48h.bed                         | 201232                                          | 152916.2864                                     |  0.000000e+00                                   | \n",
       "| 21 | hic_human_gain_interacting_DT1_dTL4_D_48h.bed   |   7201                                          |   3406.4494                                     |  0.000000e+00                                   | \n",
       "| 22 | DHS_peaks_Trynka.bed                            | 290817                                          | 266604.2877                                     |  0.000000e+00                                   | \n",
       "| 23 | E8_TCM_T_48h.bed                                | 146277                                          | 106205.1566                                     |  0.000000e+00                                   | \n",
       "| 24 | Enhancer_Hoffman.bed                            | 158045                                          | 107265.6836                                     |  0.000000e+00                                   | \n",
       "| 25 | hic_all_interacting_DT1_dTL4_D_48h_expanded.bed | 282194                                          | 179417.3868                                     |  0.000000e+00                                   | \n",
       "| 26 | H3K4me3.bed                                     |  65160                                          |  33016.5929                                     |  0.000000e+00                                   | \n",
       "| 27 | DN_range_anno.bed                               | 177616                                          | 158188.9712                                     |  0.000000e+00                                   | \n",
       "| 28 | TFBS_ENCODE.bed                                 | 343409                                          | 281616.0570                                     |  0.000000e+00                                   | \n",
       "| 29 | SuperEnhancer_Hnisz.bed                         | 227836                                          | 155177.3329                                     |  0.000000e+00                                   | \n",
       "| 30 | FetalDHS_Trynka.bed                             | 241405                                          | 215215.1876                                     |  0.000000e+00                                   | \n",
       "| 31 | H3K27ac_PGC2.bed                                | 419715                                          | 341032.7564                                     |  0.000000e+00                                   | \n",
       "| 33 | hic_all_interacting_DT1_dTL4_D_48h.bed          | 156628                                          |  94286.0462                                     |  0.000000e+00                                   | \n",
       "| 34 | ips_range_anno.bed                              | 225026                                          | 199397.0582                                     |  0.000000e+00                                   | \n",
       "| 36 | Transcribed_Hoffman.bed                         | 472250                                          | 425468.7470                                     |  0.000000e+00                                   | \n",
       "| 37 | UTR_5_UCSC.bed                                  |  43607                                          |  24890.7079                                     |  0.000000e+00                                   | \n",
       "| 41 | Promoter_UCSC.bed                               | 124896                                          |  72956.8647                                     |  0.000000e+00                                   | \n",
       "| 42 | H3K4me1_peaks_Trynka.bed                        | 378846                                          | 327010.4645                                     |  0.000000e+00                                   | \n",
       "| 43 | CTCF_Hoffman.bed                                |  96020                                          |  78533.4241                                     |  0.000000e+00                                   | \n",
       "| 44 | H3K27ac.bed                                     |  32067                                          |  17557.1494                                     |  0.000000e+00                                   | \n",
       "| 46 | PromoterFlanking_Hoffman.bed                    |  55782                                          |  33676.5310                                     |  0.000000e+00                                   | \n",
       "| 47 | h3k4me3-final-D-48h.bed                         |  97934                                          |  54390.0531                                     |  0.000000e+00                                   | \n",
       "| 48 | h3k27ac-final-C-48h.bed                         | 138545                                          |  97309.2398                                     |  0.000000e+00                                   | \n",
       "| 49 | DNaseI.bed                                      | 180607                                          | 114976.6276                                     |  0.000000e+00                                   | \n",
       "| 50 | WeakEnhancer_Hoffman.bed                        |  91516                                          |  71120.7073                                     |  0.000000e+00                                   | \n",
       "| 51 | Coding_UCSC.bed                                 |  90547                                          |  54338.7560                                     |  0.000000e+00                                   | \n",
       "| 52 | GA_range_anno.bed                               | 164513                                          | 144006.7218                                     |  0.000000e+00                                   | \n",
       "| 53 | H3K27ac_Hnisz.bed                               | 461449                                          | 376970.7602                                     |  0.000000e+00                                   | \n",
       "| 54 | hic_harmonizome_interacting_DT1_dTL4_D_48h.bed  |  23990                                          |  13069.6623                                     |  0.000000e+00                                   | \n",
       "| 55 | H3K9ac_peaks_Trynka.bed                         | 191165                                          | 126158.2969                                     |  0.000000e+00                                   | \n",
       "| 57 | H3K4me3_peaks_Trynka.bed                        | 180459                                          | 133295.4966                                     |  0.000000e+00                                   | \n",
       "| 58 | h3k27ac-final-D-48h.bed                         | 141034                                          | 101569.3987                                     |  0.000000e+00                                   | \n",
       "| 32 | eQTL_0.1_FDR.bed                                |   2286                                          |   1053.1653                                     | 2.483173e-304                                   | \n",
       "| 14 | eQTL_0.05_FDR.bed                               |   1652                                          |    731.2447                                     | 3.292609e-243                                   | \n",
       "| 11 | FOSL2.bed                                       |  19949                                          |  16902.1539                                     | 3.312756e-134                                   | \n",
       "| 8 | hESC-RegElements-hg19.bed                       |  17907                                          |  15011.6075                                     | 7.171432e-132                                   | \n",
       "| 45 | PLZF.bed                                        |   1617                                          |    931.9039                                     |  4.260820e-98                                   | \n",
       "| 6 | PGR-B_Bagchi.bed                                |  18705                                          |  16222.1686                                     |  2.556596e-92                                   | \n",
       "| 10 | H3K27me3.bed                                    |   6150                                          |   5064.4085                                     |  3.989667e-55                                   | \n",
       "| 5 | NR2F2.bed                                       |  15691                                          |  13987.8574                                     |  4.911642e-52                                   | \n",
       "| 3 | PGR-A_Bagchi.bed                                |  10598                                          |   9415.0148                                     |  4.915404e-38                                   | \n",
       "| 39 | Conserved_LindbladToh.bed                       |  88432                                          |  86063.5185                                     |  1.639221e-23                                   | \n",
       "| 1 | 1_GATA2-Interval-Track.bed                      |  48250                                          |  46682.3763                                     |  1.014878e-15                                   | \n",
       "| 20 | FOXO1_DeMayo.bed                                |  23060                                          |  22572.3426                                     |  2.802158e-04                                   | \n",
       "| 35 | PGR_Demayo.bed                                  |   6543                                          |   6550.6041                                     |  5.414172e-01                                   | \n",
       "| 38 | FAIRE.bed                                       |  36952                                          |  45491.3816                                     |  1.000000e+00                                   | \n",
       "| 40 | Repressed_Hoffman.bed                           | 226858                                          | 353001.2185                                     |  1.000000e+00                                   | \n",
       "| 56 | Intron_UCSC.bed                                 | 378875                                          | 387183.3032                                     |  1.000000e+00                                   | \n",
       "\n",
       "\n"
      ],
      "text/plain": [
       "   Bed_File                                        InBed_Index_SNP\n",
       "2  POLII_DeMayo.bed                                148424         \n",
       "4  TSS_Hoffman.bed                                 105040         \n",
       "7  DGF_ENCODE.bed                                  352229         \n",
       "9  h3k4me3-final-C-48h.bed                          95058         \n",
       "12 CN_range_anno.bed                               120947         \n",
       "13 h3k4me1-final-C-48h.bed                         208171         \n",
       "15 UTR_3_UCSC.bed                                   62993         \n",
       "16 NSC_range_anno.bed                              112092         \n",
       "17 Enhancer_Andersson.bed                           23736         \n",
       "18 E8_TCM_D_48h.bed                                159330         \n",
       "19 h3k4me1-final-D-48h.bed                         201232         \n",
       "21 hic_human_gain_interacting_DT1_dTL4_D_48h.bed     7201         \n",
       "22 DHS_peaks_Trynka.bed                            290817         \n",
       "23 E8_TCM_T_48h.bed                                146277         \n",
       "24 Enhancer_Hoffman.bed                            158045         \n",
       "25 hic_all_interacting_DT1_dTL4_D_48h_expanded.bed 282194         \n",
       "26 H3K4me3.bed                                      65160         \n",
       "27 DN_range_anno.bed                               177616         \n",
       "28 TFBS_ENCODE.bed                                 343409         \n",
       "29 SuperEnhancer_Hnisz.bed                         227836         \n",
       "30 FetalDHS_Trynka.bed                             241405         \n",
       "31 H3K27ac_PGC2.bed                                419715         \n",
       "33 hic_all_interacting_DT1_dTL4_D_48h.bed          156628         \n",
       "34 ips_range_anno.bed                              225026         \n",
       "36 Transcribed_Hoffman.bed                         472250         \n",
       "37 UTR_5_UCSC.bed                                   43607         \n",
       "41 Promoter_UCSC.bed                               124896         \n",
       "42 H3K4me1_peaks_Trynka.bed                        378846         \n",
       "43 CTCF_Hoffman.bed                                 96020         \n",
       "44 H3K27ac.bed                                      32067         \n",
       "46 PromoterFlanking_Hoffman.bed                     55782         \n",
       "47 h3k4me3-final-D-48h.bed                          97934         \n",
       "48 h3k27ac-final-C-48h.bed                         138545         \n",
       "49 DNaseI.bed                                      180607         \n",
       "50 WeakEnhancer_Hoffman.bed                         91516         \n",
       "51 Coding_UCSC.bed                                  90547         \n",
       "52 GA_range_anno.bed                               164513         \n",
       "53 H3K27ac_Hnisz.bed                               461449         \n",
       "54 hic_harmonizome_interacting_DT1_dTL4_D_48h.bed   23990         \n",
       "55 H3K9ac_peaks_Trynka.bed                         191165         \n",
       "57 H3K4me3_peaks_Trynka.bed                        180459         \n",
       "58 h3k27ac-final-D-48h.bed                         141034         \n",
       "32 eQTL_0.1_FDR.bed                                  2286         \n",
       "14 eQTL_0.05_FDR.bed                                 1652         \n",
       "11 FOSL2.bed                                        19949         \n",
       "8  hESC-RegElements-hg19.bed                        17907         \n",
       "45 PLZF.bed                                          1617         \n",
       "6  PGR-B_Bagchi.bed                                 18705         \n",
       "10 H3K27me3.bed                                      6150         \n",
       "5  NR2F2.bed                                        15691         \n",
       "3  PGR-A_Bagchi.bed                                 10598         \n",
       "39 Conserved_LindbladToh.bed                        88432         \n",
       "1  1_GATA2-Interval-Track.bed                       48250         \n",
       "20 FOXO1_DeMayo.bed                                 23060         \n",
       "35 PGR_Demayo.bed                                    6543         \n",
       "38 FAIRE.bed                                        36952         \n",
       "40 Repressed_Hoffman.bed                           226858         \n",
       "56 Intron_UCSC.bed                                 378875         \n",
       "   ExpectNum_of_InBed_SNP PValue       \n",
       "2   66768.2288             0.000000e+00\n",
       "4   51686.5347             0.000000e+00\n",
       "7  304847.0034             0.000000e+00\n",
       "9   51763.8750             0.000000e+00\n",
       "12 108629.8275             0.000000e+00\n",
       "13 156068.2213             0.000000e+00\n",
       "15  38469.2608             0.000000e+00\n",
       "16  98634.1120             0.000000e+00\n",
       "17  16741.3500             0.000000e+00\n",
       "18 118319.0294             0.000000e+00\n",
       "19 152916.2864             0.000000e+00\n",
       "21   3406.4494             0.000000e+00\n",
       "22 266604.2877             0.000000e+00\n",
       "23 106205.1566             0.000000e+00\n",
       "24 107265.6836             0.000000e+00\n",
       "25 179417.3868             0.000000e+00\n",
       "26  33016.5929             0.000000e+00\n",
       "27 158188.9712             0.000000e+00\n",
       "28 281616.0570             0.000000e+00\n",
       "29 155177.3329             0.000000e+00\n",
       "30 215215.1876             0.000000e+00\n",
       "31 341032.7564             0.000000e+00\n",
       "33  94286.0462             0.000000e+00\n",
       "34 199397.0582             0.000000e+00\n",
       "36 425468.7470             0.000000e+00\n",
       "37  24890.7079             0.000000e+00\n",
       "41  72956.8647             0.000000e+00\n",
       "42 327010.4645             0.000000e+00\n",
       "43  78533.4241             0.000000e+00\n",
       "44  17557.1494             0.000000e+00\n",
       "46  33676.5310             0.000000e+00\n",
       "47  54390.0531             0.000000e+00\n",
       "48  97309.2398             0.000000e+00\n",
       "49 114976.6276             0.000000e+00\n",
       "50  71120.7073             0.000000e+00\n",
       "51  54338.7560             0.000000e+00\n",
       "52 144006.7218             0.000000e+00\n",
       "53 376970.7602             0.000000e+00\n",
       "54  13069.6623             0.000000e+00\n",
       "55 126158.2969             0.000000e+00\n",
       "57 133295.4966             0.000000e+00\n",
       "58 101569.3987             0.000000e+00\n",
       "32   1053.1653            2.483173e-304\n",
       "14    731.2447            3.292609e-243\n",
       "11  16902.1539            3.312756e-134\n",
       "8   15011.6075            7.171432e-132\n",
       "45    931.9039             4.260820e-98\n",
       "6   16222.1686             2.556596e-92\n",
       "10   5064.4085             3.989667e-55\n",
       "5   13987.8574             4.911642e-52\n",
       "3    9415.0148             4.915404e-38\n",
       "39  86063.5185             1.639221e-23\n",
       "1   46682.3763             1.014878e-15\n",
       "20  22572.3426             2.802158e-04\n",
       "35   6550.6041             5.414172e-01\n",
       "38  45491.3816             1.000000e+00\n",
       "40 353001.2185             1.000000e+00\n",
       "56 387183.3032             1.000000e+00"
      ]
     },
     "metadata": {},
     "output_type": "display_data"
    }
   ],
   "source": [
    "dat = read.table('/home/gaow/Documents/GIT/LargeFiles/JointLCL/AS_output/fastqtl_qqnorm_ASintron_RNAseqGeuvadis_YangVCF_100Kb/enrichment/SuSiE_loci_gregor_output/StatisticSummaryFile.csv', head=T, sep=',')\n",
    "dat[order(dat$PValue),]"
   ]
  },
  {
   "cell_type": "markdown",
   "metadata": {
    "kernel": "SoS"
   },
   "source": [
    "## Unmatched enrichment analysis"
   ]
  },
  {
   "cell_type": "markdown",
   "metadata": {
    "kernel": "SoS"
   },
   "source": [
    "In Li 2016 manuscript the analysis was not matched by LD, MAF and TSS for sQTL. The only constraint for control SNPs was that they should be within intron clusters. To focus analysis on these SNPs:\n",
    "\n",
    "```\n",
    "sos run analysis/20180712_Enrichment_Workflow.ipynb overlap_cluster \\\n",
    "    --y-data ~/Documents/GIT/LargeFiles/JointLCL/fastqtl_qqnorm_ASintron_RNAseqGeuvadis_YangVCF.txt.gz \\\n",
    "    --trait AS\n",
    "```"
   ]
  },
  {
   "cell_type": "code",
   "execution_count": null,
   "metadata": {
    "kernel": "SoS"
   },
   "outputs": [],
   "source": [
    "# Overlap z-scores with intron clusters\n",
    "[overlap_cluster]\n",
    "input: f\"{z_score:n}.bed\"\n",
    "output: f'{out_dir}/{y_data:bnn}.{z_score:bn}.overlap.bed'\n",
    "bash: expand = True, docker_image = 'gaow/atac-gwas', workdir = cwd, volumes = [f'{annotation_dir}:{annotation_dir}', f\"{y_data:d}:{y_data:d}\"]\n",
    "    bedops -e {_input} <(zcat {y_data} | cut -f1-3 | tail -n+2) > {_output}"
   ]
  },
  {
   "cell_type": "markdown",
   "metadata": {
    "kernel": "SoS"
   },
   "source": [
    "Test for larger PIP in annotation vs outside it. \n",
    "\n",
    "```\n",
    "sos run analysis/20180712_Enrichment_Workflow.ipynb pip_rank_test \\\n",
    "    --y-data ~/Documents/GIT/LargeFiles/JointLCL/fastqtl_qqnorm_ASintron_RNAseqGeuvadis_YangVCF.txt.gz \\\n",
    "    --trait AS -j 16 \\\n",
    "    --single-annot data/annotation.list \n",
    "```"
   ]
  },
  {
   "cell_type": "code",
   "execution_count": null,
   "metadata": {
    "kernel": "SoS"
   },
   "outputs": [],
   "source": [
    "# Test if PIP is larger in annotations\n",
    "[pip_rank_test_1]\n",
    "depends: z_score, f'{out_dir}/{y_data:bnn}.{z_score:bn}.overlap.bed'\n",
    "input_files = [f'{out_dir}/{value:bn}.{z_score:bn}.gz' for value in paths(single_anno)]\n",
    "input: input_files, group_by = 1, concurrent = True\n",
    "output: f'{_input:n}.{step_name}.csv'\n",
    "R: expand = '${ }', docker_image = 'gaow/atac-gwas', workdir = cwd, stdout = f'{_output:n}.stdout'\n",
    "    set.seed(1)\n",
    "    library(readr)\n",
    "    library(dplyr)\n",
    "    variants <- read_tsv(${z_score:r}, col_names=FALSE)\n",
    "    colnames(variants) = c('SNP', 'PIP', 'Z', 'CS')\n",
    "    annotation <- read_tsv(${_input:r}, col_names=TRUE)\n",
    "    name = colnames(annotation)[2]\n",
    "    colnames(annotation) = c('SNP', 'GROUP')\n",
    "    cluster_subset <- read_tsv('${out_dir}/${y_data:bnn}.${z_score:bn}.overlap.bed', col_names=FALSE)\n",
    "    colnames(cluster_subset) = c(\"CHR\", \"START\", \"END\", \"SNP\")\n",
    "    # add two random groupings\n",
    "    annotation$RAND_1 = sample(annotation$GROUP)\n",
    "    annotation$RAND_2 = sample(annotation$GROUP)\n",
    "    variants = inner_join(variants, annotation, cluster_subset, by = \"SNP\")\n",
    "    if (length(unique(variants$GROUP)) == 1) {\n",
    "      write(paste(name, NA, NA, NA, sep=','), file = ${_output:r})\n",
    "    } else {\n",
    "    test = wilcox.test(PIP ~ GROUP, data=variants)\n",
    "    c_1 = wilcox.test(PIP ~ RAND_1, data=variants)\n",
    "    c_2 = wilcox.test(PIP ~ RAND_2, data=variants)\n",
    "    write(paste(name, test$p.value, c_1$p.value, c_2$p.value, sep=','), file = ${_output:r})\n",
    "    }\n",
    "\n",
    "# Consolidate results to one file\n",
    "[pip_rank_test_2, cs_fisher_test_2]\n",
    "output: f'{cwd}/{y_data:bnn}_{int(max_dist/1000)}Kb/enrichment/SuSiE_loci.sumstats.{step_name}.csv'\n",
    "bash: expand = True\n",
    "    cat {_input} > {_output}\n",
    "_input.zap()"
   ]
  },
  {
   "cell_type": "code",
   "execution_count": 5,
   "metadata": {
    "kernel": "R"
   },
   "outputs": [
    {
     "data": {
      "text/html": [
       "<table>\n",
       "<thead><tr><th></th><th scope=col>annotation</th><th scope=col>enrichment</th><th scope=col>random_1</th><th scope=col>random_2</th></tr></thead>\n",
       "<tbody>\n",
       "\t<tr><th scope=row>15</th><td>Intron_UCSC         </td><td> 0.000000e+00       </td><td>0.694988243         </td><td>0.58010513          </td></tr>\n",
       "\t<tr><th scope=row>11</th><td>E116-H3K79me2       </td><td>2.837897e-161       </td><td>0.283023549         </td><td>0.57836372          </td></tr>\n",
       "\t<tr><th scope=row>1</th><td>Coding_UCSC         </td><td>5.430452e-150       </td><td>0.806499327         </td><td>0.86154126          </td></tr>\n",
       "\t<tr><th scope=row>17</th><td>Extended_splice_site</td><td> 2.440152e-44       </td><td>0.462324059         </td><td>0.15302982          </td></tr>\n",
       "\t<tr><th scope=row>2</th><td>CTCF_binding        </td><td> 2.444353e-28       </td><td>0.206441433         </td><td>0.41081027          </td></tr>\n",
       "\t<tr><th scope=row>9</th><td>E116-H3K4me2        </td><td> 2.613140e-09       </td><td>0.193819551         </td><td>0.82515639          </td></tr>\n",
       "\t<tr><th scope=row>4</th><td>E116-H2A.Z          </td><td> 7.724020e-07       </td><td>0.006410806         </td><td>0.19196325          </td></tr>\n",
       "\t<tr><th scope=row>5</th><td>E116-H3K27ac        </td><td> 1.990628e-03       </td><td>0.938771084         </td><td>0.07614115          </td></tr>\n",
       "\t<tr><th scope=row>7</th><td>E116-H3K36me3       </td><td> 2.398294e-03       </td><td>0.501105064         </td><td>0.16285261          </td></tr>\n",
       "\t<tr><th scope=row>10</th><td>E116-H3K4me3        </td><td> 6.046327e-03       </td><td>0.911334021         </td><td>0.66381686          </td></tr>\n",
       "\t<tr><th scope=row>12</th><td>E116-H3K9ac         </td><td> 1.006447e-02       </td><td>0.269649123         </td><td>0.72954794          </td></tr>\n",
       "\t<tr><th scope=row>14</th><td>E116-H4K20me1       </td><td> 1.515072e-01       </td><td>0.116103370         </td><td>0.13969665          </td></tr>\n",
       "\t<tr><th scope=row>8</th><td>E116-H3K4me1        </td><td> 2.552279e-01       </td><td>0.063295964         </td><td>0.90666634          </td></tr>\n",
       "\t<tr><th scope=row>16</th><td>PolII_binding       </td><td> 3.419651e-01       </td><td>0.137820792         </td><td>0.26941573          </td></tr>\n",
       "\t<tr><th scope=row>3</th><td>E116-DNase.macs2    </td><td>           NA       </td><td>         NA         </td><td>        NA          </td></tr>\n",
       "\t<tr><th scope=row>6</th><td>E116-H3K27me3       </td><td>           NA       </td><td>         NA         </td><td>        NA          </td></tr>\n",
       "\t<tr><th scope=row>13</th><td>E116-H3K9me3        </td><td>           NA       </td><td>         NA         </td><td>        NA          </td></tr>\n",
       "</tbody>\n",
       "</table>\n"
      ],
      "text/latex": [
       "\\begin{tabular}{r|llll}\n",
       "  & annotation & enrichment & random\\_1 & random\\_2\\\\\n",
       "\\hline\n",
       "\t15 & Intron\\_UCSC          &  0.000000e+00          & 0.694988243            & 0.58010513            \\\\\n",
       "\t11 & E116-H3K79me2        & 2.837897e-161        & 0.283023549          & 0.57836372          \\\\\n",
       "\t1 & Coding\\_UCSC          & 5.430452e-150          & 0.806499327            & 0.86154126            \\\\\n",
       "\t17 & Extended\\_splice\\_site &  2.440152e-44            & 0.462324059              & 0.15302982              \\\\\n",
       "\t2 & CTCF\\_binding         &  2.444353e-28          & 0.206441433            & 0.41081027            \\\\\n",
       "\t9 & E116-H3K4me2         &  2.613140e-09        & 0.193819551          & 0.82515639          \\\\\n",
       "\t4 & E116-H2A.Z           &  7.724020e-07        & 0.006410806          & 0.19196325          \\\\\n",
       "\t5 & E116-H3K27ac         &  1.990628e-03        & 0.938771084          & 0.07614115          \\\\\n",
       "\t7 & E116-H3K36me3        &  2.398294e-03        & 0.501105064          & 0.16285261          \\\\\n",
       "\t10 & E116-H3K4me3         &  6.046327e-03        & 0.911334021          & 0.66381686          \\\\\n",
       "\t12 & E116-H3K9ac          &  1.006447e-02        & 0.269649123          & 0.72954794          \\\\\n",
       "\t14 & E116-H4K20me1        &  1.515072e-01        & 0.116103370          & 0.13969665          \\\\\n",
       "\t8 & E116-H3K4me1         &  2.552279e-01        & 0.063295964          & 0.90666634          \\\\\n",
       "\t16 & PolII\\_binding        &  3.419651e-01          & 0.137820792            & 0.26941573            \\\\\n",
       "\t3 & E116-DNase.macs2     &            NA        &          NA          &         NA          \\\\\n",
       "\t6 & E116-H3K27me3        &            NA        &          NA          &         NA          \\\\\n",
       "\t13 & E116-H3K9me3         &            NA        &          NA          &         NA          \\\\\n",
       "\\end{tabular}\n"
      ],
      "text/markdown": [
       "\n",
       "| <!--/--> | annotation | enrichment | random_1 | random_2 | \n",
       "|---|---|---|---|---|---|---|---|---|---|---|---|---|---|---|---|---|\n",
       "| 15 | Intron_UCSC          |  0.000000e+00        | 0.694988243          | 0.58010513           | \n",
       "| 11 | E116-H3K79me2        | 2.837897e-161        | 0.283023549          | 0.57836372           | \n",
       "| 1 | Coding_UCSC          | 5.430452e-150        | 0.806499327          | 0.86154126           | \n",
       "| 17 | Extended_splice_site |  2.440152e-44        | 0.462324059          | 0.15302982           | \n",
       "| 2 | CTCF_binding         |  2.444353e-28        | 0.206441433          | 0.41081027           | \n",
       "| 9 | E116-H3K4me2         |  2.613140e-09        | 0.193819551          | 0.82515639           | \n",
       "| 4 | E116-H2A.Z           |  7.724020e-07        | 0.006410806          | 0.19196325           | \n",
       "| 5 | E116-H3K27ac         |  1.990628e-03        | 0.938771084          | 0.07614115           | \n",
       "| 7 | E116-H3K36me3        |  2.398294e-03        | 0.501105064          | 0.16285261           | \n",
       "| 10 | E116-H3K4me3         |  6.046327e-03        | 0.911334021          | 0.66381686           | \n",
       "| 12 | E116-H3K9ac          |  1.006447e-02        | 0.269649123          | 0.72954794           | \n",
       "| 14 | E116-H4K20me1        |  1.515072e-01        | 0.116103370          | 0.13969665           | \n",
       "| 8 | E116-H3K4me1         |  2.552279e-01        | 0.063295964          | 0.90666634           | \n",
       "| 16 | PolII_binding        |  3.419651e-01        | 0.137820792          | 0.26941573           | \n",
       "| 3 | E116-DNase.macs2     |            NA        |          NA          |         NA           | \n",
       "| 6 | E116-H3K27me3        |            NA        |          NA          |         NA           | \n",
       "| 13 | E116-H3K9me3         |            NA        |          NA          |         NA           | \n",
       "\n",
       "\n"
      ],
      "text/plain": [
       "   annotation           enrichment    random_1    random_2  \n",
       "15 Intron_UCSC           0.000000e+00 0.694988243 0.58010513\n",
       "11 E116-H3K79me2        2.837897e-161 0.283023549 0.57836372\n",
       "1  Coding_UCSC          5.430452e-150 0.806499327 0.86154126\n",
       "17 Extended_splice_site  2.440152e-44 0.462324059 0.15302982\n",
       "2  CTCF_binding          2.444353e-28 0.206441433 0.41081027\n",
       "9  E116-H3K4me2          2.613140e-09 0.193819551 0.82515639\n",
       "4  E116-H2A.Z            7.724020e-07 0.006410806 0.19196325\n",
       "5  E116-H3K27ac          1.990628e-03 0.938771084 0.07614115\n",
       "7  E116-H3K36me3         2.398294e-03 0.501105064 0.16285261\n",
       "10 E116-H3K4me3          6.046327e-03 0.911334021 0.66381686\n",
       "12 E116-H3K9ac           1.006447e-02 0.269649123 0.72954794\n",
       "14 E116-H4K20me1         1.515072e-01 0.116103370 0.13969665\n",
       "8  E116-H3K4me1          2.552279e-01 0.063295964 0.90666634\n",
       "16 PolII_binding         3.419651e-01 0.137820792 0.26941573\n",
       "3  E116-DNase.macs2                NA          NA         NA\n",
       "6  E116-H3K27me3                   NA          NA         NA\n",
       "13 E116-H3K9me3                    NA          NA         NA"
      ]
     },
     "metadata": {},
     "output_type": "display_data"
    }
   ],
   "source": [
    "dat = read.table('/home/gaow/Documents/GIT/LargeFiles/JointLCL/AS_output/fastqtl_qqnorm_ASintron_RNAseqGeuvadis_YangVCF_100Kb/enrichment/SuSiE_loci.sumstats.pip_rank_test_2.csv', head=F, sep=',')\n",
    "colnames(dat) = c('annotation', 'enrichment', 'random_1', \"random_2\")\n",
    "dat[order(dat[,2]),]"
   ]
  },
  {
   "cell_type": "markdown",
   "metadata": {
    "kernel": "SoS"
   },
   "source": [
    "Test for enrichment of annotation in CS.\n",
    "\n",
    "```\n",
    "sos run analysis/20180712_Enrichment_Workflow.ipynb cs_fisher_test \\\n",
    "    --y-data ~/Documents/GIT/LargeFiles/JointLCL/fastqtl_qqnorm_ASintron_RNAseqGeuvadis_YangVCF.txt.gz \\\n",
    "    --trait AS -j 16 \\\n",
    "    --single-annot data/annotation.list \n",
    "```"
   ]
  },
  {
   "cell_type": "code",
   "execution_count": null,
   "metadata": {
    "kernel": "SoS"
   },
   "outputs": [],
   "source": [
    "# Test if CS is enriched with annotations\n",
    "[cs_fisher_test_1]\n",
    "depends: z_score, f'{out_dir}/{y_data:bnn}.{z_score:bn}.overlap.bed'\n",
    "input_files = [f'{out_dir}/{value:bn}.{z_score:bn}.gz' for value in paths(single_anno)]\n",
    "input: input_files, group_by = 1, concurrent = True\n",
    "output: f'{_input:n}.{step_name}.csv'\n",
    "R: expand = '${ }', docker_image = 'gaow/atac-gwas', workdir = cwd, stdout = f'{_output:n}.stdout'\n",
    "    run_test = function(dat) {\n",
    "        d1 = dat\n",
    "        d1$CS[which(d1$CS>0)] = 1\n",
    "        d1 = table(d1)\n",
    "        test.d1 = fisher.test(d1)\n",
    "        # test for non-first CS only\n",
    "        d2 = dat[which(dat$CS != 1),]\n",
    "        d2$CS[which(d2$CS>0)] = 1\n",
    "        d2 = table(d2)\n",
    "        test.d2 = fisher.test(d2)\n",
    "        return(c(test.d1$p.value, test.d2$p.value, test.d1$estimate, test.d2$estimate))\n",
    "    }\n",
    "    set.seed(1)\n",
    "    library(readr)\n",
    "    library(dplyr)\n",
    "    variants <- read_tsv(${z_score:r}, col_names=FALSE)\n",
    "    colnames(variants) = c('SNP', 'PIP', 'Z', 'CS')\n",
    "    annotation <- read_tsv(${_input:r}, col_names=TRUE)\n",
    "    name = colnames(annotation)[2]\n",
    "    colnames(annotation) = c('SNP', 'GROUP')\n",
    "    cluster_subset <- read_tsv('${out_dir}/${y_data:bnn}.${z_score:bn}.overlap.bed', col_names=FALSE)\n",
    "    colnames(cluster_subset) = c(\"CHR\", \"START\", \"END\", \"SNP\")\n",
    "    # add two random groupings\n",
    "    annotation$RAND_1 = sample(annotation$GROUP)\n",
    "    annotation$RAND_2 = sample(annotation$GROUP)\n",
    "    variants = inner_join(variants, annotation, cluster_subset, by = \"SNP\")[,4:7]\n",
    "    if (length(unique(variants$GROUP)) == 1) {\n",
    "      write(paste(name, NA, NA, NA, NA, NA, NA, NA, NA, sep=','), file = ${_output:r})\n",
    "    } else {\n",
    "    # test against all CS\n",
    "    test = run_test(variants[,c('CS', 'GROUP')])\n",
    "    ctrl_1 = run_test(variants[,c('CS', 'RAND_1')])\n",
    "    ctrl_2 = run_test(variants[,c('CS', 'RAND_2')])\n",
    "    write(paste(name, test[1], test[3], test[2], test[4], ctrl_1[1], ctrl_1[2], ctrl_2[1], ctrl_2[2], sep=','), file = ${_output:r})\n",
    "    }"
   ]
  },
  {
   "cell_type": "code",
   "execution_count": 4,
   "metadata": {
    "kernel": "R"
   },
   "outputs": [
    {
     "data": {
      "text/html": [
       "<table>\n",
       "<thead><tr><th></th><th scope=col>annotation</th><th scope=col>enrichment CS&gt;0</th><th scope=col>odds ratio CS&gt;0</th><th scope=col>enrichment CS&gt;1</th><th scope=col>odds ratio CS&gt;1</th><th scope=col>random_1 CS&gt;0</th><th scope=col>random_1 CS&gt;1</th><th scope=col>random_2 CS&gt;0</th><th scope=col>random_2 CS&gt;1</th></tr></thead>\n",
       "<tbody>\n",
       "\t<tr><th scope=row>15</th><td>Intron_UCSC         </td><td> 0.000000e+00       </td><td> 1.899154           </td><td>4.251291e-193       </td><td>2.0728023           </td><td>0.06105334          </td><td>0.450992553         </td><td>0.172685600         </td><td>0.43010819          </td></tr>\n",
       "\t<tr><th scope=row>17</th><td>Extended_splice_site</td><td>6.102566e-102       </td><td> 1.966429           </td><td> 1.574085e-03       </td><td>1.5802937           </td><td>0.81700532          </td><td>0.468165390         </td><td>0.159701645         </td><td>0.58754997          </td></tr>\n",
       "\t<tr><th scope=row>1</th><td>Coding_UCSC         </td><td> 3.084959e-86       </td><td> 1.280004           </td><td> 1.397209e-04       </td><td>0.7860334           </td><td>0.07515717          </td><td>0.415979703         </td><td>0.595173143         </td><td>0.69584542          </td></tr>\n",
       "\t<tr><th scope=row>2</th><td>CTCF_binding        </td><td> 1.177969e-18       </td><td> 1.287152           </td><td> 6.533736e-38       </td><td>3.1884346           </td><td>0.00637921          </td><td>0.002802365         </td><td>0.380667199         </td><td>0.06829601          </td></tr>\n",
       "\t<tr><th scope=row>5</th><td>E116-H3K27ac        </td><td> 1.754503e-16       </td><td> 0.000000           </td><td> 2.760625e-01       </td><td>0.0000000           </td><td>0.04124679          </td><td>1.000000000         </td><td>0.698024012         </td><td>0.41264853          </td></tr>\n",
       "\t<tr><th scope=row>16</th><td>PolII_binding       </td><td> 5.780630e-04       </td><td> 0.346048           </td><td> 6.388968e-01       </td><td>0.0000000           </td><td>0.69522884          </td><td>1.000000000         </td><td>0.003600851         </td><td>1.00000000          </td></tr>\n",
       "\t<tr><th scope=row>12</th><td>E116-H3K9ac         </td><td> 5.873009e-03       </td><td>30.279181           </td><td> 1.000000e+00       </td><td>0.0000000           </td><td>1.00000000          </td><td>1.000000000         </td><td>1.000000000         </td><td>1.00000000          </td></tr>\n",
       "\t<tr><th scope=row>11</th><td>E116-H3K79me2       </td><td> 1.645288e-02       </td><td> 1.569635           </td><td> 6.348330e-01       </td><td>0.0000000           </td><td>0.76533829          </td><td>1.000000000         </td><td>0.008634295         </td><td>0.13203453          </td></tr>\n",
       "\t<tr><th scope=row>4</th><td>E116-H2A.Z          </td><td> 1.309249e-01       </td><td> 2.125093           </td><td> 1.000000e+00       </td><td>0.0000000           </td><td>0.16042764          </td><td>1.000000000         </td><td>0.765390556         </td><td>1.00000000          </td></tr>\n",
       "\t<tr><th scope=row>7</th><td>E116-H3K36me3       </td><td> 1.000000e+00       </td><td> 0.000000           </td><td> 1.000000e+00       </td><td>0.0000000           </td><td>1.00000000          </td><td>1.000000000         </td><td>1.000000000         </td><td>1.00000000          </td></tr>\n",
       "\t<tr><th scope=row>8</th><td>E116-H3K4me1        </td><td> 1.000000e+00       </td><td> 0.000000           </td><td> 1.000000e+00       </td><td>0.0000000           </td><td>0.18159400          </td><td>1.000000000         </td><td>0.700185853         </td><td>1.00000000          </td></tr>\n",
       "\t<tr><th scope=row>9</th><td>E116-H3K4me2        </td><td> 1.000000e+00       </td><td> 0.000000           </td><td> 1.000000e+00       </td><td>0.0000000           </td><td>0.04359023          </td><td>1.000000000         </td><td>1.000000000         </td><td>0.01346615          </td></tr>\n",
       "\t<tr><th scope=row>10</th><td>E116-H3K4me3        </td><td> 1.000000e+00       </td><td> 0.000000           </td><td> 1.000000e+00       </td><td>0.0000000           </td><td>1.00000000          </td><td>1.000000000         </td><td>1.000000000         </td><td>1.00000000          </td></tr>\n",
       "\t<tr><th scope=row>14</th><td>E116-H4K20me1       </td><td> 1.000000e+00       </td><td> 0.000000           </td><td> 1.000000e+00       </td><td>0.0000000           </td><td>1.00000000          </td><td>1.000000000         </td><td>1.000000000         </td><td>1.00000000          </td></tr>\n",
       "\t<tr><th scope=row>3</th><td>E116-DNase.macs2    </td><td>           NA       </td><td>       NA           </td><td>           NA       </td><td>       NA           </td><td>        NA          </td><td>         NA         </td><td>         NA         </td><td>        NA          </td></tr>\n",
       "\t<tr><th scope=row>6</th><td>E116-H3K27me3       </td><td>           NA       </td><td>       NA           </td><td>           NA       </td><td>       NA           </td><td>        NA          </td><td>         NA         </td><td>         NA         </td><td>        NA          </td></tr>\n",
       "\t<tr><th scope=row>13</th><td>E116-H3K9me3        </td><td>           NA       </td><td>       NA           </td><td>           NA       </td><td>       NA           </td><td>        NA          </td><td>         NA         </td><td>         NA         </td><td>        NA          </td></tr>\n",
       "</tbody>\n",
       "</table>\n"
      ],
      "text/latex": [
       "\\begin{tabular}{r|lllllllll}\n",
       "  & annotation & enrichment CS>0 & odds ratio CS>0 & enrichment CS>1 & odds ratio CS>1 & random\\_1 CS>0 & random\\_1 CS>1 & random\\_2 CS>0 & random\\_2 CS>1\\\\\n",
       "\\hline\n",
       "\t15 & Intron\\_UCSC          &  0.000000e+00          &  1.899154              & 4.251291e-193          & 2.0728023              & 0.06105334             & 0.450992553            & 0.172685600            & 0.43010819            \\\\\n",
       "\t17 & Extended\\_splice\\_site & 6.102566e-102            &  1.966429                &  1.574085e-03            & 1.5802937                & 0.81700532               & 0.468165390              & 0.159701645              & 0.58754997              \\\\\n",
       "\t1 & Coding\\_UCSC          &  3.084959e-86          &  1.280004              &  1.397209e-04          & 0.7860334              & 0.07515717             & 0.415979703            & 0.595173143            & 0.69584542            \\\\\n",
       "\t2 & CTCF\\_binding         &  1.177969e-18          &  1.287152              &  6.533736e-38          & 3.1884346              & 0.00637921             & 0.002802365            & 0.380667199            & 0.06829601            \\\\\n",
       "\t5 & E116-H3K27ac         &  1.754503e-16        &  0.000000            &  2.760625e-01        & 0.0000000            & 0.04124679           & 1.000000000          & 0.698024012          & 0.41264853          \\\\\n",
       "\t16 & PolII\\_binding        &  5.780630e-04          &  0.346048              &  6.388968e-01          & 0.0000000              & 0.69522884             & 1.000000000            & 0.003600851            & 1.00000000            \\\\\n",
       "\t12 & E116-H3K9ac          &  5.873009e-03        & 30.279181            &  1.000000e+00        & 0.0000000            & 1.00000000           & 1.000000000          & 1.000000000          & 1.00000000          \\\\\n",
       "\t11 & E116-H3K79me2        &  1.645288e-02        &  1.569635            &  6.348330e-01        & 0.0000000            & 0.76533829           & 1.000000000          & 0.008634295          & 0.13203453          \\\\\n",
       "\t4 & E116-H2A.Z           &  1.309249e-01        &  2.125093            &  1.000000e+00        & 0.0000000            & 0.16042764           & 1.000000000          & 0.765390556          & 1.00000000          \\\\\n",
       "\t7 & E116-H3K36me3        &  1.000000e+00        &  0.000000            &  1.000000e+00        & 0.0000000            & 1.00000000           & 1.000000000          & 1.000000000          & 1.00000000          \\\\\n",
       "\t8 & E116-H3K4me1         &  1.000000e+00        &  0.000000            &  1.000000e+00        & 0.0000000            & 0.18159400           & 1.000000000          & 0.700185853          & 1.00000000          \\\\\n",
       "\t9 & E116-H3K4me2         &  1.000000e+00        &  0.000000            &  1.000000e+00        & 0.0000000            & 0.04359023           & 1.000000000          & 1.000000000          & 0.01346615          \\\\\n",
       "\t10 & E116-H3K4me3         &  1.000000e+00        &  0.000000            &  1.000000e+00        & 0.0000000            & 1.00000000           & 1.000000000          & 1.000000000          & 1.00000000          \\\\\n",
       "\t14 & E116-H4K20me1        &  1.000000e+00        &  0.000000            &  1.000000e+00        & 0.0000000            & 1.00000000           & 1.000000000          & 1.000000000          & 1.00000000          \\\\\n",
       "\t3 & E116-DNase.macs2     &            NA        &        NA            &            NA        &        NA            &         NA           &          NA          &          NA          &         NA          \\\\\n",
       "\t6 & E116-H3K27me3        &            NA        &        NA            &            NA        &        NA            &         NA           &          NA          &          NA          &         NA          \\\\\n",
       "\t13 & E116-H3K9me3         &            NA        &        NA            &            NA        &        NA            &         NA           &          NA          &          NA          &         NA          \\\\\n",
       "\\end{tabular}\n"
      ],
      "text/markdown": [
       "\n",
       "| <!--/--> | annotation | enrichment CS>0 | odds ratio CS>0 | enrichment CS>1 | odds ratio CS>1 | random_1 CS>0 | random_1 CS>1 | random_2 CS>0 | random_2 CS>1 | \n",
       "|---|---|---|---|---|---|---|---|---|---|---|---|---|---|---|---|---|\n",
       "| 15 | Intron_UCSC          |  0.000000e+00        |  1.899154            | 4.251291e-193        | 2.0728023            | 0.06105334           | 0.450992553          | 0.172685600          | 0.43010819           | \n",
       "| 17 | Extended_splice_site | 6.102566e-102        |  1.966429            |  1.574085e-03        | 1.5802937            | 0.81700532           | 0.468165390          | 0.159701645          | 0.58754997           | \n",
       "| 1 | Coding_UCSC          |  3.084959e-86        |  1.280004            |  1.397209e-04        | 0.7860334            | 0.07515717           | 0.415979703          | 0.595173143          | 0.69584542           | \n",
       "| 2 | CTCF_binding         |  1.177969e-18        |  1.287152            |  6.533736e-38        | 3.1884346            | 0.00637921           | 0.002802365          | 0.380667199          | 0.06829601           | \n",
       "| 5 | E116-H3K27ac         |  1.754503e-16        |  0.000000            |  2.760625e-01        | 0.0000000            | 0.04124679           | 1.000000000          | 0.698024012          | 0.41264853           | \n",
       "| 16 | PolII_binding        |  5.780630e-04        |  0.346048            |  6.388968e-01        | 0.0000000            | 0.69522884           | 1.000000000          | 0.003600851          | 1.00000000           | \n",
       "| 12 | E116-H3K9ac          |  5.873009e-03        | 30.279181            |  1.000000e+00        | 0.0000000            | 1.00000000           | 1.000000000          | 1.000000000          | 1.00000000           | \n",
       "| 11 | E116-H3K79me2        |  1.645288e-02        |  1.569635            |  6.348330e-01        | 0.0000000            | 0.76533829           | 1.000000000          | 0.008634295          | 0.13203453           | \n",
       "| 4 | E116-H2A.Z           |  1.309249e-01        |  2.125093            |  1.000000e+00        | 0.0000000            | 0.16042764           | 1.000000000          | 0.765390556          | 1.00000000           | \n",
       "| 7 | E116-H3K36me3        |  1.000000e+00        |  0.000000            |  1.000000e+00        | 0.0000000            | 1.00000000           | 1.000000000          | 1.000000000          | 1.00000000           | \n",
       "| 8 | E116-H3K4me1         |  1.000000e+00        |  0.000000            |  1.000000e+00        | 0.0000000            | 0.18159400           | 1.000000000          | 0.700185853          | 1.00000000           | \n",
       "| 9 | E116-H3K4me2         |  1.000000e+00        |  0.000000            |  1.000000e+00        | 0.0000000            | 0.04359023           | 1.000000000          | 1.000000000          | 0.01346615           | \n",
       "| 10 | E116-H3K4me3         |  1.000000e+00        |  0.000000            |  1.000000e+00        | 0.0000000            | 1.00000000           | 1.000000000          | 1.000000000          | 1.00000000           | \n",
       "| 14 | E116-H4K20me1        |  1.000000e+00        |  0.000000            |  1.000000e+00        | 0.0000000            | 1.00000000           | 1.000000000          | 1.000000000          | 1.00000000           | \n",
       "| 3 | E116-DNase.macs2     |            NA        |        NA            |            NA        |        NA            |         NA           |          NA          |          NA          |         NA           | \n",
       "| 6 | E116-H3K27me3        |            NA        |        NA            |            NA        |        NA            |         NA           |          NA          |          NA          |         NA           | \n",
       "| 13 | E116-H3K9me3         |            NA        |        NA            |            NA        |        NA            |         NA           |          NA          |          NA          |         NA           | \n",
       "\n",
       "\n"
      ],
      "text/plain": [
       "   annotation           enrichment CS>0 odds ratio CS>0 enrichment CS>1\n",
       "15 Intron_UCSC           0.000000e+00    1.899154       4.251291e-193  \n",
       "17 Extended_splice_site 6.102566e-102    1.966429        1.574085e-03  \n",
       "1  Coding_UCSC           3.084959e-86    1.280004        1.397209e-04  \n",
       "2  CTCF_binding          1.177969e-18    1.287152        6.533736e-38  \n",
       "5  E116-H3K27ac          1.754503e-16    0.000000        2.760625e-01  \n",
       "16 PolII_binding         5.780630e-04    0.346048        6.388968e-01  \n",
       "12 E116-H3K9ac           5.873009e-03   30.279181        1.000000e+00  \n",
       "11 E116-H3K79me2         1.645288e-02    1.569635        6.348330e-01  \n",
       "4  E116-H2A.Z            1.309249e-01    2.125093        1.000000e+00  \n",
       "7  E116-H3K36me3         1.000000e+00    0.000000        1.000000e+00  \n",
       "8  E116-H3K4me1          1.000000e+00    0.000000        1.000000e+00  \n",
       "9  E116-H3K4me2          1.000000e+00    0.000000        1.000000e+00  \n",
       "10 E116-H3K4me3          1.000000e+00    0.000000        1.000000e+00  \n",
       "14 E116-H4K20me1         1.000000e+00    0.000000        1.000000e+00  \n",
       "3  E116-DNase.macs2                NA          NA                  NA  \n",
       "6  E116-H3K27me3                   NA          NA                  NA  \n",
       "13 E116-H3K9me3                    NA          NA                  NA  \n",
       "   odds ratio CS>1 random_1 CS>0 random_1 CS>1 random_2 CS>0 random_2 CS>1\n",
       "15 2.0728023       0.06105334    0.450992553   0.172685600   0.43010819   \n",
       "17 1.5802937       0.81700532    0.468165390   0.159701645   0.58754997   \n",
       "1  0.7860334       0.07515717    0.415979703   0.595173143   0.69584542   \n",
       "2  3.1884346       0.00637921    0.002802365   0.380667199   0.06829601   \n",
       "5  0.0000000       0.04124679    1.000000000   0.698024012   0.41264853   \n",
       "16 0.0000000       0.69522884    1.000000000   0.003600851   1.00000000   \n",
       "12 0.0000000       1.00000000    1.000000000   1.000000000   1.00000000   \n",
       "11 0.0000000       0.76533829    1.000000000   0.008634295   0.13203453   \n",
       "4  0.0000000       0.16042764    1.000000000   0.765390556   1.00000000   \n",
       "7  0.0000000       1.00000000    1.000000000   1.000000000   1.00000000   \n",
       "8  0.0000000       0.18159400    1.000000000   0.700185853   1.00000000   \n",
       "9  0.0000000       0.04359023    1.000000000   1.000000000   0.01346615   \n",
       "10 0.0000000       1.00000000    1.000000000   1.000000000   1.00000000   \n",
       "14 0.0000000       1.00000000    1.000000000   1.000000000   1.00000000   \n",
       "3         NA               NA             NA            NA           NA   \n",
       "6         NA               NA             NA            NA           NA   \n",
       "13        NA               NA             NA            NA           NA   "
      ]
     },
     "metadata": {},
     "output_type": "display_data"
    }
   ],
   "source": [
    "dat = read.table('/home/gaow/Documents/GIT/LargeFiles/JointLCL/AS_output/fastqtl_qqnorm_ASintron_RNAseqGeuvadis_YangVCF_100Kb/enrichment/SuSiE_loci.sumstats.cs_fisher_test_2.csv', head=F, sep=',')\n",
    "colnames(dat) = c('annotation', 'enrichment CS>0', 'odds ratio CS>0', 'enrichment CS>1', \"odds ratio CS>1\", \"random_1 CS>0\", \"random_1 CS>1\", \"random_2 CS>0\", \"random_2 CS>1\")\n",
    "dat[order(dat[,2]),]"
   ]
  },
  {
   "cell_type": "markdown",
   "metadata": {
    "kernel": "SoS"
   },
   "source": [
    "There is more consistency between matched and unmatched PIP analysis. But in general, most annotations are significant."
   ]
  }
 ],
 "metadata": {
  "kernelspec": {
   "display_name": "SoS",
   "language": "sos",
   "name": "sos"
  },
  "language_info": {
   "codemirror_mode": "sos",
   "file_extension": ".sos",
   "mimetype": "text/x-sos",
   "name": "sos",
   "nbconvert_exporter": "sos_notebook.converter.SoS_Exporter",
   "pygments_lexer": "sos"
  },
  "sos": {
   "default_kernel": "SoS",
   "kernels": [
    [
     "R",
     "ir",
     "R",
     "#DCDCDA"
    ],
    [
     "SoS",
     "sos",
     "",
     ""
    ]
   ]
  }
 },
 "nbformat": 4,
 "nbformat_minor": 2
}
