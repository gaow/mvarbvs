{
 "cells": [
  {
   "cell_type": "markdown",
   "metadata": {
    "kernel": "SoS"
   },
   "source": [
    "# Enrichment analysis workflow for molecular QTL results"
   ]
  },
  {
   "cell_type": "markdown",
   "metadata": {
    "kernel": "SoS"
   },
   "source": [
    "For molecular QTL analysis results we obtained we'd like to see if:\n",
    "\n",
    "1. PIP are higher on average in certain annotation groups than in the rest of genome\n",
    "2. Is there an enrichment for variables both in CS and in some annotation groups\n",
    "    - Specifically, whether or not there is an enrichment in the secondary CS that we capture\n",
    "    \n",
    "We focus only on the results that has 1 or more CS identified.\n",
    "\n",
    "## Annotations used for splice QTL\n",
    "\n",
    "We use the following types of annotations:\n",
    "\n",
    "1. Histone marks for LCLs from Epigenome Roadmap (download link see pipeline below)\n",
    "2. [CTCF binding sites](http://www.ebi.ac.uk/birney-srv/CTCF-QTL/)\n",
    "3. POL II ChIP-seq (download link see pipeline below)\n",
    "4. Intron and exon regions from UCSC\n",
    "5. Extended splice site, defined as 5bp up/down intron start site and 15bp up/down intron end site (based on UCSC intron data)\n",
    "\n",
    "I will first test for enrichment with the primary CS (defined as the set with highest purity), then test for the non-primary CS. The idea is to discover enrichment of annotations in the primary CS, then also show that additional CS has similar (or interestingly different!) pattern of enrichment."
   ]
  },
  {
   "cell_type": "code",
   "execution_count": 10,
   "metadata": {
    "kernel": "SoS"
   },
   "outputs": [
    {
     "data": {
      "text/html": [
       "\n",
       "        <table class=\"revision_table\">\n",
       "        <tr>\n",
       "        <th>Revision</th>\n",
       "        <th>Author</th>\n",
       "        <th>Date</th>\n",
       "        <th>Message</th>\n",
       "        <tr>\n",
       "        <tr><td><a target=\"_blank\" href=\"https://github.com/gaow/mvarbvs/blob/7f148480375c188a1af4353a6fe227c985571ac7/analysis/20180712_Enrichment_Workflow.ipynb\"><span class=\"revision_id\">7f14848<span></a></td>\n",
       "<td>Gao Wang</td>\n",
       "<td>2018-07-24</td>\n",
       "<td>Add GREGOR for matched enrichment analysis</td></tr><tr><td><a target=\"_blank\" href=\"https://github.com/gaow/mvarbvs/blob/24b7bf304421316d1c70d0cab18fe420ea96e9ed/analysis/20180712_Enrichment_Workflow.ipynb\"><span class=\"revision_id\">24b7bf3<span></a></td>\n",
       "<td>Gao Wang</td>\n",
       "<td>2018-07-13</td>\n",
       "<td>Update documentation</td></tr><tr><td><a target=\"_blank\" href=\"https://github.com/gaow/mvarbvs/blob/9531187446835c456a7a6fca586c890d8203aad4/analysis/20180712_Enrichment_Workflow.ipynb\"><span class=\"revision_id\">9531187<span></a></td>\n",
       "<td>Gao Wang</td>\n",
       "<td>2018-07-12</td>\n",
       "<td>Add CS based enrichment</td></tr><tr><td><a target=\"_blank\" href=\"https://github.com/gaow/mvarbvs/blob/e7227739946a66d644df8999a32690f93106caba/analysis/20180712_Enrichment_Workflow.ipynb\"><span class=\"revision_id\">e722773<span></a></td>\n",
       "<td>Gao Wang</td>\n",
       "<td>2018-07-12</td>\n",
       "<td>Update enrichment results</td></tr><tr><td><a target=\"_blank\" href=\"https://github.com/gaow/mvarbvs/blob/305751a80925bf3b47f0af237b73856a6b0a25e2/analysis/20180712_Enrichment_Workflow.ipynb\"><span class=\"revision_id\">305751a<span></a></td>\n",
       "<td>Gao Wang</td>\n",
       "<td>2018-07-12</td>\n",
       "<td>Add enrichment results</td></tr></table>"
      ]
     },
     "metadata": {},
     "output_type": "display_data"
    }
   ],
   "source": [
    "%revisions -s -n 10"
   ]
  },
  {
   "cell_type": "code",
   "execution_count": 2,
   "metadata": {
    "kernel": "SoS"
   },
   "outputs": [
    {
     "name": "stdout",
     "output_type": "stream",
     "text": [
      "usage: sos run 20180712_Enrichment_Workflow.ipynb\n",
      "               [workflow_name | -t targets] [options] [workflow_options]\n",
      "  workflow_name:        Single or combined workflows defined in this script\n",
      "  targets:              One or more targets to generate\n",
      "  options:              Single-hyphen sos parameters (see \"sos run -h\" for details)\n",
      "  workflow_options:     Double-hyphen workflow-specific parameters\n",
      "\n",
      "Workflows:\n",
      "  extract_sumstats\n",
      "  zscore2bed\n",
      "  get_variants\n",
      "  range2var_annotation\n",
      "  pip_rank_test\n",
      "  cs_fisher_test\n",
      "\n",
      "Global Workflow Options:\n",
      "  --y-data . (as path)\n",
      "                        Y data, the phenotype file paths\n",
      "  --trait VAL (required)\n",
      "                        Trait name\n",
      "  --cwd  path(f'{y_data:d}/{trait}_output')\n",
      "\n",
      "                        Specify work / output directory\n",
      "  --annotation-dir /home/gaow/Documents/GIT/LargeFiles/he_lab_annotations_bed (as path)\n",
      "                        Path to directory of annotation\n",
      "                        files\n",
      "  --single-annot . (as path)\n",
      "                        Path to list of single annotations\n",
      "                        to use\n",
      "  --max-dist 100000 (as int)\n",
      "                        Maximum distance to site of\n",
      "                        interest, set to eg. 100Kb or 1Mb\n",
      "                        up/downstream to start site of\n",
      "                        analysis unit\n",
      "\n",
      "Sections\n",
      "  extract_sumstats_1:   Extract summary stats from RDS files\n",
      "                        to plain text\n",
      "  extract_sumstats_2:   Consolidate results to one file\n",
      "  zscore2bed_1:         Auxiliary step to get variant in bed\n",
      "                        format based on variant ID in\n",
      "                        z-score file\n",
      "    Workflow Options:\n",
      "      --in-file . (as path)\n",
      "      --chr-prefix ''\n",
      "  zscore2bed_2:\n",
      "  get_variants:\n",
      "  range2var_annotation_1: Get variants in data that falls in\n",
      "                        target region\n",
      "  range2var_annotation_2: Make binary annotation file\n",
      "  pip_rank_test_1:      Test if PIP is larger in annotations\n",
      "  pip_rank_test_2, cs_fisher_test_2: Consolidate results to\n",
      "                        one file\n",
      "  cs_fisher_test_1:     Test if CS is enriched with\n",
      "                        annotations\n"
     ]
    }
   ],
   "source": [
    "! sos run 20180712_Enrichment_Workflow.ipynb -h"
   ]
  },
  {
   "cell_type": "markdown",
   "metadata": {
    "kernel": "SoS"
   },
   "source": [
    "## Annotation input\n",
    "\n",
    "\n",
    "Annotation files are in bed format (for example: `Coding_UCSC.bed`).\n",
    "\n",
    "```\n",
    "chr1    69090   70008\n",
    "chr1    367658  368597\n",
    "chr1    621095  622034\n",
    "......\n",
    "chr9    141121357       141121553\n",
    "chr9    141124188       141124276\n",
    "chr9    141134069       141134172\n",
    "```\n",
    "\n",
    "There are many annotations one can use. For this workflow one should prepare a list of annotations for input, like this:\n",
    "\n",
    "```\n",
    "# my annotation\n",
    "Coding_UCSC\n",
    "CTCF_binding\n",
    "E116-DNase.macs2\n",
    "E116-H2A.Z\n",
    "E116-H3K27ac\n",
    "E116-H3K27me3\n",
    "E116-H3K36me3\n",
    "E116-H3K4me1\n",
    "E116-H3K4me2\n",
    "E116-H3K4me3\n",
    "E116-H3K79me2\n",
    "E116-H3K9ac\n",
    "E116-H3K9me3\n",
    "E116-H4K20me1\n",
    "E117-DNase.macs2\n",
    "Intron_UCSC\n",
    "PolII_binding\n",
    "```\n",
    "\n",
    "comment symbol `#` is allowed."
   ]
  },
  {
   "cell_type": "markdown",
   "metadata": {
    "kernel": "SoS"
   },
   "source": [
    "## Data input"
   ]
  },
  {
   "cell_type": "markdown",
   "metadata": {
    "kernel": "SoS"
   },
   "source": [
    "Need to format the data to:"
   ]
  },
  {
   "cell_type": "markdown",
   "metadata": {
    "kernel": "SoS"
   },
   "source": [
    "```\n",
    "Variant_ID PIP z_score CS_ID \n",
    "```\n",
    "\n",
    "Where `CS_ID` is 0 if variant is not in SuSiE CS, 1 if in CS 1, 2 in CS 2, etc. `Variant_ID` carries information of chrom and pos. eg, `rs10131831_chr14_20905250_G_A`"
   ]
  },
  {
   "cell_type": "code",
   "execution_count": null,
   "metadata": {
    "kernel": "SoS"
   },
   "outputs": [],
   "source": [
    "[global]\n",
    "# Y data, the phenotype file paths\n",
    "parameter: y_data = path()\n",
    "# Trait name\n",
    "parameter: trait = None\n",
    "# Specify work / output directory\n",
    "parameter: cwd = path(f'{y_data:d}/{trait}_output')\n",
    "# Path to directory of annotation files\n",
    "parameter: annotation_dir = path('~/Documents/GIT/LargeFiles/lcl_annotation')\n",
    "# Path to list of single annotations to use\n",
    "parameter: single_annot = path() #parameter: single_annot = path(\"data/all_annotations.txt\")\n",
    "# Maximum distance to site of interest, set to eg. 100Kb or 1Mb up/downstream to start site of analysis unit\n",
    "parameter: max_dist = 100000\n",
    "fail_if(not y_data.is_file(), msg = 'Please provide valid ``--y-data``!')\n",
    "parameter: z_score = path(f'{cwd}/{y_data:bnn}_{int(max_dist/1000)}Kb/enrichment/SuSiE_loci.sumstats.gz')\n",
    "out_dir = f'{cwd}/{y_data:bnn}_{int(max_dist/1000)}Kb/enrichment/{z_score:bn}'.replace('.', '_')\n",
    "try:\n",
    "    single_anno = [f\"{annotation_dir}/{x.split()[0]}.bed\" for x in open(single_annot).readlines() if not x.startswith('#')]\n",
    "except (FileNotFoundError, IsADirectoryError):\n",
    "    single_anno = []"
   ]
  },
  {
   "cell_type": "markdown",
   "metadata": {
    "kernel": "SoS"
   },
   "source": [
    "## Prepare annotations\n",
    "\n",
    "Histone marks\n",
    "\n",
    "```\n",
    "sos run analysis/20180712_Enrichment_Workflow.ipynb download_histone_annotation --trait AS \\\n",
    "    --y-data ~/Documents/GIT/LargeFiles/JointLCL/fastqtl_qqnorm_ASintron_RNAseqGeuvadis_YangVCF.txt.gz\n",
    "```"
   ]
  },
  {
   "cell_type": "code",
   "execution_count": null,
   "metadata": {
    "kernel": "SoS"
   },
   "outputs": [],
   "source": [
    "[download_histone_annotation]\n",
    "dataset = paths([\"E116-DNase.macs2.narrowPeak.gz\",\n",
    "\"E116-H2A.Z.narrowPeak.gz\",\n",
    "\"E116-H3K4me1.narrowPeak.gz\",\n",
    "\"E116-H3K4me2.narrowPeak.gz\",\n",
    "\"E116-H3K4me3.narrowPeak.gz\",\n",
    "\"E116-H3K9ac.narrowPeak.gz\",\n",
    "\"E116-H3K9me3.narrowPeak.gz\",\n",
    "\"E116-H3K27ac.narrowPeak.gz\",\n",
    "\"E116-H3K27me3.narrowPeak.gz\",\n",
    "\"E116-H3K36me3.narrowPeak.gz\",\n",
    "\"E116-H3K79me2.narrowPeak.gz\",\n",
    "\"E116-H4K20me1.narrowPeak.gz\"])\n",
    "input: for_each = 'dataset', concurrent = True\n",
    "output: f'{annotation_dir}/{_dataset:nn}.bed'\n",
    "download: dest_dir = annotation_dir, expand = True\n",
    "    https://egg2.wustl.edu/roadmap/data/byFileType/peaks/consolidated/narrowPeak/{_dataset}\n",
    "bash: expand = True, workdir = annotation_dir, container = 'gaow/atac-gwas'\n",
    "    zcat {_dataset} | cut -f1-3 | grep -v chrM | sort-bed - > {_output}"
   ]
  },
  {
   "cell_type": "markdown",
   "metadata": {
    "kernel": "SoS"
   },
   "source": [
    "CTCF binding:\n",
    "\n",
    "```\n",
    "sos run analysis/20180712_Enrichment_Workflow.ipynb download_ctcf_annotation --trait AS \\\n",
    "    --y-data ~/Documents/GIT/LargeFiles/JointLCL/fastqtl_qqnorm_ASintron_RNAseqGeuvadis_YangVCF.txt.gz\n",
    "```"
   ]
  },
  {
   "cell_type": "code",
   "execution_count": null,
   "metadata": {
    "kernel": "SoS"
   },
   "outputs": [],
   "source": [
    "[download_ctcf_annotation]\n",
    "output: f'{annotation_dir}/CTCF_binding.bed'\n",
    "download: dest_dir = annotation_dir\n",
    "    https://www.ebi.ac.uk/birney-srv/CTCF-QTL/phenotypes/bindings.csv\n",
    "bash: expand = True, workdir = annotation_dir, container = 'gaow/atac-gwas'\n",
    "    cut -f1-3 -d \",\" bindings.csv | tail -n+2 | sed 's/,/\\t/g' | sed 's/^/chr/g' | grep -v chrM | sort-bed - > {_output}"
   ]
  },
  {
   "cell_type": "markdown",
   "metadata": {
    "kernel": "SoS"
   },
   "source": [
    "PolyII binding:\n",
    "\n",
    "```\n",
    "sos run analysis/20180712_Enrichment_Workflow.ipynb download_polII_annotation --trait AS \\\n",
    "    --y-data ~/Documents/GIT/LargeFiles/JointLCL/fastqtl_qqnorm_ASintron_RNAseqGeuvadis_YangVCF.txt.gz\n",
    "```\n",
    "\n",
    "Need to `liftOver`:\n",
    "\n",
    "```\n",
    "conda config --add channels bioconda\n",
    "conda install ucsc-liftover\n",
    "```"
   ]
  },
  {
   "cell_type": "code",
   "execution_count": null,
   "metadata": {
    "kernel": "SoS"
   },
   "outputs": [],
   "source": [
    "[download_polII_annotation]\n",
    "dataset = \"GSM487431_GM12878_Pol2_narrowPeak.bed.gz\"\n",
    "output: f'{annotation_dir}/PolII_binding.bed'\n",
    "download: dest_dir = annotation_dir, expand=True\n",
    "    ftp://ftp.ncbi.nlm.nih.gov/geo/samples/GSM487nnn/GSM487431/suppl/{dataset}\n",
    "download: dest_dir = annotation_dir\n",
    "    http://hgdownload.cse.ucsc.edu/goldenpath/hg18/liftOver/hg18ToHg19.over.chain.gz\n",
    "bash: expand = True, workdir = annotation_dir, container = 'gaow/atac-gwas'\n",
    "    zcat {dataset} | cut -f1-3  | grep -v chrM | sort-bed - > {_output:n}.hg18.bed\n",
    "bash: expand = True, workdir = annotation_dir\n",
    "    liftOver {_output:n}.hg18.bed hg18ToHg19.over.chain.gz {_output} unmapped"
   ]
  },
  {
   "cell_type": "markdown",
   "metadata": {
    "kernel": "SoS"
   },
   "source": [
    "Gene regions:\n",
    "\n",
    "```\n",
    "sos run analysis/20180712_Enrichment_Workflow.ipynb gene_regions --trait AS \\\n",
    "    --y-data ~/Documents/GIT/LargeFiles/JointLCL/fastqtl_qqnorm_ASintron_RNAseqGeuvadis_YangVCF.txt.gz\n",
    "```"
   ]
  },
  {
   "cell_type": "code",
   "execution_count": null,
   "metadata": {
    "kernel": "SoS"
   },
   "outputs": [],
   "source": [
    "[gene_regions_refgene]\n",
    "output: f'{annotation_dir}/genes.bed'\n",
    "download: dest_dir = annotation_dir\n",
    "    http://hgdownload.cse.ucsc.edu/goldenPath/hg19/database/refGene.txt.gz\n",
    "python: expand = '${ }', workdir = annotation_dir\n",
    "    import pandas as pd\n",
    "    ref_gene = pd.read_table('refGene.txt.gz', compression=\"gzip\", sep=\"\\t\", \n",
    "                         header = None, usecols=(1,2,4,5,12), \n",
    "                         names = [\"tx_name\", \"chrom\", \"tx_start\", \"tx_end\", \"gene_name\"])\n",
    "    ref_gene = ref_gene.drop_duplicates(subset=(\"chrom\", \"tx_start\", \"tx_end\"))\n",
    "    ref_gene = pd.DataFrame(ref_gene.groupby(['chrom','gene_name']).agg({'tx_start': 'min', 'tx_end': 'max'}).to_records())\n",
    "    ref_gene.iloc[:,[0,2,3]].to_csv(${_output:r}, sep = \"\\t\", header = False, index = False)"
   ]
  },
  {
   "cell_type": "code",
   "execution_count": null,
   "metadata": {
    "kernel": "SoS"
   },
   "outputs": [],
   "source": [
    "[gene_regions]\n",
    "input: f'{annotation_dir}/gene_map.txt'\n",
    "output: f'{annotation_dir}/gene_map.bed'\n",
    "bash: expand = True, workdir = annotation_dir, container = 'gaow/atac-gwas'\n",
    "    cut {_input} -f2-4 | sed 's/^/chr/g' | grep -v chrM | sort-bed - > {_output}"
   ]
  },
  {
   "cell_type": "markdown",
   "metadata": {
    "kernel": "SoS"
   },
   "source": [
    "Extended splice sites:\n",
    "\n",
    "```\n",
    "sos run analysis/20180712_Enrichment_Workflow.ipynb extended_splice_site --trait AS \\\n",
    "    --y-data ~/Documents/GIT/LargeFiles/JointLCL/fastqtl_qqnorm_ASintron_RNAseqGeuvadis_YangVCF.txt.gz\n",
    "```"
   ]
  },
  {
   "cell_type": "code",
   "execution_count": null,
   "metadata": {
    "kernel": "SoS"
   },
   "outputs": [],
   "source": [
    "[extended_splice_site]\n",
    "input: f\"{annotation_dir}/Intron_UCSC.bed\"\n",
    "output: f\"{annotation_dir}/Extended_splice_site.bed\"\n",
    "python: expand = \"${ }\", workdir = annotation_dir\n",
    "    lines = [x.strip().split() for x in open(${_input:r}).readlines()]\n",
    "    out = []\n",
    "    for line in lines:\n",
    "        out.append(f'{line[0]}\\t{int(line[1])-5}\\t{int(line[1])+5}')\n",
    "        out.append(f'{line[0]}\\t{int(line[2])-15}\\t{int(line[2])+15}')\n",
    "    with open(${_output:r}, 'w') as f:\n",
    "        f.write('\\n'.join(out) + '\\n')\n",
    "bash: expand = True, workdir = annotation_dir, container = 'gaow/atac-gwas'\n",
    "    sort-bed {_output} > {_output:n}.sorted.txt\n",
    "    mv {_output:n}.sorted.txt {_output}"
   ]
  },
  {
   "cell_type": "markdown",
   "metadata": {
    "kernel": "SoS"
   },
   "source": [
    "## Prepare summary statistics file\n",
    "\n",
    "```\n",
    "sos run analysis/20180712_Enrichment_Workflow.ipynb extract_sumstats \\\n",
    "    --y-data ~/Documents/GIT/LargeFiles/JointLCL/fastqtl_qqnorm_ASintron_RNAseqGeuvadis_YangVCF.txt.gz \\\n",
    "    --trait AS -j 16 \n",
    "```"
   ]
  },
  {
   "cell_type": "code",
   "execution_count": null,
   "metadata": {
    "kernel": "SoS"
   },
   "outputs": [],
   "source": [
    "# Extract summary stats from RDS files to plain text\n",
    "[extract_sumstats_1]\n",
    "input: glob.glob(f'{cwd}/{y_data:bnn}_{int(max_dist/1000)}Kb/SuSiE_CS_[1-9]/*.rds'), group_by = 1, concurrent = True\n",
    "output: f'{_input:dd}/enrichment/{_input:bn}.sumstats.gz'\n",
    "R: expand = '${ }'\n",
    "    dat = readRDS(${_input:r})\n",
    "    pip = dat$pip\n",
    "    names = names(readRDS(dat$input)[[dat$idx]]$z_score)\n",
    "    zscore = readRDS(dat$input)[[dat$idx]]$z_score\n",
    "    # For earlier version of susieR\n",
    "    ordering = order(dat$sets$purity$min.abs.corr, decreasing=T)\n",
    "    dat$sets$cs = dat$sets$cs[ordering]\n",
    "    dat$sets$purity = dat$sets$purity[ordering,]\n",
    "    cs_id = rep(0, length(pip))\n",
    "    for (i in 1:length(dat$sets$cs)) {\n",
    "        cs_id[dat$sets$cs[i]] = i\n",
    "    }\n",
    "    write.table(cbind(names,pip,zscore,cs_id), gzfile(${_output:r}), quote=FALSE, col.names=FALSE, row.names=FALSE, sep=\"\\t\")\n",
    "\n",
    "# Consolidate results to one file\n",
    "[extract_sumstats_2]\n",
    "output: f'{cwd}/{y_data:bnn}_{int(max_dist/1000)}Kb/enrichment/SuSiE_loci.sumstats.gz'\n",
    "bash: expand = True\n",
    "    zcat {_input} | gzip --best > {_output}\n",
    "_input.zap()"
   ]
  },
  {
   "cell_type": "markdown",
   "metadata": {
    "kernel": "SoS"
   },
   "source": [
    "```\n",
    "[GW] zcat /home/gaow/GIT/LargeFiles/JointLCL/AS_output/fastqtl_qqnorm_ASintron_RNAseqGeuvadis_YangVCF_100Kb/enrichment/SuSiE_loci.sumstats.gz | wc -l\n",
    "1289796\n",
    "[GW] zcat /home/gaow/GIT/LargeFiles/JointLCL/AS_output/fastqtl_qqnorm_ASintron_RNAseqGeuvadis_YangVCF_100Kb/enrichment/SuSiE_loci.sumstats.gz | cut -f 4 | grep 1 | wc -l\n",
    "37911\n",
    "[GW] zcat /home/gaow/GIT/LargeFiles/JointLCL/AS_output/fastqtl_qqnorm_ASintron_RNAseqGeuvadis_YangVCF_100Kb/enrichment/SuSiE_loci.sumstats.gz | cut -f 4 | grep 2 | wc -l\n",
    "1881\n",
    "[GW] zcat /home/gaow/GIT/LargeFiles/JointLCL/AS_output/fastqtl_qqnorm_ASintron_RNAseqGeuvadis_YangVCF_100Kb/enrichment/SuSiE_loci.sumstats.gz | cut -f 4 | grep 3 | wc -l\n",
    "91\n",
    "```\n",
    "\n",
    "So we have total of 1289796 variants, 37911 in CS 1, 1881 in CS 2, etc."
   ]
  },
  {
   "cell_type": "markdown",
   "metadata": {
    "kernel": "SoS"
   },
   "source": [
    "## Convert variants from summary statistics to bed format"
   ]
  },
  {
   "cell_type": "code",
   "execution_count": null,
   "metadata": {
    "kernel": "SoS"
   },
   "outputs": [],
   "source": [
    "# Auxiliary step to get variant in bed format based on variant ID in z-score file\n",
    "[zscore2bed_1]\n",
    "parameter: in_file = path()\n",
    "parameter: chr_prefix = \"\"\n",
    "input: in_file\n",
    "output: f'{_input:n}.bed.unsorted'\n",
    "R: expand = \"${ }\", container = 'gaow/atac-gwas', workdir = cwd, stdout = f'{_output:n}.stdout'\n",
    "    library(readr)\n",
    "    library(stringr)\n",
    "    library(dplyr)\n",
    "    var_file <- ${_input:r}\n",
    "    out_file <- ${_output:r}\n",
    "\n",
    "    variants <- read_tsv(var_file)\n",
    "    colnames(variants) = c('variant', 'pip', 'zscore', 'cs')\n",
    "    var_info <- str_split(variants$variant, \"_\")\n",
    "    variants <- mutate(variants, chr = paste0(\"${chr_prefix}\", sapply(var_info, function(x){x[2]})), \n",
    "                                 pos = sapply(var_info, function(x){x[3]})) %>%\n",
    "                mutate(start = as.numeric(pos), stop=as.numeric(pos)  + 1) %>%\n",
    "                select(chr, start, stop, variant)\n",
    "    options(scipen=1000) # So that positions are always fully written out)\n",
    "    write.table(variants, file=out_file, quote=FALSE, col.names=FALSE, row.names=FALSE, sep=\"\\t\")\n",
    "\n",
    "[zscore2bed_2]\n",
    "output: f'{_input:n}'\n",
    "bash: expand = True, container = 'gaow/atac-gwas', workdir = cwd\n",
    "     sort-bed {_input} > {_output}\n",
    "_input.zap()\n",
    "\n",
    "[get_variants: provides = '{data}.bed']\n",
    "output: f'{data}.bed'\n",
    "sos_run('zscore2bed', in_file = f'{_output:n}.gz')"
   ]
  },
  {
   "cell_type": "markdown",
   "metadata": {
    "kernel": "SoS"
   },
   "source": [
    "## Apply ranged based annotations\n",
    "\n",
    "```\n",
    "sos run analysis/20180712_Enrichment_Workflow.ipynb range2var_annotation \\\n",
    "    --y-data ~/Documents/GIT/LargeFiles/JointLCL/fastqtl_qqnorm_ASintron_RNAseqGeuvadis_YangVCF.txt.gz \\\n",
    "    --trait AS -j 16 \\\n",
    "    --single-annot data/annotation.list \n",
    "```"
   ]
  },
  {
   "cell_type": "code",
   "execution_count": null,
   "metadata": {
    "kernel": "SoS"
   },
   "outputs": [],
   "source": [
    "# Get variants in data that falls in target region\n",
    "[range2var_annotation_1]\n",
    "depends: f'{z_score:n}.bed'\n",
    "input: set(paths(single_anno)), group_by = 1, concurrent = True\n",
    "output: f'{out_dir}/{_input:bn}.{z_score:bn}.bed'\n",
    "bash: expand = True, container = 'gaow/atac-gwas', workdir = cwd, volumes = f'{annotation_dir}:{annotation_dir}'\n",
    "    bedops -e {z_score:n}.bed {_input} > {_output}"
   ]
  },
  {
   "cell_type": "code",
   "execution_count": null,
   "metadata": {
    "kernel": "SoS"
   },
   "outputs": [],
   "source": [
    "# Make binary annotation file\n",
    "[range2var_annotation_2]\n",
    "depends: z_score\n",
    "input: group_by = 1, concurrent = True\n",
    "output: f'{_input:n}.gz'\n",
    "R: expand = \"${ }\", container = 'gaow/atac-gwas', workdir = cwd, stdout = f'{_output:n}.stdout'\n",
    "    library(readr)\n",
    "    library(dplyr)\n",
    "    library(stringr)\n",
    "\n",
    "    variant_tsv <- ${z_score:r}\n",
    "    annotation_var_bed <- ${_input:r}\n",
    "    annot_name <- ${_input:bnr} %>% str_replace(paste0(\".\",${z_score:bnr}), \"\")\n",
    "    out_name <- ${_output:r}\n",
    "\n",
    "    vars <- read_tsv(variant_tsv, col_names=FALSE)[,1]\n",
    "    annot_vars = read_tsv(annotation_var_bed, col_names=FALSE)\n",
    "    names(vars) <- \"SNP\"\n",
    "    vars <- vars %>%\n",
    "            mutate(annot_d = case_when(SNP %in% annot_vars$X4 ~ 1,\n",
    "                                                        TRUE ~ 0))\n",
    "    # remove possible duplicate rows\n",
    "    vars <- unique(vars)    \n",
    "    names(vars)[2] <- annot_name\n",
    "    write.table(vars, file=gzfile(out_name),\n",
    "                col.names=TRUE, row.names=FALSE, sep=\"\\t\", quote=FALSE)"
   ]
  },
  {
   "cell_type": "markdown",
   "metadata": {
    "kernel": "SoS"
   },
   "source": [
    "## Matched enrichment analysis via GREGOR\n",
    "\n",
    "To properly perform enrichment analysis we want to match the control SNPs with the SNPs of interest -- that is, SNPs inside CS -- in terms of LD, distance to nearest gene and MAF. The [GREGOR](http://csg.sph.umich.edu/GREGOR/index.php/site/download) software can generate list of matched SNPs. I will use SNPs inside CS as input and expect a list of output SNPs matching these inputs.\n",
    "\n",
    "GREGOR is release under University of Michigan license so I'll not make it into a docker image. So path to GREGOR directory is required. Also we need reference files, prepared by:\n",
    "\n",
    "```\n",
    "cat \\\n",
    "    GREGOR.AFR.ref.r2.greater.than.0.7.tar.gz.part.00 \\\n",
    "    GREGOR.AFR.ref.r2.greater.than.0.7.tar.gz.part.01 \\\n",
    "    > GREGOR.AFR.ref.r2.greater.than.0.7.tar.gz\n",
    "tar zxvf GREGOR.AFR.ref.r2.greater.than.0.7.tar.gz\n",
    "```\n",
    "\n",
    "MD5SUM check:\n",
    "\n",
    "```\n",
    "AFR.part.0\t( MD5: 9926904128dd58d6bf1ad4f1e90638af )\n",
    "AFR.part.1\t( MD5: c1d30aff89a584bfa8c1fa1bdc197f21 )\n",
    "```"
   ]
  },
  {
   "cell_type": "markdown",
   "metadata": {
    "kernel": "SoS"
   },
   "source": [
    "The input file can be a list of `rs` ID's. In `SuSiE_loci.sumstats.gz` we do have this information. "
   ]
  },
  {
   "cell_type": "markdown",
   "metadata": {
    "kernel": "SoS"
   },
   "source": [
    "```\n",
    "sos run analysis/20180712_Enrichment_Workflow.ipynb gregor --cs 1 \\\n",
    "    --y-data ~/Documents/GIT/LargeFiles/JointLCL/fastqtl_qqnorm_ASintron_RNAseqGeuvadis_YangVCF.txt.gz \\\n",
    "    --trait AS -j 16 \\\n",
    "    --single-annot data/annotation.list \n",
    "    \n",
    "sos run analysis/20180712_Enrichment_Workflow.ipynb gregor --cs 2 \\\n",
    "    --y-data ~/Documents/GIT/LargeFiles/JointLCL/fastqtl_qqnorm_ASintron_RNAseqGeuvadis_YangVCF.txt.gz \\\n",
    "    --trait AS -j 16 \\\n",
    "    --single-annot data/annotation.list \n",
    "```"
   ]
  },
  {
   "cell_type": "code",
   "execution_count": null,
   "metadata": {
    "kernel": "SoS"
   },
   "outputs": [],
   "source": [
    "[gregor_1 (make SNP index)]\n",
    "# which set to test. 1 to test primary test, otherwise non-primary set\n",
    "parameter: cs = 1\n",
    "input: z_score\n",
    "output: f'{_input:nn}.set{cs}.txt', f'{_input:nn}.annotations.list'\n",
    "bash: expand = '${ }'\n",
    "    zcat ${_input} | awk '{if (${\"$4==1 && $2 > 0.05\" if cs == 1 else \"$4>1 && $2 > 0.05\"}) print $0}' | cut -f 2,3 -d \"_\" | sed 's/_/:/g' | sort -u > ${_output[0]}\n",
    "\n",
    "with open(_output[1], 'w') as f:\n",
    "    f.write('\\n'.join(single_anno))\n",
    "\n",
    "[gregor_2 (make configuration file)]\n",
    "parameter: gregor_db = path('/data/GREGOR_DB')\n",
    "parameter: pop = 'AFR'\n",
    "parameter: ncpu = 10\n",
    "output: f'{_input[0]:n}.gregor.conf'\n",
    "report: output = f'{_output}', expand = True\n",
    "    ##############################################################################\n",
    "    # CHIPSEQ ENRICHMENT CONFIGURATION FILE\n",
    "    # This configuration file contains run-time configuration of\n",
    "    # CHIP_SEQ ENRICHMENT\n",
    "    ###############################################################################\n",
    "    ## KEY ELEMENTS TO CONFIGURE : NEED TO MODIFY\n",
    "    ###############################################################################\n",
    "    INDEX_SNP_FILE = {_input[0]}\n",
    "    BED_FILE_INDEX = {_input[1]} \n",
    "    REF_DIR = {gregor_db}\n",
    "    R2THRESHOLD = 0.7 ## must be greater than 0.7\n",
    "    LDWINDOWSIZE = 10000 ## must be less than 1MB; these two values define LD buddies\n",
    "    OUT_DIR = {_output:nn}_gregor_output\n",
    "    MIN_NEIGHBOR_NUM = 10 ## define the size of neighborhood\n",
    "    BEDFILE_IS_SORTED = true  ## false, if the bed files are not sorted\n",
    "    POPULATION = {pop}  ## define the population, you can specify EUR, AFR, AMR or ASN\n",
    "    TOPNBEDFILES = 2 \n",
    "    JOBNUMBER = {ncpu}\n",
    "    ###############################################################################\n",
    "    #BATCHTYPE = mosix ##  submit jobs on MOSIX\n",
    "    #BATCHOPTS = -E/tmp -i -m2000 -j10,11,12,13,14,15,16,17,18,19,120,122,123,124,125 sh -c\n",
    "    ###############################################################################\n",
    "    #BATCHTYPE = slurm   ##  submit jobs on SLURM\n",
    "    #BATCHOPTS = --partition=broadwl --account=pi-mstephens --time=0:30:0\n",
    "    ###############################################################################\n",
    "    BATCHTYPE = local ##  run jobs on local machine\n",
    "\n",
    "bash: expand = True\n",
    "    sed -i '/^$/d' {_output}"
   ]
  },
  {
   "cell_type": "markdown",
   "metadata": {
    "kernel": "SoS"
   },
   "source": [
    "GREGOR is written in `perl`. Some libraries are required to run GREGOR:\n",
    "\n",
    "```\n",
    "sudo apt-get install libdbi-perl libswitch-perl libdbd-sqlite3-perl\n",
    "```"
   ]
  },
  {
   "cell_type": "code",
   "execution_count": null,
   "metadata": {
    "kernel": "SoS"
   },
   "outputs": [],
   "source": [
    "[gregor_3 (run gregor)]\n",
    "parameter: gregor_path = path('/opt/GREGOR')\n",
    "output: f'{_input:nn}_gregor_output/StatisticSummaryFile.txt'\n",
    "bash: expand = True\n",
    "    rm -rf {_input:nn}_gregor_output && perl {gregor_path}/script/GREGOR.pl --conf {_input} && touch {_output}\n",
    "\n",
    "[gregor_4 (format output)]\n",
    "output: f'{_input:n}.csv'\n",
    "bash: expand = True\n",
    "    sed 's/\\t/,/g' {_input} > {_output}"
   ]
  },
  {
   "cell_type": "code",
   "execution_count": 11,
   "metadata": {
    "kernel": "R"
   },
   "outputs": [
    {
     "data": {
      "text/html": [
       "<table>\n",
       "<thead><tr><th></th><th scope=col>Bed_File</th><th scope=col>InBed_Index_SNP</th><th scope=col>ExpectNum_of_InBed_SNP</th><th scope=col>PValue</th></tr></thead>\n",
       "<tbody>\n",
       "\t<tr><th scope=row>1</th><td>E116-H3K36me3.bed       </td><td>2883                    </td><td> 770.67361              </td><td> 0.000000e+00           </td></tr>\n",
       "\t<tr><th scope=row>2</th><td>E116-H3K4me3.bed        </td><td>2162                    </td><td> 650.85295              </td><td> 0.000000e+00           </td></tr>\n",
       "\t<tr><th scope=row>7</th><td>PolII_binding.bed       </td><td>1353                    </td><td> 252.57187              </td><td> 0.000000e+00           </td></tr>\n",
       "\t<tr><th scope=row>9</th><td>E116-H3K9ac.bed         </td><td>2112                    </td><td> 591.04726              </td><td> 0.000000e+00           </td></tr>\n",
       "\t<tr><th scope=row>10</th><td>E116-H3K79me2.bed       </td><td>2668                    </td><td> 752.76032              </td><td> 0.000000e+00           </td></tr>\n",
       "\t<tr><th scope=row>11</th><td>E116-H3K4me2.bed        </td><td>2809                    </td><td>1024.89199              </td><td> 0.000000e+00           </td></tr>\n",
       "\t<tr><th scope=row>12</th><td>Coding_UCSC.bed         </td><td>1932                    </td><td> 791.45368              </td><td> 0.000000e+00           </td></tr>\n",
       "\t<tr><th scope=row>13</th><td>E116-H3K27ac.bed        </td><td>2424                    </td><td> 767.45946              </td><td> 0.000000e+00           </td></tr>\n",
       "\t<tr><th scope=row>6</th><td>E116-H3K4me1.bed        </td><td>2049                    </td><td> 900.11623              </td><td>2.817817e-303           </td></tr>\n",
       "\t<tr><th scope=row>8</th><td>E116-H2A.Z.bed          </td><td>1512                    </td><td> 591.64615              </td><td>5.953945e-269           </td></tr>\n",
       "\t<tr><th scope=row>3</th><td>Extended_splice_site.bed</td><td> 522                    </td><td> 131.50573              </td><td>1.491773e-164           </td></tr>\n",
       "\t<tr><th scope=row>5</th><td>E116-H4K20me1.bed       </td><td> 294                    </td><td>  73.90964              </td><td> 1.072375e-89           </td></tr>\n",
       "\t<tr><th scope=row>4</th><td>CTCF_binding.bed        </td><td> 779                    </td><td> 432.57289              </td><td> 5.859478e-59           </td></tr>\n",
       "\t<tr><th scope=row>14</th><td>Intron_UCSC.bed         </td><td>5879                    </td><td>5724.81885              </td><td> 5.798512e-13           </td></tr>\n",
       "</tbody>\n",
       "</table>\n"
      ],
      "text/latex": [
       "\\begin{tabular}{r|llll}\n",
       "  & Bed\\_File & InBed\\_Index\\_SNP & ExpectNum\\_of\\_InBed\\_SNP & PValue\\\\\n",
       "\\hline\n",
       "\t1 & E116-H3K36me3.bed        & 2883                     &  770.67361               &  0.000000e+00           \\\\\n",
       "\t2 & E116-H3K4me3.bed         & 2162                     &  650.85295               &  0.000000e+00           \\\\\n",
       "\t7 & PolII\\_binding.bed        & 1353                       &  252.57187                 &  0.000000e+00             \\\\\n",
       "\t9 & E116-H3K9ac.bed          & 2112                     &  591.04726               &  0.000000e+00           \\\\\n",
       "\t10 & E116-H3K79me2.bed        & 2668                     &  752.76032               &  0.000000e+00           \\\\\n",
       "\t11 & E116-H3K4me2.bed         & 2809                     & 1024.89199               &  0.000000e+00           \\\\\n",
       "\t12 & Coding\\_UCSC.bed          & 1932                       &  791.45368                 &  0.000000e+00             \\\\\n",
       "\t13 & E116-H3K27ac.bed         & 2424                     &  767.45946               &  0.000000e+00           \\\\\n",
       "\t6 & E116-H3K4me1.bed         & 2049                     &  900.11623               & 2.817817e-303           \\\\\n",
       "\t8 & E116-H2A.Z.bed           & 1512                     &  591.64615               & 5.953945e-269           \\\\\n",
       "\t3 & Extended\\_splice\\_site.bed &  522                         &  131.50573                   & 1.491773e-164               \\\\\n",
       "\t5 & E116-H4K20me1.bed        &  294                     &   73.90964               &  1.072375e-89           \\\\\n",
       "\t4 & CTCF\\_binding.bed         &  779                       &  432.57289                 &  5.859478e-59             \\\\\n",
       "\t14 & Intron\\_UCSC.bed          & 5879                       & 5724.81885                 &  5.798512e-13             \\\\\n",
       "\\end{tabular}\n"
      ],
      "text/markdown": [
       "\n",
       "| <!--/--> | Bed_File | InBed_Index_SNP | ExpectNum_of_InBed_SNP | PValue | \n",
       "|---|---|---|---|---|---|---|---|---|---|---|---|---|---|\n",
       "| 1 | E116-H3K36me3.bed        | 2883                     |  770.67361               |  0.000000e+00            | \n",
       "| 2 | E116-H3K4me3.bed         | 2162                     |  650.85295               |  0.000000e+00            | \n",
       "| 7 | PolII_binding.bed        | 1353                     |  252.57187               |  0.000000e+00            | \n",
       "| 9 | E116-H3K9ac.bed          | 2112                     |  591.04726               |  0.000000e+00            | \n",
       "| 10 | E116-H3K79me2.bed        | 2668                     |  752.76032               |  0.000000e+00            | \n",
       "| 11 | E116-H3K4me2.bed         | 2809                     | 1024.89199               |  0.000000e+00            | \n",
       "| 12 | Coding_UCSC.bed          | 1932                     |  791.45368               |  0.000000e+00            | \n",
       "| 13 | E116-H3K27ac.bed         | 2424                     |  767.45946               |  0.000000e+00            | \n",
       "| 6 | E116-H3K4me1.bed         | 2049                     |  900.11623               | 2.817817e-303            | \n",
       "| 8 | E116-H2A.Z.bed           | 1512                     |  591.64615               | 5.953945e-269            | \n",
       "| 3 | Extended_splice_site.bed |  522                     |  131.50573               | 1.491773e-164            | \n",
       "| 5 | E116-H4K20me1.bed        |  294                     |   73.90964               |  1.072375e-89            | \n",
       "| 4 | CTCF_binding.bed         |  779                     |  432.57289               |  5.859478e-59            | \n",
       "| 14 | Intron_UCSC.bed          | 5879                     | 5724.81885               |  5.798512e-13            | \n",
       "\n",
       "\n"
      ],
      "text/plain": [
       "   Bed_File                 InBed_Index_SNP ExpectNum_of_InBed_SNP\n",
       "1  E116-H3K36me3.bed        2883             770.67361            \n",
       "2  E116-H3K4me3.bed         2162             650.85295            \n",
       "7  PolII_binding.bed        1353             252.57187            \n",
       "9  E116-H3K9ac.bed          2112             591.04726            \n",
       "10 E116-H3K79me2.bed        2668             752.76032            \n",
       "11 E116-H3K4me2.bed         2809            1024.89199            \n",
       "12 Coding_UCSC.bed          1932             791.45368            \n",
       "13 E116-H3K27ac.bed         2424             767.45946            \n",
       "6  E116-H3K4me1.bed         2049             900.11623            \n",
       "8  E116-H2A.Z.bed           1512             591.64615            \n",
       "3  Extended_splice_site.bed  522             131.50573            \n",
       "5  E116-H4K20me1.bed         294              73.90964            \n",
       "4  CTCF_binding.bed          779             432.57289            \n",
       "14 Intron_UCSC.bed          5879            5724.81885            \n",
       "   PValue       \n",
       "1   0.000000e+00\n",
       "2   0.000000e+00\n",
       "7   0.000000e+00\n",
       "9   0.000000e+00\n",
       "10  0.000000e+00\n",
       "11  0.000000e+00\n",
       "12  0.000000e+00\n",
       "13  0.000000e+00\n",
       "6  2.817817e-303\n",
       "8  5.953945e-269\n",
       "3  1.491773e-164\n",
       "5   1.072375e-89\n",
       "4   5.859478e-59\n",
       "14  5.798512e-13"
      ]
     },
     "metadata": {},
     "output_type": "display_data"
    }
   ],
   "source": [
    "dat = read.table('/home/gaow/Documents/GIT/LargeFiles/JointLCL/AS_output/fastqtl_qqnorm_ASintron_RNAseqGeuvadis_YangVCF_100Kb/enrichment/SuSiE_loci_gregor_output/StatisticSummaryFile.csv', head=T, sep=',')\n",
    "dat[order(dat$PValue),]"
   ]
  },
  {
   "cell_type": "markdown",
   "metadata": {
    "kernel": "SoS"
   },
   "source": [
    "## Unmatched enrichment analysis"
   ]
  },
  {
   "cell_type": "markdown",
   "metadata": {
    "kernel": "SoS"
   },
   "source": [
    "In Li 2016 manuscript the analysis was not matched by LD, MAF and TSS for sQTL. The only constraint for control SNPs was that they should be within intron clusters. To focus analysis on these SNPs:\n",
    "\n",
    "```\n",
    "sos run analysis/20180712_Enrichment_Workflow.ipynb overlap_cluster \\\n",
    "    --y-data ~/Documents/GIT/LargeFiles/JointLCL/fastqtl_qqnorm_ASintron_RNAseqGeuvadis_YangVCF.txt.gz \\\n",
    "    --trait AS\n",
    "```"
   ]
  },
  {
   "cell_type": "code",
   "execution_count": null,
   "metadata": {
    "kernel": "SoS"
   },
   "outputs": [],
   "source": [
    "# Overlap z-scores with intron clusters\n",
    "[overlap_cluster]\n",
    "input: f\"{z_score:n}.bed\"\n",
    "output: f'{out_dir}/{y_data:bnn}.{z_score:bn}.overlap.bed'\n",
    "bash: expand = True, container = 'gaow/atac-gwas', workdir = cwd, volumes = [f'{annotation_dir}:{annotation_dir}', f\"{y_data:d}:{y_data:d}\"]\n",
    "    # bedops -e {_input} {annotation_dir}/gene_map.bed | sort -u > {_output}\n",
    "    bedops -e {_input} <(cat {annotation_dir}/Coding_UCSC.bed {annotation_dir}/Intron_UCSC.bed | sort-bed -) | sort -u > {_output}"
   ]
  },
  {
   "cell_type": "markdown",
   "metadata": {
    "kernel": "SoS"
   },
   "source": [
    "We ended up having 348K variants:\n",
    "\n",
    "```\n",
    "[GW] wc -l /home/gaow/Documents/GIT/LargeFiles/JointLCL/AS_output/fastqtl_qqnorm_ASintron_RNAseqGeuvadis_YangVCF_100Kb/enrichment/SuSiE_loci_sumstats/fastqtl_qqnorm_ASintron_RNAseqGeuvadis_YangVCF.SuSiE_loci.sumstats.overlap.bed\n",
    "348694\n",
    "```"
   ]
  },
  {
   "cell_type": "markdown",
   "metadata": {
    "kernel": "SoS"
   },
   "source": [
    "Test for larger PIP in annotation vs outside it. \n",
    "\n",
    "```\n",
    "sos run analysis/20180712_Enrichment_Workflow.ipynb pip_rank_test \\\n",
    "    --y-data ~/Documents/GIT/LargeFiles/JointLCL/fastqtl_qqnorm_ASintron_RNAseqGeuvadis_YangVCF.txt.gz \\\n",
    "    --trait AS -j 16 \\\n",
    "    --single-annot data/annotation.list \n",
    "```"
   ]
  },
  {
   "cell_type": "code",
   "execution_count": null,
   "metadata": {
    "kernel": "SoS"
   },
   "outputs": [],
   "source": [
    "# Subset data\n",
    "[pip_rank_test_1, cs_fisher_test_1]\n",
    "depends: z_score, f'{out_dir}/{y_data:bnn}.{z_score:bn}.overlap.bed'\n",
    "input_files = [f'{out_dir}/{value:bn}.{z_score:bn}.gz' for value in paths(single_anno)]\n",
    "input: input_files, group_by = 1, concurrent = True\n",
    "output: f'{_input:n}.data.rds'\n",
    "R: expand = '${ }', container = 'gaow/atac-gwas', workdir = cwd, stdout = f'{_output:n}.stdout'\n",
    "    set.seed(1)\n",
    "    library(readr)\n",
    "    library(dplyr)\n",
    "    variants <- read_tsv(${z_score:r}, col_names=FALSE)\n",
    "    colnames(variants) = c('SNP', 'PIP', 'Z', 'CS')\n",
    "    annotation <- read_tsv(${_input:r}, col_names=TRUE)\n",
    "    name = colnames(annotation)[2]\n",
    "    colnames(annotation) = c('SNP', 'GROUP')\n",
    "    cluster_subset <- read_tsv('${out_dir}/${y_data:bnn}.${z_score:bn}.overlap.bed', col_names=FALSE)\n",
    "    colnames(cluster_subset) = c(\"CHR\", \"START\", \"END\", \"SNP\")\n",
    "    # restrict analysis to within genes\n",
    "    annotation = inner_join(cluster_subset, annotation, by = \"SNP\")[,c(\"SNP\", \"GROUP\")]\n",
    "    # remove duplicates in variants but keep the largest CS label when possible\n",
    "    variants = as.data.frame(variants)\n",
    "    variants = variants[order(variants[,'SNP'],-variants[,'CS']),]\n",
    "    variants = variants[!duplicated(variants[,'SNP']),]\n",
    "    variants = inner_join(annotation, variants, by = \"SNP\")\n",
    "    saveRDS(list(name=name, variants=variants), ${_output:r})"
   ]
  },
  {
   "cell_type": "code",
   "execution_count": null,
   "metadata": {
    "kernel": "SoS"
   },
   "outputs": [],
   "source": [
    "# Test if PIP is larger in annotations\n",
    "[pip_rank_test_2]\n",
    "input: group_by = 1, concurrent = True\n",
    "output: f'{_input:n}.pip_rank_test.csv'\n",
    "R: expand = '${ }', container = 'gaow/atac-gwas', workdir = cwd, stdout = f'{_output:n}.stdout'\n",
    "    dat = readRDS(${_input:r})\n",
    "    variants = dat$variants\n",
    "    name = dat$name\n",
    "    if (length(unique(variants$GROUP)) == 1) {\n",
    "      write(paste(name, NA, NA, NA, NA, sep=','), file = ${_output:r})\n",
    "    } else {\n",
    "    test = wilcox.test(PIP ~ GROUP, data=variants, conf.int=TRUE)\n",
    "    write(paste(name, test$p.value, test$estimate, test$conf.int[1], test$conf.int[2], sep=','), file = ${_output:r})\n",
    "    }\n",
    "\n",
    "# Consolidate results to one file\n",
    "[pip_rank_test_3,cs_fisher_test_3]\n",
    "output: f\"{cwd}/{y_data:bnn}_{int(max_dist/1000)}Kb/enrichment/SuSiE_loci.sumstats.{step_name.rsplit('_', 1)[0]}.csv\"\n",
    "bash: expand = True\n",
    "    cat {_input} > {_output}\n",
    "_input.zap()"
   ]
  },
  {
   "cell_type": "code",
   "execution_count": 9,
   "metadata": {
    "kernel": "R"
   },
   "outputs": [
    {
     "data": {
      "text/html": [
       "<table>\n",
       "<thead><tr><th></th><th scope=col>annotation</th><th scope=col>p.value</th><th scope=col>estimate</th><th scope=col>conf.int.1</th><th scope=col>conf.int.2</th></tr></thead>\n",
       "<tbody>\n",
       "\t<tr><th scope=row>5</th><td>E116-H3K36me3       </td><td>3.502158e-30        </td><td>-5.129676e-06       </td><td> 1.775306e-05       </td><td>-3.221700e-05       </td></tr>\n",
       "\t<tr><th scope=row>9</th><td>E116-H3K79me2       </td><td>4.270451e-13        </td><td>-6.049179e-07       </td><td> 7.960476e-06       </td><td>-2.022996e-05       </td></tr>\n",
       "\t<tr><th scope=row>6</th><td>E116-H3K4me1        </td><td>1.697103e-09        </td><td>-9.792211e-08       </td><td>-1.556027e-06       </td><td> 1.362075e-05       </td></tr>\n",
       "\t<tr><th scope=row>1</th><td>Coding_UCSC         </td><td>2.509293e-05        </td><td>-4.857236e-06       </td><td>-1.807982e-06       </td><td> 1.770077e-05       </td></tr>\n",
       "\t<tr><th scope=row>12</th><td>Intron_UCSC         </td><td>8.206769e-05        </td><td> 9.223260e-07       </td><td> 1.164579e-05       </td><td>-3.812980e-05       </td></tr>\n",
       "\t<tr><th scope=row>7</th><td>E116-H3K4me2        </td><td>1.346789e-02        </td><td>-9.790462e-07       </td><td> 1.863036e-05       </td><td>-2.333847e-05       </td></tr>\n",
       "\t<tr><th scope=row>11</th><td>E116-H4K20me1       </td><td>2.504146e-02        </td><td> 9.040980e-06       </td><td> 3.240370e-05       </td><td>-1.051296e-05       </td></tr>\n",
       "\t<tr><th scope=row>3</th><td>E116-H2A.Z          </td><td>3.381491e-02        </td><td>-2.721414e-06       </td><td>-3.348304e-05       </td><td>-3.768027e-05       </td></tr>\n",
       "\t<tr><th scope=row>14</th><td>Extended_splice_site</td><td>4.238859e-02        </td><td>-4.047743e-06       </td><td>-2.379580e-05       </td><td>-1.682468e-05       </td></tr>\n",
       "\t<tr><th scope=row>10</th><td>E116-H3K9ac         </td><td>5.446758e-02        </td><td>-5.920611e-07       </td><td>-1.564686e-05       </td><td>-4.512561e-05       </td></tr>\n",
       "\t<tr><th scope=row>8</th><td>E116-H3K4me3        </td><td>1.027078e-01        </td><td>-2.603563e-06       </td><td>-2.694487e-05       </td><td> 9.840231e-06       </td></tr>\n",
       "\t<tr><th scope=row>13</th><td>PolII_binding       </td><td>1.918467e-01        </td><td>-3.929391e-06       </td><td> 7.624660e-06       </td><td>-2.928285e-05       </td></tr>\n",
       "\t<tr><th scope=row>2</th><td>CTCF_binding        </td><td>2.040274e-01        </td><td>-3.818905e-06       </td><td> 2.232505e-06       </td><td> 2.335322e-05       </td></tr>\n",
       "\t<tr><th scope=row>4</th><td>E116-H3K27ac        </td><td>4.087071e-01        </td><td>-1.722333e-07       </td><td> 8.590494e-06       </td><td>-2.235855e-05       </td></tr>\n",
       "</tbody>\n",
       "</table>\n"
      ],
      "text/latex": [
       "\\begin{tabular}{r|lllll}\n",
       "  & annotation & p.value & estimate & conf.int.1 & conf.int.2\\\\\n",
       "\\hline\n",
       "\t5 & E116-H3K36me3        & 3.502158e-30         & -5.129676e-06        &  1.775306e-05        & -3.221700e-05       \\\\\n",
       "\t9 & E116-H3K79me2        & 4.270451e-13         & -6.049179e-07        &  7.960476e-06        & -2.022996e-05       \\\\\n",
       "\t6 & E116-H3K4me1         & 1.697103e-09         & -9.792211e-08        & -1.556027e-06        &  1.362075e-05       \\\\\n",
       "\t1 & Coding\\_UCSC          & 2.509293e-05           & -4.857236e-06          & -1.807982e-06          &  1.770077e-05         \\\\\n",
       "\t12 & Intron\\_UCSC          & 8.206769e-05           &  9.223260e-07          &  1.164579e-05          & -3.812980e-05         \\\\\n",
       "\t7 & E116-H3K4me2         & 1.346789e-02         & -9.790462e-07        &  1.863036e-05        & -2.333847e-05       \\\\\n",
       "\t11 & E116-H4K20me1        & 2.504146e-02         &  9.040980e-06        &  3.240370e-05        & -1.051296e-05       \\\\\n",
       "\t3 & E116-H2A.Z           & 3.381491e-02         & -2.721414e-06        & -3.348304e-05        & -3.768027e-05       \\\\\n",
       "\t14 & Extended\\_splice\\_site & 4.238859e-02             & -4.047743e-06            & -2.379580e-05            & -1.682468e-05           \\\\\n",
       "\t10 & E116-H3K9ac          & 5.446758e-02         & -5.920611e-07        & -1.564686e-05        & -4.512561e-05       \\\\\n",
       "\t8 & E116-H3K4me3         & 1.027078e-01         & -2.603563e-06        & -2.694487e-05        &  9.840231e-06       \\\\\n",
       "\t13 & PolII\\_binding        & 1.918467e-01           & -3.929391e-06          &  7.624660e-06          & -2.928285e-05         \\\\\n",
       "\t2 & CTCF\\_binding         & 2.040274e-01           & -3.818905e-06          &  2.232505e-06          &  2.335322e-05         \\\\\n",
       "\t4 & E116-H3K27ac         & 4.087071e-01         & -1.722333e-07        &  8.590494e-06        & -2.235855e-05       \\\\\n",
       "\\end{tabular}\n"
      ],
      "text/markdown": [
       "\n",
       "| <!--/--> | annotation | p.value | estimate | conf.int.1 | conf.int.2 | \n",
       "|---|---|---|---|---|---|---|---|---|---|---|---|---|---|\n",
       "| 5 | E116-H3K36me3        | 3.502158e-30         | -5.129676e-06        |  1.775306e-05        | -3.221700e-05        | \n",
       "| 9 | E116-H3K79me2        | 4.270451e-13         | -6.049179e-07        |  7.960476e-06        | -2.022996e-05        | \n",
       "| 6 | E116-H3K4me1         | 1.697103e-09         | -9.792211e-08        | -1.556027e-06        |  1.362075e-05        | \n",
       "| 1 | Coding_UCSC          | 2.509293e-05         | -4.857236e-06        | -1.807982e-06        |  1.770077e-05        | \n",
       "| 12 | Intron_UCSC          | 8.206769e-05         |  9.223260e-07        |  1.164579e-05        | -3.812980e-05        | \n",
       "| 7 | E116-H3K4me2         | 1.346789e-02         | -9.790462e-07        |  1.863036e-05        | -2.333847e-05        | \n",
       "| 11 | E116-H4K20me1        | 2.504146e-02         |  9.040980e-06        |  3.240370e-05        | -1.051296e-05        | \n",
       "| 3 | E116-H2A.Z           | 3.381491e-02         | -2.721414e-06        | -3.348304e-05        | -3.768027e-05        | \n",
       "| 14 | Extended_splice_site | 4.238859e-02         | -4.047743e-06        | -2.379580e-05        | -1.682468e-05        | \n",
       "| 10 | E116-H3K9ac          | 5.446758e-02         | -5.920611e-07        | -1.564686e-05        | -4.512561e-05        | \n",
       "| 8 | E116-H3K4me3         | 1.027078e-01         | -2.603563e-06        | -2.694487e-05        |  9.840231e-06        | \n",
       "| 13 | PolII_binding        | 1.918467e-01         | -3.929391e-06        |  7.624660e-06        | -2.928285e-05        | \n",
       "| 2 | CTCF_binding         | 2.040274e-01         | -3.818905e-06        |  2.232505e-06        |  2.335322e-05        | \n",
       "| 4 | E116-H3K27ac         | 4.087071e-01         | -1.722333e-07        |  8.590494e-06        | -2.235855e-05        | \n",
       "\n",
       "\n"
      ],
      "text/plain": [
       "   annotation           p.value      estimate      conf.int.1    conf.int.2   \n",
       "5  E116-H3K36me3        3.502158e-30 -5.129676e-06  1.775306e-05 -3.221700e-05\n",
       "9  E116-H3K79me2        4.270451e-13 -6.049179e-07  7.960476e-06 -2.022996e-05\n",
       "6  E116-H3K4me1         1.697103e-09 -9.792211e-08 -1.556027e-06  1.362075e-05\n",
       "1  Coding_UCSC          2.509293e-05 -4.857236e-06 -1.807982e-06  1.770077e-05\n",
       "12 Intron_UCSC          8.206769e-05  9.223260e-07  1.164579e-05 -3.812980e-05\n",
       "7  E116-H3K4me2         1.346789e-02 -9.790462e-07  1.863036e-05 -2.333847e-05\n",
       "11 E116-H4K20me1        2.504146e-02  9.040980e-06  3.240370e-05 -1.051296e-05\n",
       "3  E116-H2A.Z           3.381491e-02 -2.721414e-06 -3.348304e-05 -3.768027e-05\n",
       "14 Extended_splice_site 4.238859e-02 -4.047743e-06 -2.379580e-05 -1.682468e-05\n",
       "10 E116-H3K9ac          5.446758e-02 -5.920611e-07 -1.564686e-05 -4.512561e-05\n",
       "8  E116-H3K4me3         1.027078e-01 -2.603563e-06 -2.694487e-05  9.840231e-06\n",
       "13 PolII_binding        1.918467e-01 -3.929391e-06  7.624660e-06 -2.928285e-05\n",
       "2  CTCF_binding         2.040274e-01 -3.818905e-06  2.232505e-06  2.335322e-05\n",
       "4  E116-H3K27ac         4.087071e-01 -1.722333e-07  8.590494e-06 -2.235855e-05"
      ]
     },
     "metadata": {},
     "output_type": "display_data"
    }
   ],
   "source": [
    "dat = read.table('/home/gaow/Documents/GIT/LargeFiles/JointLCL/AS_output/fastqtl_qqnorm_ASintron_RNAseqGeuvadis_YangVCF_100Kb/enrichment/SuSiE_loci.sumstats.pip_rank_test.csv', head=F, sep=',')\n",
    "colnames(dat) = c('annotation', 'p.value', 'estimate', 'conf.int.1', \"conf.int.2\")\n",
    "dat[order(dat[,2]),]"
   ]
  },
  {
   "cell_type": "markdown",
   "metadata": {
    "kernel": "SoS"
   },
   "source": [
    "Test for enrichment of annotation in CS.\n",
    "\n",
    "```\n",
    "sos run analysis/20180712_Enrichment_Workflow.ipynb cs_fisher_test \\\n",
    "    --y-data ~/Documents/GIT/LargeFiles/JointLCL/fastqtl_qqnorm_ASintron_RNAseqGeuvadis_YangVCF.txt.gz \\\n",
    "    --trait AS -j 16 \\\n",
    "    --single-annot data/annotation.list \n",
    "```"
   ]
  },
  {
   "cell_type": "code",
   "execution_count": null,
   "metadata": {
    "kernel": "SoS"
   },
   "outputs": [],
   "source": [
    "# Test if CS is enriched with annotations\n",
    "[cs_fisher_test_2]\n",
    "input: group_by = 1, concurrent = True\n",
    "output: f'{_input:n}.cs_fisher_test.csv'\n",
    "R: expand = '${ }', container = 'gaow/atac-gwas', workdir = cwd, stdout = f'{_output:n}.stdout'\n",
    "    run_test = function(dat) {\n",
    "        d1 = dat[which(dat$CS < 2),]\n",
    "        d1 = d1[-which(d1$CS == 1 & d1$PIP < 0.05), ]\n",
    "        d1$PIP = NULL\n",
    "        d1 = table(d1)\n",
    "        test.d1 = fisher.test(d1)\n",
    "        # test for non-first CS only\n",
    "        d2 = dat[which(dat$CS != 1),]\n",
    "        d2$CS[which(d2$CS>0)] = 1\n",
    "        d2 = d2[-which(d2$CS == 1 & d2$PIP < 0.05), ]\n",
    "        d2$PIP = NULL\n",
    "        d2 = table(d2)\n",
    "        test.d2 = fisher.test(d2)\n",
    "        return(c(test.d1$p.value, test.d1$estimate, test.d1$conf.int[1], test.d1$conf.int[2], test.d2$p.value, test.d2$estimate, test.d2$conf.int[1], test.d2$conf.int[2]))\n",
    "    }\n",
    "    dat = readRDS(${_input:r})\n",
    "    variants = dat$variants\n",
    "    name = dat$name\n",
    "    if (length(unique(variants$GROUP)) == 1) {\n",
    "      write(paste(name, NA, NA, NA, NA, NA, NA, NA, NA, sep=','), file = ${_output:r})\n",
    "    } else {\n",
    "    # test against all CS\n",
    "    test = run_test(variants[,c('CS', 'GROUP', 'PIP')])\n",
    "    write(paste(c(name, test), collapse=','), file = ${_output:r})\n",
    "    }"
   ]
  },
  {
   "cell_type": "code",
   "execution_count": 10,
   "metadata": {
    "kernel": "R"
   },
   "outputs": [
    {
     "data": {
      "text/html": [
       "<table>\n",
       "<thead><tr><th></th><th scope=col>annotation</th><th scope=col>p.value.1</th><th scope=col>est.1</th><th scope=col>conf.1a</th><th scope=col>conf.1b</th><th scope=col>p.value.2</th><th scope=col>est.2</th><th scope=col>conf.2a</th><th scope=col>conf.2b</th></tr></thead>\n",
       "<tbody>\n",
       "\t<tr><th scope=row>9</th><td>E116-H3K79me2       </td><td>6.213563e-53        </td><td>1.7733509           </td><td>1.6528902           </td><td>1.9012944           </td><td>7.045409e-10        </td><td>2.5640731           </td><td>1.9118226           </td><td>3.406334            </td></tr>\n",
       "\t<tr><th scope=row>8</th><td>E116-H3K4me3        </td><td>6.082080e-41        </td><td>1.9288253           </td><td>1.7620249           </td><td>2.1082689           </td><td>2.513862e-07        </td><td>2.7630391           </td><td>1.9089417           </td><td>3.906909            </td></tr>\n",
       "\t<tr><th scope=row>5</th><td>E116-H3K36me3       </td><td>7.558364e-41        </td><td>1.7262809           </td><td>1.5989467           </td><td>1.8620315           </td><td>4.346591e-05        </td><td>2.0319146           </td><td>1.4497790           </td><td>2.798520            </td></tr>\n",
       "\t<tr><th scope=row>13</th><td>PolII_binding       </td><td>1.124630e-40        </td><td>2.5990105           </td><td>2.2890045           </td><td>2.9413682           </td><td>5.745633e-04        </td><td>2.8025486           </td><td>1.5425794           </td><td>4.723309            </td></tr>\n",
       "\t<tr><th scope=row>10</th><td>E116-H3K9ac         </td><td>2.042655e-39        </td><td>1.9337026           </td><td>1.7625323           </td><td>2.1180509           </td><td>1.216273e-04        </td><td>2.2532773           </td><td>1.4933752           </td><td>3.295533            </td></tr>\n",
       "\t<tr><th scope=row>7</th><td>E116-H3K4me2        </td><td>4.015520e-37        </td><td>1.6912262           </td><td>1.5648070           </td><td>1.8261439           </td><td>5.155783e-06        </td><td>2.1827886           </td><td>1.5664095           </td><td>2.992412            </td></tr>\n",
       "\t<tr><th scope=row>4</th><td>E116-H3K27ac        </td><td>4.990333e-36        </td><td>1.7684080           </td><td>1.6243937           </td><td>1.9227320           </td><td>1.353474e-04        </td><td>2.0899986           </td><td>1.4378677           </td><td>2.965523            </td></tr>\n",
       "\t<tr><th scope=row>1</th><td>Coding_UCSC         </td><td>2.689713e-16        </td><td>1.5378655           </td><td>1.3919312           </td><td>1.6959596           </td><td>6.343610e-02        </td><td>1.5414558           </td><td>0.9569762           </td><td>2.373234            </td></tr>\n",
       "\t<tr><th scope=row>14</th><td>Extended_splice_site</td><td>2.953173e-15        </td><td>2.8019658           </td><td>2.2146418           </td><td>3.5018781           </td><td>6.427788e-02        </td><td>2.7080663           </td><td>0.7312262           </td><td>7.034874            </td></tr>\n",
       "\t<tr><th scope=row>3</th><td>E116-H2A.Z          </td><td>1.499169e-11        </td><td>1.6450145           </td><td>1.4307537           </td><td>1.8834071           </td><td>4.404253e-01        </td><td>1.2854915           </td><td>0.5804513           </td><td>2.483132            </td></tr>\n",
       "\t<tr><th scope=row>12</th><td>Intron_UCSC         </td><td>6.510039e-09        </td><td>0.7177286           </td><td>0.6445246           </td><td>0.8011805           </td><td>7.800842e-01        </td><td>1.1424304           </td><td>0.6415253           </td><td>2.243416            </td></tr>\n",
       "\t<tr><th scope=row>6</th><td>E116-H3K4me1        </td><td>3.041316e-04        </td><td>1.2066611           </td><td>1.0900523           </td><td>1.3330231           </td><td>5.125559e-02        </td><td>1.5192093           </td><td>0.9785290           </td><td>2.272590            </td></tr>\n",
       "\t<tr><th scope=row>11</th><td>E116-H4K20me1       </td><td>1.216984e-03        </td><td>1.5920187           </td><td>1.1971216           </td><td>2.0781821           </td><td>3.465422e-02        </td><td>2.8434502           </td><td>0.9141362           </td><td>6.738671            </td></tr>\n",
       "\t<tr><th scope=row>2</th><td>CTCF_binding        </td><td>6.975631e-01        </td><td>1.0396775           </td><td>0.8297934           </td><td>1.2874168           </td><td>1.000000e+00        </td><td>0.9460932           </td><td>0.2556027           </td><td>2.455165            </td></tr>\n",
       "</tbody>\n",
       "</table>\n"
      ],
      "text/latex": [
       "\\begin{tabular}{r|lllllllll}\n",
       "  & annotation & p.value.1 & est.1 & conf.1a & conf.1b & p.value.2 & est.2 & conf.2a & conf.2b\\\\\n",
       "\\hline\n",
       "\t9 & E116-H3K79me2        & 6.213563e-53         & 1.7733509            & 1.6528902            & 1.9012944            & 7.045409e-10         & 2.5640731            & 1.9118226            & 3.406334            \\\\\n",
       "\t8 & E116-H3K4me3         & 6.082080e-41         & 1.9288253            & 1.7620249            & 2.1082689            & 2.513862e-07         & 2.7630391            & 1.9089417            & 3.906909            \\\\\n",
       "\t5 & E116-H3K36me3        & 7.558364e-41         & 1.7262809            & 1.5989467            & 1.8620315            & 4.346591e-05         & 2.0319146            & 1.4497790            & 2.798520            \\\\\n",
       "\t13 & PolII\\_binding        & 1.124630e-40           & 2.5990105              & 2.2890045              & 2.9413682              & 5.745633e-04           & 2.8025486              & 1.5425794              & 4.723309              \\\\\n",
       "\t10 & E116-H3K9ac          & 2.042655e-39         & 1.9337026            & 1.7625323            & 2.1180509            & 1.216273e-04         & 2.2532773            & 1.4933752            & 3.295533            \\\\\n",
       "\t7 & E116-H3K4me2         & 4.015520e-37         & 1.6912262            & 1.5648070            & 1.8261439            & 5.155783e-06         & 2.1827886            & 1.5664095            & 2.992412            \\\\\n",
       "\t4 & E116-H3K27ac         & 4.990333e-36         & 1.7684080            & 1.6243937            & 1.9227320            & 1.353474e-04         & 2.0899986            & 1.4378677            & 2.965523            \\\\\n",
       "\t1 & Coding\\_UCSC          & 2.689713e-16           & 1.5378655              & 1.3919312              & 1.6959596              & 6.343610e-02           & 1.5414558              & 0.9569762              & 2.373234              \\\\\n",
       "\t14 & Extended\\_splice\\_site & 2.953173e-15             & 2.8019658                & 2.2146418                & 3.5018781                & 6.427788e-02             & 2.7080663                & 0.7312262                & 7.034874                \\\\\n",
       "\t3 & E116-H2A.Z           & 1.499169e-11         & 1.6450145            & 1.4307537            & 1.8834071            & 4.404253e-01         & 1.2854915            & 0.5804513            & 2.483132            \\\\\n",
       "\t12 & Intron\\_UCSC          & 6.510039e-09           & 0.7177286              & 0.6445246              & 0.8011805              & 7.800842e-01           & 1.1424304              & 0.6415253              & 2.243416              \\\\\n",
       "\t6 & E116-H3K4me1         & 3.041316e-04         & 1.2066611            & 1.0900523            & 1.3330231            & 5.125559e-02         & 1.5192093            & 0.9785290            & 2.272590            \\\\\n",
       "\t11 & E116-H4K20me1        & 1.216984e-03         & 1.5920187            & 1.1971216            & 2.0781821            & 3.465422e-02         & 2.8434502            & 0.9141362            & 6.738671            \\\\\n",
       "\t2 & CTCF\\_binding         & 6.975631e-01           & 1.0396775              & 0.8297934              & 1.2874168              & 1.000000e+00           & 0.9460932              & 0.2556027              & 2.455165              \\\\\n",
       "\\end{tabular}\n"
      ],
      "text/markdown": [
       "\n",
       "| <!--/--> | annotation | p.value.1 | est.1 | conf.1a | conf.1b | p.value.2 | est.2 | conf.2a | conf.2b | \n",
       "|---|---|---|---|---|---|---|---|---|---|---|---|---|---|\n",
       "| 9 | E116-H3K79me2        | 6.213563e-53         | 1.7733509            | 1.6528902            | 1.9012944            | 7.045409e-10         | 2.5640731            | 1.9118226            | 3.406334             | \n",
       "| 8 | E116-H3K4me3         | 6.082080e-41         | 1.9288253            | 1.7620249            | 2.1082689            | 2.513862e-07         | 2.7630391            | 1.9089417            | 3.906909             | \n",
       "| 5 | E116-H3K36me3        | 7.558364e-41         | 1.7262809            | 1.5989467            | 1.8620315            | 4.346591e-05         | 2.0319146            | 1.4497790            | 2.798520             | \n",
       "| 13 | PolII_binding        | 1.124630e-40         | 2.5990105            | 2.2890045            | 2.9413682            | 5.745633e-04         | 2.8025486            | 1.5425794            | 4.723309             | \n",
       "| 10 | E116-H3K9ac          | 2.042655e-39         | 1.9337026            | 1.7625323            | 2.1180509            | 1.216273e-04         | 2.2532773            | 1.4933752            | 3.295533             | \n",
       "| 7 | E116-H3K4me2         | 4.015520e-37         | 1.6912262            | 1.5648070            | 1.8261439            | 5.155783e-06         | 2.1827886            | 1.5664095            | 2.992412             | \n",
       "| 4 | E116-H3K27ac         | 4.990333e-36         | 1.7684080            | 1.6243937            | 1.9227320            | 1.353474e-04         | 2.0899986            | 1.4378677            | 2.965523             | \n",
       "| 1 | Coding_UCSC          | 2.689713e-16         | 1.5378655            | 1.3919312            | 1.6959596            | 6.343610e-02         | 1.5414558            | 0.9569762            | 2.373234             | \n",
       "| 14 | Extended_splice_site | 2.953173e-15         | 2.8019658            | 2.2146418            | 3.5018781            | 6.427788e-02         | 2.7080663            | 0.7312262            | 7.034874             | \n",
       "| 3 | E116-H2A.Z           | 1.499169e-11         | 1.6450145            | 1.4307537            | 1.8834071            | 4.404253e-01         | 1.2854915            | 0.5804513            | 2.483132             | \n",
       "| 12 | Intron_UCSC          | 6.510039e-09         | 0.7177286            | 0.6445246            | 0.8011805            | 7.800842e-01         | 1.1424304            | 0.6415253            | 2.243416             | \n",
       "| 6 | E116-H3K4me1         | 3.041316e-04         | 1.2066611            | 1.0900523            | 1.3330231            | 5.125559e-02         | 1.5192093            | 0.9785290            | 2.272590             | \n",
       "| 11 | E116-H4K20me1        | 1.216984e-03         | 1.5920187            | 1.1971216            | 2.0781821            | 3.465422e-02         | 2.8434502            | 0.9141362            | 6.738671             | \n",
       "| 2 | CTCF_binding         | 6.975631e-01         | 1.0396775            | 0.8297934            | 1.2874168            | 1.000000e+00         | 0.9460932            | 0.2556027            | 2.455165             | \n",
       "\n",
       "\n"
      ],
      "text/plain": [
       "   annotation           p.value.1    est.1     conf.1a   conf.1b   p.value.2   \n",
       "9  E116-H3K79me2        6.213563e-53 1.7733509 1.6528902 1.9012944 7.045409e-10\n",
       "8  E116-H3K4me3         6.082080e-41 1.9288253 1.7620249 2.1082689 2.513862e-07\n",
       "5  E116-H3K36me3        7.558364e-41 1.7262809 1.5989467 1.8620315 4.346591e-05\n",
       "13 PolII_binding        1.124630e-40 2.5990105 2.2890045 2.9413682 5.745633e-04\n",
       "10 E116-H3K9ac          2.042655e-39 1.9337026 1.7625323 2.1180509 1.216273e-04\n",
       "7  E116-H3K4me2         4.015520e-37 1.6912262 1.5648070 1.8261439 5.155783e-06\n",
       "4  E116-H3K27ac         4.990333e-36 1.7684080 1.6243937 1.9227320 1.353474e-04\n",
       "1  Coding_UCSC          2.689713e-16 1.5378655 1.3919312 1.6959596 6.343610e-02\n",
       "14 Extended_splice_site 2.953173e-15 2.8019658 2.2146418 3.5018781 6.427788e-02\n",
       "3  E116-H2A.Z           1.499169e-11 1.6450145 1.4307537 1.8834071 4.404253e-01\n",
       "12 Intron_UCSC          6.510039e-09 0.7177286 0.6445246 0.8011805 7.800842e-01\n",
       "6  E116-H3K4me1         3.041316e-04 1.2066611 1.0900523 1.3330231 5.125559e-02\n",
       "11 E116-H4K20me1        1.216984e-03 1.5920187 1.1971216 2.0781821 3.465422e-02\n",
       "2  CTCF_binding         6.975631e-01 1.0396775 0.8297934 1.2874168 1.000000e+00\n",
       "   est.2     conf.2a   conf.2b \n",
       "9  2.5640731 1.9118226 3.406334\n",
       "8  2.7630391 1.9089417 3.906909\n",
       "5  2.0319146 1.4497790 2.798520\n",
       "13 2.8025486 1.5425794 4.723309\n",
       "10 2.2532773 1.4933752 3.295533\n",
       "7  2.1827886 1.5664095 2.992412\n",
       "4  2.0899986 1.4378677 2.965523\n",
       "1  1.5414558 0.9569762 2.373234\n",
       "14 2.7080663 0.7312262 7.034874\n",
       "3  1.2854915 0.5804513 2.483132\n",
       "12 1.1424304 0.6415253 2.243416\n",
       "6  1.5192093 0.9785290 2.272590\n",
       "11 2.8434502 0.9141362 6.738671\n",
       "2  0.9460932 0.2556027 2.455165"
      ]
     },
     "metadata": {},
     "output_type": "display_data"
    }
   ],
   "source": [
    "dat = read.table('/home/gaow/Documents/GIT/LargeFiles/JointLCL/AS_output/fastqtl_qqnorm_ASintron_RNAseqGeuvadis_YangVCF_100Kb/enrichment/SuSiE_loci.sumstats.cs_fisher_test.csv', head=F, sep=',')\n",
    "colnames(dat) = c('annotation', 'p.value.1', 'est.1', 'conf.1a', \"conf.1b\",  'p.value.2', 'est.2', 'conf.2a', \"conf.2b\")\n",
    "dat[order(dat[,2]),]"
   ]
  },
  {
   "cell_type": "markdown",
   "metadata": {
    "kernel": "SoS"
   },
   "source": [
    "## Check for overlap between signals identifyed by Li 2016\n",
    "\n",
    "Data download from the [paper's companion data website](http://eqtl.uchicago.edu/jointLCL/output_ASintron_PC3.txt)."
   ]
  },
  {
   "cell_type": "markdown",
   "metadata": {
    "kernel": "SoS"
   },
   "source": [
    "```\n",
    "sos run analysis/20180712_Enrichment_Workflow.ipynb signal_overlap \\\n",
    "    --y-data ~/Documents/GIT/LargeFiles/JointLCL/fastqtl_qqnorm_ASintron_RNAseqGeuvadis_YangVCF.txt.gz \\\n",
    "    --trait AS -j 16 \n",
    "```"
   ]
  },
  {
   "cell_type": "code",
   "execution_count": null,
   "metadata": {
    "kernel": "SoS"
   },
   "outputs": [],
   "source": [
    "[signal_overlap_1 (download Li 2016 results)]\n",
    "output: f'{cwd}/output_ASintron_PC3.txt'\n",
    "download: dest_dir = f\"{_output:d}\"\n",
    "    http://eqtl.uchicago.edu/jointLCL/output_ASintron_PC3.txt"
   ]
  },
  {
   "cell_type": "code",
   "execution_count": null,
   "metadata": {
    "kernel": "SoS"
   },
   "outputs": [],
   "source": [
    "[signal_overlap_2]\n",
    "depends: z_score\n",
    "fdr = 0.01\n",
    "python: expand = \"${ }\"\n",
    "    from sos.utils import get_output\n",
    "    susie = set(get_output(\"zcat ${z_score} | cut -f2,3 -d'_' | sed 's/_/./g'\").strip().split(\"\\n\"))\n",
    "    yang = get_output(\"awk '{if ($5 < ${fdr}) print $1,$2}' ${_input}\").strip().split('\\n')[1:]\n",
    "    yang_dict = dict()\n",
    "    for line in yang:\n",
    "        line = line.split()\n",
    "        if line[1] not in yang_dict:\n",
    "            yang_dict[line[1]] = []\n",
    "        yang_dict[line[1]].append(line[0])\n",
    "    intersects = []\n",
    "    for key in yang_dict:\n",
    "        common = susie.intersection(yang_dict[key])\n",
    "        intersects.append(len(common) > 0)\n",
    "    print(len(intersects))\n",
    "    print(sum(intersects))"
   ]
  },
  {
   "cell_type": "markdown",
   "metadata": {
    "kernel": "SoS"
   },
   "source": [
    "1906 out of 2437 clusters match."
   ]
  }
 ],
 "metadata": {
  "kernelspec": {
   "display_name": "SoS",
   "language": "sos",
   "name": "sos"
  },
  "language_info": {
   "codemirror_mode": "sos",
   "file_extension": ".sos",
   "mimetype": "text/x-sos",
   "name": "sos",
   "nbconvert_exporter": "sos_notebook.converter.SoS_Exporter",
   "pygments_lexer": "sos"
  },
  "sos": {
   "default_kernel": "SoS",
   "kernels": [
    [
     "R",
     "ir",
     "R",
     "#DCDCDA"
    ],
    [
     "SoS",
     "sos",
     "",
     ""
    ]
   ]
  }
 },
 "nbformat": 4,
 "nbformat_minor": 2
}
