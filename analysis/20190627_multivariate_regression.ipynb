{
 "cells": [
  {
   "cell_type": "markdown",
   "metadata": {},
   "source": [
    "# Improving calculation of multivariate multiple regression\n",
    "\n",
    "A small prototype for multivariate multiple regression computation assuming fixed residual covariance matrix."
   ]
  },
  {
   "cell_type": "code",
   "execution_count": 1,
   "metadata": {},
   "outputs": [],
   "source": [
    "data = mmbr::mmbr_sim2(1000,7000,50,0.8)"
   ]
  },
  {
   "cell_type": "markdown",
   "metadata": {},
   "source": [
    "Here we do not use an existing R routine because `lm` is very slow (even using `.lm.fit` compared to providing pre-computed `d` as done below). \n",
    "\n"
   ]
  },
  {
   "cell_type": "code",
   "execution_count": 2,
   "metadata": {},
   "outputs": [],
   "source": [
    "method_1 = function(d,X,y,residual_covar,p) {\n",
    "    XtY=t(X)%*%y\n",
    "    bhat = diag(1/d) %*% XtY\n",
    "    s2 = diag(residual_covar)\n",
    "    sbhat = sqrt(do.call(rbind, lapply(1:p, function(j) s2 / d[j])))\n",
    "    return(list(b=bhat,s=sbhat))\n",
    "}"
   ]
  },
  {
   "cell_type": "code",
   "execution_count": 3,
   "metadata": {},
   "outputs": [],
   "source": [
    "method = method_1"
   ]
  },
  {
   "cell_type": "code",
   "execution_count": 5,
   "metadata": {},
   "outputs": [],
   "source": [
    "res = with(data, method(d,X,y,diag(r),p))"
   ]
  },
  {
   "cell_type": "markdown",
   "metadata": {},
   "source": [
    "The speed is decent but the code seems ugly. Must be a more elegant matrix representation (and hopefully faster)?"
   ]
  }
 ],
 "metadata": {
  "kernelspec": {
   "display_name": "R",
   "language": "R",
   "name": "ir"
  },
  "language_info": {
   "codemirror_mode": "r",
   "file_extension": ".r",
   "mimetype": "text/x-r-source",
   "name": "R",
   "pygments_lexer": "r",
   "version": "3.4.4"
  }
 },
 "nbformat": 4,
 "nbformat_minor": 2
}
