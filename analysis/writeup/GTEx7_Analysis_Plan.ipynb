{
 "cells": [
  {
   "cell_type": "markdown",
   "metadata": {},
   "source": [
    "# GTEx V7 eQTL data analysis plan"
   ]
  },
  {
   "cell_type": "markdown",
   "metadata": {},
   "source": [
    "## Preprocessing"
   ]
  },
  {
   "cell_type": "markdown",
   "metadata": {},
   "source": [
    "### What we have\n",
    "* Genotype data, filted and phased, yet not imputed\n",
    "* RNA-Seq data of gene expression for all sample tissues, available both the counts and RPKM\n",
    "* Sample phenotype / covariates\n",
    "\n",
    "### What we need to do\n",
    "\n",
    "#### Genotype data\n",
    "* We need to impute missing genotypes. We will use `impute2` with reference data provided by the software (mostly 1000 genomes data).\n",
    "* Do some PLINK QC, including \n",
    "    * Keep variants with at least 10 samples having the minor allele\n",
    "* Genotype samples have to match RNA-Seq samples by ID\n",
    "    * Renaming, via PLINK\n",
    "\n",
    "#### RNA-Seq data\n",
    "* Genes should have at least 10 samples with RPKM > 0.1 and read counts > 6\n",
    "* Normalization VOOM + log(CPM) / gene_length, or simply log(RPKM)?\n",
    "  * Using quantile normalization would be fine for now (@mstephens. But why @mstephens perfers it? Need another discussion)\n",
    "* Make them into HDF5\n",
    "\n",
    "#### Covariates\n",
    "* 3 PCs, gender, genotyping platform, and PEER factors\n",
    "* PEER factors are generated using the top 1000 expressed genes per tissue, before normalization (or after??). \n",
    "  * Do it after normalization as V6 paper did\n",
    "* Number of PEER depends on sample size N. \n",
    "  * $N < 150$, use 15 PEERs, $150 \\le N < 250$, use 30 PEERs, $N \\ge 250$ use 35 PEERs\n",
    "* Regress out these factors separately for each tissue, save the residual to HDF5 as the Y for later analysis"
   ]
  }
 ],
 "metadata": {
  "kernelspec": {
   "display_name": "SoS",
   "language": "sos",
   "name": "sos"
  },
  "language_info": {
   "codemirror_mode": "sos",
   "file_extension": ".sos",
   "mimetype": "text/x-sos",
   "name": "sos",
   "nbconvert_exporter": "sos.jupyter.converter.SoS_Exporter",
   "pygments_lexer": "sos"
  },
  "sos": {
   "celltoolbar": true,
   "kernels": [
    [
     "sos",
     "SoS",
     ""
    ],
    [
     "python3",
     "Python3",
     "#EAFAF1"
    ],
    [
     "ir",
     "ir",
     ""
    ],
    [
     "r",
     "r",
     ""
    ]
   ],
   "panel": {
    "displayed": true,
    "height": 0,
    "style": "side"
   }
  }
 },
 "nbformat": 4,
 "nbformat_minor": 2
}
