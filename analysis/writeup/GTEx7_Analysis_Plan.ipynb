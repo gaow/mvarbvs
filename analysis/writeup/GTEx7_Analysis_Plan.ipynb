{
 "cells": [
  {
   "cell_type": "markdown",
   "metadata": {},
   "source": [
    "# GTEx V7 eQTL data analysis procedure\n",
    "\n",
    "See [this page](https://gtexportal.org/home/documentationPage) for analysis outline of other releases."
   ]
  },
  {
   "cell_type": "markdown",
   "metadata": {},
   "source": [
    "## Preprocessing"
   ]
  },
  {
   "cell_type": "markdown",
   "metadata": {},
   "source": [
    "### What we have\n",
    "* Genotype data, filted and phased, yet not imputed\n",
    "* RNA-Seq data of gene expression for all sample tissues, available both the counts and RPKM\n",
    "* Sample phenotype / covariates\n",
    "\n",
    "### What we need to do\n",
    "\n",
    "#### Genotype data\n",
    "* We need to impute missing genotypes. We use UMichigen Imputation Panel `minimac3` + HRC reference data\n",
    "* Do some PLINK QC, including\n",
    "    * Keep variants with at least 10 samples having the minor allele (more stringent that 1% MAF filter)\n",
    "* Genotype samples have to match RNA-Seq samples by ID\n",
    "    * Do it to RNA-Seq data when creating HDF5 matrices\n",
    "\n",
    "#### RNA-Seq data\n",
    "* Genes should have at least 10 samples with RPKM > 0.1 and read counts > 6\n",
    "* Use quantile normalization\n",
    "\n",
    "#### Covariates\n",
    "* 3 PCs, gender, genotyping platform, and PEER factors\n",
    "* PEER factors are generated using the top 10000 expressed genes per tissue, after normalization.\n",
    "  * In V6P guideline it seems to vaguely imply using all genes from all tissues. But it seems PEER cannot handle data of that size (too slow to process).\n",
    "  * In [V6 guideline](https://storage.googleapis.com/gtex-public-data/Portal_Analysis_Methods_v6_08182016.pdf) it suggests using top 10K expressed genes per tissue. Since we will remove these covariates via conventional multiple regression anyways it is Ok to correct for it this way.\n",
    "* Number of PEER depends on sample size N. \n",
    "  * $N < 150$, use 15 PEERs, $150 \\le N < 250$, use 30 PEERs, $N \\ge 250$ use 35 PEERs\n",
    "* Regress out these factors separately for each tissue, save the residual to HDF5 as the Y for later analysis\n",
    "\n",
    "#### FastQTL analysis\n",
    "Adapted from [Broad FastQTL wrapper tool](https://github.com/francois-a/fastqtl)"
   ]
  }
 ],
 "metadata": {
  "kernelspec": {
   "display_name": "SoS",
   "language": "sos",
   "name": "sos"
  },
  "language_info": {
   "codemirror_mode": "sos",
   "file_extension": ".sos",
   "mimetype": "text/x-sos",
   "name": "sos",
   "nbconvert_exporter": "sos.jupyter.converter.SoS_Exporter",
   "pygments_lexer": "sos"
  },
  "sos": {
   "celltoolbar": true,
   "kernels": [
    [
     "sos",
     "SoS",
     ""
    ],
    [
     "python3",
     "Python3",
     "#EAFAF1"
    ],
    [
     "ir",
     "ir",
     ""
    ],
    [
     "r",
     "r",
     ""
    ]
   ],
   "panel": {
    "displayed": false,
    "height": 0,
    "style": "side"
   }
  }
 },
 "nbformat": 4,
 "nbformat_minor": 2
}
