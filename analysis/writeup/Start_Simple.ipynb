{
 "cells": [
  {
   "cell_type": "markdown",
   "metadata": {},
   "source": [
    "# Start Simple!"
   ]
  },
  {
   "cell_type": "markdown",
   "metadata": {},
   "source": [
    "Here we summarize a whiteboard discussion lead by @pcarbo along with @NKweiwang and @gaow.\n",
    "\n",
    "## Context and goal\n",
    "The discussion focused mostly in the context of eQTL mapping amount tissues though potentially `m&m ash` is a more generic method.\n",
    "Our goal (hypothesis) in this context is to find new patterns of sharing of effects and increase eQTL detection power via analyzing multiple SNPs jointly.\n",
    "In particular we report \"counts\" compared to single SNP methods, i.e., how many more / less eQTL do we report.\n",
    "Additionally we check if this approach gives us more accurate view of sharing.\n",
    "\n",
    "## Start simple\n",
    "@pcarbo suggests we start it simple by considering $J = 2$ (two tissues) and $P = 2$ (two SNPs) problem.\n",
    "\n",
    "### 2 SNPs\n",
    "This aims to create a toy example where we can evaluate via simulation or in real data the difference between single-SNP and multi-SNP approach.\n",
    "We will contrast the difference between analyze the 2 SNPs separately vs. analyzing them jointly.\n",
    "This can be done to GTEx data with straightforward linear regression analysis.\n",
    "@gaow is going to invest it soon.\n",
    "\n",
    "### 2 tissues\n",
    "This aims to simulate / solve a situation simple enough that we can leverage to fully investigate properties of the multi-SNP approach in multiple tissues.\n",
    "Currently we are having computational issues with $J > 2$, that the residual variance for response is a $J \\times J$ matrix and there can be too many parameters to estimate. \n",
    "@pcarbo points out that if we start with $J = 2$ and instead of using `ash` we can simply enumerate the model underlying the \"ground truth\" (giving us a \"2D spike-slab\" mixture) \n",
    "and we can possibly infer all parameters involved via variational EM.\n",
    "In this setting the residual covariance matrix will have only 3 parameters to estimate at each iteration.\n",
    "This simple model (with $J = 2$ and $P > 2$) and parameters to infer is outlined as follows:\n",
    "![](figures/2tissues-model.png)\n",
    "Solving this model will not only give us estimate of effects (as `ash` model does), but also give estimates of weights on mixture components that, unlike `ash` weights, has clear interpretation.\n",
    "\n",
    "This model can possibly be solved via:\n",
    "* Variational EM\n",
    "* MCMC\n",
    "* Variational EM + simple MCMC (which we also think of doing for fine mapping)\n",
    "\n",
    "We may need to be careful about parameterization of this model. \n",
    "For example we may want to re-parameterize the mixture components as follows:\n",
    "![](figures/reparam-pi.png)\n",
    "\n",
    "### Problems we want to address to with this \"simple start\"\n",
    "* How well does VB work in this setup. Intuitively VB might have a tendency to overestimate sharing.\n",
    "\n",
    "[to be edited]\n",
    "\n",
    "### Other thoughts\n",
    "* I (@gaow) like this simple start approach and would like to pursue. \n",
    "However I think it would be great to use this simple model as a generative model as basis of simulation,\n",
    "yet use `ash` model (as currently implemented in `m&m ash`) to perform inference.\n",
    "For this simple case we can solve $\\Sigma$ the residual variance updates at each iteration.\n",
    "We can also use this to evaluate diagonal $\\Sigma$ approximation.\n",
    "It will also provide ground truth of effect size to compare with `m&m ash` estimates.\n",
    "My concern with formulating and solving the model as described is that it might still be difficult and computationally intensive,\n",
    "and even if we workout $J = 2$ case it is hard to justify that at $J > 2$ case we can safely switch to using `ash` approach instead and all our investigation at $J = 2$ will remain held.\n",
    "* @NKweiwang points out that effect size estimate with `m&m ash` may well be as good as solving this model, \n",
    "although `m&m ash` does not provide mixture proportion estimates.\n",
    "* @pcarbo thinks if we can workout $J = 2$ case alone and find good data example, \n",
    "it warrants a paper on a biological journal. \n",
    "We can then publish a statistical paper on $J > 2$ with `m&m ash` model that makes additional assumptions to deal with computational limitations of the $J = 2$ approach.\n"
   ]
  }
 ],
 "metadata": {
  "kernelspec": {
   "display_name": "R",
   "language": "R",
   "name": "ir"
  },
  "language_info": {
   "codemirror_mode": "r",
   "file_extension": ".r",
   "mimetype": "text/x-r-source",
   "name": "R",
   "pygments_lexer": "r",
   "version": "3.3.1"
  }
 },
 "nbformat": 4,
 "nbformat_minor": 2
}
