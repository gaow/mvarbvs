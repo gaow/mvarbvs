{
 "cells": [
  {
   "cell_type": "markdown",
   "metadata": {},
   "source": [
    "# A modular approach to M&M ASH model"
   ]
  },
  {
   "cell_type": "markdown",
   "metadata": {},
   "source": [
    "## Motivation\n",
    "\n",
    "eQTL discovery and fine mapping problem\n",
    "M&M ASH model, m&m for short.\n",
    "\n",
    "Stephens lab resources\n",
    "At the same time, Stephens lab has \n",
    "\n",
    "Hyperparameter for eQTL effects and feed to fine mapping methods (Wen)\n",
    "\n",
    "## Stage one: deconvoluted effect size estimation\n",
    "\n",
    "## Stage two: multivariate effect size estimation\n",
    "\n",
    "## Stage three: fine-mapping for eQTL discovery"
   ]
  }
 ],
 "metadata": {
  "kernelspec": {
   "display_name": "R",
   "language": "R",
   "name": "ir"
  },
  "language_info": {
   "codemirror_mode": "r",
   "file_extension": ".r",
   "mimetype": "text/x-r-source",
   "name": "R",
   "pygments_lexer": "r",
   "version": "3.3.2"
  }
 },
 "nbformat": 4,
 "nbformat_minor": 2
}
