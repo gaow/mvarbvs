{
 "cells": [
  {
   "cell_type": "markdown",
   "metadata": {
    "deletable": true,
    "editable": true
   },
   "source": [
    "# Meetings"
   ]
  },
  {
   "cell_type": "markdown",
   "metadata": {},
   "source": [
    "## 2017/03/30\n",
    "Meeting with Matthew and Wei, to revive the project, by looking at what we have and what to be done. \n",
    "\n",
    "### Tentative agenda\n",
    "\n",
    "#### Connected work\n",
    "\n",
    "* varbvs\n",
    "* rss\n",
    "* ash\n",
    "* mash\n",
    "* mrash\n",
    "* BMASS\n",
    "\n",
    "### Questions\n",
    "\n",
    "* How can m&m ash generalize all theses work\n",
    "  * We have to think carefully what to incorperate in the generalized framework, and how to incorporate them\n",
    "  * In particular how can we combine mrash / rss + mash?\n",
    "* Do we start from summary statistics or full data?\n",
    "* Do we need MCMC in addition to VEM?\n",
    "\n",
    "Implementation-wise, shall we not write any code until we finalize on how the generalized framework is formulated? We should think \"modularly\" and we make contributions directly to other modules whenever possible, then build m&m ash with these modules.\n",
    "\n",
    "### What to do with `mrash` as a standalone work?\n",
    "If we start from full data then `mrash` is a natural first step.\n",
    "\n",
    "### Meeting notes"
   ]
  }
 ],
 "metadata": {
  "kernelspec": {
   "display_name": "SoS",
   "language": "sos",
   "name": "sos"
  },
  "language_info": {
   "codemirror_mode": "sos",
   "file_extension": ".sos",
   "mimetype": "text/x-sos",
   "name": "sos",
   "nbconvert_exporter": "sos.jupyter.converter.SoS_Exporter",
   "pygments_lexer": "sos"
  },
  "sos": {
   "celltoolbar": true,
   "kernels": [
    [
     "sos",
     "SoS",
     ""
    ],
    [
     "r",
     "r",
     ""
    ],
    [
     "python3",
     "Python3",
     "#EAFAF1"
    ],
    [
     "ir",
     "R",
     "#FDEDEC"
    ]
   ],
   "panel": {
    "displayed": true,
    "height": 0,
    "style": "side"
   }
  }
 },
 "nbformat": 4,
 "nbformat_minor": 2
}
