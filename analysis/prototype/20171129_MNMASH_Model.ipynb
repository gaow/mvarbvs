{
 "cells": [
  {
   "cell_type": "markdown",
   "metadata": {},
   "source": [
    "# M&M model VEM updates"
   ]
  },
  {
   "cell_type": "code",
   "execution_count": 1,
   "metadata": {
    "kernel": "R"
   },
   "outputs": [],
   "source": [
    "dat = readRDS('/home/gaow/Documents/GTExV8/Thyroid.Lung.FMO2.filled.rds')\n",
    "attach(dat)"
   ]
  },
  {
   "cell_type": "code",
   "execution_count": 2,
   "metadata": {
    "kernel": "Python3"
   },
   "outputs": [
    {
     "name": "stderr",
     "output_type": "stream",
     "text": [
      "Loading required package: feather\n"
     ]
    }
   ],
   "source": [
    "%get X Y --from R\n",
    "Y = Y.as_matrix()"
   ]
  },
  {
   "cell_type": "code",
   "execution_count": 3,
   "metadata": {
    "kernel": "Python3"
   },
   "outputs": [],
   "source": [
    "from libgaow.regression_data import MASH\n",
    "from libgaow.model_mash import PriorMASH\n",
    "import numpy as np"
   ]
  },
  {
   "cell_type": "code",
   "execution_count": 4,
   "metadata": {
    "kernel": "Python3"
   },
   "outputs": [],
   "source": [
    "class MNMASH:\n",
    "    def __init__(self, X=None, Y=None, Z=None, B=None, S=None, V=None):\n",
    "        self.mash = MASH(X=X,Y=Y,Z=Z,B=B,S=S,V=np.cov(Y, rowvar=False) if V is None else V)\n",
    "        self.Y = Y\n",
    "        # variational parameter for the one-nonzero effect model for each l and j\n",
    "        self.alpha0 = None\n",
    "        # posterior mean on \\beta_lj\n",
    "        self.mu0 = None\n",
    "        self.Xr0 = np.zeros((self.Y.shape[0], self.Y.shape[1]))\n",
    "        self.elbo = []\n",
    "        self.post_mean_mat = None\n",
    "    \n",
    "    def set_prior(self, U, grid, pi):\n",
    "        self.mash.set_prior(U, grid, pi)\n",
    "\n",
    "    def fit(self, niter=100, L=5, calc_elbo=False):\n",
    "        self.alpha0 = np.zeros((L, self.mash.X.shape[1]))\n",
    "        self.mu0 = np.zeros((L, self.mash.X.shape[1], self.Y.shape[1]))\n",
    "        for i in range(niter):\n",
    "            self._calc_update()\n",
    "            if calc_elbo:\n",
    "                self._calc_elbo()\n",
    "        self._calc_posterior()\n",
    "\n",
    "    def _calc_update(self):\n",
    "        for l in range(self.alpha0.shape[0]):\n",
    "            self.Xr0 -= self.mash.X @ (np.vstack(self.alpha0[l,:]) * self.mu0[l,:,:])\n",
    "            self.alpha0[l,:], self.mu0[l,:,:] = self._calc_single_snp(self.Y - self.Xr0)\n",
    "            self.Xr0 += self.mash.X @ (np.vstack(self.alpha0[l,:]) * self.mu0[l,:,:])\n",
    "\n",
    "    def _calc_single_snp(self, R):\n",
    "        self.mash.reset({'Y': R})\n",
    "        self.mash.get_summary_stats()\n",
    "        self.mash.fit()\n",
    "        bf = np.exp(self.mash.l10bf)\n",
    "        return bf/np.sum(bf), self.mash.post_mean_mat.T  \n",
    "\n",
    "    def _calc_elbo(self):\n",
    "        pass\n",
    "\n",
    "    def _calc_posterior(self):\n",
    "        almu = np.zeros((self.mu0.shape[0], self.mu0.shape[1], self.mu0.shape[2]))\n",
    "        for l in range(self.alpha0.shape[0]):\n",
    "            almu[l,:,:] = np.vstack(self.alpha0[l,:]) * self.mu0[l,:,:]\n",
    "        self.post_mean_mat = np.sum(almu, axis = 0)"
   ]
  },
  {
   "cell_type": "code",
   "execution_count": 5,
   "metadata": {
    "kernel": "Python3"
   },
   "outputs": [],
   "source": [
    "class ELBOMNM:\n",
    "    def __init__(self, data):\n",
    "        self.data = data"
   ]
  },
  {
   "cell_type": "code",
   "execution_count": 6,
   "metadata": {
    "kernel": "Python3"
   },
   "outputs": [],
   "source": [
    "model = MNMASH(X=X,Y=Y)"
   ]
  },
  {
   "cell_type": "code",
   "execution_count": 7,
   "metadata": {
    "kernel": "Python3"
   },
   "outputs": [],
   "source": [
    "model.set_prior({'identity': np.identity(2), \n",
    "                 'single_1': np.array([[1,0],[0,0]]), \n",
    "                 'single_2': np.array([[0,0], [0,1]]), \n",
    "                 'all_in': np.ones((2,2))}, \n",
    "                [0.5,1], \n",
    "                [0.9,0.01,0.01,0.01,0.01,0.01,0.01,0.02,0.02])"
   ]
  },
  {
   "cell_type": "code",
   "execution_count": 8,
   "metadata": {
    "kernel": "Python3"
   },
   "outputs": [],
   "source": [
    "model.fit(niter = 100)"
   ]
  },
  {
   "cell_type": "code",
   "execution_count": 10,
   "metadata": {
    "kernel": "Python3"
   },
   "outputs": [
    {
     "data": {
      "text/plain": [
       "array([[ -1.04291072e-21,  -5.58051289e-22],\n",
       "       [ -1.77377302e-15,  -1.76887967e-15],\n",
       "       [ -1.15121535e-18,  -1.15039931e-18],\n",
       "       ..., \n",
       "       [  6.76559354e-21,   2.61296975e-21],\n",
       "       [ -1.08939477e-19,  -5.34275355e-20],\n",
       "       [  8.73588121e-21,   3.50093772e-21]])"
      ]
     },
     "execution_count": 10,
     "metadata": {},
     "output_type": "execute_result"
    }
   ],
   "source": [
    "model.post_mean_mat"
   ]
  },
  {
   "cell_type": "code",
   "execution_count": 11,
   "metadata": {
    "kernel": "Python3",
    "tags": [
     "report_output"
    ]
   },
   "outputs": [
    {
     "data": {
      "image/png": "[encoded data removed]",
      "text/plain": [
       "<matplotlib.figure.Figure at 0x7f7a8af675f8>"
      ]
     },
     "metadata": {},
     "output_type": "display_data"
    }
   ],
   "source": [
    "import seaborn as sns\n",
    "import matplotlib.pyplot as plt\n",
    "plt.scatter([x+1 for x in range(len(model.post_mean_mat[:,0]))], model.post_mean_mat[:,0], cmap=\"viridis\")\n",
    "ax = plt.gca()\n",
    "plt.show()"
   ]
  },
  {
   "cell_type": "code",
   "execution_count": 12,
   "metadata": {
    "kernel": "Python3",
    "tags": [
     "report_output"
    ]
   },
   "outputs": [
    {
     "data": {
      "image/png": "[encoded data removed]",
      "text/plain": [
       "<matplotlib.figure.Figure at 0x7f7a8022aa20>"
      ]
     },
     "metadata": {},
     "output_type": "display_data"
    }
   ],
   "source": [
    "import seaborn as sns\n",
    "import matplotlib.pyplot as plt\n",
    "plt.scatter([x+1 for x in range(len(model.post_mean_mat[:,1]))], model.post_mean_mat[:,1], cmap=\"viridis\")\n",
    "ax = plt.gca()\n",
    "plt.show()"
   ]
  }
 ],
 "metadata": {
  "kernelspec": {
   "display_name": "SoS",
   "language": "sos",
   "name": "sos"
  },
  "language_info": {
   "codemirror_mode": "sos",
   "file_extension": ".sos",
   "mimetype": "text/x-sos",
   "name": "sos",
   "nbconvert_exporter": "sos_notebook.converter.SoS_Exporter",
   "pygments_lexer": "sos"
  },
  "sos": {
   "default_kernel": "SoS",
   "kernels": [
    [
     "Python3",
     "python3",
     "Python3",
     "#FFE771"
    ],
    [
     "R",
     "ir",
     "R",
     "#DCDCDA"
    ],
    [
     "SoS",
     "sos",
     "",
     ""
    ]
   ],
   "panel": {
    "displayed": true,
    "height": 0,
    "style": "side"
   }
  }
 },
 "nbformat": 4,
 "nbformat_minor": 2
}
