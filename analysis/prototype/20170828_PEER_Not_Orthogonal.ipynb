{
 "cells": [
  {
   "cell_type": "markdown",
   "metadata": {},
   "source": [
    "# PEER analysis result not orthogonal"
   ]
  },
  {
   "cell_type": "markdown",
   "metadata": {},
   "source": [
    "Here is the original data dimension:"
   ]
  },
  {
   "cell_type": "code",
   "execution_count": null,
   "metadata": {
    "collapsed": true
   },
   "outputs": [],
   "source": [
    "import pandas as pd\n",
    "pfile = '/home/gaow/Documents/GTEx/peer_analysis/Heart_Atrial_Appendage_PEER_covariates.txt'"
   ]
  },
  {
   "cell_type": "code",
   "execution_count": 1,
   "metadata": {
    "kernel": "Python3",
    "tags": [
     "report_cell"
    ]
   },
   "outputs": [
    {
     "data": {
      "text/plain": [
       "(264, 35)"
      ]
     },
     "execution_count": 1,
     "metadata": {},
     "output_type": "execute_result"
    }
   ],
   "source": [
    "peer = pd.read_csv(pfile, header = 0, sep = '\\t', index_col = 0).transpose()\n",
    "peer.shape"
   ]
  },
  {
   "cell_type": "markdown",
   "metadata": {},
   "source": [
    "So there are 264 samples in this tissue and 35 PEER factors has been computed from expression data (see [why 35 PEER factors are generated](http://stephenslab.github.io/gtex-eqtls/writeup/GTEx7_Analysis_Plan.html#Covariates)). \n",
    "\n",
    "## Orthonormal basis via SVD\n",
    "After `orth`:"
   ]
  },
  {
   "cell_type": "code",
   "execution_count": 2,
   "metadata": {
    "kernel": "Python3",
    "tags": [
     "report_cell"
    ]
   },
   "outputs": [
    {
     "data": {
      "text/plain": [
       "(264, 31)"
      ]
     },
     "execution_count": 2,
     "metadata": {},
     "output_type": "execute_result"
    }
   ],
   "source": [
    "import scipy.linalg\n",
    "bmat = scipy.linalg.orth(peer)\n",
    "bmat.shape"
   ]
  },
  {
   "cell_type": "markdown",
   "metadata": {},
   "source": [
    "So there should in fact be only 31 independent factors."
   ]
  },
  {
   "cell_type": "markdown",
   "metadata": {},
   "source": [
    "## Orthonormal basis via QR\n",
    "The first output is the Q matrix (original dimension ...) and the 2nd is the row sum of the R matrix. Note that R matrix has a few zeros particularly at larger index. Maybe setting PEER = 35 is bad idea to start with -- but I was only following the guideline!"
   ]
  },
  {
   "cell_type": "code",
   "execution_count": 3,
   "metadata": {
    "kernel": "Python3",
    "tags": [
     "report_cell"
    ]
   },
   "outputs": [
    {
     "name": "stdout",
     "output_type": "stream",
     "text": [
      "(264, 35)\n",
      "[1.00 -1.00 2.00 3.00 -4.00 -5.00 -10.00 -12.00 13.00 -15.00 -16.00 -15.00\n",
      " 15.00 -16.00 16.00 -16.00 -17.00 14.00 15.00 15.00 15.00 14.00 -15.00\n",
      " 15.00 15.00 13.00 14.00 -10.00 0.00 10.00 -0.00 -0.00 -0.00 0.00 0.00]\n"
     ]
    }
   ],
   "source": [
    "import numpy as np\n",
    "np.set_printoptions(formatter={'float': lambda x: \"{0:0.2f}\".format(x)})\n",
    "qmat = np.linalg.qr(peer, mode='reduced')[0]\n",
    "print(qmat.shape)\n",
    "rmat = np.linalg.qr(peer, mode='reduced')[1]\n",
    "print(np.around(rmat.sum(axis=1)))"
   ]
  },
  {
   "cell_type": "code",
   "execution_count": 4,
   "metadata": {
    "kernel": "SoS",
    "tags": [
     "report_cell"
    ]
   },
   "outputs": [
    {
     "data": {
      "text/html": [
       "<p class=\"session_section\">SoS</p>\n",
       "<table class=\"session_info\">\n",
       "<tr>\n",
       "<th>SoS Version</th><td><pre>0.9.8.10</pre></td>\n",
       "</tr>\n",
       "</table>\n",
       "<p class=\"session_section\">Python3</p>\n",
       "<table class=\"session_info\">\n",
       "<tr>\n",
       "<th>Kernel</th><td><pre>python3</pre></td>\n",
       "</tr>\n",
       "<tr>\n",
       "<th>Language</th><td><pre>Python3</pre></td>\n",
       "</tr>\n",
       "<tr>\n",
       "<th>Version</th><td><pre>3.6.1 |Continuum Analytics, Inc.| (default, May 11 2017, 13:09:58) \n",
       "[GCC 4.4.7 20120313 (Red Hat 4.4.7-1)]</pre></td>\n",
       "</tr>\n",
       "<tr>\n",
       "<th>pandas</th><td><pre>0.20.2</pre></td>\n",
       "</tr>\n",
       "<tr>\n",
       "<th>scipy</th><td><pre>0.19.1</pre></td>\n",
       "</tr>\n",
       "<tr>\n",
       "<th>numpy</th><td><pre>1.13.1</pre></td>\n",
       "</tr>\n",
       "</table>\n"
      ]
     },
     "metadata": {},
     "output_type": "display_data"
    }
   ],
   "source": [
    "%sessioninfo"
   ]
  }
 ],
 "metadata": {
  "celltoolbar": "Tags",
  "kernelspec": {
   "display_name": "SoS",
   "language": "sos",
   "name": "sos"
  },
  "language_info": {
   "codemirror_mode": "sos",
   "file_extension": ".sos",
   "mimetype": "text/x-sos",
   "name": "sos",
   "nbconvert_exporter": "sos.jupyter.converter.SoS_Exporter",
   "pygments_lexer": "sos"
  },
  "sos": {
   "default_kernel": "SoS",
   "kernels": [
    [
     "Python3",
     "python3",
     "Python3",
     "#FFE771"
    ],
    [
     "SoS",
     "sos",
     "",
     ""
    ],
    [
     "R",
     "ir",
     "R",
     "#DCDCDA"
    ]
   ],
   "panel": {
    "displayed": true,
    "height": 0,
    "style": "side"
   }
  }
 },
 "nbformat": 4,
 "nbformat_minor": 2
}
