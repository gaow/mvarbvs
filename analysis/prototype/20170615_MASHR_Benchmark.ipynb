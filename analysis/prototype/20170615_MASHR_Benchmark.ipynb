{
 "cells": [
  {
   "cell_type": "markdown",
   "metadata": {},
   "source": [
    "# mashr R vs. C++ benchmark"
   ]
  },
  {
   "cell_type": "markdown",
   "metadata": {},
   "source": [
    "We've recently implemented a C++ version of `mashr` which seems to perform very well on small scale toy data. How does it scale with data size? This notebook benchmarks speed of both implementations on small to larger scale of data. \n",
    "\n",
    "Before getting to the experiements let's recap the problem and its expected computational requirement. We are fitting `mash` model with data-set of $J$ effects, $R$ conditions, on $K$ priors each with $L$ grids. Often a straightforward loop is applied over all combinations, generating $LJK$ problems. Then for each problem it often involves some Gaussian density calculation which requires computing inverse of an $R$ matrix. So the computational should scale by the order of $O(LJKR^3)$. "
   ]
  },
  {
   "cell_type": "markdown",
   "metadata": {},
   "source": [
    "## The benchmark\n",
    "Load data"
   ]
  },
  {
   "cell_type": "code",
   "execution_count": 1,
   "metadata": {
    "collapsed": true,
    "kernel": "R"
   },
   "outputs": [],
   "source": [
    "library(mashr)\n",
    "data <- get(load(\"../../data/cor_mash.rda\"))"
   ]
  },
  {
   "cell_type": "markdown",
   "metadata": {},
   "source": [
    "Get test set"
   ]
  },
  {
   "cell_type": "code",
   "execution_count": 2,
   "metadata": {
    "kernel": "R"
   },
   "outputs": [
    {
     "name": "stdout",
     "output_type": "stream",
     "text": [
      "[1] 1161\n"
     ]
    }
   ],
   "source": [
    "J = 100\n",
    "R = 53\n",
    "betahat <- data$betahat[1:R, 1:J]\n",
    "sebetahat <- data$sebetahat[1:R, 1:J]\n",
    "mash_data <- set_mash_data(t(betahat), t(sebetahat))\n",
    "Ulist <- expand_cov(cov_canonical(mash_data), c(1:20)/10)\n",
    "LK <- length(Ulist)\n",
    "print(LK)\n",
    "w = matrix(1, J, LK)\n",
    "w = w / LK"
   ]
  },
  {
   "cell_type": "markdown",
   "metadata": {},
   "source": [
    "Likelihood benchmark"
   ]
  },
  {
   "cell_type": "code",
   "execution_count": null,
   "metadata": {
    "kernel": "R"
   },
   "outputs": [
    {
     "name": "stdout",
     "output_type": "stream",
     "text": [
      "Computing 100 x 1161 likelihood matrix for 53 conditions using R version.\n"
     ]
    }
   ],
   "source": [
    "## Compute the likelihood matrix using the R implementation.\n",
    "cat(sprintf(\"Computing %d x %d likelihood matrix for %d conditions using R version.\\n\",J,LK,R))\n",
    "out.time <- system.time(out1 <- calc_lik_matrix(mash_data,Ulist,log = TRUE,algorithm.version = \"R\"))\n",
    "cat(sprintf(paste(\"Likelihood calculations took %0.2f seconds.\\n\"),\n",
    "              out.time[\"elapsed\"]))\n",
    "## Compute the likelihood matrix using the Rcpp implementation.\n",
    "cat(sprintf(\"Computing %d x %d likelihood matrix for %d conditions using Rcpp version.\\n\",J,LK,R))\n",
    "out.time <- system.time(out2 <- calc_lik_matrix(mash_data,Ulist,log = TRUE,algorithm.version = \"Rcpp\"))\n",
    "cat(sprintf(paste(\"Likelihood calculations took %0.2f seconds.\\n\"),\n",
    "              out.time[\"elapsed\"]))\n"
   ]
  },
  {
   "cell_type": "markdown",
   "metadata": {
    "kernel": "ir"
   },
   "source": [
    "Posterior benchmark"
   ]
  },
  {
   "cell_type": "code",
   "execution_count": 3,
   "metadata": {
    "kernel": "ir"
   },
   "outputs": [
    {
     "name": "stdout",
     "output_type": "stream",
     "text": [
      "Computing posterior for 100 effects under 53 conditions using R version.\n",
      "Calculations took 283.41 seconds.\n",
      "Computing posterior matrix for 100 effects under 53 conditions using Rcpp version.\n",
      "Calculations took 187.46 seconds.\n"
     ]
    }
   ],
   "source": [
    "## Compute posterior using the R implementation.\n",
    "cat(sprintf(\"Computing posterior for %d effects under %d conditions using R version.\\n\",J,R))\n",
    "out.time <- system.time(out1 <- compute_posterior_matrices(mash_data,Ulist,w,\n",
    "                                     algorithm.version = \"R\"))\n",
    "cat(sprintf(paste(\"Calculations took %0.2f seconds.\\n\"),\n",
    "              out.time[\"elapsed\"]))\n",
    "## Compute posterior using the Rcpp implementation.\n",
    "cat(sprintf(\"Computing posterior matrix for %d effects under %d conditions using Rcpp version.\\n\",J,R))\n",
    "out.time <- system.time(out2 <-compute_posterior_matrices(mash_data,Ulist,w,\n",
    "                                     algorithm.version = \"Rcpp\"))\n",
    "cat(sprintf(paste(\"Calculations took %0.2f seconds.\\n\"),\n",
    "              out.time[\"elapsed\"]))"
   ]
  },
  {
   "cell_type": "markdown",
   "metadata": {},
   "source": [
    "## Result\n",
    "I ran the benchmark a few times for 1) fixed $J$ and 2) fixed $R$. Here are the results in tables. `P` is number of priors, `TR` is time elapsed for `R`, `TC` is time elapsed for `C++`."
   ]
  },
  {
   "cell_type": "markdown",
   "metadata": {},
   "source": [
    "### Likelihood"
   ]
  },
  {
   "cell_type": "code",
   "execution_count": 71,
   "metadata": {
    "kernel": "Python3"
   },
   "outputs": [
    {
     "data": {
      "text/html": [
       "<div>\n",
       "<style>\n",
       "    .dataframe thead tr:only-child th {\n",
       "        text-align: right;\n",
       "    }\n",
       "\n",
       "    .dataframe thead th {\n",
       "        text-align: left;\n",
       "    }\n",
       "\n",
       "    .dataframe tbody tr th {\n",
       "        vertical-align: top;\n",
       "    }\n",
       "</style>\n",
       "<table border=\"1\" class=\"dataframe\">\n",
       "  <thead>\n",
       "    <tr style=\"text-align: right;\">\n",
       "      <th></th>\n",
       "      <th>J</th>\n",
       "      <th>R</th>\n",
       "      <th>P</th>\n",
       "      <th>TR</th>\n",
       "      <th>TC</th>\n",
       "    </tr>\n",
       "  </thead>\n",
       "  <tbody>\n",
       "    <tr>\n",
       "      <th>0</th>\n",
       "      <td>50</td>\n",
       "      <td>5</td>\n",
       "      <td>201</td>\n",
       "      <td>1.92</td>\n",
       "      <td>0.02</td>\n",
       "    </tr>\n",
       "    <tr>\n",
       "      <th>1</th>\n",
       "      <td>100</td>\n",
       "      <td>5</td>\n",
       "      <td>201</td>\n",
       "      <td>3.40</td>\n",
       "      <td>0.05</td>\n",
       "    </tr>\n",
       "    <tr>\n",
       "      <th>2</th>\n",
       "      <td>500</td>\n",
       "      <td>5</td>\n",
       "      <td>201</td>\n",
       "      <td>16.28</td>\n",
       "      <td>0.23</td>\n",
       "    </tr>\n",
       "    <tr>\n",
       "      <th>3</th>\n",
       "      <td>1000</td>\n",
       "      <td>5</td>\n",
       "      <td>201</td>\n",
       "      <td>32.92</td>\n",
       "      <td>0.39</td>\n",
       "    </tr>\n",
       "    <tr>\n",
       "      <th>4</th>\n",
       "      <td>100</td>\n",
       "      <td>10</td>\n",
       "      <td>301</td>\n",
       "      <td>5.44</td>\n",
       "      <td>0.15</td>\n",
       "    </tr>\n",
       "    <tr>\n",
       "      <th>5</th>\n",
       "      <td>500</td>\n",
       "      <td>10</td>\n",
       "      <td>301</td>\n",
       "      <td>25.65</td>\n",
       "      <td>0.70</td>\n",
       "    </tr>\n",
       "    <tr>\n",
       "      <th>6</th>\n",
       "      <td>1000</td>\n",
       "      <td>10</td>\n",
       "      <td>301</td>\n",
       "      <td>52.34</td>\n",
       "      <td>1.44</td>\n",
       "    </tr>\n",
       "    <tr>\n",
       "      <th>7</th>\n",
       "      <td>50</td>\n",
       "      <td>10</td>\n",
       "      <td>301</td>\n",
       "      <td>2.81</td>\n",
       "      <td>0.08</td>\n",
       "    </tr>\n",
       "    <tr>\n",
       "      <th>8</th>\n",
       "      <td>50</td>\n",
       "      <td>20</td>\n",
       "      <td>501</td>\n",
       "      <td>5.30</td>\n",
       "      <td>0.46</td>\n",
       "    </tr>\n",
       "    <tr>\n",
       "      <th>9</th>\n",
       "      <td>50</td>\n",
       "      <td>30</td>\n",
       "      <td>701</td>\n",
       "      <td>9.08</td>\n",
       "      <td>2.21</td>\n",
       "    </tr>\n",
       "    <tr>\n",
       "      <th>10</th>\n",
       "      <td>50</td>\n",
       "      <td>40</td>\n",
       "      <td>901</td>\n",
       "      <td>15.59</td>\n",
       "      <td>5.10</td>\n",
       "    </tr>\n",
       "    <tr>\n",
       "      <th>11</th>\n",
       "      <td>50</td>\n",
       "      <td>53</td>\n",
       "      <td>1161</td>\n",
       "      <td>28.61</td>\n",
       "      <td>13.50</td>\n",
       "    </tr>\n",
       "    <tr>\n",
       "      <th>12</th>\n",
       "      <td>100</td>\n",
       "      <td>53</td>\n",
       "      <td>1161</td>\n",
       "      <td>54.55</td>\n",
       "      <td>18.90</td>\n",
       "    </tr>\n",
       "  </tbody>\n",
       "</table>\n",
       "</div>"
      ],
      "text/plain": [
       "       J   R     P     TR     TC\n",
       "0     50   5   201   1.92   0.02\n",
       "1    100   5   201   3.40   0.05\n",
       "2    500   5   201  16.28   0.23\n",
       "3   1000   5   201  32.92   0.39\n",
       "4    100  10   301   5.44   0.15\n",
       "5    500  10   301  25.65   0.70\n",
       "6   1000  10   301  52.34   1.44\n",
       "7     50  10   301   2.81   0.08\n",
       "8     50  20   501   5.30   0.46\n",
       "9     50  30   701   9.08   2.21\n",
       "10    50  40   901  15.59   5.10\n",
       "11    50  53  1161  28.61  13.50\n",
       "12   100  53  1161  54.55  18.90"
      ]
     },
     "execution_count": 71,
     "metadata": {},
     "output_type": "execute_result"
    },
    {
     "name": "stderr",
     "output_type": "stream",
     "text": [
      "put []\n"
     ]
    }
   ],
   "source": [
    "import pandas as pd\n",
    "lik = pd.read_csv(\"../../data/mash_benchmark_loglik.txt\")\n",
    "lik"
   ]
  },
  {
   "cell_type": "markdown",
   "metadata": {},
   "source": [
    "### Posterior"
   ]
  },
  {
   "cell_type": "code",
   "execution_count": 73,
   "metadata": {
    "kernel": "Python3"
   },
   "outputs": [
    {
     "data": {
      "text/html": [
       "<div>\n",
       "<style>\n",
       "    .dataframe thead tr:only-child th {\n",
       "        text-align: right;\n",
       "    }\n",
       "\n",
       "    .dataframe thead th {\n",
       "        text-align: left;\n",
       "    }\n",
       "\n",
       "    .dataframe tbody tr th {\n",
       "        vertical-align: top;\n",
       "    }\n",
       "</style>\n",
       "<table border=\"1\" class=\"dataframe\">\n",
       "  <thead>\n",
       "    <tr style=\"text-align: right;\">\n",
       "      <th></th>\n",
       "      <th>J</th>\n",
       "      <th>R</th>\n",
       "      <th>P</th>\n",
       "      <th>TR</th>\n",
       "      <th>TC</th>\n",
       "    </tr>\n",
       "  </thead>\n",
       "  <tbody>\n",
       "    <tr>\n",
       "      <th>0</th>\n",
       "      <td>50</td>\n",
       "      <td>5</td>\n",
       "      <td>201</td>\n",
       "      <td>1.72</td>\n",
       "      <td>0.05</td>\n",
       "    </tr>\n",
       "    <tr>\n",
       "      <th>1</th>\n",
       "      <td>100</td>\n",
       "      <td>5</td>\n",
       "      <td>201</td>\n",
       "      <td>3.49</td>\n",
       "      <td>0.10</td>\n",
       "    </tr>\n",
       "    <tr>\n",
       "      <th>2</th>\n",
       "      <td>500</td>\n",
       "      <td>5</td>\n",
       "      <td>201</td>\n",
       "      <td>14.72</td>\n",
       "      <td>0.41</td>\n",
       "    </tr>\n",
       "    <tr>\n",
       "      <th>3</th>\n",
       "      <td>1000</td>\n",
       "      <td>5</td>\n",
       "      <td>201</td>\n",
       "      <td>31.20</td>\n",
       "      <td>0.90</td>\n",
       "    </tr>\n",
       "    <tr>\n",
       "      <th>4</th>\n",
       "      <td>100</td>\n",
       "      <td>10</td>\n",
       "      <td>301</td>\n",
       "      <td>5.56</td>\n",
       "      <td>0.71</td>\n",
       "    </tr>\n",
       "    <tr>\n",
       "      <th>5</th>\n",
       "      <td>500</td>\n",
       "      <td>10</td>\n",
       "      <td>301</td>\n",
       "      <td>27.72</td>\n",
       "      <td>2.45</td>\n",
       "    </tr>\n",
       "    <tr>\n",
       "      <th>6</th>\n",
       "      <td>1000</td>\n",
       "      <td>10</td>\n",
       "      <td>301</td>\n",
       "      <td>57.83</td>\n",
       "      <td>5.16</td>\n",
       "    </tr>\n",
       "    <tr>\n",
       "      <th>7</th>\n",
       "      <td>50</td>\n",
       "      <td>10</td>\n",
       "      <td>301</td>\n",
       "      <td>3.11</td>\n",
       "      <td>0.27</td>\n",
       "    </tr>\n",
       "    <tr>\n",
       "      <th>8</th>\n",
       "      <td>50</td>\n",
       "      <td>20</td>\n",
       "      <td>501</td>\n",
       "      <td>8.68</td>\n",
       "      <td>2.59</td>\n",
       "    </tr>\n",
       "    <tr>\n",
       "      <th>9</th>\n",
       "      <td>50</td>\n",
       "      <td>30</td>\n",
       "      <td>701</td>\n",
       "      <td>24.14</td>\n",
       "      <td>10.53</td>\n",
       "    </tr>\n",
       "    <tr>\n",
       "      <th>10</th>\n",
       "      <td>50</td>\n",
       "      <td>40</td>\n",
       "      <td>901</td>\n",
       "      <td>57.69</td>\n",
       "      <td>34.68</td>\n",
       "    </tr>\n",
       "    <tr>\n",
       "      <th>11</th>\n",
       "      <td>50</td>\n",
       "      <td>53</td>\n",
       "      <td>1161</td>\n",
       "      <td>146.48</td>\n",
       "      <td>102.04</td>\n",
       "    </tr>\n",
       "    <tr>\n",
       "      <th>12</th>\n",
       "      <td>100</td>\n",
       "      <td>53</td>\n",
       "      <td>1161</td>\n",
       "      <td>286.90</td>\n",
       "      <td>194.22</td>\n",
       "    </tr>\n",
       "  </tbody>\n",
       "</table>\n",
       "</div>"
      ],
      "text/plain": [
       "       J   R     P      TR      TC\n",
       "0     50   5   201    1.72    0.05\n",
       "1    100   5   201    3.49    0.10\n",
       "2    500   5   201   14.72    0.41\n",
       "3   1000   5   201   31.20    0.90\n",
       "4    100  10   301    5.56    0.71\n",
       "5    500  10   301   27.72    2.45\n",
       "6   1000  10   301   57.83    5.16\n",
       "7     50  10   301    3.11    0.27\n",
       "8     50  20   501    8.68    2.59\n",
       "9     50  30   701   24.14   10.53\n",
       "10    50  40   901   57.69   34.68\n",
       "11    50  53  1161  146.48  102.04\n",
       "12   100  53  1161  286.90  194.22"
      ]
     },
     "execution_count": 73,
     "metadata": {},
     "output_type": "execute_result"
    },
    {
     "name": "stderr",
     "output_type": "stream",
     "text": [
      "put []\n"
     ]
    }
   ],
   "source": [
    "post = pd.read_csv(\"../../data/mash_benchmark_posterior.txt\")\n",
    "post"
   ]
  }
 ],
 "metadata": {
  "kernelspec": {
   "display_name": "R",
   "language": "R",
   "name": "ir"
  },
  "language_info": {
   "codemirror_mode": "r",
   "file_extension": ".r",
   "mimetype": "text/x-r-source",
   "name": "R",
   "pygments_lexer": "r",
   "version": "3.4.0"
  },
  "sos": {
   "default_kernel": "R",
   "kernels": [
    [
     "ir",
     "ir",
     "",
     ""
    ],
    [
     "Python3",
     "python3",
     "Python3",
     "#EAFAF1"
    ],
    [
     "R",
     "ir",
     "R",
     "#DCDCDA"
    ],
    [
     "SoS",
     "sos",
     "",
     ""
    ]
   ],
   "panel": {
    "displayed": true,
    "height": 0,
    "style": "side"
   }
  }
 },
 "nbformat": 4,
 "nbformat_minor": 2
}
