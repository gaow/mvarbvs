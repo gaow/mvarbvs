{
 "cells": [
  {
   "cell_type": "markdown",
   "metadata": {},
   "source": [
    "# Investigating MASH logBF computation under EE model\n",
    "\n",
    "This is a continuation of a [previous investigation](https://gaow.github.io/mvarbvs/analysis/20191204_Diagnosis.html)."
   ]
  },
  {
   "cell_type": "markdown",
   "metadata": {},
   "source": [
    "## Load package and previous results\n",
    "\n",
    "Previous result can be [downloaded here](https://github.com/gaow/mmbr/files/3935471/issue_9_EE_sumstats.tar.gz). `good_lbf` in this dataset saves `lbf` from `mmbr:::BayesianMultivariateRegression`."
   ]
  },
  {
   "cell_type": "code",
   "execution_count": 1,
   "metadata": {},
   "outputs": [
    {
     "name": "stderr",
     "output_type": "stream",
     "text": [
      "Loading mashr\n",
      "Loading required package: ashr\n"
     ]
    }
   ],
   "source": [
    "devtools::load_all('/home/gaow/GIT/software/mashr')"
   ]
  },
  {
   "cell_type": "code",
   "execution_count": 2,
   "metadata": {},
   "outputs": [],
   "source": [
    "setwd('/home/gaow/tmp/07-Dec-2019')\n",
    "dat = readRDS('issue_9_EE_sumstats.rds')"
   ]
  },
  {
   "cell_type": "markdown",
   "metadata": {},
   "source": [
    "## Set data"
   ]
  },
  {
   "cell_type": "code",
   "execution_count": 3,
   "metadata": {},
   "outputs": [],
   "source": [
    "mash_data = mash_set_data(dat$bhat, dat$sbhat, V=dat$V, alpha=0)"
   ]
  },
  {
   "cell_type": "code",
   "execution_count": 4,
   "metadata": {},
   "outputs": [
    {
     "data": {
      "text/html": [
       "<ol class=list-inline>\n",
       "\t<li>'Bhat'</li>\n",
       "\t<li>'Shat'</li>\n",
       "\t<li>'Shat_alpha'</li>\n",
       "\t<li>'V'</li>\n",
       "\t<li>'commonV'</li>\n",
       "\t<li>'alpha'</li>\n",
       "</ol>\n"
      ],
      "text/latex": [
       "\\begin{enumerate*}\n",
       "\\item 'Bhat'\n",
       "\\item 'Shat'\n",
       "\\item 'Shat\\_alpha'\n",
       "\\item 'V'\n",
       "\\item 'commonV'\n",
       "\\item 'alpha'\n",
       "\\end{enumerate*}\n"
      ],
      "text/markdown": [
       "1. 'Bhat'\n",
       "2. 'Shat'\n",
       "3. 'Shat_alpha'\n",
       "4. 'V'\n",
       "5. 'commonV'\n",
       "6. 'alpha'\n",
       "\n",
       "\n"
      ],
      "text/plain": [
       "[1] \"Bhat\"       \"Shat\"       \"Shat_alpha\" \"V\"          \"commonV\"   \n",
       "[6] \"alpha\"     "
      ]
     },
     "metadata": {},
     "output_type": "display_data"
    }
   ],
   "source": [
    "names(mash_data)"
   ]
  },
  {
   "cell_type": "markdown",
   "metadata": {},
   "source": [
    "## Compare loglik"
   ]
  },
  {
   "cell_type": "code",
   "execution_count": 5,
   "metadata": {},
   "outputs": [],
   "source": [
    "r1 = calc_relative_lik_matrix(mash_data,dat$xUlist, algorithm.version = 'Rcpp')"
   ]
  },
  {
   "cell_type": "code",
   "execution_count": 6,
   "metadata": {},
   "outputs": [],
   "source": [
    "r2= calc_relative_lik_matrix(mash_data,dat$xUlist, algorithm.version = 'R')"
   ]
  },
  {
   "cell_type": "code",
   "execution_count": 7,
   "metadata": {},
   "outputs": [
    {
     "data": {
      "text/html": [
       "<ol class=list-inline>\n",
       "\t<li>'loglik_matrix'</li>\n",
       "\t<li>'lfactors'</li>\n",
       "</ol>\n"
      ],
      "text/latex": [
       "\\begin{enumerate*}\n",
       "\\item 'loglik\\_matrix'\n",
       "\\item 'lfactors'\n",
       "\\end{enumerate*}\n"
      ],
      "text/markdown": [
       "1. 'loglik_matrix'\n",
       "2. 'lfactors'\n",
       "\n",
       "\n"
      ],
      "text/plain": [
       "[1] \"loglik_matrix\" \"lfactors\"     "
      ]
     },
     "metadata": {},
     "output_type": "display_data"
    }
   ],
   "source": [
    "names(r1)"
   ]
  },
  {
   "cell_type": "code",
   "execution_count": 8,
   "metadata": {},
   "outputs": [],
   "source": [
    "expect_equal(r1$lfactors, r2$lfactors)"
   ]
  },
  {
   "cell_type": "code",
   "execution_count": 9,
   "metadata": {},
   "outputs": [],
   "source": [
    "expect_equal(r1$loglik_matrix, r2$loglik_matrix)"
   ]
  },
  {
   "cell_type": "markdown",
   "metadata": {},
   "source": [
    "Loglik computations are okay."
   ]
  },
  {
   "cell_type": "markdown",
   "metadata": {},
   "source": [
    "## Compare posterior"
   ]
  },
  {
   "cell_type": "code",
   "execution_count": 10,
   "metadata": {},
   "outputs": [],
   "source": [
    "posterior_weights <- compute_posterior_weights(dat$pi_s,exp(r1$loglik_matrix))"
   ]
  },
  {
   "cell_type": "code",
   "execution_count": 11,
   "metadata": {},
   "outputs": [],
   "source": [
    "p1 <- compute_posterior_matrices(mash_data, dat$xUlist, posterior_weights, algorithm.version=\"Rcpp\")"
   ]
  },
  {
   "cell_type": "code",
   "execution_count": 12,
   "metadata": {},
   "outputs": [],
   "source": [
    "p2 <- compute_posterior_matrices(mash_data, dat$xUlist, posterior_weights, algorithm.version=\"R\")"
   ]
  },
  {
   "cell_type": "code",
   "execution_count": 13,
   "metadata": {},
   "outputs": [
    {
     "data": {
      "text/html": [
       "<ol class=list-inline>\n",
       "\t<li>'PosteriorMean'</li>\n",
       "\t<li>'PosteriorSD'</li>\n",
       "\t<li>'lfdr'</li>\n",
       "\t<li>'NegativeProb'</li>\n",
       "\t<li>'lfsr'</li>\n",
       "</ol>\n"
      ],
      "text/latex": [
       "\\begin{enumerate*}\n",
       "\\item 'PosteriorMean'\n",
       "\\item 'PosteriorSD'\n",
       "\\item 'lfdr'\n",
       "\\item 'NegativeProb'\n",
       "\\item 'lfsr'\n",
       "\\end{enumerate*}\n"
      ],
      "text/markdown": [
       "1. 'PosteriorMean'\n",
       "2. 'PosteriorSD'\n",
       "3. 'lfdr'\n",
       "4. 'NegativeProb'\n",
       "5. 'lfsr'\n",
       "\n",
       "\n"
      ],
      "text/plain": [
       "[1] \"PosteriorMean\" \"PosteriorSD\"   \"lfdr\"          \"NegativeProb\" \n",
       "[5] \"lfsr\"         "
      ]
     },
     "metadata": {},
     "output_type": "display_data"
    }
   ],
   "source": [
    "names(p1)"
   ]
  },
  {
   "cell_type": "code",
   "execution_count": 14,
   "metadata": {},
   "outputs": [],
   "source": [
    "expect_equal(p1$PosteriorMean, p2$PosteriorMean)"
   ]
  },
  {
   "cell_type": "code",
   "execution_count": 15,
   "metadata": {},
   "outputs": [],
   "source": [
    "expect_equal(p1$PosteriorSD, p2$PosteriorSD)"
   ]
  },
  {
   "cell_type": "code",
   "execution_count": 16,
   "metadata": {},
   "outputs": [],
   "source": [
    "expect_equal(p1$lfdr, p2$lfdr)"
   ]
  },
  {
   "cell_type": "code",
   "execution_count": 17,
   "metadata": {},
   "outputs": [],
   "source": [
    "expect_equal(p1$NegativeProb, p2$NegativeProb)"
   ]
  },
  {
   "cell_type": "code",
   "execution_count": 18,
   "metadata": {},
   "outputs": [],
   "source": [
    "expect_equal(p1$lfsr, p2$lfsr)"
   ]
  },
  {
   "cell_type": "markdown",
   "metadata": {},
   "source": [
    "Posterior calculations also are consistent between R and Rcpp versions."
   ]
  },
  {
   "cell_type": "markdown",
   "metadata": {},
   "source": [
    "## LBF calculations"
   ]
  },
  {
   "cell_type": "code",
   "execution_count": 19,
   "metadata": {},
   "outputs": [],
   "source": [
    "null_loglik = compute_null_loglik_from_matrix(r1,mash_data$Shat_alpha)\n",
    "alt_loglik = compute_alt_loglik_from_matrix_and_pi(dat$pi_s,r1,mash_data$Shat_alpha)"
   ]
  },
  {
   "cell_type": "code",
   "execution_count": 20,
   "metadata": {},
   "outputs": [],
   "source": [
    "lbf = alt_loglik-null_loglik"
   ]
  },
  {
   "cell_type": "code",
   "execution_count": 21,
   "metadata": {},
   "outputs": [
    {
     "data": {
      "image/png": "[encoded data removed]",
      "text/plain": [
       "plot without title"
      ]
     },
     "metadata": {},
     "output_type": "display_data"
    }
   ],
   "source": [
    "plot(dat$good_lbf, lbf, xlab=\"BayesianMultivariate lbf\", ylab = \"EE lbf\")"
   ]
  },
  {
   "cell_type": "code",
   "execution_count": 22,
   "metadata": {},
   "outputs": [
    {
     "data": {
      "image/png": "[encoded data removed]",
      "text/plain": [
       "plot without title"
      ]
     },
     "metadata": {},
     "output_type": "display_data"
    }
   ],
   "source": [
    "plot(dat$bad_lbf, lbf, xlab=\"EE lbf (mmbr)\", ylab = \"EE lbf (mashr)\")"
   ]
  },
  {
   "cell_type": "markdown",
   "metadata": {},
   "source": [
    "lbf indeed agrees with what `mmbr:::MashRegression` gives, not consistent with what `BayesianMultivariateRegression` says."
   ]
  },
  {
   "cell_type": "markdown",
   "metadata": {},
   "source": [
    "Let's see what the loglik matrix tells us about these zero BF's,"
   ]
  },
  {
   "cell_type": "code",
   "execution_count": 23,
   "metadata": {},
   "outputs": [
    {
     "data": {
      "text/html": [
       "<table>\n",
       "<caption>A matrix: 23 × 2 of type dbl[,2]</caption>\n",
       "<tbody>\n",
       "\t<tr><td>-1579.044</td><td>16.10435</td></tr>\n",
       "\t<tr><td>-1687.964</td><td>16.01919</td></tr>\n",
       "\t<tr><td>-1579.044</td><td>16.10435</td></tr>\n",
       "\t<tr><td>-1687.964</td><td>16.01919</td></tr>\n",
       "\t<tr><td>-1687.964</td><td>16.01919</td></tr>\n",
       "\t<tr><td>-1618.209</td><td>16.08220</td></tr>\n",
       "\t<tr><td>-1532.376</td><td>16.20638</td></tr>\n",
       "\t<tr><td>-1661.609</td><td>16.06732</td></tr>\n",
       "\t<tr><td>-1499.532</td><td>16.22189</td></tr>\n",
       "\t<tr><td>-1516.505</td><td>16.20907</td></tr>\n",
       "\t<tr><td>-1584.056</td><td>16.14898</td></tr>\n",
       "\t<tr><td>-1368.867</td><td>16.36046</td></tr>\n",
       "\t<tr><td>-1538.453</td><td>16.22730</td></tr>\n",
       "\t<tr><td>-1538.453</td><td>16.22730</td></tr>\n",
       "\t<tr><td>-1358.852</td><td>16.36753</td></tr>\n",
       "\t<tr><td>-1423.749</td><td>16.32169</td></tr>\n",
       "\t<tr><td>-1487.963</td><td>16.26542</td></tr>\n",
       "\t<tr><td>-1423.749</td><td>16.32169</td></tr>\n",
       "\t<tr><td>-1487.963</td><td>16.26542</td></tr>\n",
       "\t<tr><td>-1455.933</td><td>16.31311</td></tr>\n",
       "\t<tr><td>-1357.176</td><td>16.39357</td></tr>\n",
       "\t<tr><td>-1369.450</td><td>16.36913</td></tr>\n",
       "\t<tr><td>-1238.520</td><td>16.52030</td></tr>\n",
       "</tbody>\n",
       "</table>\n"
      ],
      "text/latex": [
       "A matrix: 23 × 2 of type dbl{[},2{]}\n",
       "\\begin{tabular}{ll}\n",
       "\t -1579.044 & 16.10435\\\\\n",
       "\t -1687.964 & 16.01919\\\\\n",
       "\t -1579.044 & 16.10435\\\\\n",
       "\t -1687.964 & 16.01919\\\\\n",
       "\t -1687.964 & 16.01919\\\\\n",
       "\t -1618.209 & 16.08220\\\\\n",
       "\t -1532.376 & 16.20638\\\\\n",
       "\t -1661.609 & 16.06732\\\\\n",
       "\t -1499.532 & 16.22189\\\\\n",
       "\t -1516.505 & 16.20907\\\\\n",
       "\t -1584.056 & 16.14898\\\\\n",
       "\t -1368.867 & 16.36046\\\\\n",
       "\t -1538.453 & 16.22730\\\\\n",
       "\t -1538.453 & 16.22730\\\\\n",
       "\t -1358.852 & 16.36753\\\\\n",
       "\t -1423.749 & 16.32169\\\\\n",
       "\t -1487.963 & 16.26542\\\\\n",
       "\t -1423.749 & 16.32169\\\\\n",
       "\t -1487.963 & 16.26542\\\\\n",
       "\t -1455.933 & 16.31311\\\\\n",
       "\t -1357.176 & 16.39357\\\\\n",
       "\t -1369.450 & 16.36913\\\\\n",
       "\t -1238.520 & 16.52030\\\\\n",
       "\\end{tabular}\n"
      ],
      "text/markdown": [
       "\n",
       "A matrix: 23 × 2 of type dbl[,2]\n",
       "\n",
       "| -1579.044 | 16.10435 |\n",
       "| -1687.964 | 16.01919 |\n",
       "| -1579.044 | 16.10435 |\n",
       "| -1687.964 | 16.01919 |\n",
       "| -1687.964 | 16.01919 |\n",
       "| -1618.209 | 16.08220 |\n",
       "| -1532.376 | 16.20638 |\n",
       "| -1661.609 | 16.06732 |\n",
       "| -1499.532 | 16.22189 |\n",
       "| -1516.505 | 16.20907 |\n",
       "| -1584.056 | 16.14898 |\n",
       "| -1368.867 | 16.36046 |\n",
       "| -1538.453 | 16.22730 |\n",
       "| -1538.453 | 16.22730 |\n",
       "| -1358.852 | 16.36753 |\n",
       "| -1423.749 | 16.32169 |\n",
       "| -1487.963 | 16.26542 |\n",
       "| -1423.749 | 16.32169 |\n",
       "| -1487.963 | 16.26542 |\n",
       "| -1455.933 | 16.31311 |\n",
       "| -1357.176 | 16.39357 |\n",
       "| -1369.450 | 16.36913 |\n",
       "| -1238.520 | 16.52030 |\n",
       "\n"
      ],
      "text/plain": [
       "      [,1]      [,2]    \n",
       " [1,] -1579.044 16.10435\n",
       " [2,] -1687.964 16.01919\n",
       " [3,] -1579.044 16.10435\n",
       " [4,] -1687.964 16.01919\n",
       " [5,] -1687.964 16.01919\n",
       " [6,] -1618.209 16.08220\n",
       " [7,] -1532.376 16.20638\n",
       " [8,] -1661.609 16.06732\n",
       " [9,] -1499.532 16.22189\n",
       "[10,] -1516.505 16.20907\n",
       "[11,] -1584.056 16.14898\n",
       "[12,] -1368.867 16.36046\n",
       "[13,] -1538.453 16.22730\n",
       "[14,] -1538.453 16.22730\n",
       "[15,] -1358.852 16.36753\n",
       "[16,] -1423.749 16.32169\n",
       "[17,] -1487.963 16.26542\n",
       "[18,] -1423.749 16.32169\n",
       "[19,] -1487.963 16.26542\n",
       "[20,] -1455.933 16.31311\n",
       "[21,] -1357.176 16.39357\n",
       "[22,] -1369.450 16.36913\n",
       "[23,] -1238.520 16.52030"
      ]
     },
     "metadata": {},
     "output_type": "display_data"
    }
   ],
   "source": [
    "(r1$loglik_matrix + r1$lfactors)[which(lbf>1000),]"
   ]
  },
  {
   "cell_type": "code",
   "execution_count": 24,
   "metadata": {},
   "outputs": [
    {
     "data": {
      "text/html": [
       "<table>\n",
       "<caption>A matrix: 6 × 2 of type dbl[,2]</caption>\n",
       "<tbody>\n",
       "\t<tr><td>48.75543</td><td>17.76282</td></tr>\n",
       "\t<tr><td>31.86381</td><td>17.76036</td></tr>\n",
       "\t<tr><td>28.63014</td><td>17.67223</td></tr>\n",
       "\t<tr><td>37.62594</td><td>17.69075</td></tr>\n",
       "\t<tr><td>44.40809</td><td>17.70641</td></tr>\n",
       "\t<tr><td>52.48401</td><td>17.75334</td></tr>\n",
       "</tbody>\n",
       "</table>\n"
      ],
      "text/latex": [
       "A matrix: 6 × 2 of type dbl{[},2{]}\n",
       "\\begin{tabular}{ll}\n",
       "\t 48.75543 & 17.76282\\\\\n",
       "\t 31.86381 & 17.76036\\\\\n",
       "\t 28.63014 & 17.67223\\\\\n",
       "\t 37.62594 & 17.69075\\\\\n",
       "\t 44.40809 & 17.70641\\\\\n",
       "\t 52.48401 & 17.75334\\\\\n",
       "\\end{tabular}\n"
      ],
      "text/markdown": [
       "\n",
       "A matrix: 6 × 2 of type dbl[,2]\n",
       "\n",
       "| 48.75543 | 17.76282 |\n",
       "| 31.86381 | 17.76036 |\n",
       "| 28.63014 | 17.67223 |\n",
       "| 37.62594 | 17.69075 |\n",
       "| 44.40809 | 17.70641 |\n",
       "| 52.48401 | 17.75334 |\n",
       "\n"
      ],
      "text/plain": [
       "     [,1]     [,2]    \n",
       "[1,] 48.75543 17.76282\n",
       "[2,] 31.86381 17.76036\n",
       "[3,] 28.63014 17.67223\n",
       "[4,] 37.62594 17.69075\n",
       "[5,] 44.40809 17.70641\n",
       "[6,] 52.48401 17.75334"
      ]
     },
     "metadata": {},
     "output_type": "display_data"
    }
   ],
   "source": [
    "head((r1$loglik_matrix + r1$lfactors)[which(abs(lbf)<50),])"
   ]
  },
  {
   "cell_type": "markdown",
   "metadata": {},
   "source": [
    "It seems the loglik for null was wrong from the beginning. The reason `mmbr:::BayesianMultivariateRegression` does not have the issue is [because it avoids numerical issues](https://github.com/gaow/mmbr/blob/44a310e3894f516629ddeb3f877c938f4fbc5733/R/bayesian_multivariate_regression.R#L88) when it tries to compute lbf, instead of using `dmvnorm()`."
   ]
  },
  {
   "cell_type": "markdown",
   "metadata": {},
   "source": [
    "And indeed, if I [uncomment this line](https://github.com/gaow/mmbr/blob/44a310e3894f516629ddeb3f877c938f4fbc5733/R/bayesian_multivariate_regression.R#L90) using `dmvnorm()` to compute lbf, then the result agrees with `mmbr:::MashRegression` and also wrong [for the example on this page](https://gaow.github.io/mvarbvs/analysis/20191204_Diagnosis.html)."
   ]
  },
  {
   "cell_type": "markdown",
   "metadata": {},
   "source": [
    "## To reproduce the \"good\" lbf with summary stats"
   ]
  },
  {
   "cell_type": "code",
   "execution_count": 25,
   "metadata": {},
   "outputs": [],
   "source": [
    "U = dat$xUlist[[2]]\n",
    "S = lapply(1:nrow(dat$sbhat), function(j) diag(dat$sbhat[j,]) %*% dat$V %*% diag(dat$sbhat[j,]))"
   ]
  },
  {
   "cell_type": "code",
   "execution_count": 30,
   "metadata": {},
   "outputs": [],
   "source": [
    "S_inv = lapply(1:length(S), function(j) solve(S[[j]]))\n",
    "post_cov = lapply(1:length(S), function(j) U %*% solve(diag(nrow(U)) + S_inv[[j]] %*% U))\n",
    "good_lbf = sapply(1:length(S), function(j) 0.5 * (log(det(S[[j]])) - log(det(S[[j]]+U))) + 0.5*t(dat$bhat[j,])%*%S_inv[[j]]%*%post_cov[[j]]%*%S_inv[[j]]%*%dat$bhat[j,])\n",
    "good_lbf[which(is.infinite(good_lbf))] = 0"
   ]
  },
  {
   "cell_type": "code",
   "execution_count": 31,
   "metadata": {},
   "outputs": [
    {
     "data": {
      "image/png": "[encoded data removed]",
      "text/plain": [
       "plot without title"
      ]
     },
     "metadata": {},
     "output_type": "display_data"
    }
   ],
   "source": [
    "plot(dat$good_lbf, good_lbf)"
   ]
  },
  {
   "cell_type": "markdown",
   "metadata": {},
   "source": [
    "## Conclusion\n",
    "\n",
    "We need to solve the loglik calculation issue in `mash`, because without fixing that, the posterior weights will be wrong and that will undermine MASH model. I'll try to come up with a minimal example vignette to post on `mashr` github."
   ]
  },
  {
   "cell_type": "markdown",
   "metadata": {},
   "source": [
    "## Update\n",
    "\n",
    "Yuxin pointed to me, after she looked at the data, that if I dont set `infinity` to zero but work instead at log scale I will be getting the same result as in EE model. Therefore I changed the mmbr code from:\n",
    "\n",
    "```\n",
    "good_lbf = log(sapply(1:length(S), function(j) sqrt(det(S[[j]])/det(S[[j]]+U))*exp(0.5*t(dat$bhat[j,])%*%S_inv[[j]]%*%post_cov[[j]]%*%S_inv[[j]]%*%dat$bhat[j,])))\n",
    "```\n",
    "\n",
    "to \n",
    "\n",
    "\n",
    "```\n",
    "good_lbf = sapply(1:length(S), function(j) 0.5 * (log(det(S[[j]])) - log(det(S[[j]]+U))) + 0.5*t(dat$bhat[j,])%*%S_inv[[j]]%*%post_cov[[j]]%*%S_inv[[j]]%*%dat$bhat[j,])\n",
    "```\n",
    "\n",
    "But after the change, those `infinite` false signals which were once removed now comes back and contribute to bad lbf, leading to false positives in the results."
   ]
  }
 ],
 "metadata": {
  "kernelspec": {
   "display_name": "R",
   "language": "R",
   "name": "ir"
  },
  "language_info": {
   "codemirror_mode": "r",
   "file_extension": ".r",
   "mimetype": "text/x-r-source",
   "name": "R",
   "pygments_lexer": "r",
   "version": "3.5.3"
  }
 },
 "nbformat": 4,
 "nbformat_minor": 4
}
