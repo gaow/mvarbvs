{
 "cells": [
  {
   "cell_type": "markdown",
   "metadata": {},
   "source": [
    "# Investigating MASH logBF computation under EE model\n",
    "\n",
    "This is a continuation of a [previous investigation](https://gaow.github.io/mvarbvs/analysis/20191204_Diagnosis.html)."
   ]
  },
  {
   "cell_type": "markdown",
   "metadata": {},
   "source": [
    "## Load package and previous results\n",
    "\n",
    "Previous result can be [downloaded here](https://github.com/gaow/mmbr/files/3935317/issue_9_EE_sumstats.tar.gz). `good_lbf` in this dataset saves `lbf` from `mmbr:::BayesianMultivariateRegression`."
   ]
  },
  {
   "cell_type": "code",
   "execution_count": 1,
   "metadata": {},
   "outputs": [
    {
     "name": "stderr",
     "output_type": "stream",
     "text": [
      "Loading mashr\n",
      "Loading required package: ashr\n"
     ]
    }
   ],
   "source": [
    "devtools::load_all('/home/gaow/GIT/software/mashr')"
   ]
  },
  {
   "cell_type": "code",
   "execution_count": 2,
   "metadata": {},
   "outputs": [],
   "source": [
    "setwd('/home/gaow/tmp/07-Dec-2019')\n",
    "dat = readRDS('issue_9_EE_sumstats.rds')"
   ]
  },
  {
   "cell_type": "markdown",
   "metadata": {},
   "source": [
    "## Set data"
   ]
  },
  {
   "cell_type": "code",
   "execution_count": 3,
   "metadata": {},
   "outputs": [],
   "source": [
    "mash_data = mash_set_data(dat$bhat, dat$sbhat, V=dat$V, alpha=0)"
   ]
  },
  {
   "cell_type": "code",
   "execution_count": 4,
   "metadata": {},
   "outputs": [
    {
     "data": {
      "text/html": [
       "<ol class=list-inline>\n",
       "\t<li>'Bhat'</li>\n",
       "\t<li>'Shat'</li>\n",
       "\t<li>'Shat_alpha'</li>\n",
       "\t<li>'V'</li>\n",
       "\t<li>'commonV'</li>\n",
       "\t<li>'alpha'</li>\n",
       "</ol>\n"
      ],
      "text/latex": [
       "\\begin{enumerate*}\n",
       "\\item 'Bhat'\n",
       "\\item 'Shat'\n",
       "\\item 'Shat\\_alpha'\n",
       "\\item 'V'\n",
       "\\item 'commonV'\n",
       "\\item 'alpha'\n",
       "\\end{enumerate*}\n"
      ],
      "text/markdown": [
       "1. 'Bhat'\n",
       "2. 'Shat'\n",
       "3. 'Shat_alpha'\n",
       "4. 'V'\n",
       "5. 'commonV'\n",
       "6. 'alpha'\n",
       "\n",
       "\n"
      ],
      "text/plain": [
       "[1] \"Bhat\"       \"Shat\"       \"Shat_alpha\" \"V\"          \"commonV\"   \n",
       "[6] \"alpha\"     "
      ]
     },
     "metadata": {},
     "output_type": "display_data"
    }
   ],
   "source": [
    "names(mash_data)"
   ]
  },
  {
   "cell_type": "markdown",
   "metadata": {},
   "source": [
    "## Compare loglik"
   ]
  },
  {
   "cell_type": "code",
   "execution_count": 5,
   "metadata": {},
   "outputs": [],
   "source": [
    "r1 = calc_relative_lik_matrix(mash_data,dat$xUlist, algorithm.version = 'Rcpp')"
   ]
  },
  {
   "cell_type": "code",
   "execution_count": 6,
   "metadata": {},
   "outputs": [],
   "source": [
    "r2= calc_relative_lik_matrix(mash_data,dat$xUlist, algorithm.version = 'R')"
   ]
  },
  {
   "cell_type": "code",
   "execution_count": 7,
   "metadata": {},
   "outputs": [
    {
     "data": {
      "text/html": [
       "<ol class=list-inline>\n",
       "\t<li>'loglik_matrix'</li>\n",
       "\t<li>'lfactors'</li>\n",
       "</ol>\n"
      ],
      "text/latex": [
       "\\begin{enumerate*}\n",
       "\\item 'loglik\\_matrix'\n",
       "\\item 'lfactors'\n",
       "\\end{enumerate*}\n"
      ],
      "text/markdown": [
       "1. 'loglik_matrix'\n",
       "2. 'lfactors'\n",
       "\n",
       "\n"
      ],
      "text/plain": [
       "[1] \"loglik_matrix\" \"lfactors\"     "
      ]
     },
     "metadata": {},
     "output_type": "display_data"
    }
   ],
   "source": [
    "names(r1)"
   ]
  },
  {
   "cell_type": "code",
   "execution_count": 8,
   "metadata": {},
   "outputs": [],
   "source": [
    "expect_equal(r1$lfactors, r2$lfactors)"
   ]
  },
  {
   "cell_type": "code",
   "execution_count": 9,
   "metadata": {},
   "outputs": [],
   "source": [
    "expect_equal(r1$loglik_matrix, r2$loglik_matrix)"
   ]
  },
  {
   "cell_type": "markdown",
   "metadata": {},
   "source": [
    "Loglik computations are okay."
   ]
  },
  {
   "cell_type": "markdown",
   "metadata": {},
   "source": [
    "## Compare posterior"
   ]
  },
  {
   "cell_type": "code",
   "execution_count": 10,
   "metadata": {},
   "outputs": [],
   "source": [
    "posterior_weights <- compute_posterior_weights(dat$pi_s,exp(r1$loglik_matrix))"
   ]
  },
  {
   "cell_type": "code",
   "execution_count": 11,
   "metadata": {},
   "outputs": [],
   "source": [
    "p1 <- compute_posterior_matrices(mash_data, dat$xUlist, posterior_weights, algorithm.version=\"Rcpp\")"
   ]
  },
  {
   "cell_type": "code",
   "execution_count": 12,
   "metadata": {},
   "outputs": [],
   "source": [
    "p2 <- compute_posterior_matrices(mash_data, dat$xUlist, posterior_weights, algorithm.version=\"R\")"
   ]
  },
  {
   "cell_type": "code",
   "execution_count": 13,
   "metadata": {},
   "outputs": [
    {
     "data": {
      "text/html": [
       "<ol class=list-inline>\n",
       "\t<li>'PosteriorMean'</li>\n",
       "\t<li>'PosteriorSD'</li>\n",
       "\t<li>'lfdr'</li>\n",
       "\t<li>'NegativeProb'</li>\n",
       "\t<li>'lfsr'</li>\n",
       "</ol>\n"
      ],
      "text/latex": [
       "\\begin{enumerate*}\n",
       "\\item 'PosteriorMean'\n",
       "\\item 'PosteriorSD'\n",
       "\\item 'lfdr'\n",
       "\\item 'NegativeProb'\n",
       "\\item 'lfsr'\n",
       "\\end{enumerate*}\n"
      ],
      "text/markdown": [
       "1. 'PosteriorMean'\n",
       "2. 'PosteriorSD'\n",
       "3. 'lfdr'\n",
       "4. 'NegativeProb'\n",
       "5. 'lfsr'\n",
       "\n",
       "\n"
      ],
      "text/plain": [
       "[1] \"PosteriorMean\" \"PosteriorSD\"   \"lfdr\"          \"NegativeProb\" \n",
       "[5] \"lfsr\"         "
      ]
     },
     "metadata": {},
     "output_type": "display_data"
    }
   ],
   "source": [
    "names(p1)"
   ]
  },
  {
   "cell_type": "code",
   "execution_count": 14,
   "metadata": {},
   "outputs": [],
   "source": [
    "expect_equal(p1$PosteriorMean, p2$PosteriorMean)"
   ]
  },
  {
   "cell_type": "code",
   "execution_count": 15,
   "metadata": {},
   "outputs": [],
   "source": [
    "expect_equal(p1$PosteriorSD, p2$PosteriorSD)"
   ]
  },
  {
   "cell_type": "code",
   "execution_count": 16,
   "metadata": {},
   "outputs": [],
   "source": [
    "expect_equal(p1$lfdr, p2$lfdr)"
   ]
  },
  {
   "cell_type": "code",
   "execution_count": 17,
   "metadata": {},
   "outputs": [],
   "source": [
    "expect_equal(p1$NegativeProb, p2$NegativeProb)"
   ]
  },
  {
   "cell_type": "code",
   "execution_count": 18,
   "metadata": {},
   "outputs": [],
   "source": [
    "expect_equal(p1$lfsr, p2$lfsr)"
   ]
  },
  {
   "cell_type": "markdown",
   "metadata": {},
   "source": [
    "Posterior calculations also are consistent between R and Rcpp versions."
   ]
  },
  {
   "cell_type": "markdown",
   "metadata": {},
   "source": [
    "## LBF calculations"
   ]
  },
  {
   "cell_type": "code",
   "execution_count": 19,
   "metadata": {},
   "outputs": [],
   "source": [
    "null_loglik = compute_null_loglik_from_matrix(r1,mash_data$Shat_alpha)\n",
    "alt_loglik = compute_alt_loglik_from_matrix_and_pi(dat$pi_s,r1,mash_data$Shat_alpha)"
   ]
  },
  {
   "cell_type": "code",
   "execution_count": 20,
   "metadata": {},
   "outputs": [],
   "source": [
    "lbf = alt_loglik-null_loglik"
   ]
  },
  {
   "cell_type": "code",
   "execution_count": 21,
   "metadata": {},
   "outputs": [
    {
     "data": {
      "image/png": "[encoded data removed]",
      "text/plain": [
       "plot without title"
      ]
     },
     "metadata": {},
     "output_type": "display_data"
    }
   ],
   "source": [
    "plot(dat$good_lbf, lbf, xlab=\"BayesianMultivariate lbf\", ylab = \"EE lbf\")"
   ]
  },
  {
   "cell_type": "code",
   "execution_count": 22,
   "metadata": {},
   "outputs": [
    {
     "data": {
      "image/png": "[encoded data removed]",
      "text/plain": [
       "plot without title"
      ]
     },
     "metadata": {},
     "output_type": "display_data"
    }
   ],
   "source": [
    "plot(dat$bad_lbf, lbf, xlab=\"EE lbf (mmbr)\", ylab = \"EE lbf (mashr)\")"
   ]
  },
  {
   "cell_type": "markdown",
   "metadata": {},
   "source": [
    "lbf indeed agrees with what `mmbr:::MashRegression` gives, not consistent with what `BayesianMultivariateRegression` says."
   ]
  }
 ],
 "metadata": {
  "kernelspec": {
   "display_name": "R",
   "language": "R",
   "name": "ir"
  },
  "language_info": {
   "codemirror_mode": "r",
   "file_extension": ".r",
   "mimetype": "text/x-r-source",
   "name": "R",
   "pygments_lexer": "r",
   "version": "3.5.3"
  }
 },
 "nbformat": 4,
 "nbformat_minor": 4
}
