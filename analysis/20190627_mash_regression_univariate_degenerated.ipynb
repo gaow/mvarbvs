{
 "cells": [
  {
   "cell_type": "markdown",
   "metadata": {},
   "source": [
    "# Running \"degenerated\" MASH computation "
   ]
  },
  {
   "cell_type": "markdown",
   "metadata": {},
   "source": [
    "The goal is to verify implementation of mash computation is correct, by comparing it to univariate case when $Y$ has one column and prior covariance matrices is fixed. It should later become part of a unit test."
   ]
  },
  {
   "cell_type": "markdown",
   "metadata": {},
   "source": [
    "## Simulate data"
   ]
  },
  {
   "cell_type": "code",
   "execution_count": 1,
   "metadata": {},
   "outputs": [
    {
     "name": "stderr",
     "output_type": "stream",
     "text": [
      "Loading required package: mashr\n",
      "Loading required package: ashr\n"
     ]
    }
   ],
   "source": [
    "set.seed(1)\n",
    "n = 1000\n",
    "p = 1000\n",
    "beta = rep(0,p)\n",
    "beta[1:4] = 1\n",
    "X = matrix(rnorm(n*p),nrow=n,ncol=p)\n",
    "y = X %*% beta + rnorm(n)\n",
    "#' res =susie(X,y,L=10)\n",
    "library(mmbr)"
   ]
  },
  {
   "cell_type": "markdown",
   "metadata": {},
   "source": [
    "## Run univariate computation"
   ]
  },
  {
   "cell_type": "code",
   "execution_count": 2,
   "metadata": {},
   "outputs": [],
   "source": [
    "prior_var = 0.2 * as.numeric(var(y))\n",
    "residual_var = as.numeric(var(y))\n",
    "data = mmbr:::DenseData$new(X,y)"
   ]
  },
  {
   "cell_type": "code",
   "execution_count": 3,
   "metadata": {},
   "outputs": [
    {
     "data": {
      "text/html": [
       "5.74816803778574"
      ],
      "text/latex": [
       "5.74816803778574"
      ],
      "text/markdown": [
       "5.74816803778574"
      ],
      "text/plain": [
       "[1] 5.748168"
      ]
     },
     "metadata": {},
     "output_type": "display_data"
    }
   ],
   "source": [
    "residual_var"
   ]
  },
  {
   "cell_type": "code",
   "execution_count": 4,
   "metadata": {},
   "outputs": [
    {
     "data": {
      "text/html": [
       "1.14963360755715"
      ],
      "text/latex": [
       "1.14963360755715"
      ],
      "text/markdown": [
       "1.14963360755715"
      ],
      "text/plain": [
       "[1] 1.149634"
      ]
     },
     "metadata": {},
     "output_type": "display_data"
    }
   ],
   "source": [
    "prior_var"
   ]
  },
  {
   "cell_type": "code",
   "execution_count": 5,
   "metadata": {},
   "outputs": [
    {
     "data": {
      "text/html": [],
      "text/latex": [],
      "text/markdown": [],
      "text/plain": [
       "logical(0)"
      ]
     },
     "metadata": {},
     "output_type": "display_data"
    }
   ],
   "source": [
    "m1 = mmbr:::BayesianMultipleRegression$new(ncol(X), residual_var, prior_var)\n",
    "m1$fit(data, save_summary_stats = T)"
   ]
  },
  {
   "cell_type": "code",
   "execution_count": 6,
   "metadata": {},
   "outputs": [
    {
     "data": {
      "text/html": [
       "<table>\n",
       "<tbody>\n",
       "\t<tr><td> 1.17582479</td></tr>\n",
       "\t<tr><td> 1.10571117</td></tr>\n",
       "\t<tr><td> 1.11985691</td></tr>\n",
       "\t<tr><td> 1.07629210</td></tr>\n",
       "\t<tr><td>-0.12724319</td></tr>\n",
       "\t<tr><td>-0.07497652</td></tr>\n",
       "</tbody>\n",
       "</table>\n"
      ],
      "text/latex": [
       "\\begin{tabular}{l}\n",
       "\t  1.17582479\\\\\n",
       "\t  1.10571117\\\\\n",
       "\t  1.11985691\\\\\n",
       "\t  1.07629210\\\\\n",
       "\t -0.12724319\\\\\n",
       "\t -0.07497652\\\\\n",
       "\\end{tabular}\n"
      ],
      "text/markdown": [
       "\n",
       "|  1.17582479 | \n",
       "|  1.10571117 | \n",
       "|  1.11985691 | \n",
       "|  1.07629210 | \n",
       "| -0.12724319 | \n",
       "| -0.07497652 | \n",
       "\n",
       "\n"
      ],
      "text/plain": [
       "     [,1]       \n",
       "[1,]  1.17582479\n",
       "[2,]  1.10571117\n",
       "[3,]  1.11985691\n",
       "[4,]  1.07629210\n",
       "[5,] -0.12724319\n",
       "[6,] -0.07497652"
      ]
     },
     "metadata": {},
     "output_type": "display_data"
    }
   ],
   "source": [
    "head(m1$posterior_b1)"
   ]
  },
  {
   "cell_type": "code",
   "execution_count": 7,
   "metadata": {},
   "outputs": [
    {
     "data": {
      "text/plain": [
       "<BayesianMultipleRegression>\n",
       "  Public:\n",
       "    bhat: active binding\n",
       "    clone: function (deep = FALSE) \n",
       "    compute_loglik_null: function (d) \n",
       "    fit: function (d, prior_weights = NULL, use_residual = FALSE, save_summary_stats = FALSE) \n",
       "    initialize: function (J, residual_variance, prior_variance, estimate_prior_variance = FALSE) \n",
       "    lbf: active binding\n",
       "    loglik_null: active binding\n",
       "    posterior_b1: active binding\n",
       "    posterior_b2: active binding\n",
       "    prior_variance: active binding\n",
       "    residual_variance: active binding\n",
       "    sbhat: active binding\n",
       "  Private:\n",
       "    .bhat: 1.18170980260002 1.11124526041777 1.12546180389929 1.081 ...\n",
       "    .lbf: 118.091157635422 104.120913660333 106.870332723677 98.51 ...\n",
       "    .loglik_null: NULL\n",
       "    .posterior_b1: 1.17582479362293 1.10571117047545 1.11985691443764 1.076 ...\n",
       "    .posterior_b2: 1.38828921226831 1.2283224594841 1.25980477578369 1.1641 ...\n",
       "    .prior_variance: 1.14963360755715\n",
       "    .residual_variance: 5.74816803778574\n",
       "    .sbhat: 0.0758546106689995 0.0758546106689995 0.0758546106689995 ...\n",
       "    denied: function (v) \n",
       "    estimate_prior_variance: FALSE\n",
       "    J: 1000"
      ]
     },
     "metadata": {},
     "output_type": "display_data"
    }
   ],
   "source": [
    "m1"
   ]
  },
  {
   "cell_type": "markdown",
   "metadata": {},
   "source": [
    "## Run multivariate computation"
   ]
  },
  {
   "cell_type": "code",
   "execution_count": 8,
   "metadata": {},
   "outputs": [],
   "source": [
    "# Assuming 1 out of $J$ are causal, we place a null weight $1-1/J$ a priori.\n",
    "# This will lead to some shrinkage\n",
    "# null_weight = 1 - 1 / ncol(X)\n",
    "null_weight = 0\n",
    "prior_covar = mmbr:::MashInitializer$new(list(0.2 * cov(y)), 1, 1 - null_weight, null_weight)\n",
    "residual_covar = cov(y)"
   ]
  },
  {
   "cell_type": "code",
   "execution_count": 9,
   "metadata": {},
   "outputs": [
    {
     "data": {
      "text/html": [
       "<dl>\n",
       "\t<dt>$pi</dt>\n",
       "\t\t<dd><ol class=list-inline>\n",
       "\t<li>0</li>\n",
       "\t<li>1</li>\n",
       "</ol>\n",
       "</dd>\n",
       "\t<dt>$xUlist</dt>\n",
       "\t\t<dd><dl class=dl-horizontal>\n",
       "\t<dt>null</dt>\n",
       "\t\t<dd>0</dd>\n",
       "\t<dt>.1</dt>\n",
       "\t\t<dd>1.14963360755715</dd>\n",
       "</dl>\n",
       "</dd>\n",
       "</dl>\n"
      ],
      "text/latex": [
       "\\begin{description}\n",
       "\\item[\\$pi] \\begin{enumerate*}\n",
       "\\item 0\n",
       "\\item 1\n",
       "\\end{enumerate*}\n",
       "\n",
       "\\item[\\$xUlist] \\begin{description*}\n",
       "\\item[null] 0\n",
       "\\item[.1] 1.14963360755715\n",
       "\\end{description*}\n",
       "\n",
       "\\end{description}\n"
      ],
      "text/markdown": [
       "$pi\n",
       ":   1. 0\n",
       "2. 1\n",
       "\n",
       "\n",
       "\n",
       "$xUlist\n",
       ":   null\n",
       ":   0.1\n",
       ":   1.14963360755715\n",
       "\n",
       "\n",
       "\n",
       "\n"
      ],
      "text/plain": [
       "$pi\n",
       "[1] 0 1\n",
       "\n",
       "$xUlist\n",
       "    null       .1 \n",
       "0.000000 1.149634 \n"
      ]
     },
     "metadata": {},
     "output_type": "display_data"
    }
   ],
   "source": [
    "prior_covar$prior_covariance"
   ]
  },
  {
   "cell_type": "code",
   "execution_count": 10,
   "metadata": {},
   "outputs": [
    {
     "data": {
      "text/html": [
       "<table>\n",
       "<tbody>\n",
       "\t<tr><td>5.748168</td></tr>\n",
       "</tbody>\n",
       "</table>\n"
      ],
      "text/latex": [
       "\\begin{tabular}{l}\n",
       "\t 5.748168\\\\\n",
       "\\end{tabular}\n"
      ],
      "text/markdown": [
       "\n",
       "| 5.748168 | \n",
       "\n",
       "\n"
      ],
      "text/plain": [
       "     [,1]    \n",
       "[1,] 5.748168"
      ]
     },
     "metadata": {},
     "output_type": "display_data"
    }
   ],
   "source": [
    "residual_covar"
   ]
  },
  {
   "cell_type": "code",
   "execution_count": 11,
   "metadata": {},
   "outputs": [],
   "source": [
    "m2 = mmbr:::MashMultipleRegression$new(ncol(X), residual_covar, prior_covar)"
   ]
  },
  {
   "cell_type": "code",
   "execution_count": 12,
   "metadata": {},
   "outputs": [],
   "source": [
    "m2$fit(data, save_summary_stats = T)"
   ]
  },
  {
   "cell_type": "code",
   "execution_count": 13,
   "metadata": {},
   "outputs": [
    {
     "data": {
      "text/html": [
       "<table>\n",
       "<tbody>\n",
       "\t<tr><td> 1.17582479</td></tr>\n",
       "\t<tr><td> 1.10571117</td></tr>\n",
       "\t<tr><td> 1.11985691</td></tr>\n",
       "\t<tr><td> 1.07629210</td></tr>\n",
       "\t<tr><td>-0.12724319</td></tr>\n",
       "\t<tr><td>-0.07497652</td></tr>\n",
       "</tbody>\n",
       "</table>\n"
      ],
      "text/latex": [
       "\\begin{tabular}{l}\n",
       "\t  1.17582479\\\\\n",
       "\t  1.10571117\\\\\n",
       "\t  1.11985691\\\\\n",
       "\t  1.07629210\\\\\n",
       "\t -0.12724319\\\\\n",
       "\t -0.07497652\\\\\n",
       "\\end{tabular}\n"
      ],
      "text/markdown": [
       "\n",
       "|  1.17582479 | \n",
       "|  1.10571117 | \n",
       "|  1.11985691 | \n",
       "|  1.07629210 | \n",
       "| -0.12724319 | \n",
       "| -0.07497652 | \n",
       "\n",
       "\n"
      ],
      "text/plain": [
       "     [,1]       \n",
       "[1,]  1.17582479\n",
       "[2,]  1.10571117\n",
       "[3,]  1.11985691\n",
       "[4,]  1.07629210\n",
       "[5,] -0.12724319\n",
       "[6,] -0.07497652"
      ]
     },
     "metadata": {},
     "output_type": "display_data"
    }
   ],
   "source": [
    "head(m2$posterior_b1)"
   ]
  },
  {
   "cell_type": "code",
   "execution_count": 14,
   "metadata": {},
   "outputs": [
    {
     "data": {
      "text/plain": [
       "<MashMultipleRegression>\n",
       "  Inherits from: <BayesianMultipleRegression>\n",
       "  Public:\n",
       "    bhat: active binding\n",
       "    clone: function (deep = FALSE) \n",
       "    compute_loglik_null: function (d) \n",
       "    fit: function (d, prior_weights = NULL, use_residual = FALSE, save_summary_stats = FALSE) \n",
       "    initialize: function (J, residual_variance, mash_initializer, estimate_prior_variance = FALSE) \n",
       "    lbf: active binding\n",
       "    loglik_null: active binding\n",
       "    posterior_b1: active binding\n",
       "    posterior_b2: active binding\n",
       "    prior_variance: active binding\n",
       "    residual_variance: active binding\n",
       "    sbhat: active binding\n",
       "  Private:\n",
       "    .bhat: 1.18170980260002 1.11124526041777 1.12546180389929 1.081 ...\n",
       "    .lbf: 118.091157635422 104.120913660333 106.870332723677 98.51 ...\n",
       "    .loglik_null: -119.686629951695 -105.64646483559 -108.409644755107 -10 ...\n",
       "    .posterior_b1: 1.17582479362293 1.10571117047545 1.11985691443764 1.076 ...\n",
       "    .posterior_b2: 1.38828921226831 1.2283224594841 1.25980477578369 1.1641 ...\n",
       "    .prior_variance: list\n",
       "    .residual_variance: 5.74816803778574\n",
       "    .sbhat: 0.0758546106689995 0.0758546106689995 0.0758546106689995 ...\n",
       "    alpha: 0\n",
       "    denied: function (v) \n",
       "    estimate_prior_variance: FALSE\n",
       "    J: 1000\n",
       "    null_correlation: 1"
      ]
     },
     "metadata": {},
     "output_type": "display_data"
    }
   ],
   "source": [
    "m2"
   ]
  },
  {
   "cell_type": "markdown",
   "metadata": {},
   "source": [
    "All quantities seem to agree now."
   ]
  },
  {
   "cell_type": "markdown",
   "metadata": {},
   "source": [
    "## Run ASH to confirm\n",
    "\n",
    "ASH works well."
   ]
  },
  {
   "cell_type": "code",
   "execution_count": 15,
   "metadata": {},
   "outputs": [],
   "source": [
    "library(ashr)"
   ]
  },
  {
   "cell_type": "code",
   "execution_count": 16,
   "metadata": {},
   "outputs": [
    {
     "data": {
      "text/html": [
       "<ol class=list-inline>\n",
       "\t<li>1.17684065287554</li>\n",
       "\t<li>1.10666645474002</li>\n",
       "\t<li>1.12082441998294</li>\n",
       "\t<li>1.07722197094866</li>\n",
       "\t<li>-0.000161974838268914</li>\n",
       "\t<li>-3.79185875100204e-05</li>\n",
       "</ol>\n"
      ],
      "text/latex": [
       "\\begin{enumerate*}\n",
       "\\item 1.17684065287554\n",
       "\\item 1.10666645474002\n",
       "\\item 1.12082441998294\n",
       "\\item 1.07722197094866\n",
       "\\item -0.000161974838268914\n",
       "\\item -3.79185875100204e-05\n",
       "\\end{enumerate*}\n"
      ],
      "text/markdown": [
       "1. 1.17684065287554\n",
       "2. 1.10666645474002\n",
       "3. 1.12082441998294\n",
       "4. 1.07722197094866\n",
       "5. -0.000161974838268914\n",
       "6. -3.79185875100204e-05\n",
       "\n",
       "\n"
      ],
      "text/plain": [
       "[1]  1.176841e+00  1.106666e+00  1.120824e+00  1.077222e+00 -1.619748e-04\n",
       "[6] -3.791859e-05"
      ]
     },
     "metadata": {},
     "output_type": "display_data"
    }
   ],
   "source": [
    "a.out = ash(as.vector(m1$bhat), as.vector(m1$sbhat), mixcompdist = 'normal')\n",
    "head(get_pm(a.out))"
   ]
  },
  {
   "cell_type": "markdown",
   "metadata": {},
   "source": [
    "## Run with fixed prior directly from MASH"
   ]
  },
  {
   "cell_type": "code",
   "execution_count": 17,
   "metadata": {},
   "outputs": [
    {
     "data": {
      "text/html": [
       "<dl>\n",
       "\t<dt>$pi</dt>\n",
       "\t\t<dd><ol class=list-inline>\n",
       "\t<li>0</li>\n",
       "\t<li>1</li>\n",
       "</ol>\n",
       "</dd>\n",
       "\t<dt>$Ulist</dt>\n",
       "\t\t<dd><ol>\n",
       "\t<li><table>\n",
       "<tbody>\n",
       "\t<tr><td>1.149634</td></tr>\n",
       "</tbody>\n",
       "</table>\n",
       "</li>\n",
       "</ol>\n",
       "</dd>\n",
       "\t<dt>$grid</dt>\n",
       "\t\t<dd>1</dd>\n",
       "\t<dt>$usepointmass</dt>\n",
       "\t\t<dd>TRUE</dd>\n",
       "</dl>\n"
      ],
      "text/latex": [
       "\\begin{description}\n",
       "\\item[\\$pi] \\begin{enumerate*}\n",
       "\\item 0\n",
       "\\item 1\n",
       "\\end{enumerate*}\n",
       "\n",
       "\\item[\\$Ulist] \\begin{enumerate}\n",
       "\\item \\begin{tabular}{l}\n",
       "\t 1.149634\\\\\n",
       "\\end{tabular}\n",
       "\n",
       "\\end{enumerate}\n",
       "\n",
       "\\item[\\$grid] 1\n",
       "\\item[\\$usepointmass] TRUE\n",
       "\\end{description}\n"
      ],
      "text/markdown": [
       "$pi\n",
       ":   1. 0\n",
       "2. 1\n",
       "\n",
       "\n",
       "\n",
       "$Ulist\n",
       ":   1. \n",
       "| 1.149634 | \n",
       "\n",
       "\n",
       "\n",
       "\n",
       "\n",
       "\n",
       "$grid\n",
       ":   1\n",
       "$usepointmass\n",
       ":   TRUE\n",
       "\n",
       "\n"
      ],
      "text/plain": [
       "$pi\n",
       "[1] 0 1\n",
       "\n",
       "$Ulist\n",
       "$Ulist[[1]]\n",
       "         [,1]\n",
       "[1,] 1.149634\n",
       "\n",
       "\n",
       "$grid\n",
       "[1] 1\n",
       "\n",
       "$usepointmass\n",
       "[1] TRUE\n"
      ]
     },
     "metadata": {},
     "output_type": "display_data"
    }
   ],
   "source": [
    "prior_covar$mash_prior"
   ]
  },
  {
   "cell_type": "code",
   "execution_count": 18,
   "metadata": {},
   "outputs": [],
   "source": [
    "library(mashr)"
   ]
  },
  {
   "cell_type": "code",
   "execution_count": 19,
   "metadata": {},
   "outputs": [
    {
     "name": "stdout",
     "output_type": "stream",
     "text": [
      " - Computing 1000 x 2 likelihood matrix.\n",
      " - Likelihood calculations took 0.00 seconds.\n",
      " - Computing posterior matrices.\n",
      " - Computation allocated took 0.00 seconds.\n"
     ]
    }
   ],
   "source": [
    "data = mash_set_data(m2$bhat, m2$sbhat)\n",
    "m.c = mash(data, g = prior_covar$mash_prior, fixg = TRUE, algorithm ='Rcpp')"
   ]
  },
  {
   "cell_type": "code",
   "execution_count": 20,
   "metadata": {},
   "outputs": [
    {
     "data": {
      "text/html": [
       "<dl>\n",
       "\t<dt>$pi</dt>\n",
       "\t\t<dd><ol class=list-inline>\n",
       "\t<li>0</li>\n",
       "\t<li>1</li>\n",
       "</ol>\n",
       "</dd>\n",
       "\t<dt>$Ulist</dt>\n",
       "\t\t<dd><ol>\n",
       "\t<li><table>\n",
       "<tbody>\n",
       "\t<tr><td>1.149634</td></tr>\n",
       "</tbody>\n",
       "</table>\n",
       "</li>\n",
       "</ol>\n",
       "</dd>\n",
       "\t<dt>$grid</dt>\n",
       "\t\t<dd>1</dd>\n",
       "\t<dt>$usepointmass</dt>\n",
       "\t\t<dd>TRUE</dd>\n",
       "</dl>\n"
      ],
      "text/latex": [
       "\\begin{description}\n",
       "\\item[\\$pi] \\begin{enumerate*}\n",
       "\\item 0\n",
       "\\item 1\n",
       "\\end{enumerate*}\n",
       "\n",
       "\\item[\\$Ulist] \\begin{enumerate}\n",
       "\\item \\begin{tabular}{l}\n",
       "\t 1.149634\\\\\n",
       "\\end{tabular}\n",
       "\n",
       "\\end{enumerate}\n",
       "\n",
       "\\item[\\$grid] 1\n",
       "\\item[\\$usepointmass] TRUE\n",
       "\\end{description}\n"
      ],
      "text/markdown": [
       "$pi\n",
       ":   1. 0\n",
       "2. 1\n",
       "\n",
       "\n",
       "\n",
       "$Ulist\n",
       ":   1. \n",
       "| 1.149634 | \n",
       "\n",
       "\n",
       "\n",
       "\n",
       "\n",
       "\n",
       "$grid\n",
       ":   1\n",
       "$usepointmass\n",
       ":   TRUE\n",
       "\n",
       "\n"
      ],
      "text/plain": [
       "$pi\n",
       "[1] 0 1\n",
       "\n",
       "$Ulist\n",
       "$Ulist[[1]]\n",
       "         [,1]\n",
       "[1,] 1.149634\n",
       "\n",
       "\n",
       "$grid\n",
       "[1] 1\n",
       "\n",
       "$usepointmass\n",
       "[1] TRUE\n"
      ]
     },
     "metadata": {},
     "output_type": "display_data"
    }
   ],
   "source": [
    "m.c$fitted_g"
   ]
  },
  {
   "cell_type": "code",
   "execution_count": 21,
   "metadata": {},
   "outputs": [
    {
     "data": {
      "text/html": [
       "<table>\n",
       "<tbody>\n",
       "\t<tr><td> 1.17582479</td></tr>\n",
       "\t<tr><td> 1.10571117</td></tr>\n",
       "\t<tr><td> 1.11985691</td></tr>\n",
       "\t<tr><td> 1.07629210</td></tr>\n",
       "\t<tr><td>-0.12724319</td></tr>\n",
       "\t<tr><td>-0.07497652</td></tr>\n",
       "</tbody>\n",
       "</table>\n"
      ],
      "text/latex": [
       "\\begin{tabular}{l}\n",
       "\t  1.17582479\\\\\n",
       "\t  1.10571117\\\\\n",
       "\t  1.11985691\\\\\n",
       "\t  1.07629210\\\\\n",
       "\t -0.12724319\\\\\n",
       "\t -0.07497652\\\\\n",
       "\\end{tabular}\n"
      ],
      "text/markdown": [
       "\n",
       "|  1.17582479 | \n",
       "|  1.10571117 | \n",
       "|  1.11985691 | \n",
       "|  1.07629210 | \n",
       "| -0.12724319 | \n",
       "| -0.07497652 | \n",
       "\n",
       "\n"
      ],
      "text/plain": [
       "     [,1]       \n",
       "[1,]  1.17582479\n",
       "[2,]  1.10571117\n",
       "[3,]  1.11985691\n",
       "[4,]  1.07629210\n",
       "[5,] -0.12724319\n",
       "[6,] -0.07497652"
      ]
     },
     "metadata": {},
     "output_type": "display_data"
    }
   ],
   "source": [
    "head(get_pm(m.c))"
   ]
  },
  {
   "cell_type": "markdown",
   "metadata": {},
   "source": [
    "## Run from MASH with canonical priors but weights learned from data \n",
    "\n",
    "Very similiar results to what I got with fixed `g` earlier."
   ]
  },
  {
   "cell_type": "code",
   "execution_count": 22,
   "metadata": {},
   "outputs": [
    {
     "name": "stdout",
     "output_type": "stream",
     "text": [
      "[1] \"identity\"      \"singletons_1\"  \"equal_effects\" \"simple_het_1\" \n",
      "[5] \"simple_het_2\"  \"simple_het_3\" \n"
     ]
    }
   ],
   "source": [
    "U.c = cov_canonical(data)\n",
    "print(names(U.c))"
   ]
  },
  {
   "cell_type": "code",
   "execution_count": 23,
   "metadata": {},
   "outputs": [
    {
     "name": "stdout",
     "output_type": "stream",
     "text": [
      " - Computing 1000 x 109 likelihood matrix.\n",
      " - Likelihood calculations took 0.01 seconds.\n",
      " - Fitting model with 109 mixture components.\n",
      " - Model fitting took 0.05 seconds.\n",
      " - Computing posterior matrices.\n",
      " - Computation allocated took 0.00 seconds.\n"
     ]
    }
   ],
   "source": [
    "m.c = mash(data, U.c, , algorithm ='Rcpp')"
   ]
  },
  {
   "cell_type": "code",
   "execution_count": 24,
   "metadata": {},
   "outputs": [
    {
     "data": {
      "text/html": [
       "<table>\n",
       "<tbody>\n",
       "\t<tr><td> 1.176841e+00</td></tr>\n",
       "\t<tr><td> 1.106666e+00</td></tr>\n",
       "\t<tr><td> 1.120824e+00</td></tr>\n",
       "\t<tr><td> 1.077222e+00</td></tr>\n",
       "\t<tr><td>-1.619748e-04</td></tr>\n",
       "\t<tr><td>-3.791859e-05</td></tr>\n",
       "</tbody>\n",
       "</table>\n"
      ],
      "text/latex": [
       "\\begin{tabular}{l}\n",
       "\t  1.176841e+00\\\\\n",
       "\t  1.106666e+00\\\\\n",
       "\t  1.120824e+00\\\\\n",
       "\t  1.077222e+00\\\\\n",
       "\t -1.619748e-04\\\\\n",
       "\t -3.791859e-05\\\\\n",
       "\\end{tabular}\n"
      ],
      "text/markdown": [
       "\n",
       "|  1.176841e+00 | \n",
       "|  1.106666e+00 | \n",
       "|  1.120824e+00 | \n",
       "|  1.077222e+00 | \n",
       "| -1.619748e-04 | \n",
       "| -3.791859e-05 | \n",
       "\n",
       "\n"
      ],
      "text/plain": [
       "     [,1]         \n",
       "[1,]  1.176841e+00\n",
       "[2,]  1.106666e+00\n",
       "[3,]  1.120824e+00\n",
       "[4,]  1.077222e+00\n",
       "[5,] -1.619748e-04\n",
       "[6,] -3.791859e-05"
      ]
     },
     "metadata": {},
     "output_type": "display_data"
    }
   ],
   "source": [
    "head(get_pm(m.c))"
   ]
  },
  {
   "cell_type": "code",
   "execution_count": 25,
   "metadata": {},
   "outputs": [
    {
     "data": {
      "text/html": [
       "<dl>\n",
       "\t<dt>$pi</dt>\n",
       "\t\t<dd><ol class=list-inline>\n",
       "\t<li>0.99520467977449</li>\n",
       "\t<li>2.7389587628246e-11</li>\n",
       "\t<li>0</li>\n",
       "\t<li>0</li>\n",
       "\t<li>0</li>\n",
       "\t<li>0</li>\n",
       "\t<li>0</li>\n",
       "\t<li>2.71563553934281e-11</li>\n",
       "\t<li>0</li>\n",
       "\t<li>0</li>\n",
       "\t<li>0</li>\n",
       "\t<li>0</li>\n",
       "\t<li>0</li>\n",
       "\t<li>2.66948377287612e-11</li>\n",
       "\t<li>0</li>\n",
       "\t<li>0</li>\n",
       "\t<li>0</li>\n",
       "\t<li>0</li>\n",
       "\t<li>0</li>\n",
       "\t<li>2.58145690803517e-11</li>\n",
       "\t<li>0</li>\n",
       "\t<li>0</li>\n",
       "\t<li>0</li>\n",
       "\t<li>0</li>\n",
       "\t<li>0</li>\n",
       "\t<li>0</li>\n",
       "\t<li>0</li>\n",
       "\t<li>0</li>\n",
       "\t<li>0</li>\n",
       "\t<li>0</li>\n",
       "\t<li>2.42603805508193e-11</li>\n",
       "\t<li>2.1369940801083e-11</li>\n",
       "\t<li>0</li>\n",
       "\t<li>0</li>\n",
       "\t<li>0</li>\n",
       "\t<li>0</li>\n",
       "\t<li>0</li>\n",
       "\t<li>1.42445248341408e-11</li>\n",
       "\t<li>0</li>\n",
       "\t<li>0</li>\n",
       "\t<li>0</li>\n",
       "\t<li>0</li>\n",
       "\t<li>0</li>\n",
       "\t<li>8.22749221036699e-12</li>\n",
       "\t<li>0</li>\n",
       "\t<li>0</li>\n",
       "\t<li>0</li>\n",
       "\t<li>0</li>\n",
       "\t<li>0</li>\n",
       "\t<li>3.76373532644415e-12</li>\n",
       "\t<li>0</li>\n",
       "\t<li>0</li>\n",
       "\t<li>0</li>\n",
       "\t<li>0</li>\n",
       "\t<li>0</li>\n",
       "\t<li>1.63141884923607e-12</li>\n",
       "\t<li>0</li>\n",
       "\t<li>0</li>\n",
       "\t<li>0</li>\n",
       "\t<li>0</li>\n",
       "\t<li>0</li>\n",
       "\t<li>7.97855858281711e-13</li>\n",
       "\t<li>0</li>\n",
       "\t<li>0</li>\n",
       "\t<li>0</li>\n",
       "\t<li>0</li>\n",
       "\t<li>0</li>\n",
       "\t<li>4.8838643762021e-13</li>\n",
       "\t<li>0</li>\n",
       "\t<li>0</li>\n",
       "\t<li>0</li>\n",
       "\t<li>0</li>\n",
       "\t<li>0</li>\n",
       "\t<li>4.35985543561916e-13</li>\n",
       "\t<li>0</li>\n",
       "\t<li>0</li>\n",
       "\t<li>0</li>\n",
       "\t<li>0</li>\n",
       "\t<li>0</li>\n",
       "\t<li>0</li>\n",
       "\t<li>0</li>\n",
       "\t<li>0</li>\n",
       "\t<li>0</li>\n",
       "\t<li>0</li>\n",
       "\t<li>8.51024338089694e-13</li>\n",
       "\t<li>2.64118465942285e-12</li>\n",
       "\t<li>0</li>\n",
       "\t<li>0</li>\n",
       "\t<li>0</li>\n",
       "\t<li>0</li>\n",
       "\t<li>0</li>\n",
       "\t<li>0</li>\n",
       "\t<li>0.00479532003781182</li>\n",
       "\t<li>0</li>\n",
       "\t<li>0</li>\n",
       "\t<li>0</li>\n",
       "\t<li>0</li>\n",
       "\t<li>1.35089132409955e-12</li>\n",
       "\t<li>0</li>\n",
       "\t<li>0</li>\n",
       "\t<li>0</li>\n",
       "\t<li>0</li>\n",
       "\t<li>0</li>\n",
       "\t<li>0</li>\n",
       "\t<li>5.79901839115864e-13</li>\n",
       "\t<li>0</li>\n",
       "\t<li>0</li>\n",
       "\t<li>0</li>\n",
       "\t<li>0</li>\n",
       "</ol>\n",
       "</dd>\n",
       "\t<dt>$Ulist</dt>\n",
       "\t\t<dd><dl>\n",
       "\t<dt>$identity</dt>\n",
       "\t\t<dd><table>\n",
       "<tbody>\n",
       "\t<tr><td>1</td></tr>\n",
       "</tbody>\n",
       "</table>\n",
       "</dd>\n",
       "\t<dt>$singletons_1</dt>\n",
       "\t\t<dd><table>\n",
       "<tbody>\n",
       "\t<tr><td>1</td></tr>\n",
       "</tbody>\n",
       "</table>\n",
       "</dd>\n",
       "\t<dt>$equal_effects</dt>\n",
       "\t\t<dd><table>\n",
       "<tbody>\n",
       "\t<tr><td>1</td></tr>\n",
       "</tbody>\n",
       "</table>\n",
       "</dd>\n",
       "\t<dt>$simple_het_1</dt>\n",
       "\t\t<dd><table>\n",
       "<tbody>\n",
       "\t<tr><td>1</td></tr>\n",
       "</tbody>\n",
       "</table>\n",
       "</dd>\n",
       "\t<dt>$simple_het_2</dt>\n",
       "\t\t<dd><table>\n",
       "<tbody>\n",
       "\t<tr><td>1</td></tr>\n",
       "</tbody>\n",
       "</table>\n",
       "</dd>\n",
       "\t<dt>$simple_het_3</dt>\n",
       "\t\t<dd><table>\n",
       "<tbody>\n",
       "\t<tr><td>1</td></tr>\n",
       "</tbody>\n",
       "</table>\n",
       "</dd>\n",
       "</dl>\n",
       "</dd>\n",
       "\t<dt>$grid</dt>\n",
       "\t\t<dd><ol class=list-inline>\n",
       "\t<li>0.00651462291736128</li>\n",
       "\t<li>0.0092130680834789</li>\n",
       "\t<li>0.0130292458347226</li>\n",
       "\t<li>0.0184261361669578</li>\n",
       "\t<li>0.0260584916694451</li>\n",
       "\t<li>0.0368522723339156</li>\n",
       "\t<li>0.0521169833388902</li>\n",
       "\t<li>0.0737045446678312</li>\n",
       "\t<li>0.10423396667778</li>\n",
       "\t<li>0.147409089335662</li>\n",
       "\t<li>0.208467933355561</li>\n",
       "\t<li>0.294818178671325</li>\n",
       "\t<li>0.416935866711122</li>\n",
       "\t<li>0.58963635734265</li>\n",
       "\t<li>0.833871733422244</li>\n",
       "\t<li>1.1792727146853</li>\n",
       "\t<li>1.66774346684449</li>\n",
       "\t<li>2.3585454293706</li>\n",
       "</ol>\n",
       "</dd>\n",
       "\t<dt>$usepointmass</dt>\n",
       "\t\t<dd>TRUE</dd>\n",
       "</dl>\n"
      ],
      "text/latex": [
       "\\begin{description}\n",
       "\\item[\\$pi] \\begin{enumerate*}\n",
       "\\item 0.99520467977449\n",
       "\\item 2.7389587628246e-11\n",
       "\\item 0\n",
       "\\item 0\n",
       "\\item 0\n",
       "\\item 0\n",
       "\\item 0\n",
       "\\item 2.71563553934281e-11\n",
       "\\item 0\n",
       "\\item 0\n",
       "\\item 0\n",
       "\\item 0\n",
       "\\item 0\n",
       "\\item 2.66948377287612e-11\n",
       "\\item 0\n",
       "\\item 0\n",
       "\\item 0\n",
       "\\item 0\n",
       "\\item 0\n",
       "\\item 2.58145690803517e-11\n",
       "\\item 0\n",
       "\\item 0\n",
       "\\item 0\n",
       "\\item 0\n",
       "\\item 0\n",
       "\\item 0\n",
       "\\item 0\n",
       "\\item 0\n",
       "\\item 0\n",
       "\\item 0\n",
       "\\item 2.42603805508193e-11\n",
       "\\item 2.1369940801083e-11\n",
       "\\item 0\n",
       "\\item 0\n",
       "\\item 0\n",
       "\\item 0\n",
       "\\item 0\n",
       "\\item 1.42445248341408e-11\n",
       "\\item 0\n",
       "\\item 0\n",
       "\\item 0\n",
       "\\item 0\n",
       "\\item 0\n",
       "\\item 8.22749221036699e-12\n",
       "\\item 0\n",
       "\\item 0\n",
       "\\item 0\n",
       "\\item 0\n",
       "\\item 0\n",
       "\\item 3.76373532644415e-12\n",
       "\\item 0\n",
       "\\item 0\n",
       "\\item 0\n",
       "\\item 0\n",
       "\\item 0\n",
       "\\item 1.63141884923607e-12\n",
       "\\item 0\n",
       "\\item 0\n",
       "\\item 0\n",
       "\\item 0\n",
       "\\item 0\n",
       "\\item 7.97855858281711e-13\n",
       "\\item 0\n",
       "\\item 0\n",
       "\\item 0\n",
       "\\item 0\n",
       "\\item 0\n",
       "\\item 4.8838643762021e-13\n",
       "\\item 0\n",
       "\\item 0\n",
       "\\item 0\n",
       "\\item 0\n",
       "\\item 0\n",
       "\\item 4.35985543561916e-13\n",
       "\\item 0\n",
       "\\item 0\n",
       "\\item 0\n",
       "\\item 0\n",
       "\\item 0\n",
       "\\item 0\n",
       "\\item 0\n",
       "\\item 0\n",
       "\\item 0\n",
       "\\item 0\n",
       "\\item 8.51024338089694e-13\n",
       "\\item 2.64118465942285e-12\n",
       "\\item 0\n",
       "\\item 0\n",
       "\\item 0\n",
       "\\item 0\n",
       "\\item 0\n",
       "\\item 0\n",
       "\\item 0.00479532003781182\n",
       "\\item 0\n",
       "\\item 0\n",
       "\\item 0\n",
       "\\item 0\n",
       "\\item 1.35089132409955e-12\n",
       "\\item 0\n",
       "\\item 0\n",
       "\\item 0\n",
       "\\item 0\n",
       "\\item 0\n",
       "\\item 0\n",
       "\\item 5.79901839115864e-13\n",
       "\\item 0\n",
       "\\item 0\n",
       "\\item 0\n",
       "\\item 0\n",
       "\\end{enumerate*}\n",
       "\n",
       "\\item[\\$Ulist] \\begin{description}\n",
       "\\item[\\$identity] \\begin{tabular}{l}\n",
       "\t 1\\\\\n",
       "\\end{tabular}\n",
       "\n",
       "\\item[\\$singletons\\_1] \\begin{tabular}{l}\n",
       "\t 1\\\\\n",
       "\\end{tabular}\n",
       "\n",
       "\\item[\\$equal\\_effects] \\begin{tabular}{l}\n",
       "\t 1\\\\\n",
       "\\end{tabular}\n",
       "\n",
       "\\item[\\$simple\\_het\\_1] \\begin{tabular}{l}\n",
       "\t 1\\\\\n",
       "\\end{tabular}\n",
       "\n",
       "\\item[\\$simple\\_het\\_2] \\begin{tabular}{l}\n",
       "\t 1\\\\\n",
       "\\end{tabular}\n",
       "\n",
       "\\item[\\$simple\\_het\\_3] \\begin{tabular}{l}\n",
       "\t 1\\\\\n",
       "\\end{tabular}\n",
       "\n",
       "\\end{description}\n",
       "\n",
       "\\item[\\$grid] \\begin{enumerate*}\n",
       "\\item 0.00651462291736128\n",
       "\\item 0.0092130680834789\n",
       "\\item 0.0130292458347226\n",
       "\\item 0.0184261361669578\n",
       "\\item 0.0260584916694451\n",
       "\\item 0.0368522723339156\n",
       "\\item 0.0521169833388902\n",
       "\\item 0.0737045446678312\n",
       "\\item 0.10423396667778\n",
       "\\item 0.147409089335662\n",
       "\\item 0.208467933355561\n",
       "\\item 0.294818178671325\n",
       "\\item 0.416935866711122\n",
       "\\item 0.58963635734265\n",
       "\\item 0.833871733422244\n",
       "\\item 1.1792727146853\n",
       "\\item 1.66774346684449\n",
       "\\item 2.3585454293706\n",
       "\\end{enumerate*}\n",
       "\n",
       "\\item[\\$usepointmass] TRUE\n",
       "\\end{description}\n"
      ],
      "text/markdown": [
       "$pi\n",
       ":   1. 0.99520467977449\n",
       "2. 2.7389587628246e-11\n",
       "3. 0\n",
       "4. 0\n",
       "5. 0\n",
       "6. 0\n",
       "7. 0\n",
       "8. 2.71563553934281e-11\n",
       "9. 0\n",
       "10. 0\n",
       "11. 0\n",
       "12. 0\n",
       "13. 0\n",
       "14. 2.66948377287612e-11\n",
       "15. 0\n",
       "16. 0\n",
       "17. 0\n",
       "18. 0\n",
       "19. 0\n",
       "20. 2.58145690803517e-11\n",
       "21. 0\n",
       "22. 0\n",
       "23. 0\n",
       "24. 0\n",
       "25. 0\n",
       "26. 0\n",
       "27. 0\n",
       "28. 0\n",
       "29. 0\n",
       "30. 0\n",
       "31. 2.42603805508193e-11\n",
       "32. 2.1369940801083e-11\n",
       "33. 0\n",
       "34. 0\n",
       "35. 0\n",
       "36. 0\n",
       "37. 0\n",
       "38. 1.42445248341408e-11\n",
       "39. 0\n",
       "40. 0\n",
       "41. 0\n",
       "42. 0\n",
       "43. 0\n",
       "44. 8.22749221036699e-12\n",
       "45. 0\n",
       "46. 0\n",
       "47. 0\n",
       "48. 0\n",
       "49. 0\n",
       "50. 3.76373532644415e-12\n",
       "51. 0\n",
       "52. 0\n",
       "53. 0\n",
       "54. 0\n",
       "55. 0\n",
       "56. 1.63141884923607e-12\n",
       "57. 0\n",
       "58. 0\n",
       "59. 0\n",
       "60. 0\n",
       "61. 0\n",
       "62. 7.97855858281711e-13\n",
       "63. 0\n",
       "64. 0\n",
       "65. 0\n",
       "66. 0\n",
       "67. 0\n",
       "68. 4.8838643762021e-13\n",
       "69. 0\n",
       "70. 0\n",
       "71. 0\n",
       "72. 0\n",
       "73. 0\n",
       "74. 4.35985543561916e-13\n",
       "75. 0\n",
       "76. 0\n",
       "77. 0\n",
       "78. 0\n",
       "79. 0\n",
       "80. 0\n",
       "81. 0\n",
       "82. 0\n",
       "83. 0\n",
       "84. 0\n",
       "85. 8.51024338089694e-13\n",
       "86. 2.64118465942285e-12\n",
       "87. 0\n",
       "88. 0\n",
       "89. 0\n",
       "90. 0\n",
       "91. 0\n",
       "92. 0\n",
       "93. 0.00479532003781182\n",
       "94. 0\n",
       "95. 0\n",
       "96. 0\n",
       "97. 0\n",
       "98. 1.35089132409955e-12\n",
       "99. 0\n",
       "100. 0\n",
       "101. 0\n",
       "102. 0\n",
       "103. 0\n",
       "104. 0\n",
       "105. 5.79901839115864e-13\n",
       "106. 0\n",
       "107. 0\n",
       "108. 0\n",
       "109. 0\n",
       "\n",
       "\n",
       "\n",
       "$Ulist\n",
       ":   $identity\n",
       ":   \n",
       "| 1 | \n",
       "\n",
       "\n",
       "\n",
       "$singletons_1\n",
       ":   \n",
       "| 1 | \n",
       "\n",
       "\n",
       "\n",
       "$equal_effects\n",
       ":   \n",
       "| 1 | \n",
       "\n",
       "\n",
       "\n",
       "$simple_het_1\n",
       ":   \n",
       "| 1 | \n",
       "\n",
       "\n",
       "\n",
       "$simple_het_2\n",
       ":   \n",
       "| 1 | \n",
       "\n",
       "\n",
       "\n",
       "$simple_het_3\n",
       ":   \n",
       "| 1 | \n",
       "\n",
       "\n",
       "\n",
       "\n",
       "\n",
       "\n",
       "$grid\n",
       ":   1. 0.00651462291736128\n",
       "2. 0.0092130680834789\n",
       "3. 0.0130292458347226\n",
       "4. 0.0184261361669578\n",
       "5. 0.0260584916694451\n",
       "6. 0.0368522723339156\n",
       "7. 0.0521169833388902\n",
       "8. 0.0737045446678312\n",
       "9. 0.10423396667778\n",
       "10. 0.147409089335662\n",
       "11. 0.208467933355561\n",
       "12. 0.294818178671325\n",
       "13. 0.416935866711122\n",
       "14. 0.58963635734265\n",
       "15. 0.833871733422244\n",
       "16. 1.1792727146853\n",
       "17. 1.66774346684449\n",
       "18. 2.3585454293706\n",
       "\n",
       "\n",
       "\n",
       "$usepointmass\n",
       ":   TRUE\n",
       "\n",
       "\n"
      ],
      "text/plain": [
       "$pi\n",
       "  [1] 9.952047e-01 2.738959e-11 0.000000e+00 0.000000e+00 0.000000e+00\n",
       "  [6] 0.000000e+00 0.000000e+00 2.715636e-11 0.000000e+00 0.000000e+00\n",
       " [11] 0.000000e+00 0.000000e+00 0.000000e+00 2.669484e-11 0.000000e+00\n",
       " [16] 0.000000e+00 0.000000e+00 0.000000e+00 0.000000e+00 2.581457e-11\n",
       " [21] 0.000000e+00 0.000000e+00 0.000000e+00 0.000000e+00 0.000000e+00\n",
       " [26] 0.000000e+00 0.000000e+00 0.000000e+00 0.000000e+00 0.000000e+00\n",
       " [31] 2.426038e-11 2.136994e-11 0.000000e+00 0.000000e+00 0.000000e+00\n",
       " [36] 0.000000e+00 0.000000e+00 1.424452e-11 0.000000e+00 0.000000e+00\n",
       " [41] 0.000000e+00 0.000000e+00 0.000000e+00 8.227492e-12 0.000000e+00\n",
       " [46] 0.000000e+00 0.000000e+00 0.000000e+00 0.000000e+00 3.763735e-12\n",
       " [51] 0.000000e+00 0.000000e+00 0.000000e+00 0.000000e+00 0.000000e+00\n",
       " [56] 1.631419e-12 0.000000e+00 0.000000e+00 0.000000e+00 0.000000e+00\n",
       " [61] 0.000000e+00 7.978559e-13 0.000000e+00 0.000000e+00 0.000000e+00\n",
       " [66] 0.000000e+00 0.000000e+00 4.883864e-13 0.000000e+00 0.000000e+00\n",
       " [71] 0.000000e+00 0.000000e+00 0.000000e+00 4.359855e-13 0.000000e+00\n",
       " [76] 0.000000e+00 0.000000e+00 0.000000e+00 0.000000e+00 0.000000e+00\n",
       " [81] 0.000000e+00 0.000000e+00 0.000000e+00 0.000000e+00 8.510243e-13\n",
       " [86] 2.641185e-12 0.000000e+00 0.000000e+00 0.000000e+00 0.000000e+00\n",
       " [91] 0.000000e+00 0.000000e+00 4.795320e-03 0.000000e+00 0.000000e+00\n",
       " [96] 0.000000e+00 0.000000e+00 1.350891e-12 0.000000e+00 0.000000e+00\n",
       "[101] 0.000000e+00 0.000000e+00 0.000000e+00 0.000000e+00 5.799018e-13\n",
       "[106] 0.000000e+00 0.000000e+00 0.000000e+00 0.000000e+00\n",
       "\n",
       "$Ulist\n",
       "$Ulist$identity\n",
       "     [,1]\n",
       "[1,]    1\n",
       "\n",
       "$Ulist$singletons_1\n",
       "     [,1]\n",
       "[1,]    1\n",
       "\n",
       "$Ulist$equal_effects\n",
       "     [,1]\n",
       "[1,]    1\n",
       "\n",
       "$Ulist$simple_het_1\n",
       "     [,1]\n",
       "[1,]    1\n",
       "\n",
       "$Ulist$simple_het_2\n",
       "     [,1]\n",
       "[1,]    1\n",
       "\n",
       "$Ulist$simple_het_3\n",
       "     [,1]\n",
       "[1,]    1\n",
       "\n",
       "\n",
       "$grid\n",
       " [1] 0.006514623 0.009213068 0.013029246 0.018426136 0.026058492 0.036852272\n",
       " [7] 0.052116983 0.073704545 0.104233967 0.147409089 0.208467933 0.294818179\n",
       "[13] 0.416935867 0.589636357 0.833871733 1.179272715 1.667743467 2.358545429\n",
       "\n",
       "$usepointmass\n",
       "[1] TRUE\n"
      ]
     },
     "metadata": {},
     "output_type": "display_data"
    }
   ],
   "source": [
    "m.c$fitted_g"
   ]
  }
 ],
 "metadata": {
  "kernelspec": {
   "display_name": "R",
   "language": "R",
   "name": "ir"
  },
  "language_info": {
   "codemirror_mode": "r",
   "file_extension": ".r",
   "mimetype": "text/x-r-source",
   "name": "R",
   "pygments_lexer": "r",
   "version": "3.5.3"
  }
 },
 "nbformat": 4,
 "nbformat_minor": 2
}
