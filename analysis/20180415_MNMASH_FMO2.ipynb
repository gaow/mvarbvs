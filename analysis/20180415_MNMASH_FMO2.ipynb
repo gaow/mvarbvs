{
 "cells": [
  {
   "cell_type": "markdown",
   "metadata": {},
   "source": [
    "# M&M analysis on FMO2 data in GTEx\n",
    "\n",
    "This vignette shows multi-tissue fine mapping using the \"Sum of Single Effects\" (SuSIE) approach. "
   ]
  },
  {
   "cell_type": "markdown",
   "metadata": {},
   "source": [
    "## Implementation of prototype\n",
    "\n",
    "This version implements a modular version that relies heavily on `mashr`. In order to keep track of various quantities of interest and try multiple alternatives, the prototype is done as a DSC problem in `src/model_dsc`."
   ]
  },
  {
   "cell_type": "code",
   "execution_count": 1,
   "metadata": {},
   "outputs": [
    {
     "name": "stdout",
     "output_type": "stream",
     "text": [
      "/home/gaow/GIT/github/mvarbvs/src/model_dsc"
     ]
    }
   ],
   "source": [
    "%cd ../src/model_dsc"
   ]
  },
  {
   "cell_type": "code",
   "execution_count": 2,
   "metadata": {
    "kernel": "Bash"
   },
   "outputs": [
    {
     "name": "stdout",
     "output_type": "stream",
     "text": [
      "\n",
      "INFO: \u001b[32mMODULES\u001b[0m\n",
      "+------------+---------------------+--------------------------------+-------------------+------+\n",
      "|            |      parameters     |             input              |       output      | type |\n",
      "+------------+---------------------+--------------------------------+-------------------+------+\n",
      "|  get_data  |      data_file      |                                |        data       |  R   |\n",
      "| original_Y |                     |              data              |        data       |  PY  |\n",
      "| init_model | Sigma, (U, grid, p) |              data              |    data, model    |  R   |\n",
      "|    fit     |      maxL, maxI     |          data, model           | fitted, posterior |  R   |\n",
      "|  diagnose  |                     | data, model, fitted, posterior |     diagnosed     |  R   |\n",
      "+------------+---------------------+--------------------------------+-------------------+------+\n",
      "\n",
      "INFO: \u001b[32mPIPELINES\u001b[0m\n",
      "first_pass: get_data -> get_Y -> init_model -> fit -> diagnose\n",
      "\n",
      "INFO: \u001b[32mPIPELINES EXPANDED\u001b[0m\n",
      "1: get_data -> original_Y -> init_model -> fit -> diagnose\n",
      "\n"
     ]
    }
   ],
   "source": [
    "./model.dsc -h"
   ]
  },
  {
   "cell_type": "markdown",
   "metadata": {},
   "source": [
    "For the time being:\n",
    "\n",
    "- `get_data` load gene specific data from GTEx\n",
    "- `get_Y` either simulate expression data `Y`, or use the original\n",
    "- `init_model` perform preliminary `mash` analysis to obtain the mixture prior\n",
    "- `fit` fit the m&m model: `maxL` is max number of single effects, `maxI` is number of iterations\n",
    "- `diagnose` compute ELBO etc"
   ]
  },
  {
   "cell_type": "markdown",
   "metadata": {},
   "source": [
    "As a first pass I extracted data for FMO2 on Thyroid and Lung. I use a maximum of 5 effects and 10 iterations of variational updates:"
   ]
  },
  {
   "cell_type": "code",
   "execution_count": 3,
   "metadata": {
    "kernel": "Bash"
   },
   "outputs": [
    {
     "name": "stdout",
     "output_type": "stream",
     "text": [
      "INFO: DSC script exported to \u001b[32mmnm_model.html\u001b[0m\n",
      "INFO: Constructing DSC from \u001b[32m./model.dsc\u001b[0m ...\n",
      "INFO: Building execution graph & running DSC ...\n",
      "DSC: 100%|████████████████████████████████████████| 6/6 [04:07<00:00, 33.19s/it]\n",
      "INFO: Building DSC database ...\n",
      "INFO: DSC complete!\n",
      "INFO: Elapsed time \u001b[32m249.601\u001b[0m seconds.\n"
     ]
    }
   ],
   "source": [
    "./model.dsc"
   ]
  },
  {
   "cell_type": "markdown",
   "metadata": {},
   "source": [
    "Scripts for the DSC can be found [here](20180415_mnm_model.html). **Specifically look at the `fit` module for m&m core computations.**"
   ]
  },
  {
   "cell_type": "markdown",
   "metadata": {},
   "source": [
    "## Plot fine-mapping results"
   ]
  },
  {
   "cell_type": "code",
   "execution_count": 4,
   "metadata": {
    "kernel": "R"
   },
   "outputs": [],
   "source": [
    "res = readRDS('mnm_model/fit/get_data_1_original_Y_1_init_model_1_fit_1.rds')"
   ]
  },
  {
   "cell_type": "code",
   "execution_count": 10,
   "metadata": {
    "kernel": "R"
   },
   "outputs": [],
   "source": [
    "dat = readRDS('mnm_model/init_model/get_data_1_original_Y_1_init_model_1.rds')\n",
    "r2 = dat$data$r2"
   ]
  },
  {
   "cell_type": "markdown",
   "metadata": {},
   "source": [
    "We focus on inferred posterior mean. We plot this quantity in both Thyroid and Lung tissues, annotated by local false sign rate (lfsr) and LD structure."
   ]
  },
  {
   "cell_type": "code",
   "execution_count": 11,
   "metadata": {
    "kernel": "R"
   },
   "outputs": [],
   "source": [
    "post_mean = res$posterior$PosteriorMean\n",
    "post_cov = res$posterior$PosteriorCov\n",
    "lfsr = res$posterior$lfsr\n",
    "lfdr = res$posterior$lfdr"
   ]
  },
  {
   "cell_type": "code",
   "execution_count": 12,
   "metadata": {
    "kernel": "Python3"
   },
   "outputs": [],
   "source": [
    "%get post_mean post_cov lfsr lfdr r2 --from R"
   ]
  },
  {
   "cell_type": "code",
   "execution_count": 19,
   "metadata": {
    "kernel": "Python3"
   },
   "outputs": [],
   "source": [
    "import seaborn as sns\n",
    "import matplotlib.pyplot as plt\n",
    "\n",
    "def plot_beta(yaxis, zaxis, ld, conf):\n",
    "    xaxis = [x+1 for x in range(len(yaxis))]\n",
    "    cmap = sns.cubehelix_palette(start=2.8, rot=.1, as_cmap=True)\n",
    "    f, ax = plt.subplots(figsize=(18,5))\n",
    "    points = ax.scatter(xaxis, yaxis, c=zaxis, cmap=cmap)\n",
    "    f.colorbar(points, label=conf['zlabel'])\n",
    "    if 'pip_cutoff' in conf:\n",
    "        for idx, item in enumerate(zaxis):\n",
    "            if item > conf['pip_cutoff']:\n",
    "                ax.scatter(xaxis[idx], yaxis[idx], s=80, \n",
    "                           facecolors='none', edgecolors='r')\n",
    "                for ii, xx in enumerate(ld[idx,:]):\n",
    "                    if xx > conf['ld_cutoff'] and xx < 1.0:\n",
    "                        ax.scatter(xaxis[ii], yaxis[ii], \n",
    "                                   color='y', marker='+')                        \n",
    "    ax.set_title(conf['title'])\n",
    "    ax.set_ylabel(conf['ylabel'])\n",
    "    plt.gca()\n",
    "    plt.show()"
   ]
  },
  {
   "cell_type": "markdown",
   "metadata": {},
   "source": [
    "### Thyroid results\n",
    "\n",
    "Top signals ($lfsr < 0.05$) are circled in red, with SNPs in LD with it ($r^2>0.1$) colored in yellow. "
   ]
  },
  {
   "cell_type": "code",
   "execution_count": 20,
   "metadata": {
    "kernel": "Python3"
   },
   "outputs": [
    {
     "data": {
      "image/png": "[encoded data removed]",
      "text/plain": [
       "<matplotlib.figure.Figure at 0x2b494092b7b8>"
      ]
     },
     "metadata": {},
     "output_type": "display_data"
    }
   ],
   "source": [
    "conf = {'title': 'FMO2, Thyroid', \n",
    "        'ylabel': 'betahat', \n",
    "        'zlabel': 'PIP (1 - lfsr)',\n",
    "        'pip_cutoff': 0.95,\n",
    "        'ld_cutoff': 0.1}\n",
    "plot_beta(post_mean[:,0], 1 - lfsr[:,0], r2, conf)"
   ]
  },
  {
   "cell_type": "markdown",
   "metadata": {},
   "source": [
    "### Lung results"
   ]
  },
  {
   "cell_type": "code",
   "execution_count": 21,
   "metadata": {
    "kernel": "Python3"
   },
   "outputs": [
    {
     "data": {
      "image/png": "[encoded data removed]",
      "text/plain": [
       "<matplotlib.figure.Figure at 0x2b49402964a8>"
      ]
     },
     "metadata": {},
     "output_type": "display_data"
    }
   ],
   "source": [
    "conf = {'title': 'FMO2, Lung', \n",
    "        'ylabel': 'betahat', \n",
    "        'zlabel': 'PIP (1 - lfsr)',\n",
    "        'pip_cutoff': 0.95,\n",
    "        'ld_cutoff': 0.1}\n",
    "plot_beta(post_mean[:,1], 1 - lfsr[:,1], r2, conf)"
   ]
  }
 ],
 "metadata": {
  "kernelspec": {
   "display_name": "SoS",
   "language": "sos",
   "name": "sos"
  },
  "language_info": {
   "codemirror_mode": "sos",
   "file_extension": ".sos",
   "mimetype": "text/x-sos",
   "name": "sos",
   "nbconvert_exporter": "sos_notebook.converter.SoS_Exporter",
   "pygments_lexer": "sos"
  },
  "sos": {
   "default_kernel": "SoS",
   "kernels": [
    [
     "Python3",
     "python3",
     "Python3",
     "#FFE771"
    ],
    [
     "R",
     "ir",
     "R",
     "#DCDCDA"
    ],
    [
     "SoS",
     "sos",
     "",
     ""
    ]
   ],
   "panel": {
    "displayed": false,
    "height": 0,
    "style": "side"
   },
   "version": "0.9.13.2"
  }
 },
 "nbformat": 4,
 "nbformat_minor": 2
}
