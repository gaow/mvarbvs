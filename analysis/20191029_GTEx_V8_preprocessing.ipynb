{
 "cells": [
  {
   "cell_type": "markdown",
   "metadata": {
    "kernel": "SoS"
   },
   "source": [
    "## Individual-level genotype-expression data preprocessing for association analysis\n",
    "\n",
    "This pipeline aims to extract individual-level genotype-expression data in preparation for cis-eQTL fine-mapping. It was written by Jiarun Chen (Tsinghua U.) advised by Gao Wang."
   ]
  },
  {
   "cell_type": "markdown",
   "metadata": {
    "kernel": "SoS"
   },
   "source": [
    "## Aim\n",
    "\n",
    "We want to organize data in units of genes. For each gene, we would like to have an RDS file that saves the genotype (sample by variants), expression (sample by condition, ie, tissues in GTEx context), and covariates data (sample by covariates). Additionally to facilicate downstream analysis, for each condition of normalized gene expression we regress out covariates and save residuals as a residual expression matrix."
   ]
  },
  {
   "cell_type": "markdown",
   "metadata": {
    "kernel": "SoS"
   },
   "source": [
    "## Implementation\n",
    "\n",
    "Each RDS file contains information to perform association analysis of one gene,\n",
    "\n",
    "1. covariates (`Z`): This is independent of genes, so this is the same among genes and can be directly copied from the original covariates data, for each condition (tissues in GTEx).\n",
    "2. expression (`y`, and residual, `y_res`): Each condition saves expression data for all genes in one file. We first generate a `gene:line_number` meta-database -- for each gene, the `line_number` is the line numbers of the gene in a expression data files. Once we have the meta-data, for each gene we read the corresponding lines from each condition and combine them as the expression matrix. This will be a lot faster than, e.g., to use `grep` for genes from each file; and is easier to write than say using database type of languages. To implement,\n",
    "    1. extract the column of `ensembl_gene_id` in the 49 expression files, using `pandas`.\n",
    "    2. assign `gene:line_number` for each gene in each tissue based on the extracted column and their row index, and write them to text files as meta information.\n",
    "    3. for each gene, extract the row of expression of the gene using meta info from above, and combine it with sample names.\n",
    "3. genotype (`X`): Given TSS data of all genes, we extract from VCF file genotype within a predefined radius around the TSS (say, 1Mb)."
   ]
  },
  {
   "cell_type": "markdown",
   "metadata": {
    "kernel": "SoS"
   },
   "source": [
    "# Data format documentation\n",
    "\n",
    "## Input\n",
    "\n",
    "Genotype data is one VCF file.\n",
    "\n",
    "- genotype: .vcf.gz\n",
    "\n",
    "```\n",
    "    #CHROM  POS     ID      REF     ALT     QUAL    FILTER  INFO    FORMAT  GTEX-1117F      GTEX-111CU      GTEX-111FC      GTEX-111VG      GTEX-111YS      GTEX-1122O\n",
    "    chr1    13526   chr1_13526_C_T_b38      C       T       .       PASS    AN=1676;AF=0.000596659;AC=1     GT      0|0     0|0     0|0     0|0     0|0     0|0\n",
    "```\n",
    "\n",
    "Expression data is per file per condition,\n",
    "\n",
    "- expression: .bed.gz\n",
    "```\n",
    "    #chr    start   end     gene_id GTEX-1117F      GTEX-111CU      GTEX-111FC      GTEX-111VG      GTEX-111YS      GTEX-1122O      GTEX-1128S\n",
    "    chr1    29552   29553   ENSG00000227232.5       1.3135329173730264      -0.9007944960568992     -0.29268956046586164    -0.7324113622418431     -0.27475411245874887    -0.6990255198601908     0.18188866123299216\n",
    "```\n",
    "\n",
    "Covariate data is per file per condition,\n",
    "\n",
    "- covariates: .txt\n",
    "```\n",
    "    ID      GTEX-1117F      GTEX-111CU      GTEX-111FC      GTEX-111VG      GTEX-111YS\n",
    "    PC1     -0.0867  0.0107  0.0099  0.0144  0.0154\n",
    "    PC2     -0.0132 -0.0026 -0.0050 -0.0081 -0.0093\n",
    "```    \n",
    "\n",
    "## Output\n",
    "\n",
    "Every gene is an RDS file containing information outlined in previous section. Below is a processed example:"
   ]
  },
  {
   "cell_type": "code",
   "execution_count": 4,
   "metadata": {
    "kernel": "R"
   },
   "outputs": [
    {
     "name": "stdout",
     "output_type": "stream",
     "text": [
      "List of 4\n",
      " $ X    : chr [1:838, 1:40947] \"0\" \"0\" \"0\" \"0\" ...\n",
      "  ..- attr(*, \"dimnames\")=List of 2\n",
      "  .. ..$ : chr [1:838] \"GTEX-1117F\" \"GTEX-111CU\" \"GTEX-111FC\" \"GTEX-111VG\" ...\n",
      "  .. ..$ : chr [1:40947] \"chr16_74677011_G_C_b38\" \"chr16_74677177_G_A_b38\" \"chr16_74677272_C_T_b38\" \"chr16_74677278_C_G_b38\" ...\n",
      " $ y    :List of 12\n",
      "  ..$ Brain_Cerebellar_Hemisphere          : chr [1:175, 1] \"0.4099833\" \"0.7860842\" \"-0.8056329\" \"0.2007308\" ...\n",
      "  .. ..- attr(*, \"dimnames\")=List of 2\n",
      "  .. .. ..$ : chr [1:175] \"GTEX-11DYG\" \"GTEX-11DZ1\" \"GTEX-11EI6\" \"GTEX-11EMC\" ...\n",
      "  .. .. ..$ : NULL\n",
      "  ..$ Brain_Cerebellum                     : chr [1:209, 1] \"-0.08365173\" \"-1.0467\" \"0.8247319\" \"2.18935\" ...\n",
      "  .. ..- attr(*, \"dimnames\")=List of 2\n",
      "  .. .. ..$ : chr [1:209] \"GTEX-111FC\" \"GTEX-1128S\" \"GTEX-117XS\" \"GTEX-1192X\" ...\n",
      "  .. .. ..$ : NULL\n",
      "  ..$ Brain_Hypothalamus                   : chr [1:170, 1] \"1.003148\" \"-0.1992013\" \"0.4960161\" \"-1.003148\" ...\n",
      "  .. ..- attr(*, \"dimnames\")=List of 2\n",
      "  .. .. ..$ : chr [1:170] \"GTEX-1192X\" \"GTEX-11DYG\" \"GTEX-11DZ1\" \"GTEX-11EI6\" ...\n",
      "  .. .. ..$ : NULL\n",
      "  ..$ Brain_Nucleus_accumbens_basal_ganglia: chr [1:202, 1] \"0.294373\" \"-0.7665489\" \"1.413069\" \"-0.5805017\" ...\n",
      "  .. ..- attr(*, \"dimnames\")=List of 2\n",
      "  .. .. ..$ : chr [1:202] \"GTEX-1192X\" \"GTEX-11DYG\" \"GTEX-11DZ1\" \"GTEX-11GSP\" ...\n",
      "  .. .. ..$ : NULL\n",
      "  ..$ Nerve_Tibial                         : chr [1:532, 1] \"-1.306538\" \"0.05881974\" \"0.9889212\" \"-0.1107433\" ...\n",
      "  .. ..- attr(*, \"dimnames\")=List of 2\n",
      "  .. .. ..$ : chr [1:532] \"GTEX-111CU\" \"GTEX-111FC\" \"GTEX-111VG\" \"GTEX-111YS\" ...\n",
      "  .. .. ..$ : NULL\n",
      "  ..$ Ovary                                : chr [1:167, 1] \"-0.8331469\" \"1.179761\" \"1.094332\" \"1.731664\" ...\n",
      "  .. ..- attr(*, \"dimnames\")=List of 2\n",
      "  .. .. ..$ : chr [1:167] \"GTEX-11DXX\" \"GTEX-11EM3\" \"GTEX-11EMC\" \"GTEX-11GSP\" ...\n",
      "  .. .. ..$ : NULL\n",
      "  ..$ Pituitary                            : chr [1:237, 1] \"-1.465234\" \"0.8813078\" \"0.5413951\" \"-0.2230078\" ...\n",
      "  .. ..- attr(*, \"dimnames\")=List of 2\n",
      "  .. .. ..$ : chr [1:237] \"GTEX-1128S\" \"GTEX-113JC\" \"GTEX-117XS\" \"GTEX-117YW\" ...\n",
      "  .. .. ..$ : NULL\n",
      "  ..$ Spleen                               : chr [1:227, 1] \"-0.3013365\" \"-1.098629\" \"-0.2216821\" \"0.504322\" ...\n",
      "  .. ..- attr(*, \"dimnames\")=List of 2\n",
      "  .. .. ..$ : chr [1:227] \"GTEX-111CU\" \"GTEX-111FC\" \"GTEX-1122O\" \"GTEX-117YX\" ...\n",
      "  .. .. ..$ : NULL\n",
      "  ..$ Testis                               : chr [1:322, 1] \"0.7520643\" \"-0.5594548\" \"-1.401747\" \"0.4535472\" ...\n",
      "  .. ..- attr(*, \"dimnames\")=List of 2\n",
      "  .. .. ..$ : chr [1:322] \"GTEX-111CU\" \"GTEX-111FC\" \"GTEX-111VG\" \"GTEX-111YS\" ...\n",
      "  .. .. ..$ : NULL\n",
      "  ..$ Thyroid                              : chr [1:574, 1] \"1.276612\" \"0.9802626\" \"-1.657634\" \"0.4339182\" ...\n",
      "  .. ..- attr(*, \"dimnames\")=List of 2\n",
      "  .. .. ..$ : chr [1:574] \"GTEX-111CU\" \"GTEX-111FC\" \"GTEX-111VG\" \"GTEX-111YS\" ...\n",
      "  .. .. ..$ : NULL\n",
      "  ..$ Uterus                               : chr [1:129, 1] \"-0.7618428\" \"1.053073\" \"-1.159742\" \"1.426077\" ...\n",
      "  .. ..- attr(*, \"dimnames\")=List of 2\n",
      "  .. .. ..$ : chr [1:129] \"GTEX-1117F\" \"GTEX-113JC\" \"GTEX-11DXX\" \"GTEX-11EM3\" ...\n",
      "  .. .. ..$ : NULL\n",
      "  ..$ Vagina                               : chr [1:141, 1] \"-1.250087\" \"0.4371924\" \"-0.5988157\" \"0.7542415\" ...\n",
      "  .. ..- attr(*, \"dimnames\")=List of 2\n",
      "  .. .. ..$ : chr [1:141] \"GTEX-1117F\" \"GTEX-113JC\" \"GTEX-11DXX\" \"GTEX-11EM3\" ...\n",
      "  .. .. ..$ : NULL\n",
      " $ Z    :List of 12\n",
      "  ..$ Brain_Cerebellar_Hemisphere          : num [1:175, 1:38] -0.0941 0.0148 0.0141 0.0141 0.0147 ...\n",
      "  .. ..- attr(*, \"dimnames\")=List of 2\n",
      "  .. .. ..$ : chr [1:175] \"GTEX-11DYG\" \"GTEX-11DZ1\" \"GTEX-11EI6\" \"GTEX-11EMC\" ...\n",
      "  .. .. ..$ : chr [1:38] \"PC1\" \"PC2\" \"PC3\" \"PC4\" ...\n",
      "  ..$ Brain_Cerebellum                     : num [1:209, 1:38] 0.0099 0.0145 0.0139 0.0138 -0.0941 0.0148 0.0141 0.0141 0.0142 0.0147 ...\n",
      "  .. ..- attr(*, \"dimnames\")=List of 2\n",
      "  .. .. ..$ : chr [1:209] \"GTEX-111FC\" \"GTEX-1128S\" \"GTEX-117XS\" \"GTEX-1192X\" ...\n",
      "  .. .. ..$ : chr [1:38] \"PC1\" \"PC2\" \"PC3\" \"PC4\" ...\n",
      "  ..$ Brain_Hypothalamus                   : num [1:170, 1:38] 0.0138 -0.0941 0.0148 0.0141 0.0141 0.0147 0.0146 0.0145 0.0161 -0.0958 ...\n",
      "  .. ..- attr(*, \"dimnames\")=List of 2\n",
      "  .. .. ..$ : chr [1:170] \"GTEX-1192X\" \"GTEX-11DYG\" \"GTEX-11DZ1\" \"GTEX-11EI6\" ...\n",
      "  .. .. ..$ : chr [1:38] \"PC1\" \"PC2\" \"PC3\" \"PC4\" ...\n",
      "  ..$ Brain_Nucleus_accumbens_basal_ganglia: num [1:202, 1:38] 0.0138 -0.0941 0.0148 0.0147 0.0139 ...\n",
      "  .. ..- attr(*, \"dimnames\")=List of 2\n",
      "  .. .. ..$ : chr [1:202] \"GTEX-1192X\" \"GTEX-11DYG\" \"GTEX-11DZ1\" \"GTEX-11GSP\" ...\n",
      "  .. .. ..$ : chr [1:38] \"PC1\" \"PC2\" \"PC3\" \"PC4\" ...\n",
      "  ..$ Nerve_Tibial                         : num [1:532, 1:68] 0.0107 0.0099 0.0144 0.0154 -0.0728 -0.024 0.0138 0.0141 -0.0898 -0.0941 ...\n",
      "  .. ..- attr(*, \"dimnames\")=List of 2\n",
      "  .. .. ..$ : chr [1:532] \"GTEX-111CU\" \"GTEX-111FC\" \"GTEX-111VG\" \"GTEX-111YS\" ...\n",
      "  .. .. ..$ : chr [1:68] \"PC1\" \"PC2\" \"PC3\" \"PC4\" ...\n",
      "  ..$ Ovary                                : num [1:167, 1:38] 0.0141 0.0145 0.0141 0.0147 0.014 0.0146 0.014 0.015 0.0154 0.0144 ...\n",
      "  .. ..- attr(*, \"dimnames\")=List of 2\n",
      "  .. .. ..$ : chr [1:167] \"GTEX-11DXX\" \"GTEX-11EM3\" \"GTEX-11EMC\" \"GTEX-11GSP\" ...\n",
      "  .. .. ..$ : chr [1:38] \"PC1\" \"PC2\" \"PC3\" \"PC4\" ...\n",
      "  ..$ Pituitary                            : num [1:237, 1:38] 0.0145 0.0106 0.0139 0.0109 0.0134 0.0138 -0.0941 0.0141 0.0141 0.0091 ...\n",
      "  .. ..- attr(*, \"dimnames\")=List of 2\n",
      "  .. .. ..$ : chr [1:237] \"GTEX-1128S\" \"GTEX-113JC\" \"GTEX-117XS\" \"GTEX-117YW\" ...\n",
      "  .. .. ..$ : chr [1:38] \"PC1\" \"PC2\" \"PC3\" \"PC4\" ...\n",
      "  ..$ Spleen                               : num [1:227, 1:38] 0.0107 0.0099 0.0139 -0.024 0.0141 0.0135 0.0148 0.0139 -0.0998 0.0146 ...\n",
      "  .. ..- attr(*, \"dimnames\")=List of 2\n",
      "  .. .. ..$ : chr [1:227] \"GTEX-111CU\" \"GTEX-111FC\" \"GTEX-1122O\" \"GTEX-117YX\" ...\n",
      "  .. .. ..$ : chr [1:38] \"PC1\" \"PC2\" \"PC3\" \"PC4\" ...\n",
      "  ..$ Testis                               : num [1:322, 1:53] 0.0107 0.0099 0.0144 0.0154 0.0139 0.0109 -0.024 -0.0898 0.0141 0.0139 ...\n",
      "  .. ..- attr(*, \"dimnames\")=List of 2\n",
      "  .. .. ..$ : chr [1:322] \"GTEX-111CU\" \"GTEX-111FC\" \"GTEX-111VG\" \"GTEX-111YS\" ...\n",
      "  .. .. ..$ : chr [1:53] \"PC1\" \"PC2\" \"PC3\" \"PC4\" ...\n",
      "  ..$ Thyroid                              : num [1:574, 1:68] 0.0107 0.0099 0.0144 0.0154 0.0139 0.0145 0.0106 0.0139 0.0109 -0.024 ...\n",
      "  .. ..- attr(*, \"dimnames\")=List of 2\n",
      "  .. .. ..$ : chr [1:574] \"GTEX-111CU\" \"GTEX-111FC\" \"GTEX-111VG\" \"GTEX-111YS\" ...\n",
      "  .. .. ..$ : chr [1:68] \"PC1\" \"PC2\" \"PC3\" \"PC4\" ...\n",
      "  ..$ Uterus                               : num [1:129, 1:23] -0.0867 0.0106 0.0141 0.0145 0.0141 0.0147 0.014 0.0146 0.0154 0.0144 ...\n",
      "  .. ..- attr(*, \"dimnames\")=List of 2\n",
      "  .. .. ..$ : chr [1:129] \"GTEX-1117F\" \"GTEX-113JC\" \"GTEX-11DXX\" \"GTEX-11EM3\" ...\n",
      "  .. .. ..$ : chr [1:23] \"PC1\" \"PC2\" \"PC3\" \"PC4\" ...\n",
      "  ..$ Vagina                               : num [1:141, 1:23] -0.0867 0.0106 0.0141 0.0145 0.0141 0.0147 0.014 0.0146 0.0161 0.014 ...\n",
      "  .. ..- attr(*, \"dimnames\")=List of 2\n",
      "  .. .. ..$ : chr [1:141] \"GTEX-1117F\" \"GTEX-113JC\" \"GTEX-11DXX\" \"GTEX-11EM3\" ...\n",
      "  .. .. ..$ : chr [1:23] \"PC1\" \"PC2\" \"PC3\" \"PC4\" ...\n",
      " $ y_res:List of 12\n",
      "  ..$ Brain_Cerebellar_Hemisphere          : num [1:175, 1] 0.4994 0.258 0.0121 0.1096 0.2218 ...\n",
      "  .. ..- attr(*, \"dimnames\")=List of 2\n",
      "  .. .. ..$ : chr [1:175] \"GTEX-11DYG\" \"GTEX-11DZ1\" \"GTEX-11EI6\" \"GTEX-11EMC\" ...\n",
      "  .. .. ..$ : NULL\n",
      "  ..$ Brain_Cerebellum                     : num [1:209, 1] 0.25761 -0.40058 0.26031 0.23858 0.00136 ...\n",
      "  .. ..- attr(*, \"dimnames\")=List of 2\n",
      "  .. .. ..$ : chr [1:209] \"GTEX-111FC\" \"GTEX-1128S\" \"GTEX-117XS\" \"GTEX-1192X\" ...\n",
      "  .. .. ..$ : NULL\n",
      "  ..$ Brain_Hypothalamus                   : num [1:170, 1] -0.3326 -0.0139 0.1878 0.0302 -0.1408 ...\n",
      "  .. ..- attr(*, \"dimnames\")=List of 2\n",
      "  .. .. ..$ : chr [1:170] \"GTEX-1192X\" \"GTEX-11DYG\" \"GTEX-11DZ1\" \"GTEX-11EI6\" ...\n",
      "  .. .. ..$ : NULL\n",
      "  ..$ Brain_Nucleus_accumbens_basal_ganglia: num [1:202, 1] -0.1732 -0.5435 0.366 -0.135 -0.0661 ...\n",
      "  .. ..- attr(*, \"dimnames\")=List of 2\n",
      "  .. .. ..$ : chr [1:202] \"GTEX-1192X\" \"GTEX-11DYG\" \"GTEX-11DZ1\" \"GTEX-11GSP\" ...\n",
      "  .. .. ..$ : NULL\n",
      "  ..$ Nerve_Tibial                         : num [1:532, 1] -0.0746 0.0679 -0.6145 -0.029 -0.2999 ...\n",
      "  .. ..- attr(*, \"dimnames\")=List of 2\n",
      "  .. .. ..$ : chr [1:532] \"GTEX-111CU\" \"GTEX-111FC\" \"GTEX-111VG\" \"GTEX-111YS\" ...\n",
      "  .. .. ..$ : NULL\n",
      "  ..$ Ovary                                : num [1:167, 1] -0.1464 0.0702 0.4032 0.6144 0.5007 ...\n",
      "  .. ..- attr(*, \"dimnames\")=List of 2\n",
      "  .. .. ..$ : chr [1:167] \"GTEX-11DXX\" \"GTEX-11EM3\" \"GTEX-11EMC\" \"GTEX-11GSP\" ...\n",
      "  .. .. ..$ : NULL\n",
      "  ..$ Pituitary                            : num [1:237, 1] -0.136526 -0.266844 -0.583977 0.000303 0.163791 ...\n",
      "  .. ..- attr(*, \"dimnames\")=List of 2\n",
      "  .. .. ..$ : chr [1:237] \"GTEX-1128S\" \"GTEX-113JC\" \"GTEX-117XS\" \"GTEX-117YW\" ...\n",
      "  .. .. ..$ : NULL\n",
      "  ..$ Spleen                               : num [1:227, 1] -0.2093 0.0971 -0.081 -0.1846 -0.6929 ...\n",
      "  .. ..- attr(*, \"dimnames\")=List of 2\n",
      "  .. .. ..$ : chr [1:227] \"GTEX-111CU\" \"GTEX-111FC\" \"GTEX-1122O\" \"GTEX-117YX\" ...\n",
      "  .. .. ..$ : NULL\n",
      "  ..$ Testis                               : num [1:322, 1] -0.17 0.125 0.128 0.202 0.277 ...\n",
      "  .. ..- attr(*, \"dimnames\")=List of 2\n",
      "  .. .. ..$ : chr [1:322] \"GTEX-111CU\" \"GTEX-111FC\" \"GTEX-111VG\" \"GTEX-111YS\" ...\n",
      "  .. .. ..$ : NULL\n",
      "  ..$ Thyroid                              : num [1:574, 1] -0.0422 0.4231 -0.771 -0.2314 -0.0944 ...\n",
      "  .. ..- attr(*, \"dimnames\")=List of 2\n",
      "  .. .. ..$ : chr [1:574] \"GTEX-111CU\" \"GTEX-111FC\" \"GTEX-111VG\" \"GTEX-111YS\" ...\n",
      "  .. .. ..$ : NULL\n",
      "  ..$ Uterus                               : num [1:129, 1] -0.71121 -0.00343 0.31425 0.50844 -0.63224 ...\n",
      "  .. ..- attr(*, \"dimnames\")=List of 2\n",
      "  .. .. ..$ : chr [1:129] \"GTEX-1117F\" \"GTEX-113JC\" \"GTEX-11DXX\" \"GTEX-11EM3\" ...\n",
      "  .. .. ..$ : NULL\n",
      "  ..$ Vagina                               : num [1:141, 1] -0.9296 0.2999 0.3062 0.0652 -0.014 ...\n",
      "  .. ..- attr(*, \"dimnames\")=List of 2\n",
      "  .. .. ..$ : chr [1:141] \"GTEX-1117F\" \"GTEX-113JC\" \"GTEX-11DXX\" \"GTEX-11EM3\" ...\n",
      "  .. .. ..$ : NULL\n"
     ]
    }
   ],
   "source": [
    "dat <- readRDS(file = '/scratch/midway2/chj1ar/GTEx_Analysis_v8_eQTL_expression_genewise/output/ENSG00000284484.1.Multi_Tissues.RDS')\n",
    "str(dat)"
   ]
  },
  {
   "cell_type": "code",
   "execution_count": 1,
   "metadata": {
    "kernel": "Bash"
   },
   "outputs": [
    {
     "name": "stdout",
     "output_type": "stream",
     "text": [
      "usage: sos run 20191029_GTEx_V8_preprocessing.ipynb\n",
      "               [workflow_name | -t targets] [options] [workflow_options]\n",
      "  workflow_name:        Single or combined workflows defined in this script\n",
      "  targets:              One or more targets to generate\n",
      "  options:              Single-hyphen sos parameters (see \"sos run -h\" for details)\n",
      "  workflow_options:     Double-hyphen workflow-specific parameters\n",
      "\n",
      "Workflows:\n",
      "  get_gene_meta\n",
      "  preprocess\n",
      "  get_gene_meta_biomaRt\n",
      "  extract\n",
      "  dap\n",
      "\n",
      "Global Workflow Options:\n",
      "  --cwd output (as path)\n",
      "  --expression-data  paths(glob('/project2/compbio/GTEx_dbGaP/GTEx_Analysis_2017-06-05_v8/eqtl/GTEx_Analysis_v8_eQTL_expression_matrices/*.gz'))\n",
      "\n",
      "  --genotype-data /project2/compbio/GTEx_dbGaP/GTEx_Analysis_2017-06-05_v8/genotypes/WGS/variant_calls/GTEx_Analysis_2017-06-05_v8_WholeGenomeSeq_838Indiv_Analysis_Freeze.SHAPEIT2_phased.vcf.gz (as path)\n",
      "  --covariates-data  paths(glob('/project2/compbio/GTEx_dbGaP/GTEx_Analysis_2017-06-05_v8/eqtl/GTEx_Analysis_v8_eQTL_covariates/*.txt'))\n",
      "\n",
      "  --gene-id-file  path(f\"{cwd:a}/ensembl_gene_id.txt\")\n",
      "\n",
      "  --gene-tss-file  path(f\"{cwd:a}/ensembl_gene_tss.txt\")\n",
      "\n",
      "  --analysis-ready-dir  cwd\n",
      "\n",
      "\n",
      "Sections\n",
      "  get_gene_meta_1:      get gene-line mappping\n",
      "  get_gene_meta_2:      TSS for genes using provided TSS information\n",
      "  get_gene_meta_3:      get all gene names\n",
      "  preprocess:\n",
      "  get_gene_meta_biomaRt: # TSS for genes by biomaRt\n",
      "  extract:\n",
      "  dap:\n",
      "    Workflow Options:\n",
      "      --args ''\n",
      "                        Extra arguments to pass to DAP\n"
     ]
    }
   ],
   "source": [
    "sos run 20191029_GTEx_V8_preprocessing.ipynb -h"
   ]
  },
  {
   "cell_type": "markdown",
   "metadata": {
    "kernel": "SoS"
   },
   "source": [
    "## Usage\n",
    "\n",
    "**You can edit and change the following bash variable.** First edit and run the following bash variable.\n",
    "```\n",
    "work_dir=~/GTEx_Analysis_v8_eQTL_expression_genewise\n",
    "```\n",
    "Then run as follows:\n",
    "\n",
    "```\n",
    "cd $work_dir\n",
    "sos run 20191029_GTEx_V8_preprocessing.ipynb preprocess\n",
    "sos run 20191029_GTEx_V8_preprocessing.ipynb extract --analysis-ready-dir /project2/compbio/GTEx_eQTL/cis_eqtl_analysis_ready\n",
    "sos run 20191029_GTEx_V8_preprocessing.ipynb dap --analysis-ready-dir /project2/compbio/GTEx_eQTL/cis_eqtl_analysis_ready\n",
    "```\n",
    "\n",
    "To run the code on UChicago RCC midway, for example,\n",
    "\n",
    "```\n",
    "sos run 20191029_GTEx_V8_preprocessing.ipynb extract --gene-id-file output/ensembl_gene_id.txt \\\n",
    "                                    --analysis-ready-dir /project2/compbio/GTEx_eQTL/cis_eqtl_analysis_ready \\\n",
    "                                    -c midway2.yml -q midway2\n",
    "```\n",
    "\n",
    "## A minimal working example\n",
    "\n",
    "\n",
    "If you want to only extract a self-defined list, eg, first 2 genes from the `gene_id_file`, \n",
    "\n",
    "```\n",
    "work_dir=~/GTEx_Analysis_v8_eQTL_expression_genewise\n",
    "cd $work_dir\n",
    "sos run 20191029_GTEx_V8_preprocessing.ipynb preprocess\n",
    "head -2 output/ensembl_gene_id.txt > output/test.txt\n",
    "sos run 20191029_GTEx_V8_preprocessing.ipynb extract --gene-id-file output/test.txt --analysis-ready-dir output/\n",
    "```"
   ]
  },
  {
   "cell_type": "code",
   "execution_count": 2,
   "metadata": {
    "kernel": "SoS"
   },
   "outputs": [],
   "source": [
    "[global]\n",
    "import os\n",
    "from glob import glob\n",
    "parameter: cwd = path('./output')\n",
    "parameter: expression_data = paths(glob('/project2/compbio/GTEx_dbGaP/GTEx_Analysis_2017-06-05_v8/eqtl/GTEx_Analysis_v8_eQTL_expression_matrices/*.gz'))\n",
    "parameter: genotype_data = path('/project2/compbio/GTEx_dbGaP/GTEx_Analysis_2017-06-05_v8/genotypes/WGS/variant_calls/GTEx_Analysis_2017-06-05_v8_WholeGenomeSeq_838Indiv_Analysis_Freeze.SHAPEIT2_phased.vcf.gz')\n",
    "parameter: covariates_data = paths(glob('/project2/compbio/GTEx_dbGaP/GTEx_Analysis_2017-06-05_v8/eqtl/GTEx_Analysis_v8_eQTL_covariates/*.txt'))\n",
    "parameter: gene_id_file = path(f\"{cwd:a}/ensembl_gene_id.txt\")\n",
    "parameter: gene_tss_file = path(f\"{cwd:a}/ensembl_gene_tss.txt\")\n",
    "parameter: analysis_ready_dir = cwd"
   ]
  },
  {
   "cell_type": "markdown",
   "metadata": {
    "kernel": "SoS"
   },
   "source": [
    "## Preprocessing"
   ]
  },
  {
   "cell_type": "code",
   "execution_count": null,
   "metadata": {
    "kernel": "SoS"
   },
   "outputs": [],
   "source": [
    "# get gene-line mapping\n",
    "[get_gene_meta_1]\n",
    "input: expression_data, group_by = 1\n",
    "output: f\"{cwd:a}/{_input:bnn}.gene_meta.json\", f\"{cwd:a}/{_input:bnn}.gene_meta.gz\"\n",
    "python3: expand = '${ }'\n",
    "    import pandas as pd\n",
    "    genes = pd.read_csv(${_input:r}, sep='\\t', compression='gzip', header=0, skip_blank_lines=False, usecols = [0,1,2,3])\n",
    "    gene_linenum = dict([(x,y+1) for y, x in enumerate(genes['gene_id'].tolist())])\n",
    "    import json\n",
    "    with open(${_output[0]:r}, 'w') as outfile:\n",
    "        json.dump({${_input:r}:gene_linenum}, outfile)\n",
    "    # chr, start, end, gene name\n",
    "    genes.to_csv(${_output[1]:r}, sep = '\\t', header=False, index=False)"
   ]
  },
  {
   "cell_type": "code",
   "execution_count": null,
   "metadata": {
    "kernel": "SoS"
   },
   "outputs": [],
   "source": [
    "# TSS for genes using provided TSS information\n",
    "[get_gene_meta_2]\n",
    "input: group_by = 'all'\n",
    "output: gene_tss_file\n",
    "bash: expand = '${ }', workdir = cwd\n",
    "    zcat ${paths(_input[1::2])} | sort -u > ${_output}"
   ]
  },
  {
   "cell_type": "code",
   "execution_count": null,
   "metadata": {
    "kernel": "SoS"
   },
   "outputs": [],
   "source": [
    "# get all gene names\n",
    "[get_gene_meta_3]\n",
    "output: gene_id_file\n",
    "bash: expand = '${ }', workdir = cwd\n",
    "    awk '{print $4}' ${_input} | sort -u > ${_output}"
   ]
  },
  {
   "cell_type": "code",
   "execution_count": 2,
   "metadata": {
    "kernel": "SoS"
   },
   "outputs": [],
   "source": [
    "[preprocess]\n",
    "sos_run('get_gene_meta')"
   ]
  },
  {
   "cell_type": "code",
   "execution_count": 1,
   "metadata": {
    "kernel": "SoS"
   },
   "outputs": [
    {
     "name": "stdout",
     "output_type": "stream",
     "text": [
      "/home/gaow/GTEx_Analysis_v8_eQTL_expression_genewise/output"
     ]
    }
   ],
   "source": [
    "%cd ~/GTEx_Analysis_v8_eQTL_expression_genewise/output"
   ]
  },
  {
   "cell_type": "code",
   "execution_count": 2,
   "metadata": {
    "kernel": "Bash"
   },
   "outputs": [
    {
     "name": "stdout",
     "output_type": "stream",
     "text": [
      "39832 ensembl_gene_tss.txt\n"
     ]
    }
   ],
   "source": [
    "wc -l ensembl_gene_tss.txt"
   ]
  },
  {
   "cell_type": "code",
   "execution_count": 3,
   "metadata": {
    "kernel": "Bash"
   },
   "outputs": [
    {
     "name": "stdout",
     "output_type": "stream",
     "text": [
      "39832 ensembl_gene_id.txt\n"
     ]
    }
   ],
   "source": [
    "wc -l ensembl_gene_id.txt"
   ]
  },
  {
   "cell_type": "markdown",
   "metadata": {
    "kernel": "SoS"
   },
   "source": [
    "### The reason why we don't use biomaRt to get TSS for genes\n",
    "\n",
    "The following workflow is not used for the current project because biomaRt fails to find some `ensembl_gene_id`. The loss is considerable, approximately from 40K to 20K. This is mostly due to gene name version inconsistencies in GTEx and in current Ensembl. For example the gene ENSG00000284523.1 is now ENSG00000284523.2 in Ensembl; ENSG00000284552.1 can no longer be found."
   ]
  },
  {
   "cell_type": "code",
   "execution_count": null,
   "metadata": {
    "kernel": "SoS"
   },
   "outputs": [],
   "source": [
    "# # TSS for genes by biomaRt\n",
    "[get_gene_meta_biomaRt]\n",
    "depends: R_library(\"biomaRt\"), R_library(\"data.table\")\n",
    "input: gene_id_file\n",
    "output: gene_tss_file\n",
    "R: expand = '${ }'\n",
    "    ensembl_gene_id <- data.table::fread(file = ${_input:r}, sep = \"\\n\", quote = \"\", header = FALSE)\n",
    "    mart <- biomaRt::useDataset(\"hsapiens_gene_ensembl\", biomaRt::useMart(\"ensembl\"))\n",
    "    gene_TSS <- biomaRt::getBM(attributes = c(\"chromosome_name\", \"transcript_start\", \"transcript_end\", \"ensembl_gene_id\", \"ensembl_gene_id_version\"), filters = \"ensembl_gene_id_version\", values = ensembl_gene_id, mart = mart)\n",
    "    write.table(x = gene_TSS, file = ${_output:r}, sep = '\\t', quote = FALSE, col.names = TRUE, row.names = FALSE)\n",
    "    # gene_TSS_retrieval <- read.table(file = \"gene_TSS.csv\", sep = '\\t', quote = \"\", stringsAsFactors = FALSE, header = TRUE)"
   ]
  },
  {
   "cell_type": "markdown",
   "metadata": {
    "kernel": "SoS"
   },
   "source": [
    "## Data extraction"
   ]
  },
  {
   "cell_type": "code",
   "execution_count": 3,
   "metadata": {
    "kernel": "SoS"
   },
   "outputs": [],
   "source": [
    "[extract]\n",
    "depends: executable('tabix'), R_library(\"data.table\"), R_library('rjson'), R_library('vcfR'), R_library('dplyr')\n",
    "parameter: radius = 1000000\n",
    "parameter: label = 'Multi_Tissues'\n",
    "genes = open(gene_id_file).read().splitlines()\n",
    "input: for_each = 'genes'\n",
    "output: f\"{analysis_ready_dir:a}/{_genes}.{label}.rds\"\n",
    "# each job uses 10 nodes, each node 4 cores in parallel each core using 2G memory; and jobs are created in batches of 40.\n",
    "task: trunk_workers = [4] * 10, trunk_size = 40, walltime = '20m', mem = '2G', cores = 1, tags = f'{step_name}_{_output:bn}'\n",
    "\n",
    "bash: expand = '${ }', workdir = cwd\n",
    "    # X\n",
    "    tabix -h -f ${genotype_data} `awk '$4 ~ /${_genes}/ {print $0}' ${gene_tss_file:a} | head -n 1 | awk '{$3=$2+${radius}} {$2=$2-${radius}} {print \"chr\"$1\":\"$2\"-\"$3}'` > ${_genes}_genotype.vcf\n",
    "\n",
    "R: expand = \"${ }\", workdir = cwd\n",
    "    # Z\n",
    "    Z <- lapply(c(${covariates_data:r,}), function(x) t(as.matrix(read.table(file = x, header = TRUE, sep = '\\t', quote = \"\", row.names = 1))))\n",
    "    for (i in 1:length(Z)) {\n",
    "        # the format of sample names Z was changed somehow by `read.table`, from \"GTEX-*\" to \"GTEX.*\", so we need to convert it back.\n",
    "        rownames(Z[[i]]) <- gsub(pattern = \"GTEX.\", replacement = \"GTEX-\", x = rownames(Z[[i]]))\n",
    "        # add tissue names, in order match with those of y\n",
    "        names(Z)[i] <- strsplit(x = c(${covariates_data:br,})[i], split = \"[.]\")[[1]][1]\n",
    "    }\n",
    "    \n",
    "    # y\n",
    "    filenames_json <- list.files(path = ${cwd:ar}, pattern = \"*.json$\", full.names = TRUE)\n",
    "    line_numbers <- lapply(filenames_json, function(x) rjson::fromJSON(file=x))\n",
    "  \n",
    "    extract_y <- function(y_file, line) {\n",
    "        if (is.null(line)) return(NULL)\n",
    "        # a sed version here\n",
    "        # cmd <- paste0(\"zcat \", y_file, \" | sed '\", line, \"q;d'\")\n",
    "        # yi <- data.table::fread(cmd=cmd)\n",
    "        yi <- data.table::fread(file = y_file, skip = line - 1, nrows = 1)\n",
    "        samplenames_yi <- data.table::fread(file = y_file, skip = 0, nrows = 1)\n",
    "        colnames(yi) <- colnames(samplenames_yi)\n",
    "        yi <- t(as.matrix(yi))\n",
    "        yi <- yi[-1:-4, , drop = FALSE]\n",
    "        # y_file:bnn, add tissue names\n",
    "        # colnames(yi) <- file_path_sans_ext(file_path_sans_ext(basename(y_file)))\n",
    "        return(yi)\n",
    "    }\n",
    "    \n",
    "    y <- lapply(line_numbers, function(x) extract_y(names(x), x[[1]][[\"${_genes}\"]]))\n",
    "    for (i in 1:length(y)) {\n",
    "        # add tissue names, in order match with those of Z\n",
    "        names(y)[i] <- strsplit(x = basename(names(line_numbers[[i]])), split = '[.]')[[1]][1]\n",
    "    }\n",
    "    y[sapply(y, is.null)] <- NULL\n",
    "    \n",
    "    ## tissue names matching between y and Z (y as reference)\n",
    "    tissuenamesmatching <- function(x, reference) {\n",
    "        x[match(names(reference), names(x))]\n",
    "    }\n",
    "    Z <- tissuenamesmatching(x = Z, reference = y)\n",
    "    \n",
    "    ## sample names matching between y and Z (Z as reference)\n",
    "    samplenamesmatching <- function(x, reference) {\n",
    "        lapply(1:length(reference), function(i) x[[i]][match(rownames(reference[[i]]), rownames(x[[i]])), , drop = FALSE])\n",
    "    }\n",
    "    y <- samplenamesmatching(x = y, reference = Z)\n",
    "    for (i in 1:length(y)) {\n",
    "        # the tissue names are lost during `samplenamesmatching`, it is therefore needed to retrieve the tissue names\n",
    "        names(y)[i] <- names(Z)[i]\n",
    "    }\n",
    "    \n",
    "    # X\n",
    "    vcf <- vcfR::read.vcfR(\"${cwd:a}/${_genes}_genotype.vcf\", verbose = FALSE)\n",
    "    # FIXME: not sure about tri-allelic case?\n",
    "    X <- vcfR::extract.gt(vcf, as.numeric = T)\n",
    "    \n",
    "    # y_res, residual of y\n",
    "    y_res <- lapply(1:length(Z), function(i) .lm.fit(x = Z[[i]], y = y[[i]])$residuals)\n",
    "    for (i in 1:length(y_res)) {\n",
    "        # add tissue names of y_res\n",
    "        names(y_res)[i] <- names(Z)[i]\n",
    "    }\n",
    "\n",
    "    # create a y_res matrix that matches X, as association analysis ready data\n",
    "    # code below are written by Fabio Morgante\n",
    "    \n",
    "    options(stringsAsFactors=F)\n",
    "    ###If the gene has expression values in multiple tissues\n",
    "    if(length(y_res)>1){\n",
    "      ###Loop through tissues and recursively join them\n",
    "      for(i in 2:length(y_res)){\n",
    "        if(i==2){\n",
    "          df_a <- data.frame(id=rownames(y_res[[i-1]]), y_res[[i-1]])\n",
    "          colnames(df_a)[2] <- names(y_res)[[i-1]]\n",
    "          df_b <- data.frame(id=rownames(y_res[[i]]), y_res[[i]])\n",
    "          colnames(df_b)[2] <- names(y_res)[[i]]\n",
    "          Y_df <- dplyr::full_join(df_a, df_b, by=\"id\")\n",
    "        } else {\n",
    "          df_b <- data.frame(id=rownames(y_res[[i]]), y_res[[i]])\n",
    "          colnames(df_b)[2] <- names(y_res)[[i]]\n",
    "          Y_df <- dplyr::full_join(Y_df, df_b, by=\"id\")\n",
    "        }\n",
    "      }\n",
    "\n",
    "      ###Assign row names as ID to Y_df and drop id column\n",
    "      rownames(Y_df) <- Y_df[, 1]\n",
    "      Y_df <- Y_df[, -1]\n",
    "\n",
    "      ###If the tissue data contains the same individuals as the genotype data\n",
    "      if(nrow(Y_df)==ncol(X)){\n",
    "        ###Order the rows (ID) of the joined data according to the columns (ID) of the genotype matrix \n",
    "        X_names <- colnames(X)\n",
    "        Y_mat <- as.matrix(Y_df[X_names, ])\n",
    "      } else if(nrow(Y_df)<ncol(X)){ ###If the tissue data contains fewer individuals than the genotype data\n",
    "        ###Compute the individuals in common between the tissue data and the genotype data\n",
    "        X_names <- colnames(X)\n",
    "        Y_names <- rownames(Y_df)\n",
    "        in_common <- base::intersect(X_names, Y_names)\n",
    "\n",
    "        ###Extract from the genotype data only the individuals in common between tissue data and the genotype data, and order tissue data according to the genotype data\n",
    "        X <- X[, which(colnames(X) %in% in_common)]\n",
    "        Y_mat <- as.matrix(Y_df[colnames(X), ])\n",
    "      } else {\n",
    "        stop(\"Error: There is a problem with IDs\")\n",
    "      } \n",
    "    } else { ###If the gene has expression values in only one tissue\n",
    "      ###Extract y_res\n",
    "      Y_df <- data.frame(y_res[[1]])\n",
    "\n",
    "      ###If the tissue data contains the same individuals as the genotype data\n",
    "      if(nrow(Y_df)==ncol(X)){\n",
    "        ###Order the rows (ID) of the joined data according to the columns (ID) of the genotype matrix \n",
    "        X_names <- colnames(X)\n",
    "        Y_mat <- as.matrix(Y_df[X_names, ])\n",
    "        rownames(Y_mat) <- X_names\n",
    "        colnames(Y_mat)[1] <- names(y_res)[1]\n",
    "      } else if(nrow(Y_df)<ncol(X)){ ###If the tissue data contains fewer individuals than the genotype data\n",
    "        ###Compute the individuals in common between the tissue data and the genotype data\n",
    "        X_names <- colnames(X)\n",
    "        Y_names <- rownames(Y_df)\n",
    "        in_common <- base::intersect(X_names, Y_names)\n",
    "\n",
    "        ###Extract from the genotype data only the individuals in common between tissue data and the genotype data, and order tissue data according to the genotype data\n",
    "        X <- X[, which(colnames(X) %in% in_common)]\n",
    "        Y_mat <- as.matrix(Y_df[colnames(X), ])\n",
    "        rownames(Y_mat) <- colnames(X)\n",
    "        colnames(Y_mat)[1] <- names(y_res)[1]\n",
    "      } else {\n",
    "          stop(\"Error: There is a problem with IDs\")\n",
    "      } \n",
    "    }\n",
    "    # save\n",
    "    saveRDS(object = list(X = t(X), y = y, Z = Z, y_res = Y_mat), file = ${_output:r})\n",
    "\n",
    "bash: expand = '${ }', workdir = cwd\n",
    "    # remove intermediate files\n",
    "    rm -f ${_genes}_genotype.vcf"
   ]
  },
  {
   "cell_type": "markdown",
   "metadata": {
    "kernel": "SoS"
   },
   "source": [
    "## Fine-mapping with DAP\n",
    "\n",
    "Currently the `dap` step will use a loop to analyze all phenotypes for the gene."
   ]
  },
  {
   "cell_type": "code",
   "execution_count": null,
   "metadata": {
    "kernel": "SoS"
   },
   "outputs": [],
   "source": [
    "[dap]\n",
    "# Extra arguments to pass to DAP\n",
    "parameter: args = ''\n",
    "depends: executable('dap-g'), Py_Module('pandas'), Py_Module('numpy'), R_library('data.table')\n",
    "genes = open(gene_id_file).read().splitlines()\n",
    "input:  [f\"{analysis_ready_dir:a}/{g}.Multi_Tissues.rds\" for g in genes if os.path.isfile(f\"{analysis_ready_dir:a}/{g}.Multi_Tissues.rds\")], group_by = 1\n",
    "output: f'{cwd:a}/dap_output/{_input:bn}.DAP_G.pkl'\n",
    "task: trunk_workers = [2] * 10, trunk_size = 40, walltime = '2h', mem = '6G', cores = 1, tags = f'{step_name}_{_output:bn}'\n",
    "R: expand = '${ }', stderr = f'{_output:n}.stderr', workdir = f'{_output:ad}'\n",
    "\n",
    "    remove_missing = function(x, y) {\n",
    "      return(list(x=x[not_missing,],y=y[not_missing]))\n",
    "    }\n",
    "  \n",
    "    write_data = function(x,y,prefix,group) {\n",
    "      geno = cbind('geno', rownames(x), group, x)\n",
    "      colnames(geno) = rownames(geno) = NULL\n",
    "      pheno = c('pheno', ${_input:bnnr}, group, y)\n",
    "      dat = data.frame(rbind(pheno, geno))\n",
    "      data.table::fwrite(dat, paste0(prefix, \".\", group, \".data\"), sep='\\t', row.names = F, col.names = F, verbose=F)\n",
    "    }\n",
    "\n",
    "    # Prepare DAP-G input\n",
    "    data = readRDS(${_input:r})\n",
    "    prefix = \"${_output:nn}\"\n",
    "    for (group in colnames(data$y_res)) {\n",
    "      not_missing = !is.na(data$y_res[,group])\n",
    "      X = data$X[not_missing,]\n",
    "      y = data$y_res[,group][not_missing]\n",
    "      write_data(t(X), y, prefix, group)\n",
    "    }\n",
    "\n",
    "python: expand = '${ }', stderr = f'{_output:n}.stderr', workdir = f'{_output:ad}'\n",
    "    # Run DAP-G and organize output\n",
    "    import sys\n",
    "    import subprocess\n",
    "    import pandas as pd\n",
    "    import numpy as np\n",
    "\n",
    "    def run_dap_full(data_file, args):\n",
    "        cmd = ['dap-g', '-d', data_file, '-o', f'{data_file:n}.result', '--output_all'] + ' '.join(args).split()\n",
    "        subprocess.Popen(cmd, stdout=subprocess.PIPE, stderr=subprocess.PIPE).communicate()    \n",
    "        # remove the temp data file but keep the output in text format\n",
    "        subprocess.Popen(['rm', '-f', data_file])\n",
    "\n",
    "    def extract_dap_output(data_file):\n",
    "        out = [x.strip().split() for x in open(f'{data_file:n}.result').readlines()]\n",
    "        pips = []\n",
    "        clusters = []\n",
    "        still_pip = True\n",
    "        for line in out:\n",
    "            if len(line) == 0:\n",
    "                continue\n",
    "            if len(line) > 2 and line[2] == 'cluster_pip':\n",
    "                still_pip = False\n",
    "                continue\n",
    "            if still_pip and (not line[0].startswith('((')):\n",
    "                continue\n",
    "            if still_pip:\n",
    "                pips.append([line[1], float(line[2]), float(line[3]), int(line[4])])\n",
    "            else:\n",
    "                clusters.append([len(clusters) + 1, float(line[2]), float(line[3])])\n",
    "        pips = pd.DataFrame(pips, columns = ['snp', 'snp_prob', 'snp_log10bf', 'cluster'])\n",
    "        clusters = pd.DataFrame(clusters, columns = ['cluster', 'cluster_prob', 'cluster_avg_r2'])\n",
    "        clusters = pd.merge(clusters, pips.groupby(['cluster'])['snp'].apply(','.join).reset_index(), on = 'cluster')\n",
    "        return {'snp': pips, 'set': clusters}\n",
    "\n",
    "\n",
    "    def dap_single(data_file, args):\n",
    "        run_dap_full(data_file,args)\n",
    "        return extract_dap_output(data_file)\n",
    "\n",
    "    def dap_batch(files, *args):\n",
    "        return dict([(f'{x:bn}', dap_single(x, args)) for x in files])\n",
    "\n",
    "    import glob\n",
    "    import pickle\n",
    "    from sos.targets import paths\n",
    "    data_files = paths(glob.glob(\"${_output:nn}.*.data\"))\n",
    "    output = dap_batch(data_files, '${args}')\n",
    "\n",
    "    with open(${_output:r}, 'wb') as handle:\n",
    "        pickle.dump(output, handle, protocol=pickle.HIGHEST_PROTOCOL)"
   ]
  }
 ],
 "metadata": {
  "kernelspec": {
   "display_name": "SoS",
   "language": "sos",
   "name": "sos"
  },
  "language_info": {
   "codemirror_mode": "sos",
   "file_extension": ".sos",
   "mimetype": "text/x-sos",
   "name": "sos",
   "nbconvert_exporter": "sos_notebook.converter.SoS_Exporter",
   "pygments_lexer": "sos"
  },
  "sos": {
   "kernels": [
    [
     "Bash",
     "bash",
     "Bash",
     "#E6EEFF",
     ""
    ],
    [
     "R",
     "ir",
     "R",
     "#DCDCDA",
     "r"
    ],
    [
     "SoS",
     "sos",
     "",
     "",
     "sos"
    ]
   ],
   "panel": {
    "displayed": true,
    "height": 0
   },
   "version": "0.20.5"
  },
  "toc": {
   "base_numbering": 1,
   "nav_menu": {},
   "number_sections": true,
   "sideBar": true,
   "skip_h1_title": false,
   "title_cell": "Table of Contents",
   "title_sidebar": "Contents",
   "toc_cell": false,
   "toc_position": {},
   "toc_section_display": true,
   "toc_window_display": false
  }
 },
 "nbformat": 4,
 "nbformat_minor": 4
}
