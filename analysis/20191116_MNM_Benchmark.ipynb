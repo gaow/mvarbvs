{
 "cells": [
  {
   "cell_type": "markdown",
   "metadata": {
    "kernel": "SoS"
   },
   "source": [
    "# M&M benchmark XII\n",
    "\n",
    "This benchmark is an improvments over the [previous one](https://gaow.github.io/mvarbvs/analysis/20191116_MNM_Benchmark.html) with mostly the same setup but hopefully previously observed issues are fixed."
   ]
  },
  {
   "cell_type": "markdown",
   "metadata": {
    "kernel": "SoS"
   },
   "source": [
    "The only major difference in setting is that I removed EZ model from `mmbr` package thus the DSC for it."
   ]
  },
  {
   "cell_type": "markdown",
   "metadata": {
    "kernel": "SoS"
   },
   "source": [
    "## Conclusion"
   ]
  },
  {
   "cell_type": "markdown",
   "metadata": {
    "kernel": "SoS"
   },
   "source": [
    "The corresponding DSC code are from `ee50493` and to be reproduced as follows:\n",
    "\n",
    "```\n",
    "./finemap.dsc --host dsc_mnm.yml -o mnm_20191209\n",
    "```"
   ]
  },
  {
   "cell_type": "code",
   "execution_count": 1,
   "metadata": {
    "kernel": "SoS"
   },
   "outputs": [
    {
     "name": "stdout",
     "output_type": "stream",
     "text": [
      "/project2/mstephens/gaow/mvarbvs/dsc_mnm"
     ]
    }
   ],
   "source": [
    "%cd ~/GIT/mvarbvs/dsc_mnm"
   ]
  },
  {
   "cell_type": "code",
   "execution_count": 2,
   "metadata": {
    "kernel": "R"
   },
   "outputs": [],
   "source": [
    "out = dscrutils::dscquery('mnm_20191209', targets = c('simulate.n_traits', 'mnm', 'mnm.resid_method', 'mnm.L', \n",
    "                                                      'susie_scores', 'susie_scores.total', 'susie_scores.valid', 'susie_scores.size', \n",
    "                                                      'susie_scores.purity', 'susie_scores.top', 'susie_scores.n_causal', 'susie_scores.included_causal', \n",
    "                                                      'susie_scores.overlap_var', 'susie_scores.overlap_cs','susie_scores.false_pos_cond_discoveries', \n",
    "                                                      'susie_scores.false_neg_cond_discoveries', 'susie_scores.true_cond_discoveries', 'susie_scores.converged'),\n",
    "                          module.output.files = \"susie_scores\", verbose = F)"
   ]
  },
  {
   "cell_type": "code",
   "execution_count": 4,
   "metadata": {
    "kernel": "R"
   },
   "outputs": [
    {
     "data": {
      "text/html": [
       "<ol class=list-inline>\n",
       "\t<li>15000</li>\n",
       "\t<li>19</li>\n",
       "</ol>\n"
      ],
      "text/latex": [
       "\\begin{enumerate*}\n",
       "\\item 15000\n",
       "\\item 19\n",
       "\\end{enumerate*}\n"
      ],
      "text/markdown": [
       "1. 15000\n",
       "2. 19\n",
       "\n",
       "\n"
      ],
      "text/plain": [
       "[1] 15000    19"
      ]
     },
     "metadata": {},
     "output_type": "display_data"
    }
   ],
   "source": [
    "dim(out)"
   ]
  },
  {
   "cell_type": "code",
   "execution_count": 5,
   "metadata": {
    "kernel": "R"
   },
   "outputs": [],
   "source": [
    "saveRDS(out, '../data/finemap_output.20191209.rds')"
   ]
  },
  {
   "cell_type": "code",
   "execution_count": 8,
   "metadata": {
    "kernel": "R"
   },
   "outputs": [],
   "source": [
    "out$missing = out$mnm\n",
    "out$missing[which(out$missing=='mnm_high_het')] = FALSE\n",
    "out$missing[which(out$missing=='mnm_high_het_missing')] = TRUE\n",
    "out$mnm = NULL"
   ]
  },
  {
   "cell_type": "code",
   "execution_count": 9,
   "metadata": {
    "kernel": "R"
   },
   "outputs": [
    {
     "data": {
      "text/html": [
       "<table>\n",
       "<thead><tr><th scope=col>DSC</th><th scope=col>simulate.n_traits</th><th scope=col>mnm.resid_method</th><th scope=col>mnm.L</th><th scope=col>susie_scores.total</th><th scope=col>susie_scores.valid</th><th scope=col>susie_scores.size</th><th scope=col>susie_scores.purity</th><th scope=col>susie_scores.top</th><th scope=col>susie_scores.n_causal</th><th scope=col>susie_scores.included_causal</th><th scope=col>susie_scores.overlap_var</th><th scope=col>susie_scores.overlap_cs</th><th scope=col>susie_scores.false_pos_cond_discoveries</th><th scope=col>susie_scores.false_neg_cond_discoveries</th><th scope=col>susie_scores.true_cond_discoveries</th><th scope=col>susie_scores.converged</th><th scope=col>susie_scores.output.file</th><th scope=col>missing</th></tr></thead>\n",
       "<tbody>\n",
       "\t<tr><td>1                                                                                   </td><td>5                                                                                   </td><td>oracle                                                                              </td><td>1                                                                                   </td><td>1                                                                                   </td><td>1                                                                                   </td><td> 1                                                                                  </td><td>1.0000000                                                                           </td><td>1                                                                                   </td><td>1                                                                                   </td><td>1                                                                                   </td><td>0                                                                                   </td><td>0                                                                                   </td><td>0                                                                                   </td><td>0                                                                                   </td><td>5                                                                                   </td><td> TRUE                                                                               </td><td>susie_scores/full_data_1_high_het_1_oracle_generator_1_mnm_high_het_1_susie_scores_1</td><td>FALSE                                                                               </td></tr>\n",
       "\t<tr><td>1                                                                                   </td><td>5                                                                                   </td><td>oracle                                                                              </td><td>1                                                                                   </td><td>1                                                                                   </td><td>1                                                                                   </td><td> 1                                                                                  </td><td>1.0000000                                                                           </td><td>1                                                                                   </td><td>1                                                                                   </td><td>1                                                                                   </td><td>0                                                                                   </td><td>0                                                                                   </td><td>0                                                                                   </td><td>0                                                                                   </td><td>5                                                                                   </td><td> TRUE                                                                               </td><td>susie_scores/full_data_2_high_het_1_oracle_generator_1_mnm_high_het_1_susie_scores_1</td><td>FALSE                                                                               </td></tr>\n",
       "\t<tr><td>1                                                                                   </td><td>5                                                                                   </td><td>oracle                                                                              </td><td>1                                                                                   </td><td>1                                                                                   </td><td>1                                                                                   </td><td> 1                                                                                  </td><td>1.0000000                                                                           </td><td>1                                                                                   </td><td>1                                                                                   </td><td>1                                                                                   </td><td>0                                                                                   </td><td>0                                                                                   </td><td>0                                                                                   </td><td>0                                                                                   </td><td>5                                                                                   </td><td> TRUE                                                                               </td><td>susie_scores/full_data_3_high_het_1_oracle_generator_1_mnm_high_het_1_susie_scores_1</td><td>FALSE                                                                               </td></tr>\n",
       "\t<tr><td>1                                                                                   </td><td>5                                                                                   </td><td>oracle                                                                              </td><td>1                                                                                   </td><td>1                                                                                   </td><td>1                                                                                   </td><td>12                                                                                  </td><td>0.9883042                                                                           </td><td>0                                                                                   </td><td>1                                                                                   </td><td>1                                                                                   </td><td>0                                                                                   </td><td>0                                                                                   </td><td>0                                                                                   </td><td>0                                                                                   </td><td>5                                                                                   </td><td> TRUE                                                                               </td><td>susie_scores/full_data_4_high_het_1_oracle_generator_1_mnm_high_het_1_susie_scores_1</td><td>FALSE                                                                               </td></tr>\n",
       "\t<tr><td>1                                                                                   </td><td>5                                                                                   </td><td>oracle                                                                              </td><td>1                                                                                   </td><td>1                                                                                   </td><td>1                                                                                   </td><td>22                                                                                  </td><td>1.0000000                                                                           </td><td>0                                                                                   </td><td>1                                                                                   </td><td>1                                                                                   </td><td>0                                                                                   </td><td>0                                                                                   </td><td>0                                                                                   </td><td>0                                                                                   </td><td>5                                                                                   </td><td> TRUE                                                                               </td><td>susie_scores/full_data_5_high_het_1_oracle_generator_1_mnm_high_het_1_susie_scores_1</td><td>FALSE                                                                               </td></tr>\n",
       "\t<tr><td>1                                                                                   </td><td>5                                                                                   </td><td>oracle                                                                              </td><td>1                                                                                   </td><td>1                                                                                   </td><td>1                                                                                   </td><td> 1                                                                                  </td><td>1.0000000                                                                           </td><td>1                                                                                   </td><td>1                                                                                   </td><td>1                                                                                   </td><td>0                                                                                   </td><td>0                                                                                   </td><td>0                                                                                   </td><td>0                                                                                   </td><td>5                                                                                   </td><td>FALSE                                                                               </td><td>susie_scores/full_data_6_high_het_1_oracle_generator_1_mnm_high_het_1_susie_scores_1</td><td>FALSE                                                                               </td></tr>\n",
       "</tbody>\n",
       "</table>\n"
      ],
      "text/latex": [
       "\\begin{tabular}{r|lllllllllllllllllll}\n",
       " DSC & simulate.n\\_traits & mnm.resid\\_method & mnm.L & susie\\_scores.total & susie\\_scores.valid & susie\\_scores.size & susie\\_scores.purity & susie\\_scores.top & susie\\_scores.n\\_causal & susie\\_scores.included\\_causal & susie\\_scores.overlap\\_var & susie\\_scores.overlap\\_cs & susie\\_scores.false\\_pos\\_cond\\_discoveries & susie\\_scores.false\\_neg\\_cond\\_discoveries & susie\\_scores.true\\_cond\\_discoveries & susie\\_scores.converged & susie\\_scores.output.file & missing\\\\\n",
       "\\hline\n",
       "\t 1                                                                                                                    & 5                                                                                                                    & oracle                                                                                                               & 1                                                                                                                    & 1                                                                                                                    & 1                                                                                                                    &  1                                                                                                                   & 1.0000000                                                                                                            & 1                                                                                                                    & 1                                                                                                                    & 1                                                                                                                    & 0                                                                                                                    & 0                                                                                                                    & 0                                                                                                                    & 0                                                                                                                    & 5                                                                                                                    &  TRUE                                                                                                                & susie\\_scores/full\\_data\\_1\\_high\\_het\\_1\\_oracle\\_generator\\_1\\_mnm\\_high\\_het\\_1\\_susie\\_scores\\_1 & FALSE                                                                                                               \\\\\n",
       "\t 1                                                                                                                    & 5                                                                                                                    & oracle                                                                                                               & 1                                                                                                                    & 1                                                                                                                    & 1                                                                                                                    &  1                                                                                                                   & 1.0000000                                                                                                            & 1                                                                                                                    & 1                                                                                                                    & 1                                                                                                                    & 0                                                                                                                    & 0                                                                                                                    & 0                                                                                                                    & 0                                                                                                                    & 5                                                                                                                    &  TRUE                                                                                                                & susie\\_scores/full\\_data\\_2\\_high\\_het\\_1\\_oracle\\_generator\\_1\\_mnm\\_high\\_het\\_1\\_susie\\_scores\\_1 & FALSE                                                                                                               \\\\\n",
       "\t 1                                                                                                                    & 5                                                                                                                    & oracle                                                                                                               & 1                                                                                                                    & 1                                                                                                                    & 1                                                                                                                    &  1                                                                                                                   & 1.0000000                                                                                                            & 1                                                                                                                    & 1                                                                                                                    & 1                                                                                                                    & 0                                                                                                                    & 0                                                                                                                    & 0                                                                                                                    & 0                                                                                                                    & 5                                                                                                                    &  TRUE                                                                                                                & susie\\_scores/full\\_data\\_3\\_high\\_het\\_1\\_oracle\\_generator\\_1\\_mnm\\_high\\_het\\_1\\_susie\\_scores\\_1 & FALSE                                                                                                               \\\\\n",
       "\t 1                                                                                                                    & 5                                                                                                                    & oracle                                                                                                               & 1                                                                                                                    & 1                                                                                                                    & 1                                                                                                                    & 12                                                                                                                   & 0.9883042                                                                                                            & 0                                                                                                                    & 1                                                                                                                    & 1                                                                                                                    & 0                                                                                                                    & 0                                                                                                                    & 0                                                                                                                    & 0                                                                                                                    & 5                                                                                                                    &  TRUE                                                                                                                & susie\\_scores/full\\_data\\_4\\_high\\_het\\_1\\_oracle\\_generator\\_1\\_mnm\\_high\\_het\\_1\\_susie\\_scores\\_1 & FALSE                                                                                                               \\\\\n",
       "\t 1                                                                                                                    & 5                                                                                                                    & oracle                                                                                                               & 1                                                                                                                    & 1                                                                                                                    & 1                                                                                                                    & 22                                                                                                                   & 1.0000000                                                                                                            & 0                                                                                                                    & 1                                                                                                                    & 1                                                                                                                    & 0                                                                                                                    & 0                                                                                                                    & 0                                                                                                                    & 0                                                                                                                    & 5                                                                                                                    &  TRUE                                                                                                                & susie\\_scores/full\\_data\\_5\\_high\\_het\\_1\\_oracle\\_generator\\_1\\_mnm\\_high\\_het\\_1\\_susie\\_scores\\_1 & FALSE                                                                                                               \\\\\n",
       "\t 1                                                                                                                    & 5                                                                                                                    & oracle                                                                                                               & 1                                                                                                                    & 1                                                                                                                    & 1                                                                                                                    &  1                                                                                                                   & 1.0000000                                                                                                            & 1                                                                                                                    & 1                                                                                                                    & 1                                                                                                                    & 0                                                                                                                    & 0                                                                                                                    & 0                                                                                                                    & 0                                                                                                                    & 5                                                                                                                    & FALSE                                                                                                                & susie\\_scores/full\\_data\\_6\\_high\\_het\\_1\\_oracle\\_generator\\_1\\_mnm\\_high\\_het\\_1\\_susie\\_scores\\_1 & FALSE                                                                                                               \\\\\n",
       "\\end{tabular}\n"
      ],
      "text/markdown": [
       "\n",
       "DSC | simulate.n_traits | mnm.resid_method | mnm.L | susie_scores.total | susie_scores.valid | susie_scores.size | susie_scores.purity | susie_scores.top | susie_scores.n_causal | susie_scores.included_causal | susie_scores.overlap_var | susie_scores.overlap_cs | susie_scores.false_pos_cond_discoveries | susie_scores.false_neg_cond_discoveries | susie_scores.true_cond_discoveries | susie_scores.converged | susie_scores.output.file | missing | \n",
       "|---|---|---|---|---|---|\n",
       "| 1                                                                                    | 5                                                                                    | oracle                                                                               | 1                                                                                    | 1                                                                                    | 1                                                                                    |  1                                                                                   | 1.0000000                                                                            | 1                                                                                    | 1                                                                                    | 1                                                                                    | 0                                                                                    | 0                                                                                    | 0                                                                                    | 0                                                                                    | 5                                                                                    |  TRUE                                                                                | susie_scores/full_data_1_high_het_1_oracle_generator_1_mnm_high_het_1_susie_scores_1 | FALSE                                                                                | \n",
       "| 1                                                                                    | 5                                                                                    | oracle                                                                               | 1                                                                                    | 1                                                                                    | 1                                                                                    |  1                                                                                   | 1.0000000                                                                            | 1                                                                                    | 1                                                                                    | 1                                                                                    | 0                                                                                    | 0                                                                                    | 0                                                                                    | 0                                                                                    | 5                                                                                    |  TRUE                                                                                | susie_scores/full_data_2_high_het_1_oracle_generator_1_mnm_high_het_1_susie_scores_1 | FALSE                                                                                | \n",
       "| 1                                                                                    | 5                                                                                    | oracle                                                                               | 1                                                                                    | 1                                                                                    | 1                                                                                    |  1                                                                                   | 1.0000000                                                                            | 1                                                                                    | 1                                                                                    | 1                                                                                    | 0                                                                                    | 0                                                                                    | 0                                                                                    | 0                                                                                    | 5                                                                                    |  TRUE                                                                                | susie_scores/full_data_3_high_het_1_oracle_generator_1_mnm_high_het_1_susie_scores_1 | FALSE                                                                                | \n",
       "| 1                                                                                    | 5                                                                                    | oracle                                                                               | 1                                                                                    | 1                                                                                    | 1                                                                                    | 12                                                                                   | 0.9883042                                                                            | 0                                                                                    | 1                                                                                    | 1                                                                                    | 0                                                                                    | 0                                                                                    | 0                                                                                    | 0                                                                                    | 5                                                                                    |  TRUE                                                                                | susie_scores/full_data_4_high_het_1_oracle_generator_1_mnm_high_het_1_susie_scores_1 | FALSE                                                                                | \n",
       "| 1                                                                                    | 5                                                                                    | oracle                                                                               | 1                                                                                    | 1                                                                                    | 1                                                                                    | 22                                                                                   | 1.0000000                                                                            | 0                                                                                    | 1                                                                                    | 1                                                                                    | 0                                                                                    | 0                                                                                    | 0                                                                                    | 0                                                                                    | 5                                                                                    |  TRUE                                                                                | susie_scores/full_data_5_high_het_1_oracle_generator_1_mnm_high_het_1_susie_scores_1 | FALSE                                                                                | \n",
       "| 1                                                                                    | 5                                                                                    | oracle                                                                               | 1                                                                                    | 1                                                                                    | 1                                                                                    |  1                                                                                   | 1.0000000                                                                            | 1                                                                                    | 1                                                                                    | 1                                                                                    | 0                                                                                    | 0                                                                                    | 0                                                                                    | 0                                                                                    | 5                                                                                    | FALSE                                                                                | susie_scores/full_data_6_high_het_1_oracle_generator_1_mnm_high_het_1_susie_scores_1 | FALSE                                                                                | \n",
       "\n",
       "\n"
      ],
      "text/plain": [
       "  DSC simulate.n_traits mnm.resid_method mnm.L susie_scores.total\n",
       "1 1   5                 oracle           1     1                 \n",
       "2 1   5                 oracle           1     1                 \n",
       "3 1   5                 oracle           1     1                 \n",
       "4 1   5                 oracle           1     1                 \n",
       "5 1   5                 oracle           1     1                 \n",
       "6 1   5                 oracle           1     1                 \n",
       "  susie_scores.valid susie_scores.size susie_scores.purity susie_scores.top\n",
       "1 1                   1                1.0000000           1               \n",
       "2 1                   1                1.0000000           1               \n",
       "3 1                   1                1.0000000           1               \n",
       "4 1                  12                0.9883042           0               \n",
       "5 1                  22                1.0000000           0               \n",
       "6 1                   1                1.0000000           1               \n",
       "  susie_scores.n_causal susie_scores.included_causal susie_scores.overlap_var\n",
       "1 1                     1                            0                       \n",
       "2 1                     1                            0                       \n",
       "3 1                     1                            0                       \n",
       "4 1                     1                            0                       \n",
       "5 1                     1                            0                       \n",
       "6 1                     1                            0                       \n",
       "  susie_scores.overlap_cs susie_scores.false_pos_cond_discoveries\n",
       "1 0                       0                                      \n",
       "2 0                       0                                      \n",
       "3 0                       0                                      \n",
       "4 0                       0                                      \n",
       "5 0                       0                                      \n",
       "6 0                       0                                      \n",
       "  susie_scores.false_neg_cond_discoveries susie_scores.true_cond_discoveries\n",
       "1 0                                       5                                 \n",
       "2 0                                       5                                 \n",
       "3 0                                       5                                 \n",
       "4 0                                       5                                 \n",
       "5 0                                       5                                 \n",
       "6 0                                       5                                 \n",
       "  susie_scores.converged\n",
       "1  TRUE                 \n",
       "2  TRUE                 \n",
       "3  TRUE                 \n",
       "4  TRUE                 \n",
       "5  TRUE                 \n",
       "6 FALSE                 \n",
       "  susie_scores.output.file                                                            \n",
       "1 susie_scores/full_data_1_high_het_1_oracle_generator_1_mnm_high_het_1_susie_scores_1\n",
       "2 susie_scores/full_data_2_high_het_1_oracle_generator_1_mnm_high_het_1_susie_scores_1\n",
       "3 susie_scores/full_data_3_high_het_1_oracle_generator_1_mnm_high_het_1_susie_scores_1\n",
       "4 susie_scores/full_data_4_high_het_1_oracle_generator_1_mnm_high_het_1_susie_scores_1\n",
       "5 susie_scores/full_data_5_high_het_1_oracle_generator_1_mnm_high_het_1_susie_scores_1\n",
       "6 susie_scores/full_data_6_high_het_1_oracle_generator_1_mnm_high_het_1_susie_scores_1\n",
       "  missing\n",
       "1 FALSE  \n",
       "2 FALSE  \n",
       "3 FALSE  \n",
       "4 FALSE  \n",
       "5 FALSE  \n",
       "6 FALSE  "
      ]
     },
     "metadata": {},
     "output_type": "display_data"
    }
   ],
   "source": [
    "head(out)"
   ]
  },
  {
   "cell_type": "code",
   "execution_count": 17,
   "metadata": {
    "kernel": "R"
   },
   "outputs": [],
   "source": [
    "res = out[,-1]\n",
    "colnames(res) = c('n_traits', 'resid_method', 'L', 'total', 'valid', 'size', 'purity', 'top_hit', 'total_true', 'total_true_included', 'overlap_var', 'overlap_cs', 'false_positive_cross_cond', 'false_negative_cross_cond', 'true_positive_cross_cond', 'converged', 'filename', 'missing')"
   ]
  },
  {
   "cell_type": "markdown",
   "metadata": {
    "kernel": "R"
   },
   "source": [
    "### Purity of CS"
   ]
  },
  {
   "cell_type": "code",
   "execution_count": 18,
   "metadata": {
    "kernel": "R"
   },
   "outputs": [
    {
     "data": {
      "text/html": [
       "<table>\n",
       "<thead><tr><th></th><th scope=col>n_traits</th><th scope=col>resid_method</th><th scope=col>missing</th><th scope=col>L</th><th scope=col>purity</th></tr></thead>\n",
       "<tbody>\n",
       "\t<tr><th scope=row>1</th><td> 5       </td><td>diag     </td><td>FALSE    </td><td> 1       </td><td>0.9950368</td></tr>\n",
       "\t<tr><th scope=row>3</th><td> 5       </td><td>flash    </td><td>FALSE    </td><td> 1       </td><td>0.9936965</td></tr>\n",
       "\t<tr><th scope=row>5</th><td> 5       </td><td>oracle   </td><td>FALSE    </td><td> 1       </td><td>0.9953622</td></tr>\n",
       "\t<tr><th scope=row>7</th><td> 5       </td><td>diag     </td><td>TRUE     </td><td> 1       </td><td>0.9853424</td></tr>\n",
       "\t<tr><th scope=row>9</th><td> 5       </td><td>flash    </td><td>TRUE     </td><td> 1       </td><td>0.9852914</td></tr>\n",
       "\t<tr><th scope=row>11</th><td> 5       </td><td>diag     </td><td>FALSE    </td><td> 2       </td><td>0.9949696</td></tr>\n",
       "\t<tr><th scope=row>13</th><td> 5       </td><td>flash    </td><td>FALSE    </td><td> 2       </td><td>0.9934708</td></tr>\n",
       "\t<tr><th scope=row>15</th><td> 5       </td><td>oracle   </td><td>FALSE    </td><td> 2       </td><td>0.9950214</td></tr>\n",
       "\t<tr><th scope=row>17</th><td> 5       </td><td>diag     </td><td>TRUE     </td><td> 2       </td><td>0.9853550</td></tr>\n",
       "\t<tr><th scope=row>19</th><td> 5       </td><td>flash    </td><td>TRUE     </td><td> 2       </td><td>0.9853039</td></tr>\n",
       "\t<tr><th scope=row>21</th><td> 5       </td><td>diag     </td><td>FALSE    </td><td>10       </td><td>0.9949696</td></tr>\n",
       "\t<tr><th scope=row>23</th><td> 5       </td><td>flash    </td><td>FALSE    </td><td>10       </td><td>0.9934708</td></tr>\n",
       "\t<tr><th scope=row>25</th><td> 5       </td><td>oracle   </td><td>FALSE    </td><td>10       </td><td>0.9950214</td></tr>\n",
       "\t<tr><th scope=row>27</th><td> 5       </td><td>diag     </td><td>TRUE     </td><td>10       </td><td>0.9853550</td></tr>\n",
       "\t<tr><th scope=row>29</th><td> 5       </td><td>flash    </td><td>TRUE     </td><td>10       </td><td>0.9853039</td></tr>\n",
       "\t<tr><th scope=row>2</th><td>45       </td><td>diag     </td><td>FALSE    </td><td> 1       </td><td>0.9999438</td></tr>\n",
       "\t<tr><th scope=row>4</th><td>45       </td><td>flash    </td><td>FALSE    </td><td> 1       </td><td>0.9946040</td></tr>\n",
       "\t<tr><th scope=row>6</th><td>45       </td><td>oracle   </td><td>FALSE    </td><td> 1       </td><td>0.9999487</td></tr>\n",
       "\t<tr><th scope=row>8</th><td>45       </td><td>diag     </td><td>TRUE     </td><td> 1       </td><td>0.9989562</td></tr>\n",
       "\t<tr><th scope=row>10</th><td>45       </td><td>flash    </td><td>TRUE     </td><td> 1       </td><td>0.9959553</td></tr>\n",
       "\t<tr><th scope=row>12</th><td>45       </td><td>diag     </td><td>FALSE    </td><td> 2       </td><td>0.9999438</td></tr>\n",
       "\t<tr><th scope=row>14</th><td>45       </td><td>flash    </td><td>FALSE    </td><td> 2       </td><td>0.9946040</td></tr>\n",
       "\t<tr><th scope=row>16</th><td>45       </td><td>oracle   </td><td>FALSE    </td><td> 2       </td><td>0.9999487</td></tr>\n",
       "\t<tr><th scope=row>18</th><td>45       </td><td>diag     </td><td>TRUE     </td><td> 2       </td><td>0.9989562</td></tr>\n",
       "\t<tr><th scope=row>20</th><td>45       </td><td>flash    </td><td>TRUE     </td><td> 2       </td><td>0.9959553</td></tr>\n",
       "\t<tr><th scope=row>22</th><td>45       </td><td>diag     </td><td>FALSE    </td><td>10       </td><td>0.9999438</td></tr>\n",
       "\t<tr><th scope=row>24</th><td>45       </td><td>flash    </td><td>FALSE    </td><td>10       </td><td>0.9946040</td></tr>\n",
       "\t<tr><th scope=row>26</th><td>45       </td><td>oracle   </td><td>FALSE    </td><td>10       </td><td>0.9999487</td></tr>\n",
       "\t<tr><th scope=row>28</th><td>45       </td><td>diag     </td><td>TRUE     </td><td>10       </td><td>0.9989562</td></tr>\n",
       "\t<tr><th scope=row>30</th><td>45       </td><td>flash    </td><td>TRUE     </td><td>10       </td><td>0.9959553</td></tr>\n",
       "</tbody>\n",
       "</table>\n"
      ],
      "text/latex": [
       "\\begin{tabular}{r|lllll}\n",
       "  & n\\_traits & resid\\_method & missing & L & purity\\\\\n",
       "\\hline\n",
       "\t1 &  5        & diag      & FALSE     &  1        & 0.9950368\\\\\n",
       "\t3 &  5        & flash     & FALSE     &  1        & 0.9936965\\\\\n",
       "\t5 &  5        & oracle    & FALSE     &  1        & 0.9953622\\\\\n",
       "\t7 &  5        & diag      & TRUE      &  1        & 0.9853424\\\\\n",
       "\t9 &  5        & flash     & TRUE      &  1        & 0.9852914\\\\\n",
       "\t11 &  5        & diag      & FALSE     &  2        & 0.9949696\\\\\n",
       "\t13 &  5        & flash     & FALSE     &  2        & 0.9934708\\\\\n",
       "\t15 &  5        & oracle    & FALSE     &  2        & 0.9950214\\\\\n",
       "\t17 &  5        & diag      & TRUE      &  2        & 0.9853550\\\\\n",
       "\t19 &  5        & flash     & TRUE      &  2        & 0.9853039\\\\\n",
       "\t21 &  5        & diag      & FALSE     & 10        & 0.9949696\\\\\n",
       "\t23 &  5        & flash     & FALSE     & 10        & 0.9934708\\\\\n",
       "\t25 &  5        & oracle    & FALSE     & 10        & 0.9950214\\\\\n",
       "\t27 &  5        & diag      & TRUE      & 10        & 0.9853550\\\\\n",
       "\t29 &  5        & flash     & TRUE      & 10        & 0.9853039\\\\\n",
       "\t2 & 45        & diag      & FALSE     &  1        & 0.9999438\\\\\n",
       "\t4 & 45        & flash     & FALSE     &  1        & 0.9946040\\\\\n",
       "\t6 & 45        & oracle    & FALSE     &  1        & 0.9999487\\\\\n",
       "\t8 & 45        & diag      & TRUE      &  1        & 0.9989562\\\\\n",
       "\t10 & 45        & flash     & TRUE      &  1        & 0.9959553\\\\\n",
       "\t12 & 45        & diag      & FALSE     &  2        & 0.9999438\\\\\n",
       "\t14 & 45        & flash     & FALSE     &  2        & 0.9946040\\\\\n",
       "\t16 & 45        & oracle    & FALSE     &  2        & 0.9999487\\\\\n",
       "\t18 & 45        & diag      & TRUE      &  2        & 0.9989562\\\\\n",
       "\t20 & 45        & flash     & TRUE      &  2        & 0.9959553\\\\\n",
       "\t22 & 45        & diag      & FALSE     & 10        & 0.9999438\\\\\n",
       "\t24 & 45        & flash     & FALSE     & 10        & 0.9946040\\\\\n",
       "\t26 & 45        & oracle    & FALSE     & 10        & 0.9999487\\\\\n",
       "\t28 & 45        & diag      & TRUE      & 10        & 0.9989562\\\\\n",
       "\t30 & 45        & flash     & TRUE      & 10        & 0.9959553\\\\\n",
       "\\end{tabular}\n"
      ],
      "text/markdown": [
       "\n",
       "| <!--/--> | n_traits | resid_method | missing | L | purity | \n",
       "|---|---|---|---|---|---|---|---|---|---|---|---|---|---|---|---|---|---|---|---|---|---|---|---|---|---|---|---|---|---|\n",
       "| 1 |  5        | diag      | FALSE     |  1        | 0.9950368 | \n",
       "| 3 |  5        | flash     | FALSE     |  1        | 0.9936965 | \n",
       "| 5 |  5        | oracle    | FALSE     |  1        | 0.9953622 | \n",
       "| 7 |  5        | diag      | TRUE      |  1        | 0.9853424 | \n",
       "| 9 |  5        | flash     | TRUE      |  1        | 0.9852914 | \n",
       "| 11 |  5        | diag      | FALSE     |  2        | 0.9949696 | \n",
       "| 13 |  5        | flash     | FALSE     |  2        | 0.9934708 | \n",
       "| 15 |  5        | oracle    | FALSE     |  2        | 0.9950214 | \n",
       "| 17 |  5        | diag      | TRUE      |  2        | 0.9853550 | \n",
       "| 19 |  5        | flash     | TRUE      |  2        | 0.9853039 | \n",
       "| 21 |  5        | diag      | FALSE     | 10        | 0.9949696 | \n",
       "| 23 |  5        | flash     | FALSE     | 10        | 0.9934708 | \n",
       "| 25 |  5        | oracle    | FALSE     | 10        | 0.9950214 | \n",
       "| 27 |  5        | diag      | TRUE      | 10        | 0.9853550 | \n",
       "| 29 |  5        | flash     | TRUE      | 10        | 0.9853039 | \n",
       "| 2 | 45        | diag      | FALSE     |  1        | 0.9999438 | \n",
       "| 4 | 45        | flash     | FALSE     |  1        | 0.9946040 | \n",
       "| 6 | 45        | oracle    | FALSE     |  1        | 0.9999487 | \n",
       "| 8 | 45        | diag      | TRUE      |  1        | 0.9989562 | \n",
       "| 10 | 45        | flash     | TRUE      |  1        | 0.9959553 | \n",
       "| 12 | 45        | diag      | FALSE     |  2        | 0.9999438 | \n",
       "| 14 | 45        | flash     | FALSE     |  2        | 0.9946040 | \n",
       "| 16 | 45        | oracle    | FALSE     |  2        | 0.9999487 | \n",
       "| 18 | 45        | diag      | TRUE      |  2        | 0.9989562 | \n",
       "| 20 | 45        | flash     | TRUE      |  2        | 0.9959553 | \n",
       "| 22 | 45        | diag      | FALSE     | 10        | 0.9999438 | \n",
       "| 24 | 45        | flash     | FALSE     | 10        | 0.9946040 | \n",
       "| 26 | 45        | oracle    | FALSE     | 10        | 0.9999487 | \n",
       "| 28 | 45        | diag      | TRUE      | 10        | 0.9989562 | \n",
       "| 30 | 45        | flash     | TRUE      | 10        | 0.9959553 | \n",
       "\n",
       "\n"
      ],
      "text/plain": [
       "   n_traits resid_method missing L  purity   \n",
       "1   5       diag         FALSE    1 0.9950368\n",
       "3   5       flash        FALSE    1 0.9936965\n",
       "5   5       oracle       FALSE    1 0.9953622\n",
       "7   5       diag         TRUE     1 0.9853424\n",
       "9   5       flash        TRUE     1 0.9852914\n",
       "11  5       diag         FALSE    2 0.9949696\n",
       "13  5       flash        FALSE    2 0.9934708\n",
       "15  5       oracle       FALSE    2 0.9950214\n",
       "17  5       diag         TRUE     2 0.9853550\n",
       "19  5       flash        TRUE     2 0.9853039\n",
       "21  5       diag         FALSE   10 0.9949696\n",
       "23  5       flash        FALSE   10 0.9934708\n",
       "25  5       oracle       FALSE   10 0.9950214\n",
       "27  5       diag         TRUE    10 0.9853550\n",
       "29  5       flash        TRUE    10 0.9853039\n",
       "2  45       diag         FALSE    1 0.9999438\n",
       "4  45       flash        FALSE    1 0.9946040\n",
       "6  45       oracle       FALSE    1 0.9999487\n",
       "8  45       diag         TRUE     1 0.9989562\n",
       "10 45       flash        TRUE     1 0.9959553\n",
       "12 45       diag         FALSE    2 0.9999438\n",
       "14 45       flash        FALSE    2 0.9946040\n",
       "16 45       oracle       FALSE    2 0.9999487\n",
       "18 45       diag         TRUE     2 0.9989562\n",
       "20 45       flash        TRUE     2 0.9959553\n",
       "22 45       diag         FALSE   10 0.9999438\n",
       "24 45       flash        FALSE   10 0.9946040\n",
       "26 45       oracle       FALSE   10 0.9999487\n",
       "28 45       diag         TRUE    10 0.9989562\n",
       "30 45       flash        TRUE    10 0.9959553"
      ]
     },
     "metadata": {},
     "output_type": "display_data"
    }
   ],
   "source": [
    "purity = aggregate(purity~n_traits + resid_method + missing + L, res, mean)\n",
    "purity = purity[order(purity$n_traits),]\n",
    "purity"
   ]
  },
  {
   "cell_type": "markdown",
   "metadata": {
    "kernel": "R"
   },
   "source": [
    "### Power of CS"
   ]
  },
  {
   "cell_type": "code",
   "execution_count": 19,
   "metadata": {
    "kernel": "R"
   },
   "outputs": [
    {
     "data": {
      "text/html": [
       "<table>\n",
       "<thead><tr><th></th><th scope=col>n_traits</th><th scope=col>resid_method</th><th scope=col>missing</th><th scope=col>L</th><th scope=col>total_true_included</th><th scope=col>total_true</th><th scope=col>overlap_cs</th><th scope=col>overlap_var</th><th scope=col>power</th></tr></thead>\n",
       "<tbody>\n",
       "\t<tr><th scope=row>16</th><td> 5    </td><td>diag  </td><td>FALSE </td><td> 1    </td><td>495   </td><td>500   </td><td>0     </td><td>0     </td><td>0.990 </td></tr>\n",
       "\t<tr><th scope=row>22</th><td> 5    </td><td>flash </td><td>FALSE </td><td> 1    </td><td>497   </td><td>500   </td><td>0     </td><td>0     </td><td>0.994 </td></tr>\n",
       "\t<tr><th scope=row>28</th><td> 5    </td><td>oracle</td><td>FALSE </td><td> 1    </td><td>495   </td><td>500   </td><td>0     </td><td>0     </td><td>0.990 </td></tr>\n",
       "\t<tr><th scope=row>1</th><td>45    </td><td>diag  </td><td>FALSE </td><td> 1    </td><td>500   </td><td>500   </td><td>0     </td><td>0     </td><td>1.000 </td></tr>\n",
       "\t<tr><th scope=row>7</th><td>45    </td><td>flash </td><td>FALSE </td><td> 1    </td><td>498   </td><td>500   </td><td>0     </td><td>0     </td><td>0.996 </td></tr>\n",
       "\t<tr><th scope=row>13</th><td>45    </td><td>oracle</td><td>FALSE </td><td> 1    </td><td>500   </td><td>500   </td><td>0     </td><td>0     </td><td>1.000 </td></tr>\n",
       "\t<tr><th scope=row>18</th><td> 5    </td><td>diag  </td><td>FALSE </td><td> 2    </td><td>495   </td><td>500   </td><td>0     </td><td>0     </td><td>0.990 </td></tr>\n",
       "\t<tr><th scope=row>24</th><td> 5    </td><td>flash </td><td>FALSE </td><td> 2    </td><td>497   </td><td>500   </td><td>0     </td><td>0     </td><td>0.994 </td></tr>\n",
       "\t<tr><th scope=row>30</th><td> 5    </td><td>oracle</td><td>FALSE </td><td> 2    </td><td>495   </td><td>500   </td><td>0     </td><td>0     </td><td>0.990 </td></tr>\n",
       "\t<tr><th scope=row>3</th><td>45    </td><td>diag  </td><td>FALSE </td><td> 2    </td><td>500   </td><td>500   </td><td>0     </td><td>0     </td><td>1.000 </td></tr>\n",
       "\t<tr><th scope=row>9</th><td>45    </td><td>flash </td><td>FALSE </td><td> 2    </td><td>498   </td><td>500   </td><td>0     </td><td>0     </td><td>0.996 </td></tr>\n",
       "\t<tr><th scope=row>15</th><td>45    </td><td>oracle</td><td>FALSE </td><td> 2    </td><td>500   </td><td>500   </td><td>0     </td><td>0     </td><td>1.000 </td></tr>\n",
       "\t<tr><th scope=row>17</th><td> 5    </td><td>diag  </td><td>FALSE </td><td>10    </td><td>495   </td><td>500   </td><td>0     </td><td>0     </td><td>0.990 </td></tr>\n",
       "\t<tr><th scope=row>23</th><td> 5    </td><td>flash </td><td>FALSE </td><td>10    </td><td>497   </td><td>500   </td><td>0     </td><td>0     </td><td>0.994 </td></tr>\n",
       "\t<tr><th scope=row>29</th><td> 5    </td><td>oracle</td><td>FALSE </td><td>10    </td><td>495   </td><td>500   </td><td>0     </td><td>0     </td><td>0.990 </td></tr>\n",
       "\t<tr><th scope=row>2</th><td>45    </td><td>diag  </td><td>FALSE </td><td>10    </td><td>500   </td><td>500   </td><td>0     </td><td>0     </td><td>1.000 </td></tr>\n",
       "\t<tr><th scope=row>8</th><td>45    </td><td>flash </td><td>FALSE </td><td>10    </td><td>498   </td><td>500   </td><td>0     </td><td>0     </td><td>0.996 </td></tr>\n",
       "\t<tr><th scope=row>14</th><td>45    </td><td>oracle</td><td>FALSE </td><td>10    </td><td>500   </td><td>500   </td><td>0     </td><td>0     </td><td>1.000 </td></tr>\n",
       "\t<tr><th scope=row>19</th><td> 5    </td><td>diag  </td><td>TRUE  </td><td> 1    </td><td>492   </td><td>500   </td><td>0     </td><td>0     </td><td>0.984 </td></tr>\n",
       "\t<tr><th scope=row>25</th><td> 5    </td><td>flash </td><td>TRUE  </td><td> 1    </td><td>492   </td><td>500   </td><td>0     </td><td>0     </td><td>0.984 </td></tr>\n",
       "\t<tr><th scope=row>4</th><td>45    </td><td>diag  </td><td>TRUE  </td><td> 1    </td><td>499   </td><td>500   </td><td>0     </td><td>0     </td><td>0.998 </td></tr>\n",
       "\t<tr><th scope=row>10</th><td>45    </td><td>flash </td><td>TRUE  </td><td> 1    </td><td>498   </td><td>500   </td><td>0     </td><td>0     </td><td>0.996 </td></tr>\n",
       "\t<tr><th scope=row>21</th><td> 5    </td><td>diag  </td><td>TRUE  </td><td> 2    </td><td>492   </td><td>500   </td><td>0     </td><td>0     </td><td>0.984 </td></tr>\n",
       "\t<tr><th scope=row>27</th><td> 5    </td><td>flash </td><td>TRUE  </td><td> 2    </td><td>492   </td><td>500   </td><td>0     </td><td>0     </td><td>0.984 </td></tr>\n",
       "\t<tr><th scope=row>6</th><td>45    </td><td>diag  </td><td>TRUE  </td><td> 2    </td><td>499   </td><td>500   </td><td>0     </td><td>0     </td><td>0.998 </td></tr>\n",
       "\t<tr><th scope=row>12</th><td>45    </td><td>flash </td><td>TRUE  </td><td> 2    </td><td>498   </td><td>500   </td><td>0     </td><td>0     </td><td>0.996 </td></tr>\n",
       "\t<tr><th scope=row>20</th><td> 5    </td><td>diag  </td><td>TRUE  </td><td>10    </td><td>492   </td><td>500   </td><td>0     </td><td>0     </td><td>0.984 </td></tr>\n",
       "\t<tr><th scope=row>26</th><td> 5    </td><td>flash </td><td>TRUE  </td><td>10    </td><td>492   </td><td>500   </td><td>0     </td><td>0     </td><td>0.984 </td></tr>\n",
       "\t<tr><th scope=row>5</th><td>45    </td><td>diag  </td><td>TRUE  </td><td>10    </td><td>499   </td><td>500   </td><td>0     </td><td>0     </td><td>0.998 </td></tr>\n",
       "\t<tr><th scope=row>11</th><td>45    </td><td>flash </td><td>TRUE  </td><td>10    </td><td>498   </td><td>500   </td><td>0     </td><td>0     </td><td>0.996 </td></tr>\n",
       "</tbody>\n",
       "</table>\n"
      ],
      "text/latex": [
       "\\begin{tabular}{r|lllllllll}\n",
       "  & n\\_traits & resid\\_method & missing & L & total\\_true\\_included & total\\_true & overlap\\_cs & overlap\\_var & power\\\\\n",
       "\\hline\n",
       "\t16 &  5     & diag   & FALSE  &  1     & 495    & 500    & 0      & 0      & 0.990 \\\\\n",
       "\t22 &  5     & flash  & FALSE  &  1     & 497    & 500    & 0      & 0      & 0.994 \\\\\n",
       "\t28 &  5     & oracle & FALSE  &  1     & 495    & 500    & 0      & 0      & 0.990 \\\\\n",
       "\t1 & 45     & diag   & FALSE  &  1     & 500    & 500    & 0      & 0      & 1.000 \\\\\n",
       "\t7 & 45     & flash  & FALSE  &  1     & 498    & 500    & 0      & 0      & 0.996 \\\\\n",
       "\t13 & 45     & oracle & FALSE  &  1     & 500    & 500    & 0      & 0      & 1.000 \\\\\n",
       "\t18 &  5     & diag   & FALSE  &  2     & 495    & 500    & 0      & 0      & 0.990 \\\\\n",
       "\t24 &  5     & flash  & FALSE  &  2     & 497    & 500    & 0      & 0      & 0.994 \\\\\n",
       "\t30 &  5     & oracle & FALSE  &  2     & 495    & 500    & 0      & 0      & 0.990 \\\\\n",
       "\t3 & 45     & diag   & FALSE  &  2     & 500    & 500    & 0      & 0      & 1.000 \\\\\n",
       "\t9 & 45     & flash  & FALSE  &  2     & 498    & 500    & 0      & 0      & 0.996 \\\\\n",
       "\t15 & 45     & oracle & FALSE  &  2     & 500    & 500    & 0      & 0      & 1.000 \\\\\n",
       "\t17 &  5     & diag   & FALSE  & 10     & 495    & 500    & 0      & 0      & 0.990 \\\\\n",
       "\t23 &  5     & flash  & FALSE  & 10     & 497    & 500    & 0      & 0      & 0.994 \\\\\n",
       "\t29 &  5     & oracle & FALSE  & 10     & 495    & 500    & 0      & 0      & 0.990 \\\\\n",
       "\t2 & 45     & diag   & FALSE  & 10     & 500    & 500    & 0      & 0      & 1.000 \\\\\n",
       "\t8 & 45     & flash  & FALSE  & 10     & 498    & 500    & 0      & 0      & 0.996 \\\\\n",
       "\t14 & 45     & oracle & FALSE  & 10     & 500    & 500    & 0      & 0      & 1.000 \\\\\n",
       "\t19 &  5     & diag   & TRUE   &  1     & 492    & 500    & 0      & 0      & 0.984 \\\\\n",
       "\t25 &  5     & flash  & TRUE   &  1     & 492    & 500    & 0      & 0      & 0.984 \\\\\n",
       "\t4 & 45     & diag   & TRUE   &  1     & 499    & 500    & 0      & 0      & 0.998 \\\\\n",
       "\t10 & 45     & flash  & TRUE   &  1     & 498    & 500    & 0      & 0      & 0.996 \\\\\n",
       "\t21 &  5     & diag   & TRUE   &  2     & 492    & 500    & 0      & 0      & 0.984 \\\\\n",
       "\t27 &  5     & flash  & TRUE   &  2     & 492    & 500    & 0      & 0      & 0.984 \\\\\n",
       "\t6 & 45     & diag   & TRUE   &  2     & 499    & 500    & 0      & 0      & 0.998 \\\\\n",
       "\t12 & 45     & flash  & TRUE   &  2     & 498    & 500    & 0      & 0      & 0.996 \\\\\n",
       "\t20 &  5     & diag   & TRUE   & 10     & 492    & 500    & 0      & 0      & 0.984 \\\\\n",
       "\t26 &  5     & flash  & TRUE   & 10     & 492    & 500    & 0      & 0      & 0.984 \\\\\n",
       "\t5 & 45     & diag   & TRUE   & 10     & 499    & 500    & 0      & 0      & 0.998 \\\\\n",
       "\t11 & 45     & flash  & TRUE   & 10     & 498    & 500    & 0      & 0      & 0.996 \\\\\n",
       "\\end{tabular}\n"
      ],
      "text/markdown": [
       "\n",
       "| <!--/--> | n_traits | resid_method | missing | L | total_true_included | total_true | overlap_cs | overlap_var | power | \n",
       "|---|---|---|---|---|---|---|---|---|---|---|---|---|---|---|---|---|---|---|---|---|---|---|---|---|---|---|---|---|---|\n",
       "| 16 |  5     | diag   | FALSE  |  1     | 495    | 500    | 0      | 0      | 0.990  | \n",
       "| 22 |  5     | flash  | FALSE  |  1     | 497    | 500    | 0      | 0      | 0.994  | \n",
       "| 28 |  5     | oracle | FALSE  |  1     | 495    | 500    | 0      | 0      | 0.990  | \n",
       "| 1 | 45     | diag   | FALSE  |  1     | 500    | 500    | 0      | 0      | 1.000  | \n",
       "| 7 | 45     | flash  | FALSE  |  1     | 498    | 500    | 0      | 0      | 0.996  | \n",
       "| 13 | 45     | oracle | FALSE  |  1     | 500    | 500    | 0      | 0      | 1.000  | \n",
       "| 18 |  5     | diag   | FALSE  |  2     | 495    | 500    | 0      | 0      | 0.990  | \n",
       "| 24 |  5     | flash  | FALSE  |  2     | 497    | 500    | 0      | 0      | 0.994  | \n",
       "| 30 |  5     | oracle | FALSE  |  2     | 495    | 500    | 0      | 0      | 0.990  | \n",
       "| 3 | 45     | diag   | FALSE  |  2     | 500    | 500    | 0      | 0      | 1.000  | \n",
       "| 9 | 45     | flash  | FALSE  |  2     | 498    | 500    | 0      | 0      | 0.996  | \n",
       "| 15 | 45     | oracle | FALSE  |  2     | 500    | 500    | 0      | 0      | 1.000  | \n",
       "| 17 |  5     | diag   | FALSE  | 10     | 495    | 500    | 0      | 0      | 0.990  | \n",
       "| 23 |  5     | flash  | FALSE  | 10     | 497    | 500    | 0      | 0      | 0.994  | \n",
       "| 29 |  5     | oracle | FALSE  | 10     | 495    | 500    | 0      | 0      | 0.990  | \n",
       "| 2 | 45     | diag   | FALSE  | 10     | 500    | 500    | 0      | 0      | 1.000  | \n",
       "| 8 | 45     | flash  | FALSE  | 10     | 498    | 500    | 0      | 0      | 0.996  | \n",
       "| 14 | 45     | oracle | FALSE  | 10     | 500    | 500    | 0      | 0      | 1.000  | \n",
       "| 19 |  5     | diag   | TRUE   |  1     | 492    | 500    | 0      | 0      | 0.984  | \n",
       "| 25 |  5     | flash  | TRUE   |  1     | 492    | 500    | 0      | 0      | 0.984  | \n",
       "| 4 | 45     | diag   | TRUE   |  1     | 499    | 500    | 0      | 0      | 0.998  | \n",
       "| 10 | 45     | flash  | TRUE   |  1     | 498    | 500    | 0      | 0      | 0.996  | \n",
       "| 21 |  5     | diag   | TRUE   |  2     | 492    | 500    | 0      | 0      | 0.984  | \n",
       "| 27 |  5     | flash  | TRUE   |  2     | 492    | 500    | 0      | 0      | 0.984  | \n",
       "| 6 | 45     | diag   | TRUE   |  2     | 499    | 500    | 0      | 0      | 0.998  | \n",
       "| 12 | 45     | flash  | TRUE   |  2     | 498    | 500    | 0      | 0      | 0.996  | \n",
       "| 20 |  5     | diag   | TRUE   | 10     | 492    | 500    | 0      | 0      | 0.984  | \n",
       "| 26 |  5     | flash  | TRUE   | 10     | 492    | 500    | 0      | 0      | 0.984  | \n",
       "| 5 | 45     | diag   | TRUE   | 10     | 499    | 500    | 0      | 0      | 0.998  | \n",
       "| 11 | 45     | flash  | TRUE   | 10     | 498    | 500    | 0      | 0      | 0.996  | \n",
       "\n",
       "\n"
      ],
      "text/plain": [
       "   n_traits resid_method missing L  total_true_included total_true overlap_cs\n",
       "16  5       diag         FALSE    1 495                 500        0         \n",
       "22  5       flash        FALSE    1 497                 500        0         \n",
       "28  5       oracle       FALSE    1 495                 500        0         \n",
       "1  45       diag         FALSE    1 500                 500        0         \n",
       "7  45       flash        FALSE    1 498                 500        0         \n",
       "13 45       oracle       FALSE    1 500                 500        0         \n",
       "18  5       diag         FALSE    2 495                 500        0         \n",
       "24  5       flash        FALSE    2 497                 500        0         \n",
       "30  5       oracle       FALSE    2 495                 500        0         \n",
       "3  45       diag         FALSE    2 500                 500        0         \n",
       "9  45       flash        FALSE    2 498                 500        0         \n",
       "15 45       oracle       FALSE    2 500                 500        0         \n",
       "17  5       diag         FALSE   10 495                 500        0         \n",
       "23  5       flash        FALSE   10 497                 500        0         \n",
       "29  5       oracle       FALSE   10 495                 500        0         \n",
       "2  45       diag         FALSE   10 500                 500        0         \n",
       "8  45       flash        FALSE   10 498                 500        0         \n",
       "14 45       oracle       FALSE   10 500                 500        0         \n",
       "19  5       diag         TRUE     1 492                 500        0         \n",
       "25  5       flash        TRUE     1 492                 500        0         \n",
       "4  45       diag         TRUE     1 499                 500        0         \n",
       "10 45       flash        TRUE     1 498                 500        0         \n",
       "21  5       diag         TRUE     2 492                 500        0         \n",
       "27  5       flash        TRUE     2 492                 500        0         \n",
       "6  45       diag         TRUE     2 499                 500        0         \n",
       "12 45       flash        TRUE     2 498                 500        0         \n",
       "20  5       diag         TRUE    10 492                 500        0         \n",
       "26  5       flash        TRUE    10 492                 500        0         \n",
       "5  45       diag         TRUE    10 499                 500        0         \n",
       "11 45       flash        TRUE    10 498                 500        0         \n",
       "   overlap_var power\n",
       "16 0           0.990\n",
       "22 0           0.994\n",
       "28 0           0.990\n",
       "1  0           1.000\n",
       "7  0           0.996\n",
       "13 0           1.000\n",
       "18 0           0.990\n",
       "24 0           0.994\n",
       "30 0           0.990\n",
       "3  0           1.000\n",
       "9  0           0.996\n",
       "15 0           1.000\n",
       "17 0           0.990\n",
       "23 0           0.994\n",
       "29 0           0.990\n",
       "2  0           1.000\n",
       "8  0           0.996\n",
       "14 0           1.000\n",
       "19 0           0.984\n",
       "25 0           0.984\n",
       "4  0           0.998\n",
       "10 0           0.996\n",
       "21 0           0.984\n",
       "27 0           0.984\n",
       "6  0           0.998\n",
       "12 0           0.996\n",
       "20 0           0.984\n",
       "26 0           0.984\n",
       "5  0           0.998\n",
       "11 0           0.996"
      ]
     },
     "metadata": {},
     "output_type": "display_data"
    }
   ],
   "source": [
    "total_true_included = aggregate(total_true_included ~ n_traits + resid_method + missing + L, res, sum)\n",
    "total_true = aggregate(total_true ~  n_traits + resid_method + missing + L, res, sum)\n",
    "cs_overlap = aggregate(overlap_cs ~  n_traits + resid_method + missing + L, res, sum)\n",
    "snp_overlap = aggregate(overlap_var ~  n_traits + resid_method + missing + L, res, sum)\n",
    "power = merge(total_true_included, total_true, by = c( 'n_traits' , 'resid_method' , 'missing' , 'L'))\n",
    "power = merge(power, cs_overlap,  by = c( 'n_traits' , 'resid_method' , 'missing' , 'L'))\n",
    "power = merge(power, snp_overlap,  by = c( 'n_traits' , 'resid_method' , 'missing' , 'L'))\n",
    "power$power = round(power$total_true_included/power$total_true,3)\n",
    "power$overlap_cs = round(power$overlap_cs, 3)\n",
    "power$overlap_var = round(power$overlap_var, 3)\n",
    "power = power[order(power$n_traits),]\n",
    "power = power[order(power$L),]\n",
    "power = power[order(power$missing),]\n",
    "power"
   ]
  },
  {
   "cell_type": "markdown",
   "metadata": {
    "kernel": "R"
   },
   "source": [
    "### FDR of CS no missing data"
   ]
  },
  {
   "cell_type": "code",
   "execution_count": 20,
   "metadata": {
    "kernel": "R"
   },
   "outputs": [
    {
     "data": {
      "text/html": [
       "<table>\n",
       "<thead><tr><th></th><th scope=col>n_traits</th><th scope=col>resid_method</th><th scope=col>L</th><th scope=col>valid</th><th scope=col>total</th><th scope=col>fdr</th></tr></thead>\n",
       "<tbody>\n",
       "\t<tr><th scope=row>16</th><td> 5    </td><td>diag  </td><td> 1    </td><td>495   </td><td>500   </td><td>0.010 </td></tr>\n",
       "\t<tr><th scope=row>17</th><td> 5    </td><td>diag  </td><td>10    </td><td>495   </td><td>501   </td><td>0.012 </td></tr>\n",
       "\t<tr><th scope=row>18</th><td> 5    </td><td>diag  </td><td> 2    </td><td>495   </td><td>501   </td><td>0.012 </td></tr>\n",
       "\t<tr><th scope=row>22</th><td> 5    </td><td>flash </td><td> 1    </td><td>497   </td><td>500   </td><td>0.006 </td></tr>\n",
       "\t<tr><th scope=row>23</th><td> 5    </td><td>flash </td><td>10    </td><td>497   </td><td>501   </td><td>0.008 </td></tr>\n",
       "\t<tr><th scope=row>24</th><td> 5    </td><td>flash </td><td> 2    </td><td>497   </td><td>501   </td><td>0.008 </td></tr>\n",
       "\t<tr><th scope=row>28</th><td> 5    </td><td>oracle</td><td> 1    </td><td>495   </td><td>500   </td><td>0.010 </td></tr>\n",
       "\t<tr><th scope=row>29</th><td> 5    </td><td>oracle</td><td>10    </td><td>495   </td><td>503   </td><td>0.016 </td></tr>\n",
       "\t<tr><th scope=row>30</th><td> 5    </td><td>oracle</td><td> 2    </td><td>495   </td><td>503   </td><td>0.016 </td></tr>\n",
       "\t<tr><th scope=row>1</th><td>45    </td><td>diag  </td><td> 1    </td><td>500   </td><td>500   </td><td>0.000 </td></tr>\n",
       "\t<tr><th scope=row>2</th><td>45    </td><td>diag  </td><td>10    </td><td>500   </td><td>500   </td><td>0.000 </td></tr>\n",
       "\t<tr><th scope=row>3</th><td>45    </td><td>diag  </td><td> 2    </td><td>500   </td><td>500   </td><td>0.000 </td></tr>\n",
       "\t<tr><th scope=row>7</th><td>45    </td><td>flash </td><td> 1    </td><td>498   </td><td>498   </td><td>0.000 </td></tr>\n",
       "\t<tr><th scope=row>8</th><td>45    </td><td>flash </td><td>10    </td><td>498   </td><td>498   </td><td>0.000 </td></tr>\n",
       "\t<tr><th scope=row>9</th><td>45    </td><td>flash </td><td> 2    </td><td>498   </td><td>498   </td><td>0.000 </td></tr>\n",
       "\t<tr><th scope=row>13</th><td>45    </td><td>oracle</td><td> 1    </td><td>500   </td><td>500   </td><td>0.000 </td></tr>\n",
       "\t<tr><th scope=row>14</th><td>45    </td><td>oracle</td><td>10    </td><td>500   </td><td>500   </td><td>0.000 </td></tr>\n",
       "\t<tr><th scope=row>15</th><td>45    </td><td>oracle</td><td> 2    </td><td>500   </td><td>500   </td><td>0.000 </td></tr>\n",
       "</tbody>\n",
       "</table>\n"
      ],
      "text/latex": [
       "\\begin{tabular}{r|llllll}\n",
       "  & n\\_traits & resid\\_method & L & valid & total & fdr\\\\\n",
       "\\hline\n",
       "\t16 &  5     & diag   &  1     & 495    & 500    & 0.010 \\\\\n",
       "\t17 &  5     & diag   & 10     & 495    & 501    & 0.012 \\\\\n",
       "\t18 &  5     & diag   &  2     & 495    & 501    & 0.012 \\\\\n",
       "\t22 &  5     & flash  &  1     & 497    & 500    & 0.006 \\\\\n",
       "\t23 &  5     & flash  & 10     & 497    & 501    & 0.008 \\\\\n",
       "\t24 &  5     & flash  &  2     & 497    & 501    & 0.008 \\\\\n",
       "\t28 &  5     & oracle &  1     & 495    & 500    & 0.010 \\\\\n",
       "\t29 &  5     & oracle & 10     & 495    & 503    & 0.016 \\\\\n",
       "\t30 &  5     & oracle &  2     & 495    & 503    & 0.016 \\\\\n",
       "\t1 & 45     & diag   &  1     & 500    & 500    & 0.000 \\\\\n",
       "\t2 & 45     & diag   & 10     & 500    & 500    & 0.000 \\\\\n",
       "\t3 & 45     & diag   &  2     & 500    & 500    & 0.000 \\\\\n",
       "\t7 & 45     & flash  &  1     & 498    & 498    & 0.000 \\\\\n",
       "\t8 & 45     & flash  & 10     & 498    & 498    & 0.000 \\\\\n",
       "\t9 & 45     & flash  &  2     & 498    & 498    & 0.000 \\\\\n",
       "\t13 & 45     & oracle &  1     & 500    & 500    & 0.000 \\\\\n",
       "\t14 & 45     & oracle & 10     & 500    & 500    & 0.000 \\\\\n",
       "\t15 & 45     & oracle &  2     & 500    & 500    & 0.000 \\\\\n",
       "\\end{tabular}\n"
      ],
      "text/markdown": [
       "\n",
       "| <!--/--> | n_traits | resid_method | L | valid | total | fdr | \n",
       "|---|---|---|---|---|---|---|---|---|---|---|---|---|---|---|---|---|---|\n",
       "| 16 |  5     | diag   |  1     | 495    | 500    | 0.010  | \n",
       "| 17 |  5     | diag   | 10     | 495    | 501    | 0.012  | \n",
       "| 18 |  5     | diag   |  2     | 495    | 501    | 0.012  | \n",
       "| 22 |  5     | flash  |  1     | 497    | 500    | 0.006  | \n",
       "| 23 |  5     | flash  | 10     | 497    | 501    | 0.008  | \n",
       "| 24 |  5     | flash  |  2     | 497    | 501    | 0.008  | \n",
       "| 28 |  5     | oracle |  1     | 495    | 500    | 0.010  | \n",
       "| 29 |  5     | oracle | 10     | 495    | 503    | 0.016  | \n",
       "| 30 |  5     | oracle |  2     | 495    | 503    | 0.016  | \n",
       "| 1 | 45     | diag   |  1     | 500    | 500    | 0.000  | \n",
       "| 2 | 45     | diag   | 10     | 500    | 500    | 0.000  | \n",
       "| 3 | 45     | diag   |  2     | 500    | 500    | 0.000  | \n",
       "| 7 | 45     | flash  |  1     | 498    | 498    | 0.000  | \n",
       "| 8 | 45     | flash  | 10     | 498    | 498    | 0.000  | \n",
       "| 9 | 45     | flash  |  2     | 498    | 498    | 0.000  | \n",
       "| 13 | 45     | oracle |  1     | 500    | 500    | 0.000  | \n",
       "| 14 | 45     | oracle | 10     | 500    | 500    | 0.000  | \n",
       "| 15 | 45     | oracle |  2     | 500    | 500    | 0.000  | \n",
       "\n",
       "\n"
      ],
      "text/plain": [
       "   n_traits resid_method L  valid total fdr  \n",
       "16  5       diag          1 495   500   0.010\n",
       "17  5       diag         10 495   501   0.012\n",
       "18  5       diag          2 495   501   0.012\n",
       "22  5       flash         1 497   500   0.006\n",
       "23  5       flash        10 497   501   0.008\n",
       "24  5       flash         2 497   501   0.008\n",
       "28  5       oracle        1 495   500   0.010\n",
       "29  5       oracle       10 495   503   0.016\n",
       "30  5       oracle        2 495   503   0.016\n",
       "1  45       diag          1 500   500   0.000\n",
       "2  45       diag         10 500   500   0.000\n",
       "3  45       diag          2 500   500   0.000\n",
       "7  45       flash         1 498   498   0.000\n",
       "8  45       flash        10 498   498   0.000\n",
       "9  45       flash         2 498   498   0.000\n",
       "13 45       oracle        1 500   500   0.000\n",
       "14 45       oracle       10 500   500   0.000\n",
       "15 45       oracle        2 500   500   0.000"
      ]
     },
     "metadata": {},
     "output_type": "display_data"
    }
   ],
   "source": [
    "valid = aggregate(valid ~ n_traits + resid_method + missing + L, res, sum)\n",
    "total = aggregate(total ~ n_traits + resid_method + missing + L, res, sum)\n",
    "fdr = merge(valid, total, by = c( 'n_traits' , 'resid_method' , 'missing' , 'L'))\n",
    "fdr$fdr = round((fdr$total - fdr$valid)/fdr$total,3)\n",
    "fdr = fdr[which(fdr$missing==FALSE),-3]\n",
    "fdr = fdr[order(fdr$n_traits),]\n",
    "fdr"
   ]
  },
  {
   "cell_type": "markdown",
   "metadata": {
    "kernel": "R"
   },
   "source": [
    "### FDR of CS with missing data"
   ]
  },
  {
   "cell_type": "code",
   "execution_count": 21,
   "metadata": {
    "kernel": "R"
   },
   "outputs": [
    {
     "data": {
      "text/html": [
       "<table>\n",
       "<thead><tr><th></th><th scope=col>n_traits</th><th scope=col>resid_method</th><th scope=col>L</th><th scope=col>valid</th><th scope=col>total</th><th scope=col>fdr</th></tr></thead>\n",
       "<tbody>\n",
       "\t<tr><th scope=row>19</th><td> 5   </td><td>diag </td><td> 1   </td><td>492  </td><td>500  </td><td>0.016</td></tr>\n",
       "\t<tr><th scope=row>20</th><td> 5   </td><td>diag </td><td>10   </td><td>492  </td><td>502  </td><td>0.020</td></tr>\n",
       "\t<tr><th scope=row>21</th><td> 5   </td><td>diag </td><td> 2   </td><td>492  </td><td>502  </td><td>0.020</td></tr>\n",
       "\t<tr><th scope=row>25</th><td> 5   </td><td>flash</td><td> 1   </td><td>492  </td><td>500  </td><td>0.016</td></tr>\n",
       "\t<tr><th scope=row>26</th><td> 5   </td><td>flash</td><td>10   </td><td>492  </td><td>502  </td><td>0.020</td></tr>\n",
       "\t<tr><th scope=row>27</th><td> 5   </td><td>flash</td><td> 2   </td><td>492  </td><td>502  </td><td>0.020</td></tr>\n",
       "\t<tr><th scope=row>4</th><td>45   </td><td>diag </td><td> 1   </td><td>499  </td><td>500  </td><td>0.002</td></tr>\n",
       "\t<tr><th scope=row>5</th><td>45   </td><td>diag </td><td>10   </td><td>499  </td><td>500  </td><td>0.002</td></tr>\n",
       "\t<tr><th scope=row>6</th><td>45   </td><td>diag </td><td> 2   </td><td>499  </td><td>500  </td><td>0.002</td></tr>\n",
       "\t<tr><th scope=row>10</th><td>45   </td><td>flash</td><td> 1   </td><td>498  </td><td>499  </td><td>0.002</td></tr>\n",
       "\t<tr><th scope=row>11</th><td>45   </td><td>flash</td><td>10   </td><td>498  </td><td>499  </td><td>0.002</td></tr>\n",
       "\t<tr><th scope=row>12</th><td>45   </td><td>flash</td><td> 2   </td><td>498  </td><td>499  </td><td>0.002</td></tr>\n",
       "</tbody>\n",
       "</table>\n"
      ],
      "text/latex": [
       "\\begin{tabular}{r|llllll}\n",
       "  & n\\_traits & resid\\_method & L & valid & total & fdr\\\\\n",
       "\\hline\n",
       "\t19 &  5    & diag  &  1    & 492   & 500   & 0.016\\\\\n",
       "\t20 &  5    & diag  & 10    & 492   & 502   & 0.020\\\\\n",
       "\t21 &  5    & diag  &  2    & 492   & 502   & 0.020\\\\\n",
       "\t25 &  5    & flash &  1    & 492   & 500   & 0.016\\\\\n",
       "\t26 &  5    & flash & 10    & 492   & 502   & 0.020\\\\\n",
       "\t27 &  5    & flash &  2    & 492   & 502   & 0.020\\\\\n",
       "\t4 & 45    & diag  &  1    & 499   & 500   & 0.002\\\\\n",
       "\t5 & 45    & diag  & 10    & 499   & 500   & 0.002\\\\\n",
       "\t6 & 45    & diag  &  2    & 499   & 500   & 0.002\\\\\n",
       "\t10 & 45    & flash &  1    & 498   & 499   & 0.002\\\\\n",
       "\t11 & 45    & flash & 10    & 498   & 499   & 0.002\\\\\n",
       "\t12 & 45    & flash &  2    & 498   & 499   & 0.002\\\\\n",
       "\\end{tabular}\n"
      ],
      "text/markdown": [
       "\n",
       "| <!--/--> | n_traits | resid_method | L | valid | total | fdr | \n",
       "|---|---|---|---|---|---|---|---|---|---|---|---|\n",
       "| 19 |  5    | diag  |  1    | 492   | 500   | 0.016 | \n",
       "| 20 |  5    | diag  | 10    | 492   | 502   | 0.020 | \n",
       "| 21 |  5    | diag  |  2    | 492   | 502   | 0.020 | \n",
       "| 25 |  5    | flash |  1    | 492   | 500   | 0.016 | \n",
       "| 26 |  5    | flash | 10    | 492   | 502   | 0.020 | \n",
       "| 27 |  5    | flash |  2    | 492   | 502   | 0.020 | \n",
       "| 4 | 45    | diag  |  1    | 499   | 500   | 0.002 | \n",
       "| 5 | 45    | diag  | 10    | 499   | 500   | 0.002 | \n",
       "| 6 | 45    | diag  |  2    | 499   | 500   | 0.002 | \n",
       "| 10 | 45    | flash |  1    | 498   | 499   | 0.002 | \n",
       "| 11 | 45    | flash | 10    | 498   | 499   | 0.002 | \n",
       "| 12 | 45    | flash |  2    | 498   | 499   | 0.002 | \n",
       "\n",
       "\n"
      ],
      "text/plain": [
       "   n_traits resid_method L  valid total fdr  \n",
       "19  5       diag          1 492   500   0.016\n",
       "20  5       diag         10 492   502   0.020\n",
       "21  5       diag          2 492   502   0.020\n",
       "25  5       flash         1 492   500   0.016\n",
       "26  5       flash        10 492   502   0.020\n",
       "27  5       flash         2 492   502   0.020\n",
       "4  45       diag          1 499   500   0.002\n",
       "5  45       diag         10 499   500   0.002\n",
       "6  45       diag          2 499   500   0.002\n",
       "10 45       flash         1 498   499   0.002\n",
       "11 45       flash        10 498   499   0.002\n",
       "12 45       flash         2 498   499   0.002"
      ]
     },
     "metadata": {},
     "output_type": "display_data"
    }
   ],
   "source": [
    "valid = aggregate(valid ~ n_traits + resid_method + missing + L, res, sum)\n",
    "total = aggregate(total ~ n_traits + resid_method + missing + L, res, sum)\n",
    "fdr = merge(valid, total, by = c( 'n_traits' , 'resid_method' , 'missing' , 'L'))\n",
    "fdr$fdr = round((fdr$total - fdr$valid)/fdr$total,3)\n",
    "fdr = fdr[which(fdr$missing==TRUE),-3]\n",
    "fdr = fdr[order(fdr$n_traits),]\n",
    "fdr"
   ]
  },
  {
   "cell_type": "markdown",
   "metadata": {
    "kernel": "R"
   },
   "source": [
    "## Convergence\n",
    "\n",
    "Based on ELBO. In principle all runs should converge by ELBO. If it is not converged, then it means either ELBO is not non-increasing or it exceeds max iteration.\n",
    "\n",
    "It is only relevant to focus on $L>1$."
   ]
  },
  {
   "cell_type": "code",
   "execution_count": 22,
   "metadata": {
    "kernel": "R"
   },
   "outputs": [
    {
     "data": {
      "text/html": [
       "<table>\n",
       "<thead><tr><th></th><th scope=col>n_traits</th><th scope=col>resid_method</th><th scope=col>L</th><th scope=col>converged</th></tr></thead>\n",
       "<tbody>\n",
       "\t<tr><th scope=row>11</th><td> 5    </td><td>diag  </td><td> 2    </td><td>0.870 </td></tr>\n",
       "\t<tr><th scope=row>13</th><td> 5    </td><td>flash </td><td> 2    </td><td>0.876 </td></tr>\n",
       "\t<tr><th scope=row>15</th><td> 5    </td><td>oracle</td><td> 2    </td><td>0.860 </td></tr>\n",
       "\t<tr><th scope=row>21</th><td> 5    </td><td>diag  </td><td>10    </td><td>0.870 </td></tr>\n",
       "\t<tr><th scope=row>23</th><td> 5    </td><td>flash </td><td>10    </td><td>0.876 </td></tr>\n",
       "\t<tr><th scope=row>25</th><td> 5    </td><td>oracle</td><td>10    </td><td>0.860 </td></tr>\n",
       "\t<tr><th scope=row>12</th><td>45    </td><td>diag  </td><td> 2    </td><td>0.904 </td></tr>\n",
       "\t<tr><th scope=row>14</th><td>45    </td><td>flash </td><td> 2    </td><td>0.934 </td></tr>\n",
       "\t<tr><th scope=row>16</th><td>45    </td><td>oracle</td><td> 2    </td><td>0.882 </td></tr>\n",
       "\t<tr><th scope=row>22</th><td>45    </td><td>diag  </td><td>10    </td><td>0.904 </td></tr>\n",
       "\t<tr><th scope=row>24</th><td>45    </td><td>flash </td><td>10    </td><td>0.934 </td></tr>\n",
       "\t<tr><th scope=row>26</th><td>45    </td><td>oracle</td><td>10    </td><td>0.882 </td></tr>\n",
       "</tbody>\n",
       "</table>\n"
      ],
      "text/latex": [
       "\\begin{tabular}{r|llll}\n",
       "  & n\\_traits & resid\\_method & L & converged\\\\\n",
       "\\hline\n",
       "\t11 &  5     & diag   &  2     & 0.870 \\\\\n",
       "\t13 &  5     & flash  &  2     & 0.876 \\\\\n",
       "\t15 &  5     & oracle &  2     & 0.860 \\\\\n",
       "\t21 &  5     & diag   & 10     & 0.870 \\\\\n",
       "\t23 &  5     & flash  & 10     & 0.876 \\\\\n",
       "\t25 &  5     & oracle & 10     & 0.860 \\\\\n",
       "\t12 & 45     & diag   &  2     & 0.904 \\\\\n",
       "\t14 & 45     & flash  &  2     & 0.934 \\\\\n",
       "\t16 & 45     & oracle &  2     & 0.882 \\\\\n",
       "\t22 & 45     & diag   & 10     & 0.904 \\\\\n",
       "\t24 & 45     & flash  & 10     & 0.934 \\\\\n",
       "\t26 & 45     & oracle & 10     & 0.882 \\\\\n",
       "\\end{tabular}\n"
      ],
      "text/markdown": [
       "\n",
       "| <!--/--> | n_traits | resid_method | L | converged | \n",
       "|---|---|---|---|---|---|---|---|---|---|---|---|\n",
       "| 11 |  5     | diag   |  2     | 0.870  | \n",
       "| 13 |  5     | flash  |  2     | 0.876  | \n",
       "| 15 |  5     | oracle |  2     | 0.860  | \n",
       "| 21 |  5     | diag   | 10     | 0.870  | \n",
       "| 23 |  5     | flash  | 10     | 0.876  | \n",
       "| 25 |  5     | oracle | 10     | 0.860  | \n",
       "| 12 | 45     | diag   |  2     | 0.904  | \n",
       "| 14 | 45     | flash  |  2     | 0.934  | \n",
       "| 16 | 45     | oracle |  2     | 0.882  | \n",
       "| 22 | 45     | diag   | 10     | 0.904  | \n",
       "| 24 | 45     | flash  | 10     | 0.934  | \n",
       "| 26 | 45     | oracle | 10     | 0.882  | \n",
       "\n",
       "\n"
      ],
      "text/plain": [
       "   n_traits resid_method L  converged\n",
       "11  5       diag          2 0.870    \n",
       "13  5       flash         2 0.876    \n",
       "15  5       oracle        2 0.860    \n",
       "21  5       diag         10 0.870    \n",
       "23  5       flash        10 0.876    \n",
       "25  5       oracle       10 0.860    \n",
       "12 45       diag          2 0.904    \n",
       "14 45       flash         2 0.934    \n",
       "16 45       oracle        2 0.882    \n",
       "22 45       diag         10 0.904    \n",
       "24 45       flash        10 0.934    \n",
       "26 45       oracle       10 0.882    "
      ]
     },
     "metadata": {},
     "output_type": "display_data"
    }
   ],
   "source": [
    "elbo_converged = aggregate(converged~n_traits + resid_method + missing +  L, res, mean)\n",
    "elbo_converged = elbo_converged[which(elbo_converged$missing==FALSE),-3]\n",
    "elbo_converged = elbo_converged[which(elbo_converged$L!=1),]\n",
    "elbo_converged = elbo_converged[order(elbo_converged$n_traits),]\n",
    "elbo_converged"
   ]
  },
  {
   "cell_type": "markdown",
   "metadata": {
    "kernel": "R"
   },
   "source": [
    "However if ELBO is not increasing then we should [see a warning](https://github.com/gaow/mmbr/blob/ee5049362ed66251db2a3b80efcc501bf743ed35/R/ibss_algorithm.R#L73). The fact we dont see it (no `stderr` files present in the DSC folder) means 100 iterations were not good enough for ELBO to converge at our default tolerance level 0.001."
   ]
  },
  {
   "cell_type": "markdown",
   "metadata": {
    "kernel": "R"
   },
   "source": [
    "Since for missing data we used convergence of PIP to stop the IBSS algorithm, let's check it:"
   ]
  },
  {
   "cell_type": "code",
   "execution_count": 23,
   "metadata": {
    "kernel": "R"
   },
   "outputs": [
    {
     "data": {
      "text/html": [
       "<table>\n",
       "<thead><tr><th></th><th scope=col>n_traits</th><th scope=col>resid_method</th><th scope=col>L</th><th scope=col>converged</th></tr></thead>\n",
       "<tbody>\n",
       "\t<tr><th scope=row>17</th><td> 5   </td><td>diag </td><td> 2   </td><td>1    </td></tr>\n",
       "\t<tr><th scope=row>19</th><td> 5   </td><td>flash</td><td> 2   </td><td>1    </td></tr>\n",
       "\t<tr><th scope=row>27</th><td> 5   </td><td>diag </td><td>10   </td><td>1    </td></tr>\n",
       "\t<tr><th scope=row>29</th><td> 5   </td><td>flash</td><td>10   </td><td>1    </td></tr>\n",
       "\t<tr><th scope=row>18</th><td>45   </td><td>diag </td><td> 2   </td><td>1    </td></tr>\n",
       "\t<tr><th scope=row>20</th><td>45   </td><td>flash</td><td> 2   </td><td>1    </td></tr>\n",
       "\t<tr><th scope=row>28</th><td>45   </td><td>diag </td><td>10   </td><td>1    </td></tr>\n",
       "\t<tr><th scope=row>30</th><td>45   </td><td>flash</td><td>10   </td><td>1    </td></tr>\n",
       "</tbody>\n",
       "</table>\n"
      ],
      "text/latex": [
       "\\begin{tabular}{r|llll}\n",
       "  & n\\_traits & resid\\_method & L & converged\\\\\n",
       "\\hline\n",
       "\t17 &  5    & diag  &  2    & 1    \\\\\n",
       "\t19 &  5    & flash &  2    & 1    \\\\\n",
       "\t27 &  5    & diag  & 10    & 1    \\\\\n",
       "\t29 &  5    & flash & 10    & 1    \\\\\n",
       "\t18 & 45    & diag  &  2    & 1    \\\\\n",
       "\t20 & 45    & flash &  2    & 1    \\\\\n",
       "\t28 & 45    & diag  & 10    & 1    \\\\\n",
       "\t30 & 45    & flash & 10    & 1    \\\\\n",
       "\\end{tabular}\n"
      ],
      "text/markdown": [
       "\n",
       "| <!--/--> | n_traits | resid_method | L | converged | \n",
       "|---|---|---|---|---|---|---|---|\n",
       "| 17 |  5    | diag  |  2    | 1     | \n",
       "| 19 |  5    | flash |  2    | 1     | \n",
       "| 27 |  5    | diag  | 10    | 1     | \n",
       "| 29 |  5    | flash | 10    | 1     | \n",
       "| 18 | 45    | diag  |  2    | 1     | \n",
       "| 20 | 45    | flash |  2    | 1     | \n",
       "| 28 | 45    | diag  | 10    | 1     | \n",
       "| 30 | 45    | flash | 10    | 1     | \n",
       "\n",
       "\n"
      ],
      "text/plain": [
       "   n_traits resid_method L  converged\n",
       "17  5       diag          2 1        \n",
       "19  5       flash         2 1        \n",
       "27  5       diag         10 1        \n",
       "29  5       flash        10 1        \n",
       "18 45       diag          2 1        \n",
       "20 45       flash         2 1        \n",
       "28 45       diag         10 1        \n",
       "30 45       flash        10 1        "
      ]
     },
     "metadata": {},
     "output_type": "display_data"
    }
   ],
   "source": [
    "pip_converged = aggregate(converged~n_traits + resid_method + missing +  L, res, mean)\n",
    "pip_converged = pip_converged[which(pip_converged$missing==TRUE),-3]\n",
    "pip_converged = pip_converged[which(pip_converged$L!=1),]\n",
    "pip_converged = pip_converged[order(pip_converged$n_traits),]\n",
    "pip_converged"
   ]
  },
  {
   "cell_type": "markdown",
   "metadata": {
    "kernel": "R"
   },
   "source": [
    "So it all converges by PIP, if we dont check by ELBO."
   ]
  }
 ],
 "metadata": {
  "kernelspec": {
   "display_name": "SoS",
   "language": "sos",
   "name": "sos"
  },
  "language_info": {
   "codemirror_mode": "sos",
   "file_extension": ".sos",
   "mimetype": "text/x-sos",
   "name": "sos",
   "nbconvert_exporter": "sos_notebook.converter.SoS_Exporter",
   "pygments_lexer": "sos"
  },
  "sos": {
   "kernels": [
    [
     "R",
     "ir",
     "R",
     "#DCDCDA"
    ]
   ],
   "version": "0.20.5"
  }
 },
 "nbformat": 4,
 "nbformat_minor": 4
}
