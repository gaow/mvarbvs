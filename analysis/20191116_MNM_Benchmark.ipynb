{
 "cells": [
  {
   "cell_type": "markdown",
   "metadata": {
    "kernel": "SoS"
   },
   "source": [
    "# M&M benchmark XI\n",
    "\n",
    "This benchmark is an improvments over the [previous one](https://gaow.github.io/mvarbvs/analysis/20191108_MNM_Benchmark.html), in the following espects."
   ]
  },
  {
   "cell_type": "markdown",
   "metadata": {
    "kernel": "SoS"
   },
   "source": [
    "1. Use both small $R=5$ and large $R=45$ simulations to compare if merely increasing number of conditions messes it up.\n",
    "2. Simulate even simpler: 1 effect and using 1 grid for effect covariance such that the prior is no longer a mixture.\n",
    "3. Analyzing it with L = 1 or L = 2\n",
    "4. Assess CS overlap at both variable and CS level\n",
    "5. Add oracle residual covariance method\n",
    "6. Turn on ELBO computation and add a score to check for convergence; although for now we know that missing data ELBO computation can be problematic.\n",
    "\n",
    "**Note**: due to 5 above, results with missing data does not make sense anyways because ELBO-based check for convergence is not yet working with missing data. I am removing results for missing data computation from displaying for now."
   ]
  },
  {
   "cell_type": "markdown",
   "metadata": {
    "kernel": "SoS"
   },
   "source": [
    "## Conclusion\n",
    "\n",
    "1. Under simple situation, that is, small number of effects, small enough L, and no missing data, increasing $R=5$ to $R=45$ does not seem to harm.\n",
    "    - And as expected from the simulated senario, increased number of conditions help with the power due to sharing of effects by magnitude.\n",
    "2. CS overlapping situation exists, and gets worse as $R$ increases, even for `L=2` and lower power setting compared to previous simulation.\n",
    "    - Using an oracle covariance does not seem to have helped.\n",
    "3. FLASH based covariance hurts the power.\n",
    "\n",
    "## Next steps for this investigation\n",
    "\n",
    "1. Add to this benchmark $L=10$ run ... because effect number has changed it is difficult to compare with previous results using $L=10$.\n",
    "2. Missing data situation: when ELBO computation is not involved and when residual covariance is simply diag, missing data handling should be really easy -- not sure how to check for that \"bug\".\n",
    "3. Should we fix ELBO computation for when there is missing data? If so, how?\n",
    "4. Not shown on this benchmark: ELBO has some bugs with using EE model (alpha = 0) -- some results are NaN. I suspect it has something to do with when both `bhat` and `sbhat` are NA in univariate regression. Currently we set `bhat=0` and `sbhat=1E6`, for those situations."
   ]
  },
  {
   "cell_type": "markdown",
   "metadata": {
    "kernel": "SoS"
   },
   "source": [
    "The corresponding DSC code are from `35d4456379236bd48c0eef79142168661cfbd83b` and to be reproduced as follows:\n",
    "\n",
    "```\n",
    "./finemap.dsc --host dsc_mnm.yml -o mnm_20191114\n",
    "```"
   ]
  },
  {
   "cell_type": "code",
   "execution_count": 1,
   "metadata": {
    "kernel": "SoS"
   },
   "outputs": [
    {
     "name": "stdout",
     "output_type": "stream",
     "text": [
      "/project2/mstephens/gaow/mvarbvs/dsc_mnm"
     ]
    }
   ],
   "source": [
    "%cd ~/GIT/mvarbvs/dsc_mnm"
   ]
  },
  {
   "cell_type": "code",
   "execution_count": 8,
   "metadata": {
    "kernel": "R"
   },
   "outputs": [],
   "source": [
    "start_time <- Sys.time()\n",
    "out = dscrutils::dscquery('mnm_20191114', targets = c('simulate.n_traits', 'mnm.resid_method', 'mnm.missing_Y', 'mnm.alpha', 'mnm.L', 'susie_scores.total', 'susie_scores.valid', 'susie_scores.size', 'susie_scores.purity', 'susie_scores.top', 'susie_scores.n_causal', 'susie_scores.included_causal', 'susie_scores.overlap_var', 'susie_scores.overlap_cs','susie_scores.false_pos_cond_discoveries', 'susie_scores.false_neg_cond_discoveries', 'susie_scores.true_cond_discoveries', 'susie_scores.converged'), verbose = F)\n",
    "end_time <- Sys.time()"
   ]
  },
  {
   "cell_type": "code",
   "execution_count": 9,
   "metadata": {
    "kernel": "R"
   },
   "outputs": [
    {
     "data": {
      "text/plain": [
       "Time difference of 16.87277 secs"
      ]
     },
     "metadata": {},
     "output_type": "display_data"
    }
   ],
   "source": [
    "end_time - start_time"
   ]
  },
  {
   "cell_type": "code",
   "execution_count": 10,
   "metadata": {
    "kernel": "R"
   },
   "outputs": [
    {
     "data": {
      "text/html": [
       "<table>\n",
       "<thead><tr><th scope=col>DSC</th><th scope=col>simulate.n_traits</th><th scope=col>mnm.resid_method</th><th scope=col>mnm.missing_Y</th><th scope=col>mnm.alpha</th><th scope=col>mnm.L</th><th scope=col>susie_scores.total</th><th scope=col>susie_scores.valid</th><th scope=col>susie_scores.size</th><th scope=col>susie_scores.purity</th><th scope=col>susie_scores.top</th><th scope=col>susie_scores.n_causal</th><th scope=col>susie_scores.included_causal</th><th scope=col>susie_scores.overlap_var</th><th scope=col>susie_scores.overlap_cs</th><th scope=col>susie_scores.false_pos_cond_discoveries</th><th scope=col>susie_scores.false_neg_cond_discoveries</th><th scope=col>susie_scores.true_cond_discoveries</th><th scope=col>susie_scores.converged</th></tr></thead>\n",
       "<tbody>\n",
       "\t<tr><td>1        </td><td>5        </td><td>oracle   </td><td>TRUE     </td><td>1        </td><td>2        </td><td>0        </td><td>0        </td><td>0        </td><td>0.0000000</td><td>0        </td><td>1        </td><td>0        </td><td>0        </td><td>0        </td><td>0        </td><td>0        </td><td>0        </td><td>TRUE     </td></tr>\n",
       "\t<tr><td>1        </td><td>5        </td><td>oracle   </td><td>TRUE     </td><td>1        </td><td>2        </td><td>0        </td><td>0        </td><td>0        </td><td>0.0000000</td><td>0        </td><td>1        </td><td>0        </td><td>0        </td><td>0        </td><td>0        </td><td>0        </td><td>0        </td><td>TRUE     </td></tr>\n",
       "\t<tr><td>1        </td><td>5        </td><td>oracle   </td><td>TRUE     </td><td>1        </td><td>2        </td><td>0        </td><td>0        </td><td>0        </td><td>0.0000000</td><td>0        </td><td>1        </td><td>0        </td><td>0        </td><td>0        </td><td>0        </td><td>0        </td><td>0        </td><td>TRUE     </td></tr>\n",
       "\t<tr><td>1        </td><td>5        </td><td>oracle   </td><td>TRUE     </td><td>1        </td><td>2        </td><td>0        </td><td>0        </td><td>0        </td><td>0.0000000</td><td>0        </td><td>1        </td><td>0        </td><td>0        </td><td>0        </td><td>0        </td><td>0        </td><td>0        </td><td>TRUE     </td></tr>\n",
       "\t<tr><td>1        </td><td>5        </td><td>oracle   </td><td>TRUE     </td><td>1        </td><td>2        </td><td>0        </td><td>0        </td><td>0        </td><td>0.0000000</td><td>0        </td><td>1        </td><td>0        </td><td>0        </td><td>0        </td><td>0        </td><td>0        </td><td>0        </td><td>TRUE     </td></tr>\n",
       "\t<tr><td>1        </td><td>5        </td><td>oracle   </td><td>TRUE     </td><td>1        </td><td>2        </td><td>1        </td><td>1        </td><td>3        </td><td>0.9816157</td><td>1        </td><td>1        </td><td>1        </td><td>0        </td><td>0        </td><td>0        </td><td>0        </td><td>5        </td><td>TRUE     </td></tr>\n",
       "</tbody>\n",
       "</table>\n"
      ],
      "text/latex": [
       "\\begin{tabular}{r|lllllllllllllllllll}\n",
       " DSC & simulate.n\\_traits & mnm.resid\\_method & mnm.missing\\_Y & mnm.alpha & mnm.L & susie\\_scores.total & susie\\_scores.valid & susie\\_scores.size & susie\\_scores.purity & susie\\_scores.top & susie\\_scores.n\\_causal & susie\\_scores.included\\_causal & susie\\_scores.overlap\\_var & susie\\_scores.overlap\\_cs & susie\\_scores.false\\_pos\\_cond\\_discoveries & susie\\_scores.false\\_neg\\_cond\\_discoveries & susie\\_scores.true\\_cond\\_discoveries & susie\\_scores.converged\\\\\n",
       "\\hline\n",
       "\t 1         & 5         & oracle    & TRUE      & 1         & 2         & 0         & 0         & 0         & 0.0000000 & 0         & 1         & 0         & 0         & 0         & 0         & 0         & 0         & TRUE     \\\\\n",
       "\t 1         & 5         & oracle    & TRUE      & 1         & 2         & 0         & 0         & 0         & 0.0000000 & 0         & 1         & 0         & 0         & 0         & 0         & 0         & 0         & TRUE     \\\\\n",
       "\t 1         & 5         & oracle    & TRUE      & 1         & 2         & 0         & 0         & 0         & 0.0000000 & 0         & 1         & 0         & 0         & 0         & 0         & 0         & 0         & TRUE     \\\\\n",
       "\t 1         & 5         & oracle    & TRUE      & 1         & 2         & 0         & 0         & 0         & 0.0000000 & 0         & 1         & 0         & 0         & 0         & 0         & 0         & 0         & TRUE     \\\\\n",
       "\t 1         & 5         & oracle    & TRUE      & 1         & 2         & 0         & 0         & 0         & 0.0000000 & 0         & 1         & 0         & 0         & 0         & 0         & 0         & 0         & TRUE     \\\\\n",
       "\t 1         & 5         & oracle    & TRUE      & 1         & 2         & 1         & 1         & 3         & 0.9816157 & 1         & 1         & 1         & 0         & 0         & 0         & 0         & 5         & TRUE     \\\\\n",
       "\\end{tabular}\n"
      ],
      "text/markdown": [
       "\n",
       "DSC | simulate.n_traits | mnm.resid_method | mnm.missing_Y | mnm.alpha | mnm.L | susie_scores.total | susie_scores.valid | susie_scores.size | susie_scores.purity | susie_scores.top | susie_scores.n_causal | susie_scores.included_causal | susie_scores.overlap_var | susie_scores.overlap_cs | susie_scores.false_pos_cond_discoveries | susie_scores.false_neg_cond_discoveries | susie_scores.true_cond_discoveries | susie_scores.converged | \n",
       "|---|---|---|---|---|---|\n",
       "| 1         | 5         | oracle    | TRUE      | 1         | 2         | 0         | 0         | 0         | 0.0000000 | 0         | 1         | 0         | 0         | 0         | 0         | 0         | 0         | TRUE      | \n",
       "| 1         | 5         | oracle    | TRUE      | 1         | 2         | 0         | 0         | 0         | 0.0000000 | 0         | 1         | 0         | 0         | 0         | 0         | 0         | 0         | TRUE      | \n",
       "| 1         | 5         | oracle    | TRUE      | 1         | 2         | 0         | 0         | 0         | 0.0000000 | 0         | 1         | 0         | 0         | 0         | 0         | 0         | 0         | TRUE      | \n",
       "| 1         | 5         | oracle    | TRUE      | 1         | 2         | 0         | 0         | 0         | 0.0000000 | 0         | 1         | 0         | 0         | 0         | 0         | 0         | 0         | TRUE      | \n",
       "| 1         | 5         | oracle    | TRUE      | 1         | 2         | 0         | 0         | 0         | 0.0000000 | 0         | 1         | 0         | 0         | 0         | 0         | 0         | 0         | TRUE      | \n",
       "| 1         | 5         | oracle    | TRUE      | 1         | 2         | 1         | 1         | 3         | 0.9816157 | 1         | 1         | 1         | 0         | 0         | 0         | 0         | 5         | TRUE      | \n",
       "\n",
       "\n"
      ],
      "text/plain": [
       "  DSC simulate.n_traits mnm.resid_method mnm.missing_Y mnm.alpha mnm.L\n",
       "1 1   5                 oracle           TRUE          1         2    \n",
       "2 1   5                 oracle           TRUE          1         2    \n",
       "3 1   5                 oracle           TRUE          1         2    \n",
       "4 1   5                 oracle           TRUE          1         2    \n",
       "5 1   5                 oracle           TRUE          1         2    \n",
       "6 1   5                 oracle           TRUE          1         2    \n",
       "  susie_scores.total susie_scores.valid susie_scores.size susie_scores.purity\n",
       "1 0                  0                  0                 0.0000000          \n",
       "2 0                  0                  0                 0.0000000          \n",
       "3 0                  0                  0                 0.0000000          \n",
       "4 0                  0                  0                 0.0000000          \n",
       "5 0                  0                  0                 0.0000000          \n",
       "6 1                  1                  3                 0.9816157          \n",
       "  susie_scores.top susie_scores.n_causal susie_scores.included_causal\n",
       "1 0                1                     0                           \n",
       "2 0                1                     0                           \n",
       "3 0                1                     0                           \n",
       "4 0                1                     0                           \n",
       "5 0                1                     0                           \n",
       "6 1                1                     1                           \n",
       "  susie_scores.overlap_var susie_scores.overlap_cs\n",
       "1 0                        0                      \n",
       "2 0                        0                      \n",
       "3 0                        0                      \n",
       "4 0                        0                      \n",
       "5 0                        0                      \n",
       "6 0                        0                      \n",
       "  susie_scores.false_pos_cond_discoveries\n",
       "1 0                                      \n",
       "2 0                                      \n",
       "3 0                                      \n",
       "4 0                                      \n",
       "5 0                                      \n",
       "6 0                                      \n",
       "  susie_scores.false_neg_cond_discoveries susie_scores.true_cond_discoveries\n",
       "1 0                                       0                                 \n",
       "2 0                                       0                                 \n",
       "3 0                                       0                                 \n",
       "4 0                                       0                                 \n",
       "5 0                                       0                                 \n",
       "6 0                                       5                                 \n",
       "  susie_scores.converged\n",
       "1 TRUE                  \n",
       "2 TRUE                  \n",
       "3 TRUE                  \n",
       "4 TRUE                  \n",
       "5 TRUE                  \n",
       "6 TRUE                  "
      ]
     },
     "metadata": {},
     "output_type": "display_data"
    }
   ],
   "source": [
    "head(out)"
   ]
  },
  {
   "cell_type": "code",
   "execution_count": 11,
   "metadata": {
    "kernel": "R"
   },
   "outputs": [
    {
     "data": {
      "text/html": [
       "<ol class=list-inline>\n",
       "\t<li>3048</li>\n",
       "\t<li>19</li>\n",
       "</ol>\n"
      ],
      "text/latex": [
       "\\begin{enumerate*}\n",
       "\\item 3048\n",
       "\\item 19\n",
       "\\end{enumerate*}\n"
      ],
      "text/markdown": [
       "1. 3048\n",
       "2. 19\n",
       "\n",
       "\n"
      ],
      "text/plain": [
       "[1] 3048   19"
      ]
     },
     "metadata": {},
     "output_type": "display_data"
    }
   ],
   "source": [
    "dim(out)"
   ]
  },
  {
   "cell_type": "code",
   "execution_count": 12,
   "metadata": {
    "kernel": "R"
   },
   "outputs": [],
   "source": [
    "saveRDS(out, '../data/finemap_output.20191114.rds')"
   ]
  },
  {
   "cell_type": "code",
   "execution_count": 15,
   "metadata": {
    "kernel": "R"
   },
   "outputs": [],
   "source": [
    "res = out[,-1]\n",
    "colnames(res) = c('n_traits', 'resid_method', 'missing', 'EZ_model', 'L', 'total', 'valid', 'size', 'purity', 'top_hit', 'total_true', 'total_true_included', 'overlap_var', 'overlap_cs', 'false_positive_cross_cond', 'false_negative_cross_cond', 'true_positive_cross_cond', 'elbo_converged')"
   ]
  },
  {
   "cell_type": "markdown",
   "metadata": {
    "kernel": "R"
   },
   "source": [
    "### Purity of CS\n",
    "\n",
    "Purity is higher for $R=45$ simply due to higher power; because in this simulation there is no FDR issue."
   ]
  },
  {
   "cell_type": "code",
   "execution_count": 41,
   "metadata": {
    "kernel": "R"
   },
   "outputs": [
    {
     "data": {
      "text/html": [
       "<table>\n",
       "<thead><tr><th></th><th scope=col>n_traits</th><th scope=col>resid_method</th><th scope=col>L</th><th scope=col>purity</th></tr></thead>\n",
       "<tbody>\n",
       "\t<tr><th scope=row>1</th><td> 5       </td><td>diag     </td><td>1        </td><td>0.6564498</td></tr>\n",
       "\t<tr><th scope=row>3</th><td> 5       </td><td>flash    </td><td>1        </td><td>0.3902171</td></tr>\n",
       "\t<tr><th scope=row>5</th><td> 5       </td><td>oracle   </td><td>1        </td><td>0.6976840</td></tr>\n",
       "\t<tr><th scope=row>13</th><td> 5       </td><td>diag     </td><td>2        </td><td>0.5844912</td></tr>\n",
       "\t<tr><th scope=row>15</th><td> 5       </td><td>flash    </td><td>2        </td><td>0.3103291</td></tr>\n",
       "\t<tr><th scope=row>17</th><td> 5       </td><td>oracle   </td><td>2        </td><td>0.6452938</td></tr>\n",
       "\t<tr><th scope=row>2</th><td>45       </td><td>diag     </td><td>1        </td><td>0.9960895</td></tr>\n",
       "\t<tr><th scope=row>4</th><td>45       </td><td>flash    </td><td>1        </td><td>0.5181123</td></tr>\n",
       "\t<tr><th scope=row>6</th><td>45       </td><td>oracle   </td><td>1        </td><td>0.9964939</td></tr>\n",
       "\t<tr><th scope=row>14</th><td>45       </td><td>diag     </td><td>2        </td><td>0.9926904</td></tr>\n",
       "\t<tr><th scope=row>16</th><td>45       </td><td>flash    </td><td>2        </td><td>0.4564801</td></tr>\n",
       "\t<tr><th scope=row>18</th><td>45       </td><td>oracle   </td><td>2        </td><td>0.9936276</td></tr>\n",
       "</tbody>\n",
       "</table>\n"
      ],
      "text/latex": [
       "\\begin{tabular}{r|llll}\n",
       "  & n\\_traits & resid\\_method & L & purity\\\\\n",
       "\\hline\n",
       "\t1 &  5        & diag      & 1         & 0.6564498\\\\\n",
       "\t3 &  5        & flash     & 1         & 0.3902171\\\\\n",
       "\t5 &  5        & oracle    & 1         & 0.6976840\\\\\n",
       "\t13 &  5        & diag      & 2         & 0.5844912\\\\\n",
       "\t15 &  5        & flash     & 2         & 0.3103291\\\\\n",
       "\t17 &  5        & oracle    & 2         & 0.6452938\\\\\n",
       "\t2 & 45        & diag      & 1         & 0.9960895\\\\\n",
       "\t4 & 45        & flash     & 1         & 0.5181123\\\\\n",
       "\t6 & 45        & oracle    & 1         & 0.9964939\\\\\n",
       "\t14 & 45        & diag      & 2         & 0.9926904\\\\\n",
       "\t16 & 45        & flash     & 2         & 0.4564801\\\\\n",
       "\t18 & 45        & oracle    & 2         & 0.9936276\\\\\n",
       "\\end{tabular}\n"
      ],
      "text/markdown": [
       "\n",
       "| <!--/--> | n_traits | resid_method | L | purity | \n",
       "|---|---|---|---|---|---|---|---|---|---|---|---|\n",
       "| 1 |  5        | diag      | 1         | 0.6564498 | \n",
       "| 3 |  5        | flash     | 1         | 0.3902171 | \n",
       "| 5 |  5        | oracle    | 1         | 0.6976840 | \n",
       "| 13 |  5        | diag      | 2         | 0.5844912 | \n",
       "| 15 |  5        | flash     | 2         | 0.3103291 | \n",
       "| 17 |  5        | oracle    | 2         | 0.6452938 | \n",
       "| 2 | 45        | diag      | 1         | 0.9960895 | \n",
       "| 4 | 45        | flash     | 1         | 0.5181123 | \n",
       "| 6 | 45        | oracle    | 1         | 0.9964939 | \n",
       "| 14 | 45        | diag      | 2         | 0.9926904 | \n",
       "| 16 | 45        | flash     | 2         | 0.4564801 | \n",
       "| 18 | 45        | oracle    | 2         | 0.9936276 | \n",
       "\n",
       "\n"
      ],
      "text/plain": [
       "   n_traits resid_method L purity   \n",
       "1   5       diag         1 0.6564498\n",
       "3   5       flash        1 0.3902171\n",
       "5   5       oracle       1 0.6976840\n",
       "13  5       diag         2 0.5844912\n",
       "15  5       flash        2 0.3103291\n",
       "17  5       oracle       2 0.6452938\n",
       "2  45       diag         1 0.9960895\n",
       "4  45       flash        1 0.5181123\n",
       "6  45       oracle       1 0.9964939\n",
       "14 45       diag         2 0.9926904\n",
       "16 45       flash        2 0.4564801\n",
       "18 45       oracle       2 0.9936276"
      ]
     },
     "metadata": {},
     "output_type": "display_data"
    }
   ],
   "source": [
    "purity = aggregate(purity~n_traits + resid_method + missing + L, res, mean)\n",
    "purity = purity[which(purity$missing==FALSE),-3]\n",
    "purity = purity[order(purity$n_traits),]\n",
    "purity"
   ]
  },
  {
   "cell_type": "markdown",
   "metadata": {
    "kernel": "R"
   },
   "source": [
    "### Power of CS\n",
    "\n",
    "Focusing on $L = 2$ to evaluate overlapping CS status. In this case there still exists overlaps between CS, but not as many as with $L=10$. Overlapping status got worse when increased $R$."
   ]
  },
  {
   "cell_type": "code",
   "execution_count": 45,
   "metadata": {
    "kernel": "R"
   },
   "outputs": [
    {
     "data": {
      "text/html": [
       "<table>\n",
       "<thead><tr><th></th><th scope=col>n_traits</th><th scope=col>resid_method</th><th scope=col>L</th><th scope=col>total_true_included</th><th scope=col>total_true</th><th scope=col>overlap_cs</th><th scope=col>overlap_var</th><th scope=col>power</th></tr></thead>\n",
       "<tbody>\n",
       "\t<tr><th scope=row>13</th><td> 5    </td><td>diag  </td><td>1     </td><td> 92   </td><td>127   </td><td>0.000 </td><td> 0.000</td><td>0.724 </td></tr>\n",
       "\t<tr><th scope=row>17</th><td> 5    </td><td>flash </td><td>1     </td><td> 58   </td><td>127   </td><td>0.000 </td><td> 0.000</td><td>0.457 </td></tr>\n",
       "\t<tr><th scope=row>21</th><td> 5    </td><td>oracle</td><td>1     </td><td> 97   </td><td>127   </td><td>0.000 </td><td> 0.000</td><td>0.764 </td></tr>\n",
       "\t<tr><th scope=row>1</th><td>45    </td><td>diag  </td><td>1     </td><td>127   </td><td>127   </td><td>0.000 </td><td> 0.000</td><td>1.000 </td></tr>\n",
       "\t<tr><th scope=row>5</th><td>45    </td><td>flash </td><td>1     </td><td> 71   </td><td>127   </td><td>0.000 </td><td> 0.000</td><td>0.559 </td></tr>\n",
       "\t<tr><th scope=row>9</th><td>45    </td><td>oracle</td><td>1     </td><td>127   </td><td>127   </td><td>0.000 </td><td> 0.000</td><td>1.000 </td></tr>\n",
       "\t<tr><th scope=row>14</th><td> 5    </td><td>diag  </td><td>2     </td><td> 85   </td><td>127   </td><td>0.008 </td><td> 0.433</td><td>0.669 </td></tr>\n",
       "\t<tr><th scope=row>18</th><td> 5    </td><td>flash </td><td>2     </td><td> 46   </td><td>127   </td><td>0.000 </td><td> 0.000</td><td>0.362 </td></tr>\n",
       "\t<tr><th scope=row>22</th><td> 5    </td><td>oracle</td><td>2     </td><td> 92   </td><td>127   </td><td>0.008 </td><td> 0.110</td><td>0.724 </td></tr>\n",
       "\t<tr><th scope=row>2</th><td>45    </td><td>diag  </td><td>2     </td><td>127   </td><td>127   </td><td>0.024 </td><td> 0.331</td><td>1.000 </td></tr>\n",
       "\t<tr><th scope=row>6</th><td>45    </td><td>flash </td><td>2     </td><td> 66   </td><td>127   </td><td>0.039 </td><td>12.441</td><td>0.520 </td></tr>\n",
       "\t<tr><th scope=row>10</th><td>45    </td><td>oracle</td><td>2     </td><td>127   </td><td>127   </td><td>0.031 </td><td> 0.449</td><td>1.000 </td></tr>\n",
       "</tbody>\n",
       "</table>\n"
      ],
      "text/latex": [
       "\\begin{tabular}{r|llllllll}\n",
       "  & n\\_traits & resid\\_method & L & total\\_true\\_included & total\\_true & overlap\\_cs & overlap\\_var & power\\\\\n",
       "\\hline\n",
       "\t13 &  5     & diag   & 1      &  92    & 127    & 0.000  &  0.000 & 0.724 \\\\\n",
       "\t17 &  5     & flash  & 1      &  58    & 127    & 0.000  &  0.000 & 0.457 \\\\\n",
       "\t21 &  5     & oracle & 1      &  97    & 127    & 0.000  &  0.000 & 0.764 \\\\\n",
       "\t1 & 45     & diag   & 1      & 127    & 127    & 0.000  &  0.000 & 1.000 \\\\\n",
       "\t5 & 45     & flash  & 1      &  71    & 127    & 0.000  &  0.000 & 0.559 \\\\\n",
       "\t9 & 45     & oracle & 1      & 127    & 127    & 0.000  &  0.000 & 1.000 \\\\\n",
       "\t14 &  5     & diag   & 2      &  85    & 127    & 0.008  &  0.433 & 0.669 \\\\\n",
       "\t18 &  5     & flash  & 2      &  46    & 127    & 0.000  &  0.000 & 0.362 \\\\\n",
       "\t22 &  5     & oracle & 2      &  92    & 127    & 0.008  &  0.110 & 0.724 \\\\\n",
       "\t2 & 45     & diag   & 2      & 127    & 127    & 0.024  &  0.331 & 1.000 \\\\\n",
       "\t6 & 45     & flash  & 2      &  66    & 127    & 0.039  & 12.441 & 0.520 \\\\\n",
       "\t10 & 45     & oracle & 2      & 127    & 127    & 0.031  &  0.449 & 1.000 \\\\\n",
       "\\end{tabular}\n"
      ],
      "text/markdown": [
       "\n",
       "| <!--/--> | n_traits | resid_method | L | total_true_included | total_true | overlap_cs | overlap_var | power | \n",
       "|---|---|---|---|---|---|---|---|---|---|---|---|\n",
       "| 13 |  5     | diag   | 1      |  92    | 127    | 0.000  |  0.000 | 0.724  | \n",
       "| 17 |  5     | flash  | 1      |  58    | 127    | 0.000  |  0.000 | 0.457  | \n",
       "| 21 |  5     | oracle | 1      |  97    | 127    | 0.000  |  0.000 | 0.764  | \n",
       "| 1 | 45     | diag   | 1      | 127    | 127    | 0.000  |  0.000 | 1.000  | \n",
       "| 5 | 45     | flash  | 1      |  71    | 127    | 0.000  |  0.000 | 0.559  | \n",
       "| 9 | 45     | oracle | 1      | 127    | 127    | 0.000  |  0.000 | 1.000  | \n",
       "| 14 |  5     | diag   | 2      |  85    | 127    | 0.008  |  0.433 | 0.669  | \n",
       "| 18 |  5     | flash  | 2      |  46    | 127    | 0.000  |  0.000 | 0.362  | \n",
       "| 22 |  5     | oracle | 2      |  92    | 127    | 0.008  |  0.110 | 0.724  | \n",
       "| 2 | 45     | diag   | 2      | 127    | 127    | 0.024  |  0.331 | 1.000  | \n",
       "| 6 | 45     | flash  | 2      |  66    | 127    | 0.039  | 12.441 | 0.520  | \n",
       "| 10 | 45     | oracle | 2      | 127    | 127    | 0.031  |  0.449 | 1.000  | \n",
       "\n",
       "\n"
      ],
      "text/plain": [
       "   n_traits resid_method L total_true_included total_true overlap_cs\n",
       "13  5       diag         1  92                 127        0.000     \n",
       "17  5       flash        1  58                 127        0.000     \n",
       "21  5       oracle       1  97                 127        0.000     \n",
       "1  45       diag         1 127                 127        0.000     \n",
       "5  45       flash        1  71                 127        0.000     \n",
       "9  45       oracle       1 127                 127        0.000     \n",
       "14  5       diag         2  85                 127        0.008     \n",
       "18  5       flash        2  46                 127        0.000     \n",
       "22  5       oracle       2  92                 127        0.008     \n",
       "2  45       diag         2 127                 127        0.024     \n",
       "6  45       flash        2  66                 127        0.039     \n",
       "10 45       oracle       2 127                 127        0.031     \n",
       "   overlap_var power\n",
       "13  0.000      0.724\n",
       "17  0.000      0.457\n",
       "21  0.000      0.764\n",
       "1   0.000      1.000\n",
       "5   0.000      0.559\n",
       "9   0.000      1.000\n",
       "14  0.433      0.669\n",
       "18  0.000      0.362\n",
       "22  0.110      0.724\n",
       "2   0.331      1.000\n",
       "6  12.441      0.520\n",
       "10  0.449      1.000"
      ]
     },
     "metadata": {},
     "output_type": "display_data"
    }
   ],
   "source": [
    "total_true_included = aggregate(total_true_included ~ n_traits + resid_method + missing + L, res, sum)\n",
    "total_true = aggregate(total_true ~  n_traits + resid_method + missing + L, res, sum)\n",
    "cs_overlap = aggregate(overlap_cs ~  n_traits + resid_method + missing + L, res, mean)\n",
    "snp_overlap = aggregate(overlap_var ~  n_traits + resid_method + missing + L, res, mean)\n",
    "power = merge(total_true_included, total_true, by = c( 'n_traits' , 'resid_method' , 'missing' , 'L'))\n",
    "power = merge(power, cs_overlap,  by = c( 'n_traits' , 'resid_method' , 'missing' , 'L'))\n",
    "power = merge(power, snp_overlap,  by = c( 'n_traits' , 'resid_method' , 'missing' , 'L'))\n",
    "power$power = round(power$total_true_included/power$total_true,3)\n",
    "power$overlap_cs = round(power$overlap_cs, 3)\n",
    "power$overlap_var = round(power$overlap_var, 3)\n",
    "power = power[which(power$missing==FALSE),-3]\n",
    "power = power[order(power$n_traits),]\n",
    "power = power[order(power$L),]\n",
    "power"
   ]
  },
  {
   "cell_type": "markdown",
   "metadata": {
    "kernel": "R"
   },
   "source": [
    "### FDR of CS"
   ]
  },
  {
   "cell_type": "code",
   "execution_count": 46,
   "metadata": {
    "kernel": "R"
   },
   "outputs": [
    {
     "data": {
      "text/html": [
       "<table>\n",
       "<thead><tr><th></th><th scope=col>n_traits</th><th scope=col>resid_method</th><th scope=col>L</th><th scope=col>valid</th><th scope=col>total</th><th scope=col>fdr</th></tr></thead>\n",
       "<tbody>\n",
       "\t<tr><th scope=row>13</th><td> 5    </td><td>diag  </td><td>1     </td><td> 92   </td><td> 92   </td><td>0.000 </td></tr>\n",
       "\t<tr><th scope=row>14</th><td> 5    </td><td>diag  </td><td>2     </td><td> 86   </td><td> 86   </td><td>0.000 </td></tr>\n",
       "\t<tr><th scope=row>17</th><td> 5    </td><td>flash </td><td>1     </td><td> 58   </td><td> 58   </td><td>0.000 </td></tr>\n",
       "\t<tr><th scope=row>18</th><td> 5    </td><td>flash </td><td>2     </td><td> 46   </td><td> 46   </td><td>0.000 </td></tr>\n",
       "\t<tr><th scope=row>21</th><td> 5    </td><td>oracle</td><td>1     </td><td> 97   </td><td> 97   </td><td>0.000 </td></tr>\n",
       "\t<tr><th scope=row>22</th><td> 5    </td><td>oracle</td><td>2     </td><td> 93   </td><td> 93   </td><td>0.000 </td></tr>\n",
       "\t<tr><th scope=row>1</th><td>45    </td><td>diag  </td><td>1     </td><td>127   </td><td>127   </td><td>0.000 </td></tr>\n",
       "\t<tr><th scope=row>2</th><td>45    </td><td>diag  </td><td>2     </td><td>130   </td><td>130   </td><td>0.000 </td></tr>\n",
       "\t<tr><th scope=row>5</th><td>45    </td><td>flash </td><td>1     </td><td> 71   </td><td> 72   </td><td>0.014 </td></tr>\n",
       "\t<tr><th scope=row>6</th><td>45    </td><td>flash </td><td>2     </td><td> 71   </td><td> 72   </td><td>0.014 </td></tr>\n",
       "\t<tr><th scope=row>9</th><td>45    </td><td>oracle</td><td>1     </td><td>127   </td><td>127   </td><td>0.000 </td></tr>\n",
       "\t<tr><th scope=row>10</th><td>45    </td><td>oracle</td><td>2     </td><td>131   </td><td>131   </td><td>0.000 </td></tr>\n",
       "</tbody>\n",
       "</table>\n"
      ],
      "text/latex": [
       "\\begin{tabular}{r|llllll}\n",
       "  & n\\_traits & resid\\_method & L & valid & total & fdr\\\\\n",
       "\\hline\n",
       "\t13 &  5     & diag   & 1      &  92    &  92    & 0.000 \\\\\n",
       "\t14 &  5     & diag   & 2      &  86    &  86    & 0.000 \\\\\n",
       "\t17 &  5     & flash  & 1      &  58    &  58    & 0.000 \\\\\n",
       "\t18 &  5     & flash  & 2      &  46    &  46    & 0.000 \\\\\n",
       "\t21 &  5     & oracle & 1      &  97    &  97    & 0.000 \\\\\n",
       "\t22 &  5     & oracle & 2      &  93    &  93    & 0.000 \\\\\n",
       "\t1 & 45     & diag   & 1      & 127    & 127    & 0.000 \\\\\n",
       "\t2 & 45     & diag   & 2      & 130    & 130    & 0.000 \\\\\n",
       "\t5 & 45     & flash  & 1      &  71    &  72    & 0.014 \\\\\n",
       "\t6 & 45     & flash  & 2      &  71    &  72    & 0.014 \\\\\n",
       "\t9 & 45     & oracle & 1      & 127    & 127    & 0.000 \\\\\n",
       "\t10 & 45     & oracle & 2      & 131    & 131    & 0.000 \\\\\n",
       "\\end{tabular}\n"
      ],
      "text/markdown": [
       "\n",
       "| <!--/--> | n_traits | resid_method | L | valid | total | fdr | \n",
       "|---|---|---|---|---|---|---|---|---|---|---|---|\n",
       "| 13 |  5     | diag   | 1      |  92    |  92    | 0.000  | \n",
       "| 14 |  5     | diag   | 2      |  86    |  86    | 0.000  | \n",
       "| 17 |  5     | flash  | 1      |  58    |  58    | 0.000  | \n",
       "| 18 |  5     | flash  | 2      |  46    |  46    | 0.000  | \n",
       "| 21 |  5     | oracle | 1      |  97    |  97    | 0.000  | \n",
       "| 22 |  5     | oracle | 2      |  93    |  93    | 0.000  | \n",
       "| 1 | 45     | diag   | 1      | 127    | 127    | 0.000  | \n",
       "| 2 | 45     | diag   | 2      | 130    | 130    | 0.000  | \n",
       "| 5 | 45     | flash  | 1      |  71    |  72    | 0.014  | \n",
       "| 6 | 45     | flash  | 2      |  71    |  72    | 0.014  | \n",
       "| 9 | 45     | oracle | 1      | 127    | 127    | 0.000  | \n",
       "| 10 | 45     | oracle | 2      | 131    | 131    | 0.000  | \n",
       "\n",
       "\n"
      ],
      "text/plain": [
       "   n_traits resid_method L valid total fdr  \n",
       "13  5       diag         1  92    92   0.000\n",
       "14  5       diag         2  86    86   0.000\n",
       "17  5       flash        1  58    58   0.000\n",
       "18  5       flash        2  46    46   0.000\n",
       "21  5       oracle       1  97    97   0.000\n",
       "22  5       oracle       2  93    93   0.000\n",
       "1  45       diag         1 127   127   0.000\n",
       "2  45       diag         2 130   130   0.000\n",
       "5  45       flash        1  71    72   0.014\n",
       "6  45       flash        2  71    72   0.014\n",
       "9  45       oracle       1 127   127   0.000\n",
       "10 45       oracle       2 131   131   0.000"
      ]
     },
     "metadata": {},
     "output_type": "display_data"
    }
   ],
   "source": [
    "valid = aggregate(valid ~ n_traits + resid_method + missing + L, res, sum)\n",
    "total = aggregate(total ~ n_traits + resid_method + missing + L, res, sum)\n",
    "fdr = merge(valid, total, by = c( 'n_traits' , 'resid_method' , 'missing' , 'L'))\n",
    "fdr$fdr = round((fdr$total - fdr$valid)/fdr$total,3)\n",
    "fdr = fdr[which(fdr$missing==FALSE),-3]\n",
    "fdr = fdr[order(fdr$n_traits),]\n",
    "fdr"
   ]
  },
  {
   "cell_type": "markdown",
   "metadata": {
    "kernel": "R"
   },
   "source": [
    "## Convergence\n",
    "\n",
    "Based on ELBO. In principle all runs should converge by ELBO. If it is not converged, then it means ELBO is not non-increasing.\n",
    "\n",
    "It is only relevant to focus on $L>1$. For without missing data the runs do converge wrt ELBO."
   ]
  },
  {
   "cell_type": "code",
   "execution_count": 47,
   "metadata": {
    "kernel": "R"
   },
   "outputs": [
    {
     "data": {
      "text/html": [
       "<table>\n",
       "<thead><tr><th></th><th scope=col>n_traits</th><th scope=col>resid_method</th><th scope=col>missing</th><th scope=col>elbo_converged</th></tr></thead>\n",
       "<tbody>\n",
       "\t<tr><th scope=row>13</th><td> 5        </td><td>diag      </td><td>FALSE     </td><td>1.00000000</td></tr>\n",
       "\t<tr><th scope=row>15</th><td> 5        </td><td>flash     </td><td>FALSE     </td><td>1.00000000</td></tr>\n",
       "\t<tr><th scope=row>17</th><td> 5        </td><td>oracle    </td><td>FALSE     </td><td>1.00000000</td></tr>\n",
       "\t<tr><th scope=row>19</th><td> 5        </td><td>diag      </td><td> TRUE     </td><td>0.96062992</td></tr>\n",
       "\t<tr><th scope=row>21</th><td> 5        </td><td>flash     </td><td> TRUE     </td><td>0.96062992</td></tr>\n",
       "\t<tr><th scope=row>23</th><td> 5        </td><td>oracle    </td><td> TRUE     </td><td>0.96850394</td></tr>\n",
       "\t<tr><th scope=row>14</th><td>45        </td><td>diag      </td><td>FALSE     </td><td>1.00000000</td></tr>\n",
       "\t<tr><th scope=row>16</th><td>45        </td><td>flash     </td><td>FALSE     </td><td>1.00000000</td></tr>\n",
       "\t<tr><th scope=row>18</th><td>45        </td><td>oracle    </td><td>FALSE     </td><td>1.00000000</td></tr>\n",
       "\t<tr><th scope=row>20</th><td>45        </td><td>diag      </td><td> TRUE     </td><td>0.08661417</td></tr>\n",
       "\t<tr><th scope=row>22</th><td>45        </td><td>flash     </td><td> TRUE     </td><td>0.18110236</td></tr>\n",
       "\t<tr><th scope=row>24</th><td>45        </td><td>oracle    </td><td> TRUE     </td><td>0.07874016</td></tr>\n",
       "</tbody>\n",
       "</table>\n"
      ],
      "text/latex": [
       "\\begin{tabular}{r|llll}\n",
       "  & n\\_traits & resid\\_method & missing & elbo\\_converged\\\\\n",
       "\\hline\n",
       "\t13 &  5         & diag       & FALSE      & 1.00000000\\\\\n",
       "\t15 &  5         & flash      & FALSE      & 1.00000000\\\\\n",
       "\t17 &  5         & oracle     & FALSE      & 1.00000000\\\\\n",
       "\t19 &  5         & diag       &  TRUE      & 0.96062992\\\\\n",
       "\t21 &  5         & flash      &  TRUE      & 0.96062992\\\\\n",
       "\t23 &  5         & oracle     &  TRUE      & 0.96850394\\\\\n",
       "\t14 & 45         & diag       & FALSE      & 1.00000000\\\\\n",
       "\t16 & 45         & flash      & FALSE      & 1.00000000\\\\\n",
       "\t18 & 45         & oracle     & FALSE      & 1.00000000\\\\\n",
       "\t20 & 45         & diag       &  TRUE      & 0.08661417\\\\\n",
       "\t22 & 45         & flash      &  TRUE      & 0.18110236\\\\\n",
       "\t24 & 45         & oracle     &  TRUE      & 0.07874016\\\\\n",
       "\\end{tabular}\n"
      ],
      "text/markdown": [
       "\n",
       "| <!--/--> | n_traits | resid_method | missing | elbo_converged | \n",
       "|---|---|---|---|---|---|---|---|---|---|---|---|\n",
       "| 13 |  5         | diag       | FALSE      | 1.00000000 | \n",
       "| 15 |  5         | flash      | FALSE      | 1.00000000 | \n",
       "| 17 |  5         | oracle     | FALSE      | 1.00000000 | \n",
       "| 19 |  5         | diag       |  TRUE      | 0.96062992 | \n",
       "| 21 |  5         | flash      |  TRUE      | 0.96062992 | \n",
       "| 23 |  5         | oracle     |  TRUE      | 0.96850394 | \n",
       "| 14 | 45         | diag       | FALSE      | 1.00000000 | \n",
       "| 16 | 45         | flash      | FALSE      | 1.00000000 | \n",
       "| 18 | 45         | oracle     | FALSE      | 1.00000000 | \n",
       "| 20 | 45         | diag       |  TRUE      | 0.08661417 | \n",
       "| 22 | 45         | flash      |  TRUE      | 0.18110236 | \n",
       "| 24 | 45         | oracle     |  TRUE      | 0.07874016 | \n",
       "\n",
       "\n"
      ],
      "text/plain": [
       "   n_traits resid_method missing elbo_converged\n",
       "13  5       diag         FALSE   1.00000000    \n",
       "15  5       flash        FALSE   1.00000000    \n",
       "17  5       oracle       FALSE   1.00000000    \n",
       "19  5       diag          TRUE   0.96062992    \n",
       "21  5       flash         TRUE   0.96062992    \n",
       "23  5       oracle        TRUE   0.96850394    \n",
       "14 45       diag         FALSE   1.00000000    \n",
       "16 45       flash        FALSE   1.00000000    \n",
       "18 45       oracle       FALSE   1.00000000    \n",
       "20 45       diag          TRUE   0.08661417    \n",
       "22 45       flash         TRUE   0.18110236    \n",
       "24 45       oracle        TRUE   0.07874016    "
      ]
     },
     "metadata": {},
     "output_type": "display_data"
    }
   ],
   "source": [
    "elbo_converged = aggregate(elbo_converged~n_traits + resid_method + missing + L, res, mean)\n",
    "#elbo_converged = elbo_converged[which(elbo_converged$missing==FALSE),-3]\n",
    "elbo_converged = elbo_converged[which(elbo_converged$L!=1),-4]\n",
    "elbo_converged = elbo_converged[order(elbo_converged$n_traits),]\n",
    "elbo_converged"
   ]
  }
 ],
 "metadata": {
  "kernelspec": {
   "display_name": "SoS",
   "language": "sos",
   "name": "sos"
  },
  "language_info": {
   "codemirror_mode": "sos",
   "file_extension": ".sos",
   "mimetype": "text/x-sos",
   "name": "sos",
   "nbconvert_exporter": "sos_notebook.converter.SoS_Exporter",
   "pygments_lexer": "sos"
  },
  "sos": {
   "kernels": [
    [
     "R",
     "ir",
     "R",
     "#DCDCDA"
    ]
   ],
   "version": "0.20.5"
  }
 },
 "nbformat": 4,
 "nbformat_minor": 4
}
