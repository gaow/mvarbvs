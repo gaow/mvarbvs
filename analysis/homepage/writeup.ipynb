{
 "cells": [
  {
   "cell_type": "markdown",
   "metadata": {
    "collapsed": true,
    "deletable": true,
    "editable": true
   },
   "source": [
    "# Notes & reports"
   ]
  },
  {
   "cell_type": "markdown",
   "metadata": {
    "deletable": true,
    "editable": true
   },
   "source": [
    "## Meetings\n",
    "\n",
    "[Here](doc/writeup/Meetings.html) is minutes for project meetings."
   ]
  },
  {
   "cell_type": "markdown",
   "metadata": {
    "deletable": true,
    "editable": true
   },
   "source": [
    "## Written documents \n",
    "* [20161031](https://github.com/gaow/mvarbvs/tree/master/analysis/writeup/identity_cov_writeup)<br>\n",
    "&nbsp; &nbsp; mnmash model assuming identity covariance\n",
    "\n",
    "* [20161101](https://github.com/gaow/mvarbvs/tree/master/analysis/writeup/lr_diag_cov)<br>\n",
    "&nbsp; &nbsp; mnmash model assuming diagonal plus low rank covariance\n",
    "\n",
    "* [20161102](https://github.com/gaow/mvarbvs/tree/master/analysis/writeup/lr_diag_cov/dirichlet_ml)<br>\n",
    "&nbsp; &nbsp; Estimating mixture proportions jointly for all genes in eQTL application "
   ]
  }
 ],
 "metadata": {
  "kernelspec": {
   "display_name": "SoS",
   "language": "sos",
   "name": "sos"
  },
  "language_info": {
   "codemirror_mode": "sos",
   "file_extension": ".sos",
   "mimetype": "text/x-sos",
   "name": "sos",
   "nbconvert_exporter": "sos.jupyter.converter.SoS_Exporter",
   "pygments_lexer": "sos"
  },
  "sos": {
   "celltoolbar": true,
   "kernels": [
    [
     "sos",
     "SoS",
     ""
    ],
    [
     "r",
     "r",
     ""
    ],
    [
     "ir",
     "R",
     "#FDEDEC"
    ],
    [
     "python3",
     "Python3",
     "#EAFAF1"
    ]
   ],
   "panel": {
    "displayed": true,
    "height": 0,
    "style": "side"
   }
  }
 },
 "nbformat": 4,
 "nbformat_minor": 2
}
