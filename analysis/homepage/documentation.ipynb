{
 "cells": [
  {
   "cell_type": "markdown",
   "metadata": {},
   "source": [
    "# Analysis notebook"
   ]
  },
  {
   "cell_type": "markdown",
   "metadata": {},
   "source": [
    "## Simulations\n",
    "### 2017/06\n",
    "* [Generating simulated data-set](doc/documentation/MR-ASH-Simulation.html)"
   ]
  },
  {
   "cell_type": "markdown",
   "metadata": {},
   "source": [
    "## Data analysis\n",
    "### 2017/06\n",
    "* [20170608 mr-ash on toy example](doc/documentation/MR-ASH-Example.html)\n",
    "\n",
    "### 2017/05\n",
    "* [20170523 GTEx PCA label matching](doc/documentation/20170523-GTEx-PCA-Label.html)\n",
    "* [20170518 Imputation summary](doc/documentation/20170518-Imputation-Summary.html)\n",
    "* [20170515 GTEx V7 Genotype missingness summary](doc/documentation/20170515-V7-Missing-Data.html)\n",
    "\n",
    "### 2017/04\n",
    "\n",
    "* [20170425 V7 RNA-Seq data formatting](doc/documentation/v7-rnaseq-preprocessing.html)\n",
    "\n",
    "## Pipelines\n",
    "### 2017/05\n",
    "* [GTEx V7 pipeline](doc/pipeline/Pipelines.html)"
   ]
  }
 ],
 "metadata": {
  "kernelspec": {
   "display_name": "Python 3",
   "language": "python",
   "name": "python3"
  },
  "language_info": {
   "codemirror_mode": {
    "name": "ipython",
    "version": 3
   },
   "file_extension": ".py",
   "mimetype": "text/x-python",
   "name": "python",
   "nbconvert_exporter": "python",
   "pygments_lexer": "ipython3",
   "version": "3.6.0"
  }
 },
 "nbformat": 4,
 "nbformat_minor": 1
}
