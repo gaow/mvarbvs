{
 "cells": [
  {
   "cell_type": "markdown",
   "metadata": {
    "deletable": true,
    "editable": true
   },
   "source": [
    "# Multivariate Bayesian variable selection"
   ]
  },
  {
   "cell_type": "markdown",
   "metadata": {},
   "source": [
    "## Connected work\n",
    "\n",
    "* varbvs\n",
    "* rss\n",
    "* ash\n",
    "* mash\n",
    "* mrash\n",
    "* BMASS\n",
    "\n",
    "## Questions\n",
    "\n",
    "* How can m&m ash generalize all theses work\n",
    "  * We have to think carefully what to incorperate in the generalized framework, and how to incorporate them\n",
    "  * In particular how can we combine mrash / rss + mash?\n",
    "* Do we start from summary statistics or full data?\n",
    "* Do we need MCMC in addition to VEM?\n",
    "\n",
    "Implementation-wise, shall we not write any code until we finalize on how the generalized framework is formulated? We should think \"modularly\" and we make contributions directly to other modules whenever possible, then build m&m ash with these modules.\n",
    "\n",
    "## What to do with `mrash` as a standalone work?\n",
    "If we start from full data then `mrash` is a natural first step."
   ]
  }
 ],
 "metadata": {
  "kernelspec": {
   "display_name": "Python 3",
   "language": "python",
   "name": "python3"
  },
  "language_info": {
   "codemirror_mode": {
    "name": "ipython",
    "version": 3
   },
   "file_extension": ".py",
   "mimetype": "text/x-python",
   "name": "python",
   "nbconvert_exporter": "python",
   "pygments_lexer": "ipython3",
   "version": "3.5.2"
  }
 },
 "nbformat": 4,
 "nbformat_minor": 0
}
