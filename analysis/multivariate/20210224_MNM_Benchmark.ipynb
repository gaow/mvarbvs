{
 "cells": [
  {
   "cell_type": "markdown",
   "id": "fifty-attachment",
   "metadata": {
    "kernel": "SoS"
   },
   "source": [
    "## mvSuSiE benchmark updated\n",
    "\n",
    "During the past few months we have implemented a few fixes with input from Yuxin who performed mvSuSiE analysis in GWAS context and ironed out some corner cases. Also progress from `udr` package offers us better estimate for mixture prior. We now rerun all the benchmark previously developed and look at updated results."
   ]
  },
  {
   "cell_type": "markdown",
   "id": "preceding-microphone",
   "metadata": {
    "kernel": "SoS"
   },
   "source": [
    "## Benchmark execution\n",
    "\n",
    "Under the `dsc/mnm_prototype` directory,\n",
    "\n",
    "```\n",
    "sos run 20210224_MNM_Benchmark simulation_only\n",
    "sos run 20210224_MNM_Benchmark extract_sumstats\n",
    "sos run 20210224_MNM_Benchmark mixture_model\n",
    "sos run 20210224_MNM_Benchmark mvSuSiE\n",
    "sos run 20210224_MNM_Benchmark mvSuSiE_missing\n",
    "sos run 20210224_MNM_Benchmark mthess\n",
    "```\n"
   ]
  },
  {
   "cell_type": "markdown",
   "id": "unknown-stanley",
   "metadata": {
    "kernel": "SoS"
   },
   "source": [
    "## Workflow implementations"
   ]
  },
  {
   "cell_type": "code",
   "execution_count": null,
   "id": "genuine-prediction",
   "metadata": {
    "kernel": "SoS"
   },
   "outputs": [],
   "source": [
    "[simulation_only]\n",
    "script: interpreter= 'qsub', expand = True\n",
    "#!/bin/bash\n",
    "\n",
    "#SBATCH --time=36:00:00\n",
    "#SBATCH --partition=broadwl\n",
    "#SBATCH --nodes=1\n",
    "#SBATCH --ntasks-per-node=1\n",
    "#SBATCH --cpus-per-task=2\n",
    "#SBATCH --mem-per-cpu=16000\n",
    "#SBATCH --job-name={step_name}\n",
    "#SBATCH --mail-type=BEGIN,END,FAIL\n",
    "\n",
    "module load R\n",
    "./gtex_qtl.dsc --host dsc_mnm.yml --target simulate_only --n_dataset 25000 -o mnm_sumstats -s existing -e ignore &> mnm_sumstats.log"
   ]
  },
  {
   "cell_type": "code",
   "execution_count": null,
   "id": "roman-capability",
   "metadata": {
    "kernel": "SoS"
   },
   "outputs": [],
   "source": [
    "[extract_sumstats_1, mixture_model_1]\n",
    "download: dest_file = 'mixture_prior.ipynb'\n",
    "    https://raw.githubusercontent.com/cumc/bioworkflows/master/multivariate-fine-mapping/mixture_prior.ipynb\n",
    "\n",
    "[extract_sumstats_2]\n",
    "def get_cmd(m):\n",
    "    return f'''\n",
    "    cd {m} && ls *.rds | sed 's/\\.rds//g' > analysis_units.txt && cd -\n",
    "    sos run mixture_prior.ipynb extract_effects \\\n",
    "        --analysis-units {m}/analysis_units.txt \\\n",
    "        --datadir {m} --name {m:b} \\\n",
    "        -c ../../midway2.yml -q midway2 -s build &> extract_sumstats_{m:b}.log\n",
    "    '''\n",
    "cmds = [get_cmd(path(m)) for m in [\"mnm_sumstats/artificial_mixture_identity\", \"mnm_sumstats/gtex_mixture_identity\"]]\n",
    "input: for_each = 'cmds'\n",
    "script: interpreter= 'qsub', expand = True\n",
    "#!/bin/bash\n",
    "  \n",
    "#SBATCH --time=36:00:00\n",
    "#SBATCH --partition=broadwl\n",
    "#SBATCH --nodes=1\n",
    "#SBATCH --ntasks-per-node=1\n",
    "#SBATCH --cpus-per-task=8\n",
    "#SBATCH --mem-per-cpu=2000\n",
    "#SBATCH --job-name={step_name}\n",
    "#SBATCH --mail-type=BEGIN,END,FAIL\n",
    "\n",
    "module load R\n",
    "{_cmds}"
   ]
  },
  {
   "cell_type": "code",
   "execution_count": null,
   "id": "breeding-walter",
   "metadata": {
    "kernel": "SoS"
   },
   "outputs": [],
   "source": [
    "[mixture_model_2]\n",
    "def get_cmd(m):\n",
    "    c1 = f'''\n",
    "    sos run mixture_prior.ipynb ud --name {m} \\\n",
    "        -c ../../midway2.yml -q midway2 -s build &> ed_{m}.log\n",
    "    '''\n",
    "    c2 = f'''\n",
    "    sos run mixture_prior.ipynb ud --ud-method teem --name {m} \\\n",
    "        -c ../../midway2.yml -q midway2 -s build &> teem_{m}.log\n",
    "    '''\n",
    "    c3 = f'''\n",
    "    sos run mixture_prior.ipynb ed --name {m} \\\n",
    "        -c ../../midway2.yml -q midway2 -s build &> bovy_{m}.log\n",
    "    '''\n",
    "    return [c1,c2,c3]\n",
    "cmds = sum([get_cmd(m) for m in [\"artificial_mixture_identity\", \"gtex_mixture_identity\"]], [])\n",
    "input: for_each = 'cmds'\n",
    "script: interpreter= 'qsub', expand = True\n",
    "#!/bin/bash\n",
    "  \n",
    "#SBATCH --time=36:00:00\n",
    "#SBATCH --partition=broadwl\n",
    "#SBATCH --nodes=1\n",
    "#SBATCH --ntasks-per-node=1\n",
    "#SBATCH --cpus-per-task=1\n",
    "#SBATCH --mem-per-cpu=2000\n",
    "#SBATCH --job-name={step_name}\n",
    "#SBATCH --mail-type=BEGIN,END,FAIL\n",
    "\n",
    "module load R\n",
    "{_cmds}"
   ]
  },
  {
   "cell_type": "markdown",
   "id": "jewish-stanley",
   "metadata": {
    "kernel": "SoS"
   },
   "source": [
    "I then made prior data files from these results:"
   ]
  },
  {
   "cell_type": "code",
   "execution_count": 1,
   "id": "compliant-antenna",
   "metadata": {
    "kernel": "R"
   },
   "outputs": [],
   "source": [
    "priors = readRDS('../../data/prior_simulation.rds')"
   ]
  },
  {
   "cell_type": "code",
   "execution_count": 2,
   "id": "consistent-caribbean",
   "metadata": {
    "kernel": "R"
   },
   "outputs": [],
   "source": [
    "priors$gtex_mixture$ED = readRDS('../../dsc/mnm_prototype/output/gtex_mixture_identity.ed_bovy.rds')\n",
    "priors$artificial_mixture_50$ED = readRDS('../../dsc/mnm_prototype/output/artificial_mixture_identity.ed_bovy.rds')\n",
    "priors$gtex_mixture$TEEM = readRDS('../../dsc/mnm_prototype/output/gtex_mixture_identity.teem.rds')\n",
    "priors$artificial_mixture_50$TEEM = readRDS('../../dsc/mnm_prototype/output/artificial_mixture_identity.teem.rds')\n",
    "priors$gtex_mixture$ED_UDR = readRDS('../../dsc/mnm_prototype/output/gtex_mixture_identity.ed.rds')\n",
    "priors$artificial_mixture_50$ED_UDR = readRDS('../../dsc/mnm_prototype/output/artificial_mixture_identity.ed.rds')"
   ]
  },
  {
   "cell_type": "code",
   "execution_count": 3,
   "id": "patent-bradley",
   "metadata": {
    "kernel": "R"
   },
   "outputs": [],
   "source": [
    "saveRDS(priors, '../../data/prior_simulation.rds')"
   ]
  },
  {
   "cell_type": "code",
   "execution_count": null,
   "id": "medium-sampling",
   "metadata": {
    "kernel": "SoS"
   },
   "outputs": [],
   "source": [
    "[mvSuSiE]\n",
    "script: interpreter= 'qsub', expand = True\n",
    "#!/bin/bash\n",
    "  \n",
    "#SBATCH --time=36:00:00\n",
    "#SBATCH --partition=broadwl\n",
    "#SBATCH --nodes=1\n",
    "#SBATCH --ntasks-per-node=1\n",
    "#SBATCH --cpus-per-task=8\n",
    "#SBATCH --mem-per-cpu=2000\n",
    "#SBATCH --job-name={step_name}\n",
    "#SBATCH --mail-type=BEGIN,END,FAIL\n",
    "\n",
    "module load R\n",
    "./gtex_qtl.dsc --host dsc_mnm.yml -o mnm_20210228 -s existing -e ignore &> mnm_20210228.log"
   ]
  },
  {
   "cell_type": "code",
   "execution_count": null,
   "id": "automated-citizen",
   "metadata": {
    "kernel": "SoS"
   },
   "outputs": [],
   "source": [
    "[mvSuSiE_missing]\n",
    "script: interpreter= 'qsub', expand = True\n",
    "#!/bin/bash\n",
    "  \n",
    "#SBATCH --time=36:00:00\n",
    "#SBATCH --partition=broadwl\n",
    "#SBATCH --nodes=1\n",
    "#SBATCH --ntasks-per-node=1\n",
    "#SBATCH --cpus-per-task=8\n",
    "#SBATCH --mem-per-cpu=2000\n",
    "#SBATCH --job-name={step_name}\n",
    "#SBATCH --mail-type=BEGIN,END,FAIL\n",
    "\n",
    "module load R\n",
    "./gtex_qtl.dsc --host dsc_mnm.yml  --target missing_data -o mnm_missing_20210228 -s existing -e ignore &> mnm_missing_20210228.log"
   ]
  },
  {
   "cell_type": "code",
   "execution_count": null,
   "id": "latter-courtesy",
   "metadata": {
    "kernel": "SoS"
   },
   "outputs": [],
   "source": [
    "[mthess]\n",
    "script: interpreter= 'qsub', expand = True\n",
    "#!/bin/bash\n",
    "  \n",
    "#SBATCH --time=36:00:00\n",
    "#SBATCH --partition=broadwl\n",
    "#SBATCH --nodes=1\n",
    "#SBATCH --ntasks-per-node=1\n",
    "#SBATCH --cpus-per-task=8\n",
    "#SBATCH --mem-per-cpu=2000\n",
    "#SBATCH --job-name={step_name}\n",
    "#SBATCH --mail-type=BEGIN,END,FAIL\n",
    "\n",
    "module load R\n",
    "./gtex_qtl.dsc --host dsc_mnm.yml --target mthess -o mthess_20210228 -s existing -e ignore --n_dataset 200 &> mthess_20210228.log"
   ]
  }
 ],
 "metadata": {
  "kernelspec": {
   "display_name": "SoS",
   "language": "sos",
   "name": "sos"
  },
  "language_info": {
   "codemirror_mode": "sos",
   "file_extension": ".sos",
   "mimetype": "text/x-sos",
   "name": "sos",
   "nbconvert_exporter": "sos_notebook.converter.SoS_Exporter",
   "pygments_lexer": "sos"
  },
  "sos": {
   "kernels": [
    [
     "R",
     "ir",
     "R",
     "#DCDCDA",
     ""
    ],
    [
     "SoS",
     "sos",
     "",
     "",
     "sos"
    ]
   ],
   "version": "0.22.4"
  }
 },
 "nbformat": 4,
 "nbformat_minor": 5
}
