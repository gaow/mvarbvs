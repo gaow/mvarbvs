{
 "cells": [
  {
   "cell_type": "markdown",
   "id": "hollow-baseline",
   "metadata": {
    "kernel": "SoS"
   },
   "source": [
    "## The updated mvSuSiE benchmark\n",
    "\n",
    "During the past few months we have implemented a few fixes with input from Yuxin who performed mvSuSiE analysis in GWAS context and ironed out some corner cases. Also progress from `udr` package offers us better estimate for mixture prior. We now rerun all the benchmark previously developed and look at updated results."
   ]
  },
  {
   "cell_type": "markdown",
   "id": "genuine-nirvana",
   "metadata": {
    "kernel": "SoS"
   },
   "source": [
    "## Benchmark execution\n",
    "\n",
    "Under the `dsc/mnm_prototype` directory,\n",
    "\n",
    "```\n",
    "sos run 20210224_MNM_Benchmark simulation_only --data-dir mnm_sumstats\n",
    "sos run 20210224_MNM_Benchmark extract_sumstats --data-dir mnm_sumstats\n",
    "sos run 20210224_MNM_Benchmark mixture_model --data-dir mnm_sumstats\n",
    "sos run 20210224_MNM_Benchmark mvSuSiE --data-dir mnm_20210318\n",
    "sos run 20210224_MNM_Benchmark mvSuSiE_missing --data-dir mnm_missing_20210318\n",
    "sos run 20210224_MNM_Benchmark mthess --data-dir mthess_20210318\n",
    "```"
   ]
  },
  {
   "cell_type": "code",
   "execution_count": null,
   "id": "checked-native",
   "metadata": {
    "kernel": "SoS"
   },
   "outputs": [],
   "source": [
    "[global]\n",
    "parameter: cwd = path('~/GIT/mvarbvs/dsc/mnm_prototype')\n",
    "parameter: data_dir = path\n",
    "def fmtP(x):\n",
    "    return str(x).replace(\".\", \"p\")"
   ]
  },
  {
   "cell_type": "markdown",
   "id": "emotional-collapse",
   "metadata": {
    "kernel": "SoS"
   },
   "source": [
    "### Data simulation"
   ]
  },
  {
   "cell_type": "code",
   "execution_count": null,
   "id": "primary-nerve",
   "metadata": {
    "kernel": "SoS"
   },
   "outputs": [],
   "source": [
    "[simulation_only]\n",
    "script: interpreter= 'qsub', expand = True\n",
    "#!/bin/bash\n",
    "\n",
    "#SBATCH --time=36:00:00\n",
    "#SBATCH --partition=broadwl\n",
    "#SBATCH --nodes=1\n",
    "#SBATCH --ntasks-per-node=1\n",
    "#SBATCH --cpus-per-task=2\n",
    "#SBATCH --mem-per-cpu=16000\n",
    "#SBATCH --job-name={step_name}\n",
    "#SBATCH --mail-type=BEGIN,END,FAIL\n",
    "\n",
    "module load R\n",
    "./gtex_qtl.dsc --host dsc_mnm.yml --target simulate_only --n_dataset 25000 -o {data_dir} -s existing -e ignore &> {data_dir}.log"
   ]
  },
  {
   "cell_type": "markdown",
   "id": "remarkable-independence",
   "metadata": {
    "kernel": "SoS"
   },
   "source": [
    "### Extract summary statistics for mixture model"
   ]
  },
  {
   "cell_type": "code",
   "execution_count": null,
   "id": "productive-andrews",
   "metadata": {
    "kernel": "SoS"
   },
   "outputs": [],
   "source": [
    "[extract_sumstats_1, mixture_model_1]\n",
    "download: dest_file = 'mixture_prior.ipynb'\n",
    "    https://raw.githubusercontent.com/cumc/bioworkflows/master/multivariate-fine-mapping/mixture_prior.ipynb\n",
    "\n",
    "[extract_sumstats_2]\n",
    "def get_cmd(m):\n",
    "    return f'''\n",
    "    cd {m} && ls *.rds | sed 's/\\.rds//g' > analysis_units.txt && cd -\n",
    "    sos run mixture_prior.ipynb extract_effects --cwd {data_dir} \\\n",
    "        --analysis-units {m}/analysis_units.txt \\\n",
    "        --datadir {m} --name {m:b} \\\n",
    "        -c ../../midway2.yml -q midway2 -s build &> extract_sumstats_{m:b}.log\n",
    "    '''\n",
    "cmds = [get_cmd(path(m)) for m in [f\"{data_dir}/artificial_mixture\", f\"{data_dir}/gtex_mixture\"]]\n",
    "input: for_each = 'cmds'\n",
    "script: interpreter= 'qsub', expand = True\n",
    "#!/bin/bash\n",
    "  \n",
    "#SBATCH --time=36:00:00\n",
    "#SBATCH --partition=broadwl\n",
    "#SBATCH --nodes=1\n",
    "#SBATCH --ntasks-per-node=1\n",
    "#SBATCH --cpus-per-task=8\n",
    "#SBATCH --mem-per-cpu=2000\n",
    "#SBATCH --job-name={step_name}\n",
    "#SBATCH --mail-type=BEGIN,END,FAIL\n",
    "\n",
    "module load R\n",
    "{_cmds}"
   ]
  },
  {
   "cell_type": "markdown",
   "id": "genetic-coordinator",
   "metadata": {
    "kernel": "SoS"
   },
   "source": [
    "### Mixture model fitting"
   ]
  },
  {
   "cell_type": "code",
   "execution_count": null,
   "id": "champion-scholarship",
   "metadata": {
    "kernel": "SoS"
   },
   "outputs": [],
   "source": [
    "[mixture_model_2]\n",
    "def get_cmd(m):\n",
    "    c1 = f'''\n",
    "    sos run mixture_prior.ipynb ud --name {m} --cwd {data_dir} --mixture_components flash flash_nonneg pca \\\n",
    "        -c ../../midway2.yml -q midway2 -s build &> ed_{m}.log\n",
    "    '''\n",
    "    c2 = f'''\n",
    "    sos run mixture_prior.ipynb ud --ud-method teem --name {m} --cwd {data_dir} --mixture_components flash flash_nonneg pca \\\n",
    "        -c ../../midway2.yml -q midway2 -s build &> teem_{m}.log\n",
    "    '''\n",
    "    c3 = f'''\n",
    "    sos run mixture_prior.ipynb ed --name {m} --cwd {data_dir} --mixture_components flash flash_nonneg pca \\\n",
    "        -c ../../midway2.yml -q midway2 -s build &> bovy_{m}.log\n",
    "    '''\n",
    "    return [c1,c2,c3]\n",
    "cmds = sum([get_cmd(m) for m in [\"artificial_mixture\", \"gtex_mixture\"]], [])\n",
    "input: for_each = 'cmds'\n",
    "script: interpreter= 'qsub', expand = True\n",
    "#!/bin/bash\n",
    "  \n",
    "#SBATCH --time=36:00:00\n",
    "#SBATCH --partition=broadwl\n",
    "#SBATCH --nodes=1\n",
    "#SBATCH --ntasks-per-node=1\n",
    "#SBATCH --cpus-per-task=1\n",
    "#SBATCH --mem-per-cpu=2000\n",
    "#SBATCH --job-name={step_name}\n",
    "#SBATCH --mail-type=BEGIN,END,FAIL\n",
    "\n",
    "module load R\n",
    "{_cmds}"
   ]
  },
  {
   "cell_type": "markdown",
   "id": "cloudy-variation",
   "metadata": {
    "kernel": "SoS"
   },
   "source": [
    "### Mixture model results visualization\n",
    "\n",
    "```\n",
    "sos run ~/GIT/bioworkflows/multivariate-fine-mapping/mixture_prior.ipynb plot_U --model-data ../../data/prior_simulation.rds --name artificial_mixture_50 --cwd mnm_sumstats\n",
    "sos run ~/GIT/bioworkflows/multivariate-fine-mapping/mixture_prior.ipynb plot_U --model-data ../../data/prior_simulation.rds --name gtex_mixture --cwd mnm_sumstats # --to-cor\n",
    "sos run ~/GIT/bioworkflows/multivariate-fine-mapping/mixture_prior.ipynb plot_U --model-data mnm_sumstats/artificial_mixture.ed_bovy.rds --name \"\" --cwd mnm_sumstats # --to-cor\n",
    "sos run ~/GIT/bioworkflows/multivariate-fine-mapping/mixture_prior.ipynb plot_U --model-data mnm_sumstats/gtex_mixture.ed_bovy.rds --name \"\" --cwd mnm_sumstats # --to-cor\n",
    "sos run ~/GIT/bioworkflows/multivariate-fine-mapping/mixture_prior.ipynb plot_U --model-data mnm_sumstats/artificial_mixture.teem.rds --name \"\" --cwd mnm_sumstats # --to-cor\n",
    "sos run ~/GIT/bioworkflows/multivariate-fine-mapping/mixture_prior.ipynb plot_U --model-data mnm_sumstats/gtex_mixture.teem.rds --name \"\" --cwd mnm_sumstats #  --to-cor\n",
    "sos run ~/GIT/bioworkflows/multivariate-fine-mapping/mixture_prior.ipynb plot_U --model-data mnm_sumstats/artificial_mixture.ed.rds --name \"\" --cwd mnm_sumstats # --to-cor\n",
    "```"
   ]
  },
  {
   "cell_type": "markdown",
   "id": "efficient-fantasy",
   "metadata": {
    "kernel": "SoS"
   },
   "source": [
    "### Get prior input files for benchmark"
   ]
  },
  {
   "cell_type": "markdown",
   "id": "plain-stupid",
   "metadata": {
    "kernel": "SoS"
   },
   "source": [
    "I then made prior data files from these results:"
   ]
  },
  {
   "cell_type": "code",
   "execution_count": 1,
   "id": "laden-vitamin",
   "metadata": {
    "kernel": "SoS"
   },
   "outputs": [
    {
     "name": "stdout",
     "output_type": "stream",
     "text": [
      "/project2/mstephens/gaow/mvarbvs"
     ]
    }
   ],
   "source": [
    "%cd ../.."
   ]
  },
  {
   "cell_type": "code",
   "execution_count": 2,
   "id": "incorporate-rubber",
   "metadata": {
    "kernel": "R"
   },
   "outputs": [],
   "source": [
    "priors = readRDS('data/prior_simulation.rds')"
   ]
  },
  {
   "cell_type": "code",
   "execution_count": 3,
   "id": "stylish-cream",
   "metadata": {
    "kernel": "R"
   },
   "outputs": [],
   "source": [
    "priors$gtex_mixture$ED = readRDS('dsc/mnm_prototype/mnm_sumstats/gtex_mixture.ed_bovy.rds')\n",
    "priors$artificial_mixture_50$ED = readRDS('dsc/mnm_prototype/mnm_sumstats/artificial_mixture.ed_bovy.rds')\n",
    "priors$gtex_mixture$TEEM = readRDS('dsc/mnm_prototype/mnm_sumstats/gtex_mixture.teem.rds')\n",
    "priors$artificial_mixture_50$TEEM = readRDS('dsc/mnm_prototype/mnm_sumstats/artificial_mixture.teem.rds')\n",
    "priors$gtex_mixture$ED_UDR = readRDS('dsc/mnm_prototype/mnm_sumstats/gtex_mixture.ed.rds')\n",
    "priors$artificial_mixture_50$ED_UDR = readRDS('dsc/mnm_prototype/mnm_sumstats/artificial_mixture.ed.rds')"
   ]
  },
  {
   "cell_type": "code",
   "execution_count": 5,
   "id": "behavioral-olympus",
   "metadata": {
    "kernel": "R"
   },
   "outputs": [],
   "source": [
    "saveRDS(priors, 'data/prior_simulation.rds')"
   ]
  },
  {
   "cell_type": "markdown",
   "id": "detected-leone",
   "metadata": {
    "kernel": "R"
   },
   "source": [
    "And save the residual null z correlation estimations,"
   ]
  },
  {
   "cell_type": "code",
   "execution_count": null,
   "id": "sufficient-artist",
   "metadata": {
    "kernel": "R"
   },
   "outputs": [],
   "source": [
    "nullz = list()\n",
    "nullz$gtex_mixture = readRDS('dsc/mnm_prototype/mnm_sumstats/gtex_mixture.rds')$null.cor\n",
    "nullz$artificial_mixture_50 = readRDS('dsc/mnm_prototype/mnm_sumstats/artificial_mixture.rds')$null.cor\n",
    "saveRDS(nullz, 'data/nullz_cor_simulation.rds')"
   ]
  },
  {
   "cell_type": "markdown",
   "id": "increasing-sheep",
   "metadata": {
    "kernel": "R"
   },
   "source": [
    "### Run mvSuSiE benchmark\n",
    "\n",
    "Comparison with `atlasqtl` is also included in this run"
   ]
  },
  {
   "cell_type": "code",
   "execution_count": null,
   "id": "logical-breeding",
   "metadata": {
    "kernel": "SoS"
   },
   "outputs": [],
   "source": [
    "[mvSuSiE]\n",
    "script: interpreter= 'qsub', expand = True\n",
    "#!/bin/bash\n",
    "  \n",
    "#SBATCH --time=72:00:00\n",
    "#SBATCH --partition=mstephens\n",
    "#SBATCH --account=pi-mstephens\n",
    "#SBATCH --nodes=1\n",
    "#SBATCH --ntasks-per-node=1\n",
    "#SBATCH --cpus-per-task=8\n",
    "#SBATCH --mem-per-cpu=2000\n",
    "#SBATCH --job-name={step_name}\n",
    "#SBATCH --mail-type=BEGIN,END,FAIL\n",
    "\n",
    "module load R\n",
    "# Skip error with -e ignore because atlas analysis can go wrong that i cannot control\n",
    "./gtex_qtl.dsc --host dsc_mnm.yml -o {data_dir} -s existing -e ignore &> {data_dir}.log"
   ]
  },
  {
   "cell_type": "markdown",
   "id": "transsexual-desert",
   "metadata": {
    "kernel": "SoS"
   },
   "source": [
    "### Run mvSuSiE benchmark with missing data"
   ]
  },
  {
   "cell_type": "code",
   "execution_count": null,
   "id": "heavy-complex",
   "metadata": {
    "kernel": "SoS"
   },
   "outputs": [],
   "source": [
    "[mvSuSiE_missing]\n",
    "script: interpreter= 'qsub', expand = True\n",
    "#!/bin/bash\n",
    "  \n",
    "#SBATCH --time=96:00:00\n",
    "#SBATCH --partition=mstephens\n",
    "#SBATCH --account=pi-mstephens\n",
    "#SBATCH --nodes=1\n",
    "#SBATCH --ntasks-per-node=1\n",
    "#SBATCH --cpus-per-task=8\n",
    "#SBATCH --mem-per-cpu=2000\n",
    "#SBATCH --job-name={step_name}\n",
    "#SBATCH --mail-type=BEGIN,END,FAIL\n",
    "\n",
    "module load R\n",
    "./gtex_qtl.dsc --host dsc_mnm.yml  --target missing_data -o {data_dir} -s existing -e ignore &> {data_dir}.log"
   ]
  },
  {
   "cell_type": "markdown",
   "id": "public-accreditation",
   "metadata": {
    "kernel": "SoS"
   },
   "source": [
    "### Run mthess benchmark"
   ]
  },
  {
   "cell_type": "code",
   "execution_count": null,
   "id": "acting-robin",
   "metadata": {
    "kernel": "SoS"
   },
   "outputs": [],
   "source": [
    "[mthess]\n",
    "script: interpreter= 'qsub', expand = True\n",
    "#!/bin/bash\n",
    "  \n",
    "#SBATCH --time=72:00:00\n",
    "#SBATCH --partition=mstephens\n",
    "#SBATCH --account=pi-mstephens\n",
    "#SBATCH --nodes=1\n",
    "#SBATCH --ntasks-per-node=1\n",
    "#SBATCH --cpus-per-task=8\n",
    "#SBATCH --mem-per-cpu=2000\n",
    "#SBATCH --job-name={step_name}\n",
    "#SBATCH --mail-type=BEGIN,END,FAIL\n",
    "\n",
    "module load R\n",
    "./gtex_qtl.dsc --host dsc_mnm.yml --target mthess -o {data_dir} -s existing -e ignore --n_dataset 200 &> {data_dir}.log"
   ]
  },
  {
   "cell_type": "markdown",
   "id": "provincial-table",
   "metadata": {
    "kernel": "SoS"
   },
   "source": [
    "## Benchmark results: PIP"
   ]
  },
  {
   "cell_type": "markdown",
   "id": "declared-irrigation",
   "metadata": {
    "kernel": "SoS"
   },
   "source": [
    "For full data simulation,\n",
    "\n",
    "```\n",
    "ALL_METHODS=\"mnm_oracle mnm_naive mnm_identity mnm_shared mnm_ed mnm_ed_max10 mnm_rss_ed_corZ susie atlasqtl\"\n",
    "PLOT_METHODS=\"mnm_oracle+flash mnm_oracle+oracle mnm_ed+flash mnm_ed+oracle mnm_ed_max10+flash mnm_ed_max10+oracle mnm_naive+flash mnm_identity+flash mnm_shared+flash mnm_rss_ed_corZ susie atlasqtl\"\n",
    "DATA=mnm_20210318\n",
    "# condition specific PIP\n",
    "sos run 20210224_MNM_Benchmark \"get_pip_meta + get_pip_r + pip_calibration\" -s build \\\n",
    "    --data-dir $DATA \\\n",
    "    --methods $ALL_METHODS\n",
    "# can take 6hrs to get the data for curves, from all methods\n",
    "sos run 20210224_MNM_Benchmark \"get_pip_meta + get_pip_r + curves\" -s build \\\n",
    "    --data-dir $DATA \\\n",
    "    --methods $ALL_METHODS \\\n",
    "    --plot-methods $PLOT_METHODS\n",
    "sos run 20210224_MNM_Benchmark \"get_pip_meta + get_pip_r + curves\" -s build \\\n",
    "    --data-dir $DATA \\\n",
    "    --methods $ALL_METHODS  \\\n",
    "    --plot-methods $PLOT_METHODS \\\n",
    "    --table roc --xlim 0.005\n",
    "# global PIP\n",
    "sos run 20210224_MNM_Benchmark \"get_pip_meta + get_pip + pip_calibration\" -s build \\\n",
    "    --data-dir $DATA \\\n",
    "    --methods $ALL_METHODS\n",
    "sos run 20210224_MNM_Benchmark \"get_pip_meta + get_pip + curves\" -s build \\\n",
    "    --plot-methods $PLOT_METHODS \\\n",
    "    --data-dir $DATA \\\n",
    "    --methods $ALL_METHODS\n",
    "sos run 20210224_MNM_Benchmark \"get_pip_meta + get_pip + curves\" -s build \\\n",
    "    --data-dir $DATA \\\n",
    "    --methods $ALL_METHODS \\\n",
    "    --plot-methods $PLOT_METHODS \\\n",
    "    --table roc --xlim 0.005 -s build\n",
    "```"
   ]
  },
  {
   "cell_type": "markdown",
   "id": "extraordinary-interval",
   "metadata": {
    "kernel": "SoS"
   },
   "source": [
    "For missing data simulation,\n",
    "\n",
    "```\n",
    "ALL_METHODS=\"mnm_oracle mnm_naive mnm_identity mnm_shared mnm_ed mnm_rss_oracle mnm_rss_naive_corZ mnm_rss_ed_corZ mnm_rss_identity_corZ mnm_rss_shared_corZ\"\n",
    "PLOT_METHODS=\"mnm_oracle+flash mnm_oracle+oracle mnm_ed+flash mnm_ed+oracle mnm_naive+flash mnm_identity+flash mnm_shared+flash\"\n",
    "PLOT_RSS=\"mnm_rss_oracle+flash mnm_rss_oracle+oracle mnm_rss_ed_corZ+flash mnm_rss_ed_corZ+oracle mnm_rss_naive_corZ+flash mnm_rss_identity_corZ+flash mnm_rss_shared_corZ+flash\"\n",
    "DATA=mnm_missing_20210318\n",
    "# condition specific PIP\n",
    "sos run 20210224_MNM_Benchmark \"get_pip_meta + get_pip_r + pip_calibration\" -s build \\\n",
    "    --data-dir $DATA --simulate simulate_missing --simulate-method artificial_mixture_missing gtex_mixture_missing \\\n",
    "    --methods $ALL_METHODS\n",
    "# can take 6hrs to get the data for curves, from all methods\n",
    "sos run 20210224_MNM_Benchmark \"get_pip_meta + get_pip_r + curves\" -s build \\\n",
    "    --data-dir $DATA --simulate simulate_missing --simulate-method artificial_mixture_missing gtex_mixture_missing \\\n",
    "    --methods $ALL_METHODS  \\\n",
    "    --plot-methods $PLOT_METHODS\n",
    "sos run 20210224_MNM_Benchmark \"get_pip_meta + get_pip_r + curves\" -s build \\\n",
    "    --data-dir $DATA --simulate simulate_missing --simulate-method artificial_mixture_missing gtex_mixture_missing \\\n",
    "    --methods $ALL_METHODS   \\\n",
    "    --plot-methods $PLOT_METHODS \\\n",
    "    --table roc --xlim 0.005\n",
    "# global PIP\n",
    "sos run 20210224_MNM_Benchmark \"get_pip_meta + get_pip + pip_calibration\" -s build \\\n",
    "    --data-dir $DATA --simulate simulate_missing --simulate-method artificial_mixture_missing gtex_mixture_missing \\\n",
    "    --methods $ALL_METHODS\n",
    "sos run 20210224_MNM_Benchmark \"get_pip_meta + get_pip + curves\" -s build \\\n",
    "    --plot-methods $PLOT_METHODS \\\n",
    "    --data-dir $DATA --simulate simulate_missing --simulate-method artificial_mixture_missing gtex_mixture_missing \\\n",
    "    --methods $ALL_METHODS\n",
    "sos run 20210224_MNM_Benchmark \"get_pip_meta + get_pip + curves\" -s build \\\n",
    "    --data-dir $DATA --simulate simulate_missing --simulate-method artificial_mixture_missing gtex_mixture_missing \\\n",
    "    --methods $ALL_METHODS  \\\n",
    "    --plot-methods $PLOT_METHODS \\\n",
    "    --table roc --xlim 0.005 -s build\n",
    "```"
   ]
  },
  {
   "cell_type": "markdown",
   "id": "devoted-karma",
   "metadata": {
    "kernel": "SoS"
   },
   "source": [
    "### Get meta-data information"
   ]
  },
  {
   "cell_type": "code",
   "execution_count": null,
   "id": "valuable-variety",
   "metadata": {
    "kernel": "SoS"
   },
   "outputs": [],
   "source": [
    "[get_pip_meta (meta info)]\n",
    "parameter: methods = [\"mnm_oracle\", \"mnm_naive\", \"mnm_identity\", \"mnm_shared\", \"mnm_ed\", \"mnm_rss_ed_corZ\", \"susie\", \"atlasqtl\"]\n",
    "parameter: simulate = 'simulate'\n",
    "output: f'{cwd}/{data_dir}/{data_dir:b}.pip_meta.rds'\n",
    "R: expand = '${ }', workdir = cwd\n",
    "    dat = dscrutils::dscquery(${data_dir:r}, target = c(\"small_data.dataset\", \"${simulate}\", \"method\", \"method.resid_method\"), module.output.files=c(\"${simulate}\", \"method\"), group = c(\"method: ${' '.join(methods)}\", \"mnm:\", \"mnm_missing:\", \"mnm_rss:\"), ignore.missing.file=T)\n",
    "    print(dim(dat))\n",
    "    # remove bad files\n",
    "    # mostly from atlasqtl\n",
    "    bad_files = vector()\n",
    "    for (f in dat$method.output.file) {\n",
    "      if (!file.exists(paste0(\"${data_dir}/\", f,'.rds'))) bad_files = append(bad_files, f)\n",
    "    }\n",
    "    dat = dat[which(!(dat$method.output.file %in% bad_files)),]\n",
    "    print(dim(dat))\n",
    "    dat$method_rename = NA\n",
    "    dat$method_rename[which(!is.na(dat$method.resid_method))] = paste(dat$method[which(!is.na(dat$method.resid_method))], dat$method.resid_method[which(!is.na(dat$method.resid_method))], sep = '+')\n",
    "    dat$method_rename[which(is.na(dat$method.resid_method))] = dat$method[which(is.na(dat$method.resid_method))]\n",
    "    names(dat)[names(dat) == '${simulate}'] <- 'simulate'\n",
    "    names(dat)[names(dat) == '${simulate}.output.file'] <- 'simulate.output.file'\n",
    "    saveRDS(dat, ${_output:r})"
   ]
  },
  {
   "cell_type": "markdown",
   "id": "minute-bowling",
   "metadata": {
    "kernel": "SoS"
   },
   "source": [
    "### Get condition specific PIP\n",
    "\n",
    "For mvSuSiE we use per condition `1-lfsr` as condition specific PIP."
   ]
  },
  {
   "cell_type": "code",
   "execution_count": null,
   "id": "several-netscape",
   "metadata": {
    "kernel": "SoS"
   },
   "outputs": [],
   "source": [
    "# Extract condition specific PIP\n",
    "[get_pip_r (condition specific PIP)]\n",
    "parameter: simulate_method = ['artificial_mixture', 'gtex_mixture']\n",
    "parameter: subset = -1\n",
    "input: for_each = 'simulate_method'\n",
    "output: f'{cwd}/{data_dir}/{data_dir:b}.{_simulate_method}{(\".\" + str(subset)) if subset>0 else \"\"}.pip_condition.rds'\n",
    "R: expand = '${ }', workdir = f'{cwd}/{data_dir}'\n",
    "    meta = readRDS(${_input:r})\n",
    "    # apply some filters\n",
    "    meta = meta[which(meta$simulate == \"${_simulate_method}\"),]\n",
    "    if (${subset}<nrow(meta) && ${subset}>0) {\n",
    "      set.seed(999)\n",
    "      meta = meta[sample(1:nrow(meta))[1:${subset}],]\n",
    "    }\n",
    "    # now collect matrices for each method, of two columns: pip and true_coef\n",
    "    res = list()\n",
    "    for (i in 1:nrow(meta)) {\n",
    "      true_coef = as.integer(readRDS(paste0(meta[i,]$simulate.output.file, '.rds'))$meta$true_coef != 0)\n",
    "      # make it a vector\n",
    "      true_coef = c(true_coef)\n",
    "      method = meta[i,]$method_rename\n",
    "      if (method == \"atlasqtl\") {\n",
    "          pip = readRDS(paste0(meta[i,]$method.output.file, '.rds'))$result$gam_vb_completed\n",
    "      } else if (method == \"susie\") {\n",
    "          pip = do.call(cbind, lapply(readRDS(paste0(meta[i,]$method.output.file, '.rds'))$fitted, function(x) x$pip))  \n",
    "      } else {\n",
    "          # approximate per condition PIP using condition specific 1 - lfsr\n",
    "          pip = 1 - readRDS(paste0(meta[i,]$method.output.file, '.rds'))$result$lfsr          \n",
    "      }\n",
    "      # PIP is matrix of P (SNPs) by R (conditions); now make it a vector\n",
    "      pip = c(pip)\n",
    "      if (!(method %in% names(res))) {\n",
    "        res[[method]] = list(pip = pip, truth = true_coef)\n",
    "      } else {\n",
    "        res[[method]]$pip = append(res[[method]]$pip, pip)\n",
    "        res[[method]]$truth = append(res[[method]]$truth, true_coef)\n",
    "      }\n",
    "      if (i%%100==0) {\n",
    "          print(i)\n",
    "          print(c(method, tail(res[[method]]$pip)))\n",
    "      }\n",
    "    }\n",
    "    for (method in unique(meta$method_rename)) {\n",
    "      res[[method]] = do.call(cbind, res[[method]])\n",
    "    }\n",
    "    saveRDS(res, ${_output:r})"
   ]
  },
  {
   "cell_type": "markdown",
   "id": "polyphonic-brisbane",
   "metadata": {
    "kernel": "SoS"
   },
   "source": [
    "### Get global PIP"
   ]
  },
  {
   "cell_type": "code",
   "execution_count": null,
   "id": "collected-print",
   "metadata": {
    "kernel": "SoS"
   },
   "outputs": [],
   "source": [
    "# Extract global PIP\n",
    "[get_pip (global PIP)]\n",
    "parameter: simulate_method = ['artificial_mixture', 'gtex_mixture']\n",
    "parameter: subset = -1\n",
    "input: for_each = 'simulate_method'\n",
    "output: f'{cwd}/{data_dir}/{data_dir:b}.{_simulate_method}{(\".\" + str(subset)) if subset>0 else \"\"}.pip_global.rds'\n",
    "R: expand = '${ }', workdir = f'{cwd}/{data_dir}'\n",
    "    meta = readRDS(${_input:r})\n",
    "    # apply some filters\n",
    "    meta = meta[which(meta$simulate == \"${_simulate_method}\"),]\n",
    "    if (${subset}<nrow(meta) && ${subset}>0) {\n",
    "      set.seed(999)\n",
    "      meta = meta[sample(1:nrow(meta))[1:${subset}],]\n",
    "    }\n",
    "    # now collect matrices for each method, of two columns: pip and true_coef\n",
    "    res = list()\n",
    "    for (i in 1:nrow(meta)) {\n",
    "      method = meta[i,]$method_rename\n",
    "      true_coef = as.integer(rowSums(readRDS(paste0(meta[i,]$simulate.output.file, '.rds'))$meta$true_coef) != 0)\n",
    "      if (method == \"atlasqtl\") {\n",
    "          # use max pip cross condition for atlasqtl global PIP\n",
    "          pip = apply(readRDS(paste0(meta[i,]$method.output.file, '.rds'))$result$gam_vb_completed, 1, max)\n",
    "      } else if (method == \"susie\") {\n",
    "          pip = do.call(cbind, lapply(readRDS(paste0(meta[i,]$method.output.file, '.rds'))$fitted, function(x) x$pip))\n",
    "          pip = apply(pip, 1, max)\n",
    "      } else {\n",
    "          pip = readRDS(paste0(meta[i,]$method.output.file, '.rds'))$result$pip\n",
    "      }\n",
    "      if (!(method %in% names(res))) {\n",
    "        res[[method]] = list(pip = pip, truth = true_coef)\n",
    "      } else {\n",
    "        res[[method]]$pip = append(res[[method]]$pip, pip)\n",
    "        res[[method]]$truth = append(res[[method]]$truth, true_coef)\n",
    "      }\n",
    "      if (i%%100==0) print(i)\n",
    "    }\n",
    "    for (method in unique(meta$method_rename)) {\n",
    "      if (!is.null(res[[method]])) res[[method]] = do.call(cbind, res[[method]])\n",
    "    }\n",
    "    saveRDS(res, ${_output:r})"
   ]
  },
  {
   "cell_type": "markdown",
   "id": "sharing-windsor",
   "metadata": {
    "kernel": "SoS"
   },
   "source": [
    "### Compile PIP calibration data"
   ]
  },
  {
   "cell_type": "code",
   "execution_count": null,
   "id": "italian-blink",
   "metadata": {
    "kernel": "SoS"
   },
   "outputs": [],
   "source": [
    "# Calibration data\n",
    "[pip_calibration_1 (PIP calibration data)]\n",
    "parameter: bin_size = 10\n",
    "output: f'{_input:n}.calibration.rds'\n",
    "R: expand = '${ }', workdir = cwd\n",
    "  dat = readRDS(${_input:r})\n",
    "  bins = cbind(seq(1:${bin_size})/${bin_size}-1/${bin_size}, seq(1:${bin_size})/${bin_size})\n",
    "  pip_cali = list()\n",
    "  for (method in names(dat)) {\n",
    "    pip_cali[[method]] = matrix(NA, nrow(bins), 3)\n",
    "    for (i in 1:nrow(bins)) {\n",
    "      data_in_bin = dat[[method]][which(dat[[method]][,1] > bins[i,1] & dat[[method]][,1] < bins[i,2]),]\n",
    "      if(!is.null(dim(data_in_bin))) {\n",
    "          pip_cali[[method]][i,1] = sum(data_in_bin[,1])\n",
    "          pip_cali[[method]][i,2] = sum(data_in_bin[,2])\n",
    "          pip_cali[[method]][i,3] = nrow(data_in_bin)\n",
    "      } else {\n",
    "        pip_cali[[method]][i,] = c(0,0,0) \n",
    "      }\n",
    "    }\n",
    "  }\n",
    "  for (method in names(dat)) {\n",
    "      pip_cali[[method]][,c(1,2)] = pip_cali[[method]][,c(1,2)] / pip_cali[[method]][,3]\n",
    "  }\n",
    "  saveRDS(pip_cali, ${_output:r})"
   ]
  },
  {
   "cell_type": "markdown",
   "id": "distinct-guide",
   "metadata": {
    "kernel": "SoS"
   },
   "source": [
    "### Plot PIP calibration"
   ]
  },
  {
   "cell_type": "code",
   "execution_count": null,
   "id": "complimentary-annex",
   "metadata": {
    "kernel": "SoS"
   },
   "outputs": [],
   "source": [
    "# Calibration plot\n",
    "[pip_calibration_2 (PIP calibration plot)]\n",
    "depends: R_library('cowplot'), executable('convert')\n",
    "output: f'{_input:n}.png'\n",
    "R: expand = '${ }', workdir = cwd\n",
    "    library(ggplot2)\n",
    "    library(cowplot)\n",
    "    rename = list('mnm_oracle+oracle' = 'Oracle prior and residual', 'mnm_oracle+flash' = 'Oracle prior', 'mnm_naive+oracle' = 'Default prior oracle residual', \n",
    "                  'mnm_naive+flash' = 'Default prior', 'mnm_ed+oracle' = 'EB prior oracle residual', 'mnm_ed+flash' = 'EB prior', \n",
    "                  'mnm_ed_max10+oracle' = 'EB prior oracle residual (10 iter)', 'mnm_ed_max10+flash' = 'EB prior (10 iter)',\n",
    "                  'mnm_identity+oracle' = 'Random effects prior oracle residual', 'mnm_identity+flash' = 'Random effects prior',\n",
    "                  'mnm_shared+oracle' = 'Fixed effect prior oracle residual', 'mnm_shared+flash' = 'Fixed effect prior', atlasqtl = 'atlasqtl', susie = 'SuSiE',\n",
    "                  \"mnm_rss_naive_corZ+nullz\" = \"RSS default prior\", \"mnm_rss_ed_corZ+nullz\" = \"RSS EB prior\", \"mnm_rss_oracle+oracle\" = \"RSS oracle prior and residual\",\n",
    "                  \"mnm_rss_oracle+identity\" = \"RSS oracle prior and diag residual\", \"mnm_rss_shared_corZ+nullz\" = \"RSS fixed effect prior\", \"mnm_rss_oracle+nullz\" = \"RSS oracle prior\",\n",
    "                  \"mnm_rss_oracle+corY\" = \"RSS oracle prior and unit-specific residual\")\n",
    "    dot_plot = function(dataframe) {\n",
    "        ggplot(dataframe, aes(x=mean_pip, y=observed_freq)) + \n",
    "          geom_errorbar(aes(ymin=observed_freq-se, ymax=observed_freq+se), colour=\"gray\", size = 0.2, width=.01) +\n",
    "          geom_point(size=1.5, shape=21, fill=\"#002b36\") + # 21 is filled circle\n",
    "          xlab(\"Estimated rate\") +\n",
    "          ylab(\"Observed frequency\") +\n",
    "          coord_cartesian(ylim=c(0,1), xlim=c(0,1)) +\n",
    "          geom_abline(slope=1,intercept=0,colour='red', size=0.2) +\n",
    "          ggtitle(rename[[name]]) +\n",
    "          expand_limits(y=0) +                        # Expand y range\n",
    "          theme_cowplot()\n",
    "    }\n",
    "    dat = readRDS(${_input:r})\n",
    "    idx = 0\n",
    "    for (name in sort(names(dat))) {\n",
    "      idx = idx + 1\n",
    "      dat[[name]][,3] = sqrt(dat[[name]][,2] * (1 - dat[[name]][,2]) / dat[[name]][,3]) * 2\n",
    "      dat[[name]] = as.data.frame(dat[[name]])\n",
    "      colnames(dat[[name]]) = c(\"mean_pip\", \"observed_freq\", \"se\")\n",
    "      pdf(paste0(${_output:nr}, '_' , idx, '.pdf'), width=3, height=3, pointsize=16)\n",
    "      print(dot_plot(dat[[name]]))\n",
    "      dev.off()\n",
    "      system(paste0(\"convert -density 120 \", ${_output:nr}, '_' , idx, '.pdf', \" \", ${_output:nr}, '_' , idx, '.png'))\n",
    "    }\n",
    "    files = paste0(${_output:nr}, '_', seq(1:idx), '.png')\n",
    "    cmd = paste('convert +append', paste(files, collapse=\" \"), ${_output:r})\n",
    "    system(cmd)\n",
    "    system(paste('rm -f', paste(files, collapse=\" \")))"
   ]
  },
  {
   "cell_type": "markdown",
   "id": "metric-courage",
   "metadata": {
    "kernel": "SoS"
   },
   "source": [
    "### Get data for ROC and PR curves"
   ]
  },
  {
   "cell_type": "code",
   "execution_count": null,
   "id": "coastal-necklace",
   "metadata": {
    "kernel": "SoS"
   },
   "outputs": [],
   "source": [
    "# Data for ROC\n",
    "[curves_1 (Get data for curves)]\n",
    "pip_cutoff = 0.05\n",
    "output: f'{_input:n}.curves.rds'\n",
    "R: expand = '${ }', workdir = cwd\n",
    "    curves_data = function(d1, cutoff = c(${pip_cutoff}, 0.999), connect_org = T) {\n",
    "        grid = 1000\n",
    "        ttv = seq(1:grid)/grid\n",
    "        ttv = ttv[which(ttv>=cutoff[1] & ttv<=cutoff[2])]\n",
    "        rst1 = t(sapply(ttv, function(x) c(sum(d1[,2][d1[,1]>=x]), length(d1[,2][d1[,1]>=x]), sum(d1[,2][d1[,1]>=x]==0))))\n",
    "        rst1 = cbind(rst1, sum(d1[,2]), sum(1-d1[,2]))\n",
    "        rst1 = as.data.frame(rst1)\n",
    "        colnames(rst1) = c('true_positive', 'total_positive', 'false_positive', 'total_signal', 'total_null')\n",
    "        rst2 = as.data.frame(cbind(rst1$true_positive / rst1$total_positive, rst1$true_positive / rst1$total_signal,  ttv))\n",
    "        rst3 = as.data.frame(cbind(1 - rst1$false_positive / rst1$total_null, rst1$true_positive / rst1$total_signal,  ttv))\n",
    "        if (connect_org) {\n",
    "            # make a stair to origin\n",
    "            rst2 = rbind(rst2, c(max(0.995, rst2[nrow(rst2),1]), max(rst2[nrow(rst2),2]-0.01, 0), rst2[nrow(rst2),3]))\n",
    "            rst2 = rbind(rst2, c(1, 0, 1))\n",
    "            rst3 = rbind(rst3, c(1, 0, 1))\n",
    "        }\n",
    "        colnames(rst2) = c('Precision', 'Recall', 'Threshold')\n",
    "        colnames(rst3) = c('TN', 'TP', 'Threshold')\n",
    "        return(list(counts = rst1, pr = rst2, roc = rst3))\n",
    "    }\n",
    "  \n",
    "    print(\"Compiling data for ROC/PR curves ...\")\n",
    "    curves = list()\n",
    "    dat = readRDS(${_input:r})\n",
    "    for (method in names(dat)) {\n",
    "      print(method)\n",
    "      curves[[method]] = curves_data(dat[[method]])\n",
    "    }\n",
    "    saveRDS(curves, ${_output:r})"
   ]
  },
  {
   "cell_type": "markdown",
   "id": "imperial-translation",
   "metadata": {
    "kernel": "SoS"
   },
   "source": [
    "### Plot ROC and PR curves"
   ]
  },
  {
   "cell_type": "code",
   "execution_count": null,
   "id": "alternate-understanding",
   "metadata": {
    "kernel": "SoS"
   },
   "outputs": [],
   "source": [
    "# Plot for ROC\n",
    "[curves_2 (Plot curves)]\n",
    "depends: R_library('scam')\n",
    "parameter: chunks = 0\n",
    "parameter: smooth = 'FALSE'\n",
    "parameter: xlim = 0.8\n",
    "parameter: ylim = 0.8\n",
    "# Only plot for certain methods\n",
    "parameter: plot_methods = ['mnm_oracle+flash', 'mnm_naive+flash', 'mnm_ed+flash', 'mnm_identity+flash', 'mnm_shared+flash']\n",
    "# \"pr\" or \"roc\" \n",
    "parameter: table = \"pr\" # or, `roc`\n",
    "if table == \"pr\":\n",
    "    main = \"Precision-FDR curve\"\n",
    "    ylab = \"power\"\n",
    "    xlab = \"FDR\"\n",
    "else:\n",
    "    main = \"ROC curve\"\n",
    "    ylab = \"True Positive\"\n",
    "    xlab = \"False Positive\"\n",
    "opt = f\"lwd = 2, xlim = c(0,{xlim}), ylim = c(0,{ylim})\"\n",
    "output: f'{_input:n}.{table}.pdf'\n",
    "R: expand = '${ }'\n",
    "    colors = c('#A60628', '#7A68A6', '#348ABD', '#467821', '#FF0000', '#188487', '#E2A233',\n",
    "                  '#A9A9A9', '#000000', '#FF00FF', '#FFD700', '#ADFF2F', '#00FFFF')\n",
    "    dat = readRDS(${_input:r})\n",
    "    library(scam)\n",
    "    create_chunks = function(item, n) {\n",
    "      splitted = suppressWarnings(split(item, 1:n))\n",
    "      return(c(splitted[[1]], splitted[[length(splitted)]][length(splitted[[length(splitted)]])]))\n",
    "    }\n",
    "    make_smooth = function(x,y,subset=${chunks}, smooth = ${smooth}) {\n",
    "      if (smooth) {\n",
    "          if (subset < length(x) && subset > 0) {\n",
    "              x = create_chunks(x, subset)\n",
    "              y = create_chunks(y, subset)\n",
    "          }\n",
    "          dat = data.frame(cbind(x,y))\n",
    "          colnames(dat) = c('x','y')\n",
    "          y=predict(scam(y ~ s(x, bs = \"mpi\"), data = dat))\n",
    "      }\n",
    "      return(list(x=x,y=y))\n",
    "    }\n",
    "    add_text = function(thresholds, x, y, threshold, color, delta = -0.06) {\n",
    "        idx = which(thresholds == threshold)\n",
    "        text(x[idx] - delta, y[idx], labels = threshold, col = color, cex=0.8)\n",
    "        points(x[idx],y[idx])\n",
    "    }\n",
    "    rename = list('mnm_oracle+oracle' = 'Oracle prior and residual', 'mnm_oracle+flash' = 'Oracle prior', 'mnm_naive+oracle' = 'Default prior oracle residual', \n",
    "                  'mnm_naive+flash' = 'Default prior', 'mnm_ed+oracle' = 'EB prior oracle residual', 'mnm_ed+flash' = 'EB prior', \n",
    "                  'mnm_ed_max10+oracle' = 'EB prior oracle residual (10 iter)', 'mnm_ed_max10+flash' = 'EB prior (10 iter)',\n",
    "                  'mnm_identity+oracle' = 'Random effects prior oracle residual', 'mnm_identity+flash' = 'Random effects prior',\n",
    "                  'mnm_shared+oracle' = 'Fixed effect prior oracle residual', 'mnm_shared+flash' = 'Fixed effect prior', atlasqtl = 'atlasqtl', susie = \"SuSiE\",\n",
    "                  \"mnm_rss_naive_corZ+nullz\" = \"RSS default prior\", \"mnm_rss_ed_corZ+nullz\" = \"RSS EB prior\", \"mnm_rss_oracle+oracle\" = \"RSS oracle prior and residual\",\n",
    "                  \"mnm_rss_oracle+identity\" = \"RSS oracle prior and diag residual\", \"mnm_rss_shared_corZ+nullz\" = \"RSS fixed effect prior\", \"mnm_rss_oracle+nullz\" = \"RSS oracle prior\",\n",
    "                  \"mnm_rss_oracle+corY\" = \"RSS oracle prior and unit-specific residual\")\n",
    "    labels = vector()\n",
    "    pdf(${_output:r}, width=10, height=10, pointsize=15)\n",
    "    i = 1\n",
    "    for (method in names(dat)) {\n",
    "        if (method %in% c(${paths(plot_methods):r,})) {\n",
    "            yy = make_smooth(1 - dat[[method]]$${table}[,1], dat[[method]]$${table}[,2])\n",
    "            if (i == 1) {\n",
    "                plot(yy$x, yy$y, t=\"l\", col=colors[i], ylab = \"${ylab}\", xlab =\"${xlab}\", main = \"${main}\", bty='l', ${opt})\n",
    "            } else {\n",
    "                lines(yy$x, yy$y, col=colors[i], ${opt})\n",
    "            }\n",
    "            #add_text(dat[[method]]$${table}[,3], yy$x, yy$y, 0.9, colors[i])\n",
    "            add_text(dat[[method]]$${table}[,3], yy$x, yy$y, 0.95, colors[i])\n",
    "            labels[i] = rename[[method]]\n",
    "            i = i + 1\n",
    "      }\n",
    "    }\n",
    "    legend(\"bottomright\", legend=labels, col=colors[1:i], lty=c(1,1,1), cex=0.8)\n",
    "    dev.off()"
   ]
  },
  {
   "cell_type": "markdown",
   "id": "formal-basic",
   "metadata": {
    "kernel": "SoS"
   },
   "source": [
    "## Benchmark results: CS\n",
    "\n",
    "For full data simulation,\n",
    "```\n",
    "sos run 20210224_MNM_Benchmark get_cs_summary -s build \\\n",
    "    --data-dir mnm_20210318 \\\n",
    "    --methods mnm_oracle mnm_naive mnm_identity mnm_shared mnm_ed\n",
    "```\n",
    "\n",
    "For missing data simulation,\n",
    "\n",
    "```\n",
    "sos run 20210224_MNM_Benchmark get_cs_summary -s build \\\n",
    "    --data-dir mnm_missing_20210318 --simulate simulate_missing \\\n",
    "    --methods mnm_oracle mnm_naive mnm_identity mnm_shared mnm_ed\n",
    "```"
   ]
  },
  {
   "cell_type": "code",
   "execution_count": null,
   "id": "guided-prize",
   "metadata": {
    "kernel": "SoS"
   },
   "outputs": [],
   "source": [
    "[get_cs_summary_1 (meta info)]\n",
    "parameter: methods = [\"mnm_oracle\", \"mnm_naive\", \"mnm_identity\", \"mnm_shared\", \"mnm_ed\", \"mnm_rss_ed_corZ\"]\n",
    "parameter: simulate = 'simulate'\n",
    "output: f'{cwd}/{data_dir}/{data_dir:b}.cs_meta.rds'\n",
    "R: expand = \"${ }\"\n",
    "    dat = dscrutils::dscquery(${data_dir:r}, targets = c('${simulate}', \"method\", \"method.resid_method\", \n",
    "                                                      'score', 'score.total', 'score.valid', 'score.size', \n",
    "                                                      'score.purity', 'score.top', 'score.n_causal', \n",
    "                                                      'score.included_causal', 'score.overlap_var', 'score.overlap_cs',\n",
    "                                                      'score.false_pos_cond_discoveries', 'score.total_cond_discoveries', 'score.size_cond_cs',\n",
    "                                                      'score.purity_cond_cs', 'score.avg_diff_eff_size_percentile', 'score.cs_correlation',\n",
    "                                                      'score.false_neg_cond_discoveries', 'score.true_cond_discoveries', 'score.converged'),\n",
    "                                                       module.output.files = \"score\", group = c(\"method: ${' '.join(methods)}\", \"score: mvsusie_scores\", \"mnm:\", \"mnm_missing:\", \"mnm_rss:\"), ignore.missing.file=T)\n",
    "    saveRDS(dat, ${_output:r})"
   ]
  },
  {
   "cell_type": "code",
   "execution_count": null,
   "id": "forced-authority",
   "metadata": {
    "kernel": "SoS"
   },
   "outputs": [],
   "source": [
    "[get_cs_summary_2 (summarize info to a table)]\n",
    "output: f'{_input:nn}.cs_summary_raw.rds'\n",
    "R: expand = \"${ }\"\n",
    "    dat = readRDS(${_input:r})\n",
    "    dat = tibble::as_tibble(dat)\n",
    "    print(dim(dat))\n",
    "    # str(head(dat,1))\n",
    "    # score.size: average (median)\n",
    "    # score.purity: average (median)\n",
    "    # score.total_cond_discoveries: sum\n",
    "    # score.false_pos_cond_discoveries: sum\n",
    "    # score.false_neg_cond_discoveries: sum\n",
    "    # score.true_cond_discoveries: sum\n",
    "    # score.size_cond_cs: unlist then average\n",
    "    # score.purity_cond_cs: unlist then average\n",
    "    # Reformat data\n",
    "    method = rep(NA, nrow(dat))\n",
    "    method[which(!is.na(dat$method.resid_method))] = paste(dat$method[which(!is.na(dat$method.resid_method))], paste(dat$method.resid_method[which(!is.na(dat$method.resid_method))], \"residual\", sep = '_'), sep = '+')\n",
    "    method[which(is.na(dat$method.resid_method))] = dat$method[which(is.na(dat$method.resid_method))]\n",
    "    dat$method = method\n",
    "    dat$score.size = sapply(1:length(dat$score.size), function(i) median(dat$score.size[[i]], na.rm=T))\n",
    "    dat$score.purity = sapply(1:length(dat$score.purity), function(i) median(dat$score.purity[[i]], na.rm=T))\n",
    "    dat$score.total_cond_discoveries = sapply(1:length(dat$score.total_cond_discoveries), function(i) sum(dat$score.total_cond_discoveries[[i]], na.rm=T))\n",
    "    dat$score.false_pos_cond_discoveries = sapply(1:length(dat$score.false_pos_cond_discoveries), function(i) sum(dat$score.false_pos_cond_discoveries[[i]], na.rm=T))\n",
    "    dat$score.false_neg_cond_discoveries = sapply(1:length(dat$score.false_neg_cond_discoveries), function(i) sum(dat$score.false_neg_cond_discoveries[[i]], na.rm=T))\n",
    "    dat$score.true_cond_discoveries = sapply(1:length(dat$score.true_cond_discoveries), function(i) sum(dat$score.true_cond_discoveries[[i]], na.rm=T))\n",
    "    dat$score.size_cond_cs = sapply(1:length(dat$score.size_cond_cs), function(i) median(unlist(dat$score.size_cond_cs[[i]]), na.rm=T))\n",
    "    dat$score.purity_cond_cs = sapply(1:length(dat$score.purity_cond_cs), function(i) median(unlist(dat$score.purity_cond_cs[[i]]), na.rm=T)) \n",
    "    colnames(dat) = gsub(\"score.\", \"\", colnames(dat))\n",
    "    saveRDS(dat, ${_output:r})"
   ]
  },
  {
   "cell_type": "code",
   "execution_count": 58,
   "id": "sufficient-advancement",
   "metadata": {
    "kernel": "SoS"
   },
   "outputs": [],
   "source": [
    "[get_cs_summary_3 (summarize for plot data)]\n",
    "parameter: simulate = 'simulate'\n",
    "output: f'{_input:nn}.cs_summary.rds'\n",
    "R: expand = \"${ }\"\n",
    "    res = readRDS(${_input:r})\n",
    "    ###\n",
    "    # Global metric\n",
    "    ###\n",
    "    # Global size\n",
    "    size = aggregate(size~${simulate} + method, res, median)\n",
    "    size = size[order(size$${simulate}, size$size),]\n",
    "    # Global purity\n",
    "    purity = aggregate(purity~${simulate} + method, res, median)\n",
    "    purity = purity[order(purity$${simulate}, purity$purity),]\n",
    "    # Global power\n",
    "    total_true_included = aggregate(included_causal ~ ${simulate} + method, res, sum)\n",
    "    total_true = aggregate(n_causal ~  ${simulate} + method, res, sum)\n",
    "    cs_overlap = aggregate(overlap_cs ~  ${simulate} + method, res, sum)\n",
    "    snp_overlap = aggregate(overlap_var ~  ${simulate} + method, res, sum)\n",
    "    power = merge(total_true_included, total_true, by = c( '${simulate}' , 'method'))\n",
    "    power = merge(power, cs_overlap,  by = c( '${simulate}' , 'method'))\n",
    "    power = merge(power, snp_overlap,  by = c( '${simulate}' , 'method'))  \n",
    "    power$power = round(power$included_causal/power$n_causal,3)\n",
    "    power$overlap_cs = round(power$overlap_cs, 3)\n",
    "    power$overlap_var = round(power$overlap_var, 3)\n",
    "    power = power[order(power$${simulate}, power$power),]\n",
    "    # Global FDR\n",
    "    valid = aggregate(valid ~ ${simulate} + method, res, sum)\n",
    "    total = aggregate(total ~ ${simulate} + method, res, sum)\n",
    "    fdr = merge(valid, total, by = c( '${simulate}' , 'method'))\n",
    "    fdr$fdr = round((fdr$total - fdr$valid)/fdr$total,3)\n",
    "    fdr = fdr[order(fdr$${simulate}, fdr$fdr),]\n",
    "    # Percentage of CS with top SNP being causal SNP\n",
    "    # Not very exciting; will not show\n",
    "    top = aggregate(top~${simulate} + method, res, sum)\n",
    "    valid = aggregate(valid~${simulate} + method, res, sum)\n",
    "    top_rate = merge(top, valid,  by = c( '${simulate}' , 'method'))\n",
    "    top_rate$top_prop = round(top_rate$top/top_rate$valid,3)\n",
    "    top_rate = top_rate[order(top_rate$${simulate}, top_rate$top_prop),]\n",
    "    # convergence\n",
    "    converged = aggregate(converged~${simulate} + method, res, mean)\n",
    "    converged = converged[order(converged$${simulate}, converged$converged),]\n",
    "    # CS correlation, defined as the maximum pair-wise correlation for all combinations of variables between two CSs\n",
    "    cs_correlation = aggregate(cs_correlation~${simulate} + method, res, mean)\n",
    "    cs_correlation = cs_correlation[order(cs_correlation$${simulate}, cs_correlation$cs_correlation),]    \n",
    "    ###\n",
    "    # Condition specific metric: condition specific CS are CS that are significant in a condition by lfsr < some cutoff\n",
    "    ###\n",
    "    # size\n",
    "    size_cond_cs = aggregate(size_cond_cs~${simulate} + method, res, median)\n",
    "    size_cond_cs = size_cond_cs[order(size_cond_cs$${simulate}, size_cond_cs$size_cond_cs),]\n",
    "    # purity\n",
    "    purity_cond_cs = aggregate(purity_cond_cs~${simulate} + method, res, median)\n",
    "    purity_cond_cs = purity_cond_cs[order(purity_cond_cs$${simulate}, purity_cond_cs$purity_cond_cs),]\n",
    "    # power and FDR\n",
    "    TP = aggregate(true_cond_discoveries ~ ${simulate} + method, res, sum)\n",
    "    FP = aggregate(false_pos_cond_discoveries ~  ${simulate} + method, res, sum)\n",
    "    FN = aggregate(false_neg_cond_discoveries ~  ${simulate} + method, res, sum)\n",
    "    power_cond = merge(TP, FP, by = c( '${simulate}' , 'method'))\n",
    "    power_cond = merge(power_cond, FN, by = c( '${simulate}' , 'method'))\n",
    "    power_cond$power_cond_cs = round(power_cond$true_cond_discoveries / (power_cond$true_cond_discoveries + power_cond$false_neg_cond_discoveries), 3)\n",
    "    power_cond$fdr_cond_cs = round(power_cond$false_pos_cond_discoveries / (power_cond$false_pos_cond_discoveries + power_cond$true_cond_discoveries), 3)\n",
    "    power_cond = power_cond[order(fdr$${simulate}, power_cond$power_cond_cs),]\n",
    "    ###\n",
    "    # Consolidate into tables\n",
    "    ###\n",
    "    b = c( '${simulate}' , 'method')\n",
    "    out_all = merge(merge(merge(merge(merge(merge(merge(merge(size, \n",
    "      purity, by = b), \n",
    "      power, by = b), \n",
    "      fdr, by = b),\n",
    "      cs_correlation, by = b),\n",
    "      size_cond_cs, by = b),\n",
    "      purity_cond_cs, by = b),\n",
    "      power_cond, by = b),\n",
    "      converged, by = b)\n",
    "    out = out_all[,c(\"${simulate}\", \"method\", \"total\", \"overlap_cs\", \"size\", \"purity\", \"power\", \"fdr\", \"cs_correlation\", \"size_cond_cs\", \"purity_cond_cs\", \"power_cond_cs\", \"fdr_cond_cs\", \"converged\")]\n",
    "    out = out[order(out$${simulate}, out$power),]\n",
    "    saveRDS(list(table=out, table_verbose=out_all), ${_output:r})"
   ]
  }
 ],
 "metadata": {
  "kernelspec": {
   "display_name": "SoS",
   "language": "sos",
   "name": "sos"
  },
  "language_info": {
   "codemirror_mode": "sos",
   "file_extension": ".sos",
   "mimetype": "text/x-sos",
   "name": "sos",
   "nbconvert_exporter": "sos_notebook.converter.SoS_Exporter",
   "pygments_lexer": "sos"
  },
  "sos": {
   "kernels": [
    [
     "R",
     "ir",
     "R",
     "#DCDCDA",
     "r"
    ],
    [
     "SoS",
     "sos",
     "",
     "",
     "sos"
    ]
   ],
   "version": "0.22.4"
  }
 },
 "nbformat": 4,
 "nbformat_minor": 5
}
