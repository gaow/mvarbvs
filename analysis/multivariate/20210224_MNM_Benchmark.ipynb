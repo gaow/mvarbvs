{
 "cells": [
  {
   "cell_type": "markdown",
   "metadata": {
    "kernel": "SoS"
   },
   "source": [
    "## mvSuSiE benchmark updated\n",
    "\n",
    "During the past few months we have implemented a few fixes with input from Yuxin who performed mvSuSiE analysis in GWAS context and ironed out some corner cases. Also progress from `udr` package offers us better estimate for mixture prior. We now rerun all the benchmark previously developed and look at updated results."
   ]
  },
  {
   "cell_type": "markdown",
   "metadata": {
    "kernel": "SoS"
   },
   "source": [
    "## Benchmark execution\n",
    "\n",
    "Under the `dsc/mnm_prototype` directory,\n",
    "\n",
    "```\n",
    "sos run 20210224_MNM_Benchmark simulation_only\n",
    "sos run 20210224_MNM_Benchmark get_prior\n",
    "```\n"
   ]
  },
  {
   "cell_type": "markdown",
   "metadata": {
    "kernel": "SoS"
   },
   "source": [
    "## Workflow implementations"
   ]
  },
  {
   "cell_type": "code",
   "execution_count": null,
   "metadata": {
    "kernel": "SoS"
   },
   "outputs": [],
   "source": [
    "[simulation_only]\n",
    "script: interpreter= 'qsub', expand = True\n",
    "#!/bin/bash\n",
    "\n",
    "#SBATCH --time=36:00:00\n",
    "#SBATCH --partition=broadwl\n",
    "#SBATCH --nodes=1\n",
    "#SBATCH --ntasks-per-node=1\n",
    "#SBATCH --cpus-per-task=8\n",
    "#SBATCH --mem-per-cpu=4000\n",
    "#SBATCH --job-name={step_name}\n",
    "#SBATCH --mail-type=BEGIN,END,FAIL\n",
    "\n",
    "module load R\n",
    "./gtex_qtl.dsc --host dsc_mnm.yml --target simulate_only --n_dataset 25000 -o mnm_sumstats -s existing -e ignore &> mnm_sumstats.log"
   ]
  },
  {
   "cell_type": "code",
   "execution_count": null,
   "metadata": {
    "kernel": "SoS"
   },
   "outputs": [],
   "source": [
    "[get_prior]\n",
    "#download: dest_file = 'mixture_prior.ipynb'\n",
    "#    https://raw.githubusercontent.com/cumc/bioworkflows/master/multivariate-fine-mapping/mixture_prior.ipynb\n",
    "\n",
    "script: interpreter= 'qsub', expand = True\n",
    "#!/bin/bash\n",
    "  \n",
    "#SBATCH --time=36:00:00\n",
    "#SBATCH --partition=broadwl\n",
    "#SBATCH --nodes=1\n",
    "#SBATCH --ntasks-per-node=1\n",
    "#SBATCH --cpus-per-task=8\n",
    "#SBATCH --mem-per-cpu=2000\n",
    "#SBATCH --job-name={step_name}\n",
    "#SBATCH --mail-type=BEGIN,END,FAIL\n",
    "\n",
    "module load R\n",
    "# 1. extract data from `simulate_only` pipeline in DSC \n",
    "# `analysis_units.txt` is prepared by `ls `\n",
    "for m in mnm_sumstats/artificial_mixture_identity mnm_sumstats/gtex_mixture_identity; do\n",
    "    cd $m && ls *.rds | sed 's/\\.rds//g' > analysis_units.txt && cd -\n",
    "    sos run mixture_prior.ipynb extract_effects \\\n",
    "        --analysis-units $m/analysis_units.txt \\\n",
    "        --datadir $m --name `basename $m` \\\n",
    "        -c ../../midway2.yml -q midway2 -s build\n",
    "done\n",
    "# 2. Run FLASH for data extracted\n",
    "#for m in artificial_mixture_identity gtex_mixture_identity; do\n",
    "#sos run ~/GIT/gtexresults/workflows/mashr_flashr_workflow.ipynb flash \\\n",
    "#    --cwd /project2/mstephens/gaow/mvarbvs/dsc/mnm_prototype/mnm_sumstats/ \\\n",
    "#    --data /project2/mstephens/gaow/mvarbvs/dsc/mnm_prototype/mnm_sumstats/$m.rds \\\n",
    "#    --effect-model EE -c midway2.yml -q midway2\n",
    "#done\n",
    "# 3. Run ED for artificial mixture\n",
    "# sos run analysis/20200502_Prepare_ED_prior.ipynb ed --model artificial_mixture_identity -c midway2.yml -q midway2\n",
    "# 4. Run ED for GTEx mixture\n",
    "# sos run analysis/20200502_Prepare_ED_prior.ipynb ed --model gtex_mixture_identity -c midway2.yml -q midway2\n"
   ]
  },
  {
   "cell_type": "code",
   "execution_count": null,
   "metadata": {
    "kernel": "SoS"
   },
   "outputs": [],
   "source": [
    "# Run the main DSC\n",
    "dsc ukb_rss.dsc --host dsc_mnm.yml -o output/ukb_rss -s existing &> mnm_rss_ukb.log\n",
    "# Run the mthess DSC\n",
    "#./fixed_mix.dsc --host dsc_mnm.yml --target mthess -o mthess_20200526 -s existing -e ignore --n_dataset 200 &> mnm_20200526.log\n",
    "# Run data generation step only to get data for ED estimate\n",
    "# dsc ukb_rss.dsc --host dsc_mnm.yml --target simulate_only -s existing -o output/ukb_rss &> mnm_rss_ukb.log\n",
    "\n",
    "# Run the main DSC\n",
    "#./fixed_mix.dsc --host dsc_mnm.yml -o mnm_20200510 -s existing -e ignore &> mnm_20200510.log\n",
    "# Run the mthess DSC\n",
    "./fixed_mix.dsc --host dsc_mnm.yml --target mthess -o mthess_20200526 -s existing -e ignore --n_dataset 200 &> mnm_20200526.log\n",
    "# Run data generation step only to get data for ED estimate\n",
    "#./fixed_mix.dsc --host dsc_mnm.yml --target simulate_only --n_dataset 25000 -o mnm_sumstats -s existing -e ignore &> mnm_sumstats.log"
   ]
  }
 ],
 "metadata": {
  "kernelspec": {
   "display_name": "SoS",
   "language": "sos",
   "name": "sos"
  },
  "language_info": {
   "codemirror_mode": "sos",
   "file_extension": ".sos",
   "mimetype": "text/x-sos",
   "name": "sos",
   "nbconvert_exporter": "sos_notebook.converter.SoS_Exporter",
   "pygments_lexer": "sos"
  },
  "sos": {
   "kernels": [
    [
     "SoS",
     "sos",
     "",
     ""
    ]
   ],
   "version": "0.20.5"
  }
 },
 "nbformat": 4,
 "nbformat_minor": 5
}
