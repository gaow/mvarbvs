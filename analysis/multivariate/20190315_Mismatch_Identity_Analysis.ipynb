{
 "cells": [
  {
   "cell_type": "markdown",
   "metadata": {
    "kernel": "SoS"
   },
   "source": [
    "# Further investigation of mismatched analysis with identity prior\n",
    "\n",
    "I observe [unexpected FDR inflation](https://gaow.github.io/mvarbvs/analysis/20190218_MNM_Benchmark.html#FDR-for-per-signal-per-condition-estimates) for analyzing singleton simulations using identity priors. Here I take a closer look at the problem."
   ]
  },
  {
   "cell_type": "code",
   "execution_count": 1,
   "metadata": {
    "kernel": "SoS"
   },
   "outputs": [
    {
     "name": "stdout",
     "output_type": "stream",
     "text": [
      "/scratch/midway2/gaow/GIT/github/mnm-twas/dsc/finemap_output"
     ]
    }
   ],
   "source": [
    "%cd ~/GIT/github/mnm-twas/dsc/finemap_output"
   ]
  },
  {
   "cell_type": "code",
   "execution_count": 16,
   "metadata": {
    "kernel": "R"
   },
   "outputs": [],
   "source": [
    "scenario = 'singleton/small_data_1_singleton_1.pkl'\n",
    "analysis = 'mnm_identity/small_data_1_singleton_1_oracle_generator_1_mnm_identity_1.rds'"
   ]
  },
  {
   "cell_type": "code",
   "execution_count": 17,
   "metadata": {
    "kernel": "R"
   },
   "outputs": [],
   "source": [
    "dat = dscrutils::read_dsc(scenario)\n",
    "res = readRDS(analysis)$result"
   ]
  },
  {
   "cell_type": "code",
   "execution_count": 18,
   "metadata": {
    "kernel": "R"
   },
   "outputs": [
    {
     "data": {
      "text/html": [
       "<ol class=list-inline>\n",
       "\t<li>'Y'</li>\n",
       "\t<li>'R'</li>\n",
       "\t<li>'J'</li>\n",
       "\t<li>'meta'</li>\n",
       "\t<li>'DSC_DEBUG'</li>\n",
       "</ol>\n"
      ],
      "text/latex": [
       "\\begin{enumerate*}\n",
       "\\item 'Y'\n",
       "\\item 'R'\n",
       "\\item 'J'\n",
       "\\item 'meta'\n",
       "\\item 'DSC\\_DEBUG'\n",
       "\\end{enumerate*}\n"
      ],
      "text/markdown": [
       "1. 'Y'\n",
       "2. 'R'\n",
       "3. 'J'\n",
       "4. 'meta'\n",
       "5. 'DSC_DEBUG'\n",
       "\n",
       "\n"
      ],
      "text/plain": [
       "[1] \"Y\"         \"R\"         \"J\"         \"meta\"      \"DSC_DEBUG\""
      ]
     },
     "metadata": {},
     "output_type": "display_data"
    }
   ],
   "source": [
    "names(dat)"
   ]
  },
  {
   "cell_type": "code",
   "execution_count": 19,
   "metadata": {
    "kernel": "R"
   },
   "outputs": [
    {
     "data": {
      "text/html": [
       "<ol class=list-inline>\n",
       "\t<li>'alpha'</li>\n",
       "\t<li>'mu'</li>\n",
       "\t<li>'mu2'</li>\n",
       "\t<li>'KL'</li>\n",
       "\t<li>'lbf'</li>\n",
       "\t<li>'sigma2'</li>\n",
       "\t<li>'V'</li>\n",
       "\t<li>'elbo'</li>\n",
       "\t<li>'niter'</li>\n",
       "\t<li>'fitted'</li>\n",
       "\t<li>'coef'</li>\n",
       "\t<li>'null_index'</li>\n",
       "\t<li>'mixture_weights'</li>\n",
       "\t<li>'lfsr'</li>\n",
       "\t<li>'intercept'</li>\n",
       "\t<li>'sets'</li>\n",
       "\t<li>'pip'</li>\n",
       "\t<li>'m_init'</li>\n",
       "</ol>\n"
      ],
      "text/latex": [
       "\\begin{enumerate*}\n",
       "\\item 'alpha'\n",
       "\\item 'mu'\n",
       "\\item 'mu2'\n",
       "\\item 'KL'\n",
       "\\item 'lbf'\n",
       "\\item 'sigma2'\n",
       "\\item 'V'\n",
       "\\item 'elbo'\n",
       "\\item 'niter'\n",
       "\\item 'fitted'\n",
       "\\item 'coef'\n",
       "\\item 'null\\_index'\n",
       "\\item 'mixture\\_weights'\n",
       "\\item 'lfsr'\n",
       "\\item 'intercept'\n",
       "\\item 'sets'\n",
       "\\item 'pip'\n",
       "\\item 'm\\_init'\n",
       "\\end{enumerate*}\n"
      ],
      "text/markdown": [
       "1. 'alpha'\n",
       "2. 'mu'\n",
       "3. 'mu2'\n",
       "4. 'KL'\n",
       "5. 'lbf'\n",
       "6. 'sigma2'\n",
       "7. 'V'\n",
       "8. 'elbo'\n",
       "9. 'niter'\n",
       "10. 'fitted'\n",
       "11. 'coef'\n",
       "12. 'null_index'\n",
       "13. 'mixture_weights'\n",
       "14. 'lfsr'\n",
       "15. 'intercept'\n",
       "16. 'sets'\n",
       "17. 'pip'\n",
       "18. 'm_init'\n",
       "\n",
       "\n"
      ],
      "text/plain": [
       " [1] \"alpha\"           \"mu\"              \"mu2\"             \"KL\"             \n",
       " [5] \"lbf\"             \"sigma2\"          \"V\"               \"elbo\"           \n",
       " [9] \"niter\"           \"fitted\"          \"coef\"            \"null_index\"     \n",
       "[13] \"mixture_weights\" \"lfsr\"            \"intercept\"       \"sets\"           \n",
       "[17] \"pip\"             \"m_init\"         "
      ]
     },
     "metadata": {},
     "output_type": "display_data"
    }
   ],
   "source": [
    "names(res)"
   ]
  },
  {
   "cell_type": "code",
   "execution_count": 20,
   "metadata": {
    "kernel": "R"
   },
   "outputs": [],
   "source": [
    "# plot = mvsusieR::mvsusie_plot(res)"
   ]
  },
  {
   "cell_type": "code",
   "execution_count": 21,
   "metadata": {
    "kernel": "R"
   },
   "outputs": [
    {
     "data": {
      "text/html": [
       "<table>\n",
       "<thead><tr><th scope=col>row</th><th scope=col>col</th></tr></thead>\n",
       "<tbody>\n",
       "\t<tr><td>136</td><td>1  </td></tr>\n",
       "</tbody>\n",
       "</table>\n"
      ],
      "text/latex": [
       "\\begin{tabular}{ll}\n",
       " row & col\\\\\n",
       "\\hline\n",
       "\t 136 & 1  \\\\\n",
       "\\end{tabular}\n"
      ],
      "text/markdown": [
       "\n",
       "row | col | \n",
       "|---|\n",
       "| 136 | 1   | \n",
       "\n",
       "\n"
      ],
      "text/plain": [
       "     row col\n",
       "[1,] 136 1  "
      ]
     },
     "metadata": {},
     "output_type": "display_data"
    }
   ],
   "source": [
    "truth = dat$meta$true_coef\n",
    "true_idx = which(truth != 0, arr.ind = TRUE)\n",
    "true_idx"
   ]
  },
  {
   "cell_type": "code",
   "execution_count": 22,
   "metadata": {
    "kernel": "R"
   },
   "outputs": [
    {
     "data": {
      "text/html": [
       "<ol class=list-inline>\n",
       "\t<li>-0.452527792535091</li>\n",
       "\t<li>0</li>\n",
       "\t<li>0</li>\n",
       "\t<li>0</li>\n",
       "\t<li>0</li>\n",
       "</ol>\n"
      ],
      "text/latex": [
       "\\begin{enumerate*}\n",
       "\\item -0.452527792535091\n",
       "\\item 0\n",
       "\\item 0\n",
       "\\item 0\n",
       "\\item 0\n",
       "\\end{enumerate*}\n"
      ],
      "text/markdown": [
       "1. -0.452527792535091\n",
       "2. 0\n",
       "3. 0\n",
       "4. 0\n",
       "5. 0\n",
       "\n",
       "\n"
      ],
      "text/plain": [
       "[1] -0.4525278  0.0000000  0.0000000  0.0000000  0.0000000"
      ]
     },
     "metadata": {},
     "output_type": "display_data"
    }
   ],
   "source": [
    "truth[unique(true_idx[1]),]"
   ]
  },
  {
   "cell_type": "code",
   "execution_count": 23,
   "metadata": {
    "kernel": "R"
   },
   "outputs": [
    {
     "data": {
      "text/html": [
       "<ol class=list-inline>\n",
       "\t<li>-0.0320290020689475</li>\n",
       "\t<li>0.00611172370821163</li>\n",
       "\t<li>0.000999751801141419</li>\n",
       "\t<li>1.43997799969134e-05</li>\n",
       "\t<li>0.00491099617805023</li>\n",
       "</ol>\n"
      ],
      "text/latex": [
       "\\begin{enumerate*}\n",
       "\\item -0.0320290020689475\n",
       "\\item 0.00611172370821163\n",
       "\\item 0.000999751801141419\n",
       "\\item 1.43997799969134e-05\n",
       "\\item 0.00491099617805023\n",
       "\\end{enumerate*}\n"
      ],
      "text/markdown": [
       "1. -0.0320290020689475\n",
       "2. 0.00611172370821163\n",
       "3. 0.000999751801141419\n",
       "4. 1.43997799969134e-05\n",
       "5. 0.00491099617805023\n",
       "\n",
       "\n"
      ],
      "text/plain": [
       "[1] -3.202900e-02  6.111724e-03  9.997518e-04  1.439978e-05  4.910996e-03"
      ]
     },
     "metadata": {},
     "output_type": "display_data"
    }
   ],
   "source": [
    "res$coef[unique(true_idx[1])+1,]"
   ]
  },
  {
   "cell_type": "code",
   "execution_count": 24,
   "metadata": {
    "kernel": "R"
   },
   "outputs": [
    {
     "data": {
      "text/html": [
       "<dl>\n",
       "\t<dt>$cs</dt>\n",
       "\t\t<dd><strong>$L1</strong> = <ol class=list-inline>\n",
       "\t<li>63</li>\n",
       "\t<li>119</li>\n",
       "\t<li>128</li>\n",
       "\t<li>130</li>\n",
       "\t<li>136</li>\n",
       "</ol>\n",
       "</dd>\n",
       "\t<dt>$purity</dt>\n",
       "\t\t<dd><table>\n",
       "<thead><tr><th></th><th scope=col>min.abs.corr</th><th scope=col>mean.abs.corr</th><th scope=col>median.abs.corr</th></tr></thead>\n",
       "<tbody>\n",
       "\t<tr><th scope=row>L1</th><td>0.9685025</td><td>0.9850541</td><td>0.9828454</td></tr>\n",
       "</tbody>\n",
       "</table>\n",
       "</dd>\n",
       "\t<dt>$cs_index</dt>\n",
       "\t\t<dd>1</dd>\n",
       "\t<dt>$coverage</dt>\n",
       "\t\t<dd>0.95</dd>\n",
       "</dl>\n"
      ],
      "text/latex": [
       "\\begin{description}\n",
       "\\item[\\$cs] \\textbf{\\$L1} = \\begin{enumerate*}\n",
       "\\item 63\n",
       "\\item 119\n",
       "\\item 128\n",
       "\\item 130\n",
       "\\item 136\n",
       "\\end{enumerate*}\n",
       "\n",
       "\\item[\\$purity] \\begin{tabular}{r|lll}\n",
       "  & min.abs.corr & mean.abs.corr & median.abs.corr\\\\\n",
       "\\hline\n",
       "\tL1 & 0.9685025 & 0.9850541 & 0.9828454\\\\\n",
       "\\end{tabular}\n",
       "\n",
       "\\item[\\$cs\\_index] 1\n",
       "\\item[\\$coverage] 0.95\n",
       "\\end{description}\n"
      ],
      "text/markdown": [
       "$cs\n",
       ":   **$L1** = 1. 63\n",
       "2. 119\n",
       "3. 128\n",
       "4. 130\n",
       "5. 136\n",
       "\n",
       "\n",
       "\n",
       "$purity\n",
       ":   \n",
       "| <!--/--> | min.abs.corr | mean.abs.corr | median.abs.corr | \n",
       "|---|\n",
       "| L1 | 0.9685025 | 0.9850541 | 0.9828454 | \n",
       "\n",
       "\n",
       "\n",
       "$cs_index\n",
       ":   1\n",
       "$coverage\n",
       ":   0.95\n",
       "\n",
       "\n"
      ],
      "text/plain": [
       "$cs\n",
       "$cs$L1\n",
       "[1]  63 119 128 130 136\n",
       "\n",
       "\n",
       "$purity\n",
       "   min.abs.corr mean.abs.corr median.abs.corr\n",
       "L1    0.9685025     0.9850541       0.9828454\n",
       "\n",
       "$cs_index\n",
       "[1] 1\n",
       "\n",
       "$coverage\n",
       "[1] 0.95\n"
      ]
     },
     "metadata": {},
     "output_type": "display_data"
    }
   ],
   "source": [
    "res$sets"
   ]
  }
 ],
 "metadata": {
  "kernelspec": {
   "display_name": "SoS",
   "language": "sos",
   "name": "sos"
  },
  "language_info": {
   "codemirror_mode": "sos",
   "file_extension": ".sos",
   "mimetype": "text/x-sos",
   "name": "sos",
   "nbconvert_exporter": "sos_notebook.converter.SoS_Exporter",
   "pygments_lexer": "sos"
  },
  "sos": {
   "kernels": [
    [
     "R",
     "ir",
     "R",
     "#DCDCDA"
    ]
   ],
   "version": "0.19.1"
  }
 },
 "nbformat": 4,
 "nbformat_minor": 2
}
