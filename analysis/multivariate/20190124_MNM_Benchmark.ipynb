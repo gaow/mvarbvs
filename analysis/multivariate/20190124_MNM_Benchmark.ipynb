{
 "cells": [
  {
   "cell_type": "markdown",
   "metadata": {
    "kernel": "SoS"
   },
   "source": [
    "# M&M ASH benchmark Part IV\n",
    "\n",
    "This is a continuation of Part III where instead of looking at 1 causal SNP of PVE = 0.05 I look at a range of causal SNPs per gene with 50% having 1 causal, 30% two causal and 20% three causal. The total PVE is set to 0.15."
   ]
  },
  {
   "cell_type": "markdown",
   "metadata": {
    "kernel": "SoS"
   },
   "source": [
    "## Conclusion\n",
    "\n",
    "`identity` is still better than `singleton` but result for `shared` does not make sense."
   ]
  },
  {
   "cell_type": "markdown",
   "metadata": {
    "kernel": "SoS"
   },
   "source": [
    "```\n",
    "./finemap.dsc --target sanity_check -o sanity_check2 -c 39\n",
    "```"
   ]
  },
  {
   "cell_type": "code",
   "execution_count": 1,
   "metadata": {
    "kernel": "SoS"
   },
   "outputs": [
    {
     "name": "stdout",
     "output_type": "stream",
     "text": [
      "/home/gaow/GIT/github/mnm-twas/dsc"
     ]
    }
   ],
   "source": [
    "%cd ~/GIT/github/mnm-twas/dsc"
   ]
  },
  {
   "cell_type": "code",
   "execution_count": 2,
   "metadata": {
    "kernel": "R"
   },
   "outputs": [
    {
     "name": "stdout",
     "output_type": "stream",
     "text": [
      "Loading dsc-query output from CSV file.\n",
      "Reading DSC outputs:\n",
      " - sharing_pattern.n_signal: extracted atomic values\n",
      " - susie_scores.total: extracted atomic values\n",
      " - susie_scores.valid: extracted atomic values\n",
      " - susie_scores.size: extracted atomic values\n",
      " - susie_scores.purity: extracted atomic values\n",
      " - susie_scores.top: extracted atomic values\n"
     ]
    }
   ],
   "source": [
    "library('dscrutils')\n",
    "out = dscquery('sanity_check2', \"hundred_data.dataset sharing_pattern.n_signal susie_scores.total susie_scores.valid susie_scores.size susie_scores.purity susie_scores.top\", groups=\"sharing_pattern: singleton, identity, shared\")"
   ]
  },
  {
   "cell_type": "code",
   "execution_count": 3,
   "metadata": {
    "kernel": "R"
   },
   "outputs": [
    {
     "data": {
      "text/html": [
       "<table>\n",
       "<thead><tr><th scope=col>DSC</th><th scope=col>hundred_data.dataset</th><th scope=col>sharing_pattern</th><th scope=col>sharing_pattern.n_signal</th><th scope=col>susie_scores.total</th><th scope=col>susie_scores.valid</th><th scope=col>susie_scores.size</th><th scope=col>susie_scores.purity</th><th scope=col>susie_scores.top</th></tr></thead>\n",
       "<tbody>\n",
       "\t<tr><td>1                                                  </td><td>~/Documents/GTExV8/Thyroid.Lung.FMO2.filled.rds    </td><td>singleton                                          </td><td>2                                                  </td><td>2                                                  </td><td>2                                                  </td><td>15.5                                               </td><td>0.977735077359261                                  </td><td>1                                                  </td></tr>\n",
       "\t<tr><td>1                                                  </td><td>~/Documents/GTExV8/Toys/Thyroid.ENSG00000031823.RDS</td><td>singleton                                          </td><td>3                                                  </td><td>1                                                  </td><td>1                                                  </td><td>1                                                  </td><td>1                                                  </td><td>1                                                  </td></tr>\n",
       "\t<tr><td>1                                                  </td><td>~/Documents/GTExV8/Toys/Thyroid.ENSG00000062194.RDS</td><td>singleton                                          </td><td>1                                                  </td><td>1                                                  </td><td>1                                                  </td><td>26                                                 </td><td>0.95151813430003                                   </td><td>0                                                  </td></tr>\n",
       "\t<tr><td>1                                                  </td><td>~/Documents/GTExV8/Toys/Thyroid.ENSG00000073150.RDS</td><td>singleton                                          </td><td>1                                                  </td><td>1                                                  </td><td>1                                                  </td><td>12                                                 </td><td>0.957423948447025                                  </td><td>0                                                  </td></tr>\n",
       "\t<tr><td>1                                                  </td><td>~/Documents/GTExV8/Toys/Thyroid.ENSG00000078319.RDS</td><td>singleton                                          </td><td>2                                                  </td><td>2                                                  </td><td>2                                                  </td><td>2                                                  </td><td>1                                                  </td><td>2                                                  </td></tr>\n",
       "\t<tr><td>1                                                  </td><td>~/Documents/GTExV8/Toys/Thyroid.ENSG00000081277.RDS</td><td>singleton                                          </td><td>2                                                  </td><td>2                                                  </td><td>2                                                  </td><td>3.5                                                </td><td>0.933894486138865                                  </td><td>1                                                  </td></tr>\n",
       "</tbody>\n",
       "</table>\n"
      ],
      "text/latex": [
       "\\begin{tabular}{r|lllllllll}\n",
       " DSC & hundred\\_data.dataset & sharing\\_pattern & sharing\\_pattern.n\\_signal & susie\\_scores.total & susie\\_scores.valid & susie\\_scores.size & susie\\_scores.purity & susie\\_scores.top\\\\\n",
       "\\hline\n",
       "\t 1                                                                    & \\textasciitilde{}/Documents/GTExV8/Thyroid.Lung.FMO2.filled.rds     & singleton                                                            & 2                                                                    & 2                                                                    & 2                                                                    & 15.5                                                                 & 0.977735077359261                                                    & 1                                                                   \\\\\n",
       "\t 1                                                                    & \\textasciitilde{}/Documents/GTExV8/Toys/Thyroid.ENSG00000031823.RDS & singleton                                                            & 3                                                                    & 1                                                                    & 1                                                                    & 1                                                                    & 1                                                                    & 1                                                                   \\\\\n",
       "\t 1                                                                    & \\textasciitilde{}/Documents/GTExV8/Toys/Thyroid.ENSG00000062194.RDS & singleton                                                            & 1                                                                    & 1                                                                    & 1                                                                    & 26                                                                   & 0.95151813430003                                                     & 0                                                                   \\\\\n",
       "\t 1                                                                    & \\textasciitilde{}/Documents/GTExV8/Toys/Thyroid.ENSG00000073150.RDS & singleton                                                            & 1                                                                    & 1                                                                    & 1                                                                    & 12                                                                   & 0.957423948447025                                                    & 0                                                                   \\\\\n",
       "\t 1                                                                    & \\textasciitilde{}/Documents/GTExV8/Toys/Thyroid.ENSG00000078319.RDS & singleton                                                            & 2                                                                    & 2                                                                    & 2                                                                    & 2                                                                    & 1                                                                    & 2                                                                   \\\\\n",
       "\t 1                                                                    & \\textasciitilde{}/Documents/GTExV8/Toys/Thyroid.ENSG00000081277.RDS & singleton                                                            & 2                                                                    & 2                                                                    & 2                                                                    & 3.5                                                                  & 0.933894486138865                                                    & 1                                                                   \\\\\n",
       "\\end{tabular}\n"
      ],
      "text/markdown": [
       "\n",
       "DSC | hundred_data.dataset | sharing_pattern | sharing_pattern.n_signal | susie_scores.total | susie_scores.valid | susie_scores.size | susie_scores.purity | susie_scores.top | \n",
       "|---|---|---|---|---|---|\n",
       "| 1                                                   | ~/Documents/GTExV8/Thyroid.Lung.FMO2.filled.rds     | singleton                                           | 2                                                   | 2                                                   | 2                                                   | 15.5                                                | 0.977735077359261                                   | 1                                                   | \n",
       "| 1                                                   | ~/Documents/GTExV8/Toys/Thyroid.ENSG00000031823.RDS | singleton                                           | 3                                                   | 1                                                   | 1                                                   | 1                                                   | 1                                                   | 1                                                   | \n",
       "| 1                                                   | ~/Documents/GTExV8/Toys/Thyroid.ENSG00000062194.RDS | singleton                                           | 1                                                   | 1                                                   | 1                                                   | 26                                                  | 0.95151813430003                                    | 0                                                   | \n",
       "| 1                                                   | ~/Documents/GTExV8/Toys/Thyroid.ENSG00000073150.RDS | singleton                                           | 1                                                   | 1                                                   | 1                                                   | 12                                                  | 0.957423948447025                                   | 0                                                   | \n",
       "| 1                                                   | ~/Documents/GTExV8/Toys/Thyroid.ENSG00000078319.RDS | singleton                                           | 2                                                   | 2                                                   | 2                                                   | 2                                                   | 1                                                   | 2                                                   | \n",
       "| 1                                                   | ~/Documents/GTExV8/Toys/Thyroid.ENSG00000081277.RDS | singleton                                           | 2                                                   | 2                                                   | 2                                                   | 3.5                                                 | 0.933894486138865                                   | 1                                                   | \n",
       "\n",
       "\n"
      ],
      "text/plain": [
       "  DSC hundred_data.dataset                                sharing_pattern\n",
       "1 1   ~/Documents/GTExV8/Thyroid.Lung.FMO2.filled.rds     singleton      \n",
       "2 1   ~/Documents/GTExV8/Toys/Thyroid.ENSG00000031823.RDS singleton      \n",
       "3 1   ~/Documents/GTExV8/Toys/Thyroid.ENSG00000062194.RDS singleton      \n",
       "4 1   ~/Documents/GTExV8/Toys/Thyroid.ENSG00000073150.RDS singleton      \n",
       "5 1   ~/Documents/GTExV8/Toys/Thyroid.ENSG00000078319.RDS singleton      \n",
       "6 1   ~/Documents/GTExV8/Toys/Thyroid.ENSG00000081277.RDS singleton      \n",
       "  sharing_pattern.n_signal susie_scores.total susie_scores.valid\n",
       "1 2                        2                  2                 \n",
       "2 3                        1                  1                 \n",
       "3 1                        1                  1                 \n",
       "4 1                        1                  1                 \n",
       "5 2                        2                  2                 \n",
       "6 2                        2                  2                 \n",
       "  susie_scores.size susie_scores.purity susie_scores.top\n",
       "1 15.5              0.977735077359261   1               \n",
       "2 1                 1                   1               \n",
       "3 26                0.95151813430003    0               \n",
       "4 12                0.957423948447025   0               \n",
       "5 2                 1                   2               \n",
       "6 3.5               0.933894486138865   1               "
      ]
     },
     "metadata": {},
     "output_type": "display_data"
    }
   ],
   "source": [
    "head(out)"
   ]
  },
  {
   "cell_type": "code",
   "execution_count": 4,
   "metadata": {
    "kernel": "R"
   },
   "outputs": [],
   "source": [
    "out[,c(4,5,6,7,8,9)] = as.numeric(as.matrix(out[,c(4,5,6,7,8,9)]))\n",
    "res = out[,c(3,4,5,6,7,8,9)]\n",
    "colnames(res) = c('pattern', 'total_true', 'total', 'valid', 'size', 'purity', 'top_hit')"
   ]
  },
  {
   "cell_type": "markdown",
   "metadata": {
    "kernel": "R"
   },
   "source": [
    "### Purity of CS"
   ]
  },
  {
   "cell_type": "code",
   "execution_count": 5,
   "metadata": {
    "kernel": "R"
   },
   "outputs": [
    {
     "data": {
      "text/html": [
       "<table>\n",
       "<thead><tr><th scope=col>pattern</th><th scope=col>purity</th></tr></thead>\n",
       "<tbody>\n",
       "\t<tr><td>identity </td><td>0.9767568</td></tr>\n",
       "\t<tr><td>shared   </td><td>0.9812358</td></tr>\n",
       "\t<tr><td>singleton</td><td>0.9686577</td></tr>\n",
       "</tbody>\n",
       "</table>\n"
      ],
      "text/latex": [
       "\\begin{tabular}{r|ll}\n",
       " pattern & purity\\\\\n",
       "\\hline\n",
       "\t identity  & 0.9767568\\\\\n",
       "\t shared    & 0.9812358\\\\\n",
       "\t singleton & 0.9686577\\\\\n",
       "\\end{tabular}\n"
      ],
      "text/markdown": [
       "\n",
       "pattern | purity | \n",
       "|---|---|---|\n",
       "| identity  | 0.9767568 | \n",
       "| shared    | 0.9812358 | \n",
       "| singleton | 0.9686577 | \n",
       "\n",
       "\n"
      ],
      "text/plain": [
       "  pattern   purity   \n",
       "1 identity  0.9767568\n",
       "2 shared    0.9812358\n",
       "3 singleton 0.9686577"
      ]
     },
     "metadata": {},
     "output_type": "display_data"
    }
   ],
   "source": [
    "aggregate(purity~pattern, res, mean)"
   ]
  },
  {
   "cell_type": "markdown",
   "metadata": {
    "kernel": "R"
   },
   "source": [
    "### Size of CS"
   ]
  },
  {
   "cell_type": "code",
   "execution_count": 6,
   "metadata": {
    "kernel": "R"
   },
   "outputs": [
    {
     "data": {
      "text/html": [
       "<table>\n",
       "<thead><tr><th scope=col>pattern</th><th scope=col>size</th></tr></thead>\n",
       "<tbody>\n",
       "\t<tr><td>identity </td><td>5.00     </td></tr>\n",
       "\t<tr><td>shared   </td><td>5.25     </td></tr>\n",
       "\t<tr><td>singleton</td><td>7.00     </td></tr>\n",
       "</tbody>\n",
       "</table>\n"
      ],
      "text/latex": [
       "\\begin{tabular}{r|ll}\n",
       " pattern & size\\\\\n",
       "\\hline\n",
       "\t identity  & 5.00     \\\\\n",
       "\t shared    & 5.25     \\\\\n",
       "\t singleton & 7.00     \\\\\n",
       "\\end{tabular}\n"
      ],
      "text/markdown": [
       "\n",
       "pattern | size | \n",
       "|---|---|---|\n",
       "| identity  | 5.00      | \n",
       "| shared    | 5.25      | \n",
       "| singleton | 7.00      | \n",
       "\n",
       "\n"
      ],
      "text/plain": [
       "  pattern   size\n",
       "1 identity  5.00\n",
       "2 shared    5.25\n",
       "3 singleton 7.00"
      ]
     },
     "metadata": {},
     "output_type": "display_data"
    }
   ],
   "source": [
    "aggregate(size~pattern, res, median)"
   ]
  },
  {
   "cell_type": "markdown",
   "metadata": {
    "kernel": "R"
   },
   "source": [
    "### Power"
   ]
  },
  {
   "cell_type": "code",
   "execution_count": 7,
   "metadata": {
    "kernel": "R"
   },
   "outputs": [
    {
     "data": {
      "text/html": [
       "<table>\n",
       "<thead><tr><th scope=col>pattern</th><th scope=col>valid</th><th scope=col>total_true</th><th scope=col>power</th></tr></thead>\n",
       "<tbody>\n",
       "\t<tr><td>identity </td><td>146      </td><td>173      </td><td>0.8439306</td></tr>\n",
       "\t<tr><td>shared   </td><td>115      </td><td>163      </td><td>0.7055215</td></tr>\n",
       "\t<tr><td>singleton</td><td>132      </td><td>161      </td><td>0.8198758</td></tr>\n",
       "</tbody>\n",
       "</table>\n"
      ],
      "text/latex": [
       "\\begin{tabular}{r|llll}\n",
       " pattern & valid & total\\_true & power\\\\\n",
       "\\hline\n",
       "\t identity  & 146       & 173       & 0.8439306\\\\\n",
       "\t shared    & 115       & 163       & 0.7055215\\\\\n",
       "\t singleton & 132       & 161       & 0.8198758\\\\\n",
       "\\end{tabular}\n"
      ],
      "text/markdown": [
       "\n",
       "pattern | valid | total_true | power | \n",
       "|---|---|---|\n",
       "| identity  | 146       | 173       | 0.8439306 | \n",
       "| shared    | 115       | 163       | 0.7055215 | \n",
       "| singleton | 132       | 161       | 0.8198758 | \n",
       "\n",
       "\n"
      ],
      "text/plain": [
       "  pattern   valid total_true power    \n",
       "1 identity  146   173        0.8439306\n",
       "2 shared    115   163        0.7055215\n",
       "3 singleton 132   161        0.8198758"
      ]
     },
     "metadata": {},
     "output_type": "display_data"
    }
   ],
   "source": [
    "valid = aggregate(valid ~ pattern, res, sum)\n",
    "total_true = aggregate(total_true ~ pattern, res, sum)\n",
    "power = merge(valid, total_true, by = \"pattern\")\n",
    "power$power = power$valid/power$total_true\n",
    "power"
   ]
  },
  {
   "cell_type": "markdown",
   "metadata": {
    "kernel": "R"
   },
   "source": [
    "### FDR"
   ]
  },
  {
   "cell_type": "code",
   "execution_count": 8,
   "metadata": {
    "kernel": "R"
   },
   "outputs": [
    {
     "data": {
      "text/html": [
       "<table>\n",
       "<thead><tr><th scope=col>pattern</th><th scope=col>valid</th><th scope=col>total</th><th scope=col>fdr</th></tr></thead>\n",
       "<tbody>\n",
       "\t<tr><td>identity  </td><td>146       </td><td>152       </td><td>0.03947368</td></tr>\n",
       "\t<tr><td>shared    </td><td>115       </td><td>123       </td><td>0.06504065</td></tr>\n",
       "\t<tr><td>singleton </td><td>132       </td><td>135       </td><td>0.02222222</td></tr>\n",
       "</tbody>\n",
       "</table>\n"
      ],
      "text/latex": [
       "\\begin{tabular}{r|llll}\n",
       " pattern & valid & total & fdr\\\\\n",
       "\\hline\n",
       "\t identity   & 146        & 152        & 0.03947368\\\\\n",
       "\t shared     & 115        & 123        & 0.06504065\\\\\n",
       "\t singleton  & 132        & 135        & 0.02222222\\\\\n",
       "\\end{tabular}\n"
      ],
      "text/markdown": [
       "\n",
       "pattern | valid | total | fdr | \n",
       "|---|---|---|\n",
       "| identity   | 146        | 152        | 0.03947368 | \n",
       "| shared     | 115        | 123        | 0.06504065 | \n",
       "| singleton  | 132        | 135        | 0.02222222 | \n",
       "\n",
       "\n"
      ],
      "text/plain": [
       "  pattern   valid total fdr       \n",
       "1 identity  146   152   0.03947368\n",
       "2 shared    115   123   0.06504065\n",
       "3 singleton 132   135   0.02222222"
      ]
     },
     "metadata": {},
     "output_type": "display_data"
    }
   ],
   "source": [
    "valid = aggregate(valid ~ pattern, res, sum)\n",
    "total = aggregate(total ~ pattern, res, sum)\n",
    "fdr = merge(valid, total, by = \"pattern\")\n",
    "fdr$fdr = (fdr$total - fdr$valid)/fdr$total\n",
    "fdr"
   ]
  },
  {
   "cell_type": "markdown",
   "metadata": {
    "kernel": "R"
   },
   "source": [
    "### Top-hit rate (how often the strongest SNP is causal)"
   ]
  },
  {
   "cell_type": "code",
   "execution_count": 9,
   "metadata": {
    "kernel": "R"
   },
   "outputs": [
    {
     "data": {
      "text/html": [
       "<table>\n",
       "<thead><tr><th scope=col>pattern</th><th scope=col>top_hit</th><th scope=col>total_true</th><th scope=col>top_rate</th></tr></thead>\n",
       "<tbody>\n",
       "\t<tr><td>identity </td><td>84       </td><td>173      </td><td>0.4855491</td></tr>\n",
       "\t<tr><td>shared   </td><td>55       </td><td>163      </td><td>0.3374233</td></tr>\n",
       "\t<tr><td>singleton</td><td>68       </td><td>161      </td><td>0.4223602</td></tr>\n",
       "</tbody>\n",
       "</table>\n"
      ],
      "text/latex": [
       "\\begin{tabular}{r|llll}\n",
       " pattern & top\\_hit & total\\_true & top\\_rate\\\\\n",
       "\\hline\n",
       "\t identity  & 84        & 173       & 0.4855491\\\\\n",
       "\t shared    & 55        & 163       & 0.3374233\\\\\n",
       "\t singleton & 68        & 161       & 0.4223602\\\\\n",
       "\\end{tabular}\n"
      ],
      "text/markdown": [
       "\n",
       "pattern | top_hit | total_true | top_rate | \n",
       "|---|---|---|\n",
       "| identity  | 84        | 173       | 0.4855491 | \n",
       "| shared    | 55        | 163       | 0.3374233 | \n",
       "| singleton | 68        | 161       | 0.4223602 | \n",
       "\n",
       "\n"
      ],
      "text/plain": [
       "  pattern   top_hit total_true top_rate \n",
       "1 identity  84      173        0.4855491\n",
       "2 shared    55      163        0.3374233\n",
       "3 singleton 68      161        0.4223602"
      ]
     },
     "metadata": {},
     "output_type": "display_data"
    }
   ],
   "source": [
    "top_hit = aggregate(top_hit ~ pattern, res, sum)\n",
    "total_true = aggregate(total_true ~ pattern, res, sum)\n",
    "top_rate = merge(top_hit, total_true, by = \"pattern\")\n",
    "top_rate$top_rate = top_rate$top_hit/top_rate$total_true\n",
    "top_rate"
   ]
  },
  {
   "cell_type": "code",
   "execution_count": null,
   "metadata": {
    "kernel": "R"
   },
   "outputs": [],
   "source": []
  }
 ],
 "metadata": {
  "kernelspec": {
   "display_name": "SoS",
   "language": "sos",
   "name": "sos"
  },
  "language_info": {
   "codemirror_mode": "sos",
   "file_extension": ".sos",
   "mimetype": "text/x-sos",
   "name": "sos",
   "nbconvert_exporter": "sos_notebook.converter.SoS_Exporter",
   "pygments_lexer": "sos"
  },
  "sos": {
   "kernels": [
    [
     "R",
     "ir",
     "R",
     "#DCDCDA"
    ]
   ],
   "version": "0.18.3"
  }
 },
 "nbformat": 4,
 "nbformat_minor": 2
}
