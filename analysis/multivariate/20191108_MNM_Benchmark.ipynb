{
 "cells": [
  {
   "cell_type": "markdown",
   "metadata": {
    "kernel": "SoS"
   },
   "source": [
    "# M&M benchmark VIII\n",
    "\n",
    "This benchmark uses the latest GTEx V8 genotype data and evaluated the pipeline in the presence of missing data."
   ]
  },
  {
   "cell_type": "markdown",
   "metadata": {
    "kernel": "SoS"
   },
   "source": [
    "1. the number of conditions are increased to $R=45$\n",
    "2. missing data in expression are simulated according to missingness pattern in the actual expression cross tissues; Both `flashier::flash` methods and simple diagonal methods were used to compute covariance of response to use as residual covariance."
   ]
  },
  {
   "cell_type": "markdown",
   "metadata": {
    "kernel": "SoS"
   },
   "source": [
    "## Conclusion\n",
    "\n",
    "1. Our pipeline with missing data has high false positive rates even though the simulated residual correlation is diagonal.\n",
    "2. When the underlying pattern of residual covariance is diagonal, FLASH based method suffer from quite a bit power loss as shown in simulations without missing data.\n",
    "\n",
    "## Next steps for this investigation\n",
    "\n",
    "1. Figure out the problem (hopefully bug) with missing data handling in `mmbr`. \n",
    "    - **An obvious thing to do is to add more unit tests for missing data** although we already have a couple of unit tests for it. But hopefully more tests can catch something obvious.\n",
    "2. Add a diagnostic function to compute in between CS correlation."
   ]
  },
  {
   "cell_type": "markdown",
   "metadata": {
    "kernel": "SoS"
   },
   "source": [
    "The benchmark is now under `dsc_mnm`, running on UChicago RCC midway\n",
    "\n",
    "```\n",
    "./finemap.dsc --host mnm_dsc.yaml\n",
    "```\n",
    "\n",
    "This executes the `default` pipeline in `finemap.dsc` file, as of today (2019.11.08)."
   ]
  },
  {
   "cell_type": "code",
   "execution_count": 3,
   "metadata": {
    "kernel": "SoS"
   },
   "outputs": [
    {
     "name": "stdout",
     "output_type": "stream",
     "text": [
      "/project2/mstephens/gaow/mvarbvs/dsc_mnm"
     ]
    }
   ],
   "source": [
    "%cd ~/GIT/mvarbvs/dsc_mnm"
   ]
  },
  {
   "cell_type": "code",
   "execution_count": 4,
   "metadata": {
    "kernel": "R"
   },
   "outputs": [],
   "source": [
    "start_time <- Sys.time()\n",
    "out = dscrutils::dscquery('finemap_output', targets = c('simulate', 'mnm.resid_method', 'mnm.missing_Y', 'susie_scores.total', 'susie_scores.valid', 'susie_scores.size', 'susie_scores.purity', 'susie_scores.top', 'susie_scores.n_causal', 'susie_scores.included_causal', 'susie_scores.overlap', 'susie_scores.false_pos_cond_discoveries', 'susie_scores.false_neg_cond_discoveries', 'susie_scores.true_cond_discoveries'), verbose = F)\n",
    "end_time <- Sys.time()"
   ]
  },
  {
   "cell_type": "code",
   "execution_count": 5,
   "metadata": {
    "kernel": "R"
   },
   "outputs": [
    {
     "data": {
      "text/plain": [
       "Time difference of 14.60613 secs"
      ]
     },
     "metadata": {},
     "output_type": "display_data"
    }
   ],
   "source": [
    "end_time - start_time"
   ]
  },
  {
   "cell_type": "code",
   "execution_count": 6,
   "metadata": {
    "kernel": "R"
   },
   "outputs": [
    {
     "data": {
      "text/html": [
       "<table>\n",
       "<thead><tr><th scope=col>DSC</th><th scope=col>simulate</th><th scope=col>mnm.resid_method</th><th scope=col>mnm.missing_Y</th><th scope=col>susie_scores.total</th><th scope=col>susie_scores.valid</th><th scope=col>susie_scores.size</th><th scope=col>susie_scores.purity</th><th scope=col>susie_scores.top</th><th scope=col>susie_scores.n_causal</th><th scope=col>susie_scores.included_causal</th><th scope=col>susie_scores.overlap</th><th scope=col>susie_scores.false_pos_cond_discoveries</th><th scope=col>susie_scores.false_neg_cond_discoveries</th><th scope=col>susie_scores.true_cond_discoveries</th></tr></thead>\n",
       "<tbody>\n",
       "\t<tr><td>1        </td><td>mid_het  </td><td>flash    </td><td>TRUE     </td><td>2        </td><td>2        </td><td>23.5     </td><td>0.8482883</td><td>2        </td><td>1        </td><td>1        </td><td> 23      </td><td> 0       </td><td>  4      </td><td> 86      </td></tr>\n",
       "\t<tr><td>1        </td><td>mid_het  </td><td>flash    </td><td>TRUE     </td><td>1        </td><td>1        </td><td>13.0     </td><td>0.9527061</td><td>1        </td><td>3        </td><td>2        </td><td>  0      </td><td> 0       </td><td>  8      </td><td> 37      </td></tr>\n",
       "\t<tr><td>1        </td><td>mid_het  </td><td>flash    </td><td>TRUE     </td><td>6        </td><td>1        </td><td> 2.0     </td><td>0.9974367</td><td>0        </td><td>1        </td><td>1        </td><td>  0      </td><td>16       </td><td>216      </td><td> 38      </td></tr>\n",
       "\t<tr><td>1        </td><td>mid_het  </td><td>flash    </td><td>TRUE     </td><td>5        </td><td>5        </td><td>37.0     </td><td>0.9691339</td><td>0        </td><td>2        </td><td>2        </td><td>125      </td><td> 0       </td><td> 57      </td><td>168      </td></tr>\n",
       "\t<tr><td>1        </td><td>mid_het  </td><td>flash    </td><td>TRUE     </td><td>1        </td><td>1        </td><td>20.0     </td><td>0.9178380</td><td>0        </td><td>2        </td><td>1        </td><td>  0      </td><td> 0       </td><td>  1      </td><td> 44      </td></tr>\n",
       "\t<tr><td>1        </td><td>mid_het  </td><td>flash    </td><td>TRUE     </td><td>1        </td><td>1        </td><td>12.0     </td><td>0.9302628</td><td>0        </td><td>3        </td><td>1        </td><td>  0      </td><td> 0       </td><td>  6      </td><td> 39      </td></tr>\n",
       "</tbody>\n",
       "</table>\n"
      ],
      "text/latex": [
       "\\begin{tabular}{r|lllllllllllllll}\n",
       " DSC & simulate & mnm.resid\\_method & mnm.missing\\_Y & susie\\_scores.total & susie\\_scores.valid & susie\\_scores.size & susie\\_scores.purity & susie\\_scores.top & susie\\_scores.n\\_causal & susie\\_scores.included\\_causal & susie\\_scores.overlap & susie\\_scores.false\\_pos\\_cond\\_discoveries & susie\\_scores.false\\_neg\\_cond\\_discoveries & susie\\_scores.true\\_cond\\_discoveries\\\\\n",
       "\\hline\n",
       "\t 1         & mid\\_het & flash     & TRUE      & 2         & 2         & 23.5      & 0.8482883 & 2         & 1         & 1         &  23       &  0        &   4       &  86      \\\\\n",
       "\t 1         & mid\\_het & flash     & TRUE      & 1         & 1         & 13.0      & 0.9527061 & 1         & 3         & 2         &   0       &  0        &   8       &  37      \\\\\n",
       "\t 1         & mid\\_het & flash     & TRUE      & 6         & 1         &  2.0      & 0.9974367 & 0         & 1         & 1         &   0       & 16        & 216       &  38      \\\\\n",
       "\t 1         & mid\\_het & flash     & TRUE      & 5         & 5         & 37.0      & 0.9691339 & 0         & 2         & 2         & 125       &  0        &  57       & 168      \\\\\n",
       "\t 1         & mid\\_het & flash     & TRUE      & 1         & 1         & 20.0      & 0.9178380 & 0         & 2         & 1         &   0       &  0        &   1       &  44      \\\\\n",
       "\t 1         & mid\\_het & flash     & TRUE      & 1         & 1         & 12.0      & 0.9302628 & 0         & 3         & 1         &   0       &  0        &   6       &  39      \\\\\n",
       "\\end{tabular}\n"
      ],
      "text/markdown": [
       "\n",
       "DSC | simulate | mnm.resid_method | mnm.missing_Y | susie_scores.total | susie_scores.valid | susie_scores.size | susie_scores.purity | susie_scores.top | susie_scores.n_causal | susie_scores.included_causal | susie_scores.overlap | susie_scores.false_pos_cond_discoveries | susie_scores.false_neg_cond_discoveries | susie_scores.true_cond_discoveries | \n",
       "|---|---|---|---|---|---|\n",
       "| 1         | mid_het   | flash     | TRUE      | 2         | 2         | 23.5      | 0.8482883 | 2         | 1         | 1         |  23       |  0        |   4       |  86       | \n",
       "| 1         | mid_het   | flash     | TRUE      | 1         | 1         | 13.0      | 0.9527061 | 1         | 3         | 2         |   0       |  0        |   8       |  37       | \n",
       "| 1         | mid_het   | flash     | TRUE      | 6         | 1         |  2.0      | 0.9974367 | 0         | 1         | 1         |   0       | 16        | 216       |  38       | \n",
       "| 1         | mid_het   | flash     | TRUE      | 5         | 5         | 37.0      | 0.9691339 | 0         | 2         | 2         | 125       |  0        |  57       | 168       | \n",
       "| 1         | mid_het   | flash     | TRUE      | 1         | 1         | 20.0      | 0.9178380 | 0         | 2         | 1         |   0       |  0        |   1       |  44       | \n",
       "| 1         | mid_het   | flash     | TRUE      | 1         | 1         | 12.0      | 0.9302628 | 0         | 3         | 1         |   0       |  0        |   6       |  39       | \n",
       "\n",
       "\n"
      ],
      "text/plain": [
       "  DSC simulate mnm.resid_method mnm.missing_Y susie_scores.total\n",
       "1 1   mid_het  flash            TRUE          2                 \n",
       "2 1   mid_het  flash            TRUE          1                 \n",
       "3 1   mid_het  flash            TRUE          6                 \n",
       "4 1   mid_het  flash            TRUE          5                 \n",
       "5 1   mid_het  flash            TRUE          1                 \n",
       "6 1   mid_het  flash            TRUE          1                 \n",
       "  susie_scores.valid susie_scores.size susie_scores.purity susie_scores.top\n",
       "1 2                  23.5              0.8482883           2               \n",
       "2 1                  13.0              0.9527061           1               \n",
       "3 1                   2.0              0.9974367           0               \n",
       "4 5                  37.0              0.9691339           0               \n",
       "5 1                  20.0              0.9178380           0               \n",
       "6 1                  12.0              0.9302628           0               \n",
       "  susie_scores.n_causal susie_scores.included_causal susie_scores.overlap\n",
       "1 1                     1                             23                 \n",
       "2 3                     2                              0                 \n",
       "3 1                     1                              0                 \n",
       "4 2                     2                            125                 \n",
       "5 2                     1                              0                 \n",
       "6 3                     1                              0                 \n",
       "  susie_scores.false_pos_cond_discoveries\n",
       "1  0                                     \n",
       "2  0                                     \n",
       "3 16                                     \n",
       "4  0                                     \n",
       "5  0                                     \n",
       "6  0                                     \n",
       "  susie_scores.false_neg_cond_discoveries susie_scores.true_cond_discoveries\n",
       "1   4                                      86                               \n",
       "2   8                                      37                               \n",
       "3 216                                      38                               \n",
       "4  57                                     168                               \n",
       "5   1                                      44                               \n",
       "6   6                                      39                               "
      ]
     },
     "metadata": {},
     "output_type": "display_data"
    }
   ],
   "source": [
    "head(out)"
   ]
  },
  {
   "cell_type": "code",
   "execution_count": 7,
   "metadata": {
    "kernel": "R"
   },
   "outputs": [
    {
     "data": {
      "text/html": [
       "<ol class=list-inline>\n",
       "\t<li>400</li>\n",
       "\t<li>15</li>\n",
       "</ol>\n"
      ],
      "text/latex": [
       "\\begin{enumerate*}\n",
       "\\item 400\n",
       "\\item 15\n",
       "\\end{enumerate*}\n"
      ],
      "text/markdown": [
       "1. 400\n",
       "2. 15\n",
       "\n",
       "\n"
      ],
      "text/plain": [
       "[1] 400  15"
      ]
     },
     "metadata": {},
     "output_type": "display_data"
    }
   ],
   "source": [
    "dim(out)"
   ]
  },
  {
   "cell_type": "code",
   "execution_count": 8,
   "metadata": {
    "kernel": "R"
   },
   "outputs": [],
   "source": [
    "saveRDS(out, '../data/finemap_output.20191108.rds')"
   ]
  },
  {
   "cell_type": "code",
   "execution_count": 10,
   "metadata": {
    "kernel": "R"
   },
   "outputs": [],
   "source": [
    "res = out[,-c(1,2)]\n",
    "colnames(res) = c('resid_method', 'missing', 'total', 'valid', 'size', 'purity', 'top_hit', 'total_true', 'total_true_included', 'overlap', 'false_positive_cross_cond', 'false_negative_cross_cond', 'true_positive_cross_cond')"
   ]
  },
  {
   "cell_type": "markdown",
   "metadata": {
    "kernel": "R"
   },
   "source": [
    "### Purity of CS\n",
    "\n",
    "Yes purity is higher with missing data --- but because many of those CS are false positives! (see below)"
   ]
  },
  {
   "cell_type": "code",
   "execution_count": 11,
   "metadata": {
    "kernel": "R"
   },
   "outputs": [
    {
     "data": {
      "text/html": [
       "<table>\n",
       "<thead><tr><th scope=col>resid_method</th><th scope=col>missing</th><th scope=col>purity</th></tr></thead>\n",
       "<tbody>\n",
       "\t<tr><td>diag     </td><td>FALSE    </td><td>0.9670738</td></tr>\n",
       "\t<tr><td>flash    </td><td>FALSE    </td><td>0.6914748</td></tr>\n",
       "\t<tr><td>diag     </td><td> TRUE    </td><td>0.9349031</td></tr>\n",
       "\t<tr><td>flash    </td><td> TRUE    </td><td>0.8479686</td></tr>\n",
       "</tbody>\n",
       "</table>\n"
      ],
      "text/latex": [
       "\\begin{tabular}{r|lll}\n",
       " resid\\_method & missing & purity\\\\\n",
       "\\hline\n",
       "\t diag      & FALSE     & 0.9670738\\\\\n",
       "\t flash     & FALSE     & 0.6914748\\\\\n",
       "\t diag      &  TRUE     & 0.9349031\\\\\n",
       "\t flash     &  TRUE     & 0.8479686\\\\\n",
       "\\end{tabular}\n"
      ],
      "text/markdown": [
       "\n",
       "resid_method | missing | purity | \n",
       "|---|---|---|---|\n",
       "| diag      | FALSE     | 0.9670738 | \n",
       "| flash     | FALSE     | 0.6914748 | \n",
       "| diag      |  TRUE     | 0.9349031 | \n",
       "| flash     |  TRUE     | 0.8479686 | \n",
       "\n",
       "\n"
      ],
      "text/plain": [
       "  resid_method missing purity   \n",
       "1 diag         FALSE   0.9670738\n",
       "2 flash        FALSE   0.6914748\n",
       "3 diag          TRUE   0.9349031\n",
       "4 flash         TRUE   0.8479686"
      ]
     },
     "metadata": {},
     "output_type": "display_data"
    }
   ],
   "source": [
    "purity = aggregate(purity~resid_method + missing, res, mean)\n",
    "purity"
   ]
  },
  {
   "cell_type": "markdown",
   "metadata": {
    "kernel": "R"
   },
   "source": [
    "### Size of CS"
   ]
  },
  {
   "cell_type": "code",
   "execution_count": 12,
   "metadata": {
    "kernel": "R"
   },
   "outputs": [
    {
     "data": {
      "text/html": [
       "<table>\n",
       "<thead><tr><th scope=col>resid_method</th><th scope=col>missing</th><th scope=col>size</th></tr></thead>\n",
       "<tbody>\n",
       "\t<tr><td>diag </td><td>FALSE</td><td>6.00 </td></tr>\n",
       "\t<tr><td>flash</td><td>FALSE</td><td>7.00 </td></tr>\n",
       "\t<tr><td>diag </td><td> TRUE</td><td>7.75 </td></tr>\n",
       "\t<tr><td>flash</td><td> TRUE</td><td>7.25 </td></tr>\n",
       "</tbody>\n",
       "</table>\n"
      ],
      "text/latex": [
       "\\begin{tabular}{r|lll}\n",
       " resid\\_method & missing & size\\\\\n",
       "\\hline\n",
       "\t diag  & FALSE & 6.00 \\\\\n",
       "\t flash & FALSE & 7.00 \\\\\n",
       "\t diag  &  TRUE & 7.75 \\\\\n",
       "\t flash &  TRUE & 7.25 \\\\\n",
       "\\end{tabular}\n"
      ],
      "text/markdown": [
       "\n",
       "resid_method | missing | size | \n",
       "|---|---|---|---|\n",
       "| diag  | FALSE | 6.00  | \n",
       "| flash | FALSE | 7.00  | \n",
       "| diag  |  TRUE | 7.75  | \n",
       "| flash |  TRUE | 7.25  | \n",
       "\n",
       "\n"
      ],
      "text/plain": [
       "  resid_method missing size\n",
       "1 diag         FALSE   6.00\n",
       "2 flash        FALSE   7.00\n",
       "3 diag          TRUE   7.75\n",
       "4 flash         TRUE   7.25"
      ]
     },
     "metadata": {},
     "output_type": "display_data"
    }
   ],
   "source": [
    "size = aggregate(size~resid_method+missing, res, median)\n",
    "size"
   ]
  },
  {
   "cell_type": "markdown",
   "metadata": {
    "kernel": "R"
   },
   "source": [
    "### Power of CS\n",
    "\n",
    "**Notice here that many CS overlap -- this is not what was observed with $R=5$.**"
   ]
  },
  {
   "cell_type": "code",
   "execution_count": 13,
   "metadata": {
    "kernel": "R"
   },
   "outputs": [
    {
     "data": {
      "text/html": [
       "<table>\n",
       "<thead><tr><th></th><th scope=col>resid_method</th><th scope=col>missing</th><th scope=col>total_true_included</th><th scope=col>total_true</th><th scope=col>overlap</th><th scope=col>power</th></tr></thead>\n",
       "<tbody>\n",
       "\t<tr><th scope=row>1</th><td>diag     </td><td>FALSE    </td><td>158      </td><td>162      </td><td>194.40   </td><td>0.9753086</td></tr>\n",
       "\t<tr><th scope=row>3</th><td>flash    </td><td>FALSE    </td><td>116      </td><td>162      </td><td>103.48   </td><td>0.7160494</td></tr>\n",
       "\t<tr><th scope=row>2</th><td>diag     </td><td> TRUE    </td><td>140      </td><td>162      </td><td>242.23   </td><td>0.8641975</td></tr>\n",
       "\t<tr><th scope=row>4</th><td>flash    </td><td> TRUE    </td><td>112      </td><td>162      </td><td>119.73   </td><td>0.6913580</td></tr>\n",
       "</tbody>\n",
       "</table>\n"
      ],
      "text/latex": [
       "\\begin{tabular}{r|llllll}\n",
       "  & resid\\_method & missing & total\\_true\\_included & total\\_true & overlap & power\\\\\n",
       "\\hline\n",
       "\t1 & diag      & FALSE     & 158       & 162       & 194.40    & 0.9753086\\\\\n",
       "\t3 & flash     & FALSE     & 116       & 162       & 103.48    & 0.7160494\\\\\n",
       "\t2 & diag      &  TRUE     & 140       & 162       & 242.23    & 0.8641975\\\\\n",
       "\t4 & flash     &  TRUE     & 112       & 162       & 119.73    & 0.6913580\\\\\n",
       "\\end{tabular}\n"
      ],
      "text/markdown": [
       "\n",
       "| <!--/--> | resid_method | missing | total_true_included | total_true | overlap | power | \n",
       "|---|---|---|---|\n",
       "| 1 | diag      | FALSE     | 158       | 162       | 194.40    | 0.9753086 | \n",
       "| 3 | flash     | FALSE     | 116       | 162       | 103.48    | 0.7160494 | \n",
       "| 2 | diag      |  TRUE     | 140       | 162       | 242.23    | 0.8641975 | \n",
       "| 4 | flash     |  TRUE     | 112       | 162       | 119.73    | 0.6913580 | \n",
       "\n",
       "\n"
      ],
      "text/plain": [
       "  resid_method missing total_true_included total_true overlap power    \n",
       "1 diag         FALSE   158                 162        194.40  0.9753086\n",
       "3 flash        FALSE   116                 162        103.48  0.7160494\n",
       "2 diag          TRUE   140                 162        242.23  0.8641975\n",
       "4 flash         TRUE   112                 162        119.73  0.6913580"
      ]
     },
     "metadata": {},
     "output_type": "display_data"
    }
   ],
   "source": [
    "total_true_included = aggregate(total_true_included ~ resid_method + missing, res, sum)\n",
    "total_true = aggregate(total_true ~ resid_method + missing, res, sum)\n",
    "overlap = aggregate(overlap ~ resid_method + missing, res, mean)\n",
    "power = merge(total_true_included, total_true, by = c(\"resid_method\", \"missing\"))\n",
    "power = merge(power, overlap,  by = c(\"resid_method\", \"missing\"))\n",
    "power$power = power$total_true_included/power$total_true\n",
    "power = power[order(power$missing),]\n",
    "power"
   ]
  },
  {
   "cell_type": "markdown",
   "metadata": {
    "kernel": "R"
   },
   "source": [
    "### FDR of CS\n",
    "\n",
    "**The high FDR explains the seemingly high power, and is consistent with the observations that CS are \"purer\".**"
   ]
  },
  {
   "cell_type": "code",
   "execution_count": 14,
   "metadata": {
    "kernel": "R"
   },
   "outputs": [
    {
     "data": {
      "text/html": [
       "<table>\n",
       "<thead><tr><th></th><th scope=col>resid_method</th><th scope=col>missing</th><th scope=col>valid</th><th scope=col>total</th><th scope=col>fdr</th></tr></thead>\n",
       "<tbody>\n",
       "\t<tr><th scope=row>1</th><td>diag       </td><td>FALSE      </td><td>320        </td><td>320        </td><td>0.000000000</td></tr>\n",
       "\t<tr><th scope=row>3</th><td>flash      </td><td>FALSE      </td><td>169        </td><td>170        </td><td>0.005882353</td></tr>\n",
       "\t<tr><th scope=row>2</th><td>diag       </td><td> TRUE      </td><td>281        </td><td>369        </td><td>0.238482385</td></tr>\n",
       "\t<tr><th scope=row>4</th><td>flash      </td><td> TRUE      </td><td>190        </td><td>284        </td><td>0.330985915</td></tr>\n",
       "</tbody>\n",
       "</table>\n"
      ],
      "text/latex": [
       "\\begin{tabular}{r|lllll}\n",
       "  & resid\\_method & missing & valid & total & fdr\\\\\n",
       "\\hline\n",
       "\t1 & diag        & FALSE       & 320         & 320         & 0.000000000\\\\\n",
       "\t3 & flash       & FALSE       & 169         & 170         & 0.005882353\\\\\n",
       "\t2 & diag        &  TRUE       & 281         & 369         & 0.238482385\\\\\n",
       "\t4 & flash       &  TRUE       & 190         & 284         & 0.330985915\\\\\n",
       "\\end{tabular}\n"
      ],
      "text/markdown": [
       "\n",
       "| <!--/--> | resid_method | missing | valid | total | fdr | \n",
       "|---|---|---|---|\n",
       "| 1 | diag        | FALSE       | 320         | 320         | 0.000000000 | \n",
       "| 3 | flash       | FALSE       | 169         | 170         | 0.005882353 | \n",
       "| 2 | diag        |  TRUE       | 281         | 369         | 0.238482385 | \n",
       "| 4 | flash       |  TRUE       | 190         | 284         | 0.330985915 | \n",
       "\n",
       "\n"
      ],
      "text/plain": [
       "  resid_method missing valid total fdr        \n",
       "1 diag         FALSE   320   320   0.000000000\n",
       "3 flash        FALSE   169   170   0.005882353\n",
       "2 diag          TRUE   281   369   0.238482385\n",
       "4 flash         TRUE   190   284   0.330985915"
      ]
     },
     "metadata": {},
     "output_type": "display_data"
    }
   ],
   "source": [
    "valid = aggregate(valid ~ resid_method + missing, res, sum)\n",
    "total = aggregate(total ~ resid_method + missing, res, sum)\n",
    "fdr = merge(valid, total, by = c(\"resid_method\", \"missing\"))\n",
    "fdr$fdr = (fdr$total - fdr$valid)/fdr$total\n",
    "fdr = fdr[order(fdr$missing),]\n",
    "fdr"
   ]
  },
  {
   "cell_type": "markdown",
   "metadata": {
    "kernel": "R"
   },
   "source": [
    "### Power for per signal per condition estimates\n",
    "\n",
    "We compute lfsr on per signal per condition basis. We call it a signal in the condition if lfsr is smaller than 0.05."
   ]
  },
  {
   "cell_type": "code",
   "execution_count": 15,
   "metadata": {
    "kernel": "R"
   },
   "outputs": [],
   "source": [
    "tp = aggregate(true_positive_cross_cond ~ resid_method + missing, res, sum)\n",
    "fn = aggregate(false_negative_cross_cond ~ resid_method + missing, res, sum)\n",
    "power = merge(tp, fn, by = c(\"resid_method\", \"missing\"))"
   ]
  },
  {
   "cell_type": "code",
   "execution_count": 16,
   "metadata": {
    "kernel": "R"
   },
   "outputs": [
    {
     "data": {
      "text/html": [
       "<table>\n",
       "<thead><tr><th></th><th scope=col>resid_method</th><th scope=col>missing</th><th scope=col>true_positive_cross_cond</th><th scope=col>false_negative_cross_cond</th><th scope=col>power</th></tr></thead>\n",
       "<tbody>\n",
       "\t<tr><th scope=row>1</th><td>diag     </td><td>FALSE    </td><td>8871     </td><td> 5529    </td><td>0.6160417</td></tr>\n",
       "\t<tr><th scope=row>3</th><td>flash    </td><td>FALSE    </td><td>4467     </td><td> 3176    </td><td>0.5844564</td></tr>\n",
       "\t<tr><th scope=row>2</th><td>diag     </td><td> TRUE    </td><td>4311     </td><td>10076    </td><td>0.2996455</td></tr>\n",
       "\t<tr><th scope=row>4</th><td>flash    </td><td> TRUE    </td><td>3613     </td><td> 7168    </td><td>0.3351266</td></tr>\n",
       "</tbody>\n",
       "</table>\n"
      ],
      "text/latex": [
       "\\begin{tabular}{r|lllll}\n",
       "  & resid\\_method & missing & true\\_positive\\_cross\\_cond & false\\_negative\\_cross\\_cond & power\\\\\n",
       "\\hline\n",
       "\t1 & diag      & FALSE     & 8871      &  5529     & 0.6160417\\\\\n",
       "\t3 & flash     & FALSE     & 4467      &  3176     & 0.5844564\\\\\n",
       "\t2 & diag      &  TRUE     & 4311      & 10076     & 0.2996455\\\\\n",
       "\t4 & flash     &  TRUE     & 3613      &  7168     & 0.3351266\\\\\n",
       "\\end{tabular}\n"
      ],
      "text/markdown": [
       "\n",
       "| <!--/--> | resid_method | missing | true_positive_cross_cond | false_negative_cross_cond | power | \n",
       "|---|---|---|---|\n",
       "| 1 | diag      | FALSE     | 8871      |  5529     | 0.6160417 | \n",
       "| 3 | flash     | FALSE     | 4467      |  3176     | 0.5844564 | \n",
       "| 2 | diag      |  TRUE     | 4311      | 10076     | 0.2996455 | \n",
       "| 4 | flash     |  TRUE     | 3613      |  7168     | 0.3351266 | \n",
       "\n",
       "\n"
      ],
      "text/plain": [
       "  resid_method missing true_positive_cross_cond false_negative_cross_cond\n",
       "1 diag         FALSE   8871                      5529                    \n",
       "3 flash        FALSE   4467                      3176                    \n",
       "2 diag          TRUE   4311                     10076                    \n",
       "4 flash         TRUE   3613                      7168                    \n",
       "  power    \n",
       "1 0.6160417\n",
       "3 0.5844564\n",
       "2 0.2996455\n",
       "4 0.3351266"
      ]
     },
     "metadata": {},
     "output_type": "display_data"
    }
   ],
   "source": [
    "power$power = power$true_positive_cross_cond/(power$true_positive_cross_cond + power$false_negative_cross_cond)\n",
    "power = power[order(power$missing),]\n",
    "power"
   ]
  },
  {
   "cell_type": "markdown",
   "metadata": {
    "kernel": "R"
   },
   "source": [
    "### FDR for per signal per condition estimates\n"
   ]
  },
  {
   "cell_type": "code",
   "execution_count": 17,
   "metadata": {
    "kernel": "R"
   },
   "outputs": [
    {
     "data": {
      "text/html": [
       "<table>\n",
       "<thead><tr><th></th><th scope=col>resid_method</th><th scope=col>missing</th><th scope=col>true_positive_cross_cond</th><th scope=col>false_positive_cross_cond</th><th scope=col>fdr</th></tr></thead>\n",
       "<tbody>\n",
       "\t<tr><th scope=row>1</th><td>diag       </td><td>FALSE      </td><td>8871       </td><td>   0       </td><td>0.000000000</td></tr>\n",
       "\t<tr><th scope=row>3</th><td>flash      </td><td>FALSE      </td><td>4467       </td><td>   7       </td><td>0.001564595</td></tr>\n",
       "\t<tr><th scope=row>2</th><td>diag       </td><td> TRUE      </td><td>4311       </td><td>2218       </td><td>0.339715117</td></tr>\n",
       "\t<tr><th scope=row>4</th><td>flash      </td><td> TRUE      </td><td>3613       </td><td>1999       </td><td>0.356200998</td></tr>\n",
       "</tbody>\n",
       "</table>\n"
      ],
      "text/latex": [
       "\\begin{tabular}{r|lllll}\n",
       "  & resid\\_method & missing & true\\_positive\\_cross\\_cond & false\\_positive\\_cross\\_cond & fdr\\\\\n",
       "\\hline\n",
       "\t1 & diag        & FALSE       & 8871        &    0        & 0.000000000\\\\\n",
       "\t3 & flash       & FALSE       & 4467        &    7        & 0.001564595\\\\\n",
       "\t2 & diag        &  TRUE       & 4311        & 2218        & 0.339715117\\\\\n",
       "\t4 & flash       &  TRUE       & 3613        & 1999        & 0.356200998\\\\\n",
       "\\end{tabular}\n"
      ],
      "text/markdown": [
       "\n",
       "| <!--/--> | resid_method | missing | true_positive_cross_cond | false_positive_cross_cond | fdr | \n",
       "|---|---|---|---|\n",
       "| 1 | diag        | FALSE       | 8871        |    0        | 0.000000000 | \n",
       "| 3 | flash       | FALSE       | 4467        |    7        | 0.001564595 | \n",
       "| 2 | diag        |  TRUE       | 4311        | 2218        | 0.339715117 | \n",
       "| 4 | flash       |  TRUE       | 3613        | 1999        | 0.356200998 | \n",
       "\n",
       "\n"
      ],
      "text/plain": [
       "  resid_method missing true_positive_cross_cond false_positive_cross_cond\n",
       "1 diag         FALSE   8871                        0                     \n",
       "3 flash        FALSE   4467                        7                     \n",
       "2 diag          TRUE   4311                     2218                     \n",
       "4 flash         TRUE   3613                     1999                     \n",
       "  fdr        \n",
       "1 0.000000000\n",
       "3 0.001564595\n",
       "2 0.339715117\n",
       "4 0.356200998"
      ]
     },
     "metadata": {},
     "output_type": "display_data"
    }
   ],
   "source": [
    "tp = aggregate(true_positive_cross_cond ~ resid_method + missing, res, sum)\n",
    "fp = aggregate(false_positive_cross_cond ~ resid_method + missing, res, sum)\n",
    "fdr = merge(tp, fp, by = c(\"resid_method\", \"missing\"))\n",
    "fdr$fdr = fdr$false_positive_cross_cond/(fdr$true_positive_cross_cond + fdr$false_positive_cross_cond)\n",
    "fdr = fdr[order(fdr$missing),]\n",
    "fdr"
   ]
  }
 ],
 "metadata": {
  "kernelspec": {
   "display_name": "SoS",
   "language": "sos",
   "name": "sos"
  },
  "language_info": {
   "codemirror_mode": "sos",
   "file_extension": ".sos",
   "mimetype": "text/x-sos",
   "name": "sos",
   "nbconvert_exporter": "sos_notebook.converter.SoS_Exporter",
   "pygments_lexer": "sos"
  },
  "sos": {
   "kernels": [
    [
     "R",
     "ir",
     "R",
     "#DCDCDA"
    ]
   ],
   "version": "0.20.5"
  }
 },
 "nbformat": 4,
 "nbformat_minor": 4
}
