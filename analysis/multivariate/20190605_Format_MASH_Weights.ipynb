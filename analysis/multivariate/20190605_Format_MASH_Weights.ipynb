{
 "cells": [
  {
   "cell_type": "markdown",
   "metadata": {
    "kernel": "SoS"
   },
   "source": [
    "# Format MASH weights for M&M\n",
    "\n",
    "Previously I've analyzed GTEx V8 data with MASH. Here I'll format it for use with V7 data that we have extracted genotypes for."
   ]
  },
  {
   "cell_type": "code",
   "execution_count": 1,
   "metadata": {
    "kernel": "SoS"
   },
   "outputs": [
    {
     "name": "stdout",
     "output_type": "stream",
     "text": [
      "/project/mstephens/SuSiE/gtex_data/Toys"
     ]
    }
   ],
   "source": [
    "%cd ~/Documents/GTExV8/Toys"
   ]
  },
  {
   "cell_type": "markdown",
   "metadata": {
    "kernel": "SoS"
   },
   "source": [
    "Here is our dataset:"
   ]
  },
  {
   "cell_type": "code",
   "execution_count": 27,
   "metadata": {
    "kernel": "R"
   },
   "outputs": [],
   "source": [
    "dat = readRDS('Multi_Tissues.ENSG00000025772.RDS')"
   ]
  },
  {
   "cell_type": "code",
   "execution_count": 28,
   "metadata": {
    "kernel": "R"
   },
   "outputs": [
    {
     "data": {
      "text/html": [
       "<ol class=list-inline>\n",
       "\t<li>'GTEX-1117F'</li>\n",
       "\t<li>'GTEX-111CU'</li>\n",
       "\t<li>'GTEX-111FC'</li>\n",
       "\t<li>'GTEX-111VG'</li>\n",
       "\t<li>'GTEX-111YS'</li>\n",
       "\t<li>'GTEX-1122O'</li>\n",
       "</ol>\n"
      ],
      "text/latex": [
       "\\begin{enumerate*}\n",
       "\\item 'GTEX-1117F'\n",
       "\\item 'GTEX-111CU'\n",
       "\\item 'GTEX-111FC'\n",
       "\\item 'GTEX-111VG'\n",
       "\\item 'GTEX-111YS'\n",
       "\\item 'GTEX-1122O'\n",
       "\\end{enumerate*}\n"
      ],
      "text/markdown": [
       "1. 'GTEX-1117F'\n",
       "2. 'GTEX-111CU'\n",
       "3. 'GTEX-111FC'\n",
       "4. 'GTEX-111VG'\n",
       "5. 'GTEX-111YS'\n",
       "6. 'GTEX-1122O'\n",
       "\n",
       "\n"
      ],
      "text/plain": [
       "[1] \"GTEX-1117F\" \"GTEX-111CU\" \"GTEX-111FC\" \"GTEX-111VG\" \"GTEX-111YS\"\n",
       "[6] \"GTEX-1122O\""
      ]
     },
     "metadata": {},
     "output_type": "display_data"
    }
   ],
   "source": [
    "head(rownames(dat$X))"
   ]
  },
  {
   "cell_type": "code",
   "execution_count": 29,
   "metadata": {
    "kernel": "R"
   },
   "outputs": [
    {
     "data": {
      "text/html": [
       "<ol class=list-inline>\n",
       "\t<li>'GTEX-ZYVF'</li>\n",
       "\t<li>'GTEX-ZYW4'</li>\n",
       "\t<li>'GTEX-ZYY3'</li>\n",
       "\t<li>'GTEX-ZZ64'</li>\n",
       "\t<li>'GTEX-ZZPT'</li>\n",
       "\t<li>'GTEX-ZZPU'</li>\n",
       "</ol>\n"
      ],
      "text/latex": [
       "\\begin{enumerate*}\n",
       "\\item 'GTEX-ZYVF'\n",
       "\\item 'GTEX-ZYW4'\n",
       "\\item 'GTEX-ZYY3'\n",
       "\\item 'GTEX-ZZ64'\n",
       "\\item 'GTEX-ZZPT'\n",
       "\\item 'GTEX-ZZPU'\n",
       "\\end{enumerate*}\n"
      ],
      "text/markdown": [
       "1. 'GTEX-ZYVF'\n",
       "2. 'GTEX-ZYW4'\n",
       "3. 'GTEX-ZYY3'\n",
       "4. 'GTEX-ZZ64'\n",
       "5. 'GTEX-ZZPT'\n",
       "6. 'GTEX-ZZPU'\n",
       "\n",
       "\n"
      ],
      "text/plain": [
       "[1] \"GTEX-ZYVF\" \"GTEX-ZYW4\" \"GTEX-ZYY3\" \"GTEX-ZZ64\" \"GTEX-ZZPT\" \"GTEX-ZZPU\""
      ]
     },
     "metadata": {},
     "output_type": "display_data"
    }
   ],
   "source": [
    "tail(rownames(dat$X))"
   ]
  },
  {
   "cell_type": "code",
   "execution_count": 30,
   "metadata": {
    "kernel": "R"
   },
   "outputs": [
    {
     "data": {
      "text/html": [
       "<ol class=list-inline>\n",
       "\t<li>'GTEX-1117F'</li>\n",
       "\t<li>'GTEX-111CU'</li>\n",
       "\t<li>'GTEX-111FC'</li>\n",
       "\t<li>'GTEX-111VG'</li>\n",
       "\t<li>'GTEX-111YS'</li>\n",
       "\t<li>'GTEX-1122O'</li>\n",
       "</ol>\n"
      ],
      "text/latex": [
       "\\begin{enumerate*}\n",
       "\\item 'GTEX-1117F'\n",
       "\\item 'GTEX-111CU'\n",
       "\\item 'GTEX-111FC'\n",
       "\\item 'GTEX-111VG'\n",
       "\\item 'GTEX-111YS'\n",
       "\\item 'GTEX-1122O'\n",
       "\\end{enumerate*}\n"
      ],
      "text/markdown": [
       "1. 'GTEX-1117F'\n",
       "2. 'GTEX-111CU'\n",
       "3. 'GTEX-111FC'\n",
       "4. 'GTEX-111VG'\n",
       "5. 'GTEX-111YS'\n",
       "6. 'GTEX-1122O'\n",
       "\n",
       "\n"
      ],
      "text/plain": [
       "[1] \"GTEX-1117F\" \"GTEX-111CU\" \"GTEX-111FC\" \"GTEX-111VG\" \"GTEX-111YS\"\n",
       "[6] \"GTEX-1122O\""
      ]
     },
     "metadata": {},
     "output_type": "display_data"
    }
   ],
   "source": [
    "head(rownames(dat$y_res))"
   ]
  },
  {
   "cell_type": "code",
   "execution_count": 31,
   "metadata": {
    "kernel": "R"
   },
   "outputs": [
    {
     "data": {
      "text/html": [
       "<ol class=list-inline>\n",
       "\t<li>'GTEX-ZYVF'</li>\n",
       "\t<li>'GTEX-ZYW4'</li>\n",
       "\t<li>'GTEX-ZYY3'</li>\n",
       "\t<li>'GTEX-ZZ64'</li>\n",
       "\t<li>'GTEX-ZZPT'</li>\n",
       "\t<li>'GTEX-ZZPU'</li>\n",
       "</ol>\n"
      ],
      "text/latex": [
       "\\begin{enumerate*}\n",
       "\\item 'GTEX-ZYVF'\n",
       "\\item 'GTEX-ZYW4'\n",
       "\\item 'GTEX-ZYY3'\n",
       "\\item 'GTEX-ZZ64'\n",
       "\\item 'GTEX-ZZPT'\n",
       "\\item 'GTEX-ZZPU'\n",
       "\\end{enumerate*}\n"
      ],
      "text/markdown": [
       "1. 'GTEX-ZYVF'\n",
       "2. 'GTEX-ZYW4'\n",
       "3. 'GTEX-ZYY3'\n",
       "4. 'GTEX-ZZ64'\n",
       "5. 'GTEX-ZZPT'\n",
       "6. 'GTEX-ZZPU'\n",
       "\n",
       "\n"
      ],
      "text/plain": [
       "[1] \"GTEX-ZYVF\" \"GTEX-ZYW4\" \"GTEX-ZYY3\" \"GTEX-ZZ64\" \"GTEX-ZZPT\" \"GTEX-ZZPU\""
      ]
     },
     "metadata": {},
     "output_type": "display_data"
    }
   ],
   "source": [
    "tail(rownames(dat$y_res))"
   ]
  },
  {
   "cell_type": "code",
   "execution_count": 32,
   "metadata": {
    "kernel": "R"
   },
   "outputs": [
    {
     "data": {
      "text/html": [
       "<ol class=list-inline>\n",
       "\t<li>'Adipose_Subcutaneous'</li>\n",
       "\t<li>'Adipose_Visceral_Omentum'</li>\n",
       "\t<li>'Adrenal_Gland'</li>\n",
       "\t<li>'Artery_Aorta'</li>\n",
       "\t<li>'Artery_Coronary'</li>\n",
       "\t<li>'Artery_Tibial'</li>\n",
       "\t<li>'Brain_Amygdala'</li>\n",
       "\t<li>'Brain_Anterior_cingulate_cortex_BA24'</li>\n",
       "\t<li>'Brain_Caudate_basal_ganglia'</li>\n",
       "\t<li>'Brain_Cerebellar_Hemisphere'</li>\n",
       "\t<li>'Brain_Cerebellum'</li>\n",
       "\t<li>'Brain_Cortex'</li>\n",
       "\t<li>'Brain_Frontal_Cortex_BA9'</li>\n",
       "\t<li>'Brain_Hippocampus'</li>\n",
       "\t<li>'Brain_Hypothalamus'</li>\n",
       "\t<li>'Brain_Nucleus_accumbens_basal_ganglia'</li>\n",
       "\t<li>'Brain_Putamen_basal_ganglia'</li>\n",
       "\t<li>'Brain_Spinal_cord_cervical_c-1'</li>\n",
       "\t<li>'Brain_Substantia_nigra'</li>\n",
       "\t<li>'Breast_Mammary_Tissue'</li>\n",
       "\t<li>'Cells_Cultured_fibroblasts'</li>\n",
       "\t<li>'Cells_EBV-transformed_lymphocytes'</li>\n",
       "\t<li>'Colon_Sigmoid'</li>\n",
       "\t<li>'Colon_Transverse'</li>\n",
       "\t<li>'Esophagus_Gastroesophageal_Junction'</li>\n",
       "\t<li>'Esophagus_Mucosa'</li>\n",
       "\t<li>'Esophagus_Muscularis'</li>\n",
       "\t<li>'Heart_Atrial_Appendage'</li>\n",
       "\t<li>'Heart_Left_Ventricle'</li>\n",
       "\t<li>'Kidney_Cortex'</li>\n",
       "\t<li>'Liver'</li>\n",
       "\t<li>'Lung'</li>\n",
       "\t<li>'Minor_Salivary_Gland'</li>\n",
       "\t<li>'Muscle_Skeletal'</li>\n",
       "\t<li>'Nerve_Tibial'</li>\n",
       "\t<li>'Ovary'</li>\n",
       "\t<li>'Pancreas'</li>\n",
       "\t<li>'Pituitary'</li>\n",
       "\t<li>'Prostate'</li>\n",
       "\t<li>'Skin_Not_Sun_Exposed_Suprapubic'</li>\n",
       "\t<li>'Skin_Sun_Exposed_Lower_leg'</li>\n",
       "\t<li>'Small_Intestine_Terminal_Ileum'</li>\n",
       "\t<li>'Spleen'</li>\n",
       "\t<li>'Stomach'</li>\n",
       "\t<li>'Testis'</li>\n",
       "\t<li>'Thyroid'</li>\n",
       "\t<li>'Uterus'</li>\n",
       "\t<li>'Vagina'</li>\n",
       "\t<li>'Whole_Blood'</li>\n",
       "</ol>\n"
      ],
      "text/latex": [
       "\\begin{enumerate*}\n",
       "\\item 'Adipose\\_Subcutaneous'\n",
       "\\item 'Adipose\\_Visceral\\_Omentum'\n",
       "\\item 'Adrenal\\_Gland'\n",
       "\\item 'Artery\\_Aorta'\n",
       "\\item 'Artery\\_Coronary'\n",
       "\\item 'Artery\\_Tibial'\n",
       "\\item 'Brain\\_Amygdala'\n",
       "\\item 'Brain\\_Anterior\\_cingulate\\_cortex\\_BA24'\n",
       "\\item 'Brain\\_Caudate\\_basal\\_ganglia'\n",
       "\\item 'Brain\\_Cerebellar\\_Hemisphere'\n",
       "\\item 'Brain\\_Cerebellum'\n",
       "\\item 'Brain\\_Cortex'\n",
       "\\item 'Brain\\_Frontal\\_Cortex\\_BA9'\n",
       "\\item 'Brain\\_Hippocampus'\n",
       "\\item 'Brain\\_Hypothalamus'\n",
       "\\item 'Brain\\_Nucleus\\_accumbens\\_basal\\_ganglia'\n",
       "\\item 'Brain\\_Putamen\\_basal\\_ganglia'\n",
       "\\item 'Brain\\_Spinal\\_cord\\_cervical\\_c-1'\n",
       "\\item 'Brain\\_Substantia\\_nigra'\n",
       "\\item 'Breast\\_Mammary\\_Tissue'\n",
       "\\item 'Cells\\_Cultured\\_fibroblasts'\n",
       "\\item 'Cells\\_EBV-transformed\\_lymphocytes'\n",
       "\\item 'Colon\\_Sigmoid'\n",
       "\\item 'Colon\\_Transverse'\n",
       "\\item 'Esophagus\\_Gastroesophageal\\_Junction'\n",
       "\\item 'Esophagus\\_Mucosa'\n",
       "\\item 'Esophagus\\_Muscularis'\n",
       "\\item 'Heart\\_Atrial\\_Appendage'\n",
       "\\item 'Heart\\_Left\\_Ventricle'\n",
       "\\item 'Kidney\\_Cortex'\n",
       "\\item 'Liver'\n",
       "\\item 'Lung'\n",
       "\\item 'Minor\\_Salivary\\_Gland'\n",
       "\\item 'Muscle\\_Skeletal'\n",
       "\\item 'Nerve\\_Tibial'\n",
       "\\item 'Ovary'\n",
       "\\item 'Pancreas'\n",
       "\\item 'Pituitary'\n",
       "\\item 'Prostate'\n",
       "\\item 'Skin\\_Not\\_Sun\\_Exposed\\_Suprapubic'\n",
       "\\item 'Skin\\_Sun\\_Exposed\\_Lower\\_leg'\n",
       "\\item 'Small\\_Intestine\\_Terminal\\_Ileum'\n",
       "\\item 'Spleen'\n",
       "\\item 'Stomach'\n",
       "\\item 'Testis'\n",
       "\\item 'Thyroid'\n",
       "\\item 'Uterus'\n",
       "\\item 'Vagina'\n",
       "\\item 'Whole\\_Blood'\n",
       "\\end{enumerate*}\n"
      ],
      "text/markdown": [
       "1. 'Adipose_Subcutaneous'\n",
       "2. 'Adipose_Visceral_Omentum'\n",
       "3. 'Adrenal_Gland'\n",
       "4. 'Artery_Aorta'\n",
       "5. 'Artery_Coronary'\n",
       "6. 'Artery_Tibial'\n",
       "7. 'Brain_Amygdala'\n",
       "8. 'Brain_Anterior_cingulate_cortex_BA24'\n",
       "9. 'Brain_Caudate_basal_ganglia'\n",
       "10. 'Brain_Cerebellar_Hemisphere'\n",
       "11. 'Brain_Cerebellum'\n",
       "12. 'Brain_Cortex'\n",
       "13. 'Brain_Frontal_Cortex_BA9'\n",
       "14. 'Brain_Hippocampus'\n",
       "15. 'Brain_Hypothalamus'\n",
       "16. 'Brain_Nucleus_accumbens_basal_ganglia'\n",
       "17. 'Brain_Putamen_basal_ganglia'\n",
       "18. 'Brain_Spinal_cord_cervical_c-1'\n",
       "19. 'Brain_Substantia_nigra'\n",
       "20. 'Breast_Mammary_Tissue'\n",
       "21. 'Cells_Cultured_fibroblasts'\n",
       "22. 'Cells_EBV-transformed_lymphocytes'\n",
       "23. 'Colon_Sigmoid'\n",
       "24. 'Colon_Transverse'\n",
       "25. 'Esophagus_Gastroesophageal_Junction'\n",
       "26. 'Esophagus_Mucosa'\n",
       "27. 'Esophagus_Muscularis'\n",
       "28. 'Heart_Atrial_Appendage'\n",
       "29. 'Heart_Left_Ventricle'\n",
       "30. 'Kidney_Cortex'\n",
       "31. 'Liver'\n",
       "32. 'Lung'\n",
       "33. 'Minor_Salivary_Gland'\n",
       "34. 'Muscle_Skeletal'\n",
       "35. 'Nerve_Tibial'\n",
       "36. 'Ovary'\n",
       "37. 'Pancreas'\n",
       "38. 'Pituitary'\n",
       "39. 'Prostate'\n",
       "40. 'Skin_Not_Sun_Exposed_Suprapubic'\n",
       "41. 'Skin_Sun_Exposed_Lower_leg'\n",
       "42. 'Small_Intestine_Terminal_Ileum'\n",
       "43. 'Spleen'\n",
       "44. 'Stomach'\n",
       "45. 'Testis'\n",
       "46. 'Thyroid'\n",
       "47. 'Uterus'\n",
       "48. 'Vagina'\n",
       "49. 'Whole_Blood'\n",
       "\n",
       "\n"
      ],
      "text/plain": [
       " [1] \"Adipose_Subcutaneous\"                 \n",
       " [2] \"Adipose_Visceral_Omentum\"             \n",
       " [3] \"Adrenal_Gland\"                        \n",
       " [4] \"Artery_Aorta\"                         \n",
       " [5] \"Artery_Coronary\"                      \n",
       " [6] \"Artery_Tibial\"                        \n",
       " [7] \"Brain_Amygdala\"                       \n",
       " [8] \"Brain_Anterior_cingulate_cortex_BA24\" \n",
       " [9] \"Brain_Caudate_basal_ganglia\"          \n",
       "[10] \"Brain_Cerebellar_Hemisphere\"          \n",
       "[11] \"Brain_Cerebellum\"                     \n",
       "[12] \"Brain_Cortex\"                         \n",
       "[13] \"Brain_Frontal_Cortex_BA9\"             \n",
       "[14] \"Brain_Hippocampus\"                    \n",
       "[15] \"Brain_Hypothalamus\"                   \n",
       "[16] \"Brain_Nucleus_accumbens_basal_ganglia\"\n",
       "[17] \"Brain_Putamen_basal_ganglia\"          \n",
       "[18] \"Brain_Spinal_cord_cervical_c-1\"       \n",
       "[19] \"Brain_Substantia_nigra\"               \n",
       "[20] \"Breast_Mammary_Tissue\"                \n",
       "[21] \"Cells_Cultured_fibroblasts\"           \n",
       "[22] \"Cells_EBV-transformed_lymphocytes\"    \n",
       "[23] \"Colon_Sigmoid\"                        \n",
       "[24] \"Colon_Transverse\"                     \n",
       "[25] \"Esophagus_Gastroesophageal_Junction\"  \n",
       "[26] \"Esophagus_Mucosa\"                     \n",
       "[27] \"Esophagus_Muscularis\"                 \n",
       "[28] \"Heart_Atrial_Appendage\"               \n",
       "[29] \"Heart_Left_Ventricle\"                 \n",
       "[30] \"Kidney_Cortex\"                        \n",
       "[31] \"Liver\"                                \n",
       "[32] \"Lung\"                                 \n",
       "[33] \"Minor_Salivary_Gland\"                 \n",
       "[34] \"Muscle_Skeletal\"                      \n",
       "[35] \"Nerve_Tibial\"                         \n",
       "[36] \"Ovary\"                                \n",
       "[37] \"Pancreas\"                             \n",
       "[38] \"Pituitary\"                            \n",
       "[39] \"Prostate\"                             \n",
       "[40] \"Skin_Not_Sun_Exposed_Suprapubic\"      \n",
       "[41] \"Skin_Sun_Exposed_Lower_leg\"           \n",
       "[42] \"Small_Intestine_Terminal_Ileum\"       \n",
       "[43] \"Spleen\"                               \n",
       "[44] \"Stomach\"                              \n",
       "[45] \"Testis\"                               \n",
       "[46] \"Thyroid\"                              \n",
       "[47] \"Uterus\"                               \n",
       "[48] \"Vagina\"                               \n",
       "[49] \"Whole_Blood\"                          "
      ]
     },
     "metadata": {},
     "output_type": "display_data"
    }
   ],
   "source": [
    "colnames(dat$y_res)"
   ]
  },
  {
   "cell_type": "markdown",
   "metadata": {
    "kernel": "R"
   },
   "source": [
    "Here is the model we've previously learned via MASH on V8 data,"
   ]
  },
  {
   "cell_type": "code",
   "execution_count": 34,
   "metadata": {
    "kernel": "R"
   },
   "outputs": [],
   "source": [
    "mash = readRDS('/project/compbio/GTEx_eQTL/mashr_flashr_workflow_output/FastQTLSumStats.mash.FL_PC3.mash_model_est_v.rds')"
   ]
  },
  {
   "cell_type": "code",
   "execution_count": 42,
   "metadata": {
    "kernel": "R"
   },
   "outputs": [
    {
     "data": {
      "text/html": [
       "<ol class=list-inline>\n",
       "\t<li>49</li>\n",
       "\t<li>49</li>\n",
       "</ol>\n"
      ],
      "text/latex": [
       "\\begin{enumerate*}\n",
       "\\item 49\n",
       "\\item 49\n",
       "\\end{enumerate*}\n"
      ],
      "text/markdown": [
       "1. 49\n",
       "2. 49\n",
       "\n",
       "\n"
      ],
      "text/plain": [
       "[1] 49 49"
      ]
     },
     "metadata": {},
     "output_type": "display_data"
    }
   ],
   "source": [
    "dim(mash$fitted_g$Ulist[[1]])"
   ]
  },
  {
   "cell_type": "markdown",
   "metadata": {
    "kernel": "R"
   },
   "source": [
    "It seems to have 49 tissues. Need to find out if they are the same 49 tissues here,"
   ]
  },
  {
   "cell_type": "code",
   "execution_count": 44,
   "metadata": {
    "kernel": "R"
   },
   "outputs": [],
   "source": [
    "sumstats = readRDS(\"/home/gaow/GIT/github/mvarbvs/fastqtl_to_mash_output/FastQTLSumStats.mash.rds\")"
   ]
  },
  {
   "cell_type": "code",
   "execution_count": 49,
   "metadata": {
    "kernel": "R"
   },
   "outputs": [
    {
     "data": {
      "text/html": [
       "TRUE"
      ],
      "text/latex": [
       "TRUE"
      ],
      "text/markdown": [
       "TRUE"
      ],
      "text/plain": [
       "[1] TRUE"
      ]
     },
     "metadata": {},
     "output_type": "display_data"
    }
   ],
   "source": [
    "all(colnames(sumstats$strong.z) == colnames(dat$y_res))"
   ]
  },
  {
   "cell_type": "markdown",
   "metadata": {
    "kernel": "R"
   },
   "source": [
    "Great, this is a perfect match! I can safely use the precomputed weight for this analysis. No formatting needed."
   ]
  }
 ],
 "metadata": {
  "kernelspec": {
   "display_name": "SoS",
   "language": "sos",
   "name": "sos"
  },
  "language_info": {
   "codemirror_mode": "sos",
   "file_extension": ".sos",
   "mimetype": "text/x-sos",
   "name": "sos",
   "nbconvert_exporter": "sos_notebook.converter.SoS_Exporter",
   "pygments_lexer": "sos"
  },
  "sos": {
   "kernels": [
    [
     "R",
     "ir",
     "R",
     "#DCDCDA"
    ],
    [
     "SoS",
     "sos",
     "",
     ""
    ]
   ],
   "version": "0.19.1"
  }
 },
 "nbformat": 4,
 "nbformat_minor": 2
}
