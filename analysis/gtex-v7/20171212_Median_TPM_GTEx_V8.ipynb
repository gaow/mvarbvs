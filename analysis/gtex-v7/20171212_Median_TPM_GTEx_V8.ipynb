{
 "cells": [
  {
   "cell_type": "markdown",
   "metadata": {},
   "source": [
    "# Processing GTEx V8 expression data for various summary statistics\n"
   ]
  },
  {
   "cell_type": "markdown",
   "metadata": {},
   "source": [
    "Adapted from my eQTL analysis pipeline for generating summary stats for use with other projects."
   ]
  },
  {
   "cell_type": "code",
   "execution_count": 1,
   "metadata": {
    "kernel": "SoS"
   },
   "outputs": [],
   "source": [
    "cwd = path('/home/gaow/Documents/GTExV8/')\n",
    "prefix = 'GTEx_Analysis_2017-06-05_v8_RNASeQCv1.1.9_gene_tpm'"
   ]
  },
  {
   "cell_type": "code",
   "execution_count": 2,
   "metadata": {
    "kernel": "Python3"
   },
   "outputs": [
    {
     "name": "stdout",
     "output_type": "stream",
     "text": [
      "0\n",
      "1000\n",
      "2000\n",
      "3000\n",
      "4000\n",
      "5000\n",
      "6000\n",
      "7000\n",
      "8000\n",
      "9000\n",
      "10000\n",
      "11000\n",
      "12000\n",
      "13000\n",
      "14000\n",
      "15000\n",
      "16000\n",
      "17000\n",
      "18000\n",
      "19000\n",
      "20000\n",
      "21000\n",
      "22000\n",
      "23000\n",
      "24000\n",
      "25000\n",
      "26000\n",
      "27000\n",
      "28000\n",
      "29000\n",
      "30000\n",
      "31000\n",
      "32000\n",
      "33000\n",
      "34000\n",
      "35000\n",
      "36000\n",
      "37000\n",
      "38000\n",
      "39000\n",
      "40000\n",
      "41000\n",
      "42000\n",
      "43000\n",
      "44000\n",
      "45000\n",
      "46000\n",
      "47000\n",
      "48000\n",
      "49000\n",
      "50000\n",
      "51000\n",
      "52000\n",
      "53000\n",
      "54000\n",
      "55000\n",
      "56000\n"
     ]
    }
   ],
   "source": [
    "%expand\n",
    "\n",
    "import pandas as pd\n",
    "import numpy as np\n",
    "import re, os\n",
    "\n",
    "def load_data(fdata, fsample, dtype = np.float32):\n",
    "    '''First col of expression data is ENCODE gene name, 2nd col is HUGO name'''\n",
    "    head = pd.read_csv(fdata, skiprows = 2, sep = '\\t', nrows = 1)\n",
    "    dt = dict([('Description', str), ('Name', str)])\n",
    "    dt.update(dict([(x, dtype) for x in head.columns if x not in dt]))\n",
    "    data = pd.read_csv(fdata, compression='gzip', skiprows=2, \n",
    "                       index_col=0, header=0, dtype = dt, sep='\\t')#.drop('Description', 1)\n",
    "    samples = pd.read_csv(fsample, dtype=str, delimiter='\\t', header=0)\n",
    "    sample_dict = dict()\n",
    "    for row in samples[['SAMPID', 'SMTSD', 'SMAFRZE']].values:\n",
    "        if row[2] == 'EXCLUDE':\n",
    "            continue\n",
    "        if row[1] not in sample_dict:\n",
    "            sample_dict[row[1]] = []\n",
    "        if row[0] in data.columns:\n",
    "            sample_dict[row[1]].append(row[0])\n",
    "    return data, dict((re.sub(\"[\\W\\d]+\", \"_\", k.strip()).strip('_'), v) for k, v in sample_dict.items() if len(v))\n",
    "\n",
    "\n",
    "def calc_expr_sumstats(data, sample, gene):\n",
    "  mu_hat = dict([('Description', data.loc[gene, 'Description'])])\n",
    "  sigma_hat = dict([('Description', data.loc[gene, 'Description'])])\n",
    "  median = dict([('Description', data.loc[gene, 'Description'])])\n",
    "  n = dict([('Description', data.loc[gene, 'Description'])])\n",
    "  for k in sample:\n",
    "    mu_hat[k] = np.mean(data.loc[gene, sample[k]])\n",
    "    median[k] = np.median(data.loc[gene, sample[k]])\n",
    "    sigma_hat[k] = np.std(data.loc[gene, sample[k]])\n",
    "    n[k] = len(data.loc[gene, sample[k]])\n",
    "  return mu_hat, median, sigma_hat, n\n",
    "\n",
    "data, sample = load_data('{cwd:a}/rna_seq/{prefix}.gct.gz', \n",
    "                         '{cwd:a}/sample_annotations/GTEx_Analysis_2017-06-05_v8_Annotations_SampleAttributesDS.txt')\n",
    "\n",
    "# for all genes\n",
    "mu_hat = pd.DataFrame()\n",
    "median = pd.DataFrame()\n",
    "sigma_hat = pd.DataFrame()\n",
    "sample_size = pd.DataFrame()\n",
    "for count, gene in enumerate(data.index):\n",
    "    sumstats = calc_expr_sumstats(data, sample, gene)\n",
    "    tmp = pd.DataFrame(dict((k,[v]) for k, v in sumstats[0].items()), columns=sumstats[0])\n",
    "    mu_hat = mu_hat.append(tmp.set_index([[gene]]))\n",
    "    tmp = pd.DataFrame(dict((k,[v]) for k, v in sumstats[1].items()), columns=sumstats[1])\n",
    "    median = median.append(tmp.set_index([[gene]]))\n",
    "    tmp = pd.DataFrame(dict((k,[v]) for k, v in sumstats[2].items()), columns=sumstats[2])\n",
    "    sigma_hat = sigma_hat.append(tmp.set_index([[gene]]))\n",
    "    tmp = pd.DataFrame(dict((k,[v]) for k, v in sumstats[3].items()), columns=sumstats[3])\n",
    "    sample_size = sample_size.append(tmp.set_index([[gene]]))\n",
    "    if count % 1000 == 0:\n",
    "        print(count)\n",
    "mu_hat.to_csv('{cwd:a}/rna_seq/{prefix}.mean.csv.gz', na_rep = 'NA', compression = 'gzip')\n",
    "median.to_csv('{cwd:a}/rna_seq/{prefix}.median.csv.gz', na_rep = 'NA', compression = 'gzip')\n",
    "sigma_hat.to_csv('{cwd:a}/rna_seq/{prefix}.se.csv.gz', na_rep = 'NA', compression = 'gzip')\n",
    "sample_size.to_csv('{cwd:a}/rna_seq/{prefix}.sample_size.csv.gz', na_rep = 'NA', compression = 'gzip')"
   ]
  },
  {
   "cell_type": "code",
   "execution_count": null,
   "metadata": {},
   "outputs": [],
   "source": []
  }
 ],
 "metadata": {
  "kernelspec": {
   "display_name": "SoS",
   "language": "sos",
   "name": "sos"
  },
  "language_info": {
   "codemirror_mode": "sos",
   "file_extension": ".sos",
   "mimetype": "text/x-sos",
   "name": "sos",
   "nbconvert_exporter": "sos_notebook.converter.SoS_Exporter",
   "pygments_lexer": "sos"
  },
  "sos": {
   "default_kernel": "SoS",
   "kernels": [
    [
     "Python3",
     "python3",
     "Python3",
     "#FFE771"
    ],
    [
     "SoS",
     "sos",
     "",
     ""
    ],
    [
     "R",
     "ir",
     "R",
     "#DCDCDA"
    ]
   ],
   "panel": {
    "displayed": true,
    "height": 0,
    "style": "side"
   }
  }
 },
 "nbformat": 4,
 "nbformat_minor": 2
}
