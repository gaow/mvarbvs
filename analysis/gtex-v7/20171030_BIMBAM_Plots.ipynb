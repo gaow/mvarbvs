{
 "cells": [
  {
   "cell_type": "markdown",
   "metadata": {},
   "source": [
    "# BIMBAM plots using Matthew's code 2007"
   ]
  },
  {
   "cell_type": "markdown",
   "metadata": {
    "tags": [
     "hide_output"
    ]
   },
   "source": [
    "**Matthew Stephens July 30, 2007**\n",
    "\n",
    "The `utility.multiSNP.R` contains R code to plot a summary ofbimbamoutputwhen computing multi-SNP BFs.  \n",
    "\n",
    "The problem this code attempts to solve is that whenperforming a multi-SNP analysis there may be large numbers of different combinations of SNPs that could be associated with the phenotype, and sifting through and interpretingthese results can be challenging.  \n",
    "\n",
    "The approach we take is to \n",
    "\n",
    "- Summarise each SNP by its (marginal) posterior probability of affecting phenotype.\n",
    "- Group SNPs together into clusters of SNPs that tend not to occur together in themodel.  (this can be thought of as analagous to grouping SNPs into bins of SNPs that are good proxies for one another (i.e.  highly correlated), since when two SNPsare highly correlated parsimony tends to favour not including both in the model.\n",
    "- Output, for each cluster, the probability that at least one SNP from that cluster affects phenotype.\n",
    "\n",
    "Note that this code is all based on the assumption that thereis  at  least  oneSNP  in  the  region  affecting  phenotype. That  is,  it  is  attempting  to explain observed associations, rather than test for the presence of associations.  The overall BF for the region  (in the summary file),  and  the  individual  SNP  BFs,  should  be  used  to  check that there is actually good evidence for something interesting in the region before over-interpreting the results of this analysis! \n",
    "\n",
    "The code contains two functions:\n",
    "\n",
    "- cluster.multiSNPtakes  as  input  the `.multi` and  a `.single` file,  produced  bybimbam, and performs some calculations to produce an object.\n",
    "- `plot.multiSNP` plots this object."
   ]
  },
  {
   "cell_type": "code",
   "execution_count": 3,
   "metadata": {
    "kernel": "R"
   },
   "outputs": [],
   "source": [
    "nnonmissing = function(x){return(sum(!is.na(x)))}\n",
    "normalise = function(x){return(x/sum(x))}\n",
    "\n",
    "cluster.multiSNP=function(multifile,singlefile){\n",
    "x = read.table(multifile,header=T)\n",
    "rs = read.table(singlefile,header=T)\n",
    "pos = rs[,2]\n",
    "\n",
    "nsnp = apply(x,1,nnonmissing)-1\n",
    "L = max(nsnp)\n",
    "NSNP = max(x[,-(1:2)],na.rm=T)\n",
    "prior = normalise((0.5^(1:L))[nsnp]/choose(NSNP,nsnp))\n",
    "post = normalise(10^x[,1]*prior)\n",
    "\n",
    "#print(lapply(split(post,nsnp),sum)) # posterior on different numbers of SNPs\n",
    "\n",
    "\n",
    "pairp = matrix(0,nrow=NSNP,ncol=NSNP)\n",
    "contains = matrix(0,nrow=NSNP,ncol=length(post))\n",
    "for(i in 1:NSNP){\n",
    "contains[i,] = apply(x[,-(1:2)]==i,1,sum,na.rm=T)\n",
    "}\n",
    "for(i in 1:NSNP){\n",
    "for(j in 1:NSNP){\n",
    "pairp[i,j] = sum(post[contains[i,] & contains[j,]])\n",
    "}\n",
    "}\n",
    "\n",
    "marginalp = diag(pairp)\n",
    "indepp = marginalp %*% t(marginalp)\n",
    "\n",
    "#marginalp = rep(0,NSNP)\n",
    "#for(j in 1:NSNP){\n",
    "#marginalp[j] = sum(post[rowSums(x[,-(1:2)]==j & !is.na(x[,-(1:2)]))==1])\n",
    "#}\n",
    "#now focus on only those SNPs with appreciable marginal prob\n",
    "#Nums = 1:length(marginalp)\n",
    "#cu_5 = sort(marginalp, decreasing = T)[5]\n",
    "#Nums = Nums[marginalp > min(0.01,cu_5)]\n",
    "\n",
    "#for(i in Nums){\n",
    "#containsi = apply(x[,-(1:2)]==i,1,sum,na.rm=T)\n",
    "#sub = x[containsi,]\n",
    "#posti = post[containsi]\n",
    "#for(j in Nums){\n",
    "#containsj = apply(sub[,-(1:2)]==j,1,sum,na.rm=T)\n",
    "#pairp[i,j] = sum(posti[containsj])\n",
    "#}\n",
    "#}\n",
    "#pairp = pairp[Nums,Nums]\n",
    "\n",
    "\n",
    "#d1 = dor(i,j) - dindep(i,j)\n",
    "# where dor is big if i and j tend to occur together\n",
    "# and dindep is big if i and j do not tend to occur together (ie less often than expected by chance)\n",
    "#so d is small if i and j tend not to occur together\n",
    "d = pairp^2 - 4*(indepp > pairp)*(indepp - pairp)^2\n",
    "#d = pairp - 4*(indepp > pairp) * (indepp - pairp)\n",
    "\n",
    "diag(d) = 0\n",
    "\n",
    "a= cutree(hclust(as.dist(d),method=\"complete\"),h=0)\n",
    "nclust = max(a)\n",
    "clusterprobs = rep(0,nclust)\n",
    "for(i in 1:nclust){\n",
    "members = (1:NSNP)[a==i]\n",
    "present = apply(x[,-(1:2)],2,is.element,members)\n",
    "clusterprobs[i] = sum(post[apply(present,1,max)==1])\n",
    "}\n",
    "return(list(id = as.character(rs[,1]),pos=pos,marginalp=marginalp,cluster = (rank(-unlist(clusterprobs)))[a],clusterprobs=sort(clusterprobs,decreasing=TRUE)))\n",
    "}\n",
    "\n",
    "plot.multiSNP=function(mSNP,minp=0.05,interactive=FALSE,names=FALSE,...){\n",
    "#par(mfcol=c(2,1))\n",
    "plot(mSNP$pos,mSNP$marginalp,type=\"h\",lwd=2,...,col=mSNP$cluster,ylab=\"Posterior Prob\", xlab=\"Position\",main=\"Marginal Probability of Each SNP\")\n",
    "if(names){\n",
    "text(mSNP$pos[mSNP$marginalp>minp],mSNP$marginalp[mSNP$marginalp>minp],mSNP$id[mSNP$marginalp>minp],srt=90,cex=0.8,pos=2,col=mSNP$cluster[mSNP$marginalp>minp])\n",
    "}\n",
    "if(interactive==TRUE){identify(mSNP$pos,mSNP$marginalp,mSNP$id)}\n",
    "#barplot(mSNP$clusterprobs,col=1:length(mSNP$clusterprobs),ylim=c(0,1),main=\"Probability for each cluster of SNPs\")\n",
    "}\n"
   ]
  },
  {
   "cell_type": "markdown",
   "metadata": {},
   "source": [
    "Now I (Gao Wang) use this code to make plot for my [results obtained here](20171030_BIMBAM.html)."
   ]
  },
  {
   "cell_type": "code",
   "execution_count": null,
   "metadata": {
    "kernel": "R"
   },
   "outputs": [
    {
     "name": "stderr",
     "output_type": "stream",
     "text": [
      "Keyboard Interrupt\n"
     ]
    }
   ],
   "source": [
    "mSNP = cluster.multiSNP(\"output/pref4.multi.txt\",\"output/pref4.single.txt\")"
   ]
  },
  {
   "cell_type": "markdown",
   "metadata": {},
   "source": [
    "This script takes long time and non-trivial memory (40GB) to run. "
   ]
  }
 ],
 "metadata": {
  "kernelspec": {
   "display_name": "SoS",
   "language": "sos",
   "name": "sos"
  },
  "language_info": {
   "codemirror_mode": "sos",
   "file_extension": ".sos",
   "mimetype": "text/x-sos",
   "name": "sos",
   "nbconvert_exporter": "sos_notebook.converter.SoS_Exporter",
   "pygments_lexer": "sos"
  },
  "sos": {
   "default_kernel": "SoS",
   "kernels": [
    [
     "R",
     "ir",
     "R",
     "#DCDCDA"
    ],
    [
     "Python3",
     "python3",
     "Python3",
     "#FFE771"
    ],
    [
     "SoS",
     "sos",
     "",
     ""
    ]
   ],
   "panel": {
    "displayed": false,
    "height": 0,
    "style": "side"
   }
  }
 },
 "nbformat": 4,
 "nbformat_minor": 2
}
