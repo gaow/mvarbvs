{
 "cells": [
  {
   "cell_type": "markdown",
   "metadata": {},
   "source": [
    "# Association mapping covariates \n",
    "Merge covariates info from multiple sources and find orthonormal basis for covariate matrix."
   ]
  },
  {
   "cell_type": "markdown",
   "metadata": {},
   "source": [
    "Covariates for analysis we've got so far include sample phenotypes (sex), sample attributes (genotyping platform), top principle components for population structure, and PEER factors. All saved in various files.\n",
    "\n",
    "Workflow below consolidates these files and generates a **single analysis ready covariate file** in HDF5 format. There are two versions I save: the orginal covar matrix and its orthonormal basis (which will be used as input to association analysis down the line)."
   ]
  },
  {
   "cell_type": "code",
   "execution_count": 1,
   "metadata": {
    "kernel": "SoS"
   },
   "outputs": [
    {
     "data": {
      "text/html": [
       "<div class=\"sos_hint\">1 task completed: <a onclick=\"task_info('9b25ffcc3fa94eb0509f9a4d8aa35084', 'localhost')\">9b25</a></div>"
      ]
     },
     "metadata": {},
     "output_type": "display_data"
    },
    {
     "name": "stdout",
     "output_type": "stream",
     "text": [
      "\n"
     ]
    },
    {
     "data": {
      "text/html": [
       "<table id=\"table_localhost_3a0a09c2d750847657fa637de9356215\" style=\"border: 0px\"><tr style=\"border: 0px\">\n",
       "                        <td style=\"border: 0px\">\n",
       "                        <i id=\"status_localhost_3a0a09c2d750847657fa637de9356215\"\n",
       "                            class=\"fa fa-2x fa-fw fa-square-o\"\n",
       "                            onmouseover=\"$('#status_localhost_3a0a09c2d750847657fa637de9356215').addClass('fa-stop').removeClass('fa-square-o')\"\n",
       "                            onmouseleave=\"$('#status_localhost_3a0a09c2d750847657fa637de9356215').addClass('fa-square-o').removeClass('fa-stop')\"\n",
       "                            onclick=\"kill_task('3a0a09c2d750847657fa637de9356215', 'localhost')\"\n",
       "                        ></i> </td>\n",
       "                        <td style=\"border:0px\"><a onclick=\"task_info('3a0a09c2d750847657fa637de9356215', 'localhost')\"><pre>3a0a09c2d750847657fa637de9356215</pre></a></td>\n",
       "                        <td style=\"border:0px\">&nbsp;</td>\n",
       "                        <td style=\"border:0px;text-align=right;\">\n",
       "                        <pre><time id=\"duration_localhost_3a0a09c2d750847657fa637de9356215\" datetime=\"1503955303854.1863\">0 sec</time></pre></td>\n",
       "                        </tr>\n",
       "                        </table>"
      ]
     },
     "metadata": {},
     "output_type": "display_data"
    }
   ],
   "source": [
    "%run format_covariates\n",
    "\n",
    "parameter: cwd = '~/Documents/GTEx'\n",
    "sample_attr = '~/Documents/GTEx/gtex7/sample_annotations/GTEx_Analysis_2016-01-15_v7_SampleAttributesDS.txt'\n",
    "phenotype = '~/Documents/GTEx/gtex7/sample_annotations/GTEx_Analysis_2016-01-15_v7_SubjectPhenotypesDS.txt'\n",
    "platform_info = \"${cwd!a}/h5_formatted/${sample_attr!bn}.platform_info\"\n",
    "\n",
    "[format_covariates]\n",
    "# Consolidate covariates to HDF5 format\n",
    "# Covariates are: sex, platform, 3 PC and PEER factors\n",
    "depends: platform_info\n",
    "parameter: peer_factors = glob.glob(\"${cwd!a}/peer_analysis/*_PEER_covariates.txt\")\n",
    "parameter: pc_file = \"${cwd!a}/genotype_plink/GTEx7.Imputed.prune.pc.ped\"\n",
    "parameter: covar_file = \"${phenotype!a}\"\n",
    "input: peer_factors, pc_file, covar_file, platform_info\n",
    "output: \"${cwd!a}/h5_formatted/GTEx7.covariates.raw.h5\", \"${cwd!a}/h5_formatted/GTEx7.covariates.orth.h5\"\n",
    "task: workdir = cwd\n",
    "python:\n",
    "    import os\n",
    "    import pandas as pd\n",
    "    import scipy.linalg\n",
    "    if os.path.isfile(${output[0]!ar}):\n",
    "       os.remove(${output[0]!ar})\n",
    "    if os.path.isfile(${output[1]!ar}):\n",
    "       os.remove(${output[1]!ar})\n",
    "    pc = pd.read_csv(${pc_file!r}, header = None, sep = ' ', index_col = 1,\n",
    "         names = ['fid','pid','mid','sex','phen'] + [\"PC{}\".format(i+1) for i in range(20)])[[\"PC1\", \"PC2\", \"PC3\"]]\n",
    "    platform = pd.read_csv(${platform_info!r}, header = 0, sep = ',', index_col = 0)\n",
    "    covar = pd.read_csv(${covar_file!r}, header = 0, sep = '\\t', index_col = 0)['SEX'].to_frame()\n",
    "    dat = covar.merge(platform, left_index = True, right_index = True)\n",
    "    dat = dat.merge(pc, left_index = True, right_index = True)\n",
    "    # Add PEER\n",
    "    for item in [${peer_factors!ar,}]:\n",
    "        peer = pd.read_csv(item, header = 0, sep = '\\t', index_col = 0).transpose()\n",
    "        samples = {}\n",
    "        for x in peer.index:\n",
    "            samples[x] = dat.loc['-'.join(x.split('-')[:2])].tolist()\n",
    "        samples = pd.DataFrame(samples).transpose()\n",
    "        samples.columns = dat.columns\n",
    "        samples = samples.merge(peer, left_index = True, right_index = True)\n",
    "        samples.to_hdf(${output[0]!ar}, '/{}'.format(os.path.basename(item[:-20])), mode = 'a', complevel = 9, complib = 'zlib')\n",
    "        samples_orth = pd.DataFrame(scipy.linalg.orth(samples), index = samples.index)\n",
    "        samples_orth.to_hdf(${output[1]!ar}, '/{}'.format(os.path.basename(item[:-20])), mode = 'a', complevel = 9, complib = 'zlib')\n",
    "\n",
    "[recode_platform: provides = platform_info]\n",
    "# Covariate \"platform\" needs to be recoded to numeric\n",
    "input: sample_attr\n",
    "output: platform_info\n",
    "task: workdir = cwd\n",
    "python:\n",
    "    import pandas as pd\n",
    "    samples = pd.read_csv(${input!r}, dtype=str, delimiter='\\t', header=0)\n",
    "    res = [('SUBJID', 'GENO_PLATFORM')]\n",
    "    platform = []\n",
    "    for row in samples[['SAMPID', 'SMGEBTCHT', 'SMAFRZE']].values:\n",
    "        if row[2] == 'WGS':\n",
    "           row[0] = '-'.join(row[0].split('-')[:2])\n",
    "           if not row[1] in platform:\n",
    "              platform.append(row[1])\n",
    "           res.append((row[0], str(platform.index(row[1]))))\n",
    "    with open(${output!r}, \"w\") as f:\n",
    "        f.write('\\n'.join([','.join(x) for x in res]))"
   ]
  },
  {
   "cell_type": "markdown",
   "metadata": {},
   "source": [
    "## About orthonormal basis\n",
    "In my initial analysis I've got error message from `varbvs` package:\n",
    "\n",
    "```\n",
    "> varbvs::varbvsmix(X, Z, y, sa = c(0,mixsd^2))\n",
    "Error in solve.default(crossprod(Z), c(y %*% Z)) : \n",
    "  system is computationally singular: reciprocal condition number = 3.53577e-17\n",
    "```\n",
    "The reason `crossprod(Z)` is near singular is because some colums of `Z` are highly correlated (`cor(Z)` near singular). Since [PEER factors are not orthogonal](../prototype/20170828_PEER_Not_Orthogonal.html) it may create such problem. Since we use an improper prior on `Z` and we do not need to interpret the `Z` part of the model, we will use such orthogonal basis that spans the same space as `Z` with reduced rank to avoid the numerical problem. That way we do not have to improve prior on `Z`."
   ]
  },
  {
   "cell_type": "code",
   "execution_count": 2,
   "metadata": {
    "kernel": "SoS"
   },
   "outputs": [
    {
     "data": {
      "text/html": [
       "<p class=\"session_section\">SoS</p>\n",
       "<table class=\"session_info\">\n",
       "<tr>\n",
       "<th>SoS Version</th><td><pre>0.9.8.10</pre></td>\n",
       "</tr>\n",
       "</table>\n"
      ]
     },
     "metadata": {},
     "output_type": "display_data"
    }
   ],
   "source": [
    "%sessioninfo"
   ]
  }
 ],
 "metadata": {
  "kernelspec": {
   "display_name": "SoS",
   "language": "sos",
   "name": "sos"
  },
  "language_info": {
   "codemirror_mode": "sos",
   "file_extension": ".sos",
   "mimetype": "text/x-sos",
   "name": "sos",
   "nbconvert_exporter": "sos.jupyter.converter.SoS_Exporter",
   "pygments_lexer": "sos"
  },
  "sos": {
   "default_kernel": "SoS",
   "kernels": [
    [
     "SoS",
     "sos",
     "",
     ""
    ],
    [
     "Python3",
     "python3",
     "Python3",
     "#FFE771"
    ],
    [
     "R",
     "ir",
     "R",
     "#DCDCDA"
    ]
   ],
   "panel": {
    "displayed": true,
    "height": 0,
    "style": "side"
   }
  }
 },
 "nbformat": 4,
 "nbformat_minor": 2
}
