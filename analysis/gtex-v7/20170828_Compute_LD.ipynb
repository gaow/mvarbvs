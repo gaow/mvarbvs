{
 "cells": [
  {
   "cell_type": "markdown",
   "metadata": {},
   "source": [
    "# Compute pairwise LD for selected SNPs\n",
    "Though it is straightfoward enough to do it in R / Python, I use PLINK to compute the LD matrix."
   ]
  },
  {
   "cell_type": "markdown",
   "metadata": {},
   "source": [
    "PLINK is highly efficient. First I extract the subset of variants of interest from all data, then for a quick look I use `--indep-pairwise` to prune SNPs at given LD level. Finally I use `--r2` option to compute LD stats and formally report a summary."
   ]
  },
  {
   "cell_type": "code",
   "execution_count": 6,
   "metadata": {
    "collapsed": true,
    "kernel": "SoS"
   },
   "outputs": [],
   "source": [
    "[global]\n",
    "cwd = '~/Documents/GTEx'\n",
    "mash_snps = '~/GIT/github/gtexresults_mash/Data/maxz.txt'\n",
    "mash_snps_all = \"${cwd!a}/mash_revision/MatrixEQTLSumStats.Portable.h5\"\n",
    "snp_list = \"${cwd!a}/mash_revision/snp_eqtls.txt\"\n",
    "snp_list_random = \"${cwd!a}/mash_revision/snp_random.txt\"\n",
    "genotype_data = \"${cwd!a}/genotype_plink/GTEx7.Imputed.bed\""
   ]
  },
  {
   "cell_type": "markdown",
   "metadata": {},
   "source": [
    "## Prepare SNP ID list to extract\n",
    "For example, codes below prepares SNPs using the eQTLs from `mash` paper.\n",
    "\n",
    "### From text file\n",
    "In particular [this file](https://github.com/stephenslab/gtexresults_mash/blob/master/Data/maxz.txt)."
   ]
  },
  {
   "cell_type": "code",
   "execution_count": 3,
   "metadata": {},
   "outputs": [
    {
     "data": {
      "text/html": [
       "<div class=\"sos_hint\">> /home/gaow/GIT/github/gtexresults_mash/Data/maxz.txt (12.7 MiB):</div>"
      ],
      "text/plain": [
       "\n",
       "> /home/gaow/GIT/github/gtexresults_mash/Data/maxz.txt (12.7 MiB):"
      ]
     },
     "metadata": {},
     "output_type": "display_data"
    },
    {
     "name": "stdout",
     "output_type": "stream",
     "text": [
      "\"Adipose_Subcutaneous\" \"Adipose_Visceral_Omentum\" \"Adrenal_Gland\" \"Artery_Aorta\" \"Artery_Coronary\" \"Artery_Tibial\" \"Brain_Anterior_cingulate_cortex_BA24\" \"Brain_Caudate_basal_ganglia\" \"Brain_Cerebellar_Hemisphere\" \"Brain_Cerebellum\" \"Brain_Cortex\" \"Brain_Frontal_Cortex_BA9\" \"Brain_Hippocampus\" \"Brain_Hypothalamus\" \"Brain_Nucleus_accumbens_basal_ganglia\" \"Brain_Putamen_basal_ganglia\" \"Breast_Mammary_Tissue\" \"Cells_EBV-transformed_lymphocytes\" \"Cells_Transformed_fibroblasts\" \"Colon_Sigmoid\" \"Colon_Transverse\" \"Esophagus_Gastroesophageal_Junction\" \"Esophagus_Mucosa\" \"Esophagus_Muscularis\" \"Heart_Atrial_Appendage\" \"Heart_Left_Ventricle\" \"Liver\" \"Lung\" \"Muscle_Skeletal\" \"Nerve_Tibial\" \"Ovary\" \"Pancreas\" \"Pituitary\" \"Prostate\" \"Skin_Not_Sun_Exposed_Suprapubic\" \"Skin_Sun_Exposed_Lower_leg\" \"Small_Intestine_Terminal_Ileum\" \"Spleen\" \"Stomach\" \"Testis\" \"Thyroid\" \"Uterus\" \"Vagina\" \"Whole_Blood\"\n",
      "\"ENSG00000000419.8_20_49461813_G_C_b37\" 0.140035769899035 0.0475048018545887 -0.185199569115366 -0.707475748922068 1.02660000912618 -0.0771338912837303 0.146658841279342 -0.259401046879882 -0.337210009547116 0.39750489467677 -1.05580658870737 0.913743710447618 -0.128762251875501 0.0558638858658976 1.01386831943158 0.377598395957177 -0.479508220110367 0.388489721109613 -0.48229879064876 -0.364704657885265 -1.87231328500187 -2.06022009981082 -0.298559593121012 -3.19471555767819 0.362237923742557 0.62719316987283 2.00021812889745 0.629467212595717 -0.23561462140269 -0.332783730867599 -1.00055889996764 -0.960125863288923 -0.96386316399376 -1.50881700277794 -0.976703698613329 0.577720300522746 -2.60306648809215 -4.85288408765059 0.362665598516544 -1.65680479255712 -0.344732538236625 -0.268148514893524 -0.366403004075725 -0.900413650345225\n",
      "\"ENSG00000000457.9_1_169695110_T_A_b37\" 0.954516011454517 -0.0681166567008093 0.109699644838174 2.86331872495593 0.804939975404017 1.66768958423126 1.64030493197248 1.33440714691758 1.7328767895192 5.31231399034445 2.18652298262293 2.79319687293344 0.245677971654259 0.432459156419959 0.720654077312806 1.16943846086518 1.71398578810753 -0.876469953614605 -0.145387404414833 4.50500960459263 1.64784013770758 1.99891911608046 -1.03246629335908 2.93744925688004 0.732560299095379 1.18471867566798 -0.947922268527059 1.33685666941406 1.39094097748753 2.37188680055047 3.07760951738704 -0.277142986781852 1.55727472300494 1.15513554742342 -0.533098042780075 2.58868900891793 1.26249236100172 1.64771825873614 2.12867732922824 -0.0755260844598542 2.11300849607303 3.3059042901439 0.0979415385612671 1.05121147377042\n",
      "\"ENSG00000000460.12_1_169655079_G_A_b37\" 0.319836864977651 -0.28858559927055 -0.293302417448151 -0.382708750244296 -1.88572937411031 -0.731279532668538 -2.28866218174984 -3.15452327558819 -5.62131620925679 -6.28282827031234 -3.99155600986804 -1.02718390039357 -1.47529757341139 -1.04324409042758 -1.12330319823082 -1.77672428663425 0.0924974003354592 0.521176495698238 0.439544399604355 -1.29444083282421 -0.285879455613173 -0.810438102891698 -1.2185792561654 -1.05394253140009 -3.29222412895229 -2.47189298266347 3.12046607511662 -2.9484270988292 -2.41368323230473 -3.02474209862182 -1.32488348689969 -0.144362657854571 -2.53363783918856 -2.06456099567809 -0.0106500419867326 0.394751496292719 -0.183182088998179 0.267137151309772 -0.140226463470851 -1.38261451093832 -4.57185776099714 -3.26786047004333 -1.78685206860429 -2.00467145209083\n",
      "\"ENSG00000000938.8_1_27888990_T_C_b37\" 1.84387146947355 1.26017531836356 0.277379075325108 2.31477887178685 -0.0762272593808945 1.81648404994728 1.60902560496413 1.39805785681695 0.714104043472631 0.483387491488957 0.691331931801022 1.94391865458563 1.88911503403548 0.12587020716696 -0.136190700141412 1.02030170309299 1.18785319893026 -0.797752689697484 0.131302193902833 -0.211502169456531 1.67371464571622 1.52537581450487 1.57392594799612 2.5610798915074 0.610113571499602 0.988896273913113 -0.148514063655499 3.33285120204704 1.11503124376176 0.58105653912896 1.39801915019313 -0.307152421902023 -1.257704217961 1.71768552657065 1.90436415367498 0.419554183298909 0.487052615599714 -4.4523573610964 0.678535731823725 1.09278301526146 1.31522001167607 0.560447857269273 0.177705680259496 -0.495288113604864\n"
     ]
    }
   ],
   "source": [
    "%preview /home/gaow/GIT/github/gtexresults_mash/Data/maxz.txt --limit 2"
   ]
  },
  {
   "cell_type": "code",
   "execution_count": 8,
   "metadata": {
    "kernel": "SoS",
    "tags": [
     "report_cell"
    ]
   },
   "outputs": [
    {
     "data": {
      "text/html": [
       "<div class=\"sos_hint\">%preview /home/gaow/Documents/GTEx/mash_revision/snp_eqtls.txt</div>"
      ]
     },
     "metadata": {},
     "output_type": "display_data"
    },
    {
     "data": {
      "text/html": [
       "<div class=\"sos_hint\"> input: <br>output: <a target=\"_blank\" href=\"/home/gaow/Documents/GTEx/mash_revision/snp_eqtls.txt\">/home/gaow/Documents/GTEx/mash_revision/snp_eqtls.txt</a>\n",
       "</div>"
      ]
     },
     "metadata": {},
     "output_type": "display_data"
    },
    {
     "data": {
      "text/html": [
       "<div class=\"sos_hint\">> /home/gaow/Documents/GTEx/mash_revision/snp_eqtls.txt (183.2 KiB):</div>"
      ],
      "text/plain": [
       "\n",
       "> /home/gaow/Documents/GTEx/mash_revision/snp_eqtls.txt (183.2 KiB):"
      ]
     },
     "metadata": {},
     "output_type": "display_data"
    },
    {
     "name": "stdout",
     "output_type": "stream",
     "text": [
      "20:49461813\n",
      "1:169695110\n",
      "1:169655079\n",
      "1:27888990\n",
      "1:196513323\n"
     ]
    }
   ],
   "source": [
    "%sosrun get_list\n",
    "[get_list]\n",
    "output: \"${snp_list!a}\"\n",
    "import numpy as np\n",
    "np.savetxt(\"${snp_list!a}\", \n",
    "           [':'.join(x.split('_')[1:3]) for x in np.loadtxt(\"${mash_snps!a}\", dtype = 'str', delimiter=\" \", skiprows=1, usecols=(0,)).tolist()],\n",
    "          fmt = '%s')"
   ]
  },
  {
   "cell_type": "markdown",
   "metadata": {},
   "source": [
    "### From HDF5 table row names\n",
    "In particular my GTEx V6 sumstat database `MatrixEQTLSumStats.Portable.h5`"
   ]
  },
  {
   "cell_type": "code",
   "execution_count": 17,
   "metadata": {
    "kernel": "SoS",
    "tags": [
     "report_cell"
    ]
   },
   "outputs": [
    {
     "data": {
      "text/html": [
       "<div class=\"sos_hint\">%preview /home/gaow/Documents/GTEx/mash_revision/snp_eqtls.txt /home/gaow/Documents/GTEx/mash_revision/snp_random.txt</div>"
      ]
     },
     "metadata": {},
     "output_type": "display_data"
    },
    {
     "data": {
      "text/html": [
       "<div class=\"sos_hint\"> input: <br>output: <a target=\"_blank\" href=\"/home/gaow/Documents/GTEx/mash_revision/snp_eqtls.txt\">/home/gaow/Documents/GTEx/mash_revision/snp_eqtls.txt</a>, <a target=\"_blank\" href=\"/home/gaow/Documents/GTEx/mash_revision/snp_random.txt\">/home/gaow/Documents/GTEx/mash_revision/snp_random.txt</a>\n",
       "</div>"
      ]
     },
     "metadata": {},
     "output_type": "display_data"
    },
    {
     "data": {
      "text/html": [
       "<div class=\"sos_hint\">> /home/gaow/Documents/GTEx/mash_revision/snp_eqtls.txt (183.2 KiB):</div>"
      ],
      "text/plain": [
       "\n",
       "> /home/gaow/Documents/GTEx/mash_revision/snp_eqtls.txt (183.2 KiB):"
      ]
     },
     "metadata": {},
     "output_type": "display_data"
    },
    {
     "name": "stdout",
     "output_type": "stream",
     "text": [
      "20:49461813\n",
      "1:169695110\n",
      "1:169655079\n",
      "1:27888990\n",
      "1:196513323\n"
     ]
    },
    {
     "data": {
      "text/html": [
       "<div class=\"sos_hint\">> /home/gaow/Documents/GTEx/mash_revision/snp_random.txt (549.6 KiB):</div>"
      ],
      "text/plain": [
       "\n",
       "> /home/gaow/Documents/GTEx/mash_revision/snp_random.txt (549.6 KiB):"
      ]
     },
     "metadata": {},
     "output_type": "display_data"
    },
    {
     "name": "stdout",
     "output_type": "stream",
     "text": [
      "20:49782767\n",
      "20:49654572\n",
      "20:49392478\n",
      "1:169117725\n",
      "1:170340311\n"
     ]
    }
   ],
   "source": [
    "%sosrun get_all_list\n",
    "[get_all_list]\n",
    "output: snp_list, snp_list_random\n",
    "python:\n",
    "    import h5py, numpy as np\n",
    "    f = h5py.File(${mash_snps_all!ar})\n",
    "    max_list = [':'.join(x.decode().split('_')[1:3]) for x in f['max']['rownames']]\n",
    "    random_list = [':'.join(x.decode().split('_')[1:3]) for x in f['null']['rownames']]\n",
    "    f.close()\n",
    "    np.savetxt(${snp_list!ar}, max_list, fmt = '%s')\n",
    "    np.savetxt(${snp_list_random!ar}, random_list, fmt = '%s')"
   ]
  },
  {
   "cell_type": "markdown",
   "metadata": {},
   "source": [
    "## Compute LD for given list of variants\n",
    "Code chunk below extracts SNPs from GTEx genotype data and computes `r2` via PLINK.\n",
    "* Steps 1 & 2 extracts data and run PLINK to get a quick estimate for, for example, when a pruning cutoff of 0.2 is set.\n",
    "* Steps 3 & 4 more formally calculates LD on per-chromosome basis"
   ]
  },
  {
   "cell_type": "code",
   "execution_count": 24,
   "metadata": {
    "tags": [
     "report_cell"
    ]
   },
   "outputs": [
    {
     "data": {
      "text/html": [
       "<div class=\"sos_hint\">1 task completed: <a onclick=\"task_info('5b8b72200e012d39f40eca525b4bf6ea', 'localhost')\">5b8b</a></div>"
      ]
     },
     "metadata": {},
     "output_type": "display_data"
    },
    {
     "name": "stdout",
     "output_type": "stream",
     "text": [
      "\n",
      "plink --bfile /home/gaow/Documents/GTEx/mash_revision/GTEx7.Imputed.extracted \\\n",
      "      --indep-pairwise 10000 500 0.2 \\\n",
      "      --out /home/gaow/Documents/GTEx/mash_revision/GTEx7.Imputed.extracted\n",
      "PLINK v1.90b4.3 64-bit (9 May 2017)            www.cog-genomics.org/plink/1.9/\n",
      "(C) 2005-2017 Shaun Purcell, Christopher Chang   GNU General Public License v3\n",
      "Logging to /home/gaow/Documents/GTEx/mash_revision/GTEx7.Imputed.extracted.log.\n",
      "Options in effect:\n",
      "  --bfile /home/gaow/Documents/GTEx/mash_revision/GTEx7.Imputed.extracted\n",
      "  --indep-pairwise 10000 500 0.2\n",
      "  --out /home/gaow/Documents/GTEx/mash_revision/GTEx7.Imputed.extracted\n",
      "\n",
      "32120 MB RAM detected; reserving 16060 MB for main workspace.\n",
      "13030 variants loaded from .bim file.\n",
      "635 people (0 males, 0 females, 635 ambiguous) loaded from .fam.\n",
      "Ambiguous sex IDs written to\n",
      "/home/gaow/Documents/GTEx/mash_revision/GTEx7.Imputed.extracted.nosex .\n",
      "Using 1 thread (no multithreaded calculations invoked).\n",
      "Before main variant filters, 635 founders and 0 nonfounders present.\n",
      "Calculating allele frequencies... 10111213141516171819202122232425262728293031323334353637383940414243444546474849505152535455565758596061626364656667686970717273747576777879808182838485868788899091929394959697989 done.\n",
      "13030 variants and 635 people pass filters and QC.\n",
      "Note: No phenotypes present.\n",
      "Pruned 490 variants from chromosome 1, leaving 891.\n",
      "Pruned 263 variants from chromosome 2, leaving 613.\n",
      "Pruned 243 variants from chromosome 3, leaving 497.\n",
      "Pruned 105 variants from chromosome 4, leaving 339.\n",
      "Pruned 158 variants from chromosome 5, leaving 442.\n",
      "Pruned 192 variants from chromosome 6, leaving 467.\n",
      "Pruned 207 variants from chromosome 7, leaving 432.\n",
      "Pruned 132 variants from chromosome 8, leaving 356.\n",
      "Pruned 161 variants from chromosome 9, leaving 361.\n",
      "Pruned 164 variants from chromosome 10, leaving 397.\n",
      "Pruned 247 variants from chromosome 11, leaving 493.\n",
      "Pruned 235 variants from chromosome 12, leaving 472.\n",
      "Pruned 36 variants from chromosome 13, leaving 181.\n",
      "Pruned 136 variants from chromosome 14, leaving 294.\n",
      "Pruned 159 variants from chromosome 15, leaving 320.\n",
      "Pruned 298 variants from chromosome 16, leaving 375.\n",
      "Pruned 345 variants from chromosome 17, leaving 503.\n",
      "Pruned 29 variants from chromosome 18, leaving 156.\n",
      "Pruned 350 variants from chromosome 19, leaving 653.\n",
      "Pruned 88 variants from chromosome 20, leaving 259.\n",
      "Pruned 39 variants from chromosome 21, leaving 99.\n",
      "Pruned 127 variants from chromosome 22, leaving 226.\n",
      "Pruning complete.  4204 of 13030 variants removed.\n",
      "Marker lists written to\n",
      "/home/gaow/Documents/GTEx/mash_revision/GTEx7.Imputed.extracted.prune.in and\n",
      "/home/gaow/Documents/GTEx/mash_revision/GTEx7.Imputed.extracted.prune.out .\n",
      "\n"
     ]
    }
   ],
   "source": [
    "%sosrun get_ld:1-2 -b ~/Documents/GTEx/bin\n",
    "[get_ld_1]\n",
    "# extract SNPs for given list\n",
    "parameter: input_list = snp_list\n",
    "depends: genotype_data\n",
    "input: input_list\n",
    "output: \"${cwd!a}/mash_revision/${input!bn}.extracted.bed\"\n",
    "task: workdir = cwd\n",
    "run:\n",
    "    plink --bfile ${genotype_data!n} \\\n",
    "      --extract ${input} \\\n",
    "      --no-sex --no-pheno --no-parents \\\n",
    "      --make-bed \\\n",
    "      --out ${output!n}\n",
    "\n",
    "[get_ld_2]\n",
    "# Quickly survey how many SNPs are removed for given cutoff\n",
    "pairwise_ld_param = '10000 500 0.2'\n",
    "output: \"${input!n}.prune.out\"\n",
    "run:\n",
    "    plink --bfile ${input!n} \\\n",
    "          --indep-pairwise ${pairwise_ld_param} \\\n",
    "          --out ${output!nn}\n",
    "\n",
    "[get_ld_3]\n",
    "# split data by chrom\n",
    "chroms = [i+1 for i in range(22)]\n",
    "input: for_each = 'chroms', pattern = '{name}.prune.out'\n",
    "output: expand_pattern('{_name}_chr{_chroms}.bed')\n",
    "task: workdir = cwd\n",
    "run: \n",
    "plink --bfile ${_input!n} \\\n",
    "      --chr ${_chroms} \\\n",
    "      --allow-no-sex \\\n",
    "      --make-bed \\\n",
    "      --out ${_output!n}\n",
    "\n",
    "[get_ld_4]\n",
    "# compute LD\n",
    "input: group_by = 1, pattern = '{name}.bed'\n",
    "output: expand_pattern('{_name}.r2.ld.gz')\n",
    "task: workdir = cwd\n",
    "run:\n",
    "    plink --bfile ${_input!n} \\\n",
    "          --out ${_output!nn} \\\n",
    "          --r2 square gz"
   ]
  },
  {
   "cell_type": "markdown",
   "metadata": {},
   "source": [
    "Here I executed steps 1 & 2. You'll see PLINK's log if you expand the code chunk above. But the relevant PLINK output message here is:\n",
    "\n",
    "```\n",
    "Pruning complete.  4204 of 13030 variants removed.\n",
    "```"
   ]
  },
  {
   "cell_type": "markdown",
   "metadata": {},
   "source": [
    "## Examine LD strengths per chromosome\n",
    "This section takes a deeper look at LD pattern using results from steps 3 & 4. Cell below loads all data and compute some summary statistics on LD strength."
   ]
  },
  {
   "cell_type": "code",
   "execution_count": 19,
   "metadata": {
    "collapsed": true,
    "kernel": "R"
   },
   "outputs": [],
   "source": [
    "setwd('~/Documents/GTEx/mash_revision/')\n",
    "grid = c(0.1, 0.2, 0.3, 0.4, 0.5, 0.6, 0.7, 0.8, 0.9, 0.95, 0.99)\n",
    "prop = matrix(0, length(grid), 22)\n",
    "snps = matrix(0, length(grid), 22)\n",
    "n_snps = 0\n",
    "for (i in 1:22) {\n",
    "    tmp = read.table(paste0('GTEx7.Imputed.extracted_chr', i, '.r2.ld.gz'))\n",
    "    tmp[is.na(tmp)] = 0\n",
    "    rownames(tmp) = colnames(tmp)\n",
    "    diag(tmp) = 0\n",
    "    tmp[upper.tri(tmp)] = 0\n",
    "    n_snps = n_snps + dim(tmp)[1]\n",
    "    for (j in 1:length(grid)) {\n",
    "        m = abs(tmp) > grid[j]\n",
    "        prop[j,i] = sum(m) / ((dim(tmp)[1]^2 - dim(tmp)[1])/ 2)\n",
    "        ss = c(rownames(m)[row(m)[which(m)]], colnames(m)[col(m)[which(m)]])\n",
    "        snps[j,i] = length(unique(ss))\n",
    "    }\n",
    "}"
   ]
  },
  {
   "cell_type": "markdown",
   "metadata": {},
   "source": [
    "Here is summary of proportion of pairs on each chromosome (row) having LD greater than thresholds (column):\n"
   ]
  },
  {
   "cell_type": "code",
   "execution_count": 20,
   "metadata": {
    "kernel": "R",
    "tags": [
     "report_output"
    ]
   },
   "outputs": [
    {
     "data": {
      "text/html": [
       "<table>\n",
       "<thead><tr><th></th><th scope=col>0.1</th><th scope=col>0.2</th><th scope=col>0.3</th><th scope=col>0.4</th><th scope=col>0.5</th><th scope=col>0.6</th><th scope=col>0.7</th><th scope=col>0.8</th><th scope=col>0.9</th><th scope=col>0.95</th><th scope=col>0.99</th></tr></thead>\n",
       "<tbody>\n",
       "\t<tr><th scope=row>chr 1</th><td>0.002647735 </td><td>0.001113455 </td><td>0.0007692388</td><td>0.0005520050</td><td>0.0004029846</td><td>0.0003053868</td><td>0.0002277283</td><td>0.0001595147</td><td>0.0001007462</td><td>7.031242e-05</td><td>2.728542e-05</td></tr>\n",
       "\t<tr><th scope=row>chr 2</th><td>0.002238748 </td><td>0.001330724 </td><td>0.0009680365</td><td>0.0007227658</td><td>0.0005505545</td><td>0.0003913894</td><td>0.0002974560</td><td>0.0001983040</td><td>0.0001148076</td><td>6.001305e-05</td><td>1.304631e-05</td></tr>\n",
       "\t<tr><th scope=row>chr 3</th><td>0.003638957 </td><td>0.002022455 </td><td>0.0015067842</td><td>0.0011447171</td><td>0.0008265370</td><td>0.0005522437</td><td>0.0004022967</td><td>0.0003218374</td><td>0.0002413780</td><td>1.353180e-04</td><td>5.485865e-05</td></tr>\n",
       "\t<tr><th scope=row>chr 4</th><td>0.002470868 </td><td>0.001535395 </td><td>0.0011591727</td><td>0.0008744636</td><td>0.0007016045</td><td>0.0005694182</td><td>0.0004067273</td><td>0.0002643727</td><td>0.0001728591</td><td>1.016818e-04</td><td>4.067273e-05</td></tr>\n",
       "\t<tr><th scope=row>chr 5</th><td>0.002170284 </td><td>0.001363383 </td><td>0.0009849750</td><td>0.0008180301</td><td>0.0006455203</td><td>0.0004451864</td><td>0.0003561491</td><td>0.0002448525</td><td>0.0001446856</td><td>8.347245e-05</td><td>1.669449e-05</td></tr>\n",
       "\t<tr><th scope=row>chr 6</th><td>0.003293191 </td><td>0.001729617 </td><td>0.0010977303</td><td>0.0007287453</td><td>0.0005719267</td><td>0.0004520066</td><td>0.0003735973</td><td>0.0002859634</td><td>0.0002029417</td><td>1.245324e-04</td><td>3.689850e-05</td></tr>\n",
       "\t<tr><th scope=row>chr 7</th><td>0.004022743 </td><td>0.002099676 </td><td>0.0015011700</td><td>0.0011332362</td><td>0.0008388891</td><td>0.0006230346</td><td>0.0005003900</td><td>0.0003384991</td><td>0.0002305719</td><td>1.422677e-04</td><td>4.905784e-05</td></tr>\n",
       "\t<tr><th scope=row>chr 8</th><td>0.003694415 </td><td>0.001943986 </td><td>0.0015568721</td><td>0.0013128219</td><td>0.0010603561</td><td>0.0007069041</td><td>0.0005301781</td><td>0.0002945434</td><td>0.0001598950</td><td>1.094018e-04</td><td>1.683105e-05</td></tr>\n",
       "\t<tr><th scope=row>chr 9</th><td>0.003993205 </td><td>0.002316500 </td><td>0.0017575985</td><td>0.0014119620</td><td>0.0010736794</td><td>0.0006986270</td><td>0.0005809635</td><td>0.0004559461</td><td>0.0001838492</td><td>7.353969e-05</td><td>2.206191e-05</td></tr>\n",
       "\t<tr><th scope=row>chr 10</th><td>0.003673287 </td><td>0.002107207 </td><td>0.0016042781</td><td>0.0012732366</td><td>0.0009803922</td><td>0.0007257448</td><td>0.0005665903</td><td>0.0003883372</td><td>0.0002164502</td><td>1.527884e-04</td><td>3.819710e-05</td></tr>\n",
       "\t<tr><th scope=row>chr 11</th><td>0.003291519 </td><td>0.001547014 </td><td>0.0011410599</td><td>0.0009069963</td><td>0.0007789928</td><td>0.0006253886</td><td>0.0004754416</td><td>0.0003510953</td><td>0.0002413780</td><td>1.426325e-04</td><td>5.120140e-05</td></tr>\n",
       "\t<tr><th scope=row>chr 12</th><td>0.004283350 </td><td>0.001979397 </td><td>0.0013863790</td><td>0.0009776777</td><td>0.0007092170</td><td>0.0005409282</td><td>0.0004327426</td><td>0.0003325707</td><td>0.0002444194</td><td>1.482544e-04</td><td>6.411001e-05</td></tr>\n",
       "\t<tr><th scope=row>chr 13</th><td>0.004053593 </td><td>0.002261478 </td><td>0.0015787677</td><td>0.0012374125</td><td>0.0010667349</td><td>0.0006827104</td><td>0.0005973716</td><td>0.0002986858</td><td>0.0001280082</td><td>8.533880e-05</td><td>0.000000e+00</td></tr>\n",
       "\t<tr><th scope=row>chr 14</th><td>0.004651163 </td><td>0.002634575 </td><td>0.0017563832</td><td>0.0012684989</td><td>0.0010082940</td><td>0.0008781916</td><td>0.0007372472</td><td>0.0004553586</td><td>0.0002602049</td><td>1.843118e-04</td><td>4.336749e-05</td></tr>\n",
       "\t<tr><th scope=row>chr 15</th><td>0.004900376 </td><td>0.002716608 </td><td>0.0019217163</td><td>0.0013801417</td><td>0.0009695932</td><td>0.0007774216</td><td>0.0006201902</td><td>0.0004978992</td><td>0.0002183768</td><td>8.735074e-05</td><td>2.620522e-05</td></tr>\n",
       "\t<tr><th scope=row>chr 16</th><td>0.007256952 </td><td>0.003975624 </td><td>0.0029275455</td><td>0.0021536475</td><td>0.0015787519</td><td>0.0012647704</td><td>0.0008313875</td><td>0.0005970070</td><td>0.0003228260</td><td>2.034246e-04</td><td>7.517866e-05</td></tr>\n",
       "\t<tr><th scope=row>chr 17</th><td>0.003475084 </td><td>0.001985365 </td><td>0.0013755541</td><td>0.0011165935</td><td>0.0008743401</td><td>0.0006989152</td><td>0.0005429819</td><td>0.0003619879</td><td>0.0002227618</td><td>1.253035e-04</td><td>3.619879e-05</td></tr>\n",
       "\t<tr><th scope=row>chr 18</th><td>0.003407756 </td><td>0.002173913 </td><td>0.0016451234</td><td>0.0011750881</td><td>0.0009988249</td><td>0.0008225617</td><td>0.0006462985</td><td>0.0004700353</td><td>0.0001175088</td><td>5.875441e-05</td><td>0.000000e+00</td></tr>\n",
       "\t<tr><th scope=row>chr 19</th><td>0.002358195 </td><td>0.001201983 </td><td>0.0008776067</td><td>0.0006487523</td><td>0.0005134298</td><td>0.0003960175</td><td>0.0003024858</td><td>0.0002069639</td><td>0.0001313425</td><td>9.552182e-05</td><td>3.184061e-05</td></tr>\n",
       "\t<tr><th scope=row>chr 20</th><td>0.004797521 </td><td>0.002948477 </td><td>0.0020989156</td><td>0.0013992770</td><td>0.0010661158</td><td>0.0006996385</td><td>0.0004664257</td><td>0.0003165031</td><td>0.0001166064</td><td>6.663224e-05</td><td>0.000000e+00</td></tr>\n",
       "\t<tr><th scope=row>chr 21</th><td>0.009732360 </td><td>0.006135618 </td><td>0.0041256744</td><td>0.0031735957</td><td>0.0023273035</td><td>0.0020099439</td><td>0.0013752248</td><td>0.0013752248</td><td>0.0005289326</td><td>2.115730e-04</td><td>1.057865e-04</td></tr>\n",
       "\t<tr><th scope=row>chr 22</th><td>0.007098249 </td><td>0.004217100 </td><td>0.0030903940</td><td>0.0023338913</td><td>0.0017705382</td><td>0.0015130054</td><td>0.0012232810</td><td>0.0007725985</td><td>0.0004989699</td><td>2.736286e-04</td><td>8.047901e-05</td></tr>\n",
       "</tbody>\n",
       "</table>\n"
      ],
      "text/latex": [
       "\\begin{tabular}{r|lllllllllll}\n",
       "  & 0.1 & 0.2 & 0.3 & 0.4 & 0.5 & 0.6 & 0.7 & 0.8 & 0.9 & 0.95 & 0.99\\\\\n",
       "\\hline\n",
       "\tchr 1 & 0.002647735  & 0.001113455  & 0.0007692388 & 0.0005520050 & 0.0004029846 & 0.0003053868 & 0.0002277283 & 0.0001595147 & 0.0001007462 & 7.031242e-05 & 2.728542e-05\\\\\n",
       "\tchr 2 & 0.002238748  & 0.001330724  & 0.0009680365 & 0.0007227658 & 0.0005505545 & 0.0003913894 & 0.0002974560 & 0.0001983040 & 0.0001148076 & 6.001305e-05 & 1.304631e-05\\\\\n",
       "\tchr 3 & 0.003638957  & 0.002022455  & 0.0015067842 & 0.0011447171 & 0.0008265370 & 0.0005522437 & 0.0004022967 & 0.0003218374 & 0.0002413780 & 1.353180e-04 & 5.485865e-05\\\\\n",
       "\tchr 4 & 0.002470868  & 0.001535395  & 0.0011591727 & 0.0008744636 & 0.0007016045 & 0.0005694182 & 0.0004067273 & 0.0002643727 & 0.0001728591 & 1.016818e-04 & 4.067273e-05\\\\\n",
       "\tchr 5 & 0.002170284  & 0.001363383  & 0.0009849750 & 0.0008180301 & 0.0006455203 & 0.0004451864 & 0.0003561491 & 0.0002448525 & 0.0001446856 & 8.347245e-05 & 1.669449e-05\\\\\n",
       "\tchr 6 & 0.003293191  & 0.001729617  & 0.0010977303 & 0.0007287453 & 0.0005719267 & 0.0004520066 & 0.0003735973 & 0.0002859634 & 0.0002029417 & 1.245324e-04 & 3.689850e-05\\\\\n",
       "\tchr 7 & 0.004022743  & 0.002099676  & 0.0015011700 & 0.0011332362 & 0.0008388891 & 0.0006230346 & 0.0005003900 & 0.0003384991 & 0.0002305719 & 1.422677e-04 & 4.905784e-05\\\\\n",
       "\tchr 8 & 0.003694415  & 0.001943986  & 0.0015568721 & 0.0013128219 & 0.0010603561 & 0.0007069041 & 0.0005301781 & 0.0002945434 & 0.0001598950 & 1.094018e-04 & 1.683105e-05\\\\\n",
       "\tchr 9 & 0.003993205  & 0.002316500  & 0.0017575985 & 0.0014119620 & 0.0010736794 & 0.0006986270 & 0.0005809635 & 0.0004559461 & 0.0001838492 & 7.353969e-05 & 2.206191e-05\\\\\n",
       "\tchr 10 & 0.003673287  & 0.002107207  & 0.0016042781 & 0.0012732366 & 0.0009803922 & 0.0007257448 & 0.0005665903 & 0.0003883372 & 0.0002164502 & 1.527884e-04 & 3.819710e-05\\\\\n",
       "\tchr 11 & 0.003291519  & 0.001547014  & 0.0011410599 & 0.0009069963 & 0.0007789928 & 0.0006253886 & 0.0004754416 & 0.0003510953 & 0.0002413780 & 1.426325e-04 & 5.120140e-05\\\\\n",
       "\tchr 12 & 0.004283350  & 0.001979397  & 0.0013863790 & 0.0009776777 & 0.0007092170 & 0.0005409282 & 0.0004327426 & 0.0003325707 & 0.0002444194 & 1.482544e-04 & 6.411001e-05\\\\\n",
       "\tchr 13 & 0.004053593  & 0.002261478  & 0.0015787677 & 0.0012374125 & 0.0010667349 & 0.0006827104 & 0.0005973716 & 0.0002986858 & 0.0001280082 & 8.533880e-05 & 0.000000e+00\\\\\n",
       "\tchr 14 & 0.004651163  & 0.002634575  & 0.0017563832 & 0.0012684989 & 0.0010082940 & 0.0008781916 & 0.0007372472 & 0.0004553586 & 0.0002602049 & 1.843118e-04 & 4.336749e-05\\\\\n",
       "\tchr 15 & 0.004900376  & 0.002716608  & 0.0019217163 & 0.0013801417 & 0.0009695932 & 0.0007774216 & 0.0006201902 & 0.0004978992 & 0.0002183768 & 8.735074e-05 & 2.620522e-05\\\\\n",
       "\tchr 16 & 0.007256952  & 0.003975624  & 0.0029275455 & 0.0021536475 & 0.0015787519 & 0.0012647704 & 0.0008313875 & 0.0005970070 & 0.0003228260 & 2.034246e-04 & 7.517866e-05\\\\\n",
       "\tchr 17 & 0.003475084  & 0.001985365  & 0.0013755541 & 0.0011165935 & 0.0008743401 & 0.0006989152 & 0.0005429819 & 0.0003619879 & 0.0002227618 & 1.253035e-04 & 3.619879e-05\\\\\n",
       "\tchr 18 & 0.003407756  & 0.002173913  & 0.0016451234 & 0.0011750881 & 0.0009988249 & 0.0008225617 & 0.0006462985 & 0.0004700353 & 0.0001175088 & 5.875441e-05 & 0.000000e+00\\\\\n",
       "\tchr 19 & 0.002358195  & 0.001201983  & 0.0008776067 & 0.0006487523 & 0.0005134298 & 0.0003960175 & 0.0003024858 & 0.0002069639 & 0.0001313425 & 9.552182e-05 & 3.184061e-05\\\\\n",
       "\tchr 20 & 0.004797521  & 0.002948477  & 0.0020989156 & 0.0013992770 & 0.0010661158 & 0.0006996385 & 0.0004664257 & 0.0003165031 & 0.0001166064 & 6.663224e-05 & 0.000000e+00\\\\\n",
       "\tchr 21 & 0.009732360  & 0.006135618  & 0.0041256744 & 0.0031735957 & 0.0023273035 & 0.0020099439 & 0.0013752248 & 0.0013752248 & 0.0005289326 & 2.115730e-04 & 1.057865e-04\\\\\n",
       "\tchr 22 & 0.007098249  & 0.004217100  & 0.0030903940 & 0.0023338913 & 0.0017705382 & 0.0015130054 & 0.0012232810 & 0.0007725985 & 0.0004989699 & 2.736286e-04 & 8.047901e-05\\\\\n",
       "\\end{tabular}\n"
      ],
      "text/markdown": [
       "\n",
       "| <!--/--> | 0.1 | 0.2 | 0.3 | 0.4 | 0.5 | 0.6 | 0.7 | 0.8 | 0.9 | 0.95 | 0.99 | \n",
       "|---|---|---|---|---|---|---|---|---|---|---|---|---|---|---|---|---|---|---|---|---|---|\n",
       "| chr 1 | 0.002647735  | 0.001113455  | 0.0007692388 | 0.0005520050 | 0.0004029846 | 0.0003053868 | 0.0002277283 | 0.0001595147 | 0.0001007462 | 7.031242e-05 | 2.728542e-05 | \n",
       "| chr 2 | 0.002238748  | 0.001330724  | 0.0009680365 | 0.0007227658 | 0.0005505545 | 0.0003913894 | 0.0002974560 | 0.0001983040 | 0.0001148076 | 6.001305e-05 | 1.304631e-05 | \n",
       "| chr 3 | 0.003638957  | 0.002022455  | 0.0015067842 | 0.0011447171 | 0.0008265370 | 0.0005522437 | 0.0004022967 | 0.0003218374 | 0.0002413780 | 1.353180e-04 | 5.485865e-05 | \n",
       "| chr 4 | 0.002470868  | 0.001535395  | 0.0011591727 | 0.0008744636 | 0.0007016045 | 0.0005694182 | 0.0004067273 | 0.0002643727 | 0.0001728591 | 1.016818e-04 | 4.067273e-05 | \n",
       "| chr 5 | 0.002170284  | 0.001363383  | 0.0009849750 | 0.0008180301 | 0.0006455203 | 0.0004451864 | 0.0003561491 | 0.0002448525 | 0.0001446856 | 8.347245e-05 | 1.669449e-05 | \n",
       "| chr 6 | 0.003293191  | 0.001729617  | 0.0010977303 | 0.0007287453 | 0.0005719267 | 0.0004520066 | 0.0003735973 | 0.0002859634 | 0.0002029417 | 1.245324e-04 | 3.689850e-05 | \n",
       "| chr 7 | 0.004022743  | 0.002099676  | 0.0015011700 | 0.0011332362 | 0.0008388891 | 0.0006230346 | 0.0005003900 | 0.0003384991 | 0.0002305719 | 1.422677e-04 | 4.905784e-05 | \n",
       "| chr 8 | 0.003694415  | 0.001943986  | 0.0015568721 | 0.0013128219 | 0.0010603561 | 0.0007069041 | 0.0005301781 | 0.0002945434 | 0.0001598950 | 1.094018e-04 | 1.683105e-05 | \n",
       "| chr 9 | 0.003993205  | 0.002316500  | 0.0017575985 | 0.0014119620 | 0.0010736794 | 0.0006986270 | 0.0005809635 | 0.0004559461 | 0.0001838492 | 7.353969e-05 | 2.206191e-05 | \n",
       "| chr 10 | 0.003673287  | 0.002107207  | 0.0016042781 | 0.0012732366 | 0.0009803922 | 0.0007257448 | 0.0005665903 | 0.0003883372 | 0.0002164502 | 1.527884e-04 | 3.819710e-05 | \n",
       "| chr 11 | 0.003291519  | 0.001547014  | 0.0011410599 | 0.0009069963 | 0.0007789928 | 0.0006253886 | 0.0004754416 | 0.0003510953 | 0.0002413780 | 1.426325e-04 | 5.120140e-05 | \n",
       "| chr 12 | 0.004283350  | 0.001979397  | 0.0013863790 | 0.0009776777 | 0.0007092170 | 0.0005409282 | 0.0004327426 | 0.0003325707 | 0.0002444194 | 1.482544e-04 | 6.411001e-05 | \n",
       "| chr 13 | 0.004053593  | 0.002261478  | 0.0015787677 | 0.0012374125 | 0.0010667349 | 0.0006827104 | 0.0005973716 | 0.0002986858 | 0.0001280082 | 8.533880e-05 | 0.000000e+00 | \n",
       "| chr 14 | 0.004651163  | 0.002634575  | 0.0017563832 | 0.0012684989 | 0.0010082940 | 0.0008781916 | 0.0007372472 | 0.0004553586 | 0.0002602049 | 1.843118e-04 | 4.336749e-05 | \n",
       "| chr 15 | 0.004900376  | 0.002716608  | 0.0019217163 | 0.0013801417 | 0.0009695932 | 0.0007774216 | 0.0006201902 | 0.0004978992 | 0.0002183768 | 8.735074e-05 | 2.620522e-05 | \n",
       "| chr 16 | 0.007256952  | 0.003975624  | 0.0029275455 | 0.0021536475 | 0.0015787519 | 0.0012647704 | 0.0008313875 | 0.0005970070 | 0.0003228260 | 2.034246e-04 | 7.517866e-05 | \n",
       "| chr 17 | 0.003475084  | 0.001985365  | 0.0013755541 | 0.0011165935 | 0.0008743401 | 0.0006989152 | 0.0005429819 | 0.0003619879 | 0.0002227618 | 1.253035e-04 | 3.619879e-05 | \n",
       "| chr 18 | 0.003407756  | 0.002173913  | 0.0016451234 | 0.0011750881 | 0.0009988249 | 0.0008225617 | 0.0006462985 | 0.0004700353 | 0.0001175088 | 5.875441e-05 | 0.000000e+00 | \n",
       "| chr 19 | 0.002358195  | 0.001201983  | 0.0008776067 | 0.0006487523 | 0.0005134298 | 0.0003960175 | 0.0003024858 | 0.0002069639 | 0.0001313425 | 9.552182e-05 | 3.184061e-05 | \n",
       "| chr 20 | 0.004797521  | 0.002948477  | 0.0020989156 | 0.0013992770 | 0.0010661158 | 0.0006996385 | 0.0004664257 | 0.0003165031 | 0.0001166064 | 6.663224e-05 | 0.000000e+00 | \n",
       "| chr 21 | 0.009732360  | 0.006135618  | 0.0041256744 | 0.0031735957 | 0.0023273035 | 0.0020099439 | 0.0013752248 | 0.0013752248 | 0.0005289326 | 2.115730e-04 | 1.057865e-04 | \n",
       "| chr 22 | 0.007098249  | 0.004217100  | 0.0030903940 | 0.0023338913 | 0.0017705382 | 0.0015130054 | 0.0012232810 | 0.0007725985 | 0.0004989699 | 2.736286e-04 | 8.047901e-05 | \n",
       "\n",
       "\n"
      ],
      "text/plain": [
       "       0.1         0.2         0.3          0.4          0.5         \n",
       "chr 1  0.002647735 0.001113455 0.0007692388 0.0005520050 0.0004029846\n",
       "chr 2  0.002238748 0.001330724 0.0009680365 0.0007227658 0.0005505545\n",
       "chr 3  0.003638957 0.002022455 0.0015067842 0.0011447171 0.0008265370\n",
       "chr 4  0.002470868 0.001535395 0.0011591727 0.0008744636 0.0007016045\n",
       "chr 5  0.002170284 0.001363383 0.0009849750 0.0008180301 0.0006455203\n",
       "chr 6  0.003293191 0.001729617 0.0010977303 0.0007287453 0.0005719267\n",
       "chr 7  0.004022743 0.002099676 0.0015011700 0.0011332362 0.0008388891\n",
       "chr 8  0.003694415 0.001943986 0.0015568721 0.0013128219 0.0010603561\n",
       "chr 9  0.003993205 0.002316500 0.0017575985 0.0014119620 0.0010736794\n",
       "chr 10 0.003673287 0.002107207 0.0016042781 0.0012732366 0.0009803922\n",
       "chr 11 0.003291519 0.001547014 0.0011410599 0.0009069963 0.0007789928\n",
       "chr 12 0.004283350 0.001979397 0.0013863790 0.0009776777 0.0007092170\n",
       "chr 13 0.004053593 0.002261478 0.0015787677 0.0012374125 0.0010667349\n",
       "chr 14 0.004651163 0.002634575 0.0017563832 0.0012684989 0.0010082940\n",
       "chr 15 0.004900376 0.002716608 0.0019217163 0.0013801417 0.0009695932\n",
       "chr 16 0.007256952 0.003975624 0.0029275455 0.0021536475 0.0015787519\n",
       "chr 17 0.003475084 0.001985365 0.0013755541 0.0011165935 0.0008743401\n",
       "chr 18 0.003407756 0.002173913 0.0016451234 0.0011750881 0.0009988249\n",
       "chr 19 0.002358195 0.001201983 0.0008776067 0.0006487523 0.0005134298\n",
       "chr 20 0.004797521 0.002948477 0.0020989156 0.0013992770 0.0010661158\n",
       "chr 21 0.009732360 0.006135618 0.0041256744 0.0031735957 0.0023273035\n",
       "chr 22 0.007098249 0.004217100 0.0030903940 0.0023338913 0.0017705382\n",
       "       0.6          0.7          0.8          0.9          0.95        \n",
       "chr 1  0.0003053868 0.0002277283 0.0001595147 0.0001007462 7.031242e-05\n",
       "chr 2  0.0003913894 0.0002974560 0.0001983040 0.0001148076 6.001305e-05\n",
       "chr 3  0.0005522437 0.0004022967 0.0003218374 0.0002413780 1.353180e-04\n",
       "chr 4  0.0005694182 0.0004067273 0.0002643727 0.0001728591 1.016818e-04\n",
       "chr 5  0.0004451864 0.0003561491 0.0002448525 0.0001446856 8.347245e-05\n",
       "chr 6  0.0004520066 0.0003735973 0.0002859634 0.0002029417 1.245324e-04\n",
       "chr 7  0.0006230346 0.0005003900 0.0003384991 0.0002305719 1.422677e-04\n",
       "chr 8  0.0007069041 0.0005301781 0.0002945434 0.0001598950 1.094018e-04\n",
       "chr 9  0.0006986270 0.0005809635 0.0004559461 0.0001838492 7.353969e-05\n",
       "chr 10 0.0007257448 0.0005665903 0.0003883372 0.0002164502 1.527884e-04\n",
       "chr 11 0.0006253886 0.0004754416 0.0003510953 0.0002413780 1.426325e-04\n",
       "chr 12 0.0005409282 0.0004327426 0.0003325707 0.0002444194 1.482544e-04\n",
       "chr 13 0.0006827104 0.0005973716 0.0002986858 0.0001280082 8.533880e-05\n",
       "chr 14 0.0008781916 0.0007372472 0.0004553586 0.0002602049 1.843118e-04\n",
       "chr 15 0.0007774216 0.0006201902 0.0004978992 0.0002183768 8.735074e-05\n",
       "chr 16 0.0012647704 0.0008313875 0.0005970070 0.0003228260 2.034246e-04\n",
       "chr 17 0.0006989152 0.0005429819 0.0003619879 0.0002227618 1.253035e-04\n",
       "chr 18 0.0008225617 0.0006462985 0.0004700353 0.0001175088 5.875441e-05\n",
       "chr 19 0.0003960175 0.0003024858 0.0002069639 0.0001313425 9.552182e-05\n",
       "chr 20 0.0006996385 0.0004664257 0.0003165031 0.0001166064 6.663224e-05\n",
       "chr 21 0.0020099439 0.0013752248 0.0013752248 0.0005289326 2.115730e-04\n",
       "chr 22 0.0015130054 0.0012232810 0.0007725985 0.0004989699 2.736286e-04\n",
       "       0.99        \n",
       "chr 1  2.728542e-05\n",
       "chr 2  1.304631e-05\n",
       "chr 3  5.485865e-05\n",
       "chr 4  4.067273e-05\n",
       "chr 5  1.669449e-05\n",
       "chr 6  3.689850e-05\n",
       "chr 7  4.905784e-05\n",
       "chr 8  1.683105e-05\n",
       "chr 9  2.206191e-05\n",
       "chr 10 3.819710e-05\n",
       "chr 11 5.120140e-05\n",
       "chr 12 6.411001e-05\n",
       "chr 13 0.000000e+00\n",
       "chr 14 4.336749e-05\n",
       "chr 15 2.620522e-05\n",
       "chr 16 7.517866e-05\n",
       "chr 17 3.619879e-05\n",
       "chr 18 0.000000e+00\n",
       "chr 19 3.184061e-05\n",
       "chr 20 0.000000e+00\n",
       "chr 21 1.057865e-04\n",
       "chr 22 8.047901e-05"
      ]
     },
     "metadata": {},
     "output_type": "display_data"
    },
    {
     "data": {
      "text/html": [
       "<dl class=dl-horizontal>\n",
       "\t<dt>0.1</dt>\n",
       "\t\t<dd>0.00414316140205588</dd>\n",
       "\t<dt>0.2</dt>\n",
       "\t\t<dd>0.00233361591922266</dd>\n",
       "\t<dt>0.3</dt>\n",
       "\t\t<dd>0.00167413526759036</dd>\n",
       "\t<dt>0.4</dt>\n",
       "\t\t<dd>0.00126107073619321</dd>\n",
       "\t<dt>0.5</dt>\n",
       "\t\t<dd>0.000968844573194746</dd>\n",
       "\t<dt>0.6</dt>\n",
       "\t\t<dd>0.000744519756734997</dd>\n",
       "\t<dt>0.7</dt>\n",
       "\t\t<dd>0.000567870677882685</dd>\n",
       "\t<dt>0.8</dt>\n",
       "\t\t<dd>0.000408550028183733</dd>\n",
       "\t<dt>0.9</dt>\n",
       "\t\t<dd>0.000218159995459414</dd>\n",
       "\t<dt>0.95</dt>\n",
       "\t\t<dd>0.000124366105021849</dd>\n",
       "\t<dt>0.99</dt>\n",
       "\t\t<dd>3.7725986625247e-05</dd>\n",
       "</dl>\n"
      ],
      "text/latex": [
       "\\begin{description*}\n",
       "\\item[0.1] 0.00414316140205588\n",
       "\\item[0.2] 0.00233361591922266\n",
       "\\item[0.3] 0.00167413526759036\n",
       "\\item[0.4] 0.00126107073619321\n",
       "\\item[0.5] 0.000968844573194746\n",
       "\\item[0.6] 0.000744519756734997\n",
       "\\item[0.7] 0.000567870677882685\n",
       "\\item[0.8] 0.000408550028183733\n",
       "\\item[0.9] 0.000218159995459414\n",
       "\\item[0.95] 0.000124366105021849\n",
       "\\item[0.99] 3.7725986625247e-05\n",
       "\\end{description*}\n"
      ],
      "text/markdown": [
       "0.1\n",
       ":   0.004143161402055880.2\n",
       ":   0.002333615919222660.3\n",
       ":   0.001674135267590360.4\n",
       ":   0.001261070736193210.5\n",
       ":   0.0009688445731947460.6\n",
       ":   0.0007445197567349970.7\n",
       ":   0.0005678706778826850.8\n",
       ":   0.0004085500281837330.9\n",
       ":   0.0002181599954594140.95\n",
       ":   0.0001243661050218490.99\n",
       ":   3.7725986625247e-05\n",
       "\n"
      ],
      "text/plain": [
       "         0.1          0.2          0.3          0.4          0.5          0.6 \n",
       "4.143161e-03 2.333616e-03 1.674135e-03 1.261071e-03 9.688446e-04 7.445198e-04 \n",
       "         0.7          0.8          0.9         0.95         0.99 \n",
       "5.678707e-04 4.085500e-04 2.181600e-04 1.243661e-04 3.772599e-05 "
      ]
     },
     "metadata": {},
     "output_type": "display_data"
    }
   ],
   "source": [
    "prop = data.frame(t(prop))\n",
    "colnames(prop) = grid\n",
    "rownames(prop) = paste('chr', 1:22)\n",
    "prop\n",
    "apply(prop, 2, mean)"
   ]
  },
  {
   "cell_type": "markdown",
   "metadata": {},
   "source": [
    "Here is summary of number of unique SNPs involved on each chromosome (row) having LD greater than thresholds (column):\n"
   ]
  },
  {
   "cell_type": "code",
   "execution_count": 21,
   "metadata": {
    "kernel": "R",
    "tags": [
     "report_output"
    ]
   },
   "outputs": [
    {
     "data": {
      "text/html": [
       "<table>\n",
       "<thead><tr><th></th><th scope=col>0.1</th><th scope=col>0.2</th><th scope=col>0.3</th><th scope=col>0.4</th><th scope=col>0.5</th><th scope=col>0.6</th><th scope=col>0.7</th><th scope=col>0.8</th><th scope=col>0.9</th><th scope=col>0.95</th><th scope=col>0.99</th></tr></thead>\n",
       "<tbody>\n",
       "\t<tr><th scope=row>chr 1</th><td>957</td><td>775</td><td>650</td><td>553</td><td>454</td><td>389</td><td>316</td><td>236</td><td>159</td><td>116</td><td>49 </td></tr>\n",
       "\t<tr><th scope=row>chr 2</th><td>531</td><td>408</td><td>350</td><td>278</td><td>236</td><td>194</td><td>166</td><td>123</td><td> 76</td><td> 46</td><td>10 </td></tr>\n",
       "\t<tr><th scope=row>chr 3</th><td>483</td><td>369</td><td>302</td><td>264</td><td>228</td><td>191</td><td>146</td><td>120</td><td> 94</td><td> 60</td><td>29 </td></tr>\n",
       "\t<tr><th scope=row>chr 4</th><td>234</td><td>171</td><td>138</td><td>110</td><td>101</td><td> 88</td><td> 69</td><td> 48</td><td> 34</td><td> 20</td><td> 8 </td></tr>\n",
       "\t<tr><th scope=row>chr 5</th><td>346</td><td>262</td><td>211</td><td>181</td><td>158</td><td>122</td><td>107</td><td> 76</td><td> 46</td><td> 29</td><td> 6 </td></tr>\n",
       "\t<tr><th scope=row>chr 6</th><td>405</td><td>305</td><td>248</td><td>194</td><td>160</td><td>129</td><td>110</td><td> 91</td><td> 68</td><td> 42</td><td>16 </td></tr>\n",
       "\t<tr><th scope=row>chr 7</th><td>397</td><td>321</td><td>273</td><td>233</td><td>190</td><td>149</td><td>121</td><td> 98</td><td> 78</td><td> 50</td><td>19 </td></tr>\n",
       "\t<tr><th scope=row>chr 8</th><td>286</td><td>208</td><td>177</td><td>150</td><td>131</td><td> 94</td><td> 79</td><td> 62</td><td> 38</td><td> 26</td><td> 4 </td></tr>\n",
       "\t<tr><th scope=row>chr 9</th><td>313</td><td>247</td><td>212</td><td>172</td><td>149</td><td>123</td><td>108</td><td> 90</td><td> 42</td><td> 20</td><td> 6 </td></tr>\n",
       "\t<tr><th scope=row>chr 10</th><td>328</td><td>261</td><td>214</td><td>189</td><td>147</td><td>113</td><td> 97</td><td> 76</td><td> 47</td><td> 34</td><td>12 </td></tr>\n",
       "\t<tr><th scope=row>chr 11</th><td>502</td><td>390</td><td>330</td><td>289</td><td>253</td><td>216</td><td>172</td><td>138</td><td>103</td><td> 67</td><td>25 </td></tr>\n",
       "\t<tr><th scope=row>chr 12</th><td>446</td><td>364</td><td>300</td><td>267</td><td>216</td><td>179</td><td>151</td><td>123</td><td> 94</td><td> 66</td><td>29 </td></tr>\n",
       "\t<tr><th scope=row>chr 13</th><td> 90</td><td> 65</td><td> 50</td><td> 42</td><td> 36</td><td> 29</td><td> 25</td><td> 11</td><td>  6</td><td>  4</td><td> 0 </td></tr>\n",
       "\t<tr><th scope=row>chr 14</th><td>277</td><td>220</td><td>172</td><td>134</td><td>121</td><td>106</td><td> 95</td><td> 64</td><td> 38</td><td> 28</td><td> 8 </td></tr>\n",
       "\t<tr><th scope=row>chr 15</th><td>325</td><td>241</td><td>205</td><td>174</td><td>126</td><td>105</td><td> 89</td><td> 76</td><td> 39</td><td> 19</td><td> 6 </td></tr>\n",
       "\t<tr><th scope=row>chr 16</th><td>526</td><td>431</td><td>382</td><td>334</td><td>295</td><td>246</td><td>196</td><td>163</td><td>101</td><td> 68</td><td>25 </td></tr>\n",
       "\t<tr><th scope=row>chr 17</th><td>624</td><td>512</td><td>421</td><td>369</td><td>303</td><td>262</td><td>212</td><td>150</td><td>102</td><td> 66</td><td>23 </td></tr>\n",
       "\t<tr><th scope=row>chr 18</th><td> 69</td><td> 52</td><td> 42</td><td> 28</td><td> 22</td><td> 21</td><td> 16</td><td> 12</td><td>  4</td><td>  2</td><td> 0 </td></tr>\n",
       "\t<tr><th scope=row>chr 19</th><td>694</td><td>555</td><td>456</td><td>386</td><td>346</td><td>280</td><td>224</td><td>164</td><td>111</td><td> 82</td><td>32 </td></tr>\n",
       "\t<tr><th scope=row>chr 20</th><td>189</td><td>142</td><td>110</td><td> 98</td><td> 87</td><td> 62</td><td> 48</td><td> 37</td><td> 14</td><td>  8</td><td> 0 </td></tr>\n",
       "\t<tr><th scope=row>chr 21</th><td> 86</td><td> 69</td><td> 57</td><td> 48</td><td> 38</td><td> 32</td><td> 23</td><td> 23</td><td> 10</td><td>  4</td><td> 2 </td></tr>\n",
       "\t<tr><th scope=row>chr 22</th><td>240</td><td>193</td><td>167</td><td>142</td><td>106</td><td> 92</td><td> 77</td><td> 54</td><td> 40</td><td> 23</td><td> 7 </td></tr>\n",
       "</tbody>\n",
       "</table>\n"
      ],
      "text/latex": [
       "\\begin{tabular}{r|lllllllllll}\n",
       "  & 0.1 & 0.2 & 0.3 & 0.4 & 0.5 & 0.6 & 0.7 & 0.8 & 0.9 & 0.95 & 0.99\\\\\n",
       "\\hline\n",
       "\tchr 1 & 957 & 775 & 650 & 553 & 454 & 389 & 316 & 236 & 159 & 116 & 49 \\\\\n",
       "\tchr 2 & 531 & 408 & 350 & 278 & 236 & 194 & 166 & 123 &  76 &  46 & 10 \\\\\n",
       "\tchr 3 & 483 & 369 & 302 & 264 & 228 & 191 & 146 & 120 &  94 &  60 & 29 \\\\\n",
       "\tchr 4 & 234 & 171 & 138 & 110 & 101 &  88 &  69 &  48 &  34 &  20 &  8 \\\\\n",
       "\tchr 5 & 346 & 262 & 211 & 181 & 158 & 122 & 107 &  76 &  46 &  29 &  6 \\\\\n",
       "\tchr 6 & 405 & 305 & 248 & 194 & 160 & 129 & 110 &  91 &  68 &  42 & 16 \\\\\n",
       "\tchr 7 & 397 & 321 & 273 & 233 & 190 & 149 & 121 &  98 &  78 &  50 & 19 \\\\\n",
       "\tchr 8 & 286 & 208 & 177 & 150 & 131 &  94 &  79 &  62 &  38 &  26 &  4 \\\\\n",
       "\tchr 9 & 313 & 247 & 212 & 172 & 149 & 123 & 108 &  90 &  42 &  20 &  6 \\\\\n",
       "\tchr 10 & 328 & 261 & 214 & 189 & 147 & 113 &  97 &  76 &  47 &  34 & 12 \\\\\n",
       "\tchr 11 & 502 & 390 & 330 & 289 & 253 & 216 & 172 & 138 & 103 &  67 & 25 \\\\\n",
       "\tchr 12 & 446 & 364 & 300 & 267 & 216 & 179 & 151 & 123 &  94 &  66 & 29 \\\\\n",
       "\tchr 13 &  90 &  65 &  50 &  42 &  36 &  29 &  25 &  11 &   6 &   4 &  0 \\\\\n",
       "\tchr 14 & 277 & 220 & 172 & 134 & 121 & 106 &  95 &  64 &  38 &  28 &  8 \\\\\n",
       "\tchr 15 & 325 & 241 & 205 & 174 & 126 & 105 &  89 &  76 &  39 &  19 &  6 \\\\\n",
       "\tchr 16 & 526 & 431 & 382 & 334 & 295 & 246 & 196 & 163 & 101 &  68 & 25 \\\\\n",
       "\tchr 17 & 624 & 512 & 421 & 369 & 303 & 262 & 212 & 150 & 102 &  66 & 23 \\\\\n",
       "\tchr 18 &  69 &  52 &  42 &  28 &  22 &  21 &  16 &  12 &   4 &   2 &  0 \\\\\n",
       "\tchr 19 & 694 & 555 & 456 & 386 & 346 & 280 & 224 & 164 & 111 &  82 & 32 \\\\\n",
       "\tchr 20 & 189 & 142 & 110 &  98 &  87 &  62 &  48 &  37 &  14 &   8 &  0 \\\\\n",
       "\tchr 21 &  86 &  69 &  57 &  48 &  38 &  32 &  23 &  23 &  10 &   4 &  2 \\\\\n",
       "\tchr 22 & 240 & 193 & 167 & 142 & 106 &  92 &  77 &  54 &  40 &  23 &  7 \\\\\n",
       "\\end{tabular}\n"
      ],
      "text/markdown": [
       "\n",
       "| <!--/--> | 0.1 | 0.2 | 0.3 | 0.4 | 0.5 | 0.6 | 0.7 | 0.8 | 0.9 | 0.95 | 0.99 | \n",
       "|---|---|---|---|---|---|---|---|---|---|---|---|---|---|---|---|---|---|---|---|---|---|\n",
       "| chr 1 | 957 | 775 | 650 | 553 | 454 | 389 | 316 | 236 | 159 | 116 | 49  | \n",
       "| chr 2 | 531 | 408 | 350 | 278 | 236 | 194 | 166 | 123 |  76 |  46 | 10  | \n",
       "| chr 3 | 483 | 369 | 302 | 264 | 228 | 191 | 146 | 120 |  94 |  60 | 29  | \n",
       "| chr 4 | 234 | 171 | 138 | 110 | 101 |  88 |  69 |  48 |  34 |  20 |  8  | \n",
       "| chr 5 | 346 | 262 | 211 | 181 | 158 | 122 | 107 |  76 |  46 |  29 |  6  | \n",
       "| chr 6 | 405 | 305 | 248 | 194 | 160 | 129 | 110 |  91 |  68 |  42 | 16  | \n",
       "| chr 7 | 397 | 321 | 273 | 233 | 190 | 149 | 121 |  98 |  78 |  50 | 19  | \n",
       "| chr 8 | 286 | 208 | 177 | 150 | 131 |  94 |  79 |  62 |  38 |  26 |  4  | \n",
       "| chr 9 | 313 | 247 | 212 | 172 | 149 | 123 | 108 |  90 |  42 |  20 |  6  | \n",
       "| chr 10 | 328 | 261 | 214 | 189 | 147 | 113 |  97 |  76 |  47 |  34 | 12  | \n",
       "| chr 11 | 502 | 390 | 330 | 289 | 253 | 216 | 172 | 138 | 103 |  67 | 25  | \n",
       "| chr 12 | 446 | 364 | 300 | 267 | 216 | 179 | 151 | 123 |  94 |  66 | 29  | \n",
       "| chr 13 |  90 |  65 |  50 |  42 |  36 |  29 |  25 |  11 |   6 |   4 |  0  | \n",
       "| chr 14 | 277 | 220 | 172 | 134 | 121 | 106 |  95 |  64 |  38 |  28 |  8  | \n",
       "| chr 15 | 325 | 241 | 205 | 174 | 126 | 105 |  89 |  76 |  39 |  19 |  6  | \n",
       "| chr 16 | 526 | 431 | 382 | 334 | 295 | 246 | 196 | 163 | 101 |  68 | 25  | \n",
       "| chr 17 | 624 | 512 | 421 | 369 | 303 | 262 | 212 | 150 | 102 |  66 | 23  | \n",
       "| chr 18 |  69 |  52 |  42 |  28 |  22 |  21 |  16 |  12 |   4 |   2 |  0  | \n",
       "| chr 19 | 694 | 555 | 456 | 386 | 346 | 280 | 224 | 164 | 111 |  82 | 32  | \n",
       "| chr 20 | 189 | 142 | 110 |  98 |  87 |  62 |  48 |  37 |  14 |   8 |  0  | \n",
       "| chr 21 |  86 |  69 |  57 |  48 |  38 |  32 |  23 |  23 |  10 |   4 |  2  | \n",
       "| chr 22 | 240 | 193 | 167 | 142 | 106 |  92 |  77 |  54 |  40 |  23 |  7  | \n",
       "\n",
       "\n"
      ],
      "text/plain": [
       "       0.1 0.2 0.3 0.4 0.5 0.6 0.7 0.8 0.9 0.95 0.99\n",
       "chr 1  957 775 650 553 454 389 316 236 159 116  49  \n",
       "chr 2  531 408 350 278 236 194 166 123  76  46  10  \n",
       "chr 3  483 369 302 264 228 191 146 120  94  60  29  \n",
       "chr 4  234 171 138 110 101  88  69  48  34  20   8  \n",
       "chr 5  346 262 211 181 158 122 107  76  46  29   6  \n",
       "chr 6  405 305 248 194 160 129 110  91  68  42  16  \n",
       "chr 7  397 321 273 233 190 149 121  98  78  50  19  \n",
       "chr 8  286 208 177 150 131  94  79  62  38  26   4  \n",
       "chr 9  313 247 212 172 149 123 108  90  42  20   6  \n",
       "chr 10 328 261 214 189 147 113  97  76  47  34  12  \n",
       "chr 11 502 390 330 289 253 216 172 138 103  67  25  \n",
       "chr 12 446 364 300 267 216 179 151 123  94  66  29  \n",
       "chr 13  90  65  50  42  36  29  25  11   6   4   0  \n",
       "chr 14 277 220 172 134 121 106  95  64  38  28   8  \n",
       "chr 15 325 241 205 174 126 105  89  76  39  19   6  \n",
       "chr 16 526 431 382 334 295 246 196 163 101  68  25  \n",
       "chr 17 624 512 421 369 303 262 212 150 102  66  23  \n",
       "chr 18  69  52  42  28  22  21  16  12   4   2   0  \n",
       "chr 19 694 555 456 386 346 280 224 164 111  82  32  \n",
       "chr 20 189 142 110  98  87  62  48  37  14   8   0  \n",
       "chr 21  86  69  57  48  38  32  23  23  10   4   2  \n",
       "chr 22 240 193 167 142 106  92  77  54  40  23   7  "
      ]
     },
     "metadata": {},
     "output_type": "display_data"
    }
   ],
   "source": [
    "snps = data.frame(t(snps))\n",
    "colnames(snps) = grid\n",
    "rownames(snps) = paste('chr', 1:22)\n",
    "snps"
   ]
  },
  {
   "cell_type": "markdown",
   "metadata": {
    "tags": [
     "hide_output"
    ]
   },
   "source": [
    "Proportion of SNPs involved are:\n"
   ]
  },
  {
   "cell_type": "code",
   "execution_count": 22,
   "metadata": {
    "kernel": "R"
   },
   "outputs": [
    {
     "data": {
      "text/html": [
       "<dl class=dl-horizontal>\n",
       "\t<dt>0.1</dt>\n",
       "\t\t<dd>0.640675364543361</dd>\n",
       "\t<dt>0.2</dt>\n",
       "\t\t<dd>0.50353031465848</dd>\n",
       "\t<dt>0.3</dt>\n",
       "\t\t<dd>0.419570222563315</dd>\n",
       "\t<dt>0.4</dt>\n",
       "\t\t<dd>0.355717574827322</dd>\n",
       "\t<dt>0.5</dt>\n",
       "\t\t<dd>0.299539524174981</dd>\n",
       "\t<dt>0.6</dt>\n",
       "\t\t<dd>0.247275518035303</dd>\n",
       "\t<dt>0.7</dt>\n",
       "\t\t<dd>0.203146584804298</dd>\n",
       "\t<dt>0.8</dt>\n",
       "\t\t<dd>0.156178050652341</dd>\n",
       "\t<dt>0.9</dt>\n",
       "\t\t<dd>0.103146584804298</dd>\n",
       "\t<dt>0.95</dt>\n",
       "\t\t<dd>0.0675364543361474</dd>\n",
       "\t<dt>0.99</dt>\n",
       "\t\t<dd>0.0242517267843438</dd>\n",
       "</dl>\n"
      ],
      "text/latex": [
       "\\begin{description*}\n",
       "\\item[0.1] 0.640675364543361\n",
       "\\item[0.2] 0.50353031465848\n",
       "\\item[0.3] 0.419570222563315\n",
       "\\item[0.4] 0.355717574827322\n",
       "\\item[0.5] 0.299539524174981\n",
       "\\item[0.6] 0.247275518035303\n",
       "\\item[0.7] 0.203146584804298\n",
       "\\item[0.8] 0.156178050652341\n",
       "\\item[0.9] 0.103146584804298\n",
       "\\item[0.95] 0.0675364543361474\n",
       "\\item[0.99] 0.0242517267843438\n",
       "\\end{description*}\n"
      ],
      "text/markdown": [
       "0.1\n",
       ":   0.6406753645433610.2\n",
       ":   0.503530314658480.3\n",
       ":   0.4195702225633150.4\n",
       ":   0.3557175748273220.5\n",
       ":   0.2995395241749810.6\n",
       ":   0.2472755180353030.7\n",
       ":   0.2031465848042980.8\n",
       ":   0.1561780506523410.9\n",
       ":   0.1031465848042980.95\n",
       ":   0.06753645433614740.99\n",
       ":   0.0242517267843438\n",
       "\n"
      ],
      "text/plain": [
       "       0.1        0.2        0.3        0.4        0.5        0.6        0.7 \n",
       "0.64067536 0.50353031 0.41957022 0.35571757 0.29953952 0.24727552 0.20314658 \n",
       "       0.8        0.9       0.95       0.99 \n",
       "0.15617805 0.10314658 0.06753645 0.02425173 "
      ]
     },
     "metadata": {},
     "output_type": "display_data"
    }
   ],
   "source": [
    "apply(snps, 2, sum) / n_snps"
   ]
  },
  {
   "cell_type": "code",
   "execution_count": 23,
   "metadata": {},
   "outputs": [
    {
     "data": {
      "text/html": [
       "<h2>Session Info</h2>\n",
       "<p class=\"session_section\">SoS</p>\n",
       "<table class=\"session_info\">\n",
       "<tr>\n",
       "<th>SoS Version</th><td><pre>0.9.8.10</pre></td>\n",
       "</tr>\n",
       "<tr>\n",
       "<th>numpy</th><td><pre>1.13.1</pre></td>\n",
       "</tr>\n",
       "</table>\n",
       "<p class=\"session_section\">R</p>\n",
       "<table class=\"session_info\">\n",
       "<tr>\n",
       "<th>Kernel</th><td><pre>ir</pre></td>\n",
       "</tr>\n",
       "<tr>\n",
       "<th>Language</th><td><pre>R</pre></td>\n",
       "</tr>\n",
       "<tr>\n",
       "<td colspan=\"2\"><pre>R version 3.4.0 (2017-04-21)\n",
       "Platform: x86_64-pc-linux-gnu (64-bit)\n",
       "Running under: BunsenLabs GNU/Linux 8.7 (Hydrogen)\n",
       "\n",
       "Matrix products: default\n",
       "BLAS: /usr/lib64/microsoft-r/3.4/lib64/R/lib/libRblas.so\n",
       "LAPACK: /usr/lib/libopenblasp-r0.2.12.so\n",
       "\n",
       "locale:\n",
       " [1] LC_CTYPE=en_US.UTF-8       LC_NUMERIC=C              \n",
       " [3] LC_TIME=en_US.UTF-8        LC_COLLATE=en_US.UTF-8    \n",
       " [5] LC_MONETARY=en_US.UTF-8    LC_MESSAGES=en_US.UTF-8   \n",
       " [7] LC_PAPER=en_US.UTF-8       LC_NAME=C                 \n",
       " [9] LC_ADDRESS=C               LC_TELEPHONE=C            \n",
       "[11] LC_MEASUREMENT=en_US.UTF-8 LC_IDENTIFICATION=C       \n",
       "\n",
       "attached base packages:\n",
       "[1] stats     graphics  grDevices utils     datasets  methods   base     \n",
       "\n",
       "other attached packages:\n",
       "[1] RevoUtilsMath_10.0.0\n",
       "\n",
       "loaded via a namespace (and not attached):\n",
       " [1] compiler_3.4.0      R6_2.2.0            magrittr_1.5       \n",
       " [4] RevoUtils_10.0.4    IRdisplay_0.4.4     pbdZMQ_0.2-5       \n",
       " [7] tools_3.4.0         crayon_1.3.2        uuid_0.1-2         \n",
       "[10] stringi_1.1.5       IRkernel_0.8.7.9000 jsonlite_1.4       \n",
       "[13] stringr_1.2.0       digest_0.6.12       repr_0.12.0        \n",
       "[16] evaluate_0.10      </pre></td>\n",
       "</tr>\n",
       "</table>\n"
      ]
     },
     "metadata": {},
     "output_type": "display_data"
    }
   ],
   "source": [
    "%sessioninfo"
   ]
  }
 ],
 "metadata": {
  "celltoolbar": "Tags",
  "kernelspec": {
   "display_name": "SoS",
   "language": "sos",
   "name": "sos"
  },
  "language_info": {
   "codemirror_mode": "sos",
   "file_extension": ".sos",
   "mimetype": "text/x-sos",
   "name": "sos",
   "nbconvert_exporter": "sos.jupyter.converter.SoS_Exporter",
   "pygments_lexer": "sos"
  },
  "sos": {
   "default_kernel": "SoS",
   "kernels": [
    [
     "R",
     "ir",
     "R",
     "#DCDCDA"
    ],
    [
     "SoS",
     "sos",
     "",
     ""
    ],
    [
     "Python3",
     "python3",
     "Python3",
     "#FFE771"
    ]
   ],
   "panel": {
    "displayed": true,
    "height": 0,
    "style": "side"
   }
  }
 },
 "nbformat": 4,
 "nbformat_minor": 2
}
