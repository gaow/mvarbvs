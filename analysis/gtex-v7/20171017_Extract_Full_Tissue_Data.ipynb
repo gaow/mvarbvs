{
 "cells": [
  {
   "cell_type": "markdown",
   "metadata": {},
   "source": [
    "# Extract per-gene per tissue data\n",
    "\n",
    "For fine mapping demos."
   ]
  },
  {
   "cell_type": "code",
   "execution_count": 3,
   "metadata": {
    "kernel": "R"
   },
   "outputs": [],
   "source": [
    "setwd(\"~/Documents/GTExV8\")\n",
    "load_data = function(genotype_file, expr_file, cov_file, geno_table, expr_table, cov_table) {\n",
    "        library(rhdf5)\n",
    "        geno = h5read(genotype_file, geno_table)\n",
    "        gdata = data.frame(geno$block0_values)\n",
    "        colnames(gdata) = geno$axis1\n",
    "        rownames(gdata) = geno$axis0\n",
    "        #\n",
    "        expr = h5read(expr_file, expr_table)\n",
    "        edata = data.frame(expr$block0_values)\n",
    "        colnames(edata) = tools::file_path_sans_ext(expr$axis1)\n",
    "        edata = data.frame(edata[, basename(geno_table)])\n",
    "        rownames(edata) = expr$axis0\n",
    "        colnames(edata) = basename(geno_table)\n",
    "        #\n",
    "        covariate <- h5read(cov_file, cov_table)\n",
    "        cdata = data.frame(covariate$block0_values)\n",
    "        colnames(cdata) = covariate$axis1\n",
    "        rownames(cdata) = covariate$axis0\n",
    "        cdata = t(cdata)\n",
    "        # reorder\n",
    "        edata = edata[match(rownames(cdata), rownames(edata)),]\n",
    "        gdata = gdata[rownames(cdata),]\n",
    "        return(list(X = as.matrix(gdata), y = as.vector(edata), Z = as.matrix(cdata), chrom = strsplit(colnames(gdata)[1], '_')[[1]][1], \n",
    "                    pos = as.integer(do.call(rbind, strsplit(colnames(gdata), '_'))[,2])))\n",
    "    }\n",
    "\n",
    "genotype_file = \"GTExV8.genotype.cis.h5\"\n",
    "expr_file = \"GTExV8.expression.h5\"\n",
    "cov_file = \"GTExV8.covariates.h5\"\n",
    "## \n",
    "geno_table = \"/chr1/ENSG00000094963\"\n",
    "expr_table = \"/Thyroid\"\n",
    "cov_table = \"/Thyroid\"\n",
    "dat = load_data(genotype_file, expr_file, cov_file, geno_table, expr_table, cov_table)\n",
    "saveRDS(dat, 'Thyroid.FMO2.pm1Mb.RDS')\n",
    "\n",
    "## \n",
    "geno_table = \"/chr11/ENSG00000248746\"\n",
    "expr_table = \"/Muscle_Skeletal\"\n",
    "cov_table = \"/Muscle_Skeletal\"\n",
    "dat = load_data(genotype_file, expr_file, cov_file, geno_table, expr_table, cov_table)\n",
    "saveRDS(dat, 'Muscle_Skeletal.ACTN3.pm1Mb.RDS')"
   ]
  }
 ],
 "metadata": {
  "kernelspec": {
   "display_name": "SoS",
   "language": "sos",
   "name": "sos"
  },
  "language_info": {
   "codemirror_mode": "sos",
   "file_extension": ".sos",
   "mimetype": "text/x-sos",
   "name": "sos",
   "nbconvert_exporter": "sos_notebook.converter.SoS_Exporter",
   "pygments_lexer": "sos"
  },
  "sos": {
   "default_kernel": "R",
   "kernels": [
    [
     "R",
     "ir",
     "R",
     "#DCDCDA"
    ],
    [
     "Python3",
     "python3",
     "Python3",
     "#FFE771"
    ],
    [
     "SoS",
     "sos",
     "",
     ""
    ]
   ],
   "panel": {
    "displayed": true,
    "height": 0,
    "style": "side"
   }
  }
 },
 "nbformat": 4,
 "nbformat_minor": 2
}
