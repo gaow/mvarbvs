{
 "cells": [
  {
   "cell_type": "markdown",
   "metadata": {},
   "source": [
    "# Extract dataset for given genes\n",
    "A procedure useful to create toy data from data bundle for methods development and closer look at real data of interest."
   ]
  },
  {
   "cell_type": "markdown",
   "metadata": {},
   "source": [
    "As an example we focus on genes selected due to the [LD show-case table in the mash paper](https://stephenslab.github.io/gtexresults_mash/TwoSNP/2SNP.sos): see [this table](https://stephenslab.github.io/gtexresults_mash/TwoSNP/) for motivation that these genes get selected.\n",
    "\n",
    "Note that this workflow itself can take an arbitary list of genes down the line, via \n",
    "\n",
    "```\n",
    "sos run this_notebook.ipynb extract_gene_data --glist /path/to/genelist.txt\n",
    "```\n",
    "\n",
    "This can be useful to select genes of interest for specific analysis. See implementation below."
   ]
  },
  {
   "cell_type": "code",
   "execution_count": 1,
   "metadata": {
    "collapsed": true,
    "kernel": "SoS"
   },
   "outputs": [],
   "source": [
    "[global]\n",
    "parameter: cwd = '~/Documents/GTEx'\n",
    "parameter: glist = '~/Documents/GIT/github/gtex-eqtls/data/3mashgenes.txt'\n",
    "rna_cnts = \"~/Documents/GTEx/gtex7/rna-seq/GTEx_Data_2016-01-15_v7_RNA-seq_RNA-SeQCv1.1.8_gene_reads.gct.gz\"\n",
    "parameter: ann_file = \"${cwd!a}/h5_formatted/${rna_cnts!bn}.annotation\"\n",
    "parameter: geno_file = \"${cwd!a}/h5_formatted/GTEx7.Imputed.genotyped.filtered.cis.h5\"\n",
    "parameter: expr_file = \"${cwd!a}/rna_processed/GTEx_Data_2016-01-15_v7_RNA-seq_RNA-SeQCv1.1.8_gene_rpkm.qnorm.std.h5\"\n",
    "\n",
    "[extract_gene_data]\n",
    "# Given gene list, extract SNP and expression data from formatted database\n",
    "input: geno_file, expr_file\n",
    "output: \"${cwd!a}/ToyExample/${glist!bn}.genotype.h5\", \"${cwd!a}/ToyExample/${glist!bn}.expr.h5\"\n",
    "task: workdir = cwd\n",
    "python:\n",
    "    import pandas as pd\n",
    "    import os\n",
    "    # load gene annotation\n",
    "    ann = pd.read_csv(${ann_file!ar}, header = None, names = ['chr', 'gene'], sep = ' ', usecols = (0,3))\n",
    "    ann = {g:c for g, c in zip(ann['gene'], ann['chr'])}\n",
    "    # load gene list\n",
    "    genes = pd.read_csv(${glist!ar}, header = None)[0]\n",
    "    # purge existing toy\n",
    "    gfile = ${output[0]!r}\n",
    "    efile = ${output[1]!r}\n",
    "    if os.path.isfile(gfile):\n",
    "       os.remove(gfile)\n",
    "    if os.path.isfile(efile):\n",
    "       os.remove(efile)\n",
    "    # build & save genotypes\n",
    "    for g in genes:\n",
    "        g = g.split('.')[0]\n",
    "        if g not in ann:\n",
    "           print(\"Gene {} not found\".format(g))\n",
    "           continue\n",
    "        chrom = ann[g]\n",
    "        geno = pd.read_hdf(${input[0]!r}, 'chr{}/{}'.format(chrom, g))\n",
    "        geno.to_hdf(gfile, 'chr{}/{}'.format(chrom, g), mode = 'a', complevel = 9, complib = 'zlib')\n",
    "    # extract & save expression\n",
    "    for key in pd.HDFStore(${input[1]!r}).keys():\n",
    "        expr = pd.read_hdf(${input[1]!r}, key).loc[genes]\n",
    "        expr.to_hdf(efile, key, mode = 'a', complevel = 9, complib = 'zlib')"
   ]
  },
  {
   "cell_type": "code",
   "execution_count": 2,
   "metadata": {
    "kernel": "SoS"
   },
   "outputs": [
    {
     "data": {
      "text/html": [
       "<table id=\"table_localhost_516639420143ee2775c6219cdf3ce824\" style=\"border: 0px\"><tr style=\"border: 0px\">\n",
       "                        <td style=\"border: 0px\">\n",
       "                        <i id=\"status_localhost_516639420143ee2775c6219cdf3ce824\"\n",
       "                            class=\"fa fa-2x fa-fw fa-square-o\"\n",
       "                            onmouseover=\"$('#status_localhost_516639420143ee2775c6219cdf3ce824').addClass('fa-stop').removeClass('fa-square-o')\"\n",
       "                            onmouseleave=\"$('#status_localhost_516639420143ee2775c6219cdf3ce824').addClass('fa-square-o').removeClass('fa-stop')\"\n",
       "                            onclick=\"kill_task('516639420143ee2775c6219cdf3ce824', 'localhost')\"\n",
       "                        ></i> </td>\n",
       "                        <td style=\"border:0px\"><a onclick=\"task_info('516639420143ee2775c6219cdf3ce824', 'localhost')\"><pre>516639420143ee2775c6219cdf3ce824</pre></a></td>\n",
       "                        <td style=\"border:0px\">&nbsp;</td>\n",
       "                        <td style=\"border:0px;text-align=right;\">\n",
       "                        <pre><time id=\"duration_localhost_516639420143ee2775c6219cdf3ce824\" datetime=\"1503945430197.111\">0 sec</time></pre></td>\n",
       "                        </tr>\n",
       "                        </table>"
      ]
     },
     "metadata": {},
     "output_type": "display_data"
    }
   ],
   "source": [
    "%sosrun extract_gene_data"
   ]
  },
  {
   "cell_type": "code",
   "execution_count": 3,
   "metadata": {},
   "outputs": [
    {
     "data": {
      "text/html": [
       "<p class=\"session_section\">SoS</p>\n",
       "<table class=\"session_info\">\n",
       "<tr>\n",
       "<th>SoS Version</th><td><pre>0.9.8.10</pre></td>\n",
       "</tr>\n",
       "</table>\n"
      ]
     },
     "metadata": {},
     "output_type": "display_data"
    }
   ],
   "source": [
    "%sessioninfo"
   ]
  }
 ],
 "metadata": {
  "kernelspec": {
   "display_name": "SoS",
   "language": "sos",
   "name": "sos"
  },
  "language_info": {
   "codemirror_mode": "sos",
   "file_extension": ".sos",
   "mimetype": "text/x-sos",
   "name": "sos",
   "nbconvert_exporter": "sos.jupyter.converter.SoS_Exporter",
   "pygments_lexer": "sos"
  },
  "sos": {
   "default_kernel": "SoS",
   "kernels": [
    [
     "SoS",
     "sos",
     "",
     ""
    ],
    [
     "Python3",
     "python3",
     "Python3",
     "#FFE771"
    ],
    [
     "R",
     "ir",
     "R",
     "#DCDCDA"
    ]
   ],
   "panel": {
    "displayed": true,
    "height": 0,
    "style": "side"
   }
  }
 },
 "nbformat": 4,
 "nbformat_minor": 2
}
