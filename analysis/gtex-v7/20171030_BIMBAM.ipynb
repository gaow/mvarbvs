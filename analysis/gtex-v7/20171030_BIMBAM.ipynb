{
 "cells": [
  {
   "cell_type": "markdown",
   "metadata": {},
   "source": [
    "# BIMBAM analysis with selected set of FMO2 SNPs for Thyroid\n",
    "We pick a few hundred SNPs that harbors eQTLs (3 or 4 eQTLs) and analyze with BIMBAM. Here we focus on regions between 171.12Mb to 171.20Mb on chr1, based on [what we've previously learned](20171027_BVS_MR_ASH.html)."
   ]
  },
  {
   "cell_type": "markdown",
   "metadata": {},
   "source": [
    "## Get subset of SNPs"
   ]
  },
  {
   "cell_type": "code",
   "execution_count": 4,
   "metadata": {
    "kernel": "R"
   },
   "outputs": [],
   "source": [
    "dat = readRDS('../data/Thyroid.FMO2.2Mb.RDS')\n",
    "X = dat$X[,3501:4500]"
   ]
  },
  {
   "cell_type": "code",
   "execution_count": 30,
   "metadata": {
    "kernel": "R"
   },
   "outputs": [],
   "source": [
    "snps = colnames(X)\n",
    "cat(paste0(rownames(dat$Z),collapse='\\n'), file = '/tmp/Thyroid.samples')"
   ]
  },
  {
   "cell_type": "code",
   "execution_count": 7,
   "metadata": {
    "kernel": "R"
   },
   "outputs": [],
   "source": [
    "%put snps"
   ]
  },
  {
   "cell_type": "code",
   "execution_count": 8,
   "metadata": {
    "kernel": "Python3"
   },
   "outputs": [],
   "source": [
    "%get snps"
   ]
  },
  {
   "cell_type": "code",
   "execution_count": 11,
   "metadata": {
    "kernel": "Python3"
   },
   "outputs": [
    {
     "name": "stdout",
     "output_type": "stream",
     "text": [
      "chr1_171097715_C_T_b38 chr1_171323497_T_C_b38\n"
     ]
    }
   ],
   "source": [
    "print(snps[0], snps[-1])"
   ]
  },
  {
   "cell_type": "code",
   "execution_count": 12,
   "metadata": {
    "collapsed": true,
    "kernel": "SoS"
   },
   "outputs": [],
   "source": [
    "geno = '~/Documents/GTExV8/genotypes/GTEx_Analysis_2017-06-05_v8_WholeGenomeSeq_838Indiv_Analysis_Freeze_MAF001_GTonly.vcf.gz'"
   ]
  },
  {
   "cell_type": "markdown",
   "metadata": {},
   "source": [
    "Here I have to exclude indels because BIMBAM cannot handle it. Also I include about 400 SNPs for computational convenience."
   ]
  },
  {
   "cell_type": "markdown",
   "metadata": {},
   "source": [
    "## Convert to BIMBAM genotype"
   ]
  },
  {
   "cell_type": "code",
   "execution_count": 33,
   "metadata": {
    "kernel": "SoS"
   },
   "outputs": [],
   "source": [
    "bash:\n",
    "    tabix ${geno} chr1:171120000-171200000 --print-header | awk '(length($4)==1 && length($5)==1) || $1 ~ /^#/' > /tmp/Thyroid.FMO2.selected.vcf"
   ]
  },
  {
   "cell_type": "code",
   "execution_count": 34,
   "metadata": {
    "kernel": "SoS"
   },
   "outputs": [
    {
     "name": "stdout",
     "output_type": "stream",
     "text": [
      "PLINK v1.90b4.1 64-bit (30 Mar 2017)           www.cog-genomics.org/plink/1.9/\n",
      "(C) 2005-2017 Shaun Purcell, Christopher Chang   GNU General Public License v3\n",
      "Logging to /tmp/Thyroid.FMO2.bimbam.log.\n",
      "Options in effect:\n",
      "  --keep /dev/fd/63\n",
      "  --out /tmp/Thyroid.FMO2.bimbam\n",
      "  --recode bimbam-1chr\n",
      "  --vcf /tmp/Thyroid.FMO2.selected.vcf\n",
      "\n",
      "64307 MB RAM detected; reserving 32153 MB for main workspace.\n",
      "--vcf: /tmp/Thyroid.FMO2.bimbam-temporary.bed +\n",
      "/tmp/Thyroid.FMO2.bimbam-temporary.bim + /tmp/Thyroid.FMO2.bimbam-temporary.fam\n",
      "written.\n",
      "365 variants loaded from .bim file.\n",
      "838 people (0 males, 0 females, 838 ambiguous) loaded from .fam.\n",
      "Ambiguous sex IDs written to /tmp/Thyroid.FMO2.bimbam.nosex .\n",
      "--keep: 574 people remaining.\n",
      "Using 1 thread (no multithreaded calculations invoked).\n",
      "Before main variant filters, 574 founders and 0 nonfounders present.\n",
      "Calculating allele frequencies... 10111213141516171819202122232425262728293031323334353637383940414243444546474849505152535455565758596061626364656667686970717273747576777879808182838485868788899091929394959697989 done.\n",
      "Total genotyping rate in remaining samples is 0.997432.\n",
      "365 variants and 574 people pass filters and QC.\n",
      "Note: No phenotypes present.\n",
      "--recode bimbam-1chr to /tmp/Thyroid.FMO2.bimbam.recode.geno.txt +\n",
      "/tmp/Thyroid.FMO2.bimbam.recode.pheno.txt +\n",
      "/tmp/Thyroid.FMO2.bimbam.recode.pos.txt ... 101112131415161718192021222324252627282930313233343536373839404142434445464748495051525354555657585960616263646566676869707172737475767778798081828384858687888990919293949596979899done.\n"
     ]
    }
   ],
   "source": [
    "bash:\n",
    "    plink --vcf /tmp/Thyroid.FMO2.selected.vcf --recode bimbam-1chr \\\n",
    "        --out /tmp/Thyroid.FMO2.bimbam --keep <(awk '{print $1,$1}' /tmp/Thyroid.samples)"
   ]
  },
  {
   "cell_type": "markdown",
   "metadata": {},
   "source": [
    "## Prepare BIMBAM phenotype"
   ]
  },
  {
   "cell_type": "code",
   "execution_count": 35,
   "metadata": {
    "kernel": "R"
   },
   "outputs": [],
   "source": [
    "y = .lm.fit(dat$Z, dat$y)$residuals\n",
    "cat(paste0(y,collapse='\\n'), file = '/tmp/Thyroid.FMO2.bimbam.recode.pheno.txt')"
   ]
  },
  {
   "cell_type": "markdown",
   "metadata": {},
   "source": [
    "## Run BIMBAM"
   ]
  },
  {
   "cell_type": "code",
   "execution_count": 37,
   "metadata": {
    "kernel": "SoS"
   },
   "outputs": [
    {
     "name": "stdout",
     "output_type": "stream",
     "text": [
      "-bimbam: position files contain 365 records.\n",
      "-bimbam: file 0 has 574 individual and 365 snps\n",
      "-bimbam: read file 0 again \n",
      "-bimbam: number of phenotypes = 1\n",
      "-bimbam: single snp analysis of typed snps:  [>>>>>>>>>>>>>>>>>>>>>>>>>>>>>>>>>>>>>>>>>>>>>>>>>>] 100%\n",
      "-bimbam: multi-snp analysis of exact genotypes:  [>>>>>>>>>>>>>>>>>>>>>>>>>>>>>>>>>>>>>>>>>>>>>>>>>>] 100%\n",
      "-bimbam: finished, for details see log: pref4.log.txt\n"
     ]
    },
    {
     "name": "stderr",
     "output_type": "stream",
     "text": [
      "RuntimeError: Failed to execute commmand ``/bin/bash /home/gaow/GIT/github/gtex-eqtls/analysis/.sos/scratch_0_0_7c56f7b2.sh`` (ret=1, workdir=/home/gaow/GIT/github/gtex-eqtls/analysis)\n"
     ]
    }
   ],
   "source": [
    "bash:\n",
    "    bimbam-lin -g /tmp/Thyroid.FMO2.bimbam.recode.geno.txt -p /tmp/Thyroid.FMO2.bimbam.recode.pheno.txt -pos /tmp/Thyroid.FMO2.bimbam.recode.pos.txt \\\n",
    "                -o pref4 -l 3"
   ]
  },
  {
   "cell_type": "markdown",
   "metadata": {},
   "source": [
    "BIMBAM of 365 SNPs and `-l 4` (up to 4 SNPs in multi-snp analysis) will use more than 64GB memory and gets killed. Try it with `-l 3`."
   ]
  },
  {
   "cell_type": "markdown",
   "metadata": {},
   "source": [
    "## Summarize BIMBAM results"
   ]
  },
  {
   "cell_type": "markdown",
   "metadata": {},
   "source": [
    "First, read all BIMBAM multi-snp results, sort by BF factors and match with SNP positions for convenience of interpretation."
   ]
  },
  {
   "cell_type": "code",
   "execution_count": 38,
   "metadata": {
    "kernel": "Python3"
   },
   "outputs": [],
   "source": [
    "bfs = [x.strip().split() for x in open('output/pref4.multi.txt').readlines()]"
   ]
  },
  {
   "cell_type": "code",
   "execution_count": 41,
   "metadata": {
    "kernel": "Python3"
   },
   "outputs": [],
   "source": [
    "snps = [x.strip().split() for x in open('/tmp/Thyroid.FMO2.bimbam.recode.pos.txt').readlines()]"
   ]
  },
  {
   "cell_type": "code",
   "execution_count": 42,
   "metadata": {
    "kernel": "Python3"
   },
   "outputs": [],
   "source": [
    "bfs = [x for x in bfs if x[0].startswith('+') or x[0].startswith('-')]"
   ]
  },
  {
   "cell_type": "code",
   "execution_count": 48,
   "metadata": {
    "kernel": "Python3"
   },
   "outputs": [],
   "source": [
    "bfs_sorted = sorted(bfs, key = lambda x: float(x[0]), reverse = True)"
   ]
  },
  {
   "cell_type": "code",
   "execution_count": 58,
   "metadata": {
    "kernel": "Python3"
   },
   "outputs": [],
   "source": [
    "top_models = [[x[0], \n",
    "               snps[int(x[2])-1][0] if x[2] != 'NA' else 'NA', \n",
    "               snps[int(x[3])-1][0] if x[3] != 'NA' else 'NA', \n",
    "               snps[int(x[4])-1][0] if x[4] != 'NA' else 'NA'] \\\n",
    "              for x in bfs_sorted]"
   ]
  },
  {
   "cell_type": "code",
   "execution_count": 60,
   "metadata": {
    "kernel": "Python3"
   },
   "outputs": [],
   "source": [
    "with open('/home/gaow/Documents/GTExV8/Toys/FMO2/Thyroid.FMO2.bimbam.out', 'w') as f:\n",
    "    f.write('\\n'.join(['\\t'.join(x) for x in top_models]))"
   ]
  },
  {
   "cell_type": "code",
   "execution_count": 61,
   "metadata": {
    "kernel": "SoS"
   },
   "outputs": [],
   "source": [
    "bash:\n",
    "     gzip --best /home/gaow/Documents/GTExV8/Toys/FMO2/Thyroid.FMO2.bimbam.out"
   ]
  },
  {
   "cell_type": "code",
   "execution_count": 69,
   "metadata": {
    "kernel": "SoS",
    "tags": [
     "report_cell"
    ]
   },
   "outputs": [
    {
     "data": {
      "text/html": [
       "<div class=\"sos_hint\">> /home/gaow/Documents/GTExV8/Toys/FMO2/Thyroid.FMO2.bimbam.out.gz (44.0 MiB):</div>"
      ],
      "text/plain": [
       "\n",
       "> /home/gaow/Documents/GTExV8/Toys/FMO2/Thyroid.FMO2.bimbam.out.gz (44.0 MiB):"
      ]
     },
     "metadata": {},
     "output_type": "display_data"
    },
    {
     "name": "stdout",
     "output_type": "stream",
     "text": [
      "+25.825\tchr1_171140916_T_C_b38\tchr1_171172098_C_T_b38\tchr1_171190872_G_A_b38\n",
      "+25.691\tchr1_171140916_T_C_b38\tchr1_171164750_C_A_b38\tchr1_171172098_C_T_b38\n",
      "+25.691\tchr1_171140916_T_C_b38\tchr1_171172098_C_T_b38\tchr1_171178705_A_G_b38\n",
      "+25.609\tchr1_171140916_T_C_b38\tchr1_171172098_C_T_b38\tchr1_171174538_G_C_b38\n",
      "+25.538\tchr1_171122735_A_G_b38\tchr1_171172098_C_T_b38\tchr1_171190872_G_A_b38\n"
     ]
    }
   ],
   "source": [
    "%preview /home/gaow/Documents/GTExV8/Toys/FMO2/Thyroid.FMO2.bimbam.out.gz"
   ]
  },
  {
   "cell_type": "markdown",
   "metadata": {},
   "source": [
    "Then for each of the top 4 SNPs identified by `varbvsmix` and `varbvs`, I `grep` the relevant multi-SNP set in BIMBAM result and see the BF factors.\n",
    "\n",
    "### For varbvsmix"
   ]
  },
  {
   "cell_type": "code",
   "execution_count": 70,
   "metadata": {
    "kernel": "SoS",
    "tags": [
     "report_cell"
    ]
   },
   "outputs": [
    {
     "data": {
      "text/html": [
       "<div class=\"sos_hint\">> /home/gaow/Documents/GTExV8/Toys/FMO2/Thyroid.FMO2.bimbam.bvsmix.gz (2.2 MiB):</div>"
      ],
      "text/plain": [
       "\n",
       "> /home/gaow/Documents/GTExV8/Toys/FMO2/Thyroid.FMO2.bimbam.bvsmix.gz (2.2 MiB):"
      ]
     },
     "metadata": {},
     "output_type": "display_data"
    },
    {
     "name": "stdout",
     "output_type": "stream",
     "text": [
      "1:+25.825\tchr1_171140916_T_C_b38\tchr1_171172098_C_T_b38\tchr1_171190872_G_A_b38\n",
      "2:+25.691\tchr1_171140916_T_C_b38\tchr1_171164750_C_A_b38\tchr1_171172098_C_T_b38\n",
      "3:+25.691\tchr1_171140916_T_C_b38\tchr1_171172098_C_T_b38\tchr1_171178705_A_G_b38\n",
      "4:+25.609\tchr1_171140916_T_C_b38\tchr1_171172098_C_T_b38\tchr1_171174538_G_C_b38\n",
      "5:+25.538\tchr1_171122735_A_G_b38\tchr1_171172098_C_T_b38\tchr1_171190872_G_A_b38\n"
     ]
    }
   ],
   "source": [
    "%preview /home/gaow/Documents/GTExV8/Toys/FMO2/Thyroid.FMO2.bimbam.bvsmix.gz\n",
    "bash:\n",
    "    zcat /home/gaow/Documents/GTExV8/Toys/FMO2/Thyroid.FMO2.bimbam.out.gz | grep -n -P \\\n",
    "    'chr1_171172098_C_T_b38|chr1_171199984_T_C_b38|chr1_171122735_A_G_b38|chr1_171133158_A_G_b38' \\\n",
    "    | gzip --best > /home/gaow/Documents/GTExV8/Toys/FMO2/Thyroid.FMO2.bimbam.bvsmix.gz"
   ]
  },
  {
   "cell_type": "markdown",
   "metadata": {},
   "source": [
    "### For varbvs"
   ]
  },
  {
   "cell_type": "code",
   "execution_count": 71,
   "metadata": {
    "kernel": "SoS",
    "tags": [
     "report_cell"
    ]
   },
   "outputs": [
    {
     "data": {
      "text/html": [
       "<div class=\"sos_hint\">> /home/gaow/Documents/GTExV8/Toys/FMO2/Thyroid.FMO2.bimbam.bvs.gz (2.2 MiB):</div>"
      ],
      "text/plain": [
       "\n",
       "> /home/gaow/Documents/GTExV8/Toys/FMO2/Thyroid.FMO2.bimbam.bvs.gz (2.2 MiB):"
      ]
     },
     "metadata": {},
     "output_type": "display_data"
    },
    {
     "name": "stdout",
     "output_type": "stream",
     "text": [
      "2:+25.691\tchr1_171140916_T_C_b38\tchr1_171164750_C_A_b38\tchr1_171172098_C_T_b38\n",
      "13:+25.497\tchr1_171140916_T_C_b38\tchr1_171168633_C_A_b38\tchr1_171190872_G_A_b38\n",
      "19:+25.430\tchr1_171122735_A_G_b38\tchr1_171164750_C_A_b38\tchr1_171172098_C_T_b38\n",
      "23:+25.363\tchr1_171140916_T_C_b38\tchr1_171164750_C_A_b38\tchr1_171168633_C_A_b38\n",
      "24:+25.363\tchr1_171140916_T_C_b38\tchr1_171164750_C_A_b38\tchr1_171169344_G_A_b38\n"
     ]
    }
   ],
   "source": [
    "%preview /home/gaow/Documents/GTExV8/Toys/FMO2/Thyroid.FMO2.bimbam.bvs.gz\n",
    "bash:\n",
    "    zcat /home/gaow/Documents/GTExV8/Toys/FMO2/Thyroid.FMO2.bimbam.out.gz | grep -n -P \\\n",
    "    'chr1_171168633_C_A_b38|chr1_171147265_C_A_b38|chr1_171164750_C_A_b38|chr1_171178589_C_T_b38' \\\n",
    "    | gzip --best > /home/gaow/Documents/GTExV8/Toys/FMO2/Thyroid.FMO2.bimbam.bvs.gz"
   ]
  },
  {
   "cell_type": "markdown",
   "metadata": {},
   "source": [
    "So at the face value, `varbvsmix` picked up `chr1_171172098_C_T_b38` which is part of the strongest association signal identified by BIMBAM."
   ]
  }
 ],
 "metadata": {
  "celltoolbar": "Tags",
  "kernelspec": {
   "display_name": "SoS",
   "language": "sos",
   "name": "sos"
  },
  "language_info": {
   "codemirror_mode": "sos",
   "file_extension": ".sos",
   "mimetype": "text/x-sos",
   "name": "sos",
   "nbconvert_exporter": "sos_notebook.converter.SoS_Exporter",
   "pygments_lexer": "sos"
  },
  "sos": {
   "default_kernel": "SoS",
   "kernels": [
    [
     "Python3",
     "python3",
     "Python3",
     "#FFE771"
    ],
    [
     "R",
     "ir",
     "R",
     "#DCDCDA"
    ],
    [
     "SoS",
     "sos",
     "",
     ""
    ]
   ],
   "panel": {
    "displayed": false,
    "height": 0,
    "style": "side"
   }
  }
 },
 "nbformat": 4,
 "nbformat_minor": 2
}
