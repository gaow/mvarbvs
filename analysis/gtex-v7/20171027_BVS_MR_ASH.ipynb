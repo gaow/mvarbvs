{
 "cells": [
  {
   "cell_type": "markdown",
   "metadata": {},
   "source": [
    "# Analyzing a toy example with `varbvs` and `mr-ash`"
   ]
  },
  {
   "cell_type": "markdown",
   "metadata": {},
   "source": [
    "In this example we analyze a data set where there is potentially multiple SNPs associated with gene expression. We use both `bvs` and `mr-ash` methods, initializing both of them with results from `lasso`."
   ]
  },
  {
   "cell_type": "markdown",
   "metadata": {},
   "source": [
    "## Utility functions\n"
   ]
  },
  {
   "cell_type": "code",
   "execution_count": 1,
   "metadata": {},
   "outputs": [],
   "source": [
    "autoselect.mixsd = function(betahat,sebetahat,mult = sqrt(2)){\n",
    "        # To avoid exact measure causing (usually by mistake)\n",
    "        sebetahat = sebetahat[sebetahat!=0] \n",
    "        # so that the minimum is small compared with measurement precision\n",
    "        sigmaamin = min(sebetahat)/10 \n",
    "        if (all(betahat^2 <= sebetahat^2)) {\n",
    "            # to deal with the occassional odd case where this could happen; 8 is arbitrary\n",
    "            sigmaamax = 8*sigmaamin \n",
    "        } else {\n",
    "            # this computes a rough largest value you'd want to use, \n",
    "            # based on idea that sigmaamax^2 + sebetahat^2 should be at least betahat^2   \n",
    "            sigmaamax = 2*sqrt(max(betahat^2-sebetahat^2)) \n",
    "        }\n",
    "        if(mult==0){\n",
    "            return(c(0,sigmaamax/2))\n",
    "        } else {\n",
    "            npoint = ceiling(log2(sigmaamax/sigmaamin)/log2(mult))\n",
    "            return(mult^((-npoint):0) * sigmaamax)\n",
    "        }\n",
    "    }\n",
    "univariate_regression = function(X,y,Z = NULL){\n",
    "        P = dim(X)[2]\n",
    "        if (!is.null(Z)) {\n",
    "            y = lm(y~Z)$residuals\n",
    "        }\n",
    "        output = matrix(0,nrow = P,ncol = 2)\n",
    "        for(i in 1:P){\n",
    "          g = summary(lm(y ~ X[,i]))\n",
    "          output[i,] = g$coefficients[2,1:2]\n",
    "        }\n",
    "        return(list(betahat = output[,1], sebetahat = output[,2], \n",
    "                    residuals = y))\n",
    "    }\n",
    "lasso_reorder = function(X, y) {\n",
    "        # perform lasso regression and reorder regressors by \"importance\"\n",
    "        fit.glmnet <- glmnet::glmnet(X, y, intercept = F)\n",
    "        beta_path = coef(fit.glmnet)[-1,]\n",
    "        K = dim(beta_path)[2]\n",
    "        path_order = c()\n",
    "        for (k in 1:K) {\n",
    "            crt_path = which(beta_path[,k] != 0)\n",
    "            if (length(crt_path) != 0 & length(path_order) == 0) {\n",
    "                path_order = c(path_order, crt_path)\n",
    "            } else if(length(crt_path) != 0) {\n",
    "                path_order = c(path_order, crt_path[-which(crt_path %in% path_order)] )\n",
    "            }\n",
    "        }\n",
    "        path_order = unname(path_order)\n",
    "        index_order = c(path_order, seq(1,dim(beta_path)[1])[-path_order])\n",
    "        return(index_order)\n",
    "    }\n",
    "\n",
    "# compute fitted values from varbvsmix \n",
    "fitfv = function(X,Z,fit){\n",
    "  bhat = rowSums(fit$alpha*fit$mu)\n",
    "  return(X %*% bhat + fit$mu.cov[1] + Z %*% fit$mu.cov[-1])\n",
    "}"
   ]
  },
  {
   "cell_type": "markdown",
   "metadata": {},
   "source": [
    "## Core analysis"
   ]
  },
  {
   "cell_type": "code",
   "execution_count": 2,
   "metadata": {},
   "outputs": [],
   "source": [
    "input_file = \"../data/Thyroid.FMO2.1Mb.RDS\"\n",
    "dat = readRDS(input_file)\n",
    "X = as.matrix(dat$X)\n",
    "X = X[,which(colSums(X)!=0)]\n",
    "storage.mode(X) <- \"double\"\n",
    "y = as.vector(dat$y)\n",
    "Z = as.matrix(dat$Z)\n",
    "# univariate results\n",
    "initial = univariate_regression(X, y ,Z)\n",
    "mixsd = autoselect.mixsd(initial$betahat, initial$sebetahat)\n",
    "mu_zero = matrix(0, ncol = length(mixsd)+1, nrow = ncol(X))\n",
    "alpha_zero = matrix(1/ncol(X), ncol = length(mixsd)+1,nrow = ncol(X))\n",
    "alpha_zero[,1] = 1 - length(mixsd) / ncol(X)\n",
    "index_order = lasso_reorder(X, initial$residuals)\n",
    "# bvsmix with lasso init vs random init\n",
    "fit11 = varbvs::varbvsmix(X[, index_order], \n",
    "                         Z, y, sa = c(0,mixsd^2),\n",
    "                         mu = mu_zero,\n",
    "                         alpha = alpha_zero,\n",
    "                         verbose = F)\n",
    "fit12 = varbvs::varbvsmix(X, \n",
    "                         Z, y, sa = c(0,mixsd^2),\n",
    "                         verbose = F)\n",
    "# bvsmix with lasso init vs random init\n",
    "fit21 = varbvs::varbvs(X[, index_order], Z, y, mu = mu_zero, alpha = alpha_zero, verbose = F)\n",
    "fit22 = varbvs::varbvs(X, Z, y, verbose = F)"
   ]
  },
  {
   "cell_type": "markdown",
   "metadata": {},
   "source": [
    "## Check top hits with lasso init"
   ]
  },
  {
   "cell_type": "code",
   "execution_count": 3,
   "metadata": {},
   "outputs": [
    {
     "data": {
      "text/html": [
       "<table>\n",
       "<tbody>\n",
       "\t<tr><th scope=row>chr1_171172098_C_T_b38</th><td>1.0000000   </td><td>1.000000e+00</td></tr>\n",
       "\t<tr><th scope=row>chr1_171122735_A_G_b38</th><td>1.0000000   </td><td>5.495719e-03</td></tr>\n",
       "\t<tr><th scope=row>chr1_171190872_G_A_b38</th><td>0.4840977   </td><td>1.914625e-05</td></tr>\n",
       "\t<tr><th scope=row>chr1_171219393_T_A_b38</th><td>0.4827524   </td><td>2.446432e-05</td></tr>\n",
       "\t<tr><th scope=row>chr1_171178705_A_G_b38</th><td>0.4825416   </td><td>2.025857e-05</td></tr>\n",
       "</tbody>\n",
       "</table>\n"
      ],
      "text/latex": [
       "\\begin{tabular}{r|ll}\n",
       "\tchr1\\_171172098\\_C\\_T\\_b38 & 1.0000000    & 1.000000e+00\\\\\n",
       "\tchr1\\_171122735\\_A\\_G\\_b38 & 1.0000000    & 5.495719e-03\\\\\n",
       "\tchr1\\_171190872\\_G\\_A\\_b38 & 0.4840977    & 1.914625e-05\\\\\n",
       "\tchr1\\_171219393\\_T\\_A\\_b38 & 0.4827524    & 2.446432e-05\\\\\n",
       "\tchr1\\_171178705\\_A\\_G\\_b38 & 0.4825416    & 2.025857e-05\\\\\n",
       "\\end{tabular}\n"
      ],
      "text/markdown": [
       "\n",
       "| chr1_171172098_C_T_b38 | 1.0000000    | 1.000000e+00 | \n",
       "| chr1_171122735_A_G_b38 | 1.0000000    | 5.495719e-03 | \n",
       "| chr1_171190872_G_A_b38 | 0.4840977    | 1.914625e-05 | \n",
       "| chr1_171219393_T_A_b38 | 0.4827524    | 2.446432e-05 | \n",
       "| chr1_171178705_A_G_b38 | 0.4825416    | 2.025857e-05 | \n",
       "\n",
       "\n"
      ],
      "text/plain": [
       "                       [,1]      [,2]        \n",
       "chr1_171172098_C_T_b38 1.0000000 1.000000e+00\n",
       "chr1_171122735_A_G_b38 1.0000000 5.495719e-03\n",
       "chr1_171190872_G_A_b38 0.4840977 1.914625e-05\n",
       "chr1_171219393_T_A_b38 0.4827524 2.446432e-05\n",
       "chr1_171178705_A_G_b38 0.4825416 2.025857e-05"
      ]
     },
     "metadata": {},
     "output_type": "display_data"
    }
   ],
   "source": [
    "mix.top = names(sort(fit11$lfsr)[1:5])\n",
    "cbind(1 - fit11$lfsr[mix.top], fit21$alpha[,1][mix.top])"
   ]
  },
  {
   "cell_type": "code",
   "execution_count": 4,
   "metadata": {},
   "outputs": [
    {
     "data": {
      "text/html": [
       "<table>\n",
       "<tbody>\n",
       "\t<tr><th scope=row>chr1_171172098_C_T_b38</th><td>1.0000000 </td><td>0.99999999</td></tr>\n",
       "\t<tr><th scope=row>chr1_171133158_A_G_b38</th><td>0.4573966 </td><td>0.99999951</td></tr>\n",
       "\t<tr><th scope=row>chr1_171199984_T_C_b38</th><td>0.4605322 </td><td>0.99843195</td></tr>\n",
       "\t<tr><th scope=row>chr1_171252314_G_C_b38</th><td>0.4608848 </td><td>0.03125060</td></tr>\n",
       "\t<tr><th scope=row>chr1_171150061_G_C_b38</th><td>0.4147678 </td><td>0.01523159</td></tr>\n",
       "</tbody>\n",
       "</table>\n"
      ],
      "text/latex": [
       "\\begin{tabular}{r|ll}\n",
       "\tchr1\\_171172098\\_C\\_T\\_b38 & 1.0000000  & 0.99999999\\\\\n",
       "\tchr1\\_171133158\\_A\\_G\\_b38 & 0.4573966  & 0.99999951\\\\\n",
       "\tchr1\\_171199984\\_T\\_C\\_b38 & 0.4605322  & 0.99843195\\\\\n",
       "\tchr1\\_171252314\\_G\\_C\\_b38 & 0.4608848  & 0.03125060\\\\\n",
       "\tchr1\\_171150061\\_G\\_C\\_b38 & 0.4147678  & 0.01523159\\\\\n",
       "\\end{tabular}\n"
      ],
      "text/markdown": [
       "\n",
       "| chr1_171172098_C_T_b38 | 1.0000000  | 0.99999999 | \n",
       "| chr1_171133158_A_G_b38 | 0.4573966  | 0.99999951 | \n",
       "| chr1_171199984_T_C_b38 | 0.4605322  | 0.99843195 | \n",
       "| chr1_171252314_G_C_b38 | 0.4608848  | 0.03125060 | \n",
       "| chr1_171150061_G_C_b38 | 0.4147678  | 0.01523159 | \n",
       "\n",
       "\n"
      ],
      "text/plain": [
       "                       [,1]      [,2]      \n",
       "chr1_171172098_C_T_b38 1.0000000 0.99999999\n",
       "chr1_171133158_A_G_b38 0.4573966 0.99999951\n",
       "chr1_171199984_T_C_b38 0.4605322 0.99843195\n",
       "chr1_171252314_G_C_b38 0.4608848 0.03125060\n",
       "chr1_171150061_G_C_b38 0.4147678 0.01523159"
      ]
     },
     "metadata": {},
     "output_type": "display_data"
    }
   ],
   "source": [
    "bvs.top = names(sort(fit21$alpha[,1], decreasing=T)[1:5])\n",
    "cbind(1 - fit11$lfsr[bvs.top], fit21$alpha[,1][bvs.top])"
   ]
  },
  {
   "cell_type": "markdown",
   "metadata": {},
   "source": [
    "## Credible sets\n",
    "\n",
    "Check if  `chr1_171122735_A_G_b38` is in credible set of `varbvs` result"
   ]
  },
  {
   "cell_type": "code",
   "execution_count": 5,
   "metadata": {},
   "outputs": [],
   "source": [
    "get.credible.set <- function (bf, pr) {\n",
    "  pp      <- bf/sum(bf)\n",
    "  markers <- order(bf,decreasing = TRUE)\n",
    "  n       <- min(which(cumsum(pp[markers]) > credint.prob))\n",
    "  return(markers[1:n])\n",
    "}\n",
    "top.markers <- summary(fit21,nv = 20)$top.vars\n",
    "top.markers <- subset(top.markers,prob > 0.95)$variable\n",
    "m           <- length(top.markers)\n",
    "R <- cor(X)"
   ]
  },
  {
   "cell_type": "code",
   "execution_count": 6,
   "metadata": {},
   "outputs": [],
   "source": [
    "credint.prob <- 0.95\n",
    "ld.threshold <- 0.2\n",
    "cr           <- vector(\"list\",m)\n",
    "plots        <- vector(\"list\",m)\n",
    "names(cr)    <- top.markers\n",
    "names(plots) <- top.markers\n",
    "for (i in top.markers) {\n",
    "  idx        <- which(colnames(X) == i)\n",
    "  vars       <- which(R[,i]^2 >= ld.threshold)\n",
    "  out        <- varbvs::varbvsproxybf(X,Z,y,fit21,idx,vars)\n",
    "  cr[[i]]    <- vars[get.credible.set(out$BF[,1],credint.prob)]\n",
    "  j          <- names(which.max(out$BF[,1]))\n",
    "}"
   ]
  },
  {
   "cell_type": "code",
   "execution_count": 7,
   "metadata": {},
   "outputs": [
    {
     "name": "stdout",
     "output_type": "stream",
     "text": [
      "$chr1_171172098_C_T_b38\n",
      " chr1_171169344_G_A_b38  chr1_171168633_C_A_b38 chr1_171185504_AG_A_b38 \n",
      "                   3824                    3821                    3903 \n",
      " chr1_171184438_A_G_b38  chr1_171172098_C_T_b38  chr1_171179725_T_A_b38 \n",
      "                   3899                    3841                    3877 \n",
      " chr1_171176942_T_C_b38  chr1_171165549_G_C_b38 \n",
      "                   3864                    3800 \n",
      "\n",
      "$chr1_171133158_A_G_b38\n",
      " chr1_171115021_G_A_b38  chr1_171134102_T_C_b38  chr1_171133158_A_G_b38 \n",
      "                   3576                    3650                    3646 \n",
      " chr1_171133705_G_A_b38  chr1_171132358_C_A_b38  chr1_171139697_C_T_b38 \n",
      "                   3649                    3643                    3680 \n",
      " chr1_171114034_C_T_b38  chr1_171136655_G_A_b38  chr1_171135001_G_A_b38 \n",
      "                   3568                    3664                    3655 \n",
      " chr1_171134913_G_A_b38  chr1_171127868_C_G_b38  chr1_171128489_C_A_b38 \n",
      "                   3654                    3626                    3631 \n",
      "chr1_171128484_A_AG_b38  chr1_171128486_A_G_b38 chr1_171116174_A_AT_b38 \n",
      "                   3629                    3630                    3582 \n",
      " chr1_171135804_C_T_b38 \n",
      "                   3659 \n",
      "\n",
      "$chr1_171199984_T_C_b38\n",
      "   chr1_171190872_G_A_b38    chr1_171164750_C_A_b38    chr1_171178705_A_G_b38 \n",
      "                     3938                      3798                      3871 \n",
      "   chr1_171198564_G_A_b38    chr1_171193299_C_T_b38 chr1_171198249_T_TACA_b38 \n",
      "                     3998                      3963                      3994 \n",
      "   chr1_171199984_T_C_b38   chr1_171196663_TG_T_b38    chr1_171193596_T_A_b38 \n",
      "                     4012                      3987                      3967 \n",
      "   chr1_171191559_T_C_b38   chr1_171190729_AT_A_b38    chr1_171189360_T_C_b38 \n",
      "                     3946                      3937                      3930 \n",
      "chr1_171193412_T_TGAC_b38    chr1_171192026_C_A_b38    chr1_171191344_A_T_b38 \n",
      "                     3965                      3953                      3945 \n",
      "   chr1_171190982_C_T_b38    chr1_171193444_T_C_b38    chr1_171174538_G_C_b38 \n",
      "                     3940                      3966                      3852 \n",
      "\n"
     ]
    }
   ],
   "source": [
    "print(cr)"
   ]
  },
  {
   "cell_type": "markdown",
   "metadata": {},
   "source": [
    "No, it is not ..."
   ]
  },
  {
   "cell_type": "markdown",
   "metadata": {},
   "source": [
    "## Narrow X to 100 SNPs\n",
    "\n",
    "Next I'll try to come up with a smaller set of SNPs, say 100, that includes top hits from both methods along with random SNPs being the rest. Will see if there is still difference in behavior."
   ]
  },
  {
   "cell_type": "code",
   "execution_count": 13,
   "metadata": {},
   "outputs": [],
   "source": [
    "X2 = X[,unique(c(mix.top[1:2], bvs.top[1:3], sample(colnames(X), 100)))]"
   ]
  },
  {
   "cell_type": "code",
   "execution_count": 14,
   "metadata": {},
   "outputs": [
    {
     "data": {
      "text/html": [
       "<ol class=list-inline>\n",
       "\t<li>574</li>\n",
       "\t<li>104</li>\n",
       "</ol>\n"
      ],
      "text/latex": [
       "\\begin{enumerate*}\n",
       "\\item 574\n",
       "\\item 104\n",
       "\\end{enumerate*}\n"
      ],
      "text/markdown": [
       "1. 574\n",
       "2. 104\n",
       "\n",
       "\n"
      ],
      "text/plain": [
       "[1] 574 104"
      ]
     },
     "metadata": {},
     "output_type": "display_data"
    }
   ],
   "source": [
    "dim(X2)"
   ]
  },
  {
   "cell_type": "code",
   "execution_count": 18,
   "metadata": {},
   "outputs": [],
   "source": [
    "initial = univariate_regression(X2, y ,Z)\n",
    "mixsd = autoselect.mixsd(initial$betahat, initial$sebetahat)\n",
    "mu_zero = matrix(0, ncol = length(mixsd)+1, nrow = ncol(X2))\n",
    "alpha_zero = matrix(1/ncol(X2), ncol = length(mixsd)+1,nrow = ncol(X2))\n",
    "alpha_zero[,1] = 1 - length(mixsd) / ncol(X2)\n",
    "index_order = lasso_reorder(X2, initial$residuals)\n",
    "# bvsmix with lasso init vs random init\n",
    "fit31 = varbvs::varbvsmix(X2[, index_order], \n",
    "                         Z, y, sa = c(0,mixsd^2),\n",
    "                         mu = mu_zero,\n",
    "                         alpha = alpha_zero,\n",
    "                         verbose = F)\n",
    "fit32 = varbvs::varbvsmix(X2, \n",
    "                         Z, y, sa = c(0,mixsd^2),\n",
    "                         verbose = F)\n",
    "# bvsmix with lasso init vs random init\n",
    "fit41 = varbvs::varbvs(X2[, index_order], Z, y, verbose = F)\n",
    "fit42 = varbvs::varbvs(X2, Z, y, verbose = F)"
   ]
  },
  {
   "cell_type": "code",
   "execution_count": 22,
   "metadata": {},
   "outputs": [
    {
     "data": {
      "text/html": [
       "<table>\n",
       "<tbody>\n",
       "\t<tr><th scope=row>chr1_171172098_C_T_b38</th><td>1.0000000 </td><td>1.00000000</td></tr>\n",
       "\t<tr><th scope=row>chr1_171199984_T_C_b38</th><td>0.9999999 </td><td>0.99999997</td></tr>\n",
       "\t<tr><th scope=row>chr1_171122735_A_G_b38</th><td>0.9999943 </td><td>1.00000000</td></tr>\n",
       "\t<tr><th scope=row>chr1_171133158_A_G_b38</th><td>0.9951271 </td><td>0.03176375</td></tr>\n",
       "\t<tr><th scope=row>chr1_171397048_C_T_b38</th><td>0.7077927 </td><td>0.07585271</td></tr>\n",
       "</tbody>\n",
       "</table>\n"
      ],
      "text/latex": [
       "\\begin{tabular}{r|ll}\n",
       "\tchr1\\_171172098\\_C\\_T\\_b38 & 1.0000000  & 1.00000000\\\\\n",
       "\tchr1\\_171199984\\_T\\_C\\_b38 & 0.9999999  & 0.99999997\\\\\n",
       "\tchr1\\_171122735\\_A\\_G\\_b38 & 0.9999943  & 1.00000000\\\\\n",
       "\tchr1\\_171133158\\_A\\_G\\_b38 & 0.9951271  & 0.03176375\\\\\n",
       "\tchr1\\_171397048\\_C\\_T\\_b38 & 0.7077927  & 0.07585271\\\\\n",
       "\\end{tabular}\n"
      ],
      "text/markdown": [
       "\n",
       "| chr1_171172098_C_T_b38 | 1.0000000  | 1.00000000 | \n",
       "| chr1_171199984_T_C_b38 | 0.9999999  | 0.99999997 | \n",
       "| chr1_171122735_A_G_b38 | 0.9999943  | 1.00000000 | \n",
       "| chr1_171133158_A_G_b38 | 0.9951271  | 0.03176375 | \n",
       "| chr1_171397048_C_T_b38 | 0.7077927  | 0.07585271 | \n",
       "\n",
       "\n"
      ],
      "text/plain": [
       "                       [,1]      [,2]      \n",
       "chr1_171172098_C_T_b38 1.0000000 1.00000000\n",
       "chr1_171199984_T_C_b38 0.9999999 0.99999997\n",
       "chr1_171122735_A_G_b38 0.9999943 1.00000000\n",
       "chr1_171133158_A_G_b38 0.9951271 0.03176375\n",
       "chr1_171397048_C_T_b38 0.7077927 0.07585271"
      ]
     },
     "metadata": {},
     "output_type": "display_data"
    }
   ],
   "source": [
    "mix.top2 = names(sort(fit31$lfsr)[1:5])\n",
    "cbind(1 - fit31$lfsr[mix.top2], fit41$alpha[,1][mix.top2])"
   ]
  },
  {
   "cell_type": "code",
   "execution_count": 23,
   "metadata": {},
   "outputs": [
    {
     "data": {
      "text/html": [
       "<table>\n",
       "<tbody>\n",
       "\t<tr><th scope=row>chr1_171172098_C_T_b38</th><td>1.0000000 </td><td>1.00000000</td></tr>\n",
       "\t<tr><th scope=row>chr1_171122735_A_G_b38</th><td>0.9999943 </td><td>1.00000000</td></tr>\n",
       "\t<tr><th scope=row>chr1_171199984_T_C_b38</th><td>0.9999999 </td><td>0.99999997</td></tr>\n",
       "\t<tr><th scope=row>chr1_171397048_C_T_b38</th><td>0.7077927 </td><td>0.07585271</td></tr>\n",
       "\t<tr><th scope=row>chr1_171133158_A_G_b38</th><td>0.9951271 </td><td>0.03176375</td></tr>\n",
       "</tbody>\n",
       "</table>\n"
      ],
      "text/latex": [
       "\\begin{tabular}{r|ll}\n",
       "\tchr1\\_171172098\\_C\\_T\\_b38 & 1.0000000  & 1.00000000\\\\\n",
       "\tchr1\\_171122735\\_A\\_G\\_b38 & 0.9999943  & 1.00000000\\\\\n",
       "\tchr1\\_171199984\\_T\\_C\\_b38 & 0.9999999  & 0.99999997\\\\\n",
       "\tchr1\\_171397048\\_C\\_T\\_b38 & 0.7077927  & 0.07585271\\\\\n",
       "\tchr1\\_171133158\\_A\\_G\\_b38 & 0.9951271  & 0.03176375\\\\\n",
       "\\end{tabular}\n"
      ],
      "text/markdown": [
       "\n",
       "| chr1_171172098_C_T_b38 | 1.0000000  | 1.00000000 | \n",
       "| chr1_171122735_A_G_b38 | 0.9999943  | 1.00000000 | \n",
       "| chr1_171199984_T_C_b38 | 0.9999999  | 0.99999997 | \n",
       "| chr1_171397048_C_T_b38 | 0.7077927  | 0.07585271 | \n",
       "| chr1_171133158_A_G_b38 | 0.9951271  | 0.03176375 | \n",
       "\n",
       "\n"
      ],
      "text/plain": [
       "                       [,1]      [,2]      \n",
       "chr1_171172098_C_T_b38 1.0000000 1.00000000\n",
       "chr1_171122735_A_G_b38 0.9999943 1.00000000\n",
       "chr1_171199984_T_C_b38 0.9999999 0.99999997\n",
       "chr1_171397048_C_T_b38 0.7077927 0.07585271\n",
       "chr1_171133158_A_G_b38 0.9951271 0.03176375"
      ]
     },
     "metadata": {},
     "output_type": "display_data"
    }
   ],
   "source": [
    "bvs.top2 = names(sort(fit41$alpha[,1], decreasing=T)[1:5])\n",
    "cbind(1 - fit31$lfsr[bvs.top2], fit41$alpha[,1][bvs.top2])"
   ]
  },
  {
   "cell_type": "markdown",
   "metadata": {},
   "source": [
    "### Compare ~7.5K vs ~100 SNPs\n",
    "#### varbvs\n",
    "With 7.5K SNPs it identifies:\n",
    "```\n",
    "chr1_171172098_C_T_b38\n",
    "chr1_171133158_A_G_b38\n",
    "chr1_171199984_T_C_b38\n",
    "```\n",
    "and it missed one from `varbvsmix`:\n",
    "\n",
    "```\n",
    "chr1_171122735_A_G_b38\n",
    "```\n",
    "\n",
    "With 100 SNPs it now picks up the one previously missed according to `varbvsmix`:\n",
    "```\n",
    "chr1_171172098_C_T_b38\t\n",
    "chr1_171199984_T_C_b38\t\n",
    "chr1_171122735_A_G_b38\n",
    "```\n",
    "\n",
    "But dropped \n",
    "\n",
    "```\n",
    "chr1_171133158_A_G_b38\n",
    "```\n",
    "\n",
    "#### varbvsmix\n",
    "With 7.5K SNPs it identifies\n",
    "\n",
    "```\n",
    "chr1_171172098_C_T_b38\n",
    "chr1_171122735_A_G_b38\n",
    "```\n",
    "which overlaps with `varbvs` on only `chr1_171172098_C_T_b38`.\n",
    "\n",
    "With 100 SNPs it now picks up 4 SNPs\n",
    "\n",
    "```\n",
    "chr1_171172098_C_T_b38\t\n",
    "chr1_171199984_T_C_b38\t\n",
    "chr1_171122735_A_G_b38\n",
    "chr1_171133158_A_G_b38\n",
    "```\n",
    "**Which is in fact the union of hits identified by both `varbvsmix` and `varbvs` when input is 7.5K SNPs**"
   ]
  },
  {
   "cell_type": "markdown",
   "metadata": {},
   "source": [
    "#### The top 4"
   ]
  },
  {
   "cell_type": "code",
   "execution_count": 24,
   "metadata": {},
   "outputs": [
    {
     "data": {
      "text/html": [
       "<table>\n",
       "<thead><tr><th></th><th scope=col>chr1_171172098_C_T_b38</th><th scope=col>chr1_171199984_T_C_b38</th><th scope=col>chr1_171122735_A_G_b38</th><th scope=col>chr1_171133158_A_G_b38</th></tr></thead>\n",
       "<tbody>\n",
       "\t<tr><th scope=row>chr1_171172098_C_T_b38</th><td> 1.00000000</td><td>-0.10612586</td><td>0.08283952 </td><td>-0.16129847</td></tr>\n",
       "\t<tr><th scope=row>chr1_171199984_T_C_b38</th><td>-0.10612586</td><td> 1.00000000</td><td>0.16520398 </td><td>-0.04275903</td></tr>\n",
       "\t<tr><th scope=row>chr1_171122735_A_G_b38</th><td> 0.08283952</td><td> 0.16520398</td><td>1.00000000 </td><td> 0.51658953</td></tr>\n",
       "\t<tr><th scope=row>chr1_171133158_A_G_b38</th><td>-0.16129847</td><td>-0.04275903</td><td>0.51658953 </td><td> 1.00000000</td></tr>\n",
       "</tbody>\n",
       "</table>\n"
      ],
      "text/latex": [
       "\\begin{tabular}{r|llll}\n",
       "  & chr1\\_171172098\\_C\\_T\\_b38 & chr1\\_171199984\\_T\\_C\\_b38 & chr1\\_171122735\\_A\\_G\\_b38 & chr1\\_171133158\\_A\\_G\\_b38\\\\\n",
       "\\hline\n",
       "\tchr1\\_171172098\\_C\\_T\\_b38 &  1.00000000 & -0.10612586 & 0.08283952  & -0.16129847\\\\\n",
       "\tchr1\\_171199984\\_T\\_C\\_b38 & -0.10612586 &  1.00000000 & 0.16520398  & -0.04275903\\\\\n",
       "\tchr1\\_171122735\\_A\\_G\\_b38 &  0.08283952 &  0.16520398 & 1.00000000  &  0.51658953\\\\\n",
       "\tchr1\\_171133158\\_A\\_G\\_b38 & -0.16129847 & -0.04275903 & 0.51658953  &  1.00000000\\\\\n",
       "\\end{tabular}\n"
      ],
      "text/markdown": [
       "\n",
       "| <!--/--> | chr1_171172098_C_T_b38 | chr1_171199984_T_C_b38 | chr1_171122735_A_G_b38 | chr1_171133158_A_G_b38 | \n",
       "|---|---|---|---|\n",
       "| chr1_171172098_C_T_b38 |  1.00000000 | -0.10612586 | 0.08283952  | -0.16129847 | \n",
       "| chr1_171199984_T_C_b38 | -0.10612586 |  1.00000000 | 0.16520398  | -0.04275903 | \n",
       "| chr1_171122735_A_G_b38 |  0.08283952 |  0.16520398 | 1.00000000  |  0.51658953 | \n",
       "| chr1_171133158_A_G_b38 | -0.16129847 | -0.04275903 | 0.51658953  |  1.00000000 | \n",
       "\n",
       "\n"
      ],
      "text/plain": [
       "                       chr1_171172098_C_T_b38 chr1_171199984_T_C_b38\n",
       "chr1_171172098_C_T_b38  1.00000000            -0.10612586           \n",
       "chr1_171199984_T_C_b38 -0.10612586             1.00000000           \n",
       "chr1_171122735_A_G_b38  0.08283952             0.16520398           \n",
       "chr1_171133158_A_G_b38 -0.16129847            -0.04275903           \n",
       "                       chr1_171122735_A_G_b38 chr1_171133158_A_G_b38\n",
       "chr1_171172098_C_T_b38 0.08283952             -0.16129847           \n",
       "chr1_171199984_T_C_b38 0.16520398             -0.04275903           \n",
       "chr1_171122735_A_G_b38 1.00000000              0.51658953           \n",
       "chr1_171133158_A_G_b38 0.51658953              1.00000000           "
      ]
     },
     "metadata": {},
     "output_type": "display_data"
    }
   ],
   "source": [
    "R[c('chr1_171172098_C_T_b38', 'chr1_171199984_T_C_b38', 'chr1_171122735_A_G_b38', 'chr1_171133158_A_G_b38'),c('chr1_171172098_C_T_b38', 'chr1_171199984_T_C_b38', 'chr1_171122735_A_G_b38', 'chr1_171133158_A_G_b38')]"
   ]
  },
  {
   "cell_type": "code",
   "execution_count": 26,
   "metadata": {},
   "outputs": [
    {
     "data": {
      "text/html": [
       "<table>\n",
       "<thead><tr><th></th><th scope=col>chr1_171168633_C_A_b38</th><th scope=col>chr1_171147265_C_A_b38</th><th scope=col>chr1_171164750_C_A_b38</th><th scope=col>chr1_171178589_C_T_b38</th></tr></thead>\n",
       "<tbody>\n",
       "\t<tr><th scope=row>chr1_171168633_C_A_b38</th><td> 1.00000000</td><td>0.08365715 </td><td>-0.1100207 </td><td>-0.09399136</td></tr>\n",
       "\t<tr><th scope=row>chr1_171147265_C_A_b38</th><td> 0.08365715</td><td>1.00000000 </td><td> 0.1357039 </td><td> 0.25503481</td></tr>\n",
       "\t<tr><th scope=row>chr1_171164750_C_A_b38</th><td>-0.11002067</td><td>0.13570387 </td><td> 1.0000000 </td><td>-0.11299131</td></tr>\n",
       "\t<tr><th scope=row>chr1_171178589_C_T_b38</th><td>-0.09399136</td><td>0.25503481 </td><td>-0.1129913 </td><td> 1.00000000</td></tr>\n",
       "</tbody>\n",
       "</table>\n"
      ],
      "text/latex": [
       "\\begin{tabular}{r|llll}\n",
       "  & chr1\\_171168633\\_C\\_A\\_b38 & chr1\\_171147265\\_C\\_A\\_b38 & chr1\\_171164750\\_C\\_A\\_b38 & chr1\\_171178589\\_C\\_T\\_b38\\\\\n",
       "\\hline\n",
       "\tchr1\\_171168633\\_C\\_A\\_b38 &  1.00000000 & 0.08365715  & -0.1100207  & -0.09399136\\\\\n",
       "\tchr1\\_171147265\\_C\\_A\\_b38 &  0.08365715 & 1.00000000  &  0.1357039  &  0.25503481\\\\\n",
       "\tchr1\\_171164750\\_C\\_A\\_b38 & -0.11002067 & 0.13570387  &  1.0000000  & -0.11299131\\\\\n",
       "\tchr1\\_171178589\\_C\\_T\\_b38 & -0.09399136 & 0.25503481  & -0.1129913  &  1.00000000\\\\\n",
       "\\end{tabular}\n"
      ],
      "text/markdown": [
       "\n",
       "| <!--/--> | chr1_171168633_C_A_b38 | chr1_171147265_C_A_b38 | chr1_171164750_C_A_b38 | chr1_171178589_C_T_b38 | \n",
       "|---|---|---|---|\n",
       "| chr1_171168633_C_A_b38 |  1.00000000 | 0.08365715  | -0.1100207  | -0.09399136 | \n",
       "| chr1_171147265_C_A_b38 |  0.08365715 | 1.00000000  |  0.1357039  |  0.25503481 | \n",
       "| chr1_171164750_C_A_b38 | -0.11002067 | 0.13570387  |  1.0000000  | -0.11299131 | \n",
       "| chr1_171178589_C_T_b38 | -0.09399136 | 0.25503481  | -0.1129913  |  1.00000000 | \n",
       "\n",
       "\n"
      ],
      "text/plain": [
       "                       chr1_171168633_C_A_b38 chr1_171147265_C_A_b38\n",
       "chr1_171168633_C_A_b38  1.00000000            0.08365715            \n",
       "chr1_171147265_C_A_b38  0.08365715            1.00000000            \n",
       "chr1_171164750_C_A_b38 -0.11002067            0.13570387            \n",
       "chr1_171178589_C_T_b38 -0.09399136            0.25503481            \n",
       "                       chr1_171164750_C_A_b38 chr1_171178589_C_T_b38\n",
       "chr1_171168633_C_A_b38 -0.1100207             -0.09399136           \n",
       "chr1_171147265_C_A_b38  0.1357039              0.25503481           \n",
       "chr1_171164750_C_A_b38  1.0000000             -0.11299131           \n",
       "chr1_171178589_C_T_b38 -0.1129913              1.00000000           "
      ]
     },
     "metadata": {},
     "output_type": "display_data"
    }
   ],
   "source": [
    "# This is the top 4 markers identified with random varbvs init\n",
    "markers3 <- c(\"chr1_171168633_C_A_b38\",\n",
    "              \"chr1_171147265_C_A_b38\",\n",
    "              \"chr1_171164750_C_A_b38\",\n",
    "              \"chr1_171178589_C_T_b38\")\n",
    "R[markers3, markers3]"
   ]
  }
 ],
 "metadata": {
  "kernelspec": {
   "display_name": "R",
   "language": "R",
   "name": "ir"
  },
  "language_info": {
   "codemirror_mode": "r",
   "file_extension": ".r",
   "mimetype": "text/x-r-source",
   "name": "R",
   "pygments_lexer": "r",
   "version": "3.4.0"
  }
 },
 "nbformat": 4,
 "nbformat_minor": 2
}
