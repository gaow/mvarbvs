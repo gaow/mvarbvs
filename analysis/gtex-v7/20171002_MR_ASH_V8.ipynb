{
 "cells": [
  {
   "cell_type": "markdown",
   "metadata": {},
   "source": [
    "# MR ASH on single tissue data \n",
    "cis-eQTL analysis using `mr-ash`, for GTEx V8."
   ]
  },
  {
   "cell_type": "code",
   "execution_count": null,
   "metadata": {
    "kernel": "SoS"
   },
   "outputs": [],
   "source": [
    "[global]\n",
    "parameter: seed = 999\n",
    "parameter: cwd = '~/Documents/GTExV8'\n",
    "parameter: geno = \"${cwd!a}/GTExV8.genotype.cis.h5\"\n",
    "parameter: expr = \"${cwd!a}/GTExV8.expression.h5\"\n",
    "parameter: covar = \"${cwd!a}/GTExV8.covariates.orth.h5\"\n",
    "parameter: tissue = \"Thyroid\"\n",
    "parameter: gene_list = ''"
   ]
  },
  {
   "cell_type": "code",
   "execution_count": null,
   "metadata": {
    "collapsed": true,
    "kernel": "SoS"
   },
   "outputs": [],
   "source": [
    "[default_0: shared = {'genes': 'genes'}]\n",
    "depends: Py_Module('h5py')\n",
    "import h5py\n",
    "all_genes = []\n",
    "with h5py.File(geno, libver='latest') as f:\n",
    "    for k in f:\n",
    "        all_genes.extend(['{}/{}'.format(k, x) for x in f[k]])\n",
    "if os.path.isfile(gene_list):\n",
    "    genes = [x for x in get_output(\"cat {}\".format(gene_list)).strip().split() if x in all_genes]\n",
    "else:\n",
    "    genes = all_genes\n",
    "expr_genes = [os.path.splitext(x.decode())[0] for x in h5py.File(expr, libver = 'latest')[tissue]['axis1']]\n",
    "genes = [y for y in genes if os.path.basename(y) in expr_genes]\n",
    "fail_if(len(genes) == 0, \"No genes to analyze!\")\n",
    "print('{} genes to analyze for {}'.format(len(genes), tissue))"
   ]
  },
  {
   "cell_type": "code",
   "execution_count": null,
   "metadata": {
    "kernel": "SoS"
   },
   "outputs": [],
   "source": [
    "[default_1]\n",
    "# utils\n",
    "output: \"${cwd!a}/.utils.R\"\n",
    "report: output = \"${output}\"\n",
    "load_data = function(genotype_file, expr_file, cov_file, geno_table, expr_table, cov_table) {\n",
    "    library(rhdf5)\n",
    "    geno = h5read(genotype_file, geno_table)\n",
    "    gdata = data.frame(geno$block0_values)\n",
    "    colnames(gdata) = geno$axis1\n",
    "    rownames(gdata) = geno$axis0\n",
    "    #\n",
    "    expr = h5read(expr_file, expr_table)\n",
    "    edata = data.frame(expr$block0_values)\n",
    "    colnames(edata) = tools::file_path_sans_ext(expr$axis1)\n",
    "    edata = data.frame(edata[, basename(geno_table)])\n",
    "    rownames(edata) = expr$axis0\n",
    "    colnames(edata) = basename(geno_table)\n",
    "    #\n",
    "    covariate <- h5read(cov_file, cov_table)\n",
    "    cdata = data.frame(covariate$block0_values)\n",
    "    colnames(cdata) = covariate$axis1\n",
    "    rownames(cdata) = covariate$axis0\n",
    "    cdata = t(cdata)\n",
    "    # reorder\n",
    "    edata = edata[match(rownames(cdata), rownames(edata)),]\n",
    "    gdata = gdata[rownames(cdata),]\n",
    "    return(list(X = as.matrix(gdata), y = as.vector(edata), Z = as.matrix(cdata)))\n",
    "}\n",
    "\n",
    "autoselect.mixsd = function(betahat,sebetahat,mult = sqrt(2)){\n",
    "    # To avoid exact measure causing (usually by mistake)\n",
    "    sebetahat = sebetahat[sebetahat!=0] \n",
    "    # so that the minimum is small compared with measurement precision\n",
    "    sigmaamin = min(sebetahat)/10 \n",
    "    if (all(betahat^2 <= sebetahat^2)) {\n",
    "        # to deal with the occassional odd case where this could happen; 8 is arbitrary\n",
    "        sigmaamax = 8*sigmaamin \n",
    "    } else {\n",
    "        # this computes a rough largest value you'd want to use, \n",
    "        # based on idea that sigmaamax^2 + sebetahat^2 should be at least betahat^2   \n",
    "        sigmaamax = 2*sqrt(max(betahat^2-sebetahat^2)) \n",
    "    }\n",
    "    if(mult==0){\n",
    "        return(c(0,sigmaamax/2))\n",
    "    } else {\n",
    "        npoint = ceiling(log2(sigmaamax/sigmaamin)/log2(mult))\n",
    "        return(mult^((-npoint):0) * sigmaamax)\n",
    "    }\n",
    "}\n",
    "\n",
    "univariate_regression = function(X, y, Z = NULL){\n",
    "    if (!is.null(Z)) {\n",
    "        y = .lm.fit(Z, y)$residuals\n",
    "    }\n",
    "    calc_stderr = function(X, residuals) { sqrt(diag(sum(residuals^2) / (nrow(X) - 2) * chol2inv(chol(t(X) %*% X)))) }\n",
    "    output = do.call(rbind, \n",
    "                  lapply(c(1:ncol(X)), function(i) { \n",
    "                      g = .lm.fit(cbind(1, X[,i]), y)\n",
    "                      return(c(coef(g)[2], calc_stderr(cbind(1, X[,i]), g$residuals)[2]))\n",
    "                  })\n",
    "                 )\n",
    "    return(list(betahat = output[,1], sebetahat = output[,2], \n",
    "                residuals = y))\n",
    "}\n",
    "\n",
    "lasso_reorder = function(X, y) {\n",
    "    # perform lasso regression and reorder regressors by \"importance\"\n",
    "    fit.glmnet <- glmnet::glmnet(X, y, intercept = F)\n",
    "    beta_path = coef(fit.glmnet)[-1,]\n",
    "    K = dim(beta_path)[2]\n",
    "    path_order = c()\n",
    "    for (k in 1:K) {\n",
    "        crt_path = which(beta_path[,k] != 0)\n",
    "        if (length(crt_path) != 0 & length(path_order) == 0) {\n",
    "            path_order = c(path_order, crt_path)\n",
    "        } else if(length(crt_path) != 0) {\n",
    "            path_order = c(path_order, crt_path[-which(crt_path %in% path_order)] )\n",
    "        }\n",
    "    }\n",
    "    path_order = unname(path_order)\n",
    "    index_order = c(path_order, seq(1,dim(beta_path)[1])[-path_order])\n",
    "    return(index_order)\n",
    "}\n",
    "\n",
    "\n",
    "analyze = function(genename = '/chr4/ENSG00000145214', tissue = '/Thyroid', out = 'test.rds'){\n",
    "    dat = load_data(genotype_file = ${geno!ar},\n",
    "                  expr_file = ${expr!ar},\n",
    "                  cov_file = ${covar!ar},\n",
    "                  geno_table = genename,\n",
    "                  expr_table = tissue,\n",
    "                  cov_table = tissue)\n",
    "    X = as.matrix(dat$X)\n",
    "    X = X[,which(colSums(X)!=0)]\n",
    "    if ((nrow(X) == 0) || (ncol(X) == 0)) {\n",
    "    saveRDS(list(), out)\n",
    "    } else {\n",
    "    storage.mode(X) <- \"double\"\n",
    "    y = as.vector(dat$y)\n",
    "    Z = as.matrix(dat$Z)\n",
    "    # univariate results\n",
    "    initial = univariate_regression(X, y, Z)\n",
    "    mixsd = autoselect.mixsd(initial$betahat, initial$sebetahat)\n",
    "    mu_zero = matrix(0, ncol = length(mixsd)+1, nrow = ncol(X))\n",
    "    alpha_zero = matrix(1/ncol(X), ncol = length(mixsd)+1,nrow = ncol(X))\n",
    "    alpha_zero[,1] = 1 - length(mixsd) / ncol(X)\n",
    "    index_order = lasso_reorder(X, initial$residuals)\n",
    "    logdata = capture.output({ fit = varbvs::varbvsmix(X[, index_order], Z, y, \n",
    "                                                      sa = c(0,mixsd^2), \n",
    "                                                      mu = mu_zero,\n",
    "                                                      alpha = alpha_zero,\n",
    "                                                      verbose = F) })\n",
    "    betahat = rowSums(fit$alpha * fit$mu)\n",
    "    names(betahat) = colnames(X)\n",
    "    mr_ash_out = list(betahat = betahat, fit = fit)\n",
    "    # ash_out = ashr::ash(initial$betahat,initial$sebetahat,mixcompdist = \"normal\")\n",
    "    # saveRDS(list(ash = ash_out, uni = initial, mr_ash = mr_ash_out, logdata = logdata), out)\n",
    "    saveRDS(list(univariate = initial, mr_ash = mr_ash_out, logdata = logdata), out)\n",
    "    }\n",
    "}"
   ]
  },
  {
   "cell_type": "code",
   "execution_count": 2,
   "metadata": {
    "collapsed": true,
    "kernel": "SoS"
   },
   "outputs": [],
   "source": [
    "[default_2]\n",
    "depends: R_library('rhdf5'), R_library('tools'), R_library('glmnet')\n",
    "input: None, for_each = ['genes']\n",
    "output: \"${cwd!a}/MR_ASH/${tissue}/${tissue}_${_genes!b}.rds\"\n",
    "task: workdir = cwd, walltime = '5m', cores = 1, mem = \"2G\", \n",
    "        trunk_size = 400, trunk_workers = 1\n",
    "R:\n",
    "    source('${cwd!a}/.utils.R')                                    \n",
    "    set.seed(${seed})\n",
    "    analyze(genename = \"/${_genes}\", tissue = \"/${tissue}\", out = ${_output!r})"
   ]
  },
  {
   "cell_type": "markdown",
   "metadata": {},
   "source": [
    "## Run workflow on remote computer\n",
    "For given tissue:\n",
    "\n",
    "```\n",
    "sos run analysis/20171002_MR_ASH_V8.ipynb -r midway2 -W \\\n",
    "    --tissue Thyroid \\\n",
    "    --gene_list optional_gene_list.txt\n",
    "```\n",
    "\n",
    "Note that the remote computer (login node) as already been configured with \n",
    "\n",
    "```\n",
    "sos config --global --set localhost midway2\n",
    "```"
   ]
  },
  {
   "cell_type": "code",
   "execution_count": 1,
   "metadata": {
    "kernel": "SoS"
   },
   "outputs": [
    {
     "data": {
      "text/html": [
       "<p class=\"session_section\">SoS</p>\n",
       "<table class=\"session_info\">\n",
       "<tr>\n",
       "<th>SoS Version</th><td><pre>0.9.9.1</pre></td>\n",
       "</tr>\n",
       "</table>\n"
      ]
     },
     "metadata": {},
     "output_type": "display_data"
    }
   ],
   "source": [
    "%sessioninfo"
   ]
  }
 ],
 "metadata": {
  "celltoolbar": "Tags",
  "kernelspec": {
   "display_name": "SoS",
   "language": "sos",
   "name": "sos"
  },
  "language_info": {
   "codemirror_mode": "sos",
   "file_extension": ".sos",
   "mimetype": "text/x-sos",
   "name": "sos",
   "nbconvert_exporter": "sos_notebook.converter.SoS_Exporter",
   "pygments_lexer": "sos"
  },
  "sos": {
   "default_kernel": "SoS",
   "kernels": [
    [
     "SoS",
     "sos",
     "",
     ""
    ],
    [
     "Python3",
     "python3",
     "Python3",
     "#FFE771"
    ],
    [
     "R",
     "ir",
     "R",
     "#DCDCDA"
    ]
   ],
   "panel": {
    "displayed": true,
    "height": 0,
    "style": "side"
   }
  }
 },
 "nbformat": 4,
 "nbformat_minor": 2
}
