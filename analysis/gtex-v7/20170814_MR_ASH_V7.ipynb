{
 "cells": [
  {
   "cell_type": "markdown",
   "metadata": {},
   "source": [
    "# MR ASH on GTEx genes\n",
    "cis-eQTL analysis using `mr-ash`."
   ]
  },
  {
   "cell_type": "markdown",
   "metadata": {
    "collapsed": true,
    "kernel": "SoS"
   },
   "source": [
    "This notebook analyzes a toy example [previously created](20170627_Subset_Genes.html). I'm creating this workflow to the best of my knowledge to make it general enough for use with later analysis. Ideally by running:\n",
    "\n",
    "```\n",
    "sos run 20170814_MR_ASH_GTEx.ipynb mr_ash \\\n",
    "    --tissues Lung \\\n",
    "    --geno /path/to/geno.h5 \\\n",
    "    --expr /path/to/expr.h5 \\\n",
    "    --covar /path/to/covar.h5\n",
    "```\n",
    "\n",
    "(@wei it is generally difficult to write reusuable bioinformatics workflows unless with lots of engineering that I cannot afford, but we'll see how far we can go from here!)\n",
    "\n",
    "Code chunk below implements the workflow."
   ]
  },
  {
   "cell_type": "code",
   "execution_count": null,
   "metadata": {
    "collapsed": true,
    "kernel": "SoS"
   },
   "outputs": [],
   "source": [
    "[global]\n",
    "depends: Py_Module('h5py')\n",
    "import h5py\n",
    "parameter: cwd = '~/Documents/GTEx'\n",
    "parameter: geno = \"${cwd!a}/ToyExample/3mashgenes.genotype.h5\"\n",
    "parameter: expr = \"${cwd!a}/ToyExample/3mashgenes.expr.h5\"\n",
    "parameter: covar = \"${cwd!a}/h5_formatted/GTEx7.covariates.orth.h5\"\n",
    "parameter: tissues = list(h5py.File(expr, libver='latest').keys())\n",
    "f = h5py.File(geno, libver='latest')\n",
    "parameter: genes = []\n",
    "for k in f:\n",
    "    genes.extend(['{}/{}'.format(k, x) for x in f[k]])\n",
    "f.close()\n",
    "parameter: seed = 999"
   ]
  },
  {
   "cell_type": "code",
   "execution_count": 2,
   "metadata": {
    "kernel": "SoS"
   },
   "outputs": [
    {
     "data": {
      "text/html": [
       "<div class=\"sos_hint\">3 tasks completed: <a onclick=\"task_info('c404871010789c6569d9149eaae58a50', 'localhost')\">c404</a>,<a onclick=\"task_info('ddb9430c82cb9a77e7177e6d23309b5e', 'localhost')\">ddb9</a>,<a onclick=\"task_info('b2c3485e7a85de25571c1c7d29f5870f', 'localhost')\">b2c3</a></div>"
      ]
     },
     "metadata": {},
     "output_type": "display_data"
    },
    {
     "name": "stdout",
     "output_type": "stream",
     "text": [
      "\n"
     ]
    }
   ],
   "source": [
    "%sosrun mr_ash --tissues Lung\n",
    "\n",
    "[mr_ash_1]\n",
    "depends: R_library('rhdf5'), R_library('tools')\n",
    "input: for_each = ['genes', 'tissues']\n",
    "output: \"${cwd!a}/mr.ash/${geno!bnn}/${_tissues}_${_genes!b}.rds\"\n",
    "task: workdir = cwd\n",
    "R:\n",
    "    load_data = function(genotype_file, expr_file, cov_file, geno_table, expr_table, cov_table) {\n",
    "        library(rhdf5)\n",
    "        geno = h5read(genotype_file, geno_table)\n",
    "        gdata = data.frame(geno$block0_values)\n",
    "        colnames(gdata) = geno$axis1\n",
    "        rownames(gdata) = geno$axis0\n",
    "\n",
    "        expr = h5read(expr_file, expr_table)\n",
    "        edata = data.frame(expr$block0_values)\n",
    "        # colnames(edata) = expr$axis1\n",
    "        colnames(edata) = tools::file_path_sans_ext(expr$axis1)\n",
    "        # rownames(edata) = expr$axis0\n",
    "        rownames(edata) = apply(sapply(strsplit(expr$axis0,\"-\"), `[`, c(1,2)), 2, function(x) paste(x, collapse = '-'))\n",
    "\n",
    "        covariate <- h5read(cov_file, cov_table)\n",
    "        cdata = data.frame(covariate$block0_values)\n",
    "        colnames(cdata) = apply(sapply(strsplit(covariate$axis1,\"-\"), `[`, c(1,2)), 2, function(x) paste(x, collapse = '-'))\n",
    "        rownames(cdata) = covariate$axis0\n",
    "        # extract gene of interest and ensure samples from expression table and genotype table match\n",
    "        edata = data.frame(edata[, basename(geno_table)])\n",
    "        edata$ID = rownames(edata)\n",
    "        gdata$ID = rownames(gdata)\n",
    "        output = merge(x = edata, y = gdata, by = \"ID\", all.x = TRUE)\n",
    "        return(list(X=as.matrix(output[,-c(1,2)]), y = as.vector(output$edata), Z = as.matrix(cdata)))\n",
    "    }\n",
    "\n",
    "    autoselect.mixsd = function(betahat,sebetahat,mult = sqrt(2)){\n",
    "        # To avoid exact measure causing (usually by mistake)\n",
    "        sebetahat = sebetahat[sebetahat!=0] \n",
    "        # so that the minimum is small compared with measurement precision\n",
    "        sigmaamin = min(sebetahat)/10 \n",
    "        if (all(betahat^2 <= sebetahat^2)) {\n",
    "        # to deal with the occassional odd case where this could happen; 8 is arbitrary\n",
    "        sigmaamax = 8*sigmaamin \n",
    "        } else {\n",
    "        # this computes a rough largest value you'd want to use, \n",
    "        # based on idea that sigmaamax^2 + sebetahat^2 should be at least betahat^2   \n",
    "        sigmaamax = 2*sqrt(max(betahat^2-sebetahat^2)) \n",
    "        }\n",
    "        if(mult==0){\n",
    "        return(c(0,sigmaamax/2))\n",
    "        } else {\n",
    "        npoint = ceiling(log2(sigmaamax/sigmaamin)/log2(mult))\n",
    "        return(mult^((-npoint):0) * sigmaamax)\n",
    "        }\n",
    "    }\n",
    "\n",
    "    initial_step = function(X,y,Z = NULL){\n",
    "        P = dim(X)[2]\n",
    "        output = matrix(0,nrow = P,ncol = 2)\n",
    "        for(i in 1:P){\n",
    "        if(is.null(Z)){\n",
    "          g = summary(lm(y~X[,i]))\n",
    "        } else{\n",
    "          g = summary(lm(y~X[,i]+Z))\n",
    "        }\n",
    "\n",
    "        output[i,] = g$coefficients[2,1:2]\n",
    "        }\n",
    "        return(list(betahat = output[,1],sebetahat = output[,2]))\n",
    "    }\n",
    "\n",
    "    analyze = function(genename = '/chr4/ENSG00000145214', tissue = '/Lung', out = 'test.rds'){\n",
    "        dat = load_data(genotype_file = ${geno!ar},\n",
    "                      expr_file = ${expr!ar},\n",
    "                      cov_file = ${covar!ar},\n",
    "                      geno_table = genename,\n",
    "                      expr_table = tissue,\n",
    "                      cov_table = tissue)\n",
    "        X = as.matrix(dat$X)\n",
    "        X = X[,which(colSums(X)!=0)]\n",
    "        if ((nrow(X) == 0) || (ncol(X) == 0)) {\n",
    "        saveRDS(list(), out)\n",
    "        } else {\n",
    "        storage.mode(X) <- \"double\"\n",
    "        y = as.vector(dat$y)\n",
    "        Z = as.matrix(dat$Z)\n",
    "        initial = initial_step(X,y,Z)\n",
    "        mixsd = autoselect.mixsd(initial$betahat,initial$sebetahat)\n",
    "        logdata = capture.output({res = varbvs::varbvsmix(X, Z, y, sa = c(0,mixsd^2)) })\n",
    "        betahat = rowSums(res$alpha * res$mu)\n",
    "        names(betahat) = colnames(X)\n",
    "        mrash_out = list(betahat = betahat, lfsr = res$lfsr)\n",
    "        ash_out = ashr::ash(initial$betahat,initial$sebetahat,mixcompdist = \"normal\")\n",
    "        saveRDS(list(ash = ash_out, uni = initial, mr_ash = mrash_out, logdata = logdata), out)\n",
    "        }\n",
    "    }\n",
    "                                                                      \n",
    "    set.seed(${seed})\n",
    "    analyze(genename = \"/${_genes}\", tissue = \"/${_tissues}\", out = ${_output!r})"
   ]
  },
  {
   "cell_type": "code",
   "execution_count": 3,
   "metadata": {
    "kernel": "SoS"
   },
   "outputs": [
    {
     "data": {
      "text/html": [
       "<p class=\"session_section\">SoS</p>\n",
       "<table class=\"session_info\">\n",
       "<tr>\n",
       "<th>SoS Version</th><td><pre>0.9.8.10</pre></td>\n",
       "</tr>\n",
       "<tr>\n",
       "<th>h5py</th><td><pre>2.7.0</pre></td>\n",
       "</tr>\n",
       "</table>\n"
      ]
     },
     "metadata": {},
     "output_type": "display_data"
    }
   ],
   "source": [
    "%sessioninfo"
   ]
  }
 ],
 "metadata": {
  "celltoolbar": "Tags",
  "kernelspec": {
   "display_name": "SoS",
   "language": "sos",
   "name": "sos"
  },
  "language_info": {
   "codemirror_mode": "sos",
   "file_extension": ".sos",
   "mimetype": "text/x-sos",
   "name": "sos",
   "nbconvert_exporter": "sos.jupyter.converter.SoS_Exporter",
   "pygments_lexer": "sos"
  },
  "sos": {
   "default_kernel": "SoS",
   "kernels": [
    [
     "SoS",
     "sos",
     "",
     ""
    ],
    [
     "Python3",
     "python3",
     "Python3",
     "#FFE771"
    ],
    [
     "R",
     "ir",
     "R",
     "#DCDCDA"
    ]
   ],
   "panel": {
    "displayed": true,
    "height": 0,
    "style": "side"
   }
  }
 },
 "nbformat": 4,
 "nbformat_minor": 2
}
