{
 "cells": [
  {
   "cell_type": "markdown",
   "metadata": {},
   "source": [
    "# Extract cis-SNP\n",
    "We annotate genotype data by gene positions and extract cis-SNP. Data are extracted from `PLINK` files and saved to HDF5 format."
   ]
  },
  {
   "cell_type": "code",
   "execution_count": null,
   "metadata": {
    "collapsed": true
   },
   "outputs": [],
   "source": [
    "[global]\n",
    "rna_cnts = \"~/Documents/GTEx/gtex7/rna-seq/GTEx_Data_2016-01-15_v7_RNA-seq_RNA-SeQCv1.1.8_gene_reads.gct.gz\"\n",
    "cwd = \"~/Documents/GTEx\""
   ]
  },
  {
   "cell_type": "markdown",
   "metadata": {},
   "source": [
    "## Annotate genes\n",
    "Code chunk below annotates genes to chromosomal positions. Genes are taken from the GTEx expression file."
   ]
  },
  {
   "cell_type": "code",
   "execution_count": 3,
   "metadata": {
    "kernel": "SoS"
   },
   "outputs": [
    {
     "name": "stderr",
     "output_type": "stream",
     "text": [
      "INFO: Workflow 1d1b23bf7101ebf3 has been completed.\n"
     ]
    }
   ],
   "source": [
    "%sosrun ensembl_annotation\n",
    "[ensembl_annotation]\n",
    "# Input is GTEx expression file with first column the ENSG IDs\n",
    "depends: R_library(\"biomaRt\")\n",
    "input: rna_cnts\n",
    "output: \"${cwd}/h5_formatted/${input!bn}.annotation\"\n",
    "task: workdir = cwd\n",
    "run:\n",
    "    zcat ${input} | cut -f 1 | tail -n+4 | cut -f 1 -d '.' > ${input!n}.gene_id\n",
    "\n",
    "R:\n",
    "    values = unlist(read.table(\"${input!n}.gene_id\", stringsAsFactors=FALSE)) \n",
    "    ensembl = biomaRt::useMart(\"ensembl\", dataset=\"hsapiens_gene_ensembl\", host=\"www.ensembl.org\")\n",
    "    res = biomaRt::getBM(attributes = c(\"chromosome_name\", \"start_position\", \"end_position\", \"ensembl_gene_id\", \"hgnc_symbol\"), filters = c(\"ensembl_gene_id\"), values = values,  mart = ensembl)\n",
    "    write.table(res, file = ${output!r}, row.names=FALSE, na= \"<NA>\", col.names = FALSE)\n",
    "\n",
    "run:\n",
    "  cat ${output} | sed -e 's/\"//g' | sort -g -o ${output}\n",
    "  rm -f ${input!n}.gene_id"
   ]
  },
  {
   "cell_type": "markdown",
   "metadata": {},
   "source": [
    "## Make cis-SNP tables\n",
    "Using position annotations previously obtained, we work though the genotype data `GTEx7.Imputed.genotyped.filtered`, creating for each gene a table containing its cis-SNPs. Variants are first annotated to genes, then cis-SNPs to extract are defined as SNPs 1,000,000 bp up/downstream of the gene's TSS site. The outcome is a **single analysis ready file** in HDF5 format containing ~50K groups of genotype data (gene-names). Code chunk below implements the procedure."
   ]
  },
  {
   "cell_type": "code",
   "execution_count": 4,
   "metadata": {
    "kernel": "SoS"
   },
   "outputs": [
    {
     "data": {
      "text/html": [
       "<table id=\"table_localhost_e5b3ea4e7149a45a2be10706e58f0a36\" style=\"border: 0px\"><tr style=\"border: 0px\">\n",
       "                        <td style=\"border: 0px\">\n",
       "                        <i id=\"status_localhost_e5b3ea4e7149a45a2be10706e58f0a36\"\n",
       "                            class=\"fa fa-2x fa-fw fa-square-o\"\n",
       "                            onmouseover=\"$('#status_localhost_e5b3ea4e7149a45a2be10706e58f0a36').addClass('fa-stop').removeClass('fa-square-o')\"\n",
       "                            onmouseleave=\"$('#status_localhost_e5b3ea4e7149a45a2be10706e58f0a36').addClass('fa-square-o').removeClass('fa-stop')\"\n",
       "                            onclick=\"kill_task('e5b3ea4e7149a45a2be10706e58f0a36', 'localhost')\"\n",
       "                        ></i> </td>\n",
       "                        <td style=\"border:0px\"><a onclick=\"task_info('e5b3ea4e7149a45a2be10706e58f0a36', 'localhost')\"><pre>e5b3ea4e7149a45a2be10706e58f0a36</pre></a></td>\n",
       "                        <td style=\"border:0px\">&nbsp;</td>\n",
       "                        <td style=\"border:0px;text-align=right;\">\n",
       "                        <pre><time id=\"duration_localhost_e5b3ea4e7149a45a2be10706e58f0a36\" datetime=\"1503941652133.1084\">0 sec</time></pre></td>\n",
       "                        </tr>\n",
       "                        </table>"
      ]
     },
     "metadata": {},
     "output_type": "display_data"
    }
   ],
   "source": [
    "%sosrun cis_groups_hdf5\n",
    "[cis_groups_hdf5]\n",
    "# Convert plink genotype to HDF5 in batches of genes\n",
    "# Only autosomal genes are considered\n",
    "# cis: ${cis} up/downstream from TSS of each gene\n",
    "depends: Py_Module(\"pandas-plink\"), Py_Module(\"dask\"), \"${cwd!a}/h5_formatted/${rna_cnts!bn}.annotation\"\n",
    "parameter: cis = 1000000\n",
    "parameter: resume = 1\n",
    "input: \"${cwd}/genotype_plink/GTEx7.Imputed.genotyped.filtered.bed\"\n",
    "output: \"${input!n}.cis.h5\"\n",
    "task: workdir = cwd\n",
    "python:\n",
    "    import os\n",
    "    import pandas as pd, numpy as np\n",
    "    from pandas_plink import read_plink\n",
    "\n",
    "    keys = []\n",
    "    if os.path.isfile(${output!r}):\n",
    "       if ${resume} == 1:\n",
    "          print(\"loading existing database ${output!b}\")\n",
    "          keys = pd.HDFStore(${output!r}).keys()\n",
    "          print(\"{} existing genes will be skipped\".format(len(keys)))\n",
    "       else:\n",
    "          os.remove(${output!r})\n",
    "\n",
    "    (bim, fam, bed) = read_plink(${input!nr})\n",
    "    ann = [x.strip().split() for x in open(\"${cwd!a}/h5_formatted/${rna_cnts!bn}.annotation\").readlines()]\n",
    "    n = len(ann)\n",
    "    empty_genes = []\n",
    "    for i, line in enumerate(ann):\n",
    "        if(i % 100 == 0):\n",
    "            print('[percent completed] %.2f' % ((float(i)/n)*100))\n",
    "        if line[0] not in list(map(str, [x+1 for x in range(22)])):\n",
    "            continue\n",
    "        if '/chr{}/{}'.format(line[0], line[3]) in keys:\n",
    "            continue\n",
    "        snps = bim.query(\"chrom == '{}' and (pos >= {} and pos <= {})\".\\\n",
    "                                format(line[0], int(line[1]) - ${cis}, int(line[1]) + ${cis}))\n",
    "        if (snps.empty):\n",
    "            empty_genes.append(line[3])\n",
    "            continue\n",
    "        X = pd.DataFrame(2 - bed[snps.i,:].compute(), \n",
    "                         index = [':'.join((x.split('_', 1)[0], y,z)) for x, y, z in zip(snps.snp, snps.a1, snps.a0)], \n",
    "                         columns = fam.iid, dtype = np.uint8)\n",
    "        X.to_hdf(${output!r}, 'chr{}/{}'.format(line[0], line[3]), mode = 'a', complevel = 9, complib = 'zlib')\n",
    "    with open(\"${output!n}.empty_genes\", 'w') as f:\n",
    "         f.write('\\n'.join(empty_genes))"
   ]
  },
  {
   "cell_type": "code",
   "execution_count": 5,
   "metadata": {
    "kernel": "SoS"
   },
   "outputs": [
    {
     "data": {
      "text/html": [
       "<p class=\"session_section\">SoS</p>\n",
       "<table class=\"session_info\">\n",
       "<tr>\n",
       "<th>SoS Version</th><td><pre>0.9.8.10</pre></td>\n",
       "</tr>\n",
       "</table>\n"
      ]
     },
     "metadata": {},
     "output_type": "display_data"
    }
   ],
   "source": [
    "%sessioninfo"
   ]
  }
 ],
 "metadata": {
  "kernelspec": {
   "display_name": "SoS",
   "language": "sos",
   "name": "sos"
  },
  "language_info": {
   "codemirror_mode": "sos",
   "file_extension": ".sos",
   "mimetype": "text/x-sos",
   "name": "sos",
   "nbconvert_exporter": "sos_notebook.converter.SoS_Exporter",
   "pygments_lexer": "sos"
  },
  "sos": {
   "default_kernel": "SoS",
   "kernels": [
    [
     "SoS",
     "sos",
     "",
     ""
    ],
    [
     "Python3",
     "python3",
     "Python3",
     "#FFE771"
    ],
    [
     "R",
     "ir",
     "R",
     "#DCDCDA"
    ]
   ],
   "panel": {
    "displayed": true,
    "height": 0,
    "style": "side"
   }
  }
 },
 "nbformat": 4,
 "nbformat_minor": 2
}
