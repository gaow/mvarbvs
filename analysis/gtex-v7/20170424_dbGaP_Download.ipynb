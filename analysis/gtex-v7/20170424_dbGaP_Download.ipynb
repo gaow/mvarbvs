{
 "cells": [
  {
   "cell_type": "markdown",
   "metadata": {},
   "source": [
    "# Download data from dbGaP\n",
    "A brief documentation to how dbGaP website is accessed & how to download data."
   ]
  },
  {
   "cell_type": "markdown",
   "metadata": {},
   "source": [
    "## dbGaP access\n",
    "Visit [dbGaP](https://www.ncbi.nlm.nih.gov/gap), click on `Controlled Access Data`, then login with your eRA Commons account. You'll see the dataset previously applied for and approved under the tab `Authorized Access -> My Requests`. In the column `Actions` click `Request Files` for the dataset you want to download, then click / select data file names. After all is done, create the data request and wait for an email.\n",
    "\n",
    "### GTEx data\n",
    "In my case, I'd use the Request for `Exchange Area` data, and go to `Provisional files`. Currently version 7 (V7) is more or less ready for analysis (QC completed). The manifest of dataset I requested can be [found here](https://github.com/stephenslab/gtex-eqtls/tree/master/data/confidential).\n",
    "\n",
    "**Update: Sept 24, 2017 there is V8 eQTL release**. \n",
    "\n",
    "```\n",
    "gtex/exchange/GTEx_phs000424/exchange/analysis_releases/GTEx_Analysis_2017-06-05_v8/eqtl\n",
    "```"
   ]
  },
  {
   "cell_type": "markdown",
   "metadata": {
    "collapsed": true
   },
   "source": [
    "## Download and decypt the data\n",
    "Email received from dbGaP should contain a link to download instruction page. It requires `ascp` command tool to download and `sra toolkit` to decode the data.\n",
    "\n",
    "```\n",
    "ascp -QTr -l 500M -k 1 -i `pwd`/.asperaweb_id_dsa.openssh -W ... dbtest@gap-upload.ncbi.nlm.nih.gov:data/instant/... .\n",
    "vdb-decrypt --decrypt-sra-files variant_calls/* -v\n",
    "vdb-decrypt --decrypt-sra-files sample_annotations/* -v\n",
    "vdb-decrypt --decrypt-sra-files rna-seq/* -v\n",
    "...\n",
    "```\n",
    "Where a file `.asperaweb_id_dsa.openssh` is required (this file can be found on `midway` where I store the downloaded data)."
   ]
  }
 ],
 "metadata": {
  "kernelspec": {
   "display_name": "SoS",
   "language": "sos",
   "name": "sos"
  },
  "language_info": {
   "codemirror_mode": "sos",
   "file_extension": ".sos",
   "mimetype": "text/x-sos",
   "name": "sos",
   "nbconvert_exporter": "sos.jupyter.converter.SoS_Exporter",
   "pygments_lexer": "sos"
  },
  "sos": {
   "default_kernel": "SoS",
   "kernels": [
    [
     "Python3",
     "python3",
     "Python3",
     "#FFE771"
    ],
    [
     "R",
     "ir",
     "R",
     "#DCDCDA"
    ],
    [
     "SoS",
     "sos",
     "",
     ""
    ]
   ],
   "panel": {
    "displayed": true,
    "height": 0,
    "style": "side"
   }
  }
 },
 "nbformat": 4,
 "nbformat_minor": 2
}
