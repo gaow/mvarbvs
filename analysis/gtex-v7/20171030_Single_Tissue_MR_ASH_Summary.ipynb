{
 "cells": [
  {
   "cell_type": "markdown",
   "metadata": {},
   "source": [
    "# Summary of single tissue analysis results\n",
    "From > 25K RDS files"
   ]
  },
  {
   "cell_type": "markdown",
   "metadata": {},
   "source": [
    "Currently all results are stored in RDS format per gene per tissue, containing all relevant data in the `mr-ash` model fit. We need to extract relevant information from them.\n"
   ]
  },
  {
   "cell_type": "markdown",
   "metadata": {},
   "source": [
    "## Number of eQTLs per gene"
   ]
  },
  {
   "cell_type": "code",
   "execution_count": null,
   "metadata": {
    "kernel": "SoS"
   },
   "outputs": [],
   "source": [
    "[global]\n",
    "parameter: cwd = '/home/gaow/Documents/GTExV8/MR_ASH'\n",
    "\n",
    "[default_1]\n",
    "tissues = ['Lung', 'Thyroid', 'Whole_Blood']\n",
    "input: for_each = ['tissues']\n",
    "output: \"${cwd}/${_tissues}.eqtl\"\n",
    "task: workdir = cwd, walltime = '6h', cores = 1, mem = \"2G\"\n",
    "R:\n",
    "    setwd(\"${cwd}/${_tissues}\")\n",
    "    sample.files = Sys.glob(\"*.rds\")\n",
    "    eqtls = list()\n",
    "    for (i in 1:length(sample.files)) {\n",
    "        lfsr = readRDS(sample.files[i])$mr_ash$fit$lfsr\n",
    "        eqtls[[sample.files[i]]] = paste0(names(lfsr[lfsr < 0.05]), collapse = ',')\n",
    "    }\n",
    "    write.table(do.call(rbind, eqtls), ${_output!r}, col.names=F, quote=F)\n",
    "\n",
    "[default_2]\n",
    "input: group_by = 1\n",
    "output: \"${_input}.pdf\"\n",
    "task:\n",
    "python:\n",
    "    def barplot(summary, fn):\n",
    "        import pandas as pd, seaborn as sns, matplotlib.pyplot as plt\n",
    "        import os\n",
    "        summary = pd.Series(summary).value_counts()\n",
    "        total = sum(summary)\n",
    "        df = pd.DataFrame({'groups': [int(x) for x in summary.index], 'val': [x/total for x in summary]})\n",
    "        df = df.sort_values(by='groups')\n",
    "        sns.mpl.rc(\"figure\", figsize=(5,5))\n",
    "        colors = ['#348ABD', '#7A68A6', '#A60628', '#467821', '#FF0000', '#188487', '#E2A233',\n",
    "                  '#A9A9A9', '#000000', '#FF00FF', '#FFD700', '#ADFF2F', '#00FFFF', '#10B7B3', '#FF5757']\n",
    "        ax = sns.barplot(x = 'groups', y = 'val', data = df)\n",
    "        sns.despine()\n",
    "        ax.set_ylabel('Percentage')\n",
    "        ax.set_xlabel('Number of eQTLs for ${_input!bn}')\n",
    "        vals = ax.get_yticks()\n",
    "        ax.set_yticklabels(['{:.1f}%'.format(x*100) for x in vals])\n",
    "        #ax.set_yticklabels([])\n",
    "        ax.get_figure().savefig(fn, bbox_inches='tight')\n",
    "        plt.clf()\n",
    "\n",
    "    data = [x.strip('\\n').split() for x in open(${_input!r}).readlines()]\n",
    "    summary = [x[1].count(',') + 1 for x in data if len(x) > 1] + [0 for x in data if len(x) == 1]\n",
    "    barplot(summary, ${_output!r})"
   ]
  },
  {
   "cell_type": "markdown",
   "metadata": {
    "kernel": "SoS"
   },
   "source": [
    "## Summary for Thyroid data"
   ]
  },
  {
   "cell_type": "markdown",
   "metadata": {},
   "source": [
    "```\n",
    "\n",
    "> stem(num.eqtls, width = 0)\n",
    "\n",
    "  The decimal point is at the |\n",
    "\n",
    "   0 | +17248\n",
    "   1 | +5003\n",
    "   2 | +1840\n",
    "   3 | +625\n",
    "   4 | +203\n",
    "   5 | +90\n",
    "   6 | +43\n",
    "   7 | +23\n",
    "   8 | +10\n",
    "   9 | +4\n",
    "  10 | +4\n",
    "  11 | +3\n",
    "  12 | +2\n",
    "  13 | \n",
    "  14 | +3\n",
    "\n",
    "> length(num.eqtls)\n",
    "[1] 25101\n",
    "```"
   ]
  },
  {
   "cell_type": "markdown",
   "metadata": {},
   "source": [
    "In sum, `mr-ash` has detected at least one eQTL in 31.28% genes. Of these genes, 63.7% has one eQTL, 23.4% has 2 eQTL and 12.9% has 3 or more."
   ]
  },
  {
   "cell_type": "markdown",
   "metadata": {},
   "source": [
    "## Distribution of eQTLs per gene"
   ]
  },
  {
   "cell_type": "code",
   "execution_count": 3,
   "metadata": {
    "kernel": "SoS",
    "scrolled": false,
    "tags": [
     "report_output"
    ]
   },
   "outputs": [
    {
     "data": {
      "text/html": [
       "<div class=\"sos_hint\">> img/Whole_Blood.eqtl.pdf (15.1 KiB):</div>"
      ],
      "text/plain": [
       "\n",
       "> img/Whole_Blood.eqtl.pdf (15.1 KiB):"
      ]
     },
     "metadata": {},
     "output_type": "display_data"
    },
    {
     "data": {
      "text/html": [
       "<iframe src=img/Whole_Blood.eqtl.pdf width=\"800px\" height=\"747.2779369627507px\"></iframe>"
      ]
     },
     "metadata": {},
     "output_type": "display_data"
    },
    {
     "data": {
      "text/html": [
       "<div class=\"sos_hint\">> img/Lung.eqtl.pdf (13.7 KiB):</div>"
      ],
      "text/plain": [
       "\n",
       "> img/Lung.eqtl.pdf (13.7 KiB):"
      ]
     },
     "metadata": {},
     "output_type": "display_data"
    },
    {
     "data": {
      "text/html": [
       "<iframe src=img/Lung.eqtl.pdf width=\"800px\" height=\"744.9856733524356px\"></iframe>"
      ]
     },
     "metadata": {},
     "output_type": "display_data"
    },
    {
     "data": {
      "text/html": [
       "<div class=\"sos_hint\">> img/Thyroid.eqtl.pdf (14.8 KiB):</div>"
      ],
      "text/plain": [
       "\n",
       "> img/Thyroid.eqtl.pdf (14.8 KiB):"
      ]
     },
     "metadata": {},
     "output_type": "display_data"
    },
    {
     "data": {
      "text/html": [
       "<iframe src=img/Thyroid.eqtl.pdf width=\"800px\" height=\"744.9856733524356px\"></iframe>"
      ]
     },
     "metadata": {},
     "output_type": "display_data"
    }
   ],
   "source": [
    "%preview img/Thyroid.eqtl.pdf -n\n",
    "%preview img/Lung.eqtl.pdf -n\n",
    "%preview img/Whole_Blood.eqtl.pdf -n"
   ]
  },
  {
   "cell_type": "markdown",
   "metadata": {},
   "source": [
    "```\n",
    "sos run analysis/20171030_Single_Tissue_MR_ASH_Summary.ipynb -r midway2\n",
    "```"
   ]
  }
 ],
 "metadata": {
  "kernelspec": {
   "display_name": "SoS",
   "language": "sos",
   "name": "sos"
  },
  "language_info": {
   "codemirror_mode": "sos",
   "file_extension": ".sos",
   "mimetype": "text/x-sos",
   "name": "sos",
   "nbconvert_exporter": "sos_notebook.converter.SoS_Exporter",
   "pygments_lexer": "sos"
  },
  "sos": {
   "default_kernel": "SoS",
   "kernels": [
    [
     "R",
     "ir",
     "R",
     "#DCDCDA"
    ],
    [
     "Python3",
     "python3",
     "Python3",
     "#FFE771"
    ],
    [
     "SoS",
     "sos",
     "",
     ""
    ]
   ],
   "panel": {
    "displayed": false,
    "height": 0,
    "style": "side"
   }
  }
 },
 "nbformat": 4,
 "nbformat_minor": 2
}
