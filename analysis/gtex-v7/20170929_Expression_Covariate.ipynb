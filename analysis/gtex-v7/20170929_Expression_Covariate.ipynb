{
 "cells": [
  {
   "cell_type": "markdown",
   "metadata": {},
   "source": [
    "# GTEx V8 expression and covariate data\n",
    "Save V8 expression and covariates to HDF5 format, for use with association analysis."
   ]
  },
  {
   "cell_type": "code",
   "execution_count": null,
   "metadata": {
    "collapsed": true
   },
   "outputs": [],
   "source": [
    "[global]\n",
    "cwd = \"~/Documents/GTExV8\""
   ]
  },
  {
   "cell_type": "markdown",
   "metadata": {},
   "source": [
    "## Covariates format and computation\n",
    "For covariate data we also compute a version of its orthonormal basis to be used for `mr-ash` analysis."
   ]
  },
  {
   "cell_type": "code",
   "execution_count": null,
   "metadata": {
    "collapsed": true
   },
   "outputs": [],
   "source": [
    "%sosrun format_covar\n",
    "[format_covar]\n",
    "# Consolidate covariates to HDF5 format\n",
    "input: glob.glob(\"${cwd!a}/GTEx_Analysis_v8_eQTL_covariates/*.v8.covariates.txt\")\n",
    "output: \"${cwd!a}/GTExV8.covariates.h5\", \"${cwd!a}/GTExV8.covariates.orth.h5\"\n",
    "task: workdir = cwd\n",
    "python:\n",
    "    import os\n",
    "    import pandas as pd\n",
    "    import scipy.linalg\n",
    "    if os.path.isfile(${output[0]!ar}):\n",
    "       os.remove(${output[0]!ar})\n",
    "    if os.path.isfile(${output[1]!ar}):\n",
    "       os.remove(${output[1]!ar})\n",
    "    for fn, table in zip([${input!ar,}], [${input!bnnnr,}]):\n",
    "        samples = pd.read_csv(fn, header = 0, sep = '\\t', index_col = 0).transpose()\n",
    "        samples.to_hdf(${output[0]!ar}, '/{}'.format(table), mode = 'a', complevel = 9, complib = 'zlib')\n",
    "        samples_orth = pd.DataFrame(scipy.linalg.orth(samples), index = samples.index)\n",
    "        samples_orth.to_hdf(${output[1]!ar}, '/{}'.format(table), mode = 'a', complevel = 9, complib = 'zlib')"
   ]
  },
  {
   "cell_type": "markdown",
   "metadata": {},
   "source": [
    "## Expression data format"
   ]
  },
  {
   "cell_type": "code",
   "execution_count": null,
   "metadata": {
    "collapsed": true
   },
   "outputs": [],
   "source": [
    "%sosrun format_expr\n",
    "[format_expr]\n",
    "# Consolidate expression data to HDF5 format\n",
    "input: glob.glob(\"${cwd!a}/GTEx_Analysis_v8_eQTL_expression_matrices/*.v8.normalized_expression.bed.gz\")\n",
    "output: \"${cwd!a}/GTExV8.expression.h5\"\n",
    "task: workdir = cwd\n",
    "python:\n",
    "    import os\n",
    "    import pandas as pd\n",
    "    if os.path.isfile(${output!ar}):\n",
    "       os.remove(${output!ar})\n",
    "    for fn, table in zip([${input!ar,}], [${input!bnnnnr,}]):\n",
    "        dat = pd.read_csv(fn, sep = \"\\t\", header = 0, index_col = 3)\n",
    "        dat.drop(dat.columns[[0,1,2]],axis=1, inplace = True)\n",
    "        dat.to_hdf(${output!ar}, '/{}'.format(table), mode = 'a', complevel = 9, complib = 'zlib')"
   ]
  }
 ],
 "metadata": {
  "kernelspec": {
   "display_name": "SoS",
   "language": "sos",
   "name": "sos"
  },
  "language_info": {
   "codemirror_mode": "sos",
   "file_extension": ".sos",
   "mimetype": "text/x-sos",
   "name": "sos",
   "nbconvert_exporter": "sos.jupyter.converter.SoS_Exporter",
   "pygments_lexer": "sos"
  },
  "sos": {
   "default_kernel": "SoS",
   "kernels": [
    [
     "Python3",
     "python3",
     "Python3",
     "#FFE771"
    ],
    [
     "R",
     "ir",
     "R",
     "#DCDCDA"
    ],
    [
     "SoS",
     "sos",
     "",
     ""
    ]
   ],
   "panel": {
    "displayed": true,
    "height": 0,
    "style": "side"
   }
  }
 },
 "nbformat": 4,
 "nbformat_minor": 2
}
