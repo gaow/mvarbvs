{
 "cells": [
  {
   "cell_type": "markdown",
   "metadata": {},
   "source": [
    "# GTEx V8 genotypes\n",
    "Save V8 genotype data to HDF5 for association analysis.\n",
    "\n",
    "Genotype here already have been imputed and filtered for MAF > 1%. I only need to convert VCF to HDF5 format for per-gene data. "
   ]
  },
  {
   "cell_type": "code",
   "execution_count": 1,
   "metadata": {
    "collapsed": true,
    "kernel": "SoS"
   },
   "outputs": [],
   "source": [
    "[global]\n",
    "cwd = \"~/Documents/GTExV8\"\n",
    "parameter: genotype =  \"${cwd!a}/genotypes/GTEx_Analysis_2017-06-05_v8_WholeGenomeSeq_838Indiv_Analysis_Freeze_MAF001_GTonly.vcf.gz\""
   ]
  },
  {
   "cell_type": "markdown",
   "metadata": {},
   "source": [
    "## Convert data to PLINK format"
   ]
  },
  {
   "cell_type": "code",
   "execution_count": 21,
   "metadata": {
    "kernel": "SoS"
   },
   "outputs": [
    {
     "data": {
      "text/html": [
       "<div class=\"sos_hint\">1 task completed: <a onclick=\"task_info('feddbd1ae22a2e381ae18929820b56fe', 'localhost')\">fedd</a></div>"
      ]
     },
     "metadata": {},
     "output_type": "display_data"
    },
    {
     "name": "stdout",
     "output_type": "stream",
     "text": [
      "\n"
     ]
    },
    {
     "data": {
      "text/html": [
       "<div class=\"sos_hint\">1 task completed: <a onclick=\"task_info('83512939c1bd9e2e670488430efd10e5', 'localhost')\">8351</a></div>"
      ]
     },
     "metadata": {},
     "output_type": "display_data"
    },
    {
     "name": "stdout",
     "output_type": "stream",
     "text": [
      "\n"
     ]
    }
   ],
   "source": [
    "%sosrun vcf_to_plink -b ~/Documents/GTExV8/utils\n",
    "[vcf_to_plink_1]\n",
    "# VCF to plink rough conversion\n",
    "missing_geno_filter = 0.05\n",
    "depends: executable(\"plink\")\n",
    "input: genotype\n",
    "output: \"${input!nn}.bed\"\n",
    "task: workdir = cwd\n",
    "run:\n",
    "  plink --vcf ${input} --a1-allele <(zcat ${input}) 4 3 '#' --out ${output!n} --make-bed \\\n",
    "        --geno ${missing_geno_filter}\n",
    "\n",
    "[vcf_to_plink_2]\n",
    "# Fix multi-allelic sites\n",
    "# By replacing ID\n",
    "output: \"${input!n}.bim\"\n",
    "task: workdir = cwd\n",
    "python:\n",
    "    from collections import Counter\n",
    "    counter = Counter()\n",
    "    lines = [x.strip().split() for x in open(${output!r}).readlines()]\n",
    "    for idx, item in enumerate(lines):\n",
    "        if not lines[idx][1].endswith('b38'):\n",
    "            counter.update({lines[idx][1]: 1})\n",
    "            lines[idx][1] = (lines[idx][1] + '_' + str(counter[lines[idx][1]])) if counter[lines[idx][1]] else lines[idx][1]\n",
    "    with open(${output!r}, 'w') as f:\n",
    "        f.write('\\n'.join(['\\t'.join(x) for x in lines]))"
   ]
  },
  {
   "cell_type": "markdown",
   "metadata": {},
   "source": [
    "## Create cisSNP genotype data files\n",
    "This is largely copied from `20170530_CisSNP.ipynb`, with fixes on string coding -- as it now assumes the first allele in bim file in fact is the reference allele. Previously it was not the case. In the current version the PLINK/BED file I generate uses reference allele in VCF as allele 1."
   ]
  },
  {
   "cell_type": "markdown",
   "metadata": {},
   "source": [
    "### Annotate genes\n",
    "Code chunk below annotates genes to chromosomal positions. Genes are taken from the GTEx expression file."
   ]
  },
  {
   "cell_type": "code",
   "execution_count": 4,
   "metadata": {
    "kernel": "SoS"
   },
   "outputs": [
    {
     "data": {
      "text/html": [
       "<div class=\"sos_hint\">1 task completed: <a onclick=\"task_info('316b86edfebd38609edb048e22dfe97b', 'localhost')\">316b</a></div>"
      ]
     },
     "metadata": {},
     "output_type": "display_data"
    },
    {
     "name": "stdout",
     "output_type": "stream",
     "text": [
      "\n"
     ]
    }
   ],
   "source": [
    "%sosrun ensembl_annotation\n",
    "[ensembl_annotation]\n",
    "# Input is GTEx expression file with first column the ENSG IDs\n",
    "depends: R_library(\"biomaRt\")\n",
    "#hg_version = \"grch37.\"\n",
    "hg_version = '' # use version b38\n",
    "input: \"${cwd!a}/rna_seq/GTEx_Analysis_2017-06-05_v8_RNASeQCv1.1.9_gene_reads.gct.gz\"\n",
    "output: \"${cwd!a}/${input!bn}.annotation\"\n",
    "task: workdir = cwd\n",
    "bash:\n",
    "    zcat ${input} | cut -f 1 | tail -n+4 | cut -f 1 -d '.' > ${input!n}.gene_id\n",
    "\n",
    "R:\n",
    "    values = unlist(read.table(\"${input!n}.gene_id\", stringsAsFactors=FALSE)) \n",
    "    ensembl = biomaRt::useMart(\"ensembl\", dataset=\"hsapiens_gene_ensembl\", host=\"www.${hg_version}ensembl.org\")\n",
    "    res = biomaRt::getBM(attributes = c(\"chromosome_name\", \"start_position\", \"end_position\", \"ensembl_gene_id\", \"hgnc_symbol\"), filters = c(\"ensembl_gene_id\"), values = values,  mart = ensembl)\n",
    "    write.table(res, file = ${output!r}, row.names=FALSE, na= \"<NA>\", col.names = FALSE)\n",
    "\n",
    "bash:\n",
    "    cat ${output} | sed -e 's/\"//g' | sort -g -o ${output}\n",
    "    rm -f ${input!n}.gene_id"
   ]
  },
  {
   "cell_type": "markdown",
   "metadata": {},
   "source": [
    "### Make cis-SNP genotype tables\n",
    "Using position annotations previously obtained, we work though the genotype data in PLINK format, , creating for each gene a table containing its cis-SNPs. Variants are first annotated to genes, then cis-SNPs to extract are defined as SNPs 1,000,000 bp up/downstream of the gene's TSS site. The outcome is a **single analysis ready file** in HDF5 format containing ~50K groups of genotype data (gene-names). Code chunk below implements the procedure."
   ]
  },
  {
   "cell_type": "code",
   "execution_count": null,
   "metadata": {
    "collapsed": true,
    "kernel": "SoS"
   },
   "outputs": [],
   "source": [
    "%sosrun cis_groups_hdf5\n",
    "[cis_groups_hdf5]\n",
    "# Convert plink genotype to HDF5 in batches of genes\n",
    "# Only autosomal genes are considered\n",
    "# cis: ${cis} up/downstream from TSS of each gene\n",
    "depends: Py_Module(\"pandas-plink\"), Py_Module(\"dask\"), \n",
    "    \"${cwd!a}/GTEx_Analysis_2017-06-05_v8_RNASeQCv1.1.9_gene_reads.gct.annotation\"\n",
    "parameter: cis = 1000000\n",
    "parameter: resume = 1\n",
    "input: \"${genotype!nn}.bed\"\n",
    "output: \"${cwd!a}/GTExV8.genotype.cis.h5\"\n",
    "#task: workdir = cwd\n",
    "python:\n",
    "    import os\n",
    "    import pandas as pd, numpy as np\n",
    "    from pandas_plink import read_plink\n",
    "    keys = []\n",
    "    if os.path.isfile(${output!r}):\n",
    "       if ${resume} == 1:\n",
    "          print(\"loading existing database ${output!b}\")\n",
    "          keys = pd.HDFStore(${output!r}).keys()\n",
    "          print(\"{} existing genes will be skipped\".format(len(keys)))\n",
    "       else:\n",
    "          os.remove(${output!r})\n",
    "\n",
    "    (bim, fam, bed) = read_plink(${input!nr})\n",
    "    ann = [x.strip().split() for x in open(\"${cwd!a}/GTEx_Analysis_2017-06-05_v8_RNASeQCv1.1.9_gene_reads.gct.annotation\").readlines()]\n",
    "    n = len(ann)\n",
    "    empty_genes = []\n",
    "    for i, line in enumerate(ann):\n",
    "        if(i % 100 == 0):\n",
    "            print('[percent completed] %.2f' % ((float(i)/n)*100))\n",
    "        if line[0] not in list(map(str, [x+1 for x in range(22)])):\n",
    "            continue\n",
    "        if '/chr{}/{}'.format(line[0], line[3]) in keys:\n",
    "            continue\n",
    "        snps = bim.query(\"chrom == '{}' and (pos >= {} and pos <= {})\".\\\n",
    "                                format(line[0], int(line[1]) - ${cis}, int(line[1]) + ${cis}))\n",
    "        if (snps.empty):\n",
    "            empty_genes.append(line[3])\n",
    "            continue\n",
    "        X = pd.DataFrame(bed[snps.i.tolist(),:].compute(), \n",
    "                         index = snps.snp.tolist(), \n",
    "                         columns = fam.iid.tolist(), dtype = np.float16).T\n",
    "        X = X.fillna(X.mean()).T\n",
    "        X.to_hdf(${output!r}, 'chr{}/{}'.format(line[0], line[3]), mode = 'a', \n",
    "                 complevel = 9, complib = 'zlib')\n",
    "    if len(empty_genes):\n",
    "        with open(\"${output!n}.log\", 'w') as f:\n",
    "            f.write('# Empty genes\\n' + '\\n'.join(empty_genes))"
   ]
  }
 ],
 "metadata": {
  "kernelspec": {
   "display_name": "SoS",
   "language": "sos",
   "name": "sos"
  },
  "language_info": {
   "codemirror_mode": "sos",
   "file_extension": ".sos",
   "mimetype": "text/x-sos",
   "name": "sos",
   "nbconvert_exporter": "sos_notebook.converter.SoS_Exporter",
   "pygments_lexer": "sos"
  },
  "sos": {
   "default_kernel": "SoS",
   "kernels": [
    [
     "SoS",
     "sos",
     "",
     ""
    ],
    [
     "Python3",
     "python3",
     "Python3",
     "#FFE771"
    ],
    [
     "R",
     "ir",
     "R",
     "#DCDCDA"
    ]
   ],
   "panel": {
    "displayed": false,
    "height": 0,
    "style": "side"
   }
  }
 },
 "nbformat": 4,
 "nbformat_minor": 2
}
