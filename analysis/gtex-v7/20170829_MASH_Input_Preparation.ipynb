{
 "cells": [
  {
   "cell_type": "markdown",
   "metadata": {},
   "source": [
    "# Preparing input data for MASH analysis\n",
    "This include input max Z score from univariate analysis and training data, for both before and after LD pruning."
   ]
  },
  {
   "cell_type": "markdown",
   "metadata": {},
   "source": [
    "This is in part responding the reviewer's request that we should use independent subset of SNPs to fit mash model and analyze, and compare with results ignoring the LD (as done in Urbut 2017). \n",
    "\n",
    "## Obtain data\n",
    "\n",
    "The required data has [previously been extracted](https://github.com/stephenslab/gtex-eqtls/blob/v6-archive/archive/src/python/analysis_admin.py#L318) from GTEx V6 stored in midway:\n",
    "\n",
    "```\n",
    "/project/mstephens/data/internal_supp/gtex-v6-sumstat-hdf5/MatrixEQTLSumStats.Portable.h5\n",
    "```\n",
    "It's a 58MB file containing only `max` and `null` summary statistics. For convenience I copy it to my local computer and process from there (see cell below)."
   ]
  },
  {
   "cell_type": "code",
   "execution_count": 3,
   "metadata": {
    "collapsed": true,
    "kernel": "SoS"
   },
   "outputs": [],
   "source": [
    "[global]\n",
    "cwd = '~/Documents/GTEx/mash_revision'\n",
    "input_db = \"${cwd!a}/MatrixEQTLSumStats.Portable.h5\""
   ]
  },
  {
   "cell_type": "code",
   "execution_count": 2,
   "metadata": {
    "kernel": "SoS",
    "tags": [
     "report_cell"
    ]
   },
   "outputs": [
    {
     "data": {
      "text/html": [
       "<div class=\"sos_hint\">1 task completed: <a onclick=\"task_info('caf98d1091c1a4cf891b9e67d5d2f215', 'localhost')\">caf9</a></div>"
      ]
     },
     "metadata": {},
     "output_type": "display_data"
    },
    {
     "name": "stdout",
     "output_type": "stream",
     "text": [
      "\n"
     ]
    }
   ],
   "source": [
    "%sosrun get_input\n",
    "[get_input: provides = input_db]\n",
    "output: input_db\n",
    "task:\n",
    "run:\n",
    "    rsync -auzP mw:/project/mstephens/data/internal_supp/gtex-v6-sumstat-hdf5/MatrixEQTLSumStats.Portable.h5 ${input_db}"
   ]
  },
  {
   "cell_type": "markdown",
   "metadata": {},
   "source": [
    "## Extract training and testing data\n",
    "The cell below loads the data, compute z-score, get a training set (and its correlation estimate $\\hat{V}$) and save to an RDS file for use with `mash` analysis. Parameter `exclude_list` specifies path to the file of rownames to exclude while extracting: by default it uses all SNPs but if a list is provided (eg list after LD pruning) it will only extract results for those SNPs."
   ]
  },
  {
   "cell_type": "code",
   "execution_count": 3,
   "metadata": {
    "collapsed": true,
    "kernel": "SoS",
    "tags": [
     "report_cell"
    ]
   },
   "outputs": [],
   "source": [
    "%sosrun extract_zscore\n",
    "[extract_zscore]\n",
    "parameter: exclude_list = 'NULL'\n",
    "parameter: num_train = 20000\n",
    "depends: R_library(\"rhdf5\")\n",
    "input: input_db\n",
    "output: \"${input_db!n}.Z.rds\" if exclude_list == 'NULL' else \"${input_db!n}.${exclude_list!bn}.Z.rds\"\n",
    "task: workdir = cwd\n",
    "R:\n",
    "    ConvertP2Z <- function(pval, beta) {\n",
    "      z <- abs(qnorm(pval / 2))\n",
    "      z[which(beta < 0)] <- -1 * z[which(beta < 0)]\n",
    "      return(z)\n",
    "    }\n",
    "\n",
    "    GetSS <- function(gene, db) {\n",
    "      dat <- rhdf5::h5read(db, gene)\n",
    "      dat$\"z-score\" <- ConvertP2Z(dat$\"p-value\", dat$\"beta\")\n",
    "      for (name in c(\"beta\", \"t-stat\", \"p-value\", \"z-score\")) {\n",
    "        dat[[name]] <- t(dat[[name]])\n",
    "        colnames(dat[[name]]) <- dat$colnames\n",
    "        rownames(dat[[name]]) <- dat$rownames\n",
    "      }\n",
    "      dat$colnames <- dat$rownames <- NULL\n",
    "      return(dat)\n",
    "    }\n",
    "\n",
    "    load_data = function(table) {\n",
    "        # load data\n",
    "        mdat = GetSS('max', ${input!r})[[table]]\n",
    "        ndat = GetSS('null', ${input!r})[[table]]\n",
    "        # select rows to keep\n",
    "        num_train = ${num_train}\n",
    "        if (num_train >= nrow(ndat)) {\n",
    "            num_train = floor(nrow(ndat) / 2)\n",
    "        }\n",
    "        train = ndat[1:num_train,]\n",
    "        validate = ndat[(num_train+1):nrow(ndat),]\n",
    "        if (${exclude_list!r} != \"NULL\") {\n",
    "            pout = scan(${exclude_list!r}, what=\"character\", sep=NULL)\n",
    "            names = apply(sapply(strsplit(rownames(mdat), \"_\"), `[`, c(2,3)), 2, function(x) paste(x, collapse = ':'))\n",
    "            mdat = mdat[!(names %in% pout),]\n",
    "            names = apply(sapply(strsplit(rownames(ndat), \"_\"), `[`, c(2,3)), 2, function(x) paste(x, collapse = ':'))\n",
    "            ndat = ndat[!(names %in% pout),]\n",
    "            names = apply(sapply(strsplit(rownames(train), \"_\"), `[`, c(2,3)), 2, function(x) paste(x, collapse = ':'))\n",
    "            train = train[!(names %in% pout),]\n",
    "            names = apply(sapply(strsplit(rownames(validate), \"_\"), `[`, c(2,3)), 2, function(x) paste(x, collapse = ':'))\n",
    "            validate = validate[!(names %in% pout),]                                              \n",
    "        }\n",
    "        # get vhat (SVS)\n",
    "        vhat = NULL\n",
    "        if (table == 'z-score') {\n",
    "            max_absz = apply(abs(ndat),1, max)\n",
    "            nullish = which(max_absz < 2)\n",
    "            nz = ndat[nullish,]\n",
    "            vhat = cor(nz)\n",
    "        }\n",
    "        return(list(train = train,\n",
    "               validate = validate, \n",
    "               test = mdat, vhat = vhat))\n",
    "    }\n",
    "    ztable = load_data(\"z-score\")\n",
    "    btable = load_data(\"beta\")\n",
    "    # save output\n",
    "    saveRDS(list(train.z = ztable$train,\n",
    "                 validate.z = ztable$validate,\n",
    "                 test.z = ztable$test,\n",
    "                 train.b = btable$train,\n",
    "                 validate.b = btable$validate,\n",
    "                 test.b = btable$test,\n",
    "                 vhat = ztable$vhat), ${output!r})"
   ]
  },
  {
   "cell_type": "code",
   "execution_count": 7,
   "metadata": {
    "kernel": "SoS"
   },
   "outputs": [
    {
     "name": "stdout",
     "output_type": "stream",
     "text": [
      "List of 7\n",
      " $ train.z   : num [1:20000, 1:44] -0.184 0.161 -1.291 -1.628 0.778 ...\n",
      "  ..- attr(*, \"dimnames\")=List of 2\n",
      "  .. ..$ : chr [1:20000] \"ENSG00000000419.8_20_49782767_C_G_b37\" \"ENSG00000000419.8_20_49654572_A_G_b37\" \"ENSG00000000419.8_20_49392478_A_G_b37\" \"ENSG00000000457.9_1_169117725_TG_T_b37\" ...\n",
      "  .. ..$ : chr [1:44] \"Adipose_Subcutaneous\" \"Adipose_Visceral_Omentum\" \"Adrenal_Gland\" \"Artery_Aorta\" ...\n",
      " $ validate.z: num [1:28198, 1:44] 0.107 1.1672 0.2172 0.3499 -0.0481 ...\n",
      "  ..- attr(*, \"dimnames\")=List of 2\n",
      "  .. ..$ : chr [1:28198] \"ENSG00000151665.8_2_47601407_A_G_b37\" \"ENSG00000151687.10_2_190118691_T_G_b37\" \"ENSG00000151687.10_2_191462133_C_T_b37\" \"ENSG00000151687.10_2_190620957_G_A_b37\" ...\n",
      "  .. ..$ : chr [1:44] \"Adipose_Subcutaneous\" \"Adipose_Visceral_Omentum\" \"Adrenal_Gland\" \"Artery_Aorta\" ...\n",
      " $ test.z    : num [1:16069, 1:44] 0.14 0.955 0.32 1.844 -4.235 ...\n",
      "  ..- attr(*, \"dimnames\")=List of 2\n",
      "  .. ..$ : chr [1:16069(1d)] \"ENSG00000000419.8_20_49461813_G_C_b37\" \"ENSG00000000457.9_1_169695110_T_A_b37\" \"ENSG00000000460.12_1_169655079_G_A_b37\" \"ENSG00000000938.8_1_27888990_T_C_b37\" ...\n",
      "  .. ..$ : chr [1:44(1d)] \"Adipose_Subcutaneous\" \"Adipose_Visceral_Omentum\" \"Adrenal_Gland\" \"Artery_Aorta\" ...\n",
      " $ train.b   : num [1:20000, 1:44] -0.01192 0.00986 -0.11973 -0.09686 0.05309 ...\n",
      "  ..- attr(*, \"dimnames\")=List of 2\n",
      "  .. ..$ : chr [1:20000] \"ENSG00000000419.8_20_49782767_C_G_b37\" \"ENSG00000000419.8_20_49654572_A_G_b37\" \"ENSG00000000419.8_20_49392478_A_G_b37\" \"ENSG00000000457.9_1_169117725_TG_T_b37\" ...\n",
      "  .. ..$ : chr [1:44] \"Adipose_Subcutaneous\" \"Adipose_Visceral_Omentum\" \"Adrenal_Gland\" \"Artery_Aorta\" ...\n",
      " $ validate.b: num [1:28198, 1:44] 0.00967 0.08876 0.0131 0.02502 -0.00229 ...\n",
      "  ..- attr(*, \"dimnames\")=List of 2\n",
      "  .. ..$ : chr [1:28198] \"ENSG00000151665.8_2_47601407_A_G_b37\" \"ENSG00000151687.10_2_190118691_T_G_b37\" \"ENSG00000151687.10_2_191462133_C_T_b37\" \"ENSG00000151687.10_2_190620957_G_A_b37\" ...\n",
      "  .. ..$ : chr [1:44] \"Adipose_Subcutaneous\" \"Adipose_Visceral_Omentum\" \"Adrenal_Gland\" \"Artery_Aorta\" ...\n",
      " $ test.b    : num [1:16069, 1:44] 0.0105 0.1067 0.0168 0.0853 -0.2458 ...\n",
      "  ..- attr(*, \"dimnames\")=List of 2\n",
      "  .. ..$ : chr [1:16069(1d)] \"ENSG00000000419.8_20_49461813_G_C_b37\" \"ENSG00000000457.9_1_169695110_T_A_b37\" \"ENSG00000000460.12_1_169655079_G_A_b37\" \"ENSG00000000938.8_1_27888990_T_C_b37\" ...\n",
      "  .. ..$ : chr [1:44(1d)] \"Adipose_Subcutaneous\" \"Adipose_Visceral_Omentum\" \"Adrenal_Gland\" \"Artery_Aorta\" ...\n",
      " $ vhat      : num [1:44, 1:44] 1 0.0674 0.0142 0.0686 0.03 ...\n",
      "  ..- attr(*, \"dimnames\")=List of 2\n",
      "  .. ..$ : chr [1:44] \"Adipose_Subcutaneous\" \"Adipose_Visceral_Omentum\" \"Adrenal_Gland\" \"Artery_Aorta\" ...\n",
      "  .. ..$ : chr [1:44] \"Adipose_Subcutaneous\" \"Adipose_Visceral_Omentum\" \"Adrenal_Gland\" \"Artery_Aorta\" ...\n"
     ]
    }
   ],
   "source": [
    "R:\n",
    "    dat = readRDS(\"${input_db!n}.Z.rds\")\n",
    "    str(dat)"
   ]
  },
  {
   "cell_type": "markdown",
   "metadata": {},
   "source": [
    "# Extract from selected list\n",
    "The default procedure above extracts all SNPs to RDS. Here running previously established workflows we create lists of LD pruned SNPs. To prune SNPs based on what we have in the database and the actual genotypes, first we extract SNP names the database (done previously) and feed them to LD pruning routine.\n",
    "\n",
    "For test SNPs\n",
    "\n",
    "```bash\n",
    "sos run analysis/20170828_Compute_LD.ipynb get_ld:1-2 -b ~/Documents/GTEx/bin \\\n",
    "    --input_list $HOME/Documents/GTEx/mash_revision/snp_eqtl.txt \n",
    "```\n",
    "\n",
    "```\n",
    "Pruning complete.  4204 of 13030 variants removed.\n",
    "```\n",
    "\n",
    "For train SNPs\n",
    "\n",
    "```bash\n",
    "sos run analysis/20170828_Compute_LD.ipynb get_ld:1-2 -b ~/Documents/GTEx/bin \\\n",
    "    --input_list $HOME/Documents/GTEx/mash_revision/snp_random.txt \n",
    "```\n",
    "\n",
    "```\n",
    "Pruning complete.  19405 of 41038 variants removed.\n",
    "```\n",
    "\n",
    "We end up with two lists: `snp_eqtls.extracted.prune.out` and `snp_random.extracted.prune.out`. We consolidate them to one list `ld2.out`."
   ]
  },
  {
   "cell_type": "code",
   "execution_count": 2,
   "metadata": {
    "collapsed": true,
    "kernel": "SoS"
   },
   "outputs": [],
   "source": [
    "!cat /home/gaow/Documents/GTEx/mash_revision/snp_eqtls.extracted.prune.out \\\n",
    "     /home/gaow/Documents/GTEx/mash_revision/snp_random.extracted.prune.out > \\\n",
    "     /home/gaow/Documents/GTEx/mash_revision/ld2.out   "
   ]
  },
  {
   "cell_type": "markdown",
   "metadata": {},
   "source": [
    "To extract data excluding `ld2.out` simply execute the workflow above with `exclude_list` set to `ld2.out`:\n",
    "\n",
    "```\n",
    "sos run analysis/20170829_MASH_Input_Preparation extract_zscore \\\n",
    "    --exclude_list /home/gaow/Documents/GTEx/mash_revision/ld2.out\n",
    "```"
   ]
  },
  {
   "cell_type": "code",
   "execution_count": 6,
   "metadata": {
    "kernel": "SoS"
   },
   "outputs": [
    {
     "name": "stdout",
     "output_type": "stream",
     "text": [
      "List of 7\n",
      " $ train.z   : num [1:12143, 1:44] -0.184 0.161 -1.291 -1.628 0.778 ...\n",
      "  ..- attr(*, \"dimnames\")=List of 2\n",
      "  .. ..$ : chr [1:12143] \"ENSG00000000419.8_20_49782767_C_G_b37\" \"ENSG00000000419.8_20_49654572_A_G_b37\" \"ENSG00000000419.8_20_49392478_A_G_b37\" \"ENSG00000000457.9_1_169117725_TG_T_b37\" ...\n",
      "  .. ..$ : chr [1:44] \"Adipose_Subcutaneous\" \"Adipose_Visceral_Omentum\" \"Adrenal_Gland\" \"Artery_Aorta\" ...\n",
      " $ validate.z: num [1:16316, 1:44] 1.167 1.099 3.371 0.293 -0.384 ...\n",
      "  ..- attr(*, \"dimnames\")=List of 2\n",
      "  .. ..$ : chr [1:16316] \"ENSG00000151687.10_2_190118691_T_G_b37\" \"ENSG00000151689.8_2_191969341_C_T_b37\" \"ENSG00000151690.10_2_191471847_C_T_b37\" \"ENSG00000151690.10_2_191018883_G_A_b37\" ...\n",
      "  .. ..$ : chr [1:44] \"Adipose_Subcutaneous\" \"Adipose_Visceral_Omentum\" \"Adrenal_Gland\" \"Artery_Aorta\" ...\n",
      " $ test.z    : num [1:11619, 1:44] 0.14 0.955 0.32 -4.235 -3.829 ...\n",
      "  ..- attr(*, \"dimnames\")=List of 2\n",
      "  .. ..$ : chr [1:11619] \"ENSG00000000419.8_20_49461813_G_C_b37\" \"ENSG00000000457.9_1_169695110_T_A_b37\" \"ENSG00000000460.12_1_169655079_G_A_b37\" \"ENSG00000000971.11_1_196513323_A_G_b37\" ...\n",
      "  .. ..$ : chr [1:44] \"Adipose_Subcutaneous\" \"Adipose_Visceral_Omentum\" \"Adrenal_Gland\" \"Artery_Aorta\" ...\n",
      " $ train.b   : num [1:12143, 1:44] -0.01192 0.00986 -0.11973 -0.09686 0.05309 ...\n",
      "  ..- attr(*, \"dimnames\")=List of 2\n",
      "  .. ..$ : chr [1:12143] \"ENSG00000000419.8_20_49782767_C_G_b37\" \"ENSG00000000419.8_20_49654572_A_G_b37\" \"ENSG00000000419.8_20_49392478_A_G_b37\" \"ENSG00000000457.9_1_169117725_TG_T_b37\" ...\n",
      "  .. ..$ : chr [1:44] \"Adipose_Subcutaneous\" \"Adipose_Visceral_Omentum\" \"Adrenal_Gland\" \"Artery_Aorta\" ...\n",
      " $ validate.b: num [1:16316, 1:44] 0.0888 0.064 0.1382 0.0142 -0.0199 ...\n",
      "  ..- attr(*, \"dimnames\")=List of 2\n",
      "  .. ..$ : chr [1:16316] \"ENSG00000151687.10_2_190118691_T_G_b37\" \"ENSG00000151689.8_2_191969341_C_T_b37\" \"ENSG00000151690.10_2_191471847_C_T_b37\" \"ENSG00000151690.10_2_191018883_G_A_b37\" ...\n",
      "  .. ..$ : chr [1:44] \"Adipose_Subcutaneous\" \"Adipose_Visceral_Omentum\" \"Adrenal_Gland\" \"Artery_Aorta\" ...\n",
      " $ test.b    : num [1:11619, 1:44] 0.0105 0.1067 0.0168 -0.2458 -0.1605 ...\n",
      "  ..- attr(*, \"dimnames\")=List of 2\n",
      "  .. ..$ : chr [1:11619] \"ENSG00000000419.8_20_49461813_G_C_b37\" \"ENSG00000000457.9_1_169695110_T_A_b37\" \"ENSG00000000460.12_1_169655079_G_A_b37\" \"ENSG00000000971.11_1_196513323_A_G_b37\" ...\n",
      "  .. ..$ : chr [1:44] \"Adipose_Subcutaneous\" \"Adipose_Visceral_Omentum\" \"Adrenal_Gland\" \"Artery_Aorta\" ...\n",
      " $ vhat      : num [1:44, 1:44] 1 0.0924 0.0127 0.0792 0.0415 ...\n",
      "  ..- attr(*, \"dimnames\")=List of 2\n",
      "  .. ..$ : chr [1:44] \"Adipose_Subcutaneous\" \"Adipose_Visceral_Omentum\" \"Adrenal_Gland\" \"Artery_Aorta\" ...\n",
      "  .. ..$ : chr [1:44] \"Adipose_Subcutaneous\" \"Adipose_Visceral_Omentum\" \"Adrenal_Gland\" \"Artery_Aorta\" ...\n"
     ]
    }
   ],
   "source": [
    "R:\n",
    "    dat = readRDS(\"${input_db!n}.ld2.Z.rds\")\n",
    "    str(dat)"
   ]
  },
  {
   "cell_type": "markdown",
   "metadata": {},
   "source": [
    "As a result of pruning the training set dropped from 20K to 12K, the test set dropped from 16K to 11.6K."
   ]
  },
  {
   "cell_type": "code",
   "execution_count": 27,
   "metadata": {
    "kernel": "SoS"
   },
   "outputs": [
    {
     "data": {
      "text/html": [
       "<p class=\"session_section\">SoS</p>\n",
       "<table class=\"session_info\">\n",
       "<tr>\n",
       "<th>SoS Version</th><td><pre>0.9.8.10</pre></td>\n",
       "</tr>\n",
       "</table>\n",
       "<p class=\"session_section\">R</p>\n",
       "<table class=\"session_info\">\n",
       "<tr>\n",
       "<th>Kernel</th><td><pre>ir</pre></td>\n",
       "</tr>\n",
       "<tr>\n",
       "<th>Language</th><td><pre>R</pre></td>\n",
       "</tr>\n",
       "<tr>\n",
       "<td colspan=\"2\"><pre>R version 3.4.0 (2017-04-21)\n",
       "Platform: x86_64-pc-linux-gnu (64-bit)\n",
       "Running under: BunsenLabs GNU/Linux 8.7 (Hydrogen)\n",
       "\n",
       "Matrix products: default\n",
       "BLAS: /usr/lib64/microsoft-r/3.4/lib64/R/lib/libRblas.so\n",
       "LAPACK: /usr/lib64/microsoft-r/3.4/lib64/R/lib/libRlapack.so\n",
       "\n",
       "locale:\n",
       " [1] LC_CTYPE=en_US.UTF-8       LC_NUMERIC=C              \n",
       " [3] LC_TIME=en_US.UTF-8        LC_COLLATE=en_US.UTF-8    \n",
       " [5] LC_MONETARY=en_US.UTF-8    LC_MESSAGES=en_US.UTF-8   \n",
       " [7] LC_PAPER=en_US.UTF-8       LC_NAME=C                 \n",
       " [9] LC_ADDRESS=C               LC_TELEPHONE=C            \n",
       "[11] LC_MEASUREMENT=en_US.UTF-8 LC_IDENTIFICATION=C       \n",
       "\n",
       "attached base packages:\n",
       "[1] stats     graphics  grDevices utils     datasets  methods   base     \n",
       "\n",
       "other attached packages:\n",
       "[1] RevoUtilsMath_10.0.0\n",
       "\n",
       "loaded via a namespace (and not attached):\n",
       " [1] compiler_3.4.0      R6_2.2.0            magrittr_1.5       \n",
       " [4] RevoUtils_10.0.4    IRdisplay_0.4.4     pbdZMQ_0.2-5       \n",
       " [7] tools_3.4.0         crayon_1.3.2        uuid_0.1-2         \n",
       "[10] stringi_1.1.5       IRkernel_0.8.7.9000 jsonlite_1.4       \n",
       "[13] stringr_1.2.0       digest_0.6.12       repr_0.12.0        \n",
       "[16] evaluate_0.10      </pre></td>\n",
       "</tr>\n",
       "</table>\n"
      ]
     },
     "metadata": {},
     "output_type": "display_data"
    }
   ],
   "source": [
    "%sessioninfo"
   ]
  }
 ],
 "metadata": {
  "celltoolbar": "Tags",
  "kernelspec": {
   "display_name": "SoS",
   "language": "sos",
   "name": "sos"
  },
  "language_info": {
   "codemirror_mode": "sos",
   "file_extension": ".sos",
   "mimetype": "text/x-sos",
   "name": "sos",
   "nbconvert_exporter": "sos.jupyter.converter.SoS_Exporter",
   "pygments_lexer": "sos"
  },
  "sos": {
   "default_kernel": "SoS",
   "kernels": [
    [
     "SoS",
     "sos",
     "",
     ""
    ],
    [
     "Python3",
     "python3",
     "Python3",
     "#FFE771"
    ],
    [
     "R",
     "ir",
     "R",
     "#DCDCDA"
    ]
   ],
   "panel": {
    "displayed": true,
    "height": 0,
    "style": "side"
   }
  }
 },
 "nbformat": 4,
 "nbformat_minor": 2
}
