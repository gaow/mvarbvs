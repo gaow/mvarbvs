{
 "cells": [
  {
   "cell_type": "markdown",
   "metadata": {},
   "source": [
    "# Comparing MASH analysis with simple multivariate analysis\n",
    "\n",
    "Previously we showed that even though univariate analysis with degenerated MASH model gives identical results to SuSiE as expected (with non-decreasing ELBO), in multivariate calculations the ELBO is not always non-decreasing. To investigate the issue we will 1) further simplify the problem and 2) isolate the problem to posterior calculation versus ELBO calculations and check which part is problematic. The best way to achieve both is to implement a simple Bayesian multivariate regression model with prior $b \\sim MVN(0, U)$ where $U$ is known, instead of using MASH prior for $b$."
   ]
  },
  {
   "cell_type": "markdown",
   "metadata": {},
   "source": [
    "This feature is now implemented in the [`BayesianMultivariateRegression` class](https://github.com/gaow/mvsusieR/blob/master/R/bayesian_multivariate_regression.R) with an interface added to the main function such that the code will be triggered [when prior variance is a matrix](https://github.com/gaow/mvsusieR/blob/dccc26cfbba0cfd3e6f20b37e06d4db6305b834f/R/main.R#L110). \n",
    "\n",
    "With this feature (and with Yuxin's sharp eyes!!) we were able to identify an issue caused by inconsistent interface between `mvsusieR::susie` and `mvsusieR::MashInitializer` in handling residual variances. After patching the issue (interface fix still needs to be finalized) we are able to get consistent result between simple Bayesian multivariate regression and MASH; and MASH ELBO now increases."
   ]
  },
  {
   "cell_type": "markdown",
   "metadata": {},
   "source": [
    "## Test the calculation agree with univariate code"
   ]
  },
  {
   "cell_type": "code",
   "execution_count": 1,
   "metadata": {},
   "outputs": [
    {
     "name": "stderr",
     "output_type": "stream",
     "text": [
      "Loading required package: mashr\n",
      "Loading required package: ashr\n"
     ]
    }
   ],
   "source": [
    "library(mvsusieR)\n",
    "set.seed(2)\n",
    "L = 5"
   ]
  },
  {
   "cell_type": "code",
   "execution_count": 2,
   "metadata": {},
   "outputs": [],
   "source": [
    "dat = mvsusie_sim1(r=1)"
   ]
  },
  {
   "cell_type": "markdown",
   "metadata": {},
   "source": [
    "Run the simulated univariate data with SuSiE,"
   ]
  },
  {
   "cell_type": "code",
   "execution_count": 3,
   "metadata": {},
   "outputs": [
    {
     "data": {
      "text/html": [
       "<ol class=list-inline>\n",
       "\t<li>-429.40495176513</li>\n",
       "\t<li>-409.549300389438</li>\n",
       "\t<li>-407.707739710942</li>\n",
       "\t<li>-407.7058409462</li>\n",
       "\t<li>-407.70583907902</li>\n",
       "</ol>\n"
      ],
      "text/latex": [
       "\\begin{enumerate*}\n",
       "\\item -429.40495176513\n",
       "\\item -409.549300389438\n",
       "\\item -407.707739710942\n",
       "\\item -407.7058409462\n",
       "\\item -407.70583907902\n",
       "\\end{enumerate*}\n"
      ],
      "text/markdown": [
       "1. -429.40495176513\n",
       "2. -409.549300389438\n",
       "3. -407.707739710942\n",
       "4. -407.7058409462\n",
       "5. -407.70583907902\n",
       "\n",
       "\n"
      ],
      "text/plain": [
       "[1] -429.4050 -409.5493 -407.7077 -407.7058 -407.7058"
      ]
     },
     "metadata": {},
     "output_type": "display_data"
    }
   ],
   "source": [
    "res = susieR::susie(dat$X,dat$y,L=L,scaled_prior_variance=0.2,estimate_residual_variance=F,estimate_prior_variance=F)\n",
    "res$elbo"
   ]
  },
  {
   "cell_type": "markdown",
   "metadata": {},
   "source": [
    "Now run it with multivariate simple prior implementation in `mvsusieR`,"
   ]
  },
  {
   "cell_type": "code",
   "execution_count": 6,
   "metadata": {},
   "outputs": [
    {
     "data": {
      "text/plain": [
       "NULL"
      ]
     },
     "metadata": {},
     "output_type": "display_data"
    }
   ],
   "source": [
    "res = mvsusieR::mvsusie(dat$X,dat$y,L=L,prior_variance=0.2*var(dat$y),compute_objective=T,estimate_residual_variance=F,estimate_prior_variance=F)\n",
    "dim(res$b2)"
   ]
  },
  {
   "cell_type": "markdown",
   "metadata": {},
   "source": [
    "So it is confirmed that this implementation produces identical results as SuSiE runs."
   ]
  },
  {
   "cell_type": "markdown",
   "metadata": {},
   "source": [
    "## Test multivariate analysis"
   ]
  },
  {
   "cell_type": "code",
   "execution_count": 35,
   "metadata": {},
   "outputs": [],
   "source": [
    "set.seed(2)\n",
    "dat = mvsusie_sim1(r=1)"
   ]
  },
  {
   "cell_type": "code",
   "execution_count": 42,
   "metadata": {},
   "outputs": [
    {
     "name": "stderr",
     "output_type": "stream",
     "text": [
      "Loading mvsusieR\n"
     ]
    }
   ],
   "source": [
    "devtools::load_all('~/GIT/software/mvsusieR')"
   ]
  },
  {
   "cell_type": "code",
   "execution_count": 43,
   "metadata": {},
   "outputs": [
    {
     "name": "stdout",
     "output_type": "stream",
     "text": [
      "[1]   1 500\n"
     ]
    },
    {
     "ename": "ERROR",
     "evalue": "Error in private$.pip[j] * matrix(private$.posterior_b2[j, ]) - tcrossprod(private$.pip[j] * : non-conformable arrays\n",
     "output_type": "error",
     "traceback": [
      "Error in private$.pip[j] * matrix(private$.posterior_b2[j, ]) - tcrossprod(private$.pip[j] * : non-conformable arrays\nTraceback:\n",
      "1. mvsusie(dat$X, dat$y, L = L, prior_variance = dat$V, compute_objective = T, \n .     estimate_residual_variance = F, estimate_prior_variance = F)",
      "2. mvsusie_core(data, s_init, L, residual_variance, prior_variance, \n .     prior_weights, estimate_residual_variance, estimate_prior_variance, \n .     estimate_prior_method, precompute_covariances, compute_objective, \n .     max_iter, tol, track_fit, verbose)   # at line 88-90 of file /home/gaow/GIT/software/mvsusieR/R/mvsusie.R",
      "3. SuSiE_model$fit(data, prior_weights, estimate_prior_method, verbose)   # at line 244 of file /home/gaow/GIT/software/mvsusieR/R/mvsusie.R",
      "4. private$SER[[l]]$compute_kl(d)   # at line 53 of file /home/gaow/GIT/software/mvsusieR/R/ibss_algorithm.R",
      "5. private$compute_expected_loglik_partial(d)   # at line 25 of file /home/gaow/GIT/software/mvsusieR/R/single_effect_model.R",
      "6. private$compute_expected_loglik_partial_multivariate(d)   # at line 38 of file /home/gaow/GIT/software/mvsusieR/R/single_effect_model.R",
      "7. lapply(1:nrow(private$.posterior_b1), function(j) private$.pip[j] * \n .     matrix(private$.posterior_b2[j, ]) - tcrossprod(private$.pip[j] * \n .     private$.posterior_b1[j, ]))   # at line 54 of file /home/gaow/GIT/software/mvsusieR/R/single_effect_model.R",
      "8. FUN(X[[i]], ...)"
     ]
    }
   ],
   "source": [
    "res = mvsusie(dat$X,dat$y,L=L,prior_variance=dat$V,compute_objective=T,estimate_residual_variance=F,estimate_prior_variance=F)\n"
   ]
  },
  {
   "cell_type": "markdown",
   "metadata": {},
   "source": [
    "Here the ELBO is non-decreasing, as expected."
   ]
  },
  {
   "cell_type": "markdown",
   "metadata": {},
   "source": [
    "## Compare with MASH based model"
   ]
  },
  {
   "cell_type": "code",
   "execution_count": 33,
   "metadata": {},
   "outputs": [],
   "source": [
    "m_init = mvsusieR:::MashInitializer$new(list(dat$V), 1, prior_weight=1, null_weight=0)"
   ]
  },
  {
   "cell_type": "code",
   "execution_count": 34,
   "metadata": {},
   "outputs": [
    {
     "name": "stdout",
     "output_type": "stream",
     "text": [
      "[1] 500   2\n",
      "[1]   2   2 500\n",
      "[1] 500   2\n",
      "[1]   2   2 500\n",
      "[1] 500   2\n",
      "[1]   2   2 500\n",
      "[1] 500   2\n",
      "[1]   2   2 500\n",
      "[1] 500   2\n",
      "[1]   2   2 500\n",
      "[1] 500   2\n",
      "[1]   2   2 500\n",
      "[1] 500   2\n",
      "[1]   2   2 500\n",
      "[1] 500   2\n",
      "[1]   2   2 500\n",
      "[1] 500   2\n",
      "[1]   2   2 500\n",
      "[1] 500   2\n",
      "[1]   2   2 500\n",
      "[1] 500   2\n",
      "[1]   2   2 500\n",
      "[1] 500   2\n",
      "[1]   2   2 500\n",
      "[1] 500   2\n",
      "[1]   2   2 500\n",
      "[1] 500   2\n",
      "[1]   2   2 500\n",
      "[1] 500   2\n",
      "[1]   2   2 500\n",
      "[1] 500   2\n",
      "[1]   2   2 500\n",
      "[1] 500   2\n",
      "[1]   2   2 500\n",
      "[1] 500   2\n",
      "[1]   2   2 500\n",
      "[1] 500   2\n",
      "[1]   2   2 500\n",
      "[1] 500   2\n",
      "[1]   2   2 500\n",
      "[1] 500   2\n",
      "[1]   2   2 500\n",
      "[1] 500   2\n",
      "[1]   2   2 500\n",
      "[1] 500   2\n",
      "[1]   2   2 500\n",
      "[1] 500   2\n",
      "[1]   2   2 500\n",
      "[1] 500   2\n",
      "[1]   2   2 500\n",
      "[1] 500   2\n",
      "[1]   2   2 500\n",
      "[1] 500   2\n",
      "[1]   2   2 500\n",
      "[1] 500   2\n",
      "[1]   2   2 500\n",
      "[1] 500   2\n",
      "[1]   2   2 500\n",
      "[1] 500   2\n",
      "[1]   2   2 500\n",
      "[1] 500   2\n",
      "[1]   2   2 500\n",
      "[1] 500   2\n",
      "[1]   2   2 500\n",
      "[1] 500   2\n",
      "[1]   2   2 500\n",
      "[1] 500   2\n",
      "[1]   2   2 500\n",
      "[1] 500   2\n",
      "[1]   2   2 500\n",
      "[1] 500   2\n",
      "[1]   2   2 500\n",
      "[1] 500   2\n",
      "[1]   2   2 500\n",
      "[1] 500   2\n",
      "[1]   2   2 500\n",
      "[1] 500   2\n",
      "[1]   2   2 500\n",
      "[1] 500   2\n",
      "[1]   2   2 500\n",
      "[1] 500   2\n",
      "[1]   2   2 500\n",
      "[1] 500   2\n",
      "[1]   2   2 500\n",
      "[1] 500   2\n",
      "[1]   2   2 500\n",
      "[1] 500   2\n",
      "[1]   2   2 500\n",
      "[1] 500   2\n",
      "[1]   2   2 500\n",
      "[1] 500   2\n",
      "[1]   2   2 500\n",
      "[1] 500   2\n",
      "[1]   2   2 500\n",
      "[1] 500   2\n",
      "[1]   2   2 500\n",
      "[1] 500   2\n",
      "[1]   2   2 500\n",
      "[1] 500   2\n",
      "[1]   2   2 500\n",
      "[1] 500   2\n",
      "[1]   2   2 500\n",
      "[1] 500   2\n",
      "[1]   2   2 500\n",
      "[1] 500   2\n",
      "[1]   2   2 500\n",
      "[1] 500   2\n",
      "[1]   2   2 500\n",
      "[1] 500   2\n",
      "[1]   2   2 500\n",
      "[1] 500   2\n",
      "[1]   2   2 500\n",
      "[1] 500   2\n",
      "[1]   2   2 500\n",
      "[1] 500   2\n",
      "[1]   2   2 500\n",
      "[1] 500   2\n",
      "[1]   2   2 500\n",
      "[1] 500   2\n",
      "[1]   2   2 500\n",
      "[1] 500   2\n",
      "[1]   2   2 500\n",
      "[1] 500   2\n",
      "[1]   2   2 500\n",
      "[1] 500   2\n",
      "[1]   2   2 500\n",
      "[1] 500   2\n",
      "[1]   2   2 500\n",
      "[1] 500   2\n",
      "[1]   2   2 500\n"
     ]
    },
    {
     "data": {
      "text/html": [
       "<ol class=list-inline>\n",
       "\t<li>5</li>\n",
       "\t<li>500</li>\n",
       "\t<li>2</li>\n",
       "</ol>\n"
      ],
      "text/latex": [
       "\\begin{enumerate*}\n",
       "\\item 5\n",
       "\\item 500\n",
       "\\item 2\n",
       "\\end{enumerate*}\n"
      ],
      "text/markdown": [
       "1. 5\n",
       "2. 500\n",
       "3. 2\n",
       "\n",
       "\n"
      ],
      "text/plain": [
       "[1]   5 500   2"
      ]
     },
     "metadata": {},
     "output_type": "display_data"
    }
   ],
   "source": [
    "res = mvsusieR::mvsusie(dat$X,dat$y,L=L,prior_variance=m_init,compute_objective=T,estimate_residual_variance=F,estimate_prior_variance=F)\n",
    "dim(res$b2)"
   ]
  },
  {
   "cell_type": "markdown",
   "metadata": {},
   "source": [
    "The result agree with above. Now we use a different prior choice -- a diagonal prior covariance. We analyze with simple Bayesian multivariate regression,"
   ]
  },
  {
   "cell_type": "code",
   "execution_count": 9,
   "metadata": {},
   "outputs": [
    {
     "data": {
      "text/html": [
       "<ol class=list-inline>\n",
       "\t<li>-2174.05329261268</li>\n",
       "\t<li>-2166.18821093334</li>\n",
       "\t<li>-2161.71560740896</li>\n",
       "\t<li>-2158.70586771695</li>\n",
       "\t<li>-2156.96373258729</li>\n",
       "\t<li>-2156.8863212194</li>\n",
       "\t<li>-2156.88422194688</li>\n",
       "\t<li>-2156.8841094768</li>\n",
       "</ol>\n"
      ],
      "text/latex": [
       "\\begin{enumerate*}\n",
       "\\item -2174.05329261268\n",
       "\\item -2166.18821093334\n",
       "\\item -2161.71560740896\n",
       "\\item -2158.70586771695\n",
       "\\item -2156.96373258729\n",
       "\\item -2156.8863212194\n",
       "\\item -2156.88422194688\n",
       "\\item -2156.8841094768\n",
       "\\end{enumerate*}\n"
      ],
      "text/markdown": [
       "1. -2174.05329261268\n",
       "2. -2166.18821093334\n",
       "3. -2161.71560740896\n",
       "4. -2158.70586771695\n",
       "5. -2156.96373258729\n",
       "6. -2156.8863212194\n",
       "7. -2156.88422194688\n",
       "8. -2156.8841094768\n",
       "\n",
       "\n"
      ],
      "text/plain": [
       "[1] -2174.053 -2166.188 -2161.716 -2158.706 -2156.964 -2156.886 -2156.884\n",
       "[8] -2156.884"
      ]
     },
     "metadata": {},
     "output_type": "display_data"
    }
   ],
   "source": [
    "res = mvsusieR::mvsusie(dat$X,dat$y,L=L,prior_variance=0.2*diag(ncol(dat$y)),compute_objective=T,estimate_residual_variance=F,estimate_prior_variance=F)\n",
    "res$elbo"
   ]
  },
  {
   "cell_type": "markdown",
   "metadata": {},
   "source": [
    "and with MASH based regression,"
   ]
  },
  {
   "cell_type": "code",
   "execution_count": 10,
   "metadata": {},
   "outputs": [],
   "source": [
    "m_init = mvsusieR:::MashInitializer$new(list(0.2*diag(ncol(dat$y))), 1, prior_weight=1, null_weight=0,alpha=0)"
   ]
  },
  {
   "cell_type": "code",
   "execution_count": 11,
   "metadata": {},
   "outputs": [
    {
     "data": {
      "text/html": [
       "<ol class=list-inline>\n",
       "\t<li>-2174.05329261268</li>\n",
       "\t<li>-2166.18821093334</li>\n",
       "\t<li>-2161.71560740896</li>\n",
       "\t<li>-2158.70586771696</li>\n",
       "\t<li>-2156.96373258729</li>\n",
       "\t<li>-2156.8863212194</li>\n",
       "\t<li>-2156.88422194688</li>\n",
       "\t<li>-2156.8841094768</li>\n",
       "</ol>\n"
      ],
      "text/latex": [
       "\\begin{enumerate*}\n",
       "\\item -2174.05329261268\n",
       "\\item -2166.18821093334\n",
       "\\item -2161.71560740896\n",
       "\\item -2158.70586771696\n",
       "\\item -2156.96373258729\n",
       "\\item -2156.8863212194\n",
       "\\item -2156.88422194688\n",
       "\\item -2156.8841094768\n",
       "\\end{enumerate*}\n"
      ],
      "text/markdown": [
       "1. -2174.05329261268\n",
       "2. -2166.18821093334\n",
       "3. -2161.71560740896\n",
       "4. -2158.70586771696\n",
       "5. -2156.96373258729\n",
       "6. -2156.8863212194\n",
       "7. -2156.88422194688\n",
       "8. -2156.8841094768\n",
       "\n",
       "\n"
      ],
      "text/plain": [
       "[1] -2174.053 -2166.188 -2161.716 -2158.706 -2156.964 -2156.886 -2156.884\n",
       "[8] -2156.884"
      ]
     },
     "metadata": {},
     "output_type": "display_data"
    }
   ],
   "source": [
    "res = mvsusieR::mvsusie(dat$X,dat$y,L=L,prior_variance=m_init,compute_objective=T,estimate_residual_variance=F,estimate_prior_variance=F)\n",
    "res$elbo"
   ]
  },
  {
   "cell_type": "markdown",
   "metadata": {},
   "source": [
    "So we are comfortable at this point that ELBO for multivariate analysis is done correctly."
   ]
  }
 ],
 "metadata": {
  "kernelspec": {
   "display_name": "R",
   "language": "R",
   "name": "ir"
  },
  "language_info": {
   "codemirror_mode": "r",
   "file_extension": ".r",
   "mimetype": "text/x-r-source",
   "name": "R",
   "pygments_lexer": "r",
   "version": "3.5.3"
  }
 },
 "nbformat": 4,
 "nbformat_minor": 4
}
