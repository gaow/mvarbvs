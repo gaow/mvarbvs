{
 "cells": [
  {
   "cell_type": "markdown",
   "metadata": {},
   "source": [
    "# Single effect model sanity check\n",
    "\n",
    "Check for agreement of different regression methods in VEM updates."
   ]
  },
  {
   "cell_type": "code",
   "execution_count": 1,
   "metadata": {},
   "outputs": [
    {
     "name": "stderr",
     "output_type": "stream",
     "text": [
      "Loading required package: mashr\n",
      "Loading required package: ashr\n"
     ]
    }
   ],
   "source": [
    "library(mvsusieR)\n",
    "set.seed(2)\n",
    "attach(mvsusie_sim1(r=1))"
   ]
  },
  {
   "cell_type": "code",
   "execution_count": 2,
   "metadata": {},
   "outputs": [
    {
     "data": {
      "text/html": [
       "<table>\n",
       "<caption>A matrix: 6 × 1 of type dbl[,1]</caption>\n",
       "<tbody>\n",
       "\t<tr><td>-12.871105</td></tr>\n",
       "\t<tr><td> 45.080954</td></tr>\n",
       "\t<tr><td>-32.900723</td></tr>\n",
       "\t<tr><td>-41.838878</td></tr>\n",
       "\t<tr><td>  5.995901</td></tr>\n",
       "\t<tr><td> 27.611879</td></tr>\n",
       "</tbody>\n",
       "</table>\n"
      ],
      "text/latex": [
       "A matrix: 6 × 1 of type dbl{[},1{]}\n",
       "\\begin{tabular}{l}\n",
       "\t -12.871105\\\\\n",
       "\t  45.080954\\\\\n",
       "\t -32.900723\\\\\n",
       "\t -41.838878\\\\\n",
       "\t   5.995901\\\\\n",
       "\t  27.611879\\\\\n",
       "\\end{tabular}\n"
      ],
      "text/markdown": [
       "\n",
       "A matrix: 6 × 1 of type dbl[,1]\n",
       "\n",
       "| -12.871105 |\n",
       "|  45.080954 |\n",
       "| -32.900723 |\n",
       "| -41.838878 |\n",
       "|   5.995901 |\n",
       "|  27.611879 |\n",
       "\n"
      ],
      "text/plain": [
       "     [,1]      \n",
       "[1,] -12.871105\n",
       "[2,]  45.080954\n",
       "[3,] -32.900723\n",
       "[4,] -41.838878\n",
       "[5,]   5.995901\n",
       "[6,]  27.611879"
      ]
     },
     "metadata": {},
     "output_type": "display_data"
    }
   ],
   "source": [
    "data = mvsusieR:::DenseData$new(X,y)\n",
    "head(data$XtY)"
   ]
  },
  {
   "cell_type": "code",
   "execution_count": 3,
   "metadata": {},
   "outputs": [
    {
     "data": {
      "text/html": [
       "<table>\n",
       "<caption>A matrix: 6 × 1 of type dbl[,1]</caption>\n",
       "<tbody>\n",
       "\t<tr><td>-12.871105</td></tr>\n",
       "\t<tr><td> 45.080954</td></tr>\n",
       "\t<tr><td>-32.900723</td></tr>\n",
       "\t<tr><td>-41.838878</td></tr>\n",
       "\t<tr><td>  5.995901</td></tr>\n",
       "\t<tr><td> 27.611879</td></tr>\n",
       "</tbody>\n",
       "</table>\n"
      ],
      "text/latex": [
       "A matrix: 6 × 1 of type dbl{[},1{]}\n",
       "\\begin{tabular}{l}\n",
       "\t -12.871105\\\\\n",
       "\t  45.080954\\\\\n",
       "\t -32.900723\\\\\n",
       "\t -41.838878\\\\\n",
       "\t   5.995901\\\\\n",
       "\t  27.611879\\\\\n",
       "\\end{tabular}\n"
      ],
      "text/markdown": [
       "\n",
       "A matrix: 6 × 1 of type dbl[,1]\n",
       "\n",
       "| -12.871105 |\n",
       "|  45.080954 |\n",
       "| -32.900723 |\n",
       "| -41.838878 |\n",
       "|   5.995901 |\n",
       "|  27.611879 |\n",
       "\n"
      ],
      "text/plain": [
       "     [,1]      \n",
       "[1,] -12.871105\n",
       "[2,]  45.080954\n",
       "[3,] -32.900723\n",
       "[4,] -41.838878\n",
       "[5,]   5.995901\n",
       "[6,]  27.611879"
      ]
     },
     "metadata": {},
     "output_type": "display_data"
    }
   ],
   "source": [
    "head(data$XtR)"
   ]
  },
  {
   "cell_type": "markdown",
   "metadata": {},
   "source": [
    "## Univariate single effect regression"
   ]
  },
  {
   "cell_type": "code",
   "execution_count": 4,
   "metadata": {},
   "outputs": [],
   "source": [
    "prior_var = 0.2 * as.numeric(var(y))\n",
    "residual_var = as.numeric(var(y))\n",
    "m1 = mvsusieR:::SingleEffectModel(mvsusieR:::BayesianSimpleRegression)$new(ncol(X), residual_var, prior_var)"
   ]
  },
  {
   "cell_type": "markdown",
   "metadata": {},
   "source": [
    "## Multivariate single effect regression"
   ]
  },
  {
   "cell_type": "code",
   "execution_count": 5,
   "metadata": {},
   "outputs": [],
   "source": [
    "prior_covar = mvsusieR:::MashInitializer$new(list(0.2 * cov(y)), 1, alpha=0)\n",
    "residual_covar = cov(y)\n",
    "m2 = mvsusieR:::SingleEffectModel(mvsusieR:::MashRegression)$new(ncol(X), residual_covar, prior_covar)"
   ]
  },
  {
   "cell_type": "markdown",
   "metadata": {},
   "source": [
    "## Predictions after one fit"
   ]
  },
  {
   "cell_type": "code",
   "execution_count": 6,
   "metadata": {},
   "outputs": [],
   "source": [
    "pred01 = m1$predict(data)\n",
    "m1$fit(data)\n",
    "pred1 = m1$predict(data)"
   ]
  },
  {
   "cell_type": "code",
   "execution_count": 7,
   "metadata": {},
   "outputs": [],
   "source": [
    "pred02 = m2$predict(data)\n",
    "m2$fit(data)\n",
    "pred2 = m2$predict(data)"
   ]
  },
  {
   "cell_type": "code",
   "execution_count": 8,
   "metadata": {},
   "outputs": [
    {
     "data": {
      "text/html": [
       "<table>\n",
       "<caption>A matrix: 6 × 1 of type dbl[,1]</caption>\n",
       "<tbody>\n",
       "\t<tr><td>-1.0398057</td></tr>\n",
       "\t<tr><td>-1.6085843</td></tr>\n",
       "\t<tr><td>-1.2046758</td></tr>\n",
       "\t<tr><td> 0.3079497</td></tr>\n",
       "\t<tr><td>-2.3593036</td></tr>\n",
       "\t<tr><td>-0.6760712</td></tr>\n",
       "</tbody>\n",
       "</table>\n"
      ],
      "text/latex": [
       "A matrix: 6 × 1 of type dbl{[},1{]}\n",
       "\\begin{tabular}{l}\n",
       "\t -1.0398057\\\\\n",
       "\t -1.6085843\\\\\n",
       "\t -1.2046758\\\\\n",
       "\t  0.3079497\\\\\n",
       "\t -2.3593036\\\\\n",
       "\t -0.6760712\\\\\n",
       "\\end{tabular}\n"
      ],
      "text/markdown": [
       "\n",
       "A matrix: 6 × 1 of type dbl[,1]\n",
       "\n",
       "| -1.0398057 |\n",
       "| -1.6085843 |\n",
       "| -1.2046758 |\n",
       "|  0.3079497 |\n",
       "| -2.3593036 |\n",
       "| -0.6760712 |\n",
       "\n"
      ],
      "text/plain": [
       "     [,1]      \n",
       "[1,] -1.0398057\n",
       "[2,] -1.6085843\n",
       "[3,] -1.2046758\n",
       "[4,]  0.3079497\n",
       "[5,] -2.3593036\n",
       "[6,] -0.6760712"
      ]
     },
     "metadata": {},
     "output_type": "display_data"
    }
   ],
   "source": [
    "head(pred1)"
   ]
  },
  {
   "cell_type": "code",
   "execution_count": 9,
   "metadata": {},
   "outputs": [
    {
     "data": {
      "text/html": [
       "<table>\n",
       "<caption>A matrix: 6 × 1 of type dbl[,1]</caption>\n",
       "<tbody>\n",
       "\t<tr><td>-1.0398057</td></tr>\n",
       "\t<tr><td>-1.6085843</td></tr>\n",
       "\t<tr><td>-1.2046758</td></tr>\n",
       "\t<tr><td> 0.3079497</td></tr>\n",
       "\t<tr><td>-2.3593036</td></tr>\n",
       "\t<tr><td>-0.6760712</td></tr>\n",
       "</tbody>\n",
       "</table>\n"
      ],
      "text/latex": [
       "A matrix: 6 × 1 of type dbl{[},1{]}\n",
       "\\begin{tabular}{l}\n",
       "\t -1.0398057\\\\\n",
       "\t -1.6085843\\\\\n",
       "\t -1.2046758\\\\\n",
       "\t  0.3079497\\\\\n",
       "\t -2.3593036\\\\\n",
       "\t -0.6760712\\\\\n",
       "\\end{tabular}\n"
      ],
      "text/markdown": [
       "\n",
       "A matrix: 6 × 1 of type dbl[,1]\n",
       "\n",
       "| -1.0398057 |\n",
       "| -1.6085843 |\n",
       "| -1.2046758 |\n",
       "|  0.3079497 |\n",
       "| -2.3593036 |\n",
       "| -0.6760712 |\n",
       "\n"
      ],
      "text/plain": [
       "     [,1]      \n",
       "[1,] -1.0398057\n",
       "[2,] -1.6085843\n",
       "[3,] -1.2046758\n",
       "[4,]  0.3079497\n",
       "[5,] -2.3593036\n",
       "[6,] -0.6760712"
      ]
     },
     "metadata": {},
     "output_type": "display_data"
    }
   ],
   "source": [
    "head(pred2)"
   ]
  },
  {
   "cell_type": "code",
   "execution_count": 10,
   "metadata": {},
   "outputs": [
    {
     "data": {
      "text/html": [
       "<table>\n",
       "<caption>A matrix: 6 × 1 of type dbl[,1]</caption>\n",
       "<tbody>\n",
       "\t<tr><td>0</td></tr>\n",
       "\t<tr><td>0</td></tr>\n",
       "\t<tr><td>0</td></tr>\n",
       "\t<tr><td>0</td></tr>\n",
       "\t<tr><td>0</td></tr>\n",
       "\t<tr><td>0</td></tr>\n",
       "</tbody>\n",
       "</table>\n"
      ],
      "text/latex": [
       "A matrix: 6 × 1 of type dbl{[},1{]}\n",
       "\\begin{tabular}{l}\n",
       "\t 0\\\\\n",
       "\t 0\\\\\n",
       "\t 0\\\\\n",
       "\t 0\\\\\n",
       "\t 0\\\\\n",
       "\t 0\\\\\n",
       "\\end{tabular}\n"
      ],
      "text/markdown": [
       "\n",
       "A matrix: 6 × 1 of type dbl[,1]\n",
       "\n",
       "| 0 |\n",
       "| 0 |\n",
       "| 0 |\n",
       "| 0 |\n",
       "| 0 |\n",
       "| 0 |\n",
       "\n"
      ],
      "text/plain": [
       "     [,1]\n",
       "[1,] 0   \n",
       "[2,] 0   \n",
       "[3,] 0   \n",
       "[4,] 0   \n",
       "[5,] 0   \n",
       "[6,] 0   "
      ]
     },
     "metadata": {},
     "output_type": "display_data"
    }
   ],
   "source": [
    "head(pred01)"
   ]
  },
  {
   "cell_type": "code",
   "execution_count": 11,
   "metadata": {},
   "outputs": [
    {
     "data": {
      "text/html": [
       "<table>\n",
       "<caption>A matrix: 6 × 1 of type dbl[,1]</caption>\n",
       "<tbody>\n",
       "\t<tr><td>0</td></tr>\n",
       "\t<tr><td>0</td></tr>\n",
       "\t<tr><td>0</td></tr>\n",
       "\t<tr><td>0</td></tr>\n",
       "\t<tr><td>0</td></tr>\n",
       "\t<tr><td>0</td></tr>\n",
       "</tbody>\n",
       "</table>\n"
      ],
      "text/latex": [
       "A matrix: 6 × 1 of type dbl{[},1{]}\n",
       "\\begin{tabular}{l}\n",
       "\t 0\\\\\n",
       "\t 0\\\\\n",
       "\t 0\\\\\n",
       "\t 0\\\\\n",
       "\t 0\\\\\n",
       "\t 0\\\\\n",
       "\\end{tabular}\n"
      ],
      "text/markdown": [
       "\n",
       "A matrix: 6 × 1 of type dbl[,1]\n",
       "\n",
       "| 0 |\n",
       "| 0 |\n",
       "| 0 |\n",
       "| 0 |\n",
       "| 0 |\n",
       "| 0 |\n",
       "\n"
      ],
      "text/plain": [
       "     [,1]\n",
       "[1,] 0   \n",
       "[2,] 0   \n",
       "[3,] 0   \n",
       "[4,] 0   \n",
       "[5,] 0   \n",
       "[6,] 0   "
      ]
     },
     "metadata": {},
     "output_type": "display_data"
    }
   ],
   "source": [
    "head(pred02)"
   ]
  },
  {
   "cell_type": "code",
   "execution_count": 12,
   "metadata": {},
   "outputs": [
    {
     "data": {
      "text/html": [
       "<ol class=list-inline>\n",
       "\t<li>4.21011575314195e-12</li>\n",
       "\t<li>9.40264176321943e-12</li>\n",
       "\t<li>6.24717097586617e-12</li>\n",
       "\t<li>8.32853795168513e-12</li>\n",
       "\t<li>3.98148063418841e-12</li>\n",
       "\t<li>5.44318785610723e-12</li>\n",
       "</ol>\n"
      ],
      "text/latex": [
       "\\begin{enumerate*}\n",
       "\\item 4.21011575314195e-12\n",
       "\\item 9.40264176321943e-12\n",
       "\\item 6.24717097586617e-12\n",
       "\\item 8.32853795168513e-12\n",
       "\\item 3.98148063418841e-12\n",
       "\\item 5.44318785610723e-12\n",
       "\\end{enumerate*}\n"
      ],
      "text/markdown": [
       "1. 4.21011575314195e-12\n",
       "2. 9.40264176321943e-12\n",
       "3. 6.24717097586617e-12\n",
       "4. 8.32853795168513e-12\n",
       "5. 3.98148063418841e-12\n",
       "6. 5.44318785610723e-12\n",
       "\n",
       "\n"
      ],
      "text/plain": [
       "[1] 4.210116e-12 9.402642e-12 6.247171e-12 8.328538e-12 3.981481e-12\n",
       "[6] 5.443188e-12"
      ]
     },
     "metadata": {},
     "output_type": "display_data"
    }
   ],
   "source": [
    "head(m1$pip)"
   ]
  },
  {
   "cell_type": "code",
   "execution_count": 13,
   "metadata": {},
   "outputs": [
    {
     "data": {
      "text/html": [
       "<ol class=list-inline>\n",
       "\t<li>4.21011575314196e-12</li>\n",
       "\t<li>9.40264176321945e-12</li>\n",
       "\t<li>6.24717097586618e-12</li>\n",
       "\t<li>8.32853795168514e-12</li>\n",
       "\t<li>3.98148063418842e-12</li>\n",
       "\t<li>5.44318785610724e-12</li>\n",
       "</ol>\n"
      ],
      "text/latex": [
       "\\begin{enumerate*}\n",
       "\\item 4.21011575314196e-12\n",
       "\\item 9.40264176321945e-12\n",
       "\\item 6.24717097586618e-12\n",
       "\\item 8.32853795168514e-12\n",
       "\\item 3.98148063418842e-12\n",
       "\\item 5.44318785610724e-12\n",
       "\\end{enumerate*}\n"
      ],
      "text/markdown": [
       "1. 4.21011575314196e-12\n",
       "2. 9.40264176321945e-12\n",
       "3. 6.24717097586618e-12\n",
       "4. 8.32853795168514e-12\n",
       "5. 3.98148063418842e-12\n",
       "6. 5.44318785610724e-12\n",
       "\n",
       "\n"
      ],
      "text/plain": [
       "[1] 4.210116e-12 9.402642e-12 6.247171e-12 8.328538e-12 3.981481e-12\n",
       "[6] 5.443188e-12"
      ]
     },
     "metadata": {},
     "output_type": "display_data"
    }
   ],
   "source": [
    "head(m2$pip)"
   ]
  },
  {
   "cell_type": "code",
   "execution_count": 14,
   "metadata": {},
   "outputs": [
    {
     "data": {
      "text/html": [
       "<table>\n",
       "<caption>A matrix: 6 × 1 of type dbl[,1]</caption>\n",
       "<tbody>\n",
       "\t<tr><td>-0.06309365</td></tr>\n",
       "\t<tr><td> 0.22098507</td></tr>\n",
       "\t<tr><td>-0.16127805</td></tr>\n",
       "\t<tr><td>-0.20509254</td></tr>\n",
       "\t<tr><td> 0.02939167</td></tr>\n",
       "\t<tr><td> 0.13535235</td></tr>\n",
       "</tbody>\n",
       "</table>\n"
      ],
      "text/latex": [
       "A matrix: 6 × 1 of type dbl{[},1{]}\n",
       "\\begin{tabular}{l}\n",
       "\t -0.06309365\\\\\n",
       "\t  0.22098507\\\\\n",
       "\t -0.16127805\\\\\n",
       "\t -0.20509254\\\\\n",
       "\t  0.02939167\\\\\n",
       "\t  0.13535235\\\\\n",
       "\\end{tabular}\n"
      ],
      "text/markdown": [
       "\n",
       "A matrix: 6 × 1 of type dbl[,1]\n",
       "\n",
       "| -0.06309365 |\n",
       "|  0.22098507 |\n",
       "| -0.16127805 |\n",
       "| -0.20509254 |\n",
       "|  0.02939167 |\n",
       "|  0.13535235 |\n",
       "\n"
      ],
      "text/plain": [
       "     [,1]       \n",
       "[1,] -0.06309365\n",
       "[2,]  0.22098507\n",
       "[3,] -0.16127805\n",
       "[4,] -0.20509254\n",
       "[5,]  0.02939167\n",
       "[6,]  0.13535235"
      ]
     },
     "metadata": {},
     "output_type": "display_data"
    }
   ],
   "source": [
    "head(m1$posterior_b1 / m1$pip)"
   ]
  },
  {
   "cell_type": "code",
   "execution_count": 15,
   "metadata": {},
   "outputs": [
    {
     "data": {
      "text/html": [
       "<table>\n",
       "<caption>A matrix: 6 × 1 of type dbl[,1]</caption>\n",
       "<tbody>\n",
       "\t<tr><td>-0.06309365</td></tr>\n",
       "\t<tr><td> 0.22098507</td></tr>\n",
       "\t<tr><td>-0.16127805</td></tr>\n",
       "\t<tr><td>-0.20509254</td></tr>\n",
       "\t<tr><td> 0.02939167</td></tr>\n",
       "\t<tr><td> 0.13535235</td></tr>\n",
       "</tbody>\n",
       "</table>\n"
      ],
      "text/latex": [
       "A matrix: 6 × 1 of type dbl{[},1{]}\n",
       "\\begin{tabular}{l}\n",
       "\t -0.06309365\\\\\n",
       "\t  0.22098507\\\\\n",
       "\t -0.16127805\\\\\n",
       "\t -0.20509254\\\\\n",
       "\t  0.02939167\\\\\n",
       "\t  0.13535235\\\\\n",
       "\\end{tabular}\n"
      ],
      "text/markdown": [
       "\n",
       "A matrix: 6 × 1 of type dbl[,1]\n",
       "\n",
       "| -0.06309365 |\n",
       "|  0.22098507 |\n",
       "| -0.16127805 |\n",
       "| -0.20509254 |\n",
       "|  0.02939167 |\n",
       "|  0.13535235 |\n",
       "\n"
      ],
      "text/plain": [
       "     [,1]       \n",
       "[1,] -0.06309365\n",
       "[2,]  0.22098507\n",
       "[3,] -0.16127805\n",
       "[4,] -0.20509254\n",
       "[5,]  0.02939167\n",
       "[6,]  0.13535235"
      ]
     },
     "metadata": {},
     "output_type": "display_data"
    }
   ],
   "source": [
    "head(m2$posterior_b1 / m2$pip)"
   ]
  },
  {
   "cell_type": "code",
   "execution_count": 17,
   "metadata": {},
   "outputs": [
    {
     "data": {
      "text/html": [
       "18.1958934544426"
      ],
      "text/latex": [
       "18.1958934544426"
      ],
      "text/markdown": [
       "18.1958934544426"
      ],
      "text/plain": [
       "[1] 18.19589"
      ]
     },
     "metadata": {},
     "output_type": "display_data"
    }
   ],
   "source": [
    "m1$lbf"
   ]
  },
  {
   "cell_type": "code",
   "execution_count": 18,
   "metadata": {},
   "outputs": [
    {
     "data": {
      "text/html": [
       "18.1958934544426"
      ],
      "text/latex": [
       "18.1958934544426"
      ],
      "text/markdown": [
       "18.1958934544426"
      ],
      "text/plain": [
       "[1] 18.19589"
      ]
     },
     "metadata": {},
     "output_type": "display_data"
    }
   ],
   "source": [
    "m2$lbf"
   ]
  },
  {
   "cell_type": "code",
   "execution_count": 18,
   "metadata": {},
   "outputs": [
    {
     "data": {
      "text/html": [
       "<table>\n",
       "<tbody>\n",
       "\t<tr><td>-19.1055307</td></tr>\n",
       "\t<tr><td> 17.5706879</td></tr>\n",
       "\t<tr><td> 17.0295614</td></tr>\n",
       "\t<tr><td>  0.8703052</td></tr>\n",
       "\t<tr><td>  2.1676791</td></tr>\n",
       "\t<tr><td> 34.5852265</td></tr>\n",
       "</tbody>\n",
       "</table>\n"
      ],
      "text/latex": [
       "\\begin{tabular}{l}\n",
       "\t -19.1055307\\\\\n",
       "\t  17.5706879\\\\\n",
       "\t  17.0295614\\\\\n",
       "\t   0.8703052\\\\\n",
       "\t   2.1676791\\\\\n",
       "\t  34.5852265\\\\\n",
       "\\end{tabular}\n"
      ],
      "text/markdown": [
       "\n",
       "| -19.1055307 | \n",
       "|  17.5706879 | \n",
       "|  17.0295614 | \n",
       "|   0.8703052 | \n",
       "|   2.1676791 | \n",
       "|  34.5852265 | \n",
       "\n",
       "\n"
      ],
      "text/plain": [
       "     [,1]       \n",
       "[1,] -19.1055307\n",
       "[2,]  17.5706879\n",
       "[3,]  17.0295614\n",
       "[4,]   0.8703052\n",
       "[5,]   2.1676791\n",
       "[6,]  34.5852265"
      ]
     },
     "metadata": {},
     "output_type": "display_data"
    }
   ],
   "source": [
    "data$add_to_fitted(pred1)\n",
    "data$compute_residual()\n",
    "head(data$XtY)"
   ]
  },
  {
   "cell_type": "code",
   "execution_count": 19,
   "metadata": {},
   "outputs": [
    {
     "data": {
      "text/html": [
       "<table>\n",
       "<tbody>\n",
       "\t<tr><td> 0.7240101</td></tr>\n",
       "\t<tr><td> 8.8701269</td></tr>\n",
       "\t<tr><td> 9.5204835</td></tr>\n",
       "\t<tr><td>-8.9370227</td></tr>\n",
       "\t<tr><td>-1.3930653</td></tr>\n",
       "\t<tr><td>28.8075105</td></tr>\n",
       "</tbody>\n",
       "</table>\n"
      ],
      "text/latex": [
       "\\begin{tabular}{l}\n",
       "\t  0.7240101\\\\\n",
       "\t  8.8701269\\\\\n",
       "\t  9.5204835\\\\\n",
       "\t -8.9370227\\\\\n",
       "\t -1.3930653\\\\\n",
       "\t 28.8075105\\\\\n",
       "\\end{tabular}\n"
      ],
      "text/markdown": [
       "\n",
       "|  0.7240101 | \n",
       "|  8.8701269 | \n",
       "|  9.5204835 | \n",
       "| -8.9370227 | \n",
       "| -1.3930653 | \n",
       "| 28.8075105 | \n",
       "\n",
       "\n"
      ],
      "text/plain": [
       "     [,1]      \n",
       "[1,]  0.7240101\n",
       "[2,]  8.8701269\n",
       "[3,]  9.5204835\n",
       "[4,] -8.9370227\n",
       "[5,] -1.3930653\n",
       "[6,] 28.8075105"
      ]
     },
     "metadata": {},
     "output_type": "display_data"
    }
   ],
   "source": [
    "head(data$XtR)"
   ]
  },
  {
   "cell_type": "markdown",
   "metadata": {},
   "source": [
    "## Predictions after two fits"
   ]
  },
  {
   "cell_type": "code",
   "execution_count": 20,
   "metadata": {},
   "outputs": [],
   "source": [
    "m1$fit(data)\n",
    "pred1 = m1$predict(data)"
   ]
  },
  {
   "cell_type": "code",
   "execution_count": 21,
   "metadata": {},
   "outputs": [],
   "source": [
    "m2$fit(data)\n",
    "pred2 = m2$predict(data)"
   ]
  },
  {
   "cell_type": "code",
   "execution_count": 22,
   "metadata": {},
   "outputs": [
    {
     "data": {
      "text/html": [
       "<table>\n",
       "<tbody>\n",
       "\t<tr><td> 0.008056959</td></tr>\n",
       "\t<tr><td>-0.006026454</td></tr>\n",
       "\t<tr><td> 0.001472932</td></tr>\n",
       "\t<tr><td>-0.001486319</td></tr>\n",
       "\t<tr><td>-0.001913567</td></tr>\n",
       "\t<tr><td> 0.016121711</td></tr>\n",
       "</tbody>\n",
       "</table>\n"
      ],
      "text/latex": [
       "\\begin{tabular}{l}\n",
       "\t  0.008056959\\\\\n",
       "\t -0.006026454\\\\\n",
       "\t  0.001472932\\\\\n",
       "\t -0.001486319\\\\\n",
       "\t -0.001913567\\\\\n",
       "\t  0.016121711\\\\\n",
       "\\end{tabular}\n"
      ],
      "text/markdown": [
       "\n",
       "|  0.008056959 | \n",
       "| -0.006026454 | \n",
       "|  0.001472932 | \n",
       "| -0.001486319 | \n",
       "| -0.001913567 | \n",
       "|  0.016121711 | \n",
       "\n",
       "\n"
      ],
      "text/plain": [
       "     [,1]        \n",
       "[1,]  0.008056959\n",
       "[2,] -0.006026454\n",
       "[3,]  0.001472932\n",
       "[4,] -0.001486319\n",
       "[5,] -0.001913567\n",
       "[6,]  0.016121711"
      ]
     },
     "metadata": {},
     "output_type": "display_data"
    }
   ],
   "source": [
    "head(pred1)"
   ]
  },
  {
   "cell_type": "code",
   "execution_count": 23,
   "metadata": {},
   "outputs": [
    {
     "data": {
      "text/html": [
       "<table>\n",
       "<tbody>\n",
       "\t<tr><td> 0.008056959</td></tr>\n",
       "\t<tr><td>-0.006026454</td></tr>\n",
       "\t<tr><td> 0.001472932</td></tr>\n",
       "\t<tr><td>-0.001486319</td></tr>\n",
       "\t<tr><td>-0.001913567</td></tr>\n",
       "\t<tr><td> 0.016121711</td></tr>\n",
       "</tbody>\n",
       "</table>\n"
      ],
      "text/latex": [
       "\\begin{tabular}{l}\n",
       "\t  0.008056959\\\\\n",
       "\t -0.006026454\\\\\n",
       "\t  0.001472932\\\\\n",
       "\t -0.001486319\\\\\n",
       "\t -0.001913567\\\\\n",
       "\t  0.016121711\\\\\n",
       "\\end{tabular}\n"
      ],
      "text/markdown": [
       "\n",
       "|  0.008056959 | \n",
       "| -0.006026454 | \n",
       "|  0.001472932 | \n",
       "| -0.001486319 | \n",
       "| -0.001913567 | \n",
       "|  0.016121711 | \n",
       "\n",
       "\n"
      ],
      "text/plain": [
       "     [,1]        \n",
       "[1,]  0.008056959\n",
       "[2,] -0.006026454\n",
       "[3,]  0.001472932\n",
       "[4,] -0.001486319\n",
       "[5,] -0.001913567\n",
       "[6,]  0.016121711"
      ]
     },
     "metadata": {},
     "output_type": "display_data"
    }
   ],
   "source": [
    "head(pred2)"
   ]
  },
  {
   "cell_type": "code",
   "execution_count": 24,
   "metadata": {},
   "outputs": [
    {
     "data": {
      "text/html": [
       "<ol class=list-inline>\n",
       "\t<li>0.00154586339736903</li>\n",
       "\t<li>0.0016913068427532</li>\n",
       "\t<li>0.00171474136974243</li>\n",
       "\t<li>0.00169362641318872</li>\n",
       "\t<li>0.0015483846584934</li>\n",
       "\t<li>0.0040139083052572</li>\n",
       "</ol>\n"
      ],
      "text/latex": [
       "\\begin{enumerate*}\n",
       "\\item 0.00154586339736903\n",
       "\\item 0.0016913068427532\n",
       "\\item 0.00171474136974243\n",
       "\\item 0.00169362641318872\n",
       "\\item 0.0015483846584934\n",
       "\\item 0.0040139083052572\n",
       "\\end{enumerate*}\n"
      ],
      "text/markdown": [
       "1. 0.00154586339736903\n",
       "2. 0.0016913068427532\n",
       "3. 0.00171474136974243\n",
       "4. 0.00169362641318872\n",
       "5. 0.0015483846584934\n",
       "6. 0.0040139083052572\n",
       "\n",
       "\n"
      ],
      "text/plain": [
       "[1] 0.001545863 0.001691307 0.001714741 0.001693626 0.001548385 0.004013908"
      ]
     },
     "metadata": {},
     "output_type": "display_data"
    }
   ],
   "source": [
    "head(m1$pip)"
   ]
  },
  {
   "cell_type": "code",
   "execution_count": 25,
   "metadata": {},
   "outputs": [
    {
     "data": {
      "text/html": [
       "<ol class=list-inline>\n",
       "\t<li>0.00154586339736903</li>\n",
       "\t<li>0.0016913068427532</li>\n",
       "\t<li>0.00171474136974243</li>\n",
       "\t<li>0.00169362641318872</li>\n",
       "\t<li>0.0015483846584934</li>\n",
       "\t<li>0.0040139083052572</li>\n",
       "</ol>\n"
      ],
      "text/latex": [
       "\\begin{enumerate*}\n",
       "\\item 0.00154586339736903\n",
       "\\item 0.0016913068427532\n",
       "\\item 0.00171474136974243\n",
       "\\item 0.00169362641318872\n",
       "\\item 0.0015483846584934\n",
       "\\item 0.0040139083052572\n",
       "\\end{enumerate*}\n"
      ],
      "text/markdown": [
       "1. 0.00154586339736903\n",
       "2. 0.0016913068427532\n",
       "3. 0.00171474136974243\n",
       "4. 0.00169362641318872\n",
       "5. 0.0015483846584934\n",
       "6. 0.0040139083052572\n",
       "\n",
       "\n"
      ],
      "text/plain": [
       "[1] 0.001545863 0.001691307 0.001714741 0.001693626 0.001548385 0.004013908"
      ]
     },
     "metadata": {},
     "output_type": "display_data"
    }
   ],
   "source": [
    "head(m2$pip)"
   ]
  },
  {
   "cell_type": "code",
   "execution_count": 26,
   "metadata": {},
   "outputs": [
    {
     "data": {
      "text/html": [
       "<table>\n",
       "<tbody>\n",
       "\t<tr><td> 5.486376e-06</td></tr>\n",
       "\t<tr><td> 7.353974e-05</td></tr>\n",
       "\t<tr><td> 8.002533e-05</td></tr>\n",
       "\t<tr><td>-7.419597e-05</td></tr>\n",
       "\t<tr><td>-1.057353e-05</td></tr>\n",
       "\t<tr><td> 5.668172e-04</td></tr>\n",
       "</tbody>\n",
       "</table>\n"
      ],
      "text/latex": [
       "\\begin{tabular}{l}\n",
       "\t  5.486376e-06\\\\\n",
       "\t  7.353974e-05\\\\\n",
       "\t  8.002533e-05\\\\\n",
       "\t -7.419597e-05\\\\\n",
       "\t -1.057353e-05\\\\\n",
       "\t  5.668172e-04\\\\\n",
       "\\end{tabular}\n"
      ],
      "text/markdown": [
       "\n",
       "|  5.486376e-06 | \n",
       "|  7.353974e-05 | \n",
       "|  8.002533e-05 | \n",
       "| -7.419597e-05 | \n",
       "| -1.057353e-05 | \n",
       "|  5.668172e-04 | \n",
       "\n",
       "\n"
      ],
      "text/plain": [
       "     [,1]         \n",
       "[1,]  5.486376e-06\n",
       "[2,]  7.353974e-05\n",
       "[3,]  8.002533e-05\n",
       "[4,] -7.419597e-05\n",
       "[5,] -1.057353e-05\n",
       "[6,]  5.668172e-04"
      ]
     },
     "metadata": {},
     "output_type": "display_data"
    }
   ],
   "source": [
    "head(m1$posterior_b1)"
   ]
  },
  {
   "cell_type": "code",
   "execution_count": 27,
   "metadata": {},
   "outputs": [
    {
     "data": {
      "text/html": [
       "<table>\n",
       "<tbody>\n",
       "\t<tr><td> 5.486376e-06</td></tr>\n",
       "\t<tr><td> 7.353974e-05</td></tr>\n",
       "\t<tr><td> 8.002533e-05</td></tr>\n",
       "\t<tr><td>-7.419597e-05</td></tr>\n",
       "\t<tr><td>-1.057353e-05</td></tr>\n",
       "\t<tr><td> 5.668172e-04</td></tr>\n",
       "</tbody>\n",
       "</table>\n"
      ],
      "text/latex": [
       "\\begin{tabular}{l}\n",
       "\t  5.486376e-06\\\\\n",
       "\t  7.353974e-05\\\\\n",
       "\t  8.002533e-05\\\\\n",
       "\t -7.419597e-05\\\\\n",
       "\t -1.057353e-05\\\\\n",
       "\t  5.668172e-04\\\\\n",
       "\\end{tabular}\n"
      ],
      "text/markdown": [
       "\n",
       "|  5.486376e-06 | \n",
       "|  7.353974e-05 | \n",
       "|  8.002533e-05 | \n",
       "| -7.419597e-05 | \n",
       "| -1.057353e-05 | \n",
       "|  5.668172e-04 | \n",
       "\n",
       "\n"
      ],
      "text/plain": [
       "     [,1]         \n",
       "[1,]  5.486376e-06\n",
       "[2,]  7.353974e-05\n",
       "[3,]  8.002533e-05\n",
       "[4,] -7.419597e-05\n",
       "[5,] -1.057353e-05\n",
       "[6,]  5.668172e-04"
      ]
     },
     "metadata": {},
     "output_type": "display_data"
    }
   ],
   "source": [
    "head(m2$posterior_b1)"
   ]
  },
  {
   "cell_type": "code",
   "execution_count": 28,
   "metadata": {},
   "outputs": [
    {
     "data": {
      "text/html": [
       "-1.59617335538134"
      ],
      "text/latex": [
       "-1.59617335538134"
      ],
      "text/markdown": [
       "-1.59617335538134"
      ],
      "text/plain": [
       "[1] -1.596173"
      ]
     },
     "metadata": {},
     "output_type": "display_data"
    }
   ],
   "source": [
    "m1$lbf"
   ]
  },
  {
   "cell_type": "code",
   "execution_count": 29,
   "metadata": {},
   "outputs": [
    {
     "data": {
      "text/html": [
       "-1.59617335538134"
      ],
      "text/latex": [
       "-1.59617335538134"
      ],
      "text/markdown": [
       "-1.59617335538134"
      ],
      "text/plain": [
       "[1] -1.596173"
      ]
     },
     "metadata": {},
     "output_type": "display_data"
    }
   ],
   "source": [
    "m2$lbf"
   ]
  },
  {
   "cell_type": "code",
   "execution_count": 30,
   "metadata": {},
   "outputs": [],
   "source": [
    "data$add_to_fitted(pred1)\n",
    "data$compute_residual()"
   ]
  },
  {
   "cell_type": "code",
   "execution_count": 31,
   "metadata": {},
   "outputs": [
    {
     "data": {
      "text/html": [
       "<table>\n",
       "<tbody>\n",
       "\t<tr><td> 0.6897485</td></tr>\n",
       "\t<tr><td> 8.8366233</td></tr>\n",
       "\t<tr><td> 9.3437291</td></tr>\n",
       "\t<tr><td>-8.9747246</td></tr>\n",
       "\t<tr><td>-1.4260285</td></tr>\n",
       "\t<tr><td>28.4262408</td></tr>\n",
       "</tbody>\n",
       "</table>\n"
      ],
      "text/latex": [
       "\\begin{tabular}{l}\n",
       "\t  0.6897485\\\\\n",
       "\t  8.8366233\\\\\n",
       "\t  9.3437291\\\\\n",
       "\t -8.9747246\\\\\n",
       "\t -1.4260285\\\\\n",
       "\t 28.4262408\\\\\n",
       "\\end{tabular}\n"
      ],
      "text/markdown": [
       "\n",
       "|  0.6897485 | \n",
       "|  8.8366233 | \n",
       "|  9.3437291 | \n",
       "| -8.9747246 | \n",
       "| -1.4260285 | \n",
       "| 28.4262408 | \n",
       "\n",
       "\n"
      ],
      "text/plain": [
       "     [,1]      \n",
       "[1,]  0.6897485\n",
       "[2,]  8.8366233\n",
       "[3,]  9.3437291\n",
       "[4,] -8.9747246\n",
       "[5,] -1.4260285\n",
       "[6,] 28.4262408"
      ]
     },
     "metadata": {},
     "output_type": "display_data"
    }
   ],
   "source": [
    "head(data$XtR)"
   ]
  },
  {
   "cell_type": "markdown",
   "metadata": {},
   "source": [
    "## Predictions after three fits"
   ]
  },
  {
   "cell_type": "code",
   "execution_count": 32,
   "metadata": {},
   "outputs": [],
   "source": [
    "m1$fit(data)\n",
    "pred1 = m1$predict(data)"
   ]
  },
  {
   "cell_type": "code",
   "execution_count": 33,
   "metadata": {},
   "outputs": [],
   "source": [
    "m2$fit(data)\n",
    "pred2 = m2$predict(data)"
   ]
  },
  {
   "cell_type": "code",
   "execution_count": 34,
   "metadata": {},
   "outputs": [
    {
     "data": {
      "text/html": [
       "<table>\n",
       "<tbody>\n",
       "\t<tr><td> 5.268511e-06</td></tr>\n",
       "\t<tr><td> 7.380104e-05</td></tr>\n",
       "\t<tr><td> 7.886839e-05</td></tr>\n",
       "\t<tr><td>-7.516685e-05</td></tr>\n",
       "\t<tr><td>-1.091198e-05</td></tr>\n",
       "\t<tr><td> 5.498366e-04</td></tr>\n",
       "</tbody>\n",
       "</table>\n"
      ],
      "text/latex": [
       "\\begin{tabular}{l}\n",
       "\t  5.268511e-06\\\\\n",
       "\t  7.380104e-05\\\\\n",
       "\t  7.886839e-05\\\\\n",
       "\t -7.516685e-05\\\\\n",
       "\t -1.091198e-05\\\\\n",
       "\t  5.498366e-04\\\\\n",
       "\\end{tabular}\n"
      ],
      "text/markdown": [
       "\n",
       "|  5.268511e-06 | \n",
       "|  7.380104e-05 | \n",
       "|  7.886839e-05 | \n",
       "| -7.516685e-05 | \n",
       "| -1.091198e-05 | \n",
       "|  5.498366e-04 | \n",
       "\n",
       "\n"
      ],
      "text/plain": [
       "     [,1]         \n",
       "[1,]  5.268511e-06\n",
       "[2,]  7.380104e-05\n",
       "[3,]  7.886839e-05\n",
       "[4,] -7.516685e-05\n",
       "[5,] -1.091198e-05\n",
       "[6,]  5.498366e-04"
      ]
     },
     "metadata": {},
     "output_type": "display_data"
    }
   ],
   "source": [
    "head(m1$posterior_b1)"
   ]
  },
  {
   "cell_type": "code",
   "execution_count": 35,
   "metadata": {},
   "outputs": [
    {
     "data": {
      "text/html": [
       "<table>\n",
       "<tbody>\n",
       "\t<tr><td> 5.268511e-06</td></tr>\n",
       "\t<tr><td> 7.380104e-05</td></tr>\n",
       "\t<tr><td> 7.886839e-05</td></tr>\n",
       "\t<tr><td>-7.516685e-05</td></tr>\n",
       "\t<tr><td>-1.091198e-05</td></tr>\n",
       "\t<tr><td> 5.498366e-04</td></tr>\n",
       "</tbody>\n",
       "</table>\n"
      ],
      "text/latex": [
       "\\begin{tabular}{l}\n",
       "\t  5.268511e-06\\\\\n",
       "\t  7.380104e-05\\\\\n",
       "\t  7.886839e-05\\\\\n",
       "\t -7.516685e-05\\\\\n",
       "\t -1.091198e-05\\\\\n",
       "\t  5.498366e-04\\\\\n",
       "\\end{tabular}\n"
      ],
      "text/markdown": [
       "\n",
       "|  5.268511e-06 | \n",
       "|  7.380104e-05 | \n",
       "|  7.886839e-05 | \n",
       "| -7.516685e-05 | \n",
       "| -1.091198e-05 | \n",
       "|  5.498366e-04 | \n",
       "\n",
       "\n"
      ],
      "text/plain": [
       "     [,1]         \n",
       "[1,]  5.268511e-06\n",
       "[2,]  7.380104e-05\n",
       "[3,]  7.886839e-05\n",
       "[4,] -7.516685e-05\n",
       "[5,] -1.091198e-05\n",
       "[6,]  5.498366e-04"
      ]
     },
     "metadata": {},
     "output_type": "display_data"
    }
   ],
   "source": [
    "head(m2$posterior_b1)"
   ]
  },
  {
   "cell_type": "code",
   "execution_count": 36,
   "metadata": {},
   "outputs": [
    {
     "data": {
      "text/html": [
       "-1.60418714571329"
      ],
      "text/latex": [
       "-1.60418714571329"
      ],
      "text/markdown": [
       "-1.60418714571329"
      ],
      "text/plain": [
       "[1] -1.604187"
      ]
     },
     "metadata": {},
     "output_type": "display_data"
    }
   ],
   "source": [
    "m1$lbf"
   ]
  },
  {
   "cell_type": "code",
   "execution_count": 37,
   "metadata": {},
   "outputs": [
    {
     "data": {
      "text/html": [
       "-1.60418714571329"
      ],
      "text/latex": [
       "-1.60418714571329"
      ],
      "text/markdown": [
       "-1.60418714571329"
      ],
      "text/plain": [
       "[1] -1.604187"
      ]
     },
     "metadata": {},
     "output_type": "display_data"
    }
   ],
   "source": [
    "m2$lbf"
   ]
  },
  {
   "cell_type": "markdown",
   "metadata": {},
   "source": [
    "## Check on main interface call"
   ]
  },
  {
   "cell_type": "code",
   "execution_count": 38,
   "metadata": {},
   "outputs": [],
   "source": [
    "L = 10"
   ]
  },
  {
   "cell_type": "code",
   "execution_count": 39,
   "metadata": {},
   "outputs": [],
   "source": [
    "residual_var = as.numeric(var(y))\n",
    "scaled_prior_var = V[1,1] / residual_var\n",
    "A = susie(X,y,L=L,prior_variance=scaled_prior_var,\n",
    "          compute_objective=FALSE)"
   ]
  },
  {
   "cell_type": "code",
   "execution_count": 40,
   "metadata": {},
   "outputs": [],
   "source": [
    "residual_cov = cov(y)\n",
    "m_init = mvsusieR:::MashInitializer$new(list(V), 1, alpha = 0)\n",
    "B = susie(X,y,L=L,prior_variance=m_init,compute_objective=FALSE)"
   ]
  },
  {
   "cell_type": "code",
   "execution_count": 44,
   "metadata": {},
   "outputs": [
    {
     "data": {
      "text/html": [
       "1.4210854715202e-14"
      ],
      "text/latex": [
       "1.4210854715202e-14"
      ],
      "text/markdown": [
       "1.4210854715202e-14"
      ],
      "text/plain": [
       "[1] 1.421085e-14"
      ]
     },
     "metadata": {},
     "output_type": "display_data"
    }
   ],
   "source": [
    "max(abs(A$lbf - B$lbf))"
   ]
  }
 ],
 "metadata": {
  "kernelspec": {
   "display_name": "R",
   "language": "R",
   "name": "ir"
  },
  "language_info": {
   "codemirror_mode": "r",
   "file_extension": ".r",
   "mimetype": "text/x-r-source",
   "name": "R",
   "pygments_lexer": "r",
   "version": "3.6.1"
  }
 },
 "nbformat": 4,
 "nbformat_minor": 4
}
