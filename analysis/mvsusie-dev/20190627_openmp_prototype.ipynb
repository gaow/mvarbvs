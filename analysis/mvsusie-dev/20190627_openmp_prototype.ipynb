{
 "cells": [
  {
   "cell_type": "markdown",
   "metadata": {
    "kernel": "SoS"
   },
   "source": [
    "## OpenMP benchmark for Rcpp based codes\n",
    "\n",
    "Here I test if OpenMP helps with some of the computations."
   ]
  },
  {
   "cell_type": "code",
   "execution_count": 1,
   "metadata": {
    "kernel": "R"
   },
   "outputs": [],
   "source": [
    "attach(readRDS('em_optim_difference.rds'))"
   ]
  },
  {
   "cell_type": "markdown",
   "metadata": {
    "kernel": "R"
   },
   "source": [
    "Here, sample size `N` is around 800, number of variables `P` is around 600. 50 conditions are involved."
   ]
  },
  {
   "cell_type": "code",
   "execution_count": 2,
   "metadata": {
    "kernel": "R"
   },
   "outputs": [],
   "source": [
    "X = cbind(X,X,X)"
   ]
  },
  {
   "cell_type": "code",
   "execution_count": 3,
   "metadata": {
    "kernel": "R"
   },
   "outputs": [
    {
     "data": {
      "text/html": [
       "<style>\n",
       ".list-inline {list-style: none; margin:0; padding: 0}\n",
       ".list-inline>li {display: inline-block}\n",
       ".list-inline>li:not(:last-child)::after {content: \"\\00b7\"; padding: 0 .5ex}\n",
       "</style>\n",
       "<ol class=list-inline><li>838</li><li>639</li></ol>\n"
      ],
      "text/latex": [
       "\\begin{enumerate*}\n",
       "\\item 838\n",
       "\\item 639\n",
       "\\end{enumerate*}\n"
      ],
      "text/markdown": [
       "1. 838\n",
       "2. 639\n",
       "\n",
       "\n"
      ],
      "text/plain": [
       "[1] 838 639"
      ]
     },
     "metadata": {},
     "output_type": "display_data"
    }
   ],
   "source": [
    "dim(X)"
   ]
  },
  {
   "cell_type": "code",
   "execution_count": 4,
   "metadata": {
    "kernel": "R"
   },
   "outputs": [
    {
     "data": {
      "text/html": [
       "<style>\n",
       ".list-inline {list-style: none; margin:0; padding: 0}\n",
       ".list-inline>li {display: inline-block}\n",
       ".list-inline>li:not(:last-child)::after {content: \"\\00b7\"; padding: 0 .5ex}\n",
       "</style>\n",
       "<ol class=list-inline><li>838</li><li>50</li></ol>\n"
      ],
      "text/latex": [
       "\\begin{enumerate*}\n",
       "\\item 838\n",
       "\\item 50\n",
       "\\end{enumerate*}\n"
      ],
      "text/markdown": [
       "1. 838\n",
       "2. 50\n",
       "\n",
       "\n"
      ],
      "text/plain": [
       "[1] 838  50"
      ]
     },
     "metadata": {},
     "output_type": "display_data"
    }
   ],
   "source": [
    "dim(Y)"
   ]
  },
  {
   "cell_type": "code",
   "execution_count": 5,
   "metadata": {
    "kernel": "R"
   },
   "outputs": [
    {
     "name": "stderr",
     "output_type": "stream",
     "text": [
      "Loading mvsusieR\n",
      "\n",
      "Loading required package: mashr\n",
      "\n",
      "Loading required package: ashr\n",
      "\n",
      "Loading required package: susieR\n",
      "\n"
     ]
    }
   ],
   "source": [
    "devtools::load_all('~/GIT/software/mvsusieR')\n",
    "omp_test = function(m, d, n_thread) {\n",
    "    x = m$clone(deep=TRUE)\n",
    "    x$set_thread(n_thread)\n",
    "    x$fit(d)\n",
    "    return(0)\n",
    "}"
   ]
  },
  {
   "cell_type": "markdown",
   "metadata": {
    "kernel": "R"
   },
   "source": [
    "I will benchmark it on my 40 CPU threads computer, using number of threads from 1 to 96."
   ]
  },
  {
   "cell_type": "markdown",
   "metadata": {
    "kernel": "R"
   },
   "source": [
    "## Center and scale the data"
   ]
  },
  {
   "cell_type": "code",
   "execution_count": 11,
   "metadata": {
    "kernel": "R"
   },
   "outputs": [],
   "source": [
    "d = DenseData$new(X,Y)\n",
    "d$standardize(T,T)\n",
    "d$set_residual_variance(resid_Y)\n",
    "\n",
    "mash_init = MashInitializer$new(list(diag(ncol(Y))), 1)\n",
    "B = MashRegression$new(ncol(X), mash_init)"
   ]
  },
  {
   "cell_type": "code",
   "execution_count": 12,
   "metadata": {
    "kernel": "R"
   },
   "outputs": [],
   "source": [
    "res = microbenchmark::microbenchmark(c1 = omp_test(B, d, 1),\n",
    "c2 = omp_test(B, d, 2), c3 = omp_test(B, d, 3),\n",
    "c4 = omp_test(B, d, 4), c8 = omp_test(B, d, 8),\n",
    "c12 = omp_test(B, d, 12), c24 = omp_test(B, d, 24),\n",
    "c40 = omp_test(B, d, 40), c96 = omp_test(B, d, 96),\n",
    "times = 30\n",
    ")"
   ]
  },
  {
   "cell_type": "code",
   "execution_count": 13,
   "metadata": {
    "kernel": "R"
   },
   "outputs": [
    {
     "data": {
      "text/html": [
       "<table>\n",
       "<caption>A data.frame: 9 × 3</caption>\n",
       "<thead>\n",
       "\t<tr><th scope=col>expr</th><th scope=col>mean</th><th scope=col>median</th></tr>\n",
       "\t<tr><th scope=col>&lt;fct&gt;</th><th scope=col>&lt;dbl&gt;</th><th scope=col>&lt;dbl&gt;</th></tr>\n",
       "</thead>\n",
       "<tbody>\n",
       "\t<tr><td>c1 </td><td>161.0818</td><td>136.1470</td></tr>\n",
       "\t<tr><td>c2 </td><td>170.6787</td><td>119.0540</td></tr>\n",
       "\t<tr><td>c3 </td><td>175.3710</td><td>110.2931</td></tr>\n",
       "\t<tr><td>c4 </td><td>135.8872</td><td>118.4377</td></tr>\n",
       "\t<tr><td>c8 </td><td>170.4492</td><td>125.5141</td></tr>\n",
       "\t<tr><td>c12</td><td>151.2837</td><td>131.4356</td></tr>\n",
       "\t<tr><td>c24</td><td>145.8516</td><td>124.3913</td></tr>\n",
       "\t<tr><td>c40</td><td>224.2847</td><td>163.7604</td></tr>\n",
       "\t<tr><td>c96</td><td>345.9077</td><td>335.4519</td></tr>\n",
       "</tbody>\n",
       "</table>\n"
      ],
      "text/latex": [
       "A data.frame: 9 × 3\n",
       "\\begin{tabular}{lll}\n",
       " expr & mean & median\\\\\n",
       " <fct> & <dbl> & <dbl>\\\\\n",
       "\\hline\n",
       "\t c1  & 161.0818 & 136.1470\\\\\n",
       "\t c2  & 170.6787 & 119.0540\\\\\n",
       "\t c3  & 175.3710 & 110.2931\\\\\n",
       "\t c4  & 135.8872 & 118.4377\\\\\n",
       "\t c8  & 170.4492 & 125.5141\\\\\n",
       "\t c12 & 151.2837 & 131.4356\\\\\n",
       "\t c24 & 145.8516 & 124.3913\\\\\n",
       "\t c40 & 224.2847 & 163.7604\\\\\n",
       "\t c96 & 345.9077 & 335.4519\\\\\n",
       "\\end{tabular}\n"
      ],
      "text/markdown": [
       "\n",
       "A data.frame: 9 × 3\n",
       "\n",
       "| expr &lt;fct&gt; | mean &lt;dbl&gt; | median &lt;dbl&gt; |\n",
       "|---|---|---|\n",
       "| c1  | 161.0818 | 136.1470 |\n",
       "| c2  | 170.6787 | 119.0540 |\n",
       "| c3  | 175.3710 | 110.2931 |\n",
       "| c4  | 135.8872 | 118.4377 |\n",
       "| c8  | 170.4492 | 125.5141 |\n",
       "| c12 | 151.2837 | 131.4356 |\n",
       "| c24 | 145.8516 | 124.3913 |\n",
       "| c40 | 224.2847 | 163.7604 |\n",
       "| c96 | 345.9077 | 335.4519 |\n",
       "\n"
      ],
      "text/plain": [
       "  expr mean     median  \n",
       "1 c1   161.0818 136.1470\n",
       "2 c2   170.6787 119.0540\n",
       "3 c3   175.3710 110.2931\n",
       "4 c4   135.8872 118.4377\n",
       "5 c8   170.4492 125.5141\n",
       "6 c12  151.2837 131.4356\n",
       "7 c24  145.8516 124.3913\n",
       "8 c40  224.2847 163.7604\n",
       "9 c96  345.9077 335.4519"
      ]
     },
     "metadata": {},
     "output_type": "display_data"
    }
   ],
   "source": [
    "summary(res)[,c('expr', 'mean', 'median')]"
   ]
  },
  {
   "cell_type": "markdown",
   "metadata": {
    "kernel": "R"
   },
   "source": [
    "There is no advantage here, as expected, because when data is centered and scaled, the parallazation happens at mixture prior level. Since only one mixture component is used, there is nothing to parallel."
   ]
  },
  {
   "cell_type": "markdown",
   "metadata": {
    "kernel": "R"
   },
   "source": [
    "## Do not center and scale the data\n",
    "\n",
    "This will be more computationally intensive than previous run, because `sbhat` here is different for every variable. But now the parallazation will happen at variable level."
   ]
  },
  {
   "cell_type": "code",
   "execution_count": 6,
   "metadata": {
    "kernel": "R"
   },
   "outputs": [],
   "source": [
    "d = DenseData$new(X,Y)\n",
    "d$standardize(F,F)\n",
    "d$set_residual_variance(resid_Y)\n",
    "\n",
    "mash_init = MashInitializer$new(list(diag(ncol(Y))), 1)\n",
    "B = MashRegression$new(ncol(X), mash_init)"
   ]
  },
  {
   "cell_type": "code",
   "execution_count": 16,
   "metadata": {
    "kernel": "R"
   },
   "outputs": [],
   "source": [
    "res = microbenchmark::microbenchmark(c1 = omp_test(B, d, 1),\n",
    "c2 = omp_test(B, d, 2), c3 = omp_test(B, d, 3),\n",
    "c4 = omp_test(B, d, 4), c8 = omp_test(B, d, 8),\n",
    "c12 = omp_test(B, d, 12), c24 = omp_test(B, d, 24),\n",
    "c40 = omp_test(B, d, 40), c96 = omp_test(B, d, 96),\n",
    "times = 30\n",
    ")"
   ]
  },
  {
   "cell_type": "code",
   "execution_count": 17,
   "metadata": {
    "kernel": "R"
   },
   "outputs": [
    {
     "data": {
      "text/html": [
       "<table>\n",
       "<caption>A data.frame: 9 × 3</caption>\n",
       "<thead>\n",
       "\t<tr><th scope=col>expr</th><th scope=col>mean</th><th scope=col>median</th></tr>\n",
       "\t<tr><th scope=col>&lt;fct&gt;</th><th scope=col>&lt;dbl&gt;</th><th scope=col>&lt;dbl&gt;</th></tr>\n",
       "</thead>\n",
       "<tbody>\n",
       "\t<tr><td>c1 </td><td>359.0996</td><td>320.1640</td></tr>\n",
       "\t<tr><td>c2 </td><td>229.4660</td><td>207.2559</td></tr>\n",
       "\t<tr><td>c3 </td><td>215.6167</td><td>180.4148</td></tr>\n",
       "\t<tr><td>c4 </td><td>219.5334</td><td>178.6810</td></tr>\n",
       "\t<tr><td>c8 </td><td>171.5940</td><td>146.5264</td></tr>\n",
       "\t<tr><td>c12</td><td>175.7622</td><td>152.8917</td></tr>\n",
       "\t<tr><td>c24</td><td>142.9345</td><td>125.4073</td></tr>\n",
       "\t<tr><td>c40</td><td>168.9303</td><td>150.1708</td></tr>\n",
       "\t<tr><td>c96</td><td>322.8361</td><td>305.4616</td></tr>\n",
       "</tbody>\n",
       "</table>\n"
      ],
      "text/latex": [
       "A data.frame: 9 × 3\n",
       "\\begin{tabular}{lll}\n",
       " expr & mean & median\\\\\n",
       " <fct> & <dbl> & <dbl>\\\\\n",
       "\\hline\n",
       "\t c1  & 359.0996 & 320.1640\\\\\n",
       "\t c2  & 229.4660 & 207.2559\\\\\n",
       "\t c3  & 215.6167 & 180.4148\\\\\n",
       "\t c4  & 219.5334 & 178.6810\\\\\n",
       "\t c8  & 171.5940 & 146.5264\\\\\n",
       "\t c12 & 175.7622 & 152.8917\\\\\n",
       "\t c24 & 142.9345 & 125.4073\\\\\n",
       "\t c40 & 168.9303 & 150.1708\\\\\n",
       "\t c96 & 322.8361 & 305.4616\\\\\n",
       "\\end{tabular}\n"
      ],
      "text/markdown": [
       "\n",
       "A data.frame: 9 × 3\n",
       "\n",
       "| expr &lt;fct&gt; | mean &lt;dbl&gt; | median &lt;dbl&gt; |\n",
       "|---|---|---|\n",
       "| c1  | 359.0996 | 320.1640 |\n",
       "| c2  | 229.4660 | 207.2559 |\n",
       "| c3  | 215.6167 | 180.4148 |\n",
       "| c4  | 219.5334 | 178.6810 |\n",
       "| c8  | 171.5940 | 146.5264 |\n",
       "| c12 | 175.7622 | 152.8917 |\n",
       "| c24 | 142.9345 | 125.4073 |\n",
       "| c40 | 168.9303 | 150.1708 |\n",
       "| c96 | 322.8361 | 305.4616 |\n",
       "\n"
      ],
      "text/plain": [
       "  expr mean     median  \n",
       "1 c1   359.0996 320.1640\n",
       "2 c2   229.4660 207.2559\n",
       "3 c3   215.6167 180.4148\n",
       "4 c4   219.5334 178.6810\n",
       "5 c8   171.5940 146.5264\n",
       "6 c12  175.7622 152.8917\n",
       "7 c24  142.9345 125.4073\n",
       "8 c40  168.9303 150.1708\n",
       "9 c96  322.8361 305.4616"
      ]
     },
     "metadata": {},
     "output_type": "display_data"
    }
   ],
   "source": [
    "summary(res)[,c('expr', 'mean', 'median')]"
   ]
  },
  {
   "cell_type": "markdown",
   "metadata": {
    "kernel": "R"
   },
   "source": [
    "We see some advantage here using multiple threads. Performance keeps improving as number of threads increases, up to 40 threads (capacity of my computer). More threads asked beyond that point resulted in performance loss. It seems 4 threads strikes a good balance and reduce the compute time by more than half."
   ]
  },
  {
   "cell_type": "markdown",
   "metadata": {
    "kernel": "R"
   },
   "source": [
    "## Center and scale data but using mixture prior\n",
    "\n",
    "Here since we are running a mixture prior, the advantage of parallazation should kick in because for common `sbhat` we parallel over prior mixture,"
   ]
  },
  {
   "cell_type": "code",
   "execution_count": 10,
   "metadata": {
    "kernel": "R"
   },
   "outputs": [],
   "source": [
    "d = DenseData$new(X,Y)\n",
    "d$standardize(T,T)\n",
    "d$set_residual_variance(resid_Y)\n",
    "\n",
    "mash_init = MashInitializer$new(create_cov_canonical(ncol(Y)), 1)\n",
    "B = MashRegression$new(ncol(X), mash_init)"
   ]
  },
  {
   "cell_type": "code",
   "execution_count": 11,
   "metadata": {
    "kernel": "R"
   },
   "outputs": [],
   "source": [
    "res = microbenchmark::microbenchmark(c1 = omp_test(B, d, 1),\n",
    "c2 = omp_test(B, d, 2), c3 = omp_test(B, d, 3),\n",
    "c4 = omp_test(B, d, 4), c8 = omp_test(B, d, 8),\n",
    "c12 = omp_test(B, d, 12), c24 = omp_test(B, d, 24),\n",
    "c40 = omp_test(B, d, 40), c96 = omp_test(B, d, 96),\n",
    "times = 30\n",
    ")"
   ]
  },
  {
   "cell_type": "code",
   "execution_count": 12,
   "metadata": {
    "kernel": "R"
   },
   "outputs": [
    {
     "data": {
      "text/html": [
       "<table>\n",
       "<caption>A data.frame: 9 × 3</caption>\n",
       "<thead>\n",
       "\t<tr><th scope=col>expr</th><th scope=col>mean</th><th scope=col>median</th></tr>\n",
       "\t<tr><th scope=col>&lt;fct&gt;</th><th scope=col>&lt;dbl&gt;</th><th scope=col>&lt;dbl&gt;</th></tr>\n",
       "</thead>\n",
       "<tbody>\n",
       "\t<tr><td>c1 </td><td>489.7533</td><td>478.0427</td></tr>\n",
       "\t<tr><td>c2 </td><td>344.7106</td><td>323.2162</td></tr>\n",
       "\t<tr><td>c3 </td><td>300.3792</td><td>258.1757</td></tr>\n",
       "\t<tr><td>c4 </td><td>269.4045</td><td>244.0847</td></tr>\n",
       "\t<tr><td>c8 </td><td>242.0541</td><td>210.5421</td></tr>\n",
       "\t<tr><td>c12</td><td>232.5791</td><td>215.5211</td></tr>\n",
       "\t<tr><td>c24</td><td>246.1973</td><td>216.6343</td></tr>\n",
       "\t<tr><td>c40</td><td>273.2946</td><td>244.1338</td></tr>\n",
       "\t<tr><td>c96</td><td>533.4972</td><td>541.2539</td></tr>\n",
       "</tbody>\n",
       "</table>\n"
      ],
      "text/latex": [
       "A data.frame: 9 × 3\n",
       "\\begin{tabular}{lll}\n",
       " expr & mean & median\\\\\n",
       " <fct> & <dbl> & <dbl>\\\\\n",
       "\\hline\n",
       "\t c1  & 489.7533 & 478.0427\\\\\n",
       "\t c2  & 344.7106 & 323.2162\\\\\n",
       "\t c3  & 300.3792 & 258.1757\\\\\n",
       "\t c4  & 269.4045 & 244.0847\\\\\n",
       "\t c8  & 242.0541 & 210.5421\\\\\n",
       "\t c12 & 232.5791 & 215.5211\\\\\n",
       "\t c24 & 246.1973 & 216.6343\\\\\n",
       "\t c40 & 273.2946 & 244.1338\\\\\n",
       "\t c96 & 533.4972 & 541.2539\\\\\n",
       "\\end{tabular}\n"
      ],
      "text/markdown": [
       "\n",
       "A data.frame: 9 × 3\n",
       "\n",
       "| expr &lt;fct&gt; | mean &lt;dbl&gt; | median &lt;dbl&gt; |\n",
       "|---|---|---|\n",
       "| c1  | 489.7533 | 478.0427 |\n",
       "| c2  | 344.7106 | 323.2162 |\n",
       "| c3  | 300.3792 | 258.1757 |\n",
       "| c4  | 269.4045 | 244.0847 |\n",
       "| c8  | 242.0541 | 210.5421 |\n",
       "| c12 | 232.5791 | 215.5211 |\n",
       "| c24 | 246.1973 | 216.6343 |\n",
       "| c40 | 273.2946 | 244.1338 |\n",
       "| c96 | 533.4972 | 541.2539 |\n",
       "\n"
      ],
      "text/plain": [
       "  expr mean     median  \n",
       "1 c1   489.7533 478.0427\n",
       "2 c2   344.7106 323.2162\n",
       "3 c3   300.3792 258.1757\n",
       "4 c4   269.4045 244.0847\n",
       "5 c8   242.0541 210.5421\n",
       "6 c12  232.5791 215.5211\n",
       "7 c24  246.1973 216.6343\n",
       "8 c40  273.2946 244.1338\n",
       "9 c96  533.4972 541.2539"
      ]
     },
     "metadata": {},
     "output_type": "display_data"
    }
   ],
   "source": [
    "summary(res)[,c('expr', 'mean', 'median')]"
   ]
  },
  {
   "cell_type": "markdown",
   "metadata": {
    "kernel": "R"
   },
   "source": [
    "We see that the advantage is obvious for using multiple threads for computation with mixture prior having a large number of components (this case is about 60 for canonical prior)."
   ]
  }
 ],
 "metadata": {
  "kernelspec": {
   "display_name": "SoS",
   "language": "sos",
   "name": "sos"
  },
  "language_info": {
   "codemirror_mode": "sos",
   "file_extension": ".sos",
   "mimetype": "text/x-sos",
   "name": "sos",
   "nbconvert_exporter": "sos_notebook.converter.SoS_Exporter",
   "pygments_lexer": "sos"
  },
  "sos": {
   "kernels": [
    [
     "R",
     "ir",
     "R",
     "#DCDCDA",
     ""
    ],
    [
     "SoS",
     "sos",
     "",
     "",
     "sos"
    ]
   ],
   "version": "0.21.7"
  }
 },
 "nbformat": 4,
 "nbformat_minor": 4
}
