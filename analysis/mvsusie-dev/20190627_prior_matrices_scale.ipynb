{
 "cells": [
  {
   "cell_type": "markdown",
   "id": "alien-squad",
   "metadata": {},
   "source": [
    "# Scaling the prior matrices from empirical Bayes multivariate analysis\n",
    "\n",
    "Matrices provided from fitting empirical Bayes normal means problem (EBNM) using exchangable standard effects model ($\\beta/s | s \\sim g(\\cdot)$) must be scaled by residual variance and sample size in msSuSiE analysis, when the variables matrix $X$ is standardized."
   ]
  },
  {
   "cell_type": "markdown",
   "id": "leading-champagne",
   "metadata": {},
   "source": [
    "## Example"
   ]
  },
  {
   "cell_type": "markdown",
   "id": "prepared-leader",
   "metadata": {},
   "source": [
    "Load data-set:"
   ]
  },
  {
   "cell_type": "code",
   "execution_count": 1,
   "id": "radio-commercial",
   "metadata": {},
   "outputs": [],
   "source": [
    "library(susieR)\n",
    "data(\"N3finemapping\")\n",
    "attach(N3finemapping)"
   ]
  },
  {
   "cell_type": "code",
   "execution_count": 2,
   "id": "interesting-maker",
   "metadata": {},
   "outputs": [],
   "source": [
    "get_sumstat = function(X,Y, standardize=F) {\n",
    "    if (standardize) X = scale(X)\n",
    "    ss1 = susieR:::univariate_regression(X, Y[,1])\n",
    "    ss2 = susieR:::univariate_regression(X, Y[,2])\n",
    "    bhat = cbind(ss1$betahat, ss2$betahat)\n",
    "    sbhat = cbind(ss1$sebetahat, ss2$sebetahat)\n",
    "    return(list(b=bhat,s=sbhat))\n",
    "}"
   ]
  },
  {
   "cell_type": "markdown",
   "id": "forbidden-poland",
   "metadata": {},
   "source": [
    "First, we obtain effect size and their standard errors from univariate analysis,"
   ]
  },
  {
   "cell_type": "code",
   "execution_count": 3,
   "id": "selective-plate",
   "metadata": {},
   "outputs": [],
   "source": [
    "out = get_sumstat(X,Y)"
   ]
  },
  {
   "cell_type": "markdown",
   "id": "universal-vanilla",
   "metadata": {},
   "source": [
    "The prior for effect size, assuming it is obtained by the EBNM, should be at the scale of:"
   ]
  },
  {
   "cell_type": "code",
   "execution_count": 4,
   "id": "pending-sphere",
   "metadata": {},
   "outputs": [
    {
     "data": {
      "text/html": [
       "<table>\n",
       "<caption>A matrix: 2 × 2 of type dbl</caption>\n",
       "<tbody>\n",
       "\t<tr><td> 0.39203072</td><td>-0.04737559</td></tr>\n",
       "\t<tr><td>-0.04737559</td><td> 0.09786247</td></tr>\n",
       "</tbody>\n",
       "</table>\n"
      ],
      "text/latex": [
       "A matrix: 2 × 2 of type dbl\n",
       "\\begin{tabular}{ll}\n",
       "\t  0.39203072 & -0.04737559\\\\\n",
       "\t -0.04737559 &  0.09786247\\\\\n",
       "\\end{tabular}\n"
      ],
      "text/markdown": [
       "\n",
       "A matrix: 2 × 2 of type dbl\n",
       "\n",
       "|  0.39203072 | -0.04737559 |\n",
       "| -0.04737559 |  0.09786247 |\n",
       "\n"
      ],
      "text/plain": [
       "     [,1]        [,2]       \n",
       "[1,]  0.39203072 -0.04737559\n",
       "[2,] -0.04737559  0.09786247"
      ]
     },
     "metadata": {},
     "output_type": "display_data"
    }
   ],
   "source": [
    "U_EE = cov(out$b)\n",
    "U_EE"
   ]
  },
  {
   "cell_type": "markdown",
   "id": "compliant-gender",
   "metadata": {},
   "source": [
    "However, we often perform EBNM under exchangable standardized effects model, resulting in matrices at the scale of:"
   ]
  },
  {
   "cell_type": "code",
   "execution_count": 5,
   "id": "serial-milwaukee",
   "metadata": {},
   "outputs": [
    {
     "data": {
      "text/html": [
       "<table>\n",
       "<caption>A matrix: 2 × 2 of type dbl</caption>\n",
       "<tbody>\n",
       "\t<tr><td> 3.937061</td><td>-1.262135</td></tr>\n",
       "\t<tr><td>-1.262135</td><td> 3.968066</td></tr>\n",
       "</tbody>\n",
       "</table>\n"
      ],
      "text/latex": [
       "A matrix: 2 × 2 of type dbl\n",
       "\\begin{tabular}{ll}\n",
       "\t  3.937061 & -1.262135\\\\\n",
       "\t -1.262135 &  3.968066\\\\\n",
       "\\end{tabular}\n"
      ],
      "text/markdown": [
       "\n",
       "A matrix: 2 × 2 of type dbl\n",
       "\n",
       "|  3.937061 | -1.262135 |\n",
       "| -1.262135 |  3.968066 |\n",
       "\n"
      ],
      "text/plain": [
       "     [,1]      [,2]     \n",
       "[1,]  3.937061 -1.262135\n",
       "[2,] -1.262135  3.968066"
      ]
     },
     "metadata": {},
     "output_type": "display_data"
    }
   ],
   "source": [
    "U_EZ = cov(out$b/out$s)\n",
    "U_EZ"
   ]
  },
  {
   "cell_type": "code",
   "execution_count": 6,
   "id": "molecular-beads",
   "metadata": {},
   "outputs": [],
   "source": [
    "get_sigma = function(Y) {\n",
    "    sigma = sapply(1:ncol(Y), function(i) sd(Y[,i], na.rm=T))\n",
    "    N = sapply(1:ncol(Y), function(i) length(which(!is.na(Y[,1]))))\n",
    "    sigma/sqrt(N)\n",
    "}"
   ]
  },
  {
   "cell_type": "code",
   "execution_count": 7,
   "id": "stylish-characteristic",
   "metadata": {},
   "outputs": [],
   "source": [
    "sigma = get_sigma(Y)"
   ]
  },
  {
   "cell_type": "markdown",
   "id": "surrounded-reaction",
   "metadata": {},
   "source": [
    "We cannot convert `U_EZ` back to `U_EE` for use with mvSuSiE analysis because is no obvious connection between `U_EE` and `U_EZ`"
   ]
  },
  {
   "cell_type": "code",
   "execution_count": 8,
   "id": "polish-explanation",
   "metadata": {},
   "outputs": [
    {
     "data": {
      "text/html": [
       "<table>\n",
       "<caption>A matrix: 2 × 2 of type dbl</caption>\n",
       "<tbody>\n",
       "\t<tr><td> 0.053791019</td><td>-0.008989528</td></tr>\n",
       "\t<tr><td>-0.008989528</td><td> 0.014733425</td></tr>\n",
       "</tbody>\n",
       "</table>\n"
      ],
      "text/latex": [
       "A matrix: 2 × 2 of type dbl\n",
       "\\begin{tabular}{ll}\n",
       "\t  0.053791019 & -0.008989528\\\\\n",
       "\t -0.008989528 &  0.014733425\\\\\n",
       "\\end{tabular}\n"
      ],
      "text/markdown": [
       "\n",
       "A matrix: 2 × 2 of type dbl\n",
       "\n",
       "|  0.053791019 | -0.008989528 |\n",
       "| -0.008989528 |  0.014733425 |\n",
       "\n"
      ],
      "text/plain": [
       "     [,1]         [,2]        \n",
       "[1,]  0.053791019 -0.008989528\n",
       "[2,] -0.008989528  0.014733425"
      ]
     },
     "metadata": {},
     "output_type": "display_data"
    }
   ],
   "source": [
    "t(U_EZ * sigma) * sigma"
   ]
  },
  {
   "cell_type": "markdown",
   "id": "emerging-washer",
   "metadata": {},
   "source": [
    "When $X$ is standardized,"
   ]
  },
  {
   "cell_type": "code",
   "execution_count": 9,
   "id": "compliant-laser",
   "metadata": {},
   "outputs": [],
   "source": [
    "out.s = get_sumstat(X,Y,T)"
   ]
  },
  {
   "cell_type": "code",
   "execution_count": 10,
   "id": "outside-landing",
   "metadata": {},
   "outputs": [
    {
     "data": {
      "text/html": [
       "<table>\n",
       "<caption>A matrix: 2 × 2 of type dbl</caption>\n",
       "<tbody>\n",
       "\t<tr><td> 0.052610656</td><td>-0.008683745</td></tr>\n",
       "\t<tr><td>-0.008683745</td><td> 0.014293509</td></tr>\n",
       "</tbody>\n",
       "</table>\n"
      ],
      "text/latex": [
       "A matrix: 2 × 2 of type dbl\n",
       "\\begin{tabular}{ll}\n",
       "\t  0.052610656 & -0.008683745\\\\\n",
       "\t -0.008683745 &  0.014293509\\\\\n",
       "\\end{tabular}\n"
      ],
      "text/markdown": [
       "\n",
       "A matrix: 2 × 2 of type dbl\n",
       "\n",
       "|  0.052610656 | -0.008683745 |\n",
       "| -0.008683745 |  0.014293509 |\n",
       "\n"
      ],
      "text/plain": [
       "     [,1]         [,2]        \n",
       "[1,]  0.052610656 -0.008683745\n",
       "[2,] -0.008683745  0.014293509"
      ]
     },
     "metadata": {},
     "output_type": "display_data"
    }
   ],
   "source": [
    "U_EE = cov(out.s$b)\n",
    "U_EE"
   ]
  },
  {
   "cell_type": "code",
   "execution_count": 11,
   "id": "liked-lebanon",
   "metadata": {},
   "outputs": [
    {
     "data": {
      "text/html": [
       "<table>\n",
       "<caption>A matrix: 2 × 2 of type dbl</caption>\n",
       "<tbody>\n",
       "\t<tr><td> 3.937061</td><td>-1.262135</td></tr>\n",
       "\t<tr><td>-1.262135</td><td> 3.968066</td></tr>\n",
       "</tbody>\n",
       "</table>\n"
      ],
      "text/latex": [
       "A matrix: 2 × 2 of type dbl\n",
       "\\begin{tabular}{ll}\n",
       "\t  3.937061 & -1.262135\\\\\n",
       "\t -1.262135 &  3.968066\\\\\n",
       "\\end{tabular}\n"
      ],
      "text/markdown": [
       "\n",
       "A matrix: 2 × 2 of type dbl\n",
       "\n",
       "|  3.937061 | -1.262135 |\n",
       "| -1.262135 |  3.968066 |\n",
       "\n"
      ],
      "text/plain": [
       "     [,1]      [,2]     \n",
       "[1,]  3.937061 -1.262135\n",
       "[2,] -1.262135  3.968066"
      ]
     },
     "metadata": {},
     "output_type": "display_data"
    }
   ],
   "source": [
    "U_EZ = cov(out.s$b/out.s$s)\n",
    "U_EZ"
   ]
  },
  {
   "cell_type": "markdown",
   "id": "representative-stamp",
   "metadata": {},
   "source": [
    "We can recover `U_EE` from `U_EZ` via:"
   ]
  },
  {
   "cell_type": "code",
   "execution_count": 12,
   "id": "entertaining-international",
   "metadata": {},
   "outputs": [
    {
     "data": {
      "text/html": [
       "<table>\n",
       "<caption>A matrix: 2 × 2 of type dbl</caption>\n",
       "<tbody>\n",
       "\t<tr><td> 0.053791019</td><td>-0.008989528</td></tr>\n",
       "\t<tr><td>-0.008989528</td><td> 0.014733425</td></tr>\n",
       "</tbody>\n",
       "</table>\n"
      ],
      "text/latex": [
       "A matrix: 2 × 2 of type dbl\n",
       "\\begin{tabular}{ll}\n",
       "\t  0.053791019 & -0.008989528\\\\\n",
       "\t -0.008989528 &  0.014733425\\\\\n",
       "\\end{tabular}\n"
      ],
      "text/markdown": [
       "\n",
       "A matrix: 2 × 2 of type dbl\n",
       "\n",
       "|  0.053791019 | -0.008989528 |\n",
       "| -0.008989528 |  0.014733425 |\n",
       "\n"
      ],
      "text/plain": [
       "     [,1]         [,2]        \n",
       "[1,]  0.053791019 -0.008989528\n",
       "[2,] -0.008989528  0.014733425"
      ]
     },
     "metadata": {},
     "output_type": "display_data"
    }
   ],
   "source": [
    "t(U_EZ * sigma) * sigma"
   ]
  },
  {
   "cell_type": "markdown",
   "id": "pacific-thanksgiving",
   "metadata": {},
   "source": [
    "Notice that here `U_EZ` remains the same regardless of $X$ being standardized beforehand."
   ]
  },
  {
   "cell_type": "markdown",
   "id": "manual-spirituality",
   "metadata": {},
   "source": [
    "## Conclusion\n",
    "\n",
    "Our EBNM based prior workflow should be:\n",
    "\n",
    "1. Obtain `U_EZ` from external data using EBNM. It does not matter whether or not the external data is a result of scaled $X$ or not because we use exchangable standardized effect model anyways\n",
    "2. In mvSuSiE analysis we have to standardize $X$, then obtain `U_EE` from `U_EZ` as outlined above. The `U_EZ` thus generated will match the scale of the effect size for standardized $X$"
   ]
  }
 ],
 "metadata": {
  "kernelspec": {
   "display_name": "R",
   "language": "R",
   "name": "ir"
  },
  "language_info": {
   "codemirror_mode": "r",
   "file_extension": ".r",
   "mimetype": "text/x-r-source",
   "name": "R",
   "pygments_lexer": "r",
   "version": "3.6.3"
  }
 },
 "nbformat": 4,
 "nbformat_minor": 5
}
