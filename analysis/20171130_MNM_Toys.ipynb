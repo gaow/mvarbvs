{
 "cells": [
  {
   "cell_type": "markdown",
   "metadata": {},
   "source": [
    "# Toy M&M analysis on Thyroid and Lung\n",
    "This analysis uses some early prototypes of M&M. \n",
    "\n",
    "Current implementation of M&M in [`libgaow`](https://github.com/gaow/libgaow/tree/master/py/src) is coded in Python and, inspired [by this version of algorithm in the univarate case](https://github.com/gaow/libgaow/tree/master/py/src), encapsulates lots of computation in MASH. Also it has not implemented ELBO calculation yet.\n",
    "\n",
    "For convenience of prototyping, I use Python implementation of MASH core computations (also in `libgaow`). Also I'll do an interactive analysis rather than running pipelines."
   ]
  },
  {
   "cell_type": "markdown",
   "metadata": {},
   "source": [
    "## Overview of procedures\n",
    "\n",
    "We start with $N \\approx 800$ samples and $R = 2$ conditions (thyroid and lung), on about $J = 7500$ effects for given gene FMO2.\n",
    "\n",
    "1. Run `MASH` on $\\hat{\\beta}_{P \\times R}$ and $S_{P \\times R}$ where $P$ is the number of genes in GTEx data for these tissues: this is the standard MASH procedure where we learn the prior matrices from top eQTLs in data and their weights from null eQTLs. \n",
    "  - Output is prior matrices and their weights, i.e, the hyperparameters\n",
    "2. Given these hyperparameters, run M&M in parallel on all genes (in this case the given gene FMO2)\n",
    "  - Output is $\\tilde{\\beta}_{P \\times R}$ and $\\tilde{S}_{P \\times R}$\n",
    "3. With these updates, run step 1 - 3, and repeat this until convergence."
   ]
  },
  {
   "cell_type": "markdown",
   "metadata": {},
   "source": [
    "## MASH on Thyroid and Lung"
   ]
  },
  {
   "cell_type": "code",
   "execution_count": 2,
   "metadata": {
    "kernel": "R"
   },
   "outputs": [],
   "source": [
    "input_data = \"~/Documents/GTExV8/MASH/GTExV8.ciseQTL.4MASH.rds\"\n",
    "setwd('~/Documents/GTExV8/MNM')"
   ]
  },
  {
   "cell_type": "markdown",
   "metadata": {},
   "source": [
    "### SFA"
   ]
  },
  {
   "cell_type": "code",
   "execution_count": 2,
   "metadata": {
    "kernel": "R"
   },
   "outputs": [],
   "source": [
    "z = readRDS(input_data)$max$z\n",
    "z = z[,c('Thyroid', 'Lung')]\n",
    "write.table(z, \"/tmp/mnm.max.txt\", col.names=F,row.names=F)\n",
    "cmd = paste0('~/Documents/GTExV8/utils/sfa/bin/sfa_linux -gen /tmp/mnm.max.txt -g ', dim(z)[1], ' -n ', dim(z)[2], \n",
    "                 ' -k 2 -iter 50 -rand 999 -o /tmp/mnm.max')\n",
    "system(cmd)\n",
    "saveRDS(list(F = read.table(\"/tmp/mnm.max_F.out\"),\n",
    "             lambda = read.table(\"/tmp/mnm.max_lambda.out\"),\n",
    "             sigma2 = read.table(\"/tmp/mnm.max_sigma2.out\"),\n",
    "             alpha = read.table(\"/tmp/mnm.max_alpha.out\")), 'TL_MASH.sfa.rds')"
   ]
  },
  {
   "cell_type": "markdown",
   "metadata": {},
   "source": [
    "### Prior covariates"
   ]
  },
  {
   "cell_type": "code",
   "execution_count": 3,
   "metadata": {
    "kernel": "R"
   },
   "outputs": [],
   "source": [
    "sfa_data = readRDS(\"TL_MASH.sfa.rds\")\n",
    "mash_data = mashr::set_mash_data(z, matrix(1, nrow(z), ncol(z)))\n",
    "sfa_res = as.matrix(sfa_data$lambda) %*% as.matrix(sfa_data$F)\n",
    "# SFA matrices\n",
    "U.sfa = c(mashr::cov_from_factors(as.matrix(sfa_data$F), \"sfa2\"), list(\"tSFA\" = t(sfa_res) %*% sfa_res / nrow(z)))\n",
    "# SVD matrices\n",
    "U.pca = mashr::cov_pca(mash_data, 2)\n",
    "# Emperical data matrices\n",
    "# `cov_ed` will take significantly longer when this empirical convariance matrix is added\n",
    "D.center = apply(as.matrix(z), 2, function(x) x - mean(x))\n",
    "# Denoised data-driven matrices\n",
    "U.dd = c(U.sfa, U.pca, list(\"XX\" = t(D.center) %*% D.center / nrow(z)))\n",
    "U.ed = mashr::cov_ed(mash_data, U.dd)\n",
    "# Canonical matrices\n",
    "U.can = mashr::cov_canonical(mash_data)\n",
    "saveRDS(list(Ulist = c(U.ed, U.can), DD_raw = U.dd), 'TL_MASH.priors.rds')"
   ]
  },
  {
   "cell_type": "markdown",
   "metadata": {},
   "source": [
    "### Fit mixture model"
   ]
  },
  {
   "cell_type": "code",
   "execution_count": 4,
   "metadata": {
    "kernel": "R"
   },
   "outputs": [
    {
     "name": "stdout",
     "output_type": "stream",
     "text": [
      " - Computing 140688 x 266 likelihood matrix.\n",
      " - Likelihood calculations took 3.97 seconds.\n",
      " - Fitting model with 266 mixture components.\n",
      " - Model fitting took 98.52 seconds.\n"
     ]
    }
   ],
   "source": [
    "dat = readRDS(input_data)\n",
    "z = as.matrix(dat$null$z)[,c('Thyroid', 'Lung')]\n",
    "V = cor(z[which(apply(abs(z),1, max) < 2),])\n",
    "mash_data = mashr::set_mash_data(as.matrix(z), matrix(1, nrow(z), ncol(z)), as.matrix(V))\n",
    "saveRDS(mashr::mash(mash_data, Ulist = readRDS('TL_MASH.priors.rds')$Ulist, usepointmass = FALSE, outputlevel = 1), 'TL_MASH.fit.rds')"
   ]
  },
  {
   "cell_type": "code",
   "execution_count": 3,
   "metadata": {
    "kernel": "R"
   },
   "outputs": [
    {
     "name": "stdout",
     "output_type": "stream",
     "text": [
      "List of 6\n",
      " $ result     : NULL\n",
      " $ loglik     : num -529366\n",
      " $ vloglik    : num [1:140688, 1] -2.74 -5.14 -4.4 -3.01 -5.05 ...\n",
      " $ null_loglik: NULL\n",
      " $ alt_loglik : NULL\n",
      " $ fitted_g   :List of 4\n",
      "  ..$ pi          : num [1:266] 3.43e-02 2.38e-11 1.15e-11 1.47e-11 8.48e-12 ...\n",
      "  ..$ Ulist       :List of 14\n",
      "  .. ..$ ED_sfa2_1    : num [1:2, 1:2] 0.763 0.874 0.874 1\n",
      "  .. ..$ ED_sfa2_2    : num [1:2, 1:2] 1 0.645 0.645 0.416\n",
      "  .. ..$ ED_tSFA      : num [1:2, 1:2] 1 0.847 0.847 0.761\n",
      "  .. ..$ ED_PCA_1     : num [1:2, 1:2] 1 0.789 0.789 0.623\n",
      "  .. ..$ ED_PCA_2     : num [1:2, 1:2] 0.623 -0.789 -0.789 1\n",
      "  .. ..$ ED_tPCA      : num [1:2, 1:2] 1 0.435 0.435 0.511\n",
      "  .. ..$ ED_XX        : num [1:2, 1:2] 1 0.646 0.646 0.546\n",
      "  .. ..$ identity     : num [1:2, 1:2] 1 0 0 1\n",
      "  .. ..$ Thyroid      : num [1:2, 1:2] 1 0 0 0\n",
      "  .. ..$ Lung         : num [1:2, 1:2] 0 0 0 1\n",
      "  .. ..$ equal_effects: num [1:2, 1:2] 1 1 1 1\n",
      "  .. ..$ simple_het_1 : num [1:2, 1:2] 1 0.25 0.25 1\n",
      "  .. ..$ simple_het_2 : num [1:2, 1:2] 1 0.5 0.5 1\n",
      "  .. ..$ simple_het_3 : num [1:2, 1:2] 1 0.75 0.75 1\n",
      "  ..$ grid        : num [1:19] 0.0914 0.1292 0.1828 0.2585 0.3655 ...\n",
      "  ..$ usepointmass: logi FALSE\n",
      " - attr(*, \"class\")= chr \"mash\"\n"
     ]
    }
   ],
   "source": [
    "dat = readRDS('TL_MASH.fit.rds')\n",
    "str(dat)"
   ]
  },
  {
   "cell_type": "code",
   "execution_count": 4,
   "metadata": {
    "kernel": "R"
   },
   "outputs": [
    {
     "name": "stdout",
     "output_type": "stream",
     "text": [
      "[1] 266\n",
      "[1] 3\n"
     ]
    }
   ],
   "source": [
    "Ulist = mashr::expand_cov(dat$fitted_g$Ulist, dat$fitted_g$grid, usepointmass = dat$fitted_g$usepointmass)\n",
    "U_names = names(Ulist)\n",
    "pi_s = dat$fitted_g$pi\n",
    "which.comp = (pi_s > 1E-10)\n",
    "U_names = U_names[which.comp]\n",
    "pi_s = pi_s[which.comp]\n",
    "print(length(Ulist))\n",
    "print(length(pi_s))"
   ]
  },
  {
   "cell_type": "code",
   "execution_count": 5,
   "metadata": {
    "kernel": "Python3"
   },
   "outputs": [
    {
     "name": "stderr",
     "output_type": "stream",
     "text": [
      "Loading required package: feather\n"
     ]
    }
   ],
   "source": [
    "%get Ulist U_names pi_s --from R"
   ]
  },
  {
   "cell_type": "code",
   "execution_count": 6,
   "metadata": {
    "kernel": "Python3"
   },
   "outputs": [],
   "source": [
    "from collections import OrderedDict\n",
    "U = OrderedDict([(k, Ulist[k.replace('.', '_')]) for k in U_names])"
   ]
  },
  {
   "cell_type": "code",
   "execution_count": 7,
   "metadata": {
    "kernel": "Python3"
   },
   "outputs": [
    {
     "data": {
      "text/plain": [
       "[0.034297587641094, 0.965702411817388, 3.21374405172067e-10]"
      ]
     },
     "execution_count": 7,
     "metadata": {},
     "output_type": "execute_result"
    }
   ],
   "source": [
    "pi_s"
   ]
  },
  {
   "cell_type": "code",
   "execution_count": 8,
   "metadata": {
    "kernel": "Python3"
   },
   "outputs": [
    {
     "data": {
      "text/plain": [
       "OrderedDict([('ED_sfa2_1.1', array([[ 0.00637227,  0.00729445],\n",
       "                     [ 0.00729445,  0.00835008]])),\n",
       "             ('Thyroid.1', array([[ 0.00835008,  0.        ],\n",
       "                     [ 0.        ,  0.        ]])),\n",
       "             ('Lung.1', array([[ 0.        ,  0.        ],\n",
       "                     [ 0.        ,  0.00835008]]))])"
      ]
     },
     "execution_count": 8,
     "metadata": {},
     "output_type": "execute_result"
    }
   ],
   "source": [
    "U"
   ]
  },
  {
   "cell_type": "markdown",
   "metadata": {},
   "source": [
    "## M&M model"
   ]
  },
  {
   "cell_type": "code",
   "execution_count": 9,
   "metadata": {
    "kernel": "R"
   },
   "outputs": [],
   "source": [
    "dat = readRDS('/home/gaow/Documents/GTExV8/Thyroid.Lung.FMO2.filled.rds')\n",
    "attach(dat)"
   ]
  },
  {
   "cell_type": "code",
   "execution_count": 10,
   "metadata": {
    "kernel": "Python3"
   },
   "outputs": [],
   "source": [
    "%get X Y --from R\n",
    "Y = Y.as_matrix()"
   ]
  },
  {
   "cell_type": "code",
   "execution_count": 11,
   "metadata": {
    "kernel": "Python3"
   },
   "outputs": [],
   "source": [
    "from libgaow.regression_data import MNMASH\n",
    "model = MNMASH(X=X,Y=Y)"
   ]
  },
  {
   "cell_type": "code",
   "execution_count": 12,
   "metadata": {
    "kernel": "Python3"
   },
   "outputs": [],
   "source": [
    "model.set_prior(U, pi = pi_s)"
   ]
  },
  {
   "cell_type": "code",
   "execution_count": null,
   "metadata": {
    "kernel": "Python3"
   },
   "outputs": [],
   "source": [
    "model.fit(niter = 100)\n",
    "np.save('mnm_post_mean.npy', model.post_mean_mat)"
   ]
  },
  {
   "cell_type": "code",
   "execution_count": null,
   "metadata": {},
   "outputs": [],
   "source": []
  }
 ],
 "metadata": {
  "kernelspec": {
   "display_name": "SoS",
   "language": "sos",
   "name": "sos"
  },
  "language_info": {
   "codemirror_mode": "sos",
   "file_extension": ".sos",
   "mimetype": "text/x-sos",
   "name": "sos",
   "nbconvert_exporter": "sos_notebook.converter.SoS_Exporter",
   "pygments_lexer": "sos"
  },
  "sos": {
   "default_kernel": "SoS",
   "kernels": [
    [
     "Python3",
     "python3",
     "Python3",
     "#FFE771"
    ],
    [
     "R",
     "ir",
     "R",
     "#DCDCDA"
    ],
    [
     "SoS",
     "sos",
     "",
     ""
    ]
   ],
   "panel": {
    "displayed": true,
    "height": 0,
    "style": "side"
   }
  }
 },
 "nbformat": 4,
 "nbformat_minor": 2
}
