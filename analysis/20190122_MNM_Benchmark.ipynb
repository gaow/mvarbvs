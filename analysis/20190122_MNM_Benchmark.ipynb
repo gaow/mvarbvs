{
 "cells": [
  {
   "cell_type": "markdown",
   "metadata": {
    "kernel": "SoS"
   },
   "source": [
    "# M&M ASH benchmark Part II\n",
    "\n",
    "This is a continuation of Part I where I use only $R=2$ conditions, 1 causal SNP of PVE = 0.05, with simple singleton, identity and fully shared patterns. The goal is to ensure all computations are correct."
   ]
  },
  {
   "cell_type": "markdown",
   "metadata": {
    "kernel": "SoS"
   },
   "source": [
    "## Conclusion\n",
    "\n",
    "Results below seems to make sense, but still:\n",
    "\n",
    "1. The power gain of `shared` compared to `identity` is minimal\n",
    "2. `top_hit_rate` is lower for `shared` compared to `identity` which is a bit puzzling"
   ]
  },
  {
   "cell_type": "markdown",
   "metadata": {
    "kernel": "SoS"
   },
   "source": [
    "```\n",
    "./finemap.dsc --target sanity_check -o sanity_check\n",
    "```"
   ]
  },
  {
   "cell_type": "code",
   "execution_count": 43,
   "metadata": {
    "kernel": "SoS"
   },
   "outputs": [
    {
     "name": "stdout",
     "output_type": "stream",
     "text": [
      "/home/gaow/GIT/github/mnm-twas/dsc"
     ]
    }
   ],
   "source": [
    "%cd ~/GIT/github/mnm-twas/dsc"
   ]
  },
  {
   "cell_type": "code",
   "execution_count": 34,
   "metadata": {
    "kernel": "R"
   },
   "outputs": [
    {
     "name": "stdout",
     "output_type": "stream",
     "text": [
      "Loading dsc-query output from CSV file.\n",
      "Reading DSC outputs:\n",
      " - sharing_pattern.n_signal: extracted atomic values\n",
      " - susie_scores.total: extracted atomic values\n",
      " - susie_scores.valid: extracted atomic values\n",
      " - susie_scores.size: extracted atomic values\n",
      " - susie_scores.purity: extracted atomic values\n",
      " - susie_scores.top: extracted atomic values\n"
     ]
    }
   ],
   "source": [
    "library('dscrutils')\n",
    "out = dscquery('sanity_check', \"hundred_data.dataset sharing_pattern.n_signal susie_scores.total susie_scores.valid susie_scores.size susie_scores.purity susie_scores.top\", groups=\"sharing_pattern: singleton, identity, shared\")"
   ]
  },
  {
   "cell_type": "code",
   "execution_count": 35,
   "metadata": {
    "kernel": "R"
   },
   "outputs": [
    {
     "data": {
      "text/html": [
       "<table>\n",
       "<thead><tr><th scope=col>DSC</th><th scope=col>hundred_data.dataset</th><th scope=col>sharing_pattern</th><th scope=col>sharing_pattern.n_signal</th><th scope=col>susie_scores.total</th><th scope=col>susie_scores.valid</th><th scope=col>susie_scores.size</th><th scope=col>susie_scores.purity</th><th scope=col>susie_scores.top</th></tr></thead>\n",
       "<tbody>\n",
       "\t<tr><td>1                                                  </td><td>~/Documents/GTExV8/Thyroid.Lung.FMO2.filled.rds    </td><td>singleton                                          </td><td>1                                                  </td><td>1                                                  </td><td>1                                                  </td><td>15                                                 </td><td>0.931293607944096                                  </td><td>0                                                  </td></tr>\n",
       "\t<tr><td>1                                                  </td><td>~/Documents/GTExV8/Toys/Thyroid.ENSG00000031823.RDS</td><td>singleton                                          </td><td>1                                                  </td><td>1                                                  </td><td>1                                                  </td><td>10                                                 </td><td>0.916386609486197                                  </td><td>1                                                  </td></tr>\n",
       "\t<tr><td>1                                                  </td><td>~/Documents/GTExV8/Toys/Thyroid.ENSG00000062194.RDS</td><td>singleton                                          </td><td>1                                                  </td><td>1                                                  </td><td>1                                                  </td><td>8                                                  </td><td>0.89922481268286                                   </td><td>1                                                  </td></tr>\n",
       "\t<tr><td>1                                                  </td><td>~/Documents/GTExV8/Toys/Thyroid.ENSG00000073150.RDS</td><td>singleton                                          </td><td>1                                                  </td><td>1                                                  </td><td>1                                                  </td><td>17                                                 </td><td>0.965612490834539                                  </td><td>1                                                  </td></tr>\n",
       "\t<tr><td>1                                                  </td><td>~/Documents/GTExV8/Toys/Thyroid.ENSG00000078319.RDS</td><td>singleton                                          </td><td>1                                                  </td><td>1                                                  </td><td>1                                                  </td><td>110                                                </td><td>0.797004256892404                                  </td><td>0                                                  </td></tr>\n",
       "\t<tr><td>1                                                  </td><td>~/Documents/GTExV8/Toys/Thyroid.ENSG00000081277.RDS</td><td>singleton                                          </td><td>1                                                  </td><td>1                                                  </td><td>1                                                  </td><td>13                                                 </td><td>0.810629508314749                                  </td><td>0                                                  </td></tr>\n",
       "</tbody>\n",
       "</table>\n"
      ],
      "text/latex": [
       "\\begin{tabular}{r|lllllllll}\n",
       " DSC & hundred\\_data.dataset & sharing\\_pattern & sharing\\_pattern.n\\_signal & susie\\_scores.total & susie\\_scores.valid & susie\\_scores.size & susie\\_scores.purity & susie\\_scores.top\\\\\n",
       "\\hline\n",
       "\t 1                                                                    & \\textasciitilde{}/Documents/GTExV8/Thyroid.Lung.FMO2.filled.rds     & singleton                                                            & 1                                                                    & 1                                                                    & 1                                                                    & 15                                                                   & 0.931293607944096                                                    & 0                                                                   \\\\\n",
       "\t 1                                                                    & \\textasciitilde{}/Documents/GTExV8/Toys/Thyroid.ENSG00000031823.RDS & singleton                                                            & 1                                                                    & 1                                                                    & 1                                                                    & 10                                                                   & 0.916386609486197                                                    & 1                                                                   \\\\\n",
       "\t 1                                                                    & \\textasciitilde{}/Documents/GTExV8/Toys/Thyroid.ENSG00000062194.RDS & singleton                                                            & 1                                                                    & 1                                                                    & 1                                                                    & 8                                                                    & 0.89922481268286                                                     & 1                                                                   \\\\\n",
       "\t 1                                                                    & \\textasciitilde{}/Documents/GTExV8/Toys/Thyroid.ENSG00000073150.RDS & singleton                                                            & 1                                                                    & 1                                                                    & 1                                                                    & 17                                                                   & 0.965612490834539                                                    & 1                                                                   \\\\\n",
       "\t 1                                                                    & \\textasciitilde{}/Documents/GTExV8/Toys/Thyroid.ENSG00000078319.RDS & singleton                                                            & 1                                                                    & 1                                                                    & 1                                                                    & 110                                                                  & 0.797004256892404                                                    & 0                                                                   \\\\\n",
       "\t 1                                                                    & \\textasciitilde{}/Documents/GTExV8/Toys/Thyroid.ENSG00000081277.RDS & singleton                                                            & 1                                                                    & 1                                                                    & 1                                                                    & 13                                                                   & 0.810629508314749                                                    & 0                                                                   \\\\\n",
       "\\end{tabular}\n"
      ],
      "text/markdown": [
       "\n",
       "DSC | hundred_data.dataset | sharing_pattern | sharing_pattern.n_signal | susie_scores.total | susie_scores.valid | susie_scores.size | susie_scores.purity | susie_scores.top | \n",
       "|---|---|---|---|---|---|\n",
       "| 1                                                   | ~/Documents/GTExV8/Thyroid.Lung.FMO2.filled.rds     | singleton                                           | 1                                                   | 1                                                   | 1                                                   | 15                                                  | 0.931293607944096                                   | 0                                                   | \n",
       "| 1                                                   | ~/Documents/GTExV8/Toys/Thyroid.ENSG00000031823.RDS | singleton                                           | 1                                                   | 1                                                   | 1                                                   | 10                                                  | 0.916386609486197                                   | 1                                                   | \n",
       "| 1                                                   | ~/Documents/GTExV8/Toys/Thyroid.ENSG00000062194.RDS | singleton                                           | 1                                                   | 1                                                   | 1                                                   | 8                                                   | 0.89922481268286                                    | 1                                                   | \n",
       "| 1                                                   | ~/Documents/GTExV8/Toys/Thyroid.ENSG00000073150.RDS | singleton                                           | 1                                                   | 1                                                   | 1                                                   | 17                                                  | 0.965612490834539                                   | 1                                                   | \n",
       "| 1                                                   | ~/Documents/GTExV8/Toys/Thyroid.ENSG00000078319.RDS | singleton                                           | 1                                                   | 1                                                   | 1                                                   | 110                                                 | 0.797004256892404                                   | 0                                                   | \n",
       "| 1                                                   | ~/Documents/GTExV8/Toys/Thyroid.ENSG00000081277.RDS | singleton                                           | 1                                                   | 1                                                   | 1                                                   | 13                                                  | 0.810629508314749                                   | 0                                                   | \n",
       "\n",
       "\n"
      ],
      "text/plain": [
       "  DSC hundred_data.dataset                                sharing_pattern\n",
       "1 1   ~/Documents/GTExV8/Thyroid.Lung.FMO2.filled.rds     singleton      \n",
       "2 1   ~/Documents/GTExV8/Toys/Thyroid.ENSG00000031823.RDS singleton      \n",
       "3 1   ~/Documents/GTExV8/Toys/Thyroid.ENSG00000062194.RDS singleton      \n",
       "4 1   ~/Documents/GTExV8/Toys/Thyroid.ENSG00000073150.RDS singleton      \n",
       "5 1   ~/Documents/GTExV8/Toys/Thyroid.ENSG00000078319.RDS singleton      \n",
       "6 1   ~/Documents/GTExV8/Toys/Thyroid.ENSG00000081277.RDS singleton      \n",
       "  sharing_pattern.n_signal susie_scores.total susie_scores.valid\n",
       "1 1                        1                  1                 \n",
       "2 1                        1                  1                 \n",
       "3 1                        1                  1                 \n",
       "4 1                        1                  1                 \n",
       "5 1                        1                  1                 \n",
       "6 1                        1                  1                 \n",
       "  susie_scores.size susie_scores.purity susie_scores.top\n",
       "1 15                0.931293607944096   0               \n",
       "2 10                0.916386609486197   1               \n",
       "3 8                 0.89922481268286    1               \n",
       "4 17                0.965612490834539   1               \n",
       "5 110               0.797004256892404   0               \n",
       "6 13                0.810629508314749   0               "
      ]
     },
     "metadata": {},
     "output_type": "display_data"
    }
   ],
   "source": [
    "head(out)"
   ]
  },
  {
   "cell_type": "code",
   "execution_count": 36,
   "metadata": {
    "kernel": "R"
   },
   "outputs": [],
   "source": [
    "out[,c(4,5,6,7,8,9)] = as.numeric(as.matrix(out[,c(4,5,6,7,8,9)]))\n",
    "res = out[,c(3,4,5,6,7,8,9)]\n",
    "colnames(res) = c('pattern', 'total_true', 'total', 'valid', 'size', 'purity', 'top_hit')"
   ]
  },
  {
   "cell_type": "markdown",
   "metadata": {
    "kernel": "R"
   },
   "source": [
    "### Purity of CS"
   ]
  },
  {
   "cell_type": "code",
   "execution_count": 38,
   "metadata": {
    "kernel": "R"
   },
   "outputs": [
    {
     "data": {
      "text/html": [
       "<table>\n",
       "<thead><tr><th scope=col>pattern</th><th scope=col>purity</th></tr></thead>\n",
       "<tbody>\n",
       "\t<tr><td>identity </td><td>0.9401603</td></tr>\n",
       "\t<tr><td>shared   </td><td>0.9442816</td></tr>\n",
       "\t<tr><td>singleton</td><td>0.7290132</td></tr>\n",
       "</tbody>\n",
       "</table>\n"
      ],
      "text/latex": [
       "\\begin{tabular}{r|ll}\n",
       " pattern & purity\\\\\n",
       "\\hline\n",
       "\t identity  & 0.9401603\\\\\n",
       "\t shared    & 0.9442816\\\\\n",
       "\t singleton & 0.7290132\\\\\n",
       "\\end{tabular}\n"
      ],
      "text/markdown": [
       "\n",
       "pattern | purity | \n",
       "|---|---|---|\n",
       "| identity  | 0.9401603 | \n",
       "| shared    | 0.9442816 | \n",
       "| singleton | 0.7290132 | \n",
       "\n",
       "\n"
      ],
      "text/plain": [
       "  pattern   purity   \n",
       "1 identity  0.9401603\n",
       "2 shared    0.9442816\n",
       "3 singleton 0.7290132"
      ]
     },
     "metadata": {},
     "output_type": "display_data"
    }
   ],
   "source": [
    "aggregate(purity~pattern, res, mean)"
   ]
  },
  {
   "cell_type": "markdown",
   "metadata": {
    "kernel": "R"
   },
   "source": [
    "### Size of CS"
   ]
  },
  {
   "cell_type": "code",
   "execution_count": 39,
   "metadata": {
    "kernel": "R"
   },
   "outputs": [
    {
     "data": {
      "text/html": [
       "<table>\n",
       "<thead><tr><th scope=col>pattern</th><th scope=col>size</th></tr></thead>\n",
       "<tbody>\n",
       "\t<tr><td>identity </td><td>4        </td></tr>\n",
       "\t<tr><td>shared   </td><td>5        </td></tr>\n",
       "\t<tr><td>singleton</td><td>7        </td></tr>\n",
       "</tbody>\n",
       "</table>\n"
      ],
      "text/latex": [
       "\\begin{tabular}{r|ll}\n",
       " pattern & size\\\\\n",
       "\\hline\n",
       "\t identity  & 4        \\\\\n",
       "\t shared    & 5        \\\\\n",
       "\t singleton & 7        \\\\\n",
       "\\end{tabular}\n"
      ],
      "text/markdown": [
       "\n",
       "pattern | size | \n",
       "|---|---|---|\n",
       "| identity  | 4         | \n",
       "| shared    | 5         | \n",
       "| singleton | 7         | \n",
       "\n",
       "\n"
      ],
      "text/plain": [
       "  pattern   size\n",
       "1 identity  4   \n",
       "2 shared    5   \n",
       "3 singleton 7   "
      ]
     },
     "metadata": {},
     "output_type": "display_data"
    }
   ],
   "source": [
    "aggregate(size~pattern, res, median)"
   ]
  },
  {
   "cell_type": "markdown",
   "metadata": {
    "kernel": "R"
   },
   "source": [
    "### Power"
   ]
  },
  {
   "cell_type": "code",
   "execution_count": 40,
   "metadata": {
    "kernel": "R"
   },
   "outputs": [
    {
     "data": {
      "text/html": [
       "<table>\n",
       "<thead><tr><th scope=col>pattern</th><th scope=col>valid</th><th scope=col>total_true</th><th scope=col>power</th></tr></thead>\n",
       "<tbody>\n",
       "\t<tr><td>identity </td><td>97       </td><td>100      </td><td>0.97     </td></tr>\n",
       "\t<tr><td>shared   </td><td>98       </td><td>100      </td><td>0.98     </td></tr>\n",
       "\t<tr><td>singleton</td><td>77       </td><td>100      </td><td>0.77     </td></tr>\n",
       "</tbody>\n",
       "</table>\n"
      ],
      "text/latex": [
       "\\begin{tabular}{r|llll}\n",
       " pattern & valid & total\\_true & power\\\\\n",
       "\\hline\n",
       "\t identity  & 97        & 100       & 0.97     \\\\\n",
       "\t shared    & 98        & 100       & 0.98     \\\\\n",
       "\t singleton & 77        & 100       & 0.77     \\\\\n",
       "\\end{tabular}\n"
      ],
      "text/markdown": [
       "\n",
       "pattern | valid | total_true | power | \n",
       "|---|---|---|\n",
       "| identity  | 97        | 100       | 0.97      | \n",
       "| shared    | 98        | 100       | 0.98      | \n",
       "| singleton | 77        | 100       | 0.77      | \n",
       "\n",
       "\n"
      ],
      "text/plain": [
       "  pattern   valid total_true power\n",
       "1 identity  97    100        0.97 \n",
       "2 shared    98    100        0.98 \n",
       "3 singleton 77    100        0.77 "
      ]
     },
     "metadata": {},
     "output_type": "display_data"
    }
   ],
   "source": [
    "valid = aggregate(valid ~ pattern, res, sum)\n",
    "total_true = aggregate(total_true ~ pattern, res, sum)\n",
    "power = merge(valid, total_true, by = \"pattern\")\n",
    "power$power = power$valid/power$total_true\n",
    "power"
   ]
  },
  {
   "cell_type": "markdown",
   "metadata": {
    "kernel": "R"
   },
   "source": [
    "### FDR"
   ]
  },
  {
   "cell_type": "code",
   "execution_count": 41,
   "metadata": {
    "kernel": "R"
   },
   "outputs": [
    {
     "data": {
      "text/html": [
       "<table>\n",
       "<thead><tr><th scope=col>pattern</th><th scope=col>valid</th><th scope=col>total</th><th scope=col>fdr</th></tr></thead>\n",
       "<tbody>\n",
       "\t<tr><td>identity  </td><td>97        </td><td> 98       </td><td>0.01020408</td></tr>\n",
       "\t<tr><td>shared    </td><td>98        </td><td>101       </td><td>0.02970297</td></tr>\n",
       "\t<tr><td>singleton </td><td>77        </td><td> 81       </td><td>0.04938272</td></tr>\n",
       "</tbody>\n",
       "</table>\n"
      ],
      "text/latex": [
       "\\begin{tabular}{r|llll}\n",
       " pattern & valid & total & fdr\\\\\n",
       "\\hline\n",
       "\t identity   & 97         &  98        & 0.01020408\\\\\n",
       "\t shared     & 98         & 101        & 0.02970297\\\\\n",
       "\t singleton  & 77         &  81        & 0.04938272\\\\\n",
       "\\end{tabular}\n"
      ],
      "text/markdown": [
       "\n",
       "pattern | valid | total | fdr | \n",
       "|---|---|---|\n",
       "| identity   | 97         |  98        | 0.01020408 | \n",
       "| shared     | 98         | 101        | 0.02970297 | \n",
       "| singleton  | 77         |  81        | 0.04938272 | \n",
       "\n",
       "\n"
      ],
      "text/plain": [
       "  pattern   valid total fdr       \n",
       "1 identity  97     98   0.01020408\n",
       "2 shared    98    101   0.02970297\n",
       "3 singleton 77     81   0.04938272"
      ]
     },
     "metadata": {},
     "output_type": "display_data"
    }
   ],
   "source": [
    "valid = aggregate(valid ~ pattern, res, sum)\n",
    "total = aggregate(total ~ pattern, res, sum)\n",
    "fdr = merge(valid, total, by = \"pattern\")\n",
    "fdr$fdr = (fdr$total - fdr$valid)/fdr$total\n",
    "fdr"
   ]
  },
  {
   "cell_type": "markdown",
   "metadata": {
    "kernel": "R"
   },
   "source": [
    "### Top-hit rate (how often the strongest SNP is causal)"
   ]
  },
  {
   "cell_type": "code",
   "execution_count": 42,
   "metadata": {
    "kernel": "R"
   },
   "outputs": [
    {
     "data": {
      "text/html": [
       "<table>\n",
       "<thead><tr><th scope=col>pattern</th><th scope=col>top_hit</th><th scope=col>total_true</th><th scope=col>top_rate</th></tr></thead>\n",
       "<tbody>\n",
       "\t<tr><td>identity </td><td>63       </td><td>100      </td><td>0.63     </td></tr>\n",
       "\t<tr><td>shared   </td><td>55       </td><td>100      </td><td>0.55     </td></tr>\n",
       "\t<tr><td>singleton</td><td>30       </td><td>100      </td><td>0.30     </td></tr>\n",
       "</tbody>\n",
       "</table>\n"
      ],
      "text/latex": [
       "\\begin{tabular}{r|llll}\n",
       " pattern & top\\_hit & total\\_true & top\\_rate\\\\\n",
       "\\hline\n",
       "\t identity  & 63        & 100       & 0.63     \\\\\n",
       "\t shared    & 55        & 100       & 0.55     \\\\\n",
       "\t singleton & 30        & 100       & 0.30     \\\\\n",
       "\\end{tabular}\n"
      ],
      "text/markdown": [
       "\n",
       "pattern | top_hit | total_true | top_rate | \n",
       "|---|---|---|\n",
       "| identity  | 63        | 100       | 0.63      | \n",
       "| shared    | 55        | 100       | 0.55      | \n",
       "| singleton | 30        | 100       | 0.30      | \n",
       "\n",
       "\n"
      ],
      "text/plain": [
       "  pattern   top_hit total_true top_rate\n",
       "1 identity  63      100        0.63    \n",
       "2 shared    55      100        0.55    \n",
       "3 singleton 30      100        0.30    "
      ]
     },
     "metadata": {},
     "output_type": "display_data"
    }
   ],
   "source": [
    "top_hit = aggregate(top_hit ~ pattern, res, sum)\n",
    "total_true = aggregate(total_true ~ pattern, res, sum)\n",
    "top_rate = merge(top_hit, total_true, by = \"pattern\")\n",
    "top_rate$top_rate = top_rate$top_hit/top_rate$total_true\n",
    "top_rate"
   ]
  }
 ],
 "metadata": {
  "kernelspec": {
   "display_name": "SoS",
   "language": "sos",
   "name": "sos"
  },
  "language_info": {
   "codemirror_mode": "sos",
   "file_extension": ".sos",
   "mimetype": "text/x-sos",
   "name": "sos",
   "nbconvert_exporter": "sos_notebook.converter.SoS_Exporter",
   "pygments_lexer": "sos"
  },
  "sos": {
   "kernels": [
    [
     "R",
     "ir",
     "R",
     "#DCDCDA"
    ]
   ],
   "version": "0.18.3"
  }
 },
 "nbformat": 4,
 "nbformat_minor": 2
}
