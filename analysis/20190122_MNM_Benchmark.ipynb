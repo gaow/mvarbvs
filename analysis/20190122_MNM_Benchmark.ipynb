{
 "cells": [
  {
   "cell_type": "markdown",
   "metadata": {
    "kernel": "SoS"
   },
   "source": [
    "# M&M ASH benchmark Part II\n",
    "\n",
    "This is a continuation of Part I where I use only $R=2$ conditions, 1 causal SNP, one effect size, with simple singleton, identity and fully shared patterns to ensure all computations are correct."
   ]
  },
  {
   "cell_type": "markdown",
   "metadata": {
    "kernel": "SoS"
   },
   "source": [
    "```\n",
    "./finemap.dsc --target sanity_check -o sanity_check\n",
    "```"
   ]
  },
  {
   "cell_type": "code",
   "execution_count": 1,
   "metadata": {
    "kernel": "SoS"
   },
   "outputs": [
    {
     "name": "stdout",
     "output_type": "stream",
     "text": [
      "/home/gaow/Documents/GIT/github/mnm-twas/dsc"
     ]
    }
   ],
   "source": [
    "%cd ~/GIT/github/mnm-twas/dsc"
   ]
  },
  {
   "cell_type": "code",
   "execution_count": 2,
   "metadata": {
    "kernel": "R"
   },
   "outputs": [
    {
     "name": "stdout",
     "output_type": "stream",
     "text": [
      "Loading dsc-query output from CSV file.\n",
      "Reading DSC outputs:\n",
      " - sharing_pattern.n_signal: extracted atomic values\n",
      " - susie_scores.total: extracted atomic values\n",
      " - susie_scores.valid: extracted atomic values\n",
      " - susie_scores.size: extracted atomic values\n",
      " - susie_scores.purity: extracted atomic values\n",
      " - susie_scores.top: extracted atomic values\n"
     ]
    }
   ],
   "source": [
    "library('dscrutils')\n",
    "out = dscquery('sanity_check', \"hundred_data.dataset sharing_pattern.n_signal susie_scores.total susie_scores.valid susie_scores.size susie_scores.purity susie_scores.top\", groups=\"sharing_pattern: singleton, identity, shared\")"
   ]
  },
  {
   "cell_type": "code",
   "execution_count": 3,
   "metadata": {
    "kernel": "R"
   },
   "outputs": [
    {
     "data": {
      "text/html": [
       "<table>\n",
       "<thead><tr><th scope=col>DSC</th><th scope=col>hundred_data.dataset</th><th scope=col>sharing_pattern</th><th scope=col>sharing_pattern.n_signal</th><th scope=col>susie_scores.total</th><th scope=col>susie_scores.valid</th><th scope=col>susie_scores.size</th><th scope=col>susie_scores.purity</th><th scope=col>susie_scores.top</th></tr></thead>\n",
       "<tbody>\n",
       "\t<tr><td>1                                                  </td><td>~/Documents/GTExV8/Thyroid.Lung.FMO2.filled.rds    </td><td>singleton                                          </td><td>3                                                  </td><td>1                                                  </td><td>1                                                  </td><td>27                                                 </td><td>0.7995944                                          </td><td>0                                                  </td></tr>\n",
       "\t<tr><td>1                                                  </td><td>~/Documents/GTExV8/Toys/Thyroid.ENSG00000031823.RDS</td><td>singleton                                          </td><td>1                                                  </td><td>1                                                  </td><td>0                                                  </td><td>15                                                 </td><td>0.9359113                                          </td><td>0                                                  </td></tr>\n",
       "\t<tr><td>1                                                  </td><td>~/Documents/GTExV8/Toys/Thyroid.ENSG00000062194.RDS</td><td>singleton                                          </td><td>2                                                  </td><td>1                                                  </td><td>1                                                  </td><td> 1                                                 </td><td>1.0000000                                          </td><td>1                                                  </td></tr>\n",
       "\t<tr><td>1                                                  </td><td>~/Documents/GTExV8/Toys/Thyroid.ENSG00000073150.RDS</td><td>singleton                                          </td><td>2                                                  </td><td>0                                                  </td><td>0                                                  </td><td> 0                                                 </td><td>0.0000000                                          </td><td>0                                                  </td></tr>\n",
       "\t<tr><td>1                                                  </td><td>~/Documents/GTExV8/Toys/Thyroid.ENSG00000078319.RDS</td><td>singleton                                          </td><td>1                                                  </td><td>1                                                  </td><td>1                                                  </td><td>64                                                 </td><td>0.8652881                                          </td><td>0                                                  </td></tr>\n",
       "\t<tr><td>1                                                  </td><td>~/Documents/GTExV8/Toys/Thyroid.ENSG00000081277.RDS</td><td>singleton                                          </td><td>1                                                  </td><td>1                                                  </td><td>1                                                  </td><td>24                                                 </td><td>0.7113872                                          </td><td>1                                                  </td></tr>\n",
       "</tbody>\n",
       "</table>\n"
      ],
      "text/latex": [
       "\\begin{tabular}{r|lllllllll}\n",
       " DSC & hundred\\_data.dataset & sharing\\_pattern & sharing\\_pattern.n\\_signal & susie\\_scores.total & susie\\_scores.valid & susie\\_scores.size & susie\\_scores.purity & susie\\_scores.top\\\\\n",
       "\\hline\n",
       "\t 1                                                                    & \\textasciitilde{}/Documents/GTExV8/Thyroid.Lung.FMO2.filled.rds     & singleton                                                            & 3                                                                    & 1                                                                    & 1                                                                    & 27                                                                   & 0.7995944                                                            & 0                                                                   \\\\\n",
       "\t 1                                                                    & \\textasciitilde{}/Documents/GTExV8/Toys/Thyroid.ENSG00000031823.RDS & singleton                                                            & 1                                                                    & 1                                                                    & 0                                                                    & 15                                                                   & 0.9359113                                                            & 0                                                                   \\\\\n",
       "\t 1                                                                    & \\textasciitilde{}/Documents/GTExV8/Toys/Thyroid.ENSG00000062194.RDS & singleton                                                            & 2                                                                    & 1                                                                    & 1                                                                    &  1                                                                   & 1.0000000                                                            & 1                                                                   \\\\\n",
       "\t 1                                                                    & \\textasciitilde{}/Documents/GTExV8/Toys/Thyroid.ENSG00000073150.RDS & singleton                                                            & 2                                                                    & 0                                                                    & 0                                                                    &  0                                                                   & 0.0000000                                                            & 0                                                                   \\\\\n",
       "\t 1                                                                    & \\textasciitilde{}/Documents/GTExV8/Toys/Thyroid.ENSG00000078319.RDS & singleton                                                            & 1                                                                    & 1                                                                    & 1                                                                    & 64                                                                   & 0.8652881                                                            & 0                                                                   \\\\\n",
       "\t 1                                                                    & \\textasciitilde{}/Documents/GTExV8/Toys/Thyroid.ENSG00000081277.RDS & singleton                                                            & 1                                                                    & 1                                                                    & 1                                                                    & 24                                                                   & 0.7113872                                                            & 1                                                                   \\\\\n",
       "\\end{tabular}\n"
      ],
      "text/markdown": [
       "\n",
       "DSC | hundred_data.dataset | sharing_pattern | sharing_pattern.n_signal | susie_scores.total | susie_scores.valid | susie_scores.size | susie_scores.purity | susie_scores.top | \n",
       "|---|---|---|---|---|---|\n",
       "| 1                                                   | ~/Documents/GTExV8/Thyroid.Lung.FMO2.filled.rds     | singleton                                           | 3                                                   | 1                                                   | 1                                                   | 27                                                  | 0.7995944                                           | 0                                                   | \n",
       "| 1                                                   | ~/Documents/GTExV8/Toys/Thyroid.ENSG00000031823.RDS | singleton                                           | 1                                                   | 1                                                   | 0                                                   | 15                                                  | 0.9359113                                           | 0                                                   | \n",
       "| 1                                                   | ~/Documents/GTExV8/Toys/Thyroid.ENSG00000062194.RDS | singleton                                           | 2                                                   | 1                                                   | 1                                                   |  1                                                  | 1.0000000                                           | 1                                                   | \n",
       "| 1                                                   | ~/Documents/GTExV8/Toys/Thyroid.ENSG00000073150.RDS | singleton                                           | 2                                                   | 0                                                   | 0                                                   |  0                                                  | 0.0000000                                           | 0                                                   | \n",
       "| 1                                                   | ~/Documents/GTExV8/Toys/Thyroid.ENSG00000078319.RDS | singleton                                           | 1                                                   | 1                                                   | 1                                                   | 64                                                  | 0.8652881                                           | 0                                                   | \n",
       "| 1                                                   | ~/Documents/GTExV8/Toys/Thyroid.ENSG00000081277.RDS | singleton                                           | 1                                                   | 1                                                   | 1                                                   | 24                                                  | 0.7113872                                           | 1                                                   | \n",
       "\n",
       "\n"
      ],
      "text/plain": [
       "  DSC hundred_data.dataset                                sharing_pattern\n",
       "1 1   ~/Documents/GTExV8/Thyroid.Lung.FMO2.filled.rds     singleton      \n",
       "2 1   ~/Documents/GTExV8/Toys/Thyroid.ENSG00000031823.RDS singleton      \n",
       "3 1   ~/Documents/GTExV8/Toys/Thyroid.ENSG00000062194.RDS singleton      \n",
       "4 1   ~/Documents/GTExV8/Toys/Thyroid.ENSG00000073150.RDS singleton      \n",
       "5 1   ~/Documents/GTExV8/Toys/Thyroid.ENSG00000078319.RDS singleton      \n",
       "6 1   ~/Documents/GTExV8/Toys/Thyroid.ENSG00000081277.RDS singleton      \n",
       "  sharing_pattern.n_signal susie_scores.total susie_scores.valid\n",
       "1 3                        1                  1                 \n",
       "2 1                        1                  0                 \n",
       "3 2                        1                  1                 \n",
       "4 2                        0                  0                 \n",
       "5 1                        1                  1                 \n",
       "6 1                        1                  1                 \n",
       "  susie_scores.size susie_scores.purity susie_scores.top\n",
       "1 27                0.7995944           0               \n",
       "2 15                0.9359113           0               \n",
       "3  1                1.0000000           1               \n",
       "4  0                0.0000000           0               \n",
       "5 64                0.8652881           0               \n",
       "6 24                0.7113872           1               "
      ]
     },
     "metadata": {},
     "output_type": "display_data"
    }
   ],
   "source": [
    "head(out)"
   ]
  },
  {
   "cell_type": "code",
   "execution_count": 4,
   "metadata": {
    "kernel": "R"
   },
   "outputs": [],
   "source": [
    "res = out[,c(3,4,5,6,7,8,9)]\n",
    "colnames(res) = c('pattern', 'total_true', 'total', 'valid', 'size', 'purity', 'top_hit')"
   ]
  },
  {
   "cell_type": "markdown",
   "metadata": {
    "kernel": "R"
   },
   "source": [
    "### Purity of CS"
   ]
  },
  {
   "cell_type": "code",
   "execution_count": 5,
   "metadata": {
    "kernel": "R"
   },
   "outputs": [
    {
     "data": {
      "text/html": [
       "<table>\n",
       "<thead><tr><th scope=col>pattern</th><th scope=col>purity</th></tr></thead>\n",
       "<tbody>\n",
       "\t<tr><td>identity </td><td>0.9262147</td></tr>\n",
       "\t<tr><td>shared   </td><td>0.9369584</td></tr>\n",
       "\t<tr><td>singleton</td><td>0.7696917</td></tr>\n",
       "</tbody>\n",
       "</table>\n"
      ],
      "text/latex": [
       "\\begin{tabular}{r|ll}\n",
       " pattern & purity\\\\\n",
       "\\hline\n",
       "\t identity  & 0.9262147\\\\\n",
       "\t shared    & 0.9369584\\\\\n",
       "\t singleton & 0.7696917\\\\\n",
       "\\end{tabular}\n"
      ],
      "text/markdown": [
       "\n",
       "pattern | purity | \n",
       "|---|---|---|\n",
       "| identity  | 0.9262147 | \n",
       "| shared    | 0.9369584 | \n",
       "| singleton | 0.7696917 | \n",
       "\n",
       "\n"
      ],
      "text/plain": [
       "  pattern   purity   \n",
       "1 identity  0.9262147\n",
       "2 shared    0.9369584\n",
       "3 singleton 0.7696917"
      ]
     },
     "metadata": {},
     "output_type": "display_data"
    }
   ],
   "source": [
    "aggregate(purity~pattern, res, mean)"
   ]
  },
  {
   "cell_type": "markdown",
   "metadata": {
    "kernel": "R"
   },
   "source": [
    "### Size of CS"
   ]
  },
  {
   "cell_type": "code",
   "execution_count": 6,
   "metadata": {
    "kernel": "R"
   },
   "outputs": [
    {
     "data": {
      "text/html": [
       "<table>\n",
       "<thead><tr><th scope=col>pattern</th><th scope=col>size</th></tr></thead>\n",
       "<tbody>\n",
       "\t<tr><td>identity </td><td>8.0      </td></tr>\n",
       "\t<tr><td>shared   </td><td>4.0      </td></tr>\n",
       "\t<tr><td>singleton</td><td>8.5      </td></tr>\n",
       "</tbody>\n",
       "</table>\n"
      ],
      "text/latex": [
       "\\begin{tabular}{r|ll}\n",
       " pattern & size\\\\\n",
       "\\hline\n",
       "\t identity  & 8.0      \\\\\n",
       "\t shared    & 4.0      \\\\\n",
       "\t singleton & 8.5      \\\\\n",
       "\\end{tabular}\n"
      ],
      "text/markdown": [
       "\n",
       "pattern | size | \n",
       "|---|---|---|\n",
       "| identity  | 8.0       | \n",
       "| shared    | 4.0       | \n",
       "| singleton | 8.5       | \n",
       "\n",
       "\n"
      ],
      "text/plain": [
       "  pattern   size\n",
       "1 identity  8.0 \n",
       "2 shared    4.0 \n",
       "3 singleton 8.5 "
      ]
     },
     "metadata": {},
     "output_type": "display_data"
    }
   ],
   "source": [
    "aggregate(size~pattern, res, median)"
   ]
  },
  {
   "cell_type": "markdown",
   "metadata": {
    "kernel": "R"
   },
   "source": [
    "### Power"
   ]
  },
  {
   "cell_type": "code",
   "execution_count": 7,
   "metadata": {
    "kernel": "R"
   },
   "outputs": [
    {
     "data": {
      "text/html": [
       "<table>\n",
       "<thead><tr><th scope=col>pattern</th><th scope=col>valid</th><th scope=col>total_true</th><th scope=col>power</th></tr></thead>\n",
       "<tbody>\n",
       "\t<tr><td>identity </td><td>119      </td><td>175      </td><td>0.6800000</td></tr>\n",
       "\t<tr><td>shared   </td><td> 99      </td><td>165      </td><td>0.6000000</td></tr>\n",
       "\t<tr><td>singleton</td><td>105      </td><td>185      </td><td>0.5675676</td></tr>\n",
       "</tbody>\n",
       "</table>\n"
      ],
      "text/latex": [
       "\\begin{tabular}{r|llll}\n",
       " pattern & valid & total\\_true & power\\\\\n",
       "\\hline\n",
       "\t identity  & 119       & 175       & 0.6800000\\\\\n",
       "\t shared    &  99       & 165       & 0.6000000\\\\\n",
       "\t singleton & 105       & 185       & 0.5675676\\\\\n",
       "\\end{tabular}\n"
      ],
      "text/markdown": [
       "\n",
       "pattern | valid | total_true | power | \n",
       "|---|---|---|\n",
       "| identity  | 119       | 175       | 0.6800000 | \n",
       "| shared    |  99       | 165       | 0.6000000 | \n",
       "| singleton | 105       | 185       | 0.5675676 | \n",
       "\n",
       "\n"
      ],
      "text/plain": [
       "  pattern   valid total_true power    \n",
       "1 identity  119   175        0.6800000\n",
       "2 shared     99   165        0.6000000\n",
       "3 singleton 105   185        0.5675676"
      ]
     },
     "metadata": {},
     "output_type": "display_data"
    }
   ],
   "source": [
    "valid = aggregate(valid ~ pattern, res, sum)\n",
    "total_true = aggregate(total_true ~ pattern, res, sum)\n",
    "power = merge(valid, total_true, by = \"pattern\")\n",
    "power$power = power$valid/power$total_true\n",
    "power"
   ]
  },
  {
   "cell_type": "markdown",
   "metadata": {
    "kernel": "R"
   },
   "source": [
    "### FDR"
   ]
  },
  {
   "cell_type": "code",
   "execution_count": 8,
   "metadata": {
    "kernel": "R"
   },
   "outputs": [
    {
     "data": {
      "text/html": [
       "<table>\n",
       "<thead><tr><th scope=col>pattern</th><th scope=col>valid</th><th scope=col>total</th><th scope=col>fdr</th></tr></thead>\n",
       "<tbody>\n",
       "\t<tr><td>identity  </td><td>119       </td><td>125       </td><td>0.04800000</td></tr>\n",
       "\t<tr><td>shared    </td><td> 99       </td><td>106       </td><td>0.06603774</td></tr>\n",
       "\t<tr><td>singleton </td><td>105       </td><td>111       </td><td>0.05405405</td></tr>\n",
       "</tbody>\n",
       "</table>\n"
      ],
      "text/latex": [
       "\\begin{tabular}{r|llll}\n",
       " pattern & valid & total & fdr\\\\\n",
       "\\hline\n",
       "\t identity   & 119        & 125        & 0.04800000\\\\\n",
       "\t shared     &  99        & 106        & 0.06603774\\\\\n",
       "\t singleton  & 105        & 111        & 0.05405405\\\\\n",
       "\\end{tabular}\n"
      ],
      "text/markdown": [
       "\n",
       "pattern | valid | total | fdr | \n",
       "|---|---|---|\n",
       "| identity   | 119        | 125        | 0.04800000 | \n",
       "| shared     |  99        | 106        | 0.06603774 | \n",
       "| singleton  | 105        | 111        | 0.05405405 | \n",
       "\n",
       "\n"
      ],
      "text/plain": [
       "  pattern   valid total fdr       \n",
       "1 identity  119   125   0.04800000\n",
       "2 shared     99   106   0.06603774\n",
       "3 singleton 105   111   0.05405405"
      ]
     },
     "metadata": {},
     "output_type": "display_data"
    }
   ],
   "source": [
    "valid = aggregate(valid ~ pattern, res, sum)\n",
    "total = aggregate(total ~ pattern, res, sum)\n",
    "fdr = merge(valid, total, by = \"pattern\")\n",
    "fdr$fdr = (fdr$total - fdr$valid)/fdr$total\n",
    "fdr"
   ]
  },
  {
   "cell_type": "markdown",
   "metadata": {
    "kernel": "R"
   },
   "source": [
    "### Top-hit rate (how often the strongest SNP is causal)"
   ]
  },
  {
   "cell_type": "code",
   "execution_count": 9,
   "metadata": {
    "kernel": "R"
   },
   "outputs": [
    {
     "data": {
      "text/html": [
       "<table>\n",
       "<thead><tr><th scope=col>pattern</th><th scope=col>top_hit</th><th scope=col>total_true</th><th scope=col>top_rate</th></tr></thead>\n",
       "<tbody>\n",
       "\t<tr><td>identity </td><td>50       </td><td>175      </td><td>0.2857143</td></tr>\n",
       "\t<tr><td>shared   </td><td>55       </td><td>165      </td><td>0.3333333</td></tr>\n",
       "\t<tr><td>singleton</td><td>46       </td><td>185      </td><td>0.2486486</td></tr>\n",
       "</tbody>\n",
       "</table>\n"
      ],
      "text/latex": [
       "\\begin{tabular}{r|llll}\n",
       " pattern & top\\_hit & total\\_true & top\\_rate\\\\\n",
       "\\hline\n",
       "\t identity  & 50        & 175       & 0.2857143\\\\\n",
       "\t shared    & 55        & 165       & 0.3333333\\\\\n",
       "\t singleton & 46        & 185       & 0.2486486\\\\\n",
       "\\end{tabular}\n"
      ],
      "text/markdown": [
       "\n",
       "pattern | top_hit | total_true | top_rate | \n",
       "|---|---|---|\n",
       "| identity  | 50        | 175       | 0.2857143 | \n",
       "| shared    | 55        | 165       | 0.3333333 | \n",
       "| singleton | 46        | 185       | 0.2486486 | \n",
       "\n",
       "\n"
      ],
      "text/plain": [
       "  pattern   top_hit total_true top_rate \n",
       "1 identity  50      175        0.2857143\n",
       "2 shared    55      165        0.3333333\n",
       "3 singleton 46      185        0.2486486"
      ]
     },
     "metadata": {},
     "output_type": "display_data"
    }
   ],
   "source": [
    "top_hit = aggregate(top_hit ~ pattern, res, sum)\n",
    "total_true = aggregate(total_true ~ pattern, res, sum)\n",
    "top_rate = merge(top_hit, total_true, by = \"pattern\")\n",
    "top_rate$top_rate = top_rate$top_hit/top_rate$total_true\n",
    "top_rate"
   ]
  },
  {
   "cell_type": "code",
   "execution_count": null,
   "metadata": {
    "kernel": "R"
   },
   "outputs": [],
   "source": []
  }
 ],
 "metadata": {
  "kernelspec": {
   "display_name": "SoS",
   "language": "sos",
   "name": "sos"
  },
  "language_info": {
   "codemirror_mode": "sos",
   "file_extension": ".sos",
   "mimetype": "text/x-sos",
   "name": "sos",
   "nbconvert_exporter": "sos_notebook.converter.SoS_Exporter",
   "pygments_lexer": "sos"
  },
  "sos": {
   "kernels": [
    [
     "R",
     "ir",
     "R",
     "#DCDCDA"
    ]
   ],
   "version": "0.18.3"
  }
 },
 "nbformat": 4,
 "nbformat_minor": 2
}
