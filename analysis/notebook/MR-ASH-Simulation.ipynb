{
 "cells": [
  {
   "cell_type": "markdown",
   "metadata": {},
   "source": [
    "## Simulation of quantitative phenotype given genotypes\n"
   ]
  },
  {
   "cell_type": "code",
   "execution_count": 137,
   "metadata": {
    "collapsed": true
   },
   "outputs": [],
   "source": [
    "import pandas as pd\n",
    "import numpy as np\n",
    "import os, random\n",
    "\n",
    "class PhenotypeSimulator:\n",
    "    def __init__(self, genotype_file):\n",
    "        self.gfile = genotype_file\n",
    "        self.phenotype = {}\n",
    "        self.beta = {}\n",
    "        self.pid = None\n",
    "        \n",
    "    def get_genes(self, limit = 5):\n",
    "        res = pd.HDFStore(self.gfile).keys()\n",
    "        if len(res) > limit:\n",
    "            res = res[:limit]\n",
    "        return res\n",
    "    \n",
    "    def get_X(self, table):\n",
    "        return pd.read_hdf(self.gfile, table)\n",
    "    \n",
    "    def get_ld(self, tables, save_to = None):\n",
    "        '''r^2 based LD calculation'''\n",
    "        ld = {table: pd.read_hdf(self.gfile, table).transpose().corr(method = 'pearson') for table in tables}\n",
    "        ld = {key: (np.power(value, 2) * np.sign(value)).astype(np.float16) for key, value in ld.items()}\n",
    "        if save_to is not None:\n",
    "            if os.path.isfile(save_to):\n",
    "                os.remove(save_to)\n",
    "            for key in ld:\n",
    "                ld[key].to_hdf(save_to, key, mode = 'a', complevel = 9, complib = 'zlib')\n",
    "        return ld\n",
    "    \n",
    "    def ld_heatmap(self, corrmat, out):\n",
    "        import seaborn as sns\n",
    "        import matplotlib.pyplot as plt\n",
    "        fig, ax = plt.subplots()\n",
    "        sns.heatmap(corrmat, ax = ax, vmin=-1, vmax=1, square=True, xticklabels = False, yticklabels = False)\n",
    "        plt.savefig(out, dpi = 500)\n",
    "        \n",
    "    def generate_betamix(self, nbeta, sigmas, pis, pi0 = 0):\n",
    "        '''beta ~ \\pi_0\\delta_0 + \\sum \\pi_i N(0, sigma_i)\n",
    "        sigma here is a nbeta list or nbeta * nbeta matrix\n",
    "        '''\n",
    "        if isinstance(sigmas, list):\n",
    "            sigmas = np.diag(sigmas)\n",
    "        assert (len(pis), len(pis)) == sigmas.shape\n",
    "        masks = np.random.multinomial(1, pis, size = nbeta)\n",
    "        mix = np.random.multivariate_normal([0] * len(pis), sigmas, nbeta)\n",
    "        return np.sum(mix * masks, axis = 1) * np.random.binomial(1, 1 - pi0, nbeta)\n",
    "    \n",
    "    def generate_y(self, X, beta, sigma, force = False):\n",
    "        if self.pid in self.phenotype and force is not True:\n",
    "            print('Name \"{}\" already exists. Use \"force = True\" to overwrite it'.format(self.pid))\n",
    "            return self.phenotype[self.pid]\n",
    "        assert X.shape[0] == len(beta)\n",
    "        self.beta[self.pid] = beta.tolist()\n",
    "        beta.reshape((len(beta),1))\n",
    "        y = np.dot(X.T, beta) + np.random.normal(0, 1, X.shape[1])\n",
    "        y.reshape(len(y), 1)\n",
    "        y = pd.DataFrame(data = y, columns = [self.pid], index = X.columns).transpose()\n",
    "        self.phenotype[self.pid] = y\n",
    "        return y\n",
    "    \n",
    "    def select_convoluted_snps(self, ld, cutoff1 = 0.9, cutoff2 = 10, cutoff3 = 0.01):\n",
    "        '''based on LD matrix select SNPs in strong LD with other SNPs \n",
    "        yet are independent between themselves'''\n",
    "        print('Count strong LD')\n",
    "        strong_ld_count = ((np.absolute(ld) > cutoff1) * ld).sum(axis = 0).sort_values(ascending = False)\n",
    "        strong_ld_count = strong_ld_count[strong_ld_count > cutoff2]\n",
    "        print('Filter by LD')\n",
    "        exclude = []\n",
    "        for x in strong_ld_count.index:\n",
    "            if x in exclude:\n",
    "                continue\n",
    "            for y in strong_ld_count.index:\n",
    "                if y in exclude or y == x:\n",
    "                    continue\n",
    "                if np.absolute(ld[x][y]) > cutoff3:\n",
    "                    exclude.append(y)\n",
    "        print('Done')\n",
    "        return [i for i, x in enumerate(strong_ld_count.index) if not x in exclude]\n",
    "    \n",
    "    def swap_beta(self, beta, strength_index):\n",
    "        '''Set tops of beta to tops in strength_index'''\n",
    "        nb = [0] * len(beta)\n",
    "        beta = sorted(beta, key=abs, reverse=True)\n",
    "        for item in strength_index:\n",
    "            nb[item] = beta.pop(0)\n",
    "        random.shuffle(beta)\n",
    "        for idx in range(len(nb)):\n",
    "            if not idx in strength_index:\n",
    "                nb[idx] = beta.pop(0)\n",
    "        assert len(beta) == 0\n",
    "        return np.array(nb)\n",
    "    \n",
    "    def set_id(self, name):\n",
    "        self.pid = name"
   ]
  },
  {
   "cell_type": "markdown",
   "metadata": {},
   "source": [
    "## Load data"
   ]
  },
  {
   "cell_type": "code",
   "execution_count": 138,
   "metadata": {
    "collapsed": true
   },
   "outputs": [],
   "source": [
    "ms = PhenotypeSimulator(\"/home/gaow/Documents/GTEx/ToyExample/TY.genotype.h5\")\n",
    "tables = ms.get_genes()"
   ]
  },
  {
   "cell_type": "markdown",
   "metadata": {},
   "source": [
    "## Compute and save LD"
   ]
  },
  {
   "cell_type": "code",
   "execution_count": 6,
   "metadata": {
    "collapsed": true
   },
   "outputs": [],
   "source": [
    "ld = ms.get_ld(tables, save_to = \"/home/gaow/Documents/GTEx/ToyExample/TY.ld.h5\")"
   ]
  },
  {
   "cell_type": "markdown",
   "metadata": {},
   "source": [
    "## Putting all together\n",
    "If you just want to get simulated data without knowing the details you can run the following code and find the output `/home/gaow/Documents/GTEx/ToyExample/TY.expr_simulated.h5`. Otherwise you should read on for more details."
   ]
  },
  {
   "cell_type": "code",
   "execution_count": 139,
   "metadata": {},
   "outputs": [
    {
     "name": "stdout",
     "output_type": "stream",
     "text": [
      "Count strong LD\n",
      "Filter by LD\n",
      "Done\n",
      "Count strong LD\n",
      "Filter by LD\n",
      "Done\n",
      "Count strong LD\n",
      "Filter by LD\n",
      "Done\n"
     ]
    }
   ],
   "source": [
    "pis = [0.25, 0.3, 0.45]\n",
    "pi0 = 0.98\n",
    "sigmas = [1, 0.4, 3]\n",
    "for table in tables:\n",
    "    ms.set_id(os.path.basename(table))\n",
    "    nbeta = ld[table].shape[0]\n",
    "    beta = ms.generate_betamix(nbeta=nbeta,pi0=pi0,pis=pis,sigmas=sigmas)\n",
    "    strong_snps_idx = ms.select_convoluted_snps(ld[table])\n",
    "    beta = ms.swap_beta(beta, strong_snps_idx)\n",
    "    X = ms.get_X(table=table)\n",
    "    y = ms.generate_y(beta=beta,sigma=1, X=X)\n",
    "pd.concat(ms.phenotype.values()).to_hdf('/home/gaow/Documents/GTEx/ToyExample/TY.expr_simulated.h5', '/simulated', mode = 'a', complevel = 9, complib = 'zlib')\n",
    "import json\n",
    "with open(\"/home/gaow/Documents/GTEx/ToyExample/TY.beta_simulated.json\", 'w') as fp:\n",
    "    json.dump(ms.beta, fp)"
   ]
  },
  {
   "cell_type": "markdown",
   "metadata": {},
   "source": [
    "## View and select LD structure\n",
    "Take gene `ENSG00000264247` for example:"
   ]
  },
  {
   "cell_type": "code",
   "execution_count": 35,
   "metadata": {},
   "outputs": [
    {
     "data": {
      "text/html": [
       "<div>\n",
       "<style>\n",
       "    .dataframe thead tr:only-child th {\n",
       "        text-align: right;\n",
       "    }\n",
       "\n",
       "    .dataframe thead th {\n",
       "        text-align: left;\n",
       "    }\n",
       "\n",
       "    .dataframe tbody tr th {\n",
       "        vertical-align: top;\n",
       "    }\n",
       "</style>\n",
       "<table border=\"1\" class=\"dataframe\">\n",
       "  <thead>\n",
       "    <tr style=\"text-align: right;\">\n",
       "      <th></th>\n",
       "      <th>18:73591857:T:C</th>\n",
       "      <th>18:73591871:C:T</th>\n",
       "      <th>18:73592510:G:A</th>\n",
       "      <th>18:73592634:A:T</th>\n",
       "      <th>18:73592876:C:T</th>\n",
       "      <th>18:73593143:G:A</th>\n",
       "      <th>18:73593306:C:T</th>\n",
       "      <th>18:73593390:C:G</th>\n",
       "      <th>18:73593520:A:G</th>\n",
       "      <th>18:73594308:C:T</th>\n",
       "      <th>...</th>\n",
       "      <th>18:75590669:C:T</th>\n",
       "      <th>18:75590671:C:T</th>\n",
       "      <th>18:75590985:A:T</th>\n",
       "      <th>18:75591080:C:T</th>\n",
       "      <th>18:75591083:G:C</th>\n",
       "      <th>18:75591259:A:C</th>\n",
       "      <th>18:75591309:T:C</th>\n",
       "      <th>18:75591343:G:A</th>\n",
       "      <th>18:75591593:T:C</th>\n",
       "      <th>18:75591671:C:A</th>\n",
       "    </tr>\n",
       "  </thead>\n",
       "  <tbody>\n",
       "    <tr>\n",
       "      <th>18:73591857:T:C</th>\n",
       "      <td>1.000000</td>\n",
       "      <td>-0.457275</td>\n",
       "      <td>-0.007450</td>\n",
       "      <td>1.000000</td>\n",
       "      <td>-0.011086</td>\n",
       "      <td>-0.005173</td>\n",
       "      <td>-0.451660</td>\n",
       "      <td>-0.457520</td>\n",
       "      <td>-0.148438</td>\n",
       "      <td>0.793945</td>\n",
       "      <td>...</td>\n",
       "      <td>-0.032593</td>\n",
       "      <td>0.000545</td>\n",
       "      <td>-0.016373</td>\n",
       "      <td>-0.010750</td>\n",
       "      <td>-0.003101</td>\n",
       "      <td>-0.010529</td>\n",
       "      <td>0.004395</td>\n",
       "      <td>-0.002008</td>\n",
       "      <td>0.000545</td>\n",
       "      <td>0.000545</td>\n",
       "    </tr>\n",
       "    <tr>\n",
       "      <th>18:73591871:C:T</th>\n",
       "      <td>-0.457275</td>\n",
       "      <td>1.000000</td>\n",
       "      <td>0.024582</td>\n",
       "      <td>-0.457275</td>\n",
       "      <td>0.021378</td>\n",
       "      <td>0.024582</td>\n",
       "      <td>0.990723</td>\n",
       "      <td>0.997070</td>\n",
       "      <td>-0.175659</td>\n",
       "      <td>-0.554199</td>\n",
       "      <td>...</td>\n",
       "      <td>-0.002470</td>\n",
       "      <td>-0.001062</td>\n",
       "      <td>-0.000659</td>\n",
       "      <td>-0.000128</td>\n",
       "      <td>0.000181</td>\n",
       "      <td>-0.000118</td>\n",
       "      <td>-0.001764</td>\n",
       "      <td>0.000423</td>\n",
       "      <td>-0.001062</td>\n",
       "      <td>-0.001062</td>\n",
       "    </tr>\n",
       "    <tr>\n",
       "      <th>18:73592510:G:A</th>\n",
       "      <td>-0.007450</td>\n",
       "      <td>0.024582</td>\n",
       "      <td>1.000000</td>\n",
       "      <td>-0.007450</td>\n",
       "      <td>0.000168</td>\n",
       "      <td>-0.000668</td>\n",
       "      <td>0.024689</td>\n",
       "      <td>0.024643</td>\n",
       "      <td>-0.008102</td>\n",
       "      <td>-0.009346</td>\n",
       "      <td>...</td>\n",
       "      <td>-0.000218</td>\n",
       "      <td>-0.000048</td>\n",
       "      <td>-0.001693</td>\n",
       "      <td>-0.002493</td>\n",
       "      <td>-0.001722</td>\n",
       "      <td>-0.002516</td>\n",
       "      <td>-0.000550</td>\n",
       "      <td>-0.000077</td>\n",
       "      <td>-0.000048</td>\n",
       "      <td>-0.000048</td>\n",
       "    </tr>\n",
       "    <tr>\n",
       "      <th>18:73592634:A:T</th>\n",
       "      <td>1.000000</td>\n",
       "      <td>-0.457275</td>\n",
       "      <td>-0.007450</td>\n",
       "      <td>1.000000</td>\n",
       "      <td>-0.011086</td>\n",
       "      <td>-0.005173</td>\n",
       "      <td>-0.451660</td>\n",
       "      <td>-0.457520</td>\n",
       "      <td>-0.148438</td>\n",
       "      <td>0.793945</td>\n",
       "      <td>...</td>\n",
       "      <td>-0.032593</td>\n",
       "      <td>0.000545</td>\n",
       "      <td>-0.016373</td>\n",
       "      <td>-0.010750</td>\n",
       "      <td>-0.003101</td>\n",
       "      <td>-0.010529</td>\n",
       "      <td>0.004395</td>\n",
       "      <td>-0.002008</td>\n",
       "      <td>0.000545</td>\n",
       "      <td>0.000545</td>\n",
       "    </tr>\n",
       "    <tr>\n",
       "      <th>18:73592876:C:T</th>\n",
       "      <td>-0.011086</td>\n",
       "      <td>0.021378</td>\n",
       "      <td>0.000168</td>\n",
       "      <td>-0.011086</td>\n",
       "      <td>1.000000</td>\n",
       "      <td>0.000168</td>\n",
       "      <td>0.021408</td>\n",
       "      <td>0.021469</td>\n",
       "      <td>-0.002850</td>\n",
       "      <td>-0.009285</td>\n",
       "      <td>...</td>\n",
       "      <td>0.000102</td>\n",
       "      <td>-0.000017</td>\n",
       "      <td>-0.000359</td>\n",
       "      <td>-0.000344</td>\n",
       "      <td>-0.000275</td>\n",
       "      <td>-0.000360</td>\n",
       "      <td>-0.001019</td>\n",
       "      <td>0.000008</td>\n",
       "      <td>-0.000017</td>\n",
       "      <td>-0.000017</td>\n",
       "    </tr>\n",
       "  </tbody>\n",
       "</table>\n",
       "<p>5 rows × 9871 columns</p>\n",
       "</div>"
      ],
      "text/plain": [
       "                 18:73591857:T:C  18:73591871:C:T  18:73592510:G:A  \\\n",
       "18:73591857:T:C         1.000000        -0.457275        -0.007450   \n",
       "18:73591871:C:T        -0.457275         1.000000         0.024582   \n",
       "18:73592510:G:A        -0.007450         0.024582         1.000000   \n",
       "18:73592634:A:T         1.000000        -0.457275        -0.007450   \n",
       "18:73592876:C:T        -0.011086         0.021378         0.000168   \n",
       "\n",
       "                 18:73592634:A:T  18:73592876:C:T  18:73593143:G:A  \\\n",
       "18:73591857:T:C         1.000000        -0.011086        -0.005173   \n",
       "18:73591871:C:T        -0.457275         0.021378         0.024582   \n",
       "18:73592510:G:A        -0.007450         0.000168        -0.000668   \n",
       "18:73592634:A:T         1.000000        -0.011086        -0.005173   \n",
       "18:73592876:C:T        -0.011086         1.000000         0.000168   \n",
       "\n",
       "                 18:73593306:C:T  18:73593390:C:G  18:73593520:A:G  \\\n",
       "18:73591857:T:C        -0.451660        -0.457520        -0.148438   \n",
       "18:73591871:C:T         0.990723         0.997070        -0.175659   \n",
       "18:73592510:G:A         0.024689         0.024643        -0.008102   \n",
       "18:73592634:A:T        -0.451660        -0.457520        -0.148438   \n",
       "18:73592876:C:T         0.021408         0.021469        -0.002850   \n",
       "\n",
       "                 18:73594308:C:T       ...         18:75590669:C:T  \\\n",
       "18:73591857:T:C         0.793945       ...               -0.032593   \n",
       "18:73591871:C:T        -0.554199       ...               -0.002470   \n",
       "18:73592510:G:A        -0.009346       ...               -0.000218   \n",
       "18:73592634:A:T         0.793945       ...               -0.032593   \n",
       "18:73592876:C:T        -0.009285       ...                0.000102   \n",
       "\n",
       "                 18:75590671:C:T  18:75590985:A:T  18:75591080:C:T  \\\n",
       "18:73591857:T:C         0.000545        -0.016373        -0.010750   \n",
       "18:73591871:C:T        -0.001062        -0.000659        -0.000128   \n",
       "18:73592510:G:A        -0.000048        -0.001693        -0.002493   \n",
       "18:73592634:A:T         0.000545        -0.016373        -0.010750   \n",
       "18:73592876:C:T        -0.000017        -0.000359        -0.000344   \n",
       "\n",
       "                 18:75591083:G:C  18:75591259:A:C  18:75591309:T:C  \\\n",
       "18:73591857:T:C        -0.003101        -0.010529         0.004395   \n",
       "18:73591871:C:T         0.000181        -0.000118        -0.001764   \n",
       "18:73592510:G:A        -0.001722        -0.002516        -0.000550   \n",
       "18:73592634:A:T        -0.003101        -0.010529         0.004395   \n",
       "18:73592876:C:T        -0.000275        -0.000360        -0.001019   \n",
       "\n",
       "                 18:75591343:G:A  18:75591593:T:C  18:75591671:C:A  \n",
       "18:73591857:T:C        -0.002008         0.000545         0.000545  \n",
       "18:73591871:C:T         0.000423        -0.001062        -0.001062  \n",
       "18:73592510:G:A        -0.000077        -0.000048        -0.000048  \n",
       "18:73592634:A:T        -0.002008         0.000545         0.000545  \n",
       "18:73592876:C:T         0.000008        -0.000017        -0.000017  \n",
       "\n",
       "[5 rows x 9871 columns]"
      ]
     },
     "execution_count": 35,
     "metadata": {},
     "output_type": "execute_result"
    }
   ],
   "source": [
    "ld['/chr18/ENSG00000264247'].head()"
   ]
  },
  {
   "cell_type": "code",
   "execution_count": 87,
   "metadata": {
    "collapsed": true
   },
   "outputs": [],
   "source": [
    "ms.ld_heatmap(ld['/chr18/ENSG00000264247'].iloc[:1000,:1000], 'img/ENSG00000264247.ld.png')"
   ]
  },
  {
   "cell_type": "markdown",
   "metadata": {},
   "source": [
    "![](img/ENSG00000264247.ld.png)"
   ]
  },
  {
   "cell_type": "markdown",
   "metadata": {},
   "source": [
    "## Simulating effect size\n",
    "Now let's degress to effect size simulation. Effect size refers to $\\beta$ in the linear model $ Y = X \\beta + E$ where for simplicity we assume $E_{ij} \\sim N(0,1)$. We sample $\\beta$ from a mixture of gaussian distribution and a point mass.\n",
    "\n",
    "Here I start with a simple 3 components mixture, and a point mass of 95% at the null:"
   ]
  },
  {
   "cell_type": "code",
   "execution_count": 105,
   "metadata": {
    "collapsed": true
   },
   "outputs": [],
   "source": [
    "nbeta = ld['/chr18/ENSG00000264247'].shape[0]\n",
    "pis = [0.25, 0.3, 0.45]\n",
    "pi0 = 0.98\n",
    "sigmas = [1, 0.4, 3]\n",
    "beta = ms.generate_betamix(nbeta=nbeta,pi0=pi0,pis=pis,sigmas=sigmas)"
   ]
  },
  {
   "cell_type": "markdown",
   "metadata": {},
   "source": [
    "## Swap big effect size to most LD-convoluted SNPs\n",
    "To better illustrate the potential of mr-ash I identify from genotype matrix potentially the more LD-convoluted SNPs and assign them the largest effect size. Specifically, I rank SNPs by their number of having LD with other SNPs greater than 0.9 (unsigned), and filter the top ranked SNPs until there is no strong LD between them ($r^2<0.1$). Then I swap $\\beta$s so that these SNPs have large effect size."
   ]
  },
  {
   "cell_type": "code",
   "execution_count": 74,
   "metadata": {},
   "outputs": [
    {
     "name": "stdout",
     "output_type": "stream",
     "text": [
      "Count strong LD\n",
      "Filter by LD\n",
      "Done\n"
     ]
    }
   ],
   "source": [
    "strong_snps_idx = ms.select_convoluted_snps(ld['/chr18/ENSG00000264247'])"
   ]
  },
  {
   "cell_type": "code",
   "execution_count": 106,
   "metadata": {
    "collapsed": true
   },
   "outputs": [],
   "source": [
    "beta = ms.swap_beta(beta, strong_snps_idx)"
   ]
  },
  {
   "cell_type": "markdown",
   "metadata": {},
   "source": [
    "## Simulate phenotypes"
   ]
  },
  {
   "cell_type": "code",
   "execution_count": 122,
   "metadata": {},
   "outputs": [],
   "source": [
    "X = ms.get_X(table='/chr18/ENSG00000264247')\n",
    "y = ms.generate_y(beta=beta,sigma=1, X=X, name = 'ENSG00000264247')"
   ]
  },
  {
   "cell_type": "code",
   "execution_count": 124,
   "metadata": {},
   "outputs": [
    {
     "data": {
      "text/html": [
       "<div>\n",
       "<style>\n",
       "    .dataframe thead tr:only-child th {\n",
       "        text-align: right;\n",
       "    }\n",
       "\n",
       "    .dataframe thead th {\n",
       "        text-align: left;\n",
       "    }\n",
       "\n",
       "    .dataframe tbody tr th {\n",
       "        vertical-align: top;\n",
       "    }\n",
       "</style>\n",
       "<table border=\"1\" class=\"dataframe\">\n",
       "  <thead>\n",
       "    <tr style=\"text-align: right;\">\n",
       "      <th>iid</th>\n",
       "      <th>GTEX-1A3MV</th>\n",
       "      <th>GTEX-1A3MW</th>\n",
       "      <th>GTEX-1A3MX</th>\n",
       "      <th>GTEX-1A8FM</th>\n",
       "      <th>GTEX-1A8G6</th>\n",
       "      <th>GTEX-1A8G7</th>\n",
       "      <th>GTEX-1A32A</th>\n",
       "      <th>GTEX-1AMEY</th>\n",
       "      <th>GTEX-1AMFI</th>\n",
       "      <th>GTEX-1AX8Z</th>\n",
       "      <th>...</th>\n",
       "      <th>GTEX-ZYFC</th>\n",
       "      <th>GTEX-ZYFD</th>\n",
       "      <th>GTEX-ZYFG</th>\n",
       "      <th>GTEX-ZYT6</th>\n",
       "      <th>GTEX-ZYVF</th>\n",
       "      <th>GTEX-ZYW4</th>\n",
       "      <th>GTEX-ZYY3</th>\n",
       "      <th>GTEX-ZZ64</th>\n",
       "      <th>GTEX-ZZPT</th>\n",
       "      <th>GTEX-ZZPU</th>\n",
       "    </tr>\n",
       "  </thead>\n",
       "  <tbody>\n",
       "    <tr>\n",
       "      <th>ENSG00000264247</th>\n",
       "      <td>-23.986548</td>\n",
       "      <td>-18.094246</td>\n",
       "      <td>-16.663314</td>\n",
       "      <td>-14.677913</td>\n",
       "      <td>-23.234465</td>\n",
       "      <td>-12.28504</td>\n",
       "      <td>-1.389807</td>\n",
       "      <td>-13.192255</td>\n",
       "      <td>-16.23599</td>\n",
       "      <td>-5.80662</td>\n",
       "      <td>...</td>\n",
       "      <td>4.487896</td>\n",
       "      <td>-15.573231</td>\n",
       "      <td>-12.584244</td>\n",
       "      <td>-12.163406</td>\n",
       "      <td>-1.492891</td>\n",
       "      <td>-33.267576</td>\n",
       "      <td>-4.070685</td>\n",
       "      <td>-26.442516</td>\n",
       "      <td>-5.318166</td>\n",
       "      <td>-5.144975</td>\n",
       "    </tr>\n",
       "  </tbody>\n",
       "</table>\n",
       "<p>1 rows × 635 columns</p>\n",
       "</div>"
      ],
      "text/plain": [
       "iid              GTEX-1A3MV  GTEX-1A3MW  GTEX-1A3MX  GTEX-1A8FM  GTEX-1A8G6  \\\n",
       "ENSG00000264247  -23.986548  -18.094246  -16.663314  -14.677913  -23.234465   \n",
       "\n",
       "iid              GTEX-1A8G7  GTEX-1A32A  GTEX-1AMEY  GTEX-1AMFI  GTEX-1AX8Z  \\\n",
       "ENSG00000264247   -12.28504   -1.389807  -13.192255   -16.23599    -5.80662   \n",
       "\n",
       "iid                ...      GTEX-ZYFC  GTEX-ZYFD  GTEX-ZYFG  GTEX-ZYT6  \\\n",
       "ENSG00000264247    ...       4.487896 -15.573231 -12.584244 -12.163406   \n",
       "\n",
       "iid              GTEX-ZYVF  GTEX-ZYW4  GTEX-ZYY3  GTEX-ZZ64  GTEX-ZZPT  \\\n",
       "ENSG00000264247  -1.492891 -33.267576  -4.070685 -26.442516  -5.318166   \n",
       "\n",
       "iid              GTEX-ZZPU  \n",
       "ENSG00000264247  -5.144975  \n",
       "\n",
       "[1 rows x 635 columns]"
      ]
     },
     "execution_count": 124,
     "metadata": {},
     "output_type": "execute_result"
    }
   ],
   "source": [
    "y"
   ]
  }
 ],
 "metadata": {
  "kernelspec": {
   "display_name": "Python 3",
   "language": "python",
   "name": "python3"
  },
  "language_info": {
   "codemirror_mode": {
    "name": "ipython",
    "version": 3
   },
   "file_extension": ".py",
   "mimetype": "text/x-python",
   "name": "python",
   "nbconvert_exporter": "python",
   "pygments_lexer": "ipython3",
   "version": "3.6.0"
  }
 },
 "nbformat": 4,
 "nbformat_minor": 2
}
