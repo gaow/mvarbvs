{
 "cells": [
  {
   "cell_type": "markdown",
   "metadata": {
    "kernel": "SoS"
   },
   "source": [
    "# M&M benchmark XIII\n",
    "\n",
    "This is benchmark using a non-trivial simulation scheme, and analyzing it using our current implementation of EM updates to prior scalar. See [this notebook](20200427_MNM_Benchmark.html) for details how it is executed."
   ]
  },
  {
   "cell_type": "markdown",
   "metadata": {
    "kernel": "SoS"
   },
   "source": [
    "## Conclusion and next steps\n",
    "\n",
    "1. Results look largely good -- in terms of power, purity, FDR and convergence \n",
    "2. There are some overlapping CS observed.\n",
    "3. **Next step**: finalize on the ED procedure (important for real data analysis too), add ED based prior\n",
    "\n",
    "Should we add in `susieR` as a comparison and if so how to compare PIP fairly?"
   ]
  },
  {
   "cell_type": "code",
   "execution_count": 1,
   "metadata": {
    "kernel": "SoS"
   },
   "outputs": [
    {
     "name": "stdout",
     "output_type": "stream",
     "text": [
      "/project2/mstephens/gaow/mvarbvs/dsc/mnm_prototype"
     ]
    }
   ],
   "source": [
    "%cd ~/GIT/mvarbvs/dsc/mnm_prototype"
   ]
  },
  {
   "cell_type": "code",
   "execution_count": 3,
   "metadata": {
    "kernel": "R"
   },
   "outputs": [],
   "source": [
    "dat = dscrutils::dscquery('mnm_20200430', targets = c('simulate', \"mnm\", \"mnm.resid_method\", \n",
    "                                                      'susie_scores', 'susie_scores.total', 'susie_scores.valid', 'susie_scores.size', \n",
    "                                                      'susie_scores.purity', 'susie_scores.top', 'susie_scores.n_causal', 'susie_scores.included_causal', \n",
    "                                                      'susie_scores.overlap_var', 'susie_scores.overlap_cs','susie_scores.false_pos_cond_discoveries', \n",
    "                                                      'susie_scores.false_neg_cond_discoveries', 'susie_scores.true_cond_discoveries', 'susie_scores.converged'),\n",
    "                          module.output.files = \"susie_scores\", verbose = F)"
   ]
  },
  {
   "cell_type": "code",
   "execution_count": 17,
   "metadata": {
    "kernel": "R"
   },
   "outputs": [],
   "source": [
    "dat$method = NA\n",
    "dat$method[which(!is.na(dat$mnm.resid_method))] = paste(dat$mnm[which(!is.na(dat$mnm.resid_method))], paste(dat$mnm.resid_method[which(!is.na(dat$mnm.resid_method))], \"residual\", sep = '_'), sep = '+')\n",
    "dat$method[which(is.na(dat$mnm.resid_method))] = dat$mnm[which(is.na(dat$mnm.resid_method))]"
   ]
  },
  {
   "cell_type": "code",
   "execution_count": 18,
   "metadata": {
    "kernel": "R"
   },
   "outputs": [
    {
     "data": {
      "text/html": [
       "<ol class=list-inline>\n",
       "\t<li>4800</li>\n",
       "\t<li>19</li>\n",
       "</ol>\n"
      ],
      "text/latex": [
       "\\begin{enumerate*}\n",
       "\\item 4800\n",
       "\\item 19\n",
       "\\end{enumerate*}\n"
      ],
      "text/markdown": [
       "1. 4800\n",
       "2. 19\n",
       "\n",
       "\n"
      ],
      "text/plain": [
       "[1] 4800   19"
      ]
     },
     "metadata": {},
     "output_type": "display_data"
    }
   ],
   "source": [
    "dim(dat)"
   ]
  },
  {
   "cell_type": "code",
   "execution_count": 19,
   "metadata": {
    "kernel": "R"
   },
   "outputs": [],
   "source": [
    "saveRDS(dat, '../data/finemap_output.20200430.rds')"
   ]
  },
  {
   "cell_type": "code",
   "execution_count": 20,
   "metadata": {
    "kernel": "R"
   },
   "outputs": [
    {
     "data": {
      "text/html": [
       "<table>\n",
       "<thead><tr><th scope=col>DSC</th><th scope=col>simulate</th><th scope=col>mnm</th><th scope=col>mnm.resid_method</th><th scope=col>susie_scores.total</th><th scope=col>susie_scores.valid</th><th scope=col>susie_scores.size</th><th scope=col>susie_scores.purity</th><th scope=col>susie_scores.top</th><th scope=col>susie_scores.n_causal</th><th scope=col>susie_scores.included_causal</th><th scope=col>susie_scores.overlap_var</th><th scope=col>susie_scores.overlap_cs</th><th scope=col>susie_scores.false_pos_cond_discoveries</th><th scope=col>susie_scores.false_neg_cond_discoveries</th><th scope=col>susie_scores.true_cond_discoveries</th><th scope=col>susie_scores.converged</th><th scope=col>susie_scores.output.file</th><th scope=col>method</th></tr></thead>\n",
       "<tbody>\n",
       "\t<tr><td>1                                                                         </td><td>artificial_mixture                                                        </td><td>mnm_oracle                                                                </td><td>oracle                                                                    </td><td>3                                                                         </td><td>2                                                                         </td><td>1                                                                         </td><td>1                                                                         </td><td>2                                                                         </td><td>3                                                                         </td><td>2                                                                         </td><td>0                                                                         </td><td>0                                                                         </td><td>45                                                                        </td><td>54                                                                        </td><td>51                                                                        </td><td>TRUE                                                                      </td><td>susie_scores/small_data_1_artificial_mixture_1_mnm_oracle_1_susie_scores_1</td><td>mnm_oracle+oracle_residual                                                </td></tr>\n",
       "\t<tr><td>1                                                                         </td><td>artificial_mixture                                                        </td><td>mnm_oracle                                                                </td><td>oracle                                                                    </td><td>3                                                                         </td><td>3                                                                         </td><td>2                                                                         </td><td>1                                                                         </td><td>1                                                                         </td><td>3                                                                         </td><td>3                                                                         </td><td>0                                                                         </td><td>0                                                                         </td><td> 0                                                                        </td><td>52                                                                        </td><td>98                                                                        </td><td>TRUE                                                                      </td><td>susie_scores/small_data_2_artificial_mixture_1_mnm_oracle_1_susie_scores_1</td><td>mnm_oracle+oracle_residual                                                </td></tr>\n",
       "\t<tr><td>1                                                                         </td><td>artificial_mixture                                                        </td><td>mnm_oracle                                                                </td><td>oracle                                                                    </td><td>3                                                                         </td><td>3                                                                         </td><td>1                                                                         </td><td>1                                                                         </td><td>3                                                                         </td><td>3                                                                         </td><td>3                                                                         </td><td>0                                                                         </td><td>0                                                                         </td><td> 0                                                                        </td><td>53                                                                        </td><td>97                                                                        </td><td>TRUE                                                                      </td><td>susie_scores/small_data_3_artificial_mixture_1_mnm_oracle_1_susie_scores_1</td><td>mnm_oracle+oracle_residual                                                </td></tr>\n",
       "\t<tr><td>1                                                                         </td><td>artificial_mixture                                                        </td><td>mnm_oracle                                                                </td><td>oracle                                                                    </td><td>3                                                                         </td><td>3                                                                         </td><td>2                                                                         </td><td>1                                                                         </td><td>1                                                                         </td><td>3                                                                         </td><td>3                                                                         </td><td>0                                                                         </td><td>0                                                                         </td><td> 0                                                                        </td><td>53                                                                        </td><td>97                                                                        </td><td>TRUE                                                                      </td><td>susie_scores/small_data_4_artificial_mixture_1_mnm_oracle_1_susie_scores_1</td><td>mnm_oracle+oracle_residual                                                </td></tr>\n",
       "\t<tr><td>1                                                                         </td><td>artificial_mixture                                                        </td><td>mnm_oracle                                                                </td><td>oracle                                                                    </td><td>3                                                                         </td><td>3                                                                         </td><td>8                                                                         </td><td>1                                                                         </td><td>2                                                                         </td><td>3                                                                         </td><td>3                                                                         </td><td>3                                                                         </td><td>1                                                                         </td><td> 0                                                                        </td><td>52                                                                        </td><td>98                                                                        </td><td>TRUE                                                                      </td><td>susie_scores/small_data_5_artificial_mixture_1_mnm_oracle_1_susie_scores_1</td><td>mnm_oracle+oracle_residual                                                </td></tr>\n",
       "\t<tr><td>1                                                                         </td><td>artificial_mixture                                                        </td><td>mnm_oracle                                                                </td><td>oracle                                                                    </td><td>3                                                                         </td><td>3                                                                         </td><td>3                                                                         </td><td>1                                                                         </td><td>1                                                                         </td><td>3                                                                         </td><td>3                                                                         </td><td>0                                                                         </td><td>0                                                                         </td><td> 0                                                                        </td><td>52                                                                        </td><td>98                                                                        </td><td>TRUE                                                                      </td><td>susie_scores/small_data_6_artificial_mixture_1_mnm_oracle_1_susie_scores_1</td><td>mnm_oracle+oracle_residual                                                </td></tr>\n",
       "</tbody>\n",
       "</table>\n"
      ],
      "text/latex": [
       "\\begin{tabular}{r|lllllllllllllllllll}\n",
       " DSC & simulate & mnm & mnm.resid\\_method & susie\\_scores.total & susie\\_scores.valid & susie\\_scores.size & susie\\_scores.purity & susie\\_scores.top & susie\\_scores.n\\_causal & susie\\_scores.included\\_causal & susie\\_scores.overlap\\_var & susie\\_scores.overlap\\_cs & susie\\_scores.false\\_pos\\_cond\\_discoveries & susie\\_scores.false\\_neg\\_cond\\_discoveries & susie\\_scores.true\\_cond\\_discoveries & susie\\_scores.converged & susie\\_scores.output.file & method\\\\\n",
       "\\hline\n",
       "\t 1                                                                                                  & artificial\\_mixture                                                                               & mnm\\_oracle                                                                                       & oracle                                                                                             & 3                                                                                                  & 2                                                                                                  & 1                                                                                                  & 1                                                                                                  & 2                                                                                                  & 3                                                                                                  & 2                                                                                                  & 0                                                                                                  & 0                                                                                                  & 45                                                                                                 & 54                                                                                                 & 51                                                                                                 & TRUE                                                                                               & susie\\_scores/small\\_data\\_1\\_artificial\\_mixture\\_1\\_mnm\\_oracle\\_1\\_susie\\_scores\\_1 & mnm\\_oracle+oracle\\_residual                                                                    \\\\\n",
       "\t 1                                                                                                  & artificial\\_mixture                                                                               & mnm\\_oracle                                                                                       & oracle                                                                                             & 3                                                                                                  & 3                                                                                                  & 2                                                                                                  & 1                                                                                                  & 1                                                                                                  & 3                                                                                                  & 3                                                                                                  & 0                                                                                                  & 0                                                                                                  &  0                                                                                                 & 52                                                                                                 & 98                                                                                                 & TRUE                                                                                               & susie\\_scores/small\\_data\\_2\\_artificial\\_mixture\\_1\\_mnm\\_oracle\\_1\\_susie\\_scores\\_1 & mnm\\_oracle+oracle\\_residual                                                                    \\\\\n",
       "\t 1                                                                                                  & artificial\\_mixture                                                                               & mnm\\_oracle                                                                                       & oracle                                                                                             & 3                                                                                                  & 3                                                                                                  & 1                                                                                                  & 1                                                                                                  & 3                                                                                                  & 3                                                                                                  & 3                                                                                                  & 0                                                                                                  & 0                                                                                                  &  0                                                                                                 & 53                                                                                                 & 97                                                                                                 & TRUE                                                                                               & susie\\_scores/small\\_data\\_3\\_artificial\\_mixture\\_1\\_mnm\\_oracle\\_1\\_susie\\_scores\\_1 & mnm\\_oracle+oracle\\_residual                                                                    \\\\\n",
       "\t 1                                                                                                  & artificial\\_mixture                                                                               & mnm\\_oracle                                                                                       & oracle                                                                                             & 3                                                                                                  & 3                                                                                                  & 2                                                                                                  & 1                                                                                                  & 1                                                                                                  & 3                                                                                                  & 3                                                                                                  & 0                                                                                                  & 0                                                                                                  &  0                                                                                                 & 53                                                                                                 & 97                                                                                                 & TRUE                                                                                               & susie\\_scores/small\\_data\\_4\\_artificial\\_mixture\\_1\\_mnm\\_oracle\\_1\\_susie\\_scores\\_1 & mnm\\_oracle+oracle\\_residual                                                                    \\\\\n",
       "\t 1                                                                                                  & artificial\\_mixture                                                                               & mnm\\_oracle                                                                                       & oracle                                                                                             & 3                                                                                                  & 3                                                                                                  & 8                                                                                                  & 1                                                                                                  & 2                                                                                                  & 3                                                                                                  & 3                                                                                                  & 3                                                                                                  & 1                                                                                                  &  0                                                                                                 & 52                                                                                                 & 98                                                                                                 & TRUE                                                                                               & susie\\_scores/small\\_data\\_5\\_artificial\\_mixture\\_1\\_mnm\\_oracle\\_1\\_susie\\_scores\\_1 & mnm\\_oracle+oracle\\_residual                                                                    \\\\\n",
       "\t 1                                                                                                  & artificial\\_mixture                                                                               & mnm\\_oracle                                                                                       & oracle                                                                                             & 3                                                                                                  & 3                                                                                                  & 3                                                                                                  & 1                                                                                                  & 1                                                                                                  & 3                                                                                                  & 3                                                                                                  & 0                                                                                                  & 0                                                                                                  &  0                                                                                                 & 52                                                                                                 & 98                                                                                                 & TRUE                                                                                               & susie\\_scores/small\\_data\\_6\\_artificial\\_mixture\\_1\\_mnm\\_oracle\\_1\\_susie\\_scores\\_1 & mnm\\_oracle+oracle\\_residual                                                                    \\\\\n",
       "\\end{tabular}\n"
      ],
      "text/markdown": [
       "\n",
       "DSC | simulate | mnm | mnm.resid_method | susie_scores.total | susie_scores.valid | susie_scores.size | susie_scores.purity | susie_scores.top | susie_scores.n_causal | susie_scores.included_causal | susie_scores.overlap_var | susie_scores.overlap_cs | susie_scores.false_pos_cond_discoveries | susie_scores.false_neg_cond_discoveries | susie_scores.true_cond_discoveries | susie_scores.converged | susie_scores.output.file | method | \n",
       "|---|---|---|---|---|---|\n",
       "| 1                                                                          | artificial_mixture                                                         | mnm_oracle                                                                 | oracle                                                                     | 3                                                                          | 2                                                                          | 1                                                                          | 1                                                                          | 2                                                                          | 3                                                                          | 2                                                                          | 0                                                                          | 0                                                                          | 45                                                                         | 54                                                                         | 51                                                                         | TRUE                                                                       | susie_scores/small_data_1_artificial_mixture_1_mnm_oracle_1_susie_scores_1 | mnm_oracle+oracle_residual                                                 | \n",
       "| 1                                                                          | artificial_mixture                                                         | mnm_oracle                                                                 | oracle                                                                     | 3                                                                          | 3                                                                          | 2                                                                          | 1                                                                          | 1                                                                          | 3                                                                          | 3                                                                          | 0                                                                          | 0                                                                          |  0                                                                         | 52                                                                         | 98                                                                         | TRUE                                                                       | susie_scores/small_data_2_artificial_mixture_1_mnm_oracle_1_susie_scores_1 | mnm_oracle+oracle_residual                                                 | \n",
       "| 1                                                                          | artificial_mixture                                                         | mnm_oracle                                                                 | oracle                                                                     | 3                                                                          | 3                                                                          | 1                                                                          | 1                                                                          | 3                                                                          | 3                                                                          | 3                                                                          | 0                                                                          | 0                                                                          |  0                                                                         | 53                                                                         | 97                                                                         | TRUE                                                                       | susie_scores/small_data_3_artificial_mixture_1_mnm_oracle_1_susie_scores_1 | mnm_oracle+oracle_residual                                                 | \n",
       "| 1                                                                          | artificial_mixture                                                         | mnm_oracle                                                                 | oracle                                                                     | 3                                                                          | 3                                                                          | 2                                                                          | 1                                                                          | 1                                                                          | 3                                                                          | 3                                                                          | 0                                                                          | 0                                                                          |  0                                                                         | 53                                                                         | 97                                                                         | TRUE                                                                       | susie_scores/small_data_4_artificial_mixture_1_mnm_oracle_1_susie_scores_1 | mnm_oracle+oracle_residual                                                 | \n",
       "| 1                                                                          | artificial_mixture                                                         | mnm_oracle                                                                 | oracle                                                                     | 3                                                                          | 3                                                                          | 8                                                                          | 1                                                                          | 2                                                                          | 3                                                                          | 3                                                                          | 3                                                                          | 1                                                                          |  0                                                                         | 52                                                                         | 98                                                                         | TRUE                                                                       | susie_scores/small_data_5_artificial_mixture_1_mnm_oracle_1_susie_scores_1 | mnm_oracle+oracle_residual                                                 | \n",
       "| 1                                                                          | artificial_mixture                                                         | mnm_oracle                                                                 | oracle                                                                     | 3                                                                          | 3                                                                          | 3                                                                          | 1                                                                          | 1                                                                          | 3                                                                          | 3                                                                          | 0                                                                          | 0                                                                          |  0                                                                         | 52                                                                         | 98                                                                         | TRUE                                                                       | susie_scores/small_data_6_artificial_mixture_1_mnm_oracle_1_susie_scores_1 | mnm_oracle+oracle_residual                                                 | \n",
       "\n",
       "\n"
      ],
      "text/plain": [
       "  DSC simulate           mnm        mnm.resid_method susie_scores.total\n",
       "1 1   artificial_mixture mnm_oracle oracle           3                 \n",
       "2 1   artificial_mixture mnm_oracle oracle           3                 \n",
       "3 1   artificial_mixture mnm_oracle oracle           3                 \n",
       "4 1   artificial_mixture mnm_oracle oracle           3                 \n",
       "5 1   artificial_mixture mnm_oracle oracle           3                 \n",
       "6 1   artificial_mixture mnm_oracle oracle           3                 \n",
       "  susie_scores.valid susie_scores.size susie_scores.purity susie_scores.top\n",
       "1 2                  1                 1                   2               \n",
       "2 3                  2                 1                   1               \n",
       "3 3                  1                 1                   3               \n",
       "4 3                  2                 1                   1               \n",
       "5 3                  8                 1                   2               \n",
       "6 3                  3                 1                   1               \n",
       "  susie_scores.n_causal susie_scores.included_causal susie_scores.overlap_var\n",
       "1 3                     2                            0                       \n",
       "2 3                     3                            0                       \n",
       "3 3                     3                            0                       \n",
       "4 3                     3                            0                       \n",
       "5 3                     3                            3                       \n",
       "6 3                     3                            0                       \n",
       "  susie_scores.overlap_cs susie_scores.false_pos_cond_discoveries\n",
       "1 0                       45                                     \n",
       "2 0                        0                                     \n",
       "3 0                        0                                     \n",
       "4 0                        0                                     \n",
       "5 1                        0                                     \n",
       "6 0                        0                                     \n",
       "  susie_scores.false_neg_cond_discoveries susie_scores.true_cond_discoveries\n",
       "1 54                                      51                                \n",
       "2 52                                      98                                \n",
       "3 53                                      97                                \n",
       "4 53                                      97                                \n",
       "5 52                                      98                                \n",
       "6 52                                      98                                \n",
       "  susie_scores.converged\n",
       "1 TRUE                  \n",
       "2 TRUE                  \n",
       "3 TRUE                  \n",
       "4 TRUE                  \n",
       "5 TRUE                  \n",
       "6 TRUE                  \n",
       "  susie_scores.output.file                                                  \n",
       "1 susie_scores/small_data_1_artificial_mixture_1_mnm_oracle_1_susie_scores_1\n",
       "2 susie_scores/small_data_2_artificial_mixture_1_mnm_oracle_1_susie_scores_1\n",
       "3 susie_scores/small_data_3_artificial_mixture_1_mnm_oracle_1_susie_scores_1\n",
       "4 susie_scores/small_data_4_artificial_mixture_1_mnm_oracle_1_susie_scores_1\n",
       "5 susie_scores/small_data_5_artificial_mixture_1_mnm_oracle_1_susie_scores_1\n",
       "6 susie_scores/small_data_6_artificial_mixture_1_mnm_oracle_1_susie_scores_1\n",
       "  method                    \n",
       "1 mnm_oracle+oracle_residual\n",
       "2 mnm_oracle+oracle_residual\n",
       "3 mnm_oracle+oracle_residual\n",
       "4 mnm_oracle+oracle_residual\n",
       "5 mnm_oracle+oracle_residual\n",
       "6 mnm_oracle+oracle_residual"
      ]
     },
     "metadata": {},
     "output_type": "display_data"
    }
   ],
   "source": [
    "head(dat)"
   ]
  },
  {
   "cell_type": "code",
   "execution_count": 21,
   "metadata": {
    "kernel": "R"
   },
   "outputs": [],
   "source": [
    "res = dat[,-c(1,3,4)]\n",
    "colnames(res) = c('scenario', 'total', 'valid', 'size', 'purity', 'top_hit', 'total_true', 'total_true_included', 'overlap_var', 'overlap_cs', 'false_positive_cross_cond', 'false_negative_cross_cond', 'true_positive_cross_cond', 'converged', 'filename', 'method')"
   ]
  },
  {
   "cell_type": "markdown",
   "metadata": {
    "kernel": "R"
   },
   "source": [
    "### Purity of CS"
   ]
  },
  {
   "cell_type": "code",
   "execution_count": 22,
   "metadata": {
    "kernel": "R"
   },
   "outputs": [
    {
     "data": {
      "text/html": [
       "<table>\n",
       "<thead><tr><th></th><th scope=col>scenario</th><th scope=col>method</th><th scope=col>purity</th></tr></thead>\n",
       "<tbody>\n",
       "\t<tr><th scope=row>1</th><td>artificial_mixture          </td><td>mnm_identity+flash_residual </td><td>0.9949241                   </td></tr>\n",
       "\t<tr><th scope=row>3</th><td>artificial_mixture          </td><td>mnm_identity+oracle_residual</td><td>0.9998368                   </td></tr>\n",
       "\t<tr><th scope=row>5</th><td>artificial_mixture          </td><td>mnm_naive+flash_residual    </td><td>0.9981513                   </td></tr>\n",
       "\t<tr><th scope=row>7</th><td>artificial_mixture          </td><td>mnm_naive+oracle_residual   </td><td>0.9998860                   </td></tr>\n",
       "\t<tr><th scope=row>9</th><td>artificial_mixture          </td><td>mnm_oracle+flash_residual   </td><td>0.9978131                   </td></tr>\n",
       "\t<tr><th scope=row>11</th><td>artificial_mixture          </td><td>mnm_oracle+oracle_residual  </td><td>0.9999236                   </td></tr>\n",
       "\t<tr><th scope=row>13</th><td>artificial_mixture          </td><td>mnm_shared+flash_residual   </td><td>0.9864727                   </td></tr>\n",
       "\t<tr><th scope=row>15</th><td>artificial_mixture          </td><td>mnm_shared+oracle_residual  </td><td>0.9998992                   </td></tr>\n",
       "\t<tr><th scope=row>2</th><td>gtex_mixture                </td><td>mnm_identity+flash_residual </td><td>0.9538403                   </td></tr>\n",
       "\t<tr><th scope=row>4</th><td>gtex_mixture                </td><td>mnm_identity+oracle_residual</td><td>0.9559678                   </td></tr>\n",
       "\t<tr><th scope=row>6</th><td>gtex_mixture                </td><td>mnm_naive+flash_residual    </td><td>0.9599634                   </td></tr>\n",
       "\t<tr><th scope=row>8</th><td>gtex_mixture                </td><td>mnm_naive+oracle_residual   </td><td>0.9614058                   </td></tr>\n",
       "\t<tr><th scope=row>10</th><td>gtex_mixture                </td><td>mnm_oracle+flash_residual   </td><td>0.9724481                   </td></tr>\n",
       "\t<tr><th scope=row>12</th><td>gtex_mixture                </td><td>mnm_oracle+oracle_residual  </td><td>0.9754157                   </td></tr>\n",
       "\t<tr><th scope=row>14</th><td>gtex_mixture                </td><td>mnm_shared+flash_residual   </td><td>0.9989778                   </td></tr>\n",
       "\t<tr><th scope=row>16</th><td>gtex_mixture                </td><td>mnm_shared+oracle_residual  </td><td>0.9973283                   </td></tr>\n",
       "</tbody>\n",
       "</table>\n"
      ],
      "text/latex": [
       "\\begin{tabular}{r|lll}\n",
       "  & scenario & method & purity\\\\\n",
       "\\hline\n",
       "\t1 & artificial\\_mixture             & mnm\\_identity+flash\\_residual  & 0.9949241                       \\\\\n",
       "\t3 & artificial\\_mixture             & mnm\\_identity+oracle\\_residual & 0.9998368                       \\\\\n",
       "\t5 & artificial\\_mixture             & mnm\\_naive+flash\\_residual     & 0.9981513                       \\\\\n",
       "\t7 & artificial\\_mixture             & mnm\\_naive+oracle\\_residual    & 0.9998860                       \\\\\n",
       "\t9 & artificial\\_mixture             & mnm\\_oracle+flash\\_residual    & 0.9978131                       \\\\\n",
       "\t11 & artificial\\_mixture             & mnm\\_oracle+oracle\\_residual   & 0.9999236                       \\\\\n",
       "\t13 & artificial\\_mixture             & mnm\\_shared+flash\\_residual    & 0.9864727                       \\\\\n",
       "\t15 & artificial\\_mixture             & mnm\\_shared+oracle\\_residual   & 0.9998992                       \\\\\n",
       "\t2 & gtex\\_mixture                   & mnm\\_identity+flash\\_residual  & 0.9538403                       \\\\\n",
       "\t4 & gtex\\_mixture                   & mnm\\_identity+oracle\\_residual & 0.9559678                       \\\\\n",
       "\t6 & gtex\\_mixture                   & mnm\\_naive+flash\\_residual     & 0.9599634                       \\\\\n",
       "\t8 & gtex\\_mixture                   & mnm\\_naive+oracle\\_residual    & 0.9614058                       \\\\\n",
       "\t10 & gtex\\_mixture                   & mnm\\_oracle+flash\\_residual    & 0.9724481                       \\\\\n",
       "\t12 & gtex\\_mixture                   & mnm\\_oracle+oracle\\_residual   & 0.9754157                       \\\\\n",
       "\t14 & gtex\\_mixture                   & mnm\\_shared+flash\\_residual    & 0.9989778                       \\\\\n",
       "\t16 & gtex\\_mixture                   & mnm\\_shared+oracle\\_residual   & 0.9973283                       \\\\\n",
       "\\end{tabular}\n"
      ],
      "text/markdown": [
       "\n",
       "| <!--/--> | scenario | method | purity | \n",
       "|---|---|---|---|---|---|---|---|---|---|---|---|---|---|---|---|\n",
       "| 1 | artificial_mixture           | mnm_identity+flash_residual  | 0.9949241                    | \n",
       "| 3 | artificial_mixture           | mnm_identity+oracle_residual | 0.9998368                    | \n",
       "| 5 | artificial_mixture           | mnm_naive+flash_residual     | 0.9981513                    | \n",
       "| 7 | artificial_mixture           | mnm_naive+oracle_residual    | 0.9998860                    | \n",
       "| 9 | artificial_mixture           | mnm_oracle+flash_residual    | 0.9978131                    | \n",
       "| 11 | artificial_mixture           | mnm_oracle+oracle_residual   | 0.9999236                    | \n",
       "| 13 | artificial_mixture           | mnm_shared+flash_residual    | 0.9864727                    | \n",
       "| 15 | artificial_mixture           | mnm_shared+oracle_residual   | 0.9998992                    | \n",
       "| 2 | gtex_mixture                 | mnm_identity+flash_residual  | 0.9538403                    | \n",
       "| 4 | gtex_mixture                 | mnm_identity+oracle_residual | 0.9559678                    | \n",
       "| 6 | gtex_mixture                 | mnm_naive+flash_residual     | 0.9599634                    | \n",
       "| 8 | gtex_mixture                 | mnm_naive+oracle_residual    | 0.9614058                    | \n",
       "| 10 | gtex_mixture                 | mnm_oracle+flash_residual    | 0.9724481                    | \n",
       "| 12 | gtex_mixture                 | mnm_oracle+oracle_residual   | 0.9754157                    | \n",
       "| 14 | gtex_mixture                 | mnm_shared+flash_residual    | 0.9989778                    | \n",
       "| 16 | gtex_mixture                 | mnm_shared+oracle_residual   | 0.9973283                    | \n",
       "\n",
       "\n"
      ],
      "text/plain": [
       "   scenario           method                       purity   \n",
       "1  artificial_mixture mnm_identity+flash_residual  0.9949241\n",
       "3  artificial_mixture mnm_identity+oracle_residual 0.9998368\n",
       "5  artificial_mixture mnm_naive+flash_residual     0.9981513\n",
       "7  artificial_mixture mnm_naive+oracle_residual    0.9998860\n",
       "9  artificial_mixture mnm_oracle+flash_residual    0.9978131\n",
       "11 artificial_mixture mnm_oracle+oracle_residual   0.9999236\n",
       "13 artificial_mixture mnm_shared+flash_residual    0.9864727\n",
       "15 artificial_mixture mnm_shared+oracle_residual   0.9998992\n",
       "2  gtex_mixture       mnm_identity+flash_residual  0.9538403\n",
       "4  gtex_mixture       mnm_identity+oracle_residual 0.9559678\n",
       "6  gtex_mixture       mnm_naive+flash_residual     0.9599634\n",
       "8  gtex_mixture       mnm_naive+oracle_residual    0.9614058\n",
       "10 gtex_mixture       mnm_oracle+flash_residual    0.9724481\n",
       "12 gtex_mixture       mnm_oracle+oracle_residual   0.9754157\n",
       "14 gtex_mixture       mnm_shared+flash_residual    0.9989778\n",
       "16 gtex_mixture       mnm_shared+oracle_residual   0.9973283"
      ]
     },
     "metadata": {},
     "output_type": "display_data"
    }
   ],
   "source": [
    "purity = aggregate(purity~scenario + method, res, mean)\n",
    "purity = purity[order(purity$scenario),]\n",
    "purity"
   ]
  },
  {
   "cell_type": "markdown",
   "metadata": {
    "kernel": "R"
   },
   "source": [
    "### Power of CS"
   ]
  },
  {
   "cell_type": "code",
   "execution_count": 23,
   "metadata": {
    "kernel": "R"
   },
   "outputs": [
    {
     "data": {
      "text/html": [
       "<table>\n",
       "<thead><tr><th scope=col>scenario</th><th scope=col>method</th><th scope=col>total_true_included</th><th scope=col>total_true</th><th scope=col>overlap_cs</th><th scope=col>overlap_var</th><th scope=col>power</th></tr></thead>\n",
       "<tbody>\n",
       "\t<tr><td>artificial_mixture          </td><td>mnm_identity+flash_residual </td><td>788                         </td><td>900                         </td><td> 0                          </td><td>   0                        </td><td>0.876                       </td></tr>\n",
       "\t<tr><td>artificial_mixture          </td><td>mnm_identity+oracle_residual</td><td>786                         </td><td>900                         </td><td> 0                          </td><td>   0                        </td><td>0.873                       </td></tr>\n",
       "\t<tr><td>artificial_mixture          </td><td>mnm_naive+flash_residual    </td><td>845                         </td><td>900                         </td><td>12                          </td><td> 745                        </td><td>0.939                       </td></tr>\n",
       "\t<tr><td>artificial_mixture          </td><td>mnm_naive+oracle_residual   </td><td>826                         </td><td>900                         </td><td> 0                          </td><td>   0                        </td><td>0.918                       </td></tr>\n",
       "\t<tr><td>artificial_mixture          </td><td>mnm_oracle+flash_residual   </td><td>897                         </td><td>900                         </td><td>26                          </td><td> 362                        </td><td>0.997                       </td></tr>\n",
       "\t<tr><td>artificial_mixture          </td><td>mnm_oracle+oracle_residual  </td><td>890                         </td><td>900                         </td><td>22                          </td><td> 328                        </td><td>0.989                       </td></tr>\n",
       "\t<tr><td>artificial_mixture          </td><td>mnm_shared+flash_residual   </td><td>662                         </td><td>900                         </td><td> 0                          </td><td>   0                        </td><td>0.736                       </td></tr>\n",
       "\t<tr><td>artificial_mixture          </td><td>mnm_shared+oracle_residual  </td><td>614                         </td><td>900                         </td><td> 2                          </td><td>  33                        </td><td>0.682                       </td></tr>\n",
       "\t<tr><td>gtex_mixture                </td><td>mnm_identity+flash_residual </td><td>620                         </td><td>900                         </td><td> 0                          </td><td>   0                        </td><td>0.689                       </td></tr>\n",
       "\t<tr><td>gtex_mixture                </td><td>mnm_identity+oracle_residual</td><td>658                         </td><td>900                         </td><td> 0                          </td><td>   0                        </td><td>0.731                       </td></tr>\n",
       "\t<tr><td>gtex_mixture                </td><td>mnm_naive+flash_residual    </td><td>707                         </td><td>900                         </td><td>52                          </td><td> 817                        </td><td>0.786                       </td></tr>\n",
       "\t<tr><td>gtex_mixture                </td><td>mnm_naive+oracle_residual   </td><td>710                         </td><td>900                         </td><td>66                          </td><td>1293                        </td><td>0.789                       </td></tr>\n",
       "\t<tr><td>gtex_mixture                </td><td>mnm_oracle+flash_residual   </td><td>788                         </td><td>900                         </td><td> 0                          </td><td>   0                        </td><td>0.876                       </td></tr>\n",
       "\t<tr><td>gtex_mixture                </td><td>mnm_oracle+oracle_residual  </td><td>785                         </td><td>900                         </td><td> 0                          </td><td>   0                        </td><td>0.872                       </td></tr>\n",
       "\t<tr><td>gtex_mixture                </td><td>mnm_shared+flash_residual   </td><td>314                         </td><td>900                         </td><td> 0                          </td><td>   0                        </td><td>0.349                       </td></tr>\n",
       "\t<tr><td>gtex_mixture                </td><td>mnm_shared+oracle_residual  </td><td>315                         </td><td>900                         </td><td> 0                          </td><td>   0                        </td><td>0.350                       </td></tr>\n",
       "</tbody>\n",
       "</table>\n"
      ],
      "text/latex": [
       "\\begin{tabular}{r|lllllll}\n",
       " scenario & method & total\\_true\\_included & total\\_true & overlap\\_cs & overlap\\_var & power\\\\\n",
       "\\hline\n",
       "\t artificial\\_mixture             & mnm\\_identity+flash\\_residual  & 788                              & 900                              &  0                               &    0                             & 0.876                           \\\\\n",
       "\t artificial\\_mixture             & mnm\\_identity+oracle\\_residual & 786                              & 900                              &  0                               &    0                             & 0.873                           \\\\\n",
       "\t artificial\\_mixture             & mnm\\_naive+flash\\_residual     & 845                              & 900                              & 12                               &  745                             & 0.939                           \\\\\n",
       "\t artificial\\_mixture             & mnm\\_naive+oracle\\_residual    & 826                              & 900                              &  0                               &    0                             & 0.918                           \\\\\n",
       "\t artificial\\_mixture             & mnm\\_oracle+flash\\_residual    & 897                              & 900                              & 26                               &  362                             & 0.997                           \\\\\n",
       "\t artificial\\_mixture             & mnm\\_oracle+oracle\\_residual   & 890                              & 900                              & 22                               &  328                             & 0.989                           \\\\\n",
       "\t artificial\\_mixture             & mnm\\_shared+flash\\_residual    & 662                              & 900                              &  0                               &    0                             & 0.736                           \\\\\n",
       "\t artificial\\_mixture             & mnm\\_shared+oracle\\_residual   & 614                              & 900                              &  2                               &   33                             & 0.682                           \\\\\n",
       "\t gtex\\_mixture                   & mnm\\_identity+flash\\_residual  & 620                              & 900                              &  0                               &    0                             & 0.689                           \\\\\n",
       "\t gtex\\_mixture                   & mnm\\_identity+oracle\\_residual & 658                              & 900                              &  0                               &    0                             & 0.731                           \\\\\n",
       "\t gtex\\_mixture                   & mnm\\_naive+flash\\_residual     & 707                              & 900                              & 52                               &  817                             & 0.786                           \\\\\n",
       "\t gtex\\_mixture                   & mnm\\_naive+oracle\\_residual    & 710                              & 900                              & 66                               & 1293                             & 0.789                           \\\\\n",
       "\t gtex\\_mixture                   & mnm\\_oracle+flash\\_residual    & 788                              & 900                              &  0                               &    0                             & 0.876                           \\\\\n",
       "\t gtex\\_mixture                   & mnm\\_oracle+oracle\\_residual   & 785                              & 900                              &  0                               &    0                             & 0.872                           \\\\\n",
       "\t gtex\\_mixture                   & mnm\\_shared+flash\\_residual    & 314                              & 900                              &  0                               &    0                             & 0.349                           \\\\\n",
       "\t gtex\\_mixture                   & mnm\\_shared+oracle\\_residual   & 315                              & 900                              &  0                               &    0                             & 0.350                           \\\\\n",
       "\\end{tabular}\n"
      ],
      "text/markdown": [
       "\n",
       "scenario | method | total_true_included | total_true | overlap_cs | overlap_var | power | \n",
       "|---|---|---|---|---|---|---|---|---|---|---|---|---|---|---|---|\n",
       "| artificial_mixture           | mnm_identity+flash_residual  | 788                          | 900                          |  0                           |    0                         | 0.876                        | \n",
       "| artificial_mixture           | mnm_identity+oracle_residual | 786                          | 900                          |  0                           |    0                         | 0.873                        | \n",
       "| artificial_mixture           | mnm_naive+flash_residual     | 845                          | 900                          | 12                           |  745                         | 0.939                        | \n",
       "| artificial_mixture           | mnm_naive+oracle_residual    | 826                          | 900                          |  0                           |    0                         | 0.918                        | \n",
       "| artificial_mixture           | mnm_oracle+flash_residual    | 897                          | 900                          | 26                           |  362                         | 0.997                        | \n",
       "| artificial_mixture           | mnm_oracle+oracle_residual   | 890                          | 900                          | 22                           |  328                         | 0.989                        | \n",
       "| artificial_mixture           | mnm_shared+flash_residual    | 662                          | 900                          |  0                           |    0                         | 0.736                        | \n",
       "| artificial_mixture           | mnm_shared+oracle_residual   | 614                          | 900                          |  2                           |   33                         | 0.682                        | \n",
       "| gtex_mixture                 | mnm_identity+flash_residual  | 620                          | 900                          |  0                           |    0                         | 0.689                        | \n",
       "| gtex_mixture                 | mnm_identity+oracle_residual | 658                          | 900                          |  0                           |    0                         | 0.731                        | \n",
       "| gtex_mixture                 | mnm_naive+flash_residual     | 707                          | 900                          | 52                           |  817                         | 0.786                        | \n",
       "| gtex_mixture                 | mnm_naive+oracle_residual    | 710                          | 900                          | 66                           | 1293                         | 0.789                        | \n",
       "| gtex_mixture                 | mnm_oracle+flash_residual    | 788                          | 900                          |  0                           |    0                         | 0.876                        | \n",
       "| gtex_mixture                 | mnm_oracle+oracle_residual   | 785                          | 900                          |  0                           |    0                         | 0.872                        | \n",
       "| gtex_mixture                 | mnm_shared+flash_residual    | 314                          | 900                          |  0                           |    0                         | 0.349                        | \n",
       "| gtex_mixture                 | mnm_shared+oracle_residual   | 315                          | 900                          |  0                           |    0                         | 0.350                        | \n",
       "\n",
       "\n"
      ],
      "text/plain": [
       "   scenario           method                       total_true_included\n",
       "1  artificial_mixture mnm_identity+flash_residual  788                \n",
       "2  artificial_mixture mnm_identity+oracle_residual 786                \n",
       "3  artificial_mixture mnm_naive+flash_residual     845                \n",
       "4  artificial_mixture mnm_naive+oracle_residual    826                \n",
       "5  artificial_mixture mnm_oracle+flash_residual    897                \n",
       "6  artificial_mixture mnm_oracle+oracle_residual   890                \n",
       "7  artificial_mixture mnm_shared+flash_residual    662                \n",
       "8  artificial_mixture mnm_shared+oracle_residual   614                \n",
       "9  gtex_mixture       mnm_identity+flash_residual  620                \n",
       "10 gtex_mixture       mnm_identity+oracle_residual 658                \n",
       "11 gtex_mixture       mnm_naive+flash_residual     707                \n",
       "12 gtex_mixture       mnm_naive+oracle_residual    710                \n",
       "13 gtex_mixture       mnm_oracle+flash_residual    788                \n",
       "14 gtex_mixture       mnm_oracle+oracle_residual   785                \n",
       "15 gtex_mixture       mnm_shared+flash_residual    314                \n",
       "16 gtex_mixture       mnm_shared+oracle_residual   315                \n",
       "   total_true overlap_cs overlap_var power\n",
       "1  900         0            0        0.876\n",
       "2  900         0            0        0.873\n",
       "3  900        12          745        0.939\n",
       "4  900         0            0        0.918\n",
       "5  900        26          362        0.997\n",
       "6  900        22          328        0.989\n",
       "7  900         0            0        0.736\n",
       "8  900         2           33        0.682\n",
       "9  900         0            0        0.689\n",
       "10 900         0            0        0.731\n",
       "11 900        52          817        0.786\n",
       "12 900        66         1293        0.789\n",
       "13 900         0            0        0.876\n",
       "14 900         0            0        0.872\n",
       "15 900         0            0        0.349\n",
       "16 900         0            0        0.350"
      ]
     },
     "metadata": {},
     "output_type": "display_data"
    }
   ],
   "source": [
    "total_true_included = aggregate(total_true_included ~ scenario + method, res, sum)\n",
    "total_true = aggregate(total_true ~  scenario + method, res, sum)\n",
    "cs_overlap = aggregate(overlap_cs ~  scenario + method, res, sum)\n",
    "snp_overlap = aggregate(overlap_var ~  scenario + method, res, sum)\n",
    "power = merge(total_true_included, total_true, by = c( 'scenario' , 'method'))\n",
    "power = merge(power, cs_overlap,  by = c( 'scenario' , 'method'))\n",
    "power = merge(power, snp_overlap,  by = c( 'scenario' , 'method'))\n",
    "power$power = round(power$total_true_included/power$total_true,3)\n",
    "power$overlap_cs = round(power$overlap_cs, 3)\n",
    "power$overlap_var = round(power$overlap_var, 3)\n",
    "power = power[order(power$scenario),]\n",
    "power"
   ]
  },
  {
   "cell_type": "markdown",
   "metadata": {
    "kernel": "R"
   },
   "source": [
    "### FDR of CS no missing data"
   ]
  },
  {
   "cell_type": "code",
   "execution_count": 24,
   "metadata": {
    "kernel": "R"
   },
   "outputs": [
    {
     "data": {
      "text/html": [
       "<table>\n",
       "<thead><tr><th scope=col>scenario</th><th scope=col>method</th><th scope=col>valid</th><th scope=col>total</th><th scope=col>fdr</th></tr></thead>\n",
       "<tbody>\n",
       "\t<tr><td>artificial_mixture          </td><td>mnm_identity+flash_residual </td><td>771                         </td><td>817                         </td><td>0.056                       </td></tr>\n",
       "\t<tr><td>artificial_mixture          </td><td>mnm_identity+oracle_residual</td><td>776                         </td><td>830                         </td><td>0.065                       </td></tr>\n",
       "\t<tr><td>artificial_mixture          </td><td>mnm_naive+flash_residual    </td><td>838                         </td><td>853                         </td><td>0.018                       </td></tr>\n",
       "\t<tr><td>artificial_mixture          </td><td>mnm_naive+oracle_residual   </td><td>816                         </td><td>841                         </td><td>0.030                       </td></tr>\n",
       "\t<tr><td>artificial_mixture          </td><td>mnm_oracle+flash_residual   </td><td>895                         </td><td>899                         </td><td>0.004                       </td></tr>\n",
       "\t<tr><td>artificial_mixture          </td><td>mnm_oracle+oracle_residual  </td><td>888                         </td><td>900                         </td><td>0.013                       </td></tr>\n",
       "\t<tr><td>artificial_mixture          </td><td>mnm_shared+flash_residual   </td><td>646                         </td><td>650                         </td><td>0.006                       </td></tr>\n",
       "\t<tr><td>artificial_mixture          </td><td>mnm_shared+oracle_residual  </td><td>605                         </td><td>623                         </td><td>0.029                       </td></tr>\n",
       "\t<tr><td>gtex_mixture                </td><td>mnm_identity+flash_residual </td><td>605                         </td><td>643                         </td><td>0.059                       </td></tr>\n",
       "\t<tr><td>gtex_mixture                </td><td>mnm_identity+oracle_residual</td><td>649                         </td><td>688                         </td><td>0.057                       </td></tr>\n",
       "\t<tr><td>gtex_mixture                </td><td>mnm_naive+flash_residual    </td><td>735                         </td><td>748                         </td><td>0.017                       </td></tr>\n",
       "\t<tr><td>gtex_mixture                </td><td>mnm_naive+oracle_residual   </td><td>752                         </td><td>768                         </td><td>0.021                       </td></tr>\n",
       "\t<tr><td>gtex_mixture                </td><td>mnm_oracle+flash_residual   </td><td>773                         </td><td>813                         </td><td>0.049                       </td></tr>\n",
       "\t<tr><td>gtex_mixture                </td><td>mnm_oracle+oracle_residual  </td><td>776                         </td><td>818                         </td><td>0.051                       </td></tr>\n",
       "\t<tr><td>gtex_mixture                </td><td>mnm_shared+flash_residual   </td><td>300                         </td><td>300                         </td><td>0.000                       </td></tr>\n",
       "\t<tr><td>gtex_mixture                </td><td>mnm_shared+oracle_residual  </td><td>306                         </td><td>308                         </td><td>0.006                       </td></tr>\n",
       "</tbody>\n",
       "</table>\n"
      ],
      "text/latex": [
       "\\begin{tabular}{r|lllll}\n",
       " scenario & method & valid & total & fdr\\\\\n",
       "\\hline\n",
       "\t artificial\\_mixture             & mnm\\_identity+flash\\_residual  & 771                              & 817                              & 0.056                           \\\\\n",
       "\t artificial\\_mixture             & mnm\\_identity+oracle\\_residual & 776                              & 830                              & 0.065                           \\\\\n",
       "\t artificial\\_mixture             & mnm\\_naive+flash\\_residual     & 838                              & 853                              & 0.018                           \\\\\n",
       "\t artificial\\_mixture             & mnm\\_naive+oracle\\_residual    & 816                              & 841                              & 0.030                           \\\\\n",
       "\t artificial\\_mixture             & mnm\\_oracle+flash\\_residual    & 895                              & 899                              & 0.004                           \\\\\n",
       "\t artificial\\_mixture             & mnm\\_oracle+oracle\\_residual   & 888                              & 900                              & 0.013                           \\\\\n",
       "\t artificial\\_mixture             & mnm\\_shared+flash\\_residual    & 646                              & 650                              & 0.006                           \\\\\n",
       "\t artificial\\_mixture             & mnm\\_shared+oracle\\_residual   & 605                              & 623                              & 0.029                           \\\\\n",
       "\t gtex\\_mixture                   & mnm\\_identity+flash\\_residual  & 605                              & 643                              & 0.059                           \\\\\n",
       "\t gtex\\_mixture                   & mnm\\_identity+oracle\\_residual & 649                              & 688                              & 0.057                           \\\\\n",
       "\t gtex\\_mixture                   & mnm\\_naive+flash\\_residual     & 735                              & 748                              & 0.017                           \\\\\n",
       "\t gtex\\_mixture                   & mnm\\_naive+oracle\\_residual    & 752                              & 768                              & 0.021                           \\\\\n",
       "\t gtex\\_mixture                   & mnm\\_oracle+flash\\_residual    & 773                              & 813                              & 0.049                           \\\\\n",
       "\t gtex\\_mixture                   & mnm\\_oracle+oracle\\_residual   & 776                              & 818                              & 0.051                           \\\\\n",
       "\t gtex\\_mixture                   & mnm\\_shared+flash\\_residual    & 300                              & 300                              & 0.000                           \\\\\n",
       "\t gtex\\_mixture                   & mnm\\_shared+oracle\\_residual   & 306                              & 308                              & 0.006                           \\\\\n",
       "\\end{tabular}\n"
      ],
      "text/markdown": [
       "\n",
       "scenario | method | valid | total | fdr | \n",
       "|---|---|---|---|---|---|---|---|---|---|---|---|---|---|---|---|\n",
       "| artificial_mixture           | mnm_identity+flash_residual  | 771                          | 817                          | 0.056                        | \n",
       "| artificial_mixture           | mnm_identity+oracle_residual | 776                          | 830                          | 0.065                        | \n",
       "| artificial_mixture           | mnm_naive+flash_residual     | 838                          | 853                          | 0.018                        | \n",
       "| artificial_mixture           | mnm_naive+oracle_residual    | 816                          | 841                          | 0.030                        | \n",
       "| artificial_mixture           | mnm_oracle+flash_residual    | 895                          | 899                          | 0.004                        | \n",
       "| artificial_mixture           | mnm_oracle+oracle_residual   | 888                          | 900                          | 0.013                        | \n",
       "| artificial_mixture           | mnm_shared+flash_residual    | 646                          | 650                          | 0.006                        | \n",
       "| artificial_mixture           | mnm_shared+oracle_residual   | 605                          | 623                          | 0.029                        | \n",
       "| gtex_mixture                 | mnm_identity+flash_residual  | 605                          | 643                          | 0.059                        | \n",
       "| gtex_mixture                 | mnm_identity+oracle_residual | 649                          | 688                          | 0.057                        | \n",
       "| gtex_mixture                 | mnm_naive+flash_residual     | 735                          | 748                          | 0.017                        | \n",
       "| gtex_mixture                 | mnm_naive+oracle_residual    | 752                          | 768                          | 0.021                        | \n",
       "| gtex_mixture                 | mnm_oracle+flash_residual    | 773                          | 813                          | 0.049                        | \n",
       "| gtex_mixture                 | mnm_oracle+oracle_residual   | 776                          | 818                          | 0.051                        | \n",
       "| gtex_mixture                 | mnm_shared+flash_residual    | 300                          | 300                          | 0.000                        | \n",
       "| gtex_mixture                 | mnm_shared+oracle_residual   | 306                          | 308                          | 0.006                        | \n",
       "\n",
       "\n"
      ],
      "text/plain": [
       "   scenario           method                       valid total fdr  \n",
       "1  artificial_mixture mnm_identity+flash_residual  771   817   0.056\n",
       "2  artificial_mixture mnm_identity+oracle_residual 776   830   0.065\n",
       "3  artificial_mixture mnm_naive+flash_residual     838   853   0.018\n",
       "4  artificial_mixture mnm_naive+oracle_residual    816   841   0.030\n",
       "5  artificial_mixture mnm_oracle+flash_residual    895   899   0.004\n",
       "6  artificial_mixture mnm_oracle+oracle_residual   888   900   0.013\n",
       "7  artificial_mixture mnm_shared+flash_residual    646   650   0.006\n",
       "8  artificial_mixture mnm_shared+oracle_residual   605   623   0.029\n",
       "9  gtex_mixture       mnm_identity+flash_residual  605   643   0.059\n",
       "10 gtex_mixture       mnm_identity+oracle_residual 649   688   0.057\n",
       "11 gtex_mixture       mnm_naive+flash_residual     735   748   0.017\n",
       "12 gtex_mixture       mnm_naive+oracle_residual    752   768   0.021\n",
       "13 gtex_mixture       mnm_oracle+flash_residual    773   813   0.049\n",
       "14 gtex_mixture       mnm_oracle+oracle_residual   776   818   0.051\n",
       "15 gtex_mixture       mnm_shared+flash_residual    300   300   0.000\n",
       "16 gtex_mixture       mnm_shared+oracle_residual   306   308   0.006"
      ]
     },
     "metadata": {},
     "output_type": "display_data"
    }
   ],
   "source": [
    "valid = aggregate(valid ~ scenario + method, res, sum)\n",
    "total = aggregate(total ~ scenario + method, res, sum)\n",
    "fdr = merge(valid, total, by = c( 'scenario' , 'method'))\n",
    "fdr$fdr = round((fdr$total - fdr$valid)/fdr$total,3)\n",
    "fdr = fdr[order(fdr$scenario),]\n",
    "fdr"
   ]
  },
  {
   "cell_type": "markdown",
   "metadata": {
    "kernel": "R"
   },
   "source": [
    "## Convergence\n",
    "\n",
    "Based on ELBO. In principle all runs should converge by ELBO. If it is not converged, then it means either ELBO is not non-increasing or it exceeds max iteration."
   ]
  },
  {
   "cell_type": "code",
   "execution_count": 25,
   "metadata": {
    "kernel": "R"
   },
   "outputs": [
    {
     "data": {
      "text/html": [
       "<table>\n",
       "<thead><tr><th></th><th scope=col>scenario</th><th scope=col>method</th><th scope=col>converged</th></tr></thead>\n",
       "<tbody>\n",
       "\t<tr><th scope=row>1</th><td>artificial_mixture          </td><td>mnm_identity+flash_residual </td><td>1.0000000                   </td></tr>\n",
       "\t<tr><th scope=row>3</th><td>artificial_mixture          </td><td>mnm_identity+oracle_residual</td><td>1.0000000                   </td></tr>\n",
       "\t<tr><th scope=row>5</th><td>artificial_mixture          </td><td>mnm_naive+flash_residual    </td><td>1.0000000                   </td></tr>\n",
       "\t<tr><th scope=row>7</th><td>artificial_mixture          </td><td>mnm_naive+oracle_residual   </td><td>1.0000000                   </td></tr>\n",
       "\t<tr><th scope=row>9</th><td>artificial_mixture          </td><td>mnm_oracle+flash_residual   </td><td>1.0000000                   </td></tr>\n",
       "\t<tr><th scope=row>11</th><td>artificial_mixture          </td><td>mnm_oracle+oracle_residual  </td><td>1.0000000                   </td></tr>\n",
       "\t<tr><th scope=row>13</th><td>artificial_mixture          </td><td>mnm_shared+flash_residual   </td><td>1.0000000                   </td></tr>\n",
       "\t<tr><th scope=row>15</th><td>artificial_mixture          </td><td>mnm_shared+oracle_residual  </td><td>0.9933333                   </td></tr>\n",
       "\t<tr><th scope=row>2</th><td>gtex_mixture                </td><td>mnm_identity+flash_residual </td><td>1.0000000                   </td></tr>\n",
       "\t<tr><th scope=row>4</th><td>gtex_mixture                </td><td>mnm_identity+oracle_residual</td><td>1.0000000                   </td></tr>\n",
       "\t<tr><th scope=row>6</th><td>gtex_mixture                </td><td>mnm_naive+flash_residual    </td><td>1.0000000                   </td></tr>\n",
       "\t<tr><th scope=row>8</th><td>gtex_mixture                </td><td>mnm_naive+oracle_residual   </td><td>1.0000000                   </td></tr>\n",
       "\t<tr><th scope=row>10</th><td>gtex_mixture                </td><td>mnm_oracle+flash_residual   </td><td>1.0000000                   </td></tr>\n",
       "\t<tr><th scope=row>12</th><td>gtex_mixture                </td><td>mnm_oracle+oracle_residual  </td><td>1.0000000                   </td></tr>\n",
       "\t<tr><th scope=row>14</th><td>gtex_mixture                </td><td>mnm_shared+flash_residual   </td><td>1.0000000                   </td></tr>\n",
       "\t<tr><th scope=row>16</th><td>gtex_mixture                </td><td>mnm_shared+oracle_residual  </td><td>1.0000000                   </td></tr>\n",
       "</tbody>\n",
       "</table>\n"
      ],
      "text/latex": [
       "\\begin{tabular}{r|lll}\n",
       "  & scenario & method & converged\\\\\n",
       "\\hline\n",
       "\t1 & artificial\\_mixture             & mnm\\_identity+flash\\_residual  & 1.0000000                       \\\\\n",
       "\t3 & artificial\\_mixture             & mnm\\_identity+oracle\\_residual & 1.0000000                       \\\\\n",
       "\t5 & artificial\\_mixture             & mnm\\_naive+flash\\_residual     & 1.0000000                       \\\\\n",
       "\t7 & artificial\\_mixture             & mnm\\_naive+oracle\\_residual    & 1.0000000                       \\\\\n",
       "\t9 & artificial\\_mixture             & mnm\\_oracle+flash\\_residual    & 1.0000000                       \\\\\n",
       "\t11 & artificial\\_mixture             & mnm\\_oracle+oracle\\_residual   & 1.0000000                       \\\\\n",
       "\t13 & artificial\\_mixture             & mnm\\_shared+flash\\_residual    & 1.0000000                       \\\\\n",
       "\t15 & artificial\\_mixture             & mnm\\_shared+oracle\\_residual   & 0.9933333                       \\\\\n",
       "\t2 & gtex\\_mixture                   & mnm\\_identity+flash\\_residual  & 1.0000000                       \\\\\n",
       "\t4 & gtex\\_mixture                   & mnm\\_identity+oracle\\_residual & 1.0000000                       \\\\\n",
       "\t6 & gtex\\_mixture                   & mnm\\_naive+flash\\_residual     & 1.0000000                       \\\\\n",
       "\t8 & gtex\\_mixture                   & mnm\\_naive+oracle\\_residual    & 1.0000000                       \\\\\n",
       "\t10 & gtex\\_mixture                   & mnm\\_oracle+flash\\_residual    & 1.0000000                       \\\\\n",
       "\t12 & gtex\\_mixture                   & mnm\\_oracle+oracle\\_residual   & 1.0000000                       \\\\\n",
       "\t14 & gtex\\_mixture                   & mnm\\_shared+flash\\_residual    & 1.0000000                       \\\\\n",
       "\t16 & gtex\\_mixture                   & mnm\\_shared+oracle\\_residual   & 1.0000000                       \\\\\n",
       "\\end{tabular}\n"
      ],
      "text/markdown": [
       "\n",
       "| <!--/--> | scenario | method | converged | \n",
       "|---|---|---|---|---|---|---|---|---|---|---|---|---|---|---|---|\n",
       "| 1 | artificial_mixture           | mnm_identity+flash_residual  | 1.0000000                    | \n",
       "| 3 | artificial_mixture           | mnm_identity+oracle_residual | 1.0000000                    | \n",
       "| 5 | artificial_mixture           | mnm_naive+flash_residual     | 1.0000000                    | \n",
       "| 7 | artificial_mixture           | mnm_naive+oracle_residual    | 1.0000000                    | \n",
       "| 9 | artificial_mixture           | mnm_oracle+flash_residual    | 1.0000000                    | \n",
       "| 11 | artificial_mixture           | mnm_oracle+oracle_residual   | 1.0000000                    | \n",
       "| 13 | artificial_mixture           | mnm_shared+flash_residual    | 1.0000000                    | \n",
       "| 15 | artificial_mixture           | mnm_shared+oracle_residual   | 0.9933333                    | \n",
       "| 2 | gtex_mixture                 | mnm_identity+flash_residual  | 1.0000000                    | \n",
       "| 4 | gtex_mixture                 | mnm_identity+oracle_residual | 1.0000000                    | \n",
       "| 6 | gtex_mixture                 | mnm_naive+flash_residual     | 1.0000000                    | \n",
       "| 8 | gtex_mixture                 | mnm_naive+oracle_residual    | 1.0000000                    | \n",
       "| 10 | gtex_mixture                 | mnm_oracle+flash_residual    | 1.0000000                    | \n",
       "| 12 | gtex_mixture                 | mnm_oracle+oracle_residual   | 1.0000000                    | \n",
       "| 14 | gtex_mixture                 | mnm_shared+flash_residual    | 1.0000000                    | \n",
       "| 16 | gtex_mixture                 | mnm_shared+oracle_residual   | 1.0000000                    | \n",
       "\n",
       "\n"
      ],
      "text/plain": [
       "   scenario           method                       converged\n",
       "1  artificial_mixture mnm_identity+flash_residual  1.0000000\n",
       "3  artificial_mixture mnm_identity+oracle_residual 1.0000000\n",
       "5  artificial_mixture mnm_naive+flash_residual     1.0000000\n",
       "7  artificial_mixture mnm_naive+oracle_residual    1.0000000\n",
       "9  artificial_mixture mnm_oracle+flash_residual    1.0000000\n",
       "11 artificial_mixture mnm_oracle+oracle_residual   1.0000000\n",
       "13 artificial_mixture mnm_shared+flash_residual    1.0000000\n",
       "15 artificial_mixture mnm_shared+oracle_residual   0.9933333\n",
       "2  gtex_mixture       mnm_identity+flash_residual  1.0000000\n",
       "4  gtex_mixture       mnm_identity+oracle_residual 1.0000000\n",
       "6  gtex_mixture       mnm_naive+flash_residual     1.0000000\n",
       "8  gtex_mixture       mnm_naive+oracle_residual    1.0000000\n",
       "10 gtex_mixture       mnm_oracle+flash_residual    1.0000000\n",
       "12 gtex_mixture       mnm_oracle+oracle_residual   1.0000000\n",
       "14 gtex_mixture       mnm_shared+flash_residual    1.0000000\n",
       "16 gtex_mixture       mnm_shared+oracle_residual   1.0000000"
      ]
     },
     "metadata": {},
     "output_type": "display_data"
    }
   ],
   "source": [
    "elbo_converged = aggregate(converged~scenario + method, res, mean)\n",
    "elbo_converged = elbo_converged[order(elbo_converged$scenario),]\n",
    "elbo_converged"
   ]
  }
 ],
 "metadata": {
  "kernelspec": {
   "display_name": "SoS",
   "language": "sos",
   "name": "sos"
  },
  "language_info": {
   "codemirror_mode": "sos",
   "file_extension": ".sos",
   "mimetype": "text/x-sos",
   "name": "sos",
   "nbconvert_exporter": "sos_notebook.converter.SoS_Exporter",
   "pygments_lexer": "sos"
  },
  "sos": {
   "kernels": [
    [
     "R",
     "ir",
     "R",
     "#DCDCDA"
    ]
   ],
   "version": "0.20.5"
  }
 },
 "nbformat": 4,
 "nbformat_minor": 4
}
