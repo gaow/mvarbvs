{
 "cells": [
  {
   "cell_type": "markdown",
   "metadata": {
    "kernel": "SoS"
   },
   "source": [
    "# Comparing computational efficiency of methods"
   ]
  },
  {
   "cell_type": "code",
   "execution_count": 1,
   "metadata": {
    "kernel": "SoS"
   },
   "outputs": [],
   "source": [
    "%revisions -s -n 10"
   ]
  },
  {
   "cell_type": "markdown",
   "metadata": {
    "kernel": "SoS"
   },
   "source": [
    "Previously I've ran this specific DSC using:\n",
    "\n",
    "```\n",
    "dsc susie.dsc --target run_comparison -o susie_comparison\n",
    "```\n",
    "\n",
    "Which focuses on simulated PVE = 0.2.\n",
    "\n",
    "So here I query from that result for computational time. Notice that for each susie and DAP run the two replicates were not performed in parallel (because they are relatively fast hence the lack of need) so benchmark time of susie and dap have to be divided by 2.\n",
    "\n",
    "Also there is some overhead of DAP, CAVIAR and FINEMAP in converting results format to command line acceptable formats. So the benchmark is a bit more favorable to susie. However we run susie unoptimized in terms of computational efficiency and some trivial optimization will boost susie's speed. So let's just ignore all these minor caveats now. The more significant chunk of computation is in the actual finemapping algorithm.\n",
    "\n",
    "Here we focus on 3 causal signal scenario."
   ]
  },
  {
   "cell_type": "code",
   "execution_count": 2,
   "metadata": {
    "kernel": "SoS"
   },
   "outputs": [],
   "source": [
    "[global]\n",
    "cwd = path('~/GIT/github/mvarbvs/dsc')\n",
    "dirname = path(f'{cwd:a}/susie_comparison/')\n",
    "date = '1008'\n",
    "susie_prior = 0.1\n",
    "null_weight = 0.0\n",
    "def fmtP(x):\n",
    "    return str(x).replace(\".\", \"p\")"
   ]
  },
  {
   "cell_type": "markdown",
   "metadata": {
    "kernel": "SoS"
   },
   "source": [
    "## Get data"
   ]
  },
  {
   "cell_type": "code",
   "execution_count": 3,
   "metadata": {
    "kernel": "SoS"
   },
   "outputs": [],
   "source": [
    "[speed_1]\n",
    "output: f'{dirname}/speed_comparison_{date}.rds'\n",
    "R: expand = '${ }', workdir = cwd\n",
    "    dap_out = dscrutils::dscquery(${dirname:br}, \n",
    "                        target = \"liter_data.dataset lm_less.n_signal fit_dap\")\n",
    "    susie_out = dscrutils::dscquery(${dirname:br}, \n",
    "                        target = \"liter_data.dataset lm_less.n_signal fit_susie fit_susie.prior_var fit_susie.null_weight\")\n",
    "    caviar_out = dscrutils::dscquery(${dirname:br}, \n",
    "                        target = \"liter_data.dataset lm_less.n_signal fit_caviar fit_caviar.args\")\n",
    "    finemap_out = dscrutils::dscquery(${dirname:br}, \n",
    "                        target = \"liter_data.dataset lm_less.n_signal fit_finemap fit_finemap.args\")\n",
    "    saveRDS(list(dap=dap_out, susie=susie_out, caviar=caviar_out, finemap=finemap_out), ${_output:r})"
   ]
  },
  {
   "cell_type": "markdown",
   "metadata": {
    "kernel": "SoS"
   },
   "source": [
    "## Speed comparison"
   ]
  },
  {
   "cell_type": "code",
   "execution_count": 4,
   "metadata": {
    "kernel": "SoS"
   },
   "outputs": [],
   "source": [
    "[speed_2]\n",
    "# CAVIAR and FINEMAP runs were paralleled for performance. Need to factor it in\n",
    "paralleled = 2\n",
    "output: f'{_input:n}_prior_{fmtP(susie_prior)}_null_{fmtP(null_weight)}.rds'\n",
    "R: stdout = f'{_output:n}.log', expand = '${ }', workdir = cwd\n",
    "    dat = readRDS(${_input:r})\n",
    "    dap_out = dat$dap\n",
    "    caviar_out = dat$caviar\n",
    "    susie_out = dat$susie\n",
    "    finemap_out = dat$finemap\n",
    "    # favorite susie flavor\n",
    "    susie_out = susie_out[which(susie_out$fit_susie.prior_var == ${susie_prior} & susie_out$fit_susie.null_weight == ${null_weight}), ]\n",
    "    susie_out = subset(susie_out, select =-c(fit_susie.prior_var, fit_susie.null_weight))\n",
    "\n",
    "    data_sets = unique(susie_out$liter_data.dataset)\n",
    "    res = matrix(0, length(data_sets), 4)\n",
    "    colnames(res) = c('SuSiE', 'DAP', 'FINEMAP', 'CAVIAR')\n",
    "    s = 3\n",
    "    i = 0\n",
    "    for (d in data_sets) {\n",
    "        i = i + 1\n",
    "        out_files = susie_out[which(susie_out$lm_less.n_signal == s & susie_out$liter_data.dataset == d),c(\"fit_susie.output.file\"),drop=FALSE]\n",
    "        res[i,1] = dscrutils::read_dsc(paste0(${dirname:r}, '/', out_files[1,1]))$DSC_DEBUG$time$elapsed / ${paralleled}\n",
    "        out_files = dap_out[which(dap_out$lm_less.n_signal == s & dap_out$liter_data.dataset == d),c(\"fit_dap.output.file\"),drop=FALSE]\n",
    "        res[i,2] = dscrutils::read_dsc(paste0(${dirname:r}, '/', out_files[1,1]))$DSC_DEBUG$time / ${paralleled}\n",
    "        out_files = finemap_out[which(finemap_out$lm_less.n_signal == s & finemap_out$liter_data.dataset == d & finemap_out$fit_finemap.args == paste('--n-causal-max', s)),c(\"fit_finemap.output.file\"),drop=FALSE]\n",
    "        res[i,3] = dscrutils::read_dsc(paste0(${dirname:r}, '/', out_files[1,1]))$DSC_DEBUG$time$elapsed\n",
    "        out_files = caviar_out[which(caviar_out$lm_less.n_signal == s & caviar_out$liter_data.dataset == d & caviar_out$fit_caviar.args == paste('-g 0.001 -c', s)),c(\"fit_caviar.output.file\"),drop=FALSE]\n",
    "        res[i,4] = dscrutils::read_dsc(paste0(${dirname:r}, '/', out_files[1,1]))$DSC_DEBUG$time$elapsed\n",
    "    }\n",
    "    saveRDS(res, ${_output:r})"
   ]
  },
  {
   "cell_type": "code",
   "execution_count": null,
   "metadata": {
    "kernel": "SoS"
   },
   "outputs": [],
   "source": [
    "[speed_3]\n",
    "input: group_by = 1, concurrent = True\n",
    "output: f'{_input:n}.png'\n",
    "R: expand = '${ }'\n",
    "    dat = readRDS(${_input:r})\n",
    "    library(reshape2)\n",
    "    dat = melt(data = dat, measure.vars = colnames(dat))\n",
    "    colnames(dat) = c('id', 'method', 'time')\n",
    "    library(ggplot2)\n",
    "    library(cowplot)\n",
    "    # Basic violin plot\n",
    "    png(${_output:r}, 600, 600)\n",
    "    p = ggplot(dat, aes(x=method, y=time)) + \n",
    "      geom_violin(trim=FALSE, fill=\"gray\")+\n",
    "      labs(title=\"\",x=\"method\", y = \"time elapsed (seconds)\")+\n",
    "      geom_boxplot(width=0.1)+\n",
    "      theme_cowplot()\n",
    "    print(p)\n",
    "    dev.off()"
   ]
  },
  {
   "cell_type": "code",
   "execution_count": 2,
   "metadata": {
    "kernel": "SoS"
   },
   "outputs": [
    {
     "name": "stdout",
     "output_type": "stream",
     "text": [
      "/home/gaow/GIT/github/mvarbvs/dsc"
     ]
    }
   ],
   "source": [
    "%cd ~/GIT/github/mvarbvs/dsc"
   ]
  },
  {
   "cell_type": "markdown",
   "metadata": {
    "kernel": "SoS"
   },
   "source": [
    "## susie estimate residual variance"
   ]
  },
  {
   "cell_type": "code",
   "execution_count": 21,
   "metadata": {
    "kernel": "R"
   },
   "outputs": [],
   "source": [
    "dat = readRDS('susie_comparison/speed_comparison_0630_estvar_true.rds')"
   ]
  },
  {
   "cell_type": "code",
   "execution_count": 24,
   "metadata": {
    "kernel": "R"
   },
   "outputs": [
    {
     "data": {
      "text/html": [
       "<table>\n",
       "<tbody>\n",
       "\t<tr><th scope=row>susie</th><td>   2.97561 </td><td>   0.925000</td><td>   7.26000 </td></tr>\n",
       "\t<tr><th scope=row>dap</th><td>  12.44603 </td><td>   9.781471</td><td>  24.97176 </td></tr>\n",
       "\t<tr><th scope=row>finemap</th><td>  99.01583 </td><td>  52.553000</td><td> 179.71600 </td></tr>\n",
       "\t<tr><th scope=row>caviar</th><td>3398.43827 </td><td>3364.481000</td><td>3434.94400 </td></tr>\n",
       "</tbody>\n",
       "</table>\n"
      ],
      "text/latex": [
       "\\begin{tabular}{r|lll}\n",
       "\tsusie &    2.97561  &    0.925000 &    7.26000 \\\\\n",
       "\tdap &   12.44603  &    9.781471 &   24.97176 \\\\\n",
       "\tfinemap &   99.01583  &   52.553000 &  179.71600 \\\\\n",
       "\tcaviar & 3398.43827  & 3364.481000 & 3434.94400 \\\\\n",
       "\\end{tabular}\n"
      ],
      "text/markdown": [
       "\n",
       "| susie |    2.97561  |    0.925000 |    7.26000  | \n",
       "| dap |   12.44603  |    9.781471 |   24.97176  | \n",
       "| finemap |   99.01583  |   52.553000 |  179.71600  | \n",
       "| caviar | 3398.43827  | 3364.481000 | 3434.94400  | \n",
       "\n",
       "\n"
      ],
      "text/plain": [
       "        [,1]       [,2]        [,3]      \n",
       "susie      2.97561    0.925000    7.26000\n",
       "dap       12.44603    9.781471   24.97176\n",
       "finemap   99.01583   52.553000  179.71600\n",
       "caviar  3398.43827 3364.481000 3434.94400"
      ]
     },
     "metadata": {},
     "output_type": "display_data"
    }
   ],
   "source": [
    "t(apply(dat, 2, function(x) c(mean(x), min(x), max(x))))"
   ]
  },
  {
   "cell_type": "code",
   "execution_count": 18,
   "metadata": {
    "kernel": "SoS"
   },
   "outputs": [
    {
     "data": {},
     "metadata": {},
     "output_type": "display_data"
    },
    {
     "data": {
      "image/png": "[encoded data removed]",
      "text/plain": [
       "plot without title"
      ]
     },
     "metadata": {},
     "output_type": "display_data"
    }
   ],
   "source": [
    "%preview susie_comparison/speed_comparison_0630_estvar_true.png"
   ]
  },
  {
   "cell_type": "code",
   "execution_count": null,
   "metadata": {
    "kernel": "SoS"
   },
   "outputs": [],
   "source": [
    "%preview "
   ]
  }
 ],
 "metadata": {
  "kernelspec": {
   "display_name": "SoS",
   "language": "sos",
   "name": "sos"
  },
  "language_info": {
   "codemirror_mode": "sos",
   "file_extension": ".sos",
   "mimetype": "text/x-sos",
   "name": "sos",
   "nbconvert_exporter": "sos_notebook.converter.SoS_Exporter",
   "pygments_lexer": "sos"
  },
  "sos": {
   "default_kernel": "SoS",
   "kernels": [
    [
     "R",
     "ir",
     "R",
     "#DCDCDA"
    ],
    [
     "SoS",
     "sos",
     "",
     ""
    ]
   ],
   "panel": {
    "displayed": false,
    "height": 0,
    "style": "side"
   },
   "version": "0.16.11"
  }
 },
 "nbformat": 4,
 "nbformat_minor": 2
}
