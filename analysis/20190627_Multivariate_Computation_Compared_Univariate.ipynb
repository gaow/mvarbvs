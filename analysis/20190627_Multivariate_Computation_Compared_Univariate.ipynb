{
 "cells": [
  {
   "cell_type": "markdown",
   "metadata": {},
   "source": [
    "# Comparing multivariate analysis using diagonal priors with univariate computations"
   ]
  },
  {
   "cell_type": "markdown",
   "metadata": {},
   "source": [
    "This is to verify that the mmbr implementation is correct for the truthly multivariate computations. Previously I have only compared it for the degenerated case where the prior matrix is 1 by 1."
   ]
  },
  {
   "cell_type": "markdown",
   "metadata": {},
   "source": [
    "## Simulate data"
   ]
  },
  {
   "cell_type": "code",
   "execution_count": 1,
   "metadata": {},
   "outputs": [],
   "source": [
    "set.seed(1)\n",
    "n = 1000\n",
    "p = 1000\n",
    "X = matrix(rnorm(n*p),nrow=n,ncol=p)\n",
    "beta1 = beta2 = rep(0,p)\n",
    "beta1[1:4] = runif(4)\n",
    "beta2[1:4] = runif(4)\n",
    "y1 = X %*% beta1 + rnorm(n)\n",
    "y2 = X %*% beta2 + rnorm(n)"
   ]
  },
  {
   "cell_type": "code",
   "execution_count": 2,
   "metadata": {},
   "outputs": [
    {
     "data": {
      "text/html": [
       "<ol class=list-inline>\n",
       "\t<li>0.614305987721309</li>\n",
       "\t<li>0.320199134992436</li>\n",
       "\t<li>0.205220706528053</li>\n",
       "\t<li>0.831295673502609</li>\n",
       "</ol>\n"
      ],
      "text/latex": [
       "\\begin{enumerate*}\n",
       "\\item 0.614305987721309\n",
       "\\item 0.320199134992436\n",
       "\\item 0.205220706528053\n",
       "\\item 0.831295673502609\n",
       "\\end{enumerate*}\n"
      ],
      "text/markdown": [
       "1. 0.614305987721309\n",
       "2. 0.320199134992436\n",
       "3. 0.205220706528053\n",
       "4. 0.831295673502609\n",
       "\n",
       "\n"
      ],
      "text/plain": [
       "[1] 0.6143060 0.3201991 0.2052207 0.8312957"
      ]
     },
     "metadata": {},
     "output_type": "display_data"
    }
   ],
   "source": [
    "beta1[1:4]"
   ]
  },
  {
   "cell_type": "code",
   "execution_count": 3,
   "metadata": {},
   "outputs": [
    {
     "data": {
      "text/html": [
       "<ol class=list-inline>\n",
       "\t<li>0.146828331751749</li>\n",
       "\t<li>0.368926718831062</li>\n",
       "\t<li>0.732725627720356</li>\n",
       "\t<li>0.773408411303535</li>\n",
       "</ol>\n"
      ],
      "text/latex": [
       "\\begin{enumerate*}\n",
       "\\item 0.146828331751749\n",
       "\\item 0.368926718831062\n",
       "\\item 0.732725627720356\n",
       "\\item 0.773408411303535\n",
       "\\end{enumerate*}\n"
      ],
      "text/markdown": [
       "1. 0.146828331751749\n",
       "2. 0.368926718831062\n",
       "3. 0.732725627720356\n",
       "4. 0.773408411303535\n",
       "\n",
       "\n"
      ],
      "text/plain": [
       "[1] 0.1468283 0.3689267 0.7327256 0.7734084"
      ]
     },
     "metadata": {},
     "output_type": "display_data"
    }
   ],
   "source": [
    "beta2[1:4]"
   ]
  },
  {
   "cell_type": "markdown",
   "metadata": {},
   "source": [
    "## Run univariate computation"
   ]
  },
  {
   "cell_type": "code",
   "execution_count": 4,
   "metadata": {},
   "outputs": [],
   "source": [
    "m1 = susieR::susie(X,y1,residual_variance = var(y1), estimate_residual_variance=F, scaled_prior_variance = 0.2, L=10)\n",
    "bhat1 = coef(m1)"
   ]
  },
  {
   "cell_type": "code",
   "execution_count": 5,
   "metadata": {},
   "outputs": [],
   "source": [
    "m2 = susieR::susie(X,y2,residual_variance = var(y2), estimate_residual_variance=F, scaled_prior_variance = 0.2, L=10)\n",
    "bhat2 = coef(m2)"
   ]
  },
  {
   "cell_type": "code",
   "execution_count": 6,
   "metadata": {},
   "outputs": [
    {
     "data": {
      "text/html": [
       "<ol class=list-inline>\n",
       "\t<li>0.647417870323723</li>\n",
       "\t<li>0.362699234898158</li>\n",
       "\t<li>1.969718455384e-11</li>\n",
       "\t<li>0.819350687144191</li>\n",
       "</ol>\n"
      ],
      "text/latex": [
       "\\begin{enumerate*}\n",
       "\\item 0.647417870323723\n",
       "\\item 0.362699234898158\n",
       "\\item 1.969718455384e-11\n",
       "\\item 0.819350687144191\n",
       "\\end{enumerate*}\n"
      ],
      "text/markdown": [
       "1. 0.647417870323723\n",
       "2. 0.362699234898158\n",
       "3. 1.969718455384e-11\n",
       "4. 0.819350687144191\n",
       "\n",
       "\n"
      ],
      "text/plain": [
       "[1] 6.474179e-01 3.626992e-01 1.969718e-11 8.193507e-01"
      ]
     },
     "metadata": {},
     "output_type": "display_data"
    }
   ],
   "source": [
    "bhat1[2:5]"
   ]
  },
  {
   "cell_type": "code",
   "execution_count": 7,
   "metadata": {},
   "outputs": [
    {
     "data": {
      "text/html": [
       "<ol class=list-inline>\n",
       "\t<li>3.72946390015414e-13</li>\n",
       "\t<li>0.38634239597973</li>\n",
       "\t<li>0.743487419984576</li>\n",
       "\t<li>0.735604609664396</li>\n",
       "</ol>\n"
      ],
      "text/latex": [
       "\\begin{enumerate*}\n",
       "\\item 3.72946390015414e-13\n",
       "\\item 0.38634239597973\n",
       "\\item 0.743487419984576\n",
       "\\item 0.735604609664396\n",
       "\\end{enumerate*}\n"
      ],
      "text/markdown": [
       "1. 3.72946390015414e-13\n",
       "2. 0.38634239597973\n",
       "3. 0.743487419984576\n",
       "4. 0.735604609664396\n",
       "\n",
       "\n"
      ],
      "text/plain": [
       "[1] 3.729464e-13 3.863424e-01 7.434874e-01 7.356046e-01"
      ]
     },
     "metadata": {},
     "output_type": "display_data"
    }
   ],
   "source": [
    "bhat2[2:5]"
   ]
  },
  {
   "cell_type": "markdown",
   "metadata": {},
   "source": [
    "## Run multivariate computation"
   ]
  },
  {
   "cell_type": "code",
   "execution_count": 8,
   "metadata": {},
   "outputs": [],
   "source": [
    "prior_var = diag(0.2 * c(var(y1), var(y2)))\n",
    "residual_var = diag(c(var(y1), var(y2)))\n",
    "y = cbind(y1,y2)\n",
    "data = mmbr:::DenseData$new(X,y)"
   ]
  },
  {
   "cell_type": "code",
   "execution_count": 9,
   "metadata": {},
   "outputs": [],
   "source": [
    "prior_covar = mmbr:::MashInitializer$new(list(prior_var), 1, 1, 0)"
   ]
  },
  {
   "cell_type": "code",
   "execution_count": 10,
   "metadata": {},
   "outputs": [
    {
     "name": "stdout",
     "output_type": "stream",
     "text": [
      "[1] 1\n"
     ]
    }
   ],
   "source": [
    "m = mmbr::susie(X, y, L=10, V=prior_covar)"
   ]
  },
  {
   "cell_type": "code",
   "execution_count": 11,
   "metadata": {},
   "outputs": [
    {
     "data": {
      "text/html": [
       "1002"
      ],
      "text/latex": [
       "1002"
      ],
      "text/markdown": [
       "1002"
      ],
      "text/plain": [
       "[1] 1002"
      ]
     },
     "metadata": {},
     "output_type": "display_data"
    }
   ],
   "source": [
    "length(m$coef)"
   ]
  },
  {
   "cell_type": "markdown",
   "metadata": {},
   "source": [
    "## Get lfsr"
   ]
  },
  {
   "cell_type": "code",
   "execution_count": 12,
   "metadata": {},
   "outputs": [
    {
     "data": {
      "text/html": [
       "<table>\n",
       "<tbody>\n",
       "\t<tr><td>0.000000e+00</td><td>0.000000e+00</td></tr>\n",
       "\t<tr><td>1.198719e-04</td><td>0.000000e+00</td></tr>\n",
       "\t<tr><td>0.000000e+00</td><td>5.209887e-05</td></tr>\n",
       "\t<tr><td>5.884182e-15</td><td>0.000000e+00</td></tr>\n",
       "\t<tr><td>1.000000e+00</td><td>1.000000e+00</td></tr>\n",
       "\t<tr><td>1.000000e+00</td><td>1.000000e+00</td></tr>\n",
       "\t<tr><td>1.000000e+00</td><td>1.000000e+00</td></tr>\n",
       "\t<tr><td>1.000000e+00</td><td>1.000000e+00</td></tr>\n",
       "\t<tr><td>1.000000e+00</td><td>1.000000e+00</td></tr>\n",
       "\t<tr><td>1.000000e+00</td><td>1.000000e+00</td></tr>\n",
       "</tbody>\n",
       "</table>\n"
      ],
      "text/latex": [
       "\\begin{tabular}{ll}\n",
       "\t 0.000000e+00 & 0.000000e+00\\\\\n",
       "\t 1.198719e-04 & 0.000000e+00\\\\\n",
       "\t 0.000000e+00 & 5.209887e-05\\\\\n",
       "\t 5.884182e-15 & 0.000000e+00\\\\\n",
       "\t 1.000000e+00 & 1.000000e+00\\\\\n",
       "\t 1.000000e+00 & 1.000000e+00\\\\\n",
       "\t 1.000000e+00 & 1.000000e+00\\\\\n",
       "\t 1.000000e+00 & 1.000000e+00\\\\\n",
       "\t 1.000000e+00 & 1.000000e+00\\\\\n",
       "\t 1.000000e+00 & 1.000000e+00\\\\\n",
       "\\end{tabular}\n"
      ],
      "text/markdown": [
       "\n",
       "| 0.000000e+00 | 0.000000e+00 | \n",
       "| 1.198719e-04 | 0.000000e+00 | \n",
       "| 0.000000e+00 | 5.209887e-05 | \n",
       "| 5.884182e-15 | 0.000000e+00 | \n",
       "| 1.000000e+00 | 1.000000e+00 | \n",
       "| 1.000000e+00 | 1.000000e+00 | \n",
       "| 1.000000e+00 | 1.000000e+00 | \n",
       "| 1.000000e+00 | 1.000000e+00 | \n",
       "| 1.000000e+00 | 1.000000e+00 | \n",
       "| 1.000000e+00 | 1.000000e+00 | \n",
       "\n",
       "\n"
      ],
      "text/plain": [
       "      [,1]         [,2]        \n",
       " [1,] 0.000000e+00 0.000000e+00\n",
       " [2,] 1.198719e-04 0.000000e+00\n",
       " [3,] 0.000000e+00 5.209887e-05\n",
       " [4,] 5.884182e-15 0.000000e+00\n",
       " [5,] 1.000000e+00 1.000000e+00\n",
       " [6,] 1.000000e+00 1.000000e+00\n",
       " [7,] 1.000000e+00 1.000000e+00\n",
       " [8,] 1.000000e+00 1.000000e+00\n",
       " [9,] 1.000000e+00 1.000000e+00\n",
       "[10,] 1.000000e+00 1.000000e+00"
      ]
     },
     "metadata": {},
     "output_type": "display_data"
    }
   ],
   "source": [
    "mmbr::mmbr_get_cs_lfsr(m)"
   ]
  },
  {
   "cell_type": "markdown",
   "metadata": {},
   "source": [
    "## Get PIP per condition"
   ]
  },
  {
   "cell_type": "code",
   "execution_count": 14,
   "metadata": {},
   "outputs": [],
   "source": [
    "pip_cond = mmbr:::mmbr_get_pip_per_condition(m, prior_covar)"
   ]
  },
  {
   "cell_type": "code",
   "execution_count": 15,
   "metadata": {},
   "outputs": [
    {
     "data": {
      "text/html": [
       "<ol class=list-inline>\n",
       "\t<li>1000</li>\n",
       "\t<li>2</li>\n",
       "</ol>\n"
      ],
      "text/latex": [
       "\\begin{enumerate*}\n",
       "\\item 1000\n",
       "\\item 2\n",
       "\\end{enumerate*}\n"
      ],
      "text/markdown": [
       "1. 1000\n",
       "2. 2\n",
       "\n",
       "\n"
      ],
      "text/plain": [
       "[1] 1000    2"
      ]
     },
     "metadata": {},
     "output_type": "display_data"
    }
   ],
   "source": [
    "dim(pip_cond)"
   ]
  },
  {
   "cell_type": "code",
   "execution_count": 16,
   "metadata": {},
   "outputs": [
    {
     "data": {
      "text/html": [
       "<table>\n",
       "<tbody>\n",
       "\t<tr><td>1.000000000</td><td>1.000000000</td></tr>\n",
       "\t<tr><td>1.000000000</td><td>1.000000000</td></tr>\n",
       "\t<tr><td>1.000000000</td><td>1.000000000</td></tr>\n",
       "\t<tr><td>1.000000000</td><td>1.000000000</td></tr>\n",
       "\t<tr><td>0.004774091</td><td>0.004774091</td></tr>\n",
       "\t<tr><td>0.015642346</td><td>0.015642346</td></tr>\n",
       "</tbody>\n",
       "</table>\n"
      ],
      "text/latex": [
       "\\begin{tabular}{ll}\n",
       "\t 1.000000000 & 1.000000000\\\\\n",
       "\t 1.000000000 & 1.000000000\\\\\n",
       "\t 1.000000000 & 1.000000000\\\\\n",
       "\t 1.000000000 & 1.000000000\\\\\n",
       "\t 0.004774091 & 0.004774091\\\\\n",
       "\t 0.015642346 & 0.015642346\\\\\n",
       "\\end{tabular}\n"
      ],
      "text/markdown": [
       "\n",
       "| 1.000000000 | 1.000000000 | \n",
       "| 1.000000000 | 1.000000000 | \n",
       "| 1.000000000 | 1.000000000 | \n",
       "| 1.000000000 | 1.000000000 | \n",
       "| 0.004774091 | 0.004774091 | \n",
       "| 0.015642346 | 0.015642346 | \n",
       "\n",
       "\n"
      ],
      "text/plain": [
       "     [,1]        [,2]       \n",
       "[1,] 1.000000000 1.000000000\n",
       "[2,] 1.000000000 1.000000000\n",
       "[3,] 1.000000000 1.000000000\n",
       "[4,] 1.000000000 1.000000000\n",
       "[5,] 0.004774091 0.004774091\n",
       "[6,] 0.015642346 0.015642346"
      ]
     },
     "metadata": {},
     "output_type": "display_data"
    }
   ],
   "source": [
    "head(pip_cond)"
   ]
  }
 ],
 "metadata": {
  "kernelspec": {
   "display_name": "R",
   "language": "R",
   "name": "ir"
  },
  "language_info": {
   "codemirror_mode": "r",
   "file_extension": ".r",
   "mimetype": "text/x-r-source",
   "name": "R",
   "pygments_lexer": "r",
   "version": "3.5.3"
  }
 },
 "nbformat": 4,
 "nbformat_minor": 2
}
