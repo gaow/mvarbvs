{
 "cells": [
  {
   "cell_type": "markdown",
   "metadata": {
    "kernel": "SoS"
   },
   "source": [
    "# GREGOR enrichment analysis\n",
    "\n",
    "[GREGOR (Genomic Regulatory Elements and Gwas Overlap algoRithm)](https://genome.sph.umich.edu/wiki/GREGOR) is a tool built to evaluate global enrichment of trait-associated variants in experimentally annotated epigenomic regulatory features."
   ]
  },
  {
   "cell_type": "markdown",
   "metadata": {
    "kernel": "SoS"
   },
   "source": [
    "## Methods overview\n",
    "\n",
    "GREGOR performs enrichment analysis for given positive set of variants against matched negative set, matched by: \n",
    "\n",
    "- MAF\n",
    "- LD proxy\n",
    "- distance to TSS\n",
    "- Gene density\n",
    "\n",
    "Methods to obtain the column \"PValue\" from GREGOR software can be found in the GREGOR paper: https://pubmed.ncbi.nlm.nih.gov/25886982/. We have noticed some PValue are greater than 1. Also, p-value itself is not as informative compared to odds ratios of enrichment. We therefore parse intermediate outputs from GREGOR to get a 2 by 2 table where the rows are within annotation peak vs outside; the columns are positive set vs matched negative set. We perform Fisher's exact test to get both p-value and odds ratios. \n"
   ]
  },
  {
   "cell_type": "markdown",
   "metadata": {
    "kernel": "SoS"
   },
   "source": [
    "## Reference data preparation\n",
    "\n",
    "hg19.fa\n",
    "\n",
    "- Genome Reference: hg19 (GRCh37) or hg38 (GRCh38). \n",
    "- Download [link](http://hgdownload.cse.ucsc.edu/goldenPath/hg19/bigZips/hg19.fa.gz)"
   ]
  },
  {
   "cell_type": "markdown",
   "metadata": {
    "kernel": "SoS"
   },
   "source": [
    "### Annotation files\n",
    "\n",
    "Alkes Price's lab has some annotation files in `bed` format available for download:\n",
    "\n",
    "https://data.broadinstitute.org/alkesgroup/LDSCORE/\n",
    "\n",
    "eg `baselineLD_v2.2_bedfiles.tgz`.\n",
    "\n",
    "Annotation files are in `bed` format (for example: Promoter_UCSC.bed).\n",
    "\n",
    "        chr1\t9873\t16361\n",
    "        chr1\t32610\t36610\n",
    "        chr1\t67090\t71090\n",
    "        ...\n",
    "### GREGOR reference files\n",
    "\n",
    "GREGOR reference files for hg19 can be prepared from downloaded reference data, \n",
    "\n",
    "```\n",
    "cat \\\n",
    "    GREGOR.AFR.ref.r2.greater.than.0.7.tar.gz.part.00 \\\n",
    "    GREGOR.AFR.ref.r2.greater.than.0.7.tar.gz.part.01 \\\n",
    "    > GREGOR.AFR.ref.r2.greater.than.0.7.tar.gz\n",
    "tar zxvf GREGOR.AFR.ref.r2.greater.than.0.7.tar.gz\n",
    "```\n",
    "\n",
    "MD5SUM check:\n",
    "\n",
    "```\n",
    "AFR.part.0\t( MD5: 9926904128dd58d6bf1ad4f1e90638af )\n",
    "AFR.part.1\t( MD5: c1d30aff89a584bfa8c1fa1bdc197f21 )\n",
    "```\n",
    "\n",
    "Same for EUR data-set."
   ]
  },
  {
   "cell_type": "markdown",
   "metadata": {
    "kernel": "SoS"
   },
   "source": [
    "## Example command\n",
    "\n",
    "```\n",
    "sos run pipeline/gregor.ipynb gregor \\\n",
    "    --gregor-db /mnt/vast/hpc/csg/rf2872/data/GREGOR/REF \\\n",
    "    --index-snp-file GREGOR/example/example.index.snps.txt \\\n",
    "    --bed-file-index GREGOR/example/example.bed.file.index  \\\n",
    "    --container gregor.sif \n",
    "```"
   ]
  },
  {
   "cell_type": "code",
   "execution_count": 1,
   "metadata": {
    "kernel": "Bash"
   },
   "outputs": [
    {
     "name": "stdout",
     "output_type": "stream",
     "text": [
      "usage: sos run gregor.ipynb [workflow_name | -t targets] [options] [workflow_options]\n",
      "  workflow_name:        Single or combined workflows defined in this script\n",
      "  targets:              One or more targets to generate\n",
      "  options:              Single-hyphen sos parameters (see \"sos run -h\" for details)\n",
      "  workflow_options:     Double-hyphen workflow-specific parameters\n",
      "\n",
      "Workflows:\n",
      "  gregor_conf\n",
      "  gregor\n",
      "\n",
      "Global Workflow Options:\n",
      "  --cwd output (as path)\n",
      "                        working directory\n",
      "  --container ''\n",
      "                        Software container option\n",
      "\n",
      "Sections\n",
      "  gregor_conf, gregor_1: make configuration file for GREGOR\n",
      "    Workflow Options:\n",
      "      --gregor-db VAL (as path, required)\n",
      "      --pop EUR\n",
      "      --index-snp-file VAL (as path, required)\n",
      "      --bed-file-index VAL (as path, required)\n",
      "      --ld-window-size 10000 (as int)\n",
      "      --min-neighbor 10 (as int)\n",
      "      --job-number 10 (as int)\n",
      "  gregor_2:             run GREGOR\n",
      "  gregor_3:             Fisher test of enrichment\n"
     ]
    }
   ],
   "source": [
    "sos run gregor.ipynb -h"
   ]
  },
  {
   "cell_type": "markdown",
   "metadata": {
    "kernel": "Bash"
   },
   "source": [
    "## Explaination for each step"
   ]
  },
  {
   "cell_type": "markdown",
   "metadata": {
    "kernel": "Bash"
   },
   "source": [
    "1. `gregor_conf, gregor_1`: make the configuration file for GREGOR\n",
    "2. `gregor_2`: run GREGOR, for the details, please see [Ellen et al.](https://www.ncbi.nlm.nih.gov/pmc/articles/PMC4612390/)\n",
    "3. `gregor_3`: The process for generating a 2x2 table for each annotation to conduct a Fisher test in the context of GREGOR analysis. The structure and computation of the elements in the 2x2 table are as follows:\n",
    "\n",
    "- Annotated Positive Set (N1): Derived from the `inBedIndexSNPNum` in the PValue.txt file located in each annotation folder. This value is integral to identifying the positive set that has been annotated.\n",
    "- Un-annotated Positive Set (Np): Calculated as the total number of lines in the `index_SNP/annotated.index.snp.txt` file. It represents the count of input signals that were successfully converted to chromosome positions, forming the overall positive set.\n",
    "- Annotated Negative Set (N2): This is computed by taking the total lines in the `neighbor*.txt` files (represented as N1 + N2) of each annotation folder and subtracting N1 from it, excluding any header lines. This gives the count of the negative set that has been annotated.\n",
    "- Un-annotated Negative Set (Nn): This is computed by taking the total line in the `neighbor_SNP/neighbor*.txt` files and subtracting Np from it, with header lines excluded. This represents the un-annotated portion of the negative set.\n",
    "4. `gregor_fisher_test`: The visualization plot is designed to display the results of Fisher's exact test, comparing two different traits. The input data for this plot is sourced from the 'gregor_3' outputs, with each dataset representing a distinct trait."
   ]
  },
  {
   "cell_type": "markdown",
   "metadata": {
    "kernel": "Bash"
   },
   "source": [
    "## Example"
   ]
  },
  {
   "cell_type": "markdown",
   "metadata": {
    "kernel": "SoS"
   },
   "source": [
    "```\n",
    "sos run ~/codes/xqtl-pipeline/pipeline/gregor.ipynb  gregor_fisher_plot \\\n",
    "    --fisher1  mvSuSiE_Basophill_perc_positive_cs.index_gregor_output/*_enrichment_results.txt \\\n",
    "    --fisher2 SuSiE_Basophill_perc_positive_cs.index_gregor_output/*_enrichment_results.txt \\\n",
    "    --cwd test\n",
    "```"
   ]
  },
  {
   "cell_type": "code",
   "execution_count": 6,
   "metadata": {
    "kernel": "SoS"
   },
   "outputs": [],
   "source": [
    "[global]\n",
    "# working directory\n",
    "parameter: cwd = path(\"output\")\n",
    "# Software container option\n",
    "parameter: container = \"\""
   ]
  },
  {
   "cell_type": "code",
   "execution_count": null,
   "metadata": {
    "kernel": "SoS"
   },
   "outputs": [],
   "source": [
    "# make configuration file for GREGOR\n",
    "[gregor_conf, gregor_1]\n",
    "parameter: gregor_db = path\n",
    "parameter: pop = 'EUR'\n",
    "parameter: index_snp_file = path\n",
    "parameter: bed_file_index = path\n",
    "parameter:  r2_threshold = 0.7\n",
    "parameter: ld_window_size = 10000\n",
    "parameter: min_neighbor = 10\n",
    "parameter: job_number = 10\n",
    "input: index_snp_file, bed_file_index\n",
    "output: f'{cwd:a}/{_input[0]:bnn}.gregor.conf'\n",
    "report: output = f'{_output}', expand = True\n",
    "    ##############################################################################\n",
    "    # CHIPSEQ ENRICHMENT CONFIGURATION FILE\n",
    "    # This configuration file contains run-time configuration of\n",
    "    # CHIP_SEQ ENRICHMENT\n",
    "    ###############################################################################\n",
    "    ## KEY ELEMENTS TO CONFIGURE : NEED TO MODIFY\n",
    "    ###############################################################################\n",
    "    INDEX_SNP_FILE = {_input[0]}\n",
    "    BED_FILE_INDEX = {_input[1]} \n",
    "    REF_DIR = {gregor_db}\n",
    "    R2THRESHOLD = {r2_threshold} ## must be greater than 0.7\n",
    "    LDWINDOWSIZE = {ld_window_size} ## must be less than this window; these two values define LD buddies\n",
    "    OUT_DIR = {_output:nn}_gregor_output\n",
    "    MIN_NEIGHBOR_NUM = {min_neighbor} ## define the minimum size of neighborhood\n",
    "    BEDFILE_IS_SORTED = true  ## false, if the bed files are not sorted\n",
    "    POPULATION = {pop}  ## define the population, you can specify EUR, AFR, AMR or ASN\n",
    "    TOPNBEDFILES = 2 \n",
    "    JOBNUMBER = {job_number}\n",
    "    ###############################################################################\n",
    "    #BATCHTYPE = mosix ##  submit jobs on MOSIX\n",
    "    #BATCHOPTS = -E/tmp -i -m2000 -j10,11,12,13,14,15,16,17,18,19,120,122,123,124,125 sh -c\n",
    "    ###############################################################################\n",
    "    #BATCHTYPE = slurm   ##  submit jobs on SLURM\n",
    "    #BATCHOPTS = --partition=broadwl --account=pi-mstephens --time=0:30:0\n",
    "    ###############################################################################\n",
    "    BATCHTYPE = local ##  run jobs on local machine\n",
    "\n",
    "bash: expand = True, stderr = f'{_output}.stderr', stdout = f'{_output}.stdout'\n",
    "    sed -i '/^$/d' {_output}"
   ]
  },
  {
   "cell_type": "markdown",
   "metadata": {
    "kernel": "SoS"
   },
   "source": [
    "GREGOR is written in `perl`. If you don't use containers, some libraries are required before one can run GREGOR:\n",
    "\n",
    "```\n",
    "sudo apt-get install libdbi-perl libswitch-perl libdbd-sqlite3-perl\n",
    "```\n",
    "\n",
    "With our docker image:\n",
    "\n",
    "```\n",
    "cd GREGOR_folder\n",
    "docker run -v \"$PWD:/usr/src/myapp\" -it custom-perl\n",
    "perl script/GREGOR.pl --conf example/mvsusie_annotation.conf\n",
    "perl script/GREGOR.pl --conf example/susie_annotation.conf\n",
    "```"
   ]
  },
  {
   "cell_type": "code",
   "execution_count": 1,
   "metadata": {
    "kernel": "SoS"
   },
   "outputs": [],
   "source": [
    "# run GREGOR\n",
    "[gregor_2]\n",
    "output: f'{_input:nn}_gregor_output/StatisticSummaryFile.txt'\n",
    "bash: expand = True, container = container, stderr = f'{_output}.stderr', stdout = f'{_output}.stdout'\n",
    "    perl /opt/GREGOR/GREGOR/script/GREGOR.pl --conf {_input} && touch {_output}"
   ]
  },
  {
   "cell_type": "code",
   "execution_count": 1,
   "metadata": {
    "kernel": "SoS"
   },
   "outputs": [],
   "source": [
    "# Fisher test of enrichment\n",
    "[gregor_3]\n",
    "output: f'{_input:ad}_variant_counts.txt', f'{_input:ad}_enrichment_results.txt'\n",
    "bash: expand = '$[ ]', stderr = f'{_output[0]}.stderr', stdout = f'{_output[0]}.stdout'\n",
    "\n",
    "    cd $[_input:ad]/  # The issue was that,{_input:ad}_variant_counts.txt is not in the same dir as the input  \n",
    "    # Loop through each subdirectory\n",
    "    for dir in */; do\n",
    "        # Ensure that the directory is not empty\n",
    "        if [[ -d \"$dir\" ]]; then\n",
    "            # Calculate the total number of lines in neighbor.*.txt files\n",
    "            total_lines=$(find \"$dir\" -name 'neighbor.*.txt' -exec cat {} + | wc -l)\n",
    "\n",
    "            # Count the number of neighbor.*.txt files\n",
    "            file_count=$(find \"$dir\" -name 'neighbor.*.txt' | wc -l)\n",
    "\n",
    "            # Calculate the adjusted row number\n",
    "            row_num=$((total_lines - file_count))\n",
    "\n",
    "            # Check if PValue.txt exists\n",
    "            if [[ -f \"${dir}/PValue.txt\" ]]; then\n",
    "                # Append the row count to PValue.txt and save as PValue_new.txt\n",
    "                (cat \"${dir}/PValue.txt\"; echo \"N1_N2 = $row_num\") > \"${dir}/PValue_N1_N2.txt\"\n",
    "            fi\n",
    "        fi\n",
    "    done\n",
    "\n",
    "    # Header for the new summary file\n",
    "    echo -e \"Bed_File\\tInBed_Index_SNP\\tExpectNum_of_InBed_SNP\\tPValue\\tN1_N2\\tNp\\tNp_Nn\" > $[_output[0]]\n",
    "\n",
    "    # Calculate Np and Np_Nn for the neighbor_SNP directory\n",
    "    if [[ -d \"neighbor_SNP\" ]]; then\n",
    "        if [[ -f \"neighbor_SNP/index.snp.neighbors.txt\" ]]; then\n",
    "            Np=$(($(wc -l < \"index_SNP/annotated.index.snp.txt\") - 1))\n",
    "        else\n",
    "            Np=0\n",
    "        fi\n",
    "        Np_Nn_files=($(find \"neighbor_SNP\" -name 'neighbor.chr*txt'))\n",
    "        Np_Nn=0\n",
    "        for file in \"${Np_Nn_files[@]}\"; do\n",
    "            Np_Nn=$(($Np_Nn + $(wc -l < \"$file\")))\n",
    "        done\n",
    "        Np_Nn=$(($Np_Nn - ${#Np_Nn_files[@]}))\n",
    "    fi\n",
    "\n",
    "    # Loop through each subdirectory\n",
    "    for dir in */; do\n",
    "        # Ensure that the directory is not empty\n",
    "        if [[ -d \"$dir\" ]]; then\n",
    "            # Check if PValue_new.txt exists\n",
    "            if [[ -f \"${dir}PValue_N1_N2.txt\" ]]; then\n",
    "                # Extract values from PValue_new.txt\n",
    "                inBedIndexSNPNum=$(grep \"inBedIndexSNPNum\" \"${dir}PValue_N1_N2.txt\" | cut -d '=' -f2 | tr -d '[:space:]')\n",
    "                expectedS=$(grep \"expectedS\" \"${dir}PValue_N1_N2.txt\" | cut -d '=' -f2 | tr -d '[:space:]')\n",
    "                p3=$(grep \"p3\" \"${dir}PValue_N1_N2.txt\" | cut -d '=' -f2 | tr -d '[:space:]')\n",
    "                N1_N2=$(grep \"N1_N2\" \"${dir}PValue_N1_N2.txt\" | cut -d '=' -f2 | tr -d '[:space:]')\n",
    "                # Get the directory name as the Bed_File\n",
    "                bedFile=$(basename \"$dir\")\n",
    "                # Append the data to the summary file\n",
    "                echo -e \"$bedFile\\t$inBedIndexSNPNum\\t$expectedS\\t$p3\\t$N1_N2\\t$Np\\t$Np_Nn\" >> $[_output[0]]\n",
    "            fi\n",
    "        fi\n",
    "    done\n",
    "\n",
    "R: expand = '${ }', stderr = f'{_output[0]}.stderr', stdout = f'{_output[0]}.stdout'\n",
    "    res <- read.table(${_output[0]:r}, sep ='\\t', header=T) \n",
    "    for(i in 1:nrow(res)){\n",
    "        n1 = res$InBed_Index_SNP[i]\n",
    "        n2 = res$N1_N2[i] - n1\n",
    "        np = res$Np[i]\n",
    "        nn = res$Np_Nn[i] - np\n",
    "\n",
    "        # Construct the contingency matrix\n",
    "        dat = matrix(c(n1, n2, np - n1, nn - n2), nrow = 2)\n",
    "\n",
    "        # Perform Fisher's exact test\n",
    "        test_res = fisher.test(dat, alternative = 'two.sided')\n",
    "\n",
    "        # Store the results in 'res'\n",
    "        res$odds[i] <- test_res$estimate\n",
    "        res$low[i] <- test_res$conf.int[1]\n",
    "        res$high[i] <- test_res$conf.int[2]\n",
    "        res$p_fisher[i] <- test_res$p.value\n",
    "    }\n",
    "\n",
    "    res$odds <- as.numeric(res$odds)\n",
    "    write.table(res, ${_output[1]:r}, quote = FALSE, row.names = FALSE)"
   ]
  },
  {
   "cell_type": "code",
   "execution_count": 1,
   "metadata": {
    "kernel": "SoS"
   },
   "outputs": [],
   "source": [
    "# enrichment plot with fisher test results\n",
    "[gregor_fisher_plot]\n",
    "parameter: fisher1 = path\n",
    "parameter: fisher2 = path\n",
    "input: fisher1, fisher2\n",
    "output: f'{cwd:a}/{_input[0]:dbn}_vs_{_input[1]:dbn}_enrichment.pdf'\n",
    "R: expand = '${ }', stderr = f'{_output[0]}.stderr', stdout = f'{_output[0]}.stdout', container = container\n",
    "    library(tidyverse)\n",
    "    library(ggplot2)    \n",
    "    group1 <- read.table(${_input[0]:r}, header=T)\n",
    "    group2 <- read.table(${_input[1]:r}, header=T)\n",
    "    group1$group <- ${_input[0]:dbnr}\n",
    "    group2$group <- ${_input[1]:dbnr}\n",
    "    res_all <- rbind(group1, group2)\n",
    "    res_all$feature <- gsub(\".bed\",\"\",res_all$Bed_File)\n",
    "    res_all <- res_all %>%filter(!(str_detect(feature,\"hg38\")))%>%filter(!(p_fisher == 1))%>% na.omit \n",
    "    p <- res_all%>%\n",
    "        arrange(odds)%>%ggplot()+geom_point(aes(x = odds, y = reorder(feature,-odds), color = group))+\n",
    "            geom_vline(aes( xintercept = 0 ))+theme_bw()+theme(text = element_text(size = 20))+xlab(\"Odds Ratio\")+\n",
    "                geom_linerange(aes(xmin = low, xmax= high , y = feature ), color= 'grey40')+ylab(\"Functional Annotations\")\n",
    "    ggsave(plot = p, filename = ${_output:r}, height = 24, width = 20)"
   ]
  }
 ],
 "metadata": {
  "kernelspec": {
   "display_name": "SoS",
   "language": "sos",
   "name": "sos"
  },
  "language_info": {
   "codemirror_mode": "sos",
   "file_extension": ".sos",
   "mimetype": "text/x-sos",
   "name": "sos",
   "nbconvert_exporter": "sos_notebook.converter.SoS_Exporter",
   "pygments_lexer": "sos"
  },
  "sos": {
   "default_kernel": "SoS",
   "kernels": [
    [
     "Bash",
     "bash",
     "Bash",
     "#E6EEFF",
     ""
    ],
    [
     "SoS",
     "sos",
     "",
     "",
     "sos"
    ]
   ],
   "panel": {
    "displayed": false,
    "height": 0,
    "style": "side"
   },
   "version": "0.24.3"
  }
 },
 "nbformat": 4,
 "nbformat_minor": 4
}
