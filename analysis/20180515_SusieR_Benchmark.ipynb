{
 "cells": [
  {
   "cell_type": "markdown",
   "metadata": {},
   "source": [
    "# SusieR benchmark\n",
    "\n",
    "A first (comprehensive) set of simulations to learn properties of the new fine-mapping method."
   ]
  },
  {
   "cell_type": "markdown",
   "metadata": {},
   "source": [
    "As a first pass, we run `susie` on simulations of 100 genes, with \n",
    "\n",
    "- real genotypes, of length 1000 for starters\n",
    "- randomly-chosen SNPs as eQTLs\n",
    "- 1-5 eQTLs per gene\n",
    "- explaining 5-40% of the variance in Y\n",
    "\n",
    "We characterize 95% confident sets (CS) it produces in terms of\n",
    "\n",
    "- size: number of variants in it\n",
    "- purity: min and mean LD\n",
    "- significance: lfsr\n",
    "- whether or not they capture a signal\n",
    "\n",
    "We run Susie with\n",
    "\n",
    "- `estimate_residual_variance`: TRUE and FALSE\n",
    "- `prior_variance`: 5-40%\n",
    "\n",
    "We should expect that results will be reasonably robust to these choices."
   ]
  },
  {
   "cell_type": "code",
   "execution_count": 1,
   "metadata": {},
   "outputs": [
    {
     "name": "stdout",
     "output_type": "stream",
     "text": [
      "/home/gaow/GIT/github/mvarbvs/dsc"
     ]
    }
   ],
   "source": [
    "%cd ~/GIT/github/mvarbvs/dsc"
   ]
  },
  {
   "cell_type": "code",
   "execution_count": null,
   "metadata": {
    "kernel": "Bash"
   },
   "outputs": [],
   "source": [
    "dsc susie.dsc --target run_susie_no_plot"
   ]
  },
  {
   "cell_type": "markdown",
   "metadata": {},
   "source": [
    "## Utility function"
   ]
  },
  {
   "cell_type": "code",
   "execution_count": 10,
   "metadata": {
    "kernel": "R"
   },
   "outputs": [],
   "source": [
    "get_combined = function(sub, dirname, ld_col) {\n",
    "    out_files = sub[,c(\"fit_susie.output.file\", \"eval_susie.output.file\")]\n",
    "    combined = list(purity = NULL, lfsr = NULL, size = NULL, captures = NULL)\n",
    "    for (i in 1:nrow(out_files)) {\n",
    "        fit = readRDS(paste0(dirname, out_files[i,1], '.rds'))$posterior\n",
    "        purity = readRDS(paste0(dirname, out_files[i,2], '.rds'))\n",
    "        #\n",
    "        if (is.null(combined$purity)) combined$purity = purity$purity$V1[,ld_col]\n",
    "        else combined$purity = cbind(combined$purity, purity$purity$V1[,ld_col])\n",
    "        #\n",
    "        if (is.null(combined$size)) combined$size = fit$n_in_CI[,1]\n",
    "        else combined$size = cbind(combined$size, fit$n_in_CI[,1])\n",
    "        #\n",
    "        if (is.null(combined$lfsr)) combined$lfsr = fit$set_lfsr[,1]\n",
    "        else combined$lfsr = cbind(combined$lfsr, fit$set_lfsr[,1])\n",
    "        # \n",
    "        detected = apply(t(purity$signal$V1[which(fit$set_lfsr[,1] < lfsr_cutoff),,drop=FALSE]), 1, sum)\n",
    "        if (is.null(combined$captures)) combined$captures = detected\n",
    "        else combined$captures = combined$captures + detected\n",
    "    }\n",
    "    return(combined)\n",
    "}"
   ]
  },
  {
   "cell_type": "code",
   "execution_count": 39,
   "metadata": {
    "kernel": "Python3"
   },
   "outputs": [],
   "source": [
    "import numpy as np\n",
    "import matplotlib.pyplot as plt\n",
    "COLORS = ['#348ABD', '#7A68A6', '#A60628', '#467821', '#FF0000', '#188487', '#E2A233',\n",
    "              '#A9A9A9', '#000000', '#FF00FF', '#FFD700', '#ADFF2F', '#00FFFF']\n",
    "color_mapper = np.vectorize(lambda x: dict([(i,j) for i,j in enumerate(COLORS)]).get(x))\n",
    "\n",
    "def plot_purity(data, output, lfsr_cutoff = 0.05):\n",
    "    purity = np.array(data['purity'])\n",
    "    lfsr = np.array(data['lfsr'])\n",
    "    size = np.array(data['size'])\n",
    "    capture = [f\"Signal {idx+1} captured {item}/{purity.shape[1]} times\" for idx, item in enumerate(data['captures'])]\n",
    "    idx = 0\n",
    "    plt.figure(figsize=(12, 8))\n",
    "    L = purity.shape[0]\n",
    "    cols = 3\n",
    "    rows = L // cols + L % cols\n",
    "    position = range(1,L + 1)\n",
    "    for x, y, z in zip(size, purity, lfsr):\n",
    "        z_sig = [i for i, zz in enumerate(z) if zz <= lfsr_cutoff]\n",
    "        z_nsig = [i for i, zz in enumerate(z) if zz > lfsr_cutoff]\n",
    "        colors = np.full(len(x), idx)\n",
    "        plt.subplot(rows,cols,position[idx])\n",
    "        idx += 1\n",
    "        if len(z_sig):\n",
    "            label = f'{idx}: lfsr<={lfsr_cutoff}'\n",
    "            plt.scatter(np.take(x, z_sig),\n",
    "                        np.take(y, z_sig),\n",
    "                        c = color_mapper(np.take(colors, z_sig)), \n",
    "                        label = label, marker = '*')\n",
    "        if len(z_nsig):\n",
    "            label = f'{idx}: lfsr>{lfsr_cutoff}'\n",
    "            plt.scatter(np.take(x, z_nsig),\n",
    "                        np.take(y, z_nsig),\n",
    "                        c = color_mapper(np.take(colors, z_nsig)), \n",
    "                        label = label, marker = 'x')   \n",
    "        plt.legend(bbox_to_anchor=(0,1.02,1,0.2), loc=\"lower left\",\n",
    "                mode=\"expand\", borderaxespad=0, ncol=2, handletextpad=0.1)\n",
    "    plt.subplots_adjust(hspace=0.3, wspace = 0.3)\n",
    "    plt.suptitle(f\"95% CI set sizes vs min(abs(LD))\\n{'; '.join(capture)}\")\n",
    "    plt.savefig(output, dpi=500, bbox_inches='tight')                    \n",
    "    plt.gca()"
   ]
  },
  {
   "cell_type": "markdown",
   "metadata": {},
   "source": [
    "## Results"
   ]
  },
  {
   "cell_type": "code",
   "execution_count": 5,
   "metadata": {
    "kernel": "R"
   },
   "outputs": [
    {
     "name": "stdout",
     "output_type": "stream",
     "text": [
      "Loading dsc-query output from CSV file.\n"
     ]
    }
   ],
   "source": [
    "out = dscrutils::dscquery('benchmark', \n",
    "                    target = \"liter_data.dataset simple_lm.pve simple_lm.n_signal fit_susie.estimate_residual_variance fit_susie.prior_var fit_susie eval_susie\")"
   ]
  },
  {
   "cell_type": "code",
   "execution_count": 6,
   "metadata": {
    "kernel": "R"
   },
   "outputs": [
    {
     "data": {
      "text/html": [
       "<table>\n",
       "<thead><tr><th scope=col>DSC</th><th scope=col>liter_data.dataset</th><th scope=col>simple_lm.pve</th><th scope=col>simple_lm.n_signal</th><th scope=col>fit_susie.estimate_residual_variance</th><th scope=col>fit_susie.prior_var</th><th scope=col>fit_susie.output.file</th><th scope=col>eval_susie.output.file</th></tr></thead>\n",
       "<tbody>\n",
       "\t<tr><td>1                                                                          </td><td>~/Documents/GTExV8/Thyroid.Lung.FMO2.filled.rds                            </td><td>0.05                                                                       </td><td>1                                                                          </td><td>FALSE                                                                      </td><td>0.05                                                                       </td><td>fit_susie/liter_data_1_summarize_ld_1_simple_lm_1_fit_susie_1              </td><td>eval_susie/liter_data_1_summarize_ld_1_simple_lm_1_fit_susie_1_eval_susie_1</td></tr>\n",
       "\t<tr><td>1                                                                          </td><td>~/Documents/GTExV8/Thyroid.Lung.FMO2.filled.rds                            </td><td>0.05                                                                       </td><td>1                                                                          </td><td>FALSE                                                                      </td><td>0.10                                                                       </td><td>fit_susie/liter_data_1_summarize_ld_1_simple_lm_1_fit_susie_3              </td><td>eval_susie/liter_data_1_summarize_ld_1_simple_lm_1_fit_susie_3_eval_susie_1</td></tr>\n",
       "\t<tr><td>1                                                                          </td><td>~/Documents/GTExV8/Thyroid.Lung.FMO2.filled.rds                            </td><td>0.05                                                                       </td><td>1                                                                          </td><td>FALSE                                                                      </td><td>0.20                                                                       </td><td>fit_susie/liter_data_1_summarize_ld_1_simple_lm_1_fit_susie_5              </td><td>eval_susie/liter_data_1_summarize_ld_1_simple_lm_1_fit_susie_5_eval_susie_1</td></tr>\n",
       "\t<tr><td>1                                                                          </td><td>~/Documents/GTExV8/Thyroid.Lung.FMO2.filled.rds                            </td><td>0.05                                                                       </td><td>1                                                                          </td><td>FALSE                                                                      </td><td>0.40                                                                       </td><td>fit_susie/liter_data_1_summarize_ld_1_simple_lm_1_fit_susie_7              </td><td>eval_susie/liter_data_1_summarize_ld_1_simple_lm_1_fit_susie_7_eval_susie_1</td></tr>\n",
       "\t<tr><td>1                                                                          </td><td>~/Documents/GTExV8/Thyroid.Lung.FMO2.filled.rds                            </td><td>0.05                                                                       </td><td>1                                                                          </td><td> TRUE                                                                      </td><td>0.05                                                                       </td><td>fit_susie/liter_data_1_summarize_ld_1_simple_lm_1_fit_susie_2              </td><td>eval_susie/liter_data_1_summarize_ld_1_simple_lm_1_fit_susie_2_eval_susie_1</td></tr>\n",
       "\t<tr><td>1                                                                          </td><td>~/Documents/GTExV8/Thyroid.Lung.FMO2.filled.rds                            </td><td>0.05                                                                       </td><td>1                                                                          </td><td> TRUE                                                                      </td><td>0.10                                                                       </td><td>fit_susie/liter_data_1_summarize_ld_1_simple_lm_1_fit_susie_4              </td><td>eval_susie/liter_data_1_summarize_ld_1_simple_lm_1_fit_susie_4_eval_susie_1</td></tr>\n",
       "</tbody>\n",
       "</table>\n"
      ],
      "text/latex": [
       "\\begin{tabular}{r|llllllll}\n",
       " DSC & liter\\_data.dataset & simple\\_lm.pve & simple\\_lm.n\\_signal & fit\\_susie.estimate\\_residual\\_variance & fit\\_susie.prior\\_var & fit\\_susie.output.file & eval\\_susie.output.file\\\\\n",
       "\\hline\n",
       "\t 1                                                                                                         & \\textasciitilde{}/Documents/GTExV8/Thyroid.Lung.FMO2.filled.rds                                          & 0.05                                                                                                      & 1                                                                                                         & FALSE                                                                                                     & 0.05                                                                                                      & fit\\_susie/liter\\_data\\_1\\_summarize\\_ld\\_1\\_simple\\_lm\\_1\\_fit\\_susie\\_1                     & eval\\_susie/liter\\_data\\_1\\_summarize\\_ld\\_1\\_simple\\_lm\\_1\\_fit\\_susie\\_1\\_eval\\_susie\\_1\\\\\n",
       "\t 1                                                                                                         & \\textasciitilde{}/Documents/GTExV8/Thyroid.Lung.FMO2.filled.rds                                          & 0.05                                                                                                      & 1                                                                                                         & FALSE                                                                                                     & 0.10                                                                                                      & fit\\_susie/liter\\_data\\_1\\_summarize\\_ld\\_1\\_simple\\_lm\\_1\\_fit\\_susie\\_3                     & eval\\_susie/liter\\_data\\_1\\_summarize\\_ld\\_1\\_simple\\_lm\\_1\\_fit\\_susie\\_3\\_eval\\_susie\\_1\\\\\n",
       "\t 1                                                                                                         & \\textasciitilde{}/Documents/GTExV8/Thyroid.Lung.FMO2.filled.rds                                          & 0.05                                                                                                      & 1                                                                                                         & FALSE                                                                                                     & 0.20                                                                                                      & fit\\_susie/liter\\_data\\_1\\_summarize\\_ld\\_1\\_simple\\_lm\\_1\\_fit\\_susie\\_5                     & eval\\_susie/liter\\_data\\_1\\_summarize\\_ld\\_1\\_simple\\_lm\\_1\\_fit\\_susie\\_5\\_eval\\_susie\\_1\\\\\n",
       "\t 1                                                                                                         & \\textasciitilde{}/Documents/GTExV8/Thyroid.Lung.FMO2.filled.rds                                          & 0.05                                                                                                      & 1                                                                                                         & FALSE                                                                                                     & 0.40                                                                                                      & fit\\_susie/liter\\_data\\_1\\_summarize\\_ld\\_1\\_simple\\_lm\\_1\\_fit\\_susie\\_7                     & eval\\_susie/liter\\_data\\_1\\_summarize\\_ld\\_1\\_simple\\_lm\\_1\\_fit\\_susie\\_7\\_eval\\_susie\\_1\\\\\n",
       "\t 1                                                                                                         & \\textasciitilde{}/Documents/GTExV8/Thyroid.Lung.FMO2.filled.rds                                          & 0.05                                                                                                      & 1                                                                                                         &  TRUE                                                                                                     & 0.05                                                                                                      & fit\\_susie/liter\\_data\\_1\\_summarize\\_ld\\_1\\_simple\\_lm\\_1\\_fit\\_susie\\_2                     & eval\\_susie/liter\\_data\\_1\\_summarize\\_ld\\_1\\_simple\\_lm\\_1\\_fit\\_susie\\_2\\_eval\\_susie\\_1\\\\\n",
       "\t 1                                                                                                         & \\textasciitilde{}/Documents/GTExV8/Thyroid.Lung.FMO2.filled.rds                                          & 0.05                                                                                                      & 1                                                                                                         &  TRUE                                                                                                     & 0.10                                                                                                      & fit\\_susie/liter\\_data\\_1\\_summarize\\_ld\\_1\\_simple\\_lm\\_1\\_fit\\_susie\\_4                     & eval\\_susie/liter\\_data\\_1\\_summarize\\_ld\\_1\\_simple\\_lm\\_1\\_fit\\_susie\\_4\\_eval\\_susie\\_1\\\\\n",
       "\\end{tabular}\n"
      ],
      "text/markdown": [
       "\n",
       "DSC | liter_data.dataset | simple_lm.pve | simple_lm.n_signal | fit_susie.estimate_residual_variance | fit_susie.prior_var | fit_susie.output.file | eval_susie.output.file | \n",
       "|---|---|---|---|---|---|\n",
       "| 1                                                                           | ~/Documents/GTExV8/Thyroid.Lung.FMO2.filled.rds                             | 0.05                                                                        | 1                                                                           | FALSE                                                                       | 0.05                                                                        | fit_susie/liter_data_1_summarize_ld_1_simple_lm_1_fit_susie_1               | eval_susie/liter_data_1_summarize_ld_1_simple_lm_1_fit_susie_1_eval_susie_1 | \n",
       "| 1                                                                           | ~/Documents/GTExV8/Thyroid.Lung.FMO2.filled.rds                             | 0.05                                                                        | 1                                                                           | FALSE                                                                       | 0.10                                                                        | fit_susie/liter_data_1_summarize_ld_1_simple_lm_1_fit_susie_3               | eval_susie/liter_data_1_summarize_ld_1_simple_lm_1_fit_susie_3_eval_susie_1 | \n",
       "| 1                                                                           | ~/Documents/GTExV8/Thyroid.Lung.FMO2.filled.rds                             | 0.05                                                                        | 1                                                                           | FALSE                                                                       | 0.20                                                                        | fit_susie/liter_data_1_summarize_ld_1_simple_lm_1_fit_susie_5               | eval_susie/liter_data_1_summarize_ld_1_simple_lm_1_fit_susie_5_eval_susie_1 | \n",
       "| 1                                                                           | ~/Documents/GTExV8/Thyroid.Lung.FMO2.filled.rds                             | 0.05                                                                        | 1                                                                           | FALSE                                                                       | 0.40                                                                        | fit_susie/liter_data_1_summarize_ld_1_simple_lm_1_fit_susie_7               | eval_susie/liter_data_1_summarize_ld_1_simple_lm_1_fit_susie_7_eval_susie_1 | \n",
       "| 1                                                                           | ~/Documents/GTExV8/Thyroid.Lung.FMO2.filled.rds                             | 0.05                                                                        | 1                                                                           |  TRUE                                                                       | 0.05                                                                        | fit_susie/liter_data_1_summarize_ld_1_simple_lm_1_fit_susie_2               | eval_susie/liter_data_1_summarize_ld_1_simple_lm_1_fit_susie_2_eval_susie_1 | \n",
       "| 1                                                                           | ~/Documents/GTExV8/Thyroid.Lung.FMO2.filled.rds                             | 0.05                                                                        | 1                                                                           |  TRUE                                                                       | 0.10                                                                        | fit_susie/liter_data_1_summarize_ld_1_simple_lm_1_fit_susie_4               | eval_susie/liter_data_1_summarize_ld_1_simple_lm_1_fit_susie_4_eval_susie_1 | \n",
       "\n",
       "\n"
      ],
      "text/plain": [
       "  DSC liter_data.dataset                              simple_lm.pve\n",
       "1 1   ~/Documents/GTExV8/Thyroid.Lung.FMO2.filled.rds 0.05         \n",
       "2 1   ~/Documents/GTExV8/Thyroid.Lung.FMO2.filled.rds 0.05         \n",
       "3 1   ~/Documents/GTExV8/Thyroid.Lung.FMO2.filled.rds 0.05         \n",
       "4 1   ~/Documents/GTExV8/Thyroid.Lung.FMO2.filled.rds 0.05         \n",
       "5 1   ~/Documents/GTExV8/Thyroid.Lung.FMO2.filled.rds 0.05         \n",
       "6 1   ~/Documents/GTExV8/Thyroid.Lung.FMO2.filled.rds 0.05         \n",
       "  simple_lm.n_signal fit_susie.estimate_residual_variance fit_susie.prior_var\n",
       "1 1                  FALSE                                0.05               \n",
       "2 1                  FALSE                                0.10               \n",
       "3 1                  FALSE                                0.20               \n",
       "4 1                  FALSE                                0.40               \n",
       "5 1                   TRUE                                0.05               \n",
       "6 1                   TRUE                                0.10               \n",
       "  fit_susie.output.file                                        \n",
       "1 fit_susie/liter_data_1_summarize_ld_1_simple_lm_1_fit_susie_1\n",
       "2 fit_susie/liter_data_1_summarize_ld_1_simple_lm_1_fit_susie_3\n",
       "3 fit_susie/liter_data_1_summarize_ld_1_simple_lm_1_fit_susie_5\n",
       "4 fit_susie/liter_data_1_summarize_ld_1_simple_lm_1_fit_susie_7\n",
       "5 fit_susie/liter_data_1_summarize_ld_1_simple_lm_1_fit_susie_2\n",
       "6 fit_susie/liter_data_1_summarize_ld_1_simple_lm_1_fit_susie_4\n",
       "  eval_susie.output.file                                                     \n",
       "1 eval_susie/liter_data_1_summarize_ld_1_simple_lm_1_fit_susie_1_eval_susie_1\n",
       "2 eval_susie/liter_data_1_summarize_ld_1_simple_lm_1_fit_susie_3_eval_susie_1\n",
       "3 eval_susie/liter_data_1_summarize_ld_1_simple_lm_1_fit_susie_5_eval_susie_1\n",
       "4 eval_susie/liter_data_1_summarize_ld_1_simple_lm_1_fit_susie_7_eval_susie_1\n",
       "5 eval_susie/liter_data_1_summarize_ld_1_simple_lm_1_fit_susie_2_eval_susie_1\n",
       "6 eval_susie/liter_data_1_summarize_ld_1_simple_lm_1_fit_susie_4_eval_susie_1"
      ]
     },
     "metadata": {},
     "output_type": "display_data"
    }
   ],
   "source": [
    "head(out)"
   ]
  },
  {
   "cell_type": "code",
   "execution_count": 8,
   "metadata": {
    "kernel": "R"
   },
   "outputs": [
    {
     "data": {
      "text/html": [
       "<ol class=list-inline>\n",
       "\t<li>8000</li>\n",
       "\t<li>8</li>\n",
       "</ol>\n"
      ],
      "text/latex": [
       "\\begin{enumerate*}\n",
       "\\item 8000\n",
       "\\item 8\n",
       "\\end{enumerate*}\n"
      ],
      "text/markdown": [
       "1. 8000\n",
       "2. 8\n",
       "\n",
       "\n"
      ],
      "text/plain": [
       "[1] 8000    8"
      ]
     },
     "metadata": {},
     "output_type": "display_data"
    }
   ],
   "source": [
    "dim(out)"
   ]
  },
  {
   "cell_type": "markdown",
   "metadata": {},
   "source": [
    "It is a lot of results to look at. Here we focus on PVE 20% and 40%, having 2, 3, 5 signals, with prior set to `0.2`. We focus on measuring \"purity\" by min(abs(LD))."
   ]
  },
  {
   "cell_type": "markdown",
   "metadata": {},
   "source": [
    "### 2 signals + 20% PVE + `est_residual=FALSE`"
   ]
  },
  {
   "cell_type": "code",
   "execution_count": 9,
   "metadata": {
    "kernel": "R"
   },
   "outputs": [],
   "source": [
    "pve = 0.2\n",
    "n = 2\n",
    "est_res = FALSE\n",
    "prior = 0.2\n",
    "ld_col = 1 # LD_Min\n",
    "lfsr_cutoff = 0.05\n",
    "dirname = 'benchmark/'\n",
    "sub = out[which(out$simple_lm.pve == pve & out$simple_lm.n_signal == n & out$fit_susie.estimate_residual_variance == est_res & out$fit_susie.prior_var == prior),]"
   ]
  },
  {
   "cell_type": "code",
   "execution_count": 11,
   "metadata": {
    "kernel": "R"
   },
   "outputs": [
    {
     "data": {
      "text/html": [
       "<dl>\n",
       "\t<dt>$purity</dt>\n",
       "\t\t<dd><table>\n",
       "<tbody>\n",
       "\t<tr><td>1.000000e+00</td><td>1.000000e+00</td><td>1.000000e+00</td><td>1           </td><td>9.381204e-01</td><td>1           </td><td>8.645951e-01</td><td>9.794020e-01</td><td>9.598763e-01</td><td>0.9249755   </td><td>⋯           </td><td>1.000000e+00</td><td>7.892258e-01</td><td>9.564520e-01</td><td>8.177256e-01</td><td>0.9472561   </td><td>9.392101e-01</td><td>1           </td><td>7.964152e-01</td><td>3.224397e-01</td><td>5.097050e-01</td></tr>\n",
       "\t<tr><td>1.000000e+00</td><td>2.982717e-01</td><td>8.847574e-41</td><td>1           </td><td>1.923051e-41</td><td>1           </td><td>8.458120e-01</td><td>3.422445e-43</td><td>1.000000e+00</td><td>0.0000000   </td><td>⋯           </td><td>9.586628e-01</td><td>1.000000e+00</td><td>4.835524e-01</td><td>2.793974e-42</td><td>0.9399980   </td><td>1.433117e-41</td><td>0           </td><td>8.743901e-01</td><td>3.464381e-41</td><td>6.663029e-39</td></tr>\n",
       "\t<tr><td>8.118888e-01</td><td>2.736181e-41</td><td>8.847574e-41</td><td>0           </td><td>1.923051e-41</td><td>0           </td><td>8.602727e-41</td><td>3.422445e-43</td><td>2.657076e-40</td><td>0.0000000   </td><td>⋯           </td><td>7.734674e-42</td><td>6.084654e-43</td><td>1.120709e-41</td><td>2.793974e-42</td><td>0.0000000   </td><td>1.433117e-41</td><td>0           </td><td>8.319693e-39</td><td>3.464381e-41</td><td>4.972767e-11</td></tr>\n",
       "\t<tr><td>1.193006e-13</td><td>2.736181e-41</td><td>8.847574e-41</td><td>0           </td><td>1.923051e-41</td><td>0           </td><td>8.602727e-41</td><td>3.422445e-43</td><td>2.657076e-40</td><td>0.0000000   </td><td>⋯           </td><td>7.734674e-42</td><td>6.084654e-43</td><td>1.120709e-41</td><td>2.793974e-42</td><td>0.0000000   </td><td>1.433117e-41</td><td>0           </td><td>1.330441e-39</td><td>3.464381e-41</td><td>6.663029e-39</td></tr>\n",
       "\t<tr><td>1.193006e-13</td><td>2.736181e-41</td><td>8.847574e-41</td><td>0           </td><td>1.923051e-41</td><td>0           </td><td>8.602727e-41</td><td>3.422445e-43</td><td>2.657076e-40</td><td>0.0000000   </td><td>⋯           </td><td>7.734674e-42</td><td>6.084654e-43</td><td>1.120709e-41</td><td>2.793974e-42</td><td>0.0000000   </td><td>1.433117e-41</td><td>0           </td><td>1.330441e-39</td><td>3.464381e-41</td><td>6.663029e-39</td></tr>\n",
       "</tbody>\n",
       "</table>\n",
       "</dd>\n",
       "\t<dt>$lfsr</dt>\n",
       "\t\t<dd><table>\n",
       "<tbody>\n",
       "\t<tr><td>0.000000e+00 </td><td>1.110223e-16 </td><td>0.0000000    </td><td>0.000000e+00 </td><td>4.314191e-07 </td><td>0.0000000    </td><td>0.000000e+00 </td><td>0.0000000    </td><td>0.0000000    </td><td>1.110223e-16 </td><td>⋯            </td><td>-2.220446e-16</td><td>1.110223e-16 </td><td>0.000000000  </td><td>1.387779e-14 </td><td>0.000000e+00 </td><td>0.0000000    </td><td>1.110223e-16 </td><td>4.002132e-12 </td><td>7.252782e-06 </td><td>0.0006636412 </td></tr>\n",
       "\t<tr><td>1.110223e-16 </td><td>1.051624e-02 </td><td>0.2042303    </td><td>1.110223e-16 </td><td>2.307441e-02 </td><td>0.0000000    </td><td>5.064476e-08 </td><td>0.2166895    </td><td>0.0000000    </td><td>2.983107e-01 </td><td>⋯            </td><td> 5.397127e-12</td><td>1.032507e-14 </td><td>0.002415923  </td><td>2.138793e-01 </td><td>3.909645e-10 </td><td>0.3008102    </td><td>2.483189e-01 </td><td>9.811422e-07 </td><td>2.930031e-01 </td><td>0.0831008771 </td></tr>\n",
       "\t<tr><td>3.968579e-07 </td><td>2.907259e-01 </td><td>0.2009671    </td><td>3.515603e-01 </td><td>2.453586e-01 </td><td>0.2696713    </td><td>3.663734e-01 </td><td>0.2160695    </td><td>0.3846569    </td><td>2.976791e-01 </td><td>⋯            </td><td> 2.128599e-01</td><td>2.833277e-01 </td><td>0.302773290  </td><td>2.103535e-01 </td><td>2.787650e-01 </td><td>0.3011567    </td><td>2.474620e-01 </td><td>1.504939e-01 </td><td>2.933054e-01 </td><td>0.0274480533 </td></tr>\n",
       "\t<tr><td>4.348645e-01 </td><td>2.905872e-01 </td><td>0.2006130    </td><td>3.514377e-01 </td><td>2.461852e-01 </td><td>0.2689490    </td><td>3.680002e-01 </td><td>0.2159145    </td><td>0.3844345    </td><td>2.974607e-01 </td><td>⋯            </td><td> 2.119697e-01</td><td>2.829136e-01 </td><td>0.303269431  </td><td>2.108869e-01 </td><td>2.786586e-01 </td><td>0.3026100    </td><td>2.474810e-01 </td><td>2.551203e-01 </td><td>2.939670e-01 </td><td>0.2652196603 </td></tr>\n",
       "\t<tr><td>4.357395e-01 </td><td>2.906602e-01 </td><td>0.2027403    </td><td>3.513787e-01 </td><td>2.474014e-01 </td><td>0.2678285    </td><td>3.704126e-01 </td><td>0.2163372    </td><td>0.3840299    </td><td>2.978265e-01 </td><td>⋯            </td><td> 2.111652e-01</td><td>2.831244e-01 </td><td>0.304354536  </td><td>2.138997e-01 </td><td>2.796414e-01 </td><td>0.3049636    </td><td>2.481342e-01 </td><td>2.559523e-01 </td><td>2.950045e-01 </td><td>0.2692259465 </td></tr>\n",
       "</tbody>\n",
       "</table>\n",
       "</dd>\n",
       "\t<dt>$size</dt>\n",
       "\t\t<dd><table>\n",
       "<tbody>\n",
       "\t<tr><td>  1</td><td>  1</td><td>  1</td><td>  1</td><td>  7</td><td>  1</td><td> 16</td><td> 20</td><td> 14</td><td> 10</td><td>⋯  </td><td>  1</td><td> 51</td><td> 62</td><td>  9</td><td> 10</td><td> 27</td><td>  1</td><td> 40</td><td> 55</td><td> 62</td></tr>\n",
       "\t<tr><td>  1</td><td>  2</td><td>920</td><td>  4</td><td>359</td><td>  1</td><td> 48</td><td>924</td><td>  1</td><td>939</td><td>⋯  </td><td> 11</td><td>  1</td><td> 40</td><td>925</td><td>  5</td><td>941</td><td>932</td><td>  4</td><td>939</td><td>777</td></tr>\n",
       "\t<tr><td> 44</td><td>938</td><td>919</td><td>945</td><td>931</td><td>937</td><td>948</td><td>923</td><td>948</td><td>939</td><td>⋯  </td><td>922</td><td>936</td><td>940</td><td>924</td><td>934</td><td>941</td><td>932</td><td>888</td><td>939</td><td>417</td></tr>\n",
       "\t<tr><td>950</td><td>938</td><td>919</td><td>945</td><td>931</td><td>936</td><td>948</td><td>923</td><td>948</td><td>939</td><td>⋯  </td><td>922</td><td>936</td><td>940</td><td>924</td><td>934</td><td>941</td><td>932</td><td>931</td><td>939</td><td>935</td></tr>\n",
       "\t<tr><td>950</td><td>938</td><td>920</td><td>945</td><td>932</td><td>936</td><td>948</td><td>923</td><td>948</td><td>939</td><td>⋯  </td><td>922</td><td>936</td><td>940</td><td>925</td><td>935</td><td>942</td><td>932</td><td>931</td><td>939</td><td>936</td></tr>\n",
       "</tbody>\n",
       "</table>\n",
       "</dd>\n",
       "\t<dt>$captures</dt>\n",
       "\t\t<dd><ol class=list-inline>\n",
       "\t<li>41</li>\n",
       "\t<li>39</li>\n",
       "</ol>\n",
       "</dd>\n",
       "</dl>\n"
      ],
      "text/latex": [
       "\\begin{description}\n",
       "\\item[\\$purity] \\begin{tabular}{llllllllllllllllllllllllllllllllllllllllllllllllll}\n",
       "\t 1.000000e+00 & 1.000000e+00 & 1.000000e+00 & 1            & 9.381204e-01 & 1            & 8.645951e-01 & 9.794020e-01 & 9.598763e-01 & 0.9249755    & ⋯            & 1.000000e+00 & 7.892258e-01 & 9.564520e-01 & 8.177256e-01 & 0.9472561    & 9.392101e-01 & 1            & 7.964152e-01 & 3.224397e-01 & 5.097050e-01\\\\\n",
       "\t 1.000000e+00 & 2.982717e-01 & 8.847574e-41 & 1            & 1.923051e-41 & 1            & 8.458120e-01 & 3.422445e-43 & 1.000000e+00 & 0.0000000    & ⋯            & 9.586628e-01 & 1.000000e+00 & 4.835524e-01 & 2.793974e-42 & 0.9399980    & 1.433117e-41 & 0            & 8.743901e-01 & 3.464381e-41 & 6.663029e-39\\\\\n",
       "\t 8.118888e-01 & 2.736181e-41 & 8.847574e-41 & 0            & 1.923051e-41 & 0            & 8.602727e-41 & 3.422445e-43 & 2.657076e-40 & 0.0000000    & ⋯            & 7.734674e-42 & 6.084654e-43 & 1.120709e-41 & 2.793974e-42 & 0.0000000    & 1.433117e-41 & 0            & 8.319693e-39 & 3.464381e-41 & 4.972767e-11\\\\\n",
       "\t 1.193006e-13 & 2.736181e-41 & 8.847574e-41 & 0            & 1.923051e-41 & 0            & 8.602727e-41 & 3.422445e-43 & 2.657076e-40 & 0.0000000    & ⋯            & 7.734674e-42 & 6.084654e-43 & 1.120709e-41 & 2.793974e-42 & 0.0000000    & 1.433117e-41 & 0            & 1.330441e-39 & 3.464381e-41 & 6.663029e-39\\\\\n",
       "\t 1.193006e-13 & 2.736181e-41 & 8.847574e-41 & 0            & 1.923051e-41 & 0            & 8.602727e-41 & 3.422445e-43 & 2.657076e-40 & 0.0000000    & ⋯            & 7.734674e-42 & 6.084654e-43 & 1.120709e-41 & 2.793974e-42 & 0.0000000    & 1.433117e-41 & 0            & 1.330441e-39 & 3.464381e-41 & 6.663029e-39\\\\\n",
       "\\end{tabular}\n",
       "\n",
       "\\item[\\$lfsr] \\begin{tabular}{llllllllllllllllllllllllllllllllllllllllllllllllll}\n",
       "\t 0.000000e+00  & 1.110223e-16  & 0.0000000     & 0.000000e+00  & 4.314191e-07  & 0.0000000     & 0.000000e+00  & 0.0000000     & 0.0000000     & 1.110223e-16  & ⋯             & -2.220446e-16 & 1.110223e-16  & 0.000000000   & 1.387779e-14  & 0.000000e+00  & 0.0000000     & 1.110223e-16  & 4.002132e-12  & 7.252782e-06  & 0.0006636412 \\\\\n",
       "\t 1.110223e-16  & 1.051624e-02  & 0.2042303     & 1.110223e-16  & 2.307441e-02  & 0.0000000     & 5.064476e-08  & 0.2166895     & 0.0000000     & 2.983107e-01  & ⋯             &  5.397127e-12 & 1.032507e-14  & 0.002415923   & 2.138793e-01  & 3.909645e-10  & 0.3008102     & 2.483189e-01  & 9.811422e-07  & 2.930031e-01  & 0.0831008771 \\\\\n",
       "\t 3.968579e-07  & 2.907259e-01  & 0.2009671     & 3.515603e-01  & 2.453586e-01  & 0.2696713     & 3.663734e-01  & 0.2160695     & 0.3846569     & 2.976791e-01  & ⋯             &  2.128599e-01 & 2.833277e-01  & 0.302773290   & 2.103535e-01  & 2.787650e-01  & 0.3011567     & 2.474620e-01  & 1.504939e-01  & 2.933054e-01  & 0.0274480533 \\\\\n",
       "\t 4.348645e-01  & 2.905872e-01  & 0.2006130     & 3.514377e-01  & 2.461852e-01  & 0.2689490     & 3.680002e-01  & 0.2159145     & 0.3844345     & 2.974607e-01  & ⋯             &  2.119697e-01 & 2.829136e-01  & 0.303269431   & 2.108869e-01  & 2.786586e-01  & 0.3026100     & 2.474810e-01  & 2.551203e-01  & 2.939670e-01  & 0.2652196603 \\\\\n",
       "\t 4.357395e-01  & 2.906602e-01  & 0.2027403     & 3.513787e-01  & 2.474014e-01  & 0.2678285     & 3.704126e-01  & 0.2163372     & 0.3840299     & 2.978265e-01  & ⋯             &  2.111652e-01 & 2.831244e-01  & 0.304354536   & 2.138997e-01  & 2.796414e-01  & 0.3049636     & 2.481342e-01  & 2.559523e-01  & 2.950045e-01  & 0.2692259465 \\\\\n",
       "\\end{tabular}\n",
       "\n",
       "\\item[\\$size] \\begin{tabular}{llllllllllllllllllllllllllllllllllllllllllllllllll}\n",
       "\t   1 &   1 &   1 &   1 &   7 &   1 &  16 &  20 &  14 &  10 & ⋯   &   1 &  51 &  62 &   9 &  10 &  27 &   1 &  40 &  55 &  62\\\\\n",
       "\t   1 &   2 & 920 &   4 & 359 &   1 &  48 & 924 &   1 & 939 & ⋯   &  11 &   1 &  40 & 925 &   5 & 941 & 932 &   4 & 939 & 777\\\\\n",
       "\t  44 & 938 & 919 & 945 & 931 & 937 & 948 & 923 & 948 & 939 & ⋯   & 922 & 936 & 940 & 924 & 934 & 941 & 932 & 888 & 939 & 417\\\\\n",
       "\t 950 & 938 & 919 & 945 & 931 & 936 & 948 & 923 & 948 & 939 & ⋯   & 922 & 936 & 940 & 924 & 934 & 941 & 932 & 931 & 939 & 935\\\\\n",
       "\t 950 & 938 & 920 & 945 & 932 & 936 & 948 & 923 & 948 & 939 & ⋯   & 922 & 936 & 940 & 925 & 935 & 942 & 932 & 931 & 939 & 936\\\\\n",
       "\\end{tabular}\n",
       "\n",
       "\\item[\\$captures] \\begin{enumerate*}\n",
       "\\item 41\n",
       "\\item 39\n",
       "\\end{enumerate*}\n",
       "\n",
       "\\end{description}\n"
      ],
      "text/markdown": [
       "$purity\n",
       ":   \n",
       "| 1.000000e+00 | 1.000000e+00 | 1.000000e+00 | 1            | 9.381204e-01 | 1            | 8.645951e-01 | 9.794020e-01 | 9.598763e-01 | 0.9249755    | ⋯            | 1.000000e+00 | 7.892258e-01 | 9.564520e-01 | 8.177256e-01 | 0.9472561    | 9.392101e-01 | 1            | 7.964152e-01 | 3.224397e-01 | 5.097050e-01 | \n",
       "| 1.000000e+00 | 2.982717e-01 | 8.847574e-41 | 1            | 1.923051e-41 | 1            | 8.458120e-01 | 3.422445e-43 | 1.000000e+00 | 0.0000000    | ⋯            | 9.586628e-01 | 1.000000e+00 | 4.835524e-01 | 2.793974e-42 | 0.9399980    | 1.433117e-41 | 0            | 8.743901e-01 | 3.464381e-41 | 6.663029e-39 | \n",
       "| 8.118888e-01 | 2.736181e-41 | 8.847574e-41 | 0            | 1.923051e-41 | 0            | 8.602727e-41 | 3.422445e-43 | 2.657076e-40 | 0.0000000    | ⋯            | 7.734674e-42 | 6.084654e-43 | 1.120709e-41 | 2.793974e-42 | 0.0000000    | 1.433117e-41 | 0            | 8.319693e-39 | 3.464381e-41 | 4.972767e-11 | \n",
       "| 1.193006e-13 | 2.736181e-41 | 8.847574e-41 | 0            | 1.923051e-41 | 0            | 8.602727e-41 | 3.422445e-43 | 2.657076e-40 | 0.0000000    | ⋯            | 7.734674e-42 | 6.084654e-43 | 1.120709e-41 | 2.793974e-42 | 0.0000000    | 1.433117e-41 | 0            | 1.330441e-39 | 3.464381e-41 | 6.663029e-39 | \n",
       "| 1.193006e-13 | 2.736181e-41 | 8.847574e-41 | 0            | 1.923051e-41 | 0            | 8.602727e-41 | 3.422445e-43 | 2.657076e-40 | 0.0000000    | ⋯            | 7.734674e-42 | 6.084654e-43 | 1.120709e-41 | 2.793974e-42 | 0.0000000    | 1.433117e-41 | 0            | 1.330441e-39 | 3.464381e-41 | 6.663029e-39 | \n",
       "\n",
       "\n",
       "\n",
       "$lfsr\n",
       ":   \n",
       "| 0.000000e+00  | 1.110223e-16  | 0.0000000     | 0.000000e+00  | 4.314191e-07  | 0.0000000     | 0.000000e+00  | 0.0000000     | 0.0000000     | 1.110223e-16  | ⋯             | -2.220446e-16 | 1.110223e-16  | 0.000000000   | 1.387779e-14  | 0.000000e+00  | 0.0000000     | 1.110223e-16  | 4.002132e-12  | 7.252782e-06  | 0.0006636412  | \n",
       "| 1.110223e-16  | 1.051624e-02  | 0.2042303     | 1.110223e-16  | 2.307441e-02  | 0.0000000     | 5.064476e-08  | 0.2166895     | 0.0000000     | 2.983107e-01  | ⋯             |  5.397127e-12 | 1.032507e-14  | 0.002415923   | 2.138793e-01  | 3.909645e-10  | 0.3008102     | 2.483189e-01  | 9.811422e-07  | 2.930031e-01  | 0.0831008771  | \n",
       "| 3.968579e-07  | 2.907259e-01  | 0.2009671     | 3.515603e-01  | 2.453586e-01  | 0.2696713     | 3.663734e-01  | 0.2160695     | 0.3846569     | 2.976791e-01  | ⋯             |  2.128599e-01 | 2.833277e-01  | 0.302773290   | 2.103535e-01  | 2.787650e-01  | 0.3011567     | 2.474620e-01  | 1.504939e-01  | 2.933054e-01  | 0.0274480533  | \n",
       "| 4.348645e-01  | 2.905872e-01  | 0.2006130     | 3.514377e-01  | 2.461852e-01  | 0.2689490     | 3.680002e-01  | 0.2159145     | 0.3844345     | 2.974607e-01  | ⋯             |  2.119697e-01 | 2.829136e-01  | 0.303269431   | 2.108869e-01  | 2.786586e-01  | 0.3026100     | 2.474810e-01  | 2.551203e-01  | 2.939670e-01  | 0.2652196603  | \n",
       "| 4.357395e-01  | 2.906602e-01  | 0.2027403     | 3.513787e-01  | 2.474014e-01  | 0.2678285     | 3.704126e-01  | 0.2163372     | 0.3840299     | 2.978265e-01  | ⋯             |  2.111652e-01 | 2.831244e-01  | 0.304354536   | 2.138997e-01  | 2.796414e-01  | 0.3049636     | 2.481342e-01  | 2.559523e-01  | 2.950045e-01  | 0.2692259465  | \n",
       "\n",
       "\n",
       "\n",
       "$size\n",
       ":   \n",
       "|   1 |   1 |   1 |   1 |   7 |   1 |  16 |  20 |  14 |  10 | ⋯   |   1 |  51 |  62 |   9 |  10 |  27 |   1 |  40 |  55 |  62 | \n",
       "|   1 |   2 | 920 |   4 | 359 |   1 |  48 | 924 |   1 | 939 | ⋯   |  11 |   1 |  40 | 925 |   5 | 941 | 932 |   4 | 939 | 777 | \n",
       "|  44 | 938 | 919 | 945 | 931 | 937 | 948 | 923 | 948 | 939 | ⋯   | 922 | 936 | 940 | 924 | 934 | 941 | 932 | 888 | 939 | 417 | \n",
       "| 950 | 938 | 919 | 945 | 931 | 936 | 948 | 923 | 948 | 939 | ⋯   | 922 | 936 | 940 | 924 | 934 | 941 | 932 | 931 | 939 | 935 | \n",
       "| 950 | 938 | 920 | 945 | 932 | 936 | 948 | 923 | 948 | 939 | ⋯   | 922 | 936 | 940 | 925 | 935 | 942 | 932 | 931 | 939 | 936 | \n",
       "\n",
       "\n",
       "\n",
       "$captures\n",
       ":   1. 41\n",
       "2. 39\n",
       "\n",
       "\n",
       "\n",
       "\n",
       "\n"
      ],
      "text/plain": [
       "$purity\n",
       "             [,1]         [,2]         [,3] [,4]         [,5] [,6]         [,7]\n",
       "[1,] 1.000000e+00 1.000000e+00 1.000000e+00    1 9.381204e-01    1 8.645951e-01\n",
       "[2,] 1.000000e+00 2.982717e-01 8.847574e-41    1 1.923051e-41    1 8.458120e-01\n",
       "[3,] 8.118888e-01 2.736181e-41 8.847574e-41    0 1.923051e-41    0 8.602727e-41\n",
       "[4,] 1.193006e-13 2.736181e-41 8.847574e-41    0 1.923051e-41    0 8.602727e-41\n",
       "[5,] 1.193006e-13 2.736181e-41 8.847574e-41    0 1.923051e-41    0 8.602727e-41\n",
       "             [,8]         [,9]     [,10]        [,11] [,12] [,13]        [,14]\n",
       "[1,] 9.794020e-01 9.598763e-01 0.9249755 1.000000e+00     1     1 9.804144e-01\n",
       "[2,] 3.422445e-43 1.000000e+00 0.0000000 1.000000e+00     0     0 3.807091e-04\n",
       "[3,] 3.422445e-43 2.657076e-40 0.0000000 3.355041e-41     0     0 2.647995e-40\n",
       "[4,] 3.422445e-43 2.657076e-40 0.0000000 3.355041e-41     0     0 2.647995e-40\n",
       "[5,] 3.422445e-43 2.657076e-40 0.0000000 3.355041e-41     0     0 2.647995e-40\n",
       "         [,15]        [,16] [,17]        [,18]       [,19]        [,20]\n",
       "[1,] 0.9184869 1.000000e+00     1 1.000000e+00 1.00000e+00 9.456452e-01\n",
       "[2,] 0.9460323 1.000000e+00     0 1.574193e-40 6.41643e-40 5.764097e-42\n",
       "[3,] 0.0000000 1.089505e-41     0 0.000000e+00 6.41643e-40 5.764097e-42\n",
       "[4,] 0.0000000 1.089505e-41     0 0.000000e+00 6.41643e-40 5.764097e-42\n",
       "[5,] 0.0000000 1.089505e-41     0 0.000000e+00 6.41643e-40 5.764097e-42\n",
       "            [,21]        [,22]        [,23]        [,24]        [,25]\n",
       "[1,] 1.000000e+00 9.345388e-01 8.352340e-01 1.000000e+00 9.907310e-01\n",
       "[2,] 8.615749e-41 3.316585e-12 6.551212e-01 7.873444e-01 7.482904e-01\n",
       "[3,] 8.615749e-41 1.407473e-41 1.317598e-43 8.792843e-42 4.857131e-41\n",
       "[4,] 8.615749e-41 1.407473e-41 1.317598e-43 8.792843e-42 4.857131e-41\n",
       "[5,] 8.615749e-41 1.407473e-41 1.317598e-43 8.792843e-42 4.857131e-41\n",
       "            [,26]        [,27]        [,28]        [,29] [,30]        [,31]\n",
       "[1,] 8.696549e-01 9.577376e-01 9.659985e-01 8.238577e-01     1 1.000000e+00\n",
       "[2,] 2.671618e-41 5.682230e-01 3.088648e-42 6.545669e-01     0 1.888945e-41\n",
       "[3,] 2.671618e-41 1.684697e-39 3.088648e-42 4.949097e-41     0 1.888945e-41\n",
       "[4,] 2.671618e-41 1.684697e-39 3.088648e-42 4.949097e-41     0 1.888945e-41\n",
       "[5,] 2.671618e-41 1.684697e-39 3.088648e-42 4.949097e-41     0 1.888945e-41\n",
       "     [,32]     [,33]        [,34]     [,35]       [,36]        [,37]     [,38]\n",
       "[1,]     1 0.9680085 9.889679e-01 0.9642847 1.00000e+00 9.111161e-01 0.9564162\n",
       "[2,]     1 0.5260431 1.000000e+00 0.0000000 2.29216e-44 2.442539e-42 0.0000000\n",
       "[3,]     0 0.0000000 3.104415e-43 0.0000000 2.29216e-44 2.442539e-42 0.0000000\n",
       "[4,]     0 0.0000000 3.104415e-43 0.0000000 2.29216e-44 2.442539e-42 0.0000000\n",
       "[5,]     0 0.0000000 3.104415e-43 0.0000000 2.29216e-44 2.442539e-42 0.0000000\n",
       "         [,39]        [,40]        [,41]        [,42]        [,43]        [,44]\n",
       "[1,] 1.0000000 9.988615e-01 1.000000e+00 7.892258e-01 9.564520e-01 8.177256e-01\n",
       "[2,] 0.6555788 9.150385e-01 9.586628e-01 1.000000e+00 4.835524e-01 2.793974e-42\n",
       "[3,] 0.0000000 1.586484e-42 7.734674e-42 6.084654e-43 1.120709e-41 2.793974e-42\n",
       "[4,] 0.0000000 1.586484e-42 7.734674e-42 6.084654e-43 1.120709e-41 2.793974e-42\n",
       "[5,] 0.0000000 1.586484e-42 7.734674e-42 6.084654e-43 1.120709e-41 2.793974e-42\n",
       "         [,45]        [,46] [,47]        [,48]        [,49]        [,50]\n",
       "[1,] 0.9472561 9.392101e-01     1 7.964152e-01 3.224397e-01 5.097050e-01\n",
       "[2,] 0.9399980 1.433117e-41     0 8.743901e-01 3.464381e-41 6.663029e-39\n",
       "[3,] 0.0000000 1.433117e-41     0 8.319693e-39 3.464381e-41 4.972767e-11\n",
       "[4,] 0.0000000 1.433117e-41     0 1.330441e-39 3.464381e-41 6.663029e-39\n",
       "[5,] 0.0000000 1.433117e-41     0 1.330441e-39 3.464381e-41 6.663029e-39\n",
       "\n",
       "$lfsr\n",
       "             [,1]         [,2]      [,3]         [,4]         [,5]      [,6]\n",
       "[1,] 0.000000e+00 1.110223e-16 0.0000000 0.000000e+00 4.314191e-07 0.0000000\n",
       "[2,] 1.110223e-16 1.051624e-02 0.2042303 1.110223e-16 2.307441e-02 0.0000000\n",
       "[3,] 3.968579e-07 2.907259e-01 0.2009671 3.515603e-01 2.453586e-01 0.2696713\n",
       "[4,] 4.348645e-01 2.905872e-01 0.2006130 3.514377e-01 2.461852e-01 0.2689490\n",
       "[5,] 4.357395e-01 2.906602e-01 0.2027403 3.513787e-01 2.474014e-01 0.2678285\n",
       "             [,7]      [,8]      [,9]        [,10]        [,11]        [,12]\n",
       "[1,] 0.000000e+00 0.0000000 0.0000000 1.110223e-16 0.000000e+00 1.110223e-16\n",
       "[2,] 5.064476e-08 0.2166895 0.0000000 2.983107e-01 2.220758e-09 3.187416e-01\n",
       "[3,] 3.663734e-01 0.2160695 0.3846569 2.976791e-01 3.084750e-01 3.169983e-01\n",
       "[4,] 3.680002e-01 0.2159145 0.3844345 2.974607e-01 3.081728e-01 3.167994e-01\n",
       "[5,] 3.704126e-01 0.2163372 0.3840299 2.978265e-01 3.082720e-01 3.179308e-01\n",
       "         [,13]      [,14]        [,15]     [,16]     [,17]         [,18]\n",
       "[1,] 0.0000000 0.00000000 1.254552e-14 0.0000000 0.0000000 -2.220446e-16\n",
       "[2,] 0.2584263 0.01551687 1.883871e-04 0.0000000 0.2686357  2.654720e-02\n",
       "[3,] 0.2582243 0.32743597 2.171785e-01 0.4259247 0.2685366  3.317436e-01\n",
       "[4,] 0.2580651 0.32749313 2.169096e-01 0.4259180 0.2684099  3.317138e-01\n",
       "[5,] 0.2581070 0.32765777 2.169730e-01 0.4259220 0.2684168  3.317227e-01\n",
       "            [,19]     [,20]     [,21]        [,22]       [,23]        [,24]\n",
       "[1,] 1.480640e-06 0.0000000 0.0000000 1.110223e-16 0.000000000 0.000000e+00\n",
       "[2,] 1.946882e-01 0.2204117 0.3107934 2.943844e-02 0.002090155 2.260123e-06\n",
       "[3,] 1.919829e-01 0.2190841 0.3104590 1.993118e-01 0.274122885 3.122654e-01\n",
       "[4,] 1.929822e-01 0.2187935 0.3102896 2.117295e-01 0.273882794 3.122773e-01\n",
       "[5,] 1.958377e-01 0.2195746 0.3104245 2.166153e-01 0.273716092 3.122979e-01\n",
       "            [,25]        [,26]        [,27]     [,28]        [,29]     [,30]\n",
       "[1,] 0.000000e+00 1.465494e-14 1.110223e-16 0.0000000 1.547517e-06 0.0000000\n",
       "[2,] 2.113196e-05 1.649179e-01 6.548894e-04 0.2511779 2.908524e-05 0.3090516\n",
       "[3,] 2.065157e-01 1.639044e-01 3.582700e-01 0.2503535 2.051695e-01 0.3086172\n",
       "[4,] 2.062826e-01 1.634528e-01 3.613917e-01 0.2506320 2.017473e-01 0.3083615\n",
       "[5,] 2.101635e-01 1.640055e-01 3.658499e-01 0.2514647 2.077505e-01 0.3084879\n",
       "         [,31]         [,32]       [,33]        [,34]        [,35]        [,36]\n",
       "[1,] 0.0000000 -2.220446e-16 0.000000000 1.110223e-16 1.110223e-16 1.110223e-16\n",
       "[2,] 0.2733358  4.401701e-12 0.004174174 4.261602e-07 2.808947e-01 2.862509e-01\n",
       "[3,] 0.2700365  2.089549e-01 0.247740790 2.887697e-01 2.855810e-01 2.853715e-01\n",
       "[4,] 0.2710992  2.032070e-01 0.247714905 2.888327e-01 2.942371e-01 2.850112e-01\n",
       "[5,] 0.2744850  2.115514e-01 0.252564848 2.887964e-01 3.047548e-01 2.853936e-01\n",
       "            [,37]        [,38]        [,39]        [,40]         [,41]\n",
       "[1,] 1.138696e-09 1.110223e-16 5.035861e-11 0.000000e+00 -2.220446e-16\n",
       "[2,] 2.144185e-01 2.732806e-01 5.263992e-07 3.999434e-11  5.397127e-12\n",
       "[3,] 2.118662e-01 2.730391e-01 2.524911e-01 4.087204e-01  2.128599e-01\n",
       "[4,] 2.126672e-01 2.728052e-01 2.522770e-01 4.086241e-01  2.119697e-01\n",
       "[5,] 2.152006e-01 2.728419e-01 2.524181e-01 4.085524e-01  2.111652e-01\n",
       "            [,42]       [,43]        [,44]        [,45]     [,46]        [,47]\n",
       "[1,] 1.110223e-16 0.000000000 1.387779e-14 0.000000e+00 0.0000000 1.110223e-16\n",
       "[2,] 1.032507e-14 0.002415923 2.138793e-01 3.909645e-10 0.3008102 2.483189e-01\n",
       "[3,] 2.833277e-01 0.302773290 2.103535e-01 2.787650e-01 0.3011567 2.474620e-01\n",
       "[4,] 2.829136e-01 0.303269431 2.108869e-01 2.786586e-01 0.3026100 2.474810e-01\n",
       "[5,] 2.831244e-01 0.304354536 2.138997e-01 2.796414e-01 0.3049636 2.481342e-01\n",
       "            [,48]        [,49]        [,50]\n",
       "[1,] 4.002132e-12 7.252782e-06 0.0006636412\n",
       "[2,] 9.811422e-07 2.930031e-01 0.0831008771\n",
       "[3,] 1.504939e-01 2.933054e-01 0.0274480533\n",
       "[4,] 2.551203e-01 2.939670e-01 0.2652196603\n",
       "[5,] 2.559523e-01 2.950045e-01 0.2692259465\n",
       "\n",
       "$size\n",
       "     [,1] [,2] [,3] [,4] [,5] [,6] [,7] [,8] [,9] [,10] [,11] [,12] [,13] [,14]\n",
       "[1,]    1    1    1    1    7    1   16   20   14    10     1     1     1    13\n",
       "[2,]    1    2  920    4  359    1   48  924    1   939     2   942   934    93\n",
       "[3,]   44  938  919  945  931  937  948  923  948   939   940   942   934   944\n",
       "[4,]  950  938  919  945  931  936  948  923  948   939   940   942   934   944\n",
       "[5,]  950  938  920  945  932  936  948  923  948   939   940   942   934   944\n",
       "     [,15] [,16] [,17] [,18] [,19] [,20] [,21] [,22] [,23] [,24] [,25] [,26]\n",
       "[1,]     2     3     1     2     1     9     2    27    40     1    14    11\n",
       "[2,]    12     1   938   365   920   926   942   583     6     5     8   906\n",
       "[3,]   924   951   938   943   919   925   942   918   936   943   919   905\n",
       "[4,]   924   951   938   943   919   925   942   923   936   943   919   905\n",
       "[5,]   924   951   938   943   920   926   942   925   936   943   920   905\n",
       "     [,27] [,28] [,29] [,30] [,31] [,32] [,33] [,34] [,35] [,36] [,37] [,38]\n",
       "[1,]     8     6   113     1     1     1    12     2    11     1     2     3\n",
       "[2,]    20   931    74   941   937     6    14     1   939   937   923   937\n",
       "[3,]   948   931   918   941   937   918   934   939   939   937   922   937\n",
       "[4,]   948   931   916   941   937   916   934   939   940   937   923   937\n",
       "[5,]   948   931   918   941   938   919   935   939   941   937   923   937\n",
       "     [,39] [,40] [,41] [,42] [,43] [,44] [,45] [,46] [,47] [,48] [,49] [,50]\n",
       "[1,]     1    21     1    51    62     9    10    27     1    40    55    62\n",
       "[2,]     5    13    11     1    40   925     5   941   932     4   939   777\n",
       "[3,]   933   949   922   936   940   924   934   941   932   888   939   417\n",
       "[4,]   933   949   922   936   940   924   934   941   932   931   939   935\n",
       "[5,]   933   949   922   936   940   925   935   942   932   931   939   936\n",
       "\n",
       "$captures\n",
       "[1] 41 39\n"
      ]
     },
     "metadata": {},
     "output_type": "display_data"
    }
   ],
   "source": [
    "combined = get_combined(sub, dirname, ld_col)\n",
    "combined"
   ]
  },
  {
   "cell_type": "code",
   "execution_count": 12,
   "metadata": {
    "kernel": "R"
   },
   "outputs": [],
   "source": [
    "saveRDS(combined, '../data/20180516_susie_bm.rds')"
   ]
  },
  {
   "cell_type": "code",
   "execution_count": 13,
   "metadata": {
    "kernel": "Bash"
   },
   "outputs": [],
   "source": [
    "dsc-io ../data/20180516_susie_bm.rds ../data/20180516_susie_bm.pkl"
   ]
  },
  {
   "cell_type": "code",
   "execution_count": 14,
   "metadata": {
    "kernel": "Python3"
   },
   "outputs": [],
   "source": [
    "import pickle\n",
    "data = pickle.load(open('../data/20180516_susie_bm.pkl', 'rb'))"
   ]
  },
  {
   "cell_type": "code",
   "execution_count": 40,
   "metadata": {
    "kernel": "Python3"
   },
   "outputs": [
    {
     "data": {
      "image/png": "[encoded data removed]",
      "text/plain": [
       "<matplotlib.figure.Figure at 0x2b4458546438>"
      ]
     },
     "metadata": {},
     "output_type": "display_data"
    }
   ],
   "source": [
    "plot_purity(data, '2_p2pve_false.png')"
   ]
  },
  {
   "cell_type": "code",
   "execution_count": null,
   "metadata": {},
   "outputs": [],
   "source": []
  }
 ],
 "metadata": {
  "kernelspec": {
   "display_name": "SoS",
   "language": "sos",
   "name": "sos"
  },
  "language_info": {
   "codemirror_mode": "sos",
   "file_extension": ".sos",
   "mimetype": "text/x-sos",
   "name": "sos",
   "nbconvert_exporter": "sos_notebook.converter.SoS_Exporter",
   "pygments_lexer": "sos"
  },
  "sos": {
   "default_kernel": "SoS",
   "kernels": [
    [
     "Bash",
     "bash",
     "Bash",
     "#E6EEFF"
    ],
    [
     "Python3",
     "python3",
     "Python3",
     "#FFE771"
    ],
    [
     "R",
     "ir",
     "R",
     "#DCDCDA"
    ]
   ]
  }
 },
 "nbformat": 4,
 "nbformat_minor": 2
}
