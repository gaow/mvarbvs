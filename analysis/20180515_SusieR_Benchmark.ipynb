{
 "cells": [
  {
   "cell_type": "markdown",
   "metadata": {},
   "source": [
    "# SusieR benchmark\n",
    "\n",
    "A first (comprehensive) set of simulations to learn properties of the new fine-mapping method."
   ]
  },
  {
   "cell_type": "markdown",
   "metadata": {},
   "source": [
    "As a first pass, we run `susie` on simulations of 100 genes, with \n",
    "\n",
    "- real genotypes, of length 1000 for starters\n",
    "- randomly-chosen SNPs as eQTLs\n",
    "- 1-5 eQTLs per gene\n",
    "- explaining 5-40% of the variance in Y\n",
    "\n",
    "We characterize 95% confident sets (CS) it produces in terms of\n",
    "\n",
    "- size: number of variants in it\n",
    "- purity: min, median or mean LD (turns out we can live with using min)\n",
    "- significance: lfsr of a CS\n",
    "- false discovery: whether or not they capture a signal\n",
    "\n",
    "and, to compare with other methods\n",
    "\n",
    "- power: whether or not all simulated signals are captured\n",
    "- PIP consistency: whether or not \n",
    "\n",
    "We run Susie with\n",
    "\n",
    "- `estimate_residual_variance`: TRUE and FALSE\n",
    "- `prior_variance`: 5-40%\n",
    "\n",
    "We should expect that results will be reasonably robust to these choices."
   ]
  },
  {
   "cell_type": "code",
   "execution_count": 1,
   "metadata": {},
   "outputs": [
    {
     "name": "stdout",
     "output_type": "stream",
     "text": [
      "/home/gaow/GIT/github/mvarbvs/dsc"
     ]
    }
   ],
   "source": [
    "%cd ~/GIT/github/mvarbvs/dsc"
   ]
  },
  {
   "cell_type": "code",
   "execution_count": null,
   "metadata": {
    "kernel": "Bash"
   },
   "outputs": [],
   "source": [
    "dsc susie.dsc --target run_susie -c 20"
   ]
  },
  {
   "cell_type": "markdown",
   "metadata": {},
   "source": [
    "## Utility function"
   ]
  },
  {
   "cell_type": "code",
   "execution_count": 10,
   "metadata": {
    "kernel": "R"
   },
   "outputs": [],
   "source": [
    "get_combined = function(sub, dirname, ld_col, ld_cutoff = 0.2, lfsr_cutoff = 0.05) {\n",
    "    out_files = sub[,c(\"fit_susie.output.file\", \"plot_susie.output.file\")]\n",
    "    combined = list(purity = NULL, lfsr = NULL, size = NULL, \n",
    "                    captures = NULL, total_captures = NULL, pip = NULL)\n",
    "    for (i in 1:nrow(out_files)) {\n",
    "        fit = readRDS(paste0(dirname, out_files[i,1], '.rds'))$posterior\n",
    "        purity = readRDS(paste0(dirname, out_files[i,2], '.rds'))\n",
    "        #\n",
    "        if (is.null(combined$purity)) combined$purity = purity$purity$V1[,ld_col]\n",
    "        else combined$purity = cbind(combined$purity, purity$purity$V1[,ld_col])\n",
    "        #\n",
    "        if (is.null(combined$size)) combined$size = fit$n_in_CI[,1]\n",
    "        else combined$size = cbind(combined$size, fit$n_in_CI[,1])\n",
    "        #\n",
    "        if (is.null(combined$lfsr)) combined$lfsr = fit$set_lfsr[,1]\n",
    "        else combined$lfsr = cbind(combined$lfsr, fit$set_lfsr[,1])\n",
    "        #\n",
    "        alpha = fit$alpha[which(purity$purity$V1[,ld_col] > ld_cutoff),,drop=FALSE]\n",
    "        pip = t(1 - apply(1 - alpha, 2, prod))\n",
    "        if (is.null(combined$pip)) combined$pip = pip\n",
    "        else combined$pip = cbind(combined$pip, pip)        \n",
    "        #\n",
    "        if (is.null(combined$captures)) combined$captures = rowSums(purity$signal$V1)\n",
    "        else combined$captures = cbind(combined$captures, rowSums(purity$signal$V1))\n",
    "        #\n",
    "        detected = apply(t(purity$signal$V1[which(fit$set_lfsr[,1] < lfsr_cutoff),,drop=FALSE]), 1, sum)\n",
    "        if (is.null(combined$total_captures)) combined$total_captures = detected\n",
    "        else combined$total_captures = combined$total_captures + detected\n",
    "    }\n",
    "    return(combined)\n",
    "}"
   ]
  },
  {
   "cell_type": "code",
   "execution_count": 54,
   "metadata": {
    "kernel": "Python3"
   },
   "outputs": [],
   "source": [
    "import numpy as np\n",
    "import matplotlib.pyplot as plt\n",
    "import seaborn as sns\n",
    "sns.set(style='ticks', context='talk')\n",
    "\n",
    "COLORS = ['#348ABD', '#7A68A6', '#A60628', '#467821', '#FF0000', '#188487', '#E2A233',\n",
    "              '#A9A9A9', '#000000', '#FF00FF', '#FFD700', '#ADFF2F', '#00FFFF']\n",
    "color_mapper = np.vectorize(lambda x: dict([(i,j) for i,j in enumerate(COLORS)]).get(x))\n",
    "\n",
    "def plot_purity(data, output, lfsr_cutoff = 0.05):\n",
    "    purity = np.array(data['purity'])\n",
    "    lfsr = np.array(data['lfsr'])\n",
    "    size = np.array(data['size'])\n",
    "    capture = np.array(data['captures'])\n",
    "    capture_summary = [f\"Signal {idx+1} captured {item}/{purity.shape[1]} times\" for idx, item in enumerate(data['total_captures'])]\n",
    "    idx = 0\n",
    "    plt.figure(figsize=(12, 8))\n",
    "    L = purity.shape[0]\n",
    "    cols = 3\n",
    "    rows = L // cols + L % cols\n",
    "    position = range(1,L + 1)\n",
    "    for x, y, z, c in zip(size, purity, lfsr, capture):\n",
    "        z_sig = [i for i, zz in enumerate(z) if zz <= lfsr_cutoff]\n",
    "        z_nsig = [i for i, zz in enumerate(z) if zz > lfsr_cutoff]\n",
    "        colors = [4 if i == 0 else 0 for i in c]\n",
    "        plt.subplot(rows,cols,position[idx])\n",
    "        idx += 1\n",
    "        if len(z_sig):\n",
    "            label = f'{idx}: lfsr<={lfsr_cutoff}'\n",
    "            plt.scatter(np.take(x, z_sig),\n",
    "                        np.take(y, z_sig),\n",
    "                        c = color_mapper(np.take(colors, z_sig)), \n",
    "                        label = label, marker = '*')\n",
    "        if len(z_nsig):\n",
    "            label = f'{idx}: lfsr>{lfsr_cutoff}'\n",
    "            plt.scatter(np.take(x, z_nsig),\n",
    "                        np.take(y, z_nsig),\n",
    "                        c = color_mapper(np.take(colors, z_nsig)), \n",
    "                        label = label, marker = 'x')   \n",
    "        plt.legend(bbox_to_anchor=(0,1.02,1,0.2), loc=\"lower left\",\n",
    "                mode=\"expand\", borderaxespad=0, ncol=2, handletextpad=0.1)\n",
    "    plt.subplots_adjust(hspace=0.3, wspace = 0.3)\n",
    "    plt.suptitle(f\"95% CI set sizes vs min(abs(LD))\\n{'; '.join(capture_summary)}\")\n",
    "    plt.savefig(output, dpi=500, bbox_inches='tight')                    \n",
    "    plt.gca()"
   ]
  },
  {
   "cell_type": "markdown",
   "metadata": {},
   "source": [
    "## Results"
   ]
  },
  {
   "cell_type": "code",
   "execution_count": 2,
   "metadata": {
    "kernel": "R"
   },
   "outputs": [
    {
     "name": "stdout",
     "output_type": "stream",
     "text": [
      "Loading dsc-query output from CSV file.\n"
     ]
    }
   ],
   "source": [
    "out = dscrutils::dscquery('benchmark', \n",
    "                    target = \"liter_data.dataset simple_lm.pve simple_lm.n_signal fit_susie.estimate_residual_variance fit_susie.prior_var fit_susie plot_susie\")"
   ]
  },
  {
   "cell_type": "code",
   "execution_count": 59,
   "metadata": {
    "kernel": "R"
   },
   "outputs": [
    {
     "data": {
      "text/html": [
       "<table>\n",
       "<thead><tr><th scope=col>DSC</th><th scope=col>liter_data.dataset</th><th scope=col>simple_lm.pve</th><th scope=col>simple_lm.n_signal</th><th scope=col>fit_susie.estimate_residual_variance</th><th scope=col>fit_susie.prior_var</th><th scope=col>fit_susie.output.file</th><th scope=col>eval_susie.output.file</th></tr></thead>\n",
       "<tbody>\n",
       "\t<tr><td>1                                                                          </td><td>~/Documents/GTExV8/Thyroid.Lung.FMO2.filled.rds                            </td><td>0.05                                                                       </td><td>1                                                                          </td><td>FALSE                                                                      </td><td>0.05                                                                       </td><td>fit_susie/liter_data_1_summarize_ld_1_simple_lm_1_fit_susie_1              </td><td>eval_susie/liter_data_1_summarize_ld_1_simple_lm_1_fit_susie_1_eval_susie_1</td></tr>\n",
       "\t<tr><td>1                                                                          </td><td>~/Documents/GTExV8/Thyroid.Lung.FMO2.filled.rds                            </td><td>0.05                                                                       </td><td>1                                                                          </td><td>FALSE                                                                      </td><td>0.10                                                                       </td><td>fit_susie/liter_data_1_summarize_ld_1_simple_lm_1_fit_susie_3              </td><td>eval_susie/liter_data_1_summarize_ld_1_simple_lm_1_fit_susie_3_eval_susie_1</td></tr>\n",
       "\t<tr><td>1                                                                          </td><td>~/Documents/GTExV8/Thyroid.Lung.FMO2.filled.rds                            </td><td>0.05                                                                       </td><td>1                                                                          </td><td>FALSE                                                                      </td><td>0.20                                                                       </td><td>fit_susie/liter_data_1_summarize_ld_1_simple_lm_1_fit_susie_5              </td><td>eval_susie/liter_data_1_summarize_ld_1_simple_lm_1_fit_susie_5_eval_susie_1</td></tr>\n",
       "\t<tr><td>1                                                                          </td><td>~/Documents/GTExV8/Thyroid.Lung.FMO2.filled.rds                            </td><td>0.05                                                                       </td><td>1                                                                          </td><td>FALSE                                                                      </td><td>0.40                                                                       </td><td>fit_susie/liter_data_1_summarize_ld_1_simple_lm_1_fit_susie_7              </td><td>eval_susie/liter_data_1_summarize_ld_1_simple_lm_1_fit_susie_7_eval_susie_1</td></tr>\n",
       "\t<tr><td>1                                                                          </td><td>~/Documents/GTExV8/Thyroid.Lung.FMO2.filled.rds                            </td><td>0.05                                                                       </td><td>1                                                                          </td><td> TRUE                                                                      </td><td>0.05                                                                       </td><td>fit_susie/liter_data_1_summarize_ld_1_simple_lm_1_fit_susie_2              </td><td>eval_susie/liter_data_1_summarize_ld_1_simple_lm_1_fit_susie_2_eval_susie_1</td></tr>\n",
       "\t<tr><td>1                                                                          </td><td>~/Documents/GTExV8/Thyroid.Lung.FMO2.filled.rds                            </td><td>0.05                                                                       </td><td>1                                                                          </td><td> TRUE                                                                      </td><td>0.10                                                                       </td><td>fit_susie/liter_data_1_summarize_ld_1_simple_lm_1_fit_susie_4              </td><td>eval_susie/liter_data_1_summarize_ld_1_simple_lm_1_fit_susie_4_eval_susie_1</td></tr>\n",
       "</tbody>\n",
       "</table>\n"
      ],
      "text/latex": [
       "\\begin{tabular}{r|llllllll}\n",
       " DSC & liter\\_data.dataset & simple\\_lm.pve & simple\\_lm.n\\_signal & fit\\_susie.estimate\\_residual\\_variance & fit\\_susie.prior\\_var & fit\\_susie.output.file & eval\\_susie.output.file\\\\\n",
       "\\hline\n",
       "\t 1                                                                                                         & \\textasciitilde{}/Documents/GTExV8/Thyroid.Lung.FMO2.filled.rds                                          & 0.05                                                                                                      & 1                                                                                                         & FALSE                                                                                                     & 0.05                                                                                                      & fit\\_susie/liter\\_data\\_1\\_summarize\\_ld\\_1\\_simple\\_lm\\_1\\_fit\\_susie\\_1                     & eval\\_susie/liter\\_data\\_1\\_summarize\\_ld\\_1\\_simple\\_lm\\_1\\_fit\\_susie\\_1\\_eval\\_susie\\_1\\\\\n",
       "\t 1                                                                                                         & \\textasciitilde{}/Documents/GTExV8/Thyroid.Lung.FMO2.filled.rds                                          & 0.05                                                                                                      & 1                                                                                                         & FALSE                                                                                                     & 0.10                                                                                                      & fit\\_susie/liter\\_data\\_1\\_summarize\\_ld\\_1\\_simple\\_lm\\_1\\_fit\\_susie\\_3                     & eval\\_susie/liter\\_data\\_1\\_summarize\\_ld\\_1\\_simple\\_lm\\_1\\_fit\\_susie\\_3\\_eval\\_susie\\_1\\\\\n",
       "\t 1                                                                                                         & \\textasciitilde{}/Documents/GTExV8/Thyroid.Lung.FMO2.filled.rds                                          & 0.05                                                                                                      & 1                                                                                                         & FALSE                                                                                                     & 0.20                                                                                                      & fit\\_susie/liter\\_data\\_1\\_summarize\\_ld\\_1\\_simple\\_lm\\_1\\_fit\\_susie\\_5                     & eval\\_susie/liter\\_data\\_1\\_summarize\\_ld\\_1\\_simple\\_lm\\_1\\_fit\\_susie\\_5\\_eval\\_susie\\_1\\\\\n",
       "\t 1                                                                                                         & \\textasciitilde{}/Documents/GTExV8/Thyroid.Lung.FMO2.filled.rds                                          & 0.05                                                                                                      & 1                                                                                                         & FALSE                                                                                                     & 0.40                                                                                                      & fit\\_susie/liter\\_data\\_1\\_summarize\\_ld\\_1\\_simple\\_lm\\_1\\_fit\\_susie\\_7                     & eval\\_susie/liter\\_data\\_1\\_summarize\\_ld\\_1\\_simple\\_lm\\_1\\_fit\\_susie\\_7\\_eval\\_susie\\_1\\\\\n",
       "\t 1                                                                                                         & \\textasciitilde{}/Documents/GTExV8/Thyroid.Lung.FMO2.filled.rds                                          & 0.05                                                                                                      & 1                                                                                                         &  TRUE                                                                                                     & 0.05                                                                                                      & fit\\_susie/liter\\_data\\_1\\_summarize\\_ld\\_1\\_simple\\_lm\\_1\\_fit\\_susie\\_2                     & eval\\_susie/liter\\_data\\_1\\_summarize\\_ld\\_1\\_simple\\_lm\\_1\\_fit\\_susie\\_2\\_eval\\_susie\\_1\\\\\n",
       "\t 1                                                                                                         & \\textasciitilde{}/Documents/GTExV8/Thyroid.Lung.FMO2.filled.rds                                          & 0.05                                                                                                      & 1                                                                                                         &  TRUE                                                                                                     & 0.10                                                                                                      & fit\\_susie/liter\\_data\\_1\\_summarize\\_ld\\_1\\_simple\\_lm\\_1\\_fit\\_susie\\_4                     & eval\\_susie/liter\\_data\\_1\\_summarize\\_ld\\_1\\_simple\\_lm\\_1\\_fit\\_susie\\_4\\_eval\\_susie\\_1\\\\\n",
       "\\end{tabular}\n"
      ],
      "text/markdown": [
       "\n",
       "DSC | liter_data.dataset | simple_lm.pve | simple_lm.n_signal | fit_susie.estimate_residual_variance | fit_susie.prior_var | fit_susie.output.file | eval_susie.output.file | \n",
       "|---|---|---|---|---|---|\n",
       "| 1                                                                           | ~/Documents/GTExV8/Thyroid.Lung.FMO2.filled.rds                             | 0.05                                                                        | 1                                                                           | FALSE                                                                       | 0.05                                                                        | fit_susie/liter_data_1_summarize_ld_1_simple_lm_1_fit_susie_1               | eval_susie/liter_data_1_summarize_ld_1_simple_lm_1_fit_susie_1_eval_susie_1 | \n",
       "| 1                                                                           | ~/Documents/GTExV8/Thyroid.Lung.FMO2.filled.rds                             | 0.05                                                                        | 1                                                                           | FALSE                                                                       | 0.10                                                                        | fit_susie/liter_data_1_summarize_ld_1_simple_lm_1_fit_susie_3               | eval_susie/liter_data_1_summarize_ld_1_simple_lm_1_fit_susie_3_eval_susie_1 | \n",
       "| 1                                                                           | ~/Documents/GTExV8/Thyroid.Lung.FMO2.filled.rds                             | 0.05                                                                        | 1                                                                           | FALSE                                                                       | 0.20                                                                        | fit_susie/liter_data_1_summarize_ld_1_simple_lm_1_fit_susie_5               | eval_susie/liter_data_1_summarize_ld_1_simple_lm_1_fit_susie_5_eval_susie_1 | \n",
       "| 1                                                                           | ~/Documents/GTExV8/Thyroid.Lung.FMO2.filled.rds                             | 0.05                                                                        | 1                                                                           | FALSE                                                                       | 0.40                                                                        | fit_susie/liter_data_1_summarize_ld_1_simple_lm_1_fit_susie_7               | eval_susie/liter_data_1_summarize_ld_1_simple_lm_1_fit_susie_7_eval_susie_1 | \n",
       "| 1                                                                           | ~/Documents/GTExV8/Thyroid.Lung.FMO2.filled.rds                             | 0.05                                                                        | 1                                                                           |  TRUE                                                                       | 0.05                                                                        | fit_susie/liter_data_1_summarize_ld_1_simple_lm_1_fit_susie_2               | eval_susie/liter_data_1_summarize_ld_1_simple_lm_1_fit_susie_2_eval_susie_1 | \n",
       "| 1                                                                           | ~/Documents/GTExV8/Thyroid.Lung.FMO2.filled.rds                             | 0.05                                                                        | 1                                                                           |  TRUE                                                                       | 0.10                                                                        | fit_susie/liter_data_1_summarize_ld_1_simple_lm_1_fit_susie_4               | eval_susie/liter_data_1_summarize_ld_1_simple_lm_1_fit_susie_4_eval_susie_1 | \n",
       "\n",
       "\n"
      ],
      "text/plain": [
       "  DSC liter_data.dataset                              simple_lm.pve\n",
       "1 1   ~/Documents/GTExV8/Thyroid.Lung.FMO2.filled.rds 0.05         \n",
       "2 1   ~/Documents/GTExV8/Thyroid.Lung.FMO2.filled.rds 0.05         \n",
       "3 1   ~/Documents/GTExV8/Thyroid.Lung.FMO2.filled.rds 0.05         \n",
       "4 1   ~/Documents/GTExV8/Thyroid.Lung.FMO2.filled.rds 0.05         \n",
       "5 1   ~/Documents/GTExV8/Thyroid.Lung.FMO2.filled.rds 0.05         \n",
       "6 1   ~/Documents/GTExV8/Thyroid.Lung.FMO2.filled.rds 0.05         \n",
       "  simple_lm.n_signal fit_susie.estimate_residual_variance fit_susie.prior_var\n",
       "1 1                  FALSE                                0.05               \n",
       "2 1                  FALSE                                0.10               \n",
       "3 1                  FALSE                                0.20               \n",
       "4 1                  FALSE                                0.40               \n",
       "5 1                   TRUE                                0.05               \n",
       "6 1                   TRUE                                0.10               \n",
       "  fit_susie.output.file                                        \n",
       "1 fit_susie/liter_data_1_summarize_ld_1_simple_lm_1_fit_susie_1\n",
       "2 fit_susie/liter_data_1_summarize_ld_1_simple_lm_1_fit_susie_3\n",
       "3 fit_susie/liter_data_1_summarize_ld_1_simple_lm_1_fit_susie_5\n",
       "4 fit_susie/liter_data_1_summarize_ld_1_simple_lm_1_fit_susie_7\n",
       "5 fit_susie/liter_data_1_summarize_ld_1_simple_lm_1_fit_susie_2\n",
       "6 fit_susie/liter_data_1_summarize_ld_1_simple_lm_1_fit_susie_4\n",
       "  eval_susie.output.file                                                     \n",
       "1 eval_susie/liter_data_1_summarize_ld_1_simple_lm_1_fit_susie_1_eval_susie_1\n",
       "2 eval_susie/liter_data_1_summarize_ld_1_simple_lm_1_fit_susie_3_eval_susie_1\n",
       "3 eval_susie/liter_data_1_summarize_ld_1_simple_lm_1_fit_susie_5_eval_susie_1\n",
       "4 eval_susie/liter_data_1_summarize_ld_1_simple_lm_1_fit_susie_7_eval_susie_1\n",
       "5 eval_susie/liter_data_1_summarize_ld_1_simple_lm_1_fit_susie_2_eval_susie_1\n",
       "6 eval_susie/liter_data_1_summarize_ld_1_simple_lm_1_fit_susie_4_eval_susie_1"
      ]
     },
     "metadata": {},
     "output_type": "display_data"
    }
   ],
   "source": [
    "head(out)"
   ]
  },
  {
   "cell_type": "code",
   "execution_count": 8,
   "metadata": {
    "kernel": "R"
   },
   "outputs": [
    {
     "data": {
      "text/html": [
       "<ol class=list-inline>\n",
       "\t<li>8000</li>\n",
       "\t<li>8</li>\n",
       "</ol>\n"
      ],
      "text/latex": [
       "\\begin{enumerate*}\n",
       "\\item 8000\n",
       "\\item 8\n",
       "\\end{enumerate*}\n"
      ],
      "text/markdown": [
       "1. 8000\n",
       "2. 8\n",
       "\n",
       "\n"
      ],
      "text/plain": [
       "[1] 8000    8"
      ]
     },
     "metadata": {},
     "output_type": "display_data"
    }
   ],
   "source": [
    "dim(out)"
   ]
  },
  {
   "cell_type": "markdown",
   "metadata": {},
   "source": [
    "It is a lot of results to look at. Here we focus on PVE 20% and 40%, having 2, 3, 5 signals, with prior set to `0.2`. We focus on measuring \"purity\" by min(abs(LD))."
   ]
  },
  {
   "cell_type": "markdown",
   "metadata": {},
   "source": [
    "### 2 signals + 20% PVE + `est_residual=FALSE`"
   ]
  },
  {
   "cell_type": "code",
   "execution_count": 4,
   "metadata": {
    "kernel": "R"
   },
   "outputs": [],
   "source": [
    "pve = 0.2\n",
    "n = 2\n",
    "est_res = FALSE\n",
    "prior = 0.2\n",
    "ld_col = 1 # LD_Min\n",
    "lfsr_cutoff = 0.05\n",
    "dirname = 'benchmark/'\n",
    "sub = out[which(out$simple_lm.pve == pve & out$simple_lm.n_signal == n & out$fit_susie.estimate_residual_variance == est_res & out$fit_susie.prior_var == prior),]"
   ]
  },
  {
   "cell_type": "code",
   "execution_count": null,
   "metadata": {
    "kernel": "R"
   },
   "outputs": [],
   "source": [
    "combined = get_combined(sub, dirname, ld_col)\n",
    "combined"
   ]
  },
  {
   "cell_type": "code",
   "execution_count": 50,
   "metadata": {
    "kernel": "R"
   },
   "outputs": [],
   "source": [
    "saveRDS(combined, '../data/20180516_susie_bm.rds')"
   ]
  },
  {
   "cell_type": "code",
   "execution_count": 51,
   "metadata": {
    "kernel": "Bash"
   },
   "outputs": [],
   "source": [
    "dsc-io ../data/20180516_susie_bm.rds ../data/20180516_susie_bm.pkl"
   ]
  },
  {
   "cell_type": "code",
   "execution_count": 1,
   "metadata": {
    "kernel": "Python3"
   },
   "outputs": [],
   "source": [
    "import pickle\n",
    "data = pickle.load(open('../data/20180516_susie_bm.pkl', 'rb'))"
   ]
  },
  {
   "cell_type": "code",
   "execution_count": 55,
   "metadata": {
    "kernel": "Python3"
   },
   "outputs": [
    {
     "data": {
      "image/png": "[encoded data removed]",
      "text/plain": [
       "<matplotlib.figure.Figure at 0x2b44580d23c8>"
      ]
     },
     "metadata": {},
     "output_type": "display_data"
    }
   ],
   "source": [
    "plot_purity(data, '2_p2pve_false.png')"
   ]
  }
 ],
 "metadata": {
  "kernelspec": {
   "display_name": "SoS",
   "language": "sos",
   "name": "sos"
  },
  "language_info": {
   "codemirror_mode": "sos",
   "file_extension": ".sos",
   "mimetype": "text/x-sos",
   "name": "sos",
   "nbconvert_exporter": "sos_notebook.converter.SoS_Exporter",
   "pygments_lexer": "sos"
  },
  "sos": {
   "default_kernel": "SoS",
   "kernels": [
    [
     "Bash",
     "bash",
     "Bash",
     "#E6EEFF"
    ],
    [
     "Python3",
     "python3",
     "Python3",
     "#FFE771"
    ],
    [
     "R",
     "ir",
     "R",
     "#DCDCDA"
    ]
   ]
  }
 },
 "nbformat": 4,
 "nbformat_minor": 2
}
