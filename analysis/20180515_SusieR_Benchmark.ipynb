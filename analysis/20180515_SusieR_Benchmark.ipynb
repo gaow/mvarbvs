{
 "cells": [
  {
   "cell_type": "markdown",
   "metadata": {},
   "source": [
    "# SusieR benchmark\n",
    "\n",
    "A first (comprehensive) set of simulations to learn properties of the new fine-mapping method."
   ]
  },
  {
   "cell_type": "markdown",
   "metadata": {},
   "source": [
    "As a first pass, we run `susie` on simulations of 100 genes, with \n",
    "\n",
    "- real genotypes, of length 1000 for starters\n",
    "- randomly-chosen SNPs as eQTLs\n",
    "- 1-5 eQTLs per gene\n",
    "- explaining 5-40% of the variance in Y\n",
    "\n",
    "We characterize 95% confident sets (CS) it produces in terms of\n",
    "\n",
    "- size: number of variants in it\n",
    "- purity: min and mean LD\n",
    "- significance: lfsr\n",
    "- whether or not they capture a signal\n",
    "\n",
    "We run Susie with\n",
    "\n",
    "- `estimate_residual_variance`: TRUE and FALSE\n",
    "- `prior_variance`: 5-40%\n",
    "\n",
    "We should expect that results will be reasonably robust to these choices."
   ]
  },
  {
   "cell_type": "code",
   "execution_count": 1,
   "metadata": {},
   "outputs": [
    {
     "name": "stdout",
     "output_type": "stream",
     "text": [
      "/home/gaow/GIT/github/mvarbvs/dsc"
     ]
    }
   ],
   "source": [
    "%cd ~/GIT/github/mvarbvs/dsc"
   ]
  },
  {
   "cell_type": "code",
   "execution_count": null,
   "metadata": {
    "kernel": "Bash"
   },
   "outputs": [],
   "source": [
    "dsc susie.dsc --target run_susie"
   ]
  },
  {
   "cell_type": "markdown",
   "metadata": {},
   "source": [
    "## Utility function"
   ]
  },
  {
   "cell_type": "code",
   "execution_count": null,
   "metadata": {
    "kernel": "R"
   },
   "outputs": [],
   "source": [
    "get_combined = function(sub, dirname, ld_col) {\n",
    "    out_files = sub[,c(\"fit_susie.output.file\", \"plot_susie.output.file\")]\n",
    "    combined = list(purity = NULL, lfsr = NULL, size = NULL, captures = NULL)\n",
    "    for (i in 1:nrow(out_files)) {\n",
    "        fit = readRDS(paste0(dirname, out_files[i,1], '.rds'))$posterior\n",
    "        purity = readRDS(paste0(dirname, out_files[i,2], '.rds'))\n",
    "        #\n",
    "        if (is.null(combined$purity)) combined$purity = purity$purity$V1[,ld_col]\n",
    "        else combined$purity = cbind(combined$purity, purity$purity$V1[,ld_col])\n",
    "        #\n",
    "        if (is.null(combined$size)) combined$size = fit$n_in_CI[,1]\n",
    "        else combined$size = cbind(combined$size, fit$n_in_CI[,1])\n",
    "        #\n",
    "        if (is.null(combined$lfsr)) combined$lfsr = fit$set_lfsr[,1]\n",
    "        else combined$lfsr = cbind(combined$lfsr, fit$set_lfsr[,1])\n",
    "        # \n",
    "        detected = apply(t(purity$signal$V1[which(fit$set_lfsr[,1] < lfsr_cutoff),,drop=FALSE]), 1, sum)\n",
    "        if (is.null(combined$captures)) combined$captures = detected\n",
    "        else combined$captures = combined$captures + detected\n",
    "    }\n",
    "    return(combined)\n",
    "}"
   ]
  },
  {
   "cell_type": "markdown",
   "metadata": {},
   "source": [
    "## Results"
   ]
  },
  {
   "cell_type": "code",
   "execution_count": 23,
   "metadata": {
    "kernel": "R"
   },
   "outputs": [
    {
     "name": "stdout",
     "output_type": "stream",
     "text": [
      "Loading dsc-query output from CSV file.\n"
     ]
    }
   ],
   "source": [
    "out = dscrutils::dscquery('benchmark', \n",
    "                    target = \"liter_data.data_file simple_lm.pve simple_lm.n_signal fit_susie.estimate_residual_variance fit_susie.prior_var fit_susie plot_susie\")"
   ]
  },
  {
   "cell_type": "code",
   "execution_count": 9,
   "metadata": {
    "kernel": "R"
   },
   "outputs": [
    {
     "data": {
      "text/html": [
       "<table>\n",
       "<thead><tr><th scope=col>DSC</th><th scope=col>liter_data.data_file</th><th scope=col>simple_lm.pve</th><th scope=col>simple_lm.n_signal</th><th scope=col>fit_susie.estimate_residual_variance</th><th scope=col>fit_susie.prior_var</th><th scope=col>fit_susie.output.file</th><th scope=col>plot_susie.output.file</th></tr></thead>\n",
       "<tbody>\n",
       "\t<tr><td>1                                                                          </td><td>~/Documents/GTExV8/Thyroid.Lung.FMO2.filled.rds                            </td><td>0.05                                                                       </td><td>1                                                                          </td><td>FALSE                                                                      </td><td>0.05                                                                       </td><td>fit_susie/liter_data_1_summarize_ld_1_simple_lm_1_fit_susie_1              </td><td>plot_susie/liter_data_1_summarize_ld_1_simple_lm_1_fit_susie_1_plot_susie_1</td></tr>\n",
       "\t<tr><td>1                                                                          </td><td>~/Documents/GTExV8/Thyroid.Lung.FMO2.filled.rds                            </td><td>0.05                                                                       </td><td>1                                                                          </td><td>FALSE                                                                      </td><td>0.10                                                                       </td><td>fit_susie/liter_data_1_summarize_ld_1_simple_lm_1_fit_susie_3              </td><td>plot_susie/liter_data_1_summarize_ld_1_simple_lm_1_fit_susie_3_plot_susie_1</td></tr>\n",
       "\t<tr><td>1                                                                          </td><td>~/Documents/GTExV8/Thyroid.Lung.FMO2.filled.rds                            </td><td>0.05                                                                       </td><td>1                                                                          </td><td>FALSE                                                                      </td><td>0.20                                                                       </td><td>fit_susie/liter_data_1_summarize_ld_1_simple_lm_1_fit_susie_5              </td><td>plot_susie/liter_data_1_summarize_ld_1_simple_lm_1_fit_susie_5_plot_susie_1</td></tr>\n",
       "\t<tr><td>1                                                                          </td><td>~/Documents/GTExV8/Thyroid.Lung.FMO2.filled.rds                            </td><td>0.05                                                                       </td><td>1                                                                          </td><td>FALSE                                                                      </td><td>0.40                                                                       </td><td>fit_susie/liter_data_1_summarize_ld_1_simple_lm_1_fit_susie_7              </td><td>plot_susie/liter_data_1_summarize_ld_1_simple_lm_1_fit_susie_7_plot_susie_1</td></tr>\n",
       "\t<tr><td>1                                                                          </td><td>~/Documents/GTExV8/Thyroid.Lung.FMO2.filled.rds                            </td><td>0.05                                                                       </td><td>1                                                                          </td><td> TRUE                                                                      </td><td>0.05                                                                       </td><td>fit_susie/liter_data_1_summarize_ld_1_simple_lm_1_fit_susie_2              </td><td>plot_susie/liter_data_1_summarize_ld_1_simple_lm_1_fit_susie_2_plot_susie_1</td></tr>\n",
       "\t<tr><td>1                                                                          </td><td>~/Documents/GTExV8/Thyroid.Lung.FMO2.filled.rds                            </td><td>0.05                                                                       </td><td>1                                                                          </td><td> TRUE                                                                      </td><td>0.10                                                                       </td><td>fit_susie/liter_data_1_summarize_ld_1_simple_lm_1_fit_susie_4              </td><td>plot_susie/liter_data_1_summarize_ld_1_simple_lm_1_fit_susie_4_plot_susie_1</td></tr>\n",
       "</tbody>\n",
       "</table>\n"
      ],
      "text/latex": [
       "\\begin{tabular}{r|llllllll}\n",
       " DSC & liter\\_data.data\\_file & simple\\_lm.pve & simple\\_lm.n\\_signal & fit\\_susie.estimate\\_residual\\_variance & fit\\_susie.prior\\_var & fit\\_susie.output.file & plot\\_susie.output.file\\\\\n",
       "\\hline\n",
       "\t 1                                                                                                         & \\textasciitilde{}/Documents/GTExV8/Thyroid.Lung.FMO2.filled.rds                                          & 0.05                                                                                                      & 1                                                                                                         & FALSE                                                                                                     & 0.05                                                                                                      & fit\\_susie/liter\\_data\\_1\\_summarize\\_ld\\_1\\_simple\\_lm\\_1\\_fit\\_susie\\_1                     & plot\\_susie/liter\\_data\\_1\\_summarize\\_ld\\_1\\_simple\\_lm\\_1\\_fit\\_susie\\_1\\_plot\\_susie\\_1\\\\\n",
       "\t 1                                                                                                         & \\textasciitilde{}/Documents/GTExV8/Thyroid.Lung.FMO2.filled.rds                                          & 0.05                                                                                                      & 1                                                                                                         & FALSE                                                                                                     & 0.10                                                                                                      & fit\\_susie/liter\\_data\\_1\\_summarize\\_ld\\_1\\_simple\\_lm\\_1\\_fit\\_susie\\_3                     & plot\\_susie/liter\\_data\\_1\\_summarize\\_ld\\_1\\_simple\\_lm\\_1\\_fit\\_susie\\_3\\_plot\\_susie\\_1\\\\\n",
       "\t 1                                                                                                         & \\textasciitilde{}/Documents/GTExV8/Thyroid.Lung.FMO2.filled.rds                                          & 0.05                                                                                                      & 1                                                                                                         & FALSE                                                                                                     & 0.20                                                                                                      & fit\\_susie/liter\\_data\\_1\\_summarize\\_ld\\_1\\_simple\\_lm\\_1\\_fit\\_susie\\_5                     & plot\\_susie/liter\\_data\\_1\\_summarize\\_ld\\_1\\_simple\\_lm\\_1\\_fit\\_susie\\_5\\_plot\\_susie\\_1\\\\\n",
       "\t 1                                                                                                         & \\textasciitilde{}/Documents/GTExV8/Thyroid.Lung.FMO2.filled.rds                                          & 0.05                                                                                                      & 1                                                                                                         & FALSE                                                                                                     & 0.40                                                                                                      & fit\\_susie/liter\\_data\\_1\\_summarize\\_ld\\_1\\_simple\\_lm\\_1\\_fit\\_susie\\_7                     & plot\\_susie/liter\\_data\\_1\\_summarize\\_ld\\_1\\_simple\\_lm\\_1\\_fit\\_susie\\_7\\_plot\\_susie\\_1\\\\\n",
       "\t 1                                                                                                         & \\textasciitilde{}/Documents/GTExV8/Thyroid.Lung.FMO2.filled.rds                                          & 0.05                                                                                                      & 1                                                                                                         &  TRUE                                                                                                     & 0.05                                                                                                      & fit\\_susie/liter\\_data\\_1\\_summarize\\_ld\\_1\\_simple\\_lm\\_1\\_fit\\_susie\\_2                     & plot\\_susie/liter\\_data\\_1\\_summarize\\_ld\\_1\\_simple\\_lm\\_1\\_fit\\_susie\\_2\\_plot\\_susie\\_1\\\\\n",
       "\t 1                                                                                                         & \\textasciitilde{}/Documents/GTExV8/Thyroid.Lung.FMO2.filled.rds                                          & 0.05                                                                                                      & 1                                                                                                         &  TRUE                                                                                                     & 0.10                                                                                                      & fit\\_susie/liter\\_data\\_1\\_summarize\\_ld\\_1\\_simple\\_lm\\_1\\_fit\\_susie\\_4                     & plot\\_susie/liter\\_data\\_1\\_summarize\\_ld\\_1\\_simple\\_lm\\_1\\_fit\\_susie\\_4\\_plot\\_susie\\_1\\\\\n",
       "\\end{tabular}\n"
      ],
      "text/markdown": [
       "\n",
       "DSC | liter_data.data_file | simple_lm.pve | simple_lm.n_signal | fit_susie.estimate_residual_variance | fit_susie.prior_var | fit_susie.output.file | plot_susie.output.file | \n",
       "|---|---|---|---|---|---|\n",
       "| 1                                                                           | ~/Documents/GTExV8/Thyroid.Lung.FMO2.filled.rds                             | 0.05                                                                        | 1                                                                           | FALSE                                                                       | 0.05                                                                        | fit_susie/liter_data_1_summarize_ld_1_simple_lm_1_fit_susie_1               | plot_susie/liter_data_1_summarize_ld_1_simple_lm_1_fit_susie_1_plot_susie_1 | \n",
       "| 1                                                                           | ~/Documents/GTExV8/Thyroid.Lung.FMO2.filled.rds                             | 0.05                                                                        | 1                                                                           | FALSE                                                                       | 0.10                                                                        | fit_susie/liter_data_1_summarize_ld_1_simple_lm_1_fit_susie_3               | plot_susie/liter_data_1_summarize_ld_1_simple_lm_1_fit_susie_3_plot_susie_1 | \n",
       "| 1                                                                           | ~/Documents/GTExV8/Thyroid.Lung.FMO2.filled.rds                             | 0.05                                                                        | 1                                                                           | FALSE                                                                       | 0.20                                                                        | fit_susie/liter_data_1_summarize_ld_1_simple_lm_1_fit_susie_5               | plot_susie/liter_data_1_summarize_ld_1_simple_lm_1_fit_susie_5_plot_susie_1 | \n",
       "| 1                                                                           | ~/Documents/GTExV8/Thyroid.Lung.FMO2.filled.rds                             | 0.05                                                                        | 1                                                                           | FALSE                                                                       | 0.40                                                                        | fit_susie/liter_data_1_summarize_ld_1_simple_lm_1_fit_susie_7               | plot_susie/liter_data_1_summarize_ld_1_simple_lm_1_fit_susie_7_plot_susie_1 | \n",
       "| 1                                                                           | ~/Documents/GTExV8/Thyroid.Lung.FMO2.filled.rds                             | 0.05                                                                        | 1                                                                           |  TRUE                                                                       | 0.05                                                                        | fit_susie/liter_data_1_summarize_ld_1_simple_lm_1_fit_susie_2               | plot_susie/liter_data_1_summarize_ld_1_simple_lm_1_fit_susie_2_plot_susie_1 | \n",
       "| 1                                                                           | ~/Documents/GTExV8/Thyroid.Lung.FMO2.filled.rds                             | 0.05                                                                        | 1                                                                           |  TRUE                                                                       | 0.10                                                                        | fit_susie/liter_data_1_summarize_ld_1_simple_lm_1_fit_susie_4               | plot_susie/liter_data_1_summarize_ld_1_simple_lm_1_fit_susie_4_plot_susie_1 | \n",
       "\n",
       "\n"
      ],
      "text/plain": [
       "  DSC liter_data.data_file                            simple_lm.pve\n",
       "1 1   ~/Documents/GTExV8/Thyroid.Lung.FMO2.filled.rds 0.05         \n",
       "2 1   ~/Documents/GTExV8/Thyroid.Lung.FMO2.filled.rds 0.05         \n",
       "3 1   ~/Documents/GTExV8/Thyroid.Lung.FMO2.filled.rds 0.05         \n",
       "4 1   ~/Documents/GTExV8/Thyroid.Lung.FMO2.filled.rds 0.05         \n",
       "5 1   ~/Documents/GTExV8/Thyroid.Lung.FMO2.filled.rds 0.05         \n",
       "6 1   ~/Documents/GTExV8/Thyroid.Lung.FMO2.filled.rds 0.05         \n",
       "  simple_lm.n_signal fit_susie.estimate_residual_variance fit_susie.prior_var\n",
       "1 1                  FALSE                                0.05               \n",
       "2 1                  FALSE                                0.10               \n",
       "3 1                  FALSE                                0.20               \n",
       "4 1                  FALSE                                0.40               \n",
       "5 1                   TRUE                                0.05               \n",
       "6 1                   TRUE                                0.10               \n",
       "  fit_susie.output.file                                        \n",
       "1 fit_susie/liter_data_1_summarize_ld_1_simple_lm_1_fit_susie_1\n",
       "2 fit_susie/liter_data_1_summarize_ld_1_simple_lm_1_fit_susie_3\n",
       "3 fit_susie/liter_data_1_summarize_ld_1_simple_lm_1_fit_susie_5\n",
       "4 fit_susie/liter_data_1_summarize_ld_1_simple_lm_1_fit_susie_7\n",
       "5 fit_susie/liter_data_1_summarize_ld_1_simple_lm_1_fit_susie_2\n",
       "6 fit_susie/liter_data_1_summarize_ld_1_simple_lm_1_fit_susie_4\n",
       "  plot_susie.output.file                                                     \n",
       "1 plot_susie/liter_data_1_summarize_ld_1_simple_lm_1_fit_susie_1_plot_susie_1\n",
       "2 plot_susie/liter_data_1_summarize_ld_1_simple_lm_1_fit_susie_3_plot_susie_1\n",
       "3 plot_susie/liter_data_1_summarize_ld_1_simple_lm_1_fit_susie_5_plot_susie_1\n",
       "4 plot_susie/liter_data_1_summarize_ld_1_simple_lm_1_fit_susie_7_plot_susie_1\n",
       "5 plot_susie/liter_data_1_summarize_ld_1_simple_lm_1_fit_susie_2_plot_susie_1\n",
       "6 plot_susie/liter_data_1_summarize_ld_1_simple_lm_1_fit_susie_4_plot_susie_1"
      ]
     },
     "metadata": {},
     "output_type": "display_data"
    }
   ],
   "source": [
    "head(out)"
   ]
  },
  {
   "cell_type": "markdown",
   "metadata": {},
   "source": [
    "It is a lot of results to look at. Here we focus on PVE 20% and 40%, having 2, 3, 5 signals, with fit residual variance set to `FALSE` and prior set to `0.2`. We focus on measuring \"purity\" by min(abs(LD))."
   ]
  },
  {
   "cell_type": "markdown",
   "metadata": {},
   "source": [
    "### 2 signals + 20% PVE"
   ]
  },
  {
   "cell_type": "code",
   "execution_count": 81,
   "metadata": {
    "kernel": "R"
   },
   "outputs": [],
   "source": [
    "pve = 0.2\n",
    "n = 2\n",
    "est_res = FALSE\n",
    "prior = 0.2\n",
    "ld_col = 1 # LD_Min\n",
    "lfsr_cutoff = 0.05\n",
    "dirname = 'benchmark/'\n",
    "sub = out[which(out$simple_lm.pve == pve & out$simple_lm.n_signal == n & out$fit_susie.estimate_residual_variance == est_res & out$fit_susie.prior_var == prior),]"
   ]
  },
  {
   "cell_type": "code",
   "execution_count": 88,
   "metadata": {
    "kernel": "R"
   },
   "outputs": [
    {
     "data": {
      "text/html": [
       "<dl>\n",
       "\t<dt>$purity</dt>\n",
       "\t\t<dd><ol class=list-inline>\n",
       "\t<li>0.963977545768271</li>\n",
       "\t<li>1.19300637258105e-13</li>\n",
       "\t<li>1.19300637258105e-13</li>\n",
       "\t<li>1.19300637258105e-13</li>\n",
       "\t<li>1.19300637258105e-13</li>\n",
       "</ol>\n",
       "</dd>\n",
       "\t<dt>$lfsr</dt>\n",
       "\t\t<dd><ol class=list-inline>\n",
       "\t<li>0</li>\n",
       "\t<li>0.279686024583117</li>\n",
       "\t<li>0.279588052800954</li>\n",
       "\t<li>0.279486417299504</li>\n",
       "\t<li>0.279502655569708</li>\n",
       "</ol>\n",
       "</dd>\n",
       "\t<dt>$size</dt>\n",
       "\t\t<dd><ol class=list-inline>\n",
       "\t<li>13</li>\n",
       "\t<li>937</li>\n",
       "\t<li>937</li>\n",
       "\t<li>937</li>\n",
       "\t<li>937</li>\n",
       "</ol>\n",
       "</dd>\n",
       "\t<dt>$captures</dt>\n",
       "\t\t<dd><ol class=list-inline>\n",
       "\t<li>0</li>\n",
       "\t<li>1</li>\n",
       "</ol>\n",
       "</dd>\n",
       "</dl>\n"
      ],
      "text/latex": [
       "\\begin{description}\n",
       "\\item[\\$purity] \\begin{enumerate*}\n",
       "\\item 0.963977545768271\n",
       "\\item 1.19300637258105e-13\n",
       "\\item 1.19300637258105e-13\n",
       "\\item 1.19300637258105e-13\n",
       "\\item 1.19300637258105e-13\n",
       "\\end{enumerate*}\n",
       "\n",
       "\\item[\\$lfsr] \\begin{enumerate*}\n",
       "\\item 0\n",
       "\\item 0.279686024583117\n",
       "\\item 0.279588052800954\n",
       "\\item 0.279486417299504\n",
       "\\item 0.279502655569708\n",
       "\\end{enumerate*}\n",
       "\n",
       "\\item[\\$size] \\begin{enumerate*}\n",
       "\\item 13\n",
       "\\item 937\n",
       "\\item 937\n",
       "\\item 937\n",
       "\\item 937\n",
       "\\end{enumerate*}\n",
       "\n",
       "\\item[\\$captures] \\begin{enumerate*}\n",
       "\\item 0\n",
       "\\item 1\n",
       "\\end{enumerate*}\n",
       "\n",
       "\\end{description}\n"
      ],
      "text/markdown": [
       "$purity\n",
       ":   1. 0.963977545768271\n",
       "2. 1.19300637258105e-13\n",
       "3. 1.19300637258105e-13\n",
       "4. 1.19300637258105e-13\n",
       "5. 1.19300637258105e-13\n",
       "\n",
       "\n",
       "\n",
       "$lfsr\n",
       ":   1. 0\n",
       "2. 0.279686024583117\n",
       "3. 0.279588052800954\n",
       "4. 0.279486417299504\n",
       "5. 0.279502655569708\n",
       "\n",
       "\n",
       "\n",
       "$size\n",
       ":   1. 13\n",
       "2. 937\n",
       "3. 937\n",
       "4. 937\n",
       "5. 937\n",
       "\n",
       "\n",
       "\n",
       "$captures\n",
       ":   1. 0\n",
       "2. 1\n",
       "\n",
       "\n",
       "\n",
       "\n",
       "\n"
      ],
      "text/plain": [
       "$purity\n",
       "[1] 9.639775e-01 1.193006e-13 1.193006e-13 1.193006e-13 1.193006e-13\n",
       "\n",
       "$lfsr\n",
       "[1] 0.0000000 0.2796860 0.2795881 0.2794864 0.2795027\n",
       "\n",
       "$size\n",
       "[1]  13 937 937 937 937\n",
       "\n",
       "$captures\n",
       "[1] 0 1\n"
      ]
     },
     "metadata": {},
     "output_type": "display_data"
    }
   ],
   "source": [
    "combined = get_combined(sub, dirname, ld_col)\n",
    "combined"
   ]
  },
  {
   "cell_type": "code",
   "execution_count": null,
   "metadata": {},
   "outputs": [],
   "source": []
  }
 ],
 "metadata": {
  "kernelspec": {
   "display_name": "SoS",
   "language": "sos",
   "name": "sos"
  },
  "language_info": {
   "codemirror_mode": "sos",
   "file_extension": ".sos",
   "mimetype": "text/x-sos",
   "name": "sos",
   "nbconvert_exporter": "sos_notebook.converter.SoS_Exporter",
   "pygments_lexer": "sos"
  },
  "sos": {
   "default_kernel": "SoS",
   "kernels": [
    [
     "Bash",
     "bash",
     "Bash",
     "#E6EEFF"
    ],
    [
     "R",
     "ir",
     "R",
     "#DCDCDA"
    ]
   ]
  }
 },
 "nbformat": 4,
 "nbformat_minor": 2
}
