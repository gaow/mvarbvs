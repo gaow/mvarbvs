{
 "cells": [
  {
   "cell_type": "markdown",
   "metadata": {
    "kernel": "SoS"
   },
   "source": [
    "# Comparing M&M with MT-HESS\n",
    "\n",
    "MT-HESS does not give credible sets. Herein we compare the marginal PIP in terms of calibration and precision-recall curves."
   ]
  },
  {
   "cell_type": "code",
   "execution_count": null,
   "metadata": {
    "kernel": "SoS"
   },
   "outputs": [],
   "source": [
    "[global]\n",
    "parameter: cwd = path('/home/gaow/tmp/28-Feb-2019/dsc')\n",
    "parameter: data_dir = 'mthess'\n",
    "parameter: date = '0228'\n",
    "def fmtP(x):\n",
    "    return str(x).replace(\".\", \"p\")"
   ]
  },
  {
   "cell_type": "markdown",
   "metadata": {
    "kernel": "SoS"
   },
   "source": [
    "## PIP extraction"
   ]
  },
  {
   "cell_type": "code",
   "execution_count": null,
   "metadata": {
    "kernel": "SoS"
   },
   "outputs": [],
   "source": [
    "# Extract meta info\n",
    "[pip_1,roc_1]\n",
    "output: f'{cwd}/{data_dir}/PIP_comparison_{date}.pips_meta.rds'\n",
    "R: expand = '${ }', workdir = cwd\n",
    "    data = dscrutils::dscquery('mthess', target = \"small_data.dataset high_het methods methods.DSC_TIME\", group = c(\"methods: mnm_high_het mnm_mixture01 mthess\", \"mnm:\"), ignore.missing.file=T)\n",
    "    data = data[which(!is.na(data$small_data.dataset)),]\n",
    "    saveRDS(data, ${_output:r})"
   ]
  },
  {
   "cell_type": "code",
   "execution_count": null,
   "metadata": {
    "kernel": "SoS"
   },
   "outputs": [],
   "source": [
    "# Extract PIP\n",
    "[pip_2,roc_2]\n",
    "output: f'{cwd}/{data_dir}/PIP_comparison_{date}.pips_data.rds'\n",
    "R: expand = '${ }', workdir = f'{cwd}/{data_dir}'\n",
    "  meta = readRDS(${_input:r})\n",
    "  # remove bad files\n",
    "  bad_files = vector()\n",
    "  for (f in meta$methods.output.file) {\n",
    "      if (!file.exists(paste0(f,'.rds'))) bad_files = append(bad_files, f)\n",
    "  }\n",
    "  meta = meta[which(!(meta$methods.output.file %in% bad_files)),]\n",
    "  # now collect matrices for each method, of two columns: pip and true_coef\n",
    "  res = list()\n",
    "  for (i in 1:nrow(meta)) {\n",
    "      true_coef = as.integer(dscrutils:::read_dsc(paste0(meta[i,3], '.pkl'))$meta$true_coef != 0)\n",
    "      # make it a vector\n",
    "      true_coef = c(true_coef)\n",
    "      method = meta[i,4]\n",
    "      if (method == \"mthess\") {\n",
    "          pip = dscrutils:::read_dsc(paste0(meta[i,5], '.rds'))$result$pip_conditions\n",
    "      } else {\n",
    "          tmp = dscrutils:::read_dsc(paste0(meta[i,5], '.rds'))$result\n",
    "          pip = mmbr::mmbr_get_pip_per_condition(tmp, tmp$m_init)\n",
    "      }\n",
    "      # PIP is matrix of P (SNPs) by R (conditions); now make it a vector\n",
    "      pip = c(pip)\n",
    "      if (!(method %in% names(res))) {\n",
    "        res[[method]] = list(pip = pip, truth = true_coef)\n",
    "      } else {\n",
    "        res[[method]]$pip = append(res[[method]]$pip, pip)\n",
    "        res[[method]]$truth = append(res[[method]]$truth, true_coef)\n",
    "      }\n",
    "  }\n",
    "  for (method in unique(meta$methods)) {\n",
    "      res[[method]] = do.call(cbind, res[[method]])\n",
    "  }\n",
    "  saveRDS(res, ${_output:r})"
   ]
  },
  {
   "cell_type": "markdown",
   "metadata": {
    "kernel": "SoS"
   },
   "source": [
    "The output looks like:\n",
    "\n",
    "```\n",
    "> names(dat)\n",
    "[1] \"mnm_high_het\"  \"mnm_mixture01\" \"mthess\"       \n",
    "> head(dat$mthess)\n",
    "           pip truth\n",
    "V1 0.018042142     0\n",
    "V2 0.014788800     0\n",
    "V3 0.006386173     0\n",
    "V4 0.007783144     0\n",
    "V5 0.000999730     0\n",
    "```"
   ]
  },
  {
   "cell_type": "markdown",
   "metadata": {
    "kernel": "SoS"
   },
   "source": [
    "Next we need to evaluate the calibration and ROC of pips."
   ]
  },
  {
   "cell_type": "markdown",
   "metadata": {
    "kernel": "SoS"
   },
   "source": [
    "## PIP calibration"
   ]
  },
  {
   "cell_type": "code",
   "execution_count": null,
   "metadata": {
    "kernel": "SoS"
   },
   "outputs": [],
   "source": [
    "# Calibration and ROC data\n",
    "[pip_3]\n",
    "parameter: bin_size = 20\n",
    "output: f'{_input:nn}.pip_evaluation.rds'\n",
    "R: expand = '${ }', workdir = cwd\n",
    "  dat = readRDS(${_input:r})\n",
    "  bins = cbind(seq(1:${bin_size})/${bin_size}-1/${bin_size}, seq(1:${bin_size})/${bin_size})\n",
    "  pip_cali = list()\n",
    "  for (method in names(dat)) {\n",
    "      pip_cali[[method]] = matrix(NA, nrow(bins), 3)\n",
    "      for (i in 1:nrow(bins)) {\n",
    "        data_in_bin = dat[[method]][which(dat[[method]][,1] > bins[i,1] & dat[[method]][,1] < bins[i,2]),]\n",
    "        pip_cali[[method]][i,1] = sum(data_in_bin[,1])\n",
    "        pip_cali[[method]][i,2] = sum(data_in_bin[,2])\n",
    "        pip_cali[[method]][i,3] = nrow(data_in_bin)\n",
    "      }\n",
    "  }\n",
    "  for (method in names(dat)) {\n",
    "      pip_cali[[method]][,c(1,2)] = pip_cali[[method]][,c(1,2)] / pip_cali[[method]][,3]\n",
    "  }\n",
    "  saveRDS(pip_cali, ${_output:r})"
   ]
  },
  {
   "cell_type": "code",
   "execution_count": null,
   "metadata": {
    "kernel": "SoS"
   },
   "outputs": [],
   "source": [
    "# Calibration plot\n",
    "[pip_4]\n",
    "output: f'{_input:nn}.pip_evaluation.png'\n",
    "R: expand = '${ }', workdir = cwd\n",
    "    library(ggplot2)\n",
    "    library(cowplot)\n",
    "    dot_plot = function(dataframe) {\n",
    "        ggplot(dataframe, aes(x=mean_pip, y=observed_freq)) + \n",
    "          geom_errorbar(aes(ymin=observed_freq-se, ymax=observed_freq+se), colour=\"gray\", size = 0.2, width=.01) +\n",
    "          geom_point(size=1.5, shape=21, fill=\"#002b36\") + # 21 is filled circle\n",
    "          xlab(\"Mean PIP\") +\n",
    "          ylab(\"Observed frequency\") +\n",
    "          coord_cartesian(ylim=c(0,1), xlim=c(0,1)) +\n",
    "          geom_abline(slope=1,intercept=0,colour='red', size=0.2) +\n",
    "          ggtitle(name) +\n",
    "          expand_limits(y=0) +                        # Expand y range\n",
    "          theme_cowplot()\n",
    "    }\n",
    "    dat = readRDS(${_input:r})\n",
    "    idx = 0\n",
    "    for (name in names(dat)) {\n",
    "      idx = idx + 1\n",
    "      dat[[name]][,3] = sqrt(dat[[name]][,2] * (1 - dat[[name]][,2]) / dat[[name]][,3]) * 2\n",
    "      dat[[name]] = as.data.frame(dat[[name]])\n",
    "      colnames(dat[[name]]) = c(\"mean_pip\", \"observed_freq\", \"se\")\n",
    "      pdf(paste0(${_output:nr}, '_' , idx, '.pdf'), width=3, height=3, pointsize=16)\n",
    "          print(dot_plot(dat[[name]]))\n",
    "      dev.off()\n",
    "      system(paste0(\"convert -density 120 \", ${_output:nr}, '_' , idx, '.pdf', \" \", ${_output:nr}, '_' , idx, '.png'))\n",
    "    }\n",
    "    files = paste0(${_output:nr}, '_', seq(1:idx), '.png')\n",
    "    cmd = paste('convert +append', paste(files, collapse=\" \"), ${_output:r})\n",
    "    system(cmd)\n",
    "    system(paste('rm -f', paste(files, collapse=\" \")))"
   ]
  },
  {
   "cell_type": "markdown",
   "metadata": {
    "kernel": "SoS"
   },
   "source": [
    "`M&M` calibration is okay; but not so much for `mthess` -- mean PIP tends to be greater than the truth. Should we plot it backwards?"
   ]
  },
  {
   "cell_type": "code",
   "execution_count": null,
   "metadata": {
    "kernel": "SoS"
   },
   "outputs": [],
   "source": [
    "%preview /home/gaow/GIT/github/mnm-twas/dsc/mthess/PIP_comparison_0228.pip_evaluation.png"
   ]
  },
  {
   "cell_type": "markdown",
   "metadata": {
    "kernel": "SoS"
   },
   "source": [
    "## ROC"
   ]
  },
  {
   "cell_type": "code",
   "execution_count": null,
   "metadata": {
    "kernel": "SoS"
   },
   "outputs": [],
   "source": [
    "# Data for ROC\n",
    "[roc_3]\n",
    "pip_cutoff = 0.05\n",
    "output: f'{_input:nn}.roc.rds'\n",
    "R: expand = '${ }', workdir = cwd\n",
    "    roc_data = function(d1, cutoff = c(${pip_cutoff}, 0.995), connect_org = TRUE) {\n",
    "        grid = 1000\n",
    "        ttv = seq(1:grid)/grid\n",
    "        ttv = ttv[which(ttv>=cutoff[1] & ttv<=cutoff[2])]\n",
    "        # see SuSiE-Manuscript issue 2\n",
    "        d1 = d1[order(d1[,1]), ]\n",
    "        end = tail(d1[which(d1[,2] == 0),][,1],1)\n",
    "        ttv = c(ttv[-length(ttv)], min(ttv[length(ttv)], end))\n",
    "        # end of issue 2\n",
    "        rst1 = t(sapply(ttv, function(x) c(sum(d1[,2][d1[,1]>=x]), length(d1[,2][d1[,1]>=x]))))\n",
    "        rst1 = cbind(rst1, sum(d1[,2]))\n",
    "        if (connect_org) {\n",
    "            # connect to origin\n",
    "            last_row = tail(rst1, 1)\n",
    "            rst1 = rbind(rst1, c(last_row[1], last_row[2]-1, last_row[3]), c(0.001,0.001,last_row[3]))\n",
    "        }\n",
    "        rst1 = as.data.frame(rst1)\n",
    "        colnames(rst1) = c('true_positive', 'total_positive', 'total_signal')\n",
    "        if (connect_org) {\n",
    "            rst2 = as.data.frame(cbind(rst1$true_positive / rst1$total_positive, rst1$true_positive / rst1$total_signal,  c(ttv, ttv[length(ttv)], 1)))\n",
    "        } else {\n",
    "            rst2 = as.data.frame(cbind(rst1$true_positive / rst1$total_positive, rst1$true_positive / rst1$total_signal,  ttv))\n",
    "        }\n",
    "        colnames(rst2) = c('Precision', 'Recall', 'Threshold')\n",
    "        return(list(counts = rst1, rates = rst2))\n",
    "    }\n",
    "\n",
    "    print(\"Computing ROC data ...\")\n",
    "    roc = list()\n",
    "    dat = readRDS(${_input:r})\n",
    "    for (method in names(dat)) {\n",
    "      roc[[method]] = roc_data(dat[[method]])\n",
    "    }\n",
    "    saveRDS(roc, ${_output:r})"
   ]
  },
  {
   "cell_type": "code",
   "execution_count": null,
   "metadata": {
    "kernel": "SoS"
   },
   "outputs": [],
   "source": [
    "# Plot for ROC\n",
    "[roc_4]\n",
    "parameter: chunks = 0\n",
    "parameter: smooth = 'FALSE'\n",
    "parameter: opt = \"lwd = 2, xlim = c(0,0.5), ylim = c(0,0.5)\"\n",
    "parameter: main = \"ROC\"\n",
    "output: f'{_input:nn}.roc.pdf'\n",
    "R: expand = '${ }'\n",
    "    colors = c('#A60628', '#7A68A6', '#348ABD', '#467821', '#FF0000', '#188487', '#E2A233',\n",
    "                  '#A9A9A9', '#000000', '#FF00FF', '#FFD700', '#ADFF2F', '#00FFFF')\n",
    "    dat = readRDS(${_input:r})\n",
    "    library(scam)\n",
    "    create_chunks = function(item, n) {\n",
    "      splitted = suppressWarnings(split(item, 1:n))\n",
    "      return(c(splitted[[1]], splitted[[length(splitted)]][length(splitted[[length(splitted)]])]))\n",
    "    }\n",
    "    make_smooth = function(x,y,subset=${chunks}, smooth = ${smooth}) {\n",
    "      if (smooth) {\n",
    "          if (subset < length(x) && subset > 0) {\n",
    "              x = create_chunks(x, subset)\n",
    "              y = create_chunks(y, subset)\n",
    "          }\n",
    "          dat = data.frame(cbind(x,y))\n",
    "          colnames(dat) = c('x','y')\n",
    "          y=predict(scam(y ~ s(x, bs = \"mpi\"), data = dat))\n",
    "      }\n",
    "      return(list(x=x,y=y))\n",
    "    }\n",
    "    add_text = function(thresholds, x, y, threshold, color, delta = -0.02) {\n",
    "        idx = which(thresholds == threshold)\n",
    "        text(x[idx] - delta, y[idx], labels = threshold, col = color)\n",
    "        points(x[idx],y[idx])\n",
    "    }\n",
    "    rename = list(mnm_high_het = 'M&M (oracle)', mnm_mixture01 = 'M&M (default)', mthess = 'MT-HESS (default)')\n",
    "    labels = vector()\n",
    "    pdf(${_output:r}, width=5, height=5, pointsize=15)\n",
    "    i = 1\n",
    "    for (method in names(dat)) {\n",
    "        yy = make_smooth(1 - dat[[method]]$rates$Precision, dat[[method]]$rates$Recall)\n",
    "        if (i == 1) {\n",
    "            plot(yy$x, yy$y, t=\"l\", col=colors[i], ylab = \"power\", xlab =\"FDR\", main = \"${main}\", bty='l', ${opt})\n",
    "        } else {\n",
    "            lines(yy$x, yy$y, col=colors[i], ${opt})\n",
    "        }\n",
    "        #add_text(dat[[method]]$rates$Threshold, yy$x, yy$y, 0.9, colors[i])\n",
    "        add_text(dat[[method]]$rates$Threshold, yy$x, yy$y, 0.95, colors[i])\n",
    "        labels[i] = rename[[method]]\n",
    "        i = i + 1\n",
    "    }\n",
    "    legend(\"bottomright\", legend=labels, col=colors[1:i], lty=c(1,1,1), cex=0.8)\n",
    "    dev.off()"
   ]
  },
  {
   "cell_type": "code",
   "execution_count": null,
   "metadata": {
    "kernel": "SoS"
   },
   "outputs": [],
   "source": [
    "%preview /home/gaow/GIT/github/mnm-twas/dsc/mthess/PIP_comparison_0228.roc.pdf -s png --dpi 100"
   ]
  },
  {
   "cell_type": "markdown",
   "metadata": {
    "kernel": "SoS"
   },
   "source": [
    "## Run time comparison"
   ]
  },
  {
   "cell_type": "code",
   "execution_count": null,
   "metadata": {
    "kernel": "SoS"
   },
   "outputs": [],
   "source": [
    "%cd /home/gaow/GIT/github/mnm-twas/dsc/mthess"
   ]
  },
  {
   "cell_type": "code",
   "execution_count": null,
   "metadata": {
    "kernel": "R"
   },
   "outputs": [],
   "source": [
    "dat = readRDS('PIP_comparison_0228.pips_meta.rds')\n",
    "dat = dat[,c(4,6)]\n",
    "colnames(dat) = c('method', 'time')"
   ]
  },
  {
   "cell_type": "code",
   "execution_count": null,
   "metadata": {
    "kernel": "ir"
   },
   "outputs": [],
   "source": [
    "aggregate(time~method,dat,mean)"
   ]
  },
  {
   "cell_type": "code",
   "execution_count": null,
   "metadata": {
    "kernel": "ir"
   },
   "outputs": [],
   "source": [
    "aggregate(time~method,dat,median)"
   ]
  },
  {
   "cell_type": "code",
   "execution_count": null,
   "metadata": {
    "kernel": "ir"
   },
   "outputs": [],
   "source": [
    "library(ggplot2)\n",
    "library(cowplot)\n",
    "# Basic violin plot\n",
    "png('PIP_comparison_0228.runtime.png', 600, 600)\n",
    "p = ggplot(dat, aes(x=method, y=time)) + \n",
    "  geom_violin(trim=FALSE, fill=\"gray\")+\n",
    "  labs(title=\"\",x=\"method\", y = \"time elapsed (seconds)\")+\n",
    "  geom_boxplot(width=0.1)+\n",
    "  theme_cowplot()\n",
    "print(p)\n",
    "dev.off()"
   ]
  },
  {
   "cell_type": "code",
   "execution_count": null,
   "metadata": {
    "kernel": "ir"
   },
   "outputs": [],
   "source": [
    "%preview PIP_comparison_0228.runtime.png"
   ]
  }
 ],
 "metadata": {
  "kernelspec": {
   "display_name": "SoS",
   "language": "sos",
   "name": "sos"
  },
  "language_info": {
   "codemirror_mode": "sos",
   "file_extension": ".sos",
   "mimetype": "text/x-sos",
   "name": "sos",
   "nbconvert_exporter": "sos_notebook.converter.SoS_Exporter",
   "pygments_lexer": "sos"
  },
  "sos": {
   "kernels": [
    [
     "R",
     "ir",
     "R",
     ""
    ],
    [
     "SoS",
     "sos",
     "",
     ""
    ],
    [
     "R",
     "ir",
     "R",
     ""
    ]
   ],
   "version": "0.19.1"
  }
 },
 "nbformat": 4,
 "nbformat_minor": 2
}
