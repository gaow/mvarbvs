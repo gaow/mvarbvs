{
 "cells": [
  {
   "cell_type": "markdown",
   "metadata": {
    "kernel": "SoS"
   },
   "source": [
    "# Adding null component to SuSiE\n",
    "\n",
    "Here we evaluate the possible benefit adding a null component to SuSiE. The hope is that the CS will be easier to prune (without using purity) and that the pruned CS can achieve smaller FDR."
   ]
  },
  {
   "cell_type": "markdown",
   "metadata": {
    "kernel": "SoS"
   },
   "source": [
    "## A simple simulation case"
   ]
  },
  {
   "cell_type": "code",
   "execution_count": 1,
   "metadata": {
    "kernel": "R"
   },
   "outputs": [],
   "source": [
    "set.seed(1)\n",
    "n = 500\n",
    "p = 1000\n",
    "b = rep(0,p)\n",
    "b[200] = 1\n",
    "b[800] = 1\n",
    "X = matrix(rnorm(n*p),nrow=n,ncol=p)\n",
    "X[,200] = X[,400]\n",
    "X[,600] = X[,800]\n",
    "y = X %*% b + rnorm(n)\n",
    "\n",
    "diag_susie = function(purity = 0, dedup = F, ...) {\n",
    "    s = susieR::susie(X, y, L=5, scaled_prior_variance=0.2, track_fit=F, coverage=NULL, ...)\n",
    "    sets = susieR::susie_get_CS(s, X=cbind(X,0), coverage=0.95,min_abs_corr=purity,dedup=dedup)\n",
    "    str(sets$cs)\n",
    "    print('PIP for the null (1st PIP) and causal (other PIPs)')\n",
    "    pip = susieR::susie_get_PIP(s, sets$cs_index)\n",
    "    print(pip[c(p+1,200,400,600,800)])\n",
    "    return(s)\n",
    "}\n",
    "\n",
    "run_susie = function(purity = 0.1, dedup = T, ...) {\n",
    "    diag_susie(purity=purity, dedup=dedup, ...)\n",
    "}"
   ]
  },
  {
   "cell_type": "markdown",
   "metadata": {
    "kernel": "R"
   },
   "source": [
    "### Run SuSiE in \"diagnostics\" mode\n",
    "\n",
    "\"Diagnostics\" means that we set no purity threshold and remove no duplicate CS. The PIP computation will be based on the un-processed result."
   ]
  },
  {
   "cell_type": "markdown",
   "metadata": {
    "kernel": "R"
   },
   "source": [
    "First, fit with SuSiE as is, but over-specifiy $L$ and report all CS obtained (setting `min_abs_corr` to zero)"
   ]
  },
  {
   "cell_type": "code",
   "execution_count": 2,
   "metadata": {
    "kernel": "R"
   },
   "outputs": [
    {
     "name": "stdout",
     "output_type": "stream",
     "text": [
      "List of 5\n",
      " $ L2: int [1:2] 600 800\n",
      " $ L1: int [1:2] 200 400\n",
      " $ L3: int [1:876] 1 2 4 5 6 8 9 10 11 12 ...\n",
      " $ L4: int [1:876] 1 2 4 5 6 8 9 10 11 12 ...\n",
      " $ L5: int [1:877] 1 2 4 5 6 8 9 10 11 12 ...\n",
      "[1] \"PIP for the null (1st PIP) and causal (other PIPs)\"\n",
      "[1]        NA 0.5006026 0.5006026 0.5006017 0.5006017\n"
     ]
    }
   ],
   "source": [
    "s = diag_susie()"
   ]
  },
  {
   "cell_type": "markdown",
   "metadata": {
    "kernel": "R"
   },
   "source": [
    "So the 3rd and 4th CS are large. Now add a penalty to null,"
   ]
  },
  {
   "cell_type": "code",
   "execution_count": 3,
   "metadata": {
    "kernel": "R"
   },
   "outputs": [
    {
     "name": "stdout",
     "output_type": "stream",
     "text": [
      "List of 5\n",
      " $ L2: int [1:2] 600 800\n",
      " $ L1: int [1:2] 200 400\n",
      " $ L4: int [1:872] 1 2 4 5 6 8 9 10 11 12 ...\n",
      " $ L5: int [1:873] 1 2 4 5 6 8 9 10 11 12 ...\n",
      " $ L3: int [1:871] 1 2 4 5 6 8 9 10 11 12 ...\n",
      "[1] \"PIP for the null (1st PIP) and causal (other PIPs)\"\n",
      "[1] 0.1008317 0.5005786 0.5005786 0.5005777 0.5005777\n"
     ]
    }
   ],
   "source": [
    "s = diag_susie(null_weight=0.005)"
   ]
  },
  {
   "cell_type": "markdown",
   "metadata": {
    "kernel": "R"
   },
   "source": [
    "As expected the CS got slightly narrower, and the PIP for the null is larger than $1/p$ (0.001 in this case). Now I increase the penalty,"
   ]
  },
  {
   "cell_type": "code",
   "execution_count": 4,
   "metadata": {
    "kernel": "R"
   },
   "outputs": [
    {
     "name": "stdout",
     "output_type": "stream",
     "text": [
      "List of 5\n",
      " $ L2: int [1:2] 600 800\n",
      " $ L1: int [1:2] 200 400\n",
      " $ L5: int [1:868] 1 2 4 5 6 8 9 10 11 12 ...\n",
      " $ L4: int [1:867] 1 2 4 5 6 8 9 10 11 12 ...\n",
      " $ L3: int [1:866] 1 2 4 5 6 8 9 10 11 12 ...\n",
      "[1] \"PIP for the null (1st PIP) and causal (other PIPs)\"\n",
      "[1] 0.1886082 0.5005565 0.5005565 0.5005557 0.5005557\n"
     ]
    }
   ],
   "source": [
    "s = diag_susie(null_weight=0.01)"
   ]
  },
  {
   "cell_type": "code",
   "execution_count": 5,
   "metadata": {
    "kernel": "R"
   },
   "outputs": [
    {
     "name": "stdout",
     "output_type": "stream",
     "text": [
      "List of 5\n",
      " $ L2: int [1:2] 600 800\n",
      " $ L1: int [1:2] 200 400\n",
      " $ L3: int [1:822] 1 2 4 5 6 8 9 10 11 12 ...\n",
      " $ L5: int [1:828] 1 2 4 5 6 8 9 10 11 12 ...\n",
      " $ L4: int [1:825] 1 2 4 5 6 8 9 10 11 12 ...\n",
      "[1] \"PIP for the null (1st PIP) and causal (other PIPs)\"\n",
      "[1] 0.6041899 0.5004224 0.5004224 0.5004218 0.5004218\n"
     ]
    }
   ],
   "source": [
    "s = diag_susie(null_weight=0.05)"
   ]
  },
  {
   "cell_type": "markdown",
   "metadata": {
    "kernel": "R"
   },
   "source": []
  },
  {
   "cell_type": "code",
   "execution_count": 6,
   "metadata": {
    "kernel": "R"
   },
   "outputs": [
    {
     "name": "stdout",
     "output_type": "stream",
     "text": [
      "List of 5\n",
      " $ L2: int [1:2] 600 800\n",
      " $ L1: int [1:2] 200 400\n",
      " $ L5: int [1:772] 2 4 5 6 8 9 10 11 12 13 ...\n",
      " $ L3: int [1:768] 2 4 5 6 8 9 10 11 12 13 ...\n",
      " $ L4: int [1:769] 2 4 5 6 8 9 10 11 12 13 ...\n",
      "[1] \"PIP for the null (1st PIP) and causal (other PIPs)\"\n",
      "[1] 0.8101352 0.5003204 0.5003204 0.5003199 0.5003199\n"
     ]
    }
   ],
   "source": [
    "s = diag_susie(null_weight=0.1)"
   ]
  },
  {
   "cell_type": "code",
   "execution_count": 7,
   "metadata": {
    "kernel": "R"
   },
   "outputs": [
    {
     "name": "stdout",
     "output_type": "stream",
     "text": [
      "List of 5\n",
      " $ L2: int [1:2] 600 800\n",
      " $ L1: int [1:2] 200 400\n",
      " $ L3: int [1:647] 2 5 6 8 10 11 12 13 14 15 ...\n",
      " $ L5: int [1:648] 2 5 6 8 10 11 12 13 14 15 ...\n",
      " $ L4: int [1:647] 2 5 6 8 10 11 12 13 14 15 ...\n",
      "[1] \"PIP for the null (1st PIP) and causal (other PIPs)\"\n",
      "[1] 0.9419801 0.5002054 0.5002054 0.5002052 0.5002052\n"
     ]
    }
   ],
   "source": [
    "s = diag_susie(null_weight=0.2)"
   ]
  },
  {
   "cell_type": "code",
   "execution_count": 8,
   "metadata": {
    "kernel": "R"
   },
   "outputs": [
    {
     "name": "stdout",
     "output_type": "stream",
     "text": [
      "List of 5\n",
      " $ L2: int [1:2] 600 800\n",
      " $ L1: int [1:2] 200 400\n",
      " $ L3: int [1:501] 5 8 10 11 13 14 15 16 17 18 ...\n",
      " $ L4: int [1:502] 5 8 10 11 13 14 15 16 17 18 ...\n",
      " $ L5: int [1:506] 5 8 10 11 13 14 15 16 17 18 ...\n",
      "[1] \"PIP for the null (1st PIP) and causal (other PIPs)\"\n",
      "[1] 0.9782793 0.5001411 0.5001411 0.5001409 0.5001409\n"
     ]
    }
   ],
   "source": [
    "s = diag_susie(null_weight=0.3)"
   ]
  },
  {
   "cell_type": "code",
   "execution_count": 9,
   "metadata": {
    "kernel": "R"
   },
   "outputs": [
    {
     "name": "stdout",
     "output_type": "stream",
     "text": [
      "List of 5\n",
      " $ L2: int [1:2] 600 800\n",
      " $ L1: int [1:2] 200 400\n",
      " $ L4: int [1:340] 8 10 11 13 14 23 25 26 31 32 ...\n",
      " $ L5: int [1:342] 8 10 11 13 14 23 25 26 31 32 ...\n",
      " $ L3: int [1:339] 8 10 11 13 14 23 25 26 31 32 ...\n",
      "[1] \"PIP for the null (1st PIP) and causal (other PIPs)\"\n",
      "[1] 0.9914398 0.5001001 0.5001001 0.5001000 0.5001000\n"
     ]
    }
   ],
   "source": [
    "s = diag_susie(null_weight=0.4)"
   ]
  },
  {
   "cell_type": "code",
   "execution_count": 10,
   "metadata": {
    "kernel": "R"
   },
   "outputs": [
    {
     "name": "stdout",
     "output_type": "stream",
     "text": [
      "List of 5\n",
      " $ L2: int [1:2] 600 800\n",
      " $ L1: int [1:2] 200 400\n",
      " $ L5: int [1:179] 8 10 25 31 32 33 36 37 38 45 ...\n",
      " $ L3: int [1:179] 8 10 25 31 32 33 36 37 38 45 ...\n",
      " $ L4: int [1:179] 8 10 25 31 32 33 36 37 38 45 ...\n",
      "[1] \"PIP for the null (1st PIP) and causal (other PIPs)\"\n",
      "[1] 0.9966153 0.5000713 0.5000713 0.5000713 0.5000713\n"
     ]
    }
   ],
   "source": [
    "s = diag_susie(null_weight=0.5)"
   ]
  },
  {
   "cell_type": "code",
   "execution_count": 11,
   "metadata": {
    "kernel": "R"
   },
   "outputs": [
    {
     "name": "stdout",
     "output_type": "stream",
     "text": [
      "List of 5\n",
      " $ L2: int [1:2] 600 800\n",
      " $ L1: int [1:2] 200 400\n",
      " $ L3: int [1:52] 8 36 63 90 112 173 246 248 339 352 ...\n",
      " $ L4: int [1:52] 8 36 63 90 112 173 246 248 339 352 ...\n",
      " $ L5: int [1:52] 8 36 63 90 112 173 246 248 339 352 ...\n",
      "[1] \"PIP for the null (1st PIP) and causal (other PIPs)\"\n",
      "[1] 0.9987379 0.5000499 0.5000499 0.5000499 0.5000499\n"
     ]
    }
   ],
   "source": [
    "s = diag_susie(null_weight=0.6)"
   ]
  },
  {
   "cell_type": "code",
   "execution_count": 12,
   "metadata": {
    "kernel": "R"
   },
   "outputs": [
    {
     "name": "stdout",
     "output_type": "stream",
     "text": [
      "List of 5\n",
      " $ L2: int [1:2] 600 800\n",
      " $ L1: int [1:2] 200 400\n",
      " $ L3: int [1:4] 112 768 954 1001\n",
      " $ L4: int [1:4] 112 768 954 1001\n",
      " $ L5: int [1:4] 112 768 954 1001\n",
      "[1] \"PIP for the null (1st PIP) and causal (other PIPs)\"\n",
      "[1] 0.9995926 0.5000333 0.5000333 0.5000333 0.5000333\n"
     ]
    }
   ],
   "source": [
    "s = diag_susie(null_weight=0.7)"
   ]
  },
  {
   "cell_type": "code",
   "execution_count": 13,
   "metadata": {
    "kernel": "R"
   },
   "outputs": [
    {
     "name": "stdout",
     "output_type": "stream",
     "text": [
      "List of 5\n",
      " $ L2: int [1:2] 600 800\n",
      " $ L3: int 1001\n",
      " $ L4: int 1001\n",
      " $ L5: int 1001\n",
      " $ L1: int [1:2] 200 400\n",
      "[1] \"PIP for the null (1st PIP) and causal (other PIPs)\"\n",
      "[1] 0.9999042 0.5000200 0.5000200 0.5000200 0.5000200\n"
     ]
    }
   ],
   "source": [
    "s = diag_susie(null_weight=0.8)"
   ]
  },
  {
   "cell_type": "code",
   "execution_count": 14,
   "metadata": {
    "kernel": "R"
   },
   "outputs": [
    {
     "name": "stdout",
     "output_type": "stream",
     "text": [
      "List of 5\n",
      " $ L2: int [1:2] 600 800\n",
      " $ L3: int 1001\n",
      " $ L4: int 1001\n",
      " $ L5: int 1001\n",
      " $ L1: int [1:2] 200 400\n",
      "[1] \"PIP for the null (1st PIP) and causal (other PIPs)\"\n",
      "[1] 0.9999999 0.5000017 0.5000017 0.5000017 0.5000017\n"
     ]
    }
   ],
   "source": [
    "s = diag_susie(null_weight=0.98)"
   ]
  },
  {
   "cell_type": "markdown",
   "metadata": {
    "kernel": "R"
   },
   "source": [
    "### Run SuSiE in default mode\n",
    "\n",
    "Here we set purity threshold to 0.1 and remove duplicate CS."
   ]
  },
  {
   "cell_type": "code",
   "execution_count": null,
   "metadata": {
    "kernel": "R"
   },
   "outputs": [],
   "source": [
    "s = run_susie()"
   ]
  },
  {
   "cell_type": "markdown",
   "metadata": {
    "kernel": "R"
   },
   "source": [
    "In this example the default SuSiE with purity filter is good enough. No need to bother with a penalty."
   ]
  },
  {
   "cell_type": "code",
   "execution_count": 15,
   "metadata": {
    "kernel": "R"
   },
   "outputs": [
    {
     "name": "stdout",
     "output_type": "stream",
     "text": [
      "List of 2\n",
      " $ L2: int [1:2] 600 800\n",
      " $ L1: int [1:2] 200 400\n",
      "[1] \"PIP for the null (1st PIP) and causal (other PIPs)\"\n",
      "[1] 0.0 0.5 0.5 0.5 0.5\n"
     ]
    }
   ],
   "source": [
    "s = run_susie(null_weight=0.7)"
   ]
  },
  {
   "cell_type": "code",
   "execution_count": 17,
   "metadata": {
    "kernel": "R"
   },
   "outputs": [
    {
     "name": "stdout",
     "output_type": "stream",
     "text": [
      "List of 3\n",
      " $ L2: int [1:2] 600 800\n",
      " $ L4: int [1:2] 954 1001\n",
      " $ L1: int [1:2] 200 400\n",
      "[1] \"PIP for the null (1st PIP) and causal (other PIPs)\"\n",
      "[1] 0.9405439 0.5000088 0.5000088 0.5000088 0.5000088\n"
     ]
    }
   ],
   "source": [
    "s = run_susie(null_weight=0.75)"
   ]
  },
  {
   "cell_type": "markdown",
   "metadata": {
    "kernel": "R"
   },
   "source": [
    "At least from this example, we will get stuck to a null set only when `null_weight` is very high."
   ]
  },
  {
   "cell_type": "markdown",
   "metadata": {
    "kernel": "R"
   },
   "source": [
    "## A null simulation\n",
    "\n",
    "We simulate random data,"
   ]
  },
  {
   "cell_type": "code",
   "execution_count": 18,
   "metadata": {
    "kernel": "R"
   },
   "outputs": [],
   "source": [
    "set.seed(1)\n",
    "n = 500\n",
    "p = 1000\n",
    "X = matrix(rnorm(n*p),nrow=n,ncol=p)\n",
    "y = rnorm(n)"
   ]
  },
  {
   "cell_type": "markdown",
   "metadata": {
    "kernel": "R"
   },
   "source": [
    "and run SuSiE with / without purity filter:"
   ]
  },
  {
   "cell_type": "code",
   "execution_count": 20,
   "metadata": {
    "kernel": "R"
   },
   "outputs": [
    {
     "name": "stdout",
     "output_type": "stream",
     "text": [
      "List of 5\n",
      " $ L5: int [1:887] 1 2 4 5 6 8 9 10 11 12 ...\n",
      " $ L4: int [1:887] 1 2 4 5 6 8 9 10 11 12 ...\n",
      " $ L2: int [1:887] 1 2 4 5 6 8 9 10 11 12 ...\n",
      " $ L3: int [1:887] 1 2 4 5 6 8 9 10 11 12 ...\n",
      " $ L1: int [1:887] 1 2 4 5 6 8 9 10 11 12 ...\n",
      "[1] \"PIP for the null (1st PIP) and causal (other PIPs)\"\n",
      "[1]          NA 0.002444137 0.007357031 0.002841289 0.002235344\n"
     ]
    }
   ],
   "source": [
    "s = diag_susie()"
   ]
  },
  {
   "cell_type": "code",
   "execution_count": 23,
   "metadata": {
    "kernel": "R"
   },
   "outputs": [
    {
     "name": "stdout",
     "output_type": "stream",
     "text": [
      " NULL\n",
      "[1] \"PIP for the null (1st PIP) and causal (other PIPs)\"\n",
      "[1]          NA 0.002444137 0.007357031 0.002841289 0.002235344\n"
     ]
    }
   ],
   "source": [
    "s = run_susie()"
   ]
  },
  {
   "cell_type": "markdown",
   "metadata": {
    "kernel": "R"
   },
   "source": [
    "For this simple case, the purity filter itself is good enough to tell between signal and noise."
   ]
  },
  {
   "cell_type": "markdown",
   "metadata": {
    "kernel": "R"
   },
   "source": [
    "## A case demonstrating the usefulness of penalty\n",
    "\n",
    "I took this data-set from our simulation. This is a case SuSiE makes false discovery in multi-signal setting."
   ]
  },
  {
   "cell_type": "code",
   "execution_count": null,
   "metadata": {
    "kernel": "R"
   },
   "outputs": [],
   "source": []
  }
 ],
 "metadata": {
  "kernelspec": {
   "display_name": "SoS",
   "language": "sos",
   "name": "sos"
  },
  "language_info": {
   "codemirror_mode": "sos",
   "file_extension": ".sos",
   "mimetype": "text/x-sos",
   "name": "sos",
   "nbconvert_exporter": "sos_notebook.converter.SoS_Exporter",
   "pygments_lexer": "sos"
  },
  "sos": {
   "kernels": [
    [
     "R",
     "ir",
     "R",
     "#DCDCDA"
    ]
   ],
   "version": "0.16.11"
  }
 },
 "nbformat": 4,
 "nbformat_minor": 2
}
