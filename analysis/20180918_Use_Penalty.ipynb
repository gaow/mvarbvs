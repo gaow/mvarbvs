{
 "cells": [
  {
   "cell_type": "markdown",
   "metadata": {
    "kernel": "SoS"
   },
   "source": [
    "# Adding null component to SuSiE\n",
    "\n",
    "Here we evaluate the possible benefit adding a null component to SuSiE. The hope is that the CS will be easier to prune (without using purity) and that the pruned CS can achieve smaller FDR."
   ]
  },
  {
   "cell_type": "markdown",
   "metadata": {
    "kernel": "SoS"
   },
   "source": [
    "## A simple simulation case"
   ]
  },
  {
   "cell_type": "code",
   "execution_count": 2,
   "metadata": {
    "kernel": "R"
   },
   "outputs": [],
   "source": [
    "set.seed(1)\n",
    "n = 500\n",
    "p = 1000\n",
    "b = rep(0,p)\n",
    "b[200] = 1\n",
    "b[800] = 1\n",
    "X = matrix(rnorm(n*p),nrow=n,ncol=p)\n",
    "X[,200] = X[,400]\n",
    "X[,600] = X[,800]\n",
    "y = X %*% b + rnorm(n)"
   ]
  },
  {
   "cell_type": "code",
   "execution_count": 3,
   "metadata": {
    "kernel": "R"
   },
   "outputs": [],
   "source": [
    "diag_susie = function(purity = 0, dedup = F, ...) {\n",
    "    s = susieR::susie(X, y, L=5, scaled_prior_variance=0.2, track_fit=F, coverage=NULL, ...)\n",
    "    sets = susieR::susie_get_CS(s, X=cbind(X,0), coverage=0.95,min_abs_corr=purity,dedup=dedup)\n",
    "    str(sets$cs)\n",
    "    print('PIP for the null (1st PIP) and causal (other PIPs)')\n",
    "    pip = susieR::susie_get_PIP(s, sets$cs_index)\n",
    "    print(pip[c(ncol(X)+1,200,400,600,800)])\n",
    "    s$sets= sets\n",
    "    s$pip = pip\n",
    "    return(s)\n",
    "}\n",
    "\n",
    "run_susie = function(purity = 0.1, dedup = T, ...) {\n",
    "    diag_susie(purity=purity, dedup=dedup, ...)\n",
    "}"
   ]
  },
  {
   "cell_type": "markdown",
   "metadata": {
    "kernel": "R"
   },
   "source": [
    "### Run SuSiE in \"diagnostics\" mode\n",
    "\n",
    "\"Diagnostics\" means that we set no purity threshold and remove no duplicate CS. The PIP computation will be based on the un-processed result."
   ]
  },
  {
   "cell_type": "markdown",
   "metadata": {
    "kernel": "R"
   },
   "source": [
    "First, fit with SuSiE as is, but over-specifiy $L$ and report all CS obtained (setting `min_abs_corr` to zero)"
   ]
  },
  {
   "cell_type": "code",
   "execution_count": 4,
   "metadata": {
    "kernel": "R"
   },
   "outputs": [
    {
     "name": "stdout",
     "output_type": "stream",
     "text": [
      "List of 5\n",
      " $ L2: int [1:2] 600 800\n",
      " $ L1: int [1:2] 200 400\n",
      " $ L3: int [1:876] 1 2 4 5 6 8 9 10 11 12 ...\n",
      " $ L4: int [1:876] 1 2 4 5 6 8 9 10 11 12 ...\n",
      " $ L5: int [1:877] 1 2 4 5 6 8 9 10 11 12 ...\n",
      "[1] \"PIP for the null (1st PIP) and causal (other PIPs)\"\n",
      "[1]        NA 0.5006026 0.5006026 0.5006017 0.5006017\n"
     ]
    }
   ],
   "source": [
    "s = diag_susie()"
   ]
  },
  {
   "cell_type": "markdown",
   "metadata": {
    "kernel": "R"
   },
   "source": [
    "So the 3rd and 4th CS are large. Now add a penalty to null,"
   ]
  },
  {
   "cell_type": "code",
   "execution_count": 5,
   "metadata": {
    "kernel": "R"
   },
   "outputs": [
    {
     "name": "stdout",
     "output_type": "stream",
     "text": [
      "List of 5\n",
      " $ L2: int [1:2] 600 800\n",
      " $ L1: int [1:2] 200 400\n",
      " $ L4: int [1:872] 1 2 4 5 6 8 9 10 11 12 ...\n",
      " $ L5: int [1:873] 1 2 4 5 6 8 9 10 11 12 ...\n",
      " $ L3: int [1:871] 1 2 4 5 6 8 9 10 11 12 ...\n",
      "[1] \"PIP for the null (1st PIP) and causal (other PIPs)\"\n",
      "[1] 0.1008317 0.5005786 0.5005786 0.5005777 0.5005777\n"
     ]
    }
   ],
   "source": [
    "s = diag_susie(null_weight=0.005)"
   ]
  },
  {
   "cell_type": "markdown",
   "metadata": {
    "kernel": "R"
   },
   "source": [
    "As expected the CS got slightly narrower, and the PIP for the null is larger than $1/p$ (0.001 in this case). Now I increase the penalty,"
   ]
  },
  {
   "cell_type": "code",
   "execution_count": 6,
   "metadata": {
    "kernel": "R"
   },
   "outputs": [
    {
     "name": "stdout",
     "output_type": "stream",
     "text": [
      "List of 5\n",
      " $ L2: int [1:2] 600 800\n",
      " $ L1: int [1:2] 200 400\n",
      " $ L5: int [1:868] 1 2 4 5 6 8 9 10 11 12 ...\n",
      " $ L4: int [1:867] 1 2 4 5 6 8 9 10 11 12 ...\n",
      " $ L3: int [1:866] 1 2 4 5 6 8 9 10 11 12 ...\n",
      "[1] \"PIP for the null (1st PIP) and causal (other PIPs)\"\n",
      "[1] 0.1886082 0.5005565 0.5005565 0.5005557 0.5005557\n"
     ]
    }
   ],
   "source": [
    "s = diag_susie(null_weight=0.01)"
   ]
  },
  {
   "cell_type": "code",
   "execution_count": 7,
   "metadata": {
    "kernel": "R"
   },
   "outputs": [
    {
     "name": "stdout",
     "output_type": "stream",
     "text": [
      "List of 5\n",
      " $ L2: int [1:2] 600 800\n",
      " $ L1: int [1:2] 200 400\n",
      " $ L3: int [1:822] 1 2 4 5 6 8 9 10 11 12 ...\n",
      " $ L5: int [1:828] 1 2 4 5 6 8 9 10 11 12 ...\n",
      " $ L4: int [1:825] 1 2 4 5 6 8 9 10 11 12 ...\n",
      "[1] \"PIP for the null (1st PIP) and causal (other PIPs)\"\n",
      "[1] 0.6041899 0.5004224 0.5004224 0.5004218 0.5004218\n"
     ]
    }
   ],
   "source": [
    "s = diag_susie(null_weight=0.05)"
   ]
  },
  {
   "cell_type": "markdown",
   "metadata": {
    "kernel": "R"
   },
   "source": []
  },
  {
   "cell_type": "code",
   "execution_count": 8,
   "metadata": {
    "kernel": "R"
   },
   "outputs": [
    {
     "name": "stdout",
     "output_type": "stream",
     "text": [
      "List of 5\n",
      " $ L2: int [1:2] 600 800\n",
      " $ L1: int [1:2] 200 400\n",
      " $ L5: int [1:772] 2 4 5 6 8 9 10 11 12 13 ...\n",
      " $ L3: int [1:768] 2 4 5 6 8 9 10 11 12 13 ...\n",
      " $ L4: int [1:769] 2 4 5 6 8 9 10 11 12 13 ...\n",
      "[1] \"PIP for the null (1st PIP) and causal (other PIPs)\"\n",
      "[1] 0.8101352 0.5003204 0.5003204 0.5003199 0.5003199\n"
     ]
    }
   ],
   "source": [
    "s = diag_susie(null_weight=0.1)"
   ]
  },
  {
   "cell_type": "code",
   "execution_count": 9,
   "metadata": {
    "kernel": "R"
   },
   "outputs": [
    {
     "name": "stdout",
     "output_type": "stream",
     "text": [
      "List of 5\n",
      " $ L2: int [1:2] 600 800\n",
      " $ L1: int [1:2] 200 400\n",
      " $ L3: int [1:647] 2 5 6 8 10 11 12 13 14 15 ...\n",
      " $ L5: int [1:648] 2 5 6 8 10 11 12 13 14 15 ...\n",
      " $ L4: int [1:647] 2 5 6 8 10 11 12 13 14 15 ...\n",
      "[1] \"PIP for the null (1st PIP) and causal (other PIPs)\"\n",
      "[1] 0.9419801 0.5002054 0.5002054 0.5002052 0.5002052\n"
     ]
    }
   ],
   "source": [
    "s = diag_susie(null_weight=0.2)"
   ]
  },
  {
   "cell_type": "code",
   "execution_count": 10,
   "metadata": {
    "kernel": "R"
   },
   "outputs": [
    {
     "name": "stdout",
     "output_type": "stream",
     "text": [
      "List of 5\n",
      " $ L2: int [1:2] 600 800\n",
      " $ L1: int [1:2] 200 400\n",
      " $ L3: int [1:501] 5 8 10 11 13 14 15 16 17 18 ...\n",
      " $ L4: int [1:502] 5 8 10 11 13 14 15 16 17 18 ...\n",
      " $ L5: int [1:506] 5 8 10 11 13 14 15 16 17 18 ...\n",
      "[1] \"PIP for the null (1st PIP) and causal (other PIPs)\"\n",
      "[1] 0.9782793 0.5001411 0.5001411 0.5001409 0.5001409\n"
     ]
    }
   ],
   "source": [
    "s = diag_susie(null_weight=0.3)"
   ]
  },
  {
   "cell_type": "code",
   "execution_count": 11,
   "metadata": {
    "kernel": "R"
   },
   "outputs": [
    {
     "name": "stdout",
     "output_type": "stream",
     "text": [
      "List of 5\n",
      " $ L2: int [1:2] 600 800\n",
      " $ L1: int [1:2] 200 400\n",
      " $ L4: int [1:340] 8 10 11 13 14 23 25 26 31 32 ...\n",
      " $ L5: int [1:342] 8 10 11 13 14 23 25 26 31 32 ...\n",
      " $ L3: int [1:339] 8 10 11 13 14 23 25 26 31 32 ...\n",
      "[1] \"PIP for the null (1st PIP) and causal (other PIPs)\"\n",
      "[1] 0.9914398 0.5001001 0.5001001 0.5001000 0.5001000\n"
     ]
    }
   ],
   "source": [
    "s = diag_susie(null_weight=0.4)"
   ]
  },
  {
   "cell_type": "code",
   "execution_count": 12,
   "metadata": {
    "kernel": "R"
   },
   "outputs": [
    {
     "name": "stdout",
     "output_type": "stream",
     "text": [
      "List of 5\n",
      " $ L2: int [1:2] 600 800\n",
      " $ L1: int [1:2] 200 400\n",
      " $ L5: int [1:179] 8 10 25 31 32 33 36 37 38 45 ...\n",
      " $ L3: int [1:179] 8 10 25 31 32 33 36 37 38 45 ...\n",
      " $ L4: int [1:179] 8 10 25 31 32 33 36 37 38 45 ...\n",
      "[1] \"PIP for the null (1st PIP) and causal (other PIPs)\"\n",
      "[1] 0.9966153 0.5000713 0.5000713 0.5000713 0.5000713\n"
     ]
    }
   ],
   "source": [
    "s = diag_susie(null_weight=0.5)"
   ]
  },
  {
   "cell_type": "code",
   "execution_count": 13,
   "metadata": {
    "kernel": "R"
   },
   "outputs": [
    {
     "name": "stdout",
     "output_type": "stream",
     "text": [
      "List of 5\n",
      " $ L2: int [1:2] 600 800\n",
      " $ L1: int [1:2] 200 400\n",
      " $ L3: int [1:52] 8 36 63 90 112 173 246 248 339 352 ...\n",
      " $ L4: int [1:52] 8 36 63 90 112 173 246 248 339 352 ...\n",
      " $ L5: int [1:52] 8 36 63 90 112 173 246 248 339 352 ...\n",
      "[1] \"PIP for the null (1st PIP) and causal (other PIPs)\"\n",
      "[1] 0.9987379 0.5000499 0.5000499 0.5000499 0.5000499\n"
     ]
    }
   ],
   "source": [
    "s = diag_susie(null_weight=0.6)"
   ]
  },
  {
   "cell_type": "code",
   "execution_count": 14,
   "metadata": {
    "kernel": "R"
   },
   "outputs": [
    {
     "name": "stdout",
     "output_type": "stream",
     "text": [
      "List of 5\n",
      " $ L2: int [1:2] 600 800\n",
      " $ L1: int [1:2] 200 400\n",
      " $ L3: int [1:4] 112 768 954 1001\n",
      " $ L4: int [1:4] 112 768 954 1001\n",
      " $ L5: int [1:4] 112 768 954 1001\n",
      "[1] \"PIP for the null (1st PIP) and causal (other PIPs)\"\n",
      "[1] 0.9995926 0.5000333 0.5000333 0.5000333 0.5000333\n"
     ]
    }
   ],
   "source": [
    "s = diag_susie(null_weight=0.7)"
   ]
  },
  {
   "cell_type": "code",
   "execution_count": 15,
   "metadata": {
    "kernel": "R"
   },
   "outputs": [
    {
     "name": "stdout",
     "output_type": "stream",
     "text": [
      "List of 5\n",
      " $ L2: int [1:2] 600 800\n",
      " $ L3: int 1001\n",
      " $ L4: int 1001\n",
      " $ L5: int 1001\n",
      " $ L1: int [1:2] 200 400\n",
      "[1] \"PIP for the null (1st PIP) and causal (other PIPs)\"\n",
      "[1] 0.9999042 0.5000200 0.5000200 0.5000200 0.5000200\n"
     ]
    }
   ],
   "source": [
    "s = diag_susie(null_weight=0.8)"
   ]
  },
  {
   "cell_type": "code",
   "execution_count": 16,
   "metadata": {
    "kernel": "R"
   },
   "outputs": [
    {
     "name": "stdout",
     "output_type": "stream",
     "text": [
      "List of 5\n",
      " $ L2: int [1:2] 600 800\n",
      " $ L3: int 1001\n",
      " $ L4: int 1001\n",
      " $ L5: int 1001\n",
      " $ L1: int [1:2] 200 400\n",
      "[1] \"PIP for the null (1st PIP) and causal (other PIPs)\"\n",
      "[1] 0.9999999 0.5000017 0.5000017 0.5000017 0.5000017\n"
     ]
    }
   ],
   "source": [
    "s = diag_susie(null_weight=0.98)"
   ]
  },
  {
   "cell_type": "markdown",
   "metadata": {
    "kernel": "R"
   },
   "source": [
    "### Run SuSiE in default mode\n",
    "\n",
    "Here we set purity threshold to 0.1 and remove duplicate CS."
   ]
  },
  {
   "cell_type": "code",
   "execution_count": 17,
   "metadata": {
    "kernel": "R"
   },
   "outputs": [
    {
     "name": "stdout",
     "output_type": "stream",
     "text": [
      "List of 2\n",
      " $ L2: int [1:2] 600 800\n",
      " $ L1: int [1:2] 200 400\n",
      "[1] \"PIP for the null (1st PIP) and causal (other PIPs)\"\n",
      "[1]  NA 0.5 0.5 0.5 0.5\n"
     ]
    }
   ],
   "source": [
    "s = run_susie()"
   ]
  },
  {
   "cell_type": "markdown",
   "metadata": {
    "kernel": "R"
   },
   "source": [
    "In this example the default SuSiE with purity filter is good enough. No need to bother with a penalty."
   ]
  },
  {
   "cell_type": "code",
   "execution_count": 18,
   "metadata": {
    "kernel": "R"
   },
   "outputs": [
    {
     "name": "stdout",
     "output_type": "stream",
     "text": [
      "List of 2\n",
      " $ L2: int [1:2] 600 800\n",
      " $ L1: int [1:2] 200 400\n",
      "[1] \"PIP for the null (1st PIP) and causal (other PIPs)\"\n",
      "[1] 0.0 0.5 0.5 0.5 0.5\n"
     ]
    }
   ],
   "source": [
    "s = run_susie(null_weight=0.7)"
   ]
  },
  {
   "cell_type": "code",
   "execution_count": 19,
   "metadata": {
    "kernel": "R"
   },
   "outputs": [
    {
     "name": "stdout",
     "output_type": "stream",
     "text": [
      "List of 3\n",
      " $ L2: int [1:2] 600 800\n",
      " $ L4: int [1:2] 954 1001\n",
      " $ L1: int [1:2] 200 400\n",
      "[1] \"PIP for the null (1st PIP) and causal (other PIPs)\"\n",
      "[1] 0.9405439 0.5000088 0.5000088 0.5000088 0.5000088\n"
     ]
    }
   ],
   "source": [
    "s = run_susie(null_weight=0.75)"
   ]
  },
  {
   "cell_type": "markdown",
   "metadata": {
    "kernel": "R"
   },
   "source": [
    "At least from this example, we will get stuck to a null set only when `null_weight` is very high."
   ]
  },
  {
   "cell_type": "markdown",
   "metadata": {
    "kernel": "R"
   },
   "source": [
    "## A null simulation\n",
    "\n",
    "We simulate random data,"
   ]
  },
  {
   "cell_type": "code",
   "execution_count": 20,
   "metadata": {
    "kernel": "R"
   },
   "outputs": [],
   "source": [
    "set.seed(1)\n",
    "n = 500\n",
    "p = 1000\n",
    "X = matrix(rnorm(n*p),nrow=n,ncol=p)\n",
    "y = rnorm(n)"
   ]
  },
  {
   "cell_type": "markdown",
   "metadata": {
    "kernel": "R"
   },
   "source": [
    "and run SuSiE with / without purity filter:"
   ]
  },
  {
   "cell_type": "code",
   "execution_count": 21,
   "metadata": {
    "kernel": "R"
   },
   "outputs": [
    {
     "name": "stdout",
     "output_type": "stream",
     "text": [
      "List of 5\n",
      " $ L5: int [1:887] 1 2 4 5 6 8 9 10 11 12 ...\n",
      " $ L4: int [1:887] 1 2 4 5 6 8 9 10 11 12 ...\n",
      " $ L2: int [1:887] 1 2 4 5 6 8 9 10 11 12 ...\n",
      " $ L3: int [1:887] 1 2 4 5 6 8 9 10 11 12 ...\n",
      " $ L1: int [1:887] 1 2 4 5 6 8 9 10 11 12 ...\n",
      "[1] \"PIP for the null (1st PIP) and causal (other PIPs)\"\n",
      "[1]          NA 0.002444137 0.007357031 0.002841289 0.002235344\n"
     ]
    }
   ],
   "source": [
    "s = diag_susie()"
   ]
  },
  {
   "cell_type": "code",
   "execution_count": 22,
   "metadata": {
    "kernel": "R"
   },
   "outputs": [
    {
     "name": "stdout",
     "output_type": "stream",
     "text": [
      " NULL\n",
      "[1] \"PIP for the null (1st PIP) and causal (other PIPs)\"\n",
      "[1]          NA 0.002444137 0.007357031 0.002841289 0.002235344\n"
     ]
    }
   ],
   "source": [
    "s = run_susie()"
   ]
  },
  {
   "cell_type": "markdown",
   "metadata": {
    "kernel": "R"
   },
   "source": [
    "For this simple case, the purity filter itself is good enough to tell between signal and noise."
   ]
  },
  {
   "cell_type": "markdown",
   "metadata": {
    "kernel": "R"
   },
   "source": [
    "## A case demonstrating the usefulness of penalty\n",
    "\n",
    "I took this data-set from our simulation. This is a case SuSiE makes false discovery in multi-signal setting."
   ]
  },
  {
   "cell_type": "code",
   "execution_count": 36,
   "metadata": {
    "kernel": "R"
   },
   "outputs": [
    {
     "name": "stdout",
     "output_type": "stream",
     "text": [
      "/project/mstephens/SuSiE/mvarbvs/dsc/susie_comparison\n"
     ]
    }
   ],
   "source": [
    "%cd ../dsc/susie_comparison"
   ]
  },
  {
   "cell_type": "code",
   "execution_count": 24,
   "metadata": {
    "kernel": "R"
   },
   "outputs": [],
   "source": [
    "dat = readRDS('lm_less/liter_data_4_summarize_ld_1_lm_less_3.rds')$data"
   ]
  },
  {
   "cell_type": "code",
   "execution_count": 25,
   "metadata": {
    "kernel": "R"
   },
   "outputs": [],
   "source": [
    "r=1\n",
    "fitted = susieR::susie(dat$X, dat$Y[,r], L=5,\n",
    "               estimate_residual_variance=TRUE, \n",
    "               scaled_prior_variance=0.1,\n",
    "               tol=1e-3, track_fit=TRUE)"
   ]
  },
  {
   "cell_type": "code",
   "execution_count": 26,
   "metadata": {
    "kernel": "R"
   },
   "outputs": [],
   "source": [
    "b = dat$true_coef[,r]\n",
    "b[which(b!=0)] = 1"
   ]
  },
  {
   "cell_type": "markdown",
   "metadata": {
    "kernel": "R"
   },
   "source": [
    "The data is noisy,"
   ]
  },
  {
   "cell_type": "code",
   "execution_count": 27,
   "metadata": {
    "kernel": "R"
   },
   "outputs": [
    {
     "data": {
      "image/png": "[encoded data removed]",
      "text/plain": [
       "Plot with title “z-scores”"
      ]
     },
     "metadata": {},
     "output_type": "display_data"
    }
   ],
   "source": [
    "susieR::susie_plot(fitted, y='z', b=b, main = paste('z-scores'))"
   ]
  },
  {
   "cell_type": "markdown",
   "metadata": {
    "kernel": "R"
   },
   "source": [
    "and SuSiE confidently makes a mistake,"
   ]
  },
  {
   "cell_type": "code",
   "execution_count": 28,
   "metadata": {
    "kernel": "R"
   },
   "outputs": [
    {
     "data": {
      "image/png": "[encoded data removed]",
      "text/plain": [
       "Plot with title “SuSiE 2 CS identified”"
      ]
     },
     "metadata": {},
     "output_type": "display_data"
    }
   ],
   "source": [
    "susieR::susie_plot(fitted, y='PIP', b=b, max_cs=0.4, main = paste('SuSiE', length(fitted$sets$cs), 'CS identified'))"
   ]
  },
  {
   "cell_type": "markdown",
   "metadata": {
    "kernel": "R"
   },
   "source": [
    "Now let's run SuSiE with penalty 0.05,"
   ]
  },
  {
   "cell_type": "code",
   "execution_count": 29,
   "metadata": {
    "kernel": "R"
   },
   "outputs": [
    {
     "name": "stdout",
     "output_type": "stream",
     "text": [
      "List of 2\n",
      " $ L3: int 217\n",
      " $ L1: int [1:18] 754 758 760 761 764 765 769 773 774 775 ...\n",
      "[1] \"PIP for the null (1st PIP) and causal (other PIPs)\"\n",
      "[1] 1.842970e-14 9.605425e-04 0.000000e+00 8.219857e-07 7.058920e-09\n"
     ]
    },
    {
     "data": {
      "text/html": [
       "<table>\n",
       "<thead><tr><th></th><th scope=col>min.abs.corr</th><th scope=col>mean.abs.corr</th><th scope=col>median.abs.corr</th></tr></thead>\n",
       "<tbody>\n",
       "\t<tr><th scope=row>L3</th><td>1.000000 </td><td>1.0000000</td><td>1.0000000</td></tr>\n",
       "\t<tr><th scope=row>L1</th><td>0.997991 </td><td>0.9994118</td><td>0.9995046</td></tr>\n",
       "</tbody>\n",
       "</table>\n"
      ],
      "text/latex": [
       "\\begin{tabular}{r|lll}\n",
       "  & min.abs.corr & mean.abs.corr & median.abs.corr\\\\\n",
       "\\hline\n",
       "\tL3 & 1.000000  & 1.0000000 & 1.0000000\\\\\n",
       "\tL1 & 0.997991  & 0.9994118 & 0.9995046\\\\\n",
       "\\end{tabular}\n"
      ],
      "text/markdown": [
       "\n",
       "| <!--/--> | min.abs.corr | mean.abs.corr | median.abs.corr | \n",
       "|---|---|\n",
       "| L3 | 1.000000  | 1.0000000 | 1.0000000 | \n",
       "| L1 | 0.997991  | 0.9994118 | 0.9995046 | \n",
       "\n",
       "\n"
      ],
      "text/plain": [
       "   min.abs.corr mean.abs.corr median.abs.corr\n",
       "L3 1.000000     1.0000000     1.0000000      \n",
       "L1 0.997991     0.9994118     0.9995046      "
      ]
     },
     "metadata": {},
     "output_type": "display_data"
    }
   ],
   "source": [
    "X=dat$X\n",
    "y=dat$Y[,r]\n",
    "s = run_susie(null_weight=0.05)\n",
    "s$sets$purity"
   ]
  },
  {
   "cell_type": "code",
   "execution_count": 30,
   "metadata": {
    "kernel": "R"
   },
   "outputs": [
    {
     "data": {
      "image/png": "[encoded data removed]",
      "text/plain": [
       "Plot with title “SuSiE 2 CS identified”"
      ]
     },
     "metadata": {},
     "output_type": "display_data"
    }
   ],
   "source": [
    "susieR::susie_plot(s, y='PIP', b=b, max_cs=0.1, main = paste('SuSiE', length(fitted$sets$cs), 'CS identified'))"
   ]
  },
  {
   "cell_type": "markdown",
   "metadata": {
    "kernel": "R"
   },
   "source": [
    "It is not helping. Now try with 0.1,"
   ]
  },
  {
   "cell_type": "code",
   "execution_count": 31,
   "metadata": {
    "kernel": "R"
   },
   "outputs": [
    {
     "name": "stdout",
     "output_type": "stream",
     "text": [
      "List of 2\n",
      " $ L1: int [1:18] 754 758 760 761 764 765 769 773 774 775 ...\n",
      " $ L3: int [1:4] 198 217 227 229\n",
      "[1] \"PIP for the null (1st PIP) and causal (other PIPs)\"\n",
      "[1] 5.273559e-14 2.151633e-03 0.000000e+00 1.700868e-06 1.298258e-08\n"
     ]
    },
    {
     "data": {
      "text/html": [
       "<table>\n",
       "<thead><tr><th></th><th scope=col>min.abs.corr</th><th scope=col>mean.abs.corr</th><th scope=col>median.abs.corr</th></tr></thead>\n",
       "<tbody>\n",
       "\t<tr><th scope=row>L1</th><td>0.9979910</td><td>0.9994118</td><td>0.9995046</td></tr>\n",
       "\t<tr><th scope=row>L3</th><td>0.7748409</td><td>0.9108958</td><td>0.9811653</td></tr>\n",
       "</tbody>\n",
       "</table>\n"
      ],
      "text/latex": [
       "\\begin{tabular}{r|lll}\n",
       "  & min.abs.corr & mean.abs.corr & median.abs.corr\\\\\n",
       "\\hline\n",
       "\tL1 & 0.9979910 & 0.9994118 & 0.9995046\\\\\n",
       "\tL3 & 0.7748409 & 0.9108958 & 0.9811653\\\\\n",
       "\\end{tabular}\n"
      ],
      "text/markdown": [
       "\n",
       "| <!--/--> | min.abs.corr | mean.abs.corr | median.abs.corr | \n",
       "|---|---|\n",
       "| L1 | 0.9979910 | 0.9994118 | 0.9995046 | \n",
       "| L3 | 0.7748409 | 0.9108958 | 0.9811653 | \n",
       "\n",
       "\n"
      ],
      "text/plain": [
       "   min.abs.corr mean.abs.corr median.abs.corr\n",
       "L1 0.9979910    0.9994118     0.9995046      \n",
       "L3 0.7748409    0.9108958     0.9811653      "
      ]
     },
     "metadata": {},
     "output_type": "display_data"
    }
   ],
   "source": [
    "s = run_susie(null_weight=0.1)\n",
    "s$sets$purity"
   ]
  },
  {
   "cell_type": "markdown",
   "metadata": {
    "kernel": "R"
   },
   "source": [
    "The signal is now in the CS, but very small PIP."
   ]
  },
  {
   "cell_type": "markdown",
   "metadata": {
    "kernel": "R"
   },
   "source": [
    "Now try it with 0.12,"
   ]
  },
  {
   "cell_type": "code",
   "execution_count": 32,
   "metadata": {
    "kernel": "R"
   },
   "outputs": [
    {
     "name": "stdout",
     "output_type": "stream",
     "text": [
      "List of 2\n",
      " $ L1: int [1:20] 754 758 760 761 764 765 768 769 773 774 ...\n",
      " $ L2: int [1:23] 253 317 330 458 477 480 487 498 512 524 ...\n",
      "[1] \"PIP for the null (1st PIP) and causal (other PIPs)\"\n",
      "[1] 1.781649e-03 6.315924e-05 8.749880e-07 5.999980e-06 2.985338e-06\n"
     ]
    },
    {
     "data": {
      "text/html": [
       "<table>\n",
       "<thead><tr><th></th><th scope=col>min.abs.corr</th><th scope=col>mean.abs.corr</th><th scope=col>median.abs.corr</th></tr></thead>\n",
       "<tbody>\n",
       "\t<tr><th scope=row>L1</th><td>0.9949778</td><td>0.9989818</td><td>0.9990075</td></tr>\n",
       "\t<tr><th scope=row>L2</th><td>0.5690032</td><td>0.8849180</td><td>0.9015019</td></tr>\n",
       "</tbody>\n",
       "</table>\n"
      ],
      "text/latex": [
       "\\begin{tabular}{r|lll}\n",
       "  & min.abs.corr & mean.abs.corr & median.abs.corr\\\\\n",
       "\\hline\n",
       "\tL1 & 0.9949778 & 0.9989818 & 0.9990075\\\\\n",
       "\tL2 & 0.5690032 & 0.8849180 & 0.9015019\\\\\n",
       "\\end{tabular}\n"
      ],
      "text/markdown": [
       "\n",
       "| <!--/--> | min.abs.corr | mean.abs.corr | median.abs.corr | \n",
       "|---|---|\n",
       "| L1 | 0.9949778 | 0.9989818 | 0.9990075 | \n",
       "| L2 | 0.5690032 | 0.8849180 | 0.9015019 | \n",
       "\n",
       "\n"
      ],
      "text/plain": [
       "   min.abs.corr mean.abs.corr median.abs.corr\n",
       "L1 0.9949778    0.9989818     0.9990075      \n",
       "L2 0.5690032    0.8849180     0.9015019      "
      ]
     },
     "metadata": {},
     "output_type": "display_data"
    }
   ],
   "source": [
    "s = run_susie(null_weight=0.15)\n",
    "s$sets$purity"
   ]
  },
  {
   "cell_type": "code",
   "execution_count": 33,
   "metadata": {
    "kernel": "R"
   },
   "outputs": [
    {
     "data": {
      "image/png": "[encoded data removed]",
      "text/plain": [
       "Plot with title “SuSiE 2 CS identified”"
      ]
     },
     "metadata": {},
     "output_type": "display_data"
    }
   ],
   "source": [
    "susieR::susie_plot(s, y='PIP', b=b, max_cs=0.1, main = paste('SuSiE', length(fitted$sets$cs), 'CS identified'))"
   ]
  },
  {
   "cell_type": "markdown",
   "metadata": {
    "kernel": "R"
   },
   "source": [
    "## Another real data example"
   ]
  },
  {
   "cell_type": "code",
   "execution_count": 37,
   "metadata": {
    "kernel": "R"
   },
   "outputs": [],
   "source": [
    "dat = readRDS('lm_less/liter_data_12_summarize_ld_1_lm_less_3.rds')$data"
   ]
  },
  {
   "cell_type": "code",
   "execution_count": 38,
   "metadata": {
    "kernel": "R"
   },
   "outputs": [],
   "source": [
    "r=1\n",
    "fitted = susieR::susie(dat$X, dat$Y[,r], L=5,\n",
    "               estimate_residual_variance=TRUE, \n",
    "               scaled_prior_variance=0.1,\n",
    "               tol=1e-3, track_fit=TRUE)"
   ]
  },
  {
   "cell_type": "code",
   "execution_count": 39,
   "metadata": {
    "kernel": "R"
   },
   "outputs": [],
   "source": [
    "b = dat$true_coef[,r]\n",
    "b[which(b!=0)] = 1"
   ]
  },
  {
   "cell_type": "code",
   "execution_count": 40,
   "metadata": {
    "kernel": "R"
   },
   "outputs": [
    {
     "data": {
      "image/png": "[encoded data removed]",
      "text/plain": [
       "Plot with title “z-scores”"
      ]
     },
     "metadata": {},
     "output_type": "display_data"
    }
   ],
   "source": [
    "susieR::susie_plot(fitted, y='z', b=b, main = paste('z-scores'))"
   ]
  },
  {
   "cell_type": "markdown",
   "metadata": {
    "kernel": "R"
   },
   "source": [
    "It seems fine. But previous result,"
   ]
  },
  {
   "cell_type": "code",
   "execution_count": 44,
   "metadata": {
    "kernel": "R"
   },
   "outputs": [],
   "source": [
    "s = readRDS(\"fit_susie/liter_data_12_summarize_ld_1_lm_less_3_fit_susie_6.rds\")$fitted[[r]]"
   ]
  },
  {
   "cell_type": "code",
   "execution_count": 47,
   "metadata": {
    "kernel": "R"
   },
   "outputs": [],
   "source": [
    "sets = susieR::susie_get_CS(s, X=dat$X, coverage=0.95,min_abs_corr=0.1)\n",
    "pip = susieR::susie_get_PIP(s, sets$cs_index)\n",
    "s$sets= sets\n",
    "s$pip = pip"
   ]
  },
  {
   "cell_type": "code",
   "execution_count": 50,
   "metadata": {
    "kernel": "R"
   },
   "outputs": [
    {
     "data": {
      "image/png": "[encoded data removed]",
      "text/plain": [
       "Plot with title “SuSiE 0 CS identified”"
      ]
     },
     "metadata": {},
     "output_type": "display_data"
    }
   ],
   "source": [
    "susieR::susie_plot(s, y='PIP', b=b, main = paste('SuSiE', length(fitted$sets$cs), 'CS identified'))"
   ]
  },
  {
   "cell_type": "code",
   "execution_count": 53,
   "metadata": {
    "kernel": "R"
   },
   "outputs": [
    {
     "name": "stdout",
     "output_type": "stream",
     "text": [
      "[1] \"## r script UUID: 86257949\\nlibrary(susieR)\\nDSC_1BF7CD6A <- list()\\nDSC_1BF7CD6A <- dscrutils::load_inputs(c('susie_comparison/lm_less/liter_data_12_summarize_ld_1_lm_less_3.pkl'), dscrutils::read_dsc)\\nDSC_REPLICATE <- DSC_1BF7CD6A$DSC_DEBUG$replicate\\ndata <- DSC_1BF7CD6A$data\\nestimate_residual_variance <- TRUE\\nmaxI <- 200\\nmaxL <- 5\\nprior_var <- 0.1\\nTIC_1BF7CD6A <- proc.time()\\nset.seed(DSC_REPLICATE)\\n\\n## BEGIN DSC CORE\\nfitted <- list()\\nfor (r in 1:ncol(data$Y)) {\\n  if ('Z' %in% names(data)) {\\n      data$Y[,r] = residuals(lm(data$Y[,r]~Z, na.action=na.exclude))\\n  }\\n  if (prior_var == 'auto') {\\n      fitted[[r]] <- susieR::susie_auto(data$X,data$Y[,r],L_max=100,tol=1e-3)\\n  } else if (prior_var == 0) {\\n      fitted[[r]] <- susieR::susie(data$X,data$Y[,r],\\n                               L=maxL,\\n                               max_iter=maxI,\\n                               estimate_residual_variance=estimate_residual_variance,\\n                               estimate_prior_variance=TRUE,\\n                               tol=1e-3)\\n  } else {\\n      fitted[[r]] <- susieR::susie(data$X,data$Y[,r],\\n                               L=maxL,\\n                               max_iter=maxI,\\n                               estimate_residual_variance=estimate_residual_variance,\\n                               prior_variance=prior_var,\\n                               tol=1e-3)\\n  }\\n  fitted[[r]]$lfsr <- susieR::susie_get_lfsr(fitted[[r]])\\n  fitted[[r]]$n_in_CI <- susieR:::n_in_CS(fitted[[r]])\\n  fitted[[r]]$in_CI <- susieR:::in_CS(fitted[[r]])\\n}\\nposterior <- list(PosteriorMean=do.call(cbind, lapply(1:length(fitted), function(i) susieR:::coef.susie(fitted[[i]]))),\\n                  lfsr=do.call(cbind, lapply(1:length(fitted), function(i) fitted[[i]]$lfsr)),\\n                  alpha=lapply(1:length(fitted), function(i) fitted[[i]]$alpha),\\n                  in_CI=lapply(1:length(fitted), function(i) fitted[[i]]$in_CI),\\n                  n_in_CI=do.call(cbind, lapply(1:length(fitted), function(i) fitted[[i]]$n_in_CI)),\\n                  niter = sapply(1:length(fitted), function(i) fitted[[i]]$niter)\\n                  )\\n## END DSC CORE\\n\\nsaveRDS(list(posterior=posterior, fitted=fitted, DSC_DEBUG=dscrutils::save_session(TIC_1BF7CD6A, DSC_REPLICATE)), 'susie_comparison/fit_susie/liter_data_12_summarize_ld_1_lm_less_3_fit_susie_6.rds')\\n\\n\"\n"
     ]
    }
   ],
   "source": [
    "print(readRDS(\"fit_susie/liter_data_12_summarize_ld_1_lm_less_3_fit_susie_6.rds\")$DSC_DEBUG$script)"
   ]
  },
  {
   "cell_type": "code",
   "execution_count": null,
   "metadata": {
    "kernel": "R"
   },
   "outputs": [],
   "source": []
  }
 ],
 "metadata": {
  "kernelspec": {
   "display_name": "SoS",
   "language": "sos",
   "name": "sos"
  },
  "language_info": {
   "codemirror_mode": "sos",
   "file_extension": ".sos",
   "mimetype": "text/x-sos",
   "name": "sos",
   "nbconvert_exporter": "sos_notebook.converter.SoS_Exporter",
   "pygments_lexer": "sos"
  },
  "sos": {
   "kernels": [
    [
     "R",
     "ir",
     "R",
     "#DCDCDA"
    ]
   ],
   "version": "0.16.11"
  }
 },
 "nbformat": 4,
 "nbformat_minor": 2
}
