{
 "cells": [
  {
   "cell_type": "markdown",
   "metadata": {
    "kernel": "SoS"
   },
   "source": [
    "# No problem with EE model"
   ]
  },
  {
   "cell_type": "markdown",
   "metadata": {
    "kernel": "SoS"
   },
   "source": [
    "I discovered while working on the example of [\"two SNP dispute\"](https://github.com/gaow/mmbr/blob/master/inst/prototypes/two_snps_dispute.ipynb) that for Exchangable Effect (EE) model, that is, setting MASH `alpha=0`, \n",
    "there seems convergence issues with the algorithm, for the specific simulation below. **I cannot reproduce the problem with `alpha=1` or with the 2nd block having positive sign of effect size ...**\n",
    "\n",
    "*This notebook shows that the issue cannot be reproduced when the 2nd block has positive sign of effects*"
   ]
  },
  {
   "cell_type": "code",
   "execution_count": 1,
   "metadata": {
    "kernel": "SoS"
   },
   "outputs": [
    {
     "name": "stdout",
     "output_type": "stream",
     "text": [
      "/home/gaow/Documents/TempDir/13-May-2019"
     ]
    }
   ],
   "source": [
    "%cd /home/gaow/tmp/13-May-2019"
   ]
  },
  {
   "cell_type": "markdown",
   "metadata": {
    "kernel": "SoS"
   },
   "source": [
    "## Find negatively correlation SNPs"
   ]
  },
  {
   "cell_type": "code",
   "execution_count": 2,
   "metadata": {
    "kernel": "R"
   },
   "outputs": [],
   "source": [
    "genotype = readRDS('Multi_Tissues.ENSG00000145214.RDS')$X"
   ]
  },
  {
   "cell_type": "markdown",
   "metadata": {
    "kernel": "SoS"
   },
   "source": [
    "## Simulate multivariate phenotypes"
   ]
  },
  {
   "cell_type": "code",
   "execution_count": 3,
   "metadata": {
    "kernel": "R"
   },
   "outputs": [
    {
     "data": {
      "text/html": [
       "-0.8545869815011"
      ],
      "text/latex": [
       "-0.8545869815011"
      ],
      "text/markdown": [
       "-0.8545869815011"
      ],
      "text/plain": [
       "[1] -0.854587"
      ]
     },
     "metadata": {},
     "output_type": "display_data"
    }
   ],
   "source": [
    "P = ncol(genotype)\n",
    "R = 6\n",
    "eff_factor = 1.5\n",
    "snp1 = 184\n",
    "snp2 = 354\n",
    "cor(genotype[,snp1], genotype[,snp2])"
   ]
  },
  {
   "cell_type": "markdown",
   "metadata": {
    "kernel": "R"
   },
   "source": [
    "The two SNPs are negatively correlated."
   ]
  },
  {
   "cell_type": "code",
   "execution_count": 6,
   "metadata": {
    "kernel": "R"
   },
   "outputs": [
    {
     "name": "stdout",
     "output_type": "stream",
     "text": [
      "     [,1] [,2] [,3]\n",
      "[1,] 1.00 0.75 0.75\n",
      "[2,] 0.75 1.00 0.75\n",
      "[3,] 0.75 0.75 1.00\n"
     ]
    }
   ],
   "source": [
    "set.seed(1)\n",
    "b = matrix(0, P, R)\n",
    "sharing = matrix(0.75, (R/2), (R/2))\n",
    "diag(sharing) = 1\n",
    "print(sharing)"
   ]
  },
  {
   "cell_type": "markdown",
   "metadata": {
    "kernel": "R"
   },
   "source": [
    "Here above I have a matrix block. I'm going to create a blocky structure next such that the two halves of traits are drawn from this sharing pattern, but there is no sharing in between them."
   ]
  },
  {
   "cell_type": "code",
   "execution_count": 7,
   "metadata": {
    "kernel": "R"
   },
   "outputs": [
    {
     "name": "stdout",
     "output_type": "stream",
     "text": [
      "[1] 0.1951948 0.3530102 0.5955379\n",
      "[1] 1.136650 1.039006 0.736915\n"
     ]
    }
   ],
   "source": [
    "b[snp1, 1:(R/2)] = abs(MASS::mvrnorm(1, rep(0,(R/2)), sharing)) / eff_factor\n",
    "b[snp2, (R/2+1):R] = abs(MASS::mvrnorm(1, rep(0,(R/2)), sharing)) / eff_factor\n",
    "print(b[snp1, 1:(R/2)])\n",
    "print(b[snp2, (R/2+1):R])"
   ]
  },
  {
   "cell_type": "code",
   "execution_count": 8,
   "metadata": {
    "kernel": "R"
   },
   "outputs": [],
   "source": [
    "g = genotype %*% b"
   ]
  },
  {
   "cell_type": "code",
   "execution_count": 9,
   "metadata": {
    "kernel": "R"
   },
   "outputs": [],
   "source": [
    "e = MASS::mvrnorm(1, rep(0,R), diag(R) * 1)"
   ]
  },
  {
   "cell_type": "code",
   "execution_count": 10,
   "metadata": {
    "kernel": "R"
   },
   "outputs": [],
   "source": [
    "Y = g + e"
   ]
  },
  {
   "cell_type": "markdown",
   "metadata": {
    "kernel": "SoS"
   },
   "source": [
    "## Prepare MASH mixture prior"
   ]
  },
  {
   "cell_type": "code",
   "execution_count": 11,
   "metadata": {
    "kernel": "R"
   },
   "outputs": [],
   "source": [
    "U1 = matrix(0,R,R)\n",
    "U1[1:(R/2),1:(R/2)] = sharing\n",
    "U2 = matrix(0,R,R)\n",
    "U2[(R/2+1):R,(R/2+1):R] = sharing\n",
    "Ulist = list(U1=U1, U2=U2)\n",
    "scaling = c(0.5,1) / eff_factor\n",
    "mash_init = mmbr:::MashInitializer$new(Ulist, scaling, alpha = 0)"
   ]
  },
  {
   "cell_type": "markdown",
   "metadata": {
    "kernel": "R"
   },
   "source": [
    "Notice here I'm using the EE model by setting `alpha = 0`."
   ]
  },
  {
   "cell_type": "markdown",
   "metadata": {
    "kernel": "SoS"
   },
   "source": [
    "## Fit MV-SuSiE\n",
    "\n",
    "Using EE model it takes quite a while to converge,"
   ]
  },
  {
   "cell_type": "code",
   "execution_count": 12,
   "metadata": {
    "kernel": "R"
   },
   "outputs": [
    {
     "name": "stdout",
     "output_type": "stream",
     "text": [
      "Time difference of 2.75596 mins\n"
     ]
    }
   ],
   "source": [
    "start_time <- Sys.time()\n",
    "res = mmbr::susie(genotype,Y,\n",
    "                  L=10,V=mash_init,\n",
    "                  precompute_covariances=FALSE,\n",
    "                  compute_objective=FALSE)\n",
    "end_time <- Sys.time()\n",
    "print(end_time - start_time)"
   ]
  },
  {
   "cell_type": "markdown",
   "metadata": {
    "kernel": "R"
   },
   "source": [
    "Number of iterations,"
   ]
  },
  {
   "cell_type": "code",
   "execution_count": 13,
   "metadata": {
    "kernel": "R"
   },
   "outputs": [
    {
     "data": {
      "text/html": [
       "6"
      ],
      "text/latex": [
       "6"
      ],
      "text/markdown": [
       "6"
      ],
      "text/plain": [
       "[1] 6"
      ]
     },
     "metadata": {},
     "output_type": "display_data"
    }
   ],
   "source": [
    "res$niter"
   ]
  },
  {
   "cell_type": "code",
   "execution_count": 14,
   "metadata": {
    "kernel": "R"
   },
   "outputs": [],
   "source": [
    "snps = sub(\"_[A-Z]*_[A-Z]*_b38\", \"\", colnames(genotype))"
   ]
  },
  {
   "cell_type": "code",
   "execution_count": 15,
   "metadata": {
    "kernel": "R"
   },
   "outputs": [],
   "source": [
    "rownames(res$coef) = c('intercept', snps)"
   ]
  },
  {
   "cell_type": "markdown",
   "metadata": {
    "kernel": "SoS"
   },
   "source": [
    "## Visualize results"
   ]
  },
  {
   "cell_type": "code",
   "execution_count": 16,
   "metadata": {
    "kernel": "R"
   },
   "outputs": [
    {
     "data": {
      "text/html": [
       "<strong>png:</strong> 2"
      ],
      "text/latex": [
       "\\textbf{png:} 2"
      ],
      "text/markdown": [
       "**png:** 2"
      ],
      "text/plain": [
       "png \n",
       "  2 "
      ]
     },
     "metadata": {},
     "output_type": "display_data"
    }
   ],
   "source": [
    "pdf('susie_plot_toy.pdf', width=8, height=4)\n",
    "susieR::susie_plot(res,y='PIP', main = 'Cross-condition Posterior Inclusion Probability', xlab = 'SNP positions', add_legend = F)\n",
    "dev.off()"
   ]
  },
  {
   "cell_type": "code",
   "execution_count": 17,
   "metadata": {
    "kernel": "R"
   },
   "outputs": [
    {
     "name": "stdout",
     "output_type": "stream",
     "text": [
      "Suggested PDF canvas width: 1 height: 5.4 \n"
     ]
    }
   ],
   "source": [
    "p = mmbr::mmbr_plot(res)"
   ]
  },
  {
   "cell_type": "code",
   "execution_count": 18,
   "metadata": {
    "kernel": "R"
   },
   "outputs": [
    {
     "data": {
      "text/html": [
       "<strong>png:</strong> 2"
      ],
      "text/latex": [
       "\\textbf{png:} 2"
      ],
      "text/markdown": [
       "**png:** 2"
      ],
      "text/plain": [
       "png \n",
       "  2 "
      ]
     },
     "metadata": {},
     "output_type": "display_data"
    }
   ],
   "source": [
    "pdf('mmbr_plot_toy.pdf', width = 8, height = 4)\n",
    "print(p$plot)\n",
    "dev.off()"
   ]
  },
  {
   "cell_type": "code",
   "execution_count": 19,
   "metadata": {
    "kernel": "SoS"
   },
   "outputs": [
    {
     "data": {
      "text/html": [
       "<div class=\"sos_hint\">> susie_plot_toy.pdf (36.5 KiB):</div>"
      ],
      "text/plain": [
       "\n",
       "> susie_plot_toy.pdf (36.5 KiB):"
      ]
     },
     "metadata": {},
     "output_type": "display_data"
    },
    {
     "data": {
      "image/png": "[encoded data removed]"
     },
     "metadata": {},
     "output_type": "display_data"
    }
   ],
   "source": [
    "%preview susie_plot_toy.pdf -s png --dpi 150"
   ]
  },
  {
   "cell_type": "code",
   "execution_count": 20,
   "metadata": {
    "kernel": "SoS"
   },
   "outputs": [
    {
     "data": {
      "text/html": [
       "<div class=\"sos_hint\">> mmbr_plot_toy.pdf (5.0 KiB):</div>"
      ],
      "text/plain": [
       "\n",
       "> mmbr_plot_toy.pdf (5.0 KiB):"
      ]
     },
     "metadata": {},
     "output_type": "display_data"
    },
    {
     "data": {
      "image/png": "[encoded data removed]"
     },
     "metadata": {},
     "output_type": "display_data"
    }
   ],
   "source": [
    "%preview mmbr_plot_toy.pdf -s png --dpi 150"
   ]
  },
  {
   "cell_type": "code",
   "execution_count": 21,
   "metadata": {
    "kernel": "R"
   },
   "outputs": [
    {
     "data": {
      "text/html": [
       "'chr4_112523_C_T_b38'"
      ],
      "text/latex": [
       "'chr4\\_112523\\_C\\_T\\_b38'"
      ],
      "text/markdown": [
       "'chr4_112523_C_T_b38'"
      ],
      "text/plain": [
       "[1] \"chr4_112523_C_T_b38\""
      ]
     },
     "metadata": {},
     "output_type": "display_data"
    }
   ],
   "source": [
    "colnames(genotype)[snp1]"
   ]
  },
  {
   "cell_type": "code",
   "execution_count": 22,
   "metadata": {
    "kernel": "R"
   },
   "outputs": [
    {
     "data": {
      "text/html": [
       "'chr4_173807_A_G_b38'"
      ],
      "text/latex": [
       "'chr4\\_173807\\_A\\_G\\_b38'"
      ],
      "text/markdown": [
       "'chr4_173807_A_G_b38'"
      ],
      "text/plain": [
       "[1] \"chr4_173807_A_G_b38\""
      ]
     },
     "metadata": {},
     "output_type": "display_data"
    }
   ],
   "source": [
    "colnames(genotype)[snp2]"
   ]
  }
 ],
 "metadata": {
  "kernelspec": {
   "display_name": "SoS",
   "language": "sos",
   "name": "sos"
  },
  "language_info": {
   "codemirror_mode": "sos",
   "file_extension": ".sos",
   "mimetype": "text/x-sos",
   "name": "sos",
   "nbconvert_exporter": "sos_notebook.converter.SoS_Exporter",
   "pygments_lexer": "sos"
  },
  "sos": {
   "kernels": [
    [
     "R",
     "ir",
     "R",
     "#DCDCDA"
    ],
    [
     "SoS",
     "sos",
     "",
     ""
    ]
   ],
   "version": "0.19.8"
  }
 },
 "nbformat": 4,
 "nbformat_minor": 2
}
