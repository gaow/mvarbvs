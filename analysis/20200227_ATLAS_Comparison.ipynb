{
 "cells": [
  {
   "cell_type": "markdown",
   "metadata": {
    "kernel": "SoS"
   },
   "source": [
    "# Comparing M&M with atlas-qtl\n",
    "\n",
    "See [here](20200110_atlasqtl_demo.html) for some background information. Since `atlas-qtl` does not give credible sets we compare here the marginal PIP in terms of calibration and precision-recall curves."
   ]
  },
  {
   "cell_type": "markdown",
   "metadata": {
    "kernel": "SoS"
   },
   "source": [
    "## The benchmark\n",
    "\n",
    "The benchmark is executed locally because `mthess` can take very long time to complete.\n",
    "\n",
    "```\n",
    "./finemap.dsc --host dsc_mnm.yml -o mnm_20200124 --touch -e ignore\n",
    "```"
   ]
  },
  {
   "cell_type": "code",
   "execution_count": null,
   "metadata": {
    "kernel": "SoS"
   },
   "outputs": [],
   "source": [
    "[global]\n",
    "parameter: cwd = path('/home/gaow/GIT/mvarbvs/dsc/mnm_prototype')\n",
    "parameter: data_dir = 'mnm_20200124/'\n",
    "parameter: date = '0302'\n",
    "def fmtP(x):\n",
    "    return str(x).replace(\".\", \"p\")"
   ]
  },
  {
   "cell_type": "markdown",
   "metadata": {
    "kernel": "SoS"
   },
   "source": [
    "## PIP extraction\n",
    "\n",
    "I'll for now only extract file names and get the values as needed after."
   ]
  },
  {
   "cell_type": "code",
   "execution_count": null,
   "metadata": {
    "kernel": "SoS"
   },
   "outputs": [],
   "source": [
    "# Extract meta info\n",
    "[pip_1,roc_1]\n",
    "output: f'{cwd}/{data_dir}/PIP_comparison_{date}.pips_meta.rds'\n",
    "R: expand = '${ }', workdir = cwd\n",
    "    meta = dscrutils::dscquery('mnm_20200124', target = c(\"full_data.dataset\", \"simulate.n_traits\", \"simulate.n_signal\", \"simulate\", \"method\"), module.output.files=c(\"simulate\", \"method\"), group = c(\"method: mnm_high_het mnm_mixture01 atlasqtl\", \"methods:\"), ignore.missing.file=T)\n",
    "    print(dim(meta))\n",
    "    # remove bad files\n",
    "    bad_files = vector()\n",
    "    for (f in meta$method.output.file) {\n",
    "      if (!file.exists(paste0(\"${data_dir}/\", f,'.rds'))) bad_files = append(bad_files, f)\n",
    "    }\n",
    "    meta = meta[which(!(meta$method.output.file %in% bad_files)),]\n",
    "    print(dim(meta))\n",
    "    saveRDS(meta, ${_output:r})"
   ]
  },
  {
   "cell_type": "code",
   "execution_count": 3,
   "metadata": {
    "kernel": "SoS"
   },
   "outputs": [
    {
     "name": "stdout",
     "output_type": "stream",
     "text": [
      "/project2/mstephens/gaow/mvarbvs/dsc/mnm_prototype/mnm_20200124"
     ]
    }
   ],
   "source": [
    "%cd /home/gaow/GIT/mvarbvs/dsc/mnm_prototype/mnm_20200124"
   ]
  },
  {
   "cell_type": "code",
   "execution_count": 30,
   "metadata": {
    "kernel": "R"
   },
   "outputs": [],
   "source": [
    "dat = readRDS('PIP_comparison_0302.pips_meta.rds')"
   ]
  },
  {
   "cell_type": "code",
   "execution_count": 31,
   "metadata": {
    "kernel": "R"
   },
   "outputs": [
    {
     "data": {
      "text/html": [
       "<table>\n",
       "<thead><tr><th scope=col>DSC</th><th scope=col>full_data.dataset</th><th scope=col>simulate.n_traits</th><th scope=col>simulate.n_signal</th><th scope=col>simulate</th><th scope=col>method</th><th scope=col>full_data.output.file</th><th scope=col>simulate.output.file</th><th scope=col>method.output.file</th></tr></thead>\n",
       "<tbody>\n",
       "\t<tr><td>1                                                                        </td><td>~/Documents/GTExV8/Multi_Tissue_Toys/ENSG00000000003.14.Multi_Tissues.rds</td><td>5                                                                        </td><td>-1                                                                       </td><td>high_het                                                                 </td><td>mnm_high_het                                                             </td><td>full_data/full_data_1                                                    </td><td>high_het/full_data_1_high_het_1                                          </td><td>mnm_high_het/full_data_1_high_het_1_oracle_generator_1_mnm_high_het_1    </td></tr>\n",
       "\t<tr><td>1                                                                        </td><td>~/Documents/GTExV8/Multi_Tissue_Toys/ENSG00000000005.5.Multi_Tissues.rds </td><td>5                                                                        </td><td>-1                                                                       </td><td>high_het                                                                 </td><td>mnm_high_het                                                             </td><td>full_data/full_data_2                                                    </td><td>high_het/full_data_2_high_het_1                                          </td><td>mnm_high_het/full_data_2_high_het_1_oracle_generator_1_mnm_high_het_1    </td></tr>\n",
       "\t<tr><td>1                                                                        </td><td>~/Documents/GTExV8/Multi_Tissue_Toys/ENSG00000000419.12.Multi_Tissues.rds</td><td>5                                                                        </td><td>-1                                                                       </td><td>high_het                                                                 </td><td>mnm_high_het                                                             </td><td>full_data/full_data_3                                                    </td><td>high_het/full_data_3_high_het_1                                          </td><td>mnm_high_het/full_data_3_high_het_1_oracle_generator_1_mnm_high_het_1    </td></tr>\n",
       "\t<tr><td>1                                                                        </td><td>~/Documents/GTExV8/Multi_Tissue_Toys/ENSG00000000457.13.Multi_Tissues.rds</td><td>5                                                                        </td><td>-1                                                                       </td><td>high_het                                                                 </td><td>mnm_high_het                                                             </td><td>full_data/full_data_4                                                    </td><td>high_het/full_data_4_high_het_1                                          </td><td>mnm_high_het/full_data_4_high_het_1_oracle_generator_1_mnm_high_het_1    </td></tr>\n",
       "\t<tr><td>1                                                                        </td><td>~/Documents/GTExV8/Multi_Tissue_Toys/ENSG00000000460.16.Multi_Tissues.rds</td><td>5                                                                        </td><td>-1                                                                       </td><td>high_het                                                                 </td><td>mnm_high_het                                                             </td><td>full_data/full_data_5                                                    </td><td>high_het/full_data_5_high_het_1                                          </td><td>mnm_high_het/full_data_5_high_het_1_oracle_generator_1_mnm_high_het_1    </td></tr>\n",
       "\t<tr><td>1                                                                        </td><td>~/Documents/GTExV8/Multi_Tissue_Toys/ENSG00000000938.12.Multi_Tissues.rds</td><td>5                                                                        </td><td>-1                                                                       </td><td>high_het                                                                 </td><td>mnm_high_het                                                             </td><td>full_data/full_data_6                                                    </td><td>high_het/full_data_6_high_het_1                                          </td><td>mnm_high_het/full_data_6_high_het_1_oracle_generator_1_mnm_high_het_1    </td></tr>\n",
       "</tbody>\n",
       "</table>\n"
      ],
      "text/latex": [
       "\\begin{tabular}{r|lllllllll}\n",
       " DSC & full\\_data.dataset & simulate.n\\_traits & simulate.n\\_signal & simulate & method & full\\_data.output.file & simulate.output.file & method.output.file\\\\\n",
       "\\hline\n",
       "\t 1                                                                                                 & \\textasciitilde{}/Documents/GTExV8/Multi\\_Tissue\\_Toys/ENSG00000000003.14.Multi\\_Tissues.rds  & 5                                                                                                 & -1                                                                                                & high\\_het                                                                                        & mnm\\_high\\_het                                                                                  & full\\_data/full\\_data\\_1                                                                       & high\\_het/full\\_data\\_1\\_high\\_het\\_1                                                       & mnm\\_high\\_het/full\\_data\\_1\\_high\\_het\\_1\\_oracle\\_generator\\_1\\_mnm\\_high\\_het\\_1\\\\\n",
       "\t 1                                                                                                 & \\textasciitilde{}/Documents/GTExV8/Multi\\_Tissue\\_Toys/ENSG00000000005.5.Multi\\_Tissues.rds   & 5                                                                                                 & -1                                                                                                & high\\_het                                                                                        & mnm\\_high\\_het                                                                                  & full\\_data/full\\_data\\_2                                                                       & high\\_het/full\\_data\\_2\\_high\\_het\\_1                                                       & mnm\\_high\\_het/full\\_data\\_2\\_high\\_het\\_1\\_oracle\\_generator\\_1\\_mnm\\_high\\_het\\_1\\\\\n",
       "\t 1                                                                                                 & \\textasciitilde{}/Documents/GTExV8/Multi\\_Tissue\\_Toys/ENSG00000000419.12.Multi\\_Tissues.rds  & 5                                                                                                 & -1                                                                                                & high\\_het                                                                                        & mnm\\_high\\_het                                                                                  & full\\_data/full\\_data\\_3                                                                       & high\\_het/full\\_data\\_3\\_high\\_het\\_1                                                       & mnm\\_high\\_het/full\\_data\\_3\\_high\\_het\\_1\\_oracle\\_generator\\_1\\_mnm\\_high\\_het\\_1\\\\\n",
       "\t 1                                                                                                 & \\textasciitilde{}/Documents/GTExV8/Multi\\_Tissue\\_Toys/ENSG00000000457.13.Multi\\_Tissues.rds  & 5                                                                                                 & -1                                                                                                & high\\_het                                                                                        & mnm\\_high\\_het                                                                                  & full\\_data/full\\_data\\_4                                                                       & high\\_het/full\\_data\\_4\\_high\\_het\\_1                                                       & mnm\\_high\\_het/full\\_data\\_4\\_high\\_het\\_1\\_oracle\\_generator\\_1\\_mnm\\_high\\_het\\_1\\\\\n",
       "\t 1                                                                                                 & \\textasciitilde{}/Documents/GTExV8/Multi\\_Tissue\\_Toys/ENSG00000000460.16.Multi\\_Tissues.rds  & 5                                                                                                 & -1                                                                                                & high\\_het                                                                                        & mnm\\_high\\_het                                                                                  & full\\_data/full\\_data\\_5                                                                       & high\\_het/full\\_data\\_5\\_high\\_het\\_1                                                       & mnm\\_high\\_het/full\\_data\\_5\\_high\\_het\\_1\\_oracle\\_generator\\_1\\_mnm\\_high\\_het\\_1\\\\\n",
       "\t 1                                                                                                 & \\textasciitilde{}/Documents/GTExV8/Multi\\_Tissue\\_Toys/ENSG00000000938.12.Multi\\_Tissues.rds  & 5                                                                                                 & -1                                                                                                & high\\_het                                                                                        & mnm\\_high\\_het                                                                                  & full\\_data/full\\_data\\_6                                                                       & high\\_het/full\\_data\\_6\\_high\\_het\\_1                                                       & mnm\\_high\\_het/full\\_data\\_6\\_high\\_het\\_1\\_oracle\\_generator\\_1\\_mnm\\_high\\_het\\_1\\\\\n",
       "\\end{tabular}\n"
      ],
      "text/markdown": [
       "\n",
       "DSC | full_data.dataset | simulate.n_traits | simulate.n_signal | simulate | method | full_data.output.file | simulate.output.file | method.output.file | \n",
       "|---|---|---|---|---|---|\n",
       "| 1                                                                         | ~/Documents/GTExV8/Multi_Tissue_Toys/ENSG00000000003.14.Multi_Tissues.rds | 5                                                                         | -1                                                                        | high_het                                                                  | mnm_high_het                                                              | full_data/full_data_1                                                     | high_het/full_data_1_high_het_1                                           | mnm_high_het/full_data_1_high_het_1_oracle_generator_1_mnm_high_het_1     | \n",
       "| 1                                                                         | ~/Documents/GTExV8/Multi_Tissue_Toys/ENSG00000000005.5.Multi_Tissues.rds  | 5                                                                         | -1                                                                        | high_het                                                                  | mnm_high_het                                                              | full_data/full_data_2                                                     | high_het/full_data_2_high_het_1                                           | mnm_high_het/full_data_2_high_het_1_oracle_generator_1_mnm_high_het_1     | \n",
       "| 1                                                                         | ~/Documents/GTExV8/Multi_Tissue_Toys/ENSG00000000419.12.Multi_Tissues.rds | 5                                                                         | -1                                                                        | high_het                                                                  | mnm_high_het                                                              | full_data/full_data_3                                                     | high_het/full_data_3_high_het_1                                           | mnm_high_het/full_data_3_high_het_1_oracle_generator_1_mnm_high_het_1     | \n",
       "| 1                                                                         | ~/Documents/GTExV8/Multi_Tissue_Toys/ENSG00000000457.13.Multi_Tissues.rds | 5                                                                         | -1                                                                        | high_het                                                                  | mnm_high_het                                                              | full_data/full_data_4                                                     | high_het/full_data_4_high_het_1                                           | mnm_high_het/full_data_4_high_het_1_oracle_generator_1_mnm_high_het_1     | \n",
       "| 1                                                                         | ~/Documents/GTExV8/Multi_Tissue_Toys/ENSG00000000460.16.Multi_Tissues.rds | 5                                                                         | -1                                                                        | high_het                                                                  | mnm_high_het                                                              | full_data/full_data_5                                                     | high_het/full_data_5_high_het_1                                           | mnm_high_het/full_data_5_high_het_1_oracle_generator_1_mnm_high_het_1     | \n",
       "| 1                                                                         | ~/Documents/GTExV8/Multi_Tissue_Toys/ENSG00000000938.12.Multi_Tissues.rds | 5                                                                         | -1                                                                        | high_het                                                                  | mnm_high_het                                                              | full_data/full_data_6                                                     | high_het/full_data_6_high_het_1                                           | mnm_high_het/full_data_6_high_het_1_oracle_generator_1_mnm_high_het_1     | \n",
       "\n",
       "\n"
      ],
      "text/plain": [
       "  DSC full_data.dataset                                                        \n",
       "1 1   ~/Documents/GTExV8/Multi_Tissue_Toys/ENSG00000000003.14.Multi_Tissues.rds\n",
       "2 1   ~/Documents/GTExV8/Multi_Tissue_Toys/ENSG00000000005.5.Multi_Tissues.rds \n",
       "3 1   ~/Documents/GTExV8/Multi_Tissue_Toys/ENSG00000000419.12.Multi_Tissues.rds\n",
       "4 1   ~/Documents/GTExV8/Multi_Tissue_Toys/ENSG00000000457.13.Multi_Tissues.rds\n",
       "5 1   ~/Documents/GTExV8/Multi_Tissue_Toys/ENSG00000000460.16.Multi_Tissues.rds\n",
       "6 1   ~/Documents/GTExV8/Multi_Tissue_Toys/ENSG00000000938.12.Multi_Tissues.rds\n",
       "  simulate.n_traits simulate.n_signal simulate method      \n",
       "1 5                 -1                high_het mnm_high_het\n",
       "2 5                 -1                high_het mnm_high_het\n",
       "3 5                 -1                high_het mnm_high_het\n",
       "4 5                 -1                high_het mnm_high_het\n",
       "5 5                 -1                high_het mnm_high_het\n",
       "6 5                 -1                high_het mnm_high_het\n",
       "  full_data.output.file simulate.output.file           \n",
       "1 full_data/full_data_1 high_het/full_data_1_high_het_1\n",
       "2 full_data/full_data_2 high_het/full_data_2_high_het_1\n",
       "3 full_data/full_data_3 high_het/full_data_3_high_het_1\n",
       "4 full_data/full_data_4 high_het/full_data_4_high_het_1\n",
       "5 full_data/full_data_5 high_het/full_data_5_high_het_1\n",
       "6 full_data/full_data_6 high_het/full_data_6_high_het_1\n",
       "  method.output.file                                                   \n",
       "1 mnm_high_het/full_data_1_high_het_1_oracle_generator_1_mnm_high_het_1\n",
       "2 mnm_high_het/full_data_2_high_het_1_oracle_generator_1_mnm_high_het_1\n",
       "3 mnm_high_het/full_data_3_high_het_1_oracle_generator_1_mnm_high_het_1\n",
       "4 mnm_high_het/full_data_4_high_het_1_oracle_generator_1_mnm_high_het_1\n",
       "5 mnm_high_het/full_data_5_high_het_1_oracle_generator_1_mnm_high_het_1\n",
       "6 mnm_high_het/full_data_6_high_het_1_oracle_generator_1_mnm_high_het_1"
      ]
     },
     "metadata": {},
     "output_type": "display_data"
    }
   ],
   "source": [
    "head(dat)"
   ]
  },
  {
   "cell_type": "code",
   "execution_count": 9,
   "metadata": {
    "kernel": "R"
   },
   "outputs": [
    {
     "data": {
      "text/html": [
       "<ol class=list-inline>\n",
       "\t<li>5</li>\n",
       "\t<li>10</li>\n",
       "\t<li>50</li>\n",
       "</ol>\n"
      ],
      "text/latex": [
       "\\begin{enumerate*}\n",
       "\\item 5\n",
       "\\item 10\n",
       "\\item 50\n",
       "\\end{enumerate*}\n"
      ],
      "text/markdown": [
       "1. 5\n",
       "2. 10\n",
       "3. 50\n",
       "\n",
       "\n"
      ],
      "text/plain": [
       "[1]  5 10 50"
      ]
     },
     "metadata": {},
     "output_type": "display_data"
    }
   ],
   "source": [
    "unique(dat$simulate.n_traits)"
   ]
  },
  {
   "cell_type": "code",
   "execution_count": null,
   "metadata": {
    "kernel": "SoS"
   },
   "outputs": [],
   "source": [
    "# Extract PIP\n",
    "[pip_2,roc_2]\n",
    "parameter: mnm_method = 'mnm_high_het+mnm_low_het'\n",
    "parameter: simulate_method = 'high_het'\n",
    "parameter: n_traits = 50\n",
    "parameter: sub_set = 1200\n",
    "output: f'{cwd}/{data_dir}/PIP_comparison_{date}.pips.{simulate_method}_{mnm_method}_{n_traits}_{sub_set}.rds'\n",
    "R: expand = '${ }', workdir = f'{cwd}/{data_dir}'\n",
    "\n",
    "    meta = readRDS(${_input:r})\n",
    "    # apply some filters\n",
    "    meta = meta[which(meta$method %in% c(${','.join([repr(x) for x in mnm_method.split('+')])}, 'atlasqtl') & meta$simulate == '${simulate_method}' & meta$simulate.n_traits == ${n_traits}),]\n",
    "    if (${sub_set}<nrow(meta) && ${sub_set}>0) {\n",
    "      set.seed(999)\n",
    "      meta = meta[sample(1:nrow(meta))[1:${sub_set}],]\n",
    "    }\n",
    "    print(dim(meta))\n",
    "    # now collect matrices for each method, of two columns: pip and true_coef\n",
    "    res = list()\n",
    "    for (i in 1:nrow(meta)) {\n",
    "      true_coef = as.integer(dscrutils:::read_dsc(paste0(meta[i,]$simulate.output.file, '.pkl'))$meta$true_coef != 0)\n",
    "      # make it a vector\n",
    "      true_coef = c(true_coef)\n",
    "      method = meta[i,]$method\n",
    "      if (method == \"atlasqtl\") {\n",
    "          pip = dscrutils:::read_dsc(paste0(meta[i,]$method.output.file, '.rds'))$result$gam_vb_completed\n",
    "      } else {\n",
    "          tmp = dscrutils:::read_dsc(paste0(meta[i,]$method.output.file, '.rds'))$result\n",
    "          # approximate PIP using condition specific 1 - lfsr\n",
    "          pip = 1 - mmbr::mmbr_get_lfsr(tmp)\n",
    "      }\n",
    "      # PIP is matrix of P (SNPs) by R (conditions); now make it a vector\n",
    "      pip = c(pip)\n",
    "      if (!(method %in% names(res))) {\n",
    "        res[[method]] = list(pip = pip, truth = true_coef)\n",
    "      } else {\n",
    "        res[[method]]$pip = append(res[[method]]$pip, pip)\n",
    "        res[[method]]$truth = append(res[[method]]$truth, true_coef)\n",
    "      }\n",
    "      if (i%%100==0) print(i)\n",
    "    }\n",
    "    for (method in unique(meta$method)) {\n",
    "      res[[method]] = do.call(cbind, res[[method]])\n",
    "    }\n",
    "    saveRDS(res, ${_output:r})"
   ]
  },
  {
   "cell_type": "code",
   "execution_count": 12,
   "metadata": {
    "kernel": "R"
   },
   "outputs": [
    {
     "data": {
      "text/html": [
       "<ol class=list-inline>\n",
       "\t<li>'mnm_high_het'</li>\n",
       "\t<li>'atlasqtl'</li>\n",
       "</ol>\n"
      ],
      "text/latex": [
       "\\begin{enumerate*}\n",
       "\\item 'mnm\\_high\\_het'\n",
       "\\item 'atlasqtl'\n",
       "\\end{enumerate*}\n"
      ],
      "text/markdown": [
       "1. 'mnm_high_het'\n",
       "2. 'atlasqtl'\n",
       "\n",
       "\n"
      ],
      "text/plain": [
       "[1] \"mnm_high_het\" \"atlasqtl\"    "
      ]
     },
     "metadata": {},
     "output_type": "display_data"
    }
   ],
   "source": [
    "dat = readRDS(\"PIP_comparison_0302.pips.high_het_mnm_high_het+mnm_low_het_50_500.rds\")\n",
    "names(dat)"
   ]
  },
  {
   "cell_type": "markdown",
   "metadata": {
    "kernel": "R"
   },
   "source": [
    "Now let's peep into the result:"
   ]
  },
  {
   "cell_type": "code",
   "execution_count": 14,
   "metadata": {
    "kernel": "R"
   },
   "outputs": [
    {
     "data": {
      "text/html": [
       "<table>\n",
       "<thead><tr><th scope=col>pip</th><th scope=col>truth</th></tr></thead>\n",
       "<tbody>\n",
       "\t<tr><td>4.097906e-05</td><td>0           </td></tr>\n",
       "\t<tr><td>2.606266e-05</td><td>0           </td></tr>\n",
       "\t<tr><td>3.117386e-05</td><td>0           </td></tr>\n",
       "\t<tr><td>3.306454e-05</td><td>0           </td></tr>\n",
       "\t<tr><td>4.816789e-05</td><td>0           </td></tr>\n",
       "\t<tr><td>3.272972e-05</td><td>0           </td></tr>\n",
       "</tbody>\n",
       "</table>\n"
      ],
      "text/latex": [
       "\\begin{tabular}{ll}\n",
       " pip & truth\\\\\n",
       "\\hline\n",
       "\t 4.097906e-05 & 0           \\\\\n",
       "\t 2.606266e-05 & 0           \\\\\n",
       "\t 3.117386e-05 & 0           \\\\\n",
       "\t 3.306454e-05 & 0           \\\\\n",
       "\t 4.816789e-05 & 0           \\\\\n",
       "\t 3.272972e-05 & 0           \\\\\n",
       "\\end{tabular}\n"
      ],
      "text/markdown": [
       "\n",
       "pip | truth | \n",
       "|---|---|---|---|---|---|\n",
       "| 4.097906e-05 | 0            | \n",
       "| 2.606266e-05 | 0            | \n",
       "| 3.117386e-05 | 0            | \n",
       "| 3.306454e-05 | 0            | \n",
       "| 4.816789e-05 | 0            | \n",
       "| 3.272972e-05 | 0            | \n",
       "\n",
       "\n"
      ],
      "text/plain": [
       "     pip          truth\n",
       "[1,] 4.097906e-05 0    \n",
       "[2,] 2.606266e-05 0    \n",
       "[3,] 3.117386e-05 0    \n",
       "[4,] 3.306454e-05 0    \n",
       "[5,] 4.816789e-05 0    \n",
       "[6,] 3.272972e-05 0    "
      ]
     },
     "metadata": {},
     "output_type": "display_data"
    }
   ],
   "source": [
    "head(dat$atlasqtl)"
   ]
  },
  {
   "cell_type": "code",
   "execution_count": 21,
   "metadata": {
    "kernel": "R"
   },
   "outputs": [
    {
     "data": {
      "text/html": [
       "<table>\n",
       "<thead><tr><th scope=col>pip</th><th scope=col>truth</th></tr></thead>\n",
       "<tbody>\n",
       "\t<tr><td>3.209868e-05</td><td>1           </td></tr>\n",
       "\t<tr><td>2.472211e-05</td><td>1           </td></tr>\n",
       "\t<tr><td>4.558600e-07</td><td>1           </td></tr>\n",
       "\t<tr><td>2.115187e-05</td><td>1           </td></tr>\n",
       "\t<tr><td>4.447844e-06</td><td>1           </td></tr>\n",
       "\t<tr><td>3.126282e-05</td><td>1           </td></tr>\n",
       "</tbody>\n",
       "</table>\n"
      ],
      "text/latex": [
       "\\begin{tabular}{ll}\n",
       " pip & truth\\\\\n",
       "\\hline\n",
       "\t 3.209868e-05 & 1           \\\\\n",
       "\t 2.472211e-05 & 1           \\\\\n",
       "\t 4.558600e-07 & 1           \\\\\n",
       "\t 2.115187e-05 & 1           \\\\\n",
       "\t 4.447844e-06 & 1           \\\\\n",
       "\t 3.126282e-05 & 1           \\\\\n",
       "\\end{tabular}\n"
      ],
      "text/markdown": [
       "\n",
       "pip | truth | \n",
       "|---|---|---|---|---|---|\n",
       "| 3.209868e-05 | 1            | \n",
       "| 2.472211e-05 | 1            | \n",
       "| 4.558600e-07 | 1            | \n",
       "| 2.115187e-05 | 1            | \n",
       "| 4.447844e-06 | 1            | \n",
       "| 3.126282e-05 | 1            | \n",
       "\n",
       "\n"
      ],
      "text/plain": [
       "     pip          truth\n",
       "[1,] 3.209868e-05 1    \n",
       "[2,] 2.472211e-05 1    \n",
       "[3,] 4.558600e-07 1    \n",
       "[4,] 2.115187e-05 1    \n",
       "[5,] 4.447844e-06 1    \n",
       "[6,] 3.126282e-05 1    "
      ]
     },
     "metadata": {},
     "output_type": "display_data"
    }
   ],
   "source": [
    "head(dat$atlasqtl[which(dat$atlasqtl[,2]==1),])"
   ]
  },
  {
   "cell_type": "code",
   "execution_count": 24,
   "metadata": {
    "kernel": "R"
   },
   "outputs": [
    {
     "data": {
      "text/html": [
       "<dl class=dl-horizontal>\n",
       "\t<dt>pip</dt>\n",
       "\t\t<dd>4.51497298369468</dd>\n",
       "\t<dt>truth</dt>\n",
       "\t\t<dd>4950</dd>\n",
       "</dl>\n"
      ],
      "text/latex": [
       "\\begin{description*}\n",
       "\\item[pip] 4.51497298369468\n",
       "\\item[truth] 4950\n",
       "\\end{description*}\n"
      ],
      "text/markdown": [
       "pip\n",
       ":   4.51497298369468truth\n",
       ":   4950\n",
       "\n"
      ],
      "text/plain": [
       "        pip       truth \n",
       "   4.514973 4950.000000 "
      ]
     },
     "metadata": {},
     "output_type": "display_data"
    }
   ],
   "source": [
    "colSums(dat$atlasqtl[which(dat$atlasqtl[,2]==1),])"
   ]
  },
  {
   "cell_type": "markdown",
   "metadata": {
    "kernel": "R"
   },
   "source": [
    "It seems atlasqtl somehow missed almost all signals? Let's see how M&M works"
   ]
  },
  {
   "cell_type": "code",
   "execution_count": 16,
   "metadata": {
    "kernel": "R"
   },
   "outputs": [
    {
     "data": {
      "text/html": [
       "<table>\n",
       "<thead><tr><th scope=col>pip</th><th scope=col>truth</th></tr></thead>\n",
       "<tbody>\n",
       "\t<tr><td>0</td><td>0</td></tr>\n",
       "\t<tr><td>0</td><td>0</td></tr>\n",
       "\t<tr><td>0</td><td>0</td></tr>\n",
       "\t<tr><td>0</td><td>0</td></tr>\n",
       "\t<tr><td>0</td><td>0</td></tr>\n",
       "\t<tr><td>0</td><td>0</td></tr>\n",
       "</tbody>\n",
       "</table>\n"
      ],
      "text/latex": [
       "\\begin{tabular}{ll}\n",
       " pip & truth\\\\\n",
       "\\hline\n",
       "\t 0 & 0\\\\\n",
       "\t 0 & 0\\\\\n",
       "\t 0 & 0\\\\\n",
       "\t 0 & 0\\\\\n",
       "\t 0 & 0\\\\\n",
       "\t 0 & 0\\\\\n",
       "\\end{tabular}\n"
      ],
      "text/markdown": [
       "\n",
       "pip | truth | \n",
       "|---|---|---|---|---|---|\n",
       "| 0 | 0 | \n",
       "| 0 | 0 | \n",
       "| 0 | 0 | \n",
       "| 0 | 0 | \n",
       "| 0 | 0 | \n",
       "| 0 | 0 | \n",
       "\n",
       "\n"
      ],
      "text/plain": [
       "     pip truth\n",
       "[1,] 0   0    \n",
       "[2,] 0   0    \n",
       "[3,] 0   0    \n",
       "[4,] 0   0    \n",
       "[5,] 0   0    \n",
       "[6,] 0   0    "
      ]
     },
     "metadata": {},
     "output_type": "display_data"
    }
   ],
   "source": [
    "head(dat$mnm_high_het)"
   ]
  },
  {
   "cell_type": "code",
   "execution_count": 25,
   "metadata": {
    "kernel": "R"
   },
   "outputs": [
    {
     "data": {
      "text/html": [
       "<table>\n",
       "<thead><tr><th scope=col>pip</th><th scope=col>truth</th></tr></thead>\n",
       "<tbody>\n",
       "\t<tr><td>0.9105833</td><td>1        </td></tr>\n",
       "\t<tr><td>0.9105833</td><td>1        </td></tr>\n",
       "\t<tr><td>0.9105833</td><td>1        </td></tr>\n",
       "\t<tr><td>0.9105833</td><td>1        </td></tr>\n",
       "\t<tr><td>0.9105833</td><td>1        </td></tr>\n",
       "\t<tr><td>0.9105833</td><td>1        </td></tr>\n",
       "</tbody>\n",
       "</table>\n"
      ],
      "text/latex": [
       "\\begin{tabular}{ll}\n",
       " pip & truth\\\\\n",
       "\\hline\n",
       "\t 0.9105833 & 1        \\\\\n",
       "\t 0.9105833 & 1        \\\\\n",
       "\t 0.9105833 & 1        \\\\\n",
       "\t 0.9105833 & 1        \\\\\n",
       "\t 0.9105833 & 1        \\\\\n",
       "\t 0.9105833 & 1        \\\\\n",
       "\\end{tabular}\n"
      ],
      "text/markdown": [
       "\n",
       "pip | truth | \n",
       "|---|---|---|---|---|---|\n",
       "| 0.9105833 | 1         | \n",
       "| 0.9105833 | 1         | \n",
       "| 0.9105833 | 1         | \n",
       "| 0.9105833 | 1         | \n",
       "| 0.9105833 | 1         | \n",
       "| 0.9105833 | 1         | \n",
       "\n",
       "\n"
      ],
      "text/plain": [
       "     pip       truth\n",
       "[1,] 0.9105833 1    \n",
       "[2,] 0.9105833 1    \n",
       "[3,] 0.9105833 1    \n",
       "[4,] 0.9105833 1    \n",
       "[5,] 0.9105833 1    \n",
       "[6,] 0.9105833 1    "
      ]
     },
     "metadata": {},
     "output_type": "display_data"
    }
   ],
   "source": [
    "head(dat$mnm_high_het[which(dat$mnm_high_het[,2]==1),])"
   ]
  },
  {
   "cell_type": "code",
   "execution_count": 26,
   "metadata": {
    "kernel": "R"
   },
   "outputs": [
    {
     "data": {
      "text/html": [
       "<dl class=dl-horizontal>\n",
       "\t<dt>pip</dt>\n",
       "\t\t<dd>18997.4584939351</dd>\n",
       "\t<dt>truth</dt>\n",
       "\t\t<dd>37150</dd>\n",
       "</dl>\n"
      ],
      "text/latex": [
       "\\begin{description*}\n",
       "\\item[pip] 18997.4584939351\n",
       "\\item[truth] 37150\n",
       "\\end{description*}\n"
      ],
      "text/markdown": [
       "pip\n",
       ":   18997.4584939351truth\n",
       ":   37150\n",
       "\n"
      ],
      "text/plain": [
       "     pip    truth \n",
       "18997.46 37150.00 "
      ]
     },
     "metadata": {},
     "output_type": "display_data"
    }
   ],
   "source": [
    "colSums(dat$mnm_high_het[which(dat$mnm_high_het[,2]==1),])"
   ]
  },
  {
   "cell_type": "markdown",
   "metadata": {
    "kernel": "R"
   },
   "source": [
    "This seems reasonable."
   ]
  },
  {
   "cell_type": "markdown",
   "metadata": {
    "kernel": "R"
   },
   "source": [
    "## Looking into issues with atlasqtl\n",
    "\n",
    "Take one run for example:"
   ]
  },
  {
   "cell_type": "code",
   "execution_count": 2,
   "metadata": {
    "kernel": "R"
   },
   "outputs": [
    {
     "data": {
      "text/html": [
       "<ol class=list-inline>\n",
       "\t<li>'beta_vb'</li>\n",
       "\t<li>'gam_vb'</li>\n",
       "\t<li>'theta_vb'</li>\n",
       "\t<li>'X_beta_vb'</li>\n",
       "\t<li>'zeta_vb'</li>\n",
       "\t<li>'converged'</li>\n",
       "\t<li>'it'</li>\n",
       "\t<li>'lb_opt'</li>\n",
       "\t<li>'diff_lb'</li>\n",
       "\t<li>'p0'</li>\n",
       "\t<li>'rmvd_coll_x'</li>\n",
       "\t<li>'pip'</li>\n",
       "</ol>\n"
      ],
      "text/latex": [
       "\\begin{enumerate*}\n",
       "\\item 'beta\\_vb'\n",
       "\\item 'gam\\_vb'\n",
       "\\item 'theta\\_vb'\n",
       "\\item 'X\\_beta\\_vb'\n",
       "\\item 'zeta\\_vb'\n",
       "\\item 'converged'\n",
       "\\item 'it'\n",
       "\\item 'lb\\_opt'\n",
       "\\item 'diff\\_lb'\n",
       "\\item 'p0'\n",
       "\\item 'rmvd\\_coll\\_x'\n",
       "\\item 'pip'\n",
       "\\end{enumerate*}\n"
      ],
      "text/markdown": [
       "1. 'beta_vb'\n",
       "2. 'gam_vb'\n",
       "3. 'theta_vb'\n",
       "4. 'X_beta_vb'\n",
       "5. 'zeta_vb'\n",
       "6. 'converged'\n",
       "7. 'it'\n",
       "8. 'lb_opt'\n",
       "9. 'diff_lb'\n",
       "10. 'p0'\n",
       "11. 'rmvd_coll_x'\n",
       "12. 'pip'\n",
       "\n",
       "\n"
      ],
      "text/plain": [
       " [1] \"beta_vb\"     \"gam_vb\"      \"theta_vb\"    \"X_beta_vb\"   \"zeta_vb\"    \n",
       " [6] \"converged\"   \"it\"          \"lb_opt\"      \"diff_lb\"     \"p0\"         \n",
       "[11] \"rmvd_coll_x\" \"pip\"        "
      ]
     },
     "metadata": {},
     "output_type": "display_data"
    }
   ],
   "source": [
    "dat = readRDS('atlasqtl/full_data_100_high_het_1_atlasqtl_1.rds')\n",
    "names(dat$result)"
   ]
  },
  {
   "cell_type": "code",
   "execution_count": 33,
   "metadata": {
    "kernel": "R"
   },
   "outputs": [
    {
     "data": {
      "text/html": [
       "<ol class=list-inline>\n",
       "\t<li>1479</li>\n",
       "\t<li>5</li>\n",
       "</ol>\n"
      ],
      "text/latex": [
       "\\begin{enumerate*}\n",
       "\\item 1479\n",
       "\\item 5\n",
       "\\end{enumerate*}\n"
      ],
      "text/markdown": [
       "1. 1479\n",
       "2. 5\n",
       "\n",
       "\n"
      ],
      "text/plain": [
       "[1] 1479    5"
      ]
     },
     "metadata": {},
     "output_type": "display_data"
    }
   ],
   "source": [
    "dim(dat$result$gam_vb)"
   ]
  },
  {
   "cell_type": "markdown",
   "metadata": {
    "kernel": "R"
   },
   "source": [
    "Now check the corresponding input file:"
   ]
  },
  {
   "cell_type": "code",
   "execution_count": 3,
   "metadata": {
    "kernel": "R"
   },
   "outputs": [
    {
     "data": {
      "text/html": [
       "<ol class=list-inline>\n",
       "\t<li>838</li>\n",
       "\t<li>2446</li>\n",
       "</ol>\n"
      ],
      "text/latex": [
       "\\begin{enumerate*}\n",
       "\\item 838\n",
       "\\item 2446\n",
       "\\end{enumerate*}\n"
      ],
      "text/markdown": [
       "1. 838\n",
       "2. 2446\n",
       "\n",
       "\n"
      ],
      "text/plain": [
       "[1]  838 2446"
      ]
     },
     "metadata": {},
     "output_type": "display_data"
    }
   ],
   "source": [
    "idat = readRDS('full_data/full_data_100.rds')\n",
    "dim(idat$X)"
   ]
  },
  {
   "cell_type": "markdown",
   "metadata": {
    "kernel": "R"
   },
   "source": [
    "There are 2466 variables in input, but only 1479 in output of `atlasqtl`! Let's run the code and see what happens:"
   ]
  },
  {
   "cell_type": "code",
   "execution_count": 34,
   "metadata": {
    "kernel": "R"
   },
   "outputs": [
    {
     "name": "stdout",
     "output_type": "stream",
     "text": [
      "## r script UUID: 97106506\n",
      "library(atlasqtl)\n",
      "DSC_22B90227 <- list()\n",
      "DSC_22B90227 <- dscrutils:::load_inputs(c('mnm_20200124/full_data/full_data_100.rds','mnm_20200124/high_het/full_data_100_high_het_1.pkl'), dscrutils:::read_dsc)\n",
      "DSC_REPLICATE <- DSC_22B90227$DSC_DEBUG$replicate\n",
      "X <- DSC_22B90227$X\n",
      "Y <- DSC_22B90227$Y\n",
      "meta <- DSC_22B90227$meta\n",
      "TIC_22B90227 <- proc.time()\n",
      "set.seed(DSC_REPLICATE)\n",
      "\n",
      "## BEGIN DSC CORE\n",
      "library(atlasqtl)\n",
      "pat = meta$true_coef != 0\n",
      "p0 = c(mean(colSums(pat)), 10)\n",
      "result = atlasqtl::atlasqtl(Y = Y, X = X, p0 = p0, user_seed = DSC_REPLICATE)\n",
      "result$pip = as.vector(1 - apply(1 - result$gam_vb, 1, prod))\n",
      "## END DSC CORE\n",
      "\n",
      "saveRDS(list(result=result, DSC_DEBUG=dscrutils:::save_session(TIC_22B90227, DSC_REPLICATE)), 'mnm_20200124/atlasqtl/full_data_100_high_het_1_atlasqtl_1.rds')\n",
      "\n",
      "\n"
     ]
    }
   ],
   "source": [
    "cat(dat$DSC_DEBUG$script)"
   ]
  },
  {
   "cell_type": "code",
   "execution_count": 4,
   "metadata": {
    "kernel": "R"
   },
   "outputs": [
    {
     "name": "stdout",
     "output_type": "stream",
     "text": [
      "\n",
      "======================= \n",
      "== PREPROCESSING ... == \n",
      "======================= \n",
      "\n",
      "== Checking the annealing schedule ... \n",
      "\n",
      "... done. == \n",
      "\n",
      "== Preparing the data ... \n",
      "\n",
      "Presence of collinear variables. 967 redundant.\n",
      "Removing corresponding columns and saving their ids in the function output ... \n",
      "... done. == \n",
      "\n",
      "== Preparing the hyperparameters ... \n",
      "\n",
      "list_hyper set automatically. \n",
      "... done. == \n",
      "\n",
      "== Preparing the parameter initialization ... \n",
      "\n",
      "Seed set to user_seed 1. \n",
      "list_init set automatically. \n",
      "... done. == \n",
      "\n",
      "**************************************************** \n",
      "Number of samples: 838\n",
      "Number of (non-redundant) candidate predictors: 1479\n",
      "Number of responses: 5\n",
      "**************************************************** \n",
      "\n",
      "======================================================= \n",
      "== ATLASQTL: fast global-local hotspot QTL detection == \n",
      "======================================================= \n",
      "\n",
      "** Annealing with geometric spacing ** \n",
      "\n",
      "Iteration 1... \n",
      "Temperature = 2\n",
      "\n",
      "Iteration 5... \n",
      "Temperature = 1.47\n",
      "\n",
      "** Exiting annealing mode. **\n",
      "\n",
      "Iteration 10... \n",
      "ELBO = -2230.541\n",
      "\n",
      "Iteration 50... \n",
      "ELBO = -1999.938\n",
      "\n",
      "Convergence obtained after 51 iterations. \n",
      "Optimal marginal log-likelihood variational lower bound (ELBO) = -1999.867. \n",
      "\n",
      "... done. == \n",
      "\n"
     ]
    }
   ],
   "source": [
    "library(atlasqtl)\n",
    "DSC_22B90227 <- list()\n",
    "DSC_22B90227 <- dscrutils:::load_inputs(c('full_data/full_data_100.rds','high_het/full_data_100_high_het_1.pkl'), dscrutils:::read_dsc)\n",
    "DSC_REPLICATE <- DSC_22B90227$DSC_DEBUG$replicate\n",
    "X <- DSC_22B90227$X\n",
    "Y <- DSC_22B90227$Y\n",
    "meta <- DSC_22B90227$meta\n",
    "TIC_22B90227 <- proc.time()\n",
    "set.seed(DSC_REPLICATE)\n",
    "\n",
    "## BEGIN DSC CORE\n",
    "library(atlasqtl)\n",
    "pat = meta$true_coef != 0\n",
    "p0 = c(mean(colSums(pat)), 10)\n",
    "result = atlasqtl::atlasqtl(Y = Y, X = X, p0 = p0, user_seed = DSC_REPLICATE)"
   ]
  },
  {
   "cell_type": "markdown",
   "metadata": {
    "kernel": "R"
   },
   "source": [
    "And here is the problem:\n",
    "\n",
    "```\n",
    "== Preparing the data ... \n",
    "\n",
    "Presence of collinear variables. 967 redundant.\n",
    "Removing corresponding columns and saving their ids in the function output ... \n",
    "... done. == \n",
    "```\n",
    "\n",
    "967 redundant variables removed plus 1479 remaining is 2446 variables.\n",
    "\n",
    "**For results to be comparable we'll have to either preprocess input removing these collinear variables before we run M&M, or somehow (perhaps impossible?) post process the PIPs from atlasqtl to recover the actual expected PIP**. Or, we contact the authors to clarify it ..."
   ]
  },
  {
   "cell_type": "markdown",
   "metadata": {
    "kernel": "R"
   },
   "source": [
    "Documentation for `atlasqtl`:"
   ]
  },
  {
   "cell_type": "code",
   "execution_count": null,
   "metadata": {
    "kernel": "R"
   },
   "outputs": [],
   "source": [
    "?atlasqtl::atlasqtl"
   ]
  },
  {
   "cell_type": "markdown",
   "metadata": {
    "kernel": "R"
   },
   "source": [
    "Now the question is how \"collinear\" those SNPs are."
   ]
  },
  {
   "cell_type": "code",
   "execution_count": 5,
   "metadata": {
    "kernel": "R"
   },
   "outputs": [
    {
     "data": {
      "text/html": [
       "<ol class=list-inline>\n",
       "\t<li>'beta_vb'</li>\n",
       "\t<li>'gam_vb'</li>\n",
       "\t<li>'theta_vb'</li>\n",
       "\t<li>'X_beta_vb'</li>\n",
       "\t<li>'zeta_vb'</li>\n",
       "\t<li>'converged'</li>\n",
       "\t<li>'it'</li>\n",
       "\t<li>'lb_opt'</li>\n",
       "\t<li>'diff_lb'</li>\n",
       "\t<li>'p0'</li>\n",
       "\t<li>'rmvd_coll_x'</li>\n",
       "</ol>\n"
      ],
      "text/latex": [
       "\\begin{enumerate*}\n",
       "\\item 'beta\\_vb'\n",
       "\\item 'gam\\_vb'\n",
       "\\item 'theta\\_vb'\n",
       "\\item 'X\\_beta\\_vb'\n",
       "\\item 'zeta\\_vb'\n",
       "\\item 'converged'\n",
       "\\item 'it'\n",
       "\\item 'lb\\_opt'\n",
       "\\item 'diff\\_lb'\n",
       "\\item 'p0'\n",
       "\\item 'rmvd\\_coll\\_x'\n",
       "\\end{enumerate*}\n"
      ],
      "text/markdown": [
       "1. 'beta_vb'\n",
       "2. 'gam_vb'\n",
       "3. 'theta_vb'\n",
       "4. 'X_beta_vb'\n",
       "5. 'zeta_vb'\n",
       "6. 'converged'\n",
       "7. 'it'\n",
       "8. 'lb_opt'\n",
       "9. 'diff_lb'\n",
       "10. 'p0'\n",
       "11. 'rmvd_coll_x'\n",
       "\n",
       "\n"
      ],
      "text/plain": [
       " [1] \"beta_vb\"     \"gam_vb\"      \"theta_vb\"    \"X_beta_vb\"   \"zeta_vb\"    \n",
       " [6] \"converged\"   \"it\"          \"lb_opt\"      \"diff_lb\"     \"p0\"         \n",
       "[11] \"rmvd_coll_x\""
      ]
     },
     "metadata": {},
     "output_type": "display_data"
    }
   ],
   "source": [
    "names(result)"
   ]
  },
  {
   "cell_type": "code",
   "execution_count": 7,
   "metadata": {
    "kernel": "R"
   },
   "outputs": [
    {
     "data": {
      "text/html": [
       "<dl class=dl-horizontal>\n",
       "\t<dt>chr7_86482150_T_A_b38</dt>\n",
       "\t\t<dd>'chr7_86482210_GAAGA_G_b38'</dd>\n",
       "\t<dt>chr7_86482150_T_A_b38</dt>\n",
       "\t\t<dd>'chr7_86482300_A_T_b38'</dd>\n",
       "\t<dt>chr7_86484748_C_T_b38</dt>\n",
       "\t\t<dd>'chr7_86485234_T_C_b38'</dd>\n",
       "\t<dt>chr7_86485238_G_A_b38</dt>\n",
       "\t\t<dd>'chr7_86485290_C_A_b38'</dd>\n",
       "\t<dt>chr7_86483690_A_G_b38</dt>\n",
       "\t\t<dd>'chr7_86485763_G_A_b38'</dd>\n",
       "\t<dt>chr7_86483690_A_G_b38</dt>\n",
       "\t\t<dd>'chr7_86486045_A_G_b38'</dd>\n",
       "</dl>\n"
      ],
      "text/latex": [
       "\\begin{description*}\n",
       "\\item[chr7\\textbackslash{}\\_86482150\\textbackslash{}\\_T\\textbackslash{}\\_A\\textbackslash{}\\_b38] 'chr7\\_86482210\\_GAAGA\\_G\\_b38'\n",
       "\\item[chr7\\textbackslash{}\\_86482150\\textbackslash{}\\_T\\textbackslash{}\\_A\\textbackslash{}\\_b38] 'chr7\\_86482300\\_A\\_T\\_b38'\n",
       "\\item[chr7\\textbackslash{}\\_86484748\\textbackslash{}\\_C\\textbackslash{}\\_T\\textbackslash{}\\_b38] 'chr7\\_86485234\\_T\\_C\\_b38'\n",
       "\\item[chr7\\textbackslash{}\\_86485238\\textbackslash{}\\_G\\textbackslash{}\\_A\\textbackslash{}\\_b38] 'chr7\\_86485290\\_C\\_A\\_b38'\n",
       "\\item[chr7\\textbackslash{}\\_86483690\\textbackslash{}\\_A\\textbackslash{}\\_G\\textbackslash{}\\_b38] 'chr7\\_86485763\\_G\\_A\\_b38'\n",
       "\\item[chr7\\textbackslash{}\\_86483690\\textbackslash{}\\_A\\textbackslash{}\\_G\\textbackslash{}\\_b38] 'chr7\\_86486045\\_A\\_G\\_b38'\n",
       "\\end{description*}\n"
      ],
      "text/markdown": [
       "chr7_86482150_T_A_b38\n",
       ":   'chr7_86482210_GAAGA_G_b38'chr7_86482150_T_A_b38\n",
       ":   'chr7_86482300_A_T_b38'chr7_86484748_C_T_b38\n",
       ":   'chr7_86485234_T_C_b38'chr7_86485238_G_A_b38\n",
       ":   'chr7_86485290_C_A_b38'chr7_86483690_A_G_b38\n",
       ":   'chr7_86485763_G_A_b38'chr7_86483690_A_G_b38\n",
       ":   'chr7_86486045_A_G_b38'\n",
       "\n"
      ],
      "text/plain": [
       "      chr7_86482150_T_A_b38       chr7_86482150_T_A_b38 \n",
       "\"chr7_86482210_GAAGA_G_b38\"     \"chr7_86482300_A_T_b38\" \n",
       "      chr7_86484748_C_T_b38       chr7_86485238_G_A_b38 \n",
       "    \"chr7_86485234_T_C_b38\"     \"chr7_86485290_C_A_b38\" \n",
       "      chr7_86483690_A_G_b38       chr7_86483690_A_G_b38 \n",
       "    \"chr7_86485763_G_A_b38\"     \"chr7_86486045_A_G_b38\" "
      ]
     },
     "metadata": {},
     "output_type": "display_data"
    }
   ],
   "source": [
    "head(result$rmvd_coll_x)"
   ]
  },
  {
   "cell_type": "code",
   "execution_count": 16,
   "metadata": {
    "kernel": "R"
   },
   "outputs": [
    {
     "data": {
      "text/html": [
       "<table>\n",
       "<tbody>\n",
       "\t<tr><th scope=row>chr7_86482150_T_A_b38</th><td>chr7_86482150_T_A_b38    </td><td>chr7_86482210_GAAGA_G_b38</td></tr>\n",
       "\t<tr><th scope=row>chr7_86482150_T_A_b38</th><td>chr7_86482150_T_A_b38    </td><td>chr7_86482300_A_T_b38    </td></tr>\n",
       "\t<tr><th scope=row>chr7_86484748_C_T_b38</th><td>chr7_86484748_C_T_b38    </td><td>chr7_86485234_T_C_b38    </td></tr>\n",
       "\t<tr><th scope=row>chr7_86485238_G_A_b38</th><td>chr7_86485238_G_A_b38    </td><td>chr7_86485290_C_A_b38    </td></tr>\n",
       "\t<tr><th scope=row>chr7_86483690_A_G_b38</th><td>chr7_86483690_A_G_b38    </td><td>chr7_86485763_G_A_b38    </td></tr>\n",
       "\t<tr><th scope=row>chr7_86483690_A_G_b38</th><td>chr7_86483690_A_G_b38    </td><td>chr7_86486045_A_G_b38    </td></tr>\n",
       "</tbody>\n",
       "</table>\n"
      ],
      "text/latex": [
       "\\begin{tabular}{r|ll}\n",
       "\tchr7\\_86482150\\_T\\_A\\_b38 & chr7\\_86482150\\_T\\_A\\_b38     & chr7\\_86482210\\_GAAGA\\_G\\_b38\\\\\n",
       "\tchr7\\_86482150\\_T\\_A\\_b38 & chr7\\_86482150\\_T\\_A\\_b38     & chr7\\_86482300\\_A\\_T\\_b38    \\\\\n",
       "\tchr7\\_86484748\\_C\\_T\\_b38 & chr7\\_86484748\\_C\\_T\\_b38     & chr7\\_86485234\\_T\\_C\\_b38    \\\\\n",
       "\tchr7\\_86485238\\_G\\_A\\_b38 & chr7\\_86485238\\_G\\_A\\_b38     & chr7\\_86485290\\_C\\_A\\_b38    \\\\\n",
       "\tchr7\\_86483690\\_A\\_G\\_b38 & chr7\\_86483690\\_A\\_G\\_b38     & chr7\\_86485763\\_G\\_A\\_b38    \\\\\n",
       "\tchr7\\_86483690\\_A\\_G\\_b38 & chr7\\_86483690\\_A\\_G\\_b38     & chr7\\_86486045\\_A\\_G\\_b38    \\\\\n",
       "\\end{tabular}\n"
      ],
      "text/markdown": [
       "\n",
       "| chr7_86482150_T_A_b38 | chr7_86482150_T_A_b38     | chr7_86482210_GAAGA_G_b38 | \n",
       "| chr7_86482150_T_A_b38 | chr7_86482150_T_A_b38     | chr7_86482300_A_T_b38     | \n",
       "| chr7_86484748_C_T_b38 | chr7_86484748_C_T_b38     | chr7_86485234_T_C_b38     | \n",
       "| chr7_86485238_G_A_b38 | chr7_86485238_G_A_b38     | chr7_86485290_C_A_b38     | \n",
       "| chr7_86483690_A_G_b38 | chr7_86483690_A_G_b38     | chr7_86485763_G_A_b38     | \n",
       "| chr7_86483690_A_G_b38 | chr7_86483690_A_G_b38     | chr7_86486045_A_G_b38     | \n",
       "\n",
       "\n"
      ],
      "text/plain": [
       "                      [,1]                  [,2]                     \n",
       "chr7_86482150_T_A_b38 chr7_86482150_T_A_b38 chr7_86482210_GAAGA_G_b38\n",
       "chr7_86482150_T_A_b38 chr7_86482150_T_A_b38 chr7_86482300_A_T_b38    \n",
       "chr7_86484748_C_T_b38 chr7_86484748_C_T_b38 chr7_86485234_T_C_b38    \n",
       "chr7_86485238_G_A_b38 chr7_86485238_G_A_b38 chr7_86485290_C_A_b38    \n",
       "chr7_86483690_A_G_b38 chr7_86483690_A_G_b38 chr7_86485763_G_A_b38    \n",
       "chr7_86483690_A_G_b38 chr7_86483690_A_G_b38 chr7_86486045_A_G_b38    "
      ]
     },
     "metadata": {},
     "output_type": "display_data"
    }
   ],
   "source": [
    "coll_x = cbind(names(result$rmvd_coll_x), result$rmvd_coll_x)\n",
    "head(coll_x)"
   ]
  },
  {
   "cell_type": "code",
   "execution_count": 19,
   "metadata": {
    "kernel": "R"
   },
   "outputs": [
    {
     "data": {
      "text/plain": [
       "   Min. 1st Qu.  Median    Mean 3rd Qu.    Max. \n",
       "      1       1       1       1       1       1 "
      ]
     },
     "metadata": {},
     "output_type": "display_data"
    }
   ],
   "source": [
    "cor_x = vector()\n",
    "for (i in 1:nrow(coll_x)) {\n",
    "    cor_x[i] = cor(X[,coll_x[i,1]], X[,coll_x[i,2]])\n",
    "}\n",
    "\n",
    "summary(cor_x)"
   ]
  },
  {
   "cell_type": "markdown",
   "metadata": {
    "kernel": "R"
   },
   "source": [
    "So indeed only the ones with perfect correlation are removed.\n",
    "\n",
    "**Update: I have now added a post-processing function to atlasqtl to report back PIP avarged among co-linear input. See `pip_2` above.**"
   ]
  },
  {
   "cell_type": "markdown",
   "metadata": {
    "kernel": "SoS"
   },
   "source": [
    "## PIP calibration"
   ]
  },
  {
   "cell_type": "code",
   "execution_count": null,
   "metadata": {
    "kernel": "SoS"
   },
   "outputs": [],
   "source": [
    "# Calibration and ROC data\n",
    "[pip_3]\n",
    "parameter: bin_size = 20\n",
    "output: f'{_input:nn}.pip_evaluation.rds'\n",
    "R: expand = '${ }', workdir = cwd\n",
    "  dat = readRDS(${_input:r})\n",
    "  bins = cbind(seq(1:${bin_size})/${bin_size}-1/${bin_size}, seq(1:${bin_size})/${bin_size})\n",
    "  pip_cali = list()\n",
    "  for (method in names(dat)) {\n",
    "      pip_cali[[method]] = matrix(NA, nrow(bins), 3)\n",
    "      for (i in 1:nrow(bins)) {\n",
    "        data_in_bin = dat[[method]][which(dat[[method]][,1] > bins[i,1] & dat[[method]][,1] < bins[i,2]),]\n",
    "        pip_cali[[method]][i,1] = sum(data_in_bin[,1])\n",
    "        pip_cali[[method]][i,2] = sum(data_in_bin[,2])\n",
    "        pip_cali[[method]][i,3] = nrow(data_in_bin)\n",
    "      }\n",
    "  }\n",
    "  for (method in names(dat)) {\n",
    "      pip_cali[[method]][,c(1,2)] = pip_cali[[method]][,c(1,2)] / pip_cali[[method]][,3]\n",
    "  }\n",
    "  saveRDS(pip_cali, ${_output:r})"
   ]
  },
  {
   "cell_type": "code",
   "execution_count": null,
   "metadata": {
    "kernel": "SoS"
   },
   "outputs": [],
   "source": [
    "# Calibration plot\n",
    "[pip_4]\n",
    "depends: R_library('cowplot')\n",
    "output: f'{_input:nn}.pip_evaluation.png'\n",
    "R: expand = '${ }', workdir = cwd\n",
    "    library(ggplot2)\n",
    "    library(cowplot)\n",
    "    rename = list(mnm_high_het = 'M&M (oracle)', mnm_mixture01 = 'M&M (default)', mthess = 'MT-HESS (default)', atlasqtl = 'atlasqtl')\n",
    "    dot_plot = function(dataframe) {\n",
    "        ggplot(dataframe, aes(x=mean_pip, y=observed_freq)) + \n",
    "          geom_errorbar(aes(ymin=observed_freq-se, ymax=observed_freq+se), colour=\"gray\", size = 0.2, width=.01) +\n",
    "          geom_point(size=1.5, shape=21, fill=\"#002b36\") + # 21 is filled circle\n",
    "          xlab(\"Mean PIP\") +\n",
    "          ylab(\"Observed frequency\") +\n",
    "          coord_cartesian(ylim=c(0,1), xlim=c(0,1)) +\n",
    "          geom_abline(slope=1,intercept=0,colour='red', size=0.2) +\n",
    "          ggtitle(rename[[name]]) +\n",
    "          expand_limits(y=0) +                        # Expand y range\n",
    "          theme_cowplot()\n",
    "    }\n",
    "    dat = readRDS(${_input:r})\n",
    "    idx = 0\n",
    "    for (name in names(dat)) {\n",
    "      idx = idx + 1\n",
    "      dat[[name]][,3] = sqrt(dat[[name]][,2] * (1 - dat[[name]][,2]) / dat[[name]][,3]) * 2\n",
    "      dat[[name]] = as.data.frame(dat[[name]])\n",
    "      colnames(dat[[name]]) = c(\"mean_pip\", \"observed_freq\", \"se\")\n",
    "      pdf(paste0(${_output:nr}, '_' , idx, '.pdf'), width=3, height=3, pointsize=16)\n",
    "      print(dot_plot(dat[[name]]))\n",
    "      dev.off()\n",
    "      system(paste0(\"convert -density 120 \", ${_output:nr}, '_' , idx, '.pdf', \" \", ${_output:nr}, '_' , idx, '.png'))\n",
    "    }\n",
    "    files = paste0(${_output:nr}, '_', seq(1:idx), '.png')\n",
    "    cmd = paste('convert +append', paste(files, collapse=\" \"), ${_output:r})\n",
    "    system(cmd)\n",
    "    system(paste('rm -f', paste(files, collapse=\" \")))"
   ]
  },
  {
   "cell_type": "code",
   "execution_count": 5,
   "metadata": {
    "kernel": "SoS"
   },
   "outputs": [
    {
     "data": {
      "text/html": [
       "<div class=\"sos_hint\">> PIP_comparison_0302.pips.pip_evaluation.png (27.9 KiB):</div>"
      ],
      "text/plain": [
       "\n",
       "> PIP_comparison_0302.pips.pip_evaluation.png (27.9 KiB):"
      ]
     },
     "metadata": {},
     "output_type": "display_data"
    },
    {
     "data": {
      "image/png": "[encoded data removed]"
     },
     "metadata": {
      "image/png": {}
     },
     "output_type": "display_data"
    }
   ],
   "source": [
    "%preview PIP_comparison_0302.pips.pip_evaluation.png"
   ]
  },
  {
   "cell_type": "markdown",
   "metadata": {
    "kernel": "SoS"
   },
   "source": [
    "## ROC / PR curves"
   ]
  },
  {
   "cell_type": "code",
   "execution_count": null,
   "metadata": {
    "kernel": "SoS"
   },
   "outputs": [],
   "source": [
    "# Data for ROC\n",
    "[roc_3]\n",
    "pip_cutoff = 0.05\n",
    "output: f'{_input:nn}.roc.rds'\n",
    "R: expand = '${ }', workdir = cwd\n",
    "    roc_data = function(d1, cutoff = c(${pip_cutoff}, 0.999), connect_org = T) {\n",
    "        grid = 500\n",
    "        ttv = seq(1:grid)/grid\n",
    "        ttv = ttv[which(ttv>=cutoff[1] & ttv<=cutoff[2])]\n",
    "        rst1 = t(sapply(ttv, function(x) c(sum(d1[,2][d1[,1]>=x]), length(d1[,2][d1[,1]>=x]))))\n",
    "        rst1 = cbind(rst1, sum(d1[,2]))\n",
    "        rst1 = as.data.frame(rst1)\n",
    "        colnames(rst1) = c('true_positive', 'total_positive', 'total_signal')\n",
    "        rst2 = as.data.frame(cbind(rst1$true_positive / rst1$total_positive, rst1$true_positive / rst1$total_signal,  ttv))\n",
    "        if (connect_org) {\n",
    "            # make a stair to origin\n",
    "            rst2 = rbind(rst2, c(max(0.995, rst2[nrow(rst2),1]), max(rst2[nrow(rst2),2]-0.01, 0), rst2[nrow(rst2),3]))\n",
    "            rst2 = rbind(rst2, c(1, 0, 1))\n",
    "        }\n",
    "        colnames(rst2) = c('Precision', 'Recall', 'Threshold')\n",
    "        return(list(counts = rst1, rates = rst2))\n",
    "    }\n",
    "\n",
    "    print(\"Computing ROC data ...\")\n",
    "    roc = list()\n",
    "    dat = readRDS(${_input:r})\n",
    "    for (method in names(dat)) {\n",
    "      roc[[method]] = roc_data(dat[[method]])\n",
    "    }\n",
    "    saveRDS(roc, ${_output:r})"
   ]
  },
  {
   "cell_type": "code",
   "execution_count": 7,
   "metadata": {
    "kernel": "R"
   },
   "outputs": [
    {
     "data": {
      "text/html": [
       "<ol class=list-inline>\n",
       "\t<li>'mnm_high_het'</li>\n",
       "\t<li>'atlasqtl'</li>\n",
       "</ol>\n"
      ],
      "text/latex": [
       "\\begin{enumerate*}\n",
       "\\item 'mnm\\_high\\_het'\n",
       "\\item 'atlasqtl'\n",
       "\\end{enumerate*}\n"
      ],
      "text/markdown": [
       "1. 'mnm_high_het'\n",
       "2. 'atlasqtl'\n",
       "\n",
       "\n"
      ],
      "text/plain": [
       "[1] \"mnm_high_het\" \"atlasqtl\"    "
      ]
     },
     "metadata": {},
     "output_type": "display_data"
    }
   ],
   "source": [
    "dat = readRDS('/home/gaow/GIT/mvarbvs/dsc/mnm_prototype/mnm_20200124/PIP_comparison_0302.pips.roc.rds')\n",
    "names(dat)"
   ]
  },
  {
   "cell_type": "code",
   "execution_count": null,
   "metadata": {
    "kernel": "SoS"
   },
   "outputs": [],
   "source": [
    "# Plot for ROC\n",
    "[roc_4]\n",
    "depends: R_library('scam')\n",
    "parameter: chunks = 0\n",
    "parameter: smooth = 'FALSE'\n",
    "parameter: opt = \"lwd = 2, xlim = c(0,0.8), ylim = c(0,0.8)\"\n",
    "parameter: main = \"FDR vs Power\"\n",
    "output: f'{_input:nn}.roc.pdf'\n",
    "R: expand = '${ }'\n",
    "    colors = c('#A60628', '#7A68A6', '#348ABD', '#467821', '#FF0000', '#188487', '#E2A233',\n",
    "                  '#A9A9A9', '#000000', '#FF00FF', '#FFD700', '#ADFF2F', '#00FFFF')\n",
    "    dat = readRDS(${_input:r})\n",
    "    library(scam)\n",
    "    create_chunks = function(item, n) {\n",
    "      splitted = suppressWarnings(split(item, 1:n))\n",
    "      return(c(splitted[[1]], splitted[[length(splitted)]][length(splitted[[length(splitted)]])]))\n",
    "    }\n",
    "    make_smooth = function(x,y,subset=${chunks}, smooth = ${smooth}) {\n",
    "      if (smooth) {\n",
    "          if (subset < length(x) && subset > 0) {\n",
    "              x = create_chunks(x, subset)\n",
    "              y = create_chunks(y, subset)\n",
    "          }\n",
    "          dat = data.frame(cbind(x,y))\n",
    "          colnames(dat) = c('x','y')\n",
    "          y=predict(scam(y ~ s(x, bs = \"mpi\"), data = dat))\n",
    "      }\n",
    "      return(list(x=x,y=y))\n",
    "    }\n",
    "    add_text = function(thresholds, x, y, threshold, color, delta = -0.06) {\n",
    "        idx = which(thresholds == threshold)\n",
    "        text(x[idx] - delta, y[idx], labels = threshold, col = color, cex=0.8)\n",
    "        points(x[idx],y[idx])\n",
    "    }\n",
    "    rename = list(mnm_high_het = 'M&M (oracle)', mnm_mixture01 = 'M&M (default)', mthess = 'MT-HESS (default)', atlasqtl = 'atlasqtl (default)')\n",
    "    labels = vector()\n",
    "    pdf(${_output:r}, width=5, height=5, pointsize=15)\n",
    "    i = 1\n",
    "    for (method in names(dat)) {\n",
    "        yy = make_smooth(1 - dat[[method]]$rates$Precision, dat[[method]]$rates$Recall)\n",
    "        if (i == 1) {\n",
    "            plot(yy$x, yy$y, t=\"l\", col=colors[i], ylab = \"power\", xlab =\"FDR\", main = \"${main}\", bty='l', ${opt})\n",
    "        } else {\n",
    "            lines(yy$x, yy$y, col=colors[i], ${opt})\n",
    "        }\n",
    "        #add_text(dat[[method]]$rates$Threshold, yy$x, yy$y, 0.9, colors[i])\n",
    "        add_text(dat[[method]]$rates$Threshold, yy$x, yy$y, 0.95, colors[i])\n",
    "        labels[i] = rename[[method]]\n",
    "        i = i + 1\n",
    "    }\n",
    "    legend(\"bottomright\", legend=labels, col=colors[1:i], lty=c(1,1,1), cex=0.8)\n",
    "    dev.off()"
   ]
  },
  {
   "cell_type": "code",
   "execution_count": 4,
   "metadata": {
    "kernel": "SoS"
   },
   "outputs": [
    {
     "data": {
      "text/html": [
       "<div class=\"sos_hint\">> PIP_comparison_0302.pips.roc.pdf (8.7 KiB):</div>"
      ],
      "text/plain": [
       "\n",
       "> PIP_comparison_0302.pips.roc.pdf (8.7 KiB):"
      ]
     },
     "metadata": {},
     "output_type": "display_data"
    },
    {
     "data": {
      "image/png": "[encoded data removed]"
     },
     "metadata": {},
     "output_type": "display_data"
    }
   ],
   "source": [
    "%preview PIP_comparison_0302.pips.roc.pdf -s png"
   ]
  }
 ],
 "metadata": {
  "kernelspec": {
   "display_name": "SoS",
   "language": "sos",
   "name": "sos"
  },
  "language_info": {
   "codemirror_mode": "sos",
   "file_extension": ".sos",
   "mimetype": "text/x-sos",
   "name": "sos",
   "nbconvert_exporter": "sos_notebook.converter.SoS_Exporter",
   "pygments_lexer": "sos"
  },
  "sos": {
   "kernels": [
    [
     "Bash",
     "bash",
     "Bash",
     "#E6EEFF",
     ""
    ],
    [
     "R",
     "ir",
     "R",
     "",
     "r"
    ],
    [
     "SoS",
     "sos",
     "",
     "",
     "sos"
    ]
   ],
   "version": "0.20.5"
  }
 },
 "nbformat": 4,
 "nbformat_minor": 4
}
