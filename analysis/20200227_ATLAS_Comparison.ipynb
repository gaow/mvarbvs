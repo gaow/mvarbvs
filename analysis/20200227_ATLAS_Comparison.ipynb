{
 "cells": [
  {
   "cell_type": "markdown",
   "metadata": {
    "kernel": "SoS"
   },
   "source": [
    "# Comparing M&M with atlas-qtl\n",
    "\n",
    "See [here](20200110_atlasqtl_demo.html) for some background information. Since `atlas-qtl` does not give credible sets we compare here the marginal PIP in terms of calibration and precision-recall curves."
   ]
  },
  {
   "cell_type": "markdown",
   "metadata": {
    "kernel": "SoS"
   },
   "source": [
    "## The benchmark\n",
    "\n",
    "The benchmark is executed locally because `mthess` can take very long time to complete.\n",
    "\n",
    "```\n",
    "./finemap.dsc --host dsc_mnm.yml -o mnm_20200124 --touch -e ignore\n",
    "```"
   ]
  },
  {
   "cell_type": "code",
   "execution_count": null,
   "metadata": {
    "kernel": "SoS"
   },
   "outputs": [],
   "source": [
    "[global]\n",
    "parameter: cwd = path('/home/gaow/GIT/mvarbvs/dsc/mnm_prototype')\n",
    "parameter: data_dir = 'mnm_20200124/'\n",
    "parameter: date = '0302'\n",
    "def fmtP(x):\n",
    "    return str(x).replace(\".\", \"p\")"
   ]
  },
  {
   "cell_type": "markdown",
   "metadata": {
    "kernel": "SoS"
   },
   "source": [
    "## PIP extraction\n",
    "\n",
    "I'll for now only extract file names and get the values as needed after."
   ]
  },
  {
   "cell_type": "code",
   "execution_count": null,
   "metadata": {
    "kernel": "SoS"
   },
   "outputs": [],
   "source": [
    "# Extract meta info\n",
    "[pip_1,roc_1]\n",
    "output: f'{cwd}/{data_dir}/PIP_comparison_{date}.pips_meta.rds'\n",
    "R: expand = '${ }', workdir = cwd\n",
    "    meta = dscrutils::dscquery('mnm_20200124', target = c(\"full_data.dataset\", \"simulate.n_traits\", \"simulate.n_signal\", \"simulate\", \"method\"), module.output.files=c(\"simulate\", \"method\"), group = c(\"method: mnm_high_het mnm_mixture01 atlasqtl\", \"methods:\"), ignore.missing.file=T)\n",
    "    # remove bad files\n",
    "    bad_files = vector()\n",
    "    for (f in meta$method.output.file) {\n",
    "      if (!file.exists(paste0(f,'.rds'))) bad_files = append(bad_files, f)\n",
    "    }\n",
    "    meta = meta[which(!(meta$method.output.file %in% bad_files)),]\n",
    "    saveRDS(meta, ${_output:r})"
   ]
  },
  {
   "cell_type": "code",
   "execution_count": 1,
   "metadata": {
    "kernel": "SoS"
   },
   "outputs": [
    {
     "name": "stdout",
     "output_type": "stream",
     "text": [
      "/project2/mstephens/gaow/mvarbvs/dsc/mnm_prototype/mnm_20200124"
     ]
    }
   ],
   "source": [
    "%cd /home/gaow/GIT/mvarbvs/dsc/mnm_prototype/mnm_20200124"
   ]
  },
  {
   "cell_type": "code",
   "execution_count": 6,
   "metadata": {
    "kernel": "R"
   },
   "outputs": [],
   "source": [
    "dat = readRDS('PIP_comparison_0302.pips_meta.rds')"
   ]
  },
  {
   "cell_type": "code",
   "execution_count": 7,
   "metadata": {
    "kernel": "R"
   },
   "outputs": [
    {
     "data": {
      "text/html": [
       "<table>\n",
       "<thead><tr><th scope=col>DSC</th><th scope=col>full_data.dataset</th><th scope=col>simulate.n_traits</th><th scope=col>simulate.n_signal</th><th scope=col>simulate</th><th scope=col>method</th><th scope=col>simulate.output.file</th><th scope=col>method.output.file</th></tr></thead>\n",
       "<tbody>\n",
       "\t<tr><td>1                                                                        </td><td>~/Documents/GTExV8/Multi_Tissue_Toys/ENSG00000000003.14.Multi_Tissues.rds</td><td>5                                                                        </td><td>-1                                                                       </td><td>high_het                                                                 </td><td>mnm_high_het                                                             </td><td>high_het/full_data_1_high_het_1                                          </td><td>mnm_high_het/full_data_1_high_het_1_oracle_generator_1_mnm_high_het_1    </td></tr>\n",
       "\t<tr><td>1                                                                        </td><td>~/Documents/GTExV8/Multi_Tissue_Toys/ENSG00000000005.5.Multi_Tissues.rds </td><td>5                                                                        </td><td>-1                                                                       </td><td>high_het                                                                 </td><td>mnm_high_het                                                             </td><td>high_het/full_data_2_high_het_1                                          </td><td>mnm_high_het/full_data_2_high_het_1_oracle_generator_1_mnm_high_het_1    </td></tr>\n",
       "\t<tr><td>1                                                                        </td><td>~/Documents/GTExV8/Multi_Tissue_Toys/ENSG00000000419.12.Multi_Tissues.rds</td><td>5                                                                        </td><td>-1                                                                       </td><td>high_het                                                                 </td><td>mnm_high_het                                                             </td><td>high_het/full_data_3_high_het_1                                          </td><td>mnm_high_het/full_data_3_high_het_1_oracle_generator_1_mnm_high_het_1    </td></tr>\n",
       "\t<tr><td>1                                                                        </td><td>~/Documents/GTExV8/Multi_Tissue_Toys/ENSG00000000457.13.Multi_Tissues.rds</td><td>5                                                                        </td><td>-1                                                                       </td><td>high_het                                                                 </td><td>mnm_high_het                                                             </td><td>high_het/full_data_4_high_het_1                                          </td><td>mnm_high_het/full_data_4_high_het_1_oracle_generator_1_mnm_high_het_1    </td></tr>\n",
       "\t<tr><td>1                                                                        </td><td>~/Documents/GTExV8/Multi_Tissue_Toys/ENSG00000000460.16.Multi_Tissues.rds</td><td>5                                                                        </td><td>-1                                                                       </td><td>high_het                                                                 </td><td>mnm_high_het                                                             </td><td>high_het/full_data_5_high_het_1                                          </td><td>mnm_high_het/full_data_5_high_het_1_oracle_generator_1_mnm_high_het_1    </td></tr>\n",
       "\t<tr><td>1                                                                        </td><td>~/Documents/GTExV8/Multi_Tissue_Toys/ENSG00000000938.12.Multi_Tissues.rds</td><td>5                                                                        </td><td>-1                                                                       </td><td>high_het                                                                 </td><td>mnm_high_het                                                             </td><td>high_het/full_data_6_high_het_1                                          </td><td>mnm_high_het/full_data_6_high_het_1_oracle_generator_1_mnm_high_het_1    </td></tr>\n",
       "</tbody>\n",
       "</table>\n"
      ],
      "text/latex": [
       "\\begin{tabular}{r|llllllll}\n",
       " DSC & full\\_data.dataset & simulate.n\\_traits & simulate.n\\_signal & simulate & method & simulate.output.file & method.output.file\\\\\n",
       "\\hline\n",
       "\t 1                                                                                                 & \\textasciitilde{}/Documents/GTExV8/Multi\\_Tissue\\_Toys/ENSG00000000003.14.Multi\\_Tissues.rds  & 5                                                                                                 & -1                                                                                                & high\\_het                                                                                        & mnm\\_high\\_het                                                                                  & high\\_het/full\\_data\\_1\\_high\\_het\\_1                                                       & mnm\\_high\\_het/full\\_data\\_1\\_high\\_het\\_1\\_oracle\\_generator\\_1\\_mnm\\_high\\_het\\_1\\\\\n",
       "\t 1                                                                                                 & \\textasciitilde{}/Documents/GTExV8/Multi\\_Tissue\\_Toys/ENSG00000000005.5.Multi\\_Tissues.rds   & 5                                                                                                 & -1                                                                                                & high\\_het                                                                                        & mnm\\_high\\_het                                                                                  & high\\_het/full\\_data\\_2\\_high\\_het\\_1                                                       & mnm\\_high\\_het/full\\_data\\_2\\_high\\_het\\_1\\_oracle\\_generator\\_1\\_mnm\\_high\\_het\\_1\\\\\n",
       "\t 1                                                                                                 & \\textasciitilde{}/Documents/GTExV8/Multi\\_Tissue\\_Toys/ENSG00000000419.12.Multi\\_Tissues.rds  & 5                                                                                                 & -1                                                                                                & high\\_het                                                                                        & mnm\\_high\\_het                                                                                  & high\\_het/full\\_data\\_3\\_high\\_het\\_1                                                       & mnm\\_high\\_het/full\\_data\\_3\\_high\\_het\\_1\\_oracle\\_generator\\_1\\_mnm\\_high\\_het\\_1\\\\\n",
       "\t 1                                                                                                 & \\textasciitilde{}/Documents/GTExV8/Multi\\_Tissue\\_Toys/ENSG00000000457.13.Multi\\_Tissues.rds  & 5                                                                                                 & -1                                                                                                & high\\_het                                                                                        & mnm\\_high\\_het                                                                                  & high\\_het/full\\_data\\_4\\_high\\_het\\_1                                                       & mnm\\_high\\_het/full\\_data\\_4\\_high\\_het\\_1\\_oracle\\_generator\\_1\\_mnm\\_high\\_het\\_1\\\\\n",
       "\t 1                                                                                                 & \\textasciitilde{}/Documents/GTExV8/Multi\\_Tissue\\_Toys/ENSG00000000460.16.Multi\\_Tissues.rds  & 5                                                                                                 & -1                                                                                                & high\\_het                                                                                        & mnm\\_high\\_het                                                                                  & high\\_het/full\\_data\\_5\\_high\\_het\\_1                                                       & mnm\\_high\\_het/full\\_data\\_5\\_high\\_het\\_1\\_oracle\\_generator\\_1\\_mnm\\_high\\_het\\_1\\\\\n",
       "\t 1                                                                                                 & \\textasciitilde{}/Documents/GTExV8/Multi\\_Tissue\\_Toys/ENSG00000000938.12.Multi\\_Tissues.rds  & 5                                                                                                 & -1                                                                                                & high\\_het                                                                                        & mnm\\_high\\_het                                                                                  & high\\_het/full\\_data\\_6\\_high\\_het\\_1                                                       & mnm\\_high\\_het/full\\_data\\_6\\_high\\_het\\_1\\_oracle\\_generator\\_1\\_mnm\\_high\\_het\\_1\\\\\n",
       "\\end{tabular}\n"
      ],
      "text/markdown": [
       "\n",
       "DSC | full_data.dataset | simulate.n_traits | simulate.n_signal | simulate | method | simulate.output.file | method.output.file | \n",
       "|---|---|---|---|---|---|\n",
       "| 1                                                                         | ~/Documents/GTExV8/Multi_Tissue_Toys/ENSG00000000003.14.Multi_Tissues.rds | 5                                                                         | -1                                                                        | high_het                                                                  | mnm_high_het                                                              | high_het/full_data_1_high_het_1                                           | mnm_high_het/full_data_1_high_het_1_oracle_generator_1_mnm_high_het_1     | \n",
       "| 1                                                                         | ~/Documents/GTExV8/Multi_Tissue_Toys/ENSG00000000005.5.Multi_Tissues.rds  | 5                                                                         | -1                                                                        | high_het                                                                  | mnm_high_het                                                              | high_het/full_data_2_high_het_1                                           | mnm_high_het/full_data_2_high_het_1_oracle_generator_1_mnm_high_het_1     | \n",
       "| 1                                                                         | ~/Documents/GTExV8/Multi_Tissue_Toys/ENSG00000000419.12.Multi_Tissues.rds | 5                                                                         | -1                                                                        | high_het                                                                  | mnm_high_het                                                              | high_het/full_data_3_high_het_1                                           | mnm_high_het/full_data_3_high_het_1_oracle_generator_1_mnm_high_het_1     | \n",
       "| 1                                                                         | ~/Documents/GTExV8/Multi_Tissue_Toys/ENSG00000000457.13.Multi_Tissues.rds | 5                                                                         | -1                                                                        | high_het                                                                  | mnm_high_het                                                              | high_het/full_data_4_high_het_1                                           | mnm_high_het/full_data_4_high_het_1_oracle_generator_1_mnm_high_het_1     | \n",
       "| 1                                                                         | ~/Documents/GTExV8/Multi_Tissue_Toys/ENSG00000000460.16.Multi_Tissues.rds | 5                                                                         | -1                                                                        | high_het                                                                  | mnm_high_het                                                              | high_het/full_data_5_high_het_1                                           | mnm_high_het/full_data_5_high_het_1_oracle_generator_1_mnm_high_het_1     | \n",
       "| 1                                                                         | ~/Documents/GTExV8/Multi_Tissue_Toys/ENSG00000000938.12.Multi_Tissues.rds | 5                                                                         | -1                                                                        | high_het                                                                  | mnm_high_het                                                              | high_het/full_data_6_high_het_1                                           | mnm_high_het/full_data_6_high_het_1_oracle_generator_1_mnm_high_het_1     | \n",
       "\n",
       "\n"
      ],
      "text/plain": [
       "  DSC full_data.dataset                                                        \n",
       "1 1   ~/Documents/GTExV8/Multi_Tissue_Toys/ENSG00000000003.14.Multi_Tissues.rds\n",
       "2 1   ~/Documents/GTExV8/Multi_Tissue_Toys/ENSG00000000005.5.Multi_Tissues.rds \n",
       "3 1   ~/Documents/GTExV8/Multi_Tissue_Toys/ENSG00000000419.12.Multi_Tissues.rds\n",
       "4 1   ~/Documents/GTExV8/Multi_Tissue_Toys/ENSG00000000457.13.Multi_Tissues.rds\n",
       "5 1   ~/Documents/GTExV8/Multi_Tissue_Toys/ENSG00000000460.16.Multi_Tissues.rds\n",
       "6 1   ~/Documents/GTExV8/Multi_Tissue_Toys/ENSG00000000938.12.Multi_Tissues.rds\n",
       "  simulate.n_traits simulate.n_signal simulate method      \n",
       "1 5                 -1                high_het mnm_high_het\n",
       "2 5                 -1                high_het mnm_high_het\n",
       "3 5                 -1                high_het mnm_high_het\n",
       "4 5                 -1                high_het mnm_high_het\n",
       "5 5                 -1                high_het mnm_high_het\n",
       "6 5                 -1                high_het mnm_high_het\n",
       "  simulate.output.file           \n",
       "1 high_het/full_data_1_high_het_1\n",
       "2 high_het/full_data_2_high_het_1\n",
       "3 high_het/full_data_3_high_het_1\n",
       "4 high_het/full_data_4_high_het_1\n",
       "5 high_het/full_data_5_high_het_1\n",
       "6 high_het/full_data_6_high_het_1\n",
       "  method.output.file                                                   \n",
       "1 mnm_high_het/full_data_1_high_het_1_oracle_generator_1_mnm_high_het_1\n",
       "2 mnm_high_het/full_data_2_high_het_1_oracle_generator_1_mnm_high_het_1\n",
       "3 mnm_high_het/full_data_3_high_het_1_oracle_generator_1_mnm_high_het_1\n",
       "4 mnm_high_het/full_data_4_high_het_1_oracle_generator_1_mnm_high_het_1\n",
       "5 mnm_high_het/full_data_5_high_het_1_oracle_generator_1_mnm_high_het_1\n",
       "6 mnm_high_het/full_data_6_high_het_1_oracle_generator_1_mnm_high_het_1"
      ]
     },
     "metadata": {},
     "output_type": "display_data"
    }
   ],
   "source": [
    "head(dat)"
   ]
  },
  {
   "cell_type": "code",
   "execution_count": 9,
   "metadata": {
    "kernel": "R"
   },
   "outputs": [
    {
     "data": {
      "text/html": [
       "<ol class=list-inline>\n",
       "\t<li>5</li>\n",
       "\t<li>10</li>\n",
       "\t<li>50</li>\n",
       "</ol>\n"
      ],
      "text/latex": [
       "\\begin{enumerate*}\n",
       "\\item 5\n",
       "\\item 10\n",
       "\\item 50\n",
       "\\end{enumerate*}\n"
      ],
      "text/markdown": [
       "1. 5\n",
       "2. 10\n",
       "3. 50\n",
       "\n",
       "\n"
      ],
      "text/plain": [
       "[1]  5 10 50"
      ]
     },
     "metadata": {},
     "output_type": "display_data"
    }
   ],
   "source": [
    "unique(dat$simulate.n_traits)"
   ]
  },
  {
   "cell_type": "code",
   "execution_count": null,
   "metadata": {
    "kernel": "SoS"
   },
   "outputs": [],
   "source": [
    "# Extract PIP\n",
    "[pip_2,roc_2]\n",
    "parameter: mnm_method = 'mnm_high_het+mnm_low_het'\n",
    "parameter: simulate_method = 'high_het'\n",
    "parameter: n_traits = 50\n",
    "parameter: sub_set = 500\n",
    "output: f'{cwd}/{data_dir}/PIP_comparison_{date}.pips.{simulate_method}_{mnm_method}_{n_traits}_{sub_set}.rds'\n",
    "R: expand = '${ }', workdir = f'{cwd}/{data_dir}'\n",
    "  meta = readRDS(${_input:r})\n",
    "  # apply some filters\n",
    "  meta = meta[which(meta$method %in% c(${','.join([repr(x) for x in mnm_method.split('+')])}, 'atlasqtl') & meta$simulate == '${simulate_method}' & meta$simulate.n_traits == ${n_traits}),]\n",
    "  if (${sub_set}<nrow(meta)) {\n",
    "      meta = meta[sample(1:nrow(meta))[1:${sub_set}],]\n",
    "  }\n",
    "  print(dim(meta))\n",
    "  # now collect matrices for each method, of two columns: pip and true_coef\n",
    "  res = list()\n",
    "  for (i in 1:nrow(meta)) {\n",
    "      true_coef = as.integer(dscrutils:::read_dsc(paste0(meta[i,]$simulate.output.file, '.pkl'))$meta$true_coef != 0)\n",
    "      # make it a vector\n",
    "      true_coef = c(true_coef)\n",
    "      method = meta[i,]$method\n",
    "      if (method == \"atlasqtl\") {\n",
    "          pip = dscrutils:::read_dsc(paste0(meta[i,]$method.output.file, '.rds'))$result$gam_vb\n",
    "      } else {\n",
    "          tmp = dscrutils:::read_dsc(paste0(meta[i,]$method.output.file, '.rds'))$result\n",
    "          # approximate PIP using condition specific 1 - lfsr\n",
    "          pip = 1 - mmbr::mmbr_get_lfsr(tmp)\n",
    "      }\n",
    "      # PIP is matrix of P (SNPs) by R (conditions); now make it a vector\n",
    "      pip = c(pip)\n",
    "      if (!(method %in% names(res))) {\n",
    "        res[[method]] = list(pip = pip, truth = true_coef)\n",
    "      } else {\n",
    "        res[[method]]$pip = append(res[[method]]$pip, pip)\n",
    "        res[[method]]$truth = append(res[[method]]$truth, true_coef)\n",
    "      }\n",
    "      if (i%%100==0) print(i)\n",
    "  }\n",
    "  for (method in unique(meta$method)) {\n",
    "      res[[method]] = do.call(cbind, res[[method]])\n",
    "  }\n",
    "  saveRDS(res, ${_output:r})"
   ]
  },
  {
   "cell_type": "code",
   "execution_count": 12,
   "metadata": {
    "kernel": "R"
   },
   "outputs": [
    {
     "data": {
      "text/html": [
       "<ol class=list-inline>\n",
       "\t<li>'mnm_high_het'</li>\n",
       "\t<li>'atlasqtl'</li>\n",
       "</ol>\n"
      ],
      "text/latex": [
       "\\begin{enumerate*}\n",
       "\\item 'mnm\\_high\\_het'\n",
       "\\item 'atlasqtl'\n",
       "\\end{enumerate*}\n"
      ],
      "text/markdown": [
       "1. 'mnm_high_het'\n",
       "2. 'atlasqtl'\n",
       "\n",
       "\n"
      ],
      "text/plain": [
       "[1] \"mnm_high_het\" \"atlasqtl\"    "
      ]
     },
     "metadata": {},
     "output_type": "display_data"
    }
   ],
   "source": [
    "dat = readRDS(\"PIP_comparison_0302.pips.high_het_mnm_high_het+mnm_low_het_50_500.rds\")\n",
    "names(dat)"
   ]
  },
  {
   "cell_type": "markdown",
   "metadata": {
    "kernel": "R"
   },
   "source": [
    "Now let's peep into the result:"
   ]
  },
  {
   "cell_type": "code",
   "execution_count": 14,
   "metadata": {
    "kernel": "R"
   },
   "outputs": [
    {
     "data": {
      "text/html": [
       "<table>\n",
       "<thead><tr><th scope=col>pip</th><th scope=col>truth</th></tr></thead>\n",
       "<tbody>\n",
       "\t<tr><td>4.097906e-05</td><td>0           </td></tr>\n",
       "\t<tr><td>2.606266e-05</td><td>0           </td></tr>\n",
       "\t<tr><td>3.117386e-05</td><td>0           </td></tr>\n",
       "\t<tr><td>3.306454e-05</td><td>0           </td></tr>\n",
       "\t<tr><td>4.816789e-05</td><td>0           </td></tr>\n",
       "\t<tr><td>3.272972e-05</td><td>0           </td></tr>\n",
       "</tbody>\n",
       "</table>\n"
      ],
      "text/latex": [
       "\\begin{tabular}{ll}\n",
       " pip & truth\\\\\n",
       "\\hline\n",
       "\t 4.097906e-05 & 0           \\\\\n",
       "\t 2.606266e-05 & 0           \\\\\n",
       "\t 3.117386e-05 & 0           \\\\\n",
       "\t 3.306454e-05 & 0           \\\\\n",
       "\t 4.816789e-05 & 0           \\\\\n",
       "\t 3.272972e-05 & 0           \\\\\n",
       "\\end{tabular}\n"
      ],
      "text/markdown": [
       "\n",
       "pip | truth | \n",
       "|---|---|---|---|---|---|\n",
       "| 4.097906e-05 | 0            | \n",
       "| 2.606266e-05 | 0            | \n",
       "| 3.117386e-05 | 0            | \n",
       "| 3.306454e-05 | 0            | \n",
       "| 4.816789e-05 | 0            | \n",
       "| 3.272972e-05 | 0            | \n",
       "\n",
       "\n"
      ],
      "text/plain": [
       "     pip          truth\n",
       "[1,] 4.097906e-05 0    \n",
       "[2,] 2.606266e-05 0    \n",
       "[3,] 3.117386e-05 0    \n",
       "[4,] 3.306454e-05 0    \n",
       "[5,] 4.816789e-05 0    \n",
       "[6,] 3.272972e-05 0    "
      ]
     },
     "metadata": {},
     "output_type": "display_data"
    }
   ],
   "source": [
    "head(dat$atlasqtl)"
   ]
  },
  {
   "cell_type": "code",
   "execution_count": 21,
   "metadata": {
    "kernel": "R"
   },
   "outputs": [
    {
     "data": {
      "text/html": [
       "<table>\n",
       "<thead><tr><th scope=col>pip</th><th scope=col>truth</th></tr></thead>\n",
       "<tbody>\n",
       "\t<tr><td>3.209868e-05</td><td>1           </td></tr>\n",
       "\t<tr><td>2.472211e-05</td><td>1           </td></tr>\n",
       "\t<tr><td>4.558600e-07</td><td>1           </td></tr>\n",
       "\t<tr><td>2.115187e-05</td><td>1           </td></tr>\n",
       "\t<tr><td>4.447844e-06</td><td>1           </td></tr>\n",
       "\t<tr><td>3.126282e-05</td><td>1           </td></tr>\n",
       "</tbody>\n",
       "</table>\n"
      ],
      "text/latex": [
       "\\begin{tabular}{ll}\n",
       " pip & truth\\\\\n",
       "\\hline\n",
       "\t 3.209868e-05 & 1           \\\\\n",
       "\t 2.472211e-05 & 1           \\\\\n",
       "\t 4.558600e-07 & 1           \\\\\n",
       "\t 2.115187e-05 & 1           \\\\\n",
       "\t 4.447844e-06 & 1           \\\\\n",
       "\t 3.126282e-05 & 1           \\\\\n",
       "\\end{tabular}\n"
      ],
      "text/markdown": [
       "\n",
       "pip | truth | \n",
       "|---|---|---|---|---|---|\n",
       "| 3.209868e-05 | 1            | \n",
       "| 2.472211e-05 | 1            | \n",
       "| 4.558600e-07 | 1            | \n",
       "| 2.115187e-05 | 1            | \n",
       "| 4.447844e-06 | 1            | \n",
       "| 3.126282e-05 | 1            | \n",
       "\n",
       "\n"
      ],
      "text/plain": [
       "     pip          truth\n",
       "[1,] 3.209868e-05 1    \n",
       "[2,] 2.472211e-05 1    \n",
       "[3,] 4.558600e-07 1    \n",
       "[4,] 2.115187e-05 1    \n",
       "[5,] 4.447844e-06 1    \n",
       "[6,] 3.126282e-05 1    "
      ]
     },
     "metadata": {},
     "output_type": "display_data"
    }
   ],
   "source": [
    "head(dat$atlasqtl[which(dat$atlasqtl[,2]==1),])"
   ]
  },
  {
   "cell_type": "code",
   "execution_count": 24,
   "metadata": {
    "kernel": "R"
   },
   "outputs": [
    {
     "data": {
      "text/html": [
       "<dl class=dl-horizontal>\n",
       "\t<dt>pip</dt>\n",
       "\t\t<dd>4.51497298369468</dd>\n",
       "\t<dt>truth</dt>\n",
       "\t\t<dd>4950</dd>\n",
       "</dl>\n"
      ],
      "text/latex": [
       "\\begin{description*}\n",
       "\\item[pip] 4.51497298369468\n",
       "\\item[truth] 4950\n",
       "\\end{description*}\n"
      ],
      "text/markdown": [
       "pip\n",
       ":   4.51497298369468truth\n",
       ":   4950\n",
       "\n"
      ],
      "text/plain": [
       "        pip       truth \n",
       "   4.514973 4950.000000 "
      ]
     },
     "metadata": {},
     "output_type": "display_data"
    }
   ],
   "source": [
    "colSums(dat$atlasqtl[which(dat$atlasqtl[,2]==1),])"
   ]
  },
  {
   "cell_type": "markdown",
   "metadata": {
    "kernel": "R"
   },
   "source": [
    "It seems atlasqtl somehow missed almost all signals? Let's see how M&M works"
   ]
  },
  {
   "cell_type": "code",
   "execution_count": 16,
   "metadata": {
    "kernel": "R"
   },
   "outputs": [
    {
     "data": {
      "text/html": [
       "<table>\n",
       "<thead><tr><th scope=col>pip</th><th scope=col>truth</th></tr></thead>\n",
       "<tbody>\n",
       "\t<tr><td>0</td><td>0</td></tr>\n",
       "\t<tr><td>0</td><td>0</td></tr>\n",
       "\t<tr><td>0</td><td>0</td></tr>\n",
       "\t<tr><td>0</td><td>0</td></tr>\n",
       "\t<tr><td>0</td><td>0</td></tr>\n",
       "\t<tr><td>0</td><td>0</td></tr>\n",
       "</tbody>\n",
       "</table>\n"
      ],
      "text/latex": [
       "\\begin{tabular}{ll}\n",
       " pip & truth\\\\\n",
       "\\hline\n",
       "\t 0 & 0\\\\\n",
       "\t 0 & 0\\\\\n",
       "\t 0 & 0\\\\\n",
       "\t 0 & 0\\\\\n",
       "\t 0 & 0\\\\\n",
       "\t 0 & 0\\\\\n",
       "\\end{tabular}\n"
      ],
      "text/markdown": [
       "\n",
       "pip | truth | \n",
       "|---|---|---|---|---|---|\n",
       "| 0 | 0 | \n",
       "| 0 | 0 | \n",
       "| 0 | 0 | \n",
       "| 0 | 0 | \n",
       "| 0 | 0 | \n",
       "| 0 | 0 | \n",
       "\n",
       "\n"
      ],
      "text/plain": [
       "     pip truth\n",
       "[1,] 0   0    \n",
       "[2,] 0   0    \n",
       "[3,] 0   0    \n",
       "[4,] 0   0    \n",
       "[5,] 0   0    \n",
       "[6,] 0   0    "
      ]
     },
     "metadata": {},
     "output_type": "display_data"
    }
   ],
   "source": [
    "head(dat$mnm_high_het)"
   ]
  },
  {
   "cell_type": "code",
   "execution_count": 25,
   "metadata": {
    "kernel": "R"
   },
   "outputs": [
    {
     "data": {
      "text/html": [
       "<table>\n",
       "<thead><tr><th scope=col>pip</th><th scope=col>truth</th></tr></thead>\n",
       "<tbody>\n",
       "\t<tr><td>0.9105833</td><td>1        </td></tr>\n",
       "\t<tr><td>0.9105833</td><td>1        </td></tr>\n",
       "\t<tr><td>0.9105833</td><td>1        </td></tr>\n",
       "\t<tr><td>0.9105833</td><td>1        </td></tr>\n",
       "\t<tr><td>0.9105833</td><td>1        </td></tr>\n",
       "\t<tr><td>0.9105833</td><td>1        </td></tr>\n",
       "</tbody>\n",
       "</table>\n"
      ],
      "text/latex": [
       "\\begin{tabular}{ll}\n",
       " pip & truth\\\\\n",
       "\\hline\n",
       "\t 0.9105833 & 1        \\\\\n",
       "\t 0.9105833 & 1        \\\\\n",
       "\t 0.9105833 & 1        \\\\\n",
       "\t 0.9105833 & 1        \\\\\n",
       "\t 0.9105833 & 1        \\\\\n",
       "\t 0.9105833 & 1        \\\\\n",
       "\\end{tabular}\n"
      ],
      "text/markdown": [
       "\n",
       "pip | truth | \n",
       "|---|---|---|---|---|---|\n",
       "| 0.9105833 | 1         | \n",
       "| 0.9105833 | 1         | \n",
       "| 0.9105833 | 1         | \n",
       "| 0.9105833 | 1         | \n",
       "| 0.9105833 | 1         | \n",
       "| 0.9105833 | 1         | \n",
       "\n",
       "\n"
      ],
      "text/plain": [
       "     pip       truth\n",
       "[1,] 0.9105833 1    \n",
       "[2,] 0.9105833 1    \n",
       "[3,] 0.9105833 1    \n",
       "[4,] 0.9105833 1    \n",
       "[5,] 0.9105833 1    \n",
       "[6,] 0.9105833 1    "
      ]
     },
     "metadata": {},
     "output_type": "display_data"
    }
   ],
   "source": [
    "head(dat$mnm_high_het[which(dat$mnm_high_het[,2]==1),])"
   ]
  },
  {
   "cell_type": "code",
   "execution_count": 26,
   "metadata": {
    "kernel": "R"
   },
   "outputs": [
    {
     "data": {
      "text/html": [
       "<dl class=dl-horizontal>\n",
       "\t<dt>pip</dt>\n",
       "\t\t<dd>18997.4584939351</dd>\n",
       "\t<dt>truth</dt>\n",
       "\t\t<dd>37150</dd>\n",
       "</dl>\n"
      ],
      "text/latex": [
       "\\begin{description*}\n",
       "\\item[pip] 18997.4584939351\n",
       "\\item[truth] 37150\n",
       "\\end{description*}\n"
      ],
      "text/markdown": [
       "pip\n",
       ":   18997.4584939351truth\n",
       ":   37150\n",
       "\n"
      ],
      "text/plain": [
       "     pip    truth \n",
       "18997.46 37150.00 "
      ]
     },
     "metadata": {},
     "output_type": "display_data"
    }
   ],
   "source": [
    "colSums(dat$mnm_high_het[which(dat$mnm_high_het[,2]==1),])"
   ]
  },
  {
   "cell_type": "markdown",
   "metadata": {
    "kernel": "R"
   },
   "source": [
    "This seems reasonable."
   ]
  },
  {
   "cell_type": "markdown",
   "metadata": {
    "kernel": "R"
   },
   "source": [
    "## Looking into issues with atlasqtl\n",
    "\n",
    "Take one run for example:"
   ]
  },
  {
   "cell_type": "code",
   "execution_count": 32,
   "metadata": {
    "kernel": "R"
   },
   "outputs": [
    {
     "data": {
      "text/html": [
       "<ol class=list-inline>\n",
       "\t<li>'beta_vb'</li>\n",
       "\t<li>'gam_vb'</li>\n",
       "\t<li>'theta_vb'</li>\n",
       "\t<li>'X_beta_vb'</li>\n",
       "\t<li>'zeta_vb'</li>\n",
       "\t<li>'converged'</li>\n",
       "\t<li>'it'</li>\n",
       "\t<li>'lb_opt'</li>\n",
       "\t<li>'diff_lb'</li>\n",
       "\t<li>'p0'</li>\n",
       "\t<li>'rmvd_coll_x'</li>\n",
       "\t<li>'pip'</li>\n",
       "</ol>\n"
      ],
      "text/latex": [
       "\\begin{enumerate*}\n",
       "\\item 'beta\\_vb'\n",
       "\\item 'gam\\_vb'\n",
       "\\item 'theta\\_vb'\n",
       "\\item 'X\\_beta\\_vb'\n",
       "\\item 'zeta\\_vb'\n",
       "\\item 'converged'\n",
       "\\item 'it'\n",
       "\\item 'lb\\_opt'\n",
       "\\item 'diff\\_lb'\n",
       "\\item 'p0'\n",
       "\\item 'rmvd\\_coll\\_x'\n",
       "\\item 'pip'\n",
       "\\end{enumerate*}\n"
      ],
      "text/markdown": [
       "1. 'beta_vb'\n",
       "2. 'gam_vb'\n",
       "3. 'theta_vb'\n",
       "4. 'X_beta_vb'\n",
       "5. 'zeta_vb'\n",
       "6. 'converged'\n",
       "7. 'it'\n",
       "8. 'lb_opt'\n",
       "9. 'diff_lb'\n",
       "10. 'p0'\n",
       "11. 'rmvd_coll_x'\n",
       "12. 'pip'\n",
       "\n",
       "\n"
      ],
      "text/plain": [
       " [1] \"beta_vb\"     \"gam_vb\"      \"theta_vb\"    \"X_beta_vb\"   \"zeta_vb\"    \n",
       " [6] \"converged\"   \"it\"          \"lb_opt\"      \"diff_lb\"     \"p0\"         \n",
       "[11] \"rmvd_coll_x\" \"pip\"        "
      ]
     },
     "metadata": {},
     "output_type": "display_data"
    }
   ],
   "source": [
    "dat = readRDS('atlasqtl/full_data_100_high_het_1_atlasqtl_1.rds')\n",
    "names(dat$result)"
   ]
  },
  {
   "cell_type": "code",
   "execution_count": 33,
   "metadata": {
    "kernel": "R"
   },
   "outputs": [
    {
     "data": {
      "text/html": [
       "<ol class=list-inline>\n",
       "\t<li>1479</li>\n",
       "\t<li>5</li>\n",
       "</ol>\n"
      ],
      "text/latex": [
       "\\begin{enumerate*}\n",
       "\\item 1479\n",
       "\\item 5\n",
       "\\end{enumerate*}\n"
      ],
      "text/markdown": [
       "1. 1479\n",
       "2. 5\n",
       "\n",
       "\n"
      ],
      "text/plain": [
       "[1] 1479    5"
      ]
     },
     "metadata": {},
     "output_type": "display_data"
    }
   ],
   "source": [
    "dim(dat$result$gam_vb)"
   ]
  },
  {
   "cell_type": "markdown",
   "metadata": {
    "kernel": "R"
   },
   "source": [
    "Now check the corresponding input file:"
   ]
  },
  {
   "cell_type": "code",
   "execution_count": 30,
   "metadata": {
    "kernel": "R"
   },
   "outputs": [
    {
     "data": {
      "text/html": [
       "<ol class=list-inline>\n",
       "\t<li>838</li>\n",
       "\t<li>2446</li>\n",
       "</ol>\n"
      ],
      "text/latex": [
       "\\begin{enumerate*}\n",
       "\\item 838\n",
       "\\item 2446\n",
       "\\end{enumerate*}\n"
      ],
      "text/markdown": [
       "1. 838\n",
       "2. 2446\n",
       "\n",
       "\n"
      ],
      "text/plain": [
       "[1]  838 2446"
      ]
     },
     "metadata": {},
     "output_type": "display_data"
    }
   ],
   "source": [
    "idat = readRDS('full_data/full_data_100.rds')\n",
    "dim(idat$X)"
   ]
  },
  {
   "cell_type": "markdown",
   "metadata": {
    "kernel": "R"
   },
   "source": [
    "There are 2466 variables in input, but only 1479 in output of `atlasqtl`! Let's run the code and see what happens:"
   ]
  },
  {
   "cell_type": "code",
   "execution_count": 34,
   "metadata": {
    "kernel": "R"
   },
   "outputs": [
    {
     "name": "stdout",
     "output_type": "stream",
     "text": [
      "## r script UUID: 97106506\n",
      "library(atlasqtl)\n",
      "DSC_22B90227 <- list()\n",
      "DSC_22B90227 <- dscrutils:::load_inputs(c('mnm_20200124/full_data/full_data_100.rds','mnm_20200124/high_het/full_data_100_high_het_1.pkl'), dscrutils:::read_dsc)\n",
      "DSC_REPLICATE <- DSC_22B90227$DSC_DEBUG$replicate\n",
      "X <- DSC_22B90227$X\n",
      "Y <- DSC_22B90227$Y\n",
      "meta <- DSC_22B90227$meta\n",
      "TIC_22B90227 <- proc.time()\n",
      "set.seed(DSC_REPLICATE)\n",
      "\n",
      "## BEGIN DSC CORE\n",
      "library(atlasqtl)\n",
      "pat = meta$true_coef != 0\n",
      "p0 = c(mean(colSums(pat)), 10)\n",
      "result = atlasqtl::atlasqtl(Y = Y, X = X, p0 = p0, user_seed = DSC_REPLICATE)\n",
      "result$pip = as.vector(1 - apply(1 - result$gam_vb, 1, prod))\n",
      "## END DSC CORE\n",
      "\n",
      "saveRDS(list(result=result, DSC_DEBUG=dscrutils:::save_session(TIC_22B90227, DSC_REPLICATE)), 'mnm_20200124/atlasqtl/full_data_100_high_het_1_atlasqtl_1.rds')\n",
      "\n",
      "\n"
     ]
    }
   ],
   "source": [
    "cat(dat$DSC_DEBUG$script)"
   ]
  },
  {
   "cell_type": "code",
   "execution_count": 35,
   "metadata": {
    "kernel": "R"
   },
   "outputs": [
    {
     "name": "stdout",
     "output_type": "stream",
     "text": [
      "\n",
      "======================= \n",
      "== PREPROCESSING ... == \n",
      "======================= \n",
      "\n",
      "== Checking the annealing schedule ... \n",
      "\n",
      "... done. == \n",
      "\n",
      "== Preparing the data ... \n",
      "\n",
      "Presence of collinear variables. 967 redundant.\n",
      "Removing corresponding columns and saving their ids in the function output ... \n",
      "... done. == \n",
      "\n",
      "== Preparing the hyperparameters ... \n",
      "\n",
      "list_hyper set automatically. \n",
      "... done. == \n",
      "\n",
      "== Preparing the parameter initialization ... \n",
      "\n",
      "Seed set to user_seed 1. \n",
      "list_init set automatically. \n",
      "... done. == \n",
      "\n",
      "**************************************************** \n",
      "Number of samples: 838\n",
      "Number of (non-redundant) candidate predictors: 1479\n",
      "Number of responses: 5\n",
      "**************************************************** \n",
      "\n",
      "======================================================= \n",
      "== ATLASQTL: fast global-local hotspot QTL detection == \n",
      "======================================================= \n",
      "\n",
      "** Annealing with geometric spacing ** \n",
      "\n",
      "Iteration 1... \n",
      "Temperature = 2\n",
      "\n",
      "Iteration 5... \n",
      "Temperature = 1.47\n",
      "\n",
      "** Exiting annealing mode. **\n",
      "\n",
      "Iteration 10... \n",
      "ELBO = -2230.541\n",
      "\n",
      "Iteration 50... \n",
      "ELBO = -1999.938\n",
      "\n",
      "Convergence obtained after 51 iterations. \n",
      "Optimal marginal log-likelihood variational lower bound (ELBO) = -1999.867. \n",
      "\n",
      "... done. == \n",
      "\n"
     ]
    }
   ],
   "source": [
    "library(atlasqtl)\n",
    "DSC_22B90227 <- list()\n",
    "DSC_22B90227 <- dscrutils:::load_inputs(c('full_data/full_data_100.rds','high_het/full_data_100_high_het_1.pkl'), dscrutils:::read_dsc)\n",
    "DSC_REPLICATE <- DSC_22B90227$DSC_DEBUG$replicate\n",
    "X <- DSC_22B90227$X\n",
    "Y <- DSC_22B90227$Y\n",
    "meta <- DSC_22B90227$meta\n",
    "TIC_22B90227 <- proc.time()\n",
    "set.seed(DSC_REPLICATE)\n",
    "\n",
    "## BEGIN DSC CORE\n",
    "library(atlasqtl)\n",
    "pat = meta$true_coef != 0\n",
    "p0 = c(mean(colSums(pat)), 10)\n",
    "result = atlasqtl::atlasqtl(Y = Y, X = X, p0 = p0, user_seed = DSC_REPLICATE)"
   ]
  },
  {
   "cell_type": "markdown",
   "metadata": {
    "kernel": "R"
   },
   "source": [
    "And here is the problem:\n",
    "\n",
    "```\n",
    "== Preparing the data ... \n",
    "\n",
    "Presence of collinear variables. 967 redundant.\n",
    "Removing corresponding columns and saving their ids in the function output ... \n",
    "... done. == \n",
    "```\n",
    "\n",
    "967 redundant variables removed plus 1479 remaining is 2446 variables.\n",
    "\n",
    "**For results to be comparable we'll have to either preprocess input removing these collinear variables before we run M&M, or somehow (perhaps impossible?) post process the PIPs from atlasqtl to recover the actual expected PIP**. Or, we contact the authors to clarify it ..."
   ]
  },
  {
   "cell_type": "markdown",
   "metadata": {
    "kernel": "R"
   },
   "source": [
    "Documentation for `atlasqtl`:"
   ]
  },
  {
   "cell_type": "code",
   "execution_count": 36,
   "metadata": {
    "kernel": "R"
   },
   "outputs": [
    {
     "data": {
      "text/html": [
       "\n",
       "<table width=\"100%\" summary=\"page for atlasqtl {atlasqtl}\"><tr><td>atlasqtl {atlasqtl}</td><td style=\"text-align: right;\">R Documentation</td></tr></table>\n",
       "\n",
       "<h2>Fit a flexible hierarchical model for hotspot detection using annealed \n",
       "variational inference.</h2>\n",
       "\n",
       "<h3>Description</h3>\n",
       "\n",
       "<p>Fit a flexible hierarchical model for hotspot detection using annealed \n",
       "variational inference.\n",
       "</p>\n",
       "\n",
       "\n",
       "<h3>Usage</h3>\n",
       "\n",
       "<pre>\n",
       "atlasqtl(Y, X, p0, anneal = c(1, 2, 10), tol = 0.1, maxit = 1000,\n",
       "  user_seed = NULL, verbose = 1, list_hyper = NULL,\n",
       "  list_init = NULL, save_hyper = FALSE, save_init = FALSE,\n",
       "  full_output = FALSE, thinned_elbo_eval = TRUE,\n",
       "  checkpoint_path = NULL, trace_path = NULL)\n",
       "</pre>\n",
       "\n",
       "\n",
       "<h3>Arguments</h3>\n",
       "\n",
       "<table summary=\"R argblock\">\n",
       "<tr valign=\"top\"><td><code>Y</code></td>\n",
       "<td>\n",
       "<p>Response data matrix of dimension n x q, where n is the number of\n",
       "samples and q is the number of response variables.</p>\n",
       "</td></tr>\n",
       "<tr valign=\"top\"><td><code>X</code></td>\n",
       "<td>\n",
       "<p>Input matrix of dimension n x p, where p is the number of candidate\n",
       "predictors. <code>X</code> cannot contain NAs. No intercept must be supplied.</p>\n",
       "</td></tr>\n",
       "<tr valign=\"top\"><td><code>p0</code></td>\n",
       "<td>\n",
       "<p>Vector of size 2 whose entries are the prior expectation and \n",
       "variance of the number of predictors associated with each response.\n",
       "Must be <code>NULL</code> if <code>list_init</code> and <code>list_hyper</code> are both \n",
       "non-<code>NULL</code>.</p>\n",
       "</td></tr>\n",
       "<tr valign=\"top\"><td><code>anneal</code></td>\n",
       "<td>\n",
       "<p>Parameters for annealing scheme. Must be a vector whose first\n",
       "entry is the type of schedule: 1 = geometric spacing (default), \n",
       "2 = harmonic spacing or 3 = linear spacing, the second entry is the initial \n",
       "temperature (default is 2), and the third entry is the temperature grid \n",
       "size (default is 10). If <code>NULL</code>, no annealing is performed.</p>\n",
       "</td></tr>\n",
       "<tr valign=\"top\"><td><code>tol</code></td>\n",
       "<td>\n",
       "<p>Tolerance for the stopping criterion (default is 0.1).</p>\n",
       "</td></tr>\n",
       "<tr valign=\"top\"><td><code>maxit</code></td>\n",
       "<td>\n",
       "<p>Maximum number of iterations allowed (default is 1000).</p>\n",
       "</td></tr>\n",
       "<tr valign=\"top\"><td><code>user_seed</code></td>\n",
       "<td>\n",
       "<p>Seed set for reproducible default choices of hyperparameters\n",
       "(if <code>list_hyper</code> is <code>NULL</code>) and initial variational parameters\n",
       "(if <code>list_init</code> is <code>NULL</code>). Default is <code>NULL</code>, no\n",
       "seed set.</p>\n",
       "</td></tr>\n",
       "<tr valign=\"top\"><td><code>verbose</code></td>\n",
       "<td>\n",
       "<p>Integer specifying the level of verbosity during execution: 0, \n",
       "for no message, 1 for standard verbosity (default), 2 for detailed \n",
       "verbosity.</p>\n",
       "</td></tr>\n",
       "<tr valign=\"top\"><td><code>list_hyper</code></td>\n",
       "<td>\n",
       "<p>An object of class &quot;<code>hyper</code>&quot; containing the model\n",
       "hyperparameters. Must be specified using the <code>set_hyper</code>\n",
       "function or set to <code>NULL</code> for default hyperparameters.</p>\n",
       "</td></tr>\n",
       "<tr valign=\"top\"><td><code>list_init</code></td>\n",
       "<td>\n",
       "<p>An object of class &quot;<code>init</code>&quot; containing the initial\n",
       "variational parameters. Must be specified using the <code>set_init</code> \n",
       "function or set to <code>NULL</code> for a default initialization.</p>\n",
       "</td></tr>\n",
       "<tr valign=\"top\"><td><code>save_hyper</code></td>\n",
       "<td>\n",
       "<p>If <code>TRUE</code>, the hyperparameters used for the model are\n",
       "returned.</p>\n",
       "</td></tr>\n",
       "<tr valign=\"top\"><td><code>save_init</code></td>\n",
       "<td>\n",
       "<p>If <code>TRUE</code>, the initial variational parameters used for\n",
       "the inference are returned (note that the size of the resulting objects is\n",
       "likely to be large). Default is <code>FALSE</code>.</p>\n",
       "</td></tr>\n",
       "<tr valign=\"top\"><td><code>full_output</code></td>\n",
       "<td>\n",
       "<p>If <code>TRUE</code>, the inferred variational parameters for \n",
       "all parameters are returned.</p>\n",
       "</td></tr>\n",
       "<tr valign=\"top\"><td><code>thinned_elbo_eval</code></td>\n",
       "<td>\n",
       "<p>If <code>TRUE</code>, the convergence criterion \n",
       "(variational lower bound on the marginal log-likelihood, or ELBO) is not \n",
       "evaluated at each iteration, in order to save computational resources, but \n",
       "after a given batch of iterations where the batch size is set in an \n",
       "adaptive fashion accounting for the number of iterations roughly expected \n",
       "until convergence.</p>\n",
       "</td></tr>\n",
       "<tr valign=\"top\"><td><code>checkpoint_path</code></td>\n",
       "<td>\n",
       "<p>Path where to save temporary checkpoint outputs. \n",
       "Default is <code>NULL</code>, for no checkpointing.</p>\n",
       "</td></tr>\n",
       "<tr valign=\"top\"><td><code>trace_path</code></td>\n",
       "<td>\n",
       "<p>Path where to save trace plot for the variance of hotspot\n",
       "propensities. Default is <code>NULL</code>, for no trace saved.</p>\n",
       "</td></tr>\n",
       "</table>\n",
       "\n",
       "\n",
       "<h3>Details</h3>\n",
       "\n",
       "<p><code>atlasqtl</code> implements a flexible hierarchical regression \n",
       "framework that allows information-sharing across responses and predictors, \n",
       "thereby enhancing the detection of weak effects. <code>atlasqtl</code> is \n",
       "tailored to the detection of hotspot predictors, i.e., predictors \n",
       "associated with many responses: it is based on a fully Bayesian model \n",
       "whereby the hotspot propensity is modelled using the horseshoe shrinkage \n",
       "prior: its global-local formulation shrinks noise globally and hence can \n",
       "accommodate highly sparse settings, while being robust to individual \n",
       "signals, thus leaving the effects of hotspots unshrunk. Inference is \n",
       "carried out using a scalable variational algorithm coupled with a novel \n",
       "simulated annealing procedure, which is applicable to large dimensions, \n",
       "i.e., thousands of response variables, and allows efficient exploration of \n",
       "multimodal distributions.\n",
       "</p>\n",
       "<p>The columns of the response matrix <code>Y</code> are centered within the \n",
       "<code>atlasqtl</code> call, and the columns of the candidate predictor matrix \n",
       "<code>X</code> are standardized.\n",
       "</p>\n",
       "\n",
       "\n",
       "<h3>Value</h3>\n",
       "\n",
       "<p>An object of class &quot;<code>atlasqtl</code>&quot; containing the following \n",
       "variational estimates and settings:\n",
       "</p>\n",
       "<table summary=\"R valueblock\">\n",
       "<tr valign=\"top\"><td><code>beta_vb</code></td>\n",
       "<td>\n",
       "<p>Estimated effect size matrix of dimension p x q. Entry (s, t) \n",
       "corresponds to the variational posterior mean \n",
       "(mu_beta_vb_st x gam_vb_st) of the regression effect between \n",
       "candidate predictor s and response t.</p>\n",
       "</td></tr>\n",
       "<tr valign=\"top\"><td><code>gam_vb</code></td>\n",
       "<td>\n",
       "<p>Posterior inclusion probability matrix of dimension p x q.\n",
       "Entry (s, t) corresponds to the variational posterior \n",
       "probability of association between candidate predictor s \n",
       "and response t.</p>\n",
       "</td></tr>\n",
       "<tr valign=\"top\"><td><code>theta_vb</code></td>\n",
       "<td>\n",
       "<p>Vector of length p containing the variational posterior \n",
       "mean of the hotspot propensity. Entry s corresponds to the \n",
       "propensity of candidate predictor s to be associated with \n",
       "many responses.</p>\n",
       "</td></tr>\n",
       "<tr valign=\"top\"><td><code>X_beta_vb</code></td>\n",
       "<td>\n",
       "<p>Matrix of dimension n x q equal to the matrix product \n",
       "X beta_vb, where X is the rescaled predictor matrix with \n",
       "possible collinear predictor(s) excluded.</p>\n",
       "</td></tr>\n",
       "<tr valign=\"top\"><td><code>zeta_vb</code></td>\n",
       "<td>\n",
       "<p>Vector of length q containing the variational posterior \n",
       "mean of the response importance. Entry t corresponds to the \n",
       "propensity of response t have associated predictors.</p>\n",
       "</td></tr>\n",
       "<tr valign=\"top\"><td><code>converged</code></td>\n",
       "<td>\n",
       "<p>A boolean indicating whether the algorithm has converged\n",
       "before reaching <code>maxit</code> iterations.</p>\n",
       "</td></tr>\n",
       "<tr valign=\"top\"><td><code>it</code></td>\n",
       "<td>\n",
       "<p>Final number of iterations.</p>\n",
       "</td></tr>\n",
       "<tr valign=\"top\"><td><code>lb_opt</code></td>\n",
       "<td>\n",
       "<p>Optimized variational lower bound (ELBO) on the marginal\n",
       "log-likelihood.</p>\n",
       "</td></tr>\n",
       "<tr valign=\"top\"><td><code>diff_lb</code></td>\n",
       "<td>\n",
       "<p>Difference in ELBO between the last and penultimate\n",
       "iterations (to be used as a convergence diagnostic when \n",
       "<code>maxit</code> has been reached).</p>\n",
       "</td></tr>\n",
       "<tr valign=\"top\"><td><code>rmvd_cst_x</code></td>\n",
       "<td>\n",
       "<p>Vectors containing the indices of constant variables in \n",
       "<code>X</code> removed prior to the analysis.</p>\n",
       "</td></tr>\n",
       "<tr valign=\"top\"><td><code>rmvd_coll_x</code></td>\n",
       "<td>\n",
       "<p>Vectors containing the indices of variables in <code>X</code> \n",
       "removed prior to the analysis because collinear to other\n",
       "variables. The entry name indicates the corresponding \n",
       "variable kept in the analysis.</p>\n",
       "</td></tr>\n",
       "<tr valign=\"top\"><td><code>list_hyper, list_init</code></td>\n",
       "<td>\n",
       "<p>If <code>save_hyper</code>, resp. <code>save_init</code>,\n",
       "are <code>TRUE</code>, the hyperparameters, resp. \n",
       "initial variational parameters, used for \n",
       "inference are saved as output.</p>\n",
       "</td></tr>\n",
       "<tr valign=\"top\"><td><code>...</code></td>\n",
       "<td>\n",
       "<p>If <code>full_output</code> is <code>TRUE</code> all inferred variational \n",
       "parameters are returned.</p>\n",
       "</td></tr>\n",
       "</table>\n",
       "\n",
       "\n",
       "<h3>References</h3>\n",
       "\n",
       "<p>Helene Ruffieux, Anthony C. Davison, Jorg Hager, Jamie Inshaw, Benjamin P. \n",
       "Fairfax, Sylvia Richardson, Leonardo Bottolo, A global-local approach for \n",
       "detecting hotspots in multiple-response regression, arXiv:1811.03334, 2018.\n",
       "</p>\n",
       "\n",
       "\n",
       "<h3>See Also</h3>\n",
       "\n",
       "<p><code>set_hyper</code>, <code>set_init</code>.\n",
       "</p>\n",
       "\n",
       "\n",
       "<h3>Examples</h3>\n",
       "\n",
       "<pre>\n",
       "seed &lt;- 123; set.seed(seed)\n",
       "\n",
       "###################\n",
       "## Simulate data ##\n",
       "###################\n",
       "\n",
       "# Example with small problem sizes:\n",
       "#\n",
       "n &lt;- 200; p &lt;- 50; p_act &lt;- 10; q &lt;- 100; q_act &lt;- 50\n",
       "\n",
       "# Candidate predictors (subject to selection)\n",
       "#\n",
       "# Here example with common genetic variants under Hardy-Weinberg equilibrium\n",
       "#\n",
       "X_act &lt;- matrix(rbinom(n * p_act, size = 2, p = 0.25), nrow = n)\n",
       "X_inact &lt;- matrix(rbinom(n * (p - p_act), size = 2, p = 0.25), nrow = n)\n",
       "\n",
       "# shuffle indices \n",
       "shuff_x_ind &lt;- sample(p)\n",
       "shuff_y_ind &lt;- sample(q)\n",
       "\n",
       "X &lt;- cbind(X_act, X_inact)[, shuff_x_ind]\n",
       "\n",
       "# Association pattern and effect sizes\n",
       "#\n",
       "pat &lt;- matrix(FALSE, ncol = q, nrow = p)\n",
       "bool_x &lt;- shuff_x_ind &lt;= p_act\n",
       "bool_y &lt;- shuff_y_ind &lt;= q_act\n",
       "\n",
       "pat_act &lt;- beta_act &lt;- matrix(0, nrow = p_act, ncol = q_act)\n",
       "pat_act[sample(p_act * q_act, floor(p_act * q_act / 5))] &lt;- 1\n",
       "beta_act[as.logical(pat_act)] &lt;-  rnorm(sum(pat_act))\n",
       "\n",
       "pat[bool_x, bool_y] &lt;- pat_act\n",
       "\n",
       "# Gaussian responses\n",
       "#\n",
       "Y_act &lt;- matrix(rnorm(n * q_act, mean = X_act %*% beta_act), nrow = n)\n",
       "Y_inact &lt;- matrix(rnorm(n * (q - q_act)), nrow = n)\n",
       "\n",
       "Y &lt;- cbind(Y_act, Y_inact)[, shuff_y_ind]\n",
       "\n",
       "########################\n",
       "## Infer associations ##\n",
       "########################\n",
       "\n",
       "# Expectation and variance for the prior number of predictors associated with\n",
       "# each response\n",
       "#\n",
       "p0 &lt;- c(mean(colSums(pat)), 10)\n",
       "\n",
       "res_atlas &lt;- atlasqtl(Y = Y, X = X, p0 = p0, user_seed = seed)\n",
       "\n",
       "</pre>\n",
       "\n",
       "<hr /><div style=\"text-align: center;\">[Package <em>atlasqtl</em> version 0.1.3 ]</div>"
      ],
      "text/latex": [
       "\\inputencoding{utf8}\n",
       "\\HeaderA{atlasqtl}{Fit a flexible hierarchical model for hotspot detection using annealed  variational inference.}{atlasqtl}\n",
       "%\n",
       "\\begin{Description}\\relax\n",
       "Fit a flexible hierarchical model for hotspot detection using annealed \n",
       "variational inference.\n",
       "\\end{Description}\n",
       "%\n",
       "\\begin{Usage}\n",
       "\\begin{verbatim}\n",
       "atlasqtl(Y, X, p0, anneal = c(1, 2, 10), tol = 0.1, maxit = 1000,\n",
       "  user_seed = NULL, verbose = 1, list_hyper = NULL,\n",
       "  list_init = NULL, save_hyper = FALSE, save_init = FALSE,\n",
       "  full_output = FALSE, thinned_elbo_eval = TRUE,\n",
       "  checkpoint_path = NULL, trace_path = NULL)\n",
       "\\end{verbatim}\n",
       "\\end{Usage}\n",
       "%\n",
       "\\begin{Arguments}\n",
       "\\begin{ldescription}\n",
       "\\item[\\code{Y}] Response data matrix of dimension n x q, where n is the number of\n",
       "samples and q is the number of response variables.\n",
       "\n",
       "\\item[\\code{X}] Input matrix of dimension n x p, where p is the number of candidate\n",
       "predictors. \\code{X} cannot contain NAs. No intercept must be supplied.\n",
       "\n",
       "\\item[\\code{p0}] Vector of size 2 whose entries are the prior expectation and \n",
       "variance of the number of predictors associated with each response.\n",
       "Must be \\code{NULL} if \\code{list\\_init} and \\code{list\\_hyper} are both \n",
       "non-\\code{NULL}.\n",
       "\n",
       "\\item[\\code{anneal}] Parameters for annealing scheme. Must be a vector whose first\n",
       "entry is the type of schedule: 1 = geometric spacing (default), \n",
       "2 = harmonic spacing or 3 = linear spacing, the second entry is the initial \n",
       "temperature (default is 2), and the third entry is the temperature grid \n",
       "size (default is 10). If \\code{NULL}, no annealing is performed.\n",
       "\n",
       "\\item[\\code{tol}] Tolerance for the stopping criterion (default is 0.1).\n",
       "\n",
       "\\item[\\code{maxit}] Maximum number of iterations allowed (default is 1000).\n",
       "\n",
       "\\item[\\code{user\\_seed}] Seed set for reproducible default choices of hyperparameters\n",
       "(if \\code{list\\_hyper} is \\code{NULL}) and initial variational parameters\n",
       "(if \\code{list\\_init} is \\code{NULL}). Default is \\code{NULL}, no\n",
       "seed set.\n",
       "\n",
       "\\item[\\code{verbose}] Integer specifying the level of verbosity during execution: 0, \n",
       "for no message, 1 for standard verbosity (default), 2 for detailed \n",
       "verbosity.\n",
       "\n",
       "\\item[\\code{list\\_hyper}] An object of class \"\\code{hyper}\" containing the model\n",
       "hyperparameters. Must be specified using the \\code{\\LinkA{set\\_hyper}{set.Rul.hyper}}\n",
       "function or set to \\code{NULL} for default hyperparameters.\n",
       "\n",
       "\\item[\\code{list\\_init}] An object of class \"\\code{init}\" containing the initial\n",
       "variational parameters. Must be specified using the \\code{\\LinkA{set\\_init}{set.Rul.init}} \n",
       "function or set to \\code{NULL} for a default initialization.\n",
       "\n",
       "\\item[\\code{save\\_hyper}] If \\code{TRUE}, the hyperparameters used for the model are\n",
       "returned.\n",
       "\n",
       "\\item[\\code{save\\_init}] If \\code{TRUE}, the initial variational parameters used for\n",
       "the inference are returned (note that the size of the resulting objects is\n",
       "likely to be large). Default is \\code{FALSE}.\n",
       "\n",
       "\\item[\\code{full\\_output}] If \\code{TRUE}, the inferred variational parameters for \n",
       "all parameters are returned.\n",
       "\n",
       "\\item[\\code{thinned\\_elbo\\_eval}] If \\code{TRUE}, the convergence criterion \n",
       "(variational lower bound on the marginal log-likelihood, or ELBO) is not \n",
       "evaluated at each iteration, in order to save computational resources, but \n",
       "after a given batch of iterations where the batch size is set in an \n",
       "adaptive fashion accounting for the number of iterations roughly expected \n",
       "until convergence.\n",
       "\n",
       "\\item[\\code{checkpoint\\_path}] Path where to save temporary checkpoint outputs. \n",
       "Default is \\code{NULL}, for no checkpointing.\n",
       "\n",
       "\\item[\\code{trace\\_path}] Path where to save trace plot for the variance of hotspot\n",
       "propensities. Default is \\code{NULL}, for no trace saved.\n",
       "\\end{ldescription}\n",
       "\\end{Arguments}\n",
       "%\n",
       "\\begin{Details}\\relax\n",
       "\\code{atlasqtl} implements a flexible hierarchical regression \n",
       "framework that allows information-sharing across responses and predictors, \n",
       "thereby enhancing the detection of weak effects. \\code{atlasqtl} is \n",
       "tailored to the detection of hotspot predictors, i.e., predictors \n",
       "associated with many responses: it is based on a fully Bayesian model \n",
       "whereby the hotspot propensity is modelled using the horseshoe shrinkage \n",
       "prior: its global-local formulation shrinks noise globally and hence can \n",
       "accommodate highly sparse settings, while being robust to individual \n",
       "signals, thus leaving the effects of hotspots unshrunk. Inference is \n",
       "carried out using a scalable variational algorithm coupled with a novel \n",
       "simulated annealing procedure, which is applicable to large dimensions, \n",
       "i.e., thousands of response variables, and allows efficient exploration of \n",
       "multimodal distributions.\n",
       "\n",
       "The columns of the response matrix \\code{Y} are centered within the \n",
       "\\code{atlasqtl} call, and the columns of the candidate predictor matrix \n",
       "\\code{X} are standardized.\n",
       "\\end{Details}\n",
       "%\n",
       "\\begin{Value}\n",
       "An object of class \"\\code{atlasqtl}\" containing the following \n",
       "variational estimates and settings:\n",
       "\\begin{ldescription}\n",
       "\\item[\\code{beta\\_vb}] Estimated effect size matrix of dimension p x q. Entry (s, t) \n",
       "corresponds to the variational posterior mean \n",
       "(mu\\_beta\\_vb\\_st x gam\\_vb\\_st) of the regression effect between \n",
       "candidate predictor s and response t.\n",
       "\\item[\\code{gam\\_vb}] Posterior inclusion probability matrix of dimension p x q.\n",
       "Entry (s, t) corresponds to the variational posterior \n",
       "probability of association between candidate predictor s \n",
       "and response t.\n",
       "\\item[\\code{theta\\_vb}] Vector of length p containing the variational posterior \n",
       "mean of the hotspot propensity. Entry s corresponds to the \n",
       "propensity of candidate predictor s to be associated with \n",
       "many responses.\n",
       "\\item[\\code{X\\_beta\\_vb}] Matrix of dimension n x q equal to the matrix product \n",
       "X beta\\_vb, where X is the rescaled predictor matrix with \n",
       "possible collinear predictor(s) excluded.\n",
       "\\item[\\code{zeta\\_vb}] Vector of length q containing the variational posterior \n",
       "mean of the response importance. Entry t corresponds to the \n",
       "propensity of response t have associated predictors.\n",
       "\\item[\\code{converged}] A boolean indicating whether the algorithm has converged\n",
       "before reaching \\code{maxit} iterations.\n",
       "\\item[\\code{it}] Final number of iterations.\n",
       "\\item[\\code{lb\\_opt}] Optimized variational lower bound (ELBO) on the marginal\n",
       "log-likelihood.\n",
       "\\item[\\code{diff\\_lb}] Difference in ELBO between the last and penultimate\n",
       "iterations (to be used as a convergence diagnostic when \n",
       "\\code{maxit} has been reached).\n",
       "\\item[\\code{rmvd\\_cst\\_x}] Vectors containing the indices of constant variables in \n",
       "\\code{X} removed prior to the analysis.\n",
       "\\item[\\code{rmvd\\_coll\\_x}] Vectors containing the indices of variables in \\code{X} \n",
       "removed prior to the analysis because collinear to other\n",
       "variables. The entry name indicates the corresponding \n",
       "variable kept in the analysis.\n",
       "\\item[\\code{list\\_hyper, list\\_init}] If \\code{save\\_hyper}, resp. \\code{save\\_init},\n",
       "are \\code{TRUE}, the hyperparameters, resp. \n",
       "initial variational parameters, used for \n",
       "inference are saved as output.\n",
       "\\item[\\code{...}] If \\code{full\\_output} is \\code{TRUE} all inferred variational \n",
       "parameters are returned.\n",
       "\\end{ldescription}\n",
       "\\end{Value}\n",
       "%\n",
       "\\begin{References}\\relax\n",
       "Helene Ruffieux, Anthony C. Davison, Jorg Hager, Jamie Inshaw, Benjamin P. \n",
       "Fairfax, Sylvia Richardson, Leonardo Bottolo, A global-local approach for \n",
       "detecting hotspots in multiple-response regression, arXiv:1811.03334, 2018.\n",
       "\\end{References}\n",
       "%\n",
       "\\begin{SeeAlso}\\relax\n",
       "\\code{\\LinkA{set\\_hyper}{set.Rul.hyper}}, \\code{\\LinkA{set\\_init}{set.Rul.init}}.\n",
       "\\end{SeeAlso}\n",
       "%\n",
       "\\begin{Examples}\n",
       "\\begin{ExampleCode}\n",
       "seed <- 123; set.seed(seed)\n",
       "\n",
       "###################\n",
       "## Simulate data ##\n",
       "###################\n",
       "\n",
       "# Example with small problem sizes:\n",
       "#\n",
       "n <- 200; p <- 50; p_act <- 10; q <- 100; q_act <- 50\n",
       "\n",
       "# Candidate predictors (subject to selection)\n",
       "#\n",
       "# Here example with common genetic variants under Hardy-Weinberg equilibrium\n",
       "#\n",
       "X_act <- matrix(rbinom(n * p_act, size = 2, p = 0.25), nrow = n)\n",
       "X_inact <- matrix(rbinom(n * (p - p_act), size = 2, p = 0.25), nrow = n)\n",
       "\n",
       "# shuffle indices \n",
       "shuff_x_ind <- sample(p)\n",
       "shuff_y_ind <- sample(q)\n",
       "\n",
       "X <- cbind(X_act, X_inact)[, shuff_x_ind]\n",
       "\n",
       "# Association pattern and effect sizes\n",
       "#\n",
       "pat <- matrix(FALSE, ncol = q, nrow = p)\n",
       "bool_x <- shuff_x_ind <= p_act\n",
       "bool_y <- shuff_y_ind <= q_act\n",
       "\n",
       "pat_act <- beta_act <- matrix(0, nrow = p_act, ncol = q_act)\n",
       "pat_act[sample(p_act * q_act, floor(p_act * q_act / 5))] <- 1\n",
       "beta_act[as.logical(pat_act)] <-  rnorm(sum(pat_act))\n",
       "\n",
       "pat[bool_x, bool_y] <- pat_act\n",
       "\n",
       "# Gaussian responses\n",
       "#\n",
       "Y_act <- matrix(rnorm(n * q_act, mean = X_act %*% beta_act), nrow = n)\n",
       "Y_inact <- matrix(rnorm(n * (q - q_act)), nrow = n)\n",
       "\n",
       "Y <- cbind(Y_act, Y_inact)[, shuff_y_ind]\n",
       "\n",
       "########################\n",
       "## Infer associations ##\n",
       "########################\n",
       "\n",
       "# Expectation and variance for the prior number of predictors associated with\n",
       "# each response\n",
       "#\n",
       "p0 <- c(mean(colSums(pat)), 10)\n",
       "\n",
       "res_atlas <- atlasqtl(Y = Y, X = X, p0 = p0, user_seed = seed)\n",
       "\n",
       "\\end{ExampleCode}\n",
       "\\end{Examples}"
      ],
      "text/plain": [
       "atlasqtl               package:atlasqtl                R Documentation\n",
       "\n",
       "_\bF_\bi_\bt _\ba _\bf_\bl_\be_\bx_\bi_\bb_\bl_\be _\bh_\bi_\be_\br_\ba_\br_\bc_\bh_\bi_\bc_\ba_\bl _\bm_\bo_\bd_\be_\bl _\bf_\bo_\br _\bh_\bo_\bt_\bs_\bp_\bo_\bt _\bd_\be_\bt_\be_\bc_\bt_\bi_\bo_\bn _\bu_\bs_\bi_\bn_\bg _\ba_\bn_\bn_\be_\ba_\bl_\be_\bd\n",
       "_\bv_\ba_\br_\bi_\ba_\bt_\bi_\bo_\bn_\ba_\bl _\bi_\bn_\bf_\be_\br_\be_\bn_\bc_\be.\n",
       "\n",
       "_\bD_\be_\bs_\bc_\br_\bi_\bp_\bt_\bi_\bo_\bn:\n",
       "\n",
       "     Fit a flexible hierarchical model for hotspot detection using\n",
       "     annealed variational inference.\n",
       "\n",
       "_\bU_\bs_\ba_\bg_\be:\n",
       "\n",
       "     atlasqtl(Y, X, p0, anneal = c(1, 2, 10), tol = 0.1, maxit = 1000,\n",
       "       user_seed = NULL, verbose = 1, list_hyper = NULL,\n",
       "       list_init = NULL, save_hyper = FALSE, save_init = FALSE,\n",
       "       full_output = FALSE, thinned_elbo_eval = TRUE,\n",
       "       checkpoint_path = NULL, trace_path = NULL)\n",
       "     \n",
       "_\bA_\br_\bg_\bu_\bm_\be_\bn_\bt_\bs:\n",
       "\n",
       "       Y: Response data matrix of dimension n x q, where n is the\n",
       "          number of samples and q is the number of response variables.\n",
       "\n",
       "       X: Input matrix of dimension n x p, where p is the number of\n",
       "          candidate predictors. ‘X’ cannot contain NAs. No intercept\n",
       "          must be supplied.\n",
       "\n",
       "      p0: Vector of size 2 whose entries are the prior expectation and\n",
       "          variance of the number of predictors associated with each\n",
       "          response. Must be ‘NULL’ if ‘list_init’ and ‘list_hyper’ are\n",
       "          both non-‘NULL’.\n",
       "\n",
       "  anneal: Parameters for annealing scheme. Must be a vector whose first\n",
       "          entry is the type of schedule: 1 = geometric spacing\n",
       "          (default), 2 = harmonic spacing or 3 = linear spacing, the\n",
       "          second entry is the initial temperature (default is 2), and\n",
       "          the third entry is the temperature grid size (default is 10).\n",
       "          If ‘NULL’, no annealing is performed.\n",
       "\n",
       "     tol: Tolerance for the stopping criterion (default is 0.1).\n",
       "\n",
       "   maxit: Maximum number of iterations allowed (default is 1000).\n",
       "\n",
       "user_seed: Seed set for reproducible default choices of hyperparameters\n",
       "          (if ‘list_hyper’ is ‘NULL’) and initial variational\n",
       "          parameters (if ‘list_init’ is ‘NULL’). Default is ‘NULL’, no\n",
       "          seed set.\n",
       "\n",
       " verbose: Integer specifying the level of verbosity during execution:\n",
       "          0, for no message, 1 for standard verbosity (default), 2 for\n",
       "          detailed verbosity.\n",
       "\n",
       "list_hyper: An object of class \"‘hyper’\" containing the model\n",
       "          hyperparameters. Must be specified using the ‘set_hyper’\n",
       "          function or set to ‘NULL’ for default hyperparameters.\n",
       "\n",
       "list_init: An object of class \"‘init’\" containing the initial\n",
       "          variational parameters. Must be specified using the\n",
       "          ‘set_init’ function or set to ‘NULL’ for a default\n",
       "          initialization.\n",
       "\n",
       "save_hyper: If ‘TRUE’, the hyperparameters used for the model are\n",
       "          returned.\n",
       "\n",
       "save_init: If ‘TRUE’, the initial variational parameters used for the\n",
       "          inference are returned (note that the size of the resulting\n",
       "          objects is likely to be large). Default is ‘FALSE’.\n",
       "\n",
       "full_output: If ‘TRUE’, the inferred variational parameters for all\n",
       "          parameters are returned.\n",
       "\n",
       "thinned_elbo_eval: If ‘TRUE’, the convergence criterion (variational\n",
       "          lower bound on the marginal log-likelihood, or ELBO) is not\n",
       "          evaluated at each iteration, in order to save computational\n",
       "          resources, but after a given batch of iterations where the\n",
       "          batch size is set in an adaptive fashion accounting for the\n",
       "          number of iterations roughly expected until convergence.\n",
       "\n",
       "checkpoint_path: Path where to save temporary checkpoint outputs.\n",
       "          Default is ‘NULL’, for no checkpointing.\n",
       "\n",
       "trace_path: Path where to save trace plot for the variance of hotspot\n",
       "          propensities. Default is ‘NULL’, for no trace saved.\n",
       "\n",
       "_\bD_\be_\bt_\ba_\bi_\bl_\bs:\n",
       "\n",
       "     ‘atlasqtl’ implements a flexible hierarchical regression framework\n",
       "     that allows information-sharing across responses and predictors,\n",
       "     thereby enhancing the detection of weak effects. ‘atlasqtl’ is\n",
       "     tailored to the detection of hotspot predictors, i.e., predictors\n",
       "     associated with many responses: it is based on a fully Bayesian\n",
       "     model whereby the hotspot propensity is modelled using the\n",
       "     horseshoe shrinkage prior: its global-local formulation shrinks\n",
       "     noise globally and hence can accommodate highly sparse settings,\n",
       "     while being robust to individual signals, thus leaving the effects\n",
       "     of hotspots unshrunk. Inference is carried out using a scalable\n",
       "     variational algorithm coupled with a novel simulated annealing\n",
       "     procedure, which is applicable to large dimensions, i.e.,\n",
       "     thousands of response variables, and allows efficient exploration\n",
       "     of multimodal distributions.\n",
       "\n",
       "     The columns of the response matrix ‘Y’ are centered within the\n",
       "     ‘atlasqtl’ call, and the columns of the candidate predictor matrix\n",
       "     ‘X’ are standardized.\n",
       "\n",
       "_\bV_\ba_\bl_\bu_\be:\n",
       "\n",
       "     An object of class \"‘atlasqtl’\" containing the following\n",
       "     variational estimates and settings:\n",
       "\n",
       " beta_vb: Estimated effect size matrix of dimension p x q. Entry (s, t)\n",
       "          corresponds to the variational posterior mean (mu_beta_vb_st\n",
       "          x gam_vb_st) of the regression effect between candidate\n",
       "          predictor s and response t.\n",
       "\n",
       "  gam_vb: Posterior inclusion probability matrix of dimension p x q.\n",
       "          Entry (s, t) corresponds to the variational posterior\n",
       "          probability of association between candidate predictor s and\n",
       "          response t.\n",
       "\n",
       "theta_vb: Vector of length p containing the variational posterior mean\n",
       "          of the hotspot propensity. Entry s corresponds to the\n",
       "          propensity of candidate predictor s to be associated with\n",
       "          many responses.\n",
       "\n",
       "X_beta_vb: Matrix of dimension n x q equal to the matrix product X\n",
       "          beta_vb, where X is the rescaled predictor matrix with\n",
       "          possible collinear predictor(s) excluded.\n",
       "\n",
       " zeta_vb: Vector of length q containing the variational posterior mean\n",
       "          of the response importance. Entry t corresponds to the\n",
       "          propensity of response t have associated predictors.\n",
       "\n",
       "converged: A boolean indicating whether the algorithm has converged\n",
       "          before reaching ‘maxit’ iterations.\n",
       "\n",
       "      it: Final number of iterations.\n",
       "\n",
       "  lb_opt: Optimized variational lower bound (ELBO) on the marginal\n",
       "          log-likelihood.\n",
       "\n",
       " diff_lb: Difference in ELBO between the last and penultimate\n",
       "          iterations (to be used as a convergence diagnostic when\n",
       "          ‘maxit’ has been reached).\n",
       "\n",
       "rmvd_cst_x: Vectors containing the indices of constant variables in ‘X’\n",
       "          removed prior to the analysis.\n",
       "\n",
       "rmvd_coll_x: Vectors containing the indices of variables in ‘X’ removed\n",
       "          prior to the analysis because collinear to other variables.\n",
       "          The entry name indicates the corresponding variable kept in\n",
       "          the analysis.\n",
       "\n",
       "list_hyper, list_init: If ‘save_hyper’, resp. ‘save_init’, are ‘TRUE’,\n",
       "          the hyperparameters, resp.  initial variational parameters,\n",
       "          used for inference are saved as output.\n",
       "\n",
       "     ...: If ‘full_output’ is ‘TRUE’ all inferred variational\n",
       "          parameters are returned.\n",
       "\n",
       "_\bR_\be_\bf_\be_\br_\be_\bn_\bc_\be_\bs:\n",
       "\n",
       "     Helene Ruffieux, Anthony C. Davison, Jorg Hager, Jamie Inshaw,\n",
       "     Benjamin P.  Fairfax, Sylvia Richardson, Leonardo Bottolo, A\n",
       "     global-local approach for detecting hotspots in multiple-response\n",
       "     regression, arXiv:1811.03334, 2018.\n",
       "\n",
       "_\bS_\be_\be _\bA_\bl_\bs_\bo:\n",
       "\n",
       "     ‘set_hyper’, ‘set_init’.\n",
       "\n",
       "_\bE_\bx_\ba_\bm_\bp_\bl_\be_\bs:\n",
       "\n",
       "     seed <- 123; set.seed(seed)\n",
       "     \n",
       "     ###################\n",
       "     ## Simulate data ##\n",
       "     ###################\n",
       "     \n",
       "     # Example with small problem sizes:\n",
       "     #\n",
       "     n <- 200; p <- 50; p_act <- 10; q <- 100; q_act <- 50\n",
       "     \n",
       "     # Candidate predictors (subject to selection)\n",
       "     #\n",
       "     # Here example with common genetic variants under Hardy-Weinberg equilibrium\n",
       "     #\n",
       "     X_act <- matrix(rbinom(n * p_act, size = 2, p = 0.25), nrow = n)\n",
       "     X_inact <- matrix(rbinom(n * (p - p_act), size = 2, p = 0.25), nrow = n)\n",
       "     \n",
       "     # shuffle indices \n",
       "     shuff_x_ind <- sample(p)\n",
       "     shuff_y_ind <- sample(q)\n",
       "     \n",
       "     X <- cbind(X_act, X_inact)[, shuff_x_ind]\n",
       "     \n",
       "     # Association pattern and effect sizes\n",
       "     #\n",
       "     pat <- matrix(FALSE, ncol = q, nrow = p)\n",
       "     bool_x <- shuff_x_ind <= p_act\n",
       "     bool_y <- shuff_y_ind <= q_act\n",
       "     \n",
       "     pat_act <- beta_act <- matrix(0, nrow = p_act, ncol = q_act)\n",
       "     pat_act[sample(p_act * q_act, floor(p_act * q_act / 5))] <- 1\n",
       "     beta_act[as.logical(pat_act)] <-  rnorm(sum(pat_act))\n",
       "     \n",
       "     pat[bool_x, bool_y] <- pat_act\n",
       "     \n",
       "     # Gaussian responses\n",
       "     #\n",
       "     Y_act <- matrix(rnorm(n * q_act, mean = X_act %*% beta_act), nrow = n)\n",
       "     Y_inact <- matrix(rnorm(n * (q - q_act)), nrow = n)\n",
       "     \n",
       "     Y <- cbind(Y_act, Y_inact)[, shuff_y_ind]\n",
       "     \n",
       "     ########################\n",
       "     ## Infer associations ##\n",
       "     ########################\n",
       "     \n",
       "     # Expectation and variance for the prior number of predictors associated with\n",
       "     # each response\n",
       "     #\n",
       "     p0 <- c(mean(colSums(pat)), 10)\n",
       "     \n",
       "     res_atlas <- atlasqtl(Y = Y, X = X, p0 = p0, user_seed = seed)\n",
       "     "
      ]
     },
     "metadata": {},
     "output_type": "display_data"
    }
   ],
   "source": [
    "?atlasqtl::atlasqtl"
   ]
  },
  {
   "cell_type": "markdown",
   "metadata": {
    "kernel": "SoS"
   },
   "source": [
    "## PIP calibration"
   ]
  },
  {
   "cell_type": "code",
   "execution_count": null,
   "metadata": {
    "kernel": "SoS"
   },
   "outputs": [],
   "source": [
    "# Calibration and ROC data\n",
    "[pip_3]\n",
    "parameter: bin_size = 20\n",
    "output: f'{_input:nn}.pip_evaluation.rds'\n",
    "R: expand = '${ }', workdir = cwd\n",
    "  dat = readRDS(${_input:r})\n",
    "  bins = cbind(seq(1:${bin_size})/${bin_size}-1/${bin_size}, seq(1:${bin_size})/${bin_size})\n",
    "  pip_cali = list()\n",
    "  for (method in names(dat)) {\n",
    "      pip_cali[[method]] = matrix(NA, nrow(bins), 3)\n",
    "      for (i in 1:nrow(bins)) {\n",
    "        data_in_bin = dat[[method]][which(dat[[method]][,1] > bins[i,1] & dat[[method]][,1] < bins[i,2]),]\n",
    "        pip_cali[[method]][i,1] = sum(data_in_bin[,1])\n",
    "        pip_cali[[method]][i,2] = sum(data_in_bin[,2])\n",
    "        pip_cali[[method]][i,3] = nrow(data_in_bin)\n",
    "      }\n",
    "  }\n",
    "  for (method in names(dat)) {\n",
    "      pip_cali[[method]][,c(1,2)] = pip_cali[[method]][,c(1,2)] / pip_cali[[method]][,3]\n",
    "  }\n",
    "  saveRDS(pip_cali, ${_output:r})"
   ]
  },
  {
   "cell_type": "code",
   "execution_count": null,
   "metadata": {
    "kernel": "SoS"
   },
   "outputs": [],
   "source": [
    "# Calibration plot\n",
    "[pip_4]\n",
    "depends: R_library('cowplot')\n",
    "output: f'{_input:nn}.pip_evaluation.png'\n",
    "R: expand = '${ }', workdir = cwd\n",
    "    library(ggplot2)\n",
    "    library(cowplot)\n",
    "    rename = list(mnm_high_het = 'M&M (oracle)', mnm_mixture01 = 'M&M (default)', mthess = 'MT-HESS (default)')\n",
    "    dot_plot = function(dataframe) {\n",
    "        ggplot(dataframe, aes(x=mean_pip, y=observed_freq)) + \n",
    "          geom_errorbar(aes(ymin=observed_freq-se, ymax=observed_freq+se), colour=\"gray\", size = 0.2, width=.01) +\n",
    "          geom_point(size=1.5, shape=21, fill=\"#002b36\") + # 21 is filled circle\n",
    "          xlab(\"Mean PIP\") +\n",
    "          ylab(\"Observed frequency\") +\n",
    "          coord_cartesian(ylim=c(0,1), xlim=c(0,1)) +\n",
    "          geom_abline(slope=1,intercept=0,colour='red', size=0.2) +\n",
    "          ggtitle(rename[[name]]) +\n",
    "          expand_limits(y=0) +                        # Expand y range\n",
    "          theme_cowplot()\n",
    "    }\n",
    "    dat = readRDS(${_input:r})\n",
    "    idx = 0\n",
    "    for (name in names(dat)) {\n",
    "      idx = idx + 1\n",
    "      dat[[name]][,3] = sqrt(dat[[name]][,2] * (1 - dat[[name]][,2]) / dat[[name]][,3]) * 2\n",
    "      dat[[name]] = as.data.frame(dat[[name]])\n",
    "      colnames(dat[[name]]) = c(\"mean_pip\", \"observed_freq\", \"se\")\n",
    "      pdf(paste0(${_output:nr}, '_' , idx, '.pdf'), width=3, height=3, pointsize=16)\n",
    "      print(dot_plot(dat[[name]]))\n",
    "      dev.off()\n",
    "      system(paste0(\"convert -density 120 \", ${_output:nr}, '_' , idx, '.pdf', \" \", ${_output:nr}, '_' , idx, '.png'))\n",
    "    }\n",
    "    files = paste0(${_output:nr}, '_', seq(1:idx), '.png')\n",
    "    cmd = paste('convert +append', paste(files, collapse=\" \"), ${_output:r})\n",
    "    system(cmd)\n",
    "    system(paste('rm -f', paste(files, collapse=\" \")))"
   ]
  },
  {
   "cell_type": "markdown",
   "metadata": {
    "kernel": "SoS"
   },
   "source": [
    "## ROC"
   ]
  },
  {
   "cell_type": "code",
   "execution_count": null,
   "metadata": {
    "kernel": "SoS"
   },
   "outputs": [],
   "source": [
    "# Data for ROC\n",
    "[roc_3]\n",
    "pip_cutoff = 0.05\n",
    "output: f'{_input:nn}.roc.rds'\n",
    "R: expand = '${ }', workdir = cwd\n",
    "    roc_data = function(d1, cutoff = c(${pip_cutoff}, 0.999), connect_org = T) {\n",
    "        grid = 500\n",
    "        ttv = seq(1:grid)/grid\n",
    "        ttv = ttv[which(ttv>=cutoff[1] & ttv<=cutoff[2])]\n",
    "        rst1 = t(sapply(ttv, function(x) c(sum(d1[,2][d1[,1]>=x]), length(d1[,2][d1[,1]>=x]))))\n",
    "        rst1 = cbind(rst1, sum(d1[,2]))\n",
    "        rst1 = as.data.frame(rst1)\n",
    "        colnames(rst1) = c('true_positive', 'total_positive', 'total_signal')\n",
    "        rst2 = as.data.frame(cbind(rst1$true_positive / rst1$total_positive, rst1$true_positive / rst1$total_signal,  ttv))\n",
    "        if (connect_org) {\n",
    "            # make a stair to origin\n",
    "            rst2 = rbind(rst2, c(max(0.995, rst2[nrow(rst2),1]), max(rst2[nrow(rst2),2]-0.01, 0), rst2[nrow(rst2),3]))\n",
    "            rst2 = rbind(rst2, c(1, 0, 1))\n",
    "        }\n",
    "        colnames(rst2) = c('Precision', 'Recall', 'Threshold')\n",
    "        return(list(counts = rst1, rates = rst2))\n",
    "    }\n",
    "\n",
    "    print(\"Computing ROC data ...\")\n",
    "    roc = list()\n",
    "    dat = readRDS(${_input:r})\n",
    "    for (method in names(dat)) {\n",
    "      roc[[method]] = roc_data(dat[[method]])\n",
    "    }\n",
    "    saveRDS(roc, ${_output:r})"
   ]
  },
  {
   "cell_type": "code",
   "execution_count": null,
   "metadata": {
    "kernel": "SoS"
   },
   "outputs": [],
   "source": [
    "# Plot for ROC\n",
    "[roc_4]\n",
    "depends: R_library('scam')\n",
    "parameter: chunks = 0\n",
    "parameter: smooth = 'FALSE'\n",
    "parameter: opt = \"lwd = 2, xlim = c(0,0.8), ylim = c(0,0.8)\"\n",
    "parameter: main = \"ROC\"\n",
    "output: f'{_input:nn}.roc.pdf'\n",
    "R: expand = '${ }'\n",
    "    colors = c('#A60628', '#7A68A6', '#348ABD', '#467821', '#FF0000', '#188487', '#E2A233',\n",
    "                  '#A9A9A9', '#000000', '#FF00FF', '#FFD700', '#ADFF2F', '#00FFFF')\n",
    "    dat = readRDS(${_input:r})\n",
    "    library(scam)\n",
    "    create_chunks = function(item, n) {\n",
    "      splitted = suppressWarnings(split(item, 1:n))\n",
    "      return(c(splitted[[1]], splitted[[length(splitted)]][length(splitted[[length(splitted)]])]))\n",
    "    }\n",
    "    make_smooth = function(x,y,subset=${chunks}, smooth = ${smooth}) {\n",
    "      if (smooth) {\n",
    "          if (subset < length(x) && subset > 0) {\n",
    "              x = create_chunks(x, subset)\n",
    "              y = create_chunks(y, subset)\n",
    "          }\n",
    "          dat = data.frame(cbind(x,y))\n",
    "          colnames(dat) = c('x','y')\n",
    "          y=predict(scam(y ~ s(x, bs = \"mpi\"), data = dat))\n",
    "      }\n",
    "      return(list(x=x,y=y))\n",
    "    }\n",
    "    add_text = function(thresholds, x, y, threshold, color, delta = -0.06) {\n",
    "        idx = which(thresholds == threshold)\n",
    "        text(x[idx] - delta, y[idx], labels = threshold, col = color, cex=0.8)\n",
    "        points(x[idx],y[idx])\n",
    "    }\n",
    "    rename = list(mnm_high_het = 'M&M (oracle)', mnm_mixture01 = 'M&M (default)', mthess = 'MT-HESS (default)')\n",
    "    labels = vector()\n",
    "    pdf(${_output:r}, width=5, height=5, pointsize=15)\n",
    "    i = 1\n",
    "    for (method in names(dat)) {\n",
    "        if (method == 'mnm_high_het') next\n",
    "        yy = make_smooth(1 - dat[[method]]$rates$Precision, dat[[method]]$rates$Recall)\n",
    "        if (i == 1) {\n",
    "            plot(yy$x, yy$y, t=\"l\", col=colors[i], ylab = \"power\", xlab =\"FDR\", main = \"${main}\", bty='l', ${opt})\n",
    "        } else {\n",
    "            lines(yy$x, yy$y, col=colors[i], ${opt})\n",
    "        }\n",
    "        #add_text(dat[[method]]$rates$Threshold, yy$x, yy$y, 0.9, colors[i])\n",
    "        add_text(dat[[method]]$rates$Threshold, yy$x, yy$y, 0.95, colors[i])\n",
    "        labels[i] = rename[[method]]\n",
    "        i = i + 1\n",
    "    }\n",
    "    legend(\"bottomright\", legend=labels, col=colors[1:i], lty=c(1,1,1), cex=0.8)\n",
    "    dev.off()"
   ]
  }
 ],
 "metadata": {
  "kernelspec": {
   "display_name": "SoS",
   "language": "sos",
   "name": "sos"
  },
  "language_info": {
   "codemirror_mode": "sos",
   "file_extension": ".sos",
   "mimetype": "text/x-sos",
   "name": "sos",
   "nbconvert_exporter": "sos_notebook.converter.SoS_Exporter",
   "pygments_lexer": "sos"
  },
  "sos": {
   "kernels": [
    [
     "R",
     "ir",
     "R",
     "",
     "r"
    ],
    [
     "SoS",
     "sos",
     "",
     "",
     "sos"
    ]
   ],
   "version": "0.20.5"
  }
 },
 "nbformat": 4,
 "nbformat_minor": 4
}
