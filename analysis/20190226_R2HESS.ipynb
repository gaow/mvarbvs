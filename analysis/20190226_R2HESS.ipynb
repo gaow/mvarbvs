{
 "cells": [
  {
   "cell_type": "markdown",
   "metadata": {
    "kernel": "SoS"
   },
   "source": [
    "# Analysis with R2HESS\n",
    "\n",
    "For comparison here I prototype multivariate fine-mapping with one of the few other software out there, `R2HESS`. \n",
    "\n",
    "[Here is the paper describing the methods](https://academic.oup.com/bioinformatics/article/32/4/523/1743556). The package is an R wrapper for the `MT-HESS` program. In the `README` the author says: \"If you have used previous versions of the package, these methods are more or less the same as before. Proper documentation, and hopefully some better functionality, will follow soon in an updated package.\"\n"
   ]
  },
  {
   "cell_type": "code",
   "execution_count": 1,
   "metadata": {
    "kernel": "SoS"
   },
   "outputs": [
    {
     "name": "stdout",
     "output_type": "stream",
     "text": [
      "/home/gaow/Documents/TempDir/26-Feb-2019"
     ]
    }
   ],
   "source": [
    "%cd /home/gaow/tmp/26-Feb-2019"
   ]
  },
  {
   "cell_type": "markdown",
   "metadata": {
    "kernel": "SoS"
   },
   "source": [
    "## Software and installation\n",
    "\n",
    "I obtained the software package R2HESS version 1.99 (Oct 2017) from the authors. It comes with a README file that contains installation instructions. It is straightforward to follow:\n",
    "\n",
    "```\n",
    "R CMD INSTALL R2HESS_1.99-1.tar.gz\n",
    "```"
   ]
  },
  {
   "cell_type": "markdown",
   "metadata": {
    "kernel": "SoS"
   },
   "source": [
    "## Data"
   ]
  },
  {
   "cell_type": "markdown",
   "metadata": {
    "kernel": "SoS"
   },
   "source": [
    "Here for simplicity I use simulated data just to test out the package and see the output format. I set 2 causal variables per condition."
   ]
  },
  {
   "cell_type": "code",
   "execution_count": 2,
   "metadata": {
    "kernel": "R"
   },
   "outputs": [],
   "source": [
    "set.seed(1)\n",
    "dat = mmbr::mmbr_sim1(600,2000,5,2)"
   ]
  },
  {
   "cell_type": "code",
   "execution_count": 3,
   "metadata": {
    "kernel": "R"
   },
   "outputs": [
    {
     "data": {
      "text/html": [
       "<ol class=list-inline>\n",
       "\t<li>'X'</li>\n",
       "\t<li>'y'</li>\n",
       "\t<li>'d'</li>\n",
       "\t<li>'n'</li>\n",
       "\t<li>'p'</li>\n",
       "\t<li>'r'</li>\n",
       "\t<li>'V'</li>\n",
       "\t<li>'b'</li>\n",
       "</ol>\n"
      ],
      "text/latex": [
       "\\begin{enumerate*}\n",
       "\\item 'X'\n",
       "\\item 'y'\n",
       "\\item 'd'\n",
       "\\item 'n'\n",
       "\\item 'p'\n",
       "\\item 'r'\n",
       "\\item 'V'\n",
       "\\item 'b'\n",
       "\\end{enumerate*}\n"
      ],
      "text/markdown": [
       "1. 'X'\n",
       "2. 'y'\n",
       "3. 'd'\n",
       "4. 'n'\n",
       "5. 'p'\n",
       "6. 'r'\n",
       "7. 'V'\n",
       "8. 'b'\n",
       "\n",
       "\n"
      ],
      "text/plain": [
       "[1] \"X\" \"y\" \"d\" \"n\" \"p\" \"r\" \"V\" \"b\""
      ]
     },
     "metadata": {},
     "output_type": "display_data"
    }
   ],
   "source": [
    "names(dat)"
   ]
  },
  {
   "cell_type": "markdown",
   "metadata": {
    "kernel": "R"
   },
   "source": [
    "## Analysis of 5 conditions for GTEx scale data"
   ]
  },
  {
   "cell_type": "code",
   "execution_count": 5,
   "metadata": {
    "kernel": "R"
   },
   "outputs": [],
   "source": [
    "Ydat = data.frame(dat$y)\n",
    "colnames(Ydat) = c('A1', 'B1', 'C1', 'D1', 'E1')\n",
    "Xdat = data.frame(dat$X)"
   ]
  },
  {
   "cell_type": "code",
   "execution_count": 6,
   "metadata": {
    "kernel": "R"
   },
   "outputs": [],
   "source": [
    "library(R2HESS)\n",
    "output.dir = './5conditions'\n",
    "config <- r2hess.makeConfig(Xdat, Ydat, output.dir, r=ncol(Ydat))"
   ]
  },
  {
   "cell_type": "code",
   "execution_count": 7,
   "metadata": {
    "kernel": "R"
   },
   "outputs": [],
   "source": [
    "start_time <- Sys.time()\n",
    "r2hess.run(config)\n",
    "end_time <- Sys.time()"
   ]
  },
  {
   "cell_type": "code",
   "execution_count": 8,
   "metadata": {
    "kernel": "R"
   },
   "outputs": [
    {
     "data": {
      "text/plain": [
       "Time difference of 5.403033 mins"
      ]
     },
     "metadata": {},
     "output_type": "display_data"
    }
   ],
   "source": [
    "test1_time = end_time - start_time\n",
    "test1_time"
   ]
  },
  {
   "cell_type": "markdown",
   "metadata": {
    "kernel": "R"
   },
   "source": [
    "It takes 5 min to complete the computation for 5 conditions. Not too bad. "
   ]
  },
  {
   "cell_type": "code",
   "execution_count": 9,
   "metadata": {
    "kernel": "R"
   },
   "outputs": [],
   "source": [
    "load(\"config.Rda\")"
   ]
  },
  {
   "cell_type": "code",
   "execution_count": 10,
   "metadata": {
    "kernel": "R"
   },
   "outputs": [
    {
     "name": "stdout",
     "output_type": "stream",
     "text": [
      "[1] \"dim omega =  22001\" \"dim omega =  5\"    \n",
      "[1] \"dim rho =  22001\" \"dim rho =  2000\" \n"
     ]
    }
   ],
   "source": [
    "r2hess.checkConvergence(config)"
   ]
  },
  {
   "cell_type": "code",
   "execution_count": 11,
   "metadata": {
    "kernel": "R"
   },
   "outputs": [
    {
     "name": "stdout",
     "output_type": "stream",
     "text": [
      "[1] \"dim tailprob rho =  2000\" \"dim tailprob rho =  1\"   \n",
      "[1] \"dim av omega_kj =  5\"    \"dim av omega_kj =  2000\"\n"
     ]
    }
   ],
   "source": [
    "r2hess.plotParams(config)"
   ]
  },
  {
   "cell_type": "code",
   "execution_count": 12,
   "metadata": {
    "kernel": "R"
   },
   "outputs": [
    {
     "name": "stdout",
     "output_type": "stream",
     "text": [
      "[1] \"dim MPPI =  5\"    \"dim MPPI =  2000\"\n"
     ]
    }
   ],
   "source": [
    "r2hess.plotAssoc(config, threshold=0.5)"
   ]
  },
  {
   "cell_type": "code",
   "execution_count": 13,
   "metadata": {
    "kernel": "R"
   },
   "outputs": [
    {
     "name": "stdout",
     "output_type": "stream",
     "text": [
      "[1] \"dim MPPI =  5\"    \"dim MPPI =  2000\"\n",
      "[1] 10  4\n",
      "     thresholds bFDR\n",
      "[1,]          1    0\n"
     ]
    }
   ],
   "source": [
    "out <- r2hess.toptableAssoc(config, minthresh=0.5)"
   ]
  },
  {
   "cell_type": "code",
   "execution_count": 14,
   "metadata": {
    "kernel": "R"
   },
   "outputs": [
    {
     "name": "stdout",
     "output_type": "stream",
     "text": [
      "[1] \"dim MPPI =  5\"    \"dim MPPI =  2000\"\n",
      "[1] \"MPPI threshold =  0.5\"\n"
     ]
    }
   ],
   "source": [
    "out <- r2hess.toptablePredictors(config, threshold=0.5)"
   ]
  },
  {
   "cell_type": "markdown",
   "metadata": {
    "kernel": "R"
   },
   "source": [
    "## Analysis of 10 conditions for GTEx scale data"
   ]
  },
  {
   "cell_type": "code",
   "execution_count": 15,
   "metadata": {
    "kernel": "R"
   },
   "outputs": [],
   "source": [
    "dat = mmbr::mmbr_sim1(600,2000,10,2)\n",
    "Ydat = data.frame(dat$y)\n",
    "colnames(Ydat) = c('A1', 'B1', 'C1', 'D1', 'E1', \"F1\", \"G1\", \"H1\", \"I1\", \"J1\")\n",
    "Xdat = data.frame(dat$X)"
   ]
  },
  {
   "cell_type": "code",
   "execution_count": 16,
   "metadata": {
    "kernel": "R"
   },
   "outputs": [],
   "source": [
    "output.dir = './10conditions'\n",
    "config <- r2hess.makeConfig(Xdat, Ydat, output.dir, r=ncol(Ydat))\n",
    "start_time <- Sys.time()\n",
    "r2hess.run(config)\n",
    "end_time <- Sys.time()"
   ]
  },
  {
   "cell_type": "code",
   "execution_count": 17,
   "metadata": {
    "kernel": "R"
   },
   "outputs": [
    {
     "data": {
      "text/plain": [
       "Time difference of 10.43567 mins"
      ]
     },
     "metadata": {},
     "output_type": "display_data"
    }
   ],
   "source": [
    "test2_time = end_time - start_time\n",
    "test2_time"
   ]
  },
  {
   "cell_type": "markdown",
   "metadata": {
    "kernel": "R"
   },
   "source": [
    "## Analysis of 50 conditions for GTEx scale data"
   ]
  },
  {
   "cell_type": "code",
   "execution_count": 18,
   "metadata": {
    "kernel": "R"
   },
   "outputs": [],
   "source": [
    "dat = mmbr::mmbr_sim1(600,2000,50,2)\n",
    "Ydat = data.frame(dat$y)\n",
    "Xdat = data.frame(dat$X)"
   ]
  },
  {
   "cell_type": "code",
   "execution_count": 19,
   "metadata": {
    "kernel": "R"
   },
   "outputs": [],
   "source": [
    "output.dir = './50conditions'\n",
    "config <- r2hess.makeConfig(Xdat, Ydat, output.dir, r=ncol(Ydat))\n",
    "start_time <- Sys.time()\n",
    "r2hess.run(config)\n",
    "end_time <- Sys.time()"
   ]
  },
  {
   "cell_type": "code",
   "execution_count": 20,
   "metadata": {
    "kernel": "R"
   },
   "outputs": [
    {
     "data": {
      "text/plain": [
       "Time difference of 50.05239 mins"
      ]
     },
     "metadata": {},
     "output_type": "display_data"
    }
   ],
   "source": [
    "test3_time = end_time - start_time\n",
    "test3_time"
   ]
  },
  {
   "cell_type": "markdown",
   "metadata": {
    "kernel": "R"
   },
   "source": [
    "It roughly scales linearly with number of conditions."
   ]
  }
 ],
 "metadata": {
  "kernelspec": {
   "display_name": "SoS",
   "language": "sos",
   "name": "sos"
  },
  "language_info": {
   "codemirror_mode": "sos",
   "file_extension": ".sos",
   "mimetype": "text/x-sos",
   "name": "sos",
   "nbconvert_exporter": "sos_notebook.converter.SoS_Exporter",
   "pygments_lexer": "sos"
  },
  "sos": {
   "kernels": [
    [
     "R",
     "ir",
     "R",
     "#DCDCDA"
    ]
   ],
   "version": "0.18.5"
  }
 },
 "nbformat": 4,
 "nbformat_minor": 2
}
