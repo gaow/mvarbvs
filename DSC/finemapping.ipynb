{
 "cells": [
  {
   "cell_type": "markdown",
   "metadata": {},
   "source": [
    "# Finemapping benchmark"
   ]
  },
  {
   "cell_type": "markdown",
   "metadata": {},
   "source": [
    "Methods evaluated:\n",
    "\n",
    "- Variational methods:\n",
    "    - spike-slab, mixture normal, sum of single effects, m&m\n",
    "- Popular fine-mapping methods:\n",
    "    - DAP, FINEMAP, CAVIAR\n",
    "    \n",
    "[PAINTOR](https://github.com/gkichaev/PAINTOR_V3.0) is not included because [FINEMAP is recommanded over PAINTOR when used without annotation](https://github.com/gkichaev/PAINTOR_V3.0/issues/11#issuecomment-303135031)."
   ]
  },
  {
   "cell_type": "markdown",
   "metadata": {},
   "source": [
    "## DSC run"
   ]
  },
  {
   "cell_type": "markdown",
   "metadata": {},
   "source": [
    "### `mnm.dsc`\n",
    "\n",
    "Master DSC script."
   ]
  },
  {
   "cell_type": "code",
   "execution_count": 1,
   "metadata": {
    "kernel": "SoS"
   },
   "outputs": [
    {
     "data": {
      "text/html": [
       "<div class=\"sos_hint\">Cell content saved to <a href=\"mnm.dsc\" target=\"_blank\">mnm.dsc</a></div>"
      ],
      "text/plain": [
       "Cell content saved to mnm.dsc\n"
      ]
     },
     "metadata": {},
     "output_type": "display_data"
    }
   ],
   "source": [
    "%save -f mnm.dsc\n",
    "#!/usr/bin/env dsc\n",
    "\n",
    "%include modules/setup\n",
    "%include modules/fit\n",
    "%include modules/evaluate\n",
    "\n",
    "DSC:\n",
    "  define:\n",
    "    get_Y: original_Y\n",
    "    fit: (init_mnm * fit_mnm), fit_susie, fit_varbvs, \n",
    "        (fit_finemap * plot_finemap), \n",
    "        (fit_dap * plot_dap),\n",
    "        (fit_caviar * plot_caviar)\n",
    "  run:\n",
    "    first_pass: get_data * get_Y * get_sumstats * fit\n",
    "  output: benchmark\n",
    "  exec_path: modules\n",
    "  global:\n",
    "    data_file: ~/Documents/GTExV8/Thyroid.Lung.FMO2.filled.rds"
   ]
  },
  {
   "cell_type": "markdown",
   "metadata": {},
   "source": [
    "## DSC modules"
   ]
  },
  {
   "cell_type": "markdown",
   "metadata": {},
   "source": [
    "### `setup.dsc`\n",
    "\n",
    "Data generators."
   ]
  },
  {
   "cell_type": "code",
   "execution_count": 2,
   "metadata": {},
   "outputs": [
    {
     "data": {
      "text/html": [
       "<div class=\"sos_hint\">Cell content saved to <a href=\"modules/setup.dsc\" target=\"_blank\">modules/setup.dsc</a></div>"
      ],
      "text/plain": [
       "Cell content saved to modules/setup.dsc\n"
      ]
     },
     "metadata": {},
     "output_type": "display_data"
    }
   ],
   "source": [
    "%save -f modules/setup.dsc\n",
    "\n",
    "# Modules to provide data\n",
    "# Real or simulated\n",
    "\n",
    "# Module output\n",
    "# =============\n",
    "# $data: full data\n",
    "# $sumstats: summary statistics\n",
    "\n",
    "get_data: Shell(ln -sf `realpath ${data_file}` $data)\n",
    "  # FIXME: see 20171103_MNMASH_Data.ipynb for GTEx multitissue data preparation\n",
    "  # and implement it more formally here\n",
    "  $data: file(rds)\n",
    "\n",
    "original_Y: Python(data['Y'] = numpy.vstack(data['Y'].values()).T)\n",
    "  # do not simulate data, just use original\n",
    "  data: $data\n",
    "  $data: data\n",
    "\n",
    "get_sumstats: regression.R + R(res = mm_regression(data$X, data$Y);\n",
    "                               r2 = cor(data$X)^2;\n",
    "                               V = cor(data$Y);\n",
    "                               N = nrow(data$Y);\n",
    "                               write.table(r2,ld_file,quote=F,col.names=F,row.names=F))\n",
    "  @CONF: R_libs = abind\n",
    "  data: $data\n",
    "  $sumstats: res\n",
    "  $ld: r2\n",
    "  $ld_file: file(ld)\n",
    "  $V: V\n",
    "  $N: N"
   ]
  },
  {
   "cell_type": "markdown",
   "metadata": {},
   "source": [
    "### `fit.dsc`\n",
    "\n",
    "Fine mapping methods."
   ]
  },
  {
   "cell_type": "code",
   "execution_count": 3,
   "metadata": {},
   "outputs": [
    {
     "data": {
      "text/html": [
       "<div class=\"sos_hint\">Cell content saved to <a href=\"modules/fit.dsc\" target=\"_blank\">modules/fit.dsc</a></div>"
      ],
      "text/plain": [
       "Cell content saved to modules/fit.dsc\n"
      ]
     },
     "metadata": {},
     "output_type": "display_data"
    }
   ],
   "source": [
    "%save -f modules/fit.dsc\n",
    "# workhorse(s) for finemapping\n",
    "\n",
    "# Module input\n",
    "# ============\n",
    "# $data: full data; or\n",
    "# $sumstats: summary statistics; or / and\n",
    "# $ld: LD information\n",
    "\n",
    "# Module output\n",
    "# =============\n",
    "# $fitted: for diagnostics\n",
    "# $posterior: for inference\n",
    "\n",
    "init_mnm: init_mnm.R\n",
    "  # mashr comes from `dev` branch on github\n",
    "  @CONF: R_libs = mashr\n",
    "  V: $V\n",
    "  reg: $sumstats\n",
    "  # FIXME: these quantities are to be computed seperately and globally using mashr procedure\n",
    "  # See http://stephenslab.github.io/gtex-eqtls/analysis/20171002_MASH_V8.html\n",
    "  Sigma: empirical\n",
    "  (U, grid, p): (auto, (0.9,0.01,0.01,0.01,0.01,0.01,0.01,0.02,0.02), auto)\n",
    "  $model: model\n",
    "  $V: V\n",
    "\n",
    "fit_mnm: regression.R + fit_mnm.R\n",
    "  @CONF: R_libs = mashr\n",
    "  maxL: 5\n",
    "  maxI: 10\n",
    "  data: $data\n",
    "  model: $model\n",
    "  V: $V\n",
    "  $fitted: fitted_track\n",
    "  $posterior: posterior\n",
    "\n",
    "fit_susie: fit_susie.R\n",
    "  # Prior variance of nonzero effects.\n",
    "  @CONF: R_libs = susieR@stephenslab/susieR\n",
    "  maxL: 5\n",
    "  maxI: 50\n",
    "  data: $data\n",
    "  $posterior: posterior\n",
    "  $fitted: fitted\n",
    "\n",
    "fit_varbvs(fit_susie): setup_varbvs.R + fit_varbvs.R\n",
    "  @CONF: R_libs = varbvs@pcarbo/varbvs/varbvs-R\n",
    "  sa: 1\n",
    "\n",
    "fit_caviar: fit_caviar.R + \\\n",
    "             R(posterior = finemap_mcaviar(sumstats[1,,]/sumstats[2,,], \n",
    "                                            ld, args, prefix=cache))\n",
    "  @CONF: R_libs = (dplyr, magrittr)\n",
    "  sumstats: $sumstats\n",
    "  ld: $ld_file\n",
    "  args: -c 1, -c 3\n",
    "  cache: file(CAVIAR)\n",
    "  $posterior: posterior\n",
    "\n",
    "fit_finemap(fit_caviar): fit_finemap.R + \\\n",
    "             R(posterior = finemap_mvar(sumstats[1,,]/sumstats[2,,], \n",
    "                                        ld, N, k,\n",
    "                                        args, prefix=cache))\n",
    "  N: $N\n",
    "  k: R(rep(1/5,5)), (0.6,0.25,0.1,0.05)\n",
    "  args: --regions 1 --prior-std 0.4 --n-causal-max 5\n",
    "  cache: file(FM)\n",
    "\n",
    "fit_dap: fit_dap.py + Python(posterior = dap_batch(data['X'], data['Y'], cache, args))\n",
    "  data: $data\n",
    "  args: -ld_control 0.25\n",
    "  cache: file(DAP)\n",
    "  $posterior: posterior\n",
    "\n",
    "# fit_dap_mv(fit_dap): fit_dap.py + Python(res = dap_mv())\n",
    "\n",
    "# fit_dap_ss(fit_dap): fit_dap.py + Python(res = dap_batch_ss())\n",
    "#   data: $sumstats\n",
    "\n",
    "# fit_dap_mv_ss(fit_dap): fit_dap.py + Python(res = dap_mv_ss())"
   ]
  },
  {
   "cell_type": "markdown",
   "metadata": {},
   "source": [
    "### `evaluate.dsc`\n",
    "\n",
    "Methods evaluation / visualization."
   ]
  },
  {
   "cell_type": "code",
   "execution_count": 7,
   "metadata": {},
   "outputs": [
    {
     "data": {
      "text/html": [
       "<div class=\"sos_hint\">Cell content saved to <a href=\"modules/evaluate.dsc\" target=\"_blank\">modules/evaluate.dsc</a></div>"
      ],
      "text/plain": [
       "Cell content saved to modules/evaluate.dsc\n"
      ]
     },
     "metadata": {},
     "output_type": "display_data"
    }
   ],
   "source": [
    "%save -f modules/evaluate.dsc\n",
    "# Modules to evaluate various methods\n",
    "# for finemapping-m\n",
    "\n",
    "# Module input\n",
    "# ============\n",
    "# $fit: see fit.dsc\n",
    "# $result: see fit.dsc\n",
    "\n",
    "# Module output\n",
    "# =============\n",
    "# ? an object or plot for diagnosis\n",
    "\n",
    "plot_finemap: plot_finemap.R\n",
    "  @CONF: R_libs = (dplyr, ggplot2, cowplot)\n",
    "  result: $posterior\n",
    "  top_rank: 10\n",
    "  $plot_file: file(pdf)\n",
    "\n",
    "plot_caviar(plot_finemap): plot_caviar.R\n",
    "plot_dap(plot_finemap): plot_dap.R"
   ]
  },
  {
   "cell_type": "markdown",
   "metadata": {},
   "source": [
    "## Workhorses"
   ]
  },
  {
   "cell_type": "markdown",
   "metadata": {},
   "source": [
    "### `regression.R`"
   ]
  },
  {
   "cell_type": "code",
   "execution_count": 5,
   "metadata": {
    "kernel": "R"
   },
   "outputs": [
    {
     "data": {
      "text/html": [
       "<div class=\"sos_hint\">Cell content saved to <a href=\"modules/regression.R\" target=\"_blank\">modules/regression.R</a></div>"
      ],
      "text/plain": [
       "Cell content saved to modules/regression.R\n"
      ]
     },
     "metadata": {},
     "output_type": "display_data"
    }
   ],
   "source": [
    "%save -f modules/regression.R\n",
    "## Perform univariate regression for each column of Y on each column of X\n",
    "univariate_regression = function(X, y, Z=NULL, return_residue=FALSE) {\n",
    "  if (!is.null(Z)) {\n",
    "    y = .lm.fit(Z, y)$residuals\n",
    "  }\n",
    "  calc_stderr = function(X, residuals) {\n",
    "    # S = (X'X)^-1 \\Sigma\n",
    "    sqrt(diag(sum(residuals^2) / (nrow(X) - 2) * chol2inv(chol(t(X) %*% X))))\n",
    "  }\n",
    "  output = do.call(rbind,\n",
    "                   lapply(1:ncol(X), function(i) {\n",
    "                     g = .lm.fit(cbind(1, X[,i]), y)\n",
    "                     return(c(coef(g)[2], calc_stderr(cbind(1, X[,i]), g$residuals)[2]))\n",
    "                   })\n",
    "                   )\n",
    "  if (return_residue) {\n",
    "    return(list(betahat = output[,1], sebetahat = output[,2],\n",
    "                residuals = y))\n",
    "  } else {\n",
    "    return(list(betahat = output[,1], sebetahat = output[,2]))\n",
    "  }\n",
    "}\n",
    "\n",
    "library(abind)\n",
    "mm_regression = function(X, Y, Z=NULL) {\n",
    "  reg = lapply(seq_len(ncol(Y)), function (i) simplify2array(univariate_regression(X, Y[,i])))\n",
    "  reg = do.call(abind, c(reg, list(along=0)))\n",
    "  # return array: out[1,,] is betahat, out[2,,] is shat\n",
    "  return(aperm(reg, c(3,2,1)))\n",
    "}"
   ]
  },
  {
   "cell_type": "markdown",
   "metadata": {},
   "source": [
    "### `setup_varbvs.R`"
   ]
  },
  {
   "cell_type": "code",
   "execution_count": 6,
   "metadata": {
    "kernel": "R"
   },
   "outputs": [
    {
     "data": {
      "text/html": [
       "<div class=\"sos_hint\">Cell content saved to <a href=\"modules/setup_varbvs.R\" target=\"_blank\">modules/setup_varbvs.R</a></div>"
      ],
      "text/plain": [
       "Cell content saved to modules/setup_varbvs.R\n"
      ]
     },
     "metadata": {},
     "output_type": "display_data"
    }
   ],
   "source": [
    "%save -f modules/setup_varbvs.R\n",
    "\n",
    "X <- data$X\n",
    "storage.mode(X) <- \"double\"\n",
    "n <- nrow(X)\n",
    "p <- ncol(X)\n",
    "X <- scale(X,center = TRUE,scale = FALSE)\n",
    "alpha0  <- runif(p)\n",
    "alpha0  <- alpha0/sum(alpha0)\n",
    "mu0     <- rnorm(p)\n",
    "pp      <- rep(maxL/p, p)\n",
    "logodds <- varbvs:::logit(pp)\n",
    "Y <- data$Y\n",
    "for (r in 1:ncol(Y)) {\n",
    "  Y[,r] <- Y[,r] - mean(Y[,r])\n",
    "}\n",
    "storage.mode(Y) <- \"double\""
   ]
  },
  {
   "cell_type": "markdown",
   "metadata": {},
   "source": [
    "### `fit_varbvs.R`"
   ]
  },
  {
   "cell_type": "code",
   "execution_count": 7,
   "metadata": {
    "kernel": "R"
   },
   "outputs": [
    {
     "data": {
      "text/html": [
       "<div class=\"sos_hint\">Cell content saved to <a href=\"modules/fit_varbvs.R\" target=\"_blank\">modules/fit_varbvs.R</a></div>"
      ],
      "text/plain": [
       "Cell content saved to modules/fit_varbvs.R\n"
      ]
     },
     "metadata": {},
     "output_type": "display_data"
    }
   ],
   "source": [
    "%save -f modules/fit_varbvs.R\n",
    "fitted <- list()\n",
    "for (r in 1:ncol(Y)) {\n",
    "  sigma <- var(Y[,r])\n",
    "  fitted[[r]] <- varbvs::varbvsnorm(X,Y[,r],sigma,sa,logodds,alpha0,mu0,update.order = 1:p,\n",
    "                                    update.sigma = FALSE,update.sa = FALSE,tol = 1e-6,\n",
    "                                    verbose = FALSE, maxiter=maxI)\n",
    "}\n",
    "\n",
    "post_mean <- do.call(cbind, lapply(1:length(fitted), function(i) fitted[[i]]$alpha * fitted[[i]]$mu))\n",
    "lfdr <- do.call(cbind, lapply(1:length(fitted), function(i) 1 - fitted[[i]]$alpha))\n",
    "posterior <- list(PosteriorMean=post_mean, lfdr=lfdr)"
   ]
  },
  {
   "cell_type": "markdown",
   "metadata": {},
   "source": [
    "### `init_mnm.R`"
   ]
  },
  {
   "cell_type": "code",
   "execution_count": 8,
   "metadata": {
    "kernel": "R"
   },
   "outputs": [
    {
     "data": {
      "text/html": [
       "<div class=\"sos_hint\">Cell content saved to <a href=\"modules/init_mnm.R\" target=\"_blank\">modules/init_mnm.R</a></div>"
      ],
      "text/plain": [
       "Cell content saved to modules/init_mnm.R\n"
      ]
     },
     "metadata": {},
     "output_type": "display_data"
    }
   ],
   "source": [
    "%save -f modules/init_mnm.R\n",
    "# Initialize model data: priors and init values\n",
    "\n",
    "if (Sigma != 'empirical') {\n",
    "  # FIXME data$V has to be changed\n",
    "  V = diag(nrow(V))\n",
    "}\n",
    "mash_data = mashr::mash_set_data(reg[1,,], Shat = reg[2,,], V = as.matrix(V))\n",
    "if (U == 'auto') {\n",
    "  U = mashr::cov_canonical(mash_data)\n",
    "} else {\n",
    "  ## FIXME: add other methods to get U\n",
    "  U = mashr::cov_canonical(mash_data)\n",
    "}\n",
    "model = list()\n",
    "if (p == 'auto') {\n",
    "  model$fitted_g = mashr::mash(mash_data, Ulist=U, outputlevel=1, usepointmass=TRUE)$fitted_g\n",
    "} else {\n",
    "  ## FIXME: need to use pre-fitted pi on larger data from mash procedure\n",
    "  model$fitted_g = list(pi=p, Ulist=U, grid=grid, usepointmass=TRUE)\n",
    "}"
   ]
  },
  {
   "cell_type": "markdown",
   "metadata": {},
   "source": [
    "### `fit_mnm.R`"
   ]
  },
  {
   "cell_type": "code",
   "execution_count": 9,
   "metadata": {
    "kernel": "R"
   },
   "outputs": [
    {
     "data": {
      "text/html": [
       "<div class=\"sos_hint\">Cell content saved to <a href=\"modules/fit_mnm.R\" target=\"_blank\">modules/fit_mnm.R</a></div>"
      ],
      "text/plain": [
       "Cell content saved to modules/fit_mnm.R\n"
      ]
     },
     "metadata": {},
     "output_type": "display_data"
    }
   ],
   "source": [
    "%save -f modules/fit_mnm.R\n",
    "update_mash_model <- function(X, Y, V, fitted_g) {\n",
    "  ## result contains 'PosteriorMean' 'PosteriorSD' 'lfdr' 'NegativeProb' 'lfsr'\n",
    "  reg <- mm_regression(X, Y)\n",
    "  mash_data <- mashr::mash_set_data(reg[1,,], Shat = reg[2,,], V = as.matrix(V))\n",
    "  return(mashr::mash(mash_data, g = fitted_g, fixg = TRUE, outputlevel=3))\n",
    "}\n",
    "\n",
    "update_mnmash_model <- function(X, Y, V, fitted_g, fitted) {\n",
    "  ## \"fitted\" include p_alpha, alpha, mu and Xr\n",
    "  maxL = ncol(fitted$alpha)\n",
    "  for (l in 1:maxL) {\n",
    "    ## remove the lth effect\n",
    "    fitted$Xr <- fitted$Xr - X %*% (fitted$alpha[,l] * fitted$mu[[l]])\n",
    "    ## update mash model\n",
    "    mout <- update_mash_model(X, Y - fitted$Xr, V, fitted_g)\n",
    "    ## update fitted values\n",
    "    fitted$mu[[l]] <- mout$result$PosteriorMean\n",
    "    fitted$s[[l]] <- mout$result$PosteriorCov\n",
    "    fitted$eb[[l]] <- mout$result$elbo_base\n",
    "    fitted$lfsr[[l]] <- mout$result$lfsr\n",
    "    fitted$neg[[l]] <- mout$result$NegativeProb\n",
    "    l10bf <- mashr::get_log10bf(mout)\n",
    "    alpha_post <- exp((l10bf - max(l10bf)) * log(10)) * fitted$p_alpha\n",
    "    fitted$alpha[,l] <- alpha_post / sum(alpha_post)\n",
    "    ## add back the updated lth effect\n",
    "    fitted$Xr <- fitted$Xr + X %*% (fitted$alpha[,l] * fitted$mu[[l]])\n",
    "  }\n",
    "  return(fitted)\n",
    "}\n",
    "\n",
    "## Initialize storage for results\n",
    "p_alpha <- rep(1, ncol(data$X)) / ncol(data$X)\n",
    "alpha <- matrix(0, ncol(data$X), maxL)\n",
    "mu <- lapply(1:maxL, function(i) matrix(0, ncol(data$X), ncol(data$Y)))\n",
    "Xr <- matrix(0, nrow(data$Y), ncol(data$Y))\n",
    "fitted <- list(p_alpha=p_alpha, alpha=alpha, mu=mu, s=list(), Xr=Xr, eb=list(), lfsr=list(), neg=list())\n",
    "fitted_track <- list()\n",
    "\n",
    "## Fit m&m model\n",
    "for (i in 1:maxI) {\n",
    "  fitted <- update_mnmash_model(data$X, data$Y, V, model$fitted_g, fitted)\n",
    "  fitted_track[[i]] <- fitted\n",
    "}\n",
    "\n",
    "## Compute posterior mean and covariances\n",
    "post_mean <- matrix(0, ncol(data$X), ncol(data$Y))\n",
    "for (l in 1:maxL) {\n",
    "  post_mean <- post_mean + fitted$mu[[l]] * fitted$alpha[,l]\n",
    "}\n",
    "post_cov <- array(0, dim=c(ncol(data$Y), ncol(data$Y), ncol(data$X)))\n",
    "for (j in 1:ncol(data$X)) {\n",
    "  for (l in 1:maxL) {\n",
    "    post_cov[,,j] <- post_cov[,,j] + (fitted$mu[[l]][j,] %*% t(fitted$mu[[l]][j,]) + fitted$s[[l]][,,j]) * fitted$alpha[j,l]\n",
    "  }\n",
    "  post_cov[,,j] <- post_cov[,,j] - post_mean[j,] %*% t(post_mean[j,])\n",
    "}\n",
    "\n",
    "## Compute lfsr\n",
    "lfsr <- do.call(rbind, lapply(1:maxL, function(l) colSums(fitted$alpha[,l] * fitted$lfsr[[l]])))\n",
    "posterior <- list(PosteriorMean=post_mean,\n",
    "                  PosteriorCov=post_cov,\n",
    "                  alpha = fitted$alpha,\n",
    "                  lfsr=lfsr,\n",
    "                  n_in_CI=susieR:::n_in_CI(t(fitted$alpha)),\n",
    "                  in_CI=susieR:::in_CI(t(fitted$alpha))\n",
    "                  )"
   ]
  },
  {
   "cell_type": "markdown",
   "metadata": {},
   "source": [
    "### `fit_susie.R`"
   ]
  },
  {
   "cell_type": "code",
   "execution_count": 10,
   "metadata": {
    "kernel": "R"
   },
   "outputs": [
    {
     "data": {
      "text/html": [
       "<div class=\"sos_hint\">Cell content saved to <a href=\"modules/fit_susie.R\" target=\"_blank\">modules/fit_susie.R</a></div>"
      ],
      "text/plain": [
       "Cell content saved to modules/fit_susie.R\n"
      ]
     },
     "metadata": {},
     "output_type": "display_data"
    }
   ],
   "source": [
    "%save -f modules/fit_susie.R\n",
    "fitted <- list()\n",
    "for (r in 1:ncol(data$Y)) {\n",
    "  fitted[[r]] <- susieR::susie(data$X,data$Y[,r],L=maxL,max_iter=maxI)\n",
    "  fitted[[r]]$lfsr <- susieR:::lfsr_fromfit(fitted[[r]])\n",
    "  fitted[[r]]$n_in_CI <- susieR:::n_in_CI(fitted[[r]])\n",
    "  fitted[[r]]$in_CI <- susieR:::in_CI(fitted[[r]])\n",
    "}\n",
    "\n",
    "posterior <- list(PosteriorMean=do.call(cbind, lapply(1:length(fitted), function(i) susieR:::coef.susie(fitted[[i]]))),\n",
    "                  lfsr=do.call(cbind, lapply(1:length(fitted), function(i) fitted[[i]]$lfsr)),\n",
    "                  alpha=do.call(cbind, lapply(1:length(fitted), function(i) fitted[[i]]$alpha)),\n",
    "                  n_in_CI=do.call(cbind, lapply(1:length(fitted), function(i) fitted[[i]]$n_in_CI)),\n",
    "                  in_CI= do.call(cbind, lapply(1:length(fitted), function(i) fitted[[i]]$in_CI))\n",
    "                  )\n"
   ]
  },
  {
   "cell_type": "markdown",
   "metadata": {},
   "source": [
    "### `fit_dap.py`"
   ]
  },
  {
   "cell_type": "markdown",
   "metadata": {},
   "source": [
    "DAP version 1 was published as Wen et al 2016 AJHG. Here William has polished the software `dap-g` with another manuscript that describes improved algorithm and working with summary statistics. This benchmark uses DAP version 2. Below is an example output that I parse and save.\n",
    "\n",
    "```\n",
    "Posterior expected model size: 0.500 (sd = 0.500)\n",
    "LogNC = -0.30685 ( Log10NC = -0.133 )\n",
    "Posterior inclusion probability\n",
    "\n",
    "((1))              7492 6.68581e-05       0.000 1\n",
    "((2))              7490 6.68581e-05       0.000 1\n",
    "((3))              7484 6.68581e-05       0.000 1\n",
    "((4))              7486 6.68581e-05       0.000 1\n",
    "((5))              7481 6.68581e-05       0.000 1\n",
    "((6))              7476 6.68581e-05       0.000 1\n",
    "((7))              7479 6.68581e-05       0.000 1\n",
    "((8))              7491 6.68046e-05       0.000 2\n",
    "((9))              7483 6.68046e-05       0.000 2\n",
    "((10))             7485 6.68046e-05       0.000 2\n",
    "((11))             7488 6.68046e-05       0.000 2\n",
    "((12))             7474 6.68046e-05       0.000 2\n",
    "((13))             7475 6.68046e-05       0.000 2\n",
    "((14))             7478 6.68046e-05       0.000 2\n",
    "((15))             7465 6.68046e-05       0.000 2\n",
    "((16))             7473 6.68046e-05       0.000 2\n",
    "((17))             7470 6.68046e-05       0.000 2\n",
    "((18))             7467 6.68046e-05       0.000 2\n",
    "((19))             7461 6.68046e-05       0.000 2\n",
    "((20))             7459 6.68046e-05       0.000 2\n",
    "((21))             7482 6.67422e-05       0.000 -1\n",
    "((22))             7489 6.67422e-05       0.000 -1\n",
    "((23))             7487 6.67422e-05       0.000 -1\n",
    "((24))             7477 6.67422e-05       0.000 -1\n",
    "((25))             7480 6.67422e-05       0.000 -1\n",
    "((26))             7463 6.67422e-05       0.000 -1\n",
    "...\n",
    "Independent association signal clusters\n",
    "\n",
    "     cluster         member_snp      cluster_pip      average_r2\n",
    "       {1}              7            4.680e-04          0.951                 0.951   0.037\n",
    "       {2}             13            8.685e-04          0.623                 0.037   0.623\n",
    "\n",
    "```"
   ]
  },
  {
   "cell_type": "code",
   "execution_count": 5,
   "metadata": {
    "kernel": "Python3"
   },
   "outputs": [
    {
     "data": {
      "text/html": [
       "<div class=\"sos_hint\">Cell content saved to <a href=\"modules/fit_dap.py\" target=\"_blank\">modules/fit_dap.py</a></div>"
      ],
      "text/plain": [
       "Cell content saved to modules/fit_dap.py\n"
      ]
     },
     "metadata": {},
     "output_type": "display_data"
    }
   ],
   "source": [
    "%save -f modules/fit_dap.py\n",
    "import subprocess\n",
    "import pandas as pd\n",
    "import numpy as np\n",
    "\n",
    "def dap_single(x, y, prefix, r, args):\n",
    "    names = np.array([('geno', i+1, str(r)) for i in range(x.shape[1])])\n",
    "    with open(f'{prefix}.data', 'w') as f:\n",
    "        print(*(['pheno', 'pheno', str(r)] + list(y.ravel())), file=f)\n",
    "        np.savetxt(f, np.hstack((names, x.T)), fmt = '%s', delimiter = ' ')\n",
    "    grid = '''         \n",
    "        0.0000  0.1000\n",
    "        0.0000  0.2000\n",
    "        0.0000  0.4000\n",
    "        0.0000  0.8000\n",
    "        0.0000  1.6000\n",
    "        '''\n",
    "    grid = '\\n'.join([x.strip() for x in grid.strip().split('\\n')])\n",
    "    with open(f'{prefix}.grid', 'w') as f:\n",
    "        print(grid, file=f)\n",
    "    cmd = ['dap-g', '-d', f'{prefix}.data', '-g', f'{prefix}.grid', '-o', f'{prefix}.result', '--all'] + ' '.join(args).split()\n",
    "    subprocess.Popen(cmd, stdout=subprocess.PIPE, stderr=subprocess.PIPE).communicate()\n",
    "    out = [x.strip().split() for x in open(f'{prefix}.result').readlines()]\n",
    "    pips = []\n",
    "    clusters = []\n",
    "    still_pip = True\n",
    "    for line in out:\n",
    "        if len(line) == 0:\n",
    "            continue\n",
    "        if len(line) > 2 and line[2] == 'cluster_pip':\n",
    "            still_pip = False\n",
    "            continue\n",
    "        if still_pip and (not line[0].startswith('((') or int(line[-1]) < 0):\n",
    "            continue\n",
    "        if still_pip:\n",
    "            pips.append([line[1], float(line[2]), float(line[3]), int(line[4])])\n",
    "        else:\n",
    "            clusters.append([len(clusters) + 1, float(line[2]), float(line[3])])\n",
    "    pips = pd.DataFrame(pips, columns = ['snp', 'snp_prob', 'snp_log10bf', 'cluster'])\n",
    "    clusters = pd.DataFrame(clusters, columns = ['cluster', 'cluster_prob', 'cluster_avg_r2'])\n",
    "    clusters = pd.merge(clusters, pips.groupby(['cluster'])['snp'].apply(','.join).reset_index(), on = 'cluster')\n",
    "    return {'snp': pips, 'set': clusters}\n",
    "\n",
    "def dap_batch(X, Y, prefix, *args):\n",
    "    return dict([(r, dap_single(X, Y[:,r], f'{prefix}_condition_{r+1}', r+1, args)) for r in range(Y.shape[1])])"
   ]
  },
  {
   "cell_type": "markdown",
   "metadata": {},
   "source": [
    "### `fit_finemap.R`"
   ]
  },
  {
   "cell_type": "code",
   "execution_count": 12,
   "metadata": {
    "kernel": "R"
   },
   "outputs": [
    {
     "data": {
      "text/html": [
       "<div class=\"sos_hint\">Cell content saved to <a href=\"modules/fit_finemap.R\" target=\"_blank\">modules/fit_finemap.R</a></div>"
      ],
      "text/plain": [
       "Cell content saved to modules/fit_finemap.R\n"
      ]
     },
     "metadata": {},
     "output_type": "display_data"
    }
   ],
   "source": [
    "%save -f modules/fit_finemap.R\n",
    "#' FINEMAP I/O\n",
    "write_finemap_sumstats <- function(z, LD_file, n, k, prefix) {\n",
    "  cfg = list(z=paste0(prefix,\".z\"),\n",
    "             ld=LD_file,\n",
    "             snp=paste0(prefix,\".snp\"),\n",
    "             config=paste0(prefix,\".config\"),\n",
    "             k=paste0(prefix,\".k\"),\n",
    "             log=paste0(prefix,\".log\"),\n",
    "             meta=paste0(prefix,\".master\"))\n",
    "  write.table(z,cfg$z,quote=F,col.names=F)\n",
    "  write.table(t(k),cfg$k,quote=F,col.names=F,row.names=F)\n",
    "  write(\"z;ld;snp;config;k;log;n-ind\",file=cfg$meta)\n",
    "  write(paste(cfg$z, cfg$ld, cfg$snp, cfg$config, cfg$k, cfg$log, n, sep=\";\"),\n",
    "        file=cfg$meta,append=TRUE)\n",
    "  return(cfg)\n",
    "}\n",
    "\n",
    "#' Run FINEMAP.\n",
    "#' http://www.christianbenner.com\n",
    "## FIXME: read the finemapr implementation for data sanity check.\n",
    "## Can be useful as a general data sanity checker (in previous modules)\n",
    "\n",
    "run_finemap <- function(z, LD_file, n, k, args = \"\", prefix=\"data\")\n",
    "{\n",
    "  cfg = write_finemap_sumstats(z, LD_file, n, k, prefix)\n",
    "  cmd = paste(\"finemap --sss --log\", \"--in-files\", cfg$meta, args)\n",
    "  dscrutils::run_cmd(cmd)\n",
    "\n",
    "  # read output tables\n",
    "  snp = read.table(cfg$snp,header=TRUE,sep=\" \")\n",
    "  snp$snp = as.character(snp$snp)\n",
    "\n",
    "  snp = rank_snp(snp)\n",
    "  config = read.table(cfg$config,header=TRUE,sep=\" \")\n",
    "\n",
    "  # extract number of causal\n",
    "  ncausal = finemap_extract_ncausal(cfg$log)\n",
    "  return(list(snp=snp, set=config, ncausal=ncausal))\n",
    "}\n",
    "\n",
    "rank_snp <- function(snp) {\n",
    "  snp <- arrange(snp, -snp_prob) %>%\n",
    "    mutate(\n",
    "        rank = seq(1, n()),\n",
    "        snp_prob_cumsum = cumsum(snp_prob) / sum(snp_prob)) %>%\n",
    "    select(rank, snp, snp_prob, snp_prob_cumsum, snp_log10bf)\n",
    "  return(snp)    \n",
    "}\n",
    "\n",
    "finemap_extract_ncausal <- function(logfile)\n",
    "{\n",
    "  lines <- grep(\"->\", readLines(logfile), value = TRUE)\n",
    "  lines <- gsub(\"\\\\(|\\\\)|>\", \"\", lines)\n",
    "  splits <- strsplit(lines, \"\\\\s+\")\n",
    "  tab <- data.frame(\n",
    "    ncausal_num = sapply(splits, function(x) as.integer(x[2])),\n",
    "    ncausal_prob = sapply(splits, function(x) as.double(x[4])))\n",
    "  tab <- mutate(tab, type = ifelse(duplicated(ncausal_num), \"post\", \"prior\"))\n",
    "  return(tab)\n",
    "}\n",
    "\n",
    "finemap_mvar <- function(zscore, LD_file, n, k, args, prefix) {\n",
    "  return(parallel::mclapply(1:ncol(zscore), function(r) \n",
    "          run_finemap(zscore[,r], LD_file, n, k, args, \n",
    "                      paste0(prefix, '_condition_', r)),\n",
    "                            mc.cores = min(8, ncol(zscore))))\n",
    "}"
   ]
  },
  {
   "cell_type": "markdown",
   "metadata": {},
   "source": [
    "### `fit_caviar.R`"
   ]
  },
  {
   "cell_type": "markdown",
   "metadata": {},
   "source": [
    "`CAVIAR` output file (`*_post`): \n",
    "- column #1 is the variant name;\n",
    "- column #2 is the [posterior prob. that the variant is causal](https://github.com/fhormoz/caviar/issues/1#issuecomment-286521771);\n",
    "- column #3 is the amount that this variant contributes to 95%-causal credible set."
   ]
  },
  {
   "cell_type": "code",
   "execution_count": 13,
   "metadata": {
    "kernel": "R"
   },
   "outputs": [
    {
     "data": {
      "text/html": [
       "<div class=\"sos_hint\">Cell content saved to <a href=\"modules/fit_caviar.R\" target=\"_blank\">modules/fit_caviar.R</a></div>"
      ],
      "text/plain": [
       "Cell content saved to modules/fit_caviar.R\n"
      ]
     },
     "metadata": {},
     "output_type": "display_data"
    }
   ],
   "source": [
    "%save -f modules/fit_caviar.R\n",
    "#' CAVIAR I/O\n",
    "write_caviar_sumstats <- function(z, prefix) {\n",
    "  cfg = list(z=paste0(prefix,\".z\"),\n",
    "             set=paste0(prefix,\"_set\"),\n",
    "             post=paste0(prefix,\"_post\"),\n",
    "             log=paste0(prefix,\".log\"))\n",
    "  write.table(z,cfg$z,quote=F,col.names=F)\n",
    "  return(cfg)\n",
    "}\n",
    "\n",
    "#' Run CAVIAR\n",
    "#' https://github.com/fhormoz/caviar\n",
    "\n",
    "run_caviar <- function(z, LD_file, args = \"\", prefix=\"data\")\n",
    "{\n",
    "  cfg = write_caviar_sumstats(z, prefix)\n",
    "  cmd = paste(\"CAVIAR\", \"-z\", cfg$z, \"-l\", LD_file, \"-o\", prefix, args)\n",
    "  dscrutils::run_cmd(cmd)\n",
    "  if(!all(file.exists(cfg$post, cfg$set, cfg$log))) {\n",
    "      stop(\"Cannot find one of the post, set, and log files\")\n",
    "  }\n",
    "  \n",
    "  log <- readLines(cfg$log)\n",
    "\n",
    "  # read output tables\n",
    "  snp <- read.delim(cfg$post)  \n",
    "  stopifnot(ncol(snp) == 3)\n",
    "  names(snp) <- c(\"snp\", \"snp_prob_set\", \"snp_prob\")\n",
    "  snp$snp <- as.character(snp$snp)\n",
    "\n",
    "  # `set` of snps\n",
    "  set <- readLines(cfg$set)\n",
    "  set_ordered <- left_join(data_frame(snp = set), snp, by = \"snp\") %>% \n",
    "    arrange(rank) %$% snp\n",
    "  return(list(snp=snp, set=set_ordered))\n",
    "}\n",
    "\n",
    "finemap_mcaviar <- function(zscore, LD_file, args, prefix) {\n",
    "  return(parallel::mclapply(1:ncol(zscore), function(r)\n",
    "          run_caviar(zscore[,r], LD_file, args, \n",
    "                     paste0(prefix, '_condition_', r)), \n",
    "                            mc.cores = min(8, ncol(zscore))))\n",
    "}"
   ]
  },
  {
   "cell_type": "markdown",
   "metadata": {},
   "source": [
    "## Visualization"
   ]
  },
  {
   "cell_type": "markdown",
   "metadata": {},
   "source": [
    "### `plot_finemap.R`"
   ]
  },
  {
   "cell_type": "code",
   "execution_count": 2,
   "metadata": {
    "kernel": "R"
   },
   "outputs": [
    {
     "data": {
      "text/html": [
       "<div class=\"sos_hint\">Cell content saved to <a href=\"modules/plot_finemap.R\" target=\"_blank\">modules/plot_finemap.R</a></div>"
      ],
      "text/plain": [
       "Cell content saved to modules/plot_finemap.R\n"
      ]
     },
     "metadata": {},
     "output_type": "display_data"
    }
   ],
   "source": [
    "%save -f modules/plot_finemap.R\n",
    "\n",
    "plot_finemap <- function(x,\n",
    "                         grid_nrow = NULL, \n",
    "                         grid_ncol = NULL, \n",
    "                         label_size = 2,\n",
    "                         top_rank = 5,\n",
    "                         lim_prob = c(0, 1.2),\n",
    "                         ...)\n",
    "{\n",
    "  label_size_config = label_size\n",
    "  label_size_snp = label_size\n",
    "  top_rank_config = top_rank\n",
    "  top_rank_snp = top_rank\n",
    "  lim_prob_config = lim_prob\n",
    "  lim_prob_snp = lim_prob\n",
    "  lim_prob_ncausal = lim_prob   \n",
    "    \n",
    "  p1 <- plot_ncausal(x, \n",
    "    lim_prob = lim_prob_ncausal, ...)\n",
    "  p2 <- plot_set(x,  \n",
    "    top_rank = top_rank_config, \n",
    "    label_size = label_size_config, \n",
    "    lim_prob = lim_prob_config, ...)\n",
    "  p3 <- plot_snp(x, \n",
    "    top_rank = top_rank_snp,\n",
    "    label_size = label_size_snp, \n",
    "    lim_prob = lim_prob_snp, ...)\n",
    "  \n",
    "  plot_grid(p1, p2, p3,  labels = \"AUTO\", nrow = grid_nrow, ncol = grid_ncol)\n",
    "}\n",
    "\n",
    "\n",
    "plot_ncausal <- function(x, lim_prob, ...)\n",
    "{\n",
    "  ptab <- x$ncausal\n",
    "  \n",
    "  sum_prop_zero <- filter(ptab, ncausal_num == 0)[[\"prob\"]]  %>% sum\n",
    "  if(sum_prop_zero == 0) {\n",
    "    ptab <- filter(ptab, ncausal_num != 0)\n",
    "  }\n",
    "  \n",
    "  ptab <- mutate(ptab, \n",
    "    ncausal_num = factor(ncausal_num, levels = sort(unique(ncausal_num), \n",
    "                                                    decreasing = TRUE)),\n",
    "    type = factor(type, levels = c(\"prior\", \"post\")))\n",
    "    \n",
    "  p <- ggplot(ptab, aes(ncausal_num, ncausal_prob, fill = type)) + \n",
    "    geom_hline(yintercept = 1, linetype = 3) + \n",
    "    geom_bar(stat = \"identity\", position = \"dodge\") + \n",
    "    coord_flip() + theme(legend.position = \"top\") + \n",
    "    scale_fill_manual(values = c(\"grey50\", \"orange\")) +\n",
    "    ylim(lim_prob)\n",
    "    \n",
    "  return(p)\n",
    "}\n",
    "\n",
    "plot_set <- function(x, lim_prob, label_size, top_rank, ...)\n",
    "{\n",
    "  ptab <- x$set\n",
    "\n",
    "  ptab <- head(ptab, top_rank)\n",
    "\n",
    "  ptab <- mutate(ptab,\n",
    "    label = paste0(config, \"\\n\", \n",
    "      \"P = \", round(config_prob, 2),\n",
    "      \"; \", \"log10(BF) = \", round(config_log10bf, 2)))\n",
    "\n",
    "  ggplot(ptab, aes(config_prob, rank)) + \n",
    "    geom_vline(xintercept = 1, linetype = 3) + \n",
    "    geom_point() + \n",
    "    geom_segment(aes(xend = config_prob, yend = rank, x = 0)) + \n",
    "    geom_text(aes(label = label), hjust = 0, nudge_x = 0.025, size = label_size) + \n",
    "    xlim(lim_prob) + \n",
    "    scale_y_continuous(limits  = c(top_rank + 0.5, 0.5), trans = \"reverse\")\n",
    "}\n",
    "\n",
    "\n",
    "plot_snp <- function(x, lim_prob, label_size, top_rank, ...)\n",
    "{\n",
    "  ptab <- x$snp\n",
    "  \n",
    "  ptab <- head(ptab, top_rank)\n",
    "\n",
    "  ptab <- mutate(ptab,\n",
    "    rank = seq(1, n()), \n",
    "    label = paste0(snp, \"\\n\", \n",
    "      \"P = \", round(snp_prob, 2),\n",
    "      \"; \", \"log10(BF) = \", round(snp_log10bf, 2)))\n",
    "\n",
    "  ggplot(ptab, aes(snp_prob, rank)) +\n",
    "    geom_vline(xintercept = 1, linetype = 3) + \n",
    "    geom_point() + \n",
    "    geom_segment(aes(xend = snp_prob, yend = rank, x = 0)) + \n",
    "    geom_text(aes(label = label), hjust = 0, nudge_x = 0.025, size = label_size) + \n",
    "    xlim(lim_prob) + \n",
    "    scale_y_continuous(limits  = c(top_rank + 0.5, 0.5), trans = \"reverse\")\n",
    "}\n",
    "\n",
    "pdf(plot_file)\n",
    "for (r in 1:length(result)) {\n",
    "    print(plot_finemap(result[[r]], top_rank = top_rank))\n",
    "}\n",
    "dev.off()"
   ]
  },
  {
   "cell_type": "markdown",
   "metadata": {},
   "source": [
    "### `plot_caviar.R`"
   ]
  },
  {
   "cell_type": "code",
   "execution_count": null,
   "metadata": {},
   "outputs": [],
   "source": [
    "%save -f modules/plot_caviar.R\n",
    "plot_caviar <- function(x,\n",
    "                        grid_nrow = NULL, \n",
    "                        grid_ncol = NULL, \n",
    "                        label_size = 2,\n",
    "                        top_rank = 5,\n",
    "                        lim_prob = c(0, 1.5),\n",
    "                        ...)\n",
    "{\n",
    "  plot_snp(x, label_size, top_rank, lim_prob, ...)\n",
    "}\n",
    "\n",
    "plot_snp <- function(x, label_size, top_rank, lim_prob, ...)\n",
    "{\n",
    "  ptab <- x$snp\n",
    "\n",
    "  ptab <- head(ptab, top_rank)\n",
    "\n",
    "  ptab <- mutate(ptab,\n",
    "    label = paste0(snp, \"\\n\", \n",
    "      \"P = \", round(snp_prob, 2),\n",
    "      \"; \", \"P(set) = \", round(snp_prob_set, 2)))\n",
    "\n",
    "  ggplot(ptab, aes(snp_prob, rank)) +\n",
    "    geom_vline(xintercept = 1, linetype = 3) + \n",
    "    geom_point() + \n",
    "    geom_segment(aes(xend = snp_prob, yend = rank, x = 0)) + \n",
    "    geom_text(aes(label = label), hjust = 0, nudge_x = 0.025, size = label_size) + \n",
    "    xlim(lim_prob) + \n",
    "    scale_y_continuous(limits  = c(top_rank + 0.5, 0.5), trans = \"reverse\")\n",
    "}\n",
    "\n",
    "pdf(plot_file)\n",
    "for (r in 1:length(result)) {\n",
    "    print(plot_caviar(result[[r]], top_rank = top_rank))\n",
    "}\n",
    "dev.off()"
   ]
  },
  {
   "cell_type": "markdown",
   "metadata": {},
   "source": [
    "### `plot_dap.R`"
   ]
  },
  {
   "cell_type": "code",
   "execution_count": 6,
   "metadata": {
    "kernel": "R"
   },
   "outputs": [
    {
     "data": {
      "text/html": [
       "<div class=\"sos_hint\">Cell content saved to <a href=\"modules/plot_dap.R\" target=\"_blank\">modules/plot_dap.R</a></div>"
      ],
      "text/plain": [
       "Cell content saved to modules/plot_dap.R\n"
      ]
     },
     "metadata": {},
     "output_type": "display_data"
    }
   ],
   "source": [
    "%save -f modules/plot_dap.R\n",
    "\n",
    "\n",
    "plot_dap <- function(x,\n",
    "                     grid_nrow = 2, \n",
    "                     grid_ncol = 1, \n",
    "                     label_size = 2,\n",
    "                     top_rank = 5,\n",
    "                     lim_prob = c(0, 1.2),\n",
    "                     ...)\n",
    "{\n",
    "  label_size_config = label_size\n",
    "  label_size_snp = label_size\n",
    "  top_rank_config = top_rank\n",
    "  top_rank_snp = top_rank\n",
    "  lim_prob_config = lim_prob\n",
    "  lim_prob_snp = lim_prob\n",
    "    \n",
    "  p2 <- plot_set(x,  \n",
    "    top_rank = top_rank_config, \n",
    "    label_size = label_size_config, \n",
    "    lim_prob = lim_prob_config, ...)\n",
    "  p3 <- plot_snp(x, \n",
    "    top_rank = top_rank_snp,\n",
    "    label_size = label_size_snp, \n",
    "    lim_prob = lim_prob_snp, ...)\n",
    "  \n",
    "  plot_grid(p2, p3,  labels = \"AUTO\", nrow = grid_nrow, ncol = grid_ncol)\n",
    "}\n",
    "\n",
    "\n",
    "plot_set <- function(x, lim_prob, label_size, top_rank, ...)\n",
    "{\n",
    "  ptab <- x$set\n",
    "\n",
    "  ptab <- head(ptab, top_rank)\n",
    "\n",
    "  ptab <- mutate(ptab,\n",
    "    label = paste0(snp, \"\\n\", \n",
    "      \"P = \", round(cluster_prob, 2),\n",
    "      \"; \", \"avg(r^2) = \", round(cluster_avg_r2, 2)))\n",
    "\n",
    "  ggplot(ptab, aes(cluster_prob, cluster)) + \n",
    "    geom_vline(xintercept = 1, linetype = 3) + \n",
    "    geom_point() + \n",
    "    geom_segment(aes(xend = cluster_prob, yend = cluster, x = 0)) + \n",
    "    geom_text(aes(label = label), hjust = 0, nudge_x = 0.025, size = label_size) + \n",
    "    xlim(lim_prob) + \n",
    "    scale_y_continuous(limits  = c(min(top_rank, nrow(ptab)) + 0.5, 0.5), trans = \"reverse\")\n",
    "}\n",
    "\n",
    "\n",
    "plot_snp <- function(x, lim_prob, label_size, top_rank, ...)\n",
    "{\n",
    "  ptab <- x$snp\n",
    "  \n",
    "  ptab <- head(ptab, top_rank)\n",
    "\n",
    "  ptab <- mutate(ptab,\n",
    "    rank = seq(1, n()), \n",
    "    label = paste0(snp, \"\\n\", \n",
    "      \"P = \", round(snp_prob, 2),\n",
    "      \"; \", \"log10(BF) = \", round(snp_log10bf, 2)))\n",
    "\n",
    "  ggplot(ptab, aes(snp_prob, rank)) +\n",
    "    geom_vline(xintercept = 1, linetype = 3) + \n",
    "    geom_point() + \n",
    "    geom_segment(aes(xend = snp_prob, yend = rank, x = 0)) + \n",
    "    geom_text(aes(label = label), hjust = 0, nudge_x = 0.025, size = label_size) + \n",
    "    xlim(lim_prob) + \n",
    "    scale_y_continuous(limits  = c(top_rank + 0.5, 0.5), trans = \"reverse\")\n",
    "}\n",
    "\n",
    "pdf(plot_file)\n",
    "for (r in 1:length(result)) {\n",
    "    print(plot_dap(result[[r]], top_rank = top_rank))\n",
    "}\n",
    "dev.off()"
   ]
  },
  {
   "cell_type": "code",
   "execution_count": null,
   "metadata": {},
   "outputs": [],
   "source": []
  }
 ],
 "metadata": {
  "kernelspec": {
   "display_name": "SoS",
   "language": "sos",
   "name": "sos"
  },
  "language_info": {
   "codemirror_mode": "sos",
   "file_extension": ".sos",
   "mimetype": "text/x-sos",
   "name": "sos",
   "nbconvert_exporter": "sos_notebook.converter.SoS_Exporter",
   "pygments_lexer": "sos"
  },
  "sos": {
   "default_kernel": "SoS",
   "kernels": [
    [
     "Python3",
     "python3",
     "Python3",
     "#FFE771"
    ],
    [
     "R",
     "ir",
     "R",
     "#DCDCDA"
    ],
    [
     "SoS",
     "sos",
     "",
     ""
    ]
   ],
   "panel": {
    "displayed": true,
    "height": 0,
    "style": "side"
   },
   "version": "0.9.13.4"
  }
 },
 "nbformat": 4,
 "nbformat_minor": 2
}
