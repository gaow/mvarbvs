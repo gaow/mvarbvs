{
 "cells": [
  {
   "cell_type": "markdown",
   "metadata": {},
   "source": [
    "# Notes on fundamentals of EM and VEM\n",
    "\n",
    "A refreshment of concepts based on notes from Matthew and David."
   ]
  },
  {
   "cell_type": "markdown",
   "metadata": {},
   "source": [
    "$\\newcommand{\\bs}[1]{\\boldsymbol{#1}}$\n",
    "$\\DeclareMathOperator*{\\diag}{diag}$\n",
    "$\\DeclareMathOperator*{\\cov}{cov}$\n",
    "$\\DeclareMathOperator*{\\rank}{rank}$\n",
    "$\\DeclareMathOperator*{\\var}{var}$\n",
    "$\\DeclareMathOperator*{\\tr}{tr}$\n",
    "$\\DeclareMathOperator*{\\veco}{vec}$\n",
    "$\\DeclareMathOperator*{\\uniform}{\\mathcal{U}niform}$\n",
    "$\\DeclareMathOperator*{\\argmin}{arg\\ min}$\n",
    "$\\DeclareMathOperator*{\\argmax}{arg\\ max}$\n",
    "$\\DeclareMathOperator*{\\N}{N}$\n",
    "$\\DeclareMathOperator*{\\gm}{Gamma}$\n",
    "$\\DeclareMathOperator*{\\dif}{d}$"
   ]
  },
  {
   "cell_type": "markdown",
   "metadata": {},
   "source": [
    "## Problem\n",
    "\n",
    "We need to make MLE of $\\theta$ for $P(Y|\\theta)$. The marginal $$\\log P(Y|\\theta) = \\log \\int P(Y,Z|\\theta) \\dif Z$$ is difficult to compute. \n",
    "However $$\\log P(Y|\\theta) = \\log \\int P(Y|Z, \\theta) P(Z|\\theta) \\dif Z$$ is easier. \n",
    "**Note that $P(Y|Z, \\theta)$ is likelihood, $P(Z|\\theta)$ is posterior**."
   ]
  },
  {
   "cell_type": "markdown",
   "metadata": {},
   "source": [
    "## Marginal log-likelihood"
   ]
  },
  {
   "cell_type": "markdown",
   "metadata": {},
   "source": [
    "For any normalized distribution $q(Z)$,\n",
    "\n",
    "\\begin{align}\n",
    "\\log P(Y|\\theta) & =  \\log P(Y|\\theta) \\int_Z q(Z) \\dif Z \\\\\n",
    "& =  \\int_Z \\log P(Y|\\theta) q(Z) \\dif Z \\\\\n",
    "& = \\int_Z \\log \\frac{P(Y,Z|\\theta)}{P(Z|Y,\\theta)} q(Z) \\dif Z \\\\\n",
    "& = \\int_Z \\log \\frac{P(Y,Z|\\theta)q(Z)}{P(Z|Y,\\theta)q(Z)} q(Z) \\dif Z \\\\\n",
    "& = \\int_Z \\log \\frac{P(Y|Z,\\theta)P(Z|\\theta)}{q(Z)} \\frac{q(Z)}{P(Z|Y,\\theta)} q(Z) \\dif Z \\\\\n",
    "& = \\int_Z \\log P(Y|Z,\\theta) q(Z) \\dif Z + \\int_Z  \\frac{P(Z|\\theta)}{q(Z)} q(Z) \\dif Z + \\int_Z  \\frac{q(Z)}{P(Z|Y,\\theta)} q(Z) \\dif Z \\\\\n",
    "& = E_q[\\log P(Y|Z,\\theta)] + E_q[\\frac{P(Z|\\theta)}{q(Z)}] - E_q[\\frac{P(Z|Y,\\theta)}{q(Z)}] \\\\\n",
    "& \\ge E_q[\\log P(Y|Z,\\theta)] + E_q[\\frac{P(Z|\\theta)}{q(Z)}] \\\\\n",
    "& = \\mathcal{L}(q, \\theta)\n",
    "\\end{align}"
   ]
  },
  {
   "cell_type": "markdown",
   "metadata": {},
   "source": [
    "## EM\n",
    "\n",
    "Maximize $\\mathcal{L}(q, \\theta)$ iteratively between $q$ and $\\theta$, in a 2-step procedure:\n",
    "\n",
    "1. $\\underset{q}{max} \\big( \\log P(Y|\\theta) \\big ) $: simply set $q(Z) = P(Z|Y,\\theta^{(current)})$\n",
    "2. $\\underset{\\theta}{max} \\big( E_q[\\log P(Y|Z,\\theta)] + E_q[\\frac{P(Z|\\theta)}{P(Z|Y,\\theta^{(current)})}] \\big)$"
   ]
  },
  {
   "cell_type": "markdown",
   "metadata": {},
   "source": [
    "## VEM via mean-field\n",
    "\n",
    "1. $\\underset{q \\in \\Omega}{max} \\big( \\log P(Y|\\theta) \\big ) $: set $q(Z) = \\prod_i q(Z_i)$\n",
    "2. $\\underset{\\theta}{max} \\big( E_q[\\log P(Y|Z,\\theta)] + E_q[\\frac{P(Z|\\theta)}{\\prod_i q(Z_i)}] \\big)$"
   ]
  }
 ],
 "metadata": {
  "kernelspec": {
   "display_name": "SoS",
   "language": "sos",
   "name": "sos"
  },
  "language_info": {
   "codemirror_mode": "sos",
   "file_extension": ".sos",
   "mimetype": "text/x-sos",
   "name": "sos",
   "nbconvert_exporter": "sos_notebook.converter.SoS_Exporter",
   "pygments_lexer": "sos"
  },
  "sos": {
   "default_kernel": "SoS",
   "kernels": [],
   "panel": {
    "displayed": true,
    "height": 0,
    "style": "side"
   },
   "version": "0.9.12.9"
  }
 },
 "nbformat": 4,
 "nbformat_minor": 2
}
