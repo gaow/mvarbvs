{
 "cells": [
  {
   "cell_type": "markdown",
   "metadata": {},
   "source": [
    "% Fine Mapping Benchmark \n",
    "% \\url{https://github.com/gaow/mvarbvs/tree/master/dsc}\n",
    "% \\today"
   ]
  },
  {
   "cell_type": "markdown",
   "metadata": {},
   "source": [
    "# Benchmark status"
   ]
  },
  {
   "cell_type": "markdown",
   "metadata": {},
   "source": [
    "## Data-set\n",
    "\n",
    "Genotype\n",
    "\n",
    "- A GTEx sample region (*FMO2*) of size $N=698$, $P=7492$\n",
    "- A GUEVADIS sample region of size $N=343$, $P=1001$\n",
    "- Parameters to \"trim\" $P$, eg from 7492 also to, say, 1001\n",
    "\n",
    "Phenotype\n",
    "\n",
    "- The original GTEx Throid and Lung expression for the GTEx sample region\n",
    "    - should have around 3 eQTLs\n",
    "- A simple simulated GUEVADIS expression data from DAP-g paper\n",
    "    - 91 LD blocks"
   ]
  },
  {
   "cell_type": "markdown",
   "metadata": {},
   "source": [
    "## Simulation themes\n",
    "\n",
    "Univariate\n",
    "\n",
    "- Simple point mass + `rnorm()` simulation, as in DAP-g paper\n",
    "- Point mass + mixture of normal, as in ASH paper\n",
    "    - spiky, near-normal, flat-top, skew, big-normal, bimodal\n",
    "    \n",
    "Multivariate\n",
    "\n",
    "- Column-wise stacking of univariate simulations\n",
    "- Point mass + mixture of multivariate normal, as in MASH paper\n",
    "    - All \"canonical\" prior covariances\n",
    "    - Have to provide grid\n",
    "\n"
   ]
  },
  {
   "cell_type": "markdown",
   "metadata": {},
   "source": [
    "## About LD\n",
    "\n",
    "There are mechansim to\n",
    "\n",
    "- Plot save LD heatmap for input data\n",
    "- Put signals to the most \"LD-convoluted\" blocks\n",
    "- Ensure signals are from independent LD blocks\n",
    "- Permute & break LD structure?"
   ]
  },
  {
   "cell_type": "markdown",
   "metadata": {},
   "source": [
    "## Fine-mapping methods\n",
    "\n",
    "From Stephens Lab\n",
    "\n",
    "- `varbvs`\n",
    "- `susie`\n",
    "- `M&M ASH`\n",
    "\n",
    "From the field\n",
    "\n",
    "- `DAP-g`\n",
    "- `FINEMAP`\n",
    "- `CAVIAR`\n",
    "\n",
    "Each with multiple module \"flavors\" (parameters)"
   ]
  },
  {
   "cell_type": "markdown",
   "metadata": {},
   "source": [
    "## Single-replicate diagnosis\n",
    "\n",
    "- When avaiable, compare scattered plots of $\\tilde{\\beta}$ or $\\hat{\\beta}$ vs $\\beta$ plots\n",
    "- Show PIP and log10BF\n",
    "- $\\ldots$\n",
    "- Customized diagnostic plots for SSE methods: `susie` and `M&M`.\n",
    "\n",
    "Still working on unifying output from methods and annotate with eg LD info."
   ]
  },
  {
   "cell_type": "markdown",
   "metadata": {},
   "source": [
    "## Cross-replicate evaluation\n",
    "\n",
    "Next to-do:\n",
    "\n",
    "- Power vs false positive: ROC\n",
    "- Point signal level: PIP / lfsr\n",
    "- Set signal level: cluster PIP"
   ]
  },
  {
   "cell_type": "markdown",
   "metadata": {},
   "source": [
    "# LD situation"
   ]
  },
  {
   "cell_type": "markdown",
   "metadata": {},
   "source": [
    "## GUEVADIS sample\n",
    "\n",
    "![GUEVADIS LD](figs/dap_g_data_1_summarize_ld_1.ld_plot.png) { width=80% }"
   ]
  },
  {
   "cell_type": "markdown",
   "metadata": {},
   "source": [
    "## Trimmed GTEx sample (to the size of GUEVADIS sample)\n",
    "\n",
    "![GTEx LD](figs/liter_data_1_summarize_ld_1.ld_plot.png) { width=80% }"
   ]
  },
  {
   "cell_type": "markdown",
   "metadata": {},
   "source": [
    "# Simple GUEVADIS simulation"
   ]
  },
  {
   "cell_type": "markdown",
   "metadata": {},
   "source": [
    "## Simple GUEVADIS simulation\n",
    "\n",
    "![Simple GUEVADIS simulation](figs/dap_g_data_1_original_Y_1.cache.sim.1.pdf)"
   ]
  },
  {
   "cell_type": "markdown",
   "metadata": {},
   "source": [
    "## varbvs\n",
    "\n",
    "![`varbvs`](figs/dap_g_data_1_original_Y_1_fit_varbvs_1_plot_sse_1.plot_file.SSE.1.pdf)"
   ]
  },
  {
   "cell_type": "markdown",
   "metadata": {},
   "source": [
    "## susie\n",
    "\n",
    "![`susie`](figs/dap_g_data_1_original_Y_1_fit_susie_1_plot_sse_1.plot_file.SSE.1.pdf)"
   ]
  },
  {
   "cell_type": "markdown",
   "metadata": {},
   "source": [
    "## FINEMAP\n",
    "\n",
    "![`FINEMAP`](figs/dap_g_data_1_original_Y_1_get_sumstats_1_fit_finemap_1_plot_finemap_1.plot_file.pdf) { height=80% }"
   ]
  },
  {
   "cell_type": "markdown",
   "metadata": {},
   "source": [
    "## DAP\n",
    "![DAP](figs/dap_g_data_1_original_Y_1_get_sumstats_1_fit_dap_z_1_plot_dap_1.plot_file.pdf) { height=80% }"
   ]
  },
  {
   "cell_type": "markdown",
   "metadata": {},
   "source": [
    "## CAVIAR\n",
    "![CAVIAR](figs/dap_g_data_1_original_Y_1_get_sumstats_1_fit_caviar_1_plot_caviar_1.plot_file.pdf) { height=80% }"
   ]
  },
  {
   "cell_type": "markdown",
   "metadata": {},
   "source": [
    "# GTEx with MASH \"simple het\" covariance"
   ]
  },
  {
   "cell_type": "markdown",
   "metadata": {},
   "source": [
    "## Trimmed GTEx, response 1\n",
    "\n",
    "![Simulated GTEx tissue 1](figs/liter_data_1_summarize_ld_1_base_sim_1.cache.sim.1.pdf)"
   ]
  },
  {
   "cell_type": "markdown",
   "metadata": {},
   "source": [
    "## Trimmed GTEx, response 2\n",
    "\n",
    "![Simulated GTEx tissue 2](figs/liter_data_1_summarize_ld_1_base_sim_1.cache.sim.2.pdf)"
   ]
  },
  {
   "cell_type": "markdown",
   "metadata": {},
   "source": [
    "## varbvs, response 1\n",
    "![`varbvs`](figs/liter_data_1_summarize_ld_1_base_sim_1_fit_varbvs_1_plot_sse_1.plot_file.SSE.1.pdf)"
   ]
  },
  {
   "cell_type": "markdown",
   "metadata": {},
   "source": [
    "## varbvs, response 2\n",
    "![`varbvs`](figs/liter_data_1_summarize_ld_1_base_sim_1_fit_varbvs_1_plot_sse_1.plot_file.SSE.2.pdf)"
   ]
  },
  {
   "cell_type": "markdown",
   "metadata": {},
   "source": [
    "## susie, response 1\n",
    "![`susie`](figs/liter_data_1_summarize_ld_1_base_sim_1_fit_susie_1_plot_sse_1.plot_file.SSE.1.pdf)"
   ]
  },
  {
   "cell_type": "markdown",
   "metadata": {},
   "source": [
    "## susie, response 2\n",
    "![`susie`](figs/liter_data_1_summarize_ld_1_base_sim_1_fit_susie_1_plot_sse_1.plot_file.SSE.2.pdf)"
   ]
  },
  {
   "cell_type": "markdown",
   "metadata": {},
   "source": [
    "## M&M, response 1\n",
    "![`M&M`](figs/liter_data_1_summarize_ld_1_base_sim_1_get_sumstats_1_init_mnm_1_fit_mnm_1_plot_sse_1.plot_file.SSE.1.pdf)"
   ]
  },
  {
   "cell_type": "markdown",
   "metadata": {},
   "source": [
    "## M&M, response 2\n",
    "![`M&M`](figs/liter_data_1_summarize_ld_1_base_sim_1_get_sumstats_1_init_mnm_1_fit_mnm_1_plot_sse_1.plot_file.SSE.2.pdf)"
   ]
  }
 ],
 "metadata": {
  "kernelspec": {
   "display_name": "SoS",
   "language": "sos",
   "name": "sos"
  },
  "language_info": {
   "codemirror_mode": "sos",
   "file_extension": ".sos",
   "mimetype": "text/x-sos",
   "name": "sos",
   "nbconvert_exporter": "sos_notebook.converter.SoS_Exporter",
   "pygments_lexer": "sos"
  },
  "sos": {
   "default_kernel": "SoS",
   "kernels": [],
   "panel": {
    "displayed": true,
    "height": 0,
    "style": "side"
   },
   "version": "0.9.13.4"
  }
 },
 "nbformat": 4,
 "nbformat_minor": 2
}
