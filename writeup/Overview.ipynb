{
 "cells": [
  {
   "cell_type": "markdown",
   "metadata": {
    "collapsed": true
   },
   "source": [
    "# M&M ASH\n",
    "*Multivariate Bayesian variable selection via Adaptive Shrinkage, with applications to eQTL fine-mapping*\n",
    "\n",
    "<hr>"
   ]
  },
  {
   "cell_type": "markdown",
   "metadata": {},
   "source": [
    "## Meetings\n",
    "\n",
    "[Here](doc/writeup/Meetings.html) is minutes for project meetings."
   ]
  },
  {
   "cell_type": "markdown",
   "metadata": {},
   "source": [
    "## Written documents \n",
    "\n",
    "### 2017/04\n",
    "* [GTEx V7 analysis plan](doc/writeup/GTEx7_Analysis_Plan.html)\n",
    "\n",
    "### 2017/03\n",
    "* [A modular approach to m&m ash](doc/writeup/Modular_MNMASH.html)\n",
    "\n",
    "### 2016/11\n",
    "* [Estimating mixture proportions jointly for all genes in eQTL application](https://github.com/gaow/mvarbvs/tree/master/analysis/writeup/lr_diag_cov/dirichlet_ml)\n",
    "* [m&m ash model assuming diagonal plus low rank covariance](https://github.com/gaow/mvarbvs/tree/master/analysis/writeup/lr_diag_cov)\n",
    "\n",
    "### 2016/10\n",
    "* [Start simple: a discussion with Peter Carbonetto](doc/writeup/Start_Simple.html)\n",
    "\n",
    "### 2016/08\n",
    "* [m&m ash model assuming identity covariance](https://github.com/gaow/mvarbvs/tree/master/analysis/writeup/identity_cov)\n",
    "* [mr-ash model derivation](https://github.com/stephenslab/mvash/tree/add-latex/docs/derivations)"
   ]
  }
 ],
 "metadata": {
  "kernelspec": {
   "display_name": "SoS",
   "language": "sos",
   "name": "sos"
  },
  "language_info": {
   "codemirror_mode": "sos",
   "file_extension": ".sos",
   "mimetype": "text/x-sos",
   "name": "sos",
   "nbconvert_exporter": "sos.jupyter.converter.SoS_Exporter",
   "pygments_lexer": "sos"
  },
  "sos": {
   "celltoolbar": true,
   "kernels": [
    [
     "Python3",
     "python3",
     "Python3",
     "#EAFAF1"
    ],
    [
     "ir",
     "ir",
     "",
     ""
    ],
    [
     "SoS",
     "sos",
     "",
     ""
    ]
   ],
   "panel": {
    "displayed": true,
    "height": 0,
    "style": "side"
   }
  }
 },
 "nbformat": 4,
 "nbformat_minor": 2
}
