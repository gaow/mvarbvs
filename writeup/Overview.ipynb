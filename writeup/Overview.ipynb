{
 "cells": [
  {
   "cell_type": "markdown",
   "metadata": {
    "collapsed": true
   },
   "source": [
    "# M&M ASH\n",
    "*Multivariate Bayesian variable selection via Adaptive Shrinkage, with applications to eQTL fine-mapping*\n",
    "\n",
    "<hr>"
   ]
  },
  {
   "cell_type": "markdown",
   "metadata": {},
   "source": [
    "## Background"
   ]
  },
  {
   "cell_type": "markdown",
   "metadata": {},
   "source": [
    "![](figures/mnm.png)"
   ]
  },
  {
   "cell_type": "markdown",
   "metadata": {},
   "source": [
    "This project is mainly aimed at [fine-mapping for eQTL discovery in multiple tissues](Modular_MNMASH.html#Motivation). From methodology point of view it introduces an Empirical Bayes approach, ie, [adaptive shrinkage](https://doi.org/10.1093/biostatistics/kxw041) for solving multivariate, multiple regression problem; hence the project code name `m&m ash` (credit to [David](http://home.uchicago.edu/~dcgerard/home.html)). \n",
    "\n",
    "We started building the m&m model in summer 2016. It is essentially a multivariate version of the variational algorithm that does [univariate regression with adaptive shrinkage method](https://github.com/stephenslab/mvash) (credit to [Wei](http://github.com/NKweiwang) and [Peter](https://pcarbo.github.io/)). We have developed a version assuming [identity covariance](https://github.com/gaow/mvarbvs/tree/master/writeup/identity_cov) and a version assuming [diagonal + low rank covariance](https://github.com/gaow/mvarbvs/tree/master/writeup/lr_diag_cov) (credit to [David](http://home.uchicago.edu/~dcgerard/home.html)), along with [an implementation](https://github.com/gaow/mnmashr). We then realized several limitations to it, from modeling and computational espects, that made us reconsider the design after some attempts to alleviate these issues ([limiting to a simpler problem](Start_Simple.html) and [combine genome-wide information efficiently](https://github.com/gaow/mvarbvs/tree/master/writeup/lr_diag_cov/dirichlet_ml)).\n",
    "\n",
    "In early 2017 we decide to take a [modular approach](Modular_MNMASH.html#Step-one:-deconvoluted-effect-size-estimation) to the problem. Essentially it involves combing in a smart way the univariate `mr-ash` (multiple regression with adaptive shrinkage, under development) for model selection and [`mash`](http://dx.doi.org/10.1101/096552) for multivariate analysis. With the release of [GTEx V7](GTEx7_Analysis_Plan.html) data our new method can be applied and demonstrated.\n"
   ]
  },
  {
   "cell_type": "markdown",
   "metadata": {},
   "source": [
    "## Univeriate analysis with variable selection"
   ]
  },
  {
   "cell_type": "markdown",
   "metadata": {
    "kernel": "SoS"
   },
   "source": [
    "![](figures/m-red.png)"
   ]
  },
  {
   "cell_type": "markdown",
   "metadata": {},
   "source": [
    "The first module is to perform multiple regression with adaptive shrinkage for variable selection, ie., `mr-ash`. This is being developed and implemented in the [`varbvs`](https://github.com/pcarbo/varbvs) package. We also have worked on getting GTEx data ready, including [imputation](../analysis/20170518_Imputation_Summary.html), [annotation + formatting](../analysis/20170515_V7_RNASeq_Preprocessing.html) and a number of other [bioinformatics steps](../pipeline/Pipelines.html). We also have created [simulation data](../analysis/MR_ASH_Simulation.html) based on GTEx. [Here](../analysis/MR_ASH_Example.html) is how to run `mr-ash` on these real / simulated data-sets we created.\n",
    "\n",
    "[Initial results](../analysis/20170630_Simulation_Results.html) from simulated data is mostly encouraging but we've observed that `mr-ash` tend to over-shrinks when the signals are dense."
   ]
  },
  {
   "cell_type": "markdown",
   "metadata": {},
   "source": [
    "## Multivariate analysis"
   ]
  },
  {
   "cell_type": "markdown",
   "metadata": {},
   "source": [
    "![](figures/m-yellow.png)"
   ]
  },
  {
   "cell_type": "markdown",
   "metadata": {},
   "source": [
    "For the multivariate part, we've continued to make improvements to [`mashr`](https://github.com/stephenslab/mashr) (credit to [Matthew](http://stephenslab.uchicago.edu/)) that makes it [potentially suitable](../analysis/20170615_MASHR_Benchmark.html) for the scale of the GTEx project that now has > 50 tissues and possibly multiple eQTL's per gene for ~20K genes."
   ]
  },
  {
   "cell_type": "markdown",
   "metadata": {},
   "source": [
    "## Project meetings\n",
    "\n",
    "[Here](writeup/Meetings.html) is minutes for project meetings."
   ]
  }
 ],
 "metadata": {
  "kernelspec": {
   "display_name": "SoS",
   "language": "sos",
   "name": "sos"
  },
  "language_info": {
   "codemirror_mode": "sos",
   "file_extension": ".sos",
   "mimetype": "text/x-sos",
   "name": "sos",
   "nbconvert_exporter": "sos.jupyter.converter.SoS_Exporter",
   "pygments_lexer": "sos"
  },
  "sos": {
   "celltoolbar": true,
   "kernels": [
    [
     "ir",
     "ir",
     "",
     ""
    ],
    [
     "SoS",
     "sos",
     "",
     ""
    ],
    [
     "Python3",
     "python3",
     "Python3",
     "#EAFAF1"
    ]
   ],
   "panel": {
    "displayed": true,
    "height": 0,
    "style": "side"
   }
  }
 },
 "nbformat": 4,
 "nbformat_minor": 2
}
