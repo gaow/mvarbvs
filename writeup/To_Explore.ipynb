{
 "cells": [
  {
   "cell_type": "markdown",
   "metadata": {
    "kernel": "SoS"
   },
   "source": [
    "# To explore"
   ]
  },
  {
   "cell_type": "markdown",
   "metadata": {
    "kernel": "SoS"
   },
   "source": [
    "A note to particular issues I'd like to have vignettes for to clarify.\n"
   ]
  },
  {
   "cell_type": "code",
   "execution_count": 1,
   "metadata": {
    "kernel": "SoS"
   },
   "outputs": [
    {
     "data": {
      "text/html": [
       "\n",
       "        <table class=\"revision_table\">\n",
       "        <tr>\n",
       "        <th>Revision</th>\n",
       "        <th>Author</th>\n",
       "        <th>Date</th>\n",
       "        <th>Message</th>\n",
       "        <tr>\n",
       "        <tr><td><a target=\"_blank\" href=\"https://github.com/gaow/mvarbvs/blob/e14a9ecfb1e5f31d2732462901ee749c656ba941/To_Explore.ipynb\"><span class=\"revision_id\">e14a9ec<span></a></td>\n",
       "<td>Gao Wang</td>\n",
       "<td>2018-06-22</td>\n",
       "<td>Reorgnize size vs purity plot layout</td></tr><tr><td><a target=\"_blank\" href=\"https://github.com/gaow/mvarbvs/blob/ce631b9a303981893b974a6861ac0e098593d60f/To_Explore.ipynb\"><span class=\"revision_id\">ce631b9<span></a></td>\n",
       "<td>Gao Wang</td>\n",
       "<td>2018-06-22</td>\n",
       "<td>Add discussion & exploritory items</td></tr></table>"
      ]
     },
     "metadata": {},
     "output_type": "display_data"
    }
   ],
   "source": [
    "%revisions -s"
   ]
  },
  {
   "cell_type": "markdown",
   "metadata": {
    "kernel": "SoS"
   },
   "source": [
    "## To illustrate susie itself\n",
    "\n",
    "- [] How susie behaves when the top SNP is not the causal signal.\n",
    "- [] How susie copes with subtle difference in tightly correlated variants. \n",
    "    - with SER is perhaps enough, and provide some back-of-envelope BF computations.\n",
    "    - Look in N = 1 simulations of high LD > 0.95, PIP difference > 0.8. This may also indicate small difference in z-score anyways.\n",
    "- [] Independent signals in high LD region.\n",
    "- [] Small size yet low purity.\n",
    "- [] Show susie iteration gradual convergence.\n",
    "    - Look in N = 2 simulations of small CS size yet large number of iterations.\n",
    "- [] Show why susie can pick up one variable twice.\n",
    "- [] Show why susie captures two same signals in two iterations.\n",
    "\n",
    "## To illustrate susie with other methods\n",
    "\n",
    "- [X] A vignette showing finemapping analysis with other methods and compare PIP results with susie\n",
    "- [] Comparison of susie iterations with step-wise conditional regression.\n",
    "- [] Comparison of susie with SER. This would be a special case of above.\n",
    "\n",
    "## Questions\n",
    "1. Issues in reporting independent signals: duplicated? near by clusters? Should assess correlation between CS before reporting and how?\n",
    "2. How does multiple-testing come into play here?\n",
    "3. How does the prior setting actually reflects prior on number of causal as FINEMAP does it?"
   ]
  }
 ],
 "metadata": {
  "kernelspec": {
   "display_name": "SoS",
   "language": "sos",
   "name": "sos"
  },
  "language_info": {
   "codemirror_mode": "sos",
   "file_extension": ".sos",
   "mimetype": "text/x-sos",
   "name": "sos",
   "nbconvert_exporter": "sos_notebook.converter.SoS_Exporter",
   "pygments_lexer": "sos"
  },
  "sos": {
   "default_kernel": "SoS",
   "kernels": [
    [
     "SoS",
     "sos",
     "",
     ""
    ]
   ]
  }
 },
 "nbformat": 4,
 "nbformat_minor": 2
}
