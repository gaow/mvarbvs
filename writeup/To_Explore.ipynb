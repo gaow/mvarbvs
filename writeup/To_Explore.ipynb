{
 "cells": [
  {
   "cell_type": "markdown",
   "metadata": {},
   "source": [
    "# To explore"
   ]
  },
  {
   "cell_type": "markdown",
   "metadata": {},
   "source": [
    "A note to particular issues I'd like to have vignettes for to clarify.\n"
   ]
  },
  {
   "cell_type": "markdown",
   "metadata": {},
   "source": [
    "To illustrate\n",
    "\n",
    "1. How susie behaves when the top SNP is not the causal signal.\n",
    "2. Comparison of susie iterations with step-wise conditional regression, in GIF.\n",
    "3. Comparison of susie with SER in GIF.\n",
    "4. How susie copes with subtle difference in tightly correlated variants.\n",
    "5. Independent signals in high LD region.\n",
    "\n",
    "To think about:\n",
    "\n",
    "1. How does the prior setting actually reflects number of causal belief the way BIMBAM does it (coded to prior variance)?"
   ]
  }
 ],
 "metadata": {
  "kernelspec": {
   "display_name": "SoS",
   "language": "sos",
   "name": "sos"
  },
  "language_info": {
   "codemirror_mode": "sos",
   "file_extension": ".sos",
   "mimetype": "text/x-sos",
   "name": "sos",
   "nbconvert_exporter": "sos_notebook.converter.SoS_Exporter",
   "pygments_lexer": "sos"
  },
  "sos": {
   "default_kernel": "SoS",
   "kernels": [
    [
     "SoS",
     "sos",
     "",
     ""
    ]
   ]
  }
 },
 "nbformat": 4,
 "nbformat_minor": 2
}
